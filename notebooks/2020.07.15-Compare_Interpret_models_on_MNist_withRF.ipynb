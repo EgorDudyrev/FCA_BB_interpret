{
 "cells": [
  {
   "cell_type": "code",
   "execution_count": 1,
   "metadata": {},
   "outputs": [
    {
     "data": {
      "text/html": [
       "<style>.container { width:90% !important; }</style>"
      ],
      "text/plain": [
       "<IPython.core.display.HTML object>"
      ]
     },
     "metadata": {},
     "output_type": "display_data"
    }
   ],
   "source": [
    "import numpy as np\n",
    "import pandas as pd\n",
    "\n",
    "from catboost import CatBoostClassifier, Pool, CatBoostRegressor\n",
    "from sklearn.model_selection import train_test_split\n",
    "from sklearn.metrics import accuracy_score, precision_score, recall_score\n",
    "\n",
    "from IPython.core.display import display, HTML\n",
    "display(HTML(\"<style>.container { width:90% !important; }</style>\"))\n",
    "\n",
    "import os\n",
    "import sys\n",
    "BASE_PATH = os.path.realpath('..')\n",
    "DATASETS_DIR = os.path.join(BASE_PATH, 'datasets')\n",
    "LIB_DIR = os.path.join(BASE_PATH,'lib')\n",
    "if LIB_DIR[:-3] not in sys.path:\n",
    "    sys.path.append(LIB_DIR[:-3])\n",
    "\n",
    "import matplotlib.pyplot as plt\n",
    "import seaborn as sns\n",
    "from tqdm.notebook import tqdm\n",
    "\n",
    "from importlib import reload"
   ]
  },
  {
   "cell_type": "code",
   "execution_count": 2,
   "metadata": {},
   "outputs": [],
   "source": [
    "RESULTS_DIR = os.path.join(BASE_PATH, 'results')"
   ]
  },
  {
   "cell_type": "code",
   "execution_count": 3,
   "metadata": {},
   "outputs": [],
   "source": [
    "from lib import fca_interp as fcai"
   ]
  },
  {
   "cell_type": "code",
   "execution_count": 4,
   "metadata": {},
   "outputs": [],
   "source": [
    "from lib.utils_ import powerset"
   ]
  },
  {
   "cell_type": "code",
   "execution_count": 5,
   "metadata": {},
   "outputs": [],
   "source": [
    "from importlib import reload"
   ]
  },
  {
   "cell_type": "code",
   "execution_count": 6,
   "metadata": {},
   "outputs": [],
   "source": [
    "from sklearn.datasets import load_boston"
   ]
  },
  {
   "cell_type": "code",
   "execution_count": 7,
   "metadata": {},
   "outputs": [],
   "source": [
    "from copy import copy, deepcopy"
   ]
  },
  {
   "cell_type": "markdown",
   "metadata": {},
   "source": [
    "# Load Data"
   ]
  },
  {
   "cell_type": "code",
   "execution_count": 8,
   "metadata": {},
   "outputs": [
    {
     "name": "stderr",
     "output_type": "stream",
     "text": [
      "Using TensorFlow backend.\n"
     ]
    }
   ],
   "source": [
    "from keras.datasets import mnist"
   ]
  },
  {
   "cell_type": "code",
   "execution_count": 9,
   "metadata": {},
   "outputs": [],
   "source": [
    "img_rows, img_cols = 28, 28"
   ]
  },
  {
   "cell_type": "code",
   "execution_count": 10,
   "metadata": {},
   "outputs": [
    {
     "name": "stdout",
     "output_type": "stream",
     "text": [
      "Downloading data from https://s3.amazonaws.com/img-datasets/mnist.npz\n",
      "11493376/11490434 [==============================] - 15s 1us/step\n"
     ]
    }
   ],
   "source": [
    "# the data, split between train and test sets\n",
    "(x_train, y_train), (x_test, y_test) = mnist.load_data()"
   ]
  },
  {
   "cell_type": "code",
   "execution_count": 11,
   "metadata": {},
   "outputs": [],
   "source": [
    "x_test = x_test.astype('float32')\n",
    "x_test /= 255"
   ]
  },
  {
   "cell_type": "code",
   "execution_count": 12,
   "metadata": {},
   "outputs": [
    {
     "data": {
      "text/plain": [
       "(10000, 784)"
      ]
     },
     "execution_count": 12,
     "metadata": {},
     "output_type": "execute_result"
    }
   ],
   "source": [
    "x_test_flat = x_test.reshape(-1, img_rows*img_cols)\n",
    "x_test_flat.shape"
   ]
  },
  {
   "cell_type": "markdown",
   "metadata": {},
   "source": [
    "## CatBoost"
   ]
  },
  {
   "cell_type": "code",
   "execution_count": 13,
   "metadata": {},
   "outputs": [],
   "source": [
    "from catboost import CatBoostClassifier, Pool"
   ]
  },
  {
   "cell_type": "code",
   "execution_count": 14,
   "metadata": {},
   "outputs": [],
   "source": [
    "cb = CatBoostClassifier()"
   ]
  },
  {
   "cell_type": "code",
   "execution_count": 15,
   "metadata": {},
   "outputs": [
    {
     "data": {
      "text/plain": [
       "<catboost.core.CatBoostClassifier at 0x7f634f98ef10>"
      ]
     },
     "execution_count": 15,
     "metadata": {},
     "output_type": "execute_result"
    }
   ],
   "source": [
    "cb.load_model('cb_mnist_2020.06.06.model')"
   ]
  },
  {
   "cell_type": "code",
   "execution_count": 16,
   "metadata": {},
   "outputs": [
    {
     "data": {
      "text/plain": [
       "array([7, 2, 1, ..., 4, 5, 6])"
      ]
     },
     "execution_count": 16,
     "metadata": {},
     "output_type": "execute_result"
    }
   ],
   "source": [
    "cb.predict(x_test_flat).flatten()"
   ]
  },
  {
   "cell_type": "markdown",
   "metadata": {},
   "source": [
    "## SVC"
   ]
  },
  {
   "cell_type": "code",
   "execution_count": 17,
   "metadata": {},
   "outputs": [],
   "source": [
    "import pickle"
   ]
  },
  {
   "cell_type": "code",
   "execution_count": 18,
   "metadata": {},
   "outputs": [],
   "source": [
    "with open('svc_mnist_2020.06.06.pickle', 'rb') as f:\n",
    "    svc = pickle.load(f)"
   ]
  },
  {
   "cell_type": "code",
   "execution_count": 19,
   "metadata": {},
   "outputs": [
    {
     "data": {
      "text/plain": [
       "array([7, 2, 1, 0, 4, 1, 4, 9, 6, 9], dtype=uint8)"
      ]
     },
     "execution_count": 19,
     "metadata": {},
     "output_type": "execute_result"
    }
   ],
   "source": [
    "svc.predict(x_test_flat[:10])"
   ]
  },
  {
   "cell_type": "markdown",
   "metadata": {},
   "source": [
    "## NN"
   ]
  },
  {
   "cell_type": "code",
   "execution_count": 20,
   "metadata": {},
   "outputs": [],
   "source": [
    "from tensorflow import keras"
   ]
  },
  {
   "cell_type": "code",
   "execution_count": 21,
   "metadata": {},
   "outputs": [],
   "source": [
    "model = keras.models.load_model('nn_mnist_2020.06.06.pickle')"
   ]
  },
  {
   "cell_type": "code",
   "execution_count": 22,
   "metadata": {},
   "outputs": [],
   "source": [
    "x_test_nn = x_test.reshape(x_test.shape[0], img_rows, img_cols, 1)"
   ]
  },
  {
   "cell_type": "code",
   "execution_count": 23,
   "metadata": {},
   "outputs": [
    {
     "data": {
      "text/plain": [
       "array([7, 2, 1, ..., 4, 5, 6])"
      ]
     },
     "execution_count": 23,
     "metadata": {},
     "output_type": "execute_result"
    }
   ],
   "source": [
    "model.predict_classes(x_test_nn)"
   ]
  },
  {
   "cell_type": "code",
   "execution_count": null,
   "metadata": {},
   "outputs": [],
   "source": []
  },
  {
   "cell_type": "code",
   "execution_count": 24,
   "metadata": {},
   "outputs": [],
   "source": [
    "preds_ds = pd.read_csv(DATASETS_DIR+'/mnist_ds_preds_2020.06.06.csv', index_col=0)\n",
    "preds_ds.index = preds_ds.index.astype(str)"
   ]
  },
  {
   "cell_type": "code",
   "execution_count": 25,
   "metadata": {},
   "outputs": [],
   "source": [
    "preds_ds['y'] = y_test"
   ]
  },
  {
   "cell_type": "code",
   "execution_count": 26,
   "metadata": {},
   "outputs": [
    {
     "data": {
      "text/html": [
       "<div>\n",
       "<style scoped>\n",
       "    .dataframe tbody tr th:only-of-type {\n",
       "        vertical-align: middle;\n",
       "    }\n",
       "\n",
       "    .dataframe tbody tr th {\n",
       "        vertical-align: top;\n",
       "    }\n",
       "\n",
       "    .dataframe thead th {\n",
       "        text-align: right;\n",
       "    }\n",
       "</style>\n",
       "<table border=\"1\" class=\"dataframe\">\n",
       "  <thead>\n",
       "    <tr style=\"text-align: right;\">\n",
       "      <th></th>\n",
       "      <th>preds_cb</th>\n",
       "      <th>preds_svc</th>\n",
       "      <th>preds_nn</th>\n",
       "      <th>y</th>\n",
       "    </tr>\n",
       "  </thead>\n",
       "  <tbody>\n",
       "    <tr>\n",
       "      <th>0</th>\n",
       "      <td>7</td>\n",
       "      <td>7</td>\n",
       "      <td>7</td>\n",
       "      <td>7</td>\n",
       "    </tr>\n",
       "    <tr>\n",
       "      <th>1</th>\n",
       "      <td>2</td>\n",
       "      <td>2</td>\n",
       "      <td>2</td>\n",
       "      <td>2</td>\n",
       "    </tr>\n",
       "    <tr>\n",
       "      <th>2</th>\n",
       "      <td>1</td>\n",
       "      <td>1</td>\n",
       "      <td>1</td>\n",
       "      <td>1</td>\n",
       "    </tr>\n",
       "    <tr>\n",
       "      <th>3</th>\n",
       "      <td>0</td>\n",
       "      <td>0</td>\n",
       "      <td>0</td>\n",
       "      <td>0</td>\n",
       "    </tr>\n",
       "    <tr>\n",
       "      <th>4</th>\n",
       "      <td>4</td>\n",
       "      <td>4</td>\n",
       "      <td>4</td>\n",
       "      <td>4</td>\n",
       "    </tr>\n",
       "    <tr>\n",
       "      <th>...</th>\n",
       "      <td>...</td>\n",
       "      <td>...</td>\n",
       "      <td>...</td>\n",
       "      <td>...</td>\n",
       "    </tr>\n",
       "    <tr>\n",
       "      <th>9995</th>\n",
       "      <td>2</td>\n",
       "      <td>2</td>\n",
       "      <td>2</td>\n",
       "      <td>2</td>\n",
       "    </tr>\n",
       "    <tr>\n",
       "      <th>9996</th>\n",
       "      <td>3</td>\n",
       "      <td>3</td>\n",
       "      <td>3</td>\n",
       "      <td>3</td>\n",
       "    </tr>\n",
       "    <tr>\n",
       "      <th>9997</th>\n",
       "      <td>4</td>\n",
       "      <td>4</td>\n",
       "      <td>4</td>\n",
       "      <td>4</td>\n",
       "    </tr>\n",
       "    <tr>\n",
       "      <th>9998</th>\n",
       "      <td>5</td>\n",
       "      <td>5</td>\n",
       "      <td>5</td>\n",
       "      <td>5</td>\n",
       "    </tr>\n",
       "    <tr>\n",
       "      <th>9999</th>\n",
       "      <td>6</td>\n",
       "      <td>6</td>\n",
       "      <td>6</td>\n",
       "      <td>6</td>\n",
       "    </tr>\n",
       "  </tbody>\n",
       "</table>\n",
       "<p>10000 rows × 4 columns</p>\n",
       "</div>"
      ],
      "text/plain": [
       "      preds_cb  preds_svc  preds_nn  y\n",
       "0            7          7         7  7\n",
       "1            2          2         2  2\n",
       "2            1          1         1  1\n",
       "3            0          0         0  0\n",
       "4            4          4         4  4\n",
       "...        ...        ...       ... ..\n",
       "9995         2          2         2  2\n",
       "9996         3          3         3  3\n",
       "9997         4          4         4  4\n",
       "9998         5          5         5  5\n",
       "9999         6          6         6  6\n",
       "\n",
       "[10000 rows x 4 columns]"
      ]
     },
     "execution_count": 26,
     "metadata": {},
     "output_type": "execute_result"
    }
   ],
   "source": [
    "preds_ds"
   ]
  },
  {
   "cell_type": "markdown",
   "metadata": {},
   "source": [
    "# Compare BB with FCA"
   ]
  },
  {
   "cell_type": "code",
   "execution_count": 28,
   "metadata": {},
   "outputs": [
    {
     "name": "stdout",
     "output_type": "stream",
     "text": [
      "(10000, 784)\n"
     ]
    },
    {
     "data": {
      "text/html": [
       "<div>\n",
       "<style scoped>\n",
       "    .dataframe tbody tr th:only-of-type {\n",
       "        vertical-align: middle;\n",
       "    }\n",
       "\n",
       "    .dataframe tbody tr th {\n",
       "        vertical-align: top;\n",
       "    }\n",
       "\n",
       "    .dataframe thead th {\n",
       "        text-align: right;\n",
       "    }\n",
       "</style>\n",
       "<table border=\"1\" class=\"dataframe\">\n",
       "  <thead>\n",
       "    <tr style=\"text-align: right;\">\n",
       "      <th></th>\n",
       "      <th>(0,0)</th>\n",
       "      <th>(0,1)</th>\n",
       "      <th>(0,2)</th>\n",
       "      <th>(0,3)</th>\n",
       "      <th>(0,4)</th>\n",
       "      <th>(0,5)</th>\n",
       "      <th>(0,6)</th>\n",
       "      <th>(0,7)</th>\n",
       "      <th>(0,8)</th>\n",
       "      <th>(0,9)</th>\n",
       "      <th>...</th>\n",
       "      <th>(27,18)</th>\n",
       "      <th>(27,19)</th>\n",
       "      <th>(27,20)</th>\n",
       "      <th>(27,21)</th>\n",
       "      <th>(27,22)</th>\n",
       "      <th>(27,23)</th>\n",
       "      <th>(27,24)</th>\n",
       "      <th>(27,25)</th>\n",
       "      <th>(27,26)</th>\n",
       "      <th>(27,27)</th>\n",
       "    </tr>\n",
       "  </thead>\n",
       "  <tbody>\n",
       "    <tr>\n",
       "      <th>0</th>\n",
       "      <td>0.0</td>\n",
       "      <td>0.0</td>\n",
       "      <td>0.0</td>\n",
       "      <td>0.0</td>\n",
       "      <td>0.0</td>\n",
       "      <td>0.0</td>\n",
       "      <td>0.0</td>\n",
       "      <td>0.0</td>\n",
       "      <td>0.0</td>\n",
       "      <td>0.0</td>\n",
       "      <td>...</td>\n",
       "      <td>0.0</td>\n",
       "      <td>0.0</td>\n",
       "      <td>0.0</td>\n",
       "      <td>0.0</td>\n",
       "      <td>0.0</td>\n",
       "      <td>0.0</td>\n",
       "      <td>0.0</td>\n",
       "      <td>0.0</td>\n",
       "      <td>0.0</td>\n",
       "      <td>0.0</td>\n",
       "    </tr>\n",
       "    <tr>\n",
       "      <th>1</th>\n",
       "      <td>0.0</td>\n",
       "      <td>0.0</td>\n",
       "      <td>0.0</td>\n",
       "      <td>0.0</td>\n",
       "      <td>0.0</td>\n",
       "      <td>0.0</td>\n",
       "      <td>0.0</td>\n",
       "      <td>0.0</td>\n",
       "      <td>0.0</td>\n",
       "      <td>0.0</td>\n",
       "      <td>...</td>\n",
       "      <td>0.0</td>\n",
       "      <td>0.0</td>\n",
       "      <td>0.0</td>\n",
       "      <td>0.0</td>\n",
       "      <td>0.0</td>\n",
       "      <td>0.0</td>\n",
       "      <td>0.0</td>\n",
       "      <td>0.0</td>\n",
       "      <td>0.0</td>\n",
       "      <td>0.0</td>\n",
       "    </tr>\n",
       "    <tr>\n",
       "      <th>2</th>\n",
       "      <td>0.0</td>\n",
       "      <td>0.0</td>\n",
       "      <td>0.0</td>\n",
       "      <td>0.0</td>\n",
       "      <td>0.0</td>\n",
       "      <td>0.0</td>\n",
       "      <td>0.0</td>\n",
       "      <td>0.0</td>\n",
       "      <td>0.0</td>\n",
       "      <td>0.0</td>\n",
       "      <td>...</td>\n",
       "      <td>0.0</td>\n",
       "      <td>0.0</td>\n",
       "      <td>0.0</td>\n",
       "      <td>0.0</td>\n",
       "      <td>0.0</td>\n",
       "      <td>0.0</td>\n",
       "      <td>0.0</td>\n",
       "      <td>0.0</td>\n",
       "      <td>0.0</td>\n",
       "      <td>0.0</td>\n",
       "    </tr>\n",
       "    <tr>\n",
       "      <th>3</th>\n",
       "      <td>0.0</td>\n",
       "      <td>0.0</td>\n",
       "      <td>0.0</td>\n",
       "      <td>0.0</td>\n",
       "      <td>0.0</td>\n",
       "      <td>0.0</td>\n",
       "      <td>0.0</td>\n",
       "      <td>0.0</td>\n",
       "      <td>0.0</td>\n",
       "      <td>0.0</td>\n",
       "      <td>...</td>\n",
       "      <td>0.0</td>\n",
       "      <td>0.0</td>\n",
       "      <td>0.0</td>\n",
       "      <td>0.0</td>\n",
       "      <td>0.0</td>\n",
       "      <td>0.0</td>\n",
       "      <td>0.0</td>\n",
       "      <td>0.0</td>\n",
       "      <td>0.0</td>\n",
       "      <td>0.0</td>\n",
       "    </tr>\n",
       "    <tr>\n",
       "      <th>4</th>\n",
       "      <td>0.0</td>\n",
       "      <td>0.0</td>\n",
       "      <td>0.0</td>\n",
       "      <td>0.0</td>\n",
       "      <td>0.0</td>\n",
       "      <td>0.0</td>\n",
       "      <td>0.0</td>\n",
       "      <td>0.0</td>\n",
       "      <td>0.0</td>\n",
       "      <td>0.0</td>\n",
       "      <td>...</td>\n",
       "      <td>0.0</td>\n",
       "      <td>0.0</td>\n",
       "      <td>0.0</td>\n",
       "      <td>0.0</td>\n",
       "      <td>0.0</td>\n",
       "      <td>0.0</td>\n",
       "      <td>0.0</td>\n",
       "      <td>0.0</td>\n",
       "      <td>0.0</td>\n",
       "      <td>0.0</td>\n",
       "    </tr>\n",
       "  </tbody>\n",
       "</table>\n",
       "<p>5 rows × 784 columns</p>\n",
       "</div>"
      ],
      "text/plain": [
       "   (0,0)  (0,1)  (0,2)  (0,3)  (0,4)  (0,5)  (0,6)  (0,7)  (0,8)  (0,9)  ...  \\\n",
       "0    0.0    0.0    0.0    0.0    0.0    0.0    0.0    0.0    0.0    0.0  ...   \n",
       "1    0.0    0.0    0.0    0.0    0.0    0.0    0.0    0.0    0.0    0.0  ...   \n",
       "2    0.0    0.0    0.0    0.0    0.0    0.0    0.0    0.0    0.0    0.0  ...   \n",
       "3    0.0    0.0    0.0    0.0    0.0    0.0    0.0    0.0    0.0    0.0  ...   \n",
       "4    0.0    0.0    0.0    0.0    0.0    0.0    0.0    0.0    0.0    0.0  ...   \n",
       "\n",
       "   (27,18)  (27,19)  (27,20)  (27,21)  (27,22)  (27,23)  (27,24)  (27,25)  \\\n",
       "0      0.0      0.0      0.0      0.0      0.0      0.0      0.0      0.0   \n",
       "1      0.0      0.0      0.0      0.0      0.0      0.0      0.0      0.0   \n",
       "2      0.0      0.0      0.0      0.0      0.0      0.0      0.0      0.0   \n",
       "3      0.0      0.0      0.0      0.0      0.0      0.0      0.0      0.0   \n",
       "4      0.0      0.0      0.0      0.0      0.0      0.0      0.0      0.0   \n",
       "\n",
       "   (27,26)  (27,27)  \n",
       "0      0.0      0.0  \n",
       "1      0.0      0.0  \n",
       "2      0.0      0.0  \n",
       "3      0.0      0.0  \n",
       "4      0.0      0.0  \n",
       "\n",
       "[5 rows x 784 columns]"
      ]
     },
     "execution_count": 28,
     "metadata": {},
     "output_type": "execute_result"
    }
   ],
   "source": [
    "ds = pd.DataFrame(x_test_flat)\n",
    "#ds = ds.astype(int)\n",
    "print(ds.shape)\n",
    "ds.columns = [f\"({y},{x})\" for y in range(img_rows) for x in range(img_cols)]\n",
    "ds.index = ds.index.astype(str)\n",
    "ds.head()"
   ]
  },
  {
   "cell_type": "code",
   "execution_count": 29,
   "metadata": {},
   "outputs": [],
   "source": [
    "ds = ds.head(1000)"
   ]
  },
  {
   "cell_type": "code",
   "execution_count": null,
   "metadata": {},
   "outputs": [],
   "source": []
  },
  {
   "cell_type": "code",
   "execution_count": 30,
   "metadata": {},
   "outputs": [],
   "source": [
    "from lib import pattern_structure"
   ]
  },
  {
   "cell_type": "code",
   "execution_count": 104,
   "metadata": {},
   "outputs": [],
   "source": [
    "pattern_structure = reload(pattern_structure)\n",
    "fcai = reload(fcai)"
   ]
  },
  {
   "cell_type": "code",
   "execution_count": 105,
   "metadata": {},
   "outputs": [],
   "source": [
    "mvcntx = fcai.MultiValuedContext(ds, cat_attrs=[], y_true=preds_ds.loc[ds.index, 'y'])\n",
    "fm = fcai.FormalManager(mvcntx)"
   ]
  },
  {
   "cell_type": "code",
   "execution_count": 41,
   "metadata": {},
   "outputs": [],
   "source": [
    "def intent_to_picture(int_, columns):\n",
    "    return np.array([np.mean(int_.get(x,0)) for x in columns]).reshape(img_rows, img_cols)"
   ]
  },
  {
   "cell_type": "raw",
   "metadata": {},
   "source": [
    "plt.imshow(intent_to_picture(fm.get_concept_by_id(100).get_intent(), ds.columns))"
   ]
  },
  {
   "cell_type": "markdown",
   "metadata": {},
   "source": [
    "# Сравнение"
   ]
  },
  {
   "cell_type": "markdown",
   "metadata": {},
   "source": [
    "## Внутри каждой конкретной кросс валидации"
   ]
  },
  {
   "cell_type": "code",
   "execution_count": 43,
   "metadata": {},
   "outputs": [],
   "source": [
    "from sklearn.linear_model import LogisticRegression\n",
    "from sklearn.tree import DecisionTreeClassifier"
   ]
  },
  {
   "cell_type": "markdown",
   "metadata": {},
   "source": [
    "Модели для сравнения:\n",
    "* Logistic regression\n",
    "* Decision Tree small\n",
    "* Decision Tree full\n",
    "* GAM (?)\n",
    "* \n",
    "\n",
    "Что сравниваем:\n",
    "* Feature Importance\n",
    "* Качество предсказаний на обучающей выборке\n",
    "* Качество предсказаний на тестовой выборке\n",
    "* Качество предсказаний предсказаний модели на обучающей выборке\n",
    "* Качество предсказаний предсказаний модели на тестовой выборке\n",
    "\n",
    "Сравнение проводим для каждого чёрного ящика:\n",
    "* CatBoost\n",
    "* SVC\n",
    "* Neural Network"
   ]
  },
  {
   "cell_type": "code",
   "execution_count": 44,
   "metadata": {},
   "outputs": [],
   "source": [
    "bb_types = ['cb','nn','svc']"
   ]
  },
  {
   "cell_type": "code",
   "execution_count": 45,
   "metadata": {},
   "outputs": [],
   "source": [
    "from sklearn.metrics import f1_score"
   ]
  },
  {
   "cell_type": "code",
   "execution_count": 46,
   "metadata": {},
   "outputs": [],
   "source": [
    "def get_fimps_cb(ds_train, cb):\n",
    "    sv = cb.get_feature_importance(Pool(ds_train[cat_feats+real_feats], preds_ds.loc[ds_train.index, 'preds_cb'],  cat_features=cat_feats), 'ShapValues')\n",
    "    sv_ds = pd.DataFrame(sv, columns=cat_feats+real_feats+['bias']).drop('bias',1)\n",
    "    fimps_sv = sv_ds.abs().median().sort_values(ascending=False)\n",
    "    return fimps_sv"
   ]
  },
  {
   "cell_type": "code",
   "execution_count": 47,
   "metadata": {},
   "outputs": [],
   "source": [
    "def get_fimps_nn(ds_train, model):\n",
    "    explainer = shap.DeepExplainer(model, ds_train.values)\n",
    "    sv = explainer.shap_values(ds_train.values)[0]\n",
    "    sv_ds = pd.DataFrame(sv, columns=ds_train.columns)\n",
    "    \n",
    "    fimps_sv = sv_ds.abs().median().reset_index()\n",
    "    fimps_sv.columns = ['feature_ohe','sv']\n",
    "    fimps_sv['feature'] = [x.split('__')[0] if '__' in x else x for x in fimps_sv['feature_ohe']]\n",
    "    fimps_sv['sv_abs'] = fimps_sv['sv'].abs()\n",
    "    fimps_sv = fimps_sv.groupby('feature')['sv_abs'].sum()\n",
    "    #fimps_sv.sort_values(ascending=False)\n",
    "    return fimps_sv"
   ]
  },
  {
   "cell_type": "code",
   "execution_count": 48,
   "metadata": {},
   "outputs": [],
   "source": [
    "def get_fimps_svc(ds_train, svc, k=10, nsamples=10):\n",
    "    svds = shap.kmeans(ds_train, k)\n",
    "    explainer =shap.KernelExplainer(svc.predict, svds)\n",
    "    sv = explainer.shap_values(ds_train.values, nsamples=nsamples)\n",
    "    \n",
    "    sv_ds = pd.DataFrame(sv, columns=ds_train.columns)\n",
    "\n",
    "    fimps_sv = sv_ds.abs().median().reset_index()\n",
    "    fimps_sv.columns = ['feature_ohe','sv']\n",
    "    fimps_sv['feature'] = [x.split('__')[0] if '__' in x else x for x in fimps_sv['feature_ohe']]\n",
    "    fimps_sv['sv_abs'] = fimps_sv['sv'].abs()\n",
    "    fimps_sv = fimps_sv.groupby('feature')['sv_abs'].sum()\n",
    "    return fimps_sv"
   ]
  },
  {
   "cell_type": "code",
   "execution_count": 49,
   "metadata": {},
   "outputs": [],
   "source": [
    "def get_fimps_lr(ds_train, lr):\n",
    "    fimps_lr = pd.Series(lr.coef_[0], index=ds_train.columns).reset_index()\n",
    "    fimps_lr.columns = ['feature_ohe','sv']\n",
    "    fimps_lr['feature'] = [x.split('__')[0] if '__' in x else x for x in fimps_lr['feature_ohe']]\n",
    "    fimps_lr['sv_abs'] = fimps_lr['sv'].abs()\n",
    "    fimps_lr = fimps_lr.groupby('feature')['sv_abs'].sum()\n",
    "    return fimps_lr"
   ]
  },
  {
   "cell_type": "code",
   "execution_count": 106,
   "metadata": {},
   "outputs": [],
   "source": [
    "def test_lr(ds, preds_ds, train_idxs_cv, test_idxs_cv, bb_types):\n",
    "    stat = {}\n",
    "    \n",
    "    lr = LogisticRegression()\n",
    "    lr.fit(ds.loc[train_idxs_cv], preds_ds.loc[train_idxs_cv, 'y'])\n",
    "    preds_test_real = lr.predict(ds.loc[test_idxs_cv])\n",
    "    stat[f\"acc_test_real_lr\"] = accuracy_score(preds_ds.loc[test_idxs_cv,'y'], preds_test_real)\n",
    "    #stat[f\"f1_test_real_lr\"] = f1_score(preds_ds.loc[test_idxs_cv,'y'], preds_test_real)\n",
    "\n",
    "    for bb_type in bb_types:\n",
    "        lr = LogisticRegression()\n",
    "        lr.fit(ds.loc[train_idxs_cv], preds_ds.loc[train_idxs_cv, f'preds_{bb_type}'])\n",
    "        preds_train_bb = lr.predict(ds.loc[train_idxs_cv])\n",
    "        preds_test_bb = lr.predict(ds.loc[test_idxs_cv])\n",
    "\n",
    "        stat[f\"{bb_type}_acc_train_bb_lr\"] = accuracy_score(preds_ds.loc[train_idxs_cv,f'preds_{bb_type}'], preds_train_bb)\n",
    "        stat[f\"{bb_type}_acc_test_bb_lr\"] = accuracy_score(preds_ds.loc[test_idxs_cv,f'preds_{bb_type}'], preds_test_bb)\n",
    "        #stat[f\"{bb_type}_f1_train_bb_lr\"] = f1_score(preds_ds.loc[train_idxs_cv,f'preds_{bb_type}'], preds_train_bb)\n",
    "        #stat[f\"{bb_type}_f1_test_bb_lr\"] = f1_score(preds_ds.loc[test_idxs_cv,f'preds_{bb_type}'], preds_test_bb)\n",
    "        #stat[f\"{bb_type}_lr_fimps\"] =  get_fimps_lr(ds, lr)\n",
    "    \n",
    "    return stat"
   ]
  },
  {
   "cell_type": "code",
   "execution_count": 107,
   "metadata": {},
   "outputs": [],
   "source": [
    "def test_dts(ds, preds_ds, train_idxs_cv, test_idxs_cv, bb_types):\n",
    "    dt_small = DecisionTreeClassifier(max_depth=5)\n",
    "    dt_small.fit(ds.loc[train_idxs_cv], preds_ds.loc[train_idxs_cv,'y'])\n",
    "    preds_test_real = dt_small.predict(ds.loc[test_idxs_cv])\n",
    "    stat = {}\n",
    "    stat[f\"acc_test_real_dts\"] = accuracy_score(preds_ds.loc[test_idxs_cv,'y'], preds_test_real)\n",
    "    #stat[f\"f1_test_real_dts\"] = f1_score(preds_ds.loc[test_idxs_cv,'y'], preds_test_real)\n",
    "\n",
    "    for bb_type in bb_types:\n",
    "        dt_small = DecisionTreeClassifier(max_depth=5)\n",
    "        dt_small.fit(ds.loc[train_idxs_cv], preds_ds.loc[train_idxs_cv, f\"preds_{bb_type}\"])\n",
    "        preds_train_bb = dt_small.predict(ds.loc[train_idxs_cv])\n",
    "        preds_test_bb = dt_small.predict(ds.loc[test_idxs_cv])\n",
    "\n",
    "        fimps_dts = pd.Series(dt_small.feature_importances_, index=ds.columns)\n",
    "\n",
    "        stat[f\"{bb_type}_acc_train_bb_dts\"] = accuracy_score(preds_ds.loc[train_idxs_cv,f'preds_{bb_type}'], preds_train_bb)\n",
    "        stat[f\"{bb_type}_acc_test_bb_dts\"] = accuracy_score(preds_ds.loc[test_idxs_cv,f'preds_{bb_type}'], preds_test_bb)\n",
    "        \n",
    "        #stat[f\"{bb_type}_f1_train_bb_dts\"] = f1_score(preds_ds.loc[train_idxs_cv,f'preds_{bb_type}'], preds_train_bb)\n",
    "        #stat[f\"{bb_type}_f1_test_bb_dts\"] = f1_score(preds_ds.loc[test_idxs_cv,f'preds_{bb_type}'], preds_test_bb)\n",
    "        #stat[f\"{bb_type}_dts_fimps\"] = fimps_dts\n",
    "    return stat"
   ]
  },
  {
   "cell_type": "code",
   "execution_count": 108,
   "metadata": {},
   "outputs": [],
   "source": [
    "def test_dtl(ds, preds_ds, train_idxs_cv, test_idxs_cv, bb_types):\n",
    "    dt_small = DecisionTreeClassifier()\n",
    "    dt_small.fit(ds.loc[train_idxs_cv], preds_ds.loc[train_idxs_cv,'y'])\n",
    "    preds_test_real = dt_small.predict(ds.loc[test_idxs_cv])\n",
    "    stat = {}\n",
    "    stat[f\"acc_test_real_dtl\"] = accuracy_score(preds_ds.loc[test_idxs_cv,'y'], preds_test_real)\n",
    "    #stat[f\"f1_test_real_dtl\"] = f1_score(preds_ds.loc[test_idxs_cv,'y'], preds_test_real)\n",
    "\n",
    "    for bb_type in bb_types:\n",
    "        dt_small = DecisionTreeClassifier()\n",
    "        dt_small.fit(ds.loc[train_idxs_cv], preds_ds.loc[train_idxs_cv, f\"preds_{bb_type}\"])\n",
    "        preds_train_bb = dt_small.predict(ds.loc[train_idxs_cv])\n",
    "        preds_test_bb = dt_small.predict(ds.loc[test_idxs_cv])\n",
    "\n",
    "        fimps_dts = pd.Series(dt_small.feature_importances_, index=ds.columns)\n",
    "\n",
    "        stat[f\"{bb_type}_acc_train_bb_dtl\"] = accuracy_score(preds_ds.loc[train_idxs_cv,f'preds_{bb_type}'], preds_train_bb)\n",
    "        stat[f\"{bb_type}_acc_test_bb_dtl\"] = accuracy_score(preds_ds.loc[test_idxs_cv,f'preds_{bb_type}'], preds_test_bb)\n",
    "        \n",
    "        #stat[f\"{bb_type}_f1_train_bb_dtl\"] = f1_score(preds_ds.loc[train_idxs_cv,f'preds_{bb_type}'], preds_train_bb)\n",
    "        #stat[f\"{bb_type}_f1_test_bb_dtl\"] = f1_score(preds_ds.loc[test_idxs_cv,f'preds_{bb_type}'], preds_test_bb)\n",
    "        #stat[f\"{bb_type}_dtl_fimps\"] = fimps_dts\n",
    "    return stat"
   ]
  },
  {
   "cell_type": "code",
   "execution_count": 109,
   "metadata": {},
   "outputs": [],
   "source": [
    "from sklearn.ensemble import RandomForestClassifier"
   ]
  },
  {
   "cell_type": "code",
   "execution_count": 110,
   "metadata": {},
   "outputs": [],
   "source": [
    "def test_fca_full(mvcntx, train_idxs_cv, test_idxs_cv, concepts, preds_ds, bb_types, verb=False):\n",
    "    mvcntx_red = copy(mvcntx)\n",
    "    if len(train_idxs_cv)+len(test_idxs_cv)<len(mvcntx_red.get_objs()):\n",
    "        to_del = [g for g in mvcntx.get_objs() if not g in train_idxs_cv and not g in test_idxs_cv]\n",
    "        mvcntx_red.drop_objects_from_context(to_del)\n",
    "        \n",
    "    mvcntx_train = copy(mvcntx_red)\n",
    "    mvcntx_train.drop_objects_from_context(test_idxs_cv)\n",
    "    \n",
    "    mvcntx_test = copy(mvcntx_red)\n",
    "    mvcntx_test.drop_objects_from_context(train_idxs_cv)\n",
    "    \n",
    "    if verb:\n",
    "        print(f'modified contexts')#: train_size={len(mvcntx_train.get_objs())}, test_size={len(mvcntx_test.get_objs())}')\n",
    "    fm_cv = fcai.FormalManager(mvcntx_train)\n",
    "    #fm_cv.set_concepts(concepts)\n",
    "    fm_cv._context._y_true = preds_ds.loc[train_idxs_cv, 'y'].values\n",
    "    print(len(fm_cv._context.get_objs()), fm_cv._context._data.shape, len(train_idxs_cv))\n",
    "    fm_cv.construct_concepts(algo='RandomForest', rf_params=RF_PARAMS, rf_class=RandomForestClassifier)\n",
    "    \n",
    "    fm_cv.construct_lattice()\n",
    "    if verb:\n",
    "        print(f'construct lattice, n concepts: {len(fm_cv.get_concepts())}')\n",
    "    for c in fm_cv.get_concepts():\n",
    "        ext_ = c.get_extent()\n",
    "        c._metrics['mean_y_true'] = preds_ds.loc[ext_, 'y'].value_counts().sort_values(ascending=False).index[0] #.mode()\n",
    "        for i in range(10):\n",
    "            c._metrics[f'mean_y_true_{i}'] = (preds_ds.loc[ext_, 'y'].astype(int)==int(i)).mean()\n",
    "        \n",
    "    if verb:\n",
    "        print('recalc metrics')\n",
    "            \n",
    "    metrics = [f'mean_y_true_{i}' for i in range(10)]\n",
    "    preds_test_real = fm_cv.predict_context(mvcntx_test, metric=metrics,)# aggfunc='mean')\n",
    "    preds_test_real = np.array([p.argmax() if p is not None else fm_cv._top_concept._metrics['mean_y_true'] for p in preds_test_real])\n",
    "    \n",
    "    if verb:\n",
    "        print('pred test real')\n",
    "    \n",
    "    stat = {}\n",
    "    print(preds_ds.loc[test_idxs_cv,'y'][:5], preds_test_real[:5])\n",
    "    stat[f\"acc_test_real_fcafull\"] = accuracy_score(preds_ds.loc[test_idxs_cv,'y'], preds_test_real)\n",
    "\n",
    "    for bb_type in bb_types:\n",
    "        fm_cv._context._y_true = preds_ds.loc[train_idxs_cv,f'preds_{bb_type}'].values\n",
    "        fm_cv.construct_concepts(algo='RandomForest', rf_params=RF_PARAMS, rf_class=RandomForestClassifier)\n",
    "        fm_cv.construct_lattice()\n",
    "        for c in fm_cv.get_concepts():\n",
    "            ext_ = c.get_extent()\n",
    "            c._metrics[f'mean_y_preds_{bb_type}'] = \\\n",
    "                preds_ds.loc[ext_, f'preds_{bb_type}'].value_counts().sort_values(ascending=False).index[0] #.mode()\n",
    "            #= preds_ds.loc[ext_, f'preds_{bb_type}'].mean()\n",
    "            for i in range(10):\n",
    "                c._metrics[f'mean_y_preds_{bb_type}_{i}'] = (\n",
    "                    preds_ds.loc[ext_, f'preds_{bb_type}'].astype(int)==int(i)\n",
    "                ).mean()\n",
    "        \n",
    "        metrics = [f'mean_y_preds_{bb_type}_{i}' for i in range(10)]\n",
    "        preds_train_bb = fm_cv.predict_context(mvcntx_train, metric=metrics,)# aggfunc='mean')\n",
    "        preds_train_bb = np.array([p.argmax() if p is not None else fm_cv._top_concept._metrics[f'mean_y_preds_{bb_type}'] for p in preds_train_bb])\n",
    "        if verb:\n",
    "            print(f'pred {bb_type} train')\n",
    "        \n",
    "        preds_test_bb = fm_cv.predict_context(mvcntx_test, metric=metrics,)# aggfunc='mean')\n",
    "        preds_test_bb = np.array([p.argmax() if p is not None else fm_cv._top_concept._metrics[f\"mean_y_preds_{bb_type}\"] for p in preds_test_bb])\n",
    "        if verb:\n",
    "            print(f'pred {bb_type} test')\n",
    "\n",
    "        stat[f\"{bb_type}_acc_train_bb_fcafull\"] = accuracy_score(preds_ds.loc[train_idxs_cv,f'preds_{bb_type}'], preds_train_bb)\n",
    "        stat[f\"{bb_type}_acc_test_bb_fcafull\"] = accuracy_score(preds_ds.loc[test_idxs_cv,f'preds_{bb_type}'], preds_test_bb)\n",
    "    return stat"
   ]
  },
  {
   "cell_type": "code",
   "execution_count": 111,
   "metadata": {},
   "outputs": [],
   "source": [
    "def test_fca_stable(mvcntx, train_idxs_cv, test_idxs_cv, concepts, preds_ds, bb_types, verb=False):\n",
    "    mvcntx_red = copy(mvcntx)\n",
    "    if len(train_idxs_cv)+len(test_idxs_cv)<len(mvcntx_red.get_objs()):\n",
    "        to_del = [g for g in mvcntx.get_objs() if not g in train_idxs_cv and not g in test_idxs_cv]\n",
    "        mvcntx_red.drop_objects_from_context(to_del)\n",
    "        \n",
    "    mvcntx_train = copy(mvcntx_red)\n",
    "    mvcntx_train.drop_objects_from_context(test_idxs_cv)\n",
    "    \n",
    "    mvcntx_test = copy(mvcntx_red)\n",
    "    mvcntx_test.drop_objects_from_context(train_idxs_cv)\n",
    "    \n",
    "    if verb:\n",
    "        print(f'modified contexts: train_size={len(mvcntx_train.get_objs())}, test_size={len(mvcntx_test.get_objs())}')\n",
    "    fm_cv = fcai.FormalManager(mvcntx_train)\n",
    "    #fm_cv.set_concepts(concepts)\n",
    "    fm_cv._context._y_true = preds_ds.loc[train_idxs_cv, 'y'].values\n",
    "    print(len(fm_cv._context.get_objs()), fm_cv._context._data.shape, len(train_idxs_cv))\n",
    "    fm_cv.construct_concepts(algo='RandomForest', rf_params=RF_PARAMS, rf_class=RandomForestClassifier)\n",
    "    \n",
    "    fm_cv.construct_lattice()\n",
    "    fm_cv.calc_stability_approx()\n",
    "    concepts_stab = sorted(fm_cv.get_concepts(), key=lambda c: -fcai.get_not_none(c._metrics['stab_min_bound'],-100))[:50]\n",
    "    fm_cv.set_concepts(concepts_stab)\n",
    "    fm_cv.construct_lattice()\n",
    "    \n",
    "    if verb:\n",
    "        print(f'construct lattice, n concepts: {len(fm_cv.get_concepts())}')\n",
    "    for c in fm_cv.get_concepts():\n",
    "        ext_ = c.get_extent()\n",
    "        c._metrics['mean_y_true'] = preds_ds.loc[ext_, 'y'].value_counts().sort_values(ascending=False).index[0] #.mode()\n",
    "        for i in range(10):\n",
    "            c._metrics[f'mean_y_true_{i}'] = (preds_ds.loc[ext_, 'y'].astype(int)==int(i)).mean()\n",
    "            \n",
    "    if verb:\n",
    "        print('recalc metrics')\n",
    "            \n",
    "    metrics = [f'mean_y_true_{i}' for i in range(10)]\n",
    "    preds_test_real = fm_cv.predict_context(mvcntx_test, metric=metrics,)# aggfunc='mean')\n",
    "    preds_test_real = np.array([p.argmax() if p is not None else fm_cv._top_concept._metrics['mean_y_true'] for p in preds_test_real])\n",
    "    if verb:\n",
    "        print('pred test real')\n",
    "    \n",
    "    stat = {}\n",
    "    stat[f\"acc_test_real_fcastab\"] = accuracy_score(preds_ds.loc[test_idxs_cv,'y'], preds_test_real)\n",
    "    #stat[f\"f1_test_real_fcastab\"] = f1_score(preds_ds.loc[test_idxs_cv,'y'], preds_test_real)\n",
    "    \n",
    "    \n",
    "    \n",
    "    for bb_type in bb_types:\n",
    "        fm_cv._context._y_true = preds_ds.loc[train_idxs_cv,f'preds_{bb_type}'].values\n",
    "        fm_cv.construct_concepts(algo='RandomForest', rf_params=RF_PARAMS, rf_class=RandomForestClassifier)\n",
    "        \n",
    "        fm_cv.construct_lattice()\n",
    "        fm_cv.calc_stability_approx()\n",
    "        concepts_stab = sorted(fm_cv.get_concepts(), key=lambda c: -fcai.get_not_none(c._metrics['stab_min_bound'],-100))[:50]\n",
    "        fm_cv.set_concepts(concepts_stab)\n",
    "        fm_cv.construct_lattice()\n",
    "        \n",
    "        for c in fm_cv.get_concepts():\n",
    "            ext_ = c.get_extent()\n",
    "            c._metrics[f'mean_y_preds_{bb_type}'] = \\\n",
    "                preds_ds.loc[ext_, f'preds_{bb_type}'].value_counts().sort_values(ascending=False).index[0] #.mode()\n",
    "            for i in range(10):\n",
    "                c._metrics[f'mean_y_preds_{bb_type}_{i}'] = (\n",
    "                    preds_ds.loc[ext_, f'preds_{bb_type}'].astype(int)==int(i)\n",
    "                ).mean()\n",
    "        \n",
    "        metrics = [f'mean_y_preds_{bb_type}_{i}' for i in range(10)]\n",
    "        preds_train_bb = fm_cv.predict_context(mvcntx_train, metric=metrics,)# aggfunc='mean')\n",
    "        preds_train_bb = np.array([p.argmax() if p is not None else fm_cv._top_concept._metrics[f'mean_y_preds_{bb_type}'] for p in preds_train_bb])\n",
    "        \n",
    "        if verb:\n",
    "            print(f'pred {bb_type} train')\n",
    "        preds_test_bb = fm_cv.predict_context(mvcntx_test, metric=f\"mean_y_preds_{bb_type}\", aggfunc='mode')\n",
    "        if verb:\n",
    "            print(f'pred {bb_type} test')\n",
    "\n",
    "        preds_test_bb = fm_cv.predict_context(mvcntx_test, metric=metrics,)# aggfunc='mean')\n",
    "        preds_test_bb = np.array([p.argmax() if p is not None else fm_cv._top_concept._metrics[f\"mean_y_preds_{bb_type}\"] for p in preds_test_bb])\n",
    "    \n",
    "        stat[f\"{bb_type}_acc_train_bb_fcastab\"] = accuracy_score(preds_ds.loc[train_idxs_cv,f'preds_{bb_type}'], preds_train_bb)\n",
    "        stat[f\"{bb_type}_acc_test_bb_fcastab\"] = accuracy_score(preds_ds.loc[test_idxs_cv,f'preds_{bb_type}'], preds_test_bb)\n",
    "\n",
    "    return stat"
   ]
  },
  {
   "cell_type": "code",
   "execution_count": 112,
   "metadata": {},
   "outputs": [],
   "source": [
    "def test_fca_stable_strong_min(mvcntx, train_idxs_cv, test_idxs_cv, concepts, preds_ds, bb_types, verb=False):\n",
    "    mvcntx_red = copy(mvcntx)\n",
    "    if len(train_idxs_cv)+len(test_idxs_cv)<len(mvcntx_red.get_objs()):\n",
    "        to_del = [g for g in mvcntx.get_objs() if not g in train_idxs_cv and not g in test_idxs_cv]\n",
    "        mvcntx_red.drop_objects_from_context(to_del)\n",
    "        \n",
    "    mvcntx_train = copy(mvcntx_red)\n",
    "    mvcntx_train.drop_objects_from_context(test_idxs_cv)\n",
    "    \n",
    "    mvcntx_test = copy(mvcntx_red)\n",
    "    mvcntx_test.drop_objects_from_context(train_idxs_cv)\n",
    "    \n",
    "    if verb:\n",
    "        print(f'modified contexts: train_size={len(mvcntx_train.get_objs())}, test_size={len(mvcntx_test.get_objs())}')\n",
    "    fm_cv = fcai.FormalManager(mvcntx_train)\n",
    "    #fm_cv.set_concepts(concepts)\n",
    "    fm_cv._context._y_true = preds_ds.loc[train_idxs_cv, 'y'].values\n",
    "    print(len(fm_cv._context.get_objs()), fm_cv._context._data.shape, len(train_idxs_cv))\n",
    "    fm_cv.construct_concepts(algo='RandomForest', rf_params=RF_PARAMS, rf_class=RandomForestClassifier)\n",
    "    \n",
    "    fm_cv.construct_lattice()\n",
    "    fm_cv.calc_stability_approx()\n",
    "    concepts_stab = sorted(fm_cv.get_concepts(), key=lambda c: -fcai.get_not_none(c._metrics['stab_min_bound'],-100))[:50]\n",
    "    fm_cv.set_concepts(concepts_stab)\n",
    "    fm_cv.construct_lattice()\n",
    "    \n",
    "    if verb:\n",
    "        print(f'construct lattice, n concepts: {len(fm_cv.get_concepts())}')\n",
    "    for c in fm_cv.get_concepts():\n",
    "        ext_ = c.get_extent()\n",
    "        c._metrics['mean_y_true'] = preds_ds.loc[ext_, 'y'].value_counts().sort_values(ascending=False).index[0] #.mode()\n",
    "        for i in range(10):\n",
    "            c._metrics[f'mean_y_true_{i}'] = (preds_ds.loc[ext_, 'y'].astype(int)==int(i)).mean()\n",
    "            \n",
    "    if verb:\n",
    "        print('recalc metrics')\n",
    "        \n",
    "    concepts_stab = deepcopy(fm_cv.get_concepts())\n",
    "    metrics = [f'mean_y_true_{i}' for i in range(10)]\n",
    "    for c in concepts_stab:\n",
    "        c._metrics['strongness'] = max([c._metrics[m] for m in metrics])\n",
    "    concepts_strong = fm_cv.select_smallest_covering_hyps([c for c in concepts_stab if c._metrics['strongness']>=0.5], use_tqdm=False)\n",
    "    print(f'num of strong hyps for test real: {len(concepts_strong)}')\n",
    "    fm_cv.set_concepts(concepts_strong)\n",
    "    fm_cv.construct_lattice()\n",
    "    preds_test_real = fm_cv.predict_context(mvcntx_test, metric=metrics,)# aggfunc='mean')\n",
    "    preds_test_real = np.array([p.argmax() if p is not None else fm_cv._top_concept._metrics['mean_y_true'] for p in preds_test_real])\n",
    "    \n",
    "    if verb:\n",
    "        print('pred test real')\n",
    "    \n",
    "    stat = {}\n",
    "    stat[f\"acc_test_real_fcastab_min\"] = accuracy_score(preds_ds.loc[test_idxs_cv,'y'], preds_test_real)\n",
    "    #stat[f\"f1_test_real_fcastab_min\"] = f1_score(preds_ds.loc[test_idxs_cv,'y'], preds_test_real)\n",
    "    \n",
    "    \n",
    "    \n",
    "    for bb_type in bb_types:\n",
    "        fm_cv._context._y_true = preds_ds.loc[train_idxs_cv,f'preds_{bb_type}'].values\n",
    "        fm_cv.construct_concepts(algo='RandomForest', rf_params=RF_PARAMS, rf_class=RandomForestClassifier)\n",
    "        \n",
    "        fm_cv.construct_lattice()\n",
    "        fm_cv.calc_stability_approx()\n",
    "        concepts_stab = sorted(fm_cv.get_concepts(), key=lambda c: -fcai.get_not_none(c._metrics['stab_min_bound'],-100))[:50]\n",
    "        fm_cv.set_concepts(concepts_stab)\n",
    "        fm_cv.construct_lattice()\n",
    "        \n",
    "        for c in fm_cv.get_concepts():\n",
    "            ext_ = c.get_extent()\n",
    "            c._metrics[f'mean_y_preds_{bb_type}'] = \\\n",
    "                preds_ds.loc[ext_, f'preds_{bb_type}'].value_counts().sort_values(ascending=False).index[0] #.mode()\n",
    "            for i in range(10):\n",
    "                c._metrics[f'mean_y_preds_{bb_type}_{i}'] = (\n",
    "                    preds_ds.loc[ext_, f'preds_{bb_type}'].astype(int)==int(i)\n",
    "                ).mean()\n",
    "        \n",
    "        concepts_stab = deepcopy(fm_cv.get_concepts())\n",
    "        metrics = [f'mean_y_preds_{bb_type}_{i}' for i in range(10)]\n",
    "        for c in concepts_stab:\n",
    "            c._metrics['strongness'] = max([c._metrics[m] for m in metrics])\n",
    "        concepts_strong = fm_cv.select_smallest_covering_hyps([c for c in concepts_stab if c._metrics['strongness']>=0.5], use_tqdm=False)\n",
    "        print(f'num of strong hyps for {bb_type}: {len(concepts_strong)}')\n",
    "        fm_cv.set_concepts(concepts_strong)\n",
    "        fm_cv.construct_lattice()\n",
    "        \n",
    "        preds_train_bb = fm_cv.predict_context(mvcntx_train, metric=metrics,)\n",
    "        preds_train_bb = np.array([p.argmax() if p is not None else fm_cv._top_concept._metrics[f'mean_y_preds_{bb_type}'] for p in preds_train_bb])\n",
    "        \n",
    "        \n",
    "        if verb:\n",
    "            print(f'pred {bb_type} train')\n",
    "        \n",
    "        preds_test_bb = fm_cv.predict_context(mvcntx_test, metric=metrics,)\n",
    "        preds_test_bb = np.array([p.argmax() if p is not None else fm_cv._top_concept._metrics[f'mean_y_preds_{bb_type}'] for p in preds_test_bb])\n",
    "        \n",
    "        if verb:\n",
    "            print(f'pred {bb_type} test')\n",
    "        \n",
    "        #preds_train_bb = (preds_train_bb>=0.5).astype(int)\n",
    "        #preds_test_bb = (preds_test_bb>=0.5).astype(int)\n",
    "\n",
    "        #metric_difference = fm_cv.get_metric_difference(f'mean_y_preds_{bb_type}')\n",
    "        #fimps_fca = {k:np.sum(np.abs(v)) for k,v in metric_difference.items()}\n",
    "        #if verb:\n",
    "        #    print(f\"calc {bb_type} fimps\")\n",
    "\n",
    "        stat[f\"{bb_type}_acc_train_bb_fcastab_min\"] = accuracy_score(preds_ds.loc[train_idxs_cv,f'preds_{bb_type}'], preds_train_bb)\n",
    "        stat[f\"{bb_type}_acc_test_bb_fcastab_min\"] = accuracy_score(preds_ds.loc[test_idxs_cv,f'preds_{bb_type}'], preds_test_bb)\n",
    "        \n",
    "        #stat[f\"{bb_type}_f1_train_bb_fcastab_min\"] = f1_score(preds_ds.loc[train_idxs_cv,f'preds_{bb_type}'], preds_train_bb)\n",
    "        #stat[f\"{bb_type}_f1_test_bb_fcastab_min\"] = f1_score(preds_ds.loc[test_idxs_cv,f'preds_{bb_type}'], preds_test_bb)\n",
    "        #stat[f\"{bb_type}_fcastab_min_fimps\"] = fimps_fca\n",
    "    return stat"
   ]
  },
  {
   "cell_type": "code",
   "execution_count": 113,
   "metadata": {},
   "outputs": [
    {
     "data": {
      "text/plain": [
       "(1000, 784)"
      ]
     },
     "execution_count": 113,
     "metadata": {},
     "output_type": "execute_result"
    }
   ],
   "source": [
    "ds.shape"
   ]
  },
  {
   "cell_type": "code",
   "execution_count": 114,
   "metadata": {},
   "outputs": [],
   "source": [
    "ds_small = ds.head(1000)"
   ]
  },
  {
   "cell_type": "code",
   "execution_count": 115,
   "metadata": {},
   "outputs": [],
   "source": [
    "from sklearn.model_selection import KFold"
   ]
  },
  {
   "cell_type": "code",
   "execution_count": 116,
   "metadata": {},
   "outputs": [],
   "source": [
    "kf = KFold(10)"
   ]
  },
  {
   "cell_type": "code",
   "execution_count": 117,
   "metadata": {},
   "outputs": [],
   "source": [
    "stats = []"
   ]
  },
  {
   "cell_type": "code",
   "execution_count": 118,
   "metadata": {},
   "outputs": [],
   "source": [
    "bb_types = ['cb','svc','nn']"
   ]
  },
  {
   "cell_type": "code",
   "execution_count": 119,
   "metadata": {},
   "outputs": [],
   "source": [
    "real_feats = list(ds.columns)\n",
    "cat_feats = []"
   ]
  },
  {
   "cell_type": "code",
   "execution_count": 120,
   "metadata": {},
   "outputs": [],
   "source": [
    "mvcntx_full = fcai.MultiValuedContext(ds, cat_attrs=cat_feats)"
   ]
  },
  {
   "cell_type": "code",
   "execution_count": null,
   "metadata": {},
   "outputs": [],
   "source": []
  },
  {
   "cell_type": "code",
   "execution_count": null,
   "metadata": {},
   "outputs": [],
   "source": []
  },
  {
   "cell_type": "code",
   "execution_count": 121,
   "metadata": {},
   "outputs": [],
   "source": [
    "train_idxs_cv = ds.index[:900]\n",
    "test_idxs_cv = ds.index[900:]"
   ]
  },
  {
   "cell_type": "code",
   "execution_count": 135,
   "metadata": {},
   "outputs": [],
   "source": [
    "RF_PARAMS = {'n_estimators':5, 'max_depth':None, 'random_state':42}"
   ]
  },
  {
   "cell_type": "code",
   "execution_count": 136,
   "metadata": {},
   "outputs": [
    {
     "name": "stdout",
     "output_type": "stream",
     "text": [
      "modified contexts\n",
      "900 (900, 784) 900\n"
     ]
    },
    {
     "data": {
      "application/vnd.jupyter.widget-view+json": {
       "model_id": "f99ce62d87874881b01d66a359545ad4",
       "version_major": 2,
       "version_minor": 0
      },
      "text/plain": [
       "HBox(children=(FloatProgress(value=0.0, description='Postprocessing', max=1708.0, style=ProgressStyle(descript…"
      ]
     },
     "metadata": {},
     "output_type": "display_data"
    },
    {
     "name": "stdout",
     "output_type": "stream",
     "text": [
      "\n",
      "construct lattice, n concepts: 1708\n",
      "recalc metrics\n",
      "pred test real\n",
      "900    1\n",
      "901    4\n",
      "902    4\n",
      "903    6\n",
      "904    0\n",
      "Name: y, dtype: uint8 [1. 4. 4. 2. 0.]\n"
     ]
    },
    {
     "data": {
      "application/vnd.jupyter.widget-view+json": {
       "model_id": "4491608f7c1b42bbab7106885c8f0ccc",
       "version_major": 2,
       "version_minor": 0
      },
      "text/plain": [
       "HBox(children=(FloatProgress(value=0.0, description='Postprocessing', max=1641.0, style=ProgressStyle(descript…"
      ]
     },
     "metadata": {},
     "output_type": "display_data"
    },
    {
     "name": "stdout",
     "output_type": "stream",
     "text": [
      "\n",
      "pred cb train\n",
      "pred cb test\n"
     ]
    },
    {
     "data": {
      "application/vnd.jupyter.widget-view+json": {
       "model_id": "c1fdcd191171417199fb002975004231",
       "version_major": 2,
       "version_minor": 0
      },
      "text/plain": [
       "HBox(children=(FloatProgress(value=0.0, description='Postprocessing', max=1590.0, style=ProgressStyle(descript…"
      ]
     },
     "metadata": {},
     "output_type": "display_data"
    },
    {
     "name": "stdout",
     "output_type": "stream",
     "text": [
      "\n",
      "pred svc train\n",
      "pred svc test\n"
     ]
    },
    {
     "data": {
      "application/vnd.jupyter.widget-view+json": {
       "model_id": "ef5531dfb537495e93c967bc9a096ee3",
       "version_major": 2,
       "version_minor": 0
      },
      "text/plain": [
       "HBox(children=(FloatProgress(value=0.0, description='Postprocessing', max=1669.0, style=ProgressStyle(descript…"
      ]
     },
     "metadata": {},
     "output_type": "display_data"
    },
    {
     "name": "stdout",
     "output_type": "stream",
     "text": [
      "\n",
      "pred nn train\n",
      "pred nn test\n",
      "CPU times: user 39min 11s, sys: 40.9 s, total: 39min 52s\n",
      "Wall time: 38min 15s\n"
     ]
    }
   ],
   "source": [
    "%%time\n",
    "stat_fca_full = test_fca_full(mvcntx_full, train_idxs_cv, test_idxs_cv, fm.get_concepts(), preds_ds, bb_types, verb=True)"
   ]
  },
  {
   "cell_type": "code",
   "execution_count": 137,
   "metadata": {},
   "outputs": [
    {
     "data": {
      "text/plain": [
       "{'acc_test_real_fcafull': 0.61,\n",
       " 'cb_acc_train_bb_fcafull': 0.9944444444444445,\n",
       " 'cb_acc_test_bb_fcafull': 0.62,\n",
       " 'svc_acc_train_bb_fcafull': 0.99,\n",
       " 'svc_acc_test_bb_fcafull': 0.56,\n",
       " 'nn_acc_train_bb_fcafull': 0.9955555555555555,\n",
       " 'nn_acc_test_bb_fcafull': 0.6}"
      ]
     },
     "execution_count": 137,
     "metadata": {},
     "output_type": "execute_result"
    }
   ],
   "source": [
    "stat_fca_full"
   ]
  },
  {
   "cell_type": "code",
   "execution_count": 125,
   "metadata": {},
   "outputs": [
    {
     "name": "stdout",
     "output_type": "stream",
     "text": [
      "modified contexts: train_size=900, test_size=100\n",
      "900 (900, 784) 900\n"
     ]
    },
    {
     "data": {
      "application/vnd.jupyter.widget-view+json": {
       "model_id": "",
       "version_major": 2,
       "version_minor": 0
      },
      "text/plain": [
       "HBox(children=(FloatProgress(value=0.0, description='Postprocessing', max=29.0, style=ProgressStyle(descriptio…"
      ]
     },
     "metadata": {},
     "output_type": "display_data"
    },
    {
     "name": "stdout",
     "output_type": "stream",
     "text": [
      "\n"
     ]
    },
    {
     "name": "stderr",
     "output_type": "stream",
     "text": [
      "/opt/lib/fca_interp.py:795: RuntimeWarning:\n",
      "\n",
      "divide by zero encountered in log2\n",
      "\n",
      "/opt/lib/fca_interp.py:796: RuntimeWarning:\n",
      "\n",
      "divide by zero encountered in log2\n",
      "\n"
     ]
    },
    {
     "name": "stdout",
     "output_type": "stream",
     "text": [
      "construct lattice, n concepts: 29\n",
      "recalc metrics\n",
      "pred test real\n"
     ]
    },
    {
     "data": {
      "application/vnd.jupyter.widget-view+json": {
       "model_id": "",
       "version_major": 2,
       "version_minor": 0
      },
      "text/plain": [
       "HBox(children=(FloatProgress(value=0.0, description='Postprocessing', max=29.0, style=ProgressStyle(descriptio…"
      ]
     },
     "metadata": {},
     "output_type": "display_data"
    },
    {
     "name": "stdout",
     "output_type": "stream",
     "text": [
      "\n"
     ]
    },
    {
     "name": "stderr",
     "output_type": "stream",
     "text": [
      "/opt/lib/fca_interp.py:795: RuntimeWarning:\n",
      "\n",
      "divide by zero encountered in log2\n",
      "\n",
      "/opt/lib/fca_interp.py:796: RuntimeWarning:\n",
      "\n",
      "divide by zero encountered in log2\n",
      "\n"
     ]
    },
    {
     "name": "stdout",
     "output_type": "stream",
     "text": [
      "pred cb train\n",
      "pred cb test\n"
     ]
    },
    {
     "data": {
      "application/vnd.jupyter.widget-view+json": {
       "model_id": "",
       "version_major": 2,
       "version_minor": 0
      },
      "text/plain": [
       "HBox(children=(FloatProgress(value=0.0, description='Postprocessing', max=29.0, style=ProgressStyle(descriptio…"
      ]
     },
     "metadata": {},
     "output_type": "display_data"
    },
    {
     "name": "stdout",
     "output_type": "stream",
     "text": [
      "\n"
     ]
    },
    {
     "name": "stderr",
     "output_type": "stream",
     "text": [
      "/opt/lib/fca_interp.py:795: RuntimeWarning:\n",
      "\n",
      "divide by zero encountered in log2\n",
      "\n",
      "/opt/lib/fca_interp.py:796: RuntimeWarning:\n",
      "\n",
      "divide by zero encountered in log2\n",
      "\n"
     ]
    },
    {
     "name": "stdout",
     "output_type": "stream",
     "text": [
      "pred svc train\n",
      "pred svc test\n"
     ]
    },
    {
     "data": {
      "application/vnd.jupyter.widget-view+json": {
       "model_id": "",
       "version_major": 2,
       "version_minor": 0
      },
      "text/plain": [
       "HBox(children=(FloatProgress(value=0.0, description='Postprocessing', max=29.0, style=ProgressStyle(descriptio…"
      ]
     },
     "metadata": {},
     "output_type": "display_data"
    },
    {
     "name": "stdout",
     "output_type": "stream",
     "text": [
      "\n"
     ]
    },
    {
     "name": "stderr",
     "output_type": "stream",
     "text": [
      "/opt/lib/fca_interp.py:795: RuntimeWarning:\n",
      "\n",
      "divide by zero encountered in log2\n",
      "\n",
      "/opt/lib/fca_interp.py:796: RuntimeWarning:\n",
      "\n",
      "divide by zero encountered in log2\n",
      "\n"
     ]
    },
    {
     "name": "stdout",
     "output_type": "stream",
     "text": [
      "pred nn train\n",
      "pred nn test\n",
      "CPU times: user 4min 17s, sys: 2.04 s, total: 4min 19s\n",
      "Wall time: 4min 14s\n"
     ]
    }
   ],
   "source": [
    "%%time\n",
    "stat_fca_stab = test_fca_stable(mvcntx_full, train_idxs_cv, test_idxs_cv, fm.get_concepts(), preds_ds, bb_types, verb=True)"
   ]
  },
  {
   "cell_type": "code",
   "execution_count": 126,
   "metadata": {},
   "outputs": [
    {
     "name": "stdout",
     "output_type": "stream",
     "text": [
      "modified contexts: train_size=900, test_size=100\n",
      "900 (900, 784) 900\n"
     ]
    },
    {
     "data": {
      "application/vnd.jupyter.widget-view+json": {
       "model_id": "",
       "version_major": 2,
       "version_minor": 0
      },
      "text/plain": [
       "HBox(children=(FloatProgress(value=0.0, description='Postprocessing', max=29.0, style=ProgressStyle(descriptio…"
      ]
     },
     "metadata": {},
     "output_type": "display_data"
    },
    {
     "name": "stdout",
     "output_type": "stream",
     "text": [
      "\n"
     ]
    },
    {
     "name": "stderr",
     "output_type": "stream",
     "text": [
      "/opt/lib/fca_interp.py:795: RuntimeWarning:\n",
      "\n",
      "divide by zero encountered in log2\n",
      "\n",
      "/opt/lib/fca_interp.py:796: RuntimeWarning:\n",
      "\n",
      "divide by zero encountered in log2\n",
      "\n"
     ]
    },
    {
     "name": "stdout",
     "output_type": "stream",
     "text": [
      "construct lattice, n concepts: 29\n",
      "recalc metrics\n",
      "num of strong hyps for test real: 4\n",
      "pred test real\n"
     ]
    },
    {
     "data": {
      "application/vnd.jupyter.widget-view+json": {
       "model_id": "",
       "version_major": 2,
       "version_minor": 0
      },
      "text/plain": [
       "HBox(children=(FloatProgress(value=0.0, description='Postprocessing', max=29.0, style=ProgressStyle(descriptio…"
      ]
     },
     "metadata": {},
     "output_type": "display_data"
    },
    {
     "name": "stdout",
     "output_type": "stream",
     "text": [
      "\n"
     ]
    },
    {
     "name": "stderr",
     "output_type": "stream",
     "text": [
      "/opt/lib/fca_interp.py:795: RuntimeWarning:\n",
      "\n",
      "divide by zero encountered in log2\n",
      "\n",
      "/opt/lib/fca_interp.py:796: RuntimeWarning:\n",
      "\n",
      "divide by zero encountered in log2\n",
      "\n"
     ]
    },
    {
     "name": "stdout",
     "output_type": "stream",
     "text": [
      "num of strong hyps for cb: 4\n",
      "pred cb train\n",
      "pred cb test\n"
     ]
    },
    {
     "data": {
      "application/vnd.jupyter.widget-view+json": {
       "model_id": "",
       "version_major": 2,
       "version_minor": 0
      },
      "text/plain": [
       "HBox(children=(FloatProgress(value=0.0, description='Postprocessing', max=29.0, style=ProgressStyle(descriptio…"
      ]
     },
     "metadata": {},
     "output_type": "display_data"
    },
    {
     "name": "stdout",
     "output_type": "stream",
     "text": [
      "\n"
     ]
    },
    {
     "name": "stderr",
     "output_type": "stream",
     "text": [
      "/opt/lib/fca_interp.py:795: RuntimeWarning:\n",
      "\n",
      "divide by zero encountered in log2\n",
      "\n",
      "/opt/lib/fca_interp.py:796: RuntimeWarning:\n",
      "\n",
      "divide by zero encountered in log2\n",
      "\n"
     ]
    },
    {
     "name": "stdout",
     "output_type": "stream",
     "text": [
      "num of strong hyps for svc: 4\n",
      "pred svc train\n",
      "pred svc test\n"
     ]
    },
    {
     "data": {
      "application/vnd.jupyter.widget-view+json": {
       "model_id": "",
       "version_major": 2,
       "version_minor": 0
      },
      "text/plain": [
       "HBox(children=(FloatProgress(value=0.0, description='Postprocessing', max=29.0, style=ProgressStyle(descriptio…"
      ]
     },
     "metadata": {},
     "output_type": "display_data"
    },
    {
     "name": "stdout",
     "output_type": "stream",
     "text": [
      "\n"
     ]
    },
    {
     "name": "stderr",
     "output_type": "stream",
     "text": [
      "/opt/lib/fca_interp.py:795: RuntimeWarning:\n",
      "\n",
      "divide by zero encountered in log2\n",
      "\n",
      "/opt/lib/fca_interp.py:796: RuntimeWarning:\n",
      "\n",
      "divide by zero encountered in log2\n",
      "\n"
     ]
    },
    {
     "name": "stdout",
     "output_type": "stream",
     "text": [
      "num of strong hyps for nn: 4\n",
      "pred nn train\n",
      "pred nn test\n",
      "CPU times: user 4min 13s, sys: 1.79 s, total: 4min 14s\n",
      "Wall time: 4min 11s\n"
     ]
    }
   ],
   "source": [
    "%%time\n",
    "stat_fca_stab_min = test_fca_stable_strong_min(mvcntx_full, train_idxs_cv, test_idxs_cv, fm.get_concepts(), preds_ds, bb_types, verb=True)"
   ]
  },
  {
   "cell_type": "code",
   "execution_count": 128,
   "metadata": {},
   "outputs": [
    {
     "data": {
      "text/plain": [
       "{'acc_test_real_fcafull': 0.4,\n",
       " 'cb_acc_train_bb_fcafull': 0.43666666666666665,\n",
       " 'cb_acc_test_bb_fcafull': 0.38,\n",
       " 'svc_acc_train_bb_fcafull': 0.44666666666666666,\n",
       " 'svc_acc_test_bb_fcafull': 0.36,\n",
       " 'nn_acc_train_bb_fcafull': 0.44333333333333336,\n",
       " 'nn_acc_test_bb_fcafull': 0.39}"
      ]
     },
     "execution_count": 128,
     "metadata": {},
     "output_type": "execute_result"
    }
   ],
   "source": [
    "stat_fca_full"
   ]
  },
  {
   "cell_type": "code",
   "execution_count": null,
   "metadata": {},
   "outputs": [],
   "source": []
  },
  {
   "cell_type": "code",
   "execution_count": null,
   "metadata": {},
   "outputs": [],
   "source": []
  },
  {
   "cell_type": "code",
   "execution_count": null,
   "metadata": {},
   "outputs": [],
   "source": []
  },
  {
   "cell_type": "code",
   "execution_count": 99,
   "metadata": {},
   "outputs": [
    {
     "data": {
      "application/vnd.jupyter.widget-view+json": {
       "model_id": "e98a7785828e4974bc5bfbfd36006b9a",
       "version_major": 2,
       "version_minor": 0
      },
      "text/plain": [
       "HBox(children=(FloatProgress(value=0.0, max=10.0), HTML(value='')))"
      ]
     },
     "metadata": {},
     "output_type": "display_data"
    },
    {
     "name": "stderr",
     "output_type": "stream",
     "text": [
      "/root/anaconda3/lib/python3.7/site-packages/sklearn/linear_model/_logistic.py:940: ConvergenceWarning:\n",
      "\n",
      "lbfgs failed to converge (status=1):\n",
      "STOP: TOTAL NO. of ITERATIONS REACHED LIMIT.\n",
      "\n",
      "Increase the number of iterations (max_iter) or scale the data as shown in:\n",
      "    https://scikit-learn.org/stable/modules/preprocessing.html\n",
      "Please also refer to the documentation for alternative solver options:\n",
      "    https://scikit-learn.org/stable/modules/linear_model.html#logistic-regression\n",
      "\n",
      "/root/anaconda3/lib/python3.7/site-packages/sklearn/linear_model/_logistic.py:940: ConvergenceWarning:\n",
      "\n",
      "lbfgs failed to converge (status=1):\n",
      "STOP: TOTAL NO. of ITERATIONS REACHED LIMIT.\n",
      "\n",
      "Increase the number of iterations (max_iter) or scale the data as shown in:\n",
      "    https://scikit-learn.org/stable/modules/preprocessing.html\n",
      "Please also refer to the documentation for alternative solver options:\n",
      "    https://scikit-learn.org/stable/modules/linear_model.html#logistic-regression\n",
      "\n",
      "/root/anaconda3/lib/python3.7/site-packages/sklearn/linear_model/_logistic.py:940: ConvergenceWarning:\n",
      "\n",
      "lbfgs failed to converge (status=1):\n",
      "STOP: TOTAL NO. of ITERATIONS REACHED LIMIT.\n",
      "\n",
      "Increase the number of iterations (max_iter) or scale the data as shown in:\n",
      "    https://scikit-learn.org/stable/modules/preprocessing.html\n",
      "Please also refer to the documentation for alternative solver options:\n",
      "    https://scikit-learn.org/stable/modules/linear_model.html#logistic-regression\n",
      "\n",
      "/root/anaconda3/lib/python3.7/site-packages/sklearn/linear_model/_logistic.py:940: ConvergenceWarning:\n",
      "\n",
      "lbfgs failed to converge (status=1):\n",
      "STOP: TOTAL NO. of ITERATIONS REACHED LIMIT.\n",
      "\n",
      "Increase the number of iterations (max_iter) or scale the data as shown in:\n",
      "    https://scikit-learn.org/stable/modules/preprocessing.html\n",
      "Please also refer to the documentation for alternative solver options:\n",
      "    https://scikit-learn.org/stable/modules/linear_model.html#logistic-regression\n",
      "\n"
     ]
    },
    {
     "name": "stdout",
     "output_type": "stream",
     "text": [
      "modified contexts\n",
      "construct lattice, n concepts: 916\n",
      "recalc metrics\n",
      "pred test real\n",
      "0    7\n",
      "1    2\n",
      "2    1\n",
      "3    0\n",
      "4    4\n",
      "Name: y, dtype: uint8 [1. 1. 2. 0. 4.]\n",
      "pred cb train\n",
      "pred cb test\n",
      "pred svc train\n",
      "pred svc test\n",
      "pred nn train\n",
      "pred nn test\n",
      "modified contexts: train_size=900, test_size=100\n"
     ]
    },
    {
     "name": "stderr",
     "output_type": "stream",
     "text": [
      "/opt/lib/fca_interp.py:750: RuntimeWarning:\n",
      "\n",
      "divide by zero encountered in log2\n",
      "\n",
      "/opt/lib/fca_interp.py:751: RuntimeWarning:\n",
      "\n",
      "divide by zero encountered in log2\n",
      "\n"
     ]
    },
    {
     "name": "stdout",
     "output_type": "stream",
     "text": [
      "construct lattice, n concepts: 50\n",
      "recalc metrics\n",
      "pred test real\n",
      "pred cb train\n",
      "pred cb test\n",
      "pred svc train\n",
      "pred svc test\n",
      "pred nn train\n",
      "pred nn test\n",
      "modified contexts: train_size=900, test_size=100\n",
      "construct lattice, n concepts: 50\n",
      "recalc metrics\n",
      "num of strong hyps for test real: 22\n",
      "pred test real\n",
      "num of strong hyps for cb: 23\n",
      "pred cb train\n",
      "pred cb test\n",
      "num of strong hyps for svc: 23\n",
      "pred svc train\n",
      "pred svc test\n",
      "num of strong hyps for nn: 22\n",
      "pred nn train\n",
      "pred nn test\n"
     ]
    },
    {
     "name": "stderr",
     "output_type": "stream",
     "text": [
      "/root/anaconda3/lib/python3.7/site-packages/sklearn/linear_model/_logistic.py:940: ConvergenceWarning:\n",
      "\n",
      "lbfgs failed to converge (status=1):\n",
      "STOP: TOTAL NO. of ITERATIONS REACHED LIMIT.\n",
      "\n",
      "Increase the number of iterations (max_iter) or scale the data as shown in:\n",
      "    https://scikit-learn.org/stable/modules/preprocessing.html\n",
      "Please also refer to the documentation for alternative solver options:\n",
      "    https://scikit-learn.org/stable/modules/linear_model.html#logistic-regression\n",
      "\n",
      "/root/anaconda3/lib/python3.7/site-packages/sklearn/linear_model/_logistic.py:940: ConvergenceWarning:\n",
      "\n",
      "lbfgs failed to converge (status=1):\n",
      "STOP: TOTAL NO. of ITERATIONS REACHED LIMIT.\n",
      "\n",
      "Increase the number of iterations (max_iter) or scale the data as shown in:\n",
      "    https://scikit-learn.org/stable/modules/preprocessing.html\n",
      "Please also refer to the documentation for alternative solver options:\n",
      "    https://scikit-learn.org/stable/modules/linear_model.html#logistic-regression\n",
      "\n",
      "/root/anaconda3/lib/python3.7/site-packages/sklearn/linear_model/_logistic.py:940: ConvergenceWarning:\n",
      "\n",
      "lbfgs failed to converge (status=1):\n",
      "STOP: TOTAL NO. of ITERATIONS REACHED LIMIT.\n",
      "\n",
      "Increase the number of iterations (max_iter) or scale the data as shown in:\n",
      "    https://scikit-learn.org/stable/modules/preprocessing.html\n",
      "Please also refer to the documentation for alternative solver options:\n",
      "    https://scikit-learn.org/stable/modules/linear_model.html#logistic-regression\n",
      "\n",
      "/root/anaconda3/lib/python3.7/site-packages/sklearn/linear_model/_logistic.py:940: ConvergenceWarning:\n",
      "\n",
      "lbfgs failed to converge (status=1):\n",
      "STOP: TOTAL NO. of ITERATIONS REACHED LIMIT.\n",
      "\n",
      "Increase the number of iterations (max_iter) or scale the data as shown in:\n",
      "    https://scikit-learn.org/stable/modules/preprocessing.html\n",
      "Please also refer to the documentation for alternative solver options:\n",
      "    https://scikit-learn.org/stable/modules/linear_model.html#logistic-regression\n",
      "\n"
     ]
    },
    {
     "name": "stdout",
     "output_type": "stream",
     "text": [
      "modified contexts\n",
      "construct lattice, n concepts: 934\n",
      "recalc metrics\n",
      "pred test real\n",
      "100    6\n",
      "101    0\n",
      "102    5\n",
      "103    4\n",
      "104    9\n",
      "Name: y, dtype: uint8 [6. 0. 1. 1. 1.]\n",
      "pred cb train\n",
      "pred cb test\n",
      "pred svc train\n",
      "pred svc test\n",
      "pred nn train\n",
      "pred nn test\n",
      "modified contexts: train_size=900, test_size=100\n"
     ]
    },
    {
     "name": "stderr",
     "output_type": "stream",
     "text": [
      "/opt/lib/fca_interp.py:750: RuntimeWarning:\n",
      "\n",
      "divide by zero encountered in log2\n",
      "\n",
      "/opt/lib/fca_interp.py:751: RuntimeWarning:\n",
      "\n",
      "divide by zero encountered in log2\n",
      "\n"
     ]
    },
    {
     "name": "stdout",
     "output_type": "stream",
     "text": [
      "construct lattice, n concepts: 50\n",
      "recalc metrics\n",
      "pred test real\n",
      "pred cb train\n",
      "pred cb test\n",
      "pred svc train\n",
      "pred svc test\n",
      "pred nn train\n",
      "pred nn test\n",
      "modified contexts: train_size=900, test_size=100\n",
      "construct lattice, n concepts: 50\n",
      "recalc metrics\n",
      "num of strong hyps for test real: 25\n",
      "pred test real\n",
      "num of strong hyps for cb: 25\n",
      "pred cb train\n",
      "pred cb test\n",
      "num of strong hyps for svc: 25\n",
      "pred svc train\n",
      "pred svc test\n",
      "num of strong hyps for nn: 25\n",
      "pred nn train\n",
      "pred nn test\n"
     ]
    },
    {
     "name": "stderr",
     "output_type": "stream",
     "text": [
      "/root/anaconda3/lib/python3.7/site-packages/sklearn/linear_model/_logistic.py:940: ConvergenceWarning:\n",
      "\n",
      "lbfgs failed to converge (status=1):\n",
      "STOP: TOTAL NO. of ITERATIONS REACHED LIMIT.\n",
      "\n",
      "Increase the number of iterations (max_iter) or scale the data as shown in:\n",
      "    https://scikit-learn.org/stable/modules/preprocessing.html\n",
      "Please also refer to the documentation for alternative solver options:\n",
      "    https://scikit-learn.org/stable/modules/linear_model.html#logistic-regression\n",
      "\n",
      "/root/anaconda3/lib/python3.7/site-packages/sklearn/linear_model/_logistic.py:940: ConvergenceWarning:\n",
      "\n",
      "lbfgs failed to converge (status=1):\n",
      "STOP: TOTAL NO. of ITERATIONS REACHED LIMIT.\n",
      "\n",
      "Increase the number of iterations (max_iter) or scale the data as shown in:\n",
      "    https://scikit-learn.org/stable/modules/preprocessing.html\n",
      "Please also refer to the documentation for alternative solver options:\n",
      "    https://scikit-learn.org/stable/modules/linear_model.html#logistic-regression\n",
      "\n",
      "/root/anaconda3/lib/python3.7/site-packages/sklearn/linear_model/_logistic.py:940: ConvergenceWarning:\n",
      "\n",
      "lbfgs failed to converge (status=1):\n",
      "STOP: TOTAL NO. of ITERATIONS REACHED LIMIT.\n",
      "\n",
      "Increase the number of iterations (max_iter) or scale the data as shown in:\n",
      "    https://scikit-learn.org/stable/modules/preprocessing.html\n",
      "Please also refer to the documentation for alternative solver options:\n",
      "    https://scikit-learn.org/stable/modules/linear_model.html#logistic-regression\n",
      "\n",
      "/root/anaconda3/lib/python3.7/site-packages/sklearn/linear_model/_logistic.py:940: ConvergenceWarning:\n",
      "\n",
      "lbfgs failed to converge (status=1):\n",
      "STOP: TOTAL NO. of ITERATIONS REACHED LIMIT.\n",
      "\n",
      "Increase the number of iterations (max_iter) or scale the data as shown in:\n",
      "    https://scikit-learn.org/stable/modules/preprocessing.html\n",
      "Please also refer to the documentation for alternative solver options:\n",
      "    https://scikit-learn.org/stable/modules/linear_model.html#logistic-regression\n",
      "\n"
     ]
    },
    {
     "name": "stdout",
     "output_type": "stream",
     "text": [
      "modified contexts\n",
      "construct lattice, n concepts: 924\n",
      "recalc metrics\n",
      "pred test real\n",
      "200    3\n",
      "201    6\n",
      "202    1\n",
      "203    1\n",
      "204    1\n",
      "Name: y, dtype: uint8 [1. 6. 2. 5. 1.]\n",
      "pred cb train\n",
      "pred cb test\n",
      "pred svc train\n",
      "pred svc test\n",
      "pred nn train\n",
      "pred nn test\n",
      "modified contexts: train_size=900, test_size=100\n"
     ]
    },
    {
     "name": "stderr",
     "output_type": "stream",
     "text": [
      "/opt/lib/fca_interp.py:750: RuntimeWarning:\n",
      "\n",
      "divide by zero encountered in log2\n",
      "\n",
      "/opt/lib/fca_interp.py:751: RuntimeWarning:\n",
      "\n",
      "divide by zero encountered in log2\n",
      "\n"
     ]
    },
    {
     "name": "stdout",
     "output_type": "stream",
     "text": [
      "construct lattice, n concepts: 50\n",
      "recalc metrics\n",
      "pred test real\n",
      "pred cb train\n",
      "pred cb test\n",
      "pred svc train\n",
      "pred svc test\n",
      "pred nn train\n",
      "pred nn test\n",
      "modified contexts: train_size=900, test_size=100\n",
      "construct lattice, n concepts: 50\n",
      "recalc metrics\n",
      "num of strong hyps for test real: 24\n",
      "pred test real\n",
      "num of strong hyps for cb: 24\n",
      "pred cb train\n",
      "pred cb test\n",
      "num of strong hyps for svc: 24\n",
      "pred svc train\n",
      "pred svc test\n",
      "num of strong hyps for nn: 24\n",
      "pred nn train\n",
      "pred nn test\n"
     ]
    },
    {
     "name": "stderr",
     "output_type": "stream",
     "text": [
      "/root/anaconda3/lib/python3.7/site-packages/sklearn/linear_model/_logistic.py:940: ConvergenceWarning:\n",
      "\n",
      "lbfgs failed to converge (status=1):\n",
      "STOP: TOTAL NO. of ITERATIONS REACHED LIMIT.\n",
      "\n",
      "Increase the number of iterations (max_iter) or scale the data as shown in:\n",
      "    https://scikit-learn.org/stable/modules/preprocessing.html\n",
      "Please also refer to the documentation for alternative solver options:\n",
      "    https://scikit-learn.org/stable/modules/linear_model.html#logistic-regression\n",
      "\n",
      "/root/anaconda3/lib/python3.7/site-packages/sklearn/linear_model/_logistic.py:940: ConvergenceWarning:\n",
      "\n",
      "lbfgs failed to converge (status=1):\n",
      "STOP: TOTAL NO. of ITERATIONS REACHED LIMIT.\n",
      "\n",
      "Increase the number of iterations (max_iter) or scale the data as shown in:\n",
      "    https://scikit-learn.org/stable/modules/preprocessing.html\n",
      "Please also refer to the documentation for alternative solver options:\n",
      "    https://scikit-learn.org/stable/modules/linear_model.html#logistic-regression\n",
      "\n",
      "/root/anaconda3/lib/python3.7/site-packages/sklearn/linear_model/_logistic.py:940: ConvergenceWarning:\n",
      "\n",
      "lbfgs failed to converge (status=1):\n",
      "STOP: TOTAL NO. of ITERATIONS REACHED LIMIT.\n",
      "\n",
      "Increase the number of iterations (max_iter) or scale the data as shown in:\n",
      "    https://scikit-learn.org/stable/modules/preprocessing.html\n",
      "Please also refer to the documentation for alternative solver options:\n",
      "    https://scikit-learn.org/stable/modules/linear_model.html#logistic-regression\n",
      "\n",
      "/root/anaconda3/lib/python3.7/site-packages/sklearn/linear_model/_logistic.py:940: ConvergenceWarning:\n",
      "\n",
      "lbfgs failed to converge (status=1):\n",
      "STOP: TOTAL NO. of ITERATIONS REACHED LIMIT.\n",
      "\n",
      "Increase the number of iterations (max_iter) or scale the data as shown in:\n",
      "    https://scikit-learn.org/stable/modules/preprocessing.html\n",
      "Please also refer to the documentation for alternative solver options:\n",
      "    https://scikit-learn.org/stable/modules/linear_model.html#logistic-regression\n",
      "\n"
     ]
    },
    {
     "name": "stdout",
     "output_type": "stream",
     "text": [
      "modified contexts\n",
      "construct lattice, n concepts: 921\n",
      "recalc metrics\n",
      "pred test real\n",
      "300    4\n",
      "301    7\n",
      "302    1\n",
      "303    2\n",
      "304    4\n",
      "Name: y, dtype: uint8 [1. 1. 1. 1. 4.]\n",
      "pred cb train\n",
      "pred cb test\n",
      "pred svc train\n",
      "pred svc test\n",
      "pred nn train\n",
      "pred nn test\n",
      "modified contexts: train_size=900, test_size=100\n"
     ]
    },
    {
     "name": "stderr",
     "output_type": "stream",
     "text": [
      "/opt/lib/fca_interp.py:750: RuntimeWarning:\n",
      "\n",
      "divide by zero encountered in log2\n",
      "\n",
      "/opt/lib/fca_interp.py:751: RuntimeWarning:\n",
      "\n",
      "divide by zero encountered in log2\n",
      "\n"
     ]
    },
    {
     "name": "stdout",
     "output_type": "stream",
     "text": [
      "construct lattice, n concepts: 50\n",
      "recalc metrics\n",
      "pred test real\n",
      "pred cb train\n",
      "pred cb test\n",
      "pred svc train\n",
      "pred svc test\n",
      "pred nn train\n",
      "pred nn test\n",
      "modified contexts: train_size=900, test_size=100\n",
      "construct lattice, n concepts: 50\n",
      "recalc metrics\n",
      "num of strong hyps for test real: 25\n",
      "pred test real\n",
      "num of strong hyps for cb: 25\n",
      "pred cb train\n",
      "pred cb test\n",
      "num of strong hyps for svc: 25\n",
      "pred svc train\n",
      "pred svc test\n",
      "num of strong hyps for nn: 25\n",
      "pred nn train\n",
      "pred nn test\n"
     ]
    },
    {
     "name": "stderr",
     "output_type": "stream",
     "text": [
      "/root/anaconda3/lib/python3.7/site-packages/sklearn/linear_model/_logistic.py:940: ConvergenceWarning:\n",
      "\n",
      "lbfgs failed to converge (status=1):\n",
      "STOP: TOTAL NO. of ITERATIONS REACHED LIMIT.\n",
      "\n",
      "Increase the number of iterations (max_iter) or scale the data as shown in:\n",
      "    https://scikit-learn.org/stable/modules/preprocessing.html\n",
      "Please also refer to the documentation for alternative solver options:\n",
      "    https://scikit-learn.org/stable/modules/linear_model.html#logistic-regression\n",
      "\n",
      "/root/anaconda3/lib/python3.7/site-packages/sklearn/linear_model/_logistic.py:940: ConvergenceWarning:\n",
      "\n",
      "lbfgs failed to converge (status=1):\n",
      "STOP: TOTAL NO. of ITERATIONS REACHED LIMIT.\n",
      "\n",
      "Increase the number of iterations (max_iter) or scale the data as shown in:\n",
      "    https://scikit-learn.org/stable/modules/preprocessing.html\n",
      "Please also refer to the documentation for alternative solver options:\n",
      "    https://scikit-learn.org/stable/modules/linear_model.html#logistic-regression\n",
      "\n",
      "/root/anaconda3/lib/python3.7/site-packages/sklearn/linear_model/_logistic.py:940: ConvergenceWarning:\n",
      "\n",
      "lbfgs failed to converge (status=1):\n",
      "STOP: TOTAL NO. of ITERATIONS REACHED LIMIT.\n",
      "\n",
      "Increase the number of iterations (max_iter) or scale the data as shown in:\n",
      "    https://scikit-learn.org/stable/modules/preprocessing.html\n",
      "Please also refer to the documentation for alternative solver options:\n",
      "    https://scikit-learn.org/stable/modules/linear_model.html#logistic-regression\n",
      "\n",
      "/root/anaconda3/lib/python3.7/site-packages/sklearn/linear_model/_logistic.py:940: ConvergenceWarning:\n",
      "\n",
      "lbfgs failed to converge (status=1):\n",
      "STOP: TOTAL NO. of ITERATIONS REACHED LIMIT.\n",
      "\n",
      "Increase the number of iterations (max_iter) or scale the data as shown in:\n",
      "    https://scikit-learn.org/stable/modules/preprocessing.html\n",
      "Please also refer to the documentation for alternative solver options:\n",
      "    https://scikit-learn.org/stable/modules/linear_model.html#logistic-regression\n",
      "\n"
     ]
    },
    {
     "name": "stdout",
     "output_type": "stream",
     "text": [
      "modified contexts\n",
      "construct lattice, n concepts: 917\n",
      "recalc metrics\n",
      "pred test real\n",
      "400    2\n",
      "401    8\n",
      "402    3\n",
      "403    8\n",
      "404    2\n",
      "Name: y, dtype: uint8 [1. 3. 1. 4. 1.]\n",
      "pred cb train\n",
      "pred cb test\n",
      "pred svc train\n",
      "pred svc test\n",
      "pred nn train\n",
      "pred nn test\n",
      "modified contexts: train_size=900, test_size=100\n"
     ]
    },
    {
     "name": "stderr",
     "output_type": "stream",
     "text": [
      "/opt/lib/fca_interp.py:750: RuntimeWarning:\n",
      "\n",
      "divide by zero encountered in log2\n",
      "\n",
      "/opt/lib/fca_interp.py:751: RuntimeWarning:\n",
      "\n",
      "divide by zero encountered in log2\n",
      "\n"
     ]
    },
    {
     "name": "stdout",
     "output_type": "stream",
     "text": [
      "construct lattice, n concepts: 50\n",
      "recalc metrics\n",
      "pred test real\n",
      "pred cb train\n",
      "pred cb test\n",
      "pred svc train\n",
      "pred svc test\n",
      "pred nn train\n",
      "pred nn test\n",
      "modified contexts: train_size=900, test_size=100\n",
      "construct lattice, n concepts: 50\n",
      "recalc metrics\n",
      "num of strong hyps for test real: 25\n",
      "pred test real\n",
      "num of strong hyps for cb: 25\n",
      "pred cb train\n",
      "pred cb test\n",
      "num of strong hyps for svc: 25\n",
      "pred svc train\n",
      "pred svc test\n",
      "num of strong hyps for nn: 25\n",
      "pred nn train\n",
      "pred nn test\n"
     ]
    },
    {
     "name": "stderr",
     "output_type": "stream",
     "text": [
      "/root/anaconda3/lib/python3.7/site-packages/sklearn/linear_model/_logistic.py:940: ConvergenceWarning:\n",
      "\n",
      "lbfgs failed to converge (status=1):\n",
      "STOP: TOTAL NO. of ITERATIONS REACHED LIMIT.\n",
      "\n",
      "Increase the number of iterations (max_iter) or scale the data as shown in:\n",
      "    https://scikit-learn.org/stable/modules/preprocessing.html\n",
      "Please also refer to the documentation for alternative solver options:\n",
      "    https://scikit-learn.org/stable/modules/linear_model.html#logistic-regression\n",
      "\n",
      "/root/anaconda3/lib/python3.7/site-packages/sklearn/linear_model/_logistic.py:940: ConvergenceWarning:\n",
      "\n",
      "lbfgs failed to converge (status=1):\n",
      "STOP: TOTAL NO. of ITERATIONS REACHED LIMIT.\n",
      "\n",
      "Increase the number of iterations (max_iter) or scale the data as shown in:\n",
      "    https://scikit-learn.org/stable/modules/preprocessing.html\n",
      "Please also refer to the documentation for alternative solver options:\n",
      "    https://scikit-learn.org/stable/modules/linear_model.html#logistic-regression\n",
      "\n",
      "/root/anaconda3/lib/python3.7/site-packages/sklearn/linear_model/_logistic.py:940: ConvergenceWarning:\n",
      "\n",
      "lbfgs failed to converge (status=1):\n",
      "STOP: TOTAL NO. of ITERATIONS REACHED LIMIT.\n",
      "\n",
      "Increase the number of iterations (max_iter) or scale the data as shown in:\n",
      "    https://scikit-learn.org/stable/modules/preprocessing.html\n",
      "Please also refer to the documentation for alternative solver options:\n",
      "    https://scikit-learn.org/stable/modules/linear_model.html#logistic-regression\n",
      "\n",
      "/root/anaconda3/lib/python3.7/site-packages/sklearn/linear_model/_logistic.py:940: ConvergenceWarning:\n",
      "\n",
      "lbfgs failed to converge (status=1):\n",
      "STOP: TOTAL NO. of ITERATIONS REACHED LIMIT.\n",
      "\n",
      "Increase the number of iterations (max_iter) or scale the data as shown in:\n",
      "    https://scikit-learn.org/stable/modules/preprocessing.html\n",
      "Please also refer to the documentation for alternative solver options:\n",
      "    https://scikit-learn.org/stable/modules/linear_model.html#logistic-regression\n",
      "\n"
     ]
    },
    {
     "name": "stdout",
     "output_type": "stream",
     "text": [
      "modified contexts\n",
      "construct lattice, n concepts: 908\n",
      "recalc metrics\n",
      "pred test real\n",
      "500    3\n",
      "501    9\n",
      "502    5\n",
      "503    2\n",
      "504    1\n",
      "Name: y, dtype: uint8 [3. 1. 1. 1. 1.]\n",
      "pred cb train\n",
      "pred cb test\n",
      "pred svc train\n",
      "pred svc test\n",
      "pred nn train\n",
      "pred nn test\n",
      "modified contexts: train_size=900, test_size=100\n"
     ]
    },
    {
     "name": "stderr",
     "output_type": "stream",
     "text": [
      "/opt/lib/fca_interp.py:750: RuntimeWarning:\n",
      "\n",
      "divide by zero encountered in log2\n",
      "\n",
      "/opt/lib/fca_interp.py:751: RuntimeWarning:\n",
      "\n",
      "divide by zero encountered in log2\n",
      "\n"
     ]
    },
    {
     "name": "stdout",
     "output_type": "stream",
     "text": [
      "construct lattice, n concepts: 50\n",
      "recalc metrics\n",
      "pred test real\n",
      "pred cb train\n",
      "pred cb test\n",
      "pred svc train\n",
      "pred svc test\n",
      "pred nn train\n",
      "pred nn test\n",
      "modified contexts: train_size=900, test_size=100\n",
      "construct lattice, n concepts: 50\n",
      "recalc metrics\n",
      "num of strong hyps for test real: 22\n",
      "pred test real\n",
      "num of strong hyps for cb: 22\n",
      "pred cb train\n",
      "pred cb test\n",
      "num of strong hyps for svc: 22\n",
      "pred svc train\n",
      "pred svc test\n",
      "num of strong hyps for nn: 22\n",
      "pred nn train\n",
      "pred nn test\n"
     ]
    },
    {
     "name": "stderr",
     "output_type": "stream",
     "text": [
      "/root/anaconda3/lib/python3.7/site-packages/sklearn/linear_model/_logistic.py:940: ConvergenceWarning:\n",
      "\n",
      "lbfgs failed to converge (status=1):\n",
      "STOP: TOTAL NO. of ITERATIONS REACHED LIMIT.\n",
      "\n",
      "Increase the number of iterations (max_iter) or scale the data as shown in:\n",
      "    https://scikit-learn.org/stable/modules/preprocessing.html\n",
      "Please also refer to the documentation for alternative solver options:\n",
      "    https://scikit-learn.org/stable/modules/linear_model.html#logistic-regression\n",
      "\n",
      "/root/anaconda3/lib/python3.7/site-packages/sklearn/linear_model/_logistic.py:940: ConvergenceWarning:\n",
      "\n",
      "lbfgs failed to converge (status=1):\n",
      "STOP: TOTAL NO. of ITERATIONS REACHED LIMIT.\n",
      "\n",
      "Increase the number of iterations (max_iter) or scale the data as shown in:\n",
      "    https://scikit-learn.org/stable/modules/preprocessing.html\n",
      "Please also refer to the documentation for alternative solver options:\n",
      "    https://scikit-learn.org/stable/modules/linear_model.html#logistic-regression\n",
      "\n",
      "/root/anaconda3/lib/python3.7/site-packages/sklearn/linear_model/_logistic.py:940: ConvergenceWarning:\n",
      "\n",
      "lbfgs failed to converge (status=1):\n",
      "STOP: TOTAL NO. of ITERATIONS REACHED LIMIT.\n",
      "\n",
      "Increase the number of iterations (max_iter) or scale the data as shown in:\n",
      "    https://scikit-learn.org/stable/modules/preprocessing.html\n",
      "Please also refer to the documentation for alternative solver options:\n",
      "    https://scikit-learn.org/stable/modules/linear_model.html#logistic-regression\n",
      "\n",
      "/root/anaconda3/lib/python3.7/site-packages/sklearn/linear_model/_logistic.py:940: ConvergenceWarning:\n",
      "\n",
      "lbfgs failed to converge (status=1):\n",
      "STOP: TOTAL NO. of ITERATIONS REACHED LIMIT.\n",
      "\n",
      "Increase the number of iterations (max_iter) or scale the data as shown in:\n",
      "    https://scikit-learn.org/stable/modules/preprocessing.html\n",
      "Please also refer to the documentation for alternative solver options:\n",
      "    https://scikit-learn.org/stable/modules/linear_model.html#logistic-regression\n",
      "\n"
     ]
    },
    {
     "name": "stdout",
     "output_type": "stream",
     "text": [
      "modified contexts\n",
      "construct lattice, n concepts: 933\n",
      "recalc metrics\n",
      "pred test real\n",
      "600    6\n",
      "601    8\n",
      "602    6\n",
      "603    8\n",
      "604    5\n",
      "Name: y, dtype: uint8 [1. 1. 1. 8. 1.]\n",
      "pred cb train\n",
      "pred cb test\n",
      "pred svc train\n",
      "pred svc test\n",
      "pred nn train\n",
      "pred nn test\n",
      "modified contexts: train_size=900, test_size=100\n"
     ]
    },
    {
     "name": "stderr",
     "output_type": "stream",
     "text": [
      "/opt/lib/fca_interp.py:750: RuntimeWarning:\n",
      "\n",
      "divide by zero encountered in log2\n",
      "\n",
      "/opt/lib/fca_interp.py:751: RuntimeWarning:\n",
      "\n",
      "divide by zero encountered in log2\n",
      "\n"
     ]
    },
    {
     "name": "stdout",
     "output_type": "stream",
     "text": [
      "construct lattice, n concepts: 50\n",
      "recalc metrics\n",
      "pred test real\n",
      "pred cb train\n",
      "pred cb test\n",
      "pred svc train\n",
      "pred svc test\n",
      "pred nn train\n",
      "pred nn test\n",
      "modified contexts: train_size=900, test_size=100\n",
      "construct lattice, n concepts: 50\n",
      "recalc metrics\n",
      "num of strong hyps for test real: 22\n",
      "pred test real\n",
      "num of strong hyps for cb: 22\n",
      "pred cb train\n",
      "pred cb test\n",
      "num of strong hyps for svc: 22\n",
      "pred svc train\n",
      "pred svc test\n",
      "num of strong hyps for nn: 22\n",
      "pred nn train\n",
      "pred nn test\n"
     ]
    },
    {
     "name": "stderr",
     "output_type": "stream",
     "text": [
      "/root/anaconda3/lib/python3.7/site-packages/sklearn/linear_model/_logistic.py:940: ConvergenceWarning:\n",
      "\n",
      "lbfgs failed to converge (status=1):\n",
      "STOP: TOTAL NO. of ITERATIONS REACHED LIMIT.\n",
      "\n",
      "Increase the number of iterations (max_iter) or scale the data as shown in:\n",
      "    https://scikit-learn.org/stable/modules/preprocessing.html\n",
      "Please also refer to the documentation for alternative solver options:\n",
      "    https://scikit-learn.org/stable/modules/linear_model.html#logistic-regression\n",
      "\n",
      "/root/anaconda3/lib/python3.7/site-packages/sklearn/linear_model/_logistic.py:940: ConvergenceWarning:\n",
      "\n",
      "lbfgs failed to converge (status=1):\n",
      "STOP: TOTAL NO. of ITERATIONS REACHED LIMIT.\n",
      "\n",
      "Increase the number of iterations (max_iter) or scale the data as shown in:\n",
      "    https://scikit-learn.org/stable/modules/preprocessing.html\n",
      "Please also refer to the documentation for alternative solver options:\n",
      "    https://scikit-learn.org/stable/modules/linear_model.html#logistic-regression\n",
      "\n",
      "/root/anaconda3/lib/python3.7/site-packages/sklearn/linear_model/_logistic.py:940: ConvergenceWarning:\n",
      "\n",
      "lbfgs failed to converge (status=1):\n",
      "STOP: TOTAL NO. of ITERATIONS REACHED LIMIT.\n",
      "\n",
      "Increase the number of iterations (max_iter) or scale the data as shown in:\n",
      "    https://scikit-learn.org/stable/modules/preprocessing.html\n",
      "Please also refer to the documentation for alternative solver options:\n",
      "    https://scikit-learn.org/stable/modules/linear_model.html#logistic-regression\n",
      "\n",
      "/root/anaconda3/lib/python3.7/site-packages/sklearn/linear_model/_logistic.py:940: ConvergenceWarning:\n",
      "\n",
      "lbfgs failed to converge (status=1):\n",
      "STOP: TOTAL NO. of ITERATIONS REACHED LIMIT.\n",
      "\n",
      "Increase the number of iterations (max_iter) or scale the data as shown in:\n",
      "    https://scikit-learn.org/stable/modules/preprocessing.html\n",
      "Please also refer to the documentation for alternative solver options:\n",
      "    https://scikit-learn.org/stable/modules/linear_model.html#logistic-regression\n",
      "\n"
     ]
    },
    {
     "name": "stdout",
     "output_type": "stream",
     "text": [
      "modified contexts\n",
      "construct lattice, n concepts: 933\n",
      "recalc metrics\n",
      "pred test real\n",
      "700    1\n",
      "701    0\n",
      "702    7\n",
      "703    7\n",
      "704    0\n",
      "Name: y, dtype: uint8 [1. 1. 7. 7. 1.]\n",
      "pred cb train\n",
      "pred cb test\n",
      "pred svc train\n",
      "pred svc test\n",
      "pred nn train\n",
      "pred nn test\n",
      "modified contexts: train_size=900, test_size=100\n"
     ]
    },
    {
     "name": "stderr",
     "output_type": "stream",
     "text": [
      "/opt/lib/fca_interp.py:750: RuntimeWarning:\n",
      "\n",
      "divide by zero encountered in log2\n",
      "\n",
      "/opt/lib/fca_interp.py:751: RuntimeWarning:\n",
      "\n",
      "divide by zero encountered in log2\n",
      "\n"
     ]
    },
    {
     "name": "stdout",
     "output_type": "stream",
     "text": [
      "construct lattice, n concepts: 50\n",
      "recalc metrics\n",
      "pred test real\n",
      "pred cb train\n",
      "pred cb test\n",
      "pred svc train\n",
      "pred svc test\n",
      "pred nn train\n",
      "pred nn test\n",
      "modified contexts: train_size=900, test_size=100\n",
      "construct lattice, n concepts: 50\n",
      "recalc metrics\n",
      "num of strong hyps for test real: 24\n",
      "pred test real\n",
      "num of strong hyps for cb: 24\n",
      "pred cb train\n",
      "pred cb test\n",
      "num of strong hyps for svc: 24\n",
      "pred svc train\n",
      "pred svc test\n",
      "num of strong hyps for nn: 24\n",
      "pred nn train\n",
      "pred nn test\n"
     ]
    },
    {
     "name": "stderr",
     "output_type": "stream",
     "text": [
      "/root/anaconda3/lib/python3.7/site-packages/sklearn/linear_model/_logistic.py:940: ConvergenceWarning:\n",
      "\n",
      "lbfgs failed to converge (status=1):\n",
      "STOP: TOTAL NO. of ITERATIONS REACHED LIMIT.\n",
      "\n",
      "Increase the number of iterations (max_iter) or scale the data as shown in:\n",
      "    https://scikit-learn.org/stable/modules/preprocessing.html\n",
      "Please also refer to the documentation for alternative solver options:\n",
      "    https://scikit-learn.org/stable/modules/linear_model.html#logistic-regression\n",
      "\n",
      "/root/anaconda3/lib/python3.7/site-packages/sklearn/linear_model/_logistic.py:940: ConvergenceWarning:\n",
      "\n",
      "lbfgs failed to converge (status=1):\n",
      "STOP: TOTAL NO. of ITERATIONS REACHED LIMIT.\n",
      "\n",
      "Increase the number of iterations (max_iter) or scale the data as shown in:\n",
      "    https://scikit-learn.org/stable/modules/preprocessing.html\n",
      "Please also refer to the documentation for alternative solver options:\n",
      "    https://scikit-learn.org/stable/modules/linear_model.html#logistic-regression\n",
      "\n",
      "/root/anaconda3/lib/python3.7/site-packages/sklearn/linear_model/_logistic.py:940: ConvergenceWarning:\n",
      "\n",
      "lbfgs failed to converge (status=1):\n",
      "STOP: TOTAL NO. of ITERATIONS REACHED LIMIT.\n",
      "\n",
      "Increase the number of iterations (max_iter) or scale the data as shown in:\n",
      "    https://scikit-learn.org/stable/modules/preprocessing.html\n",
      "Please also refer to the documentation for alternative solver options:\n",
      "    https://scikit-learn.org/stable/modules/linear_model.html#logistic-regression\n",
      "\n",
      "/root/anaconda3/lib/python3.7/site-packages/sklearn/linear_model/_logistic.py:940: ConvergenceWarning:\n",
      "\n",
      "lbfgs failed to converge (status=1):\n",
      "STOP: TOTAL NO. of ITERATIONS REACHED LIMIT.\n",
      "\n",
      "Increase the number of iterations (max_iter) or scale the data as shown in:\n",
      "    https://scikit-learn.org/stable/modules/preprocessing.html\n",
      "Please also refer to the documentation for alternative solver options:\n",
      "    https://scikit-learn.org/stable/modules/linear_model.html#logistic-regression\n",
      "\n"
     ]
    },
    {
     "name": "stdout",
     "output_type": "stream",
     "text": [
      "modified contexts\n",
      "construct lattice, n concepts: 936\n",
      "recalc metrics\n",
      "pred test real\n",
      "800    8\n",
      "801    3\n",
      "802    4\n",
      "803    4\n",
      "804    0\n",
      "Name: y, dtype: uint8 [1. 1. 4. 1. 1.]\n",
      "pred cb train\n",
      "pred cb test\n",
      "pred svc train\n",
      "pred svc test\n",
      "pred nn train\n",
      "pred nn test\n",
      "modified contexts: train_size=900, test_size=100\n"
     ]
    },
    {
     "name": "stderr",
     "output_type": "stream",
     "text": [
      "/opt/lib/fca_interp.py:750: RuntimeWarning:\n",
      "\n",
      "divide by zero encountered in log2\n",
      "\n",
      "/opt/lib/fca_interp.py:751: RuntimeWarning:\n",
      "\n",
      "divide by zero encountered in log2\n",
      "\n"
     ]
    },
    {
     "name": "stdout",
     "output_type": "stream",
     "text": [
      "construct lattice, n concepts: 50\n",
      "recalc metrics\n",
      "pred test real\n",
      "pred cb train\n",
      "pred cb test\n",
      "pred svc train\n",
      "pred svc test\n",
      "pred nn train\n",
      "pred nn test\n",
      "modified contexts: train_size=900, test_size=100\n",
      "construct lattice, n concepts: 50\n",
      "recalc metrics\n",
      "num of strong hyps for test real: 23\n",
      "pred test real\n",
      "num of strong hyps for cb: 24\n",
      "pred cb train\n",
      "pred cb test\n",
      "num of strong hyps for svc: 23\n",
      "pred svc train\n",
      "pred svc test\n",
      "num of strong hyps for nn: 23\n",
      "pred nn train\n",
      "pred nn test\n"
     ]
    },
    {
     "name": "stderr",
     "output_type": "stream",
     "text": [
      "/root/anaconda3/lib/python3.7/site-packages/sklearn/linear_model/_logistic.py:940: ConvergenceWarning:\n",
      "\n",
      "lbfgs failed to converge (status=1):\n",
      "STOP: TOTAL NO. of ITERATIONS REACHED LIMIT.\n",
      "\n",
      "Increase the number of iterations (max_iter) or scale the data as shown in:\n",
      "    https://scikit-learn.org/stable/modules/preprocessing.html\n",
      "Please also refer to the documentation for alternative solver options:\n",
      "    https://scikit-learn.org/stable/modules/linear_model.html#logistic-regression\n",
      "\n",
      "/root/anaconda3/lib/python3.7/site-packages/sklearn/linear_model/_logistic.py:940: ConvergenceWarning:\n",
      "\n",
      "lbfgs failed to converge (status=1):\n",
      "STOP: TOTAL NO. of ITERATIONS REACHED LIMIT.\n",
      "\n",
      "Increase the number of iterations (max_iter) or scale the data as shown in:\n",
      "    https://scikit-learn.org/stable/modules/preprocessing.html\n",
      "Please also refer to the documentation for alternative solver options:\n",
      "    https://scikit-learn.org/stable/modules/linear_model.html#logistic-regression\n",
      "\n",
      "/root/anaconda3/lib/python3.7/site-packages/sklearn/linear_model/_logistic.py:940: ConvergenceWarning:\n",
      "\n",
      "lbfgs failed to converge (status=1):\n",
      "STOP: TOTAL NO. of ITERATIONS REACHED LIMIT.\n",
      "\n",
      "Increase the number of iterations (max_iter) or scale the data as shown in:\n",
      "    https://scikit-learn.org/stable/modules/preprocessing.html\n",
      "Please also refer to the documentation for alternative solver options:\n",
      "    https://scikit-learn.org/stable/modules/linear_model.html#logistic-regression\n",
      "\n",
      "/root/anaconda3/lib/python3.7/site-packages/sklearn/linear_model/_logistic.py:940: ConvergenceWarning:\n",
      "\n",
      "lbfgs failed to converge (status=1):\n",
      "STOP: TOTAL NO. of ITERATIONS REACHED LIMIT.\n",
      "\n",
      "Increase the number of iterations (max_iter) or scale the data as shown in:\n",
      "    https://scikit-learn.org/stable/modules/preprocessing.html\n",
      "Please also refer to the documentation for alternative solver options:\n",
      "    https://scikit-learn.org/stable/modules/linear_model.html#logistic-regression\n",
      "\n"
     ]
    },
    {
     "name": "stdout",
     "output_type": "stream",
     "text": [
      "modified contexts\n",
      "construct lattice, n concepts: 929\n",
      "recalc metrics\n",
      "pred test real\n",
      "900    1\n",
      "901    4\n",
      "902    4\n",
      "903    6\n",
      "904    0\n",
      "Name: y, dtype: uint8 [3. 1. 4. 1. 1.]\n",
      "pred cb train\n",
      "pred cb test\n",
      "pred svc train\n",
      "pred svc test\n",
      "pred nn train\n",
      "pred nn test\n",
      "modified contexts: train_size=900, test_size=100\n"
     ]
    },
    {
     "name": "stderr",
     "output_type": "stream",
     "text": [
      "/opt/lib/fca_interp.py:750: RuntimeWarning:\n",
      "\n",
      "divide by zero encountered in log2\n",
      "\n",
      "/opt/lib/fca_interp.py:751: RuntimeWarning:\n",
      "\n",
      "divide by zero encountered in log2\n",
      "\n"
     ]
    },
    {
     "name": "stdout",
     "output_type": "stream",
     "text": [
      "construct lattice, n concepts: 50\n",
      "recalc metrics\n",
      "pred test real\n",
      "pred cb train\n",
      "pred cb test\n",
      "pred svc train\n",
      "pred svc test\n",
      "pred nn train\n",
      "pred nn test\n",
      "modified contexts: train_size=900, test_size=100\n",
      "construct lattice, n concepts: 50\n",
      "recalc metrics\n",
      "num of strong hyps for test real: 24\n",
      "pred test real\n",
      "num of strong hyps for cb: 24\n",
      "pred cb train\n",
      "pred cb test\n",
      "num of strong hyps for svc: 24\n",
      "pred svc train\n",
      "pred svc test\n",
      "num of strong hyps for nn: 24\n",
      "pred nn train\n",
      "pred nn test\n",
      "\n"
     ]
    }
   ],
   "source": [
    "for train_idxs_cv_i, test_idxs_cv_i in tqdm(kf.split(ds_small), total=kf.get_n_splits()):\n",
    "    #continue\n",
    "    train_idxs_cv = ds.index[train_idxs_cv_i]\n",
    "    test_idxs_cv = ds.index[test_idxs_cv_i]\n",
    "    \n",
    "    ds_train = ds.loc[train_idxs_cv]\n",
    "    ds_test = ds.loc[test_idxs_cv]\n",
    "    \n",
    "    stat = {}\n",
    "    #stat['cb_fimps_sv'] = get_fimps_cb(ds_train, cb)\n",
    "    #stat['nn_fimps_sv'] = get_fimps_nn(ds_ohe.loc[train_idxs_cv], model)\n",
    "    #stat['svc_fimps_sv'] = get_fimps_svc(ds_ohe.loc[train_idxs_cv], svc, k=2)\n",
    "\n",
    "    stat_lr = test_lr(ds, preds_ds, train_idxs_cv, test_idxs_cv, bb_types)\n",
    "    stat = dict(stat, **stat_lr)\n",
    "\n",
    "    stat_dts = test_dts(ds, preds_ds, train_idxs_cv, test_idxs_cv, bb_types)\n",
    "    stat = dict(stat, **stat_dts)\n",
    "\n",
    "    stat_dtl = test_dtl(ds, preds_ds, train_idxs_cv, test_idxs_cv, bb_types)\n",
    "    stat = dict(stat, **stat_dtl)\n",
    "\n",
    "    stat_fca_full = test_fca_full(mvcntx_full, train_idxs_cv, test_idxs_cv, fm.get_concepts(), preds_ds, bb_types, verb=True)\n",
    "    stat = dict(stat, **stat_fca_full)\n",
    "\n",
    "    stat_fca_stab = test_fca_stable(mvcntx_full, train_idxs_cv, test_idxs_cv, fm.get_concepts(), preds_ds, bb_types, verb=True)\n",
    "    stat = dict(stat, **stat_fca_stab)\n",
    "    \n",
    "    stat_fca_stab_min = test_fca_stable_strong_min(mvcntx_full, train_idxs_cv, test_idxs_cv, fm.get_concepts(), preds_ds, bb_types, verb=True)\n",
    "    stat = dict(stat, **stat_fca_stab_min)\n",
    "    \n",
    "    stats.append(stat)"
   ]
  },
  {
   "cell_type": "code",
   "execution_count": null,
   "metadata": {},
   "outputs": [],
   "source": []
  },
  {
   "cell_type": "raw",
   "metadata": {},
   "source": [
    "train_idxs_cv = ds.index[:1000]\n",
    "test_idxs_cv = ds.index[1000:1100]"
   ]
  },
  {
   "cell_type": "raw",
   "metadata": {},
   "source": [
    "ds_train = ds.loc[train_idxs_cv]\n",
    "ds_test = ds.loc[test_idxs_cv]"
   ]
  },
  {
   "cell_type": "raw",
   "metadata": {},
   "source": [
    "stat = {}"
   ]
  },
  {
   "cell_type": "raw",
   "metadata": {},
   "source": [
    "stat['cb_fimps_sv'] = get_fimps_cb(ds_train, cb)"
   ]
  },
  {
   "cell_type": "raw",
   "metadata": {},
   "source": [
    "stat['nn_fimps_sv'] = get_fimps_nn(ds_ohe.loc[train_idxs_cv], model)"
   ]
  },
  {
   "cell_type": "raw",
   "metadata": {},
   "source": [
    "stat['svc_fimps_sv'] = get_fimps_svc(ds_ohe.loc[train_idxs_cv], svc, k=2)"
   ]
  },
  {
   "cell_type": "raw",
   "metadata": {},
   "source": [
    "stat_lr = test_lr(ds, preds_ds, train_idxs_cv, test_idxs_cv, bb_types)\n",
    "stat = dict(stat, **stat_lr)"
   ]
  },
  {
   "cell_type": "raw",
   "metadata": {},
   "source": [
    "stat_lr"
   ]
  },
  {
   "cell_type": "raw",
   "metadata": {},
   "source": [
    "stat_dts = test_dts(ds, preds_ds, train_idxs_cv, test_idxs_cv, bb_types)\n",
    "stat = dict(stat, **stat_dts)"
   ]
  },
  {
   "cell_type": "raw",
   "metadata": {},
   "source": [
    "stat_dtl = test_dtl(ds, preds_ds, train_idxs_cv, test_idxs_cv, bb_types)\n",
    "stat = dict(stat, **stat_dtl)"
   ]
  },
  {
   "cell_type": "raw",
   "metadata": {},
   "source": [
    "stat_fca_full = test_fca_full(mvcntx_full, train_idxs_cv, test_idxs_cv, fm.get_concepts(), preds_ds, bb_types, verb=True)\n",
    "stat = dict(stat, **stat_fca_full)"
   ]
  },
  {
   "cell_type": "raw",
   "metadata": {},
   "source": [
    "stat_fca_full"
   ]
  },
  {
   "cell_type": "raw",
   "metadata": {},
   "source": [
    "stat_fca_stab = test_fca_stable(mvcntx_full, train_idxs_cv, test_idxs_cv, fm.get_concepts(), preds_ds, bb_types, verb=True)\n",
    "stat = dict(stat, **stat_fca_stab)"
   ]
  },
  {
   "cell_type": "raw",
   "metadata": {},
   "source": [
    "stat_fca_stab"
   ]
  },
  {
   "cell_type": "raw",
   "metadata": {},
   "source": [
    "stat_fca_stab_min = test_fca_stable_strong_min(mvcntx_full, train_idxs_cv, test_idxs_cv, fm.get_concepts(), preds_ds, bb_types, verb=True)\n",
    "stat = dict(stat, **stat_fca_stab_min)"
   ]
  },
  {
   "cell_type": "code",
   "execution_count": null,
   "metadata": {},
   "outputs": [],
   "source": []
  },
  {
   "cell_type": "raw",
   "metadata": {},
   "source": [
    "stat_ds = pd.DataFrame([stat])"
   ]
  },
  {
   "cell_type": "code",
   "execution_count": 100,
   "metadata": {},
   "outputs": [],
   "source": [
    "stat_ds = pd.DataFrame(stats)"
   ]
  },
  {
   "cell_type": "code",
   "execution_count": 101,
   "metadata": {},
   "outputs": [],
   "source": [
    "stat_ds_mean = stat_ds.mean()"
   ]
  },
  {
   "cell_type": "code",
   "execution_count": 102,
   "metadata": {},
   "outputs": [
    {
     "data": {
      "text/html": [
       "<div>\n",
       "<style scoped>\n",
       "    .dataframe tbody tr th:only-of-type {\n",
       "        vertical-align: middle;\n",
       "    }\n",
       "\n",
       "    .dataframe tbody tr th {\n",
       "        vertical-align: top;\n",
       "    }\n",
       "\n",
       "    .dataframe thead th {\n",
       "        text-align: right;\n",
       "    }\n",
       "</style>\n",
       "<table border=\"1\" class=\"dataframe\">\n",
       "  <thead>\n",
       "    <tr style=\"text-align: right;\">\n",
       "      <th></th>\n",
       "      <th>stat</th>\n",
       "      <th>value</th>\n",
       "    </tr>\n",
       "  </thead>\n",
       "  <tbody>\n",
       "    <tr>\n",
       "      <th>0</th>\n",
       "      <td>acc_test_real_lr</td>\n",
       "      <td>0.879</td>\n",
       "    </tr>\n",
       "    <tr>\n",
       "      <th>1</th>\n",
       "      <td>cb_acc_train_bb_lr</td>\n",
       "      <td>1.000</td>\n",
       "    </tr>\n",
       "    <tr>\n",
       "      <th>2</th>\n",
       "      <td>cb_acc_test_bb_lr</td>\n",
       "      <td>0.887</td>\n",
       "    </tr>\n",
       "    <tr>\n",
       "      <th>3</th>\n",
       "      <td>svc_acc_train_bb_lr</td>\n",
       "      <td>1.000</td>\n",
       "    </tr>\n",
       "    <tr>\n",
       "      <th>4</th>\n",
       "      <td>svc_acc_test_bb_lr</td>\n",
       "      <td>0.887</td>\n",
       "    </tr>\n",
       "  </tbody>\n",
       "</table>\n",
       "</div>"
      ],
      "text/plain": [
       "                  stat  value\n",
       "0     acc_test_real_lr  0.879\n",
       "1   cb_acc_train_bb_lr  1.000\n",
       "2    cb_acc_test_bb_lr  0.887\n",
       "3  svc_acc_train_bb_lr  1.000\n",
       "4   svc_acc_test_bb_lr  0.887"
      ]
     },
     "execution_count": 102,
     "metadata": {},
     "output_type": "execute_result"
    }
   ],
   "source": [
    "stat_ds_mean_ds = stat_ds_mean.reset_index()\n",
    "stat_ds_mean_ds.columns = ['stat','value']\n",
    "stat_ds_mean_ds.head()"
   ]
  },
  {
   "cell_type": "code",
   "execution_count": 103,
   "metadata": {},
   "outputs": [],
   "source": [
    "import re"
   ]
  },
  {
   "cell_type": "code",
   "execution_count": 104,
   "metadata": {},
   "outputs": [],
   "source": [
    "stat_ds_mean_ds['bb_type'] = [[bb_type for bb_type in bb_types+['real'] if bb_type in x][0] for x in stat_ds_mean_ds['stat']]\n",
    "stat_ds_mean_ds['interp_type'] = [[interp_type for interp_type in ['lr','dts','dtl','fcafull','fcastab','fcastab_min'] if x.endswith(interp_type)][0] for x in stat_ds_mean_ds['stat']]\n",
    "stat_ds_mean_ds['ds_type'] = [[ds_type for ds_type in ['train','test'] if ds_type in x][0] for x in stat_ds_mean_ds['stat']]"
   ]
  },
  {
   "cell_type": "code",
   "execution_count": 105,
   "metadata": {},
   "outputs": [],
   "source": [
    "cds = stat_ds_mean_ds.pivot_table(index='interp_type', columns=['bb_type','ds_type'], values='value')\n",
    "cds = cds.loc[['lr','dts','dtl','fcafull','fcastab','fcastab_min']]\n",
    "cds.columns = ['-'.join(x) for x in cds.columns]"
   ]
  },
  {
   "cell_type": "code",
   "execution_count": 106,
   "metadata": {},
   "outputs": [
    {
     "data": {
      "text/html": [
       "<div>\n",
       "<style scoped>\n",
       "    .dataframe tbody tr th:only-of-type {\n",
       "        vertical-align: middle;\n",
       "    }\n",
       "\n",
       "    .dataframe tbody tr th {\n",
       "        vertical-align: top;\n",
       "    }\n",
       "\n",
       "    .dataframe thead th {\n",
       "        text-align: right;\n",
       "    }\n",
       "</style>\n",
       "<table border=\"1\" class=\"dataframe\">\n",
       "  <thead>\n",
       "    <tr style=\"text-align: right;\">\n",
       "      <th></th>\n",
       "      <th>cb-test</th>\n",
       "      <th>cb-train</th>\n",
       "      <th>nn-test</th>\n",
       "      <th>nn-train</th>\n",
       "      <th>real-test</th>\n",
       "      <th>svc-test</th>\n",
       "      <th>svc-train</th>\n",
       "    </tr>\n",
       "    <tr>\n",
       "      <th>interp_type</th>\n",
       "      <th></th>\n",
       "      <th></th>\n",
       "      <th></th>\n",
       "      <th></th>\n",
       "      <th></th>\n",
       "      <th></th>\n",
       "      <th></th>\n",
       "    </tr>\n",
       "  </thead>\n",
       "  <tbody>\n",
       "    <tr>\n",
       "      <th>lr</th>\n",
       "      <td>0.887</td>\n",
       "      <td>1.000000</td>\n",
       "      <td>0.876</td>\n",
       "      <td>1.000000</td>\n",
       "      <td>0.879</td>\n",
       "      <td>0.887</td>\n",
       "      <td>1.000000</td>\n",
       "    </tr>\n",
       "    <tr>\n",
       "      <th>dts</th>\n",
       "      <td>0.634</td>\n",
       "      <td>0.755333</td>\n",
       "      <td>0.628</td>\n",
       "      <td>0.747222</td>\n",
       "      <td>0.630</td>\n",
       "      <td>0.617</td>\n",
       "      <td>0.746444</td>\n",
       "    </tr>\n",
       "    <tr>\n",
       "      <th>dtl</th>\n",
       "      <td>0.671</td>\n",
       "      <td>1.000000</td>\n",
       "      <td>0.668</td>\n",
       "      <td>1.000000</td>\n",
       "      <td>0.666</td>\n",
       "      <td>0.668</td>\n",
       "      <td>1.000000</td>\n",
       "    </tr>\n",
       "    <tr>\n",
       "      <th>fcafull</th>\n",
       "      <td>0.430</td>\n",
       "      <td>0.960889</td>\n",
       "      <td>0.431</td>\n",
       "      <td>0.958444</td>\n",
       "      <td>0.430</td>\n",
       "      <td>0.434</td>\n",
       "      <td>0.954000</td>\n",
       "    </tr>\n",
       "    <tr>\n",
       "      <th>fcastab</th>\n",
       "      <td>0.413</td>\n",
       "      <td>0.829333</td>\n",
       "      <td>0.412</td>\n",
       "      <td>0.837000</td>\n",
       "      <td>0.411</td>\n",
       "      <td>0.413</td>\n",
       "      <td>0.833333</td>\n",
       "    </tr>\n",
       "    <tr>\n",
       "      <th>fcastab_min</th>\n",
       "      <td>0.451</td>\n",
       "      <td>0.818778</td>\n",
       "      <td>0.456</td>\n",
       "      <td>0.833556</td>\n",
       "      <td>0.455</td>\n",
       "      <td>0.456</td>\n",
       "      <td>0.825111</td>\n",
       "    </tr>\n",
       "  </tbody>\n",
       "</table>\n",
       "</div>"
      ],
      "text/plain": [
       "             cb-test  cb-train  nn-test  nn-train  real-test  svc-test  \\\n",
       "interp_type                                                              \n",
       "lr             0.887  1.000000    0.876  1.000000      0.879     0.887   \n",
       "dts            0.634  0.755333    0.628  0.747222      0.630     0.617   \n",
       "dtl            0.671  1.000000    0.668  1.000000      0.666     0.668   \n",
       "fcafull        0.430  0.960889    0.431  0.958444      0.430     0.434   \n",
       "fcastab        0.413  0.829333    0.412  0.837000      0.411     0.413   \n",
       "fcastab_min    0.451  0.818778    0.456  0.833556      0.455     0.456   \n",
       "\n",
       "             svc-train  \n",
       "interp_type             \n",
       "lr            1.000000  \n",
       "dts           0.746444  \n",
       "dtl           1.000000  \n",
       "fcafull       0.954000  \n",
       "fcastab       0.833333  \n",
       "fcastab_min   0.825111  "
      ]
     },
     "execution_count": 106,
     "metadata": {},
     "output_type": "execute_result"
    }
   ],
   "source": [
    "cds"
   ]
  },
  {
   "cell_type": "code",
   "execution_count": 107,
   "metadata": {},
   "outputs": [],
   "source": [
    "cds.columns = [x.replace('cb','CatBoost').replace('nn','NeuralNetwork').replace('svc','SVM').replace('-test',' Test').replace('-train',' Train') for x in cds.columns]"
   ]
  },
  {
   "cell_type": "code",
   "execution_count": 108,
   "metadata": {},
   "outputs": [],
   "source": [
    "cds = cds.rename({'lr':'LogRegression','dts':'DecisionTree depth5', 'dtl':'DecisionTree maxdepth', 'fcafull':'FCA all concepts',\n",
    "                              'fcastab':'FCA 100 most stable concepts', 'fcastab_min':'FCA strong stable concepts'})"
   ]
  },
  {
   "cell_type": "code",
   "execution_count": 109,
   "metadata": {},
   "outputs": [],
   "source": [
    "cds = cds[[  'CatBoost Train', 'CatBoost Test','NeuralNetwork Train', 'NeuralNetwork Test',  'SVM Train','SVM Test','real Test', ]]"
   ]
  },
  {
   "cell_type": "code",
   "execution_count": 110,
   "metadata": {},
   "outputs": [
    {
     "data": {
      "text/plain": [
       "Index(['CatBoost Train', 'CatBoost Test', 'NeuralNetwork Train',\n",
       "       'NeuralNetwork Test', 'SVM Train', 'SVM Test', 'real Test'],\n",
       "      dtype='object')"
      ]
     },
     "execution_count": 110,
     "metadata": {},
     "output_type": "execute_result"
    }
   ],
   "source": [
    "cds.columns"
   ]
  },
  {
   "cell_type": "code",
   "execution_count": 111,
   "metadata": {},
   "outputs": [
    {
     "data": {
      "image/png": "[encoded data removed]",
      "text/plain": [
       "<Figure size 1440x360 with 2 Axes>"
      ]
     },
     "metadata": {
      "needs_background": "light"
     },
     "output_type": "display_data"
    }
   ],
   "source": [
    "plt.figure(figsize=(20,5))\n",
    "sns.heatmap(cds, annot=True, cmap='Blues')\n",
    "plt.yticks(rotation=0)\n",
    "#plt.xticks(rotation=45)\n",
    "plt.axhline(3, color='black', linewidth=5)\n",
    "for x in [2,4,6]:\n",
    "    plt.axvline(x, color='black', linewidth=5)\n",
    "\n",
    "plt.title('Accuracy of predicting a black box (Mnist dataset)')\n",
    "plt.xlabel('Black box types')\n",
    "plt.ylabel('Surrogate model')\n",
    "plt.show()"
   ]
  },
  {
   "cell_type": "code",
   "execution_count": 112,
   "metadata": {},
   "outputs": [
    {
     "name": "stdout",
     "output_type": "stream",
     "text": [
      "\\begin{tabular}{lrrrrrrr}\n",
      "\\toprule\n",
      "{} &  CatBoost Train &  CatBoost Test &  NeuralNetwork Train &  NeuralNetwork Test &  SVM Train &  SVM Test &  real Test \\\\\n",
      "interp\\_type                  &                 &                &                      &                     &            &           &            \\\\\n",
      "\\midrule\n",
      "LogRegression                &        1.000000 &          0.887 &             1.000000 &               0.876 &   1.000000 &     0.887 &      0.879 \\\\\n",
      "DecisionTree depth5          &        0.755333 &          0.634 &             0.747222 &               0.628 &   0.746444 &     0.617 &      0.630 \\\\\n",
      "DecisionTree maxdepth        &        1.000000 &          0.671 &             1.000000 &               0.668 &   1.000000 &     0.668 &      0.666 \\\\\n",
      "FCA all concepts             &        0.960889 &          0.430 &             0.958444 &               0.431 &   0.954000 &     0.434 &      0.430 \\\\\n",
      "FCA 100 most stable concepts &        0.829333 &          0.413 &             0.837000 &               0.412 &   0.833333 &     0.413 &      0.411 \\\\\n",
      "FCA strong stable concepts   &        0.818778 &          0.451 &             0.833556 &               0.456 &   0.825111 &     0.456 &      0.455 \\\\\n",
      "\\bottomrule\n",
      "\\end{tabular}\n",
      "\n"
     ]
    }
   ],
   "source": [
    "print(cds.to_latex())"
   ]
  },
  {
   "cell_type": "code",
   "execution_count": null,
   "metadata": {},
   "outputs": [],
   "source": []
  },
  {
   "cell_type": "code",
   "execution_count": null,
   "metadata": {},
   "outputs": [],
   "source": [
    "plt.figure(figsize=(20,5))\n",
    "sns.heatmap(cds, annot=True, cmap='Blues')\n",
    "plt.yticks(rotation=0)\n",
    "#plt.xticks(rotation=45)\n",
    "plt.axhline(3, color='black', linewidth=5)\n",
    "for x in [2,4,6]:\n",
    "    plt.axvline(x, color='black', linewidth=5)\n",
    "\n",
    "plt.title('Accuracy of predicting a black box (Mnist dataset)')\n",
    "plt.xlabel('Black box types')\n",
    "plt.ylabel('Surrogate model')\n",
    "plt.show()"
   ]
  },
  {
   "cell_type": "code",
   "execution_count": null,
   "metadata": {},
   "outputs": [],
   "source": []
  },
  {
   "cell_type": "code",
   "execution_count": 69,
   "metadata": {},
   "outputs": [
    {
     "data": {
      "text/plain": [
       "956"
      ]
     },
     "execution_count": 69,
     "metadata": {},
     "output_type": "execute_result"
    }
   ],
   "source": [
    "len(fm.get_concepts())"
   ]
  },
  {
   "cell_type": "code",
   "execution_count": 339,
   "metadata": {},
   "outputs": [
    {
     "data": {
      "text/plain": [
       "1000"
      ]
     },
     "execution_count": 339,
     "metadata": {},
     "output_type": "execute_result"
    }
   ],
   "source": [
    "len(fm.calc_cover_of_concepts(fm.get_concepts()))"
   ]
  },
  {
   "cell_type": "code",
   "execution_count": 336,
   "metadata": {},
   "outputs": [
    {
     "data": {
      "image/png": "[encoded data removed]",
      "text/plain": [
       "<Figure size 720x216 with 2 Axes>"
      ]
     },
     "metadata": {
      "needs_background": "light"
     },
     "output_type": "display_data"
    }
   ],
   "source": [
    "plt.figure(figsize=(10,3))\n",
    "plt.subplot(1,2,1)\n",
    "sns.distplot(np.log1p([len(c.get_extent()) for c in fm.get_concepts()]))\n",
    "xticks = [0, 1, 3, 10, 30, 100, 300, 1000]\n",
    "plt.xticks(np.log1p(xticks), xticks)\n",
    "plt.title('Объём понятий')\n",
    "plt.xlabel('Количество объектов в понятии')\n",
    "\n",
    "plt.subplot(1,2,2)\n",
    "sns.distplot([c._metrics['stab_min_bound'] for c in fm.get_concepts() if c._metrics['stab_min_bound'] is not None])\n",
    "plt.title('Стабильность понятий')\n",
    "plt.xlabel(r'Нижняя граница индекса $\\Delta$-стабильности')\n",
    "plt.show()"
   ]
  },
  {
   "cell_type": "code",
   "execution_count": null,
   "metadata": {},
   "outputs": [],
   "source": []
  },
  {
   "cell_type": "code",
   "execution_count": null,
   "metadata": {},
   "outputs": [],
   "source": []
  },
  {
   "cell_type": "code",
   "execution_count": 62,
   "metadata": {},
   "outputs": [
    {
     "name": "stderr",
     "output_type": "stream",
     "text": [
      "/root/anaconda3/lib/python3.7/site-packages/sklearn/linear_model/_logistic.py:940: ConvergenceWarning:\n",
      "\n",
      "lbfgs failed to converge (status=1):\n",
      "STOP: TOTAL NO. of ITERATIONS REACHED LIMIT.\n",
      "\n",
      "Increase the number of iterations (max_iter) or scale the data as shown in:\n",
      "    https://scikit-learn.org/stable/modules/preprocessing.html\n",
      "Please also refer to the documentation for alternative solver options:\n",
      "    https://scikit-learn.org/stable/modules/linear_model.html#logistic-regression\n",
      "\n"
     ]
    },
    {
     "data": {
      "text/plain": [
       "(1.0,)"
      ]
     },
     "execution_count": 62,
     "metadata": {},
     "output_type": "execute_result"
    }
   ],
   "source": [
    "lr = LogisticRegression()\n",
    "lr.fit(ds, preds_ds.loc[ds.index, 'preds_nn'])\n",
    "preds_test_real = lr.predict(ds)\n",
    "accuracy_score(preds_ds.loc[ds.index,'preds_nn'], preds_test_real),# f1_score(preds_ds.loc[ds.index,'preds_nn'], preds_test_real)"
   ]
  },
  {
   "cell_type": "code",
   "execution_count": 63,
   "metadata": {},
   "outputs": [
    {
     "data": {
      "text/plain": [
       "0.746"
      ]
     },
     "execution_count": 63,
     "metadata": {},
     "output_type": "execute_result"
    }
   ],
   "source": [
    "dt_small = DecisionTreeClassifier(max_depth=5)\n",
    "dt_small.fit(ds, preds_ds.loc[ds.index,'preds_nn'])\n",
    "preds_test_real = dt_small.predict(ds)\n",
    "accuracy_score(preds_ds.loc[ds.index,'preds_nn'], preds_test_real)"
   ]
  },
  {
   "cell_type": "code",
   "execution_count": 64,
   "metadata": {},
   "outputs": [
    {
     "data": {
      "text/plain": [
       "1.0"
      ]
     },
     "execution_count": 64,
     "metadata": {},
     "output_type": "execute_result"
    }
   ],
   "source": [
    "dt_large = DecisionTreeClassifier()\n",
    "dt_large.fit(ds, preds_ds.loc[ds.index,'preds_nn'])\n",
    "preds_test_real = dt_large.predict(ds)\n",
    "accuracy_score(preds_ds.loc[ds.index,'preds_nn'], preds_test_real)"
   ]
  },
  {
   "cell_type": "code",
   "execution_count": null,
   "metadata": {},
   "outputs": [],
   "source": []
  },
  {
   "cell_type": "code",
   "execution_count": 65,
   "metadata": {},
   "outputs": [],
   "source": [
    "g = '321'"
   ]
  },
  {
   "cell_type": "code",
   "execution_count": 340,
   "metadata": {},
   "outputs": [
    {
     "data": {
      "image/png": "[encoded data removed]",
      "text/plain": [
       "<Figure size 432x288 with 1 Axes>"
      ]
     },
     "metadata": {
      "needs_background": "light"
     },
     "output_type": "display_data"
    }
   ],
   "source": [
    "plt.imshow(intent_to_picture(ds.loc[g], ds.columns), cmap='Greys')\n",
    "plt.title(f\"Prediciton: {preds_ds.loc[g, 'preds_nn']}, True value: {preds_ds.loc[g, 'y']}\")\n",
    "plt.axis('off')\n",
    "plt.show()"
   ]
  },
  {
   "cell_type": "code",
   "execution_count": 67,
   "metadata": {},
   "outputs": [
    {
     "data": {
      "text/plain": [
       "array([[2.11361946e-04, 8.19673380e-04, 5.40051265e-03, 2.14399958e-02,\n",
       "        1.95694075e-05, 4.16679920e-04, 2.20827332e-05, 9.55152046e-01,\n",
       "        6.62398773e-04, 1.58556791e-02]])"
      ]
     },
     "execution_count": 67,
     "metadata": {},
     "output_type": "execute_result"
    }
   ],
   "source": [
    "lr.predict_proba(ds.loc[[g]])"
   ]
  },
  {
   "cell_type": "code",
   "execution_count": 68,
   "metadata": {},
   "outputs": [
    {
     "data": {
      "image/png": "[encoded data removed]",
      "text/plain": [
       "<Figure size 432x288 with 2 Axes>"
      ]
     },
     "metadata": {},
     "output_type": "display_data"
    }
   ],
   "source": [
    "for idx, dig in enumerate([7,2]):\n",
    "    plt.subplot(1,2,idx+1)\n",
    "    #plt.imshow(lr.coef_[dig].reshape(img_rows, img_cols), cmap='RdBu_r', vmin=-0.5, vmax=0.5)\n",
    "    plt.imshow(intent_to_picture(lr.coef_[dig]*ds.loc[g], ds.columns), cmap='RdBu_r', vmin=-0.5, vmax=0.5 )\n",
    "    plt.title(f'LogReg importances for {dig}\\nProb: {lr.predict_proba(ds.loc[[g]])[0][dig]:.1%}')\n",
    "    plt.xticks([])\n",
    "    plt.yticks([])\n",
    "plt.tight_layout()\n",
    "plt.show()"
   ]
  },
  {
   "cell_type": "code",
   "execution_count": 71,
   "metadata": {},
   "outputs": [
    {
     "data": {
      "text/html": [
       "<div>\n",
       "<style scoped>\n",
       "    .dataframe tbody tr th:only-of-type {\n",
       "        vertical-align: middle;\n",
       "    }\n",
       "\n",
       "    .dataframe tbody tr th {\n",
       "        vertical-align: top;\n",
       "    }\n",
       "\n",
       "    .dataframe thead th {\n",
       "        text-align: right;\n",
       "    }\n",
       "</style>\n",
       "<table border=\"1\" class=\"dataframe\">\n",
       "  <thead>\n",
       "    <tr style=\"text-align: right;\">\n",
       "      <th></th>\n",
       "      <th>preds_cb</th>\n",
       "      <th>preds_svc</th>\n",
       "      <th>preds_nn</th>\n",
       "      <th>y</th>\n",
       "    </tr>\n",
       "  </thead>\n",
       "  <tbody>\n",
       "    <tr>\n",
       "      <th>321</th>\n",
       "      <td>7</td>\n",
       "      <td>7</td>\n",
       "      <td>7</td>\n",
       "      <td>2</td>\n",
       "    </tr>\n",
       "    <tr>\n",
       "      <th>340</th>\n",
       "      <td>3</td>\n",
       "      <td>3</td>\n",
       "      <td>3</td>\n",
       "      <td>5</td>\n",
       "    </tr>\n",
       "    <tr>\n",
       "      <th>445</th>\n",
       "      <td>0</td>\n",
       "      <td>0</td>\n",
       "      <td>0</td>\n",
       "      <td>6</td>\n",
       "    </tr>\n",
       "    <tr>\n",
       "      <th>582</th>\n",
       "      <td>2</td>\n",
       "      <td>2</td>\n",
       "      <td>2</td>\n",
       "      <td>8</td>\n",
       "    </tr>\n",
       "    <tr>\n",
       "      <th>720</th>\n",
       "      <td>8</td>\n",
       "      <td>8</td>\n",
       "      <td>8</td>\n",
       "      <td>5</td>\n",
       "    </tr>\n",
       "  </tbody>\n",
       "</table>\n",
       "</div>"
      ],
      "text/plain": [
       "     preds_cb  preds_svc  preds_nn  y\n",
       "321         7          7         7  2\n",
       "340         3          3         3  5\n",
       "445         0          0         0  6\n",
       "582         2          2         2  8\n",
       "720         8          8         8  5"
      ]
     },
     "execution_count": 71,
     "metadata": {},
     "output_type": "execute_result"
    }
   ],
   "source": [
    "preds_ds[(preds_ds['preds_nn']!=preds_ds['y'])].head()"
   ]
  },
  {
   "cell_type": "code",
   "execution_count": null,
   "metadata": {},
   "outputs": [],
   "source": []
  },
  {
   "cell_type": "code",
   "execution_count": 72,
   "metadata": {},
   "outputs": [],
   "source": [
    "def get_decisions(estimator, X_test, col_names):\n",
    "    n_nodes = estimator.tree_.node_count\n",
    "    children_left = estimator.tree_.children_left\n",
    "    children_right = estimator.tree_.children_right\n",
    "    feature = estimator.tree_.feature\n",
    "    threshold = estimator.tree_.threshold\n",
    "    \n",
    "    node_depth = np.zeros(shape=n_nodes, dtype=np.int64)\n",
    "    is_leaves = np.zeros(shape=n_nodes, dtype=bool)\n",
    "    stack = [(0, -1)]  # seed is the root node id and its parent depth\n",
    "    while len(stack) > 0:\n",
    "        node_id, parent_depth = stack.pop()\n",
    "        node_depth[node_id] = parent_depth + 1\n",
    "\n",
    "        # If we have a test node\n",
    "        if (children_left[node_id] != children_right[node_id]):\n",
    "            stack.append((children_left[node_id], parent_depth + 1))\n",
    "            stack.append((children_right[node_id], parent_depth + 1))\n",
    "        else:\n",
    "            is_leaves[node_id] = True\n",
    "            \n",
    "    node_indicator = estimator.decision_path(X_test)\n",
    "\n",
    "    leave_id = estimator.apply(X_test)\n",
    "\n",
    "    # Now, it's possible to get the tests that were used to predict a sample or\n",
    "    # a group of samples. First, let's make it for the sample.\n",
    "\n",
    "    # HERE IS WHAT YOU WANT\n",
    "    sample_id = 0\n",
    "    node_index = node_indicator.indices[node_indicator.indptr[sample_id]:\n",
    "                                        node_indicator.indptr[sample_id + 1]]\n",
    "\n",
    "    print('Rules used to predict sample %s: ' % sample_id)\n",
    "    for node_id in node_index:\n",
    "\n",
    "        if leave_id[sample_id] == node_id:  # <-- changed != to ==\n",
    "            #continue # <-- comment out\n",
    "            print(\"leaf node {} reached, no decision here\".format(leave_id[sample_id])) # <--\n",
    "\n",
    "        else: # < -- added else to iterate through decision nodes\n",
    "            if (X_test[sample_id, feature[node_id]] <= threshold[node_id]):\n",
    "                threshold_sign = \"<=\"\n",
    "            else:\n",
    "                threshold_sign = \">\"\n",
    "\n",
    "            print(\"decision id node %s : (%s (= %s) %s %s)\"\n",
    "                  % (node_id,\n",
    "                     col_names[feature[node_id]],\n",
    "                     X_test[sample_id, feature[node_id]], # <-- changed i to sample_id\n",
    "                     threshold_sign,\n",
    "                     threshold[node_id]))"
   ]
  },
  {
   "cell_type": "code",
   "execution_count": 345,
   "metadata": {},
   "outputs": [
    {
     "data": {
      "text/plain": [
       "array([0.17142857, 0.37142857])"
      ]
     },
     "execution_count": 345,
     "metadata": {},
     "output_type": "execute_result"
    }
   ],
   "source": [
    "dt_small.predict_proba(ds.loc[[g]])[0][[2,7]]"
   ]
  },
  {
   "cell_type": "code",
   "execution_count": 73,
   "metadata": {},
   "outputs": [
    {
     "name": "stdout",
     "output_type": "stream",
     "text": [
      "Rules used to predict sample 0: \n",
      "decision id node 0 : ((11,14) (= 0.0) <= 0.36666667461395264)\n",
      "decision id node 1 : ((20,10) (= 0.32941177) > 0.0019607844296842813)\n",
      "decision id node 17 : ((15,15) (= 0.9882353) > 0.009803922148421407)\n",
      "decision id node 25 : ((11,10) (= 0.0) <= 0.03137254994362593)\n",
      "decision id node 26 : ((5,14) (= 0.0) <= 0.003921568859368563)\n",
      "leaf node 27 reached, no decision here\n"
     ]
    }
   ],
   "source": [
    "get_decisions(dt_small, ds.loc[[g]].values, ds.columns)"
   ]
  },
  {
   "cell_type": "code",
   "execution_count": 346,
   "metadata": {},
   "outputs": [
    {
     "data": {
      "text/plain": [
       "array([0., 1.])"
      ]
     },
     "execution_count": 346,
     "metadata": {},
     "output_type": "execute_result"
    }
   ],
   "source": [
    "dt_large.predict_proba(ds.loc[[g]])[0][[2,7]]"
   ]
  },
  {
   "cell_type": "code",
   "execution_count": 74,
   "metadata": {},
   "outputs": [
    {
     "name": "stdout",
     "output_type": "stream",
     "text": [
      "Rules used to predict sample 0: \n",
      "decision id node 0 : ((11,14) (= 0.0) <= 0.36666667461395264)\n",
      "decision id node 1 : ((20,10) (= 0.32941177) > 0.0019607844296842813)\n",
      "decision id node 145 : ((15,15) (= 0.9882353) > 0.009803922148421407)\n",
      "decision id node 171 : ((11,10) (= 0.0) <= 0.03137254994362593)\n",
      "decision id node 172 : ((5,14) (= 0.0) <= 0.003921568859368563)\n",
      "decision id node 173 : ((8,17) (= 0.95686275) > 0.04313725605607033)\n",
      "decision id node 177 : ((9,12) (= 0.0) <= 0.1196078471839428)\n",
      "decision id node 178 : ((16,16) (= 0.0) <= 0.11764705926179886)\n",
      "decision id node 179 : ((12,17) (= 0.92941177) > 0.8568627536296844)\n",
      "leaf node 181 reached, no decision here\n"
     ]
    }
   ],
   "source": [
    "get_decisions(dt_large, ds.loc[[g]].values, ds.columns)"
   ]
  },
  {
   "cell_type": "code",
   "execution_count": null,
   "metadata": {},
   "outputs": [],
   "source": []
  },
  {
   "cell_type": "code",
   "execution_count": 75,
   "metadata": {},
   "outputs": [
    {
     "data": {
      "text/plain": [
       "956"
      ]
     },
     "execution_count": 75,
     "metadata": {},
     "output_type": "execute_result"
    }
   ],
   "source": [
    "len(fm.get_concepts())"
   ]
  },
  {
   "cell_type": "code",
   "execution_count": 76,
   "metadata": {},
   "outputs": [],
   "source": [
    "fm.construct_lattice()"
   ]
  },
  {
   "cell_type": "code",
   "execution_count": 77,
   "metadata": {},
   "outputs": [
    {
     "name": "stderr",
     "output_type": "stream",
     "text": [
      "/opt/lib/fca_interp.py:750: RuntimeWarning:\n",
      "\n",
      "divide by zero encountered in log2\n",
      "\n",
      "/opt/lib/fca_interp.py:751: RuntimeWarning:\n",
      "\n",
      "divide by zero encountered in log2\n",
      "\n"
     ]
    }
   ],
   "source": [
    "fm.calc_stability_approx()"
   ]
  },
  {
   "cell_type": "code",
   "execution_count": 79,
   "metadata": {},
   "outputs": [
    {
     "data": {
      "application/vnd.jupyter.widget-view+json": {
       "model_id": "c5e7df3d3a734165b2a8b5421af456a4",
       "version_major": 2,
       "version_minor": 0
      },
      "text/plain": [
       "HBox(children=(FloatProgress(value=0.0, max=956.0), HTML(value='')))"
      ]
     },
     "metadata": {},
     "output_type": "display_data"
    },
    {
     "name": "stdout",
     "output_type": "stream",
     "text": [
      "\n"
     ]
    }
   ],
   "source": [
    "for c in tqdm(fm.get_concepts()):\n",
    "    ext_ = c.get_extent()\n",
    "    if len(ext_)==0:\n",
    "        continue\n",
    "    c._metrics['mean_y_true'] = preds_ds.loc[ext_, 'y'].value_counts().sort_values(ascending=False).index[0] #.mode()\n",
    "    for i in range(10):\n",
    "        c._metrics[f'mean_y_true_{i}'] = (preds_ds.loc[ext_, 'y'].astype(int)==int(i)).mean()\n",
    "    for bb_type in bb_types:\n",
    "        c._metrics[f'mean_y_preds_{bb_type}'] = preds_ds.loc[ext_, f\"preds_{bb_type}\"].value_counts().sort_values(ascending=False).index[0] #.mode()\n",
    "        for i in range(10):\n",
    "            c._metrics[f'mean_y_preds_{bb_type}_{i}'] = (preds_ds.loc[ext_, f'preds_{bb_type}']==i).mean()\n"
   ]
  },
  {
   "cell_type": "code",
   "execution_count": 80,
   "metadata": {},
   "outputs": [
    {
     "data": {
      "text/plain": [
       "100"
      ]
     },
     "execution_count": 80,
     "metadata": {},
     "output_type": "execute_result"
    }
   ],
   "source": [
    "stable_concepts = sorted(fm.get_concepts(), key=lambda c: -fcai.get_not_none(c._metrics['stab_min_bound'],-1000))[:100]\n",
    "strong_stable_concepts = [c for c in stable_concepts if abs(c._metrics['mean_y_preds_nn_7']-0.5)+0.5>=0.6]\n",
    "#stable_concepts[0]\n",
    "len(strong_stable_concepts)"
   ]
  },
  {
   "cell_type": "code",
   "execution_count": 81,
   "metadata": {},
   "outputs": [
    {
     "name": "stdout",
     "output_type": "stream",
     "text": [
      "6\n"
     ]
    },
    {
     "data": {
      "text/plain": [
       "3"
      ]
     },
     "execution_count": 81,
     "metadata": {},
     "output_type": "execute_result"
    }
   ],
   "source": [
    "max_concepts = sorted([c for c in strong_stable_concepts if g in c.get_extent() and len(c.get_extent())>1], key=lambda c: len(c.get_extent()))\n",
    "print(len(max_concepts))\n",
    "for i in range(len(max_concepts)):\n",
    "    if i>=len(max_concepts):\n",
    "        break\n",
    "    c = max_concepts[i]\n",
    "    max_concepts = [c_ for c_ in max_concepts if c_==c or not c.is_subconcept_of(c_)]\n",
    "len(max_concepts)"
   ]
  },
  {
   "cell_type": "code",
   "execution_count": 82,
   "metadata": {},
   "outputs": [],
   "source": [
    "max_concepts = sorted(max_concepts, key=lambda c: len(c.get_extent()))"
   ]
  },
  {
   "cell_type": "code",
   "execution_count": 83,
   "metadata": {},
   "outputs": [
    {
     "data": {
      "image/png": "[encoded data removed]",
      "text/plain": [
       "<Figure size 432x288 with 3 Axes>"
      ]
     },
     "metadata": {},
     "output_type": "display_data"
    }
   ],
   "source": [
    "for idx, c in enumerate(max_concepts):\n",
    "    plt.subplot(1,3,idx+1)\n",
    "    plt.imshow(intent_to_picture(c.get_intent(), ds.columns), cmap='Greys', vmax=1, vmin=0)\n",
    "    plt.title(f\"Prob. of 7: {c._metrics['mean_y_preds_nn_7']:.1%},\\nProb. of 2: {c._metrics['mean_y_preds_nn_2']:.0%}\")\n",
    "    plt.xticks([])\n",
    "    plt.yticks([])\n",
    "plt.tight_layout()\n",
    "plt.show()"
   ]
  },
  {
   "cell_type": "code",
   "execution_count": null,
   "metadata": {},
   "outputs": [],
   "source": []
  },
  {
   "cell_type": "code",
   "execution_count": null,
   "metadata": {},
   "outputs": [],
   "source": []
  },
  {
   "cell_type": "code",
   "execution_count": 84,
   "metadata": {},
   "outputs": [
    {
     "data": {
      "text/plain": [
       "(1000, 784)"
      ]
     },
     "execution_count": 84,
     "metadata": {},
     "output_type": "execute_result"
    }
   ],
   "source": [
    "ds.shape"
   ]
  },
  {
   "cell_type": "code",
   "execution_count": 85,
   "metadata": {},
   "outputs": [],
   "source": [
    "import shap"
   ]
  },
  {
   "cell_type": "code",
   "execution_count": 89,
   "metadata": {},
   "outputs": [
    {
     "data": {
      "text/plain": [
       "(10000, 28, 28, 1)"
      ]
     },
     "execution_count": 89,
     "metadata": {},
     "output_type": "execute_result"
    }
   ],
   "source": [
    "x_test_nn.shape"
   ]
  },
  {
   "cell_type": "code",
   "execution_count": 133,
   "metadata": {},
   "outputs": [],
   "source": [
    "# select a set of background examples to take an expectation over\n",
    "background = x_test_nn[:100]\n",
    "\n",
    "# explain predictions of the model on four images\n",
    "e = shap.DeepExplainer(model, background)\n",
    "# ...or pass tensors directly\n",
    "# e = shap.DeepExplainer((model.layers[0].input, model.layers[-1].output), background)\n",
    "shap_values = e.shap_values(x_test_nn[int(g):int(g)+1])\n",
    "\n",
    "# plot the feature attributions\n",
    "#shap.image_plot(shap_values, -x_test[1:5])"
   ]
  },
  {
   "cell_type": "code",
   "execution_count": 233,
   "metadata": {},
   "outputs": [],
   "source": [
    "shap_values_ = shap_values"
   ]
  },
  {
   "cell_type": "code",
   "execution_count": 235,
   "metadata": {},
   "outputs": [
    {
     "data": {
      "image/png": "[encoded data removed]",
      "text/plain": [
       "<Figure size 1440x218.182 with 12 Axes>"
      ]
     },
     "metadata": {
      "needs_background": "light"
     },
     "output_type": "display_data"
    }
   ],
   "source": [
    "shap.image_plot(shap_values_, -x_test_nn[int(g):int(g)+1])"
   ]
  },
  {
   "cell_type": "code",
   "execution_count": null,
   "metadata": {},
   "outputs": [],
   "source": []
  },
  {
   "cell_type": "code",
   "execution_count": 237,
   "metadata": {},
   "outputs": [],
   "source": [
    "import lime"
   ]
  },
  {
   "cell_type": "code",
   "execution_count": 240,
   "metadata": {},
   "outputs": [],
   "source": [
    "import lime"
   ]
  },
  {
   "cell_type": "code",
   "execution_count": 242,
   "metadata": {},
   "outputs": [],
   "source": [
    "from lime import lime_image"
   ]
  },
  {
   "cell_type": "code",
   "execution_count": 273,
   "metadata": {},
   "outputs": [],
   "source": [
    "from skimage.color import gray2rgb,  rgb2gray, label2rgb"
   ]
  },
  {
   "cell_type": "code",
   "execution_count": 243,
   "metadata": {},
   "outputs": [],
   "source": [
    "explainer = lime_image.LimeImageExplainer()"
   ]
  },
  {
   "cell_type": "code",
   "execution_count": 253,
   "metadata": {},
   "outputs": [],
   "source": [
    "X_vec = np.stack([gray2rgb(iimg) for iimg in x_test_nn.reshape((-1, 28, 28))],0)"
   ]
  },
  {
   "cell_type": "code",
   "execution_count": 254,
   "metadata": {},
   "outputs": [
    {
     "data": {
      "text/plain": [
       "(10000, 28, 28, 3)"
      ]
     },
     "execution_count": 254,
     "metadata": {},
     "output_type": "execute_result"
    }
   ],
   "source": [
    "X_vec.shape"
   ]
  },
  {
   "cell_type": "code",
   "execution_count": 292,
   "metadata": {},
   "outputs": [],
   "source": [
    "def f_(X):\n",
    "    return model.predict_proba(rgb2gray(X).reshape(-1,28,28,1))"
   ]
  },
  {
   "cell_type": "code",
   "execution_count": 280,
   "metadata": {},
   "outputs": [],
   "source": [
    "from lime.wrappers.scikit_image import SegmentationAlgorithm"
   ]
  },
  {
   "cell_type": "code",
   "execution_count": 281,
   "metadata": {},
   "outputs": [],
   "source": [
    "segmenter = SegmentationAlgorithm('quickshift', kernel_size=1, max_dist=200, ratio=0.2)"
   ]
  },
  {
   "cell_type": "code",
   "execution_count": 316,
   "metadata": {},
   "outputs": [
    {
     "data": {
      "application/vnd.jupyter.widget-view+json": {
       "model_id": "f1c12999a1b44b19bab81aaab2ecf3f2",
       "version_major": 2,
       "version_minor": 0
      },
      "text/plain": [
       "HBox(children=(FloatProgress(value=0.0, max=100000.0), HTML(value='')))"
      ]
     },
     "metadata": {},
     "output_type": "display_data"
    },
    {
     "name": "stdout",
     "output_type": "stream",
     "text": [
      "\n"
     ]
    }
   ],
   "source": [
    "    explanation = explainer.explain_instance(X_vec[int(g)], f_, top_labels=10, hide_color=False, num_samples=100000, )#segmentation_fn=segmenter)"
   ]
  },
  {
   "cell_type": "code",
   "execution_count": 300,
   "metadata": {},
   "outputs": [],
   "source": [
    "from skimage.segmentation import mark_boundaries"
   ]
  },
  {
   "cell_type": "code",
   "execution_count": 317,
   "metadata": {},
   "outputs": [
    {
     "data": {
      "text/plain": [
       "<matplotlib.image.AxesImage at 0x7f6e3dcfb190>"
      ]
     },
     "execution_count": 317,
     "metadata": {},
     "output_type": "execute_result"
    },
    {
     "data": {
      "image/png": "[encoded data removed]",
      "text/plain": [
       "<Figure size 432x288 with 1 Axes>"
      ]
     },
     "metadata": {
      "needs_background": "light"
     },
     "output_type": "display_data"
    }
   ],
   "source": [
    "temp, mask = explanation.get_image_and_mask(2, positive_only=False, num_features=5, hide_rest=False, min_weight = 0.01)\n",
    "plt.imshow(mark_boundaries(temp / 2 + 0.5, mask))"
   ]
  },
  {
   "cell_type": "code",
   "execution_count": 318,
   "metadata": {},
   "outputs": [
    {
     "data": {
      "text/plain": [
       "<matplotlib.image.AxesImage at 0x7f6e3dff8290>"
      ]
     },
     "execution_count": 318,
     "metadata": {},
     "output_type": "execute_result"
    },
    {
     "data": {
      "image/png": "[encoded data removed]",
      "text/plain": [
       "<Figure size 432x288 with 1 Axes>"
      ]
     },
     "metadata": {
      "needs_background": "light"
     },
     "output_type": "display_data"
    }
   ],
   "source": [
    "temp, mask = explanation.get_image_and_mask(7, positive_only=False, num_features=5, hide_rest=False, min_weight = 0.1)\n",
    "plt.imshow(mark_boundaries(temp / 2 + 0.5, mask))"
   ]
  },
  {
   "cell_type": "markdown",
   "metadata": {},
   "source": [
    "https://github.com/marcotcr/lime/blob/master/doc/notebooks/Tutorial%20-%20MNIST%20and%20RF.ipynb"
   ]
  },
  {
   "cell_type": "code",
   "execution_count": 334,
   "metadata": {},
   "outputs": [
    {
     "data": {
      "image/png": "[encoded data removed]",
      "text/plain": [
       "<Figure size 432x288 with 2 Axes>"
      ]
     },
     "metadata": {
      "needs_background": "light"
     },
     "output_type": "display_data"
    }
   ],
   "source": [
    "plt.subplot(1,2,1)\n",
    "emp, mask = explanation.get_image_and_mask(2, positive_only=True, num_features=10, hide_rest=False, min_weight = 0.01 )\n",
    "plt.imshow(label2rgb(mask,temp, bg_label = 0), interpolation = 'nearest')\n",
    "plt.title('Positive for {}\\nActual {}'.format(7, 2))\n",
    "plt.axis('off')\n",
    "\n",
    "\n",
    "plt.subplot(1,2,2)\n",
    "emp, mask = explanation.get_image_and_mask(7, positive_only=True, num_features=10, hide_rest=False, min_weight = 0.01 )\n",
    "plt.imshow(label2rgb(mask,temp, bg_label = 0), interpolation = 'nearest')\n",
    "plt.title('Positive for {}\\nActual {}'.format(7, 2))\n",
    "plt.axis('off')\n",
    "plt.show()"
   ]
  },
  {
   "cell_type": "code",
   "execution_count": null,
   "metadata": {},
   "outputs": [],
   "source": []
  },
  {
   "cell_type": "code",
   "execution_count": null,
   "metadata": {},
   "outputs": [],
   "source": []
  }
 ],
 "metadata": {
  "kernelspec": {
   "display_name": "Python 3",
   "language": "python",
   "name": "python3"
  },
  "language_info": {
   "codemirror_mode": {
    "name": "ipython",
    "version": 3
   },
   "file_extension": ".py",
   "mimetype": "text/x-python",
   "name": "python",
   "nbconvert_exporter": "python",
   "pygments_lexer": "ipython3",
   "version": "3.7.6"
  }
 },
 "nbformat": 4,
 "nbformat_minor": 4
}
