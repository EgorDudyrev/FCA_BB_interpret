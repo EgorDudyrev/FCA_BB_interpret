{
 "cells": [
  {
   "cell_type": "markdown",
   "metadata": {},
   "source": [
    "# Что сделано\n",
    "\n",
    "* Создан докер контейнер\n",
    "* сокращены функции ```Context.__repr__```, ```Context.pretty_repr```\n",
    "* вынес конструкцию ```a if a is not None else b``` в функцию ```get_not_none(a,b)```\n",
    "* В очередной раз поменял синтаксис из-за ```networkx```\n",
    "* Начал удалять переменные ```y_pred_mean```, ```y_fact_mean``` - надо перенести их в разряд метрик"
   ]
  },
  {
   "cell_type": "code",
   "execution_count": 1,
   "metadata": {},
   "outputs": [
    {
     "data": {
      "text/html": [
       "<style>.container { width:90% !important; }</style>"
      ],
      "text/plain": [
       "<IPython.core.display.HTML object>"
      ]
     },
     "metadata": {},
     "output_type": "display_data"
    }
   ],
   "source": [
    "import numpy as np\n",
    "import pandas as pd\n",
    "\n",
    "from catboost import CatBoostClassifier, Pool, CatBoostRegressor\n",
    "from sklearn.model_selection import train_test_split\n",
    "from sklearn.metrics import accuracy_score, precision_score, recall_score\n",
    "\n",
    "from IPython.core.display import display, HTML\n",
    "display(HTML(\"<style>.container { width:90% !important; }</style>\"))\n",
    "\n",
    "import os\n",
    "import sys\n",
    "BASE_PATH = os.path.realpath('..')\n",
    "DATASETS_DIR = os.path.join(BASE_PATH, 'datasets')\n",
    "LIB_DIR = os.path.join(BASE_PATH,'lib')\n",
    "if LIB_DIR not in sys.path:\n",
    "    sys.path.append(LIB_DIR)\n",
    "\n",
    "import matplotlib.pyplot as plt\n",
    "import seaborn as sns\n",
    "from tqdm.notebook import tqdm\n",
    "\n",
    "from importlib import reload"
   ]
  },
  {
   "cell_type": "code",
   "execution_count": 3,
   "metadata": {},
   "outputs": [],
   "source": [
    "import fca_interp as fcai"
   ]
  },
  {
   "cell_type": "code",
   "execution_count": 320,
   "metadata": {},
   "outputs": [],
   "source": [
    "from importlib import reload"
   ]
  },
  {
   "cell_type": "code",
   "execution_count": 321,
   "metadata": {},
   "outputs": [
    {
     "data": {
      "text/html": [
       "<div>\n",
       "<style scoped>\n",
       "    .dataframe tbody tr th:only-of-type {\n",
       "        vertical-align: middle;\n",
       "    }\n",
       "\n",
       "    .dataframe tbody tr th {\n",
       "        vertical-align: top;\n",
       "    }\n",
       "\n",
       "    .dataframe thead th {\n",
       "        text-align: right;\n",
       "    }\n",
       "</style>\n",
       "<table border=\"1\" class=\"dataframe\">\n",
       "  <thead>\n",
       "    <tr style=\"text-align: right;\">\n",
       "      <th></th>\n",
       "      <th>color</th>\n",
       "      <th>firm</th>\n",
       "      <th>smooth</th>\n",
       "      <th>form</th>\n",
       "      <th>fruit</th>\n",
       "    </tr>\n",
       "    <tr>\n",
       "      <th>title</th>\n",
       "      <th></th>\n",
       "      <th></th>\n",
       "      <th></th>\n",
       "      <th></th>\n",
       "      <th></th>\n",
       "    </tr>\n",
       "  </thead>\n",
       "  <tbody>\n",
       "    <tr>\n",
       "      <th>apple</th>\n",
       "      <td>yellow</td>\n",
       "      <td>False</td>\n",
       "      <td>True</td>\n",
       "      <td>round</td>\n",
       "      <td>True</td>\n",
       "    </tr>\n",
       "    <tr>\n",
       "      <th>grapefruit</th>\n",
       "      <td>yellow</td>\n",
       "      <td>False</td>\n",
       "      <td>False</td>\n",
       "      <td>round</td>\n",
       "      <td>True</td>\n",
       "    </tr>\n",
       "    <tr>\n",
       "      <th>kiwi</th>\n",
       "      <td>green</td>\n",
       "      <td>False</td>\n",
       "      <td>False</td>\n",
       "      <td>oval</td>\n",
       "      <td>True</td>\n",
       "    </tr>\n",
       "    <tr>\n",
       "      <th>plum</th>\n",
       "      <td>blue</td>\n",
       "      <td>False</td>\n",
       "      <td>True</td>\n",
       "      <td>oval</td>\n",
       "      <td>True</td>\n",
       "    </tr>\n",
       "    <tr>\n",
       "      <th>toy cube</th>\n",
       "      <td>green</td>\n",
       "      <td>True</td>\n",
       "      <td>True</td>\n",
       "      <td>cubic</td>\n",
       "      <td>False</td>\n",
       "    </tr>\n",
       "    <tr>\n",
       "      <th>egg</th>\n",
       "      <td>white</td>\n",
       "      <td>True</td>\n",
       "      <td>True</td>\n",
       "      <td>oval</td>\n",
       "      <td>False</td>\n",
       "    </tr>\n",
       "    <tr>\n",
       "      <th>tennis ball</th>\n",
       "      <td>white</td>\n",
       "      <td>False</td>\n",
       "      <td>False</td>\n",
       "      <td>round</td>\n",
       "      <td>False</td>\n",
       "    </tr>\n",
       "    <tr>\n",
       "      <th>mango</th>\n",
       "      <td>green</td>\n",
       "      <td>False</td>\n",
       "      <td>True</td>\n",
       "      <td>oval</td>\n",
       "      <td>True</td>\n",
       "    </tr>\n",
       "  </tbody>\n",
       "</table>\n",
       "</div>"
      ],
      "text/plain": [
       "              color   firm  smooth   form  fruit\n",
       "title                                           \n",
       "apple        yellow  False    True  round   True\n",
       "grapefruit   yellow  False   False  round   True\n",
       "kiwi          green  False   False   oval   True\n",
       "plum           blue  False    True   oval   True\n",
       "toy cube      green   True    True  cubic  False\n",
       "egg           white   True    True   oval  False\n",
       "tennis ball   white  False   False  round  False\n",
       "mango         green  False    True   oval   True"
      ]
     },
     "execution_count": 321,
     "metadata": {},
     "output_type": "execute_result"
    }
   ],
   "source": [
    "mango_ds = pd.read_csv(os.path.join(DATASETS_DIR, 'mango.csv'))\n",
    "mango_ds.index = mango_ds['title']\n",
    "mango_ds = mango_ds.drop('title',1)\n",
    "mango_ds"
   ]
  },
  {
   "cell_type": "code",
   "execution_count": 323,
   "metadata": {},
   "outputs": [],
   "source": [
    "mango_bin_ds = mango_ds.copy()\n",
    "for f in mango_bin_ds.columns:\n",
    "    if mango_bin_ds[f].dtype!=bool:\n",
    "        for v in mango_bin_ds[f].unique():\n",
    "            mango_bin_ds[f\"{f}__is__{v}\"] = mango_bin_ds[f]==v\n",
    "        mango_bin_ds = mango_bin_ds.drop(f,1)"
   ]
  },
  {
   "cell_type": "code",
   "execution_count": 386,
   "metadata": {},
   "outputs": [],
   "source": [
    "fcai = reload(fcai)"
   ]
  },
  {
   "cell_type": "code",
   "execution_count": 387,
   "metadata": {},
   "outputs": [],
   "source": [
    "cntx = fcai.Context(mango_bin_ds)\n",
    "fm = fcai.FormalManager(cntx)\n",
    "fm.construct_concepts()\n",
    "fm.construct_lattice()"
   ]
  },
  {
   "cell_type": "code",
   "execution_count": 392,
   "metadata": {},
   "outputs": [],
   "source": [
    "fig = fm.get_plotly_fig()"
   ]
  },
  {
   "cell_type": "code",
   "execution_count": 393,
   "metadata": {},
   "outputs": [
    {
     "data": {
      "application/vnd.plotly.v1+json": {
       "config": {
        "plotlyServerURL": "https://plot.ly"
       },
       "data": [
        {
         "hoverinfo": "none",
         "line": {
          "color": "#888",
          "width": 0.5
         },
         "mode": "lines",
         "type": "scatter",
         "x": [
          -2,
          0,
          null,
          -2,
          -2,
          null,
          -2,
          1,
          null,
          -2,
          2.5,
          null,
          -2.5,
          3,
          null,
          -2.5,
          -3,
          null,
          -2.5,
          0,
          null,
          -1,
          0.5,
          null,
          -1,
          -0.5,
          null,
          -1,
          0,
          null,
          -3,
          0,
          null,
          -3,
          2.5,
          null,
          -1.5,
          0,
          null,
          -1.5,
          -1,
          null,
          -1.5,
          3,
          null,
          -1.5,
          0,
          null,
          -2,
          2,
          null,
          -2,
          0.5,
          null,
          -2,
          1.5,
          null,
          -0.5,
          2,
          null,
          -0.5,
          0,
          null,
          -1,
          1,
          null,
          -1,
          2,
          null,
          -1,
          1.5,
          null,
          -0.5,
          0,
          null,
          -0.5,
          2,
          null,
          0,
          0.5,
          null,
          0,
          0,
          null,
          0,
          1,
          null,
          0.5,
          2,
          null,
          0.5,
          2,
          null,
          0.5,
          0,
          null,
          0.5,
          0,
          null,
          0,
          2,
          null,
          1,
          0,
          null,
          1,
          1.5,
          null,
          1.5,
          2,
          null,
          1.5,
          0,
          null,
          0,
          2,
          null,
          2.5,
          0,
          null,
          1,
          3,
          null
         ],
         "y": [
          3,
          1,
          null,
          3,
          4,
          null,
          3,
          4,
          null,
          3,
          5,
          null,
          5,
          4,
          null,
          5,
          4,
          null,
          5,
          6,
          null,
          3,
          2,
          null,
          3,
          5,
          null,
          3,
          4,
          null,
          4,
          1,
          null,
          4,
          5,
          null,
          5,
          4,
          null,
          5,
          4,
          null,
          5,
          4,
          null,
          5,
          6,
          null,
          4,
          3,
          null,
          4,
          5,
          null,
          4,
          5,
          null,
          5,
          4,
          null,
          5,
          6,
          null,
          4,
          3,
          null,
          4,
          3,
          null,
          4,
          5,
          null,
          2,
          1,
          null,
          2,
          3,
          null,
          1,
          2,
          null,
          1,
          3,
          null,
          1,
          3,
          null,
          2,
          4,
          null,
          2,
          3,
          null,
          5,
          4,
          null,
          5,
          6,
          null,
          4,
          3,
          null,
          4,
          3,
          null,
          4,
          5,
          null,
          5,
          4,
          null,
          5,
          6,
          null,
          3,
          4,
          null,
          5,
          6,
          null,
          3,
          4,
          null
         ]
        },
        {
         "hoverinfo": "text",
         "hovertext": [
          "Concept 17<br><br>extent (len: 1): egg<br>intent (len: 4): firm, smooth, color__is__white, form__is__oval<br>new extent (len: 1): egg<br>new_intent (len: 0): ∅<br>",
          "Concept 4<br><br>extent (len: 3): apple, grapefruit, tennis ball<br>intent (len: 1): form__is__round<br>new extent (len: 0): ∅<br>new_intent (len: 1): form__is__round<br>",
          "Concept 13<br><br>extent (len: 2): kiwi, mango<br>intent (len: 3): fruit, color__is__green, form__is__oval<br>new extent (len: 1): kiwi<br>new_intent (len: 0): ∅<br>",
          "Concept 7<br><br>extent (len: 1): tennis ball<br>intent (len: 2): color__is__white, form__is__round<br>new extent (len: 1): tennis ball<br>new_intent (len: 0): ∅<br>",
          "Concept 5<br><br>extent (len: 5): apple, grapefruit, kiwi, plum, mango<br>intent (len: 1): fruit<br>new extent (len: 0): ∅<br>new_intent (len: 1): fruit<br>",
          "Concept 11<br><br>extent (len: 3): plum, egg, mango<br>intent (len: 2): smooth, form__is__oval<br>new extent (len: 0): ∅<br>new_intent (len: 0): ∅<br>",
          "Concept 1<br><br>extent (len: 3): kiwi, toy cube, mango<br>intent (len: 1): color__is__green<br>new extent (len: 0): ∅<br>new_intent (len: 1): color__is__green<br>",
          "Concept 12<br><br>extent (len: 3): apple, plum, mango<br>intent (len: 2): smooth, fruit<br>new extent (len: 0): ∅<br>new_intent (len: 0): ∅<br>",
          "Concept 18<br><br>extent (len: 1): plum<br>intent (len: 4): smooth, fruit, color__is__blue, form__is__oval<br>new extent (len: 1): plum<br>new_intent (len: 1): color__is__blue<br>",
          "Concept 21<br><br>extent (len: 0): ∅<br>intent (len: 10): firm, smooth, fruit, color__is__yellow, color__is__green,...<br>new extent (len: 0): ∅<br>new_intent (len: 0): ∅<br>",
          "Concept 19<br><br>extent (len: 1): mango<br>intent (len: 4): smooth, fruit, color__is__green, form__is__oval<br>new extent (len: 1): mango<br>new_intent (len: 0): ∅<br>",
          "Concept 3<br><br>extent (len: 4): kiwi, plum, egg, mango<br>intent (len: 1): form__is__oval<br>new extent (len: 0): ∅<br>new_intent (len: 1): form__is__oval<br>",
          "Concept 9<br><br>extent (len: 3): kiwi, plum, mango<br>intent (len: 2): fruit, form__is__oval<br>new extent (len: 0): ∅<br>new_intent (len: 0): ∅<br>",
          "Concept 8<br><br>extent (len: 2): toy cube, egg<br>intent (len: 2): firm, smooth<br>new extent (len: 0): ∅<br>new_intent (len: 1): firm<br>",
          "Concept 6<br><br>extent (len: 5): apple, plum, toy cube, egg, mango<br>intent (len: 1): smooth<br>new extent (len: 0): ∅<br>new_intent (len: 1): smooth<br>",
          "Concept 16<br><br>extent (len: 1): toy cube<br>intent (len: 4): firm, smooth, color__is__green, form__is__cubic<br>new extent (len: 1): toy cube<br>new_intent (len: 1): form__is__cubic<br>",
          "Concept 2<br><br>extent (len: 2): egg, tennis ball<br>intent (len: 1): color__is__white<br>new extent (len: 0): ∅<br>new_intent (len: 1): color__is__white<br>",
          "Concept 0<br><br>extent (len: 8): apple, grapefruit, kiwi, plum, toy cube,...<br>intent (len: 0): ∅<br>new extent (len: 0): ∅<br>new_intent (len: 0): ∅<br>",
          "Concept 10<br><br>extent (len: 2): toy cube, mango<br>intent (len: 2): smooth, color__is__green<br>new extent (len: 0): ∅<br>new_intent (len: 0): ∅<br>",
          "Concept 20<br><br>extent (len: 1): apple<br>intent (len: 4): smooth, fruit, color__is__yellow, form__is__round<br>new extent (len: 1): apple<br>new_intent (len: 0): ∅<br>",
          "Concept 15<br><br>extent (len: 2): plum, mango<br>intent (len: 3): smooth, fruit, form__is__oval<br>new extent (len: 0): ∅<br>new_intent (len: 0): ∅<br>",
          "Concept 14<br><br>extent (len: 2): apple, grapefruit<br>intent (len: 3): fruit, color__is__yellow, form__is__round<br>new extent (len: 1): grapefruit<br>new_intent (len: 1): color__is__yellow<br>"
         ],
         "marker": {
          "color": [
           "grey",
           "grey",
           "grey",
           "grey",
           "grey",
           "grey",
           "grey",
           "grey",
           "grey",
           "grey",
           "grey",
           "grey",
           "grey",
           "grey",
           "grey",
           "grey",
           "grey",
           "grey",
           "grey",
           "grey",
           "grey",
           "grey"
          ],
          "colorbar": {
           "thickness": 15,
           "title": {
            "side": "right",
            "text": "y_mean"
           },
           "xanchor": "left"
          },
          "colorscale": [
           [
            0,
            "rgb(103,0,31)"
           ],
           [
            0.1,
            "rgb(178,24,43)"
           ],
           [
            0.2,
            "rgb(214,96,77)"
           ],
           [
            0.3,
            "rgb(244,165,130)"
           ],
           [
            0.4,
            "rgb(253,219,199)"
           ],
           [
            0.5,
            "rgb(247,247,247)"
           ],
           [
            0.6,
            "rgb(209,229,240)"
           ],
           [
            0.7,
            "rgb(146,197,222)"
           ],
           [
            0.8,
            "rgb(67,147,195)"
           ],
           [
            0.9,
            "rgb(33,102,172)"
           ],
           [
            1,
            "rgb(5,48,97)"
           ]
          ],
          "line": {
           "width": 2
          },
          "reversescale": true,
          "showscale": true,
          "size": 10
         },
         "mode": "markers+text",
         "text": [
          "<br>egg",
          "form__is__round<br>",
          "<br>kiwi",
          "<br>tennis ball",
          "fruit<br>",
          "<br>",
          "color__is__green<br>",
          "<br>",
          "color__is__blue<br>plum",
          "<br>",
          "<br>mango",
          "form__is__oval<br>",
          "<br>",
          "firm<br>",
          "smooth<br>",
          "form__is__cubic<br>toy cube",
          "color__is__white<br>",
          "<br>",
          "<br>",
          "<br>apple",
          "<br>",
          "color__is__yellow<br>grapefruit"
         ],
         "textposition": "middle right",
         "type": "scatter",
         "x": [
          -2,
          -2.5,
          -1,
          -3,
          -1.5,
          -2,
          -0.5,
          -1,
          -0.5,
          0,
          0.5,
          0.5,
          0,
          1,
          1.5,
          0,
          2.5,
          0,
          2,
          1,
          2,
          3
         ],
         "y": [
          3,
          5,
          3,
          4,
          5,
          4,
          5,
          4,
          2,
          1,
          2,
          5,
          4,
          4,
          5,
          3,
          5,
          6,
          4,
          3,
          3,
          4
         ]
        }
       ],
       "layout": {
        "height": 500,
        "hovermode": "closest",
        "margin": {
         "b": 20,
         "l": 5,
         "r": 5,
         "t": 40
        },
        "showlegend": false,
        "template": {
         "data": {
          "bar": [
           {
            "error_x": {
             "color": "#2a3f5f"
            },
            "error_y": {
             "color": "#2a3f5f"
            },
            "marker": {
             "line": {
              "color": "#E5ECF6",
              "width": 0.5
             }
            },
            "type": "bar"
           }
          ],
          "barpolar": [
           {
            "marker": {
             "line": {
              "color": "#E5ECF6",
              "width": 0.5
             }
            },
            "type": "barpolar"
           }
          ],
          "carpet": [
           {
            "aaxis": {
             "endlinecolor": "#2a3f5f",
             "gridcolor": "white",
             "linecolor": "white",
             "minorgridcolor": "white",
             "startlinecolor": "#2a3f5f"
            },
            "baxis": {
             "endlinecolor": "#2a3f5f",
             "gridcolor": "white",
             "linecolor": "white",
             "minorgridcolor": "white",
             "startlinecolor": "#2a3f5f"
            },
            "type": "carpet"
           }
          ],
          "choropleth": [
           {
            "colorbar": {
             "outlinewidth": 0,
             "ticks": ""
            },
            "type": "choropleth"
           }
          ],
          "contour": [
           {
            "colorbar": {
             "outlinewidth": 0,
             "ticks": ""
            },
            "colorscale": [
             [
              0,
              "#0d0887"
             ],
             [
              0.1111111111111111,
              "#46039f"
             ],
             [
              0.2222222222222222,
              "#7201a8"
             ],
             [
              0.3333333333333333,
              "#9c179e"
             ],
             [
              0.4444444444444444,
              "#bd3786"
             ],
             [
              0.5555555555555556,
              "#d8576b"
             ],
             [
              0.6666666666666666,
              "#ed7953"
             ],
             [
              0.7777777777777778,
              "#fb9f3a"
             ],
             [
              0.8888888888888888,
              "#fdca26"
             ],
             [
              1,
              "#f0f921"
             ]
            ],
            "type": "contour"
           }
          ],
          "contourcarpet": [
           {
            "colorbar": {
             "outlinewidth": 0,
             "ticks": ""
            },
            "type": "contourcarpet"
           }
          ],
          "heatmap": [
           {
            "colorbar": {
             "outlinewidth": 0,
             "ticks": ""
            },
            "colorscale": [
             [
              0,
              "#0d0887"
             ],
             [
              0.1111111111111111,
              "#46039f"
             ],
             [
              0.2222222222222222,
              "#7201a8"
             ],
             [
              0.3333333333333333,
              "#9c179e"
             ],
             [
              0.4444444444444444,
              "#bd3786"
             ],
             [
              0.5555555555555556,
              "#d8576b"
             ],
             [
              0.6666666666666666,
              "#ed7953"
             ],
             [
              0.7777777777777778,
              "#fb9f3a"
             ],
             [
              0.8888888888888888,
              "#fdca26"
             ],
             [
              1,
              "#f0f921"
             ]
            ],
            "type": "heatmap"
           }
          ],
          "heatmapgl": [
           {
            "colorbar": {
             "outlinewidth": 0,
             "ticks": ""
            },
            "colorscale": [
             [
              0,
              "#0d0887"
             ],
             [
              0.1111111111111111,
              "#46039f"
             ],
             [
              0.2222222222222222,
              "#7201a8"
             ],
             [
              0.3333333333333333,
              "#9c179e"
             ],
             [
              0.4444444444444444,
              "#bd3786"
             ],
             [
              0.5555555555555556,
              "#d8576b"
             ],
             [
              0.6666666666666666,
              "#ed7953"
             ],
             [
              0.7777777777777778,
              "#fb9f3a"
             ],
             [
              0.8888888888888888,
              "#fdca26"
             ],
             [
              1,
              "#f0f921"
             ]
            ],
            "type": "heatmapgl"
           }
          ],
          "histogram": [
           {
            "marker": {
             "colorbar": {
              "outlinewidth": 0,
              "ticks": ""
             }
            },
            "type": "histogram"
           }
          ],
          "histogram2d": [
           {
            "colorbar": {
             "outlinewidth": 0,
             "ticks": ""
            },
            "colorscale": [
             [
              0,
              "#0d0887"
             ],
             [
              0.1111111111111111,
              "#46039f"
             ],
             [
              0.2222222222222222,
              "#7201a8"
             ],
             [
              0.3333333333333333,
              "#9c179e"
             ],
             [
              0.4444444444444444,
              "#bd3786"
             ],
             [
              0.5555555555555556,
              "#d8576b"
             ],
             [
              0.6666666666666666,
              "#ed7953"
             ],
             [
              0.7777777777777778,
              "#fb9f3a"
             ],
             [
              0.8888888888888888,
              "#fdca26"
             ],
             [
              1,
              "#f0f921"
             ]
            ],
            "type": "histogram2d"
           }
          ],
          "histogram2dcontour": [
           {
            "colorbar": {
             "outlinewidth": 0,
             "ticks": ""
            },
            "colorscale": [
             [
              0,
              "#0d0887"
             ],
             [
              0.1111111111111111,
              "#46039f"
             ],
             [
              0.2222222222222222,
              "#7201a8"
             ],
             [
              0.3333333333333333,
              "#9c179e"
             ],
             [
              0.4444444444444444,
              "#bd3786"
             ],
             [
              0.5555555555555556,
              "#d8576b"
             ],
             [
              0.6666666666666666,
              "#ed7953"
             ],
             [
              0.7777777777777778,
              "#fb9f3a"
             ],
             [
              0.8888888888888888,
              "#fdca26"
             ],
             [
              1,
              "#f0f921"
             ]
            ],
            "type": "histogram2dcontour"
           }
          ],
          "mesh3d": [
           {
            "colorbar": {
             "outlinewidth": 0,
             "ticks": ""
            },
            "type": "mesh3d"
           }
          ],
          "parcoords": [
           {
            "line": {
             "colorbar": {
              "outlinewidth": 0,
              "ticks": ""
             }
            },
            "type": "parcoords"
           }
          ],
          "pie": [
           {
            "automargin": true,
            "type": "pie"
           }
          ],
          "scatter": [
           {
            "marker": {
             "colorbar": {
              "outlinewidth": 0,
              "ticks": ""
             }
            },
            "type": "scatter"
           }
          ],
          "scatter3d": [
           {
            "line": {
             "colorbar": {
              "outlinewidth": 0,
              "ticks": ""
             }
            },
            "marker": {
             "colorbar": {
              "outlinewidth": 0,
              "ticks": ""
             }
            },
            "type": "scatter3d"
           }
          ],
          "scattercarpet": [
           {
            "marker": {
             "colorbar": {
              "outlinewidth": 0,
              "ticks": ""
             }
            },
            "type": "scattercarpet"
           }
          ],
          "scattergeo": [
           {
            "marker": {
             "colorbar": {
              "outlinewidth": 0,
              "ticks": ""
             }
            },
            "type": "scattergeo"
           }
          ],
          "scattergl": [
           {
            "marker": {
             "colorbar": {
              "outlinewidth": 0,
              "ticks": ""
             }
            },
            "type": "scattergl"
           }
          ],
          "scattermapbox": [
           {
            "marker": {
             "colorbar": {
              "outlinewidth": 0,
              "ticks": ""
             }
            },
            "type": "scattermapbox"
           }
          ],
          "scatterpolar": [
           {
            "marker": {
             "colorbar": {
              "outlinewidth": 0,
              "ticks": ""
             }
            },
            "type": "scatterpolar"
           }
          ],
          "scatterpolargl": [
           {
            "marker": {
             "colorbar": {
              "outlinewidth": 0,
              "ticks": ""
             }
            },
            "type": "scatterpolargl"
           }
          ],
          "scatterternary": [
           {
            "marker": {
             "colorbar": {
              "outlinewidth": 0,
              "ticks": ""
             }
            },
            "type": "scatterternary"
           }
          ],
          "surface": [
           {
            "colorbar": {
             "outlinewidth": 0,
             "ticks": ""
            },
            "colorscale": [
             [
              0,
              "#0d0887"
             ],
             [
              0.1111111111111111,
              "#46039f"
             ],
             [
              0.2222222222222222,
              "#7201a8"
             ],
             [
              0.3333333333333333,
              "#9c179e"
             ],
             [
              0.4444444444444444,
              "#bd3786"
             ],
             [
              0.5555555555555556,
              "#d8576b"
             ],
             [
              0.6666666666666666,
              "#ed7953"
             ],
             [
              0.7777777777777778,
              "#fb9f3a"
             ],
             [
              0.8888888888888888,
              "#fdca26"
             ],
             [
              1,
              "#f0f921"
             ]
            ],
            "type": "surface"
           }
          ],
          "table": [
           {
            "cells": {
             "fill": {
              "color": "#EBF0F8"
             },
             "line": {
              "color": "white"
             }
            },
            "header": {
             "fill": {
              "color": "#C8D4E3"
             },
             "line": {
              "color": "white"
             }
            },
            "type": "table"
           }
          ]
         },
         "layout": {
          "annotationdefaults": {
           "arrowcolor": "#2a3f5f",
           "arrowhead": 0,
           "arrowwidth": 1
          },
          "coloraxis": {
           "colorbar": {
            "outlinewidth": 0,
            "ticks": ""
           }
          },
          "colorscale": {
           "diverging": [
            [
             0,
             "#8e0152"
            ],
            [
             0.1,
             "#c51b7d"
            ],
            [
             0.2,
             "#de77ae"
            ],
            [
             0.3,
             "#f1b6da"
            ],
            [
             0.4,
             "#fde0ef"
            ],
            [
             0.5,
             "#f7f7f7"
            ],
            [
             0.6,
             "#e6f5d0"
            ],
            [
             0.7,
             "#b8e186"
            ],
            [
             0.8,
             "#7fbc41"
            ],
            [
             0.9,
             "#4d9221"
            ],
            [
             1,
             "#276419"
            ]
           ],
           "sequential": [
            [
             0,
             "#0d0887"
            ],
            [
             0.1111111111111111,
             "#46039f"
            ],
            [
             0.2222222222222222,
             "#7201a8"
            ],
            [
             0.3333333333333333,
             "#9c179e"
            ],
            [
             0.4444444444444444,
             "#bd3786"
            ],
            [
             0.5555555555555556,
             "#d8576b"
            ],
            [
             0.6666666666666666,
             "#ed7953"
            ],
            [
             0.7777777777777778,
             "#fb9f3a"
            ],
            [
             0.8888888888888888,
             "#fdca26"
            ],
            [
             1,
             "#f0f921"
            ]
           ],
           "sequentialminus": [
            [
             0,
             "#0d0887"
            ],
            [
             0.1111111111111111,
             "#46039f"
            ],
            [
             0.2222222222222222,
             "#7201a8"
            ],
            [
             0.3333333333333333,
             "#9c179e"
            ],
            [
             0.4444444444444444,
             "#bd3786"
            ],
            [
             0.5555555555555556,
             "#d8576b"
            ],
            [
             0.6666666666666666,
             "#ed7953"
            ],
            [
             0.7777777777777778,
             "#fb9f3a"
            ],
            [
             0.8888888888888888,
             "#fdca26"
            ],
            [
             1,
             "#f0f921"
            ]
           ]
          },
          "colorway": [
           "#636efa",
           "#EF553B",
           "#00cc96",
           "#ab63fa",
           "#FFA15A",
           "#19d3f3",
           "#FF6692",
           "#B6E880",
           "#FF97FF",
           "#FECB52"
          ],
          "font": {
           "color": "#2a3f5f"
          },
          "geo": {
           "bgcolor": "white",
           "lakecolor": "white",
           "landcolor": "#E5ECF6",
           "showlakes": true,
           "showland": true,
           "subunitcolor": "white"
          },
          "hoverlabel": {
           "align": "left"
          },
          "hovermode": "closest",
          "mapbox": {
           "style": "light"
          },
          "paper_bgcolor": "white",
          "plot_bgcolor": "#E5ECF6",
          "polar": {
           "angularaxis": {
            "gridcolor": "white",
            "linecolor": "white",
            "ticks": ""
           },
           "bgcolor": "#E5ECF6",
           "radialaxis": {
            "gridcolor": "white",
            "linecolor": "white",
            "ticks": ""
           }
          },
          "scene": {
           "xaxis": {
            "backgroundcolor": "#E5ECF6",
            "gridcolor": "white",
            "gridwidth": 2,
            "linecolor": "white",
            "showbackground": true,
            "ticks": "",
            "zerolinecolor": "white"
           },
           "yaxis": {
            "backgroundcolor": "#E5ECF6",
            "gridcolor": "white",
            "gridwidth": 2,
            "linecolor": "white",
            "showbackground": true,
            "ticks": "",
            "zerolinecolor": "white"
           },
           "zaxis": {
            "backgroundcolor": "#E5ECF6",
            "gridcolor": "white",
            "gridwidth": 2,
            "linecolor": "white",
            "showbackground": true,
            "ticks": "",
            "zerolinecolor": "white"
           }
          },
          "shapedefaults": {
           "line": {
            "color": "#2a3f5f"
           }
          },
          "ternary": {
           "aaxis": {
            "gridcolor": "white",
            "linecolor": "white",
            "ticks": ""
           },
           "baxis": {
            "gridcolor": "white",
            "linecolor": "white",
            "ticks": ""
           },
           "bgcolor": "#E5ECF6",
           "caxis": {
            "gridcolor": "white",
            "linecolor": "white",
            "ticks": ""
           }
          },
          "title": {
           "x": 0.05
          },
          "xaxis": {
           "automargin": true,
           "gridcolor": "white",
           "linecolor": "white",
           "ticks": "",
           "title": {
            "standoff": 15
           },
           "zerolinecolor": "white",
           "zerolinewidth": 2
          },
          "yaxis": {
           "automargin": true,
           "gridcolor": "white",
           "linecolor": "white",
           "ticks": "",
           "title": {
            "standoff": 15
           },
           "zerolinecolor": "white",
           "zerolinewidth": 2
          }
         }
        },
        "title": {
         "font": {
          "size": 16
         },
         "text": "Concept Lattice"
        },
        "width": 1000,
        "xaxis": {
         "showgrid": false,
         "showticklabels": false,
         "zeroline": false
        },
        "yaxis": {
         "showgrid": false,
         "showticklabels": false,
         "zeroline": false
        }
       }
      },
      "text/html": [
       "<div>\n",
       "        \n",
       "        \n",
       "            <div id=\"2048e106-cfcf-43ee-ac09-51f1d14ac250\" class=\"plotly-graph-div\" style=\"height:500px; width:1000px;\"></div>\n",
       "            <script type=\"text/javascript\">\n",
       "                require([\"plotly\"], function(Plotly) {\n",
       "                    window.PLOTLYENV=window.PLOTLYENV || {};\n",
       "                    \n",
       "                if (document.getElementById(\"2048e106-cfcf-43ee-ac09-51f1d14ac250\")) {\n",
       "                    Plotly.newPlot(\n",
       "                        '2048e106-cfcf-43ee-ac09-51f1d14ac250',\n",
       "                        [{\"hoverinfo\": \"none\", \"line\": {\"color\": \"#888\", \"width\": 0.5}, \"mode\": \"lines\", \"type\": \"scatter\", \"x\": [-2.0, 0.0, null, -2.0, -2.0, null, -2.0, 1.0, null, -2.0, 2.5, null, -2.5, 3.0, null, -2.5, -3.0, null, -2.5, 0.0, null, -1.0, 0.5, null, -1.0, -0.5, null, -1.0, 0.0, null, -3.0, 0.0, null, -3.0, 2.5, null, -1.5, 0.0, null, -1.5, -1.0, null, -1.5, 3.0, null, -1.5, 0.0, null, -2.0, 2.0, null, -2.0, 0.5, null, -2.0, 1.5, null, -0.5, 2.0, null, -0.5, 0.0, null, -1.0, 1.0, null, -1.0, 2.0, null, -1.0, 1.5, null, -0.5, 0.0, null, -0.5, 2.0, null, 0.0, 0.5, null, 0.0, 0.0, null, 0.0, 1.0, null, 0.5, 2.0, null, 0.5, 2.0, null, 0.5, 0.0, null, 0.5, 0.0, null, 0.0, 2.0, null, 1.0, 0.0, null, 1.0, 1.5, null, 1.5, 2.0, null, 1.5, 0.0, null, 0.0, 2.0, null, 2.5, 0.0, null, 1.0, 3.0, null], \"y\": [3, 1, null, 3, 4, null, 3, 4, null, 3, 5, null, 5, 4, null, 5, 4, null, 5, 6, null, 3, 2, null, 3, 5, null, 3, 4, null, 4, 1, null, 4, 5, null, 5, 4, null, 5, 4, null, 5, 4, null, 5, 6, null, 4, 3, null, 4, 5, null, 4, 5, null, 5, 4, null, 5, 6, null, 4, 3, null, 4, 3, null, 4, 5, null, 2, 1, null, 2, 3, null, 1, 2, null, 1, 3, null, 1, 3, null, 2, 4, null, 2, 3, null, 5, 4, null, 5, 6, null, 4, 3, null, 4, 3, null, 4, 5, null, 5, 4, null, 5, 6, null, 3, 4, null, 5, 6, null, 3, 4, null]}, {\"hoverinfo\": \"text\", \"hovertext\": [\"Concept 17<br><br>extent (len: 1): egg<br>intent (len: 4): firm, smooth, color__is__white, form__is__oval<br>new extent (len: 1): egg<br>new_intent (len: 0): \\u2205<br>\", \"Concept 4<br><br>extent (len: 3): apple, grapefruit, tennis ball<br>intent (len: 1): form__is__round<br>new extent (len: 0): \\u2205<br>new_intent (len: 1): form__is__round<br>\", \"Concept 13<br><br>extent (len: 2): kiwi, mango<br>intent (len: 3): fruit, color__is__green, form__is__oval<br>new extent (len: 1): kiwi<br>new_intent (len: 0): \\u2205<br>\", \"Concept 7<br><br>extent (len: 1): tennis ball<br>intent (len: 2): color__is__white, form__is__round<br>new extent (len: 1): tennis ball<br>new_intent (len: 0): \\u2205<br>\", \"Concept 5<br><br>extent (len: 5): apple, grapefruit, kiwi, plum, mango<br>intent (len: 1): fruit<br>new extent (len: 0): \\u2205<br>new_intent (len: 1): fruit<br>\", \"Concept 11<br><br>extent (len: 3): plum, egg, mango<br>intent (len: 2): smooth, form__is__oval<br>new extent (len: 0): \\u2205<br>new_intent (len: 0): \\u2205<br>\", \"Concept 1<br><br>extent (len: 3): kiwi, toy cube, mango<br>intent (len: 1): color__is__green<br>new extent (len: 0): \\u2205<br>new_intent (len: 1): color__is__green<br>\", \"Concept 12<br><br>extent (len: 3): apple, plum, mango<br>intent (len: 2): smooth, fruit<br>new extent (len: 0): \\u2205<br>new_intent (len: 0): \\u2205<br>\", \"Concept 18<br><br>extent (len: 1): plum<br>intent (len: 4): smooth, fruit, color__is__blue, form__is__oval<br>new extent (len: 1): plum<br>new_intent (len: 1): color__is__blue<br>\", \"Concept 21<br><br>extent (len: 0): \\u2205<br>intent (len: 10): firm, smooth, fruit, color__is__yellow, color__is__green,...<br>new extent (len: 0): \\u2205<br>new_intent (len: 0): \\u2205<br>\", \"Concept 19<br><br>extent (len: 1): mango<br>intent (len: 4): smooth, fruit, color__is__green, form__is__oval<br>new extent (len: 1): mango<br>new_intent (len: 0): \\u2205<br>\", \"Concept 3<br><br>extent (len: 4): kiwi, plum, egg, mango<br>intent (len: 1): form__is__oval<br>new extent (len: 0): \\u2205<br>new_intent (len: 1): form__is__oval<br>\", \"Concept 9<br><br>extent (len: 3): kiwi, plum, mango<br>intent (len: 2): fruit, form__is__oval<br>new extent (len: 0): \\u2205<br>new_intent (len: 0): \\u2205<br>\", \"Concept 8<br><br>extent (len: 2): toy cube, egg<br>intent (len: 2): firm, smooth<br>new extent (len: 0): \\u2205<br>new_intent (len: 1): firm<br>\", \"Concept 6<br><br>extent (len: 5): apple, plum, toy cube, egg, mango<br>intent (len: 1): smooth<br>new extent (len: 0): \\u2205<br>new_intent (len: 1): smooth<br>\", \"Concept 16<br><br>extent (len: 1): toy cube<br>intent (len: 4): firm, smooth, color__is__green, form__is__cubic<br>new extent (len: 1): toy cube<br>new_intent (len: 1): form__is__cubic<br>\", \"Concept 2<br><br>extent (len: 2): egg, tennis ball<br>intent (len: 1): color__is__white<br>new extent (len: 0): \\u2205<br>new_intent (len: 1): color__is__white<br>\", \"Concept 0<br><br>extent (len: 8): apple, grapefruit, kiwi, plum, toy cube,...<br>intent (len: 0): \\u2205<br>new extent (len: 0): \\u2205<br>new_intent (len: 0): \\u2205<br>\", \"Concept 10<br><br>extent (len: 2): toy cube, mango<br>intent (len: 2): smooth, color__is__green<br>new extent (len: 0): \\u2205<br>new_intent (len: 0): \\u2205<br>\", \"Concept 20<br><br>extent (len: 1): apple<br>intent (len: 4): smooth, fruit, color__is__yellow, form__is__round<br>new extent (len: 1): apple<br>new_intent (len: 0): \\u2205<br>\", \"Concept 15<br><br>extent (len: 2): plum, mango<br>intent (len: 3): smooth, fruit, form__is__oval<br>new extent (len: 0): \\u2205<br>new_intent (len: 0): \\u2205<br>\", \"Concept 14<br><br>extent (len: 2): apple, grapefruit<br>intent (len: 3): fruit, color__is__yellow, form__is__round<br>new extent (len: 1): grapefruit<br>new_intent (len: 1): color__is__yellow<br>\"], \"marker\": {\"color\": [\"grey\", \"grey\", \"grey\", \"grey\", \"grey\", \"grey\", \"grey\", \"grey\", \"grey\", \"grey\", \"grey\", \"grey\", \"grey\", \"grey\", \"grey\", \"grey\", \"grey\", \"grey\", \"grey\", \"grey\", \"grey\", \"grey\"], \"colorbar\": {\"thickness\": 15, \"title\": {\"side\": \"right\", \"text\": \"y_mean\"}, \"xanchor\": \"left\"}, \"colorscale\": [[0.0, \"rgb(103,0,31)\"], [0.1, \"rgb(178,24,43)\"], [0.2, \"rgb(214,96,77)\"], [0.3, \"rgb(244,165,130)\"], [0.4, \"rgb(253,219,199)\"], [0.5, \"rgb(247,247,247)\"], [0.6, \"rgb(209,229,240)\"], [0.7, \"rgb(146,197,222)\"], [0.8, \"rgb(67,147,195)\"], [0.9, \"rgb(33,102,172)\"], [1.0, \"rgb(5,48,97)\"]], \"line\": {\"width\": 2}, \"reversescale\": true, \"showscale\": true, \"size\": 10}, \"mode\": \"markers+text\", \"text\": [\"<br>egg\", \"form__is__round<br>\", \"<br>kiwi\", \"<br>tennis ball\", \"fruit<br>\", \"<br>\", \"color__is__green<br>\", \"<br>\", \"color__is__blue<br>plum\", \"<br>\", \"<br>mango\", \"form__is__oval<br>\", \"<br>\", \"firm<br>\", \"smooth<br>\", \"form__is__cubic<br>toy cube\", \"color__is__white<br>\", \"<br>\", \"<br>\", \"<br>apple\", \"<br>\", \"color__is__yellow<br>grapefruit\"], \"textposition\": \"middle right\", \"type\": \"scatter\", \"x\": [-2.0, -2.5, -1.0, -3.0, -1.5, -2.0, -0.5, -1.0, -0.5, 0.0, 0.5, 0.5, 0.0, 1.0, 1.5, 0.0, 2.5, 0.0, 2.0, 1.0, 2.0, 3.0], \"y\": [3, 5, 3, 4, 5, 4, 5, 4, 2, 1, 2, 5, 4, 4, 5, 3, 5, 6, 4, 3, 3, 4]}],\n",
       "                        {\"height\": 500, \"hovermode\": \"closest\", \"margin\": {\"b\": 20, \"l\": 5, \"r\": 5, \"t\": 40}, \"showlegend\": false, \"template\": {\"data\": {\"bar\": [{\"error_x\": {\"color\": \"#2a3f5f\"}, \"error_y\": {\"color\": \"#2a3f5f\"}, \"marker\": {\"line\": {\"color\": \"#E5ECF6\", \"width\": 0.5}}, \"type\": \"bar\"}], \"barpolar\": [{\"marker\": {\"line\": {\"color\": \"#E5ECF6\", \"width\": 0.5}}, \"type\": \"barpolar\"}], \"carpet\": [{\"aaxis\": {\"endlinecolor\": \"#2a3f5f\", \"gridcolor\": \"white\", \"linecolor\": \"white\", \"minorgridcolor\": \"white\", \"startlinecolor\": \"#2a3f5f\"}, \"baxis\": {\"endlinecolor\": \"#2a3f5f\", \"gridcolor\": \"white\", \"linecolor\": \"white\", \"minorgridcolor\": \"white\", \"startlinecolor\": \"#2a3f5f\"}, \"type\": \"carpet\"}], \"choropleth\": [{\"colorbar\": {\"outlinewidth\": 0, \"ticks\": \"\"}, \"type\": \"choropleth\"}], \"contour\": [{\"colorbar\": {\"outlinewidth\": 0, \"ticks\": \"\"}, \"colorscale\": [[0.0, \"#0d0887\"], [0.1111111111111111, \"#46039f\"], [0.2222222222222222, \"#7201a8\"], [0.3333333333333333, \"#9c179e\"], [0.4444444444444444, \"#bd3786\"], [0.5555555555555556, \"#d8576b\"], [0.6666666666666666, \"#ed7953\"], [0.7777777777777778, \"#fb9f3a\"], [0.8888888888888888, \"#fdca26\"], [1.0, \"#f0f921\"]], \"type\": \"contour\"}], \"contourcarpet\": [{\"colorbar\": {\"outlinewidth\": 0, \"ticks\": \"\"}, \"type\": \"contourcarpet\"}], \"heatmap\": [{\"colorbar\": {\"outlinewidth\": 0, \"ticks\": \"\"}, \"colorscale\": [[0.0, \"#0d0887\"], [0.1111111111111111, \"#46039f\"], [0.2222222222222222, \"#7201a8\"], [0.3333333333333333, \"#9c179e\"], [0.4444444444444444, \"#bd3786\"], [0.5555555555555556, \"#d8576b\"], [0.6666666666666666, \"#ed7953\"], [0.7777777777777778, \"#fb9f3a\"], [0.8888888888888888, \"#fdca26\"], [1.0, \"#f0f921\"]], \"type\": \"heatmap\"}], \"heatmapgl\": [{\"colorbar\": {\"outlinewidth\": 0, \"ticks\": \"\"}, \"colorscale\": [[0.0, \"#0d0887\"], [0.1111111111111111, \"#46039f\"], [0.2222222222222222, \"#7201a8\"], [0.3333333333333333, \"#9c179e\"], [0.4444444444444444, \"#bd3786\"], [0.5555555555555556, \"#d8576b\"], [0.6666666666666666, \"#ed7953\"], [0.7777777777777778, \"#fb9f3a\"], [0.8888888888888888, \"#fdca26\"], [1.0, \"#f0f921\"]], \"type\": \"heatmapgl\"}], \"histogram\": [{\"marker\": {\"colorbar\": {\"outlinewidth\": 0, \"ticks\": \"\"}}, \"type\": \"histogram\"}], \"histogram2d\": [{\"colorbar\": {\"outlinewidth\": 0, \"ticks\": \"\"}, \"colorscale\": [[0.0, \"#0d0887\"], [0.1111111111111111, \"#46039f\"], [0.2222222222222222, \"#7201a8\"], [0.3333333333333333, \"#9c179e\"], [0.4444444444444444, \"#bd3786\"], [0.5555555555555556, \"#d8576b\"], [0.6666666666666666, \"#ed7953\"], [0.7777777777777778, \"#fb9f3a\"], [0.8888888888888888, \"#fdca26\"], [1.0, \"#f0f921\"]], \"type\": \"histogram2d\"}], \"histogram2dcontour\": [{\"colorbar\": {\"outlinewidth\": 0, \"ticks\": \"\"}, \"colorscale\": [[0.0, \"#0d0887\"], [0.1111111111111111, \"#46039f\"], [0.2222222222222222, \"#7201a8\"], [0.3333333333333333, \"#9c179e\"], [0.4444444444444444, \"#bd3786\"], [0.5555555555555556, \"#d8576b\"], [0.6666666666666666, \"#ed7953\"], [0.7777777777777778, \"#fb9f3a\"], [0.8888888888888888, \"#fdca26\"], [1.0, \"#f0f921\"]], \"type\": \"histogram2dcontour\"}], \"mesh3d\": [{\"colorbar\": {\"outlinewidth\": 0, \"ticks\": \"\"}, \"type\": \"mesh3d\"}], \"parcoords\": [{\"line\": {\"colorbar\": {\"outlinewidth\": 0, \"ticks\": \"\"}}, \"type\": \"parcoords\"}], \"pie\": [{\"automargin\": true, \"type\": \"pie\"}], \"scatter\": [{\"marker\": {\"colorbar\": {\"outlinewidth\": 0, \"ticks\": \"\"}}, \"type\": \"scatter\"}], \"scatter3d\": [{\"line\": {\"colorbar\": {\"outlinewidth\": 0, \"ticks\": \"\"}}, \"marker\": {\"colorbar\": {\"outlinewidth\": 0, \"ticks\": \"\"}}, \"type\": \"scatter3d\"}], \"scattercarpet\": [{\"marker\": {\"colorbar\": {\"outlinewidth\": 0, \"ticks\": \"\"}}, \"type\": \"scattercarpet\"}], \"scattergeo\": [{\"marker\": {\"colorbar\": {\"outlinewidth\": 0, \"ticks\": \"\"}}, \"type\": \"scattergeo\"}], \"scattergl\": [{\"marker\": {\"colorbar\": {\"outlinewidth\": 0, \"ticks\": \"\"}}, \"type\": \"scattergl\"}], \"scattermapbox\": [{\"marker\": {\"colorbar\": {\"outlinewidth\": 0, \"ticks\": \"\"}}, \"type\": \"scattermapbox\"}], \"scatterpolar\": [{\"marker\": {\"colorbar\": {\"outlinewidth\": 0, \"ticks\": \"\"}}, \"type\": \"scatterpolar\"}], \"scatterpolargl\": [{\"marker\": {\"colorbar\": {\"outlinewidth\": 0, \"ticks\": \"\"}}, \"type\": \"scatterpolargl\"}], \"scatterternary\": [{\"marker\": {\"colorbar\": {\"outlinewidth\": 0, \"ticks\": \"\"}}, \"type\": \"scatterternary\"}], \"surface\": [{\"colorbar\": {\"outlinewidth\": 0, \"ticks\": \"\"}, \"colorscale\": [[0.0, \"#0d0887\"], [0.1111111111111111, \"#46039f\"], [0.2222222222222222, \"#7201a8\"], [0.3333333333333333, \"#9c179e\"], [0.4444444444444444, \"#bd3786\"], [0.5555555555555556, \"#d8576b\"], [0.6666666666666666, \"#ed7953\"], [0.7777777777777778, \"#fb9f3a\"], [0.8888888888888888, \"#fdca26\"], [1.0, \"#f0f921\"]], \"type\": \"surface\"}], \"table\": [{\"cells\": {\"fill\": {\"color\": \"#EBF0F8\"}, \"line\": {\"color\": \"white\"}}, \"header\": {\"fill\": {\"color\": \"#C8D4E3\"}, \"line\": {\"color\": \"white\"}}, \"type\": \"table\"}]}, \"layout\": {\"annotationdefaults\": {\"arrowcolor\": \"#2a3f5f\", \"arrowhead\": 0, \"arrowwidth\": 1}, \"coloraxis\": {\"colorbar\": {\"outlinewidth\": 0, \"ticks\": \"\"}}, \"colorscale\": {\"diverging\": [[0, \"#8e0152\"], [0.1, \"#c51b7d\"], [0.2, \"#de77ae\"], [0.3, \"#f1b6da\"], [0.4, \"#fde0ef\"], [0.5, \"#f7f7f7\"], [0.6, \"#e6f5d0\"], [0.7, \"#b8e186\"], [0.8, \"#7fbc41\"], [0.9, \"#4d9221\"], [1, \"#276419\"]], \"sequential\": [[0.0, \"#0d0887\"], [0.1111111111111111, \"#46039f\"], [0.2222222222222222, \"#7201a8\"], [0.3333333333333333, \"#9c179e\"], [0.4444444444444444, \"#bd3786\"], [0.5555555555555556, \"#d8576b\"], [0.6666666666666666, \"#ed7953\"], [0.7777777777777778, \"#fb9f3a\"], [0.8888888888888888, \"#fdca26\"], [1.0, \"#f0f921\"]], \"sequentialminus\": [[0.0, \"#0d0887\"], [0.1111111111111111, \"#46039f\"], [0.2222222222222222, \"#7201a8\"], [0.3333333333333333, \"#9c179e\"], [0.4444444444444444, \"#bd3786\"], [0.5555555555555556, \"#d8576b\"], [0.6666666666666666, \"#ed7953\"], [0.7777777777777778, \"#fb9f3a\"], [0.8888888888888888, \"#fdca26\"], [1.0, \"#f0f921\"]]}, \"colorway\": [\"#636efa\", \"#EF553B\", \"#00cc96\", \"#ab63fa\", \"#FFA15A\", \"#19d3f3\", \"#FF6692\", \"#B6E880\", \"#FF97FF\", \"#FECB52\"], \"font\": {\"color\": \"#2a3f5f\"}, \"geo\": {\"bgcolor\": \"white\", \"lakecolor\": \"white\", \"landcolor\": \"#E5ECF6\", \"showlakes\": true, \"showland\": true, \"subunitcolor\": \"white\"}, \"hoverlabel\": {\"align\": \"left\"}, \"hovermode\": \"closest\", \"mapbox\": {\"style\": \"light\"}, \"paper_bgcolor\": \"white\", \"plot_bgcolor\": \"#E5ECF6\", \"polar\": {\"angularaxis\": {\"gridcolor\": \"white\", \"linecolor\": \"white\", \"ticks\": \"\"}, \"bgcolor\": \"#E5ECF6\", \"radialaxis\": {\"gridcolor\": \"white\", \"linecolor\": \"white\", \"ticks\": \"\"}}, \"scene\": {\"xaxis\": {\"backgroundcolor\": \"#E5ECF6\", \"gridcolor\": \"white\", \"gridwidth\": 2, \"linecolor\": \"white\", \"showbackground\": true, \"ticks\": \"\", \"zerolinecolor\": \"white\"}, \"yaxis\": {\"backgroundcolor\": \"#E5ECF6\", \"gridcolor\": \"white\", \"gridwidth\": 2, \"linecolor\": \"white\", \"showbackground\": true, \"ticks\": \"\", \"zerolinecolor\": \"white\"}, \"zaxis\": {\"backgroundcolor\": \"#E5ECF6\", \"gridcolor\": \"white\", \"gridwidth\": 2, \"linecolor\": \"white\", \"showbackground\": true, \"ticks\": \"\", \"zerolinecolor\": \"white\"}}, \"shapedefaults\": {\"line\": {\"color\": \"#2a3f5f\"}}, \"ternary\": {\"aaxis\": {\"gridcolor\": \"white\", \"linecolor\": \"white\", \"ticks\": \"\"}, \"baxis\": {\"gridcolor\": \"white\", \"linecolor\": \"white\", \"ticks\": \"\"}, \"bgcolor\": \"#E5ECF6\", \"caxis\": {\"gridcolor\": \"white\", \"linecolor\": \"white\", \"ticks\": \"\"}}, \"title\": {\"x\": 0.05}, \"xaxis\": {\"automargin\": true, \"gridcolor\": \"white\", \"linecolor\": \"white\", \"ticks\": \"\", \"title\": {\"standoff\": 15}, \"zerolinecolor\": \"white\", \"zerolinewidth\": 2}, \"yaxis\": {\"automargin\": true, \"gridcolor\": \"white\", \"linecolor\": \"white\", \"ticks\": \"\", \"title\": {\"standoff\": 15}, \"zerolinecolor\": \"white\", \"zerolinewidth\": 2}}}, \"title\": {\"font\": {\"size\": 16}, \"text\": \"Concept Lattice\"}, \"width\": 1000, \"xaxis\": {\"showgrid\": false, \"showticklabels\": false, \"zeroline\": false}, \"yaxis\": {\"showgrid\": false, \"showticklabels\": false, \"zeroline\": false}},\n",
       "                        {\"responsive\": true}\n",
       "                    ).then(function(){\n",
       "                            \n",
       "var gd = document.getElementById('2048e106-cfcf-43ee-ac09-51f1d14ac250');\n",
       "var x = new MutationObserver(function (mutations, observer) {{\n",
       "        var display = window.getComputedStyle(gd).display;\n",
       "        if (!display || display === 'none') {{\n",
       "            console.log([gd, 'removed!']);\n",
       "            Plotly.purge(gd);\n",
       "            observer.disconnect();\n",
       "        }}\n",
       "}});\n",
       "\n",
       "// Listen for the removal of the full notebook cells\n",
       "var notebookContainer = gd.closest('#notebook-container');\n",
       "if (notebookContainer) {{\n",
       "    x.observe(notebookContainer, {childList: true});\n",
       "}}\n",
       "\n",
       "// Listen for the clearing of the current output cell\n",
       "var outputEl = gd.closest('.output');\n",
       "if (outputEl) {{\n",
       "    x.observe(outputEl, {childList: true});\n",
       "}}\n",
       "\n",
       "                        })\n",
       "                };\n",
       "                });\n",
       "            </script>\n",
       "        </div>"
      ]
     },
     "metadata": {},
     "output_type": "display_data"
    }
   ],
   "source": [
    "fig.show()"
   ]
  },
  {
   "cell_type": "code",
   "execution_count": null,
   "metadata": {},
   "outputs": [],
   "source": []
  },
  {
   "cell_type": "code",
   "execution_count": 533,
   "metadata": {},
   "outputs": [
    {
     "data": {
      "text/html": [
       "<div>\n",
       "<style scoped>\n",
       "    .dataframe tbody tr th:only-of-type {\n",
       "        vertical-align: middle;\n",
       "    }\n",
       "\n",
       "    .dataframe tbody tr th {\n",
       "        vertical-align: top;\n",
       "    }\n",
       "\n",
       "    .dataframe thead th {\n",
       "        text-align: right;\n",
       "    }\n",
       "</style>\n",
       "<table border=\"1\" class=\"dataframe\">\n",
       "  <thead>\n",
       "    <tr style=\"text-align: right;\">\n",
       "      <th></th>\n",
       "      <th>age</th>\n",
       "      <th>job</th>\n",
       "      <th>marital</th>\n",
       "      <th>education</th>\n",
       "      <th>default</th>\n",
       "      <th>balance</th>\n",
       "      <th>housing</th>\n",
       "      <th>loan</th>\n",
       "      <th>contact</th>\n",
       "      <th>day</th>\n",
       "      <th>month</th>\n",
       "      <th>duration</th>\n",
       "      <th>campaign</th>\n",
       "      <th>pdays</th>\n",
       "      <th>previous</th>\n",
       "      <th>poutcome</th>\n",
       "      <th>y</th>\n",
       "    </tr>\n",
       "  </thead>\n",
       "  <tbody>\n",
       "    <tr>\n",
       "      <th>0</th>\n",
       "      <td>30</td>\n",
       "      <td>unemployed</td>\n",
       "      <td>married</td>\n",
       "      <td>primary</td>\n",
       "      <td>0</td>\n",
       "      <td>1787</td>\n",
       "      <td>0</td>\n",
       "      <td>0</td>\n",
       "      <td>cellular</td>\n",
       "      <td>19</td>\n",
       "      <td>oct</td>\n",
       "      <td>79</td>\n",
       "      <td>1</td>\n",
       "      <td>-1</td>\n",
       "      <td>0</td>\n",
       "      <td>unknown</td>\n",
       "      <td>0</td>\n",
       "    </tr>\n",
       "    <tr>\n",
       "      <th>1</th>\n",
       "      <td>33</td>\n",
       "      <td>services</td>\n",
       "      <td>married</td>\n",
       "      <td>secondary</td>\n",
       "      <td>0</td>\n",
       "      <td>4789</td>\n",
       "      <td>1</td>\n",
       "      <td>1</td>\n",
       "      <td>cellular</td>\n",
       "      <td>11</td>\n",
       "      <td>may</td>\n",
       "      <td>220</td>\n",
       "      <td>1</td>\n",
       "      <td>339</td>\n",
       "      <td>4</td>\n",
       "      <td>failure</td>\n",
       "      <td>0</td>\n",
       "    </tr>\n",
       "    <tr>\n",
       "      <th>2</th>\n",
       "      <td>35</td>\n",
       "      <td>management</td>\n",
       "      <td>single</td>\n",
       "      <td>tertiary</td>\n",
       "      <td>0</td>\n",
       "      <td>1350</td>\n",
       "      <td>1</td>\n",
       "      <td>0</td>\n",
       "      <td>cellular</td>\n",
       "      <td>16</td>\n",
       "      <td>apr</td>\n",
       "      <td>185</td>\n",
       "      <td>1</td>\n",
       "      <td>330</td>\n",
       "      <td>1</td>\n",
       "      <td>failure</td>\n",
       "      <td>0</td>\n",
       "    </tr>\n",
       "    <tr>\n",
       "      <th>3</th>\n",
       "      <td>30</td>\n",
       "      <td>management</td>\n",
       "      <td>married</td>\n",
       "      <td>tertiary</td>\n",
       "      <td>0</td>\n",
       "      <td>1476</td>\n",
       "      <td>1</td>\n",
       "      <td>1</td>\n",
       "      <td>unknown</td>\n",
       "      <td>3</td>\n",
       "      <td>jun</td>\n",
       "      <td>199</td>\n",
       "      <td>4</td>\n",
       "      <td>-1</td>\n",
       "      <td>0</td>\n",
       "      <td>unknown</td>\n",
       "      <td>0</td>\n",
       "    </tr>\n",
       "    <tr>\n",
       "      <th>4</th>\n",
       "      <td>59</td>\n",
       "      <td>blue-collar</td>\n",
       "      <td>married</td>\n",
       "      <td>secondary</td>\n",
       "      <td>0</td>\n",
       "      <td>0</td>\n",
       "      <td>1</td>\n",
       "      <td>0</td>\n",
       "      <td>unknown</td>\n",
       "      <td>5</td>\n",
       "      <td>may</td>\n",
       "      <td>226</td>\n",
       "      <td>1</td>\n",
       "      <td>-1</td>\n",
       "      <td>0</td>\n",
       "      <td>unknown</td>\n",
       "      <td>0</td>\n",
       "    </tr>\n",
       "    <tr>\n",
       "      <th>...</th>\n",
       "      <td>...</td>\n",
       "      <td>...</td>\n",
       "      <td>...</td>\n",
       "      <td>...</td>\n",
       "      <td>...</td>\n",
       "      <td>...</td>\n",
       "      <td>...</td>\n",
       "      <td>...</td>\n",
       "      <td>...</td>\n",
       "      <td>...</td>\n",
       "      <td>...</td>\n",
       "      <td>...</td>\n",
       "      <td>...</td>\n",
       "      <td>...</td>\n",
       "      <td>...</td>\n",
       "      <td>...</td>\n",
       "      <td>...</td>\n",
       "    </tr>\n",
       "    <tr>\n",
       "      <th>4516</th>\n",
       "      <td>33</td>\n",
       "      <td>services</td>\n",
       "      <td>married</td>\n",
       "      <td>secondary</td>\n",
       "      <td>0</td>\n",
       "      <td>-333</td>\n",
       "      <td>1</td>\n",
       "      <td>0</td>\n",
       "      <td>cellular</td>\n",
       "      <td>30</td>\n",
       "      <td>jul</td>\n",
       "      <td>329</td>\n",
       "      <td>5</td>\n",
       "      <td>-1</td>\n",
       "      <td>0</td>\n",
       "      <td>unknown</td>\n",
       "      <td>0</td>\n",
       "    </tr>\n",
       "    <tr>\n",
       "      <th>4517</th>\n",
       "      <td>57</td>\n",
       "      <td>self-employed</td>\n",
       "      <td>married</td>\n",
       "      <td>tertiary</td>\n",
       "      <td>1</td>\n",
       "      <td>-3313</td>\n",
       "      <td>1</td>\n",
       "      <td>1</td>\n",
       "      <td>unknown</td>\n",
       "      <td>9</td>\n",
       "      <td>may</td>\n",
       "      <td>153</td>\n",
       "      <td>1</td>\n",
       "      <td>-1</td>\n",
       "      <td>0</td>\n",
       "      <td>unknown</td>\n",
       "      <td>0</td>\n",
       "    </tr>\n",
       "    <tr>\n",
       "      <th>4518</th>\n",
       "      <td>57</td>\n",
       "      <td>technician</td>\n",
       "      <td>married</td>\n",
       "      <td>secondary</td>\n",
       "      <td>0</td>\n",
       "      <td>295</td>\n",
       "      <td>0</td>\n",
       "      <td>0</td>\n",
       "      <td>cellular</td>\n",
       "      <td>19</td>\n",
       "      <td>aug</td>\n",
       "      <td>151</td>\n",
       "      <td>11</td>\n",
       "      <td>-1</td>\n",
       "      <td>0</td>\n",
       "      <td>unknown</td>\n",
       "      <td>0</td>\n",
       "    </tr>\n",
       "    <tr>\n",
       "      <th>4519</th>\n",
       "      <td>28</td>\n",
       "      <td>blue-collar</td>\n",
       "      <td>married</td>\n",
       "      <td>secondary</td>\n",
       "      <td>0</td>\n",
       "      <td>1137</td>\n",
       "      <td>0</td>\n",
       "      <td>0</td>\n",
       "      <td>cellular</td>\n",
       "      <td>6</td>\n",
       "      <td>feb</td>\n",
       "      <td>129</td>\n",
       "      <td>4</td>\n",
       "      <td>211</td>\n",
       "      <td>3</td>\n",
       "      <td>other</td>\n",
       "      <td>0</td>\n",
       "    </tr>\n",
       "    <tr>\n",
       "      <th>4520</th>\n",
       "      <td>44</td>\n",
       "      <td>entrepreneur</td>\n",
       "      <td>single</td>\n",
       "      <td>tertiary</td>\n",
       "      <td>0</td>\n",
       "      <td>1136</td>\n",
       "      <td>1</td>\n",
       "      <td>1</td>\n",
       "      <td>cellular</td>\n",
       "      <td>3</td>\n",
       "      <td>apr</td>\n",
       "      <td>345</td>\n",
       "      <td>2</td>\n",
       "      <td>249</td>\n",
       "      <td>7</td>\n",
       "      <td>other</td>\n",
       "      <td>0</td>\n",
       "    </tr>\n",
       "  </tbody>\n",
       "</table>\n",
       "<p>4521 rows × 17 columns</p>\n",
       "</div>"
      ],
      "text/plain": [
       "      age            job  marital  education  default  balance  housing  loan  \\\n",
       "0      30     unemployed  married    primary        0     1787        0     0   \n",
       "1      33       services  married  secondary        0     4789        1     1   \n",
       "2      35     management   single   tertiary        0     1350        1     0   \n",
       "3      30     management  married   tertiary        0     1476        1     1   \n",
       "4      59    blue-collar  married  secondary        0        0        1     0   \n",
       "...   ...            ...      ...        ...      ...      ...      ...   ...   \n",
       "4516   33       services  married  secondary        0     -333        1     0   \n",
       "4517   57  self-employed  married   tertiary        1    -3313        1     1   \n",
       "4518   57     technician  married  secondary        0      295        0     0   \n",
       "4519   28    blue-collar  married  secondary        0     1137        0     0   \n",
       "4520   44   entrepreneur   single   tertiary        0     1136        1     1   \n",
       "\n",
       "       contact  day month  duration  campaign  pdays  previous poutcome  y  \n",
       "0     cellular   19   oct        79         1     -1         0  unknown  0  \n",
       "1     cellular   11   may       220         1    339         4  failure  0  \n",
       "2     cellular   16   apr       185         1    330         1  failure  0  \n",
       "3      unknown    3   jun       199         4     -1         0  unknown  0  \n",
       "4      unknown    5   may       226         1     -1         0  unknown  0  \n",
       "...        ...  ...   ...       ...       ...    ...       ...      ... ..  \n",
       "4516  cellular   30   jul       329         5     -1         0  unknown  0  \n",
       "4517   unknown    9   may       153         1     -1         0  unknown  0  \n",
       "4518  cellular   19   aug       151        11     -1         0  unknown  0  \n",
       "4519  cellular    6   feb       129         4    211         3    other  0  \n",
       "4520  cellular    3   apr       345         2    249         7    other  0  \n",
       "\n",
       "[4521 rows x 17 columns]"
      ]
     },
     "execution_count": 533,
     "metadata": {},
     "output_type": "execute_result"
    }
   ],
   "source": [
    "bank_ds = pd.read_csv(os.path.join(DATASETS_DIR, 'bank.csv'), sep=';')\n",
    "\n",
    "for f in ['default','y','housing','loan']:\n",
    "    bank_ds[f] = (bank_ds[f]=='yes').astype(int)\n",
    "cat_feats = ['job','marital','education', 'default','housing','loan', 'contact','month','poutcome', ]\n",
    "real_feats = ['age','balance','day','duration','campaign','pdays','previous']\n",
    "bank_ds"
   ]
  },
  {
   "cell_type": "code",
   "execution_count": 534,
   "metadata": {},
   "outputs": [],
   "source": [
    "total_true = bank_ds[\"y\"]\n",
    "from catboost import CatBoostClassifier, Pool\n",
    "pool = Pool(bank_ds[cat_feats+real_feats], bank_ds['y'], cat_features=cat_feats)\n",
    "bb = CatBoostClassifier()\n",
    "bb.fit(pool, verbose=False, plot=False)\n",
    "total_preds = bb.predict(pool)"
   ]
  },
  {
   "cell_type": "code",
   "execution_count": 535,
   "metadata": {},
   "outputs": [],
   "source": [
    "thresholds = {'age':[20, 30, 40, 50, 60],\n",
    "              'balance':[0, 10, 100, 1000, 10000],\n",
    "              'day':[10,20,25],\n",
    "              'duration':[0,60,300, 600, 900],\n",
    "              'campaign':[1,2],\n",
    "              'pdays':[200,400],\n",
    "             }\n",
    "cases = {'pdays':[-1],\n",
    "        'previous':[0]}"
   ]
  },
  {
   "cell_type": "code",
   "execution_count": 578,
   "metadata": {},
   "outputs": [],
   "source": [
    "fcai = reload(fcai)"
   ]
  },
  {
   "cell_type": "code",
   "execution_count": 579,
   "metadata": {},
   "outputs": [],
   "source": [
    "bank_bin_ds, feat_orders = fcai.Context.binarize_ds(bank_ds, cat_feats, thresholds, cases)"
   ]
  },
  {
   "cell_type": "code",
   "execution_count": 580,
   "metadata": {},
   "outputs": [],
   "source": [
    "from sklearn.metrics import accuracy_score"
   ]
  },
  {
   "cell_type": "code",
   "execution_count": 762,
   "metadata": {},
   "outputs": [
    {
     "name": "stderr",
     "output_type": "stream",
     "text": [
      "\n",
      "\n",
      "\n",
      "\n",
      "\n",
      "  0%|          | 0/130 [00:00<?, ?it/s]\u001b[A\u001b[A\u001b[A\u001b[A\u001b[A\n",
      "\n",
      "\n",
      "\n",
      "\n",
      "  1%|          | 1/130 [00:00<01:16,  1.68it/s]\u001b[A\u001b[A\u001b[A\u001b[A\u001b[A\n",
      "\n",
      "\n",
      "\n",
      "\n",
      "  2%|▏         | 2/130 [00:01<01:16,  1.68it/s]\u001b[A\u001b[A\u001b[A\u001b[A\u001b[A\n",
      "\n",
      "\n",
      "\n",
      "\n",
      "  2%|▏         | 3/130 [00:01<01:15,  1.68it/s]\u001b[A\u001b[A\u001b[A\u001b[A\u001b[A\n",
      "\n",
      "\n",
      "\n",
      "\n",
      "  3%|▎         | 4/130 [00:02<01:14,  1.68it/s]\u001b[A\u001b[A\u001b[A\u001b[A\u001b[A\n",
      "\n",
      "\n",
      "\n",
      "\n",
      "  4%|▍         | 5/130 [00:02<01:14,  1.67it/s]\u001b[A\u001b[A\u001b[A\u001b[A\u001b[A\n",
      "\n",
      "\n",
      "\n",
      "\n",
      "  5%|▍         | 6/130 [00:03<01:14,  1.67it/s]\u001b[A\u001b[A\u001b[A\u001b[A\u001b[A\n",
      "\n",
      "\n",
      "\n",
      "\n",
      "  5%|▌         | 7/130 [00:04<01:13,  1.68it/s]\u001b[A\u001b[A\u001b[A\u001b[A\u001b[A\n",
      "\n",
      "\n",
      "\n",
      "\n",
      "  6%|▌         | 8/130 [00:04<01:12,  1.68it/s]\u001b[A\u001b[A\u001b[A\u001b[A\u001b[A\n",
      "\n",
      "\n",
      "\n",
      "\n",
      "  7%|▋         | 9/130 [00:05<01:12,  1.67it/s]\u001b[A\u001b[A\u001b[A\u001b[A\u001b[A\n",
      "\n",
      "\n",
      "\n",
      "\n",
      "  8%|▊         | 10/130 [00:05<01:11,  1.68it/s]\u001b[A\u001b[A\u001b[A\u001b[A\u001b[A\n",
      "\n",
      "\n",
      "\n",
      "\n",
      "  8%|▊         | 11/130 [00:06<01:10,  1.69it/s]\u001b[A\u001b[A\u001b[A\u001b[A\u001b[A\n",
      "\n",
      "\n",
      "\n",
      "\n",
      "  9%|▉         | 12/130 [00:07<01:09,  1.70it/s]\u001b[A\u001b[A\u001b[A\u001b[A\u001b[A\n",
      "\n",
      "\n",
      "\n",
      "\n",
      " 10%|█         | 13/130 [00:07<01:08,  1.70it/s]\u001b[A\u001b[A\u001b[A\u001b[A\u001b[A\n",
      "\n",
      "\n",
      "\n",
      "\n",
      " 11%|█         | 14/130 [00:08<01:08,  1.71it/s]\u001b[A\u001b[A\u001b[A\u001b[A\u001b[A\n",
      "\n",
      "\n",
      "\n",
      "\n",
      " 12%|█▏        | 15/130 [00:08<01:07,  1.71it/s]\u001b[A\u001b[A\u001b[A\u001b[A\u001b[A\n",
      "\n",
      "\n",
      "\n",
      "\n",
      " 12%|█▏        | 16/130 [00:09<01:06,  1.72it/s]\u001b[A\u001b[A\u001b[A\u001b[A\u001b[A\n",
      "\n",
      "\n",
      "\n",
      "\n",
      " 13%|█▎        | 17/130 [00:10<01:05,  1.73it/s]\u001b[A\u001b[A\u001b[A\u001b[A\u001b[A\n",
      "\n",
      "\n",
      "\n",
      "\n",
      " 14%|█▍        | 18/130 [00:10<01:10,  1.59it/s]\u001b[A\u001b[A\u001b[A\u001b[A\u001b[A\n",
      "\n",
      "\n",
      "\n",
      "\n",
      " 15%|█▍        | 19/130 [00:11<01:14,  1.48it/s]\u001b[A\u001b[A\u001b[A\u001b[A\u001b[A\n",
      "\n",
      "\n",
      "\n",
      "\n",
      " 15%|█▌        | 20/130 [00:12<01:14,  1.47it/s]\u001b[A\u001b[A\u001b[A\u001b[A\u001b[A\n",
      "\n",
      "\n",
      "\n",
      "\n",
      " 16%|█▌        | 21/130 [00:12<01:10,  1.54it/s]\u001b[A\u001b[A\u001b[A\u001b[A\u001b[A\n",
      "\n",
      "\n",
      "\n",
      "\n",
      " 17%|█▋        | 22/130 [00:13<01:11,  1.51it/s]\u001b[A\u001b[A\u001b[A\u001b[A\u001b[A\n",
      "\n",
      "\n",
      "\n",
      "\n",
      " 18%|█▊        | 23/130 [00:14<01:07,  1.58it/s]\u001b[A\u001b[A\u001b[A\u001b[A\u001b[A\n",
      "\n",
      "\n",
      "\n",
      "\n",
      " 18%|█▊        | 24/130 [00:14<01:04,  1.63it/s]\u001b[A\u001b[A\u001b[A\u001b[A\u001b[A\n",
      "\n",
      "\n",
      "\n",
      "\n",
      " 19%|█▉        | 25/130 [00:15<01:02,  1.67it/s]\u001b[A\u001b[A\u001b[A\u001b[A\u001b[A\n",
      "\n",
      "\n",
      "\n",
      "\n",
      " 20%|██        | 26/130 [00:15<01:01,  1.70it/s]\u001b[A\u001b[A\u001b[A\u001b[A\u001b[A\n",
      "\n",
      "\n",
      "\n",
      "\n",
      " 21%|██        | 27/130 [00:16<00:59,  1.72it/s]\u001b[A\u001b[A\u001b[A\u001b[A\u001b[A\n",
      "\n",
      "\n",
      "\n",
      "\n",
      " 22%|██▏       | 28/130 [00:16<00:58,  1.73it/s]\u001b[A\u001b[A\u001b[A\u001b[A\u001b[A\n",
      "\n",
      "\n",
      "\n",
      "\n",
      " 22%|██▏       | 29/130 [00:17<00:57,  1.74it/s]\u001b[A\u001b[A\u001b[A\u001b[A\u001b[A\n",
      "\n",
      "\n",
      "\n",
      "\n",
      " 23%|██▎       | 30/130 [00:18<00:57,  1.75it/s]\u001b[A\u001b[A\u001b[A\u001b[A\u001b[A\n",
      "\n",
      "\n",
      "\n",
      "\n",
      " 24%|██▍       | 31/130 [00:18<00:55,  1.77it/s]\u001b[A\u001b[A\u001b[A\u001b[A\u001b[A\n",
      "\n",
      "\n",
      "\n",
      "\n",
      " 25%|██▍       | 32/130 [00:19<00:54,  1.79it/s]\u001b[A\u001b[A\u001b[A\u001b[A\u001b[A\n",
      "\n",
      "\n",
      "\n",
      "\n",
      " 25%|██▌       | 33/130 [00:19<00:53,  1.80it/s]\u001b[A\u001b[A\u001b[A\u001b[A\u001b[A\n",
      "\n",
      "\n",
      "\n",
      "\n",
      " 26%|██▌       | 34/130 [00:20<00:52,  1.81it/s]\u001b[A\u001b[A\u001b[A\u001b[A\u001b[A\n",
      "\n",
      "\n",
      "\n",
      "\n",
      " 27%|██▋       | 35/130 [00:20<00:52,  1.82it/s]\u001b[A\u001b[A\u001b[A\u001b[A\u001b[A\n",
      "\n",
      "\n",
      "\n",
      "\n",
      " 28%|██▊       | 36/130 [00:21<00:51,  1.83it/s]\u001b[A\u001b[A\u001b[A\u001b[A\u001b[A\n",
      "\n",
      "\n",
      "\n",
      "\n",
      " 28%|██▊       | 37/130 [00:21<00:50,  1.84it/s]\u001b[A\u001b[A\u001b[A\u001b[A\u001b[A\n",
      "\n",
      "\n",
      "\n",
      "\n",
      " 29%|██▉       | 38/130 [00:22<00:50,  1.84it/s]\u001b[A\u001b[A\u001b[A\u001b[A\u001b[A\n",
      "\n",
      "\n",
      "\n",
      "\n",
      " 30%|███       | 39/130 [00:22<00:49,  1.84it/s]\u001b[A\u001b[A\u001b[A\u001b[A\u001b[A\n",
      "\n",
      "\n",
      "\n",
      "\n",
      " 31%|███       | 40/130 [00:23<00:48,  1.85it/s]\u001b[A\u001b[A\u001b[A\u001b[A\u001b[A\n",
      "\n",
      "\n",
      "\n",
      "\n",
      " 32%|███▏      | 41/130 [00:24<00:48,  1.85it/s]\u001b[A\u001b[A\u001b[A\u001b[A\u001b[A\n",
      "\n",
      "\n",
      "\n",
      "\n",
      " 32%|███▏      | 42/130 [00:24<00:47,  1.84it/s]\u001b[A\u001b[A\u001b[A\u001b[A\u001b[A\n",
      "\n",
      "\n",
      "\n",
      "\n",
      " 33%|███▎      | 43/130 [00:25<00:47,  1.84it/s]\u001b[A\u001b[A\u001b[A\u001b[A\u001b[A\n",
      "\n",
      "\n",
      "\n",
      "\n",
      " 34%|███▍      | 44/130 [00:25<00:46,  1.83it/s]\u001b[A\u001b[A\u001b[A\u001b[A\u001b[A\n",
      "\n",
      "\n",
      "\n",
      "\n",
      " 35%|███▍      | 45/130 [00:26<00:46,  1.84it/s]\u001b[A\u001b[A\u001b[A\u001b[A\u001b[A\n",
      "\n",
      "\n",
      "\n",
      "\n",
      " 35%|███▌      | 46/130 [00:26<00:45,  1.85it/s]\u001b[A\u001b[A\u001b[A\u001b[A\u001b[A\n",
      "\n",
      "\n",
      "\n",
      "\n",
      " 36%|███▌      | 47/130 [00:27<00:44,  1.86it/s]\u001b[A\u001b[A\u001b[A\u001b[A\u001b[A\n",
      "\n",
      "\n",
      "\n",
      "\n",
      " 37%|███▋      | 48/130 [00:27<00:43,  1.87it/s]\u001b[A\u001b[A\u001b[A\u001b[A\u001b[A\n",
      "\n",
      "\n",
      "\n",
      "\n",
      " 38%|███▊      | 49/130 [00:28<00:43,  1.87it/s]\u001b[A\u001b[A\u001b[A\u001b[A\u001b[A\n",
      "\n",
      "\n",
      "\n",
      "\n",
      " 38%|███▊      | 50/130 [00:28<00:42,  1.90it/s]\u001b[A\u001b[A\u001b[A\u001b[A\u001b[A\n",
      "\n",
      "\n",
      "\n",
      "\n",
      " 39%|███▉      | 51/130 [00:29<00:41,  1.91it/s]\u001b[A\u001b[A\u001b[A\u001b[A\u001b[A\n",
      "\n",
      "\n",
      "\n",
      "\n",
      " 40%|████      | 52/130 [00:29<00:40,  1.92it/s]\u001b[A\u001b[A\u001b[A\u001b[A\u001b[A\n",
      "\n",
      "\n",
      "\n",
      "\n",
      " 41%|████      | 53/130 [00:30<00:39,  1.93it/s]\u001b[A\u001b[A\u001b[A\u001b[A\u001b[A\n",
      "\n",
      "\n",
      "\n",
      "\n",
      " 42%|████▏     | 54/130 [00:30<00:39,  1.93it/s]\u001b[A\u001b[A\u001b[A\u001b[A\u001b[A\n",
      "\n",
      "\n",
      "\n",
      "\n",
      " 42%|████▏     | 55/130 [00:31<00:38,  1.94it/s]\u001b[A\u001b[A\u001b[A\u001b[A\u001b[A\n",
      "\n",
      "\n",
      "\n",
      "\n",
      " 43%|████▎     | 56/130 [00:31<00:38,  1.94it/s]\u001b[A\u001b[A\u001b[A\u001b[A\u001b[A\n",
      "\n",
      "\n",
      "\n",
      "\n",
      " 44%|████▍     | 57/130 [00:32<00:37,  1.94it/s]\u001b[A\u001b[A\u001b[A\u001b[A\u001b[A\n",
      "\n",
      "\n",
      "\n",
      "\n",
      " 45%|████▍     | 58/130 [00:32<00:37,  1.94it/s]\u001b[A\u001b[A\u001b[A\u001b[A\u001b[A\n",
      "\n",
      "\n",
      "\n",
      "\n",
      " 45%|████▌     | 59/130 [00:33<00:36,  1.95it/s]\u001b[A\u001b[A\u001b[A\u001b[A\u001b[A\n",
      "\n",
      "\n",
      "\n",
      "\n",
      " 46%|████▌     | 60/130 [00:33<00:35,  1.97it/s]\u001b[A\u001b[A\u001b[A\u001b[A\u001b[A\n",
      "\n",
      "\n",
      "\n",
      "\n",
      " 47%|████▋     | 61/130 [00:34<00:35,  1.97it/s]\u001b[A\u001b[A\u001b[A\u001b[A\u001b[A\n",
      "\n",
      "\n",
      "\n",
      "\n",
      " 48%|████▊     | 62/130 [00:34<00:34,  1.96it/s]\u001b[A\u001b[A\u001b[A\u001b[A\u001b[A\n",
      "\n",
      "\n",
      "\n",
      "\n",
      " 48%|████▊     | 63/130 [00:35<00:33,  1.97it/s]\u001b[A\u001b[A\u001b[A\u001b[A\u001b[A\n",
      "\n",
      "\n",
      "\n",
      "\n",
      " 49%|████▉     | 64/130 [00:35<00:33,  1.97it/s]\u001b[A\u001b[A\u001b[A\u001b[A\u001b[A\n",
      "\n",
      "\n",
      "\n",
      "\n",
      " 50%|█████     | 65/130 [00:36<00:33,  1.97it/s]\u001b[A\u001b[A\u001b[A\u001b[A\u001b[A\n",
      "\n",
      "\n",
      "\n",
      "\n",
      " 51%|█████     | 66/130 [00:36<00:32,  1.97it/s]\u001b[A\u001b[A\u001b[A\u001b[A\u001b[A\n",
      "\n",
      "\n",
      "\n",
      "\n",
      " 52%|█████▏    | 67/130 [00:37<00:31,  1.99it/s]\u001b[A\u001b[A\u001b[A\u001b[A\u001b[A\n",
      "\n",
      "\n",
      "\n",
      "\n",
      " 52%|█████▏    | 68/130 [00:37<00:30,  2.01it/s]\u001b[A\u001b[A\u001b[A\u001b[A\u001b[A\n",
      "\n",
      "\n",
      "\n",
      "\n",
      " 53%|█████▎    | 69/130 [00:38<00:30,  2.03it/s]\u001b[A\u001b[A\u001b[A\u001b[A\u001b[A\n",
      "\n",
      "\n",
      "\n",
      "\n",
      " 54%|█████▍    | 70/130 [00:38<00:29,  2.04it/s]\u001b[A\u001b[A\u001b[A\u001b[A\u001b[A\n",
      "\n",
      "\n",
      "\n",
      "\n",
      " 55%|█████▍    | 71/130 [00:39<00:28,  2.04it/s]\u001b[A\u001b[A\u001b[A\u001b[A\u001b[A\n",
      "\n",
      "\n",
      "\n",
      "\n",
      " 55%|█████▌    | 72/130 [00:39<00:28,  2.04it/s]\u001b[A\u001b[A\u001b[A\u001b[A\u001b[A\n",
      "\n",
      "\n",
      "\n",
      "\n",
      " 56%|█████▌    | 73/130 [00:40<00:27,  2.04it/s]\u001b[A\u001b[A\u001b[A\u001b[A\u001b[A\n",
      "\n",
      "\n",
      "\n",
      "\n",
      " 57%|█████▋    | 74/130 [00:40<00:27,  2.04it/s]\u001b[A\u001b[A\u001b[A\u001b[A\u001b[A\n",
      "\n",
      "\n",
      "\n",
      "\n",
      " 58%|█████▊    | 75/130 [00:41<00:26,  2.04it/s]\u001b[A\u001b[A\u001b[A\u001b[A\u001b[A\n",
      "\n",
      "\n",
      "\n",
      "\n",
      " 58%|█████▊    | 76/130 [00:41<00:26,  2.05it/s]\u001b[A\u001b[A\u001b[A\u001b[A\u001b[A\n",
      "\n",
      "\n",
      "\n",
      "\n",
      " 59%|█████▉    | 77/130 [00:42<00:26,  2.03it/s]\u001b[A\u001b[A\u001b[A\u001b[A\u001b[A\n",
      "\n",
      "\n",
      "\n",
      "\n",
      " 60%|██████    | 78/130 [00:42<00:25,  2.05it/s]\u001b[A\u001b[A\u001b[A\u001b[A\u001b[A\n",
      "\n",
      "\n",
      "\n",
      "\n",
      " 61%|██████    | 79/130 [00:43<00:24,  2.06it/s]\u001b[A\u001b[A\u001b[A\u001b[A\u001b[A\n",
      "\n",
      "\n",
      "\n",
      "\n",
      " 62%|██████▏   | 80/130 [00:43<00:24,  2.06it/s]\u001b[A\u001b[A\u001b[A\u001b[A\u001b[A\n",
      "\n",
      "\n",
      "\n",
      "\n",
      " 62%|██████▏   | 81/130 [00:44<00:23,  2.08it/s]\u001b[A\u001b[A\u001b[A\u001b[A\u001b[A\n",
      "\n",
      "\n",
      "\n",
      "\n",
      " 63%|██████▎   | 82/130 [00:44<00:22,  2.11it/s]\u001b[A\u001b[A\u001b[A\u001b[A\u001b[A\n",
      "\n",
      "\n",
      "\n",
      "\n",
      " 64%|██████▍   | 83/130 [00:45<00:22,  2.13it/s]\u001b[A\u001b[A\u001b[A\u001b[A\u001b[A\n",
      "\n",
      "\n",
      "\n",
      "\n",
      " 65%|██████▍   | 84/130 [00:45<00:21,  2.15it/s]\u001b[A\u001b[A\u001b[A\u001b[A\u001b[A\n",
      "\n",
      "\n",
      "\n",
      "\n",
      " 65%|██████▌   | 85/130 [00:46<00:21,  2.10it/s]\u001b[A\u001b[A\u001b[A\u001b[A\u001b[A\n",
      "\n",
      "\n",
      "\n",
      "\n",
      " 66%|██████▌   | 86/130 [00:46<00:20,  2.12it/s]\u001b[A\u001b[A\u001b[A\u001b[A\u001b[A\n",
      "\n",
      "\n",
      "\n",
      "\n",
      " 67%|██████▋   | 87/130 [00:47<00:20,  2.14it/s]\u001b[A\u001b[A\u001b[A\u001b[A\u001b[A\n",
      "\n",
      "\n",
      "\n",
      "\n",
      " 68%|██████▊   | 88/130 [00:47<00:19,  2.16it/s]\u001b[A\u001b[A\u001b[A\u001b[A\u001b[A\n",
      "\n",
      "\n",
      "\n",
      "\n",
      " 68%|██████▊   | 89/130 [00:47<00:18,  2.18it/s]\u001b[A\u001b[A\u001b[A\u001b[A\u001b[A\n",
      "\n",
      "\n",
      "\n",
      "\n",
      " 69%|██████▉   | 90/130 [00:48<00:18,  2.18it/s]\u001b[A\u001b[A\u001b[A\u001b[A\u001b[A\n",
      "\n",
      "\n",
      "\n",
      "\n",
      " 70%|███████   | 91/130 [00:48<00:17,  2.19it/s]\u001b[A\u001b[A\u001b[A\u001b[A\u001b[A\n",
      "\n",
      "\n",
      "\n",
      "\n",
      " 71%|███████   | 92/130 [00:49<00:17,  2.20it/s]\u001b[A\u001b[A\u001b[A\u001b[A\u001b[A\n",
      "\n",
      "\n",
      "\n",
      "\n",
      " 72%|███████▏  | 93/130 [00:49<00:16,  2.21it/s]\u001b[A\u001b[A\u001b[A\u001b[A\u001b[A\n",
      "\n",
      "\n",
      "\n",
      "\n",
      " 72%|███████▏  | 94/130 [00:50<00:16,  2.22it/s]\u001b[A\u001b[A\u001b[A\u001b[A\u001b[A\n",
      "\n",
      "\n",
      "\n",
      "\n",
      " 73%|███████▎  | 95/130 [00:50<00:15,  2.24it/s]\u001b[A\u001b[A\u001b[A\u001b[A\u001b[A\n",
      "\n",
      "\n",
      "\n",
      "\n",
      " 74%|███████▍  | 96/130 [00:51<00:15,  2.26it/s]\u001b[A\u001b[A\u001b[A\u001b[A\u001b[A\n",
      "\n",
      "\n",
      "\n",
      "\n",
      " 75%|███████▍  | 97/130 [00:51<00:14,  2.28it/s]\u001b[A\u001b[A\u001b[A\u001b[A\u001b[A\n",
      "\n",
      "\n",
      "\n",
      "\n",
      " 75%|███████▌  | 98/130 [00:51<00:13,  2.29it/s]\u001b[A\u001b[A\u001b[A\u001b[A\u001b[A\n",
      "\n",
      "\n",
      "\n",
      "\n",
      " 76%|███████▌  | 99/130 [00:52<00:13,  2.30it/s]\u001b[A\u001b[A\u001b[A\u001b[A\u001b[A\n",
      "\n",
      "\n",
      "\n",
      "\n",
      " 77%|███████▋  | 100/130 [00:52<00:13,  2.31it/s]\u001b[A\u001b[A\u001b[A\u001b[A\u001b[A\n",
      "\n",
      "\n",
      "\n",
      "\n",
      " 78%|███████▊  | 101/130 [00:53<00:12,  2.32it/s]\u001b[A\u001b[A\u001b[A\u001b[A\u001b[A\n",
      "\n",
      "\n",
      "\n",
      "\n",
      " 78%|███████▊  | 102/130 [00:53<00:12,  2.30it/s]\u001b[A\u001b[A\u001b[A\u001b[A\u001b[A\n",
      "\n",
      "\n",
      "\n",
      "\n",
      " 79%|███████▉  | 103/130 [00:54<00:12,  2.22it/s]\u001b[A\u001b[A\u001b[A\u001b[A\u001b[A\n",
      "\n",
      "\n",
      "\n",
      "\n",
      " 80%|████████  | 104/130 [00:54<00:12,  2.14it/s]\u001b[A\u001b[A\u001b[A\u001b[A\u001b[A\n",
      "\n",
      "\n",
      "\n",
      "\n",
      " 81%|████████  | 105/130 [00:55<00:12,  2.07it/s]\u001b[A\u001b[A\u001b[A\u001b[A\u001b[A\n",
      "\n",
      "\n",
      "\n",
      "\n",
      " 82%|████████▏ | 106/130 [00:55<00:11,  2.07it/s]\u001b[A\u001b[A\u001b[A\u001b[A\u001b[A\n",
      "\n",
      "\n",
      "\n",
      "\n",
      " 82%|████████▏ | 107/130 [00:56<00:11,  2.05it/s]\u001b[A\u001b[A\u001b[A\u001b[A\u001b[A\n",
      "\n",
      "\n",
      "\n",
      "\n",
      " 83%|████████▎ | 108/130 [00:56<00:10,  2.10it/s]\u001b[A\u001b[A\u001b[A\u001b[A\u001b[A\n",
      "\n",
      "\n",
      "\n",
      "\n",
      " 84%|████████▍ | 109/130 [00:57<00:09,  2.18it/s]\u001b[A\u001b[A\u001b[A\u001b[A\u001b[A\n",
      "\n",
      "\n",
      "\n",
      "\n",
      " 85%|████████▍ | 110/130 [00:57<00:08,  2.23it/s]\u001b[A\u001b[A\u001b[A\u001b[A\u001b[A\n",
      "\n",
      "\n",
      "\n",
      "\n",
      " 85%|████████▌ | 111/130 [00:57<00:08,  2.24it/s]\u001b[A\u001b[A\u001b[A\u001b[A\u001b[A\n",
      "\n",
      "\n",
      "\n",
      "\n",
      " 86%|████████▌ | 112/130 [00:58<00:07,  2.30it/s]\u001b[A\u001b[A\u001b[A\u001b[A\u001b[A\n",
      "\n",
      "\n",
      "\n",
      "\n",
      " 87%|████████▋ | 113/130 [00:58<00:07,  2.36it/s]\u001b[A\u001b[A\u001b[A\u001b[A\u001b[A\n",
      "\n",
      "\n",
      "\n",
      "\n",
      " 88%|████████▊ | 114/130 [01:03<00:28,  1.76s/it]\u001b[A\u001b[A\u001b[A\u001b[A\u001b[A\n",
      "\n",
      "\n",
      "\n",
      "\n",
      " 88%|████████▊ | 115/130 [01:08<00:41,  2.78s/it]\u001b[A\u001b[A\u001b[A\u001b[A\u001b[A"
     ]
    }
   ],
   "source": [
    "fs_short = fcai.Context.squeeze_bin_dataset(bank_bin_ds, total_preds, metric=accuracy_score, metric_lim=0.98, use_tqdm=True)"
   ]
  },
  {
   "cell_type": "code",
   "execution_count": 763,
   "metadata": {},
   "outputs": [],
   "source": [
    "bank_bin_ds_short = bank_bin_ds[fs_short]"
   ]
  },
  {
   "cell_type": "code",
   "execution_count": 764,
   "metadata": {},
   "outputs": [
    {
     "data": {
      "text/plain": [
       "((4521, 15), (1339, 15))"
      ]
     },
     "execution_count": 764,
     "metadata": {},
     "output_type": "execute_result"
    }
   ],
   "source": [
    "bank_bin_ds_short.shape, bank_bin_ds_short.drop_duplicates().T.drop_duplicates().T.shape"
   ]
  },
  {
   "cell_type": "code",
   "execution_count": 765,
   "metadata": {},
   "outputs": [
    {
     "data": {
      "text/plain": [
       "((374, 15), (334, 15))"
      ]
     },
     "execution_count": 765,
     "metadata": {},
     "output_type": "execute_result"
    }
   ],
   "source": [
    "bank_bin_ds_short[total_preds==1].shape, bank_bin_ds_short[total_preds==1].drop_duplicates().T.drop_duplicates().T.shape"
   ]
  },
  {
   "cell_type": "code",
   "execution_count": 796,
   "metadata": {},
   "outputs": [],
   "source": [
    "fcai = reload(fcai)"
   ]
  },
  {
   "cell_type": "code",
   "execution_count": 797,
   "metadata": {},
   "outputs": [],
   "source": [
    "cntx_full = fcai.Context(bank_bin_ds, y_true=total_true, y_pred=total_preds)"
   ]
  },
  {
   "cell_type": "code",
   "execution_count": null,
   "metadata": {},
   "outputs": [],
   "source": [
    "flg_true = total_preds==1\n",
    "cntx_true = fcai.Context(bank_bin_ds_short[flg_true], y_true=total_true[flg_true], y_pred=total_preds[flg_true])\n",
    "fm = fcai.FormalManager(cntx_true, task_type='binary classification', )\n",
    "fm.construct_concepts(algo='mit')\n",
    "fm.calc_strongness(cntx_full)\n",
    "fm.filter_concepts(fltr=lambda c: c._metrics['strongness']>0.5)\n",
    "fm.construct_lattice()\n",
    "fm.calc_stability_approx()\n",
    "#fm.filter_concepts(fltr=lambda c: c._metrics['lstab_min_bound'] is not None and c._metrics['lstab_min_bound']>0)\n",
    "#fm.construct_lattice()"
   ]
  },
  {
   "cell_type": "code",
   "execution_count": 780,
   "metadata": {},
   "outputs": [
    {
     "data": {
      "text/plain": [
       "4112"
      ]
     },
     "execution_count": 780,
     "metadata": {},
     "output_type": "execute_result"
    }
   ],
   "source": [
    "len(fm.get_concepts())"
   ]
  },
  {
   "cell_type": "code",
   "execution_count": 782,
   "metadata": {},
   "outputs": [],
   "source": [
    "fm.calc_strongness(cntx_full)"
   ]
  },
  {
   "cell_type": "code",
   "execution_count": 790,
   "metadata": {},
   "outputs": [
    {
     "data": {
      "text/plain": [
       "760"
      ]
     },
     "execution_count": 790,
     "metadata": {},
     "output_type": "execute_result"
    }
   ],
   "source": [
    "len([c._metrics['strongness'] for c in fm.get_concepts() if c._metrics['strongness']>=0.5])"
   ]
  },
  {
   "cell_type": "code",
   "execution_count": 785,
   "metadata": {},
   "outputs": [
    {
     "data": {
      "text/plain": [
       "<matplotlib.axes._subplots.AxesSubplot at 0x7f2e3e5d8090>"
      ]
     },
     "execution_count": 785,
     "metadata": {},
     "output_type": "execute_result"
    },
    {
     "data": {
      "image/png": "[encoded data removed]",
      "text/plain": [
       "<Figure size 432x288 with 1 Axes>"
      ]
     },
     "metadata": {
      "needs_background": "light"
     },
     "output_type": "display_data"
    }
   ],
   "source": [
    "sns.distplot([c._metrics['strongness'] for c in fm.get_concepts()])"
   ]
  },
  {
   "cell_type": "code",
   "execution_count": null,
   "metadata": {},
   "outputs": [],
   "source": []
  },
  {
   "cell_type": "code",
   "execution_count": 744,
   "metadata": {},
   "outputs": [],
   "source": [
    "fig = fm.get_plotly_fig(color_by='strongness', sort_by='y_pred_mean', level_sort='all')"
   ]
  },
  {
   "cell_type": "code",
   "execution_count": 745,
   "metadata": {},
   "outputs": [
    {
     "data": {
      "application/vnd.plotly.v1+json": {
       "config": {
        "plotlyServerURL": "https://plot.ly"
       },
       "data": [
        {
         "hoverinfo": "none",
         "line": {
          "color": "#888",
          "width": 0.5
         },
         "mode": "lines",
         "type": "scatter",
         "x": [
          0,
          -16,
          null,
          0,
          -13,
          null,
          0,
          -11,
          null,
          0,
          -8,
          null,
          0,
          -5,
          null,
          0,
          -4,
          null,
          0,
          -2,
          null,
          0,
          1,
          null,
          0,
          -17,
          null,
          0,
          -16,
          null,
          0,
          -14,
          null,
          0,
          -12,
          null,
          0,
          2,
          null,
          0,
          8,
          null,
          -2,
          -19,
          null,
          -2,
          -9,
          null,
          -2,
          -8,
          null,
          -1,
          -8,
          null,
          -1,
          0,
          null,
          -1,
          12,
          null,
          -1,
          -12,
          null,
          -1,
          -4,
          null,
          -1,
          20,
          null,
          -19,
          -20,
          null,
          -19,
          -12,
          null,
          0,
          9,
          null,
          0,
          11,
          null,
          0,
          19,
          null,
          0,
          4,
          null,
          0,
          9,
          null,
          0,
          19,
          null,
          -18,
          -20,
          null,
          -18,
          -10,
          null,
          -17,
          -20,
          null,
          -17,
          -6,
          null,
          -16,
          -16,
          null,
          -16,
          -10,
          null,
          -16,
          -9,
          null,
          -15,
          -13,
          null,
          -15,
          -9,
          null,
          -15,
          -5,
          null,
          -14,
          -18,
          null,
          -14,
          -1,
          null,
          -14,
          17,
          null,
          -13,
          -14,
          null,
          -13,
          -12,
          null,
          -13,
          -10,
          null,
          -12,
          -9,
          null,
          -12,
          0,
          null,
          -12,
          1,
          null,
          -12,
          16,
          null,
          1,
          10,
          null,
          1,
          11,
          null,
          1,
          4,
          null,
          1,
          11,
          null,
          -11,
          -17,
          null,
          -11,
          -10,
          null,
          -11,
          -1,
          null,
          -10,
          -19,
          null,
          -10,
          -16,
          null,
          -10,
          -5,
          null,
          -9,
          -20,
          null,
          -9,
          -9,
          null,
          -8,
          -12,
          null,
          -8,
          -9,
          null,
          -8,
          8,
          null,
          -7,
          -15,
          null,
          -7,
          15,
          null,
          -7,
          16,
          null,
          -6,
          -16,
          null,
          -6,
          -11,
          null,
          -6,
          16,
          null,
          -5,
          -14,
          null,
          -5,
          -1,
          null,
          -5,
          2,
          null,
          -4,
          -16,
          null,
          -4,
          -1,
          null,
          -4,
          15,
          null,
          -3,
          -5,
          null,
          -3,
          1,
          null,
          -3,
          16,
          null,
          -3,
          4,
          null,
          -2,
          -17,
          null,
          -2,
          -9,
          null,
          -2,
          15,
          null,
          -1,
          -18,
          null,
          -1,
          -16,
          null,
          -1,
          10,
          null,
          2,
          10,
          null,
          2,
          15,
          null,
          2,
          3,
          null,
          2,
          11,
          null,
          0,
          -9,
          null,
          0,
          -4,
          null,
          0,
          10,
          null,
          1,
          2,
          null,
          1,
          8,
          null,
          1,
          15,
          null,
          2,
          -1,
          null,
          2,
          0,
          null,
          2,
          3,
          null,
          3,
          -8,
          null,
          3,
          -5,
          null,
          3,
          15,
          null,
          4,
          -3,
          null,
          4,
          1,
          null,
          4,
          1,
          null,
          4,
          16,
          null,
          5,
          5,
          null,
          5,
          7,
          null,
          5,
          8,
          null,
          -20,
          0,
          null,
          6,
          10,
          null,
          6,
          12,
          null,
          6,
          16,
          null,
          7,
          -9,
          null,
          7,
          -6,
          null,
          7,
          7,
          null,
          8,
          -7,
          null,
          8,
          -5,
          null,
          8,
          8,
          null,
          -19,
          -5,
          null,
          -19,
          4,
          null,
          9,
          -5,
          null,
          9,
          9,
          null,
          9,
          10,
          null,
          10,
          1,
          null,
          10,
          11,
          null,
          -18,
          -5,
          null,
          -18,
          -4,
          null,
          11,
          -5,
          null,
          11,
          1,
          null,
          11,
          4,
          null,
          12,
          8,
          null,
          12,
          10,
          null,
          12,
          20,
          null,
          -17,
          0,
          null,
          -17,
          3,
          null,
          -16,
          17,
          null,
          -16,
          -5,
          null,
          -16,
          2,
          null,
          -15,
          1,
          null,
          -15,
          3,
          null,
          13,
          2,
          null,
          13,
          17,
          null,
          13,
          20,
          null,
          -14,
          -5,
          null,
          -14,
          5,
          null,
          14,
          10,
          null,
          14,
          15,
          null,
          14,
          17,
          null,
          15,
          1,
          null,
          15,
          3,
          null,
          15,
          15,
          null,
          16,
          1,
          null,
          16,
          8,
          null,
          16,
          14,
          null,
          -13,
          0,
          null,
          -13,
          4,
          null,
          -12,
          0,
          null,
          -12,
          5,
          null,
          -11,
          -5,
          null,
          -11,
          1,
          null,
          17,
          0,
          null,
          17,
          1,
          null,
          18,
          6,
          null,
          18,
          8,
          null,
          18,
          16,
          null,
          -10,
          -5,
          null,
          -10,
          0,
          null,
          19,
          1,
          null,
          19,
          10,
          null,
          19,
          19,
          null,
          -9,
          0,
          null,
          -9,
          2,
          null,
          -8,
          3,
          null,
          -8,
          4,
          null,
          -7,
          4,
          null,
          -7,
          5,
          null,
          -6,
          -2,
          null,
          -6,
          0,
          null,
          -5,
          2,
          null,
          -5,
          4,
          null,
          -4,
          -4,
          null,
          -4,
          0,
          null,
          -3,
          -4,
          null,
          -3,
          -2,
          null,
          -5,
          0,
          null,
          -5,
          -2,
          null,
          -5,
          -1,
          null,
          -5,
          0,
          null,
          -4,
          17,
          null,
          -4,
          20,
          null,
          -4,
          10,
          null,
          -4,
          12,
          null,
          -4,
          9,
          null,
          -4,
          19,
          null,
          -4,
          0,
          null,
          -3,
          4,
          null,
          -3,
          0,
          null,
          -3,
          3,
          null,
          -3,
          19,
          null,
          -3,
          14,
          null,
          -3,
          1,
          null,
          -3,
          11,
          null,
          -3,
          0,
          null,
          -2,
          -2,
          null,
          -1,
          3,
          null,
          0,
          3,
          null,
          0,
          5,
          null,
          0,
          -1,
          null,
          0,
          2,
          null,
          0,
          -2,
          null,
          0,
          1,
          null,
          0,
          4,
          null,
          0,
          0,
          null,
          -2,
          5,
          null,
          -2,
          7,
          null,
          -1,
          18,
          null,
          -1,
          13,
          null,
          1,
          2,
          null,
          2,
          3,
          null,
          2,
          5,
          null,
          1,
          16,
          null,
          1,
          12,
          null,
          1,
          6,
          null,
          3,
          3,
          null,
          2,
          7,
          null,
          2,
          15,
          null,
          2,
          16,
          null,
          2,
          10,
          null,
          2,
          8,
          null,
          2,
          18,
          null,
          3,
          13,
          null,
          3,
          15,
          null,
          3,
          17,
          null,
          4,
          4,
          null,
          5,
          5,
          null,
          6,
          5,
          null,
          8,
          5,
          null,
          9,
          4,
          null,
          14,
          5,
          null,
          20,
          5,
          null
         ],
         "y": [
          1,
          3,
          null,
          1,
          3,
          null,
          1,
          3,
          null,
          1,
          3,
          null,
          1,
          3,
          null,
          1,
          3,
          null,
          1,
          3,
          null,
          1,
          3,
          null,
          1,
          4,
          null,
          1,
          4,
          null,
          1,
          4,
          null,
          1,
          4,
          null,
          1,
          4,
          null,
          1,
          4,
          null,
          2,
          3,
          null,
          2,
          3,
          null,
          2,
          3,
          null,
          2,
          3,
          null,
          2,
          3,
          null,
          2,
          3,
          null,
          2,
          4,
          null,
          2,
          4,
          null,
          2,
          4,
          null,
          3,
          4,
          null,
          3,
          4,
          null,
          2,
          3,
          null,
          2,
          3,
          null,
          2,
          3,
          null,
          2,
          4,
          null,
          2,
          4,
          null,
          2,
          4,
          null,
          3,
          4,
          null,
          3,
          4,
          null,
          3,
          4,
          null,
          3,
          4,
          null,
          3,
          4,
          null,
          3,
          4,
          null,
          3,
          4,
          null,
          3,
          4,
          null,
          3,
          4,
          null,
          3,
          4,
          null,
          3,
          4,
          null,
          3,
          4,
          null,
          3,
          4,
          null,
          3,
          4,
          null,
          3,
          4,
          null,
          3,
          4,
          null,
          3,
          4,
          null,
          3,
          5,
          null,
          3,
          5,
          null,
          3,
          4,
          null,
          2,
          3,
          null,
          2,
          3,
          null,
          2,
          4,
          null,
          2,
          4,
          null,
          3,
          4,
          null,
          3,
          4,
          null,
          3,
          4,
          null,
          3,
          4,
          null,
          3,
          4,
          null,
          3,
          4,
          null,
          3,
          4,
          null,
          3,
          4,
          null,
          3,
          4,
          null,
          3,
          4,
          null,
          3,
          4,
          null,
          3,
          4,
          null,
          3,
          4,
          null,
          3,
          4,
          null,
          3,
          4,
          null,
          3,
          4,
          null,
          3,
          4,
          null,
          3,
          4,
          null,
          3,
          4,
          null,
          3,
          4,
          null,
          3,
          4,
          null,
          3,
          4,
          null,
          3,
          4,
          null,
          3,
          4,
          null,
          3,
          5,
          null,
          3,
          4,
          null,
          3,
          5,
          null,
          3,
          4,
          null,
          3,
          4,
          null,
          3,
          4,
          null,
          3,
          4,
          null,
          3,
          4,
          null,
          3,
          4,
          null,
          2,
          3,
          null,
          2,
          3,
          null,
          2,
          4,
          null,
          2,
          4,
          null,
          3,
          4,
          null,
          3,
          4,
          null,
          3,
          4,
          null,
          3,
          4,
          null,
          3,
          4,
          null,
          3,
          4,
          null,
          3,
          4,
          null,
          3,
          4,
          null,
          3,
          4,
          null,
          3,
          4,
          null,
          3,
          4,
          null,
          3,
          4,
          null,
          3,
          5,
          null,
          3,
          4,
          null,
          3,
          5,
          null,
          3,
          4,
          null,
          3,
          4,
          null,
          3,
          4,
          null,
          3,
          4,
          null,
          4,
          5,
          null,
          3,
          4,
          null,
          3,
          4,
          null,
          3,
          4,
          null,
          3,
          4,
          null,
          3,
          4,
          null,
          3,
          4,
          null,
          3,
          4,
          null,
          3,
          4,
          null,
          3,
          4,
          null,
          4,
          5,
          null,
          4,
          5,
          null,
          3,
          4,
          null,
          3,
          4,
          null,
          3,
          4,
          null,
          3,
          4,
          null,
          3,
          4,
          null,
          4,
          5,
          null,
          4,
          5,
          null,
          3,
          4,
          null,
          3,
          4,
          null,
          3,
          4,
          null,
          3,
          4,
          null,
          3,
          4,
          null,
          3,
          4,
          null,
          4,
          5,
          null,
          4,
          5,
          null,
          4,
          3,
          null,
          4,
          5,
          null,
          4,
          5,
          null,
          4,
          5,
          null,
          4,
          5,
          null,
          3,
          4,
          null,
          3,
          4,
          null,
          3,
          4,
          null,
          4,
          5,
          null,
          4,
          5,
          null,
          3,
          4,
          null,
          3,
          4,
          null,
          3,
          4,
          null,
          3,
          4,
          null,
          3,
          4,
          null,
          3,
          4,
          null,
          3,
          4,
          null,
          3,
          4,
          null,
          3,
          4,
          null,
          4,
          5,
          null,
          4,
          5,
          null,
          4,
          5,
          null,
          4,
          5,
          null,
          4,
          5,
          null,
          4,
          5,
          null,
          3,
          4,
          null,
          3,
          4,
          null,
          3,
          4,
          null,
          3,
          4,
          null,
          3,
          4,
          null,
          4,
          5,
          null,
          4,
          5,
          null,
          3,
          4,
          null,
          3,
          4,
          null,
          3,
          4,
          null,
          4,
          5,
          null,
          4,
          5,
          null,
          4,
          5,
          null,
          4,
          5,
          null,
          4,
          5,
          null,
          4,
          5,
          null,
          4,
          5,
          null,
          4,
          5,
          null,
          4,
          5,
          null,
          4,
          5,
          null,
          4,
          5,
          null,
          4,
          5,
          null,
          4,
          5,
          null,
          4,
          5,
          null,
          5,
          4,
          null,
          5,
          4,
          null,
          5,
          4,
          null,
          5,
          6,
          null,
          5,
          4,
          null,
          5,
          4,
          null,
          5,
          4,
          null,
          5,
          4,
          null,
          5,
          4,
          null,
          5,
          4,
          null,
          5,
          6,
          null,
          5,
          4,
          null,
          5,
          4,
          null,
          5,
          4,
          null,
          5,
          4,
          null,
          5,
          4,
          null,
          5,
          4,
          null,
          5,
          4,
          null,
          5,
          6,
          null,
          4,
          5,
          null,
          4,
          5,
          null,
          6,
          5,
          null,
          6,
          5,
          null,
          6,
          5,
          null,
          6,
          5,
          null,
          6,
          5,
          null,
          6,
          5,
          null,
          6,
          5,
          null,
          6,
          5,
          null,
          5,
          4,
          null,
          5,
          4,
          null,
          5,
          4,
          null,
          5,
          4,
          null,
          4,
          5,
          null,
          4,
          5,
          null,
          4,
          5,
          null,
          5,
          4,
          null,
          5,
          4,
          null,
          5,
          4,
          null,
          4,
          5,
          null,
          5,
          4,
          null,
          5,
          4,
          null,
          5,
          4,
          null,
          5,
          4,
          null,
          5,
          4,
          null,
          5,
          4,
          null,
          5,
          4,
          null,
          5,
          4,
          null,
          5,
          4,
          null,
          4,
          5,
          null,
          4,
          5,
          null,
          4,
          5,
          null,
          4,
          5,
          null,
          4,
          5,
          null,
          4,
          5,
          null,
          4,
          5,
          null
         ]
        },
        {
         "hoverinfo": "text",
         "hovertext": [
          "Concept 767<br><br>extent (len: 33): 4160, 4083, 1349, 4281, 1469,...<br>intent (len: 5): age>=40, poutcome!=unknown, marital=married, campaign<2, day>=10<br>new extent (len: 33): 4160, 4083, 1349, 4281, 1469,...<br>new_intent (len: 0): ∅<br>metric accuracy = 0.94<br>metric precision = 0.94<br>metric recall = 1.0<br>metric neg_precision = 0.0<br>metric neg_recall = 0.0<br>metric f1_score = 0.97<br>metric y_pred_mean = 1.0<br>metric y_true_mean = 0.9393939393939394<br>metric stab_min_bound = 0.9999383613467216<br>metric stab_max_bound = 0.999969482421875<br>metric log_stab_min_bound = 13.985805133185501<br>metric log_stab_max_bound = 15.0<br>metric lstab_min_bound = 2.0<br>metric strongness = 0.3142857142857143<br>",
          "Concept 505<br><br>extent (len: 38): 4160, 1181, 1469, 2665, 1862,...<br>intent (len: 4): poutcome=success, day>=10, campaign<2, poutcome!=unknown<br>new extent (len: 38): 4160, 1181, 2665, 1469, 1862,...<br>new_intent (len: 0): ∅<br>metric accuracy = 0.89<br>metric precision = 0.89<br>metric recall = 1.0<br>metric neg_precision = 0.0<br>metric neg_recall = 0.0<br>metric f1_score = 0.94<br>metric y_pred_mean = 1.0<br>metric y_true_mean = 0.8947368421052632<br>metric stab_min_bound = 0.9999293680302799<br>metric stab_max_bound = 0.999969482421875<br>metric log_stab_min_bound = 13.789319144806907<br>metric log_stab_max_bound = 15.0<br>metric lstab_min_bound = 2.0<br>metric strongness = 0.7755102040816326<br>",
          "Concept 519<br><br>extent (len: 39): 412, 1915, 4160, 4083, 1181,...<br>intent (len: 4): balance>=1000, day>=10, campaign<2, poutcome!=unknown<br>new extent (len: 39): 412, 1915, 4160, 4083, 1181,...<br>new_intent (len: 0): ∅<br>metric accuracy = 0.92<br>metric precision = 0.92<br>metric recall = 1.0<br>metric neg_precision = 0.0<br>metric neg_recall = 0.0<br>metric f1_score = 0.96<br>metric y_pred_mean = 1.0<br>metric y_true_mean = 0.9230769230769231<br>metric stab_min_bound = 0.9999484269064851<br>metric stab_max_bound = 0.999969482421875<br>metric log_stab_min_bound = 14.243021888959115<br>metric log_stab_max_bound = 15.0<br>metric lstab_min_bound = 2.0<br>metric strongness = 0.3482142857142857<br>",
          "Concept 213<br><br>extent (len: 54): 4160, 1181, 1060, 1469, 2665,...<br>intent (len: 3): poutcome=success, campaign<2, poutcome!=unknown<br>new extent (len: 16): 477, 1060, 1342, 941, 4224,...<br>new_intent (len: 0): ∅<br>metric accuracy = 0.91<br>metric precision = 0.91<br>metric recall = 1.0<br>metric neg_precision = 0.0<br>metric neg_recall = 0.0<br>metric f1_score = 0.95<br>metric y_pred_mean = 1.0<br>metric y_true_mean = 0.9074074074074074<br>metric stab_min_bound = 0.9999827890419466<br>metric stab_max_bound = 0.9999847412109375<br>metric log_stab_min_bound = 15.826313066749305<br>metric log_stab_max_bound = 16.0<br>metric lstab_min_bound = 3.0<br>metric strongness = 0.7297297297297297<br>",
          "Concept 273<br><br>extent (len: 27): 2372, 517, 1994, 823, 3117,...<br>intent (len: 4): balance>=1000, housing=True, duration>=600, day>=10<br>new extent (len: 27): 2372, 517, 1994, 823, 3117,...<br>new_intent (len: 0): ∅<br>metric accuracy = 0.93<br>metric precision = 0.93<br>metric recall = 1.0<br>metric neg_precision = 0.0<br>metric neg_recall = 0.0<br>metric f1_score = 0.96<br>metric y_pred_mean = 1.0<br>metric y_true_mean = 0.9259259259259259<br>metric stab_min_bound = 0.999783992767334<br>metric stab_max_bound = 0.99993896484375<br>metric log_stab_min_bound = 12.176632759953765<br>metric log_stab_max_bound = 14.0<br>metric lstab_min_bound = 1.0<br>metric strongness = 0.4090909090909091<br>",
          "Concept 210<br><br>extent (len: 60): 4160, 1181, 1060, 619, 1469,...<br>intent (len: 3): poutcome=success, poutcome!=unknown, marital=married<br>new extent (len: 60): 4160, 1181, 1060, 619, 1469,...<br>new_intent (len: 0): ∅<br>metric accuracy = 0.9<br>metric precision = 0.9<br>metric recall = 1.0<br>metric neg_precision = 0.0<br>metric neg_recall = 0.0<br>metric f1_score = 0.95<br>metric y_pred_mean = 1.0<br>metric y_true_mean = 0.9<br>metric stab_min_bound = 0.999998776700515<br>metric stab_max_bound = 0.9999990463256836<br>metric log_stab_min_bound = 19.640790925317624<br>metric log_stab_max_bound = 20.0<br>metric lstab_min_bound = 7.0<br>metric strongness = 0.7317073170731707<br>",
          "Concept 209<br><br>extent (len: 43): 1181, 619, 2665, 3027, 941,...<br>intent (len: 3): poutcome=success, duration<300, poutcome!=unknown<br>new extent (len: 43): 1181, 619, 2665, 3027, 941,...<br>new_intent (len: 0): ∅<br>metric accuracy = 0.91<br>metric precision = 0.91<br>metric recall = 1.0<br>metric neg_precision = 0.0<br>metric neg_recall = 0.0<br>metric f1_score = 0.95<br>metric y_pred_mean = 1.0<br>metric y_true_mean = 0.9069767441860465<br>metric stab_min_bound = 0.9998610018519685<br>metric stab_max_bound = 0.99993896484375<br>metric log_stab_min_bound = 12.812646718496515<br>metric log_stab_max_bound = 14.0<br>metric lstab_min_bound = 1.0<br>metric strongness = 0.6231884057971014<br>",
          "Concept 205<br><br>extent (len: 68): 4160, 2837, 3978, 1181, 53,...<br>intent (len: 3): poutcome!=unknown, day>=10, marital=married<br>new extent (len: 35): 2837, 1181, 53, 619, 1048,...<br>new_intent (len: 0): ∅<br>metric accuracy = 0.93<br>metric precision = 0.93<br>metric recall = 1.0<br>metric neg_precision = 0.0<br>metric neg_recall = 0.0<br>metric f1_score = 0.96<br>metric y_pred_mean = 1.0<br>metric y_true_mean = 0.9264705882352942<br>metric stab_min_bound = 0.9999997541159187<br>metric stab_max_bound = 0.9999997615814209<br>metric log_stab_min_bound = 21.955518327191324<br>metric log_stab_max_bound = 22.0<br>metric lstab_min_bound = 9.0<br>metric strongness = 0.20118343195266272<br>",
          "Concept 236<br><br>extent (len: 45): 412, 2837, 2372, 233, 53,...<br>intent (len: 3): housing=True, day>=10, poutcome!=unknown<br>new extent (len: 45): 412, 2837, 2372, 233, 53,...<br>new_intent (len: 0): ∅<br>metric accuracy = 0.96<br>metric precision = 0.96<br>metric recall = 1.0<br>metric neg_precision = 0.0<br>metric neg_recall = 0.0<br>metric f1_score = 0.98<br>metric y_pred_mean = 1.0<br>metric y_true_mean = 0.9555555555555556<br>metric stab_min_bound = 0.9999955510716063<br>metric stab_max_bound = 0.9999961853027344<br>metric log_stab_min_bound = 17.77811069106361<br>metric log_stab_max_bound = 18.0<br>metric lstab_min_bound = 5.0<br>metric strongness = 0.12640449438202248<br>",
          "Concept 182<br><br>extent (len: 60): 4160, 4083, 1060, 4392, 1994,...<br>intent (len: 3): balance>=1000, age>=40, marital=married<br>new extent (len: 60): 4160, 4083, 1060, 4392, 1994,...<br>new_intent (len: 0): ∅<br>metric accuracy = 0.88<br>metric precision = 0.88<br>metric recall = 1.0<br>metric neg_precision = 0.0<br>metric neg_recall = 0.0<br>metric f1_score = 0.94<br>metric y_pred_mean = 1.0<br>metric y_true_mean = 0.8833333333333333<br>metric stab_min_bound = 0.9999999287459787<br>metric stab_max_bound = 0.9999999403953552<br>metric log_stab_min_bound = 23.742453321526085<br>metric log_stab_max_bound = 24.0<br>metric lstab_min_bound = 11.0<br>metric strongness = 0.10416666666666667<br>",
          "Concept 203<br><br>extent (len: 55): 4160, 4083, 1181, 53, 1060,...<br>intent (len: 3): poutcome!=unknown, campaign<2, marital=married<br>new extent (len: 22): 1181, 53, 1060, 941, 2251,...<br>new_intent (len: 0): ∅<br>metric accuracy = 0.95<br>metric precision = 0.95<br>metric recall = 1.0<br>metric neg_precision = 0.0<br>metric neg_recall = 0.0<br>metric f1_score = 0.97<br>metric y_pred_mean = 1.0<br>metric y_true_mean = 0.9454545454545454<br>metric stab_min_bound = 0.9999379812478537<br>metric stab_max_bound = 0.999969482421875<br>metric log_stab_min_bound = 13.976935976065688<br>metric log_stab_max_bound = 15.0<br>metric lstab_min_bound = 2.0<br>metric strongness = 0.22633744855967078<br>",
          "Concept 233<br><br>extent (len: 51): 1904, 412, 1915, 4083, 53,...<br>intent (len: 3): education=tertiary, day>=10, poutcome!=unknown<br>new extent (len: 51): 1904, 412, 1915, 4083, 53,...<br>new_intent (len: 0): ∅<br>metric accuracy = 0.88<br>metric precision = 0.88<br>metric recall = 1.0<br>metric neg_precision = 0.0<br>metric neg_recall = 0.0<br>metric f1_score = 0.94<br>metric y_pred_mean = 1.0<br>metric y_true_mean = 0.8823529411764706<br>metric stab_min_bound = 0.9999998955736356<br>metric stab_max_bound = 0.9999999403953552<br>metric log_stab_min_bound = 23.191010670201052<br>metric log_stab_max_bound = 24.0<br>metric lstab_min_bound = 11.0<br>metric strongness = 0.2712765957446808<br>",
          "Concept 297<br><br>extent (len: 39): 2837, 1085, 630, 517, 2748,...<br>intent (len: 4): duration>=900, housing=True, duration>=600, day>=10<br>new extent (len: 39): 2837, 1085, 630, 517, 2748,...<br>new_intent (len: 0): ∅<br>metric accuracy = 0.95<br>metric precision = 0.95<br>metric recall = 1.0<br>metric neg_precision = 0.0<br>metric neg_recall = 0.0<br>metric f1_score = 0.97<br>metric y_pred_mean = 1.0<br>metric y_true_mean = 0.9487179487179487<br>metric stab_min_bound = 0.9999971205834299<br>metric stab_max_bound = 0.9999980926513672<br>metric log_stab_min_bound = 18.405792048190914<br>metric log_stab_max_bound = 19.0<br>metric lstab_min_bound = 6.0<br>metric strongness = 0.5652173913043478<br>",
          "Concept 201<br><br>extent (len: 61): 4160, 2837, 3978, 4083, 1060,...<br>intent (len: 3): poutcome!=unknown, age>=40, marital=married<br>new extent (len: 28): 2837, 1060, 1905, 1186, 3843,...<br>new_intent (len: 0): ∅<br>metric accuracy = 0.9<br>metric precision = 0.9<br>metric recall = 1.0<br>metric neg_precision = 0.0<br>metric neg_recall = 0.0<br>metric f1_score = 0.95<br>metric y_pred_mean = 1.0<br>metric y_true_mean = 0.9016393442622951<br>metric stab_min_bound = 0.9999688845108725<br>metric stab_max_bound = 0.999969482421875<br>metric log_stab_min_bound = 14.972007549238263<br>metric log_stab_max_bound = 15.0<br>metric lstab_min_bound = 2.0<br>metric strongness = 0.21863799283154123<br>",
          "Concept 199<br><br>extent (len: 48): 1709, 2837, 1085, 53, 189,...<br>intent (len: 3): housing=True, day>=10, marital=married<br>new extent (len: 48): 1709, 2837, 1085, 53, 189,...<br>new_intent (len: 0): ∅<br>metric accuracy = 0.96<br>metric precision = 0.96<br>metric recall = 1.0<br>metric neg_precision = 0.0<br>metric neg_recall = 0.0<br>metric f1_score = 0.98<br>metric y_pred_mean = 1.0<br>metric y_true_mean = 0.9583333333333334<br>metric stab_min_bound = 0.9999960057825774<br>metric stab_max_bound = 0.9999961853027344<br>metric log_stab_min_bound = 17.93365570225318<br>metric log_stab_max_bound = 18.0<br>metric lstab_min_bound = 5.0<br>metric strongness = 0.0431266846361186<br>",
          "Concept 215<br><br>extent (len: 66): 4160, 2372, 233, 1181, 619,...<br>intent (len: 3): poutcome=success, day>=10, poutcome!=unknown<br>new extent (len: 28): 2372, 233, 619, 1048, 1905,...<br>new_intent (len: 0): ∅<br>metric accuracy = 0.88<br>metric precision = 0.88<br>metric recall = 1.0<br>metric neg_precision = 0.0<br>metric neg_recall = 0.0<br>metric f1_score = 0.94<br>metric y_pred_mean = 1.0<br>metric y_true_mean = 0.8787878787878788<br>metric stab_min_bound = 0.9999999794436005<br>metric stab_max_bound = 0.9999999850988388<br>metric log_stab_min_bound = 25.535837165747854<br>metric log_stab_max_bound = 26.0<br>metric lstab_min_bound = 13.0<br>metric strongness = 0.75<br>",
          "Concept 228<br><br>extent (len: 71): 412, 1915, 4160, 4083, 1181,...<br>intent (len: 3): day>=10, campaign<2, poutcome!=unknown<br>new extent (len: 7): 3502, 2653, 4089, 849, 2213,...<br>new_intent (len: 0): ∅<br>metric accuracy = 0.93<br>metric precision = 0.93<br>metric recall = 1.0<br>metric neg_precision = 0.0<br>metric neg_recall = 0.0<br>metric f1_score = 0.96<br>metric y_pred_mean = 1.0<br>metric y_true_mean = 0.9295774647887324<br>metric stab_min_bound = 0.9999999693825252<br>metric stab_max_bound = 0.9999999701976776<br>metric log_stab_min_bound = 24.961069459797496<br>metric log_stab_max_bound = 25.0<br>metric lstab_min_bound = 12.0<br>metric strongness = 0.24067796610169492<br>",
          "Concept 169<br><br>extent (len: 44): 412, 3614, 1899, 4083, 3789,...<br>intent (len: 3): education=tertiary, age>=40, day>=10<br>new extent (len: 44): 412, 3614, 1899, 4083, 3789,...<br>new_intent (len: 0): ∅<br>metric accuracy = 0.82<br>metric precision = 0.82<br>metric recall = 1.0<br>metric neg_precision = 0.0<br>metric neg_recall = 0.0<br>metric f1_score = 0.9<br>metric y_pred_mean = 1.0<br>metric y_true_mean = 0.8181818181818182<br>metric stab_min_bound = 0.9999955126550049<br>metric stab_max_bound = 0.9999961853027344<br>metric log_stab_min_bound = 17.765706464060596<br>metric log_stab_max_bound = 18.0<br>metric lstab_min_bound = 5.0<br>metric strongness = 0.11796246648793565<br>",
          "Concept 195<br><br>extent (len: 46): 2499, 4083, 53, 3789, 619,...<br>intent (len: 3): education=tertiary, day>=10, marital=married<br>new extent (len: 46): 2499, 4083, 53, 3789, 619,...<br>new_intent (len: 0): ∅<br>metric accuracy = 0.8<br>metric precision = 0.8<br>metric recall = 1.0<br>metric neg_precision = 0.0<br>metric neg_recall = 0.0<br>metric f1_score = 0.89<br>metric y_pred_mean = 1.0<br>metric y_true_mean = 0.8043478260869565<br>metric stab_min_bound = 0.9999994700770003<br>metric stab_max_bound = 0.9999995231628418<br>metric log_stab_min_bound = 20.847713919660666<br>metric log_stab_max_bound = 21.0<br>metric lstab_min_bound = 8.0<br>metric strongness = 0.09663865546218488<br>",
          "Concept 188<br><br>extent (len: 64): 4160, 4083, 2106, 1060, 1349,...<br>intent (len: 3): campaign<2, age>=40, marital=married<br>new extent (len: 31): 2106, 1060, 3789, 944, 2259,...<br>new_intent (len: 0): ∅<br>metric accuracy = 0.92<br>metric precision = 0.92<br>metric recall = 1.0<br>metric neg_precision = 0.0<br>metric neg_recall = 0.0<br>metric f1_score = 0.96<br>metric y_pred_mean = 1.0<br>metric y_true_mean = 0.921875<br>metric stab_min_bound = 0.9999980325805797<br>metric stab_max_bound = 0.9999980926513672<br>metric log_stab_min_bound = 18.95526402094111<br>metric log_stab_max_bound = 19.0<br>metric lstab_min_bound = 6.0<br>metric strongness = 0.10902896081771721<br>",
          "Concept 181<br><br>extent (len: 78): 2748, 4337, 2049, 4433, 3239,...<br>intent (len: 3): day>=10, age>=40, marital=married<br>new extent (len: 45): 1709, 2837, 2106, 189, 3789,...<br>new_intent (len: 0): ∅<br>metric accuracy = 0.9<br>metric precision = 0.9<br>metric recall = 1.0<br>metric neg_precision = 0.0<br>metric neg_recall = 0.0<br>metric f1_score = 0.95<br>metric y_pred_mean = 1.0<br>metric y_true_mean = 0.8974358974358975<br>metric stab_min_bound = 0.9999999996505229<br>metric stab_max_bound = 0.9999999997671694<br>metric log_stab_min_bound = 31.414082967444855<br>metric log_stab_max_bound = 32.0<br>metric lstab_min_bound = 19.0<br>metric strongness = 0.06933333333333333<br>",
          "Concept 179<br><br>extent (len: 39): 412, 53, 630, 2665, 1905,...<br>intent (len: 3): education=tertiary, housing=True, day>=10<br>new extent (len: 39): 412, 53, 630, 2665, 1905,...<br>new_intent (len: 0): ∅<br>metric accuracy = 0.92<br>metric precision = 0.92<br>metric recall = 1.0<br>metric neg_precision = 0.0<br>metric neg_recall = 0.0<br>metric f1_score = 0.96<br>metric y_pred_mean = 1.0<br>metric y_true_mean = 0.9230769230769231<br>metric stab_min_bound = 0.9999669112730771<br>metric stab_max_bound = 0.999969482421875<br>metric log_stab_min_bound = 14.883300688902848<br>metric log_stab_max_bound = 15.0<br>metric lstab_min_bound = 2.0<br>metric strongness = 0.08685968819599109<br>",
          "Concept 219<br><br>extent (len: 69): 412, 4160, 2837, 2372, 233,...<br>intent (len: 3): day>=10, age>=40, poutcome!=unknown<br>new extent (len: 36): 412, 2837, 2372, 233, 3889,...<br>new_intent (len: 0): ∅<br>metric accuracy = 0.93<br>metric precision = 0.93<br>metric recall = 1.0<br>metric neg_precision = 0.0<br>metric neg_recall = 0.0<br>metric f1_score = 0.96<br>metric y_pred_mean = 1.0<br>metric y_true_mean = 0.927536231884058<br>metric stab_min_bound = 0.999999761319216<br>metric stab_max_bound = 0.9999998807907104<br>metric log_stab_min_bound = 21.998414243189128<br>metric log_stab_max_bound = 23.0<br>metric lstab_min_bound = 10.0<br>metric strongness = 0.2536764705882353<br>",
          "Concept 185<br><br>extent (len: 53): 2499, 4160, 4083, 1181, 53,...<br>intent (len: 3): balance>=1000, day>=10, marital=married<br>new extent (len: 53): 4160, 2499, 4083, 1181, 53,...<br>new_intent (len: 0): ∅<br>metric accuracy = 0.92<br>metric precision = 0.92<br>metric recall = 1.0<br>metric neg_precision = 0.0<br>metric neg_recall = 0.0<br>metric f1_score = 0.96<br>metric y_pred_mean = 1.0<br>metric y_true_mean = 0.9245283018867925<br>metric stab_min_bound = 0.9999916505689725<br>metric stab_max_bound = 0.9999923706054688<br>metric log_stab_min_bound = 16.869890680939598<br>metric log_stab_max_bound = 17.0<br>metric lstab_min_bound = 4.0<br>metric strongness = 0.07898658718330849<br>",
          "Concept 282<br><br>extent (len: 39): 3614, 2033, 1899, 2106, 2837,...<br>intent (len: 4): duration>=900, duration>=600, age>=40, day>=10<br>new extent (len: 39): 3614, 1899, 2837, 2033, 2106,...<br>new_intent (len: 0): ∅<br>metric accuracy = 0.87<br>metric precision = 0.87<br>metric recall = 1.0<br>metric neg_precision = 0.0<br>metric neg_recall = 0.0<br>metric f1_score = 0.93<br>metric y_pred_mean = 1.0<br>metric y_true_mean = 0.8717948717948718<br>metric stab_min_bound = 0.9999978130217642<br>metric stab_max_bound = 0.9999980926513672<br>metric log_stab_min_bound = 18.802629706140173<br>metric log_stab_max_bound = 19.0<br>metric lstab_min_bound = 6.0<br>metric strongness = 0.6724137931034483<br>",
          "Concept 223<br><br>extent (len: 58): 412, 1915, 4160, 2372, 1181,...<br>intent (len: 3): balance>=1000, day>=10, poutcome!=unknown<br>new extent (len: 19): 2372, 619, 1048, 3658, 202,...<br>new_intent (len: 0): ∅<br>metric accuracy = 0.95<br>metric precision = 0.95<br>metric recall = 1.0<br>metric neg_precision = 0.0<br>metric neg_recall = 0.0<br>metric f1_score = 0.97<br>metric y_pred_mean = 1.0<br>metric y_true_mean = 0.9482758620689655<br>metric stab_min_bound = 0.9999980013490095<br>metric stab_max_bound = 0.9999980926513672<br>metric log_stab_min_bound = 18.932542002321092<br>metric log_stab_max_bound = 19.0<br>metric lstab_min_bound = 6.0<br>metric strongness = 0.2761904761904762<br>",
          "Concept 85<br><br>extent (len: 74): 412, 1415, 4160, 1899, 4083,...<br>intent (len: 3): campaign<2, age>=40, day>=10<br>new extent (len: 41): 412, 1415, 1899, 2106, 3789,...<br>new_intent (len: 0): ∅<br>metric accuracy = 0.92<br>metric precision = 0.92<br>metric recall = 1.0<br>metric neg_precision = 0.0<br>metric neg_recall = 0.0<br>metric f1_score = 0.96<br>metric y_pred_mean = 1.0<br>metric y_true_mean = 0.918918918918919<br>metric stab_min_bound = 0.9999999944047734<br>metric stab_max_bound = 0.9999999962747097<br>metric log_stab_min_bound = 27.41315629021286<br>metric log_stab_max_bound = 28.0<br>metric lstab_min_bound = 15.0<br>metric strongness = 0.1383177570093458<br>",
          "Concept 120<br><br>extent (len: 46): 2837, 2106, 1349, 3690, 2748,...<br>intent (len: 3): duration>=600, age>=40, marital=married<br>new extent (len: 46): 2837, 2106, 1349, 2748, 1994,...<br>new_intent (len: 0): ∅<br>metric accuracy = 0.91<br>metric precision = 0.91<br>metric recall = 1.0<br>metric neg_precision = 0.0<br>metric neg_recall = 0.0<br>metric f1_score = 0.95<br>metric y_pred_mean = 1.0<br>metric y_true_mean = 0.9130434782608695<br>metric stab_min_bound = 0.9999846134742256<br>metric stab_max_bound = 0.9999847412109375<br>metric log_stab_min_bound = 15.987972961673382<br>metric log_stab_max_bound = 16.0<br>metric lstab_min_bound = 3.0<br>metric strongness = 0.32167832167832167<br>",
          "Concept 172<br><br>extent (len: 50): 412, 1709, 2837, 2372, 233,...<br>intent (len: 3): housing=True, age>=40, day>=10<br>new extent (len: 50): 412, 1709, 2837, 2372, 233,...<br>new_intent (len: 0): ∅<br>metric accuracy = 0.96<br>metric precision = 0.96<br>metric recall = 1.0<br>metric neg_precision = 0.0<br>metric neg_recall = 0.0<br>metric f1_score = 0.98<br>metric y_pred_mean = 1.0<br>metric y_true_mean = 0.96<br>metric stab_min_bound = 0.9999979063723003<br>metric stab_max_bound = 0.9999980926513672<br>metric log_stab_min_bound = 18.865563652184914<br>metric log_stab_max_bound = 19.0<br>metric lstab_min_bound = 6.0<br>metric strongness = 0.06493506493506493<br>",
          "Concept 114<br><br>extent (len: 53): 1914, 3614, 1899, 630, 2633,...<br>intent (len: 3): education=tertiary, duration>=600, day>=10<br>new extent (len: 53): 1914, 3614, 1899, 630, 2633,...<br>new_intent (len: 0): ∅<br>metric accuracy = 0.91<br>metric precision = 0.91<br>metric recall = 1.0<br>metric neg_precision = 0.0<br>metric neg_recall = 0.0<br>metric f1_score = 0.95<br>metric y_pred_mean = 1.0<br>metric y_true_mean = 0.9056603773584906<br>metric stab_min_bound = 0.9999999969271585<br>metric stab_max_bound = 0.9999999981373549<br>metric log_stab_min_bound = 28.277779483410665<br>metric log_stab_max_bound = 29.0<br>metric lstab_min_bound = 16.0<br>metric strongness = 0.5463917525773195<br>",
          "Concept 143<br><br>extent (len: 46): 412, 1915, 1181, 2665, 3027,...<br>intent (len: 3): duration<300, day>=10, campaign<2<br>new extent (len: 46): 412, 1915, 1181, 2665, 3027,...<br>new_intent (len: 0): ∅<br>metric accuracy = 0.87<br>metric precision = 0.87<br>metric recall = 1.0<br>metric neg_precision = 0.0<br>metric neg_recall = 0.0<br>metric f1_score = 0.93<br>metric y_pred_mean = 1.0<br>metric y_true_mean = 0.8695652173913043<br>metric stab_min_bound = 0.9999806857595104<br>metric stab_max_bound = 0.9999923706054688<br>metric log_stab_min_bound = 15.659975528081144<br>metric log_stab_max_bound = 17.0<br>metric lstab_min_bound = 4.0<br>metric strongness = 0.05815423514538559<br>",
          "Concept 60<br><br>extent (len: 92): 2049, 2251, 4433, 880, 3589,...<br>intent (len: 2): poutcome=success, poutcome!=unknown<br>new extent (len: 1): 684<br>new_intent (len: 1): poutcome=success<br>metric accuracy = 0.89<br>metric precision = 0.89<br>metric recall = 1.0<br>metric neg_precision = 0.0<br>metric neg_recall = 0.0<br>metric f1_score = 0.94<br>metric y_pred_mean = 1.0<br>metric y_true_mean = 0.8913043478260869<br>metric stab_min_bound = 0.9999999848622538<br>metric stab_max_bound = 0.9999999850988388<br>metric log_stab_min_bound = 25.977274338105417<br>metric log_stab_max_bound = 26.0<br>metric lstab_min_bound = 13.0<br>metric strongness = 0.7131782945736435<br>",
          "Concept 78<br><br>extent (len: 55): 412, 1915, 2499, 1899, 3978,...<br>intent (len: 3): balance>=1000, education=tertiary, day>=10<br>new extent (len: 55): 412, 1915, 2499, 1899, 4083,...<br>new_intent (len: 0): ∅<br>metric accuracy = 0.87<br>metric precision = 0.87<br>metric recall = 1.0<br>metric neg_precision = 0.0<br>metric neg_recall = 0.0<br>metric f1_score = 0.93<br>metric y_pred_mean = 1.0<br>metric y_true_mean = 0.8727272727272727<br>metric stab_min_bound = 0.9999999968422202<br>metric stab_max_bound = 0.9999999981373549<br>metric log_stab_min_bound = 28.238442275026923<br>metric log_stab_max_bound = 29.0<br>metric lstab_min_bound = 16.0<br>metric strongness = 0.15406162464985995<br>",
          "Concept 165<br><br>extent (len: 48): 1904, 412, 1915, 1181, 619,...<br>intent (len: 3): day>=10, duration<300, poutcome!=unknown<br>new extent (len: 48): 1904, 412, 1915, 1181, 619,...<br>new_intent (len: 0): ∅<br>metric accuracy = 0.94<br>metric precision = 0.94<br>metric recall = 1.0<br>metric neg_precision = 0.0<br>metric neg_recall = 0.0<br>metric f1_score = 0.97<br>metric y_pred_mean = 1.0<br>metric y_true_mean = 0.9375<br>metric stab_min_bound = 0.9999939202680252<br>metric stab_max_bound = 0.9999980926513672<br>metric log_stab_min_bound = 17.327560845527216<br>metric log_stab_max_bound = 19.0<br>metric lstab_min_bound = 6.0<br>metric strongness = 0.12<br>",
          "Concept 174<br><br>extent (len: 41): 412, 1085, 53, 80, 2665,...<br>intent (len: 3): housing=True, campaign<2, day>=10<br>new extent (len: 41): 412, 1085, 53, 4328, 2665,...<br>new_intent (len: 0): ∅<br>metric accuracy = 1.0<br>metric precision = 1.0<br>metric recall = 1.0<br>metric neg_precision = 0.0<br>metric neg_recall = 0.0<br>metric f1_score = 1.0<br>metric y_pred_mean = 1.0<br>metric y_true_mean = 1.0<br>metric stab_min_bound = 0.9999908502213657<br>metric stab_max_bound = 0.9999961853027344<br>metric log_stab_min_bound = 16.73783172942987<br>metric log_stab_max_bound = 18.0<br>metric lstab_min_bound = 5.0<br>metric strongness = 0.060294117647058824<br>",
          "Concept 58<br><br>extent (len: 66): 1709, 2837, 1085, 53, 189,...<br>intent (len: 2): housing=True, marital=married<br>new extent (len: 18): 2962, 38, 2655, 886, 2143,...<br>new_intent (len: 0): ∅<br>metric accuracy = 0.95<br>metric precision = 0.95<br>metric recall = 1.0<br>metric neg_precision = 0.0<br>metric neg_recall = 0.0<br>metric f1_score = 0.98<br>metric y_pred_mean = 1.0<br>metric y_true_mean = 0.9545454545454546<br>metric stab_min_bound = 0.9999961823335743<br>metric stab_max_bound = 0.9999961853027344<br>metric log_stab_min_bound = 17.998877518724544<br>metric log_stab_max_bound = 18.0<br>metric lstab_min_bound = 5.0<br>metric strongness = 0.04266321913380737<br>",
          "Concept 82<br><br>extent (len: 44): 412, 2372, 53, 517, 1994,...<br>intent (len: 3): balance>=1000, housing=True, day>=10<br>new extent (len: 17): 412, 3301, 1704, 49, 53,...<br>new_intent (len: 0): ∅<br>metric accuracy = 0.95<br>metric precision = 0.95<br>metric recall = 1.0<br>metric neg_precision = 0.0<br>metric neg_recall = 0.0<br>metric f1_score = 0.98<br>metric y_pred_mean = 1.0<br>metric y_true_mean = 0.9545454545454546<br>metric stab_min_bound = 0.9999897476518527<br>metric stab_max_bound = 0.9999923706054688<br>metric log_stab_min_bound = 16.573686099092825<br>metric log_stab_max_bound = 17.0<br>metric lstab_min_bound = 4.0<br>metric strongness = 0.07394957983193277<br>",
          "Concept 107<br><br>extent (len: 75): 1914, 3614, 2033, 1085, 1899,...<br>intent (len: 3): duration>=900, duration>=600, day>=10<br>new extent (len: 17): 1914, 2375, 1459, 2985, 509,...<br>new_intent (len: 0): ∅<br>metric accuracy = 0.87<br>metric precision = 0.87<br>metric recall = 1.0<br>metric neg_precision = 0.0<br>metric neg_recall = 0.0<br>metric f1_score = 0.93<br>metric y_pred_mean = 1.0<br>metric y_true_mean = 0.8666666666666667<br>metric stab_min_bound = 0.9999999999708675<br>metric stab_max_bound = 0.9999999999854481<br>metric log_stab_min_bound = 34.998580809497874<br>metric log_stab_max_bound = 36.0<br>metric lstab_min_bound = 23.0<br>metric strongness = 0.6521739130434783<br>",
          "Concept 53<br><br>extent (len: 81): 2049, 3589, 3331, 3239, 1826,...<br>intent (len: 2): balance>=1000, marital=married<br>new extent (len: 4): 323, 38, 4215, 2143<br>new_intent (len: 0): ∅<br>metric accuracy = 0.91<br>metric precision = 0.91<br>metric recall = 1.0<br>metric neg_precision = 0.0<br>metric neg_recall = 0.0<br>metric f1_score = 0.95<br>metric y_pred_mean = 1.0<br>metric y_true_mean = 0.9135802469135802<br>metric stab_min_bound = 0.9999995194193305<br>metric stab_max_bound = 0.9999995231628418<br>metric log_stab_min_bound = 20.988718044465177<br>metric log_stab_max_bound = 21.0<br>metric lstab_min_bound = 8.0<br>metric strongness = 0.09060402684563758<br>",
          "Concept 118<br><br>extent (len: 75): 2826, 1085, 233, 630, 517,...<br>intent (len: 3): housing=True, duration>=600, day>=10<br>new extent (len: 22): 233, 80, 4263, 1886, 3843,...<br>new_intent (len: 0): ∅<br>metric accuracy = 0.93<br>metric precision = 0.93<br>metric recall = 1.0<br>metric neg_precision = 0.0<br>metric neg_recall = 0.0<br>metric f1_score = 0.97<br>metric y_pred_mean = 1.0<br>metric y_true_mean = 0.9333333333333333<br>metric stab_min_bound = 0.9999999999853587<br>metric stab_max_bound = 0.9999999999854481<br>metric log_stab_min_bound = 35.99116655217406<br>metric log_stab_max_bound = 36.0<br>metric lstab_min_bound = 23.0<br>metric strongness = 0.39893617021276595<br>",
          "Concept 73<br><br>extent (len: 58): 412, 1915, 4160, 1899, 4083,...<br>intent (len: 3): balance>=1000, campaign<2, day>=10<br>new extent (len: 19): 1899, 4217, 2697, 1113, 3881,...<br>new_intent (len: 0): ∅<br>metric accuracy = 0.91<br>metric precision = 0.91<br>metric recall = 1.0<br>metric neg_precision = 0.0<br>metric neg_recall = 0.0<br>metric f1_score = 0.95<br>metric y_pred_mean = 1.0<br>metric y_true_mean = 0.9137931034482759<br>metric stab_min_bound = 0.9999976063772351<br>metric stab_max_bound = 0.9999980926513672<br>metric log_stab_min_bound = 18.67237276796744<br>metric log_stab_max_bound = 19.0<br>metric lstab_min_bound = 6.0<br>metric strongness = 0.13842482100238662<br>",
          "Concept 61<br><br>extent (len: 87): 4337, 2049, 3930, 4433, 3331,...<br>intent (len: 2): age>=40, poutcome!=unknown<br>new extent (len: 3): 4447, 1729, 2917<br>new_intent (len: 0): ∅<br>metric accuracy = 0.92<br>metric precision = 0.92<br>metric recall = 1.0<br>metric neg_precision = 0.0<br>metric neg_recall = 0.0<br>metric f1_score = 0.96<br>metric y_pred_mean = 1.0<br>metric y_true_mean = 0.9195402298850575<br>metric stab_min_bound = 0.9999961701646497<br>metric stab_max_bound = 0.9999961853027344<br>metric log_stab_min_bound = 17.99428619921366<br>metric log_stab_max_bound = 18.0<br>metric lstab_min_bound = 5.0<br>metric strongness = 0.22538860103626943<br>",
          "Concept 56<br><br>extent (len: 123): 2748, 4337, 2049, 4263, 3160,...<br>intent (len: 2): day>=10, marital=married<br>new extent (len: 0): ∅<br>new_intent (len: 0): ∅<br>metric accuracy = 0.89<br>metric precision = 0.89<br>metric recall = 1.0<br>metric neg_precision = 0.0<br>metric neg_recall = 0.0<br>metric f1_score = 0.94<br>metric y_pred_mean = 1.0<br>metric y_true_mean = 0.8943089430894309<br>metric stab_min_bound = 0.9999999999999716<br>metric stab_max_bound = 0.9999999999999716<br>metric log_stab_min_bound = 45.0<br>metric log_stab_max_bound = 45.0<br>metric lstab_min_bound = 32.0<br>metric strongness = 0.06456692913385827<br>",
          "Concept 44<br><br>extent (len: 58): 412, 3614, 1899, 4083, 1060,...<br>intent (len: 2): education=tertiary, age>=40<br>new extent (len: 14): 477, 2962, 1142, 634, 1060,...<br>new_intent (len: 0): ∅<br>metric accuracy = 0.86<br>metric precision = 0.86<br>metric recall = 1.0<br>metric neg_precision = 0.0<br>metric neg_recall = 0.0<br>metric f1_score = 0.93<br>metric y_pred_mean = 1.0<br>metric y_true_mean = 0.8620689655172413<br>metric stab_min_bound = 0.9999384784291561<br>metric stab_max_bound = 0.99993896484375<br>metric log_stab_min_bound = 13.988548134013785<br>metric log_stab_max_bound = 14.0<br>metric lstab_min_bound = 1.0<br>metric strongness = 0.10681399631675875<br>",
          "Concept 71<br><br>extent (len: 53): 412, 4160, 1899, 4083, 4388,...<br>intent (len: 3): balance>=1000, campaign<2, age>=40<br>new extent (len: 53): 412, 4160, 1899, 4083, 3978,...<br>new_intent (len: 0): ∅<br>metric accuracy = 0.92<br>metric precision = 0.92<br>metric recall = 1.0<br>metric neg_precision = 0.0<br>metric neg_recall = 0.0<br>metric f1_score = 0.96<br>metric y_pred_mean = 1.0<br>metric y_true_mean = 0.9245283018867925<br>metric stab_min_bound = 0.9999836643964954<br>metric stab_max_bound = 0.9999847412109375<br>metric log_stab_min_bound = 15.901620719572081<br>metric log_stab_max_bound = 16.0<br>metric lstab_min_bound = 3.0<br>metric strongness = 0.1760797342192691<br>",
          "Concept 54<br><br>extent (len: 86): 4337, 2049, 2251, 3160, 4089,...<br>intent (len: 2): campaign<2, marital=married<br>new extent (len: 7): 3160, 1085, 4217, 3367, 2750,...<br>new_intent (len: 0): ∅<br>metric accuracy = 0.92<br>metric precision = 0.92<br>metric recall = 1.0<br>metric neg_precision = 0.0<br>metric neg_recall = 0.0<br>metric f1_score = 0.96<br>metric y_pred_mean = 1.0<br>metric y_true_mean = 0.9186046511627907<br>metric stab_min_bound = 0.9999997573903555<br>metric stab_max_bound = 0.9999997615814209<br>metric log_stab_min_bound = 21.974859761014482<br>metric log_stab_max_bound = 22.0<br>metric lstab_min_bound = 9.0<br>metric strongness = 0.08557213930348259<br>",
          "Concept 70<br><br>extent (len: 67): 412, 4160, 1672, 1899, 2372,...<br>intent (len: 3): balance>=1000, age>=40, day>=10<br>new extent (len: 67): 412, 4160, 1899, 1672, 2372,...<br>new_intent (len: 0): ∅<br>metric accuracy = 0.91<br>metric precision = 0.91<br>metric recall = 1.0<br>metric neg_precision = 0.0<br>metric neg_recall = 0.0<br>metric f1_score = 0.95<br>metric y_pred_mean = 1.0<br>metric y_true_mean = 0.9104477611940298<br>metric stab_min_bound = 0.99999999848478<br>metric stab_max_bound = 0.9999999990686774<br>metric log_stab_min_bound = 29.29782562330066<br>metric log_stab_max_bound = 30.0<br>metric lstab_min_bound = 17.0<br>metric strongness = 0.11631944444444445<br>",
          "Concept 91<br><br>extent (len: 66): 3614, 2033, 1899, 233, 2106,...<br>intent (len: 3): duration>=600, age>=40, day>=10<br>new extent (len: 27): 2372, 233, 1349, 3889, 1994,...<br>new_intent (len: 0): ∅<br>metric accuracy = 0.89<br>metric precision = 0.89<br>metric recall = 1.0<br>metric neg_precision = 0.0<br>metric neg_recall = 0.0<br>metric f1_score = 0.94<br>metric y_pred_mean = 1.0<br>metric y_true_mean = 0.8939393939393939<br>metric stab_min_bound = 0.9999999925051879<br>metric stab_max_bound = 0.9999999925494194<br>metric log_stab_min_bound = 26.991460543876705<br>metric log_stab_max_bound = 27.0<br>metric lstab_min_bound = 14.0<br>metric strongness = 0.42038216560509556<br>",
          "Concept 100<br><br>extent (len: 41): 1899, 1085, 2106, 1349, 3690,...<br>intent (len: 3): campaign<2, duration>=600, day>=10<br>new extent (len: 41): 1899, 1085, 2106, 1349, 3889,...<br>new_intent (len: 0): ∅<br>metric accuracy = 0.95<br>metric precision = 0.95<br>metric recall = 1.0<br>metric neg_precision = 0.0<br>metric neg_recall = 0.0<br>metric f1_score = 0.98<br>metric y_pred_mean = 1.0<br>metric y_true_mean = 0.9512195121951219<br>metric stab_min_bound = 0.9999951752834022<br>metric stab_max_bound = 0.9999961853027344<br>metric log_stab_min_bound = 17.661124367868435<br>metric log_stab_max_bound = 18.0<br>metric lstab_min_bound = 5.0<br>metric strongness = 0.35964912280701755<br>",
          "Concept 67<br><br>extent (len: 62): 412, 2837, 2372, 233, 53,...<br>intent (len: 2): housing=True, poutcome!=unknown<br>new extent (len: 17): 38, 3141, 2143, 4447, 3331,...<br>new_intent (len: 0): ∅<br>metric accuracy = 0.95<br>metric precision = 0.95<br>metric recall = 1.0<br>metric neg_precision = 0.0<br>metric neg_recall = 0.0<br>metric f1_score = 0.98<br>metric y_pred_mean = 1.0<br>metric y_true_mean = 0.9516129032258065<br>metric stab_min_bound = 0.9999923639086319<br>metric stab_max_bound = 0.9999923706054688<br>metric log_stab_min_bound = 16.998734204202194<br>metric log_stab_max_bound = 17.0<br>metric lstab_min_bound = 4.0<br>metric strongness = 0.12109375<br>",
          "Concept 63<br><br>extent (len: 93): 1915, 4337, 2049, 3527, 3930,...<br>intent (len: 2): campaign<2, poutcome!=unknown<br>new extent (len: 3): 1729, 1698, 3141<br>new_intent (len: 0): ∅<br>metric accuracy = 0.94<br>metric precision = 0.94<br>metric recall = 1.0<br>metric neg_precision = 0.0<br>metric neg_recall = 0.0<br>metric f1_score = 0.97<br>metric y_pred_mean = 1.0<br>metric y_true_mean = 0.9354838709677419<br>metric stab_min_bound = 0.9999997615722691<br>metric stab_max_bound = 0.9999997615814209<br>metric log_stab_min_bound = 21.999944622649256<br>metric log_stab_max_bound = 22.0<br>metric lstab_min_bound = 9.0<br>metric strongness = 0.21933962264150944<br>",
          "Concept 57<br><br>extent (len: 64): 2499, 4083, 53, 1060, 3789,...<br>intent (len: 2): education=tertiary, marital=married<br>new extent (len: 18): 477, 2962, 2143, 1060, 1206,...<br>new_intent (len: 0): ∅<br>metric accuracy = 0.86<br>metric precision = 0.86<br>metric recall = 1.0<br>metric neg_precision = 0.0<br>metric neg_recall = 0.0<br>metric f1_score = 0.92<br>metric y_pred_mean = 1.0<br>metric y_true_mean = 0.859375<br>metric stab_min_bound = 0.9999961841270988<br>metric stab_max_bound = 0.9999961853027344<br>metric log_stab_min_bound = 17.999555450350286<br>metric log_stab_max_bound = 18.0<br>metric lstab_min_bound = 5.0<br>metric strongness = 0.09315866084425037<br>",
          "Concept 124<br><br>extent (len: 51): 2837, 1085, 2106, 517, 1349,...<br>intent (len: 3): day>=10, duration>=600, marital=married<br>new extent (len: 51): 2837, 1085, 2106, 328, 517,...<br>new_intent (len: 0): ∅<br>metric accuracy = 0.9<br>metric precision = 0.9<br>metric recall = 1.0<br>metric neg_precision = 0.0<br>metric neg_recall = 0.0<br>metric f1_score = 0.95<br>metric y_pred_mean = 1.0<br>metric y_true_mean = 0.9019607843137255<br>metric stab_min_bound = 0.999998569342992<br>metric stab_max_bound = 0.9999995231628418<br>metric log_stab_min_bound = 19.414890733883695<br>metric log_stab_max_bound = 21.0<br>metric lstab_min_bound = 8.0<br>metric strongness = 0.2833333333333333<br>",
          "Concept 89<br><br>extent (len: 43): 412, 1915, 1899, 4083, 53,...<br>intent (len: 3): education=tertiary, campaign<2, day>=10<br>new extent (len: 43): 412, 1915, 1899, 4083, 53,...<br>new_intent (len: 0): ∅<br>metric accuracy = 0.84<br>metric precision = 0.84<br>metric recall = 1.0<br>metric neg_precision = 0.0<br>metric neg_recall = 0.0<br>metric f1_score = 0.91<br>metric y_pred_mean = 1.0<br>metric y_true_mean = 0.8372093023255814<br>metric stab_min_bound = 0.9999922010974842<br>metric stab_max_bound = 0.9999961853027344<br>metric log_stab_min_bound = 16.968297451302<br>metric log_stab_max_bound = 18.0<br>metric lstab_min_bound = 5.0<br>metric strongness = 0.13190184049079753<br>",
          "Concept 59<br><br>extent (len: 95): 4337, 2049, 2251, 4433, 4089,...<br>intent (len: 2): poutcome!=unknown, marital=married<br>new extent (len: 2): 2332, 2143<br>new_intent (len: 0): ∅<br>metric accuracy = 0.93<br>metric precision = 0.93<br>metric recall = 1.0<br>metric neg_precision = 0.0<br>metric neg_recall = 0.0<br>metric f1_score = 0.96<br>metric y_pred_mean = 1.0<br>metric y_true_mean = 0.9263157894736842<br>metric stab_min_bound = 0.9999999924611975<br>metric stab_max_bound = 0.9999999925494194<br>metric log_stab_min_bound = 26.983017482496297<br>metric log_stab_max_bound = 27.0<br>metric lstab_min_bound = 14.0<br>metric strongness = 0.19427402862985685<br>",
          "Concept 95<br><br>extent (len: 46): 1899, 2372, 517, 2633, 3889,...<br>intent (len: 3): balance>=1000, duration>=600, day>=10<br>new extent (len: 19): 1899, 2633, 3889, 2140, 1611,...<br>new_intent (len: 0): ∅<br>metric accuracy = 0.96<br>metric precision = 0.96<br>metric recall = 1.0<br>metric neg_precision = 0.0<br>metric neg_recall = 0.0<br>metric f1_score = 0.98<br>metric y_pred_mean = 1.0<br>metric y_true_mean = 0.9565217391304348<br>metric stab_min_bound = 0.9999975773898768<br>metric stab_max_bound = 0.9999980926513672<br>metric log_stab_min_bound = 18.655006322445796<br>metric log_stab_max_bound = 19.0<br>metric lstab_min_bound = 6.0<br>metric strongness = 0.41818181818181815<br>",
          "Concept 65<br><br>extent (len: 124): 1904, 1915, 4337, 2049, 3527,...<br>intent (len: 2): day>=10, poutcome!=unknown<br>new extent (len: 0): ∅<br>new_intent (len: 0): ∅<br>metric accuracy = 0.93<br>metric precision = 0.93<br>metric recall = 1.0<br>metric neg_precision = 0.0<br>metric neg_recall = 0.0<br>metric f1_score = 0.96<br>metric y_pred_mean = 1.0<br>metric y_true_mean = 0.9274193548387096<br>metric stab_min_bound = 0.9999999999999999<br>metric stab_max_bound = 0.9999999999999999<br>metric log_stab_min_bound = 53.0<br>metric log_stab_max_bound = 53.0<br>metric lstab_min_bound = 40.0<br>metric strongness = 0.21869488536155202<br>",
          "Concept 47<br><br>extent (len: 67): 412, 1709, 2837, 2372, 233,...<br>intent (len: 2): housing=True, age>=40<br>new extent (len: 17): 2962, 1454, 2655, 886, 1917,...<br>new_intent (len: 0): ∅<br>metric accuracy = 0.96<br>metric precision = 0.96<br>metric recall = 1.0<br>metric neg_precision = 0.0<br>metric neg_recall = 0.0<br>metric f1_score = 0.98<br>metric y_pred_mean = 1.0<br>metric y_true_mean = 0.9552238805970149<br>metric stab_min_bound = 0.9999923658288004<br>metric stab_max_bound = 0.9999923706054688<br>metric log_stab_min_bound = 16.999097029337616<br>metric log_stab_max_bound = 17.0<br>metric lstab_min_bound = 4.0<br>metric strongness = 0.0614115490375802<br>",
          "Concept 48<br><br>extent (len: 55): 412, 1085, 53, 80, 2665,...<br>intent (len: 2): housing=True, campaign<2<br>new extent (len: 14): 2962, 38, 3141, 1917, 756,...<br>new_intent (len: 0): ∅<br>metric accuracy = 1.0<br>metric precision = 1.0<br>metric recall = 1.0<br>metric neg_precision = 0.0<br>metric neg_recall = 0.0<br>metric f1_score = 1.0<br>metric y_pred_mean = 1.0<br>metric y_true_mean = 1.0<br>metric stab_min_bound = 0.9999388260330306<br>metric stab_max_bound = 0.99993896484375<br>metric log_stab_min_bound = 13.996722640384048<br>metric log_stab_max_bound = 14.0<br>metric lstab_min_bound = 1.0<br>metric strongness = 0.055780933062880324<br>",
          "Concept 43<br><br>extent (len: 64): 1904, 412, 1915, 1181, 619,...<br>intent (len: 2): duration<300, poutcome!=unknown<br>new extent (len: 2): 1698, 2143<br>new_intent (len: 0): ∅<br>metric accuracy = 0.94<br>metric precision = 0.94<br>metric recall = 1.0<br>metric neg_precision = 0.0<br>metric neg_recall = 0.0<br>metric f1_score = 0.97<br>metric y_pred_mean = 1.0<br>metric y_true_mean = 0.9375<br>metric stab_min_bound = 0.9999842265969505<br>metric stab_max_bound = 0.9999847412109375<br>metric log_stab_min_bound = 15.952146524964043<br>metric log_stab_max_bound = 16.0<br>metric lstab_min_bound = 3.0<br>metric strongness = 0.11247803163444639<br>",
          "Concept 50<br><br>extent (len: 107): 2748, 80, 295, 4263, 3527,...<br>intent (len: 2): housing=True, day>=10<br>new extent (len: 0): ∅<br>new_intent (len: 0): ∅<br>metric accuracy = 0.94<br>metric precision = 0.94<br>metric recall = 1.0<br>metric neg_precision = 0.0<br>metric neg_recall = 0.0<br>metric f1_score = 0.97<br>metric y_pred_mean = 1.0<br>metric y_true_mean = 0.9439252336448598<br>metric stab_min_bound = 0.9999999997671694<br>metric stab_max_bound = 0.9999999997671694<br>metric log_stab_min_bound = 32.0<br>metric log_stab_max_bound = 32.0<br>metric lstab_min_bound = 19.0<br>metric strongness = 0.06083001705514497<br>",
          "Concept 62<br><br>extent (len: 76): 412, 1915, 4160, 2372, 1181,...<br>intent (len: 2): balance>=1000, poutcome!=unknown<br>new extent (len: 18): 477, 1312, 38, 2143, 1056,...<br>new_intent (len: 0): ∅<br>metric accuracy = 0.95<br>metric precision = 0.95<br>metric recall = 1.0<br>metric neg_precision = 0.0<br>metric neg_recall = 0.0<br>metric f1_score = 0.97<br>metric y_pred_mean = 1.0<br>metric y_true_mean = 0.9473684210526315<br>metric stab_min_bound = 0.9999961763951326<br>metric stab_max_bound = 0.9999961853027344<br>metric log_stab_min_bound = 17.99663512689136<br>metric log_stab_max_bound = 18.0<br>metric lstab_min_bound = 5.0<br>metric strongness = 0.2550335570469799<br>",
          "Concept 36<br><br>extent (len: 56): 412, 1915, 4388, 1181, 4392,...<br>intent (len: 2): balance>=1000, duration<300<br>new extent (len: 56): 412, 1915, 3978, 1181, 4392,...<br>new_intent (len: 0): ∅<br>metric accuracy = 0.89<br>metric precision = 0.89<br>metric recall = 1.0<br>metric neg_precision = 0.0<br>metric neg_recall = 0.0<br>metric f1_score = 0.94<br>metric y_pred_mean = 1.0<br>metric y_true_mean = 0.8928571428571429<br>metric stab_min_bound = 0.9999589910712245<br>metric stab_max_bound = 0.999969482421875<br>metric log_stab_min_bound = 14.573702415983199<br>metric log_stab_max_bound = 15.0<br>metric lstab_min_bound = 2.0<br>metric strongness = 0.056112224448897796<br>",
          "Concept 10<br><br>extent (len: 181): 2748, 4337, 2049, 4263, 2251,...<br>intent (len: 1): marital=married<br>new extent (len: 1): 1872<br>new_intent (len: 1): marital=married<br>metric accuracy = 0.91<br>metric precision = 0.91<br>metric recall = 1.0<br>metric neg_precision = 0.0<br>metric neg_recall = 0.0<br>metric f1_score = 0.95<br>metric y_pred_mean = 1.0<br>metric y_true_mean = 0.9060773480662984<br>metric stab_min_bound = 1.0<br>metric stab_max_bound = 1.0<br>metric log_stab_min_bound = inf<br>metric log_stab_max_bound = inf<br>metric lstab_min_bound = 45.0<br>metric strongness = 0.06766355140186917<br>",
          "Concept 2<br><br>extent (len: 161): 1915, 1672, 4388, 2049, 3527,...<br>intent (len: 1): balance>=1000<br>new extent (len: 0): ∅<br>new_intent (len: 1): balance>=1000<br>metric accuracy = 0.91<br>metric precision = 0.91<br>metric recall = 1.0<br>metric neg_precision = 0.0<br>metric neg_recall = 0.0<br>metric f1_score = 0.95<br>metric y_pred_mean = 1.0<br>metric y_true_mean = 0.9130434782608695<br>metric stab_min_bound = 0.9999999999998863<br>metric stab_max_bound = 0.9999999999998863<br>metric log_stab_min_bound = 43.0<br>metric log_stab_max_bound = 43.0<br>metric lstab_min_bound = 30.0<br>metric strongness = 0.11282410651716888<br>",
          "Concept 6<br><br>extent (len: 175): 2748, 80, 295, 1638, 4263,...<br>intent (len: 1): duration>=600<br>new extent (len: 2): 1269, 2073<br>new_intent (len: 1): duration>=600<br>metric accuracy = 0.9<br>metric precision = 0.9<br>metric recall = 1.0<br>metric neg_precision = 0.0<br>metric neg_recall = 0.0<br>metric f1_score = 0.95<br>metric y_pred_mean = 1.0<br>metric y_true_mean = 0.9028571428571428<br>metric stab_min_bound = 0.9999999999854481<br>metric stab_max_bound = 0.9999999999854481<br>metric log_stab_min_bound = 36.0<br>metric log_stab_max_bound = 36.0<br>metric lstab_min_bound = 23.0<br>metric strongness = 0.4156769596199525<br>",
          "Concept 42<br><br>extent (len: 54): 1709, 1181, 4392, 619, 3027,...<br>intent (len: 2): duration<300, marital=married<br>new extent (len: 54): 1709, 1181, 4392, 619, 3027,...<br>new_intent (len: 0): ∅<br>metric accuracy = 0.93<br>metric precision = 0.93<br>metric recall = 1.0<br>metric neg_precision = 0.0<br>metric neg_recall = 0.0<br>metric f1_score = 0.96<br>metric y_pred_mean = 1.0<br>metric y_true_mean = 0.9259259259259259<br>metric stab_min_bound = 0.9999709092043076<br>metric stab_max_bound = 0.9999847412109375<br>metric log_stab_min_bound = 15.069077716818983<br>metric log_stab_max_bound = 16.0<br>metric lstab_min_bound = 3.0<br>metric strongness = 0.027921406411582212<br>",
          "Concept 52<br><br>extent (len: 121): 2748, 4337, 2049, 4433, 3331,...<br>intent (len: 2): age>=40, marital=married<br>new extent (len: 1): 4300<br>new_intent (len: 0): ∅<br>metric accuracy = 0.9<br>metric precision = 0.9<br>metric recall = 1.0<br>metric neg_precision = 0.0<br>metric neg_recall = 0.0<br>metric f1_score = 0.95<br>metric y_pred_mean = 1.0<br>metric y_true_mean = 0.9008264462809917<br>metric stab_min_bound = 0.9999999999998863<br>metric stab_max_bound = 0.9999999999998863<br>metric log_stab_min_bound = 43.0<br>metric log_stab_max_bound = 43.0<br>metric lstab_min_bound = 30.0<br>metric strongness = 0.07590966122961104<br>",
          "Concept 0<br><br>extent (len: 374): 295, 662, 3160, 3658, 3589,...<br>intent (len: 0): ∅<br>new extent (len: 1): 975<br>new_intent (len: 0): ∅<br>metric accuracy = 0.9<br>metric precision = 0.9<br>metric recall = 1.0<br>metric neg_precision = 0.0<br>metric neg_recall = 0.0<br>metric f1_score = 0.95<br>metric y_pred_mean = 1.0<br>metric y_true_mean = 0.9010695187165776<br>metric stab_min_bound = 1.0<br>metric stab_max_bound = 1.0<br>metric log_stab_min_bound = inf<br>metric log_stab_max_bound = inf<br>metric lstab_min_bound = 79.0<br>metric strongness = 0.08615526376410965<br>",
          "Concept 7<br><br>extent (len: 95): 1904, 1915, 4388, 662, 3527,...<br>intent (len: 1): duration<300<br>new extent (len: 1): 662<br>new_intent (len: 1): duration<300<br>metric accuracy = 0.91<br>metric precision = 0.91<br>metric recall = 1.0<br>metric neg_precision = 0.0<br>metric neg_recall = 0.0<br>metric f1_score = 0.95<br>metric y_pred_mean = 1.0<br>metric y_true_mean = 0.9052631578947369<br>metric stab_min_bound = 0.9999999398982844<br>metric stab_max_bound = 0.9999999403953552<br>metric log_stab_min_bound = 23.988018585824058<br>metric log_stab_max_bound = 24.0<br>metric lstab_min_bound = 11.0<br>metric strongness = 0.030734390164995146<br>",
          "Concept 33<br><br>extent (len: 70): 2837, 1085, 2106, 517, 1349,...<br>intent (len: 2): duration>=600, marital=married<br>new extent (len: 3): 2202, 1342, 38<br>new_intent (len: 0): ∅<br>metric accuracy = 0.91<br>metric precision = 0.91<br>metric recall = 1.0<br>metric neg_precision = 0.0<br>metric neg_recall = 0.0<br>metric f1_score = 0.96<br>metric y_pred_mean = 1.0<br>metric y_true_mean = 0.9142857142857143<br>metric stab_min_bound = 0.9999980328138678<br>metric stab_max_bound = 0.9999980926513672<br>metric log_stab_min_bound = 18.955435099600322<br>metric log_stab_max_bound = 19.0<br>metric lstab_min_bound = 6.0<br>metric strongness = 0.2916666666666667<br>",
          "Concept 4<br><br>extent (len: 68): 2499, 4160, 4328, 1349, 1889,...<br>intent (len: 1): contact!=cellular<br>new extent (len: 2): 2202, 1269<br>new_intent (len: 1): contact!=cellular<br>metric accuracy = 0.94<br>metric precision = 0.94<br>metric recall = 1.0<br>metric neg_precision = 0.0<br>metric neg_recall = 0.0<br>metric f1_score = 0.97<br>metric y_pred_mean = 1.0<br>metric y_true_mean = 0.9411764705882353<br>metric stab_min_bound = 0.9999923367138226<br>metric stab_max_bound = 0.9999923706054688<br>metric log_stab_min_bound = 16.99360538667885<br>metric log_stab_max_bound = 17.0<br>metric lstab_min_bound = 4.0<br>metric strongness = 0.0437862202189311<br>",
          "Concept 29<br><br>extent (len: 139): 2748, 80, 295, 1638, 4263,...<br>intent (len: 2): duration>=600, day>=10<br>new extent (len: 0): ∅<br>new_intent (len: 0): ∅<br>metric accuracy = 0.9<br>metric precision = 0.9<br>metric recall = 1.0<br>metric neg_precision = 0.0<br>metric neg_recall = 0.0<br>metric f1_score = 0.95<br>metric y_pred_mean = 1.0<br>metric y_true_mean = 0.8992805755395683<br>metric stab_min_bound = 1.0<br>metric stab_max_bound = 1.0<br>metric log_stab_min_bound = inf<br>metric log_stab_max_bound = inf<br>metric lstab_min_bound = 51.0<br>metric strongness = 0.439873417721519<br>",
          "Concept 11<br><br>extent (len: 163): 1904, 1915, 4337, 2049, 3527,...<br>intent (len: 1): poutcome!=unknown<br>new extent (len: 0): ∅<br>new_intent (len: 1): poutcome!=unknown<br>metric accuracy = 0.93<br>metric precision = 0.93<br>metric recall = 1.0<br>metric neg_precision = 0.0<br>metric neg_recall = 0.0<br>metric f1_score = 0.97<br>metric y_pred_mean = 1.0<br>metric y_true_mean = 0.9325153374233128<br>metric stab_min_bound = 0.999999999998181<br>metric stab_max_bound = 0.999999999998181<br>metric log_stab_min_bound = 39.0<br>metric log_stab_max_bound = 39.0<br>metric lstab_min_bound = 26.0<br>metric strongness = 0.20073891625615764<br>",
          "Concept 20<br><br>extent (len: 102): 4388, 4337, 2049, 3930, 4433,...<br>intent (len: 2): campaign<2, age>=40<br>new extent (len: 2): 4327, 1142<br>new_intent (len: 0): ∅<br>metric accuracy = 0.92<br>metric precision = 0.92<br>metric recall = 1.0<br>metric neg_precision = 0.0<br>metric neg_recall = 0.0<br>metric f1_score = 0.96<br>metric y_pred_mean = 1.0<br>metric y_true_mean = 0.9215686274509803<br>metric stab_min_bound = 0.9999999962710628<br>metric stab_max_bound = 0.9999999962747097<br>metric log_stab_min_bound = 27.998588369314025<br>metric log_stab_max_bound = 28.0<br>metric lstab_min_bound = 15.0<br>metric strongness = 0.12561576354679804<br>",
          "Concept 8<br><br>extent (len: 144): 1904, 1915, 1638, 662, 4263,...<br>intent (len: 1): education=tertiary<br>new extent (len: 2): 3835, 662<br>new_intent (len: 1): education=tertiary<br>metric accuracy = 0.88<br>metric precision = 0.88<br>metric recall = 1.0<br>metric neg_precision = 0.0<br>metric neg_recall = 0.0<br>metric f1_score = 0.93<br>metric y_pred_mean = 1.0<br>metric y_true_mean = 0.875<br>metric stab_min_bound = 0.9999999981373549<br>metric stab_max_bound = 0.9999999981373549<br>metric log_stab_min_bound = 29.0<br>metric log_stab_max_bound = 29.0<br>metric lstab_min_bound = 16.0<br>metric strongness = 0.1122369446609509<br>",
          "Concept 25<br><br>extent (len: 92): 2748, 295, 2140, 4447, 2865,...<br>intent (len: 2): duration>=600, age>=40<br>new extent (len: 10): 1454, 4327, 634, 4447, 1440,...<br>new_intent (len: 0): ∅<br>metric accuracy = 0.9<br>metric precision = 0.9<br>metric recall = 1.0<br>metric neg_precision = 0.0<br>metric neg_recall = 0.0<br>metric f1_score = 0.95<br>metric y_pred_mean = 1.0<br>metric y_true_mean = 0.9021739130434783<br>metric stab_min_bound = 0.9999999850983697<br>metric stab_max_bound = 0.9999999850988388<br>metric log_stab_min_bound = 25.999954586546032<br>metric log_stab_max_bound = 26.0<br>metric lstab_min_bound = 13.0<br>metric strongness = 0.42790697674418604<br>",
          "Concept 5<br><br>extent (len: 282): 1904, 1915, 1672, 2748, 80,...<br>intent (len: 1): day>=10<br>new extent (len: 2): 115, 3917<br>new_intent (len: 1): day>=10<br>metric accuracy = 0.89<br>metric precision = 0.89<br>metric recall = 1.0<br>metric neg_precision = 0.0<br>metric neg_recall = 0.0<br>metric f1_score = 0.94<br>metric y_pred_mean = 1.0<br>metric y_true_mean = 0.8900709219858156<br>metric stab_min_bound = 1.0<br>metric stab_max_bound = 1.0<br>metric log_stab_min_bound = inf<br>metric log_stab_max_bound = inf<br>metric lstab_min_bound = 125.0<br>metric strongness = 0.09108527131782945<br>",
          "Concept 1<br><br>extent (len: 203): 1672, 4388, 2748, 295, 4337,...<br>intent (len: 1): age>=40<br>new extent (len: 0): ∅<br>new_intent (len: 1): age>=40<br>metric accuracy = 0.9<br>metric precision = 0.9<br>metric recall = 1.0<br>metric neg_precision = 0.0<br>metric neg_recall = 0.0<br>metric f1_score = 0.95<br>metric y_pred_mean = 1.0<br>metric y_true_mean = 0.9014778325123153<br>metric stab_min_bound = 1.0<br>metric stab_max_bound = 1.0<br>metric log_stab_min_bound = inf<br>metric log_stab_max_bound = inf<br>metric lstab_min_bound = 46.0<br>metric strongness = 0.09337626494940203<br>",
          "Concept 32<br><br>extent (len: 91): 2748, 80, 295, 4263, 3502,...<br>intent (len: 2): housing=True, duration>=600<br>new extent (len: 16): 1454, 38, 3141, 886, 4447,...<br>new_intent (len: 0): ∅<br>metric accuracy = 0.93<br>metric precision = 0.93<br>metric recall = 1.0<br>metric neg_precision = 0.0<br>metric neg_recall = 0.0<br>metric f1_score = 0.97<br>metric y_pred_mean = 1.0<br>metric y_true_mean = 0.9340659340659341<br>metric stab_min_bound = 0.9999847412108803<br>metric stab_max_bound = 0.9999847412109375<br>metric log_stab_min_bound = 15.99999999459405<br>metric log_stab_max_bound = 16.0<br>metric lstab_min_bound = 3.0<br>metric strongness = 0.3684210526315789<br>",
          "Concept 37<br><br>extent (len: 60): 412, 1915, 4388, 1181, 2665,...<br>intent (len: 2): duration<300, campaign<2<br>new extent (len: 14): 4388, 756, 741, 941, 4224,...<br>new_intent (len: 0): ∅<br>metric accuracy = 0.9<br>metric precision = 0.9<br>metric recall = 1.0<br>metric neg_precision = 0.0<br>metric neg_recall = 0.0<br>metric f1_score = 0.95<br>metric y_pred_mean = 1.0<br>metric y_true_mean = 0.9<br>metric stab_min_bound = 0.9999384507386786<br>metric stab_max_bound = 0.99993896484375<br>metric log_stab_min_bound = 13.987898932013733<br>metric log_stab_max_bound = 14.0<br>metric lstab_min_bound = 1.0<br>metric strongness = 0.05016722408026756<br>",
          "Concept 23<br><br>extent (len: 59): 412, 1915, 1899, 4083, 53,...<br>intent (len: 2): education=tertiary, campaign<2<br>new extent (len: 16): 477, 2962, 1142, 634, 1837,...<br>new_intent (len: 0): ∅<br>metric accuracy = 0.88<br>metric precision = 0.88<br>metric recall = 1.0<br>metric neg_precision = 0.0<br>metric neg_recall = 0.0<br>metric f1_score = 0.94<br>metric y_pred_mean = 1.0<br>metric y_true_mean = 0.8813559322033898<br>metric stab_min_bound = 0.9999846953122637<br>metric stab_max_bound = 0.9999847412109375<br>metric log_stab_min_bound = 15.995666864786445<br>metric log_stab_max_bound = 16.0<br>metric lstab_min_bound = 3.0<br>metric strongness = 0.12190082644628099<br>",
          "Concept 39<br><br>extent (len: 71): 1904, 412, 1915, 1709, 1181,...<br>intent (len: 2): duration<300, day>=10<br>new extent (len: 6): 4090, 1709, 2022, 503, 2018,...<br>new_intent (len: 0): ∅<br>metric accuracy = 0.89<br>metric precision = 0.89<br>metric recall = 1.0<br>metric neg_precision = 0.0<br>metric neg_recall = 0.0<br>metric f1_score = 0.94<br>metric y_pred_mean = 1.0<br>metric y_true_mean = 0.8873239436619719<br>metric stab_min_bound = 0.9999998498751663<br>metric stab_max_bound = 0.9999998807907104<br>metric log_stab_min_bound = 22.66733401665316<br>metric log_stab_max_bound = 23.0<br>metric lstab_min_bound = 10.0<br>metric strongness = 0.03219954648526077<br>",
          "Concept 22<br><br>extent (len: 124): 1915, 80, 1638, 4337, 2049,...<br>intent (len: 2): campaign<2, day>=10<br>new extent (len: 2): 1940, 3449<br>new_intent (len: 0): ∅<br>metric accuracy = 0.9<br>metric precision = 0.9<br>metric recall = 1.0<br>metric neg_precision = 0.0<br>metric neg_recall = 0.0<br>metric f1_score = 0.95<br>metric y_pred_mean = 1.0<br>metric y_true_mean = 0.9032258064516129<br>metric stab_min_bound = 0.999999999999999<br>metric stab_max_bound = 0.9999999999999991<br>metric log_stab_min_bound = 49.830074998557684<br>metric log_stab_max_bound = 50.0<br>metric lstab_min_bound = 37.0<br>metric strongness = 0.10973451327433628<br>",
          "Concept 19<br><br>extent (len: 58): 412, 2372, 53, 517, 1994,...<br>intent (len: 2): balance>=1000, housing=True<br>new extent (len: 14): 2962, 1454, 38, 2655, 2143,...<br>new_intent (len: 0): ∅<br>metric accuracy = 0.93<br>metric precision = 0.93<br>metric recall = 1.0<br>metric neg_precision = 0.0<br>metric neg_recall = 0.0<br>metric f1_score = 0.96<br>metric y_pred_mean = 1.0<br>metric y_true_mean = 0.9310344827586207<br>metric stab_min_bound = 0.9999386804406498<br>metric stab_max_bound = 0.99993896484375<br>metric log_stab_min_bound = 13.99329314478507<br>metric log_stab_max_bound = 14.0<br>metric lstab_min_bound = 1.0<br>metric strongness = 0.07397959183673469<br>",
          "Concept 17<br><br>extent (len: 118): 1915, 1672, 2049, 3527, 3930,...<br>intent (len: 2): balance>=1000, day>=10<br>new extent (len: 0): ∅<br>new_intent (len: 0): ∅<br>metric accuracy = 0.92<br>metric precision = 0.92<br>metric recall = 1.0<br>metric neg_precision = 0.0<br>metric neg_recall = 0.0<br>metric f1_score = 0.96<br>metric y_pred_mean = 1.0<br>metric y_true_mean = 0.9152542372881356<br>metric stab_min_bound = 0.9999999999999996<br>metric stab_max_bound = 0.9999999999999996<br>metric log_stab_min_bound = 51.0<br>metric log_stab_max_bound = 51.0<br>metric lstab_min_bound = 38.0<br>metric strongness = 0.1124880838894185<br>",
          "Concept 30<br><br>extent (len: 89): 2748, 295, 1638, 2140, 125,...<br>intent (len: 2): duration>=900, duration>=600<br>new extent (len: 14): 1454, 3141, 886, 4447, 1440,...<br>new_intent (len: 1): duration>=900<br>metric accuracy = 0.89<br>metric precision = 0.89<br>metric recall = 1.0<br>metric neg_precision = 0.0<br>metric neg_recall = 0.0<br>metric f1_score = 0.94<br>metric y_pred_mean = 1.0<br>metric y_true_mean = 0.8876404494382022<br>metric stab_min_bound = 0.9999389648398844<br>metric stab_max_bound = 0.99993896484375<br>metric log_stab_min_bound = 13.999999908628972<br>metric log_stab_max_bound = 14.0<br>metric lstab_min_bound = 1.0<br>metric strongness = 0.5933333333333334<br>",
          "Concept 18<br><br>extent (len: 70): 412, 1915, 2499, 1899, 3978,...<br>intent (len: 2): balance>=1000, education=tertiary<br>new extent (len: 15): 477, 2962, 634, 2143, 1060,...<br>new_intent (len: 0): ∅<br>metric accuracy = 0.89<br>metric precision = 0.89<br>metric recall = 1.0<br>metric neg_precision = 0.0<br>metric neg_recall = 0.0<br>metric f1_score = 0.94<br>metric y_pred_mean = 1.0<br>metric y_true_mean = 0.8857142857142857<br>metric stab_min_bound = 0.9999694822885203<br>metric stab_max_bound = 0.999969482421875<br>metric log_stab_min_bound = 14.999993695774728<br>metric log_stab_max_bound = 15.0<br>metric lstab_min_bound = 2.0<br>metric strongness = 0.1440329218106996<br>",
          "Concept 12<br><br>extent (len: 51): 4160, 1349, 1889, 3889, 3248,...<br>intent (len: 2): age>=40, contact!=cellular<br>new extent (len: 51): 4160, 1349, 1663, 4328, 3889,...<br>new_intent (len: 0): ∅<br>metric accuracy = 0.98<br>metric precision = 0.98<br>metric recall = 1.0<br>metric neg_precision = 0.0<br>metric neg_recall = 0.0<br>metric f1_score = 0.99<br>metric y_pred_mean = 1.0<br>metric y_true_mean = 0.9803921568627451<br>metric stab_min_bound = 0.9999988972374467<br>metric stab_max_bound = 0.9999995231628418<br>metric log_stab_min_bound = 19.790446385913196<br>metric log_stab_max_bound = 21.0<br>metric lstab_min_bound = 8.0<br>metric strongness = 0.060141509433962265<br>",
          "Concept 27<br><br>extent (len: 56): 1899, 1085, 2106, 1349, 3690,...<br>intent (len: 2): campaign<2, duration>=600<br>new extent (len: 15): 1312, 38, 4327, 3141, 634,...<br>new_intent (len: 0): ∅<br>metric accuracy = 0.95<br>metric precision = 0.95<br>metric recall = 1.0<br>metric neg_precision = 0.0<br>metric neg_recall = 0.0<br>metric f1_score = 0.97<br>metric y_pred_mean = 1.0<br>metric y_true_mean = 0.9464285714285714<br>metric stab_min_bound = 0.9999693619092795<br>metric stab_max_bound = 0.999969482421875<br>metric log_stab_min_bound = 14.994314079065298<br>metric log_stab_max_bound = 15.0<br>metric lstab_min_bound = 2.0<br>metric strongness = 0.35668789808917195<br>",
          "Concept 13<br><br>extent (len: 144): 1672, 2748, 295, 4337, 2049,...<br>intent (len: 2): age>=40, day>=10<br>new extent (len: 1): 4108<br>new_intent (len: 0): ∅<br>metric accuracy = 0.9<br>metric precision = 0.9<br>metric recall = 1.0<br>metric neg_precision = 0.0<br>metric neg_recall = 0.0<br>metric f1_score = 0.95<br>metric y_pred_mean = 1.0<br>metric y_true_mean = 0.8958333333333334<br>metric stab_min_bound = 1.0<br>metric stab_max_bound = 1.0<br>metric log_stab_min_bound = inf<br>metric log_stab_max_bound = inf<br>metric lstab_min_bound = 53.0<br>metric strongness = 0.09381107491856677<br>",
          "Concept 46<br><br>extent (len: 115): 1904, 1915, 1638, 4263, 2140,...<br>intent (len: 2): education=tertiary, day>=10<br>new extent (len: 0): ∅<br>new_intent (len: 0): ∅<br>metric accuracy = 0.85<br>metric precision = 0.85<br>metric recall = 1.0<br>metric neg_precision = 0.0<br>metric neg_recall = 0.0<br>metric f1_score = 0.92<br>metric y_pred_mean = 1.0<br>metric y_true_mean = 0.8521739130434782<br>metric stab_min_bound = 1.0<br>metric stab_max_bound = 1.0<br>metric log_stab_min_bound = inf<br>metric log_stab_max_bound = inf<br>metric lstab_min_bound = 47.0<br>metric strongness = 0.12554585152838427<br>",
          "Concept 9<br><br>extent (len: 138): 2748, 80, 295, 662, 3527,...<br>intent (len: 1): housing=True<br>new extent (len: 1): 662<br>new_intent (len: 1): housing=True<br>metric accuracy = 0.94<br>metric precision = 0.94<br>metric recall = 1.0<br>metric neg_precision = 0.0<br>metric neg_recall = 0.0<br>metric f1_score = 0.97<br>metric y_pred_mean = 1.0<br>metric y_true_mean = 0.9420289855072463<br>metric stab_min_bound = 0.9999999995343316<br>metric stab_max_bound = 0.9999999995343387<br>metric log_stab_min_bound = 30.99997798638864<br>metric log_stab_max_bound = 31.0<br>metric lstab_min_bound = 18.0<br>metric strongness = 0.05628058727569331<br>",
          "Concept 14<br><br>extent (len: 102): 1672, 4388, 2049, 3930, 2140,...<br>intent (len: 2): balance>=1000, age>=40<br>new extent (len: 4): 4447, 1454, 1974, 358<br>new_intent (len: 0): ∅<br>metric accuracy = 0.91<br>metric precision = 0.91<br>metric recall = 1.0<br>metric neg_precision = 0.0<br>metric neg_recall = 0.0<br>metric f1_score = 0.95<br>metric y_pred_mean = 1.0<br>metric y_true_mean = 0.9117647058823529<br>metric stab_min_bound = 0.999999999970667<br>metric stab_max_bound = 0.9999999999708962<br>metric log_stab_min_bound = 34.98868537470293<br>metric log_stab_max_bound = 35.0<br>metric lstab_min_bound = 22.0<br>metric strongness = 0.1297709923664122<br>",
          "Concept 24<br><br>extent (len: 43): 2499, 4160, 1349, 2347, 3889,...<br>intent (len: 2): contact!=cellular, day>=10<br>new extent (len: 43): 4160, 2499, 1349, 1663, 4328,...<br>new_intent (len: 0): ∅<br>metric accuracy = 0.93<br>metric precision = 0.93<br>metric recall = 1.0<br>metric neg_precision = 0.0<br>metric neg_recall = 0.0<br>metric f1_score = 0.96<br>metric y_pred_mean = 1.0<br>metric y_true_mean = 0.9302325581395349<br>metric stab_min_bound = 0.9999635021667928<br>metric stab_max_bound = 0.999969482421875<br>metric log_stab_min_bound = 14.741829657401585<br>metric log_stab_max_bound = 15.0<br>metric lstab_min_bound = 2.0<br>metric strongness = 0.041346153846153845<br>",
          "Concept 26<br><br>extent (len: 60): 1899, 2372, 517, 2633, 3889,...<br>intent (len: 2): balance>=1000, duration>=600<br>new extent (len: 14): 1454, 1312, 38, 634, 1206,...<br>new_intent (len: 0): ∅<br>metric accuracy = 0.93<br>metric precision = 0.93<br>metric recall = 1.0<br>metric neg_precision = 0.0<br>metric neg_recall = 0.0<br>metric f1_score = 0.97<br>metric y_pred_mean = 1.0<br>metric y_true_mean = 0.9333333333333333<br>metric stab_min_bound = 0.9999388381397623<br>metric stab_max_bound = 0.99993896484375<br>metric log_stab_min_bound = 13.997008187506609<br>metric log_stab_max_bound = 14.0<br>metric lstab_min_bound = 1.0<br>metric strongness = 0.42857142857142855<br>",
          "Concept 15<br><br>extent (len: 79): 1915, 4388, 2049, 3527, 3930,...<br>intent (len: 2): balance>=1000, campaign<2<br>new extent (len: 5): 38, 741, 323, 1698, 4215<br>new_intent (len: 0): ∅<br>metric accuracy = 0.94<br>metric precision = 0.94<br>metric recall = 1.0<br>metric neg_precision = 0.0<br>metric neg_recall = 0.0<br>metric f1_score = 0.97<br>metric y_pred_mean = 1.0<br>metric y_true_mean = 0.9367088607594937<br>metric stab_min_bound = 0.9999995073153228<br>metric stab_max_bound = 0.9999995231628418<br>metric log_stab_min_bound = 20.952832060674048<br>metric log_stab_max_bound = 21.0<br>metric lstab_min_bound = 8.0<br>metric strongness = 0.13763066202090593<br>",
          "Concept 3<br><br>extent (len: 170): 1915, 4388, 80, 1638, 4337,...<br>intent (len: 1): campaign<2<br>new extent (len: 0): ∅<br>new_intent (len: 1): campaign<2<br>metric accuracy = 0.92<br>metric precision = 0.92<br>metric recall = 1.0<br>metric neg_precision = 0.0<br>metric neg_recall = 0.0<br>metric f1_score = 0.96<br>metric y_pred_mean = 1.0<br>metric y_true_mean = 0.9176470588235294<br>metric stab_min_bound = 0.9999999999999858<br>metric stab_max_bound = 0.9999999999999858<br>metric log_stab_min_bound = 46.0<br>metric log_stab_max_bound = 46.0<br>metric lstab_min_bound = 33.0<br>metric strongness = 0.10065127294256956<br>"
         ],
         "marker": {
          "color": [
           0.3142857142857143,
           0.7755102040816326,
           0.3482142857142857,
           0.7297297297297297,
           0.4090909090909091,
           0.7317073170731707,
           0.6231884057971014,
           0.20118343195266272,
           0.12640449438202248,
           0.10416666666666667,
           0.22633744855967078,
           0.2712765957446808,
           0.5652173913043478,
           0.21863799283154123,
           0.0431266846361186,
           0.75,
           0.24067796610169492,
           0.11796246648793565,
           0.09663865546218488,
           0.10902896081771721,
           0.06933333333333333,
           0.08685968819599109,
           0.2536764705882353,
           0.07898658718330849,
           0.6724137931034483,
           0.2761904761904762,
           0.1383177570093458,
           0.32167832167832167,
           0.06493506493506493,
           0.5463917525773195,
           0.05815423514538559,
           0.7131782945736435,
           0.15406162464985995,
           0.12,
           0.060294117647058824,
           0.04266321913380737,
           0.07394957983193277,
           0.6521739130434783,
           0.09060402684563758,
           0.39893617021276595,
           0.13842482100238662,
           0.22538860103626943,
           0.06456692913385827,
           0.10681399631675875,
           0.1760797342192691,
           0.08557213930348259,
           0.11631944444444445,
           0.42038216560509556,
           0.35964912280701755,
           0.12109375,
           0.21933962264150944,
           0.09315866084425037,
           0.2833333333333333,
           0.13190184049079753,
           0.19427402862985685,
           0.41818181818181815,
           0.21869488536155202,
           0.0614115490375802,
           0.055780933062880324,
           0.11247803163444639,
           0.06083001705514497,
           0.2550335570469799,
           0.056112224448897796,
           0.06766355140186917,
           0.11282410651716888,
           0.4156769596199525,
           0.027921406411582212,
           0.07590966122961104,
           0.08615526376410965,
           0.030734390164995146,
           0.2916666666666667,
           0.0437862202189311,
           0.439873417721519,
           0.20073891625615764,
           0.12561576354679804,
           0.1122369446609509,
           0.42790697674418604,
           0.09108527131782945,
           0.09337626494940203,
           0.3684210526315789,
           0.05016722408026756,
           0.12190082644628099,
           0.03219954648526077,
           0.10973451327433628,
           0.07397959183673469,
           0.1124880838894185,
           0.5933333333333334,
           0.1440329218106996,
           0.060141509433962265,
           0.35668789808917195,
           0.09381107491856677,
           0.12554585152838427,
           0.05628058727569331,
           0.1297709923664122,
           0.041346153846153845,
           0.42857142857142855,
           0.13763066202090593,
           0.10065127294256956
          ],
          "colorbar": {
           "thickness": 15,
           "title": {
            "side": "right",
            "text": "y_mean"
           },
           "xanchor": "left"
          },
          "colorscale": [
           [
            0,
            "rgb(103,0,31)"
           ],
           [
            0.1,
            "rgb(178,24,43)"
           ],
           [
            0.2,
            "rgb(214,96,77)"
           ],
           [
            0.3,
            "rgb(244,165,130)"
           ],
           [
            0.4,
            "rgb(253,219,199)"
           ],
           [
            0.5,
            "rgb(247,247,247)"
           ],
           [
            0.6,
            "rgb(209,229,240)"
           ],
           [
            0.7,
            "rgb(146,197,222)"
           ],
           [
            0.8,
            "rgb(67,147,195)"
           ],
           [
            0.9,
            "rgb(33,102,172)"
           ],
           [
            1,
            "rgb(5,48,97)"
           ]
          ],
          "line": {
           "width": 2
          },
          "reversescale": true,
          "showscale": true,
          "size": 10
         },
         "mode": "markers+text",
         "text": [
          "<br>n: 33",
          "<br>n: 38",
          "<br>n: 39",
          "<br>n: 16",
          "<br>n: 27",
          "<br>n: 60",
          "<br>n: 43",
          "<br>n: 35",
          "<br>n: 45",
          "<br>n: 60",
          "<br>n: 22",
          "<br>n: 51",
          "<br>n: 39",
          "<br>n: 28",
          "<br>n: 48",
          "<br>n: 28",
          "<br>n: 7",
          "<br>n: 44",
          "<br>n: 46",
          "<br>n: 31",
          "<br>n: 45",
          "<br>n: 39",
          "<br>n: 36",
          "<br>n: 53",
          "<br>n: 39",
          "<br>n: 19",
          "<br>n: 41",
          "<br>n: 46",
          "<br>n: 50",
          "<br>n: 53",
          "<br>n: 46",
          "poutcome__is__success<br>684",
          "<br>n: 55",
          "<br>n: 48",
          "<br>n: 41",
          "<br>n: 18",
          "<br>n: 17",
          "<br>n: 17",
          "<br>4215,323,38,2143",
          "<br>n: 22",
          "<br>n: 19",
          "<br>4447,1729,2917",
          "<br>",
          "<br>n: 14",
          "<br>n: 53",
          "<br>n: 7",
          "<br>n: 67",
          "<br>n: 27",
          "<br>n: 41",
          "<br>n: 17",
          "<br>1729,1698,3141",
          "<br>n: 18",
          "<br>n: 51",
          "<br>n: 43",
          "<br>2332,2143",
          "<br>n: 19",
          "<br>",
          "<br>n: 17",
          "<br>n: 14",
          "<br>1698,2143",
          "<br>",
          "<br>n: 18",
          "<br>n: 56",
          "marital__is__married<br>1872",
          "balance__geq__1000<br>",
          "duration__geq__600<br>1269,2073",
          "<br>n: 54",
          "<br>4300",
          "<br>975",
          "duration__lt__300<br>662",
          "<br>2202,1342,38",
          "contact__not__cellular<br>2202,1269",
          "<br>",
          "poutcome__not__unknown<br>",
          "<br>4327,1142",
          "education__is__tertiary<br>3835,662",
          "<br>n: 10",
          "day__geq__10<br>115,3917",
          "age__geq__40<br>",
          "<br>n: 16",
          "<br>n: 14",
          "<br>n: 16",
          "<br>n: 6",
          "<br>1940,3449",
          "<br>n: 14",
          "<br>",
          "duration__geq__900<br>n: 14",
          "<br>n: 15",
          "<br>n: 51",
          "<br>n: 15",
          "<br>4108",
          "<br>",
          "housing__is__True<br>662",
          "<br>4447,1454,1974,358",
          "<br>n: 43",
          "<br>n: 14",
          "<br>n: 5",
          "campaign__lt__2<br>"
         ],
         "textposition": "middle right",
         "type": "scatter",
         "x": [
          0,
          -2,
          -1,
          -19,
          0,
          -18,
          -17,
          -16,
          -15,
          -14,
          -13,
          -12,
          1,
          -11,
          -10,
          -9,
          -8,
          -7,
          -6,
          -5,
          -4,
          -3,
          -2,
          -1,
          2,
          0,
          1,
          2,
          3,
          4,
          5,
          -20,
          6,
          7,
          8,
          -19,
          9,
          10,
          -18,
          11,
          12,
          -17,
          -16,
          -15,
          13,
          -14,
          14,
          15,
          16,
          -13,
          -12,
          -11,
          17,
          18,
          -10,
          19,
          -9,
          -8,
          -7,
          -6,
          -5,
          -4,
          -3,
          -5,
          -4,
          -3,
          -2,
          -1,
          0,
          -2,
          0,
          -1,
          1,
          0,
          2,
          1,
          3,
          2,
          3,
          4,
          5,
          6,
          7,
          8,
          9,
          10,
          11,
          12,
          13,
          14,
          15,
          16,
          4,
          17,
          18,
          19,
          20,
          5
         ],
         "y": [
          1,
          2,
          2,
          3,
          2,
          3,
          3,
          3,
          3,
          3,
          3,
          3,
          2,
          3,
          3,
          3,
          3,
          3,
          3,
          3,
          3,
          3,
          3,
          3,
          2,
          3,
          3,
          3,
          3,
          3,
          3,
          4,
          3,
          3,
          3,
          4,
          3,
          3,
          4,
          3,
          3,
          4,
          4,
          4,
          3,
          4,
          3,
          3,
          3,
          4,
          4,
          4,
          3,
          3,
          4,
          3,
          4,
          4,
          4,
          4,
          4,
          4,
          4,
          5,
          5,
          5,
          4,
          4,
          6,
          5,
          4,
          5,
          4,
          5,
          4,
          5,
          4,
          5,
          5,
          4,
          4,
          4,
          4,
          4,
          4,
          4,
          4,
          4,
          4,
          4,
          4,
          4,
          5,
          4,
          4,
          4,
          4,
          5
         ]
        }
       ],
       "layout": {
        "height": 500,
        "hovermode": "closest",
        "margin": {
         "b": 20,
         "l": 5,
         "r": 5,
         "t": 40
        },
        "showlegend": false,
        "template": {
         "data": {
          "bar": [
           {
            "error_x": {
             "color": "#2a3f5f"
            },
            "error_y": {
             "color": "#2a3f5f"
            },
            "marker": {
             "line": {
              "color": "#E5ECF6",
              "width": 0.5
             }
            },
            "type": "bar"
           }
          ],
          "barpolar": [
           {
            "marker": {
             "line": {
              "color": "#E5ECF6",
              "width": 0.5
             }
            },
            "type": "barpolar"
           }
          ],
          "carpet": [
           {
            "aaxis": {
             "endlinecolor": "#2a3f5f",
             "gridcolor": "white",
             "linecolor": "white",
             "minorgridcolor": "white",
             "startlinecolor": "#2a3f5f"
            },
            "baxis": {
             "endlinecolor": "#2a3f5f",
             "gridcolor": "white",
             "linecolor": "white",
             "minorgridcolor": "white",
             "startlinecolor": "#2a3f5f"
            },
            "type": "carpet"
           }
          ],
          "choropleth": [
           {
            "colorbar": {
             "outlinewidth": 0,
             "ticks": ""
            },
            "type": "choropleth"
           }
          ],
          "contour": [
           {
            "colorbar": {
             "outlinewidth": 0,
             "ticks": ""
            },
            "colorscale": [
             [
              0,
              "#0d0887"
             ],
             [
              0.1111111111111111,
              "#46039f"
             ],
             [
              0.2222222222222222,
              "#7201a8"
             ],
             [
              0.3333333333333333,
              "#9c179e"
             ],
             [
              0.4444444444444444,
              "#bd3786"
             ],
             [
              0.5555555555555556,
              "#d8576b"
             ],
             [
              0.6666666666666666,
              "#ed7953"
             ],
             [
              0.7777777777777778,
              "#fb9f3a"
             ],
             [
              0.8888888888888888,
              "#fdca26"
             ],
             [
              1,
              "#f0f921"
             ]
            ],
            "type": "contour"
           }
          ],
          "contourcarpet": [
           {
            "colorbar": {
             "outlinewidth": 0,
             "ticks": ""
            },
            "type": "contourcarpet"
           }
          ],
          "heatmap": [
           {
            "colorbar": {
             "outlinewidth": 0,
             "ticks": ""
            },
            "colorscale": [
             [
              0,
              "#0d0887"
             ],
             [
              0.1111111111111111,
              "#46039f"
             ],
             [
              0.2222222222222222,
              "#7201a8"
             ],
             [
              0.3333333333333333,
              "#9c179e"
             ],
             [
              0.4444444444444444,
              "#bd3786"
             ],
             [
              0.5555555555555556,
              "#d8576b"
             ],
             [
              0.6666666666666666,
              "#ed7953"
             ],
             [
              0.7777777777777778,
              "#fb9f3a"
             ],
             [
              0.8888888888888888,
              "#fdca26"
             ],
             [
              1,
              "#f0f921"
             ]
            ],
            "type": "heatmap"
           }
          ],
          "heatmapgl": [
           {
            "colorbar": {
             "outlinewidth": 0,
             "ticks": ""
            },
            "colorscale": [
             [
              0,
              "#0d0887"
             ],
             [
              0.1111111111111111,
              "#46039f"
             ],
             [
              0.2222222222222222,
              "#7201a8"
             ],
             [
              0.3333333333333333,
              "#9c179e"
             ],
             [
              0.4444444444444444,
              "#bd3786"
             ],
             [
              0.5555555555555556,
              "#d8576b"
             ],
             [
              0.6666666666666666,
              "#ed7953"
             ],
             [
              0.7777777777777778,
              "#fb9f3a"
             ],
             [
              0.8888888888888888,
              "#fdca26"
             ],
             [
              1,
              "#f0f921"
             ]
            ],
            "type": "heatmapgl"
           }
          ],
          "histogram": [
           {
            "marker": {
             "colorbar": {
              "outlinewidth": 0,
              "ticks": ""
             }
            },
            "type": "histogram"
           }
          ],
          "histogram2d": [
           {
            "colorbar": {
             "outlinewidth": 0,
             "ticks": ""
            },
            "colorscale": [
             [
              0,
              "#0d0887"
             ],
             [
              0.1111111111111111,
              "#46039f"
             ],
             [
              0.2222222222222222,
              "#7201a8"
             ],
             [
              0.3333333333333333,
              "#9c179e"
             ],
             [
              0.4444444444444444,
              "#bd3786"
             ],
             [
              0.5555555555555556,
              "#d8576b"
             ],
             [
              0.6666666666666666,
              "#ed7953"
             ],
             [
              0.7777777777777778,
              "#fb9f3a"
             ],
             [
              0.8888888888888888,
              "#fdca26"
             ],
             [
              1,
              "#f0f921"
             ]
            ],
            "type": "histogram2d"
           }
          ],
          "histogram2dcontour": [
           {
            "colorbar": {
             "outlinewidth": 0,
             "ticks": ""
            },
            "colorscale": [
             [
              0,
              "#0d0887"
             ],
             [
              0.1111111111111111,
              "#46039f"
             ],
             [
              0.2222222222222222,
              "#7201a8"
             ],
             [
              0.3333333333333333,
              "#9c179e"
             ],
             [
              0.4444444444444444,
              "#bd3786"
             ],
             [
              0.5555555555555556,
              "#d8576b"
             ],
             [
              0.6666666666666666,
              "#ed7953"
             ],
             [
              0.7777777777777778,
              "#fb9f3a"
             ],
             [
              0.8888888888888888,
              "#fdca26"
             ],
             [
              1,
              "#f0f921"
             ]
            ],
            "type": "histogram2dcontour"
           }
          ],
          "mesh3d": [
           {
            "colorbar": {
             "outlinewidth": 0,
             "ticks": ""
            },
            "type": "mesh3d"
           }
          ],
          "parcoords": [
           {
            "line": {
             "colorbar": {
              "outlinewidth": 0,
              "ticks": ""
             }
            },
            "type": "parcoords"
           }
          ],
          "pie": [
           {
            "automargin": true,
            "type": "pie"
           }
          ],
          "scatter": [
           {
            "marker": {
             "colorbar": {
              "outlinewidth": 0,
              "ticks": ""
             }
            },
            "type": "scatter"
           }
          ],
          "scatter3d": [
           {
            "line": {
             "colorbar": {
              "outlinewidth": 0,
              "ticks": ""
             }
            },
            "marker": {
             "colorbar": {
              "outlinewidth": 0,
              "ticks": ""
             }
            },
            "type": "scatter3d"
           }
          ],
          "scattercarpet": [
           {
            "marker": {
             "colorbar": {
              "outlinewidth": 0,
              "ticks": ""
             }
            },
            "type": "scattercarpet"
           }
          ],
          "scattergeo": [
           {
            "marker": {
             "colorbar": {
              "outlinewidth": 0,
              "ticks": ""
             }
            },
            "type": "scattergeo"
           }
          ],
          "scattergl": [
           {
            "marker": {
             "colorbar": {
              "outlinewidth": 0,
              "ticks": ""
             }
            },
            "type": "scattergl"
           }
          ],
          "scattermapbox": [
           {
            "marker": {
             "colorbar": {
              "outlinewidth": 0,
              "ticks": ""
             }
            },
            "type": "scattermapbox"
           }
          ],
          "scatterpolar": [
           {
            "marker": {
             "colorbar": {
              "outlinewidth": 0,
              "ticks": ""
             }
            },
            "type": "scatterpolar"
           }
          ],
          "scatterpolargl": [
           {
            "marker": {
             "colorbar": {
              "outlinewidth": 0,
              "ticks": ""
             }
            },
            "type": "scatterpolargl"
           }
          ],
          "scatterternary": [
           {
            "marker": {
             "colorbar": {
              "outlinewidth": 0,
              "ticks": ""
             }
            },
            "type": "scatterternary"
           }
          ],
          "surface": [
           {
            "colorbar": {
             "outlinewidth": 0,
             "ticks": ""
            },
            "colorscale": [
             [
              0,
              "#0d0887"
             ],
             [
              0.1111111111111111,
              "#46039f"
             ],
             [
              0.2222222222222222,
              "#7201a8"
             ],
             [
              0.3333333333333333,
              "#9c179e"
             ],
             [
              0.4444444444444444,
              "#bd3786"
             ],
             [
              0.5555555555555556,
              "#d8576b"
             ],
             [
              0.6666666666666666,
              "#ed7953"
             ],
             [
              0.7777777777777778,
              "#fb9f3a"
             ],
             [
              0.8888888888888888,
              "#fdca26"
             ],
             [
              1,
              "#f0f921"
             ]
            ],
            "type": "surface"
           }
          ],
          "table": [
           {
            "cells": {
             "fill": {
              "color": "#EBF0F8"
             },
             "line": {
              "color": "white"
             }
            },
            "header": {
             "fill": {
              "color": "#C8D4E3"
             },
             "line": {
              "color": "white"
             }
            },
            "type": "table"
           }
          ]
         },
         "layout": {
          "annotationdefaults": {
           "arrowcolor": "#2a3f5f",
           "arrowhead": 0,
           "arrowwidth": 1
          },
          "coloraxis": {
           "colorbar": {
            "outlinewidth": 0,
            "ticks": ""
           }
          },
          "colorscale": {
           "diverging": [
            [
             0,
             "#8e0152"
            ],
            [
             0.1,
             "#c51b7d"
            ],
            [
             0.2,
             "#de77ae"
            ],
            [
             0.3,
             "#f1b6da"
            ],
            [
             0.4,
             "#fde0ef"
            ],
            [
             0.5,
             "#f7f7f7"
            ],
            [
             0.6,
             "#e6f5d0"
            ],
            [
             0.7,
             "#b8e186"
            ],
            [
             0.8,
             "#7fbc41"
            ],
            [
             0.9,
             "#4d9221"
            ],
            [
             1,
             "#276419"
            ]
           ],
           "sequential": [
            [
             0,
             "#0d0887"
            ],
            [
             0.1111111111111111,
             "#46039f"
            ],
            [
             0.2222222222222222,
             "#7201a8"
            ],
            [
             0.3333333333333333,
             "#9c179e"
            ],
            [
             0.4444444444444444,
             "#bd3786"
            ],
            [
             0.5555555555555556,
             "#d8576b"
            ],
            [
             0.6666666666666666,
             "#ed7953"
            ],
            [
             0.7777777777777778,
             "#fb9f3a"
            ],
            [
             0.8888888888888888,
             "#fdca26"
            ],
            [
             1,
             "#f0f921"
            ]
           ],
           "sequentialminus": [
            [
             0,
             "#0d0887"
            ],
            [
             0.1111111111111111,
             "#46039f"
            ],
            [
             0.2222222222222222,
             "#7201a8"
            ],
            [
             0.3333333333333333,
             "#9c179e"
            ],
            [
             0.4444444444444444,
             "#bd3786"
            ],
            [
             0.5555555555555556,
             "#d8576b"
            ],
            [
             0.6666666666666666,
             "#ed7953"
            ],
            [
             0.7777777777777778,
             "#fb9f3a"
            ],
            [
             0.8888888888888888,
             "#fdca26"
            ],
            [
             1,
             "#f0f921"
            ]
           ]
          },
          "colorway": [
           "#636efa",
           "#EF553B",
           "#00cc96",
           "#ab63fa",
           "#FFA15A",
           "#19d3f3",
           "#FF6692",
           "#B6E880",
           "#FF97FF",
           "#FECB52"
          ],
          "font": {
           "color": "#2a3f5f"
          },
          "geo": {
           "bgcolor": "white",
           "lakecolor": "white",
           "landcolor": "#E5ECF6",
           "showlakes": true,
           "showland": true,
           "subunitcolor": "white"
          },
          "hoverlabel": {
           "align": "left"
          },
          "hovermode": "closest",
          "mapbox": {
           "style": "light"
          },
          "paper_bgcolor": "white",
          "plot_bgcolor": "#E5ECF6",
          "polar": {
           "angularaxis": {
            "gridcolor": "white",
            "linecolor": "white",
            "ticks": ""
           },
           "bgcolor": "#E5ECF6",
           "radialaxis": {
            "gridcolor": "white",
            "linecolor": "white",
            "ticks": ""
           }
          },
          "scene": {
           "xaxis": {
            "backgroundcolor": "#E5ECF6",
            "gridcolor": "white",
            "gridwidth": 2,
            "linecolor": "white",
            "showbackground": true,
            "ticks": "",
            "zerolinecolor": "white"
           },
           "yaxis": {
            "backgroundcolor": "#E5ECF6",
            "gridcolor": "white",
            "gridwidth": 2,
            "linecolor": "white",
            "showbackground": true,
            "ticks": "",
            "zerolinecolor": "white"
           },
           "zaxis": {
            "backgroundcolor": "#E5ECF6",
            "gridcolor": "white",
            "gridwidth": 2,
            "linecolor": "white",
            "showbackground": true,
            "ticks": "",
            "zerolinecolor": "white"
           }
          },
          "shapedefaults": {
           "line": {
            "color": "#2a3f5f"
           }
          },
          "ternary": {
           "aaxis": {
            "gridcolor": "white",
            "linecolor": "white",
            "ticks": ""
           },
           "baxis": {
            "gridcolor": "white",
            "linecolor": "white",
            "ticks": ""
           },
           "bgcolor": "#E5ECF6",
           "caxis": {
            "gridcolor": "white",
            "linecolor": "white",
            "ticks": ""
           }
          },
          "title": {
           "x": 0.05
          },
          "xaxis": {
           "automargin": true,
           "gridcolor": "white",
           "linecolor": "white",
           "ticks": "",
           "title": {
            "standoff": 15
           },
           "zerolinecolor": "white",
           "zerolinewidth": 2
          },
          "yaxis": {
           "automargin": true,
           "gridcolor": "white",
           "linecolor": "white",
           "ticks": "",
           "title": {
            "standoff": 15
           },
           "zerolinecolor": "white",
           "zerolinewidth": 2
          }
         }
        },
        "title": {
         "font": {
          "size": 16
         },
         "text": "Concept Lattice"
        },
        "width": 1000,
        "xaxis": {
         "showgrid": false,
         "showticklabels": false,
         "zeroline": false
        },
        "yaxis": {
         "showgrid": false,
         "showticklabels": false,
         "zeroline": false
        }
       }
      },
      "text/html": [
       "<div>\n",
       "        \n",
       "        \n",
       "            <div id=\"a159afc1-71ee-41e3-8fed-4229a1bf5003\" class=\"plotly-graph-div\" style=\"height:500px; width:1000px;\"></div>\n",
       "            <script type=\"text/javascript\">\n",
       "                require([\"plotly\"], function(Plotly) {\n",
       "                    window.PLOTLYENV=window.PLOTLYENV || {};\n",
       "                    \n",
       "                if (document.getElementById(\"a159afc1-71ee-41e3-8fed-4229a1bf5003\")) {\n",
       "                    Plotly.newPlot(\n",
       "                        'a159afc1-71ee-41e3-8fed-4229a1bf5003',\n",
       "                        [{\"hoverinfo\": \"none\", \"line\": {\"color\": \"#888\", \"width\": 0.5}, \"mode\": \"lines\", \"type\": \"scatter\", \"x\": [0.0, -16.0, null, 0.0, -13.0, null, 0.0, -11.0, null, 0.0, -8.0, null, 0.0, -5.0, null, 0.0, -4.0, null, 0.0, -2.0, null, 0.0, 1.0, null, 0.0, -17.0, null, 0.0, -16.0, null, 0.0, -14.0, null, 0.0, -12.0, null, 0.0, 2.0, null, 0.0, 8.0, null, -2.0, -19.0, null, -2.0, -9.0, null, -2.0, -8.0, null, -1.0, -8.0, null, -1.0, 0.0, null, -1.0, 12.0, null, -1.0, -12.0, null, -1.0, -4.0, null, -1.0, 20.0, null, -19.0, -20.0, null, -19.0, -12.0, null, 0.0, 9.0, null, 0.0, 11.0, null, 0.0, 19.0, null, 0.0, 4.0, null, 0.0, 9.0, null, 0.0, 19.0, null, -18.0, -20.0, null, -18.0, -10.0, null, -17.0, -20.0, null, -17.0, -6.0, null, -16.0, -16.0, null, -16.0, -10.0, null, -16.0, -9.0, null, -15.0, -13.0, null, -15.0, -9.0, null, -15.0, -5.0, null, -14.0, -18.0, null, -14.0, -1.0, null, -14.0, 17.0, null, -13.0, -14.0, null, -13.0, -12.0, null, -13.0, -10.0, null, -12.0, -9.0, null, -12.0, 0.0, null, -12.0, 1.0, null, -12.0, 16.0, null, 1.0, 10.0, null, 1.0, 11.0, null, 1.0, 4.0, null, 1.0, 11.0, null, -11.0, -17.0, null, -11.0, -10.0, null, -11.0, -1.0, null, -10.0, -19.0, null, -10.0, -16.0, null, -10.0, -5.0, null, -9.0, -20.0, null, -9.0, -9.0, null, -8.0, -12.0, null, -8.0, -9.0, null, -8.0, 8.0, null, -7.0, -15.0, null, -7.0, 15.0, null, -7.0, 16.0, null, -6.0, -16.0, null, -6.0, -11.0, null, -6.0, 16.0, null, -5.0, -14.0, null, -5.0, -1.0, null, -5.0, 2.0, null, -4.0, -16.0, null, -4.0, -1.0, null, -4.0, 15.0, null, -3.0, -5.0, null, -3.0, 1.0, null, -3.0, 16.0, null, -3.0, 4.0, null, -2.0, -17.0, null, -2.0, -9.0, null, -2.0, 15.0, null, -1.0, -18.0, null, -1.0, -16.0, null, -1.0, 10.0, null, 2.0, 10.0, null, 2.0, 15.0, null, 2.0, 3.0, null, 2.0, 11.0, null, 0.0, -9.0, null, 0.0, -4.0, null, 0.0, 10.0, null, 1.0, 2.0, null, 1.0, 8.0, null, 1.0, 15.0, null, 2.0, -1.0, null, 2.0, 0.0, null, 2.0, 3.0, null, 3.0, -8.0, null, 3.0, -5.0, null, 3.0, 15.0, null, 4.0, -3.0, null, 4.0, 1.0, null, 4.0, 1.0, null, 4.0, 16.0, null, 5.0, 5.0, null, 5.0, 7.0, null, 5.0, 8.0, null, -20.0, 0.0, null, 6.0, 10.0, null, 6.0, 12.0, null, 6.0, 16.0, null, 7.0, -9.0, null, 7.0, -6.0, null, 7.0, 7.0, null, 8.0, -7.0, null, 8.0, -5.0, null, 8.0, 8.0, null, -19.0, -5.0, null, -19.0, 4.0, null, 9.0, -5.0, null, 9.0, 9.0, null, 9.0, 10.0, null, 10.0, 1.0, null, 10.0, 11.0, null, -18.0, -5.0, null, -18.0, -4.0, null, 11.0, -5.0, null, 11.0, 1.0, null, 11.0, 4.0, null, 12.0, 8.0, null, 12.0, 10.0, null, 12.0, 20.0, null, -17.0, 0.0, null, -17.0, 3.0, null, -16.0, 17.0, null, -16.0, -5.0, null, -16.0, 2.0, null, -15.0, 1.0, null, -15.0, 3.0, null, 13.0, 2.0, null, 13.0, 17.0, null, 13.0, 20.0, null, -14.0, -5.0, null, -14.0, 5.0, null, 14.0, 10.0, null, 14.0, 15.0, null, 14.0, 17.0, null, 15.0, 1.0, null, 15.0, 3.0, null, 15.0, 15.0, null, 16.0, 1.0, null, 16.0, 8.0, null, 16.0, 14.0, null, -13.0, 0.0, null, -13.0, 4.0, null, -12.0, 0.0, null, -12.0, 5.0, null, -11.0, -5.0, null, -11.0, 1.0, null, 17.0, 0.0, null, 17.0, 1.0, null, 18.0, 6.0, null, 18.0, 8.0, null, 18.0, 16.0, null, -10.0, -5.0, null, -10.0, 0.0, null, 19.0, 1.0, null, 19.0, 10.0, null, 19.0, 19.0, null, -9.0, 0.0, null, -9.0, 2.0, null, -8.0, 3.0, null, -8.0, 4.0, null, -7.0, 4.0, null, -7.0, 5.0, null, -6.0, -2.0, null, -6.0, 0.0, null, -5.0, 2.0, null, -5.0, 4.0, null, -4.0, -4.0, null, -4.0, 0.0, null, -3.0, -4.0, null, -3.0, -2.0, null, -5.0, 0.0, null, -5.0, -2.0, null, -5.0, -1.0, null, -5.0, 0.0, null, -4.0, 17.0, null, -4.0, 20.0, null, -4.0, 10.0, null, -4.0, 12.0, null, -4.0, 9.0, null, -4.0, 19.0, null, -4.0, 0.0, null, -3.0, 4.0, null, -3.0, 0.0, null, -3.0, 3.0, null, -3.0, 19.0, null, -3.0, 14.0, null, -3.0, 1.0, null, -3.0, 11.0, null, -3.0, 0.0, null, -2.0, -2.0, null, -1.0, 3.0, null, 0.0, 3.0, null, 0.0, 5.0, null, 0.0, -1.0, null, 0.0, 2.0, null, 0.0, -2.0, null, 0.0, 1.0, null, 0.0, 4.0, null, 0.0, 0.0, null, -2.0, 5.0, null, -2.0, 7.0, null, -1.0, 18.0, null, -1.0, 13.0, null, 1.0, 2.0, null, 2.0, 3.0, null, 2.0, 5.0, null, 1.0, 16.0, null, 1.0, 12.0, null, 1.0, 6.0, null, 3.0, 3.0, null, 2.0, 7.0, null, 2.0, 15.0, null, 2.0, 16.0, null, 2.0, 10.0, null, 2.0, 8.0, null, 2.0, 18.0, null, 3.0, 13.0, null, 3.0, 15.0, null, 3.0, 17.0, null, 4.0, 4.0, null, 5.0, 5.0, null, 6.0, 5.0, null, 8.0, 5.0, null, 9.0, 4.0, null, 14.0, 5.0, null, 20.0, 5.0, null], \"y\": [1, 3, null, 1, 3, null, 1, 3, null, 1, 3, null, 1, 3, null, 1, 3, null, 1, 3, null, 1, 3, null, 1, 4, null, 1, 4, null, 1, 4, null, 1, 4, null, 1, 4, null, 1, 4, null, 2, 3, null, 2, 3, null, 2, 3, null, 2, 3, null, 2, 3, null, 2, 3, null, 2, 4, null, 2, 4, null, 2, 4, null, 3, 4, null, 3, 4, null, 2, 3, null, 2, 3, null, 2, 3, null, 2, 4, null, 2, 4, null, 2, 4, null, 3, 4, null, 3, 4, null, 3, 4, null, 3, 4, null, 3, 4, null, 3, 4, null, 3, 4, null, 3, 4, null, 3, 4, null, 3, 4, null, 3, 4, null, 3, 4, null, 3, 4, null, 3, 4, null, 3, 4, null, 3, 4, null, 3, 4, null, 3, 5, null, 3, 5, null, 3, 4, null, 2, 3, null, 2, 3, null, 2, 4, null, 2, 4, null, 3, 4, null, 3, 4, null, 3, 4, null, 3, 4, null, 3, 4, null, 3, 4, null, 3, 4, null, 3, 4, null, 3, 4, null, 3, 4, null, 3, 4, null, 3, 4, null, 3, 4, null, 3, 4, null, 3, 4, null, 3, 4, null, 3, 4, null, 3, 4, null, 3, 4, null, 3, 4, null, 3, 4, null, 3, 4, null, 3, 4, null, 3, 4, null, 3, 5, null, 3, 4, null, 3, 5, null, 3, 4, null, 3, 4, null, 3, 4, null, 3, 4, null, 3, 4, null, 3, 4, null, 2, 3, null, 2, 3, null, 2, 4, null, 2, 4, null, 3, 4, null, 3, 4, null, 3, 4, null, 3, 4, null, 3, 4, null, 3, 4, null, 3, 4, null, 3, 4, null, 3, 4, null, 3, 4, null, 3, 4, null, 3, 4, null, 3, 5, null, 3, 4, null, 3, 5, null, 3, 4, null, 3, 4, null, 3, 4, null, 3, 4, null, 4, 5, null, 3, 4, null, 3, 4, null, 3, 4, null, 3, 4, null, 3, 4, null, 3, 4, null, 3, 4, null, 3, 4, null, 3, 4, null, 4, 5, null, 4, 5, null, 3, 4, null, 3, 4, null, 3, 4, null, 3, 4, null, 3, 4, null, 4, 5, null, 4, 5, null, 3, 4, null, 3, 4, null, 3, 4, null, 3, 4, null, 3, 4, null, 3, 4, null, 4, 5, null, 4, 5, null, 4, 3, null, 4, 5, null, 4, 5, null, 4, 5, null, 4, 5, null, 3, 4, null, 3, 4, null, 3, 4, null, 4, 5, null, 4, 5, null, 3, 4, null, 3, 4, null, 3, 4, null, 3, 4, null, 3, 4, null, 3, 4, null, 3, 4, null, 3, 4, null, 3, 4, null, 4, 5, null, 4, 5, null, 4, 5, null, 4, 5, null, 4, 5, null, 4, 5, null, 3, 4, null, 3, 4, null, 3, 4, null, 3, 4, null, 3, 4, null, 4, 5, null, 4, 5, null, 3, 4, null, 3, 4, null, 3, 4, null, 4, 5, null, 4, 5, null, 4, 5, null, 4, 5, null, 4, 5, null, 4, 5, null, 4, 5, null, 4, 5, null, 4, 5, null, 4, 5, null, 4, 5, null, 4, 5, null, 4, 5, null, 4, 5, null, 5, 4, null, 5, 4, null, 5, 4, null, 5, 6, null, 5, 4, null, 5, 4, null, 5, 4, null, 5, 4, null, 5, 4, null, 5, 4, null, 5, 6, null, 5, 4, null, 5, 4, null, 5, 4, null, 5, 4, null, 5, 4, null, 5, 4, null, 5, 4, null, 5, 6, null, 4, 5, null, 4, 5, null, 6, 5, null, 6, 5, null, 6, 5, null, 6, 5, null, 6, 5, null, 6, 5, null, 6, 5, null, 6, 5, null, 5, 4, null, 5, 4, null, 5, 4, null, 5, 4, null, 4, 5, null, 4, 5, null, 4, 5, null, 5, 4, null, 5, 4, null, 5, 4, null, 4, 5, null, 5, 4, null, 5, 4, null, 5, 4, null, 5, 4, null, 5, 4, null, 5, 4, null, 5, 4, null, 5, 4, null, 5, 4, null, 4, 5, null, 4, 5, null, 4, 5, null, 4, 5, null, 4, 5, null, 4, 5, null, 4, 5, null]}, {\"hoverinfo\": \"text\", \"hovertext\": [\"Concept 767<br><br>extent (len: 33): 4160, 4083, 1349, 4281, 1469,...<br>intent (len: 5): age>=40, poutcome!=unknown, marital=married, campaign<2, day>=10<br>new extent (len: 33): 4160, 4083, 1349, 4281, 1469,...<br>new_intent (len: 0): \\u2205<br>metric accuracy = 0.94<br>metric precision = 0.94<br>metric recall = 1.0<br>metric neg_precision = 0.0<br>metric neg_recall = 0.0<br>metric f1_score = 0.97<br>metric y_pred_mean = 1.0<br>metric y_true_mean = 0.9393939393939394<br>metric stab_min_bound = 0.9999383613467216<br>metric stab_max_bound = 0.999969482421875<br>metric log_stab_min_bound = 13.985805133185501<br>metric log_stab_max_bound = 15.0<br>metric lstab_min_bound = 2.0<br>metric strongness = 0.3142857142857143<br>\", \"Concept 505<br><br>extent (len: 38): 4160, 1181, 1469, 2665, 1862,...<br>intent (len: 4): poutcome=success, day>=10, campaign<2, poutcome!=unknown<br>new extent (len: 38): 4160, 1181, 2665, 1469, 1862,...<br>new_intent (len: 0): \\u2205<br>metric accuracy = 0.89<br>metric precision = 0.89<br>metric recall = 1.0<br>metric neg_precision = 0.0<br>metric neg_recall = 0.0<br>metric f1_score = 0.94<br>metric y_pred_mean = 1.0<br>metric y_true_mean = 0.8947368421052632<br>metric stab_min_bound = 0.9999293680302799<br>metric stab_max_bound = 0.999969482421875<br>metric log_stab_min_bound = 13.789319144806907<br>metric log_stab_max_bound = 15.0<br>metric lstab_min_bound = 2.0<br>metric strongness = 0.7755102040816326<br>\", \"Concept 519<br><br>extent (len: 39): 412, 1915, 4160, 4083, 1181,...<br>intent (len: 4): balance>=1000, day>=10, campaign<2, poutcome!=unknown<br>new extent (len: 39): 412, 1915, 4160, 4083, 1181,...<br>new_intent (len: 0): \\u2205<br>metric accuracy = 0.92<br>metric precision = 0.92<br>metric recall = 1.0<br>metric neg_precision = 0.0<br>metric neg_recall = 0.0<br>metric f1_score = 0.96<br>metric y_pred_mean = 1.0<br>metric y_true_mean = 0.9230769230769231<br>metric stab_min_bound = 0.9999484269064851<br>metric stab_max_bound = 0.999969482421875<br>metric log_stab_min_bound = 14.243021888959115<br>metric log_stab_max_bound = 15.0<br>metric lstab_min_bound = 2.0<br>metric strongness = 0.3482142857142857<br>\", \"Concept 213<br><br>extent (len: 54): 4160, 1181, 1060, 1469, 2665,...<br>intent (len: 3): poutcome=success, campaign<2, poutcome!=unknown<br>new extent (len: 16): 477, 1060, 1342, 941, 4224,...<br>new_intent (len: 0): \\u2205<br>metric accuracy = 0.91<br>metric precision = 0.91<br>metric recall = 1.0<br>metric neg_precision = 0.0<br>metric neg_recall = 0.0<br>metric f1_score = 0.95<br>metric y_pred_mean = 1.0<br>metric y_true_mean = 0.9074074074074074<br>metric stab_min_bound = 0.9999827890419466<br>metric stab_max_bound = 0.9999847412109375<br>metric log_stab_min_bound = 15.826313066749305<br>metric log_stab_max_bound = 16.0<br>metric lstab_min_bound = 3.0<br>metric strongness = 0.7297297297297297<br>\", \"Concept 273<br><br>extent (len: 27): 2372, 517, 1994, 823, 3117,...<br>intent (len: 4): balance>=1000, housing=True, duration>=600, day>=10<br>new extent (len: 27): 2372, 517, 1994, 823, 3117,...<br>new_intent (len: 0): \\u2205<br>metric accuracy = 0.93<br>metric precision = 0.93<br>metric recall = 1.0<br>metric neg_precision = 0.0<br>metric neg_recall = 0.0<br>metric f1_score = 0.96<br>metric y_pred_mean = 1.0<br>metric y_true_mean = 0.9259259259259259<br>metric stab_min_bound = 0.999783992767334<br>metric stab_max_bound = 0.99993896484375<br>metric log_stab_min_bound = 12.176632759953765<br>metric log_stab_max_bound = 14.0<br>metric lstab_min_bound = 1.0<br>metric strongness = 0.4090909090909091<br>\", \"Concept 210<br><br>extent (len: 60): 4160, 1181, 1060, 619, 1469,...<br>intent (len: 3): poutcome=success, poutcome!=unknown, marital=married<br>new extent (len: 60): 4160, 1181, 1060, 619, 1469,...<br>new_intent (len: 0): \\u2205<br>metric accuracy = 0.9<br>metric precision = 0.9<br>metric recall = 1.0<br>metric neg_precision = 0.0<br>metric neg_recall = 0.0<br>metric f1_score = 0.95<br>metric y_pred_mean = 1.0<br>metric y_true_mean = 0.9<br>metric stab_min_bound = 0.999998776700515<br>metric stab_max_bound = 0.9999990463256836<br>metric log_stab_min_bound = 19.640790925317624<br>metric log_stab_max_bound = 20.0<br>metric lstab_min_bound = 7.0<br>metric strongness = 0.7317073170731707<br>\", \"Concept 209<br><br>extent (len: 43): 1181, 619, 2665, 3027, 941,...<br>intent (len: 3): poutcome=success, duration<300, poutcome!=unknown<br>new extent (len: 43): 1181, 619, 2665, 3027, 941,...<br>new_intent (len: 0): \\u2205<br>metric accuracy = 0.91<br>metric precision = 0.91<br>metric recall = 1.0<br>metric neg_precision = 0.0<br>metric neg_recall = 0.0<br>metric f1_score = 0.95<br>metric y_pred_mean = 1.0<br>metric y_true_mean = 0.9069767441860465<br>metric stab_min_bound = 0.9998610018519685<br>metric stab_max_bound = 0.99993896484375<br>metric log_stab_min_bound = 12.812646718496515<br>metric log_stab_max_bound = 14.0<br>metric lstab_min_bound = 1.0<br>metric strongness = 0.6231884057971014<br>\", \"Concept 205<br><br>extent (len: 68): 4160, 2837, 3978, 1181, 53,...<br>intent (len: 3): poutcome!=unknown, day>=10, marital=married<br>new extent (len: 35): 2837, 1181, 53, 619, 1048,...<br>new_intent (len: 0): \\u2205<br>metric accuracy = 0.93<br>metric precision = 0.93<br>metric recall = 1.0<br>metric neg_precision = 0.0<br>metric neg_recall = 0.0<br>metric f1_score = 0.96<br>metric y_pred_mean = 1.0<br>metric y_true_mean = 0.9264705882352942<br>metric stab_min_bound = 0.9999997541159187<br>metric stab_max_bound = 0.9999997615814209<br>metric log_stab_min_bound = 21.955518327191324<br>metric log_stab_max_bound = 22.0<br>metric lstab_min_bound = 9.0<br>metric strongness = 0.20118343195266272<br>\", \"Concept 236<br><br>extent (len: 45): 412, 2837, 2372, 233, 53,...<br>intent (len: 3): housing=True, day>=10, poutcome!=unknown<br>new extent (len: 45): 412, 2837, 2372, 233, 53,...<br>new_intent (len: 0): \\u2205<br>metric accuracy = 0.96<br>metric precision = 0.96<br>metric recall = 1.0<br>metric neg_precision = 0.0<br>metric neg_recall = 0.0<br>metric f1_score = 0.98<br>metric y_pred_mean = 1.0<br>metric y_true_mean = 0.9555555555555556<br>metric stab_min_bound = 0.9999955510716063<br>metric stab_max_bound = 0.9999961853027344<br>metric log_stab_min_bound = 17.77811069106361<br>metric log_stab_max_bound = 18.0<br>metric lstab_min_bound = 5.0<br>metric strongness = 0.12640449438202248<br>\", \"Concept 182<br><br>extent (len: 60): 4160, 4083, 1060, 4392, 1994,...<br>intent (len: 3): balance>=1000, age>=40, marital=married<br>new extent (len: 60): 4160, 4083, 1060, 4392, 1994,...<br>new_intent (len: 0): \\u2205<br>metric accuracy = 0.88<br>metric precision = 0.88<br>metric recall = 1.0<br>metric neg_precision = 0.0<br>metric neg_recall = 0.0<br>metric f1_score = 0.94<br>metric y_pred_mean = 1.0<br>metric y_true_mean = 0.8833333333333333<br>metric stab_min_bound = 0.9999999287459787<br>metric stab_max_bound = 0.9999999403953552<br>metric log_stab_min_bound = 23.742453321526085<br>metric log_stab_max_bound = 24.0<br>metric lstab_min_bound = 11.0<br>metric strongness = 0.10416666666666667<br>\", \"Concept 203<br><br>extent (len: 55): 4160, 4083, 1181, 53, 1060,...<br>intent (len: 3): poutcome!=unknown, campaign<2, marital=married<br>new extent (len: 22): 1181, 53, 1060, 941, 2251,...<br>new_intent (len: 0): \\u2205<br>metric accuracy = 0.95<br>metric precision = 0.95<br>metric recall = 1.0<br>metric neg_precision = 0.0<br>metric neg_recall = 0.0<br>metric f1_score = 0.97<br>metric y_pred_mean = 1.0<br>metric y_true_mean = 0.9454545454545454<br>metric stab_min_bound = 0.9999379812478537<br>metric stab_max_bound = 0.999969482421875<br>metric log_stab_min_bound = 13.976935976065688<br>metric log_stab_max_bound = 15.0<br>metric lstab_min_bound = 2.0<br>metric strongness = 0.22633744855967078<br>\", \"Concept 233<br><br>extent (len: 51): 1904, 412, 1915, 4083, 53,...<br>intent (len: 3): education=tertiary, day>=10, poutcome!=unknown<br>new extent (len: 51): 1904, 412, 1915, 4083, 53,...<br>new_intent (len: 0): \\u2205<br>metric accuracy = 0.88<br>metric precision = 0.88<br>metric recall = 1.0<br>metric neg_precision = 0.0<br>metric neg_recall = 0.0<br>metric f1_score = 0.94<br>metric y_pred_mean = 1.0<br>metric y_true_mean = 0.8823529411764706<br>metric stab_min_bound = 0.9999998955736356<br>metric stab_max_bound = 0.9999999403953552<br>metric log_stab_min_bound = 23.191010670201052<br>metric log_stab_max_bound = 24.0<br>metric lstab_min_bound = 11.0<br>metric strongness = 0.2712765957446808<br>\", \"Concept 297<br><br>extent (len: 39): 2837, 1085, 630, 517, 2748,...<br>intent (len: 4): duration>=900, housing=True, duration>=600, day>=10<br>new extent (len: 39): 2837, 1085, 630, 517, 2748,...<br>new_intent (len: 0): \\u2205<br>metric accuracy = 0.95<br>metric precision = 0.95<br>metric recall = 1.0<br>metric neg_precision = 0.0<br>metric neg_recall = 0.0<br>metric f1_score = 0.97<br>metric y_pred_mean = 1.0<br>metric y_true_mean = 0.9487179487179487<br>metric stab_min_bound = 0.9999971205834299<br>metric stab_max_bound = 0.9999980926513672<br>metric log_stab_min_bound = 18.405792048190914<br>metric log_stab_max_bound = 19.0<br>metric lstab_min_bound = 6.0<br>metric strongness = 0.5652173913043478<br>\", \"Concept 201<br><br>extent (len: 61): 4160, 2837, 3978, 4083, 1060,...<br>intent (len: 3): poutcome!=unknown, age>=40, marital=married<br>new extent (len: 28): 2837, 1060, 1905, 1186, 3843,...<br>new_intent (len: 0): \\u2205<br>metric accuracy = 0.9<br>metric precision = 0.9<br>metric recall = 1.0<br>metric neg_precision = 0.0<br>metric neg_recall = 0.0<br>metric f1_score = 0.95<br>metric y_pred_mean = 1.0<br>metric y_true_mean = 0.9016393442622951<br>metric stab_min_bound = 0.9999688845108725<br>metric stab_max_bound = 0.999969482421875<br>metric log_stab_min_bound = 14.972007549238263<br>metric log_stab_max_bound = 15.0<br>metric lstab_min_bound = 2.0<br>metric strongness = 0.21863799283154123<br>\", \"Concept 199<br><br>extent (len: 48): 1709, 2837, 1085, 53, 189,...<br>intent (len: 3): housing=True, day>=10, marital=married<br>new extent (len: 48): 1709, 2837, 1085, 53, 189,...<br>new_intent (len: 0): \\u2205<br>metric accuracy = 0.96<br>metric precision = 0.96<br>metric recall = 1.0<br>metric neg_precision = 0.0<br>metric neg_recall = 0.0<br>metric f1_score = 0.98<br>metric y_pred_mean = 1.0<br>metric y_true_mean = 0.9583333333333334<br>metric stab_min_bound = 0.9999960057825774<br>metric stab_max_bound = 0.9999961853027344<br>metric log_stab_min_bound = 17.93365570225318<br>metric log_stab_max_bound = 18.0<br>metric lstab_min_bound = 5.0<br>metric strongness = 0.0431266846361186<br>\", \"Concept 215<br><br>extent (len: 66): 4160, 2372, 233, 1181, 619,...<br>intent (len: 3): poutcome=success, day>=10, poutcome!=unknown<br>new extent (len: 28): 2372, 233, 619, 1048, 1905,...<br>new_intent (len: 0): \\u2205<br>metric accuracy = 0.88<br>metric precision = 0.88<br>metric recall = 1.0<br>metric neg_precision = 0.0<br>metric neg_recall = 0.0<br>metric f1_score = 0.94<br>metric y_pred_mean = 1.0<br>metric y_true_mean = 0.8787878787878788<br>metric stab_min_bound = 0.9999999794436005<br>metric stab_max_bound = 0.9999999850988388<br>metric log_stab_min_bound = 25.535837165747854<br>metric log_stab_max_bound = 26.0<br>metric lstab_min_bound = 13.0<br>metric strongness = 0.75<br>\", \"Concept 228<br><br>extent (len: 71): 412, 1915, 4160, 4083, 1181,...<br>intent (len: 3): day>=10, campaign<2, poutcome!=unknown<br>new extent (len: 7): 3502, 2653, 4089, 849, 2213,...<br>new_intent (len: 0): \\u2205<br>metric accuracy = 0.93<br>metric precision = 0.93<br>metric recall = 1.0<br>metric neg_precision = 0.0<br>metric neg_recall = 0.0<br>metric f1_score = 0.96<br>metric y_pred_mean = 1.0<br>metric y_true_mean = 0.9295774647887324<br>metric stab_min_bound = 0.9999999693825252<br>metric stab_max_bound = 0.9999999701976776<br>metric log_stab_min_bound = 24.961069459797496<br>metric log_stab_max_bound = 25.0<br>metric lstab_min_bound = 12.0<br>metric strongness = 0.24067796610169492<br>\", \"Concept 169<br><br>extent (len: 44): 412, 3614, 1899, 4083, 3789,...<br>intent (len: 3): education=tertiary, age>=40, day>=10<br>new extent (len: 44): 412, 3614, 1899, 4083, 3789,...<br>new_intent (len: 0): \\u2205<br>metric accuracy = 0.82<br>metric precision = 0.82<br>metric recall = 1.0<br>metric neg_precision = 0.0<br>metric neg_recall = 0.0<br>metric f1_score = 0.9<br>metric y_pred_mean = 1.0<br>metric y_true_mean = 0.8181818181818182<br>metric stab_min_bound = 0.9999955126550049<br>metric stab_max_bound = 0.9999961853027344<br>metric log_stab_min_bound = 17.765706464060596<br>metric log_stab_max_bound = 18.0<br>metric lstab_min_bound = 5.0<br>metric strongness = 0.11796246648793565<br>\", \"Concept 195<br><br>extent (len: 46): 2499, 4083, 53, 3789, 619,...<br>intent (len: 3): education=tertiary, day>=10, marital=married<br>new extent (len: 46): 2499, 4083, 53, 3789, 619,...<br>new_intent (len: 0): \\u2205<br>metric accuracy = 0.8<br>metric precision = 0.8<br>metric recall = 1.0<br>metric neg_precision = 0.0<br>metric neg_recall = 0.0<br>metric f1_score = 0.89<br>metric y_pred_mean = 1.0<br>metric y_true_mean = 0.8043478260869565<br>metric stab_min_bound = 0.9999994700770003<br>metric stab_max_bound = 0.9999995231628418<br>metric log_stab_min_bound = 20.847713919660666<br>metric log_stab_max_bound = 21.0<br>metric lstab_min_bound = 8.0<br>metric strongness = 0.09663865546218488<br>\", \"Concept 188<br><br>extent (len: 64): 4160, 4083, 2106, 1060, 1349,...<br>intent (len: 3): campaign<2, age>=40, marital=married<br>new extent (len: 31): 2106, 1060, 3789, 944, 2259,...<br>new_intent (len: 0): \\u2205<br>metric accuracy = 0.92<br>metric precision = 0.92<br>metric recall = 1.0<br>metric neg_precision = 0.0<br>metric neg_recall = 0.0<br>metric f1_score = 0.96<br>metric y_pred_mean = 1.0<br>metric y_true_mean = 0.921875<br>metric stab_min_bound = 0.9999980325805797<br>metric stab_max_bound = 0.9999980926513672<br>metric log_stab_min_bound = 18.95526402094111<br>metric log_stab_max_bound = 19.0<br>metric lstab_min_bound = 6.0<br>metric strongness = 0.10902896081771721<br>\", \"Concept 181<br><br>extent (len: 78): 2748, 4337, 2049, 4433, 3239,...<br>intent (len: 3): day>=10, age>=40, marital=married<br>new extent (len: 45): 1709, 2837, 2106, 189, 3789,...<br>new_intent (len: 0): \\u2205<br>metric accuracy = 0.9<br>metric precision = 0.9<br>metric recall = 1.0<br>metric neg_precision = 0.0<br>metric neg_recall = 0.0<br>metric f1_score = 0.95<br>metric y_pred_mean = 1.0<br>metric y_true_mean = 0.8974358974358975<br>metric stab_min_bound = 0.9999999996505229<br>metric stab_max_bound = 0.9999999997671694<br>metric log_stab_min_bound = 31.414082967444855<br>metric log_stab_max_bound = 32.0<br>metric lstab_min_bound = 19.0<br>metric strongness = 0.06933333333333333<br>\", \"Concept 179<br><br>extent (len: 39): 412, 53, 630, 2665, 1905,...<br>intent (len: 3): education=tertiary, housing=True, day>=10<br>new extent (len: 39): 412, 53, 630, 2665, 1905,...<br>new_intent (len: 0): \\u2205<br>metric accuracy = 0.92<br>metric precision = 0.92<br>metric recall = 1.0<br>metric neg_precision = 0.0<br>metric neg_recall = 0.0<br>metric f1_score = 0.96<br>metric y_pred_mean = 1.0<br>metric y_true_mean = 0.9230769230769231<br>metric stab_min_bound = 0.9999669112730771<br>metric stab_max_bound = 0.999969482421875<br>metric log_stab_min_bound = 14.883300688902848<br>metric log_stab_max_bound = 15.0<br>metric lstab_min_bound = 2.0<br>metric strongness = 0.08685968819599109<br>\", \"Concept 219<br><br>extent (len: 69): 412, 4160, 2837, 2372, 233,...<br>intent (len: 3): day>=10, age>=40, poutcome!=unknown<br>new extent (len: 36): 412, 2837, 2372, 233, 3889,...<br>new_intent (len: 0): \\u2205<br>metric accuracy = 0.93<br>metric precision = 0.93<br>metric recall = 1.0<br>metric neg_precision = 0.0<br>metric neg_recall = 0.0<br>metric f1_score = 0.96<br>metric y_pred_mean = 1.0<br>metric y_true_mean = 0.927536231884058<br>metric stab_min_bound = 0.999999761319216<br>metric stab_max_bound = 0.9999998807907104<br>metric log_stab_min_bound = 21.998414243189128<br>metric log_stab_max_bound = 23.0<br>metric lstab_min_bound = 10.0<br>metric strongness = 0.2536764705882353<br>\", \"Concept 185<br><br>extent (len: 53): 2499, 4160, 4083, 1181, 53,...<br>intent (len: 3): balance>=1000, day>=10, marital=married<br>new extent (len: 53): 4160, 2499, 4083, 1181, 53,...<br>new_intent (len: 0): \\u2205<br>metric accuracy = 0.92<br>metric precision = 0.92<br>metric recall = 1.0<br>metric neg_precision = 0.0<br>metric neg_recall = 0.0<br>metric f1_score = 0.96<br>metric y_pred_mean = 1.0<br>metric y_true_mean = 0.9245283018867925<br>metric stab_min_bound = 0.9999916505689725<br>metric stab_max_bound = 0.9999923706054688<br>metric log_stab_min_bound = 16.869890680939598<br>metric log_stab_max_bound = 17.0<br>metric lstab_min_bound = 4.0<br>metric strongness = 0.07898658718330849<br>\", \"Concept 282<br><br>extent (len: 39): 3614, 2033, 1899, 2106, 2837,...<br>intent (len: 4): duration>=900, duration>=600, age>=40, day>=10<br>new extent (len: 39): 3614, 1899, 2837, 2033, 2106,...<br>new_intent (len: 0): \\u2205<br>metric accuracy = 0.87<br>metric precision = 0.87<br>metric recall = 1.0<br>metric neg_precision = 0.0<br>metric neg_recall = 0.0<br>metric f1_score = 0.93<br>metric y_pred_mean = 1.0<br>metric y_true_mean = 0.8717948717948718<br>metric stab_min_bound = 0.9999978130217642<br>metric stab_max_bound = 0.9999980926513672<br>metric log_stab_min_bound = 18.802629706140173<br>metric log_stab_max_bound = 19.0<br>metric lstab_min_bound = 6.0<br>metric strongness = 0.6724137931034483<br>\", \"Concept 223<br><br>extent (len: 58): 412, 1915, 4160, 2372, 1181,...<br>intent (len: 3): balance>=1000, day>=10, poutcome!=unknown<br>new extent (len: 19): 2372, 619, 1048, 3658, 202,...<br>new_intent (len: 0): \\u2205<br>metric accuracy = 0.95<br>metric precision = 0.95<br>metric recall = 1.0<br>metric neg_precision = 0.0<br>metric neg_recall = 0.0<br>metric f1_score = 0.97<br>metric y_pred_mean = 1.0<br>metric y_true_mean = 0.9482758620689655<br>metric stab_min_bound = 0.9999980013490095<br>metric stab_max_bound = 0.9999980926513672<br>metric log_stab_min_bound = 18.932542002321092<br>metric log_stab_max_bound = 19.0<br>metric lstab_min_bound = 6.0<br>metric strongness = 0.2761904761904762<br>\", \"Concept 85<br><br>extent (len: 74): 412, 1415, 4160, 1899, 4083,...<br>intent (len: 3): campaign<2, age>=40, day>=10<br>new extent (len: 41): 412, 1415, 1899, 2106, 3789,...<br>new_intent (len: 0): \\u2205<br>metric accuracy = 0.92<br>metric precision = 0.92<br>metric recall = 1.0<br>metric neg_precision = 0.0<br>metric neg_recall = 0.0<br>metric f1_score = 0.96<br>metric y_pred_mean = 1.0<br>metric y_true_mean = 0.918918918918919<br>metric stab_min_bound = 0.9999999944047734<br>metric stab_max_bound = 0.9999999962747097<br>metric log_stab_min_bound = 27.41315629021286<br>metric log_stab_max_bound = 28.0<br>metric lstab_min_bound = 15.0<br>metric strongness = 0.1383177570093458<br>\", \"Concept 120<br><br>extent (len: 46): 2837, 2106, 1349, 3690, 2748,...<br>intent (len: 3): duration>=600, age>=40, marital=married<br>new extent (len: 46): 2837, 2106, 1349, 2748, 1994,...<br>new_intent (len: 0): \\u2205<br>metric accuracy = 0.91<br>metric precision = 0.91<br>metric recall = 1.0<br>metric neg_precision = 0.0<br>metric neg_recall = 0.0<br>metric f1_score = 0.95<br>metric y_pred_mean = 1.0<br>metric y_true_mean = 0.9130434782608695<br>metric stab_min_bound = 0.9999846134742256<br>metric stab_max_bound = 0.9999847412109375<br>metric log_stab_min_bound = 15.987972961673382<br>metric log_stab_max_bound = 16.0<br>metric lstab_min_bound = 3.0<br>metric strongness = 0.32167832167832167<br>\", \"Concept 172<br><br>extent (len: 50): 412, 1709, 2837, 2372, 233,...<br>intent (len: 3): housing=True, age>=40, day>=10<br>new extent (len: 50): 412, 1709, 2837, 2372, 233,...<br>new_intent (len: 0): \\u2205<br>metric accuracy = 0.96<br>metric precision = 0.96<br>metric recall = 1.0<br>metric neg_precision = 0.0<br>metric neg_recall = 0.0<br>metric f1_score = 0.98<br>metric y_pred_mean = 1.0<br>metric y_true_mean = 0.96<br>metric stab_min_bound = 0.9999979063723003<br>metric stab_max_bound = 0.9999980926513672<br>metric log_stab_min_bound = 18.865563652184914<br>metric log_stab_max_bound = 19.0<br>metric lstab_min_bound = 6.0<br>metric strongness = 0.06493506493506493<br>\", \"Concept 114<br><br>extent (len: 53): 1914, 3614, 1899, 630, 2633,...<br>intent (len: 3): education=tertiary, duration>=600, day>=10<br>new extent (len: 53): 1914, 3614, 1899, 630, 2633,...<br>new_intent (len: 0): \\u2205<br>metric accuracy = 0.91<br>metric precision = 0.91<br>metric recall = 1.0<br>metric neg_precision = 0.0<br>metric neg_recall = 0.0<br>metric f1_score = 0.95<br>metric y_pred_mean = 1.0<br>metric y_true_mean = 0.9056603773584906<br>metric stab_min_bound = 0.9999999969271585<br>metric stab_max_bound = 0.9999999981373549<br>metric log_stab_min_bound = 28.277779483410665<br>metric log_stab_max_bound = 29.0<br>metric lstab_min_bound = 16.0<br>metric strongness = 0.5463917525773195<br>\", \"Concept 143<br><br>extent (len: 46): 412, 1915, 1181, 2665, 3027,...<br>intent (len: 3): duration<300, day>=10, campaign<2<br>new extent (len: 46): 412, 1915, 1181, 2665, 3027,...<br>new_intent (len: 0): \\u2205<br>metric accuracy = 0.87<br>metric precision = 0.87<br>metric recall = 1.0<br>metric neg_precision = 0.0<br>metric neg_recall = 0.0<br>metric f1_score = 0.93<br>metric y_pred_mean = 1.0<br>metric y_true_mean = 0.8695652173913043<br>metric stab_min_bound = 0.9999806857595104<br>metric stab_max_bound = 0.9999923706054688<br>metric log_stab_min_bound = 15.659975528081144<br>metric log_stab_max_bound = 17.0<br>metric lstab_min_bound = 4.0<br>metric strongness = 0.05815423514538559<br>\", \"Concept 60<br><br>extent (len: 92): 2049, 2251, 4433, 880, 3589,...<br>intent (len: 2): poutcome=success, poutcome!=unknown<br>new extent (len: 1): 684<br>new_intent (len: 1): poutcome=success<br>metric accuracy = 0.89<br>metric precision = 0.89<br>metric recall = 1.0<br>metric neg_precision = 0.0<br>metric neg_recall = 0.0<br>metric f1_score = 0.94<br>metric y_pred_mean = 1.0<br>metric y_true_mean = 0.8913043478260869<br>metric stab_min_bound = 0.9999999848622538<br>metric stab_max_bound = 0.9999999850988388<br>metric log_stab_min_bound = 25.977274338105417<br>metric log_stab_max_bound = 26.0<br>metric lstab_min_bound = 13.0<br>metric strongness = 0.7131782945736435<br>\", \"Concept 78<br><br>extent (len: 55): 412, 1915, 2499, 1899, 3978,...<br>intent (len: 3): balance>=1000, education=tertiary, day>=10<br>new extent (len: 55): 412, 1915, 2499, 1899, 4083,...<br>new_intent (len: 0): \\u2205<br>metric accuracy = 0.87<br>metric precision = 0.87<br>metric recall = 1.0<br>metric neg_precision = 0.0<br>metric neg_recall = 0.0<br>metric f1_score = 0.93<br>metric y_pred_mean = 1.0<br>metric y_true_mean = 0.8727272727272727<br>metric stab_min_bound = 0.9999999968422202<br>metric stab_max_bound = 0.9999999981373549<br>metric log_stab_min_bound = 28.238442275026923<br>metric log_stab_max_bound = 29.0<br>metric lstab_min_bound = 16.0<br>metric strongness = 0.15406162464985995<br>\", \"Concept 165<br><br>extent (len: 48): 1904, 412, 1915, 1181, 619,...<br>intent (len: 3): day>=10, duration<300, poutcome!=unknown<br>new extent (len: 48): 1904, 412, 1915, 1181, 619,...<br>new_intent (len: 0): \\u2205<br>metric accuracy = 0.94<br>metric precision = 0.94<br>metric recall = 1.0<br>metric neg_precision = 0.0<br>metric neg_recall = 0.0<br>metric f1_score = 0.97<br>metric y_pred_mean = 1.0<br>metric y_true_mean = 0.9375<br>metric stab_min_bound = 0.9999939202680252<br>metric stab_max_bound = 0.9999980926513672<br>metric log_stab_min_bound = 17.327560845527216<br>metric log_stab_max_bound = 19.0<br>metric lstab_min_bound = 6.0<br>metric strongness = 0.12<br>\", \"Concept 174<br><br>extent (len: 41): 412, 1085, 53, 80, 2665,...<br>intent (len: 3): housing=True, campaign<2, day>=10<br>new extent (len: 41): 412, 1085, 53, 4328, 2665,...<br>new_intent (len: 0): \\u2205<br>metric accuracy = 1.0<br>metric precision = 1.0<br>metric recall = 1.0<br>metric neg_precision = 0.0<br>metric neg_recall = 0.0<br>metric f1_score = 1.0<br>metric y_pred_mean = 1.0<br>metric y_true_mean = 1.0<br>metric stab_min_bound = 0.9999908502213657<br>metric stab_max_bound = 0.9999961853027344<br>metric log_stab_min_bound = 16.73783172942987<br>metric log_stab_max_bound = 18.0<br>metric lstab_min_bound = 5.0<br>metric strongness = 0.060294117647058824<br>\", \"Concept 58<br><br>extent (len: 66): 1709, 2837, 1085, 53, 189,...<br>intent (len: 2): housing=True, marital=married<br>new extent (len: 18): 2962, 38, 2655, 886, 2143,...<br>new_intent (len: 0): \\u2205<br>metric accuracy = 0.95<br>metric precision = 0.95<br>metric recall = 1.0<br>metric neg_precision = 0.0<br>metric neg_recall = 0.0<br>metric f1_score = 0.98<br>metric y_pred_mean = 1.0<br>metric y_true_mean = 0.9545454545454546<br>metric stab_min_bound = 0.9999961823335743<br>metric stab_max_bound = 0.9999961853027344<br>metric log_stab_min_bound = 17.998877518724544<br>metric log_stab_max_bound = 18.0<br>metric lstab_min_bound = 5.0<br>metric strongness = 0.04266321913380737<br>\", \"Concept 82<br><br>extent (len: 44): 412, 2372, 53, 517, 1994,...<br>intent (len: 3): balance>=1000, housing=True, day>=10<br>new extent (len: 17): 412, 3301, 1704, 49, 53,...<br>new_intent (len: 0): \\u2205<br>metric accuracy = 0.95<br>metric precision = 0.95<br>metric recall = 1.0<br>metric neg_precision = 0.0<br>metric neg_recall = 0.0<br>metric f1_score = 0.98<br>metric y_pred_mean = 1.0<br>metric y_true_mean = 0.9545454545454546<br>metric stab_min_bound = 0.9999897476518527<br>metric stab_max_bound = 0.9999923706054688<br>metric log_stab_min_bound = 16.573686099092825<br>metric log_stab_max_bound = 17.0<br>metric lstab_min_bound = 4.0<br>metric strongness = 0.07394957983193277<br>\", \"Concept 107<br><br>extent (len: 75): 1914, 3614, 2033, 1085, 1899,...<br>intent (len: 3): duration>=900, duration>=600, day>=10<br>new extent (len: 17): 1914, 2375, 1459, 2985, 509,...<br>new_intent (len: 0): \\u2205<br>metric accuracy = 0.87<br>metric precision = 0.87<br>metric recall = 1.0<br>metric neg_precision = 0.0<br>metric neg_recall = 0.0<br>metric f1_score = 0.93<br>metric y_pred_mean = 1.0<br>metric y_true_mean = 0.8666666666666667<br>metric stab_min_bound = 0.9999999999708675<br>metric stab_max_bound = 0.9999999999854481<br>metric log_stab_min_bound = 34.998580809497874<br>metric log_stab_max_bound = 36.0<br>metric lstab_min_bound = 23.0<br>metric strongness = 0.6521739130434783<br>\", \"Concept 53<br><br>extent (len: 81): 2049, 3589, 3331, 3239, 1826,...<br>intent (len: 2): balance>=1000, marital=married<br>new extent (len: 4): 323, 38, 4215, 2143<br>new_intent (len: 0): \\u2205<br>metric accuracy = 0.91<br>metric precision = 0.91<br>metric recall = 1.0<br>metric neg_precision = 0.0<br>metric neg_recall = 0.0<br>metric f1_score = 0.95<br>metric y_pred_mean = 1.0<br>metric y_true_mean = 0.9135802469135802<br>metric stab_min_bound = 0.9999995194193305<br>metric stab_max_bound = 0.9999995231628418<br>metric log_stab_min_bound = 20.988718044465177<br>metric log_stab_max_bound = 21.0<br>metric lstab_min_bound = 8.0<br>metric strongness = 0.09060402684563758<br>\", \"Concept 118<br><br>extent (len: 75): 2826, 1085, 233, 630, 517,...<br>intent (len: 3): housing=True, duration>=600, day>=10<br>new extent (len: 22): 233, 80, 4263, 1886, 3843,...<br>new_intent (len: 0): \\u2205<br>metric accuracy = 0.93<br>metric precision = 0.93<br>metric recall = 1.0<br>metric neg_precision = 0.0<br>metric neg_recall = 0.0<br>metric f1_score = 0.97<br>metric y_pred_mean = 1.0<br>metric y_true_mean = 0.9333333333333333<br>metric stab_min_bound = 0.9999999999853587<br>metric stab_max_bound = 0.9999999999854481<br>metric log_stab_min_bound = 35.99116655217406<br>metric log_stab_max_bound = 36.0<br>metric lstab_min_bound = 23.0<br>metric strongness = 0.39893617021276595<br>\", \"Concept 73<br><br>extent (len: 58): 412, 1915, 4160, 1899, 4083,...<br>intent (len: 3): balance>=1000, campaign<2, day>=10<br>new extent (len: 19): 1899, 4217, 2697, 1113, 3881,...<br>new_intent (len: 0): \\u2205<br>metric accuracy = 0.91<br>metric precision = 0.91<br>metric recall = 1.0<br>metric neg_precision = 0.0<br>metric neg_recall = 0.0<br>metric f1_score = 0.95<br>metric y_pred_mean = 1.0<br>metric y_true_mean = 0.9137931034482759<br>metric stab_min_bound = 0.9999976063772351<br>metric stab_max_bound = 0.9999980926513672<br>metric log_stab_min_bound = 18.67237276796744<br>metric log_stab_max_bound = 19.0<br>metric lstab_min_bound = 6.0<br>metric strongness = 0.13842482100238662<br>\", \"Concept 61<br><br>extent (len: 87): 4337, 2049, 3930, 4433, 3331,...<br>intent (len: 2): age>=40, poutcome!=unknown<br>new extent (len: 3): 4447, 1729, 2917<br>new_intent (len: 0): \\u2205<br>metric accuracy = 0.92<br>metric precision = 0.92<br>metric recall = 1.0<br>metric neg_precision = 0.0<br>metric neg_recall = 0.0<br>metric f1_score = 0.96<br>metric y_pred_mean = 1.0<br>metric y_true_mean = 0.9195402298850575<br>metric stab_min_bound = 0.9999961701646497<br>metric stab_max_bound = 0.9999961853027344<br>metric log_stab_min_bound = 17.99428619921366<br>metric log_stab_max_bound = 18.0<br>metric lstab_min_bound = 5.0<br>metric strongness = 0.22538860103626943<br>\", \"Concept 56<br><br>extent (len: 123): 2748, 4337, 2049, 4263, 3160,...<br>intent (len: 2): day>=10, marital=married<br>new extent (len: 0): \\u2205<br>new_intent (len: 0): \\u2205<br>metric accuracy = 0.89<br>metric precision = 0.89<br>metric recall = 1.0<br>metric neg_precision = 0.0<br>metric neg_recall = 0.0<br>metric f1_score = 0.94<br>metric y_pred_mean = 1.0<br>metric y_true_mean = 0.8943089430894309<br>metric stab_min_bound = 0.9999999999999716<br>metric stab_max_bound = 0.9999999999999716<br>metric log_stab_min_bound = 45.0<br>metric log_stab_max_bound = 45.0<br>metric lstab_min_bound = 32.0<br>metric strongness = 0.06456692913385827<br>\", \"Concept 44<br><br>extent (len: 58): 412, 3614, 1899, 4083, 1060,...<br>intent (len: 2): education=tertiary, age>=40<br>new extent (len: 14): 477, 2962, 1142, 634, 1060,...<br>new_intent (len: 0): \\u2205<br>metric accuracy = 0.86<br>metric precision = 0.86<br>metric recall = 1.0<br>metric neg_precision = 0.0<br>metric neg_recall = 0.0<br>metric f1_score = 0.93<br>metric y_pred_mean = 1.0<br>metric y_true_mean = 0.8620689655172413<br>metric stab_min_bound = 0.9999384784291561<br>metric stab_max_bound = 0.99993896484375<br>metric log_stab_min_bound = 13.988548134013785<br>metric log_stab_max_bound = 14.0<br>metric lstab_min_bound = 1.0<br>metric strongness = 0.10681399631675875<br>\", \"Concept 71<br><br>extent (len: 53): 412, 4160, 1899, 4083, 4388,...<br>intent (len: 3): balance>=1000, campaign<2, age>=40<br>new extent (len: 53): 412, 4160, 1899, 4083, 3978,...<br>new_intent (len: 0): \\u2205<br>metric accuracy = 0.92<br>metric precision = 0.92<br>metric recall = 1.0<br>metric neg_precision = 0.0<br>metric neg_recall = 0.0<br>metric f1_score = 0.96<br>metric y_pred_mean = 1.0<br>metric y_true_mean = 0.9245283018867925<br>metric stab_min_bound = 0.9999836643964954<br>metric stab_max_bound = 0.9999847412109375<br>metric log_stab_min_bound = 15.901620719572081<br>metric log_stab_max_bound = 16.0<br>metric lstab_min_bound = 3.0<br>metric strongness = 0.1760797342192691<br>\", \"Concept 54<br><br>extent (len: 86): 4337, 2049, 2251, 3160, 4089,...<br>intent (len: 2): campaign<2, marital=married<br>new extent (len: 7): 3160, 1085, 4217, 3367, 2750,...<br>new_intent (len: 0): \\u2205<br>metric accuracy = 0.92<br>metric precision = 0.92<br>metric recall = 1.0<br>metric neg_precision = 0.0<br>metric neg_recall = 0.0<br>metric f1_score = 0.96<br>metric y_pred_mean = 1.0<br>metric y_true_mean = 0.9186046511627907<br>metric stab_min_bound = 0.9999997573903555<br>metric stab_max_bound = 0.9999997615814209<br>metric log_stab_min_bound = 21.974859761014482<br>metric log_stab_max_bound = 22.0<br>metric lstab_min_bound = 9.0<br>metric strongness = 0.08557213930348259<br>\", \"Concept 70<br><br>extent (len: 67): 412, 4160, 1672, 1899, 2372,...<br>intent (len: 3): balance>=1000, age>=40, day>=10<br>new extent (len: 67): 412, 4160, 1899, 1672, 2372,...<br>new_intent (len: 0): \\u2205<br>metric accuracy = 0.91<br>metric precision = 0.91<br>metric recall = 1.0<br>metric neg_precision = 0.0<br>metric neg_recall = 0.0<br>metric f1_score = 0.95<br>metric y_pred_mean = 1.0<br>metric y_true_mean = 0.9104477611940298<br>metric stab_min_bound = 0.99999999848478<br>metric stab_max_bound = 0.9999999990686774<br>metric log_stab_min_bound = 29.29782562330066<br>metric log_stab_max_bound = 30.0<br>metric lstab_min_bound = 17.0<br>metric strongness = 0.11631944444444445<br>\", \"Concept 91<br><br>extent (len: 66): 3614, 2033, 1899, 233, 2106,...<br>intent (len: 3): duration>=600, age>=40, day>=10<br>new extent (len: 27): 2372, 233, 1349, 3889, 1994,...<br>new_intent (len: 0): \\u2205<br>metric accuracy = 0.89<br>metric precision = 0.89<br>metric recall = 1.0<br>metric neg_precision = 0.0<br>metric neg_recall = 0.0<br>metric f1_score = 0.94<br>metric y_pred_mean = 1.0<br>metric y_true_mean = 0.8939393939393939<br>metric stab_min_bound = 0.9999999925051879<br>metric stab_max_bound = 0.9999999925494194<br>metric log_stab_min_bound = 26.991460543876705<br>metric log_stab_max_bound = 27.0<br>metric lstab_min_bound = 14.0<br>metric strongness = 0.42038216560509556<br>\", \"Concept 100<br><br>extent (len: 41): 1899, 1085, 2106, 1349, 3690,...<br>intent (len: 3): campaign<2, duration>=600, day>=10<br>new extent (len: 41): 1899, 1085, 2106, 1349, 3889,...<br>new_intent (len: 0): \\u2205<br>metric accuracy = 0.95<br>metric precision = 0.95<br>metric recall = 1.0<br>metric neg_precision = 0.0<br>metric neg_recall = 0.0<br>metric f1_score = 0.98<br>metric y_pred_mean = 1.0<br>metric y_true_mean = 0.9512195121951219<br>metric stab_min_bound = 0.9999951752834022<br>metric stab_max_bound = 0.9999961853027344<br>metric log_stab_min_bound = 17.661124367868435<br>metric log_stab_max_bound = 18.0<br>metric lstab_min_bound = 5.0<br>metric strongness = 0.35964912280701755<br>\", \"Concept 67<br><br>extent (len: 62): 412, 2837, 2372, 233, 53,...<br>intent (len: 2): housing=True, poutcome!=unknown<br>new extent (len: 17): 38, 3141, 2143, 4447, 3331,...<br>new_intent (len: 0): \\u2205<br>metric accuracy = 0.95<br>metric precision = 0.95<br>metric recall = 1.0<br>metric neg_precision = 0.0<br>metric neg_recall = 0.0<br>metric f1_score = 0.98<br>metric y_pred_mean = 1.0<br>metric y_true_mean = 0.9516129032258065<br>metric stab_min_bound = 0.9999923639086319<br>metric stab_max_bound = 0.9999923706054688<br>metric log_stab_min_bound = 16.998734204202194<br>metric log_stab_max_bound = 17.0<br>metric lstab_min_bound = 4.0<br>metric strongness = 0.12109375<br>\", \"Concept 63<br><br>extent (len: 93): 1915, 4337, 2049, 3527, 3930,...<br>intent (len: 2): campaign<2, poutcome!=unknown<br>new extent (len: 3): 1729, 1698, 3141<br>new_intent (len: 0): \\u2205<br>metric accuracy = 0.94<br>metric precision = 0.94<br>metric recall = 1.0<br>metric neg_precision = 0.0<br>metric neg_recall = 0.0<br>metric f1_score = 0.97<br>metric y_pred_mean = 1.0<br>metric y_true_mean = 0.9354838709677419<br>metric stab_min_bound = 0.9999997615722691<br>metric stab_max_bound = 0.9999997615814209<br>metric log_stab_min_bound = 21.999944622649256<br>metric log_stab_max_bound = 22.0<br>metric lstab_min_bound = 9.0<br>metric strongness = 0.21933962264150944<br>\", \"Concept 57<br><br>extent (len: 64): 2499, 4083, 53, 1060, 3789,...<br>intent (len: 2): education=tertiary, marital=married<br>new extent (len: 18): 477, 2962, 2143, 1060, 1206,...<br>new_intent (len: 0): \\u2205<br>metric accuracy = 0.86<br>metric precision = 0.86<br>metric recall = 1.0<br>metric neg_precision = 0.0<br>metric neg_recall = 0.0<br>metric f1_score = 0.92<br>metric y_pred_mean = 1.0<br>metric y_true_mean = 0.859375<br>metric stab_min_bound = 0.9999961841270988<br>metric stab_max_bound = 0.9999961853027344<br>metric log_stab_min_bound = 17.999555450350286<br>metric log_stab_max_bound = 18.0<br>metric lstab_min_bound = 5.0<br>metric strongness = 0.09315866084425037<br>\", \"Concept 124<br><br>extent (len: 51): 2837, 1085, 2106, 517, 1349,...<br>intent (len: 3): day>=10, duration>=600, marital=married<br>new extent (len: 51): 2837, 1085, 2106, 328, 517,...<br>new_intent (len: 0): \\u2205<br>metric accuracy = 0.9<br>metric precision = 0.9<br>metric recall = 1.0<br>metric neg_precision = 0.0<br>metric neg_recall = 0.0<br>metric f1_score = 0.95<br>metric y_pred_mean = 1.0<br>metric y_true_mean = 0.9019607843137255<br>metric stab_min_bound = 0.999998569342992<br>metric stab_max_bound = 0.9999995231628418<br>metric log_stab_min_bound = 19.414890733883695<br>metric log_stab_max_bound = 21.0<br>metric lstab_min_bound = 8.0<br>metric strongness = 0.2833333333333333<br>\", \"Concept 89<br><br>extent (len: 43): 412, 1915, 1899, 4083, 53,...<br>intent (len: 3): education=tertiary, campaign<2, day>=10<br>new extent (len: 43): 412, 1915, 1899, 4083, 53,...<br>new_intent (len: 0): \\u2205<br>metric accuracy = 0.84<br>metric precision = 0.84<br>metric recall = 1.0<br>metric neg_precision = 0.0<br>metric neg_recall = 0.0<br>metric f1_score = 0.91<br>metric y_pred_mean = 1.0<br>metric y_true_mean = 0.8372093023255814<br>metric stab_min_bound = 0.9999922010974842<br>metric stab_max_bound = 0.9999961853027344<br>metric log_stab_min_bound = 16.968297451302<br>metric log_stab_max_bound = 18.0<br>metric lstab_min_bound = 5.0<br>metric strongness = 0.13190184049079753<br>\", \"Concept 59<br><br>extent (len: 95): 4337, 2049, 2251, 4433, 4089,...<br>intent (len: 2): poutcome!=unknown, marital=married<br>new extent (len: 2): 2332, 2143<br>new_intent (len: 0): \\u2205<br>metric accuracy = 0.93<br>metric precision = 0.93<br>metric recall = 1.0<br>metric neg_precision = 0.0<br>metric neg_recall = 0.0<br>metric f1_score = 0.96<br>metric y_pred_mean = 1.0<br>metric y_true_mean = 0.9263157894736842<br>metric stab_min_bound = 0.9999999924611975<br>metric stab_max_bound = 0.9999999925494194<br>metric log_stab_min_bound = 26.983017482496297<br>metric log_stab_max_bound = 27.0<br>metric lstab_min_bound = 14.0<br>metric strongness = 0.19427402862985685<br>\", \"Concept 95<br><br>extent (len: 46): 1899, 2372, 517, 2633, 3889,...<br>intent (len: 3): balance>=1000, duration>=600, day>=10<br>new extent (len: 19): 1899, 2633, 3889, 2140, 1611,...<br>new_intent (len: 0): \\u2205<br>metric accuracy = 0.96<br>metric precision = 0.96<br>metric recall = 1.0<br>metric neg_precision = 0.0<br>metric neg_recall = 0.0<br>metric f1_score = 0.98<br>metric y_pred_mean = 1.0<br>metric y_true_mean = 0.9565217391304348<br>metric stab_min_bound = 0.9999975773898768<br>metric stab_max_bound = 0.9999980926513672<br>metric log_stab_min_bound = 18.655006322445796<br>metric log_stab_max_bound = 19.0<br>metric lstab_min_bound = 6.0<br>metric strongness = 0.41818181818181815<br>\", \"Concept 65<br><br>extent (len: 124): 1904, 1915, 4337, 2049, 3527,...<br>intent (len: 2): day>=10, poutcome!=unknown<br>new extent (len: 0): \\u2205<br>new_intent (len: 0): \\u2205<br>metric accuracy = 0.93<br>metric precision = 0.93<br>metric recall = 1.0<br>metric neg_precision = 0.0<br>metric neg_recall = 0.0<br>metric f1_score = 0.96<br>metric y_pred_mean = 1.0<br>metric y_true_mean = 0.9274193548387096<br>metric stab_min_bound = 0.9999999999999999<br>metric stab_max_bound = 0.9999999999999999<br>metric log_stab_min_bound = 53.0<br>metric log_stab_max_bound = 53.0<br>metric lstab_min_bound = 40.0<br>metric strongness = 0.21869488536155202<br>\", \"Concept 47<br><br>extent (len: 67): 412, 1709, 2837, 2372, 233,...<br>intent (len: 2): housing=True, age>=40<br>new extent (len: 17): 2962, 1454, 2655, 886, 1917,...<br>new_intent (len: 0): \\u2205<br>metric accuracy = 0.96<br>metric precision = 0.96<br>metric recall = 1.0<br>metric neg_precision = 0.0<br>metric neg_recall = 0.0<br>metric f1_score = 0.98<br>metric y_pred_mean = 1.0<br>metric y_true_mean = 0.9552238805970149<br>metric stab_min_bound = 0.9999923658288004<br>metric stab_max_bound = 0.9999923706054688<br>metric log_stab_min_bound = 16.999097029337616<br>metric log_stab_max_bound = 17.0<br>metric lstab_min_bound = 4.0<br>metric strongness = 0.0614115490375802<br>\", \"Concept 48<br><br>extent (len: 55): 412, 1085, 53, 80, 2665,...<br>intent (len: 2): housing=True, campaign<2<br>new extent (len: 14): 2962, 38, 3141, 1917, 756,...<br>new_intent (len: 0): \\u2205<br>metric accuracy = 1.0<br>metric precision = 1.0<br>metric recall = 1.0<br>metric neg_precision = 0.0<br>metric neg_recall = 0.0<br>metric f1_score = 1.0<br>metric y_pred_mean = 1.0<br>metric y_true_mean = 1.0<br>metric stab_min_bound = 0.9999388260330306<br>metric stab_max_bound = 0.99993896484375<br>metric log_stab_min_bound = 13.996722640384048<br>metric log_stab_max_bound = 14.0<br>metric lstab_min_bound = 1.0<br>metric strongness = 0.055780933062880324<br>\", \"Concept 43<br><br>extent (len: 64): 1904, 412, 1915, 1181, 619,...<br>intent (len: 2): duration<300, poutcome!=unknown<br>new extent (len: 2): 1698, 2143<br>new_intent (len: 0): \\u2205<br>metric accuracy = 0.94<br>metric precision = 0.94<br>metric recall = 1.0<br>metric neg_precision = 0.0<br>metric neg_recall = 0.0<br>metric f1_score = 0.97<br>metric y_pred_mean = 1.0<br>metric y_true_mean = 0.9375<br>metric stab_min_bound = 0.9999842265969505<br>metric stab_max_bound = 0.9999847412109375<br>metric log_stab_min_bound = 15.952146524964043<br>metric log_stab_max_bound = 16.0<br>metric lstab_min_bound = 3.0<br>metric strongness = 0.11247803163444639<br>\", \"Concept 50<br><br>extent (len: 107): 2748, 80, 295, 4263, 3527,...<br>intent (len: 2): housing=True, day>=10<br>new extent (len: 0): \\u2205<br>new_intent (len: 0): \\u2205<br>metric accuracy = 0.94<br>metric precision = 0.94<br>metric recall = 1.0<br>metric neg_precision = 0.0<br>metric neg_recall = 0.0<br>metric f1_score = 0.97<br>metric y_pred_mean = 1.0<br>metric y_true_mean = 0.9439252336448598<br>metric stab_min_bound = 0.9999999997671694<br>metric stab_max_bound = 0.9999999997671694<br>metric log_stab_min_bound = 32.0<br>metric log_stab_max_bound = 32.0<br>metric lstab_min_bound = 19.0<br>metric strongness = 0.06083001705514497<br>\", \"Concept 62<br><br>extent (len: 76): 412, 1915, 4160, 2372, 1181,...<br>intent (len: 2): balance>=1000, poutcome!=unknown<br>new extent (len: 18): 477, 1312, 38, 2143, 1056,...<br>new_intent (len: 0): \\u2205<br>metric accuracy = 0.95<br>metric precision = 0.95<br>metric recall = 1.0<br>metric neg_precision = 0.0<br>metric neg_recall = 0.0<br>metric f1_score = 0.97<br>metric y_pred_mean = 1.0<br>metric y_true_mean = 0.9473684210526315<br>metric stab_min_bound = 0.9999961763951326<br>metric stab_max_bound = 0.9999961853027344<br>metric log_stab_min_bound = 17.99663512689136<br>metric log_stab_max_bound = 18.0<br>metric lstab_min_bound = 5.0<br>metric strongness = 0.2550335570469799<br>\", \"Concept 36<br><br>extent (len: 56): 412, 1915, 4388, 1181, 4392,...<br>intent (len: 2): balance>=1000, duration<300<br>new extent (len: 56): 412, 1915, 3978, 1181, 4392,...<br>new_intent (len: 0): \\u2205<br>metric accuracy = 0.89<br>metric precision = 0.89<br>metric recall = 1.0<br>metric neg_precision = 0.0<br>metric neg_recall = 0.0<br>metric f1_score = 0.94<br>metric y_pred_mean = 1.0<br>metric y_true_mean = 0.8928571428571429<br>metric stab_min_bound = 0.9999589910712245<br>metric stab_max_bound = 0.999969482421875<br>metric log_stab_min_bound = 14.573702415983199<br>metric log_stab_max_bound = 15.0<br>metric lstab_min_bound = 2.0<br>metric strongness = 0.056112224448897796<br>\", \"Concept 10<br><br>extent (len: 181): 2748, 4337, 2049, 4263, 2251,...<br>intent (len: 1): marital=married<br>new extent (len: 1): 1872<br>new_intent (len: 1): marital=married<br>metric accuracy = 0.91<br>metric precision = 0.91<br>metric recall = 1.0<br>metric neg_precision = 0.0<br>metric neg_recall = 0.0<br>metric f1_score = 0.95<br>metric y_pred_mean = 1.0<br>metric y_true_mean = 0.9060773480662984<br>metric stab_min_bound = 1.0<br>metric stab_max_bound = 1.0<br>metric log_stab_min_bound = inf<br>metric log_stab_max_bound = inf<br>metric lstab_min_bound = 45.0<br>metric strongness = 0.06766355140186917<br>\", \"Concept 2<br><br>extent (len: 161): 1915, 1672, 4388, 2049, 3527,...<br>intent (len: 1): balance>=1000<br>new extent (len: 0): \\u2205<br>new_intent (len: 1): balance>=1000<br>metric accuracy = 0.91<br>metric precision = 0.91<br>metric recall = 1.0<br>metric neg_precision = 0.0<br>metric neg_recall = 0.0<br>metric f1_score = 0.95<br>metric y_pred_mean = 1.0<br>metric y_true_mean = 0.9130434782608695<br>metric stab_min_bound = 0.9999999999998863<br>metric stab_max_bound = 0.9999999999998863<br>metric log_stab_min_bound = 43.0<br>metric log_stab_max_bound = 43.0<br>metric lstab_min_bound = 30.0<br>metric strongness = 0.11282410651716888<br>\", \"Concept 6<br><br>extent (len: 175): 2748, 80, 295, 1638, 4263,...<br>intent (len: 1): duration>=600<br>new extent (len: 2): 1269, 2073<br>new_intent (len: 1): duration>=600<br>metric accuracy = 0.9<br>metric precision = 0.9<br>metric recall = 1.0<br>metric neg_precision = 0.0<br>metric neg_recall = 0.0<br>metric f1_score = 0.95<br>metric y_pred_mean = 1.0<br>metric y_true_mean = 0.9028571428571428<br>metric stab_min_bound = 0.9999999999854481<br>metric stab_max_bound = 0.9999999999854481<br>metric log_stab_min_bound = 36.0<br>metric log_stab_max_bound = 36.0<br>metric lstab_min_bound = 23.0<br>metric strongness = 0.4156769596199525<br>\", \"Concept 42<br><br>extent (len: 54): 1709, 1181, 4392, 619, 3027,...<br>intent (len: 2): duration<300, marital=married<br>new extent (len: 54): 1709, 1181, 4392, 619, 3027,...<br>new_intent (len: 0): \\u2205<br>metric accuracy = 0.93<br>metric precision = 0.93<br>metric recall = 1.0<br>metric neg_precision = 0.0<br>metric neg_recall = 0.0<br>metric f1_score = 0.96<br>metric y_pred_mean = 1.0<br>metric y_true_mean = 0.9259259259259259<br>metric stab_min_bound = 0.9999709092043076<br>metric stab_max_bound = 0.9999847412109375<br>metric log_stab_min_bound = 15.069077716818983<br>metric log_stab_max_bound = 16.0<br>metric lstab_min_bound = 3.0<br>metric strongness = 0.027921406411582212<br>\", \"Concept 52<br><br>extent (len: 121): 2748, 4337, 2049, 4433, 3331,...<br>intent (len: 2): age>=40, marital=married<br>new extent (len: 1): 4300<br>new_intent (len: 0): \\u2205<br>metric accuracy = 0.9<br>metric precision = 0.9<br>metric recall = 1.0<br>metric neg_precision = 0.0<br>metric neg_recall = 0.0<br>metric f1_score = 0.95<br>metric y_pred_mean = 1.0<br>metric y_true_mean = 0.9008264462809917<br>metric stab_min_bound = 0.9999999999998863<br>metric stab_max_bound = 0.9999999999998863<br>metric log_stab_min_bound = 43.0<br>metric log_stab_max_bound = 43.0<br>metric lstab_min_bound = 30.0<br>metric strongness = 0.07590966122961104<br>\", \"Concept 0<br><br>extent (len: 374): 295, 662, 3160, 3658, 3589,...<br>intent (len: 0): \\u2205<br>new extent (len: 1): 975<br>new_intent (len: 0): \\u2205<br>metric accuracy = 0.9<br>metric precision = 0.9<br>metric recall = 1.0<br>metric neg_precision = 0.0<br>metric neg_recall = 0.0<br>metric f1_score = 0.95<br>metric y_pred_mean = 1.0<br>metric y_true_mean = 0.9010695187165776<br>metric stab_min_bound = 1.0<br>metric stab_max_bound = 1.0<br>metric log_stab_min_bound = inf<br>metric log_stab_max_bound = inf<br>metric lstab_min_bound = 79.0<br>metric strongness = 0.08615526376410965<br>\", \"Concept 7<br><br>extent (len: 95): 1904, 1915, 4388, 662, 3527,...<br>intent (len: 1): duration<300<br>new extent (len: 1): 662<br>new_intent (len: 1): duration<300<br>metric accuracy = 0.91<br>metric precision = 0.91<br>metric recall = 1.0<br>metric neg_precision = 0.0<br>metric neg_recall = 0.0<br>metric f1_score = 0.95<br>metric y_pred_mean = 1.0<br>metric y_true_mean = 0.9052631578947369<br>metric stab_min_bound = 0.9999999398982844<br>metric stab_max_bound = 0.9999999403953552<br>metric log_stab_min_bound = 23.988018585824058<br>metric log_stab_max_bound = 24.0<br>metric lstab_min_bound = 11.0<br>metric strongness = 0.030734390164995146<br>\", \"Concept 33<br><br>extent (len: 70): 2837, 1085, 2106, 517, 1349,...<br>intent (len: 2): duration>=600, marital=married<br>new extent (len: 3): 2202, 1342, 38<br>new_intent (len: 0): \\u2205<br>metric accuracy = 0.91<br>metric precision = 0.91<br>metric recall = 1.0<br>metric neg_precision = 0.0<br>metric neg_recall = 0.0<br>metric f1_score = 0.96<br>metric y_pred_mean = 1.0<br>metric y_true_mean = 0.9142857142857143<br>metric stab_min_bound = 0.9999980328138678<br>metric stab_max_bound = 0.9999980926513672<br>metric log_stab_min_bound = 18.955435099600322<br>metric log_stab_max_bound = 19.0<br>metric lstab_min_bound = 6.0<br>metric strongness = 0.2916666666666667<br>\", \"Concept 4<br><br>extent (len: 68): 2499, 4160, 4328, 1349, 1889,...<br>intent (len: 1): contact!=cellular<br>new extent (len: 2): 2202, 1269<br>new_intent (len: 1): contact!=cellular<br>metric accuracy = 0.94<br>metric precision = 0.94<br>metric recall = 1.0<br>metric neg_precision = 0.0<br>metric neg_recall = 0.0<br>metric f1_score = 0.97<br>metric y_pred_mean = 1.0<br>metric y_true_mean = 0.9411764705882353<br>metric stab_min_bound = 0.9999923367138226<br>metric stab_max_bound = 0.9999923706054688<br>metric log_stab_min_bound = 16.99360538667885<br>metric log_stab_max_bound = 17.0<br>metric lstab_min_bound = 4.0<br>metric strongness = 0.0437862202189311<br>\", \"Concept 29<br><br>extent (len: 139): 2748, 80, 295, 1638, 4263,...<br>intent (len: 2): duration>=600, day>=10<br>new extent (len: 0): \\u2205<br>new_intent (len: 0): \\u2205<br>metric accuracy = 0.9<br>metric precision = 0.9<br>metric recall = 1.0<br>metric neg_precision = 0.0<br>metric neg_recall = 0.0<br>metric f1_score = 0.95<br>metric y_pred_mean = 1.0<br>metric y_true_mean = 0.8992805755395683<br>metric stab_min_bound = 1.0<br>metric stab_max_bound = 1.0<br>metric log_stab_min_bound = inf<br>metric log_stab_max_bound = inf<br>metric lstab_min_bound = 51.0<br>metric strongness = 0.439873417721519<br>\", \"Concept 11<br><br>extent (len: 163): 1904, 1915, 4337, 2049, 3527,...<br>intent (len: 1): poutcome!=unknown<br>new extent (len: 0): \\u2205<br>new_intent (len: 1): poutcome!=unknown<br>metric accuracy = 0.93<br>metric precision = 0.93<br>metric recall = 1.0<br>metric neg_precision = 0.0<br>metric neg_recall = 0.0<br>metric f1_score = 0.97<br>metric y_pred_mean = 1.0<br>metric y_true_mean = 0.9325153374233128<br>metric stab_min_bound = 0.999999999998181<br>metric stab_max_bound = 0.999999999998181<br>metric log_stab_min_bound = 39.0<br>metric log_stab_max_bound = 39.0<br>metric lstab_min_bound = 26.0<br>metric strongness = 0.20073891625615764<br>\", \"Concept 20<br><br>extent (len: 102): 4388, 4337, 2049, 3930, 4433,...<br>intent (len: 2): campaign<2, age>=40<br>new extent (len: 2): 4327, 1142<br>new_intent (len: 0): \\u2205<br>metric accuracy = 0.92<br>metric precision = 0.92<br>metric recall = 1.0<br>metric neg_precision = 0.0<br>metric neg_recall = 0.0<br>metric f1_score = 0.96<br>metric y_pred_mean = 1.0<br>metric y_true_mean = 0.9215686274509803<br>metric stab_min_bound = 0.9999999962710628<br>metric stab_max_bound = 0.9999999962747097<br>metric log_stab_min_bound = 27.998588369314025<br>metric log_stab_max_bound = 28.0<br>metric lstab_min_bound = 15.0<br>metric strongness = 0.12561576354679804<br>\", \"Concept 8<br><br>extent (len: 144): 1904, 1915, 1638, 662, 4263,...<br>intent (len: 1): education=tertiary<br>new extent (len: 2): 3835, 662<br>new_intent (len: 1): education=tertiary<br>metric accuracy = 0.88<br>metric precision = 0.88<br>metric recall = 1.0<br>metric neg_precision = 0.0<br>metric neg_recall = 0.0<br>metric f1_score = 0.93<br>metric y_pred_mean = 1.0<br>metric y_true_mean = 0.875<br>metric stab_min_bound = 0.9999999981373549<br>metric stab_max_bound = 0.9999999981373549<br>metric log_stab_min_bound = 29.0<br>metric log_stab_max_bound = 29.0<br>metric lstab_min_bound = 16.0<br>metric strongness = 0.1122369446609509<br>\", \"Concept 25<br><br>extent (len: 92): 2748, 295, 2140, 4447, 2865,...<br>intent (len: 2): duration>=600, age>=40<br>new extent (len: 10): 1454, 4327, 634, 4447, 1440,...<br>new_intent (len: 0): \\u2205<br>metric accuracy = 0.9<br>metric precision = 0.9<br>metric recall = 1.0<br>metric neg_precision = 0.0<br>metric neg_recall = 0.0<br>metric f1_score = 0.95<br>metric y_pred_mean = 1.0<br>metric y_true_mean = 0.9021739130434783<br>metric stab_min_bound = 0.9999999850983697<br>metric stab_max_bound = 0.9999999850988388<br>metric log_stab_min_bound = 25.999954586546032<br>metric log_stab_max_bound = 26.0<br>metric lstab_min_bound = 13.0<br>metric strongness = 0.42790697674418604<br>\", \"Concept 5<br><br>extent (len: 282): 1904, 1915, 1672, 2748, 80,...<br>intent (len: 1): day>=10<br>new extent (len: 2): 115, 3917<br>new_intent (len: 1): day>=10<br>metric accuracy = 0.89<br>metric precision = 0.89<br>metric recall = 1.0<br>metric neg_precision = 0.0<br>metric neg_recall = 0.0<br>metric f1_score = 0.94<br>metric y_pred_mean = 1.0<br>metric y_true_mean = 0.8900709219858156<br>metric stab_min_bound = 1.0<br>metric stab_max_bound = 1.0<br>metric log_stab_min_bound = inf<br>metric log_stab_max_bound = inf<br>metric lstab_min_bound = 125.0<br>metric strongness = 0.09108527131782945<br>\", \"Concept 1<br><br>extent (len: 203): 1672, 4388, 2748, 295, 4337,...<br>intent (len: 1): age>=40<br>new extent (len: 0): \\u2205<br>new_intent (len: 1): age>=40<br>metric accuracy = 0.9<br>metric precision = 0.9<br>metric recall = 1.0<br>metric neg_precision = 0.0<br>metric neg_recall = 0.0<br>metric f1_score = 0.95<br>metric y_pred_mean = 1.0<br>metric y_true_mean = 0.9014778325123153<br>metric stab_min_bound = 1.0<br>metric stab_max_bound = 1.0<br>metric log_stab_min_bound = inf<br>metric log_stab_max_bound = inf<br>metric lstab_min_bound = 46.0<br>metric strongness = 0.09337626494940203<br>\", \"Concept 32<br><br>extent (len: 91): 2748, 80, 295, 4263, 3502,...<br>intent (len: 2): housing=True, duration>=600<br>new extent (len: 16): 1454, 38, 3141, 886, 4447,...<br>new_intent (len: 0): \\u2205<br>metric accuracy = 0.93<br>metric precision = 0.93<br>metric recall = 1.0<br>metric neg_precision = 0.0<br>metric neg_recall = 0.0<br>metric f1_score = 0.97<br>metric y_pred_mean = 1.0<br>metric y_true_mean = 0.9340659340659341<br>metric stab_min_bound = 0.9999847412108803<br>metric stab_max_bound = 0.9999847412109375<br>metric log_stab_min_bound = 15.99999999459405<br>metric log_stab_max_bound = 16.0<br>metric lstab_min_bound = 3.0<br>metric strongness = 0.3684210526315789<br>\", \"Concept 37<br><br>extent (len: 60): 412, 1915, 4388, 1181, 2665,...<br>intent (len: 2): duration<300, campaign<2<br>new extent (len: 14): 4388, 756, 741, 941, 4224,...<br>new_intent (len: 0): \\u2205<br>metric accuracy = 0.9<br>metric precision = 0.9<br>metric recall = 1.0<br>metric neg_precision = 0.0<br>metric neg_recall = 0.0<br>metric f1_score = 0.95<br>metric y_pred_mean = 1.0<br>metric y_true_mean = 0.9<br>metric stab_min_bound = 0.9999384507386786<br>metric stab_max_bound = 0.99993896484375<br>metric log_stab_min_bound = 13.987898932013733<br>metric log_stab_max_bound = 14.0<br>metric lstab_min_bound = 1.0<br>metric strongness = 0.05016722408026756<br>\", \"Concept 23<br><br>extent (len: 59): 412, 1915, 1899, 4083, 53,...<br>intent (len: 2): education=tertiary, campaign<2<br>new extent (len: 16): 477, 2962, 1142, 634, 1837,...<br>new_intent (len: 0): \\u2205<br>metric accuracy = 0.88<br>metric precision = 0.88<br>metric recall = 1.0<br>metric neg_precision = 0.0<br>metric neg_recall = 0.0<br>metric f1_score = 0.94<br>metric y_pred_mean = 1.0<br>metric y_true_mean = 0.8813559322033898<br>metric stab_min_bound = 0.9999846953122637<br>metric stab_max_bound = 0.9999847412109375<br>metric log_stab_min_bound = 15.995666864786445<br>metric log_stab_max_bound = 16.0<br>metric lstab_min_bound = 3.0<br>metric strongness = 0.12190082644628099<br>\", \"Concept 39<br><br>extent (len: 71): 1904, 412, 1915, 1709, 1181,...<br>intent (len: 2): duration<300, day>=10<br>new extent (len: 6): 4090, 1709, 2022, 503, 2018,...<br>new_intent (len: 0): \\u2205<br>metric accuracy = 0.89<br>metric precision = 0.89<br>metric recall = 1.0<br>metric neg_precision = 0.0<br>metric neg_recall = 0.0<br>metric f1_score = 0.94<br>metric y_pred_mean = 1.0<br>metric y_true_mean = 0.8873239436619719<br>metric stab_min_bound = 0.9999998498751663<br>metric stab_max_bound = 0.9999998807907104<br>metric log_stab_min_bound = 22.66733401665316<br>metric log_stab_max_bound = 23.0<br>metric lstab_min_bound = 10.0<br>metric strongness = 0.03219954648526077<br>\", \"Concept 22<br><br>extent (len: 124): 1915, 80, 1638, 4337, 2049,...<br>intent (len: 2): campaign<2, day>=10<br>new extent (len: 2): 1940, 3449<br>new_intent (len: 0): \\u2205<br>metric accuracy = 0.9<br>metric precision = 0.9<br>metric recall = 1.0<br>metric neg_precision = 0.0<br>metric neg_recall = 0.0<br>metric f1_score = 0.95<br>metric y_pred_mean = 1.0<br>metric y_true_mean = 0.9032258064516129<br>metric stab_min_bound = 0.999999999999999<br>metric stab_max_bound = 0.9999999999999991<br>metric log_stab_min_bound = 49.830074998557684<br>metric log_stab_max_bound = 50.0<br>metric lstab_min_bound = 37.0<br>metric strongness = 0.10973451327433628<br>\", \"Concept 19<br><br>extent (len: 58): 412, 2372, 53, 517, 1994,...<br>intent (len: 2): balance>=1000, housing=True<br>new extent (len: 14): 2962, 1454, 38, 2655, 2143,...<br>new_intent (len: 0): \\u2205<br>metric accuracy = 0.93<br>metric precision = 0.93<br>metric recall = 1.0<br>metric neg_precision = 0.0<br>metric neg_recall = 0.0<br>metric f1_score = 0.96<br>metric y_pred_mean = 1.0<br>metric y_true_mean = 0.9310344827586207<br>metric stab_min_bound = 0.9999386804406498<br>metric stab_max_bound = 0.99993896484375<br>metric log_stab_min_bound = 13.99329314478507<br>metric log_stab_max_bound = 14.0<br>metric lstab_min_bound = 1.0<br>metric strongness = 0.07397959183673469<br>\", \"Concept 17<br><br>extent (len: 118): 1915, 1672, 2049, 3527, 3930,...<br>intent (len: 2): balance>=1000, day>=10<br>new extent (len: 0): \\u2205<br>new_intent (len: 0): \\u2205<br>metric accuracy = 0.92<br>metric precision = 0.92<br>metric recall = 1.0<br>metric neg_precision = 0.0<br>metric neg_recall = 0.0<br>metric f1_score = 0.96<br>metric y_pred_mean = 1.0<br>metric y_true_mean = 0.9152542372881356<br>metric stab_min_bound = 0.9999999999999996<br>metric stab_max_bound = 0.9999999999999996<br>metric log_stab_min_bound = 51.0<br>metric log_stab_max_bound = 51.0<br>metric lstab_min_bound = 38.0<br>metric strongness = 0.1124880838894185<br>\", \"Concept 30<br><br>extent (len: 89): 2748, 295, 1638, 2140, 125,...<br>intent (len: 2): duration>=900, duration>=600<br>new extent (len: 14): 1454, 3141, 886, 4447, 1440,...<br>new_intent (len: 1): duration>=900<br>metric accuracy = 0.89<br>metric precision = 0.89<br>metric recall = 1.0<br>metric neg_precision = 0.0<br>metric neg_recall = 0.0<br>metric f1_score = 0.94<br>metric y_pred_mean = 1.0<br>metric y_true_mean = 0.8876404494382022<br>metric stab_min_bound = 0.9999389648398844<br>metric stab_max_bound = 0.99993896484375<br>metric log_stab_min_bound = 13.999999908628972<br>metric log_stab_max_bound = 14.0<br>metric lstab_min_bound = 1.0<br>metric strongness = 0.5933333333333334<br>\", \"Concept 18<br><br>extent (len: 70): 412, 1915, 2499, 1899, 3978,...<br>intent (len: 2): balance>=1000, education=tertiary<br>new extent (len: 15): 477, 2962, 634, 2143, 1060,...<br>new_intent (len: 0): \\u2205<br>metric accuracy = 0.89<br>metric precision = 0.89<br>metric recall = 1.0<br>metric neg_precision = 0.0<br>metric neg_recall = 0.0<br>metric f1_score = 0.94<br>metric y_pred_mean = 1.0<br>metric y_true_mean = 0.8857142857142857<br>metric stab_min_bound = 0.9999694822885203<br>metric stab_max_bound = 0.999969482421875<br>metric log_stab_min_bound = 14.999993695774728<br>metric log_stab_max_bound = 15.0<br>metric lstab_min_bound = 2.0<br>metric strongness = 0.1440329218106996<br>\", \"Concept 12<br><br>extent (len: 51): 4160, 1349, 1889, 3889, 3248,...<br>intent (len: 2): age>=40, contact!=cellular<br>new extent (len: 51): 4160, 1349, 1663, 4328, 3889,...<br>new_intent (len: 0): \\u2205<br>metric accuracy = 0.98<br>metric precision = 0.98<br>metric recall = 1.0<br>metric neg_precision = 0.0<br>metric neg_recall = 0.0<br>metric f1_score = 0.99<br>metric y_pred_mean = 1.0<br>metric y_true_mean = 0.9803921568627451<br>metric stab_min_bound = 0.9999988972374467<br>metric stab_max_bound = 0.9999995231628418<br>metric log_stab_min_bound = 19.790446385913196<br>metric log_stab_max_bound = 21.0<br>metric lstab_min_bound = 8.0<br>metric strongness = 0.060141509433962265<br>\", \"Concept 27<br><br>extent (len: 56): 1899, 1085, 2106, 1349, 3690,...<br>intent (len: 2): campaign<2, duration>=600<br>new extent (len: 15): 1312, 38, 4327, 3141, 634,...<br>new_intent (len: 0): \\u2205<br>metric accuracy = 0.95<br>metric precision = 0.95<br>metric recall = 1.0<br>metric neg_precision = 0.0<br>metric neg_recall = 0.0<br>metric f1_score = 0.97<br>metric y_pred_mean = 1.0<br>metric y_true_mean = 0.9464285714285714<br>metric stab_min_bound = 0.9999693619092795<br>metric stab_max_bound = 0.999969482421875<br>metric log_stab_min_bound = 14.994314079065298<br>metric log_stab_max_bound = 15.0<br>metric lstab_min_bound = 2.0<br>metric strongness = 0.35668789808917195<br>\", \"Concept 13<br><br>extent (len: 144): 1672, 2748, 295, 4337, 2049,...<br>intent (len: 2): age>=40, day>=10<br>new extent (len: 1): 4108<br>new_intent (len: 0): \\u2205<br>metric accuracy = 0.9<br>metric precision = 0.9<br>metric recall = 1.0<br>metric neg_precision = 0.0<br>metric neg_recall = 0.0<br>metric f1_score = 0.95<br>metric y_pred_mean = 1.0<br>metric y_true_mean = 0.8958333333333334<br>metric stab_min_bound = 1.0<br>metric stab_max_bound = 1.0<br>metric log_stab_min_bound = inf<br>metric log_stab_max_bound = inf<br>metric lstab_min_bound = 53.0<br>metric strongness = 0.09381107491856677<br>\", \"Concept 46<br><br>extent (len: 115): 1904, 1915, 1638, 4263, 2140,...<br>intent (len: 2): education=tertiary, day>=10<br>new extent (len: 0): \\u2205<br>new_intent (len: 0): \\u2205<br>metric accuracy = 0.85<br>metric precision = 0.85<br>metric recall = 1.0<br>metric neg_precision = 0.0<br>metric neg_recall = 0.0<br>metric f1_score = 0.92<br>metric y_pred_mean = 1.0<br>metric y_true_mean = 0.8521739130434782<br>metric stab_min_bound = 1.0<br>metric stab_max_bound = 1.0<br>metric log_stab_min_bound = inf<br>metric log_stab_max_bound = inf<br>metric lstab_min_bound = 47.0<br>metric strongness = 0.12554585152838427<br>\", \"Concept 9<br><br>extent (len: 138): 2748, 80, 295, 662, 3527,...<br>intent (len: 1): housing=True<br>new extent (len: 1): 662<br>new_intent (len: 1): housing=True<br>metric accuracy = 0.94<br>metric precision = 0.94<br>metric recall = 1.0<br>metric neg_precision = 0.0<br>metric neg_recall = 0.0<br>metric f1_score = 0.97<br>metric y_pred_mean = 1.0<br>metric y_true_mean = 0.9420289855072463<br>metric stab_min_bound = 0.9999999995343316<br>metric stab_max_bound = 0.9999999995343387<br>metric log_stab_min_bound = 30.99997798638864<br>metric log_stab_max_bound = 31.0<br>metric lstab_min_bound = 18.0<br>metric strongness = 0.05628058727569331<br>\", \"Concept 14<br><br>extent (len: 102): 1672, 4388, 2049, 3930, 2140,...<br>intent (len: 2): balance>=1000, age>=40<br>new extent (len: 4): 4447, 1454, 1974, 358<br>new_intent (len: 0): \\u2205<br>metric accuracy = 0.91<br>metric precision = 0.91<br>metric recall = 1.0<br>metric neg_precision = 0.0<br>metric neg_recall = 0.0<br>metric f1_score = 0.95<br>metric y_pred_mean = 1.0<br>metric y_true_mean = 0.9117647058823529<br>metric stab_min_bound = 0.999999999970667<br>metric stab_max_bound = 0.9999999999708962<br>metric log_stab_min_bound = 34.98868537470293<br>metric log_stab_max_bound = 35.0<br>metric lstab_min_bound = 22.0<br>metric strongness = 0.1297709923664122<br>\", \"Concept 24<br><br>extent (len: 43): 2499, 4160, 1349, 2347, 3889,...<br>intent (len: 2): contact!=cellular, day>=10<br>new extent (len: 43): 4160, 2499, 1349, 1663, 4328,...<br>new_intent (len: 0): \\u2205<br>metric accuracy = 0.93<br>metric precision = 0.93<br>metric recall = 1.0<br>metric neg_precision = 0.0<br>metric neg_recall = 0.0<br>metric f1_score = 0.96<br>metric y_pred_mean = 1.0<br>metric y_true_mean = 0.9302325581395349<br>metric stab_min_bound = 0.9999635021667928<br>metric stab_max_bound = 0.999969482421875<br>metric log_stab_min_bound = 14.741829657401585<br>metric log_stab_max_bound = 15.0<br>metric lstab_min_bound = 2.0<br>metric strongness = 0.041346153846153845<br>\", \"Concept 26<br><br>extent (len: 60): 1899, 2372, 517, 2633, 3889,...<br>intent (len: 2): balance>=1000, duration>=600<br>new extent (len: 14): 1454, 1312, 38, 634, 1206,...<br>new_intent (len: 0): \\u2205<br>metric accuracy = 0.93<br>metric precision = 0.93<br>metric recall = 1.0<br>metric neg_precision = 0.0<br>metric neg_recall = 0.0<br>metric f1_score = 0.97<br>metric y_pred_mean = 1.0<br>metric y_true_mean = 0.9333333333333333<br>metric stab_min_bound = 0.9999388381397623<br>metric stab_max_bound = 0.99993896484375<br>metric log_stab_min_bound = 13.997008187506609<br>metric log_stab_max_bound = 14.0<br>metric lstab_min_bound = 1.0<br>metric strongness = 0.42857142857142855<br>\", \"Concept 15<br><br>extent (len: 79): 1915, 4388, 2049, 3527, 3930,...<br>intent (len: 2): balance>=1000, campaign<2<br>new extent (len: 5): 38, 741, 323, 1698, 4215<br>new_intent (len: 0): \\u2205<br>metric accuracy = 0.94<br>metric precision = 0.94<br>metric recall = 1.0<br>metric neg_precision = 0.0<br>metric neg_recall = 0.0<br>metric f1_score = 0.97<br>metric y_pred_mean = 1.0<br>metric y_true_mean = 0.9367088607594937<br>metric stab_min_bound = 0.9999995073153228<br>metric stab_max_bound = 0.9999995231628418<br>metric log_stab_min_bound = 20.952832060674048<br>metric log_stab_max_bound = 21.0<br>metric lstab_min_bound = 8.0<br>metric strongness = 0.13763066202090593<br>\", \"Concept 3<br><br>extent (len: 170): 1915, 4388, 80, 1638, 4337,...<br>intent (len: 1): campaign<2<br>new extent (len: 0): \\u2205<br>new_intent (len: 1): campaign<2<br>metric accuracy = 0.92<br>metric precision = 0.92<br>metric recall = 1.0<br>metric neg_precision = 0.0<br>metric neg_recall = 0.0<br>metric f1_score = 0.96<br>metric y_pred_mean = 1.0<br>metric y_true_mean = 0.9176470588235294<br>metric stab_min_bound = 0.9999999999999858<br>metric stab_max_bound = 0.9999999999999858<br>metric log_stab_min_bound = 46.0<br>metric log_stab_max_bound = 46.0<br>metric lstab_min_bound = 33.0<br>metric strongness = 0.10065127294256956<br>\"], \"marker\": {\"color\": [0.3142857142857143, 0.7755102040816326, 0.3482142857142857, 0.7297297297297297, 0.4090909090909091, 0.7317073170731707, 0.6231884057971014, 0.20118343195266272, 0.12640449438202248, 0.10416666666666667, 0.22633744855967078, 0.2712765957446808, 0.5652173913043478, 0.21863799283154123, 0.0431266846361186, 0.75, 0.24067796610169492, 0.11796246648793565, 0.09663865546218488, 0.10902896081771721, 0.06933333333333333, 0.08685968819599109, 0.2536764705882353, 0.07898658718330849, 0.6724137931034483, 0.2761904761904762, 0.1383177570093458, 0.32167832167832167, 0.06493506493506493, 0.5463917525773195, 0.05815423514538559, 0.7131782945736435, 0.15406162464985995, 0.12, 0.060294117647058824, 0.04266321913380737, 0.07394957983193277, 0.6521739130434783, 0.09060402684563758, 0.39893617021276595, 0.13842482100238662, 0.22538860103626943, 0.06456692913385827, 0.10681399631675875, 0.1760797342192691, 0.08557213930348259, 0.11631944444444445, 0.42038216560509556, 0.35964912280701755, 0.12109375, 0.21933962264150944, 0.09315866084425037, 0.2833333333333333, 0.13190184049079753, 0.19427402862985685, 0.41818181818181815, 0.21869488536155202, 0.0614115490375802, 0.055780933062880324, 0.11247803163444639, 0.06083001705514497, 0.2550335570469799, 0.056112224448897796, 0.06766355140186917, 0.11282410651716888, 0.4156769596199525, 0.027921406411582212, 0.07590966122961104, 0.08615526376410965, 0.030734390164995146, 0.2916666666666667, 0.0437862202189311, 0.439873417721519, 0.20073891625615764, 0.12561576354679804, 0.1122369446609509, 0.42790697674418604, 0.09108527131782945, 0.09337626494940203, 0.3684210526315789, 0.05016722408026756, 0.12190082644628099, 0.03219954648526077, 0.10973451327433628, 0.07397959183673469, 0.1124880838894185, 0.5933333333333334, 0.1440329218106996, 0.060141509433962265, 0.35668789808917195, 0.09381107491856677, 0.12554585152838427, 0.05628058727569331, 0.1297709923664122, 0.041346153846153845, 0.42857142857142855, 0.13763066202090593, 0.10065127294256956], \"colorbar\": {\"thickness\": 15, \"title\": {\"side\": \"right\", \"text\": \"y_mean\"}, \"xanchor\": \"left\"}, \"colorscale\": [[0.0, \"rgb(103,0,31)\"], [0.1, \"rgb(178,24,43)\"], [0.2, \"rgb(214,96,77)\"], [0.3, \"rgb(244,165,130)\"], [0.4, \"rgb(253,219,199)\"], [0.5, \"rgb(247,247,247)\"], [0.6, \"rgb(209,229,240)\"], [0.7, \"rgb(146,197,222)\"], [0.8, \"rgb(67,147,195)\"], [0.9, \"rgb(33,102,172)\"], [1.0, \"rgb(5,48,97)\"]], \"line\": {\"width\": 2}, \"reversescale\": true, \"showscale\": true, \"size\": 10}, \"mode\": \"markers+text\", \"text\": [\"<br>n: 33\", \"<br>n: 38\", \"<br>n: 39\", \"<br>n: 16\", \"<br>n: 27\", \"<br>n: 60\", \"<br>n: 43\", \"<br>n: 35\", \"<br>n: 45\", \"<br>n: 60\", \"<br>n: 22\", \"<br>n: 51\", \"<br>n: 39\", \"<br>n: 28\", \"<br>n: 48\", \"<br>n: 28\", \"<br>n: 7\", \"<br>n: 44\", \"<br>n: 46\", \"<br>n: 31\", \"<br>n: 45\", \"<br>n: 39\", \"<br>n: 36\", \"<br>n: 53\", \"<br>n: 39\", \"<br>n: 19\", \"<br>n: 41\", \"<br>n: 46\", \"<br>n: 50\", \"<br>n: 53\", \"<br>n: 46\", \"poutcome__is__success<br>684\", \"<br>n: 55\", \"<br>n: 48\", \"<br>n: 41\", \"<br>n: 18\", \"<br>n: 17\", \"<br>n: 17\", \"<br>4215,323,38,2143\", \"<br>n: 22\", \"<br>n: 19\", \"<br>4447,1729,2917\", \"<br>\", \"<br>n: 14\", \"<br>n: 53\", \"<br>n: 7\", \"<br>n: 67\", \"<br>n: 27\", \"<br>n: 41\", \"<br>n: 17\", \"<br>1729,1698,3141\", \"<br>n: 18\", \"<br>n: 51\", \"<br>n: 43\", \"<br>2332,2143\", \"<br>n: 19\", \"<br>\", \"<br>n: 17\", \"<br>n: 14\", \"<br>1698,2143\", \"<br>\", \"<br>n: 18\", \"<br>n: 56\", \"marital__is__married<br>1872\", \"balance__geq__1000<br>\", \"duration__geq__600<br>1269,2073\", \"<br>n: 54\", \"<br>4300\", \"<br>975\", \"duration__lt__300<br>662\", \"<br>2202,1342,38\", \"contact__not__cellular<br>2202,1269\", \"<br>\", \"poutcome__not__unknown<br>\", \"<br>4327,1142\", \"education__is__tertiary<br>3835,662\", \"<br>n: 10\", \"day__geq__10<br>115,3917\", \"age__geq__40<br>\", \"<br>n: 16\", \"<br>n: 14\", \"<br>n: 16\", \"<br>n: 6\", \"<br>1940,3449\", \"<br>n: 14\", \"<br>\", \"duration__geq__900<br>n: 14\", \"<br>n: 15\", \"<br>n: 51\", \"<br>n: 15\", \"<br>4108\", \"<br>\", \"housing__is__True<br>662\", \"<br>4447,1454,1974,358\", \"<br>n: 43\", \"<br>n: 14\", \"<br>n: 5\", \"campaign__lt__2<br>\"], \"textposition\": \"middle right\", \"type\": \"scatter\", \"x\": [0.0, -2.0, -1.0, -19.0, 0.0, -18.0, -17.0, -16.0, -15.0, -14.0, -13.0, -12.0, 1.0, -11.0, -10.0, -9.0, -8.0, -7.0, -6.0, -5.0, -4.0, -3.0, -2.0, -1.0, 2.0, 0.0, 1.0, 2.0, 3.0, 4.0, 5.0, -20.0, 6.0, 7.0, 8.0, -19.0, 9.0, 10.0, -18.0, 11.0, 12.0, -17.0, -16.0, -15.0, 13.0, -14.0, 14.0, 15.0, 16.0, -13.0, -12.0, -11.0, 17.0, 18.0, -10.0, 19.0, -9.0, -8.0, -7.0, -6.0, -5.0, -4.0, -3.0, -5.0, -4.0, -3.0, -2.0, -1.0, 0.0, -2.0, 0.0, -1.0, 1.0, 0.0, 2.0, 1.0, 3.0, 2.0, 3.0, 4.0, 5.0, 6.0, 7.0, 8.0, 9.0, 10.0, 11.0, 12.0, 13.0, 14.0, 15.0, 16.0, 4.0, 17.0, 18.0, 19.0, 20.0, 5.0], \"y\": [1, 2, 2, 3, 2, 3, 3, 3, 3, 3, 3, 3, 2, 3, 3, 3, 3, 3, 3, 3, 3, 3, 3, 3, 2, 3, 3, 3, 3, 3, 3, 4, 3, 3, 3, 4, 3, 3, 4, 3, 3, 4, 4, 4, 3, 4, 3, 3, 3, 4, 4, 4, 3, 3, 4, 3, 4, 4, 4, 4, 4, 4, 4, 5, 5, 5, 4, 4, 6, 5, 4, 5, 4, 5, 4, 5, 4, 5, 5, 4, 4, 4, 4, 4, 4, 4, 4, 4, 4, 4, 4, 4, 5, 4, 4, 4, 4, 5]}],\n",
       "                        {\"height\": 500, \"hovermode\": \"closest\", \"margin\": {\"b\": 20, \"l\": 5, \"r\": 5, \"t\": 40}, \"showlegend\": false, \"template\": {\"data\": {\"bar\": [{\"error_x\": {\"color\": \"#2a3f5f\"}, \"error_y\": {\"color\": \"#2a3f5f\"}, \"marker\": {\"line\": {\"color\": \"#E5ECF6\", \"width\": 0.5}}, \"type\": \"bar\"}], \"barpolar\": [{\"marker\": {\"line\": {\"color\": \"#E5ECF6\", \"width\": 0.5}}, \"type\": \"barpolar\"}], \"carpet\": [{\"aaxis\": {\"endlinecolor\": \"#2a3f5f\", \"gridcolor\": \"white\", \"linecolor\": \"white\", \"minorgridcolor\": \"white\", \"startlinecolor\": \"#2a3f5f\"}, \"baxis\": {\"endlinecolor\": \"#2a3f5f\", \"gridcolor\": \"white\", \"linecolor\": \"white\", \"minorgridcolor\": \"white\", \"startlinecolor\": \"#2a3f5f\"}, \"type\": \"carpet\"}], \"choropleth\": [{\"colorbar\": {\"outlinewidth\": 0, \"ticks\": \"\"}, \"type\": \"choropleth\"}], \"contour\": [{\"colorbar\": {\"outlinewidth\": 0, \"ticks\": \"\"}, \"colorscale\": [[0.0, \"#0d0887\"], [0.1111111111111111, \"#46039f\"], [0.2222222222222222, \"#7201a8\"], [0.3333333333333333, \"#9c179e\"], [0.4444444444444444, \"#bd3786\"], [0.5555555555555556, \"#d8576b\"], [0.6666666666666666, \"#ed7953\"], [0.7777777777777778, \"#fb9f3a\"], [0.8888888888888888, \"#fdca26\"], [1.0, \"#f0f921\"]], \"type\": \"contour\"}], \"contourcarpet\": [{\"colorbar\": {\"outlinewidth\": 0, \"ticks\": \"\"}, \"type\": \"contourcarpet\"}], \"heatmap\": [{\"colorbar\": {\"outlinewidth\": 0, \"ticks\": \"\"}, \"colorscale\": [[0.0, \"#0d0887\"], [0.1111111111111111, \"#46039f\"], [0.2222222222222222, \"#7201a8\"], [0.3333333333333333, \"#9c179e\"], [0.4444444444444444, \"#bd3786\"], [0.5555555555555556, \"#d8576b\"], [0.6666666666666666, \"#ed7953\"], [0.7777777777777778, \"#fb9f3a\"], [0.8888888888888888, \"#fdca26\"], [1.0, \"#f0f921\"]], \"type\": \"heatmap\"}], \"heatmapgl\": [{\"colorbar\": {\"outlinewidth\": 0, \"ticks\": \"\"}, \"colorscale\": [[0.0, \"#0d0887\"], [0.1111111111111111, \"#46039f\"], [0.2222222222222222, \"#7201a8\"], [0.3333333333333333, \"#9c179e\"], [0.4444444444444444, \"#bd3786\"], [0.5555555555555556, \"#d8576b\"], [0.6666666666666666, \"#ed7953\"], [0.7777777777777778, \"#fb9f3a\"], [0.8888888888888888, \"#fdca26\"], [1.0, \"#f0f921\"]], \"type\": \"heatmapgl\"}], \"histogram\": [{\"marker\": {\"colorbar\": {\"outlinewidth\": 0, \"ticks\": \"\"}}, \"type\": \"histogram\"}], \"histogram2d\": [{\"colorbar\": {\"outlinewidth\": 0, \"ticks\": \"\"}, \"colorscale\": [[0.0, \"#0d0887\"], [0.1111111111111111, \"#46039f\"], [0.2222222222222222, \"#7201a8\"], [0.3333333333333333, \"#9c179e\"], [0.4444444444444444, \"#bd3786\"], [0.5555555555555556, \"#d8576b\"], [0.6666666666666666, \"#ed7953\"], [0.7777777777777778, \"#fb9f3a\"], [0.8888888888888888, \"#fdca26\"], [1.0, \"#f0f921\"]], \"type\": \"histogram2d\"}], \"histogram2dcontour\": [{\"colorbar\": {\"outlinewidth\": 0, \"ticks\": \"\"}, \"colorscale\": [[0.0, \"#0d0887\"], [0.1111111111111111, \"#46039f\"], [0.2222222222222222, \"#7201a8\"], [0.3333333333333333, \"#9c179e\"], [0.4444444444444444, \"#bd3786\"], [0.5555555555555556, \"#d8576b\"], [0.6666666666666666, \"#ed7953\"], [0.7777777777777778, \"#fb9f3a\"], [0.8888888888888888, \"#fdca26\"], [1.0, \"#f0f921\"]], \"type\": \"histogram2dcontour\"}], \"mesh3d\": [{\"colorbar\": {\"outlinewidth\": 0, \"ticks\": \"\"}, \"type\": \"mesh3d\"}], \"parcoords\": [{\"line\": {\"colorbar\": {\"outlinewidth\": 0, \"ticks\": \"\"}}, \"type\": \"parcoords\"}], \"pie\": [{\"automargin\": true, \"type\": \"pie\"}], \"scatter\": [{\"marker\": {\"colorbar\": {\"outlinewidth\": 0, \"ticks\": \"\"}}, \"type\": \"scatter\"}], \"scatter3d\": [{\"line\": {\"colorbar\": {\"outlinewidth\": 0, \"ticks\": \"\"}}, \"marker\": {\"colorbar\": {\"outlinewidth\": 0, \"ticks\": \"\"}}, \"type\": \"scatter3d\"}], \"scattercarpet\": [{\"marker\": {\"colorbar\": {\"outlinewidth\": 0, \"ticks\": \"\"}}, \"type\": \"scattercarpet\"}], \"scattergeo\": [{\"marker\": {\"colorbar\": {\"outlinewidth\": 0, \"ticks\": \"\"}}, \"type\": \"scattergeo\"}], \"scattergl\": [{\"marker\": {\"colorbar\": {\"outlinewidth\": 0, \"ticks\": \"\"}}, \"type\": \"scattergl\"}], \"scattermapbox\": [{\"marker\": {\"colorbar\": {\"outlinewidth\": 0, \"ticks\": \"\"}}, \"type\": \"scattermapbox\"}], \"scatterpolar\": [{\"marker\": {\"colorbar\": {\"outlinewidth\": 0, \"ticks\": \"\"}}, \"type\": \"scatterpolar\"}], \"scatterpolargl\": [{\"marker\": {\"colorbar\": {\"outlinewidth\": 0, \"ticks\": \"\"}}, \"type\": \"scatterpolargl\"}], \"scatterternary\": [{\"marker\": {\"colorbar\": {\"outlinewidth\": 0, \"ticks\": \"\"}}, \"type\": \"scatterternary\"}], \"surface\": [{\"colorbar\": {\"outlinewidth\": 0, \"ticks\": \"\"}, \"colorscale\": [[0.0, \"#0d0887\"], [0.1111111111111111, \"#46039f\"], [0.2222222222222222, \"#7201a8\"], [0.3333333333333333, \"#9c179e\"], [0.4444444444444444, \"#bd3786\"], [0.5555555555555556, \"#d8576b\"], [0.6666666666666666, \"#ed7953\"], [0.7777777777777778, \"#fb9f3a\"], [0.8888888888888888, \"#fdca26\"], [1.0, \"#f0f921\"]], \"type\": \"surface\"}], \"table\": [{\"cells\": {\"fill\": {\"color\": \"#EBF0F8\"}, \"line\": {\"color\": \"white\"}}, \"header\": {\"fill\": {\"color\": \"#C8D4E3\"}, \"line\": {\"color\": \"white\"}}, \"type\": \"table\"}]}, \"layout\": {\"annotationdefaults\": {\"arrowcolor\": \"#2a3f5f\", \"arrowhead\": 0, \"arrowwidth\": 1}, \"coloraxis\": {\"colorbar\": {\"outlinewidth\": 0, \"ticks\": \"\"}}, \"colorscale\": {\"diverging\": [[0, \"#8e0152\"], [0.1, \"#c51b7d\"], [0.2, \"#de77ae\"], [0.3, \"#f1b6da\"], [0.4, \"#fde0ef\"], [0.5, \"#f7f7f7\"], [0.6, \"#e6f5d0\"], [0.7, \"#b8e186\"], [0.8, \"#7fbc41\"], [0.9, \"#4d9221\"], [1, \"#276419\"]], \"sequential\": [[0.0, \"#0d0887\"], [0.1111111111111111, \"#46039f\"], [0.2222222222222222, \"#7201a8\"], [0.3333333333333333, \"#9c179e\"], [0.4444444444444444, \"#bd3786\"], [0.5555555555555556, \"#d8576b\"], [0.6666666666666666, \"#ed7953\"], [0.7777777777777778, \"#fb9f3a\"], [0.8888888888888888, \"#fdca26\"], [1.0, \"#f0f921\"]], \"sequentialminus\": [[0.0, \"#0d0887\"], [0.1111111111111111, \"#46039f\"], [0.2222222222222222, \"#7201a8\"], [0.3333333333333333, \"#9c179e\"], [0.4444444444444444, \"#bd3786\"], [0.5555555555555556, \"#d8576b\"], [0.6666666666666666, \"#ed7953\"], [0.7777777777777778, \"#fb9f3a\"], [0.8888888888888888, \"#fdca26\"], [1.0, \"#f0f921\"]]}, \"colorway\": [\"#636efa\", \"#EF553B\", \"#00cc96\", \"#ab63fa\", \"#FFA15A\", \"#19d3f3\", \"#FF6692\", \"#B6E880\", \"#FF97FF\", \"#FECB52\"], \"font\": {\"color\": \"#2a3f5f\"}, \"geo\": {\"bgcolor\": \"white\", \"lakecolor\": \"white\", \"landcolor\": \"#E5ECF6\", \"showlakes\": true, \"showland\": true, \"subunitcolor\": \"white\"}, \"hoverlabel\": {\"align\": \"left\"}, \"hovermode\": \"closest\", \"mapbox\": {\"style\": \"light\"}, \"paper_bgcolor\": \"white\", \"plot_bgcolor\": \"#E5ECF6\", \"polar\": {\"angularaxis\": {\"gridcolor\": \"white\", \"linecolor\": \"white\", \"ticks\": \"\"}, \"bgcolor\": \"#E5ECF6\", \"radialaxis\": {\"gridcolor\": \"white\", \"linecolor\": \"white\", \"ticks\": \"\"}}, \"scene\": {\"xaxis\": {\"backgroundcolor\": \"#E5ECF6\", \"gridcolor\": \"white\", \"gridwidth\": 2, \"linecolor\": \"white\", \"showbackground\": true, \"ticks\": \"\", \"zerolinecolor\": \"white\"}, \"yaxis\": {\"backgroundcolor\": \"#E5ECF6\", \"gridcolor\": \"white\", \"gridwidth\": 2, \"linecolor\": \"white\", \"showbackground\": true, \"ticks\": \"\", \"zerolinecolor\": \"white\"}, \"zaxis\": {\"backgroundcolor\": \"#E5ECF6\", \"gridcolor\": \"white\", \"gridwidth\": 2, \"linecolor\": \"white\", \"showbackground\": true, \"ticks\": \"\", \"zerolinecolor\": \"white\"}}, \"shapedefaults\": {\"line\": {\"color\": \"#2a3f5f\"}}, \"ternary\": {\"aaxis\": {\"gridcolor\": \"white\", \"linecolor\": \"white\", \"ticks\": \"\"}, \"baxis\": {\"gridcolor\": \"white\", \"linecolor\": \"white\", \"ticks\": \"\"}, \"bgcolor\": \"#E5ECF6\", \"caxis\": {\"gridcolor\": \"white\", \"linecolor\": \"white\", \"ticks\": \"\"}}, \"title\": {\"x\": 0.05}, \"xaxis\": {\"automargin\": true, \"gridcolor\": \"white\", \"linecolor\": \"white\", \"ticks\": \"\", \"title\": {\"standoff\": 15}, \"zerolinecolor\": \"white\", \"zerolinewidth\": 2}, \"yaxis\": {\"automargin\": true, \"gridcolor\": \"white\", \"linecolor\": \"white\", \"ticks\": \"\", \"title\": {\"standoff\": 15}, \"zerolinecolor\": \"white\", \"zerolinewidth\": 2}}}, \"title\": {\"font\": {\"size\": 16}, \"text\": \"Concept Lattice\"}, \"width\": 1000, \"xaxis\": {\"showgrid\": false, \"showticklabels\": false, \"zeroline\": false}, \"yaxis\": {\"showgrid\": false, \"showticklabels\": false, \"zeroline\": false}},\n",
       "                        {\"responsive\": true}\n",
       "                    ).then(function(){\n",
       "                            \n",
       "var gd = document.getElementById('a159afc1-71ee-41e3-8fed-4229a1bf5003');\n",
       "var x = new MutationObserver(function (mutations, observer) {{\n",
       "        var display = window.getComputedStyle(gd).display;\n",
       "        if (!display || display === 'none') {{\n",
       "            console.log([gd, 'removed!']);\n",
       "            Plotly.purge(gd);\n",
       "            observer.disconnect();\n",
       "        }}\n",
       "}});\n",
       "\n",
       "// Listen for the removal of the full notebook cells\n",
       "var notebookContainer = gd.closest('#notebook-container');\n",
       "if (notebookContainer) {{\n",
       "    x.observe(notebookContainer, {childList: true});\n",
       "}}\n",
       "\n",
       "// Listen for the clearing of the current output cell\n",
       "var outputEl = gd.closest('.output');\n",
       "if (outputEl) {{\n",
       "    x.observe(outputEl, {childList: true});\n",
       "}}\n",
       "\n",
       "                        })\n",
       "                };\n",
       "                });\n",
       "            </script>\n",
       "        </div>"
      ]
     },
     "metadata": {},
     "output_type": "display_data"
    }
   ],
   "source": [
    "fig.show()"
   ]
  },
  {
   "cell_type": "code",
   "execution_count": 750,
   "metadata": {},
   "outputs": [],
   "source": [
    "strong_concepts = sorted(fm.get_concepts(), key=lambda c: -c._metrics['strongness'])"
   ]
  },
  {
   "cell_type": "code",
   "execution_count": null,
   "metadata": {},
   "outputs": [],
   "source": []
  },
  {
   "cell_type": "code",
   "execution_count": 755,
   "metadata": {},
   "outputs": [],
   "source": [
    "xaxis = np.arange(1, len(strong_concepts))\n",
    "yaxis = np.array([len(set([g for c in strong_concepts[:x] for g in c.get_extent()])) for x in xaxis])"
   ]
  },
  {
   "cell_type": "code",
   "execution_count": 757,
   "metadata": {},
   "outputs": [
    {
     "data": {
      "text/plain": [
       "[<matplotlib.lines.Line2D at 0x7f2e3ae63a50>]"
      ]
     },
     "execution_count": 757,
     "metadata": {},
     "output_type": "execute_result"
    },
    {
     "data": {
      "image/png": "[encoded data removed]",
      "text/plain": [
       "<Figure size 432x288 with 1 Axes>"
      ]
     },
     "metadata": {
      "needs_background": "light"
     },
     "output_type": "display_data"
    }
   ],
   "source": [
    "plt.plot(xaxis, yaxis/len(cntx_true.get_objs()))"
   ]
  },
  {
   "cell_type": "code",
   "execution_count": 761,
   "metadata": {},
   "outputs": [
    {
     "data": {
      "text/plain": [
       "Concept 114\n",
       "level: 3\n",
       "extent (len: 53): 33, 125, 702, 1914, 1991, 164, 202, 327, 661, 2887, 415, 3614, 3642, 630, 705, 1446, 823, 1297, 3413, 1334, 1437, 1449, 1534, 1557, 3754, 1611, 1638, 1669, 1899, 1905, 2017, 2140, 2347, 2464, 2481, 2633, 2674, 2772, 2826, 3932, 2851, 2871, 3224, 3304, 3502, 3673, 3684, 3889, 3914, 3956, 4217, 4263, 4275\n",
       "intent (len: 3): duration__geq__600, education__is__tertiary, day__geq__10\n",
       "new extent (len: 53): 1914, 3614, 1899, 630, 2633, 3889, 1638, 1905, 823, 3224, 3642, 4263, 2140, 125, 4217, 3413, 1611, 4275, 661, 3502, 202, 3304, 705, 702, 2674, 3684, 2851, 33, 327, 415, 1534, 2826, 2887, 2017, 2871, 1669, 3914, 2481, 1557, 3673, 1449, 3932, 164, 1437, 3956, 1991, 1446, 2464, 1297, 1334, 2772, 2347, 3754\n",
       "new_intent (len: 0): ∅\n",
       "lower neighbours (len: 0): ∅\n",
       "upper neighbours (len: 4): 8, 29, 46, 6\n",
       "metric accuracy = 0.91\n",
       "metric precision = 0.91\n",
       "metric recall = 1.0\n",
       "metric neg_precision = 0.0\n",
       "metric neg_recall = 0.0\n",
       "metric f1_score = 0.95\n",
       "metric y_pred_mean = 1.0\n",
       "metric y_true_mean = 0.9056603773584906\n",
       "metric stab_min_bound = 0.9999999969271585\n",
       "metric stab_max_bound = 0.9999999981373549\n",
       "metric log_stab_min_bound = 28.277779483410665\n",
       "metric log_stab_max_bound = 29.0\n",
       "metric lstab_min_bound = 16.0\n",
       "metric strongness = 0.5463917525773195"
      ]
     },
     "execution_count": 761,
     "metadata": {},
     "output_type": "execute_result"
    }
   ],
   "source": [
    "strong_concepts[10]"
   ]
  },
  {
   "cell_type": "code",
   "execution_count": null,
   "metadata": {},
   "outputs": [],
   "source": []
  }
 ],
 "metadata": {
  "kernelspec": {
   "display_name": "Python 3",
   "language": "python",
   "name": "python3"
  },
  "language_info": {
   "codemirror_mode": {
    "name": "ipython",
    "version": 3
   },
   "file_extension": ".py",
   "mimetype": "text/x-python",
   "name": "python",
   "nbconvert_exporter": "python",
   "pygments_lexer": "ipython3",
   "version": "3.7.6"
  }
 },
 "nbformat": 4,
 "nbformat_minor": 4
}
