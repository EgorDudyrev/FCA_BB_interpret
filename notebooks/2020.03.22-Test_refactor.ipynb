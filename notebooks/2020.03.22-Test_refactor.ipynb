{
 "cells": [
  {
   "cell_type": "markdown",
   "metadata": {},
   "source": [
    "# Что сделано\n",
    "\n",
    "* Создан докер контейнер\n",
    "* сокращены функции ```Context.__repr__```, ```Context.pretty_repr```\n",
    "* вынес конструкцию ```a if a is not None else b``` в функцию ```get_not_none(a,b)```\n",
    "* В очередной раз поменял синтаксис из-за ```networkx```\n",
    "* Начал удалять переменные ```y_pred_mean```, ```y_fact_mean``` - надо перенести их в разряд метрик"
   ]
  },
  {
   "cell_type": "code",
   "execution_count": 1,
   "metadata": {},
   "outputs": [
    {
     "data": {
      "text/html": [
       "<style>.container { width:90% !important; }</style>"
      ],
      "text/plain": [
       "<IPython.core.display.HTML object>"
      ]
     },
     "metadata": {},
     "output_type": "display_data"
    }
   ],
   "source": [
    "import numpy as np\n",
    "import pandas as pd\n",
    "\n",
    "from catboost import CatBoostClassifier, Pool, CatBoostRegressor\n",
    "from sklearn.model_selection import train_test_split\n",
    "from sklearn.metrics import accuracy_score, precision_score, recall_score\n",
    "\n",
    "from IPython.core.display import display, HTML\n",
    "display(HTML(\"<style>.container { width:90% !important; }</style>\"))\n",
    "\n",
    "import os\n",
    "import sys\n",
    "BASE_PATH = os.path.realpath('..')\n",
    "DATASETS_DIR = os.path.join(BASE_PATH, 'datasets')\n",
    "LIB_DIR = os.path.join(BASE_PATH,'lib')\n",
    "if LIB_DIR not in sys.path:\n",
    "    sys.path.append(LIB_DIR)\n",
    "\n",
    "import matplotlib.pyplot as plt\n",
    "import seaborn as sns\n",
    "from tqdm.notebook import tqdm\n",
    "\n",
    "from importlib import reload"
   ]
  },
  {
   "cell_type": "code",
   "execution_count": 3,
   "metadata": {},
   "outputs": [],
   "source": [
    "import fca_interp as fcai"
   ]
  },
  {
   "cell_type": "code",
   "execution_count": 320,
   "metadata": {},
   "outputs": [],
   "source": [
    "from importlib import reload"
   ]
  },
  {
   "cell_type": "code",
   "execution_count": 321,
   "metadata": {},
   "outputs": [
    {
     "data": {
      "text/html": [
       "<div>\n",
       "<style scoped>\n",
       "    .dataframe tbody tr th:only-of-type {\n",
       "        vertical-align: middle;\n",
       "    }\n",
       "\n",
       "    .dataframe tbody tr th {\n",
       "        vertical-align: top;\n",
       "    }\n",
       "\n",
       "    .dataframe thead th {\n",
       "        text-align: right;\n",
       "    }\n",
       "</style>\n",
       "<table border=\"1\" class=\"dataframe\">\n",
       "  <thead>\n",
       "    <tr style=\"text-align: right;\">\n",
       "      <th></th>\n",
       "      <th>color</th>\n",
       "      <th>firm</th>\n",
       "      <th>smooth</th>\n",
       "      <th>form</th>\n",
       "      <th>fruit</th>\n",
       "    </tr>\n",
       "    <tr>\n",
       "      <th>title</th>\n",
       "      <th></th>\n",
       "      <th></th>\n",
       "      <th></th>\n",
       "      <th></th>\n",
       "      <th></th>\n",
       "    </tr>\n",
       "  </thead>\n",
       "  <tbody>\n",
       "    <tr>\n",
       "      <th>apple</th>\n",
       "      <td>yellow</td>\n",
       "      <td>False</td>\n",
       "      <td>True</td>\n",
       "      <td>round</td>\n",
       "      <td>True</td>\n",
       "    </tr>\n",
       "    <tr>\n",
       "      <th>grapefruit</th>\n",
       "      <td>yellow</td>\n",
       "      <td>False</td>\n",
       "      <td>False</td>\n",
       "      <td>round</td>\n",
       "      <td>True</td>\n",
       "    </tr>\n",
       "    <tr>\n",
       "      <th>kiwi</th>\n",
       "      <td>green</td>\n",
       "      <td>False</td>\n",
       "      <td>False</td>\n",
       "      <td>oval</td>\n",
       "      <td>True</td>\n",
       "    </tr>\n",
       "    <tr>\n",
       "      <th>plum</th>\n",
       "      <td>blue</td>\n",
       "      <td>False</td>\n",
       "      <td>True</td>\n",
       "      <td>oval</td>\n",
       "      <td>True</td>\n",
       "    </tr>\n",
       "    <tr>\n",
       "      <th>toy cube</th>\n",
       "      <td>green</td>\n",
       "      <td>True</td>\n",
       "      <td>True</td>\n",
       "      <td>cubic</td>\n",
       "      <td>False</td>\n",
       "    </tr>\n",
       "    <tr>\n",
       "      <th>egg</th>\n",
       "      <td>white</td>\n",
       "      <td>True</td>\n",
       "      <td>True</td>\n",
       "      <td>oval</td>\n",
       "      <td>False</td>\n",
       "    </tr>\n",
       "    <tr>\n",
       "      <th>tennis ball</th>\n",
       "      <td>white</td>\n",
       "      <td>False</td>\n",
       "      <td>False</td>\n",
       "      <td>round</td>\n",
       "      <td>False</td>\n",
       "    </tr>\n",
       "    <tr>\n",
       "      <th>mango</th>\n",
       "      <td>green</td>\n",
       "      <td>False</td>\n",
       "      <td>True</td>\n",
       "      <td>oval</td>\n",
       "      <td>True</td>\n",
       "    </tr>\n",
       "  </tbody>\n",
       "</table>\n",
       "</div>"
      ],
      "text/plain": [
       "              color   firm  smooth   form  fruit\n",
       "title                                           \n",
       "apple        yellow  False    True  round   True\n",
       "grapefruit   yellow  False   False  round   True\n",
       "kiwi          green  False   False   oval   True\n",
       "plum           blue  False    True   oval   True\n",
       "toy cube      green   True    True  cubic  False\n",
       "egg           white   True    True   oval  False\n",
       "tennis ball   white  False   False  round  False\n",
       "mango         green  False    True   oval   True"
      ]
     },
     "execution_count": 321,
     "metadata": {},
     "output_type": "execute_result"
    }
   ],
   "source": [
    "mango_ds = pd.read_csv(os.path.join(DATASETS_DIR, 'mango.csv'))\n",
    "mango_ds.index = mango_ds['title']\n",
    "mango_ds = mango_ds.drop('title',1)\n",
    "mango_ds"
   ]
  },
  {
   "cell_type": "code",
   "execution_count": 323,
   "metadata": {},
   "outputs": [],
   "source": [
    "mango_bin_ds = mango_ds.copy()\n",
    "for f in mango_bin_ds.columns:\n",
    "    if mango_bin_ds[f].dtype!=bool:\n",
    "        for v in mango_bin_ds[f].unique():\n",
    "            mango_bin_ds[f\"{f}__is__{v}\"] = mango_bin_ds[f]==v\n",
    "        mango_bin_ds = mango_bin_ds.drop(f,1)"
   ]
  },
  {
   "cell_type": "code",
   "execution_count": 386,
   "metadata": {},
   "outputs": [],
   "source": [
    "fcai = reload(fcai)"
   ]
  },
  {
   "cell_type": "code",
   "execution_count": 387,
   "metadata": {},
   "outputs": [],
   "source": [
    "cntx = fcai.Context(mango_bin_ds)\n",
    "fm = fcai.FormalManager(cntx)\n",
    "fm.construct_concepts()\n",
    "fm.construct_lattice()"
   ]
  },
  {
   "cell_type": "code",
   "execution_count": 392,
   "metadata": {},
   "outputs": [],
   "source": [
    "fig = fm.get_plotly_fig()"
   ]
  },
  {
   "cell_type": "code",
   "execution_count": 393,
   "metadata": {},
   "outputs": [
    {
     "data": {
      "application/vnd.plotly.v1+json": {
       "config": {
        "plotlyServerURL": "https://plot.ly"
       },
       "data": [
        {
         "hoverinfo": "none",
         "line": {
          "color": "#888",
          "width": 0.5
         },
         "mode": "lines",
         "type": "scatter",
         "x": [
          -2,
          0,
          null,
          -2,
          -2,
          null,
          -2,
          1,
          null,
          -2,
          2.5,
          null,
          -2.5,
          3,
          null,
          -2.5,
          -3,
          null,
          -2.5,
          0,
          null,
          -1,
          0.5,
          null,
          -1,
          -0.5,
          null,
          -1,
          0,
          null,
          -3,
          0,
          null,
          -3,
          2.5,
          null,
          -1.5,
          0,
          null,
          -1.5,
          -1,
          null,
          -1.5,
          3,
          null,
          -1.5,
          0,
          null,
          -2,
          2,
          null,
          -2,
          0.5,
          null,
          -2,
          1.5,
          null,
          -0.5,
          2,
          null,
          -0.5,
          0,
          null,
          -1,
          1,
          null,
          -1,
          2,
          null,
          -1,
          1.5,
          null,
          -0.5,
          0,
          null,
          -0.5,
          2,
          null,
          0,
          0.5,
          null,
          0,
          0,
          null,
          0,
          1,
          null,
          0.5,
          2,
          null,
          0.5,
          2,
          null,
          0.5,
          0,
          null,
          0.5,
          0,
          null,
          0,
          2,
          null,
          1,
          0,
          null,
          1,
          1.5,
          null,
          1.5,
          2,
          null,
          1.5,
          0,
          null,
          0,
          2,
          null,
          2.5,
          0,
          null,
          1,
          3,
          null
         ],
         "y": [
          3,
          1,
          null,
          3,
          4,
          null,
          3,
          4,
          null,
          3,
          5,
          null,
          5,
          4,
          null,
          5,
          4,
          null,
          5,
          6,
          null,
          3,
          2,
          null,
          3,
          5,
          null,
          3,
          4,
          null,
          4,
          1,
          null,
          4,
          5,
          null,
          5,
          4,
          null,
          5,
          4,
          null,
          5,
          4,
          null,
          5,
          6,
          null,
          4,
          3,
          null,
          4,
          5,
          null,
          4,
          5,
          null,
          5,
          4,
          null,
          5,
          6,
          null,
          4,
          3,
          null,
          4,
          3,
          null,
          4,
          5,
          null,
          2,
          1,
          null,
          2,
          3,
          null,
          1,
          2,
          null,
          1,
          3,
          null,
          1,
          3,
          null,
          2,
          4,
          null,
          2,
          3,
          null,
          5,
          4,
          null,
          5,
          6,
          null,
          4,
          3,
          null,
          4,
          3,
          null,
          4,
          5,
          null,
          5,
          4,
          null,
          5,
          6,
          null,
          3,
          4,
          null,
          5,
          6,
          null,
          3,
          4,
          null
         ]
        },
        {
         "hoverinfo": "text",
         "hovertext": [
          "Concept 17<br><br>extent (len: 1): egg<br>intent (len: 4): firm, smooth, color__is__white, form__is__oval<br>new extent (len: 1): egg<br>new_intent (len: 0): ∅<br>",
          "Concept 4<br><br>extent (len: 3): apple, grapefruit, tennis ball<br>intent (len: 1): form__is__round<br>new extent (len: 0): ∅<br>new_intent (len: 1): form__is__round<br>",
          "Concept 13<br><br>extent (len: 2): kiwi, mango<br>intent (len: 3): fruit, color__is__green, form__is__oval<br>new extent (len: 1): kiwi<br>new_intent (len: 0): ∅<br>",
          "Concept 7<br><br>extent (len: 1): tennis ball<br>intent (len: 2): color__is__white, form__is__round<br>new extent (len: 1): tennis ball<br>new_intent (len: 0): ∅<br>",
          "Concept 5<br><br>extent (len: 5): apple, grapefruit, kiwi, plum, mango<br>intent (len: 1): fruit<br>new extent (len: 0): ∅<br>new_intent (len: 1): fruit<br>",
          "Concept 11<br><br>extent (len: 3): plum, egg, mango<br>intent (len: 2): smooth, form__is__oval<br>new extent (len: 0): ∅<br>new_intent (len: 0): ∅<br>",
          "Concept 1<br><br>extent (len: 3): kiwi, toy cube, mango<br>intent (len: 1): color__is__green<br>new extent (len: 0): ∅<br>new_intent (len: 1): color__is__green<br>",
          "Concept 12<br><br>extent (len: 3): apple, plum, mango<br>intent (len: 2): smooth, fruit<br>new extent (len: 0): ∅<br>new_intent (len: 0): ∅<br>",
          "Concept 18<br><br>extent (len: 1): plum<br>intent (len: 4): smooth, fruit, color__is__blue, form__is__oval<br>new extent (len: 1): plum<br>new_intent (len: 1): color__is__blue<br>",
          "Concept 21<br><br>extent (len: 0): ∅<br>intent (len: 10): firm, smooth, fruit, color__is__yellow, color__is__green,...<br>new extent (len: 0): ∅<br>new_intent (len: 0): ∅<br>",
          "Concept 19<br><br>extent (len: 1): mango<br>intent (len: 4): smooth, fruit, color__is__green, form__is__oval<br>new extent (len: 1): mango<br>new_intent (len: 0): ∅<br>",
          "Concept 3<br><br>extent (len: 4): kiwi, plum, egg, mango<br>intent (len: 1): form__is__oval<br>new extent (len: 0): ∅<br>new_intent (len: 1): form__is__oval<br>",
          "Concept 9<br><br>extent (len: 3): kiwi, plum, mango<br>intent (len: 2): fruit, form__is__oval<br>new extent (len: 0): ∅<br>new_intent (len: 0): ∅<br>",
          "Concept 8<br><br>extent (len: 2): toy cube, egg<br>intent (len: 2): firm, smooth<br>new extent (len: 0): ∅<br>new_intent (len: 1): firm<br>",
          "Concept 6<br><br>extent (len: 5): apple, plum, toy cube, egg, mango<br>intent (len: 1): smooth<br>new extent (len: 0): ∅<br>new_intent (len: 1): smooth<br>",
          "Concept 16<br><br>extent (len: 1): toy cube<br>intent (len: 4): firm, smooth, color__is__green, form__is__cubic<br>new extent (len: 1): toy cube<br>new_intent (len: 1): form__is__cubic<br>",
          "Concept 2<br><br>extent (len: 2): egg, tennis ball<br>intent (len: 1): color__is__white<br>new extent (len: 0): ∅<br>new_intent (len: 1): color__is__white<br>",
          "Concept 0<br><br>extent (len: 8): apple, grapefruit, kiwi, plum, toy cube,...<br>intent (len: 0): ∅<br>new extent (len: 0): ∅<br>new_intent (len: 0): ∅<br>",
          "Concept 10<br><br>extent (len: 2): toy cube, mango<br>intent (len: 2): smooth, color__is__green<br>new extent (len: 0): ∅<br>new_intent (len: 0): ∅<br>",
          "Concept 20<br><br>extent (len: 1): apple<br>intent (len: 4): smooth, fruit, color__is__yellow, form__is__round<br>new extent (len: 1): apple<br>new_intent (len: 0): ∅<br>",
          "Concept 15<br><br>extent (len: 2): plum, mango<br>intent (len: 3): smooth, fruit, form__is__oval<br>new extent (len: 0): ∅<br>new_intent (len: 0): ∅<br>",
          "Concept 14<br><br>extent (len: 2): apple, grapefruit<br>intent (len: 3): fruit, color__is__yellow, form__is__round<br>new extent (len: 1): grapefruit<br>new_intent (len: 1): color__is__yellow<br>"
         ],
         "marker": {
          "color": [
           "grey",
           "grey",
           "grey",
           "grey",
           "grey",
           "grey",
           "grey",
           "grey",
           "grey",
           "grey",
           "grey",
           "grey",
           "grey",
           "grey",
           "grey",
           "grey",
           "grey",
           "grey",
           "grey",
           "grey",
           "grey",
           "grey"
          ],
          "colorbar": {
           "thickness": 15,
           "title": {
            "side": "right",
            "text": "y_mean"
           },
           "xanchor": "left"
          },
          "colorscale": [
           [
            0,
            "rgb(103,0,31)"
           ],
           [
            0.1,
            "rgb(178,24,43)"
           ],
           [
            0.2,
            "rgb(214,96,77)"
           ],
           [
            0.3,
            "rgb(244,165,130)"
           ],
           [
            0.4,
            "rgb(253,219,199)"
           ],
           [
            0.5,
            "rgb(247,247,247)"
           ],
           [
            0.6,
            "rgb(209,229,240)"
           ],
           [
            0.7,
            "rgb(146,197,222)"
           ],
           [
            0.8,
            "rgb(67,147,195)"
           ],
           [
            0.9,
            "rgb(33,102,172)"
           ],
           [
            1,
            "rgb(5,48,97)"
           ]
          ],
          "line": {
           "width": 2
          },
          "reversescale": true,
          "showscale": true,
          "size": 10
         },
         "mode": "markers+text",
         "text": [
          "<br>egg",
          "form__is__round<br>",
          "<br>kiwi",
          "<br>tennis ball",
          "fruit<br>",
          "<br>",
          "color__is__green<br>",
          "<br>",
          "color__is__blue<br>plum",
          "<br>",
          "<br>mango",
          "form__is__oval<br>",
          "<br>",
          "firm<br>",
          "smooth<br>",
          "form__is__cubic<br>toy cube",
          "color__is__white<br>",
          "<br>",
          "<br>",
          "<br>apple",
          "<br>",
          "color__is__yellow<br>grapefruit"
         ],
         "textposition": "middle right",
         "type": "scatter",
         "x": [
          -2,
          -2.5,
          -1,
          -3,
          -1.5,
          -2,
          -0.5,
          -1,
          -0.5,
          0,
          0.5,
          0.5,
          0,
          1,
          1.5,
          0,
          2.5,
          0,
          2,
          1,
          2,
          3
         ],
         "y": [
          3,
          5,
          3,
          4,
          5,
          4,
          5,
          4,
          2,
          1,
          2,
          5,
          4,
          4,
          5,
          3,
          5,
          6,
          4,
          3,
          3,
          4
         ]
        }
       ],
       "layout": {
        "height": 500,
        "hovermode": "closest",
        "margin": {
         "b": 20,
         "l": 5,
         "r": 5,
         "t": 40
        },
        "showlegend": false,
        "template": {
         "data": {
          "bar": [
           {
            "error_x": {
             "color": "#2a3f5f"
            },
            "error_y": {
             "color": "#2a3f5f"
            },
            "marker": {
             "line": {
              "color": "#E5ECF6",
              "width": 0.5
             }
            },
            "type": "bar"
           }
          ],
          "barpolar": [
           {
            "marker": {
             "line": {
              "color": "#E5ECF6",
              "width": 0.5
             }
            },
            "type": "barpolar"
           }
          ],
          "carpet": [
           {
            "aaxis": {
             "endlinecolor": "#2a3f5f",
             "gridcolor": "white",
             "linecolor": "white",
             "minorgridcolor": "white",
             "startlinecolor": "#2a3f5f"
            },
            "baxis": {
             "endlinecolor": "#2a3f5f",
             "gridcolor": "white",
             "linecolor": "white",
             "minorgridcolor": "white",
             "startlinecolor": "#2a3f5f"
            },
            "type": "carpet"
           }
          ],
          "choropleth": [
           {
            "colorbar": {
             "outlinewidth": 0,
             "ticks": ""
            },
            "type": "choropleth"
           }
          ],
          "contour": [
           {
            "colorbar": {
             "outlinewidth": 0,
             "ticks": ""
            },
            "colorscale": [
             [
              0,
              "#0d0887"
             ],
             [
              0.1111111111111111,
              "#46039f"
             ],
             [
              0.2222222222222222,
              "#7201a8"
             ],
             [
              0.3333333333333333,
              "#9c179e"
             ],
             [
              0.4444444444444444,
              "#bd3786"
             ],
             [
              0.5555555555555556,
              "#d8576b"
             ],
             [
              0.6666666666666666,
              "#ed7953"
             ],
             [
              0.7777777777777778,
              "#fb9f3a"
             ],
             [
              0.8888888888888888,
              "#fdca26"
             ],
             [
              1,
              "#f0f921"
             ]
            ],
            "type": "contour"
           }
          ],
          "contourcarpet": [
           {
            "colorbar": {
             "outlinewidth": 0,
             "ticks": ""
            },
            "type": "contourcarpet"
           }
          ],
          "heatmap": [
           {
            "colorbar": {
             "outlinewidth": 0,
             "ticks": ""
            },
            "colorscale": [
             [
              0,
              "#0d0887"
             ],
             [
              0.1111111111111111,
              "#46039f"
             ],
             [
              0.2222222222222222,
              "#7201a8"
             ],
             [
              0.3333333333333333,
              "#9c179e"
             ],
             [
              0.4444444444444444,
              "#bd3786"
             ],
             [
              0.5555555555555556,
              "#d8576b"
             ],
             [
              0.6666666666666666,
              "#ed7953"
             ],
             [
              0.7777777777777778,
              "#fb9f3a"
             ],
             [
              0.8888888888888888,
              "#fdca26"
             ],
             [
              1,
              "#f0f921"
             ]
            ],
            "type": "heatmap"
           }
          ],
          "heatmapgl": [
           {
            "colorbar": {
             "outlinewidth": 0,
             "ticks": ""
            },
            "colorscale": [
             [
              0,
              "#0d0887"
             ],
             [
              0.1111111111111111,
              "#46039f"
             ],
             [
              0.2222222222222222,
              "#7201a8"
             ],
             [
              0.3333333333333333,
              "#9c179e"
             ],
             [
              0.4444444444444444,
              "#bd3786"
             ],
             [
              0.5555555555555556,
              "#d8576b"
             ],
             [
              0.6666666666666666,
              "#ed7953"
             ],
             [
              0.7777777777777778,
              "#fb9f3a"
             ],
             [
              0.8888888888888888,
              "#fdca26"
             ],
             [
              1,
              "#f0f921"
             ]
            ],
            "type": "heatmapgl"
           }
          ],
          "histogram": [
           {
            "marker": {
             "colorbar": {
              "outlinewidth": 0,
              "ticks": ""
             }
            },
            "type": "histogram"
           }
          ],
          "histogram2d": [
           {
            "colorbar": {
             "outlinewidth": 0,
             "ticks": ""
            },
            "colorscale": [
             [
              0,
              "#0d0887"
             ],
             [
              0.1111111111111111,
              "#46039f"
             ],
             [
              0.2222222222222222,
              "#7201a8"
             ],
             [
              0.3333333333333333,
              "#9c179e"
             ],
             [
              0.4444444444444444,
              "#bd3786"
             ],
             [
              0.5555555555555556,
              "#d8576b"
             ],
             [
              0.6666666666666666,
              "#ed7953"
             ],
             [
              0.7777777777777778,
              "#fb9f3a"
             ],
             [
              0.8888888888888888,
              "#fdca26"
             ],
             [
              1,
              "#f0f921"
             ]
            ],
            "type": "histogram2d"
           }
          ],
          "histogram2dcontour": [
           {
            "colorbar": {
             "outlinewidth": 0,
             "ticks": ""
            },
            "colorscale": [
             [
              0,
              "#0d0887"
             ],
             [
              0.1111111111111111,
              "#46039f"
             ],
             [
              0.2222222222222222,
              "#7201a8"
             ],
             [
              0.3333333333333333,
              "#9c179e"
             ],
             [
              0.4444444444444444,
              "#bd3786"
             ],
             [
              0.5555555555555556,
              "#d8576b"
             ],
             [
              0.6666666666666666,
              "#ed7953"
             ],
             [
              0.7777777777777778,
              "#fb9f3a"
             ],
             [
              0.8888888888888888,
              "#fdca26"
             ],
             [
              1,
              "#f0f921"
             ]
            ],
            "type": "histogram2dcontour"
           }
          ],
          "mesh3d": [
           {
            "colorbar": {
             "outlinewidth": 0,
             "ticks": ""
            },
            "type": "mesh3d"
           }
          ],
          "parcoords": [
           {
            "line": {
             "colorbar": {
              "outlinewidth": 0,
              "ticks": ""
             }
            },
            "type": "parcoords"
           }
          ],
          "pie": [
           {
            "automargin": true,
            "type": "pie"
           }
          ],
          "scatter": [
           {
            "marker": {
             "colorbar": {
              "outlinewidth": 0,
              "ticks": ""
             }
            },
            "type": "scatter"
           }
          ],
          "scatter3d": [
           {
            "line": {
             "colorbar": {
              "outlinewidth": 0,
              "ticks": ""
             }
            },
            "marker": {
             "colorbar": {
              "outlinewidth": 0,
              "ticks": ""
             }
            },
            "type": "scatter3d"
           }
          ],
          "scattercarpet": [
           {
            "marker": {
             "colorbar": {
              "outlinewidth": 0,
              "ticks": ""
             }
            },
            "type": "scattercarpet"
           }
          ],
          "scattergeo": [
           {
            "marker": {
             "colorbar": {
              "outlinewidth": 0,
              "ticks": ""
             }
            },
            "type": "scattergeo"
           }
          ],
          "scattergl": [
           {
            "marker": {
             "colorbar": {
              "outlinewidth": 0,
              "ticks": ""
             }
            },
            "type": "scattergl"
           }
          ],
          "scattermapbox": [
           {
            "marker": {
             "colorbar": {
              "outlinewidth": 0,
              "ticks": ""
             }
            },
            "type": "scattermapbox"
           }
          ],
          "scatterpolar": [
           {
            "marker": {
             "colorbar": {
              "outlinewidth": 0,
              "ticks": ""
             }
            },
            "type": "scatterpolar"
           }
          ],
          "scatterpolargl": [
           {
            "marker": {
             "colorbar": {
              "outlinewidth": 0,
              "ticks": ""
             }
            },
            "type": "scatterpolargl"
           }
          ],
          "scatterternary": [
           {
            "marker": {
             "colorbar": {
              "outlinewidth": 0,
              "ticks": ""
             }
            },
            "type": "scatterternary"
           }
          ],
          "surface": [
           {
            "colorbar": {
             "outlinewidth": 0,
             "ticks": ""
            },
            "colorscale": [
             [
              0,
              "#0d0887"
             ],
             [
              0.1111111111111111,
              "#46039f"
             ],
             [
              0.2222222222222222,
              "#7201a8"
             ],
             [
              0.3333333333333333,
              "#9c179e"
             ],
             [
              0.4444444444444444,
              "#bd3786"
             ],
             [
              0.5555555555555556,
              "#d8576b"
             ],
             [
              0.6666666666666666,
              "#ed7953"
             ],
             [
              0.7777777777777778,
              "#fb9f3a"
             ],
             [
              0.8888888888888888,
              "#fdca26"
             ],
             [
              1,
              "#f0f921"
             ]
            ],
            "type": "surface"
           }
          ],
          "table": [
           {
            "cells": {
             "fill": {
              "color": "#EBF0F8"
             },
             "line": {
              "color": "white"
             }
            },
            "header": {
             "fill": {
              "color": "#C8D4E3"
             },
             "line": {
              "color": "white"
             }
            },
            "type": "table"
           }
          ]
         },
         "layout": {
          "annotationdefaults": {
           "arrowcolor": "#2a3f5f",
           "arrowhead": 0,
           "arrowwidth": 1
          },
          "coloraxis": {
           "colorbar": {
            "outlinewidth": 0,
            "ticks": ""
           }
          },
          "colorscale": {
           "diverging": [
            [
             0,
             "#8e0152"
            ],
            [
             0.1,
             "#c51b7d"
            ],
            [
             0.2,
             "#de77ae"
            ],
            [
             0.3,
             "#f1b6da"
            ],
            [
             0.4,
             "#fde0ef"
            ],
            [
             0.5,
             "#f7f7f7"
            ],
            [
             0.6,
             "#e6f5d0"
            ],
            [
             0.7,
             "#b8e186"
            ],
            [
             0.8,
             "#7fbc41"
            ],
            [
             0.9,
             "#4d9221"
            ],
            [
             1,
             "#276419"
            ]
           ],
           "sequential": [
            [
             0,
             "#0d0887"
            ],
            [
             0.1111111111111111,
             "#46039f"
            ],
            [
             0.2222222222222222,
             "#7201a8"
            ],
            [
             0.3333333333333333,
             "#9c179e"
            ],
            [
             0.4444444444444444,
             "#bd3786"
            ],
            [
             0.5555555555555556,
             "#d8576b"
            ],
            [
             0.6666666666666666,
             "#ed7953"
            ],
            [
             0.7777777777777778,
             "#fb9f3a"
            ],
            [
             0.8888888888888888,
             "#fdca26"
            ],
            [
             1,
             "#f0f921"
            ]
           ],
           "sequentialminus": [
            [
             0,
             "#0d0887"
            ],
            [
             0.1111111111111111,
             "#46039f"
            ],
            [
             0.2222222222222222,
             "#7201a8"
            ],
            [
             0.3333333333333333,
             "#9c179e"
            ],
            [
             0.4444444444444444,
             "#bd3786"
            ],
            [
             0.5555555555555556,
             "#d8576b"
            ],
            [
             0.6666666666666666,
             "#ed7953"
            ],
            [
             0.7777777777777778,
             "#fb9f3a"
            ],
            [
             0.8888888888888888,
             "#fdca26"
            ],
            [
             1,
             "#f0f921"
            ]
           ]
          },
          "colorway": [
           "#636efa",
           "#EF553B",
           "#00cc96",
           "#ab63fa",
           "#FFA15A",
           "#19d3f3",
           "#FF6692",
           "#B6E880",
           "#FF97FF",
           "#FECB52"
          ],
          "font": {
           "color": "#2a3f5f"
          },
          "geo": {
           "bgcolor": "white",
           "lakecolor": "white",
           "landcolor": "#E5ECF6",
           "showlakes": true,
           "showland": true,
           "subunitcolor": "white"
          },
          "hoverlabel": {
           "align": "left"
          },
          "hovermode": "closest",
          "mapbox": {
           "style": "light"
          },
          "paper_bgcolor": "white",
          "plot_bgcolor": "#E5ECF6",
          "polar": {
           "angularaxis": {
            "gridcolor": "white",
            "linecolor": "white",
            "ticks": ""
           },
           "bgcolor": "#E5ECF6",
           "radialaxis": {
            "gridcolor": "white",
            "linecolor": "white",
            "ticks": ""
           }
          },
          "scene": {
           "xaxis": {
            "backgroundcolor": "#E5ECF6",
            "gridcolor": "white",
            "gridwidth": 2,
            "linecolor": "white",
            "showbackground": true,
            "ticks": "",
            "zerolinecolor": "white"
           },
           "yaxis": {
            "backgroundcolor": "#E5ECF6",
            "gridcolor": "white",
            "gridwidth": 2,
            "linecolor": "white",
            "showbackground": true,
            "ticks": "",
            "zerolinecolor": "white"
           },
           "zaxis": {
            "backgroundcolor": "#E5ECF6",
            "gridcolor": "white",
            "gridwidth": 2,
            "linecolor": "white",
            "showbackground": true,
            "ticks": "",
            "zerolinecolor": "white"
           }
          },
          "shapedefaults": {
           "line": {
            "color": "#2a3f5f"
           }
          },
          "ternary": {
           "aaxis": {
            "gridcolor": "white",
            "linecolor": "white",
            "ticks": ""
           },
           "baxis": {
            "gridcolor": "white",
            "linecolor": "white",
            "ticks": ""
           },
           "bgcolor": "#E5ECF6",
           "caxis": {
            "gridcolor": "white",
            "linecolor": "white",
            "ticks": ""
           }
          },
          "title": {
           "x": 0.05
          },
          "xaxis": {
           "automargin": true,
           "gridcolor": "white",
           "linecolor": "white",
           "ticks": "",
           "title": {
            "standoff": 15
           },
           "zerolinecolor": "white",
           "zerolinewidth": 2
          },
          "yaxis": {
           "automargin": true,
           "gridcolor": "white",
           "linecolor": "white",
           "ticks": "",
           "title": {
            "standoff": 15
           },
           "zerolinecolor": "white",
           "zerolinewidth": 2
          }
         }
        },
        "title": {
         "font": {
          "size": 16
         },
         "text": "Concept Lattice"
        },
        "width": 1000,
        "xaxis": {
         "showgrid": false,
         "showticklabels": false,
         "zeroline": false
        },
        "yaxis": {
         "showgrid": false,
         "showticklabels": false,
         "zeroline": false
        }
       }
      },
      "text/html": [
       "<div>\n",
       "        \n",
       "        \n",
       "            <div id=\"2048e106-cfcf-43ee-ac09-51f1d14ac250\" class=\"plotly-graph-div\" style=\"height:500px; width:1000px;\"></div>\n",
       "            <script type=\"text/javascript\">\n",
       "                require([\"plotly\"], function(Plotly) {\n",
       "                    window.PLOTLYENV=window.PLOTLYENV || {};\n",
       "                    \n",
       "                if (document.getElementById(\"2048e106-cfcf-43ee-ac09-51f1d14ac250\")) {\n",
       "                    Plotly.newPlot(\n",
       "                        '2048e106-cfcf-43ee-ac09-51f1d14ac250',\n",
       "                        [{\"hoverinfo\": \"none\", \"line\": {\"color\": \"#888\", \"width\": 0.5}, \"mode\": \"lines\", \"type\": \"scatter\", \"x\": [-2.0, 0.0, null, -2.0, -2.0, null, -2.0, 1.0, null, -2.0, 2.5, null, -2.5, 3.0, null, -2.5, -3.0, null, -2.5, 0.0, null, -1.0, 0.5, null, -1.0, -0.5, null, -1.0, 0.0, null, -3.0, 0.0, null, -3.0, 2.5, null, -1.5, 0.0, null, -1.5, -1.0, null, -1.5, 3.0, null, -1.5, 0.0, null, -2.0, 2.0, null, -2.0, 0.5, null, -2.0, 1.5, null, -0.5, 2.0, null, -0.5, 0.0, null, -1.0, 1.0, null, -1.0, 2.0, null, -1.0, 1.5, null, -0.5, 0.0, null, -0.5, 2.0, null, 0.0, 0.5, null, 0.0, 0.0, null, 0.0, 1.0, null, 0.5, 2.0, null, 0.5, 2.0, null, 0.5, 0.0, null, 0.5, 0.0, null, 0.0, 2.0, null, 1.0, 0.0, null, 1.0, 1.5, null, 1.5, 2.0, null, 1.5, 0.0, null, 0.0, 2.0, null, 2.5, 0.0, null, 1.0, 3.0, null], \"y\": [3, 1, null, 3, 4, null, 3, 4, null, 3, 5, null, 5, 4, null, 5, 4, null, 5, 6, null, 3, 2, null, 3, 5, null, 3, 4, null, 4, 1, null, 4, 5, null, 5, 4, null, 5, 4, null, 5, 4, null, 5, 6, null, 4, 3, null, 4, 5, null, 4, 5, null, 5, 4, null, 5, 6, null, 4, 3, null, 4, 3, null, 4, 5, null, 2, 1, null, 2, 3, null, 1, 2, null, 1, 3, null, 1, 3, null, 2, 4, null, 2, 3, null, 5, 4, null, 5, 6, null, 4, 3, null, 4, 3, null, 4, 5, null, 5, 4, null, 5, 6, null, 3, 4, null, 5, 6, null, 3, 4, null]}, {\"hoverinfo\": \"text\", \"hovertext\": [\"Concept 17<br><br>extent (len: 1): egg<br>intent (len: 4): firm, smooth, color__is__white, form__is__oval<br>new extent (len: 1): egg<br>new_intent (len: 0): \\u2205<br>\", \"Concept 4<br><br>extent (len: 3): apple, grapefruit, tennis ball<br>intent (len: 1): form__is__round<br>new extent (len: 0): \\u2205<br>new_intent (len: 1): form__is__round<br>\", \"Concept 13<br><br>extent (len: 2): kiwi, mango<br>intent (len: 3): fruit, color__is__green, form__is__oval<br>new extent (len: 1): kiwi<br>new_intent (len: 0): \\u2205<br>\", \"Concept 7<br><br>extent (len: 1): tennis ball<br>intent (len: 2): color__is__white, form__is__round<br>new extent (len: 1): tennis ball<br>new_intent (len: 0): \\u2205<br>\", \"Concept 5<br><br>extent (len: 5): apple, grapefruit, kiwi, plum, mango<br>intent (len: 1): fruit<br>new extent (len: 0): \\u2205<br>new_intent (len: 1): fruit<br>\", \"Concept 11<br><br>extent (len: 3): plum, egg, mango<br>intent (len: 2): smooth, form__is__oval<br>new extent (len: 0): \\u2205<br>new_intent (len: 0): \\u2205<br>\", \"Concept 1<br><br>extent (len: 3): kiwi, toy cube, mango<br>intent (len: 1): color__is__green<br>new extent (len: 0): \\u2205<br>new_intent (len: 1): color__is__green<br>\", \"Concept 12<br><br>extent (len: 3): apple, plum, mango<br>intent (len: 2): smooth, fruit<br>new extent (len: 0): \\u2205<br>new_intent (len: 0): \\u2205<br>\", \"Concept 18<br><br>extent (len: 1): plum<br>intent (len: 4): smooth, fruit, color__is__blue, form__is__oval<br>new extent (len: 1): plum<br>new_intent (len: 1): color__is__blue<br>\", \"Concept 21<br><br>extent (len: 0): \\u2205<br>intent (len: 10): firm, smooth, fruit, color__is__yellow, color__is__green,...<br>new extent (len: 0): \\u2205<br>new_intent (len: 0): \\u2205<br>\", \"Concept 19<br><br>extent (len: 1): mango<br>intent (len: 4): smooth, fruit, color__is__green, form__is__oval<br>new extent (len: 1): mango<br>new_intent (len: 0): \\u2205<br>\", \"Concept 3<br><br>extent (len: 4): kiwi, plum, egg, mango<br>intent (len: 1): form__is__oval<br>new extent (len: 0): \\u2205<br>new_intent (len: 1): form__is__oval<br>\", \"Concept 9<br><br>extent (len: 3): kiwi, plum, mango<br>intent (len: 2): fruit, form__is__oval<br>new extent (len: 0): \\u2205<br>new_intent (len: 0): \\u2205<br>\", \"Concept 8<br><br>extent (len: 2): toy cube, egg<br>intent (len: 2): firm, smooth<br>new extent (len: 0): \\u2205<br>new_intent (len: 1): firm<br>\", \"Concept 6<br><br>extent (len: 5): apple, plum, toy cube, egg, mango<br>intent (len: 1): smooth<br>new extent (len: 0): \\u2205<br>new_intent (len: 1): smooth<br>\", \"Concept 16<br><br>extent (len: 1): toy cube<br>intent (len: 4): firm, smooth, color__is__green, form__is__cubic<br>new extent (len: 1): toy cube<br>new_intent (len: 1): form__is__cubic<br>\", \"Concept 2<br><br>extent (len: 2): egg, tennis ball<br>intent (len: 1): color__is__white<br>new extent (len: 0): \\u2205<br>new_intent (len: 1): color__is__white<br>\", \"Concept 0<br><br>extent (len: 8): apple, grapefruit, kiwi, plum, toy cube,...<br>intent (len: 0): \\u2205<br>new extent (len: 0): \\u2205<br>new_intent (len: 0): \\u2205<br>\", \"Concept 10<br><br>extent (len: 2): toy cube, mango<br>intent (len: 2): smooth, color__is__green<br>new extent (len: 0): \\u2205<br>new_intent (len: 0): \\u2205<br>\", \"Concept 20<br><br>extent (len: 1): apple<br>intent (len: 4): smooth, fruit, color__is__yellow, form__is__round<br>new extent (len: 1): apple<br>new_intent (len: 0): \\u2205<br>\", \"Concept 15<br><br>extent (len: 2): plum, mango<br>intent (len: 3): smooth, fruit, form__is__oval<br>new extent (len: 0): \\u2205<br>new_intent (len: 0): \\u2205<br>\", \"Concept 14<br><br>extent (len: 2): apple, grapefruit<br>intent (len: 3): fruit, color__is__yellow, form__is__round<br>new extent (len: 1): grapefruit<br>new_intent (len: 1): color__is__yellow<br>\"], \"marker\": {\"color\": [\"grey\", \"grey\", \"grey\", \"grey\", \"grey\", \"grey\", \"grey\", \"grey\", \"grey\", \"grey\", \"grey\", \"grey\", \"grey\", \"grey\", \"grey\", \"grey\", \"grey\", \"grey\", \"grey\", \"grey\", \"grey\", \"grey\"], \"colorbar\": {\"thickness\": 15, \"title\": {\"side\": \"right\", \"text\": \"y_mean\"}, \"xanchor\": \"left\"}, \"colorscale\": [[0.0, \"rgb(103,0,31)\"], [0.1, \"rgb(178,24,43)\"], [0.2, \"rgb(214,96,77)\"], [0.3, \"rgb(244,165,130)\"], [0.4, \"rgb(253,219,199)\"], [0.5, \"rgb(247,247,247)\"], [0.6, \"rgb(209,229,240)\"], [0.7, \"rgb(146,197,222)\"], [0.8, \"rgb(67,147,195)\"], [0.9, \"rgb(33,102,172)\"], [1.0, \"rgb(5,48,97)\"]], \"line\": {\"width\": 2}, \"reversescale\": true, \"showscale\": true, \"size\": 10}, \"mode\": \"markers+text\", \"text\": [\"<br>egg\", \"form__is__round<br>\", \"<br>kiwi\", \"<br>tennis ball\", \"fruit<br>\", \"<br>\", \"color__is__green<br>\", \"<br>\", \"color__is__blue<br>plum\", \"<br>\", \"<br>mango\", \"form__is__oval<br>\", \"<br>\", \"firm<br>\", \"smooth<br>\", \"form__is__cubic<br>toy cube\", \"color__is__white<br>\", \"<br>\", \"<br>\", \"<br>apple\", \"<br>\", \"color__is__yellow<br>grapefruit\"], \"textposition\": \"middle right\", \"type\": \"scatter\", \"x\": [-2.0, -2.5, -1.0, -3.0, -1.5, -2.0, -0.5, -1.0, -0.5, 0.0, 0.5, 0.5, 0.0, 1.0, 1.5, 0.0, 2.5, 0.0, 2.0, 1.0, 2.0, 3.0], \"y\": [3, 5, 3, 4, 5, 4, 5, 4, 2, 1, 2, 5, 4, 4, 5, 3, 5, 6, 4, 3, 3, 4]}],\n",
       "                        {\"height\": 500, \"hovermode\": \"closest\", \"margin\": {\"b\": 20, \"l\": 5, \"r\": 5, \"t\": 40}, \"showlegend\": false, \"template\": {\"data\": {\"bar\": [{\"error_x\": {\"color\": \"#2a3f5f\"}, \"error_y\": {\"color\": \"#2a3f5f\"}, \"marker\": {\"line\": {\"color\": \"#E5ECF6\", \"width\": 0.5}}, \"type\": \"bar\"}], \"barpolar\": [{\"marker\": {\"line\": {\"color\": \"#E5ECF6\", \"width\": 0.5}}, \"type\": \"barpolar\"}], \"carpet\": [{\"aaxis\": {\"endlinecolor\": \"#2a3f5f\", \"gridcolor\": \"white\", \"linecolor\": \"white\", \"minorgridcolor\": \"white\", \"startlinecolor\": \"#2a3f5f\"}, \"baxis\": {\"endlinecolor\": \"#2a3f5f\", \"gridcolor\": \"white\", \"linecolor\": \"white\", \"minorgridcolor\": \"white\", \"startlinecolor\": \"#2a3f5f\"}, \"type\": \"carpet\"}], \"choropleth\": [{\"colorbar\": {\"outlinewidth\": 0, \"ticks\": \"\"}, \"type\": \"choropleth\"}], \"contour\": [{\"colorbar\": {\"outlinewidth\": 0, \"ticks\": \"\"}, \"colorscale\": [[0.0, \"#0d0887\"], [0.1111111111111111, \"#46039f\"], [0.2222222222222222, \"#7201a8\"], [0.3333333333333333, \"#9c179e\"], [0.4444444444444444, \"#bd3786\"], [0.5555555555555556, \"#d8576b\"], [0.6666666666666666, \"#ed7953\"], [0.7777777777777778, \"#fb9f3a\"], [0.8888888888888888, \"#fdca26\"], [1.0, \"#f0f921\"]], \"type\": \"contour\"}], \"contourcarpet\": [{\"colorbar\": {\"outlinewidth\": 0, \"ticks\": \"\"}, \"type\": \"contourcarpet\"}], \"heatmap\": [{\"colorbar\": {\"outlinewidth\": 0, \"ticks\": \"\"}, \"colorscale\": [[0.0, \"#0d0887\"], [0.1111111111111111, \"#46039f\"], [0.2222222222222222, \"#7201a8\"], [0.3333333333333333, \"#9c179e\"], [0.4444444444444444, \"#bd3786\"], [0.5555555555555556, \"#d8576b\"], [0.6666666666666666, \"#ed7953\"], [0.7777777777777778, \"#fb9f3a\"], [0.8888888888888888, \"#fdca26\"], [1.0, \"#f0f921\"]], \"type\": \"heatmap\"}], \"heatmapgl\": [{\"colorbar\": {\"outlinewidth\": 0, \"ticks\": \"\"}, \"colorscale\": [[0.0, \"#0d0887\"], [0.1111111111111111, \"#46039f\"], [0.2222222222222222, \"#7201a8\"], [0.3333333333333333, \"#9c179e\"], [0.4444444444444444, \"#bd3786\"], [0.5555555555555556, \"#d8576b\"], [0.6666666666666666, \"#ed7953\"], [0.7777777777777778, \"#fb9f3a\"], [0.8888888888888888, \"#fdca26\"], [1.0, \"#f0f921\"]], \"type\": \"heatmapgl\"}], \"histogram\": [{\"marker\": {\"colorbar\": {\"outlinewidth\": 0, \"ticks\": \"\"}}, \"type\": \"histogram\"}], \"histogram2d\": [{\"colorbar\": {\"outlinewidth\": 0, \"ticks\": \"\"}, \"colorscale\": [[0.0, \"#0d0887\"], [0.1111111111111111, \"#46039f\"], [0.2222222222222222, \"#7201a8\"], [0.3333333333333333, \"#9c179e\"], [0.4444444444444444, \"#bd3786\"], [0.5555555555555556, \"#d8576b\"], [0.6666666666666666, \"#ed7953\"], [0.7777777777777778, \"#fb9f3a\"], [0.8888888888888888, \"#fdca26\"], [1.0, \"#f0f921\"]], \"type\": \"histogram2d\"}], \"histogram2dcontour\": [{\"colorbar\": {\"outlinewidth\": 0, \"ticks\": \"\"}, \"colorscale\": [[0.0, \"#0d0887\"], [0.1111111111111111, \"#46039f\"], [0.2222222222222222, \"#7201a8\"], [0.3333333333333333, \"#9c179e\"], [0.4444444444444444, \"#bd3786\"], [0.5555555555555556, \"#d8576b\"], [0.6666666666666666, \"#ed7953\"], [0.7777777777777778, \"#fb9f3a\"], [0.8888888888888888, \"#fdca26\"], [1.0, \"#f0f921\"]], \"type\": \"histogram2dcontour\"}], \"mesh3d\": [{\"colorbar\": {\"outlinewidth\": 0, \"ticks\": \"\"}, \"type\": \"mesh3d\"}], \"parcoords\": [{\"line\": {\"colorbar\": {\"outlinewidth\": 0, \"ticks\": \"\"}}, \"type\": \"parcoords\"}], \"pie\": [{\"automargin\": true, \"type\": \"pie\"}], \"scatter\": [{\"marker\": {\"colorbar\": {\"outlinewidth\": 0, \"ticks\": \"\"}}, \"type\": \"scatter\"}], \"scatter3d\": [{\"line\": {\"colorbar\": {\"outlinewidth\": 0, \"ticks\": \"\"}}, \"marker\": {\"colorbar\": {\"outlinewidth\": 0, \"ticks\": \"\"}}, \"type\": \"scatter3d\"}], \"scattercarpet\": [{\"marker\": {\"colorbar\": {\"outlinewidth\": 0, \"ticks\": \"\"}}, \"type\": \"scattercarpet\"}], \"scattergeo\": [{\"marker\": {\"colorbar\": {\"outlinewidth\": 0, \"ticks\": \"\"}}, \"type\": \"scattergeo\"}], \"scattergl\": [{\"marker\": {\"colorbar\": {\"outlinewidth\": 0, \"ticks\": \"\"}}, \"type\": \"scattergl\"}], \"scattermapbox\": [{\"marker\": {\"colorbar\": {\"outlinewidth\": 0, \"ticks\": \"\"}}, \"type\": \"scattermapbox\"}], \"scatterpolar\": [{\"marker\": {\"colorbar\": {\"outlinewidth\": 0, \"ticks\": \"\"}}, \"type\": \"scatterpolar\"}], \"scatterpolargl\": [{\"marker\": {\"colorbar\": {\"outlinewidth\": 0, \"ticks\": \"\"}}, \"type\": \"scatterpolargl\"}], \"scatterternary\": [{\"marker\": {\"colorbar\": {\"outlinewidth\": 0, \"ticks\": \"\"}}, \"type\": \"scatterternary\"}], \"surface\": [{\"colorbar\": {\"outlinewidth\": 0, \"ticks\": \"\"}, \"colorscale\": [[0.0, \"#0d0887\"], [0.1111111111111111, \"#46039f\"], [0.2222222222222222, \"#7201a8\"], [0.3333333333333333, \"#9c179e\"], [0.4444444444444444, \"#bd3786\"], [0.5555555555555556, \"#d8576b\"], [0.6666666666666666, \"#ed7953\"], [0.7777777777777778, \"#fb9f3a\"], [0.8888888888888888, \"#fdca26\"], [1.0, \"#f0f921\"]], \"type\": \"surface\"}], \"table\": [{\"cells\": {\"fill\": {\"color\": \"#EBF0F8\"}, \"line\": {\"color\": \"white\"}}, \"header\": {\"fill\": {\"color\": \"#C8D4E3\"}, \"line\": {\"color\": \"white\"}}, \"type\": \"table\"}]}, \"layout\": {\"annotationdefaults\": {\"arrowcolor\": \"#2a3f5f\", \"arrowhead\": 0, \"arrowwidth\": 1}, \"coloraxis\": {\"colorbar\": {\"outlinewidth\": 0, \"ticks\": \"\"}}, \"colorscale\": {\"diverging\": [[0, \"#8e0152\"], [0.1, \"#c51b7d\"], [0.2, \"#de77ae\"], [0.3, \"#f1b6da\"], [0.4, \"#fde0ef\"], [0.5, \"#f7f7f7\"], [0.6, \"#e6f5d0\"], [0.7, \"#b8e186\"], [0.8, \"#7fbc41\"], [0.9, \"#4d9221\"], [1, \"#276419\"]], \"sequential\": [[0.0, \"#0d0887\"], [0.1111111111111111, \"#46039f\"], [0.2222222222222222, \"#7201a8\"], [0.3333333333333333, \"#9c179e\"], [0.4444444444444444, \"#bd3786\"], [0.5555555555555556, \"#d8576b\"], [0.6666666666666666, \"#ed7953\"], [0.7777777777777778, \"#fb9f3a\"], [0.8888888888888888, \"#fdca26\"], [1.0, \"#f0f921\"]], \"sequentialminus\": [[0.0, \"#0d0887\"], [0.1111111111111111, \"#46039f\"], [0.2222222222222222, \"#7201a8\"], [0.3333333333333333, \"#9c179e\"], [0.4444444444444444, \"#bd3786\"], [0.5555555555555556, \"#d8576b\"], [0.6666666666666666, \"#ed7953\"], [0.7777777777777778, \"#fb9f3a\"], [0.8888888888888888, \"#fdca26\"], [1.0, \"#f0f921\"]]}, \"colorway\": [\"#636efa\", \"#EF553B\", \"#00cc96\", \"#ab63fa\", \"#FFA15A\", \"#19d3f3\", \"#FF6692\", \"#B6E880\", \"#FF97FF\", \"#FECB52\"], \"font\": {\"color\": \"#2a3f5f\"}, \"geo\": {\"bgcolor\": \"white\", \"lakecolor\": \"white\", \"landcolor\": \"#E5ECF6\", \"showlakes\": true, \"showland\": true, \"subunitcolor\": \"white\"}, \"hoverlabel\": {\"align\": \"left\"}, \"hovermode\": \"closest\", \"mapbox\": {\"style\": \"light\"}, \"paper_bgcolor\": \"white\", \"plot_bgcolor\": \"#E5ECF6\", \"polar\": {\"angularaxis\": {\"gridcolor\": \"white\", \"linecolor\": \"white\", \"ticks\": \"\"}, \"bgcolor\": \"#E5ECF6\", \"radialaxis\": {\"gridcolor\": \"white\", \"linecolor\": \"white\", \"ticks\": \"\"}}, \"scene\": {\"xaxis\": {\"backgroundcolor\": \"#E5ECF6\", \"gridcolor\": \"white\", \"gridwidth\": 2, \"linecolor\": \"white\", \"showbackground\": true, \"ticks\": \"\", \"zerolinecolor\": \"white\"}, \"yaxis\": {\"backgroundcolor\": \"#E5ECF6\", \"gridcolor\": \"white\", \"gridwidth\": 2, \"linecolor\": \"white\", \"showbackground\": true, \"ticks\": \"\", \"zerolinecolor\": \"white\"}, \"zaxis\": {\"backgroundcolor\": \"#E5ECF6\", \"gridcolor\": \"white\", \"gridwidth\": 2, \"linecolor\": \"white\", \"showbackground\": true, \"ticks\": \"\", \"zerolinecolor\": \"white\"}}, \"shapedefaults\": {\"line\": {\"color\": \"#2a3f5f\"}}, \"ternary\": {\"aaxis\": {\"gridcolor\": \"white\", \"linecolor\": \"white\", \"ticks\": \"\"}, \"baxis\": {\"gridcolor\": \"white\", \"linecolor\": \"white\", \"ticks\": \"\"}, \"bgcolor\": \"#E5ECF6\", \"caxis\": {\"gridcolor\": \"white\", \"linecolor\": \"white\", \"ticks\": \"\"}}, \"title\": {\"x\": 0.05}, \"xaxis\": {\"automargin\": true, \"gridcolor\": \"white\", \"linecolor\": \"white\", \"ticks\": \"\", \"title\": {\"standoff\": 15}, \"zerolinecolor\": \"white\", \"zerolinewidth\": 2}, \"yaxis\": {\"automargin\": true, \"gridcolor\": \"white\", \"linecolor\": \"white\", \"ticks\": \"\", \"title\": {\"standoff\": 15}, \"zerolinecolor\": \"white\", \"zerolinewidth\": 2}}}, \"title\": {\"font\": {\"size\": 16}, \"text\": \"Concept Lattice\"}, \"width\": 1000, \"xaxis\": {\"showgrid\": false, \"showticklabels\": false, \"zeroline\": false}, \"yaxis\": {\"showgrid\": false, \"showticklabels\": false, \"zeroline\": false}},\n",
       "                        {\"responsive\": true}\n",
       "                    ).then(function(){\n",
       "                            \n",
       "var gd = document.getElementById('2048e106-cfcf-43ee-ac09-51f1d14ac250');\n",
       "var x = new MutationObserver(function (mutations, observer) {{\n",
       "        var display = window.getComputedStyle(gd).display;\n",
       "        if (!display || display === 'none') {{\n",
       "            console.log([gd, 'removed!']);\n",
       "            Plotly.purge(gd);\n",
       "            observer.disconnect();\n",
       "        }}\n",
       "}});\n",
       "\n",
       "// Listen for the removal of the full notebook cells\n",
       "var notebookContainer = gd.closest('#notebook-container');\n",
       "if (notebookContainer) {{\n",
       "    x.observe(notebookContainer, {childList: true});\n",
       "}}\n",
       "\n",
       "// Listen for the clearing of the current output cell\n",
       "var outputEl = gd.closest('.output');\n",
       "if (outputEl) {{\n",
       "    x.observe(outputEl, {childList: true});\n",
       "}}\n",
       "\n",
       "                        })\n",
       "                };\n",
       "                });\n",
       "            </script>\n",
       "        </div>"
      ]
     },
     "metadata": {},
     "output_type": "display_data"
    }
   ],
   "source": [
    "fig.show()"
   ]
  },
  {
   "cell_type": "code",
   "execution_count": null,
   "metadata": {},
   "outputs": [],
   "source": []
  },
  {
   "cell_type": "code",
   "execution_count": 498,
   "metadata": {},
   "outputs": [
    {
     "data": {
      "text/html": [
       "<div>\n",
       "<style scoped>\n",
       "    .dataframe tbody tr th:only-of-type {\n",
       "        vertical-align: middle;\n",
       "    }\n",
       "\n",
       "    .dataframe tbody tr th {\n",
       "        vertical-align: top;\n",
       "    }\n",
       "\n",
       "    .dataframe thead th {\n",
       "        text-align: right;\n",
       "    }\n",
       "</style>\n",
       "<table border=\"1\" class=\"dataframe\">\n",
       "  <thead>\n",
       "    <tr style=\"text-align: right;\">\n",
       "      <th></th>\n",
       "      <th>age</th>\n",
       "      <th>job</th>\n",
       "      <th>marital</th>\n",
       "      <th>education</th>\n",
       "      <th>default</th>\n",
       "      <th>balance</th>\n",
       "      <th>housing</th>\n",
       "      <th>loan</th>\n",
       "      <th>contact</th>\n",
       "      <th>day</th>\n",
       "      <th>month</th>\n",
       "      <th>duration</th>\n",
       "      <th>campaign</th>\n",
       "      <th>pdays</th>\n",
       "      <th>previous</th>\n",
       "      <th>poutcome</th>\n",
       "      <th>y</th>\n",
       "    </tr>\n",
       "  </thead>\n",
       "  <tbody>\n",
       "    <tr>\n",
       "      <th>0</th>\n",
       "      <td>30</td>\n",
       "      <td>unemployed</td>\n",
       "      <td>married</td>\n",
       "      <td>primary</td>\n",
       "      <td>0</td>\n",
       "      <td>1787</td>\n",
       "      <td>0</td>\n",
       "      <td>0</td>\n",
       "      <td>cellular</td>\n",
       "      <td>19</td>\n",
       "      <td>oct</td>\n",
       "      <td>79</td>\n",
       "      <td>1</td>\n",
       "      <td>-1</td>\n",
       "      <td>0</td>\n",
       "      <td>unknown</td>\n",
       "      <td>0</td>\n",
       "    </tr>\n",
       "    <tr>\n",
       "      <th>1</th>\n",
       "      <td>33</td>\n",
       "      <td>services</td>\n",
       "      <td>married</td>\n",
       "      <td>secondary</td>\n",
       "      <td>0</td>\n",
       "      <td>4789</td>\n",
       "      <td>1</td>\n",
       "      <td>1</td>\n",
       "      <td>cellular</td>\n",
       "      <td>11</td>\n",
       "      <td>may</td>\n",
       "      <td>220</td>\n",
       "      <td>1</td>\n",
       "      <td>339</td>\n",
       "      <td>4</td>\n",
       "      <td>failure</td>\n",
       "      <td>0</td>\n",
       "    </tr>\n",
       "    <tr>\n",
       "      <th>2</th>\n",
       "      <td>35</td>\n",
       "      <td>management</td>\n",
       "      <td>single</td>\n",
       "      <td>tertiary</td>\n",
       "      <td>0</td>\n",
       "      <td>1350</td>\n",
       "      <td>1</td>\n",
       "      <td>0</td>\n",
       "      <td>cellular</td>\n",
       "      <td>16</td>\n",
       "      <td>apr</td>\n",
       "      <td>185</td>\n",
       "      <td>1</td>\n",
       "      <td>330</td>\n",
       "      <td>1</td>\n",
       "      <td>failure</td>\n",
       "      <td>0</td>\n",
       "    </tr>\n",
       "    <tr>\n",
       "      <th>3</th>\n",
       "      <td>30</td>\n",
       "      <td>management</td>\n",
       "      <td>married</td>\n",
       "      <td>tertiary</td>\n",
       "      <td>0</td>\n",
       "      <td>1476</td>\n",
       "      <td>1</td>\n",
       "      <td>1</td>\n",
       "      <td>unknown</td>\n",
       "      <td>3</td>\n",
       "      <td>jun</td>\n",
       "      <td>199</td>\n",
       "      <td>4</td>\n",
       "      <td>-1</td>\n",
       "      <td>0</td>\n",
       "      <td>unknown</td>\n",
       "      <td>0</td>\n",
       "    </tr>\n",
       "    <tr>\n",
       "      <th>4</th>\n",
       "      <td>59</td>\n",
       "      <td>blue-collar</td>\n",
       "      <td>married</td>\n",
       "      <td>secondary</td>\n",
       "      <td>0</td>\n",
       "      <td>0</td>\n",
       "      <td>1</td>\n",
       "      <td>0</td>\n",
       "      <td>unknown</td>\n",
       "      <td>5</td>\n",
       "      <td>may</td>\n",
       "      <td>226</td>\n",
       "      <td>1</td>\n",
       "      <td>-1</td>\n",
       "      <td>0</td>\n",
       "      <td>unknown</td>\n",
       "      <td>0</td>\n",
       "    </tr>\n",
       "    <tr>\n",
       "      <th>...</th>\n",
       "      <td>...</td>\n",
       "      <td>...</td>\n",
       "      <td>...</td>\n",
       "      <td>...</td>\n",
       "      <td>...</td>\n",
       "      <td>...</td>\n",
       "      <td>...</td>\n",
       "      <td>...</td>\n",
       "      <td>...</td>\n",
       "      <td>...</td>\n",
       "      <td>...</td>\n",
       "      <td>...</td>\n",
       "      <td>...</td>\n",
       "      <td>...</td>\n",
       "      <td>...</td>\n",
       "      <td>...</td>\n",
       "      <td>...</td>\n",
       "    </tr>\n",
       "    <tr>\n",
       "      <th>4516</th>\n",
       "      <td>33</td>\n",
       "      <td>services</td>\n",
       "      <td>married</td>\n",
       "      <td>secondary</td>\n",
       "      <td>0</td>\n",
       "      <td>-333</td>\n",
       "      <td>1</td>\n",
       "      <td>0</td>\n",
       "      <td>cellular</td>\n",
       "      <td>30</td>\n",
       "      <td>jul</td>\n",
       "      <td>329</td>\n",
       "      <td>5</td>\n",
       "      <td>-1</td>\n",
       "      <td>0</td>\n",
       "      <td>unknown</td>\n",
       "      <td>0</td>\n",
       "    </tr>\n",
       "    <tr>\n",
       "      <th>4517</th>\n",
       "      <td>57</td>\n",
       "      <td>self-employed</td>\n",
       "      <td>married</td>\n",
       "      <td>tertiary</td>\n",
       "      <td>1</td>\n",
       "      <td>-3313</td>\n",
       "      <td>1</td>\n",
       "      <td>1</td>\n",
       "      <td>unknown</td>\n",
       "      <td>9</td>\n",
       "      <td>may</td>\n",
       "      <td>153</td>\n",
       "      <td>1</td>\n",
       "      <td>-1</td>\n",
       "      <td>0</td>\n",
       "      <td>unknown</td>\n",
       "      <td>0</td>\n",
       "    </tr>\n",
       "    <tr>\n",
       "      <th>4518</th>\n",
       "      <td>57</td>\n",
       "      <td>technician</td>\n",
       "      <td>married</td>\n",
       "      <td>secondary</td>\n",
       "      <td>0</td>\n",
       "      <td>295</td>\n",
       "      <td>0</td>\n",
       "      <td>0</td>\n",
       "      <td>cellular</td>\n",
       "      <td>19</td>\n",
       "      <td>aug</td>\n",
       "      <td>151</td>\n",
       "      <td>11</td>\n",
       "      <td>-1</td>\n",
       "      <td>0</td>\n",
       "      <td>unknown</td>\n",
       "      <td>0</td>\n",
       "    </tr>\n",
       "    <tr>\n",
       "      <th>4519</th>\n",
       "      <td>28</td>\n",
       "      <td>blue-collar</td>\n",
       "      <td>married</td>\n",
       "      <td>secondary</td>\n",
       "      <td>0</td>\n",
       "      <td>1137</td>\n",
       "      <td>0</td>\n",
       "      <td>0</td>\n",
       "      <td>cellular</td>\n",
       "      <td>6</td>\n",
       "      <td>feb</td>\n",
       "      <td>129</td>\n",
       "      <td>4</td>\n",
       "      <td>211</td>\n",
       "      <td>3</td>\n",
       "      <td>other</td>\n",
       "      <td>0</td>\n",
       "    </tr>\n",
       "    <tr>\n",
       "      <th>4520</th>\n",
       "      <td>44</td>\n",
       "      <td>entrepreneur</td>\n",
       "      <td>single</td>\n",
       "      <td>tertiary</td>\n",
       "      <td>0</td>\n",
       "      <td>1136</td>\n",
       "      <td>1</td>\n",
       "      <td>1</td>\n",
       "      <td>cellular</td>\n",
       "      <td>3</td>\n",
       "      <td>apr</td>\n",
       "      <td>345</td>\n",
       "      <td>2</td>\n",
       "      <td>249</td>\n",
       "      <td>7</td>\n",
       "      <td>other</td>\n",
       "      <td>0</td>\n",
       "    </tr>\n",
       "  </tbody>\n",
       "</table>\n",
       "<p>4521 rows × 17 columns</p>\n",
       "</div>"
      ],
      "text/plain": [
       "      age            job  marital  education  default  balance  housing  loan  \\\n",
       "0      30     unemployed  married    primary        0     1787        0     0   \n",
       "1      33       services  married  secondary        0     4789        1     1   \n",
       "2      35     management   single   tertiary        0     1350        1     0   \n",
       "3      30     management  married   tertiary        0     1476        1     1   \n",
       "4      59    blue-collar  married  secondary        0        0        1     0   \n",
       "...   ...            ...      ...        ...      ...      ...      ...   ...   \n",
       "4516   33       services  married  secondary        0     -333        1     0   \n",
       "4517   57  self-employed  married   tertiary        1    -3313        1     1   \n",
       "4518   57     technician  married  secondary        0      295        0     0   \n",
       "4519   28    blue-collar  married  secondary        0     1137        0     0   \n",
       "4520   44   entrepreneur   single   tertiary        0     1136        1     1   \n",
       "\n",
       "       contact  day month  duration  campaign  pdays  previous poutcome  y  \n",
       "0     cellular   19   oct        79         1     -1         0  unknown  0  \n",
       "1     cellular   11   may       220         1    339         4  failure  0  \n",
       "2     cellular   16   apr       185         1    330         1  failure  0  \n",
       "3      unknown    3   jun       199         4     -1         0  unknown  0  \n",
       "4      unknown    5   may       226         1     -1         0  unknown  0  \n",
       "...        ...  ...   ...       ...       ...    ...       ...      ... ..  \n",
       "4516  cellular   30   jul       329         5     -1         0  unknown  0  \n",
       "4517   unknown    9   may       153         1     -1         0  unknown  0  \n",
       "4518  cellular   19   aug       151        11     -1         0  unknown  0  \n",
       "4519  cellular    6   feb       129         4    211         3    other  0  \n",
       "4520  cellular    3   apr       345         2    249         7    other  0  \n",
       "\n",
       "[4521 rows x 17 columns]"
      ]
     },
     "execution_count": 498,
     "metadata": {},
     "output_type": "execute_result"
    }
   ],
   "source": [
    "bank_ds = pd.read_csv(os.path.join(DATASETS_DIR, 'bank.csv'), sep=';')\n",
    "\n",
    "for f in ['default','y','housing','loan']:\n",
    "    bank_ds[f] = (bank_ds[f]=='yes').astype(int)\n",
    "cat_feats = ['job','marital','education', 'default','housing','loan', 'contact','month','poutcome', ]\n",
    "real_feats = ['age','balance','day','duration','campaign','pdays','previous']\n",
    "bank_ds"
   ]
  },
  {
   "cell_type": "code",
   "execution_count": 500,
   "metadata": {},
   "outputs": [],
   "source": [
    "thresholds = {'age':[20, 30, 40, 50, 60],\n",
    "              'balance':[0, 10, 100, 1000, 10000],\n",
    "              'day':[10,20,25],\n",
    "              'duration':[0,60,300, 600, 900],\n",
    "              'campaign':[1,2],\n",
    "              'pdays':[200,400],\n",
    "             }\n",
    "cases = {'pdays':[-1],\n",
    "        'previous':[0]}"
   ]
  },
  {
   "cell_type": "code",
   "execution_count": 504,
   "metadata": {},
   "outputs": [],
   "source": [
    "fcai = reload(fcai)"
   ]
  },
  {
   "cell_type": "code",
   "execution_count": 505,
   "metadata": {},
   "outputs": [],
   "source": [
    "bank_bin_ds, feat_orders = fcai.Context.binarize_ds(bank_ds, cat_feats, thresholds, cases)"
   ]
  },
  {
   "cell_type": "code",
   "execution_count": 506,
   "metadata": {},
   "outputs": [
    {
     "data": {
      "text/plain": [
       "[('age__geq__60',\n",
       "  'age__geq__50',\n",
       "  'age__geq__40',\n",
       "  'age__geq__30',\n",
       "  'age__geq__20'),\n",
       " ('age__lt__20', 'age__lt__30', 'age__lt__40', 'age__lt__50', 'age__lt__60'),\n",
       " ('balance__geq__10000',\n",
       "  'balance__geq__1000',\n",
       "  'balance__geq__100',\n",
       "  'balance__geq__10',\n",
       "  'balance__geq__0'),\n",
       " ('balance__lt__0',\n",
       "  'balance__lt__10',\n",
       "  'balance__lt__100',\n",
       "  'balance__lt__1000',\n",
       "  'balance__lt__10000'),\n",
       " ('day__geq__25', 'day__geq__20', 'day__geq__10'),\n",
       " ('day__lt__10', 'day__lt__20', 'day__lt__25'),\n",
       " ('duration__geq__900',\n",
       "  'duration__geq__600',\n",
       "  'duration__geq__300',\n",
       "  'duration__geq__60',\n",
       "  'duration__geq__0'),\n",
       " ('duration__lt__0',\n",
       "  'duration__lt__60',\n",
       "  'duration__lt__300',\n",
       "  'duration__lt__600',\n",
       "  'duration__lt__900'),\n",
       " ('campaign__geq__2', 'campaign__geq__1'),\n",
       " ('campaign__lt__1', 'campaign__lt__2'),\n",
       " ('pdays__geq__400', 'pdays__geq__200'),\n",
       " ('pdays__lt__200', 'pdays__lt__400')]"
      ]
     },
     "execution_count": 506,
     "metadata": {},
     "output_type": "execute_result"
    }
   ],
   "source": [
    "feat_orders"
   ]
  },
  {
   "cell_type": "code",
   "execution_count": null,
   "metadata": {},
   "outputs": [],
   "source": []
  },
  {
   "cell_type": "code",
   "execution_count": 488,
   "metadata": {},
   "outputs": [
    {
     "data": {
      "text/plain": [
       "(4341, 124)"
      ]
     },
     "execution_count": 488,
     "metadata": {},
     "output_type": "execute_result"
    }
   ],
   "source": [
    "binarize_ds(bank_ds, cat_feats, thresholds, cases)[0].drop_duplicates().T.drop_duplicates()"
   ]
  },
  {
   "cell_type": "code",
   "execution_count": null,
   "metadata": {},
   "outputs": [],
   "source": []
  },
  {
   "cell_type": "code",
   "execution_count": 413,
   "metadata": {},
   "outputs": [
    {
     "name": "stderr",
     "output_type": "stream",
     "text": [
      "/root/anaconda3/lib/python3.7/site-packages/ipykernel_launcher.py:5: SettingWithCopyWarning:\n",
      "\n",
      "\n",
      "A value is trying to be set on a copy of a slice from a DataFrame.\n",
      "Try using .loc[row_indexer,col_indexer] = value instead\n",
      "\n",
      "See the caveats in the documentation: https://pandas.pydata.org/pandas-docs/stable/user_guide/indexing.html#returning-a-view-versus-a-copy\n",
      "\n"
     ]
    }
   ],
   "source": [
    "bank_bin_ds = bank_ds[cat_feats]\n",
    "for f in cat_feats:\n",
    "    if bank_bin_ds[f].nunique()>2:\n",
    "        for v in bank_bin_ds[f].unique():\n",
    "            bank_bin_ds[f\"{f}__is__{v}\"] = bank_bin_ds[f]==v\n",
    "        bank_bin_ds = bank_bin_ds.drop(f,1)\n",
    "    else:\n",
    "        bank_bin_ds[f] = bank_bin_ds[f].astype(bool)"
   ]
  },
  {
   "cell_type": "code",
   "execution_count": null,
   "metadata": {},
   "outputs": [],
   "source": []
  },
  {
   "cell_type": "code",
   "execution_count": null,
   "metadata": {},
   "outputs": [],
   "source": []
  },
  {
   "cell_type": "code",
   "execution_count": null,
   "metadata": {},
   "outputs": [],
   "source": []
  },
  {
   "cell_type": "code",
   "execution_count": 323,
   "metadata": {},
   "outputs": [],
   "source": [
    "mango_bin_ds = mango_ds.copy()\n",
    "for f in mango_bin_ds.columns:\n",
    "    if mango_bin_ds[f].dtype!=bool:\n",
    "        for v in mango_bin_ds[f].unique():\n",
    "            mango_bin_ds[f\"{f}__is__{v}\"] = mango_bin_ds[f]==v\n",
    "        mango_bin_ds = mango_bin_ds.drop(f,1)"
   ]
  },
  {
   "cell_type": "code",
   "execution_count": 386,
   "metadata": {},
   "outputs": [],
   "source": [
    "fcai = reload(fcai)"
   ]
  },
  {
   "cell_type": "code",
   "execution_count": 387,
   "metadata": {},
   "outputs": [],
   "source": [
    "cntx = fcai.Context(mango_bin_ds)\n",
    "fm = fcai.FormalManager(cntx)\n",
    "fm.construct_concepts()\n",
    "fm.construct_lattice()"
   ]
  },
  {
   "cell_type": "code",
   "execution_count": 392,
   "metadata": {},
   "outputs": [],
   "source": [
    "fig = fm.get_plotly_fig()"
   ]
  },
  {
   "cell_type": "code",
   "execution_count": 393,
   "metadata": {},
   "outputs": [
    {
     "data": {
      "application/vnd.plotly.v1+json": {
       "config": {
        "plotlyServerURL": "https://plot.ly"
       },
       "data": [
        {
         "hoverinfo": "none",
         "line": {
          "color": "#888",
          "width": 0.5
         },
         "mode": "lines",
         "type": "scatter",
         "x": [
          -2,
          0,
          null,
          -2,
          -2,
          null,
          -2,
          1,
          null,
          -2,
          2.5,
          null,
          -2.5,
          3,
          null,
          -2.5,
          -3,
          null,
          -2.5,
          0,
          null,
          -1,
          0.5,
          null,
          -1,
          -0.5,
          null,
          -1,
          0,
          null,
          -3,
          0,
          null,
          -3,
          2.5,
          null,
          -1.5,
          0,
          null,
          -1.5,
          -1,
          null,
          -1.5,
          3,
          null,
          -1.5,
          0,
          null,
          -2,
          2,
          null,
          -2,
          0.5,
          null,
          -2,
          1.5,
          null,
          -0.5,
          2,
          null,
          -0.5,
          0,
          null,
          -1,
          1,
          null,
          -1,
          2,
          null,
          -1,
          1.5,
          null,
          -0.5,
          0,
          null,
          -0.5,
          2,
          null,
          0,
          0.5,
          null,
          0,
          0,
          null,
          0,
          1,
          null,
          0.5,
          2,
          null,
          0.5,
          2,
          null,
          0.5,
          0,
          null,
          0.5,
          0,
          null,
          0,
          2,
          null,
          1,
          0,
          null,
          1,
          1.5,
          null,
          1.5,
          2,
          null,
          1.5,
          0,
          null,
          0,
          2,
          null,
          2.5,
          0,
          null,
          1,
          3,
          null
         ],
         "y": [
          3,
          1,
          null,
          3,
          4,
          null,
          3,
          4,
          null,
          3,
          5,
          null,
          5,
          4,
          null,
          5,
          4,
          null,
          5,
          6,
          null,
          3,
          2,
          null,
          3,
          5,
          null,
          3,
          4,
          null,
          4,
          1,
          null,
          4,
          5,
          null,
          5,
          4,
          null,
          5,
          4,
          null,
          5,
          4,
          null,
          5,
          6,
          null,
          4,
          3,
          null,
          4,
          5,
          null,
          4,
          5,
          null,
          5,
          4,
          null,
          5,
          6,
          null,
          4,
          3,
          null,
          4,
          3,
          null,
          4,
          5,
          null,
          2,
          1,
          null,
          2,
          3,
          null,
          1,
          2,
          null,
          1,
          3,
          null,
          1,
          3,
          null,
          2,
          4,
          null,
          2,
          3,
          null,
          5,
          4,
          null,
          5,
          6,
          null,
          4,
          3,
          null,
          4,
          3,
          null,
          4,
          5,
          null,
          5,
          4,
          null,
          5,
          6,
          null,
          3,
          4,
          null,
          5,
          6,
          null,
          3,
          4,
          null
         ]
        },
        {
         "hoverinfo": "text",
         "hovertext": [
          "Concept 17<br><br>extent (len: 1): egg<br>intent (len: 4): firm, smooth, color__is__white, form__is__oval<br>new extent (len: 1): egg<br>new_intent (len: 0): ∅<br>",
          "Concept 4<br><br>extent (len: 3): apple, grapefruit, tennis ball<br>intent (len: 1): form__is__round<br>new extent (len: 0): ∅<br>new_intent (len: 1): form__is__round<br>",
          "Concept 13<br><br>extent (len: 2): kiwi, mango<br>intent (len: 3): fruit, color__is__green, form__is__oval<br>new extent (len: 1): kiwi<br>new_intent (len: 0): ∅<br>",
          "Concept 7<br><br>extent (len: 1): tennis ball<br>intent (len: 2): color__is__white, form__is__round<br>new extent (len: 1): tennis ball<br>new_intent (len: 0): ∅<br>",
          "Concept 5<br><br>extent (len: 5): apple, grapefruit, kiwi, plum, mango<br>intent (len: 1): fruit<br>new extent (len: 0): ∅<br>new_intent (len: 1): fruit<br>",
          "Concept 11<br><br>extent (len: 3): plum, egg, mango<br>intent (len: 2): smooth, form__is__oval<br>new extent (len: 0): ∅<br>new_intent (len: 0): ∅<br>",
          "Concept 1<br><br>extent (len: 3): kiwi, toy cube, mango<br>intent (len: 1): color__is__green<br>new extent (len: 0): ∅<br>new_intent (len: 1): color__is__green<br>",
          "Concept 12<br><br>extent (len: 3): apple, plum, mango<br>intent (len: 2): smooth, fruit<br>new extent (len: 0): ∅<br>new_intent (len: 0): ∅<br>",
          "Concept 18<br><br>extent (len: 1): plum<br>intent (len: 4): smooth, fruit, color__is__blue, form__is__oval<br>new extent (len: 1): plum<br>new_intent (len: 1): color__is__blue<br>",
          "Concept 21<br><br>extent (len: 0): ∅<br>intent (len: 10): firm, smooth, fruit, color__is__yellow, color__is__green,...<br>new extent (len: 0): ∅<br>new_intent (len: 0): ∅<br>",
          "Concept 19<br><br>extent (len: 1): mango<br>intent (len: 4): smooth, fruit, color__is__green, form__is__oval<br>new extent (len: 1): mango<br>new_intent (len: 0): ∅<br>",
          "Concept 3<br><br>extent (len: 4): kiwi, plum, egg, mango<br>intent (len: 1): form__is__oval<br>new extent (len: 0): ∅<br>new_intent (len: 1): form__is__oval<br>",
          "Concept 9<br><br>extent (len: 3): kiwi, plum, mango<br>intent (len: 2): fruit, form__is__oval<br>new extent (len: 0): ∅<br>new_intent (len: 0): ∅<br>",
          "Concept 8<br><br>extent (len: 2): toy cube, egg<br>intent (len: 2): firm, smooth<br>new extent (len: 0): ∅<br>new_intent (len: 1): firm<br>",
          "Concept 6<br><br>extent (len: 5): apple, plum, toy cube, egg, mango<br>intent (len: 1): smooth<br>new extent (len: 0): ∅<br>new_intent (len: 1): smooth<br>",
          "Concept 16<br><br>extent (len: 1): toy cube<br>intent (len: 4): firm, smooth, color__is__green, form__is__cubic<br>new extent (len: 1): toy cube<br>new_intent (len: 1): form__is__cubic<br>",
          "Concept 2<br><br>extent (len: 2): egg, tennis ball<br>intent (len: 1): color__is__white<br>new extent (len: 0): ∅<br>new_intent (len: 1): color__is__white<br>",
          "Concept 0<br><br>extent (len: 8): apple, grapefruit, kiwi, plum, toy cube,...<br>intent (len: 0): ∅<br>new extent (len: 0): ∅<br>new_intent (len: 0): ∅<br>",
          "Concept 10<br><br>extent (len: 2): toy cube, mango<br>intent (len: 2): smooth, color__is__green<br>new extent (len: 0): ∅<br>new_intent (len: 0): ∅<br>",
          "Concept 20<br><br>extent (len: 1): apple<br>intent (len: 4): smooth, fruit, color__is__yellow, form__is__round<br>new extent (len: 1): apple<br>new_intent (len: 0): ∅<br>",
          "Concept 15<br><br>extent (len: 2): plum, mango<br>intent (len: 3): smooth, fruit, form__is__oval<br>new extent (len: 0): ∅<br>new_intent (len: 0): ∅<br>",
          "Concept 14<br><br>extent (len: 2): apple, grapefruit<br>intent (len: 3): fruit, color__is__yellow, form__is__round<br>new extent (len: 1): grapefruit<br>new_intent (len: 1): color__is__yellow<br>"
         ],
         "marker": {
          "color": [
           "grey",
           "grey",
           "grey",
           "grey",
           "grey",
           "grey",
           "grey",
           "grey",
           "grey",
           "grey",
           "grey",
           "grey",
           "grey",
           "grey",
           "grey",
           "grey",
           "grey",
           "grey",
           "grey",
           "grey",
           "grey",
           "grey"
          ],
          "colorbar": {
           "thickness": 15,
           "title": {
            "side": "right",
            "text": "y_mean"
           },
           "xanchor": "left"
          },
          "colorscale": [
           [
            0,
            "rgb(103,0,31)"
           ],
           [
            0.1,
            "rgb(178,24,43)"
           ],
           [
            0.2,
            "rgb(214,96,77)"
           ],
           [
            0.3,
            "rgb(244,165,130)"
           ],
           [
            0.4,
            "rgb(253,219,199)"
           ],
           [
            0.5,
            "rgb(247,247,247)"
           ],
           [
            0.6,
            "rgb(209,229,240)"
           ],
           [
            0.7,
            "rgb(146,197,222)"
           ],
           [
            0.8,
            "rgb(67,147,195)"
           ],
           [
            0.9,
            "rgb(33,102,172)"
           ],
           [
            1,
            "rgb(5,48,97)"
           ]
          ],
          "line": {
           "width": 2
          },
          "reversescale": true,
          "showscale": true,
          "size": 10
         },
         "mode": "markers+text",
         "text": [
          "<br>egg",
          "form__is__round<br>",
          "<br>kiwi",
          "<br>tennis ball",
          "fruit<br>",
          "<br>",
          "color__is__green<br>",
          "<br>",
          "color__is__blue<br>plum",
          "<br>",
          "<br>mango",
          "form__is__oval<br>",
          "<br>",
          "firm<br>",
          "smooth<br>",
          "form__is__cubic<br>toy cube",
          "color__is__white<br>",
          "<br>",
          "<br>",
          "<br>apple",
          "<br>",
          "color__is__yellow<br>grapefruit"
         ],
         "textposition": "middle right",
         "type": "scatter",
         "x": [
          -2,
          -2.5,
          -1,
          -3,
          -1.5,
          -2,
          -0.5,
          -1,
          -0.5,
          0,
          0.5,
          0.5,
          0,
          1,
          1.5,
          0,
          2.5,
          0,
          2,
          1,
          2,
          3
         ],
         "y": [
          3,
          5,
          3,
          4,
          5,
          4,
          5,
          4,
          2,
          1,
          2,
          5,
          4,
          4,
          5,
          3,
          5,
          6,
          4,
          3,
          3,
          4
         ]
        }
       ],
       "layout": {
        "height": 500,
        "hovermode": "closest",
        "margin": {
         "b": 20,
         "l": 5,
         "r": 5,
         "t": 40
        },
        "showlegend": false,
        "template": {
         "data": {
          "bar": [
           {
            "error_x": {
             "color": "#2a3f5f"
            },
            "error_y": {
             "color": "#2a3f5f"
            },
            "marker": {
             "line": {
              "color": "#E5ECF6",
              "width": 0.5
             }
            },
            "type": "bar"
           }
          ],
          "barpolar": [
           {
            "marker": {
             "line": {
              "color": "#E5ECF6",
              "width": 0.5
             }
            },
            "type": "barpolar"
           }
          ],
          "carpet": [
           {
            "aaxis": {
             "endlinecolor": "#2a3f5f",
             "gridcolor": "white",
             "linecolor": "white",
             "minorgridcolor": "white",
             "startlinecolor": "#2a3f5f"
            },
            "baxis": {
             "endlinecolor": "#2a3f5f",
             "gridcolor": "white",
             "linecolor": "white",
             "minorgridcolor": "white",
             "startlinecolor": "#2a3f5f"
            },
            "type": "carpet"
           }
          ],
          "choropleth": [
           {
            "colorbar": {
             "outlinewidth": 0,
             "ticks": ""
            },
            "type": "choropleth"
           }
          ],
          "contour": [
           {
            "colorbar": {
             "outlinewidth": 0,
             "ticks": ""
            },
            "colorscale": [
             [
              0,
              "#0d0887"
             ],
             [
              0.1111111111111111,
              "#46039f"
             ],
             [
              0.2222222222222222,
              "#7201a8"
             ],
             [
              0.3333333333333333,
              "#9c179e"
             ],
             [
              0.4444444444444444,
              "#bd3786"
             ],
             [
              0.5555555555555556,
              "#d8576b"
             ],
             [
              0.6666666666666666,
              "#ed7953"
             ],
             [
              0.7777777777777778,
              "#fb9f3a"
             ],
             [
              0.8888888888888888,
              "#fdca26"
             ],
             [
              1,
              "#f0f921"
             ]
            ],
            "type": "contour"
           }
          ],
          "contourcarpet": [
           {
            "colorbar": {
             "outlinewidth": 0,
             "ticks": ""
            },
            "type": "contourcarpet"
           }
          ],
          "heatmap": [
           {
            "colorbar": {
             "outlinewidth": 0,
             "ticks": ""
            },
            "colorscale": [
             [
              0,
              "#0d0887"
             ],
             [
              0.1111111111111111,
              "#46039f"
             ],
             [
              0.2222222222222222,
              "#7201a8"
             ],
             [
              0.3333333333333333,
              "#9c179e"
             ],
             [
              0.4444444444444444,
              "#bd3786"
             ],
             [
              0.5555555555555556,
              "#d8576b"
             ],
             [
              0.6666666666666666,
              "#ed7953"
             ],
             [
              0.7777777777777778,
              "#fb9f3a"
             ],
             [
              0.8888888888888888,
              "#fdca26"
             ],
             [
              1,
              "#f0f921"
             ]
            ],
            "type": "heatmap"
           }
          ],
          "heatmapgl": [
           {
            "colorbar": {
             "outlinewidth": 0,
             "ticks": ""
            },
            "colorscale": [
             [
              0,
              "#0d0887"
             ],
             [
              0.1111111111111111,
              "#46039f"
             ],
             [
              0.2222222222222222,
              "#7201a8"
             ],
             [
              0.3333333333333333,
              "#9c179e"
             ],
             [
              0.4444444444444444,
              "#bd3786"
             ],
             [
              0.5555555555555556,
              "#d8576b"
             ],
             [
              0.6666666666666666,
              "#ed7953"
             ],
             [
              0.7777777777777778,
              "#fb9f3a"
             ],
             [
              0.8888888888888888,
              "#fdca26"
             ],
             [
              1,
              "#f0f921"
             ]
            ],
            "type": "heatmapgl"
           }
          ],
          "histogram": [
           {
            "marker": {
             "colorbar": {
              "outlinewidth": 0,
              "ticks": ""
             }
            },
            "type": "histogram"
           }
          ],
          "histogram2d": [
           {
            "colorbar": {
             "outlinewidth": 0,
             "ticks": ""
            },
            "colorscale": [
             [
              0,
              "#0d0887"
             ],
             [
              0.1111111111111111,
              "#46039f"
             ],
             [
              0.2222222222222222,
              "#7201a8"
             ],
             [
              0.3333333333333333,
              "#9c179e"
             ],
             [
              0.4444444444444444,
              "#bd3786"
             ],
             [
              0.5555555555555556,
              "#d8576b"
             ],
             [
              0.6666666666666666,
              "#ed7953"
             ],
             [
              0.7777777777777778,
              "#fb9f3a"
             ],
             [
              0.8888888888888888,
              "#fdca26"
             ],
             [
              1,
              "#f0f921"
             ]
            ],
            "type": "histogram2d"
           }
          ],
          "histogram2dcontour": [
           {
            "colorbar": {
             "outlinewidth": 0,
             "ticks": ""
            },
            "colorscale": [
             [
              0,
              "#0d0887"
             ],
             [
              0.1111111111111111,
              "#46039f"
             ],
             [
              0.2222222222222222,
              "#7201a8"
             ],
             [
              0.3333333333333333,
              "#9c179e"
             ],
             [
              0.4444444444444444,
              "#bd3786"
             ],
             [
              0.5555555555555556,
              "#d8576b"
             ],
             [
              0.6666666666666666,
              "#ed7953"
             ],
             [
              0.7777777777777778,
              "#fb9f3a"
             ],
             [
              0.8888888888888888,
              "#fdca26"
             ],
             [
              1,
              "#f0f921"
             ]
            ],
            "type": "histogram2dcontour"
           }
          ],
          "mesh3d": [
           {
            "colorbar": {
             "outlinewidth": 0,
             "ticks": ""
            },
            "type": "mesh3d"
           }
          ],
          "parcoords": [
           {
            "line": {
             "colorbar": {
              "outlinewidth": 0,
              "ticks": ""
             }
            },
            "type": "parcoords"
           }
          ],
          "pie": [
           {
            "automargin": true,
            "type": "pie"
           }
          ],
          "scatter": [
           {
            "marker": {
             "colorbar": {
              "outlinewidth": 0,
              "ticks": ""
             }
            },
            "type": "scatter"
           }
          ],
          "scatter3d": [
           {
            "line": {
             "colorbar": {
              "outlinewidth": 0,
              "ticks": ""
             }
            },
            "marker": {
             "colorbar": {
              "outlinewidth": 0,
              "ticks": ""
             }
            },
            "type": "scatter3d"
           }
          ],
          "scattercarpet": [
           {
            "marker": {
             "colorbar": {
              "outlinewidth": 0,
              "ticks": ""
             }
            },
            "type": "scattercarpet"
           }
          ],
          "scattergeo": [
           {
            "marker": {
             "colorbar": {
              "outlinewidth": 0,
              "ticks": ""
             }
            },
            "type": "scattergeo"
           }
          ],
          "scattergl": [
           {
            "marker": {
             "colorbar": {
              "outlinewidth": 0,
              "ticks": ""
             }
            },
            "type": "scattergl"
           }
          ],
          "scattermapbox": [
           {
            "marker": {
             "colorbar": {
              "outlinewidth": 0,
              "ticks": ""
             }
            },
            "type": "scattermapbox"
           }
          ],
          "scatterpolar": [
           {
            "marker": {
             "colorbar": {
              "outlinewidth": 0,
              "ticks": ""
             }
            },
            "type": "scatterpolar"
           }
          ],
          "scatterpolargl": [
           {
            "marker": {
             "colorbar": {
              "outlinewidth": 0,
              "ticks": ""
             }
            },
            "type": "scatterpolargl"
           }
          ],
          "scatterternary": [
           {
            "marker": {
             "colorbar": {
              "outlinewidth": 0,
              "ticks": ""
             }
            },
            "type": "scatterternary"
           }
          ],
          "surface": [
           {
            "colorbar": {
             "outlinewidth": 0,
             "ticks": ""
            },
            "colorscale": [
             [
              0,
              "#0d0887"
             ],
             [
              0.1111111111111111,
              "#46039f"
             ],
             [
              0.2222222222222222,
              "#7201a8"
             ],
             [
              0.3333333333333333,
              "#9c179e"
             ],
             [
              0.4444444444444444,
              "#bd3786"
             ],
             [
              0.5555555555555556,
              "#d8576b"
             ],
             [
              0.6666666666666666,
              "#ed7953"
             ],
             [
              0.7777777777777778,
              "#fb9f3a"
             ],
             [
              0.8888888888888888,
              "#fdca26"
             ],
             [
              1,
              "#f0f921"
             ]
            ],
            "type": "surface"
           }
          ],
          "table": [
           {
            "cells": {
             "fill": {
              "color": "#EBF0F8"
             },
             "line": {
              "color": "white"
             }
            },
            "header": {
             "fill": {
              "color": "#C8D4E3"
             },
             "line": {
              "color": "white"
             }
            },
            "type": "table"
           }
          ]
         },
         "layout": {
          "annotationdefaults": {
           "arrowcolor": "#2a3f5f",
           "arrowhead": 0,
           "arrowwidth": 1
          },
          "coloraxis": {
           "colorbar": {
            "outlinewidth": 0,
            "ticks": ""
           }
          },
          "colorscale": {
           "diverging": [
            [
             0,
             "#8e0152"
            ],
            [
             0.1,
             "#c51b7d"
            ],
            [
             0.2,
             "#de77ae"
            ],
            [
             0.3,
             "#f1b6da"
            ],
            [
             0.4,
             "#fde0ef"
            ],
            [
             0.5,
             "#f7f7f7"
            ],
            [
             0.6,
             "#e6f5d0"
            ],
            [
             0.7,
             "#b8e186"
            ],
            [
             0.8,
             "#7fbc41"
            ],
            [
             0.9,
             "#4d9221"
            ],
            [
             1,
             "#276419"
            ]
           ],
           "sequential": [
            [
             0,
             "#0d0887"
            ],
            [
             0.1111111111111111,
             "#46039f"
            ],
            [
             0.2222222222222222,
             "#7201a8"
            ],
            [
             0.3333333333333333,
             "#9c179e"
            ],
            [
             0.4444444444444444,
             "#bd3786"
            ],
            [
             0.5555555555555556,
             "#d8576b"
            ],
            [
             0.6666666666666666,
             "#ed7953"
            ],
            [
             0.7777777777777778,
             "#fb9f3a"
            ],
            [
             0.8888888888888888,
             "#fdca26"
            ],
            [
             1,
             "#f0f921"
            ]
           ],
           "sequentialminus": [
            [
             0,
             "#0d0887"
            ],
            [
             0.1111111111111111,
             "#46039f"
            ],
            [
             0.2222222222222222,
             "#7201a8"
            ],
            [
             0.3333333333333333,
             "#9c179e"
            ],
            [
             0.4444444444444444,
             "#bd3786"
            ],
            [
             0.5555555555555556,
             "#d8576b"
            ],
            [
             0.6666666666666666,
             "#ed7953"
            ],
            [
             0.7777777777777778,
             "#fb9f3a"
            ],
            [
             0.8888888888888888,
             "#fdca26"
            ],
            [
             1,
             "#f0f921"
            ]
           ]
          },
          "colorway": [
           "#636efa",
           "#EF553B",
           "#00cc96",
           "#ab63fa",
           "#FFA15A",
           "#19d3f3",
           "#FF6692",
           "#B6E880",
           "#FF97FF",
           "#FECB52"
          ],
          "font": {
           "color": "#2a3f5f"
          },
          "geo": {
           "bgcolor": "white",
           "lakecolor": "white",
           "landcolor": "#E5ECF6",
           "showlakes": true,
           "showland": true,
           "subunitcolor": "white"
          },
          "hoverlabel": {
           "align": "left"
          },
          "hovermode": "closest",
          "mapbox": {
           "style": "light"
          },
          "paper_bgcolor": "white",
          "plot_bgcolor": "#E5ECF6",
          "polar": {
           "angularaxis": {
            "gridcolor": "white",
            "linecolor": "white",
            "ticks": ""
           },
           "bgcolor": "#E5ECF6",
           "radialaxis": {
            "gridcolor": "white",
            "linecolor": "white",
            "ticks": ""
           }
          },
          "scene": {
           "xaxis": {
            "backgroundcolor": "#E5ECF6",
            "gridcolor": "white",
            "gridwidth": 2,
            "linecolor": "white",
            "showbackground": true,
            "ticks": "",
            "zerolinecolor": "white"
           },
           "yaxis": {
            "backgroundcolor": "#E5ECF6",
            "gridcolor": "white",
            "gridwidth": 2,
            "linecolor": "white",
            "showbackground": true,
            "ticks": "",
            "zerolinecolor": "white"
           },
           "zaxis": {
            "backgroundcolor": "#E5ECF6",
            "gridcolor": "white",
            "gridwidth": 2,
            "linecolor": "white",
            "showbackground": true,
            "ticks": "",
            "zerolinecolor": "white"
           }
          },
          "shapedefaults": {
           "line": {
            "color": "#2a3f5f"
           }
          },
          "ternary": {
           "aaxis": {
            "gridcolor": "white",
            "linecolor": "white",
            "ticks": ""
           },
           "baxis": {
            "gridcolor": "white",
            "linecolor": "white",
            "ticks": ""
           },
           "bgcolor": "#E5ECF6",
           "caxis": {
            "gridcolor": "white",
            "linecolor": "white",
            "ticks": ""
           }
          },
          "title": {
           "x": 0.05
          },
          "xaxis": {
           "automargin": true,
           "gridcolor": "white",
           "linecolor": "white",
           "ticks": "",
           "title": {
            "standoff": 15
           },
           "zerolinecolor": "white",
           "zerolinewidth": 2
          },
          "yaxis": {
           "automargin": true,
           "gridcolor": "white",
           "linecolor": "white",
           "ticks": "",
           "title": {
            "standoff": 15
           },
           "zerolinecolor": "white",
           "zerolinewidth": 2
          }
         }
        },
        "title": {
         "font": {
          "size": 16
         },
         "text": "Concept Lattice"
        },
        "width": 1000,
        "xaxis": {
         "showgrid": false,
         "showticklabels": false,
         "zeroline": false
        },
        "yaxis": {
         "showgrid": false,
         "showticklabels": false,
         "zeroline": false
        }
       }
      },
      "text/html": [
       "<div>\n",
       "        \n",
       "        \n",
       "            <div id=\"2048e106-cfcf-43ee-ac09-51f1d14ac250\" class=\"plotly-graph-div\" style=\"height:500px; width:1000px;\"></div>\n",
       "            <script type=\"text/javascript\">\n",
       "                require([\"plotly\"], function(Plotly) {\n",
       "                    window.PLOTLYENV=window.PLOTLYENV || {};\n",
       "                    \n",
       "                if (document.getElementById(\"2048e106-cfcf-43ee-ac09-51f1d14ac250\")) {\n",
       "                    Plotly.newPlot(\n",
       "                        '2048e106-cfcf-43ee-ac09-51f1d14ac250',\n",
       "                        [{\"hoverinfo\": \"none\", \"line\": {\"color\": \"#888\", \"width\": 0.5}, \"mode\": \"lines\", \"type\": \"scatter\", \"x\": [-2.0, 0.0, null, -2.0, -2.0, null, -2.0, 1.0, null, -2.0, 2.5, null, -2.5, 3.0, null, -2.5, -3.0, null, -2.5, 0.0, null, -1.0, 0.5, null, -1.0, -0.5, null, -1.0, 0.0, null, -3.0, 0.0, null, -3.0, 2.5, null, -1.5, 0.0, null, -1.5, -1.0, null, -1.5, 3.0, null, -1.5, 0.0, null, -2.0, 2.0, null, -2.0, 0.5, null, -2.0, 1.5, null, -0.5, 2.0, null, -0.5, 0.0, null, -1.0, 1.0, null, -1.0, 2.0, null, -1.0, 1.5, null, -0.5, 0.0, null, -0.5, 2.0, null, 0.0, 0.5, null, 0.0, 0.0, null, 0.0, 1.0, null, 0.5, 2.0, null, 0.5, 2.0, null, 0.5, 0.0, null, 0.5, 0.0, null, 0.0, 2.0, null, 1.0, 0.0, null, 1.0, 1.5, null, 1.5, 2.0, null, 1.5, 0.0, null, 0.0, 2.0, null, 2.5, 0.0, null, 1.0, 3.0, null], \"y\": [3, 1, null, 3, 4, null, 3, 4, null, 3, 5, null, 5, 4, null, 5, 4, null, 5, 6, null, 3, 2, null, 3, 5, null, 3, 4, null, 4, 1, null, 4, 5, null, 5, 4, null, 5, 4, null, 5, 4, null, 5, 6, null, 4, 3, null, 4, 5, null, 4, 5, null, 5, 4, null, 5, 6, null, 4, 3, null, 4, 3, null, 4, 5, null, 2, 1, null, 2, 3, null, 1, 2, null, 1, 3, null, 1, 3, null, 2, 4, null, 2, 3, null, 5, 4, null, 5, 6, null, 4, 3, null, 4, 3, null, 4, 5, null, 5, 4, null, 5, 6, null, 3, 4, null, 5, 6, null, 3, 4, null]}, {\"hoverinfo\": \"text\", \"hovertext\": [\"Concept 17<br><br>extent (len: 1): egg<br>intent (len: 4): firm, smooth, color__is__white, form__is__oval<br>new extent (len: 1): egg<br>new_intent (len: 0): \\u2205<br>\", \"Concept 4<br><br>extent (len: 3): apple, grapefruit, tennis ball<br>intent (len: 1): form__is__round<br>new extent (len: 0): \\u2205<br>new_intent (len: 1): form__is__round<br>\", \"Concept 13<br><br>extent (len: 2): kiwi, mango<br>intent (len: 3): fruit, color__is__green, form__is__oval<br>new extent (len: 1): kiwi<br>new_intent (len: 0): \\u2205<br>\", \"Concept 7<br><br>extent (len: 1): tennis ball<br>intent (len: 2): color__is__white, form__is__round<br>new extent (len: 1): tennis ball<br>new_intent (len: 0): \\u2205<br>\", \"Concept 5<br><br>extent (len: 5): apple, grapefruit, kiwi, plum, mango<br>intent (len: 1): fruit<br>new extent (len: 0): \\u2205<br>new_intent (len: 1): fruit<br>\", \"Concept 11<br><br>extent (len: 3): plum, egg, mango<br>intent (len: 2): smooth, form__is__oval<br>new extent (len: 0): \\u2205<br>new_intent (len: 0): \\u2205<br>\", \"Concept 1<br><br>extent (len: 3): kiwi, toy cube, mango<br>intent (len: 1): color__is__green<br>new extent (len: 0): \\u2205<br>new_intent (len: 1): color__is__green<br>\", \"Concept 12<br><br>extent (len: 3): apple, plum, mango<br>intent (len: 2): smooth, fruit<br>new extent (len: 0): \\u2205<br>new_intent (len: 0): \\u2205<br>\", \"Concept 18<br><br>extent (len: 1): plum<br>intent (len: 4): smooth, fruit, color__is__blue, form__is__oval<br>new extent (len: 1): plum<br>new_intent (len: 1): color__is__blue<br>\", \"Concept 21<br><br>extent (len: 0): \\u2205<br>intent (len: 10): firm, smooth, fruit, color__is__yellow, color__is__green,...<br>new extent (len: 0): \\u2205<br>new_intent (len: 0): \\u2205<br>\", \"Concept 19<br><br>extent (len: 1): mango<br>intent (len: 4): smooth, fruit, color__is__green, form__is__oval<br>new extent (len: 1): mango<br>new_intent (len: 0): \\u2205<br>\", \"Concept 3<br><br>extent (len: 4): kiwi, plum, egg, mango<br>intent (len: 1): form__is__oval<br>new extent (len: 0): \\u2205<br>new_intent (len: 1): form__is__oval<br>\", \"Concept 9<br><br>extent (len: 3): kiwi, plum, mango<br>intent (len: 2): fruit, form__is__oval<br>new extent (len: 0): \\u2205<br>new_intent (len: 0): \\u2205<br>\", \"Concept 8<br><br>extent (len: 2): toy cube, egg<br>intent (len: 2): firm, smooth<br>new extent (len: 0): \\u2205<br>new_intent (len: 1): firm<br>\", \"Concept 6<br><br>extent (len: 5): apple, plum, toy cube, egg, mango<br>intent (len: 1): smooth<br>new extent (len: 0): \\u2205<br>new_intent (len: 1): smooth<br>\", \"Concept 16<br><br>extent (len: 1): toy cube<br>intent (len: 4): firm, smooth, color__is__green, form__is__cubic<br>new extent (len: 1): toy cube<br>new_intent (len: 1): form__is__cubic<br>\", \"Concept 2<br><br>extent (len: 2): egg, tennis ball<br>intent (len: 1): color__is__white<br>new extent (len: 0): \\u2205<br>new_intent (len: 1): color__is__white<br>\", \"Concept 0<br><br>extent (len: 8): apple, grapefruit, kiwi, plum, toy cube,...<br>intent (len: 0): \\u2205<br>new extent (len: 0): \\u2205<br>new_intent (len: 0): \\u2205<br>\", \"Concept 10<br><br>extent (len: 2): toy cube, mango<br>intent (len: 2): smooth, color__is__green<br>new extent (len: 0): \\u2205<br>new_intent (len: 0): \\u2205<br>\", \"Concept 20<br><br>extent (len: 1): apple<br>intent (len: 4): smooth, fruit, color__is__yellow, form__is__round<br>new extent (len: 1): apple<br>new_intent (len: 0): \\u2205<br>\", \"Concept 15<br><br>extent (len: 2): plum, mango<br>intent (len: 3): smooth, fruit, form__is__oval<br>new extent (len: 0): \\u2205<br>new_intent (len: 0): \\u2205<br>\", \"Concept 14<br><br>extent (len: 2): apple, grapefruit<br>intent (len: 3): fruit, color__is__yellow, form__is__round<br>new extent (len: 1): grapefruit<br>new_intent (len: 1): color__is__yellow<br>\"], \"marker\": {\"color\": [\"grey\", \"grey\", \"grey\", \"grey\", \"grey\", \"grey\", \"grey\", \"grey\", \"grey\", \"grey\", \"grey\", \"grey\", \"grey\", \"grey\", \"grey\", \"grey\", \"grey\", \"grey\", \"grey\", \"grey\", \"grey\", \"grey\"], \"colorbar\": {\"thickness\": 15, \"title\": {\"side\": \"right\", \"text\": \"y_mean\"}, \"xanchor\": \"left\"}, \"colorscale\": [[0.0, \"rgb(103,0,31)\"], [0.1, \"rgb(178,24,43)\"], [0.2, \"rgb(214,96,77)\"], [0.3, \"rgb(244,165,130)\"], [0.4, \"rgb(253,219,199)\"], [0.5, \"rgb(247,247,247)\"], [0.6, \"rgb(209,229,240)\"], [0.7, \"rgb(146,197,222)\"], [0.8, \"rgb(67,147,195)\"], [0.9, \"rgb(33,102,172)\"], [1.0, \"rgb(5,48,97)\"]], \"line\": {\"width\": 2}, \"reversescale\": true, \"showscale\": true, \"size\": 10}, \"mode\": \"markers+text\", \"text\": [\"<br>egg\", \"form__is__round<br>\", \"<br>kiwi\", \"<br>tennis ball\", \"fruit<br>\", \"<br>\", \"color__is__green<br>\", \"<br>\", \"color__is__blue<br>plum\", \"<br>\", \"<br>mango\", \"form__is__oval<br>\", \"<br>\", \"firm<br>\", \"smooth<br>\", \"form__is__cubic<br>toy cube\", \"color__is__white<br>\", \"<br>\", \"<br>\", \"<br>apple\", \"<br>\", \"color__is__yellow<br>grapefruit\"], \"textposition\": \"middle right\", \"type\": \"scatter\", \"x\": [-2.0, -2.5, -1.0, -3.0, -1.5, -2.0, -0.5, -1.0, -0.5, 0.0, 0.5, 0.5, 0.0, 1.0, 1.5, 0.0, 2.5, 0.0, 2.0, 1.0, 2.0, 3.0], \"y\": [3, 5, 3, 4, 5, 4, 5, 4, 2, 1, 2, 5, 4, 4, 5, 3, 5, 6, 4, 3, 3, 4]}],\n",
       "                        {\"height\": 500, \"hovermode\": \"closest\", \"margin\": {\"b\": 20, \"l\": 5, \"r\": 5, \"t\": 40}, \"showlegend\": false, \"template\": {\"data\": {\"bar\": [{\"error_x\": {\"color\": \"#2a3f5f\"}, \"error_y\": {\"color\": \"#2a3f5f\"}, \"marker\": {\"line\": {\"color\": \"#E5ECF6\", \"width\": 0.5}}, \"type\": \"bar\"}], \"barpolar\": [{\"marker\": {\"line\": {\"color\": \"#E5ECF6\", \"width\": 0.5}}, \"type\": \"barpolar\"}], \"carpet\": [{\"aaxis\": {\"endlinecolor\": \"#2a3f5f\", \"gridcolor\": \"white\", \"linecolor\": \"white\", \"minorgridcolor\": \"white\", \"startlinecolor\": \"#2a3f5f\"}, \"baxis\": {\"endlinecolor\": \"#2a3f5f\", \"gridcolor\": \"white\", \"linecolor\": \"white\", \"minorgridcolor\": \"white\", \"startlinecolor\": \"#2a3f5f\"}, \"type\": \"carpet\"}], \"choropleth\": [{\"colorbar\": {\"outlinewidth\": 0, \"ticks\": \"\"}, \"type\": \"choropleth\"}], \"contour\": [{\"colorbar\": {\"outlinewidth\": 0, \"ticks\": \"\"}, \"colorscale\": [[0.0, \"#0d0887\"], [0.1111111111111111, \"#46039f\"], [0.2222222222222222, \"#7201a8\"], [0.3333333333333333, \"#9c179e\"], [0.4444444444444444, \"#bd3786\"], [0.5555555555555556, \"#d8576b\"], [0.6666666666666666, \"#ed7953\"], [0.7777777777777778, \"#fb9f3a\"], [0.8888888888888888, \"#fdca26\"], [1.0, \"#f0f921\"]], \"type\": \"contour\"}], \"contourcarpet\": [{\"colorbar\": {\"outlinewidth\": 0, \"ticks\": \"\"}, \"type\": \"contourcarpet\"}], \"heatmap\": [{\"colorbar\": {\"outlinewidth\": 0, \"ticks\": \"\"}, \"colorscale\": [[0.0, \"#0d0887\"], [0.1111111111111111, \"#46039f\"], [0.2222222222222222, \"#7201a8\"], [0.3333333333333333, \"#9c179e\"], [0.4444444444444444, \"#bd3786\"], [0.5555555555555556, \"#d8576b\"], [0.6666666666666666, \"#ed7953\"], [0.7777777777777778, \"#fb9f3a\"], [0.8888888888888888, \"#fdca26\"], [1.0, \"#f0f921\"]], \"type\": \"heatmap\"}], \"heatmapgl\": [{\"colorbar\": {\"outlinewidth\": 0, \"ticks\": \"\"}, \"colorscale\": [[0.0, \"#0d0887\"], [0.1111111111111111, \"#46039f\"], [0.2222222222222222, \"#7201a8\"], [0.3333333333333333, \"#9c179e\"], [0.4444444444444444, \"#bd3786\"], [0.5555555555555556, \"#d8576b\"], [0.6666666666666666, \"#ed7953\"], [0.7777777777777778, \"#fb9f3a\"], [0.8888888888888888, \"#fdca26\"], [1.0, \"#f0f921\"]], \"type\": \"heatmapgl\"}], \"histogram\": [{\"marker\": {\"colorbar\": {\"outlinewidth\": 0, \"ticks\": \"\"}}, \"type\": \"histogram\"}], \"histogram2d\": [{\"colorbar\": {\"outlinewidth\": 0, \"ticks\": \"\"}, \"colorscale\": [[0.0, \"#0d0887\"], [0.1111111111111111, \"#46039f\"], [0.2222222222222222, \"#7201a8\"], [0.3333333333333333, \"#9c179e\"], [0.4444444444444444, \"#bd3786\"], [0.5555555555555556, \"#d8576b\"], [0.6666666666666666, \"#ed7953\"], [0.7777777777777778, \"#fb9f3a\"], [0.8888888888888888, \"#fdca26\"], [1.0, \"#f0f921\"]], \"type\": \"histogram2d\"}], \"histogram2dcontour\": [{\"colorbar\": {\"outlinewidth\": 0, \"ticks\": \"\"}, \"colorscale\": [[0.0, \"#0d0887\"], [0.1111111111111111, \"#46039f\"], [0.2222222222222222, \"#7201a8\"], [0.3333333333333333, \"#9c179e\"], [0.4444444444444444, \"#bd3786\"], [0.5555555555555556, \"#d8576b\"], [0.6666666666666666, \"#ed7953\"], [0.7777777777777778, \"#fb9f3a\"], [0.8888888888888888, \"#fdca26\"], [1.0, \"#f0f921\"]], \"type\": \"histogram2dcontour\"}], \"mesh3d\": [{\"colorbar\": {\"outlinewidth\": 0, \"ticks\": \"\"}, \"type\": \"mesh3d\"}], \"parcoords\": [{\"line\": {\"colorbar\": {\"outlinewidth\": 0, \"ticks\": \"\"}}, \"type\": \"parcoords\"}], \"pie\": [{\"automargin\": true, \"type\": \"pie\"}], \"scatter\": [{\"marker\": {\"colorbar\": {\"outlinewidth\": 0, \"ticks\": \"\"}}, \"type\": \"scatter\"}], \"scatter3d\": [{\"line\": {\"colorbar\": {\"outlinewidth\": 0, \"ticks\": \"\"}}, \"marker\": {\"colorbar\": {\"outlinewidth\": 0, \"ticks\": \"\"}}, \"type\": \"scatter3d\"}], \"scattercarpet\": [{\"marker\": {\"colorbar\": {\"outlinewidth\": 0, \"ticks\": \"\"}}, \"type\": \"scattercarpet\"}], \"scattergeo\": [{\"marker\": {\"colorbar\": {\"outlinewidth\": 0, \"ticks\": \"\"}}, \"type\": \"scattergeo\"}], \"scattergl\": [{\"marker\": {\"colorbar\": {\"outlinewidth\": 0, \"ticks\": \"\"}}, \"type\": \"scattergl\"}], \"scattermapbox\": [{\"marker\": {\"colorbar\": {\"outlinewidth\": 0, \"ticks\": \"\"}}, \"type\": \"scattermapbox\"}], \"scatterpolar\": [{\"marker\": {\"colorbar\": {\"outlinewidth\": 0, \"ticks\": \"\"}}, \"type\": \"scatterpolar\"}], \"scatterpolargl\": [{\"marker\": {\"colorbar\": {\"outlinewidth\": 0, \"ticks\": \"\"}}, \"type\": \"scatterpolargl\"}], \"scatterternary\": [{\"marker\": {\"colorbar\": {\"outlinewidth\": 0, \"ticks\": \"\"}}, \"type\": \"scatterternary\"}], \"surface\": [{\"colorbar\": {\"outlinewidth\": 0, \"ticks\": \"\"}, \"colorscale\": [[0.0, \"#0d0887\"], [0.1111111111111111, \"#46039f\"], [0.2222222222222222, \"#7201a8\"], [0.3333333333333333, \"#9c179e\"], [0.4444444444444444, \"#bd3786\"], [0.5555555555555556, \"#d8576b\"], [0.6666666666666666, \"#ed7953\"], [0.7777777777777778, \"#fb9f3a\"], [0.8888888888888888, \"#fdca26\"], [1.0, \"#f0f921\"]], \"type\": \"surface\"}], \"table\": [{\"cells\": {\"fill\": {\"color\": \"#EBF0F8\"}, \"line\": {\"color\": \"white\"}}, \"header\": {\"fill\": {\"color\": \"#C8D4E3\"}, \"line\": {\"color\": \"white\"}}, \"type\": \"table\"}]}, \"layout\": {\"annotationdefaults\": {\"arrowcolor\": \"#2a3f5f\", \"arrowhead\": 0, \"arrowwidth\": 1}, \"coloraxis\": {\"colorbar\": {\"outlinewidth\": 0, \"ticks\": \"\"}}, \"colorscale\": {\"diverging\": [[0, \"#8e0152\"], [0.1, \"#c51b7d\"], [0.2, \"#de77ae\"], [0.3, \"#f1b6da\"], [0.4, \"#fde0ef\"], [0.5, \"#f7f7f7\"], [0.6, \"#e6f5d0\"], [0.7, \"#b8e186\"], [0.8, \"#7fbc41\"], [0.9, \"#4d9221\"], [1, \"#276419\"]], \"sequential\": [[0.0, \"#0d0887\"], [0.1111111111111111, \"#46039f\"], [0.2222222222222222, \"#7201a8\"], [0.3333333333333333, \"#9c179e\"], [0.4444444444444444, \"#bd3786\"], [0.5555555555555556, \"#d8576b\"], [0.6666666666666666, \"#ed7953\"], [0.7777777777777778, \"#fb9f3a\"], [0.8888888888888888, \"#fdca26\"], [1.0, \"#f0f921\"]], \"sequentialminus\": [[0.0, \"#0d0887\"], [0.1111111111111111, \"#46039f\"], [0.2222222222222222, \"#7201a8\"], [0.3333333333333333, \"#9c179e\"], [0.4444444444444444, \"#bd3786\"], [0.5555555555555556, \"#d8576b\"], [0.6666666666666666, \"#ed7953\"], [0.7777777777777778, \"#fb9f3a\"], [0.8888888888888888, \"#fdca26\"], [1.0, \"#f0f921\"]]}, \"colorway\": [\"#636efa\", \"#EF553B\", \"#00cc96\", \"#ab63fa\", \"#FFA15A\", \"#19d3f3\", \"#FF6692\", \"#B6E880\", \"#FF97FF\", \"#FECB52\"], \"font\": {\"color\": \"#2a3f5f\"}, \"geo\": {\"bgcolor\": \"white\", \"lakecolor\": \"white\", \"landcolor\": \"#E5ECF6\", \"showlakes\": true, \"showland\": true, \"subunitcolor\": \"white\"}, \"hoverlabel\": {\"align\": \"left\"}, \"hovermode\": \"closest\", \"mapbox\": {\"style\": \"light\"}, \"paper_bgcolor\": \"white\", \"plot_bgcolor\": \"#E5ECF6\", \"polar\": {\"angularaxis\": {\"gridcolor\": \"white\", \"linecolor\": \"white\", \"ticks\": \"\"}, \"bgcolor\": \"#E5ECF6\", \"radialaxis\": {\"gridcolor\": \"white\", \"linecolor\": \"white\", \"ticks\": \"\"}}, \"scene\": {\"xaxis\": {\"backgroundcolor\": \"#E5ECF6\", \"gridcolor\": \"white\", \"gridwidth\": 2, \"linecolor\": \"white\", \"showbackground\": true, \"ticks\": \"\", \"zerolinecolor\": \"white\"}, \"yaxis\": {\"backgroundcolor\": \"#E5ECF6\", \"gridcolor\": \"white\", \"gridwidth\": 2, \"linecolor\": \"white\", \"showbackground\": true, \"ticks\": \"\", \"zerolinecolor\": \"white\"}, \"zaxis\": {\"backgroundcolor\": \"#E5ECF6\", \"gridcolor\": \"white\", \"gridwidth\": 2, \"linecolor\": \"white\", \"showbackground\": true, \"ticks\": \"\", \"zerolinecolor\": \"white\"}}, \"shapedefaults\": {\"line\": {\"color\": \"#2a3f5f\"}}, \"ternary\": {\"aaxis\": {\"gridcolor\": \"white\", \"linecolor\": \"white\", \"ticks\": \"\"}, \"baxis\": {\"gridcolor\": \"white\", \"linecolor\": \"white\", \"ticks\": \"\"}, \"bgcolor\": \"#E5ECF6\", \"caxis\": {\"gridcolor\": \"white\", \"linecolor\": \"white\", \"ticks\": \"\"}}, \"title\": {\"x\": 0.05}, \"xaxis\": {\"automargin\": true, \"gridcolor\": \"white\", \"linecolor\": \"white\", \"ticks\": \"\", \"title\": {\"standoff\": 15}, \"zerolinecolor\": \"white\", \"zerolinewidth\": 2}, \"yaxis\": {\"automargin\": true, \"gridcolor\": \"white\", \"linecolor\": \"white\", \"ticks\": \"\", \"title\": {\"standoff\": 15}, \"zerolinecolor\": \"white\", \"zerolinewidth\": 2}}}, \"title\": {\"font\": {\"size\": 16}, \"text\": \"Concept Lattice\"}, \"width\": 1000, \"xaxis\": {\"showgrid\": false, \"showticklabels\": false, \"zeroline\": false}, \"yaxis\": {\"showgrid\": false, \"showticklabels\": false, \"zeroline\": false}},\n",
       "                        {\"responsive\": true}\n",
       "                    ).then(function(){\n",
       "                            \n",
       "var gd = document.getElementById('2048e106-cfcf-43ee-ac09-51f1d14ac250');\n",
       "var x = new MutationObserver(function (mutations, observer) {{\n",
       "        var display = window.getComputedStyle(gd).display;\n",
       "        if (!display || display === 'none') {{\n",
       "            console.log([gd, 'removed!']);\n",
       "            Plotly.purge(gd);\n",
       "            observer.disconnect();\n",
       "        }}\n",
       "}});\n",
       "\n",
       "// Listen for the removal of the full notebook cells\n",
       "var notebookContainer = gd.closest('#notebook-container');\n",
       "if (notebookContainer) {{\n",
       "    x.observe(notebookContainer, {childList: true});\n",
       "}}\n",
       "\n",
       "// Listen for the clearing of the current output cell\n",
       "var outputEl = gd.closest('.output');\n",
       "if (outputEl) {{\n",
       "    x.observe(outputEl, {childList: true});\n",
       "}}\n",
       "\n",
       "                        })\n",
       "                };\n",
       "                });\n",
       "            </script>\n",
       "        </div>"
      ]
     },
     "metadata": {},
     "output_type": "display_data"
    }
   ],
   "source": [
    "fig.show()"
   ]
  },
  {
   "cell_type": "code",
   "execution_count": null,
   "metadata": {},
   "outputs": [],
   "source": []
  }
 ],
 "metadata": {
  "kernelspec": {
   "display_name": "Python 3",
   "language": "python",
   "name": "python3"
  },
  "language_info": {
   "codemirror_mode": {
    "name": "ipython",
    "version": 3
   },
   "file_extension": ".py",
   "mimetype": "text/x-python",
   "name": "python",
   "nbconvert_exporter": "python",
   "pygments_lexer": "ipython3",
   "version": "3.7.6"
  }
 },
 "nbformat": 4,
 "nbformat_minor": 4
}
