{
 "cells": [
  {
   "cell_type": "code",
   "execution_count": 1,
   "metadata": {},
   "outputs": [
    {
     "data": {
      "text/html": [
       "<style>.container { width:90% !important; }</style>"
      ],
      "text/plain": [
       "<IPython.core.display.HTML object>"
      ]
     },
     "metadata": {},
     "output_type": "display_data"
    }
   ],
   "source": [
    "import numpy as np\n",
    "import pandas as pd\n",
    "\n",
    "from catboost import CatBoostClassifier, Pool, CatBoostRegressor\n",
    "from sklearn.model_selection import train_test_split\n",
    "from sklearn.metrics import accuracy_score, precision_score, recall_score\n",
    "\n",
    "from IPython.core.display import display, HTML\n",
    "display(HTML(\"<style>.container { width:90% !important; }</style>\"))\n",
    "\n",
    "import os\n",
    "import sys\n",
    "BASE_PATH = os.path.realpath('..')\n",
    "DATASETS_DIR = os.path.join(BASE_PATH, 'datasets')\n",
    "LIB_DIR = os.path.join(BASE_PATH,'lib')\n",
    "if LIB_DIR not in sys.path:\n",
    "    sys.path.append(LIB_DIR)\n",
    "\n",
    "import matplotlib.pyplot as plt\n",
    "import seaborn as sns\n",
    "from tqdm.notebook import tqdm\n",
    "\n",
    "from importlib import reload"
   ]
  },
  {
   "cell_type": "code",
   "execution_count": 2,
   "metadata": {},
   "outputs": [],
   "source": [
    "import fca_interp as fcai"
   ]
  },
  {
   "cell_type": "code",
   "execution_count": 3,
   "metadata": {},
   "outputs": [],
   "source": [
    "from utils_ import powerset"
   ]
  },
  {
   "cell_type": "code",
   "execution_count": 4,
   "metadata": {},
   "outputs": [],
   "source": [
    "from importlib import reload"
   ]
  },
  {
   "cell_type": "code",
   "execution_count": 5,
   "metadata": {},
   "outputs": [],
   "source": [
    "from sklearn.datasets import load_boston"
   ]
  },
  {
   "cell_type": "markdown",
   "metadata": {},
   "source": [
    "# Attribute Information:\n",
    "\n",
    "Input variables:\n",
    "\n",
    "__bank client data:__\n",
    "1. age (numeric)\n",
    "2. job : type of job (categorical: 'admin.','blue-collar','entrepreneur','housemaid','management','retired','self-employed','services','student','technician','unemployed','unknown')\n",
    "3. marital : marital status (categorical: 'divorced','married','single','unknown'; note: 'divorced' means divorced or widowed)\n",
    "4. education (categorical: 'basic.4y','basic.6y','basic.9y','high.school','illiterate','professional.course','university.degree','unknown')\n",
    "5. default: has credit in default? (categorical: 'no','yes','unknown')\n",
    "6. balance: average yearly balance, in euros (numeric)\n",
    "7. housing: has housing loan? (categorical: 'no','yes','unknown')\n",
    "8. loan: has personal loan? (categorical: 'no','yes','unknown')\n",
    "\n",
    "__related with the last contact of the current campaign:__\n",
    "9. contact: contact communication type (categorical: 'cellular','telephone')\n",
    "10. month: last contact month of year (categorical: 'jan', 'feb', 'mar', ..., 'nov', 'dec')\n",
    "11. day_of_week: last contact day of the week (categorical: 'mon','tue','wed','thu','fri')\n",
    "12. duration: last contact duration, in seconds (numeric). Important note: this attribute highly affects the output target (e.g., if duration=0 then y='no'). Yet, the duration is not known before a call is performed. Also, after the end of the call y is obviously known. Thus, this input should only be included for benchmark purposes and should be discarded if the intention is to have a realistic predictive model.\n",
    "\n",
    "__other attributes:__\n",
    "13. campaign: number of contacts performed during this campaign and for this client (numeric, includes last contact)\n",
    "14. pdays: number of days that passed by after the client was last contacted from a previous campaign (numeric; 999 means client was not previously contacted)\n",
    "15. previous: number of contacts performed before this campaign and for this client (numeric)\n",
    "16. poutcome: outcome of the previous marketing campaign (categorical: 'failure','nonexistent','success')\n",
    "\n",
    "__Output variable (desired target):__\n",
    "17. y - has the client subscribed a term deposit? (binary: 'yes','no')"
   ]
  },
  {
   "cell_type": "code",
   "execution_count": 6,
   "metadata": {},
   "outputs": [],
   "source": [
    "real_feats = ['age', 'default', 'housing', 'loan', 'campaign', 'pdays', 'previous', 'balance',]\n",
    "cat_feats  = ['job', 'marital', 'education', 'contact', 'month', 'poutcome',]"
   ]
  },
  {
   "cell_type": "code",
   "execution_count": 7,
   "metadata": {},
   "outputs": [
    {
     "data": {
      "text/html": [
       "<div>\n",
       "<style scoped>\n",
       "    .dataframe tbody tr th:only-of-type {\n",
       "        vertical-align: middle;\n",
       "    }\n",
       "\n",
       "    .dataframe tbody tr th {\n",
       "        vertical-align: top;\n",
       "    }\n",
       "\n",
       "    .dataframe thead th {\n",
       "        text-align: right;\n",
       "    }\n",
       "</style>\n",
       "<table border=\"1\" class=\"dataframe\">\n",
       "  <thead>\n",
       "    <tr style=\"text-align: right;\">\n",
       "      <th></th>\n",
       "      <th>age</th>\n",
       "      <th>job</th>\n",
       "      <th>marital</th>\n",
       "      <th>education</th>\n",
       "      <th>default</th>\n",
       "      <th>balance</th>\n",
       "      <th>housing</th>\n",
       "      <th>loan</th>\n",
       "      <th>contact</th>\n",
       "      <th>day</th>\n",
       "      <th>month</th>\n",
       "      <th>duration</th>\n",
       "      <th>campaign</th>\n",
       "      <th>pdays</th>\n",
       "      <th>previous</th>\n",
       "      <th>poutcome</th>\n",
       "      <th>y</th>\n",
       "    </tr>\n",
       "  </thead>\n",
       "  <tbody>\n",
       "    <tr>\n",
       "      <th>0</th>\n",
       "      <td>30</td>\n",
       "      <td>unemployed</td>\n",
       "      <td>married</td>\n",
       "      <td>primary</td>\n",
       "      <td>0</td>\n",
       "      <td>1787</td>\n",
       "      <td>0</td>\n",
       "      <td>0</td>\n",
       "      <td>cellular</td>\n",
       "      <td>19</td>\n",
       "      <td>oct</td>\n",
       "      <td>79</td>\n",
       "      <td>1</td>\n",
       "      <td>NaN</td>\n",
       "      <td>0</td>\n",
       "      <td>unknown</td>\n",
       "      <td>0</td>\n",
       "    </tr>\n",
       "    <tr>\n",
       "      <th>1</th>\n",
       "      <td>33</td>\n",
       "      <td>services</td>\n",
       "      <td>married</td>\n",
       "      <td>secondary</td>\n",
       "      <td>0</td>\n",
       "      <td>4789</td>\n",
       "      <td>1</td>\n",
       "      <td>1</td>\n",
       "      <td>cellular</td>\n",
       "      <td>11</td>\n",
       "      <td>may</td>\n",
       "      <td>220</td>\n",
       "      <td>1</td>\n",
       "      <td>339.0</td>\n",
       "      <td>4</td>\n",
       "      <td>failure</td>\n",
       "      <td>0</td>\n",
       "    </tr>\n",
       "    <tr>\n",
       "      <th>2</th>\n",
       "      <td>35</td>\n",
       "      <td>management</td>\n",
       "      <td>single</td>\n",
       "      <td>tertiary</td>\n",
       "      <td>0</td>\n",
       "      <td>1350</td>\n",
       "      <td>1</td>\n",
       "      <td>0</td>\n",
       "      <td>cellular</td>\n",
       "      <td>16</td>\n",
       "      <td>apr</td>\n",
       "      <td>185</td>\n",
       "      <td>1</td>\n",
       "      <td>330.0</td>\n",
       "      <td>1</td>\n",
       "      <td>failure</td>\n",
       "      <td>0</td>\n",
       "    </tr>\n",
       "    <tr>\n",
       "      <th>3</th>\n",
       "      <td>30</td>\n",
       "      <td>management</td>\n",
       "      <td>married</td>\n",
       "      <td>tertiary</td>\n",
       "      <td>0</td>\n",
       "      <td>1476</td>\n",
       "      <td>1</td>\n",
       "      <td>1</td>\n",
       "      <td>unknown</td>\n",
       "      <td>3</td>\n",
       "      <td>jun</td>\n",
       "      <td>199</td>\n",
       "      <td>4</td>\n",
       "      <td>NaN</td>\n",
       "      <td>0</td>\n",
       "      <td>unknown</td>\n",
       "      <td>0</td>\n",
       "    </tr>\n",
       "    <tr>\n",
       "      <th>4</th>\n",
       "      <td>59</td>\n",
       "      <td>blue-collar</td>\n",
       "      <td>married</td>\n",
       "      <td>secondary</td>\n",
       "      <td>0</td>\n",
       "      <td>0</td>\n",
       "      <td>1</td>\n",
       "      <td>0</td>\n",
       "      <td>unknown</td>\n",
       "      <td>5</td>\n",
       "      <td>may</td>\n",
       "      <td>226</td>\n",
       "      <td>1</td>\n",
       "      <td>NaN</td>\n",
       "      <td>0</td>\n",
       "      <td>unknown</td>\n",
       "      <td>0</td>\n",
       "    </tr>\n",
       "    <tr>\n",
       "      <th>...</th>\n",
       "      <td>...</td>\n",
       "      <td>...</td>\n",
       "      <td>...</td>\n",
       "      <td>...</td>\n",
       "      <td>...</td>\n",
       "      <td>...</td>\n",
       "      <td>...</td>\n",
       "      <td>...</td>\n",
       "      <td>...</td>\n",
       "      <td>...</td>\n",
       "      <td>...</td>\n",
       "      <td>...</td>\n",
       "      <td>...</td>\n",
       "      <td>...</td>\n",
       "      <td>...</td>\n",
       "      <td>...</td>\n",
       "      <td>...</td>\n",
       "    </tr>\n",
       "    <tr>\n",
       "      <th>4516</th>\n",
       "      <td>33</td>\n",
       "      <td>services</td>\n",
       "      <td>married</td>\n",
       "      <td>secondary</td>\n",
       "      <td>0</td>\n",
       "      <td>-333</td>\n",
       "      <td>1</td>\n",
       "      <td>0</td>\n",
       "      <td>cellular</td>\n",
       "      <td>30</td>\n",
       "      <td>jul</td>\n",
       "      <td>329</td>\n",
       "      <td>5</td>\n",
       "      <td>NaN</td>\n",
       "      <td>0</td>\n",
       "      <td>unknown</td>\n",
       "      <td>0</td>\n",
       "    </tr>\n",
       "    <tr>\n",
       "      <th>4517</th>\n",
       "      <td>57</td>\n",
       "      <td>self-employed</td>\n",
       "      <td>married</td>\n",
       "      <td>tertiary</td>\n",
       "      <td>1</td>\n",
       "      <td>-3313</td>\n",
       "      <td>1</td>\n",
       "      <td>1</td>\n",
       "      <td>unknown</td>\n",
       "      <td>9</td>\n",
       "      <td>may</td>\n",
       "      <td>153</td>\n",
       "      <td>1</td>\n",
       "      <td>NaN</td>\n",
       "      <td>0</td>\n",
       "      <td>unknown</td>\n",
       "      <td>0</td>\n",
       "    </tr>\n",
       "    <tr>\n",
       "      <th>4518</th>\n",
       "      <td>57</td>\n",
       "      <td>technician</td>\n",
       "      <td>married</td>\n",
       "      <td>secondary</td>\n",
       "      <td>0</td>\n",
       "      <td>295</td>\n",
       "      <td>0</td>\n",
       "      <td>0</td>\n",
       "      <td>cellular</td>\n",
       "      <td>19</td>\n",
       "      <td>aug</td>\n",
       "      <td>151</td>\n",
       "      <td>11</td>\n",
       "      <td>NaN</td>\n",
       "      <td>0</td>\n",
       "      <td>unknown</td>\n",
       "      <td>0</td>\n",
       "    </tr>\n",
       "    <tr>\n",
       "      <th>4519</th>\n",
       "      <td>28</td>\n",
       "      <td>blue-collar</td>\n",
       "      <td>married</td>\n",
       "      <td>secondary</td>\n",
       "      <td>0</td>\n",
       "      <td>1137</td>\n",
       "      <td>0</td>\n",
       "      <td>0</td>\n",
       "      <td>cellular</td>\n",
       "      <td>6</td>\n",
       "      <td>feb</td>\n",
       "      <td>129</td>\n",
       "      <td>4</td>\n",
       "      <td>211.0</td>\n",
       "      <td>3</td>\n",
       "      <td>other</td>\n",
       "      <td>0</td>\n",
       "    </tr>\n",
       "    <tr>\n",
       "      <th>4520</th>\n",
       "      <td>44</td>\n",
       "      <td>entrepreneur</td>\n",
       "      <td>single</td>\n",
       "      <td>tertiary</td>\n",
       "      <td>0</td>\n",
       "      <td>1136</td>\n",
       "      <td>1</td>\n",
       "      <td>1</td>\n",
       "      <td>cellular</td>\n",
       "      <td>3</td>\n",
       "      <td>apr</td>\n",
       "      <td>345</td>\n",
       "      <td>2</td>\n",
       "      <td>249.0</td>\n",
       "      <td>7</td>\n",
       "      <td>other</td>\n",
       "      <td>0</td>\n",
       "    </tr>\n",
       "  </tbody>\n",
       "</table>\n",
       "<p>4521 rows × 17 columns</p>\n",
       "</div>"
      ],
      "text/plain": [
       "      age            job  marital  education  default  balance  housing  loan  \\\n",
       "0      30     unemployed  married    primary        0     1787        0     0   \n",
       "1      33       services  married  secondary        0     4789        1     1   \n",
       "2      35     management   single   tertiary        0     1350        1     0   \n",
       "3      30     management  married   tertiary        0     1476        1     1   \n",
       "4      59    blue-collar  married  secondary        0        0        1     0   \n",
       "...   ...            ...      ...        ...      ...      ...      ...   ...   \n",
       "4516   33       services  married  secondary        0     -333        1     0   \n",
       "4517   57  self-employed  married   tertiary        1    -3313        1     1   \n",
       "4518   57     technician  married  secondary        0      295        0     0   \n",
       "4519   28    blue-collar  married  secondary        0     1137        0     0   \n",
       "4520   44   entrepreneur   single   tertiary        0     1136        1     1   \n",
       "\n",
       "       contact  day month  duration  campaign  pdays  previous poutcome  y  \n",
       "0     cellular   19   oct        79         1    NaN         0  unknown  0  \n",
       "1     cellular   11   may       220         1  339.0         4  failure  0  \n",
       "2     cellular   16   apr       185         1  330.0         1  failure  0  \n",
       "3      unknown    3   jun       199         4    NaN         0  unknown  0  \n",
       "4      unknown    5   may       226         1    NaN         0  unknown  0  \n",
       "...        ...  ...   ...       ...       ...    ...       ...      ... ..  \n",
       "4516  cellular   30   jul       329         5    NaN         0  unknown  0  \n",
       "4517   unknown    9   may       153         1    NaN         0  unknown  0  \n",
       "4518  cellular   19   aug       151        11    NaN         0  unknown  0  \n",
       "4519  cellular    6   feb       129         4  211.0         3    other  0  \n",
       "4520  cellular    3   apr       345         2  249.0         7    other  0  \n",
       "\n",
       "[4521 rows x 17 columns]"
      ]
     },
     "execution_count": 7,
     "metadata": {},
     "output_type": "execute_result"
    }
   ],
   "source": [
    "bank_ds = pd.read_csv(os.path.join(DATASETS_DIR, 'bank.csv'), sep=';')\n",
    "\n",
    "for f in ['default', 'housing','loan', 'y']:\n",
    "    bank_ds[f] = bank_ds[f].apply(lambda x: {'no':0, 'yes':1, 'unknown':None}[x])\n",
    "bank_ds.loc[bank_ds['pdays']==-1, 'pdays'] = None\n",
    "\n",
    "bank_ds.index = bank_ds.index.astype(str)\n",
    "bank_ds"
   ]
  },
  {
   "cell_type": "code",
   "execution_count": 8,
   "metadata": {},
   "outputs": [],
   "source": [
    "bb = CatBoostClassifier(cat_features=cat_feats)\n",
    "bb.fit(bank_ds[cat_feats+real_feats], bank_ds['y'], verbose=False, plot=False)\n",
    "bank_ds['preds'] = bb.predict(bank_ds[cat_feats+real_feats])"
   ]
  },
  {
   "cell_type": "code",
   "execution_count": 9,
   "metadata": {},
   "outputs": [],
   "source": [
    "bank_ds.to_csv('bank_ds_new.csv')\n",
    "bank_ds = pd.read_csv('bank_ds_new.csv', index_col=0)"
   ]
  },
  {
   "cell_type": "code",
   "execution_count": 10,
   "metadata": {},
   "outputs": [],
   "source": [
    "bank_ds.index = bank_ds.index.astype(str)"
   ]
  },
  {
   "cell_type": "code",
   "execution_count": 11,
   "metadata": {},
   "outputs": [],
   "source": [
    "def get_negative_support(bin_ds, flg, fs=None, drop_negative_duplicates=False):\n",
    "    fs = fs if fs is not None else bin_ds.columns\n",
    "    fs = list(fs)\n",
    "    pos_examples = bin_ds.loc[flg, fs].astype(int)\n",
    "    neg_examples = bin_ds.loc[~flg, fs].astype(int)\n",
    "    \n",
    "    pos_examples = pos_examples.drop_duplicates()            \n",
    "    if drop_negative_duplicates:\n",
    "        neg_examples = neg_examples.drop_duplicates()\n",
    "        coefs = [1]*len(neg_examples)\n",
    "    else:\n",
    "        neg_examples = neg_examples.pivot_table(index=fs, aggfunc='size').reset_index()\n",
    "        coefs = neg_examples[0]\n",
    "        neg_examples = neg_examples.drop(0, 1)\n",
    "        \n",
    "    cross = pos_examples.dot(neg_examples.T)    \n",
    "    #cross_same = (cross==neg_examples.sum(1))&((cross.T==pos_examples.sum(1)).T)\n",
    "    cross_same = (cross.T==pos_examples.sum(1)).T # if g_+` \n",
    "    neg_support = (cross_same.any(0) * coefs).sum()\n",
    "    return neg_support"
   ]
  },
  {
   "cell_type": "code",
   "execution_count": 12,
   "metadata": {},
   "outputs": [],
   "source": [
    "def is_feats_strong(bin_ds, flg, fs=None):\n",
    "    fs = fs if fs is not None else bin_ds.columns\n",
    "    neg_support = get_negative_support(bin_ds, flg, fs, drop_negative_duplicates=True)\n",
    "    return neg_support==0"
   ]
  },
  {
   "cell_type": "code",
   "execution_count": 13,
   "metadata": {},
   "outputs": [],
   "source": [
    "def calc_cover_of_concepts(concepts):\n",
    "    return set([str(g) for c in concepts for g in c.get_extent()])"
   ]
  },
  {
   "cell_type": "code",
   "execution_count": 14,
   "metadata": {},
   "outputs": [],
   "source": [
    "def get_min_concepts(concepts, use_tqdm=True):\n",
    "    concepts = sorted(concepts, key=lambda c: -len(c.get_extent()))\n",
    "    for i in tqdm(range(len(concepts)), disable=not use_tqdm):\n",
    "        if i >= len(concepts):\n",
    "            break\n",
    "        \n",
    "        c = concepts[i]\n",
    "        lns = set([c_ for c_ in concepts if c_!=c and c_.is_subconcept_of(c)])\n",
    "        concepts = [c_ for c_ in concepts if c_ not in lns]\n",
    "    return concepts"
   ]
  },
  {
   "cell_type": "code",
   "execution_count": 412,
   "metadata": {},
   "outputs": [],
   "source": [
    "def select_smallest_covering_hyps(concepts, use_tqdm=True, use_pruning=False):\n",
    "    selected_hyps = []\n",
    "    n_added = []\n",
    "    n_covered = []\n",
    "    for i in tqdm(range(len(concepts)), disable=not use_tqdm):\n",
    "        cncpts_to_check = [c for c in concepts if c not in selected_hyps]\n",
    "        if len(cncpts_to_check)==0:\n",
    "            break\n",
    "        cover = calc_cover_of_concepts(selected_hyps)\n",
    "        for c in cncpts_to_check:\n",
    "            c._metrics['n_uncovered'] = len([g for g in c.get_extent() if g not in cover])\n",
    "        cncpts_to_check = sorted(cncpts_to_check, key=lambda c: (-c._metrics['n_uncovered'], -c._metrics['strongness']))\n",
    "        n_ = cncpts_to_check[0]._metrics['n_uncovered']\n",
    "        if n_==0:\n",
    "            break\n",
    "        selected_hyps.append(cncpts_to_check[0])\n",
    "        n_added.append(n_)\n",
    "        n_covered.append(len(calc_cover_of_concepts(selected_hyps)))\n",
    "        \n",
    "    if use_pruning:\n",
    "        for i in tqdm(range(len(selected_hyps)), desc='pruning', disable=not use_tqdm):\n",
    "            cover = len(calc_cover_of_concepts(selected_hyps))\n",
    "            for c in selected_hyps:\n",
    "                cover_ = len(calc_cover_of_concepts([c_ for c_ in selected_hyps if c_!=c]))\n",
    "                if cover_==cover:\n",
    "                    selected_hyps = [c_ for c_ in selected_hyps if c_!=c]\n",
    "                    break\n",
    "            else:\n",
    "                break\n",
    "    \n",
    "    return selected_hyps"
   ]
  },
  {
   "cell_type": "code",
   "execution_count": 26,
   "metadata": {},
   "outputs": [],
   "source": [
    "def construct_bin_ds_from_ints(ints_, bin_ds_old):\n",
    "    bin_ds = pd.DataFrame()\n",
    "    for idx, int_ in enumerate(ints_):\n",
    "        bin_ds[f'int_{idx}'] = bin_ds_old[int_].all(1)\n",
    "    bin_ds.index = bin_ds_old.index\n",
    "    return bin_ds"
   ]
  },
  {
   "cell_type": "markdown",
   "metadata": {},
   "source": [
    "# Анализируем положительные примеры"
   ]
  },
  {
   "cell_type": "code",
   "execution_count": 27,
   "metadata": {},
   "outputs": [],
   "source": [
    "import fca_interp as fcai"
   ]
  },
  {
   "cell_type": "code",
   "execution_count": 28,
   "metadata": {},
   "outputs": [],
   "source": [
    "fcai = reload(fcai)"
   ]
  },
  {
   "cell_type": "code",
   "execution_count": 29,
   "metadata": {},
   "outputs": [
    {
     "data": {
      "text/plain": [
       "149"
      ]
     },
     "execution_count": 29,
     "metadata": {},
     "output_type": "execute_result"
    }
   ],
   "source": [
    "flg = bank_ds['preds']==1\n",
    "flg.sum()"
   ]
  },
  {
   "cell_type": "code",
   "execution_count": 113,
   "metadata": {},
   "outputs": [],
   "source": [
    "binarizer = fcai.Binarizer()"
   ]
  },
  {
   "cell_type": "code",
   "execution_count": 114,
   "metadata": {},
   "outputs": [],
   "source": [
    "ths = {}\n",
    "for f in real_feats:\n",
    "    ths[f] = sorted(bank_ds.loc[flg, f].unique())\n",
    "cases = {}"
   ]
  },
  {
   "cell_type": "code",
   "execution_count": 115,
   "metadata": {},
   "outputs": [
    {
     "data": {
      "text/plain": [
       "((4521, 644), (149, 626))"
      ]
     },
     "execution_count": 115,
     "metadata": {},
     "output_type": "execute_result"
    }
   ],
   "source": [
    "bin_ds, forder = binarizer.binarize_ds(bank_ds[cat_feats+real_feats], cat_feats, ths, cases)\n",
    "bin_ds.shape, bin_ds[flg].drop_duplicates().T.drop_duplicates().T.shape"
   ]
  },
  {
   "cell_type": "code",
   "execution_count": 116,
   "metadata": {},
   "outputs": [
    {
     "data": {
      "text/plain": [
       "True"
      ]
     },
     "execution_count": 116,
     "metadata": {},
     "output_type": "execute_result"
    }
   ],
   "source": [
    "is_feats_strong(bin_ds, flg)"
   ]
  },
  {
   "cell_type": "code",
   "execution_count": 126,
   "metadata": {},
   "outputs": [],
   "source": [
    "with open('short_feats_pos_samples.txt','r') as f:\n",
    "    short_feats = f.read().split(',')"
   ]
  },
  {
   "cell_type": "code",
   "execution_count": 128,
   "metadata": {},
   "outputs": [
    {
     "data": {
      "text/plain": [
       "(39, True)"
      ]
     },
     "execution_count": 128,
     "metadata": {},
     "output_type": "execute_result"
    }
   ],
   "source": [
    "len(short_feats), is_feats_strong(bin_ds, flg, short_feats)"
   ]
  },
  {
   "cell_type": "code",
   "execution_count": 129,
   "metadata": {},
   "outputs": [
    {
     "data": {
      "application/vnd.jupyter.widget-view+json": {
       "model_id": "aa2ec8fd0ae44165b339def7bc1e5cb0",
       "version_major": 2,
       "version_minor": 0
      },
      "text/plain": [
       "HBox(children=(FloatProgress(value=0.0, max=148.0), HTML(value='')))"
      ]
     },
     "metadata": {},
     "output_type": "display_data"
    },
    {
     "name": "stdout",
     "output_type": "stream",
     "text": [
      "\n",
      "Every row is a strong hypothesis\n"
     ]
    }
   ],
   "source": [
    "bin_pos_ = bin_ds.loc[flg, short_feats].drop_duplicates()\n",
    "bin_neg_ = bin_ds.loc[~flg, short_feats].drop_duplicates()\n",
    "\n",
    "for idx, row in tqdm(bin_pos_.iterrows(),total=len(bin_pos_)):\n",
    "    neg_sup = (bin_neg_==row).all(1).sum()\n",
    "    assert neg_sup==0, f'Row {idx} is not strong'\n",
    "else:\n",
    "    print('Every row is a strong hypothesis')"
   ]
  },
  {
   "cell_type": "code",
   "execution_count": 130,
   "metadata": {},
   "outputs": [],
   "source": [
    "from sklearn.metrics import accuracy_score"
   ]
  },
  {
   "cell_type": "code",
   "execution_count": 131,
   "metadata": {},
   "outputs": [],
   "source": [
    "fcai = reload(fcai)"
   ]
  },
  {
   "cell_type": "code",
   "execution_count": 132,
   "metadata": {},
   "outputs": [],
   "source": [
    "from datetime import datetime"
   ]
  },
  {
   "cell_type": "raw",
   "metadata": {},
   "source": [
    "sample_sizes = [1,3,5,10,15,20,30]\n",
    "times_cbo = []\n",
    "times_mit = []\n",
    "for sample_size in tqdm(sample_sizes):\n",
    "    for alg in ['CBO', 'mit']:\n",
    "        t1 = datetime.now()\n",
    "        cntx_ = fcai.BinaryContext(bin_ds[flg][short_feats].head(sample_size))\n",
    "        fm_ = fcai.FormalManager(cntx_, task_type='binary classification', cat_feats=cat_feats)\n",
    "        fm_.construct_concepts(algo=alg, use_tqdm=False, calc_metrics=False)\n",
    "        t2 = datetime.now()\n",
    "        dt = (t2-t1).total_seconds()\n",
    "        if alg=='CBO':\n",
    "            times_cbo.append(dt)\n",
    "        if alg=='mit':\n",
    "            times_mit.append(dt)"
   ]
  },
  {
   "cell_type": "code",
   "execution_count": 37,
   "metadata": {},
   "outputs": [
    {
     "data": {
      "image/png": "[encoded data removed]",
      "text/plain": [
       "<Figure size 1080x360 with 2 Axes>"
      ]
     },
     "metadata": {
      "needs_background": "light"
     },
     "output_type": "display_data"
    }
   ],
   "source": [
    "plt.figure(figsize=(15,5))\n",
    "plt.subplot(121)\n",
    "plt.plot(sample_sizes, times_cbo, '*-', label='CBO times')\n",
    "plt.plot(sample_sizes, times_mit, '*-', label='MIT times')\n",
    "plt.title('Time to construct concepts for contexts of different sizes')\n",
    "plt.legend()\n",
    "plt.xlabel('Num of objects in the context')\n",
    "plt.ylabel('Seconds')\n",
    "\n",
    "plt.subplot(122)\n",
    "plt.plot(sample_sizes, np.array(times_cbo)-np.array(times_mit), '*-')\n",
    "plt.title('Time of CBO - time of MIT algorithm')\n",
    "plt.xlabel('Num of objects in the context')\n",
    "plt.ylabel('Seconds')\n",
    "\n",
    "plt.show()"
   ]
  },
  {
   "cell_type": "code",
   "execution_count": 133,
   "metadata": {},
   "outputs": [],
   "source": [
    "bin_ds_pos = bin_ds.loc[flg, short_feats]\n",
    "bin_ds_neg = bin_ds.loc[~flg, short_feats]"
   ]
  },
  {
   "cell_type": "code",
   "execution_count": null,
   "metadata": {},
   "outputs": [],
   "source": []
  },
  {
   "cell_type": "code",
   "execution_count": null,
   "metadata": {},
   "outputs": [],
   "source": []
  },
  {
   "cell_type": "code",
   "execution_count": 156,
   "metadata": {},
   "outputs": [],
   "source": [
    "cntx_full = fcai.BinaryContext(bin_ds[short_feats], y_true=bank_ds['y'], y_pred=bank_ds['preds'])"
   ]
  },
  {
   "cell_type": "code",
   "execution_count": 158,
   "metadata": {},
   "outputs": [
    {
     "data": {
      "text/plain": [
       "Num of objects: 148, Num of attrs: 39\n",
       "Objects (len: 148): 36, 49, 70, 83, 98,...\n",
       "Attrs (len: 39): poutcome__is__success, month__not__jan, age__geq__46, contact__not__unknown, marital__not__married,..."
      ]
     },
     "execution_count": 158,
     "metadata": {},
     "output_type": "execute_result"
    }
   ],
   "source": [
    "cntx = fcai.BinaryContext(bin_ds.loc[flg, short_feats])\n",
    "cntx"
   ]
  },
  {
   "cell_type": "code",
   "execution_count": 252,
   "metadata": {},
   "outputs": [],
   "source": [
    "def construct_max_strong_hyps(cntx, cntx_full, use_tqdm=True):\n",
    "    objs_to_check = sorted(cntx.get_objs(is_full=True))\n",
    "\n",
    "    concepts = []\n",
    "    for i in tqdm(range(len(objs_to_check)), disable=not use_tqdm):\n",
    "        if len(objs_to_check)==0:\n",
    "            break\n",
    "        g = objs_to_check.pop(0)\n",
    "\n",
    "        int_ = cntx.get_intent([g], is_full=True)\n",
    "        ext_ = cntx.get_extent(int_, is_full=True)    \n",
    "        ext_full = cntx_full.get_extent(int_, is_full=True)\n",
    "        strongness = len(ext_)/len(ext_full) if len(ext_)>0 else 0\n",
    "        assert strongness==1, f'Object {g} is not a strong hypothesis'\n",
    "\n",
    "        objs_to_check = [g_ for g_ in objs_to_check if g_ not in ext_]\n",
    "        c = fcai.Concept(ext_, int_, metrics={'strongness':strongness})\n",
    "        concepts.append(c)\n",
    "    return concepts"
   ]
  },
  {
   "cell_type": "code",
   "execution_count": 253,
   "metadata": {},
   "outputs": [
    {
     "data": {
      "application/vnd.jupyter.widget-view+json": {
       "model_id": "1d99a272b948449590533279eb328334",
       "version_major": 2,
       "version_minor": 0
      },
      "text/plain": [
       "HBox(children=(FloatProgress(value=0.0, max=149.0), HTML(value='')))"
      ]
     },
     "metadata": {},
     "output_type": "display_data"
    }
   ],
   "source": [
    "base_concepts = construct_max_strong_hyps(cntx, cntx_full)"
   ]
  },
  {
   "cell_type": "code",
   "execution_count": 254,
   "metadata": {},
   "outputs": [
    {
     "data": {
      "text/plain": [
       "144"
      ]
     },
     "execution_count": 254,
     "metadata": {},
     "output_type": "execute_result"
    }
   ],
   "source": [
    "len(base_concepts)"
   ]
  },
  {
   "cell_type": "code",
   "execution_count": 265,
   "metadata": {},
   "outputs": [],
   "source": [
    "def _close_by_one_concepts(cntx, cntx_full, strong_concepts, is_monotonic=False, strongness_min_bound=0.5, verb=True):\n",
    "    n_concepts = len(strong_concepts)\n",
    "\n",
    "    combs_to_check = [[g_idx] for g_idx in range(len(strong_concepts))]\n",
    "    concepts = set()\n",
    "    iter_ = 0\n",
    "    saved_combs = set()\n",
    "\n",
    "    t0 = datetime.now()\n",
    "    while len(combs_to_check) > 0:\n",
    "        iter_ += 1\n",
    "\n",
    "        comb = combs_to_check.pop(0)\n",
    "        \n",
    "        try:\n",
    "            ext_united = list(set([g for c_idx in comb for g in strong_concepts[c_idx].get_extent()])) #transforming concepts to their common extents\n",
    "        except Exception as e:\n",
    "            if verb:\n",
    "                print(comb, e)\n",
    "            raise e\n",
    "        int_ = cntx.get_intent(ext_united, trust_mode=False, verb=True,)\n",
    "        ext_ = cntx.get_extent(int_, trust_mode=False, verb=True, is_full=True)\n",
    "        \n",
    "        comb_ = [idx for idx, concept in enumerate(strong_concepts) if all([g in ext_ for g in concept.get_extent()])] #transforming extents to their concepts\n",
    "        \n",
    "        new_comb_ = [x for x in comb_ if x not in comb]\n",
    "\n",
    "        t1 = datetime.now()\n",
    "        dt = (t1 - t0).total_seconds()\n",
    "        try:\n",
    "            if verb:\n",
    "                print(f\"{iter_}: len(comb_)={len(comb_)}, first_in_comb: {comb_[0]}, new_comb_len:{len(new_comb_)}, time spend: {dt:.2f} sec, speed: {dt / iter_:.2f} sec/iter\")\n",
    "        except Exception as e:\n",
    "            if verb:\n",
    "                print(comb, comb_, e)\n",
    "            raise e\n",
    "\n",
    "        if (len(comb) > 0 and any([x < comb[-1] for x in new_comb_])) or tuple(comb_) in saved_combs:\n",
    "            continue\n",
    "            \n",
    "        if strongness_min_bound is not None:\n",
    "            ext_full = cntx.get_extent(int_, trust_mode=False, verb=True, is_full=True)\n",
    "            ext_full_ = cntx_full.get_extent(int_, trust_mode=False, verb=True, is_full=True)\n",
    "            strongness = len(ext_full)/len(ext_full_) if len(ext_full)>0 else 0\n",
    "            if strongness<strongness_min_bound:\n",
    "                continue\n",
    "\n",
    "        concepts.add(fcai.Concept(ext_, int_))\n",
    "        saved_combs.add(tuple(comb_))\n",
    "\n",
    "        new_combs = [comb_ + [x] for x in range((comb[-1] if len(comb) > 0 else -1) + 1, n_concepts) if x not in comb_]\n",
    "        combs_to_check = new_combs + combs_to_check\n",
    "\n",
    "    return concepts"
   ]
  },
  {
   "cell_type": "code",
   "execution_count": 278,
   "metadata": {},
   "outputs": [
    {
     "name": "stdout",
     "output_type": "stream",
     "text": [
      "158 ms ± 25 ms per loop (mean ± std. dev. of 7 runs, 10 loops each)\n"
     ]
    }
   ],
   "source": [
    "%%timeit\n",
    "united_concepts = _close_by_one_concepts(cntx, cntx_full, base_concepts[:10], is_monotonic=False, strongness_min_bound=1, verb=False)"
   ]
  },
  {
   "cell_type": "code",
   "execution_count": 279,
   "metadata": {},
   "outputs": [
    {
     "name": "stdout",
     "output_type": "stream",
     "text": [
      "485 ms ± 102 ms per loop (mean ± std. dev. of 7 runs, 1 loop each)\n"
     ]
    }
   ],
   "source": [
    "%%timeit\n",
    "united_concepts = _close_by_one_concepts(cntx, cntx_full, base_concepts[:15], is_monotonic=False, strongness_min_bound=1, verb=False)"
   ]
  },
  {
   "cell_type": "code",
   "execution_count": 280,
   "metadata": {},
   "outputs": [
    {
     "name": "stdout",
     "output_type": "stream",
     "text": [
      "796 ms ± 5.68 ms per loop (mean ± std. dev. of 7 runs, 1 loop each)\n"
     ]
    }
   ],
   "source": [
    "%%timeit\n",
    "united_concepts = _close_by_one_concepts(cntx, cntx_full, base_concepts[:20], is_monotonic=False, strongness_min_bound=1, verb=False)"
   ]
  },
  {
   "cell_type": "code",
   "execution_count": null,
   "metadata": {},
   "outputs": [],
   "source": []
  },
  {
   "cell_type": "code",
   "execution_count": null,
   "metadata": {},
   "outputs": [],
   "source": []
  },
  {
   "cell_type": "code",
   "execution_count": 367,
   "metadata": {},
   "outputs": [
    {
     "data": {
      "text/plain": [
       "<bound method FormalManager.calc_strongness of <fca_interp.FormalManager object at 0x7fd0879e3dd0>>"
      ]
     },
     "execution_count": 367,
     "metadata": {},
     "output_type": "execute_result"
    }
   ],
   "source": [
    "fm.calc_strongness()"
   ]
  },
  {
   "cell_type": "code",
   "execution_count": 651,
   "metadata": {},
   "outputs": [],
   "source": [
    "def unite_bootstrap_concepts(cntx, cntx_full, base_concepts, n_epochs=500, sample_size=15, use_tqdm=True, stab_min_bound=None, verb=False,\n",
    "                                 strongness_min_bound=0.5, n_best_concepts=None, is_monotone=False):\n",
    "    concepts_bootstrap = []\n",
    "    for i in tqdm(range(n_epochs), disable=not use_tqdm, desc='boostrap aggregating'):\n",
    "        np.random.seed(i)\n",
    "        sample = np.random.choice(base_concepts, size=sample_size, replace=True)\n",
    "        concepts = _close_by_one_concepts(cntx, cntx_full, sample, is_monotonic=False, strongness_min_bound=strongness_min_bound, verb=False)\n",
    "        fm = fcai.FormalManager(cntx)\n",
    "        fm._concepts = concepts\n",
    "        fm.calc_strongness(cntx_full)\n",
    "        for idx, c in enumerate(fm.sort_concepts(concepts)):\n",
    "            c._idx = idx\n",
    "        fm.construct_lattice()\n",
    "        fm.calc_stability_approx()\n",
    "        if stab_min_bound is not None:\n",
    "            fm.filter_concepts(lambda c: fcai.get_not_none(c._metrics['stab_min_bound'],-100)>=stab_min_bound)\n",
    "        \n",
    "        concepts = list(fm.get_concepts())\n",
    "        if n_best_concepts is not None:\n",
    "            #concepts = sorted(concepts, key=lambda c: (-c._metrics.get('stab_min_bound',0), -c._metrics.get('strongness',0)))[:n_best_concepts]\n",
    "            concepts = sorted(concepts, key=lambda c: (-fcai.get_not_none(c._metrics['stab_min_bound'],-100), -fcai.get_not_none(c._metrics['strongness'],-100)))[:n_best_concepts]\n",
    "        \n",
    "        concepts_bootstrap += concepts\n",
    "    return concepts_bootstrap"
   ]
  },
  {
   "cell_type": "code",
   "execution_count": 519,
   "metadata": {},
   "outputs": [],
   "source": [
    "int_ = cntx.get_intent([], is_full=True)\n",
    "ext_ = cntx.get_extent(int_, is_full=True)\n",
    "ext_full = cntx.get_extent(int_, is_full=True)\n",
    "bottom_concept = fcai.Concept(ext_, int_, metrics={'strongness':len(ext_)/len(ext_full) if len(ext_)>0 else 0})\n",
    "\n",
    "ext_ = cntx.get_extent([], is_full=True)\n",
    "int_ = cntx.get_intent(ext_, is_full=True)\n",
    "ext_full = cntx.get_extent(int_, is_full=True)\n",
    "top_concept = fcai.Concept(ext_, int_, metrics={'strongness':len(ext_)/len(ext_full) if len(ext_)>0 else 0})"
   ]
  },
  {
   "cell_type": "code",
   "execution_count": 596,
   "metadata": {},
   "outputs": [],
   "source": [
    "best_concepts_by_iters = {}"
   ]
  },
  {
   "cell_type": "code",
   "execution_count": 644,
   "metadata": {},
   "outputs": [
    {
     "data": {
      "text/plain": [
       "array([0. , 0.1, 0.2, 0.3, 0.4, 0.5, 0.6, 0.7, 0.8, 0.9, 1. ])"
      ]
     },
     "execution_count": 644,
     "metadata": {},
     "output_type": "execute_result"
    }
   ],
   "source": [
    "np.arange(0,1.1, 0.1)"
   ]
  },
  {
   "cell_type": "code",
   "execution_count": 652,
   "metadata": {},
   "outputs": [],
   "source": [
    "def get_unique_concepts(concepts):\n",
    "    saw_ints = set()\n",
    "    unique_concepts = []\n",
    "    for c in concepts:\n",
    "        int_ = tuple(c.get_intent())\n",
    "        if int_ not in saw_ints:\n",
    "            unique_concepts.append(c)\n",
    "            saw_ints.add(int_)\n",
    "    return unique_concepts"
   ]
  },
  {
   "cell_type": "code",
   "execution_count": 661,
   "metadata": {},
   "outputs": [],
   "source": [
    "def agglomerative_concepts_construction(cntx, cntx_full, base_concepts, strongness_delta=0.1, stab_min_bound=0.5,\n",
    "                                        use_tqdm=True, n_epochs_bootstrap=100, n_best_concepts_bootstrap=10, verb=True):\n",
    "    int_ = cntx.get_intent([], is_full=True)\n",
    "    ext_ = cntx.get_extent(int_, is_full=True)\n",
    "    ext_full = cntx.get_extent(int_, is_full=True)\n",
    "    bottom_concept = fcai.Concept(ext_, int_, metrics={'strongness':len(ext_)/len(ext_full) if len(ext_)>0 else 0})\n",
    "        \n",
    "    strong_bounds = np.arange(0,1+strongness_delta,strongness_delta)[::-1]\n",
    "    min_concepts_by_iters = {}\n",
    "    selected_concepts = []\n",
    "    \n",
    "    mc = base_concepts.copy()\n",
    "    for iter_idx, strong_bound in tqdm(enumerate(strong_bounds), disable=not use_tqdm, total=len(strong_bounds), desc='agglomerative construction'):\n",
    "        bs_concepts = unite_bootstrap_concepts(cntx, cntx_full, mc,\n",
    "                                               n_epochs=n_epochs_bootstrap, n_best_concepts=n_best_concepts_bootstrap, strongness_min_bound=strong_bound)\n",
    "        unique_concepts = get_unique_concepts(bs_concepts)\n",
    "        if verb:\n",
    "            print(f'Iter {iter_idx}: num bs unique concepts: {len(unique_concepts)}')\n",
    "        \n",
    "        concepts = unique_concepts+selected_concepts+[bottom_concept]+(base_concepts if iter_idx==0 else [])\n",
    "        if verb:\n",
    "            print(f'Iter {iter_idx}: num concept to fm: {len(concepts)}')\n",
    "            \n",
    "        fm = fcai.FormalManager(cntx)\n",
    "        fm._concepts = concepts\n",
    "        for idx, c in enumerate(fm.sort_concepts(concepts)):\n",
    "            c._idx = idx\n",
    "        fm.construct_lattice()\n",
    "        fm.calc_stability_approx()\n",
    "        concepts = fm.get_concepts()\n",
    "        \n",
    "        if verb:\n",
    "            print(f'Iter {iter_idx}: cover of all concepts: {len(calc_cover_of_concepts(concepts))}')\n",
    "        stab_concepts = [c for c in concepts if fcai.get_not_none(c._metrics['stab_min_bound'],-100)>=stab_min_bound]\n",
    "        \n",
    "        if verb:\n",
    "            print(f'Iter {iter_idx}: cover of stable concepts: {len(calc_cover_of_concepts(stab_concepts))}')\n",
    "        \n",
    "        mc = select_smallest_covering_hyps(stab_concepts, use_pruning=True)\n",
    "        if verb:\n",
    "            print(f'Iter {iter_idx}: cover of min stable concepts: {len(calc_cover_of_concepts(mc))}')\n",
    "            print(f'Iter {iter_idx}: num of min stable concepts: {len(mc)}')\n",
    "        selected_concepts = get_unique_concepts(selected_concepts+mc)\n",
    "        if verb:\n",
    "            print(f'Iter {iter_idx}: num of selected concepts: {len(selected_concepts)}')\n",
    "        min_concepts_by_iters[iter_idx] = mc\n",
    "    return selected_concepts, min_concepts_by_iters"
   ]
  },
  {
   "cell_type": "code",
   "execution_count": 662,
   "metadata": {},
   "outputs": [
    {
     "data": {
      "application/vnd.jupyter.widget-view+json": {
       "model_id": "41954579b5b14b1a874923ec49d567c1",
       "version_major": 2,
       "version_minor": 0
      },
      "text/plain": [
       "HBox(children=(FloatProgress(value=0.0, description='agglomerative construction', max=11.0, style=ProgressStyl…"
      ]
     },
     "metadata": {},
     "output_type": "display_data"
    },
    {
     "data": {
      "application/vnd.jupyter.widget-view+json": {
       "model_id": "371fb972a4bb4a3d8e140b928856cf1d",
       "version_major": 2,
       "version_minor": 0
      },
      "text/plain": [
       "HBox(children=(FloatProgress(value=0.0, description='boostrap aggregating', style=ProgressStyle(description_wi…"
      ]
     },
     "metadata": {},
     "output_type": "display_data"
    },
    {
     "name": "stdout",
     "output_type": "stream",
     "text": [
      "\n",
      "Iter 0: num bs unique concepts: 847\n",
      "Iter 0: num concept to fm: 992\n",
      "Iter 0: cover of all concepts: 149\n",
      "Iter 0: cover of stable concepts: 149\n"
     ]
    },
    {
     "data": {
      "application/vnd.jupyter.widget-view+json": {
       "model_id": "1e1d2a5a40db4691bf53beb172dfb16f",
       "version_major": 2,
       "version_minor": 0
      },
      "text/plain": [
       "HBox(children=(FloatProgress(value=0.0, max=860.0), HTML(value='')))"
      ]
     },
     "metadata": {},
     "output_type": "display_data"
    },
    {
     "data": {
      "application/vnd.jupyter.widget-view+json": {
       "model_id": "18d311103aa04b8b818170357f0a4edf",
       "version_major": 2,
       "version_minor": 0
      },
      "text/plain": [
       "HBox(children=(FloatProgress(value=0.0, description='pruning', max=50.0, style=ProgressStyle(description_width…"
      ]
     },
     "metadata": {},
     "output_type": "display_data"
    },
    {
     "name": "stdout",
     "output_type": "stream",
     "text": [
      "Iter 0: cover of min stable concepts: 149\n",
      "Iter 0: num of min stable concepts: 50\n",
      "Iter 0: num of selected concepts: 50\n"
     ]
    },
    {
     "data": {
      "application/vnd.jupyter.widget-view+json": {
       "model_id": "307ebc95caa344659ee09bdbb2b63e5c",
       "version_major": 2,
       "version_minor": 0
      },
      "text/plain": [
       "HBox(children=(FloatProgress(value=0.0, description='boostrap aggregating', style=ProgressStyle(description_wi…"
      ]
     },
     "metadata": {},
     "output_type": "display_data"
    },
    {
     "name": "stdout",
     "output_type": "stream",
     "text": [
      "\n",
      "\n",
      "\n",
      "Iter 1: num bs unique concepts: 129\n",
      "Iter 1: num concept to fm: 180\n",
      "Iter 1: cover of all concepts: 149\n",
      "Iter 1: cover of stable concepts: 149\n"
     ]
    },
    {
     "data": {
      "application/vnd.jupyter.widget-view+json": {
       "model_id": "25d18c6d5f124023bdb1aada4c9f3228",
       "version_major": 2,
       "version_minor": 0
      },
      "text/plain": [
       "HBox(children=(FloatProgress(value=0.0, max=117.0), HTML(value='')))"
      ]
     },
     "metadata": {},
     "output_type": "display_data"
    },
    {
     "data": {
      "application/vnd.jupyter.widget-view+json": {
       "model_id": "4b71d20f9fae4e98989d5c477f4ca7b8",
       "version_major": 2,
       "version_minor": 0
      },
      "text/plain": [
       "HBox(children=(FloatProgress(value=0.0, description='pruning', max=39.0, style=ProgressStyle(description_width…"
      ]
     },
     "metadata": {},
     "output_type": "display_data"
    },
    {
     "name": "stdout",
     "output_type": "stream",
     "text": [
      "Iter 1: cover of min stable concepts: 149\n",
      "Iter 1: num of min stable concepts: 39\n",
      "Iter 1: num of selected concepts: 56\n"
     ]
    },
    {
     "data": {
      "application/vnd.jupyter.widget-view+json": {
       "model_id": "25d8c449eae24cbba79bcbc861e82788",
       "version_major": 2,
       "version_minor": 0
      },
      "text/plain": [
       "HBox(children=(FloatProgress(value=0.0, description='boostrap aggregating', style=ProgressStyle(description_wi…"
      ]
     },
     "metadata": {},
     "output_type": "display_data"
    },
    {
     "name": "stdout",
     "output_type": "stream",
     "text": [
      "\n",
      "\n",
      "\n",
      "Iter 2: num bs unique concepts: 61\n",
      "Iter 2: num concept to fm: 118\n",
      "Iter 2: cover of all concepts: 149\n",
      "Iter 2: cover of stable concepts: 149\n"
     ]
    },
    {
     "data": {
      "application/vnd.jupyter.widget-view+json": {
       "model_id": "65d5def4e8ac4fa0b832302e6a7efc4f",
       "version_major": 2,
       "version_minor": 0
      },
      "text/plain": [
       "HBox(children=(FloatProgress(value=0.0, max=74.0), HTML(value='')))"
      ]
     },
     "metadata": {},
     "output_type": "display_data"
    },
    {
     "data": {
      "application/vnd.jupyter.widget-view+json": {
       "model_id": "d1bf4edfbe704d24a242f9658b727b36",
       "version_major": 2,
       "version_minor": 0
      },
      "text/plain": [
       "HBox(children=(FloatProgress(value=0.0, description='pruning', max=32.0, style=ProgressStyle(description_width…"
      ]
     },
     "metadata": {},
     "output_type": "display_data"
    },
    {
     "name": "stdout",
     "output_type": "stream",
     "text": [
      "Iter 2: cover of min stable concepts: 149\n",
      "Iter 2: num of min stable concepts: 32\n",
      "Iter 2: num of selected concepts: 60\n"
     ]
    },
    {
     "data": {
      "application/vnd.jupyter.widget-view+json": {
       "model_id": "19e945d0f7d64d64a26eb23c59748512",
       "version_major": 2,
       "version_minor": 0
      },
      "text/plain": [
       "HBox(children=(FloatProgress(value=0.0, description='boostrap aggregating', style=ProgressStyle(description_wi…"
      ]
     },
     "metadata": {},
     "output_type": "display_data"
    },
    {
     "name": "stdout",
     "output_type": "stream",
     "text": [
      "\n",
      "\n",
      "\n",
      "Iter 3: num bs unique concepts: 40\n",
      "Iter 3: num concept to fm: 101\n",
      "Iter 3: cover of all concepts: 149\n",
      "Iter 3: cover of stable concepts: 149\n"
     ]
    },
    {
     "data": {
      "application/vnd.jupyter.widget-view+json": {
       "model_id": "57c168cef2974d6194b138d707dd272f",
       "version_major": 2,
       "version_minor": 0
      },
      "text/plain": [
       "HBox(children=(FloatProgress(value=0.0, max=64.0), HTML(value='')))"
      ]
     },
     "metadata": {},
     "output_type": "display_data"
    },
    {
     "data": {
      "application/vnd.jupyter.widget-view+json": {
       "model_id": "6140d9f0517c4cf4b0bf6f2135392eab",
       "version_major": 2,
       "version_minor": 0
      },
      "text/plain": [
       "HBox(children=(FloatProgress(value=0.0, description='pruning', max=28.0, style=ProgressStyle(description_width…"
      ]
     },
     "metadata": {},
     "output_type": "display_data"
    },
    {
     "name": "stdout",
     "output_type": "stream",
     "text": [
      "Iter 3: cover of min stable concepts: 149\n",
      "Iter 3: num of min stable concepts: 28\n",
      "Iter 3: num of selected concepts: 62\n"
     ]
    },
    {
     "data": {
      "application/vnd.jupyter.widget-view+json": {
       "model_id": "e23cb2f0fe4c4353bfcf91f12101fa43",
       "version_major": 2,
       "version_minor": 0
      },
      "text/plain": [
       "HBox(children=(FloatProgress(value=0.0, description='boostrap aggregating', style=ProgressStyle(description_wi…"
      ]
     },
     "metadata": {},
     "output_type": "display_data"
    },
    {
     "name": "stdout",
     "output_type": "stream",
     "text": [
      "\n",
      "\n",
      "\n",
      "Iter 4: num bs unique concepts: 44\n",
      "Iter 4: num concept to fm: 107\n",
      "Iter 4: cover of all concepts: 149\n",
      "Iter 4: cover of stable concepts: 149\n"
     ]
    },
    {
     "data": {
      "application/vnd.jupyter.widget-view+json": {
       "model_id": "a478fec2ed0e43d595973365c41fe248",
       "version_major": 2,
       "version_minor": 0
      },
      "text/plain": [
       "HBox(children=(FloatProgress(value=0.0, max=70.0), HTML(value='')))"
      ]
     },
     "metadata": {},
     "output_type": "display_data"
    },
    {
     "data": {
      "application/vnd.jupyter.widget-view+json": {
       "model_id": "7645e1be7b4942d5accffa67a1c62c20",
       "version_major": 2,
       "version_minor": 0
      },
      "text/plain": [
       "HBox(children=(FloatProgress(value=0.0, description='pruning', max=22.0, style=ProgressStyle(description_width…"
      ]
     },
     "metadata": {},
     "output_type": "display_data"
    },
    {
     "name": "stdout",
     "output_type": "stream",
     "text": [
      "Iter 4: cover of min stable concepts: 149\n",
      "Iter 4: num of min stable concepts: 22\n",
      "Iter 4: num of selected concepts: 68\n"
     ]
    },
    {
     "data": {
      "application/vnd.jupyter.widget-view+json": {
       "model_id": "cf4434a7da6d4214a583dc489ff5a2ca",
       "version_major": 2,
       "version_minor": 0
      },
      "text/plain": [
       "HBox(children=(FloatProgress(value=0.0, description='boostrap aggregating', style=ProgressStyle(description_wi…"
      ]
     },
     "metadata": {},
     "output_type": "display_data"
    },
    {
     "name": "stdout",
     "output_type": "stream",
     "text": [
      "\n",
      "\n",
      "\n",
      "Iter 5: num bs unique concepts: 35\n",
      "Iter 5: num concept to fm: 104\n",
      "Iter 5: cover of all concepts: 149\n",
      "Iter 5: cover of stable concepts: 149\n"
     ]
    },
    {
     "data": {
      "application/vnd.jupyter.widget-view+json": {
       "model_id": "3b2d34d870e94827a270bd5a9895d8da",
       "version_major": 2,
       "version_minor": 0
      },
      "text/plain": [
       "HBox(children=(FloatProgress(value=0.0, max=71.0), HTML(value='')))"
      ]
     },
     "metadata": {},
     "output_type": "display_data"
    },
    {
     "data": {
      "application/vnd.jupyter.widget-view+json": {
       "model_id": "6060f04c6e6949e19cb947f1d827e899",
       "version_major": 2,
       "version_minor": 0
      },
      "text/plain": [
       "HBox(children=(FloatProgress(value=0.0, description='pruning', max=19.0, style=ProgressStyle(description_width…"
      ]
     },
     "metadata": {},
     "output_type": "display_data"
    },
    {
     "name": "stdout",
     "output_type": "stream",
     "text": [
      "Iter 5: cover of min stable concepts: 149\n",
      "Iter 5: num of min stable concepts: 19\n",
      "Iter 5: num of selected concepts: 71\n"
     ]
    },
    {
     "data": {
      "application/vnd.jupyter.widget-view+json": {
       "model_id": "7f688b80f16d4817840d979aa1328de1",
       "version_major": 2,
       "version_minor": 0
      },
      "text/plain": [
       "HBox(children=(FloatProgress(value=0.0, description='boostrap aggregating', style=ProgressStyle(description_wi…"
      ]
     },
     "metadata": {},
     "output_type": "display_data"
    },
    {
     "name": "stdout",
     "output_type": "stream",
     "text": [
      "\n",
      "\n",
      "\n",
      "Iter 6: num bs unique concepts: 30\n",
      "Iter 6: num concept to fm: 102\n",
      "Iter 6: cover of all concepts: 149\n",
      "Iter 6: cover of stable concepts: 149\n"
     ]
    },
    {
     "data": {
      "application/vnd.jupyter.widget-view+json": {
       "model_id": "8a01fbfd16b54f918cba2c59daad97b0",
       "version_major": 2,
       "version_minor": 0
      },
      "text/plain": [
       "HBox(children=(FloatProgress(value=0.0, max=80.0), HTML(value='')))"
      ]
     },
     "metadata": {},
     "output_type": "display_data"
    },
    {
     "data": {
      "application/vnd.jupyter.widget-view+json": {
       "model_id": "16aa00c2687c42148a4b14f3ab29bc07",
       "version_major": 2,
       "version_minor": 0
      },
      "text/plain": [
       "HBox(children=(FloatProgress(value=0.0, description='pruning', max=15.0, style=ProgressStyle(description_width…"
      ]
     },
     "metadata": {},
     "output_type": "display_data"
    },
    {
     "name": "stdout",
     "output_type": "stream",
     "text": [
      "Iter 6: cover of min stable concepts: 149\n",
      "Iter 6: num of min stable concepts: 15\n",
      "Iter 6: num of selected concepts: 75\n"
     ]
    },
    {
     "data": {
      "application/vnd.jupyter.widget-view+json": {
       "model_id": "f44e45370741410a8feaaebf5722dd07",
       "version_major": 2,
       "version_minor": 0
      },
      "text/plain": [
       "HBox(children=(FloatProgress(value=0.0, description='boostrap aggregating', style=ProgressStyle(description_wi…"
      ]
     },
     "metadata": {},
     "output_type": "display_data"
    },
    {
     "name": "stdout",
     "output_type": "stream",
     "text": [
      "\n",
      "\n",
      "\n",
      "Iter 7: num bs unique concepts: 18\n",
      "Iter 7: num concept to fm: 94\n",
      "Iter 7: cover of all concepts: 149\n",
      "Iter 7: cover of stable concepts: 149\n"
     ]
    },
    {
     "data": {
      "application/vnd.jupyter.widget-view+json": {
       "model_id": "2ce32791463a45cd9db06385bb654e62",
       "version_major": 2,
       "version_minor": 0
      },
      "text/plain": [
       "HBox(children=(FloatProgress(value=0.0, max=76.0), HTML(value='')))"
      ]
     },
     "metadata": {},
     "output_type": "display_data"
    },
    {
     "data": {
      "application/vnd.jupyter.widget-view+json": {
       "model_id": "651be2b012634723929086c2c01416aa",
       "version_major": 2,
       "version_minor": 0
      },
      "text/plain": [
       "HBox(children=(FloatProgress(value=0.0, description='pruning', max=14.0, style=ProgressStyle(description_width…"
      ]
     },
     "metadata": {},
     "output_type": "display_data"
    },
    {
     "name": "stdout",
     "output_type": "stream",
     "text": [
      "Iter 7: cover of min stable concepts: 149\n",
      "Iter 7: num of min stable concepts: 14\n",
      "Iter 7: num of selected concepts: 76\n"
     ]
    },
    {
     "data": {
      "application/vnd.jupyter.widget-view+json": {
       "model_id": "f72b4aebec2f4587a14e14a37bfe3040",
       "version_major": 2,
       "version_minor": 0
      },
      "text/plain": [
       "HBox(children=(FloatProgress(value=0.0, description='boostrap aggregating', style=ProgressStyle(description_wi…"
      ]
     },
     "metadata": {},
     "output_type": "display_data"
    },
    {
     "name": "stdout",
     "output_type": "stream",
     "text": [
      "\n",
      "\n",
      "\n",
      "Iter 8: num bs unique concepts: 26\n",
      "Iter 8: num concept to fm: 103\n",
      "Iter 8: cover of all concepts: 149\n",
      "Iter 8: cover of stable concepts: 149\n"
     ]
    },
    {
     "data": {
      "application/vnd.jupyter.widget-view+json": {
       "model_id": "6994cd67a6594363813b12350616c09d",
       "version_major": 2,
       "version_minor": 0
      },
      "text/plain": [
       "HBox(children=(FloatProgress(value=0.0, max=83.0), HTML(value='')))"
      ]
     },
     "metadata": {},
     "output_type": "display_data"
    },
    {
     "data": {
      "application/vnd.jupyter.widget-view+json": {
       "model_id": "7553e3be715c43cba645bc4e06e0983a",
       "version_major": 2,
       "version_minor": 0
      },
      "text/plain": [
       "HBox(children=(FloatProgress(value=0.0, description='pruning', max=9.0, style=ProgressStyle(description_width=…"
      ]
     },
     "metadata": {},
     "output_type": "display_data"
    },
    {
     "name": "stdout",
     "output_type": "stream",
     "text": [
      "Iter 8: cover of min stable concepts: 149\n",
      "Iter 8: num of min stable concepts: 9\n",
      "Iter 8: num of selected concepts: 80\n"
     ]
    },
    {
     "data": {
      "application/vnd.jupyter.widget-view+json": {
       "model_id": "b40ddc72e08249d18b49374d903c0137",
       "version_major": 2,
       "version_minor": 0
      },
      "text/plain": [
       "HBox(children=(FloatProgress(value=0.0, description='boostrap aggregating', style=ProgressStyle(description_wi…"
      ]
     },
     "metadata": {},
     "output_type": "display_data"
    },
    {
     "name": "stdout",
     "output_type": "stream",
     "text": [
      "\n",
      "\n",
      "\n",
      "Iter 9: num bs unique concepts: 18\n",
      "Iter 9: num concept to fm: 99\n",
      "Iter 9: cover of all concepts: 149\n",
      "Iter 9: cover of stable concepts: 149\n"
     ]
    },
    {
     "name": "stderr",
     "output_type": "stream",
     "text": [
      "/opt/lib/fca_interp.py:589: RuntimeWarning:\n",
      "\n",
      "divide by zero encountered in log2\n",
      "\n",
      "/opt/lib/fca_interp.py:590: RuntimeWarning:\n",
      "\n",
      "divide by zero encountered in log2\n",
      "\n"
     ]
    },
    {
     "data": {
      "application/vnd.jupyter.widget-view+json": {
       "model_id": "f13ac2efebf54656a14674cd8ea1cb70",
       "version_major": 2,
       "version_minor": 0
      },
      "text/plain": [
       "HBox(children=(FloatProgress(value=0.0, max=86.0), HTML(value='')))"
      ]
     },
     "metadata": {},
     "output_type": "display_data"
    },
    {
     "data": {
      "application/vnd.jupyter.widget-view+json": {
       "model_id": "512ca499061549cebcbe892dffc28e49",
       "version_major": 2,
       "version_minor": 0
      },
      "text/plain": [
       "HBox(children=(FloatProgress(value=0.0, description='pruning', max=5.0, style=ProgressStyle(description_width=…"
      ]
     },
     "metadata": {},
     "output_type": "display_data"
    },
    {
     "name": "stdout",
     "output_type": "stream",
     "text": [
      "Iter 9: cover of min stable concepts: 149\n",
      "Iter 9: num of min stable concepts: 5\n",
      "Iter 9: num of selected concepts: 83\n"
     ]
    },
    {
     "data": {
      "application/vnd.jupyter.widget-view+json": {
       "model_id": "e86d24e4dae341c8accd15ce78488800",
       "version_major": 2,
       "version_minor": 0
      },
      "text/plain": [
       "HBox(children=(FloatProgress(value=0.0, description='boostrap aggregating', style=ProgressStyle(description_wi…"
      ]
     },
     "metadata": {},
     "output_type": "display_data"
    },
    {
     "name": "stdout",
     "output_type": "stream",
     "text": [
      "\n",
      "Iter 10: num bs unique concepts: 19\n",
      "Iter 10: num concept to fm: 103\n",
      "Iter 10: cover of all concepts: 149\n",
      "Iter 10: cover of stable concepts: 149\n"
     ]
    },
    {
     "data": {
      "application/vnd.jupyter.widget-view+json": {
       "model_id": "6f4193878af8454494f1365cc95dbed2",
       "version_major": 2,
       "version_minor": 0
      },
      "text/plain": [
       "HBox(children=(FloatProgress(value=0.0, max=96.0), HTML(value='')))"
      ]
     },
     "metadata": {},
     "output_type": "display_data"
    },
    {
     "data": {
      "application/vnd.jupyter.widget-view+json": {
       "model_id": "619a4d5c5f9048e2b55b746237c846d6",
       "version_major": 2,
       "version_minor": 0
      },
      "text/plain": [
       "HBox(children=(FloatProgress(value=0.0, description='pruning', max=2.0, style=ProgressStyle(description_width=…"
      ]
     },
     "metadata": {},
     "output_type": "display_data"
    },
    {
     "name": "stdout",
     "output_type": "stream",
     "text": [
      "Iter 10: cover of min stable concepts: 149\n",
      "Iter 10: num of min stable concepts: 2\n",
      "Iter 10: num of selected concepts: 84\n",
      "\n"
     ]
    }
   ],
   "source": [
    "selected_concepts, min_concepts_by_iters = agglomerative_concepts_construction(cntx, cntx_full, base_concepts, )"
   ]
  },
  {
   "cell_type": "code",
   "execution_count": 718,
   "metadata": {},
   "outputs": [],
   "source": [
    "selected_concepts = get_unique_concepts([c for vs in min_concepts_by_iters.values() for c in vs])"
   ]
  },
  {
   "cell_type": "code",
   "execution_count": 719,
   "metadata": {},
   "outputs": [
    {
     "data": {
      "application/vnd.jupyter.widget-view+json": {
       "model_id": "dbd9895a11344cd1bfba3809969ee98d",
       "version_major": 2,
       "version_minor": 0
      },
      "text/plain": [
       "HBox(children=(FloatProgress(value=0.0, max=84.0), HTML(value='')))"
      ]
     },
     "metadata": {},
     "output_type": "display_data"
    }
   ],
   "source": [
    "selected_concepts = sorted(selected_concepts, key=lambda c: len(c.get_extent()))\n",
    "for i in tqdm(range(len(selected_concepts))):\n",
    "    if i>= len(selected_concepts):\n",
    "        break\n",
    "    c = selected_concepts[i]\n",
    "    if c._metrics['strongness']<1:\n",
    "        continue\n",
    "    low_neighbs = [c_ for c_ in selected_concepts if c_.is_subconcept_of(c) and c!=c_]\n",
    "    selected_concepts = [c_ for c_ in selected_concepts if c_ not in low_neighbs]"
   ]
  },
  {
   "cell_type": "code",
   "execution_count": 720,
   "metadata": {},
   "outputs": [
    {
     "data": {
      "text/plain": [
       "82"
      ]
     },
     "execution_count": 720,
     "metadata": {},
     "output_type": "execute_result"
    }
   ],
   "source": [
    "len(selected_concepts)"
   ]
  },
  {
   "cell_type": "code",
   "execution_count": 933,
   "metadata": {},
   "outputs": [],
   "source": [
    "fm = fcai.FormalManager(cntx)\n",
    "fm._concepts = [fcai.Concept(c.get_extent(), c.get_intent(), metrics=c._metrics) for c in selected_concepts+[top_concept]+[bottom_concept]]\n",
    "for idx, c in enumerate(fm.sort_concepts(fm.get_concepts())):\n",
    "    c._idx = idx\n",
    "fm.calc_strongness(cntx_full)\n",
    "fm.construct_lattice()\n",
    "fm.calc_stability_approx()\n",
    "concepts = fm.get_concepts()"
   ]
  },
  {
   "cell_type": "code",
   "execution_count": 942,
   "metadata": {},
   "outputs": [
    {
     "name": "stderr",
     "output_type": "stream",
     "text": [
      "/root/anaconda3/lib/python3.7/site-packages/numpy/core/fromnumeric.py:3335: RuntimeWarning:\n",
      "\n",
      "Mean of empty slice.\n",
      "\n",
      "/root/anaconda3/lib/python3.7/site-packages/numpy/core/_methods.py:161: RuntimeWarning:\n",
      "\n",
      "invalid value encountered in double_scalars\n",
      "\n"
     ]
    }
   ],
   "source": [
    "fig = fm.get_plotly_fig(color_by='stab_min_bound', sort_by='strongness', level_sort=3, new_attrs_lim=1, new_objs_lim=1)"
   ]
  },
  {
   "cell_type": "code",
   "execution_count": 943,
   "metadata": {},
   "outputs": [
    {
     "data": {
      "application/vnd.plotly.v1+json": {
       "config": {
        "plotlyServerURL": "https://plot.ly"
       },
       "data": [
        {
         "hoverinfo": "none",
         "line": {
          "color": "#888",
          "width": 0.5
         },
         "mode": "lines",
         "type": "scatter",
         "x": [
          -9.5,
          0,
          null,
          -9.5,
          -4.5,
          null,
          -0.5,
          0,
          null,
          -0.5,
          -0.5,
          null,
          -0.5,
          0.5,
          null,
          4.5,
          0,
          null,
          4.5,
          -0.5,
          null,
          4.5,
          -7.5,
          null,
          4.5,
          -5.5,
          null,
          7.5,
          0,
          null,
          7.5,
          -3.5,
          null,
          7.5,
          1.5,
          null,
          5.5,
          0,
          null,
          5.5,
          -0.5,
          null,
          0.5,
          0,
          null,
          0.5,
          2.5,
          null,
          0.5,
          -0.5,
          null,
          1.5,
          0,
          null,
          1.5,
          -0.5,
          null,
          -2.5,
          0,
          null,
          -2.5,
          -0.5,
          null,
          -2.5,
          -6.5,
          null,
          -5.5,
          0,
          null,
          -5.5,
          -11.5,
          null,
          2.5,
          0,
          null,
          2.5,
          1.5,
          null,
          -1.5,
          0,
          null,
          -1.5,
          -3.5,
          null,
          3.5,
          0,
          null,
          3.5,
          1.5,
          null,
          4.5,
          0,
          null,
          4.5,
          0.5,
          null,
          4.5,
          1.5,
          null,
          5.5,
          0,
          null,
          5.5,
          -1.5,
          null,
          -2.5,
          0,
          null,
          -2.5,
          -0.5,
          null,
          -2.5,
          0.5,
          null,
          -8.5,
          0,
          null,
          -8.5,
          -7.5,
          null,
          -8.5,
          -0.5,
          null,
          -4.5,
          0,
          null,
          -4.5,
          -10.5,
          null,
          0.5,
          0,
          null,
          0.5,
          -2.5,
          null,
          0.5,
          -5.5,
          null,
          -1.5,
          0,
          null,
          -1.5,
          -4.5,
          null,
          5.5,
          0,
          null,
          5.5,
          2.5,
          null,
          -7.5,
          0,
          null,
          -7.5,
          -0.5,
          null,
          -7.5,
          -6.5,
          null,
          -0.5,
          0,
          null,
          -0.5,
          -2.5,
          null,
          0.5,
          0,
          null,
          0.5,
          -10.5,
          null,
          0.5,
          -4.5,
          null,
          -12.5,
          0,
          null,
          -12.5,
          -7.5,
          null,
          -12.5,
          -6.5,
          null,
          -0.5,
          0,
          null,
          -0.5,
          1.5,
          null,
          3.5,
          0,
          null,
          3.5,
          -1.5,
          null,
          3.5,
          -3.5,
          null,
          1.5,
          0,
          null,
          1.5,
          -4.5,
          null,
          6.5,
          0,
          null,
          6.5,
          0.5,
          null,
          6.5,
          1.5,
          null,
          -3.5,
          0,
          null,
          -3.5,
          -11.5,
          null,
          0.5,
          0,
          null,
          0.5,
          -4.5,
          null,
          0.5,
          -2.5,
          null,
          0.5,
          2.5,
          null,
          -6.5,
          0,
          null,
          -6.5,
          -3.5,
          null,
          -1.5,
          0,
          null,
          -1.5,
          3.5,
          null,
          -0.5,
          0,
          null,
          -0.5,
          4.5,
          null,
          -0.5,
          -0.5,
          null,
          -1.5,
          0,
          null,
          -1.5,
          1.5,
          null,
          -1.5,
          -1.5,
          null,
          -1.5,
          -5.5,
          null,
          12.5,
          0,
          null,
          12.5,
          6.5,
          null,
          6.5,
          0,
          null,
          6.5,
          2.5,
          null,
          0.5,
          0,
          null,
          0.5,
          1.5,
          null,
          2.5,
          0,
          null,
          2.5,
          -2.5,
          null,
          -0.5,
          -0.5,
          null,
          -11.5,
          -6.5,
          null,
          2.5,
          0.5,
          null,
          0.5,
          0,
          null,
          0.5,
          3.5,
          null,
          -5.5,
          0,
          null,
          -5.5,
          -4.5,
          null,
          1.5,
          0,
          null,
          1.5,
          2.5,
          null,
          1.5,
          -5.5,
          null,
          2.5,
          0,
          null,
          2.5,
          1.5,
          null,
          2.5,
          -5.5,
          null,
          -10.5,
          -5.5,
          null,
          7.5,
          0,
          null,
          7.5,
          1.5,
          null,
          -7.5,
          -6.5,
          null,
          9.5,
          0,
          null,
          9.5,
          4.5,
          null,
          8.5,
          0,
          null,
          8.5,
          2.5,
          null,
          -4.5,
          -5.5,
          null,
          -6.5,
          -6.5,
          null,
          1.5,
          4.5,
          null,
          3.5,
          -4.5,
          null,
          11.5,
          0,
          null,
          11.5,
          6.5,
          null,
          11.5,
          -2.5,
          null,
          -5.5,
          -6.5,
          null,
          6.5,
          -1.5,
          null,
          1.5,
          -3.5,
          null,
          1.5,
          -2.5,
          null,
          -4.5,
          -2.5,
          null,
          -0.5,
          0,
          null,
          4.5,
          -3.5,
          null,
          -3.5,
          -3.5,
          null,
          -0.5,
          -4.5,
          null,
          5.5,
          0,
          null,
          5.5,
          4.5,
          null,
          5.5,
          -5.5,
          null,
          10.5,
          0,
          null,
          10.5,
          4.5,
          null,
          -1.5,
          0.5,
          null,
          -1.5,
          1.5,
          null,
          -2.5,
          -2.5,
          null,
          -3.5,
          -5.5,
          null,
          3.5,
          0,
          null,
          3.5,
          2.5,
          null,
          3.5,
          -5.5,
          null,
          -4.5,
          -1.5,
          null,
          4.5,
          -2.5,
          null,
          -2.5,
          -5.5,
          null,
          -6.5,
          -1.5,
          null,
          2.5,
          -3.5,
          null,
          2.5,
          -2.5,
          null,
          -3.5,
          0.5,
          null,
          -1.5,
          0.5,
          null,
          -2.5,
          0.5,
          null,
          0.5,
          0.5,
          null,
          -5.5,
          1.5,
          null,
          1.5,
          0.5,
          null,
          0.5,
          0,
          null
         ],
         "y": [
          5,
          1,
          null,
          5,
          6,
          null,
          7,
          1,
          null,
          7,
          8,
          null,
          7,
          9,
          null,
          5,
          1,
          null,
          5,
          8,
          null,
          5,
          6,
          null,
          5,
          6,
          null,
          6,
          1,
          null,
          6,
          7,
          null,
          6,
          8,
          null,
          4,
          1,
          null,
          4,
          5,
          null,
          7,
          1,
          null,
          7,
          8,
          null,
          7,
          9,
          null,
          7,
          1,
          null,
          7,
          8,
          null,
          4,
          1,
          null,
          4,
          5,
          null,
          4,
          7,
          null,
          4,
          1,
          null,
          4,
          5,
          null,
          7,
          1,
          null,
          7,
          8,
          null,
          4,
          1,
          null,
          4,
          5,
          null,
          7,
          1,
          null,
          7,
          8,
          null,
          7,
          1,
          null,
          7,
          8,
          null,
          7,
          8,
          null,
          6,
          1,
          null,
          6,
          7,
          null,
          8,
          1,
          null,
          8,
          9,
          null,
          8,
          9,
          null,
          5,
          1,
          null,
          5,
          6,
          null,
          5,
          6,
          null,
          4,
          1,
          null,
          4,
          5,
          null,
          6,
          1,
          null,
          6,
          7,
          null,
          6,
          7,
          null,
          6,
          1,
          null,
          6,
          7,
          null,
          7,
          1,
          null,
          7,
          8,
          null,
          5,
          1,
          null,
          5,
          6,
          null,
          5,
          7,
          null,
          4,
          1,
          null,
          4,
          5,
          null,
          4,
          1,
          null,
          4,
          5,
          null,
          4,
          7,
          null,
          5,
          1,
          null,
          5,
          6,
          null,
          5,
          6,
          null,
          2,
          1,
          null,
          2,
          3,
          null,
          6,
          1,
          null,
          6,
          7,
          null,
          6,
          7,
          null,
          4,
          1,
          null,
          4,
          5,
          null,
          7,
          1,
          null,
          7,
          8,
          null,
          7,
          8,
          null,
          4,
          1,
          null,
          4,
          5,
          null,
          5,
          1,
          null,
          5,
          7,
          null,
          5,
          6,
          null,
          5,
          6,
          null,
          5,
          1,
          null,
          5,
          6,
          null,
          3,
          1,
          null,
          3,
          4,
          null,
          3,
          1,
          null,
          3,
          4,
          null,
          8,
          9,
          null,
          5,
          1,
          null,
          5,
          6,
          null,
          5,
          8,
          null,
          5,
          7,
          null,
          5,
          1,
          null,
          5,
          6,
          null,
          5,
          1,
          null,
          5,
          6,
          null,
          2,
          1,
          null,
          2,
          3,
          null,
          4,
          1,
          null,
          4,
          5,
          null,
          5,
          6,
          null,
          5,
          6,
          null,
          8,
          9,
          null,
          3,
          1,
          null,
          3,
          4,
          null,
          5,
          1,
          null,
          5,
          6,
          null,
          5,
          1,
          null,
          5,
          6,
          null,
          5,
          7,
          null,
          5,
          1,
          null,
          5,
          6,
          null,
          5,
          7,
          null,
          5,
          6,
          null,
          5,
          1,
          null,
          5,
          6,
          null,
          6,
          7,
          null,
          5,
          1,
          null,
          5,
          6,
          null,
          5,
          1,
          null,
          5,
          6,
          null,
          6,
          7,
          null,
          6,
          7,
          null,
          3,
          4,
          null,
          4,
          5,
          null,
          5,
          1,
          null,
          5,
          6,
          null,
          5,
          7,
          null,
          6,
          7,
          null,
          6,
          7,
          null,
          6,
          7,
          null,
          6,
          7,
          null,
          5,
          6,
          null,
          9,
          10,
          null,
          4,
          5,
          null,
          5,
          6,
          null,
          6,
          7,
          null,
          5,
          1,
          null,
          5,
          6,
          null,
          5,
          7,
          null,
          5,
          1,
          null,
          5,
          6,
          null,
          7,
          8,
          null,
          7,
          8,
          null,
          5,
          6,
          null,
          6,
          7,
          null,
          5,
          1,
          null,
          5,
          6,
          null,
          5,
          7,
          null,
          7,
          8,
          null,
          6,
          7,
          null,
          6,
          7,
          null,
          7,
          8,
          null,
          6,
          7,
          null,
          6,
          7,
          null,
          7,
          8,
          null,
          8,
          9,
          null,
          7,
          8,
          null,
          8,
          9,
          null,
          7,
          8,
          null,
          8,
          9,
          null,
          9,
          10,
          null
         ]
        },
        {
         "hoverinfo": "text",
         "hovertext": [
          "Concept 77<br><br>extent (len: 1): 1109<br>intent (len: 27): age>=46, age>=41, contact!=unknown, month!=jun, month!=feb,...<br>new extent (len: 1): 1109<br>new_intent (len: 12): education!=tertiary, campaign__leq__4, age>=46, month!=feb, marital=married,...<br>metric strongness = 1.0<br>metric stab_min_bound = 0.5<br>metric stab_max_bound = 0.5<br>metric log_stab_min_bound = 1.0<br>metric log_stab_max_bound = 1.0<br>metric lstab_min_bound = -38.0<br>metric n_uncovered = 0<br>",
          "Concept 72<br><br>extent (len: 1): 129<br>intent (len: 26): age>=46, marital!=married, age>=41, contact!=unknown, month!=jun,...<br>new extent (len: 1): 129<br>new_intent (len: 6): age>=46, education=tertiary, age>=55, education!=secondary, month!=nov,...<br>metric strongness = 1.0<br>metric stab_min_bound = 0.5<br>metric stab_max_bound = 0.5<br>metric log_stab_min_bound = 1.0<br>metric log_stab_max_bound = 1.0<br>metric lstab_min_bound = -38.0<br>metric n_uncovered = 0<br>",
          "Concept 75<br><br>extent (len: 1): 2421<br>intent (len: 26): marital!=married, age>=41, contact!=unknown, month!=jun, month!=feb,...<br>new extent (len: 1): 2421<br>new_intent (len: 4): age__leq__56, education=tertiary, education!=secondary, campaign>=2<br>metric strongness = 1.0<br>metric stab_min_bound = 0.5<br>metric stab_max_bound = 0.5<br>metric log_stab_min_bound = 1.0<br>metric log_stab_max_bound = 1.0<br>metric lstab_min_bound = -38.0<br>metric n_uncovered = 0<br>",
          "Concept 82<br><br>extent (len: 1): 2665<br>intent (len: 28): age__leq__35, marital!=married, contact!=unknown, pdays__leq__185.0, month!=jun,...<br>new extent (len: 1): 2665<br>new_intent (len: 21): age__leq__35, marital!=married, month!=jun, month!=feb, balance>=1026,...<br>metric strongness = 1.0<br>metric stab_min_bound = 0.5<br>metric stab_max_bound = 0.5<br>metric log_stab_min_bound = 1.0<br>metric log_stab_max_bound = 1.0<br>metric lstab_min_bound = -38.0<br>metric n_uncovered = 0<br>",
          "Concept 67<br><br>extent (len: 1): 2773<br>intent (len: 24): age__leq__35, marital!=married, contact!=unknown, month!=jun, month!=feb,...<br>new extent (len: 1): 2773<br>new_intent (len: 4): age__leq__56, education=tertiary, age__leq__35, marital!=married<br>metric strongness = 1.0<br>metric stab_min_bound = 0.5<br>metric stab_max_bound = 0.5<br>metric log_stab_min_bound = 1.0<br>metric log_stab_max_bound = 1.0<br>metric lstab_min_bound = -38.0<br>metric n_uncovered = 0<br>",
          "Concept 70<br><br>extent (len: 1): 2780<br>intent (len: 25): age__leq__35, marital!=married, contact!=unknown, month!=jun, month!=feb,...<br>new extent (len: 1): 2780<br>new_intent (len: 4): age__leq__56, balance__leq__302, age__leq__35, month!=oct<br>metric strongness = 1.0<br>metric stab_min_bound = 0.5<br>metric stab_max_bound = 0.5<br>metric log_stab_min_bound = 1.0<br>metric log_stab_max_bound = 1.0<br>metric lstab_min_bound = -38.0<br>metric n_uncovered = 0<br>",
          "Concept 69<br><br>extent (len: 1): 3248<br>intent (len: 25): age>=46, marital!=married, age>=41, month!=jun, month!=feb,...<br>new extent (len: 1): 3248<br>new_intent (len: 6): education!=tertiary, age>=46, age>=55, balance__leq__3940, month!=oct,...<br>metric strongness = 1.0<br>metric stab_min_bound = 0.5<br>metric stab_max_bound = 0.5<br>metric log_stab_min_bound = 1.0<br>metric log_stab_max_bound = 1.0<br>metric lstab_min_bound = -38.0<br>metric n_uncovered = 1<br>",
          "Concept 80<br><br>extent (len: 1): 3311<br>intent (len: 28): age>=46, age>=41, contact!=unknown, month!=jun, month!=feb,...<br>new extent (len: 1): 3311<br>new_intent (len: 7): education!=tertiary, age>=46, housing__leq__0, marital=married, age>=55,...<br>metric strongness = 1.0<br>metric stab_min_bound = 0.5<br>metric stab_max_bound = 0.5<br>metric log_stab_min_bound = 1.0<br>metric log_stab_max_bound = 1.0<br>metric lstab_min_bound = -38.0<br>metric n_uncovered = 0<br>",
          "Concept 78<br><br>extent (len: 1): 3558<br>intent (len: 27): age>=46, marital!=married, age>=41, contact!=unknown, month!=jun,...<br>new extent (len: 1): 3558<br>new_intent (len: 6): education=tertiary, housing__leq__0, month!=jan, month!=sep, marital!=married,...<br>metric strongness = 1.0<br>metric stab_min_bound = 0.5<br>metric stab_max_bound = 0.5<br>metric log_stab_min_bound = 1.0<br>metric log_stab_max_bound = 1.0<br>metric lstab_min_bound = -38.0<br>metric n_uncovered = 0<br>",
          "Concept 74<br><br>extent (len: 1): 3932<br>intent (len: 26): age__leq__35, contact!=unknown, month!=jun, month!=feb, month!=sep,...<br>new extent (len: 1): 3932<br>new_intent (len: 23): age__leq__35, month!=jun, month!=feb, month!=sep, job!=blue-collar,...<br>metric strongness = 1.0<br>metric stab_min_bound = 0.5<br>metric stab_max_bound = 0.5<br>metric log_stab_min_bound = 1.0<br>metric log_stab_max_bound = 1.0<br>metric lstab_min_bound = -38.0<br>metric n_uncovered = 0<br>",
          "Concept 81<br><br>extent (len: 1): 412<br>intent (len: 28): age>=46, marital!=married, age>=41, contact!=unknown, pdays__leq__185.0,...<br>new extent (len: 1): 412<br>new_intent (len: 11): month!=aug, age>=46, education=tertiary, month!=jul, balance>=1026,...<br>metric strongness = 1.0<br>metric stab_min_bound = 0.5<br>metric stab_max_bound = 0.5<br>metric log_stab_min_bound = 1.0<br>metric log_stab_max_bound = 1.0<br>metric lstab_min_bound = -38.0<br>metric n_uncovered = 0<br>",
          "Concept 68<br><br>extent (len: 1): 4213<br>intent (len: 24): age__leq__35, marital!=married, contact!=unknown, month!=jun, month!=feb,...<br>new extent (len: 1): 4213<br>new_intent (len: 21): age__leq__35, marital!=married, month!=jun, month!=feb, month!=sep,...<br>metric strongness = 1.0<br>metric stab_min_bound = 0.5<br>metric stab_max_bound = 0.5<br>metric log_stab_min_bound = 1.0<br>metric log_stab_max_bound = 1.0<br>metric lstab_min_bound = -38.0<br>metric n_uncovered = 0<br>",
          "Concept 76<br><br>extent (len: 1): 4232<br>intent (len: 26): marital!=married, contact!=unknown, month!=jun, month!=feb, month!=sep,...<br>new extent (len: 1): 4232<br>new_intent (len: 21): marital!=married, month!=jun, month!=feb, month!=sep, loan__leq__0,...<br>metric strongness = 1.0<br>metric stab_min_bound = 0.5<br>metric stab_max_bound = 0.5<br>metric log_stab_min_bound = 1.0<br>metric log_stab_max_bound = 1.0<br>metric lstab_min_bound = -38.0<br>metric n_uncovered = 0<br>",
          "Concept 71<br><br>extent (len: 1): 4433<br>intent (len: 25): contact!=unknown, month!=jun, month!=feb, month!=sep, job!=blue-collar,...<br>new extent (len: 1): 4433<br>new_intent (len: 12): job!=admin., month!=jun, pdays>=181.0, education=tertiary, month!=sep,...<br>metric strongness = 1.0<br>metric stab_min_bound = 0.5<br>metric stab_max_bound = 0.5<br>metric log_stab_min_bound = 1.0<br>metric log_stab_max_bound = 1.0<br>metric lstab_min_bound = -38.0<br>metric n_uncovered = 0<br>",
          "Concept 79<br><br>extent (len: 1): 503<br>intent (len: 27): age__leq__35, marital!=married, contact!=unknown, month!=jun, month!=feb,...<br>new extent (len: 1): 503<br>new_intent (len: 11): education!=tertiary, age__leq__35, balance__leq__262, balance__leq__3940, education!=secondary,...<br>metric strongness = 1.0<br>metric stab_min_bound = 0.5<br>metric stab_max_bound = 0.5<br>metric log_stab_min_bound = 1.0<br>metric log_stab_max_bound = 1.0<br>metric lstab_min_bound = -38.0<br>metric n_uncovered = 0<br>",
          "Concept 73<br><br>extent (len: 1): 504<br>intent (len: 26): age>=41, contact!=unknown, month!=jun, month!=feb, balance>=1026,...<br>new extent (len: 1): 504<br>new_intent (len: 3): age__leq__56, education=tertiary, marital=married<br>metric strongness = 1.0<br>metric stab_min_bound = 0.5<br>metric stab_max_bound = 0.5<br>metric log_stab_min_bound = 1.0<br>metric log_stab_max_bound = 1.0<br>metric lstab_min_bound = -38.0<br>metric n_uncovered = 0<br>",
          "Concept 44<br><br>extent (len: 4): 1467, 3743, 2821, 2685<br>intent (len: 20): marital!=married, age>=41, contact!=unknown, month!=jun, month!=feb,...<br>new extent (len: 4): 1467, 3743, 2821, 2685<br>new_intent (len: 4): age__leq__56, balance__leq__302, balance__leq__262, month!=jun<br>metric strongness = 1.0<br>metric stab_min_bound = 0.9375<br>metric stab_max_bound = 0.9375<br>metric log_stab_min_bound = 4.0<br>metric log_stab_max_bound = 4.0<br>metric lstab_min_bound = -35.0<br>metric n_uncovered = 0<br>",
          "Concept 63<br><br>extent (len: 4): 3751, 1124, 1736, 1695<br>intent (len: 22): contact!=unknown, month!=jun, month!=feb, month!=sep, loan__leq__0,...<br>new extent (len: 4): 3751, 1124, 1736, 1695<br>new_intent (len: 15): education!=tertiary, campaign__leq__4, month!=jun, month!=jul, month!=feb,...<br>metric strongness = 1.0<br>metric stab_min_bound = 0.9375<br>metric stab_max_bound = 0.9375<br>metric log_stab_min_bound = 4.0<br>metric log_stab_max_bound = 4.0<br>metric lstab_min_bound = -35.0<br>metric n_uncovered = 0<br>",
          "Concept 45<br><br>extent (len: 4): 1467, 975, 189, 684<br>intent (len: 20): contact!=unknown, month!=feb, month!=sep, loan__leq__0, age__leq__56,...<br>new extent (len: 4): 1467, 975, 189, 684<br>new_intent (len: 6): education!=tertiary, balance__leq__262, campaign>=2, month!=oct, age__leq__56,...<br>metric strongness = 1.0<br>metric stab_min_bound = 0.9375<br>metric stab_max_bound = 0.9375<br>metric log_stab_min_bound = 4.0<br>metric log_stab_max_bound = 4.0<br>metric lstab_min_bound = -35.0<br>metric n_uncovered = 0<br>",
          "Concept 53<br><br>extent (len: 4): 1928, 1672, 4108, 36<br>intent (len: 21): marital!=married, contact!=unknown, month!=jun, month!=feb, month!=sep,...<br>new extent (len: 4): 1928, 4108, 1672, 36<br>new_intent (len: 2): education!=secondary, month!=jul<br>metric strongness = 1.0<br>metric stab_min_bound = 0.9375<br>metric stab_max_bound = 0.9375<br>metric log_stab_min_bound = 4.0<br>metric log_stab_max_bound = 4.0<br>metric lstab_min_bound = -35.0<br>metric n_uncovered = 0<br>",
          "Concept 59<br><br>extent (len: 4): 3013, 3789, 3250, 1905<br>intent (len: 22): age>=46, age>=41, contact!=unknown, month!=jun, month!=feb,...<br>new extent (len: 4): 3013, 1905, 3789, 3250<br>new_intent (len: 4): age__leq__56, age>=46, marital=married, education=tertiary<br>metric strongness = 1.0<br>metric stab_min_bound = 0.9375<br>metric stab_max_bound = 0.9375<br>metric log_stab_min_bound = 4.0<br>metric log_stab_max_bound = 4.0<br>metric lstab_min_bound = -35.0<br>metric n_uncovered = 0<br>",
          "Concept 60<br><br>extent (len: 4): 880, 3317, 1754, 3684<br>intent (len: 22): age__leq__35, marital!=married, contact!=unknown, pdays__leq__185.0, month!=jun,...<br>new extent (len: 4): 880, 3317, 1754, 3684<br>new_intent (len: 7): month!=jun, month!=jul, age__leq__35, balance__leq__3940, marital!=married,...<br>metric strongness = 1.0<br>metric stab_min_bound = 0.9375<br>metric stab_max_bound = 0.9375<br>metric log_stab_min_bound = 4.0<br>metric log_stab_max_bound = 4.0<br>metric lstab_min_bound = -35.0<br>metric n_uncovered = 0<br>",
          "Concept 50<br><br>extent (len: 5): 4388, 4364, 1415, 849, 1467<br>intent (len: 21): age>=46, marital!=married, age>=41, contact!=unknown, month!=feb,...<br>new extent (len: 5): 4388, 4364, 1415, 849, 1467<br>new_intent (len: 3): age>=46, month!=oct, housing__leq__0<br>metric strongness = 1.0<br>metric stab_min_bound = 0.96875<br>metric stab_max_bound = 0.96875<br>metric log_stab_min_bound = 5.0<br>metric log_stab_max_bound = 5.0<br>metric lstab_min_bound = -34.0<br>metric n_uncovered = 0<br>",
          "Concept 48<br><br>extent (len: 5): 3202, 1672, 2583, 1230, 2014<br>intent (len: 21): age>=46, age>=41, contact!=unknown, month!=jun, month!=feb,...<br>new extent (len: 5): 3202, 1672, 2583, 1230, 2014<br>new_intent (len: 1): campaign>=2<br>metric strongness = 1.0<br>metric stab_min_bound = 0.96875<br>metric stab_max_bound = 0.96875<br>metric log_stab_min_bound = 5.0<br>metric log_stab_max_bound = 5.0<br>metric lstab_min_bound = -34.0<br>metric n_uncovered = 0<br>",
          "Concept 52<br><br>extent (len: 5): 1056, 328, 970, 2988, 3930<br>intent (len: 21): contact!=unknown, month!=jun, month!=feb, month!=sep, loan__leq__0,...<br>new extent (len: 5): 1056, 328, 970, 2988, 3930<br>new_intent (len: 2): month!=jul, job!=blue-collar<br>metric strongness = 1.0<br>metric stab_min_bound = 0.96875<br>metric stab_max_bound = 0.96875<br>metric log_stab_min_bound = 5.0<br>metric log_stab_max_bound = 5.0<br>metric lstab_min_bound = -34.0<br>metric n_uncovered = 0<br>",
          "Concept 66<br><br>extent (len: 5): 1181, 477, 4215, 1048, 347<br>intent (len: 23): contact!=unknown, pdays__leq__185.0, month!=jun, month!=feb, balance>=1026,...<br>new extent (len: 5): 1181, 477, 4215, 1048, 347<br>new_intent (len: 8): month!=jun, job!=admin., housing__leq__0, balance>=1026, loan__leq__0,...<br>metric strongness = 1.0<br>metric stab_min_bound = 0.96875<br>metric stab_max_bound = 0.96875<br>metric log_stab_min_bound = 5.0<br>metric log_stab_max_bound = 5.0<br>metric lstab_min_bound = -34.0<br>metric n_uncovered = 0<br>",
          "Concept 43<br><br>extent (len: 5): 3088, 2696, 4093, 110, 3658<br>intent (len: 20): marital!=married, contact!=unknown, pdays__leq__185.0, month!=feb, balance>=1026,...<br>new extent (len: 5): 3088, 2696, 4093, 110, 3658<br>new_intent (len: 5): balance>=1026, balance>=100, balance>=229, month!=oct, poutcome!=failure<br>metric strongness = 1.0<br>metric stab_min_bound = 0.96875<br>metric stab_max_bound = 0.96875<br>metric log_stab_min_bound = 5.0<br>metric log_stab_max_bound = 5.0<br>metric lstab_min_bound = -34.0<br>metric n_uncovered = 0<br>",
          "Concept 61<br><br>extent (len: 5): 3176, 1181, 1374, 880, 1048<br>intent (len: 22): contact!=unknown, pdays__leq__185.0, month!=jun, month!=feb, month!=sep,...<br>new extent (len: 5): 3176, 1181, 1374, 880, 1048<br>new_intent (len: 17): month!=aug, campaign__leq__4, month!=jun, education!=tertiary, month!=jul,...<br>metric strongness = 1.0<br>metric stab_min_bound = 0.96875<br>metric stab_max_bound = 0.96875<br>metric log_stab_min_bound = 5.0<br>metric log_stab_max_bound = 5.0<br>metric lstab_min_bound = -34.0<br>metric n_uncovered = 0<br>",
          "Concept 65<br><br>extent (len: 5): 3202, 2962, 3978, 2049, 347<br>intent (len: 23): age>=46, age>=41, contact!=unknown, month!=jun, month!=feb,...<br>new extent (len: 5): 3202, 2962, 3978, 2049, 347<br>new_intent (len: 2): marital=married, month!=feb<br>metric strongness = 1.0<br>metric stab_min_bound = 0.96875<br>metric stab_max_bound = 0.96875<br>metric log_stab_min_bound = 5.0<br>metric log_stab_max_bound = 5.0<br>metric lstab_min_bound = -34.0<br>metric n_uncovered = 0<br>",
          "Concept 62<br><br>extent (len: 5): 1469, 4009, 684, 1437, 1124<br>intent (len: 22): contact!=unknown, pdays__leq__185.0, month!=feb, month!=sep, loan__leq__0,...<br>new extent (len: 5): 1469, 4009, 684, 1437, 1124<br>new_intent (len: 4): balance__leq__302, balance__leq__262, housing__leq__0, job!=blue-collar<br>metric strongness = 1.0<br>metric stab_min_bound = 0.96875<br>metric stab_max_bound = 0.96875<br>metric log_stab_min_bound = 5.0<br>metric log_stab_max_bound = 5.0<br>metric lstab_min_bound = -34.0<br>metric n_uncovered = 0<br>",
          "Concept 58<br><br>extent (len: 5): 3202, 1056, 4160, 3301, 2122<br>intent (len: 22): age>=46, age>=41, contact!=unknown, month!=jun, month!=feb,...<br>new extent (len: 5): 3202, 1056, 4160, 3301, 2122<br>new_intent (len: 7): age>=46, month!=jul, marital=married, job!=blue-collar, month!=nov,...<br>metric strongness = 1.0<br>metric stab_min_bound = 0.96875<br>metric stab_max_bound = 0.96875<br>metric log_stab_min_bound = 5.0<br>metric log_stab_max_bound = 5.0<br>metric lstab_min_bound = -34.0<br>metric n_uncovered = 0<br>",
          "Concept 54<br><br>extent (len: 5): 684, 3297, 164, 110, 3658<br>intent (len: 21): age__leq__35, marital!=married, contact!=unknown, pdays__leq__185.0, month!=feb,...<br>new extent (len: 5): 684, 3297, 164, 110, 3658<br>new_intent (len: 4): age__leq__56, housing__leq__0, age__leq__35, campaign>=2<br>metric strongness = 1.0<br>metric stab_min_bound = 0.96875<br>metric stab_max_bound = 0.96875<br>metric log_stab_min_bound = 5.0<br>metric log_stab_max_bound = 5.0<br>metric lstab_min_bound = -34.0<br>metric n_uncovered = 0<br>",
          "Concept 51<br><br>extent (len: 5): 2431, 3064, 83, 2486, 3930<br>intent (len: 21): age>=41, contact!=unknown, month!=jun, month!=feb, month!=sep,...<br>new extent (len: 5): 2431, 3064, 83, 2486, 3930<br>new_intent (len: 3): age__leq__56, age>=41, job!=blue-collar<br>metric strongness = 1.0<br>metric stab_min_bound = 0.96875<br>metric stab_max_bound = 0.96875<br>metric log_stab_min_bound = 5.0<br>metric log_stab_max_bound = 5.0<br>metric lstab_min_bound = -34.0<br>metric n_uncovered = 0<br>",
          "Concept 38<br><br>extent (len: 5): 3248, 2421, 1672, 129, 2014<br>intent (len: 19): marital!=married, age>=41, month!=jun, month!=feb, balance>=1026,...<br>new extent (len: 2): 2014, 1672<br>new_intent (len: 4): age>=41, balance>=229, balance>=1026, month!=jul<br>metric strongness = 0.5<br>metric stab_min_bound = 0.8125<br>metric stab_max_bound = 0.9375<br>metric log_stab_min_bound = 2.415037499278844<br>metric log_stab_max_bound = 4.0<br>metric lstab_min_bound = -35.0<br>metric n_uncovered = 0<br>",
          "Concept 57<br><br>extent (len: 6): 3586, 464, 2188, 4215, 1048,...<br>intent (len: 21): contact!=unknown, pdays__leq__185.0, month!=jun, month!=feb, loan__leq__0,...<br>new extent (len: 6): 3586, 464, 2188, 4215, 1048,...<br>new_intent (len: 3): age__leq__56, campaign__leq__4, balance__leq__3940<br>metric strongness = 1.0<br>metric stab_min_bound = 0.984375<br>metric stab_max_bound = 0.984375<br>metric log_stab_min_bound = 6.0<br>metric log_stab_max_bound = 6.0<br>metric lstab_min_bound = -33.0<br>metric n_uncovered = 0<br>",
          "Concept 56<br><br>extent (len: 6): 3005, 1181, 4160, 2122, 1342,...<br>intent (len: 21): contact!=unknown, month!=jun, month!=feb, month!=sep, balance>=229,...<br>new extent (len: 6): 3005, 1181, 4160, 2122, 1342,...<br>new_intent (len: 4): month!=sep, month!=apr, month!=jun, pdays>=181.0<br>metric strongness = 1.0<br>metric stab_min_bound = 0.984375<br>metric stab_max_bound = 0.984375<br>metric log_stab_min_bound = 6.0<br>metric log_stab_max_bound = 6.0<br>metric lstab_min_bound = -33.0<br>metric n_uncovered = 0<br>",
          "Concept 47<br><br>extent (len: 6): 3088, 4093, 70, 4159, 3256,...<br>intent (len: 20): contact!=unknown, pdays__leq__185.0, month!=jun, month!=feb, month!=sep,...<br>new extent (len: 6): 3088, 4093, 70, 4159, 3256,...<br>new_intent (len: 10): month!=jun, housing__leq__0, month!=feb, month!=sep, month!=jan,...<br>metric strongness = 1.0<br>metric stab_min_bound = 0.984375<br>metric stab_max_bound = 0.984375<br>metric log_stab_min_bound = 6.0<br>metric log_stab_max_bound = 6.0<br>metric lstab_min_bound = -33.0<br>metric n_uncovered = 0<br>",
          "Concept 55<br><br>extent (len: 7): 2431, 1653, 3239, 2444, 83,...<br>intent (len: 21): contact!=unknown, month!=jun, month!=feb, month!=sep, loan__leq__0,...<br>new extent (len: 7): 2431, 3239, 1653, 2444, 83,...<br>new_intent (len: 2): age__leq__56, marital=married<br>metric strongness = 1.0<br>metric stab_min_bound = 0.9921875<br>metric stab_max_bound = 0.9921875<br>metric log_stab_min_bound = 7.0<br>metric log_stab_max_bound = 7.0<br>metric lstab_min_bound = -32.0<br>metric n_uncovered = 0<br>",
          "Concept 46<br><br>extent (len: 7): 1349, 1469, 1653, 1083, 3270,...<br>intent (len: 20): contact!=unknown, pdays__leq__185.0, month!=feb, month!=sep, loan__leq__0,...<br>new extent (len: 7): 1349, 1469, 1653, 1083, 3270,...<br>new_intent (len: 5): education!=tertiary, job!=admin., marital=married, month!=sep, month!=apr<br>metric strongness = 1.0<br>metric stab_min_bound = 0.9921875<br>metric stab_max_bound = 0.9921875<br>metric log_stab_min_bound = 7.0<br>metric log_stab_max_bound = 7.0<br>metric lstab_min_bound = -32.0<br>metric n_uncovered = 0<br>",
          "Concept 42<br><br>extent (len: 7): 4229, 1437, 36, 3311, 1124,...<br>intent (len: 20): contact!=unknown, month!=jun, month!=feb, month!=sep, loan__leq__0,...<br>new extent (len: 5): 4229, 1437, 36, 1124, 3789<br>new_intent (len: 3): balance__leq__302, balance__leq__262, month!=mar<br>metric strongness = 0.7<br>metric stab_min_bound = 0.96875<br>metric stab_max_bound = 0.984375<br>metric log_stab_min_bound = 5.0<br>metric log_stab_max_bound = 6.0<br>metric lstab_min_bound = -33.0<br>metric n_uncovered = 0<br>",
          "Concept 49<br><br>extent (len: 7): 3202, 2962, 3558, 3978, 2049,...<br>intent (len: 21): age>=46, age>=41, contact!=unknown, month!=jun, balance>=1026,...<br>new extent (len: 1): 984<br>new_intent (len: 4): campaign__leq__4, month!=oct, age>=55, education!=secondary<br>metric strongness = 0.6363636363636364<br>metric stab_min_bound = 0.734375<br>metric stab_max_bound = 0.75<br>metric log_stab_min_bound = 1.9125371587496607<br>metric log_stab_max_bound = 2.0<br>metric lstab_min_bound = -37.0<br>metric n_uncovered = 0<br>",
          "Concept 35<br><br>extent (len: 7): 3088, 2213, 4108, 1672, 1928,...<br>intent (len: 19): marital!=married, contact!=unknown, month!=jun, month!=feb, month!=sep,...<br>new extent (len: 2): 3088, 2213<br>new_intent (len: 18): month!=aug, campaign__leq__4, education!=tertiary, month!=jun, job!=admin.,...<br>metric strongness = 0.23333333333333334<br>metric stab_min_bound = 0.859375<br>metric stab_max_bound = 0.875<br>metric log_stab_min_bound = 2.830074998557688<br>metric log_stab_max_bound = 3.0<br>metric lstab_min_bound = -36.0<br>metric n_uncovered = 0<br>",
          "Concept 36<br><br>extent (len: 8): 3527, 2213, 4229, 4009, 1928,...<br>intent (len: 19): marital!=married, contact!=unknown, pdays__leq__185.0, month!=jun, month!=feb,...<br>new extent (len: 8): 3243, 2213, 4229, 4009, 1928,...<br>new_intent (len: 2): campaign__leq__4, month!=jun<br>metric strongness = 1.0<br>metric stab_min_bound = 0.99609375<br>metric stab_max_bound = 0.99609375<br>metric log_stab_min_bound = 8.0<br>metric log_stab_max_bound = 8.0<br>metric lstab_min_bound = -31.0<br>metric n_uncovered = 0<br>",
          "Concept 31<br><br>extent (len: 8): 1754, 1485, 1374, 984, 2471,...<br>intent (len: 18): month!=aug, month!=jun, job!=admin., month!=jul, housing__leq__0,...<br>new extent (len: 8): 1754, 1374, 1485, 984, 2471,...<br>new_intent (len: 3): balance>=100, pdays__leq__185.0, poutcome!=failure<br>metric strongness = 1.0<br>metric stab_min_bound = 0.99609375<br>metric stab_max_bound = 0.99609375<br>metric log_stab_min_bound = 8.0<br>metric log_stab_max_bound = 8.0<br>metric lstab_min_bound = -31.0<br>metric n_uncovered = 0<br>",
          "Concept 64<br><br>extent (len: 9): 2675, 2917, 941, 1060, 3835,...<br>intent (len: 22): contact!=unknown, pdays__leq__185.0, month!=jun, month!=sep, loan__leq__0,...<br>new extent (len: 9): 2675, 2917, 941, 3835, 2969,...<br>new_intent (len: 11): month!=jun, education=tertiary, month!=jul, month!=sep, month!=jan,...<br>metric strongness = 1.0<br>metric stab_min_bound = 0.998046875<br>metric stab_max_bound = 0.998046875<br>metric log_stab_min_bound = 9.0<br>metric log_stab_max_bound = 9.0<br>metric lstab_min_bound = -30.0<br>metric n_uncovered = 0<br>",
          "Concept 40<br><br>extent (len: 10): 3586, 347, 49, 464, 1653,...<br>intent (len: 19): contact!=unknown, pdays__leq__185.0, month!=jun, month!=feb, loan__leq__0,...<br>new extent (len: 10): 3586, 1653, 464, 1083, 4215,...<br>new_intent (len: 2): marital=married, campaign__leq__4<br>metric strongness = 1.0<br>metric stab_min_bound = 0.9990234375<br>metric stab_max_bound = 0.9990234375<br>metric log_stab_min_bound = 10.0<br>metric log_stab_max_bound = 10.0<br>metric lstab_min_bound = -29.0<br>metric n_uncovered = 0<br>",
          "Concept 21<br><br>extent (len: 10): 4388, 2821, 4364, 1672, 2685,...<br>intent (len: 16): month!=aug, campaign__leq__4, education!=tertiary, month!=jul, month!=feb,...<br>new extent (len: 2): 1672, 36<br>new_intent (len: 2): education!=tertiary, balance__leq__3940<br>metric strongness = 0.6666666666666666<br>metric stab_min_bound = 0.953125<br>metric stab_max_bound = 0.96875<br>metric log_stab_min_bound = 4.415037499278844<br>metric log_stab_max_bound = 5.0<br>metric lstab_min_bound = -34.0<br>metric n_uncovered = 0<br>",
          "Concept 30<br><br>extent (len: 11): 492, 1952, 3088, 3586, 1653,...<br>intent (len: 17): month!=aug, month!=jun, education!=tertiary, age__leq__56, month!=feb,...<br>new extent (len: 11): 1952, 3586, 492, 3088, 1653,...<br>new_intent (len: 2): age__leq__56, month!=jan<br>metric strongness = 1.0<br>metric stab_min_bound = 0.99951171875<br>metric stab_max_bound = 0.99951171875<br>metric log_stab_min_bound = 11.0<br>metric log_stab_max_bound = 11.0<br>metric lstab_min_bound = -28.0<br>metric n_uncovered = 0<br>",
          "Concept 34<br><br>extent (len: 11): 1303, 3202, 2421, 4160, 1672,...<br>intent (len: 19): age>=41, contact!=unknown, month!=jun, month!=feb, balance>=1026,...<br>new extent (len: 4): 1303, 4160, 3978, 2049<br>new_intent (len: 10): month!=jun, job!=admin., housing__leq__0, month!=feb, balance>=1026,...<br>metric strongness = 0.55<br>metric stab_min_bound = 0.982421875<br>metric stab_max_bound = 0.984375<br>metric log_stab_min_bound = 5.830074998557688<br>metric log_stab_max_bound = 6.0<br>metric lstab_min_bound = -33.0<br>metric n_uncovered = 0<br>",
          "Concept 41<br><br>extent (len: 12): 3695, 289, 2675, 619, 1754,...<br>intent (len: 19): contact!=unknown, pdays__leq__185.0, month!=jun, month!=feb, month!=sep,...<br>new extent (len: 12): 3695, 289, 2675, 619, 1754,...<br>new_intent (len: 10): campaign__leq__4, month!=jun, education=tertiary, month!=jul, month!=sep,...<br>metric strongness = 1.0<br>metric stab_min_bound = 0.999755859375<br>metric stab_max_bound = 0.999755859375<br>metric log_stab_min_bound = 12.0<br>metric log_stab_max_bound = 12.0<br>metric lstab_min_bound = -27.0<br>metric n_uncovered = 0<br>",
          "Concept 39<br><br>extent (len: 12): 2992, 4224, 3589, 2372, 2847,...<br>intent (len: 19): contact!=unknown, pdays__leq__185.0, month!=jun, month!=feb, month!=sep,...<br>new extent (len: 12): 2992, 4224, 1905, 2372, 2847,...<br>new_intent (len: 9): month!=aug, month!=jun, month!=jul, month!=feb, month!=sep,...<br>metric strongness = 1.0<br>metric stab_min_bound = 0.999755859375<br>metric stab_max_bound = 0.999755859375<br>metric log_stab_min_bound = 12.0<br>metric log_stab_max_bound = 12.0<br>metric lstab_min_bound = -27.0<br>metric n_uncovered = 0<br>",
          "Concept 16<br><br>extent (len: 12): 2449, 3835, 1754, 1374, 1485,...<br>intent (len: 15): month!=aug, month!=jun, job!=admin., month!=jul, housing__leq__0,...<br>new extent (len: 3): 328, 3835, 2449<br>new_intent (len: 10): month!=aug, month!=jun, job!=admin., month!=jul, housing__leq__0,...<br>metric strongness = 0.4444444444444444<br>metric stab_min_bound = 0.93701171875<br>metric stab_max_bound = 0.9375<br>metric log_stab_min_bound = 3.988772744576746<br>metric log_stab_max_bound = 4.0<br>metric lstab_min_bound = -35.0<br>metric n_uncovered = 0<br>",
          "Concept 25<br><br>extent (len: 12): 3202, 2962, 3558, 4160, 1672,...<br>intent (len: 17): month!=aug, age>=46, month!=jun, job!=admin., month!=jul,...<br>new extent (len: 1): 4160<br>new_intent (len: 8): month!=jun, job!=admin., age>=46, balance>=1026, loan__leq__0,...<br>metric strongness = 0.3157894736842105<br>metric stab_min_bound = 0.9609375<br>metric stab_max_bound = 0.96875<br>metric log_stab_min_bound = 4.678071905112637<br>metric log_stab_max_bound = 5.0<br>metric lstab_min_bound = -34.0<br>metric n_uncovered = 0<br>",
          "Concept 37<br><br>extent (len: 13): 3088, 3930, 2431, 1056, 1653,...<br>intent (len: 19): contact!=unknown, month!=jun, month!=feb, month!=sep, loan__leq__0,...<br>new extent (len: 2): 3088, 1083<br>new_intent (len: 1): education!=tertiary<br>metric strongness = 0.9285714285714286<br>metric stab_min_bound = 0.98046875<br>metric stab_max_bound = 0.984375<br>metric log_stab_min_bound = 5.678071905112637<br>metric log_stab_max_bound = 6.0<br>metric lstab_min_bound = -33.0<br>metric n_uncovered = 0<br>",
          "Concept 28<br><br>extent (len: 13): 3527, 2213, 4229, 4009, 684,...<br>intent (len: 17): month!=aug, job!=admin., month!=jul, month!=feb, month!=jan,...<br>new extent (len: 1): 849<br>new_intent (len: 2): month!=jul, balance__leq__3940<br>metric strongness = 0.7647058823529411<br>metric stab_min_bound = 0.96484375<br>metric stab_max_bound = 0.96875<br>metric log_stab_min_bound = 4.830074998557688<br>metric log_stab_max_bound = 5.0<br>metric lstab_min_bound = -34.0<br>metric n_uncovered = 0<br>",
          "Concept 33<br><br>extent (len: 14): 1469, 199, 3005, 2055, 4160,...<br>intent (len: 18): month!=aug, campaign__leq__4, education!=tertiary, month!=jul, month!=feb,...<br>new extent (len: 14): 1469, 199, 3005, 2055, 4160,...<br>new_intent (len: 0): ∅<br>metric strongness = 1.0<br>metric stab_min_bound = 0.99993896484375<br>metric stab_max_bound = 0.99993896484375<br>metric log_stab_min_bound = 14.0<br>metric log_stab_max_bound = 14.0<br>metric lstab_min_bound = -25.0<br>metric n_uncovered = 0<br>",
          "Concept 13<br><br>extent (len: 14): 4388, 2821, 4364, 4229, 2421,...<br>intent (len: 14): month!=aug, campaign__leq__4, month!=jul, month!=feb, month!=jan,...<br>new extent (len: 3): 2696, 4229, 2014<br>new_intent (len: 5): campaign__leq__4, month!=feb, month!=jan, month!=sep, marital!=married<br>metric strongness = 0.56<br>metric stab_min_bound = 0.9373779296875<br>metric stab_max_bound = 0.9375<br>metric log_stab_min_bound = 3.997184984392946<br>metric log_stab_max_bound = 4.0<br>metric lstab_min_bound = -35.0<br>metric n_uncovered = 0<br>",
          "Concept 29<br><br>extent (len: 16): 1469, 199, 3005, 1181, 2055,...<br>intent (len: 17): month!=aug, campaign__leq__4, education!=tertiary, month!=jul, month!=feb,...<br>new extent (len: 0): ∅<br>new_intent (len: 4): education!=tertiary, balance>=100, balance>=229, balance__leq__3940<br>metric strongness = 0.9411764705882353<br>metric stab_min_bound = 0.7490234375<br>metric stab_max_bound = 0.75<br>metric log_stab_min_bound = 1.994375450806122<br>metric log_stab_max_bound = 2.0<br>metric lstab_min_bound = -37.0<br>metric n_uncovered = 0<br>",
          "Concept 20<br><br>extent (len: 16): 492, 1952, 3088, 3586, 4224,...<br>intent (len: 15): month!=aug, month!=jun, education!=tertiary, month!=feb, balance>=100,...<br>new extent (len: 1): 4224<br>new_intent (len: 8): month!=aug, month!=jun, education!=tertiary, month!=feb, balance>=100,...<br>metric strongness = 0.9411764705882353<br>metric stab_min_bound = 0.9521484375<br>metric stab_max_bound = 0.96875<br>metric log_stab_min_bound = 4.385290155884792<br>metric log_stab_max_bound = 5.0<br>metric lstab_min_bound = -34.0<br>metric n_uncovered = 0<br>",
          "Concept 17<br><br>extent (len: 16): 3527, 3088, 2213, 4229, 4009,...<br>intent (len: 15): month!=aug, job!=admin., month!=feb, month!=jan, month!=sep,...<br>new extent (len: 0): ∅<br>new_intent (len: 5): job!=admin., month!=sep, marital!=married, job!=blue-collar, month!=apr<br>metric strongness = 0.6956521739130435<br>metric stab_min_bound = 0.87451171875<br>metric stab_max_bound = 0.875<br>metric log_stab_min_bound = 2.994375450806122<br>metric log_stab_max_bound = 3.0<br>metric lstab_min_bound = -36.0<br>metric n_uncovered = 0<br>",
          "Concept 19<br><br>extent (len: 16): 3248, 503, 3088, 2421, 4458,...<br>intent (len: 15): month!=aug, campaign__leq__4, month!=jun, job!=admin., month!=feb,...<br>new extent (len: 9): 3088, 4458, 1754, 1166, 4093,...<br>new_intent (len: 15): month!=aug, campaign__leq__4, month!=jun, job!=admin., housing__leq__0,...<br>metric strongness = 0.16326530612244897<br>metric stab_min_bound = 0.99945068359375<br>metric stab_max_bound = 0.99951171875<br>metric log_stab_min_bound = 10.830074998557688<br>metric log_stab_max_bound = 11.0<br>metric lstab_min_bound = -28.0<br>metric n_uncovered = 0<br>",
          "Concept 32<br><br>extent (len: 18): 3088, 3930, 2431, 2449, 3064,...<br>intent (len: 18): campaign__leq__4, pdays>=181.0, month!=jun, job!=admin., month!=feb,...<br>new extent (len: 4): 4093, 3502, 4458, 2449<br>new_intent (len: 1): month!=nov<br>metric strongness = 0.8181818181818182<br>metric stab_min_bound = 0.9686279296875<br>metric stab_max_bound = 0.96875<br>metric log_stab_min_bound = 4.994375450806122<br>metric log_stab_max_bound = 5.0<br>metric lstab_min_bound = -34.0<br>metric n_uncovered = 0<br>",
          "Concept 26<br><br>extent (len: 20): 1653, 4458, 83, 412, 3502,...<br>intent (len: 17): campaign__leq__4, pdays>=181.0, month!=jun, job!=admin., month!=feb,...<br>new extent (len: 1): 3589<br>new_intent (len: 2): month!=jan, balance__leq__3940<br>metric strongness = 0.6060606060606061<br>metric stab_min_bound = 0.7499980926513672<br>metric stab_max_bound = 0.75<br>metric log_stab_min_bound = 1.9999889931523325<br>metric log_stab_max_bound = 2.0<br>metric lstab_min_bound = -37.0<br>metric n_uncovered = 0<br>",
          "Concept 27<br><br>extent (len: 22): 4458, 3502, 1437, 504, 4224,...<br>intent (len: 17): month!=aug, campaign__leq__4, month!=jun, job!=admin., month!=jul,...<br>new extent (len: 11): 4388, 4224, 2449, 1303, 3256,...<br>new_intent (len: 3): month!=jun, education!=secondary, job!=blue-collar<br>metric strongness = 0.4888888888888889<br>metric stab_min_bound = 0.9999651908874512<br>metric stab_max_bound = 0.999969482421875<br>metric log_stab_min_bound = 14.810175441119982<br>metric log_stab_max_bound = 15.0<br>metric lstab_min_bound = -24.0<br>metric n_uncovered = 0<br>",
          "Concept 23<br><br>extent (len: 23): 3370, 4458, 684, 70, 347,...<br>intent (len: 16): month!=aug, age__leq__56, month!=feb, housing__leq__0, month!=jan,...<br>new extent (len: 23): 3370, 4458, 684, 70, 347,...<br>new_intent (len: 4): month!=aug, month!=apr, balance__leq__3940, job!=blue-collar<br>metric strongness = 1.0<br>metric stab_min_bound = 0.9999998807907104<br>metric stab_max_bound = 0.9999998807907104<br>metric log_stab_min_bound = 23.0<br>metric log_stab_max_bound = 23.0<br>metric lstab_min_bound = -16.0<br>metric n_uncovered = 0<br>",
          "Concept 24<br><br>extent (len: 24): 3695, 1653, 4458, 1374, 70,...<br>intent (len: 16): month!=aug, campaign__leq__4, month!=jun, age__leq__56, month!=feb,...<br>new extent (len: 24): 3695, 1653, 4458, 1374, 70,...<br>new_intent (len: 7): month!=aug, campaign__leq__4, month!=jun, loan__leq__0, month!=sep,...<br>metric strongness = 1.0<br>metric stab_min_bound = 0.9999999403953552<br>metric stab_max_bound = 0.9999999403953552<br>metric log_stab_min_bound = 24.0<br>metric log_stab_max_bound = 24.0<br>metric lstab_min_bound = -15.0<br>metric n_uncovered = 0<br>",
          "Concept 12<br><br>extent (len: 25): 3695, 1469, 199, 1181, 2055,...<br>intent (len: 13): month!=aug, campaign__leq__4, month!=jul, month!=feb, marital=married,...<br>new extent (len: 7): 3695, 2449, 3202, 3978, 2049,...<br>new_intent (len: 8): month!=aug, campaign__leq__4, month!=jul, month!=feb, marital=married,...<br>metric strongness = 0.8333333333333334<br>metric stab_min_bound = 0.9980458617210388<br>metric stab_max_bound = 0.998046875<br>metric log_stab_min_bound = 8.99925172558861<br>metric log_stab_max_bound = 9.0<br>metric lstab_min_bound = -30.0<br>metric n_uncovered = 0<br>",
          "Concept 18<br><br>extent (len: 25): 3695, 1469, 199, 3586, 1653,...<br>intent (len: 15): month!=aug, campaign__leq__4, month!=feb, housing__leq__0, month!=jan,...<br>new extent (len: 14): 3695, 199, 3586, 3088, 855,...<br>new_intent (len: 5): campaign__leq__4, housing__leq__0, balance>=100, balance>=229, month!=oct<br>metric strongness = 0.625<br>metric stab_min_bound = 0.9999957084655762<br>metric stab_max_bound = 0.9999961853027344<br>metric log_stab_min_bound = 17.830074998557688<br>metric log_stab_max_bound = 18.0<br>metric lstab_min_bound = -21.0<br>metric n_uncovered = 0<br>",
          "Concept 15<br><br>extent (len: 25): 619, 1653, 4458, 2122, 83,...<br>intent (len: 15): campaign__leq__4, pdays>=181.0, month!=jun, job!=admin., month!=feb,...<br>new extent (len: 1): 619<br>new_intent (len: 10): campaign__leq__4, month!=jun, job!=admin., pdays>=181.0, month!=feb,...<br>metric strongness = 0.46296296296296297<br>metric stab_min_bound = 0.9687490463256836<br>metric stab_max_bound = 0.96875<br>metric log_stab_min_bound = 4.999955973113173<br>metric log_stab_max_bound = 5.0<br>metric lstab_min_bound = -34.0<br>metric n_uncovered = 0<br>",
          "Concept 22<br><br>extent (len: 29): 3586, 3370, 1653, 233, 70,...<br>intent (len: 16): month!=aug, campaign__leq__4, month!=jun, job!=admin., month!=jan,...<br>new extent (len: 29): 3586, 3370, 1653, 233, 70,...<br>new_intent (len: 5): month!=aug, month!=jun, month!=jan, balance__leq__3940, month!=oct<br>metric strongness = 1.0<br>metric stab_min_bound = 0.9999999981373549<br>metric stab_max_bound = 0.9999999981373549<br>metric log_stab_min_bound = 29.0<br>metric log_stab_max_bound = 29.0<br>metric lstab_min_bound = -10.0<br>metric n_uncovered = 0<br>",
          "Concept 14<br><br>extent (len: 34): 1469, 4458, 684, 3331, 3502,...<br>intent (len: 14): month!=aug, campaign__leq__4, job!=admin., month!=jul, month!=feb,...<br>new extent (len: 4): 3297, 328, 1048, 3331<br>new_intent (len: 7): campaign__leq__4, job!=admin., month!=feb, loan__leq__0, month!=sep,...<br>metric strongness = 0.27419354838709675<br>metric stab_min_bound = 0.9997558547183871<br>metric stab_max_bound = 0.999755859375<br>metric log_stab_min_bound = 11.999972483038283<br>metric log_stab_max_bound = 12.0<br>metric lstab_min_bound = -27.0<br>metric n_uncovered = 0<br>",
          "Concept 9<br><br>extent (len: 47): 3695, 289, 3586, 619, 3370,...<br>intent (len: 9): age__leq__56, month!=feb, housing__leq__0, month!=jan, month!=may,...<br>new extent (len: 4): 3751, 3586, 4159, 1695<br>new_intent (len: 5): month!=feb, housing__leq__0, month!=jan, month!=nov, age__leq__56<br>metric strongness = 0.94<br>metric stab_min_bound = 0.9999998211569618<br>metric stab_max_bound = 0.9999998807907104<br>metric log_stab_min_bound = 22.414802704739976<br>metric log_stab_max_bound = 23.0<br>metric lstab_min_bound = -16.0<br>metric n_uncovered = 0<br>",
          "Concept 10<br><br>extent (len: 48): 3695, 1469, 199, 3586, 3370,...<br>intent (len: 10): month!=aug, month!=feb, month!=jan, month!=mar, loan__leq__0,...<br>new extent (len: 9): 3385, 1303, 3370, 464, 2176,...<br>new_intent (len: 5): month!=aug, month!=feb, month!=jan, month!=nov, pdays__leq__185.0<br>metric strongness = 0.4<br>metric stab_min_bound = 0.9999998805577661<br>metric stab_max_bound = 0.9999998807907104<br>metric log_stab_min_bound = 22.997183611214382<br>metric log_stab_max_bound = 23.0<br>metric lstab_min_bound = -16.0<br>metric n_uncovered = 0<br>",
          "Concept 8<br><br>extent (len: 49): 1469, 2055, 2122, 2696, 3331,...<br>intent (len: 9): month!=aug, month!=jul, job!=blue-collar, month!=nov, month!=may,...<br>new extent (len: 18): 1469, 2917, 492, 1952, 4224,...<br>new_intent (len: 2): age>=41, job!=blue-collar<br>metric strongness = 0.22580645161290322<br>metric stab_min_bound = 0.9999999999599503<br>metric stab_max_bound = 0.9999999999708962<br>metric log_stab_min_bound = 34.539416120098274<br>metric log_stab_max_bound = 35.0<br>metric lstab_min_bound = -4.0<br>metric n_uncovered = 0<br>",
          "Concept 11<br><br>extent (len: 53): 1469, 3586, 619, 3370, 1653,...<br>intent (len: 10): campaign__leq__4, job!=admin., loan__leq__0, month!=may, pdays>=38.0,...<br>new extent (len: 5): 3751, 619, 1303, 4229, 3243<br>new_intent (len: 3): campaign__leq__4, loan__leq__0, job!=admin.<br>metric strongness = 0.9137931034482759<br>metric stab_min_bound = 0.999999940394833<br>metric stab_max_bound = 0.9999999403953552<br>metric log_stab_min_bound = 23.99998735933054<br>metric log_stab_max_bound = 24.0<br>metric lstab_min_bound = -15.0<br>metric n_uncovered = 0<br>",
          "Concept 6<br><br>extent (len: 66): 1469, 3586, 619, 3370, 1653,...<br>intent (len: 6): pdays>=38.0, poutcome=success, contact!=unknown, month!=apr, pdays__leq__185.0,...<br>new extent (len: 5): 3176, 110, 1695, 3931, 156<br>new_intent (len: 3): pdays>=38.0, month!=apr, pdays__leq__185.0<br>metric strongness = 0.8148148148148148<br>metric stab_min_bound = 0.9998779296874991<br>metric stab_max_bound = 0.9998779296875<br>metric log_stab_min_bound = 12.999999999989504<br>metric log_stab_max_bound = 13.0<br>metric lstab_min_bound = -26.0<br>metric n_uncovered = 0<br>",
          "Concept 7<br><br>extent (len: 75): 1469, 3586, 3370, 2055, 4458,...<br>intent (len: 7): month!=aug, month!=jul, month!=nov, month!=may, contact!=unknown,...<br>new extent (len: 9): 98, 3385, 3370, 3835, 2176,...<br>new_intent (len: 6): month!=aug, month!=jul, month!=nov, month!=may, month!=apr,...<br>metric strongness = 0.14734774066797643<br>metric stab_min_bound = 0.9999999850983841<br>metric stab_max_bound = 0.9999999850988388<br>metric log_stab_min_bound = 25.999955973113174<br>metric log_stab_max_bound = 26.0<br>metric lstab_min_bound = -13.0<br>metric n_uncovered = 0<br>",
          "Concept 4<br><br>extent (len: 88): 1374, 2122, 2847, 2251, 3498,...<br>intent (len: 4): poutcome=success, contact!=unknown, month!=may, poutcome!=failure<br>new extent (len: 3): 3202, 1056, 2583<br>new_intent (len: 1): month!=may<br>metric strongness = 0.822429906542056<br>metric stab_min_bound = 0.9999999999704414<br>metric stab_max_bound = 0.9999999999708962<br>metric log_stab_min_bound = 34.97763218697155<br>metric log_stab_max_bound = 35.0<br>metric lstab_min_bound = -4.0<br>metric n_uncovered = 0<br>",
          "Concept 3<br><br>extent (len: 95): 1374, 2122, 2847, 2251, 3498,...<br>intent (len: 3): poutcome=success, contact!=unknown, poutcome!=failure<br>new extent (len: 0): ∅<br>new_intent (len: 2): poutcome=success, poutcome!=failure<br>metric strongness = 0.7480314960629921<br>metric stab_min_bound = 0.9921874981373549<br>metric stab_max_bound = 0.9921875<br>metric log_stab_min_bound = 6.999999656034739<br>metric log_stab_max_bound = 7.0<br>metric lstab_min_bound = -32.0<br>metric n_uncovered = 0<br>",
          "Concept 5<br><br>extent (len: 105): 1374, 2122, 83, 2847, 3502,...<br>intent (len: 5): loan__leq__0, month!=mar, month!=may, pdays>=38.0, contact!=unknown<br>new extent (len: 8): 3005, 2055, 3331, 2847, 3978,...<br>new_intent (len: 2): month!=may, loan__leq__0<br>metric strongness = 0.23127753303964757<br>metric stab_min_bound = 1.0<br>metric stab_max_bound = 1.0<br>metric log_stab_min_bound = inf<br>metric log_stab_max_bound = inf<br>metric lstab_min_bound = 18.0<br>metric n_uncovered = 0<br>",
          "Concept 2<br><br>extent (len: 116): 1374, 2122, 83, 2847, 3502,...<br>intent (len: 3): pdays>=38.0, contact!=unknown, month!=mar<br>new extent (len: 1): 3743<br>new_intent (len: 2): month!=mar, pdays>=38.0<br>metric strongness = 0.14967741935483872<br>metric stab_min_bound = 0.99951171875<br>metric stab_max_bound = 0.99951171875<br>metric log_stab_min_bound = 11.0<br>metric log_stab_max_bound = 11.0<br>metric lstab_min_bound = -28.0<br>metric n_uncovered = 0<br>",
          "Concept 1<br><br>extent (len: 148): 1374, 2122, 83, 2847, 3502,...<br>intent (len: 1): contact!=unknown<br>new extent (len: 0): ∅<br>new_intent (len: 1): contact!=unknown<br>metric strongness = 0.04629340006255865<br>metric stab_min_bound = 0.9999999997671692<br>metric stab_max_bound = 0.9999999997671694<br>metric log_stab_min_bound = 31.999999312069562<br>metric log_stab_max_bound = 32.0<br>metric lstab_min_bound = -7.0<br>metric n_uncovered = 148<br>",
          "Concept 0<br><br>extent (len: 149): 1374, 2122, 83, 2847, 3502,...<br>intent (len: 0): ∅<br>new extent (len: 0): ∅<br>new_intent (len: 0): ∅<br>metric strongness = 0.0329573103295731<br>metric stab_min_bound = 0.5<br>metric stab_max_bound = 0.5<br>metric log_stab_min_bound = 1.0<br>metric log_stab_max_bound = 1.0<br>metric lstab_min_bound = -38.0<br>",
          "Concept 83<br><br>extent (len: 0): ∅<br>intent (len: 39): age>=46, age__leq__35, marital!=married, age>=41, contact!=unknown,...<br>new extent (len: 0): ∅<br>new_intent (len: 0): ∅<br>metric strongness = 0<br>metric stab_min_bound = None<br>metric stab_max_bound = None<br>metric log_stab_min_bound = None<br>metric log_stab_max_bound = None<br>metric lstab_min_bound = None<br>"
         ],
         "marker": {
          "color": [
           0.5,
           0.5,
           0.5,
           0.5,
           0.5,
           0.5,
           0.5,
           0.5,
           0.5,
           0.5,
           0.5,
           0.5,
           0.5,
           0.5,
           0.5,
           0.5,
           0.9375,
           0.9375,
           0.9375,
           0.9375,
           0.9375,
           0.9375,
           0.96875,
           0.96875,
           0.96875,
           0.96875,
           0.96875,
           0.96875,
           0.96875,
           0.96875,
           0.96875,
           0.96875,
           0.96875,
           0.8125,
           0.984375,
           0.984375,
           0.984375,
           0.9921875,
           0.9921875,
           0.96875,
           0.734375,
           0.859375,
           0.99609375,
           0.99609375,
           0.998046875,
           0.9990234375,
           0.953125,
           0.99951171875,
           0.982421875,
           0.999755859375,
           0.999755859375,
           0.93701171875,
           0.9609375,
           0.98046875,
           0.96484375,
           0.99993896484375,
           0.9373779296875,
           0.7490234375,
           0.9521484375,
           0.87451171875,
           0.99945068359375,
           0.9686279296875,
           0.7499980926513672,
           0.9999651908874512,
           0.9999998807907104,
           0.9999999403953552,
           0.9980458617210388,
           0.9999957084655762,
           0.9687490463256836,
           0.9999999981373549,
           0.9997558547183871,
           0.9999998211569618,
           0.9999998805577661,
           0.9999999999599503,
           0.999999940394833,
           0.9998779296874991,
           0.9999999850983841,
           0.9999999999704414,
           0.9921874981373549,
           1,
           0.99951171875,
           0.9999999997671692,
           0.5,
           "grey"
          ],
          "colorbar": {
           "thickness": 15,
           "title": {
            "side": "right",
            "text": "y_mean"
           },
           "xanchor": "left"
          },
          "colorscale": [
           [
            0,
            "rgb(103,0,31)"
           ],
           [
            0.1,
            "rgb(178,24,43)"
           ],
           [
            0.2,
            "rgb(214,96,77)"
           ],
           [
            0.3,
            "rgb(244,165,130)"
           ],
           [
            0.4,
            "rgb(253,219,199)"
           ],
           [
            0.5,
            "rgb(247,247,247)"
           ],
           [
            0.6,
            "rgb(209,229,240)"
           ],
           [
            0.7,
            "rgb(146,197,222)"
           ],
           [
            0.8,
            "rgb(67,147,195)"
           ],
           [
            0.9,
            "rgb(33,102,172)"
           ],
           [
            1,
            "rgb(5,48,97)"
           ]
          ],
          "line": {
           "width": 2
          },
          "reversescale": true,
          "showscale": true,
          "size": 10
         },
         "mode": "markers+text",
         "text": [
          "n: 12<br>n: 1",
          "n: 6<br>n: 1",
          "n: 4<br>n: 1",
          "n: 21<br>n: 1",
          "n: 4<br>n: 1",
          "n: 4<br>n: 1",
          "n: 6<br>n: 1",
          "n: 7<br>n: 1",
          "n: 6<br>n: 1",
          "n: 23<br>n: 1",
          "n: 11<br>n: 1",
          "n: 21<br>n: 1",
          "n: 21<br>n: 1",
          "n: 12<br>n: 1",
          "n: 11<br>n: 1",
          "n: 3<br>n: 1",
          "n: 4<br>n: 4",
          "n: 15<br>n: 4",
          "n: 6<br>n: 4",
          "n: 2<br>n: 4",
          "n: 4<br>n: 4",
          "n: 7<br>n: 4",
          "n: 3<br>n: 5",
          "n: 1<br>n: 5",
          "n: 2<br>n: 5",
          "n: 8<br>n: 5",
          "n: 5<br>n: 5",
          "n: 17<br>n: 5",
          "n: 2<br>n: 5",
          "n: 4<br>n: 5",
          "n: 7<br>n: 5",
          "n: 4<br>n: 5",
          "n: 3<br>n: 5",
          "n: 4<br>n: 2",
          "n: 3<br>n: 6",
          "n: 4<br>n: 6",
          "n: 10<br>n: 6",
          "n: 2<br>n: 7",
          "n: 5<br>n: 7",
          "n: 3<br>n: 5",
          "n: 4<br>n: 1",
          "n: 18<br>n: 2",
          "n: 2<br>n: 8",
          "n: 3<br>n: 8",
          "n: 11<br>n: 9",
          "n: 2<br>n: 10",
          "n: 2<br>n: 2",
          "n: 2<br>n: 11",
          "n: 10<br>n: 4",
          "n: 10<br>n: 12",
          "n: 9<br>n: 12",
          "n: 10<br>n: 3",
          "n: 8<br>n: 1",
          "n: 1<br>n: 2",
          "n: 2<br>n: 1",
          "<br>n: 14",
          "n: 5<br>n: 3",
          "n: 4<br>",
          "n: 8<br>n: 1",
          "n: 5<br>",
          "n: 15<br>n: 9",
          "n: 1<br>n: 4",
          "n: 2<br>n: 1",
          "n: 3<br>n: 11",
          "n: 4<br>n: 23",
          "n: 7<br>n: 24",
          "n: 8<br>n: 7",
          "n: 5<br>n: 14",
          "n: 10<br>n: 1",
          "n: 5<br>n: 29",
          "n: 7<br>n: 4",
          "n: 5<br>n: 4",
          "n: 5<br>n: 9",
          "n: 2<br>n: 18",
          "n: 3<br>n: 5",
          "n: 3<br>n: 5",
          "n: 6<br>n: 9",
          "n: 1<br>n: 3",
          "n: 2<br>",
          "n: 2<br>n: 8",
          "n: 2<br>n: 1",
          "n: 1<br>",
          "<br>",
          "<br>"
         ],
         "textposition": "middle right",
         "type": "scatter",
         "x": [
          -9.5,
          -0.5,
          4.5,
          7.5,
          5.5,
          0.5,
          1.5,
          -2.5,
          -5.5,
          2.5,
          -1.5,
          3.5,
          4.5,
          5.5,
          -2.5,
          -8.5,
          -4.5,
          0.5,
          -1.5,
          5.5,
          -7.5,
          -0.5,
          0.5,
          -12.5,
          -0.5,
          3.5,
          1.5,
          6.5,
          -3.5,
          0.5,
          -6.5,
          -1.5,
          -0.5,
          -0.5,
          -1.5,
          12.5,
          6.5,
          0.5,
          2.5,
          -0.5,
          -11.5,
          2.5,
          0.5,
          -5.5,
          1.5,
          2.5,
          -10.5,
          7.5,
          -7.5,
          9.5,
          8.5,
          -4.5,
          -6.5,
          1.5,
          3.5,
          11.5,
          -5.5,
          6.5,
          1.5,
          -4.5,
          -0.5,
          4.5,
          -3.5,
          -0.5,
          5.5,
          10.5,
          -1.5,
          -2.5,
          -3.5,
          3.5,
          -4.5,
          4.5,
          -2.5,
          -6.5,
          2.5,
          -3.5,
          -1.5,
          -2.5,
          0.5,
          -5.5,
          1.5,
          0.5,
          0,
          0
         ],
         "y": [
          5,
          7,
          5,
          6,
          4,
          7,
          7,
          4,
          4,
          7,
          4,
          7,
          7,
          6,
          8,
          5,
          4,
          6,
          6,
          7,
          5,
          4,
          4,
          5,
          2,
          6,
          4,
          7,
          4,
          5,
          5,
          3,
          3,
          8,
          5,
          5,
          5,
          2,
          4,
          5,
          5,
          8,
          3,
          5,
          5,
          5,
          5,
          5,
          6,
          5,
          5,
          6,
          6,
          3,
          4,
          5,
          6,
          6,
          6,
          5,
          9,
          4,
          5,
          6,
          5,
          5,
          7,
          5,
          6,
          5,
          7,
          6,
          6,
          7,
          6,
          7,
          8,
          7,
          8,
          7,
          8,
          9,
          10,
          1
         ]
        }
       ],
       "layout": {
        "height": 500,
        "hovermode": "closest",
        "margin": {
         "b": 20,
         "l": 5,
         "r": 5,
         "t": 40
        },
        "showlegend": false,
        "template": {
         "data": {
          "bar": [
           {
            "error_x": {
             "color": "#2a3f5f"
            },
            "error_y": {
             "color": "#2a3f5f"
            },
            "marker": {
             "line": {
              "color": "#E5ECF6",
              "width": 0.5
             }
            },
            "type": "bar"
           }
          ],
          "barpolar": [
           {
            "marker": {
             "line": {
              "color": "#E5ECF6",
              "width": 0.5
             }
            },
            "type": "barpolar"
           }
          ],
          "carpet": [
           {
            "aaxis": {
             "endlinecolor": "#2a3f5f",
             "gridcolor": "white",
             "linecolor": "white",
             "minorgridcolor": "white",
             "startlinecolor": "#2a3f5f"
            },
            "baxis": {
             "endlinecolor": "#2a3f5f",
             "gridcolor": "white",
             "linecolor": "white",
             "minorgridcolor": "white",
             "startlinecolor": "#2a3f5f"
            },
            "type": "carpet"
           }
          ],
          "choropleth": [
           {
            "colorbar": {
             "outlinewidth": 0,
             "ticks": ""
            },
            "type": "choropleth"
           }
          ],
          "contour": [
           {
            "colorbar": {
             "outlinewidth": 0,
             "ticks": ""
            },
            "colorscale": [
             [
              0,
              "#0d0887"
             ],
             [
              0.1111111111111111,
              "#46039f"
             ],
             [
              0.2222222222222222,
              "#7201a8"
             ],
             [
              0.3333333333333333,
              "#9c179e"
             ],
             [
              0.4444444444444444,
              "#bd3786"
             ],
             [
              0.5555555555555556,
              "#d8576b"
             ],
             [
              0.6666666666666666,
              "#ed7953"
             ],
             [
              0.7777777777777778,
              "#fb9f3a"
             ],
             [
              0.8888888888888888,
              "#fdca26"
             ],
             [
              1,
              "#f0f921"
             ]
            ],
            "type": "contour"
           }
          ],
          "contourcarpet": [
           {
            "colorbar": {
             "outlinewidth": 0,
             "ticks": ""
            },
            "type": "contourcarpet"
           }
          ],
          "heatmap": [
           {
            "colorbar": {
             "outlinewidth": 0,
             "ticks": ""
            },
            "colorscale": [
             [
              0,
              "#0d0887"
             ],
             [
              0.1111111111111111,
              "#46039f"
             ],
             [
              0.2222222222222222,
              "#7201a8"
             ],
             [
              0.3333333333333333,
              "#9c179e"
             ],
             [
              0.4444444444444444,
              "#bd3786"
             ],
             [
              0.5555555555555556,
              "#d8576b"
             ],
             [
              0.6666666666666666,
              "#ed7953"
             ],
             [
              0.7777777777777778,
              "#fb9f3a"
             ],
             [
              0.8888888888888888,
              "#fdca26"
             ],
             [
              1,
              "#f0f921"
             ]
            ],
            "type": "heatmap"
           }
          ],
          "heatmapgl": [
           {
            "colorbar": {
             "outlinewidth": 0,
             "ticks": ""
            },
            "colorscale": [
             [
              0,
              "#0d0887"
             ],
             [
              0.1111111111111111,
              "#46039f"
             ],
             [
              0.2222222222222222,
              "#7201a8"
             ],
             [
              0.3333333333333333,
              "#9c179e"
             ],
             [
              0.4444444444444444,
              "#bd3786"
             ],
             [
              0.5555555555555556,
              "#d8576b"
             ],
             [
              0.6666666666666666,
              "#ed7953"
             ],
             [
              0.7777777777777778,
              "#fb9f3a"
             ],
             [
              0.8888888888888888,
              "#fdca26"
             ],
             [
              1,
              "#f0f921"
             ]
            ],
            "type": "heatmapgl"
           }
          ],
          "histogram": [
           {
            "marker": {
             "colorbar": {
              "outlinewidth": 0,
              "ticks": ""
             }
            },
            "type": "histogram"
           }
          ],
          "histogram2d": [
           {
            "colorbar": {
             "outlinewidth": 0,
             "ticks": ""
            },
            "colorscale": [
             [
              0,
              "#0d0887"
             ],
             [
              0.1111111111111111,
              "#46039f"
             ],
             [
              0.2222222222222222,
              "#7201a8"
             ],
             [
              0.3333333333333333,
              "#9c179e"
             ],
             [
              0.4444444444444444,
              "#bd3786"
             ],
             [
              0.5555555555555556,
              "#d8576b"
             ],
             [
              0.6666666666666666,
              "#ed7953"
             ],
             [
              0.7777777777777778,
              "#fb9f3a"
             ],
             [
              0.8888888888888888,
              "#fdca26"
             ],
             [
              1,
              "#f0f921"
             ]
            ],
            "type": "histogram2d"
           }
          ],
          "histogram2dcontour": [
           {
            "colorbar": {
             "outlinewidth": 0,
             "ticks": ""
            },
            "colorscale": [
             [
              0,
              "#0d0887"
             ],
             [
              0.1111111111111111,
              "#46039f"
             ],
             [
              0.2222222222222222,
              "#7201a8"
             ],
             [
              0.3333333333333333,
              "#9c179e"
             ],
             [
              0.4444444444444444,
              "#bd3786"
             ],
             [
              0.5555555555555556,
              "#d8576b"
             ],
             [
              0.6666666666666666,
              "#ed7953"
             ],
             [
              0.7777777777777778,
              "#fb9f3a"
             ],
             [
              0.8888888888888888,
              "#fdca26"
             ],
             [
              1,
              "#f0f921"
             ]
            ],
            "type": "histogram2dcontour"
           }
          ],
          "mesh3d": [
           {
            "colorbar": {
             "outlinewidth": 0,
             "ticks": ""
            },
            "type": "mesh3d"
           }
          ],
          "parcoords": [
           {
            "line": {
             "colorbar": {
              "outlinewidth": 0,
              "ticks": ""
             }
            },
            "type": "parcoords"
           }
          ],
          "pie": [
           {
            "automargin": true,
            "type": "pie"
           }
          ],
          "scatter": [
           {
            "marker": {
             "colorbar": {
              "outlinewidth": 0,
              "ticks": ""
             }
            },
            "type": "scatter"
           }
          ],
          "scatter3d": [
           {
            "line": {
             "colorbar": {
              "outlinewidth": 0,
              "ticks": ""
             }
            },
            "marker": {
             "colorbar": {
              "outlinewidth": 0,
              "ticks": ""
             }
            },
            "type": "scatter3d"
           }
          ],
          "scattercarpet": [
           {
            "marker": {
             "colorbar": {
              "outlinewidth": 0,
              "ticks": ""
             }
            },
            "type": "scattercarpet"
           }
          ],
          "scattergeo": [
           {
            "marker": {
             "colorbar": {
              "outlinewidth": 0,
              "ticks": ""
             }
            },
            "type": "scattergeo"
           }
          ],
          "scattergl": [
           {
            "marker": {
             "colorbar": {
              "outlinewidth": 0,
              "ticks": ""
             }
            },
            "type": "scattergl"
           }
          ],
          "scattermapbox": [
           {
            "marker": {
             "colorbar": {
              "outlinewidth": 0,
              "ticks": ""
             }
            },
            "type": "scattermapbox"
           }
          ],
          "scatterpolar": [
           {
            "marker": {
             "colorbar": {
              "outlinewidth": 0,
              "ticks": ""
             }
            },
            "type": "scatterpolar"
           }
          ],
          "scatterpolargl": [
           {
            "marker": {
             "colorbar": {
              "outlinewidth": 0,
              "ticks": ""
             }
            },
            "type": "scatterpolargl"
           }
          ],
          "scatterternary": [
           {
            "marker": {
             "colorbar": {
              "outlinewidth": 0,
              "ticks": ""
             }
            },
            "type": "scatterternary"
           }
          ],
          "surface": [
           {
            "colorbar": {
             "outlinewidth": 0,
             "ticks": ""
            },
            "colorscale": [
             [
              0,
              "#0d0887"
             ],
             [
              0.1111111111111111,
              "#46039f"
             ],
             [
              0.2222222222222222,
              "#7201a8"
             ],
             [
              0.3333333333333333,
              "#9c179e"
             ],
             [
              0.4444444444444444,
              "#bd3786"
             ],
             [
              0.5555555555555556,
              "#d8576b"
             ],
             [
              0.6666666666666666,
              "#ed7953"
             ],
             [
              0.7777777777777778,
              "#fb9f3a"
             ],
             [
              0.8888888888888888,
              "#fdca26"
             ],
             [
              1,
              "#f0f921"
             ]
            ],
            "type": "surface"
           }
          ],
          "table": [
           {
            "cells": {
             "fill": {
              "color": "#EBF0F8"
             },
             "line": {
              "color": "white"
             }
            },
            "header": {
             "fill": {
              "color": "#C8D4E3"
             },
             "line": {
              "color": "white"
             }
            },
            "type": "table"
           }
          ]
         },
         "layout": {
          "annotationdefaults": {
           "arrowcolor": "#2a3f5f",
           "arrowhead": 0,
           "arrowwidth": 1
          },
          "coloraxis": {
           "colorbar": {
            "outlinewidth": 0,
            "ticks": ""
           }
          },
          "colorscale": {
           "diverging": [
            [
             0,
             "#8e0152"
            ],
            [
             0.1,
             "#c51b7d"
            ],
            [
             0.2,
             "#de77ae"
            ],
            [
             0.3,
             "#f1b6da"
            ],
            [
             0.4,
             "#fde0ef"
            ],
            [
             0.5,
             "#f7f7f7"
            ],
            [
             0.6,
             "#e6f5d0"
            ],
            [
             0.7,
             "#b8e186"
            ],
            [
             0.8,
             "#7fbc41"
            ],
            [
             0.9,
             "#4d9221"
            ],
            [
             1,
             "#276419"
            ]
           ],
           "sequential": [
            [
             0,
             "#0d0887"
            ],
            [
             0.1111111111111111,
             "#46039f"
            ],
            [
             0.2222222222222222,
             "#7201a8"
            ],
            [
             0.3333333333333333,
             "#9c179e"
            ],
            [
             0.4444444444444444,
             "#bd3786"
            ],
            [
             0.5555555555555556,
             "#d8576b"
            ],
            [
             0.6666666666666666,
             "#ed7953"
            ],
            [
             0.7777777777777778,
             "#fb9f3a"
            ],
            [
             0.8888888888888888,
             "#fdca26"
            ],
            [
             1,
             "#f0f921"
            ]
           ],
           "sequentialminus": [
            [
             0,
             "#0d0887"
            ],
            [
             0.1111111111111111,
             "#46039f"
            ],
            [
             0.2222222222222222,
             "#7201a8"
            ],
            [
             0.3333333333333333,
             "#9c179e"
            ],
            [
             0.4444444444444444,
             "#bd3786"
            ],
            [
             0.5555555555555556,
             "#d8576b"
            ],
            [
             0.6666666666666666,
             "#ed7953"
            ],
            [
             0.7777777777777778,
             "#fb9f3a"
            ],
            [
             0.8888888888888888,
             "#fdca26"
            ],
            [
             1,
             "#f0f921"
            ]
           ]
          },
          "colorway": [
           "#636efa",
           "#EF553B",
           "#00cc96",
           "#ab63fa",
           "#FFA15A",
           "#19d3f3",
           "#FF6692",
           "#B6E880",
           "#FF97FF",
           "#FECB52"
          ],
          "font": {
           "color": "#2a3f5f"
          },
          "geo": {
           "bgcolor": "white",
           "lakecolor": "white",
           "landcolor": "#E5ECF6",
           "showlakes": true,
           "showland": true,
           "subunitcolor": "white"
          },
          "hoverlabel": {
           "align": "left"
          },
          "hovermode": "closest",
          "mapbox": {
           "style": "light"
          },
          "paper_bgcolor": "white",
          "plot_bgcolor": "#E5ECF6",
          "polar": {
           "angularaxis": {
            "gridcolor": "white",
            "linecolor": "white",
            "ticks": ""
           },
           "bgcolor": "#E5ECF6",
           "radialaxis": {
            "gridcolor": "white",
            "linecolor": "white",
            "ticks": ""
           }
          },
          "scene": {
           "xaxis": {
            "backgroundcolor": "#E5ECF6",
            "gridcolor": "white",
            "gridwidth": 2,
            "linecolor": "white",
            "showbackground": true,
            "ticks": "",
            "zerolinecolor": "white"
           },
           "yaxis": {
            "backgroundcolor": "#E5ECF6",
            "gridcolor": "white",
            "gridwidth": 2,
            "linecolor": "white",
            "showbackground": true,
            "ticks": "",
            "zerolinecolor": "white"
           },
           "zaxis": {
            "backgroundcolor": "#E5ECF6",
            "gridcolor": "white",
            "gridwidth": 2,
            "linecolor": "white",
            "showbackground": true,
            "ticks": "",
            "zerolinecolor": "white"
           }
          },
          "shapedefaults": {
           "line": {
            "color": "#2a3f5f"
           }
          },
          "ternary": {
           "aaxis": {
            "gridcolor": "white",
            "linecolor": "white",
            "ticks": ""
           },
           "baxis": {
            "gridcolor": "white",
            "linecolor": "white",
            "ticks": ""
           },
           "bgcolor": "#E5ECF6",
           "caxis": {
            "gridcolor": "white",
            "linecolor": "white",
            "ticks": ""
           }
          },
          "title": {
           "x": 0.05
          },
          "xaxis": {
           "automargin": true,
           "gridcolor": "white",
           "linecolor": "white",
           "ticks": "",
           "title": {
            "standoff": 15
           },
           "zerolinecolor": "white",
           "zerolinewidth": 2
          },
          "yaxis": {
           "automargin": true,
           "gridcolor": "white",
           "linecolor": "white",
           "ticks": "",
           "title": {
            "standoff": 15
           },
           "zerolinecolor": "white",
           "zerolinewidth": 2
          }
         }
        },
        "title": {
         "font": {
          "size": 16
         },
         "text": "Concept Lattice"
        },
        "width": 1000,
        "xaxis": {
         "showgrid": false,
         "showticklabels": false,
         "zeroline": false
        },
        "yaxis": {
         "showgrid": false,
         "showticklabels": false,
         "zeroline": false
        }
       }
      },
      "text/html": [
       "<div>\n",
       "        \n",
       "        \n",
       "            <div id=\"ee4c0114-248c-42e4-aa27-486e1651c2f2\" class=\"plotly-graph-div\" style=\"height:500px; width:1000px;\"></div>\n",
       "            <script type=\"text/javascript\">\n",
       "                require([\"plotly\"], function(Plotly) {\n",
       "                    window.PLOTLYENV=window.PLOTLYENV || {};\n",
       "                    \n",
       "                if (document.getElementById(\"ee4c0114-248c-42e4-aa27-486e1651c2f2\")) {\n",
       "                    Plotly.newPlot(\n",
       "                        'ee4c0114-248c-42e4-aa27-486e1651c2f2',\n",
       "                        [{\"hoverinfo\": \"none\", \"line\": {\"color\": \"#888\", \"width\": 0.5}, \"mode\": \"lines\", \"type\": \"scatter\", \"x\": [-9.5, 0.0, null, -9.5, -4.5, null, -0.5, 0.0, null, -0.5, -0.5, null, -0.5, 0.5, null, 4.5, 0.0, null, 4.5, -0.5, null, 4.5, -7.5, null, 4.5, -5.5, null, 7.5, 0.0, null, 7.5, -3.5, null, 7.5, 1.5, null, 5.5, 0.0, null, 5.5, -0.5, null, 0.5, 0.0, null, 0.5, 2.5, null, 0.5, -0.5, null, 1.5, 0.0, null, 1.5, -0.5, null, -2.5, 0.0, null, -2.5, -0.5, null, -2.5, -6.5, null, -5.5, 0.0, null, -5.5, -11.5, null, 2.5, 0.0, null, 2.5, 1.5, null, -1.5, 0.0, null, -1.5, -3.5, null, 3.5, 0.0, null, 3.5, 1.5, null, 4.5, 0.0, null, 4.5, 0.5, null, 4.5, 1.5, null, 5.5, 0.0, null, 5.5, -1.5, null, -2.5, 0.0, null, -2.5, -0.5, null, -2.5, 0.5, null, -8.5, 0.0, null, -8.5, -7.5, null, -8.5, -0.5, null, -4.5, 0.0, null, -4.5, -10.5, null, 0.5, 0.0, null, 0.5, -2.5, null, 0.5, -5.5, null, -1.5, 0.0, null, -1.5, -4.5, null, 5.5, 0.0, null, 5.5, 2.5, null, -7.5, 0.0, null, -7.5, -0.5, null, -7.5, -6.5, null, -0.5, 0.0, null, -0.5, -2.5, null, 0.5, 0.0, null, 0.5, -10.5, null, 0.5, -4.5, null, -12.5, 0.0, null, -12.5, -7.5, null, -12.5, -6.5, null, -0.5, 0.0, null, -0.5, 1.5, null, 3.5, 0.0, null, 3.5, -1.5, null, 3.5, -3.5, null, 1.5, 0.0, null, 1.5, -4.5, null, 6.5, 0.0, null, 6.5, 0.5, null, 6.5, 1.5, null, -3.5, 0.0, null, -3.5, -11.5, null, 0.5, 0.0, null, 0.5, -4.5, null, 0.5, -2.5, null, 0.5, 2.5, null, -6.5, 0.0, null, -6.5, -3.5, null, -1.5, 0.0, null, -1.5, 3.5, null, -0.5, 0.0, null, -0.5, 4.5, null, -0.5, -0.5, null, -1.5, 0.0, null, -1.5, 1.5, null, -1.5, -1.5, null, -1.5, -5.5, null, 12.5, 0.0, null, 12.5, 6.5, null, 6.5, 0.0, null, 6.5, 2.5, null, 0.5, 0.0, null, 0.5, 1.5, null, 2.5, 0.0, null, 2.5, -2.5, null, -0.5, -0.5, null, -11.5, -6.5, null, 2.5, 0.5, null, 0.5, 0.0, null, 0.5, 3.5, null, -5.5, 0.0, null, -5.5, -4.5, null, 1.5, 0.0, null, 1.5, 2.5, null, 1.5, -5.5, null, 2.5, 0.0, null, 2.5, 1.5, null, 2.5, -5.5, null, -10.5, -5.5, null, 7.5, 0.0, null, 7.5, 1.5, null, -7.5, -6.5, null, 9.5, 0.0, null, 9.5, 4.5, null, 8.5, 0.0, null, 8.5, 2.5, null, -4.5, -5.5, null, -6.5, -6.5, null, 1.5, 4.5, null, 3.5, -4.5, null, 11.5, 0.0, null, 11.5, 6.5, null, 11.5, -2.5, null, -5.5, -6.5, null, 6.5, -1.5, null, 1.5, -3.5, null, 1.5, -2.5, null, -4.5, -2.5, null, -0.5, 0.0, null, 4.5, -3.5, null, -3.5, -3.5, null, -0.5, -4.5, null, 5.5, 0.0, null, 5.5, 4.5, null, 5.5, -5.5, null, 10.5, 0.0, null, 10.5, 4.5, null, -1.5, 0.5, null, -1.5, 1.5, null, -2.5, -2.5, null, -3.5, -5.5, null, 3.5, 0.0, null, 3.5, 2.5, null, 3.5, -5.5, null, -4.5, -1.5, null, 4.5, -2.5, null, -2.5, -5.5, null, -6.5, -1.5, null, 2.5, -3.5, null, 2.5, -2.5, null, -3.5, 0.5, null, -1.5, 0.5, null, -2.5, 0.5, null, 0.5, 0.5, null, -5.5, 1.5, null, 1.5, 0.5, null, 0.5, 0.0, null], \"y\": [5, 1, null, 5, 6, null, 7, 1, null, 7, 8, null, 7, 9, null, 5, 1, null, 5, 8, null, 5, 6, null, 5, 6, null, 6, 1, null, 6, 7, null, 6, 8, null, 4, 1, null, 4, 5, null, 7, 1, null, 7, 8, null, 7, 9, null, 7, 1, null, 7, 8, null, 4, 1, null, 4, 5, null, 4, 7, null, 4, 1, null, 4, 5, null, 7, 1, null, 7, 8, null, 4, 1, null, 4, 5, null, 7, 1, null, 7, 8, null, 7, 1, null, 7, 8, null, 7, 8, null, 6, 1, null, 6, 7, null, 8, 1, null, 8, 9, null, 8, 9, null, 5, 1, null, 5, 6, null, 5, 6, null, 4, 1, null, 4, 5, null, 6, 1, null, 6, 7, null, 6, 7, null, 6, 1, null, 6, 7, null, 7, 1, null, 7, 8, null, 5, 1, null, 5, 6, null, 5, 7, null, 4, 1, null, 4, 5, null, 4, 1, null, 4, 5, null, 4, 7, null, 5, 1, null, 5, 6, null, 5, 6, null, 2, 1, null, 2, 3, null, 6, 1, null, 6, 7, null, 6, 7, null, 4, 1, null, 4, 5, null, 7, 1, null, 7, 8, null, 7, 8, null, 4, 1, null, 4, 5, null, 5, 1, null, 5, 7, null, 5, 6, null, 5, 6, null, 5, 1, null, 5, 6, null, 3, 1, null, 3, 4, null, 3, 1, null, 3, 4, null, 8, 9, null, 5, 1, null, 5, 6, null, 5, 8, null, 5, 7, null, 5, 1, null, 5, 6, null, 5, 1, null, 5, 6, null, 2, 1, null, 2, 3, null, 4, 1, null, 4, 5, null, 5, 6, null, 5, 6, null, 8, 9, null, 3, 1, null, 3, 4, null, 5, 1, null, 5, 6, null, 5, 1, null, 5, 6, null, 5, 7, null, 5, 1, null, 5, 6, null, 5, 7, null, 5, 6, null, 5, 1, null, 5, 6, null, 6, 7, null, 5, 1, null, 5, 6, null, 5, 1, null, 5, 6, null, 6, 7, null, 6, 7, null, 3, 4, null, 4, 5, null, 5, 1, null, 5, 6, null, 5, 7, null, 6, 7, null, 6, 7, null, 6, 7, null, 6, 7, null, 5, 6, null, 9, 10, null, 4, 5, null, 5, 6, null, 6, 7, null, 5, 1, null, 5, 6, null, 5, 7, null, 5, 1, null, 5, 6, null, 7, 8, null, 7, 8, null, 5, 6, null, 6, 7, null, 5, 1, null, 5, 6, null, 5, 7, null, 7, 8, null, 6, 7, null, 6, 7, null, 7, 8, null, 6, 7, null, 6, 7, null, 7, 8, null, 8, 9, null, 7, 8, null, 8, 9, null, 7, 8, null, 8, 9, null, 9, 10, null]}, {\"hoverinfo\": \"text\", \"hovertext\": [\"Concept 77<br><br>extent (len: 1): 1109<br>intent (len: 27): age>=46, age>=41, contact!=unknown, month!=jun, month!=feb,...<br>new extent (len: 1): 1109<br>new_intent (len: 12): education!=tertiary, campaign__leq__4, age>=46, month!=feb, marital=married,...<br>metric strongness = 1.0<br>metric stab_min_bound = 0.5<br>metric stab_max_bound = 0.5<br>metric log_stab_min_bound = 1.0<br>metric log_stab_max_bound = 1.0<br>metric lstab_min_bound = -38.0<br>metric n_uncovered = 0<br>\", \"Concept 72<br><br>extent (len: 1): 129<br>intent (len: 26): age>=46, marital!=married, age>=41, contact!=unknown, month!=jun,...<br>new extent (len: 1): 129<br>new_intent (len: 6): age>=46, education=tertiary, age>=55, education!=secondary, month!=nov,...<br>metric strongness = 1.0<br>metric stab_min_bound = 0.5<br>metric stab_max_bound = 0.5<br>metric log_stab_min_bound = 1.0<br>metric log_stab_max_bound = 1.0<br>metric lstab_min_bound = -38.0<br>metric n_uncovered = 0<br>\", \"Concept 75<br><br>extent (len: 1): 2421<br>intent (len: 26): marital!=married, age>=41, contact!=unknown, month!=jun, month!=feb,...<br>new extent (len: 1): 2421<br>new_intent (len: 4): age__leq__56, education=tertiary, education!=secondary, campaign>=2<br>metric strongness = 1.0<br>metric stab_min_bound = 0.5<br>metric stab_max_bound = 0.5<br>metric log_stab_min_bound = 1.0<br>metric log_stab_max_bound = 1.0<br>metric lstab_min_bound = -38.0<br>metric n_uncovered = 0<br>\", \"Concept 82<br><br>extent (len: 1): 2665<br>intent (len: 28): age__leq__35, marital!=married, contact!=unknown, pdays__leq__185.0, month!=jun,...<br>new extent (len: 1): 2665<br>new_intent (len: 21): age__leq__35, marital!=married, month!=jun, month!=feb, balance>=1026,...<br>metric strongness = 1.0<br>metric stab_min_bound = 0.5<br>metric stab_max_bound = 0.5<br>metric log_stab_min_bound = 1.0<br>metric log_stab_max_bound = 1.0<br>metric lstab_min_bound = -38.0<br>metric n_uncovered = 0<br>\", \"Concept 67<br><br>extent (len: 1): 2773<br>intent (len: 24): age__leq__35, marital!=married, contact!=unknown, month!=jun, month!=feb,...<br>new extent (len: 1): 2773<br>new_intent (len: 4): age__leq__56, education=tertiary, age__leq__35, marital!=married<br>metric strongness = 1.0<br>metric stab_min_bound = 0.5<br>metric stab_max_bound = 0.5<br>metric log_stab_min_bound = 1.0<br>metric log_stab_max_bound = 1.0<br>metric lstab_min_bound = -38.0<br>metric n_uncovered = 0<br>\", \"Concept 70<br><br>extent (len: 1): 2780<br>intent (len: 25): age__leq__35, marital!=married, contact!=unknown, month!=jun, month!=feb,...<br>new extent (len: 1): 2780<br>new_intent (len: 4): age__leq__56, balance__leq__302, age__leq__35, month!=oct<br>metric strongness = 1.0<br>metric stab_min_bound = 0.5<br>metric stab_max_bound = 0.5<br>metric log_stab_min_bound = 1.0<br>metric log_stab_max_bound = 1.0<br>metric lstab_min_bound = -38.0<br>metric n_uncovered = 0<br>\", \"Concept 69<br><br>extent (len: 1): 3248<br>intent (len: 25): age>=46, marital!=married, age>=41, month!=jun, month!=feb,...<br>new extent (len: 1): 3248<br>new_intent (len: 6): education!=tertiary, age>=46, age>=55, balance__leq__3940, month!=oct,...<br>metric strongness = 1.0<br>metric stab_min_bound = 0.5<br>metric stab_max_bound = 0.5<br>metric log_stab_min_bound = 1.0<br>metric log_stab_max_bound = 1.0<br>metric lstab_min_bound = -38.0<br>metric n_uncovered = 1<br>\", \"Concept 80<br><br>extent (len: 1): 3311<br>intent (len: 28): age>=46, age>=41, contact!=unknown, month!=jun, month!=feb,...<br>new extent (len: 1): 3311<br>new_intent (len: 7): education!=tertiary, age>=46, housing__leq__0, marital=married, age>=55,...<br>metric strongness = 1.0<br>metric stab_min_bound = 0.5<br>metric stab_max_bound = 0.5<br>metric log_stab_min_bound = 1.0<br>metric log_stab_max_bound = 1.0<br>metric lstab_min_bound = -38.0<br>metric n_uncovered = 0<br>\", \"Concept 78<br><br>extent (len: 1): 3558<br>intent (len: 27): age>=46, marital!=married, age>=41, contact!=unknown, month!=jun,...<br>new extent (len: 1): 3558<br>new_intent (len: 6): education=tertiary, housing__leq__0, month!=jan, month!=sep, marital!=married,...<br>metric strongness = 1.0<br>metric stab_min_bound = 0.5<br>metric stab_max_bound = 0.5<br>metric log_stab_min_bound = 1.0<br>metric log_stab_max_bound = 1.0<br>metric lstab_min_bound = -38.0<br>metric n_uncovered = 0<br>\", \"Concept 74<br><br>extent (len: 1): 3932<br>intent (len: 26): age__leq__35, contact!=unknown, month!=jun, month!=feb, month!=sep,...<br>new extent (len: 1): 3932<br>new_intent (len: 23): age__leq__35, month!=jun, month!=feb, month!=sep, job!=blue-collar,...<br>metric strongness = 1.0<br>metric stab_min_bound = 0.5<br>metric stab_max_bound = 0.5<br>metric log_stab_min_bound = 1.0<br>metric log_stab_max_bound = 1.0<br>metric lstab_min_bound = -38.0<br>metric n_uncovered = 0<br>\", \"Concept 81<br><br>extent (len: 1): 412<br>intent (len: 28): age>=46, marital!=married, age>=41, contact!=unknown, pdays__leq__185.0,...<br>new extent (len: 1): 412<br>new_intent (len: 11): month!=aug, age>=46, education=tertiary, month!=jul, balance>=1026,...<br>metric strongness = 1.0<br>metric stab_min_bound = 0.5<br>metric stab_max_bound = 0.5<br>metric log_stab_min_bound = 1.0<br>metric log_stab_max_bound = 1.0<br>metric lstab_min_bound = -38.0<br>metric n_uncovered = 0<br>\", \"Concept 68<br><br>extent (len: 1): 4213<br>intent (len: 24): age__leq__35, marital!=married, contact!=unknown, month!=jun, month!=feb,...<br>new extent (len: 1): 4213<br>new_intent (len: 21): age__leq__35, marital!=married, month!=jun, month!=feb, month!=sep,...<br>metric strongness = 1.0<br>metric stab_min_bound = 0.5<br>metric stab_max_bound = 0.5<br>metric log_stab_min_bound = 1.0<br>metric log_stab_max_bound = 1.0<br>metric lstab_min_bound = -38.0<br>metric n_uncovered = 0<br>\", \"Concept 76<br><br>extent (len: 1): 4232<br>intent (len: 26): marital!=married, contact!=unknown, month!=jun, month!=feb, month!=sep,...<br>new extent (len: 1): 4232<br>new_intent (len: 21): marital!=married, month!=jun, month!=feb, month!=sep, loan__leq__0,...<br>metric strongness = 1.0<br>metric stab_min_bound = 0.5<br>metric stab_max_bound = 0.5<br>metric log_stab_min_bound = 1.0<br>metric log_stab_max_bound = 1.0<br>metric lstab_min_bound = -38.0<br>metric n_uncovered = 0<br>\", \"Concept 71<br><br>extent (len: 1): 4433<br>intent (len: 25): contact!=unknown, month!=jun, month!=feb, month!=sep, job!=blue-collar,...<br>new extent (len: 1): 4433<br>new_intent (len: 12): job!=admin., month!=jun, pdays>=181.0, education=tertiary, month!=sep,...<br>metric strongness = 1.0<br>metric stab_min_bound = 0.5<br>metric stab_max_bound = 0.5<br>metric log_stab_min_bound = 1.0<br>metric log_stab_max_bound = 1.0<br>metric lstab_min_bound = -38.0<br>metric n_uncovered = 0<br>\", \"Concept 79<br><br>extent (len: 1): 503<br>intent (len: 27): age__leq__35, marital!=married, contact!=unknown, month!=jun, month!=feb,...<br>new extent (len: 1): 503<br>new_intent (len: 11): education!=tertiary, age__leq__35, balance__leq__262, balance__leq__3940, education!=secondary,...<br>metric strongness = 1.0<br>metric stab_min_bound = 0.5<br>metric stab_max_bound = 0.5<br>metric log_stab_min_bound = 1.0<br>metric log_stab_max_bound = 1.0<br>metric lstab_min_bound = -38.0<br>metric n_uncovered = 0<br>\", \"Concept 73<br><br>extent (len: 1): 504<br>intent (len: 26): age>=41, contact!=unknown, month!=jun, month!=feb, balance>=1026,...<br>new extent (len: 1): 504<br>new_intent (len: 3): age__leq__56, education=tertiary, marital=married<br>metric strongness = 1.0<br>metric stab_min_bound = 0.5<br>metric stab_max_bound = 0.5<br>metric log_stab_min_bound = 1.0<br>metric log_stab_max_bound = 1.0<br>metric lstab_min_bound = -38.0<br>metric n_uncovered = 0<br>\", \"Concept 44<br><br>extent (len: 4): 1467, 3743, 2821, 2685<br>intent (len: 20): marital!=married, age>=41, contact!=unknown, month!=jun, month!=feb,...<br>new extent (len: 4): 1467, 3743, 2821, 2685<br>new_intent (len: 4): age__leq__56, balance__leq__302, balance__leq__262, month!=jun<br>metric strongness = 1.0<br>metric stab_min_bound = 0.9375<br>metric stab_max_bound = 0.9375<br>metric log_stab_min_bound = 4.0<br>metric log_stab_max_bound = 4.0<br>metric lstab_min_bound = -35.0<br>metric n_uncovered = 0<br>\", \"Concept 63<br><br>extent (len: 4): 3751, 1124, 1736, 1695<br>intent (len: 22): contact!=unknown, month!=jun, month!=feb, month!=sep, loan__leq__0,...<br>new extent (len: 4): 3751, 1124, 1736, 1695<br>new_intent (len: 15): education!=tertiary, campaign__leq__4, month!=jun, month!=jul, month!=feb,...<br>metric strongness = 1.0<br>metric stab_min_bound = 0.9375<br>metric stab_max_bound = 0.9375<br>metric log_stab_min_bound = 4.0<br>metric log_stab_max_bound = 4.0<br>metric lstab_min_bound = -35.0<br>metric n_uncovered = 0<br>\", \"Concept 45<br><br>extent (len: 4): 1467, 975, 189, 684<br>intent (len: 20): contact!=unknown, month!=feb, month!=sep, loan__leq__0, age__leq__56,...<br>new extent (len: 4): 1467, 975, 189, 684<br>new_intent (len: 6): education!=tertiary, balance__leq__262, campaign>=2, month!=oct, age__leq__56,...<br>metric strongness = 1.0<br>metric stab_min_bound = 0.9375<br>metric stab_max_bound = 0.9375<br>metric log_stab_min_bound = 4.0<br>metric log_stab_max_bound = 4.0<br>metric lstab_min_bound = -35.0<br>metric n_uncovered = 0<br>\", \"Concept 53<br><br>extent (len: 4): 1928, 1672, 4108, 36<br>intent (len: 21): marital!=married, contact!=unknown, month!=jun, month!=feb, month!=sep,...<br>new extent (len: 4): 1928, 4108, 1672, 36<br>new_intent (len: 2): education!=secondary, month!=jul<br>metric strongness = 1.0<br>metric stab_min_bound = 0.9375<br>metric stab_max_bound = 0.9375<br>metric log_stab_min_bound = 4.0<br>metric log_stab_max_bound = 4.0<br>metric lstab_min_bound = -35.0<br>metric n_uncovered = 0<br>\", \"Concept 59<br><br>extent (len: 4): 3013, 3789, 3250, 1905<br>intent (len: 22): age>=46, age>=41, contact!=unknown, month!=jun, month!=feb,...<br>new extent (len: 4): 3013, 1905, 3789, 3250<br>new_intent (len: 4): age__leq__56, age>=46, marital=married, education=tertiary<br>metric strongness = 1.0<br>metric stab_min_bound = 0.9375<br>metric stab_max_bound = 0.9375<br>metric log_stab_min_bound = 4.0<br>metric log_stab_max_bound = 4.0<br>metric lstab_min_bound = -35.0<br>metric n_uncovered = 0<br>\", \"Concept 60<br><br>extent (len: 4): 880, 3317, 1754, 3684<br>intent (len: 22): age__leq__35, marital!=married, contact!=unknown, pdays__leq__185.0, month!=jun,...<br>new extent (len: 4): 880, 3317, 1754, 3684<br>new_intent (len: 7): month!=jun, month!=jul, age__leq__35, balance__leq__3940, marital!=married,...<br>metric strongness = 1.0<br>metric stab_min_bound = 0.9375<br>metric stab_max_bound = 0.9375<br>metric log_stab_min_bound = 4.0<br>metric log_stab_max_bound = 4.0<br>metric lstab_min_bound = -35.0<br>metric n_uncovered = 0<br>\", \"Concept 50<br><br>extent (len: 5): 4388, 4364, 1415, 849, 1467<br>intent (len: 21): age>=46, marital!=married, age>=41, contact!=unknown, month!=feb,...<br>new extent (len: 5): 4388, 4364, 1415, 849, 1467<br>new_intent (len: 3): age>=46, month!=oct, housing__leq__0<br>metric strongness = 1.0<br>metric stab_min_bound = 0.96875<br>metric stab_max_bound = 0.96875<br>metric log_stab_min_bound = 5.0<br>metric log_stab_max_bound = 5.0<br>metric lstab_min_bound = -34.0<br>metric n_uncovered = 0<br>\", \"Concept 48<br><br>extent (len: 5): 3202, 1672, 2583, 1230, 2014<br>intent (len: 21): age>=46, age>=41, contact!=unknown, month!=jun, month!=feb,...<br>new extent (len: 5): 3202, 1672, 2583, 1230, 2014<br>new_intent (len: 1): campaign>=2<br>metric strongness = 1.0<br>metric stab_min_bound = 0.96875<br>metric stab_max_bound = 0.96875<br>metric log_stab_min_bound = 5.0<br>metric log_stab_max_bound = 5.0<br>metric lstab_min_bound = -34.0<br>metric n_uncovered = 0<br>\", \"Concept 52<br><br>extent (len: 5): 1056, 328, 970, 2988, 3930<br>intent (len: 21): contact!=unknown, month!=jun, month!=feb, month!=sep, loan__leq__0,...<br>new extent (len: 5): 1056, 328, 970, 2988, 3930<br>new_intent (len: 2): month!=jul, job!=blue-collar<br>metric strongness = 1.0<br>metric stab_min_bound = 0.96875<br>metric stab_max_bound = 0.96875<br>metric log_stab_min_bound = 5.0<br>metric log_stab_max_bound = 5.0<br>metric lstab_min_bound = -34.0<br>metric n_uncovered = 0<br>\", \"Concept 66<br><br>extent (len: 5): 1181, 477, 4215, 1048, 347<br>intent (len: 23): contact!=unknown, pdays__leq__185.0, month!=jun, month!=feb, balance>=1026,...<br>new extent (len: 5): 1181, 477, 4215, 1048, 347<br>new_intent (len: 8): month!=jun, job!=admin., housing__leq__0, balance>=1026, loan__leq__0,...<br>metric strongness = 1.0<br>metric stab_min_bound = 0.96875<br>metric stab_max_bound = 0.96875<br>metric log_stab_min_bound = 5.0<br>metric log_stab_max_bound = 5.0<br>metric lstab_min_bound = -34.0<br>metric n_uncovered = 0<br>\", \"Concept 43<br><br>extent (len: 5): 3088, 2696, 4093, 110, 3658<br>intent (len: 20): marital!=married, contact!=unknown, pdays__leq__185.0, month!=feb, balance>=1026,...<br>new extent (len: 5): 3088, 2696, 4093, 110, 3658<br>new_intent (len: 5): balance>=1026, balance>=100, balance>=229, month!=oct, poutcome!=failure<br>metric strongness = 1.0<br>metric stab_min_bound = 0.96875<br>metric stab_max_bound = 0.96875<br>metric log_stab_min_bound = 5.0<br>metric log_stab_max_bound = 5.0<br>metric lstab_min_bound = -34.0<br>metric n_uncovered = 0<br>\", \"Concept 61<br><br>extent (len: 5): 3176, 1181, 1374, 880, 1048<br>intent (len: 22): contact!=unknown, pdays__leq__185.0, month!=jun, month!=feb, month!=sep,...<br>new extent (len: 5): 3176, 1181, 1374, 880, 1048<br>new_intent (len: 17): month!=aug, campaign__leq__4, month!=jun, education!=tertiary, month!=jul,...<br>metric strongness = 1.0<br>metric stab_min_bound = 0.96875<br>metric stab_max_bound = 0.96875<br>metric log_stab_min_bound = 5.0<br>metric log_stab_max_bound = 5.0<br>metric lstab_min_bound = -34.0<br>metric n_uncovered = 0<br>\", \"Concept 65<br><br>extent (len: 5): 3202, 2962, 3978, 2049, 347<br>intent (len: 23): age>=46, age>=41, contact!=unknown, month!=jun, month!=feb,...<br>new extent (len: 5): 3202, 2962, 3978, 2049, 347<br>new_intent (len: 2): marital=married, month!=feb<br>metric strongness = 1.0<br>metric stab_min_bound = 0.96875<br>metric stab_max_bound = 0.96875<br>metric log_stab_min_bound = 5.0<br>metric log_stab_max_bound = 5.0<br>metric lstab_min_bound = -34.0<br>metric n_uncovered = 0<br>\", \"Concept 62<br><br>extent (len: 5): 1469, 4009, 684, 1437, 1124<br>intent (len: 22): contact!=unknown, pdays__leq__185.0, month!=feb, month!=sep, loan__leq__0,...<br>new extent (len: 5): 1469, 4009, 684, 1437, 1124<br>new_intent (len: 4): balance__leq__302, balance__leq__262, housing__leq__0, job!=blue-collar<br>metric strongness = 1.0<br>metric stab_min_bound = 0.96875<br>metric stab_max_bound = 0.96875<br>metric log_stab_min_bound = 5.0<br>metric log_stab_max_bound = 5.0<br>metric lstab_min_bound = -34.0<br>metric n_uncovered = 0<br>\", \"Concept 58<br><br>extent (len: 5): 3202, 1056, 4160, 3301, 2122<br>intent (len: 22): age>=46, age>=41, contact!=unknown, month!=jun, month!=feb,...<br>new extent (len: 5): 3202, 1056, 4160, 3301, 2122<br>new_intent (len: 7): age>=46, month!=jul, marital=married, job!=blue-collar, month!=nov,...<br>metric strongness = 1.0<br>metric stab_min_bound = 0.96875<br>metric stab_max_bound = 0.96875<br>metric log_stab_min_bound = 5.0<br>metric log_stab_max_bound = 5.0<br>metric lstab_min_bound = -34.0<br>metric n_uncovered = 0<br>\", \"Concept 54<br><br>extent (len: 5): 684, 3297, 164, 110, 3658<br>intent (len: 21): age__leq__35, marital!=married, contact!=unknown, pdays__leq__185.0, month!=feb,...<br>new extent (len: 5): 684, 3297, 164, 110, 3658<br>new_intent (len: 4): age__leq__56, housing__leq__0, age__leq__35, campaign>=2<br>metric strongness = 1.0<br>metric stab_min_bound = 0.96875<br>metric stab_max_bound = 0.96875<br>metric log_stab_min_bound = 5.0<br>metric log_stab_max_bound = 5.0<br>metric lstab_min_bound = -34.0<br>metric n_uncovered = 0<br>\", \"Concept 51<br><br>extent (len: 5): 2431, 3064, 83, 2486, 3930<br>intent (len: 21): age>=41, contact!=unknown, month!=jun, month!=feb, month!=sep,...<br>new extent (len: 5): 2431, 3064, 83, 2486, 3930<br>new_intent (len: 3): age__leq__56, age>=41, job!=blue-collar<br>metric strongness = 1.0<br>metric stab_min_bound = 0.96875<br>metric stab_max_bound = 0.96875<br>metric log_stab_min_bound = 5.0<br>metric log_stab_max_bound = 5.0<br>metric lstab_min_bound = -34.0<br>metric n_uncovered = 0<br>\", \"Concept 38<br><br>extent (len: 5): 3248, 2421, 1672, 129, 2014<br>intent (len: 19): marital!=married, age>=41, month!=jun, month!=feb, balance>=1026,...<br>new extent (len: 2): 2014, 1672<br>new_intent (len: 4): age>=41, balance>=229, balance>=1026, month!=jul<br>metric strongness = 0.5<br>metric stab_min_bound = 0.8125<br>metric stab_max_bound = 0.9375<br>metric log_stab_min_bound = 2.415037499278844<br>metric log_stab_max_bound = 4.0<br>metric lstab_min_bound = -35.0<br>metric n_uncovered = 0<br>\", \"Concept 57<br><br>extent (len: 6): 3586, 464, 2188, 4215, 1048,...<br>intent (len: 21): contact!=unknown, pdays__leq__185.0, month!=jun, month!=feb, loan__leq__0,...<br>new extent (len: 6): 3586, 464, 2188, 4215, 1048,...<br>new_intent (len: 3): age__leq__56, campaign__leq__4, balance__leq__3940<br>metric strongness = 1.0<br>metric stab_min_bound = 0.984375<br>metric stab_max_bound = 0.984375<br>metric log_stab_min_bound = 6.0<br>metric log_stab_max_bound = 6.0<br>metric lstab_min_bound = -33.0<br>metric n_uncovered = 0<br>\", \"Concept 56<br><br>extent (len: 6): 3005, 1181, 4160, 2122, 1342,...<br>intent (len: 21): contact!=unknown, month!=jun, month!=feb, month!=sep, balance>=229,...<br>new extent (len: 6): 3005, 1181, 4160, 2122, 1342,...<br>new_intent (len: 4): month!=sep, month!=apr, month!=jun, pdays>=181.0<br>metric strongness = 1.0<br>metric stab_min_bound = 0.984375<br>metric stab_max_bound = 0.984375<br>metric log_stab_min_bound = 6.0<br>metric log_stab_max_bound = 6.0<br>metric lstab_min_bound = -33.0<br>metric n_uncovered = 0<br>\", \"Concept 47<br><br>extent (len: 6): 3088, 4093, 70, 4159, 3256,...<br>intent (len: 20): contact!=unknown, pdays__leq__185.0, month!=jun, month!=feb, month!=sep,...<br>new extent (len: 6): 3088, 4093, 70, 4159, 3256,...<br>new_intent (len: 10): month!=jun, housing__leq__0, month!=feb, month!=sep, month!=jan,...<br>metric strongness = 1.0<br>metric stab_min_bound = 0.984375<br>metric stab_max_bound = 0.984375<br>metric log_stab_min_bound = 6.0<br>metric log_stab_max_bound = 6.0<br>metric lstab_min_bound = -33.0<br>metric n_uncovered = 0<br>\", \"Concept 55<br><br>extent (len: 7): 2431, 1653, 3239, 2444, 83,...<br>intent (len: 21): contact!=unknown, month!=jun, month!=feb, month!=sep, loan__leq__0,...<br>new extent (len: 7): 2431, 3239, 1653, 2444, 83,...<br>new_intent (len: 2): age__leq__56, marital=married<br>metric strongness = 1.0<br>metric stab_min_bound = 0.9921875<br>metric stab_max_bound = 0.9921875<br>metric log_stab_min_bound = 7.0<br>metric log_stab_max_bound = 7.0<br>metric lstab_min_bound = -32.0<br>metric n_uncovered = 0<br>\", \"Concept 46<br><br>extent (len: 7): 1349, 1469, 1653, 1083, 3270,...<br>intent (len: 20): contact!=unknown, pdays__leq__185.0, month!=feb, month!=sep, loan__leq__0,...<br>new extent (len: 7): 1349, 1469, 1653, 1083, 3270,...<br>new_intent (len: 5): education!=tertiary, job!=admin., marital=married, month!=sep, month!=apr<br>metric strongness = 1.0<br>metric stab_min_bound = 0.9921875<br>metric stab_max_bound = 0.9921875<br>metric log_stab_min_bound = 7.0<br>metric log_stab_max_bound = 7.0<br>metric lstab_min_bound = -32.0<br>metric n_uncovered = 0<br>\", \"Concept 42<br><br>extent (len: 7): 4229, 1437, 36, 3311, 1124,...<br>intent (len: 20): contact!=unknown, month!=jun, month!=feb, month!=sep, loan__leq__0,...<br>new extent (len: 5): 4229, 1437, 36, 1124, 3789<br>new_intent (len: 3): balance__leq__302, balance__leq__262, month!=mar<br>metric strongness = 0.7<br>metric stab_min_bound = 0.96875<br>metric stab_max_bound = 0.984375<br>metric log_stab_min_bound = 5.0<br>metric log_stab_max_bound = 6.0<br>metric lstab_min_bound = -33.0<br>metric n_uncovered = 0<br>\", \"Concept 49<br><br>extent (len: 7): 3202, 2962, 3558, 3978, 2049,...<br>intent (len: 21): age>=46, age>=41, contact!=unknown, month!=jun, balance>=1026,...<br>new extent (len: 1): 984<br>new_intent (len: 4): campaign__leq__4, month!=oct, age>=55, education!=secondary<br>metric strongness = 0.6363636363636364<br>metric stab_min_bound = 0.734375<br>metric stab_max_bound = 0.75<br>metric log_stab_min_bound = 1.9125371587496607<br>metric log_stab_max_bound = 2.0<br>metric lstab_min_bound = -37.0<br>metric n_uncovered = 0<br>\", \"Concept 35<br><br>extent (len: 7): 3088, 2213, 4108, 1672, 1928,...<br>intent (len: 19): marital!=married, contact!=unknown, month!=jun, month!=feb, month!=sep,...<br>new extent (len: 2): 3088, 2213<br>new_intent (len: 18): month!=aug, campaign__leq__4, education!=tertiary, month!=jun, job!=admin.,...<br>metric strongness = 0.23333333333333334<br>metric stab_min_bound = 0.859375<br>metric stab_max_bound = 0.875<br>metric log_stab_min_bound = 2.830074998557688<br>metric log_stab_max_bound = 3.0<br>metric lstab_min_bound = -36.0<br>metric n_uncovered = 0<br>\", \"Concept 36<br><br>extent (len: 8): 3527, 2213, 4229, 4009, 1928,...<br>intent (len: 19): marital!=married, contact!=unknown, pdays__leq__185.0, month!=jun, month!=feb,...<br>new extent (len: 8): 3243, 2213, 4229, 4009, 1928,...<br>new_intent (len: 2): campaign__leq__4, month!=jun<br>metric strongness = 1.0<br>metric stab_min_bound = 0.99609375<br>metric stab_max_bound = 0.99609375<br>metric log_stab_min_bound = 8.0<br>metric log_stab_max_bound = 8.0<br>metric lstab_min_bound = -31.0<br>metric n_uncovered = 0<br>\", \"Concept 31<br><br>extent (len: 8): 1754, 1485, 1374, 984, 2471,...<br>intent (len: 18): month!=aug, month!=jun, job!=admin., month!=jul, housing__leq__0,...<br>new extent (len: 8): 1754, 1374, 1485, 984, 2471,...<br>new_intent (len: 3): balance>=100, pdays__leq__185.0, poutcome!=failure<br>metric strongness = 1.0<br>metric stab_min_bound = 0.99609375<br>metric stab_max_bound = 0.99609375<br>metric log_stab_min_bound = 8.0<br>metric log_stab_max_bound = 8.0<br>metric lstab_min_bound = -31.0<br>metric n_uncovered = 0<br>\", \"Concept 64<br><br>extent (len: 9): 2675, 2917, 941, 1060, 3835,...<br>intent (len: 22): contact!=unknown, pdays__leq__185.0, month!=jun, month!=sep, loan__leq__0,...<br>new extent (len: 9): 2675, 2917, 941, 3835, 2969,...<br>new_intent (len: 11): month!=jun, education=tertiary, month!=jul, month!=sep, month!=jan,...<br>metric strongness = 1.0<br>metric stab_min_bound = 0.998046875<br>metric stab_max_bound = 0.998046875<br>metric log_stab_min_bound = 9.0<br>metric log_stab_max_bound = 9.0<br>metric lstab_min_bound = -30.0<br>metric n_uncovered = 0<br>\", \"Concept 40<br><br>extent (len: 10): 3586, 347, 49, 464, 1653,...<br>intent (len: 19): contact!=unknown, pdays__leq__185.0, month!=jun, month!=feb, loan__leq__0,...<br>new extent (len: 10): 3586, 1653, 464, 1083, 4215,...<br>new_intent (len: 2): marital=married, campaign__leq__4<br>metric strongness = 1.0<br>metric stab_min_bound = 0.9990234375<br>metric stab_max_bound = 0.9990234375<br>metric log_stab_min_bound = 10.0<br>metric log_stab_max_bound = 10.0<br>metric lstab_min_bound = -29.0<br>metric n_uncovered = 0<br>\", \"Concept 21<br><br>extent (len: 10): 4388, 2821, 4364, 1672, 2685,...<br>intent (len: 16): month!=aug, campaign__leq__4, education!=tertiary, month!=jul, month!=feb,...<br>new extent (len: 2): 1672, 36<br>new_intent (len: 2): education!=tertiary, balance__leq__3940<br>metric strongness = 0.6666666666666666<br>metric stab_min_bound = 0.953125<br>metric stab_max_bound = 0.96875<br>metric log_stab_min_bound = 4.415037499278844<br>metric log_stab_max_bound = 5.0<br>metric lstab_min_bound = -34.0<br>metric n_uncovered = 0<br>\", \"Concept 30<br><br>extent (len: 11): 492, 1952, 3088, 3586, 1653,...<br>intent (len: 17): month!=aug, month!=jun, education!=tertiary, age__leq__56, month!=feb,...<br>new extent (len: 11): 1952, 3586, 492, 3088, 1653,...<br>new_intent (len: 2): age__leq__56, month!=jan<br>metric strongness = 1.0<br>metric stab_min_bound = 0.99951171875<br>metric stab_max_bound = 0.99951171875<br>metric log_stab_min_bound = 11.0<br>metric log_stab_max_bound = 11.0<br>metric lstab_min_bound = -28.0<br>metric n_uncovered = 0<br>\", \"Concept 34<br><br>extent (len: 11): 1303, 3202, 2421, 4160, 1672,...<br>intent (len: 19): age>=41, contact!=unknown, month!=jun, month!=feb, balance>=1026,...<br>new extent (len: 4): 1303, 4160, 3978, 2049<br>new_intent (len: 10): month!=jun, job!=admin., housing__leq__0, month!=feb, balance>=1026,...<br>metric strongness = 0.55<br>metric stab_min_bound = 0.982421875<br>metric stab_max_bound = 0.984375<br>metric log_stab_min_bound = 5.830074998557688<br>metric log_stab_max_bound = 6.0<br>metric lstab_min_bound = -33.0<br>metric n_uncovered = 0<br>\", \"Concept 41<br><br>extent (len: 12): 3695, 289, 2675, 619, 1754,...<br>intent (len: 19): contact!=unknown, pdays__leq__185.0, month!=jun, month!=feb, month!=sep,...<br>new extent (len: 12): 3695, 289, 2675, 619, 1754,...<br>new_intent (len: 10): campaign__leq__4, month!=jun, education=tertiary, month!=jul, month!=sep,...<br>metric strongness = 1.0<br>metric stab_min_bound = 0.999755859375<br>metric stab_max_bound = 0.999755859375<br>metric log_stab_min_bound = 12.0<br>metric log_stab_max_bound = 12.0<br>metric lstab_min_bound = -27.0<br>metric n_uncovered = 0<br>\", \"Concept 39<br><br>extent (len: 12): 2992, 4224, 3589, 2372, 2847,...<br>intent (len: 19): contact!=unknown, pdays__leq__185.0, month!=jun, month!=feb, month!=sep,...<br>new extent (len: 12): 2992, 4224, 1905, 2372, 2847,...<br>new_intent (len: 9): month!=aug, month!=jun, month!=jul, month!=feb, month!=sep,...<br>metric strongness = 1.0<br>metric stab_min_bound = 0.999755859375<br>metric stab_max_bound = 0.999755859375<br>metric log_stab_min_bound = 12.0<br>metric log_stab_max_bound = 12.0<br>metric lstab_min_bound = -27.0<br>metric n_uncovered = 0<br>\", \"Concept 16<br><br>extent (len: 12): 2449, 3835, 1754, 1374, 1485,...<br>intent (len: 15): month!=aug, month!=jun, job!=admin., month!=jul, housing__leq__0,...<br>new extent (len: 3): 328, 3835, 2449<br>new_intent (len: 10): month!=aug, month!=jun, job!=admin., month!=jul, housing__leq__0,...<br>metric strongness = 0.4444444444444444<br>metric stab_min_bound = 0.93701171875<br>metric stab_max_bound = 0.9375<br>metric log_stab_min_bound = 3.988772744576746<br>metric log_stab_max_bound = 4.0<br>metric lstab_min_bound = -35.0<br>metric n_uncovered = 0<br>\", \"Concept 25<br><br>extent (len: 12): 3202, 2962, 3558, 4160, 1672,...<br>intent (len: 17): month!=aug, age>=46, month!=jun, job!=admin., month!=jul,...<br>new extent (len: 1): 4160<br>new_intent (len: 8): month!=jun, job!=admin., age>=46, balance>=1026, loan__leq__0,...<br>metric strongness = 0.3157894736842105<br>metric stab_min_bound = 0.9609375<br>metric stab_max_bound = 0.96875<br>metric log_stab_min_bound = 4.678071905112637<br>metric log_stab_max_bound = 5.0<br>metric lstab_min_bound = -34.0<br>metric n_uncovered = 0<br>\", \"Concept 37<br><br>extent (len: 13): 3088, 3930, 2431, 1056, 1653,...<br>intent (len: 19): contact!=unknown, month!=jun, month!=feb, month!=sep, loan__leq__0,...<br>new extent (len: 2): 3088, 1083<br>new_intent (len: 1): education!=tertiary<br>metric strongness = 0.9285714285714286<br>metric stab_min_bound = 0.98046875<br>metric stab_max_bound = 0.984375<br>metric log_stab_min_bound = 5.678071905112637<br>metric log_stab_max_bound = 6.0<br>metric lstab_min_bound = -33.0<br>metric n_uncovered = 0<br>\", \"Concept 28<br><br>extent (len: 13): 3527, 2213, 4229, 4009, 684,...<br>intent (len: 17): month!=aug, job!=admin., month!=jul, month!=feb, month!=jan,...<br>new extent (len: 1): 849<br>new_intent (len: 2): month!=jul, balance__leq__3940<br>metric strongness = 0.7647058823529411<br>metric stab_min_bound = 0.96484375<br>metric stab_max_bound = 0.96875<br>metric log_stab_min_bound = 4.830074998557688<br>metric log_stab_max_bound = 5.0<br>metric lstab_min_bound = -34.0<br>metric n_uncovered = 0<br>\", \"Concept 33<br><br>extent (len: 14): 1469, 199, 3005, 2055, 4160,...<br>intent (len: 18): month!=aug, campaign__leq__4, education!=tertiary, month!=jul, month!=feb,...<br>new extent (len: 14): 1469, 199, 3005, 2055, 4160,...<br>new_intent (len: 0): \\u2205<br>metric strongness = 1.0<br>metric stab_min_bound = 0.99993896484375<br>metric stab_max_bound = 0.99993896484375<br>metric log_stab_min_bound = 14.0<br>metric log_stab_max_bound = 14.0<br>metric lstab_min_bound = -25.0<br>metric n_uncovered = 0<br>\", \"Concept 13<br><br>extent (len: 14): 4388, 2821, 4364, 4229, 2421,...<br>intent (len: 14): month!=aug, campaign__leq__4, month!=jul, month!=feb, month!=jan,...<br>new extent (len: 3): 2696, 4229, 2014<br>new_intent (len: 5): campaign__leq__4, month!=feb, month!=jan, month!=sep, marital!=married<br>metric strongness = 0.56<br>metric stab_min_bound = 0.9373779296875<br>metric stab_max_bound = 0.9375<br>metric log_stab_min_bound = 3.997184984392946<br>metric log_stab_max_bound = 4.0<br>metric lstab_min_bound = -35.0<br>metric n_uncovered = 0<br>\", \"Concept 29<br><br>extent (len: 16): 1469, 199, 3005, 1181, 2055,...<br>intent (len: 17): month!=aug, campaign__leq__4, education!=tertiary, month!=jul, month!=feb,...<br>new extent (len: 0): \\u2205<br>new_intent (len: 4): education!=tertiary, balance>=100, balance>=229, balance__leq__3940<br>metric strongness = 0.9411764705882353<br>metric stab_min_bound = 0.7490234375<br>metric stab_max_bound = 0.75<br>metric log_stab_min_bound = 1.994375450806122<br>metric log_stab_max_bound = 2.0<br>metric lstab_min_bound = -37.0<br>metric n_uncovered = 0<br>\", \"Concept 20<br><br>extent (len: 16): 492, 1952, 3088, 3586, 4224,...<br>intent (len: 15): month!=aug, month!=jun, education!=tertiary, month!=feb, balance>=100,...<br>new extent (len: 1): 4224<br>new_intent (len: 8): month!=aug, month!=jun, education!=tertiary, month!=feb, balance>=100,...<br>metric strongness = 0.9411764705882353<br>metric stab_min_bound = 0.9521484375<br>metric stab_max_bound = 0.96875<br>metric log_stab_min_bound = 4.385290155884792<br>metric log_stab_max_bound = 5.0<br>metric lstab_min_bound = -34.0<br>metric n_uncovered = 0<br>\", \"Concept 17<br><br>extent (len: 16): 3527, 3088, 2213, 4229, 4009,...<br>intent (len: 15): month!=aug, job!=admin., month!=feb, month!=jan, month!=sep,...<br>new extent (len: 0): \\u2205<br>new_intent (len: 5): job!=admin., month!=sep, marital!=married, job!=blue-collar, month!=apr<br>metric strongness = 0.6956521739130435<br>metric stab_min_bound = 0.87451171875<br>metric stab_max_bound = 0.875<br>metric log_stab_min_bound = 2.994375450806122<br>metric log_stab_max_bound = 3.0<br>metric lstab_min_bound = -36.0<br>metric n_uncovered = 0<br>\", \"Concept 19<br><br>extent (len: 16): 3248, 503, 3088, 2421, 4458,...<br>intent (len: 15): month!=aug, campaign__leq__4, month!=jun, job!=admin., month!=feb,...<br>new extent (len: 9): 3088, 4458, 1754, 1166, 4093,...<br>new_intent (len: 15): month!=aug, campaign__leq__4, month!=jun, job!=admin., housing__leq__0,...<br>metric strongness = 0.16326530612244897<br>metric stab_min_bound = 0.99945068359375<br>metric stab_max_bound = 0.99951171875<br>metric log_stab_min_bound = 10.830074998557688<br>metric log_stab_max_bound = 11.0<br>metric lstab_min_bound = -28.0<br>metric n_uncovered = 0<br>\", \"Concept 32<br><br>extent (len: 18): 3088, 3930, 2431, 2449, 3064,...<br>intent (len: 18): campaign__leq__4, pdays>=181.0, month!=jun, job!=admin., month!=feb,...<br>new extent (len: 4): 4093, 3502, 4458, 2449<br>new_intent (len: 1): month!=nov<br>metric strongness = 0.8181818181818182<br>metric stab_min_bound = 0.9686279296875<br>metric stab_max_bound = 0.96875<br>metric log_stab_min_bound = 4.994375450806122<br>metric log_stab_max_bound = 5.0<br>metric lstab_min_bound = -34.0<br>metric n_uncovered = 0<br>\", \"Concept 26<br><br>extent (len: 20): 1653, 4458, 83, 412, 3502,...<br>intent (len: 17): campaign__leq__4, pdays>=181.0, month!=jun, job!=admin., month!=feb,...<br>new extent (len: 1): 3589<br>new_intent (len: 2): month!=jan, balance__leq__3940<br>metric strongness = 0.6060606060606061<br>metric stab_min_bound = 0.7499980926513672<br>metric stab_max_bound = 0.75<br>metric log_stab_min_bound = 1.9999889931523325<br>metric log_stab_max_bound = 2.0<br>metric lstab_min_bound = -37.0<br>metric n_uncovered = 0<br>\", \"Concept 27<br><br>extent (len: 22): 4458, 3502, 1437, 504, 4224,...<br>intent (len: 17): month!=aug, campaign__leq__4, month!=jun, job!=admin., month!=jul,...<br>new extent (len: 11): 4388, 4224, 2449, 1303, 3256,...<br>new_intent (len: 3): month!=jun, education!=secondary, job!=blue-collar<br>metric strongness = 0.4888888888888889<br>metric stab_min_bound = 0.9999651908874512<br>metric stab_max_bound = 0.999969482421875<br>metric log_stab_min_bound = 14.810175441119982<br>metric log_stab_max_bound = 15.0<br>metric lstab_min_bound = -24.0<br>metric n_uncovered = 0<br>\", \"Concept 23<br><br>extent (len: 23): 3370, 4458, 684, 70, 347,...<br>intent (len: 16): month!=aug, age__leq__56, month!=feb, housing__leq__0, month!=jan,...<br>new extent (len: 23): 3370, 4458, 684, 70, 347,...<br>new_intent (len: 4): month!=aug, month!=apr, balance__leq__3940, job!=blue-collar<br>metric strongness = 1.0<br>metric stab_min_bound = 0.9999998807907104<br>metric stab_max_bound = 0.9999998807907104<br>metric log_stab_min_bound = 23.0<br>metric log_stab_max_bound = 23.0<br>metric lstab_min_bound = -16.0<br>metric n_uncovered = 0<br>\", \"Concept 24<br><br>extent (len: 24): 3695, 1653, 4458, 1374, 70,...<br>intent (len: 16): month!=aug, campaign__leq__4, month!=jun, age__leq__56, month!=feb,...<br>new extent (len: 24): 3695, 1653, 4458, 1374, 70,...<br>new_intent (len: 7): month!=aug, campaign__leq__4, month!=jun, loan__leq__0, month!=sep,...<br>metric strongness = 1.0<br>metric stab_min_bound = 0.9999999403953552<br>metric stab_max_bound = 0.9999999403953552<br>metric log_stab_min_bound = 24.0<br>metric log_stab_max_bound = 24.0<br>metric lstab_min_bound = -15.0<br>metric n_uncovered = 0<br>\", \"Concept 12<br><br>extent (len: 25): 3695, 1469, 199, 1181, 2055,...<br>intent (len: 13): month!=aug, campaign__leq__4, month!=jul, month!=feb, marital=married,...<br>new extent (len: 7): 3695, 2449, 3202, 3978, 2049,...<br>new_intent (len: 8): month!=aug, campaign__leq__4, month!=jul, month!=feb, marital=married,...<br>metric strongness = 0.8333333333333334<br>metric stab_min_bound = 0.9980458617210388<br>metric stab_max_bound = 0.998046875<br>metric log_stab_min_bound = 8.99925172558861<br>metric log_stab_max_bound = 9.0<br>metric lstab_min_bound = -30.0<br>metric n_uncovered = 0<br>\", \"Concept 18<br><br>extent (len: 25): 3695, 1469, 199, 3586, 1653,...<br>intent (len: 15): month!=aug, campaign__leq__4, month!=feb, housing__leq__0, month!=jan,...<br>new extent (len: 14): 3695, 199, 3586, 3088, 855,...<br>new_intent (len: 5): campaign__leq__4, housing__leq__0, balance>=100, balance>=229, month!=oct<br>metric strongness = 0.625<br>metric stab_min_bound = 0.9999957084655762<br>metric stab_max_bound = 0.9999961853027344<br>metric log_stab_min_bound = 17.830074998557688<br>metric log_stab_max_bound = 18.0<br>metric lstab_min_bound = -21.0<br>metric n_uncovered = 0<br>\", \"Concept 15<br><br>extent (len: 25): 619, 1653, 4458, 2122, 83,...<br>intent (len: 15): campaign__leq__4, pdays>=181.0, month!=jun, job!=admin., month!=feb,...<br>new extent (len: 1): 619<br>new_intent (len: 10): campaign__leq__4, month!=jun, job!=admin., pdays>=181.0, month!=feb,...<br>metric strongness = 0.46296296296296297<br>metric stab_min_bound = 0.9687490463256836<br>metric stab_max_bound = 0.96875<br>metric log_stab_min_bound = 4.999955973113173<br>metric log_stab_max_bound = 5.0<br>metric lstab_min_bound = -34.0<br>metric n_uncovered = 0<br>\", \"Concept 22<br><br>extent (len: 29): 3586, 3370, 1653, 233, 70,...<br>intent (len: 16): month!=aug, campaign__leq__4, month!=jun, job!=admin., month!=jan,...<br>new extent (len: 29): 3586, 3370, 1653, 233, 70,...<br>new_intent (len: 5): month!=aug, month!=jun, month!=jan, balance__leq__3940, month!=oct<br>metric strongness = 1.0<br>metric stab_min_bound = 0.9999999981373549<br>metric stab_max_bound = 0.9999999981373549<br>metric log_stab_min_bound = 29.0<br>metric log_stab_max_bound = 29.0<br>metric lstab_min_bound = -10.0<br>metric n_uncovered = 0<br>\", \"Concept 14<br><br>extent (len: 34): 1469, 4458, 684, 3331, 3502,...<br>intent (len: 14): month!=aug, campaign__leq__4, job!=admin., month!=jul, month!=feb,...<br>new extent (len: 4): 3297, 328, 1048, 3331<br>new_intent (len: 7): campaign__leq__4, job!=admin., month!=feb, loan__leq__0, month!=sep,...<br>metric strongness = 0.27419354838709675<br>metric stab_min_bound = 0.9997558547183871<br>metric stab_max_bound = 0.999755859375<br>metric log_stab_min_bound = 11.999972483038283<br>metric log_stab_max_bound = 12.0<br>metric lstab_min_bound = -27.0<br>metric n_uncovered = 0<br>\", \"Concept 9<br><br>extent (len: 47): 3695, 289, 3586, 619, 3370,...<br>intent (len: 9): age__leq__56, month!=feb, housing__leq__0, month!=jan, month!=may,...<br>new extent (len: 4): 3751, 3586, 4159, 1695<br>new_intent (len: 5): month!=feb, housing__leq__0, month!=jan, month!=nov, age__leq__56<br>metric strongness = 0.94<br>metric stab_min_bound = 0.9999998211569618<br>metric stab_max_bound = 0.9999998807907104<br>metric log_stab_min_bound = 22.414802704739976<br>metric log_stab_max_bound = 23.0<br>metric lstab_min_bound = -16.0<br>metric n_uncovered = 0<br>\", \"Concept 10<br><br>extent (len: 48): 3695, 1469, 199, 3586, 3370,...<br>intent (len: 10): month!=aug, month!=feb, month!=jan, month!=mar, loan__leq__0,...<br>new extent (len: 9): 3385, 1303, 3370, 464, 2176,...<br>new_intent (len: 5): month!=aug, month!=feb, month!=jan, month!=nov, pdays__leq__185.0<br>metric strongness = 0.4<br>metric stab_min_bound = 0.9999998805577661<br>metric stab_max_bound = 0.9999998807907104<br>metric log_stab_min_bound = 22.997183611214382<br>metric log_stab_max_bound = 23.0<br>metric lstab_min_bound = -16.0<br>metric n_uncovered = 0<br>\", \"Concept 8<br><br>extent (len: 49): 1469, 2055, 2122, 2696, 3331,...<br>intent (len: 9): month!=aug, month!=jul, job!=blue-collar, month!=nov, month!=may,...<br>new extent (len: 18): 1469, 2917, 492, 1952, 4224,...<br>new_intent (len: 2): age>=41, job!=blue-collar<br>metric strongness = 0.22580645161290322<br>metric stab_min_bound = 0.9999999999599503<br>metric stab_max_bound = 0.9999999999708962<br>metric log_stab_min_bound = 34.539416120098274<br>metric log_stab_max_bound = 35.0<br>metric lstab_min_bound = -4.0<br>metric n_uncovered = 0<br>\", \"Concept 11<br><br>extent (len: 53): 1469, 3586, 619, 3370, 1653,...<br>intent (len: 10): campaign__leq__4, job!=admin., loan__leq__0, month!=may, pdays>=38.0,...<br>new extent (len: 5): 3751, 619, 1303, 4229, 3243<br>new_intent (len: 3): campaign__leq__4, loan__leq__0, job!=admin.<br>metric strongness = 0.9137931034482759<br>metric stab_min_bound = 0.999999940394833<br>metric stab_max_bound = 0.9999999403953552<br>metric log_stab_min_bound = 23.99998735933054<br>metric log_stab_max_bound = 24.0<br>metric lstab_min_bound = -15.0<br>metric n_uncovered = 0<br>\", \"Concept 6<br><br>extent (len: 66): 1469, 3586, 619, 3370, 1653,...<br>intent (len: 6): pdays>=38.0, poutcome=success, contact!=unknown, month!=apr, pdays__leq__185.0,...<br>new extent (len: 5): 3176, 110, 1695, 3931, 156<br>new_intent (len: 3): pdays>=38.0, month!=apr, pdays__leq__185.0<br>metric strongness = 0.8148148148148148<br>metric stab_min_bound = 0.9998779296874991<br>metric stab_max_bound = 0.9998779296875<br>metric log_stab_min_bound = 12.999999999989504<br>metric log_stab_max_bound = 13.0<br>metric lstab_min_bound = -26.0<br>metric n_uncovered = 0<br>\", \"Concept 7<br><br>extent (len: 75): 1469, 3586, 3370, 2055, 4458,...<br>intent (len: 7): month!=aug, month!=jul, month!=nov, month!=may, contact!=unknown,...<br>new extent (len: 9): 98, 3385, 3370, 3835, 2176,...<br>new_intent (len: 6): month!=aug, month!=jul, month!=nov, month!=may, month!=apr,...<br>metric strongness = 0.14734774066797643<br>metric stab_min_bound = 0.9999999850983841<br>metric stab_max_bound = 0.9999999850988388<br>metric log_stab_min_bound = 25.999955973113174<br>metric log_stab_max_bound = 26.0<br>metric lstab_min_bound = -13.0<br>metric n_uncovered = 0<br>\", \"Concept 4<br><br>extent (len: 88): 1374, 2122, 2847, 2251, 3498,...<br>intent (len: 4): poutcome=success, contact!=unknown, month!=may, poutcome!=failure<br>new extent (len: 3): 3202, 1056, 2583<br>new_intent (len: 1): month!=may<br>metric strongness = 0.822429906542056<br>metric stab_min_bound = 0.9999999999704414<br>metric stab_max_bound = 0.9999999999708962<br>metric log_stab_min_bound = 34.97763218697155<br>metric log_stab_max_bound = 35.0<br>metric lstab_min_bound = -4.0<br>metric n_uncovered = 0<br>\", \"Concept 3<br><br>extent (len: 95): 1374, 2122, 2847, 2251, 3498,...<br>intent (len: 3): poutcome=success, contact!=unknown, poutcome!=failure<br>new extent (len: 0): \\u2205<br>new_intent (len: 2): poutcome=success, poutcome!=failure<br>metric strongness = 0.7480314960629921<br>metric stab_min_bound = 0.9921874981373549<br>metric stab_max_bound = 0.9921875<br>metric log_stab_min_bound = 6.999999656034739<br>metric log_stab_max_bound = 7.0<br>metric lstab_min_bound = -32.0<br>metric n_uncovered = 0<br>\", \"Concept 5<br><br>extent (len: 105): 1374, 2122, 83, 2847, 3502,...<br>intent (len: 5): loan__leq__0, month!=mar, month!=may, pdays>=38.0, contact!=unknown<br>new extent (len: 8): 3005, 2055, 3331, 2847, 3978,...<br>new_intent (len: 2): month!=may, loan__leq__0<br>metric strongness = 0.23127753303964757<br>metric stab_min_bound = 1.0<br>metric stab_max_bound = 1.0<br>metric log_stab_min_bound = inf<br>metric log_stab_max_bound = inf<br>metric lstab_min_bound = 18.0<br>metric n_uncovered = 0<br>\", \"Concept 2<br><br>extent (len: 116): 1374, 2122, 83, 2847, 3502,...<br>intent (len: 3): pdays>=38.0, contact!=unknown, month!=mar<br>new extent (len: 1): 3743<br>new_intent (len: 2): month!=mar, pdays>=38.0<br>metric strongness = 0.14967741935483872<br>metric stab_min_bound = 0.99951171875<br>metric stab_max_bound = 0.99951171875<br>metric log_stab_min_bound = 11.0<br>metric log_stab_max_bound = 11.0<br>metric lstab_min_bound = -28.0<br>metric n_uncovered = 0<br>\", \"Concept 1<br><br>extent (len: 148): 1374, 2122, 83, 2847, 3502,...<br>intent (len: 1): contact!=unknown<br>new extent (len: 0): \\u2205<br>new_intent (len: 1): contact!=unknown<br>metric strongness = 0.04629340006255865<br>metric stab_min_bound = 0.9999999997671692<br>metric stab_max_bound = 0.9999999997671694<br>metric log_stab_min_bound = 31.999999312069562<br>metric log_stab_max_bound = 32.0<br>metric lstab_min_bound = -7.0<br>metric n_uncovered = 148<br>\", \"Concept 0<br><br>extent (len: 149): 1374, 2122, 83, 2847, 3502,...<br>intent (len: 0): \\u2205<br>new extent (len: 0): \\u2205<br>new_intent (len: 0): \\u2205<br>metric strongness = 0.0329573103295731<br>metric stab_min_bound = 0.5<br>metric stab_max_bound = 0.5<br>metric log_stab_min_bound = 1.0<br>metric log_stab_max_bound = 1.0<br>metric lstab_min_bound = -38.0<br>\", \"Concept 83<br><br>extent (len: 0): \\u2205<br>intent (len: 39): age>=46, age__leq__35, marital!=married, age>=41, contact!=unknown,...<br>new extent (len: 0): \\u2205<br>new_intent (len: 0): \\u2205<br>metric strongness = 0<br>metric stab_min_bound = None<br>metric stab_max_bound = None<br>metric log_stab_min_bound = None<br>metric log_stab_max_bound = None<br>metric lstab_min_bound = None<br>\"], \"marker\": {\"color\": [0.5, 0.5, 0.5, 0.5, 0.5, 0.5, 0.5, 0.5, 0.5, 0.5, 0.5, 0.5, 0.5, 0.5, 0.5, 0.5, 0.9375, 0.9375, 0.9375, 0.9375, 0.9375, 0.9375, 0.96875, 0.96875, 0.96875, 0.96875, 0.96875, 0.96875, 0.96875, 0.96875, 0.96875, 0.96875, 0.96875, 0.8125, 0.984375, 0.984375, 0.984375, 0.9921875, 0.9921875, 0.96875, 0.734375, 0.859375, 0.99609375, 0.99609375, 0.998046875, 0.9990234375, 0.953125, 0.99951171875, 0.982421875, 0.999755859375, 0.999755859375, 0.93701171875, 0.9609375, 0.98046875, 0.96484375, 0.99993896484375, 0.9373779296875, 0.7490234375, 0.9521484375, 0.87451171875, 0.99945068359375, 0.9686279296875, 0.7499980926513672, 0.9999651908874512, 0.9999998807907104, 0.9999999403953552, 0.9980458617210388, 0.9999957084655762, 0.9687490463256836, 0.9999999981373549, 0.9997558547183871, 0.9999998211569618, 0.9999998805577661, 0.9999999999599503, 0.999999940394833, 0.9998779296874991, 0.9999999850983841, 0.9999999999704414, 0.9921874981373549, 1.0, 0.99951171875, 0.9999999997671692, 0.5, \"grey\"], \"colorbar\": {\"thickness\": 15, \"title\": {\"side\": \"right\", \"text\": \"y_mean\"}, \"xanchor\": \"left\"}, \"colorscale\": [[0.0, \"rgb(103,0,31)\"], [0.1, \"rgb(178,24,43)\"], [0.2, \"rgb(214,96,77)\"], [0.3, \"rgb(244,165,130)\"], [0.4, \"rgb(253,219,199)\"], [0.5, \"rgb(247,247,247)\"], [0.6, \"rgb(209,229,240)\"], [0.7, \"rgb(146,197,222)\"], [0.8, \"rgb(67,147,195)\"], [0.9, \"rgb(33,102,172)\"], [1.0, \"rgb(5,48,97)\"]], \"line\": {\"width\": 2}, \"reversescale\": true, \"showscale\": true, \"size\": 10}, \"mode\": \"markers+text\", \"text\": [\"n: 12<br>n: 1\", \"n: 6<br>n: 1\", \"n: 4<br>n: 1\", \"n: 21<br>n: 1\", \"n: 4<br>n: 1\", \"n: 4<br>n: 1\", \"n: 6<br>n: 1\", \"n: 7<br>n: 1\", \"n: 6<br>n: 1\", \"n: 23<br>n: 1\", \"n: 11<br>n: 1\", \"n: 21<br>n: 1\", \"n: 21<br>n: 1\", \"n: 12<br>n: 1\", \"n: 11<br>n: 1\", \"n: 3<br>n: 1\", \"n: 4<br>n: 4\", \"n: 15<br>n: 4\", \"n: 6<br>n: 4\", \"n: 2<br>n: 4\", \"n: 4<br>n: 4\", \"n: 7<br>n: 4\", \"n: 3<br>n: 5\", \"n: 1<br>n: 5\", \"n: 2<br>n: 5\", \"n: 8<br>n: 5\", \"n: 5<br>n: 5\", \"n: 17<br>n: 5\", \"n: 2<br>n: 5\", \"n: 4<br>n: 5\", \"n: 7<br>n: 5\", \"n: 4<br>n: 5\", \"n: 3<br>n: 5\", \"n: 4<br>n: 2\", \"n: 3<br>n: 6\", \"n: 4<br>n: 6\", \"n: 10<br>n: 6\", \"n: 2<br>n: 7\", \"n: 5<br>n: 7\", \"n: 3<br>n: 5\", \"n: 4<br>n: 1\", \"n: 18<br>n: 2\", \"n: 2<br>n: 8\", \"n: 3<br>n: 8\", \"n: 11<br>n: 9\", \"n: 2<br>n: 10\", \"n: 2<br>n: 2\", \"n: 2<br>n: 11\", \"n: 10<br>n: 4\", \"n: 10<br>n: 12\", \"n: 9<br>n: 12\", \"n: 10<br>n: 3\", \"n: 8<br>n: 1\", \"n: 1<br>n: 2\", \"n: 2<br>n: 1\", \"<br>n: 14\", \"n: 5<br>n: 3\", \"n: 4<br>\", \"n: 8<br>n: 1\", \"n: 5<br>\", \"n: 15<br>n: 9\", \"n: 1<br>n: 4\", \"n: 2<br>n: 1\", \"n: 3<br>n: 11\", \"n: 4<br>n: 23\", \"n: 7<br>n: 24\", \"n: 8<br>n: 7\", \"n: 5<br>n: 14\", \"n: 10<br>n: 1\", \"n: 5<br>n: 29\", \"n: 7<br>n: 4\", \"n: 5<br>n: 4\", \"n: 5<br>n: 9\", \"n: 2<br>n: 18\", \"n: 3<br>n: 5\", \"n: 3<br>n: 5\", \"n: 6<br>n: 9\", \"n: 1<br>n: 3\", \"n: 2<br>\", \"n: 2<br>n: 8\", \"n: 2<br>n: 1\", \"n: 1<br>\", \"<br>\", \"<br>\"], \"textposition\": \"middle right\", \"type\": \"scatter\", \"x\": [-9.5, -0.5, 4.5, 7.5, 5.5, 0.5, 1.5, -2.5, -5.5, 2.5, -1.5, 3.5, 4.5, 5.5, -2.5, -8.5, -4.5, 0.5, -1.5, 5.5, -7.5, -0.5, 0.5, -12.5, -0.5, 3.5, 1.5, 6.5, -3.5, 0.5, -6.5, -1.5, -0.5, -0.5, -1.5, 12.5, 6.5, 0.5, 2.5, -0.5, -11.5, 2.5, 0.5, -5.5, 1.5, 2.5, -10.5, 7.5, -7.5, 9.5, 8.5, -4.5, -6.5, 1.5, 3.5, 11.5, -5.5, 6.5, 1.5, -4.5, -0.5, 4.5, -3.5, -0.5, 5.5, 10.5, -1.5, -2.5, -3.5, 3.5, -4.5, 4.5, -2.5, -6.5, 2.5, -3.5, -1.5, -2.5, 0.5, -5.5, 1.5, 0.5, 0.0, 0.0], \"y\": [5, 7, 5, 6, 4, 7, 7, 4, 4, 7, 4, 7, 7, 6, 8, 5, 4, 6, 6, 7, 5, 4, 4, 5, 2, 6, 4, 7, 4, 5, 5, 3, 3, 8, 5, 5, 5, 2, 4, 5, 5, 8, 3, 5, 5, 5, 5, 5, 6, 5, 5, 6, 6, 3, 4, 5, 6, 6, 6, 5, 9, 4, 5, 6, 5, 5, 7, 5, 6, 5, 7, 6, 6, 7, 6, 7, 8, 7, 8, 7, 8, 9, 10, 1]}],\n",
       "                        {\"height\": 500, \"hovermode\": \"closest\", \"margin\": {\"b\": 20, \"l\": 5, \"r\": 5, \"t\": 40}, \"showlegend\": false, \"template\": {\"data\": {\"bar\": [{\"error_x\": {\"color\": \"#2a3f5f\"}, \"error_y\": {\"color\": \"#2a3f5f\"}, \"marker\": {\"line\": {\"color\": \"#E5ECF6\", \"width\": 0.5}}, \"type\": \"bar\"}], \"barpolar\": [{\"marker\": {\"line\": {\"color\": \"#E5ECF6\", \"width\": 0.5}}, \"type\": \"barpolar\"}], \"carpet\": [{\"aaxis\": {\"endlinecolor\": \"#2a3f5f\", \"gridcolor\": \"white\", \"linecolor\": \"white\", \"minorgridcolor\": \"white\", \"startlinecolor\": \"#2a3f5f\"}, \"baxis\": {\"endlinecolor\": \"#2a3f5f\", \"gridcolor\": \"white\", \"linecolor\": \"white\", \"minorgridcolor\": \"white\", \"startlinecolor\": \"#2a3f5f\"}, \"type\": \"carpet\"}], \"choropleth\": [{\"colorbar\": {\"outlinewidth\": 0, \"ticks\": \"\"}, \"type\": \"choropleth\"}], \"contour\": [{\"colorbar\": {\"outlinewidth\": 0, \"ticks\": \"\"}, \"colorscale\": [[0.0, \"#0d0887\"], [0.1111111111111111, \"#46039f\"], [0.2222222222222222, \"#7201a8\"], [0.3333333333333333, \"#9c179e\"], [0.4444444444444444, \"#bd3786\"], [0.5555555555555556, \"#d8576b\"], [0.6666666666666666, \"#ed7953\"], [0.7777777777777778, \"#fb9f3a\"], [0.8888888888888888, \"#fdca26\"], [1.0, \"#f0f921\"]], \"type\": \"contour\"}], \"contourcarpet\": [{\"colorbar\": {\"outlinewidth\": 0, \"ticks\": \"\"}, \"type\": \"contourcarpet\"}], \"heatmap\": [{\"colorbar\": {\"outlinewidth\": 0, \"ticks\": \"\"}, \"colorscale\": [[0.0, \"#0d0887\"], [0.1111111111111111, \"#46039f\"], [0.2222222222222222, \"#7201a8\"], [0.3333333333333333, \"#9c179e\"], [0.4444444444444444, \"#bd3786\"], [0.5555555555555556, \"#d8576b\"], [0.6666666666666666, \"#ed7953\"], [0.7777777777777778, \"#fb9f3a\"], [0.8888888888888888, \"#fdca26\"], [1.0, \"#f0f921\"]], \"type\": \"heatmap\"}], \"heatmapgl\": [{\"colorbar\": {\"outlinewidth\": 0, \"ticks\": \"\"}, \"colorscale\": [[0.0, \"#0d0887\"], [0.1111111111111111, \"#46039f\"], [0.2222222222222222, \"#7201a8\"], [0.3333333333333333, \"#9c179e\"], [0.4444444444444444, \"#bd3786\"], [0.5555555555555556, \"#d8576b\"], [0.6666666666666666, \"#ed7953\"], [0.7777777777777778, \"#fb9f3a\"], [0.8888888888888888, \"#fdca26\"], [1.0, \"#f0f921\"]], \"type\": \"heatmapgl\"}], \"histogram\": [{\"marker\": {\"colorbar\": {\"outlinewidth\": 0, \"ticks\": \"\"}}, \"type\": \"histogram\"}], \"histogram2d\": [{\"colorbar\": {\"outlinewidth\": 0, \"ticks\": \"\"}, \"colorscale\": [[0.0, \"#0d0887\"], [0.1111111111111111, \"#46039f\"], [0.2222222222222222, \"#7201a8\"], [0.3333333333333333, \"#9c179e\"], [0.4444444444444444, \"#bd3786\"], [0.5555555555555556, \"#d8576b\"], [0.6666666666666666, \"#ed7953\"], [0.7777777777777778, \"#fb9f3a\"], [0.8888888888888888, \"#fdca26\"], [1.0, \"#f0f921\"]], \"type\": \"histogram2d\"}], \"histogram2dcontour\": [{\"colorbar\": {\"outlinewidth\": 0, \"ticks\": \"\"}, \"colorscale\": [[0.0, \"#0d0887\"], [0.1111111111111111, \"#46039f\"], [0.2222222222222222, \"#7201a8\"], [0.3333333333333333, \"#9c179e\"], [0.4444444444444444, \"#bd3786\"], [0.5555555555555556, \"#d8576b\"], [0.6666666666666666, \"#ed7953\"], [0.7777777777777778, \"#fb9f3a\"], [0.8888888888888888, \"#fdca26\"], [1.0, \"#f0f921\"]], \"type\": \"histogram2dcontour\"}], \"mesh3d\": [{\"colorbar\": {\"outlinewidth\": 0, \"ticks\": \"\"}, \"type\": \"mesh3d\"}], \"parcoords\": [{\"line\": {\"colorbar\": {\"outlinewidth\": 0, \"ticks\": \"\"}}, \"type\": \"parcoords\"}], \"pie\": [{\"automargin\": true, \"type\": \"pie\"}], \"scatter\": [{\"marker\": {\"colorbar\": {\"outlinewidth\": 0, \"ticks\": \"\"}}, \"type\": \"scatter\"}], \"scatter3d\": [{\"line\": {\"colorbar\": {\"outlinewidth\": 0, \"ticks\": \"\"}}, \"marker\": {\"colorbar\": {\"outlinewidth\": 0, \"ticks\": \"\"}}, \"type\": \"scatter3d\"}], \"scattercarpet\": [{\"marker\": {\"colorbar\": {\"outlinewidth\": 0, \"ticks\": \"\"}}, \"type\": \"scattercarpet\"}], \"scattergeo\": [{\"marker\": {\"colorbar\": {\"outlinewidth\": 0, \"ticks\": \"\"}}, \"type\": \"scattergeo\"}], \"scattergl\": [{\"marker\": {\"colorbar\": {\"outlinewidth\": 0, \"ticks\": \"\"}}, \"type\": \"scattergl\"}], \"scattermapbox\": [{\"marker\": {\"colorbar\": {\"outlinewidth\": 0, \"ticks\": \"\"}}, \"type\": \"scattermapbox\"}], \"scatterpolar\": [{\"marker\": {\"colorbar\": {\"outlinewidth\": 0, \"ticks\": \"\"}}, \"type\": \"scatterpolar\"}], \"scatterpolargl\": [{\"marker\": {\"colorbar\": {\"outlinewidth\": 0, \"ticks\": \"\"}}, \"type\": \"scatterpolargl\"}], \"scatterternary\": [{\"marker\": {\"colorbar\": {\"outlinewidth\": 0, \"ticks\": \"\"}}, \"type\": \"scatterternary\"}], \"surface\": [{\"colorbar\": {\"outlinewidth\": 0, \"ticks\": \"\"}, \"colorscale\": [[0.0, \"#0d0887\"], [0.1111111111111111, \"#46039f\"], [0.2222222222222222, \"#7201a8\"], [0.3333333333333333, \"#9c179e\"], [0.4444444444444444, \"#bd3786\"], [0.5555555555555556, \"#d8576b\"], [0.6666666666666666, \"#ed7953\"], [0.7777777777777778, \"#fb9f3a\"], [0.8888888888888888, \"#fdca26\"], [1.0, \"#f0f921\"]], \"type\": \"surface\"}], \"table\": [{\"cells\": {\"fill\": {\"color\": \"#EBF0F8\"}, \"line\": {\"color\": \"white\"}}, \"header\": {\"fill\": {\"color\": \"#C8D4E3\"}, \"line\": {\"color\": \"white\"}}, \"type\": \"table\"}]}, \"layout\": {\"annotationdefaults\": {\"arrowcolor\": \"#2a3f5f\", \"arrowhead\": 0, \"arrowwidth\": 1}, \"coloraxis\": {\"colorbar\": {\"outlinewidth\": 0, \"ticks\": \"\"}}, \"colorscale\": {\"diverging\": [[0, \"#8e0152\"], [0.1, \"#c51b7d\"], [0.2, \"#de77ae\"], [0.3, \"#f1b6da\"], [0.4, \"#fde0ef\"], [0.5, \"#f7f7f7\"], [0.6, \"#e6f5d0\"], [0.7, \"#b8e186\"], [0.8, \"#7fbc41\"], [0.9, \"#4d9221\"], [1, \"#276419\"]], \"sequential\": [[0.0, \"#0d0887\"], [0.1111111111111111, \"#46039f\"], [0.2222222222222222, \"#7201a8\"], [0.3333333333333333, \"#9c179e\"], [0.4444444444444444, \"#bd3786\"], [0.5555555555555556, \"#d8576b\"], [0.6666666666666666, \"#ed7953\"], [0.7777777777777778, \"#fb9f3a\"], [0.8888888888888888, \"#fdca26\"], [1.0, \"#f0f921\"]], \"sequentialminus\": [[0.0, \"#0d0887\"], [0.1111111111111111, \"#46039f\"], [0.2222222222222222, \"#7201a8\"], [0.3333333333333333, \"#9c179e\"], [0.4444444444444444, \"#bd3786\"], [0.5555555555555556, \"#d8576b\"], [0.6666666666666666, \"#ed7953\"], [0.7777777777777778, \"#fb9f3a\"], [0.8888888888888888, \"#fdca26\"], [1.0, \"#f0f921\"]]}, \"colorway\": [\"#636efa\", \"#EF553B\", \"#00cc96\", \"#ab63fa\", \"#FFA15A\", \"#19d3f3\", \"#FF6692\", \"#B6E880\", \"#FF97FF\", \"#FECB52\"], \"font\": {\"color\": \"#2a3f5f\"}, \"geo\": {\"bgcolor\": \"white\", \"lakecolor\": \"white\", \"landcolor\": \"#E5ECF6\", \"showlakes\": true, \"showland\": true, \"subunitcolor\": \"white\"}, \"hoverlabel\": {\"align\": \"left\"}, \"hovermode\": \"closest\", \"mapbox\": {\"style\": \"light\"}, \"paper_bgcolor\": \"white\", \"plot_bgcolor\": \"#E5ECF6\", \"polar\": {\"angularaxis\": {\"gridcolor\": \"white\", \"linecolor\": \"white\", \"ticks\": \"\"}, \"bgcolor\": \"#E5ECF6\", \"radialaxis\": {\"gridcolor\": \"white\", \"linecolor\": \"white\", \"ticks\": \"\"}}, \"scene\": {\"xaxis\": {\"backgroundcolor\": \"#E5ECF6\", \"gridcolor\": \"white\", \"gridwidth\": 2, \"linecolor\": \"white\", \"showbackground\": true, \"ticks\": \"\", \"zerolinecolor\": \"white\"}, \"yaxis\": {\"backgroundcolor\": \"#E5ECF6\", \"gridcolor\": \"white\", \"gridwidth\": 2, \"linecolor\": \"white\", \"showbackground\": true, \"ticks\": \"\", \"zerolinecolor\": \"white\"}, \"zaxis\": {\"backgroundcolor\": \"#E5ECF6\", \"gridcolor\": \"white\", \"gridwidth\": 2, \"linecolor\": \"white\", \"showbackground\": true, \"ticks\": \"\", \"zerolinecolor\": \"white\"}}, \"shapedefaults\": {\"line\": {\"color\": \"#2a3f5f\"}}, \"ternary\": {\"aaxis\": {\"gridcolor\": \"white\", \"linecolor\": \"white\", \"ticks\": \"\"}, \"baxis\": {\"gridcolor\": \"white\", \"linecolor\": \"white\", \"ticks\": \"\"}, \"bgcolor\": \"#E5ECF6\", \"caxis\": {\"gridcolor\": \"white\", \"linecolor\": \"white\", \"ticks\": \"\"}}, \"title\": {\"x\": 0.05}, \"xaxis\": {\"automargin\": true, \"gridcolor\": \"white\", \"linecolor\": \"white\", \"ticks\": \"\", \"title\": {\"standoff\": 15}, \"zerolinecolor\": \"white\", \"zerolinewidth\": 2}, \"yaxis\": {\"automargin\": true, \"gridcolor\": \"white\", \"linecolor\": \"white\", \"ticks\": \"\", \"title\": {\"standoff\": 15}, \"zerolinecolor\": \"white\", \"zerolinewidth\": 2}}}, \"title\": {\"font\": {\"size\": 16}, \"text\": \"Concept Lattice\"}, \"width\": 1000, \"xaxis\": {\"showgrid\": false, \"showticklabels\": false, \"zeroline\": false}, \"yaxis\": {\"showgrid\": false, \"showticklabels\": false, \"zeroline\": false}},\n",
       "                        {\"responsive\": true}\n",
       "                    ).then(function(){\n",
       "                            \n",
       "var gd = document.getElementById('ee4c0114-248c-42e4-aa27-486e1651c2f2');\n",
       "var x = new MutationObserver(function (mutations, observer) {{\n",
       "        var display = window.getComputedStyle(gd).display;\n",
       "        if (!display || display === 'none') {{\n",
       "            console.log([gd, 'removed!']);\n",
       "            Plotly.purge(gd);\n",
       "            observer.disconnect();\n",
       "        }}\n",
       "}});\n",
       "\n",
       "// Listen for the removal of the full notebook cells\n",
       "var notebookContainer = gd.closest('#notebook-container');\n",
       "if (notebookContainer) {{\n",
       "    x.observe(notebookContainer, {childList: true});\n",
       "}}\n",
       "\n",
       "// Listen for the clearing of the current output cell\n",
       "var outputEl = gd.closest('.output');\n",
       "if (outputEl) {{\n",
       "    x.observe(outputEl, {childList: true});\n",
       "}}\n",
       "\n",
       "                        })\n",
       "                };\n",
       "                });\n",
       "            </script>\n",
       "        </div>"
      ]
     },
     "metadata": {},
     "output_type": "display_data"
    }
   ],
   "source": [
    "fig.show()"
   ]
  },
  {
   "cell_type": "code",
   "execution_count": null,
   "metadata": {},
   "outputs": [],
   "source": []
  },
  {
   "cell_type": "code",
   "execution_count": 941,
   "metadata": {},
   "outputs": [
    {
     "data": {
      "text/plain": [
       "(149, 60, 0.9395973154362416)"
      ]
     },
     "execution_count": 941,
     "metadata": {},
     "output_type": "execute_result"
    }
   ],
   "source": [
    "stab_concepts = [c for c in fm.get_concepts() if fcai.get_not_none(c._metrics['stab_min_bound'],-100)>=0.9]\n",
    "len(calc_cover_of_concepts(stab_concepts)), len(stab_concepts), len(calc_cover_of_concepts([c for c in stab_concepts if c._metrics['strongness']>=0.5]))/flg.sum()"
   ]
  },
  {
   "cell_type": "code",
   "execution_count": 938,
   "metadata": {},
   "outputs": [],
   "source": [
    "fm_stab = fcai.FormalManager(cntx)\n",
    "fm_stab._concepts = [fcai.Concept(c.get_extent(), c.get_intent(), metrics=c._metrics.copy()) for c in stab_concepts+[top_concept]]#+[bottom_concept]\n",
    "for idx, c in enumerate(fm_stab.sort_concepts(fm_stab.get_concepts())):\n",
    "    c._idx = idx\n",
    "fm_stab.calc_strongness(cntx_full)\n",
    "fm_stab.construct_lattice()\n",
    "fm_stab.calc_stability_approx()\n",
    "#concepts = fm.get_concepts()"
   ]
  },
  {
   "cell_type": "code",
   "execution_count": 939,
   "metadata": {},
   "outputs": [],
   "source": [
    "fig_stab = fm_stab.get_plotly_fig(color_by='strongness', sort_by='strongness', level_sort=3, new_attrs_lim=1, new_objs_lim=1)"
   ]
  },
  {
   "cell_type": "code",
   "execution_count": 940,
   "metadata": {},
   "outputs": [
    {
     "data": {
      "application/vnd.plotly.v1+json": {
       "config": {
        "plotlyServerURL": "https://plot.ly"
       },
       "data": [
        {
         "hoverinfo": "none",
         "line": {
          "color": "#888",
          "width": 0.5
         },
         "mode": "lines",
         "type": "scatter",
         "x": [
          -3.5,
          -8.5,
          null,
          1,
          1,
          null,
          1,
          -2,
          null,
          -1,
          -1,
          null,
          -1.5,
          0.5,
          null,
          -7.5,
          0,
          null,
          -7.5,
          -3,
          null,
          -2.5,
          -1.5,
          null,
          -1.5,
          -8.5,
          null,
          -1.5,
          -1,
          null,
          -10.5,
          -7,
          null,
          -10.5,
          -6,
          null,
          -0.5,
          3.5,
          null,
          4,
          2,
          null,
          4,
          0,
          null,
          -6.5,
          -2,
          null,
          3,
          1.5,
          null,
          3,
          0.5,
          null,
          -9.5,
          -6,
          null,
          1.5,
          -1,
          null,
          1.5,
          -2,
          null,
          1.5,
          3,
          null,
          -5.5,
          -3,
          null,
          -0.5,
          -3.5,
          null,
          0.5,
          -2.5,
          null,
          -0.5,
          2,
          null,
          -0.5,
          -0.5,
          null,
          -0.5,
          -2,
          null,
          7,
          2,
          null,
          6.5,
          3,
          null,
          0.5,
          3.5,
          null,
          1.5,
          -1.5,
          null,
          0.5,
          0,
          null,
          2.5,
          -3.5,
          null,
          -4.5,
          -4,
          null,
          2.5,
          3,
          null,
          2.5,
          -2,
          null,
          3.5,
          2,
          null,
          3.5,
          -2,
          null,
          -8.5,
          -5,
          null,
          7.5,
          2,
          null,
          -7,
          -3,
          null,
          9.5,
          5,
          null,
          8.5,
          3,
          null,
          -4,
          -2,
          null,
          -6,
          -3,
          null,
          3.5,
          -2.5,
          null,
          -3.5,
          -2,
          null,
          6,
          2,
          null,
          6,
          1,
          null,
          -5,
          -3,
          null,
          2,
          0,
          null,
          2,
          1,
          null,
          -0.5,
          0,
          null,
          -2.5,
          -3,
          null,
          0,
          -1,
          null,
          5.5,
          5,
          null,
          5.5,
          -2,
          null,
          10.5,
          5,
          null,
          2,
          1.5,
          null,
          2,
          0.5,
          null,
          -1.5,
          -2,
          null,
          -3,
          -2,
          null,
          4.5,
          3,
          null,
          4.5,
          -2,
          null,
          -1,
          -0.5,
          null,
          5,
          1,
          null,
          -2,
          -2,
          null,
          -3,
          -0.5,
          null,
          3,
          0,
          null,
          3,
          1,
          null,
          0,
          1.5,
          null,
          -0.5,
          0.5,
          null,
          1,
          1.5,
          null,
          1.5,
          0.5,
          null,
          -2,
          0.5,
          null,
          0.5,
          0.5,
          null,
          0.5,
          0,
          null
         ],
         "y": [
          2,
          3,
          null,
          4,
          5,
          null,
          4,
          5,
          null,
          4,
          5,
          null,
          6,
          7,
          null,
          3,
          4,
          null,
          3,
          5,
          null,
          2,
          3,
          null,
          2,
          3,
          null,
          2,
          5,
          null,
          3,
          4,
          null,
          3,
          4,
          null,
          1,
          2,
          null,
          4,
          5,
          null,
          4,
          5,
          null,
          3,
          4,
          null,
          5,
          6,
          null,
          5,
          6,
          null,
          3,
          4,
          null,
          3,
          5,
          null,
          3,
          4,
          null,
          3,
          4,
          null,
          3,
          4,
          null,
          2,
          3,
          null,
          2,
          3,
          null,
          3,
          4,
          null,
          3,
          6,
          null,
          3,
          5,
          null,
          4,
          5,
          null,
          3,
          4,
          null,
          1,
          2,
          null,
          2,
          3,
          null,
          3,
          4,
          null,
          2,
          3,
          null,
          3,
          4,
          null,
          3,
          4,
          null,
          3,
          5,
          null,
          3,
          4,
          null,
          3,
          5,
          null,
          3,
          4,
          null,
          3,
          4,
          null,
          4,
          5,
          null,
          3,
          4,
          null,
          3,
          4,
          null,
          4,
          5,
          null,
          4,
          5,
          null,
          2,
          3,
          null,
          3,
          4,
          null,
          4,
          5,
          null,
          4,
          5,
          null,
          4,
          5,
          null,
          4,
          5,
          null,
          4,
          5,
          null,
          7,
          8,
          null,
          3,
          4,
          null,
          4,
          5,
          null,
          3,
          4,
          null,
          3,
          5,
          null,
          3,
          4,
          null,
          5,
          6,
          null,
          5,
          6,
          null,
          3,
          4,
          null,
          4,
          5,
          null,
          3,
          4,
          null,
          3,
          5,
          null,
          5,
          6,
          null,
          4,
          5,
          null,
          4,
          5,
          null,
          5,
          6,
          null,
          4,
          5,
          null,
          4,
          5,
          null,
          5,
          6,
          null,
          6,
          7,
          null,
          5,
          6,
          null,
          6,
          7,
          null,
          5,
          6,
          null,
          6,
          7,
          null,
          7,
          8,
          null
         ]
        },
        {
         "hoverinfo": "text",
         "hovertext": [
          "Concept 39<br><br>extent (len: 4): 1467, 3743, 2821, 2685<br>intent (len: 20): marital!=married, age>=41, contact!=unknown, month!=jun, month!=feb,...<br>new extent (len: 4): 1467, 3743, 2821, 2685<br>new_intent (len: 4): age__leq__56, balance__leq__302, balance__leq__262, month!=jun<br>metric strongness = 1.0<br>metric stab_min_bound = None<br>metric stab_max_bound = None<br>metric log_stab_min_bound = None<br>metric log_stab_max_bound = None<br>metric lstab_min_bound = None<br>metric n_uncovered = 0<br>",
          "Concept 57<br><br>extent (len: 4): 3751, 1124, 1736, 1695<br>intent (len: 22): contact!=unknown, month!=jun, month!=feb, month!=sep, loan__leq__0,...<br>new extent (len: 4): 3751, 1124, 1736, 1695<br>new_intent (len: 15): education!=tertiary, campaign__leq__4, month!=jun, month!=jul, month!=feb,...<br>metric strongness = 1.0<br>metric stab_min_bound = None<br>metric stab_max_bound = None<br>metric log_stab_min_bound = None<br>metric log_stab_max_bound = None<br>metric lstab_min_bound = None<br>metric n_uncovered = 0<br>",
          "Concept 40<br><br>extent (len: 4): 1467, 975, 189, 684<br>intent (len: 20): contact!=unknown, month!=feb, month!=sep, loan__leq__0, age__leq__56,...<br>new extent (len: 4): 1467, 975, 189, 684<br>new_intent (len: 6): education!=tertiary, balance__leq__262, campaign>=2, month!=oct, age__leq__56,...<br>metric strongness = 1.0<br>metric stab_min_bound = None<br>metric stab_max_bound = None<br>metric log_stab_min_bound = None<br>metric log_stab_max_bound = None<br>metric lstab_min_bound = None<br>metric n_uncovered = 0<br>",
          "Concept 47<br><br>extent (len: 4): 1928, 1672, 4108, 36<br>intent (len: 21): marital!=married, contact!=unknown, month!=jun, month!=feb, month!=sep,...<br>new extent (len: 4): 1928, 4108, 1672, 36<br>new_intent (len: 20): marital!=married, month!=jun, month!=feb, month!=sep, loan__leq__0,...<br>metric strongness = 1.0<br>metric stab_min_bound = None<br>metric stab_max_bound = None<br>metric log_stab_min_bound = None<br>metric log_stab_max_bound = None<br>metric lstab_min_bound = None<br>metric n_uncovered = 0<br>",
          "Concept 53<br><br>extent (len: 4): 3013, 3789, 3250, 1905<br>intent (len: 22): age>=46, age>=41, contact!=unknown, month!=jun, month!=feb,...<br>new extent (len: 4): 3013, 1905, 3789, 3250<br>new_intent (len: 4): age__leq__56, age>=46, marital=married, education=tertiary<br>metric strongness = 1.0<br>metric stab_min_bound = None<br>metric stab_max_bound = None<br>metric log_stab_min_bound = None<br>metric log_stab_max_bound = None<br>metric lstab_min_bound = None<br>metric n_uncovered = 0<br>",
          "Concept 54<br><br>extent (len: 4): 880, 3317, 1754, 3684<br>intent (len: 22): age__leq__35, marital!=married, contact!=unknown, pdays__leq__185.0, month!=jun,...<br>new extent (len: 4): 880, 3317, 1754, 3684<br>new_intent (len: 7): month!=jun, month!=jul, age__leq__35, balance__leq__3940, marital!=married,...<br>metric strongness = 1.0<br>metric stab_min_bound = None<br>metric stab_max_bound = None<br>metric log_stab_min_bound = None<br>metric log_stab_max_bound = None<br>metric lstab_min_bound = None<br>metric n_uncovered = 0<br>",
          "Concept 44<br><br>extent (len: 5): 4388, 4364, 1415, 849, 1467<br>intent (len: 21): age>=46, marital!=married, age>=41, contact!=unknown, month!=feb,...<br>new extent (len: 5): 4388, 4364, 1415, 849, 1467<br>new_intent (len: 3): age>=46, month!=oct, housing__leq__0<br>metric strongness = 1.0<br>metric stab_min_bound = None<br>metric stab_max_bound = None<br>metric log_stab_min_bound = None<br>metric log_stab_max_bound = None<br>metric lstab_min_bound = None<br>metric n_uncovered = 0<br>",
          "Concept 43<br><br>extent (len: 5): 3202, 1672, 2583, 1230, 2014<br>intent (len: 21): age>=46, age>=41, contact!=unknown, month!=jun, month!=feb,...<br>new extent (len: 5): 3202, 1672, 2583, 1230, 2014<br>new_intent (len: 1): campaign>=2<br>metric strongness = 1.0<br>metric stab_min_bound = None<br>metric stab_max_bound = None<br>metric log_stab_min_bound = None<br>metric log_stab_max_bound = None<br>metric lstab_min_bound = None<br>metric n_uncovered = 0<br>",
          "Concept 46<br><br>extent (len: 5): 1056, 328, 970, 2988, 3930<br>intent (len: 21): contact!=unknown, month!=jun, month!=feb, month!=sep, loan__leq__0,...<br>new extent (len: 5): 1056, 328, 970, 2988, 3930<br>new_intent (len: 2): month!=jul, job!=blue-collar<br>metric strongness = 1.0<br>metric stab_min_bound = None<br>metric stab_max_bound = None<br>metric log_stab_min_bound = None<br>metric log_stab_max_bound = None<br>metric lstab_min_bound = None<br>metric n_uncovered = 0<br>",
          "Concept 60<br><br>extent (len: 5): 1181, 477, 4215, 1048, 347<br>intent (len: 23): contact!=unknown, pdays__leq__185.0, month!=jun, month!=feb, balance>=1026,...<br>new extent (len: 5): 1181, 477, 4215, 1048, 347<br>new_intent (len: 8): month!=jun, job!=admin., housing__leq__0, balance>=1026, loan__leq__0,...<br>metric strongness = 1.0<br>metric stab_min_bound = None<br>metric stab_max_bound = None<br>metric log_stab_min_bound = None<br>metric log_stab_max_bound = None<br>metric lstab_min_bound = None<br>metric n_uncovered = 0<br>",
          "Concept 38<br><br>extent (len: 5): 3088, 2696, 4093, 110, 3658<br>intent (len: 20): marital!=married, contact!=unknown, pdays__leq__185.0, month!=feb, balance>=1026,...<br>new extent (len: 5): 3088, 2696, 4093, 110, 3658<br>new_intent (len: 10): job!=admin., balance>=1026, month!=sep, balance>=100, balance>=229,...<br>metric strongness = 1.0<br>metric stab_min_bound = None<br>metric stab_max_bound = None<br>metric log_stab_min_bound = None<br>metric log_stab_max_bound = None<br>metric lstab_min_bound = None<br>metric n_uncovered = 0<br>",
          "Concept 55<br><br>extent (len: 5): 3176, 1181, 1374, 880, 1048<br>intent (len: 22): contact!=unknown, pdays__leq__185.0, month!=jun, month!=feb, month!=sep,...<br>new extent (len: 5): 3176, 1181, 1374, 880, 1048<br>new_intent (len: 17): month!=aug, campaign__leq__4, month!=jun, education!=tertiary, month!=jul,...<br>metric strongness = 1.0<br>metric stab_min_bound = None<br>metric stab_max_bound = None<br>metric log_stab_min_bound = None<br>metric log_stab_max_bound = None<br>metric lstab_min_bound = None<br>metric n_uncovered = 0<br>",
          "Concept 59<br><br>extent (len: 5): 3202, 2962, 3978, 2049, 347<br>intent (len: 23): age>=46, age>=41, contact!=unknown, month!=jun, month!=feb,...<br>new extent (len: 5): 3202, 2962, 3978, 2049, 347<br>new_intent (len: 6): campaign__leq__4, month!=feb, marital=married, age>=55, education!=secondary,...<br>metric strongness = 1.0<br>metric stab_min_bound = None<br>metric stab_max_bound = None<br>metric log_stab_min_bound = None<br>metric log_stab_max_bound = None<br>metric lstab_min_bound = None<br>metric n_uncovered = 0<br>",
          "Concept 56<br><br>extent (len: 5): 1469, 4009, 684, 1437, 1124<br>intent (len: 22): contact!=unknown, pdays__leq__185.0, month!=feb, month!=sep, loan__leq__0,...<br>new extent (len: 5): 1469, 4009, 684, 1437, 1124<br>new_intent (len: 4): balance__leq__302, balance__leq__262, housing__leq__0, job!=blue-collar<br>metric strongness = 1.0<br>metric stab_min_bound = None<br>metric stab_max_bound = None<br>metric log_stab_min_bound = None<br>metric log_stab_max_bound = None<br>metric lstab_min_bound = None<br>metric n_uncovered = 0<br>",
          "Concept 52<br><br>extent (len: 5): 3202, 1056, 4160, 3301, 2122<br>intent (len: 22): age>=46, age>=41, contact!=unknown, month!=jun, month!=feb,...<br>new extent (len: 5): 3202, 1056, 4160, 3301, 2122<br>new_intent (len: 7): age>=46, month!=jul, marital=married, job!=blue-collar, month!=nov,...<br>metric strongness = 1.0<br>metric stab_min_bound = None<br>metric stab_max_bound = None<br>metric log_stab_min_bound = None<br>metric log_stab_max_bound = None<br>metric lstab_min_bound = None<br>metric n_uncovered = 0<br>",
          "Concept 48<br><br>extent (len: 5): 684, 3297, 164, 110, 3658<br>intent (len: 21): age__leq__35, marital!=married, contact!=unknown, pdays__leq__185.0, month!=feb,...<br>new extent (len: 5): 684, 3297, 164, 110, 3658<br>new_intent (len: 4): age__leq__56, housing__leq__0, age__leq__35, campaign>=2<br>metric strongness = 1.0<br>metric stab_min_bound = None<br>metric stab_max_bound = None<br>metric log_stab_min_bound = None<br>metric log_stab_max_bound = None<br>metric lstab_min_bound = None<br>metric n_uncovered = 0<br>",
          "Concept 45<br><br>extent (len: 5): 2431, 3064, 83, 2486, 3930<br>intent (len: 21): age>=41, contact!=unknown, month!=jun, month!=feb, month!=sep,...<br>new extent (len: 5): 2431, 3064, 83, 2486, 3930<br>new_intent (len: 3): age__leq__56, age>=41, job!=blue-collar<br>metric strongness = 1.0<br>metric stab_min_bound = None<br>metric stab_max_bound = None<br>metric log_stab_min_bound = None<br>metric log_stab_max_bound = None<br>metric lstab_min_bound = None<br>metric n_uncovered = 0<br>",
          "Concept 51<br><br>extent (len: 6): 3586, 464, 2188, 4215, 1048,...<br>intent (len: 21): contact!=unknown, pdays__leq__185.0, month!=jun, month!=feb, loan__leq__0,...<br>new extent (len: 6): 3586, 464, 2188, 4215, 1048,...<br>new_intent (len: 3): age__leq__56, campaign__leq__4, balance__leq__3940<br>metric strongness = 1.0<br>metric stab_min_bound = None<br>metric stab_max_bound = None<br>metric log_stab_min_bound = None<br>metric log_stab_max_bound = None<br>metric lstab_min_bound = None<br>metric n_uncovered = 0<br>",
          "Concept 50<br><br>extent (len: 6): 3005, 1181, 4160, 2122, 1342,...<br>intent (len: 21): contact!=unknown, month!=jun, month!=feb, month!=sep, balance>=229,...<br>new extent (len: 6): 3005, 1181, 4160, 2122, 1342,...<br>new_intent (len: 8): education!=tertiary, month!=jun, pdays>=181.0, month!=sep, balance>=100,...<br>metric strongness = 1.0<br>metric stab_min_bound = None<br>metric stab_max_bound = None<br>metric log_stab_min_bound = None<br>metric log_stab_max_bound = None<br>metric lstab_min_bound = None<br>metric n_uncovered = 0<br>",
          "Concept 42<br><br>extent (len: 6): 3088, 4093, 70, 4159, 3256,...<br>intent (len: 20): contact!=unknown, pdays__leq__185.0, month!=jun, month!=feb, month!=sep,...<br>new extent (len: 6): 3088, 4093, 70, 4159, 3256,...<br>new_intent (len: 10): month!=jun, housing__leq__0, month!=feb, month!=sep, month!=jan,...<br>metric strongness = 1.0<br>metric stab_min_bound = None<br>metric stab_max_bound = None<br>metric log_stab_min_bound = None<br>metric log_stab_max_bound = None<br>metric lstab_min_bound = None<br>metric n_uncovered = 0<br>",
          "Concept 49<br><br>extent (len: 7): 2431, 1653, 3239, 2444, 83,...<br>intent (len: 21): contact!=unknown, month!=jun, month!=feb, month!=sep, loan__leq__0,...<br>new extent (len: 7): 2431, 3239, 1653, 2444, 83,...<br>new_intent (len: 2): age__leq__56, marital=married<br>metric strongness = 1.0<br>metric stab_min_bound = None<br>metric stab_max_bound = None<br>metric log_stab_min_bound = None<br>metric log_stab_max_bound = None<br>metric lstab_min_bound = None<br>metric n_uncovered = 0<br>",
          "Concept 41<br><br>extent (len: 7): 1349, 1469, 1653, 1083, 3270,...<br>intent (len: 20): contact!=unknown, pdays__leq__185.0, month!=feb, month!=sep, loan__leq__0,...<br>new extent (len: 7): 1349, 1469, 1653, 1083, 3270,...<br>new_intent (len: 5): education!=tertiary, job!=admin., marital=married, month!=sep, month!=apr<br>metric strongness = 1.0<br>metric stab_min_bound = None<br>metric stab_max_bound = None<br>metric log_stab_min_bound = None<br>metric log_stab_max_bound = None<br>metric lstab_min_bound = None<br>metric n_uncovered = 0<br>",
          "Concept 37<br><br>extent (len: 7): 4229, 1437, 36, 3311, 1124,...<br>intent (len: 20): contact!=unknown, month!=jun, month!=feb, month!=sep, loan__leq__0,...<br>new extent (len: 7): 4229, 1437, 36, 3311, 1124,...<br>new_intent (len: 3): balance__leq__302, balance__leq__262, month!=mar<br>metric strongness = 0.7<br>metric stab_min_bound = None<br>metric stab_max_bound = None<br>metric log_stab_min_bound = None<br>metric log_stab_max_bound = None<br>metric lstab_min_bound = None<br>metric n_uncovered = 0<br>",
          "Concept 32<br><br>extent (len: 8): 3527, 2213, 4229, 4009, 1928,...<br>intent (len: 19): marital!=married, contact!=unknown, pdays__leq__185.0, month!=jun, month!=feb,...<br>new extent (len: 8): 3243, 2213, 4229, 4009, 1928,...<br>new_intent (len: 2): campaign__leq__4, month!=jun<br>metric strongness = 1.0<br>metric stab_min_bound = None<br>metric stab_max_bound = None<br>metric log_stab_min_bound = None<br>metric log_stab_max_bound = None<br>metric lstab_min_bound = None<br>metric n_uncovered = 0<br>",
          "Concept 28<br><br>extent (len: 8): 1754, 1485, 1374, 984, 2471,...<br>intent (len: 18): month!=aug, month!=jun, job!=admin., month!=jul, housing__leq__0,...<br>new extent (len: 8): 1754, 1374, 1485, 984, 2471,...<br>new_intent (len: 3): balance>=100, pdays__leq__185.0, poutcome!=failure<br>metric strongness = 1.0<br>metric stab_min_bound = None<br>metric stab_max_bound = None<br>metric log_stab_min_bound = None<br>metric log_stab_max_bound = None<br>metric lstab_min_bound = None<br>metric n_uncovered = 0<br>",
          "Concept 58<br><br>extent (len: 9): 2675, 2917, 941, 1060, 3835,...<br>intent (len: 22): contact!=unknown, pdays__leq__185.0, month!=jun, month!=sep, loan__leq__0,...<br>new extent (len: 9): 2675, 2917, 941, 3835, 2969,...<br>new_intent (len: 11): month!=jun, education=tertiary, month!=jul, month!=sep, month!=jan,...<br>metric strongness = 1.0<br>metric stab_min_bound = None<br>metric stab_max_bound = None<br>metric log_stab_min_bound = None<br>metric log_stab_max_bound = None<br>metric lstab_min_bound = None<br>metric n_uncovered = 0<br>",
          "Concept 35<br><br>extent (len: 10): 3586, 347, 49, 464, 1653,...<br>intent (len: 19): contact!=unknown, pdays__leq__185.0, month!=jun, month!=feb, loan__leq__0,...<br>new extent (len: 10): 3586, 1653, 464, 1083, 4215,...<br>new_intent (len: 2): marital=married, campaign__leq__4<br>metric strongness = 1.0<br>metric stab_min_bound = None<br>metric stab_max_bound = None<br>metric log_stab_min_bound = None<br>metric log_stab_max_bound = None<br>metric lstab_min_bound = None<br>metric n_uncovered = 0<br>",
          "Concept 20<br><br>extent (len: 10): 4388, 2821, 4364, 1672, 2685,...<br>intent (len: 16): month!=aug, campaign__leq__4, education!=tertiary, month!=jul, month!=feb,...<br>new extent (len: 2): 1672, 36<br>new_intent (len: 2): education!=tertiary, balance__leq__3940<br>metric strongness = 0.6666666666666666<br>metric stab_min_bound = 0.953125<br>metric stab_max_bound = 0.96875<br>metric log_stab_min_bound = 4.415037499278844<br>metric log_stab_max_bound = 5.0<br>metric lstab_min_bound = -34.0<br>metric n_uncovered = 0<br>",
          "Concept 27<br><br>extent (len: 11): 492, 1952, 3088, 3586, 1653,...<br>intent (len: 17): month!=aug, month!=jun, education!=tertiary, age__leq__56, month!=feb,...<br>new extent (len: 11): 1952, 3586, 492, 3088, 1653,...<br>new_intent (len: 2): age__leq__56, month!=jan<br>metric strongness = 1.0<br>metric stab_min_bound = None<br>metric stab_max_bound = None<br>metric log_stab_min_bound = None<br>metric log_stab_max_bound = None<br>metric lstab_min_bound = None<br>metric n_uncovered = 0<br>",
          "Concept 31<br><br>extent (len: 11): 1303, 3202, 2421, 4160, 1672,...<br>intent (len: 19): age>=41, contact!=unknown, month!=jun, month!=feb, balance>=1026,...<br>new extent (len: 6): 1303, 2421, 4160, 3978, 2049,...<br>new_intent (len: 10): month!=jun, job!=admin., housing__leq__0, month!=feb, balance>=1026,...<br>metric strongness = 0.55<br>metric stab_min_bound = 0.984375<br>metric stab_max_bound = 0.984375<br>metric log_stab_min_bound = 6.0<br>metric log_stab_max_bound = 6.0<br>metric lstab_min_bound = -33.0<br>metric n_uncovered = 0<br>",
          "Concept 36<br><br>extent (len: 12): 3695, 289, 2675, 619, 1754,...<br>intent (len: 19): contact!=unknown, pdays__leq__185.0, month!=jun, month!=feb, month!=sep,...<br>new extent (len: 12): 3695, 289, 2675, 619, 1754,...<br>new_intent (len: 10): campaign__leq__4, month!=jun, education=tertiary, month!=jul, month!=sep,...<br>metric strongness = 1.0<br>metric stab_min_bound = None<br>metric stab_max_bound = None<br>metric log_stab_min_bound = None<br>metric log_stab_max_bound = None<br>metric lstab_min_bound = None<br>metric n_uncovered = 0<br>",
          "Concept 34<br><br>extent (len: 12): 2992, 4224, 3589, 2372, 2847,...<br>intent (len: 19): contact!=unknown, pdays__leq__185.0, month!=jun, month!=feb, month!=sep,...<br>new extent (len: 12): 2992, 4224, 1905, 2372, 2847,...<br>new_intent (len: 9): month!=aug, month!=jun, month!=jul, month!=feb, month!=sep,...<br>metric strongness = 1.0<br>metric stab_min_bound = None<br>metric stab_max_bound = None<br>metric log_stab_min_bound = None<br>metric log_stab_max_bound = None<br>metric lstab_min_bound = None<br>metric n_uncovered = 0<br>",
          "Concept 16<br><br>extent (len: 12): 2449, 3835, 1754, 1374, 1485,...<br>intent (len: 15): month!=aug, month!=jun, job!=admin., month!=jul, housing__leq__0,...<br>new extent (len: 4): 328, 3835, 1109, 2449<br>new_intent (len: 10): month!=aug, month!=jun, job!=admin., month!=jul, housing__leq__0,...<br>metric strongness = 0.4444444444444444<br>metric stab_min_bound = 0.9375<br>metric stab_max_bound = 0.9375<br>metric log_stab_min_bound = 4.0<br>metric log_stab_max_bound = 4.0<br>metric lstab_min_bound = -35.0<br>metric n_uncovered = 0<br>",
          "Concept 24<br><br>extent (len: 12): 3202, 2962, 3558, 4160, 1672,...<br>intent (len: 17): month!=aug, age>=46, month!=jun, job!=admin., month!=jul,...<br>new extent (len: 3): 3558, 4160, 984<br>new_intent (len: 8): month!=jun, job!=admin., age>=46, balance>=1026, loan__leq__0,...<br>metric strongness = 0.3157894736842105<br>metric stab_min_bound = 0.984375<br>metric stab_max_bound = 0.9921875<br>metric log_stab_min_bound = 6.0<br>metric log_stab_max_bound = 7.0<br>metric lstab_min_bound = -32.0<br>metric n_uncovered = 0<br>",
          "Concept 33<br><br>extent (len: 13): 3088, 3930, 2431, 1056, 1653,...<br>intent (len: 19): contact!=unknown, month!=jun, month!=feb, month!=sep, loan__leq__0,...<br>new extent (len: 2): 3088, 1083<br>new_intent (len: 1): education!=tertiary<br>metric strongness = 0.9285714285714286<br>metric stab_min_bound = 0.98046875<br>metric stab_max_bound = 0.984375<br>metric log_stab_min_bound = 5.678071905112637<br>metric log_stab_max_bound = 6.0<br>metric lstab_min_bound = -33.0<br>metric n_uncovered = 0<br>",
          "Concept 26<br><br>extent (len: 13): 3527, 2213, 4229, 4009, 684,...<br>intent (len: 17): month!=aug, job!=admin., month!=jul, month!=feb, month!=jan,...<br>new extent (len: 1): 849<br>new_intent (len: 7): job!=admin., month!=jul, month!=sep, balance__leq__3940, marital!=married,...<br>metric strongness = 0.7647058823529411<br>metric stab_min_bound = 0.96484375<br>metric stab_max_bound = 0.96875<br>metric log_stab_min_bound = 4.830074998557688<br>metric log_stab_max_bound = 5.0<br>metric lstab_min_bound = -34.0<br>metric n_uncovered = 0<br>",
          "Concept 30<br><br>extent (len: 14): 1469, 199, 3005, 2055, 4160,...<br>intent (len: 18): month!=aug, campaign__leq__4, education!=tertiary, month!=jul, month!=feb,...<br>new extent (len: 14): 1469, 199, 3005, 2055, 4160,...<br>new_intent (len: 4): education!=tertiary, balance>=100, balance>=229, balance__leq__3940<br>metric strongness = 1.0<br>metric stab_min_bound = None<br>metric stab_max_bound = None<br>metric log_stab_min_bound = None<br>metric log_stab_max_bound = None<br>metric lstab_min_bound = None<br>metric n_uncovered = 0<br>",
          "Concept 13<br><br>extent (len: 14): 4388, 2821, 4364, 4229, 2421,...<br>intent (len: 14): month!=aug, campaign__leq__4, month!=jul, month!=feb, month!=jan,...<br>new extent (len: 4): 2696, 4229, 2421, 2014<br>new_intent (len: 5): campaign__leq__4, month!=feb, month!=jan, month!=sep, marital!=married<br>metric strongness = 0.56<br>metric stab_min_bound = 0.9375<br>metric stab_max_bound = 0.9375<br>metric log_stab_min_bound = 4.0<br>metric log_stab_max_bound = 4.0<br>metric lstab_min_bound = -35.0<br>metric n_uncovered = 0<br>",
          "Concept 19<br><br>extent (len: 16): 492, 1952, 3088, 3586, 4224,...<br>intent (len: 15): month!=aug, month!=jun, education!=tertiary, month!=feb, balance>=100,...<br>new extent (len: 1): 4224<br>new_intent (len: 8): month!=aug, month!=jun, education!=tertiary, month!=feb, balance>=100,...<br>metric strongness = 0.9411764705882353<br>metric stab_min_bound = 0.9521484375<br>metric stab_max_bound = 0.96875<br>metric log_stab_min_bound = 4.385290155884792<br>metric log_stab_max_bound = 5.0<br>metric lstab_min_bound = -34.0<br>metric n_uncovered = 0<br>",
          "Concept 18<br><br>extent (len: 16): 3248, 503, 3088, 2421, 4458,...<br>intent (len: 15): month!=aug, campaign__leq__4, month!=jun, job!=admin., month!=feb,...<br>new extent (len: 16): 3248, 503, 3088, 4458, 2421,...<br>new_intent (len: 15): month!=aug, campaign__leq__4, month!=jun, job!=admin., housing__leq__0,...<br>metric strongness = 0.16326530612244897<br>metric stab_min_bound = None<br>metric stab_max_bound = None<br>metric log_stab_min_bound = None<br>metric log_stab_max_bound = None<br>metric lstab_min_bound = None<br>metric n_uncovered = 0<br>",
          "Concept 29<br><br>extent (len: 18): 3088, 3930, 2431, 2449, 3064,...<br>intent (len: 18): campaign__leq__4, pdays>=181.0, month!=jun, job!=admin., month!=feb,...<br>new extent (len: 4): 4093, 3502, 4458, 2449<br>new_intent (len: 3): month!=nov, month!=jan, balance__leq__3940<br>metric strongness = 0.8181818181818182<br>metric stab_min_bound = 0.9686279296875<br>metric stab_max_bound = 0.96875<br>metric log_stab_min_bound = 4.994375450806122<br>metric log_stab_max_bound = 5.0<br>metric lstab_min_bound = -34.0<br>metric n_uncovered = 0<br>",
          "Concept 25<br><br>extent (len: 22): 4458, 3502, 1437, 504, 4224,...<br>intent (len: 17): month!=aug, campaign__leq__4, month!=jun, job!=admin., month!=jul,...<br>new extent (len: 12): 4388, 4224, 2449, 1303, 3256,...<br>new_intent (len: 3): month!=jun, education!=secondary, job!=blue-collar<br>metric strongness = 0.4888888888888889<br>metric stab_min_bound = 0.9999656677246094<br>metric stab_max_bound = 0.999969482421875<br>metric log_stab_min_bound = 14.830074998557688<br>metric log_stab_max_bound = 15.0<br>metric lstab_min_bound = -24.0<br>metric n_uncovered = 0<br>",
          "Concept 22<br><br>extent (len: 23): 3370, 4458, 684, 70, 347,...<br>intent (len: 16): month!=aug, age__leq__56, month!=feb, housing__leq__0, month!=jan,...<br>new extent (len: 23): 3370, 4458, 684, 70, 347,...<br>new_intent (len: 4): month!=aug, month!=apr, balance__leq__3940, job!=blue-collar<br>metric strongness = 1.0<br>metric stab_min_bound = None<br>metric stab_max_bound = None<br>metric log_stab_min_bound = None<br>metric log_stab_max_bound = None<br>metric lstab_min_bound = None<br>metric n_uncovered = 0<br>",
          "Concept 23<br><br>extent (len: 24): 3695, 1653, 4458, 1374, 70,...<br>intent (len: 16): month!=aug, campaign__leq__4, month!=jun, age__leq__56, month!=feb,...<br>new extent (len: 24): 3695, 1653, 4458, 1374, 70,...<br>new_intent (len: 7): month!=aug, campaign__leq__4, month!=jun, loan__leq__0, month!=sep,...<br>metric strongness = 1.0<br>metric stab_min_bound = None<br>metric stab_max_bound = None<br>metric log_stab_min_bound = None<br>metric log_stab_max_bound = None<br>metric lstab_min_bound = None<br>metric n_uncovered = 0<br>",
          "Concept 12<br><br>extent (len: 25): 3695, 1469, 199, 1181, 2055,...<br>intent (len: 13): month!=aug, campaign__leq__4, month!=jul, month!=feb, marital=married,...<br>new extent (len: 8): 3695, 4433, 2449, 3202, 3978,...<br>new_intent (len: 8): month!=aug, campaign__leq__4, month!=jul, month!=feb, marital=married,...<br>metric strongness = 0.8333333333333334<br>metric stab_min_bound = 0.9995088577270508<br>metric stab_max_bound = 0.99951171875<br>metric log_stab_min_bound = 10.99157137792942<br>metric log_stab_max_bound = 11.0<br>metric lstab_min_bound = -28.0<br>metric n_uncovered = 0<br>",
          "Concept 17<br><br>extent (len: 25): 3695, 1469, 199, 3586, 1653,...<br>intent (len: 15): month!=aug, campaign__leq__4, month!=feb, housing__leq__0, month!=jan,...<br>new extent (len: 14): 3695, 199, 3586, 3088, 855,...<br>new_intent (len: 5): campaign__leq__4, housing__leq__0, balance>=100, balance>=229, month!=oct<br>metric strongness = 0.625<br>metric stab_min_bound = 0.9999957084655762<br>metric stab_max_bound = 0.9999961853027344<br>metric log_stab_min_bound = 17.830074998557688<br>metric log_stab_max_bound = 18.0<br>metric lstab_min_bound = -21.0<br>metric n_uncovered = 0<br>",
          "Concept 15<br><br>extent (len: 25): 619, 1653, 4458, 2122, 83,...<br>intent (len: 15): campaign__leq__4, pdays>=181.0, month!=jun, job!=admin., month!=feb,...<br>new extent (len: 3): 412, 619, 3589<br>new_intent (len: 10): campaign__leq__4, month!=jun, job!=admin., pdays>=181.0, month!=feb,...<br>metric strongness = 0.46296296296296297<br>metric stab_min_bound = 0.9921865463256836<br>metric stab_max_bound = 0.9921875<br>metric log_stab_min_bound = 6.999823900513557<br>metric log_stab_max_bound = 7.0<br>metric lstab_min_bound = -32.0<br>metric n_uncovered = 0<br>",
          "Concept 21<br><br>extent (len: 29): 3586, 3370, 1653, 233, 70,...<br>intent (len: 16): month!=aug, campaign__leq__4, month!=jun, job!=admin., month!=jan,...<br>new extent (len: 29): 3586, 3370, 1653, 233, 70,...<br>new_intent (len: 5): month!=aug, month!=jun, month!=jan, balance__leq__3940, month!=oct<br>metric strongness = 1.0<br>metric stab_min_bound = None<br>metric stab_max_bound = None<br>metric log_stab_min_bound = None<br>metric log_stab_max_bound = None<br>metric lstab_min_bound = None<br>metric n_uncovered = 0<br>",
          "Concept 14<br><br>extent (len: 34): 1469, 4458, 684, 3331, 3502,...<br>intent (len: 14): month!=aug, campaign__leq__4, job!=admin., month!=jul, month!=feb,...<br>new extent (len: 4): 3297, 328, 1048, 3331<br>new_intent (len: 7): campaign__leq__4, job!=admin., month!=feb, loan__leq__0, month!=sep,...<br>metric strongness = 0.27419354838709675<br>metric stab_min_bound = 0.9997558547183871<br>metric stab_max_bound = 0.999755859375<br>metric log_stab_min_bound = 11.999972483038283<br>metric log_stab_max_bound = 12.0<br>metric lstab_min_bound = -27.0<br>metric n_uncovered = 0<br>",
          "Concept 9<br><br>extent (len: 47): 3695, 289, 3586, 619, 3370,...<br>intent (len: 9): age__leq__56, month!=feb, housing__leq__0, month!=jan, month!=may,...<br>new extent (len: 4): 3751, 3586, 4159, 1695<br>new_intent (len: 5): month!=feb, housing__leq__0, month!=jan, month!=nov, age__leq__56<br>metric strongness = 0.94<br>metric stab_min_bound = 0.9999998211569618<br>metric stab_max_bound = 0.9999998807907104<br>metric log_stab_min_bound = 22.414802704739976<br>metric log_stab_max_bound = 23.0<br>metric lstab_min_bound = -16.0<br>metric n_uncovered = 0<br>",
          "Concept 10<br><br>extent (len: 48): 3695, 1469, 199, 3586, 3370,...<br>intent (len: 10): month!=aug, month!=feb, month!=jan, month!=mar, loan__leq__0,...<br>new extent (len: 9): 3385, 1303, 3370, 464, 2176,...<br>new_intent (len: 5): month!=aug, month!=feb, month!=jan, month!=nov, pdays__leq__185.0<br>metric strongness = 0.4<br>metric stab_min_bound = 0.9999998807613792<br>metric stab_max_bound = 0.9999998807907104<br>metric log_stab_min_bound = 22.99964507147155<br>metric log_stab_max_bound = 23.0<br>metric lstab_min_bound = -16.0<br>metric n_uncovered = 0<br>",
          "Concept 8<br><br>extent (len: 49): 1469, 2055, 2122, 2696, 3331,...<br>intent (len: 9): month!=aug, month!=jul, job!=blue-collar, month!=nov, month!=may,...<br>new extent (len: 19): 1469, 2055, 2122, 3331, 1437,...<br>new_intent (len: 2): age>=41, job!=blue-collar<br>metric strongness = 0.22580645161290322<br>metric stab_min_bound = 0.9999999999599538<br>metric stab_max_bound = 0.9999999999708962<br>metric log_stab_min_bound = 34.53954410369036<br>metric log_stab_max_bound = 35.0<br>metric lstab_min_bound = -4.0<br>metric n_uncovered = 0<br>",
          "Concept 11<br><br>extent (len: 53): 1469, 3586, 619, 3370, 1653,...<br>intent (len: 10): campaign__leq__4, job!=admin., loan__leq__0, month!=may, pdays>=38.0,...<br>new extent (len: 5): 3751, 619, 1303, 4229, 3243<br>new_intent (len: 3): campaign__leq__4, loan__leq__0, job!=admin.<br>metric strongness = 0.9137931034482759<br>metric stab_min_bound = 0.999999940394833<br>metric stab_max_bound = 0.9999999403953552<br>metric log_stab_min_bound = 23.99998735933054<br>metric log_stab_max_bound = 24.0<br>metric lstab_min_bound = -15.0<br>metric n_uncovered = 0<br>",
          "Concept 6<br><br>extent (len: 66): 1469, 3586, 619, 3370, 1653,...<br>intent (len: 6): pdays>=38.0, poutcome=success, contact!=unknown, month!=apr, pdays__leq__185.0,...<br>new extent (len: 6): 3176, 2665, 110, 1695, 3931,...<br>new_intent (len: 3): pdays>=38.0, month!=apr, pdays__leq__185.0<br>metric strongness = 0.8148148148148148<br>metric stab_min_bound = 0.9998779296874991<br>metric stab_max_bound = 0.9998779296875<br>metric log_stab_min_bound = 12.999999999989504<br>metric log_stab_max_bound = 13.0<br>metric lstab_min_bound = -26.0<br>metric n_uncovered = 0<br>",
          "Concept 7<br><br>extent (len: 75): 1469, 3586, 3370, 2055, 4458,...<br>intent (len: 7): month!=aug, month!=jul, month!=nov, month!=may, contact!=unknown,...<br>new extent (len: 9): 98, 3385, 3370, 3835, 2176,...<br>new_intent (len: 6): month!=aug, month!=jul, month!=nov, month!=may, month!=apr,...<br>metric strongness = 0.14734774066797643<br>metric stab_min_bound = 0.9999999850983841<br>metric stab_max_bound = 0.9999999850988388<br>metric log_stab_min_bound = 25.999955973113174<br>metric log_stab_max_bound = 26.0<br>metric lstab_min_bound = -13.0<br>metric n_uncovered = 0<br>",
          "Concept 4<br><br>extent (len: 88): 1374, 2122, 2847, 2251, 3498,...<br>intent (len: 4): poutcome=success, contact!=unknown, month!=may, poutcome!=failure<br>new extent (len: 3): 3202, 1056, 2583<br>new_intent (len: 1): month!=may<br>metric strongness = 0.822429906542056<br>metric stab_min_bound = 0.9999999999704414<br>metric stab_max_bound = 0.9999999999708962<br>metric log_stab_min_bound = 34.97763218697155<br>metric log_stab_max_bound = 35.0<br>metric lstab_min_bound = -4.0<br>metric n_uncovered = 0<br>",
          "Concept 3<br><br>extent (len: 95): 1374, 2122, 2847, 2251, 3498,...<br>intent (len: 3): poutcome=success, contact!=unknown, poutcome!=failure<br>new extent (len: 1): 4232<br>new_intent (len: 2): poutcome=success, poutcome!=failure<br>metric strongness = 0.7480314960629921<br>metric stab_min_bound = 0.9921874981373549<br>metric stab_max_bound = 0.9921875<br>metric log_stab_min_bound = 6.999999656034739<br>metric log_stab_max_bound = 7.0<br>metric lstab_min_bound = -32.0<br>metric n_uncovered = 0<br>",
          "Concept 5<br><br>extent (len: 105): 1374, 2122, 83, 2847, 3502,...<br>intent (len: 5): loan__leq__0, month!=mar, month!=may, pdays>=38.0, contact!=unknown<br>new extent (len: 8): 3005, 2055, 3331, 2847, 3978,...<br>new_intent (len: 2): month!=may, loan__leq__0<br>metric strongness = 0.23127753303964757<br>metric stab_min_bound = 1.0<br>metric stab_max_bound = 1.0<br>metric log_stab_min_bound = inf<br>metric log_stab_max_bound = inf<br>metric lstab_min_bound = 18.0<br>metric n_uncovered = 0<br>",
          "Concept 2<br><br>extent (len: 116): 1374, 2122, 83, 2847, 3502,...<br>intent (len: 3): pdays>=38.0, contact!=unknown, month!=mar<br>new extent (len: 5): 4232, 3743, 4213, 3932, 2665<br>new_intent (len: 2): month!=mar, pdays>=38.0<br>metric strongness = 0.14967741935483872<br>metric stab_min_bound = 0.99951171875<br>metric stab_max_bound = 0.99951171875<br>metric log_stab_min_bound = 11.0<br>metric log_stab_max_bound = 11.0<br>metric lstab_min_bound = -28.0<br>metric n_uncovered = 0<br>",
          "Concept 1<br><br>extent (len: 148): 1374, 2122, 83, 2847, 3502,...<br>intent (len: 1): contact!=unknown<br>new extent (len: 3): 2780, 503, 129<br>new_intent (len: 1): contact!=unknown<br>metric strongness = 0.04629340006255865<br>metric stab_min_bound = 0.9999999997671692<br>metric stab_max_bound = 0.9999999997671694<br>metric log_stab_min_bound = 31.999999312069562<br>metric log_stab_max_bound = 32.0<br>metric lstab_min_bound = -7.0<br>metric n_uncovered = 148<br>",
          "Concept 0<br><br>extent (len: 149): 1374, 2122, 83, 2847, 3502,...<br>intent (len: 0): ∅<br>new extent (len: 0): ∅<br>new_intent (len: 0): ∅<br>metric strongness = 0.0329573103295731<br>metric stab_min_bound = 0.5<br>metric stab_max_bound = 0.5<br>metric log_stab_min_bound = 1.0<br>metric log_stab_max_bound = 1.0<br>metric lstab_min_bound = -38.0<br>"
         ],
         "marker": {
          "color": [
           1,
           1,
           1,
           1,
           1,
           1,
           1,
           1,
           1,
           1,
           1,
           1,
           1,
           1,
           1,
           1,
           1,
           1,
           1,
           1,
           1,
           1,
           0.7,
           1,
           1,
           1,
           1,
           0.6666666666666666,
           1,
           0.55,
           1,
           1,
           0.4444444444444444,
           0.3157894736842105,
           0.9285714285714286,
           0.7647058823529411,
           1,
           0.56,
           0.9411764705882353,
           0.16326530612244897,
           0.8181818181818182,
           0.4888888888888889,
           1,
           1,
           0.8333333333333334,
           0.625,
           0.46296296296296297,
           1,
           0.27419354838709675,
           0.94,
           0.4,
           0.22580645161290322,
           0.9137931034482759,
           0.8148148148148148,
           0.14734774066797643,
           0.822429906542056,
           0.7480314960629921,
           0.23127753303964757,
           0.14967741935483872,
           0.04629340006255865,
           0.0329573103295731
          ],
          "colorbar": {
           "thickness": 15,
           "title": {
            "side": "right",
            "text": "y_mean"
           },
           "xanchor": "left"
          },
          "colorscale": [
           [
            0,
            "rgb(103,0,31)"
           ],
           [
            0.1,
            "rgb(178,24,43)"
           ],
           [
            0.2,
            "rgb(214,96,77)"
           ],
           [
            0.3,
            "rgb(244,165,130)"
           ],
           [
            0.4,
            "rgb(253,219,199)"
           ],
           [
            0.5,
            "rgb(247,247,247)"
           ],
           [
            0.6,
            "rgb(209,229,240)"
           ],
           [
            0.7,
            "rgb(146,197,222)"
           ],
           [
            0.8,
            "rgb(67,147,195)"
           ],
           [
            0.9,
            "rgb(33,102,172)"
           ],
           [
            1,
            "rgb(5,48,97)"
           ]
          ],
          "line": {
           "width": 2
          },
          "reversescale": true,
          "showscale": true,
          "size": 10
         },
         "mode": "markers+text",
         "text": [
          "n: 4<br>n: 4",
          "n: 15<br>n: 4",
          "n: 6<br>n: 4",
          "n: 20<br>n: 4",
          "n: 4<br>n: 4",
          "n: 7<br>n: 4",
          "n: 3<br>n: 5",
          "n: 1<br>n: 5",
          "n: 2<br>n: 5",
          "n: 8<br>n: 5",
          "n: 10<br>n: 5",
          "n: 17<br>n: 5",
          "n: 6<br>n: 5",
          "n: 4<br>n: 5",
          "n: 7<br>n: 5",
          "n: 4<br>n: 5",
          "n: 3<br>n: 5",
          "n: 3<br>n: 6",
          "n: 8<br>n: 6",
          "n: 10<br>n: 6",
          "n: 2<br>n: 7",
          "n: 5<br>n: 7",
          "n: 3<br>n: 7",
          "n: 2<br>n: 8",
          "n: 3<br>n: 8",
          "n: 11<br>n: 9",
          "n: 2<br>n: 10",
          "n: 2<br>n: 2",
          "n: 2<br>n: 11",
          "n: 10<br>n: 6",
          "n: 10<br>n: 12",
          "n: 9<br>n: 12",
          "n: 10<br>n: 4",
          "n: 8<br>n: 3",
          "n: 1<br>n: 2",
          "n: 7<br>n: 1",
          "n: 4<br>n: 14",
          "n: 5<br>n: 4",
          "n: 8<br>n: 1",
          "n: 15<br>n: 16",
          "n: 3<br>n: 4",
          "n: 3<br>n: 12",
          "n: 4<br>n: 23",
          "n: 7<br>n: 24",
          "n: 8<br>n: 8",
          "n: 5<br>n: 14",
          "n: 10<br>n: 3",
          "n: 5<br>n: 29",
          "n: 7<br>n: 4",
          "n: 5<br>n: 4",
          "n: 5<br>n: 9",
          "n: 2<br>n: 19",
          "n: 3<br>n: 5",
          "n: 3<br>n: 6",
          "n: 6<br>n: 9",
          "n: 1<br>n: 3",
          "n: 2<br>n: 1",
          "n: 2<br>n: 8",
          "n: 2<br>n: 5",
          "n: 1<br>n: 3",
          "<br>"
         ],
         "textposition": "middle right",
         "type": "scatter",
         "x": [
          -3.5,
          1,
          -1,
          -1.5,
          -7.5,
          -2.5,
          -1.5,
          -10.5,
          -0.5,
          4,
          -6.5,
          3,
          -9.5,
          1.5,
          -5.5,
          -0.5,
          0.5,
          -0.5,
          7,
          6.5,
          0.5,
          1.5,
          0.5,
          2.5,
          -4.5,
          2.5,
          3.5,
          -8.5,
          7.5,
          -7,
          9.5,
          8.5,
          -4,
          -6,
          3.5,
          -3.5,
          6,
          -5,
          2,
          -0.5,
          -2.5,
          0,
          5.5,
          10.5,
          2,
          -1.5,
          -3,
          4.5,
          -1,
          5,
          -2,
          -3,
          3,
          0,
          -0.5,
          1,
          1.5,
          -2,
          0.5,
          0.5,
          0
         ],
         "y": [
          2,
          4,
          4,
          6,
          3,
          2,
          2,
          3,
          1,
          4,
          3,
          5,
          3,
          3,
          3,
          2,
          2,
          3,
          4,
          3,
          1,
          2,
          3,
          2,
          3,
          3,
          3,
          3,
          3,
          4,
          3,
          3,
          4,
          4,
          2,
          3,
          4,
          4,
          4,
          7,
          3,
          4,
          3,
          3,
          5,
          3,
          4,
          3,
          5,
          4,
          4,
          5,
          4,
          5,
          6,
          5,
          6,
          5,
          6,
          7,
          8
         ]
        }
       ],
       "layout": {
        "height": 500,
        "hovermode": "closest",
        "margin": {
         "b": 20,
         "l": 5,
         "r": 5,
         "t": 40
        },
        "showlegend": false,
        "template": {
         "data": {
          "bar": [
           {
            "error_x": {
             "color": "#2a3f5f"
            },
            "error_y": {
             "color": "#2a3f5f"
            },
            "marker": {
             "line": {
              "color": "#E5ECF6",
              "width": 0.5
             }
            },
            "type": "bar"
           }
          ],
          "barpolar": [
           {
            "marker": {
             "line": {
              "color": "#E5ECF6",
              "width": 0.5
             }
            },
            "type": "barpolar"
           }
          ],
          "carpet": [
           {
            "aaxis": {
             "endlinecolor": "#2a3f5f",
             "gridcolor": "white",
             "linecolor": "white",
             "minorgridcolor": "white",
             "startlinecolor": "#2a3f5f"
            },
            "baxis": {
             "endlinecolor": "#2a3f5f",
             "gridcolor": "white",
             "linecolor": "white",
             "minorgridcolor": "white",
             "startlinecolor": "#2a3f5f"
            },
            "type": "carpet"
           }
          ],
          "choropleth": [
           {
            "colorbar": {
             "outlinewidth": 0,
             "ticks": ""
            },
            "type": "choropleth"
           }
          ],
          "contour": [
           {
            "colorbar": {
             "outlinewidth": 0,
             "ticks": ""
            },
            "colorscale": [
             [
              0,
              "#0d0887"
             ],
             [
              0.1111111111111111,
              "#46039f"
             ],
             [
              0.2222222222222222,
              "#7201a8"
             ],
             [
              0.3333333333333333,
              "#9c179e"
             ],
             [
              0.4444444444444444,
              "#bd3786"
             ],
             [
              0.5555555555555556,
              "#d8576b"
             ],
             [
              0.6666666666666666,
              "#ed7953"
             ],
             [
              0.7777777777777778,
              "#fb9f3a"
             ],
             [
              0.8888888888888888,
              "#fdca26"
             ],
             [
              1,
              "#f0f921"
             ]
            ],
            "type": "contour"
           }
          ],
          "contourcarpet": [
           {
            "colorbar": {
             "outlinewidth": 0,
             "ticks": ""
            },
            "type": "contourcarpet"
           }
          ],
          "heatmap": [
           {
            "colorbar": {
             "outlinewidth": 0,
             "ticks": ""
            },
            "colorscale": [
             [
              0,
              "#0d0887"
             ],
             [
              0.1111111111111111,
              "#46039f"
             ],
             [
              0.2222222222222222,
              "#7201a8"
             ],
             [
              0.3333333333333333,
              "#9c179e"
             ],
             [
              0.4444444444444444,
              "#bd3786"
             ],
             [
              0.5555555555555556,
              "#d8576b"
             ],
             [
              0.6666666666666666,
              "#ed7953"
             ],
             [
              0.7777777777777778,
              "#fb9f3a"
             ],
             [
              0.8888888888888888,
              "#fdca26"
             ],
             [
              1,
              "#f0f921"
             ]
            ],
            "type": "heatmap"
           }
          ],
          "heatmapgl": [
           {
            "colorbar": {
             "outlinewidth": 0,
             "ticks": ""
            },
            "colorscale": [
             [
              0,
              "#0d0887"
             ],
             [
              0.1111111111111111,
              "#46039f"
             ],
             [
              0.2222222222222222,
              "#7201a8"
             ],
             [
              0.3333333333333333,
              "#9c179e"
             ],
             [
              0.4444444444444444,
              "#bd3786"
             ],
             [
              0.5555555555555556,
              "#d8576b"
             ],
             [
              0.6666666666666666,
              "#ed7953"
             ],
             [
              0.7777777777777778,
              "#fb9f3a"
             ],
             [
              0.8888888888888888,
              "#fdca26"
             ],
             [
              1,
              "#f0f921"
             ]
            ],
            "type": "heatmapgl"
           }
          ],
          "histogram": [
           {
            "marker": {
             "colorbar": {
              "outlinewidth": 0,
              "ticks": ""
             }
            },
            "type": "histogram"
           }
          ],
          "histogram2d": [
           {
            "colorbar": {
             "outlinewidth": 0,
             "ticks": ""
            },
            "colorscale": [
             [
              0,
              "#0d0887"
             ],
             [
              0.1111111111111111,
              "#46039f"
             ],
             [
              0.2222222222222222,
              "#7201a8"
             ],
             [
              0.3333333333333333,
              "#9c179e"
             ],
             [
              0.4444444444444444,
              "#bd3786"
             ],
             [
              0.5555555555555556,
              "#d8576b"
             ],
             [
              0.6666666666666666,
              "#ed7953"
             ],
             [
              0.7777777777777778,
              "#fb9f3a"
             ],
             [
              0.8888888888888888,
              "#fdca26"
             ],
             [
              1,
              "#f0f921"
             ]
            ],
            "type": "histogram2d"
           }
          ],
          "histogram2dcontour": [
           {
            "colorbar": {
             "outlinewidth": 0,
             "ticks": ""
            },
            "colorscale": [
             [
              0,
              "#0d0887"
             ],
             [
              0.1111111111111111,
              "#46039f"
             ],
             [
              0.2222222222222222,
              "#7201a8"
             ],
             [
              0.3333333333333333,
              "#9c179e"
             ],
             [
              0.4444444444444444,
              "#bd3786"
             ],
             [
              0.5555555555555556,
              "#d8576b"
             ],
             [
              0.6666666666666666,
              "#ed7953"
             ],
             [
              0.7777777777777778,
              "#fb9f3a"
             ],
             [
              0.8888888888888888,
              "#fdca26"
             ],
             [
              1,
              "#f0f921"
             ]
            ],
            "type": "histogram2dcontour"
           }
          ],
          "mesh3d": [
           {
            "colorbar": {
             "outlinewidth": 0,
             "ticks": ""
            },
            "type": "mesh3d"
           }
          ],
          "parcoords": [
           {
            "line": {
             "colorbar": {
              "outlinewidth": 0,
              "ticks": ""
             }
            },
            "type": "parcoords"
           }
          ],
          "pie": [
           {
            "automargin": true,
            "type": "pie"
           }
          ],
          "scatter": [
           {
            "marker": {
             "colorbar": {
              "outlinewidth": 0,
              "ticks": ""
             }
            },
            "type": "scatter"
           }
          ],
          "scatter3d": [
           {
            "line": {
             "colorbar": {
              "outlinewidth": 0,
              "ticks": ""
             }
            },
            "marker": {
             "colorbar": {
              "outlinewidth": 0,
              "ticks": ""
             }
            },
            "type": "scatter3d"
           }
          ],
          "scattercarpet": [
           {
            "marker": {
             "colorbar": {
              "outlinewidth": 0,
              "ticks": ""
             }
            },
            "type": "scattercarpet"
           }
          ],
          "scattergeo": [
           {
            "marker": {
             "colorbar": {
              "outlinewidth": 0,
              "ticks": ""
             }
            },
            "type": "scattergeo"
           }
          ],
          "scattergl": [
           {
            "marker": {
             "colorbar": {
              "outlinewidth": 0,
              "ticks": ""
             }
            },
            "type": "scattergl"
           }
          ],
          "scattermapbox": [
           {
            "marker": {
             "colorbar": {
              "outlinewidth": 0,
              "ticks": ""
             }
            },
            "type": "scattermapbox"
           }
          ],
          "scatterpolar": [
           {
            "marker": {
             "colorbar": {
              "outlinewidth": 0,
              "ticks": ""
             }
            },
            "type": "scatterpolar"
           }
          ],
          "scatterpolargl": [
           {
            "marker": {
             "colorbar": {
              "outlinewidth": 0,
              "ticks": ""
             }
            },
            "type": "scatterpolargl"
           }
          ],
          "scatterternary": [
           {
            "marker": {
             "colorbar": {
              "outlinewidth": 0,
              "ticks": ""
             }
            },
            "type": "scatterternary"
           }
          ],
          "surface": [
           {
            "colorbar": {
             "outlinewidth": 0,
             "ticks": ""
            },
            "colorscale": [
             [
              0,
              "#0d0887"
             ],
             [
              0.1111111111111111,
              "#46039f"
             ],
             [
              0.2222222222222222,
              "#7201a8"
             ],
             [
              0.3333333333333333,
              "#9c179e"
             ],
             [
              0.4444444444444444,
              "#bd3786"
             ],
             [
              0.5555555555555556,
              "#d8576b"
             ],
             [
              0.6666666666666666,
              "#ed7953"
             ],
             [
              0.7777777777777778,
              "#fb9f3a"
             ],
             [
              0.8888888888888888,
              "#fdca26"
             ],
             [
              1,
              "#f0f921"
             ]
            ],
            "type": "surface"
           }
          ],
          "table": [
           {
            "cells": {
             "fill": {
              "color": "#EBF0F8"
             },
             "line": {
              "color": "white"
             }
            },
            "header": {
             "fill": {
              "color": "#C8D4E3"
             },
             "line": {
              "color": "white"
             }
            },
            "type": "table"
           }
          ]
         },
         "layout": {
          "annotationdefaults": {
           "arrowcolor": "#2a3f5f",
           "arrowhead": 0,
           "arrowwidth": 1
          },
          "coloraxis": {
           "colorbar": {
            "outlinewidth": 0,
            "ticks": ""
           }
          },
          "colorscale": {
           "diverging": [
            [
             0,
             "#8e0152"
            ],
            [
             0.1,
             "#c51b7d"
            ],
            [
             0.2,
             "#de77ae"
            ],
            [
             0.3,
             "#f1b6da"
            ],
            [
             0.4,
             "#fde0ef"
            ],
            [
             0.5,
             "#f7f7f7"
            ],
            [
             0.6,
             "#e6f5d0"
            ],
            [
             0.7,
             "#b8e186"
            ],
            [
             0.8,
             "#7fbc41"
            ],
            [
             0.9,
             "#4d9221"
            ],
            [
             1,
             "#276419"
            ]
           ],
           "sequential": [
            [
             0,
             "#0d0887"
            ],
            [
             0.1111111111111111,
             "#46039f"
            ],
            [
             0.2222222222222222,
             "#7201a8"
            ],
            [
             0.3333333333333333,
             "#9c179e"
            ],
            [
             0.4444444444444444,
             "#bd3786"
            ],
            [
             0.5555555555555556,
             "#d8576b"
            ],
            [
             0.6666666666666666,
             "#ed7953"
            ],
            [
             0.7777777777777778,
             "#fb9f3a"
            ],
            [
             0.8888888888888888,
             "#fdca26"
            ],
            [
             1,
             "#f0f921"
            ]
           ],
           "sequentialminus": [
            [
             0,
             "#0d0887"
            ],
            [
             0.1111111111111111,
             "#46039f"
            ],
            [
             0.2222222222222222,
             "#7201a8"
            ],
            [
             0.3333333333333333,
             "#9c179e"
            ],
            [
             0.4444444444444444,
             "#bd3786"
            ],
            [
             0.5555555555555556,
             "#d8576b"
            ],
            [
             0.6666666666666666,
             "#ed7953"
            ],
            [
             0.7777777777777778,
             "#fb9f3a"
            ],
            [
             0.8888888888888888,
             "#fdca26"
            ],
            [
             1,
             "#f0f921"
            ]
           ]
          },
          "colorway": [
           "#636efa",
           "#EF553B",
           "#00cc96",
           "#ab63fa",
           "#FFA15A",
           "#19d3f3",
           "#FF6692",
           "#B6E880",
           "#FF97FF",
           "#FECB52"
          ],
          "font": {
           "color": "#2a3f5f"
          },
          "geo": {
           "bgcolor": "white",
           "lakecolor": "white",
           "landcolor": "#E5ECF6",
           "showlakes": true,
           "showland": true,
           "subunitcolor": "white"
          },
          "hoverlabel": {
           "align": "left"
          },
          "hovermode": "closest",
          "mapbox": {
           "style": "light"
          },
          "paper_bgcolor": "white",
          "plot_bgcolor": "#E5ECF6",
          "polar": {
           "angularaxis": {
            "gridcolor": "white",
            "linecolor": "white",
            "ticks": ""
           },
           "bgcolor": "#E5ECF6",
           "radialaxis": {
            "gridcolor": "white",
            "linecolor": "white",
            "ticks": ""
           }
          },
          "scene": {
           "xaxis": {
            "backgroundcolor": "#E5ECF6",
            "gridcolor": "white",
            "gridwidth": 2,
            "linecolor": "white",
            "showbackground": true,
            "ticks": "",
            "zerolinecolor": "white"
           },
           "yaxis": {
            "backgroundcolor": "#E5ECF6",
            "gridcolor": "white",
            "gridwidth": 2,
            "linecolor": "white",
            "showbackground": true,
            "ticks": "",
            "zerolinecolor": "white"
           },
           "zaxis": {
            "backgroundcolor": "#E5ECF6",
            "gridcolor": "white",
            "gridwidth": 2,
            "linecolor": "white",
            "showbackground": true,
            "ticks": "",
            "zerolinecolor": "white"
           }
          },
          "shapedefaults": {
           "line": {
            "color": "#2a3f5f"
           }
          },
          "ternary": {
           "aaxis": {
            "gridcolor": "white",
            "linecolor": "white",
            "ticks": ""
           },
           "baxis": {
            "gridcolor": "white",
            "linecolor": "white",
            "ticks": ""
           },
           "bgcolor": "#E5ECF6",
           "caxis": {
            "gridcolor": "white",
            "linecolor": "white",
            "ticks": ""
           }
          },
          "title": {
           "x": 0.05
          },
          "xaxis": {
           "automargin": true,
           "gridcolor": "white",
           "linecolor": "white",
           "ticks": "",
           "title": {
            "standoff": 15
           },
           "zerolinecolor": "white",
           "zerolinewidth": 2
          },
          "yaxis": {
           "automargin": true,
           "gridcolor": "white",
           "linecolor": "white",
           "ticks": "",
           "title": {
            "standoff": 15
           },
           "zerolinecolor": "white",
           "zerolinewidth": 2
          }
         }
        },
        "title": {
         "font": {
          "size": 16
         },
         "text": "Concept Lattice"
        },
        "width": 1000,
        "xaxis": {
         "showgrid": false,
         "showticklabels": false,
         "zeroline": false
        },
        "yaxis": {
         "showgrid": false,
         "showticklabels": false,
         "zeroline": false
        }
       }
      },
      "text/html": [
       "<div>\n",
       "        \n",
       "        \n",
       "            <div id=\"4c742b68-4850-422d-a62a-ed18552a96e3\" class=\"plotly-graph-div\" style=\"height:500px; width:1000px;\"></div>\n",
       "            <script type=\"text/javascript\">\n",
       "                require([\"plotly\"], function(Plotly) {\n",
       "                    window.PLOTLYENV=window.PLOTLYENV || {};\n",
       "                    \n",
       "                if (document.getElementById(\"4c742b68-4850-422d-a62a-ed18552a96e3\")) {\n",
       "                    Plotly.newPlot(\n",
       "                        '4c742b68-4850-422d-a62a-ed18552a96e3',\n",
       "                        [{\"hoverinfo\": \"none\", \"line\": {\"color\": \"#888\", \"width\": 0.5}, \"mode\": \"lines\", \"type\": \"scatter\", \"x\": [-3.5, -8.5, null, 1.0, 1.0, null, 1.0, -2.0, null, -1.0, -1.0, null, -1.5, 0.5, null, -7.5, 0.0, null, -7.5, -3.0, null, -2.5, -1.5, null, -1.5, -8.5, null, -1.5, -1.0, null, -10.5, -7.0, null, -10.5, -6.0, null, -0.5, 3.5, null, 4.0, 2.0, null, 4.0, 0.0, null, -6.5, -2.0, null, 3.0, 1.5, null, 3.0, 0.5, null, -9.5, -6.0, null, 1.5, -1.0, null, 1.5, -2.0, null, 1.5, 3.0, null, -5.5, -3.0, null, -0.5, -3.5, null, 0.5, -2.5, null, -0.5, 2.0, null, -0.5, -0.5, null, -0.5, -2.0, null, 7.0, 2.0, null, 6.5, 3.0, null, 0.5, 3.5, null, 1.5, -1.5, null, 0.5, 0.0, null, 2.5, -3.5, null, -4.5, -4.0, null, 2.5, 3.0, null, 2.5, -2.0, null, 3.5, 2.0, null, 3.5, -2.0, null, -8.5, -5.0, null, 7.5, 2.0, null, -7.0, -3.0, null, 9.5, 5.0, null, 8.5, 3.0, null, -4.0, -2.0, null, -6.0, -3.0, null, 3.5, -2.5, null, -3.5, -2.0, null, 6.0, 2.0, null, 6.0, 1.0, null, -5.0, -3.0, null, 2.0, 0.0, null, 2.0, 1.0, null, -0.5, 0.0, null, -2.5, -3.0, null, 0.0, -1.0, null, 5.5, 5.0, null, 5.5, -2.0, null, 10.5, 5.0, null, 2.0, 1.5, null, 2.0, 0.5, null, -1.5, -2.0, null, -3.0, -2.0, null, 4.5, 3.0, null, 4.5, -2.0, null, -1.0, -0.5, null, 5.0, 1.0, null, -2.0, -2.0, null, -3.0, -0.5, null, 3.0, 0.0, null, 3.0, 1.0, null, 0.0, 1.5, null, -0.5, 0.5, null, 1.0, 1.5, null, 1.5, 0.5, null, -2.0, 0.5, null, 0.5, 0.5, null, 0.5, 0.0, null], \"y\": [2, 3, null, 4, 5, null, 4, 5, null, 4, 5, null, 6, 7, null, 3, 4, null, 3, 5, null, 2, 3, null, 2, 3, null, 2, 5, null, 3, 4, null, 3, 4, null, 1, 2, null, 4, 5, null, 4, 5, null, 3, 4, null, 5, 6, null, 5, 6, null, 3, 4, null, 3, 5, null, 3, 4, null, 3, 4, null, 3, 4, null, 2, 3, null, 2, 3, null, 3, 4, null, 3, 6, null, 3, 5, null, 4, 5, null, 3, 4, null, 1, 2, null, 2, 3, null, 3, 4, null, 2, 3, null, 3, 4, null, 3, 4, null, 3, 5, null, 3, 4, null, 3, 5, null, 3, 4, null, 3, 4, null, 4, 5, null, 3, 4, null, 3, 4, null, 4, 5, null, 4, 5, null, 2, 3, null, 3, 4, null, 4, 5, null, 4, 5, null, 4, 5, null, 4, 5, null, 4, 5, null, 7, 8, null, 3, 4, null, 4, 5, null, 3, 4, null, 3, 5, null, 3, 4, null, 5, 6, null, 5, 6, null, 3, 4, null, 4, 5, null, 3, 4, null, 3, 5, null, 5, 6, null, 4, 5, null, 4, 5, null, 5, 6, null, 4, 5, null, 4, 5, null, 5, 6, null, 6, 7, null, 5, 6, null, 6, 7, null, 5, 6, null, 6, 7, null, 7, 8, null]}, {\"hoverinfo\": \"text\", \"hovertext\": [\"Concept 39<br><br>extent (len: 4): 1467, 3743, 2821, 2685<br>intent (len: 20): marital!=married, age>=41, contact!=unknown, month!=jun, month!=feb,...<br>new extent (len: 4): 1467, 3743, 2821, 2685<br>new_intent (len: 4): age__leq__56, balance__leq__302, balance__leq__262, month!=jun<br>metric strongness = 1.0<br>metric stab_min_bound = None<br>metric stab_max_bound = None<br>metric log_stab_min_bound = None<br>metric log_stab_max_bound = None<br>metric lstab_min_bound = None<br>metric n_uncovered = 0<br>\", \"Concept 57<br><br>extent (len: 4): 3751, 1124, 1736, 1695<br>intent (len: 22): contact!=unknown, month!=jun, month!=feb, month!=sep, loan__leq__0,...<br>new extent (len: 4): 3751, 1124, 1736, 1695<br>new_intent (len: 15): education!=tertiary, campaign__leq__4, month!=jun, month!=jul, month!=feb,...<br>metric strongness = 1.0<br>metric stab_min_bound = None<br>metric stab_max_bound = None<br>metric log_stab_min_bound = None<br>metric log_stab_max_bound = None<br>metric lstab_min_bound = None<br>metric n_uncovered = 0<br>\", \"Concept 40<br><br>extent (len: 4): 1467, 975, 189, 684<br>intent (len: 20): contact!=unknown, month!=feb, month!=sep, loan__leq__0, age__leq__56,...<br>new extent (len: 4): 1467, 975, 189, 684<br>new_intent (len: 6): education!=tertiary, balance__leq__262, campaign>=2, month!=oct, age__leq__56,...<br>metric strongness = 1.0<br>metric stab_min_bound = None<br>metric stab_max_bound = None<br>metric log_stab_min_bound = None<br>metric log_stab_max_bound = None<br>metric lstab_min_bound = None<br>metric n_uncovered = 0<br>\", \"Concept 47<br><br>extent (len: 4): 1928, 1672, 4108, 36<br>intent (len: 21): marital!=married, contact!=unknown, month!=jun, month!=feb, month!=sep,...<br>new extent (len: 4): 1928, 4108, 1672, 36<br>new_intent (len: 20): marital!=married, month!=jun, month!=feb, month!=sep, loan__leq__0,...<br>metric strongness = 1.0<br>metric stab_min_bound = None<br>metric stab_max_bound = None<br>metric log_stab_min_bound = None<br>metric log_stab_max_bound = None<br>metric lstab_min_bound = None<br>metric n_uncovered = 0<br>\", \"Concept 53<br><br>extent (len: 4): 3013, 3789, 3250, 1905<br>intent (len: 22): age>=46, age>=41, contact!=unknown, month!=jun, month!=feb,...<br>new extent (len: 4): 3013, 1905, 3789, 3250<br>new_intent (len: 4): age__leq__56, age>=46, marital=married, education=tertiary<br>metric strongness = 1.0<br>metric stab_min_bound = None<br>metric stab_max_bound = None<br>metric log_stab_min_bound = None<br>metric log_stab_max_bound = None<br>metric lstab_min_bound = None<br>metric n_uncovered = 0<br>\", \"Concept 54<br><br>extent (len: 4): 880, 3317, 1754, 3684<br>intent (len: 22): age__leq__35, marital!=married, contact!=unknown, pdays__leq__185.0, month!=jun,...<br>new extent (len: 4): 880, 3317, 1754, 3684<br>new_intent (len: 7): month!=jun, month!=jul, age__leq__35, balance__leq__3940, marital!=married,...<br>metric strongness = 1.0<br>metric stab_min_bound = None<br>metric stab_max_bound = None<br>metric log_stab_min_bound = None<br>metric log_stab_max_bound = None<br>metric lstab_min_bound = None<br>metric n_uncovered = 0<br>\", \"Concept 44<br><br>extent (len: 5): 4388, 4364, 1415, 849, 1467<br>intent (len: 21): age>=46, marital!=married, age>=41, contact!=unknown, month!=feb,...<br>new extent (len: 5): 4388, 4364, 1415, 849, 1467<br>new_intent (len: 3): age>=46, month!=oct, housing__leq__0<br>metric strongness = 1.0<br>metric stab_min_bound = None<br>metric stab_max_bound = None<br>metric log_stab_min_bound = None<br>metric log_stab_max_bound = None<br>metric lstab_min_bound = None<br>metric n_uncovered = 0<br>\", \"Concept 43<br><br>extent (len: 5): 3202, 1672, 2583, 1230, 2014<br>intent (len: 21): age>=46, age>=41, contact!=unknown, month!=jun, month!=feb,...<br>new extent (len: 5): 3202, 1672, 2583, 1230, 2014<br>new_intent (len: 1): campaign>=2<br>metric strongness = 1.0<br>metric stab_min_bound = None<br>metric stab_max_bound = None<br>metric log_stab_min_bound = None<br>metric log_stab_max_bound = None<br>metric lstab_min_bound = None<br>metric n_uncovered = 0<br>\", \"Concept 46<br><br>extent (len: 5): 1056, 328, 970, 2988, 3930<br>intent (len: 21): contact!=unknown, month!=jun, month!=feb, month!=sep, loan__leq__0,...<br>new extent (len: 5): 1056, 328, 970, 2988, 3930<br>new_intent (len: 2): month!=jul, job!=blue-collar<br>metric strongness = 1.0<br>metric stab_min_bound = None<br>metric stab_max_bound = None<br>metric log_stab_min_bound = None<br>metric log_stab_max_bound = None<br>metric lstab_min_bound = None<br>metric n_uncovered = 0<br>\", \"Concept 60<br><br>extent (len: 5): 1181, 477, 4215, 1048, 347<br>intent (len: 23): contact!=unknown, pdays__leq__185.0, month!=jun, month!=feb, balance>=1026,...<br>new extent (len: 5): 1181, 477, 4215, 1048, 347<br>new_intent (len: 8): month!=jun, job!=admin., housing__leq__0, balance>=1026, loan__leq__0,...<br>metric strongness = 1.0<br>metric stab_min_bound = None<br>metric stab_max_bound = None<br>metric log_stab_min_bound = None<br>metric log_stab_max_bound = None<br>metric lstab_min_bound = None<br>metric n_uncovered = 0<br>\", \"Concept 38<br><br>extent (len: 5): 3088, 2696, 4093, 110, 3658<br>intent (len: 20): marital!=married, contact!=unknown, pdays__leq__185.0, month!=feb, balance>=1026,...<br>new extent (len: 5): 3088, 2696, 4093, 110, 3658<br>new_intent (len: 10): job!=admin., balance>=1026, month!=sep, balance>=100, balance>=229,...<br>metric strongness = 1.0<br>metric stab_min_bound = None<br>metric stab_max_bound = None<br>metric log_stab_min_bound = None<br>metric log_stab_max_bound = None<br>metric lstab_min_bound = None<br>metric n_uncovered = 0<br>\", \"Concept 55<br><br>extent (len: 5): 3176, 1181, 1374, 880, 1048<br>intent (len: 22): contact!=unknown, pdays__leq__185.0, month!=jun, month!=feb, month!=sep,...<br>new extent (len: 5): 3176, 1181, 1374, 880, 1048<br>new_intent (len: 17): month!=aug, campaign__leq__4, month!=jun, education!=tertiary, month!=jul,...<br>metric strongness = 1.0<br>metric stab_min_bound = None<br>metric stab_max_bound = None<br>metric log_stab_min_bound = None<br>metric log_stab_max_bound = None<br>metric lstab_min_bound = None<br>metric n_uncovered = 0<br>\", \"Concept 59<br><br>extent (len: 5): 3202, 2962, 3978, 2049, 347<br>intent (len: 23): age>=46, age>=41, contact!=unknown, month!=jun, month!=feb,...<br>new extent (len: 5): 3202, 2962, 3978, 2049, 347<br>new_intent (len: 6): campaign__leq__4, month!=feb, marital=married, age>=55, education!=secondary,...<br>metric strongness = 1.0<br>metric stab_min_bound = None<br>metric stab_max_bound = None<br>metric log_stab_min_bound = None<br>metric log_stab_max_bound = None<br>metric lstab_min_bound = None<br>metric n_uncovered = 0<br>\", \"Concept 56<br><br>extent (len: 5): 1469, 4009, 684, 1437, 1124<br>intent (len: 22): contact!=unknown, pdays__leq__185.0, month!=feb, month!=sep, loan__leq__0,...<br>new extent (len: 5): 1469, 4009, 684, 1437, 1124<br>new_intent (len: 4): balance__leq__302, balance__leq__262, housing__leq__0, job!=blue-collar<br>metric strongness = 1.0<br>metric stab_min_bound = None<br>metric stab_max_bound = None<br>metric log_stab_min_bound = None<br>metric log_stab_max_bound = None<br>metric lstab_min_bound = None<br>metric n_uncovered = 0<br>\", \"Concept 52<br><br>extent (len: 5): 3202, 1056, 4160, 3301, 2122<br>intent (len: 22): age>=46, age>=41, contact!=unknown, month!=jun, month!=feb,...<br>new extent (len: 5): 3202, 1056, 4160, 3301, 2122<br>new_intent (len: 7): age>=46, month!=jul, marital=married, job!=blue-collar, month!=nov,...<br>metric strongness = 1.0<br>metric stab_min_bound = None<br>metric stab_max_bound = None<br>metric log_stab_min_bound = None<br>metric log_stab_max_bound = None<br>metric lstab_min_bound = None<br>metric n_uncovered = 0<br>\", \"Concept 48<br><br>extent (len: 5): 684, 3297, 164, 110, 3658<br>intent (len: 21): age__leq__35, marital!=married, contact!=unknown, pdays__leq__185.0, month!=feb,...<br>new extent (len: 5): 684, 3297, 164, 110, 3658<br>new_intent (len: 4): age__leq__56, housing__leq__0, age__leq__35, campaign>=2<br>metric strongness = 1.0<br>metric stab_min_bound = None<br>metric stab_max_bound = None<br>metric log_stab_min_bound = None<br>metric log_stab_max_bound = None<br>metric lstab_min_bound = None<br>metric n_uncovered = 0<br>\", \"Concept 45<br><br>extent (len: 5): 2431, 3064, 83, 2486, 3930<br>intent (len: 21): age>=41, contact!=unknown, month!=jun, month!=feb, month!=sep,...<br>new extent (len: 5): 2431, 3064, 83, 2486, 3930<br>new_intent (len: 3): age__leq__56, age>=41, job!=blue-collar<br>metric strongness = 1.0<br>metric stab_min_bound = None<br>metric stab_max_bound = None<br>metric log_stab_min_bound = None<br>metric log_stab_max_bound = None<br>metric lstab_min_bound = None<br>metric n_uncovered = 0<br>\", \"Concept 51<br><br>extent (len: 6): 3586, 464, 2188, 4215, 1048,...<br>intent (len: 21): contact!=unknown, pdays__leq__185.0, month!=jun, month!=feb, loan__leq__0,...<br>new extent (len: 6): 3586, 464, 2188, 4215, 1048,...<br>new_intent (len: 3): age__leq__56, campaign__leq__4, balance__leq__3940<br>metric strongness = 1.0<br>metric stab_min_bound = None<br>metric stab_max_bound = None<br>metric log_stab_min_bound = None<br>metric log_stab_max_bound = None<br>metric lstab_min_bound = None<br>metric n_uncovered = 0<br>\", \"Concept 50<br><br>extent (len: 6): 3005, 1181, 4160, 2122, 1342,...<br>intent (len: 21): contact!=unknown, month!=jun, month!=feb, month!=sep, balance>=229,...<br>new extent (len: 6): 3005, 1181, 4160, 2122, 1342,...<br>new_intent (len: 8): education!=tertiary, month!=jun, pdays>=181.0, month!=sep, balance>=100,...<br>metric strongness = 1.0<br>metric stab_min_bound = None<br>metric stab_max_bound = None<br>metric log_stab_min_bound = None<br>metric log_stab_max_bound = None<br>metric lstab_min_bound = None<br>metric n_uncovered = 0<br>\", \"Concept 42<br><br>extent (len: 6): 3088, 4093, 70, 4159, 3256,...<br>intent (len: 20): contact!=unknown, pdays__leq__185.0, month!=jun, month!=feb, month!=sep,...<br>new extent (len: 6): 3088, 4093, 70, 4159, 3256,...<br>new_intent (len: 10): month!=jun, housing__leq__0, month!=feb, month!=sep, month!=jan,...<br>metric strongness = 1.0<br>metric stab_min_bound = None<br>metric stab_max_bound = None<br>metric log_stab_min_bound = None<br>metric log_stab_max_bound = None<br>metric lstab_min_bound = None<br>metric n_uncovered = 0<br>\", \"Concept 49<br><br>extent (len: 7): 2431, 1653, 3239, 2444, 83,...<br>intent (len: 21): contact!=unknown, month!=jun, month!=feb, month!=sep, loan__leq__0,...<br>new extent (len: 7): 2431, 3239, 1653, 2444, 83,...<br>new_intent (len: 2): age__leq__56, marital=married<br>metric strongness = 1.0<br>metric stab_min_bound = None<br>metric stab_max_bound = None<br>metric log_stab_min_bound = None<br>metric log_stab_max_bound = None<br>metric lstab_min_bound = None<br>metric n_uncovered = 0<br>\", \"Concept 41<br><br>extent (len: 7): 1349, 1469, 1653, 1083, 3270,...<br>intent (len: 20): contact!=unknown, pdays__leq__185.0, month!=feb, month!=sep, loan__leq__0,...<br>new extent (len: 7): 1349, 1469, 1653, 1083, 3270,...<br>new_intent (len: 5): education!=tertiary, job!=admin., marital=married, month!=sep, month!=apr<br>metric strongness = 1.0<br>metric stab_min_bound = None<br>metric stab_max_bound = None<br>metric log_stab_min_bound = None<br>metric log_stab_max_bound = None<br>metric lstab_min_bound = None<br>metric n_uncovered = 0<br>\", \"Concept 37<br><br>extent (len: 7): 4229, 1437, 36, 3311, 1124,...<br>intent (len: 20): contact!=unknown, month!=jun, month!=feb, month!=sep, loan__leq__0,...<br>new extent (len: 7): 4229, 1437, 36, 3311, 1124,...<br>new_intent (len: 3): balance__leq__302, balance__leq__262, month!=mar<br>metric strongness = 0.7<br>metric stab_min_bound = None<br>metric stab_max_bound = None<br>metric log_stab_min_bound = None<br>metric log_stab_max_bound = None<br>metric lstab_min_bound = None<br>metric n_uncovered = 0<br>\", \"Concept 32<br><br>extent (len: 8): 3527, 2213, 4229, 4009, 1928,...<br>intent (len: 19): marital!=married, contact!=unknown, pdays__leq__185.0, month!=jun, month!=feb,...<br>new extent (len: 8): 3243, 2213, 4229, 4009, 1928,...<br>new_intent (len: 2): campaign__leq__4, month!=jun<br>metric strongness = 1.0<br>metric stab_min_bound = None<br>metric stab_max_bound = None<br>metric log_stab_min_bound = None<br>metric log_stab_max_bound = None<br>metric lstab_min_bound = None<br>metric n_uncovered = 0<br>\", \"Concept 28<br><br>extent (len: 8): 1754, 1485, 1374, 984, 2471,...<br>intent (len: 18): month!=aug, month!=jun, job!=admin., month!=jul, housing__leq__0,...<br>new extent (len: 8): 1754, 1374, 1485, 984, 2471,...<br>new_intent (len: 3): balance>=100, pdays__leq__185.0, poutcome!=failure<br>metric strongness = 1.0<br>metric stab_min_bound = None<br>metric stab_max_bound = None<br>metric log_stab_min_bound = None<br>metric log_stab_max_bound = None<br>metric lstab_min_bound = None<br>metric n_uncovered = 0<br>\", \"Concept 58<br><br>extent (len: 9): 2675, 2917, 941, 1060, 3835,...<br>intent (len: 22): contact!=unknown, pdays__leq__185.0, month!=jun, month!=sep, loan__leq__0,...<br>new extent (len: 9): 2675, 2917, 941, 3835, 2969,...<br>new_intent (len: 11): month!=jun, education=tertiary, month!=jul, month!=sep, month!=jan,...<br>metric strongness = 1.0<br>metric stab_min_bound = None<br>metric stab_max_bound = None<br>metric log_stab_min_bound = None<br>metric log_stab_max_bound = None<br>metric lstab_min_bound = None<br>metric n_uncovered = 0<br>\", \"Concept 35<br><br>extent (len: 10): 3586, 347, 49, 464, 1653,...<br>intent (len: 19): contact!=unknown, pdays__leq__185.0, month!=jun, month!=feb, loan__leq__0,...<br>new extent (len: 10): 3586, 1653, 464, 1083, 4215,...<br>new_intent (len: 2): marital=married, campaign__leq__4<br>metric strongness = 1.0<br>metric stab_min_bound = None<br>metric stab_max_bound = None<br>metric log_stab_min_bound = None<br>metric log_stab_max_bound = None<br>metric lstab_min_bound = None<br>metric n_uncovered = 0<br>\", \"Concept 20<br><br>extent (len: 10): 4388, 2821, 4364, 1672, 2685,...<br>intent (len: 16): month!=aug, campaign__leq__4, education!=tertiary, month!=jul, month!=feb,...<br>new extent (len: 2): 1672, 36<br>new_intent (len: 2): education!=tertiary, balance__leq__3940<br>metric strongness = 0.6666666666666666<br>metric stab_min_bound = 0.953125<br>metric stab_max_bound = 0.96875<br>metric log_stab_min_bound = 4.415037499278844<br>metric log_stab_max_bound = 5.0<br>metric lstab_min_bound = -34.0<br>metric n_uncovered = 0<br>\", \"Concept 27<br><br>extent (len: 11): 492, 1952, 3088, 3586, 1653,...<br>intent (len: 17): month!=aug, month!=jun, education!=tertiary, age__leq__56, month!=feb,...<br>new extent (len: 11): 1952, 3586, 492, 3088, 1653,...<br>new_intent (len: 2): age__leq__56, month!=jan<br>metric strongness = 1.0<br>metric stab_min_bound = None<br>metric stab_max_bound = None<br>metric log_stab_min_bound = None<br>metric log_stab_max_bound = None<br>metric lstab_min_bound = None<br>metric n_uncovered = 0<br>\", \"Concept 31<br><br>extent (len: 11): 1303, 3202, 2421, 4160, 1672,...<br>intent (len: 19): age>=41, contact!=unknown, month!=jun, month!=feb, balance>=1026,...<br>new extent (len: 6): 1303, 2421, 4160, 3978, 2049,...<br>new_intent (len: 10): month!=jun, job!=admin., housing__leq__0, month!=feb, balance>=1026,...<br>metric strongness = 0.55<br>metric stab_min_bound = 0.984375<br>metric stab_max_bound = 0.984375<br>metric log_stab_min_bound = 6.0<br>metric log_stab_max_bound = 6.0<br>metric lstab_min_bound = -33.0<br>metric n_uncovered = 0<br>\", \"Concept 36<br><br>extent (len: 12): 3695, 289, 2675, 619, 1754,...<br>intent (len: 19): contact!=unknown, pdays__leq__185.0, month!=jun, month!=feb, month!=sep,...<br>new extent (len: 12): 3695, 289, 2675, 619, 1754,...<br>new_intent (len: 10): campaign__leq__4, month!=jun, education=tertiary, month!=jul, month!=sep,...<br>metric strongness = 1.0<br>metric stab_min_bound = None<br>metric stab_max_bound = None<br>metric log_stab_min_bound = None<br>metric log_stab_max_bound = None<br>metric lstab_min_bound = None<br>metric n_uncovered = 0<br>\", \"Concept 34<br><br>extent (len: 12): 2992, 4224, 3589, 2372, 2847,...<br>intent (len: 19): contact!=unknown, pdays__leq__185.0, month!=jun, month!=feb, month!=sep,...<br>new extent (len: 12): 2992, 4224, 1905, 2372, 2847,...<br>new_intent (len: 9): month!=aug, month!=jun, month!=jul, month!=feb, month!=sep,...<br>metric strongness = 1.0<br>metric stab_min_bound = None<br>metric stab_max_bound = None<br>metric log_stab_min_bound = None<br>metric log_stab_max_bound = None<br>metric lstab_min_bound = None<br>metric n_uncovered = 0<br>\", \"Concept 16<br><br>extent (len: 12): 2449, 3835, 1754, 1374, 1485,...<br>intent (len: 15): month!=aug, month!=jun, job!=admin., month!=jul, housing__leq__0,...<br>new extent (len: 4): 328, 3835, 1109, 2449<br>new_intent (len: 10): month!=aug, month!=jun, job!=admin., month!=jul, housing__leq__0,...<br>metric strongness = 0.4444444444444444<br>metric stab_min_bound = 0.9375<br>metric stab_max_bound = 0.9375<br>metric log_stab_min_bound = 4.0<br>metric log_stab_max_bound = 4.0<br>metric lstab_min_bound = -35.0<br>metric n_uncovered = 0<br>\", \"Concept 24<br><br>extent (len: 12): 3202, 2962, 3558, 4160, 1672,...<br>intent (len: 17): month!=aug, age>=46, month!=jun, job!=admin., month!=jul,...<br>new extent (len: 3): 3558, 4160, 984<br>new_intent (len: 8): month!=jun, job!=admin., age>=46, balance>=1026, loan__leq__0,...<br>metric strongness = 0.3157894736842105<br>metric stab_min_bound = 0.984375<br>metric stab_max_bound = 0.9921875<br>metric log_stab_min_bound = 6.0<br>metric log_stab_max_bound = 7.0<br>metric lstab_min_bound = -32.0<br>metric n_uncovered = 0<br>\", \"Concept 33<br><br>extent (len: 13): 3088, 3930, 2431, 1056, 1653,...<br>intent (len: 19): contact!=unknown, month!=jun, month!=feb, month!=sep, loan__leq__0,...<br>new extent (len: 2): 3088, 1083<br>new_intent (len: 1): education!=tertiary<br>metric strongness = 0.9285714285714286<br>metric stab_min_bound = 0.98046875<br>metric stab_max_bound = 0.984375<br>metric log_stab_min_bound = 5.678071905112637<br>metric log_stab_max_bound = 6.0<br>metric lstab_min_bound = -33.0<br>metric n_uncovered = 0<br>\", \"Concept 26<br><br>extent (len: 13): 3527, 2213, 4229, 4009, 684,...<br>intent (len: 17): month!=aug, job!=admin., month!=jul, month!=feb, month!=jan,...<br>new extent (len: 1): 849<br>new_intent (len: 7): job!=admin., month!=jul, month!=sep, balance__leq__3940, marital!=married,...<br>metric strongness = 0.7647058823529411<br>metric stab_min_bound = 0.96484375<br>metric stab_max_bound = 0.96875<br>metric log_stab_min_bound = 4.830074998557688<br>metric log_stab_max_bound = 5.0<br>metric lstab_min_bound = -34.0<br>metric n_uncovered = 0<br>\", \"Concept 30<br><br>extent (len: 14): 1469, 199, 3005, 2055, 4160,...<br>intent (len: 18): month!=aug, campaign__leq__4, education!=tertiary, month!=jul, month!=feb,...<br>new extent (len: 14): 1469, 199, 3005, 2055, 4160,...<br>new_intent (len: 4): education!=tertiary, balance>=100, balance>=229, balance__leq__3940<br>metric strongness = 1.0<br>metric stab_min_bound = None<br>metric stab_max_bound = None<br>metric log_stab_min_bound = None<br>metric log_stab_max_bound = None<br>metric lstab_min_bound = None<br>metric n_uncovered = 0<br>\", \"Concept 13<br><br>extent (len: 14): 4388, 2821, 4364, 4229, 2421,...<br>intent (len: 14): month!=aug, campaign__leq__4, month!=jul, month!=feb, month!=jan,...<br>new extent (len: 4): 2696, 4229, 2421, 2014<br>new_intent (len: 5): campaign__leq__4, month!=feb, month!=jan, month!=sep, marital!=married<br>metric strongness = 0.56<br>metric stab_min_bound = 0.9375<br>metric stab_max_bound = 0.9375<br>metric log_stab_min_bound = 4.0<br>metric log_stab_max_bound = 4.0<br>metric lstab_min_bound = -35.0<br>metric n_uncovered = 0<br>\", \"Concept 19<br><br>extent (len: 16): 492, 1952, 3088, 3586, 4224,...<br>intent (len: 15): month!=aug, month!=jun, education!=tertiary, month!=feb, balance>=100,...<br>new extent (len: 1): 4224<br>new_intent (len: 8): month!=aug, month!=jun, education!=tertiary, month!=feb, balance>=100,...<br>metric strongness = 0.9411764705882353<br>metric stab_min_bound = 0.9521484375<br>metric stab_max_bound = 0.96875<br>metric log_stab_min_bound = 4.385290155884792<br>metric log_stab_max_bound = 5.0<br>metric lstab_min_bound = -34.0<br>metric n_uncovered = 0<br>\", \"Concept 18<br><br>extent (len: 16): 3248, 503, 3088, 2421, 4458,...<br>intent (len: 15): month!=aug, campaign__leq__4, month!=jun, job!=admin., month!=feb,...<br>new extent (len: 16): 3248, 503, 3088, 4458, 2421,...<br>new_intent (len: 15): month!=aug, campaign__leq__4, month!=jun, job!=admin., housing__leq__0,...<br>metric strongness = 0.16326530612244897<br>metric stab_min_bound = None<br>metric stab_max_bound = None<br>metric log_stab_min_bound = None<br>metric log_stab_max_bound = None<br>metric lstab_min_bound = None<br>metric n_uncovered = 0<br>\", \"Concept 29<br><br>extent (len: 18): 3088, 3930, 2431, 2449, 3064,...<br>intent (len: 18): campaign__leq__4, pdays>=181.0, month!=jun, job!=admin., month!=feb,...<br>new extent (len: 4): 4093, 3502, 4458, 2449<br>new_intent (len: 3): month!=nov, month!=jan, balance__leq__3940<br>metric strongness = 0.8181818181818182<br>metric stab_min_bound = 0.9686279296875<br>metric stab_max_bound = 0.96875<br>metric log_stab_min_bound = 4.994375450806122<br>metric log_stab_max_bound = 5.0<br>metric lstab_min_bound = -34.0<br>metric n_uncovered = 0<br>\", \"Concept 25<br><br>extent (len: 22): 4458, 3502, 1437, 504, 4224,...<br>intent (len: 17): month!=aug, campaign__leq__4, month!=jun, job!=admin., month!=jul,...<br>new extent (len: 12): 4388, 4224, 2449, 1303, 3256,...<br>new_intent (len: 3): month!=jun, education!=secondary, job!=blue-collar<br>metric strongness = 0.4888888888888889<br>metric stab_min_bound = 0.9999656677246094<br>metric stab_max_bound = 0.999969482421875<br>metric log_stab_min_bound = 14.830074998557688<br>metric log_stab_max_bound = 15.0<br>metric lstab_min_bound = -24.0<br>metric n_uncovered = 0<br>\", \"Concept 22<br><br>extent (len: 23): 3370, 4458, 684, 70, 347,...<br>intent (len: 16): month!=aug, age__leq__56, month!=feb, housing__leq__0, month!=jan,...<br>new extent (len: 23): 3370, 4458, 684, 70, 347,...<br>new_intent (len: 4): month!=aug, month!=apr, balance__leq__3940, job!=blue-collar<br>metric strongness = 1.0<br>metric stab_min_bound = None<br>metric stab_max_bound = None<br>metric log_stab_min_bound = None<br>metric log_stab_max_bound = None<br>metric lstab_min_bound = None<br>metric n_uncovered = 0<br>\", \"Concept 23<br><br>extent (len: 24): 3695, 1653, 4458, 1374, 70,...<br>intent (len: 16): month!=aug, campaign__leq__4, month!=jun, age__leq__56, month!=feb,...<br>new extent (len: 24): 3695, 1653, 4458, 1374, 70,...<br>new_intent (len: 7): month!=aug, campaign__leq__4, month!=jun, loan__leq__0, month!=sep,...<br>metric strongness = 1.0<br>metric stab_min_bound = None<br>metric stab_max_bound = None<br>metric log_stab_min_bound = None<br>metric log_stab_max_bound = None<br>metric lstab_min_bound = None<br>metric n_uncovered = 0<br>\", \"Concept 12<br><br>extent (len: 25): 3695, 1469, 199, 1181, 2055,...<br>intent (len: 13): month!=aug, campaign__leq__4, month!=jul, month!=feb, marital=married,...<br>new extent (len: 8): 3695, 4433, 2449, 3202, 3978,...<br>new_intent (len: 8): month!=aug, campaign__leq__4, month!=jul, month!=feb, marital=married,...<br>metric strongness = 0.8333333333333334<br>metric stab_min_bound = 0.9995088577270508<br>metric stab_max_bound = 0.99951171875<br>metric log_stab_min_bound = 10.99157137792942<br>metric log_stab_max_bound = 11.0<br>metric lstab_min_bound = -28.0<br>metric n_uncovered = 0<br>\", \"Concept 17<br><br>extent (len: 25): 3695, 1469, 199, 3586, 1653,...<br>intent (len: 15): month!=aug, campaign__leq__4, month!=feb, housing__leq__0, month!=jan,...<br>new extent (len: 14): 3695, 199, 3586, 3088, 855,...<br>new_intent (len: 5): campaign__leq__4, housing__leq__0, balance>=100, balance>=229, month!=oct<br>metric strongness = 0.625<br>metric stab_min_bound = 0.9999957084655762<br>metric stab_max_bound = 0.9999961853027344<br>metric log_stab_min_bound = 17.830074998557688<br>metric log_stab_max_bound = 18.0<br>metric lstab_min_bound = -21.0<br>metric n_uncovered = 0<br>\", \"Concept 15<br><br>extent (len: 25): 619, 1653, 4458, 2122, 83,...<br>intent (len: 15): campaign__leq__4, pdays>=181.0, month!=jun, job!=admin., month!=feb,...<br>new extent (len: 3): 412, 619, 3589<br>new_intent (len: 10): campaign__leq__4, month!=jun, job!=admin., pdays>=181.0, month!=feb,...<br>metric strongness = 0.46296296296296297<br>metric stab_min_bound = 0.9921865463256836<br>metric stab_max_bound = 0.9921875<br>metric log_stab_min_bound = 6.999823900513557<br>metric log_stab_max_bound = 7.0<br>metric lstab_min_bound = -32.0<br>metric n_uncovered = 0<br>\", \"Concept 21<br><br>extent (len: 29): 3586, 3370, 1653, 233, 70,...<br>intent (len: 16): month!=aug, campaign__leq__4, month!=jun, job!=admin., month!=jan,...<br>new extent (len: 29): 3586, 3370, 1653, 233, 70,...<br>new_intent (len: 5): month!=aug, month!=jun, month!=jan, balance__leq__3940, month!=oct<br>metric strongness = 1.0<br>metric stab_min_bound = None<br>metric stab_max_bound = None<br>metric log_stab_min_bound = None<br>metric log_stab_max_bound = None<br>metric lstab_min_bound = None<br>metric n_uncovered = 0<br>\", \"Concept 14<br><br>extent (len: 34): 1469, 4458, 684, 3331, 3502,...<br>intent (len: 14): month!=aug, campaign__leq__4, job!=admin., month!=jul, month!=feb,...<br>new extent (len: 4): 3297, 328, 1048, 3331<br>new_intent (len: 7): campaign__leq__4, job!=admin., month!=feb, loan__leq__0, month!=sep,...<br>metric strongness = 0.27419354838709675<br>metric stab_min_bound = 0.9997558547183871<br>metric stab_max_bound = 0.999755859375<br>metric log_stab_min_bound = 11.999972483038283<br>metric log_stab_max_bound = 12.0<br>metric lstab_min_bound = -27.0<br>metric n_uncovered = 0<br>\", \"Concept 9<br><br>extent (len: 47): 3695, 289, 3586, 619, 3370,...<br>intent (len: 9): age__leq__56, month!=feb, housing__leq__0, month!=jan, month!=may,...<br>new extent (len: 4): 3751, 3586, 4159, 1695<br>new_intent (len: 5): month!=feb, housing__leq__0, month!=jan, month!=nov, age__leq__56<br>metric strongness = 0.94<br>metric stab_min_bound = 0.9999998211569618<br>metric stab_max_bound = 0.9999998807907104<br>metric log_stab_min_bound = 22.414802704739976<br>metric log_stab_max_bound = 23.0<br>metric lstab_min_bound = -16.0<br>metric n_uncovered = 0<br>\", \"Concept 10<br><br>extent (len: 48): 3695, 1469, 199, 3586, 3370,...<br>intent (len: 10): month!=aug, month!=feb, month!=jan, month!=mar, loan__leq__0,...<br>new extent (len: 9): 3385, 1303, 3370, 464, 2176,...<br>new_intent (len: 5): month!=aug, month!=feb, month!=jan, month!=nov, pdays__leq__185.0<br>metric strongness = 0.4<br>metric stab_min_bound = 0.9999998807613792<br>metric stab_max_bound = 0.9999998807907104<br>metric log_stab_min_bound = 22.99964507147155<br>metric log_stab_max_bound = 23.0<br>metric lstab_min_bound = -16.0<br>metric n_uncovered = 0<br>\", \"Concept 8<br><br>extent (len: 49): 1469, 2055, 2122, 2696, 3331,...<br>intent (len: 9): month!=aug, month!=jul, job!=blue-collar, month!=nov, month!=may,...<br>new extent (len: 19): 1469, 2055, 2122, 3331, 1437,...<br>new_intent (len: 2): age>=41, job!=blue-collar<br>metric strongness = 0.22580645161290322<br>metric stab_min_bound = 0.9999999999599538<br>metric stab_max_bound = 0.9999999999708962<br>metric log_stab_min_bound = 34.53954410369036<br>metric log_stab_max_bound = 35.0<br>metric lstab_min_bound = -4.0<br>metric n_uncovered = 0<br>\", \"Concept 11<br><br>extent (len: 53): 1469, 3586, 619, 3370, 1653,...<br>intent (len: 10): campaign__leq__4, job!=admin., loan__leq__0, month!=may, pdays>=38.0,...<br>new extent (len: 5): 3751, 619, 1303, 4229, 3243<br>new_intent (len: 3): campaign__leq__4, loan__leq__0, job!=admin.<br>metric strongness = 0.9137931034482759<br>metric stab_min_bound = 0.999999940394833<br>metric stab_max_bound = 0.9999999403953552<br>metric log_stab_min_bound = 23.99998735933054<br>metric log_stab_max_bound = 24.0<br>metric lstab_min_bound = -15.0<br>metric n_uncovered = 0<br>\", \"Concept 6<br><br>extent (len: 66): 1469, 3586, 619, 3370, 1653,...<br>intent (len: 6): pdays>=38.0, poutcome=success, contact!=unknown, month!=apr, pdays__leq__185.0,...<br>new extent (len: 6): 3176, 2665, 110, 1695, 3931,...<br>new_intent (len: 3): pdays>=38.0, month!=apr, pdays__leq__185.0<br>metric strongness = 0.8148148148148148<br>metric stab_min_bound = 0.9998779296874991<br>metric stab_max_bound = 0.9998779296875<br>metric log_stab_min_bound = 12.999999999989504<br>metric log_stab_max_bound = 13.0<br>metric lstab_min_bound = -26.0<br>metric n_uncovered = 0<br>\", \"Concept 7<br><br>extent (len: 75): 1469, 3586, 3370, 2055, 4458,...<br>intent (len: 7): month!=aug, month!=jul, month!=nov, month!=may, contact!=unknown,...<br>new extent (len: 9): 98, 3385, 3370, 3835, 2176,...<br>new_intent (len: 6): month!=aug, month!=jul, month!=nov, month!=may, month!=apr,...<br>metric strongness = 0.14734774066797643<br>metric stab_min_bound = 0.9999999850983841<br>metric stab_max_bound = 0.9999999850988388<br>metric log_stab_min_bound = 25.999955973113174<br>metric log_stab_max_bound = 26.0<br>metric lstab_min_bound = -13.0<br>metric n_uncovered = 0<br>\", \"Concept 4<br><br>extent (len: 88): 1374, 2122, 2847, 2251, 3498,...<br>intent (len: 4): poutcome=success, contact!=unknown, month!=may, poutcome!=failure<br>new extent (len: 3): 3202, 1056, 2583<br>new_intent (len: 1): month!=may<br>metric strongness = 0.822429906542056<br>metric stab_min_bound = 0.9999999999704414<br>metric stab_max_bound = 0.9999999999708962<br>metric log_stab_min_bound = 34.97763218697155<br>metric log_stab_max_bound = 35.0<br>metric lstab_min_bound = -4.0<br>metric n_uncovered = 0<br>\", \"Concept 3<br><br>extent (len: 95): 1374, 2122, 2847, 2251, 3498,...<br>intent (len: 3): poutcome=success, contact!=unknown, poutcome!=failure<br>new extent (len: 1): 4232<br>new_intent (len: 2): poutcome=success, poutcome!=failure<br>metric strongness = 0.7480314960629921<br>metric stab_min_bound = 0.9921874981373549<br>metric stab_max_bound = 0.9921875<br>metric log_stab_min_bound = 6.999999656034739<br>metric log_stab_max_bound = 7.0<br>metric lstab_min_bound = -32.0<br>metric n_uncovered = 0<br>\", \"Concept 5<br><br>extent (len: 105): 1374, 2122, 83, 2847, 3502,...<br>intent (len: 5): loan__leq__0, month!=mar, month!=may, pdays>=38.0, contact!=unknown<br>new extent (len: 8): 3005, 2055, 3331, 2847, 3978,...<br>new_intent (len: 2): month!=may, loan__leq__0<br>metric strongness = 0.23127753303964757<br>metric stab_min_bound = 1.0<br>metric stab_max_bound = 1.0<br>metric log_stab_min_bound = inf<br>metric log_stab_max_bound = inf<br>metric lstab_min_bound = 18.0<br>metric n_uncovered = 0<br>\", \"Concept 2<br><br>extent (len: 116): 1374, 2122, 83, 2847, 3502,...<br>intent (len: 3): pdays>=38.0, contact!=unknown, month!=mar<br>new extent (len: 5): 4232, 3743, 4213, 3932, 2665<br>new_intent (len: 2): month!=mar, pdays>=38.0<br>metric strongness = 0.14967741935483872<br>metric stab_min_bound = 0.99951171875<br>metric stab_max_bound = 0.99951171875<br>metric log_stab_min_bound = 11.0<br>metric log_stab_max_bound = 11.0<br>metric lstab_min_bound = -28.0<br>metric n_uncovered = 0<br>\", \"Concept 1<br><br>extent (len: 148): 1374, 2122, 83, 2847, 3502,...<br>intent (len: 1): contact!=unknown<br>new extent (len: 3): 2780, 503, 129<br>new_intent (len: 1): contact!=unknown<br>metric strongness = 0.04629340006255865<br>metric stab_min_bound = 0.9999999997671692<br>metric stab_max_bound = 0.9999999997671694<br>metric log_stab_min_bound = 31.999999312069562<br>metric log_stab_max_bound = 32.0<br>metric lstab_min_bound = -7.0<br>metric n_uncovered = 148<br>\", \"Concept 0<br><br>extent (len: 149): 1374, 2122, 83, 2847, 3502,...<br>intent (len: 0): \\u2205<br>new extent (len: 0): \\u2205<br>new_intent (len: 0): \\u2205<br>metric strongness = 0.0329573103295731<br>metric stab_min_bound = 0.5<br>metric stab_max_bound = 0.5<br>metric log_stab_min_bound = 1.0<br>metric log_stab_max_bound = 1.0<br>metric lstab_min_bound = -38.0<br>\"], \"marker\": {\"color\": [1.0, 1.0, 1.0, 1.0, 1.0, 1.0, 1.0, 1.0, 1.0, 1.0, 1.0, 1.0, 1.0, 1.0, 1.0, 1.0, 1.0, 1.0, 1.0, 1.0, 1.0, 1.0, 0.7, 1.0, 1.0, 1.0, 1.0, 0.6666666666666666, 1.0, 0.55, 1.0, 1.0, 0.4444444444444444, 0.3157894736842105, 0.9285714285714286, 0.7647058823529411, 1.0, 0.56, 0.9411764705882353, 0.16326530612244897, 0.8181818181818182, 0.4888888888888889, 1.0, 1.0, 0.8333333333333334, 0.625, 0.46296296296296297, 1.0, 0.27419354838709675, 0.94, 0.4, 0.22580645161290322, 0.9137931034482759, 0.8148148148148148, 0.14734774066797643, 0.822429906542056, 0.7480314960629921, 0.23127753303964757, 0.14967741935483872, 0.04629340006255865, 0.0329573103295731], \"colorbar\": {\"thickness\": 15, \"title\": {\"side\": \"right\", \"text\": \"y_mean\"}, \"xanchor\": \"left\"}, \"colorscale\": [[0.0, \"rgb(103,0,31)\"], [0.1, \"rgb(178,24,43)\"], [0.2, \"rgb(214,96,77)\"], [0.3, \"rgb(244,165,130)\"], [0.4, \"rgb(253,219,199)\"], [0.5, \"rgb(247,247,247)\"], [0.6, \"rgb(209,229,240)\"], [0.7, \"rgb(146,197,222)\"], [0.8, \"rgb(67,147,195)\"], [0.9, \"rgb(33,102,172)\"], [1.0, \"rgb(5,48,97)\"]], \"line\": {\"width\": 2}, \"reversescale\": true, \"showscale\": true, \"size\": 10}, \"mode\": \"markers+text\", \"text\": [\"n: 4<br>n: 4\", \"n: 15<br>n: 4\", \"n: 6<br>n: 4\", \"n: 20<br>n: 4\", \"n: 4<br>n: 4\", \"n: 7<br>n: 4\", \"n: 3<br>n: 5\", \"n: 1<br>n: 5\", \"n: 2<br>n: 5\", \"n: 8<br>n: 5\", \"n: 10<br>n: 5\", \"n: 17<br>n: 5\", \"n: 6<br>n: 5\", \"n: 4<br>n: 5\", \"n: 7<br>n: 5\", \"n: 4<br>n: 5\", \"n: 3<br>n: 5\", \"n: 3<br>n: 6\", \"n: 8<br>n: 6\", \"n: 10<br>n: 6\", \"n: 2<br>n: 7\", \"n: 5<br>n: 7\", \"n: 3<br>n: 7\", \"n: 2<br>n: 8\", \"n: 3<br>n: 8\", \"n: 11<br>n: 9\", \"n: 2<br>n: 10\", \"n: 2<br>n: 2\", \"n: 2<br>n: 11\", \"n: 10<br>n: 6\", \"n: 10<br>n: 12\", \"n: 9<br>n: 12\", \"n: 10<br>n: 4\", \"n: 8<br>n: 3\", \"n: 1<br>n: 2\", \"n: 7<br>n: 1\", \"n: 4<br>n: 14\", \"n: 5<br>n: 4\", \"n: 8<br>n: 1\", \"n: 15<br>n: 16\", \"n: 3<br>n: 4\", \"n: 3<br>n: 12\", \"n: 4<br>n: 23\", \"n: 7<br>n: 24\", \"n: 8<br>n: 8\", \"n: 5<br>n: 14\", \"n: 10<br>n: 3\", \"n: 5<br>n: 29\", \"n: 7<br>n: 4\", \"n: 5<br>n: 4\", \"n: 5<br>n: 9\", \"n: 2<br>n: 19\", \"n: 3<br>n: 5\", \"n: 3<br>n: 6\", \"n: 6<br>n: 9\", \"n: 1<br>n: 3\", \"n: 2<br>n: 1\", \"n: 2<br>n: 8\", \"n: 2<br>n: 5\", \"n: 1<br>n: 3\", \"<br>\"], \"textposition\": \"middle right\", \"type\": \"scatter\", \"x\": [-3.5, 1.0, -1.0, -1.5, -7.5, -2.5, -1.5, -10.5, -0.5, 4.0, -6.5, 3.0, -9.5, 1.5, -5.5, -0.5, 0.5, -0.5, 7.0, 6.5, 0.5, 1.5, 0.5, 2.5, -4.5, 2.5, 3.5, -8.5, 7.5, -7.0, 9.5, 8.5, -4.0, -6.0, 3.5, -3.5, 6.0, -5.0, 2.0, -0.5, -2.5, 0.0, 5.5, 10.5, 2.0, -1.5, -3.0, 4.5, -1.0, 5.0, -2.0, -3.0, 3.0, 0.0, -0.5, 1.0, 1.5, -2.0, 0.5, 0.5, 0.0], \"y\": [2, 4, 4, 6, 3, 2, 2, 3, 1, 4, 3, 5, 3, 3, 3, 2, 2, 3, 4, 3, 1, 2, 3, 2, 3, 3, 3, 3, 3, 4, 3, 3, 4, 4, 2, 3, 4, 4, 4, 7, 3, 4, 3, 3, 5, 3, 4, 3, 5, 4, 4, 5, 4, 5, 6, 5, 6, 5, 6, 7, 8]}],\n",
       "                        {\"height\": 500, \"hovermode\": \"closest\", \"margin\": {\"b\": 20, \"l\": 5, \"r\": 5, \"t\": 40}, \"showlegend\": false, \"template\": {\"data\": {\"bar\": [{\"error_x\": {\"color\": \"#2a3f5f\"}, \"error_y\": {\"color\": \"#2a3f5f\"}, \"marker\": {\"line\": {\"color\": \"#E5ECF6\", \"width\": 0.5}}, \"type\": \"bar\"}], \"barpolar\": [{\"marker\": {\"line\": {\"color\": \"#E5ECF6\", \"width\": 0.5}}, \"type\": \"barpolar\"}], \"carpet\": [{\"aaxis\": {\"endlinecolor\": \"#2a3f5f\", \"gridcolor\": \"white\", \"linecolor\": \"white\", \"minorgridcolor\": \"white\", \"startlinecolor\": \"#2a3f5f\"}, \"baxis\": {\"endlinecolor\": \"#2a3f5f\", \"gridcolor\": \"white\", \"linecolor\": \"white\", \"minorgridcolor\": \"white\", \"startlinecolor\": \"#2a3f5f\"}, \"type\": \"carpet\"}], \"choropleth\": [{\"colorbar\": {\"outlinewidth\": 0, \"ticks\": \"\"}, \"type\": \"choropleth\"}], \"contour\": [{\"colorbar\": {\"outlinewidth\": 0, \"ticks\": \"\"}, \"colorscale\": [[0.0, \"#0d0887\"], [0.1111111111111111, \"#46039f\"], [0.2222222222222222, \"#7201a8\"], [0.3333333333333333, \"#9c179e\"], [0.4444444444444444, \"#bd3786\"], [0.5555555555555556, \"#d8576b\"], [0.6666666666666666, \"#ed7953\"], [0.7777777777777778, \"#fb9f3a\"], [0.8888888888888888, \"#fdca26\"], [1.0, \"#f0f921\"]], \"type\": \"contour\"}], \"contourcarpet\": [{\"colorbar\": {\"outlinewidth\": 0, \"ticks\": \"\"}, \"type\": \"contourcarpet\"}], \"heatmap\": [{\"colorbar\": {\"outlinewidth\": 0, \"ticks\": \"\"}, \"colorscale\": [[0.0, \"#0d0887\"], [0.1111111111111111, \"#46039f\"], [0.2222222222222222, \"#7201a8\"], [0.3333333333333333, \"#9c179e\"], [0.4444444444444444, \"#bd3786\"], [0.5555555555555556, \"#d8576b\"], [0.6666666666666666, \"#ed7953\"], [0.7777777777777778, \"#fb9f3a\"], [0.8888888888888888, \"#fdca26\"], [1.0, \"#f0f921\"]], \"type\": \"heatmap\"}], \"heatmapgl\": [{\"colorbar\": {\"outlinewidth\": 0, \"ticks\": \"\"}, \"colorscale\": [[0.0, \"#0d0887\"], [0.1111111111111111, \"#46039f\"], [0.2222222222222222, \"#7201a8\"], [0.3333333333333333, \"#9c179e\"], [0.4444444444444444, \"#bd3786\"], [0.5555555555555556, \"#d8576b\"], [0.6666666666666666, \"#ed7953\"], [0.7777777777777778, \"#fb9f3a\"], [0.8888888888888888, \"#fdca26\"], [1.0, \"#f0f921\"]], \"type\": \"heatmapgl\"}], \"histogram\": [{\"marker\": {\"colorbar\": {\"outlinewidth\": 0, \"ticks\": \"\"}}, \"type\": \"histogram\"}], \"histogram2d\": [{\"colorbar\": {\"outlinewidth\": 0, \"ticks\": \"\"}, \"colorscale\": [[0.0, \"#0d0887\"], [0.1111111111111111, \"#46039f\"], [0.2222222222222222, \"#7201a8\"], [0.3333333333333333, \"#9c179e\"], [0.4444444444444444, \"#bd3786\"], [0.5555555555555556, \"#d8576b\"], [0.6666666666666666, \"#ed7953\"], [0.7777777777777778, \"#fb9f3a\"], [0.8888888888888888, \"#fdca26\"], [1.0, \"#f0f921\"]], \"type\": \"histogram2d\"}], \"histogram2dcontour\": [{\"colorbar\": {\"outlinewidth\": 0, \"ticks\": \"\"}, \"colorscale\": [[0.0, \"#0d0887\"], [0.1111111111111111, \"#46039f\"], [0.2222222222222222, \"#7201a8\"], [0.3333333333333333, \"#9c179e\"], [0.4444444444444444, \"#bd3786\"], [0.5555555555555556, \"#d8576b\"], [0.6666666666666666, \"#ed7953\"], [0.7777777777777778, \"#fb9f3a\"], [0.8888888888888888, \"#fdca26\"], [1.0, \"#f0f921\"]], \"type\": \"histogram2dcontour\"}], \"mesh3d\": [{\"colorbar\": {\"outlinewidth\": 0, \"ticks\": \"\"}, \"type\": \"mesh3d\"}], \"parcoords\": [{\"line\": {\"colorbar\": {\"outlinewidth\": 0, \"ticks\": \"\"}}, \"type\": \"parcoords\"}], \"pie\": [{\"automargin\": true, \"type\": \"pie\"}], \"scatter\": [{\"marker\": {\"colorbar\": {\"outlinewidth\": 0, \"ticks\": \"\"}}, \"type\": \"scatter\"}], \"scatter3d\": [{\"line\": {\"colorbar\": {\"outlinewidth\": 0, \"ticks\": \"\"}}, \"marker\": {\"colorbar\": {\"outlinewidth\": 0, \"ticks\": \"\"}}, \"type\": \"scatter3d\"}], \"scattercarpet\": [{\"marker\": {\"colorbar\": {\"outlinewidth\": 0, \"ticks\": \"\"}}, \"type\": \"scattercarpet\"}], \"scattergeo\": [{\"marker\": {\"colorbar\": {\"outlinewidth\": 0, \"ticks\": \"\"}}, \"type\": \"scattergeo\"}], \"scattergl\": [{\"marker\": {\"colorbar\": {\"outlinewidth\": 0, \"ticks\": \"\"}}, \"type\": \"scattergl\"}], \"scattermapbox\": [{\"marker\": {\"colorbar\": {\"outlinewidth\": 0, \"ticks\": \"\"}}, \"type\": \"scattermapbox\"}], \"scatterpolar\": [{\"marker\": {\"colorbar\": {\"outlinewidth\": 0, \"ticks\": \"\"}}, \"type\": \"scatterpolar\"}], \"scatterpolargl\": [{\"marker\": {\"colorbar\": {\"outlinewidth\": 0, \"ticks\": \"\"}}, \"type\": \"scatterpolargl\"}], \"scatterternary\": [{\"marker\": {\"colorbar\": {\"outlinewidth\": 0, \"ticks\": \"\"}}, \"type\": \"scatterternary\"}], \"surface\": [{\"colorbar\": {\"outlinewidth\": 0, \"ticks\": \"\"}, \"colorscale\": [[0.0, \"#0d0887\"], [0.1111111111111111, \"#46039f\"], [0.2222222222222222, \"#7201a8\"], [0.3333333333333333, \"#9c179e\"], [0.4444444444444444, \"#bd3786\"], [0.5555555555555556, \"#d8576b\"], [0.6666666666666666, \"#ed7953\"], [0.7777777777777778, \"#fb9f3a\"], [0.8888888888888888, \"#fdca26\"], [1.0, \"#f0f921\"]], \"type\": \"surface\"}], \"table\": [{\"cells\": {\"fill\": {\"color\": \"#EBF0F8\"}, \"line\": {\"color\": \"white\"}}, \"header\": {\"fill\": {\"color\": \"#C8D4E3\"}, \"line\": {\"color\": \"white\"}}, \"type\": \"table\"}]}, \"layout\": {\"annotationdefaults\": {\"arrowcolor\": \"#2a3f5f\", \"arrowhead\": 0, \"arrowwidth\": 1}, \"coloraxis\": {\"colorbar\": {\"outlinewidth\": 0, \"ticks\": \"\"}}, \"colorscale\": {\"diverging\": [[0, \"#8e0152\"], [0.1, \"#c51b7d\"], [0.2, \"#de77ae\"], [0.3, \"#f1b6da\"], [0.4, \"#fde0ef\"], [0.5, \"#f7f7f7\"], [0.6, \"#e6f5d0\"], [0.7, \"#b8e186\"], [0.8, \"#7fbc41\"], [0.9, \"#4d9221\"], [1, \"#276419\"]], \"sequential\": [[0.0, \"#0d0887\"], [0.1111111111111111, \"#46039f\"], [0.2222222222222222, \"#7201a8\"], [0.3333333333333333, \"#9c179e\"], [0.4444444444444444, \"#bd3786\"], [0.5555555555555556, \"#d8576b\"], [0.6666666666666666, \"#ed7953\"], [0.7777777777777778, \"#fb9f3a\"], [0.8888888888888888, \"#fdca26\"], [1.0, \"#f0f921\"]], \"sequentialminus\": [[0.0, \"#0d0887\"], [0.1111111111111111, \"#46039f\"], [0.2222222222222222, \"#7201a8\"], [0.3333333333333333, \"#9c179e\"], [0.4444444444444444, \"#bd3786\"], [0.5555555555555556, \"#d8576b\"], [0.6666666666666666, \"#ed7953\"], [0.7777777777777778, \"#fb9f3a\"], [0.8888888888888888, \"#fdca26\"], [1.0, \"#f0f921\"]]}, \"colorway\": [\"#636efa\", \"#EF553B\", \"#00cc96\", \"#ab63fa\", \"#FFA15A\", \"#19d3f3\", \"#FF6692\", \"#B6E880\", \"#FF97FF\", \"#FECB52\"], \"font\": {\"color\": \"#2a3f5f\"}, \"geo\": {\"bgcolor\": \"white\", \"lakecolor\": \"white\", \"landcolor\": \"#E5ECF6\", \"showlakes\": true, \"showland\": true, \"subunitcolor\": \"white\"}, \"hoverlabel\": {\"align\": \"left\"}, \"hovermode\": \"closest\", \"mapbox\": {\"style\": \"light\"}, \"paper_bgcolor\": \"white\", \"plot_bgcolor\": \"#E5ECF6\", \"polar\": {\"angularaxis\": {\"gridcolor\": \"white\", \"linecolor\": \"white\", \"ticks\": \"\"}, \"bgcolor\": \"#E5ECF6\", \"radialaxis\": {\"gridcolor\": \"white\", \"linecolor\": \"white\", \"ticks\": \"\"}}, \"scene\": {\"xaxis\": {\"backgroundcolor\": \"#E5ECF6\", \"gridcolor\": \"white\", \"gridwidth\": 2, \"linecolor\": \"white\", \"showbackground\": true, \"ticks\": \"\", \"zerolinecolor\": \"white\"}, \"yaxis\": {\"backgroundcolor\": \"#E5ECF6\", \"gridcolor\": \"white\", \"gridwidth\": 2, \"linecolor\": \"white\", \"showbackground\": true, \"ticks\": \"\", \"zerolinecolor\": \"white\"}, \"zaxis\": {\"backgroundcolor\": \"#E5ECF6\", \"gridcolor\": \"white\", \"gridwidth\": 2, \"linecolor\": \"white\", \"showbackground\": true, \"ticks\": \"\", \"zerolinecolor\": \"white\"}}, \"shapedefaults\": {\"line\": {\"color\": \"#2a3f5f\"}}, \"ternary\": {\"aaxis\": {\"gridcolor\": \"white\", \"linecolor\": \"white\", \"ticks\": \"\"}, \"baxis\": {\"gridcolor\": \"white\", \"linecolor\": \"white\", \"ticks\": \"\"}, \"bgcolor\": \"#E5ECF6\", \"caxis\": {\"gridcolor\": \"white\", \"linecolor\": \"white\", \"ticks\": \"\"}}, \"title\": {\"x\": 0.05}, \"xaxis\": {\"automargin\": true, \"gridcolor\": \"white\", \"linecolor\": \"white\", \"ticks\": \"\", \"title\": {\"standoff\": 15}, \"zerolinecolor\": \"white\", \"zerolinewidth\": 2}, \"yaxis\": {\"automargin\": true, \"gridcolor\": \"white\", \"linecolor\": \"white\", \"ticks\": \"\", \"title\": {\"standoff\": 15}, \"zerolinecolor\": \"white\", \"zerolinewidth\": 2}}}, \"title\": {\"font\": {\"size\": 16}, \"text\": \"Concept Lattice\"}, \"width\": 1000, \"xaxis\": {\"showgrid\": false, \"showticklabels\": false, \"zeroline\": false}, \"yaxis\": {\"showgrid\": false, \"showticklabels\": false, \"zeroline\": false}},\n",
       "                        {\"responsive\": true}\n",
       "                    ).then(function(){\n",
       "                            \n",
       "var gd = document.getElementById('4c742b68-4850-422d-a62a-ed18552a96e3');\n",
       "var x = new MutationObserver(function (mutations, observer) {{\n",
       "        var display = window.getComputedStyle(gd).display;\n",
       "        if (!display || display === 'none') {{\n",
       "            console.log([gd, 'removed!']);\n",
       "            Plotly.purge(gd);\n",
       "            observer.disconnect();\n",
       "        }}\n",
       "}});\n",
       "\n",
       "// Listen for the removal of the full notebook cells\n",
       "var notebookContainer = gd.closest('#notebook-container');\n",
       "if (notebookContainer) {{\n",
       "    x.observe(notebookContainer, {childList: true});\n",
       "}}\n",
       "\n",
       "// Listen for the clearing of the current output cell\n",
       "var outputEl = gd.closest('.output');\n",
       "if (outputEl) {{\n",
       "    x.observe(outputEl, {childList: true});\n",
       "}}\n",
       "\n",
       "                        })\n",
       "                };\n",
       "                });\n",
       "            </script>\n",
       "        </div>"
      ]
     },
     "metadata": {},
     "output_type": "display_data"
    }
   ],
   "source": [
    "fig_stab.show()"
   ]
  },
  {
   "cell_type": "code",
   "execution_count": null,
   "metadata": {},
   "outputs": [],
   "source": []
  },
  {
   "cell_type": "markdown",
   "metadata": {},
   "source": [
    "# Calc feature importances"
   ]
  },
  {
   "cell_type": "code",
   "execution_count": 976,
   "metadata": {},
   "outputs": [],
   "source": [
    "fimps = {}"
   ]
  },
  {
   "cell_type": "code",
   "execution_count": 983,
   "metadata": {},
   "outputs": [
    {
     "data": {
      "text/plain": [
       "set()"
      ]
     },
     "execution_count": 983,
     "metadata": {},
     "output_type": "execute_result"
    }
   ],
   "source": [
    "fm.get_concept_by_id(0)._up_neighbs"
   ]
  },
  {
   "cell_type": "code",
   "execution_count": 1071,
   "metadata": {},
   "outputs": [
    {
     "data": {
      "text/plain": [
       "{'age': [0.07936507936507937,\n",
       "  0.09537065999374414,\n",
       "  0.125,\n",
       "  0.09,\n",
       "  0.05499999999999999,\n",
       "  0.1,\n",
       "  0.08503225806451613,\n",
       "  0.023148148148148154,\n",
       "  0.10000000000000002,\n",
       "  0.1673469387755102,\n",
       "  0.19166666666666665,\n",
       "  0.125,\n",
       "  0.08602150537634408,\n",
       "  0.06000000000000001,\n",
       "  0.09448028673835125,\n",
       "  0.05627705627705627,\n",
       "  0.10629032258064516,\n",
       "  0.08503225806451613,\n",
       "  0.02799650043744532,\n",
       "  0.027777777777777773,\n",
       "  0.09537065999374414,\n",
       "  0.13945578231292519,\n",
       "  0.075,\n",
       "  0.08518518518518518,\n",
       "  0.11111111111111112,\n",
       "  0.022196261682242993,\n",
       "  0.10981749528005035,\n",
       "  0.14516129032258066,\n",
       "  0.0967741935483871,\n",
       "  0.17037037037037037,\n",
       "  0.075,\n",
       "  0.06666666666666668,\n",
       "  0.12096774193548387,\n",
       "  0.22499999999999998,\n",
       "  0.08503225806451613,\n",
       "  0.02799650043744532,\n",
       "  0.1074074074074074,\n",
       "  0.07843137254901962,\n",
       "  0.09090909090909088,\n",
       "  0.11224489795918369,\n",
       "  0.011764705882352944,\n",
       "  0.10981749528005035,\n",
       "  0.10658153241650295,\n",
       "  0.0357142857142857,\n",
       "  0.08014354066985646,\n",
       "  0.017241379310344817,\n",
       "  0.09609030837004405,\n",
       "  0.02941176470588236,\n",
       "  0.017996604414261458,\n",
       "  0.12812041116005873,\n",
       "  0.039190031152647964,\n",
       "  0.039229355472463395],\n",
       " 'month': [0.07936507936507937,\n",
       "  0.09537065999374414,\n",
       "  0.125,\n",
       "  0.09,\n",
       "  0.05499999999999999,\n",
       "  0.1,\n",
       "  0.08503225806451613,\n",
       "  0.023148148148148154,\n",
       "  0.1673469387755102,\n",
       "  0.19166666666666665,\n",
       "  0.125,\n",
       "  0.08602150537634408,\n",
       "  0.07272727272727272,\n",
       "  0.09448028673835125,\n",
       "  0.05627705627705627,\n",
       "  0.10629032258064516,\n",
       "  0.08503225806451613,\n",
       "  0.02799650043744532,\n",
       "  0.027777777777777773,\n",
       "  0.09537065999374414,\n",
       "  0.13945578231292519,\n",
       "  0.075,\n",
       "  0.08518518518518518,\n",
       "  0.11111111111111112,\n",
       "  0.022196261682242993,\n",
       "  0.10981749528005035,\n",
       "  0.14516129032258066,\n",
       "  0.3833333333333333,\n",
       "  0.0967741935483871,\n",
       "  0.075,\n",
       "  0.06666666666666668,\n",
       "  0.12096774193548387,\n",
       "  0.2280701754385965,\n",
       "  0.0357142857142857,\n",
       "  0.027777777777777773,\n",
       "  0.02645502645502646,\n",
       "  0.10144927536231885,\n",
       "  0.08503225806451613,\n",
       "  0.02799650043744532,\n",
       "  0.18181818181818182,\n",
       "  0.09999999999999999,\n",
       "  0.021551724137931022,\n",
       "  0.12096774193548387,\n",
       "  0.1074074074074074,\n",
       "  0.11224489795918369,\n",
       "  0.011764705882352944,\n",
       "  0.10981749528005035,\n",
       "  0.10658153241650295,\n",
       "  0.02941176470588236,\n",
       "  0.017241379310344817,\n",
       "  0.09375,\n",
       "  0.10555555555555554,\n",
       "  0.08014354066985646,\n",
       "  0.023379991658846834,\n",
       "  0.11764705882352944,\n",
       "  0.017241379310344817,\n",
       "  0.09609030837004405,\n",
       "  0.01470588235294118,\n",
       "  0.10981749528005035,\n",
       "  0.02941176470588236,\n",
       "  0.06483870967741936,\n",
       "  0.01200000000000001,\n",
       "  0.028735632183908028,\n",
       "  0.05329172785119921,\n",
       "  0.017996604414261458,\n",
       "  0.03452685421994883,\n",
       "  0.025367156208277706,\n",
       "  0.05882352941176472,\n",
       "  0.1113978494623656,\n",
       "  0.029686641011544807,\n",
       "  0.042120551924473504,\n",
       "  0.09855072463768115,\n",
       "  0.016288499474109482,\n",
       "  0.21212121212121215,\n",
       "  0.07154882154882156,\n",
       "  0.07156511350059737,\n",
       "  0.01200000000000001,\n",
       "  0.12812041116005873,\n",
       "  0.01200000000000001,\n",
       "  0.13673118279569893,\n",
       "  0.017060367454068248,\n",
       "  0.056249999999999994,\n",
       "  0.04633708598466308,\n",
       "  0.043103448275862044,\n",
       "  0.12812041116005873,\n",
       "  0.025369161543824063,\n",
       "  0.039190031152647964,\n",
       "  0.08436123348017623,\n",
       "  0.01827263938124397,\n",
       "  0.024744572158365286,\n",
       "  0.03339165937591132,\n",
       "  0.05052717030270889,\n",
       "  0.07439841047906393,\n",
       "  0.040800056842404425,\n",
       "  0.051692009646140034],\n",
       " 'pdays': [0.07936507936507937,\n",
       "  0.08503225806451613,\n",
       "  0.09448028673835125,\n",
       "  0.05627705627705627,\n",
       "  0.10629032258064516,\n",
       "  0.08503225806451613,\n",
       "  0.02799650043744532,\n",
       "  0.027777777777777773,\n",
       "  0.022196261682242993,\n",
       "  0.027777777777777773,\n",
       "  0.08503225806451613,\n",
       "  0.02799650043744532,\n",
       "  0.12096774193548387,\n",
       "  0.10981749528005035,\n",
       "  0.10658153241650295,\n",
       "  0.02941176470588236,\n",
       "  0.017241379310344817,\n",
       "  0.1851851851851852,\n",
       "  0.09609030837004405,\n",
       "  0.10981749528005035,\n",
       "  0.01200000000000001,\n",
       "  0.025367156208277706,\n",
       "  0.029686641011544807,\n",
       "  0.01200000000000001,\n",
       "  0.01200000000000001,\n",
       "  0.017060367454068248,\n",
       "  0.04633708598466308,\n",
       "  0.12812041116005873,\n",
       "  0.08436123348017623,\n",
       "  0.01827263938124397,\n",
       "  0.03339165937591132,\n",
       "  0.051692009646140034],\n",
       " 'campaign': [0.07936507936507937,\n",
       "  0.09537065999374414,\n",
       "  0.09,\n",
       "  0.05499999999999999,\n",
       "  0.1,\n",
       "  0.08503225806451613,\n",
       "  0.023148148148148154,\n",
       "  0.08602150537634408,\n",
       "  0.07272727272727272,\n",
       "  0.09448028673835125,\n",
       "  0.10629032258064516,\n",
       "  0.08503225806451613,\n",
       "  0.02799650043744532,\n",
       "  0.09537065999374414,\n",
       "  0.13945578231292519,\n",
       "  0.075,\n",
       "  0.022196261682242993,\n",
       "  0.10981749528005035,\n",
       "  0.14516129032258066,\n",
       "  0.0967741935483871,\n",
       "  0.2280701754385965,\n",
       "  0.22499999999999998,\n",
       "  0.02645502645502646,\n",
       "  0.08503225806451613,\n",
       "  0.02799650043744532,\n",
       "  0.09999999999999999,\n",
       "  0.07843137254901962,\n",
       "  0.011764705882352944,\n",
       "  0.10981749528005035,\n",
       "  0.10658153241650295,\n",
       "  0.08014354066985646,\n",
       "  0.023379991658846834,\n",
       "  0.11764705882352944,\n",
       "  0.09609030837004405,\n",
       "  0.01470588235294118,\n",
       "  0.10981749528005035,\n",
       "  0.01200000000000001,\n",
       "  0.05329172785119921,\n",
       "  0.025367156208277706,\n",
       "  0.1113978494623656,\n",
       "  0.016288499474109482,\n",
       "  0.01200000000000001,\n",
       "  0.13673118279569893,\n",
       "  0.017060367454068248,\n",
       "  0.056249999999999994,\n",
       "  0.04633708598466308,\n",
       "  0.12812041116005873,\n",
       "  0.025369161543824063,\n",
       "  0.01827263938124397,\n",
       "  0.024744572158365286],\n",
       " 'marital': [0.07936507936507937,\n",
       "  0.09537065999374414,\n",
       "  0.09,\n",
       "  0.08503225806451613,\n",
       "  0.023148148148148154,\n",
       "  0.10000000000000002,\n",
       "  0.08602150537634408,\n",
       "  0.06000000000000001,\n",
       "  0.07272727272727272,\n",
       "  0.09448028673835125,\n",
       "  0.05627705627705627,\n",
       "  0.10629032258064516,\n",
       "  0.08503225806451613,\n",
       "  0.02799650043744532,\n",
       "  0.09537065999374414,\n",
       "  0.075,\n",
       "  0.08518518518518518,\n",
       "  0.0967741935483871,\n",
       "  0.17037037037037037,\n",
       "  0.075,\n",
       "  0.12096774193548387,\n",
       "  0.02645502645502646,\n",
       "  0.18181818181818182,\n",
       "  0.1074074074074074,\n",
       "  0.0357142857142857,\n",
       "  0.09375,\n",
       "  0.023379991658846834,\n",
       "  0.01470588235294118,\n",
       "  0.10981749528005035,\n",
       "  0.025367156208277706,\n",
       "  0.1113978494623656,\n",
       "  0.09855072463768115,\n",
       "  0.016288499474109482,\n",
       "  0.13673118279569893,\n",
       "  0.017060367454068248],\n",
       " 'balance': [0.07936507936507937,\n",
       "  0.09537065999374414,\n",
       "  0.05499999999999999,\n",
       "  0.08503225806451613,\n",
       "  0.023148148148148154,\n",
       "  0.1673469387755102,\n",
       "  0.19166666666666665,\n",
       "  0.125,\n",
       "  0.08602150537634408,\n",
       "  0.06000000000000001,\n",
       "  0.09448028673835125,\n",
       "  0.05627705627705627,\n",
       "  0.10629032258064516,\n",
       "  0.08503225806451613,\n",
       "  0.02799650043744532,\n",
       "  0.027777777777777773,\n",
       "  0.09537065999374414,\n",
       "  0.13945578231292519,\n",
       "  0.075,\n",
       "  0.08518518518518518,\n",
       "  0.11111111111111112,\n",
       "  0.022196261682242993,\n",
       "  0.10981749528005035,\n",
       "  0.14516129032258066,\n",
       "  0.0967741935483871,\n",
       "  0.075,\n",
       "  0.027777777777777773,\n",
       "  0.02645502645502646,\n",
       "  0.10144927536231885,\n",
       "  0.08503225806451613,\n",
       "  0.02799650043744532,\n",
       "  0.09999999999999999,\n",
       "  0.021551724137931022,\n",
       "  0.12096774193548387,\n",
       "  0.11224489795918369,\n",
       "  0.011764705882352944,\n",
       "  0.10981749528005035,\n",
       "  0.10658153241650295,\n",
       "  0.017241379310344817,\n",
       "  0.10555555555555554,\n",
       "  0.023379991658846834,\n",
       "  0.1851851851851852,\n",
       "  0.017241379310344817,\n",
       "  0.09609030837004405,\n",
       "  0.10981749528005035,\n",
       "  0.05333333333333329,\n",
       "  0.06483870967741936,\n",
       "  0.028735632183908028,\n",
       "  0.017996604414261458,\n",
       "  0.03452685421994883,\n",
       "  0.025367156208277706,\n",
       "  0.053921568627450955,\n",
       "  0.029686641011544807,\n",
       "  0.042120551924473504,\n",
       "  0.016288499474109482,\n",
       "  0.07154882154882156,\n",
       "  0.01200000000000001,\n",
       "  0.12812041116005873,\n",
       "  0.01200000000000001,\n",
       "  0.056249999999999994,\n",
       "  0.04633708598466308,\n",
       "  0.043103448275862044,\n",
       "  0.12812041116005873,\n",
       "  0.025369161543824063],\n",
       " 'education': [0.07936507936507937,\n",
       "  0.09537065999374414,\n",
       "  0.125,\n",
       "  0.09,\n",
       "  0.05499999999999999,\n",
       "  0.1,\n",
       "  0.08503225806451613,\n",
       "  0.023148148148148154,\n",
       "  0.10000000000000002,\n",
       "  0.1673469387755102,\n",
       "  0.125,\n",
       "  0.08602150537634408,\n",
       "  0.06000000000000001,\n",
       "  0.07272727272727272,\n",
       "  0.09448028673835125,\n",
       "  0.05627705627705627,\n",
       "  0.10629032258064516,\n",
       "  0.08503225806451613,\n",
       "  0.02799650043744532,\n",
       "  0.027777777777777773,\n",
       "  0.09537065999374414,\n",
       "  0.13945578231292519,\n",
       "  0.075,\n",
       "  0.08518518518518518,\n",
       "  0.022196261682242993,\n",
       "  0.10981749528005035,\n",
       "  0.14516129032258066,\n",
       "  0.3833333333333333,\n",
       "  0.0967741935483871,\n",
       "  0.17037037037037037,\n",
       "  0.12096774193548387,\n",
       "  0.08503225806451613,\n",
       "  0.02799650043744532,\n",
       "  0.10981749528005035,\n",
       "  0.10658153241650295,\n",
       "  0.09375,\n",
       "  0.08014354066985646,\n",
       "  0.023379991658846834,\n",
       "  0.017241379310344817,\n",
       "  0.09609030837004405,\n",
       "  0.10981749528005035,\n",
       "  0.05333333333333329,\n",
       "  0.01200000000000001,\n",
       "  0.11038961038961037,\n",
       "  0.025367156208277706,\n",
       "  0.053921568627450955,\n",
       "  0.029686641011544807,\n",
       "  0.042120551924473504,\n",
       "  0.07156511350059737],\n",
       " 'poutcome': [0.09537065999374414,\n",
       "  0.08503225806451613,\n",
       "  0.19166666666666665,\n",
       "  0.09448028673835125,\n",
       "  0.08503225806451613,\n",
       "  0.09537065999374414,\n",
       "  0.10981749528005035,\n",
       "  0.10144927536231885,\n",
       "  0.08503225806451613,\n",
       "  0.09999999999999999,\n",
       "  0.12096774193548387,\n",
       "  0.1074074074074074,\n",
       "  0.10981749528005035,\n",
       "  0.10658153241650295,\n",
       "  0.1851851851851852,\n",
       "  0.09609030837004405,\n",
       "  0.10981749528005035,\n",
       "  0.016288499474109482,\n",
       "  0.12812041116005873,\n",
       "  0.13673118279569893,\n",
       "  0.12812041116005873,\n",
       "  0.05052717030270889,\n",
       "  0.7017380960004335],\n",
       " 'job': [0.09537065999374414,\n",
       "  0.05499999999999999,\n",
       "  0.08503225806451613,\n",
       "  0.023148148148148154,\n",
       "  0.08602150537634408,\n",
       "  0.09448028673835125,\n",
       "  0.05627705627705627,\n",
       "  0.10629032258064516,\n",
       "  0.08503225806451613,\n",
       "  0.02799650043744532,\n",
       "  0.027777777777777773,\n",
       "  0.09537065999374414,\n",
       "  0.022196261682242993,\n",
       "  0.10981749528005035,\n",
       "  0.0967741935483871,\n",
       "  0.075,\n",
       "  0.06666666666666668,\n",
       "  0.12096774193548387,\n",
       "  0.0357142857142857,\n",
       "  0.027777777777777773,\n",
       "  0.02645502645502646,\n",
       "  0.08503225806451613,\n",
       "  0.02799650043744532,\n",
       "  0.09999999999999999,\n",
       "  0.021551724137931022,\n",
       "  0.12096774193548387,\n",
       "  0.1074074074074074,\n",
       "  0.09090909090909088,\n",
       "  0.017241379310344817,\n",
       "  0.09375,\n",
       "  0.023379991658846834,\n",
       "  0.017241379310344817,\n",
       "  0.09609030837004405,\n",
       "  0.06483870967741936,\n",
       "  0.01200000000000001,\n",
       "  0.028735632183908028,\n",
       "  0.05329172785119921,\n",
       "  0.017996604414261458,\n",
       "  0.025367156208277706,\n",
       "  0.09855072463768115,\n",
       "  0.016288499474109482,\n",
       "  0.07156511350059737,\n",
       "  0.01200000000000001,\n",
       "  0.12812041116005873,\n",
       "  0.13673118279569893,\n",
       "  0.017060367454068248,\n",
       "  0.04633708598466308,\n",
       "  0.12812041116005873,\n",
       "  0.025369161543824063,\n",
       "  0.039229355472463395,\n",
       "  0.01827263938124397,\n",
       "  0.024744572158365286],\n",
       " 'loan': [0.09537065999374414,\n",
       "  0.05499999999999999,\n",
       "  0.08503225806451613,\n",
       "  0.023148148148148154,\n",
       "  0.08602150537634408,\n",
       "  0.08503225806451613,\n",
       "  0.02799650043744532,\n",
       "  0.09537065999374414,\n",
       "  0.022196261682242993,\n",
       "  0.0967741935483871,\n",
       "  0.06666666666666668,\n",
       "  0.027777777777777773,\n",
       "  0.02645502645502646,\n",
       "  0.08503225806451613,\n",
       "  0.02799650043744532,\n",
       "  0.011764705882352944,\n",
       "  0.10658153241650295,\n",
       "  0.023379991658846834,\n",
       "  0.01470588235294118,\n",
       "  0.06483870967741936,\n",
       "  0.017996604414261458,\n",
       "  0.016288499474109482,\n",
       "  0.01200000000000001,\n",
       "  0.01200000000000001,\n",
       "  0.025369161543824063,\n",
       "  0.01827263938124397,\n",
       "  0.024744572158365286,\n",
       "  0.040800056842404425],\n",
       " 'housing': [0.09537065999374414,\n",
       "  0.05499999999999999,\n",
       "  0.08602150537634408,\n",
       "  0.06000000000000001,\n",
       "  0.07272727272727272,\n",
       "  0.09537065999374414,\n",
       "  0.08518518518518518,\n",
       "  0.06666666666666668,\n",
       "  0.12096774193548387,\n",
       "  0.2280701754385965,\n",
       "  0.027777777777777773,\n",
       "  0.02645502645502646,\n",
       "  0.08503225806451613,\n",
       "  0.02799650043744532,\n",
       "  0.09999999999999999,\n",
       "  0.021551724137931022,\n",
       "  0.12096774193548387,\n",
       "  0.07843137254901962,\n",
       "  0.017241379310344817,\n",
       "  0.023379991658846834,\n",
       "  0.06483870967741936,\n",
       "  0.05329172785119921,\n",
       "  0.016288499474109482,\n",
       "  0.12812041116005873,\n",
       "  0.056249999999999994,\n",
       "  0.039190031152647964],\n",
       " 'contact': [0.125,\n",
       "  0.1,\n",
       "  0.1673469387755102,\n",
       "  0.13945578231292519,\n",
       "  0.01333608973298555]}"
      ]
     },
     "execution_count": 1071,
     "metadata": {},
     "output_type": "execute_result"
    }
   ],
   "source": [
    "fimps = {}\n",
    "for c in fm.get_concepts():\n",
    "    if len(c.get_extent())==0:\n",
    "        continue\n",
    "    for un_idx in c._up_neighbs:\n",
    "        un = fm.get_concept_by_id(un_idx)\n",
    "        new_int = set(c.get_intent())-set(un.get_intent())\n",
    "        new_feats = set([m.split('__')[0] for m in new_int])\n",
    "        strongness_diff = c._metrics['strongness'] - un._metrics['strongness']\n",
    "        for f in new_feats:\n",
    "            fimps[f] = fimps.get(f,[])+[strongness_diff/len(new_feats)]\n",
    "fimps"
   ]
  },
  {
   "cell_type": "code",
   "execution_count": 1073,
   "metadata": {},
   "outputs": [],
   "source": [
    "for f in cat_feats+real_feats:\n",
    "    if f not in fimps:\n",
    "        fimps[f] = [0]"
   ]
  },
  {
   "cell_type": "code",
   "execution_count": 1080,
   "metadata": {},
   "outputs": [],
   "source": [
    "fimps_mean = pd.Series({k:np.mean(np.abs(v)) for k,v in fimps.items()}).sort_values(ascending=False)\n",
    "fimps_median = pd.Series({k:np.median(np.abs(v)) for k,v in fimps.items()}).sort_values(ascending=False)\n",
    "fimps_sum = pd.Series({k:np.sum(np.abs(v)) for k,v in fimps.items()}).sort_values(ascending=False)\n",
    "\n",
    "fimps_mean /= fimps_mean.sum()\n",
    "fimps_median /= fimps_median.sum()\n",
    "fimps_sum /= fimps_sum.sum()"
   ]
  },
  {
   "cell_type": "code",
   "execution_count": null,
   "metadata": {},
   "outputs": [],
   "source": []
  },
  {
   "cell_type": "code",
   "execution_count": 1009,
   "metadata": {},
   "outputs": [],
   "source": [
    "pool = Pool(bank_ds.loc[flg, cat_feats+real_feats], cat_features=cat_feats)"
   ]
  },
  {
   "cell_type": "code",
   "execution_count": 1022,
   "metadata": {},
   "outputs": [],
   "source": [
    "sv = pd.DataFrame(bb.get_feature_importance(pool, type='ShapValues'), columns=cat_feats+real_feats+['bias']).drop('bias',1)\n",
    "sv = sv.abs().mean()\n",
    "sv /= sv.sum()\n",
    "sv = sv.sort_values(ascending=False)"
   ]
  },
  {
   "cell_type": "code",
   "execution_count": 1023,
   "metadata": {},
   "outputs": [
    {
     "data": {
      "text/plain": [
       "poutcome     0.365855\n",
       "month        0.151731\n",
       "contact      0.088716\n",
       "pdays        0.073109\n",
       "age          0.064318\n",
       "balance      0.059707\n",
       "housing      0.039846\n",
       "marital      0.037364\n",
       "previous     0.036784\n",
       "education    0.030353\n",
       "job          0.024951\n",
       "loan         0.015515\n",
       "campaign     0.010593\n",
       "default      0.001158\n",
       "dtype: float64"
      ]
     },
     "execution_count": 1023,
     "metadata": {},
     "output_type": "execute_result"
    }
   ],
   "source": [
    "sv"
   ]
  },
  {
   "cell_type": "code",
   "execution_count": null,
   "metadata": {},
   "outputs": [],
   "source": []
  },
  {
   "cell_type": "code",
   "execution_count": 1081,
   "metadata": {},
   "outputs": [
    {
     "data": {
      "image/png": "[encoded data removed]",
      "text/plain": [
       "<Figure size 1080x360 with 3 Axes>"
      ]
     },
     "metadata": {
      "needs_background": "light"
     },
     "output_type": "display_data"
    }
   ],
   "source": [
    "plt.figure(figsize=(15,5))\n",
    "plt.subplot(131)\n",
    "sns.barplot(y=fimps_mean.index, x=fimps_mean.values)\n",
    "plt.title('mean diffs')\n",
    "\n",
    "plt.subplot(132)\n",
    "sns.barplot(y=fimps_sum.index, x=fimps_sum.values)\n",
    "plt.title('sum diffs')\n",
    "\n",
    "plt.subplot(133)\n",
    "sns.barplot(y=sv.index, x=sv.values)\n",
    "plt.title('shap values')\n",
    "\n",
    "plt.tight_layout()\n",
    "plt.show()"
   ]
  },
  {
   "cell_type": "code",
   "execution_count": null,
   "metadata": {},
   "outputs": [],
   "source": []
  },
  {
   "cell_type": "markdown",
   "metadata": {},
   "source": [
    "# Интерпретируем минимальные понятия"
   ]
  },
  {
   "cell_type": "code",
   "execution_count": 1194,
   "metadata": {},
   "outputs": [
    {
     "name": "stdout",
     "output_type": "stream",
     "text": [
      "\n",
      "\n"
     ]
    },
    {
     "data": {
      "application/vnd.jupyter.widget-view+json": {
       "model_id": "2e9dfadab2204563875b8e2cbdbb2aa6",
       "version_major": 2,
       "version_minor": 0
      },
      "text/plain": [
       "HBox(children=(FloatProgress(value=0.0, max=44.0), HTML(value='')))"
      ]
     },
     "metadata": {},
     "output_type": "display_data"
    },
    {
     "data": {
      "application/vnd.jupyter.widget-view+json": {
       "model_id": "e9e86ab9e3c4431382022fee87ba5579",
       "version_major": 2,
       "version_minor": 0
      },
      "text/plain": [
       "HBox(children=(FloatProgress(value=0.0, description='pruning', max=16.0, style=ProgressStyle(description_width…"
      ]
     },
     "metadata": {},
     "output_type": "display_data"
    },
    {
     "data": {
      "text/plain": [
       "(16, 138, 0.9261744966442953)"
      ]
     },
     "execution_count": 1194,
     "metadata": {},
     "output_type": "execute_result"
    }
   ],
   "source": [
    "sc = select_smallest_covering_hyps([c for c in fm_stab.get_concepts() if c._metrics['strongness']>=0.7], use_pruning=True)\n",
    "len(sc), len(calc_cover_of_concepts(sc)), len(calc_cover_of_concepts(sc))/flg.sum()"
   ]
  },
  {
   "cell_type": "code",
   "execution_count": 1195,
   "metadata": {},
   "outputs": [
    {
     "data": {
      "text/plain": [
       "[95, 18, 13, 4, 7, 5, 5, 4, 7, 8, 4, 4, 4, 5, 5, 5]"
      ]
     },
     "execution_count": 1195,
     "metadata": {},
     "output_type": "execute_result"
    }
   ],
   "source": [
    "[len(c.get_extent()) for c in sc]"
   ]
  },
  {
   "cell_type": "code",
   "execution_count": 1200,
   "metadata": {},
   "outputs": [
    {
     "data": {
      "text/plain": [
       "0.8456375838926175"
      ]
     },
     "execution_count": 1200,
     "metadata": {},
     "output_type": "execute_result"
    }
   ],
   "source": [
    "len(calc_cover_of_concepts(sc[:7]))/flg.sum()"
   ]
  },
  {
   "cell_type": "code",
   "execution_count": 1214,
   "metadata": {},
   "outputs": [],
   "source": [
    "def get_short_intent(int_, cntx_full, use_tqdm=True):\n",
    "    int_short = int_.copy()\n",
    "    for i in tqdm(range(len(int_short)), disable=not use_tqdm):\n",
    "        for m in int_short:\n",
    "            if len(cntx_full.get_extent([m_ for m_ in int_short if m_!=m]))==len(cntx_full.get_extent(int_short)):\n",
    "                #print(m)\n",
    "                int_short = [m_ for m_ in int_short if m_!=m]\n",
    "                break\n",
    "        else:\n",
    "            break\n",
    "    return int_short"
   ]
  },
  {
   "cell_type": "markdown",
   "metadata": {},
   "source": [
    "## Понятие 1"
   ]
  },
  {
   "cell_type": "code",
   "execution_count": 1264,
   "metadata": {},
   "outputs": [],
   "source": [
    "int_ = sc[0].get_intent()\n",
    "int_short = get_short_intent(int_, cntx_full, use_tqdm=False)\n",
    "\n",
    "int_ = sorted(int_, key=lambda x: x.split('__')[0])\n",
    "int_short = sorted(int_short, key=lambda x: x.split('__')[0])"
   ]
  },
  {
   "cell_type": "code",
   "execution_count": 1265,
   "metadata": {},
   "outputs": [
    {
     "data": {
      "text/plain": [
       "['contact__not__unknown', 'poutcome__is__success', 'poutcome__not__failure']"
      ]
     },
     "execution_count": 1265,
     "metadata": {},
     "output_type": "execute_result"
    }
   ],
   "source": [
    "int_"
   ]
  },
  {
   "cell_type": "code",
   "execution_count": 1266,
   "metadata": {},
   "outputs": [
    {
     "data": {
      "text/plain": [
       "['contact__not__unknown', 'poutcome__is__success']"
      ]
     },
     "execution_count": 1266,
     "metadata": {},
     "output_type": "execute_result"
    }
   ],
   "source": [
    "int_short"
   ]
  },
  {
   "cell_type": "markdown",
   "metadata": {},
   "source": [
    "Клиенты с хорошей историей"
   ]
  },
  {
   "cell_type": "markdown",
   "metadata": {},
   "source": [
    "## Понятие 2"
   ]
  },
  {
   "cell_type": "code",
   "execution_count": 1267,
   "metadata": {},
   "outputs": [],
   "source": [
    "int_ = sc[1].get_intent()\n",
    "int_short = get_short_intent(int_, cntx_full, use_tqdm=False)\n",
    "\n",
    "int_ = sorted(int_, key=lambda x: x.split('__')[0])\n",
    "int_short = sorted(int_short, key=lambda x: x.split('__')[0])"
   ]
  },
  {
   "cell_type": "code",
   "execution_count": 1268,
   "metadata": {},
   "outputs": [
    {
     "data": {
      "text/plain": [
       "['balance__geq__100',\n",
       " 'balance__leq__3940',\n",
       " 'balance__geq__229',\n",
       " 'campaign__leq__4',\n",
       " 'contact__not__unknown',\n",
       " 'job__not__admin.',\n",
       " 'loan__leq__0',\n",
       " 'month__not__jan',\n",
       " 'month__not__nov',\n",
       " 'month__not__may',\n",
       " 'month__not__apr',\n",
       " 'month__not__feb',\n",
       " 'month__not__jun',\n",
       " 'month__not__sep',\n",
       " 'month__not__mar',\n",
       " 'month__not__oct',\n",
       " 'pdays__geq__38.0',\n",
       " 'pdays__geq__181.0']"
      ]
     },
     "execution_count": 1268,
     "metadata": {},
     "output_type": "execute_result"
    }
   ],
   "source": [
    "int_"
   ]
  },
  {
   "cell_type": "code",
   "execution_count": 1269,
   "metadata": {},
   "outputs": [
    {
     "data": {
      "text/plain": [
       "['balance__leq__3940',\n",
       " 'balance__geq__229',\n",
       " 'campaign__leq__4',\n",
       " 'job__not__admin.',\n",
       " 'loan__leq__0',\n",
       " 'month__not__jan',\n",
       " 'month__not__nov',\n",
       " 'month__not__may',\n",
       " 'month__not__apr',\n",
       " 'month__not__feb',\n",
       " 'month__not__jun',\n",
       " 'month__not__sep',\n",
       " 'month__not__mar',\n",
       " 'month__not__oct',\n",
       " 'pdays__geq__181.0']"
      ]
     },
     "execution_count": 1269,
     "metadata": {},
     "output_type": "execute_result"
    }
   ],
   "source": [
    "int_short"
   ]
  },
  {
   "cell_type": "markdown",
   "metadata": {},
   "source": [
    "## Понятие 3"
   ]
  },
  {
   "cell_type": "code",
   "execution_count": 1270,
   "metadata": {},
   "outputs": [],
   "source": [
    "int_ = sc[2].get_intent()\n",
    "int_short = get_short_intent(int_, cntx_full, use_tqdm=False)\n",
    "\n",
    "int_ = sorted(int_, key=lambda x: x.split('__')[0])\n",
    "int_short = sorted(int_short, key=lambda x: x.split('__')[0])"
   ]
  },
  {
   "cell_type": "code",
   "execution_count": 1271,
   "metadata": {},
   "outputs": [
    {
     "data": {
      "text/plain": [
       "['balance__leq__3940',\n",
       " 'contact__not__unknown',\n",
       " 'job__not__blue-collar',\n",
       " 'job__not__admin.',\n",
       " 'loan__leq__0',\n",
       " 'marital__not__married',\n",
       " 'month__not__jan',\n",
       " 'month__not__nov',\n",
       " 'month__not__aug',\n",
       " 'month__not__may',\n",
       " 'month__not__jul',\n",
       " 'month__not__apr',\n",
       " 'month__not__feb',\n",
       " 'month__not__sep',\n",
       " 'month__not__mar',\n",
       " 'pdays__geq__38.0',\n",
       " 'pdays__leq__185.0']"
      ]
     },
     "execution_count": 1271,
     "metadata": {},
     "output_type": "execute_result"
    }
   ],
   "source": [
    "int_"
   ]
  },
  {
   "cell_type": "code",
   "execution_count": 1272,
   "metadata": {},
   "outputs": [
    {
     "data": {
      "text/plain": [
       "['balance__leq__3940',\n",
       " 'job__not__blue-collar',\n",
       " 'job__not__admin.',\n",
       " 'loan__leq__0',\n",
       " 'marital__not__married',\n",
       " 'month__not__jan',\n",
       " 'month__not__nov',\n",
       " 'month__not__aug',\n",
       " 'month__not__may',\n",
       " 'month__not__jul',\n",
       " 'month__not__apr',\n",
       " 'month__not__feb',\n",
       " 'month__not__sep',\n",
       " 'month__not__mar',\n",
       " 'pdays__leq__185.0']"
      ]
     },
     "execution_count": 1272,
     "metadata": {},
     "output_type": "execute_result"
    }
   ],
   "source": [
    "int_short"
   ]
  },
  {
   "cell_type": "markdown",
   "metadata": {},
   "source": [
    "## Понятие 4"
   ]
  },
  {
   "cell_type": "code",
   "execution_count": 1273,
   "metadata": {},
   "outputs": [],
   "source": [
    "int_ = sc[3].get_intent()\n",
    "int_short = get_short_intent(int_, cntx_full, use_tqdm=False)\n",
    "\n",
    "int_ = sorted(int_, key=lambda x: x.split('__')[0])\n",
    "int_short = sorted(int_short, key=lambda x: x.split('__')[0])"
   ]
  },
  {
   "cell_type": "code",
   "execution_count": 1274,
   "metadata": {},
   "outputs": [
    {
     "data": {
      "text/plain": [
       "['age__geq__41',\n",
       " 'age__leq__56',\n",
       " 'balance__leq__302',\n",
       " 'balance__leq__3940',\n",
       " 'balance__leq__262',\n",
       " 'campaign__leq__4',\n",
       " 'contact__not__unknown',\n",
       " 'education__not__tertiary',\n",
       " 'job__not__blue-collar',\n",
       " 'marital__not__married',\n",
       " 'month__not__jan',\n",
       " 'month__not__nov',\n",
       " 'month__not__aug',\n",
       " 'month__not__may',\n",
       " 'month__not__jul',\n",
       " 'month__not__apr',\n",
       " 'month__not__feb',\n",
       " 'month__not__jun',\n",
       " 'month__not__sep',\n",
       " 'poutcome__not__failure']"
      ]
     },
     "execution_count": 1274,
     "metadata": {},
     "output_type": "execute_result"
    }
   ],
   "source": [
    "int_"
   ]
  },
  {
   "cell_type": "code",
   "execution_count": 1275,
   "metadata": {},
   "outputs": [
    {
     "data": {
      "text/plain": [
       "['age__geq__41',\n",
       " 'age__leq__56',\n",
       " 'balance__leq__262',\n",
       " 'education__not__tertiary',\n",
       " 'marital__not__married',\n",
       " 'month__not__jan',\n",
       " 'month__not__nov',\n",
       " 'month__not__aug',\n",
       " 'month__not__may',\n",
       " 'month__not__jul',\n",
       " 'month__not__apr',\n",
       " 'month__not__feb',\n",
       " 'month__not__jun']"
      ]
     },
     "execution_count": 1275,
     "metadata": {},
     "output_type": "execute_result"
    }
   ],
   "source": [
    "int_short"
   ]
  },
  {
   "cell_type": "markdown",
   "metadata": {},
   "source": [
    "## Понятие 5"
   ]
  },
  {
   "cell_type": "code",
   "execution_count": 1277,
   "metadata": {},
   "outputs": [],
   "source": [
    "int_ = sc[4].get_intent()\n",
    "int_short = get_short_intent(int_, cntx_full, use_tqdm=False)\n",
    "\n",
    "int_ = sorted(int_, key=lambda x: x.split('__')[0])\n",
    "int_short = sorted(int_short, key=lambda x: x.split('__')[0])"
   ]
  },
  {
   "cell_type": "code",
   "execution_count": 1278,
   "metadata": {},
   "outputs": [
    {
     "data": {
      "text/plain": [
       "['balance__leq__302',\n",
       " 'balance__leq__3940',\n",
       " 'balance__leq__262',\n",
       " 'campaign__leq__4',\n",
       " 'contact__not__unknown',\n",
       " 'education__not__secondary',\n",
       " 'job__not__blue-collar',\n",
       " 'job__not__admin.',\n",
       " 'loan__leq__0',\n",
       " 'month__not__jan',\n",
       " 'month__not__nov',\n",
       " 'month__not__aug',\n",
       " 'month__not__may',\n",
       " 'month__not__jul',\n",
       " 'month__not__apr',\n",
       " 'month__not__feb',\n",
       " 'month__not__jun',\n",
       " 'month__not__sep',\n",
       " 'month__not__mar',\n",
       " 'poutcome__not__failure']"
      ]
     },
     "execution_count": 1278,
     "metadata": {},
     "output_type": "execute_result"
    }
   ],
   "source": [
    "int_"
   ]
  },
  {
   "cell_type": "code",
   "execution_count": 1279,
   "metadata": {},
   "outputs": [
    {
     "data": {
      "text/plain": [
       "['balance__leq__262',\n",
       " 'education__not__secondary',\n",
       " 'job__not__blue-collar',\n",
       " 'month__not__jan',\n",
       " 'month__not__nov',\n",
       " 'month__not__aug',\n",
       " 'month__not__may',\n",
       " 'month__not__jul',\n",
       " 'month__not__apr',\n",
       " 'month__not__feb',\n",
       " 'month__not__jun',\n",
       " 'month__not__sep',\n",
       " 'month__not__mar',\n",
       " 'poutcome__not__failure']"
      ]
     },
     "execution_count": 1279,
     "metadata": {},
     "output_type": "execute_result"
    }
   ],
   "source": [
    "int_short"
   ]
  },
  {
   "cell_type": "markdown",
   "metadata": {},
   "source": [
    "## Понятие 6"
   ]
  },
  {
   "cell_type": "code",
   "execution_count": 1280,
   "metadata": {},
   "outputs": [],
   "source": [
    "int_ = sc[5].get_intent()\n",
    "int_short = get_short_intent(int_, cntx_full, use_tqdm=False)\n",
    "\n",
    "int_ = sorted(int_, key=lambda x: x.split('__')[0])\n",
    "int_short = sorted(int_short, key=lambda x: x.split('__')[0])"
   ]
  },
  {
   "cell_type": "code",
   "execution_count": 1281,
   "metadata": {},
   "outputs": [
    {
     "data": {
      "text/plain": [
       "['age__geq__46',\n",
       " 'age__geq__41',\n",
       " 'balance__leq__3940',\n",
       " 'campaign__leq__4',\n",
       " 'contact__not__unknown',\n",
       " 'education__not__tertiary',\n",
       " 'housing__leq__0',\n",
       " 'job__not__blue-collar',\n",
       " 'job__not__admin.',\n",
       " 'loan__leq__0',\n",
       " 'marital__not__married',\n",
       " 'month__not__jan',\n",
       " 'month__not__nov',\n",
       " 'month__not__aug',\n",
       " 'month__not__may',\n",
       " 'month__not__jul',\n",
       " 'month__not__apr',\n",
       " 'month__not__feb',\n",
       " 'month__not__sep',\n",
       " 'month__not__oct',\n",
       " 'poutcome__not__failure']"
      ]
     },
     "execution_count": 1281,
     "metadata": {},
     "output_type": "execute_result"
    }
   ],
   "source": [
    "int_"
   ]
  },
  {
   "cell_type": "code",
   "execution_count": 1282,
   "metadata": {},
   "outputs": [
    {
     "data": {
      "text/plain": [
       "['age__geq__46',\n",
       " 'campaign__leq__4',\n",
       " 'contact__not__unknown',\n",
       " 'education__not__tertiary',\n",
       " 'job__not__admin.',\n",
       " 'loan__leq__0',\n",
       " 'marital__not__married',\n",
       " 'month__not__jan',\n",
       " 'month__not__nov',\n",
       " 'month__not__aug',\n",
       " 'month__not__may',\n",
       " 'month__not__jul',\n",
       " 'month__not__feb',\n",
       " 'month__not__oct',\n",
       " 'poutcome__not__failure']"
      ]
     },
     "execution_count": 1282,
     "metadata": {},
     "output_type": "execute_result"
    }
   ],
   "source": [
    "int_short"
   ]
  },
  {
   "cell_type": "markdown",
   "metadata": {},
   "source": [
    "## Понятие 7"
   ]
  },
  {
   "cell_type": "code",
   "execution_count": 1283,
   "metadata": {},
   "outputs": [],
   "source": [
    "int_ = sc[7].get_intent()\n",
    "int_short = get_short_intent(int_, cntx_full, use_tqdm=False)\n",
    "\n",
    "int_ = sorted(int_, key=lambda x: x.split('__')[0])\n",
    "int_short = sorted(int_short, key=lambda x: x.split('__')[0])"
   ]
  },
  {
   "cell_type": "code",
   "execution_count": 1284,
   "metadata": {},
   "outputs": [
    {
     "data": {
      "text/plain": [
       "['age__leq__56',\n",
       " 'balance__leq__302',\n",
       " 'balance__leq__3940',\n",
       " 'balance__leq__262',\n",
       " 'campaign__leq__4',\n",
       " 'campaign__geq__2',\n",
       " 'contact__not__unknown',\n",
       " 'education__not__tertiary',\n",
       " 'job__not__admin.',\n",
       " 'loan__leq__0',\n",
       " 'month__not__jan',\n",
       " 'month__not__nov',\n",
       " 'month__not__aug',\n",
       " 'month__not__may',\n",
       " 'month__not__jul',\n",
       " 'month__not__apr',\n",
       " 'month__not__feb',\n",
       " 'month__not__sep',\n",
       " 'month__not__oct',\n",
       " 'poutcome__not__failure']"
      ]
     },
     "execution_count": 1284,
     "metadata": {},
     "output_type": "execute_result"
    }
   ],
   "source": [
    "int_"
   ]
  },
  {
   "cell_type": "code",
   "execution_count": 1285,
   "metadata": {},
   "outputs": [
    {
     "data": {
      "text/plain": [
       "['age__leq__56',\n",
       " 'balance__leq__262',\n",
       " 'campaign__geq__2',\n",
       " 'contact__not__unknown',\n",
       " 'education__not__tertiary',\n",
       " 'job__not__admin.',\n",
       " 'month__not__jan',\n",
       " 'month__not__nov',\n",
       " 'month__not__aug',\n",
       " 'month__not__may',\n",
       " 'month__not__jul',\n",
       " 'month__not__apr',\n",
       " 'month__not__feb',\n",
       " 'month__not__sep',\n",
       " 'month__not__oct']"
      ]
     },
     "execution_count": 1285,
     "metadata": {},
     "output_type": "execute_result"
    }
   ],
   "source": [
    "int_short"
   ]
  },
  {
   "cell_type": "code",
   "execution_count": null,
   "metadata": {},
   "outputs": [],
   "source": []
  },
  {
   "cell_type": "code",
   "execution_count": null,
   "metadata": {},
   "outputs": [],
   "source": []
  },
  {
   "cell_type": "markdown",
   "metadata": {},
   "source": [
    "# Attribute Information:\n",
    "\n",
    "Input variables:\n",
    "\n",
    "__bank client data:__\n",
    "1. - age (numeric)\n",
    "2. - job : type of job (categorical: \"admin.\",\"unknown\",\"unemployed\",\"management\",\"housemaid\",\"entrepreneur\",\"student\",\"blue-collar\",\"self-employed\",\"retired\",\"technician\",\"services\") \n",
    "3. - marital : marital status (categorical: \"married\",\"divorced\",\"single\"; note: \"divorced\" means divorced or widowed)\n",
    "4. - education (categorical: \"unknown\",\"secondary\",\"primary\",\"tertiary\")\n",
    "5. - default: has credit in default? (binary: \"yes\",\"no\")\n",
    "6. - balance: average yearly balance, in euros (numeric) \n",
    "7. - housing: has housing loan? (binary: \"yes\",\"no\")\n",
    "8. - loan: has personal loan? (binary: \"yes\",\"no\")\n",
    "\n",
    "__related with the last contact of the current campaign:__\n",
    "9. - contact: contact communication type (categorical: \"unknown\",\"telephone\",\"cellular\") \n",
    "10. - day: last contact day of the month (numeric)\n",
    "11. - month: last contact month of year (categorical: \"jan\", \"feb\", \"mar\", ..., \"nov\", \"dec\")\n",
    "12. - duration: last contact duration, in seconds (numeric)\n",
    "\n",
    "__other attributes:__\n",
    "13. - campaign: number of contacts performed during this campaign and for this client (numeric, includes last contact)\n",
    "14. - pdays: number of days that passed by after the client was last contacted from a previous campaign (numeric, -1 means client was not previously contacted)\n",
    "15. - previous: number of contacts performed before this campaign and for this client (numeric)\n",
    "16. - poutcome: outcome of the previous marketing campaign (categorical: \"unknown\",\"other\",\"failure\",\"success\")\n",
    "\n",
    "Output variable (desired target):\n",
    "17. - y - has the client subscribed a term deposit? (binary: \"yes\",\"no\")"
   ]
  }
 ],
 "metadata": {
  "kernelspec": {
   "display_name": "Python 3",
   "language": "python",
   "name": "python3"
  },
  "language_info": {
   "codemirror_mode": {
    "name": "ipython",
    "version": 3
   },
   "file_extension": ".py",
   "mimetype": "text/x-python",
   "name": "python",
   "nbconvert_exporter": "python",
   "pygments_lexer": "ipython3",
   "version": "3.7.6"
  }
 },
 "nbformat": 4,
 "nbformat_minor": 4
}
