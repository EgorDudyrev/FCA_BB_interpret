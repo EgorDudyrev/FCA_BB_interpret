{
 "cells": [
  {
   "cell_type": "markdown",
   "metadata": {},
   "source": [
    "# Preliminary\n",
    "* Import libraries\n",
    "* Load data\n",
    "* Train BlackBox model"
   ]
  },
  {
   "cell_type": "code",
   "execution_count": 1,
   "metadata": {},
   "outputs": [
    {
     "data": {
      "text/html": [
       "<style>.container { width:90% !important; }</style>"
      ],
      "text/plain": [
       "<IPython.core.display.HTML object>"
      ]
     },
     "metadata": {},
     "output_type": "display_data"
    }
   ],
   "source": [
    "import numpy as np\n",
    "import pandas as pd\n",
    "import catboost as cb\n",
    "from sklearn.model_selection import train_test_split\n",
    "from sklearn.metrics import accuracy_score, precision_score, recall_score\n",
    "\n",
    "from IPython.core.display import display, HTML\n",
    "display(HTML(\"<style>.container { width:90% !important; }</style>\"))\n",
    "\n",
    "import os\n",
    "BASE_PATH = os.path.realpath('..')\n",
    "DATASETS_DIR = os.path.join(BASE_PATH, 'datasets')\n",
    "\n",
    "import matplotlib.pyplot as plt\n",
    "import seaborn as sns\n",
    "from tqdm import tqdm_notebook"
   ]
  },
  {
   "cell_type": "code",
   "execution_count": 2,
   "metadata": {},
   "outputs": [],
   "source": [
    "import scipy as sp"
   ]
  },
  {
   "cell_type": "code",
   "execution_count": 3,
   "metadata": {},
   "outputs": [],
   "source": [
    "from itertools import combinations, islice"
   ]
  },
  {
   "cell_type": "code",
   "execution_count": 4,
   "metadata": {},
   "outputs": [],
   "source": [
    "from datetime import datetime"
   ]
  },
  {
   "cell_type": "code",
   "execution_count": 5,
   "metadata": {},
   "outputs": [
    {
     "name": "stdout",
     "output_type": "stream",
     "text": [
      "(4521, 17)\n"
     ]
    },
    {
     "data": {
      "text/html": [
       "<div>\n",
       "<style scoped>\n",
       "    .dataframe tbody tr th:only-of-type {\n",
       "        vertical-align: middle;\n",
       "    }\n",
       "\n",
       "    .dataframe tbody tr th {\n",
       "        vertical-align: top;\n",
       "    }\n",
       "\n",
       "    .dataframe thead th {\n",
       "        text-align: right;\n",
       "    }\n",
       "</style>\n",
       "<table border=\"1\" class=\"dataframe\">\n",
       "  <thead>\n",
       "    <tr style=\"text-align: right;\">\n",
       "      <th></th>\n",
       "      <th>age</th>\n",
       "      <th>job</th>\n",
       "      <th>marital</th>\n",
       "      <th>education</th>\n",
       "      <th>default</th>\n",
       "      <th>balance</th>\n",
       "      <th>housing</th>\n",
       "      <th>loan</th>\n",
       "      <th>contact</th>\n",
       "      <th>day</th>\n",
       "      <th>month</th>\n",
       "      <th>duration</th>\n",
       "      <th>campaign</th>\n",
       "      <th>pdays</th>\n",
       "      <th>previous</th>\n",
       "      <th>poutcome</th>\n",
       "      <th>y</th>\n",
       "    </tr>\n",
       "  </thead>\n",
       "  <tbody>\n",
       "    <tr>\n",
       "      <th>0</th>\n",
       "      <td>30</td>\n",
       "      <td>unemployed</td>\n",
       "      <td>married</td>\n",
       "      <td>primary</td>\n",
       "      <td>no</td>\n",
       "      <td>1787</td>\n",
       "      <td>no</td>\n",
       "      <td>no</td>\n",
       "      <td>cellular</td>\n",
       "      <td>19</td>\n",
       "      <td>oct</td>\n",
       "      <td>79</td>\n",
       "      <td>1</td>\n",
       "      <td>-1</td>\n",
       "      <td>0</td>\n",
       "      <td>unknown</td>\n",
       "      <td>no</td>\n",
       "    </tr>\n",
       "    <tr>\n",
       "      <th>1</th>\n",
       "      <td>33</td>\n",
       "      <td>services</td>\n",
       "      <td>married</td>\n",
       "      <td>secondary</td>\n",
       "      <td>no</td>\n",
       "      <td>4789</td>\n",
       "      <td>yes</td>\n",
       "      <td>yes</td>\n",
       "      <td>cellular</td>\n",
       "      <td>11</td>\n",
       "      <td>may</td>\n",
       "      <td>220</td>\n",
       "      <td>1</td>\n",
       "      <td>339</td>\n",
       "      <td>4</td>\n",
       "      <td>failure</td>\n",
       "      <td>no</td>\n",
       "    </tr>\n",
       "    <tr>\n",
       "      <th>2</th>\n",
       "      <td>35</td>\n",
       "      <td>management</td>\n",
       "      <td>single</td>\n",
       "      <td>tertiary</td>\n",
       "      <td>no</td>\n",
       "      <td>1350</td>\n",
       "      <td>yes</td>\n",
       "      <td>no</td>\n",
       "      <td>cellular</td>\n",
       "      <td>16</td>\n",
       "      <td>apr</td>\n",
       "      <td>185</td>\n",
       "      <td>1</td>\n",
       "      <td>330</td>\n",
       "      <td>1</td>\n",
       "      <td>failure</td>\n",
       "      <td>no</td>\n",
       "    </tr>\n",
       "    <tr>\n",
       "      <th>3</th>\n",
       "      <td>30</td>\n",
       "      <td>management</td>\n",
       "      <td>married</td>\n",
       "      <td>tertiary</td>\n",
       "      <td>no</td>\n",
       "      <td>1476</td>\n",
       "      <td>yes</td>\n",
       "      <td>yes</td>\n",
       "      <td>unknown</td>\n",
       "      <td>3</td>\n",
       "      <td>jun</td>\n",
       "      <td>199</td>\n",
       "      <td>4</td>\n",
       "      <td>-1</td>\n",
       "      <td>0</td>\n",
       "      <td>unknown</td>\n",
       "      <td>no</td>\n",
       "    </tr>\n",
       "    <tr>\n",
       "      <th>4</th>\n",
       "      <td>59</td>\n",
       "      <td>blue-collar</td>\n",
       "      <td>married</td>\n",
       "      <td>secondary</td>\n",
       "      <td>no</td>\n",
       "      <td>0</td>\n",
       "      <td>yes</td>\n",
       "      <td>no</td>\n",
       "      <td>unknown</td>\n",
       "      <td>5</td>\n",
       "      <td>may</td>\n",
       "      <td>226</td>\n",
       "      <td>1</td>\n",
       "      <td>-1</td>\n",
       "      <td>0</td>\n",
       "      <td>unknown</td>\n",
       "      <td>no</td>\n",
       "    </tr>\n",
       "  </tbody>\n",
       "</table>\n",
       "</div>"
      ],
      "text/plain": [
       "   age          job  marital  education default  balance housing loan  \\\n",
       "0   30   unemployed  married    primary      no     1787      no   no   \n",
       "1   33     services  married  secondary      no     4789     yes  yes   \n",
       "2   35   management   single   tertiary      no     1350     yes   no   \n",
       "3   30   management  married   tertiary      no     1476     yes  yes   \n",
       "4   59  blue-collar  married  secondary      no        0     yes   no   \n",
       "\n",
       "    contact  day month  duration  campaign  pdays  previous poutcome   y  \n",
       "0  cellular   19   oct        79         1     -1         0  unknown  no  \n",
       "1  cellular   11   may       220         1    339         4  failure  no  \n",
       "2  cellular   16   apr       185         1    330         1  failure  no  \n",
       "3   unknown    3   jun       199         4     -1         0  unknown  no  \n",
       "4   unknown    5   may       226         1     -1         0  unknown  no  "
      ]
     },
     "execution_count": 5,
     "metadata": {},
     "output_type": "execute_result"
    }
   ],
   "source": [
    "bank_ds = pd.read_csv(os.path.join(DATASETS_DIR, 'bank.csv'), sep=';')\n",
    "print(bank_ds.shape)\n",
    "bank_ds.head()"
   ]
  },
  {
   "cell_type": "code",
   "execution_count": 6,
   "metadata": {},
   "outputs": [
    {
     "name": "stdout",
     "output_type": "stream",
     "text": [
      "train size 3390\n",
      "test size 1131\n"
     ]
    },
    {
     "data": {
      "text/html": [
       "<div>\n",
       "<style scoped>\n",
       "    .dataframe tbody tr th:only-of-type {\n",
       "        vertical-align: middle;\n",
       "    }\n",
       "\n",
       "    .dataframe tbody tr th {\n",
       "        vertical-align: top;\n",
       "    }\n",
       "\n",
       "    .dataframe thead th {\n",
       "        text-align: right;\n",
       "    }\n",
       "</style>\n",
       "<table border=\"1\" class=\"dataframe\">\n",
       "  <thead>\n",
       "    <tr style=\"text-align: right;\">\n",
       "      <th></th>\n",
       "      <th>metrics</th>\n",
       "      <th>train</th>\n",
       "      <th>test</th>\n",
       "    </tr>\n",
       "  </thead>\n",
       "  <tbody>\n",
       "    <tr>\n",
       "      <th>0</th>\n",
       "      <td>accuracy_score</td>\n",
       "      <td>0.938053</td>\n",
       "      <td>0.896552</td>\n",
       "    </tr>\n",
       "    <tr>\n",
       "      <th>1</th>\n",
       "      <td>precision_score</td>\n",
       "      <td>0.860465</td>\n",
       "      <td>0.550000</td>\n",
       "    </tr>\n",
       "    <tr>\n",
       "      <th>2</th>\n",
       "      <td>recall_score</td>\n",
       "      <td>0.560606</td>\n",
       "      <td>0.352000</td>\n",
       "    </tr>\n",
       "    <tr>\n",
       "      <th>3</th>\n",
       "      <td>y_mean</td>\n",
       "      <td>0.116814</td>\n",
       "      <td>0.110522</td>\n",
       "    </tr>\n",
       "  </tbody>\n",
       "</table>\n",
       "</div>"
      ],
      "text/plain": [
       "           metrics     train      test\n",
       "0   accuracy_score  0.938053  0.896552\n",
       "1  precision_score  0.860465  0.550000\n",
       "2     recall_score  0.560606  0.352000\n",
       "3           y_mean  0.116814  0.110522"
      ]
     },
     "execution_count": 6,
     "metadata": {},
     "output_type": "execute_result"
    }
   ],
   "source": [
    "y_feat = 'y'\n",
    "s = bank_ds.drop(y_feat,1).dtypes\n",
    "cat_feats = list(s[s==np.dtype('O')].index)\n",
    "real_feats = list(s.drop(cat_feats).index)\n",
    "\n",
    "X_train, X_test, y_train, y_test = train_test_split(bank_ds[cat_feats+real_feats], bank_ds[y_feat].apply(lambda x: {'no':0,'yes':1}[x]), random_state=42)\n",
    "print('train size', len(X_train))\n",
    "print('test size', len(X_test))\n",
    "\n",
    "\n",
    "train_pool = cb.Pool(X_train, y_train, cat_features=cat_feats)\n",
    "test_pool = cb.Pool(X_test, y_test, cat_features=cat_feats)\n",
    "bb = cb.CatBoostClassifier()\n",
    "bb.fit(train_pool, verbose=False, plot=False)\n",
    "\n",
    "train_preds, test_preds = bb.predict(train_pool), bb.predict(test_pool)\n",
    "train_preds_proba, test_preds_proba = bb.predict_proba(train_pool)[:,1], bb.predict_proba(test_pool)[:,1]\n",
    "metrics_ds = []\n",
    "for m in [accuracy_score, precision_score, recall_score]:\n",
    "    res = {'train':m(y_train, train_preds), 'test':m(y_test, test_preds), 'metrics':m.__name__}\n",
    "    metrics_ds.append(res)\n",
    "metrics_ds.append({'train':y_train.mean(), 'test':y_test.mean(), 'metrics':'y_mean'})\n",
    "metrics_ds = pd.DataFrame(metrics_ds).reindex(columns=['metrics','train','test'])\n",
    "metrics_ds"
   ]
  },
  {
   "cell_type": "markdown",
   "metadata": {},
   "source": [
    "Calculate features influences to the prediction"
   ]
  },
  {
   "cell_type": "code",
   "execution_count": 7,
   "metadata": {},
   "outputs": [],
   "source": [
    "def sigmoid(x):\n",
    "    return 1/(1+np.exp(-x))"
   ]
  },
  {
   "cell_type": "code",
   "execution_count": 8,
   "metadata": {},
   "outputs": [
    {
     "name": "stdout",
     "output_type": "stream",
     "text": [
      "adding -0.04683946991419995 to bias\n",
      "(1131, 16)\n"
     ]
    }
   ],
   "source": [
    "sv_ds = pd.DataFrame(bb.get_feature_importance(data=test_pool,type='ShapValues'), columns=list(test_pool.get_feature_names())+['bias'])\n",
    "bias = sv_ds['bias'][0]\n",
    "sv_ds = sv_ds.drop('bias',1)\n",
    "med = np.median(sv_ds.values.flatten())\n",
    "print(f'adding {med*sv_ds.shape[1]} to bias')\n",
    "bias += med*sv_ds.shape[1]\n",
    "sv_ds -= med\n",
    "print(sv_ds.shape)"
   ]
  },
  {
   "cell_type": "code",
   "execution_count": 9,
   "metadata": {},
   "outputs": [
    {
     "data": {
      "text/plain": [
       "2.5272346064822426e-13"
      ]
     },
     "execution_count": 9,
     "metadata": {},
     "output_type": "execute_result"
    }
   ],
   "source": [
    "(test_preds_proba-sigmoid(sv_ds.sum(1)+bias)).abs().sum()"
   ]
  },
  {
   "cell_type": "markdown",
   "metadata": {},
   "source": [
    "# Build the context"
   ]
  },
  {
   "cell_type": "markdown",
   "metadata": {},
   "source": [
    "I.e. sigmoid(Sum of shap values) for every row is the prediction of the model"
   ]
  },
  {
   "cell_type": "code",
   "execution_count": 10,
   "metadata": {},
   "outputs": [
    {
     "name": "stderr",
     "output_type": "stream",
     "text": [
      "/home/egor/anaconda3/lib/python3.7/site-packages/scipy/stats/stats.py:1713: FutureWarning: Using a non-tuple sequence for multidimensional indexing is deprecated; use `arr[tuple(seq)]` instead of `arr[seq]`. In the future this will be interpreted as an array index, `arr[np.array(seq)]`, which will result either in an error or a different result.\n",
      "  return np.add.reduce(sorted[indexer] * weights, axis=axis) / sumval\n"
     ]
    },
    {
     "data": {
      "image/png": "[encoded data removed]",
      "text/plain": [
       "<Figure size 1800x360 with 2 Axes>"
      ]
     },
     "metadata": {
      "needs_background": "light"
     },
     "output_type": "display_data"
    }
   ],
   "source": [
    "plt.figure(figsize=(25,5))\n",
    "plt.subplot(121)\n",
    "sns.distplot(sv_ds.values.flatten())\n",
    "xticks = np.arange(-4,5,0.5)\n",
    "plt.xticks(xticks, xticks.round(1))\n",
    "\n",
    "plt.subplot(122)\n",
    "sns.distplot(sv_ds.abs().values.flatten())\n",
    "xticks = np.arange(0,5,0.5)\n",
    "plt.xticks(xticks, xticks.round(1))\n",
    "\n",
    "plt.show()"
   ]
  },
  {
   "cell_type": "markdown",
   "metadata": {},
   "source": [
    "Not shure about the perfect way to compute percentiles. But it will do for the start"
   ]
  },
  {
   "cell_type": "code",
   "execution_count": 11,
   "metadata": {},
   "outputs": [
    {
     "data": {
      "text/plain": [
       "<matplotlib.axes._subplots.AxesSubplot at 0x7fdd2beb6400>"
      ]
     },
     "execution_count": 11,
     "metadata": {},
     "output_type": "execute_result"
    },
    {
     "data": {
      "image/png": "[encoded data removed]",
      "text/plain": [
       "<Figure size 432x288 with 1 Axes>"
      ]
     },
     "metadata": {
      "needs_background": "light"
     },
     "output_type": "display_data"
    }
   ],
   "source": [
    "sns.distplot(sv_ds.values.flatten()+bias)"
   ]
  },
  {
   "cell_type": "code",
   "execution_count": 12,
   "metadata": {},
   "outputs": [
    {
     "data": {
      "text/plain": [
       "array([-0.0688,  0.    ,  0.047 ])"
      ]
     },
     "execution_count": 12,
     "metadata": {},
     "output_type": "execute_result"
    }
   ],
   "source": [
    "percs = np.percentile(sv_ds.values.flatten(), [25,50,75]).round(4)\n",
    "percs"
   ]
  },
  {
   "cell_type": "markdown",
   "metadata": {},
   "source": [
    "Build the context"
   ]
  },
  {
   "cell_type": "code",
   "execution_count": 13,
   "metadata": {},
   "outputs": [
    {
     "name": "stdout",
     "output_type": "stream",
     "text": [
      "(1131, 64)\n"
     ]
    }
   ],
   "source": [
    "context_ds = pd.DataFrame()\n",
    "for f in sv_ds.columns:\n",
    "    context_ds[f+'_neg_b'] = (sv_ds[f]<=percs[0]).astype(bool)\n",
    "    context_ds[f+'_neg_s'] = ((sv_ds[f]>percs[0])&(sv_ds[f]<=percs[1])).astype(bool)\n",
    "    context_ds[f+'_pos_s'] = ((sv_ds[f]>percs[1])&(sv_ds[f]<=percs[2])).astype(bool)\n",
    "    context_ds[f+'_pos_b'] = (sv_ds[f]>percs[2]).astype(bool)\n",
    "print(context_ds.shape)"
   ]
  },
  {
   "cell_type": "markdown",
   "metadata": {},
   "source": [
    "Delete duplicated rows and columns"
   ]
  },
  {
   "cell_type": "code",
   "execution_count": 14,
   "metadata": {},
   "outputs": [
    {
     "name": "stdout",
     "output_type": "stream",
     "text": [
      "(1093, 64)\n"
     ]
    },
    {
     "data": {
      "text/html": [
       "<div>\n",
       "<style scoped>\n",
       "    .dataframe tbody tr th:only-of-type {\n",
       "        vertical-align: middle;\n",
       "    }\n",
       "\n",
       "    .dataframe tbody tr th {\n",
       "        vertical-align: top;\n",
       "    }\n",
       "\n",
       "    .dataframe thead th {\n",
       "        text-align: right;\n",
       "    }\n",
       "</style>\n",
       "<table border=\"1\" class=\"dataframe\">\n",
       "  <thead>\n",
       "    <tr style=\"text-align: right;\">\n",
       "      <th></th>\n",
       "      <th>job_neg_b</th>\n",
       "      <th>job_neg_s</th>\n",
       "      <th>job_pos_s</th>\n",
       "      <th>job_pos_b</th>\n",
       "      <th>marital_neg_b</th>\n",
       "      <th>marital_neg_s</th>\n",
       "      <th>marital_pos_s</th>\n",
       "      <th>marital_pos_b</th>\n",
       "      <th>education_neg_b</th>\n",
       "      <th>education_neg_s</th>\n",
       "      <th>...</th>\n",
       "      <th>campaign_pos_s</th>\n",
       "      <th>campaign_pos_b</th>\n",
       "      <th>pdays_neg_b</th>\n",
       "      <th>pdays_neg_s</th>\n",
       "      <th>pdays_pos_s</th>\n",
       "      <th>pdays_pos_b</th>\n",
       "      <th>previous_neg_b</th>\n",
       "      <th>previous_neg_s</th>\n",
       "      <th>previous_pos_s</th>\n",
       "      <th>previous_pos_b</th>\n",
       "    </tr>\n",
       "  </thead>\n",
       "  <tbody>\n",
       "    <tr>\n",
       "      <th>0</th>\n",
       "      <td>False</td>\n",
       "      <td>True</td>\n",
       "      <td>False</td>\n",
       "      <td>False</td>\n",
       "      <td>False</td>\n",
       "      <td>True</td>\n",
       "      <td>False</td>\n",
       "      <td>False</td>\n",
       "      <td>False</td>\n",
       "      <td>False</td>\n",
       "      <td>...</td>\n",
       "      <td>False</td>\n",
       "      <td>False</td>\n",
       "      <td>False</td>\n",
       "      <td>False</td>\n",
       "      <td>True</td>\n",
       "      <td>False</td>\n",
       "      <td>False</td>\n",
       "      <td>False</td>\n",
       "      <td>True</td>\n",
       "      <td>False</td>\n",
       "    </tr>\n",
       "    <tr>\n",
       "      <th>1</th>\n",
       "      <td>False</td>\n",
       "      <td>False</td>\n",
       "      <td>True</td>\n",
       "      <td>False</td>\n",
       "      <td>False</td>\n",
       "      <td>True</td>\n",
       "      <td>False</td>\n",
       "      <td>False</td>\n",
       "      <td>False</td>\n",
       "      <td>False</td>\n",
       "      <td>...</td>\n",
       "      <td>True</td>\n",
       "      <td>False</td>\n",
       "      <td>False</td>\n",
       "      <td>False</td>\n",
       "      <td>True</td>\n",
       "      <td>False</td>\n",
       "      <td>False</td>\n",
       "      <td>False</td>\n",
       "      <td>False</td>\n",
       "      <td>True</td>\n",
       "    </tr>\n",
       "    <tr>\n",
       "      <th>2</th>\n",
       "      <td>False</td>\n",
       "      <td>True</td>\n",
       "      <td>False</td>\n",
       "      <td>False</td>\n",
       "      <td>False</td>\n",
       "      <td>True</td>\n",
       "      <td>False</td>\n",
       "      <td>False</td>\n",
       "      <td>False</td>\n",
       "      <td>False</td>\n",
       "      <td>...</td>\n",
       "      <td>True</td>\n",
       "      <td>False</td>\n",
       "      <td>False</td>\n",
       "      <td>False</td>\n",
       "      <td>True</td>\n",
       "      <td>False</td>\n",
       "      <td>False</td>\n",
       "      <td>False</td>\n",
       "      <td>True</td>\n",
       "      <td>False</td>\n",
       "    </tr>\n",
       "    <tr>\n",
       "      <th>3</th>\n",
       "      <td>False</td>\n",
       "      <td>True</td>\n",
       "      <td>False</td>\n",
       "      <td>False</td>\n",
       "      <td>False</td>\n",
       "      <td>True</td>\n",
       "      <td>False</td>\n",
       "      <td>False</td>\n",
       "      <td>False</td>\n",
       "      <td>True</td>\n",
       "      <td>...</td>\n",
       "      <td>False</td>\n",
       "      <td>False</td>\n",
       "      <td>False</td>\n",
       "      <td>True</td>\n",
       "      <td>False</td>\n",
       "      <td>False</td>\n",
       "      <td>False</td>\n",
       "      <td>True</td>\n",
       "      <td>False</td>\n",
       "      <td>False</td>\n",
       "    </tr>\n",
       "    <tr>\n",
       "      <th>4</th>\n",
       "      <td>False</td>\n",
       "      <td>True</td>\n",
       "      <td>False</td>\n",
       "      <td>False</td>\n",
       "      <td>False</td>\n",
       "      <td>False</td>\n",
       "      <td>False</td>\n",
       "      <td>True</td>\n",
       "      <td>False</td>\n",
       "      <td>False</td>\n",
       "      <td>...</td>\n",
       "      <td>True</td>\n",
       "      <td>False</td>\n",
       "      <td>False</td>\n",
       "      <td>False</td>\n",
       "      <td>True</td>\n",
       "      <td>False</td>\n",
       "      <td>False</td>\n",
       "      <td>True</td>\n",
       "      <td>False</td>\n",
       "      <td>False</td>\n",
       "    </tr>\n",
       "  </tbody>\n",
       "</table>\n",
       "<p>5 rows × 64 columns</p>\n",
       "</div>"
      ],
      "text/plain": [
       "   job_neg_b  job_neg_s  job_pos_s  job_pos_b  marital_neg_b  marital_neg_s  \\\n",
       "0      False       True      False      False          False           True   \n",
       "1      False      False       True      False          False           True   \n",
       "2      False       True      False      False          False           True   \n",
       "3      False       True      False      False          False           True   \n",
       "4      False       True      False      False          False          False   \n",
       "\n",
       "   marital_pos_s  marital_pos_b  education_neg_b  education_neg_s  \\\n",
       "0          False          False            False            False   \n",
       "1          False          False            False            False   \n",
       "2          False          False            False            False   \n",
       "3          False          False            False             True   \n",
       "4          False           True            False            False   \n",
       "\n",
       "        ...        campaign_pos_s  campaign_pos_b  pdays_neg_b  pdays_neg_s  \\\n",
       "0       ...                 False           False        False        False   \n",
       "1       ...                  True           False        False        False   \n",
       "2       ...                  True           False        False        False   \n",
       "3       ...                 False           False        False         True   \n",
       "4       ...                  True           False        False        False   \n",
       "\n",
       "   pdays_pos_s  pdays_pos_b  previous_neg_b  previous_neg_s  previous_pos_s  \\\n",
       "0         True        False           False           False            True   \n",
       "1         True        False           False           False           False   \n",
       "2         True        False           False           False            True   \n",
       "3        False        False           False            True           False   \n",
       "4         True        False           False            True           False   \n",
       "\n",
       "   previous_pos_b  \n",
       "0           False  \n",
       "1            True  \n",
       "2           False  \n",
       "3           False  \n",
       "4           False  \n",
       "\n",
       "[5 rows x 64 columns]"
      ]
     },
     "execution_count": 14,
     "metadata": {},
     "output_type": "execute_result"
    }
   ],
   "source": [
    "context_ds_small = context_ds.drop_duplicates()\n",
    "context_ds_small = context_ds_small.T.drop_duplicates().T\n",
    "print(context_ds_small.shape)\n",
    "\n",
    "context_ds_small.head()"
   ]
  },
  {
   "cell_type": "markdown",
   "metadata": {},
   "source": [
    "# Functions to build the concepts\n",
    "\n",
    "Comparison with Concepts library"
   ]
  },
  {
   "cell_type": "code",
   "execution_count": 15,
   "metadata": {},
   "outputs": [],
   "source": [
    "import concepts"
   ]
  },
  {
   "cell_type": "code",
   "execution_count": 16,
   "metadata": {},
   "outputs": [],
   "source": [
    "def get_extent(cur_attrs, cntx, attrs_dict=None):\n",
    "    assert attrs_dict is None or len(attrs_dict)==cntx.shape[1], 'Attributes dict should cover all columns of the Context and vice versa'\n",
    "    \n",
    "    attr_idxs = list(cur_attrs) if type(cur_attrs)==tuple else [cur_attrs] if type(cur_attrs)!=list else cur_attrs\n",
    "    attr_idxs = [attrs_dict[m] for m in attr_idxs] if attrs_dict is not None else attr_idxs\n",
    "    \n",
    "    ext = np.arange(cntx.shape[0])\n",
    "    ext = list(ext[cntx[:,attr_idxs].sum(1)==len(attr_idxs)])\n",
    "    return ext"
   ]
  },
  {
   "cell_type": "code",
   "execution_count": 17,
   "metadata": {},
   "outputs": [],
   "source": [
    "def get_intent(cur_objs, cntx, objs_dict=None):\n",
    "    assert objs_dict is None or len(objs_dict)==cntx.shape[0], 'Objects dict should cover all rows of the Context and vice versa'\n",
    "    \n",
    "    obj_idxs = list(cur_objs) if type(cur_objs)==tuple else [cur_objs] if type(cur_objs)!=list else cur_objs\n",
    "    obj_idxs = [objs_dict[g] for g in obj_idxs] if objs_dict is not None else obj_idxs\n",
    "\n",
    "    int_ = np.arange(cntx.shape[1])\n",
    "    cntx = cntx[obj_idxs]\n",
    "    int_ = list(int_[cntx.sum(0)==len(obj_idxs)])\n",
    "    return int_"
   ]
  },
  {
   "cell_type": "code",
   "execution_count": 18,
   "metadata": {},
   "outputs": [],
   "source": [
    "attrs_dict = {m:i for i,m in enumerate(context_ds_small.columns)}\n",
    "objs_dict = {g:i for i,g in enumerate(context_ds_small.index)}\n",
    "context_bin_matr = context_ds_small.values.astype(bool)"
   ]
  },
  {
   "cell_type": "code",
   "execution_count": 19,
   "metadata": {},
   "outputs": [],
   "source": [
    "#idxs = context_bin.sample(100, random_state=42).index\n",
    "idxs = context_ds_small.index\n",
    "objects = list(idxs)\n",
    "properties = list(context_ds_small.columns)\n",
    "bools = list(context_ds_small.loc[idxs].fillna(False).astype(bool).itertuples(index=False, name=None))\n",
    "c_ = concepts.Context(objects, properties, bools)"
   ]
  },
  {
   "cell_type": "code",
   "execution_count": 20,
   "metadata": {},
   "outputs": [
    {
     "data": {
      "application/vnd.jupyter.widget-view+json": {
       "model_id": "84092066311343bf86eab3646d18da77",
       "version_major": 2,
       "version_minor": 0
      },
      "text/plain": [
       "HBox(children=(IntProgress(value=0, max=10), HTML(value='')))"
      ]
     },
     "metadata": {},
     "output_type": "display_data"
    },
    {
     "name": "stderr",
     "output_type": "stream",
     "text": [
      "/home/egor/.local/lib/python3.7/site-packages/numpy/core/fromnumeric.py:3257: RuntimeWarning: Mean of empty slice.\n",
      "  out=out, **kwargs)\n",
      "/home/egor/.local/lib/python3.7/site-packages/numpy/core/_methods.py:161: RuntimeWarning: invalid value encountered in double_scalars\n",
      "  ret = ret.dtype.type(ret / rcount)\n"
     ]
    },
    {
     "name": "stdout",
     "output_type": "stream",
     "text": [
      "\n"
     ]
    },
    {
     "data": {
      "image/png": "[encoded data removed]",
      "text/plain": [
       "<Figure size 432x288 with 1 Axes>"
      ]
     },
     "metadata": {
      "needs_background": "light"
     },
     "output_type": "display_data"
    }
   ],
   "source": [
    "xaxis = list(np.linspace(1,len(context_ds_small.columns)+1, 10).astype(int))\n",
    "y_conc = []\n",
    "y_pand = []\n",
    "\n",
    "for x in tqdm_notebook(xaxis):\n",
    "    times_conc = []\n",
    "    times_pand = []\n",
    "    \n",
    "    max_iter = 1000\n",
    "    combs = list(islice(combinations(context_ds_small.columns, x),max_iter))\n",
    "    if len(combs)<max_iter:\n",
    "        combs = combs*max_iter\n",
    "        combs = combs[:max_iter]\n",
    "    for comb in tqdm_notebook(combs,  desc=f'x: {x}', leave=True, disable=True):    \n",
    "        comb = list(comb)\n",
    "        dt1 = datetime.now()\n",
    "        c_.extension(comb)\n",
    "        dt2 = datetime.now()\n",
    "        times_conc.append((dt2-dt1).total_seconds())\n",
    "        \n",
    "        comb_int = [attrs_dict[m] for m in comb]\n",
    "        \n",
    "        dt1 = datetime.now()\n",
    "        get_extent(comb_int, context_bin_matr)\n",
    "        dt2 = datetime.now()\n",
    "        times_pand.append((dt2-dt1).total_seconds())\n",
    "        \n",
    "        \n",
    "    y_conc.append(np.mean(times_conc))\n",
    "    y_pand.append(np.mean(times_pand))\n",
    "\n",
    "sns.regplot(xaxis, y_conc, label='concepts')\n",
    "sns.regplot(xaxis, y_pand, label='numpy')\n",
    "plt.title('Extents computation time consumptions')\n",
    "#sns.regplot(xaxis, y_pand_2, label='pands2')\n",
    "plt.xticks(xaxis, xaxis)\n",
    "plt.xlabel('Cardinality of intent')\n",
    "plt.ylabel('time (s)')\n",
    "plt.legend()\n",
    "plt.show()"
   ]
  },
  {
   "cell_type": "code",
   "execution_count": 21,
   "metadata": {},
   "outputs": [
    {
     "data": {
      "application/vnd.jupyter.widget-view+json": {
       "model_id": "d74ca2a883c74b5b99809a2f249e2289",
       "version_major": 2,
       "version_minor": 0
      },
      "text/plain": [
       "HBox(children=(IntProgress(value=0, max=20), HTML(value='')))"
      ]
     },
     "metadata": {},
     "output_type": "display_data"
    },
    {
     "name": "stdout",
     "output_type": "stream",
     "text": [
      "\n"
     ]
    },
    {
     "data": {
      "image/png": "[encoded data removed]",
      "text/plain": [
       "<Figure size 432x288 with 1 Axes>"
      ]
     },
     "metadata": {
      "needs_background": "light"
     },
     "output_type": "display_data"
    }
   ],
   "source": [
    "xaxis = list(np.logspace(0,np.log(len(context_ds_small.index)+1), 20).round().astype(int))\n",
    "y_conc = []\n",
    "y_pand = []\n",
    "\n",
    "for x in tqdm_notebook(xaxis):\n",
    "    times_conc = []\n",
    "    times_pand = []\n",
    "    \n",
    "    max_iter = 1000\n",
    "    combs = list(islice(combinations(context_ds_small.index, x),max_iter))\n",
    "    if len(combs)<max_iter:\n",
    "        combs = combs*max_iter\n",
    "        combs = combs[:max_iter]\n",
    "    for comb in tqdm_notebook(combs,  desc=f'x: {x}', leave=True, disable=True):    \n",
    "        comb = list(comb)\n",
    "        dt1 = datetime.now()\n",
    "        c_.intension(comb)\n",
    "        dt2 = datetime.now()\n",
    "        times_conc.append((dt2-dt1).total_seconds())\n",
    "        \n",
    "        comb_int = [objs_dict[m] for m in comb]\n",
    "        \n",
    "        dt1 = datetime.now()\n",
    "        get_intent(comb_int, context_bin_matr)\n",
    "        dt2 = datetime.now()\n",
    "        times_pand.append((dt2-dt1).total_seconds())\n",
    "        \n",
    "        \n",
    "    y_conc.append(np.mean(times_conc))\n",
    "    y_pand.append(np.mean(times_pand))\n",
    "\n",
    "sns.regplot(xaxis, y_conc, label='concepts')\n",
    "sns.regplot(xaxis, y_pand, label='numpy')\n",
    "plt.title('Intent computation time consumptions')\n",
    "#sns.regplot(xaxis, y_pand_2, label='pands2')\n",
    "#plt.xticks(xaxis, xaxis)\n",
    "plt.xlabel('Cardinality of extent')\n",
    "plt.ylabel('time (s)')\n",
    "plt.legend()\n",
    "plt.show()"
   ]
  },
  {
   "cell_type": "code",
   "execution_count": 22,
   "metadata": {},
   "outputs": [],
   "source": [
    "def close_by_one(cntx, max_iters_num=None, max_num_attrs=None, min_num_objs=None):\n",
    "    #is_transposed = False\n",
    "    #if cntx.shape[0]<cntx.shape[1]:\n",
    "    #    cntx = cntx.T\n",
    "    #    is_transposed = True\n",
    "        \n",
    "    combs_to_check = [[]]#[[i] for i in range(cntx.shape[1])]\n",
    "    concepts = set()\n",
    "    if max_num_attrs is not None and min_num_objs is not None:\n",
    "        tot = min(sum([sp.misc.comb(N=cntx.shape[1],k=x) for x in range(0,max_num_attrs+1)]), sum([sp.misc.comb(N=cntx.shape[1],k=x) for x in range(0,min_num_objs+1)]))\n",
    "        t = tqdm_notebook(total=tot)\n",
    "    elif max_num_attrs is not None:\n",
    "        t = tqdm_notebook(total=sum([sp.misc.comb(N=cntx.shape[1],k=x) for x in range(0,max_num_attrs+1)]))\n",
    "    elif min_num_objs is not None:\n",
    "        t = tqdm_notebook(total=sum([sp.misc.comb(N=cntx.shape[1],k=x) for x in range(0,min_num_objs+1)]))\n",
    "    else:\n",
    "        t = tqdm_notebook(total=len(combs_to_check))\n",
    "    #t = tqdm_notebook(total=2**cntx.shape[1])\n",
    "    \n",
    "    i = 0 \n",
    "    while len(combs_to_check)>0:\n",
    "        i+=1\n",
    "        if max_iters_num is not None and i>=max_iters_num:\n",
    "            break\n",
    "        comb = combs_to_check.pop(0)\n",
    "        \n",
    "        if max_num_attrs is not None and len(comb)>max_num_attrs:\n",
    "            #t.update()\n",
    "            continue\n",
    "        #print(comb, len(comb), len(comb)>max_num_attributes)\n",
    "        ext_ = get_extent(comb, cntx)\n",
    "        if min_num_objs is not None and len(ext_)<=min_num_objs:\n",
    "            continue\n",
    "        int_ = get_intent(ext_, cntx)\n",
    "        \n",
    "        new_int_ = [x for x in int_ if x not in comb]\n",
    "        \n",
    "        if len(comb)>0 and any([x<comb[-1] for x in new_int_]):\n",
    "            t.update()\n",
    "            continue\n",
    "        concepts.add((tuple(ext_), tuple(int_)))\n",
    "        \n",
    "        new_combs = [int_+[x] for x in range((int_[-1] if len(int_)>0 else -1)+1, cntx.shape[1])]\n",
    "        combs_to_check = new_combs+combs_to_check\n",
    "        t.update()\n",
    "        if max_num_attrs is None or min_num_objs is not None:\n",
    "            t.total += len(new_combs)\n",
    "    \n",
    "    #concepts = [(x[1],x[0]) for x in list(concepts)] if is_transposed else list(concepts)\n",
    "    concepts = sorted(concepts, key=lambda x: len(x[1]))\n",
    "    \n",
    "    return concepts"
   ]
  },
  {
   "cell_type": "code",
   "execution_count": 23,
   "metadata": {},
   "outputs": [],
   "source": [
    "def is_subconcept(a,b):\n",
    "    \"\"\"if a is subconcept of b, a<=b\"\"\"\n",
    "    return all([g in b[0] for g in a[0]]) and all([m in a[1] for m in b[1]])"
   ]
  },
  {
   "cell_type": "code",
   "execution_count": 24,
   "metadata": {},
   "outputs": [],
   "source": [
    "def get_lower_neighbours(concepts_set, use_tqdm=True):\n",
    "    concepts_set = sorted(concepts_set, key=lambda x: len(x[0]))\n",
    "    concepts_map = {k:i for i,k in enumerate(concepts_set)}\n",
    "    concepts_map_inv = {v:k for k,v in concepts_map.items()}\n",
    "    lower_neighbours = {concepts_map[concepts_set[0]]: set()}\n",
    "    max_lowest_neighbours = {concepts_map[concepts_set[0]]: set()}\n",
    "    \n",
    "    for idx, concept in tqdm_notebook(enumerate(concepts_set[1:]), total=len(concepts_set)-1, disable=not use_tqdm):\n",
    "        possible_neighbs = set([concepts_map[pn] for pn in concepts_set[:idx]])\n",
    "        neighbs = set()\n",
    "        ml_neighbs = set()\n",
    "                    \n",
    "        while len(possible_neighbs)>0:\n",
    "            pn_idx = np.max(possible_neighbs)\n",
    "            if type(pn_idx)==set:\n",
    "                pn_idx = list(pn_idx)[0]\n",
    "            possible_neighbs.remove(pn_idx)\n",
    "            pn = concepts_map_inv[pn_idx]\n",
    "            #print(pn_idx, pn)\n",
    "            if pn_idx in neighbs:\n",
    "                print('Hello there')\n",
    "                continue\n",
    "            if is_subconcept(pn, concept): \n",
    "                possible_neighbs = possible_neighbs-lower_neighbours[concepts_map[pn]]\n",
    "                neighbs = neighbs|{pn_idx}|lower_neighbours[concepts_map[pn]]\n",
    "                ml_neighbs.add(pn_idx)\n",
    "                \n",
    "            \n",
    "        #for pn in tqdm_notebook(list(possible_neighbs),leave=True, disable=True):\n",
    "        #    if pn[1] in neighbs:\n",
    "        #        continue\n",
    "        #    if is_subconcept(pn, concept):\n",
    "        #        neighbs = neighbs|{concepts_map[pn[1]]}|set(lower_neighbours[concepts_map[pn[1]]])\n",
    "        lower_neighbours[concepts_map[concept]] = neighbs\n",
    "        max_lowest_neighbours[concepts_map[concept]] = ml_neighbs\n",
    "    lower_neighbours = {concepts_map_inv[k]:tuple([concepts_map_inv[v_] for v_ in v]) for k,v in lower_neighbours.items()}\n",
    "    max_lowest_neighbours = {concepts_map_inv[k]:tuple([concepts_map_inv[v_] for v_ in v]) for k,v in max_lowest_neighbours.items()}\n",
    "    return lower_neighbours, max_lowest_neighbours"
   ]
  },
  {
   "cell_type": "raw",
   "metadata": {},
   "source": [
    "xaxis = list(np.linspace(1,len(context_bin_matr),50).astype(int))#[1,10,100,300,1000]\n",
    "times = []\n",
    "for x in tqdm_notebook(xaxis):\n",
    "    dt1 = datetime.now()\n",
    "    close_by_one(context_bin_matr[:x])\n",
    "    dt2 = datetime.now()\n",
    "    times.append((dt2-dt1).total_seconds())"
   ]
  },
  {
   "cell_type": "raw",
   "metadata": {},
   "source": [
    "sns.regplot(xaxis, times, order=2)\n",
    "plt.xlabel('Number of objects in the context')\n",
    "plt.ylabel('Time (s)')\n",
    "plt.title('Time to find all concepts based on objects in the context')\n",
    "plt.show()"
   ]
  },
  {
   "cell_type": "markdown",
   "metadata": {},
   "source": [
    "# Build concepts and their lattice"
   ]
  },
  {
   "cell_type": "raw",
   "metadata": {},
   "source": [
    "%%time\n",
    "concepts_set = close_by_one(context_bin_matr)\n",
    "print('Num of concepts: ',len(concepts_set))\n",
    "# Took 6 min and 549.983 concepts"
   ]
  },
  {
   "cell_type": "code",
   "execution_count": 25,
   "metadata": {},
   "outputs": [
    {
     "name": "stderr",
     "output_type": "stream",
     "text": [
      "/home/egor/anaconda3/lib/python3.7/site-packages/ipykernel_launcher.py:15: DeprecationWarning: `comb` is deprecated!\n",
      "Importing `comb` from scipy.misc is deprecated in scipy 1.0.0. Use `scipy.special.comb` instead.\n",
      "  from ipykernel import kernelapp as app\n"
     ]
    },
    {
     "data": {
      "application/vnd.jupyter.widget-view+json": {
       "model_id": "6d5dd16795614a5a9bc4fc4f70434197",
       "version_major": 2,
       "version_minor": 0
      },
      "text/plain": [
       "HBox(children=(IntProgress(value=0, max=18446744073709551616), HTML(value='')))"
      ]
     },
     "metadata": {},
     "output_type": "display_data"
    },
    {
     "name": "stdout",
     "output_type": "stream",
     "text": [
      "\n",
      "Num of concepts:  878\n",
      "CPU times: user 806 ms, sys: 40 ms, total: 846 ms\n",
      "Wall time: 838 ms\n"
     ]
    }
   ],
   "source": [
    "%%time\n",
    "concepts_set = close_by_one(context_bin_matr, min_num_objs=int(context_ds_small.shape[0]*0.2))\n",
    "print('Num of concepts: ',len(concepts_set))\n",
    "# tool 779 ms and 878 concepts"
   ]
  },
  {
   "cell_type": "code",
   "execution_count": 26,
   "metadata": {},
   "outputs": [
    {
     "name": "stdout",
     "output_type": "stream",
     "text": [
      "CPU times: user 153 ms, sys: 1.03 ms, total: 154 ms\n",
      "Wall time: 154 ms\n"
     ]
    }
   ],
   "source": [
    "%%time\n",
    "concepts_set_y_proba = [(c[0],c[1], np.median(test_preds_proba[context_ds_small.index][list(c[0])])) for c in concepts_set]\n",
    "concepts_set_y_bin = [(c[0],c[1], np.mean(test_preds[context_ds_small.index][list(c[0])])) for c in concepts_set]"
   ]
  },
  {
   "cell_type": "code",
   "execution_count": 27,
   "metadata": {},
   "outputs": [
    {
     "data": {
      "image/png": "[encoded data removed]",
      "text/plain": [
       "<Figure size 1800x360 with 2 Axes>"
      ]
     },
     "metadata": {
      "needs_background": "light"
     },
     "output_type": "display_data"
    }
   ],
   "source": [
    "plt.figure(figsize=(25,5))\n",
    "plt.subplot(121)\n",
    "sns.distplot([c[2] for c in concepts_set_y_proba[:-1]])\n",
    "plt.title('Mean probabilities in concepts distribution')\n",
    "\n",
    "plt.subplot(122)\n",
    "sns.distplot([c[2] for c in concepts_set_y_bin[:-1]])\n",
    "plt.title('Mean binary output in concepts distribution')\n",
    "\n",
    "plt.tight_layout()\n",
    "plt.show()"
   ]
  },
  {
   "cell_type": "code",
   "execution_count": 28,
   "metadata": {},
   "outputs": [
    {
     "data": {
      "application/vnd.jupyter.widget-view+json": {
       "model_id": "e6a6a0f0a39a4c358bf1d06dd3ca68ac",
       "version_major": 2,
       "version_minor": 0
      },
      "text/plain": [
       "HBox(children=(IntProgress(value=0, max=877), HTML(value='')))"
      ]
     },
     "metadata": {},
     "output_type": "display_data"
    },
    {
     "name": "stdout",
     "output_type": "stream",
     "text": [
      "\n"
     ]
    }
   ],
   "source": [
    "ln, mln = get_lower_neighbours(concepts_set,)"
   ]
  },
  {
   "cell_type": "code",
   "execution_count": 29,
   "metadata": {},
   "outputs": [
    {
     "data": {
      "text/plain": [
       "<matplotlib.axes._subplots.AxesSubplot at 0x7fdd280a3668>"
      ]
     },
     "execution_count": 29,
     "metadata": {},
     "output_type": "execute_result"
    },
    {
     "data": {
      "image/png": "[encoded data removed]",
      "text/plain": [
       "<Figure size 432x288 with 1 Axes>"
      ]
     },
     "metadata": {
      "needs_background": "light"
     },
     "output_type": "display_data"
    }
   ],
   "source": [
    "sns.distplot([len(ln[c])-len(mln[c]) for c in concepts_set])"
   ]
  },
  {
   "cell_type": "code",
   "execution_count": 30,
   "metadata": {},
   "outputs": [
    {
     "data": {
      "text/plain": [
       "[(234,\n",
       "  ['contact_pos_b', 'duration_pos_b', 'campaign_pos_s'],\n",
       "  0.24786324786324787),\n",
       " (349, ['contact_pos_b', 'duration_pos_b'], 0.1977077363896848),\n",
       " (248, ['default_neg_s', 'duration_pos_b'], 0.1975806451612903),\n",
       " (346, ['duration_pos_b', 'campaign_pos_s'], 0.1907514450867052),\n",
       " (231,\n",
       "  ['default_neg_s', 'duration_pos_b', 'previous_neg_s'],\n",
       "  0.16883116883116883),\n",
       " (248, ['housing_pos_b', 'campaign_pos_s'], 0.16129032258064516),\n",
       " (327, ['month_pos_b'], 0.1559633027522936),\n",
       " (302, ['contact_pos_b', 'month_pos_b'], 0.15562913907284767),\n",
       " (219, ['job_neg_s', 'contact_pos_b', 'duration_pos_b'], 0.1552511415525114),\n",
       " (239,\n",
       "  ['education_pos_s', 'contact_pos_b', 'duration_pos_b'],\n",
       "  0.15481171548117154),\n",
       " (518, ['duration_pos_b'], 0.1525096525096525),\n",
       " (227, ['job_neg_s', 'duration_pos_b', 'campaign_pos_s'], 0.14977973568281938),\n",
       " (278,\n",
       "  ['contact_pos_b', 'duration_pos_b', 'previous_neg_s'],\n",
       "  0.1474820143884892),\n",
       " (282, ['education_pos_s', 'duration_pos_b'], 0.1453900709219858),\n",
       " (279,\n",
       "  ['duration_pos_b', 'campaign_pos_s', 'previous_neg_s'],\n",
       "  0.13978494623655913),\n",
       " (430, ['contact_pos_b', 'campaign_pos_s'], 0.1372093023255814),\n",
       " (249,\n",
       "  ['contact_pos_b', 'campaign_pos_s', 'previous_neg_s'],\n",
       "  0.13654618473895583),\n",
       " (272, ['age_neg_s', 'duration_pos_b'], 0.12867647058823528),\n",
       " (327, ['housing_pos_b', 'contact_pos_b'], 0.12232415902140673),\n",
       " (339, ['job_neg_s', 'duration_pos_b'], 0.12094395280235988),\n",
       " (303, ['balance_pos_b'], 0.11551155115511551),\n",
       " (265, ['default_pos_s', 'duration_pos_b'], 0.11320754716981132),\n",
       " (294,\n",
       "  ['education_pos_s', 'contact_pos_b', 'campaign_pos_s'],\n",
       "  0.11224489795918367),\n",
       " (440, ['duration_pos_b', 'previous_neg_s'], 0.10909090909090909),\n",
       " (346, ['education_pos_s', 'campaign_pos_s'], 0.1069364161849711),\n",
       " (244, ['contact_pos_b', 'age_neg_s', 'campaign_pos_s'], 0.10655737704918032),\n",
       " (432, ['housing_pos_b'], 0.10416666666666667),\n",
       " (300, ['job_neg_s', 'duration_pos_b', 'previous_neg_s'], 0.10333333333333333),\n",
       " (273, ['day_pos_s', 'duration_pos_b'], 0.10256410256410256),\n",
       " (234,\n",
       "  ['education_pos_s', 'duration_pos_b', 'previous_neg_s'],\n",
       "  0.10256410256410256),\n",
       " (254, ['marital_pos_b', 'campaign_pos_s'], 0.10236220472440945),\n",
       " (227, ['age_neg_s', 'duration_pos_b', 'previous_neg_s'], 0.1013215859030837)]"
      ]
     },
     "execution_count": 30,
     "metadata": {},
     "output_type": "execute_result"
    }
   ],
   "source": [
    "sorted([(len(c[0]),[context_ds_small.columns[y] for y in c[1]], c[2]) for c in concepts_set_y_bin if c[2]>=0.1], key=lambda c: -c[2])"
   ]
  },
  {
   "cell_type": "markdown",
   "metadata": {},
   "source": [
    "The question now is How to reduce amount of concepts. How to delete \"unimportant\" concepts"
   ]
  }
 ],
 "metadata": {
  "kernelspec": {
   "display_name": "Python 3",
   "language": "python",
   "name": "python3"
  },
  "language_info": {
   "codemirror_mode": {
    "name": "ipython",
    "version": 3
   },
   "file_extension": ".py",
   "mimetype": "text/x-python",
   "name": "python",
   "nbconvert_exporter": "python",
   "pygments_lexer": "ipython3",
   "version": "3.7.1"
  }
 },
 "nbformat": 4,
 "nbformat_minor": 2
}
