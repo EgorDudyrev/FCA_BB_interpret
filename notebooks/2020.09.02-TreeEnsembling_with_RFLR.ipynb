{
 "cells": [
  {
   "cell_type": "code",
   "execution_count": 1,
   "metadata": {},
   "outputs": [
    {
     "data": {
      "text/html": [
       "<style>.container { width:90% !important; }</style>"
      ],
      "text/plain": [
       "<IPython.core.display.HTML object>"
      ]
     },
     "metadata": {},
     "output_type": "display_data"
    }
   ],
   "source": [
    "import numpy as np\n",
    "import pandas as pd\n",
    "\n",
    "from catboost import CatBoostClassifier, Pool, CatBoostRegressor\n",
    "from sklearn.model_selection import train_test_split\n",
    "from sklearn.metrics import accuracy_score, precision_score, recall_score\n",
    "\n",
    "from IPython.core.display import display, HTML\n",
    "display(HTML(\"<style>.container { width:90% !important; }</style>\"))\n",
    "\n",
    "import os\n",
    "import sys\n",
    "BASE_PATH = os.path.realpath('..')\n",
    "DATASETS_DIR = os.path.join(BASE_PATH, 'datasets')\n",
    "LIB_DIR = os.path.join(BASE_PATH,'lib')\n",
    "if LIB_DIR[:-3] not in sys.path:\n",
    "    sys.path.append(LIB_DIR[:-3])\n",
    "\n",
    "import matplotlib.pyplot as plt\n",
    "import seaborn as sns\n",
    "from tqdm.notebook import tqdm\n",
    "\n",
    "from importlib import reload"
   ]
  },
  {
   "cell_type": "code",
   "execution_count": 2,
   "metadata": {},
   "outputs": [],
   "source": [
    "import scipy as sp"
   ]
  },
  {
   "cell_type": "code",
   "execution_count": 3,
   "metadata": {},
   "outputs": [],
   "source": [
    "RESULTS_DIR = os.path.join(BASE_PATH, 'results')"
   ]
  },
  {
   "cell_type": "code",
   "execution_count": 4,
   "metadata": {},
   "outputs": [],
   "source": [
    "from lib import fca_interp as fcai\n",
    "from lib.utils_ import powerset, sparse_unique_columns\n",
    "from importlib import reload"
   ]
  },
  {
   "cell_type": "code",
   "execution_count": 5,
   "metadata": {},
   "outputs": [],
   "source": [
    "from importlib import reload"
   ]
  },
  {
   "cell_type": "code",
   "execution_count": 6,
   "metadata": {},
   "outputs": [],
   "source": [
    "from copy import copy, deepcopy"
   ]
  },
  {
   "cell_type": "markdown",
   "metadata": {},
   "source": [
    "# Load Data"
   ]
  },
  {
   "cell_type": "code",
   "execution_count": 7,
   "metadata": {},
   "outputs": [],
   "source": [
    "data_dict = {}"
   ]
  },
  {
   "cell_type": "markdown",
   "metadata": {},
   "source": [
    "## Adult DS"
   ]
  },
  {
   "cell_type": "code",
   "execution_count": 8,
   "metadata": {},
   "outputs": [
    {
     "name": "stdout",
     "output_type": "stream",
     "text": [
      "(32561, 16)\n"
     ]
    },
    {
     "data": {
      "text/html": [
       "<div>\n",
       "<style scoped>\n",
       "    .dataframe tbody tr th:only-of-type {\n",
       "        vertical-align: middle;\n",
       "    }\n",
       "\n",
       "    .dataframe tbody tr th {\n",
       "        vertical-align: top;\n",
       "    }\n",
       "\n",
       "    .dataframe thead th {\n",
       "        text-align: right;\n",
       "    }\n",
       "</style>\n",
       "<table border=\"1\" class=\"dataframe\">\n",
       "  <thead>\n",
       "    <tr style=\"text-align: right;\">\n",
       "      <th></th>\n",
       "      <th>age</th>\n",
       "      <th>workclass</th>\n",
       "      <th>fnlwgt</th>\n",
       "      <th>education</th>\n",
       "      <th>education-num</th>\n",
       "      <th>marital-status</th>\n",
       "      <th>occupation</th>\n",
       "      <th>relationship</th>\n",
       "      <th>race</th>\n",
       "      <th>sex</th>\n",
       "      <th>capital-gain</th>\n",
       "      <th>capital-loss</th>\n",
       "      <th>hours-per-week</th>\n",
       "      <th>native-country</th>\n",
       "      <th>y</th>\n",
       "      <th>y_bin</th>\n",
       "    </tr>\n",
       "  </thead>\n",
       "  <tbody>\n",
       "    <tr>\n",
       "      <th>0</th>\n",
       "      <td>39</td>\n",
       "      <td>State-gov</td>\n",
       "      <td>77516</td>\n",
       "      <td>Bachelors</td>\n",
       "      <td>13</td>\n",
       "      <td>Never-married</td>\n",
       "      <td>Adm-clerical</td>\n",
       "      <td>Not-in-family</td>\n",
       "      <td>White</td>\n",
       "      <td>Male</td>\n",
       "      <td>2174</td>\n",
       "      <td>0</td>\n",
       "      <td>40</td>\n",
       "      <td>United-States</td>\n",
       "      <td>&lt;=50K</td>\n",
       "      <td>0</td>\n",
       "    </tr>\n",
       "    <tr>\n",
       "      <th>1</th>\n",
       "      <td>50</td>\n",
       "      <td>Self-emp-not-inc</td>\n",
       "      <td>83311</td>\n",
       "      <td>Bachelors</td>\n",
       "      <td>13</td>\n",
       "      <td>Married-civ-spouse</td>\n",
       "      <td>Exec-managerial</td>\n",
       "      <td>Husband</td>\n",
       "      <td>White</td>\n",
       "      <td>Male</td>\n",
       "      <td>0</td>\n",
       "      <td>0</td>\n",
       "      <td>13</td>\n",
       "      <td>United-States</td>\n",
       "      <td>&lt;=50K</td>\n",
       "      <td>0</td>\n",
       "    </tr>\n",
       "  </tbody>\n",
       "</table>\n",
       "</div>"
      ],
      "text/plain": [
       "   age          workclass  fnlwgt   education  education-num  \\\n",
       "0   39          State-gov   77516   Bachelors             13   \n",
       "1   50   Self-emp-not-inc   83311   Bachelors             13   \n",
       "\n",
       "        marital-status        occupation    relationship    race    sex  \\\n",
       "0        Never-married      Adm-clerical   Not-in-family   White   Male   \n",
       "1   Married-civ-spouse   Exec-managerial         Husband   White   Male   \n",
       "\n",
       "   capital-gain  capital-loss  hours-per-week  native-country       y  y_bin  \n",
       "0          2174             0              40   United-States   <=50K      0  \n",
       "1             0             0              13   United-States   <=50K      0  "
      ]
     },
     "execution_count": 8,
     "metadata": {},
     "output_type": "execute_result"
    }
   ],
   "source": [
    "adult_ds = pd.read_csv(DATASETS_DIR+'/adult/adult.data', header=None)\n",
    "fs = ['age','workclass', 'fnlwgt', 'education', 'education-num', 'marital-status', 'occupation',\n",
    "      'relationship', 'race', 'sex', 'capital-gain', 'capital-loss','hours-per-week','native-country',\n",
    "      'y']\n",
    "adult_ds.columns = fs\n",
    "adult_ds['y_bin'] = (adult_ds['y']==' >50K').astype(int)\n",
    "cat_feats = ['workclass','education','marital-status','occupation','relationship','race','sex','native-country']\n",
    "y_feat = 'y_bin'\n",
    "train_feats = ['age','workclass','fnlwgt','education','education-num','marital-status','occupation','relationship','race','sex','capital-loss','native-country']\n",
    "adult_ds.drop(train_feats,1)\n",
    "\n",
    "print(adult_ds.shape)\n",
    "adult_ds.head(2)"
   ]
  },
  {
   "cell_type": "code",
   "execution_count": 9,
   "metadata": {},
   "outputs": [],
   "source": [
    "data_dict['adult'] = {'ds':adult_ds, 'train_feats':train_feats, 'cat_feats':cat_feats, 'y_feat':y_feat,}"
   ]
  },
  {
   "cell_type": "markdown",
   "metadata": {},
   "source": [
    "## Amazon DS"
   ]
  },
  {
   "cell_type": "code",
   "execution_count": 10,
   "metadata": {},
   "outputs": [
    {
     "name": "stdout",
     "output_type": "stream",
     "text": [
      "(32769, 10)\n"
     ]
    },
    {
     "data": {
      "text/html": [
       "<div>\n",
       "<style scoped>\n",
       "    .dataframe tbody tr th:only-of-type {\n",
       "        vertical-align: middle;\n",
       "    }\n",
       "\n",
       "    .dataframe tbody tr th {\n",
       "        vertical-align: top;\n",
       "    }\n",
       "\n",
       "    .dataframe thead th {\n",
       "        text-align: right;\n",
       "    }\n",
       "</style>\n",
       "<table border=\"1\" class=\"dataframe\">\n",
       "  <thead>\n",
       "    <tr style=\"text-align: right;\">\n",
       "      <th></th>\n",
       "      <th>ACTION</th>\n",
       "      <th>RESOURCE</th>\n",
       "      <th>MGR_ID</th>\n",
       "      <th>ROLE_ROLLUP_1</th>\n",
       "      <th>ROLE_ROLLUP_2</th>\n",
       "      <th>ROLE_DEPTNAME</th>\n",
       "      <th>ROLE_TITLE</th>\n",
       "      <th>ROLE_FAMILY_DESC</th>\n",
       "      <th>ROLE_FAMILY</th>\n",
       "      <th>ROLE_CODE</th>\n",
       "    </tr>\n",
       "  </thead>\n",
       "  <tbody>\n",
       "    <tr>\n",
       "      <th>0</th>\n",
       "      <td>1</td>\n",
       "      <td>39353</td>\n",
       "      <td>85475</td>\n",
       "      <td>117961</td>\n",
       "      <td>118300</td>\n",
       "      <td>123472</td>\n",
       "      <td>117905</td>\n",
       "      <td>117906</td>\n",
       "      <td>290919</td>\n",
       "      <td>117908</td>\n",
       "    </tr>\n",
       "    <tr>\n",
       "      <th>1</th>\n",
       "      <td>1</td>\n",
       "      <td>17183</td>\n",
       "      <td>1540</td>\n",
       "      <td>117961</td>\n",
       "      <td>118343</td>\n",
       "      <td>123125</td>\n",
       "      <td>118536</td>\n",
       "      <td>118536</td>\n",
       "      <td>308574</td>\n",
       "      <td>118539</td>\n",
       "    </tr>\n",
       "    <tr>\n",
       "      <th>2</th>\n",
       "      <td>1</td>\n",
       "      <td>36724</td>\n",
       "      <td>14457</td>\n",
       "      <td>118219</td>\n",
       "      <td>118220</td>\n",
       "      <td>117884</td>\n",
       "      <td>117879</td>\n",
       "      <td>267952</td>\n",
       "      <td>19721</td>\n",
       "      <td>117880</td>\n",
       "    </tr>\n",
       "    <tr>\n",
       "      <th>3</th>\n",
       "      <td>1</td>\n",
       "      <td>36135</td>\n",
       "      <td>5396</td>\n",
       "      <td>117961</td>\n",
       "      <td>118343</td>\n",
       "      <td>119993</td>\n",
       "      <td>118321</td>\n",
       "      <td>240983</td>\n",
       "      <td>290919</td>\n",
       "      <td>118322</td>\n",
       "    </tr>\n",
       "    <tr>\n",
       "      <th>4</th>\n",
       "      <td>1</td>\n",
       "      <td>42680</td>\n",
       "      <td>5905</td>\n",
       "      <td>117929</td>\n",
       "      <td>117930</td>\n",
       "      <td>119569</td>\n",
       "      <td>119323</td>\n",
       "      <td>123932</td>\n",
       "      <td>19793</td>\n",
       "      <td>119325</td>\n",
       "    </tr>\n",
       "  </tbody>\n",
       "</table>\n",
       "</div>"
      ],
      "text/plain": [
       "   ACTION  RESOURCE  MGR_ID  ROLE_ROLLUP_1  ROLE_ROLLUP_2  ROLE_DEPTNAME  \\\n",
       "0       1     39353   85475         117961         118300         123472   \n",
       "1       1     17183    1540         117961         118343         123125   \n",
       "2       1     36724   14457         118219         118220         117884   \n",
       "3       1     36135    5396         117961         118343         119993   \n",
       "4       1     42680    5905         117929         117930         119569   \n",
       "\n",
       "   ROLE_TITLE  ROLE_FAMILY_DESC  ROLE_FAMILY  ROLE_CODE  \n",
       "0      117905            117906       290919     117908  \n",
       "1      118536            118536       308574     118539  \n",
       "2      117879            267952        19721     117880  \n",
       "3      118321            240983       290919     118322  \n",
       "4      119323            123932        19793     119325  "
      ]
     },
     "execution_count": 10,
     "metadata": {},
     "output_type": "execute_result"
    }
   ],
   "source": [
    "amaz_ds = pd.read_csv(DATASETS_DIR+'/amazon/train.csv')\n",
    "y_feat = 'ACTION'\n",
    "train_feats = ['MGR_ID','ROLE_ROLLUP_1','ROLE_ROLLUP_2','ROLE_DEPTNAME',\n",
    "               'ROLE_TITLE','ROLE_FAMILY_DESC','ROLE_FAMILY','ROLE_CODE']\n",
    "cat_feats = []\n",
    "\n",
    "print(amaz_ds.shape)\n",
    "amaz_ds.head()"
   ]
  },
  {
   "cell_type": "code",
   "execution_count": 11,
   "metadata": {},
   "outputs": [],
   "source": [
    "data_dict['amazon'] = {'ds':amaz_ds, 'train_feats':train_feats, 'cat_feats':cat_feats, 'y_feat':y_feat}"
   ]
  },
  {
   "cell_type": "markdown",
   "metadata": {},
   "source": [
    "## Bank DS"
   ]
  },
  {
   "cell_type": "code",
   "execution_count": 12,
   "metadata": {},
   "outputs": [
    {
     "name": "stdout",
     "output_type": "stream",
     "text": [
      "(4521, 17)\n"
     ]
    },
    {
     "data": {
      "text/html": [
       "<div>\n",
       "<style scoped>\n",
       "    .dataframe tbody tr th:only-of-type {\n",
       "        vertical-align: middle;\n",
       "    }\n",
       "\n",
       "    .dataframe tbody tr th {\n",
       "        vertical-align: top;\n",
       "    }\n",
       "\n",
       "    .dataframe thead th {\n",
       "        text-align: right;\n",
       "    }\n",
       "</style>\n",
       "<table border=\"1\" class=\"dataframe\">\n",
       "  <thead>\n",
       "    <tr style=\"text-align: right;\">\n",
       "      <th></th>\n",
       "      <th>age</th>\n",
       "      <th>job</th>\n",
       "      <th>marital</th>\n",
       "      <th>education</th>\n",
       "      <th>default</th>\n",
       "      <th>balance</th>\n",
       "      <th>housing</th>\n",
       "      <th>loan</th>\n",
       "      <th>contact</th>\n",
       "      <th>day</th>\n",
       "      <th>month</th>\n",
       "      <th>duration</th>\n",
       "      <th>campaign</th>\n",
       "      <th>pdays</th>\n",
       "      <th>previous</th>\n",
       "      <th>poutcome</th>\n",
       "      <th>y</th>\n",
       "    </tr>\n",
       "  </thead>\n",
       "  <tbody>\n",
       "    <tr>\n",
       "      <th>0</th>\n",
       "      <td>30</td>\n",
       "      <td>unemployed</td>\n",
       "      <td>married</td>\n",
       "      <td>primary</td>\n",
       "      <td>0</td>\n",
       "      <td>1787</td>\n",
       "      <td>0</td>\n",
       "      <td>0</td>\n",
       "      <td>cellular</td>\n",
       "      <td>19</td>\n",
       "      <td>oct</td>\n",
       "      <td>79</td>\n",
       "      <td>1</td>\n",
       "      <td>-1</td>\n",
       "      <td>0</td>\n",
       "      <td>unknown</td>\n",
       "      <td>0</td>\n",
       "    </tr>\n",
       "    <tr>\n",
       "      <th>1</th>\n",
       "      <td>33</td>\n",
       "      <td>services</td>\n",
       "      <td>married</td>\n",
       "      <td>secondary</td>\n",
       "      <td>0</td>\n",
       "      <td>4789</td>\n",
       "      <td>1</td>\n",
       "      <td>1</td>\n",
       "      <td>cellular</td>\n",
       "      <td>11</td>\n",
       "      <td>may</td>\n",
       "      <td>220</td>\n",
       "      <td>1</td>\n",
       "      <td>339</td>\n",
       "      <td>4</td>\n",
       "      <td>failure</td>\n",
       "      <td>0</td>\n",
       "    </tr>\n",
       "    <tr>\n",
       "      <th>2</th>\n",
       "      <td>35</td>\n",
       "      <td>management</td>\n",
       "      <td>single</td>\n",
       "      <td>tertiary</td>\n",
       "      <td>0</td>\n",
       "      <td>1350</td>\n",
       "      <td>1</td>\n",
       "      <td>0</td>\n",
       "      <td>cellular</td>\n",
       "      <td>16</td>\n",
       "      <td>apr</td>\n",
       "      <td>185</td>\n",
       "      <td>1</td>\n",
       "      <td>330</td>\n",
       "      <td>1</td>\n",
       "      <td>failure</td>\n",
       "      <td>0</td>\n",
       "    </tr>\n",
       "    <tr>\n",
       "      <th>3</th>\n",
       "      <td>30</td>\n",
       "      <td>management</td>\n",
       "      <td>married</td>\n",
       "      <td>tertiary</td>\n",
       "      <td>0</td>\n",
       "      <td>1476</td>\n",
       "      <td>1</td>\n",
       "      <td>1</td>\n",
       "      <td>unknown</td>\n",
       "      <td>3</td>\n",
       "      <td>jun</td>\n",
       "      <td>199</td>\n",
       "      <td>4</td>\n",
       "      <td>-1</td>\n",
       "      <td>0</td>\n",
       "      <td>unknown</td>\n",
       "      <td>0</td>\n",
       "    </tr>\n",
       "    <tr>\n",
       "      <th>4</th>\n",
       "      <td>59</td>\n",
       "      <td>blue-collar</td>\n",
       "      <td>married</td>\n",
       "      <td>secondary</td>\n",
       "      <td>0</td>\n",
       "      <td>0</td>\n",
       "      <td>1</td>\n",
       "      <td>0</td>\n",
       "      <td>unknown</td>\n",
       "      <td>5</td>\n",
       "      <td>may</td>\n",
       "      <td>226</td>\n",
       "      <td>1</td>\n",
       "      <td>-1</td>\n",
       "      <td>0</td>\n",
       "      <td>unknown</td>\n",
       "      <td>0</td>\n",
       "    </tr>\n",
       "  </tbody>\n",
       "</table>\n",
       "</div>"
      ],
      "text/plain": [
       "   age          job  marital  education  default  balance  housing  loan  \\\n",
       "0   30   unemployed  married    primary        0     1787        0     0   \n",
       "1   33     services  married  secondary        0     4789        1     1   \n",
       "2   35   management   single   tertiary        0     1350        1     0   \n",
       "3   30   management  married   tertiary        0     1476        1     1   \n",
       "4   59  blue-collar  married  secondary        0        0        1     0   \n",
       "\n",
       "    contact  day month  duration  campaign  pdays  previous poutcome  y  \n",
       "0  cellular   19   oct        79         1     -1         0  unknown  0  \n",
       "1  cellular   11   may       220         1    339         4  failure  0  \n",
       "2  cellular   16   apr       185         1    330         1  failure  0  \n",
       "3   unknown    3   jun       199         4     -1         0  unknown  0  \n",
       "4   unknown    5   may       226         1     -1         0  unknown  0  "
      ]
     },
     "execution_count": 12,
     "metadata": {},
     "output_type": "execute_result"
    }
   ],
   "source": [
    "bank_ds = pd.read_csv(DATASETS_DIR+'/bank/bank.csv', sep=';')\n",
    "for f in ['default','housing','loan','y']:\n",
    "    bank_ds[f] = (bank_ds[f]=='yes').astype(int)\n",
    "train_feats = ['age','job','marital','education','default','balance',\n",
    "               'housing','loan','contact','day','month','duration','campaign','pdays','previous','poutcome']\n",
    "cat_feats = ['job','marital','education','contact','month','poutcome']\n",
    "y_feat = 'y'\n",
    "print(bank_ds.shape)\n",
    "bank_ds.head()"
   ]
  },
  {
   "cell_type": "code",
   "execution_count": 13,
   "metadata": {},
   "outputs": [],
   "source": [
    "data_dict['bank'] = {'ds':bank_ds, 'train_feats':train_feats, 'cat_feats':cat_feats, 'y_feat':y_feat}"
   ]
  },
  {
   "cell_type": "markdown",
   "metadata": {},
   "source": [
    "## Breast cancer"
   ]
  },
  {
   "cell_type": "code",
   "execution_count": 14,
   "metadata": {},
   "outputs": [
    {
     "name": "stdout",
     "output_type": "stream",
     "text": [
      "(699, 12)\n"
     ]
    },
    {
     "data": {
      "text/html": [
       "<div>\n",
       "<style scoped>\n",
       "    .dataframe tbody tr th:only-of-type {\n",
       "        vertical-align: middle;\n",
       "    }\n",
       "\n",
       "    .dataframe tbody tr th {\n",
       "        vertical-align: top;\n",
       "    }\n",
       "\n",
       "    .dataframe thead th {\n",
       "        text-align: right;\n",
       "    }\n",
       "</style>\n",
       "<table border=\"1\" class=\"dataframe\">\n",
       "  <thead>\n",
       "    <tr style=\"text-align: right;\">\n",
       "      <th></th>\n",
       "      <th>Sample_code</th>\n",
       "      <th>Clump_Thickness</th>\n",
       "      <th>Uniformity_of_Cell_Size</th>\n",
       "      <th>Uniformity_of_Cell_Shape</th>\n",
       "      <th>Marginal_Adhesion</th>\n",
       "      <th>Single_Epithelial_Cell_Size</th>\n",
       "      <th>Bare_Nuclei</th>\n",
       "      <th>Bland_Chromatin</th>\n",
       "      <th>Normal_Nucleoli</th>\n",
       "      <th>Mitoses</th>\n",
       "      <th>Class</th>\n",
       "      <th>y</th>\n",
       "    </tr>\n",
       "  </thead>\n",
       "  <tbody>\n",
       "    <tr>\n",
       "      <th>0</th>\n",
       "      <td>1000025</td>\n",
       "      <td>5</td>\n",
       "      <td>1</td>\n",
       "      <td>1</td>\n",
       "      <td>1</td>\n",
       "      <td>2</td>\n",
       "      <td>1</td>\n",
       "      <td>3</td>\n",
       "      <td>1</td>\n",
       "      <td>1</td>\n",
       "      <td>2</td>\n",
       "      <td>0</td>\n",
       "    </tr>\n",
       "    <tr>\n",
       "      <th>1</th>\n",
       "      <td>1002945</td>\n",
       "      <td>5</td>\n",
       "      <td>4</td>\n",
       "      <td>4</td>\n",
       "      <td>5</td>\n",
       "      <td>7</td>\n",
       "      <td>10</td>\n",
       "      <td>3</td>\n",
       "      <td>2</td>\n",
       "      <td>1</td>\n",
       "      <td>2</td>\n",
       "      <td>0</td>\n",
       "    </tr>\n",
       "    <tr>\n",
       "      <th>2</th>\n",
       "      <td>1015425</td>\n",
       "      <td>3</td>\n",
       "      <td>1</td>\n",
       "      <td>1</td>\n",
       "      <td>1</td>\n",
       "      <td>2</td>\n",
       "      <td>2</td>\n",
       "      <td>3</td>\n",
       "      <td>1</td>\n",
       "      <td>1</td>\n",
       "      <td>2</td>\n",
       "      <td>0</td>\n",
       "    </tr>\n",
       "    <tr>\n",
       "      <th>3</th>\n",
       "      <td>1016277</td>\n",
       "      <td>6</td>\n",
       "      <td>8</td>\n",
       "      <td>8</td>\n",
       "      <td>1</td>\n",
       "      <td>3</td>\n",
       "      <td>4</td>\n",
       "      <td>3</td>\n",
       "      <td>7</td>\n",
       "      <td>1</td>\n",
       "      <td>2</td>\n",
       "      <td>0</td>\n",
       "    </tr>\n",
       "    <tr>\n",
       "      <th>4</th>\n",
       "      <td>1017023</td>\n",
       "      <td>4</td>\n",
       "      <td>1</td>\n",
       "      <td>1</td>\n",
       "      <td>3</td>\n",
       "      <td>2</td>\n",
       "      <td>1</td>\n",
       "      <td>3</td>\n",
       "      <td>1</td>\n",
       "      <td>1</td>\n",
       "      <td>2</td>\n",
       "      <td>0</td>\n",
       "    </tr>\n",
       "  </tbody>\n",
       "</table>\n",
       "</div>"
      ],
      "text/plain": [
       "   Sample_code  Clump_Thickness  Uniformity_of_Cell_Size  \\\n",
       "0      1000025                5                        1   \n",
       "1      1002945                5                        4   \n",
       "2      1015425                3                        1   \n",
       "3      1016277                6                        8   \n",
       "4      1017023                4                        1   \n",
       "\n",
       "   Uniformity_of_Cell_Shape  Marginal_Adhesion  Single_Epithelial_Cell_Size  \\\n",
       "0                         1                  1                            2   \n",
       "1                         4                  5                            7   \n",
       "2                         1                  1                            2   \n",
       "3                         8                  1                            3   \n",
       "4                         1                  3                            2   \n",
       "\n",
       "   Bare_Nuclei  Bland_Chromatin  Normal_Nucleoli  Mitoses  Class  y  \n",
       "0            1                3                1        1      2  0  \n",
       "1           10                3                2        1      2  0  \n",
       "2            2                3                1        1      2  0  \n",
       "3            4                3                7        1      2  0  \n",
       "4            1                3                1        1      2  0  "
      ]
     },
     "execution_count": 14,
     "metadata": {},
     "output_type": "execute_result"
    }
   ],
   "source": [
    "breast_ds = pd.read_csv(DATASETS_DIR+'/breast_cancer/breast-cancer-wisconsin.data', header=None)\n",
    "fs = ['Sample_code','Clump_Thickness','Uniformity_of_Cell_Size','Uniformity_of_Cell_Shape','Marginal_Adhesion',\n",
    "     'Single_Epithelial_Cell_Size','Bare_Nuclei','Bland_Chromatin','Normal_Nucleoli','Mitoses','Class']\n",
    "breast_ds.columns = fs\n",
    "breast_ds['Bare_Nuclei'] = [int(x) if x!='?' else -1 for x in breast_ds['Bare_Nuclei']]\n",
    "\n",
    "breast_ds['y'] = (breast_ds['Class']-2)//2\n",
    "train_feats = ['Clump_Thickness','Uniformity_of_Cell_Size','Uniformity_of_Cell_Shape','Marginal_Adhesion',\n",
    "     'Single_Epithelial_Cell_Size','Bare_Nuclei','Bland_Chromatin','Normal_Nucleoli','Mitoses',]\n",
    "cat_feats = []\n",
    "y_feat = 'y'\n",
    "\n",
    "print(breast_ds.shape)\n",
    "breast_ds.head()"
   ]
  },
  {
   "cell_type": "code",
   "execution_count": 15,
   "metadata": {},
   "outputs": [],
   "source": [
    "data_dict['breast'] = {'ds':breast_ds, 'train_feats':train_feats, 'cat_feats':cat_feats, 'y_feat':y_feat}"
   ]
  },
  {
   "cell_type": "markdown",
   "metadata": {},
   "source": [
    "## Credit Card Default"
   ]
  },
  {
   "cell_type": "code",
   "execution_count": 16,
   "metadata": {},
   "outputs": [
    {
     "name": "stdout",
     "output_type": "stream",
     "text": [
      "(30000, 25)\n"
     ]
    },
    {
     "data": {
      "text/html": [
       "<div>\n",
       "<style scoped>\n",
       "    .dataframe tbody tr th:only-of-type {\n",
       "        vertical-align: middle;\n",
       "    }\n",
       "\n",
       "    .dataframe tbody tr th {\n",
       "        vertical-align: top;\n",
       "    }\n",
       "\n",
       "    .dataframe thead th {\n",
       "        text-align: right;\n",
       "    }\n",
       "</style>\n",
       "<table border=\"1\" class=\"dataframe\">\n",
       "  <thead>\n",
       "    <tr style=\"text-align: right;\">\n",
       "      <th></th>\n",
       "      <th>ID</th>\n",
       "      <th>LIMIT_BAL</th>\n",
       "      <th>SEX</th>\n",
       "      <th>EDUCATION</th>\n",
       "      <th>MARRIAGE</th>\n",
       "      <th>AGE</th>\n",
       "      <th>PAY_0</th>\n",
       "      <th>PAY_2</th>\n",
       "      <th>PAY_3</th>\n",
       "      <th>PAY_4</th>\n",
       "      <th>...</th>\n",
       "      <th>BILL_AMT4</th>\n",
       "      <th>BILL_AMT5</th>\n",
       "      <th>BILL_AMT6</th>\n",
       "      <th>PAY_AMT1</th>\n",
       "      <th>PAY_AMT2</th>\n",
       "      <th>PAY_AMT3</th>\n",
       "      <th>PAY_AMT4</th>\n",
       "      <th>PAY_AMT5</th>\n",
       "      <th>PAY_AMT6</th>\n",
       "      <th>default payment next month</th>\n",
       "    </tr>\n",
       "  </thead>\n",
       "  <tbody>\n",
       "    <tr>\n",
       "      <th>0</th>\n",
       "      <td>1</td>\n",
       "      <td>20000</td>\n",
       "      <td>2</td>\n",
       "      <td>2</td>\n",
       "      <td>1</td>\n",
       "      <td>24</td>\n",
       "      <td>2</td>\n",
       "      <td>2</td>\n",
       "      <td>-1</td>\n",
       "      <td>-1</td>\n",
       "      <td>...</td>\n",
       "      <td>0</td>\n",
       "      <td>0</td>\n",
       "      <td>0</td>\n",
       "      <td>0</td>\n",
       "      <td>689</td>\n",
       "      <td>0</td>\n",
       "      <td>0</td>\n",
       "      <td>0</td>\n",
       "      <td>0</td>\n",
       "      <td>1</td>\n",
       "    </tr>\n",
       "    <tr>\n",
       "      <th>1</th>\n",
       "      <td>2</td>\n",
       "      <td>120000</td>\n",
       "      <td>2</td>\n",
       "      <td>2</td>\n",
       "      <td>2</td>\n",
       "      <td>26</td>\n",
       "      <td>-1</td>\n",
       "      <td>2</td>\n",
       "      <td>0</td>\n",
       "      <td>0</td>\n",
       "      <td>...</td>\n",
       "      <td>3272</td>\n",
       "      <td>3455</td>\n",
       "      <td>3261</td>\n",
       "      <td>0</td>\n",
       "      <td>1000</td>\n",
       "      <td>1000</td>\n",
       "      <td>1000</td>\n",
       "      <td>0</td>\n",
       "      <td>2000</td>\n",
       "      <td>1</td>\n",
       "    </tr>\n",
       "  </tbody>\n",
       "</table>\n",
       "<p>2 rows × 25 columns</p>\n",
       "</div>"
      ],
      "text/plain": [
       "   ID  LIMIT_BAL  SEX  EDUCATION  MARRIAGE  AGE  PAY_0  PAY_2  PAY_3  PAY_4  \\\n",
       "0   1      20000    2          2         1   24      2      2     -1     -1   \n",
       "1   2     120000    2          2         2   26     -1      2      0      0   \n",
       "\n",
       "   ...  BILL_AMT4  BILL_AMT5  BILL_AMT6  PAY_AMT1  PAY_AMT2  PAY_AMT3  \\\n",
       "0  ...          0          0          0         0       689         0   \n",
       "1  ...       3272       3455       3261         0      1000      1000   \n",
       "\n",
       "   PAY_AMT4  PAY_AMT5  PAY_AMT6  default payment next month  \n",
       "0         0         0         0                           1  \n",
       "1      1000         0      2000                           1  \n",
       "\n",
       "[2 rows x 25 columns]"
      ]
     },
     "execution_count": 16,
     "metadata": {},
     "output_type": "execute_result"
    }
   ],
   "source": [
    "credit_ds = pd.read_excel(DATASETS_DIR+'/creditCardDefault/default of credit card clients.xls', header=1)\n",
    "train_feats = ['LIMIT_BAL', 'SEX', 'EDUCATION', 'MARRIAGE', 'AGE', 'PAY_0',\n",
    "       'PAY_2', 'PAY_3', 'PAY_4', 'PAY_5', 'PAY_6', 'BILL_AMT1', 'BILL_AMT2',\n",
    "       'BILL_AMT3', 'BILL_AMT4', 'BILL_AMT5', 'BILL_AMT6', 'PAY_AMT1',\n",
    "       'PAY_AMT2', 'PAY_AMT3', 'PAY_AMT4', 'PAY_AMT5', 'PAY_AMT6']\n",
    "cat_feats = []\n",
    "y_feat = 'default payment next month'\n",
    "print(credit_ds.shape)\n",
    "credit_ds.head(2)"
   ]
  },
  {
   "cell_type": "code",
   "execution_count": 17,
   "metadata": {},
   "outputs": [],
   "source": [
    "data_dict['credit'] = {'ds':credit_ds, 'train_feats':train_feats, 'cat_feats':cat_feats, 'y_feat':y_feat}"
   ]
  },
  {
   "cell_type": "markdown",
   "metadata": {},
   "source": [
    "## Heart disease"
   ]
  },
  {
   "cell_type": "code",
   "execution_count": 18,
   "metadata": {},
   "outputs": [
    {
     "name": "stdout",
     "output_type": "stream",
     "text": [
      "(920, 15)\n"
     ]
    },
    {
     "data": {
      "text/html": [
       "<div>\n",
       "<style scoped>\n",
       "    .dataframe tbody tr th:only-of-type {\n",
       "        vertical-align: middle;\n",
       "    }\n",
       "\n",
       "    .dataframe tbody tr th {\n",
       "        vertical-align: top;\n",
       "    }\n",
       "\n",
       "    .dataframe thead th {\n",
       "        text-align: right;\n",
       "    }\n",
       "</style>\n",
       "<table border=\"1\" class=\"dataframe\">\n",
       "  <thead>\n",
       "    <tr style=\"text-align: right;\">\n",
       "      <th></th>\n",
       "      <th>age</th>\n",
       "      <th>sex</th>\n",
       "      <th>cp</th>\n",
       "      <th>trestbps</th>\n",
       "      <th>chol</th>\n",
       "      <th>fbs</th>\n",
       "      <th>restecg</th>\n",
       "      <th>thalach</th>\n",
       "      <th>exang</th>\n",
       "      <th>oldpeak</th>\n",
       "      <th>slope</th>\n",
       "      <th>ca</th>\n",
       "      <th>thal</th>\n",
       "      <th>num</th>\n",
       "      <th>has_disease</th>\n",
       "    </tr>\n",
       "  </thead>\n",
       "  <tbody>\n",
       "    <tr>\n",
       "      <th>0</th>\n",
       "      <td>63.0</td>\n",
       "      <td>1.0</td>\n",
       "      <td>1.0</td>\n",
       "      <td>145.0</td>\n",
       "      <td>233.0</td>\n",
       "      <td>1.0</td>\n",
       "      <td>2.0</td>\n",
       "      <td>150.0</td>\n",
       "      <td>0.0</td>\n",
       "      <td>2.3</td>\n",
       "      <td>3.0</td>\n",
       "      <td>0.0</td>\n",
       "      <td>6.0</td>\n",
       "      <td>0</td>\n",
       "      <td>0</td>\n",
       "    </tr>\n",
       "    <tr>\n",
       "      <th>1</th>\n",
       "      <td>67.0</td>\n",
       "      <td>1.0</td>\n",
       "      <td>4.0</td>\n",
       "      <td>160.0</td>\n",
       "      <td>286.0</td>\n",
       "      <td>0.0</td>\n",
       "      <td>2.0</td>\n",
       "      <td>108.0</td>\n",
       "      <td>1.0</td>\n",
       "      <td>1.5</td>\n",
       "      <td>2.0</td>\n",
       "      <td>3.0</td>\n",
       "      <td>3.0</td>\n",
       "      <td>2</td>\n",
       "      <td>1</td>\n",
       "    </tr>\n",
       "    <tr>\n",
       "      <th>2</th>\n",
       "      <td>67.0</td>\n",
       "      <td>1.0</td>\n",
       "      <td>4.0</td>\n",
       "      <td>120.0</td>\n",
       "      <td>229.0</td>\n",
       "      <td>0.0</td>\n",
       "      <td>2.0</td>\n",
       "      <td>129.0</td>\n",
       "      <td>1.0</td>\n",
       "      <td>2.6</td>\n",
       "      <td>2.0</td>\n",
       "      <td>2.0</td>\n",
       "      <td>7.0</td>\n",
       "      <td>1</td>\n",
       "      <td>1</td>\n",
       "    </tr>\n",
       "    <tr>\n",
       "      <th>3</th>\n",
       "      <td>37.0</td>\n",
       "      <td>1.0</td>\n",
       "      <td>3.0</td>\n",
       "      <td>130.0</td>\n",
       "      <td>250.0</td>\n",
       "      <td>0.0</td>\n",
       "      <td>0.0</td>\n",
       "      <td>187.0</td>\n",
       "      <td>0.0</td>\n",
       "      <td>3.5</td>\n",
       "      <td>3.0</td>\n",
       "      <td>0.0</td>\n",
       "      <td>3.0</td>\n",
       "      <td>0</td>\n",
       "      <td>0</td>\n",
       "    </tr>\n",
       "    <tr>\n",
       "      <th>4</th>\n",
       "      <td>41.0</td>\n",
       "      <td>0.0</td>\n",
       "      <td>2.0</td>\n",
       "      <td>130.0</td>\n",
       "      <td>204.0</td>\n",
       "      <td>0.0</td>\n",
       "      <td>2.0</td>\n",
       "      <td>172.0</td>\n",
       "      <td>0.0</td>\n",
       "      <td>1.4</td>\n",
       "      <td>1.0</td>\n",
       "      <td>0.0</td>\n",
       "      <td>3.0</td>\n",
       "      <td>0</td>\n",
       "      <td>0</td>\n",
       "    </tr>\n",
       "  </tbody>\n",
       "</table>\n",
       "</div>"
      ],
      "text/plain": [
       "    age  sex   cp  trestbps   chol  fbs  restecg  thalach  exang  oldpeak  \\\n",
       "0  63.0  1.0  1.0     145.0  233.0  1.0      2.0    150.0    0.0      2.3   \n",
       "1  67.0  1.0  4.0     160.0  286.0  0.0      2.0    108.0    1.0      1.5   \n",
       "2  67.0  1.0  4.0     120.0  229.0  0.0      2.0    129.0    1.0      2.6   \n",
       "3  37.0  1.0  3.0     130.0  250.0  0.0      0.0    187.0    0.0      3.5   \n",
       "4  41.0  0.0  2.0     130.0  204.0  0.0      2.0    172.0    0.0      1.4   \n",
       "\n",
       "   slope   ca  thal  num  has_disease  \n",
       "0    3.0  0.0   6.0    0            0  \n",
       "1    2.0  3.0   3.0    2            1  \n",
       "2    2.0  2.0   7.0    1            1  \n",
       "3    3.0  0.0   3.0    0            0  \n",
       "4    1.0  0.0   3.0    0            0  "
      ]
     },
     "execution_count": 18,
     "metadata": {},
     "output_type": "execute_result"
    }
   ],
   "source": [
    "heart_ds = pd.concat([pd.read_csv(DATASETS_DIR+f'/heart_disease/processed.{x}.data', header=None)\n",
    "                      for x in ['cleveland','hungarian','switzerland','va']])\n",
    "heart_ds.index = range(len(heart_ds))\n",
    "fs = ['age', 'sex', 'cp', 'trestbps', 'chol', 'fbs', 'restecg',\n",
    "      'thalach', 'exang', 'oldpeak', 'slope', 'ca', 'thal', 'num']\n",
    "train_feats = ['age','sex','cp','trestbps','chol','fbs','restecg','thalach','exang','oldpeak','slope','ca','thal']\n",
    "cat_feats = []\n",
    "heart_ds.columns = fs\n",
    "for f in ['trestbps', 'chol', 'fbs', 'restecg', 'thalach', 'exang', 'oldpeak',\n",
    "       'slope', 'ca', 'thal']:\n",
    "    heart_ds[f] = [float(x) if x!='?' else -1 for x in heart_ds[f]] \n",
    "heart_ds['has_disease'] = (heart_ds['num']>0).astype(int)\n",
    "y_feat = 'has_disease'\n",
    "print(heart_ds.shape)\n",
    "heart_ds.head()"
   ]
  },
  {
   "cell_type": "code",
   "execution_count": 19,
   "metadata": {},
   "outputs": [],
   "source": [
    "data_dict['heart'] = {'ds':heart_ds, 'train_feats':train_feats, 'cat_feats':cat_feats, 'y_feat':y_feat}"
   ]
  },
  {
   "cell_type": "markdown",
   "metadata": {},
   "source": [
    "## KDD"
   ]
  },
  {
   "cell_type": "raw",
   "metadata": {},
   "source": [
    "kdd_ds = pd.read_csv(DATASETS_DIR+'/kdd/orange_large_train.data.chunk1', sep='\\t')"
   ]
  },
  {
   "cell_type": "raw",
   "metadata": {},
   "source": [
    "kdd_ds.shape"
   ]
  },
  {
   "cell_type": "raw",
   "metadata": {},
   "source": [
    "kdd_ds.head()"
   ]
  },
  {
   "cell_type": "markdown",
   "metadata": {},
   "source": [
    "## Kick"
   ]
  },
  {
   "cell_type": "code",
   "execution_count": 20,
   "metadata": {},
   "outputs": [
    {
     "name": "stdout",
     "output_type": "stream",
     "text": [
      "(72983, 34)\n"
     ]
    },
    {
     "data": {
      "text/html": [
       "<div>\n",
       "<style scoped>\n",
       "    .dataframe tbody tr th:only-of-type {\n",
       "        vertical-align: middle;\n",
       "    }\n",
       "\n",
       "    .dataframe tbody tr th {\n",
       "        vertical-align: top;\n",
       "    }\n",
       "\n",
       "    .dataframe thead th {\n",
       "        text-align: right;\n",
       "    }\n",
       "</style>\n",
       "<table border=\"1\" class=\"dataframe\">\n",
       "  <thead>\n",
       "    <tr style=\"text-align: right;\">\n",
       "      <th></th>\n",
       "      <th>RefId</th>\n",
       "      <th>IsBadBuy</th>\n",
       "      <th>PurchDate</th>\n",
       "      <th>Auction</th>\n",
       "      <th>VehYear</th>\n",
       "      <th>VehicleAge</th>\n",
       "      <th>Make</th>\n",
       "      <th>Model</th>\n",
       "      <th>Trim</th>\n",
       "      <th>SubModel</th>\n",
       "      <th>...</th>\n",
       "      <th>MMRCurrentRetailAveragePrice</th>\n",
       "      <th>MMRCurrentRetailCleanPrice</th>\n",
       "      <th>PRIMEUNIT</th>\n",
       "      <th>AUCGUART</th>\n",
       "      <th>BYRNO</th>\n",
       "      <th>VNZIP1</th>\n",
       "      <th>VNST</th>\n",
       "      <th>VehBCost</th>\n",
       "      <th>IsOnlineSale</th>\n",
       "      <th>WarrantyCost</th>\n",
       "    </tr>\n",
       "  </thead>\n",
       "  <tbody>\n",
       "    <tr>\n",
       "      <th>0</th>\n",
       "      <td>1</td>\n",
       "      <td>0</td>\n",
       "      <td>12/7/2009</td>\n",
       "      <td>ADESA</td>\n",
       "      <td>2006</td>\n",
       "      <td>3</td>\n",
       "      <td>MAZDA</td>\n",
       "      <td>MAZDA3</td>\n",
       "      <td>i</td>\n",
       "      <td>4D SEDAN I</td>\n",
       "      <td>...</td>\n",
       "      <td>11597.0</td>\n",
       "      <td>12409.0</td>\n",
       "      <td>NaN</td>\n",
       "      <td>NaN</td>\n",
       "      <td>21973</td>\n",
       "      <td>33619</td>\n",
       "      <td>FL</td>\n",
       "      <td>7100.0</td>\n",
       "      <td>0</td>\n",
       "      <td>1113</td>\n",
       "    </tr>\n",
       "    <tr>\n",
       "      <th>1</th>\n",
       "      <td>2</td>\n",
       "      <td>0</td>\n",
       "      <td>12/7/2009</td>\n",
       "      <td>ADESA</td>\n",
       "      <td>2004</td>\n",
       "      <td>5</td>\n",
       "      <td>DODGE</td>\n",
       "      <td>1500 RAM PICKUP 2WD</td>\n",
       "      <td>ST</td>\n",
       "      <td>QUAD CAB 4.7L SLT</td>\n",
       "      <td>...</td>\n",
       "      <td>11374.0</td>\n",
       "      <td>12791.0</td>\n",
       "      <td>NaN</td>\n",
       "      <td>NaN</td>\n",
       "      <td>19638</td>\n",
       "      <td>33619</td>\n",
       "      <td>FL</td>\n",
       "      <td>7600.0</td>\n",
       "      <td>0</td>\n",
       "      <td>1053</td>\n",
       "    </tr>\n",
       "    <tr>\n",
       "      <th>2</th>\n",
       "      <td>3</td>\n",
       "      <td>0</td>\n",
       "      <td>12/7/2009</td>\n",
       "      <td>ADESA</td>\n",
       "      <td>2005</td>\n",
       "      <td>4</td>\n",
       "      <td>DODGE</td>\n",
       "      <td>STRATUS V6</td>\n",
       "      <td>SXT</td>\n",
       "      <td>4D SEDAN SXT FFV</td>\n",
       "      <td>...</td>\n",
       "      <td>7146.0</td>\n",
       "      <td>8702.0</td>\n",
       "      <td>NaN</td>\n",
       "      <td>NaN</td>\n",
       "      <td>19638</td>\n",
       "      <td>33619</td>\n",
       "      <td>FL</td>\n",
       "      <td>4900.0</td>\n",
       "      <td>0</td>\n",
       "      <td>1389</td>\n",
       "    </tr>\n",
       "    <tr>\n",
       "      <th>3</th>\n",
       "      <td>4</td>\n",
       "      <td>0</td>\n",
       "      <td>12/7/2009</td>\n",
       "      <td>ADESA</td>\n",
       "      <td>2004</td>\n",
       "      <td>5</td>\n",
       "      <td>DODGE</td>\n",
       "      <td>NEON</td>\n",
       "      <td>SXT</td>\n",
       "      <td>4D SEDAN</td>\n",
       "      <td>...</td>\n",
       "      <td>4375.0</td>\n",
       "      <td>5518.0</td>\n",
       "      <td>NaN</td>\n",
       "      <td>NaN</td>\n",
       "      <td>19638</td>\n",
       "      <td>33619</td>\n",
       "      <td>FL</td>\n",
       "      <td>4100.0</td>\n",
       "      <td>0</td>\n",
       "      <td>630</td>\n",
       "    </tr>\n",
       "    <tr>\n",
       "      <th>4</th>\n",
       "      <td>5</td>\n",
       "      <td>0</td>\n",
       "      <td>12/7/2009</td>\n",
       "      <td>ADESA</td>\n",
       "      <td>2005</td>\n",
       "      <td>4</td>\n",
       "      <td>FORD</td>\n",
       "      <td>FOCUS</td>\n",
       "      <td>ZX3</td>\n",
       "      <td>2D COUPE ZX3</td>\n",
       "      <td>...</td>\n",
       "      <td>6739.0</td>\n",
       "      <td>7911.0</td>\n",
       "      <td>NaN</td>\n",
       "      <td>NaN</td>\n",
       "      <td>19638</td>\n",
       "      <td>33619</td>\n",
       "      <td>FL</td>\n",
       "      <td>4000.0</td>\n",
       "      <td>0</td>\n",
       "      <td>1020</td>\n",
       "    </tr>\n",
       "  </tbody>\n",
       "</table>\n",
       "<p>5 rows × 34 columns</p>\n",
       "</div>"
      ],
      "text/plain": [
       "   RefId  IsBadBuy  PurchDate Auction  VehYear  VehicleAge   Make  \\\n",
       "0      1         0  12/7/2009   ADESA     2006           3  MAZDA   \n",
       "1      2         0  12/7/2009   ADESA     2004           5  DODGE   \n",
       "2      3         0  12/7/2009   ADESA     2005           4  DODGE   \n",
       "3      4         0  12/7/2009   ADESA     2004           5  DODGE   \n",
       "4      5         0  12/7/2009   ADESA     2005           4   FORD   \n",
       "\n",
       "                 Model Trim           SubModel  ...  \\\n",
       "0               MAZDA3    i         4D SEDAN I  ...   \n",
       "1  1500 RAM PICKUP 2WD   ST  QUAD CAB 4.7L SLT  ...   \n",
       "2           STRATUS V6  SXT   4D SEDAN SXT FFV  ...   \n",
       "3                 NEON  SXT           4D SEDAN  ...   \n",
       "4                FOCUS  ZX3       2D COUPE ZX3  ...   \n",
       "\n",
       "  MMRCurrentRetailAveragePrice MMRCurrentRetailCleanPrice  PRIMEUNIT AUCGUART  \\\n",
       "0                      11597.0                    12409.0        NaN      NaN   \n",
       "1                      11374.0                    12791.0        NaN      NaN   \n",
       "2                       7146.0                     8702.0        NaN      NaN   \n",
       "3                       4375.0                     5518.0        NaN      NaN   \n",
       "4                       6739.0                     7911.0        NaN      NaN   \n",
       "\n",
       "   BYRNO VNZIP1 VNST VehBCost  IsOnlineSale  WarrantyCost  \n",
       "0  21973  33619   FL   7100.0             0          1113  \n",
       "1  19638  33619   FL   7600.0             0          1053  \n",
       "2  19638  33619   FL   4900.0             0          1389  \n",
       "3  19638  33619   FL   4100.0             0           630  \n",
       "4  19638  33619   FL   4000.0             0          1020  \n",
       "\n",
       "[5 rows x 34 columns]"
      ]
     },
     "execution_count": 20,
     "metadata": {},
     "output_type": "execute_result"
    }
   ],
   "source": [
    "kick_ds = pd.read_csv(DATASETS_DIR+'/kick/training.csv')\n",
    "print(kick_ds.shape)\n",
    "kick_ds.head()"
   ]
  },
  {
   "cell_type": "code",
   "execution_count": 21,
   "metadata": {},
   "outputs": [],
   "source": [
    "train_feats = ['Auction', 'VehYear', 'VehicleAge',\n",
    "       'Make', 'Model', 'Trim', 'SubModel', 'Color', 'Transmission',\n",
    "       'WheelTypeID', 'WheelType', 'VehOdo', 'Nationality', 'Size',\n",
    "       'TopThreeAmericanName', 'MMRAcquisitionAuctionAveragePrice',\n",
    "       'MMRAcquisitionAuctionCleanPrice', 'MMRAcquisitionRetailAveragePrice',\n",
    "       'MMRAcquisitonRetailCleanPrice', 'MMRCurrentAuctionAveragePrice',\n",
    "       'MMRCurrentAuctionCleanPrice', 'MMRCurrentRetailAveragePrice',\n",
    "       'MMRCurrentRetailCleanPrice', 'PRIMEUNIT', 'AUCGUART', 'BYRNO',\n",
    "       'VNZIP1', 'VNST', 'VehBCost', 'IsOnlineSale', 'WarrantyCost']\n",
    "cat_feats = ['Auction','VehYear', 'Make', 'Model', 'Trim', 'SubModel', 'Color', 'Transmission',\n",
    "       'WheelType', 'Nationality', 'Size','PRIMEUNIT','AUCGUART',\n",
    "       'TopThreeAmericanName',  'VNST',]\n",
    "y_feat = 'IsBadBuy'"
   ]
  },
  {
   "cell_type": "code",
   "execution_count": 22,
   "metadata": {},
   "outputs": [],
   "source": [
    "kick_ds[cat_feats] = kick_ds[cat_feats].fillna('NONE')"
   ]
  },
  {
   "cell_type": "code",
   "execution_count": 23,
   "metadata": {},
   "outputs": [],
   "source": [
    "kick_ds[[f for f in kick_ds.columns if f not in cat_feats]] = kick_ds.drop(cat_feats,1).fillna(-1)"
   ]
  },
  {
   "cell_type": "code",
   "execution_count": 24,
   "metadata": {},
   "outputs": [],
   "source": [
    "data_dict['kick'] = {'ds':kick_ds, 'train_feats':train_feats, 'cat_feats':cat_feats, 'y_feat':y_feat}"
   ]
  },
  {
   "cell_type": "markdown",
   "metadata": {},
   "source": [
    "## Mammographic Mass"
   ]
  },
  {
   "cell_type": "code",
   "execution_count": 25,
   "metadata": {},
   "outputs": [
    {
     "name": "stdout",
     "output_type": "stream",
     "text": [
      "(961, 6)\n"
     ]
    },
    {
     "data": {
      "text/html": [
       "<div>\n",
       "<style scoped>\n",
       "    .dataframe tbody tr th:only-of-type {\n",
       "        vertical-align: middle;\n",
       "    }\n",
       "\n",
       "    .dataframe tbody tr th {\n",
       "        vertical-align: top;\n",
       "    }\n",
       "\n",
       "    .dataframe thead th {\n",
       "        text-align: right;\n",
       "    }\n",
       "</style>\n",
       "<table border=\"1\" class=\"dataframe\">\n",
       "  <thead>\n",
       "    <tr style=\"text-align: right;\">\n",
       "      <th></th>\n",
       "      <th>BI-RADS assessment</th>\n",
       "      <th>Age</th>\n",
       "      <th>Shape</th>\n",
       "      <th>Margin</th>\n",
       "      <th>Density</th>\n",
       "      <th>Severity</th>\n",
       "    </tr>\n",
       "  </thead>\n",
       "  <tbody>\n",
       "    <tr>\n",
       "      <th>0</th>\n",
       "      <td>5.0</td>\n",
       "      <td>67.0</td>\n",
       "      <td>3.0</td>\n",
       "      <td>5.0</td>\n",
       "      <td>3.0</td>\n",
       "      <td>1.0</td>\n",
       "    </tr>\n",
       "    <tr>\n",
       "      <th>1</th>\n",
       "      <td>4.0</td>\n",
       "      <td>43.0</td>\n",
       "      <td>1.0</td>\n",
       "      <td>1.0</td>\n",
       "      <td>-1.0</td>\n",
       "      <td>1.0</td>\n",
       "    </tr>\n",
       "    <tr>\n",
       "      <th>2</th>\n",
       "      <td>5.0</td>\n",
       "      <td>58.0</td>\n",
       "      <td>4.0</td>\n",
       "      <td>5.0</td>\n",
       "      <td>3.0</td>\n",
       "      <td>1.0</td>\n",
       "    </tr>\n",
       "    <tr>\n",
       "      <th>3</th>\n",
       "      <td>4.0</td>\n",
       "      <td>28.0</td>\n",
       "      <td>1.0</td>\n",
       "      <td>1.0</td>\n",
       "      <td>3.0</td>\n",
       "      <td>0.0</td>\n",
       "    </tr>\n",
       "    <tr>\n",
       "      <th>4</th>\n",
       "      <td>5.0</td>\n",
       "      <td>74.0</td>\n",
       "      <td>1.0</td>\n",
       "      <td>5.0</td>\n",
       "      <td>-1.0</td>\n",
       "      <td>1.0</td>\n",
       "    </tr>\n",
       "  </tbody>\n",
       "</table>\n",
       "</div>"
      ],
      "text/plain": [
       "   BI-RADS assessment   Age  Shape  Margin  Density  Severity\n",
       "0                 5.0  67.0    3.0     5.0      3.0       1.0\n",
       "1                 4.0  43.0    1.0     1.0     -1.0       1.0\n",
       "2                 5.0  58.0    4.0     5.0      3.0       1.0\n",
       "3                 4.0  28.0    1.0     1.0      3.0       0.0\n",
       "4                 5.0  74.0    1.0     5.0     -1.0       1.0"
      ]
     },
     "execution_count": 25,
     "metadata": {},
     "output_type": "execute_result"
    }
   ],
   "source": [
    "mamm_ds = pd.read_csv(DATASETS_DIR+'/mammographic_mass/mammographic_masses.data', header=None)\n",
    "fs = ['BI-RADS assessment', 'Age', 'Shape', 'Margin', 'Density','Severity']\n",
    "mamm_ds.columns = fs\n",
    "for f in fs:\n",
    "    mamm_ds[f] = [float(x) if x!='?' else -1 for x in mamm_ds[f]]\n",
    "print(mamm_ds.shape)\n",
    "mamm_ds.head()"
   ]
  },
  {
   "cell_type": "code",
   "execution_count": 26,
   "metadata": {},
   "outputs": [],
   "source": [
    "train_feats = ['BI-RADS assessment','Age','Shape','Margin','Density']\n",
    "y_feat = 'Severity'\n",
    "cat_feats = []"
   ]
  },
  {
   "cell_type": "code",
   "execution_count": 27,
   "metadata": {},
   "outputs": [],
   "source": [
    "data_dict['mammograph'] = {'ds':mamm_ds, 'train_feats':train_feats, 'cat_feats':cat_feats, 'y_feat':y_feat}"
   ]
  },
  {
   "cell_type": "markdown",
   "metadata": {},
   "source": [
    "## Seismic bumps"
   ]
  },
  {
   "cell_type": "code",
   "execution_count": 28,
   "metadata": {},
   "outputs": [
    {
     "name": "stdout",
     "output_type": "stream",
     "text": [
      "(2584, 20)\n"
     ]
    },
    {
     "data": {
      "text/html": [
       "<div>\n",
       "<style scoped>\n",
       "    .dataframe tbody tr th:only-of-type {\n",
       "        vertical-align: middle;\n",
       "    }\n",
       "\n",
       "    .dataframe tbody tr th {\n",
       "        vertical-align: top;\n",
       "    }\n",
       "\n",
       "    .dataframe thead th {\n",
       "        text-align: right;\n",
       "    }\n",
       "</style>\n",
       "<table border=\"1\" class=\"dataframe\">\n",
       "  <thead>\n",
       "    <tr style=\"text-align: right;\">\n",
       "      <th></th>\n",
       "      <th>seismic</th>\n",
       "      <th>seismoacoustic</th>\n",
       "      <th>shift</th>\n",
       "      <th>genergy</th>\n",
       "      <th>gpuls</th>\n",
       "      <th>gdenergy</th>\n",
       "      <th>gdpuls</th>\n",
       "      <th>ghazard</th>\n",
       "      <th>nbumps</th>\n",
       "      <th>nbumps2</th>\n",
       "      <th>nbumps3</th>\n",
       "      <th>nbumps4</th>\n",
       "      <th>nbumps5</th>\n",
       "      <th>nbumps6</th>\n",
       "      <th>nbumps7</th>\n",
       "      <th>nbumps89</th>\n",
       "      <th>energy</th>\n",
       "      <th>maxenergy</th>\n",
       "      <th>class</th>\n",
       "      <th>class_bin</th>\n",
       "    </tr>\n",
       "  </thead>\n",
       "  <tbody>\n",
       "    <tr>\n",
       "      <th>0</th>\n",
       "      <td>b'a'</td>\n",
       "      <td>b'a'</td>\n",
       "      <td>b'N'</td>\n",
       "      <td>15180.0</td>\n",
       "      <td>48.0</td>\n",
       "      <td>-72.0</td>\n",
       "      <td>-72.0</td>\n",
       "      <td>b'a'</td>\n",
       "      <td>0.0</td>\n",
       "      <td>0.0</td>\n",
       "      <td>0.0</td>\n",
       "      <td>0.0</td>\n",
       "      <td>0.0</td>\n",
       "      <td>0.0</td>\n",
       "      <td>0.0</td>\n",
       "      <td>0.0</td>\n",
       "      <td>0.0</td>\n",
       "      <td>0.0</td>\n",
       "      <td>b'0'</td>\n",
       "      <td>0</td>\n",
       "    </tr>\n",
       "    <tr>\n",
       "      <th>1</th>\n",
       "      <td>b'a'</td>\n",
       "      <td>b'a'</td>\n",
       "      <td>b'N'</td>\n",
       "      <td>14720.0</td>\n",
       "      <td>33.0</td>\n",
       "      <td>-70.0</td>\n",
       "      <td>-79.0</td>\n",
       "      <td>b'a'</td>\n",
       "      <td>1.0</td>\n",
       "      <td>0.0</td>\n",
       "      <td>1.0</td>\n",
       "      <td>0.0</td>\n",
       "      <td>0.0</td>\n",
       "      <td>0.0</td>\n",
       "      <td>0.0</td>\n",
       "      <td>0.0</td>\n",
       "      <td>2000.0</td>\n",
       "      <td>2000.0</td>\n",
       "      <td>b'0'</td>\n",
       "      <td>0</td>\n",
       "    </tr>\n",
       "    <tr>\n",
       "      <th>2</th>\n",
       "      <td>b'a'</td>\n",
       "      <td>b'a'</td>\n",
       "      <td>b'N'</td>\n",
       "      <td>8050.0</td>\n",
       "      <td>30.0</td>\n",
       "      <td>-81.0</td>\n",
       "      <td>-78.0</td>\n",
       "      <td>b'a'</td>\n",
       "      <td>0.0</td>\n",
       "      <td>0.0</td>\n",
       "      <td>0.0</td>\n",
       "      <td>0.0</td>\n",
       "      <td>0.0</td>\n",
       "      <td>0.0</td>\n",
       "      <td>0.0</td>\n",
       "      <td>0.0</td>\n",
       "      <td>0.0</td>\n",
       "      <td>0.0</td>\n",
       "      <td>b'0'</td>\n",
       "      <td>0</td>\n",
       "    </tr>\n",
       "    <tr>\n",
       "      <th>3</th>\n",
       "      <td>b'a'</td>\n",
       "      <td>b'a'</td>\n",
       "      <td>b'N'</td>\n",
       "      <td>28820.0</td>\n",
       "      <td>171.0</td>\n",
       "      <td>-23.0</td>\n",
       "      <td>40.0</td>\n",
       "      <td>b'a'</td>\n",
       "      <td>1.0</td>\n",
       "      <td>0.0</td>\n",
       "      <td>1.0</td>\n",
       "      <td>0.0</td>\n",
       "      <td>0.0</td>\n",
       "      <td>0.0</td>\n",
       "      <td>0.0</td>\n",
       "      <td>0.0</td>\n",
       "      <td>3000.0</td>\n",
       "      <td>3000.0</td>\n",
       "      <td>b'0'</td>\n",
       "      <td>0</td>\n",
       "    </tr>\n",
       "    <tr>\n",
       "      <th>4</th>\n",
       "      <td>b'a'</td>\n",
       "      <td>b'a'</td>\n",
       "      <td>b'N'</td>\n",
       "      <td>12640.0</td>\n",
       "      <td>57.0</td>\n",
       "      <td>-63.0</td>\n",
       "      <td>-52.0</td>\n",
       "      <td>b'a'</td>\n",
       "      <td>0.0</td>\n",
       "      <td>0.0</td>\n",
       "      <td>0.0</td>\n",
       "      <td>0.0</td>\n",
       "      <td>0.0</td>\n",
       "      <td>0.0</td>\n",
       "      <td>0.0</td>\n",
       "      <td>0.0</td>\n",
       "      <td>0.0</td>\n",
       "      <td>0.0</td>\n",
       "      <td>b'0'</td>\n",
       "      <td>0</td>\n",
       "    </tr>\n",
       "  </tbody>\n",
       "</table>\n",
       "</div>"
      ],
      "text/plain": [
       "  seismic seismoacoustic shift  genergy  gpuls  gdenergy  gdpuls ghazard  \\\n",
       "0    b'a'           b'a'  b'N'  15180.0   48.0     -72.0   -72.0    b'a'   \n",
       "1    b'a'           b'a'  b'N'  14720.0   33.0     -70.0   -79.0    b'a'   \n",
       "2    b'a'           b'a'  b'N'   8050.0   30.0     -81.0   -78.0    b'a'   \n",
       "3    b'a'           b'a'  b'N'  28820.0  171.0     -23.0    40.0    b'a'   \n",
       "4    b'a'           b'a'  b'N'  12640.0   57.0     -63.0   -52.0    b'a'   \n",
       "\n",
       "   nbumps  nbumps2  nbumps3  nbumps4  nbumps5  nbumps6  nbumps7  nbumps89  \\\n",
       "0     0.0      0.0      0.0      0.0      0.0      0.0      0.0       0.0   \n",
       "1     1.0      0.0      1.0      0.0      0.0      0.0      0.0       0.0   \n",
       "2     0.0      0.0      0.0      0.0      0.0      0.0      0.0       0.0   \n",
       "3     1.0      0.0      1.0      0.0      0.0      0.0      0.0       0.0   \n",
       "4     0.0      0.0      0.0      0.0      0.0      0.0      0.0       0.0   \n",
       "\n",
       "   energy  maxenergy class  class_bin  \n",
       "0     0.0        0.0  b'0'          0  \n",
       "1  2000.0     2000.0  b'0'          0  \n",
       "2     0.0        0.0  b'0'          0  \n",
       "3  3000.0     3000.0  b'0'          0  \n",
       "4     0.0        0.0  b'0'          0  "
      ]
     },
     "execution_count": 28,
     "metadata": {},
     "output_type": "execute_result"
    }
   ],
   "source": [
    "from scipy.io import arff\n",
    "\n",
    "seism_ds = pd.DataFrame(arff.loadarff(DATASETS_DIR+'/seismic_bumps/seismic-bumps.arff')[0])\n",
    "seism_ds['class_bin'] = (seism_ds['class']==b'1').astype(int)\n",
    "print(seism_ds.shape)\n",
    "seism_ds.head()"
   ]
  },
  {
   "cell_type": "code",
   "execution_count": 29,
   "metadata": {},
   "outputs": [],
   "source": [
    "train_feats = ['seismic', 'seismoacoustic', 'shift', 'genergy', 'gpuls', 'gdenergy',\n",
    "       'gdpuls', 'ghazard', 'nbumps', 'nbumps2', 'nbumps3', 'nbumps4',\n",
    "       'nbumps5', 'nbumps6', 'nbumps7', 'nbumps89', 'energy', 'maxenergy',]\n",
    "cat_feats = ['seismic','seismoacoustic','shift','ghazard']\n",
    "y_feat = 'class_bin'"
   ]
  },
  {
   "cell_type": "code",
   "execution_count": 30,
   "metadata": {},
   "outputs": [],
   "source": [
    "data_dict['seismic'] = {'ds':seism_ds, 'train_feats':train_feats, 'cat_feats':cat_feats, 'y_feat':y_feat}"
   ]
  },
  {
   "cell_type": "markdown",
   "metadata": {},
   "source": [
    "# Test RF with weights"
   ]
  },
  {
   "cell_type": "code",
   "execution_count": 52,
   "metadata": {},
   "outputs": [],
   "source": [
    "from sklearn.tree import DecisionTreeClassifier\n",
    "from sklearn.ensemble import RandomForestClassifier"
   ]
  },
  {
   "cell_type": "code",
   "execution_count": 53,
   "metadata": {},
   "outputs": [],
   "source": [
    "def ds_to_ohe(X_train, X_test, cat_feats):\n",
    "    X_train_ohe, X_test_ohe = X_train.copy(), X_test.copy()\n",
    "    for f in cat_feats:\n",
    "        for v in X_train_ohe[f].unique():\n",
    "            X_train_ohe[f\"{f}__{v}\"] = X_train[f]==v\n",
    "            X_test_ohe[f\"{f}__{v}\"] = X_test[f]==v\n",
    "        X_train_ohe = X_train_ohe.drop(f,1)\n",
    "        X_test_ohe = X_test_ohe.drop(f, 1)\n",
    "    return X_train_ohe, X_test_ohe"
   ]
  },
  {
   "cell_type": "code",
   "execution_count": null,
   "metadata": {},
   "outputs": [],
   "source": []
  },
  {
   "cell_type": "code",
   "execution_count": 217,
   "metadata": {},
   "outputs": [],
   "source": [
    "data_name = 'adult'\n",
    "data = data_dict[data_name]\n",
    "ds, train_feats, cat_feats, y_feat = data['ds'], data['train_feats'], data['cat_feats'], data['y_feat']"
   ]
  },
  {
   "cell_type": "code",
   "execution_count": 218,
   "metadata": {},
   "outputs": [],
   "source": [
    "X_train, X_test, y_train, y_test = train_test_split(ds[train_feats], ds[y_feat])"
   ]
  },
  {
   "cell_type": "code",
   "execution_count": 219,
   "metadata": {},
   "outputs": [],
   "source": [
    "X_train_ohe, X_test_ohe = ds_to_ohe(X_train, X_test, cat_feats)"
   ]
  },
  {
   "cell_type": "code",
   "execution_count": 220,
   "metadata": {},
   "outputs": [],
   "source": [
    "cntx_train = fcai.MultiValuedContext(X_train, objs=[str(x) for x in X_train.index], y_true=y_train, cat_attrs=cat_feats)\n",
    "cntx_test = fcai.MultiValuedContext(X_test, objs=[str(x) for x in X_test.index], y_true=y_test, cat_attrs=cat_feats)\n",
    "fm = fcai.FormalManager(cntx_train)"
   ]
  },
  {
   "cell_type": "code",
   "execution_count": 384,
   "metadata": {},
   "outputs": [
    {
     "data": {
      "application/vnd.jupyter.widget-view+json": {
       "model_id": "b50055a3df3d406a8d8a8ec44431b6aa",
       "version_major": 2,
       "version_minor": 0
      },
      "text/plain": [
       "HBox(children=(FloatProgress(value=0.0, description='Postprocessing', max=3178.0, style=ProgressStyle(descript…"
      ]
     },
     "metadata": {},
     "output_type": "display_data"
    },
    {
     "name": "stdout",
     "output_type": "stream",
     "text": [
      "\n"
     ]
    },
    {
     "data": {
      "application/vnd.jupyter.widget-view+json": {
       "model_id": "8a8cc50331294cceae8906c48269df86",
       "version_major": 2,
       "version_minor": 0
      },
      "text/plain": [
       "HBox(children=(FloatProgress(value=0.0, description='construct spanning tree', max=3178.0, style=ProgressStyle…"
      ]
     },
     "metadata": {},
     "output_type": "display_data"
    },
    {
     "name": "stdout",
     "output_type": "stream",
     "text": [
      "\n"
     ]
    }
   ],
   "source": [
    "fm.construct_concepts(algo='RandomForest', rf_params={'n_estimators':10, 'max_depth':10, 'random_state':42}, n_layers=1)\n",
    "fm.construct_lattice(only_spanning_tree=True, use_tqdm=True)"
   ]
  },
  {
   "cell_type": "code",
   "execution_count": 385,
   "metadata": {},
   "outputs": [],
   "source": [
    "from scipy.sparse import csr_matrix"
   ]
  },
  {
   "cell_type": "code",
   "execution_count": 386,
   "metadata": {},
   "outputs": [],
   "source": [
    "preds_cur_train = fm.predict_context(cntx_train).flatten().tolist()[0]\n",
    "preds_cur_test = fm.predict_context(cntx_test).flatten().tolist()[0]"
   ]
  },
  {
   "cell_type": "code",
   "execution_count": 387,
   "metadata": {},
   "outputs": [],
   "source": [
    "metric = 'mean_y_true'"
   ]
  },
  {
   "cell_type": "code",
   "execution_count": 388,
   "metadata": {},
   "outputs": [],
   "source": [
    "def calc_threshold(y, preds, metric, ths):\n",
    "    return ths[np.argmax([metric(y, preds>t) for t in ths])]"
   ]
  },
  {
   "cell_type": "code",
   "execution_count": 389,
   "metadata": {},
   "outputs": [],
   "source": [
    "n_objs, n_cncpts = len(obj_preds_cncpts), len(fm.get_concepts())"
   ]
  },
  {
   "cell_type": "code",
   "execution_count": 451,
   "metadata": {},
   "outputs": [],
   "source": [
    "def predict_fca(fm, cntx, metric, W, use_logit=False):\n",
    "    metric = metric if type(metric) == list else [metric]\n",
    "    mvals = np.array(\n",
    "        [[c._metrics[m] for m in metric] for c in sorted(fm.get_concepts(), key=lambda c: c.get_id())])\n",
    "    \n",
    "    m_id = 0    \n",
    "    \n",
    "    obj_preds_cncpts = fm.trace_context(cntx)[0]\n",
    "    n_objs, n_cncpts = len(obj_preds_cncpts), len(fm.get_concepts())\n",
    "    \n",
    "    X_ = np.array([(mvals[c_id][m_id] if not use_logit\n",
    "                    else min(max(logit(mvals[c_id][m_id]), -100),100),\n",
    "                    g, c_id)\n",
    "                   for g, c_ids in obj_preds_cncpts.items() for c_id in c_ids])\n",
    "    X = csr_matrix((X_[:, 0], (X_[:, 1].astype(int), X_[:, 2].astype(int))),\n",
    "            shape=(n_objs, n_cncpts))\n",
    "    \n",
    "    preds = X.dot(W)#/(X>0).dot(W) \n",
    "    return preds, X"
   ]
  },
  {
   "cell_type": "code",
   "execution_count": 391,
   "metadata": {},
   "outputs": [],
   "source": [
    "def logit(p):\n",
    "    return np.log(p/(1-p))\n",
    "\n",
    "def sigmoid(x):\n",
    "    return 1/(1+np.exp(-x))"
   ]
  },
  {
   "cell_type": "code",
   "execution_count": 452,
   "metadata": {},
   "outputs": [],
   "source": [
    "W0 =  np.ones(n_cncpts)/n_cncpts #np.ones(n_cncpts)"
   ]
  },
  {
   "cell_type": "code",
   "execution_count": 453,
   "metadata": {},
   "outputs": [],
   "source": [
    "preds_train_0, X_train_0 = predict_fca(fm, cntx_train, 'mean_y_true', W0, use_logit=True)\n",
    "preds_train_0 = sigmoid(preds_train_0)"
   ]
  },
  {
   "cell_type": "code",
   "execution_count": 454,
   "metadata": {},
   "outputs": [
    {
     "data": {
      "text/plain": [
       "0.5"
      ]
     },
     "execution_count": 454,
     "metadata": {},
     "output_type": "execute_result"
    }
   ],
   "source": [
    "th = calc_threshold(y_train, preds_train_0, f1_score, ths)\n",
    "th"
   ]
  },
  {
   "cell_type": "code",
   "execution_count": 455,
   "metadata": {},
   "outputs": [],
   "source": [
    "preds_test_0, X_test_0 = predict_fca(fm, cntx_test, 'mean_y_true', W0, use_logit=True)\n",
    "preds_test_0 = sigmoid(preds_test_0)"
   ]
  },
  {
   "cell_type": "code",
   "execution_count": 456,
   "metadata": {},
   "outputs": [
    {
     "data": {
      "text/plain": [
       "(0.5890746459375998, 0.5483247422680412)"
      ]
     },
     "execution_count": 456,
     "metadata": {},
     "output_type": "execute_result"
    }
   ],
   "source": [
    "f1_score(y_train, preds_train_0>th), f1_score(y_test, preds_test_0>th)"
   ]
  },
  {
   "cell_type": "code",
   "execution_count": 457,
   "metadata": {},
   "outputs": [],
   "source": [
    "th_cur = calc_threshold(y_train, preds_cur_train, f1_score, ths)"
   ]
  },
  {
   "cell_type": "code",
   "execution_count": 458,
   "metadata": {},
   "outputs": [
    {
     "data": {
      "text/plain": [
       "(0.6695099255583126, 0.6549130230371415)"
      ]
     },
     "execution_count": 458,
     "metadata": {},
     "output_type": "execute_result"
    }
   ],
   "source": [
    "f1_score(y_train, preds_cur_train>th_cur), f1_score(y_test, preds_cur_test>th_cur)"
   ]
  },
  {
   "cell_type": "code",
   "execution_count": null,
   "metadata": {},
   "outputs": [],
   "source": []
  },
  {
   "cell_type": "code",
   "execution_count": 402,
   "metadata": {},
   "outputs": [],
   "source": [
    "rf = RandomForestClassifier(n_estimators=100, max_depth=10, random_state=42)\n",
    "rf.fit(X_train_ohe, y_train)\n",
    "preds_rf_train = rf.predict(X_train_ohe)\n",
    "preds_rf_test = rf.predict(X_test_ohe)"
   ]
  },
  {
   "cell_type": "code",
   "execution_count": 403,
   "metadata": {},
   "outputs": [
    {
     "data": {
      "text/plain": [
       "(0.5977083333333333, 0.5776532835356365)"
      ]
     },
     "execution_count": 403,
     "metadata": {},
     "output_type": "execute_result"
    }
   ],
   "source": [
    "f1_score(y_train, preds_rf_train), f1_score(y_test, preds_rf_test)"
   ]
  },
  {
   "cell_type": "code",
   "execution_count": null,
   "metadata": {},
   "outputs": [],
   "source": []
  },
  {
   "cell_type": "code",
   "execution_count": 459,
   "metadata": {},
   "outputs": [],
   "source": [
    "from sklearn.linear_model import LogisticRegression"
   ]
  },
  {
   "cell_type": "code",
   "execution_count": 460,
   "metadata": {},
   "outputs": [],
   "source": [
    "lr = LogisticRegression()"
   ]
  },
  {
   "cell_type": "code",
   "execution_count": 461,
   "metadata": {},
   "outputs": [
    {
     "data": {
      "text/plain": [
       "<24420x3178 sparse matrix of type '<class 'numpy.bool_'>'\n",
       "\twith 0 stored elements in Compressed Sparse Row format>"
      ]
     },
     "execution_count": 461,
     "metadata": {},
     "output_type": "execute_result"
    }
   ],
   "source": [
    "(X_train_0==-np.inf)"
   ]
  },
  {
   "cell_type": "code",
   "execution_count": 462,
   "metadata": {},
   "outputs": [
    {
     "data": {
      "text/plain": [
       "LogisticRegression(C=1.0, class_weight=None, dual=False, fit_intercept=True,\n",
       "                   intercept_scaling=1, l1_ratio=None, max_iter=100,\n",
       "                   multi_class='auto', n_jobs=None, penalty='l2',\n",
       "                   random_state=None, solver='lbfgs', tol=0.0001, verbose=0,\n",
       "                   warm_start=False)"
      ]
     },
     "execution_count": 462,
     "metadata": {},
     "output_type": "execute_result"
    }
   ],
   "source": [
    "lr.fit(X_train_0, y_train)"
   ]
  },
  {
   "cell_type": "code",
   "execution_count": 463,
   "metadata": {},
   "outputs": [],
   "source": [
    "W_lr = lr.coef_[0]"
   ]
  },
  {
   "cell_type": "code",
   "execution_count": 464,
   "metadata": {},
   "outputs": [],
   "source": [
    "preds_train_lr, X_train_lr = predict_fca(fm, cntx_train, 'mean_y_true', W_lr, use_logit=True)\n",
    "preds_train_lr = sigmoid(preds_train_lr)"
   ]
  },
  {
   "cell_type": "code",
   "execution_count": 468,
   "metadata": {},
   "outputs": [
    {
     "data": {
      "text/plain": [
       "0.35000000000000003"
      ]
     },
     "execution_count": 468,
     "metadata": {},
     "output_type": "execute_result"
    }
   ],
   "source": [
    "th_lr = calc_threshold(y_train, preds_train_lr, f1_score, ths)\n",
    "th_lr"
   ]
  },
  {
   "cell_type": "code",
   "execution_count": 469,
   "metadata": {},
   "outputs": [],
   "source": [
    "preds_test_lr, X_test_lr = predict_fca(fm, cntx_test, 'mean_y_true', W_lr, use_logit=True)\n",
    "preds_test_lr = sigmoid(preds_test_lr)"
   ]
  },
  {
   "cell_type": "code",
   "execution_count": 470,
   "metadata": {},
   "outputs": [
    {
     "data": {
      "text/plain": [
       "(0.7157618753855645, 0.6382604875905996)"
      ]
     },
     "execution_count": 470,
     "metadata": {},
     "output_type": "execute_result"
    }
   ],
   "source": [
    "f1_score(y_train, preds_train_lr>th_lr), f1_score(y_test, preds_test_lr>th_lr)"
   ]
  },
  {
   "cell_type": "code",
   "execution_count": null,
   "metadata": {},
   "outputs": [],
   "source": []
  },
  {
   "cell_type": "code",
   "execution_count": 474,
   "metadata": {},
   "outputs": [],
   "source": [
    "from scipy.optimize import nnls, lsq_linear"
   ]
  },
  {
   "cell_type": "code",
   "execution_count": 505,
   "metadata": {},
   "outputs": [
    {
     "name": "stdout",
     "output_type": "stream",
     "text": [
      "   Iteration        Cost      Cost reduction    Step norm     Optimality   \n",
      "       0         1.2442e+06                                    3.21e+05    \n",
      "       1         8.2804e+05      4.16e+05       1.18e-01       5.54e+04    \n",
      "       2         6.6531e+05      1.63e+05       1.35e+00       4.45e+04    \n",
      "       3         5.2116e+05      1.44e+05       8.26e-02       1.87e+04    \n",
      "       4         4.3270e+05      8.85e+04       7.77e-02       1.05e+04    \n",
      "       5         3.6862e+05      6.41e+04       7.20e-02       6.56e+03    \n",
      "       6         3.1996e+05      4.87e+04       6.72e-02       4.68e+03    \n",
      "       7         2.8182e+05      3.81e+04       6.31e-02       3.53e+03    \n",
      "       8         2.5102e+05      3.08e+04       6.56e-01       3.15e+03    \n",
      "       9         2.2367e+05      2.73e+04       5.64e-02       3.05e+03    \n",
      "      10         2.0114e+05      2.25e+04       5.37e-02       2.95e+03    \n",
      "      11         1.8223e+05      1.89e+04       5.15e-02       2.85e+03    \n",
      "      12         1.6611e+05      1.61e+04       4.95e-02       2.76e+03    \n",
      "      13         1.5220e+05      1.39e+04       4.78e-02       2.67e+03    \n",
      "      14         1.4007e+05      1.21e+04       4.62e-02       2.58e+03    \n",
      "      15         1.2940e+05      1.07e+04       4.49e-02       2.49e+03    \n",
      "      16         1.1995e+05      9.45e+03       4.36e-02       2.40e+03    \n",
      "      17         1.1152e+05      8.43e+03       4.25e-02       2.32e+03    \n",
      "      18         1.0395e+05      7.56e+03       4.15e-02       2.24e+03    \n",
      "      19         9.7133e+04      6.82e+03       4.05e-02       2.15e+03    \n",
      "      20         9.0959e+04      6.17e+03       3.97e-02       2.08e+03    \n",
      "      21         8.5347e+04      5.61e+03       3.89e-02       2.00e+03    \n",
      "      22         8.0228e+04      5.12e+03       3.81e-02       1.92e+03    \n",
      "      23         7.5542e+04      4.69e+03       3.75e-02       1.85e+03    \n",
      "      24         7.1241e+04      4.30e+03       3.68e-02       1.78e+03    \n",
      "      25         6.7281e+04      3.96e+03       3.62e-02       1.71e+03    \n",
      "      26         6.3627e+04      3.65e+03       3.56e-02       1.64e+03    \n",
      "      27         6.0247e+04      3.38e+03       3.51e-02       1.57e+03    \n",
      "      28         5.7113e+04      3.13e+03       3.45e-02       1.51e+03    \n",
      "      29         5.4202e+04      2.91e+03       3.40e-02       1.44e+03    \n",
      "      30         5.1492e+04      2.71e+03       3.35e-02       1.38e+03    \n",
      "      31         4.8966e+04      2.53e+03       3.31e-02       1.32e+03    \n",
      "      32         4.6562e+04      2.40e+03       2.84e-01       1.26e+03    \n",
      "      33         4.4321e+04      2.24e+03       3.18e-02       1.20e+03    \n",
      "      34         4.0688e+04      3.63e+03       4.34e-01       1.10e+03    \n",
      "      35         3.7024e+04      3.66e+03       4.58e-01       1.00e+03    \n",
      "      36         3.5283e+04      1.74e+03       2.86e-02       9.57e+02    \n",
      "      37         3.3651e+04      1.63e+03       2.82e-02       9.14e+02    \n",
      "      38         3.2120e+04      1.53e+03       2.78e-02       8.73e+02    \n",
      "      39         3.0681e+04      1.44e+03       2.75e-02       8.34e+02    \n",
      "      40         2.9328e+04      1.35e+03       2.71e-02       7.95e+02    \n",
      "      41         2.8054e+04      1.27e+03       2.67e-02       7.59e+02    \n",
      "      42         2.6852e+04      1.20e+03       2.64e-02       7.23e+02    \n",
      "      43         2.5717e+04      1.13e+03       2.03e-01       6.91e+02    \n",
      "      44         2.4634e+04      1.08e+03       2.55e-02       6.59e+02    \n",
      "      45         2.3610e+04      1.02e+03       2.51e-02       6.27e+02    \n",
      "      46         2.2641e+04      9.68e+02       2.48e-02       5.97e+02    \n",
      "      47         2.1709e+04      9.32e+02       1.95e-01       5.71e+02    \n",
      "      48         2.0832e+04      8.77e+02       2.40e-02       5.43e+02    \n",
      "      49         2.0002e+04      8.30e+02       2.37e-02       5.17e+02    \n",
      "      50         1.9214e+04      7.87e+02       2.34e-02       4.91e+02    \n",
      "      51         1.8467e+04      7.47e+02       2.31e-02       4.67e+02    \n",
      "      52         1.7758e+04      7.10e+02       2.28e-02       4.43e+02    \n",
      "      53         1.7083e+04      6.74e+02       2.25e-02       4.21e+02    \n",
      "      54         1.6442e+04      6.41e+02       2.23e-02       4.00e+02    \n",
      "      55         1.5832e+04      6.10e+02       2.20e-02       3.79e+02    \n",
      "      56         1.5251e+04      5.81e+02       2.17e-02       3.60e+02    \n",
      "      57         1.4698e+04      5.53e+02       2.15e-02       3.41e+02    \n",
      "      58         1.4170e+04      5.27e+02       2.12e-02       3.23e+02    \n",
      "      59         1.3667e+04      5.03e+02       2.10e-02       3.06e+02    \n",
      "      60         1.3187e+04      4.80e+02       2.07e-02       2.90e+02    \n",
      "      61         1.2729e+04      4.58e+02       2.05e-02       2.74e+02    \n",
      "      62         1.2292e+04      4.37e+02       2.02e-02       2.59e+02    \n",
      "      63         1.1874e+04      4.18e+02       2.00e-02       2.45e+02    \n",
      "      64         1.1474e+04      3.99e+02       1.98e-02       2.31e+02    \n",
      "      65         1.1093e+04      3.82e+02       1.95e-02       2.19e+02    \n",
      "      66         1.0727e+04      3.65e+02       1.93e-02       2.06e+02    \n",
      "      67         1.0378e+04      3.49e+02       1.91e-02       1.95e+02    \n",
      "      68         1.0044e+04      3.34e+02       1.89e-02       1.84e+02    \n",
      "      69         9.7239e+03      3.20e+02       1.87e-02       1.73e+02    \n",
      "      70         9.4175e+03      3.06e+02       1.85e-02       1.63e+02    \n",
      "      71         9.1241e+03      2.93e+02       1.83e-02       1.54e+02    \n",
      "      72         8.8430e+03      2.81e+02       1.81e-02       1.45e+02    \n",
      "      73         8.5736e+03      2.69e+02       1.79e-02       1.36e+02    \n",
      "      74         8.2723e+03      3.01e+02       1.69e-01       1.30e+02    \n",
      "      75         8.0250e+03      2.47e+02       1.73e-02       1.23e+02    \n",
      "      76         6.6284e+03      1.40e+03       8.67e-01       9.67e+01    \n",
      "      77         5.2078e+03      1.42e+03       1.01e+00       6.99e+01    \n",
      "      78         4.4016e+03      8.06e+02       6.66e-01       5.48e+01    \n",
      "      79         4.2956e+03      1.06e+02       1.15e-02       5.12e+01    \n",
      "      80         4.1941e+03      1.02e+02       1.13e-02       4.78e+01    \n",
      "      81         4.0968e+03      9.73e+01       1.12e-02       4.46e+01    \n",
      "      82         4.0035e+03      9.32e+01       1.11e-02       4.16e+01    \n",
      "      83         3.9142e+03      8.94e+01       1.10e-02       3.88e+01    \n",
      "      84         3.8285e+03      8.57e+01       1.08e-02       3.61e+01    \n",
      "      85         3.7464e+03      8.21e+01       1.07e-02       3.35e+01    \n",
      "      86         3.6676e+03      7.87e+01       1.06e-02       3.12e+01    \n",
      "      87         3.5741e+03      9.35e+01       1.15e-01       2.98e+01    \n",
      "      88         3.5018e+03      7.23e+01       1.03e-02       2.77e+01    \n",
      "      89         3.4325e+03      6.93e+01       1.02e-02       2.56e+01    \n",
      "      90         3.3660e+03      6.65e+01       1.00e-02       2.37e+01    \n",
      "      91         3.3022e+03      6.38e+01       9.94e-03       2.20e+01    \n",
      "      92         3.2410e+03      6.12e+01       9.83e-03       2.03e+01    \n",
      "      93         3.1823e+03      5.87e+01       9.73e-03       1.87e+01    \n",
      "      94         3.1259e+03      5.64e+01       9.63e-03       1.73e+01    \n",
      "      95         3.0718e+03      5.41e+01       9.54e-03       1.59e+01    \n",
      "      96         3.0199e+03      5.19e+01       9.44e-03       1.54e+01    \n",
      "      97         2.9700e+03      4.99e+01       9.35e-03       1.50e+01    \n",
      "      98         2.8992e+03      7.08e+01       1.30e-01       1.43e+01    \n",
      "      99         2.8046e+03      9.46e+01       1.80e-01       1.33e+01    \n",
      "The maximum number of iterations is exceeded.\n",
      "Number of iterations 100, initial cost 1.2442e+06, final cost 2.6485e+03, first-order optimality 1.33e+01.\n"
     ]
    },
    {
     "data": {
      "text/plain": [
       " active_mask: array([0, 0, 0, ..., 0, 0, 0])\n",
       "        cost: 2648.531106088235\n",
       "         fun: array([-0.08000401, -0.03664303, -0.23779436, ..., -0.10161593,\n",
       "       -0.13413365, -0.31468795])\n",
       "     message: 'The maximum number of iterations is exceeded.'\n",
       "         nit: 100\n",
       "  optimality: 13.282210611039682\n",
       "      status: 0\n",
       "     success: False\n",
       "           x: array([0.1       , 0.1       , 0.1       , ..., 0.01809011, 0.01699897,\n",
       "       0.02589045])"
      ]
     },
     "execution_count": 505,
     "metadata": {},
     "output_type": "execute_result"
    }
   ],
   "source": [
    "lsq = lsq_linear(X_train_0, y_train, bounds=(0, 1), verbose=2, max_iter=100)\n",
    "lsq"
   ]
  },
  {
   "cell_type": "code",
   "execution_count": 506,
   "metadata": {},
   "outputs": [],
   "source": [
    "W_lsq = lsq.x"
   ]
  },
  {
   "cell_type": "code",
   "execution_count": 507,
   "metadata": {},
   "outputs": [],
   "source": [
    "preds_train_lsq, X_train_lsq = predict_fca(fm, cntx_train, 'mean_y_true', W_lsq, use_logit=True)\n",
    "preds_train_lsq = sigmoid(preds_train_lsq)"
   ]
  },
  {
   "cell_type": "code",
   "execution_count": 508,
   "metadata": {},
   "outputs": [
    {
     "data": {
      "text/plain": [
       "0.51"
      ]
     },
     "execution_count": 508,
     "metadata": {},
     "output_type": "execute_result"
    }
   ],
   "source": [
    "th_lsq = calc_threshold(y_train, preds_train_lsq, f1_score, ths)\n",
    "th_lsq"
   ]
  },
  {
   "cell_type": "code",
   "execution_count": 509,
   "metadata": {},
   "outputs": [],
   "source": [
    "preds_test_lsq, X_test_lsq = predict_fca(fm, cntx_test, 'mean_y_true', W_lsq, use_logit=True)\n",
    "preds_test_lsq = sigmoid(preds_test_lsq)"
   ]
  },
  {
   "cell_type": "code",
   "execution_count": 510,
   "metadata": {},
   "outputs": [
    {
     "data": {
      "text/plain": [
       "(0.6758117728772356, 0.6417281348788199)"
      ]
     },
     "execution_count": 510,
     "metadata": {},
     "output_type": "execute_result"
    }
   ],
   "source": [
    "f1_score(y_train, preds_train_lsq>th_lsq), f1_score(y_test, preds_test_lsq>th_lsq)"
   ]
  },
  {
   "cell_type": "code",
   "execution_count": 504,
   "metadata": {},
   "outputs": [
    {
     "data": {
      "text/plain": [
       "(0.6900299259725942, 0.654934601664685)"
      ]
     },
     "execution_count": 504,
     "metadata": {},
     "output_type": "execute_result"
    }
   ],
   "source": [
    "f1_score(y_train, preds_train_lsq>th_lsq), f1_score(y_test, preds_test_lsq>th_lsq)"
   ]
  },
  {
   "cell_type": "code",
   "execution_count": null,
   "metadata": {},
   "outputs": [],
   "source": []
  },
  {
   "cell_type": "code",
   "execution_count": null,
   "metadata": {},
   "outputs": [],
   "source": []
  },
  {
   "cell_type": "code",
   "execution_count": null,
   "metadata": {},
   "outputs": [],
   "source": []
  },
  {
   "cell_type": "code",
   "execution_count": 175,
   "metadata": {},
   "outputs": [],
   "source": [
    "ths = np.arange(0, 1.001, 0.01)[:]"
   ]
  },
  {
   "cell_type": "code",
   "execution_count": null,
   "metadata": {},
   "outputs": [],
   "source": [
    "pred"
   ]
  },
  {
   "cell_type": "code",
   "execution_count": null,
   "metadata": {},
   "outputs": [],
   "source": []
  },
  {
   "cell_type": "markdown",
   "metadata": {},
   "source": [
    "# Training Trees"
   ]
  },
  {
   "cell_type": "code",
   "execution_count": 33,
   "metadata": {},
   "outputs": [],
   "source": [
    "subsample_size = 0.9"
   ]
  },
  {
   "cell_type": "code",
   "execution_count": 34,
   "metadata": {},
   "outputs": [],
   "source": [
    "from sklearn.metrics import roc_auc_score, accuracy_score, f1_score"
   ]
  },
  {
   "cell_type": "code",
   "execution_count": 35,
   "metadata": {},
   "outputs": [],
   "source": [
    "ths = np.arange(0, 1.001, 0.01)[:]"
   ]
  },
  {
   "cell_type": "code",
   "execution_count": 36,
   "metadata": {},
   "outputs": [],
   "source": [
    "max_depth = 3"
   ]
  },
  {
   "cell_type": "code",
   "execution_count": null,
   "metadata": {},
   "outputs": [],
   "source": []
  },
  {
   "cell_type": "code",
   "execution_count": 38,
   "metadata": {},
   "outputs": [],
   "source": [
    "data_name = 'breast'\n",
    "data = data_dict[data_name]\n",
    "ds, train_feats, cat_feats, y_feat = data['ds'], data['train_feats'], data['cat_feats'], data['y_feat']"
   ]
  },
  {
   "cell_type": "code",
   "execution_count": 39,
   "metadata": {},
   "outputs": [],
   "source": [
    "X_train, X_test, y_train, y_test = train_test_split(ds[train_feats], ds[y_feat])"
   ]
  },
  {
   "cell_type": "code",
   "execution_count": 40,
   "metadata": {},
   "outputs": [],
   "source": [
    "X_train_ohe, X_test_ohe = ds_to_ohe(X_train, X_test, cat_feats)"
   ]
  },
  {
   "cell_type": "code",
   "execution_count": 41,
   "metadata": {},
   "outputs": [],
   "source": [
    "cntx_train = fcai.MultiValuedContext(X_train, objs=[str(x) for x in X_train.index], y_true=y_train, cat_attrs=cat_feats)\n",
    "cntx_test = fcai.MultiValuedContext(X_test, objs=[str(x) for x in X_test.index], y_true=y_test, cat_attrs=cat_feats)\n",
    "fm = fcai.FormalManager(cntx_train)"
   ]
  },
  {
   "cell_type": "markdown",
   "metadata": {},
   "source": [
    "## Random Forest Comparison"
   ]
  },
  {
   "cell_type": "code",
   "execution_count": 37,
   "metadata": {},
   "outputs": [],
   "source": [
    "def calc_metrics(y_train, y_test, preds_train, preds_test, th_acc, th_f1):\n",
    "    stat = {}\n",
    "    stat[f\"roc_auc train\"] = roc_auc_score(y_train, preds_train)\n",
    "    stat[f'accuracy train'] = accuracy_score(y_train, preds_train>th_acc)\n",
    "    stat[f'f1 train'] = f1_score(y_train, preds_train>th_f1)\n",
    "    stat[f'roc_auc test'] = roc_auc_score(y_test, preds_test)\n",
    "    stat[f'accuracy test'] = accuracy_score(y_test, preds_test>th_acc)\n",
    "    stat[f'f1 test'] = f1_score(y_test, preds_test>th_f1)\n",
    "    return stat"
   ]
  },
  {
   "cell_type": "code",
   "execution_count": 38,
   "metadata": {},
   "outputs": [],
   "source": [
    "def get_rf_prediction(trees, X):\n",
    "    return np.vstack([tree.predict_proba(X)[:,1] for tree in trees]).mean(0).reshape(-1,1)"
   ]
  },
  {
   "cell_type": "code",
   "execution_count": 39,
   "metadata": {},
   "outputs": [],
   "source": [
    "def random_forest_iter(X_train, y_train, n_iter, fm, cntx_train, cntx_test,):\n",
    "    np.random.seed(n_iter)\n",
    "    idxs = np.random.choice(X_train.index, size=int(subsample_size*len(X_train.index)),)\n",
    "\n",
    "    X_sub, y_sub = X_train.loc[idxs], y_train.loc[idxs]\n",
    "\n",
    "    tree = DecisionTreeClassifier(max_depth=max_depth)\n",
    "    tree.fit(X_sub, y_sub)\n",
    "\n",
    "    exts = [tuple(ext) for ext in fm._parse_tree_to_extents(tree, X_train, cntx_train.get_objs())]\n",
    "    exts = [ext for ext in exts if ext not in exts_all]\n",
    "    \n",
    "    concepts = []\n",
    "    for ext in tqdm(exts, leave=False, disable=True):\n",
    "        c = fcai.PatternStructure(cntx_train.get_objs()[list(ext)], cntx_train.get_intent(ext),\n",
    "                                  metrics=fm._calc_metrics_inconcept(list(ext)))\n",
    "        concepts.append(c)\n",
    "        \n",
    "    return tree, exts, concepts"
   ]
  },
  {
   "cell_type": "code",
   "execution_count": 40,
   "metadata": {},
   "outputs": [],
   "source": [
    "def construct_lattice(fm, concepts):\n",
    "    for idx, c in enumerate(fm.sort_concepts(concepts)):\n",
    "        c._idx = idx\n",
    "    fm._concepts = concepts\n",
    "    fm.construct_lattice(only_spanning_tree=True)\n",
    "    return fm"
   ]
  },
  {
   "cell_type": "code",
   "execution_count": 42,
   "metadata": {},
   "outputs": [],
   "source": [
    "subsample_size = 0.9\n",
    "ths = np.arange(0, 1.001, 0.01)[:]\n",
    "n_iters = 100"
   ]
  },
  {
   "cell_type": "code",
   "execution_count": 43,
   "metadata": {},
   "outputs": [],
   "source": [
    "data_names = sorted(data_dict.keys(), key=lambda x: data_dict[x]['ds'].shape[0])"
   ]
  },
  {
   "cell_type": "code",
   "execution_count": 157,
   "metadata": {},
   "outputs": [],
   "source": [
    "max_depth = 10"
   ]
  },
  {
   "cell_type": "code",
   "execution_count": 44,
   "metadata": {},
   "outputs": [],
   "source": [
    "stats = []"
   ]
  },
  {
   "cell_type": "code",
   "execution_count": 45,
   "metadata": {},
   "outputs": [],
   "source": [
    "import warnings\n",
    "warnings.filterwarnings(\"ignore\")"
   ]
  },
  {
   "cell_type": "code",
   "execution_count": 160,
   "metadata": {},
   "outputs": [
    {
     "data": {
      "application/vnd.jupyter.widget-view+json": {
       "model_id": "8f7fec443b124011a98cb6dd5938f1b4",
       "version_major": 2,
       "version_minor": 0
      },
      "text/plain": [
       "HBox(children=(FloatProgress(value=0.0, max=8.0), HTML(value='')))"
      ]
     },
     "metadata": {},
     "output_type": "display_data"
    },
    {
     "data": {
      "application/vnd.jupyter.widget-view+json": {
       "model_id": "eb7bee8d64cf41b4b03bb122a979e716",
       "version_major": 2,
       "version_minor": 0
      },
      "text/plain": [
       "HBox(children=(FloatProgress(value=0.0), HTML(value='')))"
      ]
     },
     "metadata": {},
     "output_type": "display_data"
    },
    {
     "name": "stdout",
     "output_type": "stream",
     "text": [
      "\n"
     ]
    },
    {
     "data": {
      "application/vnd.jupyter.widget-view+json": {
       "model_id": "5d5b00c44a754854bb2226210c512c08",
       "version_major": 2,
       "version_minor": 0
      },
      "text/plain": [
       "HBox(children=(FloatProgress(value=0.0), HTML(value='')))"
      ]
     },
     "metadata": {},
     "output_type": "display_data"
    },
    {
     "name": "stdout",
     "output_type": "stream",
     "text": [
      "\n"
     ]
    },
    {
     "data": {
      "application/vnd.jupyter.widget-view+json": {
       "model_id": "b801fe191c7d4bceb5bce6c8a5064fe9",
       "version_major": 2,
       "version_minor": 0
      },
      "text/plain": [
       "HBox(children=(FloatProgress(value=0.0), HTML(value='')))"
      ]
     },
     "metadata": {},
     "output_type": "display_data"
    },
    {
     "name": "stdout",
     "output_type": "stream",
     "text": [
      "\n"
     ]
    },
    {
     "data": {
      "application/vnd.jupyter.widget-view+json": {
       "model_id": "fece3aef3d1e4a2ab7ed1cd81ad2489e",
       "version_major": 2,
       "version_minor": 0
      },
      "text/plain": [
       "HBox(children=(FloatProgress(value=0.0), HTML(value='')))"
      ]
     },
     "metadata": {},
     "output_type": "display_data"
    },
    {
     "name": "stdout",
     "output_type": "stream",
     "text": [
      "\n"
     ]
    },
    {
     "data": {
      "application/vnd.jupyter.widget-view+json": {
       "model_id": "1df16632f0b3432b8d0d9204a5e08ebf",
       "version_major": 2,
       "version_minor": 0
      },
      "text/plain": [
       "HBox(children=(FloatProgress(value=0.0), HTML(value='')))"
      ]
     },
     "metadata": {},
     "output_type": "display_data"
    },
    {
     "name": "stdout",
     "output_type": "stream",
     "text": [
      "\n"
     ]
    },
    {
     "data": {
      "application/vnd.jupyter.widget-view+json": {
       "model_id": "55c9066c40f34270911423414135064d",
       "version_major": 2,
       "version_minor": 0
      },
      "text/plain": [
       "HBox(children=(FloatProgress(value=0.0), HTML(value='')))"
      ]
     },
     "metadata": {},
     "output_type": "display_data"
    },
    {
     "name": "stdout",
     "output_type": "stream",
     "text": [
      "\n"
     ]
    },
    {
     "data": {
      "application/vnd.jupyter.widget-view+json": {
       "model_id": "e9e861094c3f4af8ac3aebd1be109881",
       "version_major": 2,
       "version_minor": 0
      },
      "text/plain": [
       "HBox(children=(FloatProgress(value=0.0), HTML(value='')))"
      ]
     },
     "metadata": {},
     "output_type": "display_data"
    },
    {
     "name": "stdout",
     "output_type": "stream",
     "text": [
      "\n"
     ]
    },
    {
     "data": {
      "application/vnd.jupyter.widget-view+json": {
       "model_id": "d18a2fd2f30848b3a0fcf41967e0c355",
       "version_major": 2,
       "version_minor": 0
      },
      "text/plain": [
       "HBox(children=(FloatProgress(value=0.0), HTML(value='')))"
      ]
     },
     "metadata": {},
     "output_type": "display_data"
    },
    {
     "name": "stdout",
     "output_type": "stream",
     "text": [
      "\n",
      "\n"
     ]
    }
   ],
   "source": [
    "for data_idx, data_name in tqdm(enumerate(data_names[:-1]), total=len(data_names)-1):\n",
    "    data = data_dict[data_name]\n",
    "    ds, train_feats, cat_feats, y_feat = data['ds'], data['train_feats'], data['cat_feats'], data['y_feat']\n",
    "    ds[cat_feats] = ds[cat_feats].astype(str)\n",
    "    X_train, X_test, y_train, y_test = train_test_split(ds[train_feats], ds[y_feat])\n",
    "    X_train_ohe, X_test_ohe = ds_to_ohe(X_train, X_test, cat_feats)\n",
    "    \n",
    "    cntx_train = fcai.MultiValuedContext(X_train, objs=[str(x) for x in X_train.index],\n",
    "                                         y_true=y_train, cat_attrs=cat_feats)\n",
    "    cntx_test = fcai.MultiValuedContext(X_test, objs=[str(x) for x in X_test.index],\n",
    "                                        y_true=y_test, cat_attrs=cat_feats)\n",
    "    fm = fcai.FormalManager(cntx_train)\n",
    "    \n",
    "    \n",
    "    paths_all = None\n",
    "    exts_all, concepts_all, trees = [], [], []\n",
    "    for n_iter in tqdm(range(n_iters)):\n",
    "        n_old_concepts = paths_all.shape[1] if paths_all is not None else 0\n",
    "\n",
    "        tree, exts, concepts = random_forest_iter(X_train_ohe, y_train, n_iter, fm, cntx_train, cntx_test)\n",
    "        trees.append(tree)\n",
    "        exts_all += exts\n",
    "        concepts_all += concepts\n",
    "\n",
    "        fm = construct_lattice(fm, concepts_all)\n",
    "        preds_train, preds_test = [fm.predict_context(cntx) for cntx in [cntx_train, cntx_test]]\n",
    "        th_f1, th_acc = [calc_threshold(y_train, preds_train, metric, ths) for metric in [f1_score, accuracy_score]]\n",
    "        stat = calc_metrics(y_train, y_test, preds_train, preds_test, th_acc, th_f1)\n",
    "        stat['new concepts num'] = len(exts)\n",
    "        stat['concepts num'] = len(exts_all)\n",
    "        stat['model_name'] = 'fca_rf'\n",
    "        stat['n_iter'] = n_iter\n",
    "        stat['ds'] = data_name\n",
    "        stats.append(stat)\n",
    "\n",
    "        preds_train, preds_test = [get_rf_prediction(trees, x) for x in [X_train_ohe, X_test_ohe]]\n",
    "        th_f1, th_acc = [calc_threshold(y_train, preds_train, metric, ths) for metric in [f1_score, accuracy_score]]\n",
    "        stat = calc_metrics(y_train, y_test, preds_train, preds_test, th_acc, th_f1)\n",
    "        stat['model_name'] = 'random_forest'\n",
    "        stat['n_iter'] = n_iter\n",
    "        stat['ds'] = data_name\n",
    "        stats.append(stat)\n",
    "\n",
    "        stats_ds = pd.concat([pd.Series(s) for s in stats],1).T\n",
    "        stats_ds.to_csv('stats_ds_rf.csv')"
   ]
  },
  {
   "cell_type": "code",
   "execution_count": 163,
   "metadata": {},
   "outputs": [],
   "source": [
    "stats_ds = pd.concat([pd.Series(s) for s in stats],1).T\n",
    "stats_ds.to_csv('stats_ds_rf.csv')"
   ]
  },
  {
   "cell_type": "code",
   "execution_count": 162,
   "metadata": {},
   "outputs": [],
   "source": [
    "stats_rf_ds = stats_ds.copy()"
   ]
  },
  {
   "cell_type": "code",
   "execution_count": 107,
   "metadata": {},
   "outputs": [],
   "source": [
    "for f in stats_rf_ds.drop(['model_name','ds'],1).columns:\n",
    "    stats_rf_ds[f] = stats_rf_ds[f].astype(float)"
   ]
  },
  {
   "cell_type": "markdown",
   "metadata": {},
   "source": [
    "## Gradient Boosting Comparison"
   ]
  },
  {
   "cell_type": "code",
   "execution_count": 58,
   "metadata": {},
   "outputs": [],
   "source": [
    "from sklearn.tree import DecisionTreeRegressor\n",
    "from sklearn.ensemble import GradientBoostingClassifier"
   ]
  },
  {
   "cell_type": "code",
   "execution_count": 59,
   "metadata": {},
   "outputs": [],
   "source": [
    "def get_gb_prediction(trees, X):\n",
    "    return np.vstack([tree.predict(X) for tree in trees]).sum(0).reshape(-1,1)"
   ]
  },
  {
   "cell_type": "code",
   "execution_count": 60,
   "metadata": {},
   "outputs": [],
   "source": [
    "def gradient_boosting_iter(X_train, y_train, n_iter, fm, cntx_train, cntx_test):\n",
    "    np.random.seed(0)\n",
    "    if n_iter>0:\n",
    "        preds_train = fm.predict_context(cntx_train).flatten()\n",
    "        y_diff = y_train-preds_train\n",
    "    else:\n",
    "        y_diff = y_train\n",
    "        \n",
    "    tree = DecisionTreeRegressor(max_depth=max_depth, random_state=0)\n",
    "    tree.fit(X_train_ohe, y_diff)\n",
    "\n",
    "    exts = [tuple(ext) for ext in fm._parse_tree_to_extents(tree, X_train_ohe, cntx_train.get_objs())]\n",
    "    exts = [ext for ext in exts if ext not in exts_all]\n",
    "\n",
    "    concepts = []\n",
    "    for ext in tqdm(exts, leave=False, disable=True):\n",
    "        c = fcai.PatternStructure(cntx_train.get_objs()[list(ext)], cntx_train.get_intent(ext),\n",
    "                                  metrics=fm._calc_metrics_inconcept(list(ext)))\n",
    "        concepts.append(c)\n",
    "    return tree, exts, concepts"
   ]
  },
  {
   "cell_type": "code",
   "execution_count": 61,
   "metadata": {},
   "outputs": [],
   "source": [
    "max_depth = 10"
   ]
  },
  {
   "cell_type": "code",
   "execution_count": 62,
   "metadata": {},
   "outputs": [],
   "source": [
    "stats = []"
   ]
  },
  {
   "cell_type": "code",
   "execution_count": 63,
   "metadata": {},
   "outputs": [
    {
     "data": {
      "application/vnd.jupyter.widget-view+json": {
       "model_id": "3dad25f6148341b880f23073e6c36071",
       "version_major": 2,
       "version_minor": 0
      },
      "text/plain": [
       "HBox(children=(FloatProgress(value=0.0, max=8.0), HTML(value='')))"
      ]
     },
     "metadata": {},
     "output_type": "display_data"
    },
    {
     "data": {
      "application/vnd.jupyter.widget-view+json": {
       "model_id": "fbc93642339b4368aa420afbdf5157f8",
       "version_major": 2,
       "version_minor": 0
      },
      "text/plain": [
       "HBox(children=(FloatProgress(value=0.0), HTML(value='')))"
      ]
     },
     "metadata": {},
     "output_type": "display_data"
    },
    {
     "name": "stdout",
     "output_type": "stream",
     "text": [
      "\n"
     ]
    },
    {
     "data": {
      "application/vnd.jupyter.widget-view+json": {
       "model_id": "4f089d3c05f84639a016c1c21c5f41f3",
       "version_major": 2,
       "version_minor": 0
      },
      "text/plain": [
       "HBox(children=(FloatProgress(value=0.0), HTML(value='')))"
      ]
     },
     "metadata": {},
     "output_type": "display_data"
    },
    {
     "name": "stdout",
     "output_type": "stream",
     "text": [
      "\n"
     ]
    },
    {
     "data": {
      "application/vnd.jupyter.widget-view+json": {
       "model_id": "9a6bae7242f2440dbc9d1f45f292957f",
       "version_major": 2,
       "version_minor": 0
      },
      "text/plain": [
       "HBox(children=(FloatProgress(value=0.0), HTML(value='')))"
      ]
     },
     "metadata": {},
     "output_type": "display_data"
    },
    {
     "name": "stdout",
     "output_type": "stream",
     "text": [
      "\n"
     ]
    },
    {
     "data": {
      "application/vnd.jupyter.widget-view+json": {
       "model_id": "61095546f4c543a4b0d9abbff2102e50",
       "version_major": 2,
       "version_minor": 0
      },
      "text/plain": [
       "HBox(children=(FloatProgress(value=0.0), HTML(value='')))"
      ]
     },
     "metadata": {},
     "output_type": "display_data"
    },
    {
     "name": "stdout",
     "output_type": "stream",
     "text": [
      "\n"
     ]
    },
    {
     "data": {
      "application/vnd.jupyter.widget-view+json": {
       "model_id": "49a3c6c797bd440d9448417f7684ae97",
       "version_major": 2,
       "version_minor": 0
      },
      "text/plain": [
       "HBox(children=(FloatProgress(value=0.0), HTML(value='')))"
      ]
     },
     "metadata": {},
     "output_type": "display_data"
    },
    {
     "name": "stdout",
     "output_type": "stream",
     "text": [
      "\n"
     ]
    },
    {
     "data": {
      "application/vnd.jupyter.widget-view+json": {
       "model_id": "7c9e362108f9430abdeb75658e4c744f",
       "version_major": 2,
       "version_minor": 0
      },
      "text/plain": [
       "HBox(children=(FloatProgress(value=0.0), HTML(value='')))"
      ]
     },
     "metadata": {},
     "output_type": "display_data"
    },
    {
     "name": "stdout",
     "output_type": "stream",
     "text": [
      "\n"
     ]
    },
    {
     "data": {
      "application/vnd.jupyter.widget-view+json": {
       "model_id": "7e9cf3eaa51340aba19f89104c5b3865",
       "version_major": 2,
       "version_minor": 0
      },
      "text/plain": [
       "HBox(children=(FloatProgress(value=0.0), HTML(value='')))"
      ]
     },
     "metadata": {},
     "output_type": "display_data"
    },
    {
     "name": "stdout",
     "output_type": "stream",
     "text": [
      "\n"
     ]
    },
    {
     "data": {
      "application/vnd.jupyter.widget-view+json": {
       "model_id": "931afbccb5434006a1eba53f4409ae4b",
       "version_major": 2,
       "version_minor": 0
      },
      "text/plain": [
       "HBox(children=(FloatProgress(value=0.0), HTML(value='')))"
      ]
     },
     "metadata": {},
     "output_type": "display_data"
    },
    {
     "name": "stdout",
     "output_type": "stream",
     "text": [
      "\n",
      "\n"
     ]
    }
   ],
   "source": [
    "for data_idx, data_name in tqdm(enumerate(data_names[:-1]), total=len(data_names[:-1])):\n",
    "    data = data_dict[data_name]\n",
    "    ds, train_feats, cat_feats, y_feat = data['ds'], data['train_feats'], data['cat_feats'], data['y_feat']\n",
    "    ds[cat_feats] = ds[cat_feats].astype(str)\n",
    "    X_train, X_test, y_train, y_test = train_test_split(ds[train_feats], ds[y_feat])\n",
    "    X_train_ohe, X_test_ohe = ds_to_ohe(X_train, X_test, cat_feats)\n",
    "    \n",
    "    cntx_train = fcai.MultiValuedContext(X_train, objs=[str(x) for x in X_train.index],\n",
    "                                         y_true=y_train, cat_attrs=cat_feats)\n",
    "    cntx_test = fcai.MultiValuedContext(X_test, objs=[str(x) for x in X_test.index],\n",
    "                                        y_true=y_test, cat_attrs=cat_feats)\n",
    "    fm = fcai.FormalManager(cntx_train)\n",
    "\n",
    "\n",
    "    paths_all = None\n",
    "    exts_all, concepts_all, trees = [], [], []\n",
    "    for n_iter in tqdm(range(n_iters)):\n",
    "        n_old_concepts = paths_all.shape[1] if paths_all is not None else 0\n",
    "\n",
    "        tree, exts, concepts = gradient_boosting_iter(X_train_ohe, y_train, n_iter, fm,\n",
    "                                                      cntx_train, cntx_test)\n",
    "        trees.append(tree)\n",
    "        exts_all += exts\n",
    "        concepts_all += concepts\n",
    "\n",
    "        fm = construct_lattice(fm, concepts_all)\n",
    "        preds_train, preds_test = [fm.predict_context(cntx) for cntx in [cntx_train, cntx_test]]\n",
    "        th_f1, th_acc = [calc_threshold(y_train, preds_train, metric, ths) for metric in [f1_score, accuracy_score]]\n",
    "        stat = calc_metrics(y_train, y_test, preds_train, preds_test, th_acc, th_f1)\n",
    "        stat['new concepts num'] = len(exts)\n",
    "        stat['concepts num'] = len(exts_all)\n",
    "        stat['model_name'] = 'fca_gb'\n",
    "        stat['n_iter'] = n_iter\n",
    "        stat['ds'] = data_name\n",
    "        stats.append(stat)\n",
    "\n",
    "        preds_train, preds_test = [get_gb_prediction(trees, x) for x in [X_train_ohe, X_test_ohe]]\n",
    "        th_f1, th_acc = [calc_threshold(y_train, preds_train, metric, ths) for metric in [f1_score, accuracy_score]]\n",
    "        stat = calc_metrics(y_train, y_test, preds_train, preds_test, th_acc, th_f1)\n",
    "        stat['model_name'] = 'gradient_boosting'\n",
    "        stat['n_iter'] = n_iter\n",
    "        stat['ds'] = data_name\n",
    "        stats.append(stat)\n",
    "        \n",
    "        stats_ds = pd.concat([pd.Series(s) for s in stats],1).T\n",
    "        stats_ds.to_csv('stats_ds_gb.csv')"
   ]
  },
  {
   "cell_type": "code",
   "execution_count": 64,
   "metadata": {},
   "outputs": [],
   "source": [
    "stats_ds = pd.concat([pd.Series(s) for s in stats],1).T\n",
    "stats_ds.to_csv('stats_ds_gb.csv')"
   ]
  },
  {
   "cell_type": "code",
   "execution_count": 69,
   "metadata": {},
   "outputs": [],
   "source": [
    "stats_gb_ds = stats_ds.copy()"
   ]
  },
  {
   "cell_type": "code",
   "execution_count": 70,
   "metadata": {},
   "outputs": [],
   "source": [
    "for f in stats_gb_ds.drop(['model_name','ds'],1).columns:\n",
    "    stats_gb_ds[f] = stats_gb_ds[f].astype(float)"
   ]
  },
  {
   "cell_type": "code",
   "execution_count": 71,
   "metadata": {},
   "outputs": [
    {
     "data": {
      "text/html": [
       "<div>\n",
       "<style scoped>\n",
       "    .dataframe tbody tr th:only-of-type {\n",
       "        vertical-align: middle;\n",
       "    }\n",
       "\n",
       "    .dataframe tbody tr th {\n",
       "        vertical-align: top;\n",
       "    }\n",
       "\n",
       "    .dataframe thead th {\n",
       "        text-align: right;\n",
       "    }\n",
       "</style>\n",
       "<table border=\"1\" class=\"dataframe\">\n",
       "  <thead>\n",
       "    <tr style=\"text-align: right;\">\n",
       "      <th></th>\n",
       "      <th>accuracy test</th>\n",
       "      <th>accuracy train</th>\n",
       "      <th>concepts num</th>\n",
       "      <th>ds</th>\n",
       "      <th>f1 test</th>\n",
       "      <th>f1 train</th>\n",
       "      <th>model_name</th>\n",
       "      <th>n_iter</th>\n",
       "      <th>new concepts num</th>\n",
       "      <th>roc_auc test</th>\n",
       "      <th>roc_auc train</th>\n",
       "    </tr>\n",
       "  </thead>\n",
       "  <tbody>\n",
       "    <tr>\n",
       "      <th>0</th>\n",
       "      <td>0.937143</td>\n",
       "      <td>1.000000</td>\n",
       "      <td>49.0</td>\n",
       "      <td>breast</td>\n",
       "      <td>0.916031</td>\n",
       "      <td>1.000000</td>\n",
       "      <td>fca_gb</td>\n",
       "      <td>0.0</td>\n",
       "      <td>49.0</td>\n",
       "      <td>0.970026</td>\n",
       "      <td>1.000000</td>\n",
       "    </tr>\n",
       "    <tr>\n",
       "      <th>1</th>\n",
       "      <td>0.937143</td>\n",
       "      <td>1.000000</td>\n",
       "      <td>NaN</td>\n",
       "      <td>breast</td>\n",
       "      <td>0.910569</td>\n",
       "      <td>1.000000</td>\n",
       "      <td>gradient_boosting</td>\n",
       "      <td>0.0</td>\n",
       "      <td>NaN</td>\n",
       "      <td>0.929489</td>\n",
       "      <td>1.000000</td>\n",
       "    </tr>\n",
       "    <tr>\n",
       "      <th>2</th>\n",
       "      <td>0.937143</td>\n",
       "      <td>0.998092</td>\n",
       "      <td>83.0</td>\n",
       "      <td>breast</td>\n",
       "      <td>0.913386</td>\n",
       "      <td>0.997214</td>\n",
       "      <td>fca_gb</td>\n",
       "      <td>1.0</td>\n",
       "      <td>34.0</td>\n",
       "      <td>0.967242</td>\n",
       "      <td>0.997522</td>\n",
       "    </tr>\n",
       "    <tr>\n",
       "      <th>3</th>\n",
       "      <td>0.937143</td>\n",
       "      <td>1.000000</td>\n",
       "      <td>NaN</td>\n",
       "      <td>breast</td>\n",
       "      <td>0.910569</td>\n",
       "      <td>1.000000</td>\n",
       "      <td>gradient_boosting</td>\n",
       "      <td>1.0</td>\n",
       "      <td>NaN</td>\n",
       "      <td>0.933914</td>\n",
       "      <td>1.000000</td>\n",
       "    </tr>\n",
       "    <tr>\n",
       "      <th>4</th>\n",
       "      <td>0.937143</td>\n",
       "      <td>0.982824</td>\n",
       "      <td>107.0</td>\n",
       "      <td>breast</td>\n",
       "      <td>0.916031</td>\n",
       "      <td>0.975477</td>\n",
       "      <td>fca_gb</td>\n",
       "      <td>2.0</td>\n",
       "      <td>24.0</td>\n",
       "      <td>0.967528</td>\n",
       "      <td>0.997555</td>\n",
       "    </tr>\n",
       "  </tbody>\n",
       "</table>\n",
       "</div>"
      ],
      "text/plain": [
       "   accuracy test  accuracy train  concepts num      ds   f1 test  f1 train  \\\n",
       "0       0.937143        1.000000          49.0  breast  0.916031  1.000000   \n",
       "1       0.937143        1.000000           NaN  breast  0.910569  1.000000   \n",
       "2       0.937143        0.998092          83.0  breast  0.913386  0.997214   \n",
       "3       0.937143        1.000000           NaN  breast  0.910569  1.000000   \n",
       "4       0.937143        0.982824         107.0  breast  0.916031  0.975477   \n",
       "\n",
       "          model_name  n_iter  new concepts num  roc_auc test  roc_auc train  \n",
       "0             fca_gb     0.0              49.0      0.970026       1.000000  \n",
       "1  gradient_boosting     0.0               NaN      0.929489       1.000000  \n",
       "2             fca_gb     1.0              34.0      0.967242       0.997522  \n",
       "3  gradient_boosting     1.0               NaN      0.933914       1.000000  \n",
       "4             fca_gb     2.0              24.0      0.967528       0.997555  "
      ]
     },
     "execution_count": 71,
     "metadata": {},
     "output_type": "execute_result"
    }
   ],
   "source": [
    "stats_gb_ds.head()"
   ]
  },
  {
   "cell_type": "code",
   "execution_count": null,
   "metadata": {},
   "outputs": [],
   "source": []
  },
  {
   "cell_type": "code",
   "execution_count": 164,
   "metadata": {},
   "outputs": [],
   "source": [
    "stats_ds = pd.concat([stats_rf_ds, stats_gb_ds])"
   ]
  },
  {
   "cell_type": "code",
   "execution_count": 173,
   "metadata": {},
   "outputs": [],
   "source": [
    "for f in ['accuracy test','accuracy train','concepts num','f1 test','f1 train','n_iter','new concepts num','roc_auc test','roc_auc train']:\n",
    "    stats_ds[f] = stats_ds[f].astype(float)"
   ]
  },
  {
   "cell_type": "code",
   "execution_count": 175,
   "metadata": {},
   "outputs": [],
   "source": [
    "stats_ds.to_csv('stats_ds_rfgb.csv')"
   ]
  },
  {
   "cell_type": "code",
   "execution_count": 180,
   "metadata": {},
   "outputs": [
    {
     "data": {
      "image/png": "[encoded data removed]",
      "text/plain": [
       "<Figure size 1440x504 with 4 Axes>"
      ]
     },
     "metadata": {
      "needs_background": "light"
     },
     "output_type": "display_data"
    }
   ],
   "source": [
    "plt.figure(figsize=(20,7))\n",
    "#for idx, tpl in enumerate([('fca_rf','accuracy train'),('random_forest','accuracy train'),('fca_rf','accuracy test'),('random_forest','accuracy test')]):\n",
    "for idx, tpl in enumerate([('fca_rf','f1 train'),('random_forest','f1 train'),('fca_rf','f1 test'),('random_forest','f1 test')]):\n",
    "#for idx, tpl in enumerate([('fca_rf','roc_auc train'),('random_forest','roc_auc train'),('fca_rf','roc_auc test'),('random_forest','roc_auc test')]):\n",
    "    model, metric = tpl\n",
    "    plt.subplot(2,2,idx+1)\n",
    "    cds = stats_ds[(stats_ds['model_name']==model)]\n",
    "    sns.lineplot(x='n_iter', y=metric, hue='ds', data=cds)\n",
    "    plt.title(f\"{model} {metric}\")\n",
    "    plt.ylim(-0.05,1+0.05)\n",
    "\n",
    "plt.tight_layout()\n",
    "plt.show()"
   ]
  },
  {
   "cell_type": "code",
   "execution_count": 181,
   "metadata": {},
   "outputs": [
    {
     "data": {
      "image/png": "[encoded data removed]",
      "text/plain": [
       "<Figure size 1440x504 with 4 Axes>"
      ]
     },
     "metadata": {
      "needs_background": "light"
     },
     "output_type": "display_data"
    }
   ],
   "source": [
    "plt.figure(figsize=(20,7))\n",
    "#for idx, tpl in enumerate([('fca_rf','accuracy train'),('random_forest','accuracy train'),('fca_rf','accuracy test'),('random_forest','accuracy test')]):\n",
    "for idx, tpl in enumerate([('fca_gb','f1 train'),('gradient_boosting','f1 train'),('fca_gb','f1 test'),('gradient_boosting','f1 test')]):\n",
    "#for idx, tpl in enumerate([('fca_rf','roc_auc train'),('random_forest','roc_auc train'),('fca_rf','roc_auc test'),('random_forest','roc_auc test')]):\n",
    "    model, metric = tpl\n",
    "    plt.subplot(2,2,idx+1)\n",
    "    cds = stats_ds[(stats_ds['model_name']==model)]\n",
    "    sns.lineplot(x='n_iter', y=metric, hue='ds', data=cds)\n",
    "    plt.title(f\"{model} {metric}\")\n",
    "    plt.ylim(-0.05,1+0.05)\n",
    "\n",
    "plt.tight_layout()\n",
    "plt.show()"
   ]
  },
  {
   "cell_type": "code",
   "execution_count": 182,
   "metadata": {},
   "outputs": [],
   "source": [
    "d = {data_name: data['ds'].shape[0] for data_name, data in data_dict.items()}"
   ]
  },
  {
   "cell_type": "code",
   "execution_count": 183,
   "metadata": {},
   "outputs": [],
   "source": [
    "stats_ds['ds_size'] = stats_ds['ds'].apply(lambda x: d[x])"
   ]
  },
  {
   "cell_type": "code",
   "execution_count": 188,
   "metadata": {},
   "outputs": [
    {
     "data": {
      "text/plain": [
       "array([  699,   920,   961,  2584,  4521, 30000, 32561, 32769])"
      ]
     },
     "execution_count": 188,
     "metadata": {},
     "output_type": "execute_result"
    }
   ],
   "source": [
    "stats_ds['ds_size'].unique()"
   ]
  },
  {
   "cell_type": "code",
   "execution_count": 189,
   "metadata": {},
   "outputs": [
    {
     "data": {
      "text/plain": [
       "60721.0"
      ]
     },
     "execution_count": 189,
     "metadata": {},
     "output_type": "execute_result"
    }
   ],
   "source": [
    "stats_ds['concepts num'].max()"
   ]
  },
  {
   "cell_type": "code",
   "execution_count": 208,
   "metadata": {},
   "outputs": [
    {
     "data": {
      "image/png": "[encoded data removed]",
      "text/plain": [
       "<Figure size 1080x360 with 2 Axes>"
      ]
     },
     "metadata": {
      "needs_background": "light"
     },
     "output_type": "display_data"
    }
   ],
   "source": [
    "plt.figure(figsize=(15,5))\n",
    "for idx, model in enumerate(['fca_rf','fca_gb']):\n",
    "    plt.subplot(1,2,idx+1)\n",
    "    cds = stats_ds[(stats_ds['model_name']==model)]\n",
    "    cds['concepts num log'] = np.log1p(cds['concepts num'])\n",
    "    cds['concepts_per_object'] = cds['concepts num']/cds['ds_size']\n",
    "    sns.lineplot(x='n_iter', y='concepts num log', hue='ds', data=cds)\n",
    "    plt.title(model)\n",
    "    \n",
    "    plt.ylim(np.log1p(30), np.log1p(100000))\n",
    "    yticks = [30, 100,300,1000,3000,10000, 30000,100000]\n",
    "    plt.yticks(np.log1p(yticks), yticks)\n",
    "    \n",
    "plt.tight_layout()\n",
    "plt.show()"
   ]
  },
  {
   "cell_type": "code",
   "execution_count": null,
   "metadata": {},
   "outputs": [],
   "source": []
  },
  {
   "cell_type": "code",
   "execution_count": 119,
   "metadata": {},
   "outputs": [
    {
     "data": {
      "text/html": [
       "<div>\n",
       "<style scoped>\n",
       "    .dataframe tbody tr th:only-of-type {\n",
       "        vertical-align: middle;\n",
       "    }\n",
       "\n",
       "    .dataframe tbody tr th {\n",
       "        vertical-align: top;\n",
       "    }\n",
       "\n",
       "    .dataframe thead th {\n",
       "        text-align: right;\n",
       "    }\n",
       "</style>\n",
       "<table border=\"1\" class=\"dataframe\">\n",
       "  <thead>\n",
       "    <tr style=\"text-align: right;\">\n",
       "      <th></th>\n",
       "      <th>accuracy test</th>\n",
       "      <th>accuracy train</th>\n",
       "      <th>concepts num</th>\n",
       "      <th>ds</th>\n",
       "      <th>f1 test</th>\n",
       "      <th>f1 train</th>\n",
       "      <th>model_name</th>\n",
       "      <th>n_iter</th>\n",
       "      <th>new concepts num</th>\n",
       "      <th>roc_auc test</th>\n",
       "      <th>roc_auc train</th>\n",
       "    </tr>\n",
       "  </thead>\n",
       "  <tbody>\n",
       "    <tr>\n",
       "      <th>0</th>\n",
       "      <td>0.960000</td>\n",
       "      <td>0.950382</td>\n",
       "      <td>15.0</td>\n",
       "      <td>breast</td>\n",
       "      <td>0.936937</td>\n",
       "      <td>0.929348</td>\n",
       "      <td>fca_rf</td>\n",
       "      <td>0.0</td>\n",
       "      <td>15.0</td>\n",
       "      <td>0.978917</td>\n",
       "      <td>0.967384</td>\n",
       "    </tr>\n",
       "    <tr>\n",
       "      <th>2</th>\n",
       "      <td>0.971429</td>\n",
       "      <td>0.961832</td>\n",
       "      <td>27.0</td>\n",
       "      <td>breast</td>\n",
       "      <td>0.956522</td>\n",
       "      <td>0.947368</td>\n",
       "      <td>fca_rf</td>\n",
       "      <td>1.0</td>\n",
       "      <td>12.0</td>\n",
       "      <td>0.993472</td>\n",
       "      <td>0.985410</td>\n",
       "    </tr>\n",
       "    <tr>\n",
       "      <th>4</th>\n",
       "      <td>0.960000</td>\n",
       "      <td>0.963740</td>\n",
       "      <td>37.0</td>\n",
       "      <td>breast</td>\n",
       "      <td>0.939130</td>\n",
       "      <td>0.949062</td>\n",
       "      <td>fca_rf</td>\n",
       "      <td>2.0</td>\n",
       "      <td>10.0</td>\n",
       "      <td>0.992872</td>\n",
       "      <td>0.987674</td>\n",
       "    </tr>\n",
       "    <tr>\n",
       "      <th>6</th>\n",
       "      <td>0.965714</td>\n",
       "      <td>0.965649</td>\n",
       "      <td>49.0</td>\n",
       "      <td>breast</td>\n",
       "      <td>0.948276</td>\n",
       "      <td>0.952880</td>\n",
       "      <td>fca_rf</td>\n",
       "      <td>3.0</td>\n",
       "      <td>12.0</td>\n",
       "      <td>0.992272</td>\n",
       "      <td>0.987937</td>\n",
       "    </tr>\n",
       "    <tr>\n",
       "      <th>8</th>\n",
       "      <td>0.954286</td>\n",
       "      <td>0.969466</td>\n",
       "      <td>61.0</td>\n",
       "      <td>breast</td>\n",
       "      <td>0.928571</td>\n",
       "      <td>0.957447</td>\n",
       "      <td>fca_rf</td>\n",
       "      <td>4.0</td>\n",
       "      <td>12.0</td>\n",
       "      <td>0.993247</td>\n",
       "      <td>0.984501</td>\n",
       "    </tr>\n",
       "    <tr>\n",
       "      <th>...</th>\n",
       "      <td>...</td>\n",
       "      <td>...</td>\n",
       "      <td>...</td>\n",
       "      <td>...</td>\n",
       "      <td>...</td>\n",
       "      <td>...</td>\n",
       "      <td>...</td>\n",
       "      <td>...</td>\n",
       "      <td>...</td>\n",
       "      <td>...</td>\n",
       "      <td>...</td>\n",
       "    </tr>\n",
       "    <tr>\n",
       "      <th>1590</th>\n",
       "      <td>0.939827</td>\n",
       "      <td>0.942830</td>\n",
       "      <td>492.0</td>\n",
       "      <td>amazon</td>\n",
       "      <td>0.968980</td>\n",
       "      <td>0.970574</td>\n",
       "      <td>fca_rf</td>\n",
       "      <td>95.0</td>\n",
       "      <td>5.0</td>\n",
       "      <td>0.563753</td>\n",
       "      <td>0.594483</td>\n",
       "    </tr>\n",
       "    <tr>\n",
       "      <th>1592</th>\n",
       "      <td>0.939827</td>\n",
       "      <td>0.942830</td>\n",
       "      <td>498.0</td>\n",
       "      <td>amazon</td>\n",
       "      <td>0.968980</td>\n",
       "      <td>0.970574</td>\n",
       "      <td>fca_rf</td>\n",
       "      <td>96.0</td>\n",
       "      <td>6.0</td>\n",
       "      <td>0.567376</td>\n",
       "      <td>0.598736</td>\n",
       "    </tr>\n",
       "    <tr>\n",
       "      <th>1594</th>\n",
       "      <td>0.939827</td>\n",
       "      <td>0.942830</td>\n",
       "      <td>501.0</td>\n",
       "      <td>amazon</td>\n",
       "      <td>0.968980</td>\n",
       "      <td>0.970574</td>\n",
       "      <td>fca_rf</td>\n",
       "      <td>97.0</td>\n",
       "      <td>3.0</td>\n",
       "      <td>0.571277</td>\n",
       "      <td>0.609416</td>\n",
       "    </tr>\n",
       "    <tr>\n",
       "      <th>1596</th>\n",
       "      <td>0.939827</td>\n",
       "      <td>0.942830</td>\n",
       "      <td>501.0</td>\n",
       "      <td>amazon</td>\n",
       "      <td>0.968980</td>\n",
       "      <td>0.970574</td>\n",
       "      <td>fca_rf</td>\n",
       "      <td>98.0</td>\n",
       "      <td>0.0</td>\n",
       "      <td>0.571277</td>\n",
       "      <td>0.609416</td>\n",
       "    </tr>\n",
       "    <tr>\n",
       "      <th>1598</th>\n",
       "      <td>0.939827</td>\n",
       "      <td>0.942830</td>\n",
       "      <td>508.0</td>\n",
       "      <td>amazon</td>\n",
       "      <td>0.968980</td>\n",
       "      <td>0.970574</td>\n",
       "      <td>fca_rf</td>\n",
       "      <td>99.0</td>\n",
       "      <td>7.0</td>\n",
       "      <td>0.572730</td>\n",
       "      <td>0.623245</td>\n",
       "    </tr>\n",
       "  </tbody>\n",
       "</table>\n",
       "<p>800 rows × 11 columns</p>\n",
       "</div>"
      ],
      "text/plain": [
       "      accuracy test  accuracy train  concepts num      ds   f1 test  f1 train  \\\n",
       "0          0.960000        0.950382          15.0  breast  0.936937  0.929348   \n",
       "2          0.971429        0.961832          27.0  breast  0.956522  0.947368   \n",
       "4          0.960000        0.963740          37.0  breast  0.939130  0.949062   \n",
       "6          0.965714        0.965649          49.0  breast  0.948276  0.952880   \n",
       "8          0.954286        0.969466          61.0  breast  0.928571  0.957447   \n",
       "...             ...             ...           ...     ...       ...       ...   \n",
       "1590       0.939827        0.942830         492.0  amazon  0.968980  0.970574   \n",
       "1592       0.939827        0.942830         498.0  amazon  0.968980  0.970574   \n",
       "1594       0.939827        0.942830         501.0  amazon  0.968980  0.970574   \n",
       "1596       0.939827        0.942830         501.0  amazon  0.968980  0.970574   \n",
       "1598       0.939827        0.942830         508.0  amazon  0.968980  0.970574   \n",
       "\n",
       "     model_name  n_iter  new concepts num  roc_auc test  roc_auc train  \n",
       "0        fca_rf     0.0              15.0      0.978917       0.967384  \n",
       "2        fca_rf     1.0              12.0      0.993472       0.985410  \n",
       "4        fca_rf     2.0              10.0      0.992872       0.987674  \n",
       "6        fca_rf     3.0              12.0      0.992272       0.987937  \n",
       "8        fca_rf     4.0              12.0      0.993247       0.984501  \n",
       "...         ...     ...               ...           ...            ...  \n",
       "1590     fca_rf    95.0               5.0      0.563753       0.594483  \n",
       "1592     fca_rf    96.0               6.0      0.567376       0.598736  \n",
       "1594     fca_rf    97.0               3.0      0.571277       0.609416  \n",
       "1596     fca_rf    98.0               0.0      0.571277       0.609416  \n",
       "1598     fca_rf    99.0               7.0      0.572730       0.623245  \n",
       "\n",
       "[800 rows x 11 columns]"
      ]
     },
     "execution_count": 119,
     "metadata": {},
     "output_type": "execute_result"
    }
   ],
   "source": [
    "cds"
   ]
  },
  {
   "cell_type": "code",
   "execution_count": 117,
   "metadata": {},
   "outputs": [
    {
     "data": {
      "text/html": [
       "<div>\n",
       "<style scoped>\n",
       "    .dataframe tbody tr th:only-of-type {\n",
       "        vertical-align: middle;\n",
       "    }\n",
       "\n",
       "    .dataframe tbody tr th {\n",
       "        vertical-align: top;\n",
       "    }\n",
       "\n",
       "    .dataframe thead th {\n",
       "        text-align: right;\n",
       "    }\n",
       "</style>\n",
       "<table border=\"1\" class=\"dataframe\">\n",
       "  <thead>\n",
       "    <tr style=\"text-align: right;\">\n",
       "      <th></th>\n",
       "      <th>accuracy test</th>\n",
       "      <th>accuracy train</th>\n",
       "      <th>concepts num</th>\n",
       "      <th>ds</th>\n",
       "      <th>f1 test</th>\n",
       "      <th>f1 train</th>\n",
       "      <th>model_name</th>\n",
       "      <th>n_iter</th>\n",
       "      <th>new concepts num</th>\n",
       "      <th>roc_auc test</th>\n",
       "      <th>roc_auc train</th>\n",
       "    </tr>\n",
       "  </thead>\n",
       "  <tbody>\n",
       "    <tr>\n",
       "      <th>0</th>\n",
       "      <td>0.960000</td>\n",
       "      <td>0.950382</td>\n",
       "      <td>15.0</td>\n",
       "      <td>breast</td>\n",
       "      <td>0.936937</td>\n",
       "      <td>0.929348</td>\n",
       "      <td>fca_rf</td>\n",
       "      <td>0.0</td>\n",
       "      <td>15.0</td>\n",
       "      <td>0.978917</td>\n",
       "      <td>0.967384</td>\n",
       "    </tr>\n",
       "    <tr>\n",
       "      <th>1</th>\n",
       "      <td>0.971429</td>\n",
       "      <td>0.950382</td>\n",
       "      <td>NaN</td>\n",
       "      <td>breast</td>\n",
       "      <td>0.954955</td>\n",
       "      <td>0.929348</td>\n",
       "      <td>random_forest</td>\n",
       "      <td>0.0</td>\n",
       "      <td>NaN</td>\n",
       "      <td>0.946429</td>\n",
       "      <td>0.937854</td>\n",
       "    </tr>\n",
       "    <tr>\n",
       "      <th>2</th>\n",
       "      <td>0.971429</td>\n",
       "      <td>0.961832</td>\n",
       "      <td>27.0</td>\n",
       "      <td>breast</td>\n",
       "      <td>0.956522</td>\n",
       "      <td>0.947368</td>\n",
       "      <td>fca_rf</td>\n",
       "      <td>1.0</td>\n",
       "      <td>12.0</td>\n",
       "      <td>0.993472</td>\n",
       "      <td>0.985410</td>\n",
       "    </tr>\n",
       "    <tr>\n",
       "      <th>3</th>\n",
       "      <td>0.977143</td>\n",
       "      <td>0.963740</td>\n",
       "      <td>NaN</td>\n",
       "      <td>breast</td>\n",
       "      <td>0.964912</td>\n",
       "      <td>0.949602</td>\n",
       "      <td>random_forest</td>\n",
       "      <td>1.0</td>\n",
       "      <td>NaN</td>\n",
       "      <td>0.996474</td>\n",
       "      <td>0.981543</td>\n",
       "    </tr>\n",
       "    <tr>\n",
       "      <th>4</th>\n",
       "      <td>0.960000</td>\n",
       "      <td>0.963740</td>\n",
       "      <td>37.0</td>\n",
       "      <td>breast</td>\n",
       "      <td>0.939130</td>\n",
       "      <td>0.949062</td>\n",
       "      <td>fca_rf</td>\n",
       "      <td>2.0</td>\n",
       "      <td>10.0</td>\n",
       "      <td>0.992872</td>\n",
       "      <td>0.987674</td>\n",
       "    </tr>\n",
       "    <tr>\n",
       "      <th>...</th>\n",
       "      <td>...</td>\n",
       "      <td>...</td>\n",
       "      <td>...</td>\n",
       "      <td>...</td>\n",
       "      <td>...</td>\n",
       "      <td>...</td>\n",
       "      <td>...</td>\n",
       "      <td>...</td>\n",
       "      <td>...</td>\n",
       "      <td>...</td>\n",
       "      <td>...</td>\n",
       "    </tr>\n",
       "    <tr>\n",
       "      <th>1595</th>\n",
       "      <td>0.944343</td>\n",
       "      <td>0.945801</td>\n",
       "      <td>NaN</td>\n",
       "      <td>amazon</td>\n",
       "      <td>0.971303</td>\n",
       "      <td>0.972020</td>\n",
       "      <td>gradient_boosting</td>\n",
       "      <td>97.0</td>\n",
       "      <td>NaN</td>\n",
       "      <td>0.752300</td>\n",
       "      <td>0.856237</td>\n",
       "    </tr>\n",
       "    <tr>\n",
       "      <th>1596</th>\n",
       "      <td>0.944343</td>\n",
       "      <td>0.941772</td>\n",
       "      <td>2875.0</td>\n",
       "      <td>amazon</td>\n",
       "      <td>0.971364</td>\n",
       "      <td>0.970003</td>\n",
       "      <td>fca_gb</td>\n",
       "      <td>98.0</td>\n",
       "      <td>0.0</td>\n",
       "      <td>0.700104</td>\n",
       "      <td>0.770311</td>\n",
       "    </tr>\n",
       "    <tr>\n",
       "      <th>1597</th>\n",
       "      <td>0.944343</td>\n",
       "      <td>0.945801</td>\n",
       "      <td>NaN</td>\n",
       "      <td>amazon</td>\n",
       "      <td>0.971303</td>\n",
       "      <td>0.972020</td>\n",
       "      <td>gradient_boosting</td>\n",
       "      <td>98.0</td>\n",
       "      <td>NaN</td>\n",
       "      <td>0.752284</td>\n",
       "      <td>0.856210</td>\n",
       "    </tr>\n",
       "    <tr>\n",
       "      <th>1598</th>\n",
       "      <td>0.944343</td>\n",
       "      <td>0.941772</td>\n",
       "      <td>2875.0</td>\n",
       "      <td>amazon</td>\n",
       "      <td>0.971364</td>\n",
       "      <td>0.970003</td>\n",
       "      <td>fca_gb</td>\n",
       "      <td>99.0</td>\n",
       "      <td>0.0</td>\n",
       "      <td>0.700104</td>\n",
       "      <td>0.770311</td>\n",
       "    </tr>\n",
       "    <tr>\n",
       "      <th>1599</th>\n",
       "      <td>0.944343</td>\n",
       "      <td>0.945801</td>\n",
       "      <td>NaN</td>\n",
       "      <td>amazon</td>\n",
       "      <td>0.971303</td>\n",
       "      <td>0.972020</td>\n",
       "      <td>gradient_boosting</td>\n",
       "      <td>99.0</td>\n",
       "      <td>NaN</td>\n",
       "      <td>0.752269</td>\n",
       "      <td>0.856186</td>\n",
       "    </tr>\n",
       "  </tbody>\n",
       "</table>\n",
       "<p>3200 rows × 11 columns</p>\n",
       "</div>"
      ],
      "text/plain": [
       "      accuracy test  accuracy train  concepts num      ds   f1 test  f1 train  \\\n",
       "0          0.960000        0.950382          15.0  breast  0.936937  0.929348   \n",
       "1          0.971429        0.950382           NaN  breast  0.954955  0.929348   \n",
       "2          0.971429        0.961832          27.0  breast  0.956522  0.947368   \n",
       "3          0.977143        0.963740           NaN  breast  0.964912  0.949602   \n",
       "4          0.960000        0.963740          37.0  breast  0.939130  0.949062   \n",
       "...             ...             ...           ...     ...       ...       ...   \n",
       "1595       0.944343        0.945801           NaN  amazon  0.971303  0.972020   \n",
       "1596       0.944343        0.941772        2875.0  amazon  0.971364  0.970003   \n",
       "1597       0.944343        0.945801           NaN  amazon  0.971303  0.972020   \n",
       "1598       0.944343        0.941772        2875.0  amazon  0.971364  0.970003   \n",
       "1599       0.944343        0.945801           NaN  amazon  0.971303  0.972020   \n",
       "\n",
       "             model_name  n_iter  new concepts num  roc_auc test  roc_auc train  \n",
       "0                fca_rf     0.0              15.0      0.978917       0.967384  \n",
       "1         random_forest     0.0               NaN      0.946429       0.937854  \n",
       "2                fca_rf     1.0              12.0      0.993472       0.985410  \n",
       "3         random_forest     1.0               NaN      0.996474       0.981543  \n",
       "4                fca_rf     2.0              10.0      0.992872       0.987674  \n",
       "...                 ...     ...               ...           ...            ...  \n",
       "1595  gradient_boosting    97.0               NaN      0.752300       0.856237  \n",
       "1596             fca_gb    98.0               0.0      0.700104       0.770311  \n",
       "1597  gradient_boosting    98.0               NaN      0.752284       0.856210  \n",
       "1598             fca_gb    99.0               0.0      0.700104       0.770311  \n",
       "1599  gradient_boosting    99.0               NaN      0.752269       0.856186  \n",
       "\n",
       "[3200 rows x 11 columns]"
      ]
     },
     "execution_count": 117,
     "metadata": {},
     "output_type": "execute_result"
    }
   ],
   "source": [
    "stats_ds"
   ]
  },
  {
   "cell_type": "code",
   "execution_count": null,
   "metadata": {},
   "outputs": [],
   "source": []
  },
  {
   "cell_type": "code",
   "execution_count": null,
   "metadata": {},
   "outputs": [],
   "source": [
    "stats_rf_ds['ds']"
   ]
  },
  {
   "cell_type": "code",
   "execution_count": 85,
   "metadata": {},
   "outputs": [
    {
     "data": {
      "text/html": [
       "<div>\n",
       "<style scoped>\n",
       "    .dataframe tbody tr th:only-of-type {\n",
       "        vertical-align: middle;\n",
       "    }\n",
       "\n",
       "    .dataframe tbody tr th {\n",
       "        vertical-align: top;\n",
       "    }\n",
       "\n",
       "    .dataframe thead th {\n",
       "        text-align: right;\n",
       "    }\n",
       "</style>\n",
       "<table border=\"1\" class=\"dataframe\">\n",
       "  <thead>\n",
       "    <tr style=\"text-align: right;\">\n",
       "      <th></th>\n",
       "      <th>accuracy test</th>\n",
       "      <th>accuracy train</th>\n",
       "      <th>concepts num</th>\n",
       "      <th>f1 test</th>\n",
       "      <th>f1 train</th>\n",
       "      <th>model_name</th>\n",
       "      <th>n_iter</th>\n",
       "      <th>new concepts num</th>\n",
       "      <th>roc_auc test</th>\n",
       "      <th>roc_auc train</th>\n",
       "    </tr>\n",
       "  </thead>\n",
       "  <tbody>\n",
       "    <tr>\n",
       "      <th>0</th>\n",
       "      <td>0.942857</td>\n",
       "      <td>0.952290</td>\n",
       "      <td>13.0</td>\n",
       "      <td>0.905660</td>\n",
       "      <td>0.938272</td>\n",
       "      <td>fca_rf</td>\n",
       "      <td>0.0</td>\n",
       "      <td>13.0</td>\n",
       "      <td>0.985261</td>\n",
       "      <td>0.978837</td>\n",
       "    </tr>\n",
       "    <tr>\n",
       "      <th>1</th>\n",
       "      <td>0.954286</td>\n",
       "      <td>0.952290</td>\n",
       "      <td>NaN</td>\n",
       "      <td>0.923077</td>\n",
       "      <td>0.938272</td>\n",
       "      <td>random_forest</td>\n",
       "      <td>0.0</td>\n",
       "      <td>NaN</td>\n",
       "      <td>0.969793</td>\n",
       "      <td>0.973911</td>\n",
       "    </tr>\n",
       "    <tr>\n",
       "      <th>2</th>\n",
       "      <td>0.942857</td>\n",
       "      <td>0.958015</td>\n",
       "      <td>25.0</td>\n",
       "      <td>0.901961</td>\n",
       "      <td>0.943878</td>\n",
       "      <td>fca_rf</td>\n",
       "      <td>1.0</td>\n",
       "      <td>12.0</td>\n",
       "      <td>0.986395</td>\n",
       "      <td>0.983245</td>\n",
       "    </tr>\n",
       "    <tr>\n",
       "      <th>3</th>\n",
       "      <td>0.948571</td>\n",
       "      <td>0.958015</td>\n",
       "      <td>NaN</td>\n",
       "      <td>0.907216</td>\n",
       "      <td>0.943590</td>\n",
       "      <td>random_forest</td>\n",
       "      <td>1.0</td>\n",
       "      <td>NaN</td>\n",
       "      <td>0.976757</td>\n",
       "      <td>0.978272</td>\n",
       "    </tr>\n",
       "    <tr>\n",
       "      <th>4</th>\n",
       "      <td>0.960000</td>\n",
       "      <td>0.963740</td>\n",
       "      <td>37.0</td>\n",
       "      <td>0.929293</td>\n",
       "      <td>0.951899</td>\n",
       "      <td>fca_rf</td>\n",
       "      <td>2.0</td>\n",
       "      <td>12.0</td>\n",
       "      <td>0.984613</td>\n",
       "      <td>0.987395</td>\n",
       "    </tr>\n",
       "    <tr>\n",
       "      <th>...</th>\n",
       "      <td>...</td>\n",
       "      <td>...</td>\n",
       "      <td>...</td>\n",
       "      <td>...</td>\n",
       "      <td>...</td>\n",
       "      <td>...</td>\n",
       "      <td>...</td>\n",
       "      <td>...</td>\n",
       "      <td>...</td>\n",
       "      <td>...</td>\n",
       "    </tr>\n",
       "    <tr>\n",
       "      <th>2434</th>\n",
       "      <td>0.895594</td>\n",
       "      <td>0.898862</td>\n",
       "      <td>208.0</td>\n",
       "      <td>0.311696</td>\n",
       "      <td>0.376564</td>\n",
       "      <td>fca_rf</td>\n",
       "      <td>72.0</td>\n",
       "      <td>0.0</td>\n",
       "      <td>0.673959</td>\n",
       "      <td>0.720938</td>\n",
       "    </tr>\n",
       "    <tr>\n",
       "      <th>2435</th>\n",
       "      <td>0.898882</td>\n",
       "      <td>0.899794</td>\n",
       "      <td>NaN</td>\n",
       "      <td>0.397206</td>\n",
       "      <td>0.399634</td>\n",
       "      <td>random_forest</td>\n",
       "      <td>72.0</td>\n",
       "      <td>NaN</td>\n",
       "      <td>0.739724</td>\n",
       "      <td>0.742311</td>\n",
       "    </tr>\n",
       "    <tr>\n",
       "      <th>2436</th>\n",
       "      <td>0.895594</td>\n",
       "      <td>0.898770</td>\n",
       "      <td>209.0</td>\n",
       "      <td>0.321846</td>\n",
       "      <td>0.383814</td>\n",
       "      <td>fca_rf</td>\n",
       "      <td>73.0</td>\n",
       "      <td>1.0</td>\n",
       "      <td>0.671688</td>\n",
       "      <td>0.719208</td>\n",
       "    </tr>\n",
       "    <tr>\n",
       "      <th>2437</th>\n",
       "      <td>0.898882</td>\n",
       "      <td>0.899794</td>\n",
       "      <td>NaN</td>\n",
       "      <td>0.397608</td>\n",
       "      <td>0.400133</td>\n",
       "      <td>random_forest</td>\n",
       "      <td>73.0</td>\n",
       "      <td>NaN</td>\n",
       "      <td>0.739755</td>\n",
       "      <td>0.742311</td>\n",
       "    </tr>\n",
       "    <tr>\n",
       "      <th>2438</th>\n",
       "      <td>0.895594</td>\n",
       "      <td>0.898770</td>\n",
       "      <td>209.0</td>\n",
       "      <td>0.321846</td>\n",
       "      <td>0.383814</td>\n",
       "      <td>fca_rf</td>\n",
       "      <td>74.0</td>\n",
       "      <td>0.0</td>\n",
       "      <td>0.671688</td>\n",
       "      <td>0.719208</td>\n",
       "    </tr>\n",
       "  </tbody>\n",
       "</table>\n",
       "<p>2439 rows × 10 columns</p>\n",
       "</div>"
      ],
      "text/plain": [
       "      accuracy test  accuracy train  concepts num   f1 test  f1 train  \\\n",
       "0          0.942857        0.952290          13.0  0.905660  0.938272   \n",
       "1          0.954286        0.952290           NaN  0.923077  0.938272   \n",
       "2          0.942857        0.958015          25.0  0.901961  0.943878   \n",
       "3          0.948571        0.958015           NaN  0.907216  0.943590   \n",
       "4          0.960000        0.963740          37.0  0.929293  0.951899   \n",
       "...             ...             ...           ...       ...       ...   \n",
       "2434       0.895594        0.898862         208.0  0.311696  0.376564   \n",
       "2435       0.898882        0.899794           NaN  0.397206  0.399634   \n",
       "2436       0.895594        0.898770         209.0  0.321846  0.383814   \n",
       "2437       0.898882        0.899794           NaN  0.397608  0.400133   \n",
       "2438       0.895594        0.898770         209.0  0.321846  0.383814   \n",
       "\n",
       "         model_name  n_iter  new concepts num  roc_auc test  roc_auc train  \n",
       "0            fca_rf     0.0              13.0      0.985261       0.978837  \n",
       "1     random_forest     0.0               NaN      0.969793       0.973911  \n",
       "2            fca_rf     1.0              12.0      0.986395       0.983245  \n",
       "3     random_forest     1.0               NaN      0.976757       0.978272  \n",
       "4            fca_rf     2.0              12.0      0.984613       0.987395  \n",
       "...             ...     ...               ...           ...            ...  \n",
       "2434         fca_rf    72.0               0.0      0.673959       0.720938  \n",
       "2435  random_forest    72.0               NaN      0.739724       0.742311  \n",
       "2436         fca_rf    73.0               1.0      0.671688       0.719208  \n",
       "2437  random_forest    73.0               NaN      0.739755       0.742311  \n",
       "2438         fca_rf    74.0               0.0      0.671688       0.719208  \n",
       "\n",
       "[2439 rows x 10 columns]"
      ]
     },
     "execution_count": 85,
     "metadata": {},
     "output_type": "execute_result"
    }
   ],
   "source": [
    "stats_rf_ds"
   ]
  },
  {
   "cell_type": "code",
   "execution_count": 84,
   "metadata": {},
   "outputs": [
    {
     "data": {
      "text/plain": [
       "2439"
      ]
     },
     "execution_count": 84,
     "metadata": {},
     "output_type": "execute_result"
    }
   ],
   "source": [
    "len(stats_rf_ds)"
   ]
  },
  {
   "cell_type": "code",
   "execution_count": 87,
   "metadata": {},
   "outputs": [
    {
     "data": {
      "text/plain": [
       "100"
      ]
     },
     "execution_count": 87,
     "metadata": {},
     "output_type": "execute_result"
    }
   ],
   "source": [
    "n_iters"
   ]
  },
  {
   "cell_type": "code",
   "execution_count": 86,
   "metadata": {},
   "outputs": [
    {
     "data": {
      "text/plain": [
       "1800"
      ]
     },
     "execution_count": 86,
     "metadata": {},
     "output_type": "execute_result"
    }
   ],
   "source": [
    "len([x for data_name in data_names for x in [data_name]*n_iters*2])"
   ]
  },
  {
   "cell_type": "code",
   "execution_count": null,
   "metadata": {},
   "outputs": [],
   "source": []
  },
  {
   "cell_type": "code",
   "execution_count": 77,
   "metadata": {},
   "outputs": [
    {
     "data": {
      "text/plain": [
       "<matplotlib.axes._subplots.AxesSubplot at 0x7f26db46c8d0>"
      ]
     },
     "execution_count": 77,
     "metadata": {},
     "output_type": "execute_result"
    },
    {
     "data": {
      "image/png": "[encoded data removed]",
      "text/plain": [
       "<Figure size 432x288 with 1 Axes>"
      ]
     },
     "metadata": {
      "needs_background": "light"
     },
     "output_type": "display_data"
    }
   ],
   "source": [
    "sns.lineplot(x='n_iter', y='accuracy train', hue='model_name',  data=stats_rf_ds)"
   ]
  },
  {
   "cell_type": "code",
   "execution_count": 75,
   "metadata": {},
   "outputs": [
    {
     "data": {
      "text/html": [
       "<div>\n",
       "<style scoped>\n",
       "    .dataframe tbody tr th:only-of-type {\n",
       "        vertical-align: middle;\n",
       "    }\n",
       "\n",
       "    .dataframe tbody tr th {\n",
       "        vertical-align: top;\n",
       "    }\n",
       "\n",
       "    .dataframe thead th {\n",
       "        text-align: right;\n",
       "    }\n",
       "</style>\n",
       "<table border=\"1\" class=\"dataframe\">\n",
       "  <thead>\n",
       "    <tr style=\"text-align: right;\">\n",
       "      <th></th>\n",
       "      <th>accuracy test</th>\n",
       "      <th>accuracy train</th>\n",
       "      <th>concepts num</th>\n",
       "      <th>f1 test</th>\n",
       "      <th>f1 train</th>\n",
       "      <th>model_name</th>\n",
       "      <th>n_iter</th>\n",
       "      <th>new concepts num</th>\n",
       "      <th>roc_auc test</th>\n",
       "      <th>roc_auc train</th>\n",
       "    </tr>\n",
       "  </thead>\n",
       "  <tbody>\n",
       "    <tr>\n",
       "      <th>0</th>\n",
       "      <td>0.942857</td>\n",
       "      <td>0.952290</td>\n",
       "      <td>13.0</td>\n",
       "      <td>0.905660</td>\n",
       "      <td>0.938272</td>\n",
       "      <td>fca_rf</td>\n",
       "      <td>0.0</td>\n",
       "      <td>13.0</td>\n",
       "      <td>0.985261</td>\n",
       "      <td>0.978837</td>\n",
       "    </tr>\n",
       "    <tr>\n",
       "      <th>1</th>\n",
       "      <td>0.954286</td>\n",
       "      <td>0.952290</td>\n",
       "      <td>NaN</td>\n",
       "      <td>0.923077</td>\n",
       "      <td>0.938272</td>\n",
       "      <td>random_forest</td>\n",
       "      <td>0.0</td>\n",
       "      <td>NaN</td>\n",
       "      <td>0.969793</td>\n",
       "      <td>0.973911</td>\n",
       "    </tr>\n",
       "    <tr>\n",
       "      <th>2</th>\n",
       "      <td>0.942857</td>\n",
       "      <td>0.958015</td>\n",
       "      <td>25.0</td>\n",
       "      <td>0.901961</td>\n",
       "      <td>0.943878</td>\n",
       "      <td>fca_rf</td>\n",
       "      <td>1.0</td>\n",
       "      <td>12.0</td>\n",
       "      <td>0.986395</td>\n",
       "      <td>0.983245</td>\n",
       "    </tr>\n",
       "    <tr>\n",
       "      <th>3</th>\n",
       "      <td>0.948571</td>\n",
       "      <td>0.958015</td>\n",
       "      <td>NaN</td>\n",
       "      <td>0.907216</td>\n",
       "      <td>0.943590</td>\n",
       "      <td>random_forest</td>\n",
       "      <td>1.0</td>\n",
       "      <td>NaN</td>\n",
       "      <td>0.976757</td>\n",
       "      <td>0.978272</td>\n",
       "    </tr>\n",
       "    <tr>\n",
       "      <th>4</th>\n",
       "      <td>0.960000</td>\n",
       "      <td>0.963740</td>\n",
       "      <td>37.0</td>\n",
       "      <td>0.929293</td>\n",
       "      <td>0.951899</td>\n",
       "      <td>fca_rf</td>\n",
       "      <td>2.0</td>\n",
       "      <td>12.0</td>\n",
       "      <td>0.984613</td>\n",
       "      <td>0.987395</td>\n",
       "    </tr>\n",
       "    <tr>\n",
       "      <th>...</th>\n",
       "      <td>...</td>\n",
       "      <td>...</td>\n",
       "      <td>...</td>\n",
       "      <td>...</td>\n",
       "      <td>...</td>\n",
       "      <td>...</td>\n",
       "      <td>...</td>\n",
       "      <td>...</td>\n",
       "      <td>...</td>\n",
       "      <td>...</td>\n",
       "    </tr>\n",
       "    <tr>\n",
       "      <th>2434</th>\n",
       "      <td>0.895594</td>\n",
       "      <td>0.898862</td>\n",
       "      <td>208.0</td>\n",
       "      <td>0.311696</td>\n",
       "      <td>0.376564</td>\n",
       "      <td>fca_rf</td>\n",
       "      <td>72.0</td>\n",
       "      <td>0.0</td>\n",
       "      <td>0.673959</td>\n",
       "      <td>0.720938</td>\n",
       "    </tr>\n",
       "    <tr>\n",
       "      <th>2435</th>\n",
       "      <td>0.898882</td>\n",
       "      <td>0.899794</td>\n",
       "      <td>NaN</td>\n",
       "      <td>0.397206</td>\n",
       "      <td>0.399634</td>\n",
       "      <td>random_forest</td>\n",
       "      <td>72.0</td>\n",
       "      <td>NaN</td>\n",
       "      <td>0.739724</td>\n",
       "      <td>0.742311</td>\n",
       "    </tr>\n",
       "    <tr>\n",
       "      <th>2436</th>\n",
       "      <td>0.895594</td>\n",
       "      <td>0.898770</td>\n",
       "      <td>209.0</td>\n",
       "      <td>0.321846</td>\n",
       "      <td>0.383814</td>\n",
       "      <td>fca_rf</td>\n",
       "      <td>73.0</td>\n",
       "      <td>1.0</td>\n",
       "      <td>0.671688</td>\n",
       "      <td>0.719208</td>\n",
       "    </tr>\n",
       "    <tr>\n",
       "      <th>2437</th>\n",
       "      <td>0.898882</td>\n",
       "      <td>0.899794</td>\n",
       "      <td>NaN</td>\n",
       "      <td>0.397608</td>\n",
       "      <td>0.400133</td>\n",
       "      <td>random_forest</td>\n",
       "      <td>73.0</td>\n",
       "      <td>NaN</td>\n",
       "      <td>0.739755</td>\n",
       "      <td>0.742311</td>\n",
       "    </tr>\n",
       "    <tr>\n",
       "      <th>2438</th>\n",
       "      <td>0.895594</td>\n",
       "      <td>0.898770</td>\n",
       "      <td>209.0</td>\n",
       "      <td>0.321846</td>\n",
       "      <td>0.383814</td>\n",
       "      <td>fca_rf</td>\n",
       "      <td>74.0</td>\n",
       "      <td>0.0</td>\n",
       "      <td>0.671688</td>\n",
       "      <td>0.719208</td>\n",
       "    </tr>\n",
       "  </tbody>\n",
       "</table>\n",
       "<p>2439 rows × 10 columns</p>\n",
       "</div>"
      ],
      "text/plain": [
       "      accuracy test  accuracy train  concepts num   f1 test  f1 train  \\\n",
       "0          0.942857        0.952290          13.0  0.905660  0.938272   \n",
       "1          0.954286        0.952290           NaN  0.923077  0.938272   \n",
       "2          0.942857        0.958015          25.0  0.901961  0.943878   \n",
       "3          0.948571        0.958015           NaN  0.907216  0.943590   \n",
       "4          0.960000        0.963740          37.0  0.929293  0.951899   \n",
       "...             ...             ...           ...       ...       ...   \n",
       "2434       0.895594        0.898862         208.0  0.311696  0.376564   \n",
       "2435       0.898882        0.899794           NaN  0.397206  0.399634   \n",
       "2436       0.895594        0.898770         209.0  0.321846  0.383814   \n",
       "2437       0.898882        0.899794           NaN  0.397608  0.400133   \n",
       "2438       0.895594        0.898770         209.0  0.321846  0.383814   \n",
       "\n",
       "         model_name  n_iter  new concepts num  roc_auc test  roc_auc train  \n",
       "0            fca_rf     0.0              13.0      0.985261       0.978837  \n",
       "1     random_forest     0.0               NaN      0.969793       0.973911  \n",
       "2            fca_rf     1.0              12.0      0.986395       0.983245  \n",
       "3     random_forest     1.0               NaN      0.976757       0.978272  \n",
       "4            fca_rf     2.0              12.0      0.984613       0.987395  \n",
       "...             ...     ...               ...           ...            ...  \n",
       "2434         fca_rf    72.0               0.0      0.673959       0.720938  \n",
       "2435  random_forest    72.0               NaN      0.739724       0.742311  \n",
       "2436         fca_rf    73.0               1.0      0.671688       0.719208  \n",
       "2437  random_forest    73.0               NaN      0.739755       0.742311  \n",
       "2438         fca_rf    74.0               0.0      0.671688       0.719208  \n",
       "\n",
       "[2439 rows x 10 columns]"
      ]
     },
     "execution_count": 75,
     "metadata": {},
     "output_type": "execute_result"
    }
   ],
   "source": [
    "stats_rf_ds"
   ]
  },
  {
   "cell_type": "markdown",
   "metadata": {},
   "source": [
    "# Production way"
   ]
  },
  {
   "cell_type": "code",
   "execution_count": 264,
   "metadata": {},
   "outputs": [],
   "source": [
    "fcai = reload(fcai)"
   ]
  },
  {
   "cell_type": "code",
   "execution_count": 265,
   "metadata": {},
   "outputs": [],
   "source": [
    "cntx_train = fcai.MultiValuedContext(X_train, objs=[str(x) for x in X_train.index], y_true=y_train, cat_attrs=cat_feats)\n",
    "cntx_test = fcai.MultiValuedContext(X_test, objs=[str(x) for x in X_test.index], y_true=y_test, cat_attrs=cat_feats)\n",
    "fm = fcai.FormalManager(cntx_train)"
   ]
  },
  {
   "cell_type": "code",
   "execution_count": 271,
   "metadata": {},
   "outputs": [
    {
     "data": {
      "application/vnd.jupyter.widget-view+json": {
       "model_id": "772f2fdf7db7497bb42080208219a958",
       "version_major": 2,
       "version_minor": 0
      },
      "text/plain": [
       "HBox(children=(FloatProgress(value=0.0, max=2.0), HTML(value='')))"
      ]
     },
     "metadata": {},
     "output_type": "display_data"
    },
    {
     "name": "stdout",
     "output_type": "stream",
     "text": [
      "\n"
     ]
    },
    {
     "data": {
      "application/vnd.jupyter.widget-view+json": {
       "model_id": "b5c88b52895c45d090a7523e3e524186",
       "version_major": 2,
       "version_minor": 0
      },
      "text/plain": [
       "HBox(children=(FloatProgress(value=0.0, description='Postprocessing', max=587.0, style=ProgressStyle(descripti…"
      ]
     },
     "metadata": {},
     "output_type": "display_data"
    },
    {
     "name": "stdout",
     "output_type": "stream",
     "text": [
      "\n"
     ]
    }
   ],
   "source": [
    "fm.construct_concepts(algo='GradientForest', rf_params={'n_estimators':5, 'max_depth':None}, n_layers=2)"
   ]
  },
  {
   "cell_type": "code",
   "execution_count": 272,
   "metadata": {},
   "outputs": [],
   "source": [
    "preds = fm.predict_context(cntx_test).flatten()"
   ]
  },
  {
   "cell_type": "code",
   "execution_count": 273,
   "metadata": {},
   "outputs": [
    {
     "data": {
      "text/plain": [
       "0.989937641723356"
      ]
     },
     "execution_count": 273,
     "metadata": {},
     "output_type": "execute_result"
    }
   ],
   "source": [
    "roc_auc_score(y_test, preds)"
   ]
  },
  {
   "cell_type": "code",
   "execution_count": null,
   "metadata": {},
   "outputs": [],
   "source": []
  }
 ],
 "metadata": {
  "kernelspec": {
   "display_name": "Python 3",
   "language": "python",
   "name": "python3"
  },
  "language_info": {
   "codemirror_mode": {
    "name": "ipython",
    "version": 3
   },
   "file_extension": ".py",
   "mimetype": "text/x-python",
   "name": "python",
   "nbconvert_exporter": "python",
   "pygments_lexer": "ipython3",
   "version": "3.7.6"
  }
 },
 "nbformat": 4,
 "nbformat_minor": 4
}
