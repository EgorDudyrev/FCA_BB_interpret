{
 "cells": [
  {
   "cell_type": "code",
   "execution_count": 1,
   "metadata": {},
   "outputs": [
    {
     "data": {
      "text/html": [
       "<style>.container { width:90% !important; }</style>"
      ],
      "text/plain": [
       "<IPython.core.display.HTML object>"
      ]
     },
     "metadata": {},
     "output_type": "display_data"
    }
   ],
   "source": [
    "import numpy as np\n",
    "import pandas as pd\n",
    "\n",
    "from catboost import CatBoostClassifier, Pool, CatBoostRegressor\n",
    "from sklearn.model_selection import train_test_split\n",
    "from sklearn.metrics import accuracy_score, precision_score, recall_score, roc_auc_score\n",
    "\n",
    "from IPython.core.display import display, HTML\n",
    "display(HTML(\"<style>.container { width:90% !important; }</style>\"))\n",
    "\n",
    "import os\n",
    "import sys\n",
    "BASE_PATH = os.path.realpath('..')\n",
    "DATASETS_DIR = os.path.join(BASE_PATH, 'datasets')\n",
    "LIB_DIR = os.path.join(BASE_PATH,'lib')\n",
    "if LIB_DIR[:-3] not in sys.path:\n",
    "    sys.path.append(LIB_DIR[:-3])\n",
    "\n",
    "import matplotlib.pyplot as plt\n",
    "import seaborn as sns\n",
    "from tqdm.notebook import tqdm\n",
    "\n",
    "from importlib import reload"
   ]
  },
  {
   "cell_type": "code",
   "execution_count": 81,
   "metadata": {},
   "outputs": [],
   "source": [
    "from sklearn.metrics import roc_curve"
   ]
  },
  {
   "cell_type": "code",
   "execution_count": 2,
   "metadata": {},
   "outputs": [],
   "source": [
    "RESULTS_DIR = os.path.join(BASE_PATH, 'results')"
   ]
  },
  {
   "cell_type": "code",
   "execution_count": 3,
   "metadata": {},
   "outputs": [],
   "source": [
    "from lib import fca_interp as fcai\n",
    "from lib.utils_ import powerset\n",
    "from importlib import reload"
   ]
  },
  {
   "cell_type": "code",
   "execution_count": 4,
   "metadata": {},
   "outputs": [],
   "source": [
    "from copy import copy, deepcopy"
   ]
  },
  {
   "cell_type": "markdown",
   "metadata": {},
   "source": [
    "# Load Data"
   ]
  },
  {
   "cell_type": "code",
   "execution_count": 5,
   "metadata": {},
   "outputs": [],
   "source": [
    "data_dict = {}"
   ]
  },
  {
   "cell_type": "markdown",
   "metadata": {},
   "source": [
    "## Adult DS"
   ]
  },
  {
   "cell_type": "code",
   "execution_count": 6,
   "metadata": {},
   "outputs": [
    {
     "name": "stdout",
     "output_type": "stream",
     "text": [
      "(32561, 16)\n"
     ]
    },
    {
     "data": {
      "text/html": [
       "<div>\n",
       "<style scoped>\n",
       "    .dataframe tbody tr th:only-of-type {\n",
       "        vertical-align: middle;\n",
       "    }\n",
       "\n",
       "    .dataframe tbody tr th {\n",
       "        vertical-align: top;\n",
       "    }\n",
       "\n",
       "    .dataframe thead th {\n",
       "        text-align: right;\n",
       "    }\n",
       "</style>\n",
       "<table border=\"1\" class=\"dataframe\">\n",
       "  <thead>\n",
       "    <tr style=\"text-align: right;\">\n",
       "      <th></th>\n",
       "      <th>age</th>\n",
       "      <th>workclass</th>\n",
       "      <th>fnlwgt</th>\n",
       "      <th>education</th>\n",
       "      <th>education-num</th>\n",
       "      <th>marital-status</th>\n",
       "      <th>occupation</th>\n",
       "      <th>relationship</th>\n",
       "      <th>race</th>\n",
       "      <th>sex</th>\n",
       "      <th>capital-gain</th>\n",
       "      <th>capital-loss</th>\n",
       "      <th>hours-per-week</th>\n",
       "      <th>native-country</th>\n",
       "      <th>y</th>\n",
       "      <th>y_bin</th>\n",
       "    </tr>\n",
       "  </thead>\n",
       "  <tbody>\n",
       "    <tr>\n",
       "      <th>0</th>\n",
       "      <td>39</td>\n",
       "      <td>State-gov</td>\n",
       "      <td>77516</td>\n",
       "      <td>Bachelors</td>\n",
       "      <td>13</td>\n",
       "      <td>Never-married</td>\n",
       "      <td>Adm-clerical</td>\n",
       "      <td>Not-in-family</td>\n",
       "      <td>White</td>\n",
       "      <td>Male</td>\n",
       "      <td>2174</td>\n",
       "      <td>0</td>\n",
       "      <td>40</td>\n",
       "      <td>United-States</td>\n",
       "      <td>&lt;=50K</td>\n",
       "      <td>0</td>\n",
       "    </tr>\n",
       "    <tr>\n",
       "      <th>1</th>\n",
       "      <td>50</td>\n",
       "      <td>Self-emp-not-inc</td>\n",
       "      <td>83311</td>\n",
       "      <td>Bachelors</td>\n",
       "      <td>13</td>\n",
       "      <td>Married-civ-spouse</td>\n",
       "      <td>Exec-managerial</td>\n",
       "      <td>Husband</td>\n",
       "      <td>White</td>\n",
       "      <td>Male</td>\n",
       "      <td>0</td>\n",
       "      <td>0</td>\n",
       "      <td>13</td>\n",
       "      <td>United-States</td>\n",
       "      <td>&lt;=50K</td>\n",
       "      <td>0</td>\n",
       "    </tr>\n",
       "  </tbody>\n",
       "</table>\n",
       "</div>"
      ],
      "text/plain": [
       "   age          workclass  fnlwgt   education  education-num  \\\n",
       "0   39          State-gov   77516   Bachelors             13   \n",
       "1   50   Self-emp-not-inc   83311   Bachelors             13   \n",
       "\n",
       "        marital-status        occupation    relationship    race    sex  \\\n",
       "0        Never-married      Adm-clerical   Not-in-family   White   Male   \n",
       "1   Married-civ-spouse   Exec-managerial         Husband   White   Male   \n",
       "\n",
       "   capital-gain  capital-loss  hours-per-week  native-country       y  y_bin  \n",
       "0          2174             0              40   United-States   <=50K      0  \n",
       "1             0             0              13   United-States   <=50K      0  "
      ]
     },
     "execution_count": 6,
     "metadata": {},
     "output_type": "execute_result"
    }
   ],
   "source": [
    "adult_ds = pd.read_csv(DATASETS_DIR+'/adult/adult.data', header=None)\n",
    "fs = ['age','workclass', 'fnlwgt', 'education', 'education-num', 'marital-status', 'occupation',\n",
    "      'relationship', 'race', 'sex', 'capital-gain', 'capital-loss','hours-per-week','native-country',\n",
    "      'y']\n",
    "adult_ds.columns = fs\n",
    "adult_ds['y_bin'] = (adult_ds['y']==' >50K').astype(int)\n",
    "cat_feats = ['workclass','education','marital-status','occupation','relationship','race','sex','native-country']\n",
    "y_feat = 'y_bin'\n",
    "train_feats = ['age','workclass','fnlwgt','education','education-num','marital-status','occupation','relationship','race','sex','capital-loss','native-country']\n",
    "adult_ds.drop(train_feats,1)\n",
    "\n",
    "print(adult_ds.shape)\n",
    "adult_ds.head(2)"
   ]
  },
  {
   "cell_type": "code",
   "execution_count": 7,
   "metadata": {},
   "outputs": [],
   "source": [
    "data_dict['adult'] = {'ds':adult_ds, 'train_feats':train_feats, 'cat_feats':cat_feats, 'y_feat':y_feat,}"
   ]
  },
  {
   "cell_type": "markdown",
   "metadata": {},
   "source": [
    "## Amazon DS"
   ]
  },
  {
   "cell_type": "code",
   "execution_count": 8,
   "metadata": {},
   "outputs": [
    {
     "name": "stdout",
     "output_type": "stream",
     "text": [
      "(32769, 10)\n"
     ]
    },
    {
     "data": {
      "text/html": [
       "<div>\n",
       "<style scoped>\n",
       "    .dataframe tbody tr th:only-of-type {\n",
       "        vertical-align: middle;\n",
       "    }\n",
       "\n",
       "    .dataframe tbody tr th {\n",
       "        vertical-align: top;\n",
       "    }\n",
       "\n",
       "    .dataframe thead th {\n",
       "        text-align: right;\n",
       "    }\n",
       "</style>\n",
       "<table border=\"1\" class=\"dataframe\">\n",
       "  <thead>\n",
       "    <tr style=\"text-align: right;\">\n",
       "      <th></th>\n",
       "      <th>ACTION</th>\n",
       "      <th>RESOURCE</th>\n",
       "      <th>MGR_ID</th>\n",
       "      <th>ROLE_ROLLUP_1</th>\n",
       "      <th>ROLE_ROLLUP_2</th>\n",
       "      <th>ROLE_DEPTNAME</th>\n",
       "      <th>ROLE_TITLE</th>\n",
       "      <th>ROLE_FAMILY_DESC</th>\n",
       "      <th>ROLE_FAMILY</th>\n",
       "      <th>ROLE_CODE</th>\n",
       "    </tr>\n",
       "  </thead>\n",
       "  <tbody>\n",
       "    <tr>\n",
       "      <th>0</th>\n",
       "      <td>1</td>\n",
       "      <td>39353</td>\n",
       "      <td>85475</td>\n",
       "      <td>117961</td>\n",
       "      <td>118300</td>\n",
       "      <td>123472</td>\n",
       "      <td>117905</td>\n",
       "      <td>117906</td>\n",
       "      <td>290919</td>\n",
       "      <td>117908</td>\n",
       "    </tr>\n",
       "    <tr>\n",
       "      <th>1</th>\n",
       "      <td>1</td>\n",
       "      <td>17183</td>\n",
       "      <td>1540</td>\n",
       "      <td>117961</td>\n",
       "      <td>118343</td>\n",
       "      <td>123125</td>\n",
       "      <td>118536</td>\n",
       "      <td>118536</td>\n",
       "      <td>308574</td>\n",
       "      <td>118539</td>\n",
       "    </tr>\n",
       "    <tr>\n",
       "      <th>2</th>\n",
       "      <td>1</td>\n",
       "      <td>36724</td>\n",
       "      <td>14457</td>\n",
       "      <td>118219</td>\n",
       "      <td>118220</td>\n",
       "      <td>117884</td>\n",
       "      <td>117879</td>\n",
       "      <td>267952</td>\n",
       "      <td>19721</td>\n",
       "      <td>117880</td>\n",
       "    </tr>\n",
       "    <tr>\n",
       "      <th>3</th>\n",
       "      <td>1</td>\n",
       "      <td>36135</td>\n",
       "      <td>5396</td>\n",
       "      <td>117961</td>\n",
       "      <td>118343</td>\n",
       "      <td>119993</td>\n",
       "      <td>118321</td>\n",
       "      <td>240983</td>\n",
       "      <td>290919</td>\n",
       "      <td>118322</td>\n",
       "    </tr>\n",
       "    <tr>\n",
       "      <th>4</th>\n",
       "      <td>1</td>\n",
       "      <td>42680</td>\n",
       "      <td>5905</td>\n",
       "      <td>117929</td>\n",
       "      <td>117930</td>\n",
       "      <td>119569</td>\n",
       "      <td>119323</td>\n",
       "      <td>123932</td>\n",
       "      <td>19793</td>\n",
       "      <td>119325</td>\n",
       "    </tr>\n",
       "  </tbody>\n",
       "</table>\n",
       "</div>"
      ],
      "text/plain": [
       "   ACTION  RESOURCE  MGR_ID  ROLE_ROLLUP_1  ROLE_ROLLUP_2  ROLE_DEPTNAME  \\\n",
       "0       1     39353   85475         117961         118300         123472   \n",
       "1       1     17183    1540         117961         118343         123125   \n",
       "2       1     36724   14457         118219         118220         117884   \n",
       "3       1     36135    5396         117961         118343         119993   \n",
       "4       1     42680    5905         117929         117930         119569   \n",
       "\n",
       "   ROLE_TITLE  ROLE_FAMILY_DESC  ROLE_FAMILY  ROLE_CODE  \n",
       "0      117905            117906       290919     117908  \n",
       "1      118536            118536       308574     118539  \n",
       "2      117879            267952        19721     117880  \n",
       "3      118321            240983       290919     118322  \n",
       "4      119323            123932        19793     119325  "
      ]
     },
     "execution_count": 8,
     "metadata": {},
     "output_type": "execute_result"
    }
   ],
   "source": [
    "amaz_ds = pd.read_csv(DATASETS_DIR+'/amazon/train.csv')\n",
    "y_feat = 'ACTION'\n",
    "train_feats = ['MGR_ID','ROLE_ROLLUP_1','ROLE_ROLLUP_2','ROLE_DEPTNAME',\n",
    "               'ROLE_TITLE','ROLE_FAMILY_DESC','ROLE_FAMILY','ROLE_CODE']\n",
    "cat_feats = []\n",
    "\n",
    "print(amaz_ds.shape)\n",
    "amaz_ds.head()"
   ]
  },
  {
   "cell_type": "code",
   "execution_count": 9,
   "metadata": {},
   "outputs": [],
   "source": [
    "data_dict['amazon'] = {'ds':amaz_ds, 'train_feats':train_feats, 'cat_feats':cat_feats, 'y_feat':y_feat}"
   ]
  },
  {
   "cell_type": "markdown",
   "metadata": {},
   "source": [
    "## Bank DS"
   ]
  },
  {
   "cell_type": "code",
   "execution_count": 10,
   "metadata": {},
   "outputs": [
    {
     "name": "stdout",
     "output_type": "stream",
     "text": [
      "(4521, 17)\n"
     ]
    },
    {
     "data": {
      "text/html": [
       "<div>\n",
       "<style scoped>\n",
       "    .dataframe tbody tr th:only-of-type {\n",
       "        vertical-align: middle;\n",
       "    }\n",
       "\n",
       "    .dataframe tbody tr th {\n",
       "        vertical-align: top;\n",
       "    }\n",
       "\n",
       "    .dataframe thead th {\n",
       "        text-align: right;\n",
       "    }\n",
       "</style>\n",
       "<table border=\"1\" class=\"dataframe\">\n",
       "  <thead>\n",
       "    <tr style=\"text-align: right;\">\n",
       "      <th></th>\n",
       "      <th>age</th>\n",
       "      <th>job</th>\n",
       "      <th>marital</th>\n",
       "      <th>education</th>\n",
       "      <th>default</th>\n",
       "      <th>balance</th>\n",
       "      <th>housing</th>\n",
       "      <th>loan</th>\n",
       "      <th>contact</th>\n",
       "      <th>day</th>\n",
       "      <th>month</th>\n",
       "      <th>duration</th>\n",
       "      <th>campaign</th>\n",
       "      <th>pdays</th>\n",
       "      <th>previous</th>\n",
       "      <th>poutcome</th>\n",
       "      <th>y</th>\n",
       "    </tr>\n",
       "  </thead>\n",
       "  <tbody>\n",
       "    <tr>\n",
       "      <th>0</th>\n",
       "      <td>30</td>\n",
       "      <td>unemployed</td>\n",
       "      <td>married</td>\n",
       "      <td>primary</td>\n",
       "      <td>0</td>\n",
       "      <td>1787</td>\n",
       "      <td>0</td>\n",
       "      <td>0</td>\n",
       "      <td>cellular</td>\n",
       "      <td>19</td>\n",
       "      <td>oct</td>\n",
       "      <td>79</td>\n",
       "      <td>1</td>\n",
       "      <td>-1</td>\n",
       "      <td>0</td>\n",
       "      <td>unknown</td>\n",
       "      <td>0</td>\n",
       "    </tr>\n",
       "    <tr>\n",
       "      <th>1</th>\n",
       "      <td>33</td>\n",
       "      <td>services</td>\n",
       "      <td>married</td>\n",
       "      <td>secondary</td>\n",
       "      <td>0</td>\n",
       "      <td>4789</td>\n",
       "      <td>1</td>\n",
       "      <td>1</td>\n",
       "      <td>cellular</td>\n",
       "      <td>11</td>\n",
       "      <td>may</td>\n",
       "      <td>220</td>\n",
       "      <td>1</td>\n",
       "      <td>339</td>\n",
       "      <td>4</td>\n",
       "      <td>failure</td>\n",
       "      <td>0</td>\n",
       "    </tr>\n",
       "    <tr>\n",
       "      <th>2</th>\n",
       "      <td>35</td>\n",
       "      <td>management</td>\n",
       "      <td>single</td>\n",
       "      <td>tertiary</td>\n",
       "      <td>0</td>\n",
       "      <td>1350</td>\n",
       "      <td>1</td>\n",
       "      <td>0</td>\n",
       "      <td>cellular</td>\n",
       "      <td>16</td>\n",
       "      <td>apr</td>\n",
       "      <td>185</td>\n",
       "      <td>1</td>\n",
       "      <td>330</td>\n",
       "      <td>1</td>\n",
       "      <td>failure</td>\n",
       "      <td>0</td>\n",
       "    </tr>\n",
       "    <tr>\n",
       "      <th>3</th>\n",
       "      <td>30</td>\n",
       "      <td>management</td>\n",
       "      <td>married</td>\n",
       "      <td>tertiary</td>\n",
       "      <td>0</td>\n",
       "      <td>1476</td>\n",
       "      <td>1</td>\n",
       "      <td>1</td>\n",
       "      <td>unknown</td>\n",
       "      <td>3</td>\n",
       "      <td>jun</td>\n",
       "      <td>199</td>\n",
       "      <td>4</td>\n",
       "      <td>-1</td>\n",
       "      <td>0</td>\n",
       "      <td>unknown</td>\n",
       "      <td>0</td>\n",
       "    </tr>\n",
       "    <tr>\n",
       "      <th>4</th>\n",
       "      <td>59</td>\n",
       "      <td>blue-collar</td>\n",
       "      <td>married</td>\n",
       "      <td>secondary</td>\n",
       "      <td>0</td>\n",
       "      <td>0</td>\n",
       "      <td>1</td>\n",
       "      <td>0</td>\n",
       "      <td>unknown</td>\n",
       "      <td>5</td>\n",
       "      <td>may</td>\n",
       "      <td>226</td>\n",
       "      <td>1</td>\n",
       "      <td>-1</td>\n",
       "      <td>0</td>\n",
       "      <td>unknown</td>\n",
       "      <td>0</td>\n",
       "    </tr>\n",
       "  </tbody>\n",
       "</table>\n",
       "</div>"
      ],
      "text/plain": [
       "   age          job  marital  education  default  balance  housing  loan  \\\n",
       "0   30   unemployed  married    primary        0     1787        0     0   \n",
       "1   33     services  married  secondary        0     4789        1     1   \n",
       "2   35   management   single   tertiary        0     1350        1     0   \n",
       "3   30   management  married   tertiary        0     1476        1     1   \n",
       "4   59  blue-collar  married  secondary        0        0        1     0   \n",
       "\n",
       "    contact  day month  duration  campaign  pdays  previous poutcome  y  \n",
       "0  cellular   19   oct        79         1     -1         0  unknown  0  \n",
       "1  cellular   11   may       220         1    339         4  failure  0  \n",
       "2  cellular   16   apr       185         1    330         1  failure  0  \n",
       "3   unknown    3   jun       199         4     -1         0  unknown  0  \n",
       "4   unknown    5   may       226         1     -1         0  unknown  0  "
      ]
     },
     "execution_count": 10,
     "metadata": {},
     "output_type": "execute_result"
    }
   ],
   "source": [
    "bank_ds = pd.read_csv(DATASETS_DIR+'/bank/bank.csv', sep=';')\n",
    "for f in ['default','housing','loan','y']:\n",
    "    bank_ds[f] = (bank_ds[f]=='yes').astype(int)\n",
    "train_feats = ['age','job','marital','education','default','balance',\n",
    "               'housing','loan','contact','day','month','duration','campaign','pdays','previous','poutcome']\n",
    "cat_feats = ['job','marital','education','contact','month','poutcome']\n",
    "y_feat = 'y'\n",
    "print(bank_ds.shape)\n",
    "bank_ds.head()"
   ]
  },
  {
   "cell_type": "code",
   "execution_count": 11,
   "metadata": {},
   "outputs": [],
   "source": [
    "data_dict['bank'] = {'ds':bank_ds, 'train_feats':train_feats, 'cat_feats':cat_feats, 'y_feat':y_feat}"
   ]
  },
  {
   "cell_type": "markdown",
   "metadata": {},
   "source": [
    "## Breast cancer"
   ]
  },
  {
   "cell_type": "code",
   "execution_count": 12,
   "metadata": {},
   "outputs": [
    {
     "name": "stdout",
     "output_type": "stream",
     "text": [
      "(699, 12)\n"
     ]
    },
    {
     "data": {
      "text/html": [
       "<div>\n",
       "<style scoped>\n",
       "    .dataframe tbody tr th:only-of-type {\n",
       "        vertical-align: middle;\n",
       "    }\n",
       "\n",
       "    .dataframe tbody tr th {\n",
       "        vertical-align: top;\n",
       "    }\n",
       "\n",
       "    .dataframe thead th {\n",
       "        text-align: right;\n",
       "    }\n",
       "</style>\n",
       "<table border=\"1\" class=\"dataframe\">\n",
       "  <thead>\n",
       "    <tr style=\"text-align: right;\">\n",
       "      <th></th>\n",
       "      <th>Sample_code</th>\n",
       "      <th>Clump_Thickness</th>\n",
       "      <th>Uniformity_of_Cell_Size</th>\n",
       "      <th>Uniformity_of_Cell_Shape</th>\n",
       "      <th>Marginal_Adhesion</th>\n",
       "      <th>Single_Epithelial_Cell_Size</th>\n",
       "      <th>Bare_Nuclei</th>\n",
       "      <th>Bland_Chromatin</th>\n",
       "      <th>Normal_Nucleoli</th>\n",
       "      <th>Mitoses</th>\n",
       "      <th>Class</th>\n",
       "      <th>y</th>\n",
       "    </tr>\n",
       "  </thead>\n",
       "  <tbody>\n",
       "    <tr>\n",
       "      <th>0</th>\n",
       "      <td>1000025</td>\n",
       "      <td>5</td>\n",
       "      <td>1</td>\n",
       "      <td>1</td>\n",
       "      <td>1</td>\n",
       "      <td>2</td>\n",
       "      <td>1</td>\n",
       "      <td>3</td>\n",
       "      <td>1</td>\n",
       "      <td>1</td>\n",
       "      <td>2</td>\n",
       "      <td>0</td>\n",
       "    </tr>\n",
       "    <tr>\n",
       "      <th>1</th>\n",
       "      <td>1002945</td>\n",
       "      <td>5</td>\n",
       "      <td>4</td>\n",
       "      <td>4</td>\n",
       "      <td>5</td>\n",
       "      <td>7</td>\n",
       "      <td>10</td>\n",
       "      <td>3</td>\n",
       "      <td>2</td>\n",
       "      <td>1</td>\n",
       "      <td>2</td>\n",
       "      <td>0</td>\n",
       "    </tr>\n",
       "    <tr>\n",
       "      <th>2</th>\n",
       "      <td>1015425</td>\n",
       "      <td>3</td>\n",
       "      <td>1</td>\n",
       "      <td>1</td>\n",
       "      <td>1</td>\n",
       "      <td>2</td>\n",
       "      <td>2</td>\n",
       "      <td>3</td>\n",
       "      <td>1</td>\n",
       "      <td>1</td>\n",
       "      <td>2</td>\n",
       "      <td>0</td>\n",
       "    </tr>\n",
       "    <tr>\n",
       "      <th>3</th>\n",
       "      <td>1016277</td>\n",
       "      <td>6</td>\n",
       "      <td>8</td>\n",
       "      <td>8</td>\n",
       "      <td>1</td>\n",
       "      <td>3</td>\n",
       "      <td>4</td>\n",
       "      <td>3</td>\n",
       "      <td>7</td>\n",
       "      <td>1</td>\n",
       "      <td>2</td>\n",
       "      <td>0</td>\n",
       "    </tr>\n",
       "    <tr>\n",
       "      <th>4</th>\n",
       "      <td>1017023</td>\n",
       "      <td>4</td>\n",
       "      <td>1</td>\n",
       "      <td>1</td>\n",
       "      <td>3</td>\n",
       "      <td>2</td>\n",
       "      <td>1</td>\n",
       "      <td>3</td>\n",
       "      <td>1</td>\n",
       "      <td>1</td>\n",
       "      <td>2</td>\n",
       "      <td>0</td>\n",
       "    </tr>\n",
       "  </tbody>\n",
       "</table>\n",
       "</div>"
      ],
      "text/plain": [
       "   Sample_code  Clump_Thickness  Uniformity_of_Cell_Size  \\\n",
       "0      1000025                5                        1   \n",
       "1      1002945                5                        4   \n",
       "2      1015425                3                        1   \n",
       "3      1016277                6                        8   \n",
       "4      1017023                4                        1   \n",
       "\n",
       "   Uniformity_of_Cell_Shape  Marginal_Adhesion  Single_Epithelial_Cell_Size  \\\n",
       "0                         1                  1                            2   \n",
       "1                         4                  5                            7   \n",
       "2                         1                  1                            2   \n",
       "3                         8                  1                            3   \n",
       "4                         1                  3                            2   \n",
       "\n",
       "   Bare_Nuclei  Bland_Chromatin  Normal_Nucleoli  Mitoses  Class  y  \n",
       "0            1                3                1        1      2  0  \n",
       "1           10                3                2        1      2  0  \n",
       "2            2                3                1        1      2  0  \n",
       "3            4                3                7        1      2  0  \n",
       "4            1                3                1        1      2  0  "
      ]
     },
     "execution_count": 12,
     "metadata": {},
     "output_type": "execute_result"
    }
   ],
   "source": [
    "breast_ds = pd.read_csv(DATASETS_DIR+'/breast_cancer/breast-cancer-wisconsin.data', header=None)\n",
    "fs = ['Sample_code','Clump_Thickness','Uniformity_of_Cell_Size','Uniformity_of_Cell_Shape','Marginal_Adhesion',\n",
    "     'Single_Epithelial_Cell_Size','Bare_Nuclei','Bland_Chromatin','Normal_Nucleoli','Mitoses','Class']\n",
    "breast_ds.columns = fs\n",
    "breast_ds['Bare_Nuclei'] = [int(x) if x!='?' else -1 for x in breast_ds['Bare_Nuclei']]\n",
    "\n",
    "breast_ds['y'] = (breast_ds['Class']-2)//2\n",
    "train_feats = ['Clump_Thickness','Uniformity_of_Cell_Size','Uniformity_of_Cell_Shape','Marginal_Adhesion',\n",
    "     'Single_Epithelial_Cell_Size','Bare_Nuclei','Bland_Chromatin','Normal_Nucleoli','Mitoses',]\n",
    "cat_feats = []\n",
    "y_feat = 'y'\n",
    "\n",
    "print(breast_ds.shape)\n",
    "breast_ds.head()"
   ]
  },
  {
   "cell_type": "code",
   "execution_count": 13,
   "metadata": {},
   "outputs": [],
   "source": [
    "data_dict['breast'] = {'ds':breast_ds, 'train_feats':train_feats, 'cat_feats':cat_feats, 'y_feat':y_feat}"
   ]
  },
  {
   "cell_type": "markdown",
   "metadata": {},
   "source": [
    "## Credit Card Default"
   ]
  },
  {
   "cell_type": "code",
   "execution_count": 14,
   "metadata": {},
   "outputs": [
    {
     "name": "stdout",
     "output_type": "stream",
     "text": [
      "(30000, 25)\n"
     ]
    },
    {
     "data": {
      "text/html": [
       "<div>\n",
       "<style scoped>\n",
       "    .dataframe tbody tr th:only-of-type {\n",
       "        vertical-align: middle;\n",
       "    }\n",
       "\n",
       "    .dataframe tbody tr th {\n",
       "        vertical-align: top;\n",
       "    }\n",
       "\n",
       "    .dataframe thead th {\n",
       "        text-align: right;\n",
       "    }\n",
       "</style>\n",
       "<table border=\"1\" class=\"dataframe\">\n",
       "  <thead>\n",
       "    <tr style=\"text-align: right;\">\n",
       "      <th></th>\n",
       "      <th>ID</th>\n",
       "      <th>LIMIT_BAL</th>\n",
       "      <th>SEX</th>\n",
       "      <th>EDUCATION</th>\n",
       "      <th>MARRIAGE</th>\n",
       "      <th>AGE</th>\n",
       "      <th>PAY_0</th>\n",
       "      <th>PAY_2</th>\n",
       "      <th>PAY_3</th>\n",
       "      <th>PAY_4</th>\n",
       "      <th>...</th>\n",
       "      <th>BILL_AMT4</th>\n",
       "      <th>BILL_AMT5</th>\n",
       "      <th>BILL_AMT6</th>\n",
       "      <th>PAY_AMT1</th>\n",
       "      <th>PAY_AMT2</th>\n",
       "      <th>PAY_AMT3</th>\n",
       "      <th>PAY_AMT4</th>\n",
       "      <th>PAY_AMT5</th>\n",
       "      <th>PAY_AMT6</th>\n",
       "      <th>default payment next month</th>\n",
       "    </tr>\n",
       "  </thead>\n",
       "  <tbody>\n",
       "    <tr>\n",
       "      <th>0</th>\n",
       "      <td>1</td>\n",
       "      <td>20000</td>\n",
       "      <td>2</td>\n",
       "      <td>2</td>\n",
       "      <td>1</td>\n",
       "      <td>24</td>\n",
       "      <td>2</td>\n",
       "      <td>2</td>\n",
       "      <td>-1</td>\n",
       "      <td>-1</td>\n",
       "      <td>...</td>\n",
       "      <td>0</td>\n",
       "      <td>0</td>\n",
       "      <td>0</td>\n",
       "      <td>0</td>\n",
       "      <td>689</td>\n",
       "      <td>0</td>\n",
       "      <td>0</td>\n",
       "      <td>0</td>\n",
       "      <td>0</td>\n",
       "      <td>1</td>\n",
       "    </tr>\n",
       "    <tr>\n",
       "      <th>1</th>\n",
       "      <td>2</td>\n",
       "      <td>120000</td>\n",
       "      <td>2</td>\n",
       "      <td>2</td>\n",
       "      <td>2</td>\n",
       "      <td>26</td>\n",
       "      <td>-1</td>\n",
       "      <td>2</td>\n",
       "      <td>0</td>\n",
       "      <td>0</td>\n",
       "      <td>...</td>\n",
       "      <td>3272</td>\n",
       "      <td>3455</td>\n",
       "      <td>3261</td>\n",
       "      <td>0</td>\n",
       "      <td>1000</td>\n",
       "      <td>1000</td>\n",
       "      <td>1000</td>\n",
       "      <td>0</td>\n",
       "      <td>2000</td>\n",
       "      <td>1</td>\n",
       "    </tr>\n",
       "  </tbody>\n",
       "</table>\n",
       "<p>2 rows × 25 columns</p>\n",
       "</div>"
      ],
      "text/plain": [
       "   ID  LIMIT_BAL  SEX  EDUCATION  MARRIAGE  AGE  PAY_0  PAY_2  PAY_3  PAY_4  \\\n",
       "0   1      20000    2          2         1   24      2      2     -1     -1   \n",
       "1   2     120000    2          2         2   26     -1      2      0      0   \n",
       "\n",
       "   ...  BILL_AMT4  BILL_AMT5  BILL_AMT6  PAY_AMT1  PAY_AMT2  PAY_AMT3  \\\n",
       "0  ...          0          0          0         0       689         0   \n",
       "1  ...       3272       3455       3261         0      1000      1000   \n",
       "\n",
       "   PAY_AMT4  PAY_AMT5  PAY_AMT6  default payment next month  \n",
       "0         0         0         0                           1  \n",
       "1      1000         0      2000                           1  \n",
       "\n",
       "[2 rows x 25 columns]"
      ]
     },
     "execution_count": 14,
     "metadata": {},
     "output_type": "execute_result"
    }
   ],
   "source": [
    "credit_ds = pd.read_excel(DATASETS_DIR+'/creditCardDefault/default of credit card clients.xls', header=1)\n",
    "train_feats = ['LIMIT_BAL', 'SEX', 'EDUCATION', 'MARRIAGE', 'AGE', 'PAY_0',\n",
    "       'PAY_2', 'PAY_3', 'PAY_4', 'PAY_5', 'PAY_6', 'BILL_AMT1', 'BILL_AMT2',\n",
    "       'BILL_AMT3', 'BILL_AMT4', 'BILL_AMT5', 'BILL_AMT6', 'PAY_AMT1',\n",
    "       'PAY_AMT2', 'PAY_AMT3', 'PAY_AMT4', 'PAY_AMT5', 'PAY_AMT6']\n",
    "cat_feats = []\n",
    "y_feat = 'default payment next month'\n",
    "print(credit_ds.shape)\n",
    "credit_ds.head(2)"
   ]
  },
  {
   "cell_type": "code",
   "execution_count": 15,
   "metadata": {},
   "outputs": [],
   "source": [
    "data_dict['credit'] = {'ds':credit_ds, 'train_feats':train_feats, 'cat_feats':cat_feats, 'y_feat':y_feat}"
   ]
  },
  {
   "cell_type": "markdown",
   "metadata": {},
   "source": [
    "## Heart disease"
   ]
  },
  {
   "cell_type": "code",
   "execution_count": 16,
   "metadata": {},
   "outputs": [
    {
     "name": "stdout",
     "output_type": "stream",
     "text": [
      "(920, 15)\n"
     ]
    },
    {
     "data": {
      "text/html": [
       "<div>\n",
       "<style scoped>\n",
       "    .dataframe tbody tr th:only-of-type {\n",
       "        vertical-align: middle;\n",
       "    }\n",
       "\n",
       "    .dataframe tbody tr th {\n",
       "        vertical-align: top;\n",
       "    }\n",
       "\n",
       "    .dataframe thead th {\n",
       "        text-align: right;\n",
       "    }\n",
       "</style>\n",
       "<table border=\"1\" class=\"dataframe\">\n",
       "  <thead>\n",
       "    <tr style=\"text-align: right;\">\n",
       "      <th></th>\n",
       "      <th>age</th>\n",
       "      <th>sex</th>\n",
       "      <th>cp</th>\n",
       "      <th>trestbps</th>\n",
       "      <th>chol</th>\n",
       "      <th>fbs</th>\n",
       "      <th>restecg</th>\n",
       "      <th>thalach</th>\n",
       "      <th>exang</th>\n",
       "      <th>oldpeak</th>\n",
       "      <th>slope</th>\n",
       "      <th>ca</th>\n",
       "      <th>thal</th>\n",
       "      <th>num</th>\n",
       "      <th>has_disease</th>\n",
       "    </tr>\n",
       "  </thead>\n",
       "  <tbody>\n",
       "    <tr>\n",
       "      <th>0</th>\n",
       "      <td>63.0</td>\n",
       "      <td>1.0</td>\n",
       "      <td>1.0</td>\n",
       "      <td>145.0</td>\n",
       "      <td>233.0</td>\n",
       "      <td>1.0</td>\n",
       "      <td>2.0</td>\n",
       "      <td>150.0</td>\n",
       "      <td>0.0</td>\n",
       "      <td>2.3</td>\n",
       "      <td>3.0</td>\n",
       "      <td>0.0</td>\n",
       "      <td>6.0</td>\n",
       "      <td>0</td>\n",
       "      <td>0</td>\n",
       "    </tr>\n",
       "    <tr>\n",
       "      <th>1</th>\n",
       "      <td>67.0</td>\n",
       "      <td>1.0</td>\n",
       "      <td>4.0</td>\n",
       "      <td>160.0</td>\n",
       "      <td>286.0</td>\n",
       "      <td>0.0</td>\n",
       "      <td>2.0</td>\n",
       "      <td>108.0</td>\n",
       "      <td>1.0</td>\n",
       "      <td>1.5</td>\n",
       "      <td>2.0</td>\n",
       "      <td>3.0</td>\n",
       "      <td>3.0</td>\n",
       "      <td>2</td>\n",
       "      <td>1</td>\n",
       "    </tr>\n",
       "    <tr>\n",
       "      <th>2</th>\n",
       "      <td>67.0</td>\n",
       "      <td>1.0</td>\n",
       "      <td>4.0</td>\n",
       "      <td>120.0</td>\n",
       "      <td>229.0</td>\n",
       "      <td>0.0</td>\n",
       "      <td>2.0</td>\n",
       "      <td>129.0</td>\n",
       "      <td>1.0</td>\n",
       "      <td>2.6</td>\n",
       "      <td>2.0</td>\n",
       "      <td>2.0</td>\n",
       "      <td>7.0</td>\n",
       "      <td>1</td>\n",
       "      <td>1</td>\n",
       "    </tr>\n",
       "    <tr>\n",
       "      <th>3</th>\n",
       "      <td>37.0</td>\n",
       "      <td>1.0</td>\n",
       "      <td>3.0</td>\n",
       "      <td>130.0</td>\n",
       "      <td>250.0</td>\n",
       "      <td>0.0</td>\n",
       "      <td>0.0</td>\n",
       "      <td>187.0</td>\n",
       "      <td>0.0</td>\n",
       "      <td>3.5</td>\n",
       "      <td>3.0</td>\n",
       "      <td>0.0</td>\n",
       "      <td>3.0</td>\n",
       "      <td>0</td>\n",
       "      <td>0</td>\n",
       "    </tr>\n",
       "    <tr>\n",
       "      <th>4</th>\n",
       "      <td>41.0</td>\n",
       "      <td>0.0</td>\n",
       "      <td>2.0</td>\n",
       "      <td>130.0</td>\n",
       "      <td>204.0</td>\n",
       "      <td>0.0</td>\n",
       "      <td>2.0</td>\n",
       "      <td>172.0</td>\n",
       "      <td>0.0</td>\n",
       "      <td>1.4</td>\n",
       "      <td>1.0</td>\n",
       "      <td>0.0</td>\n",
       "      <td>3.0</td>\n",
       "      <td>0</td>\n",
       "      <td>0</td>\n",
       "    </tr>\n",
       "  </tbody>\n",
       "</table>\n",
       "</div>"
      ],
      "text/plain": [
       "    age  sex   cp  trestbps   chol  fbs  restecg  thalach  exang  oldpeak  \\\n",
       "0  63.0  1.0  1.0     145.0  233.0  1.0      2.0    150.0    0.0      2.3   \n",
       "1  67.0  1.0  4.0     160.0  286.0  0.0      2.0    108.0    1.0      1.5   \n",
       "2  67.0  1.0  4.0     120.0  229.0  0.0      2.0    129.0    1.0      2.6   \n",
       "3  37.0  1.0  3.0     130.0  250.0  0.0      0.0    187.0    0.0      3.5   \n",
       "4  41.0  0.0  2.0     130.0  204.0  0.0      2.0    172.0    0.0      1.4   \n",
       "\n",
       "   slope   ca  thal  num  has_disease  \n",
       "0    3.0  0.0   6.0    0            0  \n",
       "1    2.0  3.0   3.0    2            1  \n",
       "2    2.0  2.0   7.0    1            1  \n",
       "3    3.0  0.0   3.0    0            0  \n",
       "4    1.0  0.0   3.0    0            0  "
      ]
     },
     "execution_count": 16,
     "metadata": {},
     "output_type": "execute_result"
    }
   ],
   "source": [
    "heart_ds = pd.concat([pd.read_csv(DATASETS_DIR+f'/heart_disease/processed.{x}.data', header=None)\n",
    "                      for x in ['cleveland','hungarian','switzerland','va']])\n",
    "heart_ds.index = range(len(heart_ds))\n",
    "fs = ['age', 'sex', 'cp', 'trestbps', 'chol', 'fbs', 'restecg',\n",
    "      'thalach', 'exang', 'oldpeak', 'slope', 'ca', 'thal', 'num']\n",
    "train_feats = ['age','sex','cp','trestbps','chol','fbs','restecg','thalach','exang','oldpeak','slope','ca','thal']\n",
    "cat_feats = []\n",
    "heart_ds.columns = fs\n",
    "for f in ['trestbps', 'chol', 'fbs', 'restecg', 'thalach', 'exang', 'oldpeak',\n",
    "       'slope', 'ca', 'thal']:\n",
    "    heart_ds[f] = [float(x) if x!='?' else -1 for x in heart_ds[f]] \n",
    "heart_ds['has_disease'] = (heart_ds['num']>0).astype(int)\n",
    "y_feat = 'has_disease'\n",
    "print(heart_ds.shape)\n",
    "heart_ds.head()"
   ]
  },
  {
   "cell_type": "code",
   "execution_count": 17,
   "metadata": {},
   "outputs": [],
   "source": [
    "data_dict['heart'] = {'ds':heart_ds, 'train_feats':train_feats, 'cat_feats':cat_feats, 'y_feat':y_feat}"
   ]
  },
  {
   "cell_type": "markdown",
   "metadata": {},
   "source": [
    "## KDD"
   ]
  },
  {
   "cell_type": "raw",
   "metadata": {},
   "source": [
    "kdd_ds = pd.read_csv(DATASETS_DIR+'/kdd/orange_large_train.data.chunk1', sep='\\t')"
   ]
  },
  {
   "cell_type": "raw",
   "metadata": {},
   "source": [
    "kdd_ds.shape"
   ]
  },
  {
   "cell_type": "raw",
   "metadata": {},
   "source": [
    "kdd_ds.head()"
   ]
  },
  {
   "cell_type": "markdown",
   "metadata": {},
   "source": [
    "## Kick"
   ]
  },
  {
   "cell_type": "code",
   "execution_count": 18,
   "metadata": {},
   "outputs": [
    {
     "name": "stdout",
     "output_type": "stream",
     "text": [
      "(72983, 34)\n"
     ]
    },
    {
     "data": {
      "text/html": [
       "<div>\n",
       "<style scoped>\n",
       "    .dataframe tbody tr th:only-of-type {\n",
       "        vertical-align: middle;\n",
       "    }\n",
       "\n",
       "    .dataframe tbody tr th {\n",
       "        vertical-align: top;\n",
       "    }\n",
       "\n",
       "    .dataframe thead th {\n",
       "        text-align: right;\n",
       "    }\n",
       "</style>\n",
       "<table border=\"1\" class=\"dataframe\">\n",
       "  <thead>\n",
       "    <tr style=\"text-align: right;\">\n",
       "      <th></th>\n",
       "      <th>RefId</th>\n",
       "      <th>IsBadBuy</th>\n",
       "      <th>PurchDate</th>\n",
       "      <th>Auction</th>\n",
       "      <th>VehYear</th>\n",
       "      <th>VehicleAge</th>\n",
       "      <th>Make</th>\n",
       "      <th>Model</th>\n",
       "      <th>Trim</th>\n",
       "      <th>SubModel</th>\n",
       "      <th>...</th>\n",
       "      <th>MMRCurrentRetailAveragePrice</th>\n",
       "      <th>MMRCurrentRetailCleanPrice</th>\n",
       "      <th>PRIMEUNIT</th>\n",
       "      <th>AUCGUART</th>\n",
       "      <th>BYRNO</th>\n",
       "      <th>VNZIP1</th>\n",
       "      <th>VNST</th>\n",
       "      <th>VehBCost</th>\n",
       "      <th>IsOnlineSale</th>\n",
       "      <th>WarrantyCost</th>\n",
       "    </tr>\n",
       "  </thead>\n",
       "  <tbody>\n",
       "    <tr>\n",
       "      <th>0</th>\n",
       "      <td>1</td>\n",
       "      <td>0</td>\n",
       "      <td>12/7/2009</td>\n",
       "      <td>ADESA</td>\n",
       "      <td>2006</td>\n",
       "      <td>3</td>\n",
       "      <td>MAZDA</td>\n",
       "      <td>MAZDA3</td>\n",
       "      <td>i</td>\n",
       "      <td>4D SEDAN I</td>\n",
       "      <td>...</td>\n",
       "      <td>11597.0</td>\n",
       "      <td>12409.0</td>\n",
       "      <td>NaN</td>\n",
       "      <td>NaN</td>\n",
       "      <td>21973</td>\n",
       "      <td>33619</td>\n",
       "      <td>FL</td>\n",
       "      <td>7100.0</td>\n",
       "      <td>0</td>\n",
       "      <td>1113</td>\n",
       "    </tr>\n",
       "    <tr>\n",
       "      <th>1</th>\n",
       "      <td>2</td>\n",
       "      <td>0</td>\n",
       "      <td>12/7/2009</td>\n",
       "      <td>ADESA</td>\n",
       "      <td>2004</td>\n",
       "      <td>5</td>\n",
       "      <td>DODGE</td>\n",
       "      <td>1500 RAM PICKUP 2WD</td>\n",
       "      <td>ST</td>\n",
       "      <td>QUAD CAB 4.7L SLT</td>\n",
       "      <td>...</td>\n",
       "      <td>11374.0</td>\n",
       "      <td>12791.0</td>\n",
       "      <td>NaN</td>\n",
       "      <td>NaN</td>\n",
       "      <td>19638</td>\n",
       "      <td>33619</td>\n",
       "      <td>FL</td>\n",
       "      <td>7600.0</td>\n",
       "      <td>0</td>\n",
       "      <td>1053</td>\n",
       "    </tr>\n",
       "    <tr>\n",
       "      <th>2</th>\n",
       "      <td>3</td>\n",
       "      <td>0</td>\n",
       "      <td>12/7/2009</td>\n",
       "      <td>ADESA</td>\n",
       "      <td>2005</td>\n",
       "      <td>4</td>\n",
       "      <td>DODGE</td>\n",
       "      <td>STRATUS V6</td>\n",
       "      <td>SXT</td>\n",
       "      <td>4D SEDAN SXT FFV</td>\n",
       "      <td>...</td>\n",
       "      <td>7146.0</td>\n",
       "      <td>8702.0</td>\n",
       "      <td>NaN</td>\n",
       "      <td>NaN</td>\n",
       "      <td>19638</td>\n",
       "      <td>33619</td>\n",
       "      <td>FL</td>\n",
       "      <td>4900.0</td>\n",
       "      <td>0</td>\n",
       "      <td>1389</td>\n",
       "    </tr>\n",
       "    <tr>\n",
       "      <th>3</th>\n",
       "      <td>4</td>\n",
       "      <td>0</td>\n",
       "      <td>12/7/2009</td>\n",
       "      <td>ADESA</td>\n",
       "      <td>2004</td>\n",
       "      <td>5</td>\n",
       "      <td>DODGE</td>\n",
       "      <td>NEON</td>\n",
       "      <td>SXT</td>\n",
       "      <td>4D SEDAN</td>\n",
       "      <td>...</td>\n",
       "      <td>4375.0</td>\n",
       "      <td>5518.0</td>\n",
       "      <td>NaN</td>\n",
       "      <td>NaN</td>\n",
       "      <td>19638</td>\n",
       "      <td>33619</td>\n",
       "      <td>FL</td>\n",
       "      <td>4100.0</td>\n",
       "      <td>0</td>\n",
       "      <td>630</td>\n",
       "    </tr>\n",
       "    <tr>\n",
       "      <th>4</th>\n",
       "      <td>5</td>\n",
       "      <td>0</td>\n",
       "      <td>12/7/2009</td>\n",
       "      <td>ADESA</td>\n",
       "      <td>2005</td>\n",
       "      <td>4</td>\n",
       "      <td>FORD</td>\n",
       "      <td>FOCUS</td>\n",
       "      <td>ZX3</td>\n",
       "      <td>2D COUPE ZX3</td>\n",
       "      <td>...</td>\n",
       "      <td>6739.0</td>\n",
       "      <td>7911.0</td>\n",
       "      <td>NaN</td>\n",
       "      <td>NaN</td>\n",
       "      <td>19638</td>\n",
       "      <td>33619</td>\n",
       "      <td>FL</td>\n",
       "      <td>4000.0</td>\n",
       "      <td>0</td>\n",
       "      <td>1020</td>\n",
       "    </tr>\n",
       "  </tbody>\n",
       "</table>\n",
       "<p>5 rows × 34 columns</p>\n",
       "</div>"
      ],
      "text/plain": [
       "   RefId  IsBadBuy  PurchDate Auction  VehYear  VehicleAge   Make  \\\n",
       "0      1         0  12/7/2009   ADESA     2006           3  MAZDA   \n",
       "1      2         0  12/7/2009   ADESA     2004           5  DODGE   \n",
       "2      3         0  12/7/2009   ADESA     2005           4  DODGE   \n",
       "3      4         0  12/7/2009   ADESA     2004           5  DODGE   \n",
       "4      5         0  12/7/2009   ADESA     2005           4   FORD   \n",
       "\n",
       "                 Model Trim           SubModel  ...  \\\n",
       "0               MAZDA3    i         4D SEDAN I  ...   \n",
       "1  1500 RAM PICKUP 2WD   ST  QUAD CAB 4.7L SLT  ...   \n",
       "2           STRATUS V6  SXT   4D SEDAN SXT FFV  ...   \n",
       "3                 NEON  SXT           4D SEDAN  ...   \n",
       "4                FOCUS  ZX3       2D COUPE ZX3  ...   \n",
       "\n",
       "  MMRCurrentRetailAveragePrice MMRCurrentRetailCleanPrice  PRIMEUNIT AUCGUART  \\\n",
       "0                      11597.0                    12409.0        NaN      NaN   \n",
       "1                      11374.0                    12791.0        NaN      NaN   \n",
       "2                       7146.0                     8702.0        NaN      NaN   \n",
       "3                       4375.0                     5518.0        NaN      NaN   \n",
       "4                       6739.0                     7911.0        NaN      NaN   \n",
       "\n",
       "   BYRNO VNZIP1 VNST VehBCost  IsOnlineSale  WarrantyCost  \n",
       "0  21973  33619   FL   7100.0             0          1113  \n",
       "1  19638  33619   FL   7600.0             0          1053  \n",
       "2  19638  33619   FL   4900.0             0          1389  \n",
       "3  19638  33619   FL   4100.0             0           630  \n",
       "4  19638  33619   FL   4000.0             0          1020  \n",
       "\n",
       "[5 rows x 34 columns]"
      ]
     },
     "execution_count": 18,
     "metadata": {},
     "output_type": "execute_result"
    }
   ],
   "source": [
    "kick_ds = pd.read_csv(DATASETS_DIR+'/kick/training.csv')\n",
    "print(kick_ds.shape)\n",
    "kick_ds.head()"
   ]
  },
  {
   "cell_type": "code",
   "execution_count": 19,
   "metadata": {},
   "outputs": [],
   "source": [
    "train_feats = ['Auction', 'VehYear', 'VehicleAge',\n",
    "       'Make', 'Model', 'Trim', 'SubModel', 'Color', 'Transmission',\n",
    "       'WheelTypeID', 'WheelType', 'VehOdo', 'Nationality', 'Size',\n",
    "       'TopThreeAmericanName', 'MMRAcquisitionAuctionAveragePrice',\n",
    "       'MMRAcquisitionAuctionCleanPrice', 'MMRAcquisitionRetailAveragePrice',\n",
    "       'MMRAcquisitonRetailCleanPrice', 'MMRCurrentAuctionAveragePrice',\n",
    "       'MMRCurrentAuctionCleanPrice', 'MMRCurrentRetailAveragePrice',\n",
    "       'MMRCurrentRetailCleanPrice', 'PRIMEUNIT', 'AUCGUART', 'BYRNO',\n",
    "       'VNZIP1', 'VNST', 'VehBCost', 'IsOnlineSale', 'WarrantyCost']\n",
    "cat_feats = ['Auction','VehYear', 'Make', 'Model', 'Trim', 'SubModel', 'Color', 'Transmission',\n",
    "       'WheelType', 'Nationality', 'Size','PRIMEUNIT','AUCGUART',\n",
    "       'TopThreeAmericanName',  'VNST',]\n",
    "y_feat = 'IsBadBuy'"
   ]
  },
  {
   "cell_type": "code",
   "execution_count": 20,
   "metadata": {},
   "outputs": [],
   "source": [
    "kick_ds[cat_feats] = kick_ds[cat_feats].fillna('NONE')"
   ]
  },
  {
   "cell_type": "code",
   "execution_count": 21,
   "metadata": {},
   "outputs": [],
   "source": [
    "kick_ds[[f for f in kick_ds.columns if f not in cat_feats]] = kick_ds.drop(cat_feats,1).fillna(-1)"
   ]
  },
  {
   "cell_type": "code",
   "execution_count": 22,
   "metadata": {},
   "outputs": [],
   "source": [
    "data_dict['kick'] = {'ds':kick_ds, 'train_feats':train_feats, 'cat_feats':cat_feats, 'y_feat':y_feat}"
   ]
  },
  {
   "cell_type": "markdown",
   "metadata": {},
   "source": [
    "## Mammographic Mass"
   ]
  },
  {
   "cell_type": "code",
   "execution_count": 23,
   "metadata": {},
   "outputs": [
    {
     "name": "stdout",
     "output_type": "stream",
     "text": [
      "(961, 6)\n"
     ]
    },
    {
     "data": {
      "text/html": [
       "<div>\n",
       "<style scoped>\n",
       "    .dataframe tbody tr th:only-of-type {\n",
       "        vertical-align: middle;\n",
       "    }\n",
       "\n",
       "    .dataframe tbody tr th {\n",
       "        vertical-align: top;\n",
       "    }\n",
       "\n",
       "    .dataframe thead th {\n",
       "        text-align: right;\n",
       "    }\n",
       "</style>\n",
       "<table border=\"1\" class=\"dataframe\">\n",
       "  <thead>\n",
       "    <tr style=\"text-align: right;\">\n",
       "      <th></th>\n",
       "      <th>BI-RADS assessment</th>\n",
       "      <th>Age</th>\n",
       "      <th>Shape</th>\n",
       "      <th>Margin</th>\n",
       "      <th>Density</th>\n",
       "      <th>Severity</th>\n",
       "    </tr>\n",
       "  </thead>\n",
       "  <tbody>\n",
       "    <tr>\n",
       "      <th>0</th>\n",
       "      <td>5.0</td>\n",
       "      <td>67.0</td>\n",
       "      <td>3.0</td>\n",
       "      <td>5.0</td>\n",
       "      <td>3.0</td>\n",
       "      <td>1.0</td>\n",
       "    </tr>\n",
       "    <tr>\n",
       "      <th>1</th>\n",
       "      <td>4.0</td>\n",
       "      <td>43.0</td>\n",
       "      <td>1.0</td>\n",
       "      <td>1.0</td>\n",
       "      <td>-1.0</td>\n",
       "      <td>1.0</td>\n",
       "    </tr>\n",
       "    <tr>\n",
       "      <th>2</th>\n",
       "      <td>5.0</td>\n",
       "      <td>58.0</td>\n",
       "      <td>4.0</td>\n",
       "      <td>5.0</td>\n",
       "      <td>3.0</td>\n",
       "      <td>1.0</td>\n",
       "    </tr>\n",
       "    <tr>\n",
       "      <th>3</th>\n",
       "      <td>4.0</td>\n",
       "      <td>28.0</td>\n",
       "      <td>1.0</td>\n",
       "      <td>1.0</td>\n",
       "      <td>3.0</td>\n",
       "      <td>0.0</td>\n",
       "    </tr>\n",
       "    <tr>\n",
       "      <th>4</th>\n",
       "      <td>5.0</td>\n",
       "      <td>74.0</td>\n",
       "      <td>1.0</td>\n",
       "      <td>5.0</td>\n",
       "      <td>-1.0</td>\n",
       "      <td>1.0</td>\n",
       "    </tr>\n",
       "  </tbody>\n",
       "</table>\n",
       "</div>"
      ],
      "text/plain": [
       "   BI-RADS assessment   Age  Shape  Margin  Density  Severity\n",
       "0                 5.0  67.0    3.0     5.0      3.0       1.0\n",
       "1                 4.0  43.0    1.0     1.0     -1.0       1.0\n",
       "2                 5.0  58.0    4.0     5.0      3.0       1.0\n",
       "3                 4.0  28.0    1.0     1.0      3.0       0.0\n",
       "4                 5.0  74.0    1.0     5.0     -1.0       1.0"
      ]
     },
     "execution_count": 23,
     "metadata": {},
     "output_type": "execute_result"
    }
   ],
   "source": [
    "mamm_ds = pd.read_csv(DATASETS_DIR+'/mammographic_mass/mammographic_masses.data', header=None)\n",
    "fs = ['BI-RADS assessment', 'Age', 'Shape', 'Margin', 'Density','Severity']\n",
    "mamm_ds.columns = fs\n",
    "for f in fs:\n",
    "    mamm_ds[f] = [float(x) if x!='?' else -1 for x in mamm_ds[f]]\n",
    "print(mamm_ds.shape)\n",
    "mamm_ds.head()"
   ]
  },
  {
   "cell_type": "code",
   "execution_count": 24,
   "metadata": {},
   "outputs": [],
   "source": [
    "train_feats = ['BI-RADS assessment','Age','Shape','Margin','Density']\n",
    "y_feat = 'Severity'\n",
    "cat_feats = []"
   ]
  },
  {
   "cell_type": "code",
   "execution_count": 25,
   "metadata": {},
   "outputs": [],
   "source": [
    "data_dict['mammograph'] = {'ds':mamm_ds, 'train_feats':train_feats, 'cat_feats':cat_feats, 'y_feat':y_feat}"
   ]
  },
  {
   "cell_type": "markdown",
   "metadata": {},
   "source": [
    "## Seismic bumps"
   ]
  },
  {
   "cell_type": "code",
   "execution_count": 26,
   "metadata": {},
   "outputs": [
    {
     "name": "stdout",
     "output_type": "stream",
     "text": [
      "(2584, 20)\n"
     ]
    },
    {
     "data": {
      "text/html": [
       "<div>\n",
       "<style scoped>\n",
       "    .dataframe tbody tr th:only-of-type {\n",
       "        vertical-align: middle;\n",
       "    }\n",
       "\n",
       "    .dataframe tbody tr th {\n",
       "        vertical-align: top;\n",
       "    }\n",
       "\n",
       "    .dataframe thead th {\n",
       "        text-align: right;\n",
       "    }\n",
       "</style>\n",
       "<table border=\"1\" class=\"dataframe\">\n",
       "  <thead>\n",
       "    <tr style=\"text-align: right;\">\n",
       "      <th></th>\n",
       "      <th>seismic</th>\n",
       "      <th>seismoacoustic</th>\n",
       "      <th>shift</th>\n",
       "      <th>genergy</th>\n",
       "      <th>gpuls</th>\n",
       "      <th>gdenergy</th>\n",
       "      <th>gdpuls</th>\n",
       "      <th>ghazard</th>\n",
       "      <th>nbumps</th>\n",
       "      <th>nbumps2</th>\n",
       "      <th>nbumps3</th>\n",
       "      <th>nbumps4</th>\n",
       "      <th>nbumps5</th>\n",
       "      <th>nbumps6</th>\n",
       "      <th>nbumps7</th>\n",
       "      <th>nbumps89</th>\n",
       "      <th>energy</th>\n",
       "      <th>maxenergy</th>\n",
       "      <th>class</th>\n",
       "      <th>class_bin</th>\n",
       "    </tr>\n",
       "  </thead>\n",
       "  <tbody>\n",
       "    <tr>\n",
       "      <th>0</th>\n",
       "      <td>b'a'</td>\n",
       "      <td>b'a'</td>\n",
       "      <td>b'N'</td>\n",
       "      <td>15180.0</td>\n",
       "      <td>48.0</td>\n",
       "      <td>-72.0</td>\n",
       "      <td>-72.0</td>\n",
       "      <td>b'a'</td>\n",
       "      <td>0.0</td>\n",
       "      <td>0.0</td>\n",
       "      <td>0.0</td>\n",
       "      <td>0.0</td>\n",
       "      <td>0.0</td>\n",
       "      <td>0.0</td>\n",
       "      <td>0.0</td>\n",
       "      <td>0.0</td>\n",
       "      <td>0.0</td>\n",
       "      <td>0.0</td>\n",
       "      <td>b'0'</td>\n",
       "      <td>0</td>\n",
       "    </tr>\n",
       "    <tr>\n",
       "      <th>1</th>\n",
       "      <td>b'a'</td>\n",
       "      <td>b'a'</td>\n",
       "      <td>b'N'</td>\n",
       "      <td>14720.0</td>\n",
       "      <td>33.0</td>\n",
       "      <td>-70.0</td>\n",
       "      <td>-79.0</td>\n",
       "      <td>b'a'</td>\n",
       "      <td>1.0</td>\n",
       "      <td>0.0</td>\n",
       "      <td>1.0</td>\n",
       "      <td>0.0</td>\n",
       "      <td>0.0</td>\n",
       "      <td>0.0</td>\n",
       "      <td>0.0</td>\n",
       "      <td>0.0</td>\n",
       "      <td>2000.0</td>\n",
       "      <td>2000.0</td>\n",
       "      <td>b'0'</td>\n",
       "      <td>0</td>\n",
       "    </tr>\n",
       "    <tr>\n",
       "      <th>2</th>\n",
       "      <td>b'a'</td>\n",
       "      <td>b'a'</td>\n",
       "      <td>b'N'</td>\n",
       "      <td>8050.0</td>\n",
       "      <td>30.0</td>\n",
       "      <td>-81.0</td>\n",
       "      <td>-78.0</td>\n",
       "      <td>b'a'</td>\n",
       "      <td>0.0</td>\n",
       "      <td>0.0</td>\n",
       "      <td>0.0</td>\n",
       "      <td>0.0</td>\n",
       "      <td>0.0</td>\n",
       "      <td>0.0</td>\n",
       "      <td>0.0</td>\n",
       "      <td>0.0</td>\n",
       "      <td>0.0</td>\n",
       "      <td>0.0</td>\n",
       "      <td>b'0'</td>\n",
       "      <td>0</td>\n",
       "    </tr>\n",
       "    <tr>\n",
       "      <th>3</th>\n",
       "      <td>b'a'</td>\n",
       "      <td>b'a'</td>\n",
       "      <td>b'N'</td>\n",
       "      <td>28820.0</td>\n",
       "      <td>171.0</td>\n",
       "      <td>-23.0</td>\n",
       "      <td>40.0</td>\n",
       "      <td>b'a'</td>\n",
       "      <td>1.0</td>\n",
       "      <td>0.0</td>\n",
       "      <td>1.0</td>\n",
       "      <td>0.0</td>\n",
       "      <td>0.0</td>\n",
       "      <td>0.0</td>\n",
       "      <td>0.0</td>\n",
       "      <td>0.0</td>\n",
       "      <td>3000.0</td>\n",
       "      <td>3000.0</td>\n",
       "      <td>b'0'</td>\n",
       "      <td>0</td>\n",
       "    </tr>\n",
       "    <tr>\n",
       "      <th>4</th>\n",
       "      <td>b'a'</td>\n",
       "      <td>b'a'</td>\n",
       "      <td>b'N'</td>\n",
       "      <td>12640.0</td>\n",
       "      <td>57.0</td>\n",
       "      <td>-63.0</td>\n",
       "      <td>-52.0</td>\n",
       "      <td>b'a'</td>\n",
       "      <td>0.0</td>\n",
       "      <td>0.0</td>\n",
       "      <td>0.0</td>\n",
       "      <td>0.0</td>\n",
       "      <td>0.0</td>\n",
       "      <td>0.0</td>\n",
       "      <td>0.0</td>\n",
       "      <td>0.0</td>\n",
       "      <td>0.0</td>\n",
       "      <td>0.0</td>\n",
       "      <td>b'0'</td>\n",
       "      <td>0</td>\n",
       "    </tr>\n",
       "  </tbody>\n",
       "</table>\n",
       "</div>"
      ],
      "text/plain": [
       "  seismic seismoacoustic shift  genergy  gpuls  gdenergy  gdpuls ghazard  \\\n",
       "0    b'a'           b'a'  b'N'  15180.0   48.0     -72.0   -72.0    b'a'   \n",
       "1    b'a'           b'a'  b'N'  14720.0   33.0     -70.0   -79.0    b'a'   \n",
       "2    b'a'           b'a'  b'N'   8050.0   30.0     -81.0   -78.0    b'a'   \n",
       "3    b'a'           b'a'  b'N'  28820.0  171.0     -23.0    40.0    b'a'   \n",
       "4    b'a'           b'a'  b'N'  12640.0   57.0     -63.0   -52.0    b'a'   \n",
       "\n",
       "   nbumps  nbumps2  nbumps3  nbumps4  nbumps5  nbumps6  nbumps7  nbumps89  \\\n",
       "0     0.0      0.0      0.0      0.0      0.0      0.0      0.0       0.0   \n",
       "1     1.0      0.0      1.0      0.0      0.0      0.0      0.0       0.0   \n",
       "2     0.0      0.0      0.0      0.0      0.0      0.0      0.0       0.0   \n",
       "3     1.0      0.0      1.0      0.0      0.0      0.0      0.0       0.0   \n",
       "4     0.0      0.0      0.0      0.0      0.0      0.0      0.0       0.0   \n",
       "\n",
       "   energy  maxenergy class  class_bin  \n",
       "0     0.0        0.0  b'0'          0  \n",
       "1  2000.0     2000.0  b'0'          0  \n",
       "2     0.0        0.0  b'0'          0  \n",
       "3  3000.0     3000.0  b'0'          0  \n",
       "4     0.0        0.0  b'0'          0  "
      ]
     },
     "execution_count": 26,
     "metadata": {},
     "output_type": "execute_result"
    }
   ],
   "source": [
    "from scipy.io import arff\n",
    "\n",
    "seism_ds = pd.DataFrame(arff.loadarff(DATASETS_DIR+'/seismic_bumps/seismic-bumps.arff')[0])\n",
    "seism_ds['class_bin'] = (seism_ds['class']==b'1').astype(int)\n",
    "print(seism_ds.shape)\n",
    "seism_ds.head()"
   ]
  },
  {
   "cell_type": "code",
   "execution_count": 27,
   "metadata": {},
   "outputs": [],
   "source": [
    "train_feats = ['seismic', 'seismoacoustic', 'shift', 'genergy', 'gpuls', 'gdenergy',\n",
    "       'gdpuls', 'ghazard', 'nbumps', 'nbumps2', 'nbumps3', 'nbumps4',\n",
    "       'nbumps5', 'nbumps6', 'nbumps7', 'nbumps89', 'energy', 'maxenergy',]\n",
    "cat_feats = ['seismic','seismoacoustic','shift','ghazard']\n",
    "y_feat = 'class_bin'"
   ]
  },
  {
   "cell_type": "code",
   "execution_count": 28,
   "metadata": {},
   "outputs": [],
   "source": [
    "data_dict['seismic'] = {'ds':seism_ds, 'train_feats':train_feats, 'cat_feats':cat_feats, 'y_feat':y_feat}"
   ]
  },
  {
   "cell_type": "markdown",
   "metadata": {},
   "source": [
    "# Test"
   ]
  },
  {
   "cell_type": "code",
   "execution_count": 29,
   "metadata": {},
   "outputs": [],
   "source": [
    "from sklearn.tree import DecisionTreeClassifier\n",
    "from sklearn.ensemble import RandomForestClassifier, GradientBoostingClassifier\n",
    "from xgboost import XGBClassifier\n",
    "from lightgbm import LGBMClassifier\n",
    "\n",
    "from sklearn.model_selection import KFold\n",
    "from sklearn.preprocessing import LabelEncoder"
   ]
  },
  {
   "cell_type": "code",
   "execution_count": 30,
   "metadata": {},
   "outputs": [],
   "source": [
    "from sklearn.metrics import f1_score, accuracy_score, log_loss"
   ]
  },
  {
   "cell_type": "code",
   "execution_count": 31,
   "metadata": {},
   "outputs": [],
   "source": [
    "from lib import fca_interp as fcai"
   ]
  },
  {
   "cell_type": "code",
   "execution_count": 32,
   "metadata": {},
   "outputs": [],
   "source": [
    "from datetime import datetime"
   ]
  },
  {
   "cell_type": "code",
   "execution_count": null,
   "metadata": {},
   "outputs": [],
   "source": []
  },
  {
   "cell_type": "code",
   "execution_count": 33,
   "metadata": {},
   "outputs": [],
   "source": [
    "def test_catboost(X_train, X_test, y_train, y_test, cat_feats):\n",
    "    t1 = datetime.now()\n",
    "    pool_train = Pool(X_train, y_train, cat_features=cat_feats)\n",
    "    pool_test = Pool(X_test, cat_features=cat_feats)\n",
    "    \n",
    "    cb = CatBoostClassifier(iterations=FCA_RF_PARAMS['n_estimators'],\n",
    "                            max_depth=FCA_RF_PARAMS['max_depth'],\n",
    "                            thread_count=FCA_RF_PARAMS['n_jobs'])\n",
    "    cb.fit(pool_train, verbose=False, plot=False)\n",
    "    t2 = datetime.now()\n",
    "    \n",
    "    preds_train = cb.predict(pool_train)#`=='True'\n",
    "    preds_test = cb.predict(pool_test)#=='True'\n",
    "    preds_train_prob = cb.predict_proba(pool_train)[:,1]\n",
    "    preds_test_prob = cb.predict_proba(pool_test)[:,1]\n",
    "    \n",
    "    dt = (t2-t1).total_seconds()\n",
    "    return dt, preds_train, preds_test, preds_train_prob, preds_test_prob"
   ]
  },
  {
   "cell_type": "code",
   "execution_count": 34,
   "metadata": {},
   "outputs": [],
   "source": [
    "def test_fca(X_train, X_test, y_train, y_test, cat_feats,):\n",
    "    t1 = datetime.now()\n",
    "    cntx_train = fcai.MultiValuedContext(X_train, y_true=y_train, cat_attrs=cat_feats)\n",
    "    cntx_test = fcai.MultiValuedContext(X_test, cat_attrs=cat_feats)\n",
    "    fm = fcai.FormalManager(cntx_train, n_jobs=FCA_RF_PARAMS['n_jobs'])\n",
    "    fm.construct_concepts(algo='RandomForest', rf_params=FCA_RF_PARAMS, use_tqdm=False,)\n",
    "    fm.construct_lattice(use_tqdm=False, only_spanning_tree=True)\n",
    "    preds_train_prob = fm.predict_context(cntx_train)\n",
    "    preds_test_prob = fm.predict_context(cntx_test)\n",
    "    fpr, tpr, thresh = roc_curve(y_train, preds_train_prob)\n",
    "    th = thresh[np.argmin(fpr**2+(1-tpr)**2)]\n",
    "    t2 = datetime.now()\n",
    "    \n",
    "    dt = (t2-t1).total_seconds()\n",
    "    preds_train = preds_train_prob>th\n",
    "    preds_test = preds_test_prob>th\n",
    "    \n",
    "    return dt, preds_train, preds_test, preds_train_prob, preds_test_prob"
   ]
  },
  {
   "cell_type": "code",
   "execution_count": 35,
   "metadata": {},
   "outputs": [],
   "source": [
    "def test_model(X_train, X_test, y_train, y_test, cls):\n",
    "    if cls==DecisionTreeClassifier:\n",
    "        model = cls(max_depth=FCA_RF_PARAMS['max_depth'])\n",
    "    elif cls==GradientBoostingClassifier:\n",
    "        model = cls(max_depth=FCA_RF_PARAMS['max_depth'],\n",
    "                   n_estimators=FCA_RF_PARAMS['n_estimators'])\n",
    "    else:\n",
    "        model = cls(**FCA_RF_PARAMS)\n",
    "    \n",
    "    t1 = datetime.now()\n",
    "    model.fit(X_train, y_train)\n",
    "    t2 = datetime.now()\n",
    "    dt = (t2-t1).total_seconds()\n",
    "    \n",
    "    preds_train = model.predict(X_train)\n",
    "    preds_test = model.predict(X_test)\n",
    "    preds_train_prob = model.predict_proba(X_train)[:,1]\n",
    "    preds_test_prob = model.predict_proba(X_test)[:,1]\n",
    "    return dt, preds_train, preds_test, preds_train_prob, preds_test_prob"
   ]
  },
  {
   "cell_type": "code",
   "execution_count": 36,
   "metadata": {},
   "outputs": [],
   "source": [
    "def calc_metrics(y_train, y_test, preds_train, preds_test, preds_train_prob, preds_test_prob):\n",
    "    stat['acc_train'] = accuracy_score(y_train, preds_train)\n",
    "    stat['acc_test'] = accuracy_score(y_test, preds_test)\n",
    "    stat['f1_train'] = f1_score(y_train, preds_train)\n",
    "    stat['f1_test'] = f1_score(y_test, preds_test)\n",
    "    stat['roc_train'] = roc_auc_score(y_train, preds_train_prob)\n",
    "    stat['roc_test'] = roc_auc_score(y_test, preds_test_prob)\n",
    "    return stat"
   ]
  },
  {
   "cell_type": "code",
   "execution_count": 126,
   "metadata": {},
   "outputs": [],
   "source": [
    "FCA_RF_PARAMS = {'n_estimators':50, 'max_depth':10, 'n_jobs':-1}"
   ]
  },
  {
   "cell_type": "code",
   "execution_count": 127,
   "metadata": {},
   "outputs": [],
   "source": [
    "stat_ds = []"
   ]
  },
  {
   "cell_type": "code",
   "execution_count": 128,
   "metadata": {},
   "outputs": [],
   "source": [
    "kf = KFold(n_splits=5)"
   ]
  },
  {
   "cell_type": "code",
   "execution_count": 129,
   "metadata": {},
   "outputs": [],
   "source": [
    "fcai = reload(fcai)"
   ]
  },
  {
   "cell_type": "code",
   "execution_count": 131,
   "metadata": {},
   "outputs": [
    {
     "data": {
      "application/vnd.jupyter.widget-view+json": {
       "model_id": "37b200199aa54a52affa3629c11cb58f",
       "version_major": 2,
       "version_minor": 0
      },
      "text/plain": [
       "HBox(children=(FloatProgress(value=0.0, description='dataset iteration', max=9.0, style=ProgressStyle(descript…"
      ]
     },
     "metadata": {},
     "output_type": "display_data"
    },
    {
     "data": {
      "application/vnd.jupyter.widget-view+json": {
       "model_id": "",
       "version_major": 2,
       "version_minor": 0
      },
      "text/plain": [
       "HBox(children=(FloatProgress(value=0.0, description='KFold', max=5.0, style=ProgressStyle(description_width='i…"
      ]
     },
     "metadata": {},
     "output_type": "display_data"
    },
    {
     "data": {
      "application/vnd.jupyter.widget-view+json": {
       "model_id": "",
       "version_major": 2,
       "version_minor": 0
      },
      "text/plain": [
       "HBox(children=(FloatProgress(value=0.0, description='models_iteration', max=7.0, style=ProgressStyle(descripti…"
      ]
     },
     "metadata": {},
     "output_type": "display_data"
    },
    {
     "data": {
      "application/vnd.jupyter.widget-view+json": {
       "model_id": "",
       "version_major": 2,
       "version_minor": 0
      },
      "text/plain": [
       "HBox(children=(FloatProgress(value=0.0, description='models_iteration', max=7.0, style=ProgressStyle(descripti…"
      ]
     },
     "metadata": {},
     "output_type": "display_data"
    },
    {
     "data": {
      "application/vnd.jupyter.widget-view+json": {
       "model_id": "",
       "version_major": 2,
       "version_minor": 0
      },
      "text/plain": [
       "HBox(children=(FloatProgress(value=0.0, description='models_iteration', max=7.0, style=ProgressStyle(descripti…"
      ]
     },
     "metadata": {},
     "output_type": "display_data"
    },
    {
     "data": {
      "application/vnd.jupyter.widget-view+json": {
       "model_id": "",
       "version_major": 2,
       "version_minor": 0
      },
      "text/plain": [
       "HBox(children=(FloatProgress(value=0.0, description='models_iteration', max=7.0, style=ProgressStyle(descripti…"
      ]
     },
     "metadata": {},
     "output_type": "display_data"
    },
    {
     "data": {
      "application/vnd.jupyter.widget-view+json": {
       "model_id": "",
       "version_major": 2,
       "version_minor": 0
      },
      "text/plain": [
       "HBox(children=(FloatProgress(value=0.0, description='models_iteration', max=7.0, style=ProgressStyle(descripti…"
      ]
     },
     "metadata": {},
     "output_type": "display_data"
    },
    {
     "data": {
      "application/vnd.jupyter.widget-view+json": {
       "model_id": "",
       "version_major": 2,
       "version_minor": 0
      },
      "text/plain": [
       "HBox(children=(FloatProgress(value=0.0, description='KFold', max=5.0, style=ProgressStyle(description_width='i…"
      ]
     },
     "metadata": {},
     "output_type": "display_data"
    },
    {
     "data": {
      "application/vnd.jupyter.widget-view+json": {
       "model_id": "",
       "version_major": 2,
       "version_minor": 0
      },
      "text/plain": [
       "HBox(children=(FloatProgress(value=0.0, description='models_iteration', max=7.0, style=ProgressStyle(descripti…"
      ]
     },
     "metadata": {},
     "output_type": "display_data"
    },
    {
     "data": {
      "application/vnd.jupyter.widget-view+json": {
       "model_id": "",
       "version_major": 2,
       "version_minor": 0
      },
      "text/plain": [
       "HBox(children=(FloatProgress(value=0.0, description='models_iteration', max=7.0, style=ProgressStyle(descripti…"
      ]
     },
     "metadata": {},
     "output_type": "display_data"
    },
    {
     "data": {
      "application/vnd.jupyter.widget-view+json": {
       "model_id": "",
       "version_major": 2,
       "version_minor": 0
      },
      "text/plain": [
       "HBox(children=(FloatProgress(value=0.0, description='models_iteration', max=7.0, style=ProgressStyle(descripti…"
      ]
     },
     "metadata": {},
     "output_type": "display_data"
    },
    {
     "data": {
      "application/vnd.jupyter.widget-view+json": {
       "model_id": "",
       "version_major": 2,
       "version_minor": 0
      },
      "text/plain": [
       "HBox(children=(FloatProgress(value=0.0, description='models_iteration', max=7.0, style=ProgressStyle(descripti…"
      ]
     },
     "metadata": {},
     "output_type": "display_data"
    },
    {
     "data": {
      "application/vnd.jupyter.widget-view+json": {
       "model_id": "",
       "version_major": 2,
       "version_minor": 0
      },
      "text/plain": [
       "HBox(children=(FloatProgress(value=0.0, description='models_iteration', max=7.0, style=ProgressStyle(descripti…"
      ]
     },
     "metadata": {},
     "output_type": "display_data"
    },
    {
     "data": {
      "application/vnd.jupyter.widget-view+json": {
       "model_id": "",
       "version_major": 2,
       "version_minor": 0
      },
      "text/plain": [
       "HBox(children=(FloatProgress(value=0.0, description='KFold', max=5.0, style=ProgressStyle(description_width='i…"
      ]
     },
     "metadata": {},
     "output_type": "display_data"
    },
    {
     "data": {
      "application/vnd.jupyter.widget-view+json": {
       "model_id": "",
       "version_major": 2,
       "version_minor": 0
      },
      "text/plain": [
       "HBox(children=(FloatProgress(value=0.0, description='models_iteration', max=7.0, style=ProgressStyle(descripti…"
      ]
     },
     "metadata": {},
     "output_type": "display_data"
    },
    {
     "data": {
      "application/vnd.jupyter.widget-view+json": {
       "model_id": "",
       "version_major": 2,
       "version_minor": 0
      },
      "text/plain": [
       "HBox(children=(FloatProgress(value=0.0, description='models_iteration', max=7.0, style=ProgressStyle(descripti…"
      ]
     },
     "metadata": {},
     "output_type": "display_data"
    },
    {
     "data": {
      "application/vnd.jupyter.widget-view+json": {
       "model_id": "",
       "version_major": 2,
       "version_minor": 0
      },
      "text/plain": [
       "HBox(children=(FloatProgress(value=0.0, description='models_iteration', max=7.0, style=ProgressStyle(descripti…"
      ]
     },
     "metadata": {},
     "output_type": "display_data"
    },
    {
     "data": {
      "application/vnd.jupyter.widget-view+json": {
       "model_id": "",
       "version_major": 2,
       "version_minor": 0
      },
      "text/plain": [
       "HBox(children=(FloatProgress(value=0.0, description='models_iteration', max=7.0, style=ProgressStyle(descripti…"
      ]
     },
     "metadata": {},
     "output_type": "display_data"
    },
    {
     "data": {
      "application/vnd.jupyter.widget-view+json": {
       "model_id": "",
       "version_major": 2,
       "version_minor": 0
      },
      "text/plain": [
       "HBox(children=(FloatProgress(value=0.0, description='models_iteration', max=7.0, style=ProgressStyle(descripti…"
      ]
     },
     "metadata": {},
     "output_type": "display_data"
    },
    {
     "data": {
      "application/vnd.jupyter.widget-view+json": {
       "model_id": "",
       "version_major": 2,
       "version_minor": 0
      },
      "text/plain": [
       "HBox(children=(FloatProgress(value=0.0, description='KFold', max=5.0, style=ProgressStyle(description_width='i…"
      ]
     },
     "metadata": {},
     "output_type": "display_data"
    },
    {
     "data": {
      "application/vnd.jupyter.widget-view+json": {
       "model_id": "",
       "version_major": 2,
       "version_minor": 0
      },
      "text/plain": [
       "HBox(children=(FloatProgress(value=0.0, description='models_iteration', max=7.0, style=ProgressStyle(descripti…"
      ]
     },
     "metadata": {},
     "output_type": "display_data"
    },
    {
     "data": {
      "application/vnd.jupyter.widget-view+json": {
       "model_id": "",
       "version_major": 2,
       "version_minor": 0
      },
      "text/plain": [
       "HBox(children=(FloatProgress(value=0.0, description='models_iteration', max=7.0, style=ProgressStyle(descripti…"
      ]
     },
     "metadata": {},
     "output_type": "display_data"
    },
    {
     "data": {
      "application/vnd.jupyter.widget-view+json": {
       "model_id": "",
       "version_major": 2,
       "version_minor": 0
      },
      "text/plain": [
       "HBox(children=(FloatProgress(value=0.0, description='models_iteration', max=7.0, style=ProgressStyle(descripti…"
      ]
     },
     "metadata": {},
     "output_type": "display_data"
    },
    {
     "data": {
      "application/vnd.jupyter.widget-view+json": {
       "model_id": "",
       "version_major": 2,
       "version_minor": 0
      },
      "text/plain": [
       "HBox(children=(FloatProgress(value=0.0, description='models_iteration', max=7.0, style=ProgressStyle(descripti…"
      ]
     },
     "metadata": {},
     "output_type": "display_data"
    },
    {
     "data": {
      "application/vnd.jupyter.widget-view+json": {
       "model_id": "",
       "version_major": 2,
       "version_minor": 0
      },
      "text/plain": [
       "HBox(children=(FloatProgress(value=0.0, description='models_iteration', max=7.0, style=ProgressStyle(descripti…"
      ]
     },
     "metadata": {},
     "output_type": "display_data"
    },
    {
     "data": {
      "application/vnd.jupyter.widget-view+json": {
       "model_id": "",
       "version_major": 2,
       "version_minor": 0
      },
      "text/plain": [
       "HBox(children=(FloatProgress(value=0.0, description='KFold', max=5.0, style=ProgressStyle(description_width='i…"
      ]
     },
     "metadata": {},
     "output_type": "display_data"
    },
    {
     "data": {
      "application/vnd.jupyter.widget-view+json": {
       "model_id": "",
       "version_major": 2,
       "version_minor": 0
      },
      "text/plain": [
       "HBox(children=(FloatProgress(value=0.0, description='models_iteration', max=7.0, style=ProgressStyle(descripti…"
      ]
     },
     "metadata": {},
     "output_type": "display_data"
    },
    {
     "data": {
      "application/vnd.jupyter.widget-view+json": {
       "model_id": "",
       "version_major": 2,
       "version_minor": 0
      },
      "text/plain": [
       "HBox(children=(FloatProgress(value=0.0, description='models_iteration', max=7.0, style=ProgressStyle(descripti…"
      ]
     },
     "metadata": {},
     "output_type": "display_data"
    },
    {
     "data": {
      "application/vnd.jupyter.widget-view+json": {
       "model_id": "",
       "version_major": 2,
       "version_minor": 0
      },
      "text/plain": [
       "HBox(children=(FloatProgress(value=0.0, description='models_iteration', max=7.0, style=ProgressStyle(descripti…"
      ]
     },
     "metadata": {},
     "output_type": "display_data"
    },
    {
     "data": {
      "application/vnd.jupyter.widget-view+json": {
       "model_id": "",
       "version_major": 2,
       "version_minor": 0
      },
      "text/plain": [
       "HBox(children=(FloatProgress(value=0.0, description='models_iteration', max=7.0, style=ProgressStyle(descripti…"
      ]
     },
     "metadata": {},
     "output_type": "display_data"
    },
    {
     "data": {
      "application/vnd.jupyter.widget-view+json": {
       "model_id": "",
       "version_major": 2,
       "version_minor": 0
      },
      "text/plain": [
       "HBox(children=(FloatProgress(value=0.0, description='models_iteration', max=7.0, style=ProgressStyle(descripti…"
      ]
     },
     "metadata": {},
     "output_type": "display_data"
    },
    {
     "data": {
      "application/vnd.jupyter.widget-view+json": {
       "model_id": "",
       "version_major": 2,
       "version_minor": 0
      },
      "text/plain": [
       "HBox(children=(FloatProgress(value=0.0, description='KFold', max=5.0, style=ProgressStyle(description_width='i…"
      ]
     },
     "metadata": {},
     "output_type": "display_data"
    },
    {
     "data": {
      "application/vnd.jupyter.widget-view+json": {
       "model_id": "",
       "version_major": 2,
       "version_minor": 0
      },
      "text/plain": [
       "HBox(children=(FloatProgress(value=0.0, description='models_iteration', max=7.0, style=ProgressStyle(descripti…"
      ]
     },
     "metadata": {},
     "output_type": "display_data"
    },
    {
     "data": {
      "application/vnd.jupyter.widget-view+json": {
       "model_id": "",
       "version_major": 2,
       "version_minor": 0
      },
      "text/plain": [
       "HBox(children=(FloatProgress(value=0.0, description='models_iteration', max=7.0, style=ProgressStyle(descripti…"
      ]
     },
     "metadata": {},
     "output_type": "display_data"
    },
    {
     "data": {
      "application/vnd.jupyter.widget-view+json": {
       "model_id": "",
       "version_major": 2,
       "version_minor": 0
      },
      "text/plain": [
       "HBox(children=(FloatProgress(value=0.0, description='models_iteration', max=7.0, style=ProgressStyle(descripti…"
      ]
     },
     "metadata": {},
     "output_type": "display_data"
    },
    {
     "data": {
      "application/vnd.jupyter.widget-view+json": {
       "model_id": "",
       "version_major": 2,
       "version_minor": 0
      },
      "text/plain": [
       "HBox(children=(FloatProgress(value=0.0, description='models_iteration', max=7.0, style=ProgressStyle(descripti…"
      ]
     },
     "metadata": {},
     "output_type": "display_data"
    },
    {
     "data": {
      "application/vnd.jupyter.widget-view+json": {
       "model_id": "",
       "version_major": 2,
       "version_minor": 0
      },
      "text/plain": [
       "HBox(children=(FloatProgress(value=0.0, description='models_iteration', max=7.0, style=ProgressStyle(descripti…"
      ]
     },
     "metadata": {},
     "output_type": "display_data"
    },
    {
     "data": {
      "application/vnd.jupyter.widget-view+json": {
       "model_id": "",
       "version_major": 2,
       "version_minor": 0
      },
      "text/plain": [
       "HBox(children=(FloatProgress(value=0.0, description='KFold', max=5.0, style=ProgressStyle(description_width='i…"
      ]
     },
     "metadata": {},
     "output_type": "display_data"
    },
    {
     "data": {
      "application/vnd.jupyter.widget-view+json": {
       "model_id": "",
       "version_major": 2,
       "version_minor": 0
      },
      "text/plain": [
       "HBox(children=(FloatProgress(value=0.0, description='models_iteration', max=7.0, style=ProgressStyle(descripti…"
      ]
     },
     "metadata": {},
     "output_type": "display_data"
    },
    {
     "data": {
      "application/vnd.jupyter.widget-view+json": {
       "model_id": "",
       "version_major": 2,
       "version_minor": 0
      },
      "text/plain": [
       "HBox(children=(FloatProgress(value=0.0, description='models_iteration', max=7.0, style=ProgressStyle(descripti…"
      ]
     },
     "metadata": {},
     "output_type": "display_data"
    },
    {
     "data": {
      "application/vnd.jupyter.widget-view+json": {
       "model_id": "",
       "version_major": 2,
       "version_minor": 0
      },
      "text/plain": [
       "HBox(children=(FloatProgress(value=0.0, description='models_iteration', max=7.0, style=ProgressStyle(descripti…"
      ]
     },
     "metadata": {},
     "output_type": "display_data"
    },
    {
     "data": {
      "application/vnd.jupyter.widget-view+json": {
       "model_id": "",
       "version_major": 2,
       "version_minor": 0
      },
      "text/plain": [
       "HBox(children=(FloatProgress(value=0.0, description='models_iteration', max=7.0, style=ProgressStyle(descripti…"
      ]
     },
     "metadata": {},
     "output_type": "display_data"
    },
    {
     "data": {
      "application/vnd.jupyter.widget-view+json": {
       "model_id": "",
       "version_major": 2,
       "version_minor": 0
      },
      "text/plain": [
       "HBox(children=(FloatProgress(value=0.0, description='models_iteration', max=7.0, style=ProgressStyle(descripti…"
      ]
     },
     "metadata": {},
     "output_type": "display_data"
    },
    {
     "data": {
      "application/vnd.jupyter.widget-view+json": {
       "model_id": "",
       "version_major": 2,
       "version_minor": 0
      },
      "text/plain": [
       "HBox(children=(FloatProgress(value=0.0, description='KFold', max=5.0, style=ProgressStyle(description_width='i…"
      ]
     },
     "metadata": {},
     "output_type": "display_data"
    },
    {
     "data": {
      "application/vnd.jupyter.widget-view+json": {
       "model_id": "",
       "version_major": 2,
       "version_minor": 0
      },
      "text/plain": [
       "HBox(children=(FloatProgress(value=0.0, description='models_iteration', max=7.0, style=ProgressStyle(descripti…"
      ]
     },
     "metadata": {},
     "output_type": "display_data"
    },
    {
     "data": {
      "application/vnd.jupyter.widget-view+json": {
       "model_id": "",
       "version_major": 2,
       "version_minor": 0
      },
      "text/plain": [
       "HBox(children=(FloatProgress(value=0.0, description='models_iteration', max=7.0, style=ProgressStyle(descripti…"
      ]
     },
     "metadata": {},
     "output_type": "display_data"
    },
    {
     "data": {
      "application/vnd.jupyter.widget-view+json": {
       "model_id": "",
       "version_major": 2,
       "version_minor": 0
      },
      "text/plain": [
       "HBox(children=(FloatProgress(value=0.0, description='models_iteration', max=7.0, style=ProgressStyle(descripti…"
      ]
     },
     "metadata": {},
     "output_type": "display_data"
    },
    {
     "data": {
      "application/vnd.jupyter.widget-view+json": {
       "model_id": "",
       "version_major": 2,
       "version_minor": 0
      },
      "text/plain": [
       "HBox(children=(FloatProgress(value=0.0, description='models_iteration', max=7.0, style=ProgressStyle(descripti…"
      ]
     },
     "metadata": {},
     "output_type": "display_data"
    },
    {
     "data": {
      "application/vnd.jupyter.widget-view+json": {
       "model_id": "",
       "version_major": 2,
       "version_minor": 0
      },
      "text/plain": [
       "HBox(children=(FloatProgress(value=0.0, description='models_iteration', max=7.0, style=ProgressStyle(descripti…"
      ]
     },
     "metadata": {},
     "output_type": "display_data"
    },
    {
     "data": {
      "application/vnd.jupyter.widget-view+json": {
       "model_id": "",
       "version_major": 2,
       "version_minor": 0
      },
      "text/plain": [
       "HBox(children=(FloatProgress(value=0.0, description='KFold', max=5.0, style=ProgressStyle(description_width='i…"
      ]
     },
     "metadata": {},
     "output_type": "display_data"
    },
    {
     "data": {
      "application/vnd.jupyter.widget-view+json": {
       "model_id": "",
       "version_major": 2,
       "version_minor": 0
      },
      "text/plain": [
       "HBox(children=(FloatProgress(value=0.0, description='models_iteration', max=7.0, style=ProgressStyle(descripti…"
      ]
     },
     "metadata": {},
     "output_type": "display_data"
    },
    {
     "data": {
      "application/vnd.jupyter.widget-view+json": {
       "model_id": "",
       "version_major": 2,
       "version_minor": 0
      },
      "text/plain": [
       "HBox(children=(FloatProgress(value=0.0, description='models_iteration', max=7.0, style=ProgressStyle(descripti…"
      ]
     },
     "metadata": {},
     "output_type": "display_data"
    },
    {
     "data": {
      "application/vnd.jupyter.widget-view+json": {
       "model_id": "",
       "version_major": 2,
       "version_minor": 0
      },
      "text/plain": [
       "HBox(children=(FloatProgress(value=0.0, description='models_iteration', max=7.0, style=ProgressStyle(descripti…"
      ]
     },
     "metadata": {},
     "output_type": "display_data"
    },
    {
     "data": {
      "application/vnd.jupyter.widget-view+json": {
       "model_id": "",
       "version_major": 2,
       "version_minor": 0
      },
      "text/plain": [
       "HBox(children=(FloatProgress(value=0.0, description='models_iteration', max=7.0, style=ProgressStyle(descripti…"
      ]
     },
     "metadata": {},
     "output_type": "display_data"
    },
    {
     "data": {
      "application/vnd.jupyter.widget-view+json": {
       "model_id": "",
       "version_major": 2,
       "version_minor": 0
      },
      "text/plain": [
       "HBox(children=(FloatProgress(value=0.0, description='models_iteration', max=7.0, style=ProgressStyle(descripti…"
      ]
     },
     "metadata": {},
     "output_type": "display_data"
    },
    {
     "name": "stdout",
     "output_type": "stream",
     "text": [
      "\n"
     ]
    }
   ],
   "source": [
    "for data_name, data in tqdm(data_dict.items(), desc='dataset iteration'):\n",
    "    ds, train_feats, cat_feats, y_feat = data['ds'], data['train_feats'], data['cat_feats'], data['y_feat']\n",
    "    ds[cat_feats] = ds[cat_feats].astype(str)\n",
    "    for f in cat_feats:\n",
    "        ds[f+'_le'] = LabelEncoder().fit_transform(ds[f])\n",
    "    train_feats_le = [f+('_le' if f in cat_feats else '') for f in train_feats]\n",
    "\n",
    "    for kf_idx, idxs in tqdm(enumerate(kf.split(ds[train_feats])), desc='KFold', total=kf.n_splits, leave=False):\n",
    "        train_idxs, test_idxs = idxs\n",
    "\n",
    "        X_train, X_test = ds.loc[train_idxs, train_feats_le], ds.loc[test_idxs, train_feats_le]\n",
    "        y_train, y_test = ds.loc[train_idxs, y_feat], ds.loc[test_idxs, y_feat]\n",
    "        ds_train, ds_test = ds.loc[train_idxs, train_feats], ds.loc[test_idxs, train_feats]\n",
    "        \n",
    "\n",
    "        for cls in tqdm([DecisionTreeClassifier, RandomForestClassifier,\n",
    "                  GradientBoostingClassifier, XGBClassifier, LGBMClassifier,\n",
    "                    CatBoostClassifier, fcai.FormalManager], desc='models_iteration', leave=False):\n",
    "            stat = {'model':cls.__name__, 'ds':data_name, 'fold_id':kf_idx,\n",
    "                    'train_size':len(X_train),'test_size':len(X_test)}\n",
    "\n",
    "            if cls==fcai.FormalManager:\n",
    "                res = test_fca(ds_train, ds_test, y_train, y_test,cat_feats=cat_feats, )\n",
    "            elif cls==CatBoostClassifier:\n",
    "                res = test_catboost(ds_train, ds_test, y_train, y_test, cat_feats=cat_feats)\n",
    "            else:\n",
    "                res = test_model(X_train, X_test, y_train, y_test, cls)\n",
    "            dt, preds_train, preds_test, preds_train_prob, preds_test_prob = res\n",
    "\n",
    "            stat = calc_metrics(y_train, y_test, preds_train, preds_test, preds_train_prob, preds_test_prob)\n",
    "            stat['time'] = dt\n",
    "\n",
    "            stat_ds.append(pd.Series(stat))\n",
    "        pd.concat(stat_ds,1).T.to_csv('tmp_fcarf_evaluation.csv')"
   ]
  },
  {
   "cell_type": "code",
   "execution_count": null,
   "metadata": {},
   "outputs": [],
   "source": []
  },
  {
   "cell_type": "code",
   "execution_count": null,
   "metadata": {},
   "outputs": [],
   "source": []
  },
  {
   "cell_type": "code",
   "execution_count": 132,
   "metadata": {},
   "outputs": [],
   "source": [
    "stat_ds = pd.concat(stat_ds, 1).T\n",
    "stat_ds.to_csv('final_fcarf_evaluation.csv')"
   ]
  },
  {
   "cell_type": "code",
   "execution_count": 133,
   "metadata": {},
   "outputs": [],
   "source": [
    "ms = ['acc_train','acc_test','f1_train','f1_test','roc_train','roc_test']"
   ]
  },
  {
   "cell_type": "code",
   "execution_count": 134,
   "metadata": {},
   "outputs": [],
   "source": [
    "stat_ds[ms] = stat_ds[ms].astype(float)"
   ]
  },
  {
   "cell_type": "code",
   "execution_count": 135,
   "metadata": {},
   "outputs": [],
   "source": [
    "model_order = ['DecisionTreeClassifier', 'RandomForestClassifier','FormalManager',\n",
    "       'GradientBoostingClassifier', 'XGBClassifier', 'LGBMClassifier','CatBoostClassifier', ]"
   ]
  },
  {
   "cell_type": "code",
   "execution_count": 136,
   "metadata": {},
   "outputs": [
    {
     "data": {
      "image/png": "[encoded data removed]",
      "text/plain": [
       "<Figure size 1080x1080 with 6 Axes>"
      ]
     },
     "metadata": {
      "needs_background": "light"
     },
     "output_type": "display_data"
    }
   ],
   "source": [
    "plt.figure(figsize=(15,15))\n",
    "for idx, m in enumerate(ms):\n",
    "    plt.subplot(len(ms)//2, 2, idx+1)\n",
    "    cds = stat_ds.pivot_table(index='model', columns='ds', values=m, aggfunc='mean')\n",
    "    cds = cds.loc[model_order]\n",
    "    cds_verb = cds.round(2).astype(str)\n",
    "    cds = (cds-cds.min(0))/(cds.max(0)-cds.min(0))\n",
    "    sns.heatmap(cds, cmap='Blues', annot=cds_verb, fmt='', cbar=False)\n",
    "    for y in [1,2,3]:\n",
    "        plt.axhline(y, linestyle='--', color='black', linewidth=2)\n",
    "    plt.title(f'Metric {m}')\n",
    "plt.tight_layout()\n",
    "plt.show()"
   ]
  },
  {
   "cell_type": "code",
   "execution_count": 137,
   "metadata": {},
   "outputs": [],
   "source": [
    "stat_ds['time'] = stat_ds['time'].astype(np.float)"
   ]
  },
  {
   "cell_type": "code",
   "execution_count": 138,
   "metadata": {},
   "outputs": [],
   "source": [
    "stat_ds['train_size'] = stat_ds['train_size'].astype(np.float)"
   ]
  },
  {
   "cell_type": "code",
   "execution_count": 139,
   "metadata": {},
   "outputs": [
    {
     "data": {
      "image/png": "[encoded data removed]",
      "text/plain": [
       "<Figure size 432x288 with 1 Axes>"
      ]
     },
     "metadata": {
      "needs_background": "light"
     },
     "output_type": "display_data"
    }
   ],
   "source": [
    "sns.regplot(x='train_size', y='time', data=stat_ds[stat_ds['model']=='FormalManager'], order=2, )\n",
    "plt.title('Time to train FCA algorithm based on number of objects')\n",
    "yaxis = np.array([0,5, 10,30,60, 90])\n",
    "plt.yticks(yaxis*60, yaxis)\n",
    "plt.ylabel('time in minutes')\n",
    "plt.xlabel('num of objects')\n",
    "plt.show()"
   ]
  },
  {
   "cell_type": "code",
   "execution_count": null,
   "metadata": {},
   "outputs": [],
   "source": []
  },
  {
   "cell_type": "code",
   "execution_count": null,
   "metadata": {},
   "outputs": [],
   "source": []
  },
  {
   "cell_type": "code",
   "execution_count": 140,
   "metadata": {},
   "outputs": [
    {
     "data": {
      "text/html": [
       "<div>\n",
       "<style scoped>\n",
       "    .dataframe tbody tr th:only-of-type {\n",
       "        vertical-align: middle;\n",
       "    }\n",
       "\n",
       "    .dataframe tbody tr th {\n",
       "        vertical-align: top;\n",
       "    }\n",
       "\n",
       "    .dataframe thead th {\n",
       "        text-align: right;\n",
       "    }\n",
       "</style>\n",
       "<table border=\"1\" class=\"dataframe\">\n",
       "  <thead>\n",
       "    <tr style=\"text-align: right;\">\n",
       "      <th></th>\n",
       "      <th>ds</th>\n",
       "      <th>adult</th>\n",
       "      <th>amazon</th>\n",
       "      <th>bank</th>\n",
       "      <th>breast</th>\n",
       "      <th>credit</th>\n",
       "      <th>heart</th>\n",
       "      <th>kick</th>\n",
       "      <th>mammograph</th>\n",
       "      <th>seismic</th>\n",
       "    </tr>\n",
       "    <tr>\n",
       "      <th></th>\n",
       "      <th>model</th>\n",
       "      <th></th>\n",
       "      <th></th>\n",
       "      <th></th>\n",
       "      <th></th>\n",
       "      <th></th>\n",
       "      <th></th>\n",
       "      <th></th>\n",
       "      <th></th>\n",
       "      <th></th>\n",
       "    </tr>\n",
       "  </thead>\n",
       "  <tbody>\n",
       "    <tr>\n",
       "      <th rowspan=\"7\" valign=\"top\">acc_test</th>\n",
       "      <th>CatBoostClassifier</th>\n",
       "      <td>0.843912</td>\n",
       "      <td>0.946504</td>\n",
       "      <td>0.897147</td>\n",
       "      <td>0.958561</td>\n",
       "      <td>0.805767</td>\n",
       "      <td>0.766304</td>\n",
       "      <td>0.894756</td>\n",
       "      <td>0.836642</td>\n",
       "      <td>0.932288</td>\n",
       "    </tr>\n",
       "    <tr>\n",
       "      <th>DecisionTreeClassifier</th>\n",
       "      <td>0.830348</td>\n",
       "      <td>0.942995</td>\n",
       "      <td>0.883875</td>\n",
       "      <td>0.927081</td>\n",
       "      <td>0.809000</td>\n",
       "      <td>0.593478</td>\n",
       "      <td>0.892317</td>\n",
       "      <td>0.783560</td>\n",
       "      <td>0.874641</td>\n",
       "    </tr>\n",
       "    <tr>\n",
       "      <th>FormalManager</th>\n",
       "      <td>0.717454</td>\n",
       "      <td>0.906374</td>\n",
       "      <td>0.593012</td>\n",
       "      <td>0.964265</td>\n",
       "      <td>0.433800</td>\n",
       "      <td>0.636957</td>\n",
       "      <td>0.138581</td>\n",
       "      <td>0.810633</td>\n",
       "      <td>0.668004</td>\n",
       "    </tr>\n",
       "    <tr>\n",
       "      <th>GradientBoostingClassifier</th>\n",
       "      <td>0.839459</td>\n",
       "      <td>0.947725</td>\n",
       "      <td>0.890509</td>\n",
       "      <td>0.928510</td>\n",
       "      <td>0.814833</td>\n",
       "      <td>0.620652</td>\n",
       "      <td>0.895976</td>\n",
       "      <td>0.778341</td>\n",
       "      <td>0.918360</td>\n",
       "    </tr>\n",
       "    <tr>\n",
       "      <th>LGBMClassifier</th>\n",
       "      <td>0.845396</td>\n",
       "      <td>0.944734</td>\n",
       "      <td>0.894049</td>\n",
       "      <td>0.949969</td>\n",
       "      <td>0.821067</td>\n",
       "      <td>0.728261</td>\n",
       "      <td>0.897401</td>\n",
       "      <td>0.822059</td>\n",
       "      <td>0.928419</td>\n",
       "    </tr>\n",
       "    <tr>\n",
       "      <th>RandomForestClassifier</th>\n",
       "      <td>0.838998</td>\n",
       "      <td>0.943239</td>\n",
       "      <td>0.895156</td>\n",
       "      <td>0.959990</td>\n",
       "      <td>0.818867</td>\n",
       "      <td>0.765217</td>\n",
       "      <td>0.895661</td>\n",
       "      <td>0.816872</td>\n",
       "      <td>0.931128</td>\n",
       "    </tr>\n",
       "    <tr>\n",
       "      <th>XGBClassifier</th>\n",
       "      <td>0.839203</td>\n",
       "      <td>0.949403</td>\n",
       "      <td>0.894932</td>\n",
       "      <td>0.949969</td>\n",
       "      <td>0.810600</td>\n",
       "      <td>0.698913</td>\n",
       "      <td>0.894907</td>\n",
       "      <td>0.803335</td>\n",
       "      <td>0.924551</td>\n",
       "    </tr>\n",
       "    <tr>\n",
       "      <th rowspan=\"7\" valign=\"top\">acc_train</th>\n",
       "      <th>CatBoostClassifier</th>\n",
       "      <td>0.862789</td>\n",
       "      <td>0.951128</td>\n",
       "      <td>0.949624</td>\n",
       "      <td>0.986770</td>\n",
       "      <td>0.914225</td>\n",
       "      <td>0.935054</td>\n",
       "      <td>0.916474</td>\n",
       "      <td>0.872788</td>\n",
       "      <td>0.950271</td>\n",
       "    </tr>\n",
       "    <tr>\n",
       "      <th>DecisionTreeClassifier</th>\n",
       "      <td>0.855866</td>\n",
       "      <td>0.951273</td>\n",
       "      <td>0.966435</td>\n",
       "      <td>1.000000</td>\n",
       "      <td>0.848950</td>\n",
       "      <td>0.973641</td>\n",
       "      <td>0.908530</td>\n",
       "      <td>0.913111</td>\n",
       "      <td>0.976297</td>\n",
       "    </tr>\n",
       "    <tr>\n",
       "      <th>FormalManager</th>\n",
       "      <td>0.799330</td>\n",
       "      <td>0.608357</td>\n",
       "      <td>0.872538</td>\n",
       "      <td>0.976754</td>\n",
       "      <td>0.741950</td>\n",
       "      <td>0.888043</td>\n",
       "      <td>0.703537</td>\n",
       "      <td>0.854839</td>\n",
       "      <td>0.847909</td>\n",
       "    </tr>\n",
       "    <tr>\n",
       "      <th>GradientBoostingClassifier</th>\n",
       "      <td>0.915472</td>\n",
       "      <td>0.964425</td>\n",
       "      <td>1.000000</td>\n",
       "      <td>1.000000</td>\n",
       "      <td>0.911417</td>\n",
       "      <td>1.000000</td>\n",
       "      <td>0.924791</td>\n",
       "      <td>0.949012</td>\n",
       "      <td>1.000000</td>\n",
       "    </tr>\n",
       "    <tr>\n",
       "      <th>LGBMClassifier</th>\n",
       "      <td>0.856474</td>\n",
       "      <td>0.947130</td>\n",
       "      <td>0.966766</td>\n",
       "      <td>0.991060</td>\n",
       "      <td>0.833075</td>\n",
       "      <td>0.964130</td>\n",
       "      <td>0.903385</td>\n",
       "      <td>0.876951</td>\n",
       "      <td>0.973878</td>\n",
       "    </tr>\n",
       "    <tr>\n",
       "      <th>RandomForestClassifier</th>\n",
       "      <td>0.855655</td>\n",
       "      <td>0.945238</td>\n",
       "      <td>0.962564</td>\n",
       "      <td>0.999642</td>\n",
       "      <td>0.855217</td>\n",
       "      <td>0.979620</td>\n",
       "      <td>0.904745</td>\n",
       "      <td>0.929502</td>\n",
       "      <td>0.972039</td>\n",
       "    </tr>\n",
       "    <tr>\n",
       "      <th>XGBClassifier</th>\n",
       "      <td>0.915319</td>\n",
       "      <td>0.963586</td>\n",
       "      <td>1.000000</td>\n",
       "      <td>0.999642</td>\n",
       "      <td>0.940167</td>\n",
       "      <td>1.000000</td>\n",
       "      <td>0.940373</td>\n",
       "      <td>0.936265</td>\n",
       "      <td>0.999226</td>\n",
       "    </tr>\n",
       "    <tr>\n",
       "      <th rowspan=\"7\" valign=\"top\">f1_test</th>\n",
       "      <th>CatBoostClassifier</th>\n",
       "      <td>0.646538</td>\n",
       "      <td>0.972279</td>\n",
       "      <td>0.418748</td>\n",
       "      <td>0.943576</td>\n",
       "      <td>0.454481</td>\n",
       "      <td>0.768143</td>\n",
       "      <td>0.353034</td>\n",
       "      <td>0.817429</td>\n",
       "      <td>0.022884</td>\n",
       "    </tr>\n",
       "    <tr>\n",
       "      <th>DecisionTreeClassifier</th>\n",
       "      <td>0.609303</td>\n",
       "      <td>0.970358</td>\n",
       "      <td>0.434670</td>\n",
       "      <td>0.893155</td>\n",
       "      <td>0.464550</td>\n",
       "      <td>0.625066</td>\n",
       "      <td>0.327958</td>\n",
       "      <td>0.755931</td>\n",
       "      <td>0.112764</td>\n",
       "    </tr>\n",
       "    <tr>\n",
       "      <th>FormalManager</th>\n",
       "      <td>0.602438</td>\n",
       "      <td>0.950430</td>\n",
       "      <td>0.347299</td>\n",
       "      <td>0.951074</td>\n",
       "      <td>0.416720</td>\n",
       "      <td>0.696646</td>\n",
       "      <td>0.216505</td>\n",
       "      <td>0.803829</td>\n",
       "      <td>0.160055</td>\n",
       "    </tr>\n",
       "    <tr>\n",
       "      <th>GradientBoostingClassifier</th>\n",
       "      <td>0.636340</td>\n",
       "      <td>0.972665</td>\n",
       "      <td>0.424543</td>\n",
       "      <td>0.897011</td>\n",
       "      <td>0.464356</td>\n",
       "      <td>0.647053</td>\n",
       "      <td>0.345253</td>\n",
       "      <td>0.757579</td>\n",
       "      <td>0.082955</td>\n",
       "    </tr>\n",
       "    <tr>\n",
       "      <th>LGBMClassifier</th>\n",
       "      <td>0.644563</td>\n",
       "      <td>0.971455</td>\n",
       "      <td>0.408411</td>\n",
       "      <td>0.930009</td>\n",
       "      <td>0.476403</td>\n",
       "      <td>0.737984</td>\n",
       "      <td>0.348309</td>\n",
       "      <td>0.804081</td>\n",
       "      <td>0.028731</td>\n",
       "    </tr>\n",
       "    <tr>\n",
       "      <th>RandomForestClassifier</th>\n",
       "      <td>0.610084</td>\n",
       "      <td>0.970731</td>\n",
       "      <td>0.373352</td>\n",
       "      <td>0.945865</td>\n",
       "      <td>0.462643</td>\n",
       "      <td>0.769776</td>\n",
       "      <td>0.340574</td>\n",
       "      <td>0.797504</td>\n",
       "      <td>0.018084</td>\n",
       "    </tr>\n",
       "    <tr>\n",
       "      <th>XGBClassifier</th>\n",
       "      <td>0.638769</td>\n",
       "      <td>0.973520</td>\n",
       "      <td>0.450640</td>\n",
       "      <td>0.931166</td>\n",
       "      <td>0.456753</td>\n",
       "      <td>0.718463</td>\n",
       "      <td>0.355482</td>\n",
       "      <td>0.783533</td>\n",
       "      <td>0.048504</td>\n",
       "    </tr>\n",
       "    <tr>\n",
       "      <th rowspan=\"7\" valign=\"top\">f1_train</th>\n",
       "      <th>CatBoostClassifier</th>\n",
       "      <td>0.689229</td>\n",
       "      <td>0.974645</td>\n",
       "      <td>0.734129</td>\n",
       "      <td>0.981358</td>\n",
       "      <td>0.772853</td>\n",
       "      <td>0.941448</td>\n",
       "      <td>0.507490</td>\n",
       "      <td>0.860738</td>\n",
       "      <td>0.375330</td>\n",
       "    </tr>\n",
       "    <tr>\n",
       "      <th>DecisionTreeClassifier</th>\n",
       "      <td>0.666791</td>\n",
       "      <td>0.974663</td>\n",
       "      <td>0.834799</td>\n",
       "      <td>1.000000</td>\n",
       "      <td>0.576487</td>\n",
       "      <td>0.976089</td>\n",
       "      <td>0.429756</td>\n",
       "      <td>0.904445</td>\n",
       "      <td>0.774488</td>\n",
       "    </tr>\n",
       "    <tr>\n",
       "      <th>FormalManager</th>\n",
       "      <td>0.659616</td>\n",
       "      <td>0.746259</td>\n",
       "      <td>0.620749</td>\n",
       "      <td>0.967109</td>\n",
       "      <td>0.552963</td>\n",
       "      <td>0.897828</td>\n",
       "      <td>0.359531</td>\n",
       "      <td>0.846355</td>\n",
       "      <td>0.425759</td>\n",
       "    </tr>\n",
       "    <tr>\n",
       "      <th>GradientBoostingClassifier</th>\n",
       "      <td>0.813408</td>\n",
       "      <td>0.981367</td>\n",
       "      <td>1.000000</td>\n",
       "      <td>1.000000</td>\n",
       "      <td>0.752671</td>\n",
       "      <td>1.000000</td>\n",
       "      <td>0.559039</td>\n",
       "      <td>0.945059</td>\n",
       "      <td>1.000000</td>\n",
       "    </tr>\n",
       "    <tr>\n",
       "      <th>LGBMClassifier</th>\n",
       "      <td>0.669424</td>\n",
       "      <td>0.972671</td>\n",
       "      <td>0.838886</td>\n",
       "      <td>0.987176</td>\n",
       "      <td>0.513579</td>\n",
       "      <td>0.967939</td>\n",
       "      <td>0.383646</td>\n",
       "      <td>0.866309</td>\n",
       "      <td>0.752774</td>\n",
       "    </tr>\n",
       "    <tr>\n",
       "      <th>RandomForestClassifier</th>\n",
       "      <td>0.652089</td>\n",
       "      <td>0.971746</td>\n",
       "      <td>0.807056</td>\n",
       "      <td>0.999523</td>\n",
       "      <td>0.573895</td>\n",
       "      <td>0.981176</td>\n",
       "      <td>0.392161</td>\n",
       "      <td>0.923648</td>\n",
       "      <td>0.718229</td>\n",
       "    </tr>\n",
       "    <tr>\n",
       "      <th>XGBClassifier</th>\n",
       "      <td>0.814580</td>\n",
       "      <td>0.980904</td>\n",
       "      <td>1.000000</td>\n",
       "      <td>0.999440</td>\n",
       "      <td>0.846176</td>\n",
       "      <td>1.000000</td>\n",
       "      <td>0.679655</td>\n",
       "      <td>0.931475</td>\n",
       "      <td>0.993644</td>\n",
       "    </tr>\n",
       "    <tr>\n",
       "      <th rowspan=\"7\" valign=\"top\">roc_test</th>\n",
       "      <th>CatBoostClassifier</th>\n",
       "      <td>0.895624</td>\n",
       "      <td>0.820448</td>\n",
       "      <td>0.897483</td>\n",
       "      <td>0.989917</td>\n",
       "      <td>0.743218</td>\n",
       "      <td>0.809852</td>\n",
       "      <td>0.730620</td>\n",
       "      <td>0.905873</td>\n",
       "      <td>0.667221</td>\n",
       "    </tr>\n",
       "    <tr>\n",
       "      <th>DecisionTreeClassifier</th>\n",
       "      <td>0.859944</td>\n",
       "      <td>0.744246</td>\n",
       "      <td>0.705457</td>\n",
       "      <td>0.916356</td>\n",
       "      <td>0.726058</td>\n",
       "      <td>0.584482</td>\n",
       "      <td>0.712247</td>\n",
       "      <td>0.796390</td>\n",
       "      <td>0.567538</td>\n",
       "    </tr>\n",
       "    <tr>\n",
       "      <th>FormalManager</th>\n",
       "      <td>0.874335</td>\n",
       "      <td>0.576616</td>\n",
       "      <td>0.863689</td>\n",
       "      <td>0.986167</td>\n",
       "      <td>0.770580</td>\n",
       "      <td>0.737289</td>\n",
       "      <td>0.694242</td>\n",
       "      <td>0.879027</td>\n",
       "      <td>0.656894</td>\n",
       "    </tr>\n",
       "    <tr>\n",
       "      <th>GradientBoostingClassifier</th>\n",
       "      <td>0.887255</td>\n",
       "      <td>0.835280</td>\n",
       "      <td>0.877980</td>\n",
       "      <td>0.958312</td>\n",
       "      <td>0.767038</td>\n",
       "      <td>0.630723</td>\n",
       "      <td>0.752771</td>\n",
       "      <td>0.849167</td>\n",
       "      <td>0.635196</td>\n",
       "    </tr>\n",
       "    <tr>\n",
       "      <th>LGBMClassifier</th>\n",
       "      <td>0.896477</td>\n",
       "      <td>0.818826</td>\n",
       "      <td>0.897563</td>\n",
       "      <td>0.989759</td>\n",
       "      <td>0.781461</td>\n",
       "      <td>0.766061</td>\n",
       "      <td>0.764246</td>\n",
       "      <td>0.890509</td>\n",
       "      <td>0.644756</td>\n",
       "    </tr>\n",
       "    <tr>\n",
       "      <th>RandomForestClassifier</th>\n",
       "      <td>0.889130</td>\n",
       "      <td>0.826088</td>\n",
       "      <td>0.897606</td>\n",
       "      <td>0.990707</td>\n",
       "      <td>0.777066</td>\n",
       "      <td>0.778558</td>\n",
       "      <td>0.755062</td>\n",
       "      <td>0.892578</td>\n",
       "      <td>0.647840</td>\n",
       "    </tr>\n",
       "    <tr>\n",
       "      <th>XGBClassifier</th>\n",
       "      <td>0.888002</td>\n",
       "      <td>0.841160</td>\n",
       "      <td>0.894871</td>\n",
       "      <td>0.987418</td>\n",
       "      <td>0.759287</td>\n",
       "      <td>0.740509</td>\n",
       "      <td>0.745714</td>\n",
       "      <td>0.871163</td>\n",
       "      <td>0.631626</td>\n",
       "    </tr>\n",
       "    <tr>\n",
       "      <th rowspan=\"7\" valign=\"top\">roc_train</th>\n",
       "      <th>CatBoostClassifier</th>\n",
       "      <td>0.917787</td>\n",
       "      <td>0.908255</td>\n",
       "      <td>0.968864</td>\n",
       "      <td>0.999523</td>\n",
       "      <td>0.959015</td>\n",
       "      <td>0.978552</td>\n",
       "      <td>0.889172</td>\n",
       "      <td>0.937300</td>\n",
       "      <td>0.900238</td>\n",
       "    </tr>\n",
       "    <tr>\n",
       "      <th>DecisionTreeClassifier</th>\n",
       "      <td>0.912106</td>\n",
       "      <td>0.840654</td>\n",
       "      <td>0.973767</td>\n",
       "      <td>1.000000</td>\n",
       "      <td>0.827994</td>\n",
       "      <td>0.995852</td>\n",
       "      <td>0.785853</td>\n",
       "      <td>0.977128</td>\n",
       "      <td>0.962464</td>\n",
       "    </tr>\n",
       "    <tr>\n",
       "      <th>FormalManager</th>\n",
       "      <td>0.885360</td>\n",
       "      <td>0.603615</td>\n",
       "      <td>0.952097</td>\n",
       "      <td>0.989658</td>\n",
       "      <td>0.811351</td>\n",
       "      <td>0.942024</td>\n",
       "      <td>0.770081</td>\n",
       "      <td>0.922057</td>\n",
       "      <td>0.942701</td>\n",
       "    </tr>\n",
       "    <tr>\n",
       "      <th>GradientBoostingClassifier</th>\n",
       "      <td>0.971458</td>\n",
       "      <td>0.978985</td>\n",
       "      <td>1.000000</td>\n",
       "      <td>1.000000</td>\n",
       "      <td>0.963150</td>\n",
       "      <td>1.000000</td>\n",
       "      <td>0.935987</td>\n",
       "      <td>0.993769</td>\n",
       "      <td>1.000000</td>\n",
       "    </tr>\n",
       "    <tr>\n",
       "      <th>LGBMClassifier</th>\n",
       "      <td>0.910696</td>\n",
       "      <td>0.900709</td>\n",
       "      <td>0.992925</td>\n",
       "      <td>0.999786</td>\n",
       "      <td>0.843416</td>\n",
       "      <td>0.995938</td>\n",
       "      <td>0.818356</td>\n",
       "      <td>0.953629</td>\n",
       "      <td>0.996387</td>\n",
       "    </tr>\n",
       "    <tr>\n",
       "      <th>RandomForestClassifier</th>\n",
       "      <td>0.917587</td>\n",
       "      <td>0.924813</td>\n",
       "      <td>0.988208</td>\n",
       "      <td>1.000000</td>\n",
       "      <td>0.853185</td>\n",
       "      <td>0.998358</td>\n",
       "      <td>0.830354</td>\n",
       "      <td>0.979615</td>\n",
       "      <td>0.997135</td>\n",
       "    </tr>\n",
       "    <tr>\n",
       "      <th>XGBClassifier</th>\n",
       "      <td>0.971260</td>\n",
       "      <td>0.977981</td>\n",
       "      <td>1.000000</td>\n",
       "      <td>1.000000</td>\n",
       "      <td>0.988281</td>\n",
       "      <td>1.000000</td>\n",
       "      <td>0.981402</td>\n",
       "      <td>0.984147</td>\n",
       "      <td>0.999995</td>\n",
       "    </tr>\n",
       "  </tbody>\n",
       "</table>\n",
       "</div>"
      ],
      "text/plain": [
       "ds                                       adult    amazon      bank    breast  \\\n",
       "          model                                                                \n",
       "acc_test  CatBoostClassifier          0.843912  0.946504  0.897147  0.958561   \n",
       "          DecisionTreeClassifier      0.830348  0.942995  0.883875  0.927081   \n",
       "          FormalManager               0.717454  0.906374  0.593012  0.964265   \n",
       "          GradientBoostingClassifier  0.839459  0.947725  0.890509  0.928510   \n",
       "          LGBMClassifier              0.845396  0.944734  0.894049  0.949969   \n",
       "          RandomForestClassifier      0.838998  0.943239  0.895156  0.959990   \n",
       "          XGBClassifier               0.839203  0.949403  0.894932  0.949969   \n",
       "acc_train CatBoostClassifier          0.862789  0.951128  0.949624  0.986770   \n",
       "          DecisionTreeClassifier      0.855866  0.951273  0.966435  1.000000   \n",
       "          FormalManager               0.799330  0.608357  0.872538  0.976754   \n",
       "          GradientBoostingClassifier  0.915472  0.964425  1.000000  1.000000   \n",
       "          LGBMClassifier              0.856474  0.947130  0.966766  0.991060   \n",
       "          RandomForestClassifier      0.855655  0.945238  0.962564  0.999642   \n",
       "          XGBClassifier               0.915319  0.963586  1.000000  0.999642   \n",
       "f1_test   CatBoostClassifier          0.646538  0.972279  0.418748  0.943576   \n",
       "          DecisionTreeClassifier      0.609303  0.970358  0.434670  0.893155   \n",
       "          FormalManager               0.602438  0.950430  0.347299  0.951074   \n",
       "          GradientBoostingClassifier  0.636340  0.972665  0.424543  0.897011   \n",
       "          LGBMClassifier              0.644563  0.971455  0.408411  0.930009   \n",
       "          RandomForestClassifier      0.610084  0.970731  0.373352  0.945865   \n",
       "          XGBClassifier               0.638769  0.973520  0.450640  0.931166   \n",
       "f1_train  CatBoostClassifier          0.689229  0.974645  0.734129  0.981358   \n",
       "          DecisionTreeClassifier      0.666791  0.974663  0.834799  1.000000   \n",
       "          FormalManager               0.659616  0.746259  0.620749  0.967109   \n",
       "          GradientBoostingClassifier  0.813408  0.981367  1.000000  1.000000   \n",
       "          LGBMClassifier              0.669424  0.972671  0.838886  0.987176   \n",
       "          RandomForestClassifier      0.652089  0.971746  0.807056  0.999523   \n",
       "          XGBClassifier               0.814580  0.980904  1.000000  0.999440   \n",
       "roc_test  CatBoostClassifier          0.895624  0.820448  0.897483  0.989917   \n",
       "          DecisionTreeClassifier      0.859944  0.744246  0.705457  0.916356   \n",
       "          FormalManager               0.874335  0.576616  0.863689  0.986167   \n",
       "          GradientBoostingClassifier  0.887255  0.835280  0.877980  0.958312   \n",
       "          LGBMClassifier              0.896477  0.818826  0.897563  0.989759   \n",
       "          RandomForestClassifier      0.889130  0.826088  0.897606  0.990707   \n",
       "          XGBClassifier               0.888002  0.841160  0.894871  0.987418   \n",
       "roc_train CatBoostClassifier          0.917787  0.908255  0.968864  0.999523   \n",
       "          DecisionTreeClassifier      0.912106  0.840654  0.973767  1.000000   \n",
       "          FormalManager               0.885360  0.603615  0.952097  0.989658   \n",
       "          GradientBoostingClassifier  0.971458  0.978985  1.000000  1.000000   \n",
       "          LGBMClassifier              0.910696  0.900709  0.992925  0.999786   \n",
       "          RandomForestClassifier      0.917587  0.924813  0.988208  1.000000   \n",
       "          XGBClassifier               0.971260  0.977981  1.000000  1.000000   \n",
       "\n",
       "ds                                      credit     heart      kick  \\\n",
       "          model                                                      \n",
       "acc_test  CatBoostClassifier          0.805767  0.766304  0.894756   \n",
       "          DecisionTreeClassifier      0.809000  0.593478  0.892317   \n",
       "          FormalManager               0.433800  0.636957  0.138581   \n",
       "          GradientBoostingClassifier  0.814833  0.620652  0.895976   \n",
       "          LGBMClassifier              0.821067  0.728261  0.897401   \n",
       "          RandomForestClassifier      0.818867  0.765217  0.895661   \n",
       "          XGBClassifier               0.810600  0.698913  0.894907   \n",
       "acc_train CatBoostClassifier          0.914225  0.935054  0.916474   \n",
       "          DecisionTreeClassifier      0.848950  0.973641  0.908530   \n",
       "          FormalManager               0.741950  0.888043  0.703537   \n",
       "          GradientBoostingClassifier  0.911417  1.000000  0.924791   \n",
       "          LGBMClassifier              0.833075  0.964130  0.903385   \n",
       "          RandomForestClassifier      0.855217  0.979620  0.904745   \n",
       "          XGBClassifier               0.940167  1.000000  0.940373   \n",
       "f1_test   CatBoostClassifier          0.454481  0.768143  0.353034   \n",
       "          DecisionTreeClassifier      0.464550  0.625066  0.327958   \n",
       "          FormalManager               0.416720  0.696646  0.216505   \n",
       "          GradientBoostingClassifier  0.464356  0.647053  0.345253   \n",
       "          LGBMClassifier              0.476403  0.737984  0.348309   \n",
       "          RandomForestClassifier      0.462643  0.769776  0.340574   \n",
       "          XGBClassifier               0.456753  0.718463  0.355482   \n",
       "f1_train  CatBoostClassifier          0.772853  0.941448  0.507490   \n",
       "          DecisionTreeClassifier      0.576487  0.976089  0.429756   \n",
       "          FormalManager               0.552963  0.897828  0.359531   \n",
       "          GradientBoostingClassifier  0.752671  1.000000  0.559039   \n",
       "          LGBMClassifier              0.513579  0.967939  0.383646   \n",
       "          RandomForestClassifier      0.573895  0.981176  0.392161   \n",
       "          XGBClassifier               0.846176  1.000000  0.679655   \n",
       "roc_test  CatBoostClassifier          0.743218  0.809852  0.730620   \n",
       "          DecisionTreeClassifier      0.726058  0.584482  0.712247   \n",
       "          FormalManager               0.770580  0.737289  0.694242   \n",
       "          GradientBoostingClassifier  0.767038  0.630723  0.752771   \n",
       "          LGBMClassifier              0.781461  0.766061  0.764246   \n",
       "          RandomForestClassifier      0.777066  0.778558  0.755062   \n",
       "          XGBClassifier               0.759287  0.740509  0.745714   \n",
       "roc_train CatBoostClassifier          0.959015  0.978552  0.889172   \n",
       "          DecisionTreeClassifier      0.827994  0.995852  0.785853   \n",
       "          FormalManager               0.811351  0.942024  0.770081   \n",
       "          GradientBoostingClassifier  0.963150  1.000000  0.935987   \n",
       "          LGBMClassifier              0.843416  0.995938  0.818356   \n",
       "          RandomForestClassifier      0.853185  0.998358  0.830354   \n",
       "          XGBClassifier               0.988281  1.000000  0.981402   \n",
       "\n",
       "ds                                    mammograph   seismic  \n",
       "          model                                             \n",
       "acc_test  CatBoostClassifier            0.836642  0.932288  \n",
       "          DecisionTreeClassifier        0.783560  0.874641  \n",
       "          FormalManager                 0.810633  0.668004  \n",
       "          GradientBoostingClassifier    0.778341  0.918360  \n",
       "          LGBMClassifier                0.822059  0.928419  \n",
       "          RandomForestClassifier        0.816872  0.931128  \n",
       "          XGBClassifier                 0.803335  0.924551  \n",
       "acc_train CatBoostClassifier            0.872788  0.950271  \n",
       "          DecisionTreeClassifier        0.913111  0.976297  \n",
       "          FormalManager                 0.854839  0.847909  \n",
       "          GradientBoostingClassifier    0.949012  1.000000  \n",
       "          LGBMClassifier                0.876951  0.973878  \n",
       "          RandomForestClassifier        0.929502  0.972039  \n",
       "          XGBClassifier                 0.936265  0.999226  \n",
       "f1_test   CatBoostClassifier            0.817429  0.022884  \n",
       "          DecisionTreeClassifier        0.755931  0.112764  \n",
       "          FormalManager                 0.803829  0.160055  \n",
       "          GradientBoostingClassifier    0.757579  0.082955  \n",
       "          LGBMClassifier                0.804081  0.028731  \n",
       "          RandomForestClassifier        0.797504  0.018084  \n",
       "          XGBClassifier                 0.783533  0.048504  \n",
       "f1_train  CatBoostClassifier            0.860738  0.375330  \n",
       "          DecisionTreeClassifier        0.904445  0.774488  \n",
       "          FormalManager                 0.846355  0.425759  \n",
       "          GradientBoostingClassifier    0.945059  1.000000  \n",
       "          LGBMClassifier                0.866309  0.752774  \n",
       "          RandomForestClassifier        0.923648  0.718229  \n",
       "          XGBClassifier                 0.931475  0.993644  \n",
       "roc_test  CatBoostClassifier            0.905873  0.667221  \n",
       "          DecisionTreeClassifier        0.796390  0.567538  \n",
       "          FormalManager                 0.879027  0.656894  \n",
       "          GradientBoostingClassifier    0.849167  0.635196  \n",
       "          LGBMClassifier                0.890509  0.644756  \n",
       "          RandomForestClassifier        0.892578  0.647840  \n",
       "          XGBClassifier                 0.871163  0.631626  \n",
       "roc_train CatBoostClassifier            0.937300  0.900238  \n",
       "          DecisionTreeClassifier        0.977128  0.962464  \n",
       "          FormalManager                 0.922057  0.942701  \n",
       "          GradientBoostingClassifier    0.993769  1.000000  \n",
       "          LGBMClassifier                0.953629  0.996387  \n",
       "          RandomForestClassifier        0.979615  0.997135  \n",
       "          XGBClassifier                 0.984147  0.999995  "
      ]
     },
     "execution_count": 140,
     "metadata": {},
     "output_type": "execute_result"
    }
   ],
   "source": [
    "stat_ds.pivot_table(index='ds', columns='model', values=ms, aggfunc='mean').T"
   ]
  },
  {
   "cell_type": "code",
   "execution_count": 141,
   "metadata": {},
   "outputs": [
    {
     "ename": "TypeError",
     "evalue": "first argument must be an iterable of pandas objects, you passed an object of type \"DataFrame\"",
     "output_type": "error",
     "traceback": [
      "\u001b[0;31m---------------------------------------------------------------------------\u001b[0m",
      "\u001b[0;31mTypeError\u001b[0m                                 Traceback (most recent call last)",
      "\u001b[0;32m<ipython-input-141-5add70a0f030>\u001b[0m in \u001b[0;36m<module>\u001b[0;34m\u001b[0m\n\u001b[0;32m----> 1\u001b[0;31m \u001b[0mpd\u001b[0m\u001b[0;34m.\u001b[0m\u001b[0mconcat\u001b[0m\u001b[0;34m(\u001b[0m\u001b[0mstat_ds\u001b[0m\u001b[0;34m,\u001b[0m\u001b[0;36m1\u001b[0m\u001b[0;34m)\u001b[0m\u001b[0;34m.\u001b[0m\u001b[0mT\u001b[0m\u001b[0;34m.\u001b[0m\u001b[0mset_index\u001b[0m\u001b[0;34m(\u001b[0m\u001b[0;34m'model'\u001b[0m\u001b[0;34m)\u001b[0m\u001b[0;34m\u001b[0m\u001b[0;34m\u001b[0m\u001b[0m\n\u001b[0m",
      "\u001b[0;32m~/anaconda3/lib/python3.7/site-packages/pandas/core/reshape/concat.py\u001b[0m in \u001b[0;36mconcat\u001b[0;34m(objs, axis, join, ignore_index, keys, levels, names, verify_integrity, sort, copy)\u001b[0m\n\u001b[1;32m    279\u001b[0m         \u001b[0mverify_integrity\u001b[0m\u001b[0;34m=\u001b[0m\u001b[0mverify_integrity\u001b[0m\u001b[0;34m,\u001b[0m\u001b[0;34m\u001b[0m\u001b[0;34m\u001b[0m\u001b[0m\n\u001b[1;32m    280\u001b[0m         \u001b[0mcopy\u001b[0m\u001b[0;34m=\u001b[0m\u001b[0mcopy\u001b[0m\u001b[0;34m,\u001b[0m\u001b[0;34m\u001b[0m\u001b[0;34m\u001b[0m\u001b[0m\n\u001b[0;32m--> 281\u001b[0;31m         \u001b[0msort\u001b[0m\u001b[0;34m=\u001b[0m\u001b[0msort\u001b[0m\u001b[0;34m,\u001b[0m\u001b[0;34m\u001b[0m\u001b[0;34m\u001b[0m\u001b[0m\n\u001b[0m\u001b[1;32m    282\u001b[0m     )\n\u001b[1;32m    283\u001b[0m \u001b[0;34m\u001b[0m\u001b[0m\n",
      "\u001b[0;32m~/anaconda3/lib/python3.7/site-packages/pandas/core/reshape/concat.py\u001b[0m in \u001b[0;36m__init__\u001b[0;34m(self, objs, axis, join, keys, levels, names, ignore_index, verify_integrity, copy, sort)\u001b[0m\n\u001b[1;32m    307\u001b[0m                 \u001b[0;34m\"first argument must be an iterable of pandas \"\u001b[0m\u001b[0;34m\u001b[0m\u001b[0;34m\u001b[0m\u001b[0m\n\u001b[1;32m    308\u001b[0m                 \u001b[0;34m\"objects, you passed an object of type \"\u001b[0m\u001b[0;34m\u001b[0m\u001b[0;34m\u001b[0m\u001b[0m\n\u001b[0;32m--> 309\u001b[0;31m                 \u001b[0;34m'\"{name}\"'\u001b[0m\u001b[0;34m.\u001b[0m\u001b[0mformat\u001b[0m\u001b[0;34m(\u001b[0m\u001b[0mname\u001b[0m\u001b[0;34m=\u001b[0m\u001b[0mtype\u001b[0m\u001b[0;34m(\u001b[0m\u001b[0mobjs\u001b[0m\u001b[0;34m)\u001b[0m\u001b[0;34m.\u001b[0m\u001b[0m__name__\u001b[0m\u001b[0;34m)\u001b[0m\u001b[0;34m\u001b[0m\u001b[0;34m\u001b[0m\u001b[0m\n\u001b[0m\u001b[1;32m    310\u001b[0m             )\n\u001b[1;32m    311\u001b[0m \u001b[0;34m\u001b[0m\u001b[0m\n",
      "\u001b[0;31mTypeError\u001b[0m: first argument must be an iterable of pandas objects, you passed an object of type \"DataFrame\""
     ]
    }
   ],
   "source": [
    "pd.concat(stat_ds,1).T.set_index('model')"
   ]
  },
  {
   "cell_type": "code",
   "execution_count": null,
   "metadata": {},
   "outputs": [],
   "source": []
  }
 ],
 "metadata": {
  "kernelspec": {
   "display_name": "Python 3",
   "language": "python",
   "name": "python3"
  },
  "language_info": {
   "codemirror_mode": {
    "name": "ipython",
    "version": 3
   },
   "file_extension": ".py",
   "mimetype": "text/x-python",
   "name": "python",
   "nbconvert_exporter": "python",
   "pygments_lexer": "ipython3",
   "version": "3.7.6"
  }
 },
 "nbformat": 4,
 "nbformat_minor": 4
}
