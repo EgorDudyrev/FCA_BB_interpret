{
 "cells": [
  {
   "cell_type": "markdown",
   "metadata": {},
   "source": [
    "# Preliminary\n",
    "* Import libraries\n",
    "* Load data\n",
    "* Train BlackBox model"
   ]
  },
  {
   "cell_type": "code",
   "execution_count": 146,
   "metadata": {},
   "outputs": [
    {
     "data": {
      "text/html": [
       "<style>.container { width:90% !important; }</style>"
      ],
      "text/plain": [
       "<IPython.core.display.HTML object>"
      ]
     },
     "metadata": {},
     "output_type": "display_data"
    }
   ],
   "source": [
    "import numpy as np\n",
    "import pandas as pd\n",
    "import catboost as cb\n",
    "from sklearn.model_selection import train_test_split\n",
    "from sklearn.metrics import accuracy_score, precision_score, recall_score\n",
    "\n",
    "from IPython.core.display import display, HTML\n",
    "display(HTML(\"<style>.container { width:90% !important; }</style>\"))\n",
    "\n",
    "import os\n",
    "BASE_PATH = os.path.realpath('..')\n",
    "DATASETS_DIR = os.path.join(BASE_PATH, 'datasets')\n",
    "LIB_DIR = os.path.join(BASE_PATH,'lib')\n",
    "if LIB_DIR not in sys.path:\n",
    "    sys.path.append(LIB_DIR)\n",
    "\n",
    "import matplotlib.pyplot as plt\n",
    "import seaborn as sns\n",
    "from tqdm import tqdm_notebook"
   ]
  },
  {
   "cell_type": "code",
   "execution_count": 141,
   "metadata": {},
   "outputs": [],
   "source": [
    "import sys"
   ]
  },
  {
   "cell_type": "code",
   "execution_count": 3,
   "metadata": {},
   "outputs": [],
   "source": [
    "import scipy as sp"
   ]
  },
  {
   "cell_type": "code",
   "execution_count": 4,
   "metadata": {},
   "outputs": [],
   "source": [
    "from itertools import combinations, islice"
   ]
  },
  {
   "cell_type": "code",
   "execution_count": 5,
   "metadata": {},
   "outputs": [],
   "source": [
    "from datetime import datetime"
   ]
  },
  {
   "cell_type": "code",
   "execution_count": 107,
   "metadata": {},
   "outputs": [
    {
     "name": "stdout",
     "output_type": "stream",
     "text": [
      "bank.csv       bank-names.txt  hepatitis.names\r\n",
      "bank-full.csv  hepatitis.data  mango.csv\r\n"
     ]
    }
   ],
   "source": [
    "!ls {DATASETS_DIR}"
   ]
  },
  {
   "cell_type": "code",
   "execution_count": 111,
   "metadata": {},
   "outputs": [
    {
     "data": {
      "text/html": [
       "<div>\n",
       "<style scoped>\n",
       "    .dataframe tbody tr th:only-of-type {\n",
       "        vertical-align: middle;\n",
       "    }\n",
       "\n",
       "    .dataframe tbody tr th {\n",
       "        vertical-align: top;\n",
       "    }\n",
       "\n",
       "    .dataframe thead th {\n",
       "        text-align: right;\n",
       "    }\n",
       "</style>\n",
       "<table border=\"1\" class=\"dataframe\">\n",
       "  <thead>\n",
       "    <tr style=\"text-align: right;\">\n",
       "      <th></th>\n",
       "      <th>color</th>\n",
       "      <th>firm</th>\n",
       "      <th>smooth</th>\n",
       "      <th>form</th>\n",
       "      <th>fruit</th>\n",
       "    </tr>\n",
       "    <tr>\n",
       "      <th>title</th>\n",
       "      <th></th>\n",
       "      <th></th>\n",
       "      <th></th>\n",
       "      <th></th>\n",
       "      <th></th>\n",
       "    </tr>\n",
       "  </thead>\n",
       "  <tbody>\n",
       "    <tr>\n",
       "      <th>apple</th>\n",
       "      <td>yellow</td>\n",
       "      <td>False</td>\n",
       "      <td>True</td>\n",
       "      <td>round</td>\n",
       "      <td>True</td>\n",
       "    </tr>\n",
       "    <tr>\n",
       "      <th>grapefruit</th>\n",
       "      <td>yellow</td>\n",
       "      <td>False</td>\n",
       "      <td>False</td>\n",
       "      <td>round</td>\n",
       "      <td>True</td>\n",
       "    </tr>\n",
       "    <tr>\n",
       "      <th>kiwi</th>\n",
       "      <td>green</td>\n",
       "      <td>False</td>\n",
       "      <td>False</td>\n",
       "      <td>oval</td>\n",
       "      <td>True</td>\n",
       "    </tr>\n",
       "    <tr>\n",
       "      <th>plum</th>\n",
       "      <td>blue</td>\n",
       "      <td>False</td>\n",
       "      <td>True</td>\n",
       "      <td>oval</td>\n",
       "      <td>True</td>\n",
       "    </tr>\n",
       "    <tr>\n",
       "      <th>toy cube</th>\n",
       "      <td>green</td>\n",
       "      <td>True</td>\n",
       "      <td>True</td>\n",
       "      <td>cubic</td>\n",
       "      <td>False</td>\n",
       "    </tr>\n",
       "    <tr>\n",
       "      <th>egg</th>\n",
       "      <td>white</td>\n",
       "      <td>True</td>\n",
       "      <td>True</td>\n",
       "      <td>oval</td>\n",
       "      <td>False</td>\n",
       "    </tr>\n",
       "    <tr>\n",
       "      <th>tennis ball</th>\n",
       "      <td>white</td>\n",
       "      <td>False</td>\n",
       "      <td>False</td>\n",
       "      <td>round</td>\n",
       "      <td>False</td>\n",
       "    </tr>\n",
       "    <tr>\n",
       "      <th>mango</th>\n",
       "      <td>green</td>\n",
       "      <td>False</td>\n",
       "      <td>True</td>\n",
       "      <td>oval</td>\n",
       "      <td>True</td>\n",
       "    </tr>\n",
       "  </tbody>\n",
       "</table>\n",
       "</div>"
      ],
      "text/plain": [
       "              color   firm  smooth   form  fruit\n",
       "title                                           \n",
       "apple        yellow  False    True  round   True\n",
       "grapefruit   yellow  False   False  round   True\n",
       "kiwi          green  False   False   oval   True\n",
       "plum           blue  False    True   oval   True\n",
       "toy cube      green   True    True  cubic  False\n",
       "egg           white   True    True   oval  False\n",
       "tennis ball   white  False   False  round  False\n",
       "mango         green  False    True   oval   True"
      ]
     },
     "execution_count": 111,
     "metadata": {},
     "output_type": "execute_result"
    }
   ],
   "source": [
    "mango_ds = pd.read_csv(os.path.join(DATASETS_DIR, 'mango.csv'), index_col=0)\n",
    "mango_ds"
   ]
  },
  {
   "cell_type": "code",
   "execution_count": 152,
   "metadata": {},
   "outputs": [],
   "source": [
    "import fca_interp as fcai"
   ]
  },
  {
   "cell_type": "code",
   "execution_count": 118,
   "metadata": {},
   "outputs": [],
   "source": [
    "mango_bin_ds = pd.DataFrame()\n",
    "for f in mango_ds.columns:\n",
    "    if mango_ds[f].dtype==bool:\n",
    "        mango_bin_ds[f] = mango_ds[f]\n",
    "    elif mango_ds[f].dtype==np.dtype('O'):\n",
    "        for v in mango_ds[f].unique():\n",
    "            mango_bin_ds[f\"{f}_{v}\"] = mango_ds[f]==v\n",
    "    else:\n",
    "        raise TypeError(f'Column DataType {mango_ds[f].dtype} is not supported. Possible variants are [bool, str]')"
   ]
  },
  {
   "cell_type": "code",
   "execution_count": 799,
   "metadata": {},
   "outputs": [],
   "source": [
    "fcai = reload(fcai)"
   ]
  },
  {
   "cell_type": "code",
   "execution_count": 800,
   "metadata": {},
   "outputs": [
    {
     "data": {
      "text/plain": [
       "Num of objects: 8, Num of attrs: 10\n",
       "Objects: apple,grapefruit,kiwi,plum,toy cube,...\n",
       "Attrs: color_yellow,color_green,color_blue,color_white,firm,...\n",
       "            color_yellow  color_green  color_blue  color_white   firm  smooth  \\\n",
       "apple               True        False       False        False  False    True   \n",
       "grapefruit          True        False       False        False  False   False   \n",
       "kiwi               False         True       False        False  False   False   \n",
       "plum               False        False        True        False  False    True   \n",
       "toy cube           False         True       False        False   True    True   \n",
       "\n",
       "            form_round  form_oval  form_cubic  fruit  \n",
       "apple             True      False       False   True  \n",
       "grapefruit        True      False       False   True  \n",
       "kiwi             False       True       False   True  \n",
       "plum             False       True       False   True  \n",
       "toy cube         False      False        True  False  "
      ]
     },
     "execution_count": 800,
     "metadata": {},
     "output_type": "execute_result"
    }
   ],
   "source": [
    "cntx = fcai.Context(mango_bin_ds)\n",
    "cntx"
   ]
  },
  {
   "cell_type": "code",
   "execution_count": 801,
   "metadata": {},
   "outputs": [],
   "source": [
    "fm = fcai.FormalManager(cntx)"
   ]
  },
  {
   "cell_type": "code",
   "execution_count": 802,
   "metadata": {},
   "outputs": [
    {
     "name": "stderr",
     "output_type": "stream",
     "text": [
      "\n",
      "\n",
      "\n",
      "  0%|          | 0/1 [00:00<?, ?it/s]\u001b[A\u001b[A\u001b[A\n",
      "\n",
      "\n",
      "100%|██████████| 90/90 [00:00<00:00, 2008.24it/s]\u001b[A\u001b[A\u001b[A"
     ]
    },
    {
     "data": {
      "text/plain": [
       "{Concept 0: (8 objs, 0 attrs),\n",
       " Concept 10: (2 objs, 2 attrs),\n",
       " Concept 11: (1 objs, 2 attrs),\n",
       " Concept 12: (3 objs, 2 attrs),\n",
       " Concept 13: (2 objs, 3 attrs),\n",
       " Concept 14: (2 objs, 3 attrs),\n",
       " Concept 15: (2 objs, 3 attrs),\n",
       " Concept 16: (1 objs, 4 attrs),\n",
       " Concept 17: (1 objs, 4 attrs),\n",
       " Concept 18: (1 objs, 4 attrs),\n",
       " Concept 19: (1 objs, 4 attrs),\n",
       " Concept 1: (4 objs, 1 attrs),\n",
       " Concept 20: (0 objs, 10 attrs),\n",
       " Concept 2: (5 objs, 1 attrs),\n",
       " Concept 3: (2 objs, 1 attrs),\n",
       " Concept 4: (3 objs, 1 attrs),\n",
       " Concept 5: (3 objs, 1 attrs),\n",
       " Concept 6: (5 objs, 1 attrs),\n",
       " Concept 7: (3 objs, 2 attrs),\n",
       " Concept 8: (2 objs, 2 attrs),\n",
       " Concept 9: (3 objs, 2 attrs)}"
      ]
     },
     "execution_count": 802,
     "metadata": {},
     "output_type": "execute_result"
    }
   ],
   "source": [
    "fm.construct_concepts()\n",
    "fm.get_concepts()"
   ]
  },
  {
   "cell_type": "code",
   "execution_count": 803,
   "metadata": {},
   "outputs": [
    {
     "name": "stderr",
     "output_type": "stream",
     "text": [
      "\n",
      "\n",
      "\n",
      "  0%|          | 0/20 [00:00<?, ?it/s]\u001b[A\u001b[A\u001b[A\n",
      "\n",
      "\n",
      "100%|██████████| 20/20 [00:00<00:00, 500.47it/s]\u001b[A\u001b[A\u001b[A"
     ]
    }
   ],
   "source": [
    "fm.construct_lattice()"
   ]
  },
  {
   "cell_type": "code",
   "execution_count": 804,
   "metadata": {},
   "outputs": [],
   "source": [
    "cncpts = list(fm.get_concepts())"
   ]
  },
  {
   "cell_type": "code",
   "execution_count": 805,
   "metadata": {},
   "outputs": [
    {
     "data": {
      "text/plain": [
       "Concept 7: (3 objs, 2 attrs)"
      ]
     },
     "execution_count": 805,
     "metadata": {},
     "output_type": "execute_result"
    }
   ],
   "source": [
    "cncpts[0]"
   ]
  },
  {
   "cell_type": "code",
   "execution_count": 806,
   "metadata": {},
   "outputs": [
    {
     "name": "stdout",
     "output_type": "stream",
     "text": [
      "Concept 7: (3 objs, 2 attrs)\n"
     ]
    },
    {
     "data": {
      "text/plain": [
       "Concept 20: (0 objs, 10 attrs)"
      ]
     },
     "execution_count": 806,
     "metadata": {},
     "output_type": "execute_result"
    }
   ],
   "source": [
    "print(cncpts[0])\n",
    "cncpts[0]._low_neighbs[0]"
   ]
  },
  {
   "cell_type": "code",
   "execution_count": 808,
   "metadata": {},
   "outputs": [
    {
     "data": {
      "text/plain": [
       "Concept 0: (8 objs, 0 attrs)"
      ]
     },
     "execution_count": 808,
     "metadata": {},
     "output_type": "execute_result"
    }
   ],
   "source": [
    "fm._top_concept"
   ]
  },
  {
   "cell_type": "code",
   "execution_count": 811,
   "metadata": {},
   "outputs": [
    {
     "data": {
      "text/plain": [
       "(Concept 20: (0 objs, 10 attrs),\n",
       " Concept 18: (1 objs, 4 attrs),\n",
       " Concept 19: (1 objs, 4 attrs),\n",
       " Concept 16: (1 objs, 4 attrs),\n",
       " Concept 17: (1 objs, 4 attrs),\n",
       " Concept 11: (1 objs, 2 attrs),\n",
       " Concept 13: (2 objs, 3 attrs),\n",
       " Concept 3: (2 objs, 1 attrs),\n",
       " Concept 15: (2 objs, 3 attrs),\n",
       " Concept 8: (2 objs, 2 attrs),\n",
       " Concept 10: (2 objs, 2 attrs),\n",
       " Concept 14: (2 objs, 3 attrs),\n",
       " Concept 7: (3 objs, 2 attrs),\n",
       " Concept 4: (3 objs, 1 attrs),\n",
       " Concept 9: (3 objs, 2 attrs),\n",
       " Concept 5: (3 objs, 1 attrs),\n",
       " Concept 12: (3 objs, 2 attrs),\n",
       " Concept 1: (4 objs, 1 attrs),\n",
       " Concept 2: (5 objs, 1 attrs))"
      ]
     },
     "execution_count": 811,
     "metadata": {},
     "output_type": "execute_result"
    }
   ],
   "source": [
    "fm._top_concept._low_neighbs"
   ]
  },
  {
   "cell_type": "code",
   "execution_count": 820,
   "metadata": {},
   "outputs": [
    {
     "data": {
      "text/plain": [
       "Concept 7: (3 objs, 2 attrs)"
      ]
     },
     "execution_count": 820,
     "metadata": {},
     "output_type": "execute_result"
    }
   ],
   "source": [
    "fm._bottom_concept._up_neighbs[0]"
   ]
  },
  {
   "cell_type": "code",
   "execution_count": 819,
   "metadata": {},
   "outputs": [
    {
     "data": {
      "text/plain": [
       "(Concept 20: (0 objs, 10 attrs),\n",
       " Concept 18: (1 objs, 4 attrs),\n",
       " Concept 16: (1 objs, 4 attrs),\n",
       " Concept 13: (2 objs, 3 attrs))"
      ]
     },
     "execution_count": 819,
     "metadata": {},
     "output_type": "execute_result"
    }
   ],
   "source": [
    "fm._bottom_concept._up_neighbs[0]._low_neighbs"
   ]
  }
 ],
 "metadata": {
  "kernelspec": {
   "display_name": "Python 3",
   "language": "python",
   "name": "python3"
  },
  "language_info": {
   "codemirror_mode": {
    "name": "ipython",
    "version": 3
   },
   "file_extension": ".py",
   "mimetype": "text/x-python",
   "name": "python",
   "nbconvert_exporter": "python",
   "pygments_lexer": "ipython3",
   "version": "3.7.1"
  }
 },
 "nbformat": 4,
 "nbformat_minor": 2
}
