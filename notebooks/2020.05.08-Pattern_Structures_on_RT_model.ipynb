{
 "cells": [
  {
   "cell_type": "code",
   "execution_count": 1,
   "metadata": {},
   "outputs": [
    {
     "data": {
      "text/html": [
       "<style>.container { width:90% !important; }</style>"
      ],
      "text/plain": [
       "<IPython.core.display.HTML object>"
      ]
     },
     "metadata": {},
     "output_type": "display_data"
    }
   ],
   "source": [
    "import numpy as np\n",
    "import pandas as pd\n",
    "\n",
    "from catboost import CatBoostClassifier, Pool, CatBoostRegressor\n",
    "from sklearn.model_selection import train_test_split\n",
    "from sklearn.metrics import accuracy_score, precision_score, recall_score\n",
    "\n",
    "from IPython.core.display import display, HTML\n",
    "display(HTML(\"<style>.container { width:90% !important; }</style>\"))\n",
    "\n",
    "import os\n",
    "import sys\n",
    "BASE_PATH = os.path.realpath('..')\n",
    "DATASETS_DIR = os.path.join(BASE_PATH, 'datasets')\n",
    "LIB_DIR = os.path.join(BASE_PATH,'lib')\n",
    "if LIB_DIR not in sys.path:\n",
    "    sys.path.append(LIB_DIR)\n",
    "\n",
    "import matplotlib.pyplot as plt\n",
    "import seaborn as sns\n",
    "from tqdm.notebook import tqdm\n",
    "\n",
    "from importlib import reload"
   ]
  },
  {
   "cell_type": "code",
   "execution_count": 2,
   "metadata": {},
   "outputs": [],
   "source": [
    "import fca_interp as fcai"
   ]
  },
  {
   "cell_type": "code",
   "execution_count": 3,
   "metadata": {},
   "outputs": [],
   "source": [
    "from utils_ import powerset"
   ]
  },
  {
   "cell_type": "code",
   "execution_count": 4,
   "metadata": {},
   "outputs": [],
   "source": [
    "from importlib import reload"
   ]
  },
  {
   "cell_type": "code",
   "execution_count": 5,
   "metadata": {},
   "outputs": [],
   "source": [
    "from sklearn.datasets import load_boston"
   ]
  },
  {
   "cell_type": "code",
   "execution_count": 7,
   "metadata": {},
   "outputs": [],
   "source": [
    "import numpy as np\n",
    "import pandas as pd\n",
    "import matplotlib.pyplot as plt\n",
    "import seaborn as sns\n",
    "\n",
    "from tqdm.notebook import tqdm\n",
    "\n",
    "import os\n",
    "import cx_Oracle\n",
    "import sys\n",
    "sys.path.append(os.path.abspath('/opt/jupyter/notebook/lib'))\n",
    "import ImportExport"
   ]
  },
  {
   "cell_type": "code",
   "execution_count": 8,
   "metadata": {},
   "outputs": [],
   "source": [
    "scheme = 'edudyrev'\n",
    "psw = 'WHspace10'\n",
    "\n",
    "model_files_cols = [\"id_\", \"name_\", \"data_\", \"version_\"]\n",
    "os.environ['NLS_LANG'] = 'American_America.AL32UTF8'"
   ]
  },
  {
   "cell_type": "code",
   "execution_count": 9,
   "metadata": {},
   "outputs": [],
   "source": [
    "con_str = f'{scheme}/{psw}@(DESCRIPTION=(ADDRESS=(PROTOCOL=tcp)(HOST=ex6s-scan.gksm.local)(PORT=1521))(CONNECT_DATA=(SERVICE_NAME=forecast)))'\n",
    "l_ora_conn=cx_Oracle.connect(con_str)\n",
    "c = l_ora_conn.cursor()"
   ]
  },
  {
   "cell_type": "code",
   "execution_count": 10,
   "metadata": {},
   "outputs": [],
   "source": [
    "imp_exp = ImportExport.ImportExport(p_in_username = 'edudyrev',\n",
    "    p_in_pass = 'WHspace10',\n",
    "    p_in_schema ='edudyrev',\n",
    "    #p_in_host = \"ex6s-scan.gksm.local\",\n",
    "    p_in_host = \"ex6s-scan.gksm.local\",\n",
    "    p_in_service_name = \"forecast\",\n",
    "    p_in_hdfs_path = 'hdfs://bigdata-ns/h2o/dev/',\n",
    "    p_in_debug=1,\n",
    "    )"
   ]
  },
  {
   "cell_type": "code",
   "execution_count": 16,
   "metadata": {},
   "outputs": [],
   "source": [
    "c.execute(\"\"\"select key_col_name, numeric_columns, factor_columns, accum_columns from shops_mod.v_forecast_models where model_id=3\"\"\")\n",
    "key_cols, num_cols, factor_cols, acc_cols = c.fetchall()[0]"
   ]
  },
  {
   "cell_type": "code",
   "execution_count": 17,
   "metadata": {},
   "outputs": [],
   "source": [
    "key_cols = key_cols.upper().split(',')\n",
    "num_cols = num_cols.upper().split(',')\n",
    "factor_cols = factor_cols.upper().split(',')\n",
    "acc_cols = acc_cols.upper().split(',')"
   ]
  },
  {
   "cell_type": "code",
   "execution_count": null,
   "metadata": {},
   "outputs": [],
   "source": []
  },
  {
   "cell_type": "code",
   "execution_count": null,
   "metadata": {},
   "outputs": [],
   "source": []
  },
  {
   "cell_type": "code",
   "execution_count": 18,
   "metadata": {},
   "outputs": [
    {
     "data": {
      "text/plain": [
       "['ID_OBJ', 'STYLECOLORID', 'DATE_']"
      ]
     },
     "execution_count": 18,
     "metadata": {},
     "output_type": "execute_result"
    }
   ],
   "source": [
    "key_cols"
   ]
  },
  {
   "cell_type": "code",
   "execution_count": null,
   "metadata": {},
   "outputs": [],
   "source": []
  },
  {
   "cell_type": "code",
   "execution_count": 14,
   "metadata": {},
   "outputs": [
    {
     "data": {
      "text/plain": [
       "'BONUS_NEXT_WEEK_END,DISC_CHANGE,DISC_CHANGE_PERC,DISCOUNT_LEVEL,DISCOUNT_LEVEL_LW,NSIZE,OOS,PERIOD_NUMBER,PLAN_DISC,PROMO_PERIOD,PROMO_TYPE_M_WKE_11,PROMO_TYPE_M_WKE_12,PROMO_TYPE_M_WKE_16,PROMO_TYPE_M_WKE_3,PROMO_TYPE_M_WKE_9,PROMO_TYPE_M_WKS_11,PROMO_TYPE_M_WKS_12,PROMO_TYPE_M_WKS_16,PROMO_TYPE_M_WKS_3,PROMO_TYPE_M_WKS_9,PROMO_TYPE_M_11,PROMO_TYPE_M_12,PROMO_TYPE_M_15,PROMO_TYPE_M_16,PROMO_TYPE_M_9,PROMO_TYPE_P_WKE_12,PROMO_TYPE_P_WKE_16,PROMO_TYPE_P_WKE_9,PROMO_TYPE_P_WKS_12,PROMO_TYPE_P_WKS_16,PROMO_TYPE_P_WKS_9,PROMO_TYPE_P_12,PROMO_TYPE_P_16,PROMO_TYPE_P_9,QTYUPA,WEEKNUMBER_FROM_INTAKEDATE,WORKDAYS_IT_CNT,N_DAY_YEAR,PROMO_TYPE_S_21,PROMO_TYPE_S_24,PROMO_TYPE_S_WKE_21,PROMO_TYPE_S_WKE_24,PROMO_TYPE_S_WKS_21,PROMO_TYPE_S_WKS_24,SPWPLAN,N_DAY_YEAR_COS,MIN_STORE_AGE_IN_MONTHS,MIN_STORE_AGE_IN_YEARS,TEMPERATURE_LAG1_DIFF,TEMPERATURE_LEAD1_DIFF,TEMPERATURE_LEAD2_DIFF,TEMPERATURE_PART_LEAD1,TEMPERATURE_PART_LEAD2,WEEKNUMBER_FROM_FIRST_RST,COOLING,HEATING,IS_PRECIPITATION,WEIGHT'"
      ]
     },
     "execution_count": 14,
     "metadata": {},
     "output_type": "execute_result"
    }
   ],
   "source": [
    "num_cols"
   ]
  },
  {
   "cell_type": "code",
   "execution_count": null,
   "metadata": {},
   "outputs": [],
   "source": []
  },
  {
   "cell_type": "code",
   "execution_count": null,
   "metadata": {},
   "outputs": [],
   "source": []
  },
  {
   "cell_type": "code",
   "execution_count": null,
   "metadata": {},
   "outputs": [],
   "source": []
  },
  {
   "cell_type": "code",
   "execution_count": null,
   "metadata": {},
   "outputs": [],
   "source": []
  },
  {
   "cell_type": "code",
   "execution_count": 6,
   "metadata": {},
   "outputs": [],
   "source": [
    "real_feats = ['age', 'default', 'housing', 'loan', 'campaign', 'pdays', 'previous', 'balance',]\n",
    "cat_feats  = ['job', 'marital', 'education', 'contact', 'month', 'poutcome',]"
   ]
  },
  {
   "cell_type": "code",
   "execution_count": 7,
   "metadata": {},
   "outputs": [],
   "source": [
    "bank_ds = pd.read_csv('bank_ds_new.csv', index_col=0)\n",
    "bank_ds.index = bank_ds.index.astype(str)"
   ]
  },
  {
   "cell_type": "code",
   "execution_count": 256,
   "metadata": {},
   "outputs": [],
   "source": [
    "bb = CatBoostClassifier(cat_features=cat_feats)\n",
    "bb.fit(bank_ds[cat_feats+real_feats], bank_ds['y'], verbose=False, plot=False)\n",
    "bank_ds['preds'] = bb.predict(bank_ds[cat_feats+real_feats])"
   ]
  },
  {
   "cell_type": "raw",
   "metadata": {},
   "source": [
    "bank_ds"
   ]
  },
  {
   "cell_type": "code",
   "execution_count": 8,
   "metadata": {},
   "outputs": [],
   "source": [
    "def calc_cover_of_concepts(concepts):\n",
    "    return set([str(g) for c in concepts for g in c.get_extent()])"
   ]
  },
  {
   "cell_type": "code",
   "execution_count": 9,
   "metadata": {},
   "outputs": [],
   "source": [
    "def get_min_concepts(concepts, use_tqdm=True):\n",
    "    concepts = sorted(concepts, key=lambda c: -len(c.get_extent()))\n",
    "    for i in tqdm(range(len(concepts)), disable=not use_tqdm):\n",
    "        if i >= len(concepts):\n",
    "            break\n",
    "        \n",
    "        c = concepts[i]\n",
    "        lns = set([c_ for c_ in concepts if c_!=c and c_.is_subconcept_of(c)])\n",
    "        concepts = [c_ for c_ in concepts if c_ not in lns]\n",
    "    return concepts"
   ]
  },
  {
   "cell_type": "code",
   "execution_count": 10,
   "metadata": {},
   "outputs": [],
   "source": [
    "def select_smallest_covering_hyps(concepts, use_tqdm=True, use_pruning=False):\n",
    "    selected_hyps = []\n",
    "    n_added = []\n",
    "    n_covered = []\n",
    "    for i in tqdm(range(len(concepts)), disable=not use_tqdm):\n",
    "        cncpts_to_check = [c for c in concepts if c not in selected_hyps]\n",
    "        if len(cncpts_to_check)==0:\n",
    "            break\n",
    "        cover = calc_cover_of_concepts(selected_hyps)\n",
    "        for c in cncpts_to_check:\n",
    "            c._metrics['n_uncovered'] = len([g for g in c.get_extent() if g not in cover])\n",
    "        cncpts_to_check = sorted(cncpts_to_check, key=lambda c: (-c._metrics['n_uncovered'], -c._metrics['strongness']))\n",
    "        n_ = cncpts_to_check[0]._metrics['n_uncovered']\n",
    "        if n_==0:\n",
    "            break\n",
    "        selected_hyps.append(cncpts_to_check[0])\n",
    "        n_added.append(n_)\n",
    "        n_covered.append(len(calc_cover_of_concepts(selected_hyps)))\n",
    "        \n",
    "    if use_pruning:\n",
    "        for i in tqdm(range(len(selected_hyps)), desc='pruning', disable=not use_tqdm):\n",
    "            cover = len(calc_cover_of_concepts(selected_hyps))\n",
    "            for c in selected_hyps:\n",
    "                cover_ = len(calc_cover_of_concepts([c_ for c_ in selected_hyps if c_!=c]))\n",
    "                if cover_==cover:\n",
    "                    selected_hyps = [c_ for c_ in selected_hyps if c_!=c]\n",
    "                    break\n",
    "            else:\n",
    "                break\n",
    "    \n",
    "    return selected_hyps"
   ]
  },
  {
   "cell_type": "code",
   "execution_count": 11,
   "metadata": {},
   "outputs": [],
   "source": [
    "def construct_bin_ds_from_ints(ints_, bin_ds_old):\n",
    "    bin_ds = pd.DataFrame()\n",
    "    for idx, int_ in enumerate(ints_):\n",
    "        bin_ds[f'int_{idx}'] = bin_ds_old[int_].all(1)\n",
    "    bin_ds.index = bin_ds_old.index\n",
    "    return bin_ds"
   ]
  },
  {
   "cell_type": "markdown",
   "metadata": {},
   "source": [
    "# Анализируем положительные примеры"
   ]
  },
  {
   "cell_type": "code",
   "execution_count": 12,
   "metadata": {},
   "outputs": [],
   "source": [
    "import fca_interp as fcai"
   ]
  },
  {
   "cell_type": "code",
   "execution_count": 13,
   "metadata": {},
   "outputs": [],
   "source": [
    "import pattern_structure as ps_lib"
   ]
  },
  {
   "cell_type": "code",
   "execution_count": 14,
   "metadata": {},
   "outputs": [],
   "source": [
    "ps_lib = reload(ps_lib)"
   ]
  },
  {
   "cell_type": "code",
   "execution_count": 62,
   "metadata": {},
   "outputs": [],
   "source": [
    "fcai = reload(fcai)"
   ]
  },
  {
   "cell_type": "code",
   "execution_count": 63,
   "metadata": {},
   "outputs": [
    {
     "data": {
      "text/plain": [
       "149"
      ]
     },
     "execution_count": 63,
     "metadata": {},
     "output_type": "execute_result"
    }
   ],
   "source": [
    "flg = bank_ds['preds']==1\n",
    "flg.sum()"
   ]
  },
  {
   "cell_type": "code",
   "execution_count": 64,
   "metadata": {},
   "outputs": [],
   "source": [
    "mvcntx = fcai.MultiValuedContext(bank_ds.loc[flg, cat_feats+real_feats].head(5), cat_attrs=cat_feats)\n",
    "mvcntx_full = fcai.MultiValuedContext(bank_ds[cat_feats+real_feats], cat_attrs=cat_feats)"
   ]
  },
  {
   "cell_type": "code",
   "execution_count": 65,
   "metadata": {},
   "outputs": [],
   "source": [
    "fm = fcai.FormalManager(mvcntx)"
   ]
  },
  {
   "cell_type": "code",
   "execution_count": 66,
   "metadata": {},
   "outputs": [
    {
     "data": {
      "application/vnd.jupyter.widget-view+json": {
       "model_id": "a440705de4504d608a3f84d6ccec5098",
       "version_major": 2,
       "version_minor": 0
      },
      "text/plain": [
       "HBox(children=(FloatProgress(value=0.0, description='Postprocessing', max=31.0, style=ProgressStyle(descriptio…"
      ]
     },
     "metadata": {},
     "output_type": "display_data"
    },
    {
     "name": "stdout",
     "output_type": "stream",
     "text": [
      "\n"
     ]
    }
   ],
   "source": [
    "fm.construct_concepts()"
   ]
  },
  {
   "cell_type": "code",
   "execution_count": 67,
   "metadata": {},
   "outputs": [],
   "source": [
    "fm.calc_strongness(mvcntx_full)"
   ]
  },
  {
   "cell_type": "code",
   "execution_count": 68,
   "metadata": {},
   "outputs": [],
   "source": [
    "fm.construct_lattice()"
   ]
  },
  {
   "cell_type": "code",
   "execution_count": 69,
   "metadata": {},
   "outputs": [],
   "source": [
    "fm.calc_stability_approx()"
   ]
  },
  {
   "cell_type": "code",
   "execution_count": 70,
   "metadata": {},
   "outputs": [],
   "source": [
    "fig = fm.get_plotly_fig(color_by='strongness')"
   ]
  },
  {
   "cell_type": "code",
   "execution_count": 71,
   "metadata": {},
   "outputs": [
    {
     "data": {
      "application/vnd.plotly.v1+json": {
       "config": {
        "plotlyServerURL": "https://plot.ly"
       },
       "data": [
        {
         "hoverinfo": "none",
         "line": {
          "color": "#888",
          "width": 0.5
         },
         "mode": "lines",
         "type": "scatter",
         "x": [
          -4.5,
          -4.5,
          null,
          -4.5,
          -3.5,
          null,
          -4.5,
          3.5,
          null,
          -3.5,
          -0.5,
          null,
          -3.5,
          -4.5,
          null,
          -3.5,
          -2.5,
          null,
          -3.5,
          1.5,
          null,
          -2,
          -3.5,
          null,
          -2,
          -4.5,
          null,
          -2,
          -2.5,
          null,
          -2,
          2.5,
          null,
          -2,
          -0.5,
          null,
          -2.5,
          1.5,
          null,
          -2.5,
          -4.5,
          null,
          -2.5,
          0.5,
          null,
          -2.5,
          2.5,
          null,
          -1.5,
          0.5,
          null,
          -4.5,
          1,
          null,
          -1.5,
          -1.5,
          null,
          -1.5,
          -0.5,
          null,
          -1.5,
          4.5,
          null,
          -1,
          0.5,
          null,
          -1,
          -1.5,
          null,
          -1,
          4.5,
          null,
          -1,
          2.5,
          null,
          -1,
          -0.5,
          null,
          -0.5,
          -3.5,
          null,
          -0.5,
          -2.5,
          null,
          -0.5,
          -0.5,
          null,
          0.5,
          -2.5,
          null,
          0.5,
          -1.5,
          null,
          0.5,
          2.5,
          null,
          -3.5,
          4.5,
          null,
          -3.5,
          0,
          null,
          -2.5,
          2,
          null,
          -1.5,
          2.5,
          null,
          -1.5,
          2,
          null,
          1.5,
          0.5,
          null,
          1.5,
          3.5,
          null,
          1.5,
          4.5,
          null,
          -0.5,
          3.5,
          null,
          -0.5,
          0,
          null,
          -0.5,
          2,
          null,
          -0.5,
          2,
          null,
          -0.5,
          1,
          null,
          -0.5,
          0,
          null,
          0.5,
          2.5,
          null,
          0.5,
          1,
          null,
          2.5,
          0.5,
          null,
          2.5,
          1.5,
          null,
          3.5,
          1.5,
          null,
          3.5,
          3.5,
          null,
          1.5,
          1,
          null,
          1.5,
          2,
          null,
          2.5,
          4.5,
          null,
          4.5,
          4.5,
          null,
          0,
          3.5,
          null,
          0,
          4.5,
          null,
          3.5,
          1,
          null
         ],
         "y": [
          2,
          3,
          null,
          2,
          3,
          null,
          2,
          3,
          null,
          2,
          1,
          null,
          2,
          3,
          null,
          2,
          3,
          null,
          2,
          3,
          null,
          4,
          3,
          null,
          4,
          3,
          null,
          4,
          3,
          null,
          4,
          3,
          null,
          4,
          5,
          null,
          2,
          1,
          null,
          2,
          3,
          null,
          2,
          3,
          null,
          2,
          3,
          null,
          1,
          2,
          null,
          3,
          4,
          null,
          2,
          3,
          null,
          2,
          3,
          null,
          2,
          3,
          null,
          4,
          3,
          null,
          4,
          3,
          null,
          4,
          3,
          null,
          4,
          3,
          null,
          4,
          5,
          null,
          2,
          3,
          null,
          2,
          3,
          null,
          2,
          3,
          null,
          2,
          3,
          null,
          2,
          3,
          null,
          2,
          3,
          null,
          3,
          2,
          null,
          3,
          4,
          null,
          3,
          4,
          null,
          3,
          2,
          null,
          3,
          4,
          null,
          2,
          3,
          null,
          2,
          3,
          null,
          2,
          3,
          null,
          3,
          2,
          null,
          3,
          4,
          null,
          3,
          4,
          null,
          5,
          4,
          null,
          5,
          4,
          null,
          5,
          4,
          null,
          3,
          2,
          null,
          3,
          4,
          null,
          2,
          1,
          null,
          2,
          3,
          null,
          2,
          3,
          null,
          2,
          3,
          null,
          3,
          4,
          null,
          3,
          4,
          null,
          3,
          2,
          null,
          2,
          3,
          null,
          4,
          3,
          null,
          4,
          3,
          null,
          3,
          4,
          null
         ]
        },
        {
         "hoverinfo": "text",
         "hovertext": [
          "PatternStructure 30<br><br>extent (len: 2): 70, 83<br>intent (len: 14): job in [\"management\", \"services\"], contact in [\"cellular\", \"telephone\"], default = 0, marital = married, age in [37, 52],...<br>new extent (len: 2): 70, 83<br>new_intent (len: 5): campaign, month, age, previous, job<br>metric strongness = 1.0<br>metric stab_min_bound = None<br>metric stab_max_bound = None<br>metric log_stab_min_bound = None<br>metric log_stab_max_bound = None<br>metric lstab_min_bound = None<br>",
          "PatternStructure 14<br><br>extent (len: 2): 70, 36<br>intent (len: 13): contact in [\"cellular\", \"telephone\"], marital in [\"divorced\", \"married\"], poutcome in [\"success\", \"unknown\"], campaign in [1, 2], default = 0,...<br>new extent (len: 1): 36<br>new_intent (len: 3): job, balance, education<br>metric strongness = 0.3333333333333333<br>metric stab_min_bound = 0.5<br>metric stab_max_bound = 0.5<br>metric log_stab_min_bound = 1.0<br>metric log_stab_max_bound = 1.0<br>metric lstab_min_bound = -13.0<br>",
          "PatternStructure 5<br><br>extent (len: 4): 70, 83, 49, 36<br>intent (len: 13): contact in [\"cellular\", \"telephone\"], marital in [\"divorced\", \"married\"], balance in [0, 4629], campaign in [1, 2], default = 0,...<br>new extent (len: 0): ∅<br>new_intent (len: 3): month, age, job<br>metric strongness = 0.047619047619047616<br>metric stab_min_bound = -1.0<br>metric stab_max_bound = 0.5<br>metric log_stab_min_bound = -1.0<br>metric log_stab_max_bound = 1.0<br>metric lstab_min_bound = -13.0<br>",
          "PatternStructure 15<br><br>extent (len: 2): 83, 36<br>intent (len: 13): marital in [\"divorced\", \"married\"], campaign in [1, 2], default = 0, poutcome in [\"failure\", \"unknown\"], job in [\"retired\", \"services\"],...<br>new extent (len: 1): 36<br>new_intent (len: 4): poutcome, job, balance, contact<br>metric strongness = 0.6666666666666666<br>metric stab_min_bound = 0.5<br>metric stab_max_bound = 0.5<br>metric log_stab_min_bound = 1.0<br>metric log_stab_max_bound = 1.0<br>metric lstab_min_bound = -13.0<br>",
          "PatternStructure 16<br><br>extent (len: 1): 49<br>intent (len: 14): education = unknown, poutcome = success, default = 0, marital = married, contact = cellular,...<br>new extent (len: 1): 49<br>new_intent (len: 11): marital, housing, balance, pdays, month,...<br>metric strongness = 1.0<br>metric stab_min_bound = None<br>metric stab_max_bound = None<br>metric log_stab_min_bound = None<br>metric log_stab_max_bound = None<br>metric lstab_min_bound = None<br>",
          "PatternStructure 13<br><br>extent (len: 3): 70, 83, 36<br>intent (len: 13): contact in [\"cellular\", \"telephone\"], marital in [\"divorced\", \"married\"], campaign in [1, 2], education in [\"primary\", \"secondary\", \"tertiary\"], default = 0,...<br>new extent (len: 0): ∅<br>new_intent (len: 3): month, balance, job<br>metric strongness = 0.15789473684210525<br>metric stab_min_bound = -0.5<br>metric stab_max_bound = 0.5<br>metric log_stab_min_bound = -0.5849625007211562<br>metric log_stab_max_bound = 1.0<br>metric lstab_min_bound = -13.0<br>",
          "PatternStructure 23<br><br>extent (len: 2): 98, 49<br>intent (len: 14): poutcome = success, marital in [\"divorced\", \"married\"], pdays in [92.0, 182.0], default = 0, contact = cellular,...<br>new extent (len: 2): 98, 49<br>new_intent (len: 4): month, previous, balance, job<br>metric strongness = 1.0<br>metric stab_min_bound = None<br>metric stab_max_bound = None<br>metric log_stab_min_bound = None<br>metric log_stab_max_bound = None<br>metric lstab_min_bound = None<br>",
          "PatternStructure 3<br><br>extent (len: 4): 98, 83, 49, 36<br>intent (len: 13): balance in [229, 4629], contact in [\"cellular\", \"telephone\"], marital in [\"divorced\", \"married\"], campaign in [1, 2], job in [\"admin.\", \"blue-collar\", \"retired\", \"services\"],...<br>new extent (len: 0): ∅<br>new_intent (len: 4): previous, balance, education, job<br>metric strongness = 0.06557377049180328<br>metric stab_min_bound = -1.0<br>metric stab_max_bound = 0.5<br>metric log_stab_min_bound = -1.0<br>metric log_stab_max_bound = 1.0<br>metric lstab_min_bound = -13.0<br>",
          "PatternStructure 18<br><br>extent (len: 1): 70<br>intent (len: 14): poutcome = success, default = 0, contact = cellular, marital = married, previous = 3,...<br>new extent (len: 1): 70<br>new_intent (len: 11): marital, campaign, balance, pdays, month,...<br>metric strongness = 1.0<br>metric stab_min_bound = None<br>metric stab_max_bound = None<br>metric log_stab_min_bound = None<br>metric log_stab_max_bound = None<br>metric lstab_min_bound = None<br>",
          "PatternStructure 25<br><br>extent (len: 2): 70, 49<br>intent (len: 14): poutcome = success, balance in [0, 4629], campaign in [1, 2], default = 0, contact = cellular,...<br>new extent (len: 2): 70, 49<br>new_intent (len: 2): job, education<br>metric strongness = 1.0<br>metric stab_min_bound = None<br>metric stab_max_bound = None<br>metric log_stab_min_bound = None<br>metric log_stab_max_bound = None<br>metric lstab_min_bound = None<br>",
          "PatternStructure 8<br><br>extent (len: 2): 49, 36<br>intent (len: 13): balance in [229, 4629], job in [\"admin.\", \"retired\"], contact in [\"cellular\", \"telephone\"], marital in [\"divorced\", \"married\"], education in [\"primary\", \"unknown\"],...<br>new extent (len: 1): 36<br>new_intent (len: 4): month, job, age, education<br>metric strongness = 0.6666666666666666<br>metric stab_min_bound = 0.5<br>metric stab_max_bound = 0.5<br>metric log_stab_min_bound = 1.0<br>metric log_stab_max_bound = 1.0<br>metric lstab_min_bound = -13.0<br>",
          "PatternStructure 24<br><br>extent (len: 3): 70, 83, 49<br>intent (len: 14): job in [\"admin.\", \"management\", \"services\"], contact in [\"cellular\", \"telephone\"], balance in [0, 4629], campaign in [1, 2], default = 0,...<br>new extent (len: 0): ∅<br>new_intent (len: 4): marital, age, job, month<br>metric strongness = 0.6<br>metric stab_min_bound = -0.5<br>metric stab_max_bound = 0.5<br>metric log_stab_min_bound = -0.5849625007211562<br>metric log_stab_max_bound = 1.0<br>metric lstab_min_bound = -13.0<br>",
          "PatternStructure 6<br><br>extent (len: 3): 70, 49, 36<br>intent (len: 13): contact in [\"cellular\", \"telephone\"], marital in [\"divorced\", \"married\"], poutcome in [\"success\", \"unknown\"], campaign in [1, 2], education in [\"primary\", \"tertiary\", \"unknown\"],...<br>new extent (len: 0): ∅<br>new_intent (len: 2): job, education<br>metric strongness = 0.09375<br>metric stab_min_bound = -0.5<br>metric stab_max_bound = 0.5<br>metric log_stab_min_bound = -0.5849625007211562<br>metric log_stab_max_bound = 1.0<br>metric lstab_min_bound = -13.0<br>",
          "PatternStructure 4<br><br>extent (len: 3): 98, 49, 36<br>intent (len: 13): balance in [229, 4629], contact in [\"cellular\", \"telephone\"], marital in [\"divorced\", \"married\"], poutcome in [\"success\", \"unknown\"], default = 0,...<br>new extent (len: 0): ∅<br>new_intent (len: 4): month, campaign, previous, job<br>metric strongness = 0.16666666666666666<br>metric stab_min_bound = -0.5<br>metric stab_max_bound = 0.5<br>metric log_stab_min_bound = -0.5849625007211562<br>metric log_stab_max_bound = 1.0<br>metric lstab_min_bound = -13.0<br>",
          "PatternStructure 29<br><br>extent (len: 2): 98, 83<br>intent (len: 14): contact in [\"cellular\", \"telephone\"], marital in [\"divorced\", \"married\"], campaign in [1, 2], default = 0, pdays in [182.0, 460.0],...<br>new extent (len: 2): 98, 83<br>new_intent (len: 3): job, balance, education<br>metric strongness = 1.0<br>metric stab_min_bound = None<br>metric stab_max_bound = None<br>metric log_stab_min_bound = None<br>metric log_stab_max_bound = None<br>metric lstab_min_bound = None<br>",
          "PatternStructure 21<br><br>extent (len: 3): 70, 98, 49<br>intent (len: 14): poutcome = success, marital in [\"divorced\", \"married\"], balance in [0, 4629], month in [\"feb\", \"jan\", \"jul\"], default = 0,...<br>new extent (len: 0): ∅<br>new_intent (len: 4): poutcome, contact, job, pdays<br>metric strongness = 0.75<br>metric stab_min_bound = -0.5<br>metric stab_max_bound = 0.5<br>metric log_stab_min_bound = -0.5849625007211562<br>metric log_stab_max_bound = 1.0<br>metric lstab_min_bound = -13.0<br>",
          "PatternStructure 1<br><br>extent (len: 5): 98, 83, 49, 36, 70<br>intent (len: 13): contact in [\"cellular\", \"telephone\"], marital in [\"divorced\", \"married\"], balance in [0, 4629], campaign in [1, 2], poutcome in [\"failure\", \"success\", \"unknown\"],...<br>new extent (len: 0): ∅<br>new_intent (len: 13): marital, campaign, default, housing, balance,...<br>metric strongness = 0.03731343283582089<br>metric stab_min_bound = -1.5<br>metric stab_max_bound = 0.5<br>metric log_stab_min_bound = -1.3219280948873624<br>metric log_stab_max_bound = 1.0<br>metric lstab_min_bound = -13.0<br>",
          "PatternStructure 11<br><br>extent (len: 3): 98, 83, 36<br>intent (len: 13): contact in [\"cellular\", \"telephone\"], marital in [\"divorced\", \"married\"], job in [\"blue-collar\", \"retired\", \"services\"], age in [36, 78], default = 0,...<br>new extent (len: 0): ∅<br>new_intent (len: 3): job, balance, education<br>metric strongness = 0.17647058823529413<br>metric stab_min_bound = -0.5<br>metric stab_max_bound = 0.5<br>metric log_stab_min_bound = -0.5849625007211562<br>metric log_stab_max_bound = 1.0<br>metric lstab_min_bound = -13.0<br>",
          "PatternStructure 12<br><br>extent (len: 2): 98, 36<br>intent (len: 13): contact in [\"cellular\", \"telephone\"], poutcome in [\"success\", \"unknown\"], marital = divorced, age in [36, 78], default = 0,...<br>new extent (len: 1): 36<br>new_intent (len: 3): marital, job, month<br>metric strongness = 0.6666666666666666<br>metric stab_min_bound = 0.5<br>metric stab_max_bound = 0.5<br>metric log_stab_min_bound = 1.0<br>metric log_stab_max_bound = 1.0<br>metric lstab_min_bound = -13.0<br>",
          "PatternStructure 28<br><br>extent (len: 2): 70, 98<br>intent (len: 14): poutcome = success, marital in [\"divorced\", \"married\"], age in [36, 37], default = 0, contact = cellular,...<br>new extent (len: 2): 70, 98<br>new_intent (len: 3): job, age, pdays<br>metric strongness = 1.0<br>metric stab_min_bound = None<br>metric stab_max_bound = None<br>metric log_stab_min_bound = None<br>metric log_stab_max_bound = None<br>metric lstab_min_bound = None<br>",
          "PatternStructure 10<br><br>extent (len: 3): 70, 98, 36<br>intent (len: 13): contact in [\"cellular\", \"telephone\"], marital in [\"divorced\", \"married\"], poutcome in [\"success\", \"unknown\"], campaign in [1, 2], education in [\"primary\", \"secondary\", \"tertiary\"],...<br>new extent (len: 0): ∅<br>new_intent (len: 1): job<br>metric strongness = 0.1<br>metric stab_min_bound = -0.5<br>metric stab_max_bound = 0.5<br>metric log_stab_min_bound = -0.5849625007211562<br>metric log_stab_max_bound = 1.0<br>metric lstab_min_bound = -13.0<br>",
          "PatternStructure 7<br><br>extent (len: 3): 83, 49, 36<br>intent (len: 13): balance in [229, 4629], contact in [\"cellular\", \"telephone\"], marital in [\"divorced\", \"married\"], campaign in [1, 2], default = 0,...<br>new extent (len: 0): ∅<br>new_intent (len: 2): age, job<br>metric strongness = 0.14285714285714285<br>metric stab_min_bound = -0.5<br>metric stab_max_bound = 0.5<br>metric log_stab_min_bound = -0.5849625007211562<br>metric log_stab_max_bound = 1.0<br>metric lstab_min_bound = -13.0<br>",
          "PatternStructure 26<br><br>extent (len: 2): 83, 49<br>intent (len: 14): contact in [\"cellular\", \"telephone\"], campaign in [1, 2], default = 0, marital = married, age in [52, 61],...<br>new extent (len: 2): 83, 49<br>new_intent (len: 2): age, job<br>metric strongness = 1.0<br>metric stab_min_bound = None<br>metric stab_max_bound = None<br>metric log_stab_min_bound = None<br>metric log_stab_max_bound = None<br>metric lstab_min_bound = None<br>",
          "PatternStructure 0<br><br>extent (len: 1): 36<br>intent (len: 13): month = oct, marital = divorced, poutcome = unknown, default = 0, campaign = 1,...<br>new extent (len: 1): 36<br>new_intent (len: 13): marital, campaign, default, housing, balance,...<br>metric strongness = 1.0<br>metric stab_min_bound = None<br>metric stab_max_bound = None<br>metric log_stab_min_bound = None<br>metric log_stab_max_bound = None<br>metric lstab_min_bound = None<br>",
          "PatternStructure 20<br><br>extent (len: 4): 70, 98, 83, 49<br>intent (len: 14): contact in [\"cellular\", \"telephone\"], marital in [\"divorced\", \"married\"], balance in [0, 4629], month in [\"feb\", \"jan\", \"jul\"], default = 0,...<br>new extent (len: 0): ∅<br>new_intent (len: 7): pdays, month, poutcome, age, education,...<br>metric strongness = 0.3333333333333333<br>metric stab_min_bound = -1.0<br>metric stab_max_bound = 0.5<br>metric log_stab_min_bound = -1.0<br>metric log_stab_max_bound = 1.0<br>metric lstab_min_bound = -13.0<br>",
          "PatternStructure 27<br><br>extent (len: 3): 70, 98, 83<br>intent (len: 14): contact in [\"cellular\", \"telephone\"], marital in [\"divorced\", \"married\"], campaign in [1, 2], default = 0, pdays in [182.0, 460.0],...<br>new extent (len: 0): ∅<br>new_intent (len: 5): pdays, month, age, education, job<br>metric strongness = 0.75<br>metric stab_min_bound = -0.5<br>metric stab_max_bound = 0.5<br>metric log_stab_min_bound = -0.5849625007211562<br>metric log_stab_max_bound = 1.0<br>metric lstab_min_bound = -13.0<br>",
          "PatternStructure 9<br><br>extent (len: 4): 70, 98, 83, 36<br>intent (len: 13): job in [\"blue-collar\", \"management\", \"retired\", \"services\"], contact in [\"cellular\", \"telephone\"], marital in [\"divorced\", \"married\"], campaign in [1, 2], education in [\"primary\", \"secondary\", \"tertiary\"],...<br>new extent (len: 0): ∅<br>new_intent (len: 5): housing, balance, month, education, job<br>metric strongness = 0.09090909090909091<br>metric stab_min_bound = -1.0<br>metric stab_max_bound = 0.5<br>metric log_stab_min_bound = -1.0<br>metric log_stab_max_bound = 1.0<br>metric lstab_min_bound = -13.0<br>",
          "PatternStructure 17<br><br>extent (len: 1): 98<br>intent (len: 14): poutcome = success, marital = divorced, default = 0, contact = cellular, month = feb,...<br>new extent (len: 1): 98<br>new_intent (len: 9): balance, pdays, month, contact, poutcome,...<br>metric strongness = 1.0<br>metric stab_min_bound = None<br>metric stab_max_bound = None<br>metric log_stab_min_bound = None<br>metric log_stab_max_bound = None<br>metric lstab_min_bound = None<br>",
          "PatternStructure 19<br><br>extent (len: 1): 83<br>intent (len: 14): balance = 657, default = 0, marital = married, poutcome = failure, housing = 0,...<br>new extent (len: 1): 83<br>new_intent (len: 10): marital, campaign, balance, pdays, month,...<br>metric strongness = 1.0<br>metric stab_min_bound = None<br>metric stab_max_bound = None<br>metric log_stab_min_bound = None<br>metric log_stab_max_bound = None<br>metric lstab_min_bound = None<br>",
          "PatternStructure 22<br><br>extent (len: 3): 98, 83, 49<br>intent (len: 14): contact in [\"cellular\", \"telephone\"], marital in [\"divorced\", \"married\"], month in [\"feb\", \"jan\", \"jul\"], default = 0, campaign in [1, 2],...<br>new extent (len: 0): ∅<br>new_intent (len: 4): previous, balance, education, job<br>metric strongness = 0.75<br>metric stab_min_bound = -0.5<br>metric stab_max_bound = 0.5<br>metric log_stab_min_bound = -0.5849625007211562<br>metric log_stab_max_bound = 1.0<br>metric lstab_min_bound = -13.0<br>",
          "PatternStructure 2<br><br>extent (len: 4): 70, 98, 49, 36<br>intent (len: 13): contact in [\"cellular\", \"telephone\"], marital in [\"divorced\", \"married\"], job in [\"admin.\", \"blue-collar\", \"management\", \"retired\"], poutcome in [\"success\", \"unknown\"], default = 0,...<br>new extent (len: 0): ∅<br>new_intent (len: 2): poutcome, job<br>metric strongness = 0.038461538461538464<br>metric stab_min_bound = -1.0<br>metric stab_max_bound = 0.5<br>metric log_stab_min_bound = -1.0<br>metric log_stab_max_bound = 1.0<br>metric lstab_min_bound = -13.0<br>"
         ],
         "marker": {
          "color": [
           1,
           0.3333333333333333,
           0.047619047619047616,
           0.6666666666666666,
           1,
           0.15789473684210525,
           1,
           0.06557377049180328,
           1,
           1,
           0.6666666666666666,
           0.6,
           0.09375,
           0.16666666666666666,
           1,
           0.75,
           0.03731343283582089,
           0.17647058823529413,
           0.6666666666666666,
           1,
           0.1,
           0.14285714285714285,
           1,
           1,
           0.3333333333333333,
           0.75,
           0.09090909090909091,
           1,
           1,
           0.75,
           0.038461538461538464
          ],
          "colorbar": {
           "thickness": 15,
           "title": {
            "side": "right",
            "text": "y_mean"
           },
           "xanchor": "left"
          },
          "colorscale": [
           [
            0,
            "rgb(103,0,31)"
           ],
           [
            0.1,
            "rgb(178,24,43)"
           ],
           [
            0.2,
            "rgb(214,96,77)"
           ],
           [
            0.3,
            "rgb(244,165,130)"
           ],
           [
            0.4,
            "rgb(253,219,199)"
           ],
           [
            0.5,
            "rgb(247,247,247)"
           ],
           [
            0.6,
            "rgb(209,229,240)"
           ],
           [
            0.7,
            "rgb(146,197,222)"
           ],
           [
            0.8,
            "rgb(67,147,195)"
           ],
           [
            0.9,
            "rgb(33,102,172)"
           ],
           [
            1,
            "rgb(5,48,97)"
           ]
          ],
          "line": {
           "width": 2
          },
          "reversescale": true,
          "showscale": true,
          "size": 10
         },
         "mode": "markers+text",
         "text": [
          "n: 5<br>70,83",
          "education,balance,job<br>36",
          "month,age,job<br>",
          "poutcome,contact,balance,job<br>36",
          "n: 11<br>49",
          "month,balance,job<br>",
          "month,balance,previous,job<br>98,49",
          "balance,education,previous,job<br>",
          "n: 11<br>70",
          "education,job<br>70,49",
          "month,education,age,job<br>36",
          "marital,age,job,month<br>",
          "education,job<br>",
          "month,campaign,previous,job<br>",
          "education,balance,job<br>98,83",
          "pdays,poutcome,contact,job<br>",
          "n: 13<br>",
          "education,balance,job<br>",
          "marital,job,month<br>36",
          "pdays,age,job<br>70,98",
          "job<br>",
          "age,job<br>",
          "age,job<br>83,49",
          "n: 13<br>36",
          "n: 7<br>",
          "n: 5<br>",
          "n: 5<br>",
          "n: 9<br>98",
          "n: 10<br>83",
          "balance,education,previous,job<br>",
          "poutcome,job<br>"
         ],
         "textposition": "middle right",
         "type": "scatter",
         "x": [
          -4.5,
          -3.5,
          -2,
          -2.5,
          -1.5,
          -4.5,
          -1.5,
          -1,
          -0.5,
          -0.5,
          0.5,
          -3.5,
          -2.5,
          -1.5,
          1.5,
          -0.5,
          -0.5,
          0.5,
          2.5,
          3.5,
          1.5,
          2.5,
          4.5,
          0.5,
          0,
          3.5,
          1,
          0.5,
          1.5,
          4.5,
          2
         ],
         "y": [
          2,
          2,
          4,
          2,
          1,
          3,
          2,
          4,
          1,
          2,
          2,
          3,
          3,
          3,
          2,
          3,
          5,
          3,
          2,
          2,
          3,
          3,
          2,
          5,
          4,
          3,
          4,
          1,
          1,
          3,
          4
         ]
        }
       ],
       "layout": {
        "height": 500,
        "hovermode": "closest",
        "margin": {
         "b": 20,
         "l": 5,
         "r": 5,
         "t": 40
        },
        "showlegend": false,
        "template": {
         "data": {
          "bar": [
           {
            "error_x": {
             "color": "#2a3f5f"
            },
            "error_y": {
             "color": "#2a3f5f"
            },
            "marker": {
             "line": {
              "color": "#E5ECF6",
              "width": 0.5
             }
            },
            "type": "bar"
           }
          ],
          "barpolar": [
           {
            "marker": {
             "line": {
              "color": "#E5ECF6",
              "width": 0.5
             }
            },
            "type": "barpolar"
           }
          ],
          "carpet": [
           {
            "aaxis": {
             "endlinecolor": "#2a3f5f",
             "gridcolor": "white",
             "linecolor": "white",
             "minorgridcolor": "white",
             "startlinecolor": "#2a3f5f"
            },
            "baxis": {
             "endlinecolor": "#2a3f5f",
             "gridcolor": "white",
             "linecolor": "white",
             "minorgridcolor": "white",
             "startlinecolor": "#2a3f5f"
            },
            "type": "carpet"
           }
          ],
          "choropleth": [
           {
            "colorbar": {
             "outlinewidth": 0,
             "ticks": ""
            },
            "type": "choropleth"
           }
          ],
          "contour": [
           {
            "colorbar": {
             "outlinewidth": 0,
             "ticks": ""
            },
            "colorscale": [
             [
              0,
              "#0d0887"
             ],
             [
              0.1111111111111111,
              "#46039f"
             ],
             [
              0.2222222222222222,
              "#7201a8"
             ],
             [
              0.3333333333333333,
              "#9c179e"
             ],
             [
              0.4444444444444444,
              "#bd3786"
             ],
             [
              0.5555555555555556,
              "#d8576b"
             ],
             [
              0.6666666666666666,
              "#ed7953"
             ],
             [
              0.7777777777777778,
              "#fb9f3a"
             ],
             [
              0.8888888888888888,
              "#fdca26"
             ],
             [
              1,
              "#f0f921"
             ]
            ],
            "type": "contour"
           }
          ],
          "contourcarpet": [
           {
            "colorbar": {
             "outlinewidth": 0,
             "ticks": ""
            },
            "type": "contourcarpet"
           }
          ],
          "heatmap": [
           {
            "colorbar": {
             "outlinewidth": 0,
             "ticks": ""
            },
            "colorscale": [
             [
              0,
              "#0d0887"
             ],
             [
              0.1111111111111111,
              "#46039f"
             ],
             [
              0.2222222222222222,
              "#7201a8"
             ],
             [
              0.3333333333333333,
              "#9c179e"
             ],
             [
              0.4444444444444444,
              "#bd3786"
             ],
             [
              0.5555555555555556,
              "#d8576b"
             ],
             [
              0.6666666666666666,
              "#ed7953"
             ],
             [
              0.7777777777777778,
              "#fb9f3a"
             ],
             [
              0.8888888888888888,
              "#fdca26"
             ],
             [
              1,
              "#f0f921"
             ]
            ],
            "type": "heatmap"
           }
          ],
          "heatmapgl": [
           {
            "colorbar": {
             "outlinewidth": 0,
             "ticks": ""
            },
            "colorscale": [
             [
              0,
              "#0d0887"
             ],
             [
              0.1111111111111111,
              "#46039f"
             ],
             [
              0.2222222222222222,
              "#7201a8"
             ],
             [
              0.3333333333333333,
              "#9c179e"
             ],
             [
              0.4444444444444444,
              "#bd3786"
             ],
             [
              0.5555555555555556,
              "#d8576b"
             ],
             [
              0.6666666666666666,
              "#ed7953"
             ],
             [
              0.7777777777777778,
              "#fb9f3a"
             ],
             [
              0.8888888888888888,
              "#fdca26"
             ],
             [
              1,
              "#f0f921"
             ]
            ],
            "type": "heatmapgl"
           }
          ],
          "histogram": [
           {
            "marker": {
             "colorbar": {
              "outlinewidth": 0,
              "ticks": ""
             }
            },
            "type": "histogram"
           }
          ],
          "histogram2d": [
           {
            "colorbar": {
             "outlinewidth": 0,
             "ticks": ""
            },
            "colorscale": [
             [
              0,
              "#0d0887"
             ],
             [
              0.1111111111111111,
              "#46039f"
             ],
             [
              0.2222222222222222,
              "#7201a8"
             ],
             [
              0.3333333333333333,
              "#9c179e"
             ],
             [
              0.4444444444444444,
              "#bd3786"
             ],
             [
              0.5555555555555556,
              "#d8576b"
             ],
             [
              0.6666666666666666,
              "#ed7953"
             ],
             [
              0.7777777777777778,
              "#fb9f3a"
             ],
             [
              0.8888888888888888,
              "#fdca26"
             ],
             [
              1,
              "#f0f921"
             ]
            ],
            "type": "histogram2d"
           }
          ],
          "histogram2dcontour": [
           {
            "colorbar": {
             "outlinewidth": 0,
             "ticks": ""
            },
            "colorscale": [
             [
              0,
              "#0d0887"
             ],
             [
              0.1111111111111111,
              "#46039f"
             ],
             [
              0.2222222222222222,
              "#7201a8"
             ],
             [
              0.3333333333333333,
              "#9c179e"
             ],
             [
              0.4444444444444444,
              "#bd3786"
             ],
             [
              0.5555555555555556,
              "#d8576b"
             ],
             [
              0.6666666666666666,
              "#ed7953"
             ],
             [
              0.7777777777777778,
              "#fb9f3a"
             ],
             [
              0.8888888888888888,
              "#fdca26"
             ],
             [
              1,
              "#f0f921"
             ]
            ],
            "type": "histogram2dcontour"
           }
          ],
          "mesh3d": [
           {
            "colorbar": {
             "outlinewidth": 0,
             "ticks": ""
            },
            "type": "mesh3d"
           }
          ],
          "parcoords": [
           {
            "line": {
             "colorbar": {
              "outlinewidth": 0,
              "ticks": ""
             }
            },
            "type": "parcoords"
           }
          ],
          "pie": [
           {
            "automargin": true,
            "type": "pie"
           }
          ],
          "scatter": [
           {
            "marker": {
             "colorbar": {
              "outlinewidth": 0,
              "ticks": ""
             }
            },
            "type": "scatter"
           }
          ],
          "scatter3d": [
           {
            "line": {
             "colorbar": {
              "outlinewidth": 0,
              "ticks": ""
             }
            },
            "marker": {
             "colorbar": {
              "outlinewidth": 0,
              "ticks": ""
             }
            },
            "type": "scatter3d"
           }
          ],
          "scattercarpet": [
           {
            "marker": {
             "colorbar": {
              "outlinewidth": 0,
              "ticks": ""
             }
            },
            "type": "scattercarpet"
           }
          ],
          "scattergeo": [
           {
            "marker": {
             "colorbar": {
              "outlinewidth": 0,
              "ticks": ""
             }
            },
            "type": "scattergeo"
           }
          ],
          "scattergl": [
           {
            "marker": {
             "colorbar": {
              "outlinewidth": 0,
              "ticks": ""
             }
            },
            "type": "scattergl"
           }
          ],
          "scattermapbox": [
           {
            "marker": {
             "colorbar": {
              "outlinewidth": 0,
              "ticks": ""
             }
            },
            "type": "scattermapbox"
           }
          ],
          "scatterpolar": [
           {
            "marker": {
             "colorbar": {
              "outlinewidth": 0,
              "ticks": ""
             }
            },
            "type": "scatterpolar"
           }
          ],
          "scatterpolargl": [
           {
            "marker": {
             "colorbar": {
              "outlinewidth": 0,
              "ticks": ""
             }
            },
            "type": "scatterpolargl"
           }
          ],
          "scatterternary": [
           {
            "marker": {
             "colorbar": {
              "outlinewidth": 0,
              "ticks": ""
             }
            },
            "type": "scatterternary"
           }
          ],
          "surface": [
           {
            "colorbar": {
             "outlinewidth": 0,
             "ticks": ""
            },
            "colorscale": [
             [
              0,
              "#0d0887"
             ],
             [
              0.1111111111111111,
              "#46039f"
             ],
             [
              0.2222222222222222,
              "#7201a8"
             ],
             [
              0.3333333333333333,
              "#9c179e"
             ],
             [
              0.4444444444444444,
              "#bd3786"
             ],
             [
              0.5555555555555556,
              "#d8576b"
             ],
             [
              0.6666666666666666,
              "#ed7953"
             ],
             [
              0.7777777777777778,
              "#fb9f3a"
             ],
             [
              0.8888888888888888,
              "#fdca26"
             ],
             [
              1,
              "#f0f921"
             ]
            ],
            "type": "surface"
           }
          ],
          "table": [
           {
            "cells": {
             "fill": {
              "color": "#EBF0F8"
             },
             "line": {
              "color": "white"
             }
            },
            "header": {
             "fill": {
              "color": "#C8D4E3"
             },
             "line": {
              "color": "white"
             }
            },
            "type": "table"
           }
          ]
         },
         "layout": {
          "annotationdefaults": {
           "arrowcolor": "#2a3f5f",
           "arrowhead": 0,
           "arrowwidth": 1
          },
          "coloraxis": {
           "colorbar": {
            "outlinewidth": 0,
            "ticks": ""
           }
          },
          "colorscale": {
           "diverging": [
            [
             0,
             "#8e0152"
            ],
            [
             0.1,
             "#c51b7d"
            ],
            [
             0.2,
             "#de77ae"
            ],
            [
             0.3,
             "#f1b6da"
            ],
            [
             0.4,
             "#fde0ef"
            ],
            [
             0.5,
             "#f7f7f7"
            ],
            [
             0.6,
             "#e6f5d0"
            ],
            [
             0.7,
             "#b8e186"
            ],
            [
             0.8,
             "#7fbc41"
            ],
            [
             0.9,
             "#4d9221"
            ],
            [
             1,
             "#276419"
            ]
           ],
           "sequential": [
            [
             0,
             "#0d0887"
            ],
            [
             0.1111111111111111,
             "#46039f"
            ],
            [
             0.2222222222222222,
             "#7201a8"
            ],
            [
             0.3333333333333333,
             "#9c179e"
            ],
            [
             0.4444444444444444,
             "#bd3786"
            ],
            [
             0.5555555555555556,
             "#d8576b"
            ],
            [
             0.6666666666666666,
             "#ed7953"
            ],
            [
             0.7777777777777778,
             "#fb9f3a"
            ],
            [
             0.8888888888888888,
             "#fdca26"
            ],
            [
             1,
             "#f0f921"
            ]
           ],
           "sequentialminus": [
            [
             0,
             "#0d0887"
            ],
            [
             0.1111111111111111,
             "#46039f"
            ],
            [
             0.2222222222222222,
             "#7201a8"
            ],
            [
             0.3333333333333333,
             "#9c179e"
            ],
            [
             0.4444444444444444,
             "#bd3786"
            ],
            [
             0.5555555555555556,
             "#d8576b"
            ],
            [
             0.6666666666666666,
             "#ed7953"
            ],
            [
             0.7777777777777778,
             "#fb9f3a"
            ],
            [
             0.8888888888888888,
             "#fdca26"
            ],
            [
             1,
             "#f0f921"
            ]
           ]
          },
          "colorway": [
           "#636efa",
           "#EF553B",
           "#00cc96",
           "#ab63fa",
           "#FFA15A",
           "#19d3f3",
           "#FF6692",
           "#B6E880",
           "#FF97FF",
           "#FECB52"
          ],
          "font": {
           "color": "#2a3f5f"
          },
          "geo": {
           "bgcolor": "white",
           "lakecolor": "white",
           "landcolor": "#E5ECF6",
           "showlakes": true,
           "showland": true,
           "subunitcolor": "white"
          },
          "hoverlabel": {
           "align": "left"
          },
          "hovermode": "closest",
          "mapbox": {
           "style": "light"
          },
          "paper_bgcolor": "white",
          "plot_bgcolor": "#E5ECF6",
          "polar": {
           "angularaxis": {
            "gridcolor": "white",
            "linecolor": "white",
            "ticks": ""
           },
           "bgcolor": "#E5ECF6",
           "radialaxis": {
            "gridcolor": "white",
            "linecolor": "white",
            "ticks": ""
           }
          },
          "scene": {
           "xaxis": {
            "backgroundcolor": "#E5ECF6",
            "gridcolor": "white",
            "gridwidth": 2,
            "linecolor": "white",
            "showbackground": true,
            "ticks": "",
            "zerolinecolor": "white"
           },
           "yaxis": {
            "backgroundcolor": "#E5ECF6",
            "gridcolor": "white",
            "gridwidth": 2,
            "linecolor": "white",
            "showbackground": true,
            "ticks": "",
            "zerolinecolor": "white"
           },
           "zaxis": {
            "backgroundcolor": "#E5ECF6",
            "gridcolor": "white",
            "gridwidth": 2,
            "linecolor": "white",
            "showbackground": true,
            "ticks": "",
            "zerolinecolor": "white"
           }
          },
          "shapedefaults": {
           "line": {
            "color": "#2a3f5f"
           }
          },
          "ternary": {
           "aaxis": {
            "gridcolor": "white",
            "linecolor": "white",
            "ticks": ""
           },
           "baxis": {
            "gridcolor": "white",
            "linecolor": "white",
            "ticks": ""
           },
           "bgcolor": "#E5ECF6",
           "caxis": {
            "gridcolor": "white",
            "linecolor": "white",
            "ticks": ""
           }
          },
          "title": {
           "x": 0.05
          },
          "xaxis": {
           "automargin": true,
           "gridcolor": "white",
           "linecolor": "white",
           "ticks": "",
           "title": {
            "standoff": 15
           },
           "zerolinecolor": "white",
           "zerolinewidth": 2
          },
          "yaxis": {
           "automargin": true,
           "gridcolor": "white",
           "linecolor": "white",
           "ticks": "",
           "title": {
            "standoff": 15
           },
           "zerolinecolor": "white",
           "zerolinewidth": 2
          }
         }
        },
        "title": {
         "font": {
          "size": 16
         },
         "text": "Concept Lattice"
        },
        "width": 1000,
        "xaxis": {
         "showgrid": false,
         "showticklabels": false,
         "zeroline": false
        },
        "yaxis": {
         "showgrid": false,
         "showticklabels": false,
         "zeroline": false
        }
       }
      },
      "text/html": [
       "<div>\n",
       "        \n",
       "        \n",
       "            <div id=\"3a6dcd28-8652-4b52-b2b4-f53cfea5fc2a\" class=\"plotly-graph-div\" style=\"height:500px; width:1000px;\"></div>\n",
       "            <script type=\"text/javascript\">\n",
       "                require([\"plotly\"], function(Plotly) {\n",
       "                    window.PLOTLYENV=window.PLOTLYENV || {};\n",
       "                    \n",
       "                if (document.getElementById(\"3a6dcd28-8652-4b52-b2b4-f53cfea5fc2a\")) {\n",
       "                    Plotly.newPlot(\n",
       "                        '3a6dcd28-8652-4b52-b2b4-f53cfea5fc2a',\n",
       "                        [{\"hoverinfo\": \"none\", \"line\": {\"color\": \"#888\", \"width\": 0.5}, \"mode\": \"lines\", \"type\": \"scatter\", \"x\": [-4.5, -4.5, null, -4.5, -3.5, null, -4.5, 3.5, null, -3.5, -0.5, null, -3.5, -4.5, null, -3.5, -2.5, null, -3.5, 1.5, null, -2.0, -3.5, null, -2.0, -4.5, null, -2.0, -2.5, null, -2.0, 2.5, null, -2.0, -0.5, null, -2.5, 1.5, null, -2.5, -4.5, null, -2.5, 0.5, null, -2.5, 2.5, null, -1.5, 0.5, null, -4.5, 1.0, null, -1.5, -1.5, null, -1.5, -0.5, null, -1.5, 4.5, null, -1.0, 0.5, null, -1.0, -1.5, null, -1.0, 4.5, null, -1.0, 2.5, null, -1.0, -0.5, null, -0.5, -3.5, null, -0.5, -2.5, null, -0.5, -0.5, null, 0.5, -2.5, null, 0.5, -1.5, null, 0.5, 2.5, null, -3.5, 4.5, null, -3.5, 0.0, null, -2.5, 2.0, null, -1.5, 2.5, null, -1.5, 2.0, null, 1.5, 0.5, null, 1.5, 3.5, null, 1.5, 4.5, null, -0.5, 3.5, null, -0.5, 0.0, null, -0.5, 2.0, null, -0.5, 2.0, null, -0.5, 1.0, null, -0.5, 0.0, null, 0.5, 2.5, null, 0.5, 1.0, null, 2.5, 0.5, null, 2.5, 1.5, null, 3.5, 1.5, null, 3.5, 3.5, null, 1.5, 1.0, null, 1.5, 2.0, null, 2.5, 4.5, null, 4.5, 4.5, null, 0.0, 3.5, null, 0.0, 4.5, null, 3.5, 1.0, null], \"y\": [2, 3, null, 2, 3, null, 2, 3, null, 2, 1, null, 2, 3, null, 2, 3, null, 2, 3, null, 4, 3, null, 4, 3, null, 4, 3, null, 4, 3, null, 4, 5, null, 2, 1, null, 2, 3, null, 2, 3, null, 2, 3, null, 1, 2, null, 3, 4, null, 2, 3, null, 2, 3, null, 2, 3, null, 4, 3, null, 4, 3, null, 4, 3, null, 4, 3, null, 4, 5, null, 2, 3, null, 2, 3, null, 2, 3, null, 2, 3, null, 2, 3, null, 2, 3, null, 3, 2, null, 3, 4, null, 3, 4, null, 3, 2, null, 3, 4, null, 2, 3, null, 2, 3, null, 2, 3, null, 3, 2, null, 3, 4, null, 3, 4, null, 5, 4, null, 5, 4, null, 5, 4, null, 3, 2, null, 3, 4, null, 2, 1, null, 2, 3, null, 2, 3, null, 2, 3, null, 3, 4, null, 3, 4, null, 3, 2, null, 2, 3, null, 4, 3, null, 4, 3, null, 3, 4, null]}, {\"hoverinfo\": \"text\", \"hovertext\": [\"PatternStructure 30<br><br>extent (len: 2): 70, 83<br>intent (len: 14): job in [\\\"management\\\", \\\"services\\\"], contact in [\\\"cellular\\\", \\\"telephone\\\"], default = 0, marital = married, age in [37, 52],...<br>new extent (len: 2): 70, 83<br>new_intent (len: 5): campaign, month, age, previous, job<br>metric strongness = 1.0<br>metric stab_min_bound = None<br>metric stab_max_bound = None<br>metric log_stab_min_bound = None<br>metric log_stab_max_bound = None<br>metric lstab_min_bound = None<br>\", \"PatternStructure 14<br><br>extent (len: 2): 70, 36<br>intent (len: 13): contact in [\\\"cellular\\\", \\\"telephone\\\"], marital in [\\\"divorced\\\", \\\"married\\\"], poutcome in [\\\"success\\\", \\\"unknown\\\"], campaign in [1, 2], default = 0,...<br>new extent (len: 1): 36<br>new_intent (len: 3): job, balance, education<br>metric strongness = 0.3333333333333333<br>metric stab_min_bound = 0.5<br>metric stab_max_bound = 0.5<br>metric log_stab_min_bound = 1.0<br>metric log_stab_max_bound = 1.0<br>metric lstab_min_bound = -13.0<br>\", \"PatternStructure 5<br><br>extent (len: 4): 70, 83, 49, 36<br>intent (len: 13): contact in [\\\"cellular\\\", \\\"telephone\\\"], marital in [\\\"divorced\\\", \\\"married\\\"], balance in [0, 4629], campaign in [1, 2], default = 0,...<br>new extent (len: 0): \\u2205<br>new_intent (len: 3): month, age, job<br>metric strongness = 0.047619047619047616<br>metric stab_min_bound = -1.0<br>metric stab_max_bound = 0.5<br>metric log_stab_min_bound = -1.0<br>metric log_stab_max_bound = 1.0<br>metric lstab_min_bound = -13.0<br>\", \"PatternStructure 15<br><br>extent (len: 2): 83, 36<br>intent (len: 13): marital in [\\\"divorced\\\", \\\"married\\\"], campaign in [1, 2], default = 0, poutcome in [\\\"failure\\\", \\\"unknown\\\"], job in [\\\"retired\\\", \\\"services\\\"],...<br>new extent (len: 1): 36<br>new_intent (len: 4): poutcome, job, balance, contact<br>metric strongness = 0.6666666666666666<br>metric stab_min_bound = 0.5<br>metric stab_max_bound = 0.5<br>metric log_stab_min_bound = 1.0<br>metric log_stab_max_bound = 1.0<br>metric lstab_min_bound = -13.0<br>\", \"PatternStructure 16<br><br>extent (len: 1): 49<br>intent (len: 14): education = unknown, poutcome = success, default = 0, marital = married, contact = cellular,...<br>new extent (len: 1): 49<br>new_intent (len: 11): marital, housing, balance, pdays, month,...<br>metric strongness = 1.0<br>metric stab_min_bound = None<br>metric stab_max_bound = None<br>metric log_stab_min_bound = None<br>metric log_stab_max_bound = None<br>metric lstab_min_bound = None<br>\", \"PatternStructure 13<br><br>extent (len: 3): 70, 83, 36<br>intent (len: 13): contact in [\\\"cellular\\\", \\\"telephone\\\"], marital in [\\\"divorced\\\", \\\"married\\\"], campaign in [1, 2], education in [\\\"primary\\\", \\\"secondary\\\", \\\"tertiary\\\"], default = 0,...<br>new extent (len: 0): \\u2205<br>new_intent (len: 3): month, balance, job<br>metric strongness = 0.15789473684210525<br>metric stab_min_bound = -0.5<br>metric stab_max_bound = 0.5<br>metric log_stab_min_bound = -0.5849625007211562<br>metric log_stab_max_bound = 1.0<br>metric lstab_min_bound = -13.0<br>\", \"PatternStructure 23<br><br>extent (len: 2): 98, 49<br>intent (len: 14): poutcome = success, marital in [\\\"divorced\\\", \\\"married\\\"], pdays in [92.0, 182.0], default = 0, contact = cellular,...<br>new extent (len: 2): 98, 49<br>new_intent (len: 4): month, previous, balance, job<br>metric strongness = 1.0<br>metric stab_min_bound = None<br>metric stab_max_bound = None<br>metric log_stab_min_bound = None<br>metric log_stab_max_bound = None<br>metric lstab_min_bound = None<br>\", \"PatternStructure 3<br><br>extent (len: 4): 98, 83, 49, 36<br>intent (len: 13): balance in [229, 4629], contact in [\\\"cellular\\\", \\\"telephone\\\"], marital in [\\\"divorced\\\", \\\"married\\\"], campaign in [1, 2], job in [\\\"admin.\\\", \\\"blue-collar\\\", \\\"retired\\\", \\\"services\\\"],...<br>new extent (len: 0): \\u2205<br>new_intent (len: 4): previous, balance, education, job<br>metric strongness = 0.06557377049180328<br>metric stab_min_bound = -1.0<br>metric stab_max_bound = 0.5<br>metric log_stab_min_bound = -1.0<br>metric log_stab_max_bound = 1.0<br>metric lstab_min_bound = -13.0<br>\", \"PatternStructure 18<br><br>extent (len: 1): 70<br>intent (len: 14): poutcome = success, default = 0, contact = cellular, marital = married, previous = 3,...<br>new extent (len: 1): 70<br>new_intent (len: 11): marital, campaign, balance, pdays, month,...<br>metric strongness = 1.0<br>metric stab_min_bound = None<br>metric stab_max_bound = None<br>metric log_stab_min_bound = None<br>metric log_stab_max_bound = None<br>metric lstab_min_bound = None<br>\", \"PatternStructure 25<br><br>extent (len: 2): 70, 49<br>intent (len: 14): poutcome = success, balance in [0, 4629], campaign in [1, 2], default = 0, contact = cellular,...<br>new extent (len: 2): 70, 49<br>new_intent (len: 2): job, education<br>metric strongness = 1.0<br>metric stab_min_bound = None<br>metric stab_max_bound = None<br>metric log_stab_min_bound = None<br>metric log_stab_max_bound = None<br>metric lstab_min_bound = None<br>\", \"PatternStructure 8<br><br>extent (len: 2): 49, 36<br>intent (len: 13): balance in [229, 4629], job in [\\\"admin.\\\", \\\"retired\\\"], contact in [\\\"cellular\\\", \\\"telephone\\\"], marital in [\\\"divorced\\\", \\\"married\\\"], education in [\\\"primary\\\", \\\"unknown\\\"],...<br>new extent (len: 1): 36<br>new_intent (len: 4): month, job, age, education<br>metric strongness = 0.6666666666666666<br>metric stab_min_bound = 0.5<br>metric stab_max_bound = 0.5<br>metric log_stab_min_bound = 1.0<br>metric log_stab_max_bound = 1.0<br>metric lstab_min_bound = -13.0<br>\", \"PatternStructure 24<br><br>extent (len: 3): 70, 83, 49<br>intent (len: 14): job in [\\\"admin.\\\", \\\"management\\\", \\\"services\\\"], contact in [\\\"cellular\\\", \\\"telephone\\\"], balance in [0, 4629], campaign in [1, 2], default = 0,...<br>new extent (len: 0): \\u2205<br>new_intent (len: 4): marital, age, job, month<br>metric strongness = 0.6<br>metric stab_min_bound = -0.5<br>metric stab_max_bound = 0.5<br>metric log_stab_min_bound = -0.5849625007211562<br>metric log_stab_max_bound = 1.0<br>metric lstab_min_bound = -13.0<br>\", \"PatternStructure 6<br><br>extent (len: 3): 70, 49, 36<br>intent (len: 13): contact in [\\\"cellular\\\", \\\"telephone\\\"], marital in [\\\"divorced\\\", \\\"married\\\"], poutcome in [\\\"success\\\", \\\"unknown\\\"], campaign in [1, 2], education in [\\\"primary\\\", \\\"tertiary\\\", \\\"unknown\\\"],...<br>new extent (len: 0): \\u2205<br>new_intent (len: 2): job, education<br>metric strongness = 0.09375<br>metric stab_min_bound = -0.5<br>metric stab_max_bound = 0.5<br>metric log_stab_min_bound = -0.5849625007211562<br>metric log_stab_max_bound = 1.0<br>metric lstab_min_bound = -13.0<br>\", \"PatternStructure 4<br><br>extent (len: 3): 98, 49, 36<br>intent (len: 13): balance in [229, 4629], contact in [\\\"cellular\\\", \\\"telephone\\\"], marital in [\\\"divorced\\\", \\\"married\\\"], poutcome in [\\\"success\\\", \\\"unknown\\\"], default = 0,...<br>new extent (len: 0): \\u2205<br>new_intent (len: 4): month, campaign, previous, job<br>metric strongness = 0.16666666666666666<br>metric stab_min_bound = -0.5<br>metric stab_max_bound = 0.5<br>metric log_stab_min_bound = -0.5849625007211562<br>metric log_stab_max_bound = 1.0<br>metric lstab_min_bound = -13.0<br>\", \"PatternStructure 29<br><br>extent (len: 2): 98, 83<br>intent (len: 14): contact in [\\\"cellular\\\", \\\"telephone\\\"], marital in [\\\"divorced\\\", \\\"married\\\"], campaign in [1, 2], default = 0, pdays in [182.0, 460.0],...<br>new extent (len: 2): 98, 83<br>new_intent (len: 3): job, balance, education<br>metric strongness = 1.0<br>metric stab_min_bound = None<br>metric stab_max_bound = None<br>metric log_stab_min_bound = None<br>metric log_stab_max_bound = None<br>metric lstab_min_bound = None<br>\", \"PatternStructure 21<br><br>extent (len: 3): 70, 98, 49<br>intent (len: 14): poutcome = success, marital in [\\\"divorced\\\", \\\"married\\\"], balance in [0, 4629], month in [\\\"feb\\\", \\\"jan\\\", \\\"jul\\\"], default = 0,...<br>new extent (len: 0): \\u2205<br>new_intent (len: 4): poutcome, contact, job, pdays<br>metric strongness = 0.75<br>metric stab_min_bound = -0.5<br>metric stab_max_bound = 0.5<br>metric log_stab_min_bound = -0.5849625007211562<br>metric log_stab_max_bound = 1.0<br>metric lstab_min_bound = -13.0<br>\", \"PatternStructure 1<br><br>extent (len: 5): 98, 83, 49, 36, 70<br>intent (len: 13): contact in [\\\"cellular\\\", \\\"telephone\\\"], marital in [\\\"divorced\\\", \\\"married\\\"], balance in [0, 4629], campaign in [1, 2], poutcome in [\\\"failure\\\", \\\"success\\\", \\\"unknown\\\"],...<br>new extent (len: 0): \\u2205<br>new_intent (len: 13): marital, campaign, default, housing, balance,...<br>metric strongness = 0.03731343283582089<br>metric stab_min_bound = -1.5<br>metric stab_max_bound = 0.5<br>metric log_stab_min_bound = -1.3219280948873624<br>metric log_stab_max_bound = 1.0<br>metric lstab_min_bound = -13.0<br>\", \"PatternStructure 11<br><br>extent (len: 3): 98, 83, 36<br>intent (len: 13): contact in [\\\"cellular\\\", \\\"telephone\\\"], marital in [\\\"divorced\\\", \\\"married\\\"], job in [\\\"blue-collar\\\", \\\"retired\\\", \\\"services\\\"], age in [36, 78], default = 0,...<br>new extent (len: 0): \\u2205<br>new_intent (len: 3): job, balance, education<br>metric strongness = 0.17647058823529413<br>metric stab_min_bound = -0.5<br>metric stab_max_bound = 0.5<br>metric log_stab_min_bound = -0.5849625007211562<br>metric log_stab_max_bound = 1.0<br>metric lstab_min_bound = -13.0<br>\", \"PatternStructure 12<br><br>extent (len: 2): 98, 36<br>intent (len: 13): contact in [\\\"cellular\\\", \\\"telephone\\\"], poutcome in [\\\"success\\\", \\\"unknown\\\"], marital = divorced, age in [36, 78], default = 0,...<br>new extent (len: 1): 36<br>new_intent (len: 3): marital, job, month<br>metric strongness = 0.6666666666666666<br>metric stab_min_bound = 0.5<br>metric stab_max_bound = 0.5<br>metric log_stab_min_bound = 1.0<br>metric log_stab_max_bound = 1.0<br>metric lstab_min_bound = -13.0<br>\", \"PatternStructure 28<br><br>extent (len: 2): 70, 98<br>intent (len: 14): poutcome = success, marital in [\\\"divorced\\\", \\\"married\\\"], age in [36, 37], default = 0, contact = cellular,...<br>new extent (len: 2): 70, 98<br>new_intent (len: 3): job, age, pdays<br>metric strongness = 1.0<br>metric stab_min_bound = None<br>metric stab_max_bound = None<br>metric log_stab_min_bound = None<br>metric log_stab_max_bound = None<br>metric lstab_min_bound = None<br>\", \"PatternStructure 10<br><br>extent (len: 3): 70, 98, 36<br>intent (len: 13): contact in [\\\"cellular\\\", \\\"telephone\\\"], marital in [\\\"divorced\\\", \\\"married\\\"], poutcome in [\\\"success\\\", \\\"unknown\\\"], campaign in [1, 2], education in [\\\"primary\\\", \\\"secondary\\\", \\\"tertiary\\\"],...<br>new extent (len: 0): \\u2205<br>new_intent (len: 1): job<br>metric strongness = 0.1<br>metric stab_min_bound = -0.5<br>metric stab_max_bound = 0.5<br>metric log_stab_min_bound = -0.5849625007211562<br>metric log_stab_max_bound = 1.0<br>metric lstab_min_bound = -13.0<br>\", \"PatternStructure 7<br><br>extent (len: 3): 83, 49, 36<br>intent (len: 13): balance in [229, 4629], contact in [\\\"cellular\\\", \\\"telephone\\\"], marital in [\\\"divorced\\\", \\\"married\\\"], campaign in [1, 2], default = 0,...<br>new extent (len: 0): \\u2205<br>new_intent (len: 2): age, job<br>metric strongness = 0.14285714285714285<br>metric stab_min_bound = -0.5<br>metric stab_max_bound = 0.5<br>metric log_stab_min_bound = -0.5849625007211562<br>metric log_stab_max_bound = 1.0<br>metric lstab_min_bound = -13.0<br>\", \"PatternStructure 26<br><br>extent (len: 2): 83, 49<br>intent (len: 14): contact in [\\\"cellular\\\", \\\"telephone\\\"], campaign in [1, 2], default = 0, marital = married, age in [52, 61],...<br>new extent (len: 2): 83, 49<br>new_intent (len: 2): age, job<br>metric strongness = 1.0<br>metric stab_min_bound = None<br>metric stab_max_bound = None<br>metric log_stab_min_bound = None<br>metric log_stab_max_bound = None<br>metric lstab_min_bound = None<br>\", \"PatternStructure 0<br><br>extent (len: 1): 36<br>intent (len: 13): month = oct, marital = divorced, poutcome = unknown, default = 0, campaign = 1,...<br>new extent (len: 1): 36<br>new_intent (len: 13): marital, campaign, default, housing, balance,...<br>metric strongness = 1.0<br>metric stab_min_bound = None<br>metric stab_max_bound = None<br>metric log_stab_min_bound = None<br>metric log_stab_max_bound = None<br>metric lstab_min_bound = None<br>\", \"PatternStructure 20<br><br>extent (len: 4): 70, 98, 83, 49<br>intent (len: 14): contact in [\\\"cellular\\\", \\\"telephone\\\"], marital in [\\\"divorced\\\", \\\"married\\\"], balance in [0, 4629], month in [\\\"feb\\\", \\\"jan\\\", \\\"jul\\\"], default = 0,...<br>new extent (len: 0): \\u2205<br>new_intent (len: 7): pdays, month, poutcome, age, education,...<br>metric strongness = 0.3333333333333333<br>metric stab_min_bound = -1.0<br>metric stab_max_bound = 0.5<br>metric log_stab_min_bound = -1.0<br>metric log_stab_max_bound = 1.0<br>metric lstab_min_bound = -13.0<br>\", \"PatternStructure 27<br><br>extent (len: 3): 70, 98, 83<br>intent (len: 14): contact in [\\\"cellular\\\", \\\"telephone\\\"], marital in [\\\"divorced\\\", \\\"married\\\"], campaign in [1, 2], default = 0, pdays in [182.0, 460.0],...<br>new extent (len: 0): \\u2205<br>new_intent (len: 5): pdays, month, age, education, job<br>metric strongness = 0.75<br>metric stab_min_bound = -0.5<br>metric stab_max_bound = 0.5<br>metric log_stab_min_bound = -0.5849625007211562<br>metric log_stab_max_bound = 1.0<br>metric lstab_min_bound = -13.0<br>\", \"PatternStructure 9<br><br>extent (len: 4): 70, 98, 83, 36<br>intent (len: 13): job in [\\\"blue-collar\\\", \\\"management\\\", \\\"retired\\\", \\\"services\\\"], contact in [\\\"cellular\\\", \\\"telephone\\\"], marital in [\\\"divorced\\\", \\\"married\\\"], campaign in [1, 2], education in [\\\"primary\\\", \\\"secondary\\\", \\\"tertiary\\\"],...<br>new extent (len: 0): \\u2205<br>new_intent (len: 5): housing, balance, month, education, job<br>metric strongness = 0.09090909090909091<br>metric stab_min_bound = -1.0<br>metric stab_max_bound = 0.5<br>metric log_stab_min_bound = -1.0<br>metric log_stab_max_bound = 1.0<br>metric lstab_min_bound = -13.0<br>\", \"PatternStructure 17<br><br>extent (len: 1): 98<br>intent (len: 14): poutcome = success, marital = divorced, default = 0, contact = cellular, month = feb,...<br>new extent (len: 1): 98<br>new_intent (len: 9): balance, pdays, month, contact, poutcome,...<br>metric strongness = 1.0<br>metric stab_min_bound = None<br>metric stab_max_bound = None<br>metric log_stab_min_bound = None<br>metric log_stab_max_bound = None<br>metric lstab_min_bound = None<br>\", \"PatternStructure 19<br><br>extent (len: 1): 83<br>intent (len: 14): balance = 657, default = 0, marital = married, poutcome = failure, housing = 0,...<br>new extent (len: 1): 83<br>new_intent (len: 10): marital, campaign, balance, pdays, month,...<br>metric strongness = 1.0<br>metric stab_min_bound = None<br>metric stab_max_bound = None<br>metric log_stab_min_bound = None<br>metric log_stab_max_bound = None<br>metric lstab_min_bound = None<br>\", \"PatternStructure 22<br><br>extent (len: 3): 98, 83, 49<br>intent (len: 14): contact in [\\\"cellular\\\", \\\"telephone\\\"], marital in [\\\"divorced\\\", \\\"married\\\"], month in [\\\"feb\\\", \\\"jan\\\", \\\"jul\\\"], default = 0, campaign in [1, 2],...<br>new extent (len: 0): \\u2205<br>new_intent (len: 4): previous, balance, education, job<br>metric strongness = 0.75<br>metric stab_min_bound = -0.5<br>metric stab_max_bound = 0.5<br>metric log_stab_min_bound = -0.5849625007211562<br>metric log_stab_max_bound = 1.0<br>metric lstab_min_bound = -13.0<br>\", \"PatternStructure 2<br><br>extent (len: 4): 70, 98, 49, 36<br>intent (len: 13): contact in [\\\"cellular\\\", \\\"telephone\\\"], marital in [\\\"divorced\\\", \\\"married\\\"], job in [\\\"admin.\\\", \\\"blue-collar\\\", \\\"management\\\", \\\"retired\\\"], poutcome in [\\\"success\\\", \\\"unknown\\\"], default = 0,...<br>new extent (len: 0): \\u2205<br>new_intent (len: 2): poutcome, job<br>metric strongness = 0.038461538461538464<br>metric stab_min_bound = -1.0<br>metric stab_max_bound = 0.5<br>metric log_stab_min_bound = -1.0<br>metric log_stab_max_bound = 1.0<br>metric lstab_min_bound = -13.0<br>\"], \"marker\": {\"color\": [1.0, 0.3333333333333333, 0.047619047619047616, 0.6666666666666666, 1.0, 0.15789473684210525, 1.0, 0.06557377049180328, 1.0, 1.0, 0.6666666666666666, 0.6, 0.09375, 0.16666666666666666, 1.0, 0.75, 0.03731343283582089, 0.17647058823529413, 0.6666666666666666, 1.0, 0.1, 0.14285714285714285, 1.0, 1.0, 0.3333333333333333, 0.75, 0.09090909090909091, 1.0, 1.0, 0.75, 0.038461538461538464], \"colorbar\": {\"thickness\": 15, \"title\": {\"side\": \"right\", \"text\": \"y_mean\"}, \"xanchor\": \"left\"}, \"colorscale\": [[0.0, \"rgb(103,0,31)\"], [0.1, \"rgb(178,24,43)\"], [0.2, \"rgb(214,96,77)\"], [0.3, \"rgb(244,165,130)\"], [0.4, \"rgb(253,219,199)\"], [0.5, \"rgb(247,247,247)\"], [0.6, \"rgb(209,229,240)\"], [0.7, \"rgb(146,197,222)\"], [0.8, \"rgb(67,147,195)\"], [0.9, \"rgb(33,102,172)\"], [1.0, \"rgb(5,48,97)\"]], \"line\": {\"width\": 2}, \"reversescale\": true, \"showscale\": true, \"size\": 10}, \"mode\": \"markers+text\", \"text\": [\"n: 5<br>70,83\", \"education,balance,job<br>36\", \"month,age,job<br>\", \"poutcome,contact,balance,job<br>36\", \"n: 11<br>49\", \"month,balance,job<br>\", \"month,balance,previous,job<br>98,49\", \"balance,education,previous,job<br>\", \"n: 11<br>70\", \"education,job<br>70,49\", \"month,education,age,job<br>36\", \"marital,age,job,month<br>\", \"education,job<br>\", \"month,campaign,previous,job<br>\", \"education,balance,job<br>98,83\", \"pdays,poutcome,contact,job<br>\", \"n: 13<br>\", \"education,balance,job<br>\", \"marital,job,month<br>36\", \"pdays,age,job<br>70,98\", \"job<br>\", \"age,job<br>\", \"age,job<br>83,49\", \"n: 13<br>36\", \"n: 7<br>\", \"n: 5<br>\", \"n: 5<br>\", \"n: 9<br>98\", \"n: 10<br>83\", \"balance,education,previous,job<br>\", \"poutcome,job<br>\"], \"textposition\": \"middle right\", \"type\": \"scatter\", \"x\": [-4.5, -3.5, -2.0, -2.5, -1.5, -4.5, -1.5, -1.0, -0.5, -0.5, 0.5, -3.5, -2.5, -1.5, 1.5, -0.5, -0.5, 0.5, 2.5, 3.5, 1.5, 2.5, 4.5, 0.5, 0.0, 3.5, 1.0, 0.5, 1.5, 4.5, 2.0], \"y\": [2, 2, 4, 2, 1, 3, 2, 4, 1, 2, 2, 3, 3, 3, 2, 3, 5, 3, 2, 2, 3, 3, 2, 5, 4, 3, 4, 1, 1, 3, 4]}],\n",
       "                        {\"height\": 500, \"hovermode\": \"closest\", \"margin\": {\"b\": 20, \"l\": 5, \"r\": 5, \"t\": 40}, \"showlegend\": false, \"template\": {\"data\": {\"bar\": [{\"error_x\": {\"color\": \"#2a3f5f\"}, \"error_y\": {\"color\": \"#2a3f5f\"}, \"marker\": {\"line\": {\"color\": \"#E5ECF6\", \"width\": 0.5}}, \"type\": \"bar\"}], \"barpolar\": [{\"marker\": {\"line\": {\"color\": \"#E5ECF6\", \"width\": 0.5}}, \"type\": \"barpolar\"}], \"carpet\": [{\"aaxis\": {\"endlinecolor\": \"#2a3f5f\", \"gridcolor\": \"white\", \"linecolor\": \"white\", \"minorgridcolor\": \"white\", \"startlinecolor\": \"#2a3f5f\"}, \"baxis\": {\"endlinecolor\": \"#2a3f5f\", \"gridcolor\": \"white\", \"linecolor\": \"white\", \"minorgridcolor\": \"white\", \"startlinecolor\": \"#2a3f5f\"}, \"type\": \"carpet\"}], \"choropleth\": [{\"colorbar\": {\"outlinewidth\": 0, \"ticks\": \"\"}, \"type\": \"choropleth\"}], \"contour\": [{\"colorbar\": {\"outlinewidth\": 0, \"ticks\": \"\"}, \"colorscale\": [[0.0, \"#0d0887\"], [0.1111111111111111, \"#46039f\"], [0.2222222222222222, \"#7201a8\"], [0.3333333333333333, \"#9c179e\"], [0.4444444444444444, \"#bd3786\"], [0.5555555555555556, \"#d8576b\"], [0.6666666666666666, \"#ed7953\"], [0.7777777777777778, \"#fb9f3a\"], [0.8888888888888888, \"#fdca26\"], [1.0, \"#f0f921\"]], \"type\": \"contour\"}], \"contourcarpet\": [{\"colorbar\": {\"outlinewidth\": 0, \"ticks\": \"\"}, \"type\": \"contourcarpet\"}], \"heatmap\": [{\"colorbar\": {\"outlinewidth\": 0, \"ticks\": \"\"}, \"colorscale\": [[0.0, \"#0d0887\"], [0.1111111111111111, \"#46039f\"], [0.2222222222222222, \"#7201a8\"], [0.3333333333333333, \"#9c179e\"], [0.4444444444444444, \"#bd3786\"], [0.5555555555555556, \"#d8576b\"], [0.6666666666666666, \"#ed7953\"], [0.7777777777777778, \"#fb9f3a\"], [0.8888888888888888, \"#fdca26\"], [1.0, \"#f0f921\"]], \"type\": \"heatmap\"}], \"heatmapgl\": [{\"colorbar\": {\"outlinewidth\": 0, \"ticks\": \"\"}, \"colorscale\": [[0.0, \"#0d0887\"], [0.1111111111111111, \"#46039f\"], [0.2222222222222222, \"#7201a8\"], [0.3333333333333333, \"#9c179e\"], [0.4444444444444444, \"#bd3786\"], [0.5555555555555556, \"#d8576b\"], [0.6666666666666666, \"#ed7953\"], [0.7777777777777778, \"#fb9f3a\"], [0.8888888888888888, \"#fdca26\"], [1.0, \"#f0f921\"]], \"type\": \"heatmapgl\"}], \"histogram\": [{\"marker\": {\"colorbar\": {\"outlinewidth\": 0, \"ticks\": \"\"}}, \"type\": \"histogram\"}], \"histogram2d\": [{\"colorbar\": {\"outlinewidth\": 0, \"ticks\": \"\"}, \"colorscale\": [[0.0, \"#0d0887\"], [0.1111111111111111, \"#46039f\"], [0.2222222222222222, \"#7201a8\"], [0.3333333333333333, \"#9c179e\"], [0.4444444444444444, \"#bd3786\"], [0.5555555555555556, \"#d8576b\"], [0.6666666666666666, \"#ed7953\"], [0.7777777777777778, \"#fb9f3a\"], [0.8888888888888888, \"#fdca26\"], [1.0, \"#f0f921\"]], \"type\": \"histogram2d\"}], \"histogram2dcontour\": [{\"colorbar\": {\"outlinewidth\": 0, \"ticks\": \"\"}, \"colorscale\": [[0.0, \"#0d0887\"], [0.1111111111111111, \"#46039f\"], [0.2222222222222222, \"#7201a8\"], [0.3333333333333333, \"#9c179e\"], [0.4444444444444444, \"#bd3786\"], [0.5555555555555556, \"#d8576b\"], [0.6666666666666666, \"#ed7953\"], [0.7777777777777778, \"#fb9f3a\"], [0.8888888888888888, \"#fdca26\"], [1.0, \"#f0f921\"]], \"type\": \"histogram2dcontour\"}], \"mesh3d\": [{\"colorbar\": {\"outlinewidth\": 0, \"ticks\": \"\"}, \"type\": \"mesh3d\"}], \"parcoords\": [{\"line\": {\"colorbar\": {\"outlinewidth\": 0, \"ticks\": \"\"}}, \"type\": \"parcoords\"}], \"pie\": [{\"automargin\": true, \"type\": \"pie\"}], \"scatter\": [{\"marker\": {\"colorbar\": {\"outlinewidth\": 0, \"ticks\": \"\"}}, \"type\": \"scatter\"}], \"scatter3d\": [{\"line\": {\"colorbar\": {\"outlinewidth\": 0, \"ticks\": \"\"}}, \"marker\": {\"colorbar\": {\"outlinewidth\": 0, \"ticks\": \"\"}}, \"type\": \"scatter3d\"}], \"scattercarpet\": [{\"marker\": {\"colorbar\": {\"outlinewidth\": 0, \"ticks\": \"\"}}, \"type\": \"scattercarpet\"}], \"scattergeo\": [{\"marker\": {\"colorbar\": {\"outlinewidth\": 0, \"ticks\": \"\"}}, \"type\": \"scattergeo\"}], \"scattergl\": [{\"marker\": {\"colorbar\": {\"outlinewidth\": 0, \"ticks\": \"\"}}, \"type\": \"scattergl\"}], \"scattermapbox\": [{\"marker\": {\"colorbar\": {\"outlinewidth\": 0, \"ticks\": \"\"}}, \"type\": \"scattermapbox\"}], \"scatterpolar\": [{\"marker\": {\"colorbar\": {\"outlinewidth\": 0, \"ticks\": \"\"}}, \"type\": \"scatterpolar\"}], \"scatterpolargl\": [{\"marker\": {\"colorbar\": {\"outlinewidth\": 0, \"ticks\": \"\"}}, \"type\": \"scatterpolargl\"}], \"scatterternary\": [{\"marker\": {\"colorbar\": {\"outlinewidth\": 0, \"ticks\": \"\"}}, \"type\": \"scatterternary\"}], \"surface\": [{\"colorbar\": {\"outlinewidth\": 0, \"ticks\": \"\"}, \"colorscale\": [[0.0, \"#0d0887\"], [0.1111111111111111, \"#46039f\"], [0.2222222222222222, \"#7201a8\"], [0.3333333333333333, \"#9c179e\"], [0.4444444444444444, \"#bd3786\"], [0.5555555555555556, \"#d8576b\"], [0.6666666666666666, \"#ed7953\"], [0.7777777777777778, \"#fb9f3a\"], [0.8888888888888888, \"#fdca26\"], [1.0, \"#f0f921\"]], \"type\": \"surface\"}], \"table\": [{\"cells\": {\"fill\": {\"color\": \"#EBF0F8\"}, \"line\": {\"color\": \"white\"}}, \"header\": {\"fill\": {\"color\": \"#C8D4E3\"}, \"line\": {\"color\": \"white\"}}, \"type\": \"table\"}]}, \"layout\": {\"annotationdefaults\": {\"arrowcolor\": \"#2a3f5f\", \"arrowhead\": 0, \"arrowwidth\": 1}, \"coloraxis\": {\"colorbar\": {\"outlinewidth\": 0, \"ticks\": \"\"}}, \"colorscale\": {\"diverging\": [[0, \"#8e0152\"], [0.1, \"#c51b7d\"], [0.2, \"#de77ae\"], [0.3, \"#f1b6da\"], [0.4, \"#fde0ef\"], [0.5, \"#f7f7f7\"], [0.6, \"#e6f5d0\"], [0.7, \"#b8e186\"], [0.8, \"#7fbc41\"], [0.9, \"#4d9221\"], [1, \"#276419\"]], \"sequential\": [[0.0, \"#0d0887\"], [0.1111111111111111, \"#46039f\"], [0.2222222222222222, \"#7201a8\"], [0.3333333333333333, \"#9c179e\"], [0.4444444444444444, \"#bd3786\"], [0.5555555555555556, \"#d8576b\"], [0.6666666666666666, \"#ed7953\"], [0.7777777777777778, \"#fb9f3a\"], [0.8888888888888888, \"#fdca26\"], [1.0, \"#f0f921\"]], \"sequentialminus\": [[0.0, \"#0d0887\"], [0.1111111111111111, \"#46039f\"], [0.2222222222222222, \"#7201a8\"], [0.3333333333333333, \"#9c179e\"], [0.4444444444444444, \"#bd3786\"], [0.5555555555555556, \"#d8576b\"], [0.6666666666666666, \"#ed7953\"], [0.7777777777777778, \"#fb9f3a\"], [0.8888888888888888, \"#fdca26\"], [1.0, \"#f0f921\"]]}, \"colorway\": [\"#636efa\", \"#EF553B\", \"#00cc96\", \"#ab63fa\", \"#FFA15A\", \"#19d3f3\", \"#FF6692\", \"#B6E880\", \"#FF97FF\", \"#FECB52\"], \"font\": {\"color\": \"#2a3f5f\"}, \"geo\": {\"bgcolor\": \"white\", \"lakecolor\": \"white\", \"landcolor\": \"#E5ECF6\", \"showlakes\": true, \"showland\": true, \"subunitcolor\": \"white\"}, \"hoverlabel\": {\"align\": \"left\"}, \"hovermode\": \"closest\", \"mapbox\": {\"style\": \"light\"}, \"paper_bgcolor\": \"white\", \"plot_bgcolor\": \"#E5ECF6\", \"polar\": {\"angularaxis\": {\"gridcolor\": \"white\", \"linecolor\": \"white\", \"ticks\": \"\"}, \"bgcolor\": \"#E5ECF6\", \"radialaxis\": {\"gridcolor\": \"white\", \"linecolor\": \"white\", \"ticks\": \"\"}}, \"scene\": {\"xaxis\": {\"backgroundcolor\": \"#E5ECF6\", \"gridcolor\": \"white\", \"gridwidth\": 2, \"linecolor\": \"white\", \"showbackground\": true, \"ticks\": \"\", \"zerolinecolor\": \"white\"}, \"yaxis\": {\"backgroundcolor\": \"#E5ECF6\", \"gridcolor\": \"white\", \"gridwidth\": 2, \"linecolor\": \"white\", \"showbackground\": true, \"ticks\": \"\", \"zerolinecolor\": \"white\"}, \"zaxis\": {\"backgroundcolor\": \"#E5ECF6\", \"gridcolor\": \"white\", \"gridwidth\": 2, \"linecolor\": \"white\", \"showbackground\": true, \"ticks\": \"\", \"zerolinecolor\": \"white\"}}, \"shapedefaults\": {\"line\": {\"color\": \"#2a3f5f\"}}, \"ternary\": {\"aaxis\": {\"gridcolor\": \"white\", \"linecolor\": \"white\", \"ticks\": \"\"}, \"baxis\": {\"gridcolor\": \"white\", \"linecolor\": \"white\", \"ticks\": \"\"}, \"bgcolor\": \"#E5ECF6\", \"caxis\": {\"gridcolor\": \"white\", \"linecolor\": \"white\", \"ticks\": \"\"}}, \"title\": {\"x\": 0.05}, \"xaxis\": {\"automargin\": true, \"gridcolor\": \"white\", \"linecolor\": \"white\", \"ticks\": \"\", \"title\": {\"standoff\": 15}, \"zerolinecolor\": \"white\", \"zerolinewidth\": 2}, \"yaxis\": {\"automargin\": true, \"gridcolor\": \"white\", \"linecolor\": \"white\", \"ticks\": \"\", \"title\": {\"standoff\": 15}, \"zerolinecolor\": \"white\", \"zerolinewidth\": 2}}}, \"title\": {\"font\": {\"size\": 16}, \"text\": \"Concept Lattice\"}, \"width\": 1000, \"xaxis\": {\"showgrid\": false, \"showticklabels\": false, \"zeroline\": false}, \"yaxis\": {\"showgrid\": false, \"showticklabels\": false, \"zeroline\": false}},\n",
       "                        {\"responsive\": true}\n",
       "                    ).then(function(){\n",
       "                            \n",
       "var gd = document.getElementById('3a6dcd28-8652-4b52-b2b4-f53cfea5fc2a');\n",
       "var x = new MutationObserver(function (mutations, observer) {{\n",
       "        var display = window.getComputedStyle(gd).display;\n",
       "        if (!display || display === 'none') {{\n",
       "            console.log([gd, 'removed!']);\n",
       "            Plotly.purge(gd);\n",
       "            observer.disconnect();\n",
       "        }}\n",
       "}});\n",
       "\n",
       "// Listen for the removal of the full notebook cells\n",
       "var notebookContainer = gd.closest('#notebook-container');\n",
       "if (notebookContainer) {{\n",
       "    x.observe(notebookContainer, {childList: true});\n",
       "}}\n",
       "\n",
       "// Listen for the clearing of the current output cell\n",
       "var outputEl = gd.closest('.output');\n",
       "if (outputEl) {{\n",
       "    x.observe(outputEl, {childList: true});\n",
       "}}\n",
       "\n",
       "                        })\n",
       "                };\n",
       "                });\n",
       "            </script>\n",
       "        </div>"
      ]
     },
     "metadata": {},
     "output_type": "display_data"
    }
   ],
   "source": [
    "fig"
   ]
  },
  {
   "cell_type": "code",
   "execution_count": null,
   "metadata": {},
   "outputs": [],
   "source": []
  },
  {
   "cell_type": "code",
   "execution_count": null,
   "metadata": {},
   "outputs": [],
   "source": []
  },
  {
   "cell_type": "code",
   "execution_count": 73,
   "metadata": {},
   "outputs": [],
   "source": [
    "from sklearn.metrics import accuracy_score"
   ]
  },
  {
   "cell_type": "code",
   "execution_count": 125,
   "metadata": {},
   "outputs": [],
   "source": [
    "fcai = reload(fcai)"
   ]
  },
  {
   "cell_type": "code",
   "execution_count": 126,
   "metadata": {},
   "outputs": [],
   "source": [
    "mvcntx = fcai.MultiValuedContext(bank_ds.loc[flg, cat_feats+real_feats], cat_attrs=cat_feats)\n",
    "mvcntx_full = fcai.MultiValuedContext(bank_ds[cat_feats+real_feats], cat_attrs=cat_feats)"
   ]
  },
  {
   "cell_type": "code",
   "execution_count": 127,
   "metadata": {},
   "outputs": [],
   "source": [
    "from datetime import datetime"
   ]
  },
  {
   "cell_type": "code",
   "execution_count": 128,
   "metadata": {},
   "outputs": [],
   "source": [
    "def construct_max_strong_hyps(cntx, cntx_full, use_tqdm=True):\n",
    "    concept_class = fcai.Concept if type(cntx)==fcai.BinaryContext else fcai.PatternStructure\n",
    "    objs_to_check = sorted(cntx.get_objs(is_full=True))\n",
    "\n",
    "    concepts = []\n",
    "    for i in tqdm(range(len(objs_to_check)), disable=not use_tqdm):\n",
    "        if len(objs_to_check)==0:\n",
    "            break\n",
    "        g = objs_to_check.pop(0)\n",
    "\n",
    "        int_ = cntx.get_intent([g],)\n",
    "        ext_ = cntx.get_extent(int_)    \n",
    "        ext_full = cntx_full.get_extent(int_)\n",
    "        strongness = len(ext_)/len(ext_full) if len(ext_)>0 else 0\n",
    "        assert strongness==1, f'Object {g} is not a strong hypothesis'\n",
    "\n",
    "        objs_to_check = [g_ for g_ in objs_to_check if g_ not in ext_]\n",
    "        if concept_class==fcai.Concept:\n",
    "            c = concept_class(ext_, int_, metrics={'strongness':strongness})\n",
    "        else:\n",
    "            c = concept_class(ext_, int_, metrics={'strongness':strongness}, cat_feats=list(mvcntx._attrs[mvcntx._cat_attrs_idxs]))\n",
    "        concepts.append(c)\n",
    "    return concepts"
   ]
  },
  {
   "cell_type": "code",
   "execution_count": 130,
   "metadata": {},
   "outputs": [],
   "source": [
    "def _close_by_one_concepts(cntx, cntx_full, strong_concepts, is_monotonic=False, strongness_min_bound=0.5, verb=True, concept_class=fcai.Concept):\n",
    "    if type(cntx)==fcai.MultiValuedContext:\n",
    "        concept_class = fcai.PatternStructure\n",
    "    else:\n",
    "        concept_class = fcai.Concept\n",
    "    \n",
    "    n_concepts = len(strong_concepts)\n",
    "\n",
    "    combs_to_check = [[g_idx] for g_idx in range(len(strong_concepts))]\n",
    "    concepts = set()\n",
    "    iter_ = 0\n",
    "    saved_combs = set()\n",
    "\n",
    "    t0 = datetime.now()\n",
    "    while len(combs_to_check) > 0:\n",
    "        iter_ += 1\n",
    "\n",
    "        comb = combs_to_check.pop(0)\n",
    "        \n",
    "        try:\n",
    "            ext_united = list(set([g for c_idx in comb for g in strong_concepts[c_idx].get_extent()])) #transforming concepts to their common extents\n",
    "        except Exception as e:\n",
    "            if verb:\n",
    "                print(comb, e)\n",
    "            raise e\n",
    "        if concept_class==fcai.Concept:\n",
    "            int_ = cntx.get_intent(ext_united, trust_mode=False, verb=True, is_full=True)\n",
    "            ext_ = cntx.get_extent(int_, trust_mode=False, verb=True, is_full=True)\n",
    "        else:\n",
    "            int_ = cntx.get_intent(ext_united, trust_mode=False, verb=True,)\n",
    "            ext_ = cntx.get_extent(int_, trust_mode=False, verb=True)\n",
    "        \n",
    "        comb_ = [idx for idx, concept in enumerate(strong_concepts) if all([g in ext_ for g in concept.get_extent()])] #transforming extents to their concepts\n",
    "        \n",
    "        new_comb_ = [x for x in comb_ if x not in comb]\n",
    "\n",
    "        t1 = datetime.now()\n",
    "        dt = (t1 - t0).total_seconds()\n",
    "        try:\n",
    "            if verb:\n",
    "                print(f\"{iter_}: len(comb_)={len(comb_)}, first_in_comb: {comb_[0]}, new_comb_len:{len(new_comb_)}, time spend: {dt:.2f} sec, speed: {dt / iter_:.2f} sec/iter\")\n",
    "        except Exception as e:\n",
    "            if verb:\n",
    "                print(comb, comb_, e)\n",
    "            raise e\n",
    "\n",
    "        if (len(comb) > 0 and any([x < comb[-1] for x in new_comb_])) or tuple(comb_) in saved_combs:\n",
    "            continue\n",
    "            \n",
    "        if strongness_min_bound is not None:\n",
    "            if concept_class==fcai.Concept:\n",
    "                ext_full = cntx.get_extent(int_, trust_mode=False, verb=True, is_full=True)\n",
    "                ext_full_ = cntx_full.get_extent(int_, trust_mode=False, verb=True, is_full=True)\n",
    "            else:\n",
    "                ext_full = cntx.get_extent(int_, trust_mode=False, verb=True)\n",
    "                ext_full_ = cntx_full.get_extent(int_, trust_mode=False, verb=True)\n",
    "            strongness = len(ext_full)/len(ext_full_) if len(ext_full)>0 else 0\n",
    "            if strongness<strongness_min_bound:\n",
    "                continue\n",
    "\n",
    "        \n",
    "        if concept_class==fcai.Concept:\n",
    "            c = concept_class(ext_, int_)\n",
    "        else:\n",
    "            c = concept_class(ext_, int_, cat_feats=cntx._attrs[cntx._cat_attrs_idxs])\n",
    "        concepts.add(c)\n",
    "        \n",
    "        saved_combs.add(tuple(comb_))\n",
    "\n",
    "        new_combs = [comb_ + [x] for x in range((comb[-1] if len(comb) > 0 else -1) + 1, n_concepts) if x not in comb_]\n",
    "        combs_to_check = new_combs + combs_to_check\n",
    "\n",
    "    return concepts"
   ]
  },
  {
   "cell_type": "raw",
   "metadata": {},
   "source": [
    "%%timeit\n",
    "united_concepts = _close_by_one_concepts(mvcntx, mvcntx_full, base_concepts[:10], is_monotonic=False, strongness_min_bound=1, verb=False,)"
   ]
  },
  {
   "cell_type": "raw",
   "metadata": {},
   "source": [
    "%%timeit\n",
    "united_concepts = _close_by_one_concepts(mvcntx, mvcntx_full, base_concepts[:15], is_monotonic=False, strongness_min_bound=1, verb=False, concept_class=fcai.PatternStructure)"
   ]
  },
  {
   "cell_type": "raw",
   "metadata": {},
   "source": [
    "%%timeit\n",
    "united_concepts = _close_by_one_concepts(mvcntx, mvcntx_full, base_concepts[:20], is_monotonic=False, strongness_min_bound=1, verb=False, concept_class=fcai.PatternStructure)"
   ]
  },
  {
   "cell_type": "code",
   "execution_count": null,
   "metadata": {},
   "outputs": [],
   "source": []
  },
  {
   "cell_type": "code",
   "execution_count": 131,
   "metadata": {},
   "outputs": [],
   "source": [
    "def unite_bootstrap_concepts(cntx, cntx_full, base_concepts, n_epochs=500, sample_size=15, use_tqdm=True, stab_min_bound=None, verb=False,\n",
    "                                 strongness_min_bound=0.5, n_best_concepts=None, is_monotone=False):\n",
    "    concepts_bootstrap = []\n",
    "    for i in tqdm(range(n_epochs), disable=not use_tqdm, desc='boostrap aggregating'):\n",
    "        np.random.seed(i)\n",
    "        sample = np.random.choice(base_concepts, size=sample_size, replace=True)\n",
    "        concepts = _close_by_one_concepts(cntx, cntx_full, sample, is_monotonic=False, strongness_min_bound=strongness_min_bound, verb=False)\n",
    "        fm = fcai.FormalManager(cntx)\n",
    "        fm._concepts = concepts\n",
    "        fm.calc_strongness(cntx_full)\n",
    "        for idx, c in enumerate(fm.sort_concepts(concepts)):\n",
    "            c._idx = idx\n",
    "        fm.construct_lattice()\n",
    "        fm.calc_stability_approx()\n",
    "        if stab_min_bound is not None:\n",
    "            fm.filter_concepts(lambda c: fcai.get_not_none(c._metrics['stab_min_bound'],-100)>=stab_min_bound)\n",
    "        \n",
    "        concepts = list(fm.get_concepts())\n",
    "        if n_best_concepts is not None:\n",
    "            #concepts = sorted(concepts, key=lambda c: (-c._metrics.get('stab_min_bound',0), -c._metrics.get('strongness',0)))[:n_best_concepts]\n",
    "            concepts = sorted(concepts, key=lambda c: (-fcai.get_not_none(c._metrics['stab_min_bound'],-100), -fcai.get_not_none(c._metrics['strongness'],-100)))[:n_best_concepts]\n",
    "        \n",
    "        concepts_bootstrap += concepts\n",
    "    return concepts_bootstrap"
   ]
  },
  {
   "cell_type": "code",
   "execution_count": 164,
   "metadata": {},
   "outputs": [
    {
     "name": "stdout",
     "output_type": "stream",
     "text": [
      "Collecting frozendict\n",
      "  Downloading frozendict-1.2.tar.gz (2.6 kB)\n",
      "Building wheels for collected packages: frozendict\n",
      "  Building wheel for frozendict (setup.py) ... \u001b[?25ldone\n",
      "\u001b[?25h  Created wheel for frozendict: filename=frozendict-1.2-py3-none-any.whl size=3148 sha256=650bfaefccf0469def26babe1a954a511102907d589d97783b70784f2da755b7\n",
      "  Stored in directory: /root/.cache/pip/wheels/68/17/69/ac196dd181e620bba5fae5488e4fd6366a7316dce13cf88776\n",
      "Successfully built frozendict\n",
      "Installing collected packages: frozendict\n",
      "Successfully installed frozendict-1.2\n"
     ]
    }
   ],
   "source": [
    "!pip install frozendict"
   ]
  },
  {
   "cell_type": "code",
   "execution_count": 165,
   "metadata": {},
   "outputs": [],
   "source": [
    "from frozendict import frozendict"
   ]
  },
  {
   "cell_type": "code",
   "execution_count": 169,
   "metadata": {},
   "outputs": [
    {
     "data": {
      "text/plain": [
       "True"
      ]
     },
     "execution_count": 169,
     "metadata": {},
     "output_type": "execute_result"
    }
   ],
   "source": [
    "frozendict({'d':4, 'c':3}) in set(['a','b', frozendict({'c':3,'d':4})])"
   ]
  },
  {
   "cell_type": "code",
   "execution_count": 170,
   "metadata": {},
   "outputs": [],
   "source": [
    "def get_unique_concepts(concepts):\n",
    "    saw_ints = set()\n",
    "    unique_concepts = []\n",
    "    for c in concepts:\n",
    "        if c.get_intent() is None:\n",
    "            continue\n",
    "            \n",
    "        int_ = tuple(c.get_intent()) if type(c)==fcai.Concept else frozendict(c.get_intent())\n",
    "        if int_ not in saw_ints:\n",
    "            unique_concepts.append(c)\n",
    "            saw_ints.add(int_)\n",
    "    return unique_concepts"
   ]
  },
  {
   "cell_type": "code",
   "execution_count": 171,
   "metadata": {},
   "outputs": [],
   "source": [
    "def agglomerative_concepts_construction(cntx, cntx_full, base_concepts, strongness_delta=0.1, stab_min_bound=0.5, bootstrap_sample_size=15,\n",
    "                                        use_tqdm=True, n_epochs_bootstrap=100, n_best_concepts_bootstrap=10, verb=True):\n",
    "    concept_class = {fcai.BinaryContext: fcai.Concept, fcai.MultiValuedContext: fcai.PatternStructure}[type(cntx)]\n",
    "    if concept_class==fcai.Concept:\n",
    "        int_ = cntx.get_intent([], is_full=True)\n",
    "        ext_ = cntx.get_extent(int_, is_full=True)\n",
    "        ext_full = cntx.get_extent(int_, is_full=True)\n",
    "        bottom_concept = concept_class(ext_, int_, metrics={'strongness':len(ext_)/len(ext_full) if len(ext_)>0 else 0})\n",
    "    else:\n",
    "        int_ = cntx.get_intent([])\n",
    "        ext_ = cntx.get_extent(int_)\n",
    "        ext_full = cntx.get_extent(int_)\n",
    "        bottom_concept = concept_class(ext_, int_, metrics={'strongness':len(ext_)/len(ext_full) if len(ext_)>0 else 0}, cat_feats=cntx._attrs[cntx._cat_attrs_idxs])\n",
    "        \n",
    "    strong_bounds = np.arange(0,1+strongness_delta,strongness_delta)[::-1]\n",
    "    min_concepts_by_iters = {}\n",
    "    selected_concepts = []\n",
    "    \n",
    "    mc = base_concepts.copy()\n",
    "    for iter_idx, strong_bound in tqdm(enumerate(strong_bounds), disable=not use_tqdm, total=len(strong_bounds), desc='agglomerative construction'):\n",
    "        bs_concepts = unite_bootstrap_concepts(cntx, cntx_full, mc, sample_size=bootstrap_sample_size, stab_min_bound=stab_min_bound,\n",
    "                                               n_epochs=n_epochs_bootstrap, n_best_concepts=n_best_concepts_bootstrap, strongness_min_bound=strong_bound)\n",
    "        unique_concepts = get_unique_concepts(bs_concepts)\n",
    "        if verb:\n",
    "            print(f'Iter {iter_idx}: num bs unique concepts: {len(unique_concepts)}')\n",
    "        \n",
    "        concepts = unique_concepts+selected_concepts+[bottom_concept]+(base_concepts if iter_idx==0 else [])\n",
    "        if verb:\n",
    "            print(f'Iter {iter_idx}: num concept to fm: {len(concepts)}')\n",
    "            \n",
    "        fm = fcai.FormalManager(cntx)\n",
    "        fm._concepts = concepts\n",
    "        for idx, c in enumerate(fm.sort_concepts(concepts)):\n",
    "            c._idx = idx\n",
    "        fm.construct_lattice()\n",
    "        fm.calc_stability_approx()\n",
    "        concepts = fm.get_concepts()\n",
    "        \n",
    "        if verb:\n",
    "            print(f'Iter {iter_idx}: cover of all concepts: {len(calc_cover_of_concepts(concepts))}')\n",
    "        stab_concepts = [c for c in concepts if fcai.get_not_none(c._metrics['stab_min_bound'],-100)>=stab_min_bound]\n",
    "        \n",
    "        if verb:\n",
    "            print(f'Iter {iter_idx}: cover of stable concepts: {len(calc_cover_of_concepts(stab_concepts))}')\n",
    "        \n",
    "        mc = select_smallest_covering_hyps(stab_concepts, use_pruning=True)\n",
    "        if verb:\n",
    "            print(f'Iter {iter_idx}: cover of min stable concepts: {len(calc_cover_of_concepts(mc))}')\n",
    "            print(f'Iter {iter_idx}: num of min stable concepts: {len(mc)}')\n",
    "        selected_concepts = get_unique_concepts(selected_concepts+mc)\n",
    "        if verb:\n",
    "            print(f'Iter {iter_idx}: num of selected concepts: {len(selected_concepts)}')\n",
    "            print(f'Iter {iter_idx}: cover of selected concepts: {len(calc_cover_of_concepts(selected_concepts))}')\n",
    "        min_concepts_by_iters[iter_idx] = mc\n",
    "    return selected_concepts, min_concepts_by_iters"
   ]
  },
  {
   "cell_type": "code",
   "execution_count": null,
   "metadata": {},
   "outputs": [],
   "source": []
  },
  {
   "cell_type": "code",
   "execution_count": 224,
   "metadata": {},
   "outputs": [],
   "source": [
    "fcai = reload(fcai)"
   ]
  },
  {
   "cell_type": "code",
   "execution_count": 225,
   "metadata": {},
   "outputs": [],
   "source": [
    "mvcntx = fcai.MultiValuedContext(bank_ds.loc[flg, cat_feats+real_feats], cat_attrs=cat_feats)\n",
    "mvcntx_full = fcai.MultiValuedContext(bank_ds[cat_feats+real_feats], cat_attrs=cat_feats)"
   ]
  },
  {
   "cell_type": "code",
   "execution_count": 226,
   "metadata": {},
   "outputs": [
    {
     "data": {
      "application/vnd.jupyter.widget-view+json": {
       "model_id": "2daa97d7bbc840e9af365a93f39dff18",
       "version_major": 2,
       "version_minor": 0
      },
      "text/plain": [
       "HBox(children=(FloatProgress(value=0.0, max=149.0), HTML(value='')))"
      ]
     },
     "metadata": {},
     "output_type": "display_data"
    },
    {
     "name": "stdout",
     "output_type": "stream",
     "text": [
      "\n"
     ]
    }
   ],
   "source": [
    "base_concepts = construct_max_strong_hyps(mvcntx, mvcntx_full)"
   ]
  },
  {
   "cell_type": "code",
   "execution_count": 227,
   "metadata": {},
   "outputs": [],
   "source": [
    "#int_ = mvcntx.get_intent([])\n",
    "ext_ = list(mvcntx._objs) #mvcntx.get_extent(int_)\n",
    "int_ = mvcntx.get_intent(ext_)\n",
    "ext_full = mvcntx_full.get_extent(int_)\n",
    "top_concept = fcai.PatternStructure(ext_, int_, metrics={'strongness':len(ext_)/len(ext_full) if len(ext_)>0 else 0}, cat_feats=mvcntx._attrs[mvcntx._cat_attrs_idxs])\n",
    "\n",
    "ext_ = []\n",
    "int_ = mvcntx.get_intent(ext_)\n",
    "ext_full = mvcntx_full.get_extent(int_)\n",
    "bottom_concept = fcai.PatternStructure(ext_, int_, metrics={'strongness':len(ext_)/len(ext_full) if len(ext_)>0 else 0}, cat_feats=mvcntx._attrs[mvcntx._cat_attrs_idxs])"
   ]
  },
  {
   "cell_type": "code",
   "execution_count": 594,
   "metadata": {},
   "outputs": [
    {
     "data": {
      "application/vnd.jupyter.widget-view+json": {
       "model_id": "0f78faebfba24d0288274b201b82fcc9",
       "version_major": 2,
       "version_minor": 0
      },
      "text/plain": [
       "HBox(children=(FloatProgress(value=0.0, description='agglomerative construction', max=11.0, style=ProgressStyl…"
      ]
     },
     "metadata": {},
     "output_type": "display_data"
    },
    {
     "data": {
      "application/vnd.jupyter.widget-view+json": {
       "model_id": "a75132a16ed54cd8aedd48d08ba87b3a",
       "version_major": 2,
       "version_minor": 0
      },
      "text/plain": [
       "HBox(children=(FloatProgress(value=0.0, description='boostrap aggregating', style=ProgressStyle(description_wi…"
      ]
     },
     "metadata": {},
     "output_type": "display_data"
    },
    {
     "name": "stdout",
     "output_type": "stream",
     "text": [
      "\n",
      "Iter 0: num bs unique concepts: 981\n",
      "Iter 0: num concept to fm: 1131\n",
      "Iter 0: cover of all concepts: 149\n",
      "Iter 0: cover of stable concepts: 149\n"
     ]
    },
    {
     "data": {
      "application/vnd.jupyter.widget-view+json": {
       "model_id": "c73be4569ea44bbeae2192a979b012ad",
       "version_major": 2,
       "version_minor": 0
      },
      "text/plain": [
       "HBox(children=(FloatProgress(value=0.0, max=1130.0), HTML(value='')))"
      ]
     },
     "metadata": {},
     "output_type": "display_data"
    },
    {
     "data": {
      "application/vnd.jupyter.widget-view+json": {
       "model_id": "9f4c26e18c064d6a92649aecfaedfb86",
       "version_major": 2,
       "version_minor": 0
      },
      "text/plain": [
       "HBox(children=(FloatProgress(value=0.0, description='pruning', max=44.0, style=ProgressStyle(description_width…"
      ]
     },
     "metadata": {},
     "output_type": "display_data"
    },
    {
     "name": "stdout",
     "output_type": "stream",
     "text": [
      "Iter 0: cover of min stable concepts: 149\n",
      "Iter 0: num of min stable concepts: 44\n",
      "Iter 0: num of selected concepts: 44\n",
      "Iter 0: cover of selected concepts: 149\n"
     ]
    },
    {
     "data": {
      "application/vnd.jupyter.widget-view+json": {
       "model_id": "a5168c04e8144c96a75874364e862ab0",
       "version_major": 2,
       "version_minor": 0
      },
      "text/plain": [
       "HBox(children=(FloatProgress(value=0.0, description='boostrap aggregating', style=ProgressStyle(description_wi…"
      ]
     },
     "metadata": {},
     "output_type": "display_data"
    },
    {
     "name": "stdout",
     "output_type": "stream",
     "text": [
      "\n",
      "\n",
      "\n",
      "Iter 1: num bs unique concepts: 60\n",
      "Iter 1: num concept to fm: 105\n",
      "Iter 1: cover of all concepts: 149\n",
      "Iter 1: cover of stable concepts: 149\n"
     ]
    },
    {
     "data": {
      "application/vnd.jupyter.widget-view+json": {
       "model_id": "e962e413f8824dc9b84c35542fc0e525",
       "version_major": 2,
       "version_minor": 0
      },
      "text/plain": [
       "HBox(children=(FloatProgress(value=0.0, max=104.0), HTML(value='')))"
      ]
     },
     "metadata": {},
     "output_type": "display_data"
    },
    {
     "data": {
      "application/vnd.jupyter.widget-view+json": {
       "model_id": "70d42ddd86974187add67d27a4506543",
       "version_major": 2,
       "version_minor": 0
      },
      "text/plain": [
       "HBox(children=(FloatProgress(value=0.0, description='pruning', max=33.0, style=ProgressStyle(description_width…"
      ]
     },
     "metadata": {},
     "output_type": "display_data"
    },
    {
     "name": "stdout",
     "output_type": "stream",
     "text": [
      "Iter 1: cover of min stable concepts: 149\n",
      "Iter 1: num of min stable concepts: 33\n",
      "Iter 1: num of selected concepts: 52\n",
      "Iter 1: cover of selected concepts: 149\n"
     ]
    },
    {
     "data": {
      "application/vnd.jupyter.widget-view+json": {
       "model_id": "2a894123031b42da8b7e538b3fc1a19a",
       "version_major": 2,
       "version_minor": 0
      },
      "text/plain": [
       "HBox(children=(FloatProgress(value=0.0, description='boostrap aggregating', style=ProgressStyle(description_wi…"
      ]
     },
     "metadata": {},
     "output_type": "display_data"
    },
    {
     "name": "stdout",
     "output_type": "stream",
     "text": [
      "\n",
      "Iter 2: num bs unique concepts: 10\n",
      "Iter 2: num concept to fm: 63\n",
      "Iter 2: cover of all concepts: 149\n",
      "Iter 2: cover of stable concepts: 149\n"
     ]
    },
    {
     "data": {
      "application/vnd.jupyter.widget-view+json": {
       "model_id": "21d83b1a36b84939b860b6da0ef5d807",
       "version_major": 2,
       "version_minor": 0
      },
      "text/plain": [
       "HBox(children=(FloatProgress(value=0.0, max=62.0), HTML(value='')))"
      ]
     },
     "metadata": {},
     "output_type": "display_data"
    },
    {
     "data": {
      "application/vnd.jupyter.widget-view+json": {
       "model_id": "a545f023f96c466b97e7a5feba4b1282",
       "version_major": 2,
       "version_minor": 0
      },
      "text/plain": [
       "HBox(children=(FloatProgress(value=0.0, description='pruning', max=28.0, style=ProgressStyle(description_width…"
      ]
     },
     "metadata": {},
     "output_type": "display_data"
    },
    {
     "name": "stdout",
     "output_type": "stream",
     "text": [
      "Iter 2: cover of min stable concepts: 149\n",
      "Iter 2: num of min stable concepts: 28\n",
      "Iter 2: num of selected concepts: 56\n",
      "Iter 2: cover of selected concepts: 149\n"
     ]
    },
    {
     "data": {
      "application/vnd.jupyter.widget-view+json": {
       "model_id": "3ff7c1d5d0664ffa9af5d59b0f5005af",
       "version_major": 2,
       "version_minor": 0
      },
      "text/plain": [
       "HBox(children=(FloatProgress(value=0.0, description='boostrap aggregating', style=ProgressStyle(description_wi…"
      ]
     },
     "metadata": {},
     "output_type": "display_data"
    },
    {
     "name": "stdout",
     "output_type": "stream",
     "text": [
      "\n",
      "\n",
      "\n",
      "Iter 3: num bs unique concepts: 7\n",
      "Iter 3: num concept to fm: 64\n",
      "Iter 3: cover of all concepts: 149\n",
      "Iter 3: cover of stable concepts: 149\n"
     ]
    },
    {
     "data": {
      "application/vnd.jupyter.widget-view+json": {
       "model_id": "1aaa593576b043feb01fed5bd30d52a9",
       "version_major": 2,
       "version_minor": 0
      },
      "text/plain": [
       "HBox(children=(FloatProgress(value=0.0, max=63.0), HTML(value='')))"
      ]
     },
     "metadata": {},
     "output_type": "display_data"
    },
    {
     "data": {
      "application/vnd.jupyter.widget-view+json": {
       "model_id": "5882078d7c6a460696caebf9db9d08fd",
       "version_major": 2,
       "version_minor": 0
      },
      "text/plain": [
       "HBox(children=(FloatProgress(value=0.0, description='pruning', max=24.0, style=ProgressStyle(description_width…"
      ]
     },
     "metadata": {},
     "output_type": "display_data"
    },
    {
     "name": "stdout",
     "output_type": "stream",
     "text": [
      "Iter 3: cover of min stable concepts: 149\n",
      "Iter 3: num of min stable concepts: 24\n",
      "Iter 3: num of selected concepts: 59\n",
      "Iter 3: cover of selected concepts: 149\n"
     ]
    },
    {
     "data": {
      "application/vnd.jupyter.widget-view+json": {
       "model_id": "61aa0d6bcc1c4ffd92ff634327d7bb30",
       "version_major": 2,
       "version_minor": 0
      },
      "text/plain": [
       "HBox(children=(FloatProgress(value=0.0, description='boostrap aggregating', style=ProgressStyle(description_wi…"
      ]
     },
     "metadata": {},
     "output_type": "display_data"
    },
    {
     "name": "stdout",
     "output_type": "stream",
     "text": [
      "\n",
      "Iter 4: num bs unique concepts: 1\n",
      "Iter 4: num concept to fm: 61\n",
      "Iter 4: cover of all concepts: 149\n",
      "Iter 4: cover of stable concepts: 149\n"
     ]
    },
    {
     "data": {
      "application/vnd.jupyter.widget-view+json": {
       "model_id": "9b13680a088d4ac391b36dcda72c4707",
       "version_major": 2,
       "version_minor": 0
      },
      "text/plain": [
       "HBox(children=(FloatProgress(value=0.0, max=60.0), HTML(value='')))"
      ]
     },
     "metadata": {},
     "output_type": "display_data"
    },
    {
     "data": {
      "application/vnd.jupyter.widget-view+json": {
       "model_id": "89da4f81749b4fdc8496f58b217d9d68",
       "version_major": 2,
       "version_minor": 0
      },
      "text/plain": [
       "HBox(children=(FloatProgress(value=0.0, description='pruning', max=23.0, style=ProgressStyle(description_width…"
      ]
     },
     "metadata": {},
     "output_type": "display_data"
    },
    {
     "name": "stdout",
     "output_type": "stream",
     "text": [
      "Iter 4: cover of min stable concepts: 149\n",
      "Iter 4: num of min stable concepts: 23\n",
      "Iter 4: num of selected concepts: 60\n",
      "Iter 4: cover of selected concepts: 149\n"
     ]
    },
    {
     "data": {
      "application/vnd.jupyter.widget-view+json": {
       "model_id": "6cbd72c11c5643a789989fec53d3c4ae",
       "version_major": 2,
       "version_minor": 0
      },
      "text/plain": [
       "HBox(children=(FloatProgress(value=0.0, description='boostrap aggregating', style=ProgressStyle(description_wi…"
      ]
     },
     "metadata": {},
     "output_type": "display_data"
    },
    {
     "name": "stdout",
     "output_type": "stream",
     "text": [
      "\n",
      "Iter 5: num bs unique concepts: 4\n",
      "Iter 5: num concept to fm: 65\n",
      "Iter 5: cover of all concepts: 149\n",
      "Iter 5: cover of stable concepts: 149\n"
     ]
    },
    {
     "data": {
      "application/vnd.jupyter.widget-view+json": {
       "model_id": "a28886fb1431418290f0ea8dafa5a43d",
       "version_major": 2,
       "version_minor": 0
      },
      "text/plain": [
       "HBox(children=(FloatProgress(value=0.0, max=64.0), HTML(value='')))"
      ]
     },
     "metadata": {},
     "output_type": "display_data"
    },
    {
     "data": {
      "application/vnd.jupyter.widget-view+json": {
       "model_id": "85fb0f25829b4e5aa2d1726579089131",
       "version_major": 2,
       "version_minor": 0
      },
      "text/plain": [
       "HBox(children=(FloatProgress(value=0.0, description='pruning', max=20.0, style=ProgressStyle(description_width…"
      ]
     },
     "metadata": {},
     "output_type": "display_data"
    },
    {
     "name": "stdout",
     "output_type": "stream",
     "text": [
      "Iter 5: cover of min stable concepts: 149\n",
      "Iter 5: num of min stable concepts: 20\n",
      "Iter 5: num of selected concepts: 63\n",
      "Iter 5: cover of selected concepts: 149\n"
     ]
    },
    {
     "data": {
      "application/vnd.jupyter.widget-view+json": {
       "model_id": "29ebf0ad5d944903b325b138ad871756",
       "version_major": 2,
       "version_minor": 0
      },
      "text/plain": [
       "HBox(children=(FloatProgress(value=0.0, description='boostrap aggregating', style=ProgressStyle(description_wi…"
      ]
     },
     "metadata": {},
     "output_type": "display_data"
    },
    {
     "name": "stdout",
     "output_type": "stream",
     "text": [
      "\n",
      "Iter 6: num bs unique concepts: 0\n",
      "Iter 6: num concept to fm: 64\n",
      "Iter 6: cover of all concepts: 149\n",
      "Iter 6: cover of stable concepts: 149\n"
     ]
    },
    {
     "data": {
      "application/vnd.jupyter.widget-view+json": {
       "model_id": "81086b6417bd49a39d17da08cacdb3dc",
       "version_major": 2,
       "version_minor": 0
      },
      "text/plain": [
       "HBox(children=(FloatProgress(value=0.0, max=63.0), HTML(value='')))"
      ]
     },
     "metadata": {},
     "output_type": "display_data"
    },
    {
     "data": {
      "application/vnd.jupyter.widget-view+json": {
       "model_id": "c219dd0671fb40d4b0b2c25d03fcfe1b",
       "version_major": 2,
       "version_minor": 0
      },
      "text/plain": [
       "HBox(children=(FloatProgress(value=0.0, description='pruning', max=20.0, style=ProgressStyle(description_width…"
      ]
     },
     "metadata": {},
     "output_type": "display_data"
    },
    {
     "name": "stdout",
     "output_type": "stream",
     "text": [
      "Iter 6: cover of min stable concepts: 149\n",
      "Iter 6: num of min stable concepts: 20\n",
      "\n",
      "\n",
      "Iter 6: num of selected concepts: 63\n",
      "Iter 6: cover of selected concepts: 149\n"
     ]
    },
    {
     "data": {
      "application/vnd.jupyter.widget-view+json": {
       "model_id": "bb293f27f6824353954b9d3cc9911770",
       "version_major": 2,
       "version_minor": 0
      },
      "text/plain": [
       "HBox(children=(FloatProgress(value=0.0, description='boostrap aggregating', style=ProgressStyle(description_wi…"
      ]
     },
     "metadata": {},
     "output_type": "display_data"
    },
    {
     "name": "stdout",
     "output_type": "stream",
     "text": [
      "\n",
      "Iter 7: num bs unique concepts: 10\n",
      "Iter 7: num concept to fm: 74\n",
      "Iter 7: cover of all concepts: 149\n",
      "Iter 7: cover of stable concepts: 149\n"
     ]
    },
    {
     "data": {
      "application/vnd.jupyter.widget-view+json": {
       "model_id": "39d52bd59e814cab99bb01ed6d764a46",
       "version_major": 2,
       "version_minor": 0
      },
      "text/plain": [
       "HBox(children=(FloatProgress(value=0.0, max=73.0), HTML(value='')))"
      ]
     },
     "metadata": {},
     "output_type": "display_data"
    },
    {
     "data": {
      "application/vnd.jupyter.widget-view+json": {
       "model_id": "80bf71021e0c4ec4a6c0f1e87e7d3a2e",
       "version_major": 2,
       "version_minor": 0
      },
      "text/plain": [
       "HBox(children=(FloatProgress(value=0.0, description='pruning', max=14.0, style=ProgressStyle(description_width…"
      ]
     },
     "metadata": {},
     "output_type": "display_data"
    },
    {
     "name": "stdout",
     "output_type": "stream",
     "text": [
      "Iter 7: cover of min stable concepts: 149\n",
      "Iter 7: num of min stable concepts: 14\n",
      "Iter 7: num of selected concepts: 67\n",
      "Iter 7: cover of selected concepts: 149\n"
     ]
    },
    {
     "data": {
      "application/vnd.jupyter.widget-view+json": {
       "model_id": "1d1b97b9af6c43eba96f122ff0e973dd",
       "version_major": 2,
       "version_minor": 0
      },
      "text/plain": [
       "HBox(children=(FloatProgress(value=0.0, description='boostrap aggregating', style=ProgressStyle(description_wi…"
      ]
     },
     "metadata": {},
     "output_type": "display_data"
    },
    {
     "name": "stdout",
     "output_type": "stream",
     "text": [
      "\n",
      "Iter 8: num bs unique concepts: 15\n",
      "Iter 8: num concept to fm: 83\n",
      "Iter 8: cover of all concepts: 149\n",
      "Iter 8: cover of stable concepts: 149\n"
     ]
    },
    {
     "data": {
      "application/vnd.jupyter.widget-view+json": {
       "model_id": "29bf3a992a764d93a1d7a76e249a4fce",
       "version_major": 2,
       "version_minor": 0
      },
      "text/plain": [
       "HBox(children=(FloatProgress(value=0.0, max=82.0), HTML(value='')))"
      ]
     },
     "metadata": {},
     "output_type": "display_data"
    },
    {
     "data": {
      "application/vnd.jupyter.widget-view+json": {
       "model_id": "a8ca931c994843c2b164ed31358ace0e",
       "version_major": 2,
       "version_minor": 0
      },
      "text/plain": [
       "HBox(children=(FloatProgress(value=0.0, description='pruning', max=8.0, style=ProgressStyle(description_width=…"
      ]
     },
     "metadata": {},
     "output_type": "display_data"
    },
    {
     "name": "stdout",
     "output_type": "stream",
     "text": [
      "Iter 8: cover of min stable concepts: 149\n",
      "Iter 8: num of min stable concepts: 8\n",
      "Iter 8: num of selected concepts: 71\n",
      "Iter 8: cover of selected concepts: 149\n"
     ]
    },
    {
     "data": {
      "application/vnd.jupyter.widget-view+json": {
       "model_id": "5ad1a5e29a674a1d8c0e60b2d800725d",
       "version_major": 2,
       "version_minor": 0
      },
      "text/plain": [
       "HBox(children=(FloatProgress(value=0.0, description='boostrap aggregating', style=ProgressStyle(description_wi…"
      ]
     },
     "metadata": {},
     "output_type": "display_data"
    },
    {
     "name": "stdout",
     "output_type": "stream",
     "text": [
      "\n",
      "\n",
      "\n",
      "Iter 9: num bs unique concepts: 7\n",
      "Iter 9: num concept to fm: 79\n",
      "Iter 9: cover of all concepts: 149\n",
      "Iter 9: cover of stable concepts: 149\n"
     ]
    },
    {
     "data": {
      "application/vnd.jupyter.widget-view+json": {
       "model_id": "f9abdae3219c4b0f85ac920293a9a437",
       "version_major": 2,
       "version_minor": 0
      },
      "text/plain": [
       "HBox(children=(FloatProgress(value=0.0, max=78.0), HTML(value='')))"
      ]
     },
     "metadata": {},
     "output_type": "display_data"
    },
    {
     "data": {
      "application/vnd.jupyter.widget-view+json": {
       "model_id": "1f30d836ea284229a7bd657867421559",
       "version_major": 2,
       "version_minor": 0
      },
      "text/plain": [
       "HBox(children=(FloatProgress(value=0.0, description='pruning', max=4.0, style=ProgressStyle(description_width=…"
      ]
     },
     "metadata": {},
     "output_type": "display_data"
    },
    {
     "name": "stdout",
     "output_type": "stream",
     "text": [
      "Iter 9: cover of min stable concepts: 149\n",
      "Iter 9: num of min stable concepts: 4\n",
      "Iter 9: num of selected concepts: 73\n",
      "Iter 9: cover of selected concepts: 149\n"
     ]
    },
    {
     "data": {
      "application/vnd.jupyter.widget-view+json": {
       "model_id": "e078a7763fb24687968549c3ed37e7d9",
       "version_major": 2,
       "version_minor": 0
      },
      "text/plain": [
       "HBox(children=(FloatProgress(value=0.0, description='boostrap aggregating', style=ProgressStyle(description_wi…"
      ]
     },
     "metadata": {},
     "output_type": "display_data"
    },
    {
     "name": "stdout",
     "output_type": "stream",
     "text": [
      "\n",
      "\n",
      "\n",
      "Iter 10: num bs unique concepts: 10\n",
      "Iter 10: num concept to fm: 84\n",
      "Iter 10: cover of all concepts: 149\n",
      "Iter 10: cover of stable concepts: 149\n"
     ]
    },
    {
     "data": {
      "application/vnd.jupyter.widget-view+json": {
       "model_id": "62f48129977e4a629a7d4e9cf82c1bde",
       "version_major": 2,
       "version_minor": 0
      },
      "text/plain": [
       "HBox(children=(FloatProgress(value=0.0, max=83.0), HTML(value='')))"
      ]
     },
     "metadata": {},
     "output_type": "display_data"
    },
    {
     "data": {
      "application/vnd.jupyter.widget-view+json": {
       "model_id": "bde9c85822754612905d82ffcf3c38e5",
       "version_major": 2,
       "version_minor": 0
      },
      "text/plain": [
       "HBox(children=(FloatProgress(value=0.0, description='pruning', max=2.0, style=ProgressStyle(description_width=…"
      ]
     },
     "metadata": {},
     "output_type": "display_data"
    },
    {
     "name": "stdout",
     "output_type": "stream",
     "text": [
      "Iter 10: cover of min stable concepts: 149\n",
      "Iter 10: num of min stable concepts: 2\n",
      "Iter 10: num of selected concepts: 74\n",
      "Iter 10: cover of selected concepts: 149\n",
      "\n"
     ]
    }
   ],
   "source": [
    "selected_concepts, min_concepts_by_iters = agglomerative_concepts_construction(mvcntx, mvcntx_full, base_concepts, bootstrap_sample_size=10,  stab_min_bound=0)"
   ]
  },
  {
   "cell_type": "raw",
   "metadata": {},
   "source": [
    "selected_concepts = get_unique_concepts([c for vs in min_concepts_by_iters.values() for c in vs])"
   ]
  },
  {
   "cell_type": "code",
   "execution_count": 595,
   "metadata": {},
   "outputs": [
    {
     "data": {
      "text/plain": [
       "74"
      ]
     },
     "execution_count": 595,
     "metadata": {},
     "output_type": "execute_result"
    }
   ],
   "source": [
    "len(selected_concepts)"
   ]
  },
  {
   "cell_type": "code",
   "execution_count": 596,
   "metadata": {},
   "outputs": [
    {
     "data": {
      "application/vnd.jupyter.widget-view+json": {
       "model_id": "bb8f6551ca914d61ac3ab629b2954a08",
       "version_major": 2,
       "version_minor": 0
      },
      "text/plain": [
       "HBox(children=(FloatProgress(value=0.0, max=74.0), HTML(value='')))"
      ]
     },
     "metadata": {},
     "output_type": "display_data"
    }
   ],
   "source": [
    "selected_concepts = sorted(selected_concepts, key=lambda c: len(c.get_extent()))\n",
    "for i in tqdm(range(len(selected_concepts))):\n",
    "    if i>= len(selected_concepts):\n",
    "        break\n",
    "    c = selected_concepts[i]\n",
    "    if c._metrics['strongness']<1:\n",
    "        continue\n",
    "    low_neighbs = [c_ for c_ in selected_concepts if c_.is_subconcept_of(c) and c!=c_]\n",
    "    selected_concepts = [c_ for c_ in selected_concepts if c_ not in low_neighbs]"
   ]
  },
  {
   "cell_type": "code",
   "execution_count": 597,
   "metadata": {},
   "outputs": [
    {
     "data": {
      "text/plain": [
       "69"
      ]
     },
     "execution_count": 597,
     "metadata": {},
     "output_type": "execute_result"
    }
   ],
   "source": [
    "len(selected_concepts)"
   ]
  },
  {
   "cell_type": "code",
   "execution_count": 598,
   "metadata": {},
   "outputs": [],
   "source": [
    "fm = fcai.FormalManager(mvcntx)\n",
    "#fm._concepts = [fcai.Concept(c.get_extent(), c.get_intent().copy(), metrics=c._metrics.copy()) for c in selected_concepts+[top_concept]+[bottom_concept]]\n",
    "fm._concepts = [fcai.PatternStructure(c.get_extent(), c.get_intent().copy() if c.get_intent() is not None else None, metrics=c._metrics.copy())\n",
    "                for c in selected_concepts+[top_concept]+[bottom_concept]]\n",
    "for idx, c in enumerate(fm.sort_concepts(fm.get_concepts())):\n",
    "    c._idx = idx\n",
    "fm.calc_strongness(mvcntx_full)\n",
    "fm.construct_lattice()\n",
    "fm.calc_stability_approx()\n",
    "concepts = fm.get_concepts()"
   ]
  },
  {
   "cell_type": "code",
   "execution_count": 599,
   "metadata": {},
   "outputs": [
    {
     "name": "stderr",
     "output_type": "stream",
     "text": [
      "/root/anaconda3/lib/python3.7/site-packages/numpy/core/fromnumeric.py:3335: RuntimeWarning:\n",
      "\n",
      "Mean of empty slice.\n",
      "\n",
      "/root/anaconda3/lib/python3.7/site-packages/numpy/core/_methods.py:161: RuntimeWarning:\n",
      "\n",
      "invalid value encountered in double_scalars\n",
      "\n"
     ]
    }
   ],
   "source": [
    "fig = fm.get_plotly_fig(color_by='stab_min_bound', sort_by='strongness', level_sort=3, new_attrs_lim=1, new_objs_lim=1)"
   ]
  },
  {
   "cell_type": "code",
   "execution_count": 600,
   "metadata": {},
   "outputs": [
    {
     "data": {
      "application/vnd.plotly.v1+json": {
       "config": {
        "plotlyServerURL": "https://plot.ly"
       },
       "data": [
        {
         "hoverinfo": "none",
         "line": {
          "color": "#888",
          "width": 0.5
         },
         "mode": "lines",
         "type": "scatter",
         "x": [
          -2.5,
          0,
          null,
          -2.5,
          -3,
          null,
          -4.5,
          0,
          null,
          -4.5,
          0.5,
          null,
          -3.5,
          0,
          null,
          -3.5,
          0.5,
          null,
          1,
          0,
          null,
          1,
          3.5,
          null,
          -2.5,
          0,
          null,
          -2.5,
          0.5,
          null,
          -1.5,
          0,
          null,
          -1.5,
          0.5,
          null,
          -0.5,
          0,
          null,
          -0.5,
          -2,
          null,
          2,
          0,
          null,
          2,
          3.5,
          null,
          5.5,
          0,
          null,
          5.5,
          4.5,
          null,
          -2.5,
          0,
          null,
          -2.5,
          0.5,
          null,
          3,
          0,
          null,
          3,
          4.5,
          null,
          -1.5,
          0,
          null,
          -1.5,
          -3,
          null,
          -0.5,
          0,
          null,
          -0.5,
          -0.5,
          null,
          -0.5,
          0.5,
          null,
          -1.5,
          0,
          null,
          -1.5,
          0.5,
          null,
          -6.5,
          0,
          null,
          -6.5,
          -4.5,
          null,
          0.5,
          0,
          null,
          0.5,
          -0.5,
          null,
          0.5,
          0.5,
          null,
          5.5,
          0,
          null,
          5.5,
          6.5,
          null,
          -6.5,
          0,
          null,
          -6.5,
          -3.5,
          null,
          4,
          0,
          null,
          4,
          2.5,
          null,
          6.5,
          0,
          null,
          6.5,
          6.5,
          null,
          -5.5,
          0,
          null,
          -5.5,
          -4.5,
          null,
          -2.5,
          0,
          null,
          -2.5,
          2.5,
          null,
          3.5,
          0,
          null,
          3.5,
          0,
          null,
          0.5,
          -2,
          null,
          -5.5,
          0,
          null,
          -5.5,
          -3.5,
          null,
          -4.5,
          0,
          null,
          -4.5,
          -3.5,
          null,
          -3,
          1.5,
          null,
          3.5,
          0.5,
          null,
          -3.5,
          0,
          null,
          -3.5,
          -4.5,
          null,
          -4.5,
          0,
          null,
          -4.5,
          2.5,
          null,
          -0.5,
          0,
          null,
          -0.5,
          1.5,
          null,
          -3.5,
          0,
          null,
          -3.5,
          4.5,
          null,
          -2.5,
          0,
          null,
          -2.5,
          3.5,
          null,
          -2.5,
          4.5,
          null,
          0.5,
          0,
          null,
          0.5,
          2.5,
          null,
          -1.5,
          0,
          null,
          -1.5,
          1.5,
          null,
          1.5,
          0,
          null,
          1.5,
          1.5,
          null,
          -2,
          2.5,
          null,
          -2,
          0.5,
          null,
          -0.5,
          0,
          null,
          -0.5,
          1.5,
          null,
          6.5,
          4.5,
          null,
          0.5,
          0,
          null,
          0.5,
          2.5,
          null,
          1.5,
          0,
          null,
          1.5,
          4.5,
          null,
          -1.5,
          0,
          null,
          -1.5,
          4.5,
          null,
          2.5,
          0,
          null,
          2.5,
          2.5,
          null,
          -4.5,
          -4.5,
          null,
          -0.5,
          0,
          null,
          -0.5,
          2.5,
          null,
          4.5,
          0,
          null,
          -3.5,
          -3.5,
          null,
          2.5,
          -0.5,
          null,
          3.5,
          0,
          null,
          3.5,
          4.5,
          null,
          0.5,
          0,
          null,
          0.5,
          4.5,
          null,
          1.5,
          3.5,
          null,
          4.5,
          0,
          null,
          4.5,
          3.5,
          null,
          -4.5,
          -4,
          null,
          0,
          4.5,
          null,
          2.5,
          2.5,
          null,
          3.5,
          1.5,
          null,
          -0.5,
          0,
          null,
          -3.5,
          -4,
          null,
          2.5,
          4.5,
          null,
          1.5,
          -1,
          null,
          3.5,
          4.5,
          null,
          4.5,
          0.5,
          null,
          4.5,
          4.5,
          null,
          -4,
          1.5,
          null,
          4.5,
          2.5,
          null,
          2.5,
          -1,
          null,
          -1,
          1.5,
          null,
          1.5,
          0.5,
          null,
          0.5,
          0,
          null
         ],
         "y": [
          5,
          1,
          null,
          5,
          6,
          null,
          7,
          1,
          null,
          7,
          8,
          null,
          7,
          1,
          null,
          7,
          8,
          null,
          6,
          1,
          null,
          6,
          7,
          null,
          7,
          1,
          null,
          7,
          8,
          null,
          7,
          1,
          null,
          7,
          8,
          null,
          5,
          1,
          null,
          5,
          6,
          null,
          6,
          1,
          null,
          6,
          7,
          null,
          4,
          1,
          null,
          4,
          5,
          null,
          4,
          1,
          null,
          4,
          5,
          null,
          6,
          1,
          null,
          6,
          7,
          null,
          5,
          1,
          null,
          5,
          6,
          null,
          7,
          1,
          null,
          7,
          8,
          null,
          7,
          8,
          null,
          4,
          1,
          null,
          4,
          5,
          null,
          3,
          1,
          null,
          3,
          4,
          null,
          7,
          1,
          null,
          7,
          8,
          null,
          7,
          8,
          null,
          3,
          1,
          null,
          3,
          4,
          null,
          4,
          1,
          null,
          4,
          5,
          null,
          6,
          1,
          null,
          6,
          7,
          null,
          3,
          1,
          null,
          3,
          4,
          null,
          4,
          1,
          null,
          4,
          5,
          null,
          3,
          1,
          null,
          3,
          4,
          null,
          5,
          1,
          null,
          5,
          6,
          null,
          5,
          6,
          null,
          3,
          1,
          null,
          3,
          4,
          null,
          3,
          1,
          null,
          3,
          4,
          null,
          6,
          7,
          null,
          7,
          8,
          null,
          3,
          1,
          null,
          3,
          4,
          null,
          2,
          1,
          null,
          2,
          3,
          null,
          4,
          1,
          null,
          4,
          5,
          null,
          2,
          1,
          null,
          2,
          3,
          null,
          2,
          1,
          null,
          2,
          3,
          null,
          2,
          3,
          null,
          4,
          1,
          null,
          4,
          5,
          null,
          2,
          1,
          null,
          2,
          3,
          null,
          4,
          1,
          null,
          4,
          5,
          null,
          6,
          7,
          null,
          6,
          8,
          null,
          2,
          1,
          null,
          2,
          3,
          null,
          4,
          5,
          null,
          2,
          1,
          null,
          2,
          3,
          null,
          2,
          1,
          null,
          2,
          3,
          null,
          3,
          1,
          null,
          3,
          4,
          null,
          2,
          1,
          null,
          2,
          3,
          null,
          4,
          5,
          null,
          3,
          1,
          null,
          3,
          4,
          null,
          5,
          6,
          null,
          4,
          5,
          null,
          7,
          8,
          null,
          2,
          1,
          null,
          2,
          3,
          null,
          3,
          1,
          null,
          3,
          4,
          null,
          3,
          4,
          null,
          2,
          1,
          null,
          2,
          3,
          null,
          5,
          6,
          null,
          6,
          7,
          null,
          4,
          5,
          null,
          4,
          5,
          null,
          8,
          9,
          null,
          5,
          6,
          null,
          3,
          4,
          null,
          5,
          6,
          null,
          3,
          4,
          null,
          7,
          8,
          null,
          3,
          4,
          null,
          6,
          7,
          null,
          4,
          5,
          null,
          5,
          6,
          null,
          6,
          7,
          null,
          7,
          8,
          null,
          8,
          9,
          null
         ]
        },
        {
         "hoverinfo": "text",
         "hovertext": [
          "PatternStructure 64<br><br>extent (len: 2): 3932, 1928<br>intent (len: 14): loan in [0, 1], balance in [-242, 3472], default = 0, contact = cellular, age in [22, 25],...<br>new extent (len: 2): 3932, 1928<br>new_intent (len: 7): campaign, balance, poutcome, age, education,...<br>metric strongness = 1.0<br>metric stab_min_bound = 0.75<br>metric stab_max_bound = 0.75<br>metric log_stab_min_bound = 2.0<br>metric log_stab_max_bound = 2.0<br>metric lstab_min_bound = -12.0<br>metric n_uncovered = 0<br>",
          "PatternStructure 69<br><br>extent (len: 2): 975, 2780<br>intent (len: 13): poutcome = unknown, default = 0, contact = cellular, housing = 0, education = secondary,...<br>new extent (len: 2): 975, 2780<br>new_intent (len: 12): marital, campaign, housing, balance, month,...<br>metric strongness = 1.0<br>metric stab_min_bound = 0.75<br>metric stab_max_bound = 0.75<br>metric log_stab_min_bound = 2.0<br>metric log_stab_max_bound = 2.0<br>metric lstab_min_bound = -12.0<br>metric n_uncovered = 0<br>",
          "PatternStructure 68<br><br>extent (len: 2): 970, 3013<br>intent (len: 13): campaign in [1, 2], default = 0, marital = married, contact = cellular, previous in [0, 1],...<br>new extent (len: 2): 970, 3013<br>new_intent (len: 12): marital, campaign, housing, balance, month,...<br>metric strongness = 1.0<br>metric stab_min_bound = 0.75<br>metric stab_max_bound = 0.75<br>metric log_stab_min_bound = 2.0<br>metric log_stab_max_bound = 2.0<br>metric lstab_min_bound = -12.0<br>metric n_uncovered = 0<br>",
          "PatternStructure 67<br><br>extent (len: 2): 412, 503<br>intent (len: 13): campaign in [1, 2], default = 0, contact = cellular, job in [\"retired\", \"student\"], marital in [\"divorced\", \"single\"],...<br>new extent (len: 2): 412, 503<br>new_intent (len: 6): marital, balance, month, poutcome, previous,...<br>metric strongness = 1.0<br>metric stab_min_bound = 0.75<br>metric stab_max_bound = 0.75<br>metric log_stab_min_bound = 2.0<br>metric log_stab_max_bound = 2.0<br>metric lstab_min_bound = -12.0<br>metric n_uncovered = 0<br>",
          "PatternStructure 65<br><br>extent (len: 2): 199, 2821<br>intent (len: 13): loan in [0, 1], poutcome in [\"success\", \"unknown\"], marital in [\"divorced\", \"married\"], job in [\"retired\", \"technician\"], default = 0,...<br>new extent (len: 2): 199, 2821<br>new_intent (len: 11): marital, campaign, housing, balance, month,...<br>metric strongness = 1.0<br>metric stab_min_bound = 0.75<br>metric stab_max_bound = 0.75<br>metric log_stab_min_bound = 2.0<br>metric log_stab_max_bound = 2.0<br>metric lstab_min_bound = -12.0<br>metric n_uncovered = 0<br>",
          "PatternStructure 66<br><br>extent (len: 2): 2988, 2773<br>intent (len: 13): contact in [\"cellular\", \"telephone\"], balance in [0, 2543], campaign = 1, default = 0, previous in [0, 4],...<br>new extent (len: 2): 2988, 2773<br>new_intent (len: 10): marital, campaign, balance, month, poutcome,...<br>metric strongness = 1.0<br>metric stab_min_bound = 0.75<br>metric stab_max_bound = 0.75<br>metric log_stab_min_bound = 2.0<br>metric log_stab_max_bound = 2.0<br>metric lstab_min_bound = -12.0<br>metric n_uncovered = 0<br>",
          "PatternStructure 62<br><br>extent (len: 2): 3589, 129<br>intent (len: 13): poutcome in [\"success\", \"unknown\"], marital in [\"divorced\", \"married\"], campaign in [1, 2], default = 0, contact = cellular,...<br>new extent (len: 2): 3589, 129<br>new_intent (len: 5): marital, balance, month, age, job<br>metric strongness = 1.0<br>metric stab_min_bound = 0.75<br>metric stab_max_bound = 0.75<br>metric log_stab_min_bound = 2.0<br>metric log_stab_max_bound = 2.0<br>metric lstab_min_bound = -12.0<br>metric n_uncovered = 0<br>",
          "PatternStructure 63<br><br>extent (len: 2): 189, 2471<br>intent (len: 13): default = 0, contact = cellular, job in [\"retired\", \"student\"], balance in [-1206, 2488], education = secondary,...<br>new extent (len: 2): 189, 2471<br>new_intent (len: 7): marital, campaign, balance, month, poutcome,...<br>metric strongness = 1.0<br>metric stab_min_bound = 0.75<br>metric stab_max_bound = 0.75<br>metric log_stab_min_bound = 2.0<br>metric log_stab_max_bound = 2.0<br>metric lstab_min_bound = -12.0<br>metric n_uncovered = 0<br>",
          "PatternStructure 58<br><br>extent (len: 3): 3311, 1349, 1312<br>intent (len: 13): contact in [\"cellular\", \"telephone\"], campaign = 1, default = 0, marital = married, age in [80, 87],...<br>new extent (len: 3): 3311, 1349, 1312<br>new_intent (len: 8): marital, campaign, housing, month, poutcome,...<br>metric strongness = 1.0<br>metric stab_min_bound = 0.875<br>metric stab_max_bound = 0.875<br>metric log_stab_min_bound = 3.0<br>metric log_stab_max_bound = 3.0<br>metric lstab_min_bound = -11.0<br>metric n_uncovered = 0<br>",
          "PatternStructure 61<br><br>extent (len: 3): 504, 2421, 2251<br>intent (len: 13): poutcome in [\"success\", \"unknown\"], campaign in [1, 2], default = 0, contact = cellular, housing = 0,...<br>new extent (len: 3): 504, 2421, 2251<br>new_intent (len: 4): marital, age, balance, job<br>metric strongness = 1.0<br>metric stab_min_bound = 0.875<br>metric stab_max_bound = 0.875<br>metric log_stab_min_bound = 3.0<br>metric log_stab_max_bound = 3.0<br>metric lstab_min_bound = -11.0<br>metric n_uncovered = 0<br>",
          "PatternStructure 60<br><br>extent (len: 3): 2962, 2176, 464<br>intent (len: 13): previous in [0, 14], poutcome in [\"success\", \"unknown\"], campaign = 1, default = 0, contact = cellular,...<br>new extent (len: 3): 2962, 2176, 464<br>new_intent (len: 11): marital, campaign, housing, balance, month,...<br>metric strongness = 1.0<br>metric stab_min_bound = 0.875<br>metric stab_max_bound = 0.875<br>metric log_stab_min_bound = 3.0<br>metric log_stab_max_bound = 3.0<br>metric lstab_min_bound = -11.0<br>metric n_uncovered = 0<br>",
          "PatternStructure 59<br><br>extent (len: 3): 4216, 4213, 4232<br>intent (len: 14): loan in [0, 1], default = 0, contact = cellular, job in [\"admin.\", \"technician\"], balance in [-522, 459],...<br>new extent (len: 3): 4232, 4216, 4213<br>new_intent (len: 7): campaign, balance, pdays, poutcome, age,...<br>metric strongness = 1.0<br>metric stab_min_bound = 0.875<br>metric stab_max_bound = 0.875<br>metric log_stab_min_bound = 3.0<br>metric log_stab_max_bound = 3.0<br>metric lstab_min_bound = -11.0<br>metric n_uncovered = 0<br>",
          "PatternStructure 57<br><br>extent (len: 3): 1672, 3695, 1303<br>intent (len: 13): job in [\"management\", \"services\"], poutcome in [\"success\", \"unknown\"], campaign in [1, 2], default = 0, contact = cellular,...<br>new extent (len: 3): 1672, 3695, 1303<br>new_intent (len: 10): marital, campaign, balance, month, contact,...<br>metric strongness = 1.0<br>metric stab_min_bound = 0.875<br>metric stab_max_bound = 0.875<br>metric log_stab_min_bound = 3.0<br>metric log_stab_max_bound = 3.0<br>metric lstab_min_bound = -11.0<br>metric n_uncovered = 0<br>",
          "PatternStructure 55<br><br>extent (len: 4): 3789, 504, 3558, 2251<br>intent (len: 13): poutcome in [\"success\", \"unknown\"], marital in [\"divorced\", \"married\"], campaign in [1, 2], default = 0, contact = cellular,...<br>new extent (len: 4): 504, 2251, 3558, 3789<br>new_intent (len: 1): marital<br>metric strongness = 1.0<br>metric stab_min_bound = 0.9375<br>metric stab_max_bound = 0.9375<br>metric log_stab_min_bound = 4.0<br>metric log_stab_max_bound = 4.0<br>metric lstab_min_bound = -10.0<br>metric n_uncovered = 0<br>",
          "PatternStructure 56<br><br>extent (len: 4): 3527, 83, 3317, 2444<br>intent (len: 14): job in [\"management\", \"services\"], contact in [\"cellular\", \"telephone\"], age in [25, 52], campaign in [1, 2], default = 0,...<br>new extent (len: 4): 3527, 83, 3317, 2444<br>new_intent (len: 9): campaign, balance, pdays, month, poutcome,...<br>metric strongness = 1.0<br>metric stab_min_bound = 0.9375<br>metric stab_max_bound = 0.9375<br>metric log_stab_min_bound = 4.0<br>metric log_stab_max_bound = 4.0<br>metric lstab_min_bound = -10.0<br>metric n_uncovered = 0<br>",
          "PatternStructure 54<br><br>extent (len: 4): 3684, 4108, 164, 36<br>intent (len: 13): contact in [\"cellular\", \"telephone\"], balance in [80, 639], poutcome in [\"failure\", \"success\", \"unknown\"], default = 0, housing = 0,...<br>new extent (len: 4): 3684, 4108, 164, 36<br>new_intent (len: 6): marital, balance, month, previous, education,...<br>metric strongness = 1.0<br>metric stab_min_bound = 0.9375<br>metric stab_max_bound = 0.9375<br>metric log_stab_min_bound = 4.0<br>metric log_stab_max_bound = 4.0<br>metric lstab_min_bound = -10.0<br>metric n_uncovered = 0<br>",
          "PatternStructure 52<br><br>extent (len: 4): 1469, 1230, 4364, 3331<br>intent (len: 13): poutcome in [\"success\", \"unknown\"], marital in [\"divorced\", \"married\"], job in [\"management\", \"retired\", \"technician\"], default = 0, contact = cellular,...<br>new extent (len: 4): 1469, 1230, 4364, 3331<br>new_intent (len: 8): balance, month, contact, poutcome, age,...<br>metric strongness = 1.0<br>metric stab_min_bound = 0.9375<br>metric stab_max_bound = 0.9375<br>metric log_stab_min_bound = 4.0<br>metric log_stab_max_bound = 4.0<br>metric lstab_min_bound = -10.0<br>metric n_uncovered = 0<br>",
          "PatternStructure 51<br><br>extent (len: 4): 1056, 3317, 1109, 1754<br>intent (len: 14): balance in [1, 3904], contact in [\"cellular\", \"telephone\"], pdays in [114.0, 378.0], default = 0, job in [\"entrepreneur\", \"management\", \"technician\"],...<br>new extent (len: 4): 1056, 3317, 1109, 1754<br>new_intent (len: 7): campaign, pdays, month, age, education,...<br>metric strongness = 1.0<br>metric stab_min_bound = 0.9375<br>metric stab_max_bound = 0.9375<br>metric log_stab_min_bound = 4.0<br>metric log_stab_max_bound = 4.0<br>metric lstab_min_bound = -10.0<br>metric n_uncovered = 0<br>",
          "PatternStructure 53<br><br>extent (len: 4): 3498, 1467, 2122, 3248<br>intent (len: 13): job in [\"retired\", \"services\", \"unemployed\"], poutcome in [\"success\", \"unknown\"], marital in [\"divorced\", \"married\"], campaign in [1, 2], default = 0,...<br>new extent (len: 4): 3498, 1467, 2122, 3248<br>new_intent (len: 6): marital, balance, month, age, education,...<br>metric strongness = 1.0<br>metric stab_min_bound = 0.9375<br>metric stab_max_bound = 0.9375<br>metric log_stab_min_bound = 4.0<br>metric log_stab_max_bound = 4.0<br>metric lstab_min_bound = -10.0<br>metric n_uncovered = 1<br>",
          "PatternStructure 46<br><br>extent (len: 5): 1349, 4364, 3005, 4388, 1415<br>intent (len: 13): job in [\"admin.\", \"retired\"], contact in [\"cellular\", \"telephone\"], marital in [\"divorced\", \"married\"], previous in [0, 9], month in [\"dec\", \"jun\", \"mar\"],...<br>new extent (len: 5): 1349, 4364, 3005, 4388, 1415<br>new_intent (len: 6): campaign, housing, balance, age, education,...<br>metric strongness = 1.0<br>metric stab_min_bound = 0.96875<br>metric stab_max_bound = 0.96875<br>metric log_stab_min_bound = 5.0<br>metric log_stab_max_bound = 5.0<br>metric lstab_min_bound = -9.0<br>metric n_uncovered = 0<br>",
          "PatternStructure 48<br><br>extent (len: 5): 3301, 3930, 328, 3005, 540<br>intent (len: 14): housing in [0, 1], poutcome in [\"other\", \"success\"], default = 0, contact = cellular, job in [\"admin.\", \"retired\", \"services\", \"unemployed\"],...<br>new extent (len: 5): 3301, 3930, 328, 3005, 540<br>new_intent (len: 8): balance, pdays, month, contact, poutcome,...<br>metric strongness = 1.0<br>metric stab_min_bound = 0.96875<br>metric stab_max_bound = 0.96875<br>metric log_stab_min_bound = 5.0<br>metric log_stab_max_bound = 5.0<br>metric lstab_min_bound = -9.0<br>metric n_uncovered = 0<br>",
          "PatternStructure 50<br><br>extent (len: 5): 3843, 3176, 3270, 540, 3896<br>intent (len: 14): loan in [0, 1], contact in [\"cellular\", \"telephone\"], poutcome = success, month in [\"apr\", \"jul\", \"may\"], default = 0,...<br>new extent (len: 5): 3843, 3176, 3270, 540, 3896<br>new_intent (len: 7): balance, pdays, month, age, education,...<br>metric strongness = 1.0<br>metric stab_min_bound = 0.96875<br>metric stab_max_bound = 0.96875<br>metric log_stab_min_bound = 5.0<br>metric log_stab_max_bound = 5.0<br>metric lstab_min_bound = -9.0<br>metric n_uncovered = 0<br>",
          "PatternStructure 47<br><br>extent (len: 5): 4364, 1467, 3743, 2685, 2014<br>intent (len: 13): loan in [0, 1], contact in [\"cellular\", \"telephone\"], default = 0, age in [42, 74], marital in [\"divorced\", \"single\"],...<br>new extent (len: 5): 4364, 1467, 3743, 2685, 2014<br>new_intent (len: 9): marital, campaign, balance, month, poutcome,...<br>metric strongness = 1.0<br>metric stab_min_bound = 0.96875<br>metric stab_max_bound = 0.96875<br>metric log_stab_min_bound = 5.0<br>metric log_stab_max_bound = 5.0<br>metric lstab_min_bound = -9.0<br>metric n_uncovered = 0<br>",
          "PatternStructure 49<br><br>extent (len: 5): 504, 2251, 2421, 3558, 3789<br>intent (len: 13): poutcome in [\"success\", \"unknown\"], campaign in [1, 2], default = 0, contact = cellular, housing = 0,...<br>new extent (len: 0): ∅<br>new_intent (len: 4): month, job, age, education<br>metric strongness = 1.0<br>metric stab_min_bound = 0.25<br>metric stab_max_bound = 0.5<br>metric log_stab_min_bound = 0.4150374992788438<br>metric log_stab_max_bound = 1.0<br>metric lstab_min_bound = -13.0<br>metric n_uncovered = 0<br>",
          "PatternStructure 42<br><br>extent (len: 6): 3978, 2213, 110, 4216, 2122,...<br>intent (len: 14): previous in [1, 4], default = 0, contact = cellular, housing = 0, campaign in [1, 6],...<br>new extent (len: 6): 3978, 2213, 110, 4216, 2122,...<br>new_intent (len: 7): balance, pdays, month, contact, previous,...<br>metric strongness = 1.0<br>metric stab_min_bound = 0.984375<br>metric stab_max_bound = 0.984375<br>metric log_stab_min_bound = 6.0<br>metric log_stab_max_bound = 6.0<br>metric lstab_min_bound = -8.0<br>metric n_uncovered = 0<br>",
          "PatternStructure 45<br><br>extent (len: 6): 1124, 492, 3088, 2486, 3931,...<br>intent (len: 14): contact in [\"cellular\", \"telephone\"], pdays in [91.0, 683.0], campaign in [1, 2], default = 0, job in [\"admin.\", \"technician\", \"unknown\"],...<br>new extent (len: 6): 1124, 492, 2486, 3088, 3931,...<br>new_intent (len: 6): campaign, month, previous, age, education,...<br>metric strongness = 1.0<br>metric stab_min_bound = 0.984375<br>metric stab_max_bound = 0.984375<br>metric log_stab_min_bound = 6.0<br>metric log_stab_max_bound = 6.0<br>metric lstab_min_bound = -8.0<br>metric n_uncovered = 0<br>",
          "PatternStructure 44<br><br>extent (len: 6): 3932, 1928, 4433, 4213, 4232,...<br>intent (len: 14): loan in [0, 1], balance in [-522, 3472], education in [\"primary\", \"secondary\", \"tertiary\"], contact = cellular, poutcome in [\"failure\", \"other\", \"success\"],...<br>new extent (len: 1): 4433<br>new_intent (len: 10): marital, campaign, balance, pdays, month,...<br>metric strongness = 0.3157894736842105<br>metric stab_min_bound = 0.8125<br>metric stab_max_bound = 0.875<br>metric log_stab_min_bound = 2.415037499278844<br>metric log_stab_max_bound = 3.0<br>metric lstab_min_bound = -11.0<br>metric n_uncovered = 0<br>",
          "PatternStructure 43<br><br>extent (len: 6): 2780, 503, 4364, 189, 2471,...<br>intent (len: 13): month in [\"jul\", \"jun\", \"nov\"], campaign in [1, 2], education in [\"primary\", \"secondary\", \"tertiary\"], contact = cellular, job in [\"retired\", \"student\"],...<br>new extent (len: 2): 2780, 4364<br>new_intent (len: 10): campaign, balance, month, contact, poutcome,...<br>metric strongness = 0.24<br>metric stab_min_bound = 0.875<br>metric stab_max_bound = 0.9375<br>metric log_stab_min_bound = 3.0<br>metric log_stab_max_bound = 4.0<br>metric lstab_min_bound = -10.0<br>metric n_uncovered = 0<br>",
          "PatternStructure 39<br><br>extent (len: 7): 2444, 2988, 3370, 3270, 3239,...<br>intent (len: 14): job in [\"blue-collar\", \"entrepreneur\", \"management\", \"student\"], previous in [1, 4], education in [\"primary\", \"secondary\", \"tertiary\"], contact = cellular, default = 0,...<br>new extent (len: 7): 2444, 2988, 3370, 3270, 3239,...<br>new_intent (len: 5): marital, month, contact, age, job<br>metric strongness = 1.0<br>metric stab_min_bound = 0.9921875<br>metric stab_max_bound = 0.9921875<br>metric log_stab_min_bound = 7.0<br>metric log_stab_max_bound = 7.0<br>metric lstab_min_bound = -7.0<br>metric n_uncovered = 0<br>",
          "PatternStructure 40<br><br>extent (len: 7): 2188, 4160, 2266, 492, 4224,...<br>intent (len: 14): pdays in [90.0, 278.0], contact in [\"cellular\", \"telephone\"], poutcome = success, balance in [-242, 1978], job in [\"admin.\", \"retired\", \"technician\", \"unemployed\"],...<br>new extent (len: 7): 2188, 4160, 2266, 492, 4224,...<br>new_intent (len: 8): balance, pdays, month, age, education,...<br>metric strongness = 1.0<br>metric stab_min_bound = 0.9921875<br>metric stab_max_bound = 0.9921875<br>metric log_stab_min_bound = 7.0<br>metric log_stab_max_bound = 7.0<br>metric lstab_min_bound = -7.0<br>metric n_uncovered = 0<br>",
          "PatternStructure 41<br><br>extent (len: 7): 1181, 1048, 684, 3658, 1485,...<br>intent (len: 14): contact in [\"cellular\", \"telephone\"], poutcome in [\"other\", \"success\"], default = 0, housing = 0, campaign in [1, 6],...<br>new extent (len: 7): 1048, 1181, 684, 3658, 1485,...<br>new_intent (len: 10): marital, campaign, housing, balance, pdays,...<br>metric strongness = 1.0<br>metric stab_min_bound = 0.9921875<br>metric stab_max_bound = 0.9921875<br>metric log_stab_min_bound = 7.0<br>metric log_stab_max_bound = 7.0<br>metric lstab_min_bound = -7.0<br>metric n_uncovered = 0<br>",
          "PatternStructure 38<br><br>extent (len: 8): 1056, 3250, 684, 3088, 2847,...<br>intent (len: 14): contact in [\"cellular\", \"telephone\"], job in [\"blue-collar\", \"entrepreneur\", \"services\", \"technician\"], poutcome = success, previous in [1, 4], education in [\"primary\", \"secondary\", \"tertiary\"],...<br>new extent (len: 8): 1056, 3250, 684, 3088, 2847,...<br>new_intent (len: 11): marital, campaign, housing, balance, pdays,...<br>metric strongness = 1.0<br>metric stab_min_bound = 0.99609375<br>metric stab_max_bound = 0.99609375<br>metric log_stab_min_bound = 8.0<br>metric log_stab_max_bound = 8.0<br>metric lstab_min_bound = -6.0<br>metric n_uncovered = 0<br>",
          "PatternStructure 37<br><br>extent (len: 9): 98, 3835, 3256, 2176, 1952,...<br>intent (len: 14): loan in [0, 1], contact in [\"cellular\", \"telephone\"], poutcome = success, age in [28, 41], default = 0,...<br>new extent (len: 9): 98, 3835, 3256, 2176, 1952,...<br>new_intent (len: 6): balance, pdays, month, age, education,...<br>metric strongness = 1.0<br>metric stab_min_bound = 0.998046875<br>metric stab_max_bound = 0.998046875<br>metric log_stab_min_bound = 9.0<br>metric log_stab_max_bound = 9.0<br>metric lstab_min_bound = -5.0<br>metric n_uncovered = 0<br>",
          "PatternStructure 34<br><br>extent (len: 9): 3684, 3695, 199, 1124, 3176,...<br>intent (len: 14): contact in [\"cellular\", \"telephone\"], job in [\"admin.\", \"management\", \"retired\", \"technician\"], poutcome = success, balance in [0, 5514], default = 0,...<br>new extent (len: 9): 3684, 3695, 199, 1124, 3176,...<br>new_intent (len: 11): marital, campaign, housing, balance, pdays,...<br>metric strongness = 1.0<br>metric stab_min_bound = 0.998046875<br>metric stab_max_bound = 0.998046875<br>metric log_stab_min_bound = 9.0<br>metric log_stab_max_bound = 9.0<br>metric lstab_min_bound = -5.0<br>metric n_uncovered = 0<br>",
          "PatternStructure 36<br><br>extent (len: 9): 3684, 3835, 3695, 1754, 2251,...<br>intent (len: 14): balance in [19, 5037], contact in [\"cellular\", \"telephone\"], poutcome in [\"other\", \"success\"], month in [\"apr\", \"feb\", \"jul\", \"mar\"], education in [\"primary\", \"secondary\", \"tertiary\"],...<br>new extent (len: 9): 3684, 3835, 3695, 2251, 1754,...<br>new_intent (len: 6): housing, balance, pdays, month, age,...<br>metric strongness = 1.0<br>metric stab_min_bound = 0.998046875<br>metric stab_max_bound = 0.998046875<br>metric log_stab_min_bound = 9.0<br>metric log_stab_max_bound = 9.0<br>metric lstab_min_bound = -5.0<br>metric n_uncovered = 0<br>",
          "PatternStructure 35<br><br>extent (len: 9): 1048, 1181, 2665, 3502, 2992,...<br>intent (len: 14): contact in [\"cellular\", \"telephone\"], poutcome in [\"other\", \"success\"], age in [22, 77], campaign in [1, 2], education in [\"primary\", \"secondary\", \"tertiary\"],...<br>new extent (len: 9): 1048, 1181, 2665, 3502, 2992,...<br>new_intent (len: 6): campaign, balance, pdays, month, previous,...<br>metric strongness = 1.0<br>metric stab_min_bound = 0.998046875<br>metric stab_max_bound = 0.998046875<br>metric log_stab_min_bound = 9.0<br>metric log_stab_max_bound = 9.0<br>metric lstab_min_bound = -5.0<br>metric n_uncovered = 0<br>",
          "PatternStructure 33<br><br>extent (len: 9): 3789, 504, 2251, 3589, 2421,...<br>intent (len: 13): month in [\"apr\", \"feb\", \"nov\", \"oct\"], poutcome in [\"success\", \"unknown\"], campaign in [1, 2], default = 0, contact = cellular,...<br>new extent (len: 2): 1303, 1437<br>new_intent (len: 5): month, contact, previous, education, job<br>metric strongness = 0.34615384615384615<br>metric stab_min_bound = 0.9296875<br>metric stab_max_bound = 0.9375<br>metric log_stab_min_bound = 3.830074998557688<br>metric log_stab_max_bound = 4.0<br>metric lstab_min_bound = -10.0<br>metric n_uncovered = 0<br>",
          "PatternStructure 32<br><br>extent (len: 11): 3684, 3695, 1754, 4216, 156,...<br>intent (len: 14): poutcome in [\"other\", \"success\"], default = 0, contact = cellular, campaign in [1, 6], marital in [\"divorced\", \"married\", \"single\"],...<br>new extent (len: 11): 3684, 3695, 1754, 156, 880,...<br>new_intent (len: 9): campaign, balance, pdays, month, contact,...<br>metric strongness = 1.0<br>metric stab_min_bound = 0.99951171875<br>metric stab_max_bound = 0.99951171875<br>metric log_stab_min_bound = 11.0<br>metric log_stab_max_bound = 11.0<br>metric lstab_min_bound = -3.0<br>metric n_uncovered = 0<br>",
          "PatternStructure 31<br><br>extent (len: 11): 3005, 1349, 4364, 156, 492,...<br>intent (len: 13): contact in [\"cellular\", \"telephone\"], marital in [\"divorced\", \"married\"], job in [\"admin.\", \"management\", \"retired\", \"technician\"], previous in [0, 9], month in [\"dec\", \"jun\", \"mar\"],...<br>new extent (len: 3): 156, 492, 4224<br>new_intent (len: 4): month, age, previous, balance<br>metric strongness = 0.7857142857142857<br>metric stab_min_bound = 0.9765625<br>metric stab_max_bound = 0.984375<br>metric log_stab_min_bound = 5.415037499278844<br>metric log_stab_max_bound = 6.0<br>metric lstab_min_bound = -8.0<br>metric n_uncovered = 0<br>",
          "PatternStructure 29<br><br>extent (len: 12): 233, 3256, 2251, 2917, 4433,...<br>intent (len: 14): loan in [0, 1], poutcome = success, default = 0, contact = cellular, age in [26, 45],...<br>new extent (len: 12): 233, 3256, 2917, 2251, 4433,...<br>new_intent (len: 8): balance, pdays, month, contact, age,...<br>metric strongness = 1.0<br>metric stab_min_bound = 0.999755859375<br>metric stab_max_bound = 0.999755859375<br>metric log_stab_min_bound = 12.0<br>metric log_stab_max_bound = 12.0<br>metric lstab_min_bound = -2.0<br>metric n_uncovered = 0<br>",
          "PatternStructure 27<br><br>extent (len: 12): 2188, 49, 156, 2539, 3751,...<br>intent (len: 14): poutcome = success, age in [31, 61], contact = cellular, default = 0, balance in [14, 4629],...<br>new extent (len: 12): 2188, 1469, 49, 2539, 156,...<br>new_intent (len: 10): campaign, balance, pdays, month, contact,...<br>metric strongness = 1.0<br>metric stab_min_bound = 0.999755859375<br>metric stab_max_bound = 0.999755859375<br>metric log_stab_min_bound = 12.0<br>metric log_stab_max_bound = 12.0<br>metric lstab_min_bound = -2.0<br>metric n_uncovered = 0<br>",
          "PatternStructure 26<br><br>extent (len: 12): 2251, 1060, 619, 2969, 323,...<br>intent (len: 14): poutcome = success, previous in [1, 4], default = 0, contact = cellular, job in [\"admin.\", \"blue-collar\", \"management\", \"self-employed\", \"technician\"],...<br>new extent (len: 12): 2251, 1060, 619, 2969, 323,...<br>new_intent (len: 11): marital, campaign, balance, pdays, month,...<br>metric strongness = 1.0<br>metric stab_min_bound = 0.999755859375<br>metric stab_max_bound = 0.999755859375<br>metric log_stab_min_bound = 12.0<br>metric log_stab_max_bound = 12.0<br>metric lstab_min_bound = -2.0<br>metric n_uncovered = 0<br>",
          "PatternStructure 28<br><br>extent (len: 12): 2188, 233, 49, 2266, 464,...<br>intent (len: 14): loan in [0, 1], poutcome = success, balance in [0, 4629], campaign in [1, 2], default = 0,...<br>new extent (len: 12): 2188, 233, 49, 2266, 464,...<br>new_intent (len: 8): campaign, balance, pdays, month, contact,...<br>metric strongness = 1.0<br>metric stab_min_bound = 0.999755859375<br>metric stab_max_bound = 0.999755859375<br>metric log_stab_min_bound = 12.0<br>metric log_stab_max_bound = 12.0<br>metric lstab_min_bound = -2.0<br>metric n_uncovered = 0<br>",
          "PatternStructure 30<br><br>extent (len: 12): 855, 3527, 83, 3317, 2444,...<br>intent (len: 14): contact in [\"cellular\", \"telephone\"], previous in [1, 4], education in [\"primary\", \"secondary\", \"tertiary\"], default = 0, marital in [\"divorced\", \"married\", \"single\"],...<br>new extent (len: 2): 855, 164<br>new_intent (len: 7): balance, pdays, month, poutcome, age,...<br>metric strongness = 0.8571428571428571<br>metric stab_min_bound = 0.96484375<br>metric stab_max_bound = 0.96875<br>metric log_stab_min_bound = 4.830074998557688<br>metric log_stab_max_bound = 5.0<br>metric lstab_min_bound = -9.0<br>metric n_uncovered = 0<br>",
          "PatternStructure 24<br><br>extent (len: 15): 3385, 1905, 1048, 3978, 3256,...<br>intent (len: 14): loan in [0, 1], contact in [\"cellular\", \"telephone\"], poutcome = success, education in [\"primary\", \"secondary\", \"tertiary\"], default = 0,...<br>new extent (len: 15): 3385, 1905, 1048, 3978, 3256,...<br>new_intent (len: 4): month, age, balance, job<br>metric strongness = 1.0<br>metric stab_min_bound = 0.999969482421875<br>metric stab_max_bound = 0.999969482421875<br>metric log_stab_min_bound = 15.0<br>metric log_stab_max_bound = 15.0<br>metric lstab_min_bound = 1.0<br>metric n_uncovered = 0<br>",
          "PatternStructure 25<br><br>extent (len: 15): 3005, 4388, 1349, 4364, 156,...<br>intent (len: 13): month in [\"dec\", \"jun\", \"mar\", \"oct\"], contact in [\"cellular\", \"telephone\"], marital in [\"divorced\", \"married\"], job in [\"admin.\", \"management\", \"retired\", \"technician\"], default = 0,...<br>new extent (len: 2): 4216, 2014<br>new_intent (len: 6): marital, balance, poutcome, age, loan,...<br>metric strongness = 0.5<br>metric stab_min_bound = 0.937255859375<br>metric stab_max_bound = 0.9375<br>metric log_stab_min_bound = 3.994375450806122<br>metric log_stab_max_bound = 4.0<br>metric lstab_min_bound = -10.0<br>metric n_uncovered = 0<br>",
          "PatternStructure 22<br><br>extent (len: 16): 3978, 2213, 4160, 110, 3250,...<br>intent (len: 14): contact in [\"cellular\", \"telephone\"], pdays in [91.0, 683.0], job in [\"admin.\", \"retired\", \"student\", \"technician\", \"unemployed\", \"unknown\"], default = 0, housing = 0,...<br>new extent (len: 4): 3874, 2583, 4160, 3250<br>new_intent (len: 3): month, balance, job<br>metric strongness = 0.8<br>metric stab_min_bound = 0.998046875<br>metric stab_max_bound = 0.9990234375<br>metric log_stab_min_bound = 9.0<br>metric log_stab_max_bound = 10.0<br>metric lstab_min_bound = -4.0<br>metric n_uncovered = 0<br>",
          "PatternStructure 23<br><br>extent (len: 16): 3789, 3978, 504, 3248, 1437,...<br>intent (len: 13): poutcome in [\"success\", \"unknown\"], campaign in [1, 2], default = 0, previous in [0, 4], housing = 0,...<br>new extent (len: 3): 3978, 1672, 1374<br>new_intent (len: 7): campaign, month, contact, poutcome, age,...<br>metric strongness = 0.26666666666666666<br>metric stab_min_bound = 0.991943359375<br>metric stab_max_bound = 0.9921875<br>metric log_stab_min_bound = 6.955605880641547<br>metric log_stab_max_bound = 7.0<br>metric lstab_min_bound = -7.0<br>metric n_uncovered = 0<br>",
          "PatternStructure 21<br><br>extent (len: 19): 1124, 1303, 70, 855, 1905,...<br>intent (len: 14): contact in [\"cellular\", \"telephone\"], poutcome = success, default = 0, balance in [0, 2557], marital in [\"divorced\", \"married\", \"single\"],...<br>new extent (len: 19): 1124, 1303, 70, 855, 1905,...<br>new_intent (len: 8): campaign, balance, pdays, month, age,...<br>metric strongness = 1.0<br>metric stab_min_bound = 0.9999980926513672<br>metric stab_max_bound = 0.9999980926513672<br>metric log_stab_min_bound = 19.0<br>metric log_stab_max_bound = 19.0<br>metric lstab_min_bound = 5.0<br>metric n_uncovered = 0<br>",
          "PatternStructure 20<br><br>extent (len: 20): 1124, 2969, 1303, 1695, 3589,...<br>intent (len: 14): loan in [0, 1], poutcome = success, age in [28, 53], balance in [-46, 3576], default = 0,...<br>new extent (len: 20): 1124, 2969, 1303, 1695, 3589,...<br>new_intent (len: 9): marital, campaign, balance, pdays, month,...<br>metric strongness = 1.0<br>metric stab_min_bound = 0.9999990463256836<br>metric stab_max_bound = 0.9999990463256836<br>metric log_stab_min_bound = 20.0<br>metric log_stab_max_bound = 20.0<br>metric lstab_min_bound = 6.0<br>metric n_uncovered = 0<br>",
          "PatternStructure 19<br><br>extent (len: 21): 3695, 156, 3931, 4216, 540,...<br>intent (len: 14): contact in [\"cellular\", \"telephone\"], poutcome in [\"other\", \"success\"], education in [\"primary\", \"secondary\", \"tertiary\"], default = 0, previous in [1, 5],...<br>new extent (len: 4): 1905, 984, 4009, 849<br>new_intent (len: 1): job<br>metric strongness = 0.875<br>metric stab_min_bound = 0.998779296875<br>metric stab_max_bound = 0.9990234375<br>metric log_stab_min_bound = 9.678071905112638<br>metric log_stab_max_bound = 10.0<br>metric lstab_min_bound = -4.0<br>metric n_uncovered = 0<br>",
          "PatternStructure 18<br><br>extent (len: 22): 4160, 2969, 1695, 540, 1905,...<br>intent (len: 14): contact in [\"cellular\", \"telephone\"], poutcome = success, campaign in [1, 2], education in [\"primary\", \"secondary\", \"tertiary\"], job in [\"admin.\", \"blue-collar\", \"housemaid\", \"management\", \"retired\", \"technician\"],...<br>new extent (len: 22): 4160, 2969, 1695, 540, 1905,...<br>new_intent (len: 8): marital, campaign, balance, month, loan,...<br>metric strongness = 1.0<br>metric stab_min_bound = 0.9999997615814209<br>metric stab_max_bound = 0.9999997615814209<br>metric log_stab_min_bound = 22.0<br>metric log_stab_max_bound = 22.0<br>metric lstab_min_bound = 8.0<br>metric n_uncovered = 0<br>",
          "PatternStructure 17<br><br>extent (len: 23): 3317, 3502, 2449, 164, 328,...<br>intent (len: 14): contact in [\"cellular\", \"telephone\"], education in [\"primary\", \"secondary\", \"tertiary\"], poutcome in [\"failure\", \"other\", \"success\"], default = 0, month in [\"aug\", \"dec\", \"jul\", \"oct\", \"sep\"],...<br>new extent (len: 6): 1048, 3502, 2449, 1736, 4458,...<br>new_intent (len: 7): campaign, balance, pdays, month, age,...<br>metric strongness = 0.575<br>metric stab_min_bound = 0.9995079040527344<br>metric stab_max_bound = 0.99951171875<br>metric log_stab_min_bound = 10.988772744576746<br>metric log_stab_max_bound = 11.0<br>metric lstab_min_bound = -3.0<br>metric n_uncovered = 0<br>",
          "PatternStructure 16<br><br>extent (len: 23): 2821, 156, 1467, 3931, 1303,...<br>intent (len: 13): loan in [0, 1], month in [\"dec\", \"jun\", \"mar\", \"oct\"], contact in [\"cellular\", \"telephone\"], poutcome in [\"failure\", \"other\", \"success\", \"unknown\"], default = 0,...<br>new extent (len: 5): 2821, 36, 3931, 1303, 1672<br>new_intent (len: 6): balance, month, age, previous, education,...<br>metric strongness = 0.39655172413793105<br>metric stab_min_bound = 0.9960899353027344<br>metric stab_max_bound = 0.99609375<br>metric log_stab_min_bound = 7.998591805607192<br>metric log_stab_max_bound = 8.0<br>metric lstab_min_bound = -6.0<br>metric n_uncovered = 0<br>",
          "PatternStructure 15<br><br>extent (len: 27): 233, 4160, 2049, 156, 3176,...<br>intent (len: 14): loan in [0, 1], contact in [\"cellular\", \"telephone\"], poutcome = success, education in [\"primary\", \"secondary\", \"tertiary\"], default = 0,...<br>new extent (len: 8): 233, 1181, 464, 1754, 684,...<br>new_intent (len: 9): marital, campaign, balance, pdays, month,...<br>metric strongness = 0.9642857142857143<br>metric stab_min_bound = 0.9997556209564209<br>metric stab_max_bound = 0.999755859375<br>metric log_stab_min_bound = 11.998591805607191<br>metric log_stab_max_bound = 12.0<br>metric lstab_min_bound = -2.0<br>metric n_uncovered = 0<br>",
          "PatternStructure 14<br><br>extent (len: 27): 3695, 156, 3931, 1469, 4216,...<br>intent (len: 14): contact in [\"cellular\", \"telephone\"], poutcome in [\"other\", \"success\"], education in [\"primary\", \"secondary\", \"tertiary\"], default = 0, previous in [1, 5],...<br>new extent (len: 6): 684, 3088, 1469, 3658, 1485,...<br>new_intent (len: 5): pdays, month, age, previous, job<br>metric strongness = 0.7941176470588235<br>metric stab_min_bound = 0.984375<br>metric stab_max_bound = 0.984375<br>metric log_stab_min_bound = 6.0<br>metric log_stab_max_bound = 6.0<br>metric lstab_min_bound = -8.0<br>metric n_uncovered = 0<br>",
          "PatternStructure 13<br><br>extent (len: 31): 3695, 4160, 3498, 1467, 164,...<br>intent (len: 13): contact in [\"cellular\", \"telephone\", \"unknown\"], default = 0, previous in [0, 4], housing = 0, age in [28, 84],...<br>new extent (len: 10): 2014, 4160, 1754, 199, 492,...<br>new_intent (len: 9): campaign, housing, balance, month, poutcome,...<br>metric strongness = 0.11524163568773234<br>metric stab_min_bound = 0.9999694712460041<br>metric stab_max_bound = 0.999969482421875<br>metric log_stab_min_bound = 14.999471766013178<br>metric log_stab_max_bound = 15.0<br>metric lstab_min_bound = 1.0<br>metric n_uncovered = 0<br>",
          "PatternStructure 12<br><br>extent (len: 32): 3317, 4160, 1124, 164, 2969,...<br>intent (len: 14): contact in [\"cellular\", \"telephone\"], pdays in [91.0, 683.0], default = 0, housing = 0, campaign in [1, 6],...<br>new extent (len: 12): 3256, 2251, 2988, 3370, 164,...<br>new_intent (len: 9): marital, housing, balance, pdays, month,...<br>metric strongness = 0.6153846153846154<br>metric stab_min_bound = 0.9999847374856472<br>metric stab_max_bound = 0.9999847412109375<br>metric log_stab_min_bound = 15.9996478225197<br>metric log_stab_max_bound = 16.0<br>metric lstab_min_bound = 2.0<br>metric n_uncovered = 0<br>",
          "PatternStructure 11<br><br>extent (len: 40): 233, 4160, 2917, 4433, 2449,...<br>intent (len: 14): loan in [0, 1], job in [\"admin.\", \"blue-collar\", \"management\", \"retired\", \"student\", \"technician\", \"unemployed\"], contact in [\"cellular\", \"telephone\"], poutcome = success, balance in [-242, 4629],...<br>new extent (len: 14): 3978, 1905, 941, 3005, 4186,...<br>new_intent (len: 8): marital, campaign, balance, pdays, month,...<br>metric strongness = 0.9090909090909091<br>metric stab_min_bound = 0.9999999924330041<br>metric stab_max_bound = 0.9999999962747097<br>metric log_stab_min_bound = 26.977632186971544<br>metric log_stab_max_bound = 28.0<br>metric lstab_min_bound = 14.0<br>metric n_uncovered = 0<br>",
          "PatternStructure 10<br><br>extent (len: 45): 3695, 2917, 156, 3176, 3502,...<br>intent (len: 14): contact in [\"cellular\", \"telephone\"], poutcome in [\"other\", \"success\"], month in [\"apr\", \"dec\", \"feb\", \"jul\", \"jun\", \"mar\", \"may\", \"nov\", \"oct\"], age in [22, 77], education in [\"primary\", \"secondary\", \"tertiary\"],...<br>new extent (len: 10): 3256, 2917, 199, 3176, 4093,...<br>new_intent (len: 8): balance, pdays, month, age, education,...<br>metric strongness = 0.5056179775280899<br>metric stab_min_bound = 0.9999961852845445<br>metric stab_max_bound = 0.9999961853027344<br>metric log_stab_min_bound = 17.999993120710368<br>metric log_stab_max_bound = 18.0<br>metric lstab_min_bound = 4.0<br>metric n_uncovered = 0<br>",
          "PatternStructure 9<br><br>extent (len: 48): 233, 4160, 2917, 2049, 2969,...<br>intent (len: 14): loan in [0, 1], contact in [\"cellular\", \"telephone\"], poutcome = success, default = 0, job in [\"admin.\", \"blue-collar\", \"housemaid\", \"management\", \"retired\", \"technician\"],...<br>new extent (len: 19): 233, 2917, 2049, 70, 1653,...<br>new_intent (len: 5): balance, pdays, month, age, job<br>metric strongness = 0.9056603773584906<br>metric stab_min_bound = 0.9999999850970198<br>metric stab_max_bound = 0.9999999850988388<br>metric log_stab_min_bound = 25.999823900513558<br>metric log_stab_max_bound = 26.0<br>metric lstab_min_bound = 12.0<br>metric n_uncovered = 0<br>",
          "PatternStructure 8<br><br>extent (len: 51): 2821, 156, 1124, 3502, 2449,...<br>intent (len: 13): loan in [0, 1], poutcome in [\"failure\", \"other\", \"success\", \"unknown\"], contact in [\"cellular\", \"telephone\"], age in [28, 87], previous in [0, 14],...<br>new extent (len: 25): 1124, 3502, 2449, 164, 3789,...<br>new_intent (len: 5): campaign, balance, month, age, job<br>metric strongness = 0.2602040816326531<br>metric stab_min_bound = 0.9999999962747061<br>metric stab_max_bound = 0.9999999962747097<br>metric log_stab_min_bound = 27.999998624139447<br>metric log_stab_max_bound = 28.0<br>metric lstab_min_bound = 14.0<br>metric n_uncovered = 0<br>",
          "PatternStructure 7<br><br>extent (len: 58): 233, 2917, 2049, 156, 1124,...<br>intent (len: 14): loan in [0, 1], contact in [\"cellular\", \"telephone\"], poutcome = success, month in [\"aug\", \"feb\", \"jan\", \"jul\", \"jun\", \"mar\", \"nov\", \"oct\", \"sep\"], default = 0,...<br>new extent (len: 17): 941, 233, 4186, 347, 2917,...<br>new_intent (len: 5): balance, pdays, month, age, job<br>metric strongness = 0.9354838709677419<br>metric stab_min_bound = 0.9999999999981641<br>metric stab_max_bound = 0.999999999998181<br>metric log_stab_min_bound = 38.98667732657455<br>metric log_stab_max_bound = 39.0<br>metric lstab_min_bound = 25.0<br>metric n_uncovered = 0<br>",
          "PatternStructure 6<br><br>extent (len: 62): 3317, 4160, 2917, 1928, 1124,...<br>intent (len: 14): month in [\"apr\", \"aug\", \"dec\", \"feb\", \"jan\", \"jul\", \"jun\", \"mar\", \"oct\", \"sep\"], contact in [\"cellular\", \"telephone\"], poutcome in [\"failure\", \"other\", \"success\"], default = 0, campaign in [1, 6],...<br>new extent (len: 13): 98, 1905, 2188, 347, 2917,...<br>new_intent (len: 8): campaign, balance, pdays, month, age,...<br>metric strongness = 0.2683982683982684<br>metric stab_min_bound = 0.9999999990668584<br>metric stab_max_bound = 0.9999999990686774<br>metric log_stab_min_bound = 29.997184984392945<br>metric log_stab_max_bound = 30.0<br>metric lstab_min_bound = 16.0<br>metric n_uncovered = 0<br>",
          "PatternStructure 5<br><br>extent (len: 84): 4160, 2049, 1124, 3931, 1695,...<br>intent (len: 14): loan in [0, 1], contact in [\"cellular\", \"telephone\"], poutcome = success, default = 0, pdays in [1.0, 541.0],...<br>new extent (len: 6): 1048, 1181, 3176, 477, 3243,...<br>new_intent (len: 2): month, job<br>metric strongness = 0.8<br>metric stab_min_bound = 0.99999998508423<br>metric stab_max_bound = 0.9999999850988388<br>metric log_stab_min_bound = 25.998586307542055<br>metric log_stab_max_bound = 26.0<br>metric lstab_min_bound = 12.0<br>metric n_uncovered = 0<br>",
          "PatternStructure 4<br><br>extent (len: 94): 4160, 2049, 1124, 3931, 1695,...<br>intent (len: 14): loan in [0, 1], contact in [\"cellular\", \"telephone\"], poutcome = success, default = 0, pdays in [1.0, 541.0],...<br>new extent (len: 2): 880, 1374<br>new_intent (len: 4): age, poutcome, campaign, balance<br>metric strongness = 0.7833333333333333<br>metric stab_min_bound = 0.9990234375<br>metric stab_max_bound = 0.9990234375<br>metric log_stab_min_bound = 10.0<br>metric log_stab_max_bound = 10.0<br>metric lstab_min_bound = -4.0<br>metric n_uncovered = 0<br>",
          "PatternStructure 3<br><br>extent (len: 103): 4160, 2049, 1124, 3931, 1695,...<br>intent (len: 14): loan in [0, 1], contact in [\"cellular\", \"telephone\"], poutcome in [\"other\", \"success\"], default = 0, pdays in [1.0, 541.0],...<br>new extent (len: 2): 3932, 3930<br>new_intent (len: 4): age, poutcome, balance, pdays<br>metric strongness = 0.3468013468013468<br>metric stab_min_bound = 0.998046875<br>metric stab_max_bound = 0.998046875<br>metric log_stab_min_bound = 9.0<br>metric log_stab_max_bound = 9.0<br>metric lstab_min_bound = -5.0<br>metric n_uncovered = 0<br>",
          "PatternStructure 2<br><br>extent (len: 122): 3317, 4160, 2049, 1124, 3931,...<br>intent (len: 14): loan in [0, 1], contact in [\"cellular\", \"telephone\"], age in [21, 79], poutcome in [\"failure\", \"other\", \"success\"], default = 0,...<br>new extent (len: 3): 970, 412, 3743<br>new_intent (len: 5): balance, pdays, poutcome, age, previous<br>metric strongness = 0.16180371352785147<br>metric stab_min_bound = 0.9999980926513672<br>metric stab_max_bound = 0.9999980926513672<br>metric log_stab_min_bound = 19.0<br>metric log_stab_max_bound = 19.0<br>metric lstab_min_bound = 5.0<br>metric n_uncovered = 0<br>",
          "PatternStructure 1<br><br>extent (len: 148): 2821, 3317, 4160, 2049, 1124,...<br>intent (len: 13): loan in [0, 1], poutcome in [\"failure\", \"other\", \"success\", \"unknown\"], contact in [\"cellular\", \"telephone\"], previous in [0, 14], default = 0,...<br>new extent (len: 0): ∅<br>new_intent (len: 1): contact<br>metric strongness = 0.04933333333333333<br>metric stab_min_bound = 0.9999999850988388<br>metric stab_max_bound = 0.9999999850988388<br>metric log_stab_min_bound = 26.0<br>metric log_stab_max_bound = 26.0<br>metric lstab_min_bound = 12.0<br>metric n_uncovered = 148<br>",
          "PatternStructure 0<br><br>extent (len: 149): 2821, 3317, 4160, 2049, 1124,...<br>intent (len: 13): contact in [\"cellular\", \"telephone\", \"unknown\"], poutcome in [\"failure\", \"other\", \"success\", \"unknown\"], loan in [0, 1], previous in [0, 14], default = 0,...<br>new extent (len: 0): ∅<br>new_intent (len: 13): marital, campaign, default, housing, balance,...<br>metric strongness = 0.03521626093122193<br>metric stab_min_bound = 0.5<br>metric stab_max_bound = 0.5<br>metric log_stab_min_bound = 1.0<br>metric log_stab_max_bound = 1.0<br>metric lstab_min_bound = -13.0<br>",
          "PatternStructure 70<br><br>extent (len: 0): ∅<br>intent (len: 0): ∅<br>new extent (len: 0): ∅<br>new_intent (len: 0): ∅<br>metric strongness = 0<br>metric stab_min_bound = None<br>metric stab_max_bound = None<br>metric log_stab_min_bound = None<br>metric log_stab_max_bound = None<br>metric lstab_min_bound = None<br>"
         ],
         "marker": {
          "color": [
           0.75,
           0.75,
           0.75,
           0.75,
           0.75,
           0.75,
           0.75,
           0.75,
           0.875,
           0.875,
           0.875,
           0.875,
           0.875,
           0.9375,
           0.9375,
           0.9375,
           0.9375,
           0.9375,
           0.9375,
           0.96875,
           0.96875,
           0.96875,
           0.96875,
           0.25,
           0.984375,
           0.984375,
           0.8125,
           0.875,
           0.9921875,
           0.9921875,
           0.9921875,
           0.99609375,
           0.998046875,
           0.998046875,
           0.998046875,
           0.998046875,
           0.9296875,
           0.99951171875,
           0.9765625,
           0.999755859375,
           0.999755859375,
           0.999755859375,
           0.999755859375,
           0.96484375,
           0.999969482421875,
           0.937255859375,
           0.998046875,
           0.991943359375,
           0.9999980926513672,
           0.9999990463256836,
           0.998779296875,
           0.9999997615814209,
           0.9995079040527344,
           0.9960899353027344,
           0.9997556209564209,
           0.984375,
           0.9999694712460041,
           0.9999847374856472,
           0.9999999924330041,
           0.9999961852845445,
           0.9999999850970198,
           0.9999999962747061,
           0.9999999999981641,
           0.9999999990668584,
           0.99999998508423,
           0.9990234375,
           0.998046875,
           0.9999980926513672,
           0.9999999850988388,
           0.5,
           "grey"
          ],
          "colorbar": {
           "thickness": 15,
           "title": {
            "side": "right",
            "text": "y_mean"
           },
           "xanchor": "left"
          },
          "colorscale": [
           [
            0,
            "rgb(103,0,31)"
           ],
           [
            0.1,
            "rgb(178,24,43)"
           ],
           [
            0.2,
            "rgb(214,96,77)"
           ],
           [
            0.3,
            "rgb(244,165,130)"
           ],
           [
            0.4,
            "rgb(253,219,199)"
           ],
           [
            0.5,
            "rgb(247,247,247)"
           ],
           [
            0.6,
            "rgb(209,229,240)"
           ],
           [
            0.7,
            "rgb(146,197,222)"
           ],
           [
            0.8,
            "rgb(67,147,195)"
           ],
           [
            0.9,
            "rgb(33,102,172)"
           ],
           [
            1,
            "rgb(5,48,97)"
           ]
          ],
          "line": {
           "width": 2
          },
          "reversescale": true,
          "showscale": true,
          "size": 10
         },
         "mode": "markers+text",
         "text": [
          "n: 7<br>n: 2",
          "n: 12<br>n: 2",
          "n: 12<br>n: 2",
          "n: 6<br>n: 2",
          "n: 11<br>n: 2",
          "n: 10<br>n: 2",
          "n: 5<br>n: 2",
          "n: 7<br>n: 2",
          "n: 8<br>n: 3",
          "n: 4<br>n: 3",
          "n: 11<br>n: 3",
          "n: 7<br>n: 3",
          "n: 10<br>n: 3",
          "n: 1<br>n: 4",
          "n: 9<br>n: 4",
          "n: 6<br>n: 4",
          "n: 8<br>n: 4",
          "n: 7<br>n: 4",
          "n: 6<br>n: 4",
          "n: 6<br>n: 5",
          "n: 8<br>n: 5",
          "n: 7<br>n: 5",
          "n: 9<br>n: 5",
          "n: 4<br>",
          "n: 7<br>n: 6",
          "n: 6<br>n: 6",
          "n: 10<br>n: 1",
          "n: 10<br>n: 2",
          "n: 5<br>n: 7",
          "n: 8<br>n: 7",
          "n: 10<br>n: 7",
          "n: 11<br>n: 8",
          "n: 6<br>n: 9",
          "n: 11<br>n: 9",
          "n: 6<br>n: 9",
          "n: 6<br>n: 9",
          "n: 5<br>n: 2",
          "n: 9<br>n: 11",
          "n: 4<br>n: 3",
          "n: 8<br>n: 12",
          "n: 10<br>n: 12",
          "n: 11<br>n: 12",
          "n: 8<br>n: 12",
          "n: 7<br>n: 2",
          "n: 4<br>n: 15",
          "n: 6<br>n: 2",
          "n: 3<br>n: 4",
          "n: 7<br>n: 3",
          "n: 8<br>n: 19",
          "n: 9<br>n: 20",
          "n: 1<br>n: 4",
          "n: 8<br>n: 22",
          "n: 7<br>n: 6",
          "n: 6<br>n: 5",
          "n: 9<br>n: 8",
          "n: 5<br>n: 6",
          "n: 9<br>n: 10",
          "n: 9<br>n: 12",
          "n: 8<br>n: 14",
          "n: 8<br>n: 10",
          "n: 5<br>n: 19",
          "n: 5<br>n: 25",
          "n: 5<br>n: 17",
          "n: 8<br>n: 13",
          "n: 2<br>n: 6",
          "n: 4<br>n: 2",
          "n: 4<br>n: 2",
          "n: 5<br>n: 3",
          "n: 1<br>",
          "n: 13<br>",
          "<br>"
         ],
         "textposition": "middle right",
         "type": "scatter",
         "x": [
          -2.5,
          -4.5,
          -3.5,
          1,
          -2.5,
          -1.5,
          -0.5,
          2,
          5.5,
          -2.5,
          3,
          -1.5,
          -0.5,
          -1.5,
          -6.5,
          0.5,
          5.5,
          -6.5,
          4,
          6.5,
          -5.5,
          -2.5,
          3.5,
          0.5,
          -5.5,
          -4.5,
          -3,
          3.5,
          -3.5,
          -4.5,
          -0.5,
          -3.5,
          -2.5,
          0.5,
          -1.5,
          1.5,
          -2,
          -0.5,
          6.5,
          0.5,
          1.5,
          -1.5,
          2.5,
          -4.5,
          -0.5,
          4.5,
          -3.5,
          2.5,
          3.5,
          0.5,
          1.5,
          4.5,
          -4.5,
          0,
          2.5,
          3.5,
          -0.5,
          -3.5,
          2.5,
          1.5,
          3.5,
          4.5,
          4.5,
          -4,
          4.5,
          2.5,
          -1,
          1.5,
          0.5,
          0,
          0
         ],
         "y": [
          5,
          7,
          7,
          6,
          7,
          7,
          5,
          6,
          4,
          4,
          6,
          5,
          7,
          4,
          3,
          7,
          3,
          4,
          6,
          3,
          4,
          3,
          5,
          5,
          3,
          3,
          6,
          7,
          3,
          2,
          4,
          2,
          2,
          4,
          2,
          4,
          6,
          2,
          4,
          2,
          2,
          3,
          2,
          4,
          3,
          5,
          4,
          7,
          2,
          3,
          3,
          2,
          5,
          6,
          4,
          4,
          8,
          5,
          3,
          5,
          3,
          7,
          3,
          6,
          4,
          5,
          6,
          7,
          8,
          9,
          1
         ]
        }
       ],
       "layout": {
        "height": 500,
        "hovermode": "closest",
        "margin": {
         "b": 20,
         "l": 5,
         "r": 5,
         "t": 40
        },
        "showlegend": false,
        "template": {
         "data": {
          "bar": [
           {
            "error_x": {
             "color": "#2a3f5f"
            },
            "error_y": {
             "color": "#2a3f5f"
            },
            "marker": {
             "line": {
              "color": "#E5ECF6",
              "width": 0.5
             }
            },
            "type": "bar"
           }
          ],
          "barpolar": [
           {
            "marker": {
             "line": {
              "color": "#E5ECF6",
              "width": 0.5
             }
            },
            "type": "barpolar"
           }
          ],
          "carpet": [
           {
            "aaxis": {
             "endlinecolor": "#2a3f5f",
             "gridcolor": "white",
             "linecolor": "white",
             "minorgridcolor": "white",
             "startlinecolor": "#2a3f5f"
            },
            "baxis": {
             "endlinecolor": "#2a3f5f",
             "gridcolor": "white",
             "linecolor": "white",
             "minorgridcolor": "white",
             "startlinecolor": "#2a3f5f"
            },
            "type": "carpet"
           }
          ],
          "choropleth": [
           {
            "colorbar": {
             "outlinewidth": 0,
             "ticks": ""
            },
            "type": "choropleth"
           }
          ],
          "contour": [
           {
            "colorbar": {
             "outlinewidth": 0,
             "ticks": ""
            },
            "colorscale": [
             [
              0,
              "#0d0887"
             ],
             [
              0.1111111111111111,
              "#46039f"
             ],
             [
              0.2222222222222222,
              "#7201a8"
             ],
             [
              0.3333333333333333,
              "#9c179e"
             ],
             [
              0.4444444444444444,
              "#bd3786"
             ],
             [
              0.5555555555555556,
              "#d8576b"
             ],
             [
              0.6666666666666666,
              "#ed7953"
             ],
             [
              0.7777777777777778,
              "#fb9f3a"
             ],
             [
              0.8888888888888888,
              "#fdca26"
             ],
             [
              1,
              "#f0f921"
             ]
            ],
            "type": "contour"
           }
          ],
          "contourcarpet": [
           {
            "colorbar": {
             "outlinewidth": 0,
             "ticks": ""
            },
            "type": "contourcarpet"
           }
          ],
          "heatmap": [
           {
            "colorbar": {
             "outlinewidth": 0,
             "ticks": ""
            },
            "colorscale": [
             [
              0,
              "#0d0887"
             ],
             [
              0.1111111111111111,
              "#46039f"
             ],
             [
              0.2222222222222222,
              "#7201a8"
             ],
             [
              0.3333333333333333,
              "#9c179e"
             ],
             [
              0.4444444444444444,
              "#bd3786"
             ],
             [
              0.5555555555555556,
              "#d8576b"
             ],
             [
              0.6666666666666666,
              "#ed7953"
             ],
             [
              0.7777777777777778,
              "#fb9f3a"
             ],
             [
              0.8888888888888888,
              "#fdca26"
             ],
             [
              1,
              "#f0f921"
             ]
            ],
            "type": "heatmap"
           }
          ],
          "heatmapgl": [
           {
            "colorbar": {
             "outlinewidth": 0,
             "ticks": ""
            },
            "colorscale": [
             [
              0,
              "#0d0887"
             ],
             [
              0.1111111111111111,
              "#46039f"
             ],
             [
              0.2222222222222222,
              "#7201a8"
             ],
             [
              0.3333333333333333,
              "#9c179e"
             ],
             [
              0.4444444444444444,
              "#bd3786"
             ],
             [
              0.5555555555555556,
              "#d8576b"
             ],
             [
              0.6666666666666666,
              "#ed7953"
             ],
             [
              0.7777777777777778,
              "#fb9f3a"
             ],
             [
              0.8888888888888888,
              "#fdca26"
             ],
             [
              1,
              "#f0f921"
             ]
            ],
            "type": "heatmapgl"
           }
          ],
          "histogram": [
           {
            "marker": {
             "colorbar": {
              "outlinewidth": 0,
              "ticks": ""
             }
            },
            "type": "histogram"
           }
          ],
          "histogram2d": [
           {
            "colorbar": {
             "outlinewidth": 0,
             "ticks": ""
            },
            "colorscale": [
             [
              0,
              "#0d0887"
             ],
             [
              0.1111111111111111,
              "#46039f"
             ],
             [
              0.2222222222222222,
              "#7201a8"
             ],
             [
              0.3333333333333333,
              "#9c179e"
             ],
             [
              0.4444444444444444,
              "#bd3786"
             ],
             [
              0.5555555555555556,
              "#d8576b"
             ],
             [
              0.6666666666666666,
              "#ed7953"
             ],
             [
              0.7777777777777778,
              "#fb9f3a"
             ],
             [
              0.8888888888888888,
              "#fdca26"
             ],
             [
              1,
              "#f0f921"
             ]
            ],
            "type": "histogram2d"
           }
          ],
          "histogram2dcontour": [
           {
            "colorbar": {
             "outlinewidth": 0,
             "ticks": ""
            },
            "colorscale": [
             [
              0,
              "#0d0887"
             ],
             [
              0.1111111111111111,
              "#46039f"
             ],
             [
              0.2222222222222222,
              "#7201a8"
             ],
             [
              0.3333333333333333,
              "#9c179e"
             ],
             [
              0.4444444444444444,
              "#bd3786"
             ],
             [
              0.5555555555555556,
              "#d8576b"
             ],
             [
              0.6666666666666666,
              "#ed7953"
             ],
             [
              0.7777777777777778,
              "#fb9f3a"
             ],
             [
              0.8888888888888888,
              "#fdca26"
             ],
             [
              1,
              "#f0f921"
             ]
            ],
            "type": "histogram2dcontour"
           }
          ],
          "mesh3d": [
           {
            "colorbar": {
             "outlinewidth": 0,
             "ticks": ""
            },
            "type": "mesh3d"
           }
          ],
          "parcoords": [
           {
            "line": {
             "colorbar": {
              "outlinewidth": 0,
              "ticks": ""
             }
            },
            "type": "parcoords"
           }
          ],
          "pie": [
           {
            "automargin": true,
            "type": "pie"
           }
          ],
          "scatter": [
           {
            "marker": {
             "colorbar": {
              "outlinewidth": 0,
              "ticks": ""
             }
            },
            "type": "scatter"
           }
          ],
          "scatter3d": [
           {
            "line": {
             "colorbar": {
              "outlinewidth": 0,
              "ticks": ""
             }
            },
            "marker": {
             "colorbar": {
              "outlinewidth": 0,
              "ticks": ""
             }
            },
            "type": "scatter3d"
           }
          ],
          "scattercarpet": [
           {
            "marker": {
             "colorbar": {
              "outlinewidth": 0,
              "ticks": ""
             }
            },
            "type": "scattercarpet"
           }
          ],
          "scattergeo": [
           {
            "marker": {
             "colorbar": {
              "outlinewidth": 0,
              "ticks": ""
             }
            },
            "type": "scattergeo"
           }
          ],
          "scattergl": [
           {
            "marker": {
             "colorbar": {
              "outlinewidth": 0,
              "ticks": ""
             }
            },
            "type": "scattergl"
           }
          ],
          "scattermapbox": [
           {
            "marker": {
             "colorbar": {
              "outlinewidth": 0,
              "ticks": ""
             }
            },
            "type": "scattermapbox"
           }
          ],
          "scatterpolar": [
           {
            "marker": {
             "colorbar": {
              "outlinewidth": 0,
              "ticks": ""
             }
            },
            "type": "scatterpolar"
           }
          ],
          "scatterpolargl": [
           {
            "marker": {
             "colorbar": {
              "outlinewidth": 0,
              "ticks": ""
             }
            },
            "type": "scatterpolargl"
           }
          ],
          "scatterternary": [
           {
            "marker": {
             "colorbar": {
              "outlinewidth": 0,
              "ticks": ""
             }
            },
            "type": "scatterternary"
           }
          ],
          "surface": [
           {
            "colorbar": {
             "outlinewidth": 0,
             "ticks": ""
            },
            "colorscale": [
             [
              0,
              "#0d0887"
             ],
             [
              0.1111111111111111,
              "#46039f"
             ],
             [
              0.2222222222222222,
              "#7201a8"
             ],
             [
              0.3333333333333333,
              "#9c179e"
             ],
             [
              0.4444444444444444,
              "#bd3786"
             ],
             [
              0.5555555555555556,
              "#d8576b"
             ],
             [
              0.6666666666666666,
              "#ed7953"
             ],
             [
              0.7777777777777778,
              "#fb9f3a"
             ],
             [
              0.8888888888888888,
              "#fdca26"
             ],
             [
              1,
              "#f0f921"
             ]
            ],
            "type": "surface"
           }
          ],
          "table": [
           {
            "cells": {
             "fill": {
              "color": "#EBF0F8"
             },
             "line": {
              "color": "white"
             }
            },
            "header": {
             "fill": {
              "color": "#C8D4E3"
             },
             "line": {
              "color": "white"
             }
            },
            "type": "table"
           }
          ]
         },
         "layout": {
          "annotationdefaults": {
           "arrowcolor": "#2a3f5f",
           "arrowhead": 0,
           "arrowwidth": 1
          },
          "coloraxis": {
           "colorbar": {
            "outlinewidth": 0,
            "ticks": ""
           }
          },
          "colorscale": {
           "diverging": [
            [
             0,
             "#8e0152"
            ],
            [
             0.1,
             "#c51b7d"
            ],
            [
             0.2,
             "#de77ae"
            ],
            [
             0.3,
             "#f1b6da"
            ],
            [
             0.4,
             "#fde0ef"
            ],
            [
             0.5,
             "#f7f7f7"
            ],
            [
             0.6,
             "#e6f5d0"
            ],
            [
             0.7,
             "#b8e186"
            ],
            [
             0.8,
             "#7fbc41"
            ],
            [
             0.9,
             "#4d9221"
            ],
            [
             1,
             "#276419"
            ]
           ],
           "sequential": [
            [
             0,
             "#0d0887"
            ],
            [
             0.1111111111111111,
             "#46039f"
            ],
            [
             0.2222222222222222,
             "#7201a8"
            ],
            [
             0.3333333333333333,
             "#9c179e"
            ],
            [
             0.4444444444444444,
             "#bd3786"
            ],
            [
             0.5555555555555556,
             "#d8576b"
            ],
            [
             0.6666666666666666,
             "#ed7953"
            ],
            [
             0.7777777777777778,
             "#fb9f3a"
            ],
            [
             0.8888888888888888,
             "#fdca26"
            ],
            [
             1,
             "#f0f921"
            ]
           ],
           "sequentialminus": [
            [
             0,
             "#0d0887"
            ],
            [
             0.1111111111111111,
             "#46039f"
            ],
            [
             0.2222222222222222,
             "#7201a8"
            ],
            [
             0.3333333333333333,
             "#9c179e"
            ],
            [
             0.4444444444444444,
             "#bd3786"
            ],
            [
             0.5555555555555556,
             "#d8576b"
            ],
            [
             0.6666666666666666,
             "#ed7953"
            ],
            [
             0.7777777777777778,
             "#fb9f3a"
            ],
            [
             0.8888888888888888,
             "#fdca26"
            ],
            [
             1,
             "#f0f921"
            ]
           ]
          },
          "colorway": [
           "#636efa",
           "#EF553B",
           "#00cc96",
           "#ab63fa",
           "#FFA15A",
           "#19d3f3",
           "#FF6692",
           "#B6E880",
           "#FF97FF",
           "#FECB52"
          ],
          "font": {
           "color": "#2a3f5f"
          },
          "geo": {
           "bgcolor": "white",
           "lakecolor": "white",
           "landcolor": "#E5ECF6",
           "showlakes": true,
           "showland": true,
           "subunitcolor": "white"
          },
          "hoverlabel": {
           "align": "left"
          },
          "hovermode": "closest",
          "mapbox": {
           "style": "light"
          },
          "paper_bgcolor": "white",
          "plot_bgcolor": "#E5ECF6",
          "polar": {
           "angularaxis": {
            "gridcolor": "white",
            "linecolor": "white",
            "ticks": ""
           },
           "bgcolor": "#E5ECF6",
           "radialaxis": {
            "gridcolor": "white",
            "linecolor": "white",
            "ticks": ""
           }
          },
          "scene": {
           "xaxis": {
            "backgroundcolor": "#E5ECF6",
            "gridcolor": "white",
            "gridwidth": 2,
            "linecolor": "white",
            "showbackground": true,
            "ticks": "",
            "zerolinecolor": "white"
           },
           "yaxis": {
            "backgroundcolor": "#E5ECF6",
            "gridcolor": "white",
            "gridwidth": 2,
            "linecolor": "white",
            "showbackground": true,
            "ticks": "",
            "zerolinecolor": "white"
           },
           "zaxis": {
            "backgroundcolor": "#E5ECF6",
            "gridcolor": "white",
            "gridwidth": 2,
            "linecolor": "white",
            "showbackground": true,
            "ticks": "",
            "zerolinecolor": "white"
           }
          },
          "shapedefaults": {
           "line": {
            "color": "#2a3f5f"
           }
          },
          "ternary": {
           "aaxis": {
            "gridcolor": "white",
            "linecolor": "white",
            "ticks": ""
           },
           "baxis": {
            "gridcolor": "white",
            "linecolor": "white",
            "ticks": ""
           },
           "bgcolor": "#E5ECF6",
           "caxis": {
            "gridcolor": "white",
            "linecolor": "white",
            "ticks": ""
           }
          },
          "title": {
           "x": 0.05
          },
          "xaxis": {
           "automargin": true,
           "gridcolor": "white",
           "linecolor": "white",
           "ticks": "",
           "title": {
            "standoff": 15
           },
           "zerolinecolor": "white",
           "zerolinewidth": 2
          },
          "yaxis": {
           "automargin": true,
           "gridcolor": "white",
           "linecolor": "white",
           "ticks": "",
           "title": {
            "standoff": 15
           },
           "zerolinecolor": "white",
           "zerolinewidth": 2
          }
         }
        },
        "title": {
         "font": {
          "size": 16
         },
         "text": "Concept Lattice"
        },
        "width": 1000,
        "xaxis": {
         "showgrid": false,
         "showticklabels": false,
         "zeroline": false
        },
        "yaxis": {
         "showgrid": false,
         "showticklabels": false,
         "zeroline": false
        }
       }
      },
      "text/html": [
       "<div>\n",
       "        \n",
       "        \n",
       "            <div id=\"83a593d4-2c18-45dd-8735-74584a21f2ec\" class=\"plotly-graph-div\" style=\"height:500px; width:1000px;\"></div>\n",
       "            <script type=\"text/javascript\">\n",
       "                require([\"plotly\"], function(Plotly) {\n",
       "                    window.PLOTLYENV=window.PLOTLYENV || {};\n",
       "                    \n",
       "                if (document.getElementById(\"83a593d4-2c18-45dd-8735-74584a21f2ec\")) {\n",
       "                    Plotly.newPlot(\n",
       "                        '83a593d4-2c18-45dd-8735-74584a21f2ec',\n",
       "                        [{\"hoverinfo\": \"none\", \"line\": {\"color\": \"#888\", \"width\": 0.5}, \"mode\": \"lines\", \"type\": \"scatter\", \"x\": [-2.5, 0.0, null, -2.5, -3.0, null, -4.5, 0.0, null, -4.5, 0.5, null, -3.5, 0.0, null, -3.5, 0.5, null, 1.0, 0.0, null, 1.0, 3.5, null, -2.5, 0.0, null, -2.5, 0.5, null, -1.5, 0.0, null, -1.5, 0.5, null, -0.5, 0.0, null, -0.5, -2.0, null, 2.0, 0.0, null, 2.0, 3.5, null, 5.5, 0.0, null, 5.5, 4.5, null, -2.5, 0.0, null, -2.5, 0.5, null, 3.0, 0.0, null, 3.0, 4.5, null, -1.5, 0.0, null, -1.5, -3.0, null, -0.5, 0.0, null, -0.5, -0.5, null, -0.5, 0.5, null, -1.5, 0.0, null, -1.5, 0.5, null, -6.5, 0.0, null, -6.5, -4.5, null, 0.5, 0.0, null, 0.5, -0.5, null, 0.5, 0.5, null, 5.5, 0.0, null, 5.5, 6.5, null, -6.5, 0.0, null, -6.5, -3.5, null, 4.0, 0.0, null, 4.0, 2.5, null, 6.5, 0.0, null, 6.5, 6.5, null, -5.5, 0.0, null, -5.5, -4.5, null, -2.5, 0.0, null, -2.5, 2.5, null, 3.5, 0.0, null, 3.5, 0.0, null, 0.5, -2.0, null, -5.5, 0.0, null, -5.5, -3.5, null, -4.5, 0.0, null, -4.5, -3.5, null, -3.0, 1.5, null, 3.5, 0.5, null, -3.5, 0.0, null, -3.5, -4.5, null, -4.5, 0.0, null, -4.5, 2.5, null, -0.5, 0.0, null, -0.5, 1.5, null, -3.5, 0.0, null, -3.5, 4.5, null, -2.5, 0.0, null, -2.5, 3.5, null, -2.5, 4.5, null, 0.5, 0.0, null, 0.5, 2.5, null, -1.5, 0.0, null, -1.5, 1.5, null, 1.5, 0.0, null, 1.5, 1.5, null, -2.0, 2.5, null, -2.0, 0.5, null, -0.5, 0.0, null, -0.5, 1.5, null, 6.5, 4.5, null, 0.5, 0.0, null, 0.5, 2.5, null, 1.5, 0.0, null, 1.5, 4.5, null, -1.5, 0.0, null, -1.5, 4.5, null, 2.5, 0.0, null, 2.5, 2.5, null, -4.5, -4.5, null, -0.5, 0.0, null, -0.5, 2.5, null, 4.5, 0.0, null, -3.5, -3.5, null, 2.5, -0.5, null, 3.5, 0.0, null, 3.5, 4.5, null, 0.5, 0.0, null, 0.5, 4.5, null, 1.5, 3.5, null, 4.5, 0.0, null, 4.5, 3.5, null, -4.5, -4.0, null, 0.0, 4.5, null, 2.5, 2.5, null, 3.5, 1.5, null, -0.5, 0.0, null, -3.5, -4.0, null, 2.5, 4.5, null, 1.5, -1.0, null, 3.5, 4.5, null, 4.5, 0.5, null, 4.5, 4.5, null, -4.0, 1.5, null, 4.5, 2.5, null, 2.5, -1.0, null, -1.0, 1.5, null, 1.5, 0.5, null, 0.5, 0.0, null], \"y\": [5, 1, null, 5, 6, null, 7, 1, null, 7, 8, null, 7, 1, null, 7, 8, null, 6, 1, null, 6, 7, null, 7, 1, null, 7, 8, null, 7, 1, null, 7, 8, null, 5, 1, null, 5, 6, null, 6, 1, null, 6, 7, null, 4, 1, null, 4, 5, null, 4, 1, null, 4, 5, null, 6, 1, null, 6, 7, null, 5, 1, null, 5, 6, null, 7, 1, null, 7, 8, null, 7, 8, null, 4, 1, null, 4, 5, null, 3, 1, null, 3, 4, null, 7, 1, null, 7, 8, null, 7, 8, null, 3, 1, null, 3, 4, null, 4, 1, null, 4, 5, null, 6, 1, null, 6, 7, null, 3, 1, null, 3, 4, null, 4, 1, null, 4, 5, null, 3, 1, null, 3, 4, null, 5, 1, null, 5, 6, null, 5, 6, null, 3, 1, null, 3, 4, null, 3, 1, null, 3, 4, null, 6, 7, null, 7, 8, null, 3, 1, null, 3, 4, null, 2, 1, null, 2, 3, null, 4, 1, null, 4, 5, null, 2, 1, null, 2, 3, null, 2, 1, null, 2, 3, null, 2, 3, null, 4, 1, null, 4, 5, null, 2, 1, null, 2, 3, null, 4, 1, null, 4, 5, null, 6, 7, null, 6, 8, null, 2, 1, null, 2, 3, null, 4, 5, null, 2, 1, null, 2, 3, null, 2, 1, null, 2, 3, null, 3, 1, null, 3, 4, null, 2, 1, null, 2, 3, null, 4, 5, null, 3, 1, null, 3, 4, null, 5, 6, null, 4, 5, null, 7, 8, null, 2, 1, null, 2, 3, null, 3, 1, null, 3, 4, null, 3, 4, null, 2, 1, null, 2, 3, null, 5, 6, null, 6, 7, null, 4, 5, null, 4, 5, null, 8, 9, null, 5, 6, null, 3, 4, null, 5, 6, null, 3, 4, null, 7, 8, null, 3, 4, null, 6, 7, null, 4, 5, null, 5, 6, null, 6, 7, null, 7, 8, null, 8, 9, null]}, {\"hoverinfo\": \"text\", \"hovertext\": [\"PatternStructure 64<br><br>extent (len: 2): 3932, 1928<br>intent (len: 14): loan in [0, 1], balance in [-242, 3472], default = 0, contact = cellular, age in [22, 25],...<br>new extent (len: 2): 3932, 1928<br>new_intent (len: 7): campaign, balance, poutcome, age, education,...<br>metric strongness = 1.0<br>metric stab_min_bound = 0.75<br>metric stab_max_bound = 0.75<br>metric log_stab_min_bound = 2.0<br>metric log_stab_max_bound = 2.0<br>metric lstab_min_bound = -12.0<br>metric n_uncovered = 0<br>\", \"PatternStructure 69<br><br>extent (len: 2): 975, 2780<br>intent (len: 13): poutcome = unknown, default = 0, contact = cellular, housing = 0, education = secondary,...<br>new extent (len: 2): 975, 2780<br>new_intent (len: 12): marital, campaign, housing, balance, month,...<br>metric strongness = 1.0<br>metric stab_min_bound = 0.75<br>metric stab_max_bound = 0.75<br>metric log_stab_min_bound = 2.0<br>metric log_stab_max_bound = 2.0<br>metric lstab_min_bound = -12.0<br>metric n_uncovered = 0<br>\", \"PatternStructure 68<br><br>extent (len: 2): 970, 3013<br>intent (len: 13): campaign in [1, 2], default = 0, marital = married, contact = cellular, previous in [0, 1],...<br>new extent (len: 2): 970, 3013<br>new_intent (len: 12): marital, campaign, housing, balance, month,...<br>metric strongness = 1.0<br>metric stab_min_bound = 0.75<br>metric stab_max_bound = 0.75<br>metric log_stab_min_bound = 2.0<br>metric log_stab_max_bound = 2.0<br>metric lstab_min_bound = -12.0<br>metric n_uncovered = 0<br>\", \"PatternStructure 67<br><br>extent (len: 2): 412, 503<br>intent (len: 13): campaign in [1, 2], default = 0, contact = cellular, job in [\\\"retired\\\", \\\"student\\\"], marital in [\\\"divorced\\\", \\\"single\\\"],...<br>new extent (len: 2): 412, 503<br>new_intent (len: 6): marital, balance, month, poutcome, previous,...<br>metric strongness = 1.0<br>metric stab_min_bound = 0.75<br>metric stab_max_bound = 0.75<br>metric log_stab_min_bound = 2.0<br>metric log_stab_max_bound = 2.0<br>metric lstab_min_bound = -12.0<br>metric n_uncovered = 0<br>\", \"PatternStructure 65<br><br>extent (len: 2): 199, 2821<br>intent (len: 13): loan in [0, 1], poutcome in [\\\"success\\\", \\\"unknown\\\"], marital in [\\\"divorced\\\", \\\"married\\\"], job in [\\\"retired\\\", \\\"technician\\\"], default = 0,...<br>new extent (len: 2): 199, 2821<br>new_intent (len: 11): marital, campaign, housing, balance, month,...<br>metric strongness = 1.0<br>metric stab_min_bound = 0.75<br>metric stab_max_bound = 0.75<br>metric log_stab_min_bound = 2.0<br>metric log_stab_max_bound = 2.0<br>metric lstab_min_bound = -12.0<br>metric n_uncovered = 0<br>\", \"PatternStructure 66<br><br>extent (len: 2): 2988, 2773<br>intent (len: 13): contact in [\\\"cellular\\\", \\\"telephone\\\"], balance in [0, 2543], campaign = 1, default = 0, previous in [0, 4],...<br>new extent (len: 2): 2988, 2773<br>new_intent (len: 10): marital, campaign, balance, month, poutcome,...<br>metric strongness = 1.0<br>metric stab_min_bound = 0.75<br>metric stab_max_bound = 0.75<br>metric log_stab_min_bound = 2.0<br>metric log_stab_max_bound = 2.0<br>metric lstab_min_bound = -12.0<br>metric n_uncovered = 0<br>\", \"PatternStructure 62<br><br>extent (len: 2): 3589, 129<br>intent (len: 13): poutcome in [\\\"success\\\", \\\"unknown\\\"], marital in [\\\"divorced\\\", \\\"married\\\"], campaign in [1, 2], default = 0, contact = cellular,...<br>new extent (len: 2): 3589, 129<br>new_intent (len: 5): marital, balance, month, age, job<br>metric strongness = 1.0<br>metric stab_min_bound = 0.75<br>metric stab_max_bound = 0.75<br>metric log_stab_min_bound = 2.0<br>metric log_stab_max_bound = 2.0<br>metric lstab_min_bound = -12.0<br>metric n_uncovered = 0<br>\", \"PatternStructure 63<br><br>extent (len: 2): 189, 2471<br>intent (len: 13): default = 0, contact = cellular, job in [\\\"retired\\\", \\\"student\\\"], balance in [-1206, 2488], education = secondary,...<br>new extent (len: 2): 189, 2471<br>new_intent (len: 7): marital, campaign, balance, month, poutcome,...<br>metric strongness = 1.0<br>metric stab_min_bound = 0.75<br>metric stab_max_bound = 0.75<br>metric log_stab_min_bound = 2.0<br>metric log_stab_max_bound = 2.0<br>metric lstab_min_bound = -12.0<br>metric n_uncovered = 0<br>\", \"PatternStructure 58<br><br>extent (len: 3): 3311, 1349, 1312<br>intent (len: 13): contact in [\\\"cellular\\\", \\\"telephone\\\"], campaign = 1, default = 0, marital = married, age in [80, 87],...<br>new extent (len: 3): 3311, 1349, 1312<br>new_intent (len: 8): marital, campaign, housing, month, poutcome,...<br>metric strongness = 1.0<br>metric stab_min_bound = 0.875<br>metric stab_max_bound = 0.875<br>metric log_stab_min_bound = 3.0<br>metric log_stab_max_bound = 3.0<br>metric lstab_min_bound = -11.0<br>metric n_uncovered = 0<br>\", \"PatternStructure 61<br><br>extent (len: 3): 504, 2421, 2251<br>intent (len: 13): poutcome in [\\\"success\\\", \\\"unknown\\\"], campaign in [1, 2], default = 0, contact = cellular, housing = 0,...<br>new extent (len: 3): 504, 2421, 2251<br>new_intent (len: 4): marital, age, balance, job<br>metric strongness = 1.0<br>metric stab_min_bound = 0.875<br>metric stab_max_bound = 0.875<br>metric log_stab_min_bound = 3.0<br>metric log_stab_max_bound = 3.0<br>metric lstab_min_bound = -11.0<br>metric n_uncovered = 0<br>\", \"PatternStructure 60<br><br>extent (len: 3): 2962, 2176, 464<br>intent (len: 13): previous in [0, 14], poutcome in [\\\"success\\\", \\\"unknown\\\"], campaign = 1, default = 0, contact = cellular,...<br>new extent (len: 3): 2962, 2176, 464<br>new_intent (len: 11): marital, campaign, housing, balance, month,...<br>metric strongness = 1.0<br>metric stab_min_bound = 0.875<br>metric stab_max_bound = 0.875<br>metric log_stab_min_bound = 3.0<br>metric log_stab_max_bound = 3.0<br>metric lstab_min_bound = -11.0<br>metric n_uncovered = 0<br>\", \"PatternStructure 59<br><br>extent (len: 3): 4216, 4213, 4232<br>intent (len: 14): loan in [0, 1], default = 0, contact = cellular, job in [\\\"admin.\\\", \\\"technician\\\"], balance in [-522, 459],...<br>new extent (len: 3): 4232, 4216, 4213<br>new_intent (len: 7): campaign, balance, pdays, poutcome, age,...<br>metric strongness = 1.0<br>metric stab_min_bound = 0.875<br>metric stab_max_bound = 0.875<br>metric log_stab_min_bound = 3.0<br>metric log_stab_max_bound = 3.0<br>metric lstab_min_bound = -11.0<br>metric n_uncovered = 0<br>\", \"PatternStructure 57<br><br>extent (len: 3): 1672, 3695, 1303<br>intent (len: 13): job in [\\\"management\\\", \\\"services\\\"], poutcome in [\\\"success\\\", \\\"unknown\\\"], campaign in [1, 2], default = 0, contact = cellular,...<br>new extent (len: 3): 1672, 3695, 1303<br>new_intent (len: 10): marital, campaign, balance, month, contact,...<br>metric strongness = 1.0<br>metric stab_min_bound = 0.875<br>metric stab_max_bound = 0.875<br>metric log_stab_min_bound = 3.0<br>metric log_stab_max_bound = 3.0<br>metric lstab_min_bound = -11.0<br>metric n_uncovered = 0<br>\", \"PatternStructure 55<br><br>extent (len: 4): 3789, 504, 3558, 2251<br>intent (len: 13): poutcome in [\\\"success\\\", \\\"unknown\\\"], marital in [\\\"divorced\\\", \\\"married\\\"], campaign in [1, 2], default = 0, contact = cellular,...<br>new extent (len: 4): 504, 2251, 3558, 3789<br>new_intent (len: 1): marital<br>metric strongness = 1.0<br>metric stab_min_bound = 0.9375<br>metric stab_max_bound = 0.9375<br>metric log_stab_min_bound = 4.0<br>metric log_stab_max_bound = 4.0<br>metric lstab_min_bound = -10.0<br>metric n_uncovered = 0<br>\", \"PatternStructure 56<br><br>extent (len: 4): 3527, 83, 3317, 2444<br>intent (len: 14): job in [\\\"management\\\", \\\"services\\\"], contact in [\\\"cellular\\\", \\\"telephone\\\"], age in [25, 52], campaign in [1, 2], default = 0,...<br>new extent (len: 4): 3527, 83, 3317, 2444<br>new_intent (len: 9): campaign, balance, pdays, month, poutcome,...<br>metric strongness = 1.0<br>metric stab_min_bound = 0.9375<br>metric stab_max_bound = 0.9375<br>metric log_stab_min_bound = 4.0<br>metric log_stab_max_bound = 4.0<br>metric lstab_min_bound = -10.0<br>metric n_uncovered = 0<br>\", \"PatternStructure 54<br><br>extent (len: 4): 3684, 4108, 164, 36<br>intent (len: 13): contact in [\\\"cellular\\\", \\\"telephone\\\"], balance in [80, 639], poutcome in [\\\"failure\\\", \\\"success\\\", \\\"unknown\\\"], default = 0, housing = 0,...<br>new extent (len: 4): 3684, 4108, 164, 36<br>new_intent (len: 6): marital, balance, month, previous, education,...<br>metric strongness = 1.0<br>metric stab_min_bound = 0.9375<br>metric stab_max_bound = 0.9375<br>metric log_stab_min_bound = 4.0<br>metric log_stab_max_bound = 4.0<br>metric lstab_min_bound = -10.0<br>metric n_uncovered = 0<br>\", \"PatternStructure 52<br><br>extent (len: 4): 1469, 1230, 4364, 3331<br>intent (len: 13): poutcome in [\\\"success\\\", \\\"unknown\\\"], marital in [\\\"divorced\\\", \\\"married\\\"], job in [\\\"management\\\", \\\"retired\\\", \\\"technician\\\"], default = 0, contact = cellular,...<br>new extent (len: 4): 1469, 1230, 4364, 3331<br>new_intent (len: 8): balance, month, contact, poutcome, age,...<br>metric strongness = 1.0<br>metric stab_min_bound = 0.9375<br>metric stab_max_bound = 0.9375<br>metric log_stab_min_bound = 4.0<br>metric log_stab_max_bound = 4.0<br>metric lstab_min_bound = -10.0<br>metric n_uncovered = 0<br>\", \"PatternStructure 51<br><br>extent (len: 4): 1056, 3317, 1109, 1754<br>intent (len: 14): balance in [1, 3904], contact in [\\\"cellular\\\", \\\"telephone\\\"], pdays in [114.0, 378.0], default = 0, job in [\\\"entrepreneur\\\", \\\"management\\\", \\\"technician\\\"],...<br>new extent (len: 4): 1056, 3317, 1109, 1754<br>new_intent (len: 7): campaign, pdays, month, age, education,...<br>metric strongness = 1.0<br>metric stab_min_bound = 0.9375<br>metric stab_max_bound = 0.9375<br>metric log_stab_min_bound = 4.0<br>metric log_stab_max_bound = 4.0<br>metric lstab_min_bound = -10.0<br>metric n_uncovered = 0<br>\", \"PatternStructure 53<br><br>extent (len: 4): 3498, 1467, 2122, 3248<br>intent (len: 13): job in [\\\"retired\\\", \\\"services\\\", \\\"unemployed\\\"], poutcome in [\\\"success\\\", \\\"unknown\\\"], marital in [\\\"divorced\\\", \\\"married\\\"], campaign in [1, 2], default = 0,...<br>new extent (len: 4): 3498, 1467, 2122, 3248<br>new_intent (len: 6): marital, balance, month, age, education,...<br>metric strongness = 1.0<br>metric stab_min_bound = 0.9375<br>metric stab_max_bound = 0.9375<br>metric log_stab_min_bound = 4.0<br>metric log_stab_max_bound = 4.0<br>metric lstab_min_bound = -10.0<br>metric n_uncovered = 1<br>\", \"PatternStructure 46<br><br>extent (len: 5): 1349, 4364, 3005, 4388, 1415<br>intent (len: 13): job in [\\\"admin.\\\", \\\"retired\\\"], contact in [\\\"cellular\\\", \\\"telephone\\\"], marital in [\\\"divorced\\\", \\\"married\\\"], previous in [0, 9], month in [\\\"dec\\\", \\\"jun\\\", \\\"mar\\\"],...<br>new extent (len: 5): 1349, 4364, 3005, 4388, 1415<br>new_intent (len: 6): campaign, housing, balance, age, education,...<br>metric strongness = 1.0<br>metric stab_min_bound = 0.96875<br>metric stab_max_bound = 0.96875<br>metric log_stab_min_bound = 5.0<br>metric log_stab_max_bound = 5.0<br>metric lstab_min_bound = -9.0<br>metric n_uncovered = 0<br>\", \"PatternStructure 48<br><br>extent (len: 5): 3301, 3930, 328, 3005, 540<br>intent (len: 14): housing in [0, 1], poutcome in [\\\"other\\\", \\\"success\\\"], default = 0, contact = cellular, job in [\\\"admin.\\\", \\\"retired\\\", \\\"services\\\", \\\"unemployed\\\"],...<br>new extent (len: 5): 3301, 3930, 328, 3005, 540<br>new_intent (len: 8): balance, pdays, month, contact, poutcome,...<br>metric strongness = 1.0<br>metric stab_min_bound = 0.96875<br>metric stab_max_bound = 0.96875<br>metric log_stab_min_bound = 5.0<br>metric log_stab_max_bound = 5.0<br>metric lstab_min_bound = -9.0<br>metric n_uncovered = 0<br>\", \"PatternStructure 50<br><br>extent (len: 5): 3843, 3176, 3270, 540, 3896<br>intent (len: 14): loan in [0, 1], contact in [\\\"cellular\\\", \\\"telephone\\\"], poutcome = success, month in [\\\"apr\\\", \\\"jul\\\", \\\"may\\\"], default = 0,...<br>new extent (len: 5): 3843, 3176, 3270, 540, 3896<br>new_intent (len: 7): balance, pdays, month, age, education,...<br>metric strongness = 1.0<br>metric stab_min_bound = 0.96875<br>metric stab_max_bound = 0.96875<br>metric log_stab_min_bound = 5.0<br>metric log_stab_max_bound = 5.0<br>metric lstab_min_bound = -9.0<br>metric n_uncovered = 0<br>\", \"PatternStructure 47<br><br>extent (len: 5): 4364, 1467, 3743, 2685, 2014<br>intent (len: 13): loan in [0, 1], contact in [\\\"cellular\\\", \\\"telephone\\\"], default = 0, age in [42, 74], marital in [\\\"divorced\\\", \\\"single\\\"],...<br>new extent (len: 5): 4364, 1467, 3743, 2685, 2014<br>new_intent (len: 9): marital, campaign, balance, month, poutcome,...<br>metric strongness = 1.0<br>metric stab_min_bound = 0.96875<br>metric stab_max_bound = 0.96875<br>metric log_stab_min_bound = 5.0<br>metric log_stab_max_bound = 5.0<br>metric lstab_min_bound = -9.0<br>metric n_uncovered = 0<br>\", \"PatternStructure 49<br><br>extent (len: 5): 504, 2251, 2421, 3558, 3789<br>intent (len: 13): poutcome in [\\\"success\\\", \\\"unknown\\\"], campaign in [1, 2], default = 0, contact = cellular, housing = 0,...<br>new extent (len: 0): \\u2205<br>new_intent (len: 4): month, job, age, education<br>metric strongness = 1.0<br>metric stab_min_bound = 0.25<br>metric stab_max_bound = 0.5<br>metric log_stab_min_bound = 0.4150374992788438<br>metric log_stab_max_bound = 1.0<br>metric lstab_min_bound = -13.0<br>metric n_uncovered = 0<br>\", \"PatternStructure 42<br><br>extent (len: 6): 3978, 2213, 110, 4216, 2122,...<br>intent (len: 14): previous in [1, 4], default = 0, contact = cellular, housing = 0, campaign in [1, 6],...<br>new extent (len: 6): 3978, 2213, 110, 4216, 2122,...<br>new_intent (len: 7): balance, pdays, month, contact, previous,...<br>metric strongness = 1.0<br>metric stab_min_bound = 0.984375<br>metric stab_max_bound = 0.984375<br>metric log_stab_min_bound = 6.0<br>metric log_stab_max_bound = 6.0<br>metric lstab_min_bound = -8.0<br>metric n_uncovered = 0<br>\", \"PatternStructure 45<br><br>extent (len: 6): 1124, 492, 3088, 2486, 3931,...<br>intent (len: 14): contact in [\\\"cellular\\\", \\\"telephone\\\"], pdays in [91.0, 683.0], campaign in [1, 2], default = 0, job in [\\\"admin.\\\", \\\"technician\\\", \\\"unknown\\\"],...<br>new extent (len: 6): 1124, 492, 2486, 3088, 3931,...<br>new_intent (len: 6): campaign, month, previous, age, education,...<br>metric strongness = 1.0<br>metric stab_min_bound = 0.984375<br>metric stab_max_bound = 0.984375<br>metric log_stab_min_bound = 6.0<br>metric log_stab_max_bound = 6.0<br>metric lstab_min_bound = -8.0<br>metric n_uncovered = 0<br>\", \"PatternStructure 44<br><br>extent (len: 6): 3932, 1928, 4433, 4213, 4232,...<br>intent (len: 14): loan in [0, 1], balance in [-522, 3472], education in [\\\"primary\\\", \\\"secondary\\\", \\\"tertiary\\\"], contact = cellular, poutcome in [\\\"failure\\\", \\\"other\\\", \\\"success\\\"],...<br>new extent (len: 1): 4433<br>new_intent (len: 10): marital, campaign, balance, pdays, month,...<br>metric strongness = 0.3157894736842105<br>metric stab_min_bound = 0.8125<br>metric stab_max_bound = 0.875<br>metric log_stab_min_bound = 2.415037499278844<br>metric log_stab_max_bound = 3.0<br>metric lstab_min_bound = -11.0<br>metric n_uncovered = 0<br>\", \"PatternStructure 43<br><br>extent (len: 6): 2780, 503, 4364, 189, 2471,...<br>intent (len: 13): month in [\\\"jul\\\", \\\"jun\\\", \\\"nov\\\"], campaign in [1, 2], education in [\\\"primary\\\", \\\"secondary\\\", \\\"tertiary\\\"], contact = cellular, job in [\\\"retired\\\", \\\"student\\\"],...<br>new extent (len: 2): 2780, 4364<br>new_intent (len: 10): campaign, balance, month, contact, poutcome,...<br>metric strongness = 0.24<br>metric stab_min_bound = 0.875<br>metric stab_max_bound = 0.9375<br>metric log_stab_min_bound = 3.0<br>metric log_stab_max_bound = 4.0<br>metric lstab_min_bound = -10.0<br>metric n_uncovered = 0<br>\", \"PatternStructure 39<br><br>extent (len: 7): 2444, 2988, 3370, 3270, 3239,...<br>intent (len: 14): job in [\\\"blue-collar\\\", \\\"entrepreneur\\\", \\\"management\\\", \\\"student\\\"], previous in [1, 4], education in [\\\"primary\\\", \\\"secondary\\\", \\\"tertiary\\\"], contact = cellular, default = 0,...<br>new extent (len: 7): 2444, 2988, 3370, 3270, 3239,...<br>new_intent (len: 5): marital, month, contact, age, job<br>metric strongness = 1.0<br>metric stab_min_bound = 0.9921875<br>metric stab_max_bound = 0.9921875<br>metric log_stab_min_bound = 7.0<br>metric log_stab_max_bound = 7.0<br>metric lstab_min_bound = -7.0<br>metric n_uncovered = 0<br>\", \"PatternStructure 40<br><br>extent (len: 7): 2188, 4160, 2266, 492, 4224,...<br>intent (len: 14): pdays in [90.0, 278.0], contact in [\\\"cellular\\\", \\\"telephone\\\"], poutcome = success, balance in [-242, 1978], job in [\\\"admin.\\\", \\\"retired\\\", \\\"technician\\\", \\\"unemployed\\\"],...<br>new extent (len: 7): 2188, 4160, 2266, 492, 4224,...<br>new_intent (len: 8): balance, pdays, month, age, education,...<br>metric strongness = 1.0<br>metric stab_min_bound = 0.9921875<br>metric stab_max_bound = 0.9921875<br>metric log_stab_min_bound = 7.0<br>metric log_stab_max_bound = 7.0<br>metric lstab_min_bound = -7.0<br>metric n_uncovered = 0<br>\", \"PatternStructure 41<br><br>extent (len: 7): 1181, 1048, 684, 3658, 1485,...<br>intent (len: 14): contact in [\\\"cellular\\\", \\\"telephone\\\"], poutcome in [\\\"other\\\", \\\"success\\\"], default = 0, housing = 0, campaign in [1, 6],...<br>new extent (len: 7): 1048, 1181, 684, 3658, 1485,...<br>new_intent (len: 10): marital, campaign, housing, balance, pdays,...<br>metric strongness = 1.0<br>metric stab_min_bound = 0.9921875<br>metric stab_max_bound = 0.9921875<br>metric log_stab_min_bound = 7.0<br>metric log_stab_max_bound = 7.0<br>metric lstab_min_bound = -7.0<br>metric n_uncovered = 0<br>\", \"PatternStructure 38<br><br>extent (len: 8): 1056, 3250, 684, 3088, 2847,...<br>intent (len: 14): contact in [\\\"cellular\\\", \\\"telephone\\\"], job in [\\\"blue-collar\\\", \\\"entrepreneur\\\", \\\"services\\\", \\\"technician\\\"], poutcome = success, previous in [1, 4], education in [\\\"primary\\\", \\\"secondary\\\", \\\"tertiary\\\"],...<br>new extent (len: 8): 1056, 3250, 684, 3088, 2847,...<br>new_intent (len: 11): marital, campaign, housing, balance, pdays,...<br>metric strongness = 1.0<br>metric stab_min_bound = 0.99609375<br>metric stab_max_bound = 0.99609375<br>metric log_stab_min_bound = 8.0<br>metric log_stab_max_bound = 8.0<br>metric lstab_min_bound = -6.0<br>metric n_uncovered = 0<br>\", \"PatternStructure 37<br><br>extent (len: 9): 98, 3835, 3256, 2176, 1952,...<br>intent (len: 14): loan in [0, 1], contact in [\\\"cellular\\\", \\\"telephone\\\"], poutcome = success, age in [28, 41], default = 0,...<br>new extent (len: 9): 98, 3835, 3256, 2176, 1952,...<br>new_intent (len: 6): balance, pdays, month, age, education,...<br>metric strongness = 1.0<br>metric stab_min_bound = 0.998046875<br>metric stab_max_bound = 0.998046875<br>metric log_stab_min_bound = 9.0<br>metric log_stab_max_bound = 9.0<br>metric lstab_min_bound = -5.0<br>metric n_uncovered = 0<br>\", \"PatternStructure 34<br><br>extent (len: 9): 3684, 3695, 199, 1124, 3176,...<br>intent (len: 14): contact in [\\\"cellular\\\", \\\"telephone\\\"], job in [\\\"admin.\\\", \\\"management\\\", \\\"retired\\\", \\\"technician\\\"], poutcome = success, balance in [0, 5514], default = 0,...<br>new extent (len: 9): 3684, 3695, 199, 1124, 3176,...<br>new_intent (len: 11): marital, campaign, housing, balance, pdays,...<br>metric strongness = 1.0<br>metric stab_min_bound = 0.998046875<br>metric stab_max_bound = 0.998046875<br>metric log_stab_min_bound = 9.0<br>metric log_stab_max_bound = 9.0<br>metric lstab_min_bound = -5.0<br>metric n_uncovered = 0<br>\", \"PatternStructure 36<br><br>extent (len: 9): 3684, 3835, 3695, 1754, 2251,...<br>intent (len: 14): balance in [19, 5037], contact in [\\\"cellular\\\", \\\"telephone\\\"], poutcome in [\\\"other\\\", \\\"success\\\"], month in [\\\"apr\\\", \\\"feb\\\", \\\"jul\\\", \\\"mar\\\"], education in [\\\"primary\\\", \\\"secondary\\\", \\\"tertiary\\\"],...<br>new extent (len: 9): 3684, 3835, 3695, 2251, 1754,...<br>new_intent (len: 6): housing, balance, pdays, month, age,...<br>metric strongness = 1.0<br>metric stab_min_bound = 0.998046875<br>metric stab_max_bound = 0.998046875<br>metric log_stab_min_bound = 9.0<br>metric log_stab_max_bound = 9.0<br>metric lstab_min_bound = -5.0<br>metric n_uncovered = 0<br>\", \"PatternStructure 35<br><br>extent (len: 9): 1048, 1181, 2665, 3502, 2992,...<br>intent (len: 14): contact in [\\\"cellular\\\", \\\"telephone\\\"], poutcome in [\\\"other\\\", \\\"success\\\"], age in [22, 77], campaign in [1, 2], education in [\\\"primary\\\", \\\"secondary\\\", \\\"tertiary\\\"],...<br>new extent (len: 9): 1048, 1181, 2665, 3502, 2992,...<br>new_intent (len: 6): campaign, balance, pdays, month, previous,...<br>metric strongness = 1.0<br>metric stab_min_bound = 0.998046875<br>metric stab_max_bound = 0.998046875<br>metric log_stab_min_bound = 9.0<br>metric log_stab_max_bound = 9.0<br>metric lstab_min_bound = -5.0<br>metric n_uncovered = 0<br>\", \"PatternStructure 33<br><br>extent (len: 9): 3789, 504, 2251, 3589, 2421,...<br>intent (len: 13): month in [\\\"apr\\\", \\\"feb\\\", \\\"nov\\\", \\\"oct\\\"], poutcome in [\\\"success\\\", \\\"unknown\\\"], campaign in [1, 2], default = 0, contact = cellular,...<br>new extent (len: 2): 1303, 1437<br>new_intent (len: 5): month, contact, previous, education, job<br>metric strongness = 0.34615384615384615<br>metric stab_min_bound = 0.9296875<br>metric stab_max_bound = 0.9375<br>metric log_stab_min_bound = 3.830074998557688<br>metric log_stab_max_bound = 4.0<br>metric lstab_min_bound = -10.0<br>metric n_uncovered = 0<br>\", \"PatternStructure 32<br><br>extent (len: 11): 3684, 3695, 1754, 4216, 156,...<br>intent (len: 14): poutcome in [\\\"other\\\", \\\"success\\\"], default = 0, contact = cellular, campaign in [1, 6], marital in [\\\"divorced\\\", \\\"married\\\", \\\"single\\\"],...<br>new extent (len: 11): 3684, 3695, 1754, 156, 880,...<br>new_intent (len: 9): campaign, balance, pdays, month, contact,...<br>metric strongness = 1.0<br>metric stab_min_bound = 0.99951171875<br>metric stab_max_bound = 0.99951171875<br>metric log_stab_min_bound = 11.0<br>metric log_stab_max_bound = 11.0<br>metric lstab_min_bound = -3.0<br>metric n_uncovered = 0<br>\", \"PatternStructure 31<br><br>extent (len: 11): 3005, 1349, 4364, 156, 492,...<br>intent (len: 13): contact in [\\\"cellular\\\", \\\"telephone\\\"], marital in [\\\"divorced\\\", \\\"married\\\"], job in [\\\"admin.\\\", \\\"management\\\", \\\"retired\\\", \\\"technician\\\"], previous in [0, 9], month in [\\\"dec\\\", \\\"jun\\\", \\\"mar\\\"],...<br>new extent (len: 3): 156, 492, 4224<br>new_intent (len: 4): month, age, previous, balance<br>metric strongness = 0.7857142857142857<br>metric stab_min_bound = 0.9765625<br>metric stab_max_bound = 0.984375<br>metric log_stab_min_bound = 5.415037499278844<br>metric log_stab_max_bound = 6.0<br>metric lstab_min_bound = -8.0<br>metric n_uncovered = 0<br>\", \"PatternStructure 29<br><br>extent (len: 12): 233, 3256, 2251, 2917, 4433,...<br>intent (len: 14): loan in [0, 1], poutcome = success, default = 0, contact = cellular, age in [26, 45],...<br>new extent (len: 12): 233, 3256, 2917, 2251, 4433,...<br>new_intent (len: 8): balance, pdays, month, contact, age,...<br>metric strongness = 1.0<br>metric stab_min_bound = 0.999755859375<br>metric stab_max_bound = 0.999755859375<br>metric log_stab_min_bound = 12.0<br>metric log_stab_max_bound = 12.0<br>metric lstab_min_bound = -2.0<br>metric n_uncovered = 0<br>\", \"PatternStructure 27<br><br>extent (len: 12): 2188, 49, 156, 2539, 3751,...<br>intent (len: 14): poutcome = success, age in [31, 61], contact = cellular, default = 0, balance in [14, 4629],...<br>new extent (len: 12): 2188, 1469, 49, 2539, 156,...<br>new_intent (len: 10): campaign, balance, pdays, month, contact,...<br>metric strongness = 1.0<br>metric stab_min_bound = 0.999755859375<br>metric stab_max_bound = 0.999755859375<br>metric log_stab_min_bound = 12.0<br>metric log_stab_max_bound = 12.0<br>metric lstab_min_bound = -2.0<br>metric n_uncovered = 0<br>\", \"PatternStructure 26<br><br>extent (len: 12): 2251, 1060, 619, 2969, 323,...<br>intent (len: 14): poutcome = success, previous in [1, 4], default = 0, contact = cellular, job in [\\\"admin.\\\", \\\"blue-collar\\\", \\\"management\\\", \\\"self-employed\\\", \\\"technician\\\"],...<br>new extent (len: 12): 2251, 1060, 619, 2969, 323,...<br>new_intent (len: 11): marital, campaign, balance, pdays, month,...<br>metric strongness = 1.0<br>metric stab_min_bound = 0.999755859375<br>metric stab_max_bound = 0.999755859375<br>metric log_stab_min_bound = 12.0<br>metric log_stab_max_bound = 12.0<br>metric lstab_min_bound = -2.0<br>metric n_uncovered = 0<br>\", \"PatternStructure 28<br><br>extent (len: 12): 2188, 233, 49, 2266, 464,...<br>intent (len: 14): loan in [0, 1], poutcome = success, balance in [0, 4629], campaign in [1, 2], default = 0,...<br>new extent (len: 12): 2188, 233, 49, 2266, 464,...<br>new_intent (len: 8): campaign, balance, pdays, month, contact,...<br>metric strongness = 1.0<br>metric stab_min_bound = 0.999755859375<br>metric stab_max_bound = 0.999755859375<br>metric log_stab_min_bound = 12.0<br>metric log_stab_max_bound = 12.0<br>metric lstab_min_bound = -2.0<br>metric n_uncovered = 0<br>\", \"PatternStructure 30<br><br>extent (len: 12): 855, 3527, 83, 3317, 2444,...<br>intent (len: 14): contact in [\\\"cellular\\\", \\\"telephone\\\"], previous in [1, 4], education in [\\\"primary\\\", \\\"secondary\\\", \\\"tertiary\\\"], default = 0, marital in [\\\"divorced\\\", \\\"married\\\", \\\"single\\\"],...<br>new extent (len: 2): 855, 164<br>new_intent (len: 7): balance, pdays, month, poutcome, age,...<br>metric strongness = 0.8571428571428571<br>metric stab_min_bound = 0.96484375<br>metric stab_max_bound = 0.96875<br>metric log_stab_min_bound = 4.830074998557688<br>metric log_stab_max_bound = 5.0<br>metric lstab_min_bound = -9.0<br>metric n_uncovered = 0<br>\", \"PatternStructure 24<br><br>extent (len: 15): 3385, 1905, 1048, 3978, 3256,...<br>intent (len: 14): loan in [0, 1], contact in [\\\"cellular\\\", \\\"telephone\\\"], poutcome = success, education in [\\\"primary\\\", \\\"secondary\\\", \\\"tertiary\\\"], default = 0,...<br>new extent (len: 15): 3385, 1905, 1048, 3978, 3256,...<br>new_intent (len: 4): month, age, balance, job<br>metric strongness = 1.0<br>metric stab_min_bound = 0.999969482421875<br>metric stab_max_bound = 0.999969482421875<br>metric log_stab_min_bound = 15.0<br>metric log_stab_max_bound = 15.0<br>metric lstab_min_bound = 1.0<br>metric n_uncovered = 0<br>\", \"PatternStructure 25<br><br>extent (len: 15): 3005, 4388, 1349, 4364, 156,...<br>intent (len: 13): month in [\\\"dec\\\", \\\"jun\\\", \\\"mar\\\", \\\"oct\\\"], contact in [\\\"cellular\\\", \\\"telephone\\\"], marital in [\\\"divorced\\\", \\\"married\\\"], job in [\\\"admin.\\\", \\\"management\\\", \\\"retired\\\", \\\"technician\\\"], default = 0,...<br>new extent (len: 2): 4216, 2014<br>new_intent (len: 6): marital, balance, poutcome, age, loan,...<br>metric strongness = 0.5<br>metric stab_min_bound = 0.937255859375<br>metric stab_max_bound = 0.9375<br>metric log_stab_min_bound = 3.994375450806122<br>metric log_stab_max_bound = 4.0<br>metric lstab_min_bound = -10.0<br>metric n_uncovered = 0<br>\", \"PatternStructure 22<br><br>extent (len: 16): 3978, 2213, 4160, 110, 3250,...<br>intent (len: 14): contact in [\\\"cellular\\\", \\\"telephone\\\"], pdays in [91.0, 683.0], job in [\\\"admin.\\\", \\\"retired\\\", \\\"student\\\", \\\"technician\\\", \\\"unemployed\\\", \\\"unknown\\\"], default = 0, housing = 0,...<br>new extent (len: 4): 3874, 2583, 4160, 3250<br>new_intent (len: 3): month, balance, job<br>metric strongness = 0.8<br>metric stab_min_bound = 0.998046875<br>metric stab_max_bound = 0.9990234375<br>metric log_stab_min_bound = 9.0<br>metric log_stab_max_bound = 10.0<br>metric lstab_min_bound = -4.0<br>metric n_uncovered = 0<br>\", \"PatternStructure 23<br><br>extent (len: 16): 3789, 3978, 504, 3248, 1437,...<br>intent (len: 13): poutcome in [\\\"success\\\", \\\"unknown\\\"], campaign in [1, 2], default = 0, previous in [0, 4], housing = 0,...<br>new extent (len: 3): 3978, 1672, 1374<br>new_intent (len: 7): campaign, month, contact, poutcome, age,...<br>metric strongness = 0.26666666666666666<br>metric stab_min_bound = 0.991943359375<br>metric stab_max_bound = 0.9921875<br>metric log_stab_min_bound = 6.955605880641547<br>metric log_stab_max_bound = 7.0<br>metric lstab_min_bound = -7.0<br>metric n_uncovered = 0<br>\", \"PatternStructure 21<br><br>extent (len: 19): 1124, 1303, 70, 855, 1905,...<br>intent (len: 14): contact in [\\\"cellular\\\", \\\"telephone\\\"], poutcome = success, default = 0, balance in [0, 2557], marital in [\\\"divorced\\\", \\\"married\\\", \\\"single\\\"],...<br>new extent (len: 19): 1124, 1303, 70, 855, 1905,...<br>new_intent (len: 8): campaign, balance, pdays, month, age,...<br>metric strongness = 1.0<br>metric stab_min_bound = 0.9999980926513672<br>metric stab_max_bound = 0.9999980926513672<br>metric log_stab_min_bound = 19.0<br>metric log_stab_max_bound = 19.0<br>metric lstab_min_bound = 5.0<br>metric n_uncovered = 0<br>\", \"PatternStructure 20<br><br>extent (len: 20): 1124, 2969, 1303, 1695, 3589,...<br>intent (len: 14): loan in [0, 1], poutcome = success, age in [28, 53], balance in [-46, 3576], default = 0,...<br>new extent (len: 20): 1124, 2969, 1303, 1695, 3589,...<br>new_intent (len: 9): marital, campaign, balance, pdays, month,...<br>metric strongness = 1.0<br>metric stab_min_bound = 0.9999990463256836<br>metric stab_max_bound = 0.9999990463256836<br>metric log_stab_min_bound = 20.0<br>metric log_stab_max_bound = 20.0<br>metric lstab_min_bound = 6.0<br>metric n_uncovered = 0<br>\", \"PatternStructure 19<br><br>extent (len: 21): 3695, 156, 3931, 4216, 540,...<br>intent (len: 14): contact in [\\\"cellular\\\", \\\"telephone\\\"], poutcome in [\\\"other\\\", \\\"success\\\"], education in [\\\"primary\\\", \\\"secondary\\\", \\\"tertiary\\\"], default = 0, previous in [1, 5],...<br>new extent (len: 4): 1905, 984, 4009, 849<br>new_intent (len: 1): job<br>metric strongness = 0.875<br>metric stab_min_bound = 0.998779296875<br>metric stab_max_bound = 0.9990234375<br>metric log_stab_min_bound = 9.678071905112638<br>metric log_stab_max_bound = 10.0<br>metric lstab_min_bound = -4.0<br>metric n_uncovered = 0<br>\", \"PatternStructure 18<br><br>extent (len: 22): 4160, 2969, 1695, 540, 1905,...<br>intent (len: 14): contact in [\\\"cellular\\\", \\\"telephone\\\"], poutcome = success, campaign in [1, 2], education in [\\\"primary\\\", \\\"secondary\\\", \\\"tertiary\\\"], job in [\\\"admin.\\\", \\\"blue-collar\\\", \\\"housemaid\\\", \\\"management\\\", \\\"retired\\\", \\\"technician\\\"],...<br>new extent (len: 22): 4160, 2969, 1695, 540, 1905,...<br>new_intent (len: 8): marital, campaign, balance, month, loan,...<br>metric strongness = 1.0<br>metric stab_min_bound = 0.9999997615814209<br>metric stab_max_bound = 0.9999997615814209<br>metric log_stab_min_bound = 22.0<br>metric log_stab_max_bound = 22.0<br>metric lstab_min_bound = 8.0<br>metric n_uncovered = 0<br>\", \"PatternStructure 17<br><br>extent (len: 23): 3317, 3502, 2449, 164, 328,...<br>intent (len: 14): contact in [\\\"cellular\\\", \\\"telephone\\\"], education in [\\\"primary\\\", \\\"secondary\\\", \\\"tertiary\\\"], poutcome in [\\\"failure\\\", \\\"other\\\", \\\"success\\\"], default = 0, month in [\\\"aug\\\", \\\"dec\\\", \\\"jul\\\", \\\"oct\\\", \\\"sep\\\"],...<br>new extent (len: 6): 1048, 3502, 2449, 1736, 4458,...<br>new_intent (len: 7): campaign, balance, pdays, month, age,...<br>metric strongness = 0.575<br>metric stab_min_bound = 0.9995079040527344<br>metric stab_max_bound = 0.99951171875<br>metric log_stab_min_bound = 10.988772744576746<br>metric log_stab_max_bound = 11.0<br>metric lstab_min_bound = -3.0<br>metric n_uncovered = 0<br>\", \"PatternStructure 16<br><br>extent (len: 23): 2821, 156, 1467, 3931, 1303,...<br>intent (len: 13): loan in [0, 1], month in [\\\"dec\\\", \\\"jun\\\", \\\"mar\\\", \\\"oct\\\"], contact in [\\\"cellular\\\", \\\"telephone\\\"], poutcome in [\\\"failure\\\", \\\"other\\\", \\\"success\\\", \\\"unknown\\\"], default = 0,...<br>new extent (len: 5): 2821, 36, 3931, 1303, 1672<br>new_intent (len: 6): balance, month, age, previous, education,...<br>metric strongness = 0.39655172413793105<br>metric stab_min_bound = 0.9960899353027344<br>metric stab_max_bound = 0.99609375<br>metric log_stab_min_bound = 7.998591805607192<br>metric log_stab_max_bound = 8.0<br>metric lstab_min_bound = -6.0<br>metric n_uncovered = 0<br>\", \"PatternStructure 15<br><br>extent (len: 27): 233, 4160, 2049, 156, 3176,...<br>intent (len: 14): loan in [0, 1], contact in [\\\"cellular\\\", \\\"telephone\\\"], poutcome = success, education in [\\\"primary\\\", \\\"secondary\\\", \\\"tertiary\\\"], default = 0,...<br>new extent (len: 8): 233, 1181, 464, 1754, 684,...<br>new_intent (len: 9): marital, campaign, balance, pdays, month,...<br>metric strongness = 0.9642857142857143<br>metric stab_min_bound = 0.9997556209564209<br>metric stab_max_bound = 0.999755859375<br>metric log_stab_min_bound = 11.998591805607191<br>metric log_stab_max_bound = 12.0<br>metric lstab_min_bound = -2.0<br>metric n_uncovered = 0<br>\", \"PatternStructure 14<br><br>extent (len: 27): 3695, 156, 3931, 1469, 4216,...<br>intent (len: 14): contact in [\\\"cellular\\\", \\\"telephone\\\"], poutcome in [\\\"other\\\", \\\"success\\\"], education in [\\\"primary\\\", \\\"secondary\\\", \\\"tertiary\\\"], default = 0, previous in [1, 5],...<br>new extent (len: 6): 684, 3088, 1469, 3658, 1485,...<br>new_intent (len: 5): pdays, month, age, previous, job<br>metric strongness = 0.7941176470588235<br>metric stab_min_bound = 0.984375<br>metric stab_max_bound = 0.984375<br>metric log_stab_min_bound = 6.0<br>metric log_stab_max_bound = 6.0<br>metric lstab_min_bound = -8.0<br>metric n_uncovered = 0<br>\", \"PatternStructure 13<br><br>extent (len: 31): 3695, 4160, 3498, 1467, 164,...<br>intent (len: 13): contact in [\\\"cellular\\\", \\\"telephone\\\", \\\"unknown\\\"], default = 0, previous in [0, 4], housing = 0, age in [28, 84],...<br>new extent (len: 10): 2014, 4160, 1754, 199, 492,...<br>new_intent (len: 9): campaign, housing, balance, month, poutcome,...<br>metric strongness = 0.11524163568773234<br>metric stab_min_bound = 0.9999694712460041<br>metric stab_max_bound = 0.999969482421875<br>metric log_stab_min_bound = 14.999471766013178<br>metric log_stab_max_bound = 15.0<br>metric lstab_min_bound = 1.0<br>metric n_uncovered = 0<br>\", \"PatternStructure 12<br><br>extent (len: 32): 3317, 4160, 1124, 164, 2969,...<br>intent (len: 14): contact in [\\\"cellular\\\", \\\"telephone\\\"], pdays in [91.0, 683.0], default = 0, housing = 0, campaign in [1, 6],...<br>new extent (len: 12): 3256, 2251, 2988, 3370, 164,...<br>new_intent (len: 9): marital, housing, balance, pdays, month,...<br>metric strongness = 0.6153846153846154<br>metric stab_min_bound = 0.9999847374856472<br>metric stab_max_bound = 0.9999847412109375<br>metric log_stab_min_bound = 15.9996478225197<br>metric log_stab_max_bound = 16.0<br>metric lstab_min_bound = 2.0<br>metric n_uncovered = 0<br>\", \"PatternStructure 11<br><br>extent (len: 40): 233, 4160, 2917, 4433, 2449,...<br>intent (len: 14): loan in [0, 1], job in [\\\"admin.\\\", \\\"blue-collar\\\", \\\"management\\\", \\\"retired\\\", \\\"student\\\", \\\"technician\\\", \\\"unemployed\\\"], contact in [\\\"cellular\\\", \\\"telephone\\\"], poutcome = success, balance in [-242, 4629],...<br>new extent (len: 14): 3978, 1905, 941, 3005, 4186,...<br>new_intent (len: 8): marital, campaign, balance, pdays, month,...<br>metric strongness = 0.9090909090909091<br>metric stab_min_bound = 0.9999999924330041<br>metric stab_max_bound = 0.9999999962747097<br>metric log_stab_min_bound = 26.977632186971544<br>metric log_stab_max_bound = 28.0<br>metric lstab_min_bound = 14.0<br>metric n_uncovered = 0<br>\", \"PatternStructure 10<br><br>extent (len: 45): 3695, 2917, 156, 3176, 3502,...<br>intent (len: 14): contact in [\\\"cellular\\\", \\\"telephone\\\"], poutcome in [\\\"other\\\", \\\"success\\\"], month in [\\\"apr\\\", \\\"dec\\\", \\\"feb\\\", \\\"jul\\\", \\\"jun\\\", \\\"mar\\\", \\\"may\\\", \\\"nov\\\", \\\"oct\\\"], age in [22, 77], education in [\\\"primary\\\", \\\"secondary\\\", \\\"tertiary\\\"],...<br>new extent (len: 10): 3256, 2917, 199, 3176, 4093,...<br>new_intent (len: 8): balance, pdays, month, age, education,...<br>metric strongness = 0.5056179775280899<br>metric stab_min_bound = 0.9999961852845445<br>metric stab_max_bound = 0.9999961853027344<br>metric log_stab_min_bound = 17.999993120710368<br>metric log_stab_max_bound = 18.0<br>metric lstab_min_bound = 4.0<br>metric n_uncovered = 0<br>\", \"PatternStructure 9<br><br>extent (len: 48): 233, 4160, 2917, 2049, 2969,...<br>intent (len: 14): loan in [0, 1], contact in [\\\"cellular\\\", \\\"telephone\\\"], poutcome = success, default = 0, job in [\\\"admin.\\\", \\\"blue-collar\\\", \\\"housemaid\\\", \\\"management\\\", \\\"retired\\\", \\\"technician\\\"],...<br>new extent (len: 19): 233, 2917, 2049, 70, 1653,...<br>new_intent (len: 5): balance, pdays, month, age, job<br>metric strongness = 0.9056603773584906<br>metric stab_min_bound = 0.9999999850970198<br>metric stab_max_bound = 0.9999999850988388<br>metric log_stab_min_bound = 25.999823900513558<br>metric log_stab_max_bound = 26.0<br>metric lstab_min_bound = 12.0<br>metric n_uncovered = 0<br>\", \"PatternStructure 8<br><br>extent (len: 51): 2821, 156, 1124, 3502, 2449,...<br>intent (len: 13): loan in [0, 1], poutcome in [\\\"failure\\\", \\\"other\\\", \\\"success\\\", \\\"unknown\\\"], contact in [\\\"cellular\\\", \\\"telephone\\\"], age in [28, 87], previous in [0, 14],...<br>new extent (len: 25): 1124, 3502, 2449, 164, 3789,...<br>new_intent (len: 5): campaign, balance, month, age, job<br>metric strongness = 0.2602040816326531<br>metric stab_min_bound = 0.9999999962747061<br>metric stab_max_bound = 0.9999999962747097<br>metric log_stab_min_bound = 27.999998624139447<br>metric log_stab_max_bound = 28.0<br>metric lstab_min_bound = 14.0<br>metric n_uncovered = 0<br>\", \"PatternStructure 7<br><br>extent (len: 58): 233, 2917, 2049, 156, 1124,...<br>intent (len: 14): loan in [0, 1], contact in [\\\"cellular\\\", \\\"telephone\\\"], poutcome = success, month in [\\\"aug\\\", \\\"feb\\\", \\\"jan\\\", \\\"jul\\\", \\\"jun\\\", \\\"mar\\\", \\\"nov\\\", \\\"oct\\\", \\\"sep\\\"], default = 0,...<br>new extent (len: 17): 941, 233, 4186, 347, 2917,...<br>new_intent (len: 5): balance, pdays, month, age, job<br>metric strongness = 0.9354838709677419<br>metric stab_min_bound = 0.9999999999981641<br>metric stab_max_bound = 0.999999999998181<br>metric log_stab_min_bound = 38.98667732657455<br>metric log_stab_max_bound = 39.0<br>metric lstab_min_bound = 25.0<br>metric n_uncovered = 0<br>\", \"PatternStructure 6<br><br>extent (len: 62): 3317, 4160, 2917, 1928, 1124,...<br>intent (len: 14): month in [\\\"apr\\\", \\\"aug\\\", \\\"dec\\\", \\\"feb\\\", \\\"jan\\\", \\\"jul\\\", \\\"jun\\\", \\\"mar\\\", \\\"oct\\\", \\\"sep\\\"], contact in [\\\"cellular\\\", \\\"telephone\\\"], poutcome in [\\\"failure\\\", \\\"other\\\", \\\"success\\\"], default = 0, campaign in [1, 6],...<br>new extent (len: 13): 98, 1905, 2188, 347, 2917,...<br>new_intent (len: 8): campaign, balance, pdays, month, age,...<br>metric strongness = 0.2683982683982684<br>metric stab_min_bound = 0.9999999990668584<br>metric stab_max_bound = 0.9999999990686774<br>metric log_stab_min_bound = 29.997184984392945<br>metric log_stab_max_bound = 30.0<br>metric lstab_min_bound = 16.0<br>metric n_uncovered = 0<br>\", \"PatternStructure 5<br><br>extent (len: 84): 4160, 2049, 1124, 3931, 1695,...<br>intent (len: 14): loan in [0, 1], contact in [\\\"cellular\\\", \\\"telephone\\\"], poutcome = success, default = 0, pdays in [1.0, 541.0],...<br>new extent (len: 6): 1048, 1181, 3176, 477, 3243,...<br>new_intent (len: 2): month, job<br>metric strongness = 0.8<br>metric stab_min_bound = 0.99999998508423<br>metric stab_max_bound = 0.9999999850988388<br>metric log_stab_min_bound = 25.998586307542055<br>metric log_stab_max_bound = 26.0<br>metric lstab_min_bound = 12.0<br>metric n_uncovered = 0<br>\", \"PatternStructure 4<br><br>extent (len: 94): 4160, 2049, 1124, 3931, 1695,...<br>intent (len: 14): loan in [0, 1], contact in [\\\"cellular\\\", \\\"telephone\\\"], poutcome = success, default = 0, pdays in [1.0, 541.0],...<br>new extent (len: 2): 880, 1374<br>new_intent (len: 4): age, poutcome, campaign, balance<br>metric strongness = 0.7833333333333333<br>metric stab_min_bound = 0.9990234375<br>metric stab_max_bound = 0.9990234375<br>metric log_stab_min_bound = 10.0<br>metric log_stab_max_bound = 10.0<br>metric lstab_min_bound = -4.0<br>metric n_uncovered = 0<br>\", \"PatternStructure 3<br><br>extent (len: 103): 4160, 2049, 1124, 3931, 1695,...<br>intent (len: 14): loan in [0, 1], contact in [\\\"cellular\\\", \\\"telephone\\\"], poutcome in [\\\"other\\\", \\\"success\\\"], default = 0, pdays in [1.0, 541.0],...<br>new extent (len: 2): 3932, 3930<br>new_intent (len: 4): age, poutcome, balance, pdays<br>metric strongness = 0.3468013468013468<br>metric stab_min_bound = 0.998046875<br>metric stab_max_bound = 0.998046875<br>metric log_stab_min_bound = 9.0<br>metric log_stab_max_bound = 9.0<br>metric lstab_min_bound = -5.0<br>metric n_uncovered = 0<br>\", \"PatternStructure 2<br><br>extent (len: 122): 3317, 4160, 2049, 1124, 3931,...<br>intent (len: 14): loan in [0, 1], contact in [\\\"cellular\\\", \\\"telephone\\\"], age in [21, 79], poutcome in [\\\"failure\\\", \\\"other\\\", \\\"success\\\"], default = 0,...<br>new extent (len: 3): 970, 412, 3743<br>new_intent (len: 5): balance, pdays, poutcome, age, previous<br>metric strongness = 0.16180371352785147<br>metric stab_min_bound = 0.9999980926513672<br>metric stab_max_bound = 0.9999980926513672<br>metric log_stab_min_bound = 19.0<br>metric log_stab_max_bound = 19.0<br>metric lstab_min_bound = 5.0<br>metric n_uncovered = 0<br>\", \"PatternStructure 1<br><br>extent (len: 148): 2821, 3317, 4160, 2049, 1124,...<br>intent (len: 13): loan in [0, 1], poutcome in [\\\"failure\\\", \\\"other\\\", \\\"success\\\", \\\"unknown\\\"], contact in [\\\"cellular\\\", \\\"telephone\\\"], previous in [0, 14], default = 0,...<br>new extent (len: 0): \\u2205<br>new_intent (len: 1): contact<br>metric strongness = 0.04933333333333333<br>metric stab_min_bound = 0.9999999850988388<br>metric stab_max_bound = 0.9999999850988388<br>metric log_stab_min_bound = 26.0<br>metric log_stab_max_bound = 26.0<br>metric lstab_min_bound = 12.0<br>metric n_uncovered = 148<br>\", \"PatternStructure 0<br><br>extent (len: 149): 2821, 3317, 4160, 2049, 1124,...<br>intent (len: 13): contact in [\\\"cellular\\\", \\\"telephone\\\", \\\"unknown\\\"], poutcome in [\\\"failure\\\", \\\"other\\\", \\\"success\\\", \\\"unknown\\\"], loan in [0, 1], previous in [0, 14], default = 0,...<br>new extent (len: 0): \\u2205<br>new_intent (len: 13): marital, campaign, default, housing, balance,...<br>metric strongness = 0.03521626093122193<br>metric stab_min_bound = 0.5<br>metric stab_max_bound = 0.5<br>metric log_stab_min_bound = 1.0<br>metric log_stab_max_bound = 1.0<br>metric lstab_min_bound = -13.0<br>\", \"PatternStructure 70<br><br>extent (len: 0): \\u2205<br>intent (len: 0): \\u2205<br>new extent (len: 0): \\u2205<br>new_intent (len: 0): \\u2205<br>metric strongness = 0<br>metric stab_min_bound = None<br>metric stab_max_bound = None<br>metric log_stab_min_bound = None<br>metric log_stab_max_bound = None<br>metric lstab_min_bound = None<br>\"], \"marker\": {\"color\": [0.75, 0.75, 0.75, 0.75, 0.75, 0.75, 0.75, 0.75, 0.875, 0.875, 0.875, 0.875, 0.875, 0.9375, 0.9375, 0.9375, 0.9375, 0.9375, 0.9375, 0.96875, 0.96875, 0.96875, 0.96875, 0.25, 0.984375, 0.984375, 0.8125, 0.875, 0.9921875, 0.9921875, 0.9921875, 0.99609375, 0.998046875, 0.998046875, 0.998046875, 0.998046875, 0.9296875, 0.99951171875, 0.9765625, 0.999755859375, 0.999755859375, 0.999755859375, 0.999755859375, 0.96484375, 0.999969482421875, 0.937255859375, 0.998046875, 0.991943359375, 0.9999980926513672, 0.9999990463256836, 0.998779296875, 0.9999997615814209, 0.9995079040527344, 0.9960899353027344, 0.9997556209564209, 0.984375, 0.9999694712460041, 0.9999847374856472, 0.9999999924330041, 0.9999961852845445, 0.9999999850970198, 0.9999999962747061, 0.9999999999981641, 0.9999999990668584, 0.99999998508423, 0.9990234375, 0.998046875, 0.9999980926513672, 0.9999999850988388, 0.5, \"grey\"], \"colorbar\": {\"thickness\": 15, \"title\": {\"side\": \"right\", \"text\": \"y_mean\"}, \"xanchor\": \"left\"}, \"colorscale\": [[0.0, \"rgb(103,0,31)\"], [0.1, \"rgb(178,24,43)\"], [0.2, \"rgb(214,96,77)\"], [0.3, \"rgb(244,165,130)\"], [0.4, \"rgb(253,219,199)\"], [0.5, \"rgb(247,247,247)\"], [0.6, \"rgb(209,229,240)\"], [0.7, \"rgb(146,197,222)\"], [0.8, \"rgb(67,147,195)\"], [0.9, \"rgb(33,102,172)\"], [1.0, \"rgb(5,48,97)\"]], \"line\": {\"width\": 2}, \"reversescale\": true, \"showscale\": true, \"size\": 10}, \"mode\": \"markers+text\", \"text\": [\"n: 7<br>n: 2\", \"n: 12<br>n: 2\", \"n: 12<br>n: 2\", \"n: 6<br>n: 2\", \"n: 11<br>n: 2\", \"n: 10<br>n: 2\", \"n: 5<br>n: 2\", \"n: 7<br>n: 2\", \"n: 8<br>n: 3\", \"n: 4<br>n: 3\", \"n: 11<br>n: 3\", \"n: 7<br>n: 3\", \"n: 10<br>n: 3\", \"n: 1<br>n: 4\", \"n: 9<br>n: 4\", \"n: 6<br>n: 4\", \"n: 8<br>n: 4\", \"n: 7<br>n: 4\", \"n: 6<br>n: 4\", \"n: 6<br>n: 5\", \"n: 8<br>n: 5\", \"n: 7<br>n: 5\", \"n: 9<br>n: 5\", \"n: 4<br>\", \"n: 7<br>n: 6\", \"n: 6<br>n: 6\", \"n: 10<br>n: 1\", \"n: 10<br>n: 2\", \"n: 5<br>n: 7\", \"n: 8<br>n: 7\", \"n: 10<br>n: 7\", \"n: 11<br>n: 8\", \"n: 6<br>n: 9\", \"n: 11<br>n: 9\", \"n: 6<br>n: 9\", \"n: 6<br>n: 9\", \"n: 5<br>n: 2\", \"n: 9<br>n: 11\", \"n: 4<br>n: 3\", \"n: 8<br>n: 12\", \"n: 10<br>n: 12\", \"n: 11<br>n: 12\", \"n: 8<br>n: 12\", \"n: 7<br>n: 2\", \"n: 4<br>n: 15\", \"n: 6<br>n: 2\", \"n: 3<br>n: 4\", \"n: 7<br>n: 3\", \"n: 8<br>n: 19\", \"n: 9<br>n: 20\", \"n: 1<br>n: 4\", \"n: 8<br>n: 22\", \"n: 7<br>n: 6\", \"n: 6<br>n: 5\", \"n: 9<br>n: 8\", \"n: 5<br>n: 6\", \"n: 9<br>n: 10\", \"n: 9<br>n: 12\", \"n: 8<br>n: 14\", \"n: 8<br>n: 10\", \"n: 5<br>n: 19\", \"n: 5<br>n: 25\", \"n: 5<br>n: 17\", \"n: 8<br>n: 13\", \"n: 2<br>n: 6\", \"n: 4<br>n: 2\", \"n: 4<br>n: 2\", \"n: 5<br>n: 3\", \"n: 1<br>\", \"n: 13<br>\", \"<br>\"], \"textposition\": \"middle right\", \"type\": \"scatter\", \"x\": [-2.5, -4.5, -3.5, 1.0, -2.5, -1.5, -0.5, 2.0, 5.5, -2.5, 3.0, -1.5, -0.5, -1.5, -6.5, 0.5, 5.5, -6.5, 4.0, 6.5, -5.5, -2.5, 3.5, 0.5, -5.5, -4.5, -3.0, 3.5, -3.5, -4.5, -0.5, -3.5, -2.5, 0.5, -1.5, 1.5, -2.0, -0.5, 6.5, 0.5, 1.5, -1.5, 2.5, -4.5, -0.5, 4.5, -3.5, 2.5, 3.5, 0.5, 1.5, 4.5, -4.5, 0.0, 2.5, 3.5, -0.5, -3.5, 2.5, 1.5, 3.5, 4.5, 4.5, -4.0, 4.5, 2.5, -1.0, 1.5, 0.5, 0.0, 0.0], \"y\": [5, 7, 7, 6, 7, 7, 5, 6, 4, 4, 6, 5, 7, 4, 3, 7, 3, 4, 6, 3, 4, 3, 5, 5, 3, 3, 6, 7, 3, 2, 4, 2, 2, 4, 2, 4, 6, 2, 4, 2, 2, 3, 2, 4, 3, 5, 4, 7, 2, 3, 3, 2, 5, 6, 4, 4, 8, 5, 3, 5, 3, 7, 3, 6, 4, 5, 6, 7, 8, 9, 1]}],\n",
       "                        {\"height\": 500, \"hovermode\": \"closest\", \"margin\": {\"b\": 20, \"l\": 5, \"r\": 5, \"t\": 40}, \"showlegend\": false, \"template\": {\"data\": {\"bar\": [{\"error_x\": {\"color\": \"#2a3f5f\"}, \"error_y\": {\"color\": \"#2a3f5f\"}, \"marker\": {\"line\": {\"color\": \"#E5ECF6\", \"width\": 0.5}}, \"type\": \"bar\"}], \"barpolar\": [{\"marker\": {\"line\": {\"color\": \"#E5ECF6\", \"width\": 0.5}}, \"type\": \"barpolar\"}], \"carpet\": [{\"aaxis\": {\"endlinecolor\": \"#2a3f5f\", \"gridcolor\": \"white\", \"linecolor\": \"white\", \"minorgridcolor\": \"white\", \"startlinecolor\": \"#2a3f5f\"}, \"baxis\": {\"endlinecolor\": \"#2a3f5f\", \"gridcolor\": \"white\", \"linecolor\": \"white\", \"minorgridcolor\": \"white\", \"startlinecolor\": \"#2a3f5f\"}, \"type\": \"carpet\"}], \"choropleth\": [{\"colorbar\": {\"outlinewidth\": 0, \"ticks\": \"\"}, \"type\": \"choropleth\"}], \"contour\": [{\"colorbar\": {\"outlinewidth\": 0, \"ticks\": \"\"}, \"colorscale\": [[0.0, \"#0d0887\"], [0.1111111111111111, \"#46039f\"], [0.2222222222222222, \"#7201a8\"], [0.3333333333333333, \"#9c179e\"], [0.4444444444444444, \"#bd3786\"], [0.5555555555555556, \"#d8576b\"], [0.6666666666666666, \"#ed7953\"], [0.7777777777777778, \"#fb9f3a\"], [0.8888888888888888, \"#fdca26\"], [1.0, \"#f0f921\"]], \"type\": \"contour\"}], \"contourcarpet\": [{\"colorbar\": {\"outlinewidth\": 0, \"ticks\": \"\"}, \"type\": \"contourcarpet\"}], \"heatmap\": [{\"colorbar\": {\"outlinewidth\": 0, \"ticks\": \"\"}, \"colorscale\": [[0.0, \"#0d0887\"], [0.1111111111111111, \"#46039f\"], [0.2222222222222222, \"#7201a8\"], [0.3333333333333333, \"#9c179e\"], [0.4444444444444444, \"#bd3786\"], [0.5555555555555556, \"#d8576b\"], [0.6666666666666666, \"#ed7953\"], [0.7777777777777778, \"#fb9f3a\"], [0.8888888888888888, \"#fdca26\"], [1.0, \"#f0f921\"]], \"type\": \"heatmap\"}], \"heatmapgl\": [{\"colorbar\": {\"outlinewidth\": 0, \"ticks\": \"\"}, \"colorscale\": [[0.0, \"#0d0887\"], [0.1111111111111111, \"#46039f\"], [0.2222222222222222, \"#7201a8\"], [0.3333333333333333, \"#9c179e\"], [0.4444444444444444, \"#bd3786\"], [0.5555555555555556, \"#d8576b\"], [0.6666666666666666, \"#ed7953\"], [0.7777777777777778, \"#fb9f3a\"], [0.8888888888888888, \"#fdca26\"], [1.0, \"#f0f921\"]], \"type\": \"heatmapgl\"}], \"histogram\": [{\"marker\": {\"colorbar\": {\"outlinewidth\": 0, \"ticks\": \"\"}}, \"type\": \"histogram\"}], \"histogram2d\": [{\"colorbar\": {\"outlinewidth\": 0, \"ticks\": \"\"}, \"colorscale\": [[0.0, \"#0d0887\"], [0.1111111111111111, \"#46039f\"], [0.2222222222222222, \"#7201a8\"], [0.3333333333333333, \"#9c179e\"], [0.4444444444444444, \"#bd3786\"], [0.5555555555555556, \"#d8576b\"], [0.6666666666666666, \"#ed7953\"], [0.7777777777777778, \"#fb9f3a\"], [0.8888888888888888, \"#fdca26\"], [1.0, \"#f0f921\"]], \"type\": \"histogram2d\"}], \"histogram2dcontour\": [{\"colorbar\": {\"outlinewidth\": 0, \"ticks\": \"\"}, \"colorscale\": [[0.0, \"#0d0887\"], [0.1111111111111111, \"#46039f\"], [0.2222222222222222, \"#7201a8\"], [0.3333333333333333, \"#9c179e\"], [0.4444444444444444, \"#bd3786\"], [0.5555555555555556, \"#d8576b\"], [0.6666666666666666, \"#ed7953\"], [0.7777777777777778, \"#fb9f3a\"], [0.8888888888888888, \"#fdca26\"], [1.0, \"#f0f921\"]], \"type\": \"histogram2dcontour\"}], \"mesh3d\": [{\"colorbar\": {\"outlinewidth\": 0, \"ticks\": \"\"}, \"type\": \"mesh3d\"}], \"parcoords\": [{\"line\": {\"colorbar\": {\"outlinewidth\": 0, \"ticks\": \"\"}}, \"type\": \"parcoords\"}], \"pie\": [{\"automargin\": true, \"type\": \"pie\"}], \"scatter\": [{\"marker\": {\"colorbar\": {\"outlinewidth\": 0, \"ticks\": \"\"}}, \"type\": \"scatter\"}], \"scatter3d\": [{\"line\": {\"colorbar\": {\"outlinewidth\": 0, \"ticks\": \"\"}}, \"marker\": {\"colorbar\": {\"outlinewidth\": 0, \"ticks\": \"\"}}, \"type\": \"scatter3d\"}], \"scattercarpet\": [{\"marker\": {\"colorbar\": {\"outlinewidth\": 0, \"ticks\": \"\"}}, \"type\": \"scattercarpet\"}], \"scattergeo\": [{\"marker\": {\"colorbar\": {\"outlinewidth\": 0, \"ticks\": \"\"}}, \"type\": \"scattergeo\"}], \"scattergl\": [{\"marker\": {\"colorbar\": {\"outlinewidth\": 0, \"ticks\": \"\"}}, \"type\": \"scattergl\"}], \"scattermapbox\": [{\"marker\": {\"colorbar\": {\"outlinewidth\": 0, \"ticks\": \"\"}}, \"type\": \"scattermapbox\"}], \"scatterpolar\": [{\"marker\": {\"colorbar\": {\"outlinewidth\": 0, \"ticks\": \"\"}}, \"type\": \"scatterpolar\"}], \"scatterpolargl\": [{\"marker\": {\"colorbar\": {\"outlinewidth\": 0, \"ticks\": \"\"}}, \"type\": \"scatterpolargl\"}], \"scatterternary\": [{\"marker\": {\"colorbar\": {\"outlinewidth\": 0, \"ticks\": \"\"}}, \"type\": \"scatterternary\"}], \"surface\": [{\"colorbar\": {\"outlinewidth\": 0, \"ticks\": \"\"}, \"colorscale\": [[0.0, \"#0d0887\"], [0.1111111111111111, \"#46039f\"], [0.2222222222222222, \"#7201a8\"], [0.3333333333333333, \"#9c179e\"], [0.4444444444444444, \"#bd3786\"], [0.5555555555555556, \"#d8576b\"], [0.6666666666666666, \"#ed7953\"], [0.7777777777777778, \"#fb9f3a\"], [0.8888888888888888, \"#fdca26\"], [1.0, \"#f0f921\"]], \"type\": \"surface\"}], \"table\": [{\"cells\": {\"fill\": {\"color\": \"#EBF0F8\"}, \"line\": {\"color\": \"white\"}}, \"header\": {\"fill\": {\"color\": \"#C8D4E3\"}, \"line\": {\"color\": \"white\"}}, \"type\": \"table\"}]}, \"layout\": {\"annotationdefaults\": {\"arrowcolor\": \"#2a3f5f\", \"arrowhead\": 0, \"arrowwidth\": 1}, \"coloraxis\": {\"colorbar\": {\"outlinewidth\": 0, \"ticks\": \"\"}}, \"colorscale\": {\"diverging\": [[0, \"#8e0152\"], [0.1, \"#c51b7d\"], [0.2, \"#de77ae\"], [0.3, \"#f1b6da\"], [0.4, \"#fde0ef\"], [0.5, \"#f7f7f7\"], [0.6, \"#e6f5d0\"], [0.7, \"#b8e186\"], [0.8, \"#7fbc41\"], [0.9, \"#4d9221\"], [1, \"#276419\"]], \"sequential\": [[0.0, \"#0d0887\"], [0.1111111111111111, \"#46039f\"], [0.2222222222222222, \"#7201a8\"], [0.3333333333333333, \"#9c179e\"], [0.4444444444444444, \"#bd3786\"], [0.5555555555555556, \"#d8576b\"], [0.6666666666666666, \"#ed7953\"], [0.7777777777777778, \"#fb9f3a\"], [0.8888888888888888, \"#fdca26\"], [1.0, \"#f0f921\"]], \"sequentialminus\": [[0.0, \"#0d0887\"], [0.1111111111111111, \"#46039f\"], [0.2222222222222222, \"#7201a8\"], [0.3333333333333333, \"#9c179e\"], [0.4444444444444444, \"#bd3786\"], [0.5555555555555556, \"#d8576b\"], [0.6666666666666666, \"#ed7953\"], [0.7777777777777778, \"#fb9f3a\"], [0.8888888888888888, \"#fdca26\"], [1.0, \"#f0f921\"]]}, \"colorway\": [\"#636efa\", \"#EF553B\", \"#00cc96\", \"#ab63fa\", \"#FFA15A\", \"#19d3f3\", \"#FF6692\", \"#B6E880\", \"#FF97FF\", \"#FECB52\"], \"font\": {\"color\": \"#2a3f5f\"}, \"geo\": {\"bgcolor\": \"white\", \"lakecolor\": \"white\", \"landcolor\": \"#E5ECF6\", \"showlakes\": true, \"showland\": true, \"subunitcolor\": \"white\"}, \"hoverlabel\": {\"align\": \"left\"}, \"hovermode\": \"closest\", \"mapbox\": {\"style\": \"light\"}, \"paper_bgcolor\": \"white\", \"plot_bgcolor\": \"#E5ECF6\", \"polar\": {\"angularaxis\": {\"gridcolor\": \"white\", \"linecolor\": \"white\", \"ticks\": \"\"}, \"bgcolor\": \"#E5ECF6\", \"radialaxis\": {\"gridcolor\": \"white\", \"linecolor\": \"white\", \"ticks\": \"\"}}, \"scene\": {\"xaxis\": {\"backgroundcolor\": \"#E5ECF6\", \"gridcolor\": \"white\", \"gridwidth\": 2, \"linecolor\": \"white\", \"showbackground\": true, \"ticks\": \"\", \"zerolinecolor\": \"white\"}, \"yaxis\": {\"backgroundcolor\": \"#E5ECF6\", \"gridcolor\": \"white\", \"gridwidth\": 2, \"linecolor\": \"white\", \"showbackground\": true, \"ticks\": \"\", \"zerolinecolor\": \"white\"}, \"zaxis\": {\"backgroundcolor\": \"#E5ECF6\", \"gridcolor\": \"white\", \"gridwidth\": 2, \"linecolor\": \"white\", \"showbackground\": true, \"ticks\": \"\", \"zerolinecolor\": \"white\"}}, \"shapedefaults\": {\"line\": {\"color\": \"#2a3f5f\"}}, \"ternary\": {\"aaxis\": {\"gridcolor\": \"white\", \"linecolor\": \"white\", \"ticks\": \"\"}, \"baxis\": {\"gridcolor\": \"white\", \"linecolor\": \"white\", \"ticks\": \"\"}, \"bgcolor\": \"#E5ECF6\", \"caxis\": {\"gridcolor\": \"white\", \"linecolor\": \"white\", \"ticks\": \"\"}}, \"title\": {\"x\": 0.05}, \"xaxis\": {\"automargin\": true, \"gridcolor\": \"white\", \"linecolor\": \"white\", \"ticks\": \"\", \"title\": {\"standoff\": 15}, \"zerolinecolor\": \"white\", \"zerolinewidth\": 2}, \"yaxis\": {\"automargin\": true, \"gridcolor\": \"white\", \"linecolor\": \"white\", \"ticks\": \"\", \"title\": {\"standoff\": 15}, \"zerolinecolor\": \"white\", \"zerolinewidth\": 2}}}, \"title\": {\"font\": {\"size\": 16}, \"text\": \"Concept Lattice\"}, \"width\": 1000, \"xaxis\": {\"showgrid\": false, \"showticklabels\": false, \"zeroline\": false}, \"yaxis\": {\"showgrid\": false, \"showticklabels\": false, \"zeroline\": false}},\n",
       "                        {\"responsive\": true}\n",
       "                    ).then(function(){\n",
       "                            \n",
       "var gd = document.getElementById('83a593d4-2c18-45dd-8735-74584a21f2ec');\n",
       "var x = new MutationObserver(function (mutations, observer) {{\n",
       "        var display = window.getComputedStyle(gd).display;\n",
       "        if (!display || display === 'none') {{\n",
       "            console.log([gd, 'removed!']);\n",
       "            Plotly.purge(gd);\n",
       "            observer.disconnect();\n",
       "        }}\n",
       "}});\n",
       "\n",
       "// Listen for the removal of the full notebook cells\n",
       "var notebookContainer = gd.closest('#notebook-container');\n",
       "if (notebookContainer) {{\n",
       "    x.observe(notebookContainer, {childList: true});\n",
       "}}\n",
       "\n",
       "// Listen for the clearing of the current output cell\n",
       "var outputEl = gd.closest('.output');\n",
       "if (outputEl) {{\n",
       "    x.observe(outputEl, {childList: true});\n",
       "}}\n",
       "\n",
       "                        })\n",
       "                };\n",
       "                });\n",
       "            </script>\n",
       "        </div>"
      ]
     },
     "metadata": {},
     "output_type": "display_data"
    }
   ],
   "source": [
    "fig.show()"
   ]
  },
  {
   "cell_type": "code",
   "execution_count": 728,
   "metadata": {},
   "outputs": [],
   "source": [
    "concepts_json = {}\n",
    "for c in fm.get_concepts():\n",
    "    c_json = {}\n",
    "    c_json['extent'] = tuple(c.get_extent())\n",
    "    c_json['intent'] = tuple(c.get_intent()) if c.get_intent() is not None else None\n",
    "    c_json['low_neighbs'] = tuple(c.get_lower_neighbs())\n",
    "    c_json['up_neighbs'] = tuple(c.get_upper_neighbs())\n",
    "    c_json['metrics'] = c._metrics\n",
    "    concepts_json[c.get_id()] = c_json"
   ]
  },
  {
   "cell_type": "code",
   "execution_count": 730,
   "metadata": {},
   "outputs": [],
   "source": [
    "import json\n",
    "with open('pattern_structures_pos.json','w') as f:\n",
    "    json.dump(concepts_json, f)"
   ]
  },
  {
   "cell_type": "code",
   "execution_count": null,
   "metadata": {},
   "outputs": [],
   "source": []
  },
  {
   "cell_type": "code",
   "execution_count": 635,
   "metadata": {},
   "outputs": [
    {
     "data": {
      "text/plain": [
       "(149, 45, 0.8389261744966443)"
      ]
     },
     "execution_count": 635,
     "metadata": {},
     "output_type": "execute_result"
    }
   ],
   "source": [
    "stab_concepts = [c for c in fm.get_concepts() if fcai.get_not_none(c._metrics['stab_min_bound'],-100)>=0.95]\n",
    "len(calc_cover_of_concepts(stab_concepts)), len(stab_concepts), len(calc_cover_of_concepts([c for c in stab_concepts if c._metrics['strongness']>=0.5]))/flg.sum()"
   ]
  },
  {
   "cell_type": "code",
   "execution_count": 636,
   "metadata": {},
   "outputs": [],
   "source": [
    "fm_stab = fcai.FormalManager(mvcntx)\n",
    "fm_stab._concepts = [fcai.PatternStructure(c.get_extent(), c.get_intent().copy() if c.get_intent() is not None else None, metrics=c._metrics.copy())\n",
    "                for c in stab_concepts+[top_concept]]\n",
    "for idx, c in enumerate(fm_stab.sort_concepts(fm_stab.get_concepts())):\n",
    "    c._idx = idx\n",
    "fm_stab.calc_strongness(mvcntx_full)\n",
    "fm_stab.construct_lattice()\n",
    "fm_stab.calc_stability_approx()\n",
    "concepts = fm_stab.get_concepts()"
   ]
  },
  {
   "cell_type": "code",
   "execution_count": 637,
   "metadata": {},
   "outputs": [
    {
     "name": "stderr",
     "output_type": "stream",
     "text": [
      "/root/anaconda3/lib/python3.7/site-packages/numpy/core/fromnumeric.py:3335: RuntimeWarning:\n",
      "\n",
      "Mean of empty slice.\n",
      "\n",
      "/root/anaconda3/lib/python3.7/site-packages/numpy/core/_methods.py:161: RuntimeWarning:\n",
      "\n",
      "invalid value encountered in double_scalars\n",
      "\n"
     ]
    }
   ],
   "source": [
    "fig_stab = fm_stab.get_plotly_fig(color_by='strongness', sort_by='strongness', level_sort=3, new_attrs_lim=1, new_objs_lim=1)"
   ]
  },
  {
   "cell_type": "code",
   "execution_count": 638,
   "metadata": {},
   "outputs": [
    {
     "data": {
      "application/vnd.plotly.v1+json": {
       "config": {
        "plotlyServerURL": "https://plot.ly"
       },
       "data": [
        {
         "hoverinfo": "none",
         "line": {
          "color": "#888",
          "width": 0.5
         },
         "mode": "lines",
         "type": "scatter",
         "x": [
          4.5,
          2.5,
          null,
          -4.5,
          -2.5,
          null,
          -2,
          1.5,
          null,
          1.5,
          1,
          null,
          -5,
          -2.5,
          null,
          -4,
          -2.5,
          null,
          -3,
          -3.5,
          null,
          -4.5,
          3,
          null,
          -1.5,
          -0.5,
          null,
          -3.5,
          5,
          null,
          -2.5,
          4,
          null,
          -2.5,
          5,
          null,
          -0.5,
          0.5,
          null,
          -1.5,
          2,
          null,
          0.5,
          -0.5,
          null,
          -0.5,
          2,
          null,
          2.5,
          1,
          null,
          0.5,
          3,
          null,
          1.5,
          5,
          null,
          -1,
          3.5,
          null,
          2.5,
          3,
          null,
          -3.5,
          -2.5,
          null,
          0,
          1.5,
          null,
          -2.5,
          -1.5,
          null,
          -1,
          -0.5,
          null,
          3.5,
          5,
          null,
          1,
          3.5,
          null,
          2,
          2.5,
          null,
          4.5,
          4,
          null,
          -2.5,
          -1,
          null,
          1,
          1,
          null,
          1.5,
          0.5,
          null,
          2.5,
          -0.5,
          null,
          -0.5,
          0,
          null,
          -1.5,
          -1,
          null,
          3,
          3.5,
          null,
          -0.5,
          0,
          null,
          4,
          3.5,
          null,
          1,
          0.5,
          null,
          5,
          3.5,
          null,
          -1,
          0,
          null,
          3.5,
          0.5,
          null,
          0.5,
          0,
          null,
          0,
          0,
          null,
          0,
          0.5,
          null,
          0.5,
          0,
          null
         ],
         "y": [
          3,
          4,
          null,
          3,
          4,
          null,
          2,
          3,
          null,
          4,
          5,
          null,
          2,
          3,
          null,
          2,
          3,
          null,
          2,
          3,
          null,
          1,
          2,
          null,
          3,
          4,
          null,
          1,
          2,
          null,
          1,
          2,
          null,
          1,
          2,
          null,
          3,
          4,
          null,
          1,
          2,
          null,
          3,
          4,
          null,
          1,
          2,
          null,
          4,
          5,
          null,
          1,
          2,
          null,
          1,
          2,
          null,
          2,
          3,
          null,
          1,
          2,
          null,
          3,
          4,
          null,
          2,
          3,
          null,
          3,
          4,
          null,
          6,
          7,
          null,
          1,
          2,
          null,
          2,
          3,
          null,
          2,
          3,
          null,
          1,
          2,
          null,
          4,
          5,
          null,
          5,
          6,
          null,
          3,
          4,
          null,
          3,
          4,
          null,
          7,
          8,
          null,
          4,
          5,
          null,
          2,
          3,
          null,
          4,
          5,
          null,
          2,
          3,
          null,
          6,
          7,
          null,
          2,
          3,
          null,
          5,
          6,
          null,
          3,
          4,
          null,
          4,
          5,
          null,
          5,
          6,
          null,
          6,
          7,
          null,
          7,
          8,
          null
         ]
        },
        {
         "hoverinfo": "text",
         "hovertext": [
          "PatternStructure 42<br><br>extent (len: 5): 1349, 4364, 3005, 4388, 1415<br>intent (len: 13): job in [\"admin.\", \"retired\"], contact in [\"cellular\", \"telephone\"], marital in [\"divorced\", \"married\"], previous in [0, 9], month in [\"dec\", \"jun\", \"mar\"],...<br>new extent (len: 5): 1349, 4364, 3005, 4388, 1415<br>new_intent (len: 6): campaign, housing, balance, age, education,...<br>metric strongness = 1.0<br>metric stab_min_bound = None<br>metric stab_max_bound = None<br>metric log_stab_min_bound = None<br>metric log_stab_max_bound = None<br>metric lstab_min_bound = None<br>metric n_uncovered = 0<br>",
          "PatternStructure 44<br><br>extent (len: 5): 3301, 3930, 328, 3005, 540<br>intent (len: 14): housing in [0, 1], poutcome in [\"other\", \"success\"], default = 0, contact = cellular, job in [\"admin.\", \"retired\", \"services\", \"unemployed\"],...<br>new extent (len: 5): 3301, 3930, 328, 3005, 540<br>new_intent (len: 8): balance, pdays, month, contact, poutcome,...<br>metric strongness = 1.0<br>metric stab_min_bound = None<br>metric stab_max_bound = None<br>metric log_stab_min_bound = None<br>metric log_stab_max_bound = None<br>metric lstab_min_bound = None<br>metric n_uncovered = 0<br>",
          "PatternStructure 45<br><br>extent (len: 5): 3843, 3176, 3270, 540, 3896<br>intent (len: 14): loan in [0, 1], contact in [\"cellular\", \"telephone\"], poutcome = success, month in [\"apr\", \"jul\", \"may\"], default = 0,...<br>new extent (len: 5): 3843, 3176, 3270, 540, 3896<br>new_intent (len: 7): balance, pdays, month, age, education,...<br>metric strongness = 1.0<br>metric stab_min_bound = None<br>metric stab_max_bound = None<br>metric log_stab_min_bound = None<br>metric log_stab_max_bound = None<br>metric lstab_min_bound = None<br>metric n_uncovered = 0<br>",
          "PatternStructure 43<br><br>extent (len: 5): 4364, 1467, 3743, 2685, 2014<br>intent (len: 13): loan in [0, 1], contact in [\"cellular\", \"telephone\"], default = 0, age in [42, 74], marital in [\"divorced\", \"single\"],...<br>new extent (len: 5): 4364, 1467, 3743, 2685, 2014<br>new_intent (len: 9): marital, campaign, balance, month, poutcome,...<br>metric strongness = 1.0<br>metric stab_min_bound = None<br>metric stab_max_bound = None<br>metric log_stab_min_bound = None<br>metric log_stab_max_bound = None<br>metric lstab_min_bound = None<br>metric n_uncovered = 0<br>",
          "PatternStructure 40<br><br>extent (len: 6): 3978, 2213, 110, 4216, 2122,...<br>intent (len: 14): previous in [1, 4], default = 0, contact = cellular, housing = 0, campaign in [1, 6],...<br>new extent (len: 6): 3978, 2213, 110, 4216, 2122,...<br>new_intent (len: 7): balance, pdays, month, contact, previous,...<br>metric strongness = 1.0<br>metric stab_min_bound = None<br>metric stab_max_bound = None<br>metric log_stab_min_bound = None<br>metric log_stab_max_bound = None<br>metric lstab_min_bound = None<br>metric n_uncovered = 0<br>",
          "PatternStructure 41<br><br>extent (len: 6): 1124, 492, 3088, 2486, 3931,...<br>intent (len: 14): contact in [\"cellular\", \"telephone\"], pdays in [91.0, 683.0], campaign in [1, 2], default = 0, job in [\"admin.\", \"technician\", \"unknown\"],...<br>new extent (len: 6): 1124, 492, 2486, 3088, 3931,...<br>new_intent (len: 6): campaign, month, previous, age, education,...<br>metric strongness = 1.0<br>metric stab_min_bound = None<br>metric stab_max_bound = None<br>metric log_stab_min_bound = None<br>metric log_stab_max_bound = None<br>metric lstab_min_bound = None<br>metric n_uncovered = 0<br>",
          "PatternStructure 37<br><br>extent (len: 7): 2444, 2988, 3370, 3270, 3239,...<br>intent (len: 14): job in [\"blue-collar\", \"entrepreneur\", \"management\", \"student\"], previous in [1, 4], education in [\"primary\", \"secondary\", \"tertiary\"], contact = cellular, default = 0,...<br>new extent (len: 7): 2444, 2988, 3370, 3270, 3239,...<br>new_intent (len: 5): marital, month, contact, age, job<br>metric strongness = 1.0<br>metric stab_min_bound = None<br>metric stab_max_bound = None<br>metric log_stab_min_bound = None<br>metric log_stab_max_bound = None<br>metric lstab_min_bound = None<br>metric n_uncovered = 0<br>",
          "PatternStructure 38<br><br>extent (len: 7): 2188, 4160, 2266, 492, 4224,...<br>intent (len: 14): pdays in [90.0, 278.0], contact in [\"cellular\", \"telephone\"], poutcome = success, balance in [-242, 1978], job in [\"admin.\", \"retired\", \"technician\", \"unemployed\"],...<br>new extent (len: 7): 2188, 4160, 2266, 492, 4224,...<br>new_intent (len: 8): balance, pdays, month, age, education,...<br>metric strongness = 1.0<br>metric stab_min_bound = None<br>metric stab_max_bound = None<br>metric log_stab_min_bound = None<br>metric log_stab_max_bound = None<br>metric lstab_min_bound = None<br>metric n_uncovered = 0<br>",
          "PatternStructure 39<br><br>extent (len: 7): 1181, 1048, 684, 3658, 1485,...<br>intent (len: 14): contact in [\"cellular\", \"telephone\"], poutcome in [\"other\", \"success\"], default = 0, housing = 0, campaign in [1, 6],...<br>new extent (len: 7): 1048, 1181, 684, 3658, 1485,...<br>new_intent (len: 10): marital, campaign, housing, balance, pdays,...<br>metric strongness = 1.0<br>metric stab_min_bound = None<br>metric stab_max_bound = None<br>metric log_stab_min_bound = None<br>metric log_stab_max_bound = None<br>metric lstab_min_bound = None<br>metric n_uncovered = 0<br>",
          "PatternStructure 36<br><br>extent (len: 8): 1056, 3250, 684, 3088, 2847,...<br>intent (len: 14): contact in [\"cellular\", \"telephone\"], job in [\"blue-collar\", \"entrepreneur\", \"services\", \"technician\"], poutcome = success, previous in [1, 4], education in [\"primary\", \"secondary\", \"tertiary\"],...<br>new extent (len: 8): 1056, 3250, 684, 3088, 2847,...<br>new_intent (len: 11): marital, campaign, housing, balance, pdays,...<br>metric strongness = 1.0<br>metric stab_min_bound = None<br>metric stab_max_bound = None<br>metric log_stab_min_bound = None<br>metric log_stab_max_bound = None<br>metric lstab_min_bound = None<br>metric n_uncovered = 0<br>",
          "PatternStructure 35<br><br>extent (len: 9): 98, 3835, 3256, 2176, 1952,...<br>intent (len: 14): loan in [0, 1], contact in [\"cellular\", \"telephone\"], poutcome = success, age in [28, 41], default = 0,...<br>new extent (len: 9): 98, 3835, 3256, 2176, 1952,...<br>new_intent (len: 6): balance, pdays, month, age, education,...<br>metric strongness = 1.0<br>metric stab_min_bound = None<br>metric stab_max_bound = None<br>metric log_stab_min_bound = None<br>metric log_stab_max_bound = None<br>metric lstab_min_bound = None<br>metric n_uncovered = 0<br>",
          "PatternStructure 32<br><br>extent (len: 9): 3684, 3695, 199, 1124, 3176,...<br>intent (len: 14): contact in [\"cellular\", \"telephone\"], job in [\"admin.\", \"management\", \"retired\", \"technician\"], poutcome = success, balance in [0, 5514], default = 0,...<br>new extent (len: 9): 3684, 3695, 199, 1124, 3176,...<br>new_intent (len: 11): marital, campaign, housing, balance, pdays,...<br>metric strongness = 1.0<br>metric stab_min_bound = None<br>metric stab_max_bound = None<br>metric log_stab_min_bound = None<br>metric log_stab_max_bound = None<br>metric lstab_min_bound = None<br>metric n_uncovered = 0<br>",
          "PatternStructure 34<br><br>extent (len: 9): 3684, 3835, 3695, 1754, 2251,...<br>intent (len: 14): balance in [19, 5037], contact in [\"cellular\", \"telephone\"], poutcome in [\"other\", \"success\"], month in [\"apr\", \"feb\", \"jul\", \"mar\"], education in [\"primary\", \"secondary\", \"tertiary\"],...<br>new extent (len: 9): 3684, 3835, 3695, 2251, 1754,...<br>new_intent (len: 6): housing, balance, pdays, month, age,...<br>metric strongness = 1.0<br>metric stab_min_bound = None<br>metric stab_max_bound = None<br>metric log_stab_min_bound = None<br>metric log_stab_max_bound = None<br>metric lstab_min_bound = None<br>metric n_uncovered = 0<br>",
          "PatternStructure 33<br><br>extent (len: 9): 1048, 1181, 2665, 3502, 2992,...<br>intent (len: 14): contact in [\"cellular\", \"telephone\"], poutcome in [\"other\", \"success\"], age in [22, 77], campaign in [1, 2], education in [\"primary\", \"secondary\", \"tertiary\"],...<br>new extent (len: 9): 1048, 1181, 2665, 3502, 2992,...<br>new_intent (len: 6): campaign, balance, pdays, month, previous,...<br>metric strongness = 1.0<br>metric stab_min_bound = None<br>metric stab_max_bound = None<br>metric log_stab_min_bound = None<br>metric log_stab_max_bound = None<br>metric lstab_min_bound = None<br>metric n_uncovered = 0<br>",
          "PatternStructure 31<br><br>extent (len: 11): 3684, 3695, 1754, 4216, 156,...<br>intent (len: 14): poutcome in [\"other\", \"success\"], default = 0, contact = cellular, campaign in [1, 6], marital in [\"divorced\", \"married\", \"single\"],...<br>new extent (len: 11): 3684, 3695, 1754, 156, 880,...<br>new_intent (len: 9): campaign, balance, pdays, month, contact,...<br>metric strongness = 1.0<br>metric stab_min_bound = None<br>metric stab_max_bound = None<br>metric log_stab_min_bound = None<br>metric log_stab_max_bound = None<br>metric lstab_min_bound = None<br>metric n_uncovered = 0<br>",
          "PatternStructure 30<br><br>extent (len: 11): 3005, 1349, 4364, 156, 492,...<br>intent (len: 13): contact in [\"cellular\", \"telephone\"], marital in [\"divorced\", \"married\"], job in [\"admin.\", \"management\", \"retired\", \"technician\"], previous in [0, 9], month in [\"dec\", \"jun\", \"mar\"],...<br>new extent (len: 6): 156, 492, 1230, 4224, 3331,...<br>new_intent (len: 8): marital, balance, month, poutcome, age,...<br>metric strongness = 0.7857142857142857<br>metric stab_min_bound = 0.984375<br>metric stab_max_bound = 0.984375<br>metric log_stab_min_bound = 6.0<br>metric log_stab_max_bound = 6.0<br>metric lstab_min_bound = -8.0<br>metric n_uncovered = 0<br>",
          "PatternStructure 28<br><br>extent (len: 12): 233, 3256, 2251, 2917, 4433,...<br>intent (len: 14): loan in [0, 1], poutcome = success, default = 0, contact = cellular, age in [26, 45],...<br>new extent (len: 12): 233, 3256, 2917, 2251, 4433,...<br>new_intent (len: 8): balance, pdays, month, contact, age,...<br>metric strongness = 1.0<br>metric stab_min_bound = None<br>metric stab_max_bound = None<br>metric log_stab_min_bound = None<br>metric log_stab_max_bound = None<br>metric lstab_min_bound = None<br>metric n_uncovered = 0<br>",
          "PatternStructure 26<br><br>extent (len: 12): 2188, 49, 156, 2539, 3751,...<br>intent (len: 14): poutcome = success, age in [31, 61], contact = cellular, default = 0, balance in [14, 4629],...<br>new extent (len: 12): 2188, 1469, 49, 2539, 156,...<br>new_intent (len: 10): campaign, balance, pdays, month, contact,...<br>metric strongness = 1.0<br>metric stab_min_bound = None<br>metric stab_max_bound = None<br>metric log_stab_min_bound = None<br>metric log_stab_max_bound = None<br>metric lstab_min_bound = None<br>metric n_uncovered = 0<br>",
          "PatternStructure 25<br><br>extent (len: 12): 2251, 1060, 619, 2969, 323,...<br>intent (len: 14): poutcome = success, previous in [1, 4], default = 0, contact = cellular, job in [\"admin.\", \"blue-collar\", \"management\", \"self-employed\", \"technician\"],...<br>new extent (len: 12): 2251, 1060, 619, 2969, 323,...<br>new_intent (len: 11): marital, campaign, balance, pdays, month,...<br>metric strongness = 1.0<br>metric stab_min_bound = None<br>metric stab_max_bound = None<br>metric log_stab_min_bound = None<br>metric log_stab_max_bound = None<br>metric lstab_min_bound = None<br>metric n_uncovered = 0<br>",
          "PatternStructure 27<br><br>extent (len: 12): 2188, 233, 49, 2266, 464,...<br>intent (len: 14): loan in [0, 1], poutcome = success, balance in [0, 4629], campaign in [1, 2], default = 0,...<br>new extent (len: 12): 2188, 233, 49, 2266, 464,...<br>new_intent (len: 8): campaign, balance, pdays, month, contact,...<br>metric strongness = 1.0<br>metric stab_min_bound = None<br>metric stab_max_bound = None<br>metric log_stab_min_bound = None<br>metric log_stab_max_bound = None<br>metric lstab_min_bound = None<br>metric n_uncovered = 0<br>",
          "PatternStructure 29<br><br>extent (len: 12): 855, 3527, 83, 3317, 2444,...<br>intent (len: 14): contact in [\"cellular\", \"telephone\"], previous in [1, 4], education in [\"primary\", \"secondary\", \"tertiary\"], default = 0, marital in [\"divorced\", \"married\", \"single\"],...<br>new extent (len: 5): 855, 3527, 83, 3317, 164<br>new_intent (len: 7): balance, pdays, month, poutcome, age,...<br>metric strongness = 0.8571428571428571<br>metric stab_min_bound = 0.96875<br>metric stab_max_bound = 0.96875<br>metric log_stab_min_bound = 5.0<br>metric log_stab_max_bound = 5.0<br>metric lstab_min_bound = -9.0<br>metric n_uncovered = 0<br>",
          "PatternStructure 24<br><br>extent (len: 15): 3385, 1905, 1048, 3978, 3256,...<br>intent (len: 14): loan in [0, 1], contact in [\"cellular\", \"telephone\"], poutcome = success, education in [\"primary\", \"secondary\", \"tertiary\"], default = 0,...<br>new extent (len: 15): 3385, 1905, 1048, 3978, 3256,...<br>new_intent (len: 4): month, age, balance, job<br>metric strongness = 1.0<br>metric stab_min_bound = None<br>metric stab_max_bound = None<br>metric log_stab_min_bound = None<br>metric log_stab_max_bound = None<br>metric lstab_min_bound = None<br>metric n_uncovered = 0<br>",
          "PatternStructure 22<br><br>extent (len: 16): 3978, 2213, 4160, 110, 3250,...<br>intent (len: 14): contact in [\"cellular\", \"telephone\"], pdays in [91.0, 683.0], job in [\"admin.\", \"retired\", \"student\", \"technician\", \"unemployed\", \"unknown\"], default = 0, housing = 0,...<br>new extent (len: 4): 3874, 2583, 4160, 3250<br>new_intent (len: 3): month, balance, job<br>metric strongness = 0.8<br>metric stab_min_bound = 0.998046875<br>metric stab_max_bound = 0.9990234375<br>metric log_stab_min_bound = 9.0<br>metric log_stab_max_bound = 10.0<br>metric lstab_min_bound = -4.0<br>metric n_uncovered = 0<br>",
          "PatternStructure 23<br><br>extent (len: 16): 3789, 3978, 504, 3248, 1437,...<br>intent (len: 13): poutcome in [\"success\", \"unknown\"], campaign in [1, 2], default = 0, previous in [0, 4], housing = 0,...<br>new extent (len: 16): 3978, 504, 3248, 1437, 2251,...<br>new_intent (len: 7): campaign, month, contact, poutcome, age,...<br>metric strongness = 0.26666666666666666<br>metric stab_min_bound = None<br>metric stab_max_bound = None<br>metric log_stab_min_bound = None<br>metric log_stab_max_bound = None<br>metric lstab_min_bound = None<br>metric n_uncovered = 0<br>",
          "PatternStructure 21<br><br>extent (len: 19): 1124, 1303, 70, 855, 1905,...<br>intent (len: 14): contact in [\"cellular\", \"telephone\"], poutcome = success, default = 0, balance in [0, 2557], marital in [\"divorced\", \"married\", \"single\"],...<br>new extent (len: 19): 1124, 1303, 70, 855, 1905,...<br>new_intent (len: 8): campaign, balance, pdays, month, age,...<br>metric strongness = 1.0<br>metric stab_min_bound = None<br>metric stab_max_bound = None<br>metric log_stab_min_bound = None<br>metric log_stab_max_bound = None<br>metric lstab_min_bound = None<br>metric n_uncovered = 0<br>",
          "PatternStructure 20<br><br>extent (len: 20): 1124, 2969, 1303, 1695, 3589,...<br>intent (len: 14): loan in [0, 1], poutcome = success, age in [28, 53], balance in [-46, 3576], default = 0,...<br>new extent (len: 20): 1124, 2969, 1303, 1695, 3589,...<br>new_intent (len: 9): marital, campaign, balance, pdays, month,...<br>metric strongness = 1.0<br>metric stab_min_bound = None<br>metric stab_max_bound = None<br>metric log_stab_min_bound = None<br>metric log_stab_max_bound = None<br>metric lstab_min_bound = None<br>metric n_uncovered = 0<br>",
          "PatternStructure 19<br><br>extent (len: 21): 3695, 156, 3931, 4216, 540,...<br>intent (len: 14): contact in [\"cellular\", \"telephone\"], poutcome in [\"other\", \"success\"], education in [\"primary\", \"secondary\", \"tertiary\"], default = 0, previous in [1, 5],...<br>new extent (len: 4): 1905, 984, 4009, 849<br>new_intent (len: 1): job<br>metric strongness = 0.875<br>metric stab_min_bound = 0.998779296875<br>metric stab_max_bound = 0.9990234375<br>metric log_stab_min_bound = 9.678071905112638<br>metric log_stab_max_bound = 10.0<br>metric lstab_min_bound = -4.0<br>metric n_uncovered = 0<br>",
          "PatternStructure 18<br><br>extent (len: 22): 4160, 2969, 1695, 540, 1905,...<br>intent (len: 14): contact in [\"cellular\", \"telephone\"], poutcome = success, campaign in [1, 2], education in [\"primary\", \"secondary\", \"tertiary\"], job in [\"admin.\", \"blue-collar\", \"housemaid\", \"management\", \"retired\", \"technician\"],...<br>new extent (len: 22): 4160, 2969, 1695, 540, 1905,...<br>new_intent (len: 8): marital, campaign, balance, month, loan,...<br>metric strongness = 1.0<br>metric stab_min_bound = None<br>metric stab_max_bound = None<br>metric log_stab_min_bound = None<br>metric log_stab_max_bound = None<br>metric lstab_min_bound = None<br>metric n_uncovered = 0<br>",
          "PatternStructure 17<br><br>extent (len: 23): 3317, 3502, 2449, 164, 328,...<br>intent (len: 14): contact in [\"cellular\", \"telephone\"], education in [\"primary\", \"secondary\", \"tertiary\"], poutcome in [\"failure\", \"other\", \"success\"], default = 0, month in [\"aug\", \"dec\", \"jul\", \"oct\", \"sep\"],...<br>new extent (len: 6): 1048, 3502, 2449, 1736, 4458,...<br>new_intent (len: 7): campaign, balance, pdays, month, age,...<br>metric strongness = 0.575<br>metric stab_min_bound = 0.9995079040527344<br>metric stab_max_bound = 0.99951171875<br>metric log_stab_min_bound = 10.988772744576746<br>metric log_stab_max_bound = 11.0<br>metric lstab_min_bound = -3.0<br>metric n_uncovered = 0<br>",
          "PatternStructure 16<br><br>extent (len: 23): 2821, 156, 1467, 3931, 1303,...<br>intent (len: 13): loan in [0, 1], month in [\"dec\", \"jun\", \"mar\", \"oct\"], contact in [\"cellular\", \"telephone\"], poutcome in [\"failure\", \"other\", \"success\", \"unknown\"], default = 0,...<br>new extent (len: 8): 2821, 36, 3311, 3931, 1303,...<br>new_intent (len: 6): balance, month, age, previous, education,...<br>metric strongness = 0.39655172413793105<br>metric stab_min_bound = 0.9997520446777344<br>metric stab_max_bound = 0.999755859375<br>metric log_stab_min_bound = 11.977632186971546<br>metric log_stab_max_bound = 12.0<br>metric lstab_min_bound = -2.0<br>metric n_uncovered = 0<br>",
          "PatternStructure 15<br><br>extent (len: 27): 233, 4160, 2049, 156, 3176,...<br>intent (len: 14): loan in [0, 1], contact in [\"cellular\", \"telephone\"], poutcome = success, education in [\"primary\", \"secondary\", \"tertiary\"], default = 0,...<br>new extent (len: 8): 233, 1181, 464, 1754, 684,...<br>new_intent (len: 9): marital, campaign, balance, pdays, month,...<br>metric strongness = 0.9642857142857143<br>metric stab_min_bound = 0.9997556209564209<br>metric stab_max_bound = 0.999755859375<br>metric log_stab_min_bound = 11.998591805607191<br>metric log_stab_max_bound = 12.0<br>metric lstab_min_bound = -2.0<br>metric n_uncovered = 0<br>",
          "PatternStructure 14<br><br>extent (len: 27): 3695, 156, 3931, 1469, 4216,...<br>intent (len: 14): contact in [\"cellular\", \"telephone\"], poutcome in [\"other\", \"success\"], education in [\"primary\", \"secondary\", \"tertiary\"], default = 0, previous in [1, 5],...<br>new extent (len: 6): 684, 3088, 1469, 3658, 1485,...<br>new_intent (len: 5): pdays, month, age, previous, job<br>metric strongness = 0.7941176470588235<br>metric stab_min_bound = 0.984375<br>metric stab_max_bound = 0.984375<br>metric log_stab_min_bound = 6.0<br>metric log_stab_max_bound = 6.0<br>metric lstab_min_bound = -8.0<br>metric n_uncovered = 0<br>",
          "PatternStructure 13<br><br>extent (len: 31): 3695, 4160, 3498, 1467, 164,...<br>intent (len: 13): contact in [\"cellular\", \"telephone\", \"unknown\"], default = 0, previous in [0, 4], housing = 0, age in [28, 84],...<br>new extent (len: 15): 2014, 3684, 4108, 3695, 4160,...<br>new_intent (len: 9): campaign, housing, balance, month, poutcome,...<br>metric strongness = 0.11524163568773234<br>metric stab_min_bound = 0.999969482421875<br>metric stab_max_bound = 0.999969482421875<br>metric log_stab_min_bound = 15.0<br>metric log_stab_max_bound = 15.0<br>metric lstab_min_bound = 1.0<br>metric n_uncovered = 0<br>",
          "PatternStructure 12<br><br>extent (len: 32): 3317, 4160, 1124, 164, 2969,...<br>intent (len: 14): contact in [\"cellular\", \"telephone\"], pdays in [91.0, 683.0], default = 0, housing = 0, campaign in [1, 6],...<br>new extent (len: 16): 1056, 3317, 3256, 2251, 1754,...<br>new_intent (len: 9): marital, housing, balance, pdays, month,...<br>metric strongness = 0.6153846153846154<br>metric stab_min_bound = 0.9999847412109375<br>metric stab_max_bound = 0.9999847412109375<br>metric log_stab_min_bound = 16.0<br>metric log_stab_max_bound = 16.0<br>metric lstab_min_bound = 2.0<br>metric n_uncovered = 0<br>",
          "PatternStructure 11<br><br>extent (len: 40): 233, 4160, 2917, 4433, 2449,...<br>intent (len: 14): loan in [0, 1], job in [\"admin.\", \"blue-collar\", \"management\", \"retired\", \"student\", \"technician\", \"unemployed\"], contact in [\"cellular\", \"telephone\"], poutcome = success, balance in [-242, 4629],...<br>new extent (len: 14): 3978, 1905, 941, 3005, 4186,...<br>new_intent (len: 8): marital, campaign, balance, pdays, month,...<br>metric strongness = 0.9090909090909091<br>metric stab_min_bound = 0.9999999924330041<br>metric stab_max_bound = 0.9999999962747097<br>metric log_stab_min_bound = 26.977632186971544<br>metric log_stab_max_bound = 28.0<br>metric lstab_min_bound = 14.0<br>metric n_uncovered = 0<br>",
          "PatternStructure 10<br><br>extent (len: 45): 3695, 2917, 156, 3176, 3502,...<br>intent (len: 14): contact in [\"cellular\", \"telephone\"], poutcome in [\"other\", \"success\"], month in [\"apr\", \"dec\", \"feb\", \"jul\", \"jun\", \"mar\", \"may\", \"nov\", \"oct\"], age in [22, 77], education in [\"primary\", \"secondary\", \"tertiary\"],...<br>new extent (len: 10): 3256, 2917, 199, 3176, 4093,...<br>new_intent (len: 8): balance, pdays, month, age, education,...<br>metric strongness = 0.5056179775280899<br>metric stab_min_bound = 0.9999961852845445<br>metric stab_max_bound = 0.9999961853027344<br>metric log_stab_min_bound = 17.999993120710368<br>metric log_stab_max_bound = 18.0<br>metric lstab_min_bound = 4.0<br>metric n_uncovered = 0<br>",
          "PatternStructure 9<br><br>extent (len: 48): 233, 4160, 2917, 2049, 2969,...<br>intent (len: 14): loan in [0, 1], contact in [\"cellular\", \"telephone\"], poutcome = success, default = 0, job in [\"admin.\", \"blue-collar\", \"housemaid\", \"management\", \"retired\", \"technician\"],...<br>new extent (len: 19): 233, 2917, 2049, 70, 1653,...<br>new_intent (len: 5): balance, pdays, month, age, job<br>metric strongness = 0.9056603773584906<br>metric stab_min_bound = 0.9999999850970198<br>metric stab_max_bound = 0.9999999850988388<br>metric log_stab_min_bound = 25.999823900513558<br>metric log_stab_max_bound = 26.0<br>metric lstab_min_bound = 12.0<br>metric n_uncovered = 0<br>",
          "PatternStructure 8<br><br>extent (len: 51): 2821, 156, 1124, 3502, 2449,...<br>intent (len: 13): loan in [0, 1], poutcome in [\"failure\", \"other\", \"success\", \"unknown\"], contact in [\"cellular\", \"telephone\"], age in [28, 87], previous in [0, 14],...<br>new extent (len: 28): 1124, 3502, 2449, 164, 3789,...<br>new_intent (len: 5): campaign, balance, month, age, job<br>metric strongness = 0.2602040816326531<br>metric stab_min_bound = 0.9999999962747097<br>metric stab_max_bound = 0.9999999962747097<br>metric log_stab_min_bound = 28.0<br>metric log_stab_max_bound = 28.0<br>metric lstab_min_bound = 14.0<br>metric n_uncovered = 0<br>",
          "PatternStructure 7<br><br>extent (len: 58): 233, 2917, 2049, 156, 1124,...<br>intent (len: 14): loan in [0, 1], contact in [\"cellular\", \"telephone\"], poutcome = success, month in [\"aug\", \"feb\", \"jan\", \"jul\", \"jun\", \"mar\", \"nov\", \"oct\", \"sep\"], default = 0,...<br>new extent (len: 17): 941, 233, 4186, 347, 2917,...<br>new_intent (len: 5): balance, pdays, month, age, job<br>metric strongness = 0.9354838709677419<br>metric stab_min_bound = 0.9999999999981641<br>metric stab_max_bound = 0.999999999998181<br>metric log_stab_min_bound = 38.98667732657455<br>metric log_stab_max_bound = 39.0<br>metric lstab_min_bound = 25.0<br>metric n_uncovered = 0<br>",
          "PatternStructure 6<br><br>extent (len: 62): 3317, 4160, 2917, 1928, 1124,...<br>intent (len: 14): month in [\"apr\", \"aug\", \"dec\", \"feb\", \"jan\", \"jul\", \"jun\", \"mar\", \"oct\", \"sep\"], contact in [\"cellular\", \"telephone\"], poutcome in [\"failure\", \"other\", \"success\"], default = 0, campaign in [1, 6],...<br>new extent (len: 13): 98, 1905, 2188, 347, 2917,...<br>new_intent (len: 8): campaign, balance, pdays, month, age,...<br>metric strongness = 0.2683982683982684<br>metric stab_min_bound = 0.9999999990668584<br>metric stab_max_bound = 0.9999999990686774<br>metric log_stab_min_bound = 29.997184984392945<br>metric log_stab_max_bound = 30.0<br>metric lstab_min_bound = 16.0<br>metric n_uncovered = 0<br>",
          "PatternStructure 5<br><br>extent (len: 84): 4160, 2049, 1124, 3931, 1695,...<br>intent (len: 14): loan in [0, 1], contact in [\"cellular\", \"telephone\"], poutcome = success, default = 0, pdays in [1.0, 541.0],...<br>new extent (len: 6): 1048, 1181, 3176, 477, 3243,...<br>new_intent (len: 2): month, job<br>metric strongness = 0.8<br>metric stab_min_bound = 0.99999998508423<br>metric stab_max_bound = 0.9999999850988388<br>metric log_stab_min_bound = 25.998586307542055<br>metric log_stab_max_bound = 26.0<br>metric lstab_min_bound = 12.0<br>metric n_uncovered = 0<br>",
          "PatternStructure 4<br><br>extent (len: 94): 4160, 2049, 1124, 3931, 1695,...<br>intent (len: 14): loan in [0, 1], contact in [\"cellular\", \"telephone\"], poutcome = success, default = 0, pdays in [1.0, 541.0],...<br>new extent (len: 2): 880, 1374<br>new_intent (len: 4): age, poutcome, campaign, balance<br>metric strongness = 0.7833333333333333<br>metric stab_min_bound = 0.9990234375<br>metric stab_max_bound = 0.9990234375<br>metric log_stab_min_bound = 10.0<br>metric log_stab_max_bound = 10.0<br>metric lstab_min_bound = -4.0<br>metric n_uncovered = 0<br>",
          "PatternStructure 3<br><br>extent (len: 103): 4160, 2049, 1124, 3931, 1695,...<br>intent (len: 14): loan in [0, 1], contact in [\"cellular\", \"telephone\"], poutcome in [\"other\", \"success\"], default = 0, pdays in [1.0, 541.0],...<br>new extent (len: 2): 3932, 3930<br>new_intent (len: 4): age, poutcome, balance, pdays<br>metric strongness = 0.3468013468013468<br>metric stab_min_bound = 0.998046875<br>metric stab_max_bound = 0.998046875<br>metric log_stab_min_bound = 9.0<br>metric log_stab_max_bound = 9.0<br>metric lstab_min_bound = -5.0<br>metric n_uncovered = 0<br>",
          "PatternStructure 2<br><br>extent (len: 122): 3317, 4160, 2049, 1124, 3931,...<br>intent (len: 14): loan in [0, 1], contact in [\"cellular\", \"telephone\"], age in [21, 79], poutcome in [\"failure\", \"other\", \"success\"], default = 0,...<br>new extent (len: 4): 970, 412, 4213, 3743<br>new_intent (len: 5): balance, pdays, poutcome, age, previous<br>metric strongness = 0.16180371352785147<br>metric stab_min_bound = 0.9999980926513672<br>metric stab_max_bound = 0.9999980926513672<br>metric log_stab_min_bound = 19.0<br>metric log_stab_max_bound = 19.0<br>metric lstab_min_bound = 5.0<br>metric n_uncovered = 0<br>",
          "PatternStructure 1<br><br>extent (len: 148): 2821, 3317, 4160, 2049, 1124,...<br>intent (len: 13): loan in [0, 1], poutcome in [\"failure\", \"other\", \"success\", \"unknown\"], contact in [\"cellular\", \"telephone\"], previous in [0, 14], default = 0,...<br>new extent (len: 6): 2780, 4108, 503, 189, 3558,...<br>new_intent (len: 1): contact<br>metric strongness = 0.04933333333333333<br>metric stab_min_bound = 0.9999999850988388<br>metric stab_max_bound = 0.9999999850988388<br>metric log_stab_min_bound = 26.0<br>metric log_stab_max_bound = 26.0<br>metric lstab_min_bound = 12.0<br>metric n_uncovered = 148<br>",
          "PatternStructure 0<br><br>extent (len: 149): 2821, 3317, 4160, 2049, 1124,...<br>intent (len: 13): contact in [\"cellular\", \"telephone\", \"unknown\"], poutcome in [\"failure\", \"other\", \"success\", \"unknown\"], loan in [0, 1], previous in [0, 14], default = 0,...<br>new extent (len: 0): ∅<br>new_intent (len: 13): marital, campaign, default, housing, balance,...<br>metric strongness = 0.03521626093122193<br>metric stab_min_bound = 0.5<br>metric stab_max_bound = 0.5<br>metric log_stab_min_bound = 1.0<br>metric log_stab_max_bound = 1.0<br>metric lstab_min_bound = -13.0<br>"
         ],
         "marker": {
          "color": [
           1,
           1,
           1,
           1,
           1,
           1,
           1,
           1,
           1,
           1,
           1,
           1,
           1,
           1,
           1,
           0.7857142857142857,
           1,
           1,
           1,
           1,
           0.8571428571428571,
           1,
           0.8,
           0.26666666666666666,
           1,
           1,
           0.875,
           1,
           0.575,
           0.39655172413793105,
           0.9642857142857143,
           0.7941176470588235,
           0.11524163568773234,
           0.6153846153846154,
           0.9090909090909091,
           0.5056179775280899,
           0.9056603773584906,
           0.2602040816326531,
           0.9354838709677419,
           0.2683982683982684,
           0.8,
           0.7833333333333333,
           0.3468013468013468,
           0.16180371352785147,
           0.04933333333333333,
           0.03521626093122193
          ],
          "colorbar": {
           "thickness": 15,
           "title": {
            "side": "right",
            "text": "y_mean"
           },
           "xanchor": "left"
          },
          "colorscale": [
           [
            0,
            "rgb(103,0,31)"
           ],
           [
            0.1,
            "rgb(178,24,43)"
           ],
           [
            0.2,
            "rgb(214,96,77)"
           ],
           [
            0.3,
            "rgb(244,165,130)"
           ],
           [
            0.4,
            "rgb(253,219,199)"
           ],
           [
            0.5,
            "rgb(247,247,247)"
           ],
           [
            0.6,
            "rgb(209,229,240)"
           ],
           [
            0.7,
            "rgb(146,197,222)"
           ],
           [
            0.8,
            "rgb(67,147,195)"
           ],
           [
            0.9,
            "rgb(33,102,172)"
           ],
           [
            1,
            "rgb(5,48,97)"
           ]
          ],
          "line": {
           "width": 2
          },
          "reversescale": true,
          "showscale": true,
          "size": 10
         },
         "mode": "markers+text",
         "text": [
          "n: 6<br>n: 5",
          "n: 8<br>n: 5",
          "n: 7<br>n: 5",
          "n: 9<br>n: 5",
          "n: 7<br>n: 6",
          "n: 6<br>n: 6",
          "n: 5<br>n: 7",
          "n: 8<br>n: 7",
          "n: 10<br>n: 7",
          "n: 11<br>n: 8",
          "n: 6<br>n: 9",
          "n: 11<br>n: 9",
          "n: 6<br>n: 9",
          "n: 6<br>n: 9",
          "n: 9<br>n: 11",
          "n: 8<br>n: 6",
          "n: 8<br>n: 12",
          "n: 10<br>n: 12",
          "n: 11<br>n: 12",
          "n: 8<br>n: 12",
          "n: 7<br>n: 5",
          "n: 4<br>n: 15",
          "n: 3<br>n: 4",
          "n: 7<br>n: 16",
          "n: 8<br>n: 19",
          "n: 9<br>n: 20",
          "n: 1<br>n: 4",
          "n: 8<br>n: 22",
          "n: 7<br>n: 6",
          "n: 6<br>n: 8",
          "n: 9<br>n: 8",
          "n: 5<br>n: 6",
          "n: 9<br>n: 15",
          "n: 9<br>n: 16",
          "n: 8<br>n: 14",
          "n: 8<br>n: 10",
          "n: 5<br>n: 19",
          "n: 5<br>n: 28",
          "n: 5<br>n: 17",
          "n: 8<br>n: 13",
          "n: 2<br>n: 6",
          "n: 4<br>n: 2",
          "n: 4<br>n: 2",
          "n: 5<br>n: 4",
          "n: 1<br>n: 6",
          "n: 13<br>"
         ],
         "textposition": "middle right",
         "type": "scatter",
         "x": [
          4.5,
          -4.5,
          -2,
          1.5,
          -5,
          -4,
          -3,
          -4.5,
          -1.5,
          -3.5,
          -2.5,
          -0.5,
          -1.5,
          0.5,
          -0.5,
          2.5,
          0.5,
          1.5,
          -1,
          2.5,
          -3.5,
          0,
          -2.5,
          -1,
          3.5,
          1,
          2,
          4.5,
          -2.5,
          1,
          1.5,
          2.5,
          -0.5,
          -1.5,
          3,
          -0.5,
          4,
          1,
          5,
          -1,
          3.5,
          0.5,
          0,
          0,
          0.5,
          0
         ],
         "y": [
          3,
          3,
          2,
          4,
          2,
          2,
          2,
          1,
          3,
          1,
          1,
          3,
          1,
          3,
          1,
          4,
          1,
          1,
          2,
          1,
          3,
          2,
          3,
          6,
          1,
          2,
          2,
          1,
          4,
          5,
          3,
          3,
          7,
          4,
          2,
          4,
          2,
          6,
          2,
          5,
          3,
          4,
          5,
          6,
          7,
          8
         ]
        }
       ],
       "layout": {
        "height": 500,
        "hovermode": "closest",
        "margin": {
         "b": 20,
         "l": 5,
         "r": 5,
         "t": 40
        },
        "showlegend": false,
        "template": {
         "data": {
          "bar": [
           {
            "error_x": {
             "color": "#2a3f5f"
            },
            "error_y": {
             "color": "#2a3f5f"
            },
            "marker": {
             "line": {
              "color": "#E5ECF6",
              "width": 0.5
             }
            },
            "type": "bar"
           }
          ],
          "barpolar": [
           {
            "marker": {
             "line": {
              "color": "#E5ECF6",
              "width": 0.5
             }
            },
            "type": "barpolar"
           }
          ],
          "carpet": [
           {
            "aaxis": {
             "endlinecolor": "#2a3f5f",
             "gridcolor": "white",
             "linecolor": "white",
             "minorgridcolor": "white",
             "startlinecolor": "#2a3f5f"
            },
            "baxis": {
             "endlinecolor": "#2a3f5f",
             "gridcolor": "white",
             "linecolor": "white",
             "minorgridcolor": "white",
             "startlinecolor": "#2a3f5f"
            },
            "type": "carpet"
           }
          ],
          "choropleth": [
           {
            "colorbar": {
             "outlinewidth": 0,
             "ticks": ""
            },
            "type": "choropleth"
           }
          ],
          "contour": [
           {
            "colorbar": {
             "outlinewidth": 0,
             "ticks": ""
            },
            "colorscale": [
             [
              0,
              "#0d0887"
             ],
             [
              0.1111111111111111,
              "#46039f"
             ],
             [
              0.2222222222222222,
              "#7201a8"
             ],
             [
              0.3333333333333333,
              "#9c179e"
             ],
             [
              0.4444444444444444,
              "#bd3786"
             ],
             [
              0.5555555555555556,
              "#d8576b"
             ],
             [
              0.6666666666666666,
              "#ed7953"
             ],
             [
              0.7777777777777778,
              "#fb9f3a"
             ],
             [
              0.8888888888888888,
              "#fdca26"
             ],
             [
              1,
              "#f0f921"
             ]
            ],
            "type": "contour"
           }
          ],
          "contourcarpet": [
           {
            "colorbar": {
             "outlinewidth": 0,
             "ticks": ""
            },
            "type": "contourcarpet"
           }
          ],
          "heatmap": [
           {
            "colorbar": {
             "outlinewidth": 0,
             "ticks": ""
            },
            "colorscale": [
             [
              0,
              "#0d0887"
             ],
             [
              0.1111111111111111,
              "#46039f"
             ],
             [
              0.2222222222222222,
              "#7201a8"
             ],
             [
              0.3333333333333333,
              "#9c179e"
             ],
             [
              0.4444444444444444,
              "#bd3786"
             ],
             [
              0.5555555555555556,
              "#d8576b"
             ],
             [
              0.6666666666666666,
              "#ed7953"
             ],
             [
              0.7777777777777778,
              "#fb9f3a"
             ],
             [
              0.8888888888888888,
              "#fdca26"
             ],
             [
              1,
              "#f0f921"
             ]
            ],
            "type": "heatmap"
           }
          ],
          "heatmapgl": [
           {
            "colorbar": {
             "outlinewidth": 0,
             "ticks": ""
            },
            "colorscale": [
             [
              0,
              "#0d0887"
             ],
             [
              0.1111111111111111,
              "#46039f"
             ],
             [
              0.2222222222222222,
              "#7201a8"
             ],
             [
              0.3333333333333333,
              "#9c179e"
             ],
             [
              0.4444444444444444,
              "#bd3786"
             ],
             [
              0.5555555555555556,
              "#d8576b"
             ],
             [
              0.6666666666666666,
              "#ed7953"
             ],
             [
              0.7777777777777778,
              "#fb9f3a"
             ],
             [
              0.8888888888888888,
              "#fdca26"
             ],
             [
              1,
              "#f0f921"
             ]
            ],
            "type": "heatmapgl"
           }
          ],
          "histogram": [
           {
            "marker": {
             "colorbar": {
              "outlinewidth": 0,
              "ticks": ""
             }
            },
            "type": "histogram"
           }
          ],
          "histogram2d": [
           {
            "colorbar": {
             "outlinewidth": 0,
             "ticks": ""
            },
            "colorscale": [
             [
              0,
              "#0d0887"
             ],
             [
              0.1111111111111111,
              "#46039f"
             ],
             [
              0.2222222222222222,
              "#7201a8"
             ],
             [
              0.3333333333333333,
              "#9c179e"
             ],
             [
              0.4444444444444444,
              "#bd3786"
             ],
             [
              0.5555555555555556,
              "#d8576b"
             ],
             [
              0.6666666666666666,
              "#ed7953"
             ],
             [
              0.7777777777777778,
              "#fb9f3a"
             ],
             [
              0.8888888888888888,
              "#fdca26"
             ],
             [
              1,
              "#f0f921"
             ]
            ],
            "type": "histogram2d"
           }
          ],
          "histogram2dcontour": [
           {
            "colorbar": {
             "outlinewidth": 0,
             "ticks": ""
            },
            "colorscale": [
             [
              0,
              "#0d0887"
             ],
             [
              0.1111111111111111,
              "#46039f"
             ],
             [
              0.2222222222222222,
              "#7201a8"
             ],
             [
              0.3333333333333333,
              "#9c179e"
             ],
             [
              0.4444444444444444,
              "#bd3786"
             ],
             [
              0.5555555555555556,
              "#d8576b"
             ],
             [
              0.6666666666666666,
              "#ed7953"
             ],
             [
              0.7777777777777778,
              "#fb9f3a"
             ],
             [
              0.8888888888888888,
              "#fdca26"
             ],
             [
              1,
              "#f0f921"
             ]
            ],
            "type": "histogram2dcontour"
           }
          ],
          "mesh3d": [
           {
            "colorbar": {
             "outlinewidth": 0,
             "ticks": ""
            },
            "type": "mesh3d"
           }
          ],
          "parcoords": [
           {
            "line": {
             "colorbar": {
              "outlinewidth": 0,
              "ticks": ""
             }
            },
            "type": "parcoords"
           }
          ],
          "pie": [
           {
            "automargin": true,
            "type": "pie"
           }
          ],
          "scatter": [
           {
            "marker": {
             "colorbar": {
              "outlinewidth": 0,
              "ticks": ""
             }
            },
            "type": "scatter"
           }
          ],
          "scatter3d": [
           {
            "line": {
             "colorbar": {
              "outlinewidth": 0,
              "ticks": ""
             }
            },
            "marker": {
             "colorbar": {
              "outlinewidth": 0,
              "ticks": ""
             }
            },
            "type": "scatter3d"
           }
          ],
          "scattercarpet": [
           {
            "marker": {
             "colorbar": {
              "outlinewidth": 0,
              "ticks": ""
             }
            },
            "type": "scattercarpet"
           }
          ],
          "scattergeo": [
           {
            "marker": {
             "colorbar": {
              "outlinewidth": 0,
              "ticks": ""
             }
            },
            "type": "scattergeo"
           }
          ],
          "scattergl": [
           {
            "marker": {
             "colorbar": {
              "outlinewidth": 0,
              "ticks": ""
             }
            },
            "type": "scattergl"
           }
          ],
          "scattermapbox": [
           {
            "marker": {
             "colorbar": {
              "outlinewidth": 0,
              "ticks": ""
             }
            },
            "type": "scattermapbox"
           }
          ],
          "scatterpolar": [
           {
            "marker": {
             "colorbar": {
              "outlinewidth": 0,
              "ticks": ""
             }
            },
            "type": "scatterpolar"
           }
          ],
          "scatterpolargl": [
           {
            "marker": {
             "colorbar": {
              "outlinewidth": 0,
              "ticks": ""
             }
            },
            "type": "scatterpolargl"
           }
          ],
          "scatterternary": [
           {
            "marker": {
             "colorbar": {
              "outlinewidth": 0,
              "ticks": ""
             }
            },
            "type": "scatterternary"
           }
          ],
          "surface": [
           {
            "colorbar": {
             "outlinewidth": 0,
             "ticks": ""
            },
            "colorscale": [
             [
              0,
              "#0d0887"
             ],
             [
              0.1111111111111111,
              "#46039f"
             ],
             [
              0.2222222222222222,
              "#7201a8"
             ],
             [
              0.3333333333333333,
              "#9c179e"
             ],
             [
              0.4444444444444444,
              "#bd3786"
             ],
             [
              0.5555555555555556,
              "#d8576b"
             ],
             [
              0.6666666666666666,
              "#ed7953"
             ],
             [
              0.7777777777777778,
              "#fb9f3a"
             ],
             [
              0.8888888888888888,
              "#fdca26"
             ],
             [
              1,
              "#f0f921"
             ]
            ],
            "type": "surface"
           }
          ],
          "table": [
           {
            "cells": {
             "fill": {
              "color": "#EBF0F8"
             },
             "line": {
              "color": "white"
             }
            },
            "header": {
             "fill": {
              "color": "#C8D4E3"
             },
             "line": {
              "color": "white"
             }
            },
            "type": "table"
           }
          ]
         },
         "layout": {
          "annotationdefaults": {
           "arrowcolor": "#2a3f5f",
           "arrowhead": 0,
           "arrowwidth": 1
          },
          "coloraxis": {
           "colorbar": {
            "outlinewidth": 0,
            "ticks": ""
           }
          },
          "colorscale": {
           "diverging": [
            [
             0,
             "#8e0152"
            ],
            [
             0.1,
             "#c51b7d"
            ],
            [
             0.2,
             "#de77ae"
            ],
            [
             0.3,
             "#f1b6da"
            ],
            [
             0.4,
             "#fde0ef"
            ],
            [
             0.5,
             "#f7f7f7"
            ],
            [
             0.6,
             "#e6f5d0"
            ],
            [
             0.7,
             "#b8e186"
            ],
            [
             0.8,
             "#7fbc41"
            ],
            [
             0.9,
             "#4d9221"
            ],
            [
             1,
             "#276419"
            ]
           ],
           "sequential": [
            [
             0,
             "#0d0887"
            ],
            [
             0.1111111111111111,
             "#46039f"
            ],
            [
             0.2222222222222222,
             "#7201a8"
            ],
            [
             0.3333333333333333,
             "#9c179e"
            ],
            [
             0.4444444444444444,
             "#bd3786"
            ],
            [
             0.5555555555555556,
             "#d8576b"
            ],
            [
             0.6666666666666666,
             "#ed7953"
            ],
            [
             0.7777777777777778,
             "#fb9f3a"
            ],
            [
             0.8888888888888888,
             "#fdca26"
            ],
            [
             1,
             "#f0f921"
            ]
           ],
           "sequentialminus": [
            [
             0,
             "#0d0887"
            ],
            [
             0.1111111111111111,
             "#46039f"
            ],
            [
             0.2222222222222222,
             "#7201a8"
            ],
            [
             0.3333333333333333,
             "#9c179e"
            ],
            [
             0.4444444444444444,
             "#bd3786"
            ],
            [
             0.5555555555555556,
             "#d8576b"
            ],
            [
             0.6666666666666666,
             "#ed7953"
            ],
            [
             0.7777777777777778,
             "#fb9f3a"
            ],
            [
             0.8888888888888888,
             "#fdca26"
            ],
            [
             1,
             "#f0f921"
            ]
           ]
          },
          "colorway": [
           "#636efa",
           "#EF553B",
           "#00cc96",
           "#ab63fa",
           "#FFA15A",
           "#19d3f3",
           "#FF6692",
           "#B6E880",
           "#FF97FF",
           "#FECB52"
          ],
          "font": {
           "color": "#2a3f5f"
          },
          "geo": {
           "bgcolor": "white",
           "lakecolor": "white",
           "landcolor": "#E5ECF6",
           "showlakes": true,
           "showland": true,
           "subunitcolor": "white"
          },
          "hoverlabel": {
           "align": "left"
          },
          "hovermode": "closest",
          "mapbox": {
           "style": "light"
          },
          "paper_bgcolor": "white",
          "plot_bgcolor": "#E5ECF6",
          "polar": {
           "angularaxis": {
            "gridcolor": "white",
            "linecolor": "white",
            "ticks": ""
           },
           "bgcolor": "#E5ECF6",
           "radialaxis": {
            "gridcolor": "white",
            "linecolor": "white",
            "ticks": ""
           }
          },
          "scene": {
           "xaxis": {
            "backgroundcolor": "#E5ECF6",
            "gridcolor": "white",
            "gridwidth": 2,
            "linecolor": "white",
            "showbackground": true,
            "ticks": "",
            "zerolinecolor": "white"
           },
           "yaxis": {
            "backgroundcolor": "#E5ECF6",
            "gridcolor": "white",
            "gridwidth": 2,
            "linecolor": "white",
            "showbackground": true,
            "ticks": "",
            "zerolinecolor": "white"
           },
           "zaxis": {
            "backgroundcolor": "#E5ECF6",
            "gridcolor": "white",
            "gridwidth": 2,
            "linecolor": "white",
            "showbackground": true,
            "ticks": "",
            "zerolinecolor": "white"
           }
          },
          "shapedefaults": {
           "line": {
            "color": "#2a3f5f"
           }
          },
          "ternary": {
           "aaxis": {
            "gridcolor": "white",
            "linecolor": "white",
            "ticks": ""
           },
           "baxis": {
            "gridcolor": "white",
            "linecolor": "white",
            "ticks": ""
           },
           "bgcolor": "#E5ECF6",
           "caxis": {
            "gridcolor": "white",
            "linecolor": "white",
            "ticks": ""
           }
          },
          "title": {
           "x": 0.05
          },
          "xaxis": {
           "automargin": true,
           "gridcolor": "white",
           "linecolor": "white",
           "ticks": "",
           "title": {
            "standoff": 15
           },
           "zerolinecolor": "white",
           "zerolinewidth": 2
          },
          "yaxis": {
           "automargin": true,
           "gridcolor": "white",
           "linecolor": "white",
           "ticks": "",
           "title": {
            "standoff": 15
           },
           "zerolinecolor": "white",
           "zerolinewidth": 2
          }
         }
        },
        "title": {
         "font": {
          "size": 16
         },
         "text": "Concept Lattice"
        },
        "width": 1000,
        "xaxis": {
         "showgrid": false,
         "showticklabels": false,
         "zeroline": false
        },
        "yaxis": {
         "showgrid": false,
         "showticklabels": false,
         "zeroline": false
        }
       }
      },
      "text/html": [
       "<div>\n",
       "        \n",
       "        \n",
       "            <div id=\"4ec78070-0a17-4413-9a50-c3771e2aeb25\" class=\"plotly-graph-div\" style=\"height:500px; width:1000px;\"></div>\n",
       "            <script type=\"text/javascript\">\n",
       "                require([\"plotly\"], function(Plotly) {\n",
       "                    window.PLOTLYENV=window.PLOTLYENV || {};\n",
       "                    \n",
       "                if (document.getElementById(\"4ec78070-0a17-4413-9a50-c3771e2aeb25\")) {\n",
       "                    Plotly.newPlot(\n",
       "                        '4ec78070-0a17-4413-9a50-c3771e2aeb25',\n",
       "                        [{\"hoverinfo\": \"none\", \"line\": {\"color\": \"#888\", \"width\": 0.5}, \"mode\": \"lines\", \"type\": \"scatter\", \"x\": [4.5, 2.5, null, -4.5, -2.5, null, -2.0, 1.5, null, 1.5, 1.0, null, -5.0, -2.5, null, -4.0, -2.5, null, -3.0, -3.5, null, -4.5, 3.0, null, -1.5, -0.5, null, -3.5, 5.0, null, -2.5, 4.0, null, -2.5, 5.0, null, -0.5, 0.5, null, -1.5, 2.0, null, 0.5, -0.5, null, -0.5, 2.0, null, 2.5, 1.0, null, 0.5, 3.0, null, 1.5, 5.0, null, -1.0, 3.5, null, 2.5, 3.0, null, -3.5, -2.5, null, 0.0, 1.5, null, -2.5, -1.5, null, -1.0, -0.5, null, 3.5, 5.0, null, 1.0, 3.5, null, 2.0, 2.5, null, 4.5, 4.0, null, -2.5, -1.0, null, 1.0, 1.0, null, 1.5, 0.5, null, 2.5, -0.5, null, -0.5, 0.0, null, -1.5, -1.0, null, 3.0, 3.5, null, -0.5, 0.0, null, 4.0, 3.5, null, 1.0, 0.5, null, 5.0, 3.5, null, -1.0, 0.0, null, 3.5, 0.5, null, 0.5, 0.0, null, 0.0, 0.0, null, 0.0, 0.5, null, 0.5, 0.0, null], \"y\": [3, 4, null, 3, 4, null, 2, 3, null, 4, 5, null, 2, 3, null, 2, 3, null, 2, 3, null, 1, 2, null, 3, 4, null, 1, 2, null, 1, 2, null, 1, 2, null, 3, 4, null, 1, 2, null, 3, 4, null, 1, 2, null, 4, 5, null, 1, 2, null, 1, 2, null, 2, 3, null, 1, 2, null, 3, 4, null, 2, 3, null, 3, 4, null, 6, 7, null, 1, 2, null, 2, 3, null, 2, 3, null, 1, 2, null, 4, 5, null, 5, 6, null, 3, 4, null, 3, 4, null, 7, 8, null, 4, 5, null, 2, 3, null, 4, 5, null, 2, 3, null, 6, 7, null, 2, 3, null, 5, 6, null, 3, 4, null, 4, 5, null, 5, 6, null, 6, 7, null, 7, 8, null]}, {\"hoverinfo\": \"text\", \"hovertext\": [\"PatternStructure 42<br><br>extent (len: 5): 1349, 4364, 3005, 4388, 1415<br>intent (len: 13): job in [\\\"admin.\\\", \\\"retired\\\"], contact in [\\\"cellular\\\", \\\"telephone\\\"], marital in [\\\"divorced\\\", \\\"married\\\"], previous in [0, 9], month in [\\\"dec\\\", \\\"jun\\\", \\\"mar\\\"],...<br>new extent (len: 5): 1349, 4364, 3005, 4388, 1415<br>new_intent (len: 6): campaign, housing, balance, age, education,...<br>metric strongness = 1.0<br>metric stab_min_bound = None<br>metric stab_max_bound = None<br>metric log_stab_min_bound = None<br>metric log_stab_max_bound = None<br>metric lstab_min_bound = None<br>metric n_uncovered = 0<br>\", \"PatternStructure 44<br><br>extent (len: 5): 3301, 3930, 328, 3005, 540<br>intent (len: 14): housing in [0, 1], poutcome in [\\\"other\\\", \\\"success\\\"], default = 0, contact = cellular, job in [\\\"admin.\\\", \\\"retired\\\", \\\"services\\\", \\\"unemployed\\\"],...<br>new extent (len: 5): 3301, 3930, 328, 3005, 540<br>new_intent (len: 8): balance, pdays, month, contact, poutcome,...<br>metric strongness = 1.0<br>metric stab_min_bound = None<br>metric stab_max_bound = None<br>metric log_stab_min_bound = None<br>metric log_stab_max_bound = None<br>metric lstab_min_bound = None<br>metric n_uncovered = 0<br>\", \"PatternStructure 45<br><br>extent (len: 5): 3843, 3176, 3270, 540, 3896<br>intent (len: 14): loan in [0, 1], contact in [\\\"cellular\\\", \\\"telephone\\\"], poutcome = success, month in [\\\"apr\\\", \\\"jul\\\", \\\"may\\\"], default = 0,...<br>new extent (len: 5): 3843, 3176, 3270, 540, 3896<br>new_intent (len: 7): balance, pdays, month, age, education,...<br>metric strongness = 1.0<br>metric stab_min_bound = None<br>metric stab_max_bound = None<br>metric log_stab_min_bound = None<br>metric log_stab_max_bound = None<br>metric lstab_min_bound = None<br>metric n_uncovered = 0<br>\", \"PatternStructure 43<br><br>extent (len: 5): 4364, 1467, 3743, 2685, 2014<br>intent (len: 13): loan in [0, 1], contact in [\\\"cellular\\\", \\\"telephone\\\"], default = 0, age in [42, 74], marital in [\\\"divorced\\\", \\\"single\\\"],...<br>new extent (len: 5): 4364, 1467, 3743, 2685, 2014<br>new_intent (len: 9): marital, campaign, balance, month, poutcome,...<br>metric strongness = 1.0<br>metric stab_min_bound = None<br>metric stab_max_bound = None<br>metric log_stab_min_bound = None<br>metric log_stab_max_bound = None<br>metric lstab_min_bound = None<br>metric n_uncovered = 0<br>\", \"PatternStructure 40<br><br>extent (len: 6): 3978, 2213, 110, 4216, 2122,...<br>intent (len: 14): previous in [1, 4], default = 0, contact = cellular, housing = 0, campaign in [1, 6],...<br>new extent (len: 6): 3978, 2213, 110, 4216, 2122,...<br>new_intent (len: 7): balance, pdays, month, contact, previous,...<br>metric strongness = 1.0<br>metric stab_min_bound = None<br>metric stab_max_bound = None<br>metric log_stab_min_bound = None<br>metric log_stab_max_bound = None<br>metric lstab_min_bound = None<br>metric n_uncovered = 0<br>\", \"PatternStructure 41<br><br>extent (len: 6): 1124, 492, 3088, 2486, 3931,...<br>intent (len: 14): contact in [\\\"cellular\\\", \\\"telephone\\\"], pdays in [91.0, 683.0], campaign in [1, 2], default = 0, job in [\\\"admin.\\\", \\\"technician\\\", \\\"unknown\\\"],...<br>new extent (len: 6): 1124, 492, 2486, 3088, 3931,...<br>new_intent (len: 6): campaign, month, previous, age, education,...<br>metric strongness = 1.0<br>metric stab_min_bound = None<br>metric stab_max_bound = None<br>metric log_stab_min_bound = None<br>metric log_stab_max_bound = None<br>metric lstab_min_bound = None<br>metric n_uncovered = 0<br>\", \"PatternStructure 37<br><br>extent (len: 7): 2444, 2988, 3370, 3270, 3239,...<br>intent (len: 14): job in [\\\"blue-collar\\\", \\\"entrepreneur\\\", \\\"management\\\", \\\"student\\\"], previous in [1, 4], education in [\\\"primary\\\", \\\"secondary\\\", \\\"tertiary\\\"], contact = cellular, default = 0,...<br>new extent (len: 7): 2444, 2988, 3370, 3270, 3239,...<br>new_intent (len: 5): marital, month, contact, age, job<br>metric strongness = 1.0<br>metric stab_min_bound = None<br>metric stab_max_bound = None<br>metric log_stab_min_bound = None<br>metric log_stab_max_bound = None<br>metric lstab_min_bound = None<br>metric n_uncovered = 0<br>\", \"PatternStructure 38<br><br>extent (len: 7): 2188, 4160, 2266, 492, 4224,...<br>intent (len: 14): pdays in [90.0, 278.0], contact in [\\\"cellular\\\", \\\"telephone\\\"], poutcome = success, balance in [-242, 1978], job in [\\\"admin.\\\", \\\"retired\\\", \\\"technician\\\", \\\"unemployed\\\"],...<br>new extent (len: 7): 2188, 4160, 2266, 492, 4224,...<br>new_intent (len: 8): balance, pdays, month, age, education,...<br>metric strongness = 1.0<br>metric stab_min_bound = None<br>metric stab_max_bound = None<br>metric log_stab_min_bound = None<br>metric log_stab_max_bound = None<br>metric lstab_min_bound = None<br>metric n_uncovered = 0<br>\", \"PatternStructure 39<br><br>extent (len: 7): 1181, 1048, 684, 3658, 1485,...<br>intent (len: 14): contact in [\\\"cellular\\\", \\\"telephone\\\"], poutcome in [\\\"other\\\", \\\"success\\\"], default = 0, housing = 0, campaign in [1, 6],...<br>new extent (len: 7): 1048, 1181, 684, 3658, 1485,...<br>new_intent (len: 10): marital, campaign, housing, balance, pdays,...<br>metric strongness = 1.0<br>metric stab_min_bound = None<br>metric stab_max_bound = None<br>metric log_stab_min_bound = None<br>metric log_stab_max_bound = None<br>metric lstab_min_bound = None<br>metric n_uncovered = 0<br>\", \"PatternStructure 36<br><br>extent (len: 8): 1056, 3250, 684, 3088, 2847,...<br>intent (len: 14): contact in [\\\"cellular\\\", \\\"telephone\\\"], job in [\\\"blue-collar\\\", \\\"entrepreneur\\\", \\\"services\\\", \\\"technician\\\"], poutcome = success, previous in [1, 4], education in [\\\"primary\\\", \\\"secondary\\\", \\\"tertiary\\\"],...<br>new extent (len: 8): 1056, 3250, 684, 3088, 2847,...<br>new_intent (len: 11): marital, campaign, housing, balance, pdays,...<br>metric strongness = 1.0<br>metric stab_min_bound = None<br>metric stab_max_bound = None<br>metric log_stab_min_bound = None<br>metric log_stab_max_bound = None<br>metric lstab_min_bound = None<br>metric n_uncovered = 0<br>\", \"PatternStructure 35<br><br>extent (len: 9): 98, 3835, 3256, 2176, 1952,...<br>intent (len: 14): loan in [0, 1], contact in [\\\"cellular\\\", \\\"telephone\\\"], poutcome = success, age in [28, 41], default = 0,...<br>new extent (len: 9): 98, 3835, 3256, 2176, 1952,...<br>new_intent (len: 6): balance, pdays, month, age, education,...<br>metric strongness = 1.0<br>metric stab_min_bound = None<br>metric stab_max_bound = None<br>metric log_stab_min_bound = None<br>metric log_stab_max_bound = None<br>metric lstab_min_bound = None<br>metric n_uncovered = 0<br>\", \"PatternStructure 32<br><br>extent (len: 9): 3684, 3695, 199, 1124, 3176,...<br>intent (len: 14): contact in [\\\"cellular\\\", \\\"telephone\\\"], job in [\\\"admin.\\\", \\\"management\\\", \\\"retired\\\", \\\"technician\\\"], poutcome = success, balance in [0, 5514], default = 0,...<br>new extent (len: 9): 3684, 3695, 199, 1124, 3176,...<br>new_intent (len: 11): marital, campaign, housing, balance, pdays,...<br>metric strongness = 1.0<br>metric stab_min_bound = None<br>metric stab_max_bound = None<br>metric log_stab_min_bound = None<br>metric log_stab_max_bound = None<br>metric lstab_min_bound = None<br>metric n_uncovered = 0<br>\", \"PatternStructure 34<br><br>extent (len: 9): 3684, 3835, 3695, 1754, 2251,...<br>intent (len: 14): balance in [19, 5037], contact in [\\\"cellular\\\", \\\"telephone\\\"], poutcome in [\\\"other\\\", \\\"success\\\"], month in [\\\"apr\\\", \\\"feb\\\", \\\"jul\\\", \\\"mar\\\"], education in [\\\"primary\\\", \\\"secondary\\\", \\\"tertiary\\\"],...<br>new extent (len: 9): 3684, 3835, 3695, 2251, 1754,...<br>new_intent (len: 6): housing, balance, pdays, month, age,...<br>metric strongness = 1.0<br>metric stab_min_bound = None<br>metric stab_max_bound = None<br>metric log_stab_min_bound = None<br>metric log_stab_max_bound = None<br>metric lstab_min_bound = None<br>metric n_uncovered = 0<br>\", \"PatternStructure 33<br><br>extent (len: 9): 1048, 1181, 2665, 3502, 2992,...<br>intent (len: 14): contact in [\\\"cellular\\\", \\\"telephone\\\"], poutcome in [\\\"other\\\", \\\"success\\\"], age in [22, 77], campaign in [1, 2], education in [\\\"primary\\\", \\\"secondary\\\", \\\"tertiary\\\"],...<br>new extent (len: 9): 1048, 1181, 2665, 3502, 2992,...<br>new_intent (len: 6): campaign, balance, pdays, month, previous,...<br>metric strongness = 1.0<br>metric stab_min_bound = None<br>metric stab_max_bound = None<br>metric log_stab_min_bound = None<br>metric log_stab_max_bound = None<br>metric lstab_min_bound = None<br>metric n_uncovered = 0<br>\", \"PatternStructure 31<br><br>extent (len: 11): 3684, 3695, 1754, 4216, 156,...<br>intent (len: 14): poutcome in [\\\"other\\\", \\\"success\\\"], default = 0, contact = cellular, campaign in [1, 6], marital in [\\\"divorced\\\", \\\"married\\\", \\\"single\\\"],...<br>new extent (len: 11): 3684, 3695, 1754, 156, 880,...<br>new_intent (len: 9): campaign, balance, pdays, month, contact,...<br>metric strongness = 1.0<br>metric stab_min_bound = None<br>metric stab_max_bound = None<br>metric log_stab_min_bound = None<br>metric log_stab_max_bound = None<br>metric lstab_min_bound = None<br>metric n_uncovered = 0<br>\", \"PatternStructure 30<br><br>extent (len: 11): 3005, 1349, 4364, 156, 492,...<br>intent (len: 13): contact in [\\\"cellular\\\", \\\"telephone\\\"], marital in [\\\"divorced\\\", \\\"married\\\"], job in [\\\"admin.\\\", \\\"management\\\", \\\"retired\\\", \\\"technician\\\"], previous in [0, 9], month in [\\\"dec\\\", \\\"jun\\\", \\\"mar\\\"],...<br>new extent (len: 6): 156, 492, 1230, 4224, 3331,...<br>new_intent (len: 8): marital, balance, month, poutcome, age,...<br>metric strongness = 0.7857142857142857<br>metric stab_min_bound = 0.984375<br>metric stab_max_bound = 0.984375<br>metric log_stab_min_bound = 6.0<br>metric log_stab_max_bound = 6.0<br>metric lstab_min_bound = -8.0<br>metric n_uncovered = 0<br>\", \"PatternStructure 28<br><br>extent (len: 12): 233, 3256, 2251, 2917, 4433,...<br>intent (len: 14): loan in [0, 1], poutcome = success, default = 0, contact = cellular, age in [26, 45],...<br>new extent (len: 12): 233, 3256, 2917, 2251, 4433,...<br>new_intent (len: 8): balance, pdays, month, contact, age,...<br>metric strongness = 1.0<br>metric stab_min_bound = None<br>metric stab_max_bound = None<br>metric log_stab_min_bound = None<br>metric log_stab_max_bound = None<br>metric lstab_min_bound = None<br>metric n_uncovered = 0<br>\", \"PatternStructure 26<br><br>extent (len: 12): 2188, 49, 156, 2539, 3751,...<br>intent (len: 14): poutcome = success, age in [31, 61], contact = cellular, default = 0, balance in [14, 4629],...<br>new extent (len: 12): 2188, 1469, 49, 2539, 156,...<br>new_intent (len: 10): campaign, balance, pdays, month, contact,...<br>metric strongness = 1.0<br>metric stab_min_bound = None<br>metric stab_max_bound = None<br>metric log_stab_min_bound = None<br>metric log_stab_max_bound = None<br>metric lstab_min_bound = None<br>metric n_uncovered = 0<br>\", \"PatternStructure 25<br><br>extent (len: 12): 2251, 1060, 619, 2969, 323,...<br>intent (len: 14): poutcome = success, previous in [1, 4], default = 0, contact = cellular, job in [\\\"admin.\\\", \\\"blue-collar\\\", \\\"management\\\", \\\"self-employed\\\", \\\"technician\\\"],...<br>new extent (len: 12): 2251, 1060, 619, 2969, 323,...<br>new_intent (len: 11): marital, campaign, balance, pdays, month,...<br>metric strongness = 1.0<br>metric stab_min_bound = None<br>metric stab_max_bound = None<br>metric log_stab_min_bound = None<br>metric log_stab_max_bound = None<br>metric lstab_min_bound = None<br>metric n_uncovered = 0<br>\", \"PatternStructure 27<br><br>extent (len: 12): 2188, 233, 49, 2266, 464,...<br>intent (len: 14): loan in [0, 1], poutcome = success, balance in [0, 4629], campaign in [1, 2], default = 0,...<br>new extent (len: 12): 2188, 233, 49, 2266, 464,...<br>new_intent (len: 8): campaign, balance, pdays, month, contact,...<br>metric strongness = 1.0<br>metric stab_min_bound = None<br>metric stab_max_bound = None<br>metric log_stab_min_bound = None<br>metric log_stab_max_bound = None<br>metric lstab_min_bound = None<br>metric n_uncovered = 0<br>\", \"PatternStructure 29<br><br>extent (len: 12): 855, 3527, 83, 3317, 2444,...<br>intent (len: 14): contact in [\\\"cellular\\\", \\\"telephone\\\"], previous in [1, 4], education in [\\\"primary\\\", \\\"secondary\\\", \\\"tertiary\\\"], default = 0, marital in [\\\"divorced\\\", \\\"married\\\", \\\"single\\\"],...<br>new extent (len: 5): 855, 3527, 83, 3317, 164<br>new_intent (len: 7): balance, pdays, month, poutcome, age,...<br>metric strongness = 0.8571428571428571<br>metric stab_min_bound = 0.96875<br>metric stab_max_bound = 0.96875<br>metric log_stab_min_bound = 5.0<br>metric log_stab_max_bound = 5.0<br>metric lstab_min_bound = -9.0<br>metric n_uncovered = 0<br>\", \"PatternStructure 24<br><br>extent (len: 15): 3385, 1905, 1048, 3978, 3256,...<br>intent (len: 14): loan in [0, 1], contact in [\\\"cellular\\\", \\\"telephone\\\"], poutcome = success, education in [\\\"primary\\\", \\\"secondary\\\", \\\"tertiary\\\"], default = 0,...<br>new extent (len: 15): 3385, 1905, 1048, 3978, 3256,...<br>new_intent (len: 4): month, age, balance, job<br>metric strongness = 1.0<br>metric stab_min_bound = None<br>metric stab_max_bound = None<br>metric log_stab_min_bound = None<br>metric log_stab_max_bound = None<br>metric lstab_min_bound = None<br>metric n_uncovered = 0<br>\", \"PatternStructure 22<br><br>extent (len: 16): 3978, 2213, 4160, 110, 3250,...<br>intent (len: 14): contact in [\\\"cellular\\\", \\\"telephone\\\"], pdays in [91.0, 683.0], job in [\\\"admin.\\\", \\\"retired\\\", \\\"student\\\", \\\"technician\\\", \\\"unemployed\\\", \\\"unknown\\\"], default = 0, housing = 0,...<br>new extent (len: 4): 3874, 2583, 4160, 3250<br>new_intent (len: 3): month, balance, job<br>metric strongness = 0.8<br>metric stab_min_bound = 0.998046875<br>metric stab_max_bound = 0.9990234375<br>metric log_stab_min_bound = 9.0<br>metric log_stab_max_bound = 10.0<br>metric lstab_min_bound = -4.0<br>metric n_uncovered = 0<br>\", \"PatternStructure 23<br><br>extent (len: 16): 3789, 3978, 504, 3248, 1437,...<br>intent (len: 13): poutcome in [\\\"success\\\", \\\"unknown\\\"], campaign in [1, 2], default = 0, previous in [0, 4], housing = 0,...<br>new extent (len: 16): 3978, 504, 3248, 1437, 2251,...<br>new_intent (len: 7): campaign, month, contact, poutcome, age,...<br>metric strongness = 0.26666666666666666<br>metric stab_min_bound = None<br>metric stab_max_bound = None<br>metric log_stab_min_bound = None<br>metric log_stab_max_bound = None<br>metric lstab_min_bound = None<br>metric n_uncovered = 0<br>\", \"PatternStructure 21<br><br>extent (len: 19): 1124, 1303, 70, 855, 1905,...<br>intent (len: 14): contact in [\\\"cellular\\\", \\\"telephone\\\"], poutcome = success, default = 0, balance in [0, 2557], marital in [\\\"divorced\\\", \\\"married\\\", \\\"single\\\"],...<br>new extent (len: 19): 1124, 1303, 70, 855, 1905,...<br>new_intent (len: 8): campaign, balance, pdays, month, age,...<br>metric strongness = 1.0<br>metric stab_min_bound = None<br>metric stab_max_bound = None<br>metric log_stab_min_bound = None<br>metric log_stab_max_bound = None<br>metric lstab_min_bound = None<br>metric n_uncovered = 0<br>\", \"PatternStructure 20<br><br>extent (len: 20): 1124, 2969, 1303, 1695, 3589,...<br>intent (len: 14): loan in [0, 1], poutcome = success, age in [28, 53], balance in [-46, 3576], default = 0,...<br>new extent (len: 20): 1124, 2969, 1303, 1695, 3589,...<br>new_intent (len: 9): marital, campaign, balance, pdays, month,...<br>metric strongness = 1.0<br>metric stab_min_bound = None<br>metric stab_max_bound = None<br>metric log_stab_min_bound = None<br>metric log_stab_max_bound = None<br>metric lstab_min_bound = None<br>metric n_uncovered = 0<br>\", \"PatternStructure 19<br><br>extent (len: 21): 3695, 156, 3931, 4216, 540,...<br>intent (len: 14): contact in [\\\"cellular\\\", \\\"telephone\\\"], poutcome in [\\\"other\\\", \\\"success\\\"], education in [\\\"primary\\\", \\\"secondary\\\", \\\"tertiary\\\"], default = 0, previous in [1, 5],...<br>new extent (len: 4): 1905, 984, 4009, 849<br>new_intent (len: 1): job<br>metric strongness = 0.875<br>metric stab_min_bound = 0.998779296875<br>metric stab_max_bound = 0.9990234375<br>metric log_stab_min_bound = 9.678071905112638<br>metric log_stab_max_bound = 10.0<br>metric lstab_min_bound = -4.0<br>metric n_uncovered = 0<br>\", \"PatternStructure 18<br><br>extent (len: 22): 4160, 2969, 1695, 540, 1905,...<br>intent (len: 14): contact in [\\\"cellular\\\", \\\"telephone\\\"], poutcome = success, campaign in [1, 2], education in [\\\"primary\\\", \\\"secondary\\\", \\\"tertiary\\\"], job in [\\\"admin.\\\", \\\"blue-collar\\\", \\\"housemaid\\\", \\\"management\\\", \\\"retired\\\", \\\"technician\\\"],...<br>new extent (len: 22): 4160, 2969, 1695, 540, 1905,...<br>new_intent (len: 8): marital, campaign, balance, month, loan,...<br>metric strongness = 1.0<br>metric stab_min_bound = None<br>metric stab_max_bound = None<br>metric log_stab_min_bound = None<br>metric log_stab_max_bound = None<br>metric lstab_min_bound = None<br>metric n_uncovered = 0<br>\", \"PatternStructure 17<br><br>extent (len: 23): 3317, 3502, 2449, 164, 328,...<br>intent (len: 14): contact in [\\\"cellular\\\", \\\"telephone\\\"], education in [\\\"primary\\\", \\\"secondary\\\", \\\"tertiary\\\"], poutcome in [\\\"failure\\\", \\\"other\\\", \\\"success\\\"], default = 0, month in [\\\"aug\\\", \\\"dec\\\", \\\"jul\\\", \\\"oct\\\", \\\"sep\\\"],...<br>new extent (len: 6): 1048, 3502, 2449, 1736, 4458,...<br>new_intent (len: 7): campaign, balance, pdays, month, age,...<br>metric strongness = 0.575<br>metric stab_min_bound = 0.9995079040527344<br>metric stab_max_bound = 0.99951171875<br>metric log_stab_min_bound = 10.988772744576746<br>metric log_stab_max_bound = 11.0<br>metric lstab_min_bound = -3.0<br>metric n_uncovered = 0<br>\", \"PatternStructure 16<br><br>extent (len: 23): 2821, 156, 1467, 3931, 1303,...<br>intent (len: 13): loan in [0, 1], month in [\\\"dec\\\", \\\"jun\\\", \\\"mar\\\", \\\"oct\\\"], contact in [\\\"cellular\\\", \\\"telephone\\\"], poutcome in [\\\"failure\\\", \\\"other\\\", \\\"success\\\", \\\"unknown\\\"], default = 0,...<br>new extent (len: 8): 2821, 36, 3311, 3931, 1303,...<br>new_intent (len: 6): balance, month, age, previous, education,...<br>metric strongness = 0.39655172413793105<br>metric stab_min_bound = 0.9997520446777344<br>metric stab_max_bound = 0.999755859375<br>metric log_stab_min_bound = 11.977632186971546<br>metric log_stab_max_bound = 12.0<br>metric lstab_min_bound = -2.0<br>metric n_uncovered = 0<br>\", \"PatternStructure 15<br><br>extent (len: 27): 233, 4160, 2049, 156, 3176,...<br>intent (len: 14): loan in [0, 1], contact in [\\\"cellular\\\", \\\"telephone\\\"], poutcome = success, education in [\\\"primary\\\", \\\"secondary\\\", \\\"tertiary\\\"], default = 0,...<br>new extent (len: 8): 233, 1181, 464, 1754, 684,...<br>new_intent (len: 9): marital, campaign, balance, pdays, month,...<br>metric strongness = 0.9642857142857143<br>metric stab_min_bound = 0.9997556209564209<br>metric stab_max_bound = 0.999755859375<br>metric log_stab_min_bound = 11.998591805607191<br>metric log_stab_max_bound = 12.0<br>metric lstab_min_bound = -2.0<br>metric n_uncovered = 0<br>\", \"PatternStructure 14<br><br>extent (len: 27): 3695, 156, 3931, 1469, 4216,...<br>intent (len: 14): contact in [\\\"cellular\\\", \\\"telephone\\\"], poutcome in [\\\"other\\\", \\\"success\\\"], education in [\\\"primary\\\", \\\"secondary\\\", \\\"tertiary\\\"], default = 0, previous in [1, 5],...<br>new extent (len: 6): 684, 3088, 1469, 3658, 1485,...<br>new_intent (len: 5): pdays, month, age, previous, job<br>metric strongness = 0.7941176470588235<br>metric stab_min_bound = 0.984375<br>metric stab_max_bound = 0.984375<br>metric log_stab_min_bound = 6.0<br>metric log_stab_max_bound = 6.0<br>metric lstab_min_bound = -8.0<br>metric n_uncovered = 0<br>\", \"PatternStructure 13<br><br>extent (len: 31): 3695, 4160, 3498, 1467, 164,...<br>intent (len: 13): contact in [\\\"cellular\\\", \\\"telephone\\\", \\\"unknown\\\"], default = 0, previous in [0, 4], housing = 0, age in [28, 84],...<br>new extent (len: 15): 2014, 3684, 4108, 3695, 4160,...<br>new_intent (len: 9): campaign, housing, balance, month, poutcome,...<br>metric strongness = 0.11524163568773234<br>metric stab_min_bound = 0.999969482421875<br>metric stab_max_bound = 0.999969482421875<br>metric log_stab_min_bound = 15.0<br>metric log_stab_max_bound = 15.0<br>metric lstab_min_bound = 1.0<br>metric n_uncovered = 0<br>\", \"PatternStructure 12<br><br>extent (len: 32): 3317, 4160, 1124, 164, 2969,...<br>intent (len: 14): contact in [\\\"cellular\\\", \\\"telephone\\\"], pdays in [91.0, 683.0], default = 0, housing = 0, campaign in [1, 6],...<br>new extent (len: 16): 1056, 3317, 3256, 2251, 1754,...<br>new_intent (len: 9): marital, housing, balance, pdays, month,...<br>metric strongness = 0.6153846153846154<br>metric stab_min_bound = 0.9999847412109375<br>metric stab_max_bound = 0.9999847412109375<br>metric log_stab_min_bound = 16.0<br>metric log_stab_max_bound = 16.0<br>metric lstab_min_bound = 2.0<br>metric n_uncovered = 0<br>\", \"PatternStructure 11<br><br>extent (len: 40): 233, 4160, 2917, 4433, 2449,...<br>intent (len: 14): loan in [0, 1], job in [\\\"admin.\\\", \\\"blue-collar\\\", \\\"management\\\", \\\"retired\\\", \\\"student\\\", \\\"technician\\\", \\\"unemployed\\\"], contact in [\\\"cellular\\\", \\\"telephone\\\"], poutcome = success, balance in [-242, 4629],...<br>new extent (len: 14): 3978, 1905, 941, 3005, 4186,...<br>new_intent (len: 8): marital, campaign, balance, pdays, month,...<br>metric strongness = 0.9090909090909091<br>metric stab_min_bound = 0.9999999924330041<br>metric stab_max_bound = 0.9999999962747097<br>metric log_stab_min_bound = 26.977632186971544<br>metric log_stab_max_bound = 28.0<br>metric lstab_min_bound = 14.0<br>metric n_uncovered = 0<br>\", \"PatternStructure 10<br><br>extent (len: 45): 3695, 2917, 156, 3176, 3502,...<br>intent (len: 14): contact in [\\\"cellular\\\", \\\"telephone\\\"], poutcome in [\\\"other\\\", \\\"success\\\"], month in [\\\"apr\\\", \\\"dec\\\", \\\"feb\\\", \\\"jul\\\", \\\"jun\\\", \\\"mar\\\", \\\"may\\\", \\\"nov\\\", \\\"oct\\\"], age in [22, 77], education in [\\\"primary\\\", \\\"secondary\\\", \\\"tertiary\\\"],...<br>new extent (len: 10): 3256, 2917, 199, 3176, 4093,...<br>new_intent (len: 8): balance, pdays, month, age, education,...<br>metric strongness = 0.5056179775280899<br>metric stab_min_bound = 0.9999961852845445<br>metric stab_max_bound = 0.9999961853027344<br>metric log_stab_min_bound = 17.999993120710368<br>metric log_stab_max_bound = 18.0<br>metric lstab_min_bound = 4.0<br>metric n_uncovered = 0<br>\", \"PatternStructure 9<br><br>extent (len: 48): 233, 4160, 2917, 2049, 2969,...<br>intent (len: 14): loan in [0, 1], contact in [\\\"cellular\\\", \\\"telephone\\\"], poutcome = success, default = 0, job in [\\\"admin.\\\", \\\"blue-collar\\\", \\\"housemaid\\\", \\\"management\\\", \\\"retired\\\", \\\"technician\\\"],...<br>new extent (len: 19): 233, 2917, 2049, 70, 1653,...<br>new_intent (len: 5): balance, pdays, month, age, job<br>metric strongness = 0.9056603773584906<br>metric stab_min_bound = 0.9999999850970198<br>metric stab_max_bound = 0.9999999850988388<br>metric log_stab_min_bound = 25.999823900513558<br>metric log_stab_max_bound = 26.0<br>metric lstab_min_bound = 12.0<br>metric n_uncovered = 0<br>\", \"PatternStructure 8<br><br>extent (len: 51): 2821, 156, 1124, 3502, 2449,...<br>intent (len: 13): loan in [0, 1], poutcome in [\\\"failure\\\", \\\"other\\\", \\\"success\\\", \\\"unknown\\\"], contact in [\\\"cellular\\\", \\\"telephone\\\"], age in [28, 87], previous in [0, 14],...<br>new extent (len: 28): 1124, 3502, 2449, 164, 3789,...<br>new_intent (len: 5): campaign, balance, month, age, job<br>metric strongness = 0.2602040816326531<br>metric stab_min_bound = 0.9999999962747097<br>metric stab_max_bound = 0.9999999962747097<br>metric log_stab_min_bound = 28.0<br>metric log_stab_max_bound = 28.0<br>metric lstab_min_bound = 14.0<br>metric n_uncovered = 0<br>\", \"PatternStructure 7<br><br>extent (len: 58): 233, 2917, 2049, 156, 1124,...<br>intent (len: 14): loan in [0, 1], contact in [\\\"cellular\\\", \\\"telephone\\\"], poutcome = success, month in [\\\"aug\\\", \\\"feb\\\", \\\"jan\\\", \\\"jul\\\", \\\"jun\\\", \\\"mar\\\", \\\"nov\\\", \\\"oct\\\", \\\"sep\\\"], default = 0,...<br>new extent (len: 17): 941, 233, 4186, 347, 2917,...<br>new_intent (len: 5): balance, pdays, month, age, job<br>metric strongness = 0.9354838709677419<br>metric stab_min_bound = 0.9999999999981641<br>metric stab_max_bound = 0.999999999998181<br>metric log_stab_min_bound = 38.98667732657455<br>metric log_stab_max_bound = 39.0<br>metric lstab_min_bound = 25.0<br>metric n_uncovered = 0<br>\", \"PatternStructure 6<br><br>extent (len: 62): 3317, 4160, 2917, 1928, 1124,...<br>intent (len: 14): month in [\\\"apr\\\", \\\"aug\\\", \\\"dec\\\", \\\"feb\\\", \\\"jan\\\", \\\"jul\\\", \\\"jun\\\", \\\"mar\\\", \\\"oct\\\", \\\"sep\\\"], contact in [\\\"cellular\\\", \\\"telephone\\\"], poutcome in [\\\"failure\\\", \\\"other\\\", \\\"success\\\"], default = 0, campaign in [1, 6],...<br>new extent (len: 13): 98, 1905, 2188, 347, 2917,...<br>new_intent (len: 8): campaign, balance, pdays, month, age,...<br>metric strongness = 0.2683982683982684<br>metric stab_min_bound = 0.9999999990668584<br>metric stab_max_bound = 0.9999999990686774<br>metric log_stab_min_bound = 29.997184984392945<br>metric log_stab_max_bound = 30.0<br>metric lstab_min_bound = 16.0<br>metric n_uncovered = 0<br>\", \"PatternStructure 5<br><br>extent (len: 84): 4160, 2049, 1124, 3931, 1695,...<br>intent (len: 14): loan in [0, 1], contact in [\\\"cellular\\\", \\\"telephone\\\"], poutcome = success, default = 0, pdays in [1.0, 541.0],...<br>new extent (len: 6): 1048, 1181, 3176, 477, 3243,...<br>new_intent (len: 2): month, job<br>metric strongness = 0.8<br>metric stab_min_bound = 0.99999998508423<br>metric stab_max_bound = 0.9999999850988388<br>metric log_stab_min_bound = 25.998586307542055<br>metric log_stab_max_bound = 26.0<br>metric lstab_min_bound = 12.0<br>metric n_uncovered = 0<br>\", \"PatternStructure 4<br><br>extent (len: 94): 4160, 2049, 1124, 3931, 1695,...<br>intent (len: 14): loan in [0, 1], contact in [\\\"cellular\\\", \\\"telephone\\\"], poutcome = success, default = 0, pdays in [1.0, 541.0],...<br>new extent (len: 2): 880, 1374<br>new_intent (len: 4): age, poutcome, campaign, balance<br>metric strongness = 0.7833333333333333<br>metric stab_min_bound = 0.9990234375<br>metric stab_max_bound = 0.9990234375<br>metric log_stab_min_bound = 10.0<br>metric log_stab_max_bound = 10.0<br>metric lstab_min_bound = -4.0<br>metric n_uncovered = 0<br>\", \"PatternStructure 3<br><br>extent (len: 103): 4160, 2049, 1124, 3931, 1695,...<br>intent (len: 14): loan in [0, 1], contact in [\\\"cellular\\\", \\\"telephone\\\"], poutcome in [\\\"other\\\", \\\"success\\\"], default = 0, pdays in [1.0, 541.0],...<br>new extent (len: 2): 3932, 3930<br>new_intent (len: 4): age, poutcome, balance, pdays<br>metric strongness = 0.3468013468013468<br>metric stab_min_bound = 0.998046875<br>metric stab_max_bound = 0.998046875<br>metric log_stab_min_bound = 9.0<br>metric log_stab_max_bound = 9.0<br>metric lstab_min_bound = -5.0<br>metric n_uncovered = 0<br>\", \"PatternStructure 2<br><br>extent (len: 122): 3317, 4160, 2049, 1124, 3931,...<br>intent (len: 14): loan in [0, 1], contact in [\\\"cellular\\\", \\\"telephone\\\"], age in [21, 79], poutcome in [\\\"failure\\\", \\\"other\\\", \\\"success\\\"], default = 0,...<br>new extent (len: 4): 970, 412, 4213, 3743<br>new_intent (len: 5): balance, pdays, poutcome, age, previous<br>metric strongness = 0.16180371352785147<br>metric stab_min_bound = 0.9999980926513672<br>metric stab_max_bound = 0.9999980926513672<br>metric log_stab_min_bound = 19.0<br>metric log_stab_max_bound = 19.0<br>metric lstab_min_bound = 5.0<br>metric n_uncovered = 0<br>\", \"PatternStructure 1<br><br>extent (len: 148): 2821, 3317, 4160, 2049, 1124,...<br>intent (len: 13): loan in [0, 1], poutcome in [\\\"failure\\\", \\\"other\\\", \\\"success\\\", \\\"unknown\\\"], contact in [\\\"cellular\\\", \\\"telephone\\\"], previous in [0, 14], default = 0,...<br>new extent (len: 6): 2780, 4108, 503, 189, 3558,...<br>new_intent (len: 1): contact<br>metric strongness = 0.04933333333333333<br>metric stab_min_bound = 0.9999999850988388<br>metric stab_max_bound = 0.9999999850988388<br>metric log_stab_min_bound = 26.0<br>metric log_stab_max_bound = 26.0<br>metric lstab_min_bound = 12.0<br>metric n_uncovered = 148<br>\", \"PatternStructure 0<br><br>extent (len: 149): 2821, 3317, 4160, 2049, 1124,...<br>intent (len: 13): contact in [\\\"cellular\\\", \\\"telephone\\\", \\\"unknown\\\"], poutcome in [\\\"failure\\\", \\\"other\\\", \\\"success\\\", \\\"unknown\\\"], loan in [0, 1], previous in [0, 14], default = 0,...<br>new extent (len: 0): \\u2205<br>new_intent (len: 13): marital, campaign, default, housing, balance,...<br>metric strongness = 0.03521626093122193<br>metric stab_min_bound = 0.5<br>metric stab_max_bound = 0.5<br>metric log_stab_min_bound = 1.0<br>metric log_stab_max_bound = 1.0<br>metric lstab_min_bound = -13.0<br>\"], \"marker\": {\"color\": [1.0, 1.0, 1.0, 1.0, 1.0, 1.0, 1.0, 1.0, 1.0, 1.0, 1.0, 1.0, 1.0, 1.0, 1.0, 0.7857142857142857, 1.0, 1.0, 1.0, 1.0, 0.8571428571428571, 1.0, 0.8, 0.26666666666666666, 1.0, 1.0, 0.875, 1.0, 0.575, 0.39655172413793105, 0.9642857142857143, 0.7941176470588235, 0.11524163568773234, 0.6153846153846154, 0.9090909090909091, 0.5056179775280899, 0.9056603773584906, 0.2602040816326531, 0.9354838709677419, 0.2683982683982684, 0.8, 0.7833333333333333, 0.3468013468013468, 0.16180371352785147, 0.04933333333333333, 0.03521626093122193], \"colorbar\": {\"thickness\": 15, \"title\": {\"side\": \"right\", \"text\": \"y_mean\"}, \"xanchor\": \"left\"}, \"colorscale\": [[0.0, \"rgb(103,0,31)\"], [0.1, \"rgb(178,24,43)\"], [0.2, \"rgb(214,96,77)\"], [0.3, \"rgb(244,165,130)\"], [0.4, \"rgb(253,219,199)\"], [0.5, \"rgb(247,247,247)\"], [0.6, \"rgb(209,229,240)\"], [0.7, \"rgb(146,197,222)\"], [0.8, \"rgb(67,147,195)\"], [0.9, \"rgb(33,102,172)\"], [1.0, \"rgb(5,48,97)\"]], \"line\": {\"width\": 2}, \"reversescale\": true, \"showscale\": true, \"size\": 10}, \"mode\": \"markers+text\", \"text\": [\"n: 6<br>n: 5\", \"n: 8<br>n: 5\", \"n: 7<br>n: 5\", \"n: 9<br>n: 5\", \"n: 7<br>n: 6\", \"n: 6<br>n: 6\", \"n: 5<br>n: 7\", \"n: 8<br>n: 7\", \"n: 10<br>n: 7\", \"n: 11<br>n: 8\", \"n: 6<br>n: 9\", \"n: 11<br>n: 9\", \"n: 6<br>n: 9\", \"n: 6<br>n: 9\", \"n: 9<br>n: 11\", \"n: 8<br>n: 6\", \"n: 8<br>n: 12\", \"n: 10<br>n: 12\", \"n: 11<br>n: 12\", \"n: 8<br>n: 12\", \"n: 7<br>n: 5\", \"n: 4<br>n: 15\", \"n: 3<br>n: 4\", \"n: 7<br>n: 16\", \"n: 8<br>n: 19\", \"n: 9<br>n: 20\", \"n: 1<br>n: 4\", \"n: 8<br>n: 22\", \"n: 7<br>n: 6\", \"n: 6<br>n: 8\", \"n: 9<br>n: 8\", \"n: 5<br>n: 6\", \"n: 9<br>n: 15\", \"n: 9<br>n: 16\", \"n: 8<br>n: 14\", \"n: 8<br>n: 10\", \"n: 5<br>n: 19\", \"n: 5<br>n: 28\", \"n: 5<br>n: 17\", \"n: 8<br>n: 13\", \"n: 2<br>n: 6\", \"n: 4<br>n: 2\", \"n: 4<br>n: 2\", \"n: 5<br>n: 4\", \"n: 1<br>n: 6\", \"n: 13<br>\"], \"textposition\": \"middle right\", \"type\": \"scatter\", \"x\": [4.5, -4.5, -2.0, 1.5, -5.0, -4.0, -3.0, -4.5, -1.5, -3.5, -2.5, -0.5, -1.5, 0.5, -0.5, 2.5, 0.5, 1.5, -1.0, 2.5, -3.5, 0.0, -2.5, -1.0, 3.5, 1.0, 2.0, 4.5, -2.5, 1.0, 1.5, 2.5, -0.5, -1.5, 3.0, -0.5, 4.0, 1.0, 5.0, -1.0, 3.5, 0.5, 0.0, 0.0, 0.5, 0.0], \"y\": [3, 3, 2, 4, 2, 2, 2, 1, 3, 1, 1, 3, 1, 3, 1, 4, 1, 1, 2, 1, 3, 2, 3, 6, 1, 2, 2, 1, 4, 5, 3, 3, 7, 4, 2, 4, 2, 6, 2, 5, 3, 4, 5, 6, 7, 8]}],\n",
       "                        {\"height\": 500, \"hovermode\": \"closest\", \"margin\": {\"b\": 20, \"l\": 5, \"r\": 5, \"t\": 40}, \"showlegend\": false, \"template\": {\"data\": {\"bar\": [{\"error_x\": {\"color\": \"#2a3f5f\"}, \"error_y\": {\"color\": \"#2a3f5f\"}, \"marker\": {\"line\": {\"color\": \"#E5ECF6\", \"width\": 0.5}}, \"type\": \"bar\"}], \"barpolar\": [{\"marker\": {\"line\": {\"color\": \"#E5ECF6\", \"width\": 0.5}}, \"type\": \"barpolar\"}], \"carpet\": [{\"aaxis\": {\"endlinecolor\": \"#2a3f5f\", \"gridcolor\": \"white\", \"linecolor\": \"white\", \"minorgridcolor\": \"white\", \"startlinecolor\": \"#2a3f5f\"}, \"baxis\": {\"endlinecolor\": \"#2a3f5f\", \"gridcolor\": \"white\", \"linecolor\": \"white\", \"minorgridcolor\": \"white\", \"startlinecolor\": \"#2a3f5f\"}, \"type\": \"carpet\"}], \"choropleth\": [{\"colorbar\": {\"outlinewidth\": 0, \"ticks\": \"\"}, \"type\": \"choropleth\"}], \"contour\": [{\"colorbar\": {\"outlinewidth\": 0, \"ticks\": \"\"}, \"colorscale\": [[0.0, \"#0d0887\"], [0.1111111111111111, \"#46039f\"], [0.2222222222222222, \"#7201a8\"], [0.3333333333333333, \"#9c179e\"], [0.4444444444444444, \"#bd3786\"], [0.5555555555555556, \"#d8576b\"], [0.6666666666666666, \"#ed7953\"], [0.7777777777777778, \"#fb9f3a\"], [0.8888888888888888, \"#fdca26\"], [1.0, \"#f0f921\"]], \"type\": \"contour\"}], \"contourcarpet\": [{\"colorbar\": {\"outlinewidth\": 0, \"ticks\": \"\"}, \"type\": \"contourcarpet\"}], \"heatmap\": [{\"colorbar\": {\"outlinewidth\": 0, \"ticks\": \"\"}, \"colorscale\": [[0.0, \"#0d0887\"], [0.1111111111111111, \"#46039f\"], [0.2222222222222222, \"#7201a8\"], [0.3333333333333333, \"#9c179e\"], [0.4444444444444444, \"#bd3786\"], [0.5555555555555556, \"#d8576b\"], [0.6666666666666666, \"#ed7953\"], [0.7777777777777778, \"#fb9f3a\"], [0.8888888888888888, \"#fdca26\"], [1.0, \"#f0f921\"]], \"type\": \"heatmap\"}], \"heatmapgl\": [{\"colorbar\": {\"outlinewidth\": 0, \"ticks\": \"\"}, \"colorscale\": [[0.0, \"#0d0887\"], [0.1111111111111111, \"#46039f\"], [0.2222222222222222, \"#7201a8\"], [0.3333333333333333, \"#9c179e\"], [0.4444444444444444, \"#bd3786\"], [0.5555555555555556, \"#d8576b\"], [0.6666666666666666, \"#ed7953\"], [0.7777777777777778, \"#fb9f3a\"], [0.8888888888888888, \"#fdca26\"], [1.0, \"#f0f921\"]], \"type\": \"heatmapgl\"}], \"histogram\": [{\"marker\": {\"colorbar\": {\"outlinewidth\": 0, \"ticks\": \"\"}}, \"type\": \"histogram\"}], \"histogram2d\": [{\"colorbar\": {\"outlinewidth\": 0, \"ticks\": \"\"}, \"colorscale\": [[0.0, \"#0d0887\"], [0.1111111111111111, \"#46039f\"], [0.2222222222222222, \"#7201a8\"], [0.3333333333333333, \"#9c179e\"], [0.4444444444444444, \"#bd3786\"], [0.5555555555555556, \"#d8576b\"], [0.6666666666666666, \"#ed7953\"], [0.7777777777777778, \"#fb9f3a\"], [0.8888888888888888, \"#fdca26\"], [1.0, \"#f0f921\"]], \"type\": \"histogram2d\"}], \"histogram2dcontour\": [{\"colorbar\": {\"outlinewidth\": 0, \"ticks\": \"\"}, \"colorscale\": [[0.0, \"#0d0887\"], [0.1111111111111111, \"#46039f\"], [0.2222222222222222, \"#7201a8\"], [0.3333333333333333, \"#9c179e\"], [0.4444444444444444, \"#bd3786\"], [0.5555555555555556, \"#d8576b\"], [0.6666666666666666, \"#ed7953\"], [0.7777777777777778, \"#fb9f3a\"], [0.8888888888888888, \"#fdca26\"], [1.0, \"#f0f921\"]], \"type\": \"histogram2dcontour\"}], \"mesh3d\": [{\"colorbar\": {\"outlinewidth\": 0, \"ticks\": \"\"}, \"type\": \"mesh3d\"}], \"parcoords\": [{\"line\": {\"colorbar\": {\"outlinewidth\": 0, \"ticks\": \"\"}}, \"type\": \"parcoords\"}], \"pie\": [{\"automargin\": true, \"type\": \"pie\"}], \"scatter\": [{\"marker\": {\"colorbar\": {\"outlinewidth\": 0, \"ticks\": \"\"}}, \"type\": \"scatter\"}], \"scatter3d\": [{\"line\": {\"colorbar\": {\"outlinewidth\": 0, \"ticks\": \"\"}}, \"marker\": {\"colorbar\": {\"outlinewidth\": 0, \"ticks\": \"\"}}, \"type\": \"scatter3d\"}], \"scattercarpet\": [{\"marker\": {\"colorbar\": {\"outlinewidth\": 0, \"ticks\": \"\"}}, \"type\": \"scattercarpet\"}], \"scattergeo\": [{\"marker\": {\"colorbar\": {\"outlinewidth\": 0, \"ticks\": \"\"}}, \"type\": \"scattergeo\"}], \"scattergl\": [{\"marker\": {\"colorbar\": {\"outlinewidth\": 0, \"ticks\": \"\"}}, \"type\": \"scattergl\"}], \"scattermapbox\": [{\"marker\": {\"colorbar\": {\"outlinewidth\": 0, \"ticks\": \"\"}}, \"type\": \"scattermapbox\"}], \"scatterpolar\": [{\"marker\": {\"colorbar\": {\"outlinewidth\": 0, \"ticks\": \"\"}}, \"type\": \"scatterpolar\"}], \"scatterpolargl\": [{\"marker\": {\"colorbar\": {\"outlinewidth\": 0, \"ticks\": \"\"}}, \"type\": \"scatterpolargl\"}], \"scatterternary\": [{\"marker\": {\"colorbar\": {\"outlinewidth\": 0, \"ticks\": \"\"}}, \"type\": \"scatterternary\"}], \"surface\": [{\"colorbar\": {\"outlinewidth\": 0, \"ticks\": \"\"}, \"colorscale\": [[0.0, \"#0d0887\"], [0.1111111111111111, \"#46039f\"], [0.2222222222222222, \"#7201a8\"], [0.3333333333333333, \"#9c179e\"], [0.4444444444444444, \"#bd3786\"], [0.5555555555555556, \"#d8576b\"], [0.6666666666666666, \"#ed7953\"], [0.7777777777777778, \"#fb9f3a\"], [0.8888888888888888, \"#fdca26\"], [1.0, \"#f0f921\"]], \"type\": \"surface\"}], \"table\": [{\"cells\": {\"fill\": {\"color\": \"#EBF0F8\"}, \"line\": {\"color\": \"white\"}}, \"header\": {\"fill\": {\"color\": \"#C8D4E3\"}, \"line\": {\"color\": \"white\"}}, \"type\": \"table\"}]}, \"layout\": {\"annotationdefaults\": {\"arrowcolor\": \"#2a3f5f\", \"arrowhead\": 0, \"arrowwidth\": 1}, \"coloraxis\": {\"colorbar\": {\"outlinewidth\": 0, \"ticks\": \"\"}}, \"colorscale\": {\"diverging\": [[0, \"#8e0152\"], [0.1, \"#c51b7d\"], [0.2, \"#de77ae\"], [0.3, \"#f1b6da\"], [0.4, \"#fde0ef\"], [0.5, \"#f7f7f7\"], [0.6, \"#e6f5d0\"], [0.7, \"#b8e186\"], [0.8, \"#7fbc41\"], [0.9, \"#4d9221\"], [1, \"#276419\"]], \"sequential\": [[0.0, \"#0d0887\"], [0.1111111111111111, \"#46039f\"], [0.2222222222222222, \"#7201a8\"], [0.3333333333333333, \"#9c179e\"], [0.4444444444444444, \"#bd3786\"], [0.5555555555555556, \"#d8576b\"], [0.6666666666666666, \"#ed7953\"], [0.7777777777777778, \"#fb9f3a\"], [0.8888888888888888, \"#fdca26\"], [1.0, \"#f0f921\"]], \"sequentialminus\": [[0.0, \"#0d0887\"], [0.1111111111111111, \"#46039f\"], [0.2222222222222222, \"#7201a8\"], [0.3333333333333333, \"#9c179e\"], [0.4444444444444444, \"#bd3786\"], [0.5555555555555556, \"#d8576b\"], [0.6666666666666666, \"#ed7953\"], [0.7777777777777778, \"#fb9f3a\"], [0.8888888888888888, \"#fdca26\"], [1.0, \"#f0f921\"]]}, \"colorway\": [\"#636efa\", \"#EF553B\", \"#00cc96\", \"#ab63fa\", \"#FFA15A\", \"#19d3f3\", \"#FF6692\", \"#B6E880\", \"#FF97FF\", \"#FECB52\"], \"font\": {\"color\": \"#2a3f5f\"}, \"geo\": {\"bgcolor\": \"white\", \"lakecolor\": \"white\", \"landcolor\": \"#E5ECF6\", \"showlakes\": true, \"showland\": true, \"subunitcolor\": \"white\"}, \"hoverlabel\": {\"align\": \"left\"}, \"hovermode\": \"closest\", \"mapbox\": {\"style\": \"light\"}, \"paper_bgcolor\": \"white\", \"plot_bgcolor\": \"#E5ECF6\", \"polar\": {\"angularaxis\": {\"gridcolor\": \"white\", \"linecolor\": \"white\", \"ticks\": \"\"}, \"bgcolor\": \"#E5ECF6\", \"radialaxis\": {\"gridcolor\": \"white\", \"linecolor\": \"white\", \"ticks\": \"\"}}, \"scene\": {\"xaxis\": {\"backgroundcolor\": \"#E5ECF6\", \"gridcolor\": \"white\", \"gridwidth\": 2, \"linecolor\": \"white\", \"showbackground\": true, \"ticks\": \"\", \"zerolinecolor\": \"white\"}, \"yaxis\": {\"backgroundcolor\": \"#E5ECF6\", \"gridcolor\": \"white\", \"gridwidth\": 2, \"linecolor\": \"white\", \"showbackground\": true, \"ticks\": \"\", \"zerolinecolor\": \"white\"}, \"zaxis\": {\"backgroundcolor\": \"#E5ECF6\", \"gridcolor\": \"white\", \"gridwidth\": 2, \"linecolor\": \"white\", \"showbackground\": true, \"ticks\": \"\", \"zerolinecolor\": \"white\"}}, \"shapedefaults\": {\"line\": {\"color\": \"#2a3f5f\"}}, \"ternary\": {\"aaxis\": {\"gridcolor\": \"white\", \"linecolor\": \"white\", \"ticks\": \"\"}, \"baxis\": {\"gridcolor\": \"white\", \"linecolor\": \"white\", \"ticks\": \"\"}, \"bgcolor\": \"#E5ECF6\", \"caxis\": {\"gridcolor\": \"white\", \"linecolor\": \"white\", \"ticks\": \"\"}}, \"title\": {\"x\": 0.05}, \"xaxis\": {\"automargin\": true, \"gridcolor\": \"white\", \"linecolor\": \"white\", \"ticks\": \"\", \"title\": {\"standoff\": 15}, \"zerolinecolor\": \"white\", \"zerolinewidth\": 2}, \"yaxis\": {\"automargin\": true, \"gridcolor\": \"white\", \"linecolor\": \"white\", \"ticks\": \"\", \"title\": {\"standoff\": 15}, \"zerolinecolor\": \"white\", \"zerolinewidth\": 2}}}, \"title\": {\"font\": {\"size\": 16}, \"text\": \"Concept Lattice\"}, \"width\": 1000, \"xaxis\": {\"showgrid\": false, \"showticklabels\": false, \"zeroline\": false}, \"yaxis\": {\"showgrid\": false, \"showticklabels\": false, \"zeroline\": false}},\n",
       "                        {\"responsive\": true}\n",
       "                    ).then(function(){\n",
       "                            \n",
       "var gd = document.getElementById('4ec78070-0a17-4413-9a50-c3771e2aeb25');\n",
       "var x = new MutationObserver(function (mutations, observer) {{\n",
       "        var display = window.getComputedStyle(gd).display;\n",
       "        if (!display || display === 'none') {{\n",
       "            console.log([gd, 'removed!']);\n",
       "            Plotly.purge(gd);\n",
       "            observer.disconnect();\n",
       "        }}\n",
       "}});\n",
       "\n",
       "// Listen for the removal of the full notebook cells\n",
       "var notebookContainer = gd.closest('#notebook-container');\n",
       "if (notebookContainer) {{\n",
       "    x.observe(notebookContainer, {childList: true});\n",
       "}}\n",
       "\n",
       "// Listen for the clearing of the current output cell\n",
       "var outputEl = gd.closest('.output');\n",
       "if (outputEl) {{\n",
       "    x.observe(outputEl, {childList: true});\n",
       "}}\n",
       "\n",
       "                        })\n",
       "                };\n",
       "                });\n",
       "            </script>\n",
       "        </div>"
      ]
     },
     "metadata": {},
     "output_type": "display_data"
    }
   ],
   "source": [
    "fig_stab.show()"
   ]
  },
  {
   "cell_type": "code",
   "execution_count": 731,
   "metadata": {},
   "outputs": [],
   "source": [
    "concepts_json = {}\n",
    "for c in fm_stab.get_concepts():\n",
    "    c_json = {}\n",
    "    c_json['extent'] = tuple(c.get_extent())\n",
    "    c_json['intent'] = tuple(c.get_intent()) if c.get_intent() is not None else None\n",
    "    c_json['low_neighbs'] = tuple(c.get_lower_neighbs())\n",
    "    c_json['up_neighbs'] = tuple(c.get_upper_neighbs())\n",
    "    c_json['metrics'] = c._metrics\n",
    "    concepts_json[c.get_id()] = c_json"
   ]
  },
  {
   "cell_type": "code",
   "execution_count": 732,
   "metadata": {},
   "outputs": [],
   "source": [
    "import json\n",
    "with open('pattern_structures_pos_stable.json','w') as f:\n",
    "    json.dump(concepts_json, f)"
   ]
  },
  {
   "cell_type": "markdown",
   "metadata": {},
   "source": [
    "# Calc feature importances"
   ]
  },
  {
   "cell_type": "code",
   "execution_count": 639,
   "metadata": {},
   "outputs": [],
   "source": [
    "fimps = {}"
   ]
  },
  {
   "cell_type": "code",
   "execution_count": 640,
   "metadata": {},
   "outputs": [
    {
     "data": {
      "text/plain": [
       "set()"
      ]
     },
     "execution_count": 640,
     "metadata": {},
     "output_type": "execute_result"
    }
   ],
   "source": [
    "fm.get_concept_by_id(0)._up_neighbs"
   ]
  },
  {
   "cell_type": "code",
   "execution_count": 641,
   "metadata": {},
   "outputs": [
    {
     "data": {
      "text/plain": [
       "('balance', 'pdays', 'month', 'age', 'education', 'previous', 'job')"
      ]
     },
     "execution_count": 641,
     "metadata": {},
     "output_type": "execute_result"
    }
   ],
   "source": [
    "fm.get_concept_by_id(50)._new_attrs"
   ]
  },
  {
   "cell_type": "code",
   "execution_count": null,
   "metadata": {},
   "outputs": [],
   "source": []
  },
  {
   "cell_type": "code",
   "execution_count": 642,
   "metadata": {},
   "outputs": [],
   "source": [
    "fimps = {}\n",
    "for c in fm.get_concepts():\n",
    "    if len(c.get_extent())==0:\n",
    "        continue\n",
    "    for un_idx in c._up_neighbs:\n",
    "        un = fm.get_concept_by_id(un_idx)\n",
    "        new_int = c._new_attrs\n",
    "        if new_int is None:\n",
    "            print(c.get_id())\n",
    "            continue\n",
    "        \n",
    "        new_feats = new_int\n",
    "        strongness_diff = c._metrics['strongness'] - un._metrics['strongness']\n",
    "        for f in new_feats:\n",
    "            fimps[f] = fimps.get(f,[])+[strongness_diff/len(new_feats)]\n",
    "#fimps"
   ]
  },
  {
   "cell_type": "code",
   "execution_count": 643,
   "metadata": {},
   "outputs": [
    {
     "name": "stdout",
     "output_type": "stream",
     "text": [
      "default\n"
     ]
    }
   ],
   "source": [
    "for f in cat_feats+real_feats:\n",
    "    if f not in fimps:\n",
    "        print(f)\n",
    "        fimps[f] = [0]"
   ]
  },
  {
   "cell_type": "code",
   "execution_count": 644,
   "metadata": {},
   "outputs": [],
   "source": [
    "fimps_mean = pd.Series({k:np.mean(np.abs(v)) for k,v in fimps.items()}).sort_values(ascending=False)\n",
    "fimps_median = pd.Series({k:np.median(np.abs(v)) for k,v in fimps.items()}).sort_values(ascending=False)\n",
    "fimps_sum = pd.Series({k:np.sum(np.abs(v)) for k,v in fimps.items()}).sort_values(ascending=False)\n",
    "\n",
    "fimps_mean /= fimps_mean.sum()\n",
    "fimps_median /= fimps_median.sum()\n",
    "fimps_sum /= fimps_sum.sum()"
   ]
  },
  {
   "cell_type": "code",
   "execution_count": null,
   "metadata": {},
   "outputs": [],
   "source": []
  },
  {
   "cell_type": "code",
   "execution_count": 645,
   "metadata": {},
   "outputs": [],
   "source": [
    "pool = Pool(bank_ds.loc[flg, cat_feats+real_feats], cat_features=cat_feats)"
   ]
  },
  {
   "cell_type": "code",
   "execution_count": 646,
   "metadata": {},
   "outputs": [],
   "source": [
    "sv = pd.DataFrame(bb.get_feature_importance(pool, type='ShapValues'), columns=cat_feats+real_feats+['bias']).drop('bias',1)\n",
    "sv = sv.abs().mean()\n",
    "sv /= sv.sum()\n",
    "sv = sv.sort_values(ascending=False)"
   ]
  },
  {
   "cell_type": "code",
   "execution_count": 647,
   "metadata": {},
   "outputs": [
    {
     "data": {
      "text/plain": [
       "poutcome     0.365855\n",
       "month        0.151731\n",
       "contact      0.088716\n",
       "pdays        0.073109\n",
       "age          0.064318\n",
       "balance      0.059707\n",
       "housing      0.039846\n",
       "marital      0.037364\n",
       "previous     0.036784\n",
       "education    0.030353\n",
       "job          0.024951\n",
       "loan         0.015515\n",
       "campaign     0.010593\n",
       "default      0.001158\n",
       "dtype: float64"
      ]
     },
     "execution_count": 647,
     "metadata": {},
     "output_type": "execute_result"
    }
   ],
   "source": [
    "sv"
   ]
  },
  {
   "cell_type": "code",
   "execution_count": null,
   "metadata": {},
   "outputs": [],
   "source": []
  },
  {
   "cell_type": "code",
   "execution_count": 648,
   "metadata": {},
   "outputs": [
    {
     "data": {
      "text/plain": [
       "Index(['poutcome', 'month', 'contact', 'pdays', 'age', 'balance', 'housing',\n",
       "       'marital', 'previous', 'education', 'job', 'loan', 'campaign',\n",
       "       'default'],\n",
       "      dtype='object')"
      ]
     },
     "execution_count": 648,
     "metadata": {},
     "output_type": "execute_result"
    }
   ],
   "source": [
    "sv.index"
   ]
  },
  {
   "cell_type": "code",
   "execution_count": null,
   "metadata": {},
   "outputs": [],
   "source": []
  },
  {
   "cell_type": "code",
   "execution_count": 649,
   "metadata": {},
   "outputs": [],
   "source": [
    "colors = list(fimps_mean.index)"
   ]
  },
  {
   "cell_type": "code",
   "execution_count": 650,
   "metadata": {},
   "outputs": [],
   "source": [
    "cds = pd.DataFrame()\n",
    "cds['fimps_mean'] = fimps_mean\n",
    "cds['fimps_sum'] = fimps_sum\n",
    "cds['sv'] = sv\n",
    "cds['fimps_bb'] = pd.Series(bb.get_feature_importance(), index=bb.feature_names_)\n",
    "cds['fimps_bb'] /= cds['fimps_bb'].sum()\n",
    "cds['colors'] = range(len(cds))\n",
    "cds = cds.reset_index()"
   ]
  },
  {
   "cell_type": "code",
   "execution_count": 651,
   "metadata": {},
   "outputs": [
    {
     "data": {
      "image/png": "[encoded data removed]",
      "text/plain": [
       "<Figure size 1080x360 with 3 Axes>"
      ]
     },
     "metadata": {
      "needs_background": "light"
     },
     "output_type": "display_data"
    }
   ],
   "source": [
    "plt.figure(figsize=(15,5))\n",
    "plt.subplot(131)\n",
    "#sns.barplot(y='index', x='fimps_mean', data=cds.sort_values('fimps_mean', ascending=False), order='fimps_mean', palette='Accent')\n",
    "sns.barplot(y='index', x='fimps_mean', data=cds, order=cds.sort_values('fimps_mean', ascending=False)['index'], palette='Accent')\n",
    "plt.title('mean diffs')\n",
    "\n",
    "plt.subplot(132)\n",
    "sns.barplot(y='index', x='sv', data=cds, order=cds.sort_values('sv', ascending=False)['index'], palette='Accent')\n",
    "plt.title('shap values')\n",
    "\n",
    "plt.subplot(133)\n",
    "sns.barplot(y='index', x='fimps_bb', data=cds, order=cds.sort_values('fimps_bb', ascending=False)['index'], palette='Accent')\n",
    "plt.title('Real fimps')\n",
    "\n",
    "plt.tight_layout()\n",
    "plt.show()"
   ]
  },
  {
   "cell_type": "code",
   "execution_count": 652,
   "metadata": {},
   "outputs": [
    {
     "data": {
      "text/plain": [
       "<matplotlib.axes._subplots.AxesSubplot at 0x7efce1410ed0>"
      ]
     },
     "execution_count": 652,
     "metadata": {},
     "output_type": "execute_result"
    },
    {
     "data": {
      "image/png": "[encoded data removed]",
      "text/plain": [
       "<Figure size 432x288 with 2 Axes>"
      ]
     },
     "metadata": {
      "needs_background": "light"
     },
     "output_type": "display_data"
    }
   ],
   "source": [
    "cds_ = cds[['fimps_mean','fimps_sum','sv','fimps_bb']].corr()\n",
    "sns.heatmap(cds_, cmap='Blues', annot=True)"
   ]
  },
  {
   "cell_type": "code",
   "execution_count": null,
   "metadata": {},
   "outputs": [],
   "source": []
  },
  {
   "cell_type": "code",
   "execution_count": 653,
   "metadata": {},
   "outputs": [],
   "source": [
    "for f in ['fimps_mean','fimps_sum','sv','fimps_bb']:\n",
    "    cds[f+'_rank'] = len(cds)-cds[f].rank()"
   ]
  },
  {
   "cell_type": "code",
   "execution_count": 654,
   "metadata": {},
   "outputs": [],
   "source": [
    "from scipy.stats import mannwhitneyu"
   ]
  },
  {
   "cell_type": "code",
   "execution_count": 655,
   "metadata": {},
   "outputs": [
    {
     "data": {
      "text/plain": [
       "MannwhitneyuResult(statistic=95.0, pvalue=0.45427439908546097)"
      ]
     },
     "execution_count": 655,
     "metadata": {},
     "output_type": "execute_result"
    }
   ],
   "source": [
    "mannwhitneyu(cds['fimps_mean'], cds['fimps_bb'])"
   ]
  },
  {
   "cell_type": "code",
   "execution_count": 656,
   "metadata": {},
   "outputs": [
    {
     "data": {
      "text/plain": [
       "MannwhitneyuResult(statistic=59.0, pvalue=0.03844813197188486)"
      ]
     },
     "execution_count": 656,
     "metadata": {},
     "output_type": "execute_result"
    }
   ],
   "source": [
    "mannwhitneyu(cds['fimps_mean'], cds['sv'])"
   ]
  },
  {
   "cell_type": "markdown",
   "metadata": {},
   "source": [
    "# Интерпретируем минимальные понятия"
   ]
  },
  {
   "cell_type": "code",
   "execution_count": 659,
   "metadata": {},
   "outputs": [
    {
     "data": {
      "application/vnd.jupyter.widget-view+json": {
       "model_id": "17592ad47bce4ac7afa9e3f2f91e32bf",
       "version_major": 2,
       "version_minor": 0
      },
      "text/plain": [
       "HBox(children=(FloatProgress(value=0.0, max=34.0), HTML(value='')))"
      ]
     },
     "metadata": {},
     "output_type": "display_data"
    },
    {
     "data": {
      "application/vnd.jupyter.widget-view+json": {
       "model_id": "6402b26dcf5a43bc8e4be15708baebf5",
       "version_major": 2,
       "version_minor": 0
      },
      "text/plain": [
       "HBox(children=(FloatProgress(value=0.0, description='pruning', max=8.0, style=ProgressStyle(description_width=…"
      ]
     },
     "metadata": {},
     "output_type": "display_data"
    },
    {
     "data": {
      "text/plain": [
       "(8, 124, 0.8322147651006712)"
      ]
     },
     "execution_count": 659,
     "metadata": {},
     "output_type": "execute_result"
    }
   ],
   "source": [
    "sc = select_smallest_covering_hyps([c for c in fm_stab.get_concepts() if c._metrics['strongness']>=0.75], use_pruning=True)\n",
    "len(sc), len(calc_cover_of_concepts(sc)), len(calc_cover_of_concepts(sc))/flg.sum()"
   ]
  },
  {
   "cell_type": "code",
   "execution_count": 660,
   "metadata": {},
   "outputs": [
    {
     "data": {
      "text/plain": [
       "[94, 12, 5, 27, 16, 11, 5, 9]"
      ]
     },
     "execution_count": 660,
     "metadata": {},
     "output_type": "execute_result"
    }
   ],
   "source": [
    "[len(c.get_extent()) for c in sc]"
   ]
  },
  {
   "cell_type": "code",
   "execution_count": 661,
   "metadata": {},
   "outputs": [
    {
     "data": {
      "text/plain": [
       "0.8187919463087249"
      ]
     },
     "execution_count": 661,
     "metadata": {},
     "output_type": "execute_result"
    }
   ],
   "source": [
    "len(calc_cover_of_concepts(sc[:7]))/flg.sum()"
   ]
  },
  {
   "cell_type": "code",
   "execution_count": 662,
   "metadata": {},
   "outputs": [],
   "source": [
    "def get_short_intent(int_, cntx_full, use_tqdm=True):\n",
    "    keys = list(int_.keys())\n",
    "    for i in tqdm(range(len(keys)), disable=not use_tqdm):\n",
    "        for m in keys:\n",
    "            if len(cntx_full.get_extent({m_:int_[m_] for m_ in keys if m_!=m}))==len(cntx_full.get_extent(int_)):\n",
    "                #print(m)\n",
    "                keys = [m_ for m_ in keys if m_!=m]\n",
    "                break\n",
    "        else:\n",
    "            break\n",
    "    int_short = {m:int_[m] for m in keys}\n",
    "    return int_short"
   ]
  },
  {
   "cell_type": "code",
   "execution_count": 663,
   "metadata": {},
   "outputs": [],
   "source": [
    "from scipy.stats import entropy"
   ]
  },
  {
   "cell_type": "code",
   "execution_count": 664,
   "metadata": {},
   "outputs": [],
   "source": [
    "def calc_feature_entropy(objs, f, ds):\n",
    "    ps = ds[f].value_counts()\n",
    "    qs = ds.loc[ext_, f].value_counts()\n",
    "    for p in ps.index:\n",
    "        if p not in qs.index:\n",
    "            qs[p] = 0\n",
    "    ps = ps.sort_index()\n",
    "    qs = qs.sort_index()\n",
    "    ent = entropy(qs, ps)\n",
    "    return ent"
   ]
  },
  {
   "cell_type": "markdown",
   "metadata": {},
   "source": [
    "## Понятие 1"
   ]
  },
  {
   "cell_type": "code",
   "execution_count": 665,
   "metadata": {},
   "outputs": [],
   "source": [
    "c = sc[0]"
   ]
  },
  {
   "cell_type": "code",
   "execution_count": 666,
   "metadata": {},
   "outputs": [],
   "source": [
    "int_ = c.get_intent()\n",
    "int_short = get_short_intent(int_, mvcntx_full, use_tqdm=False)\n",
    "\n",
    "#int_ = sorted(int_, key=lambda x: x.split('__')[0])\n",
    "#int_short = sorted(int_short, key=lambda x: x.split('__')[0])"
   ]
  },
  {
   "cell_type": "code",
   "execution_count": 667,
   "metadata": {},
   "outputs": [
    {
     "data": {
      "text/plain": [
       "(14, 4)"
      ]
     },
     "execution_count": 667,
     "metadata": {},
     "output_type": "execute_result"
    }
   ],
   "source": [
    "len(int_), len(int_short)"
   ]
  },
  {
   "cell_type": "code",
   "execution_count": 668,
   "metadata": {},
   "outputs": [],
   "source": [
    "keys = list(int_short.keys())"
   ]
  },
  {
   "cell_type": "code",
   "execution_count": 669,
   "metadata": {},
   "outputs": [],
   "source": [
    "entrs = []\n",
    "for f in keys:\n",
    "    entrs.append( calc_feature_entropy(c.get_extent(), f, bank_ds.loc[flg] ) )\n",
    "entrs = pd.Series(entrs, index=keys).sort_values()"
   ]
  },
  {
   "cell_type": "code",
   "execution_count": 670,
   "metadata": {},
   "outputs": [
    {
     "data": {
      "text/plain": [
       "(94,\n",
       " 0.6308724832214765,\n",
       " {'strongness': 0.7833333333333333,\n",
       "  'stab_min_bound': 0.9990234375,\n",
       "  'stab_max_bound': 0.9990234375,\n",
       "  'log_stab_min_bound': 10.0,\n",
       "  'log_stab_max_bound': 10.0,\n",
       "  'lstab_min_bound': -4.0,\n",
       "  'n_uncovered': 94})"
      ]
     },
     "execution_count": 670,
     "metadata": {},
     "output_type": "execute_result"
    }
   ],
   "source": [
    "len(c.get_extent()), len(c.get_extent())/flg.sum(), c._metrics"
   ]
  },
  {
   "cell_type": "code",
   "execution_count": 671,
   "metadata": {},
   "outputs": [
    {
     "name": "stdout",
     "output_type": "stream",
     "text": [
      "contact ('cellular', 'telephone')\n",
      "age (26, 79)\n",
      "poutcome success\n",
      "balance (-242, 8556)\n"
     ]
    }
   ],
   "source": [
    "for k in entrs.index:\n",
    "    if k in int_short:\n",
    "        print(k, int_short[k])"
   ]
  },
  {
   "cell_type": "markdown",
   "metadata": {},
   "source": [
    "## Понятие 2"
   ]
  },
  {
   "cell_type": "code",
   "execution_count": 672,
   "metadata": {},
   "outputs": [],
   "source": [
    "c = sc[1]"
   ]
  },
  {
   "cell_type": "code",
   "execution_count": 673,
   "metadata": {},
   "outputs": [],
   "source": [
    "int_ = c.get_intent()\n",
    "int_short = get_short_intent(int_, mvcntx_full, use_tqdm=False)\n",
    "\n",
    "#int_ = sorted(int_, key=lambda x: x.split('__')[0])\n",
    "#int_short = sorted(int_short, key=lambda x: x.split('__')[0])"
   ]
  },
  {
   "cell_type": "code",
   "execution_count": 674,
   "metadata": {},
   "outputs": [
    {
     "data": {
      "text/plain": [
       "(14, 7)"
      ]
     },
     "execution_count": 674,
     "metadata": {},
     "output_type": "execute_result"
    }
   ],
   "source": [
    "len(int_), len(int_short)"
   ]
  },
  {
   "cell_type": "code",
   "execution_count": 675,
   "metadata": {},
   "outputs": [],
   "source": [
    "keys = list(int_short.keys())"
   ]
  },
  {
   "cell_type": "code",
   "execution_count": 676,
   "metadata": {},
   "outputs": [],
   "source": [
    "entrs = []\n",
    "for f in keys:\n",
    "    entrs.append( calc_feature_entropy(c.get_extent(), f, bank_ds.loc[flg] ) )\n",
    "entrs = pd.Series(entrs, index=keys).sort_values()"
   ]
  },
  {
   "cell_type": "code",
   "execution_count": 677,
   "metadata": {},
   "outputs": [
    {
     "data": {
      "text/plain": [
       "(12,\n",
       " 0.08053691275167785,\n",
       " {'strongness': 0.8571428571428571,\n",
       "  'stab_min_bound': 0.96875,\n",
       "  'stab_max_bound': 0.96875,\n",
       "  'log_stab_min_bound': 5.0,\n",
       "  'log_stab_max_bound': 5.0,\n",
       "  'lstab_min_bound': -9.0,\n",
       "  'n_uncovered': 8})"
      ]
     },
     "execution_count": 677,
     "metadata": {},
     "output_type": "execute_result"
    }
   ],
   "source": [
    "len(c.get_extent()), len(c.get_extent())/flg.sum(), c._metrics"
   ]
  },
  {
   "cell_type": "code",
   "execution_count": 678,
   "metadata": {},
   "outputs": [
    {
     "name": "stdout",
     "output_type": "stream",
     "text": [
      "education ('primary', 'secondary', 'tertiary')\n",
      "job ('blue-collar', 'entrepreneur', 'management', 'services', 'student')\n",
      "month ('aug', 'jul', 'oct', 'sep')\n",
      "previous (1, 4)\n",
      "pdays (105.0, 474.0)\n",
      "poutcome ('failure', 'success')\n",
      "balance (64, 2543)\n"
     ]
    }
   ],
   "source": [
    "for k in entrs.index:\n",
    "    if k in int_short:\n",
    "        print(k, int_short[k])"
   ]
  },
  {
   "cell_type": "markdown",
   "metadata": {},
   "source": [
    "## Понятие 3"
   ]
  },
  {
   "cell_type": "code",
   "execution_count": 679,
   "metadata": {},
   "outputs": [],
   "source": [
    "c = sc[2]"
   ]
  },
  {
   "cell_type": "code",
   "execution_count": 680,
   "metadata": {},
   "outputs": [],
   "source": [
    "int_ = c.get_intent()\n",
    "int_short = get_short_intent(int_, mvcntx_full, use_tqdm=False)\n",
    "\n",
    "#int_ = sorted(int_, key=lambda x: x.split('__')[0])\n",
    "#int_short = sorted(int_short, key=lambda x: x.split('__')[0])"
   ]
  },
  {
   "cell_type": "code",
   "execution_count": 681,
   "metadata": {},
   "outputs": [
    {
     "data": {
      "text/plain": [
       "(13, 7)"
      ]
     },
     "execution_count": 681,
     "metadata": {},
     "output_type": "execute_result"
    }
   ],
   "source": [
    "len(int_), len(int_short)"
   ]
  },
  {
   "cell_type": "code",
   "execution_count": 682,
   "metadata": {},
   "outputs": [],
   "source": [
    "keys = list(int_short.keys())"
   ]
  },
  {
   "cell_type": "code",
   "execution_count": 683,
   "metadata": {},
   "outputs": [],
   "source": [
    "entrs = []\n",
    "for f in keys:\n",
    "    entrs.append( calc_feature_entropy(c.get_extent(), f, bank_ds.loc[flg] ) )\n",
    "entrs = pd.Series(entrs, index=keys).sort_values()"
   ]
  },
  {
   "cell_type": "code",
   "execution_count": 684,
   "metadata": {},
   "outputs": [
    {
     "data": {
      "text/plain": [
       "(5,\n",
       " 0.03355704697986577,\n",
       " {'strongness': 1.0,\n",
       "  'stab_min_bound': None,\n",
       "  'stab_max_bound': None,\n",
       "  'log_stab_min_bound': None,\n",
       "  'log_stab_max_bound': None,\n",
       "  'lstab_min_bound': None,\n",
       "  'n_uncovered': 5})"
      ]
     },
     "execution_count": 684,
     "metadata": {},
     "output_type": "execute_result"
    }
   ],
   "source": [
    "len(c.get_extent()), len(c.get_extent())/flg.sum(), c._metrics"
   ]
  },
  {
   "cell_type": "code",
   "execution_count": 685,
   "metadata": {},
   "outputs": [
    {
     "name": "stdout",
     "output_type": "stream",
     "text": [
      "education secondary\n",
      "contact ('cellular', 'telephone')\n",
      "marital ('divorced', 'single')\n",
      "job ('admin.', 'retired', 'services')\n",
      "month ('jun', 'mar', 'oct')\n",
      "age (42, 74)\n",
      "balance (-247, 4079)\n"
     ]
    }
   ],
   "source": [
    "for k in entrs.index:\n",
    "    if k in int_short:\n",
    "        print(k, int_short[k])"
   ]
  },
  {
   "cell_type": "markdown",
   "metadata": {},
   "source": [
    "## Понятие 4"
   ]
  },
  {
   "cell_type": "code",
   "execution_count": 686,
   "metadata": {},
   "outputs": [],
   "source": [
    "c = sc[3]"
   ]
  },
  {
   "cell_type": "code",
   "execution_count": 687,
   "metadata": {},
   "outputs": [],
   "source": [
    "int_ = c.get_intent()\n",
    "int_short = get_short_intent(int_, mvcntx_full, use_tqdm=False)\n",
    "\n",
    "#int_ = sorted(int_, key=lambda x: x.split('__')[0])\n",
    "#int_short = sorted(int_short, key=lambda x: x.split('__')[0])"
   ]
  },
  {
   "cell_type": "code",
   "execution_count": 688,
   "metadata": {},
   "outputs": [
    {
     "data": {
      "text/plain": [
       "(14, 9)"
      ]
     },
     "execution_count": 688,
     "metadata": {},
     "output_type": "execute_result"
    }
   ],
   "source": [
    "len(int_), len(int_short)"
   ]
  },
  {
   "cell_type": "code",
   "execution_count": 689,
   "metadata": {},
   "outputs": [],
   "source": [
    "keys = list(int_short.keys())"
   ]
  },
  {
   "cell_type": "code",
   "execution_count": 690,
   "metadata": {},
   "outputs": [],
   "source": [
    "entrs = []\n",
    "for f in keys:\n",
    "    entrs.append( calc_feature_entropy(c.get_extent(), f, bank_ds.loc[flg] ) )\n",
    "entrs = pd.Series(entrs, index=keys).sort_values()"
   ]
  },
  {
   "cell_type": "code",
   "execution_count": 691,
   "metadata": {},
   "outputs": [
    {
     "data": {
      "text/plain": [
       "(27,\n",
       " 0.18120805369127516,\n",
       " {'strongness': 0.7941176470588235,\n",
       "  'stab_min_bound': 0.984375,\n",
       "  'stab_max_bound': 0.984375,\n",
       "  'log_stab_min_bound': 6.0,\n",
       "  'log_stab_max_bound': 6.0,\n",
       "  'lstab_min_bound': -8.0,\n",
       "  'n_uncovered': 5})"
      ]
     },
     "execution_count": 691,
     "metadata": {},
     "output_type": "execute_result"
    }
   ],
   "source": [
    "len(c.get_extent()), len(c.get_extent())/flg.sum(), c._metrics"
   ]
  },
  {
   "cell_type": "code",
   "execution_count": 693,
   "metadata": {},
   "outputs": [
    {
     "name": "stdout",
     "output_type": "stream",
     "text": [
      "loan 0\n",
      "education ('primary', 'secondary', 'tertiary')\n",
      "job ('admin.', 'housemaid', 'management', 'self-employed', 'services', 'technician')\n",
      "month ('apr', 'feb', 'jul', 'jun', 'mar', 'oct')\n",
      "previous (1, 5)\n",
      "pdays (64.0, 192.0)\n",
      "age (26, 64)\n",
      "poutcome ('other', 'success')\n",
      "balance (19, 9756)\n"
     ]
    }
   ],
   "source": [
    "for k in entrs.index:\n",
    "    if k in int_short:\n",
    "        print(k, int_short[k])"
   ]
  },
  {
   "cell_type": "markdown",
   "metadata": {},
   "source": [
    "## Понятие 5"
   ]
  },
  {
   "cell_type": "code",
   "execution_count": 694,
   "metadata": {},
   "outputs": [],
   "source": [
    "c = sc[4]"
   ]
  },
  {
   "cell_type": "code",
   "execution_count": 695,
   "metadata": {},
   "outputs": [],
   "source": [
    "int_ = c.get_intent()\n",
    "int_short = get_short_intent(int_, mvcntx_full, use_tqdm=False)\n",
    "\n",
    "#int_ = sorted(int_, key=lambda x: x.split('__')[0])\n",
    "#int_short = sorted(int_short, key=lambda x: x.split('__')[0])"
   ]
  },
  {
   "cell_type": "code",
   "execution_count": 696,
   "metadata": {},
   "outputs": [
    {
     "data": {
      "text/plain": [
       "(14, 11)"
      ]
     },
     "execution_count": 696,
     "metadata": {},
     "output_type": "execute_result"
    }
   ],
   "source": [
    "len(int_), len(int_short)"
   ]
  },
  {
   "cell_type": "code",
   "execution_count": 697,
   "metadata": {},
   "outputs": [],
   "source": [
    "keys = list(int_short.keys())"
   ]
  },
  {
   "cell_type": "code",
   "execution_count": 698,
   "metadata": {},
   "outputs": [],
   "source": [
    "entrs = []\n",
    "for f in keys:\n",
    "    entrs.append( calc_feature_entropy(c.get_extent(), f, bank_ds.loc[flg] ) )\n",
    "entrs = pd.Series(entrs, index=keys).sort_values()"
   ]
  },
  {
   "cell_type": "code",
   "execution_count": 699,
   "metadata": {},
   "outputs": [
    {
     "data": {
      "text/plain": [
       "(16,\n",
       " 0.10738255033557047,\n",
       " {'strongness': 0.8,\n",
       "  'stab_min_bound': 0.998046875,\n",
       "  'stab_max_bound': 0.9990234375,\n",
       "  'log_stab_min_bound': 9.0,\n",
       "  'log_stab_max_bound': 10.0,\n",
       "  'lstab_min_bound': -4.0,\n",
       "  'n_uncovered': 4})"
      ]
     },
     "execution_count": 699,
     "metadata": {},
     "output_type": "execute_result"
    }
   ],
   "source": [
    "len(c.get_extent()), len(c.get_extent())/flg.sum(), c._metrics"
   ]
  },
  {
   "cell_type": "code",
   "execution_count": 700,
   "metadata": {},
   "outputs": [
    {
     "name": "stdout",
     "output_type": "stream",
     "text": [
      "loan 0\n",
      "housing 0\n",
      "education ('secondary', 'tertiary', 'unknown')\n",
      "marital ('married', 'single')\n",
      "job ('admin.', 'retired', 'student', 'technician', 'unemployed', 'unknown')\n",
      "month ('feb', 'jan', 'jul', 'jun', 'mar', 'oct')\n",
      "previous (1, 6)\n",
      "pdays (91.0, 683.0)\n",
      "age (21, 66)\n",
      "poutcome ('failure', 'success')\n",
      "balance (113, 3676)\n"
     ]
    }
   ],
   "source": [
    "for k in entrs.index:\n",
    "    if k in int_short:\n",
    "        print(k, int_short[k])"
   ]
  },
  {
   "cell_type": "markdown",
   "metadata": {},
   "source": [
    "## Понятие 6"
   ]
  },
  {
   "cell_type": "code",
   "execution_count": 701,
   "metadata": {},
   "outputs": [],
   "source": [
    "c = sc[5]"
   ]
  },
  {
   "cell_type": "code",
   "execution_count": 702,
   "metadata": {},
   "outputs": [],
   "source": [
    "int_ = c.get_intent()\n",
    "int_short = get_short_intent(int_, mvcntx_full, use_tqdm=False)\n",
    "\n",
    "#int_ = sorted(int_, key=lambda x: x.split('__')[0])\n",
    "#int_short = sorted(int_short, key=lambda x: x.split('__')[0])"
   ]
  },
  {
   "cell_type": "code",
   "execution_count": 703,
   "metadata": {},
   "outputs": [
    {
     "data": {
      "text/plain": [
       "(13, 7)"
      ]
     },
     "execution_count": 703,
     "metadata": {},
     "output_type": "execute_result"
    }
   ],
   "source": [
    "len(int_), len(int_short)"
   ]
  },
  {
   "cell_type": "code",
   "execution_count": 704,
   "metadata": {},
   "outputs": [],
   "source": [
    "keys = list(int_short.keys())"
   ]
  },
  {
   "cell_type": "code",
   "execution_count": 705,
   "metadata": {},
   "outputs": [],
   "source": [
    "entrs = []\n",
    "for f in keys:\n",
    "    entrs.append( calc_feature_entropy(c.get_extent(), f, bank_ds.loc[flg] ) )\n",
    "entrs = pd.Series(entrs, index=keys).sort_values()"
   ]
  },
  {
   "cell_type": "code",
   "execution_count": 706,
   "metadata": {},
   "outputs": [
    {
     "data": {
      "text/plain": [
       "(11,\n",
       " 0.0738255033557047,\n",
       " {'strongness': 0.7857142857142857,\n",
       "  'stab_min_bound': 0.984375,\n",
       "  'stab_max_bound': 0.984375,\n",
       "  'log_stab_min_bound': 6.0,\n",
       "  'log_stab_max_bound': 6.0,\n",
       "  'lstab_min_bound': -8.0,\n",
       "  'n_uncovered': 4})"
      ]
     },
     "execution_count": 706,
     "metadata": {},
     "output_type": "execute_result"
    }
   ],
   "source": [
    "len(c.get_extent()), len(c.get_extent())/flg.sum(), c._metrics"
   ]
  },
  {
   "cell_type": "code",
   "execution_count": 707,
   "metadata": {},
   "outputs": [
    {
     "name": "stdout",
     "output_type": "stream",
     "text": [
      "education ('primary', 'secondary', 'unknown')\n",
      "contact ('cellular', 'telephone')\n",
      "marital ('divorced', 'married')\n",
      "job ('admin.', 'management', 'retired', 'technician')\n",
      "month ('dec', 'jun', 'mar')\n",
      "age (53, 83)\n",
      "balance (259, 3735)\n"
     ]
    }
   ],
   "source": [
    "for k in entrs.index:\n",
    "    if k in int_short:\n",
    "        print(k, int_short[k])"
   ]
  },
  {
   "cell_type": "markdown",
   "metadata": {},
   "source": [
    "## Понятие 7"
   ]
  },
  {
   "cell_type": "code",
   "execution_count": 708,
   "metadata": {},
   "outputs": [],
   "source": [
    "c = sc[6]"
   ]
  },
  {
   "cell_type": "code",
   "execution_count": 709,
   "metadata": {},
   "outputs": [],
   "source": [
    "int_ = c.get_intent()\n",
    "int_short = get_short_intent(int_, mvcntx_full, use_tqdm=False)\n",
    "\n",
    "#int_ = sorted(int_, key=lambda x: x.split('__')[0])\n",
    "#int_short = sorted(int_short, key=lambda x: x.split('__')[0])"
   ]
  },
  {
   "cell_type": "code",
   "execution_count": 710,
   "metadata": {},
   "outputs": [
    {
     "data": {
      "text/plain": [
       "(14, 6)"
      ]
     },
     "execution_count": 710,
     "metadata": {},
     "output_type": "execute_result"
    }
   ],
   "source": [
    "len(int_), len(int_short)"
   ]
  },
  {
   "cell_type": "code",
   "execution_count": 711,
   "metadata": {},
   "outputs": [],
   "source": [
    "keys = list(int_short.keys())"
   ]
  },
  {
   "cell_type": "code",
   "execution_count": 712,
   "metadata": {},
   "outputs": [],
   "source": [
    "entrs = []\n",
    "for f in keys:\n",
    "    entrs.append( calc_feature_entropy(c.get_extent(), f, bank_ds.loc[flg] ) )\n",
    "entrs = pd.Series(entrs, index=keys).sort_values()"
   ]
  },
  {
   "cell_type": "code",
   "execution_count": 713,
   "metadata": {},
   "outputs": [
    {
     "data": {
      "text/plain": [
       "(5,\n",
       " 0.03355704697986577,\n",
       " {'strongness': 1.0,\n",
       "  'stab_min_bound': None,\n",
       "  'stab_max_bound': None,\n",
       "  'log_stab_min_bound': None,\n",
       "  'log_stab_max_bound': None,\n",
       "  'lstab_min_bound': None,\n",
       "  'n_uncovered': 2})"
      ]
     },
     "execution_count": 713,
     "metadata": {},
     "output_type": "execute_result"
    }
   ],
   "source": [
    "len(c.get_extent()), len(c.get_extent())/flg.sum(), c._metrics"
   ]
  },
  {
   "cell_type": "code",
   "execution_count": 714,
   "metadata": {},
   "outputs": [
    {
     "name": "stdout",
     "output_type": "stream",
     "text": [
      "campaign (1, 3)\n",
      "job ('admin.', 'retired', 'services', 'unemployed')\n",
      "month ('aug', 'dec', 'jul')\n",
      "pdays (181.0, 761.0)\n",
      "age (35, 60)\n",
      "balance (978, 4256)\n"
     ]
    }
   ],
   "source": [
    "for k in entrs.index:\n",
    "    if k in int_short:\n",
    "        print(k, int_short[k])"
   ]
  },
  {
   "cell_type": "markdown",
   "metadata": {},
   "source": [
    "## Понятие 8"
   ]
  },
  {
   "cell_type": "code",
   "execution_count": 715,
   "metadata": {},
   "outputs": [],
   "source": [
    "c = sc[7]"
   ]
  },
  {
   "cell_type": "code",
   "execution_count": 719,
   "metadata": {},
   "outputs": [],
   "source": [
    "int_ = c.get_intent()\n",
    "int_short = get_short_intent(int_, mvcntx_full, use_tqdm=False)\n",
    "\n",
    "#int_ = sorted(int_, key=lambda x: x.split('__')[0])\n",
    "#int_short = sorted(int_short, key=lambda x: x.split('__')[0])"
   ]
  },
  {
   "cell_type": "code",
   "execution_count": 720,
   "metadata": {},
   "outputs": [
    {
     "data": {
      "text/plain": [
       "(14, 8)"
      ]
     },
     "execution_count": 720,
     "metadata": {},
     "output_type": "execute_result"
    }
   ],
   "source": [
    "len(int_), len(int_short)"
   ]
  },
  {
   "cell_type": "code",
   "execution_count": 721,
   "metadata": {},
   "outputs": [],
   "source": [
    "keys = list(int_short.keys())"
   ]
  },
  {
   "cell_type": "code",
   "execution_count": 722,
   "metadata": {},
   "outputs": [],
   "source": [
    "entrs = []\n",
    "for f in keys:\n",
    "    entrs.append( calc_feature_entropy(c.get_extent(), f, bank_ds.loc[flg] ) )\n",
    "entrs = pd.Series(entrs, index=keys).sort_values()"
   ]
  },
  {
   "cell_type": "code",
   "execution_count": 723,
   "metadata": {},
   "outputs": [
    {
     "data": {
      "text/plain": [
       "(9,\n",
       " 0.06040268456375839,\n",
       " {'strongness': 1.0,\n",
       "  'stab_min_bound': None,\n",
       "  'stab_max_bound': None,\n",
       "  'log_stab_min_bound': None,\n",
       "  'log_stab_max_bound': None,\n",
       "  'lstab_min_bound': None,\n",
       "  'n_uncovered': 2})"
      ]
     },
     "execution_count": 723,
     "metadata": {},
     "output_type": "execute_result"
    }
   ],
   "source": [
    "len(c.get_extent()), len(c.get_extent())/flg.sum(), c._metrics"
   ]
  },
  {
   "cell_type": "code",
   "execution_count": 724,
   "metadata": {},
   "outputs": [
    {
     "name": "stdout",
     "output_type": "stream",
     "text": [
      "loan 0\n",
      "campaign (1, 2)\n",
      "job ('housemaid', 'management', 'retired', 'services', 'student')\n",
      "month ('dec', 'jun', 'may', 'nov')\n",
      "previous (2, 10)\n",
      "pdays (38.0, 185.0)\n",
      "poutcome ('other', 'success')\n",
      "balance (883, 7802)\n"
     ]
    }
   ],
   "source": [
    "for k in entrs.index:\n",
    "    if k in int_short:\n",
    "        print(k, int_short[k])"
   ]
  },
  {
   "cell_type": "code",
   "execution_count": null,
   "metadata": {},
   "outputs": [],
   "source": []
  },
  {
   "cell_type": "markdown",
   "metadata": {},
   "source": [
    "# Attribute Information:\n",
    "\n",
    "Input variables:\n",
    "\n",
    "__bank client data:__\n",
    "1. - age (numeric)\n",
    "2. - job : type of job (categorical: \"admin.\",\"unknown\",\"unemployed\",\"management\",\"housemaid\",\"entrepreneur\",\"student\",\"blue-collar\",\"self-employed\",\"retired\",\"technician\",\"services\") \n",
    "3. - marital : marital status (categorical: \"married\",\"divorced\",\"single\"; note: \"divorced\" means divorced or widowed)\n",
    "4. - education (categorical: \"unknown\",\"secondary\",\"primary\",\"tertiary\")\n",
    "5. - default: has credit in default? (binary: \"yes\",\"no\")\n",
    "6. - balance: average yearly balance, in euros (numeric) \n",
    "7. - housing: has housing loan? (binary: \"yes\",\"no\")\n",
    "8. - loan: has personal loan? (binary: \"yes\",\"no\")\n",
    "\n",
    "__related with the last contact of the current campaign:__\n",
    "9. - contact: contact communication type (categorical: \"unknown\",\"telephone\",\"cellular\") \n",
    "10. - day: last contact day of the month (numeric)\n",
    "11. - month: last contact month of year (categorical: \"jan\", \"feb\", \"mar\", ..., \"nov\", \"dec\")\n",
    "12. - duration: last contact duration, in seconds (numeric)\n",
    "\n",
    "__other attributes:__\n",
    "13. - campaign: number of contacts performed during this campaign and for this client (numeric, includes last contact)\n",
    "14. - pdays: number of days that passed by after the client was last contacted from a previous campaign (numeric, -1 means client was not previously contacted)\n",
    "15. - previous: number of contacts performed before this campaign and for this client (numeric)\n",
    "16. - poutcome: outcome of the previous marketing campaign (categorical: \"unknown\",\"other\",\"failure\",\"success\")\n",
    "\n",
    "Output variable (desired target):\n",
    "17. - y - has the client subscribed a term deposit? (binary: \"yes\",\"no\")"
   ]
  }
 ],
 "metadata": {
  "kernelspec": {
   "display_name": "Python 3",
   "language": "python",
   "name": "python3"
  },
  "language_info": {
   "codemirror_mode": {
    "name": "ipython",
    "version": 3
   },
   "file_extension": ".py",
   "mimetype": "text/x-python",
   "name": "python",
   "nbconvert_exporter": "python",
   "pygments_lexer": "ipython3",
   "version": "3.6.7"
  }
 },
 "nbformat": 4,
 "nbformat_minor": 4
}
