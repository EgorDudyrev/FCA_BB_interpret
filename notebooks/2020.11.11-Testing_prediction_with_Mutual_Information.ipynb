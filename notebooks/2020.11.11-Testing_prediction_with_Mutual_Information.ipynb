{
 "cells": [
  {
   "cell_type": "code",
   "execution_count": 1,
   "metadata": {},
   "outputs": [
    {
     "data": {
      "text/html": [
       "<style>.container { width:90% !important; }</style>"
      ],
      "text/plain": [
       "<IPython.core.display.HTML object>"
      ]
     },
     "metadata": {},
     "output_type": "display_data"
    }
   ],
   "source": [
    "import numpy as np\n",
    "import pandas as pd\n",
    "\n",
    "import matplotlib.pyplot as plt\n",
    "import seaborn as sns\n",
    "from tqdm.notebook import tqdm\n",
    "\n",
    "from importlib import reload\n",
    "\n",
    "from IPython.core.display import display, HTML\n",
    "display(HTML(\"<style>.container { width:90% !important; }</style>\"))"
   ]
  },
  {
   "cell_type": "code",
   "execution_count": 2,
   "metadata": {},
   "outputs": [],
   "source": [
    "import os\n",
    "import sys\n",
    "BASE_PATH = os.path.realpath('..')\n",
    "LIB_DIR = os.path.join(BASE_PATH,'lib')\n",
    "if LIB_DIR[:-3] not in sys.path:\n",
    "    sys.path.append(LIB_DIR[:-3])\n",
    "\n",
    "from lib import fca_interp as fcai"
   ]
  },
  {
   "cell_type": "markdown",
   "metadata": {},
   "source": [
    "# Load Data"
   ]
  },
  {
   "cell_type": "code",
   "execution_count": 3,
   "metadata": {},
   "outputs": [
    {
     "name": "stdout",
     "output_type": "stream",
     "text": [
      "(506, 14)\n"
     ]
    },
    {
     "data": {
      "text/html": [
       "<div>\n",
       "<style scoped>\n",
       "    .dataframe tbody tr th:only-of-type {\n",
       "        vertical-align: middle;\n",
       "    }\n",
       "\n",
       "    .dataframe tbody tr th {\n",
       "        vertical-align: top;\n",
       "    }\n",
       "\n",
       "    .dataframe thead th {\n",
       "        text-align: right;\n",
       "    }\n",
       "</style>\n",
       "<table border=\"1\" class=\"dataframe\">\n",
       "  <thead>\n",
       "    <tr style=\"text-align: right;\">\n",
       "      <th></th>\n",
       "      <th>CRIM</th>\n",
       "      <th>ZN</th>\n",
       "      <th>INDUS</th>\n",
       "      <th>CHAS</th>\n",
       "      <th>NOX</th>\n",
       "      <th>RM</th>\n",
       "      <th>AGE</th>\n",
       "      <th>DIS</th>\n",
       "      <th>RAD</th>\n",
       "      <th>TAX</th>\n",
       "      <th>PTRATIO</th>\n",
       "      <th>B</th>\n",
       "      <th>LSTAT</th>\n",
       "      <th>target</th>\n",
       "    </tr>\n",
       "  </thead>\n",
       "  <tbody>\n",
       "    <tr>\n",
       "      <th>0</th>\n",
       "      <td>0.00632</td>\n",
       "      <td>18.0</td>\n",
       "      <td>2.31</td>\n",
       "      <td>0.0</td>\n",
       "      <td>0.538</td>\n",
       "      <td>6.575</td>\n",
       "      <td>65.2</td>\n",
       "      <td>4.0900</td>\n",
       "      <td>1.0</td>\n",
       "      <td>296.0</td>\n",
       "      <td>15.3</td>\n",
       "      <td>396.90</td>\n",
       "      <td>4.98</td>\n",
       "      <td>24.0</td>\n",
       "    </tr>\n",
       "    <tr>\n",
       "      <th>1</th>\n",
       "      <td>0.02731</td>\n",
       "      <td>0.0</td>\n",
       "      <td>7.07</td>\n",
       "      <td>0.0</td>\n",
       "      <td>0.469</td>\n",
       "      <td>6.421</td>\n",
       "      <td>78.9</td>\n",
       "      <td>4.9671</td>\n",
       "      <td>2.0</td>\n",
       "      <td>242.0</td>\n",
       "      <td>17.8</td>\n",
       "      <td>396.90</td>\n",
       "      <td>9.14</td>\n",
       "      <td>21.6</td>\n",
       "    </tr>\n",
       "    <tr>\n",
       "      <th>2</th>\n",
       "      <td>0.02729</td>\n",
       "      <td>0.0</td>\n",
       "      <td>7.07</td>\n",
       "      <td>0.0</td>\n",
       "      <td>0.469</td>\n",
       "      <td>7.185</td>\n",
       "      <td>61.1</td>\n",
       "      <td>4.9671</td>\n",
       "      <td>2.0</td>\n",
       "      <td>242.0</td>\n",
       "      <td>17.8</td>\n",
       "      <td>392.83</td>\n",
       "      <td>4.03</td>\n",
       "      <td>34.7</td>\n",
       "    </tr>\n",
       "    <tr>\n",
       "      <th>3</th>\n",
       "      <td>0.03237</td>\n",
       "      <td>0.0</td>\n",
       "      <td>2.18</td>\n",
       "      <td>0.0</td>\n",
       "      <td>0.458</td>\n",
       "      <td>6.998</td>\n",
       "      <td>45.8</td>\n",
       "      <td>6.0622</td>\n",
       "      <td>3.0</td>\n",
       "      <td>222.0</td>\n",
       "      <td>18.7</td>\n",
       "      <td>394.63</td>\n",
       "      <td>2.94</td>\n",
       "      <td>33.4</td>\n",
       "    </tr>\n",
       "    <tr>\n",
       "      <th>4</th>\n",
       "      <td>0.06905</td>\n",
       "      <td>0.0</td>\n",
       "      <td>2.18</td>\n",
       "      <td>0.0</td>\n",
       "      <td>0.458</td>\n",
       "      <td>7.147</td>\n",
       "      <td>54.2</td>\n",
       "      <td>6.0622</td>\n",
       "      <td>3.0</td>\n",
       "      <td>222.0</td>\n",
       "      <td>18.7</td>\n",
       "      <td>396.90</td>\n",
       "      <td>5.33</td>\n",
       "      <td>36.2</td>\n",
       "    </tr>\n",
       "  </tbody>\n",
       "</table>\n",
       "</div>"
      ],
      "text/plain": [
       "      CRIM    ZN  INDUS  CHAS    NOX     RM   AGE     DIS  RAD    TAX  \\\n",
       "0  0.00632  18.0   2.31   0.0  0.538  6.575  65.2  4.0900  1.0  296.0   \n",
       "1  0.02731   0.0   7.07   0.0  0.469  6.421  78.9  4.9671  2.0  242.0   \n",
       "2  0.02729   0.0   7.07   0.0  0.469  7.185  61.1  4.9671  2.0  242.0   \n",
       "3  0.03237   0.0   2.18   0.0  0.458  6.998  45.8  6.0622  3.0  222.0   \n",
       "4  0.06905   0.0   2.18   0.0  0.458  7.147  54.2  6.0622  3.0  222.0   \n",
       "\n",
       "   PTRATIO       B  LSTAT  target  \n",
       "0     15.3  396.90   4.98    24.0  \n",
       "1     17.8  396.90   9.14    21.6  \n",
       "2     17.8  392.83   4.03    34.7  \n",
       "3     18.7  394.63   2.94    33.4  \n",
       "4     18.7  396.90   5.33    36.2  "
      ]
     },
     "execution_count": 3,
     "metadata": {},
     "output_type": "execute_result"
    }
   ],
   "source": [
    "from sklearn.datasets import load_boston\n",
    "\n",
    "boston_data = load_boston()\n",
    "boston_ds = pd.DataFrame(boston_data['data'], columns=boston_data['feature_names'])\n",
    "boston_ds['target'] = boston_data['target']\n",
    "print(boston_ds.shape)\n",
    "boston_ds.head()"
   ]
  },
  {
   "cell_type": "code",
   "execution_count": 4,
   "metadata": {},
   "outputs": [],
   "source": [
    "train_feats = list(boston_ds.drop('target',1).columns)\n",
    "y_feat = 'target'"
   ]
  },
  {
   "cell_type": "code",
   "execution_count": 5,
   "metadata": {},
   "outputs": [
    {
     "name": "stderr",
     "output_type": "stream",
     "text": [
      "/root/anaconda3/lib/python3.7/site-packages/seaborn/distributions.py:2551: FutureWarning:\n",
      "\n",
      "`distplot` is a deprecated function and will be removed in a future version. Please adapt your code to use either `displot` (a figure-level function with similar flexibility) or `histplot` (an axes-level function for histograms).\n",
      "\n"
     ]
    },
    {
     "data": {
      "image/png": "[encoded data removed]",
      "text/plain": [
       "<Figure size 432x288 with 1 Axes>"
      ]
     },
     "metadata": {
      "needs_background": "light"
     },
     "output_type": "display_data"
    }
   ],
   "source": [
    "sns.distplot(boston_ds[y_feat])\n",
    "plt.title('Target Distribution')\n",
    "plt.show()"
   ]
  },
  {
   "cell_type": "code",
   "execution_count": 6,
   "metadata": {},
   "outputs": [
    {
     "data": {
      "text/plain": [
       "[(455, 13), (51, 13), (455,), (51,)]"
      ]
     },
     "execution_count": 6,
     "metadata": {},
     "output_type": "execute_result"
    }
   ],
   "source": [
    "from sklearn.model_selection import train_test_split\n",
    "\n",
    "X_train, X_test, y_train,  y_test = train_test_split(boston_ds[train_feats], boston_ds[y_feat], test_size=0.1, random_state=42)\n",
    "[x.shape for x in [X_train, X_test, y_train,  y_test]]"
   ]
  },
  {
   "cell_type": "markdown",
   "metadata": {},
   "source": [
    "# Check competitors quality"
   ]
  },
  {
   "cell_type": "code",
   "execution_count": 7,
   "metadata": {},
   "outputs": [],
   "source": [
    "from sklearn.metrics import mean_absolute_error, mean_squared_error, r2_score"
   ]
  },
  {
   "cell_type": "code",
   "execution_count": 8,
   "metadata": {},
   "outputs": [],
   "source": [
    "def calc_metrics(model_name, y_train, y_test, preds_train, preds_test, ds_full=None):\n",
    "    q_dict = {}\n",
    "    for metric in [mean_absolute_error, mean_squared_error, r2_score]:\n",
    "        q_dict[(metric.__name__,\"train\")] = metric(y_train, preds_train)\n",
    "        q_dict[(metric.__name__,\"test\")] = metric(y_test, preds_test)\n",
    "    q_dict_ = {model_name:q_dict}\n",
    "    q_dict = q_dict_\n",
    "    del q_dict_\n",
    "    q_dict = pd.DataFrame(q_dict).reset_index().rename(columns={'level_0':'metric','level_1':'ds'})\n",
    "    \n",
    "    if ds_full is not None:\n",
    "        if model_name in ds_full.columns:\n",
    "            ds_full = ds_full.drop(model_name, 1)\n",
    "        ds_full = ds_full.merge(q_dict, on=['metric','ds'])\n",
    "    else:\n",
    "        ds_full = q_dict\n",
    "    return ds_full"
   ]
  },
  {
   "cell_type": "code",
   "execution_count": 9,
   "metadata": {},
   "outputs": [],
   "source": [
    "def plot_metrics(ds, figsize=(15,5)):\n",
    "    plt.figure(figsize=figsize)\n",
    "    for m_idx, metric in enumerate(ds['metric'].unique()):\n",
    "        cds = ds[ds['metric']==metric]\n",
    "\n",
    "        plt.subplot(1,3,m_idx+1)\n",
    "        for ds_idx, ds_type in enumerate(['train','test']):\n",
    "            vals = cds[cds['ds']==ds_type].drop(['metric','ds'],1).values[0]\n",
    "            plt.barh(np.arange(len(vals))+0.3*ds_idx, vals, height=0.3, label=ds_type)\n",
    "            for v_idx, v in enumerate(vals):\n",
    "                plt.text(v, v_idx-0.05+0.3*ds_idx, f\"{v:.2f}\")\n",
    "        plt.legend(loc='lower left')\n",
    "        plt.yticks(np.arange(cds.shape[1]-2), cds.drop(['metric','ds'],1).columns, rotation=0)\n",
    "        plt.title(metric)\n",
    "    plt.tight_layout()\n",
    "    plt.show()    "
   ]
  },
  {
   "cell_type": "code",
   "execution_count": 10,
   "metadata": {},
   "outputs": [
    {
     "data": {
      "application/vnd.jupyter.widget-view+json": {
       "model_id": "02137cb87c6e4eb49d65ba6baf5771bc",
       "version_major": 2,
       "version_minor": 0
      },
      "text/plain": [
       "HBox(children=(FloatProgress(value=0.0, max=5.0), HTML(value='')))"
      ]
     },
     "metadata": {},
     "output_type": "display_data"
    },
    {
     "name": "stdout",
     "output_type": "stream",
     "text": [
      "\n"
     ]
    }
   ],
   "source": [
    "from sklearn.linear_model import LinearRegression\n",
    "from sklearn.tree import DecisionTreeRegressor\n",
    "from sklearn.ensemble import RandomForestRegressor\n",
    "from xgboost import XGBRegressor\n",
    "from catboost import CatBoostRegressor, Pool\n",
    "\n",
    "\n",
    "models = [LinearRegression(), DecisionTreeRegressor(), RandomForestRegressor(),\n",
    "          XGBRegressor(), CatBoostRegressor()]\n",
    "comp_qualities = None\n",
    "for m in tqdm(models):\n",
    "    #np.random.seed(42)\n",
    "    if type(m)==CatBoostRegressor:\n",
    "        p_train, p_test = Pool(X_train, y_train), Pool(X_test, y_test)\n",
    "        m.fit(p_train, verbose=False)\n",
    "        preds_train, preds_test = [m.predict(p) for p in [p_train, p_test]]\n",
    "    else:\n",
    "        m.fit(X_train, y_train)\n",
    "        preds_train, preds_test = [m.predict(p) for p in [X_train, X_test]]\n",
    "    \n",
    "    comp_qualities = calc_metrics(m.__class__.__name__, y_train, y_test, preds_train, preds_test, comp_qualities)"
   ]
  },
  {
   "cell_type": "code",
   "execution_count": 11,
   "metadata": {},
   "outputs": [
    {
     "data": {
      "image/png": "[encoded data removed]",
      "text/plain": [
       "<Figure size 1080x244.8 with 3 Axes>"
      ]
     },
     "metadata": {
      "needs_background": "light"
     },
     "output_type": "display_data"
    }
   ],
   "source": [
    "plot_metrics(comp_qualities, figsize=(15,3.4))"
   ]
  },
  {
   "cell_type": "markdown",
   "metadata": {},
   "source": [
    "# Fit FCA"
   ]
  },
  {
   "cell_type": "code",
   "execution_count": 12,
   "metadata": {},
   "outputs": [],
   "source": [
    "fcai = reload(fcai)"
   ]
  },
  {
   "cell_type": "code",
   "execution_count": 13,
   "metadata": {},
   "outputs": [],
   "source": [
    "mvcntx_train = fcai.MultiValuedContext(X_train, y_true=y_train, cat_attrs=[])\n",
    "mvcntx_test = fcai.MultiValuedContext(X_test, y_true=y_test, cat_attrs=[])\n",
    "fm_mv = fcai.FormalManager(mvcntx_train, task_type='Regression')"
   ]
  },
  {
   "cell_type": "code",
   "execution_count": 14,
   "metadata": {},
   "outputs": [
    {
     "data": {
      "application/vnd.jupyter.widget-view+json": {
       "model_id": "d7aeb63a32344ff8954627b6d9add725",
       "version_major": 2,
       "version_minor": 0
      },
      "text/plain": [
       "HBox(children=(FloatProgress(value=0.0, description='Postprocessing', max=4034.0, style=ProgressStyle(descript…"
      ]
     },
     "metadata": {},
     "output_type": "display_data"
    },
    {
     "name": "stdout",
     "output_type": "stream",
     "text": [
      "\n",
      "4034\n",
      "CPU times: user 1.6 s, sys: 9.6 ms, total: 1.61 s\n",
      "Wall time: 1.6 s\n"
     ]
    }
   ],
   "source": [
    "%%time\n",
    "fm_mv.construct_concepts(\n",
    "    use_tqdm=True, algo='RandomForest',\n",
    "    rf_params={'random_state':42, 'n_estimators':10, 'max_depth':None})\n",
    "print(len(fm_mv.get_concepts()))"
   ]
  },
  {
   "cell_type": "code",
   "execution_count": 15,
   "metadata": {},
   "outputs": [
    {
     "data": {
      "application/vnd.jupyter.widget-view+json": {
       "model_id": "965da859a18544f1a0faaa30aa577044",
       "version_major": 2,
       "version_minor": 0
      },
      "text/plain": [
       "HBox(children=(FloatProgress(value=0.0, description='construct spanning tree', max=4034.0, style=ProgressStyle…"
      ]
     },
     "metadata": {},
     "output_type": "display_data"
    },
    {
     "name": "stdout",
     "output_type": "stream",
     "text": [
      "\n",
      "CPU times: user 389 ms, sys: 14.8 ms, total: 404 ms\n",
      "Wall time: 397 ms\n"
     ]
    }
   ],
   "source": [
    "%%time\n",
    "fm_mv.construct_lattice(only_spanning_tree=True, use_tqdm=True)"
   ]
  },
  {
   "cell_type": "code",
   "execution_count": 16,
   "metadata": {},
   "outputs": [
    {
     "data": {
      "application/vnd.jupyter.widget-view+json": {
       "model_id": "93e5d1b657d64a8ba4aeb2bb6a976baa",
       "version_major": 2,
       "version_minor": 0
      },
      "text/plain": [
       "HBox(children=(FloatProgress(value=0.0, max=4034.0), HTML(value='')))"
      ]
     },
     "metadata": {},
     "output_type": "display_data"
    },
    {
     "name": "stdout",
     "output_type": "stream",
     "text": [
      "\n"
     ]
    }
   ],
   "source": [
    "for c in tqdm(fm_mv.get_concepts()):\n",
    "    c._up_neighbs = {c._up_neighb_st} \\\n",
    "        if c._up_neighb_st is not None else None\n",
    "    c._low_neighbs = c._low_neighbs_st\n",
    "\n",
    "fm_mv._calc_concept_levels() # расчёт горизонтальной координаты при отображении понятия"
   ]
  },
  {
   "cell_type": "raw",
   "metadata": {},
   "source": [
    "fig_mv = fm_mv.get_plotly_fig(\n",
    "    # отображаем только кол-во изменившихся аттрибутов\n",
    "    # и кол-во новых объектов в понятии\n",
    "    new_attrs_lim=1, new_objs_lim=1, \n",
    "    # работа с цветом понятий\n",
    "    color_by='mean_y_true', cbar_title='Mean Y True',\n",
    "    cmap='RdBu',# opacity_by='class_prob_max',\n",
    "    # сортировка понятий по горизонтали\n",
    "    level_sort='all', sort_by='mean_y_true', \n",
    "    title=\"Approximate Concept Lattice for Boston dataset\",\n",
    ")"
   ]
  },
  {
   "cell_type": "code",
   "execution_count": 17,
   "metadata": {},
   "outputs": [],
   "source": [
    "from scipy.sparse import csr_matrix\n",
    "\n",
    "def predict_fca(self, cntx, metric, W, normalized=False, A=None, exp=False):\n",
    "    mvals = np.array([c._metrics[metric] for c in self.sort_concepts()])\n",
    "    if exp:\n",
    "        mvals = np.log(mvals)\n",
    "\n",
    "    if A is None:\n",
    "        n_objs, n_cncpts = len(cntx.get_objs()), len(self.get_concepts())\n",
    "        \n",
    "        obj_preds_cncpts = self.trace_context(cntx)[0]\n",
    "        \n",
    "        Acoords = np.array([(1,g, c_id)\n",
    "                       for g, c_ids in obj_preds_cncpts.items() for c_id in c_ids])\n",
    "        A = csr_matrix((Acoords[:, 0], (Acoords[:, 1].astype(int), Acoords[:, 2].astype(int))),\n",
    "                shape=(n_objs, n_cncpts))\n",
    "    #print(A.shape, mvals.shape)\n",
    "    Am = A.multiply(mvals)\n",
    "    \n",
    "    preds = Am.dot(W)#/(X>0).dot(W) \n",
    "    if normalized:\n",
    "        preds = preds/A.dot(W)\n",
    "    if exp:\n",
    "        preds = np.exp(preds)\n",
    "    preds = np.nan_to_num(preds, nan=self.get_concept_by_id(0)._metrics['mean_y_true'])\n",
    "    return preds, A"
   ]
  },
  {
   "cell_type": "code",
   "execution_count": 18,
   "metadata": {},
   "outputs": [],
   "source": [
    "def get_best_predictions(self, cntx, verb=False):\n",
    "    cncpts_active_dict = self.trace_context(cntx)[0]\n",
    "    preds = []\n",
    "    for gid in range(len(cntx.get_objs())):\n",
    "        cncpts_preds = [self.get_concept_by_id(c_id)._metrics['mean_y_true'] for c_id in cncpts_active_dict[gid]]\n",
    "        if len(cncpts_preds)==0:\n",
    "            cncpts_preds = [self.get_concept_by_id(0)._metrics['mean_y_true']]\n",
    "        y_ = cntx._y_true[gid]\n",
    "        p = min(cncpts_preds) if y_<min(cncpts_preds) else max(cncpts_preds) if y_>max(cncpts_preds) else y_\n",
    "        if verb:\n",
    "            print(y_, p, cncpts_preds)\n",
    "        preds.append(p)\n",
    "    return preds"
   ]
  },
  {
   "cell_type": "code",
   "execution_count": 19,
   "metadata": {},
   "outputs": [],
   "source": [
    "best_preds_train = get_best_predictions(fm_mv, mvcntx_train)\n",
    "best_preds_test = get_best_predictions(fm_mv, mvcntx_test)"
   ]
  },
  {
   "cell_type": "code",
   "execution_count": 20,
   "metadata": {},
   "outputs": [
    {
     "data": {
      "image/png": "[encoded data removed]",
      "text/plain": [
       "<Figure size 1080x360 with 3 Axes>"
      ]
     },
     "metadata": {
      "needs_background": "light"
     },
     "output_type": "display_data"
    }
   ],
   "source": [
    "plot_metrics(calc_metrics('FCA best', y_train, y_test, best_preds_train, best_preds_test))"
   ]
  },
  {
   "cell_type": "raw",
   "metadata": {},
   "source": [
    "comp_qualities = calc_metrics('FCA best', y_train, y_test, best_preds_train, best_preds_test, comp_qualities)"
   ]
  },
  {
   "cell_type": "code",
   "execution_count": 21,
   "metadata": {},
   "outputs": [
    {
     "name": "stdout",
     "output_type": "stream",
     "text": [
      "CPU times: user 1.37 s, sys: 3.78 ms, total: 1.37 s\n",
      "Wall time: 1.37 s\n"
     ]
    },
    {
     "name": "stderr",
     "output_type": "stream",
     "text": [
      "/root/anaconda3/lib/python3.7/site-packages/ipykernel_launcher.py:22: RuntimeWarning:\n",
      "\n",
      "invalid value encountered in true_divide\n",
      "\n"
     ]
    }
   ],
   "source": [
    "%%time\n",
    "W0 = np.ones(len(fm_mv.get_concepts()))/len(fm_mv.get_concepts())\n",
    "preds_train, A_train = predict_fca(fm_mv, mvcntx_train, 'mean_y_true', W0, normalized=True)\n",
    "preds_test, A_test = predict_fca(fm_mv, mvcntx_test, 'mean_y_true', W0, normalized=True)"
   ]
  },
  {
   "cell_type": "code",
   "execution_count": 22,
   "metadata": {},
   "outputs": [],
   "source": [
    "comp_qualities = calc_metrics('FCA equal weights', y_train, y_test, preds_train, preds_test, comp_qualities)"
   ]
  },
  {
   "cell_type": "code",
   "execution_count": 23,
   "metadata": {},
   "outputs": [
    {
     "data": {
      "image/png": "[encoded data removed]",
      "text/plain": [
       "<Figure size 1080x360 with 3 Axes>"
      ]
     },
     "metadata": {
      "needs_background": "light"
     },
     "output_type": "display_data"
    }
   ],
   "source": [
    "plot_metrics(comp_qualities)"
   ]
  },
  {
   "cell_type": "code",
   "execution_count": null,
   "metadata": {},
   "outputs": [],
   "source": []
  },
  {
   "cell_type": "code",
   "execution_count": 24,
   "metadata": {},
   "outputs": [],
   "source": [
    "for c in fm_mv.get_concepts():\n",
    "    if c.get_id()==0:\n",
    "        mi = 0\n",
    "    else:\n",
    "        upn = fm_mv.get_concept_by_id(c._up_neighb_st)\n",
    "        mi = mvcntx_train._y_true[upn.get_extent()].std(ddof=0)-mvcntx_train._y_true[c.get_extent()].std(ddof=0)\n",
    "    c._metrics['mi'] = mi\n",
    "    c._metrics['entropy'] = mvcntx_train._y_true[c.get_extent()].std(ddof=0)"
   ]
  },
  {
   "cell_type": "code",
   "execution_count": 25,
   "metadata": {},
   "outputs": [],
   "source": [
    "for c in fm_mv.get_concepts():\n",
    "    c._metrics['weight'] = W0[c.get_id()]"
   ]
  },
  {
   "cell_type": "raw",
   "metadata": {},
   "source": [
    "fig_mv = fm_mv.get_plotly_fig(\n",
    "    # отображаем только кол-во изменившихся аттрибутов\n",
    "    # и кол-во новых объектов в понятии\n",
    "    new_attrs_lim=1, new_objs_lim=1, \n",
    "    # работа с цветом понятий\n",
    "    color_by='weight', cbar_title='Weight',\n",
    "    cmap='RdBu',# opacity_by='class_prob_max',\n",
    "    # сортировка понятий по горизонтали\n",
    "    level_sort='all', sort_by='mean_y_true', \n",
    "    title=\"Initial Weights of Concept Lattice\",\n",
    ")"
   ]
  },
  {
   "cell_type": "raw",
   "metadata": {},
   "source": [
    "fig_mv"
   ]
  },
  {
   "cell_type": "raw",
   "metadata": {},
   "source": [
    "fig_mv = fm_mv.get_plotly_fig(\n",
    "    # отображаем только кол-во изменившихся аттрибутов\n",
    "    # и кол-во новых объектов в понятии\n",
    "    new_attrs_lim=1, new_objs_lim=1, \n",
    "    # работа с цветом понятий\n",
    "    color_by='mi', cbar_title='Mutual Information',\n",
    "    cmap='RdBu',# opacity_by='class_prob_max',\n",
    "    # сортировка понятий по горизонтали\n",
    "    level_sort='all', sort_by='mean_y_true', \n",
    "    title=\"Mutual Information for the Concept Lattice\",\n",
    ")"
   ]
  },
  {
   "cell_type": "raw",
   "metadata": {},
   "source": [
    "fig_mv"
   ]
  },
  {
   "cell_type": "code",
   "execution_count": 26,
   "metadata": {},
   "outputs": [],
   "source": [
    "self = fm_mv\n",
    "cntx = mvcntx_train"
   ]
  },
  {
   "cell_type": "code",
   "execution_count": 27,
   "metadata": {},
   "outputs": [],
   "source": [
    "obj_cncpts_dict = self.trace_context(cntx)[0]"
   ]
  },
  {
   "cell_type": "code",
   "execution_count": 28,
   "metadata": {},
   "outputs": [],
   "source": [
    "mvals = np.array([self.get_concept_by_id(c_id)._metrics['mean_y_true'] for c_id in range(len(self.get_concepts()))])"
   ]
  },
  {
   "cell_type": "code",
   "execution_count": 29,
   "metadata": {},
   "outputs": [],
   "source": [
    "W = W0.copy()"
   ]
  },
  {
   "cell_type": "code",
   "execution_count": 30,
   "metadata": {},
   "outputs": [],
   "source": [
    "chains = self._get_chains()"
   ]
  },
  {
   "cell_type": "raw",
   "metadata": {},
   "source": [
    "%%time\n",
    "exts = [set(c.get_extent()) for c in fm_mv.sort_concepts()]\n",
    "Intrs = dok_matrix((len(exts),len(exts)))\n",
    "\n",
    "for cid in tqdm(range(len(fm_mv.get_concepts()))):\n",
    "    for ch in chains:\n",
    "        is_zero = False\n",
    "        for cid_ in ch:\n",
    "            if is_zero:\n",
    "                #Intrs[cid][cid_] = 0\n",
    "                #continue\n",
    "                break\n",
    "                \n",
    "            if Intrs[cid,cid_]>0:\n",
    "                Intrs[cid,cid_] = len(exts[cid]&exts[cid_])/len(exts[cid_])\n",
    "            \n",
    "            if Intrs[cid,cid_] == 0:\n",
    "                is_zero = True"
   ]
  },
  {
   "cell_type": "code",
   "execution_count": 31,
   "metadata": {},
   "outputs": [
    {
     "data": {
      "application/vnd.jupyter.widget-view+json": {
       "model_id": "a55cb19ede32466a898b11e9376ee7de",
       "version_major": 2,
       "version_minor": 0
      },
      "text/plain": [
       "HBox(children=(FloatProgress(value=0.0, max=4034.0), HTML(value='')))"
      ]
     },
     "metadata": {},
     "output_type": "display_data"
    },
    {
     "name": "stdout",
     "output_type": "stream",
     "text": [
      "\n",
      "CPU times: user 10.7 s, sys: 148 ms, total: 10.8 s\n",
      "Wall time: 10.7 s\n"
     ]
    }
   ],
   "source": [
    "%%time\n",
    "exts = [set(c.get_extent()) for c in fm_mv.sort_concepts()]\n",
    "\n",
    "Intrs = {c.get_id():{} for c in fm_mv.get_concepts()}\n",
    "for cid in tqdm(range(len(fm_mv.get_concepts()))):\n",
    "    for ch in chains:\n",
    "        is_zero = False\n",
    "        for cid_ in ch:\n",
    "            if is_zero:\n",
    "                #Intrs[cid][cid_] = 0\n",
    "                #continue\n",
    "                break\n",
    "                \n",
    "            if cid_ not in Intrs[cid]:\n",
    "                Intrs[cid][cid_] = len(exts[cid]&exts[cid_])/len(exts[cid_])\n",
    "            \n",
    "            if Intrs[cid][cid_] == 0:\n",
    "                is_zero = True"
   ]
  },
  {
   "cell_type": "code",
   "execution_count": 32,
   "metadata": {},
   "outputs": [
    {
     "data": {
      "text/plain": [
       "1.0"
      ]
     },
     "execution_count": 32,
     "metadata": {},
     "output_type": "execute_result"
    }
   ],
   "source": [
    "max([v_ for v in Intrs.values() for v_ in v.values()])"
   ]
  },
  {
   "cell_type": "code",
   "execution_count": 33,
   "metadata": {},
   "outputs": [
    {
     "name": "stdout",
     "output_type": "stream",
     "text": [
      "CPU times: user 1.84 s, sys: 120 ms, total: 1.96 s\n",
      "Wall time: 1.96 s\n"
     ]
    }
   ],
   "source": [
    "%%time\n",
    "Intrs1 = np.array([(v,cid, cid_)\n",
    "               for cid, cids_ in Intrs.items() for cid_, v in cids_.items()])\n",
    "Intrs2 = csr_matrix((Intrs1[:, 0], (Intrs1[:, 1].astype(int), Intrs1[:, 2].astype(int))),\n",
    "        shape=(len(exts),len(exts)))"
   ]
  },
  {
   "cell_type": "code",
   "execution_count": 34,
   "metadata": {},
   "outputs": [],
   "source": [
    "Intrs = Intrs2"
   ]
  },
  {
   "cell_type": "code",
   "execution_count": null,
   "metadata": {},
   "outputs": [],
   "source": []
  },
  {
   "cell_type": "code",
   "execution_count": 35,
   "metadata": {},
   "outputs": [
    {
     "data": {
      "application/vnd.jupyter.widget-view+json": {
       "model_id": "b32629c48a534f7ebd0c4416da52b0dc",
       "version_major": 2,
       "version_minor": 0
      },
      "text/plain": [
       "HBox(children=(FloatProgress(value=0.0, max=4034.0), HTML(value='')))"
      ]
     },
     "metadata": {},
     "output_type": "display_data"
    },
    {
     "name": "stdout",
     "output_type": "stream",
     "text": [
      "\n",
      "CPU times: user 6.78 s, sys: 238 ms, total: 7.02 s\n",
      "Wall time: 6.94 s\n"
     ]
    }
   ],
   "source": [
    "%%time\n",
    "exts = [set(c.get_extent()) for c in fm_mv.sort_concepts()]\n",
    "Intrs_true = []\n",
    "for cid in tqdm(range(len(W))):\n",
    "    Intrs_true.append([len(exts[cid]&exts[cid_])/len(exts[cid_]) for cid_ in range(len(W))])\n",
    "Intrs_true = np.array(Intrs_true)"
   ]
  },
  {
   "cell_type": "code",
   "execution_count": null,
   "metadata": {},
   "outputs": [],
   "source": []
  },
  {
   "cell_type": "code",
   "execution_count": 36,
   "metadata": {},
   "outputs": [],
   "source": [
    "import warnings\n",
    "warnings.filterwarnings('ignore')"
   ]
  },
  {
   "cell_type": "code",
   "execution_count": 37,
   "metadata": {},
   "outputs": [
    {
     "data": {
      "application/vnd.jupyter.widget-view+json": {
       "model_id": "067a0ff9e037474dae13ea59c8971e18",
       "version_major": 2,
       "version_minor": 0
      },
      "text/plain": [
       "HBox(children=(FloatProgress(value=0.0, max=1000.0), HTML(value='')))"
      ]
     },
     "metadata": {},
     "output_type": "display_data"
    },
    {
     "name": "stdout",
     "output_type": "stream",
     "text": [
      "iter 0: train 7.2290, test 23.8236\n",
      "iter 50: train 2.8772, test 21.6542\n",
      "iter 100: train 1.3664, test 21.2371\n",
      "iter 150: train 1.0527, test 21.1238\n",
      "iter 200: train 0.5312, test 20.7890\n",
      "iter 250: train 0.4561, test 20.7424\n",
      "iter 300: train 0.4200, test 20.7354\n",
      "iter 350: train 0.3818, test 20.7411\n",
      "iter 400: train 0.3579, test 20.7314\n",
      "iter 450: train 0.3244, test 20.7056\n",
      "iter 500: train 0.2497, test 20.6570\n",
      "iter 550: train 0.2396, test 20.6471\n",
      "iter 600: train 0.2286, test 20.6509\n",
      "iter 650: train 0.2194, test 20.6455\n",
      "iter 700: train 0.2084, test 20.6703\n",
      "iter 750: train 0.2018, test 20.6752\n",
      "iter 800: train 0.1975, test 20.6652\n",
      "iter 850: train 0.1901, test 20.6637\n",
      "iter 900: train 0.1834, test 20.6530\n",
      "iter 950: train 0.1791, test 20.6543\n",
      "\n"
     ]
    }
   ],
   "source": [
    "W_new = W.copy()\n",
    "lr = 0.05\n",
    "mses_train, mses_test = [], []\n",
    "for i in tqdm(range(1000)):\n",
    "    gid = np.random.randint(0, len(cntx._y_true))\n",
    "    \n",
    "    y_ = cntx._y_true[gid]\n",
    "    cncpts_preds = mvals[obj_cncpts_dict[gid]]\n",
    "    W_ = W_new[obj_cncpts_dict[gid]]\n",
    "    pw = (cncpts_preds*W_).sum()/W_.sum()\n",
    "    \n",
    "    grads = -2*(y_-pw)*(cncpts_preds-pw)/W_.sum()\n",
    "    grads_exp = np.exp(-W_*grads*lr)\n",
    "    \n",
    "    entrs = [c._metrics['entropy'] for c in fm_mv.sort_concepts()]\n",
    "    for cidx, cid in enumerate(obj_cncpts_dict[gid]):\n",
    "        #W_new *= grads_exp[cidx]*np.exp(entrs[cid]-entrs)\n",
    "        #intrs = np.array([len(exts[cid]&exts[cid_])/len(exts[cid_]) for cid_ in range(len(exts))])\n",
    "        intrs = Intrs[cid].toarray()[0]\n",
    "        ks = np.exp( W_[cidx]*grads[cidx]*lr * intrs * (entrs[cid]-entrs) )\n",
    "        W_new *= ks\n",
    "        W_new /= W_new.sum()\n",
    "    \n",
    "    if W_new.min()==0 or np.isnan(W_new).sum()>0:\n",
    "        print(gid)\n",
    "        break\n",
    "    \n",
    "    preds1 = predict_fca(fm_mv, mvcntx_train, 'mean_y_true', W_new, normalized=True, exp=False, A=A_train)[0]\n",
    "    mse_train = mean_squared_error(y_train, preds1)\n",
    "    mses_train.append(mse_train)\n",
    "    \n",
    "    preds1 = predict_fca(fm_mv, mvcntx_test, 'mean_y_true', W_new, normalized=True, exp=False, A=A_test)[0]\n",
    "    mse_test = mean_squared_error(y_test, preds1)\n",
    "    mses_test.append(mse_test)\n",
    "    \n",
    "    if i%50==0:\n",
    "        print(f'iter {i}: train {mse_train:.4f}, test {mse_test:.4f}')\n",
    "    if len(mses_train)>50 and mses_train[-1]>max(mses_train[-50-1:-1]):\n",
    "        print(f'final iter {i}: train {mse_train:.4f}, test {mse_test:.4f}')\n",
    "        break"
   ]
  },
  {
   "cell_type": "code",
   "execution_count": 38,
   "metadata": {},
   "outputs": [
    {
     "data": {
      "text/plain": [
       "(7.5779981687581754, 0.17632251765960907)"
      ]
     },
     "execution_count": 38,
     "metadata": {},
     "output_type": "execute_result"
    }
   ],
   "source": [
    "preds0_train = predict_fca(fm_mv, mvcntx_train, 'mean_y_true', W0, normalized=True, A=A_train, exp=False)[0]\n",
    "preds1_train = predict_fca(fm_mv, mvcntx_train, 'mean_y_true', W_new, normalized=True, exp=False, A=A_train)[0]\n",
    "\n",
    "mean_squared_error(y_train, preds0_train), mean_squared_error(y_train, preds1_train)"
   ]
  },
  {
   "cell_type": "code",
   "execution_count": 39,
   "metadata": {},
   "outputs": [
    {
     "data": {
      "text/plain": [
       "(23.58624369201407, 20.663869836023732)"
      ]
     },
     "execution_count": 39,
     "metadata": {},
     "output_type": "execute_result"
    }
   ],
   "source": [
    "preds0_test = predict_fca(fm_mv, mvcntx_test, 'mean_y_true', W0, normalized=True, A=A_test, exp=False)[0]\n",
    "preds1_test = predict_fca(fm_mv, mvcntx_test, 'mean_y_true', W_new, normalized=True, exp=False, A=A_test)[0]\n",
    "\n",
    "mean_squared_error(y_test, preds0_test), mean_squared_error(y_test, preds1_test)"
   ]
  },
  {
   "cell_type": "code",
   "execution_count": 40,
   "metadata": {},
   "outputs": [],
   "source": [
    "plt.rcParams['axes.facecolor'] = 'white'"
   ]
  },
  {
   "cell_type": "code",
   "execution_count": 41,
   "metadata": {},
   "outputs": [],
   "source": [
    "plt.rcParams['figure.facecolor'] = 'xkcd:white'"
   ]
  },
  {
   "cell_type": "code",
   "execution_count": 42,
   "metadata": {},
   "outputs": [
    {
     "data": {
      "image/png": "[encoded data removed]",
      "text/plain": [
       "<Figure size 432x288 with 1 Axes>"
      ]
     },
     "metadata": {},
     "output_type": "display_data"
    }
   ],
   "source": [
    "plt.plot(mses_train, label='train data')\n",
    "plt.plot(mses_test, label='test data')\n",
    "plt.title('MSE of FCA-based model with weights')\n",
    "plt.xlabel('Weights adjusting iteration')\n",
    "plt.legend()\n",
    "plt.show()"
   ]
  },
  {
   "cell_type": "code",
   "execution_count": 43,
   "metadata": {},
   "outputs": [],
   "source": [
    "comp_qualities = calc_metrics('FCA adjusted weights', y_train, y_test, preds1_train, preds1_test, comp_qualities)"
   ]
  },
  {
   "cell_type": "code",
   "execution_count": 44,
   "metadata": {},
   "outputs": [
    {
     "data": {
      "image/png": "[encoded data removed]",
      "text/plain": [
       "<Figure size 1080x360 with 3 Axes>"
      ]
     },
     "metadata": {},
     "output_type": "display_data"
    }
   ],
   "source": [
    "plot_metrics(comp_qualities)"
   ]
  }
 ],
 "metadata": {
  "kernelspec": {
   "display_name": "Python 3",
   "language": "python",
   "name": "python3"
  },
  "language_info": {
   "codemirror_mode": {
    "name": "ipython",
    "version": 3
   },
   "file_extension": ".py",
   "mimetype": "text/x-python",
   "name": "python",
   "nbconvert_exporter": "python",
   "pygments_lexer": "ipython3",
   "version": "3.7.9"
  }
 },
 "nbformat": 4,
 "nbformat_minor": 4
}
