{
 "cells": [
  {
   "cell_type": "code",
   "execution_count": 1,
   "metadata": {},
   "outputs": [],
   "source": [
    "import numpy as np\n",
    "import pandas as pd\n",
    "\n",
    "import matplotlib.pyplot as plt\n",
    "import seaborn as sns\n",
    "from tqdm.notebook import tqdm\n",
    "\n",
    "from importlib import reload"
   ]
  },
  {
   "cell_type": "markdown",
   "metadata": {},
   "source": [
    "Загрузка библиотеки с FCA"
   ]
  },
  {
   "cell_type": "code",
   "execution_count": 2,
   "metadata": {},
   "outputs": [],
   "source": [
    "import os\n",
    "import sys\n",
    "BASE_PATH = os.path.realpath('..')\n",
    "LIB_DIR = os.path.join(BASE_PATH,'lib')\n",
    "if LIB_DIR[:-3] not in sys.path:\n",
    "    sys.path.append(LIB_DIR[:-3])\n",
    "\n",
    "from lib import fca_interp as fcai"
   ]
  },
  {
   "cell_type": "markdown",
   "metadata": {},
   "source": [
    "# Load Data"
   ]
  },
  {
   "cell_type": "code",
   "execution_count": 3,
   "metadata": {},
   "outputs": [
    {
     "name": "stdout",
     "output_type": "stream",
     "text": [
      "(506, 14)\n"
     ]
    },
    {
     "data": {
      "text/html": [
       "<div>\n",
       "<style scoped>\n",
       "    .dataframe tbody tr th:only-of-type {\n",
       "        vertical-align: middle;\n",
       "    }\n",
       "\n",
       "    .dataframe tbody tr th {\n",
       "        vertical-align: top;\n",
       "    }\n",
       "\n",
       "    .dataframe thead th {\n",
       "        text-align: right;\n",
       "    }\n",
       "</style>\n",
       "<table border=\"1\" class=\"dataframe\">\n",
       "  <thead>\n",
       "    <tr style=\"text-align: right;\">\n",
       "      <th></th>\n",
       "      <th>CRIM</th>\n",
       "      <th>ZN</th>\n",
       "      <th>INDUS</th>\n",
       "      <th>CHAS</th>\n",
       "      <th>NOX</th>\n",
       "      <th>RM</th>\n",
       "      <th>AGE</th>\n",
       "      <th>DIS</th>\n",
       "      <th>RAD</th>\n",
       "      <th>TAX</th>\n",
       "      <th>PTRATIO</th>\n",
       "      <th>B</th>\n",
       "      <th>LSTAT</th>\n",
       "      <th>target</th>\n",
       "    </tr>\n",
       "  </thead>\n",
       "  <tbody>\n",
       "    <tr>\n",
       "      <th>0</th>\n",
       "      <td>0.00632</td>\n",
       "      <td>18.0</td>\n",
       "      <td>2.31</td>\n",
       "      <td>0.0</td>\n",
       "      <td>0.538</td>\n",
       "      <td>6.575</td>\n",
       "      <td>65.2</td>\n",
       "      <td>4.0900</td>\n",
       "      <td>1.0</td>\n",
       "      <td>296.0</td>\n",
       "      <td>15.3</td>\n",
       "      <td>396.90</td>\n",
       "      <td>4.98</td>\n",
       "      <td>24.0</td>\n",
       "    </tr>\n",
       "    <tr>\n",
       "      <th>1</th>\n",
       "      <td>0.02731</td>\n",
       "      <td>0.0</td>\n",
       "      <td>7.07</td>\n",
       "      <td>0.0</td>\n",
       "      <td>0.469</td>\n",
       "      <td>6.421</td>\n",
       "      <td>78.9</td>\n",
       "      <td>4.9671</td>\n",
       "      <td>2.0</td>\n",
       "      <td>242.0</td>\n",
       "      <td>17.8</td>\n",
       "      <td>396.90</td>\n",
       "      <td>9.14</td>\n",
       "      <td>21.6</td>\n",
       "    </tr>\n",
       "    <tr>\n",
       "      <th>2</th>\n",
       "      <td>0.02729</td>\n",
       "      <td>0.0</td>\n",
       "      <td>7.07</td>\n",
       "      <td>0.0</td>\n",
       "      <td>0.469</td>\n",
       "      <td>7.185</td>\n",
       "      <td>61.1</td>\n",
       "      <td>4.9671</td>\n",
       "      <td>2.0</td>\n",
       "      <td>242.0</td>\n",
       "      <td>17.8</td>\n",
       "      <td>392.83</td>\n",
       "      <td>4.03</td>\n",
       "      <td>34.7</td>\n",
       "    </tr>\n",
       "    <tr>\n",
       "      <th>3</th>\n",
       "      <td>0.03237</td>\n",
       "      <td>0.0</td>\n",
       "      <td>2.18</td>\n",
       "      <td>0.0</td>\n",
       "      <td>0.458</td>\n",
       "      <td>6.998</td>\n",
       "      <td>45.8</td>\n",
       "      <td>6.0622</td>\n",
       "      <td>3.0</td>\n",
       "      <td>222.0</td>\n",
       "      <td>18.7</td>\n",
       "      <td>394.63</td>\n",
       "      <td>2.94</td>\n",
       "      <td>33.4</td>\n",
       "    </tr>\n",
       "    <tr>\n",
       "      <th>4</th>\n",
       "      <td>0.06905</td>\n",
       "      <td>0.0</td>\n",
       "      <td>2.18</td>\n",
       "      <td>0.0</td>\n",
       "      <td>0.458</td>\n",
       "      <td>7.147</td>\n",
       "      <td>54.2</td>\n",
       "      <td>6.0622</td>\n",
       "      <td>3.0</td>\n",
       "      <td>222.0</td>\n",
       "      <td>18.7</td>\n",
       "      <td>396.90</td>\n",
       "      <td>5.33</td>\n",
       "      <td>36.2</td>\n",
       "    </tr>\n",
       "  </tbody>\n",
       "</table>\n",
       "</div>"
      ],
      "text/plain": [
       "      CRIM    ZN  INDUS  CHAS    NOX     RM   AGE     DIS  RAD    TAX  \\\n",
       "0  0.00632  18.0   2.31   0.0  0.538  6.575  65.2  4.0900  1.0  296.0   \n",
       "1  0.02731   0.0   7.07   0.0  0.469  6.421  78.9  4.9671  2.0  242.0   \n",
       "2  0.02729   0.0   7.07   0.0  0.469  7.185  61.1  4.9671  2.0  242.0   \n",
       "3  0.03237   0.0   2.18   0.0  0.458  6.998  45.8  6.0622  3.0  222.0   \n",
       "4  0.06905   0.0   2.18   0.0  0.458  7.147  54.2  6.0622  3.0  222.0   \n",
       "\n",
       "   PTRATIO       B  LSTAT  target  \n",
       "0     15.3  396.90   4.98    24.0  \n",
       "1     17.8  396.90   9.14    21.6  \n",
       "2     17.8  392.83   4.03    34.7  \n",
       "3     18.7  394.63   2.94    33.4  \n",
       "4     18.7  396.90   5.33    36.2  "
      ]
     },
     "execution_count": 3,
     "metadata": {},
     "output_type": "execute_result"
    }
   ],
   "source": [
    "from sklearn.datasets import load_boston\n",
    "\n",
    "boston_data = load_boston()\n",
    "boston_ds = pd.DataFrame(boston_data['data'], columns=boston_data['feature_names'])\n",
    "boston_ds['target'] = boston_data['target']\n",
    "print(boston_ds.shape)\n",
    "boston_ds.head()"
   ]
  },
  {
   "cell_type": "code",
   "execution_count": 4,
   "metadata": {},
   "outputs": [],
   "source": [
    "train_feats = list(boston_ds.drop('target',1).columns)\n",
    "y_feat = 'target'"
   ]
  },
  {
   "cell_type": "code",
   "execution_count": 5,
   "metadata": {},
   "outputs": [
    {
     "data": {
      "image/png": "[encoded data removed]",
      "text/plain": [
       "<Figure size 432x288 with 1 Axes>"
      ]
     },
     "metadata": {
      "needs_background": "light"
     },
     "output_type": "display_data"
    }
   ],
   "source": [
    "sns.distplot(boston_ds[y_feat])\n",
    "plt.title('Target Distribution')\n",
    "plt.show()"
   ]
  },
  {
   "cell_type": "code",
   "execution_count": 6,
   "metadata": {},
   "outputs": [
    {
     "data": {
      "text/plain": [
       "[(455, 13), (51, 13), (455,), (51,)]"
      ]
     },
     "execution_count": 6,
     "metadata": {},
     "output_type": "execute_result"
    }
   ],
   "source": [
    "from sklearn.model_selection import train_test_split\n",
    "\n",
    "X_train, X_test, y_train,  y_test = train_test_split(boston_ds[train_feats], boston_ds[y_feat], test_size=0.1)\n",
    "[x.shape for x in [X_train, X_test, y_train,  y_test]]"
   ]
  },
  {
   "cell_type": "code",
   "execution_count": 7,
   "metadata": {},
   "outputs": [],
   "source": [
    "from sklearn.metrics import mean_absolute_error, mean_squared_error, r2_score"
   ]
  },
  {
   "cell_type": "markdown",
   "metadata": {},
   "source": [
    "## Lattice construction on big data for supervised learning\n",
    "\n",
    "На больших контекстах нет смысла рассчитывать все понятия. Будем аппроксимировать решётку через объединение нескольких деревьев решений (про это будет моя магистерская). Возможно такую решётку нельзя будет рассматривать, как средство для KDD (тут лучше пользоваться алгоритмом sofia, который у меня пока не имплементирова), зато её можно использовать для классификации объектов."
   ]
  },
  {
   "cell_type": "markdown",
   "metadata": {},
   "source": [
    "### Конструирование аппроксимированной решётки"
   ]
  },
  {
   "cell_type": "markdown",
   "metadata": {},
   "source": [
    "Делим контекст на обучающую и тестовую выборки."
   ]
  },
  {
   "cell_type": "code",
   "execution_count": 16,
   "metadata": {},
   "outputs": [],
   "source": [
    "import json\n",
    "with open('concepts30k_boston_ds.json','r') as f:\n",
    "    cncpts_json = json.load(f)"
   ]
  },
  {
   "cell_type": "code",
   "execution_count": 33,
   "metadata": {},
   "outputs": [],
   "source": [
    "train_objs = sorted([int(g) for g in cncpts_json['0']['extent']])"
   ]
  },
  {
   "cell_type": "code",
   "execution_count": 41,
   "metadata": {},
   "outputs": [],
   "source": [
    "X_train, X_test = boston_ds.loc[train_objs, train_feats], boston_ds.drop(train_objs)[train_feats]\n",
    "y_train, y_test = boston_ds.loc[train_objs, y_feat], boston_ds.drop(train_objs)[y_feat]"
   ]
  },
  {
   "cell_type": "code",
   "execution_count": 42,
   "metadata": {},
   "outputs": [],
   "source": [
    "mvcntx_train = fcai.MultiValuedContext(X_train, y_true=y_train, cat_attrs=[])\n",
    "mvcntx_test = fcai.MultiValuedContext(X_test, y_true=y_test, cat_attrs=[])"
   ]
  },
  {
   "cell_type": "code",
   "execution_count": 61,
   "metadata": {},
   "outputs": [
    {
     "data": {
      "application/vnd.jupyter.widget-view+json": {
       "model_id": "14f6ae99133e4043933290d45f3d1b4b",
       "version_major": 2,
       "version_minor": 0
      },
      "text/plain": [
       "HBox(children=(FloatProgress(value=0.0, max=29525.0), HTML(value='')))"
      ]
     },
     "metadata": {},
     "output_type": "display_data"
    },
    {
     "name": "stdout",
     "output_type": "stream",
     "text": [
      "\n"
     ]
    }
   ],
   "source": [
    "cncpts = []\n",
    "for c_id, c_json in tqdm(cncpts_json.items()):\n",
    "    c_id = int(c_id)\n",
    "    c = fcai.PatternStructure(extent=c_json['extent'],\n",
    "                              intent=mvcntx_train.get_intent(c_json['extent']),\n",
    "                              idx=c_id)\n",
    "    \n",
    "    c._low_neighbs = set(c_json['low_neighbs'])\n",
    "    c._up_neighbs = set(c_json['up_neighbs'])\n",
    "    c._up_neighb_st = c_json['up_neighbs'][0] if c_json['up_neighbs'] != [] else None\n",
    "    c._metrics = c_json['metrics']\n",
    "    cncpts.append(c)"
   ]
  },
  {
   "cell_type": "code",
   "execution_count": 62,
   "metadata": {},
   "outputs": [],
   "source": [
    "fm_mv = fcai.FormalManager(mvcntx_train, task_type='Regression')"
   ]
  },
  {
   "cell_type": "code",
   "execution_count": 107,
   "metadata": {},
   "outputs": [],
   "source": [
    "fm_mv._concepts = cncpts\n",
    "fm_mv._concepts_dict = {c.get_id():c for c in fm_mv._concepts}"
   ]
  },
  {
   "cell_type": "code",
   "execution_count": 115,
   "metadata": {},
   "outputs": [
    {
     "data": {
      "application/vnd.jupyter.widget-view+json": {
       "model_id": "",
       "version_major": 2,
       "version_minor": 0
      },
      "text/plain": [
       "HBox(children=(FloatProgress(value=0.0, max=29525.0), HTML(value='')))"
      ]
     },
     "metadata": {},
     "output_type": "display_data"
    },
    {
     "name": "stdout",
     "output_type": "stream",
     "text": [
      "\n"
     ]
    }
   ],
   "source": [
    "for c in tqdm(fm_mv.get_concepts()):\n",
    "    lns = [ln_id for ln_id in c._low_neighbs if fm_mv.get_concept_by_id(ln_id)._up_neighb_st==c.get_id()]\n",
    "    c._low_neighbs_st = set(lns)"
   ]
  },
  {
   "cell_type": "code",
   "execution_count": 123,
   "metadata": {},
   "outputs": [],
   "source": [
    "preds_test = np.array(fm_mv.predict_context(mvcntx_test)).flatten()"
   ]
  },
  {
   "cell_type": "code",
   "execution_count": 129,
   "metadata": {},
   "outputs": [
    {
     "data": {
      "text/plain": [
       "0.1361666124831317"
      ]
     },
     "execution_count": 129,
     "metadata": {},
     "output_type": "execute_result"
    }
   ],
   "source": [
    "((y_test-preds_test).abs()/y_test).mean()"
   ]
  },
  {
   "cell_type": "markdown",
   "metadata": {},
   "source": [
    "   # Первые пробы Взаимной информации"
   ]
  },
  {
   "cell_type": "markdown",
   "metadata": {},
   "source": [
    "In probability theory and information theory, the mutual information (MI) of two random variables is a measure of the mutual dependence between the two variables. "
   ]
  },
  {
   "cell_type": "markdown",
   "metadata": {},
   "source": [
    "A quantity called mutual information measures the amount of information one can obtain from one random variable given another.\n",
    "\n",
    "— Page 310, Data Mining: Practical Machine Learning Tools and Techniques, 4th edition, 2016."
   ]
  },
  {
   "cell_type": "markdown",
   "metadata": {},
   "source": [
    "The mutual information between two random variables X and Y can be stated formally as follows:\n",
    "\n",
    "$$I(X ; Y) = H(X) – H(X | Y)$$\n",
    "\n",
    "Where I(X ; Y) is the mutual information for X and Y, H(X) is the entropy for X and H(X | Y) is the conditional entropy for X given Y. The result has the units of bits."
   ]
  },
  {
   "cell_type": "code",
   "execution_count": 155,
   "metadata": {},
   "outputs": [
    {
     "data": {
      "application/vnd.jupyter.widget-view+json": {
       "model_id": "606fb833ced04ff59943cece31b846ce",
       "version_major": 2,
       "version_minor": 0
      },
      "text/plain": [
       "HBox(children=(FloatProgress(value=0.0, max=29525.0), HTML(value='')))"
      ]
     },
     "metadata": {},
     "output_type": "display_data"
    },
    {
     "name": "stderr",
     "output_type": "stream",
     "text": [
      "/root/anaconda3/lib/python3.7/site-packages/ipykernel_launcher.py:3: RuntimeWarning:\n",
      "\n",
      "Mean of empty slice.\n",
      "\n",
      "/root/anaconda3/lib/python3.7/site-packages/numpy/core/_methods.py:161: RuntimeWarning:\n",
      "\n",
      "invalid value encountered in double_scalars\n",
      "\n"
     ]
    },
    {
     "name": "stdout",
     "output_type": "stream",
     "text": [
      "\n"
     ]
    }
   ],
   "source": [
    "for c in tqdm(fm_mv.get_concepts()):\n",
    "    ys = fm_mv.get_context()._y_true[fm_mv.get_context().get_extent(c.get_intent(), verb=False)]\n",
    "    c._metrics['entropy'] = ((ys-ys.mean())**2).mean()"
   ]
  },
  {
   "cell_type": "code",
   "execution_count": 167,
   "metadata": {},
   "outputs": [],
   "source": [
    "c_id = 45"
   ]
  },
  {
   "cell_type": "code",
   "execution_count": 168,
   "metadata": {},
   "outputs": [
    {
     "name": "stdout",
     "output_type": "stream",
     "text": [
      "[0, 3, 34, 41, 45]\n"
     ]
    }
   ],
   "source": [
    "chain = [c_id]\n",
    "while True:\n",
    "    c_id_ = chain[0]\n",
    "    if c_id_ == 0:\n",
    "        break\n",
    "    chain = [fm_mv.get_concept_by_id(c_id_)._up_neighb_st]+chain\n",
    "print(chain)"
   ]
  },
  {
   "cell_type": "code",
   "execution_count": 172,
   "metadata": {},
   "outputs": [
    {
     "data": {
      "text/plain": [
       "[0, 3, 34, 41, 45]"
      ]
     },
     "execution_count": 172,
     "metadata": {},
     "output_type": "execute_result"
    }
   ],
   "source": [
    "chain"
   ]
  },
  {
   "cell_type": "code",
   "execution_count": 169,
   "metadata": {},
   "outputs": [],
   "source": [
    "upns = [c.get_id() for c in fm_mv.get_concepts() if fm_mv.get_concept_by_id(c_id).is_subconcept_of(c)]"
   ]
  },
  {
   "cell_type": "code",
   "execution_count": 170,
   "metadata": {},
   "outputs": [
    {
     "data": {
      "text/plain": [
       "[45, 41, 34, 8, 7, 5, 3, 0]"
      ]
     },
     "execution_count": 170,
     "metadata": {},
     "output_type": "execute_result"
    }
   ],
   "source": [
    "upns"
   ]
  },
  {
   "cell_type": "code",
   "execution_count": 165,
   "metadata": {},
   "outputs": [
    {
     "data": {
      "text/plain": [
       "5"
      ]
     },
     "execution_count": 165,
     "metadata": {},
     "output_type": "execute_result"
    }
   ],
   "source": [
    "len(upns)"
   ]
  },
  {
   "cell_type": "code",
   "execution_count": 168,
   "metadata": {},
   "outputs": [
    {
     "name": "stdout",
     "output_type": "stream",
     "text": [
      "[0, 3, 34, 41, 45]\n"
     ]
    }
   ],
   "source": [
    "chain = [c_id]\n",
    "while True:\n",
    "    c_id_ = chain[0]\n",
    "    if c_id_ == 0:\n",
    "        break\n",
    "    chain = [fm_mv.get_concept_by_id(c_id_)._up_neighb_st]+chain\n",
    "print(chain)"
   ]
  },
  {
   "cell_type": "code",
   "execution_count": 174,
   "metadata": {},
   "outputs": [
    {
     "data": {
      "text/plain": [
       "[36.40561230334501, 12.27165594685927, 3.385373517193017, -0.14161422675753244]"
      ]
     },
     "execution_count": 174,
     "metadata": {},
     "output_type": "execute_result"
    }
   ],
   "source": [
    "igs = [fm_mv.get_concept_by_id(chain[i])._metrics['entropy']-fm_mv.get_concept_by_id(chain[i+1])._metrics['entropy']\n",
    "           for i in range(len(chain)-1)]\n",
    "igs"
   ]
  },
  {
   "cell_type": "code",
   "execution_count": 175,
   "metadata": {},
   "outputs": [
    {
     "data": {
      "text/plain": [
       "51.92102754063976"
      ]
     },
     "execution_count": 175,
     "metadata": {},
     "output_type": "execute_result"
    }
   ],
   "source": [
    "sum(igs)"
   ]
  },
  {
   "cell_type": "code",
   "execution_count": 178,
   "metadata": {},
   "outputs": [
    {
     "data": {
      "text/plain": [
       "51.92102754063976"
      ]
     },
     "execution_count": 178,
     "metadata": {},
     "output_type": "execute_result"
    }
   ],
   "source": [
    "fm_mv.get_concept_by_id(0)._metrics['entropy']-fm_mv.get_concept_by_id(c_id)._metrics['entropy']"
   ]
  },
  {
   "cell_type": "code",
   "execution_count": 179,
   "metadata": {},
   "outputs": [
    {
     "data": {
      "text/plain": [
       "[0, 3, 34, 41, 45]"
      ]
     },
     "execution_count": 179,
     "metadata": {},
     "output_type": "execute_result"
    }
   ],
   "source": [
    "chain"
   ]
  },
  {
   "cell_type": "code",
   "execution_count": 180,
   "metadata": {},
   "outputs": [
    {
     "data": {
      "text/plain": [
       "{'mean_y_true': 23.373333333333328,\n",
       " 'std_y_true': 5.687200253126322,\n",
       " 'mae': 3.8300653594771226,\n",
       " 'entropy': 32.21740653594772}"
      ]
     },
     "execution_count": 180,
     "metadata": {},
     "output_type": "execute_result"
    }
   ],
   "source": [
    "fm_mv.get_concept_by_id(41)._metrics"
   ]
  },
  {
   "cell_type": "code",
   "execution_count": 182,
   "metadata": {},
   "outputs": [
    {
     "data": {
      "text/plain": [
       "{'mean_y_true': 23.35098814229249,\n",
       " 'std_y_true': 5.699774519685464,\n",
       " 'mae': 3.8320798637691573,\n",
       " 'entropy': 32.35902076270525}"
      ]
     },
     "execution_count": 182,
     "metadata": {},
     "output_type": "execute_result"
    }
   ],
   "source": [
    "fm_mv.get_concept_by_id(45)._metrics"
   ]
  },
  {
   "cell_type": "code",
   "execution_count": 185,
   "metadata": {},
   "outputs": [
    {
     "data": {
      "text/plain": [
       "(255, 253)"
      ]
     },
     "execution_count": 185,
     "metadata": {},
     "output_type": "execute_result"
    }
   ],
   "source": [
    "len(fm_mv.get_concept_by_id(41).get_extent()), len(fm_mv.get_concept_by_id(45).get_extent())"
   ]
  },
  {
   "cell_type": "code",
   "execution_count": 186,
   "metadata": {},
   "outputs": [
    {
     "data": {
      "text/plain": [
       "{46, 63, 71, 73, 80, 124, 143, 150, 960, 3195, 8114}"
      ]
     },
     "execution_count": 186,
     "metadata": {},
     "output_type": "execute_result"
    }
   ],
   "source": [
    "c._up_neighbs"
   ]
  },
  {
   "cell_type": "code",
   "execution_count": 188,
   "metadata": {},
   "outputs": [
    {
     "data": {
      "text/plain": [
       "set()"
      ]
     },
     "execution_count": 188,
     "metadata": {},
     "output_type": "execute_result"
    }
   ],
   "source": [
    "fm_mv.get_concept_by_id(0)._up_neighbs"
   ]
  },
  {
   "cell_type": "code",
   "execution_count": null,
   "metadata": {},
   "outputs": [],
   "source": []
  },
  {
   "cell_type": "code",
   "execution_count": null,
   "metadata": {},
   "outputs": [],
   "source": []
  },
  {
   "cell_type": "code",
   "execution_count": null,
   "metadata": {},
   "outputs": [],
   "source": []
  },
  {
   "cell_type": "code",
   "execution_count": 212,
   "metadata": {},
   "outputs": [],
   "source": [
    "def get_chain(fm, c_id):\n",
    "    chain = [c_id]\n",
    "    while True:\n",
    "        c_id_ = chain[0]\n",
    "        if c_id_ == 0:\n",
    "            break\n",
    "        chain = [fm.get_concept_by_id(c_id_)._up_neighb_st]+chain\n",
    "    return chain\n",
    "\n",
    "def get_igs(fm, chain):\n",
    "    return [fm.get_concept_by_id(chain[i])._metrics['entropy']-fm.get_concept_by_id(chain[i+1])._metrics['entropy']\n",
    "           for i in range(len(chain)-1)]"
   ]
  },
  {
   "cell_type": "code",
   "execution_count": 418,
   "metadata": {},
   "outputs": [
    {
     "data": {
      "application/vnd.jupyter.widget-view+json": {
       "model_id": "fc2674f32e9246a88bee1aded27e88db",
       "version_major": 2,
       "version_minor": 0
      },
      "text/plain": [
       "HBox(children=(FloatProgress(value=0.0, max=29525.0), HTML(value='')))"
      ]
     },
     "metadata": {},
     "output_type": "display_data"
    },
    {
     "name": "stdout",
     "output_type": "stream",
     "text": [
      "\n"
     ]
    },
    {
     "data": {
      "application/vnd.jupyter.widget-view+json": {
       "model_id": "ce15bb5e73e74588a30311c84ad64f53",
       "version_major": 2,
       "version_minor": 0
      },
      "text/plain": [
       "HBox(children=(FloatProgress(value=0.0, max=29525.0), HTML(value='')))"
      ]
     },
     "metadata": {},
     "output_type": "display_data"
    },
    {
     "name": "stdout",
     "output_type": "stream",
     "text": [
      "\n"
     ]
    }
   ],
   "source": [
    "for c in tqdm(fm_mv.get_concepts()):\n",
    "    if c.get_id()==0:\n",
    "        c._metrics['min_ig'] = 0\n",
    "        continue\n",
    "    un_ids = list(c._up_neighbs)\n",
    "    igs = [fm_mv.get_concept_by_id(un_id)._metrics['entropy']-c._metrics['entropy'] for un_id in un_ids]\n",
    "    \n",
    "    c._up_neighb_st = un_ids[np.argmin(igs)]\n",
    "    c._metrics['min_ig'] = min(igs)\n",
    "\n",
    "for c in tqdm(fm_mv.get_concepts()):\n",
    "    lns = [ln_id for ln_id in c._low_neighbs if fm_mv.get_concept_by_id(ln_id)._up_neighb_st==c.get_id()]\n",
    "    c._low_neighbs_st = set(lns)"
   ]
  },
  {
   "cell_type": "code",
   "execution_count": 419,
   "metadata": {},
   "outputs": [
    {
     "data": {
      "text/plain": [
       "([0, 1, 2, 4, 6, 9, 10, 11, 12, 14, 16, 33, 36, 84, 148],\n",
       " [30.88105346755149,\n",
       "  6.93528080040484,\n",
       "  2.68148101097011,\n",
       "  1.2792654428868104,\n",
       "  0.3692371637558409,\n",
       "  0.624739993446191,\n",
       "  0.6307919987543471,\n",
       "  1.0600158569158253,\n",
       "  0.008018021518381602,\n",
       "  0.17189311817816133,\n",
       "  12.334613571029323,\n",
       "  11.480017833103643,\n",
       "  2.9125902839509337,\n",
       "  2.470405143097649])"
      ]
     },
     "execution_count": 419,
     "metadata": {},
     "output_type": "execute_result"
    }
   ],
   "source": [
    "chain_min = get_chain(fm_mv, 148)\n",
    "igs_min = get_igs(fm_mv, chain_min)\n",
    "chain_min, igs_min"
   ]
  },
  {
   "cell_type": "code",
   "execution_count": null,
   "metadata": {},
   "outputs": [],
   "source": []
  },
  {
   "cell_type": "code",
   "execution_count": 446,
   "metadata": {},
   "outputs": [
    {
     "data": {
      "text/plain": [
       "False"
      ]
     },
     "execution_count": 446,
     "metadata": {},
     "output_type": "execute_result"
    }
   ],
   "source": [
    "(np.abs(s)).min()==None"
   ]
  },
  {
   "cell_type": "code",
   "execution_count": 492,
   "metadata": {},
   "outputs": [
    {
     "data": {
      "text/plain": [
       "{'mean_y_true': 0,\n",
       " 'std_y_true': 0.0,\n",
       " 'mae': nan,\n",
       " 'entropy': nan,\n",
       " 'min_ig': nan}"
      ]
     },
     "execution_count": 492,
     "metadata": {},
     "output_type": "execute_result"
    }
   ],
   "source": [
    "fm_mv.sort_concepts()[-1]._metrics"
   ]
  },
  {
   "cell_type": "code",
   "execution_count": 501,
   "metadata": {},
   "outputs": [
    {
     "data": {
      "image/png": "[encoded data removed]",
      "text/plain": [
       "<Figure size 432x288 with 1 Axes>"
      ]
     },
     "metadata": {
      "needs_background": "light"
     },
     "output_type": "display_data"
    }
   ],
   "source": [
    "s = np.array([c._metrics['min_ig'] for c in fm_mv.get_concepts() if len(c.get_extent())>0])\n",
    "s = np.log1p(np.abs(s))/np.log(10)*(2*(s>=0)-1)\n",
    "\n",
    "sns.distplot(s)\n",
    "xticks = [-2, -1, 0, 1, 2]\n",
    "plt.xticks(xticks, [\"$10^{%d}$\" %x for x in xticks])\n",
    "plt.xlabel('Minimum IG of a concept')\n",
    "plt.title('Distribution of mimimum IG per concept')\n",
    "m = np.median(s)\n",
    "plt.axvline(m, label=f'median: {m:.4f}', color='orange')\n",
    "plt.legend()\n",
    "plt.show()"
   ]
  },
  {
   "cell_type": "code",
   "execution_count": null,
   "metadata": {},
   "outputs": [],
   "source": []
  },
  {
   "cell_type": "code",
   "execution_count": 392,
   "metadata": {},
   "outputs": [
    {
     "data": {
      "application/vnd.jupyter.widget-view+json": {
       "model_id": "7649137ce8224a0c883c978614863f77",
       "version_major": 2,
       "version_minor": 0
      },
      "text/plain": [
       "HBox(children=(FloatProgress(value=0.0, max=29525.0), HTML(value='')))"
      ]
     },
     "metadata": {},
     "output_type": "display_data"
    },
    {
     "name": "stdout",
     "output_type": "stream",
     "text": [
      "\n"
     ]
    },
    {
     "data": {
      "application/vnd.jupyter.widget-view+json": {
       "model_id": "8bc61fdeeeba4001ba6b7d4944d3513f",
       "version_major": 2,
       "version_minor": 0
      },
      "text/plain": [
       "HBox(children=(FloatProgress(value=0.0, max=29525.0), HTML(value='')))"
      ]
     },
     "metadata": {},
     "output_type": "display_data"
    },
    {
     "name": "stdout",
     "output_type": "stream",
     "text": [
      "\n"
     ]
    }
   ],
   "source": [
    "for c in tqdm(fm_mv.get_concepts()):\n",
    "    if c.get_id()==0:\n",
    "        c._metrics['min_ig'] = 0\n",
    "        continue\n",
    "    un_ids = list(c._up_neighbs)\n",
    "    igs = [fm_mv.get_concept_by_id(un_id)._metrics['entropy']-c._metrics['entropy'] for un_id in un_ids]\n",
    "    \n",
    "    c._up_neighb_st = un_ids[np.argmax(igs)]\n",
    "    c._metrics['min_ig'] = max(igs)\n",
    "\n",
    "for c in tqdm(fm_mv.get_concepts()):\n",
    "    lns = [ln_id for ln_id in c._low_neighbs if fm_mv.get_concept_by_id(ln_id)._up_neighb_st==c.get_id()]\n",
    "    c._low_neighbs_st = set(lns)"
   ]
  },
  {
   "cell_type": "code",
   "execution_count": 393,
   "metadata": {},
   "outputs": [
    {
     "data": {
      "text/plain": [
       "([0, 1, 2, 4, 6, 9, 10, 11, 12, 14, 16, 17, 18, 19, 20, 21, 22, 64, 84, 148],\n",
       " [30.88105346755149,\n",
       "  6.93528080040484,\n",
       "  2.68148101097011,\n",
       "  1.2792654428868104,\n",
       "  0.3692371637558409,\n",
       "  0.624739993446191,\n",
       "  0.6307919987543471,\n",
       "  1.0600158569158253,\n",
       "  0.008018021518381602,\n",
       "  0.17189311817816133,\n",
       "  0.6147642565999476,\n",
       "  0.17674905680750896,\n",
       "  -0.01601298170201204,\n",
       "  0.36847314355991756,\n",
       "  1.0495609924120402,\n",
       "  0.7633002328905505,\n",
       "  11.084394458582114,\n",
       "  12.685992528933832,\n",
       "  2.470405143097649])"
      ]
     },
     "execution_count": 393,
     "metadata": {},
     "output_type": "execute_result"
    }
   ],
   "source": [
    "chain_max = get_chain(fm_mv, 148)\n",
    "igs_max = get_igs(fm_mv, chain_max)\n",
    "chain_max, igs_max"
   ]
  },
  {
   "cell_type": "code",
   "execution_count": null,
   "metadata": {},
   "outputs": [],
   "source": []
  },
  {
   "cell_type": "code",
   "execution_count": 394,
   "metadata": {},
   "outputs": [],
   "source": [
    "def get_all_possible_chains(fm, c_id):\n",
    "    if c_id==0:\n",
    "        return [[0]]\n",
    "    \n",
    "    un_ids = fm.get_concept_by_id(c_id)._up_neighbs\n",
    "    return [ch+[c_id] for un_id in un_ids for ch in get_all_possible_chains(fm, un_id)]"
   ]
  },
  {
   "cell_type": "code",
   "execution_count": 395,
   "metadata": {},
   "outputs": [],
   "source": [
    "chains_all = get_all_possible_chains(fm_mv, 148)"
   ]
  },
  {
   "cell_type": "code",
   "execution_count": null,
   "metadata": {},
   "outputs": [],
   "source": []
  },
  {
   "cell_type": "raw",
   "metadata": {},
   "source": [
    "fm_mv.get_concept_by_id(84)._up_neighbs-={22}"
   ]
  },
  {
   "cell_type": "code",
   "execution_count": 409,
   "metadata": {},
   "outputs": [
    {
     "data": {
      "text/plain": [
       "[0, 1, 2, 4, 6, 9, 10, 11, 12, 14, 16, 33, 36, 84, 148]"
      ]
     },
     "execution_count": 409,
     "metadata": {},
     "output_type": "execute_result"
    }
   ],
   "source": [
    "chain_min"
   ]
  },
  {
   "cell_type": "code",
   "execution_count": 412,
   "metadata": {},
   "outputs": [
    {
     "data": {
      "text/plain": [
       "({'mean_y_true': 19.987434554973824,\n",
       "  'std_y_true': 6.304150131998906,\n",
       "  'mae': 4.5367177434829085,\n",
       "  'entropy': 39.638271428963016,\n",
       "  'min_ig': 0.17189311817816133},\n",
       " 382)"
      ]
     },
     "execution_count": 412,
     "metadata": {},
     "output_type": "execute_result"
    }
   ],
   "source": [
    "fm_mv.get_concept_by_id(16)._metrics, len(fm_mv.get_concept_by_id(16).get_extent())"
   ]
  },
  {
   "cell_type": "code",
   "execution_count": 411,
   "metadata": {},
   "outputs": [
    {
     "data": {
      "text/plain": [
       "({'mean_y_true': 22.58129770992366,\n",
       "  'std_y_true': 5.2352907821690735,\n",
       "  'mae': 3.412744012586679,\n",
       "  'entropy': 27.303657857933693,\n",
       "  'min_ig': 12.334613571029323},\n",
       " 262)"
      ]
     },
     "execution_count": 411,
     "metadata": {},
     "output_type": "execute_result"
    }
   ],
   "source": [
    "fm_mv.get_concept_by_id(33)._metrics, len(fm_mv.get_concept_by_id(33).get_extent())"
   ]
  },
  {
   "cell_type": "code",
   "execution_count": null,
   "metadata": {},
   "outputs": [],
   "source": []
  },
  {
   "cell_type": "code",
   "execution_count": 402,
   "metadata": {},
   "outputs": [
    {
     "data": {
      "text/plain": [
       "[0, 1, 2, 4, 6, 9, 10, 11, 12, 14, 16, 33, 36, 84, 148]"
      ]
     },
     "execution_count": 402,
     "metadata": {},
     "output_type": "execute_result"
    }
   ],
   "source": [
    "chain_min"
   ]
  },
  {
   "cell_type": "code",
   "execution_count": 414,
   "metadata": {},
   "outputs": [
    {
     "data": {
      "image/png": "[encoded data removed]",
      "text/plain": [
       "<Figure size 432x288 with 1 Axes>"
      ]
     },
     "metadata": {
      "needs_background": "light"
     },
     "output_type": "display_data"
    }
   ],
   "source": [
    "plt.plot(np.cumsum([0]+get_igs(fm_mv, chain_max)), label='maximum IG', color='red')\n",
    "for idx, ch in enumerate([ch for ch in chains_all if ch!=chain_min and ch!=chain_max]):\n",
    "    plt.plot(np.cumsum([0]+get_igs(fm_mv, ch)), label='other chains' if idx==0 else None,\n",
    "             color='orange')\n",
    "plt.plot(np.cumsum([0]+get_igs(fm_mv, chain_min)), '-*', label='minimum IG', color='green')\n",
    "plt.title('Cummulative IG over chain of concepts')\n",
    "xticks = range(max([len(ch) for ch in chains_all]))\n",
    "plt.xticks(xticks, xticks)\n",
    "plt.xlabel('Number of concept in a chain')\n",
    "plt.ylabel('Cummulative IG')\n",
    "plt.legend()\n",
    "plt.show()"
   ]
  },
  {
   "cell_type": "code",
   "execution_count": 512,
   "metadata": {},
   "outputs": [],
   "source": [
    "def get_change_in_intent(fm, c_id_from, c_id_to):\n",
    "    int_from = fm.get_concept_by_id(c_id_from).get_intent()\n",
    "    int_to = fm.get_concept_by_id(c_id_to).get_intent()\n",
    "    \n",
    "    change = {}\n",
    "    for k in int_to.keys():\n",
    "        if int_to[k]!=int_from[k]:\n",
    "            change[k] = f\"{int_from[k]} -> {int_to[k]}\"\n",
    "    return change, int_from"
   ]
  },
  {
   "cell_type": "code",
   "execution_count": 524,
   "metadata": {},
   "outputs": [
    {
     "data": {
      "text/plain": [
       "(0.17189311817816133, {'RM': '(3.561, 6.897) -> (3.561, 6.871)'})"
      ]
     },
     "execution_count": 524,
     "metadata": {},
     "output_type": "execute_result"
    }
   ],
   "source": [
    "get_igs(fm_mv, [14,16])[0], get_change_in_intent(fm_mv, 14, 16)[0]"
   ]
  },
  {
   "cell_type": "code",
   "execution_count": 528,
   "metadata": {},
   "outputs": [
    {
     "data": {
      "text/plain": [
       "({'mean_y_true': 20.0412987012987,\n",
       "  'std_y_true': 6.317739853036792,\n",
       "  'mae': 4.553365491651206,\n",
       "  'entropy': 39.81016454714118,\n",
       "  'min_ig': 0.008018021518381602},\n",
       " {'mean_y_true': 19.987434554973824,\n",
       "  'std_y_true': 6.304150131998906,\n",
       "  'mae': 4.5367177434829085,\n",
       "  'entropy': 39.638271428963016,\n",
       "  'min_ig': 0.17189311817816133})"
      ]
     },
     "execution_count": 528,
     "metadata": {},
     "output_type": "execute_result"
    }
   ],
   "source": [
    "fm_mv.get_concept_by_id(14)._metrics, fm_mv.get_concept_by_id(16)._metrics"
   ]
  },
  {
   "cell_type": "code",
   "execution_count": null,
   "metadata": {},
   "outputs": [],
   "source": []
  },
  {
   "cell_type": "code",
   "execution_count": 518,
   "metadata": {},
   "outputs": [
    {
     "data": {
      "text/plain": [
       "(12.334613571029323,\n",
       " {'CRIM': '(0.00632, 73.5341) -> (0.00632, 51.1358)',\n",
       "  'B': '(0.32, 396.9) -> (2.6, 396.9)',\n",
       "  'LSTAT': '(2.98, 37.97) -> (2.98, 16.03)'})"
      ]
     },
     "execution_count": 518,
     "metadata": {},
     "output_type": "execute_result"
    }
   ],
   "source": [
    "get_igs(fm_mv, [16,33])[0], get_change_in_intent(fm_mv, 16, 33)[0], "
   ]
  },
  {
   "cell_type": "code",
   "execution_count": 529,
   "metadata": {},
   "outputs": [
    {
     "data": {
      "text/plain": [
       "({'mean_y_true': 19.987434554973824,\n",
       "  'std_y_true': 6.304150131998906,\n",
       "  'mae': 4.5367177434829085,\n",
       "  'entropy': 39.638271428963016,\n",
       "  'min_ig': 0.17189311817816133},\n",
       " {'mean_y_true': 22.58129770992366,\n",
       "  'std_y_true': 5.2352907821690735,\n",
       "  'mae': 3.412744012586679,\n",
       "  'entropy': 27.303657857933693,\n",
       "  'min_ig': 12.334613571029323})"
      ]
     },
     "execution_count": 529,
     "metadata": {},
     "output_type": "execute_result"
    }
   ],
   "source": [
    "fm_mv.get_concept_by_id(16)._metrics, fm_mv.get_concept_by_id(33)._metrics"
   ]
  },
  {
   "cell_type": "code",
   "execution_count": 520,
   "metadata": {},
   "outputs": [
    {
     "data": {
      "text/plain": [
       "(0.6147642565999476,\n",
       " {'RM': '(3.561, 6.871) -> (3.561, 6.842)',\n",
       "  'LSTAT': '(2.98, 37.97) -> (3.26, 37.97)'})"
      ]
     },
     "execution_count": 520,
     "metadata": {},
     "output_type": "execute_result"
    }
   ],
   "source": [
    "get_igs(fm_mv, [16,17])[0], get_change_in_intent(fm_mv, 16, 17)[0], "
   ]
  },
  {
   "cell_type": "code",
   "execution_count": 530,
   "metadata": {},
   "outputs": [
    {
     "data": {
      "text/plain": [
       "({'mean_y_true': 19.987434554973824,\n",
       "  'std_y_true': 6.304150131998906,\n",
       "  'mae': 4.5367177434829085,\n",
       "  'entropy': 39.638271428963016,\n",
       "  'min_ig': 0.17189311817816133},\n",
       " {'mean_y_true': 19.85186170212766,\n",
       "  'std_y_true': 6.255203422603938,\n",
       "  'mae': 4.4786342802172925,\n",
       "  'entropy': 39.02350717236307,\n",
       "  'min_ig': 0.6147642565999476})"
      ]
     },
     "execution_count": 530,
     "metadata": {},
     "output_type": "execute_result"
    }
   ],
   "source": [
    "fm_mv.get_concept_by_id(16)._metrics, fm_mv.get_concept_by_id(17)._metrics"
   ]
  }
 ],
 "metadata": {
  "kernelspec": {
   "display_name": "Python 3",
   "language": "python",
   "name": "python3"
  },
  "language_info": {
   "codemirror_mode": {
    "name": "ipython",
    "version": 3
   },
   "file_extension": ".py",
   "mimetype": "text/x-python",
   "name": "python",
   "nbconvert_exporter": "python",
   "pygments_lexer": "ipython3",
   "version": "3.7.6"
  }
 },
 "nbformat": 4,
 "nbformat_minor": 4
}
