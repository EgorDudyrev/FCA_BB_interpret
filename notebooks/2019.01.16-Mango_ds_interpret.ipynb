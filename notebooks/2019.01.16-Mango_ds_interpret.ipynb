{
 "cells": [
  {
   "cell_type": "code",
   "execution_count": 1,
   "metadata": {},
   "outputs": [
    {
     "data": {
      "text/html": [
       "<style>.container { width:90% !important; }</style>"
      ],
      "text/plain": [
       "<IPython.core.display.HTML object>"
      ]
     },
     "metadata": {},
     "output_type": "display_data"
    }
   ],
   "source": [
    "import numpy as np\n",
    "import pandas as pd\n",
    "import catboost as cb\n",
    "from sklearn.model_selection import train_test_split\n",
    "from sklearn.metrics import accuracy_score, precision_score, recall_score\n",
    "\n",
    "from IPython.core.display import display, HTML\n",
    "display(HTML(\"<style>.container { width:90% !important; }</style>\"))\n",
    "\n",
    "import os\n",
    "import sys\n",
    "BASE_PATH = os.path.realpath('..')\n",
    "DATASETS_DIR = os.path.join(BASE_PATH, 'datasets')\n",
    "LIB_DIR = os.path.join(BASE_PATH,'lib')\n",
    "if LIB_DIR not in sys.path:\n",
    "    sys.path.append(LIB_DIR)\n",
    "\n",
    "import matplotlib.pyplot as plt\n",
    "import seaborn as sns\n",
    "from tqdm import tqdm_notebook\n",
    "\n",
    "from importlib import reload"
   ]
  },
  {
   "cell_type": "code",
   "execution_count": 2,
   "metadata": {},
   "outputs": [],
   "source": [
    "import scipy as sp"
   ]
  },
  {
   "cell_type": "code",
   "execution_count": 3,
   "metadata": {},
   "outputs": [],
   "source": [
    "from itertools import combinations, islice"
   ]
  },
  {
   "cell_type": "code",
   "execution_count": 4,
   "metadata": {},
   "outputs": [],
   "source": [
    "from datetime import datetime"
   ]
  },
  {
   "cell_type": "markdown",
   "metadata": {},
   "source": [
    "# Use basic Mango Dataset"
   ]
  },
  {
   "cell_type": "code",
   "execution_count": 5,
   "metadata": {},
   "outputs": [
    {
     "data": {
      "text/html": [
       "<div>\n",
       "<style scoped>\n",
       "    .dataframe tbody tr th:only-of-type {\n",
       "        vertical-align: middle;\n",
       "    }\n",
       "\n",
       "    .dataframe tbody tr th {\n",
       "        vertical-align: top;\n",
       "    }\n",
       "\n",
       "    .dataframe thead th {\n",
       "        text-align: right;\n",
       "    }\n",
       "</style>\n",
       "<table border=\"1\" class=\"dataframe\">\n",
       "  <thead>\n",
       "    <tr style=\"text-align: right;\">\n",
       "      <th></th>\n",
       "      <th>color</th>\n",
       "      <th>firm</th>\n",
       "      <th>smooth</th>\n",
       "      <th>form</th>\n",
       "      <th>fruit</th>\n",
       "    </tr>\n",
       "    <tr>\n",
       "      <th>title</th>\n",
       "      <th></th>\n",
       "      <th></th>\n",
       "      <th></th>\n",
       "      <th></th>\n",
       "      <th></th>\n",
       "    </tr>\n",
       "  </thead>\n",
       "  <tbody>\n",
       "    <tr>\n",
       "      <th>apple</th>\n",
       "      <td>yellow</td>\n",
       "      <td>False</td>\n",
       "      <td>True</td>\n",
       "      <td>round</td>\n",
       "      <td>True</td>\n",
       "    </tr>\n",
       "    <tr>\n",
       "      <th>grapefruit</th>\n",
       "      <td>yellow</td>\n",
       "      <td>False</td>\n",
       "      <td>False</td>\n",
       "      <td>round</td>\n",
       "      <td>True</td>\n",
       "    </tr>\n",
       "    <tr>\n",
       "      <th>kiwi</th>\n",
       "      <td>green</td>\n",
       "      <td>False</td>\n",
       "      <td>False</td>\n",
       "      <td>oval</td>\n",
       "      <td>True</td>\n",
       "    </tr>\n",
       "    <tr>\n",
       "      <th>plum</th>\n",
       "      <td>blue</td>\n",
       "      <td>False</td>\n",
       "      <td>True</td>\n",
       "      <td>oval</td>\n",
       "      <td>True</td>\n",
       "    </tr>\n",
       "    <tr>\n",
       "      <th>toy cube</th>\n",
       "      <td>green</td>\n",
       "      <td>True</td>\n",
       "      <td>True</td>\n",
       "      <td>cubic</td>\n",
       "      <td>False</td>\n",
       "    </tr>\n",
       "    <tr>\n",
       "      <th>egg</th>\n",
       "      <td>white</td>\n",
       "      <td>True</td>\n",
       "      <td>True</td>\n",
       "      <td>oval</td>\n",
       "      <td>False</td>\n",
       "    </tr>\n",
       "    <tr>\n",
       "      <th>tennis ball</th>\n",
       "      <td>white</td>\n",
       "      <td>False</td>\n",
       "      <td>False</td>\n",
       "      <td>round</td>\n",
       "      <td>False</td>\n",
       "    </tr>\n",
       "    <tr>\n",
       "      <th>mango</th>\n",
       "      <td>green</td>\n",
       "      <td>False</td>\n",
       "      <td>True</td>\n",
       "      <td>oval</td>\n",
       "      <td>True</td>\n",
       "    </tr>\n",
       "  </tbody>\n",
       "</table>\n",
       "</div>"
      ],
      "text/plain": [
       "              color   firm  smooth   form  fruit\n",
       "title                                           \n",
       "apple        yellow  False    True  round   True\n",
       "grapefruit   yellow  False   False  round   True\n",
       "kiwi          green  False   False   oval   True\n",
       "plum           blue  False    True   oval   True\n",
       "toy cube      green   True    True  cubic  False\n",
       "egg           white   True    True   oval  False\n",
       "tennis ball   white  False   False  round  False\n",
       "mango         green  False    True   oval   True"
      ]
     },
     "execution_count": 5,
     "metadata": {},
     "output_type": "execute_result"
    }
   ],
   "source": [
    "mango_ds = pd.read_csv(os.path.join(DATASETS_DIR, 'mango.csv'), index_col=0)\n",
    "mango_ds"
   ]
  },
  {
   "cell_type": "code",
   "execution_count": 6,
   "metadata": {},
   "outputs": [],
   "source": [
    "mango_bin_ds = pd.DataFrame()\n",
    "for f in mango_ds.columns:\n",
    "    if mango_ds[f].dtype==bool:\n",
    "        mango_bin_ds[f] = mango_ds[f]\n",
    "    elif mango_ds[f].dtype==np.dtype('O'):\n",
    "        for v in mango_ds[f].unique():\n",
    "            mango_bin_ds[f\"{f}_{v}\"] = mango_ds[f]==v\n",
    "    else:\n",
    "        raise TypeError(f'Column DataType {mango_ds[f].dtype} is not supported. Possible variants are [bool, str]')"
   ]
  },
  {
   "cell_type": "code",
   "execution_count": 7,
   "metadata": {},
   "outputs": [],
   "source": [
    "import fca_interp as fcai"
   ]
  },
  {
   "cell_type": "code",
   "execution_count": 140,
   "metadata": {},
   "outputs": [],
   "source": [
    "fcai = reload(fcai)"
   ]
  },
  {
   "cell_type": "code",
   "execution_count": 143,
   "metadata": {},
   "outputs": [
    {
     "name": "stdout",
     "output_type": "stream",
     "text": [
      "CPU times: user 10.5 ms, sys: 7.95 ms, total: 18.5 ms\n",
      "Wall time: 16.9 ms\n"
     ]
    }
   ],
   "source": [
    "%%time\n",
    "cntx = fcai.Context(mango_bin_ds)\n",
    "fm = fcai.FormalManager(cntx)\n",
    "fm.construct_concepts(use_tqdm=False)\n",
    "fm.construct_lattice(use_tqdm=False)"
   ]
  },
  {
   "cell_type": "code",
   "execution_count": 144,
   "metadata": {},
   "outputs": [],
   "source": [
    "fig = fm.get_plotly_fig()"
   ]
  },
  {
   "cell_type": "code",
   "execution_count": 145,
   "metadata": {},
   "outputs": [
    {
     "data": {
      "application/vnd.plotly.v1+json": {
       "config": {
        "plotlyServerURL": "https://plot.ly"
       },
       "data": [
        {
         "hoverinfo": "none",
         "line": {
          "color": "#888",
          "width": 0.5
         },
         "mode": "lines",
         "type": "scatter",
         "x": [
          3,
          0,
          null,
          3,
          0.5,
          null,
          3,
          -2.5,
          null,
          0.5,
          0,
          null,
          0.5,
          -2,
          null,
          0.5,
          -1,
          null,
          0.5,
          -3,
          null,
          -0.5,
          0,
          null,
          -0.5,
          -2,
          null,
          1,
          0,
          null,
          1,
          -1,
          null,
          1,
          -1.5,
          null,
          1,
          0,
          null,
          -2,
          2,
          null,
          -2,
          -1,
          null,
          -2,
          1,
          null,
          2,
          0,
          null,
          2,
          0,
          null,
          2,
          -3,
          null,
          2,
          -1,
          null,
          2,
          0.5,
          null,
          2,
          -0.5,
          null,
          -1,
          1.5,
          null,
          -1,
          -0.5,
          null,
          0,
          -2.5,
          null,
          0,
          -1.5,
          null,
          0,
          -0.5,
          null,
          0,
          0.5,
          null,
          0,
          1.5,
          null,
          0,
          2.5,
          null,
          -2,
          0,
          null,
          -2,
          -1.5,
          null,
          -2,
          -2.5,
          null,
          0,
          0,
          null,
          2.5,
          -1,
          null,
          2.5,
          -3,
          null,
          1.5,
          0,
          null,
          1.5,
          1,
          null,
          1.5,
          -3,
          null,
          0.5,
          1,
          null,
          0,
          1,
          null
         ],
         "y": [
          4,
          3,
          null,
          4,
          5,
          null,
          4,
          5,
          null,
          2,
          1,
          null,
          2,
          3,
          null,
          2,
          3,
          null,
          2,
          4,
          null,
          2,
          1,
          null,
          2,
          3,
          null,
          3,
          1,
          null,
          3,
          4,
          null,
          3,
          5,
          null,
          3,
          4,
          null,
          3,
          4,
          null,
          3,
          4,
          null,
          3,
          4,
          null,
          3,
          1,
          null,
          3,
          4,
          null,
          3,
          4,
          null,
          4,
          3,
          null,
          4,
          5,
          null,
          4,
          5,
          null,
          4,
          5,
          null,
          4,
          5,
          null,
          6,
          5,
          null,
          6,
          5,
          null,
          6,
          5,
          null,
          6,
          5,
          null,
          6,
          5,
          null,
          6,
          5,
          null,
          4,
          1,
          null,
          4,
          5,
          null,
          4,
          5,
          null,
          1,
          3,
          null,
          5,
          3,
          null,
          5,
          4,
          null,
          5,
          4,
          null,
          5,
          4,
          null,
          5,
          4,
          null,
          5,
          4,
          null,
          3,
          4,
          null
         ]
        },
        {
         "hoverinfo": "text",
         "marker": {
          "color": [
           3,
           4,
           2,
           4,
           5,
           3,
           4,
           4,
           6,
           3,
           6,
           3,
           5,
           4,
           3,
           3,
           3,
           4,
           3,
           3,
           3,
           4
          ],
          "colorbar": {
           "thickness": 15,
           "title": {
            "side": "right",
            "text": "Node Connections"
           },
           "xanchor": "left"
          },
          "colorscale": [
           [
            0,
            "rgb(255,255,217)"
           ],
           [
            0.125,
            "rgb(237,248,177)"
           ],
           [
            0.25,
            "rgb(199,233,180)"
           ],
           [
            0.375,
            "rgb(127,205,187)"
           ],
           [
            0.5,
            "rgb(65,182,196)"
           ],
           [
            0.625,
            "rgb(29,145,192)"
           ],
           [
            0.75,
            "rgb(34,94,168)"
           ],
           [
            0.875,
            "rgb(37,52,148)"
           ],
           [
            1,
            "rgb(8,29,88)"
           ]
          ],
          "line": {
           "width": 2
          },
          "reversescale": true,
          "showscale": true,
          "size": 10
         },
         "mode": "markers",
         "text": [
          "Concept 15<br>extent (len: 2): apple,grapefruit<br>intent (len: 3): color_yellow,form_round,fruit<br>lower neighbours (len: 1): 16<br>upper neighbours (len: 2): 1,4<br>level: 2<br>",
          "Concept 20<br>extent (len: 1): mango<br>intent (len: 4): color_green,smooth,form_oval,fruit<br>lower neighbours (len: 1): 21<br>upper neighbours (len: 3): 13,14,7<br>level: 4<br>",
          "Concept 17<br>extent (len: 1): plum<br>intent (len: 4): color_blue,smooth,form_oval,fruit<br>lower neighbours (len: 1): 21<br>upper neighbours (len: 1): 13<br>level: 4<br>",
          "Concept 18<br>extent (len: 1): egg<br>intent (len: 4): color_white,firm,smooth,form_oval<br>lower neighbours (len: 1): 21<br>upper neighbours (len: 3): 9,10,2<br>level: 3<br>",
          "Concept 13<br>extent (len: 2): plum,mango<br>intent (len: 3): smooth,form_oval,fruit<br>lower neighbours (len: 2): 17,20<br>upper neighbours (len: 3): 9,11,12<br>level: 3<br>",
          "Concept 19<br>extent (len: 1): toy cube<br>intent (len: 4): color_green,firm,smooth,form_cubic<br>lower neighbours (len: 1): 21<br>upper neighbours (len: 2): 10,7<br>level: 3<br>",
          "Concept 12<br>extent (len: 3): kiwi,plum,mango<br>intent (len: 2): form_oval,fruit<br>lower neighbours (len: 2): 13,14<br>upper neighbours (len: 2): 3,4<br>level: 2<br>",
          "Concept 9<br>extent (len: 3): plum,egg,mango<br>intent (len: 2): smooth,form_oval<br>lower neighbours (len: 2): 18,13<br>upper neighbours (len: 2): 3,5<br>level: 2<br>",
          "Concept 0<br>extent (len: 8): apple,grapefruit,kiwi,plum,toy cube,egg,tennis ball,mango<br>intent (len: 0): emptyset<br>lower neighbours (len: 6): 1,2,3,4,5,6<br>upper neighbours (len: 0): emptyset<br>level: 0<br>",
          "Concept 8<br>extent (len: 1): tennis ball<br>intent (len: 2): color_white,form_round<br>lower neighbours (len: 1): 21<br>upper neighbours (len: 2): 1,2<br>level: 2<br>",
          "Concept 21<br>extent (len: 0): emptyset<br>intent (len: 10): color_yellow,color_green,color_blue,color_white,firm,smooth,form_round,form_oval,form_cubic,fruit<br>lower neighbours (len: 0): emptyset<br>upper neighbours (len: 6): 8,16,17,18,19,20<br>level: 5<br>",
          "Concept 6<br>extent (len: 3): kiwi,toy cube,mango<br>intent (len: 1): color_green<br>lower neighbours (len: 2): 14,7<br>upper neighbours (len: 1): 0<br>level: 1<br>",
          "Concept 5<br>extent (len: 5): apple,plum,toy cube,egg,mango<br>intent (len: 1): smooth<br>lower neighbours (len: 4): 9,10,11,7<br>upper neighbours (len: 1): 0<br>level: 1<br>",
          "Concept 4<br>extent (len: 5): apple,grapefruit,kiwi,plum,mango<br>intent (len: 1): fruit<br>lower neighbours (len: 3): 11,12,15<br>upper neighbours (len: 1): 0<br>level: 1<br>",
          "Concept 16<br>extent (len: 1): apple<br>intent (len: 4): color_yellow,smooth,form_round,fruit<br>lower neighbours (len: 1): 21<br>upper neighbours (len: 2): 11,15<br>level: 3<br>",
          "Concept 3<br>extent (len: 4): kiwi,plum,egg,mango<br>intent (len: 1): form_oval<br>lower neighbours (len: 2): 9,12<br>upper neighbours (len: 1): 0<br>level: 1<br>",
          "Concept 2<br>extent (len: 2): egg,tennis ball<br>intent (len: 1): color_white<br>lower neighbours (len: 2): 8,18<br>upper neighbours (len: 1): 0<br>level: 1<br>",
          "Concept 11<br>extent (len: 3): apple,plum,mango<br>intent (len: 2): smooth,fruit<br>lower neighbours (len: 2): 16,13<br>upper neighbours (len: 2): 4,5<br>level: 2<br>",
          "Concept 14<br>extent (len: 2): kiwi,mango<br>intent (len: 3): color_green,form_oval,fruit<br>lower neighbours (len: 1): 20<br>upper neighbours (len: 2): 12,6<br>level: 3<br>",
          "Concept 10<br>extent (len: 2): toy cube,egg<br>intent (len: 2): firm,smooth<br>lower neighbours (len: 2): 18,19<br>upper neighbours (len: 1): 5<br>level: 2<br>",
          "Concept 1<br>extent (len: 3): apple,grapefruit,tennis ball<br>intent (len: 1): form_round<br>lower neighbours (len: 2): 8,15<br>upper neighbours (len: 1): 0<br>level: 1<br>",
          "Concept 7<br>extent (len: 2): toy cube,mango<br>intent (len: 2): color_green,smooth<br>lower neighbours (len: 2): 19,20<br>upper neighbours (len: 2): 5,6<br>level: 2<br>"
         ],
         "type": "scatter",
         "x": [
          3,
          0.5,
          -0.5,
          1,
          -2,
          2,
          2,
          -1,
          0,
          -2,
          0,
          2.5,
          1.5,
          0.5,
          0,
          -0.5,
          -1.5,
          1,
          -1,
          0,
          -2.5,
          -3
         ],
         "y": [
          4,
          2,
          2,
          3,
          3,
          3,
          4,
          4,
          6,
          4,
          1,
          5,
          5,
          5,
          3,
          5,
          5,
          4,
          3,
          4,
          5,
          4
         ]
        }
       ],
       "layout": {
        "hovermode": "closest",
        "margin": {
         "b": 20,
         "l": 5,
         "r": 5,
         "t": 40
        },
        "showlegend": false,
        "template": {
         "data": {
          "bar": [
           {
            "error_x": {
             "color": "#2a3f5f"
            },
            "error_y": {
             "color": "#2a3f5f"
            },
            "marker": {
             "line": {
              "color": "#E5ECF6",
              "width": 0.5
             }
            },
            "type": "bar"
           }
          ],
          "barpolar": [
           {
            "marker": {
             "line": {
              "color": "#E5ECF6",
              "width": 0.5
             }
            },
            "type": "barpolar"
           }
          ],
          "carpet": [
           {
            "aaxis": {
             "endlinecolor": "#2a3f5f",
             "gridcolor": "white",
             "linecolor": "white",
             "minorgridcolor": "white",
             "startlinecolor": "#2a3f5f"
            },
            "baxis": {
             "endlinecolor": "#2a3f5f",
             "gridcolor": "white",
             "linecolor": "white",
             "minorgridcolor": "white",
             "startlinecolor": "#2a3f5f"
            },
            "type": "carpet"
           }
          ],
          "choropleth": [
           {
            "colorbar": {
             "outlinewidth": 0,
             "ticks": ""
            },
            "type": "choropleth"
           }
          ],
          "contour": [
           {
            "colorbar": {
             "outlinewidth": 0,
             "ticks": ""
            },
            "colorscale": [
             [
              0,
              "#0d0887"
             ],
             [
              0.1111111111111111,
              "#46039f"
             ],
             [
              0.2222222222222222,
              "#7201a8"
             ],
             [
              0.3333333333333333,
              "#9c179e"
             ],
             [
              0.4444444444444444,
              "#bd3786"
             ],
             [
              0.5555555555555556,
              "#d8576b"
             ],
             [
              0.6666666666666666,
              "#ed7953"
             ],
             [
              0.7777777777777778,
              "#fb9f3a"
             ],
             [
              0.8888888888888888,
              "#fdca26"
             ],
             [
              1,
              "#f0f921"
             ]
            ],
            "type": "contour"
           }
          ],
          "contourcarpet": [
           {
            "colorbar": {
             "outlinewidth": 0,
             "ticks": ""
            },
            "type": "contourcarpet"
           }
          ],
          "heatmap": [
           {
            "colorbar": {
             "outlinewidth": 0,
             "ticks": ""
            },
            "colorscale": [
             [
              0,
              "#0d0887"
             ],
             [
              0.1111111111111111,
              "#46039f"
             ],
             [
              0.2222222222222222,
              "#7201a8"
             ],
             [
              0.3333333333333333,
              "#9c179e"
             ],
             [
              0.4444444444444444,
              "#bd3786"
             ],
             [
              0.5555555555555556,
              "#d8576b"
             ],
             [
              0.6666666666666666,
              "#ed7953"
             ],
             [
              0.7777777777777778,
              "#fb9f3a"
             ],
             [
              0.8888888888888888,
              "#fdca26"
             ],
             [
              1,
              "#f0f921"
             ]
            ],
            "type": "heatmap"
           }
          ],
          "heatmapgl": [
           {
            "colorbar": {
             "outlinewidth": 0,
             "ticks": ""
            },
            "colorscale": [
             [
              0,
              "#0d0887"
             ],
             [
              0.1111111111111111,
              "#46039f"
             ],
             [
              0.2222222222222222,
              "#7201a8"
             ],
             [
              0.3333333333333333,
              "#9c179e"
             ],
             [
              0.4444444444444444,
              "#bd3786"
             ],
             [
              0.5555555555555556,
              "#d8576b"
             ],
             [
              0.6666666666666666,
              "#ed7953"
             ],
             [
              0.7777777777777778,
              "#fb9f3a"
             ],
             [
              0.8888888888888888,
              "#fdca26"
             ],
             [
              1,
              "#f0f921"
             ]
            ],
            "type": "heatmapgl"
           }
          ],
          "histogram": [
           {
            "marker": {
             "colorbar": {
              "outlinewidth": 0,
              "ticks": ""
             }
            },
            "type": "histogram"
           }
          ],
          "histogram2d": [
           {
            "colorbar": {
             "outlinewidth": 0,
             "ticks": ""
            },
            "colorscale": [
             [
              0,
              "#0d0887"
             ],
             [
              0.1111111111111111,
              "#46039f"
             ],
             [
              0.2222222222222222,
              "#7201a8"
             ],
             [
              0.3333333333333333,
              "#9c179e"
             ],
             [
              0.4444444444444444,
              "#bd3786"
             ],
             [
              0.5555555555555556,
              "#d8576b"
             ],
             [
              0.6666666666666666,
              "#ed7953"
             ],
             [
              0.7777777777777778,
              "#fb9f3a"
             ],
             [
              0.8888888888888888,
              "#fdca26"
             ],
             [
              1,
              "#f0f921"
             ]
            ],
            "type": "histogram2d"
           }
          ],
          "histogram2dcontour": [
           {
            "colorbar": {
             "outlinewidth": 0,
             "ticks": ""
            },
            "colorscale": [
             [
              0,
              "#0d0887"
             ],
             [
              0.1111111111111111,
              "#46039f"
             ],
             [
              0.2222222222222222,
              "#7201a8"
             ],
             [
              0.3333333333333333,
              "#9c179e"
             ],
             [
              0.4444444444444444,
              "#bd3786"
             ],
             [
              0.5555555555555556,
              "#d8576b"
             ],
             [
              0.6666666666666666,
              "#ed7953"
             ],
             [
              0.7777777777777778,
              "#fb9f3a"
             ],
             [
              0.8888888888888888,
              "#fdca26"
             ],
             [
              1,
              "#f0f921"
             ]
            ],
            "type": "histogram2dcontour"
           }
          ],
          "mesh3d": [
           {
            "colorbar": {
             "outlinewidth": 0,
             "ticks": ""
            },
            "type": "mesh3d"
           }
          ],
          "parcoords": [
           {
            "line": {
             "colorbar": {
              "outlinewidth": 0,
              "ticks": ""
             }
            },
            "type": "parcoords"
           }
          ],
          "pie": [
           {
            "automargin": true,
            "type": "pie"
           }
          ],
          "scatter": [
           {
            "marker": {
             "colorbar": {
              "outlinewidth": 0,
              "ticks": ""
             }
            },
            "type": "scatter"
           }
          ],
          "scatter3d": [
           {
            "line": {
             "colorbar": {
              "outlinewidth": 0,
              "ticks": ""
             }
            },
            "marker": {
             "colorbar": {
              "outlinewidth": 0,
              "ticks": ""
             }
            },
            "type": "scatter3d"
           }
          ],
          "scattercarpet": [
           {
            "marker": {
             "colorbar": {
              "outlinewidth": 0,
              "ticks": ""
             }
            },
            "type": "scattercarpet"
           }
          ],
          "scattergeo": [
           {
            "marker": {
             "colorbar": {
              "outlinewidth": 0,
              "ticks": ""
             }
            },
            "type": "scattergeo"
           }
          ],
          "scattergl": [
           {
            "marker": {
             "colorbar": {
              "outlinewidth": 0,
              "ticks": ""
             }
            },
            "type": "scattergl"
           }
          ],
          "scattermapbox": [
           {
            "marker": {
             "colorbar": {
              "outlinewidth": 0,
              "ticks": ""
             }
            },
            "type": "scattermapbox"
           }
          ],
          "scatterpolar": [
           {
            "marker": {
             "colorbar": {
              "outlinewidth": 0,
              "ticks": ""
             }
            },
            "type": "scatterpolar"
           }
          ],
          "scatterpolargl": [
           {
            "marker": {
             "colorbar": {
              "outlinewidth": 0,
              "ticks": ""
             }
            },
            "type": "scatterpolargl"
           }
          ],
          "scatterternary": [
           {
            "marker": {
             "colorbar": {
              "outlinewidth": 0,
              "ticks": ""
             }
            },
            "type": "scatterternary"
           }
          ],
          "surface": [
           {
            "colorbar": {
             "outlinewidth": 0,
             "ticks": ""
            },
            "colorscale": [
             [
              0,
              "#0d0887"
             ],
             [
              0.1111111111111111,
              "#46039f"
             ],
             [
              0.2222222222222222,
              "#7201a8"
             ],
             [
              0.3333333333333333,
              "#9c179e"
             ],
             [
              0.4444444444444444,
              "#bd3786"
             ],
             [
              0.5555555555555556,
              "#d8576b"
             ],
             [
              0.6666666666666666,
              "#ed7953"
             ],
             [
              0.7777777777777778,
              "#fb9f3a"
             ],
             [
              0.8888888888888888,
              "#fdca26"
             ],
             [
              1,
              "#f0f921"
             ]
            ],
            "type": "surface"
           }
          ],
          "table": [
           {
            "cells": {
             "fill": {
              "color": "#EBF0F8"
             },
             "line": {
              "color": "white"
             }
            },
            "header": {
             "fill": {
              "color": "#C8D4E3"
             },
             "line": {
              "color": "white"
             }
            },
            "type": "table"
           }
          ]
         },
         "layout": {
          "annotationdefaults": {
           "arrowcolor": "#2a3f5f",
           "arrowhead": 0,
           "arrowwidth": 1
          },
          "coloraxis": {
           "colorbar": {
            "outlinewidth": 0,
            "ticks": ""
           }
          },
          "colorscale": {
           "diverging": [
            [
             0,
             "#8e0152"
            ],
            [
             0.1,
             "#c51b7d"
            ],
            [
             0.2,
             "#de77ae"
            ],
            [
             0.3,
             "#f1b6da"
            ],
            [
             0.4,
             "#fde0ef"
            ],
            [
             0.5,
             "#f7f7f7"
            ],
            [
             0.6,
             "#e6f5d0"
            ],
            [
             0.7,
             "#b8e186"
            ],
            [
             0.8,
             "#7fbc41"
            ],
            [
             0.9,
             "#4d9221"
            ],
            [
             1,
             "#276419"
            ]
           ],
           "sequential": [
            [
             0,
             "#0d0887"
            ],
            [
             0.1111111111111111,
             "#46039f"
            ],
            [
             0.2222222222222222,
             "#7201a8"
            ],
            [
             0.3333333333333333,
             "#9c179e"
            ],
            [
             0.4444444444444444,
             "#bd3786"
            ],
            [
             0.5555555555555556,
             "#d8576b"
            ],
            [
             0.6666666666666666,
             "#ed7953"
            ],
            [
             0.7777777777777778,
             "#fb9f3a"
            ],
            [
             0.8888888888888888,
             "#fdca26"
            ],
            [
             1,
             "#f0f921"
            ]
           ],
           "sequentialminus": [
            [
             0,
             "#0d0887"
            ],
            [
             0.1111111111111111,
             "#46039f"
            ],
            [
             0.2222222222222222,
             "#7201a8"
            ],
            [
             0.3333333333333333,
             "#9c179e"
            ],
            [
             0.4444444444444444,
             "#bd3786"
            ],
            [
             0.5555555555555556,
             "#d8576b"
            ],
            [
             0.6666666666666666,
             "#ed7953"
            ],
            [
             0.7777777777777778,
             "#fb9f3a"
            ],
            [
             0.8888888888888888,
             "#fdca26"
            ],
            [
             1,
             "#f0f921"
            ]
           ]
          },
          "colorway": [
           "#636efa",
           "#EF553B",
           "#00cc96",
           "#ab63fa",
           "#FFA15A",
           "#19d3f3",
           "#FF6692",
           "#B6E880",
           "#FF97FF",
           "#FECB52"
          ],
          "font": {
           "color": "#2a3f5f"
          },
          "geo": {
           "bgcolor": "white",
           "lakecolor": "white",
           "landcolor": "#E5ECF6",
           "showlakes": true,
           "showland": true,
           "subunitcolor": "white"
          },
          "hoverlabel": {
           "align": "left"
          },
          "hovermode": "closest",
          "mapbox": {
           "style": "light"
          },
          "paper_bgcolor": "white",
          "plot_bgcolor": "#E5ECF6",
          "polar": {
           "angularaxis": {
            "gridcolor": "white",
            "linecolor": "white",
            "ticks": ""
           },
           "bgcolor": "#E5ECF6",
           "radialaxis": {
            "gridcolor": "white",
            "linecolor": "white",
            "ticks": ""
           }
          },
          "scene": {
           "xaxis": {
            "backgroundcolor": "#E5ECF6",
            "gridcolor": "white",
            "gridwidth": 2,
            "linecolor": "white",
            "showbackground": true,
            "ticks": "",
            "zerolinecolor": "white"
           },
           "yaxis": {
            "backgroundcolor": "#E5ECF6",
            "gridcolor": "white",
            "gridwidth": 2,
            "linecolor": "white",
            "showbackground": true,
            "ticks": "",
            "zerolinecolor": "white"
           },
           "zaxis": {
            "backgroundcolor": "#E5ECF6",
            "gridcolor": "white",
            "gridwidth": 2,
            "linecolor": "white",
            "showbackground": true,
            "ticks": "",
            "zerolinecolor": "white"
           }
          },
          "shapedefaults": {
           "line": {
            "color": "#2a3f5f"
           }
          },
          "ternary": {
           "aaxis": {
            "gridcolor": "white",
            "linecolor": "white",
            "ticks": ""
           },
           "baxis": {
            "gridcolor": "white",
            "linecolor": "white",
            "ticks": ""
           },
           "bgcolor": "#E5ECF6",
           "caxis": {
            "gridcolor": "white",
            "linecolor": "white",
            "ticks": ""
           }
          },
          "title": {
           "x": 0.05
          },
          "xaxis": {
           "automargin": true,
           "gridcolor": "white",
           "linecolor": "white",
           "ticks": "",
           "title": {
            "standoff": 15
           },
           "zerolinecolor": "white",
           "zerolinewidth": 2
          },
          "yaxis": {
           "automargin": true,
           "gridcolor": "white",
           "linecolor": "white",
           "ticks": "",
           "title": {
            "standoff": 15
           },
           "zerolinecolor": "white",
           "zerolinewidth": 2
          }
         }
        },
        "title": {
         "font": {
          "size": 16
         },
         "text": "Concept Lattice"
        },
        "xaxis": {
         "showgrid": false,
         "showticklabels": false,
         "zeroline": false
        },
        "yaxis": {
         "showgrid": false,
         "showticklabels": false,
         "zeroline": false
        }
       }
      },
      "text/html": [
       "<div>\n",
       "        \n",
       "        \n",
       "            <div id=\"e61508d9-0c52-4ac9-a68c-2d5ba3904593\" class=\"plotly-graph-div\" style=\"height:525px; width:100%;\"></div>\n",
       "            <script type=\"text/javascript\">\n",
       "                require([\"plotly\"], function(Plotly) {\n",
       "                    window.PLOTLYENV=window.PLOTLYENV || {};\n",
       "                    \n",
       "                if (document.getElementById(\"e61508d9-0c52-4ac9-a68c-2d5ba3904593\")) {\n",
       "                    Plotly.newPlot(\n",
       "                        'e61508d9-0c52-4ac9-a68c-2d5ba3904593',\n",
       "                        [{\"hoverinfo\": \"none\", \"line\": {\"color\": \"#888\", \"width\": 0.5}, \"mode\": \"lines\", \"type\": \"scatter\", \"x\": [3.0, 0.0, null, 3.0, 0.5, null, 3.0, -2.5, null, 0.5, 0.0, null, 0.5, -2.0, null, 0.5, -1.0, null, 0.5, -3.0, null, -0.5, 0.0, null, -0.5, -2.0, null, 1.0, 0.0, null, 1.0, -1.0, null, 1.0, -1.5, null, 1.0, 0.0, null, -2.0, 2.0, null, -2.0, -1.0, null, -2.0, 1.0, null, 2.0, 0.0, null, 2.0, 0.0, null, 2.0, -3.0, null, 2.0, -1.0, null, 2.0, 0.5, null, 2.0, -0.5, null, -1.0, 1.5, null, -1.0, -0.5, null, 0.0, -2.5, null, 0.0, -1.5, null, 0.0, -0.5, null, 0.0, 0.5, null, 0.0, 1.5, null, 0.0, 2.5, null, -2.0, 0.0, null, -2.0, -1.5, null, -2.0, -2.5, null, 0.0, 0.0, null, 2.5, -1.0, null, 2.5, -3.0, null, 1.5, 0.0, null, 1.5, 1.0, null, 1.5, -3.0, null, 0.5, 1.0, null, 0.0, 1.0, null], \"y\": [4, 3, null, 4, 5, null, 4, 5, null, 2, 1, null, 2, 3, null, 2, 3, null, 2, 4, null, 2, 1, null, 2, 3, null, 3, 1, null, 3, 4, null, 3, 5, null, 3, 4, null, 3, 4, null, 3, 4, null, 3, 4, null, 3, 1, null, 3, 4, null, 3, 4, null, 4, 3, null, 4, 5, null, 4, 5, null, 4, 5, null, 4, 5, null, 6, 5, null, 6, 5, null, 6, 5, null, 6, 5, null, 6, 5, null, 6, 5, null, 4, 1, null, 4, 5, null, 4, 5, null, 1, 3, null, 5, 3, null, 5, 4, null, 5, 4, null, 5, 4, null, 5, 4, null, 5, 4, null, 3, 4, null]}, {\"hoverinfo\": \"text\", \"marker\": {\"color\": [3, 4, 2, 4, 5, 3, 4, 4, 6, 3, 6, 3, 5, 4, 3, 3, 3, 4, 3, 3, 3, 4], \"colorbar\": {\"thickness\": 15, \"title\": {\"side\": \"right\", \"text\": \"Node Connections\"}, \"xanchor\": \"left\"}, \"colorscale\": [[0.0, \"rgb(255,255,217)\"], [0.125, \"rgb(237,248,177)\"], [0.25, \"rgb(199,233,180)\"], [0.375, \"rgb(127,205,187)\"], [0.5, \"rgb(65,182,196)\"], [0.625, \"rgb(29,145,192)\"], [0.75, \"rgb(34,94,168)\"], [0.875, \"rgb(37,52,148)\"], [1.0, \"rgb(8,29,88)\"]], \"line\": {\"width\": 2}, \"reversescale\": true, \"showscale\": true, \"size\": 10}, \"mode\": \"markers\", \"text\": [\"Concept 15<br>extent (len: 2): apple,grapefruit<br>intent (len: 3): color_yellow,form_round,fruit<br>lower neighbours (len: 1): 16<br>upper neighbours (len: 2): 1,4<br>level: 2<br>\", \"Concept 20<br>extent (len: 1): mango<br>intent (len: 4): color_green,smooth,form_oval,fruit<br>lower neighbours (len: 1): 21<br>upper neighbours (len: 3): 13,14,7<br>level: 4<br>\", \"Concept 17<br>extent (len: 1): plum<br>intent (len: 4): color_blue,smooth,form_oval,fruit<br>lower neighbours (len: 1): 21<br>upper neighbours (len: 1): 13<br>level: 4<br>\", \"Concept 18<br>extent (len: 1): egg<br>intent (len: 4): color_white,firm,smooth,form_oval<br>lower neighbours (len: 1): 21<br>upper neighbours (len: 3): 9,10,2<br>level: 3<br>\", \"Concept 13<br>extent (len: 2): plum,mango<br>intent (len: 3): smooth,form_oval,fruit<br>lower neighbours (len: 2): 17,20<br>upper neighbours (len: 3): 9,11,12<br>level: 3<br>\", \"Concept 19<br>extent (len: 1): toy cube<br>intent (len: 4): color_green,firm,smooth,form_cubic<br>lower neighbours (len: 1): 21<br>upper neighbours (len: 2): 10,7<br>level: 3<br>\", \"Concept 12<br>extent (len: 3): kiwi,plum,mango<br>intent (len: 2): form_oval,fruit<br>lower neighbours (len: 2): 13,14<br>upper neighbours (len: 2): 3,4<br>level: 2<br>\", \"Concept 9<br>extent (len: 3): plum,egg,mango<br>intent (len: 2): smooth,form_oval<br>lower neighbours (len: 2): 18,13<br>upper neighbours (len: 2): 3,5<br>level: 2<br>\", \"Concept 0<br>extent (len: 8): apple,grapefruit,kiwi,plum,toy cube,egg,tennis ball,mango<br>intent (len: 0): emptyset<br>lower neighbours (len: 6): 1,2,3,4,5,6<br>upper neighbours (len: 0): emptyset<br>level: 0<br>\", \"Concept 8<br>extent (len: 1): tennis ball<br>intent (len: 2): color_white,form_round<br>lower neighbours (len: 1): 21<br>upper neighbours (len: 2): 1,2<br>level: 2<br>\", \"Concept 21<br>extent (len: 0): emptyset<br>intent (len: 10): color_yellow,color_green,color_blue,color_white,firm,smooth,form_round,form_oval,form_cubic,fruit<br>lower neighbours (len: 0): emptyset<br>upper neighbours (len: 6): 8,16,17,18,19,20<br>level: 5<br>\", \"Concept 6<br>extent (len: 3): kiwi,toy cube,mango<br>intent (len: 1): color_green<br>lower neighbours (len: 2): 14,7<br>upper neighbours (len: 1): 0<br>level: 1<br>\", \"Concept 5<br>extent (len: 5): apple,plum,toy cube,egg,mango<br>intent (len: 1): smooth<br>lower neighbours (len: 4): 9,10,11,7<br>upper neighbours (len: 1): 0<br>level: 1<br>\", \"Concept 4<br>extent (len: 5): apple,grapefruit,kiwi,plum,mango<br>intent (len: 1): fruit<br>lower neighbours (len: 3): 11,12,15<br>upper neighbours (len: 1): 0<br>level: 1<br>\", \"Concept 16<br>extent (len: 1): apple<br>intent (len: 4): color_yellow,smooth,form_round,fruit<br>lower neighbours (len: 1): 21<br>upper neighbours (len: 2): 11,15<br>level: 3<br>\", \"Concept 3<br>extent (len: 4): kiwi,plum,egg,mango<br>intent (len: 1): form_oval<br>lower neighbours (len: 2): 9,12<br>upper neighbours (len: 1): 0<br>level: 1<br>\", \"Concept 2<br>extent (len: 2): egg,tennis ball<br>intent (len: 1): color_white<br>lower neighbours (len: 2): 8,18<br>upper neighbours (len: 1): 0<br>level: 1<br>\", \"Concept 11<br>extent (len: 3): apple,plum,mango<br>intent (len: 2): smooth,fruit<br>lower neighbours (len: 2): 16,13<br>upper neighbours (len: 2): 4,5<br>level: 2<br>\", \"Concept 14<br>extent (len: 2): kiwi,mango<br>intent (len: 3): color_green,form_oval,fruit<br>lower neighbours (len: 1): 20<br>upper neighbours (len: 2): 12,6<br>level: 3<br>\", \"Concept 10<br>extent (len: 2): toy cube,egg<br>intent (len: 2): firm,smooth<br>lower neighbours (len: 2): 18,19<br>upper neighbours (len: 1): 5<br>level: 2<br>\", \"Concept 1<br>extent (len: 3): apple,grapefruit,tennis ball<br>intent (len: 1): form_round<br>lower neighbours (len: 2): 8,15<br>upper neighbours (len: 1): 0<br>level: 1<br>\", \"Concept 7<br>extent (len: 2): toy cube,mango<br>intent (len: 2): color_green,smooth<br>lower neighbours (len: 2): 19,20<br>upper neighbours (len: 2): 5,6<br>level: 2<br>\"], \"type\": \"scatter\", \"x\": [3.0, 0.5, -0.5, 1.0, -2.0, 2.0, 2.0, -1.0, 0.0, -2.0, 0.0, 2.5, 1.5, 0.5, 0.0, -0.5, -1.5, 1.0, -1.0, 0.0, -2.5, -3.0], \"y\": [4, 2, 2, 3, 3, 3, 4, 4, 6, 4, 1, 5, 5, 5, 3, 5, 5, 4, 3, 4, 5, 4]}],\n",
       "                        {\"hovermode\": \"closest\", \"margin\": {\"b\": 20, \"l\": 5, \"r\": 5, \"t\": 40}, \"showlegend\": false, \"template\": {\"data\": {\"bar\": [{\"error_x\": {\"color\": \"#2a3f5f\"}, \"error_y\": {\"color\": \"#2a3f5f\"}, \"marker\": {\"line\": {\"color\": \"#E5ECF6\", \"width\": 0.5}}, \"type\": \"bar\"}], \"barpolar\": [{\"marker\": {\"line\": {\"color\": \"#E5ECF6\", \"width\": 0.5}}, \"type\": \"barpolar\"}], \"carpet\": [{\"aaxis\": {\"endlinecolor\": \"#2a3f5f\", \"gridcolor\": \"white\", \"linecolor\": \"white\", \"minorgridcolor\": \"white\", \"startlinecolor\": \"#2a3f5f\"}, \"baxis\": {\"endlinecolor\": \"#2a3f5f\", \"gridcolor\": \"white\", \"linecolor\": \"white\", \"minorgridcolor\": \"white\", \"startlinecolor\": \"#2a3f5f\"}, \"type\": \"carpet\"}], \"choropleth\": [{\"colorbar\": {\"outlinewidth\": 0, \"ticks\": \"\"}, \"type\": \"choropleth\"}], \"contour\": [{\"colorbar\": {\"outlinewidth\": 0, \"ticks\": \"\"}, \"colorscale\": [[0.0, \"#0d0887\"], [0.1111111111111111, \"#46039f\"], [0.2222222222222222, \"#7201a8\"], [0.3333333333333333, \"#9c179e\"], [0.4444444444444444, \"#bd3786\"], [0.5555555555555556, \"#d8576b\"], [0.6666666666666666, \"#ed7953\"], [0.7777777777777778, \"#fb9f3a\"], [0.8888888888888888, \"#fdca26\"], [1.0, \"#f0f921\"]], \"type\": \"contour\"}], \"contourcarpet\": [{\"colorbar\": {\"outlinewidth\": 0, \"ticks\": \"\"}, \"type\": \"contourcarpet\"}], \"heatmap\": [{\"colorbar\": {\"outlinewidth\": 0, \"ticks\": \"\"}, \"colorscale\": [[0.0, \"#0d0887\"], [0.1111111111111111, \"#46039f\"], [0.2222222222222222, \"#7201a8\"], [0.3333333333333333, \"#9c179e\"], [0.4444444444444444, \"#bd3786\"], [0.5555555555555556, \"#d8576b\"], [0.6666666666666666, \"#ed7953\"], [0.7777777777777778, \"#fb9f3a\"], [0.8888888888888888, \"#fdca26\"], [1.0, \"#f0f921\"]], \"type\": \"heatmap\"}], \"heatmapgl\": [{\"colorbar\": {\"outlinewidth\": 0, \"ticks\": \"\"}, \"colorscale\": [[0.0, \"#0d0887\"], [0.1111111111111111, \"#46039f\"], [0.2222222222222222, \"#7201a8\"], [0.3333333333333333, \"#9c179e\"], [0.4444444444444444, \"#bd3786\"], [0.5555555555555556, \"#d8576b\"], [0.6666666666666666, \"#ed7953\"], [0.7777777777777778, \"#fb9f3a\"], [0.8888888888888888, \"#fdca26\"], [1.0, \"#f0f921\"]], \"type\": \"heatmapgl\"}], \"histogram\": [{\"marker\": {\"colorbar\": {\"outlinewidth\": 0, \"ticks\": \"\"}}, \"type\": \"histogram\"}], \"histogram2d\": [{\"colorbar\": {\"outlinewidth\": 0, \"ticks\": \"\"}, \"colorscale\": [[0.0, \"#0d0887\"], [0.1111111111111111, \"#46039f\"], [0.2222222222222222, \"#7201a8\"], [0.3333333333333333, \"#9c179e\"], [0.4444444444444444, \"#bd3786\"], [0.5555555555555556, \"#d8576b\"], [0.6666666666666666, \"#ed7953\"], [0.7777777777777778, \"#fb9f3a\"], [0.8888888888888888, \"#fdca26\"], [1.0, \"#f0f921\"]], \"type\": \"histogram2d\"}], \"histogram2dcontour\": [{\"colorbar\": {\"outlinewidth\": 0, \"ticks\": \"\"}, \"colorscale\": [[0.0, \"#0d0887\"], [0.1111111111111111, \"#46039f\"], [0.2222222222222222, \"#7201a8\"], [0.3333333333333333, \"#9c179e\"], [0.4444444444444444, \"#bd3786\"], [0.5555555555555556, \"#d8576b\"], [0.6666666666666666, \"#ed7953\"], [0.7777777777777778, \"#fb9f3a\"], [0.8888888888888888, \"#fdca26\"], [1.0, \"#f0f921\"]], \"type\": \"histogram2dcontour\"}], \"mesh3d\": [{\"colorbar\": {\"outlinewidth\": 0, \"ticks\": \"\"}, \"type\": \"mesh3d\"}], \"parcoords\": [{\"line\": {\"colorbar\": {\"outlinewidth\": 0, \"ticks\": \"\"}}, \"type\": \"parcoords\"}], \"pie\": [{\"automargin\": true, \"type\": \"pie\"}], \"scatter\": [{\"marker\": {\"colorbar\": {\"outlinewidth\": 0, \"ticks\": \"\"}}, \"type\": \"scatter\"}], \"scatter3d\": [{\"line\": {\"colorbar\": {\"outlinewidth\": 0, \"ticks\": \"\"}}, \"marker\": {\"colorbar\": {\"outlinewidth\": 0, \"ticks\": \"\"}}, \"type\": \"scatter3d\"}], \"scattercarpet\": [{\"marker\": {\"colorbar\": {\"outlinewidth\": 0, \"ticks\": \"\"}}, \"type\": \"scattercarpet\"}], \"scattergeo\": [{\"marker\": {\"colorbar\": {\"outlinewidth\": 0, \"ticks\": \"\"}}, \"type\": \"scattergeo\"}], \"scattergl\": [{\"marker\": {\"colorbar\": {\"outlinewidth\": 0, \"ticks\": \"\"}}, \"type\": \"scattergl\"}], \"scattermapbox\": [{\"marker\": {\"colorbar\": {\"outlinewidth\": 0, \"ticks\": \"\"}}, \"type\": \"scattermapbox\"}], \"scatterpolar\": [{\"marker\": {\"colorbar\": {\"outlinewidth\": 0, \"ticks\": \"\"}}, \"type\": \"scatterpolar\"}], \"scatterpolargl\": [{\"marker\": {\"colorbar\": {\"outlinewidth\": 0, \"ticks\": \"\"}}, \"type\": \"scatterpolargl\"}], \"scatterternary\": [{\"marker\": {\"colorbar\": {\"outlinewidth\": 0, \"ticks\": \"\"}}, \"type\": \"scatterternary\"}], \"surface\": [{\"colorbar\": {\"outlinewidth\": 0, \"ticks\": \"\"}, \"colorscale\": [[0.0, \"#0d0887\"], [0.1111111111111111, \"#46039f\"], [0.2222222222222222, \"#7201a8\"], [0.3333333333333333, \"#9c179e\"], [0.4444444444444444, \"#bd3786\"], [0.5555555555555556, \"#d8576b\"], [0.6666666666666666, \"#ed7953\"], [0.7777777777777778, \"#fb9f3a\"], [0.8888888888888888, \"#fdca26\"], [1.0, \"#f0f921\"]], \"type\": \"surface\"}], \"table\": [{\"cells\": {\"fill\": {\"color\": \"#EBF0F8\"}, \"line\": {\"color\": \"white\"}}, \"header\": {\"fill\": {\"color\": \"#C8D4E3\"}, \"line\": {\"color\": \"white\"}}, \"type\": \"table\"}]}, \"layout\": {\"annotationdefaults\": {\"arrowcolor\": \"#2a3f5f\", \"arrowhead\": 0, \"arrowwidth\": 1}, \"coloraxis\": {\"colorbar\": {\"outlinewidth\": 0, \"ticks\": \"\"}}, \"colorscale\": {\"diverging\": [[0, \"#8e0152\"], [0.1, \"#c51b7d\"], [0.2, \"#de77ae\"], [0.3, \"#f1b6da\"], [0.4, \"#fde0ef\"], [0.5, \"#f7f7f7\"], [0.6, \"#e6f5d0\"], [0.7, \"#b8e186\"], [0.8, \"#7fbc41\"], [0.9, \"#4d9221\"], [1, \"#276419\"]], \"sequential\": [[0.0, \"#0d0887\"], [0.1111111111111111, \"#46039f\"], [0.2222222222222222, \"#7201a8\"], [0.3333333333333333, \"#9c179e\"], [0.4444444444444444, \"#bd3786\"], [0.5555555555555556, \"#d8576b\"], [0.6666666666666666, \"#ed7953\"], [0.7777777777777778, \"#fb9f3a\"], [0.8888888888888888, \"#fdca26\"], [1.0, \"#f0f921\"]], \"sequentialminus\": [[0.0, \"#0d0887\"], [0.1111111111111111, \"#46039f\"], [0.2222222222222222, \"#7201a8\"], [0.3333333333333333, \"#9c179e\"], [0.4444444444444444, \"#bd3786\"], [0.5555555555555556, \"#d8576b\"], [0.6666666666666666, \"#ed7953\"], [0.7777777777777778, \"#fb9f3a\"], [0.8888888888888888, \"#fdca26\"], [1.0, \"#f0f921\"]]}, \"colorway\": [\"#636efa\", \"#EF553B\", \"#00cc96\", \"#ab63fa\", \"#FFA15A\", \"#19d3f3\", \"#FF6692\", \"#B6E880\", \"#FF97FF\", \"#FECB52\"], \"font\": {\"color\": \"#2a3f5f\"}, \"geo\": {\"bgcolor\": \"white\", \"lakecolor\": \"white\", \"landcolor\": \"#E5ECF6\", \"showlakes\": true, \"showland\": true, \"subunitcolor\": \"white\"}, \"hoverlabel\": {\"align\": \"left\"}, \"hovermode\": \"closest\", \"mapbox\": {\"style\": \"light\"}, \"paper_bgcolor\": \"white\", \"plot_bgcolor\": \"#E5ECF6\", \"polar\": {\"angularaxis\": {\"gridcolor\": \"white\", \"linecolor\": \"white\", \"ticks\": \"\"}, \"bgcolor\": \"#E5ECF6\", \"radialaxis\": {\"gridcolor\": \"white\", \"linecolor\": \"white\", \"ticks\": \"\"}}, \"scene\": {\"xaxis\": {\"backgroundcolor\": \"#E5ECF6\", \"gridcolor\": \"white\", \"gridwidth\": 2, \"linecolor\": \"white\", \"showbackground\": true, \"ticks\": \"\", \"zerolinecolor\": \"white\"}, \"yaxis\": {\"backgroundcolor\": \"#E5ECF6\", \"gridcolor\": \"white\", \"gridwidth\": 2, \"linecolor\": \"white\", \"showbackground\": true, \"ticks\": \"\", \"zerolinecolor\": \"white\"}, \"zaxis\": {\"backgroundcolor\": \"#E5ECF6\", \"gridcolor\": \"white\", \"gridwidth\": 2, \"linecolor\": \"white\", \"showbackground\": true, \"ticks\": \"\", \"zerolinecolor\": \"white\"}}, \"shapedefaults\": {\"line\": {\"color\": \"#2a3f5f\"}}, \"ternary\": {\"aaxis\": {\"gridcolor\": \"white\", \"linecolor\": \"white\", \"ticks\": \"\"}, \"baxis\": {\"gridcolor\": \"white\", \"linecolor\": \"white\", \"ticks\": \"\"}, \"bgcolor\": \"#E5ECF6\", \"caxis\": {\"gridcolor\": \"white\", \"linecolor\": \"white\", \"ticks\": \"\"}}, \"title\": {\"x\": 0.05}, \"xaxis\": {\"automargin\": true, \"gridcolor\": \"white\", \"linecolor\": \"white\", \"ticks\": \"\", \"title\": {\"standoff\": 15}, \"zerolinecolor\": \"white\", \"zerolinewidth\": 2}, \"yaxis\": {\"automargin\": true, \"gridcolor\": \"white\", \"linecolor\": \"white\", \"ticks\": \"\", \"title\": {\"standoff\": 15}, \"zerolinecolor\": \"white\", \"zerolinewidth\": 2}}}, \"title\": {\"font\": {\"size\": 16}, \"text\": \"Concept Lattice\"}, \"xaxis\": {\"showgrid\": false, \"showticklabels\": false, \"zeroline\": false}, \"yaxis\": {\"showgrid\": false, \"showticklabels\": false, \"zeroline\": false}},\n",
       "                        {\"responsive\": true}\n",
       "                    ).then(function(){\n",
       "                            \n",
       "var gd = document.getElementById('e61508d9-0c52-4ac9-a68c-2d5ba3904593');\n",
       "var x = new MutationObserver(function (mutations, observer) {{\n",
       "        var display = window.getComputedStyle(gd).display;\n",
       "        if (!display || display === 'none') {{\n",
       "            console.log([gd, 'removed!']);\n",
       "            Plotly.purge(gd);\n",
       "            observer.disconnect();\n",
       "        }}\n",
       "}});\n",
       "\n",
       "// Listen for the removal of the full notebook cells\n",
       "var notebookContainer = gd.closest('#notebook-container');\n",
       "if (notebookContainer) {{\n",
       "    x.observe(notebookContainer, {childList: true});\n",
       "}}\n",
       "\n",
       "// Listen for the clearing of the current output cell\n",
       "var outputEl = gd.closest('.output');\n",
       "if (outputEl) {{\n",
       "    x.observe(outputEl, {childList: true});\n",
       "}}\n",
       "\n",
       "                        })\n",
       "                };\n",
       "                });\n",
       "            </script>\n",
       "        </div>"
      ]
     },
     "metadata": {},
     "output_type": "display_data"
    }
   ],
   "source": [
    "fig.show()"
   ]
  }
 ],
 "metadata": {
  "kernelspec": {
   "display_name": "Python 3",
   "language": "python",
   "name": "python3"
  },
  "language_info": {
   "codemirror_mode": {
    "name": "ipython",
    "version": 3
   },
   "file_extension": ".py",
   "mimetype": "text/x-python",
   "name": "python",
   "nbconvert_exporter": "python",
   "pygments_lexer": "ipython3",
   "version": "3.7.1"
  }
 },
 "nbformat": 4,
 "nbformat_minor": 2
}
