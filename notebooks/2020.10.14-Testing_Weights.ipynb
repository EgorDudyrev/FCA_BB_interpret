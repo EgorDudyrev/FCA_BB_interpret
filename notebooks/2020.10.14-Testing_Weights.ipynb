{
 "cells": [
  {
   "cell_type": "code",
   "execution_count": 1,
   "metadata": {},
   "outputs": [],
   "source": [
    "import numpy as np\n",
    "import pandas as pd\n",
    "\n",
    "import matplotlib.pyplot as plt\n",
    "import seaborn as sns\n",
    "from tqdm.notebook import tqdm\n",
    "\n",
    "from importlib import reload"
   ]
  },
  {
   "cell_type": "markdown",
   "metadata": {},
   "source": [
    "Загрузка библиотеки с FCA"
   ]
  },
  {
   "cell_type": "code",
   "execution_count": 2,
   "metadata": {},
   "outputs": [],
   "source": [
    "import os\n",
    "import sys\n",
    "BASE_PATH = os.path.realpath('..')\n",
    "LIB_DIR = os.path.join(BASE_PATH,'lib')\n",
    "if LIB_DIR[:-3] not in sys.path:\n",
    "    sys.path.append(LIB_DIR[:-3])\n",
    "\n",
    "from lib import fca_interp as fcai"
   ]
  },
  {
   "cell_type": "markdown",
   "metadata": {},
   "source": [
    "# Load Data"
   ]
  },
  {
   "cell_type": "code",
   "execution_count": 3,
   "metadata": {},
   "outputs": [
    {
     "name": "stdout",
     "output_type": "stream",
     "text": [
      "(506, 14)\n"
     ]
    },
    {
     "data": {
      "text/html": [
       "<div>\n",
       "<style scoped>\n",
       "    .dataframe tbody tr th:only-of-type {\n",
       "        vertical-align: middle;\n",
       "    }\n",
       "\n",
       "    .dataframe tbody tr th {\n",
       "        vertical-align: top;\n",
       "    }\n",
       "\n",
       "    .dataframe thead th {\n",
       "        text-align: right;\n",
       "    }\n",
       "</style>\n",
       "<table border=\"1\" class=\"dataframe\">\n",
       "  <thead>\n",
       "    <tr style=\"text-align: right;\">\n",
       "      <th></th>\n",
       "      <th>CRIM</th>\n",
       "      <th>ZN</th>\n",
       "      <th>INDUS</th>\n",
       "      <th>CHAS</th>\n",
       "      <th>NOX</th>\n",
       "      <th>RM</th>\n",
       "      <th>AGE</th>\n",
       "      <th>DIS</th>\n",
       "      <th>RAD</th>\n",
       "      <th>TAX</th>\n",
       "      <th>PTRATIO</th>\n",
       "      <th>B</th>\n",
       "      <th>LSTAT</th>\n",
       "      <th>target</th>\n",
       "    </tr>\n",
       "  </thead>\n",
       "  <tbody>\n",
       "    <tr>\n",
       "      <th>0</th>\n",
       "      <td>0.00632</td>\n",
       "      <td>18.0</td>\n",
       "      <td>2.31</td>\n",
       "      <td>0.0</td>\n",
       "      <td>0.538</td>\n",
       "      <td>6.575</td>\n",
       "      <td>65.2</td>\n",
       "      <td>4.0900</td>\n",
       "      <td>1.0</td>\n",
       "      <td>296.0</td>\n",
       "      <td>15.3</td>\n",
       "      <td>396.90</td>\n",
       "      <td>4.98</td>\n",
       "      <td>24.0</td>\n",
       "    </tr>\n",
       "    <tr>\n",
       "      <th>1</th>\n",
       "      <td>0.02731</td>\n",
       "      <td>0.0</td>\n",
       "      <td>7.07</td>\n",
       "      <td>0.0</td>\n",
       "      <td>0.469</td>\n",
       "      <td>6.421</td>\n",
       "      <td>78.9</td>\n",
       "      <td>4.9671</td>\n",
       "      <td>2.0</td>\n",
       "      <td>242.0</td>\n",
       "      <td>17.8</td>\n",
       "      <td>396.90</td>\n",
       "      <td>9.14</td>\n",
       "      <td>21.6</td>\n",
       "    </tr>\n",
       "    <tr>\n",
       "      <th>2</th>\n",
       "      <td>0.02729</td>\n",
       "      <td>0.0</td>\n",
       "      <td>7.07</td>\n",
       "      <td>0.0</td>\n",
       "      <td>0.469</td>\n",
       "      <td>7.185</td>\n",
       "      <td>61.1</td>\n",
       "      <td>4.9671</td>\n",
       "      <td>2.0</td>\n",
       "      <td>242.0</td>\n",
       "      <td>17.8</td>\n",
       "      <td>392.83</td>\n",
       "      <td>4.03</td>\n",
       "      <td>34.7</td>\n",
       "    </tr>\n",
       "    <tr>\n",
       "      <th>3</th>\n",
       "      <td>0.03237</td>\n",
       "      <td>0.0</td>\n",
       "      <td>2.18</td>\n",
       "      <td>0.0</td>\n",
       "      <td>0.458</td>\n",
       "      <td>6.998</td>\n",
       "      <td>45.8</td>\n",
       "      <td>6.0622</td>\n",
       "      <td>3.0</td>\n",
       "      <td>222.0</td>\n",
       "      <td>18.7</td>\n",
       "      <td>394.63</td>\n",
       "      <td>2.94</td>\n",
       "      <td>33.4</td>\n",
       "    </tr>\n",
       "    <tr>\n",
       "      <th>4</th>\n",
       "      <td>0.06905</td>\n",
       "      <td>0.0</td>\n",
       "      <td>2.18</td>\n",
       "      <td>0.0</td>\n",
       "      <td>0.458</td>\n",
       "      <td>7.147</td>\n",
       "      <td>54.2</td>\n",
       "      <td>6.0622</td>\n",
       "      <td>3.0</td>\n",
       "      <td>222.0</td>\n",
       "      <td>18.7</td>\n",
       "      <td>396.90</td>\n",
       "      <td>5.33</td>\n",
       "      <td>36.2</td>\n",
       "    </tr>\n",
       "  </tbody>\n",
       "</table>\n",
       "</div>"
      ],
      "text/plain": [
       "      CRIM    ZN  INDUS  CHAS    NOX     RM   AGE     DIS  RAD    TAX  \\\n",
       "0  0.00632  18.0   2.31   0.0  0.538  6.575  65.2  4.0900  1.0  296.0   \n",
       "1  0.02731   0.0   7.07   0.0  0.469  6.421  78.9  4.9671  2.0  242.0   \n",
       "2  0.02729   0.0   7.07   0.0  0.469  7.185  61.1  4.9671  2.0  242.0   \n",
       "3  0.03237   0.0   2.18   0.0  0.458  6.998  45.8  6.0622  3.0  222.0   \n",
       "4  0.06905   0.0   2.18   0.0  0.458  7.147  54.2  6.0622  3.0  222.0   \n",
       "\n",
       "   PTRATIO       B  LSTAT  target  \n",
       "0     15.3  396.90   4.98    24.0  \n",
       "1     17.8  396.90   9.14    21.6  \n",
       "2     17.8  392.83   4.03    34.7  \n",
       "3     18.7  394.63   2.94    33.4  \n",
       "4     18.7  396.90   5.33    36.2  "
      ]
     },
     "execution_count": 3,
     "metadata": {},
     "output_type": "execute_result"
    }
   ],
   "source": [
    "from sklearn.datasets import load_boston\n",
    "\n",
    "boston_data = load_boston()\n",
    "boston_ds = pd.DataFrame(boston_data['data'], columns=boston_data['feature_names'])\n",
    "boston_ds['target'] = boston_data['target']\n",
    "print(boston_ds.shape)\n",
    "boston_ds.head()"
   ]
  },
  {
   "cell_type": "code",
   "execution_count": 4,
   "metadata": {},
   "outputs": [],
   "source": [
    "train_feats = list(boston_ds.drop('target',1).columns)\n",
    "y_feat = 'target'"
   ]
  },
  {
   "cell_type": "code",
   "execution_count": 5,
   "metadata": {},
   "outputs": [
    {
     "data": {
      "image/png": "[encoded data removed]",
      "text/plain": [
       "<Figure size 432x288 with 1 Axes>"
      ]
     },
     "metadata": {
      "needs_background": "light"
     },
     "output_type": "display_data"
    }
   ],
   "source": [
    "sns.distplot(boston_ds[y_feat])\n",
    "plt.title('Target Distribution')\n",
    "plt.show()"
   ]
  },
  {
   "cell_type": "code",
   "execution_count": 6,
   "metadata": {},
   "outputs": [
    {
     "data": {
      "text/plain": [
       "[(455, 13), (51, 13), (455,), (51,)]"
      ]
     },
     "execution_count": 6,
     "metadata": {},
     "output_type": "execute_result"
    }
   ],
   "source": [
    "from sklearn.model_selection import train_test_split\n",
    "\n",
    "X_train, X_test, y_train,  y_test = train_test_split(boston_ds[train_feats], boston_ds[y_feat], test_size=0.1)\n",
    "[x.shape for x in [X_train, X_test, y_train,  y_test]]"
   ]
  },
  {
   "cell_type": "markdown",
   "metadata": {},
   "source": [
    "# Check competitors qualities"
   ]
  },
  {
   "cell_type": "code",
   "execution_count": 7,
   "metadata": {},
   "outputs": [],
   "source": [
    "from sklearn.metrics import mean_absolute_error, mean_squared_error, r2_score"
   ]
  },
  {
   "cell_type": "code",
   "execution_count": 8,
   "metadata": {},
   "outputs": [],
   "source": [
    "def calc_metrics(model_name, y_train, y_test, preds_train, preds_test, ds_full=None):\n",
    "    q_dict = {}\n",
    "    for metric in [mean_absolute_error, mean_squared_error, r2_score]:\n",
    "        q_dict[(metric.__name__,\"train\")] = metric(y_train, preds_train)\n",
    "        q_dict[(metric.__name__,\"test\")] = metric(y_test, preds_test)\n",
    "    q_dict_ = {model_name:q_dict}\n",
    "    q_dict = q_dict_\n",
    "    del q_dict_\n",
    "    q_dict = pd.DataFrame(q_dict).reset_index().rename(columns={'level_0':'metric','level_1':'ds'})\n",
    "    \n",
    "    if ds_full is not None:\n",
    "        if model_name in ds_full.columns:\n",
    "            ds_full = ds_full.drop(model_name, 1)\n",
    "        ds_full = ds_full.merge(q_dict, on=['metric','ds'])\n",
    "    else:\n",
    "        ds_full = q_dict\n",
    "    return ds_full"
   ]
  },
  {
   "cell_type": "code",
   "execution_count": 9,
   "metadata": {},
   "outputs": [],
   "source": [
    "def plot_metrics(ds, figsize=(15,5)):\n",
    "    plt.figure(figsize=figsize)\n",
    "    for m_idx, metric in enumerate(ds['metric'].unique()):\n",
    "        cds = ds[ds['metric']==metric]\n",
    "\n",
    "        plt.subplot(1,3,m_idx+1)\n",
    "        for ds_idx, ds_type in enumerate(['train','test']):\n",
    "            vals = cds[cds['ds']==ds_type].drop(['metric','ds'],1).values[0]\n",
    "            plt.barh(np.arange(len(vals))+0.3*ds_idx, vals, height=0.3, label=ds_type)\n",
    "            for v_idx, v in enumerate(vals):\n",
    "                plt.text(v, v_idx-0.05+0.3*ds_idx, f\"{v:.2f}\")\n",
    "        plt.legend(loc='lower left')\n",
    "        plt.yticks(np.arange(cds.shape[1]-2), cds.drop(['metric','ds'],1).columns, rotation=0)\n",
    "        plt.title(metric)\n",
    "    plt.tight_layout()\n",
    "    plt.show()    "
   ]
  },
  {
   "cell_type": "code",
   "execution_count": 10,
   "metadata": {},
   "outputs": [
    {
     "data": {
      "application/vnd.jupyter.widget-view+json": {
       "model_id": "eeb8188b187645ef8a31d3fc183be37c",
       "version_major": 2,
       "version_minor": 0
      },
      "text/plain": [
       "HBox(children=(FloatProgress(value=0.0, max=5.0), HTML(value='')))"
      ]
     },
     "metadata": {},
     "output_type": "display_data"
    },
    {
     "name": "stdout",
     "output_type": "stream",
     "text": [
      "\n"
     ]
    }
   ],
   "source": [
    "from sklearn.linear_model import LinearRegression\n",
    "from sklearn.tree import DecisionTreeRegressor\n",
    "from sklearn.ensemble import RandomForestRegressor\n",
    "from xgboost import XGBRegressor\n",
    "from catboost import CatBoostRegressor, Pool\n",
    "\n",
    "\n",
    "models = [LinearRegression(), DecisionTreeRegressor(), RandomForestRegressor(),\n",
    "          XGBRegressor(), CatBoostRegressor()]\n",
    "comp_qualities = None\n",
    "for m in tqdm(models):\n",
    "    if type(m)==CatBoostRegressor:\n",
    "        p_train, p_test = Pool(X_train, y_train), Pool(X_test, y_test)\n",
    "        m.fit(p_train, verbose=False)\n",
    "        preds_train, preds_test = [m.predict(p) for p in [p_train, p_test]]\n",
    "    else:\n",
    "        m.fit(X_train, y_train)\n",
    "        preds_train, preds_test = [m.predict(p) for p in [X_train, X_test]]\n",
    "    \n",
    "    comp_qualities = calc_metrics(m.__class__.__name__, y_train, y_test, preds_train, preds_test, comp_qualities)"
   ]
  },
  {
   "cell_type": "code",
   "execution_count": 11,
   "metadata": {},
   "outputs": [
    {
     "data": {
      "image/png": "[encoded data removed]",
      "text/plain": [
       "<Figure size 1080x244.8 with 3 Axes>"
      ]
     },
     "metadata": {
      "needs_background": "light"
     },
     "output_type": "display_data"
    }
   ],
   "source": [
    "plot_metrics(comp_qualities, figsize=(15,3.4))"
   ]
  },
  {
   "cell_type": "markdown",
   "metadata": {},
   "source": [
    "# Multi-valued contexts\n",
    "\n",
    "Работа с узорными структурами.\n",
    "\n",
    "\n",
    "Сейчас реализованы только:\n",
    "* интервальная узорная структура ($g^{'} = [a_{min}, a_{max}], \\quad g_1^{'}\\sqcap g_2^{'} = [min(a_{1_{min}}, a_{2_{min}}), max(a_{1_{max}}, a_{2_{max}}  )],\\quad$ где $g$ - объект, $a_{min}, a_{max} \\in \\mathbb{R}$)\n",
    "* узорная структура на множествах ($g^{'} = A, \\quad g_1^{'}\\sqcap g_2^{'} = A_1 \\cap A_2,\\quad$ где $g$ - объект, $A \\subseteq W$,$W$ - множество каких-то значений)"
   ]
  },
  {
   "cell_type": "markdown",
   "metadata": {},
   "source": [
    "## Lattice construction on big data for supervised learning\n",
    "\n",
    "На больших контекстах нет смысла рассчитывать все понятия. Будем аппроксимировать решётку через объединение нескольких деревьев решений (про это будет моя магистерская). Возможно такую решётку нельзя будет рассматривать, как средство для KDD (тут лучше пользоваться алгоритмом sofia, который у меня пока не имплементирова), зато её можно использовать для классификации объектов."
   ]
  },
  {
   "cell_type": "markdown",
   "metadata": {},
   "source": [
    "### Конструирование аппроксимированной решётки"
   ]
  },
  {
   "cell_type": "markdown",
   "metadata": {},
   "source": [
    "Делим контекст на обучающую и тестовую выборки."
   ]
  },
  {
   "cell_type": "code",
   "execution_count": 12,
   "metadata": {},
   "outputs": [],
   "source": [
    "fcai = reload(fcai)"
   ]
  },
  {
   "cell_type": "code",
   "execution_count": 13,
   "metadata": {},
   "outputs": [],
   "source": [
    "np.random.seed(42)\n",
    "\n",
    "mvcntx_train = fcai.MultiValuedContext(X_train, y_true=y_train, cat_attrs=[])\n",
    "mvcntx_test = fcai.MultiValuedContext(X_test, y_true=y_test, cat_attrs=[])\n",
    "fm_mv = fcai.FormalManager(mvcntx_train, task_type='Regression')"
   ]
  },
  {
   "cell_type": "markdown",
   "metadata": {},
   "source": [
    "Строим понятия на обучающей выборке"
   ]
  },
  {
   "cell_type": "code",
   "execution_count": 14,
   "metadata": {},
   "outputs": [
    {
     "data": {
      "application/vnd.jupyter.widget-view+json": {
       "model_id": "1c220356b8ac4eed8a2df2fefd0e465a",
       "version_major": 2,
       "version_minor": 0
      },
      "text/plain": [
       "HBox(children=(FloatProgress(value=0.0, description='Postprocessing', max=29623.0, style=ProgressStyle(descrip…"
      ]
     },
     "metadata": {},
     "output_type": "display_data"
    },
    {
     "name": "stdout",
     "output_type": "stream",
     "text": [
      "\n",
      "29623\n",
      "CPU times: user 19.5 s, sys: 265 ms, total: 19.7 s\n",
      "Wall time: 19.6 s\n"
     ]
    }
   ],
   "source": [
    "%%time\n",
    "fm_mv.construct_concepts(\n",
    "    use_tqdm=True, algo='RandomForest',\n",
    "    rf_params={})\n",
    "print(len(fm_mv.get_concepts()))"
   ]
  },
  {
   "cell_type": "markdown",
   "metadata": {},
   "source": [
    "Небольшой костыль - добавляем в решётку самое меньшее понятие, которое ничего не описывает. Это нужно только для красивой визуализации и корректного расчёта индексов стабильности."
   ]
  },
  {
   "cell_type": "code",
   "execution_count": 15,
   "metadata": {},
   "outputs": [],
   "source": [
    "fm_mv._concepts.add(\n",
    "    fcai.PatternStructure(\n",
    "        extent=[], intent=None, cat_feats=[],\n",
    "        idx=len(fm_mv.get_concepts()), metrics={'mean_y_true':0} ) )"
   ]
  },
  {
   "cell_type": "markdown",
   "metadata": {},
   "source": [
    "Строим остовное дерево на понятиях. Для классификации объектов не обязательно рассчитывать всю решётку, все связи между понятиями."
   ]
  },
  {
   "cell_type": "code",
   "execution_count": 16,
   "metadata": {},
   "outputs": [
    {
     "data": {
      "application/vnd.jupyter.widget-view+json": {
       "model_id": "33bc15f364d04f199270d28b92c4d84b",
       "version_major": 2,
       "version_minor": 0
      },
      "text/plain": [
       "HBox(children=(FloatProgress(value=0.0, description='construct spanning tree', max=29624.0, style=ProgressStyl…"
      ]
     },
     "metadata": {},
     "output_type": "display_data"
    },
    {
     "name": "stdout",
     "output_type": "stream",
     "text": [
      "\n",
      "CPU times: user 7.46 s, sys: 83.9 ms, total: 7.55 s\n",
      "Wall time: 7.49 s\n"
     ]
    }
   ],
   "source": [
    "%%time\n",
    "fm_mv.construct_lattice(use_tqdm=True, only_spanning_tree=True)"
   ]
  },
  {
   "cell_type": "markdown",
   "metadata": {},
   "source": [
    "Небольшой костыль, чтобы можно было визуализировать получившееся остовное дерево. При расчёте решётки понятий этот код происходит автоматически."
   ]
  },
  {
   "cell_type": "code",
   "execution_count": 17,
   "metadata": {},
   "outputs": [
    {
     "data": {
      "application/vnd.jupyter.widget-view+json": {
       "model_id": "848c7513ddb0416496eb37b9a1fbe74a",
       "version_major": 2,
       "version_minor": 0
      },
      "text/plain": [
       "HBox(children=(FloatProgress(value=0.0, max=29624.0), HTML(value='')))"
      ]
     },
     "metadata": {},
     "output_type": "display_data"
    },
    {
     "name": "stdout",
     "output_type": "stream",
     "text": [
      "\n"
     ]
    }
   ],
   "source": [
    "for c in tqdm(fm_mv.get_concepts()):\n",
    "    c._up_neighbs = {c._up_neighb_st} \\\n",
    "        if c._up_neighb_st is not None else None\n",
    "    c._low_neighbs = c._low_neighbs_st\n",
    "\n",
    "fm_mv._calc_concept_levels() # расчёт горизонтальной координаты при отображении понятия"
   ]
  },
  {
   "cell_type": "markdown",
   "metadata": {},
   "source": [
    "Рассчёт дополнительных метрик для регрессии"
   ]
  },
  {
   "cell_type": "raw",
   "metadata": {},
   "source": [
    "for idx, c in enumerate(fm_mv.sort_concepts()):\n",
    "    c._idx = idx\n",
    "    \n",
    "    ext_idxs = fm_mv.get_context().get_extent(\n",
    "        c.get_intent(), verb=False)\n",
    "    c._metrics['class_prob_max'] = 0\n",
    "    c._metrics['class_id_predict'] = 0\n",
    "    \n",
    "    for target_id, target_name in enumerate(iris_data['target_names']):\n",
    "        metric_name = f'class_{target_id}_prob'\n",
    "        c._metrics[metric_name] = (\n",
    "            fm_mv.get_context()._y_true[ext_idxs]==target_id).mean()\n",
    "        \n",
    "        if c._metrics[metric_name]>c._metrics['class_prob_max']:\n",
    "            c._metrics['class_prob_max'] = c._metrics[metric_name]\n",
    "            c._metrics['class_id_predict'] = target_id\n",
    "    c._metrics['class_name_predict'] = iris_data['target_names'][\n",
    "        c._metrics['class_id_predict']]"
   ]
  },
  {
   "cell_type": "markdown",
   "metadata": {},
   "source": [
    "Визуализируем остовное дерево"
   ]
  },
  {
   "cell_type": "raw",
   "metadata": {},
   "source": [
    "fig_mv = fm_mv.get_plotly_fig(\n",
    "    # отображаем только кол-во изменившихся аттрибутов\n",
    "    # и кол-во новых объектов в понятии\n",
    "    new_attrs_lim=1, new_objs_lim=1, \n",
    "    # работа с цветом понятий\n",
    "    color_by='mean_y_true', cbar_title='Mean Y True',\n",
    "    cmap='RdBu',# opacity_by='class_prob_max',\n",
    "    # сортировка понятий по горизонтали\n",
    "    level_sort='all', #sort_by='mean_y_true', \n",
    "    title=\"Approximate Concept Lattice for Boston dataset\",\n",
    ")"
   ]
  },
  {
   "cell_type": "raw",
   "metadata": {},
   "source": [
    "fig_mv"
   ]
  },
  {
   "cell_type": "markdown",
   "metadata": {},
   "source": [
    "### Классификация с помощью решётки\n",
    "\n",
    "Алгоритм классификации объекта $g$:\n",
    "1. Найти множество $C^g$ минимальных (по включению) понятий, которые описывают объект $g$\n",
    "2. Предсказание для объекта $g$ = среднее из предсказаний каждого понятия из $C^g$"
   ]
  },
  {
   "cell_type": "markdown",
   "metadata": {},
   "source": [
    "Получаем предсказания для каждого объекта из обучающего и тестового контекстов"
   ]
  },
  {
   "cell_type": "code",
   "execution_count": 18,
   "metadata": {},
   "outputs": [
    {
     "name": "stdout",
     "output_type": "stream",
     "text": [
      "CPU times: user 17.1 s, sys: 24.5 ms, total: 17.1 s\n",
      "Wall time: 17.1 s\n"
     ]
    },
    {
     "data": {
      "text/plain": [
       "matrix([[24.40417171],\n",
       "        [21.61910323],\n",
       "        [21.81836699]])"
      ]
     },
     "execution_count": 18,
     "metadata": {},
     "output_type": "execute_result"
    }
   ],
   "source": [
    "%%time\n",
    "metrics = ['mean_y_true']\n",
    "preds_train = fm_mv.predict_context(mvcntx_train, metric=metrics)\n",
    "preds_test = fm_mv.predict_context(mvcntx_test, metric=metrics)\n",
    "preds_test[[0,10,20]]"
   ]
  },
  {
   "cell_type": "markdown",
   "metadata": {},
   "source": [
    "Качество на обучающей и тестовой выборке"
   ]
  },
  {
   "cell_type": "code",
   "execution_count": 19,
   "metadata": {},
   "outputs": [],
   "source": [
    "comp_qualities = calc_metrics('FCA basic', y_train, y_test, preds_train, preds_test, comp_qualities)"
   ]
  },
  {
   "cell_type": "code",
   "execution_count": 20,
   "metadata": {},
   "outputs": [
    {
     "data": {
      "image/png": "[encoded data removed]",
      "text/plain": [
       "<Figure size 1080x252 with 3 Axes>"
      ]
     },
     "metadata": {
      "needs_background": "light"
     },
     "output_type": "display_data"
    }
   ],
   "source": [
    "plot_metrics(comp_qualities, (15, 3.5))"
   ]
  },
  {
   "cell_type": "markdown",
   "metadata": {},
   "source": [
    "# FCA with Linear Regression Weights"
   ]
  },
  {
   "cell_type": "code",
   "execution_count": 21,
   "metadata": {},
   "outputs": [],
   "source": [
    "def predict_fca(fm, cntx, metric, W, normalized=False):\n",
    "    metric = metric if type(metric) == list else [metric]\n",
    "    mvals = np.array(\n",
    "        [[c._metrics[m] for m in metric] for c in sorted(fm.get_concepts(), key=lambda c: c.get_id())])\n",
    "    \n",
    "    m_id = 0\n",
    "    \n",
    "    obj_preds_cncpts = fm.trace_context(cntx)[0]\n",
    "    n_objs, n_cncpts = len(obj_preds_cncpts), len(fm.get_concepts())\n",
    "    \n",
    "    X_ = np.array([(mvals[c_id][m_id],g, c_id)\n",
    "                   for g, c_ids in obj_preds_cncpts.items() for c_id in c_ids])\n",
    "    X = csr_matrix((X_[:, 0], (X_[:, 1].astype(int), X_[:, 2].astype(int))),\n",
    "            shape=(n_objs, n_cncpts))\n",
    "    \n",
    "    preds = X.dot(W)#/(X>0).dot(W) \n",
    "    if normalized:\n",
    "        preds = preds/(X>0).dot(W)\n",
    "    return preds, X"
   ]
  },
  {
   "cell_type": "code",
   "execution_count": 22,
   "metadata": {},
   "outputs": [],
   "source": [
    "from scipy.sparse import csr_matrix"
   ]
  },
  {
   "cell_type": "code",
   "execution_count": 23,
   "metadata": {},
   "outputs": [],
   "source": [
    "def train_rflr(fm, cntx_train, y_train, algo):\n",
    "    n_objs, n_cncpts = len(cntx_train.get_objs()), len(fm.get_concepts())\n",
    "    W0 =  np.ones(n_cncpts)/n_cncpts\n",
    "    \n",
    "    \n",
    "    preds_train_0, X_train_0 = predict_fca(fm, cntx_train, 'mean_y_true', W0)\n",
    "    \n",
    "    lr = algo()\n",
    "    lr.fit(X_train_0, y_train)\n",
    "    W_lr = lr.coef_\n",
    "    \n",
    "    return W_lr"
   ]
  },
  {
   "cell_type": "code",
   "execution_count": 24,
   "metadata": {},
   "outputs": [],
   "source": [
    "def balance_weights(fm, W):\n",
    "    W1 = W.copy()\n",
    "    for c_idx in range(len(fm.get_concepts())-1,-1,-1):\n",
    "        if W1[c_idx]==0:\n",
    "            c = fm.get_concept_by_id(c_idx)\n",
    "            ln_weights = W1[list(c._low_neighbs)]\n",
    "            W1[c_idx] = ln_weights.mean()\n",
    "    return W1"
   ]
  },
  {
   "cell_type": "code",
   "execution_count": 25,
   "metadata": {},
   "outputs": [],
   "source": [
    "from sklearn.linear_model import Ridge"
   ]
  },
  {
   "cell_type": "markdown",
   "metadata": {},
   "source": [
    "All equal weights"
   ]
  },
  {
   "cell_type": "code",
   "execution_count": 26,
   "metadata": {},
   "outputs": [],
   "source": [
    "W0 = np.ones(len(fm_mv.get_concepts()))/np.ones(len(fm_mv.get_concepts()))*10"
   ]
  },
  {
   "cell_type": "code",
   "execution_count": 27,
   "metadata": {},
   "outputs": [
    {
     "name": "stderr",
     "output_type": "stream",
     "text": [
      "/root/anaconda3/lib/python3.7/site-packages/ipykernel_launcher.py:18: RuntimeWarning:\n",
      "\n",
      "invalid value encountered in true_divide\n",
      "\n"
     ]
    }
   ],
   "source": [
    "preds_train = predict_fca(fm_mv, mvcntx_train, 'mean_y_true', W0, normalized=True)[0]\n",
    "preds_test = predict_fca(fm_mv, mvcntx_test, 'mean_y_true', W0, normalized=True)[0]\n",
    "preds_test[np.isnan(preds_test)] = y_train.mean()\n",
    "\n",
    "comp_qualities = calc_metrics('FCA equal weights norm', y_train, y_test, preds_train, preds_test, comp_qualities)"
   ]
  },
  {
   "cell_type": "markdown",
   "metadata": {},
   "source": [
    "Linear And Ridge Regression Weights"
   ]
  },
  {
   "cell_type": "code",
   "execution_count": 28,
   "metadata": {},
   "outputs": [
    {
     "name": "stderr",
     "output_type": "stream",
     "text": [
      "/root/anaconda3/lib/python3.7/site-packages/ipykernel_launcher.py:7: RuntimeWarning:\n",
      "\n",
      "Mean of empty slice.\n",
      "\n",
      "/root/anaconda3/lib/python3.7/site-packages/numpy/core/_methods.py:161: RuntimeWarning:\n",
      "\n",
      "invalid value encountered in double_scalars\n",
      "\n",
      "/root/anaconda3/lib/python3.7/site-packages/ipykernel_launcher.py:18: RuntimeWarning:\n",
      "\n",
      "invalid value encountered in true_divide\n",
      "\n",
      "/root/anaconda3/lib/python3.7/site-packages/ipykernel_launcher.py:18: RuntimeWarning:\n",
      "\n",
      "invalid value encountered in true_divide\n",
      "\n",
      "/root/anaconda3/lib/python3.7/site-packages/ipykernel_launcher.py:7: RuntimeWarning:\n",
      "\n",
      "Mean of empty slice.\n",
      "\n",
      "/root/anaconda3/lib/python3.7/site-packages/numpy/core/_methods.py:161: RuntimeWarning:\n",
      "\n",
      "invalid value encountered in double_scalars\n",
      "\n",
      "/root/anaconda3/lib/python3.7/site-packages/ipykernel_launcher.py:18: RuntimeWarning:\n",
      "\n",
      "invalid value encountered in true_divide\n",
      "\n",
      "/root/anaconda3/lib/python3.7/site-packages/ipykernel_launcher.py:18: RuntimeWarning:\n",
      "\n",
      "invalid value encountered in true_divide\n",
      "\n"
     ]
    }
   ],
   "source": [
    "for algo_name, algo in [('LR',LinearRegression), ('Ridge', Ridge)]:\n",
    "    W = train_rflr(fm_mv, mvcntx_train, y_train, algo)\n",
    "    Wb = balance_weights(fm_mv, W)\n",
    "\n",
    "    for is_bal_name, w in [('',W), (' balanced',Wb)]:\n",
    "        preds_train = predict_fca(fm_mv, mvcntx_train, 'mean_y_true', w, normalized=True)[0]\n",
    "        preds_test = predict_fca(fm_mv, mvcntx_test, 'mean_y_true', w, normalized=True)[0]\n",
    "        preds_test[np.isnan(preds_test)] = y_train.mean()\n",
    "        comp_qualities = calc_metrics(\n",
    "            f'FCA {algo_name}{is_bal_name} norm',\n",
    "            y_train, y_test, preds_train, preds_test, comp_qualities\n",
    "        )"
   ]
  },
  {
   "cell_type": "code",
   "execution_count": 29,
   "metadata": {},
   "outputs": [
    {
     "data": {
      "image/png": "[encoded data removed]",
      "text/plain": [
       "<Figure size 1080x360 with 3 Axes>"
      ]
     },
     "metadata": {
      "needs_background": "light"
     },
     "output_type": "display_data"
    }
   ],
   "source": [
    "plot_metrics(comp_qualities)"
   ]
  },
  {
   "cell_type": "code",
   "execution_count": 30,
   "metadata": {},
   "outputs": [
    {
     "data": {
      "image/png": "[encoded data removed]",
      "text/plain": [
       "<Figure size 1080x360 with 3 Axes>"
      ]
     },
     "metadata": {
      "needs_background": "light"
     },
     "output_type": "display_data"
    }
   ],
   "source": [
    "plot_metrics(comp_qualities.drop([f for f in comp_qualities.columns if any([f_ in f for f_ in ['LR','Ridge']])],1))"
   ]
  },
  {
   "cell_type": "markdown",
   "metadata": {},
   "source": [
    "## Aggregation + Interesting Measures"
   ]
  },
  {
   "cell_type": "raw",
   "metadata": {},
   "source": [
    "max_n_concepts = max([len(vs) for vs in obj_preds_cncpts.values()])"
   ]
  },
  {
   "cell_type": "code",
   "execution_count": 31,
   "metadata": {},
   "outputs": [],
   "source": [
    "def predict_fca_top_intermeas(fm, cntx, measure_func, n_top_cncpts, metric='mean_y_true', aggfunc='mean'):\n",
    "    wvals = np.array([measure_func(c) for c in fm.sort_concepts()])\n",
    "    mvals = np.array([c._metrics[metric] for c in fm.sort_concepts()])\n",
    "\n",
    "    obj_preds_cncpts = fm.trace_context(cntx)[0]\n",
    "    n_objs, n_cncpts = len(obj_preds_cncpts), len(fm.get_concepts())\n",
    "\n",
    "    wvals_ths = {g: np.sort(np.unique(wvals[c_ids]))[-n_top_cncpts:].min() if len(c_ids)>0 else None\n",
    "             for g, c_ids in obj_preds_cncpts.items()}\n",
    "\n",
    "    if aggfunc == 'mean':\n",
    "        X_ = np.array([(1,g, c_id)\n",
    "                       for g, c_ids in obj_preds_cncpts.items()\n",
    "                       for c_id in c_ids if wvals[c_id]>=wvals_ths[g]])\n",
    "        X = csr_matrix((X_[:, 0], (X_[:, 1].astype(int), X_[:, 2].astype(int))),\n",
    "                shape=(n_objs, n_cncpts))\n",
    "        Xm = X.multiply(mvals)\n",
    "    \n",
    "        preds = np.array(Xm.sum(1)/X.sum(1))\n",
    "    elif aggfunc in ['min','max']:\n",
    "        dct = {g: [mvals[c_id] for c_id in c_ids if wvals[c_id]>=wvals_ths[g]]\n",
    "         for g,c_ids in obj_preds_cncpts.items()}\n",
    "        f_ = min if aggfunc=='min' else max\n",
    "        preds = np.array([f_(dct[g]) if len(dct[g])>0 else np.nan for g in sorted(dct.keys())]).reshape(-1,1)\n",
    "    else:\n",
    "        raise ValueError(f'Unknown aggfunc {aggfunc}. In predict_fca_top_intermeas')\n",
    "    \n",
    "    return preds"
   ]
  },
  {
   "cell_type": "code",
   "execution_count": 32,
   "metadata": {},
   "outputs": [
    {
     "data": {
      "application/vnd.jupyter.widget-view+json": {
       "model_id": "cc31efabe9f44a9d9a049e5539c37b57",
       "version_major": 2,
       "version_minor": 0
      },
      "text/plain": [
       "HBox(children=(FloatProgress(value=0.0, description='construct spanning tree', max=29624.0, style=ProgressStyl…"
      ]
     },
     "metadata": {},
     "output_type": "display_data"
    },
    {
     "name": "stdout",
     "output_type": "stream",
     "text": [
      "\n"
     ]
    },
    {
     "data": {
      "application/vnd.jupyter.widget-view+json": {
       "model_id": "10792481a6a8438092d6daa9659ab684",
       "version_major": 2,
       "version_minor": 0
      },
      "text/plain": [
       "HBox(children=(FloatProgress(value=0.0, description='iterate through chains', max=14299.0, style=ProgressStyle…"
      ]
     },
     "metadata": {},
     "output_type": "display_data"
    },
    {
     "ename": "KeyboardInterrupt",
     "evalue": "",
     "output_type": "error",
     "traceback": [
      "\u001b[0;31m---------------------------------------------------------------------------\u001b[0m",
      "\u001b[0;31mKeyboardInterrupt\u001b[0m                         Traceback (most recent call last)",
      "\u001b[0;32m<ipython-input-32-63059a019d42>\u001b[0m in \u001b[0;36m<module>\u001b[0;34m\u001b[0m\n\u001b[0;32m----> 1\u001b[0;31m \u001b[0mfm_mv\u001b[0m\u001b[0;34m.\u001b[0m\u001b[0mconstruct_lattice\u001b[0m\u001b[0;34m(\u001b[0m\u001b[0muse_tqdm\u001b[0m\u001b[0;34m=\u001b[0m\u001b[0;32mTrue\u001b[0m\u001b[0;34m,\u001b[0m \u001b[0monly_spanning_tree\u001b[0m\u001b[0;34m=\u001b[0m\u001b[0;32mFalse\u001b[0m\u001b[0;34m)\u001b[0m\u001b[0;34m\u001b[0m\u001b[0;34m\u001b[0m\u001b[0m\n\u001b[0m",
      "\u001b[0;32m/opt/lib/fca_interp.py\u001b[0m in \u001b[0;36mconstruct_lattice\u001b[0;34m(self, use_tqdm, only_spanning_tree)\u001b[0m\n\u001b[1;32m    814\u001b[0m         \u001b[0mself\u001b[0m\u001b[0;34m.\u001b[0m\u001b[0m_construct_spanning_tree\u001b[0m\u001b[0;34m(\u001b[0m\u001b[0muse_tqdm\u001b[0m\u001b[0;34m)\u001b[0m\u001b[0;34m\u001b[0m\u001b[0;34m\u001b[0m\u001b[0m\n\u001b[1;32m    815\u001b[0m         \u001b[0;32mif\u001b[0m \u001b[0;32mnot\u001b[0m \u001b[0monly_spanning_tree\u001b[0m\u001b[0;34m:\u001b[0m\u001b[0;34m\u001b[0m\u001b[0;34m\u001b[0m\u001b[0m\n\u001b[0;32m--> 816\u001b[0;31m             \u001b[0mself\u001b[0m\u001b[0;34m.\u001b[0m\u001b[0m_construct_lattice_from_spanning_tree\u001b[0m\u001b[0;34m(\u001b[0m\u001b[0muse_tqdm\u001b[0m\u001b[0;34m)\u001b[0m\u001b[0;34m\u001b[0m\u001b[0;34m\u001b[0m\u001b[0m\n\u001b[0m\u001b[1;32m    817\u001b[0m         \u001b[0mself\u001b[0m\u001b[0;34m.\u001b[0m\u001b[0m_calc_concept_levels\u001b[0m\u001b[0;34m(\u001b[0m\u001b[0;34m)\u001b[0m\u001b[0;34m\u001b[0m\u001b[0;34m\u001b[0m\u001b[0m\n\u001b[1;32m    818\u001b[0m         \u001b[0mself\u001b[0m\u001b[0;34m.\u001b[0m\u001b[0m_find_new_concept_objatr\u001b[0m\u001b[0;34m(\u001b[0m\u001b[0;34m)\u001b[0m\u001b[0;34m\u001b[0m\u001b[0;34m\u001b[0m\u001b[0m\n",
      "\u001b[0;32m/opt/lib/fca_interp.py\u001b[0m in \u001b[0;36m_construct_lattice_from_spanning_tree\u001b[0;34m(self, use_tqdm)\u001b[0m\n\u001b[1;32m   1453\u001b[0m                         \u001b[0;32mif\u001b[0m \u001b[0mnot_upconcept\u001b[0m \u001b[0;32mor\u001b[0m \u001b[0mlast_and_upconcept\u001b[0m\u001b[0;34m:\u001b[0m\u001b[0;34m\u001b[0m\u001b[0;34m\u001b[0m\u001b[0m\n\u001b[1;32m   1454\u001b[0m                             \u001b[0mc_id_prev\u001b[0m \u001b[0;34m=\u001b[0m \u001b[0mchain_comp\u001b[0m\u001b[0;34m[\u001b[0m\u001b[0midx_comp\u001b[0m\u001b[0;34m-\u001b[0m\u001b[0;36m1\u001b[0m\u001b[0;34m]\u001b[0m \u001b[0;32mif\u001b[0m \u001b[0;32mnot\u001b[0m \u001b[0mlast_and_upconcept\u001b[0m \u001b[0;32melse\u001b[0m \u001b[0mchain_comp\u001b[0m\u001b[0;34m[\u001b[0m\u001b[0midx_comp\u001b[0m\u001b[0;34m]\u001b[0m\u001b[0;34m\u001b[0m\u001b[0;34m\u001b[0m\u001b[0m\n\u001b[0;32m-> 1455\u001b[0;31m                             \u001b[0mc_prev\u001b[0m \u001b[0;34m=\u001b[0m \u001b[0mcncpts_dict\u001b[0m\u001b[0;34m[\u001b[0m\u001b[0mc_id_prev\u001b[0m\u001b[0;34m]\u001b[0m\u001b[0;34m\u001b[0m\u001b[0;34m\u001b[0m\u001b[0m\n\u001b[0m\u001b[1;32m   1456\u001b[0m \u001b[0;34m\u001b[0m\u001b[0m\n\u001b[1;32m   1457\u001b[0m                             \u001b[0;32mif\u001b[0m \u001b[0mc_id_prev\u001b[0m \u001b[0;32mnot\u001b[0m \u001b[0;32min\u001b[0m \u001b[0mall_up_neighbs\u001b[0m\u001b[0;34m[\u001b[0m\u001b[0mc_id_cur\u001b[0m\u001b[0;34m]\u001b[0m\u001b[0;34m:\u001b[0m\u001b[0;34m\u001b[0m\u001b[0;34m\u001b[0m\u001b[0m\n",
      "\u001b[0;31mKeyboardInterrupt\u001b[0m: "
     ]
    }
   ],
   "source": [
    "fm_mv.construct_lattice(use_tqdm=True, only_spanning_tree=False)"
   ]
  },
  {
   "cell_type": "code",
   "execution_count": 33,
   "metadata": {},
   "outputs": [
    {
     "data": {
      "application/vnd.jupyter.widget-view+json": {
       "model_id": "8b765e52be3246e2980afb4bf9537e71",
       "version_major": 2,
       "version_minor": 0
      },
      "text/plain": [
       "HBox(children=(FloatProgress(value=0.0, max=29624.0), HTML(value='')))"
      ]
     },
     "metadata": {},
     "output_type": "display_data"
    },
    {
     "name": "stdout",
     "output_type": "stream",
     "text": [
      "\n"
     ]
    }
   ],
   "source": [
    "fm_mv.calc_stability_approx(use_tqdm=True)"
   ]
  },
  {
   "cell_type": "code",
   "execution_count": null,
   "metadata": {},
   "outputs": [],
   "source": []
  },
  {
   "cell_type": "code",
   "execution_count": 34,
   "metadata": {},
   "outputs": [],
   "source": [
    "measure_funcs = {\n",
    "    'support asc': lambda c: len(c.get_extent()),\n",
    "    'support desc': lambda c: -len(c.get_extent()),\n",
    "    #'stability asc': lambda c: fcai.get_not_none(c._metrics['log_stab_min_bound'],0),\n",
    "    #'stability desc': lambda c: -fcai.get_not_none(c._metrics['log_stab_min_bound'],1),\n",
    "}"
   ]
  },
  {
   "cell_type": "code",
   "execution_count": 35,
   "metadata": {},
   "outputs": [],
   "source": [
    "n_max_objects = max([len(c_ids) for g, c_ids in fm_mv.trace_context(mvcntx_train)[0].items()])"
   ]
  },
  {
   "cell_type": "code",
   "execution_count": 36,
   "metadata": {},
   "outputs": [],
   "source": [
    "import warnings\n",
    "warnings.filterwarnings(\"ignore\")"
   ]
  },
  {
   "cell_type": "code",
   "execution_count": 37,
   "metadata": {},
   "outputs": [
    {
     "data": {
      "application/vnd.jupyter.widget-view+json": {
       "model_id": "2e862ae18b4f40e886cdc614952dbfe2",
       "version_major": 2,
       "version_minor": 0
      },
      "text/plain": [
       "HBox(children=(FloatProgress(value=0.0, max=2.0), HTML(value='')))"
      ]
     },
     "metadata": {},
     "output_type": "display_data"
    },
    {
     "data": {
      "application/vnd.jupyter.widget-view+json": {
       "model_id": "",
       "version_major": 2,
       "version_minor": 0
      },
      "text/plain": [
       "HBox(children=(FloatProgress(value=0.0, max=3.0), HTML(value='')))"
      ]
     },
     "metadata": {},
     "output_type": "display_data"
    },
    {
     "data": {
      "application/vnd.jupyter.widget-view+json": {
       "model_id": "",
       "version_major": 2,
       "version_minor": 0
      },
      "text/plain": [
       "HBox(children=(FloatProgress(value=0.0, max=10.0), HTML(value='')))"
      ]
     },
     "metadata": {},
     "output_type": "display_data"
    },
    {
     "data": {
      "application/vnd.jupyter.widget-view+json": {
       "model_id": "",
       "version_major": 2,
       "version_minor": 0
      },
      "text/plain": [
       "HBox(children=(FloatProgress(value=0.0, max=10.0), HTML(value='')))"
      ]
     },
     "metadata": {},
     "output_type": "display_data"
    },
    {
     "data": {
      "application/vnd.jupyter.widget-view+json": {
       "model_id": "",
       "version_major": 2,
       "version_minor": 0
      },
      "text/plain": [
       "HBox(children=(FloatProgress(value=0.0, max=10.0), HTML(value='')))"
      ]
     },
     "metadata": {},
     "output_type": "display_data"
    },
    {
     "data": {
      "application/vnd.jupyter.widget-view+json": {
       "model_id": "",
       "version_major": 2,
       "version_minor": 0
      },
      "text/plain": [
       "HBox(children=(FloatProgress(value=0.0, max=3.0), HTML(value='')))"
      ]
     },
     "metadata": {},
     "output_type": "display_data"
    },
    {
     "data": {
      "application/vnd.jupyter.widget-view+json": {
       "model_id": "",
       "version_major": 2,
       "version_minor": 0
      },
      "text/plain": [
       "HBox(children=(FloatProgress(value=0.0, max=10.0), HTML(value='')))"
      ]
     },
     "metadata": {},
     "output_type": "display_data"
    },
    {
     "data": {
      "application/vnd.jupyter.widget-view+json": {
       "model_id": "",
       "version_major": 2,
       "version_minor": 0
      },
      "text/plain": [
       "HBox(children=(FloatProgress(value=0.0, max=10.0), HTML(value='')))"
      ]
     },
     "metadata": {},
     "output_type": "display_data"
    },
    {
     "data": {
      "application/vnd.jupyter.widget-view+json": {
       "model_id": "",
       "version_major": 2,
       "version_minor": 0
      },
      "text/plain": [
       "HBox(children=(FloatProgress(value=0.0, max=10.0), HTML(value='')))"
      ]
     },
     "metadata": {},
     "output_type": "display_data"
    },
    {
     "name": "stdout",
     "output_type": "stream",
     "text": [
      "\n"
     ]
    }
   ],
   "source": [
    "intermeas_qualities = None\n",
    "\n",
    "for m_func_name, m_func in tqdm(measure_funcs.items()):\n",
    "    for aggfunc in tqdm(['mean','min','max'], leave=False):\n",
    "        for n_top_cncpts in tqdm(np.unique(np.linspace(1, n_max_objects, 10).astype(int)), leave=False):\n",
    "            preds_train = predict_fca_top_intermeas(\n",
    "                fm_mv, mvcntx_train, m_func, n_top_cncpts, aggfunc=aggfunc)\n",
    "            preds_test = predict_fca_top_intermeas(\n",
    "                fm_mv, mvcntx_test, m_func, n_top_cncpts, aggfunc=aggfunc)\n",
    "            \n",
    "            preds_test = np.nan_to_num(preds_test, nan=fm_mv._top_concept._metrics['mean_y_true'])\n",
    "            \n",
    "            intermeas_qualities = calc_metrics(\n",
    "                f\"intermeas={m_func_name}_aggfunc={aggfunc}_ncncpts={n_top_cncpts}\",\n",
    "                y_train, y_test, preds_train, preds_test, intermeas_qualities)"
   ]
  },
  {
   "cell_type": "code",
   "execution_count": 38,
   "metadata": {},
   "outputs": [],
   "source": [
    "cdss= []\n",
    "for f in intermeas_qualities.drop(['metric','ds'],1).columns:\n",
    "    cds = intermeas_qualities[['metric','ds',f]].rename(columns={f:'metric_value'})\n",
    "    cds['type'] = f\n",
    "    cdss.append(cds)\n",
    "cds = pd.concat(cdss)\n",
    "del cdss"
   ]
  },
  {
   "cell_type": "code",
   "execution_count": 39,
   "metadata": {},
   "outputs": [],
   "source": [
    "cds['interest_measure'] = [x.split('_')[0].split('=')[1] for x in cds['type']]\n",
    "cds['aggfunc'] = [x.split('_')[1].split('=')[1] for x in cds['type']]\n",
    "cds['n_top_concepts'] = [int(x.split('_')[2].split('=')[1]) for x in cds['type']]"
   ]
  },
  {
   "cell_type": "code",
   "execution_count": 40,
   "metadata": {},
   "outputs": [
    {
     "data": {
      "image/png": "[encoded data removed]",
      "text/plain": [
       "<Figure size 1080x504 with 6 Axes>"
      ]
     },
     "metadata": {
      "needs_background": "light"
     },
     "output_type": "display_data"
    }
   ],
   "source": [
    "plt.figure(figsize=(15,7))\n",
    "for m_idx, m in enumerate(cds['metric'].unique()):\n",
    "    for ds_idx, ds_type in enumerate(['train','test']):\n",
    "        plt.subplot(3,2,m_idx*2+ds_idx+1)\n",
    "        sns.lineplot(x='n_top_concepts', y='metric_value', hue='interest_measure',\n",
    "                     data=cds[(cds['aggfunc']=='mean')&(cds['metric']==m)&(cds['ds']==ds_type)]\n",
    "                    )\n",
    "        plt.title(f\"{m} {ds_type}\") \n",
    "    \n",
    "plt.tight_layout()\n",
    "plt.show()"
   ]
  },
  {
   "cell_type": "code",
   "execution_count": 41,
   "metadata": {},
   "outputs": [
    {
     "data": {
      "text/html": [
       "<div>\n",
       "<style scoped>\n",
       "    .dataframe tbody tr th:only-of-type {\n",
       "        vertical-align: middle;\n",
       "    }\n",
       "\n",
       "    .dataframe tbody tr th {\n",
       "        vertical-align: top;\n",
       "    }\n",
       "\n",
       "    .dataframe thead th {\n",
       "        text-align: right;\n",
       "    }\n",
       "</style>\n",
       "<table border=\"1\" class=\"dataframe\">\n",
       "  <thead>\n",
       "    <tr style=\"text-align: right;\">\n",
       "      <th></th>\n",
       "      <th>metric</th>\n",
       "      <th>ds</th>\n",
       "      <th>LinearRegression</th>\n",
       "      <th>DecisionTreeRegressor</th>\n",
       "      <th>RandomForestRegressor</th>\n",
       "      <th>XGBRegressor</th>\n",
       "      <th>CatBoostRegressor</th>\n",
       "    </tr>\n",
       "  </thead>\n",
       "  <tbody>\n",
       "    <tr>\n",
       "      <th>0</th>\n",
       "      <td>mean_absolute_error</td>\n",
       "      <td>test</td>\n",
       "      <td>3.899960</td>\n",
       "      <td>2.415686</td>\n",
       "      <td>2.217176</td>\n",
       "      <td>2.130492</td>\n",
       "      <td>2.130702</td>\n",
       "    </tr>\n",
       "    <tr>\n",
       "      <th>1</th>\n",
       "      <td>mean_absolute_error</td>\n",
       "      <td>train</td>\n",
       "      <td>3.181671</td>\n",
       "      <td>0.000000</td>\n",
       "      <td>0.833662</td>\n",
       "      <td>0.018205</td>\n",
       "      <td>0.446777</td>\n",
       "    </tr>\n",
       "    <tr>\n",
       "      <th>2</th>\n",
       "      <td>mean_squared_error</td>\n",
       "      <td>test</td>\n",
       "      <td>34.605654</td>\n",
       "      <td>12.509804</td>\n",
       "      <td>11.010421</td>\n",
       "      <td>7.537323</td>\n",
       "      <td>8.864048</td>\n",
       "    </tr>\n",
       "    <tr>\n",
       "      <th>3</th>\n",
       "      <td>mean_squared_error</td>\n",
       "      <td>train</td>\n",
       "      <td>20.736632</td>\n",
       "      <td>0.000000</td>\n",
       "      <td>1.633167</td>\n",
       "      <td>0.000691</td>\n",
       "      <td>0.330176</td>\n",
       "    </tr>\n",
       "    <tr>\n",
       "      <th>4</th>\n",
       "      <td>r2_score</td>\n",
       "      <td>test</td>\n",
       "      <td>0.580692</td>\n",
       "      <td>0.848422</td>\n",
       "      <td>0.866589</td>\n",
       "      <td>0.908672</td>\n",
       "      <td>0.892597</td>\n",
       "    </tr>\n",
       "    <tr>\n",
       "      <th>5</th>\n",
       "      <td>r2_score</td>\n",
       "      <td>train</td>\n",
       "      <td>0.754862</td>\n",
       "      <td>1.000000</td>\n",
       "      <td>0.980694</td>\n",
       "      <td>0.999992</td>\n",
       "      <td>0.996097</td>\n",
       "    </tr>\n",
       "  </tbody>\n",
       "</table>\n",
       "</div>"
      ],
      "text/plain": [
       "                metric     ds  LinearRegression  DecisionTreeRegressor  \\\n",
       "0  mean_absolute_error   test          3.899960               2.415686   \n",
       "1  mean_absolute_error  train          3.181671               0.000000   \n",
       "2   mean_squared_error   test         34.605654              12.509804   \n",
       "3   mean_squared_error  train         20.736632               0.000000   \n",
       "4             r2_score   test          0.580692               0.848422   \n",
       "5             r2_score  train          0.754862               1.000000   \n",
       "\n",
       "   RandomForestRegressor  XGBRegressor  CatBoostRegressor  \n",
       "0               2.217176      2.130492           2.130702  \n",
       "1               0.833662      0.018205           0.446777  \n",
       "2              11.010421      7.537323           8.864048  \n",
       "3               1.633167      0.000691           0.330176  \n",
       "4               0.866589      0.908672           0.892597  \n",
       "5               0.980694      0.999992           0.996097  "
      ]
     },
     "execution_count": 41,
     "metadata": {},
     "output_type": "execute_result"
    }
   ],
   "source": [
    "comp_qualities[['metric','ds','LinearRegression','DecisionTreeRegressor','RandomForestRegressor','XGBRegressor','CatBoostRegressor']]"
   ]
  },
  {
   "cell_type": "markdown",
   "metadata": {},
   "source": [
    "# SAMME approach"
   ]
  },
  {
   "cell_type": "code",
   "execution_count": 42,
   "metadata": {},
   "outputs": [],
   "source": [
    "fm = fm_mv\n",
    "cntx = mvcntx_train"
   ]
  },
  {
   "cell_type": "code",
   "execution_count": 47,
   "metadata": {},
   "outputs": [
    {
     "name": "stdout",
     "output_type": "stream",
     "text": [
      "iter: 0, MSE: 8.84154725209282\n",
      "iter: 1, MSE: 6.014000410166581\n",
      "iter: 2, MSE: 5.755795777592318\n",
      "iter: 3, MSE: 5.6175725292365755\n",
      "iter: 4, MSE: 5.5816303272088525\n",
      "iter: 5, MSE: 5.570467765529828\n",
      "iter: 6, MSE: 5.566678682897674\n",
      "iter: 7, MSE: 5.5654994106591476\n",
      "iter: 8, MSE: 5.5652489598342045\n",
      "iter: 9, MSE: 5.565050662040529\n",
      "iter: 10, MSE: 5.565085449844614\n",
      "iter: 11, MSE: 5.565030655822482\n",
      "iter: 12, MSE: 5.565055813651666\n",
      "iter: 13, MSE: 5.5650378635957995\n",
      "iter: 14, MSE: 5.56504764557064\n",
      "iter: 15, MSE: 5.565041726732482\n",
      "iter: 16, MSE: 5.565045045606725\n",
      "iter: 17, MSE: 5.565043139318027\n",
      "iter: 18, MSE: 5.565044207560722\n",
      "iter: 19, MSE: 5.565043606514877\n",
      "iter: 20, MSE: 5.56504394157061\n",
      "iter: 21, MSE: 5.56504375490193\n",
      "iter: 22, MSE: 5.565043858472245\n",
      "iter: 23, MSE: 5.565043801083449\n",
      "iter: 24, MSE: 5.5650438328147\n",
      "iter: 25, MSE: 5.565043815290051\n",
      "iter: 26, MSE: 5.565043824956489\n",
      "iter: 27, MSE: 5.565043819629069\n",
      "iter: 28, MSE: 5.565043822562838\n",
      "iter: 29, MSE: 5.56504382094819\n",
      "iter: 30, MSE: 5.565043821836383\n",
      "iter: 31, MSE: 5.565043821348006\n",
      "iter: 32, MSE: 5.565043821616458\n",
      "iter: 33, MSE: 5.565043821468924\n",
      "iter: 34, MSE: 5.56504382154997\n",
      "iter: 35, MSE: 5.565043821505462\n",
      "iter: 36, MSE: 5.5650438215299145\n",
      "iter: 37, MSE: 5.565043821516475\n",
      "iter: 38, MSE: 5.565043821523852\n",
      "iter: 39, MSE: 5.565043821519802\n",
      "iter: 40, MSE: 5.5650438215220355\n",
      "iter: 41, MSE: 5.565043821520812\n",
      "iter: 42, MSE: 5.5650438215214795\n",
      "iter: 43, MSE: 5.565043821521116\n",
      "iter: 44, MSE: 5.565043821521318\n",
      "iter: 45, MSE: 5.565043821521203\n",
      "iter: 46, MSE: 5.565043821521272\n",
      "iter: 47, MSE: 5.565043821521226\n",
      "iter: 48, MSE: 5.565043821521252\n",
      "iter: 49, MSE: 5.56504382152123\n",
      "iter: 50, MSE: 5.565043821521243\n",
      "iter: 51, MSE: 5.565043821521235\n",
      "iter: 52, MSE: 5.565043821521245\n",
      "iter: 53, MSE: 5.56504382152124\n",
      "iter: 54, MSE: 5.565043821521247\n",
      "iter: 55, MSE: 5.565043821521251\n",
      "iter: 56, MSE: 5.56504382152124\n",
      "iter: 57, MSE: 5.565043821521255\n",
      "iter: 58, MSE: 5.565043821521243\n",
      "iter: 59, MSE: 5.565043821521246\n",
      "iter: 60, MSE: 5.565043821521235\n",
      "iter: 61, MSE: 5.565043821521244\n",
      "iter: 62, MSE: 5.56504382152123\n",
      "iter: 63, MSE: 5.565043821521251\n",
      "iter: 64, MSE: 5.565043821521245\n",
      "iter: 65, MSE: 5.565043821521248\n",
      "iter: 66, MSE: 5.565043821521246\n",
      "iter: 67, MSE: 5.565043821521242\n",
      "iter: 68, MSE: 5.565043821521246\n",
      "iter: 69, MSE: 5.5650438215212485\n",
      "iter: 70, MSE: 5.565043821521242\n",
      "iter: 71, MSE: 5.565043821521237\n",
      "iter: 72, MSE: 5.565043821521248\n",
      "iter: 73, MSE: 5.565043821521244\n",
      "iter: 74, MSE: 5.565043821521237\n",
      "iter: 75, MSE: 5.565043821521244\n",
      "iter: 76, MSE: 5.565043821521243\n",
      "iter: 77, MSE: 5.565043821521246\n",
      "iter: 78, MSE: 5.565043821521234\n",
      "iter: 79, MSE: 5.565043821521242\n",
      "iter: 80, MSE: 5.565043821521245\n",
      "iter: 81, MSE: 5.565043821521248\n",
      "iter: 82, MSE: 5.565043821521234\n",
      "iter: 83, MSE: 5.565043821521248\n",
      "iter: 84, MSE: 5.565043821521247\n",
      "iter: 85, MSE: 5.565043821521244\n",
      "iter: 86, MSE: 5.5650438215212406\n",
      "iter: 87, MSE: 5.5650438215212485\n",
      "iter: 88, MSE: 5.565043821521246\n",
      "iter: 89, MSE: 5.565043821521242\n",
      "iter: 90, MSE: 5.565043821521244\n",
      "iter: 91, MSE: 5.565043821521245\n",
      "iter: 92, MSE: 5.565043821521238\n",
      "iter: 93, MSE: 5.565043821521243\n",
      "iter: 94, MSE: 5.565043821521236\n",
      "iter: 95, MSE: 5.5650438215212485\n",
      "iter: 96, MSE: 5.5650438215212406\n",
      "iter: 97, MSE: 5.565043821521243\n",
      "iter: 98, MSE: 5.565043821521239\n",
      "iter: 99, MSE: 5.565043821521246\n"
     ]
    }
   ],
   "source": [
    "Wg = np.ones(len(cntx.get_objs()))/len(cntx.get_objs())\n",
    "for idx in range(100):\n",
    "    #W = [Wg[c.get_extent()].mean() for c in fm_mv.sort_concepts()]\n",
    "    W = [np.mean(Wg[c.get_extent()]) for c in fm_mv.sort_concepts()]\n",
    "    y_pred = predict_fca(fm_mv, mvcntx_train, 'mean_y_true',W, normalized=True)[0]\n",
    "    \n",
    "    errv = (y_pred-y_train.values)**2\n",
    "    Wg = errv/errv.max()\n",
    "    #err = (Wg*errv).sum()/Wg.sum()\n",
    "    #alpha = np.log((1-err/errv.max())/(errv/errv.max()))+np.log(len(Wg)-1)\n",
    "    #Wg = Wg*np.exp(alpha*errv/errv.max())\n",
    "    #Wg = Wg/Wg.max()\n",
    "    print(f\"iter: {idx}, MSE: {((y_pred-y_train)**2).mean()}\")"
   ]
  },
  {
   "cell_type": "code",
   "execution_count": null,
   "metadata": {},
   "outputs": [],
   "source": []
  },
  {
   "cell_type": "code",
   "execution_count": 152,
   "metadata": {},
   "outputs": [
    {
     "data": {
      "text/html": [
       "<div>\n",
       "<style scoped>\n",
       "    .dataframe tbody tr th:only-of-type {\n",
       "        vertical-align: middle;\n",
       "    }\n",
       "\n",
       "    .dataframe tbody tr th {\n",
       "        vertical-align: top;\n",
       "    }\n",
       "\n",
       "    .dataframe thead th {\n",
       "        text-align: right;\n",
       "    }\n",
       "</style>\n",
       "<table border=\"1\" class=\"dataframe\">\n",
       "  <thead>\n",
       "    <tr style=\"text-align: right;\">\n",
       "      <th></th>\n",
       "      <th>metric</th>\n",
       "      <th>ds</th>\n",
       "      <th>LinearRegression</th>\n",
       "      <th>DecisionTreeRegressor</th>\n",
       "      <th>RandomForestRegressor</th>\n",
       "      <th>XGBRegressor</th>\n",
       "      <th>CatBoostRegressor</th>\n",
       "      <th>FCA basic</th>\n",
       "      <th>FCA equal weights norm</th>\n",
       "      <th>FCA LR norm</th>\n",
       "      <th>FCA LR balanced norm</th>\n",
       "      <th>FCA Ridge norm</th>\n",
       "      <th>FCA Ridge balanced norm</th>\n",
       "    </tr>\n",
       "  </thead>\n",
       "  <tbody>\n",
       "    <tr>\n",
       "      <th>0</th>\n",
       "      <td>mean_absolute_error</td>\n",
       "      <td>test</td>\n",
       "      <td>3.854876</td>\n",
       "      <td>3.296078</td>\n",
       "      <td>2.733706</td>\n",
       "      <td>2.279867</td>\n",
       "      <td>2.130291</td>\n",
       "      <td>4.833858</td>\n",
       "      <td>4.308368</td>\n",
       "      <td>12.107194</td>\n",
       "      <td>11.618842</td>\n",
       "      <td>6.686972</td>\n",
       "      <td>7.091015</td>\n",
       "    </tr>\n",
       "    <tr>\n",
       "      <th>1</th>\n",
       "      <td>mean_absolute_error</td>\n",
       "      <td>train</td>\n",
       "      <td>3.223111</td>\n",
       "      <td>0.000000</td>\n",
       "      <td>0.819057</td>\n",
       "      <td>0.016707</td>\n",
       "      <td>0.437353</td>\n",
       "      <td>2.256329</td>\n",
       "      <td>2.256329</td>\n",
       "      <td>7.807684</td>\n",
       "      <td>7.807684</td>\n",
       "      <td>10.026008</td>\n",
       "      <td>10.026008</td>\n",
       "    </tr>\n",
       "    <tr>\n",
       "      <th>2</th>\n",
       "      <td>mean_squared_error</td>\n",
       "      <td>test</td>\n",
       "      <td>25.133913</td>\n",
       "      <td>29.474314</td>\n",
       "      <td>17.322104</td>\n",
       "      <td>11.346674</td>\n",
       "      <td>9.593614</td>\n",
       "      <td>81.173109</td>\n",
       "      <td>45.097732</td>\n",
       "      <td>502.159069</td>\n",
       "      <td>396.999526</td>\n",
       "      <td>98.951849</td>\n",
       "      <td>107.299493</td>\n",
       "    </tr>\n",
       "    <tr>\n",
       "      <th>3</th>\n",
       "      <td>mean_squared_error</td>\n",
       "      <td>train</td>\n",
       "      <td>21.583287</td>\n",
       "      <td>0.000000</td>\n",
       "      <td>1.598812</td>\n",
       "      <td>0.000578</td>\n",
       "      <td>0.317192</td>\n",
       "      <td>10.306698</td>\n",
       "      <td>10.306698</td>\n",
       "      <td>389.742530</td>\n",
       "      <td>389.742530</td>\n",
       "      <td>3061.127333</td>\n",
       "      <td>3061.127333</td>\n",
       "    </tr>\n",
       "    <tr>\n",
       "      <th>4</th>\n",
       "      <td>r2_score</td>\n",
       "      <td>test</td>\n",
       "      <td>0.752782</td>\n",
       "      <td>0.710089</td>\n",
       "      <td>0.829619</td>\n",
       "      <td>0.888394</td>\n",
       "      <td>0.905637</td>\n",
       "      <td>0.201577</td>\n",
       "      <td>0.556416</td>\n",
       "      <td>-3.939262</td>\n",
       "      <td>-2.904908</td>\n",
       "      <td>0.026705</td>\n",
       "      <td>-0.055403</td>\n",
       "    </tr>\n",
       "    <tr>\n",
       "      <th>5</th>\n",
       "      <td>r2_score</td>\n",
       "      <td>train</td>\n",
       "      <td>0.738260</td>\n",
       "      <td>1.000000</td>\n",
       "      <td>0.980611</td>\n",
       "      <td>0.999993</td>\n",
       "      <td>0.996153</td>\n",
       "      <td>0.875011</td>\n",
       "      <td>0.875011</td>\n",
       "      <td>-3.726390</td>\n",
       "      <td>-3.726390</td>\n",
       "      <td>-36.122151</td>\n",
       "      <td>-36.122151</td>\n",
       "    </tr>\n",
       "  </tbody>\n",
       "</table>\n",
       "</div>"
      ],
      "text/plain": [
       "                metric     ds  LinearRegression  DecisionTreeRegressor  \\\n",
       "0  mean_absolute_error   test          3.854876               3.296078   \n",
       "1  mean_absolute_error  train          3.223111               0.000000   \n",
       "2   mean_squared_error   test         25.133913              29.474314   \n",
       "3   mean_squared_error  train         21.583287               0.000000   \n",
       "4             r2_score   test          0.752782               0.710089   \n",
       "5             r2_score  train          0.738260               1.000000   \n",
       "\n",
       "   RandomForestRegressor  XGBRegressor  CatBoostRegressor  FCA basic  \\\n",
       "0               2.733706      2.279867           2.130291   4.833858   \n",
       "1               0.819057      0.016707           0.437353   2.256329   \n",
       "2              17.322104     11.346674           9.593614  81.173109   \n",
       "3               1.598812      0.000578           0.317192  10.306698   \n",
       "4               0.829619      0.888394           0.905637   0.201577   \n",
       "5               0.980611      0.999993           0.996153   0.875011   \n",
       "\n",
       "   FCA equal weights norm  FCA LR norm  FCA LR balanced norm  FCA Ridge norm  \\\n",
       "0                4.308368    12.107194             11.618842        6.686972   \n",
       "1                2.256329     7.807684              7.807684       10.026008   \n",
       "2               45.097732   502.159069            396.999526       98.951849   \n",
       "3               10.306698   389.742530            389.742530     3061.127333   \n",
       "4                0.556416    -3.939262             -2.904908        0.026705   \n",
       "5                0.875011    -3.726390             -3.726390      -36.122151   \n",
       "\n",
       "   FCA Ridge balanced norm  \n",
       "0                 7.091015  \n",
       "1                10.026008  \n",
       "2               107.299493  \n",
       "3              3061.127333  \n",
       "4                -0.055403  \n",
       "5               -36.122151  "
      ]
     },
     "execution_count": 152,
     "metadata": {},
     "output_type": "execute_result"
    }
   ],
   "source": [
    "comp_qualities"
   ]
  }
 ],
 "metadata": {
  "kernelspec": {
   "display_name": "Python 3",
   "language": "python",
   "name": "python3"
  },
  "language_info": {
   "codemirror_mode": {
    "name": "ipython",
    "version": 3
   },
   "file_extension": ".py",
   "mimetype": "text/x-python",
   "name": "python",
   "nbconvert_exporter": "python",
   "pygments_lexer": "ipython3",
   "version": "3.7.6"
  }
 },
 "nbformat": 4,
 "nbformat_minor": 4
}
