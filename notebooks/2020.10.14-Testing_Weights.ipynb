{
 "cells": [
  {
   "cell_type": "code",
   "execution_count": 1,
   "metadata": {},
   "outputs": [],
   "source": [
    "import numpy as np\n",
    "import pandas as pd\n",
    "\n",
    "import matplotlib.pyplot as plt\n",
    "import seaborn as sns\n",
    "from tqdm.notebook import tqdm\n",
    "\n",
    "from importlib import reload"
   ]
  },
  {
   "cell_type": "markdown",
   "metadata": {},
   "source": [
    "Загрузка библиотеки с FCA"
   ]
  },
  {
   "cell_type": "code",
   "execution_count": 2,
   "metadata": {},
   "outputs": [],
   "source": [
    "import os\n",
    "import sys\n",
    "BASE_PATH = os.path.realpath('..')\n",
    "LIB_DIR = os.path.join(BASE_PATH,'lib')\n",
    "if LIB_DIR[:-3] not in sys.path:\n",
    "    sys.path.append(LIB_DIR[:-3])\n",
    "\n",
    "from lib import fca_interp as fcai"
   ]
  },
  {
   "cell_type": "markdown",
   "metadata": {},
   "source": [
    "# Load Data"
   ]
  },
  {
   "cell_type": "code",
   "execution_count": 3,
   "metadata": {},
   "outputs": [
    {
     "name": "stdout",
     "output_type": "stream",
     "text": [
      "(506, 14)\n"
     ]
    },
    {
     "data": {
      "text/html": [
       "<div>\n",
       "<style scoped>\n",
       "    .dataframe tbody tr th:only-of-type {\n",
       "        vertical-align: middle;\n",
       "    }\n",
       "\n",
       "    .dataframe tbody tr th {\n",
       "        vertical-align: top;\n",
       "    }\n",
       "\n",
       "    .dataframe thead th {\n",
       "        text-align: right;\n",
       "    }\n",
       "</style>\n",
       "<table border=\"1\" class=\"dataframe\">\n",
       "  <thead>\n",
       "    <tr style=\"text-align: right;\">\n",
       "      <th></th>\n",
       "      <th>CRIM</th>\n",
       "      <th>ZN</th>\n",
       "      <th>INDUS</th>\n",
       "      <th>CHAS</th>\n",
       "      <th>NOX</th>\n",
       "      <th>RM</th>\n",
       "      <th>AGE</th>\n",
       "      <th>DIS</th>\n",
       "      <th>RAD</th>\n",
       "      <th>TAX</th>\n",
       "      <th>PTRATIO</th>\n",
       "      <th>B</th>\n",
       "      <th>LSTAT</th>\n",
       "      <th>target</th>\n",
       "    </tr>\n",
       "  </thead>\n",
       "  <tbody>\n",
       "    <tr>\n",
       "      <th>0</th>\n",
       "      <td>0.00632</td>\n",
       "      <td>18.0</td>\n",
       "      <td>2.31</td>\n",
       "      <td>0.0</td>\n",
       "      <td>0.538</td>\n",
       "      <td>6.575</td>\n",
       "      <td>65.2</td>\n",
       "      <td>4.0900</td>\n",
       "      <td>1.0</td>\n",
       "      <td>296.0</td>\n",
       "      <td>15.3</td>\n",
       "      <td>396.90</td>\n",
       "      <td>4.98</td>\n",
       "      <td>24.0</td>\n",
       "    </tr>\n",
       "    <tr>\n",
       "      <th>1</th>\n",
       "      <td>0.02731</td>\n",
       "      <td>0.0</td>\n",
       "      <td>7.07</td>\n",
       "      <td>0.0</td>\n",
       "      <td>0.469</td>\n",
       "      <td>6.421</td>\n",
       "      <td>78.9</td>\n",
       "      <td>4.9671</td>\n",
       "      <td>2.0</td>\n",
       "      <td>242.0</td>\n",
       "      <td>17.8</td>\n",
       "      <td>396.90</td>\n",
       "      <td>9.14</td>\n",
       "      <td>21.6</td>\n",
       "    </tr>\n",
       "    <tr>\n",
       "      <th>2</th>\n",
       "      <td>0.02729</td>\n",
       "      <td>0.0</td>\n",
       "      <td>7.07</td>\n",
       "      <td>0.0</td>\n",
       "      <td>0.469</td>\n",
       "      <td>7.185</td>\n",
       "      <td>61.1</td>\n",
       "      <td>4.9671</td>\n",
       "      <td>2.0</td>\n",
       "      <td>242.0</td>\n",
       "      <td>17.8</td>\n",
       "      <td>392.83</td>\n",
       "      <td>4.03</td>\n",
       "      <td>34.7</td>\n",
       "    </tr>\n",
       "    <tr>\n",
       "      <th>3</th>\n",
       "      <td>0.03237</td>\n",
       "      <td>0.0</td>\n",
       "      <td>2.18</td>\n",
       "      <td>0.0</td>\n",
       "      <td>0.458</td>\n",
       "      <td>6.998</td>\n",
       "      <td>45.8</td>\n",
       "      <td>6.0622</td>\n",
       "      <td>3.0</td>\n",
       "      <td>222.0</td>\n",
       "      <td>18.7</td>\n",
       "      <td>394.63</td>\n",
       "      <td>2.94</td>\n",
       "      <td>33.4</td>\n",
       "    </tr>\n",
       "    <tr>\n",
       "      <th>4</th>\n",
       "      <td>0.06905</td>\n",
       "      <td>0.0</td>\n",
       "      <td>2.18</td>\n",
       "      <td>0.0</td>\n",
       "      <td>0.458</td>\n",
       "      <td>7.147</td>\n",
       "      <td>54.2</td>\n",
       "      <td>6.0622</td>\n",
       "      <td>3.0</td>\n",
       "      <td>222.0</td>\n",
       "      <td>18.7</td>\n",
       "      <td>396.90</td>\n",
       "      <td>5.33</td>\n",
       "      <td>36.2</td>\n",
       "    </tr>\n",
       "  </tbody>\n",
       "</table>\n",
       "</div>"
      ],
      "text/plain": [
       "      CRIM    ZN  INDUS  CHAS    NOX     RM   AGE     DIS  RAD    TAX  \\\n",
       "0  0.00632  18.0   2.31   0.0  0.538  6.575  65.2  4.0900  1.0  296.0   \n",
       "1  0.02731   0.0   7.07   0.0  0.469  6.421  78.9  4.9671  2.0  242.0   \n",
       "2  0.02729   0.0   7.07   0.0  0.469  7.185  61.1  4.9671  2.0  242.0   \n",
       "3  0.03237   0.0   2.18   0.0  0.458  6.998  45.8  6.0622  3.0  222.0   \n",
       "4  0.06905   0.0   2.18   0.0  0.458  7.147  54.2  6.0622  3.0  222.0   \n",
       "\n",
       "   PTRATIO       B  LSTAT  target  \n",
       "0     15.3  396.90   4.98    24.0  \n",
       "1     17.8  396.90   9.14    21.6  \n",
       "2     17.8  392.83   4.03    34.7  \n",
       "3     18.7  394.63   2.94    33.4  \n",
       "4     18.7  396.90   5.33    36.2  "
      ]
     },
     "execution_count": 3,
     "metadata": {},
     "output_type": "execute_result"
    }
   ],
   "source": [
    "from sklearn.datasets import load_boston\n",
    "\n",
    "boston_data = load_boston()\n",
    "boston_ds = pd.DataFrame(boston_data['data'], columns=boston_data['feature_names'])\n",
    "boston_ds['target'] = boston_data['target']\n",
    "print(boston_ds.shape)\n",
    "boston_ds.head()"
   ]
  },
  {
   "cell_type": "code",
   "execution_count": 4,
   "metadata": {},
   "outputs": [],
   "source": [
    "train_feats = list(boston_ds.drop('target',1).columns)\n",
    "y_feat = 'target'"
   ]
  },
  {
   "cell_type": "code",
   "execution_count": 5,
   "metadata": {},
   "outputs": [
    {
     "name": "stderr",
     "output_type": "stream",
     "text": [
      "/root/anaconda3/lib/python3.7/site-packages/seaborn/distributions.py:2551: FutureWarning:\n",
      "\n",
      "`distplot` is a deprecated function and will be removed in a future version. Please adapt your code to use either `displot` (a figure-level function with similar flexibility) or `histplot` (an axes-level function for histograms).\n",
      "\n"
     ]
    },
    {
     "data": {
      "image/png": "[encoded data removed]",
      "text/plain": [
       "<Figure size 432x288 with 1 Axes>"
      ]
     },
     "metadata": {
      "needs_background": "light"
     },
     "output_type": "display_data"
    }
   ],
   "source": [
    "sns.distplot(boston_ds[y_feat])\n",
    "plt.title('Target Distribution')\n",
    "plt.show()"
   ]
  },
  {
   "cell_type": "code",
   "execution_count": 6,
   "metadata": {},
   "outputs": [
    {
     "data": {
      "text/plain": [
       "[(455, 13), (51, 13), (455,), (51,)]"
      ]
     },
     "execution_count": 6,
     "metadata": {},
     "output_type": "execute_result"
    }
   ],
   "source": [
    "from sklearn.model_selection import train_test_split\n",
    "\n",
    "X_train, X_test, y_train,  y_test = train_test_split(boston_ds[train_feats], boston_ds[y_feat], test_size=0.1)\n",
    "[x.shape for x in [X_train, X_test, y_train,  y_test]]"
   ]
  },
  {
   "cell_type": "markdown",
   "metadata": {},
   "source": [
    "# Check competitors qualities"
   ]
  },
  {
   "cell_type": "code",
   "execution_count": 7,
   "metadata": {},
   "outputs": [],
   "source": [
    "from sklearn.metrics import mean_absolute_error, mean_squared_error, r2_score"
   ]
  },
  {
   "cell_type": "code",
   "execution_count": 8,
   "metadata": {},
   "outputs": [],
   "source": [
    "def calc_metrics(model_name, y_train, y_test, preds_train, preds_test, ds_full=None):\n",
    "    q_dict = {}\n",
    "    for metric in [mean_absolute_error, mean_squared_error, r2_score]:\n",
    "        q_dict[(metric.__name__,\"train\")] = metric(y_train, preds_train)\n",
    "        q_dict[(metric.__name__,\"test\")] = metric(y_test, preds_test)\n",
    "    q_dict_ = {model_name:q_dict}\n",
    "    q_dict = q_dict_\n",
    "    del q_dict_\n",
    "    q_dict = pd.DataFrame(q_dict).reset_index().rename(columns={'level_0':'metric','level_1':'ds'})\n",
    "    \n",
    "    if ds_full is not None:\n",
    "        if model_name in ds_full.columns:\n",
    "            ds_full = ds_full.drop(model_name, 1)\n",
    "        ds_full = ds_full.merge(q_dict, on=['metric','ds'])\n",
    "    else:\n",
    "        ds_full = q_dict\n",
    "    return ds_full"
   ]
  },
  {
   "cell_type": "code",
   "execution_count": 9,
   "metadata": {},
   "outputs": [],
   "source": [
    "def plot_metrics(ds, figsize=(15,5)):\n",
    "    plt.figure(figsize=figsize)\n",
    "    for m_idx, metric in enumerate(ds['metric'].unique()):\n",
    "        cds = ds[ds['metric']==metric]\n",
    "\n",
    "        plt.subplot(1,3,m_idx+1)\n",
    "        for ds_idx, ds_type in enumerate(['train','test']):\n",
    "            vals = cds[cds['ds']==ds_type].drop(['metric','ds'],1).values[0]\n",
    "            plt.barh(np.arange(len(vals))+0.3*ds_idx, vals, height=0.3, label=ds_type)\n",
    "            for v_idx, v in enumerate(vals):\n",
    "                plt.text(v, v_idx-0.05+0.3*ds_idx, f\"{v:.2f}\")\n",
    "        plt.legend(loc='lower left')\n",
    "        plt.yticks(np.arange(cds.shape[1]-2), cds.drop(['metric','ds'],1).columns, rotation=0)\n",
    "        plt.title(metric)\n",
    "    plt.tight_layout()\n",
    "    plt.show()    "
   ]
  },
  {
   "cell_type": "code",
   "execution_count": 50,
   "metadata": {},
   "outputs": [
    {
     "data": {
      "application/vnd.jupyter.widget-view+json": {
       "model_id": "2c8b368cf7d748248555500897510cf5",
       "version_major": 2,
       "version_minor": 0
      },
      "text/plain": [
       "HBox(children=(FloatProgress(value=0.0, max=5.0), HTML(value='')))"
      ]
     },
     "metadata": {},
     "output_type": "display_data"
    },
    {
     "name": "stdout",
     "output_type": "stream",
     "text": [
      "\n"
     ]
    }
   ],
   "source": [
    "from sklearn.linear_model import LinearRegression\n",
    "from sklearn.tree import DecisionTreeRegressor\n",
    "from sklearn.ensemble import RandomForestRegressor\n",
    "from xgboost import XGBRegressor\n",
    "from catboost import CatBoostRegressor, Pool\n",
    "\n",
    "\n",
    "models = [LinearRegression(), DecisionTreeRegressor(), RandomForestRegressor(),\n",
    "          XGBRegressor(), CatBoostRegressor()]\n",
    "comp_qualities = None\n",
    "for m in tqdm(models):\n",
    "    if type(m)==CatBoostRegressor:\n",
    "        p_train, p_test = Pool(X_train, y_train), Pool(X_test, y_test)\n",
    "        m.fit(p_train, verbose=False)\n",
    "        preds_train, preds_test = [m.predict(p) for p in [p_train, p_test]]\n",
    "    else:\n",
    "        m.fit(X_train, y_train)\n",
    "        preds_train, preds_test = [m.predict(p) for p in [X_train, X_test]]\n",
    "    \n",
    "    comp_qualities = calc_metrics(m.__class__.__name__, y_train, y_test, preds_train, preds_test, comp_qualities)"
   ]
  },
  {
   "cell_type": "code",
   "execution_count": 51,
   "metadata": {},
   "outputs": [
    {
     "data": {
      "image/png": "[encoded data removed]",
      "text/plain": [
       "<Figure size 1080x244.8 with 3 Axes>"
      ]
     },
     "metadata": {
      "needs_background": "light"
     },
     "output_type": "display_data"
    }
   ],
   "source": [
    "plot_metrics(comp_qualities, figsize=(15,3.4))"
   ]
  },
  {
   "cell_type": "markdown",
   "metadata": {},
   "source": [
    "# Multi-valued contexts\n",
    "\n",
    "Работа с узорными структурами.\n",
    "\n",
    "\n",
    "Сейчас реализованы только:\n",
    "* интервальная узорная структура ($g^{'} = [a_{min}, a_{max}], \\quad g_1^{'}\\sqcap g_2^{'} = [min(a_{1_{min}}, a_{2_{min}}), max(a_{1_{max}}, a_{2_{max}}  )],\\quad$ где $g$ - объект, $a_{min}, a_{max} \\in \\mathbb{R}$)\n",
    "* узорная структура на множествах ($g^{'} = A, \\quad g_1^{'}\\sqcap g_2^{'} = A_1 \\cap A_2,\\quad$ где $g$ - объект, $A \\subseteq W$,$W$ - множество каких-то значений)"
   ]
  },
  {
   "cell_type": "markdown",
   "metadata": {},
   "source": [
    "## Lattice construction on big data for supervised learning\n",
    "\n",
    "На больших контекстах нет смысла рассчитывать все понятия. Будем аппроксимировать решётку через объединение нескольких деревьев решений (про это будет моя магистерская). Возможно такую решётку нельзя будет рассматривать, как средство для KDD (тут лучше пользоваться алгоритмом sofia, который у меня пока не имплементирова), зато её можно использовать для классификации объектов."
   ]
  },
  {
   "cell_type": "markdown",
   "metadata": {},
   "source": [
    "### Конструирование аппроксимированной решётки"
   ]
  },
  {
   "cell_type": "markdown",
   "metadata": {},
   "source": [
    "Делим контекст на обучающую и тестовую выборки."
   ]
  },
  {
   "cell_type": "code",
   "execution_count": 12,
   "metadata": {},
   "outputs": [],
   "source": [
    "fcai = reload(fcai)"
   ]
  },
  {
   "cell_type": "code",
   "execution_count": 13,
   "metadata": {},
   "outputs": [],
   "source": [
    "np.random.seed(42)\n",
    "\n",
    "mvcntx_train = fcai.MultiValuedContext(X_train, y_true=y_train, cat_attrs=[])\n",
    "mvcntx_test = fcai.MultiValuedContext(X_test, y_true=y_test, cat_attrs=[])\n",
    "fm_mv = fcai.FormalManager(mvcntx_train, task_type='Regression')"
   ]
  },
  {
   "cell_type": "markdown",
   "metadata": {},
   "source": [
    "Строим понятия на обучающей выборке"
   ]
  },
  {
   "cell_type": "code",
   "execution_count": 43,
   "metadata": {},
   "outputs": [
    {
     "data": {
      "application/vnd.jupyter.widget-view+json": {
       "model_id": "7c57f88d5a064ad9ab3a23b887a74399",
       "version_major": 2,
       "version_minor": 0
      },
      "text/plain": [
       "HBox(children=(FloatProgress(value=0.0, description='Postprocessing', max=4058.0, style=ProgressStyle(descript…"
      ]
     },
     "metadata": {},
     "output_type": "display_data"
    },
    {
     "name": "stdout",
     "output_type": "stream",
     "text": [
      "\n",
      "4058\n",
      "CPU times: user 2.24 s, sys: 56.8 ms, total: 2.3 s\n",
      "Wall time: 2.22 s\n"
     ]
    }
   ],
   "source": [
    "%%time\n",
    "fm_mv.construct_concepts(\n",
    "    use_tqdm=True, algo='RandomForest',\n",
    "    rf_params={'random_state':42, 'n_estimators':10})\n",
    "print(len(fm_mv.get_concepts()))"
   ]
  },
  {
   "cell_type": "markdown",
   "metadata": {},
   "source": [
    "Небольшой костыль - добавляем в решётку самое меньшее понятие, которое ничего не описывает. Это нужно только для красивой визуализации и корректного расчёта индексов стабильности."
   ]
  },
  {
   "cell_type": "code",
   "execution_count": 44,
   "metadata": {},
   "outputs": [],
   "source": [
    "fm_mv._concepts.add(\n",
    "    fcai.PatternStructure(\n",
    "        extent=[], intent=None, cat_feats=[],\n",
    "        idx=len(fm_mv.get_concepts()), metrics={'mean_y_true':0} ) )"
   ]
  },
  {
   "cell_type": "markdown",
   "metadata": {},
   "source": [
    "Строим остовное дерево на понятиях. Для классификации объектов не обязательно рассчитывать всю решётку, все связи между понятиями."
   ]
  },
  {
   "cell_type": "code",
   "execution_count": 45,
   "metadata": {},
   "outputs": [
    {
     "data": {
      "application/vnd.jupyter.widget-view+json": {
       "model_id": "efb5b92762dc4233bf10c8276f81263a",
       "version_major": 2,
       "version_minor": 0
      },
      "text/plain": [
       "HBox(children=(FloatProgress(value=0.0, description='construct spanning tree', max=4059.0, style=ProgressStyle…"
      ]
     },
     "metadata": {},
     "output_type": "display_data"
    },
    {
     "name": "stdout",
     "output_type": "stream",
     "text": [
      "\n"
     ]
    },
    {
     "data": {
      "application/vnd.jupyter.widget-view+json": {
       "model_id": "3944ebfc962b4990bf7192a9738712b6",
       "version_major": 2,
       "version_minor": 0
      },
      "text/plain": [
       "HBox(children=(FloatProgress(value=0.0, description='iterate through chains', max=1758.0, style=ProgressStyle(…"
      ]
     },
     "metadata": {},
     "output_type": "display_data"
    },
    {
     "name": "stdout",
     "output_type": "stream",
     "text": [
      "\n",
      "CPU times: user 1min 8s, sys: 295 ms, total: 1min 9s\n",
      "Wall time: 1min 8s\n"
     ]
    }
   ],
   "source": [
    "%%time\n",
    "fm_mv.construct_lattice(use_tqdm=True, only_spanning_tree=False)"
   ]
  },
  {
   "cell_type": "markdown",
   "metadata": {},
   "source": [
    "Небольшой костыль, чтобы можно было визуализировать получившееся остовное дерево. При расчёте решётки понятий этот код происходит автоматически."
   ]
  },
  {
   "cell_type": "code",
   "execution_count": 46,
   "metadata": {},
   "outputs": [
    {
     "data": {
      "application/vnd.jupyter.widget-view+json": {
       "model_id": "bf292a0ddc5e4a03816c48fc3ed361b5",
       "version_major": 2,
       "version_minor": 0
      },
      "text/plain": [
       "HBox(children=(FloatProgress(value=0.0, max=4059.0), HTML(value='')))"
      ]
     },
     "metadata": {},
     "output_type": "display_data"
    },
    {
     "name": "stdout",
     "output_type": "stream",
     "text": [
      "\n"
     ]
    }
   ],
   "source": [
    "for c in tqdm(fm_mv.get_concepts()):\n",
    "    c._up_neighbs = {c._up_neighb_st} \\\n",
    "        if c._up_neighb_st is not None else None\n",
    "    c._low_neighbs = c._low_neighbs_st\n",
    "\n",
    "fm_mv._calc_concept_levels() # расчёт горизонтальной координаты при отображении понятия"
   ]
  },
  {
   "cell_type": "markdown",
   "metadata": {},
   "source": [
    "Рассчёт дополнительных метрик для регрессии"
   ]
  },
  {
   "cell_type": "raw",
   "metadata": {},
   "source": [
    "for idx, c in enumerate(fm_mv.sort_concepts()):\n",
    "    c._idx = idx\n",
    "    \n",
    "    ext_idxs = fm_mv.get_context().get_extent(\n",
    "        c.get_intent(), verb=False)\n",
    "    c._metrics['class_prob_max'] = 0\n",
    "    c._metrics['class_id_predict'] = 0\n",
    "    \n",
    "    for target_id, target_name in enumerate(iris_data['target_names']):\n",
    "        metric_name = f'class_{target_id}_prob'\n",
    "        c._metrics[metric_name] = (\n",
    "            fm_mv.get_context()._y_true[ext_idxs]==target_id).mean()\n",
    "        \n",
    "        if c._metrics[metric_name]>c._metrics['class_prob_max']:\n",
    "            c._metrics['class_prob_max'] = c._metrics[metric_name]\n",
    "            c._metrics['class_id_predict'] = target_id\n",
    "    c._metrics['class_name_predict'] = iris_data['target_names'][\n",
    "        c._metrics['class_id_predict']]"
   ]
  },
  {
   "cell_type": "markdown",
   "metadata": {},
   "source": [
    "Визуализируем остовное дерево"
   ]
  },
  {
   "cell_type": "raw",
   "metadata": {},
   "source": [
    "fig_mv = fm_mv.get_plotly_fig(\n",
    "    # отображаем только кол-во изменившихся аттрибутов\n",
    "    # и кол-во новых объектов в понятии\n",
    "    new_attrs_lim=1, new_objs_lim=1, \n",
    "    # работа с цветом понятий\n",
    "    color_by='mean_y_true', cbar_title='Mean Y True',\n",
    "    cmap='RdBu',# opacity_by='class_prob_max',\n",
    "    # сортировка понятий по горизонтали\n",
    "    level_sort='all', #sort_by='mean_y_true', \n",
    "    title=\"Approximate Concept Lattice for Boston dataset\",\n",
    ")"
   ]
  },
  {
   "cell_type": "raw",
   "metadata": {},
   "source": [
    "fig_mv"
   ]
  },
  {
   "cell_type": "markdown",
   "metadata": {},
   "source": [
    "### Классификация с помощью решётки\n",
    "\n",
    "Алгоритм классификации объекта $g$:\n",
    "1. Найти множество $C^g$ минимальных (по включению) понятий, которые описывают объект $g$\n",
    "2. Предсказание для объекта $g$ = среднее из предсказаний каждого понятия из $C^g$"
   ]
  },
  {
   "cell_type": "markdown",
   "metadata": {},
   "source": [
    "Получаем предсказания для каждого объекта из обучающего и тестового контекстов"
   ]
  },
  {
   "cell_type": "code",
   "execution_count": 52,
   "metadata": {},
   "outputs": [
    {
     "name": "stdout",
     "output_type": "stream",
     "text": [
      "CPU times: user 1.43 s, sys: 0 ns, total: 1.43 s\n",
      "Wall time: 1.43 s\n"
     ]
    },
    {
     "data": {
      "text/plain": [
       "matrix([[32.1168338 ],\n",
       "        [22.18447639],\n",
       "        [21.62061491]])"
      ]
     },
     "execution_count": 52,
     "metadata": {},
     "output_type": "execute_result"
    }
   ],
   "source": [
    "%%time\n",
    "metrics = ['mean_y_true']\n",
    "preds_train = fm_mv.predict_context(mvcntx_train, metric=metrics)\n",
    "preds_test = fm_mv.predict_context(mvcntx_test, metric=metrics)\n",
    "preds_test[[0,10,20]]"
   ]
  },
  {
   "cell_type": "markdown",
   "metadata": {},
   "source": [
    "Качество на обучающей и тестовой выборке"
   ]
  },
  {
   "cell_type": "code",
   "execution_count": 53,
   "metadata": {},
   "outputs": [],
   "source": [
    "comp_qualities = calc_metrics('FCA basic', y_train, y_test, preds_train, preds_test, comp_qualities)"
   ]
  },
  {
   "cell_type": "code",
   "execution_count": 54,
   "metadata": {},
   "outputs": [
    {
     "data": {
      "image/png": "[encoded data removed]",
      "text/plain": [
       "<Figure size 1080x252 with 3 Axes>"
      ]
     },
     "metadata": {
      "needs_background": "light"
     },
     "output_type": "display_data"
    }
   ],
   "source": [
    "plot_metrics(comp_qualities, (15, 3.5))"
   ]
  },
  {
   "cell_type": "markdown",
   "metadata": {},
   "source": [
    "# FCA with Linear Regression Weights"
   ]
  },
  {
   "cell_type": "code",
   "execution_count": 55,
   "metadata": {},
   "outputs": [],
   "source": [
    "def predict_fca(fm, cntx, metric, W, normalized=False, A=None):\n",
    "    mvals = np.array([c._metrics[metric] for c in fm.sort_concepts()])\n",
    "\n",
    "    if A is None:\n",
    "        n_objs, n_cncpts = len(cntx.get_objs()), len(fm.get_concepts())\n",
    "        \n",
    "        obj_preds_cncpts = fm.trace_context(cntx)[0]\n",
    "        \n",
    "        Acoords = np.array([(1,g, c_id)\n",
    "                       for g, c_ids in obj_preds_cncpts.items() for c_id in c_ids])\n",
    "        A = csr_matrix((Acoords[:, 0], (Acoords[:, 1].astype(int), Acoords[:, 2].astype(int))),\n",
    "                shape=(n_objs, n_cncpts))\n",
    "    #print(A.shape, mvals.shape)\n",
    "    Am = A.multiply(mvals)\n",
    "    \n",
    "    preds = Am.dot(W)#/(X>0).dot(W) \n",
    "    if normalized:\n",
    "        preds = preds/A.dot(W)\n",
    "    return preds, A"
   ]
  },
  {
   "cell_type": "code",
   "execution_count": 56,
   "metadata": {},
   "outputs": [],
   "source": [
    "from scipy.sparse import csr_matrix"
   ]
  },
  {
   "cell_type": "code",
   "execution_count": 57,
   "metadata": {},
   "outputs": [],
   "source": [
    "def train_rflr(fm, cntx_train, y_train, algo, A_train=None, metric='mean_y_true'):\n",
    "    n_objs, n_cncpts = len(cntx_train.get_objs()), len(fm.get_concepts())\n",
    "    W0 =  np.ones(n_cncpts)/n_cncpts\n",
    "    \n",
    "    mvals = np.array([c._metrics[metric] for c in fm.sort_concepts()])\n",
    "    \n",
    "    if A_train is None:\n",
    "        n_objs, n_cncpts = len(cntx_train.get_objs()), len(fm.get_concepts())\n",
    "        \n",
    "        obj_preds_cncpts = fm.trace_context(cntx_train)[0]\n",
    "        \n",
    "        Acoords = np.array([(1,g, c_id)\n",
    "                       for g, c_ids in obj_preds_cncpts.items() for c_id in c_ids])\n",
    "        A_train = csr_matrix((Acoords[:, 0], (Acoords[:, 1].astype(int), Acoords[:, 2].astype(int))),\n",
    "                shape=(n_objs, n_cncpts))\n",
    "    #print(A.shape, mvals.shape)\n",
    "    Am = A_train.multiply(mvals)\n",
    "    \n",
    "    lr = algo()\n",
    "    lr.fit(Am, y_train)\n",
    "    W_lr = lr.coef_\n",
    "    \n",
    "    return W_lr"
   ]
  },
  {
   "cell_type": "code",
   "execution_count": 585,
   "metadata": {},
   "outputs": [
    {
     "data": {
      "text/plain": [
       "{'mean_y_true': 34.150000000000006,\n",
       " 'stab_min_bound': None,\n",
       " 'stab_max_bound': None,\n",
       " 'log_stab_min_bound': None,\n",
       " 'log_stab_max_bound': None,\n",
       " 'lstab_min_bound': None,\n",
       " 'std_y_true': 2.7577164466275343,\n",
       " 'mae': 1.9499999999999993}"
      ]
     },
     "execution_count": 585,
     "metadata": {},
     "output_type": "execute_result"
    }
   ],
   "source": [
    "c._metrics"
   ]
  },
  {
   "cell_type": "code",
   "execution_count": 622,
   "metadata": {},
   "outputs": [],
   "source": [
    "def balance_weights(fm, W, use_MI=False):\n",
    "    W1 = W.copy()\n",
    "    cncpts_dict = {c.get_id():c for c in fm.get_concepts()}\n",
    "    for c_idx in range(len(fm.get_concepts())-1,-1,-1):\n",
    "        if W1[c_idx]==0:\n",
    "            c = cncpts_dict[c_idx]\n",
    "            mi_weights = np.array([c._metrics['std_y_true']-fm.get_concept_by_id(ln_id)._metrics['std_y_true']\n",
    "                          for ln_id in c._low_neighbs] if use_MI else np.ones(len(c._low_neighbs)))\n",
    "            ln_weights = W1[list(c._low_neighbs)]\n",
    "            W1[c_idx] = (ln_weights*mi_weights).sum()/mi_weights.sum()\n",
    "    return W1"
   ]
  },
  {
   "cell_type": "code",
   "execution_count": 59,
   "metadata": {},
   "outputs": [],
   "source": [
    "from sklearn.linear_model import Ridge"
   ]
  },
  {
   "cell_type": "markdown",
   "metadata": {},
   "source": [
    "All equal weights"
   ]
  },
  {
   "cell_type": "code",
   "execution_count": 60,
   "metadata": {},
   "outputs": [],
   "source": [
    "W0 = np.ones(len(fm_mv.get_concepts()))/np.ones(len(fm_mv.get_concepts()))*10"
   ]
  },
  {
   "cell_type": "code",
   "execution_count": 61,
   "metadata": {},
   "outputs": [
    {
     "name": "stderr",
     "output_type": "stream",
     "text": [
      "/root/anaconda3/lib/python3.7/site-packages/ipykernel_launcher.py:18: RuntimeWarning:\n",
      "\n",
      "invalid value encountered in true_divide\n",
      "\n"
     ]
    }
   ],
   "source": [
    "preds_train, A_train = predict_fca(fm_mv, mvcntx_train, 'mean_y_true', W0, normalized=True)\n",
    "preds_test, A_test = predict_fca(fm_mv, mvcntx_test, 'mean_y_true', W0, normalized=True)\n",
    "preds_test[np.isnan(preds_test)] = y_train.mean()\n",
    "\n",
    "comp_qualities = calc_metrics('FCA equal weights norm', y_train, y_test, preds_train, preds_test, comp_qualities)"
   ]
  },
  {
   "cell_type": "markdown",
   "metadata": {},
   "source": [
    "Linear And Ridge Regression Weights"
   ]
  },
  {
   "cell_type": "code",
   "execution_count": 62,
   "metadata": {},
   "outputs": [
    {
     "name": "stderr",
     "output_type": "stream",
     "text": [
      "/root/anaconda3/lib/python3.7/site-packages/ipykernel_launcher.py:8: RuntimeWarning:\n",
      "\n",
      "Mean of empty slice.\n",
      "\n",
      "/root/anaconda3/lib/python3.7/site-packages/numpy/core/_methods.py:161: RuntimeWarning:\n",
      "\n",
      "invalid value encountered in double_scalars\n",
      "\n",
      "/root/anaconda3/lib/python3.7/site-packages/ipykernel_launcher.py:18: RuntimeWarning:\n",
      "\n",
      "invalid value encountered in true_divide\n",
      "\n",
      "/root/anaconda3/lib/python3.7/site-packages/ipykernel_launcher.py:18: RuntimeWarning:\n",
      "\n",
      "invalid value encountered in true_divide\n",
      "\n",
      "/root/anaconda3/lib/python3.7/site-packages/ipykernel_launcher.py:8: RuntimeWarning:\n",
      "\n",
      "Mean of empty slice.\n",
      "\n",
      "/root/anaconda3/lib/python3.7/site-packages/numpy/core/_methods.py:161: RuntimeWarning:\n",
      "\n",
      "invalid value encountered in double_scalars\n",
      "\n",
      "/root/anaconda3/lib/python3.7/site-packages/ipykernel_launcher.py:18: RuntimeWarning:\n",
      "\n",
      "invalid value encountered in true_divide\n",
      "\n",
      "/root/anaconda3/lib/python3.7/site-packages/ipykernel_launcher.py:18: RuntimeWarning:\n",
      "\n",
      "invalid value encountered in true_divide\n",
      "\n"
     ]
    }
   ],
   "source": [
    "for algo_name, algo in [('LR',LinearRegression), ('Ridge', Ridge)]:\n",
    "    W = train_rflr(fm_mv, mvcntx_train, y_train, algo, A_train=A_train)\n",
    "    Wb = balance_weights(fm_mv, W)\n",
    "\n",
    "    for is_bal_name, w in [('',W), (' balanced',Wb)]:\n",
    "        preds_train = predict_fca(fm_mv, mvcntx_train, 'mean_y_true', w, normalized=True, A=A_train)[0]\n",
    "        preds_test = predict_fca(fm_mv, mvcntx_test, 'mean_y_true', w, normalized=True, A=A_test)[0]\n",
    "        preds_test[np.isnan(preds_test)] = y_train.mean()\n",
    "        comp_qualities = calc_metrics(\n",
    "            f'FCA {algo_name}{is_bal_name} norm',\n",
    "            y_train, y_test, preds_train, preds_test, comp_qualities\n",
    "        )"
   ]
  },
  {
   "cell_type": "code",
   "execution_count": 63,
   "metadata": {},
   "outputs": [
    {
     "data": {
      "image/png": "[encoded data removed]",
      "text/plain": [
       "<Figure size 1080x360 with 3 Axes>"
      ]
     },
     "metadata": {
      "needs_background": "light"
     },
     "output_type": "display_data"
    }
   ],
   "source": [
    "plot_metrics(comp_qualities)"
   ]
  },
  {
   "cell_type": "code",
   "execution_count": 65,
   "metadata": {},
   "outputs": [
    {
     "data": {
      "image/png": "[encoded data removed]",
      "text/plain": [
       "<Figure size 1080x360 with 3 Axes>"
      ]
     },
     "metadata": {
      "needs_background": "light"
     },
     "output_type": "display_data"
    }
   ],
   "source": [
    "plot_metrics(comp_qualities.drop([f for f in comp_qualities.columns if any([f_ in f for f_ in ['LR','Ridge']])],1))"
   ]
  },
  {
   "cell_type": "markdown",
   "metadata": {},
   "source": [
    "## Aggregation + Interesting Measures"
   ]
  },
  {
   "cell_type": "code",
   "execution_count": 66,
   "metadata": {},
   "outputs": [],
   "source": [
    "def predict_fca_top_intermeas(fm, cntx, measure_func, n_top_cncpts, metric='mean_y_true', aggfunc='mean', \n",
    "                              obj_preds_cncpts=None):\n",
    "    wvals = np.array([measure_func(c) for c in fm.sort_concepts()])\n",
    "    mvals = np.array([c._metrics[metric] for c in fm.sort_concepts()])\n",
    "\n",
    "    obj_preds_cncpts = fm.trace_context(cntx)[0] if obj_preds_cncpts is None else obj_preds_cncpts\n",
    "    n_objs, n_cncpts = len(obj_preds_cncpts), len(fm.get_concepts())\n",
    "\n",
    "    wvals_ths = {g: np.sort(np.unique(wvals[c_ids]))[-n_top_cncpts:].min() if len(c_ids)>0 else None\n",
    "             for g, c_ids in obj_preds_cncpts.items()}\n",
    "\n",
    "    if aggfunc == 'mean':\n",
    "        X_ = np.array([(1,g, c_id)\n",
    "                       for g, c_ids in obj_preds_cncpts.items()\n",
    "                       for c_id in c_ids if wvals[c_id]>=wvals_ths[g]])\n",
    "        X = csr_matrix((X_[:, 0], (X_[:, 1].astype(int), X_[:, 2].astype(int))),\n",
    "                shape=(n_objs, n_cncpts))\n",
    "        Xm = X.multiply(mvals)\n",
    "    \n",
    "        preds = np.array(Xm.sum(1)/X.sum(1))\n",
    "    elif aggfunc in ['min','max']:\n",
    "        dct = {g: [mvals[c_id] for c_id in c_ids if wvals[c_id]>=wvals_ths[g]]\n",
    "         for g,c_ids in obj_preds_cncpts.items()}\n",
    "        f_ = min if aggfunc=='min' else max\n",
    "        preds = np.array([f_(dct[g]) if len(dct[g])>0 else np.nan for g in sorted(dct.keys())]).reshape(-1,1)\n",
    "    else:\n",
    "        raise ValueError(f'Unknown aggfunc {aggfunc}. In predict_fca_top_intermeas')\n",
    "    \n",
    "    return preds"
   ]
  },
  {
   "cell_type": "markdown",
   "metadata": {},
   "source": [
    "1 hour to lattice construction"
   ]
  },
  {
   "cell_type": "raw",
   "metadata": {},
   "source": [
    "for c in tqdm(fm_mv.get_concepts()):\n",
    "    c._extent = mvcntx_train.get_extent(c.get_intent(), verb=True)"
   ]
  },
  {
   "cell_type": "raw",
   "metadata": {},
   "source": [
    "fm_mv.save_concepts_json('concepts30k_boston_ds.json')"
   ]
  },
  {
   "cell_type": "code",
   "execution_count": 67,
   "metadata": {},
   "outputs": [
    {
     "data": {
      "application/vnd.jupyter.widget-view+json": {
       "model_id": "d6fb85e185b34b54b074cb159a021078",
       "version_major": 2,
       "version_minor": 0
      },
      "text/plain": [
       "HBox(children=(FloatProgress(value=0.0, max=4059.0), HTML(value='')))"
      ]
     },
     "metadata": {},
     "output_type": "display_data"
    },
    {
     "name": "stdout",
     "output_type": "stream",
     "text": [
      "\n"
     ]
    },
    {
     "name": "stderr",
     "output_type": "stream",
     "text": [
      "/opt/lib/fca_interp.py:1009: RuntimeWarning:\n",
      "\n",
      "divide by zero encountered in log2\n",
      "\n",
      "/opt/lib/fca_interp.py:1010: RuntimeWarning:\n",
      "\n",
      "divide by zero encountered in log2\n",
      "\n"
     ]
    }
   ],
   "source": [
    "fm_mv.calc_stability_approx(use_tqdm=True)"
   ]
  },
  {
   "cell_type": "code",
   "execution_count": 68,
   "metadata": {},
   "outputs": [
    {
     "data": {
      "application/vnd.jupyter.widget-view+json": {
       "model_id": "8ce830fac59743319245550810f1e571",
       "version_major": 2,
       "version_minor": 0
      },
      "text/plain": [
       "HBox(children=(FloatProgress(value=0.0, max=4059.0), HTML(value='')))"
      ]
     },
     "metadata": {},
     "output_type": "display_data"
    },
    {
     "name": "stdout",
     "output_type": "stream",
     "text": [
      "\n"
     ]
    },
    {
     "name": "stderr",
     "output_type": "stream",
     "text": [
      "/root/anaconda3/lib/python3.7/site-packages/numpy/core/_methods.py:217: RuntimeWarning:\n",
      "\n",
      "Degrees of freedom <= 0 for slice\n",
      "\n",
      "/root/anaconda3/lib/python3.7/site-packages/numpy/core/_methods.py:209: RuntimeWarning:\n",
      "\n",
      "invalid value encountered in double_scalars\n",
      "\n",
      "/root/anaconda3/lib/python3.7/site-packages/numpy/core/_methods.py:186: RuntimeWarning:\n",
      "\n",
      "invalid value encountered in true_divide\n",
      "\n",
      "/root/anaconda3/lib/python3.7/site-packages/ipykernel_launcher.py:4: RuntimeWarning:\n",
      "\n",
      "Mean of empty slice.\n",
      "\n",
      "/root/anaconda3/lib/python3.7/site-packages/numpy/core/_methods.py:161: RuntimeWarning:\n",
      "\n",
      "invalid value encountered in double_scalars\n",
      "\n"
     ]
    }
   ],
   "source": [
    "for c in tqdm(fm_mv.get_concepts()):\n",
    "    xs = fm_mv.get_context()._y_true[c.get_extent()]\n",
    "    c._metrics['std_y_true'] = np.nan_to_num(xs.std(ddof=1))\n",
    "    c._metrics['mae'] = np.abs(xs-xs.mean()).mean()"
   ]
  },
  {
   "cell_type": "code",
   "execution_count": 71,
   "metadata": {},
   "outputs": [],
   "source": [
    "measure_funcs = {\n",
    "    'support asc': lambda c: len(c.get_extent()),\n",
    "    'support desc': lambda c: -len(c.get_extent()),\n",
    "    'std': lambda c: c._metrics['std_y_true'] if c._metrics['std_y_true']>0 else 1e-9,\n",
    "    'std inv': lambda c: 1/(1+c._metrics['std_y_true']),\n",
    "    'std neg': lambda c: -c._metrics['std_y_true'] if c._metrics['std_y_true']>0 else 1e-9,\n",
    "    'dev': lambda c: c._metrics['std_y_true']**2 if c._metrics['std_y_true']>0 else 1e-9,\n",
    "    'dev inv': lambda c: 1/(1+c._metrics['std_y_true']**2),\n",
    "    'dev neg': lambda c: -c._metrics['std_y_true']**2 if c._metrics['std_y_true']>0 else 1e-9,\n",
    "    'mae': lambda c: c._metrics['mae'] if c._metrics['mae']>0 else 1e-9,\n",
    "    'mae neg': lambda c: -c._metrics['mae'] if c._metrics['mae']>0 else 1e-9,\n",
    "    'mae inv': lambda c: 1/(1+c._metrics['mae']),\n",
    "    'stability asc': lambda c: fcai.get_not_none(c._metrics['log_stab_min_bound'],0),\n",
    "    'stability desc': lambda c: -fcai.get_not_none(c._metrics['log_stab_min_bound'],1),\n",
    "}"
   ]
  },
  {
   "cell_type": "code",
   "execution_count": 72,
   "metadata": {},
   "outputs": [],
   "source": [
    "n_max_objects = A_train.sum(0).max() #max([len(c_ids) for g, c_ids in fm_mv.trace_context(mvcntx_train)[0].items()])"
   ]
  },
  {
   "cell_type": "code",
   "execution_count": 73,
   "metadata": {},
   "outputs": [],
   "source": [
    "import warnings\n",
    "warnings.filterwarnings(\"ignore\")"
   ]
  },
  {
   "cell_type": "code",
   "execution_count": 74,
   "metadata": {},
   "outputs": [
    {
     "name": "stdout",
     "output_type": "stream",
     "text": [
      "CPU times: user 1.37 s, sys: 0 ns, total: 1.37 s\n",
      "Wall time: 1.37 s\n"
     ]
    }
   ],
   "source": [
    "%%time\n",
    "obj_preds_cncpts_train = fm_mv.trace_context(mvcntx_train)[0]\n",
    "obj_preds_cncpts_test = fm_mv.trace_context(mvcntx_test)[0]"
   ]
  },
  {
   "cell_type": "code",
   "execution_count": 75,
   "metadata": {},
   "outputs": [
    {
     "data": {
      "application/vnd.jupyter.widget-view+json": {
       "model_id": "2a2477296bcd46119a6a5c8d6915dae8",
       "version_major": 2,
       "version_minor": 0
      },
      "text/plain": [
       "HBox(children=(FloatProgress(value=0.0, max=13.0), HTML(value='')))"
      ]
     },
     "metadata": {},
     "output_type": "display_data"
    },
    {
     "data": {
      "application/vnd.jupyter.widget-view+json": {
       "model_id": "",
       "version_major": 2,
       "version_minor": 0
      },
      "text/plain": [
       "HBox(children=(FloatProgress(value=0.0, description='support asc', max=3.0, style=ProgressStyle(description_wi…"
      ]
     },
     "metadata": {},
     "output_type": "display_data"
    },
    {
     "data": {
      "application/vnd.jupyter.widget-view+json": {
       "model_id": "",
       "version_major": 2,
       "version_minor": 0
      },
      "text/plain": [
       "HBox(children=(FloatProgress(value=0.0, max=10.0), HTML(value='')))"
      ]
     },
     "metadata": {},
     "output_type": "display_data"
    },
    {
     "data": {
      "application/vnd.jupyter.widget-view+json": {
       "model_id": "",
       "version_major": 2,
       "version_minor": 0
      },
      "text/plain": [
       "HBox(children=(FloatProgress(value=0.0, max=10.0), HTML(value='')))"
      ]
     },
     "metadata": {},
     "output_type": "display_data"
    },
    {
     "data": {
      "application/vnd.jupyter.widget-view+json": {
       "model_id": "",
       "version_major": 2,
       "version_minor": 0
      },
      "text/plain": [
       "HBox(children=(FloatProgress(value=0.0, max=10.0), HTML(value='')))"
      ]
     },
     "metadata": {},
     "output_type": "display_data"
    },
    {
     "data": {
      "application/vnd.jupyter.widget-view+json": {
       "model_id": "",
       "version_major": 2,
       "version_minor": 0
      },
      "text/plain": [
       "HBox(children=(FloatProgress(value=0.0, description='support desc', max=3.0, style=ProgressStyle(description_w…"
      ]
     },
     "metadata": {},
     "output_type": "display_data"
    },
    {
     "data": {
      "application/vnd.jupyter.widget-view+json": {
       "model_id": "",
       "version_major": 2,
       "version_minor": 0
      },
      "text/plain": [
       "HBox(children=(FloatProgress(value=0.0, max=10.0), HTML(value='')))"
      ]
     },
     "metadata": {},
     "output_type": "display_data"
    },
    {
     "data": {
      "application/vnd.jupyter.widget-view+json": {
       "model_id": "",
       "version_major": 2,
       "version_minor": 0
      },
      "text/plain": [
       "HBox(children=(FloatProgress(value=0.0, max=10.0), HTML(value='')))"
      ]
     },
     "metadata": {},
     "output_type": "display_data"
    },
    {
     "data": {
      "application/vnd.jupyter.widget-view+json": {
       "model_id": "",
       "version_major": 2,
       "version_minor": 0
      },
      "text/plain": [
       "HBox(children=(FloatProgress(value=0.0, max=10.0), HTML(value='')))"
      ]
     },
     "metadata": {},
     "output_type": "display_data"
    },
    {
     "data": {
      "application/vnd.jupyter.widget-view+json": {
       "model_id": "",
       "version_major": 2,
       "version_minor": 0
      },
      "text/plain": [
       "HBox(children=(FloatProgress(value=0.0, description='std', max=3.0, style=ProgressStyle(description_width='ini…"
      ]
     },
     "metadata": {},
     "output_type": "display_data"
    },
    {
     "data": {
      "application/vnd.jupyter.widget-view+json": {
       "model_id": "",
       "version_major": 2,
       "version_minor": 0
      },
      "text/plain": [
       "HBox(children=(FloatProgress(value=0.0, max=10.0), HTML(value='')))"
      ]
     },
     "metadata": {},
     "output_type": "display_data"
    },
    {
     "data": {
      "application/vnd.jupyter.widget-view+json": {
       "model_id": "",
       "version_major": 2,
       "version_minor": 0
      },
      "text/plain": [
       "HBox(children=(FloatProgress(value=0.0, max=10.0), HTML(value='')))"
      ]
     },
     "metadata": {},
     "output_type": "display_data"
    },
    {
     "data": {
      "application/vnd.jupyter.widget-view+json": {
       "model_id": "",
       "version_major": 2,
       "version_minor": 0
      },
      "text/plain": [
       "HBox(children=(FloatProgress(value=0.0, max=10.0), HTML(value='')))"
      ]
     },
     "metadata": {},
     "output_type": "display_data"
    },
    {
     "data": {
      "application/vnd.jupyter.widget-view+json": {
       "model_id": "",
       "version_major": 2,
       "version_minor": 0
      },
      "text/plain": [
       "HBox(children=(FloatProgress(value=0.0, description='std inv', max=3.0, style=ProgressStyle(description_width=…"
      ]
     },
     "metadata": {},
     "output_type": "display_data"
    },
    {
     "data": {
      "application/vnd.jupyter.widget-view+json": {
       "model_id": "",
       "version_major": 2,
       "version_minor": 0
      },
      "text/plain": [
       "HBox(children=(FloatProgress(value=0.0, max=10.0), HTML(value='')))"
      ]
     },
     "metadata": {},
     "output_type": "display_data"
    },
    {
     "data": {
      "application/vnd.jupyter.widget-view+json": {
       "model_id": "",
       "version_major": 2,
       "version_minor": 0
      },
      "text/plain": [
       "HBox(children=(FloatProgress(value=0.0, max=10.0), HTML(value='')))"
      ]
     },
     "metadata": {},
     "output_type": "display_data"
    },
    {
     "data": {
      "application/vnd.jupyter.widget-view+json": {
       "model_id": "",
       "version_major": 2,
       "version_minor": 0
      },
      "text/plain": [
       "HBox(children=(FloatProgress(value=0.0, max=10.0), HTML(value='')))"
      ]
     },
     "metadata": {},
     "output_type": "display_data"
    },
    {
     "data": {
      "application/vnd.jupyter.widget-view+json": {
       "model_id": "",
       "version_major": 2,
       "version_minor": 0
      },
      "text/plain": [
       "HBox(children=(FloatProgress(value=0.0, description='std neg', max=3.0, style=ProgressStyle(description_width=…"
      ]
     },
     "metadata": {},
     "output_type": "display_data"
    },
    {
     "data": {
      "application/vnd.jupyter.widget-view+json": {
       "model_id": "",
       "version_major": 2,
       "version_minor": 0
      },
      "text/plain": [
       "HBox(children=(FloatProgress(value=0.0, max=10.0), HTML(value='')))"
      ]
     },
     "metadata": {},
     "output_type": "display_data"
    },
    {
     "data": {
      "application/vnd.jupyter.widget-view+json": {
       "model_id": "",
       "version_major": 2,
       "version_minor": 0
      },
      "text/plain": [
       "HBox(children=(FloatProgress(value=0.0, max=10.0), HTML(value='')))"
      ]
     },
     "metadata": {},
     "output_type": "display_data"
    },
    {
     "data": {
      "application/vnd.jupyter.widget-view+json": {
       "model_id": "",
       "version_major": 2,
       "version_minor": 0
      },
      "text/plain": [
       "HBox(children=(FloatProgress(value=0.0, max=10.0), HTML(value='')))"
      ]
     },
     "metadata": {},
     "output_type": "display_data"
    },
    {
     "data": {
      "application/vnd.jupyter.widget-view+json": {
       "model_id": "",
       "version_major": 2,
       "version_minor": 0
      },
      "text/plain": [
       "HBox(children=(FloatProgress(value=0.0, description='dev', max=3.0, style=ProgressStyle(description_width='ini…"
      ]
     },
     "metadata": {},
     "output_type": "display_data"
    },
    {
     "data": {
      "application/vnd.jupyter.widget-view+json": {
       "model_id": "",
       "version_major": 2,
       "version_minor": 0
      },
      "text/plain": [
       "HBox(children=(FloatProgress(value=0.0, max=10.0), HTML(value='')))"
      ]
     },
     "metadata": {},
     "output_type": "display_data"
    },
    {
     "data": {
      "application/vnd.jupyter.widget-view+json": {
       "model_id": "",
       "version_major": 2,
       "version_minor": 0
      },
      "text/plain": [
       "HBox(children=(FloatProgress(value=0.0, max=10.0), HTML(value='')))"
      ]
     },
     "metadata": {},
     "output_type": "display_data"
    },
    {
     "data": {
      "application/vnd.jupyter.widget-view+json": {
       "model_id": "",
       "version_major": 2,
       "version_minor": 0
      },
      "text/plain": [
       "HBox(children=(FloatProgress(value=0.0, max=10.0), HTML(value='')))"
      ]
     },
     "metadata": {},
     "output_type": "display_data"
    },
    {
     "data": {
      "application/vnd.jupyter.widget-view+json": {
       "model_id": "",
       "version_major": 2,
       "version_minor": 0
      },
      "text/plain": [
       "HBox(children=(FloatProgress(value=0.0, description='dev inv', max=3.0, style=ProgressStyle(description_width=…"
      ]
     },
     "metadata": {},
     "output_type": "display_data"
    },
    {
     "data": {
      "application/vnd.jupyter.widget-view+json": {
       "model_id": "",
       "version_major": 2,
       "version_minor": 0
      },
      "text/plain": [
       "HBox(children=(FloatProgress(value=0.0, max=10.0), HTML(value='')))"
      ]
     },
     "metadata": {},
     "output_type": "display_data"
    },
    {
     "data": {
      "application/vnd.jupyter.widget-view+json": {
       "model_id": "",
       "version_major": 2,
       "version_minor": 0
      },
      "text/plain": [
       "HBox(children=(FloatProgress(value=0.0, max=10.0), HTML(value='')))"
      ]
     },
     "metadata": {},
     "output_type": "display_data"
    },
    {
     "data": {
      "application/vnd.jupyter.widget-view+json": {
       "model_id": "",
       "version_major": 2,
       "version_minor": 0
      },
      "text/plain": [
       "HBox(children=(FloatProgress(value=0.0, max=10.0), HTML(value='')))"
      ]
     },
     "metadata": {},
     "output_type": "display_data"
    },
    {
     "data": {
      "application/vnd.jupyter.widget-view+json": {
       "model_id": "",
       "version_major": 2,
       "version_minor": 0
      },
      "text/plain": [
       "HBox(children=(FloatProgress(value=0.0, description='dev neg', max=3.0, style=ProgressStyle(description_width=…"
      ]
     },
     "metadata": {},
     "output_type": "display_data"
    },
    {
     "data": {
      "application/vnd.jupyter.widget-view+json": {
       "model_id": "",
       "version_major": 2,
       "version_minor": 0
      },
      "text/plain": [
       "HBox(children=(FloatProgress(value=0.0, max=10.0), HTML(value='')))"
      ]
     },
     "metadata": {},
     "output_type": "display_data"
    },
    {
     "data": {
      "application/vnd.jupyter.widget-view+json": {
       "model_id": "",
       "version_major": 2,
       "version_minor": 0
      },
      "text/plain": [
       "HBox(children=(FloatProgress(value=0.0, max=10.0), HTML(value='')))"
      ]
     },
     "metadata": {},
     "output_type": "display_data"
    },
    {
     "data": {
      "application/vnd.jupyter.widget-view+json": {
       "model_id": "",
       "version_major": 2,
       "version_minor": 0
      },
      "text/plain": [
       "HBox(children=(FloatProgress(value=0.0, max=10.0), HTML(value='')))"
      ]
     },
     "metadata": {},
     "output_type": "display_data"
    },
    {
     "data": {
      "application/vnd.jupyter.widget-view+json": {
       "model_id": "",
       "version_major": 2,
       "version_minor": 0
      },
      "text/plain": [
       "HBox(children=(FloatProgress(value=0.0, description='mae', max=3.0, style=ProgressStyle(description_width='ini…"
      ]
     },
     "metadata": {},
     "output_type": "display_data"
    },
    {
     "data": {
      "application/vnd.jupyter.widget-view+json": {
       "model_id": "",
       "version_major": 2,
       "version_minor": 0
      },
      "text/plain": [
       "HBox(children=(FloatProgress(value=0.0, max=10.0), HTML(value='')))"
      ]
     },
     "metadata": {},
     "output_type": "display_data"
    },
    {
     "data": {
      "application/vnd.jupyter.widget-view+json": {
       "model_id": "",
       "version_major": 2,
       "version_minor": 0
      },
      "text/plain": [
       "HBox(children=(FloatProgress(value=0.0, max=10.0), HTML(value='')))"
      ]
     },
     "metadata": {},
     "output_type": "display_data"
    },
    {
     "data": {
      "application/vnd.jupyter.widget-view+json": {
       "model_id": "",
       "version_major": 2,
       "version_minor": 0
      },
      "text/plain": [
       "HBox(children=(FloatProgress(value=0.0, max=10.0), HTML(value='')))"
      ]
     },
     "metadata": {},
     "output_type": "display_data"
    },
    {
     "data": {
      "application/vnd.jupyter.widget-view+json": {
       "model_id": "",
       "version_major": 2,
       "version_minor": 0
      },
      "text/plain": [
       "HBox(children=(FloatProgress(value=0.0, description='mae neg', max=3.0, style=ProgressStyle(description_width=…"
      ]
     },
     "metadata": {},
     "output_type": "display_data"
    },
    {
     "data": {
      "application/vnd.jupyter.widget-view+json": {
       "model_id": "",
       "version_major": 2,
       "version_minor": 0
      },
      "text/plain": [
       "HBox(children=(FloatProgress(value=0.0, max=10.0), HTML(value='')))"
      ]
     },
     "metadata": {},
     "output_type": "display_data"
    },
    {
     "data": {
      "application/vnd.jupyter.widget-view+json": {
       "model_id": "",
       "version_major": 2,
       "version_minor": 0
      },
      "text/plain": [
       "HBox(children=(FloatProgress(value=0.0, max=10.0), HTML(value='')))"
      ]
     },
     "metadata": {},
     "output_type": "display_data"
    },
    {
     "data": {
      "application/vnd.jupyter.widget-view+json": {
       "model_id": "",
       "version_major": 2,
       "version_minor": 0
      },
      "text/plain": [
       "HBox(children=(FloatProgress(value=0.0, max=10.0), HTML(value='')))"
      ]
     },
     "metadata": {},
     "output_type": "display_data"
    },
    {
     "data": {
      "application/vnd.jupyter.widget-view+json": {
       "model_id": "",
       "version_major": 2,
       "version_minor": 0
      },
      "text/plain": [
       "HBox(children=(FloatProgress(value=0.0, description='mae inv', max=3.0, style=ProgressStyle(description_width=…"
      ]
     },
     "metadata": {},
     "output_type": "display_data"
    },
    {
     "data": {
      "application/vnd.jupyter.widget-view+json": {
       "model_id": "",
       "version_major": 2,
       "version_minor": 0
      },
      "text/plain": [
       "HBox(children=(FloatProgress(value=0.0, max=10.0), HTML(value='')))"
      ]
     },
     "metadata": {},
     "output_type": "display_data"
    },
    {
     "data": {
      "application/vnd.jupyter.widget-view+json": {
       "model_id": "",
       "version_major": 2,
       "version_minor": 0
      },
      "text/plain": [
       "HBox(children=(FloatProgress(value=0.0, max=10.0), HTML(value='')))"
      ]
     },
     "metadata": {},
     "output_type": "display_data"
    },
    {
     "data": {
      "application/vnd.jupyter.widget-view+json": {
       "model_id": "",
       "version_major": 2,
       "version_minor": 0
      },
      "text/plain": [
       "HBox(children=(FloatProgress(value=0.0, max=10.0), HTML(value='')))"
      ]
     },
     "metadata": {},
     "output_type": "display_data"
    },
    {
     "data": {
      "application/vnd.jupyter.widget-view+json": {
       "model_id": "",
       "version_major": 2,
       "version_minor": 0
      },
      "text/plain": [
       "HBox(children=(FloatProgress(value=0.0, description='stability asc', max=3.0, style=ProgressStyle(description_…"
      ]
     },
     "metadata": {},
     "output_type": "display_data"
    },
    {
     "data": {
      "application/vnd.jupyter.widget-view+json": {
       "model_id": "",
       "version_major": 2,
       "version_minor": 0
      },
      "text/plain": [
       "HBox(children=(FloatProgress(value=0.0, max=10.0), HTML(value='')))"
      ]
     },
     "metadata": {},
     "output_type": "display_data"
    },
    {
     "data": {
      "application/vnd.jupyter.widget-view+json": {
       "model_id": "",
       "version_major": 2,
       "version_minor": 0
      },
      "text/plain": [
       "HBox(children=(FloatProgress(value=0.0, max=10.0), HTML(value='')))"
      ]
     },
     "metadata": {},
     "output_type": "display_data"
    },
    {
     "data": {
      "application/vnd.jupyter.widget-view+json": {
       "model_id": "",
       "version_major": 2,
       "version_minor": 0
      },
      "text/plain": [
       "HBox(children=(FloatProgress(value=0.0, max=10.0), HTML(value='')))"
      ]
     },
     "metadata": {},
     "output_type": "display_data"
    },
    {
     "data": {
      "application/vnd.jupyter.widget-view+json": {
       "model_id": "",
       "version_major": 2,
       "version_minor": 0
      },
      "text/plain": [
       "HBox(children=(FloatProgress(value=0.0, description='stability desc', max=3.0, style=ProgressStyle(description…"
      ]
     },
     "metadata": {},
     "output_type": "display_data"
    },
    {
     "data": {
      "application/vnd.jupyter.widget-view+json": {
       "model_id": "",
       "version_major": 2,
       "version_minor": 0
      },
      "text/plain": [
       "HBox(children=(FloatProgress(value=0.0, max=10.0), HTML(value='')))"
      ]
     },
     "metadata": {},
     "output_type": "display_data"
    },
    {
     "data": {
      "application/vnd.jupyter.widget-view+json": {
       "model_id": "",
       "version_major": 2,
       "version_minor": 0
      },
      "text/plain": [
       "HBox(children=(FloatProgress(value=0.0, max=10.0), HTML(value='')))"
      ]
     },
     "metadata": {},
     "output_type": "display_data"
    },
    {
     "data": {
      "application/vnd.jupyter.widget-view+json": {
       "model_id": "",
       "version_major": 2,
       "version_minor": 0
      },
      "text/plain": [
       "HBox(children=(FloatProgress(value=0.0, max=10.0), HTML(value='')))"
      ]
     },
     "metadata": {},
     "output_type": "display_data"
    },
    {
     "name": "stdout",
     "output_type": "stream",
     "text": [
      "\n"
     ]
    }
   ],
   "source": [
    "intermeas_qualities = None\n",
    "\n",
    "for m_func_name, m_func in tqdm(measure_funcs.items()):\n",
    "    for aggfunc in tqdm(['mean','min','max'], leave=False, desc=m_func_name):\n",
    "        for n_top_cncpts in tqdm(np.unique(np.linspace(1, n_max_objects, 10).astype(int)), leave=False):\n",
    "            preds_train = predict_fca_top_intermeas(\n",
    "                fm_mv, mvcntx_train, m_func, n_top_cncpts,\n",
    "                aggfunc=aggfunc, obj_preds_cncpts=obj_preds_cncpts_train)\n",
    "            preds_test = predict_fca_top_intermeas(\n",
    "                fm_mv, mvcntx_test, m_func, n_top_cncpts,\n",
    "                aggfunc=aggfunc, obj_preds_cncpts=obj_preds_cncpts_test)\n",
    "            \n",
    "            #preds_train = np.nan_to_num(preds_train, nan=fm_mv._top_concept._metrics['mean_y_true'])\n",
    "            preds_test = np.nan_to_num(preds_test, nan=fm_mv._top_concept._metrics['mean_y_true'])\n",
    "            \n",
    "            intermeas_qualities = calc_metrics(\n",
    "                f\"intermeas={m_func_name}_aggfunc={aggfunc}_ncncpts={n_top_cncpts}\",\n",
    "                y_train, y_test, preds_train, preds_test, intermeas_qualities)"
   ]
  },
  {
   "cell_type": "code",
   "execution_count": 76,
   "metadata": {},
   "outputs": [],
   "source": [
    "cdss= []\n",
    "for f in intermeas_qualities.drop(['metric','ds'],1).columns:\n",
    "    cds = intermeas_qualities[['metric','ds',f]].rename(columns={f:'metric_value'})\n",
    "    cds['type'] = f\n",
    "    cdss.append(cds)\n",
    "cds = pd.concat(cdss)\n",
    "del cdss"
   ]
  },
  {
   "cell_type": "code",
   "execution_count": 77,
   "metadata": {},
   "outputs": [],
   "source": [
    "cds['interest_measure'] = [x.split('_')[0].split('=')[1] for x in cds['type']]\n",
    "cds['aggfunc'] = [x.split('_')[1].split('=')[1] for x in cds['type']]\n",
    "cds['n_top_concepts'] = [int(x.split('_')[2].split('=')[1]) for x in cds['type']]"
   ]
  },
  {
   "cell_type": "code",
   "execution_count": 110,
   "metadata": {},
   "outputs": [],
   "source": [
    "cds_ = cds[~cds['interest_measure'].isin(['dev','mae','stability asc','stability desc','std','support_asc',\n",
    "                                         'mae inv','mae neg','dev neg','dev inv','std neg'])]"
   ]
  },
  {
   "cell_type": "code",
   "execution_count": 111,
   "metadata": {},
   "outputs": [
    {
     "data": {
      "image/png": "[encoded data removed]",
      "text/plain": [
       "<Figure size 1080x504 with 6 Axes>"
      ]
     },
     "metadata": {
      "needs_background": "light"
     },
     "output_type": "display_data"
    }
   ],
   "source": [
    "plt.figure(figsize=(15,7))\n",
    "for m_idx, m in enumerate([m for m in cds_['metric'].unique()]):\n",
    "    for ds_idx, ds_type in enumerate(['train','test']):\n",
    "        plt.subplot(3,2,m_idx*2+ds_idx+1)\n",
    "        sns.lineplot(x='n_top_concepts', y='metric_value', hue='interest_measure',\n",
    "                     data=cds_[(cds_['aggfunc']=='mean')&(cds_['metric']==m)&(cds_['ds']==ds_type)&\n",
    "                             (~cds_['interest_measure'].isin(['mae','dev','std','support asc']))&\n",
    "                              (cds_['n_top_concepts']<50)]\n",
    "                    )\n",
    "        plt.title(f\"{m} {ds_type}\") \n",
    "    \n",
    "plt.tight_layout()\n",
    "plt.show()"
   ]
  },
  {
   "cell_type": "code",
   "execution_count": 580,
   "metadata": {},
   "outputs": [
    {
     "data": {
      "text/html": [
       "<div>\n",
       "<style scoped>\n",
       "    .dataframe tbody tr th:only-of-type {\n",
       "        vertical-align: middle;\n",
       "    }\n",
       "\n",
       "    .dataframe tbody tr th {\n",
       "        vertical-align: top;\n",
       "    }\n",
       "\n",
       "    .dataframe thead th {\n",
       "        text-align: right;\n",
       "    }\n",
       "</style>\n",
       "<table border=\"1\" class=\"dataframe\">\n",
       "  <thead>\n",
       "    <tr style=\"text-align: right;\">\n",
       "      <th>metric</th>\n",
       "      <th>mean_absolute_error</th>\n",
       "      <th>mean_squared_error</th>\n",
       "      <th>r2_score</th>\n",
       "    </tr>\n",
       "    <tr>\n",
       "      <th>interest_measure</th>\n",
       "      <th></th>\n",
       "      <th></th>\n",
       "      <th></th>\n",
       "    </tr>\n",
       "  </thead>\n",
       "  <tbody>\n",
       "    <tr>\n",
       "      <th>dev</th>\n",
       "      <td>4.663155</td>\n",
       "      <td>36.332563</td>\n",
       "      <td>0.497737</td>\n",
       "    </tr>\n",
       "    <tr>\n",
       "      <th>dev inv</th>\n",
       "      <td>2.684124</td>\n",
       "      <td>19.711979</td>\n",
       "      <td>0.727501</td>\n",
       "    </tr>\n",
       "    <tr>\n",
       "      <th>dev neg</th>\n",
       "      <td>2.684124</td>\n",
       "      <td>19.711979</td>\n",
       "      <td>0.727501</td>\n",
       "    </tr>\n",
       "    <tr>\n",
       "      <th>mae</th>\n",
       "      <td>4.716291</td>\n",
       "      <td>34.812088</td>\n",
       "      <td>0.518757</td>\n",
       "    </tr>\n",
       "    <tr>\n",
       "      <th>mae inv</th>\n",
       "      <td>2.778127</td>\n",
       "      <td>21.768714</td>\n",
       "      <td>0.699069</td>\n",
       "    </tr>\n",
       "    <tr>\n",
       "      <th>mae neg</th>\n",
       "      <td>2.778127</td>\n",
       "      <td>21.768714</td>\n",
       "      <td>0.699069</td>\n",
       "    </tr>\n",
       "    <tr>\n",
       "      <th>stability asc</th>\n",
       "      <td>4.129546</td>\n",
       "      <td>30.726363</td>\n",
       "      <td>0.648126</td>\n",
       "    </tr>\n",
       "    <tr>\n",
       "      <th>stability desc</th>\n",
       "      <td>4.125552</td>\n",
       "      <td>34.719501</td>\n",
       "      <td>0.660088</td>\n",
       "    </tr>\n",
       "    <tr>\n",
       "      <th>std</th>\n",
       "      <td>4.663155</td>\n",
       "      <td>36.332563</td>\n",
       "      <td>0.497737</td>\n",
       "    </tr>\n",
       "    <tr>\n",
       "      <th>std inv</th>\n",
       "      <td>2.684124</td>\n",
       "      <td>19.711979</td>\n",
       "      <td>0.727501</td>\n",
       "    </tr>\n",
       "    <tr>\n",
       "      <th>std neg</th>\n",
       "      <td>2.684124</td>\n",
       "      <td>19.711979</td>\n",
       "      <td>0.727501</td>\n",
       "    </tr>\n",
       "    <tr>\n",
       "      <th>support asc</th>\n",
       "      <td>5.018107</td>\n",
       "      <td>45.100320</td>\n",
       "      <td>0.376532</td>\n",
       "    </tr>\n",
       "    <tr>\n",
       "      <th>support desc</th>\n",
       "      <td>2.526010</td>\n",
       "      <td>12.157789</td>\n",
       "      <td>0.837773</td>\n",
       "    </tr>\n",
       "  </tbody>\n",
       "</table>\n",
       "</div>"
      ],
      "text/plain": [
       "metric            mean_absolute_error  mean_squared_error  r2_score\n",
       "interest_measure                                                   \n",
       "dev                          4.663155           36.332563  0.497737\n",
       "dev inv                      2.684124           19.711979  0.727501\n",
       "dev neg                      2.684124           19.711979  0.727501\n",
       "mae                          4.716291           34.812088  0.518757\n",
       "mae inv                      2.778127           21.768714  0.699069\n",
       "mae neg                      2.778127           21.768714  0.699069\n",
       "stability asc                4.129546           30.726363  0.648126\n",
       "stability desc               4.125552           34.719501  0.660088\n",
       "std                          4.663155           36.332563  0.497737\n",
       "std inv                      2.684124           19.711979  0.727501\n",
       "std neg                      2.684124           19.711979  0.727501\n",
       "support asc                  5.018107           45.100320  0.376532\n",
       "support desc                 2.526010           12.157789  0.837773"
      ]
     },
     "execution_count": 580,
     "metadata": {},
     "output_type": "execute_result"
    }
   ],
   "source": [
    "cds[(cds['ds']=='test')&(cds['n_top_concepts']<10)].pivot_table(\n",
    "    index='interest_measure', columns='metric', values='metric_value', aggfunc='max')"
   ]
  },
  {
   "cell_type": "code",
   "execution_count": 114,
   "metadata": {},
   "outputs": [
    {
     "data": {
      "text/html": [
       "<div>\n",
       "<style scoped>\n",
       "    .dataframe tbody tr th:only-of-type {\n",
       "        vertical-align: middle;\n",
       "    }\n",
       "\n",
       "    .dataframe tbody tr th {\n",
       "        vertical-align: top;\n",
       "    }\n",
       "\n",
       "    .dataframe thead th {\n",
       "        text-align: right;\n",
       "    }\n",
       "</style>\n",
       "<table border=\"1\" class=\"dataframe\">\n",
       "  <thead>\n",
       "    <tr style=\"text-align: right;\">\n",
       "      <th></th>\n",
       "      <th>metric</th>\n",
       "      <th>ds</th>\n",
       "      <th>LinearRegression</th>\n",
       "      <th>DecisionTreeRegressor</th>\n",
       "      <th>RandomForestRegressor</th>\n",
       "      <th>XGBRegressor</th>\n",
       "      <th>CatBoostRegressor</th>\n",
       "    </tr>\n",
       "  </thead>\n",
       "  <tbody>\n",
       "    <tr>\n",
       "      <th>0</th>\n",
       "      <td>mean_absolute_error</td>\n",
       "      <td>test</td>\n",
       "      <td>3.469644</td>\n",
       "      <td>2.568627</td>\n",
       "      <td>1.849510</td>\n",
       "      <td>1.929634</td>\n",
       "      <td>1.666549</td>\n",
       "    </tr>\n",
       "    <tr>\n",
       "      <th>1</th>\n",
       "      <td>mean_absolute_error</td>\n",
       "      <td>train</td>\n",
       "      <td>3.270323</td>\n",
       "      <td>0.000000</td>\n",
       "      <td>0.801745</td>\n",
       "      <td>0.025155</td>\n",
       "      <td>0.444524</td>\n",
       "    </tr>\n",
       "    <tr>\n",
       "      <th>2</th>\n",
       "      <td>mean_squared_error</td>\n",
       "      <td>test</td>\n",
       "      <td>22.098086</td>\n",
       "      <td>12.287059</td>\n",
       "      <td>5.956581</td>\n",
       "      <td>6.876778</td>\n",
       "      <td>4.863948</td>\n",
       "    </tr>\n",
       "    <tr>\n",
       "      <th>3</th>\n",
       "      <td>mean_squared_error</td>\n",
       "      <td>train</td>\n",
       "      <td>21.964691</td>\n",
       "      <td>0.000000</td>\n",
       "      <td>1.251135</td>\n",
       "      <td>0.001292</td>\n",
       "      <td>0.315415</td>\n",
       "    </tr>\n",
       "    <tr>\n",
       "      <th>4</th>\n",
       "      <td>r2_score</td>\n",
       "      <td>test</td>\n",
       "      <td>0.694515</td>\n",
       "      <td>0.830143</td>\n",
       "      <td>0.917656</td>\n",
       "      <td>0.904935</td>\n",
       "      <td>0.932761</td>\n",
       "    </tr>\n",
       "    <tr>\n",
       "      <th>5</th>\n",
       "      <td>r2_score</td>\n",
       "      <td>train</td>\n",
       "      <td>0.743906</td>\n",
       "      <td>1.000000</td>\n",
       "      <td>0.985413</td>\n",
       "      <td>0.999985</td>\n",
       "      <td>0.996322</td>\n",
       "    </tr>\n",
       "  </tbody>\n",
       "</table>\n",
       "</div>"
      ],
      "text/plain": [
       "                metric     ds  LinearRegression  DecisionTreeRegressor  \\\n",
       "0  mean_absolute_error   test          3.469644               2.568627   \n",
       "1  mean_absolute_error  train          3.270323               0.000000   \n",
       "2   mean_squared_error   test         22.098086              12.287059   \n",
       "3   mean_squared_error  train         21.964691               0.000000   \n",
       "4             r2_score   test          0.694515               0.830143   \n",
       "5             r2_score  train          0.743906               1.000000   \n",
       "\n",
       "   RandomForestRegressor  XGBRegressor  CatBoostRegressor  \n",
       "0               1.849510      1.929634           1.666549  \n",
       "1               0.801745      0.025155           0.444524  \n",
       "2               5.956581      6.876778           4.863948  \n",
       "3               1.251135      0.001292           0.315415  \n",
       "4               0.917656      0.904935           0.932761  \n",
       "5               0.985413      0.999985           0.996322  "
      ]
     },
     "execution_count": 114,
     "metadata": {},
     "output_type": "execute_result"
    }
   ],
   "source": [
    "comp_qualities[['metric','ds','LinearRegression','DecisionTreeRegressor','RandomForestRegressor','XGBRegressor','CatBoostRegressor']]"
   ]
  },
  {
   "cell_type": "markdown",
   "metadata": {},
   "source": [
    "# SAMME approach"
   ]
  },
  {
   "cell_type": "code",
   "execution_count": 122,
   "metadata": {},
   "outputs": [],
   "source": [
    "fm = fm_mv\n",
    "cntx = mvcntx_train"
   ]
  },
  {
   "cell_type": "code",
   "execution_count": 129,
   "metadata": {},
   "outputs": [],
   "source": [
    "def fit_fca_samme(fm, cntx, n_iters=20, verb=False, A_train=None):\n",
    "    Wg = np.ones(len(cntx.get_objs()))/len(cntx.get_objs())\n",
    "    mses = []\n",
    "    for idx in range(n_iters):\n",
    "        W = [np.mean(Wg[c.get_extent()]) for c in fm.sort_concepts()]\n",
    "        y_pred = predict_fca(fm, cntx, 'mean_y_true',W, normalized=True, A=A_train)[0]\n",
    "\n",
    "        errv = (y_pred-y_train.values)**2\n",
    "        Wg = errv/errv.max()\n",
    "        mses.append(((y_pred-y_train)**2).mean())\n",
    "        if verb:\n",
    "            print(f\"iter: {idx}, MSE: {mses[-1]}\")    \n",
    "    return W, mses"
   ]
  },
  {
   "cell_type": "code",
   "execution_count": 130,
   "metadata": {},
   "outputs": [
    {
     "name": "stdout",
     "output_type": "stream",
     "text": [
      "iter: 0, MSE: 7.283800966965757\n",
      "iter: 1, MSE: 4.813363124973351\n",
      "iter: 2, MSE: 4.7145646186966115\n",
      "iter: 3, MSE: 4.436994141008636\n",
      "iter: 4, MSE: 4.390205943298677\n",
      "iter: 5, MSE: 4.290077673801125\n",
      "iter: 6, MSE: 4.269886097603587\n",
      "iter: 7, MSE: 4.225316201210884\n",
      "iter: 8, MSE: 4.2147074255299755\n",
      "iter: 9, MSE: 4.190149933735004\n",
      "iter: 10, MSE: 4.183753008180692\n",
      "iter: 11, MSE: 4.168912260615414\n",
      "iter: 12, MSE: 4.16454346159909\n",
      "iter: 13, MSE: 4.155111299816849\n",
      "iter: 14, MSE: 4.151904960999744\n",
      "iter: 15, MSE: 4.145727175706211\n",
      "iter: 16, MSE: 4.143383573476655\n",
      "iter: 17, MSE: 4.139229300615418\n",
      "iter: 18, MSE: 4.137641327874045\n",
      "iter: 19, MSE: 4.134761563343648\n"
     ]
    }
   ],
   "source": [
    "W, mses = fit_fca_samme(fm, mvcntx_train, n_iters=20, verb=True, A_train=A_train)"
   ]
  },
  {
   "cell_type": "code",
   "execution_count": 131,
   "metadata": {},
   "outputs": [
    {
     "data": {
      "text/plain": [
       "[<matplotlib.lines.Line2D at 0x7f13e426cb50>]"
      ]
     },
     "execution_count": 131,
     "metadata": {},
     "output_type": "execute_result"
    },
    {
     "data": {
      "image/png": "[encoded data removed]",
      "text/plain": [
       "<Figure size 432x288 with 1 Axes>"
      ]
     },
     "metadata": {
      "needs_background": "light"
     },
     "output_type": "display_data"
    }
   ],
   "source": [
    "plt.plot(mses)"
   ]
  },
  {
   "cell_type": "markdown",
   "metadata": {},
   "source": [
    "# Other Boosting Approach"
   ]
  },
  {
   "cell_type": "markdown",
   "metadata": {},
   "source": [
    "Условный алгоритм:\n",
    "0. Назначаем всем понятиям одинаковый вес\n",
    "1. Считаем предсказание решётки\n",
    "2. Считаем ошибку предсказания на каждом объекте. ошибка>=0\n",
    "3. Для каждого понятия, использовавшегося для предсказания посчитать среднее расстояние от его предсказания до истинного значения\n",
    "4. Чем больше среднее расстояние - тем меньший вес дать понятию\n",
    "5. Для понятий, не использовавшихся в предсказании, поставить вес как средний вес их детей"
   ]
  },
  {
   "cell_type": "code",
   "execution_count": 628,
   "metadata": {},
   "outputs": [],
   "source": [
    "lr = 1e-3"
   ]
  },
  {
   "cell_type": "code",
   "execution_count": 629,
   "metadata": {},
   "outputs": [],
   "source": [
    "mvals = [c._metrics['mean_y_true'] for c in fm.sort_concepts()]"
   ]
  },
  {
   "cell_type": "code",
   "execution_count": 632,
   "metadata": {},
   "outputs": [
    {
     "name": "stdout",
     "output_type": "stream",
     "text": [
      "iter: 0, MSE: 7.2838009669657655, MAE: 1.726095201590648\n",
      "iter: 1, MSE: 6.046032627338391, MAE: 1.634807217633673\n",
      "iter: 2, MSE: 6.046032627338389, MAE: 1.6348072176336725\n",
      "iter: 3, MSE: 6.046032627338389, MAE: 1.6348072176336725\n",
      "iter: 4, MSE: 6.046032627338389, MAE: 1.6348072176336725\n",
      "iter: 5, MSE: 6.046032627338389, MAE: 1.6348072176336725\n",
      "iter: 6, MSE: 6.046032627338389, MAE: 1.6348072176336725\n",
      "iter: 7, MSE: 6.046032627338389, MAE: 1.6348072176336725\n",
      "iter: 8, MSE: 6.046032627338389, MAE: 1.6348072176336725\n",
      "iter: 9, MSE: 6.046032627338389, MAE: 1.6348072176336725\n",
      "iter: 10, MSE: 6.046032627338389, MAE: 1.6348072176336725\n",
      "iter: 11, MSE: 6.046032627338389, MAE: 1.6348072176336725\n",
      "iter: 12, MSE: 6.046032627338389, MAE: 1.6348072176336725\n",
      "iter: 13, MSE: 6.046032627338389, MAE: 1.6348072176336725\n",
      "iter: 14, MSE: 6.046032627338389, MAE: 1.6348072176336725\n",
      "iter: 15, MSE: 6.046032627338389, MAE: 1.6348072176336725\n",
      "iter: 16, MSE: 6.046032627338389, MAE: 1.6348072176336725\n",
      "iter: 17, MSE: 6.046032627338389, MAE: 1.6348072176336725\n",
      "iter: 18, MSE: 6.046032627338389, MAE: 1.6348072176336725\n",
      "iter: 19, MSE: 6.046032627338389, MAE: 1.6348072176336725\n",
      "iter: 20, MSE: 6.046032627338389, MAE: 1.6348072176336725\n",
      "iter: 21, MSE: 6.046032627338389, MAE: 1.6348072176336725\n",
      "iter: 22, MSE: 6.046032627338389, MAE: 1.6348072176336725\n",
      "iter: 23, MSE: 6.046032627338389, MAE: 1.6348072176336725\n",
      "iter: 24, MSE: 6.046032627338389, MAE: 1.6348072176336725\n",
      "iter: 25, MSE: 6.046032627338389, MAE: 1.6348072176336725\n",
      "iter: 26, MSE: 6.046032627338389, MAE: 1.6348072176336725\n",
      "iter: 27, MSE: 6.046032627338389, MAE: 1.6348072176336725\n",
      "iter: 28, MSE: 6.046032627338389, MAE: 1.6348072176336725\n",
      "iter: 29, MSE: 6.046032627338389, MAE: 1.6348072176336725\n"
     ]
    }
   ],
   "source": [
    "mses = []\n",
    "W_new = np.ones(len(fm.get_concepts()))/len(fm.get_concepts())\n",
    "for idx in range(30):\n",
    "    W = W_new\n",
    "    y_pred = predict_fca(fm, cntx, 'mean_y_true',W, normalized=True, A=A_train)[0]\n",
    "    mses.append(((y_pred-y_train)**2).mean())\n",
    "    if True:\n",
    "        print(f\"iter: {idx}, MSE: {mses[-1]}, MAE: {(y_pred-y_train).abs().mean()}\")    \n",
    "    \n",
    "    Xerr = (A_train.T.multiply(y_train).T-A_train.multiply(mvals))\n",
    "    #Xerr = (A_train.T.multiply((y_train-y_pred))).T\n",
    "    Xerr = Xerr.multiply(Xerr)\n",
    "    Xerr = Xerr.sqrt() #log1p()    \n",
    "    dW = -np.asarray(Xerr.sum(0)/A_train.sum(0)).flatten()\n",
    "    W_new = np.nan_to_num(W+lr*dW)\n",
    "    W_new = balance_weights(fm_mv, W_new, use_MI=False)\n",
    "    W_new = np.nan_to_num(W_new)\n",
    "    W_new = (W_new-W_new.min())/(W_new.max()-W_new.min())"
   ]
  },
  {
   "cell_type": "code",
   "execution_count": 570,
   "metadata": {},
   "outputs": [],
   "source": [
    "y_pred = predict_fca(fm, mvcntx_test, 'mean_y_true',W, normalized=True, A=A_test)[0]"
   ]
  },
  {
   "cell_type": "code",
   "execution_count": 575,
   "metadata": {},
   "outputs": [],
   "source": [
    "y_pred = np.nan_to_num(y_pred, nan=fm_mv.get_concept_by_id(0)._metrics['mean_y_true'])"
   ]
  },
  {
   "cell_type": "code",
   "execution_count": 578,
   "metadata": {},
   "outputs": [
    {
     "data": {
      "text/plain": [
       "2.8395422810650213"
      ]
     },
     "execution_count": 578,
     "metadata": {},
     "output_type": "execute_result"
    }
   ],
   "source": [
    "(y_test-y_pred).abs().mean()"
   ]
  },
  {
   "cell_type": "code",
   "execution_count": 564,
   "metadata": {},
   "outputs": [
    {
     "data": {
      "text/plain": [
       "[<matplotlib.lines.Line2D at 0x7f13dc057350>]"
      ]
     },
     "execution_count": 564,
     "metadata": {},
     "output_type": "execute_result"
    },
    {
     "data": {
      "image/png": "[encoded data removed]",
      "text/plain": [
       "<Figure size 432x288 with 1 Axes>"
      ]
     },
     "metadata": {
      "needs_background": "light"
     },
     "output_type": "display_data"
    }
   ],
   "source": [
    "plt.plot(mses)"
   ]
  },
  {
   "cell_type": "code",
   "execution_count": null,
   "metadata": {},
   "outputs": [],
   "source": []
  },
  {
   "cell_type": "code",
   "execution_count": 210,
   "metadata": {},
   "outputs": [],
   "source": [
    "y_pred = predict_fca(fm, cntx, 'mean_y_true',W, normalized=True, A=A_train)[0]"
   ]
  },
  {
   "cell_type": "code",
   "execution_count": 476,
   "metadata": {},
   "outputs": [],
   "source": [
    "Xerr = (A_train.T.multiply(y_train).T-A_train.multiply(mvals))\n",
    "Xerr = Xerr.multiply(Xerr)\n",
    "Xerr = Xerr.log1p()"
   ]
  },
  {
   "cell_type": "code",
   "execution_count": 477,
   "metadata": {},
   "outputs": [
    {
     "data": {
      "text/plain": [
       "((4059,),\n",
       " array([        nan,         nan, -4.55715262, ..., -0.        ,\n",
       "        -0.        ,         nan]))"
      ]
     },
     "execution_count": 477,
     "metadata": {},
     "output_type": "execute_result"
    }
   ],
   "source": [
    "dW = -np.asarray(Xerr.sum(0)/A_train.sum(0)).flatten()\n",
    "dW.shape, dW"
   ]
  },
  {
   "cell_type": "code",
   "execution_count": 478,
   "metadata": {},
   "outputs": [],
   "source": [
    "W_new = np.nan_to_num(W+lr*dW)\n",
    "W_new = balance_weights(fm_mv, W_new)\n",
    "W_new = np.nan_to_num(W_new)\n",
    "W_new = (W_new-W_new.min())/(W_new.max()-W_new.min())"
   ]
  },
  {
   "cell_type": "code",
   "execution_count": 483,
   "metadata": {},
   "outputs": [],
   "source": [
    "W = W_new"
   ]
  }
 ],
 "metadata": {
  "kernelspec": {
   "display_name": "Python 3",
   "language": "python",
   "name": "python3"
  },
  "language_info": {
   "codemirror_mode": {
    "name": "ipython",
    "version": 3
   },
   "file_extension": ".py",
   "mimetype": "text/x-python",
   "name": "python",
   "nbconvert_exporter": "python",
   "pygments_lexer": "ipython3",
   "version": "3.7.9"
  }
 },
 "nbformat": 4,
 "nbformat_minor": 4
}
