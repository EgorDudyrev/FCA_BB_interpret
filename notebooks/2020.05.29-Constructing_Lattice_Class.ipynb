{
 "cells": [
  {
   "cell_type": "code",
   "execution_count": 1,
   "metadata": {},
   "outputs": [],
   "source": [
    "import numpy as np\n",
    "import pandas as pd"
   ]
  },
  {
   "cell_type": "code",
   "execution_count": 2,
   "metadata": {},
   "outputs": [],
   "source": [
    "import networkx as nx\n",
    "import matplotlib.pyplot as plt\n",
    "import itertools"
   ]
  },
  {
   "cell_type": "code",
   "execution_count": 3,
   "metadata": {},
   "outputs": [],
   "source": [
    "import os\n",
    "import sys"
   ]
  },
  {
   "cell_type": "code",
   "execution_count": 4,
   "metadata": {},
   "outputs": [],
   "source": [
    "if os.path.abspath('../') not in sys.path:\n",
    "    sys.path.append(os.path.abspath('../'))"
   ]
  },
  {
   "cell_type": "code",
   "execution_count": 7,
   "metadata": {},
   "outputs": [],
   "source": [
    "from lib import fca_interp as fcai"
   ]
  },
  {
   "cell_type": "code",
   "execution_count": 22,
   "metadata": {},
   "outputs": [
    {
     "data": {
      "text/html": [
       "<div>\n",
       "<style scoped>\n",
       "    .dataframe tbody tr th:only-of-type {\n",
       "        vertical-align: middle;\n",
       "    }\n",
       "\n",
       "    .dataframe tbody tr th {\n",
       "        vertical-align: top;\n",
       "    }\n",
       "\n",
       "    .dataframe thead th {\n",
       "        text-align: right;\n",
       "    }\n",
       "</style>\n",
       "<table border=\"1\" class=\"dataframe\">\n",
       "  <thead>\n",
       "    <tr style=\"text-align: right;\">\n",
       "      <th></th>\n",
       "      <th>color</th>\n",
       "      <th>firm</th>\n",
       "      <th>smooth</th>\n",
       "      <th>form</th>\n",
       "      <th>fruit</th>\n",
       "    </tr>\n",
       "    <tr>\n",
       "      <th>title</th>\n",
       "      <th></th>\n",
       "      <th></th>\n",
       "      <th></th>\n",
       "      <th></th>\n",
       "      <th></th>\n",
       "    </tr>\n",
       "  </thead>\n",
       "  <tbody>\n",
       "    <tr>\n",
       "      <th>apple</th>\n",
       "      <td>yellow</td>\n",
       "      <td>False</td>\n",
       "      <td>True</td>\n",
       "      <td>round</td>\n",
       "      <td>True</td>\n",
       "    </tr>\n",
       "    <tr>\n",
       "      <th>grapefruit</th>\n",
       "      <td>yellow</td>\n",
       "      <td>False</td>\n",
       "      <td>False</td>\n",
       "      <td>round</td>\n",
       "      <td>True</td>\n",
       "    </tr>\n",
       "    <tr>\n",
       "      <th>kiwi</th>\n",
       "      <td>green</td>\n",
       "      <td>False</td>\n",
       "      <td>False</td>\n",
       "      <td>oval</td>\n",
       "      <td>True</td>\n",
       "    </tr>\n",
       "    <tr>\n",
       "      <th>plum</th>\n",
       "      <td>blue</td>\n",
       "      <td>False</td>\n",
       "      <td>True</td>\n",
       "      <td>oval</td>\n",
       "      <td>True</td>\n",
       "    </tr>\n",
       "    <tr>\n",
       "      <th>toy cube</th>\n",
       "      <td>green</td>\n",
       "      <td>True</td>\n",
       "      <td>True</td>\n",
       "      <td>cubic</td>\n",
       "      <td>False</td>\n",
       "    </tr>\n",
       "    <tr>\n",
       "      <th>egg</th>\n",
       "      <td>white</td>\n",
       "      <td>True</td>\n",
       "      <td>True</td>\n",
       "      <td>oval</td>\n",
       "      <td>False</td>\n",
       "    </tr>\n",
       "    <tr>\n",
       "      <th>tennis ball</th>\n",
       "      <td>white</td>\n",
       "      <td>False</td>\n",
       "      <td>False</td>\n",
       "      <td>round</td>\n",
       "      <td>False</td>\n",
       "    </tr>\n",
       "    <tr>\n",
       "      <th>mango</th>\n",
       "      <td>green</td>\n",
       "      <td>False</td>\n",
       "      <td>True</td>\n",
       "      <td>oval</td>\n",
       "      <td>True</td>\n",
       "    </tr>\n",
       "  </tbody>\n",
       "</table>\n",
       "</div>"
      ],
      "text/plain": [
       "              color   firm  smooth   form  fruit\n",
       "title                                           \n",
       "apple        yellow  False    True  round   True\n",
       "grapefruit   yellow  False   False  round   True\n",
       "kiwi          green  False   False   oval   True\n",
       "plum           blue  False    True   oval   True\n",
       "toy cube      green   True    True  cubic  False\n",
       "egg           white   True    True   oval  False\n",
       "tennis ball   white  False   False  round  False\n",
       "mango         green  False    True   oval   True"
      ]
     },
     "execution_count": 22,
     "metadata": {},
     "output_type": "execute_result"
    }
   ],
   "source": [
    "mango_ds = pd.read_csv('../datasets/mango.csv', index_col=0)\n",
    "mango_ds"
   ]
  },
  {
   "cell_type": "code",
   "execution_count": 25,
   "metadata": {},
   "outputs": [],
   "source": [
    "binarizer = fcai.Binarizer()"
   ]
  },
  {
   "cell_type": "code",
   "execution_count": 56,
   "metadata": {},
   "outputs": [],
   "source": [
    "bin_ds, forder = binarizer.binarize_ds(mango_ds.astype(str), cat_feats=mango_ds.drop('fruit',1).columns, thresholds={}, cases={})"
   ]
  },
  {
   "cell_type": "code",
   "execution_count": 61,
   "metadata": {},
   "outputs": [
    {
     "data": {
      "application/vnd.jupyter.widget-view+json": {
       "model_id": "5221a88912c748f2867bd9df97c015b6",
       "version_major": 2,
       "version_minor": 0
      },
      "text/plain": [
       "HBox(children=(FloatProgress(value=0.0, description='Postprocessing', max=70.0, style=ProgressStyle(descriptio…"
      ]
     },
     "metadata": {},
     "output_type": "display_data"
    },
    {
     "name": "stdout",
     "output_type": "stream",
     "text": [
      "\n"
     ]
    }
   ],
   "source": [
    "cntx = fcai.BinaryContext(bin_ds, y_true=mango_ds['fruit'])\n",
    "fm = fcai.FormalManager(cntx)\n",
    "fm.construct_concepts()\n",
    "fm.construct_lattice()"
   ]
  },
  {
   "cell_type": "code",
   "execution_count": 62,
   "metadata": {},
   "outputs": [],
   "source": [
    "concepts = fm.get_concepts()"
   ]
  },
  {
   "cell_type": "code",
   "execution_count": 67,
   "metadata": {},
   "outputs": [],
   "source": [
    "for c in fm.get_concepts():\n",
    "    c._metrics['y_true_mean'] = mango_ds.loc[c.get_extent(), 'fruit'].mean()"
   ]
  },
  {
   "cell_type": "code",
   "execution_count": 69,
   "metadata": {},
   "outputs": [
    {
     "data": {
      "application/vnd.plotly.v1+json": {
       "config": {
        "plotlyServerURL": "https://plot.ly"
       },
       "data": [
        {
         "hoverinfo": "none",
         "line": {
          "color": "#888",
          "width": 0.5
         },
         "mode": "lines",
         "type": "scatter",
         "x": [
          -7.5,
          -0.5,
          null,
          -7.5,
          4.5,
          null,
          -7.5,
          -7.5,
          null,
          -7.5,
          -5,
          null,
          -7.5,
          -1.5,
          null,
          -7.5,
          6.5,
          null,
          -7.5,
          0.5,
          null,
          -7.5,
          3.5,
          null,
          -7.5,
          1.5,
          null,
          -7.5,
          -4,
          null,
          -7.5,
          4,
          null,
          -6.5,
          -0.5,
          null,
          -6.5,
          4.5,
          null,
          -6.5,
          -5,
          null,
          -6.5,
          1,
          null,
          -5.5,
          -3.5,
          null,
          -5.5,
          -2.5,
          null,
          -5.5,
          1.5,
          null,
          -5.5,
          3.5,
          null,
          -5,
          -4.5,
          null,
          -5,
          -1,
          null,
          -6.5,
          0.5,
          null,
          -6.5,
          -4.5,
          null,
          -6.5,
          -3.5,
          null,
          -6.5,
          0.5,
          null,
          -6.5,
          1.5,
          null,
          -6.5,
          2.5,
          null,
          -5.5,
          -3.5,
          null,
          -5.5,
          -2.5,
          null,
          -5.5,
          -3.5,
          null,
          -5.5,
          0,
          null,
          -5.5,
          2,
          null,
          -4.5,
          -3.5,
          null,
          -4.5,
          -0.5,
          null,
          -4.5,
          -1.5,
          null,
          -4.5,
          0.5,
          null,
          -4.5,
          3.5,
          null,
          -4.5,
          4.5,
          null,
          -5.5,
          4.5,
          null,
          -5.5,
          5.5,
          null,
          -5.5,
          -3.5,
          null,
          -5.5,
          6.5,
          null,
          -4.5,
          0.5,
          null,
          -4.5,
          3.5,
          null,
          -4.5,
          5.5,
          null,
          -4.5,
          -3,
          null,
          -4.5,
          -3.5,
          null,
          -4.5,
          5,
          null,
          -3.5,
          2.5,
          null,
          -3.5,
          -1.5,
          null,
          -3.5,
          -2.5,
          null,
          -3.5,
          2.5,
          null,
          -3.5,
          2.5,
          null,
          -3.5,
          -2.5,
          null,
          -3.5,
          1.5,
          null,
          -3.5,
          6.5,
          null,
          -2.5,
          -2.5,
          null,
          -2.5,
          -1.5,
          null,
          -2.5,
          -1.5,
          null,
          -2.5,
          4.5,
          null,
          -2.5,
          -0.5,
          null,
          -2.5,
          -1.5,
          null,
          -2.5,
          -1.5,
          null,
          -2.5,
          2.5,
          null,
          -2.5,
          6.5,
          null,
          -2.5,
          7.5,
          null,
          -1.5,
          -0.5,
          null,
          -1.5,
          3.5,
          null,
          -1.5,
          -0.5,
          null,
          -1.5,
          4.5,
          null,
          -1.5,
          6.5,
          null,
          -1.5,
          7.5,
          null,
          -1.5,
          0.5,
          null,
          -1.5,
          3.5,
          null,
          -1.5,
          4.5,
          null,
          -0.5,
          -2.5,
          null,
          -0.5,
          1.5,
          null,
          -0.5,
          1.5,
          null,
          -4.5,
          -2.5,
          null,
          -4.5,
          3.5,
          null,
          -4.5,
          -2,
          null,
          0.5,
          -0.5,
          null,
          0.5,
          2.5,
          null,
          0.5,
          2.5,
          null,
          0.5,
          7.5,
          null,
          1.5,
          -3.5,
          null,
          1.5,
          1.5,
          null,
          1.5,
          0.5,
          null,
          1.5,
          1.5,
          null,
          -0.5,
          3.5,
          null,
          -0.5,
          0.5,
          null,
          -0.5,
          -0.5,
          null,
          -3.5,
          0,
          null,
          -4,
          6.5,
          null,
          -4,
          1.5,
          null,
          -4,
          -3.5,
          null,
          -4,
          -2,
          null,
          2.5,
          3.5,
          null,
          2.5,
          -1.5,
          null,
          2.5,
          6.5,
          null,
          -2.5,
          0,
          null,
          0.5,
          4.5,
          null,
          0.5,
          3.5,
          null,
          0.5,
          -3.5,
          null,
          0.5,
          1,
          null,
          -2,
          4,
          null,
          -2,
          2,
          null,
          -2,
          0,
          null,
          -2,
          5,
          null,
          -2,
          0,
          null,
          -3,
          -0.5,
          null,
          -3,
          7.5,
          null,
          -3,
          0,
          null,
          -3,
          2,
          null,
          3.5,
          -0.5,
          null,
          3.5,
          0.5,
          null,
          3.5,
          -0.5,
          null,
          3.5,
          7.5,
          null,
          -1.5,
          0,
          null,
          -1.5,
          5.5,
          null,
          -2,
          3.5,
          null,
          -2,
          4.5,
          null,
          -2,
          -1,
          null,
          -2,
          1,
          null,
          -0.5,
          0,
          null,
          -1,
          4,
          null,
          -1,
          1,
          null,
          -1,
          3,
          null,
          -1,
          0,
          null,
          4.5,
          0.5,
          null,
          4.5,
          1.5,
          null,
          0.5,
          0,
          null,
          0.5,
          5.5,
          null,
          0.5,
          5.5,
          null,
          -3.5,
          2,
          null,
          -1,
          2.5,
          null,
          -1,
          3.5,
          null,
          -1,
          5.5,
          null,
          -1,
          0.5,
          null,
          -1,
          1,
          null,
          1.5,
          0,
          null,
          -2.5,
          5.5,
          null,
          -2.5,
          5.5,
          null,
          -2.5,
          2,
          null,
          -2.5,
          5,
          null,
          2.5,
          0,
          null,
          2.5,
          5.5,
          null,
          0,
          2,
          null,
          0,
          1,
          null,
          0,
          0,
          null,
          0,
          1.5,
          null,
          0,
          4.5,
          null,
          0,
          0.5,
          null,
          0,
          1,
          null,
          2.5,
          0.5,
          null,
          2.5,
          5.5,
          null,
          2.5,
          5,
          null,
          3.5,
          0,
          null,
          -1.5,
          5.5,
          null,
          -1.5,
          2,
          null,
          -1.5,
          4,
          null,
          -0.5,
          1,
          null,
          -0.5,
          3,
          null,
          3.5,
          1.5,
          null,
          3.5,
          4.5,
          null,
          2.5,
          7.5,
          null,
          2.5,
          4.5,
          null,
          2.5,
          2,
          null,
          4.5,
          1,
          null,
          4.5,
          3.5,
          null,
          1,
          2,
          null,
          5.5,
          7.5,
          null,
          2,
          6.5,
          null,
          3,
          6.5,
          null,
          3,
          7.5,
          null,
          3,
          0,
          null,
          3.5,
          6.5,
          null,
          4,
          7.5,
          null,
          4,
          4.5,
          null,
          0,
          5.5,
          null,
          0,
          5,
          null,
          6.5,
          5.5,
          null,
          5.5,
          7.5,
          null,
          7.5,
          5,
          null
         ],
         "y": [
          4,
          3,
          null,
          4,
          3,
          null,
          4,
          5,
          null,
          4,
          6,
          null,
          4,
          5,
          null,
          4,
          5,
          null,
          5,
          4,
          null,
          5,
          4,
          null,
          5,
          4,
          null,
          5,
          6,
          null,
          5,
          6,
          null,
          5,
          4,
          null,
          5,
          3,
          null,
          5,
          6,
          null,
          5,
          6,
          null,
          3,
          2,
          null,
          3,
          2,
          null,
          3,
          4,
          null,
          3,
          4,
          null,
          6,
          5,
          null,
          6,
          7,
          null,
          4,
          3,
          null,
          4,
          3,
          null,
          4,
          5,
          null,
          4,
          5,
          null,
          4,
          5,
          null,
          4,
          5,
          null,
          5,
          4,
          null,
          5,
          4,
          null,
          5,
          3,
          null,
          5,
          6,
          null,
          5,
          6,
          null,
          3,
          2,
          null,
          3,
          2,
          null,
          3,
          4,
          null,
          3,
          4,
          null,
          3,
          4,
          null,
          3,
          4,
          null,
          4,
          3,
          null,
          4,
          3,
          null,
          4,
          5,
          null,
          4,
          5,
          null,
          4,
          3,
          null,
          4,
          3,
          null,
          4,
          3,
          null,
          4,
          6,
          null,
          4,
          5,
          null,
          4,
          6,
          null,
          3,
          2,
          null,
          3,
          2,
          null,
          3,
          5,
          null,
          3,
          4,
          null,
          4,
          2,
          null,
          4,
          2,
          null,
          4,
          5,
          null,
          4,
          5,
          null,
          4,
          2,
          null,
          4,
          2,
          null,
          4,
          5,
          null,
          4,
          5,
          null,
          3,
          2,
          null,
          3,
          2,
          null,
          3,
          4,
          null,
          3,
          4,
          null,
          3,
          4,
          null,
          3,
          5,
          null,
          3,
          2,
          null,
          3,
          2,
          null,
          3,
          5,
          null,
          3,
          4,
          null,
          3,
          4,
          null,
          3,
          4,
          null,
          4,
          5,
          null,
          4,
          5,
          null,
          4,
          5,
          null,
          3,
          2,
          null,
          3,
          2,
          null,
          3,
          4,
          null,
          5,
          2,
          null,
          5,
          2,
          null,
          5,
          6,
          null,
          3,
          2,
          null,
          3,
          2,
          null,
          3,
          4,
          null,
          3,
          4,
          null,
          3,
          2,
          null,
          3,
          2,
          null,
          3,
          4,
          null,
          3,
          4,
          null,
          4,
          2,
          null,
          4,
          2,
          null,
          4,
          5,
          null,
          2,
          1,
          null,
          6,
          5,
          null,
          6,
          5,
          null,
          6,
          5,
          null,
          6,
          7,
          null,
          3,
          2,
          null,
          3,
          2,
          null,
          3,
          4,
          null,
          2,
          1,
          null,
          4,
          3,
          null,
          4,
          3,
          null,
          4,
          5,
          null,
          4,
          6,
          null,
          7,
          6,
          null,
          7,
          6,
          null,
          7,
          6,
          null,
          7,
          6,
          null,
          7,
          8,
          null,
          6,
          5,
          null,
          6,
          4,
          null,
          6,
          7,
          null,
          6,
          7,
          null,
          3,
          2,
          null,
          3,
          2,
          null,
          3,
          5,
          null,
          3,
          5,
          null,
          2,
          1,
          null,
          2,
          4,
          null,
          6,
          5,
          null,
          6,
          5,
          null,
          6,
          7,
          null,
          6,
          7,
          null,
          2,
          1,
          null,
          7,
          6,
          null,
          7,
          6,
          null,
          7,
          6,
          null,
          7,
          8,
          null,
          3,
          2,
          null,
          3,
          2,
          null,
          2,
          1,
          null,
          2,
          4,
          null,
          2,
          3,
          null,
          5,
          7,
          null,
          6,
          5,
          null,
          6,
          5,
          null,
          6,
          5,
          null,
          6,
          5,
          null,
          6,
          7,
          null,
          2,
          1,
          null,
          5,
          4,
          null,
          5,
          3,
          null,
          5,
          6,
          null,
          5,
          6,
          null,
          2,
          1,
          null,
          2,
          3,
          null,
          8,
          7,
          null,
          8,
          7,
          null,
          8,
          7,
          null,
          6,
          5,
          null,
          6,
          5,
          null,
          6,
          5,
          null,
          6,
          7,
          null,
          4,
          5,
          null,
          4,
          5,
          null,
          4,
          6,
          null,
          2,
          1,
          null,
          5,
          4,
          null,
          5,
          6,
          null,
          5,
          6,
          null,
          5,
          6,
          null,
          5,
          6,
          null,
          4,
          5,
          null,
          4,
          5,
          null,
          5,
          4,
          null,
          5,
          4,
          null,
          5,
          7,
          null,
          4,
          6,
          null,
          4,
          5,
          null,
          6,
          7,
          null,
          4,
          5,
          null,
          6,
          5,
          null,
          6,
          4,
          null,
          6,
          5,
          null,
          6,
          7,
          null,
          5,
          4,
          null,
          6,
          5,
          null,
          6,
          5,
          null,
          7,
          5,
          null,
          7,
          6,
          null,
          4,
          5,
          null,
          5,
          4,
          null,
          5,
          6,
          null
         ]
        },
        {
         "hoverinfo": "text",
         "hovertext": [
          "Concept 30<br><br>extent (len: 3): grapefruit, apple, tennis ball<br>intent (len: 7): form!=oval, color!=green, form=ro...<br>new extent (len: 0): ∅<br>new_intent (len: 1): form=round<br>metric y_true_mean = 0.6666666666666666<br>",
          "Concept 8<br><br>extent (len: 5): mango, tennis ball, grapefruit, k...<br>intent (len: 4): firm!=True, firm=False, color!=bl...<br>new extent (len: 0): ∅<br>new_intent (len: 0): ∅<br>metric y_true_mean = 0.8<br>",
          "Concept 31<br><br>extent (len: 3): grapefruit, toy cube, apple<br>intent (len: 3): form!=oval, color!=white, color!=...<br>new extent (len: 0): ∅<br>new_intent (len: 0): ∅<br>metric y_true_mean = 0.6666666666666666<br>",
          "Concept 54<br><br>extent (len: 2): kiwi, tennis ball<br>intent (len: 7): color!=yellow, smooth!=True, smoo...<br>new extent (len: 0): ∅<br>new_intent (len: 0): ∅<br>metric y_true_mean = 0.5<br>",
          "Concept 18<br><br>extent (len: 4): grapefruit, toy cube, apple, tenn...<br>intent (len: 2): form!=oval, color!=blue<br>new extent (len: 0): ∅<br>new_intent (len: 1): form!=oval<br>metric y_true_mean = 0.5<br>",
          "Concept 37<br><br>extent (len: 3): mango, plum, kiwi<br>intent (len: 7): color!=white, color!=yellow, form...<br>new extent (len: 0): ∅<br>new_intent (len: 0): ∅<br>metric y_true_mean = 1.0<br>",
          "Concept 41<br><br>extent (len: 3): plum, egg, tennis ball<br>intent (len: 3): color!=green, color!=yellow, form...<br>new extent (len: 0): ∅<br>new_intent (len: 0): ∅<br>metric y_true_mean = 0.3333333333333333<br>",
          "Concept 53<br><br>extent (len: 2): mango, kiwi<br>intent (len: 9): color!=white, color!=yellow, form...<br>new extent (len: 0): ∅<br>new_intent (len: 0): ∅<br>metric y_true_mean = 1.0<br>",
          "Concept 29<br><br>extent (len: 3): grapefruit, plum, apple<br>intent (len: 5): color!=white, color!=green, firm!...<br>new extent (len: 0): ∅<br>new_intent (len: 0): ∅<br>metric y_true_mean = 1.0<br>",
          "Concept 33<br><br>extent (len: 3): mango, plum, apple<br>intent (len: 6): color!=white, smooth!=False, firm...<br>new extent (len: 0): ∅<br>new_intent (len: 0): ∅<br>metric y_true_mean = 1.0<br>",
          "Concept 55<br><br>extent (len: 2): plum, egg<br>intent (len: 7): color!=yellow, smooth!=False, for...<br>new extent (len: 0): ∅<br>new_intent (len: 0): ∅<br>metric y_true_mean = 0.5<br>",
          "Concept 57<br><br>extent (len: 2): plum, tennis ball<br>intent (len: 5): color!=yellow, color!=green, firm...<br>new extent (len: 0): ∅<br>new_intent (len: 0): ∅<br>metric y_true_mean = 0.5<br>",
          "Concept 50<br><br>extent (len: 2): egg, tennis ball<br>intent (len: 5): color=white, color!=yellow, color...<br>new extent (len: 0): ∅<br>new_intent (len: 1): color=white<br>metric y_true_mean = 0.0<br>",
          "Concept 49<br><br>extent (len: 2): mango, egg<br>intent (len: 7): smooth!=False, color!=yellow, for...<br>new extent (len: 0): ∅<br>new_intent (len: 0): ∅<br>metric y_true_mean = 0.5<br>",
          "Concept 59<br><br>extent (len: 2): mango, toy cube<br>intent (len: 7): color!=white, color!=yellow, smoo...<br>new extent (len: 0): ∅<br>new_intent (len: 0): ∅<br>metric y_true_mean = 0.5<br>",
          "Concept 36<br><br>extent (len: 3): mango, kiwi, egg<br>intent (len: 5): color!=yellow, form=oval, form!=r...<br>new extent (len: 0): ∅<br>new_intent (len: 0): ∅<br>metric y_true_mean = 0.6666666666666666<br>",
          "Concept 52<br><br>extent (len: 2): grapefruit, tennis ball<br>intent (len: 9): form!=oval, color!=green, smooth!...<br>new extent (len: 0): ∅<br>new_intent (len: 0): ∅<br>metric y_true_mean = 0.5<br>",
          "Concept 60<br><br>extent (len: 2): toy cube, tennis ball<br>intent (len: 3): form!=oval, color!=yellow, color!...<br>new extent (len: 0): ∅<br>new_intent (len: 0): ∅<br>metric y_true_mean = 0.0<br>",
          "Concept 56<br><br>extent (len: 2): mango, plum<br>intent (len: 9): color!=white, color!=yellow, smoo...<br>new extent (len: 0): ∅<br>new_intent (len: 0): ∅<br>metric y_true_mean = 1.0<br>",
          "Concept 51<br><br>extent (len: 2): grapefruit, kiwi<br>intent (len: 7): color!=white, smooth!=True, smoot...<br>new extent (len: 0): ∅<br>new_intent (len: 0): ∅<br>metric y_true_mean = 1.0<br>",
          "Concept 48<br><br>extent (len: 2): toy cube, apple<br>intent (len: 5): form!=oval, color!=white, smooth!...<br>new extent (len: 0): ∅<br>new_intent (len: 0): ∅<br>metric y_true_mean = 0.5<br>",
          "Concept 64<br><br>extent (len: 1): kiwi<br>intent (len: 11): color!=white, color!=yellow, for...<br>new extent (len: 1): kiwi<br>new_intent (len: 0): ∅<br>metric y_true_mean = 1.0<br>",
          "Concept 4<br><br>extent (len: 6): mango, tennis ball, grapefruit, p...<br>intent (len: 3): firm!=True, firm=False, form!=cub...<br>new extent (len: 0): ∅<br>new_intent (len: 2): firm!=True, firm=False<br>metric y_true_mean = 0.8333333333333334<br>",
          "Concept 58<br><br>extent (len: 2): toy cube, egg<br>intent (len: 7): color!=yellow, smooth!=False, fir...<br>new extent (len: 0): ∅<br>new_intent (len: 2): firm!=False, firm=True<br>metric y_true_mean = 0.0<br>",
          "Concept 67<br><br>extent (len: 1): tennis ball<br>intent (len: 11): form!=oval, color=white, color!=...<br>new extent (len: 1): tennis ball<br>new_intent (len: 0): ∅<br>metric y_true_mean = 0.0<br>",
          "Concept 16<br><br>extent (len: 4): grapefruit, kiwi, apple, mango<br>intent (len: 5): color!=white, color!=blue, firm!=...<br>new extent (len: 0): ∅<br>new_intent (len: 0): ∅<br>metric y_true_mean = 1.0<br>",
          "Concept 1<br><br>extent (len: 7): mango, egg, tennis ball, grapefru...<br>intent (len: 1): form!=cubic<br>new extent (len: 0): ∅<br>new_intent (len: 1): form!=cubic<br>metric y_true_mean = 0.7142857142857143<br>",
          "Concept 20<br><br>extent (len: 4): mango, plum, apple, toy cube<br>intent (len: 3): color!=white, smooth!=False, smoo...<br>new extent (len: 0): ∅<br>new_intent (len: 0): ∅<br>metric y_true_mean = 0.75<br>",
          "Concept 35<br><br>extent (len: 3): grapefruit, kiwi, tennis ball<br>intent (len: 6): smooth!=True, smooth=False, color...<br>new extent (len: 0): ∅<br>new_intent (len: 2): smooth!=True, smooth=False<br>metric y_true_mean = 0.6666666666666666<br>",
          "Concept 46<br><br>extent (len: 2): mango, apple<br>intent (len: 7): color!=white, smooth!=False, colo...<br>new extent (len: 0): ∅<br>new_intent (len: 0): ∅<br>metric y_true_mean = 1.0<br>",
          "Concept 62<br><br>extent (len: 1): egg<br>intent (len: 11): color=white, color!=yellow, smoo...<br>new extent (len: 1): egg<br>new_intent (len: 0): ∅<br>metric y_true_mean = 0.0<br>",
          "Concept 14<br><br>extent (len: 5): mango, egg, tennis ball, kiwi, to...<br>intent (len: 2): color!=yellow, color!=blue<br>new extent (len: 0): ∅<br>new_intent (len: 0): ∅<br>metric y_true_mean = 0.4<br>",
          "Concept 65<br><br>extent (len: 1): mango<br>intent (len: 11): color!=white, color!=yellow, smo...<br>new extent (len: 1): mango<br>new_intent (len: 0): ∅<br>metric y_true_mean = 1.0<br>",
          "Concept 2<br><br>extent (len: 7): mango, egg, tennis ball, grapefru...<br>intent (len: 1): color!=blue<br>new extent (len: 0): ∅<br>new_intent (len: 1): color!=blue<br>metric y_true_mean = 0.5714285714285714<br>",
          "Concept 45<br><br>extent (len: 2): grapefruit, apple<br>intent (len: 9): form!=oval, color!=white, color=y...<br>new extent (len: 0): ∅<br>new_intent (len: 1): color=yellow<br>metric y_true_mean = 1.0<br>",
          "Concept 61<br><br>extent (len: 1): apple<br>intent (len: 11): form!=oval, color!=white, color=...<br>new extent (len: 1): apple<br>new_intent (len: 0): ∅<br>metric y_true_mean = 1.0<br>",
          "Concept 7<br><br>extent (len: 5): mango, grapefruit, plum, kiwi, ap...<br>intent (len: 4): color!=white, firm=False, form!=c...<br>new extent (len: 0): ∅<br>new_intent (len: 0): ∅<br>metric y_true_mean = 1.0<br>",
          "Concept 13<br><br>extent (len: 5): mango, egg, kiwi, toy cube, plum<br>intent (len: 2): form!=round, color!=yellow<br>new extent (len: 0): ∅<br>new_intent (len: 1): form!=round<br>metric y_true_mean = 0.6<br>",
          "Concept 63<br><br>extent (len: 1): grapefruit<br>intent (len: 11): form!=oval, color!=white, color=...<br>new extent (len: 1): grapefruit<br>new_intent (len: 0): ∅<br>metric y_true_mean = 1.0<br>",
          "Concept 32<br><br>extent (len: 3): plum, apple, egg<br>intent (len: 4): color!=green, smooth!=False, form...<br>new extent (len: 0): ∅<br>new_intent (len: 0): ∅<br>metric y_true_mean = 0.6666666666666666<br>",
          "Concept 66<br><br>extent (len: 1): plum<br>intent (len: 11): color!=white, color!=yellow, col...<br>new extent (len: 1): plum<br>new_intent (len: 1): color=blue<br>metric y_true_mean = 1.0<br>",
          "Concept 0<br><br>extent (len: 8): mango, egg, tennis ball, grapefru...<br>intent (len: 0): ∅<br>new extent (len: 0): ∅<br>new_intent (len: 0): ∅<br>metric y_true_mean = 0.625<br>",
          "Concept 12<br><br>extent (len: 5): mango, egg, tennis ball, kiwi, pl...<br>intent (len: 2): color!=yellow, form!=cubic<br>new extent (len: 0): ∅<br>new_intent (len: 0): ∅<br>metric y_true_mean = 0.6<br>",
          "Concept 40<br><br>extent (len: 3): mango, plum, egg<br>intent (len: 6): color!=yellow, form=oval, smooth!...<br>new extent (len: 0): ∅<br>new_intent (len: 0): ∅<br>metric y_true_mean = 0.6666666666666666<br>",
          "Concept 68<br><br>extent (len: 1): toy cube<br>intent (len: 11): form!=oval, color!=white, form=c...<br>new extent (len: 1): toy cube<br>new_intent (len: 1): form=cubic<br>metric y_true_mean = 0.0<br>",
          "Concept 15<br><br>extent (len: 4): grapefruit, apple, egg, tennis ba...<br>intent (len: 3): color!=green, color!=blue, form!=...<br>new extent (len: 0): ∅<br>new_intent (len: 0): ∅<br>metric y_true_mean = 0.5<br>",
          "Concept 34<br><br>extent (len: 3): mango, toy cube, apple<br>intent (len: 4): color!=white, smooth!=False, colo...<br>new extent (len: 0): ∅<br>new_intent (len: 0): ∅<br>metric y_true_mean = 0.6666666666666666<br>",
          "Concept 38<br><br>extent (len: 3): mango, kiwi, tennis ball<br>intent (len: 5): color!=yellow, color!=blue, firm!...<br>new extent (len: 0): ∅<br>new_intent (len: 0): ∅<br>metric y_true_mean = 0.6666666666666666<br>",
          "Concept 23<br><br>extent (len: 4): mango, plum, kiwi, egg<br>intent (len: 4): form!=round, color!=yellow, form=...<br>new extent (len: 0): ∅<br>new_intent (len: 1): form=oval<br>metric y_true_mean = 0.75<br>",
          "Concept 24<br><br>extent (len: 4): mango, plum, kiwi, tennis ball<br>intent (len: 4): firm!=True, firm=False, color!=ye...<br>new extent (len: 0): ∅<br>new_intent (len: 0): ∅<br>metric y_true_mean = 0.75<br>",
          "Concept 25<br><br>extent (len: 4): mango, plum, kiwi, toy cube<br>intent (len: 3): form!=round, color!=white, color!...<br>new extent (len: 0): ∅<br>new_intent (len: 0): ∅<br>metric y_true_mean = 0.75<br>",
          "Concept 39<br><br>extent (len: 3): mango, toy cube, kiwi<br>intent (len: 5): color!=white, color!=yellow, form...<br>new extent (len: 0): ∅<br>new_intent (len: 1): color=green<br>metric y_true_mean = 0.6666666666666666<br>",
          "Concept 9<br><br>extent (len: 5): mango, grapefruit, kiwi, toy cube...<br>intent (len: 2): color!=white, color!=blue<br>new extent (len: 0): ∅<br>new_intent (len: 0): ∅<br>metric y_true_mean = 0.8<br>",
          "Concept 44<br><br>extent (len: 2): apple, egg<br>intent (len: 5): smooth!=False, color!=green, colo...<br>new extent (len: 0): ∅<br>new_intent (len: 0): ∅<br>metric y_true_mean = 0.5<br>",
          "Concept 10<br><br>extent (len: 5): egg, tennis ball, grapefruit, app...<br>intent (len: 2): color!=green, form!=cubic<br>new extent (len: 0): ∅<br>new_intent (len: 1): color!=green<br>metric y_true_mean = 0.6<br>",
          "Concept 21<br><br>extent (len: 4): mango, toy cube, apple, egg<br>intent (len: 3): smooth!=False, color!=blue, smoot...<br>new extent (len: 0): ∅<br>new_intent (len: 0): ∅<br>metric y_true_mean = 0.5<br>",
          "Concept 26<br><br>extent (len: 4): mango, toy cube, kiwi, egg<br>intent (len: 3): form!=round, color!=yellow, color...<br>new extent (len: 0): ∅<br>new_intent (len: 0): ∅<br>metric y_true_mean = 0.5<br>",
          "Concept 3<br><br>extent (len: 6): mango, egg, tennis ball, grapefru...<br>intent (len: 2): color!=blue, form!=cubic<br>new extent (len: 0): ∅<br>new_intent (len: 0): ∅<br>metric y_true_mean = 0.6666666666666666<br>",
          "Concept 11<br><br>extent (len: 5): mango, egg, toy cube, apple, plum<br>intent (len: 2): smooth!=False, smooth=True<br>new extent (len: 0): ∅<br>new_intent (len: 2): smooth!=False, smooth=True<br>metric y_true_mean = 0.6<br>",
          "Concept 22<br><br>extent (len: 4): mango, kiwi, egg, tennis ball<br>intent (len: 3): color!=yellow, color!=blue, form!...<br>new extent (len: 0): ∅<br>new_intent (len: 0): ∅<br>metric y_true_mean = 0.5<br>",
          "Concept 43<br><br>extent (len: 3): mango, toy cube, egg<br>intent (len: 5): smooth!=False, color!=yellow, for...<br>new extent (len: 0): ∅<br>new_intent (len: 0): ∅<br>metric y_true_mean = 0.3333333333333333<br>",
          "Concept 69<br><br>extent (len: 0): ∅<br>intent (len: 22): form!=oval, color!=white, form=c...<br>new extent (len: 0): ∅<br>new_intent (len: 0): ∅<br>metric y_true_mean = nan<br>",
          "Concept 27<br><br>extent (len: 4): mango, toy cube, plum, egg<br>intent (len: 4): form!=round, color!=yellow, smoot...<br>new extent (len: 0): ∅<br>new_intent (len: 0): ∅<br>metric y_true_mean = 0.5<br>",
          "Concept 47<br><br>extent (len: 2): plum, apple<br>intent (len: 7): color!=white, smooth!=False, colo...<br>new extent (len: 0): ∅<br>new_intent (len: 0): ∅<br>metric y_true_mean = 1.0<br>",
          "Concept 6<br><br>extent (len: 6): mango, egg, tennis ball, kiwi, to...<br>intent (len: 1): color!=yellow<br>new extent (len: 0): ∅<br>new_intent (len: 1): color!=yellow<br>metric y_true_mean = 0.5<br>",
          "Concept 17<br><br>extent (len: 4): grapefruit, plum, apple, tennis b...<br>intent (len: 4): color!=green, firm!=True, firm=Fa...<br>new extent (len: 0): ∅<br>new_intent (len: 0): ∅<br>metric y_true_mean = 0.75<br>",
          "Concept 28<br><br>extent (len: 3): mango, apple, egg<br>intent (len: 4): form!=cubic, smooth!=False, color...<br>new extent (len: 0): ∅<br>new_intent (len: 0): ∅<br>metric y_true_mean = 0.6666666666666666<br>",
          "Concept 42<br><br>extent (len: 3): mango, toy cube, plum<br>intent (len: 5): color!=white, color!=yellow, smoo...<br>new extent (len: 0): ∅<br>new_intent (len: 0): ∅<br>metric y_true_mean = 0.6666666666666666<br>",
          "Concept 19<br><br>extent (len: 4): mango, plum, apple, egg<br>intent (len: 3): smooth!=False, form!=cubic, smoot...<br>new extent (len: 0): ∅<br>new_intent (len: 0): ∅<br>metric y_true_mean = 0.75<br>",
          "Concept 5<br><br>extent (len: 6): mango, grapefruit, plum, kiwi, to...<br>intent (len: 1): color!=white<br>new extent (len: 0): ∅<br>new_intent (len: 1): color!=white<br>metric y_true_mean = 0.8333333333333334<br>"
         ],
         "marker": {
          "color": [
           0.6666666666666666,
           0.8,
           0.6666666666666666,
           0.5,
           0.5,
           1,
           0.3333333333333333,
           1,
           1,
           1,
           0.5,
           0.5,
           0,
           0.5,
           0.5,
           0.6666666666666666,
           0.5,
           0,
           1,
           1,
           0.5,
           1,
           0.8333333333333334,
           0,
           0,
           1,
           0.7142857142857143,
           0.75,
           0.6666666666666666,
           1,
           0,
           0.4,
           1,
           0.5714285714285714,
           1,
           1,
           1,
           0.6,
           1,
           0.6666666666666666,
           1,
           0.625,
           0.6,
           0.6666666666666666,
           0,
           0.5,
           0.6666666666666666,
           0.6666666666666666,
           0.75,
           0.75,
           0.75,
           0.6666666666666666,
           0.8,
           0.5,
           0.6,
           0.5,
           0.5,
           0.6666666666666666,
           0.6,
           0.5,
           0.3333333333333333,
           null,
           0.5,
           1,
           0.5,
           0.75,
           0.6666666666666666,
           0.6666666666666666,
           0.75,
           0.8333333333333334
          ],
          "colorbar": {
           "thickness": 15,
           "title": {
            "side": "right",
            "text": "y_mean"
           },
           "xanchor": "left"
          },
          "colorscale": [
           [
            0,
            "rgb(103,0,31)"
           ],
           [
            0.1,
            "rgb(178,24,43)"
           ],
           [
            0.2,
            "rgb(214,96,77)"
           ],
           [
            0.3,
            "rgb(244,165,130)"
           ],
           [
            0.4,
            "rgb(253,219,199)"
           ],
           [
            0.5,
            "rgb(247,247,247)"
           ],
           [
            0.6,
            "rgb(209,229,240)"
           ],
           [
            0.7,
            "rgb(146,197,222)"
           ],
           [
            0.8,
            "rgb(67,147,195)"
           ],
           [
            0.9,
            "rgb(33,102,172)"
           ],
           [
            1,
            "rgb(5,48,97)"
           ]
          ],
          "line": {
           "width": 2
          },
          "reversescale": true,
          "showscale": true,
          "size": 10
         },
         "mode": "markers+text",
         "text": [
          "n: 1<br>",
          "<br>",
          "<br>",
          "<br>",
          "n: 1<br>",
          "<br>",
          "<br>",
          "<br>",
          "<br>",
          "<br>",
          "<br>",
          "<br>",
          "n: 1<br>",
          "<br>",
          "<br>",
          "<br>",
          "<br>",
          "<br>",
          "<br>",
          "<br>",
          "<br>",
          "<br>n: 1",
          "n: 2<br>",
          "n: 2<br>",
          "<br>n: 1",
          "<br>",
          "n: 1<br>",
          "<br>",
          "n: 2<br>",
          "<br>",
          "<br>n: 1",
          "<br>",
          "<br>n: 1",
          "n: 1<br>",
          "n: 1<br>",
          "<br>n: 1",
          "<br>",
          "n: 1<br>",
          "<br>n: 1",
          "<br>",
          "n: 1<br>n: 1",
          "<br>",
          "<br>",
          "<br>",
          "n: 1<br>n: 1",
          "<br>",
          "<br>",
          "<br>",
          "n: 1<br>",
          "<br>",
          "<br>",
          "n: 1<br>",
          "<br>",
          "<br>",
          "n: 1<br>",
          "<br>",
          "<br>",
          "<br>",
          "n: 2<br>",
          "<br>",
          "<br>",
          "<br>",
          "<br>",
          "<br>",
          "n: 1<br>",
          "<br>",
          "<br>",
          "<br>",
          "<br>",
          "n: 1<br>"
         ],
         "textposition": "middle right",
         "type": "scatter",
         "x": [
          -7.5,
          -7.5,
          -6.5,
          -5.5,
          -5,
          -6.5,
          -5.5,
          -4.5,
          -5.5,
          -4.5,
          -3.5,
          -3.5,
          -2.5,
          -2.5,
          -1.5,
          -1.5,
          -0.5,
          -4.5,
          0.5,
          1.5,
          -0.5,
          -3.5,
          -4,
          2.5,
          -2.5,
          0.5,
          -2,
          -3,
          1.5,
          3.5,
          -1.5,
          -2,
          -0.5,
          -1,
          4.5,
          0.5,
          -3.5,
          -1,
          1.5,
          -2.5,
          2.5,
          0,
          0,
          2.5,
          3.5,
          -1.5,
          -0.5,
          3.5,
          0.5,
          1.5,
          2.5,
          4.5,
          1,
          5.5,
          2,
          3,
          3.5,
          4,
          0,
          4.5,
          6.5,
          0,
          5.5,
          5.5,
          1,
          6.5,
          7.5,
          7.5,
          5,
          2
         ],
         "y": [
          4,
          5,
          5,
          3,
          6,
          4,
          5,
          3,
          4,
          4,
          3,
          4,
          4,
          3,
          3,
          4,
          3,
          5,
          3,
          3,
          4,
          2,
          6,
          3,
          2,
          4,
          7,
          6,
          4,
          3,
          2,
          6,
          2,
          7,
          3,
          2,
          5,
          6,
          2,
          5,
          2,
          8,
          6,
          4,
          2,
          5,
          5,
          4,
          5,
          5,
          5,
          4,
          6,
          4,
          6,
          6,
          5,
          6,
          7,
          5,
          4,
          1,
          5,
          3,
          7,
          5,
          5,
          4,
          6,
          7
         ]
        }
       ],
       "layout": {
        "height": 500,
        "hovermode": "closest",
        "margin": {
         "b": 20,
         "l": 5,
         "r": 5,
         "t": 40
        },
        "showlegend": false,
        "template": {
         "data": {
          "bar": [
           {
            "error_x": {
             "color": "#2a3f5f"
            },
            "error_y": {
             "color": "#2a3f5f"
            },
            "marker": {
             "line": {
              "color": "#E5ECF6",
              "width": 0.5
             }
            },
            "type": "bar"
           }
          ],
          "barpolar": [
           {
            "marker": {
             "line": {
              "color": "#E5ECF6",
              "width": 0.5
             }
            },
            "type": "barpolar"
           }
          ],
          "carpet": [
           {
            "aaxis": {
             "endlinecolor": "#2a3f5f",
             "gridcolor": "white",
             "linecolor": "white",
             "minorgridcolor": "white",
             "startlinecolor": "#2a3f5f"
            },
            "baxis": {
             "endlinecolor": "#2a3f5f",
             "gridcolor": "white",
             "linecolor": "white",
             "minorgridcolor": "white",
             "startlinecolor": "#2a3f5f"
            },
            "type": "carpet"
           }
          ],
          "choropleth": [
           {
            "colorbar": {
             "outlinewidth": 0,
             "ticks": ""
            },
            "type": "choropleth"
           }
          ],
          "contour": [
           {
            "colorbar": {
             "outlinewidth": 0,
             "ticks": ""
            },
            "colorscale": [
             [
              0,
              "#0d0887"
             ],
             [
              0.1111111111111111,
              "#46039f"
             ],
             [
              0.2222222222222222,
              "#7201a8"
             ],
             [
              0.3333333333333333,
              "#9c179e"
             ],
             [
              0.4444444444444444,
              "#bd3786"
             ],
             [
              0.5555555555555556,
              "#d8576b"
             ],
             [
              0.6666666666666666,
              "#ed7953"
             ],
             [
              0.7777777777777778,
              "#fb9f3a"
             ],
             [
              0.8888888888888888,
              "#fdca26"
             ],
             [
              1,
              "#f0f921"
             ]
            ],
            "type": "contour"
           }
          ],
          "contourcarpet": [
           {
            "colorbar": {
             "outlinewidth": 0,
             "ticks": ""
            },
            "type": "contourcarpet"
           }
          ],
          "heatmap": [
           {
            "colorbar": {
             "outlinewidth": 0,
             "ticks": ""
            },
            "colorscale": [
             [
              0,
              "#0d0887"
             ],
             [
              0.1111111111111111,
              "#46039f"
             ],
             [
              0.2222222222222222,
              "#7201a8"
             ],
             [
              0.3333333333333333,
              "#9c179e"
             ],
             [
              0.4444444444444444,
              "#bd3786"
             ],
             [
              0.5555555555555556,
              "#d8576b"
             ],
             [
              0.6666666666666666,
              "#ed7953"
             ],
             [
              0.7777777777777778,
              "#fb9f3a"
             ],
             [
              0.8888888888888888,
              "#fdca26"
             ],
             [
              1,
              "#f0f921"
             ]
            ],
            "type": "heatmap"
           }
          ],
          "heatmapgl": [
           {
            "colorbar": {
             "outlinewidth": 0,
             "ticks": ""
            },
            "colorscale": [
             [
              0,
              "#0d0887"
             ],
             [
              0.1111111111111111,
              "#46039f"
             ],
             [
              0.2222222222222222,
              "#7201a8"
             ],
             [
              0.3333333333333333,
              "#9c179e"
             ],
             [
              0.4444444444444444,
              "#bd3786"
             ],
             [
              0.5555555555555556,
              "#d8576b"
             ],
             [
              0.6666666666666666,
              "#ed7953"
             ],
             [
              0.7777777777777778,
              "#fb9f3a"
             ],
             [
              0.8888888888888888,
              "#fdca26"
             ],
             [
              1,
              "#f0f921"
             ]
            ],
            "type": "heatmapgl"
           }
          ],
          "histogram": [
           {
            "marker": {
             "colorbar": {
              "outlinewidth": 0,
              "ticks": ""
             }
            },
            "type": "histogram"
           }
          ],
          "histogram2d": [
           {
            "colorbar": {
             "outlinewidth": 0,
             "ticks": ""
            },
            "colorscale": [
             [
              0,
              "#0d0887"
             ],
             [
              0.1111111111111111,
              "#46039f"
             ],
             [
              0.2222222222222222,
              "#7201a8"
             ],
             [
              0.3333333333333333,
              "#9c179e"
             ],
             [
              0.4444444444444444,
              "#bd3786"
             ],
             [
              0.5555555555555556,
              "#d8576b"
             ],
             [
              0.6666666666666666,
              "#ed7953"
             ],
             [
              0.7777777777777778,
              "#fb9f3a"
             ],
             [
              0.8888888888888888,
              "#fdca26"
             ],
             [
              1,
              "#f0f921"
             ]
            ],
            "type": "histogram2d"
           }
          ],
          "histogram2dcontour": [
           {
            "colorbar": {
             "outlinewidth": 0,
             "ticks": ""
            },
            "colorscale": [
             [
              0,
              "#0d0887"
             ],
             [
              0.1111111111111111,
              "#46039f"
             ],
             [
              0.2222222222222222,
              "#7201a8"
             ],
             [
              0.3333333333333333,
              "#9c179e"
             ],
             [
              0.4444444444444444,
              "#bd3786"
             ],
             [
              0.5555555555555556,
              "#d8576b"
             ],
             [
              0.6666666666666666,
              "#ed7953"
             ],
             [
              0.7777777777777778,
              "#fb9f3a"
             ],
             [
              0.8888888888888888,
              "#fdca26"
             ],
             [
              1,
              "#f0f921"
             ]
            ],
            "type": "histogram2dcontour"
           }
          ],
          "mesh3d": [
           {
            "colorbar": {
             "outlinewidth": 0,
             "ticks": ""
            },
            "type": "mesh3d"
           }
          ],
          "parcoords": [
           {
            "line": {
             "colorbar": {
              "outlinewidth": 0,
              "ticks": ""
             }
            },
            "type": "parcoords"
           }
          ],
          "pie": [
           {
            "automargin": true,
            "type": "pie"
           }
          ],
          "scatter": [
           {
            "marker": {
             "colorbar": {
              "outlinewidth": 0,
              "ticks": ""
             }
            },
            "type": "scatter"
           }
          ],
          "scatter3d": [
           {
            "line": {
             "colorbar": {
              "outlinewidth": 0,
              "ticks": ""
             }
            },
            "marker": {
             "colorbar": {
              "outlinewidth": 0,
              "ticks": ""
             }
            },
            "type": "scatter3d"
           }
          ],
          "scattercarpet": [
           {
            "marker": {
             "colorbar": {
              "outlinewidth": 0,
              "ticks": ""
             }
            },
            "type": "scattercarpet"
           }
          ],
          "scattergeo": [
           {
            "marker": {
             "colorbar": {
              "outlinewidth": 0,
              "ticks": ""
             }
            },
            "type": "scattergeo"
           }
          ],
          "scattergl": [
           {
            "marker": {
             "colorbar": {
              "outlinewidth": 0,
              "ticks": ""
             }
            },
            "type": "scattergl"
           }
          ],
          "scattermapbox": [
           {
            "marker": {
             "colorbar": {
              "outlinewidth": 0,
              "ticks": ""
             }
            },
            "type": "scattermapbox"
           }
          ],
          "scatterpolar": [
           {
            "marker": {
             "colorbar": {
              "outlinewidth": 0,
              "ticks": ""
             }
            },
            "type": "scatterpolar"
           }
          ],
          "scatterpolargl": [
           {
            "marker": {
             "colorbar": {
              "outlinewidth": 0,
              "ticks": ""
             }
            },
            "type": "scatterpolargl"
           }
          ],
          "scatterternary": [
           {
            "marker": {
             "colorbar": {
              "outlinewidth": 0,
              "ticks": ""
             }
            },
            "type": "scatterternary"
           }
          ],
          "surface": [
           {
            "colorbar": {
             "outlinewidth": 0,
             "ticks": ""
            },
            "colorscale": [
             [
              0,
              "#0d0887"
             ],
             [
              0.1111111111111111,
              "#46039f"
             ],
             [
              0.2222222222222222,
              "#7201a8"
             ],
             [
              0.3333333333333333,
              "#9c179e"
             ],
             [
              0.4444444444444444,
              "#bd3786"
             ],
             [
              0.5555555555555556,
              "#d8576b"
             ],
             [
              0.6666666666666666,
              "#ed7953"
             ],
             [
              0.7777777777777778,
              "#fb9f3a"
             ],
             [
              0.8888888888888888,
              "#fdca26"
             ],
             [
              1,
              "#f0f921"
             ]
            ],
            "type": "surface"
           }
          ],
          "table": [
           {
            "cells": {
             "fill": {
              "color": "#EBF0F8"
             },
             "line": {
              "color": "white"
             }
            },
            "header": {
             "fill": {
              "color": "#C8D4E3"
             },
             "line": {
              "color": "white"
             }
            },
            "type": "table"
           }
          ]
         },
         "layout": {
          "annotationdefaults": {
           "arrowcolor": "#2a3f5f",
           "arrowhead": 0,
           "arrowwidth": 1
          },
          "coloraxis": {
           "colorbar": {
            "outlinewidth": 0,
            "ticks": ""
           }
          },
          "colorscale": {
           "diverging": [
            [
             0,
             "#8e0152"
            ],
            [
             0.1,
             "#c51b7d"
            ],
            [
             0.2,
             "#de77ae"
            ],
            [
             0.3,
             "#f1b6da"
            ],
            [
             0.4,
             "#fde0ef"
            ],
            [
             0.5,
             "#f7f7f7"
            ],
            [
             0.6,
             "#e6f5d0"
            ],
            [
             0.7,
             "#b8e186"
            ],
            [
             0.8,
             "#7fbc41"
            ],
            [
             0.9,
             "#4d9221"
            ],
            [
             1,
             "#276419"
            ]
           ],
           "sequential": [
            [
             0,
             "#0d0887"
            ],
            [
             0.1111111111111111,
             "#46039f"
            ],
            [
             0.2222222222222222,
             "#7201a8"
            ],
            [
             0.3333333333333333,
             "#9c179e"
            ],
            [
             0.4444444444444444,
             "#bd3786"
            ],
            [
             0.5555555555555556,
             "#d8576b"
            ],
            [
             0.6666666666666666,
             "#ed7953"
            ],
            [
             0.7777777777777778,
             "#fb9f3a"
            ],
            [
             0.8888888888888888,
             "#fdca26"
            ],
            [
             1,
             "#f0f921"
            ]
           ],
           "sequentialminus": [
            [
             0,
             "#0d0887"
            ],
            [
             0.1111111111111111,
             "#46039f"
            ],
            [
             0.2222222222222222,
             "#7201a8"
            ],
            [
             0.3333333333333333,
             "#9c179e"
            ],
            [
             0.4444444444444444,
             "#bd3786"
            ],
            [
             0.5555555555555556,
             "#d8576b"
            ],
            [
             0.6666666666666666,
             "#ed7953"
            ],
            [
             0.7777777777777778,
             "#fb9f3a"
            ],
            [
             0.8888888888888888,
             "#fdca26"
            ],
            [
             1,
             "#f0f921"
            ]
           ]
          },
          "colorway": [
           "#636efa",
           "#EF553B",
           "#00cc96",
           "#ab63fa",
           "#FFA15A",
           "#19d3f3",
           "#FF6692",
           "#B6E880",
           "#FF97FF",
           "#FECB52"
          ],
          "font": {
           "color": "#2a3f5f"
          },
          "geo": {
           "bgcolor": "white",
           "lakecolor": "white",
           "landcolor": "#E5ECF6",
           "showlakes": true,
           "showland": true,
           "subunitcolor": "white"
          },
          "hoverlabel": {
           "align": "left"
          },
          "hovermode": "closest",
          "mapbox": {
           "style": "light"
          },
          "paper_bgcolor": "white",
          "plot_bgcolor": "#E5ECF6",
          "polar": {
           "angularaxis": {
            "gridcolor": "white",
            "linecolor": "white",
            "ticks": ""
           },
           "bgcolor": "#E5ECF6",
           "radialaxis": {
            "gridcolor": "white",
            "linecolor": "white",
            "ticks": ""
           }
          },
          "scene": {
           "xaxis": {
            "backgroundcolor": "#E5ECF6",
            "gridcolor": "white",
            "gridwidth": 2,
            "linecolor": "white",
            "showbackground": true,
            "ticks": "",
            "zerolinecolor": "white"
           },
           "yaxis": {
            "backgroundcolor": "#E5ECF6",
            "gridcolor": "white",
            "gridwidth": 2,
            "linecolor": "white",
            "showbackground": true,
            "ticks": "",
            "zerolinecolor": "white"
           },
           "zaxis": {
            "backgroundcolor": "#E5ECF6",
            "gridcolor": "white",
            "gridwidth": 2,
            "linecolor": "white",
            "showbackground": true,
            "ticks": "",
            "zerolinecolor": "white"
           }
          },
          "shapedefaults": {
           "line": {
            "color": "#2a3f5f"
           }
          },
          "ternary": {
           "aaxis": {
            "gridcolor": "white",
            "linecolor": "white",
            "ticks": ""
           },
           "baxis": {
            "gridcolor": "white",
            "linecolor": "white",
            "ticks": ""
           },
           "bgcolor": "#E5ECF6",
           "caxis": {
            "gridcolor": "white",
            "linecolor": "white",
            "ticks": ""
           }
          },
          "title": {
           "x": 0.05
          },
          "xaxis": {
           "automargin": true,
           "gridcolor": "white",
           "linecolor": "white",
           "ticks": "",
           "title": {
            "standoff": 15
           },
           "zerolinecolor": "white",
           "zerolinewidth": 2
          },
          "yaxis": {
           "automargin": true,
           "gridcolor": "white",
           "linecolor": "white",
           "ticks": "",
           "title": {
            "standoff": 15
           },
           "zerolinecolor": "white",
           "zerolinewidth": 2
          }
         }
        },
        "title": {
         "font": {
          "size": 16
         },
         "text": "Concept Lattice"
        },
        "width": 1000,
        "xaxis": {
         "showgrid": false,
         "showticklabels": false,
         "zeroline": false
        },
        "yaxis": {
         "showgrid": false,
         "showticklabels": false,
         "zeroline": false
        }
       }
      },
      "text/html": [
       "<div>\n",
       "        \n",
       "        \n",
       "            <div id=\"eb5be7fc-40b2-4e33-82e5-cb0a3b87f709\" class=\"plotly-graph-div\" style=\"height:500px; width:1000px;\"></div>\n",
       "            <script type=\"text/javascript\">\n",
       "                require([\"plotly\"], function(Plotly) {\n",
       "                    window.PLOTLYENV=window.PLOTLYENV || {};\n",
       "                    \n",
       "                if (document.getElementById(\"eb5be7fc-40b2-4e33-82e5-cb0a3b87f709\")) {\n",
       "                    Plotly.newPlot(\n",
       "                        'eb5be7fc-40b2-4e33-82e5-cb0a3b87f709',\n",
       "                        [{\"hoverinfo\": \"none\", \"line\": {\"color\": \"#888\", \"width\": 0.5}, \"mode\": \"lines\", \"type\": \"scatter\", \"x\": [-7.5, -0.5, null, -7.5, 4.5, null, -7.5, -7.5, null, -7.5, -5.0, null, -7.5, -1.5, null, -7.5, 6.5, null, -7.5, 0.5, null, -7.5, 3.5, null, -7.5, 1.5, null, -7.5, -4.0, null, -7.5, 4.0, null, -6.5, -0.5, null, -6.5, 4.5, null, -6.5, -5.0, null, -6.5, 1.0, null, -5.5, -3.5, null, -5.5, -2.5, null, -5.5, 1.5, null, -5.5, 3.5, null, -5.0, -4.5, null, -5.0, -1.0, null, -6.5, 0.5, null, -6.5, -4.5, null, -6.5, -3.5, null, -6.5, 0.5, null, -6.5, 1.5, null, -6.5, 2.5, null, -5.5, -3.5, null, -5.5, -2.5, null, -5.5, -3.5, null, -5.5, 0.0, null, -5.5, 2.0, null, -4.5, -3.5, null, -4.5, -0.5, null, -4.5, -1.5, null, -4.5, 0.5, null, -4.5, 3.5, null, -4.5, 4.5, null, -5.5, 4.5, null, -5.5, 5.5, null, -5.5, -3.5, null, -5.5, 6.5, null, -4.5, 0.5, null, -4.5, 3.5, null, -4.5, 5.5, null, -4.5, -3.0, null, -4.5, -3.5, null, -4.5, 5.0, null, -3.5, 2.5, null, -3.5, -1.5, null, -3.5, -2.5, null, -3.5, 2.5, null, -3.5, 2.5, null, -3.5, -2.5, null, -3.5, 1.5, null, -3.5, 6.5, null, -2.5, -2.5, null, -2.5, -1.5, null, -2.5, -1.5, null, -2.5, 4.5, null, -2.5, -0.5, null, -2.5, -1.5, null, -2.5, -1.5, null, -2.5, 2.5, null, -2.5, 6.5, null, -2.5, 7.5, null, -1.5, -0.5, null, -1.5, 3.5, null, -1.5, -0.5, null, -1.5, 4.5, null, -1.5, 6.5, null, -1.5, 7.5, null, -1.5, 0.5, null, -1.5, 3.5, null, -1.5, 4.5, null, -0.5, -2.5, null, -0.5, 1.5, null, -0.5, 1.5, null, -4.5, -2.5, null, -4.5, 3.5, null, -4.5, -2.0, null, 0.5, -0.5, null, 0.5, 2.5, null, 0.5, 2.5, null, 0.5, 7.5, null, 1.5, -3.5, null, 1.5, 1.5, null, 1.5, 0.5, null, 1.5, 1.5, null, -0.5, 3.5, null, -0.5, 0.5, null, -0.5, -0.5, null, -3.5, 0.0, null, -4.0, 6.5, null, -4.0, 1.5, null, -4.0, -3.5, null, -4.0, -2.0, null, 2.5, 3.5, null, 2.5, -1.5, null, 2.5, 6.5, null, -2.5, 0.0, null, 0.5, 4.5, null, 0.5, 3.5, null, 0.5, -3.5, null, 0.5, 1.0, null, -2.0, 4.0, null, -2.0, 2.0, null, -2.0, 0.0, null, -2.0, 5.0, null, -2.0, 0.0, null, -3.0, -0.5, null, -3.0, 7.5, null, -3.0, 0.0, null, -3.0, 2.0, null, 3.5, -0.5, null, 3.5, 0.5, null, 3.5, -0.5, null, 3.5, 7.5, null, -1.5, 0.0, null, -1.5, 5.5, null, -2.0, 3.5, null, -2.0, 4.5, null, -2.0, -1.0, null, -2.0, 1.0, null, -0.5, 0.0, null, -1.0, 4.0, null, -1.0, 1.0, null, -1.0, 3.0, null, -1.0, 0.0, null, 4.5, 0.5, null, 4.5, 1.5, null, 0.5, 0.0, null, 0.5, 5.5, null, 0.5, 5.5, null, -3.5, 2.0, null, -1.0, 2.5, null, -1.0, 3.5, null, -1.0, 5.5, null, -1.0, 0.5, null, -1.0, 1.0, null, 1.5, 0.0, null, -2.5, 5.5, null, -2.5, 5.5, null, -2.5, 2.0, null, -2.5, 5.0, null, 2.5, 0.0, null, 2.5, 5.5, null, 0.0, 2.0, null, 0.0, 1.0, null, 0.0, 0.0, null, 0.0, 1.5, null, 0.0, 4.5, null, 0.0, 0.5, null, 0.0, 1.0, null, 2.5, 0.5, null, 2.5, 5.5, null, 2.5, 5.0, null, 3.5, 0.0, null, -1.5, 5.5, null, -1.5, 2.0, null, -1.5, 4.0, null, -0.5, 1.0, null, -0.5, 3.0, null, 3.5, 1.5, null, 3.5, 4.5, null, 2.5, 7.5, null, 2.5, 4.5, null, 2.5, 2.0, null, 4.5, 1.0, null, 4.5, 3.5, null, 1.0, 2.0, null, 5.5, 7.5, null, 2.0, 6.5, null, 3.0, 6.5, null, 3.0, 7.5, null, 3.0, 0.0, null, 3.5, 6.5, null, 4.0, 7.5, null, 4.0, 4.5, null, 0.0, 5.5, null, 0.0, 5.0, null, 6.5, 5.5, null, 5.5, 7.5, null, 7.5, 5.0, null], \"y\": [4, 3, null, 4, 3, null, 4, 5, null, 4, 6, null, 4, 5, null, 4, 5, null, 5, 4, null, 5, 4, null, 5, 4, null, 5, 6, null, 5, 6, null, 5, 4, null, 5, 3, null, 5, 6, null, 5, 6, null, 3, 2, null, 3, 2, null, 3, 4, null, 3, 4, null, 6, 5, null, 6, 7, null, 4, 3, null, 4, 3, null, 4, 5, null, 4, 5, null, 4, 5, null, 4, 5, null, 5, 4, null, 5, 4, null, 5, 3, null, 5, 6, null, 5, 6, null, 3, 2, null, 3, 2, null, 3, 4, null, 3, 4, null, 3, 4, null, 3, 4, null, 4, 3, null, 4, 3, null, 4, 5, null, 4, 5, null, 4, 3, null, 4, 3, null, 4, 3, null, 4, 6, null, 4, 5, null, 4, 6, null, 3, 2, null, 3, 2, null, 3, 5, null, 3, 4, null, 4, 2, null, 4, 2, null, 4, 5, null, 4, 5, null, 4, 2, null, 4, 2, null, 4, 5, null, 4, 5, null, 3, 2, null, 3, 2, null, 3, 4, null, 3, 4, null, 3, 4, null, 3, 5, null, 3, 2, null, 3, 2, null, 3, 5, null, 3, 4, null, 3, 4, null, 3, 4, null, 4, 5, null, 4, 5, null, 4, 5, null, 3, 2, null, 3, 2, null, 3, 4, null, 5, 2, null, 5, 2, null, 5, 6, null, 3, 2, null, 3, 2, null, 3, 4, null, 3, 4, null, 3, 2, null, 3, 2, null, 3, 4, null, 3, 4, null, 4, 2, null, 4, 2, null, 4, 5, null, 2, 1, null, 6, 5, null, 6, 5, null, 6, 5, null, 6, 7, null, 3, 2, null, 3, 2, null, 3, 4, null, 2, 1, null, 4, 3, null, 4, 3, null, 4, 5, null, 4, 6, null, 7, 6, null, 7, 6, null, 7, 6, null, 7, 6, null, 7, 8, null, 6, 5, null, 6, 4, null, 6, 7, null, 6, 7, null, 3, 2, null, 3, 2, null, 3, 5, null, 3, 5, null, 2, 1, null, 2, 4, null, 6, 5, null, 6, 5, null, 6, 7, null, 6, 7, null, 2, 1, null, 7, 6, null, 7, 6, null, 7, 6, null, 7, 8, null, 3, 2, null, 3, 2, null, 2, 1, null, 2, 4, null, 2, 3, null, 5, 7, null, 6, 5, null, 6, 5, null, 6, 5, null, 6, 5, null, 6, 7, null, 2, 1, null, 5, 4, null, 5, 3, null, 5, 6, null, 5, 6, null, 2, 1, null, 2, 3, null, 8, 7, null, 8, 7, null, 8, 7, null, 6, 5, null, 6, 5, null, 6, 5, null, 6, 7, null, 4, 5, null, 4, 5, null, 4, 6, null, 2, 1, null, 5, 4, null, 5, 6, null, 5, 6, null, 5, 6, null, 5, 6, null, 4, 5, null, 4, 5, null, 5, 4, null, 5, 4, null, 5, 7, null, 4, 6, null, 4, 5, null, 6, 7, null, 4, 5, null, 6, 5, null, 6, 4, null, 6, 5, null, 6, 7, null, 5, 4, null, 6, 5, null, 6, 5, null, 7, 5, null, 7, 6, null, 4, 5, null, 5, 4, null, 5, 6, null]}, {\"hoverinfo\": \"text\", \"hovertext\": [\"Concept 30<br><br>extent (len: 3): grapefruit, apple, tennis ball<br>intent (len: 7): form!=oval, color!=green, form=ro...<br>new extent (len: 0): \\u2205<br>new_intent (len: 1): form=round<br>metric y_true_mean = 0.6666666666666666<br>\", \"Concept 8<br><br>extent (len: 5): mango, tennis ball, grapefruit, k...<br>intent (len: 4): firm!=True, firm=False, color!=bl...<br>new extent (len: 0): \\u2205<br>new_intent (len: 0): \\u2205<br>metric y_true_mean = 0.8<br>\", \"Concept 31<br><br>extent (len: 3): grapefruit, toy cube, apple<br>intent (len: 3): form!=oval, color!=white, color!=...<br>new extent (len: 0): \\u2205<br>new_intent (len: 0): \\u2205<br>metric y_true_mean = 0.6666666666666666<br>\", \"Concept 54<br><br>extent (len: 2): kiwi, tennis ball<br>intent (len: 7): color!=yellow, smooth!=True, smoo...<br>new extent (len: 0): \\u2205<br>new_intent (len: 0): \\u2205<br>metric y_true_mean = 0.5<br>\", \"Concept 18<br><br>extent (len: 4): grapefruit, toy cube, apple, tenn...<br>intent (len: 2): form!=oval, color!=blue<br>new extent (len: 0): \\u2205<br>new_intent (len: 1): form!=oval<br>metric y_true_mean = 0.5<br>\", \"Concept 37<br><br>extent (len: 3): mango, plum, kiwi<br>intent (len: 7): color!=white, color!=yellow, form...<br>new extent (len: 0): \\u2205<br>new_intent (len: 0): \\u2205<br>metric y_true_mean = 1.0<br>\", \"Concept 41<br><br>extent (len: 3): plum, egg, tennis ball<br>intent (len: 3): color!=green, color!=yellow, form...<br>new extent (len: 0): \\u2205<br>new_intent (len: 0): \\u2205<br>metric y_true_mean = 0.3333333333333333<br>\", \"Concept 53<br><br>extent (len: 2): mango, kiwi<br>intent (len: 9): color!=white, color!=yellow, form...<br>new extent (len: 0): \\u2205<br>new_intent (len: 0): \\u2205<br>metric y_true_mean = 1.0<br>\", \"Concept 29<br><br>extent (len: 3): grapefruit, plum, apple<br>intent (len: 5): color!=white, color!=green, firm!...<br>new extent (len: 0): \\u2205<br>new_intent (len: 0): \\u2205<br>metric y_true_mean = 1.0<br>\", \"Concept 33<br><br>extent (len: 3): mango, plum, apple<br>intent (len: 6): color!=white, smooth!=False, firm...<br>new extent (len: 0): \\u2205<br>new_intent (len: 0): \\u2205<br>metric y_true_mean = 1.0<br>\", \"Concept 55<br><br>extent (len: 2): plum, egg<br>intent (len: 7): color!=yellow, smooth!=False, for...<br>new extent (len: 0): \\u2205<br>new_intent (len: 0): \\u2205<br>metric y_true_mean = 0.5<br>\", \"Concept 57<br><br>extent (len: 2): plum, tennis ball<br>intent (len: 5): color!=yellow, color!=green, firm...<br>new extent (len: 0): \\u2205<br>new_intent (len: 0): \\u2205<br>metric y_true_mean = 0.5<br>\", \"Concept 50<br><br>extent (len: 2): egg, tennis ball<br>intent (len: 5): color=white, color!=yellow, color...<br>new extent (len: 0): \\u2205<br>new_intent (len: 1): color=white<br>metric y_true_mean = 0.0<br>\", \"Concept 49<br><br>extent (len: 2): mango, egg<br>intent (len: 7): smooth!=False, color!=yellow, for...<br>new extent (len: 0): \\u2205<br>new_intent (len: 0): \\u2205<br>metric y_true_mean = 0.5<br>\", \"Concept 59<br><br>extent (len: 2): mango, toy cube<br>intent (len: 7): color!=white, color!=yellow, smoo...<br>new extent (len: 0): \\u2205<br>new_intent (len: 0): \\u2205<br>metric y_true_mean = 0.5<br>\", \"Concept 36<br><br>extent (len: 3): mango, kiwi, egg<br>intent (len: 5): color!=yellow, form=oval, form!=r...<br>new extent (len: 0): \\u2205<br>new_intent (len: 0): \\u2205<br>metric y_true_mean = 0.6666666666666666<br>\", \"Concept 52<br><br>extent (len: 2): grapefruit, tennis ball<br>intent (len: 9): form!=oval, color!=green, smooth!...<br>new extent (len: 0): \\u2205<br>new_intent (len: 0): \\u2205<br>metric y_true_mean = 0.5<br>\", \"Concept 60<br><br>extent (len: 2): toy cube, tennis ball<br>intent (len: 3): form!=oval, color!=yellow, color!...<br>new extent (len: 0): \\u2205<br>new_intent (len: 0): \\u2205<br>metric y_true_mean = 0.0<br>\", \"Concept 56<br><br>extent (len: 2): mango, plum<br>intent (len: 9): color!=white, color!=yellow, smoo...<br>new extent (len: 0): \\u2205<br>new_intent (len: 0): \\u2205<br>metric y_true_mean = 1.0<br>\", \"Concept 51<br><br>extent (len: 2): grapefruit, kiwi<br>intent (len: 7): color!=white, smooth!=True, smoot...<br>new extent (len: 0): \\u2205<br>new_intent (len: 0): \\u2205<br>metric y_true_mean = 1.0<br>\", \"Concept 48<br><br>extent (len: 2): toy cube, apple<br>intent (len: 5): form!=oval, color!=white, smooth!...<br>new extent (len: 0): \\u2205<br>new_intent (len: 0): \\u2205<br>metric y_true_mean = 0.5<br>\", \"Concept 64<br><br>extent (len: 1): kiwi<br>intent (len: 11): color!=white, color!=yellow, for...<br>new extent (len: 1): kiwi<br>new_intent (len: 0): \\u2205<br>metric y_true_mean = 1.0<br>\", \"Concept 4<br><br>extent (len: 6): mango, tennis ball, grapefruit, p...<br>intent (len: 3): firm!=True, firm=False, form!=cub...<br>new extent (len: 0): \\u2205<br>new_intent (len: 2): firm!=True, firm=False<br>metric y_true_mean = 0.8333333333333334<br>\", \"Concept 58<br><br>extent (len: 2): toy cube, egg<br>intent (len: 7): color!=yellow, smooth!=False, fir...<br>new extent (len: 0): \\u2205<br>new_intent (len: 2): firm!=False, firm=True<br>metric y_true_mean = 0.0<br>\", \"Concept 67<br><br>extent (len: 1): tennis ball<br>intent (len: 11): form!=oval, color=white, color!=...<br>new extent (len: 1): tennis ball<br>new_intent (len: 0): \\u2205<br>metric y_true_mean = 0.0<br>\", \"Concept 16<br><br>extent (len: 4): grapefruit, kiwi, apple, mango<br>intent (len: 5): color!=white, color!=blue, firm!=...<br>new extent (len: 0): \\u2205<br>new_intent (len: 0): \\u2205<br>metric y_true_mean = 1.0<br>\", \"Concept 1<br><br>extent (len: 7): mango, egg, tennis ball, grapefru...<br>intent (len: 1): form!=cubic<br>new extent (len: 0): \\u2205<br>new_intent (len: 1): form!=cubic<br>metric y_true_mean = 0.7142857142857143<br>\", \"Concept 20<br><br>extent (len: 4): mango, plum, apple, toy cube<br>intent (len: 3): color!=white, smooth!=False, smoo...<br>new extent (len: 0): \\u2205<br>new_intent (len: 0): \\u2205<br>metric y_true_mean = 0.75<br>\", \"Concept 35<br><br>extent (len: 3): grapefruit, kiwi, tennis ball<br>intent (len: 6): smooth!=True, smooth=False, color...<br>new extent (len: 0): \\u2205<br>new_intent (len: 2): smooth!=True, smooth=False<br>metric y_true_mean = 0.6666666666666666<br>\", \"Concept 46<br><br>extent (len: 2): mango, apple<br>intent (len: 7): color!=white, smooth!=False, colo...<br>new extent (len: 0): \\u2205<br>new_intent (len: 0): \\u2205<br>metric y_true_mean = 1.0<br>\", \"Concept 62<br><br>extent (len: 1): egg<br>intent (len: 11): color=white, color!=yellow, smoo...<br>new extent (len: 1): egg<br>new_intent (len: 0): \\u2205<br>metric y_true_mean = 0.0<br>\", \"Concept 14<br><br>extent (len: 5): mango, egg, tennis ball, kiwi, to...<br>intent (len: 2): color!=yellow, color!=blue<br>new extent (len: 0): \\u2205<br>new_intent (len: 0): \\u2205<br>metric y_true_mean = 0.4<br>\", \"Concept 65<br><br>extent (len: 1): mango<br>intent (len: 11): color!=white, color!=yellow, smo...<br>new extent (len: 1): mango<br>new_intent (len: 0): \\u2205<br>metric y_true_mean = 1.0<br>\", \"Concept 2<br><br>extent (len: 7): mango, egg, tennis ball, grapefru...<br>intent (len: 1): color!=blue<br>new extent (len: 0): \\u2205<br>new_intent (len: 1): color!=blue<br>metric y_true_mean = 0.5714285714285714<br>\", \"Concept 45<br><br>extent (len: 2): grapefruit, apple<br>intent (len: 9): form!=oval, color!=white, color=y...<br>new extent (len: 0): \\u2205<br>new_intent (len: 1): color=yellow<br>metric y_true_mean = 1.0<br>\", \"Concept 61<br><br>extent (len: 1): apple<br>intent (len: 11): form!=oval, color!=white, color=...<br>new extent (len: 1): apple<br>new_intent (len: 0): \\u2205<br>metric y_true_mean = 1.0<br>\", \"Concept 7<br><br>extent (len: 5): mango, grapefruit, plum, kiwi, ap...<br>intent (len: 4): color!=white, firm=False, form!=c...<br>new extent (len: 0): \\u2205<br>new_intent (len: 0): \\u2205<br>metric y_true_mean = 1.0<br>\", \"Concept 13<br><br>extent (len: 5): mango, egg, kiwi, toy cube, plum<br>intent (len: 2): form!=round, color!=yellow<br>new extent (len: 0): \\u2205<br>new_intent (len: 1): form!=round<br>metric y_true_mean = 0.6<br>\", \"Concept 63<br><br>extent (len: 1): grapefruit<br>intent (len: 11): form!=oval, color!=white, color=...<br>new extent (len: 1): grapefruit<br>new_intent (len: 0): \\u2205<br>metric y_true_mean = 1.0<br>\", \"Concept 32<br><br>extent (len: 3): plum, apple, egg<br>intent (len: 4): color!=green, smooth!=False, form...<br>new extent (len: 0): \\u2205<br>new_intent (len: 0): \\u2205<br>metric y_true_mean = 0.6666666666666666<br>\", \"Concept 66<br><br>extent (len: 1): plum<br>intent (len: 11): color!=white, color!=yellow, col...<br>new extent (len: 1): plum<br>new_intent (len: 1): color=blue<br>metric y_true_mean = 1.0<br>\", \"Concept 0<br><br>extent (len: 8): mango, egg, tennis ball, grapefru...<br>intent (len: 0): \\u2205<br>new extent (len: 0): \\u2205<br>new_intent (len: 0): \\u2205<br>metric y_true_mean = 0.625<br>\", \"Concept 12<br><br>extent (len: 5): mango, egg, tennis ball, kiwi, pl...<br>intent (len: 2): color!=yellow, form!=cubic<br>new extent (len: 0): \\u2205<br>new_intent (len: 0): \\u2205<br>metric y_true_mean = 0.6<br>\", \"Concept 40<br><br>extent (len: 3): mango, plum, egg<br>intent (len: 6): color!=yellow, form=oval, smooth!...<br>new extent (len: 0): \\u2205<br>new_intent (len: 0): \\u2205<br>metric y_true_mean = 0.6666666666666666<br>\", \"Concept 68<br><br>extent (len: 1): toy cube<br>intent (len: 11): form!=oval, color!=white, form=c...<br>new extent (len: 1): toy cube<br>new_intent (len: 1): form=cubic<br>metric y_true_mean = 0.0<br>\", \"Concept 15<br><br>extent (len: 4): grapefruit, apple, egg, tennis ba...<br>intent (len: 3): color!=green, color!=blue, form!=...<br>new extent (len: 0): \\u2205<br>new_intent (len: 0): \\u2205<br>metric y_true_mean = 0.5<br>\", \"Concept 34<br><br>extent (len: 3): mango, toy cube, apple<br>intent (len: 4): color!=white, smooth!=False, colo...<br>new extent (len: 0): \\u2205<br>new_intent (len: 0): \\u2205<br>metric y_true_mean = 0.6666666666666666<br>\", \"Concept 38<br><br>extent (len: 3): mango, kiwi, tennis ball<br>intent (len: 5): color!=yellow, color!=blue, firm!...<br>new extent (len: 0): \\u2205<br>new_intent (len: 0): \\u2205<br>metric y_true_mean = 0.6666666666666666<br>\", \"Concept 23<br><br>extent (len: 4): mango, plum, kiwi, egg<br>intent (len: 4): form!=round, color!=yellow, form=...<br>new extent (len: 0): \\u2205<br>new_intent (len: 1): form=oval<br>metric y_true_mean = 0.75<br>\", \"Concept 24<br><br>extent (len: 4): mango, plum, kiwi, tennis ball<br>intent (len: 4): firm!=True, firm=False, color!=ye...<br>new extent (len: 0): \\u2205<br>new_intent (len: 0): \\u2205<br>metric y_true_mean = 0.75<br>\", \"Concept 25<br><br>extent (len: 4): mango, plum, kiwi, toy cube<br>intent (len: 3): form!=round, color!=white, color!...<br>new extent (len: 0): \\u2205<br>new_intent (len: 0): \\u2205<br>metric y_true_mean = 0.75<br>\", \"Concept 39<br><br>extent (len: 3): mango, toy cube, kiwi<br>intent (len: 5): color!=white, color!=yellow, form...<br>new extent (len: 0): \\u2205<br>new_intent (len: 1): color=green<br>metric y_true_mean = 0.6666666666666666<br>\", \"Concept 9<br><br>extent (len: 5): mango, grapefruit, kiwi, toy cube...<br>intent (len: 2): color!=white, color!=blue<br>new extent (len: 0): \\u2205<br>new_intent (len: 0): \\u2205<br>metric y_true_mean = 0.8<br>\", \"Concept 44<br><br>extent (len: 2): apple, egg<br>intent (len: 5): smooth!=False, color!=green, colo...<br>new extent (len: 0): \\u2205<br>new_intent (len: 0): \\u2205<br>metric y_true_mean = 0.5<br>\", \"Concept 10<br><br>extent (len: 5): egg, tennis ball, grapefruit, app...<br>intent (len: 2): color!=green, form!=cubic<br>new extent (len: 0): \\u2205<br>new_intent (len: 1): color!=green<br>metric y_true_mean = 0.6<br>\", \"Concept 21<br><br>extent (len: 4): mango, toy cube, apple, egg<br>intent (len: 3): smooth!=False, color!=blue, smoot...<br>new extent (len: 0): \\u2205<br>new_intent (len: 0): \\u2205<br>metric y_true_mean = 0.5<br>\", \"Concept 26<br><br>extent (len: 4): mango, toy cube, kiwi, egg<br>intent (len: 3): form!=round, color!=yellow, color...<br>new extent (len: 0): \\u2205<br>new_intent (len: 0): \\u2205<br>metric y_true_mean = 0.5<br>\", \"Concept 3<br><br>extent (len: 6): mango, egg, tennis ball, grapefru...<br>intent (len: 2): color!=blue, form!=cubic<br>new extent (len: 0): \\u2205<br>new_intent (len: 0): \\u2205<br>metric y_true_mean = 0.6666666666666666<br>\", \"Concept 11<br><br>extent (len: 5): mango, egg, toy cube, apple, plum<br>intent (len: 2): smooth!=False, smooth=True<br>new extent (len: 0): \\u2205<br>new_intent (len: 2): smooth!=False, smooth=True<br>metric y_true_mean = 0.6<br>\", \"Concept 22<br><br>extent (len: 4): mango, kiwi, egg, tennis ball<br>intent (len: 3): color!=yellow, color!=blue, form!...<br>new extent (len: 0): \\u2205<br>new_intent (len: 0): \\u2205<br>metric y_true_mean = 0.5<br>\", \"Concept 43<br><br>extent (len: 3): mango, toy cube, egg<br>intent (len: 5): smooth!=False, color!=yellow, for...<br>new extent (len: 0): \\u2205<br>new_intent (len: 0): \\u2205<br>metric y_true_mean = 0.3333333333333333<br>\", \"Concept 69<br><br>extent (len: 0): \\u2205<br>intent (len: 22): form!=oval, color!=white, form=c...<br>new extent (len: 0): \\u2205<br>new_intent (len: 0): \\u2205<br>metric y_true_mean = nan<br>\", \"Concept 27<br><br>extent (len: 4): mango, toy cube, plum, egg<br>intent (len: 4): form!=round, color!=yellow, smoot...<br>new extent (len: 0): \\u2205<br>new_intent (len: 0): \\u2205<br>metric y_true_mean = 0.5<br>\", \"Concept 47<br><br>extent (len: 2): plum, apple<br>intent (len: 7): color!=white, smooth!=False, colo...<br>new extent (len: 0): \\u2205<br>new_intent (len: 0): \\u2205<br>metric y_true_mean = 1.0<br>\", \"Concept 6<br><br>extent (len: 6): mango, egg, tennis ball, kiwi, to...<br>intent (len: 1): color!=yellow<br>new extent (len: 0): \\u2205<br>new_intent (len: 1): color!=yellow<br>metric y_true_mean = 0.5<br>\", \"Concept 17<br><br>extent (len: 4): grapefruit, plum, apple, tennis b...<br>intent (len: 4): color!=green, firm!=True, firm=Fa...<br>new extent (len: 0): \\u2205<br>new_intent (len: 0): \\u2205<br>metric y_true_mean = 0.75<br>\", \"Concept 28<br><br>extent (len: 3): mango, apple, egg<br>intent (len: 4): form!=cubic, smooth!=False, color...<br>new extent (len: 0): \\u2205<br>new_intent (len: 0): \\u2205<br>metric y_true_mean = 0.6666666666666666<br>\", \"Concept 42<br><br>extent (len: 3): mango, toy cube, plum<br>intent (len: 5): color!=white, color!=yellow, smoo...<br>new extent (len: 0): \\u2205<br>new_intent (len: 0): \\u2205<br>metric y_true_mean = 0.6666666666666666<br>\", \"Concept 19<br><br>extent (len: 4): mango, plum, apple, egg<br>intent (len: 3): smooth!=False, form!=cubic, smoot...<br>new extent (len: 0): \\u2205<br>new_intent (len: 0): \\u2205<br>metric y_true_mean = 0.75<br>\", \"Concept 5<br><br>extent (len: 6): mango, grapefruit, plum, kiwi, to...<br>intent (len: 1): color!=white<br>new extent (len: 0): \\u2205<br>new_intent (len: 1): color!=white<br>metric y_true_mean = 0.8333333333333334<br>\"], \"marker\": {\"color\": [0.6666666666666666, 0.8, 0.6666666666666666, 0.5, 0.5, 1.0, 0.3333333333333333, 1.0, 1.0, 1.0, 0.5, 0.5, 0.0, 0.5, 0.5, 0.6666666666666666, 0.5, 0.0, 1.0, 1.0, 0.5, 1.0, 0.8333333333333334, 0.0, 0.0, 1.0, 0.7142857142857143, 0.75, 0.6666666666666666, 1.0, 0.0, 0.4, 1.0, 0.5714285714285714, 1.0, 1.0, 1.0, 0.6, 1.0, 0.6666666666666666, 1.0, 0.625, 0.6, 0.6666666666666666, 0.0, 0.5, 0.6666666666666666, 0.6666666666666666, 0.75, 0.75, 0.75, 0.6666666666666666, 0.8, 0.5, 0.6, 0.5, 0.5, 0.6666666666666666, 0.6, 0.5, 0.3333333333333333, null, 0.5, 1.0, 0.5, 0.75, 0.6666666666666666, 0.6666666666666666, 0.75, 0.8333333333333334], \"colorbar\": {\"thickness\": 15, \"title\": {\"side\": \"right\", \"text\": \"y_mean\"}, \"xanchor\": \"left\"}, \"colorscale\": [[0.0, \"rgb(103,0,31)\"], [0.1, \"rgb(178,24,43)\"], [0.2, \"rgb(214,96,77)\"], [0.3, \"rgb(244,165,130)\"], [0.4, \"rgb(253,219,199)\"], [0.5, \"rgb(247,247,247)\"], [0.6, \"rgb(209,229,240)\"], [0.7, \"rgb(146,197,222)\"], [0.8, \"rgb(67,147,195)\"], [0.9, \"rgb(33,102,172)\"], [1.0, \"rgb(5,48,97)\"]], \"line\": {\"width\": 2}, \"reversescale\": true, \"showscale\": true, \"size\": 10}, \"mode\": \"markers+text\", \"text\": [\"n: 1<br>\", \"<br>\", \"<br>\", \"<br>\", \"n: 1<br>\", \"<br>\", \"<br>\", \"<br>\", \"<br>\", \"<br>\", \"<br>\", \"<br>\", \"n: 1<br>\", \"<br>\", \"<br>\", \"<br>\", \"<br>\", \"<br>\", \"<br>\", \"<br>\", \"<br>\", \"<br>n: 1\", \"n: 2<br>\", \"n: 2<br>\", \"<br>n: 1\", \"<br>\", \"n: 1<br>\", \"<br>\", \"n: 2<br>\", \"<br>\", \"<br>n: 1\", \"<br>\", \"<br>n: 1\", \"n: 1<br>\", \"n: 1<br>\", \"<br>n: 1\", \"<br>\", \"n: 1<br>\", \"<br>n: 1\", \"<br>\", \"n: 1<br>n: 1\", \"<br>\", \"<br>\", \"<br>\", \"n: 1<br>n: 1\", \"<br>\", \"<br>\", \"<br>\", \"n: 1<br>\", \"<br>\", \"<br>\", \"n: 1<br>\", \"<br>\", \"<br>\", \"n: 1<br>\", \"<br>\", \"<br>\", \"<br>\", \"n: 2<br>\", \"<br>\", \"<br>\", \"<br>\", \"<br>\", \"<br>\", \"n: 1<br>\", \"<br>\", \"<br>\", \"<br>\", \"<br>\", \"n: 1<br>\"], \"textposition\": \"middle right\", \"type\": \"scatter\", \"x\": [-7.5, -7.5, -6.5, -5.5, -5.0, -6.5, -5.5, -4.5, -5.5, -4.5, -3.5, -3.5, -2.5, -2.5, -1.5, -1.5, -0.5, -4.5, 0.5, 1.5, -0.5, -3.5, -4.0, 2.5, -2.5, 0.5, -2.0, -3.0, 1.5, 3.5, -1.5, -2.0, -0.5, -1.0, 4.5, 0.5, -3.5, -1.0, 1.5, -2.5, 2.5, 0.0, 0.0, 2.5, 3.5, -1.5, -0.5, 3.5, 0.5, 1.5, 2.5, 4.5, 1.0, 5.5, 2.0, 3.0, 3.5, 4.0, 0.0, 4.5, 6.5, 0.0, 5.5, 5.5, 1.0, 6.5, 7.5, 7.5, 5.0, 2.0], \"y\": [4, 5, 5, 3, 6, 4, 5, 3, 4, 4, 3, 4, 4, 3, 3, 4, 3, 5, 3, 3, 4, 2, 6, 3, 2, 4, 7, 6, 4, 3, 2, 6, 2, 7, 3, 2, 5, 6, 2, 5, 2, 8, 6, 4, 2, 5, 5, 4, 5, 5, 5, 4, 6, 4, 6, 6, 5, 6, 7, 5, 4, 1, 5, 3, 7, 5, 5, 4, 6, 7]}],\n",
       "                        {\"height\": 500, \"hovermode\": \"closest\", \"margin\": {\"b\": 20, \"l\": 5, \"r\": 5, \"t\": 40}, \"showlegend\": false, \"template\": {\"data\": {\"bar\": [{\"error_x\": {\"color\": \"#2a3f5f\"}, \"error_y\": {\"color\": \"#2a3f5f\"}, \"marker\": {\"line\": {\"color\": \"#E5ECF6\", \"width\": 0.5}}, \"type\": \"bar\"}], \"barpolar\": [{\"marker\": {\"line\": {\"color\": \"#E5ECF6\", \"width\": 0.5}}, \"type\": \"barpolar\"}], \"carpet\": [{\"aaxis\": {\"endlinecolor\": \"#2a3f5f\", \"gridcolor\": \"white\", \"linecolor\": \"white\", \"minorgridcolor\": \"white\", \"startlinecolor\": \"#2a3f5f\"}, \"baxis\": {\"endlinecolor\": \"#2a3f5f\", \"gridcolor\": \"white\", \"linecolor\": \"white\", \"minorgridcolor\": \"white\", \"startlinecolor\": \"#2a3f5f\"}, \"type\": \"carpet\"}], \"choropleth\": [{\"colorbar\": {\"outlinewidth\": 0, \"ticks\": \"\"}, \"type\": \"choropleth\"}], \"contour\": [{\"colorbar\": {\"outlinewidth\": 0, \"ticks\": \"\"}, \"colorscale\": [[0.0, \"#0d0887\"], [0.1111111111111111, \"#46039f\"], [0.2222222222222222, \"#7201a8\"], [0.3333333333333333, \"#9c179e\"], [0.4444444444444444, \"#bd3786\"], [0.5555555555555556, \"#d8576b\"], [0.6666666666666666, \"#ed7953\"], [0.7777777777777778, \"#fb9f3a\"], [0.8888888888888888, \"#fdca26\"], [1.0, \"#f0f921\"]], \"type\": \"contour\"}], \"contourcarpet\": [{\"colorbar\": {\"outlinewidth\": 0, \"ticks\": \"\"}, \"type\": \"contourcarpet\"}], \"heatmap\": [{\"colorbar\": {\"outlinewidth\": 0, \"ticks\": \"\"}, \"colorscale\": [[0.0, \"#0d0887\"], [0.1111111111111111, \"#46039f\"], [0.2222222222222222, \"#7201a8\"], [0.3333333333333333, \"#9c179e\"], [0.4444444444444444, \"#bd3786\"], [0.5555555555555556, \"#d8576b\"], [0.6666666666666666, \"#ed7953\"], [0.7777777777777778, \"#fb9f3a\"], [0.8888888888888888, \"#fdca26\"], [1.0, \"#f0f921\"]], \"type\": \"heatmap\"}], \"heatmapgl\": [{\"colorbar\": {\"outlinewidth\": 0, \"ticks\": \"\"}, \"colorscale\": [[0.0, \"#0d0887\"], [0.1111111111111111, \"#46039f\"], [0.2222222222222222, \"#7201a8\"], [0.3333333333333333, \"#9c179e\"], [0.4444444444444444, \"#bd3786\"], [0.5555555555555556, \"#d8576b\"], [0.6666666666666666, \"#ed7953\"], [0.7777777777777778, \"#fb9f3a\"], [0.8888888888888888, \"#fdca26\"], [1.0, \"#f0f921\"]], \"type\": \"heatmapgl\"}], \"histogram\": [{\"marker\": {\"colorbar\": {\"outlinewidth\": 0, \"ticks\": \"\"}}, \"type\": \"histogram\"}], \"histogram2d\": [{\"colorbar\": {\"outlinewidth\": 0, \"ticks\": \"\"}, \"colorscale\": [[0.0, \"#0d0887\"], [0.1111111111111111, \"#46039f\"], [0.2222222222222222, \"#7201a8\"], [0.3333333333333333, \"#9c179e\"], [0.4444444444444444, \"#bd3786\"], [0.5555555555555556, \"#d8576b\"], [0.6666666666666666, \"#ed7953\"], [0.7777777777777778, \"#fb9f3a\"], [0.8888888888888888, \"#fdca26\"], [1.0, \"#f0f921\"]], \"type\": \"histogram2d\"}], \"histogram2dcontour\": [{\"colorbar\": {\"outlinewidth\": 0, \"ticks\": \"\"}, \"colorscale\": [[0.0, \"#0d0887\"], [0.1111111111111111, \"#46039f\"], [0.2222222222222222, \"#7201a8\"], [0.3333333333333333, \"#9c179e\"], [0.4444444444444444, \"#bd3786\"], [0.5555555555555556, \"#d8576b\"], [0.6666666666666666, \"#ed7953\"], [0.7777777777777778, \"#fb9f3a\"], [0.8888888888888888, \"#fdca26\"], [1.0, \"#f0f921\"]], \"type\": \"histogram2dcontour\"}], \"mesh3d\": [{\"colorbar\": {\"outlinewidth\": 0, \"ticks\": \"\"}, \"type\": \"mesh3d\"}], \"parcoords\": [{\"line\": {\"colorbar\": {\"outlinewidth\": 0, \"ticks\": \"\"}}, \"type\": \"parcoords\"}], \"pie\": [{\"automargin\": true, \"type\": \"pie\"}], \"scatter\": [{\"marker\": {\"colorbar\": {\"outlinewidth\": 0, \"ticks\": \"\"}}, \"type\": \"scatter\"}], \"scatter3d\": [{\"line\": {\"colorbar\": {\"outlinewidth\": 0, \"ticks\": \"\"}}, \"marker\": {\"colorbar\": {\"outlinewidth\": 0, \"ticks\": \"\"}}, \"type\": \"scatter3d\"}], \"scattercarpet\": [{\"marker\": {\"colorbar\": {\"outlinewidth\": 0, \"ticks\": \"\"}}, \"type\": \"scattercarpet\"}], \"scattergeo\": [{\"marker\": {\"colorbar\": {\"outlinewidth\": 0, \"ticks\": \"\"}}, \"type\": \"scattergeo\"}], \"scattergl\": [{\"marker\": {\"colorbar\": {\"outlinewidth\": 0, \"ticks\": \"\"}}, \"type\": \"scattergl\"}], \"scattermapbox\": [{\"marker\": {\"colorbar\": {\"outlinewidth\": 0, \"ticks\": \"\"}}, \"type\": \"scattermapbox\"}], \"scatterpolar\": [{\"marker\": {\"colorbar\": {\"outlinewidth\": 0, \"ticks\": \"\"}}, \"type\": \"scatterpolar\"}], \"scatterpolargl\": [{\"marker\": {\"colorbar\": {\"outlinewidth\": 0, \"ticks\": \"\"}}, \"type\": \"scatterpolargl\"}], \"scatterternary\": [{\"marker\": {\"colorbar\": {\"outlinewidth\": 0, \"ticks\": \"\"}}, \"type\": \"scatterternary\"}], \"surface\": [{\"colorbar\": {\"outlinewidth\": 0, \"ticks\": \"\"}, \"colorscale\": [[0.0, \"#0d0887\"], [0.1111111111111111, \"#46039f\"], [0.2222222222222222, \"#7201a8\"], [0.3333333333333333, \"#9c179e\"], [0.4444444444444444, \"#bd3786\"], [0.5555555555555556, \"#d8576b\"], [0.6666666666666666, \"#ed7953\"], [0.7777777777777778, \"#fb9f3a\"], [0.8888888888888888, \"#fdca26\"], [1.0, \"#f0f921\"]], \"type\": \"surface\"}], \"table\": [{\"cells\": {\"fill\": {\"color\": \"#EBF0F8\"}, \"line\": {\"color\": \"white\"}}, \"header\": {\"fill\": {\"color\": \"#C8D4E3\"}, \"line\": {\"color\": \"white\"}}, \"type\": \"table\"}]}, \"layout\": {\"annotationdefaults\": {\"arrowcolor\": \"#2a3f5f\", \"arrowhead\": 0, \"arrowwidth\": 1}, \"coloraxis\": {\"colorbar\": {\"outlinewidth\": 0, \"ticks\": \"\"}}, \"colorscale\": {\"diverging\": [[0, \"#8e0152\"], [0.1, \"#c51b7d\"], [0.2, \"#de77ae\"], [0.3, \"#f1b6da\"], [0.4, \"#fde0ef\"], [0.5, \"#f7f7f7\"], [0.6, \"#e6f5d0\"], [0.7, \"#b8e186\"], [0.8, \"#7fbc41\"], [0.9, \"#4d9221\"], [1, \"#276419\"]], \"sequential\": [[0.0, \"#0d0887\"], [0.1111111111111111, \"#46039f\"], [0.2222222222222222, \"#7201a8\"], [0.3333333333333333, \"#9c179e\"], [0.4444444444444444, \"#bd3786\"], [0.5555555555555556, \"#d8576b\"], [0.6666666666666666, \"#ed7953\"], [0.7777777777777778, \"#fb9f3a\"], [0.8888888888888888, \"#fdca26\"], [1.0, \"#f0f921\"]], \"sequentialminus\": [[0.0, \"#0d0887\"], [0.1111111111111111, \"#46039f\"], [0.2222222222222222, \"#7201a8\"], [0.3333333333333333, \"#9c179e\"], [0.4444444444444444, \"#bd3786\"], [0.5555555555555556, \"#d8576b\"], [0.6666666666666666, \"#ed7953\"], [0.7777777777777778, \"#fb9f3a\"], [0.8888888888888888, \"#fdca26\"], [1.0, \"#f0f921\"]]}, \"colorway\": [\"#636efa\", \"#EF553B\", \"#00cc96\", \"#ab63fa\", \"#FFA15A\", \"#19d3f3\", \"#FF6692\", \"#B6E880\", \"#FF97FF\", \"#FECB52\"], \"font\": {\"color\": \"#2a3f5f\"}, \"geo\": {\"bgcolor\": \"white\", \"lakecolor\": \"white\", \"landcolor\": \"#E5ECF6\", \"showlakes\": true, \"showland\": true, \"subunitcolor\": \"white\"}, \"hoverlabel\": {\"align\": \"left\"}, \"hovermode\": \"closest\", \"mapbox\": {\"style\": \"light\"}, \"paper_bgcolor\": \"white\", \"plot_bgcolor\": \"#E5ECF6\", \"polar\": {\"angularaxis\": {\"gridcolor\": \"white\", \"linecolor\": \"white\", \"ticks\": \"\"}, \"bgcolor\": \"#E5ECF6\", \"radialaxis\": {\"gridcolor\": \"white\", \"linecolor\": \"white\", \"ticks\": \"\"}}, \"scene\": {\"xaxis\": {\"backgroundcolor\": \"#E5ECF6\", \"gridcolor\": \"white\", \"gridwidth\": 2, \"linecolor\": \"white\", \"showbackground\": true, \"ticks\": \"\", \"zerolinecolor\": \"white\"}, \"yaxis\": {\"backgroundcolor\": \"#E5ECF6\", \"gridcolor\": \"white\", \"gridwidth\": 2, \"linecolor\": \"white\", \"showbackground\": true, \"ticks\": \"\", \"zerolinecolor\": \"white\"}, \"zaxis\": {\"backgroundcolor\": \"#E5ECF6\", \"gridcolor\": \"white\", \"gridwidth\": 2, \"linecolor\": \"white\", \"showbackground\": true, \"ticks\": \"\", \"zerolinecolor\": \"white\"}}, \"shapedefaults\": {\"line\": {\"color\": \"#2a3f5f\"}}, \"ternary\": {\"aaxis\": {\"gridcolor\": \"white\", \"linecolor\": \"white\", \"ticks\": \"\"}, \"baxis\": {\"gridcolor\": \"white\", \"linecolor\": \"white\", \"ticks\": \"\"}, \"bgcolor\": \"#E5ECF6\", \"caxis\": {\"gridcolor\": \"white\", \"linecolor\": \"white\", \"ticks\": \"\"}}, \"title\": {\"x\": 0.05}, \"xaxis\": {\"automargin\": true, \"gridcolor\": \"white\", \"linecolor\": \"white\", \"ticks\": \"\", \"title\": {\"standoff\": 15}, \"zerolinecolor\": \"white\", \"zerolinewidth\": 2}, \"yaxis\": {\"automargin\": true, \"gridcolor\": \"white\", \"linecolor\": \"white\", \"ticks\": \"\", \"title\": {\"standoff\": 15}, \"zerolinecolor\": \"white\", \"zerolinewidth\": 2}}}, \"title\": {\"font\": {\"size\": 16}, \"text\": \"Concept Lattice\"}, \"width\": 1000, \"xaxis\": {\"showgrid\": false, \"showticklabels\": false, \"zeroline\": false}, \"yaxis\": {\"showgrid\": false, \"showticklabels\": false, \"zeroline\": false}},\n",
       "                        {\"responsive\": true}\n",
       "                    ).then(function(){\n",
       "                            \n",
       "var gd = document.getElementById('eb5be7fc-40b2-4e33-82e5-cb0a3b87f709');\n",
       "var x = new MutationObserver(function (mutations, observer) {{\n",
       "        var display = window.getComputedStyle(gd).display;\n",
       "        if (!display || display === 'none') {{\n",
       "            console.log([gd, 'removed!']);\n",
       "            Plotly.purge(gd);\n",
       "            observer.disconnect();\n",
       "        }}\n",
       "}});\n",
       "\n",
       "// Listen for the removal of the full notebook cells\n",
       "var notebookContainer = gd.closest('#notebook-container');\n",
       "if (notebookContainer) {{\n",
       "    x.observe(notebookContainer, {childList: true});\n",
       "}}\n",
       "\n",
       "// Listen for the clearing of the current output cell\n",
       "var outputEl = gd.closest('.output');\n",
       "if (outputEl) {{\n",
       "    x.observe(outputEl, {childList: true});\n",
       "}}\n",
       "\n",
       "                        })\n",
       "                };\n",
       "                });\n",
       "            </script>\n",
       "        </div>"
      ]
     },
     "metadata": {},
     "output_type": "display_data"
    }
   ],
   "source": [
    "fig = fm.get_plotly_fig(color_by='y_true_mean', new_objs_lim=1, new_attrs_lim=1)\n",
    "fig.show()"
   ]
  },
  {
   "cell_type": "code",
   "execution_count": 73,
   "metadata": {},
   "outputs": [],
   "source": [
    "class Lattice:\n",
    "    def __init__(concepts):\n",
    "        self._concepts = concepts\n",
    "    \n",
    "    def get_intersection(nodes):\n",
    "        pass\n",
    "    \n",
    "    def get_union(nodes):\n",
    "        pass"
   ]
  },
  {
   "cell_type": "code",
   "execution_count": 74,
   "metadata": {},
   "outputs": [
    {
     "data": {
      "text/plain": [
       "Concept 5\n",
       "level: 1\n",
       "extent (len: 6): apple, grapefruit, kiwi, plum, toy cube, mango\n",
       "intent (len: 1): color__not__white\n",
       "new extent (len: 0): ∅\n",
       "new_intent (len: 1): color__not__white\n",
       "lower neighbours (len: 4): 9, 20, 25, 7\n",
       "upper neighbours (len: 1): 0\n",
       "metric y_true_mean = 0.8333333333333334"
      ]
     },
     "execution_count": 74,
     "metadata": {},
     "output_type": "execute_result"
    }
   ],
   "source": [
    "c"
   ]
  }
 ],
 "metadata": {
  "kernelspec": {
   "display_name": "Python 3",
   "language": "python",
   "name": "python3"
  },
  "language_info": {
   "codemirror_mode": {
    "name": "ipython",
    "version": 3
   },
   "file_extension": ".py",
   "mimetype": "text/x-python",
   "name": "python",
   "nbconvert_exporter": "python",
   "pygments_lexer": "ipython3",
   "version": "3.7.6"
  }
 },
 "nbformat": 4,
 "nbformat_minor": 4
}
