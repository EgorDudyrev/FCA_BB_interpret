{
 "cells": [
  {
   "cell_type": "code",
   "execution_count": 1,
   "metadata": {},
   "outputs": [
    {
     "data": {
      "text/html": [
       "<style>.container { width:90% !important; }</style>"
      ],
      "text/plain": [
       "<IPython.core.display.HTML object>"
      ]
     },
     "metadata": {},
     "output_type": "display_data"
    }
   ],
   "source": [
    "import numpy as np\n",
    "import pandas as pd\n",
    "\n",
    "from catboost import CatBoostClassifier, Pool, CatBoostRegressor\n",
    "from sklearn.model_selection import train_test_split\n",
    "from sklearn.metrics import accuracy_score, precision_score, recall_score\n",
    "\n",
    "from IPython.core.display import display, HTML\n",
    "display(HTML(\"<style>.container { width:90% !important; }</style>\"))\n",
    "\n",
    "import os\n",
    "import sys\n",
    "BASE_PATH = os.path.realpath('..')\n",
    "DATASETS_DIR = os.path.join(BASE_PATH, 'datasets')\n",
    "LIB_DIR = os.path.join(BASE_PATH,'lib')\n",
    "if LIB_DIR not in sys.path:\n",
    "    sys.path.append(LIB_DIR)\n",
    "\n",
    "import matplotlib.pyplot as plt\n",
    "import seaborn as sns\n",
    "from tqdm.notebook import tqdm\n",
    "\n",
    "from importlib import reload"
   ]
  },
  {
   "cell_type": "code",
   "execution_count": 2,
   "metadata": {},
   "outputs": [],
   "source": [
    "import fca_interp as fcai"
   ]
  },
  {
   "cell_type": "code",
   "execution_count": 3,
   "metadata": {},
   "outputs": [
    {
     "name": "stdout",
     "output_type": "stream",
     "text": [
      "(4521, 17)\n"
     ]
    },
    {
     "data": {
      "text/html": [
       "<div>\n",
       "<style scoped>\n",
       "    .dataframe tbody tr th:only-of-type {\n",
       "        vertical-align: middle;\n",
       "    }\n",
       "\n",
       "    .dataframe tbody tr th {\n",
       "        vertical-align: top;\n",
       "    }\n",
       "\n",
       "    .dataframe thead th {\n",
       "        text-align: right;\n",
       "    }\n",
       "</style>\n",
       "<table border=\"1\" class=\"dataframe\">\n",
       "  <thead>\n",
       "    <tr style=\"text-align: right;\">\n",
       "      <th></th>\n",
       "      <th>age</th>\n",
       "      <th>job</th>\n",
       "      <th>marital</th>\n",
       "      <th>education</th>\n",
       "      <th>default</th>\n",
       "      <th>balance</th>\n",
       "      <th>housing</th>\n",
       "      <th>loan</th>\n",
       "      <th>contact</th>\n",
       "      <th>day</th>\n",
       "      <th>month</th>\n",
       "      <th>duration</th>\n",
       "      <th>campaign</th>\n",
       "      <th>pdays</th>\n",
       "      <th>previous</th>\n",
       "      <th>poutcome</th>\n",
       "      <th>y</th>\n",
       "    </tr>\n",
       "  </thead>\n",
       "  <tbody>\n",
       "    <tr>\n",
       "      <td>0</td>\n",
       "      <td>30</td>\n",
       "      <td>unemployed</td>\n",
       "      <td>married</td>\n",
       "      <td>primary</td>\n",
       "      <td>no</td>\n",
       "      <td>1787</td>\n",
       "      <td>no</td>\n",
       "      <td>no</td>\n",
       "      <td>cellular</td>\n",
       "      <td>19</td>\n",
       "      <td>oct</td>\n",
       "      <td>79</td>\n",
       "      <td>1</td>\n",
       "      <td>-1</td>\n",
       "      <td>0</td>\n",
       "      <td>unknown</td>\n",
       "      <td>no</td>\n",
       "    </tr>\n",
       "    <tr>\n",
       "      <td>1</td>\n",
       "      <td>33</td>\n",
       "      <td>services</td>\n",
       "      <td>married</td>\n",
       "      <td>secondary</td>\n",
       "      <td>no</td>\n",
       "      <td>4789</td>\n",
       "      <td>yes</td>\n",
       "      <td>yes</td>\n",
       "      <td>cellular</td>\n",
       "      <td>11</td>\n",
       "      <td>may</td>\n",
       "      <td>220</td>\n",
       "      <td>1</td>\n",
       "      <td>339</td>\n",
       "      <td>4</td>\n",
       "      <td>failure</td>\n",
       "      <td>no</td>\n",
       "    </tr>\n",
       "    <tr>\n",
       "      <td>2</td>\n",
       "      <td>35</td>\n",
       "      <td>management</td>\n",
       "      <td>single</td>\n",
       "      <td>tertiary</td>\n",
       "      <td>no</td>\n",
       "      <td>1350</td>\n",
       "      <td>yes</td>\n",
       "      <td>no</td>\n",
       "      <td>cellular</td>\n",
       "      <td>16</td>\n",
       "      <td>apr</td>\n",
       "      <td>185</td>\n",
       "      <td>1</td>\n",
       "      <td>330</td>\n",
       "      <td>1</td>\n",
       "      <td>failure</td>\n",
       "      <td>no</td>\n",
       "    </tr>\n",
       "    <tr>\n",
       "      <td>3</td>\n",
       "      <td>30</td>\n",
       "      <td>management</td>\n",
       "      <td>married</td>\n",
       "      <td>tertiary</td>\n",
       "      <td>no</td>\n",
       "      <td>1476</td>\n",
       "      <td>yes</td>\n",
       "      <td>yes</td>\n",
       "      <td>unknown</td>\n",
       "      <td>3</td>\n",
       "      <td>jun</td>\n",
       "      <td>199</td>\n",
       "      <td>4</td>\n",
       "      <td>-1</td>\n",
       "      <td>0</td>\n",
       "      <td>unknown</td>\n",
       "      <td>no</td>\n",
       "    </tr>\n",
       "    <tr>\n",
       "      <td>4</td>\n",
       "      <td>59</td>\n",
       "      <td>blue-collar</td>\n",
       "      <td>married</td>\n",
       "      <td>secondary</td>\n",
       "      <td>no</td>\n",
       "      <td>0</td>\n",
       "      <td>yes</td>\n",
       "      <td>no</td>\n",
       "      <td>unknown</td>\n",
       "      <td>5</td>\n",
       "      <td>may</td>\n",
       "      <td>226</td>\n",
       "      <td>1</td>\n",
       "      <td>-1</td>\n",
       "      <td>0</td>\n",
       "      <td>unknown</td>\n",
       "      <td>no</td>\n",
       "    </tr>\n",
       "  </tbody>\n",
       "</table>\n",
       "</div>"
      ],
      "text/plain": [
       "   age          job  marital  education default  balance housing loan  \\\n",
       "0   30   unemployed  married    primary      no     1787      no   no   \n",
       "1   33     services  married  secondary      no     4789     yes  yes   \n",
       "2   35   management   single   tertiary      no     1350     yes   no   \n",
       "3   30   management  married   tertiary      no     1476     yes  yes   \n",
       "4   59  blue-collar  married  secondary      no        0     yes   no   \n",
       "\n",
       "    contact  day month  duration  campaign  pdays  previous poutcome   y  \n",
       "0  cellular   19   oct        79         1     -1         0  unknown  no  \n",
       "1  cellular   11   may       220         1    339         4  failure  no  \n",
       "2  cellular   16   apr       185         1    330         1  failure  no  \n",
       "3   unknown    3   jun       199         4     -1         0  unknown  no  \n",
       "4   unknown    5   may       226         1     -1         0  unknown  no  "
      ]
     },
     "execution_count": 3,
     "metadata": {},
     "output_type": "execute_result"
    }
   ],
   "source": [
    "bank_ds = pd.read_csv(os.path.join(DATASETS_DIR, 'bank.csv'), sep=';')\n",
    "print(bank_ds.shape)\n",
    "bank_ds.head()"
   ]
  },
  {
   "cell_type": "code",
   "execution_count": 4,
   "metadata": {},
   "outputs": [
    {
     "data": {
      "text/html": [
       "<div>\n",
       "<style scoped>\n",
       "    .dataframe tbody tr th:only-of-type {\n",
       "        vertical-align: middle;\n",
       "    }\n",
       "\n",
       "    .dataframe tbody tr th {\n",
       "        vertical-align: top;\n",
       "    }\n",
       "\n",
       "    .dataframe thead th {\n",
       "        text-align: right;\n",
       "    }\n",
       "</style>\n",
       "<table border=\"1\" class=\"dataframe\">\n",
       "  <thead>\n",
       "    <tr style=\"text-align: right;\">\n",
       "      <th></th>\n",
       "      <th>metrics</th>\n",
       "      <th>train</th>\n",
       "      <th>test</th>\n",
       "    </tr>\n",
       "  </thead>\n",
       "  <tbody>\n",
       "    <tr>\n",
       "      <td>0</td>\n",
       "      <td>accuracy_score</td>\n",
       "      <td>0.954572</td>\n",
       "      <td>0.902741</td>\n",
       "    </tr>\n",
       "    <tr>\n",
       "      <td>1</td>\n",
       "      <td>precision_score</td>\n",
       "      <td>0.932143</td>\n",
       "      <td>0.600000</td>\n",
       "    </tr>\n",
       "    <tr>\n",
       "      <td>2</td>\n",
       "      <td>recall_score</td>\n",
       "      <td>0.659091</td>\n",
       "      <td>0.360000</td>\n",
       "    </tr>\n",
       "    <tr>\n",
       "      <td>3</td>\n",
       "      <td>y_mean</td>\n",
       "      <td>0.116814</td>\n",
       "      <td>0.110522</td>\n",
       "    </tr>\n",
       "  </tbody>\n",
       "</table>\n",
       "</div>"
      ],
      "text/plain": [
       "           metrics     train      test\n",
       "0   accuracy_score  0.954572  0.902741\n",
       "1  precision_score  0.932143  0.600000\n",
       "2     recall_score  0.659091  0.360000\n",
       "3           y_mean  0.116814  0.110522"
      ]
     },
     "execution_count": 4,
     "metadata": {},
     "output_type": "execute_result"
    }
   ],
   "source": [
    "y_feat = 'y'\n",
    "s = bank_ds.drop(y_feat,1).dtypes\n",
    "cat_feats = list(s[s==np.dtype('O')].index)\n",
    "real_feats = list(s.drop(cat_feats).index)\n",
    "\n",
    "X_train, X_test, y_train, y_test = train_test_split(bank_ds[cat_feats+real_feats],\n",
    "                                                    bank_ds[y_feat].apply(lambda x: {'no':0,'yes':1}[x]),\n",
    "                                                   random_state=42)\n",
    "\n",
    "train_pool = Pool(X_train, y_train, cat_features=cat_feats)\n",
    "test_pool = Pool(X_test, y_test, cat_features=cat_feats)\n",
    "bb = CatBoostClassifier(random_seed=42)\n",
    "bb.fit(train_pool, verbose=False, plot=False)\n",
    "\n",
    "train_preds, test_preds = bb.predict(train_pool), bb.predict(test_pool)\n",
    "train_preds_proba, test_preds_proba = bb.predict_proba(train_pool)[:,1], bb.predict_proba(test_pool)[:,1]\n",
    "metrics_ds = []\n",
    "for m in [accuracy_score, precision_score, recall_score]:\n",
    "    res = {'train':m(y_train, train_preds), 'test':m(y_test, test_preds), 'metrics':m.__name__}\n",
    "    metrics_ds.append(res)\n",
    "metrics_ds.append({'train':y_train.mean(), 'test':y_test.mean(), 'metrics':'y_mean'})\n",
    "metrics_ds = pd.DataFrame(metrics_ds).reindex(columns=['metrics','train','test'])\n",
    "metrics_ds"
   ]
  },
  {
   "cell_type": "code",
   "execution_count": 5,
   "metadata": {},
   "outputs": [
    {
     "data": {
      "text/plain": [
       "0.0785224507852245"
      ]
     },
     "execution_count": 5,
     "metadata": {},
     "output_type": "execute_result"
    }
   ],
   "source": [
    "total_bb_preds = bb.predict(bank_ds[cat_feats+real_feats])\n",
    "total_bb_preds.mean()"
   ]
  },
  {
   "cell_type": "markdown",
   "metadata": {},
   "source": [
    "# Бинаризация данных"
   ]
  },
  {
   "cell_type": "code",
   "execution_count": 6,
   "metadata": {},
   "outputs": [],
   "source": [
    "from sklearn.ensemble import RandomForestClassifier"
   ]
  },
  {
   "cell_type": "code",
   "execution_count": 7,
   "metadata": {},
   "outputs": [],
   "source": [
    "from sklearn.metrics import roc_auc_score"
   ]
  },
  {
   "cell_type": "code",
   "execution_count": 8,
   "metadata": {},
   "outputs": [],
   "source": [
    "def delete_lower_neighbs(fm, c):\n",
    "    lns = [fm.get_concept_by_id(ln_id) for ln_id in c._low_neighbs]\n",
    "    for ln in lns:\n",
    "        delete_lower_neighbs(fm, ln)\n",
    "    fm.delete_concept(c._idx)"
   ]
  },
  {
   "cell_type": "code",
   "execution_count": 9,
   "metadata": {},
   "outputs": [],
   "source": [
    "def delete_all_lower_neighbs_downwise(fm, min_y=0, max_y=1):\n",
    "    idx = 0\n",
    "    while len([c for c in fm._concepts if c._y_pred_mean is not None and \n",
    "               round(c._y_pred_mean,2) in [min_y,max_y] and len(c._low_neighbs)>0])>0:\n",
    "        #print(idx)\n",
    "        c = [c for c in fm._concepts if c._y_pred_mean is not None and \n",
    "             round(c._y_pred_mean,2) in [min_y,max_y] and len(c._low_neighbs)>0][0]\n",
    "        delete_lower_neighbs(fm, fm.get_concept_by_id(list(c._low_neighbs)[0]))\n",
    "        idx += 1    "
   ]
  },
  {
   "cell_type": "code",
   "execution_count": 10,
   "metadata": {},
   "outputs": [],
   "source": [
    "def generate_bin_hyps(ds, cat_feats, real_feats, n_ts_real_feats=100):\n",
    "    ds = bank_ds.copy()\n",
    "    bin_ds = pd.DataFrame()\n",
    "    for f in cat_feats:\n",
    "        for v in ds[f].unique():\n",
    "            bin_ds[f\"{f}_is_{v}\"] = (ds[f]==v).astype(int)\n",
    "            bin_ds[f\"{f}_not_{v}\"] = (ds[f]!=v).astype(int)\n",
    "    for f in real_feats:\n",
    "        for t in np.random.choice(ds[f], size=n_ts_real_feats, replace=False):\n",
    "            bin_ds[f\"{f}_lt_{t}\"] = (ds[f]<t).astype(int)\n",
    "            bin_ds[f\"{f}_geq_{t}\"] = (ds[f]>=t).astype(int)\n",
    "    return bin_ds"
   ]
  },
  {
   "cell_type": "code",
   "execution_count": 11,
   "metadata": {},
   "outputs": [],
   "source": [
    "def test_feats(bin_ds, fs, y, n_estimators=100, metric=accuracy_score):\n",
    "    rf = RandomForestClassifier(n_estimators=n_estimators)\n",
    "    rf.fit(bin_ds[fs], y)\n",
    "    ac = metric(y, rf.predict(bin_ds[fs]))\n",
    "    s = pd.Series(rf.feature_importances_, index=fs).sort_values(ascending=False)\n",
    "    return ac, s"
   ]
  },
  {
   "cell_type": "code",
   "execution_count": 12,
   "metadata": {},
   "outputs": [],
   "source": [
    "def squeeze_bin_dataset(bin_ds, y, metric=accuracy_score, metric_lim=1):\n",
    "    fs = bin_ds.columns\n",
    "    for i in tqdm(range(len(bin_ds.columns))):\n",
    "        for f in fs[::-1]:\n",
    "            fs_ = [f_ for f_ in fs if f_!=f]\n",
    "            ac, s = test_feats(bin_ds, fs_, y, metric=metric)\n",
    "            \n",
    "            if ac>=metric_lim:\n",
    "                fs = list(s.index)\n",
    "                break\n",
    "        else:\n",
    "            break\n",
    "    return fs"
   ]
  },
  {
   "cell_type": "code",
   "execution_count": 66,
   "metadata": {},
   "outputs": [
    {
     "name": "stdout",
     "output_type": "stream",
     "text": [
      "(4521, 142)\n"
     ]
    },
    {
     "data": {
      "text/html": [
       "<div>\n",
       "<style scoped>\n",
       "    .dataframe tbody tr th:only-of-type {\n",
       "        vertical-align: middle;\n",
       "    }\n",
       "\n",
       "    .dataframe tbody tr th {\n",
       "        vertical-align: top;\n",
       "    }\n",
       "\n",
       "    .dataframe thead th {\n",
       "        text-align: right;\n",
       "    }\n",
       "</style>\n",
       "<table border=\"1\" class=\"dataframe\">\n",
       "  <thead>\n",
       "    <tr style=\"text-align: right;\">\n",
       "      <th></th>\n",
       "      <th>job_is_unemployed</th>\n",
       "      <th>job_not_unemployed</th>\n",
       "      <th>job_is_services</th>\n",
       "      <th>job_not_services</th>\n",
       "      <th>job_is_management</th>\n",
       "      <th>job_not_management</th>\n",
       "      <th>job_is_blue-collar</th>\n",
       "      <th>job_not_blue-collar</th>\n",
       "      <th>job_is_self-employed</th>\n",
       "      <th>job_not_self-employed</th>\n",
       "      <th>...</th>\n",
       "      <th>campaign_lt_3</th>\n",
       "      <th>campaign_geq_3</th>\n",
       "      <th>pdays_lt_-1</th>\n",
       "      <th>pdays_geq_-1</th>\n",
       "      <th>pdays_lt_281</th>\n",
       "      <th>pdays_geq_281</th>\n",
       "      <th>previous_lt_0</th>\n",
       "      <th>previous_geq_0</th>\n",
       "      <th>previous_lt_1</th>\n",
       "      <th>previous_geq_1</th>\n",
       "    </tr>\n",
       "  </thead>\n",
       "  <tbody>\n",
       "    <tr>\n",
       "      <td>0</td>\n",
       "      <td>1</td>\n",
       "      <td>0</td>\n",
       "      <td>0</td>\n",
       "      <td>1</td>\n",
       "      <td>0</td>\n",
       "      <td>1</td>\n",
       "      <td>0</td>\n",
       "      <td>1</td>\n",
       "      <td>0</td>\n",
       "      <td>1</td>\n",
       "      <td>...</td>\n",
       "      <td>1</td>\n",
       "      <td>0</td>\n",
       "      <td>0</td>\n",
       "      <td>1</td>\n",
       "      <td>1</td>\n",
       "      <td>0</td>\n",
       "      <td>0</td>\n",
       "      <td>1</td>\n",
       "      <td>1</td>\n",
       "      <td>0</td>\n",
       "    </tr>\n",
       "    <tr>\n",
       "      <td>1</td>\n",
       "      <td>0</td>\n",
       "      <td>1</td>\n",
       "      <td>1</td>\n",
       "      <td>0</td>\n",
       "      <td>0</td>\n",
       "      <td>1</td>\n",
       "      <td>0</td>\n",
       "      <td>1</td>\n",
       "      <td>0</td>\n",
       "      <td>1</td>\n",
       "      <td>...</td>\n",
       "      <td>1</td>\n",
       "      <td>0</td>\n",
       "      <td>0</td>\n",
       "      <td>1</td>\n",
       "      <td>0</td>\n",
       "      <td>1</td>\n",
       "      <td>0</td>\n",
       "      <td>1</td>\n",
       "      <td>0</td>\n",
       "      <td>1</td>\n",
       "    </tr>\n",
       "    <tr>\n",
       "      <td>2</td>\n",
       "      <td>0</td>\n",
       "      <td>1</td>\n",
       "      <td>0</td>\n",
       "      <td>1</td>\n",
       "      <td>1</td>\n",
       "      <td>0</td>\n",
       "      <td>0</td>\n",
       "      <td>1</td>\n",
       "      <td>0</td>\n",
       "      <td>1</td>\n",
       "      <td>...</td>\n",
       "      <td>1</td>\n",
       "      <td>0</td>\n",
       "      <td>0</td>\n",
       "      <td>1</td>\n",
       "      <td>0</td>\n",
       "      <td>1</td>\n",
       "      <td>0</td>\n",
       "      <td>1</td>\n",
       "      <td>0</td>\n",
       "      <td>1</td>\n",
       "    </tr>\n",
       "    <tr>\n",
       "      <td>3</td>\n",
       "      <td>0</td>\n",
       "      <td>1</td>\n",
       "      <td>0</td>\n",
       "      <td>1</td>\n",
       "      <td>1</td>\n",
       "      <td>0</td>\n",
       "      <td>0</td>\n",
       "      <td>1</td>\n",
       "      <td>0</td>\n",
       "      <td>1</td>\n",
       "      <td>...</td>\n",
       "      <td>0</td>\n",
       "      <td>1</td>\n",
       "      <td>0</td>\n",
       "      <td>1</td>\n",
       "      <td>1</td>\n",
       "      <td>0</td>\n",
       "      <td>0</td>\n",
       "      <td>1</td>\n",
       "      <td>1</td>\n",
       "      <td>0</td>\n",
       "    </tr>\n",
       "    <tr>\n",
       "      <td>4</td>\n",
       "      <td>0</td>\n",
       "      <td>1</td>\n",
       "      <td>0</td>\n",
       "      <td>1</td>\n",
       "      <td>0</td>\n",
       "      <td>1</td>\n",
       "      <td>1</td>\n",
       "      <td>0</td>\n",
       "      <td>0</td>\n",
       "      <td>1</td>\n",
       "      <td>...</td>\n",
       "      <td>1</td>\n",
       "      <td>0</td>\n",
       "      <td>0</td>\n",
       "      <td>1</td>\n",
       "      <td>1</td>\n",
       "      <td>0</td>\n",
       "      <td>0</td>\n",
       "      <td>1</td>\n",
       "      <td>1</td>\n",
       "      <td>0</td>\n",
       "    </tr>\n",
       "  </tbody>\n",
       "</table>\n",
       "<p>5 rows × 142 columns</p>\n",
       "</div>"
      ],
      "text/plain": [
       "   job_is_unemployed  job_not_unemployed  job_is_services  job_not_services  \\\n",
       "0                  1                   0                0                 1   \n",
       "1                  0                   1                1                 0   \n",
       "2                  0                   1                0                 1   \n",
       "3                  0                   1                0                 1   \n",
       "4                  0                   1                0                 1   \n",
       "\n",
       "   job_is_management  job_not_management  job_is_blue-collar  \\\n",
       "0                  0                   1                   0   \n",
       "1                  0                   1                   0   \n",
       "2                  1                   0                   0   \n",
       "3                  1                   0                   0   \n",
       "4                  0                   1                   1   \n",
       "\n",
       "   job_not_blue-collar  job_is_self-employed  job_not_self-employed  ...  \\\n",
       "0                    1                     0                      1  ...   \n",
       "1                    1                     0                      1  ...   \n",
       "2                    1                     0                      1  ...   \n",
       "3                    1                     0                      1  ...   \n",
       "4                    0                     0                      1  ...   \n",
       "\n",
       "   campaign_lt_3  campaign_geq_3  pdays_lt_-1  pdays_geq_-1  pdays_lt_281  \\\n",
       "0              1               0            0             1             1   \n",
       "1              1               0            0             1             0   \n",
       "2              1               0            0             1             0   \n",
       "3              0               1            0             1             1   \n",
       "4              1               0            0             1             1   \n",
       "\n",
       "   pdays_geq_281  previous_lt_0  previous_geq_0  previous_lt_1  previous_geq_1  \n",
       "0              0              0               1              1               0  \n",
       "1              1              0               1              0               1  \n",
       "2              1              0               1              0               1  \n",
       "3              0              0               1              1               0  \n",
       "4              0              0               1              1               0  \n",
       "\n",
       "[5 rows x 142 columns]"
      ]
     },
     "execution_count": 66,
     "metadata": {},
     "output_type": "execute_result"
    }
   ],
   "source": [
    "bin_ds = generate_bin_hyps(bank_ds, cat_feats, real_feats, n_ts_real_feats=5, )\n",
    "print(bin_ds.shape)\n",
    "bin_ds.head()"
   ]
  },
  {
   "cell_type": "code",
   "execution_count": 78,
   "metadata": {},
   "outputs": [
    {
     "name": "stdout",
     "output_type": "stream",
     "text": [
      "1.0\n"
     ]
    }
   ],
   "source": [
    "ac, s = test_feats(bin_ds, bin_ds.columns, total_bb_preds,)\n",
    "print(ac)"
   ]
  },
  {
   "cell_type": "code",
   "execution_count": 114,
   "metadata": {},
   "outputs": [
    {
     "data": {
      "application/vnd.jupyter.widget-view+json": {
       "model_id": "94cc802220394b138ea812077d5abb77",
       "version_major": 2,
       "version_minor": 0
      },
      "text/plain": [
       "HBox(children=(IntProgress(value=0, max=142), HTML(value='')))"
      ]
     },
     "metadata": {},
     "output_type": "display_data"
    },
    {
     "data": {
      "text/plain": [
       "8"
      ]
     },
     "execution_count": 114,
     "metadata": {},
     "output_type": "execute_result"
    }
   ],
   "source": [
    "fs_short = squeeze_bin_dataset(bin_ds, total_bb_preds, metric_lim=0.95)\n",
    "len(fs_short)"
   ]
  },
  {
   "cell_type": "code",
   "execution_count": 115,
   "metadata": {},
   "outputs": [
    {
     "data": {
      "text/plain": [
       "(96, 8)"
      ]
     },
     "execution_count": 115,
     "metadata": {},
     "output_type": "execute_result"
    }
   ],
   "source": [
    "bin_ds[fs_short].drop_duplicates().T.drop_duplicates().T.shape"
   ]
  },
  {
   "cell_type": "raw",
   "metadata": {},
   "source": [
    "bin_ds = pd.DataFrame()\n",
    "bin_ds['duration_lt_732'] = bank_ds['duration']<732\n",
    "bin_ds['poutcome_not_success'] = bank_ds['poutcome']!='success'\n",
    "bin_ds['duration_lt_215'] = bank_ds['duration']<215\n",
    "bin_ds['month_is_oct'] = bank_ds['month']=='oct'\n",
    "bin_ds['poutcome_not_unknown'] = bank_ds['poutcome']!='unknown'\n",
    "bin_ds['month_not_may'] = bank_ds['month']!='may'\n",
    "bin_ds['housing_not_yes'] = bank_ds['housing']!='yes'\n",
    "bin_ds['marital_is_married'] = bank_ds['marital']=='married'"
   ]
  },
  {
   "cell_type": "code",
   "execution_count": 126,
   "metadata": {},
   "outputs": [
    {
     "data": {
      "text/plain": [
       "0.9340354174977856"
      ]
     },
     "execution_count": 126,
     "metadata": {},
     "output_type": "execute_result"
    }
   ],
   "source": [
    "rf = RandomForestClassifier(n_estimators=100)\n",
    "rf.fit(bin_ds[fs_short], total_bb_preds)\n",
    "roc_auc_score(total_bb_preds, rf.predict_proba(bin_ds[fs_short])[:,1])"
   ]
  },
  {
   "cell_type": "code",
   "execution_count": 127,
   "metadata": {},
   "outputs": [
    {
     "data": {
      "text/plain": [
       "0.9500110595001106"
      ]
     },
     "execution_count": 127,
     "metadata": {},
     "output_type": "execute_result"
    }
   ],
   "source": [
    "accuracy_score(total_bb_preds, rf.predict(bin_ds[fs_short]))"
   ]
  },
  {
   "cell_type": "code",
   "execution_count": null,
   "metadata": {},
   "outputs": [],
   "source": []
  },
  {
   "cell_type": "code",
   "execution_count": 118,
   "metadata": {},
   "outputs": [
    {
     "data": {
      "text/plain": [
       "['poutcome_not_success',\n",
       " 'duration_lt_968',\n",
       " 'duration_lt_253',\n",
       " 'month_not_oct',\n",
       " 'previous_lt_1',\n",
       " 'housing_is_yes',\n",
       " 'marital_is_married',\n",
       " 'balance_lt_1384']"
      ]
     },
     "execution_count": 118,
     "metadata": {},
     "output_type": "execute_result"
    }
   ],
   "source": [
    "fs_short"
   ]
  },
  {
   "cell_type": "code",
   "execution_count": 119,
   "metadata": {},
   "outputs": [],
   "source": [
    "bin_ds_short = bin_ds[fs_short]"
   ]
  },
  {
   "cell_type": "code",
   "execution_count": 120,
   "metadata": {},
   "outputs": [
    {
     "data": {
      "text/plain": [
       "4521"
      ]
     },
     "execution_count": 120,
     "metadata": {},
     "output_type": "execute_result"
    }
   ],
   "source": [
    "bank_ds.shape[0]"
   ]
  },
  {
   "cell_type": "code",
   "execution_count": 121,
   "metadata": {},
   "outputs": [
    {
     "data": {
      "text/plain": [
       "((96, 8), 0.021234240212342402)"
      ]
     },
     "execution_count": 121,
     "metadata": {},
     "output_type": "execute_result"
    }
   ],
   "source": [
    "bin_ds_short.drop_duplicates().T.drop_duplicates().T.shape, bin_ds_short.drop_duplicates().T.drop_duplicates().T.shape[0]/bank_ds.shape[0]"
   ]
  },
  {
   "cell_type": "code",
   "execution_count": 122,
   "metadata": {},
   "outputs": [
    {
     "name": "stdout",
     "output_type": "stream",
     "text": [
      "144\n",
      "CPU times: user 1.25 s, sys: 3 µs, total: 1.25 s\n",
      "Wall time: 1.25 s\n"
     ]
    }
   ],
   "source": [
    "%%time\n",
    "cntx_bank = fcai.Context(bin_ds_short.astype(bool),y_true=(bank_ds[y_feat]=='yes').astype(int), y_pred=total_bb_preds)\n",
    "fm_bank = fcai.FormalManager(cntx_bank, ds_obj=None, task_type='binary classification')\n",
    "fm_bank.construct_concepts(use_tqdm=False, is_monotonic=False)\n",
    "print(len(fm_bank._concepts))"
   ]
  },
  {
   "cell_type": "code",
   "execution_count": 123,
   "metadata": {},
   "outputs": [],
   "source": [
    "fm_bank.construct_lattice(use_tqdm=False)"
   ]
  },
  {
   "cell_type": "code",
   "execution_count": 124,
   "metadata": {},
   "outputs": [],
   "source": [
    "fig = fm_bank.get_plotly_fig(level_sort='all', sort_by='y_pred',\n",
    "                        y_precision=2, title='Bank Dataset Concept Lattice', cbar_title='Mean Prediction',\n",
    "                        color_by='y_pred',)"
   ]
  },
  {
   "cell_type": "code",
   "execution_count": 125,
   "metadata": {},
   "outputs": [
    {
     "data": {
      "application/vnd.plotly.v1+json": {
       "config": {
        "plotlyServerURL": "https://plot.ly"
       },
       "data": [
        {
         "hoverinfo": "none",
         "line": {
          "color": "#888",
          "width": 0.5
         },
         "mode": "lines",
         "type": "scatter",
         "x": [
          -1,
          1.5,
          null,
          -1,
          -2.5,
          null,
          -1,
          -5.5,
          null,
          -1,
          -9.5,
          null,
          -1,
          -7.5,
          null,
          -1,
          -1.5,
          null,
          -1,
          9.5,
          null,
          4,
          -1.5,
          null,
          4,
          2.5,
          null,
          4,
          10.5,
          null,
          4,
          5.5,
          null,
          4,
          4.5,
          null,
          4,
          -0.5,
          null,
          4,
          2.5,
          null,
          1,
          -2.5,
          null,
          1,
          -0.5,
          null,
          1,
          -5.5,
          null,
          1,
          -2.5,
          null,
          1,
          -3.5,
          null,
          1,
          8.5,
          null,
          -8,
          0.5,
          null,
          -8,
          -1.5,
          null,
          -8,
          -12.5,
          null,
          -8,
          -10.5,
          null,
          -8,
          -8.5,
          null,
          -8,
          2.5,
          null,
          1,
          8.5,
          null,
          1,
          -5.5,
          null,
          1,
          -10.5,
          null,
          1,
          -7.5,
          null,
          1,
          9.5,
          null,
          1,
          0.5,
          null,
          1,
          -0.5,
          null,
          6,
          0.5,
          null,
          6,
          2.5,
          null,
          6,
          13.5,
          null,
          6,
          1.5,
          null,
          6,
          3.5,
          null,
          6,
          2.5,
          null,
          6,
          12.5,
          null,
          11.5,
          8,
          null,
          11.5,
          5,
          null,
          11.5,
          8.5,
          null,
          11.5,
          13.5,
          null,
          11.5,
          14.5,
          null,
          11.5,
          12.5,
          null,
          11.5,
          0.5,
          null,
          -6,
          1.5,
          null,
          -6,
          0.5,
          null,
          -6,
          -6.5,
          null,
          -6,
          -12.5,
          null,
          -6,
          3.5,
          null,
          -6,
          -7.5,
          null,
          -6,
          -14.5,
          null,
          0,
          2.5,
          null,
          0,
          -0.5,
          null,
          0,
          -2.5,
          null,
          0,
          0.5,
          null,
          0,
          1.5,
          null,
          0,
          -1.5,
          null,
          5,
          2.5,
          null,
          5,
          -1.5,
          null,
          5,
          7.5,
          null,
          5,
          12.5,
          null,
          5,
          13.5,
          null,
          5,
          2.5,
          null,
          5,
          -1.5,
          null,
          7,
          -2.5,
          null,
          7,
          2.5,
          null,
          7,
          14.5,
          null,
          7,
          9.5,
          null,
          7,
          4.5,
          null,
          7,
          12.5,
          null,
          7,
          8.5,
          null,
          2,
          1.5,
          null,
          2,
          -13.5,
          null,
          2,
          -6.5,
          null,
          2,
          7.5,
          null,
          2,
          -1.5,
          null,
          2,
          -4.5,
          null,
          -2,
          0.5,
          null,
          -2,
          -0.5,
          null,
          -2,
          1.5,
          null,
          -2,
          -2.5,
          null,
          -2,
          -10.5,
          null,
          -2,
          -14.5,
          null,
          -1,
          -4.5,
          null,
          -1,
          3.5,
          null,
          -1,
          6.5,
          null,
          -1,
          5.5,
          null,
          -1,
          -2.5,
          null,
          -1,
          1.5,
          null,
          13.5,
          8,
          null,
          13.5,
          13.5,
          null,
          13.5,
          17.5,
          null,
          13.5,
          5.5,
          null,
          13.5,
          6.5,
          null,
          6.5,
          8,
          null,
          6.5,
          3,
          null,
          6.5,
          -0.5,
          null,
          6.5,
          15.5,
          null,
          6.5,
          5.5,
          null,
          6.5,
          0.5,
          null,
          -3,
          1.5,
          null,
          -3,
          -1.5,
          null,
          -3,
          5.5,
          null,
          -3,
          -12.5,
          null,
          -3,
          -11.5,
          null,
          -3,
          -9.5,
          null,
          -3,
          -4.5,
          null,
          10.5,
          8,
          null,
          10.5,
          8.5,
          null,
          10.5,
          -0.5,
          null,
          10.5,
          10.5,
          null,
          10.5,
          6.5,
          null,
          -5,
          1.5,
          null,
          -5,
          -0.5,
          null,
          -5,
          -13.5,
          null,
          -5,
          -5.5,
          null,
          -5,
          -11.5,
          null,
          -5,
          0.5,
          null,
          -5,
          -14.5,
          null,
          6,
          8.5,
          null,
          6,
          5.5,
          null,
          6,
          14.5,
          null,
          6,
          4.5,
          null,
          6,
          0.5,
          null,
          6,
          1.5,
          null,
          1.5,
          0,
          null,
          1.5,
          5,
          null,
          5,
          2.5,
          null,
          5,
          5.5,
          null,
          5,
          0.5,
          null,
          5,
          7.5,
          null,
          5,
          3.5,
          null,
          5,
          9.5,
          null,
          3,
          -0.5,
          null,
          3,
          2.5,
          null,
          3,
          1.5,
          null,
          3,
          0.5,
          null,
          3,
          -0.5,
          null,
          3,
          8.5,
          null,
          14.5,
          8,
          null,
          14.5,
          15.5,
          null,
          14.5,
          10.5,
          null,
          14.5,
          17.5,
          null,
          14.5,
          14.5,
          null,
          8,
          2.5,
          null,
          -2,
          2.5,
          null,
          -2,
          -13.5,
          null,
          -2,
          -9.5,
          null,
          -2,
          -5.5,
          null,
          -2,
          1.5,
          null,
          -2,
          -0.5,
          null,
          -2,
          -1.5,
          null,
          -2,
          -0.5,
          null,
          8,
          12.5,
          null,
          8,
          6.5,
          null,
          8,
          14.5,
          null,
          8,
          11.5,
          null,
          8,
          2.5,
          null,
          8,
          1.5,
          null,
          -7,
          -1.5,
          null,
          -7,
          -0.5,
          null,
          -7,
          -11.5,
          null,
          -7,
          -10.5,
          null,
          -7,
          -3.5,
          null,
          -7,
          -0.5,
          null,
          2.5,
          3,
          null,
          2.5,
          -4,
          null,
          2.5,
          7,
          null,
          -4,
          -1.5,
          null,
          -4,
          -2.5,
          null,
          -4,
          -9.5,
          null,
          -4,
          -3.5,
          null,
          -4,
          -8.5,
          null,
          -4,
          4.5,
          null,
          0,
          0.5,
          null,
          0,
          -2.5,
          null,
          0,
          -2.5,
          null,
          0,
          -7.5,
          null,
          0,
          -8.5,
          null,
          0,
          12.5,
          null,
          -0.5,
          0,
          null,
          -17.5,
          -11.5,
          null,
          -17.5,
          -12.5,
          null,
          -17.5,
          -10.5,
          null,
          -17.5,
          -14.5,
          null,
          -17.5,
          -14.5,
          null,
          -17.5,
          -9.5,
          null,
          -17.5,
          -13.5,
          null,
          -13.5,
          -3.5,
          null,
          -13.5,
          -8.5,
          null,
          -13.5,
          -16.5,
          null,
          -13.5,
          -15.5,
          null,
          -6,
          -9.5,
          null,
          -6,
          -1.5,
          null,
          -6,
          -2.5,
          null,
          -6,
          3.5,
          null,
          -6,
          -6.5,
          null,
          -6,
          -1.5,
          null,
          -6,
          -2.5,
          null,
          -4.5,
          -11.5,
          null,
          -4.5,
          0.5,
          null,
          -4.5,
          5.5,
          null,
          -4.5,
          -0.5,
          null,
          -4.5,
          -2.5,
          null,
          -4.5,
          -7.5,
          null,
          -4.5,
          -9.5,
          null,
          -4.5,
          -5.5,
          null,
          -6.5,
          -9.5,
          null,
          -6.5,
          1.5,
          null,
          -6.5,
          -16.5,
          null,
          -6.5,
          -14.5,
          null,
          -10.5,
          -8.5,
          null,
          -10.5,
          -12.5,
          null,
          -10.5,
          -7.5,
          null,
          -10.5,
          -15.5,
          null,
          -10.5,
          -8,
          null,
          -3.5,
          0.5,
          null,
          -3.5,
          7.5,
          null,
          -3.5,
          -8.5,
          null,
          -3.5,
          9.5,
          null,
          -3.5,
          -3.5,
          null,
          -3.5,
          -7.5,
          null,
          -5.5,
          -8.5,
          null,
          -5.5,
          -12.5,
          null,
          -5.5,
          4.5,
          null,
          -5.5,
          -11.5,
          null,
          5.5,
          12.5,
          null,
          5.5,
          8.5,
          null,
          5.5,
          3.5,
          null,
          5.5,
          -5,
          null,
          -2.5,
          0,
          null,
          11.5,
          -7.5,
          null,
          11.5,
          9.5,
          null,
          11.5,
          12.5,
          null,
          11.5,
          3.5,
          null,
          11.5,
          11.5,
          null,
          11.5,
          1.5,
          null,
          11.5,
          12.5,
          null,
          11.5,
          2.5,
          null,
          1.5,
          9.5,
          null,
          1.5,
          -5.5,
          null,
          1.5,
          -6.5,
          null,
          1.5,
          5.5,
          null,
          -8,
          -13.5,
          null,
          -8,
          -12.5,
          null,
          -8,
          -14.5,
          null,
          -8,
          -11.5,
          null,
          -8,
          -0.5,
          null,
          11.5,
          -9.5,
          null,
          11.5,
          1.5,
          null,
          11.5,
          16.5,
          null,
          11.5,
          4,
          null,
          11.5,
          3,
          null,
          0.5,
          0,
          null,
          -8.5,
          -1.5,
          null,
          -8.5,
          9.5,
          null,
          -8.5,
          -12.5,
          null,
          5.5,
          8.5,
          null,
          5.5,
          2.5,
          null,
          5.5,
          3.5,
          null,
          5.5,
          -1.5,
          null,
          8.5,
          2.5,
          null,
          8.5,
          -7.5,
          null,
          8.5,
          3.5,
          null,
          8.5,
          16.5,
          null,
          8.5,
          4,
          null,
          8.5,
          -2.5,
          null,
          8.5,
          4.5,
          null,
          8.5,
          3.5,
          null,
          -0.5,
          -0.5,
          null,
          -0.5,
          0.5,
          null,
          -0.5,
          -6.5,
          null,
          -0.5,
          -2.5,
          null,
          -5,
          -3.5,
          null,
          -5,
          -2.5,
          null,
          -5,
          -7.5,
          null,
          -5,
          0.5,
          null,
          -5,
          -2.5,
          null,
          10.5,
          7.5,
          null,
          10.5,
          6.5,
          null,
          10.5,
          10.5,
          null,
          10.5,
          17.5,
          null,
          10.5,
          0,
          null,
          10.5,
          2,
          null,
          -10.5,
          -3.5,
          null,
          -10.5,
          -8.5,
          null,
          -10.5,
          -2.5,
          null,
          -10.5,
          -10.5,
          null,
          -10.5,
          -0.5,
          null,
          -10.5,
          -13.5,
          null,
          -12.5,
          -13.5,
          null,
          -12.5,
          -14.5,
          null,
          -12.5,
          -1.5,
          null,
          1.5,
          -13.5,
          null,
          1.5,
          -1.5,
          null,
          1.5,
          2.5,
          null,
          1.5,
          7.5,
          null,
          1.5,
          2,
          null,
          1.5,
          4,
          null,
          -12.5,
          -11.5,
          null,
          -12.5,
          -9.5,
          null,
          -12.5,
          -3.5,
          null,
          -12.5,
          -13.5,
          null,
          -12.5,
          -5.5,
          null,
          -11.5,
          -15.5,
          null,
          -4,
          -3.5,
          null,
          -4,
          6.5,
          null,
          -4,
          -8.5,
          null,
          -4,
          -1.5,
          null,
          -4,
          -2.5,
          null,
          -8.5,
          -5.5,
          null,
          -8.5,
          1.5,
          null,
          -8.5,
          -16.5,
          null,
          -8.5,
          3,
          null,
          -8.5,
          -7,
          null,
          0.5,
          15.5,
          null,
          0.5,
          10.5,
          null,
          0.5,
          -2.5,
          null,
          0.5,
          0,
          null,
          0.5,
          -3,
          null,
          0.5,
          -5.5,
          null,
          0.5,
          4.5,
          null,
          0.5,
          0.5,
          null,
          7,
          7.5,
          null,
          7,
          -3.5,
          null,
          7,
          14.5,
          null,
          7,
          9.5,
          null,
          7,
          0.5,
          null,
          9.5,
          4.5,
          null,
          9.5,
          16.5,
          null,
          9.5,
          3,
          null,
          7.5,
          12.5,
          null,
          7.5,
          -8.5,
          null,
          7.5,
          2.5,
          null,
          7.5,
          4.5,
          null,
          7.5,
          -0.5,
          null,
          -2.5,
          9.5,
          null,
          -2.5,
          -11.5,
          null,
          7.5,
          4.5,
          null,
          7.5,
          15.5,
          null,
          7.5,
          14.5,
          null,
          7.5,
          0.5,
          null,
          7.5,
          -3,
          null,
          0,
          -1.5,
          null,
          0,
          2.5,
          null,
          -9.5,
          -7.5,
          null,
          -9.5,
          -1.5,
          null,
          -9.5,
          -11.5,
          null,
          -9.5,
          -12.5,
          null,
          7.5,
          1.5,
          null,
          7.5,
          16.5,
          null,
          7.5,
          12.5,
          null,
          7.5,
          3.5,
          null,
          -1.5,
          -3,
          null,
          -1.5,
          2,
          null,
          -1.5,
          0,
          null,
          0,
          -0.5,
          null,
          0,
          13.5,
          null,
          0,
          -6.5,
          null,
          -6.5,
          6.5,
          null,
          -6.5,
          -6.5,
          null,
          -6.5,
          5.5,
          null,
          -10.5,
          -6.5,
          null,
          -2.5,
          0.5,
          null,
          -2.5,
          -3,
          null,
          -2.5,
          -3.5,
          null,
          -2.5,
          -0.5,
          null,
          -2.5,
          8.5,
          null,
          -2.5,
          4.5,
          null,
          -2.5,
          -0.5,
          null,
          -2.5,
          -5.5,
          null,
          3.5,
          13.5,
          null,
          3.5,
          1.5,
          null,
          3.5,
          -5.5,
          null,
          3.5,
          -1.5,
          null,
          -3.5,
          12.5,
          null,
          -3.5,
          0.5,
          null,
          13.5,
          12.5,
          null,
          13.5,
          -1.5,
          null,
          13.5,
          6.5,
          null,
          13.5,
          3.5,
          null,
          -9.5,
          -7.5,
          null,
          -9.5,
          -13.5,
          null,
          -9.5,
          2.5,
          null,
          0.5,
          -3,
          null,
          2,
          12.5,
          null,
          2,
          3.5,
          null,
          2,
          4.5,
          null,
          2,
          1.5,
          null,
          1.5,
          6.5,
          null,
          1.5,
          -4.5,
          null,
          -7.5,
          -13.5,
          null,
          -7.5,
          -11.5,
          null,
          14.5,
          12.5,
          null,
          14.5,
          14.5,
          null,
          14.5,
          16.5,
          null,
          -7.5,
          -4.5,
          null,
          -7.5,
          -1.5,
          null,
          -7.5,
          -11.5,
          null,
          15.5,
          8.5,
          null,
          15.5,
          13.5,
          null,
          -7.5,
          3.5,
          null,
          -7.5,
          -15.5,
          null,
          -7.5,
          -7,
          null,
          -13.5,
          -8.5,
          null,
          -13.5,
          -11.5,
          null,
          -13.5,
          -13.5,
          null,
          -1.5,
          16.5,
          null,
          4,
          -4.5,
          null,
          4,
          -11.5,
          null,
          4,
          -0.5,
          null,
          4,
          1.5,
          null,
          12.5,
          14.5,
          null,
          12.5,
          17.5,
          null,
          9.5,
          8.5,
          null,
          9.5,
          12.5,
          null,
          9.5,
          13.5,
          null,
          9.5,
          -0.5,
          null,
          9.5,
          2.5,
          null,
          9.5,
          4.5,
          null,
          9.5,
          2.5,
          null,
          9.5,
          16.5,
          null,
          9.5,
          14.5,
          null,
          -1.5,
          0.5,
          null,
          -1.5,
          -5.5,
          null,
          -1.5,
          5.5,
          null,
          -5.5,
          -14.5,
          null,
          -5.5,
          -9.5,
          null,
          -5.5,
          2.5,
          null,
          -4.5,
          -14.5,
          null,
          -4.5,
          3.5,
          null,
          -4.5,
          -15.5,
          null,
          -14.5,
          -14.5,
          null,
          -14.5,
          -16.5,
          null,
          -14.5,
          -15.5,
          null,
          -14.5,
          -7,
          null,
          4.5,
          8.5,
          null,
          4.5,
          2.5,
          null,
          4.5,
          -5.5,
          null,
          6.5,
          12.5,
          null,
          13.5,
          17.5,
          null,
          13.5,
          5.5,
          null,
          -14.5,
          -11.5,
          null,
          -14.5,
          -16.5,
          null,
          3,
          2.5,
          null,
          3,
          -12.5,
          null,
          3,
          -0.5,
          null,
          -11.5,
          -14.5,
          null,
          -11.5,
          -12.5,
          null,
          -11.5,
          2.5,
          null,
          -11.5,
          -13.5,
          null,
          10.5,
          4.5,
          null,
          10.5,
          4.5,
          null,
          -0.5,
          -7,
          null,
          -0.5,
          -6.5,
          null,
          -16.5,
          -12.5,
          null,
          4.5,
          2.5,
          null,
          -7,
          -4.5,
          null,
          -7,
          -9.5,
          null,
          -7,
          -2.5,
          null,
          -9.5,
          -1.5,
          null,
          -9.5,
          -6.5,
          null,
          2.5,
          4.5,
          null,
          2.5,
          -5.5,
          null,
          -0.5,
          -6.5,
          null,
          17.5,
          12.5,
          null,
          4.5,
          14.5,
          null,
          4.5,
          -3,
          null,
          -14.5,
          -4.5,
          null,
          2.5,
          -6.5,
          null,
          2.5,
          6.5,
          null,
          2.5,
          -1.5,
          null,
          3.5,
          -1.5,
          null,
          3.5,
          6.5,
          null,
          3.5,
          -4.5,
          null,
          -5.5,
          -3,
          null,
          -4.5,
          -1.5,
          null
         ],
         "y": [
          3,
          2,
          null,
          3,
          2,
          null,
          3,
          4,
          null,
          3,
          4,
          null,
          3,
          4,
          null,
          3,
          4,
          null,
          3,
          4,
          null,
          3,
          2,
          null,
          3,
          2,
          null,
          3,
          4,
          null,
          3,
          4,
          null,
          3,
          4,
          null,
          3,
          4,
          null,
          3,
          4,
          null,
          3,
          2,
          null,
          3,
          2,
          null,
          3,
          4,
          null,
          3,
          4,
          null,
          3,
          4,
          null,
          3,
          4,
          null,
          3,
          2,
          null,
          3,
          2,
          null,
          3,
          4,
          null,
          3,
          4,
          null,
          3,
          4,
          null,
          3,
          4,
          null,
          7,
          6,
          null,
          7,
          6,
          null,
          7,
          6,
          null,
          7,
          6,
          null,
          7,
          6,
          null,
          7,
          8,
          null,
          7,
          8,
          null,
          3,
          2,
          null,
          3,
          2,
          null,
          3,
          4,
          null,
          3,
          4,
          null,
          3,
          4,
          null,
          3,
          4,
          null,
          3,
          4,
          null,
          4,
          3,
          null,
          4,
          3,
          null,
          4,
          5,
          null,
          4,
          5,
          null,
          4,
          5,
          null,
          4,
          5,
          null,
          4,
          5,
          null,
          3,
          2,
          null,
          3,
          2,
          null,
          3,
          4,
          null,
          3,
          4,
          null,
          3,
          4,
          null,
          3,
          4,
          null,
          3,
          4,
          null,
          9,
          8,
          null,
          9,
          8,
          null,
          9,
          8,
          null,
          9,
          8,
          null,
          9,
          8,
          null,
          9,
          8,
          null,
          7,
          6,
          null,
          7,
          6,
          null,
          7,
          6,
          null,
          7,
          6,
          null,
          7,
          6,
          null,
          7,
          8,
          null,
          7,
          8,
          null,
          3,
          2,
          null,
          3,
          2,
          null,
          3,
          4,
          null,
          3,
          4,
          null,
          3,
          4,
          null,
          3,
          4,
          null,
          3,
          4,
          null,
          3,
          2,
          null,
          3,
          4,
          null,
          3,
          4,
          null,
          3,
          4,
          null,
          3,
          4,
          null,
          3,
          4,
          null,
          3,
          2,
          null,
          3,
          2,
          null,
          3,
          4,
          null,
          3,
          4,
          null,
          3,
          4,
          null,
          3,
          4,
          null,
          7,
          6,
          null,
          7,
          6,
          null,
          7,
          6,
          null,
          7,
          6,
          null,
          7,
          8,
          null,
          7,
          8,
          null,
          4,
          3,
          null,
          4,
          5,
          null,
          4,
          5,
          null,
          4,
          5,
          null,
          4,
          5,
          null,
          4,
          3,
          null,
          4,
          3,
          null,
          4,
          5,
          null,
          4,
          5,
          null,
          4,
          5,
          null,
          4,
          5,
          null,
          3,
          2,
          null,
          3,
          2,
          null,
          3,
          4,
          null,
          3,
          4,
          null,
          3,
          4,
          null,
          3,
          4,
          null,
          3,
          4,
          null,
          4,
          3,
          null,
          4,
          5,
          null,
          4,
          5,
          null,
          4,
          5,
          null,
          4,
          5,
          null,
          3,
          2,
          null,
          3,
          2,
          null,
          3,
          4,
          null,
          3,
          4,
          null,
          3,
          4,
          null,
          3,
          4,
          null,
          3,
          4,
          null,
          7,
          6,
          null,
          7,
          6,
          null,
          7,
          6,
          null,
          7,
          6,
          null,
          7,
          8,
          null,
          7,
          8,
          null,
          2,
          1,
          null,
          2,
          3,
          null,
          3,
          2,
          null,
          3,
          4,
          null,
          3,
          4,
          null,
          3,
          4,
          null,
          3,
          4,
          null,
          3,
          4,
          null,
          3,
          2,
          null,
          3,
          2,
          null,
          3,
          4,
          null,
          3,
          4,
          null,
          3,
          4,
          null,
          3,
          4,
          null,
          4,
          3,
          null,
          4,
          5,
          null,
          4,
          5,
          null,
          4,
          5,
          null,
          4,
          5,
          null,
          3,
          2,
          null,
          7,
          6,
          null,
          7,
          6,
          null,
          7,
          6,
          null,
          7,
          6,
          null,
          7,
          6,
          null,
          7,
          6,
          null,
          7,
          8,
          null,
          7,
          8,
          null,
          7,
          6,
          null,
          7,
          6,
          null,
          7,
          6,
          null,
          7,
          6,
          null,
          7,
          8,
          null,
          7,
          8,
          null,
          3,
          2,
          null,
          3,
          2,
          null,
          3,
          4,
          null,
          3,
          4,
          null,
          3,
          4,
          null,
          3,
          4,
          null,
          8,
          7,
          null,
          8,
          7,
          null,
          8,
          7,
          null,
          3,
          2,
          null,
          3,
          2,
          null,
          3,
          4,
          null,
          3,
          4,
          null,
          3,
          4,
          null,
          3,
          4,
          null,
          3,
          2,
          null,
          3,
          2,
          null,
          3,
          4,
          null,
          3,
          4,
          null,
          3,
          4,
          null,
          3,
          4,
          null,
          2,
          1,
          null,
          5,
          4,
          null,
          5,
          4,
          null,
          5,
          4,
          null,
          5,
          4,
          null,
          5,
          6,
          null,
          5,
          6,
          null,
          5,
          6,
          null,
          4,
          5,
          null,
          4,
          5,
          null,
          4,
          5,
          null,
          4,
          5,
          null,
          7,
          6,
          null,
          7,
          6,
          null,
          7,
          6,
          null,
          7,
          6,
          null,
          7,
          6,
          null,
          7,
          8,
          null,
          7,
          8,
          null,
          5,
          4,
          null,
          5,
          4,
          null,
          5,
          4,
          null,
          5,
          4,
          null,
          5,
          6,
          null,
          5,
          6,
          null,
          5,
          6,
          null,
          5,
          6,
          null,
          4,
          5,
          null,
          4,
          5,
          null,
          4,
          5,
          null,
          4,
          5,
          null,
          6,
          5,
          null,
          6,
          5,
          null,
          6,
          5,
          null,
          6,
          5,
          null,
          6,
          7,
          null,
          5,
          4,
          null,
          5,
          4,
          null,
          5,
          6,
          null,
          5,
          6,
          null,
          5,
          6,
          null,
          5,
          6,
          null,
          4,
          5,
          null,
          4,
          5,
          null,
          4,
          5,
          null,
          4,
          5,
          null,
          6,
          5,
          null,
          6,
          5,
          null,
          6,
          5,
          null,
          6,
          7,
          null,
          2,
          1,
          null,
          5,
          4,
          null,
          5,
          4,
          null,
          5,
          4,
          null,
          5,
          4,
          null,
          5,
          6,
          null,
          5,
          6,
          null,
          5,
          6,
          null,
          5,
          6,
          null,
          4,
          5,
          null,
          4,
          5,
          null,
          4,
          5,
          null,
          4,
          5,
          null,
          7,
          6,
          null,
          7,
          6,
          null,
          7,
          6,
          null,
          7,
          6,
          null,
          7,
          8,
          null,
          6,
          5,
          null,
          6,
          5,
          null,
          6,
          5,
          null,
          6,
          7,
          null,
          6,
          7,
          null,
          2,
          1,
          null,
          5,
          4,
          null,
          5,
          6,
          null,
          5,
          6,
          null,
          4,
          5,
          null,
          4,
          5,
          null,
          4,
          5,
          null,
          4,
          5,
          null,
          6,
          5,
          null,
          6,
          5,
          null,
          6,
          5,
          null,
          6,
          5,
          null,
          6,
          7,
          null,
          5,
          6,
          null,
          5,
          6,
          null,
          5,
          6,
          null,
          5,
          4,
          null,
          5,
          6,
          null,
          5,
          6,
          null,
          5,
          6,
          null,
          7,
          6,
          null,
          7,
          6,
          null,
          7,
          6,
          null,
          7,
          8,
          null,
          7,
          8,
          null,
          6,
          5,
          null,
          6,
          5,
          null,
          6,
          5,
          null,
          6,
          5,
          null,
          6,
          7,
          null,
          6,
          7,
          null,
          5,
          4,
          null,
          5,
          4,
          null,
          5,
          4,
          null,
          5,
          4,
          null,
          5,
          6,
          null,
          5,
          6,
          null,
          4,
          5,
          null,
          4,
          5,
          null,
          4,
          5,
          null,
          6,
          5,
          null,
          6,
          5,
          null,
          6,
          5,
          null,
          6,
          5,
          null,
          6,
          7,
          null,
          6,
          7,
          null,
          5,
          4,
          null,
          5,
          4,
          null,
          5,
          4,
          null,
          5,
          6,
          null,
          5,
          6,
          null,
          4,
          5,
          null,
          7,
          6,
          null,
          7,
          6,
          null,
          7,
          6,
          null,
          7,
          6,
          null,
          7,
          8,
          null,
          6,
          5,
          null,
          6,
          5,
          null,
          6,
          5,
          null,
          6,
          7,
          null,
          6,
          7,
          null,
          6,
          5,
          null,
          6,
          5,
          null,
          6,
          5,
          null,
          6,
          7,
          null,
          6,
          7,
          null,
          4,
          5,
          null,
          4,
          5,
          null,
          4,
          5,
          null,
          7,
          6,
          null,
          7,
          6,
          null,
          7,
          6,
          null,
          7,
          6,
          null,
          7,
          8,
          null,
          6,
          5,
          null,
          6,
          5,
          null,
          6,
          7,
          null,
          5,
          4,
          null,
          5,
          4,
          null,
          5,
          4,
          null,
          5,
          4,
          null,
          5,
          6,
          null,
          4,
          5,
          null,
          4,
          5,
          null,
          6,
          5,
          null,
          6,
          5,
          null,
          6,
          5,
          null,
          6,
          5,
          null,
          6,
          7,
          null,
          1,
          2,
          null,
          1,
          2,
          null,
          5,
          4,
          null,
          5,
          4,
          null,
          5,
          6,
          null,
          5,
          6,
          null,
          4,
          5,
          null,
          4,
          5,
          null,
          4,
          5,
          null,
          4,
          5,
          null,
          8,
          7,
          null,
          8,
          7,
          null,
          8,
          7,
          null,
          7,
          6,
          null,
          7,
          6,
          null,
          7,
          6,
          null,
          6,
          5,
          null,
          6,
          5,
          null,
          6,
          5,
          null,
          4,
          5,
          null,
          6,
          5,
          null,
          6,
          7,
          null,
          5,
          4,
          null,
          5,
          4,
          null,
          5,
          4,
          null,
          5,
          4,
          null,
          5,
          6,
          null,
          5,
          6,
          null,
          4,
          5,
          null,
          4,
          5,
          null,
          4,
          5,
          null,
          4,
          5,
          null,
          6,
          5,
          null,
          6,
          5,
          null,
          5,
          6,
          null,
          5,
          6,
          null,
          5,
          6,
          null,
          5,
          6,
          null,
          4,
          5,
          null,
          4,
          5,
          null,
          4,
          5,
          null,
          8,
          7,
          null,
          7,
          6,
          null,
          7,
          6,
          null,
          7,
          6,
          null,
          7,
          8,
          null,
          5,
          6,
          null,
          5,
          6,
          null,
          4,
          5,
          null,
          4,
          5,
          null,
          6,
          5,
          null,
          6,
          5,
          null,
          6,
          5,
          null,
          5,
          4,
          null,
          5,
          4,
          null,
          5,
          6,
          null,
          5,
          4,
          null,
          5,
          6,
          null,
          6,
          5,
          null,
          6,
          5,
          null,
          6,
          7,
          null,
          5,
          4,
          null,
          5,
          6,
          null,
          5,
          6,
          null,
          4,
          5,
          null,
          7,
          6,
          null,
          7,
          6,
          null,
          7,
          8,
          null,
          7,
          8,
          null,
          6,
          5,
          null,
          6,
          5,
          null,
          5,
          4,
          null,
          5,
          4,
          null,
          5,
          6,
          null,
          5,
          6,
          null,
          5,
          6,
          null,
          4,
          5,
          null,
          4,
          5,
          null,
          4,
          5,
          null,
          4,
          5,
          null,
          6,
          5,
          null,
          6,
          5,
          null,
          6,
          5,
          null,
          5,
          4,
          null,
          5,
          6,
          null,
          5,
          6,
          null,
          4,
          5,
          null,
          4,
          5,
          null,
          4,
          5,
          null,
          6,
          5,
          null,
          6,
          5,
          null,
          6,
          5,
          null,
          6,
          7,
          null,
          5,
          4,
          null,
          5,
          6,
          null,
          5,
          6,
          null,
          6,
          5,
          null,
          6,
          5,
          null,
          6,
          5,
          null,
          4,
          5,
          null,
          4,
          5,
          null,
          7,
          6,
          null,
          7,
          6,
          null,
          7,
          8,
          null,
          6,
          5,
          null,
          5,
          6,
          null,
          5,
          6,
          null,
          5,
          6,
          null,
          5,
          4,
          null,
          5,
          6,
          null,
          8,
          7,
          null,
          6,
          5,
          null,
          5,
          6,
          null,
          4,
          5,
          null,
          7,
          6,
          null,
          7,
          6,
          null,
          7,
          8,
          null,
          6,
          5,
          null,
          6,
          5,
          null,
          5,
          6,
          null,
          5,
          6,
          null,
          4,
          5,
          null,
          5,
          4,
          null,
          6,
          5,
          null,
          6,
          7,
          null,
          5,
          6,
          null,
          4,
          5,
          null,
          4,
          5,
          null,
          4,
          5,
          null,
          6,
          5,
          null,
          6,
          5,
          null,
          5,
          6,
          null,
          6,
          7,
          null,
          6,
          5,
          null
         ]
        },
        {
         "hoverinfo": "text",
         "hovertext": [
          "Concept 124<br>extent (len: 1320): 4, 7, 8, 11, 26, 43, 66, 67, 73, 74,...<br>intent (len: 6): poutcome_not_success, duration_lt_968, duration_lt_253, month_not_oct, marital_is_married, balance_lt_1384<br>new extent (len: 47): 913, 4519, 2447, 731, 3883, 1195, 3710, 1707, 2075, 3548,...<br>new intent (len: 0): emptyset<br>mean_y_true: 0.02<br>mean_y_pred: 0.0<br>Metrics<br>\taccuracy: 0.99<br>\tprecision: 1.0<br>\trecall: 0.18<br>\tneg_precision: 0.99<br>\tneg_recall: 1.0<br><br>",
          "Concept 133<br>extent (len: 1274): 3, 37, 55, 89, 96, 111, 116, 122, 176, 185,...<br>intent (len: 6): poutcome_not_success, duration_lt_968, month_not_oct, previous_lt_1, housing_is_yes, marital_is_married<br>new extent (len: 110): 3182, 350, 4442, 85, 2682, 2655, 1553, 2285, 3702, 1585,...<br>new intent (len: 0): emptyset<br>mean_y_true: 0.05<br>mean_y_pred: 0.01<br>Metrics<br>\taccuracy: 0.96<br>\tprecision: 0.94<br>\trecall: 0.24<br>\tneg_precision: 0.96<br>\tneg_recall: 1.0<br><br>",
          "Concept 130<br>extent (len: 1127): 4, 7, 8, 11, 26, 43, 66, 67, 73, 74,...<br>intent (len: 6): poutcome_not_success, duration_lt_968, duration_lt_253, previous_lt_1, marital_is_married, balance_lt_1384<br>new extent (len: 9): 737, 160, 2417, 4090, 3311, 2454, 2340, 2750, 2041<br>new intent (len: 0): emptyset<br>mean_y_true: 0.02<br>mean_y_pred: 0.0<br>Metrics<br>\taccuracy: 0.99<br>\tprecision: 0.75<br>\trecall: 0.17<br>\tneg_precision: 0.99<br>\tneg_recall: 1.0<br><br>",
          "Concept 126<br>extent (len: 1318): 3, 37, 55, 89, 96, 111, 116, 122, 176, 185,...<br>intent (len: 6): poutcome_not_success, duration_lt_968, duration_lt_253, month_not_oct, previous_lt_1, housing_is_yes<br>new extent (len: 115): 1878, 3983, 1646, 463, 2038, 3657, 4421, 846, 3485, 3680,...<br>new intent (len: 0): emptyset<br>mean_y_true: 0.01<br>mean_y_pred: 0.0<br>Metrics<br>\taccuracy: 0.99<br>\tprecision: 1.0<br>\trecall: 0.18<br>\tneg_precision: 0.99<br>\tneg_recall: 1.0<br><br>",
          "Concept 10<br>extent (len: 2730): 0, 64, 504, 688, 732, 922, 1196, 2451, 2568, 2687,...<br>intent (len: 2): duration_lt_968, marital_is_married<br>new extent (len: 1): 3931<br>new intent (len: 0): emptyset<br>mean_y_true: 0.09<br>mean_y_pred: 0.05<br>Metrics<br>\taccuracy: 0.95<br>\tprecision: 0.86<br>\trecall: 0.5<br>\tneg_precision: 0.95<br>\tneg_recall: 0.99<br><br>",
          "Concept 132<br>extent (len: 1502): 4, 7, 8, 11, 26, 43, 66, 67, 73, 74,...<br>intent (len: 6): poutcome_not_success, duration_lt_968, month_not_oct, previous_lt_1, housing_is_yes, balance_lt_1384<br>new extent (len: 186): 3320, 279, 4210, 3646, 806, 4192, 486, 2428, 1934, 927,...<br>new intent (len: 0): emptyset<br>mean_y_true: 0.05<br>mean_y_pred: 0.01<br>Metrics<br>\taccuracy: 0.96<br>\tprecision: 0.91<br>\trecall: 0.27<br>\tneg_precision: 0.96<br>\tneg_recall: 1.0<br><br>",
          "Concept 115<br>extent (len: 1208): 4, 7, 8, 11, 26, 43, 66, 67, 73, 74,...<br>intent (len: 5): poutcome_not_success, month_not_oct, housing_is_yes, marital_is_married, balance_lt_1384<br>new extent (len: 5): 369, 2837, 354, 2068, 804<br>new intent (len: 0): emptyset<br>mean_y_true: 0.05<br>mean_y_pred: 0.02<br>Metrics<br>\taccuracy: 0.96<br>\tprecision: 0.87<br>\trecall: 0.4<br>\tneg_precision: 0.97<br>\tneg_recall: 1.0<br><br>",
          "Concept 122<br>extent (len: 1245): 2, 65, 136, 187, 208, 232, 314, 331, 375, 423,...<br>intent (len: 6): poutcome_not_success, duration_lt_968, duration_lt_253, month_not_oct, housing_is_yes, balance_lt_1384<br>new extent (len: 83): 2067, 3380, 4463, 2345, 893, 4191, 4434, 3048, 1073, 3493,...<br>new intent (len: 0): emptyset<br>mean_y_true: 0.02<br>mean_y_pred: 0.0<br>Metrics<br>\taccuracy: 0.99<br>\tprecision: 1.0<br>\trecall: 0.16<br>\tneg_precision: 0.99<br>\tneg_recall: 1.0<br><br>",
          "Concept 0<br>extent (len: 4521): 0, 64, 504, 688, 732, 922, 1196, 2451, 2568, 2687,...<br>intent (len: 0): emptyset<br>new extent (len: 0): emptyset<br>new intent (len: 0): emptyset<br>mean_y_true: 0.12<br>mean_y_pred: 0.08<br>Metrics<br>\taccuracy: 0.94<br>\tprecision: 0.86<br>\trecall: 0.59<br>\tneg_precision: 0.95<br>\tneg_recall: 0.99<br><br>",
          "Concept 18<br>extent (len: 3258): 2, 65, 136, 187, 208, 232, 314, 331, 375, 423,...<br>intent (len: 2): poutcome_not_success, balance_lt_1384<br>new extent (len: 0): emptyset<br>new intent (len: 0): emptyset<br>mean_y_true: 0.09<br>mean_y_pred: 0.06<br>Metrics<br>\taccuracy: 0.95<br>\tprecision: 0.84<br>\trecall: 0.53<br>\tneg_precision: 0.96<br>\tneg_recall: 0.99<br><br>",
          "Concept 134<br>extent (len: 1633): 4, 7, 8, 11, 26, 43, 66, 67, 73, 74,...<br>intent (len: 6): poutcome_not_success, duration_lt_968, month_not_oct, previous_lt_1, marital_is_married, balance_lt_1384<br>new extent (len: 206): 1814, 3178, 1880, 3540, 2412, 1745, 2763, 3080, 4513, 589,...<br>new intent (len: 0): emptyset<br>mean_y_true: 0.05<br>mean_y_pred: 0.02<br>Metrics<br>\taccuracy: 0.96<br>\tprecision: 0.86<br>\trecall: 0.31<br>\tneg_precision: 0.97<br>\tneg_recall: 1.0<br><br>",
          "Concept 120<br>extent (len: 814): 4, 7, 8, 11, 26, 43, 66, 67, 73, 74,...<br>intent (len: 6): duration_lt_968, duration_lt_253, month_not_oct, housing_is_yes, marital_is_married, balance_lt_1384<br>new extent (len: 3): 1421, 1167, 464<br>new intent (len: 0): emptyset<br>mean_y_true: 0.01<br>mean_y_pred: 0.0<br>Metrics<br>\taccuracy: 0.99<br>\tprecision: 1.0<br>\trecall: 0.27<br>\tneg_precision: 0.99<br>\tneg_recall: 1.0<br><br>",
          "Concept 128<br>extent (len: 1008): 4, 7, 8, 11, 26, 43, 66, 67, 73, 74,...<br>intent (len: 6): poutcome_not_success, duration_lt_968, duration_lt_253, previous_lt_1, housing_is_yes, balance_lt_1384<br>new extent (len: 1): 2773<br>new intent (len: 0): emptyset<br>mean_y_true: 0.01<br>mean_y_pred: 0.0<br>Metrics<br>\taccuracy: 0.99<br>\tprecision: 1.0<br>\trecall: 0.23<br>\tneg_precision: 0.99<br>\tneg_recall: 1.0<br><br>",
          "Concept 16<br>extent (len: 2544): 1, 207, 236, 253, 310, 496, 528, 563, 685, 769,...<br>intent (len: 2): month_not_oct, housing_is_yes<br>new extent (len: 0): emptyset<br>new intent (len: 0): emptyset<br>mean_y_true: 0.08<br>mean_y_pred: 0.05<br>Metrics<br>\taccuracy: 0.95<br>\tprecision: 0.91<br>\trecall: 0.5<br>\tneg_precision: 0.96<br>\tneg_recall: 1.0<br><br>",
          "Concept 116<br>extent (len: 1547): 4, 7, 8, 11, 26, 43, 66, 67, 73, 74,...<br>intent (len: 5): poutcome_not_success, month_not_oct, previous_lt_1, housing_is_yes, balance_lt_1384<br>new extent (len: 18): 2274, 4265, 4505, 1333, 3653, 494, 980, 295, 1431, 794,...<br>new intent (len: 0): emptyset<br>mean_y_true: 0.06<br>mean_y_pred: 0.03<br>Metrics<br>\taccuracy: 0.96<br>\tprecision: 0.89<br>\trecall: 0.39<br>\tneg_precision: 0.96<br>\tneg_recall: 1.0<br><br>",
          "Concept 119<br>extent (len: 996): 4, 7, 8, 11, 26, 43, 66, 67, 73, 74,...<br>intent (len: 5): poutcome_not_success, previous_lt_1, housing_is_yes, marital_is_married, balance_lt_1384<br>new extent (len: 0): emptyset<br>new intent (len: 0): emptyset<br>mean_y_true: 0.05<br>mean_y_pred: 0.02<br>Metrics<br>\taccuracy: 0.96<br>\tprecision: 0.81<br>\trecall: 0.35<br>\tneg_precision: 0.97<br>\tneg_recall: 1.0<br><br>",
          "Concept 123<br>extent (len: 1055): 1, 207, 236, 253, 310, 496, 528, 563, 685, 769,...<br>intent (len: 6): poutcome_not_success, duration_lt_968, duration_lt_253, month_not_oct, housing_is_yes, marital_is_married<br>new extent (len: 45): 685, 926, 1521, 496, 3576, 3972, 1535, 3040, 2691, 2764,...<br>new intent (len: 0): emptyset<br>mean_y_true: 0.02<br>mean_y_pred: 0.0<br>Metrics<br>\taccuracy: 0.99<br>\tprecision: 1.0<br>\trecall: 0.18<br>\tneg_precision: 0.99<br>\tneg_recall: 1.0<br><br>",
          "Concept 117<br>extent (len: 1309): 3, 37, 55, 89, 96, 111, 116, 122, 176, 185,...<br>intent (len: 5): poutcome_not_success, month_not_oct, previous_lt_1, housing_is_yes, marital_is_married<br>new extent (len: 8): 3730, 3229, 1959, 2591, 1319, 4342, 3810, 2406<br>new intent (len: 0): emptyset<br>mean_y_true: 0.06<br>mean_y_pred: 0.02<br>Metrics<br>\taccuracy: 0.96<br>\tprecision: 0.9<br>\trecall: 0.36<br>\tneg_precision: 0.96<br>\tneg_recall: 1.0<br><br>",
          "Concept 121<br>extent (len: 817): 4, 7, 8, 11, 26, 43, 66, 67, 73, 74,...<br>intent (len: 6): poutcome_not_success, duration_lt_968, duration_lt_253, housing_is_yes, marital_is_married, balance_lt_1384<br>new extent (len: 3): 3315, 903, 3346<br>new intent (len: 0): emptyset<br>mean_y_true: 0.01<br>mean_y_pred: 0.0<br>Metrics<br>\taccuracy: 0.99<br>\tprecision: 1.0<br>\trecall: 0.17<br>\tneg_precision: 0.99<br>\tneg_recall: 1.0<br><br>",
          "Concept 17<br>extent (len: 2747): 1, 207, 236, 253, 310, 496, 528, 563, 685, 769,...<br>intent (len: 2): month_not_oct, marital_is_married<br>new extent (len: 0): emptyset<br>new intent (len: 0): emptyset<br>mean_y_true: 0.09<br>mean_y_pred: 0.06<br>Metrics<br>\taccuracy: 0.95<br>\tprecision: 0.85<br>\trecall: 0.53<br>\tneg_precision: 0.95<br>\tneg_recall: 0.99<br><br>",
          "Concept 137<br>extent (len: 811): 4, 7, 8, 11, 26, 43, 66, 67, 73, 74,...<br>intent (len: 7): poutcome_not_success, duration_lt_968, duration_lt_253, month_not_oct, housing_is_yes, marital_is_married, balance_lt_1384<br>new extent (len: 158): 212, 482, 3471, 1311, 1020, 3815, 4485, 1621, 3976, 1324,...<br>new intent (len: 0): emptyset<br>mean_y_true: 0.01<br>mean_y_pred: 0.0<br>Metrics<br>\taccuracy: 0.99<br>\tprecision: 1.0<br>\trecall: 0.2<br>\tneg_precision: 0.99<br>\tneg_recall: 1.0<br><br>",
          "Concept 131<br>extent (len: 1176): 4, 7, 8, 11, 26, 43, 66, 67, 73, 74,...<br>intent (len: 6): poutcome_not_success, duration_lt_968, month_not_oct, housing_is_yes, marital_is_married, balance_lt_1384<br>new extent (len: 53): 2971, 663, 2849, 3066, 3922, 3584, 2332, 1386, 3412, 1970,...<br>new intent (len: 0): emptyset<br>mean_y_true: 0.04<br>mean_y_pred: 0.01<br>Metrics<br>\taccuracy: 0.97<br>\tprecision: 0.94<br>\trecall: 0.29<br>\tneg_precision: 0.97<br>\tneg_recall: 1.0<br><br>",
          "Concept 135<br>extent (len: 969): 4, 7, 8, 11, 26, 43, 66, 67, 73, 74,...<br>intent (len: 6): poutcome_not_success, duration_lt_968, previous_lt_1, housing_is_yes, marital_is_married, balance_lt_1384<br>new extent (len: 1): 61<br>new intent (len: 0): emptyset<br>mean_y_true: 0.04<br>mean_y_pred: 0.01<br>Metrics<br>\taccuracy: 0.97<br>\tprecision: 0.8<br>\trecall: 0.22<br>\tneg_precision: 0.97<br>\tneg_recall: 1.0<br><br>",
          "Concept 118<br>extent (len: 1675): 4, 7, 8, 11, 26, 43, 66, 67, 73, 74,...<br>intent (len: 5): poutcome_not_success, month_not_oct, previous_lt_1, marital_is_married, balance_lt_1384<br>new extent (len: 15): 2760, 568, 2827, 1175, 4209, 3123, 2972, 704, 3914, 3152,...<br>new intent (len: 0): emptyset<br>mean_y_true: 0.06<br>mean_y_pred: 0.03<br>Metrics<br>\taccuracy: 0.96<br>\tprecision: 0.8<br>\trecall: 0.43<br>\tneg_precision: 0.96<br>\tneg_recall: 0.99<br><br>",
          "Concept 136<br>extent (len: 992): 4, 7, 8, 11, 26, 43, 66, 67, 73, 74,...<br>intent (len: 6): poutcome_not_success, month_not_oct, previous_lt_1, housing_is_yes, marital_is_married, balance_lt_1384<br>new extent (len: 27): 2202, 4511, 4101, 2748, 1085, 4495, 3074, 4316, 1156, 1047,...<br>new intent (len: 0): emptyset<br>mean_y_true: 0.05<br>mean_y_pred: 0.02<br>Metrics<br>\taccuracy: 0.97<br>\tprecision: 0.85<br>\trecall: 0.36<br>\tneg_precision: 0.97<br>\tneg_recall: 1.0<br><br>",
          "Concept 19<br>extent (len: 4271): 0, 64, 504, 688, 732, 922, 1196, 2451, 2568, 2687,...<br>intent (len: 2): poutcome_not_success, duration_lt_968<br>new extent (len: 2): 1750, 1928<br>new intent (len: 0): emptyset<br>mean_y_true: 0.09<br>mean_y_pred: 0.04<br>Metrics<br>\taccuracy: 0.95<br>\tprecision: 0.87<br>\trecall: 0.45<br>\tneg_precision: 0.95<br>\tneg_recall: 0.99<br><br>",
          "Concept 15<br>extent (len: 3286): 2, 65, 136, 187, 208, 232, 314, 331, 375, 423,...<br>intent (len: 2): month_not_oct, balance_lt_1384<br>new extent (len: 0): emptyset<br>new intent (len: 0): emptyset<br>mean_y_true: 0.1<br>mean_y_pred: 0.07<br>Metrics<br>\taccuracy: 0.95<br>\tprecision: 0.86<br>\trecall: 0.57<br>\tneg_precision: 0.96<br>\tneg_recall: 0.99<br><br>",
          "Concept 129<br>extent (len: 856): 3, 37, 55, 89, 96, 111, 116, 122, 176, 185,...<br>intent (len: 6): poutcome_not_success, duration_lt_968, duration_lt_253, previous_lt_1, housing_is_yes, marital_is_married<br>new extent (len: 1): 1021<br>new intent (len: 0): emptyset<br>mean_y_true: 0.01<br>mean_y_pred: 0.0<br>Metrics<br>\taccuracy: 0.99<br>\tprecision: 1.0<br>\trecall: 0.17<br>\tneg_precision: 0.99<br>\tneg_recall: 1.0<br><br>",
          "Concept 1<br>extent (len: 3337): 2, 65, 136, 187, 208, 232, 314, 331, 375, 423,...<br>intent (len: 1): balance_lt_1384<br>new extent (len: 0): emptyset<br>new intent (len: 1): balance_lt_1384<br>mean_y_true: 0.1<br>mean_y_pred: 0.07<br>Metrics<br>\taccuracy: 0.95<br>\tprecision: 0.85<br>\trecall: 0.59<br>\tneg_precision: 0.95<br>\tneg_recall: 0.99<br><br>",
          "Concept 127<br>extent (len: 1513): 3, 37, 55, 89, 96, 111, 116, 122, 176, 185,...<br>intent (len: 6): poutcome_not_success, duration_lt_968, duration_lt_253, month_not_oct, previous_lt_1, marital_is_married<br>new extent (len: 199): 3495, 94, 740, 1462, 3289, 3801, 2216, 4023, 3186, 1879,...<br>new intent (len: 0): emptyset<br>mean_y_true: 0.02<br>mean_y_pred: 0.0<br>Metrics<br>\taccuracy: 0.98<br>\tprecision: 1.0<br>\trecall: 0.13<br>\tneg_precision: 0.98<br>\tneg_recall: 1.0<br><br>",
          "Concept 125<br>extent (len: 1800): 4, 7, 8, 11, 26, 43, 66, 67, 73, 74,...<br>intent (len: 6): poutcome_not_success, duration_lt_968, duration_lt_253, month_not_oct, previous_lt_1, balance_lt_1384<br>new extent (len: 334): 1977, 3772, 2576, 1352, 668, 817, 1692, 2664, 4354, 4341,...<br>new intent (len: 0): emptyset<br>mean_y_true: 0.02<br>mean_y_pred: 0.0<br>Metrics<br>\taccuracy: 0.98<br>\tprecision: 1.0<br>\trecall: 0.18<br>\tneg_precision: 0.98<br>\tneg_recall: 1.0<br><br>",
          "Concept 141<br>extent (len: 656): 4, 7, 8, 11, 26, 43, 66, 67, 73, 74,...<br>intent (len: 7): poutcome_not_success, duration_lt_968, duration_lt_253, previous_lt_1, housing_is_yes, marital_is_married, balance_lt_1384<br>new extent (len: 3): 2911, 3826, 4092<br>new intent (len: 0): emptyset<br>mean_y_true: 0.01<br>mean_y_pred: 0.0<br>Metrics<br>\taccuracy: 0.99<br>\tprecision: 1.0<br>\trecall: 0.17<br>\tneg_precision: 0.99<br>\tneg_recall: 1.0<br><br>",
          "Concept 66<br>extent (len: 1643): 1, 207, 236, 253, 310, 496, 528, 563, 685, 769,...<br>intent (len: 4): poutcome_not_success, duration_lt_968, duration_lt_253, housing_is_yes<br>new extent (len: 1): 3527<br>new intent (len: 0): emptyset<br>mean_y_true: 0.02<br>mean_y_pred: 0.0<br>Metrics<br>\taccuracy: 0.98<br>\tprecision: 1.0<br>\trecall: 0.24<br>\tneg_precision: 0.98<br>\tneg_recall: 1.0<br><br>",
          "Concept 90<br>extent (len: 820): 4, 7, 8, 11, 26, 43, 66, 67, 73, 74,...<br>intent (len: 5): duration_lt_968, duration_lt_253, housing_is_yes, marital_is_married, balance_lt_1384<br>new extent (len: 0): emptyset<br>new intent (len: 0): emptyset<br>mean_y_true: 0.02<br>mean_y_pred: 0.0<br>Metrics<br>\taccuracy: 0.99<br>\tprecision: 1.0<br>\trecall: 0.23<br>\tneg_precision: 0.99<br>\tneg_recall: 1.0<br><br>",
          "Concept 20<br>extent (len: 2519): 1, 207, 236, 253, 310, 496, 528, 563, 685, 769,...<br>intent (len: 2): poutcome_not_success, housing_is_yes<br>new extent (len: 0): emptyset<br>new intent (len: 0): emptyset<br>mean_y_true: 0.08<br>mean_y_pred: 0.04<br>Metrics<br>\taccuracy: 0.95<br>\tprecision: 0.9<br>\trecall: 0.46<br>\tneg_precision: 0.96<br>\tneg_recall: 1.0<br><br>",
          "Concept 71<br>extent (len: 1562): 1, 207, 236, 253, 310, 496, 528, 563, 685, 769,...<br>intent (len: 4): poutcome_not_success, duration_lt_968, housing_is_yes, marital_is_married<br>new extent (len: 1): 3701<br>new intent (len: 0): emptyset<br>mean_y_true: 0.06<br>mean_y_pred: 0.02<br>Metrics<br>\taccuracy: 0.96<br>\tprecision: 0.91<br>\trecall: 0.34<br>\tneg_precision: 0.96<br>\tneg_recall: 1.0<br><br>",
          "Concept 91<br>extent (len: 1251): 2, 65, 136, 187, 208, 232, 314, 331, 375, 423,...<br>intent (len: 5): duration_lt_968, duration_lt_253, month_not_oct, housing_is_yes, balance_lt_1384<br>new extent (len: 3): 1736, 2176, 3281<br>new intent (len: 0): emptyset<br>mean_y_true: 0.02<br>mean_y_pred: 0.0<br>Metrics<br>\taccuracy: 0.99<br>\tprecision: 1.0<br>\trecall: 0.27<br>\tneg_precision: 0.99<br>\tneg_recall: 1.0<br><br>",
          "Concept 26<br>extent (len: 1854): 0, 64, 504, 688, 732, 922, 1196, 2451, 2568, 2687,...<br>intent (len: 3): duration_lt_968, duration_lt_253, marital_is_married<br>new extent (len: 1): 1303<br>new intent (len: 0): emptyset<br>mean_y_true: 0.04<br>mean_y_pred: 0.02<br>Metrics<br>\taccuracy: 0.98<br>\tprecision: 0.85<br>\trecall: 0.41<br>\tneg_precision: 0.98<br>\tneg_recall: 1.0<br><br>",
          "Concept 60<br>extent (len: 1197): 4, 7, 8, 11, 26, 43, 66, 67, 73, 74,...<br>intent (len: 4): duration_lt_968, housing_is_yes, marital_is_married, balance_lt_1384<br>new extent (len: 0): emptyset<br>new intent (len: 0): emptyset<br>mean_y_true: 0.05<br>mean_y_pred: 0.02<br>Metrics<br>\taccuracy: 0.97<br>\tprecision: 0.89<br>\trecall: 0.39<br>\tneg_precision: 0.97<br>\tneg_recall: 1.0<br><br>",
          "Concept 97<br>extent (len: 1336): 4, 7, 8, 11, 26, 43, 66, 67, 73, 74,...<br>intent (len: 5): poutcome_not_success, duration_lt_968, duration_lt_253, marital_is_married, balance_lt_1384<br>new extent (len: 1): 1106<br>new intent (len: 0): emptyset<br>mean_y_true: 0.02<br>mean_y_pred: 0.01<br>Metrics<br>\taccuracy: 0.98<br>\tprecision: 0.86<br>\trecall: 0.22<br>\tneg_precision: 0.98<br>\tneg_recall: 1.0<br><br>",
          "Concept 36<br>extent (len: 1616): 1, 207, 236, 253, 310, 496, 528, 563, 685, 769,...<br>intent (len: 3): month_not_oct, housing_is_yes, marital_is_married<br>new extent (len: 0): emptyset<br>new intent (len: 0): emptyset<br>mean_y_true: 0.07<br>mean_y_pred: 0.04<br>Metrics<br>\taccuracy: 0.96<br>\tprecision: 0.91<br>\trecall: 0.49<br>\tneg_precision: 0.96<br>\tneg_recall: 1.0<br><br>",
          "Concept 140<br>extent (len: 1115): 4, 7, 8, 11, 26, 43, 66, 67, 73, 74,...<br>intent (len: 7): poutcome_not_success, duration_lt_968, duration_lt_253, month_not_oct, previous_lt_1, marital_is_married, balance_lt_1384<br>new extent (len: 462): 1389, 745, 2677, 1404, 1184, 3138, 3206, 3201, 4146, 3143,...<br>new intent (len: 0): emptyset<br>mean_y_true: 0.01<br>mean_y_pred: 0.0<br>Metrics<br>\taccuracy: 0.99<br>\tprecision: 1.0<br>\trecall: 0.07<br>\tneg_precision: 0.99<br>\tneg_recall: 1.0<br><br>",
          "Concept 73<br>extent (len: 3121): 2, 65, 136, 187, 208, 232, 314, 331, 375, 423,...<br>intent (len: 4): poutcome_not_success, duration_lt_968, month_not_oct, balance_lt_1384<br>new extent (len: 12): 3588, 4465, 798, 3297, 1904, 1391, 849, 765, 4053, 3317,...<br>new intent (len: 0): emptyset<br>mean_y_true: 0.07<br>mean_y_pred: 0.03<br>Metrics<br>\taccuracy: 0.95<br>\tprecision: 0.86<br>\trecall: 0.41<br>\tneg_precision: 0.96<br>\tneg_recall: 1.0<br><br>",
          "Concept 112<br>extent (len: 1507): 4, 7, 8, 11, 26, 43, 66, 67, 73, 74,...<br>intent (len: 5): poutcome_not_success, duration_lt_968, previous_lt_1, housing_is_yes, balance_lt_1384<br>new extent (len: 0): emptyset<br>new intent (len: 0): emptyset<br>mean_y_true: 0.05<br>mean_y_pred: 0.02<br>Metrics<br>\taccuracy: 0.96<br>\tprecision: 0.88<br>\trecall: 0.28<br>\tneg_precision: 0.96<br>\tneg_recall: 1.0<br><br>",
          "Concept 8<br>extent (len: 2940): 0, 64, 504, 688, 732, 922, 1196, 2451, 2568, 2687,...<br>intent (len: 2): duration_lt_968, duration_lt_253<br>new extent (len: 0): emptyset<br>new intent (len: 1): duration_lt_253<br>mean_y_true: 0.04<br>mean_y_pred: 0.02<br>Metrics<br>\taccuracy: 0.97<br>\tprecision: 0.86<br>\trecall: 0.42<br>\tneg_precision: 0.98<br>\tneg_recall: 1.0<br><br>",
          "Concept 31<br>extent (len: 3189): 2, 65, 136, 187, 208, 232, 314, 331, 375, 423,...<br>intent (len: 3): duration_lt_968, month_not_oct, balance_lt_1384<br>new extent (len: 10): 880, 4458, 3684, 684, 3498, 855, 4323, 1485, 2675, 3385<br>new intent (len: 0): emptyset<br>mean_y_true: 0.08<br>mean_y_pred: 0.05<br>Metrics<br>\taccuracy: 0.95<br>\tprecision: 0.87<br>\trecall: 0.5<br>\tneg_precision: 0.96<br>\tneg_recall: 0.99<br><br>",
          "Concept 138<br>extent (len: 1004): 4, 7, 8, 11, 26, 43, 66, 67, 73, 74,...<br>intent (len: 7): poutcome_not_success, duration_lt_968, duration_lt_253, month_not_oct, previous_lt_1, housing_is_yes, balance_lt_1384<br>new extent (len: 351): 225, 1420, 268, 2841, 3016, 4246, 1861, 3353, 3539, 4222,...<br>new intent (len: 0): emptyset<br>mean_y_true: 0.01<br>mean_y_pred: 0.0<br>Metrics<br>\taccuracy: 0.99<br>\tprecision: 1.0<br>\trecall: 0.18<br>\tneg_precision: 0.99<br>\tneg_recall: 1.0<br><br>",
          "Concept 56<br>extent (len: 1358): 4, 7, 8, 11, 26, 43, 66, 67, 73, 74,...<br>intent (len: 4): duration_lt_968, duration_lt_253, marital_is_married, balance_lt_1384<br>new extent (len: 2): 1124, 338<br>new intent (len: 0): emptyset<br>mean_y_true: 0.03<br>mean_y_pred: 0.01<br>Metrics<br>\taccuracy: 0.98<br>\tprecision: 0.82<br>\trecall: 0.38<br>\tneg_precision: 0.98<br>\tneg_recall: 1.0<br><br>",
          "Concept 107<br>extent (len: 1553): 1, 207, 236, 253, 310, 496, 528, 563, 685, 769,...<br>intent (len: 5): poutcome_not_success, duration_lt_968, month_not_oct, housing_is_yes, marital_is_married<br>new extent (len: 23): 1112, 3239, 2540, 1510, 1600, 2037, 4107, 1989, 2745, 3236,...<br>new intent (len: 0): emptyset<br>mean_y_true: 0.06<br>mean_y_pred: 0.02<br>Metrics<br>\taccuracy: 0.96<br>\tprecision: 0.97<br>\trecall: 0.34<br>\tneg_precision: 0.96<br>\tneg_recall: 1.0<br><br>",
          "Concept 33<br>extent (len: 2681): 1, 207, 236, 253, 310, 496, 528, 563, 685, 769,...<br>intent (len: 3): duration_lt_968, month_not_oct, marital_is_married<br>new extent (len: 11): 3202, 477, 2049, 4215, 492, 2070, 347, 1980, 3589, 3586,...<br>new intent (len: 0): emptyset<br>mean_y_true: 0.08<br>mean_y_pred: 0.05<br>Metrics<br>\taccuracy: 0.95<br>\tprecision: 0.88<br>\trecall: 0.48<br>\tneg_precision: 0.95<br>\tneg_recall: 0.99<br><br>",
          "Concept 82<br>extent (len: 1596): 1, 207, 236, 253, 310, 496, 528, 563, 685, 769,...<br>intent (len: 4): poutcome_not_success, month_not_oct, housing_is_yes, marital_is_married<br>new extent (len: 3): 1719, 823, 2968<br>new intent (len: 0): emptyset<br>mean_y_true: 0.07<br>mean_y_pred: 0.03<br>Metrics<br>\taccuracy: 0.96<br>\tprecision: 0.92<br>\trecall: 0.44<br>\tneg_precision: 0.96<br>\tneg_recall: 1.0<br><br>",
          "Concept 88<br>extent (len: 1314): 3, 37, 55, 89, 96, 111, 116, 122, 176, 185,...<br>intent (len: 4): poutcome_not_success, previous_lt_1, housing_is_yes, marital_is_married<br>new extent (len: 0): emptyset<br>new intent (len: 0): emptyset<br>mean_y_true: 0.06<br>mean_y_pred: 0.03<br>Metrics<br>\taccuracy: 0.96<br>\tprecision: 0.88<br>\trecall: 0.36<br>\tneg_precision: 0.96<br>\tneg_recall: 1.0<br><br>",
          "Concept 13<br>extent (len: 1625): 1, 207, 236, 253, 310, 496, 528, 563, 685, 769,...<br>intent (len: 2): housing_is_yes, marital_is_married<br>new extent (len: 0): emptyset<br>new intent (len: 0): emptyset<br>mean_y_true: 0.08<br>mean_y_pred: 0.04<br>Metrics<br>\taccuracy: 0.96<br>\tprecision: 0.88<br>\trecall: 0.48<br>\tneg_precision: 0.96<br>\tneg_recall: 0.99<br><br>",
          "Concept 50<br>extent (len: 3658): 3, 37, 55, 89, 96, 111, 116, 122, 176, 185,...<br>intent (len: 3): poutcome_not_success, month_not_oct, previous_lt_1<br>new extent (len: 4): 2980, 1300, 2140, 3813<br>new intent (len: 0): emptyset<br>mean_y_true: 0.09<br>mean_y_pred: 0.05<br>Metrics<br>\taccuracy: 0.95<br>\tprecision: 0.85<br>\trecall: 0.46<br>\tneg_precision: 0.95<br>\tneg_recall: 0.99<br><br>",
          "Concept 69<br>extent (len: 2428): 0, 64, 504, 688, 732, 922, 1196, 2451, 2568, 2687,...<br>intent (len: 4): poutcome_not_success, duration_lt_968, duration_lt_253, previous_lt_1<br>new extent (len: 1): 2022<br>new intent (len: 0): emptyset<br>mean_y_true: 0.03<br>mean_y_pred: 0.01<br>Metrics<br>\taccuracy: 0.98<br>\tprecision: 0.89<br>\trecall: 0.25<br>\tneg_precision: 0.98<br>\tneg_recall: 1.0<br><br>",
          "Concept 99<br>extent (len: 1633): 1, 207, 236, 253, 310, 496, 528, 563, 685, 769,...<br>intent (len: 5): poutcome_not_success, duration_lt_968, duration_lt_253, month_not_oct, housing_is_yes<br>new extent (len: 29): 647, 1951, 2002, 650, 1478, 3272, 2255, 1136, 2215, 367,...<br>new intent (len: 0): emptyset<br>mean_y_true: 0.02<br>mean_y_pred: 0.0<br>Metrics<br>\taccuracy: 0.99<br>\tprecision: 1.0<br>\trecall: 0.21<br>\tneg_precision: 0.99<br>\tneg_recall: 1.0<br><br>",
          "Concept 42<br>extent (len: 4203): 1, 207, 236, 253, 310, 496, 528, 563, 685, 769,...<br>intent (len: 3): poutcome_not_success, duration_lt_968, month_not_oct<br>new extent (len: 13): 2963, 2471, 4054, 4332, 1698, 2104, 3889, 623, 2851, 301,...<br>new intent (len: 0): emptyset<br>mean_y_true: 0.08<br>mean_y_pred: 0.04<br>Metrics<br>\taccuracy: 0.95<br>\tprecision: 0.88<br>\trecall: 0.42<br>\tneg_precision: 0.95<br>\tneg_recall: 1.0<br><br>",
          "Concept 67<br>extent (len: 1816): 0, 64, 504, 688, 732, 922, 1196, 2451, 2568, 2687,...<br>intent (len: 4): poutcome_not_success, duration_lt_968, duration_lt_253, marital_is_married<br>new extent (len: 1): 822<br>new intent (len: 0): emptyset<br>mean_y_true: 0.03<br>mean_y_pred: 0.01<br>Metrics<br>\taccuracy: 0.98<br>\tprecision: 0.92<br>\trecall: 0.24<br>\tneg_precision: 0.98<br>\tneg_recall: 1.0<br><br>",
          "Concept 96<br>extent (len: 1062): 1, 207, 236, 253, 310, 496, 528, 563, 685, 769,...<br>intent (len: 5): poutcome_not_success, duration_lt_968, duration_lt_253, housing_is_yes, marital_is_married<br>new extent (len: 0): emptyset<br>new intent (len: 0): emptyset<br>mean_y_true: 0.02<br>mean_y_pred: 0.0<br>Metrics<br>\taccuracy: 0.98<br>\tprecision: 1.0<br>\trecall: 0.2<br>\tneg_precision: 0.98<br>\tneg_recall: 1.0<br><br>",
          "Concept 12<br>extent (len: 1932): 2, 65, 136, 187, 208, 232, 314, 331, 375, 423,...<br>intent (len: 2): housing_is_yes, balance_lt_1384<br>new extent (len: 0): emptyset<br>new intent (len: 0): emptyset<br>mean_y_true: 0.08<br>mean_y_pred: 0.04<br>Metrics<br>\taccuracy: 0.95<br>\tprecision: 0.88<br>\trecall: 0.48<br>\tneg_precision: 0.96<br>\tneg_recall: 0.99<br><br>",
          "Concept 28<br>extent (len: 1874): 2, 65, 136, 187, 208, 232, 314, 331, 375, 423,...<br>intent (len: 3): duration_lt_968, housing_is_yes, balance_lt_1384<br>new extent (len: 0): emptyset<br>new intent (len: 0): emptyset<br>mean_y_true: 0.06<br>mean_y_pred: 0.03<br>Metrics<br>\taccuracy: 0.96<br>\tprecision: 0.9<br>\trecall: 0.39<br>\tneg_precision: 0.96<br>\tneg_recall: 1.0<br><br>",
          "Concept 53<br>extent (len: 2305): 0, 64, 504, 688, 732, 922, 1196, 2451, 2568, 2687,...<br>intent (len: 3): poutcome_not_success, previous_lt_1, marital_is_married<br>new extent (len: 0): emptyset<br>new intent (len: 0): emptyset<br>mean_y_true: 0.07<br>mean_y_pred: 0.04<br>Metrics<br>\taccuracy: 0.95<br>\tprecision: 0.82<br>\trecall: 0.41<br>\tneg_precision: 0.95<br>\tneg_recall: 0.99<br><br>",
          "Concept 105<br>extent (len: 1183): 4, 7, 8, 11, 26, 43, 66, 67, 73, 74,...<br>intent (len: 5): poutcome_not_success, duration_lt_968, housing_is_yes, marital_is_married, balance_lt_1384<br>new extent (len: 0): emptyset<br>new intent (len: 0): emptyset<br>mean_y_true: 0.04<br>mean_y_pred: 0.01<br>Metrics<br>\taccuracy: 0.97<br>\tprecision: 0.88<br>\trecall: 0.28<br>\tneg_precision: 0.97<br>\tneg_recall: 1.0<br><br>",
          "Concept 14<br>extent (len: 2044): 4, 7, 8, 11, 26, 43, 66, 67, 73, 74,...<br>intent (len: 2): marital_is_married, balance_lt_1384<br>new extent (len: 0): emptyset<br>new intent (len: 0): emptyset<br>mean_y_true: 0.09<br>mean_y_pred: 0.06<br>Metrics<br>\taccuracy: 0.95<br>\tprecision: 0.83<br>\trecall: 0.57<br>\tneg_precision: 0.96<br>\tneg_recall: 0.99<br><br>",
          "Concept 30<br>extent (len: 1992): 4, 7, 8, 11, 26, 43, 66, 67, 73, 74,...<br>intent (len: 3): duration_lt_968, marital_is_married, balance_lt_1384<br>new extent (len: 4): 1186, 1437, 4216, 3250<br>new intent (len: 0): emptyset<br>mean_y_true: 0.08<br>mean_y_pred: 0.05<br>Metrics<br>\taccuracy: 0.96<br>\tprecision: 0.87<br>\trecall: 0.52<br>\tneg_precision: 0.96<br>\tneg_recall: 0.99<br><br>",
          "Concept 76<br>extent (len: 3558): 3, 37, 55, 89, 96, 111, 116, 122, 176, 185,...<br>intent (len: 4): poutcome_not_success, duration_lt_968, month_not_oct, previous_lt_1<br>new extent (len: 59): 4211, 1211, 877, 2562, 2010, 2480, 4364, 3820, 3364, 1738,...<br>new intent (len: 0): emptyset<br>mean_y_true: 0.07<br>mean_y_pred: 0.03<br>Metrics<br>\taccuracy: 0.95<br>\tprecision: 0.86<br>\trecall: 0.37<br>\tneg_precision: 0.95<br>\tneg_recall: 1.0<br><br>",
          "Concept 102<br>extent (len: 1819): 4, 7, 8, 11, 26, 43, 66, 67, 73, 74,...<br>intent (len: 5): poutcome_not_success, duration_lt_968, duration_lt_253, previous_lt_1, balance_lt_1384<br>new extent (len: 6): 36, 3425, 1088, 1158, 1529, 3933<br>new intent (len: 0): emptyset<br>mean_y_true: 0.02<br>mean_y_pred: 0.01<br>Metrics<br>\taccuracy: 0.98<br>\tprecision: 0.91<br>\trecall: 0.26<br>\tneg_precision: 0.98<br>\tneg_recall: 1.0<br><br>",
          "Concept 46<br>extent (len: 1991): 4, 7, 8, 11, 26, 43, 66, 67, 73, 74,...<br>intent (len: 3): poutcome_not_success, marital_is_married, balance_lt_1384<br>new extent (len: 0): emptyset<br>new intent (len: 0): emptyset<br>mean_y_true: 0.07<br>mean_y_pred: 0.04<br>Metrics<br>\taccuracy: 0.96<br>\tprecision: 0.83<br>\trecall: 0.48<br>\tneg_precision: 0.96<br>\tneg_recall: 0.99<br><br>",
          "Concept 143<br>extent (len: 653): 4, 7, 8, 11, 26, 43, 66, 67, 73, 74,...<br>intent (len: 8): poutcome_not_success, duration_lt_968, duration_lt_253, month_not_oct, previous_lt_1, housing_is_yes, marital_is_married, balance_lt_1384<br>new extent (len: 653): 2008, 2528, 184, 2488, 1627, 847, 1589, 2084, 4285, 43,...<br>new intent (len: 0): emptyset<br>mean_y_true: 0.01<br>mean_y_pred: 0.0<br>Metrics<br>\taccuracy: 0.99<br>\tprecision: 1.0<br>\trecall: 0.2<br>\tneg_precision: 0.99<br>\tneg_recall: 1.0<br><br>",
          "Concept 57<br>extent (len: 2154): 2, 65, 136, 187, 208, 232, 314, 331, 375, 423,...<br>intent (len: 4): duration_lt_968, duration_lt_253, month_not_oct, balance_lt_1384<br>new extent (len: 4): 3835, 3370, 3874, 2539<br>new intent (len: 0): emptyset<br>mean_y_true: 0.03<br>mean_y_pred: 0.01<br>Metrics<br>\taccuracy: 0.98<br>\tprecision: 0.88<br>\trecall: 0.36<br>\tneg_precision: 0.98<br>\tneg_recall: 1.0<br><br>",
          "Concept 94<br>extent (len: 1190): 4, 7, 8, 11, 26, 43, 66, 67, 73, 74,...<br>intent (len: 5): duration_lt_968, month_not_oct, housing_is_yes, marital_is_married, balance_lt_1384<br>new extent (len: 11): 941, 2699, 186, 3843, 1905, 2055, 4433, 1342, 1862, 555,...<br>new intent (len: 0): emptyset<br>mean_y_true: 0.05<br>mean_y_pred: 0.02<br>Metrics<br>\taccuracy: 0.97<br>\tprecision: 0.92<br>\trecall: 0.4<br>\tneg_precision: 0.97<br>\tneg_recall: 1.0<br><br>",
          "Concept 6<br>extent (len: 4392): 0, 64, 504, 688, 732, 922, 1196, 2451, 2568, 2687,...<br>intent (len: 1): poutcome_not_success<br>new extent (len: 0): emptyset<br>new intent (len: 1): poutcome_not_success<br>mean_y_true: 0.1<br>mean_y_pred: 0.06<br>Metrics<br>\taccuracy: 0.94<br>\tprecision: 0.86<br>\trecall: 0.52<br>\tneg_precision: 0.95<br>\tneg_recall: 0.99<br><br>",
          "Concept 23<br>extent (len: 3705): 0, 64, 504, 688, 732, 922, 1196, 2451, 2568, 2687,...<br>intent (len: 2): poutcome_not_success, previous_lt_1<br>new extent (len: 0): emptyset<br>new intent (len: 1): previous_lt_1<br>mean_y_true: 0.09<br>mean_y_pred: 0.05<br>Metrics<br>\taccuracy: 0.94<br>\tprecision: 0.84<br>\trecall: 0.48<br>\tneg_precision: 0.95<br>\tneg_recall: 0.99<br><br>",
          "Concept 52<br>extent (len: 2043): 3, 37, 55, 89, 96, 111, 116, 122, 176, 185,...<br>intent (len: 3): poutcome_not_success, previous_lt_1, housing_is_yes<br>new extent (len: 0): emptyset<br>new intent (len: 0): emptyset<br>mean_y_true: 0.07<br>mean_y_pred: 0.03<br>Metrics<br>\taccuracy: 0.96<br>\tprecision: 0.91<br>\trecall: 0.41<br>\tneg_precision: 0.96<br>\tneg_recall: 1.0<br><br>",
          "Concept 103<br>extent (len: 1323): 3, 37, 55, 89, 96, 111, 116, 122, 176, 185,...<br>intent (len: 5): poutcome_not_success, duration_lt_968, duration_lt_253, previous_lt_1, housing_is_yes<br>new extent (len: 0): emptyset<br>new intent (len: 0): emptyset<br>mean_y_true: 0.02<br>mean_y_pred: 0.0<br>Metrics<br>\taccuracy: 0.99<br>\tprecision: 1.0<br>\trecall: 0.25<br>\tneg_precision: 0.99<br>\tneg_recall: 1.0<br><br>",
          "Concept 45<br>extent (len: 1605): 1, 207, 236, 253, 310, 496, 528, 563, 685, 769,...<br>intent (len: 3): poutcome_not_success, housing_is_yes, marital_is_married<br>new extent (len: 0): emptyset<br>new intent (len: 0): emptyset<br>mean_y_true: 0.07<br>mean_y_pred: 0.03<br>Metrics<br>\taccuracy: 0.96<br>\tprecision: 0.89<br>\trecall: 0.43<br>\tneg_precision: 0.96<br>\tneg_recall: 1.0<br><br>",
          "Concept 79<br>extent (len: 2250): 0, 64, 504, 688, 732, 922, 1196, 2451, 2568, 2687,...<br>intent (len: 4): poutcome_not_success, duration_lt_968, previous_lt_1, marital_is_married<br>new extent (len: 0): emptyset<br>new intent (len: 0): emptyset<br>mean_y_true: 0.06<br>mean_y_pred: 0.02<br>Metrics<br>\taccuracy: 0.95<br>\tprecision: 0.85<br>\trecall: 0.32<br>\tneg_precision: 0.96<br>\tneg_recall: 1.0<br><br>",
          "Concept 106<br>extent (len: 1841): 2, 65, 136, 187, 208, 232, 314, 331, 375, 423,...<br>intent (len: 5): poutcome_not_success, duration_lt_968, month_not_oct, housing_is_yes, balance_lt_1384<br>new extent (len: 45): 3951, 881, 4042, 4312, 1863, 3674, 390, 1193, 124, 1345,...<br>new intent (len: 0): emptyset<br>mean_y_true: 0.06<br>mean_y_pred: 0.02<br>Metrics<br>\taccuracy: 0.96<br>\tprecision: 0.91<br>\trecall: 0.31<br>\tneg_precision: 0.96<br>\tneg_recall: 1.0<br><br>",
          "Concept 34<br>extent (len: 1229): 4, 7, 8, 11, 26, 43, 66, 67, 73, 74,...<br>intent (len: 3): housing_is_yes, marital_is_married, balance_lt_1384<br>new extent (len: 0): emptyset<br>new intent (len: 0): emptyset<br>mean_y_true: 0.06<br>mean_y_pred: 0.03<br>Metrics<br>\taccuracy: 0.96<br>\tprecision: 0.85<br>\trecall: 0.46<br>\tneg_precision: 0.97<br>\tneg_recall: 0.99<br><br>",
          "Concept 81<br>extent (len: 1898): 2, 65, 136, 187, 208, 232, 314, 331, 375, 423,...<br>intent (len: 4): poutcome_not_success, month_not_oct, housing_is_yes, balance_lt_1384<br>new extent (len: 7): 2653, 203, 2013, 1411, 3379, 3141, 2714<br>new intent (len: 0): emptyset<br>mean_y_true: 0.07<br>mean_y_pred: 0.03<br>Metrics<br>\taccuracy: 0.96<br>\tprecision: 0.88<br>\trecall: 0.42<br>\tneg_precision: 0.96<br>\tneg_recall: 1.0<br><br>",
          "Concept 100<br>extent (len: 1786): 1, 207, 236, 253, 310, 496, 528, 563, 685, 769,...<br>intent (len: 5): poutcome_not_success, duration_lt_968, duration_lt_253, month_not_oct, marital_is_married<br>new extent (len: 23): 629, 2776, 3377, 1805, 2832, 1547, 1122, 1591, 1077, 631,...<br>new intent (len: 0): emptyset<br>mean_y_true: 0.02<br>mean_y_pred: 0.0<br>Metrics<br>\taccuracy: 0.98<br>\tprecision: 1.0<br>\trecall: 0.19<br>\tneg_precision: 0.98<br>\tneg_recall: 1.0<br><br>",
          "Concept 4<br>extent (len: 2797): 0, 64, 504, 688, 732, 922, 1196, 2451, 2568, 2687,...<br>intent (len: 1): marital_is_married<br>new extent (len: 0): emptyset<br>new intent (len: 1): marital_is_married<br>mean_y_true: 0.1<br>mean_y_pred: 0.06<br>Metrics<br>\taccuracy: 0.95<br>\tprecision: 0.84<br>\trecall: 0.55<br>\tneg_precision: 0.95<br>\tneg_recall: 0.99<br><br>",
          "Concept 22<br>extent (len: 4323): 1, 207, 236, 253, 310, 496, 528, 563, 685, 769,...<br>intent (len: 2): poutcome_not_success, month_not_oct<br>new extent (len: 0): emptyset<br>new intent (len: 0): emptyset<br>mean_y_true: 0.09<br>mean_y_pred: 0.05<br>Metrics<br>\taccuracy: 0.95<br>\tprecision: 0.87<br>\trecall: 0.5<br>\tneg_precision: 0.95<br>\tneg_recall: 0.99<br><br>",
          "Concept 61<br>extent (len: 1863): 2, 65, 136, 187, 208, 232, 314, 331, 375, 423,...<br>intent (len: 4): duration_lt_968, month_not_oct, housing_is_yes, balance_lt_1384<br>new extent (len: 5): 3714, 3890, 200, 4459, 233<br>new intent (len: 0): emptyset<br>mean_y_true: 0.06<br>mean_y_pred: 0.03<br>Metrics<br>\taccuracy: 0.96<br>\tprecision: 0.92<br>\trecall: 0.39<br>\tneg_precision: 0.96<br>\tneg_recall: 1.0<br><br>",
          "Concept 98<br>extent (len: 2127): 2, 65, 136, 187, 208, 232, 314, 331, 375, 423,...<br>intent (len: 5): poutcome_not_success, duration_lt_968, duration_lt_253, month_not_oct, balance_lt_1384<br>new extent (len: 39): 3682, 1875, 3869, 5, 1915, 2915, 2900, 2242, 651, 891,...<br>new intent (len: 0): emptyset<br>mean_y_true: 0.02<br>mean_y_pred: 0.0<br>Metrics<br>\taccuracy: 0.98<br>\tprecision: 1.0<br>\trecall: 0.21<br>\tneg_precision: 0.98<br>\tneg_recall: 1.0<br><br>",
          "Concept 37<br>extent (len: 2011): 4, 7, 8, 11, 26, 43, 66, 67, 73, 74,...<br>intent (len: 3): month_not_oct, marital_is_married, balance_lt_1384<br>new extent (len: 1): 328<br>new intent (len: 0): emptyset<br>mean_y_true: 0.08<br>mean_y_pred: 0.05<br>Metrics<br>\taccuracy: 0.96<br>\tprecision: 0.85<br>\trecall: 0.54<br>\tneg_precision: 0.96<br>\tneg_recall: 0.99<br><br>",
          "Concept 59<br>extent (len: 1821): 1, 207, 236, 253, 310, 496, 528, 563, 685, 769,...<br>intent (len: 4): duration_lt_968, duration_lt_253, month_not_oct, marital_is_married<br>new extent (len: 10): 3005, 199, 619, 2969, 2583, 3978, 1442, 2847, 1056, 984<br>new intent (len: 0): emptyset<br>mean_y_true: 0.03<br>mean_y_pred: 0.01<br>Metrics<br>\taccuracy: 0.98<br>\tprecision: 0.85<br>\trecall: 0.38<br>\tneg_precision: 0.98<br>\tneg_recall: 1.0<br><br>",
          "Concept 89<br>extent (len: 1693): 4, 7, 8, 11, 26, 43, 66, 67, 73, 74,...<br>intent (len: 4): poutcome_not_success, previous_lt_1, marital_is_married, balance_lt_1384<br>new extent (len: 1): 1903<br>new intent (len: 0): emptyset<br>mean_y_true: 0.06<br>mean_y_pred: 0.04<br>Metrics<br>\taccuracy: 0.96<br>\tprecision: 0.79<br>\trecall: 0.45<br>\tneg_precision: 0.96<br>\tneg_recall: 0.99<br><br>",
          "Concept 29<br>extent (len: 1582): 1, 207, 236, 253, 310, 496, 528, 563, 685, 769,...<br>intent (len: 3): duration_lt_968, housing_is_yes, marital_is_married<br>new extent (len: 0): emptyset<br>new intent (len: 0): emptyset<br>mean_y_true: 0.06<br>mean_y_pred: 0.03<br>Metrics<br>\taccuracy: 0.96<br>\tprecision: 0.89<br>\trecall: 0.41<br>\tneg_precision: 0.96<br>\tneg_recall: 1.0<br><br>",
          "Concept 104<br>extent (len: 1538): 0, 64, 504, 688, 732, 922, 1196, 2451, 2568, 2687,...<br>intent (len: 5): poutcome_not_success, duration_lt_968, duration_lt_253, previous_lt_1, marital_is_married<br>new extent (len: 12): 3251, 922, 2568, 1196, 688, 3700, 2451, 504, 2687, 64,...<br>new intent (len: 0): emptyset<br>mean_y_true: 0.02<br>mean_y_pred: 0.01<br>Metrics<br>\taccuracy: 0.98<br>\tprecision: 0.89<br>\trecall: 0.22<br>\tneg_precision: 0.98<br>\tneg_recall: 1.0<br><br>",
          "Concept 68<br>extent (len: 2840): 1, 207, 236, 253, 310, 496, 528, 563, 685, 769,...<br>intent (len: 4): poutcome_not_success, duration_lt_968, duration_lt_253, month_not_oct<br>new extent (len: 21): 3765, 1764, 2529, 4055, 3656, 1870, 4152, 1355, 713, 1276,...<br>new intent (len: 0): emptyset<br>mean_y_true: 0.03<br>mean_y_pred: 0.01<br>Metrics<br>\taccuracy: 0.98<br>\tprecision: 1.0<br>\trecall: 0.23<br>\tneg_precision: 0.98<br>\tneg_recall: 1.0<br><br>",
          "Concept 93<br>extent (len: 1340): 4, 7, 8, 11, 26, 43, 66, 67, 73, 74,...<br>intent (len: 5): duration_lt_968, duration_lt_253, month_not_oct, marital_is_married, balance_lt_1384<br>new extent (len: 17): 4186, 3027, 2266, 3256, 3751, 3519, 2251, 4224, 289, 323,...<br>new intent (len: 0): emptyset<br>mean_y_true: 0.02<br>mean_y_pred: 0.01<br>Metrics<br>\taccuracy: 0.98<br>\tprecision: 0.85<br>\trecall: 0.35<br>\tneg_precision: 0.98<br>\tneg_recall: 1.0<br><br>",
          "Concept 11<br>extent (len: 4318): 1, 207, 236, 253, 310, 496, 528, 563, 685, 769,...<br>intent (len: 2): duration_lt_968, month_not_oct<br>new extent (len: 6): 1166, 110, 98, 1754, 3176, 4093<br>new intent (len: 0): emptyset<br>mean_y_true: 0.1<br>mean_y_pred: 0.06<br>Metrics<br>\taccuracy: 0.95<br>\tprecision: 0.88<br>\trecall: 0.51<br>\tneg_precision: 0.95<br>\tneg_recall: 0.99<br><br>",
          "Concept 47<br>extent (len: 3216): 2, 65, 136, 187, 208, 232, 314, 331, 375, 423,...<br>intent (len: 3): poutcome_not_success, month_not_oct, balance_lt_1384<br>new extent (len: 0): emptyset<br>new intent (len: 0): emptyset<br>mean_y_true: 0.08<br>mean_y_pred: 0.05<br>Metrics<br>\taccuracy: 0.95<br>\tprecision: 0.84<br>\trecall: 0.51<br>\tneg_precision: 0.96<br>\tneg_recall: 0.99<br><br>",
          "Concept 77<br>extent (len: 2688): 4, 7, 8, 11, 26, 43, 66, 67, 73, 74,...<br>intent (len: 4): poutcome_not_success, duration_lt_968, previous_lt_1, balance_lt_1384<br>new extent (len: 3): 803, 2685, 2821<br>new intent (len: 0): emptyset<br>mean_y_true: 0.07<br>mean_y_pred: 0.03<br>Metrics<br>\taccuracy: 0.95<br>\tprecision: 0.83<br>\trecall: 0.4<br>\tneg_precision: 0.96<br>\tneg_recall: 0.99<br><br>",
          "Concept 108<br>extent (len: 1914): 4, 7, 8, 11, 26, 43, 66, 67, 73, 74,...<br>intent (len: 5): poutcome_not_success, duration_lt_968, month_not_oct, marital_is_married, balance_lt_1384<br>new extent (len: 23): 1349, 1956, 2486, 1379, 83, 2692, 3205, 4290, 1320, 3314,...<br>new intent (len: 0): emptyset<br>mean_y_true: 0.06<br>mean_y_pred: 0.02<br>Metrics<br>\taccuracy: 0.96<br>\tprecision: 0.91<br>\trecall: 0.36<br>\tneg_precision: 0.96<br>\tneg_recall: 1.0<br><br>",
          "Concept 44<br>extent (len: 1908): 2, 65, 136, 187, 208, 232, 314, 331, 375, 423,...<br>intent (len: 3): poutcome_not_success, housing_is_yes, balance_lt_1384<br>new extent (len: 0): emptyset<br>new intent (len: 0): emptyset<br>mean_y_true: 0.07<br>mean_y_pred: 0.04<br>Metrics<br>\taccuracy: 0.95<br>\tprecision: 0.87<br>\trecall: 0.43<br>\tneg_precision: 0.96<br>\tneg_recall: 0.99<br><br>",
          "Concept 70<br>extent (len: 1851): 2, 65, 136, 187, 208, 232, 314, 331, 375, 423,...<br>intent (len: 4): poutcome_not_success, duration_lt_968, housing_is_yes, balance_lt_1384<br>new extent (len: 1): 3743<br>new intent (len: 0): emptyset<br>mean_y_true: 0.06<br>mean_y_pred: 0.02<br>Metrics<br>\taccuracy: 0.96<br>\tprecision: 0.89<br>\trecall: 0.32<br>\tneg_precision: 0.96<br>\tneg_recall: 1.0<br><br>",
          "Concept 92<br>extent (len: 1063): 1, 207, 236, 253, 310, 496, 528, 563, 685, 769,...<br>intent (len: 5): duration_lt_968, duration_lt_253, month_not_oct, housing_is_yes, marital_is_married<br>new extent (len: 5): 49, 3799, 602, 2992, 2103<br>new intent (len: 0): emptyset<br>mean_y_true: 0.02<br>mean_y_pred: 0.01<br>Metrics<br>\taccuracy: 0.99<br>\tprecision: 0.83<br>\trecall: 0.26<br>\tneg_precision: 0.99<br>\tneg_recall: 1.0<br><br>",
          "Concept 25<br>extent (len: 1660): 1, 207, 236, 253, 310, 496, 528, 563, 685, 769,...<br>intent (len: 3): duration_lt_968, duration_lt_253, housing_is_yes<br>new extent (len: 0): emptyset<br>new intent (len: 0): emptyset<br>mean_y_true: 0.02<br>mean_y_pred: 0.01<br>Metrics<br>\taccuracy: 0.98<br>\tprecision: 0.93<br>\trecall: 0.33<br>\tneg_precision: 0.98<br>\tneg_recall: 1.0<br><br>",
          "Concept 72<br>extent (len: 1940): 4, 7, 8, 11, 26, 43, 66, 67, 73, 74,...<br>intent (len: 4): poutcome_not_success, duration_lt_968, marital_is_married, balance_lt_1384<br>new extent (len: 5): 1111, 2433, 4337, 4413, 4281<br>new intent (len: 0): emptyset<br>mean_y_true: 0.06<br>mean_y_pred: 0.03<br>Metrics<br>\taccuracy: 0.96<br>\tprecision: 0.89<br>\trecall: 0.4<br>\tneg_precision: 0.96<br>\tneg_recall: 1.0<br><br>",
          "Concept 101<br>extent (len: 2395): 3, 37, 55, 89, 96, 111, 116, 122, 176, 185,...<br>intent (len: 5): poutcome_not_success, duration_lt_968, duration_lt_253, month_not_oct, previous_lt_1<br>new extent (len: 82): 2998, 3288, 1574, 1854, 1277, 3461, 2522, 1164, 4464, 4183,...<br>new intent (len: 0): emptyset<br>mean_y_true: 0.02<br>mean_y_pred: 0.0<br>Metrics<br>\taccuracy: 0.98<br>\tprecision: 1.0<br>\trecall: 0.19<br>\tneg_precision: 0.98<br>\tneg_recall: 1.0<br><br>",
          "Concept 35<br>extent (len: 1921): 2, 65, 136, 187, 208, 232, 314, 331, 375, 423,...<br>intent (len: 3): month_not_oct, housing_is_yes, balance_lt_1384<br>new extent (len: 1): 4232<br>new intent (len: 0): emptyset<br>mean_y_true: 0.08<br>mean_y_pred: 0.04<br>Metrics<br>\taccuracy: 0.96<br>\tprecision: 0.88<br>\trecall: 0.48<br>\tneg_precision: 0.96<br>\tneg_recall: 0.99<br><br>",
          "Concept 51<br>extent (len: 2769): 4, 7, 8, 11, 26, 43, 66, 67, 73, 74,...<br>intent (len: 3): poutcome_not_success, previous_lt_1, balance_lt_1384<br>new extent (len: 0): emptyset<br>new intent (len: 0): emptyset<br>mean_y_true: 0.08<br>mean_y_pred: 0.05<br>Metrics<br>\taccuracy: 0.95<br>\tprecision: 0.82<br>\trecall: 0.51<br>\tneg_precision: 0.96<br>\tneg_recall: 0.99<br><br>",
          "Concept 95<br>extent (len: 1253): 2, 65, 136, 187, 208, 232, 314, 331, 375, 423,...<br>intent (len: 5): poutcome_not_success, duration_lt_968, duration_lt_253, housing_is_yes, balance_lt_1384<br>new extent (len: 1): 858<br>new intent (len: 0): emptyset<br>mean_y_true: 0.02<br>mean_y_pred: 0.0<br>Metrics<br>\taccuracy: 0.99<br>\tprecision: 1.0<br>\trecall: 0.18<br>\tneg_precision: 0.99<br>\tneg_recall: 1.0<br><br>",
          "Concept 7<br>extent (len: 3239): 2, 65, 136, 187, 208, 232, 314, 331, 375, 423,...<br>intent (len: 2): duration_lt_968, balance_lt_1384<br>new extent (len: 1): 4009<br>new intent (len: 0): emptyset<br>mean_y_true: 0.09<br>mean_y_pred: 0.05<br>Metrics<br>\taccuracy: 0.95<br>\tprecision: 0.86<br>\trecall: 0.53<br>\tneg_precision: 0.96<br>\tneg_recall: 0.99<br><br>",
          "Concept 27<br>extent (len: 2891): 1, 207, 236, 253, 310, 496, 528, 563, 685, 769,...<br>intent (len: 3): duration_lt_968, duration_lt_253, month_not_oct<br>new extent (len: 4): 540, 397, 1216, 3088<br>new intent (len: 0): emptyset<br>mean_y_true: 0.04<br>mean_y_pred: 0.02<br>Metrics<br>\taccuracy: 0.98<br>\tprecision: 0.89<br>\trecall: 0.38<br>\tneg_precision: 0.98<br>\tneg_recall: 1.0<br><br>",
          "Concept 65<br>extent (len: 2153): 2, 65, 136, 187, 208, 232, 314, 331, 375, 423,...<br>intent (len: 4): poutcome_not_success, duration_lt_968, duration_lt_253, balance_lt_1384<br>new extent (len: 2): 2213, 97<br>new intent (len: 0): emptyset<br>mean_y_true: 0.03<br>mean_y_pred: 0.01<br>Metrics<br>\taccuracy: 0.98<br>\tprecision: 0.94<br>\trecall: 0.27<br>\tneg_precision: 0.98<br>\tneg_recall: 1.0<br><br>",
          "Concept 86<br>extent (len: 2274): 3, 37, 55, 89, 96, 111, 116, 122, 176, 185,...<br>intent (len: 4): poutcome_not_success, month_not_oct, previous_lt_1, marital_is_married<br>new extent (len: 4): 3873, 3968, 3673, 2217<br>new intent (len: 0): emptyset<br>mean_y_true: 0.07<br>mean_y_pred: 0.03<br>Metrics<br>\taccuracy: 0.95<br>\tprecision: 0.82<br>\trecall: 0.38<br>\tneg_precision: 0.96<br>\tneg_recall: 0.99<br><br>",
          "Concept 2<br>extent (len: 4397): 0, 64, 504, 688, 732, 922, 1196, 2451, 2568, 2687,...<br>intent (len: 1): duration_lt_968<br>new extent (len: 0): emptyset<br>new intent (len: 1): duration_lt_968<br>mean_y_true: 0.1<br>mean_y_pred: 0.06<br>Metrics<br>\taccuracy: 0.94<br>\tprecision: 0.87<br>\trecall: 0.54<br>\tneg_precision: 0.95<br>\tneg_recall: 0.99<br><br>",
          "Concept 43<br>extent (len: 3604): 0, 64, 504, 688, 732, 922, 1196, 2451, 2568, 2687,...<br>intent (len: 3): poutcome_not_success, duration_lt_968, previous_lt_1<br>new extent (len: 5): 3881, 1672, 2014, 2421, 1113<br>new intent (len: 0): emptyset<br>mean_y_true: 0.08<br>mean_y_pred: 0.04<br>Metrics<br>\taccuracy: 0.95<br>\tprecision: 0.85<br>\trecall: 0.4<br>\tneg_precision: 0.95<br>\tneg_recall: 0.99<br><br>",
          "Concept 54<br>extent (len: 1260): 2, 65, 136, 187, 208, 232, 314, 331, 375, 423,...<br>intent (len: 4): duration_lt_968, duration_lt_253, housing_is_yes, balance_lt_1384<br>new extent (len: 1): 4229<br>new intent (len: 0): emptyset<br>mean_y_true: 0.02<br>mean_y_pred: 0.01<br>Metrics<br>\taccuracy: 0.99<br>\tprecision: 1.0<br>\trecall: 0.31<br>\tneg_precision: 0.99<br>\tneg_recall: 1.0<br><br>",
          "Concept 111<br>extent (len: 2220): 3, 37, 55, 89, 96, 111, 116, 122, 176, 185,...<br>intent (len: 5): poutcome_not_success, duration_lt_968, month_not_oct, previous_lt_1, marital_is_married<br>new extent (len: 79): 4165, 4256, 3006, 3993, 1942, 2420, 3942, 1315, 1773, 3686,...<br>new intent (len: 0): emptyset<br>mean_y_true: 0.06<br>mean_y_pred: 0.02<br>Metrics<br>\taccuracy: 0.95<br>\tprecision: 0.86<br>\trecall: 0.29<br>\tneg_precision: 0.96<br>\tneg_recall: 1.0<br><br>",
          "Concept 9<br>extent (len: 2484): 1, 207, 236, 253, 310, 496, 528, 563, 685, 769,...<br>intent (len: 2): duration_lt_968, housing_is_yes<br>new extent (len: 0): emptyset<br>new intent (len: 0): emptyset<br>mean_y_true: 0.07<br>mean_y_pred: 0.03<br>Metrics<br>\taccuracy: 0.96<br>\tprecision: 0.92<br>\trecall: 0.44<br>\tneg_precision: 0.96<br>\tneg_recall: 1.0<br><br>",
          "Concept 40<br>extent (len: 2445): 1, 207, 236, 253, 310, 496, 528, 563, 685, 769,...<br>intent (len: 3): poutcome_not_success, duration_lt_968, housing_is_yes<br>new extent (len: 1): 4423<br>new intent (len: 0): emptyset<br>mean_y_true: 0.07<br>mean_y_pred: 0.03<br>Metrics<br>\taccuracy: 0.96<br>\tprecision: 0.92<br>\trecall: 0.38<br>\tneg_precision: 0.96<br>\tneg_recall: 1.0<br><br>",
          "Concept 75<br>extent (len: 2608): 1, 207, 236, 253, 310, 496, 528, 563, 685, 769,...<br>intent (len: 4): poutcome_not_success, duration_lt_968, month_not_oct, marital_is_married<br>new extent (len: 16): 318, 2032, 276, 3157, 4262, 3446, 1312, 3419, 4261, 3483,...<br>new intent (len: 0): emptyset<br>mean_y_true: 0.07<br>mean_y_pred: 0.03<br>Metrics<br>\taccuracy: 0.95<br>\tprecision: 0.89<br>\trecall: 0.35<br>\tneg_precision: 0.95<br>\tneg_recall: 1.0<br><br>",
          "Concept 113<br>extent (len: 1279): 3, 37, 55, 89, 96, 111, 116, 122, 176, 185,...<br>intent (len: 5): poutcome_not_success, duration_lt_968, previous_lt_1, housing_is_yes, marital_is_married<br>new extent (len: 0): emptyset<br>new intent (len: 0): emptyset<br>mean_y_true: 0.05<br>mean_y_pred: 0.01<br>Metrics<br>\taccuracy: 0.96<br>\tprecision: 0.89<br>\trecall: 0.25<br>\tneg_precision: 0.96<br>\tneg_recall: 1.0<br><br>",
          "Concept 3<br>extent (len: 2559): 1, 207, 236, 253, 310, 496, 528, 563, 685, 769,...<br>intent (len: 1): housing_is_yes<br>new extent (len: 0): emptyset<br>new intent (len: 1): housing_is_yes<br>mean_y_true: 0.09<br>mean_y_pred: 0.05<br>Metrics<br>\taccuracy: 0.95<br>\tprecision: 0.9<br>\trecall: 0.5<br>\tneg_precision: 0.96<br>\tneg_recall: 0.99<br><br>",
          "Concept 24<br>extent (len: 2184): 2, 65, 136, 187, 208, 232, 314, 331, 375, 423,...<br>intent (len: 3): duration_lt_968, duration_lt_253, balance_lt_1384<br>new extent (len: 1): 3243<br>new intent (len: 0): emptyset<br>mean_y_true: 0.03<br>mean_y_pred: 0.02<br>Metrics<br>\taccuracy: 0.98<br>\tprecision: 0.85<br>\trecall: 0.41<br>\tneg_precision: 0.98<br>\tneg_recall: 1.0<br><br>",
          "Concept 63<br>extent (len: 1960): 4, 7, 8, 11, 26, 43, 66, 67, 73, 74,...<br>intent (len: 4): duration_lt_968, month_not_oct, marital_is_married, balance_lt_1384<br>new extent (len: 15): 156, 4159, 1060, 1048, 3695, 2449, 658, 4160, 70, 2122,...<br>new intent (len: 0): emptyset<br>mean_y_true: 0.07<br>mean_y_pred: 0.04<br>Metrics<br>\taccuracy: 0.96<br>\tprecision: 0.89<br>\trecall: 0.49<br>\tneg_precision: 0.96<br>\tneg_recall: 1.0<br><br>",
          "Concept 84<br>extent (len: 2741): 4, 7, 8, 11, 26, 43, 66, 67, 73, 74,...<br>intent (len: 4): poutcome_not_success, month_not_oct, previous_lt_1, balance_lt_1384<br>new extent (len: 20): 1855, 3614, 2375, 259, 3305, 1459, 50, 1504, 1991, 1914,...<br>new intent (len: 0): emptyset<br>mean_y_true: 0.08<br>mean_y_pred: 0.05<br>Metrics<br>\taccuracy: 0.95<br>\tprecision: 0.83<br>\trecall: 0.49<br>\tneg_precision: 0.96<br>\tneg_recall: 0.99<br><br>",
          "Concept 49<br>extent (len: 2673): 1, 207, 236, 253, 310, 496, 528, 563, 685, 769,...<br>intent (len: 3): poutcome_not_success, month_not_oct, marital_is_married<br>new extent (len: 0): emptyset<br>new intent (len: 0): emptyset<br>mean_y_true: 0.08<br>mean_y_pred: 0.04<br>Metrics<br>\taccuracy: 0.95<br>\tprecision: 0.85<br>\trecall: 0.43<br>\tneg_precision: 0.95<br>\tneg_recall: 0.99<br><br>",
          "Concept 58<br>extent (len: 1649): 1, 207, 236, 253, 310, 496, 528, 563, 685, 769,...<br>intent (len: 4): duration_lt_968, duration_lt_253, month_not_oct, housing_is_yes<br>new extent (len: 5): 2188, 4309, 2380, 3593, 2665<br>new intent (len: 0): emptyset<br>mean_y_true: 0.02<br>mean_y_pred: 0.01<br>Metrics<br>\taccuracy: 0.99<br>\tprecision: 0.91<br>\trecall: 0.3<br>\tneg_precision: 0.99<br>\tneg_recall: 1.0<br><br>",
          "Concept 110<br>extent (len: 1980): 3, 37, 55, 89, 96, 111, 116, 122, 176, 185,...<br>intent (len: 5): poutcome_not_success, duration_lt_968, month_not_oct, previous_lt_1, housing_is_yes<br>new extent (len: 54): 1407, 2636, 258, 1041, 1394, 1119, 2752, 1533, 1945, 2786,...<br>new intent (len: 0): emptyset<br>mean_y_true: 0.06<br>mean_y_pred: 0.02<br>Metrics<br>\taccuracy: 0.96<br>\tprecision: 0.94<br>\trecall: 0.3<br>\tneg_precision: 0.96<br>\tneg_recall: 1.0<br><br>",
          "Concept 38<br>extent (len: 3162): 2, 65, 136, 187, 208, 232, 314, 331, 375, 423,...<br>intent (len: 3): poutcome_not_success, duration_lt_968, balance_lt_1384<br>new extent (len: 1): 164<br>new intent (len: 0): emptyset<br>mean_y_true: 0.07<br>mean_y_pred: 0.04<br>Metrics<br>\taccuracy: 0.95<br>\tprecision: 0.86<br>\trecall: 0.44<br>\tneg_precision: 0.96<br>\tneg_recall: 0.99<br><br>",
          "Concept 78<br>extent (len: 1986): 3, 37, 55, 89, 96, 111, 116, 122, 176, 185,...<br>intent (len: 4): poutcome_not_success, duration_lt_968, previous_lt_1, housing_is_yes<br>new extent (len: 0): emptyset<br>new intent (len: 0): emptyset<br>mean_y_true: 0.06<br>mean_y_pred: 0.02<br>Metrics<br>\taccuracy: 0.96<br>\tprecision: 0.92<br>\trecall: 0.31<br>\tneg_precision: 0.96<br>\tneg_recall: 1.0<br><br>",
          "Concept 83<br>extent (len: 1964): 4, 7, 8, 11, 26, 43, 66, 67, 73, 74,...<br>intent (len: 4): poutcome_not_success, month_not_oct, marital_is_married, balance_lt_1384<br>new extent (len: 3): 3463, 1912, 665<br>new intent (len: 0): emptyset<br>mean_y_true: 0.07<br>mean_y_pred: 0.04<br>Metrics<br>\taccuracy: 0.96<br>\tprecision: 0.83<br>\trecall: 0.45<br>\tneg_precision: 0.96<br>\tneg_recall: 0.99<br><br>",
          "Concept 48<br>extent (len: 2505): 1, 207, 236, 253, 310, 496, 528, 563, 685, 769,...<br>intent (len: 3): poutcome_not_success, month_not_oct, housing_is_yes<br>new extent (len: 2): 4447, 3943<br>new intent (len: 0): emptyset<br>mean_y_true: 0.08<br>mean_y_pred: 0.04<br>Metrics<br>\taccuracy: 0.96<br>\tprecision: 0.92<br>\trecall: 0.46<br>\tneg_precision: 0.96<br>\tneg_recall: 1.0<br><br>",
          "Concept 64<br>extent (len: 1222): 4, 7, 8, 11, 26, 43, 66, 67, 73, 74,...<br>intent (len: 4): month_not_oct, housing_is_yes, marital_is_married, balance_lt_1384<br>new extent (len: 0): emptyset<br>new intent (len: 0): emptyset<br>mean_y_true: 0.06<br>mean_y_pred: 0.03<br>Metrics<br>\taccuracy: 0.96<br>\tprecision: 0.88<br>\trecall: 0.47<br>\tneg_precision: 0.97<br>\tneg_recall: 1.0<br><br>",
          "Concept 109<br>extent (len: 2661): 4, 7, 8, 11, 26, 43, 66, 67, 73, 74,...<br>intent (len: 5): poutcome_not_success, duration_lt_968, month_not_oct, previous_lt_1, balance_lt_1384<br>new extent (len: 157): 3163, 4444, 3081, 1297, 612, 3334, 1269, 2423, 3409, 989,...<br>new intent (len: 0): emptyset<br>mean_y_true: 0.06<br>mean_y_pred: 0.03<br>Metrics<br>\taccuracy: 0.96<br>\tprecision: 0.84<br>\trecall: 0.37<br>\tneg_precision: 0.96<br>\tneg_recall: 1.0<br><br>",
          "Concept 39<br>extent (len: 2884): 0, 64, 504, 688, 732, 922, 1196, 2451, 2568, 2687,...<br>intent (len: 3): poutcome_not_success, duration_lt_968, duration_lt_253<br>new extent (len: 2): 3023, 3775<br>new intent (len: 0): emptyset<br>mean_y_true: 0.03<br>mean_y_pred: 0.01<br>Metrics<br>\taccuracy: 0.98<br>\tprecision: 0.93<br>\trecall: 0.28<br>\tneg_precision: 0.98<br>\tneg_recall: 1.0<br><br>",
          "Concept 62<br>extent (len: 1573): 1, 207, 236, 253, 310, 496, 528, 563, 685, 769,...<br>intent (len: 4): duration_lt_968, month_not_oct, housing_is_yes, marital_is_married<br>new extent (len: 1): 3331<br>new intent (len: 0): emptyset<br>mean_y_true: 0.06<br>mean_y_pred: 0.03<br>Metrics<br>\taccuracy: 0.96<br>\tprecision: 0.93<br>\trecall: 0.41<br>\tneg_precision: 0.96<br>\tneg_recall: 1.0<br><br>",
          "Concept 114<br>extent (len: 1650): 4, 7, 8, 11, 26, 43, 66, 67, 73, 74,...<br>intent (len: 5): poutcome_not_success, duration_lt_968, previous_lt_1, marital_is_married, balance_lt_1384<br>new extent (len: 4): 1266, 1872, 3789, 2477<br>new intent (len: 0): emptyset<br>mean_y_true: 0.05<br>mean_y_pred: 0.02<br>Metrics<br>\taccuracy: 0.96<br>\tprecision: 0.84<br>\trecall: 0.35<br>\tneg_precision: 0.96<br>\tneg_recall: 1.0<br><br>",
          "Concept 5<br>extent (len: 4441): 1, 207, 236, 253, 310, 496, 528, 563, 685, 769,...<br>intent (len: 1): month_not_oct<br>new extent (len: 1): 3644<br>new intent (len: 1): month_not_oct<br>mean_y_true: 0.11<br>mean_y_pred: 0.07<br>Metrics<br>\taccuracy: 0.94<br>\tprecision: 0.87<br>\trecall: 0.57<br>\tneg_precision: 0.95<br>\tneg_recall: 0.99<br><br>",
          "Concept 41<br>extent (len: 2649): 0, 64, 504, 688, 732, 922, 1196, 2451, 2568, 2687,...<br>intent (len: 3): poutcome_not_success, duration_lt_968, marital_is_married<br>new extent (len: 0): emptyset<br>new intent (len: 0): emptyset<br>mean_y_true: 0.07<br>mean_y_pred: 0.03<br>Metrics<br>\taccuracy: 0.95<br>\tprecision: 0.87<br>\trecall: 0.38<br>\tneg_precision: 0.95<br>\tneg_recall: 1.0<br><br>",
          "Concept 139<br>extent (len: 852): 3, 37, 55, 89, 96, 111, 116, 122, 176, 185,...<br>intent (len: 7): poutcome_not_success, duration_lt_968, duration_lt_253, month_not_oct, previous_lt_1, housing_is_yes, marital_is_married<br>new extent (len: 199): 55, 2813, 1364, 686, 4014, 4394, 2163, 2435, 2339, 4011,...<br>new intent (len: 0): emptyset<br>mean_y_true: 0.01<br>mean_y_pred: 0.0<br>Metrics<br>\taccuracy: 0.99<br>\tprecision: 1.0<br>\trecall: 0.1<br>\tneg_precision: 0.99<br>\tneg_recall: 1.0<br><br>",
          "Concept 55<br>extent (len: 1070): 1, 207, 236, 253, 310, 496, 528, 563, 685, 769,...<br>intent (len: 4): duration_lt_968, duration_lt_253, housing_is_yes, marital_is_married<br>new extent (len: 0): emptyset<br>new intent (len: 0): emptyset<br>mean_y_true: 0.02<br>mean_y_pred: 0.01<br>Metrics<br>\taccuracy: 0.98<br>\tprecision: 0.86<br>\trecall: 0.27<br>\tneg_precision: 0.98<br>\tneg_recall: 1.0<br><br>",
          "Concept 87<br>extent (len: 1552): 4, 7, 8, 11, 26, 43, 66, 67, 73, 74,...<br>intent (len: 4): poutcome_not_success, previous_lt_1, housing_is_yes, balance_lt_1384<br>new extent (len: 0): emptyset<br>new intent (len: 0): emptyset<br>mean_y_true: 0.07<br>mean_y_pred: 0.03<br>Metrics<br>\taccuracy: 0.96<br>\tprecision: 0.87<br>\trecall: 0.4<br>\tneg_precision: 0.96<br>\tneg_recall: 1.0<br><br>",
          "Concept 21<br>extent (len: 2715): 0, 64, 504, 688, 732, 922, 1196, 2451, 2568, 2687,...<br>intent (len: 2): poutcome_not_success, marital_is_married<br>new extent (len: 0): emptyset<br>new intent (len: 0): emptyset<br>mean_y_true: 0.08<br>mean_y_pred: 0.04<br>Metrics<br>\taccuracy: 0.95<br>\tprecision: 0.84<br>\trecall: 0.45<br>\tneg_precision: 0.95<br>\tneg_recall: 0.99<br><br>",
          "Concept 142<br>extent (len: 965): 4, 7, 8, 11, 26, 43, 66, 67, 73, 74,...<br>intent (len: 7): poutcome_not_success, duration_lt_968, month_not_oct, previous_lt_1, housing_is_yes, marital_is_married, balance_lt_1384<br>new extent (len: 312): 2156, 3507, 3787, 845, 1000, 4129, 1017, 1278, 2822, 3086,...<br>new intent (len: 0): emptyset<br>mean_y_true: 0.04<br>mean_y_pred: 0.01<br>Metrics<br>\taccuracy: 0.97<br>\tprecision: 0.89<br>\trecall: 0.23<br>\tneg_precision: 0.97<br>\tneg_recall: 1.0<br><br>",
          "Concept 80<br>extent (len: 1215): 4, 7, 8, 11, 26, 43, 66, 67, 73, 74,...<br>intent (len: 4): poutcome_not_success, housing_is_yes, marital_is_married, balance_lt_1384<br>new extent (len: 0): emptyset<br>new intent (len: 0): emptyset<br>mean_y_true: 0.06<br>mean_y_pred: 0.03<br>Metrics<br>\taccuracy: 0.96<br>\tprecision: 0.84<br>\trecall: 0.39<br>\tneg_precision: 0.97<br>\tneg_recall: 1.0<br><br>",
          "Concept 85<br>extent (len: 2037): 3, 37, 55, 89, 96, 111, 116, 122, 176, 185,...<br>intent (len: 4): poutcome_not_success, month_not_oct, previous_lt_1, housing_is_yes<br>new extent (len: 4): 1534, 3453, 1592, 1454<br>new intent (len: 0): emptyset<br>mean_y_true: 0.07<br>mean_y_pred: 0.03<br>Metrics<br>\taccuracy: 0.96<br>\tprecision: 0.92<br>\trecall: 0.4<br>\tneg_precision: 0.96<br>\tneg_recall: 1.0<br><br>",
          "Concept 32<br>extent (len: 2469): 1, 207, 236, 253, 310, 496, 528, 563, 685, 769,...<br>intent (len: 3): duration_lt_968, month_not_oct, housing_is_yes<br>new extent (len: 5): 1173, 2372, 2917, 1952, 1779<br>new intent (len: 0): emptyset<br>mean_y_true: 0.07<br>mean_y_pred: 0.03<br>Metrics<br>\taccuracy: 0.96<br>\tprecision: 0.94<br>\trecall: 0.44<br>\tneg_precision: 0.96<br>\tneg_recall: 1.0<br><br>",
          "Concept 74<br>extent (len: 2431): 1, 207, 236, 253, 310, 496, 528, 563, 685, 769,...<br>intent (len: 4): poutcome_not_success, duration_lt_968, month_not_oct, housing_is_yes<br>new extent (len: 15): 412, 40, 3755, 4435, 3064, 3665, 202, 4372, 1729, 4363,...<br>new intent (len: 0): emptyset<br>mean_y_true: 0.06<br>mean_y_pred: 0.03<br>Metrics<br>\taccuracy: 0.96<br>\tprecision: 0.95<br>\trecall: 0.38<br>\tneg_precision: 0.96<br>\tneg_recall: 1.0<br><br>"
         ],
         "marker": {
          "color": [
           0.0030303030303030303,
           0.012558869701726845,
           0.00354924578527063,
           0.002276176024279211,
           0.05274725274725275,
           0.014647137150466045,
           0.024834437086092714,
           0.0024096385542168677,
           0.0785224507852245,
           0.056476365868631064,
           0.017758726270667484,
           0.0036855036855036856,
           0.002976190476190476,
           0.045990566037735846,
           0.028442146089204912,
           0.02108433734939759,
           0.002843601895734597,
           0.023682200152788387,
           0.0024479804161566705,
           0.05751729159082636,
           0.002466091245376079,
           0.013605442176870748,
           0.010319917440660475,
           0.032238805970149255,
           0.020161290322580645,
           0.044720206040739875,
           0.06512477175897748,
           0.002336448598130841,
           0.07252022774947557,
           0.0026437541308658294,
           0.0033333333333333335,
           0.001524390243902439,
           0.004869141813755326,
           0.003658536585365854,
           0.040492258832870186,
           0.02176696542893726,
           0.004796163069544364,
           0.018338727076591153,
           0.022556390977443608,
           0.005239520958083832,
           0.039603960396039604,
           0.0008968609865470852,
           0.03268183274591477,
           0.015925680159256803,
           0.020068027210884354,
           0.047036688617121354,
           0.00199203187250996,
           0.012518409425625921,
           0.019961365099806824,
           0.04550540842969041,
           0.03195488721804511,
           0.02511415525114155,
           0.04123076923076923,
           0.047020229633679606,
           0.007825370675453048,
           0.003674219228413962,
           0.03830597192481561,
           0.007158590308370044,
           0.003766478342749529,
           0.042443064182194616,
           0.02774813233724653,
           0.03644251626898048,
           0.014370245139475908,
           0.059197651663405085,
           0.04618473895582329,
           0.030635188308038224,
           0.006047278724573941,
           0.04168759417378202,
           0.0015313935681470138,
           0.01160631383472609,
           0.021848739495798318,
           0.060109289617486336,
           0.05209176788124156,
           0.03132648066568772,
           0.003779289493575208,
           0.03364485981308411,
           0.024,
           0.019011406844106463,
           0.03336045565500407,
           0.03371970495258166,
           0.004479283314669653,
           0.06435466571326422,
           0.05412907702984039,
           0.02576489533011272,
           0.004701457451810061,
           0.05171556439582297,
           0.014827018121911038,
           0.03662138216184288,
           0.02970922882427307,
           0.005851755526657998,
           0.006690140845070422,
           0.009701492537313432,
           0.0555812876331635,
           0.05099502487562189,
           0.03236607142857143,
           0.02246603970741902,
           0.03511530398322851,
           0.020529443544030253,
           0.005644402634054563,
           0.008433734939759036,
           0.028350515463917526,
           0.004592901878914405,
           0.04060385216033316,
           0.05128205128205128,
           0.0031923383878691143,
           0.05495523309663476,
           0.015911449325492908,
           0.0074314909428704135,
           0.032541776605101144,
           0.06367978166932,
           0.03607103218645949,
           0.006349206349206349,
           0.01981981981981982,
           0.03462157809983897,
           0.026993865030674847,
           0.026840490797546013,
           0.014073494917904612,
           0.04806565064478312,
           0.015567765567765568,
           0.03826530612244898,
           0.04706311565122218,
           0.03928170594837262,
           0.0066707095209217705,
           0.017676767676767676,
           0.038583175205566096,
           0.019133937562940583,
           0.03615071283095723,
           0.038722554890219564,
           0.03273322422258593,
           0.027809094325441562,
           0.009708737864077669,
           0.027972027972027972,
           0.022424242424242423,
           0.07092997072731366,
           0.03208758021895055,
           0.0011737089201877935,
           0.0065420560747663555,
           0.029639175257731958,
           0.04419889502762431,
           0.00932642487046632,
           0.02551440329218107,
           0.029945999018163968,
           0.03240178209801539,
           0.02509255450431921
          ],
          "colorbar": {
           "thickness": 15,
           "title": {
            "side": "right",
            "text": "Mean Prediction"
           },
           "xanchor": "left"
          },
          "colorscale": [
           [
            0,
            "rgb(103,0,31)"
           ],
           [
            0.1,
            "rgb(178,24,43)"
           ],
           [
            0.2,
            "rgb(214,96,77)"
           ],
           [
            0.3,
            "rgb(244,165,130)"
           ],
           [
            0.4,
            "rgb(253,219,199)"
           ],
           [
            0.5,
            "rgb(247,247,247)"
           ],
           [
            0.6,
            "rgb(209,229,240)"
           ],
           [
            0.7,
            "rgb(146,197,222)"
           ],
           [
            0.8,
            "rgb(67,147,195)"
           ],
           [
            0.9,
            "rgb(33,102,172)"
           ],
           [
            1,
            "rgb(5,48,97)"
           ]
          ],
          "line": {
           "width": 2
          },
          "reversescale": true,
          "showscale": true,
          "size": 10
         },
         "mode": "markers+text",
         "text": [
          "<br>n: 47",
          "<br>n: 110",
          "<br>n: 9",
          "<br>n: 115",
          "<br>3931",
          "<br>n: 186",
          "<br>n: 5",
          "<br>n: 83",
          "<br>",
          "<br>",
          "<br>n: 206",
          "<br>1421,1167,464",
          "<br>2773",
          "<br>",
          "<br>n: 18",
          "<br>",
          "<br>n: 45",
          "<br>n: 8",
          "<br>3315,903,3346",
          "<br>",
          "<br>n: 158",
          "<br>n: 53",
          "<br>61",
          "<br>n: 15",
          "<br>n: 27",
          "<br>1750,1928",
          "<br>",
          "<br>1021",
          "balance_lt_1384<br>",
          "<br>n: 199",
          "<br>n: 334",
          "<br>2911,3826,4092",
          "<br>3527",
          "<br>",
          "<br>",
          "<br>3701",
          "<br>1736,2176,3281",
          "<br>1303",
          "<br>",
          "<br>1106",
          "<br>",
          "<br>n: 462",
          "<br>n: 12",
          "<br>",
          "duration_lt_253<br>",
          "<br>n: 10",
          "<br>n: 351",
          "<br>1124,338",
          "<br>n: 23",
          "<br>n: 11",
          "<br>1719,823,2968",
          "<br>",
          "<br>",
          "<br>2980,1300,2140,3813",
          "<br>2022",
          "<br>n: 29",
          "<br>n: 13",
          "<br>822",
          "<br>",
          "<br>",
          "<br>",
          "<br>",
          "<br>",
          "<br>",
          "<br>1186,1437,4216,3250",
          "<br>n: 59",
          "<br>n: 6",
          "<br>",
          "<br>n: 653",
          "<br>3835,3370,3874,2539",
          "<br>n: 11",
          "poutcome_not_success<br>",
          "previous_lt_1<br>",
          "<br>",
          "<br>",
          "<br>",
          "<br>",
          "<br>n: 45",
          "<br>",
          "<br>n: 7",
          "<br>n: 23",
          "marital_is_married<br>",
          "<br>",
          "<br>n: 5",
          "<br>n: 39",
          "<br>328",
          "<br>n: 10",
          "<br>1903",
          "<br>",
          "<br>n: 12",
          "<br>n: 21",
          "<br>n: 17",
          "<br>n: 6",
          "<br>",
          "<br>803,2685,2821",
          "<br>n: 23",
          "<br>",
          "<br>3743",
          "<br>n: 5",
          "<br>",
          "<br>n: 5",
          "<br>n: 82",
          "<br>4232",
          "<br>",
          "<br>858",
          "<br>4009",
          "<br>540,397,1216,3088",
          "<br>2213,97",
          "<br>3873,3968,3673,2217",
          "duration_lt_968<br>",
          "<br>n: 5",
          "<br>4229",
          "<br>n: 79",
          "<br>",
          "<br>4423",
          "<br>n: 16",
          "<br>",
          "housing_is_yes<br>",
          "<br>3243",
          "<br>n: 15",
          "<br>n: 20",
          "<br>",
          "<br>n: 5",
          "<br>n: 54",
          "<br>164",
          "<br>",
          "<br>3463,1912,665",
          "<br>4447,3943",
          "<br>",
          "<br>n: 157",
          "<br>3023,3775",
          "<br>3331",
          "<br>1266,1872,3789,2477",
          "month_not_oct<br>3644",
          "<br>",
          "<br>n: 199",
          "<br>",
          "<br>",
          "<br>",
          "<br>n: 312",
          "<br>",
          "<br>1534,3453,1592,1454",
          "<br>n: 5",
          "<br>n: 15"
         ],
         "textposition": "middle right",
         "type": "scatter",
         "x": [
          -1,
          4,
          1,
          -8,
          1,
          6,
          11.5,
          -6,
          0,
          5,
          7,
          2,
          -2,
          -1,
          13.5,
          6.5,
          -3,
          10.5,
          -5,
          6,
          1.5,
          5,
          3,
          14.5,
          8,
          -2,
          8,
          -7,
          2.5,
          -4,
          0,
          -0.5,
          -17.5,
          -13.5,
          -6,
          -4.5,
          -6.5,
          -10.5,
          -3.5,
          -5.5,
          5.5,
          -2.5,
          11.5,
          1.5,
          -8,
          11.5,
          0.5,
          -8.5,
          5.5,
          8.5,
          8.5,
          -0.5,
          -5,
          10.5,
          -10.5,
          -12.5,
          1.5,
          -12.5,
          -11.5,
          -4,
          -8.5,
          0.5,
          0.5,
          7,
          9.5,
          7.5,
          -2.5,
          7.5,
          0,
          -9.5,
          7.5,
          -1.5,
          0,
          -6.5,
          -10.5,
          -2.5,
          -2.5,
          3.5,
          -3.5,
          13.5,
          -9.5,
          0.5,
          2,
          1.5,
          -7.5,
          14.5,
          -7.5,
          15.5,
          -7.5,
          -3.5,
          -13.5,
          -1.5,
          4,
          12.5,
          9.5,
          9.5,
          -1.5,
          -5.5,
          -4.5,
          -14.5,
          4.5,
          -8.5,
          6.5,
          13.5,
          -14.5,
          3,
          -11.5,
          -11.5,
          10.5,
          -0.5,
          -0.5,
          -16.5,
          4.5,
          -7,
          -9.5,
          2.5,
          -0.5,
          -2.5,
          -12.5,
          16.5,
          17.5,
          4.5,
          -14.5,
          2.5,
          2.5,
          -6.5,
          14.5,
          3.5,
          12.5,
          12.5,
          -13.5,
          3.5,
          8.5,
          1.5,
          -5.5,
          -1.5,
          -15.5,
          5.5,
          -3,
          2.5,
          0.5,
          6.5,
          -4.5,
          -1.5
         ],
         "y": [
          3,
          3,
          3,
          3,
          7,
          3,
          4,
          3,
          9,
          7,
          3,
          3,
          3,
          7,
          4,
          4,
          3,
          4,
          3,
          7,
          2,
          3,
          3,
          4,
          3,
          7,
          7,
          3,
          8,
          3,
          3,
          2,
          5,
          4,
          7,
          5,
          4,
          6,
          5,
          4,
          6,
          2,
          5,
          4,
          7,
          6,
          2,
          5,
          4,
          6,
          5,
          5,
          7,
          6,
          5,
          4,
          6,
          5,
          4,
          7,
          6,
          6,
          4,
          7,
          6,
          5,
          4,
          6,
          1,
          5,
          4,
          8,
          7,
          6,
          4,
          6,
          5,
          4,
          6,
          5,
          4,
          8,
          7,
          5,
          4,
          6,
          5,
          5,
          6,
          4,
          5,
          4,
          7,
          6,
          5,
          4,
          6,
          5,
          4,
          6,
          5,
          4,
          6,
          6,
          4,
          7,
          6,
          5,
          5,
          8,
          6,
          5,
          4,
          7,
          6,
          5,
          4,
          8,
          6,
          5,
          5,
          6,
          5,
          4,
          6,
          5,
          5,
          6,
          5,
          4,
          6,
          5,
          4,
          8,
          6,
          2,
          5,
          5,
          7,
          2,
          5,
          5,
          6,
          5
         ]
        }
       ],
       "layout": {
        "height": 500,
        "hovermode": "closest",
        "margin": {
         "b": 20,
         "l": 5,
         "r": 5,
         "t": 40
        },
        "showlegend": false,
        "template": {
         "data": {
          "bar": [
           {
            "error_x": {
             "color": "#2a3f5f"
            },
            "error_y": {
             "color": "#2a3f5f"
            },
            "marker": {
             "line": {
              "color": "#E5ECF6",
              "width": 0.5
             }
            },
            "type": "bar"
           }
          ],
          "barpolar": [
           {
            "marker": {
             "line": {
              "color": "#E5ECF6",
              "width": 0.5
             }
            },
            "type": "barpolar"
           }
          ],
          "carpet": [
           {
            "aaxis": {
             "endlinecolor": "#2a3f5f",
             "gridcolor": "white",
             "linecolor": "white",
             "minorgridcolor": "white",
             "startlinecolor": "#2a3f5f"
            },
            "baxis": {
             "endlinecolor": "#2a3f5f",
             "gridcolor": "white",
             "linecolor": "white",
             "minorgridcolor": "white",
             "startlinecolor": "#2a3f5f"
            },
            "type": "carpet"
           }
          ],
          "choropleth": [
           {
            "colorbar": {
             "outlinewidth": 0,
             "ticks": ""
            },
            "type": "choropleth"
           }
          ],
          "contour": [
           {
            "colorbar": {
             "outlinewidth": 0,
             "ticks": ""
            },
            "colorscale": [
             [
              0,
              "#0d0887"
             ],
             [
              0.1111111111111111,
              "#46039f"
             ],
             [
              0.2222222222222222,
              "#7201a8"
             ],
             [
              0.3333333333333333,
              "#9c179e"
             ],
             [
              0.4444444444444444,
              "#bd3786"
             ],
             [
              0.5555555555555556,
              "#d8576b"
             ],
             [
              0.6666666666666666,
              "#ed7953"
             ],
             [
              0.7777777777777778,
              "#fb9f3a"
             ],
             [
              0.8888888888888888,
              "#fdca26"
             ],
             [
              1,
              "#f0f921"
             ]
            ],
            "type": "contour"
           }
          ],
          "contourcarpet": [
           {
            "colorbar": {
             "outlinewidth": 0,
             "ticks": ""
            },
            "type": "contourcarpet"
           }
          ],
          "heatmap": [
           {
            "colorbar": {
             "outlinewidth": 0,
             "ticks": ""
            },
            "colorscale": [
             [
              0,
              "#0d0887"
             ],
             [
              0.1111111111111111,
              "#46039f"
             ],
             [
              0.2222222222222222,
              "#7201a8"
             ],
             [
              0.3333333333333333,
              "#9c179e"
             ],
             [
              0.4444444444444444,
              "#bd3786"
             ],
             [
              0.5555555555555556,
              "#d8576b"
             ],
             [
              0.6666666666666666,
              "#ed7953"
             ],
             [
              0.7777777777777778,
              "#fb9f3a"
             ],
             [
              0.8888888888888888,
              "#fdca26"
             ],
             [
              1,
              "#f0f921"
             ]
            ],
            "type": "heatmap"
           }
          ],
          "heatmapgl": [
           {
            "colorbar": {
             "outlinewidth": 0,
             "ticks": ""
            },
            "colorscale": [
             [
              0,
              "#0d0887"
             ],
             [
              0.1111111111111111,
              "#46039f"
             ],
             [
              0.2222222222222222,
              "#7201a8"
             ],
             [
              0.3333333333333333,
              "#9c179e"
             ],
             [
              0.4444444444444444,
              "#bd3786"
             ],
             [
              0.5555555555555556,
              "#d8576b"
             ],
             [
              0.6666666666666666,
              "#ed7953"
             ],
             [
              0.7777777777777778,
              "#fb9f3a"
             ],
             [
              0.8888888888888888,
              "#fdca26"
             ],
             [
              1,
              "#f0f921"
             ]
            ],
            "type": "heatmapgl"
           }
          ],
          "histogram": [
           {
            "marker": {
             "colorbar": {
              "outlinewidth": 0,
              "ticks": ""
             }
            },
            "type": "histogram"
           }
          ],
          "histogram2d": [
           {
            "colorbar": {
             "outlinewidth": 0,
             "ticks": ""
            },
            "colorscale": [
             [
              0,
              "#0d0887"
             ],
             [
              0.1111111111111111,
              "#46039f"
             ],
             [
              0.2222222222222222,
              "#7201a8"
             ],
             [
              0.3333333333333333,
              "#9c179e"
             ],
             [
              0.4444444444444444,
              "#bd3786"
             ],
             [
              0.5555555555555556,
              "#d8576b"
             ],
             [
              0.6666666666666666,
              "#ed7953"
             ],
             [
              0.7777777777777778,
              "#fb9f3a"
             ],
             [
              0.8888888888888888,
              "#fdca26"
             ],
             [
              1,
              "#f0f921"
             ]
            ],
            "type": "histogram2d"
           }
          ],
          "histogram2dcontour": [
           {
            "colorbar": {
             "outlinewidth": 0,
             "ticks": ""
            },
            "colorscale": [
             [
              0,
              "#0d0887"
             ],
             [
              0.1111111111111111,
              "#46039f"
             ],
             [
              0.2222222222222222,
              "#7201a8"
             ],
             [
              0.3333333333333333,
              "#9c179e"
             ],
             [
              0.4444444444444444,
              "#bd3786"
             ],
             [
              0.5555555555555556,
              "#d8576b"
             ],
             [
              0.6666666666666666,
              "#ed7953"
             ],
             [
              0.7777777777777778,
              "#fb9f3a"
             ],
             [
              0.8888888888888888,
              "#fdca26"
             ],
             [
              1,
              "#f0f921"
             ]
            ],
            "type": "histogram2dcontour"
           }
          ],
          "mesh3d": [
           {
            "colorbar": {
             "outlinewidth": 0,
             "ticks": ""
            },
            "type": "mesh3d"
           }
          ],
          "parcoords": [
           {
            "line": {
             "colorbar": {
              "outlinewidth": 0,
              "ticks": ""
             }
            },
            "type": "parcoords"
           }
          ],
          "pie": [
           {
            "automargin": true,
            "type": "pie"
           }
          ],
          "scatter": [
           {
            "marker": {
             "colorbar": {
              "outlinewidth": 0,
              "ticks": ""
             }
            },
            "type": "scatter"
           }
          ],
          "scatter3d": [
           {
            "line": {
             "colorbar": {
              "outlinewidth": 0,
              "ticks": ""
             }
            },
            "marker": {
             "colorbar": {
              "outlinewidth": 0,
              "ticks": ""
             }
            },
            "type": "scatter3d"
           }
          ],
          "scattercarpet": [
           {
            "marker": {
             "colorbar": {
              "outlinewidth": 0,
              "ticks": ""
             }
            },
            "type": "scattercarpet"
           }
          ],
          "scattergeo": [
           {
            "marker": {
             "colorbar": {
              "outlinewidth": 0,
              "ticks": ""
             }
            },
            "type": "scattergeo"
           }
          ],
          "scattergl": [
           {
            "marker": {
             "colorbar": {
              "outlinewidth": 0,
              "ticks": ""
             }
            },
            "type": "scattergl"
           }
          ],
          "scattermapbox": [
           {
            "marker": {
             "colorbar": {
              "outlinewidth": 0,
              "ticks": ""
             }
            },
            "type": "scattermapbox"
           }
          ],
          "scatterpolar": [
           {
            "marker": {
             "colorbar": {
              "outlinewidth": 0,
              "ticks": ""
             }
            },
            "type": "scatterpolar"
           }
          ],
          "scatterpolargl": [
           {
            "marker": {
             "colorbar": {
              "outlinewidth": 0,
              "ticks": ""
             }
            },
            "type": "scatterpolargl"
           }
          ],
          "scatterternary": [
           {
            "marker": {
             "colorbar": {
              "outlinewidth": 0,
              "ticks": ""
             }
            },
            "type": "scatterternary"
           }
          ],
          "surface": [
           {
            "colorbar": {
             "outlinewidth": 0,
             "ticks": ""
            },
            "colorscale": [
             [
              0,
              "#0d0887"
             ],
             [
              0.1111111111111111,
              "#46039f"
             ],
             [
              0.2222222222222222,
              "#7201a8"
             ],
             [
              0.3333333333333333,
              "#9c179e"
             ],
             [
              0.4444444444444444,
              "#bd3786"
             ],
             [
              0.5555555555555556,
              "#d8576b"
             ],
             [
              0.6666666666666666,
              "#ed7953"
             ],
             [
              0.7777777777777778,
              "#fb9f3a"
             ],
             [
              0.8888888888888888,
              "#fdca26"
             ],
             [
              1,
              "#f0f921"
             ]
            ],
            "type": "surface"
           }
          ],
          "table": [
           {
            "cells": {
             "fill": {
              "color": "#EBF0F8"
             },
             "line": {
              "color": "white"
             }
            },
            "header": {
             "fill": {
              "color": "#C8D4E3"
             },
             "line": {
              "color": "white"
             }
            },
            "type": "table"
           }
          ]
         },
         "layout": {
          "annotationdefaults": {
           "arrowcolor": "#2a3f5f",
           "arrowhead": 0,
           "arrowwidth": 1
          },
          "coloraxis": {
           "colorbar": {
            "outlinewidth": 0,
            "ticks": ""
           }
          },
          "colorscale": {
           "diverging": [
            [
             0,
             "#8e0152"
            ],
            [
             0.1,
             "#c51b7d"
            ],
            [
             0.2,
             "#de77ae"
            ],
            [
             0.3,
             "#f1b6da"
            ],
            [
             0.4,
             "#fde0ef"
            ],
            [
             0.5,
             "#f7f7f7"
            ],
            [
             0.6,
             "#e6f5d0"
            ],
            [
             0.7,
             "#b8e186"
            ],
            [
             0.8,
             "#7fbc41"
            ],
            [
             0.9,
             "#4d9221"
            ],
            [
             1,
             "#276419"
            ]
           ],
           "sequential": [
            [
             0,
             "#0d0887"
            ],
            [
             0.1111111111111111,
             "#46039f"
            ],
            [
             0.2222222222222222,
             "#7201a8"
            ],
            [
             0.3333333333333333,
             "#9c179e"
            ],
            [
             0.4444444444444444,
             "#bd3786"
            ],
            [
             0.5555555555555556,
             "#d8576b"
            ],
            [
             0.6666666666666666,
             "#ed7953"
            ],
            [
             0.7777777777777778,
             "#fb9f3a"
            ],
            [
             0.8888888888888888,
             "#fdca26"
            ],
            [
             1,
             "#f0f921"
            ]
           ],
           "sequentialminus": [
            [
             0,
             "#0d0887"
            ],
            [
             0.1111111111111111,
             "#46039f"
            ],
            [
             0.2222222222222222,
             "#7201a8"
            ],
            [
             0.3333333333333333,
             "#9c179e"
            ],
            [
             0.4444444444444444,
             "#bd3786"
            ],
            [
             0.5555555555555556,
             "#d8576b"
            ],
            [
             0.6666666666666666,
             "#ed7953"
            ],
            [
             0.7777777777777778,
             "#fb9f3a"
            ],
            [
             0.8888888888888888,
             "#fdca26"
            ],
            [
             1,
             "#f0f921"
            ]
           ]
          },
          "colorway": [
           "#636efa",
           "#EF553B",
           "#00cc96",
           "#ab63fa",
           "#FFA15A",
           "#19d3f3",
           "#FF6692",
           "#B6E880",
           "#FF97FF",
           "#FECB52"
          ],
          "font": {
           "color": "#2a3f5f"
          },
          "geo": {
           "bgcolor": "white",
           "lakecolor": "white",
           "landcolor": "#E5ECF6",
           "showlakes": true,
           "showland": true,
           "subunitcolor": "white"
          },
          "hoverlabel": {
           "align": "left"
          },
          "hovermode": "closest",
          "mapbox": {
           "style": "light"
          },
          "paper_bgcolor": "white",
          "plot_bgcolor": "#E5ECF6",
          "polar": {
           "angularaxis": {
            "gridcolor": "white",
            "linecolor": "white",
            "ticks": ""
           },
           "bgcolor": "#E5ECF6",
           "radialaxis": {
            "gridcolor": "white",
            "linecolor": "white",
            "ticks": ""
           }
          },
          "scene": {
           "xaxis": {
            "backgroundcolor": "#E5ECF6",
            "gridcolor": "white",
            "gridwidth": 2,
            "linecolor": "white",
            "showbackground": true,
            "ticks": "",
            "zerolinecolor": "white"
           },
           "yaxis": {
            "backgroundcolor": "#E5ECF6",
            "gridcolor": "white",
            "gridwidth": 2,
            "linecolor": "white",
            "showbackground": true,
            "ticks": "",
            "zerolinecolor": "white"
           },
           "zaxis": {
            "backgroundcolor": "#E5ECF6",
            "gridcolor": "white",
            "gridwidth": 2,
            "linecolor": "white",
            "showbackground": true,
            "ticks": "",
            "zerolinecolor": "white"
           }
          },
          "shapedefaults": {
           "line": {
            "color": "#2a3f5f"
           }
          },
          "ternary": {
           "aaxis": {
            "gridcolor": "white",
            "linecolor": "white",
            "ticks": ""
           },
           "baxis": {
            "gridcolor": "white",
            "linecolor": "white",
            "ticks": ""
           },
           "bgcolor": "#E5ECF6",
           "caxis": {
            "gridcolor": "white",
            "linecolor": "white",
            "ticks": ""
           }
          },
          "title": {
           "x": 0.05
          },
          "xaxis": {
           "automargin": true,
           "gridcolor": "white",
           "linecolor": "white",
           "ticks": "",
           "title": {
            "standoff": 15
           },
           "zerolinecolor": "white",
           "zerolinewidth": 2
          },
          "yaxis": {
           "automargin": true,
           "gridcolor": "white",
           "linecolor": "white",
           "ticks": "",
           "title": {
            "standoff": 15
           },
           "zerolinecolor": "white",
           "zerolinewidth": 2
          }
         }
        },
        "title": {
         "font": {
          "size": 16
         },
         "text": "Bank Dataset Concept Lattice"
        },
        "width": 1000,
        "xaxis": {
         "showgrid": false,
         "showticklabels": false,
         "zeroline": false
        },
        "yaxis": {
         "showgrid": false,
         "showticklabels": false,
         "zeroline": false
        }
       }
      },
      "text/html": [
       "<div>\n",
       "        \n",
       "        \n",
       "            <div id=\"14cff30d-e792-4b13-b053-054252370d05\" class=\"plotly-graph-div\" style=\"height:500px; width:1000px;\"></div>\n",
       "            <script type=\"text/javascript\">\n",
       "                require([\"plotly\"], function(Plotly) {\n",
       "                    window.PLOTLYENV=window.PLOTLYENV || {};\n",
       "                    \n",
       "                if (document.getElementById(\"14cff30d-e792-4b13-b053-054252370d05\")) {\n",
       "                    Plotly.newPlot(\n",
       "                        '14cff30d-e792-4b13-b053-054252370d05',\n",
       "                        [{\"hoverinfo\": \"none\", \"line\": {\"color\": \"#888\", \"width\": 0.5}, \"mode\": \"lines\", \"type\": \"scatter\", \"x\": [-1.0, 1.5, null, -1.0, -2.5, null, -1.0, -5.5, null, -1.0, -9.5, null, -1.0, -7.5, null, -1.0, -1.5, null, -1.0, 9.5, null, 4.0, -1.5, null, 4.0, 2.5, null, 4.0, 10.5, null, 4.0, 5.5, null, 4.0, 4.5, null, 4.0, -0.5, null, 4.0, 2.5, null, 1.0, -2.5, null, 1.0, -0.5, null, 1.0, -5.5, null, 1.0, -2.5, null, 1.0, -3.5, null, 1.0, 8.5, null, -8.0, 0.5, null, -8.0, -1.5, null, -8.0, -12.5, null, -8.0, -10.5, null, -8.0, -8.5, null, -8.0, 2.5, null, 1.0, 8.5, null, 1.0, -5.5, null, 1.0, -10.5, null, 1.0, -7.5, null, 1.0, 9.5, null, 1.0, 0.5, null, 1.0, -0.5, null, 6.0, 0.5, null, 6.0, 2.5, null, 6.0, 13.5, null, 6.0, 1.5, null, 6.0, 3.5, null, 6.0, 2.5, null, 6.0, 12.5, null, 11.5, 8.0, null, 11.5, 5.0, null, 11.5, 8.5, null, 11.5, 13.5, null, 11.5, 14.5, null, 11.5, 12.5, null, 11.5, 0.5, null, -6.0, 1.5, null, -6.0, 0.5, null, -6.0, -6.5, null, -6.0, -12.5, null, -6.0, 3.5, null, -6.0, -7.5, null, -6.0, -14.5, null, 0.0, 2.5, null, 0.0, -0.5, null, 0.0, -2.5, null, 0.0, 0.5, null, 0.0, 1.5, null, 0.0, -1.5, null, 5.0, 2.5, null, 5.0, -1.5, null, 5.0, 7.5, null, 5.0, 12.5, null, 5.0, 13.5, null, 5.0, 2.5, null, 5.0, -1.5, null, 7.0, -2.5, null, 7.0, 2.5, null, 7.0, 14.5, null, 7.0, 9.5, null, 7.0, 4.5, null, 7.0, 12.5, null, 7.0, 8.5, null, 2.0, 1.5, null, 2.0, -13.5, null, 2.0, -6.5, null, 2.0, 7.5, null, 2.0, -1.5, null, 2.0, -4.5, null, -2.0, 0.5, null, -2.0, -0.5, null, -2.0, 1.5, null, -2.0, -2.5, null, -2.0, -10.5, null, -2.0, -14.5, null, -1.0, -4.5, null, -1.0, 3.5, null, -1.0, 6.5, null, -1.0, 5.5, null, -1.0, -2.5, null, -1.0, 1.5, null, 13.5, 8.0, null, 13.5, 13.5, null, 13.5, 17.5, null, 13.5, 5.5, null, 13.5, 6.5, null, 6.5, 8.0, null, 6.5, 3.0, null, 6.5, -0.5, null, 6.5, 15.5, null, 6.5, 5.5, null, 6.5, 0.5, null, -3.0, 1.5, null, -3.0, -1.5, null, -3.0, 5.5, null, -3.0, -12.5, null, -3.0, -11.5, null, -3.0, -9.5, null, -3.0, -4.5, null, 10.5, 8.0, null, 10.5, 8.5, null, 10.5, -0.5, null, 10.5, 10.5, null, 10.5, 6.5, null, -5.0, 1.5, null, -5.0, -0.5, null, -5.0, -13.5, null, -5.0, -5.5, null, -5.0, -11.5, null, -5.0, 0.5, null, -5.0, -14.5, null, 6.0, 8.5, null, 6.0, 5.5, null, 6.0, 14.5, null, 6.0, 4.5, null, 6.0, 0.5, null, 6.0, 1.5, null, 1.5, 0.0, null, 1.5, 5.0, null, 5.0, 2.5, null, 5.0, 5.5, null, 5.0, 0.5, null, 5.0, 7.5, null, 5.0, 3.5, null, 5.0, 9.5, null, 3.0, -0.5, null, 3.0, 2.5, null, 3.0, 1.5, null, 3.0, 0.5, null, 3.0, -0.5, null, 3.0, 8.5, null, 14.5, 8.0, null, 14.5, 15.5, null, 14.5, 10.5, null, 14.5, 17.5, null, 14.5, 14.5, null, 8.0, 2.5, null, -2.0, 2.5, null, -2.0, -13.5, null, -2.0, -9.5, null, -2.0, -5.5, null, -2.0, 1.5, null, -2.0, -0.5, null, -2.0, -1.5, null, -2.0, -0.5, null, 8.0, 12.5, null, 8.0, 6.5, null, 8.0, 14.5, null, 8.0, 11.5, null, 8.0, 2.5, null, 8.0, 1.5, null, -7.0, -1.5, null, -7.0, -0.5, null, -7.0, -11.5, null, -7.0, -10.5, null, -7.0, -3.5, null, -7.0, -0.5, null, 2.5, 3.0, null, 2.5, -4.0, null, 2.5, 7.0, null, -4.0, -1.5, null, -4.0, -2.5, null, -4.0, -9.5, null, -4.0, -3.5, null, -4.0, -8.5, null, -4.0, 4.5, null, 0.0, 0.5, null, 0.0, -2.5, null, 0.0, -2.5, null, 0.0, -7.5, null, 0.0, -8.5, null, 0.0, 12.5, null, -0.5, 0.0, null, -17.5, -11.5, null, -17.5, -12.5, null, -17.5, -10.5, null, -17.5, -14.5, null, -17.5, -14.5, null, -17.5, -9.5, null, -17.5, -13.5, null, -13.5, -3.5, null, -13.5, -8.5, null, -13.5, -16.5, null, -13.5, -15.5, null, -6.0, -9.5, null, -6.0, -1.5, null, -6.0, -2.5, null, -6.0, 3.5, null, -6.0, -6.5, null, -6.0, -1.5, null, -6.0, -2.5, null, -4.5, -11.5, null, -4.5, 0.5, null, -4.5, 5.5, null, -4.5, -0.5, null, -4.5, -2.5, null, -4.5, -7.5, null, -4.5, -9.5, null, -4.5, -5.5, null, -6.5, -9.5, null, -6.5, 1.5, null, -6.5, -16.5, null, -6.5, -14.5, null, -10.5, -8.5, null, -10.5, -12.5, null, -10.5, -7.5, null, -10.5, -15.5, null, -10.5, -8.0, null, -3.5, 0.5, null, -3.5, 7.5, null, -3.5, -8.5, null, -3.5, 9.5, null, -3.5, -3.5, null, -3.5, -7.5, null, -5.5, -8.5, null, -5.5, -12.5, null, -5.5, 4.5, null, -5.5, -11.5, null, 5.5, 12.5, null, 5.5, 8.5, null, 5.5, 3.5, null, 5.5, -5.0, null, -2.5, 0.0, null, 11.5, -7.5, null, 11.5, 9.5, null, 11.5, 12.5, null, 11.5, 3.5, null, 11.5, 11.5, null, 11.5, 1.5, null, 11.5, 12.5, null, 11.5, 2.5, null, 1.5, 9.5, null, 1.5, -5.5, null, 1.5, -6.5, null, 1.5, 5.5, null, -8.0, -13.5, null, -8.0, -12.5, null, -8.0, -14.5, null, -8.0, -11.5, null, -8.0, -0.5, null, 11.5, -9.5, null, 11.5, 1.5, null, 11.5, 16.5, null, 11.5, 4.0, null, 11.5, 3.0, null, 0.5, 0.0, null, -8.5, -1.5, null, -8.5, 9.5, null, -8.5, -12.5, null, 5.5, 8.5, null, 5.5, 2.5, null, 5.5, 3.5, null, 5.5, -1.5, null, 8.5, 2.5, null, 8.5, -7.5, null, 8.5, 3.5, null, 8.5, 16.5, null, 8.5, 4.0, null, 8.5, -2.5, null, 8.5, 4.5, null, 8.5, 3.5, null, -0.5, -0.5, null, -0.5, 0.5, null, -0.5, -6.5, null, -0.5, -2.5, null, -5.0, -3.5, null, -5.0, -2.5, null, -5.0, -7.5, null, -5.0, 0.5, null, -5.0, -2.5, null, 10.5, 7.5, null, 10.5, 6.5, null, 10.5, 10.5, null, 10.5, 17.5, null, 10.5, 0.0, null, 10.5, 2.0, null, -10.5, -3.5, null, -10.5, -8.5, null, -10.5, -2.5, null, -10.5, -10.5, null, -10.5, -0.5, null, -10.5, -13.5, null, -12.5, -13.5, null, -12.5, -14.5, null, -12.5, -1.5, null, 1.5, -13.5, null, 1.5, -1.5, null, 1.5, 2.5, null, 1.5, 7.5, null, 1.5, 2.0, null, 1.5, 4.0, null, -12.5, -11.5, null, -12.5, -9.5, null, -12.5, -3.5, null, -12.5, -13.5, null, -12.5, -5.5, null, -11.5, -15.5, null, -4.0, -3.5, null, -4.0, 6.5, null, -4.0, -8.5, null, -4.0, -1.5, null, -4.0, -2.5, null, -8.5, -5.5, null, -8.5, 1.5, null, -8.5, -16.5, null, -8.5, 3.0, null, -8.5, -7.0, null, 0.5, 15.5, null, 0.5, 10.5, null, 0.5, -2.5, null, 0.5, 0.0, null, 0.5, -3.0, null, 0.5, -5.5, null, 0.5, 4.5, null, 0.5, 0.5, null, 7.0, 7.5, null, 7.0, -3.5, null, 7.0, 14.5, null, 7.0, 9.5, null, 7.0, 0.5, null, 9.5, 4.5, null, 9.5, 16.5, null, 9.5, 3.0, null, 7.5, 12.5, null, 7.5, -8.5, null, 7.5, 2.5, null, 7.5, 4.5, null, 7.5, -0.5, null, -2.5, 9.5, null, -2.5, -11.5, null, 7.5, 4.5, null, 7.5, 15.5, null, 7.5, 14.5, null, 7.5, 0.5, null, 7.5, -3.0, null, 0.0, -1.5, null, 0.0, 2.5, null, -9.5, -7.5, null, -9.5, -1.5, null, -9.5, -11.5, null, -9.5, -12.5, null, 7.5, 1.5, null, 7.5, 16.5, null, 7.5, 12.5, null, 7.5, 3.5, null, -1.5, -3.0, null, -1.5, 2.0, null, -1.5, 0.0, null, 0.0, -0.5, null, 0.0, 13.5, null, 0.0, -6.5, null, -6.5, 6.5, null, -6.5, -6.5, null, -6.5, 5.5, null, -10.5, -6.5, null, -2.5, 0.5, null, -2.5, -3.0, null, -2.5, -3.5, null, -2.5, -0.5, null, -2.5, 8.5, null, -2.5, 4.5, null, -2.5, -0.5, null, -2.5, -5.5, null, 3.5, 13.5, null, 3.5, 1.5, null, 3.5, -5.5, null, 3.5, -1.5, null, -3.5, 12.5, null, -3.5, 0.5, null, 13.5, 12.5, null, 13.5, -1.5, null, 13.5, 6.5, null, 13.5, 3.5, null, -9.5, -7.5, null, -9.5, -13.5, null, -9.5, 2.5, null, 0.5, -3.0, null, 2.0, 12.5, null, 2.0, 3.5, null, 2.0, 4.5, null, 2.0, 1.5, null, 1.5, 6.5, null, 1.5, -4.5, null, -7.5, -13.5, null, -7.5, -11.5, null, 14.5, 12.5, null, 14.5, 14.5, null, 14.5, 16.5, null, -7.5, -4.5, null, -7.5, -1.5, null, -7.5, -11.5, null, 15.5, 8.5, null, 15.5, 13.5, null, -7.5, 3.5, null, -7.5, -15.5, null, -7.5, -7.0, null, -13.5, -8.5, null, -13.5, -11.5, null, -13.5, -13.5, null, -1.5, 16.5, null, 4.0, -4.5, null, 4.0, -11.5, null, 4.0, -0.5, null, 4.0, 1.5, null, 12.5, 14.5, null, 12.5, 17.5, null, 9.5, 8.5, null, 9.5, 12.5, null, 9.5, 13.5, null, 9.5, -0.5, null, 9.5, 2.5, null, 9.5, 4.5, null, 9.5, 2.5, null, 9.5, 16.5, null, 9.5, 14.5, null, -1.5, 0.5, null, -1.5, -5.5, null, -1.5, 5.5, null, -5.5, -14.5, null, -5.5, -9.5, null, -5.5, 2.5, null, -4.5, -14.5, null, -4.5, 3.5, null, -4.5, -15.5, null, -14.5, -14.5, null, -14.5, -16.5, null, -14.5, -15.5, null, -14.5, -7.0, null, 4.5, 8.5, null, 4.5, 2.5, null, 4.5, -5.5, null, 6.5, 12.5, null, 13.5, 17.5, null, 13.5, 5.5, null, -14.5, -11.5, null, -14.5, -16.5, null, 3.0, 2.5, null, 3.0, -12.5, null, 3.0, -0.5, null, -11.5, -14.5, null, -11.5, -12.5, null, -11.5, 2.5, null, -11.5, -13.5, null, 10.5, 4.5, null, 10.5, 4.5, null, -0.5, -7.0, null, -0.5, -6.5, null, -16.5, -12.5, null, 4.5, 2.5, null, -7.0, -4.5, null, -7.0, -9.5, null, -7.0, -2.5, null, -9.5, -1.5, null, -9.5, -6.5, null, 2.5, 4.5, null, 2.5, -5.5, null, -0.5, -6.5, null, 17.5, 12.5, null, 4.5, 14.5, null, 4.5, -3.0, null, -14.5, -4.5, null, 2.5, -6.5, null, 2.5, 6.5, null, 2.5, -1.5, null, 3.5, -1.5, null, 3.5, 6.5, null, 3.5, -4.5, null, -5.5, -3.0, null, -4.5, -1.5, null], \"y\": [3, 2, null, 3, 2, null, 3, 4, null, 3, 4, null, 3, 4, null, 3, 4, null, 3, 4, null, 3, 2, null, 3, 2, null, 3, 4, null, 3, 4, null, 3, 4, null, 3, 4, null, 3, 4, null, 3, 2, null, 3, 2, null, 3, 4, null, 3, 4, null, 3, 4, null, 3, 4, null, 3, 2, null, 3, 2, null, 3, 4, null, 3, 4, null, 3, 4, null, 3, 4, null, 7, 6, null, 7, 6, null, 7, 6, null, 7, 6, null, 7, 6, null, 7, 8, null, 7, 8, null, 3, 2, null, 3, 2, null, 3, 4, null, 3, 4, null, 3, 4, null, 3, 4, null, 3, 4, null, 4, 3, null, 4, 3, null, 4, 5, null, 4, 5, null, 4, 5, null, 4, 5, null, 4, 5, null, 3, 2, null, 3, 2, null, 3, 4, null, 3, 4, null, 3, 4, null, 3, 4, null, 3, 4, null, 9, 8, null, 9, 8, null, 9, 8, null, 9, 8, null, 9, 8, null, 9, 8, null, 7, 6, null, 7, 6, null, 7, 6, null, 7, 6, null, 7, 6, null, 7, 8, null, 7, 8, null, 3, 2, null, 3, 2, null, 3, 4, null, 3, 4, null, 3, 4, null, 3, 4, null, 3, 4, null, 3, 2, null, 3, 4, null, 3, 4, null, 3, 4, null, 3, 4, null, 3, 4, null, 3, 2, null, 3, 2, null, 3, 4, null, 3, 4, null, 3, 4, null, 3, 4, null, 7, 6, null, 7, 6, null, 7, 6, null, 7, 6, null, 7, 8, null, 7, 8, null, 4, 3, null, 4, 5, null, 4, 5, null, 4, 5, null, 4, 5, null, 4, 3, null, 4, 3, null, 4, 5, null, 4, 5, null, 4, 5, null, 4, 5, null, 3, 2, null, 3, 2, null, 3, 4, null, 3, 4, null, 3, 4, null, 3, 4, null, 3, 4, null, 4, 3, null, 4, 5, null, 4, 5, null, 4, 5, null, 4, 5, null, 3, 2, null, 3, 2, null, 3, 4, null, 3, 4, null, 3, 4, null, 3, 4, null, 3, 4, null, 7, 6, null, 7, 6, null, 7, 6, null, 7, 6, null, 7, 8, null, 7, 8, null, 2, 1, null, 2, 3, null, 3, 2, null, 3, 4, null, 3, 4, null, 3, 4, null, 3, 4, null, 3, 4, null, 3, 2, null, 3, 2, null, 3, 4, null, 3, 4, null, 3, 4, null, 3, 4, null, 4, 3, null, 4, 5, null, 4, 5, null, 4, 5, null, 4, 5, null, 3, 2, null, 7, 6, null, 7, 6, null, 7, 6, null, 7, 6, null, 7, 6, null, 7, 6, null, 7, 8, null, 7, 8, null, 7, 6, null, 7, 6, null, 7, 6, null, 7, 6, null, 7, 8, null, 7, 8, null, 3, 2, null, 3, 2, null, 3, 4, null, 3, 4, null, 3, 4, null, 3, 4, null, 8, 7, null, 8, 7, null, 8, 7, null, 3, 2, null, 3, 2, null, 3, 4, null, 3, 4, null, 3, 4, null, 3, 4, null, 3, 2, null, 3, 2, null, 3, 4, null, 3, 4, null, 3, 4, null, 3, 4, null, 2, 1, null, 5, 4, null, 5, 4, null, 5, 4, null, 5, 4, null, 5, 6, null, 5, 6, null, 5, 6, null, 4, 5, null, 4, 5, null, 4, 5, null, 4, 5, null, 7, 6, null, 7, 6, null, 7, 6, null, 7, 6, null, 7, 6, null, 7, 8, null, 7, 8, null, 5, 4, null, 5, 4, null, 5, 4, null, 5, 4, null, 5, 6, null, 5, 6, null, 5, 6, null, 5, 6, null, 4, 5, null, 4, 5, null, 4, 5, null, 4, 5, null, 6, 5, null, 6, 5, null, 6, 5, null, 6, 5, null, 6, 7, null, 5, 4, null, 5, 4, null, 5, 6, null, 5, 6, null, 5, 6, null, 5, 6, null, 4, 5, null, 4, 5, null, 4, 5, null, 4, 5, null, 6, 5, null, 6, 5, null, 6, 5, null, 6, 7, null, 2, 1, null, 5, 4, null, 5, 4, null, 5, 4, null, 5, 4, null, 5, 6, null, 5, 6, null, 5, 6, null, 5, 6, null, 4, 5, null, 4, 5, null, 4, 5, null, 4, 5, null, 7, 6, null, 7, 6, null, 7, 6, null, 7, 6, null, 7, 8, null, 6, 5, null, 6, 5, null, 6, 5, null, 6, 7, null, 6, 7, null, 2, 1, null, 5, 4, null, 5, 6, null, 5, 6, null, 4, 5, null, 4, 5, null, 4, 5, null, 4, 5, null, 6, 5, null, 6, 5, null, 6, 5, null, 6, 5, null, 6, 7, null, 5, 6, null, 5, 6, null, 5, 6, null, 5, 4, null, 5, 6, null, 5, 6, null, 5, 6, null, 7, 6, null, 7, 6, null, 7, 6, null, 7, 8, null, 7, 8, null, 6, 5, null, 6, 5, null, 6, 5, null, 6, 5, null, 6, 7, null, 6, 7, null, 5, 4, null, 5, 4, null, 5, 4, null, 5, 4, null, 5, 6, null, 5, 6, null, 4, 5, null, 4, 5, null, 4, 5, null, 6, 5, null, 6, 5, null, 6, 5, null, 6, 5, null, 6, 7, null, 6, 7, null, 5, 4, null, 5, 4, null, 5, 4, null, 5, 6, null, 5, 6, null, 4, 5, null, 7, 6, null, 7, 6, null, 7, 6, null, 7, 6, null, 7, 8, null, 6, 5, null, 6, 5, null, 6, 5, null, 6, 7, null, 6, 7, null, 6, 5, null, 6, 5, null, 6, 5, null, 6, 7, null, 6, 7, null, 4, 5, null, 4, 5, null, 4, 5, null, 7, 6, null, 7, 6, null, 7, 6, null, 7, 6, null, 7, 8, null, 6, 5, null, 6, 5, null, 6, 7, null, 5, 4, null, 5, 4, null, 5, 4, null, 5, 4, null, 5, 6, null, 4, 5, null, 4, 5, null, 6, 5, null, 6, 5, null, 6, 5, null, 6, 5, null, 6, 7, null, 1, 2, null, 1, 2, null, 5, 4, null, 5, 4, null, 5, 6, null, 5, 6, null, 4, 5, null, 4, 5, null, 4, 5, null, 4, 5, null, 8, 7, null, 8, 7, null, 8, 7, null, 7, 6, null, 7, 6, null, 7, 6, null, 6, 5, null, 6, 5, null, 6, 5, null, 4, 5, null, 6, 5, null, 6, 7, null, 5, 4, null, 5, 4, null, 5, 4, null, 5, 4, null, 5, 6, null, 5, 6, null, 4, 5, null, 4, 5, null, 4, 5, null, 4, 5, null, 6, 5, null, 6, 5, null, 5, 6, null, 5, 6, null, 5, 6, null, 5, 6, null, 4, 5, null, 4, 5, null, 4, 5, null, 8, 7, null, 7, 6, null, 7, 6, null, 7, 6, null, 7, 8, null, 5, 6, null, 5, 6, null, 4, 5, null, 4, 5, null, 6, 5, null, 6, 5, null, 6, 5, null, 5, 4, null, 5, 4, null, 5, 6, null, 5, 4, null, 5, 6, null, 6, 5, null, 6, 5, null, 6, 7, null, 5, 4, null, 5, 6, null, 5, 6, null, 4, 5, null, 7, 6, null, 7, 6, null, 7, 8, null, 7, 8, null, 6, 5, null, 6, 5, null, 5, 4, null, 5, 4, null, 5, 6, null, 5, 6, null, 5, 6, null, 4, 5, null, 4, 5, null, 4, 5, null, 4, 5, null, 6, 5, null, 6, 5, null, 6, 5, null, 5, 4, null, 5, 6, null, 5, 6, null, 4, 5, null, 4, 5, null, 4, 5, null, 6, 5, null, 6, 5, null, 6, 5, null, 6, 7, null, 5, 4, null, 5, 6, null, 5, 6, null, 6, 5, null, 6, 5, null, 6, 5, null, 4, 5, null, 4, 5, null, 7, 6, null, 7, 6, null, 7, 8, null, 6, 5, null, 5, 6, null, 5, 6, null, 5, 6, null, 5, 4, null, 5, 6, null, 8, 7, null, 6, 5, null, 5, 6, null, 4, 5, null, 7, 6, null, 7, 6, null, 7, 8, null, 6, 5, null, 6, 5, null, 5, 6, null, 5, 6, null, 4, 5, null, 5, 4, null, 6, 5, null, 6, 7, null, 5, 6, null, 4, 5, null, 4, 5, null, 4, 5, null, 6, 5, null, 6, 5, null, 5, 6, null, 6, 7, null, 6, 5, null]}, {\"hoverinfo\": \"text\", \"hovertext\": [\"Concept 124<br>extent (len: 1320): 4, 7, 8, 11, 26, 43, 66, 67, 73, 74,...<br>intent (len: 6): poutcome_not_success, duration_lt_968, duration_lt_253, month_not_oct, marital_is_married, balance_lt_1384<br>new extent (len: 47): 913, 4519, 2447, 731, 3883, 1195, 3710, 1707, 2075, 3548,...<br>new intent (len: 0): emptyset<br>mean_y_true: 0.02<br>mean_y_pred: 0.0<br>Metrics<br>\\taccuracy: 0.99<br>\\tprecision: 1.0<br>\\trecall: 0.18<br>\\tneg_precision: 0.99<br>\\tneg_recall: 1.0<br><br>\", \"Concept 133<br>extent (len: 1274): 3, 37, 55, 89, 96, 111, 116, 122, 176, 185,...<br>intent (len: 6): poutcome_not_success, duration_lt_968, month_not_oct, previous_lt_1, housing_is_yes, marital_is_married<br>new extent (len: 110): 3182, 350, 4442, 85, 2682, 2655, 1553, 2285, 3702, 1585,...<br>new intent (len: 0): emptyset<br>mean_y_true: 0.05<br>mean_y_pred: 0.01<br>Metrics<br>\\taccuracy: 0.96<br>\\tprecision: 0.94<br>\\trecall: 0.24<br>\\tneg_precision: 0.96<br>\\tneg_recall: 1.0<br><br>\", \"Concept 130<br>extent (len: 1127): 4, 7, 8, 11, 26, 43, 66, 67, 73, 74,...<br>intent (len: 6): poutcome_not_success, duration_lt_968, duration_lt_253, previous_lt_1, marital_is_married, balance_lt_1384<br>new extent (len: 9): 737, 160, 2417, 4090, 3311, 2454, 2340, 2750, 2041<br>new intent (len: 0): emptyset<br>mean_y_true: 0.02<br>mean_y_pred: 0.0<br>Metrics<br>\\taccuracy: 0.99<br>\\tprecision: 0.75<br>\\trecall: 0.17<br>\\tneg_precision: 0.99<br>\\tneg_recall: 1.0<br><br>\", \"Concept 126<br>extent (len: 1318): 3, 37, 55, 89, 96, 111, 116, 122, 176, 185,...<br>intent (len: 6): poutcome_not_success, duration_lt_968, duration_lt_253, month_not_oct, previous_lt_1, housing_is_yes<br>new extent (len: 115): 1878, 3983, 1646, 463, 2038, 3657, 4421, 846, 3485, 3680,...<br>new intent (len: 0): emptyset<br>mean_y_true: 0.01<br>mean_y_pred: 0.0<br>Metrics<br>\\taccuracy: 0.99<br>\\tprecision: 1.0<br>\\trecall: 0.18<br>\\tneg_precision: 0.99<br>\\tneg_recall: 1.0<br><br>\", \"Concept 10<br>extent (len: 2730): 0, 64, 504, 688, 732, 922, 1196, 2451, 2568, 2687,...<br>intent (len: 2): duration_lt_968, marital_is_married<br>new extent (len: 1): 3931<br>new intent (len: 0): emptyset<br>mean_y_true: 0.09<br>mean_y_pred: 0.05<br>Metrics<br>\\taccuracy: 0.95<br>\\tprecision: 0.86<br>\\trecall: 0.5<br>\\tneg_precision: 0.95<br>\\tneg_recall: 0.99<br><br>\", \"Concept 132<br>extent (len: 1502): 4, 7, 8, 11, 26, 43, 66, 67, 73, 74,...<br>intent (len: 6): poutcome_not_success, duration_lt_968, month_not_oct, previous_lt_1, housing_is_yes, balance_lt_1384<br>new extent (len: 186): 3320, 279, 4210, 3646, 806, 4192, 486, 2428, 1934, 927,...<br>new intent (len: 0): emptyset<br>mean_y_true: 0.05<br>mean_y_pred: 0.01<br>Metrics<br>\\taccuracy: 0.96<br>\\tprecision: 0.91<br>\\trecall: 0.27<br>\\tneg_precision: 0.96<br>\\tneg_recall: 1.0<br><br>\", \"Concept 115<br>extent (len: 1208): 4, 7, 8, 11, 26, 43, 66, 67, 73, 74,...<br>intent (len: 5): poutcome_not_success, month_not_oct, housing_is_yes, marital_is_married, balance_lt_1384<br>new extent (len: 5): 369, 2837, 354, 2068, 804<br>new intent (len: 0): emptyset<br>mean_y_true: 0.05<br>mean_y_pred: 0.02<br>Metrics<br>\\taccuracy: 0.96<br>\\tprecision: 0.87<br>\\trecall: 0.4<br>\\tneg_precision: 0.97<br>\\tneg_recall: 1.0<br><br>\", \"Concept 122<br>extent (len: 1245): 2, 65, 136, 187, 208, 232, 314, 331, 375, 423,...<br>intent (len: 6): poutcome_not_success, duration_lt_968, duration_lt_253, month_not_oct, housing_is_yes, balance_lt_1384<br>new extent (len: 83): 2067, 3380, 4463, 2345, 893, 4191, 4434, 3048, 1073, 3493,...<br>new intent (len: 0): emptyset<br>mean_y_true: 0.02<br>mean_y_pred: 0.0<br>Metrics<br>\\taccuracy: 0.99<br>\\tprecision: 1.0<br>\\trecall: 0.16<br>\\tneg_precision: 0.99<br>\\tneg_recall: 1.0<br><br>\", \"Concept 0<br>extent (len: 4521): 0, 64, 504, 688, 732, 922, 1196, 2451, 2568, 2687,...<br>intent (len: 0): emptyset<br>new extent (len: 0): emptyset<br>new intent (len: 0): emptyset<br>mean_y_true: 0.12<br>mean_y_pred: 0.08<br>Metrics<br>\\taccuracy: 0.94<br>\\tprecision: 0.86<br>\\trecall: 0.59<br>\\tneg_precision: 0.95<br>\\tneg_recall: 0.99<br><br>\", \"Concept 18<br>extent (len: 3258): 2, 65, 136, 187, 208, 232, 314, 331, 375, 423,...<br>intent (len: 2): poutcome_not_success, balance_lt_1384<br>new extent (len: 0): emptyset<br>new intent (len: 0): emptyset<br>mean_y_true: 0.09<br>mean_y_pred: 0.06<br>Metrics<br>\\taccuracy: 0.95<br>\\tprecision: 0.84<br>\\trecall: 0.53<br>\\tneg_precision: 0.96<br>\\tneg_recall: 0.99<br><br>\", \"Concept 134<br>extent (len: 1633): 4, 7, 8, 11, 26, 43, 66, 67, 73, 74,...<br>intent (len: 6): poutcome_not_success, duration_lt_968, month_not_oct, previous_lt_1, marital_is_married, balance_lt_1384<br>new extent (len: 206): 1814, 3178, 1880, 3540, 2412, 1745, 2763, 3080, 4513, 589,...<br>new intent (len: 0): emptyset<br>mean_y_true: 0.05<br>mean_y_pred: 0.02<br>Metrics<br>\\taccuracy: 0.96<br>\\tprecision: 0.86<br>\\trecall: 0.31<br>\\tneg_precision: 0.97<br>\\tneg_recall: 1.0<br><br>\", \"Concept 120<br>extent (len: 814): 4, 7, 8, 11, 26, 43, 66, 67, 73, 74,...<br>intent (len: 6): duration_lt_968, duration_lt_253, month_not_oct, housing_is_yes, marital_is_married, balance_lt_1384<br>new extent (len: 3): 1421, 1167, 464<br>new intent (len: 0): emptyset<br>mean_y_true: 0.01<br>mean_y_pred: 0.0<br>Metrics<br>\\taccuracy: 0.99<br>\\tprecision: 1.0<br>\\trecall: 0.27<br>\\tneg_precision: 0.99<br>\\tneg_recall: 1.0<br><br>\", \"Concept 128<br>extent (len: 1008): 4, 7, 8, 11, 26, 43, 66, 67, 73, 74,...<br>intent (len: 6): poutcome_not_success, duration_lt_968, duration_lt_253, previous_lt_1, housing_is_yes, balance_lt_1384<br>new extent (len: 1): 2773<br>new intent (len: 0): emptyset<br>mean_y_true: 0.01<br>mean_y_pred: 0.0<br>Metrics<br>\\taccuracy: 0.99<br>\\tprecision: 1.0<br>\\trecall: 0.23<br>\\tneg_precision: 0.99<br>\\tneg_recall: 1.0<br><br>\", \"Concept 16<br>extent (len: 2544): 1, 207, 236, 253, 310, 496, 528, 563, 685, 769,...<br>intent (len: 2): month_not_oct, housing_is_yes<br>new extent (len: 0): emptyset<br>new intent (len: 0): emptyset<br>mean_y_true: 0.08<br>mean_y_pred: 0.05<br>Metrics<br>\\taccuracy: 0.95<br>\\tprecision: 0.91<br>\\trecall: 0.5<br>\\tneg_precision: 0.96<br>\\tneg_recall: 1.0<br><br>\", \"Concept 116<br>extent (len: 1547): 4, 7, 8, 11, 26, 43, 66, 67, 73, 74,...<br>intent (len: 5): poutcome_not_success, month_not_oct, previous_lt_1, housing_is_yes, balance_lt_1384<br>new extent (len: 18): 2274, 4265, 4505, 1333, 3653, 494, 980, 295, 1431, 794,...<br>new intent (len: 0): emptyset<br>mean_y_true: 0.06<br>mean_y_pred: 0.03<br>Metrics<br>\\taccuracy: 0.96<br>\\tprecision: 0.89<br>\\trecall: 0.39<br>\\tneg_precision: 0.96<br>\\tneg_recall: 1.0<br><br>\", \"Concept 119<br>extent (len: 996): 4, 7, 8, 11, 26, 43, 66, 67, 73, 74,...<br>intent (len: 5): poutcome_not_success, previous_lt_1, housing_is_yes, marital_is_married, balance_lt_1384<br>new extent (len: 0): emptyset<br>new intent (len: 0): emptyset<br>mean_y_true: 0.05<br>mean_y_pred: 0.02<br>Metrics<br>\\taccuracy: 0.96<br>\\tprecision: 0.81<br>\\trecall: 0.35<br>\\tneg_precision: 0.97<br>\\tneg_recall: 1.0<br><br>\", \"Concept 123<br>extent (len: 1055): 1, 207, 236, 253, 310, 496, 528, 563, 685, 769,...<br>intent (len: 6): poutcome_not_success, duration_lt_968, duration_lt_253, month_not_oct, housing_is_yes, marital_is_married<br>new extent (len: 45): 685, 926, 1521, 496, 3576, 3972, 1535, 3040, 2691, 2764,...<br>new intent (len: 0): emptyset<br>mean_y_true: 0.02<br>mean_y_pred: 0.0<br>Metrics<br>\\taccuracy: 0.99<br>\\tprecision: 1.0<br>\\trecall: 0.18<br>\\tneg_precision: 0.99<br>\\tneg_recall: 1.0<br><br>\", \"Concept 117<br>extent (len: 1309): 3, 37, 55, 89, 96, 111, 116, 122, 176, 185,...<br>intent (len: 5): poutcome_not_success, month_not_oct, previous_lt_1, housing_is_yes, marital_is_married<br>new extent (len: 8): 3730, 3229, 1959, 2591, 1319, 4342, 3810, 2406<br>new intent (len: 0): emptyset<br>mean_y_true: 0.06<br>mean_y_pred: 0.02<br>Metrics<br>\\taccuracy: 0.96<br>\\tprecision: 0.9<br>\\trecall: 0.36<br>\\tneg_precision: 0.96<br>\\tneg_recall: 1.0<br><br>\", \"Concept 121<br>extent (len: 817): 4, 7, 8, 11, 26, 43, 66, 67, 73, 74,...<br>intent (len: 6): poutcome_not_success, duration_lt_968, duration_lt_253, housing_is_yes, marital_is_married, balance_lt_1384<br>new extent (len: 3): 3315, 903, 3346<br>new intent (len: 0): emptyset<br>mean_y_true: 0.01<br>mean_y_pred: 0.0<br>Metrics<br>\\taccuracy: 0.99<br>\\tprecision: 1.0<br>\\trecall: 0.17<br>\\tneg_precision: 0.99<br>\\tneg_recall: 1.0<br><br>\", \"Concept 17<br>extent (len: 2747): 1, 207, 236, 253, 310, 496, 528, 563, 685, 769,...<br>intent (len: 2): month_not_oct, marital_is_married<br>new extent (len: 0): emptyset<br>new intent (len: 0): emptyset<br>mean_y_true: 0.09<br>mean_y_pred: 0.06<br>Metrics<br>\\taccuracy: 0.95<br>\\tprecision: 0.85<br>\\trecall: 0.53<br>\\tneg_precision: 0.95<br>\\tneg_recall: 0.99<br><br>\", \"Concept 137<br>extent (len: 811): 4, 7, 8, 11, 26, 43, 66, 67, 73, 74,...<br>intent (len: 7): poutcome_not_success, duration_lt_968, duration_lt_253, month_not_oct, housing_is_yes, marital_is_married, balance_lt_1384<br>new extent (len: 158): 212, 482, 3471, 1311, 1020, 3815, 4485, 1621, 3976, 1324,...<br>new intent (len: 0): emptyset<br>mean_y_true: 0.01<br>mean_y_pred: 0.0<br>Metrics<br>\\taccuracy: 0.99<br>\\tprecision: 1.0<br>\\trecall: 0.2<br>\\tneg_precision: 0.99<br>\\tneg_recall: 1.0<br><br>\", \"Concept 131<br>extent (len: 1176): 4, 7, 8, 11, 26, 43, 66, 67, 73, 74,...<br>intent (len: 6): poutcome_not_success, duration_lt_968, month_not_oct, housing_is_yes, marital_is_married, balance_lt_1384<br>new extent (len: 53): 2971, 663, 2849, 3066, 3922, 3584, 2332, 1386, 3412, 1970,...<br>new intent (len: 0): emptyset<br>mean_y_true: 0.04<br>mean_y_pred: 0.01<br>Metrics<br>\\taccuracy: 0.97<br>\\tprecision: 0.94<br>\\trecall: 0.29<br>\\tneg_precision: 0.97<br>\\tneg_recall: 1.0<br><br>\", \"Concept 135<br>extent (len: 969): 4, 7, 8, 11, 26, 43, 66, 67, 73, 74,...<br>intent (len: 6): poutcome_not_success, duration_lt_968, previous_lt_1, housing_is_yes, marital_is_married, balance_lt_1384<br>new extent (len: 1): 61<br>new intent (len: 0): emptyset<br>mean_y_true: 0.04<br>mean_y_pred: 0.01<br>Metrics<br>\\taccuracy: 0.97<br>\\tprecision: 0.8<br>\\trecall: 0.22<br>\\tneg_precision: 0.97<br>\\tneg_recall: 1.0<br><br>\", \"Concept 118<br>extent (len: 1675): 4, 7, 8, 11, 26, 43, 66, 67, 73, 74,...<br>intent (len: 5): poutcome_not_success, month_not_oct, previous_lt_1, marital_is_married, balance_lt_1384<br>new extent (len: 15): 2760, 568, 2827, 1175, 4209, 3123, 2972, 704, 3914, 3152,...<br>new intent (len: 0): emptyset<br>mean_y_true: 0.06<br>mean_y_pred: 0.03<br>Metrics<br>\\taccuracy: 0.96<br>\\tprecision: 0.8<br>\\trecall: 0.43<br>\\tneg_precision: 0.96<br>\\tneg_recall: 0.99<br><br>\", \"Concept 136<br>extent (len: 992): 4, 7, 8, 11, 26, 43, 66, 67, 73, 74,...<br>intent (len: 6): poutcome_not_success, month_not_oct, previous_lt_1, housing_is_yes, marital_is_married, balance_lt_1384<br>new extent (len: 27): 2202, 4511, 4101, 2748, 1085, 4495, 3074, 4316, 1156, 1047,...<br>new intent (len: 0): emptyset<br>mean_y_true: 0.05<br>mean_y_pred: 0.02<br>Metrics<br>\\taccuracy: 0.97<br>\\tprecision: 0.85<br>\\trecall: 0.36<br>\\tneg_precision: 0.97<br>\\tneg_recall: 1.0<br><br>\", \"Concept 19<br>extent (len: 4271): 0, 64, 504, 688, 732, 922, 1196, 2451, 2568, 2687,...<br>intent (len: 2): poutcome_not_success, duration_lt_968<br>new extent (len: 2): 1750, 1928<br>new intent (len: 0): emptyset<br>mean_y_true: 0.09<br>mean_y_pred: 0.04<br>Metrics<br>\\taccuracy: 0.95<br>\\tprecision: 0.87<br>\\trecall: 0.45<br>\\tneg_precision: 0.95<br>\\tneg_recall: 0.99<br><br>\", \"Concept 15<br>extent (len: 3286): 2, 65, 136, 187, 208, 232, 314, 331, 375, 423,...<br>intent (len: 2): month_not_oct, balance_lt_1384<br>new extent (len: 0): emptyset<br>new intent (len: 0): emptyset<br>mean_y_true: 0.1<br>mean_y_pred: 0.07<br>Metrics<br>\\taccuracy: 0.95<br>\\tprecision: 0.86<br>\\trecall: 0.57<br>\\tneg_precision: 0.96<br>\\tneg_recall: 0.99<br><br>\", \"Concept 129<br>extent (len: 856): 3, 37, 55, 89, 96, 111, 116, 122, 176, 185,...<br>intent (len: 6): poutcome_not_success, duration_lt_968, duration_lt_253, previous_lt_1, housing_is_yes, marital_is_married<br>new extent (len: 1): 1021<br>new intent (len: 0): emptyset<br>mean_y_true: 0.01<br>mean_y_pred: 0.0<br>Metrics<br>\\taccuracy: 0.99<br>\\tprecision: 1.0<br>\\trecall: 0.17<br>\\tneg_precision: 0.99<br>\\tneg_recall: 1.0<br><br>\", \"Concept 1<br>extent (len: 3337): 2, 65, 136, 187, 208, 232, 314, 331, 375, 423,...<br>intent (len: 1): balance_lt_1384<br>new extent (len: 0): emptyset<br>new intent (len: 1): balance_lt_1384<br>mean_y_true: 0.1<br>mean_y_pred: 0.07<br>Metrics<br>\\taccuracy: 0.95<br>\\tprecision: 0.85<br>\\trecall: 0.59<br>\\tneg_precision: 0.95<br>\\tneg_recall: 0.99<br><br>\", \"Concept 127<br>extent (len: 1513): 3, 37, 55, 89, 96, 111, 116, 122, 176, 185,...<br>intent (len: 6): poutcome_not_success, duration_lt_968, duration_lt_253, month_not_oct, previous_lt_1, marital_is_married<br>new extent (len: 199): 3495, 94, 740, 1462, 3289, 3801, 2216, 4023, 3186, 1879,...<br>new intent (len: 0): emptyset<br>mean_y_true: 0.02<br>mean_y_pred: 0.0<br>Metrics<br>\\taccuracy: 0.98<br>\\tprecision: 1.0<br>\\trecall: 0.13<br>\\tneg_precision: 0.98<br>\\tneg_recall: 1.0<br><br>\", \"Concept 125<br>extent (len: 1800): 4, 7, 8, 11, 26, 43, 66, 67, 73, 74,...<br>intent (len: 6): poutcome_not_success, duration_lt_968, duration_lt_253, month_not_oct, previous_lt_1, balance_lt_1384<br>new extent (len: 334): 1977, 3772, 2576, 1352, 668, 817, 1692, 2664, 4354, 4341,...<br>new intent (len: 0): emptyset<br>mean_y_true: 0.02<br>mean_y_pred: 0.0<br>Metrics<br>\\taccuracy: 0.98<br>\\tprecision: 1.0<br>\\trecall: 0.18<br>\\tneg_precision: 0.98<br>\\tneg_recall: 1.0<br><br>\", \"Concept 141<br>extent (len: 656): 4, 7, 8, 11, 26, 43, 66, 67, 73, 74,...<br>intent (len: 7): poutcome_not_success, duration_lt_968, duration_lt_253, previous_lt_1, housing_is_yes, marital_is_married, balance_lt_1384<br>new extent (len: 3): 2911, 3826, 4092<br>new intent (len: 0): emptyset<br>mean_y_true: 0.01<br>mean_y_pred: 0.0<br>Metrics<br>\\taccuracy: 0.99<br>\\tprecision: 1.0<br>\\trecall: 0.17<br>\\tneg_precision: 0.99<br>\\tneg_recall: 1.0<br><br>\", \"Concept 66<br>extent (len: 1643): 1, 207, 236, 253, 310, 496, 528, 563, 685, 769,...<br>intent (len: 4): poutcome_not_success, duration_lt_968, duration_lt_253, housing_is_yes<br>new extent (len: 1): 3527<br>new intent (len: 0): emptyset<br>mean_y_true: 0.02<br>mean_y_pred: 0.0<br>Metrics<br>\\taccuracy: 0.98<br>\\tprecision: 1.0<br>\\trecall: 0.24<br>\\tneg_precision: 0.98<br>\\tneg_recall: 1.0<br><br>\", \"Concept 90<br>extent (len: 820): 4, 7, 8, 11, 26, 43, 66, 67, 73, 74,...<br>intent (len: 5): duration_lt_968, duration_lt_253, housing_is_yes, marital_is_married, balance_lt_1384<br>new extent (len: 0): emptyset<br>new intent (len: 0): emptyset<br>mean_y_true: 0.02<br>mean_y_pred: 0.0<br>Metrics<br>\\taccuracy: 0.99<br>\\tprecision: 1.0<br>\\trecall: 0.23<br>\\tneg_precision: 0.99<br>\\tneg_recall: 1.0<br><br>\", \"Concept 20<br>extent (len: 2519): 1, 207, 236, 253, 310, 496, 528, 563, 685, 769,...<br>intent (len: 2): poutcome_not_success, housing_is_yes<br>new extent (len: 0): emptyset<br>new intent (len: 0): emptyset<br>mean_y_true: 0.08<br>mean_y_pred: 0.04<br>Metrics<br>\\taccuracy: 0.95<br>\\tprecision: 0.9<br>\\trecall: 0.46<br>\\tneg_precision: 0.96<br>\\tneg_recall: 1.0<br><br>\", \"Concept 71<br>extent (len: 1562): 1, 207, 236, 253, 310, 496, 528, 563, 685, 769,...<br>intent (len: 4): poutcome_not_success, duration_lt_968, housing_is_yes, marital_is_married<br>new extent (len: 1): 3701<br>new intent (len: 0): emptyset<br>mean_y_true: 0.06<br>mean_y_pred: 0.02<br>Metrics<br>\\taccuracy: 0.96<br>\\tprecision: 0.91<br>\\trecall: 0.34<br>\\tneg_precision: 0.96<br>\\tneg_recall: 1.0<br><br>\", \"Concept 91<br>extent (len: 1251): 2, 65, 136, 187, 208, 232, 314, 331, 375, 423,...<br>intent (len: 5): duration_lt_968, duration_lt_253, month_not_oct, housing_is_yes, balance_lt_1384<br>new extent (len: 3): 1736, 2176, 3281<br>new intent (len: 0): emptyset<br>mean_y_true: 0.02<br>mean_y_pred: 0.0<br>Metrics<br>\\taccuracy: 0.99<br>\\tprecision: 1.0<br>\\trecall: 0.27<br>\\tneg_precision: 0.99<br>\\tneg_recall: 1.0<br><br>\", \"Concept 26<br>extent (len: 1854): 0, 64, 504, 688, 732, 922, 1196, 2451, 2568, 2687,...<br>intent (len: 3): duration_lt_968, duration_lt_253, marital_is_married<br>new extent (len: 1): 1303<br>new intent (len: 0): emptyset<br>mean_y_true: 0.04<br>mean_y_pred: 0.02<br>Metrics<br>\\taccuracy: 0.98<br>\\tprecision: 0.85<br>\\trecall: 0.41<br>\\tneg_precision: 0.98<br>\\tneg_recall: 1.0<br><br>\", \"Concept 60<br>extent (len: 1197): 4, 7, 8, 11, 26, 43, 66, 67, 73, 74,...<br>intent (len: 4): duration_lt_968, housing_is_yes, marital_is_married, balance_lt_1384<br>new extent (len: 0): emptyset<br>new intent (len: 0): emptyset<br>mean_y_true: 0.05<br>mean_y_pred: 0.02<br>Metrics<br>\\taccuracy: 0.97<br>\\tprecision: 0.89<br>\\trecall: 0.39<br>\\tneg_precision: 0.97<br>\\tneg_recall: 1.0<br><br>\", \"Concept 97<br>extent (len: 1336): 4, 7, 8, 11, 26, 43, 66, 67, 73, 74,...<br>intent (len: 5): poutcome_not_success, duration_lt_968, duration_lt_253, marital_is_married, balance_lt_1384<br>new extent (len: 1): 1106<br>new intent (len: 0): emptyset<br>mean_y_true: 0.02<br>mean_y_pred: 0.01<br>Metrics<br>\\taccuracy: 0.98<br>\\tprecision: 0.86<br>\\trecall: 0.22<br>\\tneg_precision: 0.98<br>\\tneg_recall: 1.0<br><br>\", \"Concept 36<br>extent (len: 1616): 1, 207, 236, 253, 310, 496, 528, 563, 685, 769,...<br>intent (len: 3): month_not_oct, housing_is_yes, marital_is_married<br>new extent (len: 0): emptyset<br>new intent (len: 0): emptyset<br>mean_y_true: 0.07<br>mean_y_pred: 0.04<br>Metrics<br>\\taccuracy: 0.96<br>\\tprecision: 0.91<br>\\trecall: 0.49<br>\\tneg_precision: 0.96<br>\\tneg_recall: 1.0<br><br>\", \"Concept 140<br>extent (len: 1115): 4, 7, 8, 11, 26, 43, 66, 67, 73, 74,...<br>intent (len: 7): poutcome_not_success, duration_lt_968, duration_lt_253, month_not_oct, previous_lt_1, marital_is_married, balance_lt_1384<br>new extent (len: 462): 1389, 745, 2677, 1404, 1184, 3138, 3206, 3201, 4146, 3143,...<br>new intent (len: 0): emptyset<br>mean_y_true: 0.01<br>mean_y_pred: 0.0<br>Metrics<br>\\taccuracy: 0.99<br>\\tprecision: 1.0<br>\\trecall: 0.07<br>\\tneg_precision: 0.99<br>\\tneg_recall: 1.0<br><br>\", \"Concept 73<br>extent (len: 3121): 2, 65, 136, 187, 208, 232, 314, 331, 375, 423,...<br>intent (len: 4): poutcome_not_success, duration_lt_968, month_not_oct, balance_lt_1384<br>new extent (len: 12): 3588, 4465, 798, 3297, 1904, 1391, 849, 765, 4053, 3317,...<br>new intent (len: 0): emptyset<br>mean_y_true: 0.07<br>mean_y_pred: 0.03<br>Metrics<br>\\taccuracy: 0.95<br>\\tprecision: 0.86<br>\\trecall: 0.41<br>\\tneg_precision: 0.96<br>\\tneg_recall: 1.0<br><br>\", \"Concept 112<br>extent (len: 1507): 4, 7, 8, 11, 26, 43, 66, 67, 73, 74,...<br>intent (len: 5): poutcome_not_success, duration_lt_968, previous_lt_1, housing_is_yes, balance_lt_1384<br>new extent (len: 0): emptyset<br>new intent (len: 0): emptyset<br>mean_y_true: 0.05<br>mean_y_pred: 0.02<br>Metrics<br>\\taccuracy: 0.96<br>\\tprecision: 0.88<br>\\trecall: 0.28<br>\\tneg_precision: 0.96<br>\\tneg_recall: 1.0<br><br>\", \"Concept 8<br>extent (len: 2940): 0, 64, 504, 688, 732, 922, 1196, 2451, 2568, 2687,...<br>intent (len: 2): duration_lt_968, duration_lt_253<br>new extent (len: 0): emptyset<br>new intent (len: 1): duration_lt_253<br>mean_y_true: 0.04<br>mean_y_pred: 0.02<br>Metrics<br>\\taccuracy: 0.97<br>\\tprecision: 0.86<br>\\trecall: 0.42<br>\\tneg_precision: 0.98<br>\\tneg_recall: 1.0<br><br>\", \"Concept 31<br>extent (len: 3189): 2, 65, 136, 187, 208, 232, 314, 331, 375, 423,...<br>intent (len: 3): duration_lt_968, month_not_oct, balance_lt_1384<br>new extent (len: 10): 880, 4458, 3684, 684, 3498, 855, 4323, 1485, 2675, 3385<br>new intent (len: 0): emptyset<br>mean_y_true: 0.08<br>mean_y_pred: 0.05<br>Metrics<br>\\taccuracy: 0.95<br>\\tprecision: 0.87<br>\\trecall: 0.5<br>\\tneg_precision: 0.96<br>\\tneg_recall: 0.99<br><br>\", \"Concept 138<br>extent (len: 1004): 4, 7, 8, 11, 26, 43, 66, 67, 73, 74,...<br>intent (len: 7): poutcome_not_success, duration_lt_968, duration_lt_253, month_not_oct, previous_lt_1, housing_is_yes, balance_lt_1384<br>new extent (len: 351): 225, 1420, 268, 2841, 3016, 4246, 1861, 3353, 3539, 4222,...<br>new intent (len: 0): emptyset<br>mean_y_true: 0.01<br>mean_y_pred: 0.0<br>Metrics<br>\\taccuracy: 0.99<br>\\tprecision: 1.0<br>\\trecall: 0.18<br>\\tneg_precision: 0.99<br>\\tneg_recall: 1.0<br><br>\", \"Concept 56<br>extent (len: 1358): 4, 7, 8, 11, 26, 43, 66, 67, 73, 74,...<br>intent (len: 4): duration_lt_968, duration_lt_253, marital_is_married, balance_lt_1384<br>new extent (len: 2): 1124, 338<br>new intent (len: 0): emptyset<br>mean_y_true: 0.03<br>mean_y_pred: 0.01<br>Metrics<br>\\taccuracy: 0.98<br>\\tprecision: 0.82<br>\\trecall: 0.38<br>\\tneg_precision: 0.98<br>\\tneg_recall: 1.0<br><br>\", \"Concept 107<br>extent (len: 1553): 1, 207, 236, 253, 310, 496, 528, 563, 685, 769,...<br>intent (len: 5): poutcome_not_success, duration_lt_968, month_not_oct, housing_is_yes, marital_is_married<br>new extent (len: 23): 1112, 3239, 2540, 1510, 1600, 2037, 4107, 1989, 2745, 3236,...<br>new intent (len: 0): emptyset<br>mean_y_true: 0.06<br>mean_y_pred: 0.02<br>Metrics<br>\\taccuracy: 0.96<br>\\tprecision: 0.97<br>\\trecall: 0.34<br>\\tneg_precision: 0.96<br>\\tneg_recall: 1.0<br><br>\", \"Concept 33<br>extent (len: 2681): 1, 207, 236, 253, 310, 496, 528, 563, 685, 769,...<br>intent (len: 3): duration_lt_968, month_not_oct, marital_is_married<br>new extent (len: 11): 3202, 477, 2049, 4215, 492, 2070, 347, 1980, 3589, 3586,...<br>new intent (len: 0): emptyset<br>mean_y_true: 0.08<br>mean_y_pred: 0.05<br>Metrics<br>\\taccuracy: 0.95<br>\\tprecision: 0.88<br>\\trecall: 0.48<br>\\tneg_precision: 0.95<br>\\tneg_recall: 0.99<br><br>\", \"Concept 82<br>extent (len: 1596): 1, 207, 236, 253, 310, 496, 528, 563, 685, 769,...<br>intent (len: 4): poutcome_not_success, month_not_oct, housing_is_yes, marital_is_married<br>new extent (len: 3): 1719, 823, 2968<br>new intent (len: 0): emptyset<br>mean_y_true: 0.07<br>mean_y_pred: 0.03<br>Metrics<br>\\taccuracy: 0.96<br>\\tprecision: 0.92<br>\\trecall: 0.44<br>\\tneg_precision: 0.96<br>\\tneg_recall: 1.0<br><br>\", \"Concept 88<br>extent (len: 1314): 3, 37, 55, 89, 96, 111, 116, 122, 176, 185,...<br>intent (len: 4): poutcome_not_success, previous_lt_1, housing_is_yes, marital_is_married<br>new extent (len: 0): emptyset<br>new intent (len: 0): emptyset<br>mean_y_true: 0.06<br>mean_y_pred: 0.03<br>Metrics<br>\\taccuracy: 0.96<br>\\tprecision: 0.88<br>\\trecall: 0.36<br>\\tneg_precision: 0.96<br>\\tneg_recall: 1.0<br><br>\", \"Concept 13<br>extent (len: 1625): 1, 207, 236, 253, 310, 496, 528, 563, 685, 769,...<br>intent (len: 2): housing_is_yes, marital_is_married<br>new extent (len: 0): emptyset<br>new intent (len: 0): emptyset<br>mean_y_true: 0.08<br>mean_y_pred: 0.04<br>Metrics<br>\\taccuracy: 0.96<br>\\tprecision: 0.88<br>\\trecall: 0.48<br>\\tneg_precision: 0.96<br>\\tneg_recall: 0.99<br><br>\", \"Concept 50<br>extent (len: 3658): 3, 37, 55, 89, 96, 111, 116, 122, 176, 185,...<br>intent (len: 3): poutcome_not_success, month_not_oct, previous_lt_1<br>new extent (len: 4): 2980, 1300, 2140, 3813<br>new intent (len: 0): emptyset<br>mean_y_true: 0.09<br>mean_y_pred: 0.05<br>Metrics<br>\\taccuracy: 0.95<br>\\tprecision: 0.85<br>\\trecall: 0.46<br>\\tneg_precision: 0.95<br>\\tneg_recall: 0.99<br><br>\", \"Concept 69<br>extent (len: 2428): 0, 64, 504, 688, 732, 922, 1196, 2451, 2568, 2687,...<br>intent (len: 4): poutcome_not_success, duration_lt_968, duration_lt_253, previous_lt_1<br>new extent (len: 1): 2022<br>new intent (len: 0): emptyset<br>mean_y_true: 0.03<br>mean_y_pred: 0.01<br>Metrics<br>\\taccuracy: 0.98<br>\\tprecision: 0.89<br>\\trecall: 0.25<br>\\tneg_precision: 0.98<br>\\tneg_recall: 1.0<br><br>\", \"Concept 99<br>extent (len: 1633): 1, 207, 236, 253, 310, 496, 528, 563, 685, 769,...<br>intent (len: 5): poutcome_not_success, duration_lt_968, duration_lt_253, month_not_oct, housing_is_yes<br>new extent (len: 29): 647, 1951, 2002, 650, 1478, 3272, 2255, 1136, 2215, 367,...<br>new intent (len: 0): emptyset<br>mean_y_true: 0.02<br>mean_y_pred: 0.0<br>Metrics<br>\\taccuracy: 0.99<br>\\tprecision: 1.0<br>\\trecall: 0.21<br>\\tneg_precision: 0.99<br>\\tneg_recall: 1.0<br><br>\", \"Concept 42<br>extent (len: 4203): 1, 207, 236, 253, 310, 496, 528, 563, 685, 769,...<br>intent (len: 3): poutcome_not_success, duration_lt_968, month_not_oct<br>new extent (len: 13): 2963, 2471, 4054, 4332, 1698, 2104, 3889, 623, 2851, 301,...<br>new intent (len: 0): emptyset<br>mean_y_true: 0.08<br>mean_y_pred: 0.04<br>Metrics<br>\\taccuracy: 0.95<br>\\tprecision: 0.88<br>\\trecall: 0.42<br>\\tneg_precision: 0.95<br>\\tneg_recall: 1.0<br><br>\", \"Concept 67<br>extent (len: 1816): 0, 64, 504, 688, 732, 922, 1196, 2451, 2568, 2687,...<br>intent (len: 4): poutcome_not_success, duration_lt_968, duration_lt_253, marital_is_married<br>new extent (len: 1): 822<br>new intent (len: 0): emptyset<br>mean_y_true: 0.03<br>mean_y_pred: 0.01<br>Metrics<br>\\taccuracy: 0.98<br>\\tprecision: 0.92<br>\\trecall: 0.24<br>\\tneg_precision: 0.98<br>\\tneg_recall: 1.0<br><br>\", \"Concept 96<br>extent (len: 1062): 1, 207, 236, 253, 310, 496, 528, 563, 685, 769,...<br>intent (len: 5): poutcome_not_success, duration_lt_968, duration_lt_253, housing_is_yes, marital_is_married<br>new extent (len: 0): emptyset<br>new intent (len: 0): emptyset<br>mean_y_true: 0.02<br>mean_y_pred: 0.0<br>Metrics<br>\\taccuracy: 0.98<br>\\tprecision: 1.0<br>\\trecall: 0.2<br>\\tneg_precision: 0.98<br>\\tneg_recall: 1.0<br><br>\", \"Concept 12<br>extent (len: 1932): 2, 65, 136, 187, 208, 232, 314, 331, 375, 423,...<br>intent (len: 2): housing_is_yes, balance_lt_1384<br>new extent (len: 0): emptyset<br>new intent (len: 0): emptyset<br>mean_y_true: 0.08<br>mean_y_pred: 0.04<br>Metrics<br>\\taccuracy: 0.95<br>\\tprecision: 0.88<br>\\trecall: 0.48<br>\\tneg_precision: 0.96<br>\\tneg_recall: 0.99<br><br>\", \"Concept 28<br>extent (len: 1874): 2, 65, 136, 187, 208, 232, 314, 331, 375, 423,...<br>intent (len: 3): duration_lt_968, housing_is_yes, balance_lt_1384<br>new extent (len: 0): emptyset<br>new intent (len: 0): emptyset<br>mean_y_true: 0.06<br>mean_y_pred: 0.03<br>Metrics<br>\\taccuracy: 0.96<br>\\tprecision: 0.9<br>\\trecall: 0.39<br>\\tneg_precision: 0.96<br>\\tneg_recall: 1.0<br><br>\", \"Concept 53<br>extent (len: 2305): 0, 64, 504, 688, 732, 922, 1196, 2451, 2568, 2687,...<br>intent (len: 3): poutcome_not_success, previous_lt_1, marital_is_married<br>new extent (len: 0): emptyset<br>new intent (len: 0): emptyset<br>mean_y_true: 0.07<br>mean_y_pred: 0.04<br>Metrics<br>\\taccuracy: 0.95<br>\\tprecision: 0.82<br>\\trecall: 0.41<br>\\tneg_precision: 0.95<br>\\tneg_recall: 0.99<br><br>\", \"Concept 105<br>extent (len: 1183): 4, 7, 8, 11, 26, 43, 66, 67, 73, 74,...<br>intent (len: 5): poutcome_not_success, duration_lt_968, housing_is_yes, marital_is_married, balance_lt_1384<br>new extent (len: 0): emptyset<br>new intent (len: 0): emptyset<br>mean_y_true: 0.04<br>mean_y_pred: 0.01<br>Metrics<br>\\taccuracy: 0.97<br>\\tprecision: 0.88<br>\\trecall: 0.28<br>\\tneg_precision: 0.97<br>\\tneg_recall: 1.0<br><br>\", \"Concept 14<br>extent (len: 2044): 4, 7, 8, 11, 26, 43, 66, 67, 73, 74,...<br>intent (len: 2): marital_is_married, balance_lt_1384<br>new extent (len: 0): emptyset<br>new intent (len: 0): emptyset<br>mean_y_true: 0.09<br>mean_y_pred: 0.06<br>Metrics<br>\\taccuracy: 0.95<br>\\tprecision: 0.83<br>\\trecall: 0.57<br>\\tneg_precision: 0.96<br>\\tneg_recall: 0.99<br><br>\", \"Concept 30<br>extent (len: 1992): 4, 7, 8, 11, 26, 43, 66, 67, 73, 74,...<br>intent (len: 3): duration_lt_968, marital_is_married, balance_lt_1384<br>new extent (len: 4): 1186, 1437, 4216, 3250<br>new intent (len: 0): emptyset<br>mean_y_true: 0.08<br>mean_y_pred: 0.05<br>Metrics<br>\\taccuracy: 0.96<br>\\tprecision: 0.87<br>\\trecall: 0.52<br>\\tneg_precision: 0.96<br>\\tneg_recall: 0.99<br><br>\", \"Concept 76<br>extent (len: 3558): 3, 37, 55, 89, 96, 111, 116, 122, 176, 185,...<br>intent (len: 4): poutcome_not_success, duration_lt_968, month_not_oct, previous_lt_1<br>new extent (len: 59): 4211, 1211, 877, 2562, 2010, 2480, 4364, 3820, 3364, 1738,...<br>new intent (len: 0): emptyset<br>mean_y_true: 0.07<br>mean_y_pred: 0.03<br>Metrics<br>\\taccuracy: 0.95<br>\\tprecision: 0.86<br>\\trecall: 0.37<br>\\tneg_precision: 0.95<br>\\tneg_recall: 1.0<br><br>\", \"Concept 102<br>extent (len: 1819): 4, 7, 8, 11, 26, 43, 66, 67, 73, 74,...<br>intent (len: 5): poutcome_not_success, duration_lt_968, duration_lt_253, previous_lt_1, balance_lt_1384<br>new extent (len: 6): 36, 3425, 1088, 1158, 1529, 3933<br>new intent (len: 0): emptyset<br>mean_y_true: 0.02<br>mean_y_pred: 0.01<br>Metrics<br>\\taccuracy: 0.98<br>\\tprecision: 0.91<br>\\trecall: 0.26<br>\\tneg_precision: 0.98<br>\\tneg_recall: 1.0<br><br>\", \"Concept 46<br>extent (len: 1991): 4, 7, 8, 11, 26, 43, 66, 67, 73, 74,...<br>intent (len: 3): poutcome_not_success, marital_is_married, balance_lt_1384<br>new extent (len: 0): emptyset<br>new intent (len: 0): emptyset<br>mean_y_true: 0.07<br>mean_y_pred: 0.04<br>Metrics<br>\\taccuracy: 0.96<br>\\tprecision: 0.83<br>\\trecall: 0.48<br>\\tneg_precision: 0.96<br>\\tneg_recall: 0.99<br><br>\", \"Concept 143<br>extent (len: 653): 4, 7, 8, 11, 26, 43, 66, 67, 73, 74,...<br>intent (len: 8): poutcome_not_success, duration_lt_968, duration_lt_253, month_not_oct, previous_lt_1, housing_is_yes, marital_is_married, balance_lt_1384<br>new extent (len: 653): 2008, 2528, 184, 2488, 1627, 847, 1589, 2084, 4285, 43,...<br>new intent (len: 0): emptyset<br>mean_y_true: 0.01<br>mean_y_pred: 0.0<br>Metrics<br>\\taccuracy: 0.99<br>\\tprecision: 1.0<br>\\trecall: 0.2<br>\\tneg_precision: 0.99<br>\\tneg_recall: 1.0<br><br>\", \"Concept 57<br>extent (len: 2154): 2, 65, 136, 187, 208, 232, 314, 331, 375, 423,...<br>intent (len: 4): duration_lt_968, duration_lt_253, month_not_oct, balance_lt_1384<br>new extent (len: 4): 3835, 3370, 3874, 2539<br>new intent (len: 0): emptyset<br>mean_y_true: 0.03<br>mean_y_pred: 0.01<br>Metrics<br>\\taccuracy: 0.98<br>\\tprecision: 0.88<br>\\trecall: 0.36<br>\\tneg_precision: 0.98<br>\\tneg_recall: 1.0<br><br>\", \"Concept 94<br>extent (len: 1190): 4, 7, 8, 11, 26, 43, 66, 67, 73, 74,...<br>intent (len: 5): duration_lt_968, month_not_oct, housing_is_yes, marital_is_married, balance_lt_1384<br>new extent (len: 11): 941, 2699, 186, 3843, 1905, 2055, 4433, 1342, 1862, 555,...<br>new intent (len: 0): emptyset<br>mean_y_true: 0.05<br>mean_y_pred: 0.02<br>Metrics<br>\\taccuracy: 0.97<br>\\tprecision: 0.92<br>\\trecall: 0.4<br>\\tneg_precision: 0.97<br>\\tneg_recall: 1.0<br><br>\", \"Concept 6<br>extent (len: 4392): 0, 64, 504, 688, 732, 922, 1196, 2451, 2568, 2687,...<br>intent (len: 1): poutcome_not_success<br>new extent (len: 0): emptyset<br>new intent (len: 1): poutcome_not_success<br>mean_y_true: 0.1<br>mean_y_pred: 0.06<br>Metrics<br>\\taccuracy: 0.94<br>\\tprecision: 0.86<br>\\trecall: 0.52<br>\\tneg_precision: 0.95<br>\\tneg_recall: 0.99<br><br>\", \"Concept 23<br>extent (len: 3705): 0, 64, 504, 688, 732, 922, 1196, 2451, 2568, 2687,...<br>intent (len: 2): poutcome_not_success, previous_lt_1<br>new extent (len: 0): emptyset<br>new intent (len: 1): previous_lt_1<br>mean_y_true: 0.09<br>mean_y_pred: 0.05<br>Metrics<br>\\taccuracy: 0.94<br>\\tprecision: 0.84<br>\\trecall: 0.48<br>\\tneg_precision: 0.95<br>\\tneg_recall: 0.99<br><br>\", \"Concept 52<br>extent (len: 2043): 3, 37, 55, 89, 96, 111, 116, 122, 176, 185,...<br>intent (len: 3): poutcome_not_success, previous_lt_1, housing_is_yes<br>new extent (len: 0): emptyset<br>new intent (len: 0): emptyset<br>mean_y_true: 0.07<br>mean_y_pred: 0.03<br>Metrics<br>\\taccuracy: 0.96<br>\\tprecision: 0.91<br>\\trecall: 0.41<br>\\tneg_precision: 0.96<br>\\tneg_recall: 1.0<br><br>\", \"Concept 103<br>extent (len: 1323): 3, 37, 55, 89, 96, 111, 116, 122, 176, 185,...<br>intent (len: 5): poutcome_not_success, duration_lt_968, duration_lt_253, previous_lt_1, housing_is_yes<br>new extent (len: 0): emptyset<br>new intent (len: 0): emptyset<br>mean_y_true: 0.02<br>mean_y_pred: 0.0<br>Metrics<br>\\taccuracy: 0.99<br>\\tprecision: 1.0<br>\\trecall: 0.25<br>\\tneg_precision: 0.99<br>\\tneg_recall: 1.0<br><br>\", \"Concept 45<br>extent (len: 1605): 1, 207, 236, 253, 310, 496, 528, 563, 685, 769,...<br>intent (len: 3): poutcome_not_success, housing_is_yes, marital_is_married<br>new extent (len: 0): emptyset<br>new intent (len: 0): emptyset<br>mean_y_true: 0.07<br>mean_y_pred: 0.03<br>Metrics<br>\\taccuracy: 0.96<br>\\tprecision: 0.89<br>\\trecall: 0.43<br>\\tneg_precision: 0.96<br>\\tneg_recall: 1.0<br><br>\", \"Concept 79<br>extent (len: 2250): 0, 64, 504, 688, 732, 922, 1196, 2451, 2568, 2687,...<br>intent (len: 4): poutcome_not_success, duration_lt_968, previous_lt_1, marital_is_married<br>new extent (len: 0): emptyset<br>new intent (len: 0): emptyset<br>mean_y_true: 0.06<br>mean_y_pred: 0.02<br>Metrics<br>\\taccuracy: 0.95<br>\\tprecision: 0.85<br>\\trecall: 0.32<br>\\tneg_precision: 0.96<br>\\tneg_recall: 1.0<br><br>\", \"Concept 106<br>extent (len: 1841): 2, 65, 136, 187, 208, 232, 314, 331, 375, 423,...<br>intent (len: 5): poutcome_not_success, duration_lt_968, month_not_oct, housing_is_yes, balance_lt_1384<br>new extent (len: 45): 3951, 881, 4042, 4312, 1863, 3674, 390, 1193, 124, 1345,...<br>new intent (len: 0): emptyset<br>mean_y_true: 0.06<br>mean_y_pred: 0.02<br>Metrics<br>\\taccuracy: 0.96<br>\\tprecision: 0.91<br>\\trecall: 0.31<br>\\tneg_precision: 0.96<br>\\tneg_recall: 1.0<br><br>\", \"Concept 34<br>extent (len: 1229): 4, 7, 8, 11, 26, 43, 66, 67, 73, 74,...<br>intent (len: 3): housing_is_yes, marital_is_married, balance_lt_1384<br>new extent (len: 0): emptyset<br>new intent (len: 0): emptyset<br>mean_y_true: 0.06<br>mean_y_pred: 0.03<br>Metrics<br>\\taccuracy: 0.96<br>\\tprecision: 0.85<br>\\trecall: 0.46<br>\\tneg_precision: 0.97<br>\\tneg_recall: 0.99<br><br>\", \"Concept 81<br>extent (len: 1898): 2, 65, 136, 187, 208, 232, 314, 331, 375, 423,...<br>intent (len: 4): poutcome_not_success, month_not_oct, housing_is_yes, balance_lt_1384<br>new extent (len: 7): 2653, 203, 2013, 1411, 3379, 3141, 2714<br>new intent (len: 0): emptyset<br>mean_y_true: 0.07<br>mean_y_pred: 0.03<br>Metrics<br>\\taccuracy: 0.96<br>\\tprecision: 0.88<br>\\trecall: 0.42<br>\\tneg_precision: 0.96<br>\\tneg_recall: 1.0<br><br>\", \"Concept 100<br>extent (len: 1786): 1, 207, 236, 253, 310, 496, 528, 563, 685, 769,...<br>intent (len: 5): poutcome_not_success, duration_lt_968, duration_lt_253, month_not_oct, marital_is_married<br>new extent (len: 23): 629, 2776, 3377, 1805, 2832, 1547, 1122, 1591, 1077, 631,...<br>new intent (len: 0): emptyset<br>mean_y_true: 0.02<br>mean_y_pred: 0.0<br>Metrics<br>\\taccuracy: 0.98<br>\\tprecision: 1.0<br>\\trecall: 0.19<br>\\tneg_precision: 0.98<br>\\tneg_recall: 1.0<br><br>\", \"Concept 4<br>extent (len: 2797): 0, 64, 504, 688, 732, 922, 1196, 2451, 2568, 2687,...<br>intent (len: 1): marital_is_married<br>new extent (len: 0): emptyset<br>new intent (len: 1): marital_is_married<br>mean_y_true: 0.1<br>mean_y_pred: 0.06<br>Metrics<br>\\taccuracy: 0.95<br>\\tprecision: 0.84<br>\\trecall: 0.55<br>\\tneg_precision: 0.95<br>\\tneg_recall: 0.99<br><br>\", \"Concept 22<br>extent (len: 4323): 1, 207, 236, 253, 310, 496, 528, 563, 685, 769,...<br>intent (len: 2): poutcome_not_success, month_not_oct<br>new extent (len: 0): emptyset<br>new intent (len: 0): emptyset<br>mean_y_true: 0.09<br>mean_y_pred: 0.05<br>Metrics<br>\\taccuracy: 0.95<br>\\tprecision: 0.87<br>\\trecall: 0.5<br>\\tneg_precision: 0.95<br>\\tneg_recall: 0.99<br><br>\", \"Concept 61<br>extent (len: 1863): 2, 65, 136, 187, 208, 232, 314, 331, 375, 423,...<br>intent (len: 4): duration_lt_968, month_not_oct, housing_is_yes, balance_lt_1384<br>new extent (len: 5): 3714, 3890, 200, 4459, 233<br>new intent (len: 0): emptyset<br>mean_y_true: 0.06<br>mean_y_pred: 0.03<br>Metrics<br>\\taccuracy: 0.96<br>\\tprecision: 0.92<br>\\trecall: 0.39<br>\\tneg_precision: 0.96<br>\\tneg_recall: 1.0<br><br>\", \"Concept 98<br>extent (len: 2127): 2, 65, 136, 187, 208, 232, 314, 331, 375, 423,...<br>intent (len: 5): poutcome_not_success, duration_lt_968, duration_lt_253, month_not_oct, balance_lt_1384<br>new extent (len: 39): 3682, 1875, 3869, 5, 1915, 2915, 2900, 2242, 651, 891,...<br>new intent (len: 0): emptyset<br>mean_y_true: 0.02<br>mean_y_pred: 0.0<br>Metrics<br>\\taccuracy: 0.98<br>\\tprecision: 1.0<br>\\trecall: 0.21<br>\\tneg_precision: 0.98<br>\\tneg_recall: 1.0<br><br>\", \"Concept 37<br>extent (len: 2011): 4, 7, 8, 11, 26, 43, 66, 67, 73, 74,...<br>intent (len: 3): month_not_oct, marital_is_married, balance_lt_1384<br>new extent (len: 1): 328<br>new intent (len: 0): emptyset<br>mean_y_true: 0.08<br>mean_y_pred: 0.05<br>Metrics<br>\\taccuracy: 0.96<br>\\tprecision: 0.85<br>\\trecall: 0.54<br>\\tneg_precision: 0.96<br>\\tneg_recall: 0.99<br><br>\", \"Concept 59<br>extent (len: 1821): 1, 207, 236, 253, 310, 496, 528, 563, 685, 769,...<br>intent (len: 4): duration_lt_968, duration_lt_253, month_not_oct, marital_is_married<br>new extent (len: 10): 3005, 199, 619, 2969, 2583, 3978, 1442, 2847, 1056, 984<br>new intent (len: 0): emptyset<br>mean_y_true: 0.03<br>mean_y_pred: 0.01<br>Metrics<br>\\taccuracy: 0.98<br>\\tprecision: 0.85<br>\\trecall: 0.38<br>\\tneg_precision: 0.98<br>\\tneg_recall: 1.0<br><br>\", \"Concept 89<br>extent (len: 1693): 4, 7, 8, 11, 26, 43, 66, 67, 73, 74,...<br>intent (len: 4): poutcome_not_success, previous_lt_1, marital_is_married, balance_lt_1384<br>new extent (len: 1): 1903<br>new intent (len: 0): emptyset<br>mean_y_true: 0.06<br>mean_y_pred: 0.04<br>Metrics<br>\\taccuracy: 0.96<br>\\tprecision: 0.79<br>\\trecall: 0.45<br>\\tneg_precision: 0.96<br>\\tneg_recall: 0.99<br><br>\", \"Concept 29<br>extent (len: 1582): 1, 207, 236, 253, 310, 496, 528, 563, 685, 769,...<br>intent (len: 3): duration_lt_968, housing_is_yes, marital_is_married<br>new extent (len: 0): emptyset<br>new intent (len: 0): emptyset<br>mean_y_true: 0.06<br>mean_y_pred: 0.03<br>Metrics<br>\\taccuracy: 0.96<br>\\tprecision: 0.89<br>\\trecall: 0.41<br>\\tneg_precision: 0.96<br>\\tneg_recall: 1.0<br><br>\", \"Concept 104<br>extent (len: 1538): 0, 64, 504, 688, 732, 922, 1196, 2451, 2568, 2687,...<br>intent (len: 5): poutcome_not_success, duration_lt_968, duration_lt_253, previous_lt_1, marital_is_married<br>new extent (len: 12): 3251, 922, 2568, 1196, 688, 3700, 2451, 504, 2687, 64,...<br>new intent (len: 0): emptyset<br>mean_y_true: 0.02<br>mean_y_pred: 0.01<br>Metrics<br>\\taccuracy: 0.98<br>\\tprecision: 0.89<br>\\trecall: 0.22<br>\\tneg_precision: 0.98<br>\\tneg_recall: 1.0<br><br>\", \"Concept 68<br>extent (len: 2840): 1, 207, 236, 253, 310, 496, 528, 563, 685, 769,...<br>intent (len: 4): poutcome_not_success, duration_lt_968, duration_lt_253, month_not_oct<br>new extent (len: 21): 3765, 1764, 2529, 4055, 3656, 1870, 4152, 1355, 713, 1276,...<br>new intent (len: 0): emptyset<br>mean_y_true: 0.03<br>mean_y_pred: 0.01<br>Metrics<br>\\taccuracy: 0.98<br>\\tprecision: 1.0<br>\\trecall: 0.23<br>\\tneg_precision: 0.98<br>\\tneg_recall: 1.0<br><br>\", \"Concept 93<br>extent (len: 1340): 4, 7, 8, 11, 26, 43, 66, 67, 73, 74,...<br>intent (len: 5): duration_lt_968, duration_lt_253, month_not_oct, marital_is_married, balance_lt_1384<br>new extent (len: 17): 4186, 3027, 2266, 3256, 3751, 3519, 2251, 4224, 289, 323,...<br>new intent (len: 0): emptyset<br>mean_y_true: 0.02<br>mean_y_pred: 0.01<br>Metrics<br>\\taccuracy: 0.98<br>\\tprecision: 0.85<br>\\trecall: 0.35<br>\\tneg_precision: 0.98<br>\\tneg_recall: 1.0<br><br>\", \"Concept 11<br>extent (len: 4318): 1, 207, 236, 253, 310, 496, 528, 563, 685, 769,...<br>intent (len: 2): duration_lt_968, month_not_oct<br>new extent (len: 6): 1166, 110, 98, 1754, 3176, 4093<br>new intent (len: 0): emptyset<br>mean_y_true: 0.1<br>mean_y_pred: 0.06<br>Metrics<br>\\taccuracy: 0.95<br>\\tprecision: 0.88<br>\\trecall: 0.51<br>\\tneg_precision: 0.95<br>\\tneg_recall: 0.99<br><br>\", \"Concept 47<br>extent (len: 3216): 2, 65, 136, 187, 208, 232, 314, 331, 375, 423,...<br>intent (len: 3): poutcome_not_success, month_not_oct, balance_lt_1384<br>new extent (len: 0): emptyset<br>new intent (len: 0): emptyset<br>mean_y_true: 0.08<br>mean_y_pred: 0.05<br>Metrics<br>\\taccuracy: 0.95<br>\\tprecision: 0.84<br>\\trecall: 0.51<br>\\tneg_precision: 0.96<br>\\tneg_recall: 0.99<br><br>\", \"Concept 77<br>extent (len: 2688): 4, 7, 8, 11, 26, 43, 66, 67, 73, 74,...<br>intent (len: 4): poutcome_not_success, duration_lt_968, previous_lt_1, balance_lt_1384<br>new extent (len: 3): 803, 2685, 2821<br>new intent (len: 0): emptyset<br>mean_y_true: 0.07<br>mean_y_pred: 0.03<br>Metrics<br>\\taccuracy: 0.95<br>\\tprecision: 0.83<br>\\trecall: 0.4<br>\\tneg_precision: 0.96<br>\\tneg_recall: 0.99<br><br>\", \"Concept 108<br>extent (len: 1914): 4, 7, 8, 11, 26, 43, 66, 67, 73, 74,...<br>intent (len: 5): poutcome_not_success, duration_lt_968, month_not_oct, marital_is_married, balance_lt_1384<br>new extent (len: 23): 1349, 1956, 2486, 1379, 83, 2692, 3205, 4290, 1320, 3314,...<br>new intent (len: 0): emptyset<br>mean_y_true: 0.06<br>mean_y_pred: 0.02<br>Metrics<br>\\taccuracy: 0.96<br>\\tprecision: 0.91<br>\\trecall: 0.36<br>\\tneg_precision: 0.96<br>\\tneg_recall: 1.0<br><br>\", \"Concept 44<br>extent (len: 1908): 2, 65, 136, 187, 208, 232, 314, 331, 375, 423,...<br>intent (len: 3): poutcome_not_success, housing_is_yes, balance_lt_1384<br>new extent (len: 0): emptyset<br>new intent (len: 0): emptyset<br>mean_y_true: 0.07<br>mean_y_pred: 0.04<br>Metrics<br>\\taccuracy: 0.95<br>\\tprecision: 0.87<br>\\trecall: 0.43<br>\\tneg_precision: 0.96<br>\\tneg_recall: 0.99<br><br>\", \"Concept 70<br>extent (len: 1851): 2, 65, 136, 187, 208, 232, 314, 331, 375, 423,...<br>intent (len: 4): poutcome_not_success, duration_lt_968, housing_is_yes, balance_lt_1384<br>new extent (len: 1): 3743<br>new intent (len: 0): emptyset<br>mean_y_true: 0.06<br>mean_y_pred: 0.02<br>Metrics<br>\\taccuracy: 0.96<br>\\tprecision: 0.89<br>\\trecall: 0.32<br>\\tneg_precision: 0.96<br>\\tneg_recall: 1.0<br><br>\", \"Concept 92<br>extent (len: 1063): 1, 207, 236, 253, 310, 496, 528, 563, 685, 769,...<br>intent (len: 5): duration_lt_968, duration_lt_253, month_not_oct, housing_is_yes, marital_is_married<br>new extent (len: 5): 49, 3799, 602, 2992, 2103<br>new intent (len: 0): emptyset<br>mean_y_true: 0.02<br>mean_y_pred: 0.01<br>Metrics<br>\\taccuracy: 0.99<br>\\tprecision: 0.83<br>\\trecall: 0.26<br>\\tneg_precision: 0.99<br>\\tneg_recall: 1.0<br><br>\", \"Concept 25<br>extent (len: 1660): 1, 207, 236, 253, 310, 496, 528, 563, 685, 769,...<br>intent (len: 3): duration_lt_968, duration_lt_253, housing_is_yes<br>new extent (len: 0): emptyset<br>new intent (len: 0): emptyset<br>mean_y_true: 0.02<br>mean_y_pred: 0.01<br>Metrics<br>\\taccuracy: 0.98<br>\\tprecision: 0.93<br>\\trecall: 0.33<br>\\tneg_precision: 0.98<br>\\tneg_recall: 1.0<br><br>\", \"Concept 72<br>extent (len: 1940): 4, 7, 8, 11, 26, 43, 66, 67, 73, 74,...<br>intent (len: 4): poutcome_not_success, duration_lt_968, marital_is_married, balance_lt_1384<br>new extent (len: 5): 1111, 2433, 4337, 4413, 4281<br>new intent (len: 0): emptyset<br>mean_y_true: 0.06<br>mean_y_pred: 0.03<br>Metrics<br>\\taccuracy: 0.96<br>\\tprecision: 0.89<br>\\trecall: 0.4<br>\\tneg_precision: 0.96<br>\\tneg_recall: 1.0<br><br>\", \"Concept 101<br>extent (len: 2395): 3, 37, 55, 89, 96, 111, 116, 122, 176, 185,...<br>intent (len: 5): poutcome_not_success, duration_lt_968, duration_lt_253, month_not_oct, previous_lt_1<br>new extent (len: 82): 2998, 3288, 1574, 1854, 1277, 3461, 2522, 1164, 4464, 4183,...<br>new intent (len: 0): emptyset<br>mean_y_true: 0.02<br>mean_y_pred: 0.0<br>Metrics<br>\\taccuracy: 0.98<br>\\tprecision: 1.0<br>\\trecall: 0.19<br>\\tneg_precision: 0.98<br>\\tneg_recall: 1.0<br><br>\", \"Concept 35<br>extent (len: 1921): 2, 65, 136, 187, 208, 232, 314, 331, 375, 423,...<br>intent (len: 3): month_not_oct, housing_is_yes, balance_lt_1384<br>new extent (len: 1): 4232<br>new intent (len: 0): emptyset<br>mean_y_true: 0.08<br>mean_y_pred: 0.04<br>Metrics<br>\\taccuracy: 0.96<br>\\tprecision: 0.88<br>\\trecall: 0.48<br>\\tneg_precision: 0.96<br>\\tneg_recall: 0.99<br><br>\", \"Concept 51<br>extent (len: 2769): 4, 7, 8, 11, 26, 43, 66, 67, 73, 74,...<br>intent (len: 3): poutcome_not_success, previous_lt_1, balance_lt_1384<br>new extent (len: 0): emptyset<br>new intent (len: 0): emptyset<br>mean_y_true: 0.08<br>mean_y_pred: 0.05<br>Metrics<br>\\taccuracy: 0.95<br>\\tprecision: 0.82<br>\\trecall: 0.51<br>\\tneg_precision: 0.96<br>\\tneg_recall: 0.99<br><br>\", \"Concept 95<br>extent (len: 1253): 2, 65, 136, 187, 208, 232, 314, 331, 375, 423,...<br>intent (len: 5): poutcome_not_success, duration_lt_968, duration_lt_253, housing_is_yes, balance_lt_1384<br>new extent (len: 1): 858<br>new intent (len: 0): emptyset<br>mean_y_true: 0.02<br>mean_y_pred: 0.0<br>Metrics<br>\\taccuracy: 0.99<br>\\tprecision: 1.0<br>\\trecall: 0.18<br>\\tneg_precision: 0.99<br>\\tneg_recall: 1.0<br><br>\", \"Concept 7<br>extent (len: 3239): 2, 65, 136, 187, 208, 232, 314, 331, 375, 423,...<br>intent (len: 2): duration_lt_968, balance_lt_1384<br>new extent (len: 1): 4009<br>new intent (len: 0): emptyset<br>mean_y_true: 0.09<br>mean_y_pred: 0.05<br>Metrics<br>\\taccuracy: 0.95<br>\\tprecision: 0.86<br>\\trecall: 0.53<br>\\tneg_precision: 0.96<br>\\tneg_recall: 0.99<br><br>\", \"Concept 27<br>extent (len: 2891): 1, 207, 236, 253, 310, 496, 528, 563, 685, 769,...<br>intent (len: 3): duration_lt_968, duration_lt_253, month_not_oct<br>new extent (len: 4): 540, 397, 1216, 3088<br>new intent (len: 0): emptyset<br>mean_y_true: 0.04<br>mean_y_pred: 0.02<br>Metrics<br>\\taccuracy: 0.98<br>\\tprecision: 0.89<br>\\trecall: 0.38<br>\\tneg_precision: 0.98<br>\\tneg_recall: 1.0<br><br>\", \"Concept 65<br>extent (len: 2153): 2, 65, 136, 187, 208, 232, 314, 331, 375, 423,...<br>intent (len: 4): poutcome_not_success, duration_lt_968, duration_lt_253, balance_lt_1384<br>new extent (len: 2): 2213, 97<br>new intent (len: 0): emptyset<br>mean_y_true: 0.03<br>mean_y_pred: 0.01<br>Metrics<br>\\taccuracy: 0.98<br>\\tprecision: 0.94<br>\\trecall: 0.27<br>\\tneg_precision: 0.98<br>\\tneg_recall: 1.0<br><br>\", \"Concept 86<br>extent (len: 2274): 3, 37, 55, 89, 96, 111, 116, 122, 176, 185,...<br>intent (len: 4): poutcome_not_success, month_not_oct, previous_lt_1, marital_is_married<br>new extent (len: 4): 3873, 3968, 3673, 2217<br>new intent (len: 0): emptyset<br>mean_y_true: 0.07<br>mean_y_pred: 0.03<br>Metrics<br>\\taccuracy: 0.95<br>\\tprecision: 0.82<br>\\trecall: 0.38<br>\\tneg_precision: 0.96<br>\\tneg_recall: 0.99<br><br>\", \"Concept 2<br>extent (len: 4397): 0, 64, 504, 688, 732, 922, 1196, 2451, 2568, 2687,...<br>intent (len: 1): duration_lt_968<br>new extent (len: 0): emptyset<br>new intent (len: 1): duration_lt_968<br>mean_y_true: 0.1<br>mean_y_pred: 0.06<br>Metrics<br>\\taccuracy: 0.94<br>\\tprecision: 0.87<br>\\trecall: 0.54<br>\\tneg_precision: 0.95<br>\\tneg_recall: 0.99<br><br>\", \"Concept 43<br>extent (len: 3604): 0, 64, 504, 688, 732, 922, 1196, 2451, 2568, 2687,...<br>intent (len: 3): poutcome_not_success, duration_lt_968, previous_lt_1<br>new extent (len: 5): 3881, 1672, 2014, 2421, 1113<br>new intent (len: 0): emptyset<br>mean_y_true: 0.08<br>mean_y_pred: 0.04<br>Metrics<br>\\taccuracy: 0.95<br>\\tprecision: 0.85<br>\\trecall: 0.4<br>\\tneg_precision: 0.95<br>\\tneg_recall: 0.99<br><br>\", \"Concept 54<br>extent (len: 1260): 2, 65, 136, 187, 208, 232, 314, 331, 375, 423,...<br>intent (len: 4): duration_lt_968, duration_lt_253, housing_is_yes, balance_lt_1384<br>new extent (len: 1): 4229<br>new intent (len: 0): emptyset<br>mean_y_true: 0.02<br>mean_y_pred: 0.01<br>Metrics<br>\\taccuracy: 0.99<br>\\tprecision: 1.0<br>\\trecall: 0.31<br>\\tneg_precision: 0.99<br>\\tneg_recall: 1.0<br><br>\", \"Concept 111<br>extent (len: 2220): 3, 37, 55, 89, 96, 111, 116, 122, 176, 185,...<br>intent (len: 5): poutcome_not_success, duration_lt_968, month_not_oct, previous_lt_1, marital_is_married<br>new extent (len: 79): 4165, 4256, 3006, 3993, 1942, 2420, 3942, 1315, 1773, 3686,...<br>new intent (len: 0): emptyset<br>mean_y_true: 0.06<br>mean_y_pred: 0.02<br>Metrics<br>\\taccuracy: 0.95<br>\\tprecision: 0.86<br>\\trecall: 0.29<br>\\tneg_precision: 0.96<br>\\tneg_recall: 1.0<br><br>\", \"Concept 9<br>extent (len: 2484): 1, 207, 236, 253, 310, 496, 528, 563, 685, 769,...<br>intent (len: 2): duration_lt_968, housing_is_yes<br>new extent (len: 0): emptyset<br>new intent (len: 0): emptyset<br>mean_y_true: 0.07<br>mean_y_pred: 0.03<br>Metrics<br>\\taccuracy: 0.96<br>\\tprecision: 0.92<br>\\trecall: 0.44<br>\\tneg_precision: 0.96<br>\\tneg_recall: 1.0<br><br>\", \"Concept 40<br>extent (len: 2445): 1, 207, 236, 253, 310, 496, 528, 563, 685, 769,...<br>intent (len: 3): poutcome_not_success, duration_lt_968, housing_is_yes<br>new extent (len: 1): 4423<br>new intent (len: 0): emptyset<br>mean_y_true: 0.07<br>mean_y_pred: 0.03<br>Metrics<br>\\taccuracy: 0.96<br>\\tprecision: 0.92<br>\\trecall: 0.38<br>\\tneg_precision: 0.96<br>\\tneg_recall: 1.0<br><br>\", \"Concept 75<br>extent (len: 2608): 1, 207, 236, 253, 310, 496, 528, 563, 685, 769,...<br>intent (len: 4): poutcome_not_success, duration_lt_968, month_not_oct, marital_is_married<br>new extent (len: 16): 318, 2032, 276, 3157, 4262, 3446, 1312, 3419, 4261, 3483,...<br>new intent (len: 0): emptyset<br>mean_y_true: 0.07<br>mean_y_pred: 0.03<br>Metrics<br>\\taccuracy: 0.95<br>\\tprecision: 0.89<br>\\trecall: 0.35<br>\\tneg_precision: 0.95<br>\\tneg_recall: 1.0<br><br>\", \"Concept 113<br>extent (len: 1279): 3, 37, 55, 89, 96, 111, 116, 122, 176, 185,...<br>intent (len: 5): poutcome_not_success, duration_lt_968, previous_lt_1, housing_is_yes, marital_is_married<br>new extent (len: 0): emptyset<br>new intent (len: 0): emptyset<br>mean_y_true: 0.05<br>mean_y_pred: 0.01<br>Metrics<br>\\taccuracy: 0.96<br>\\tprecision: 0.89<br>\\trecall: 0.25<br>\\tneg_precision: 0.96<br>\\tneg_recall: 1.0<br><br>\", \"Concept 3<br>extent (len: 2559): 1, 207, 236, 253, 310, 496, 528, 563, 685, 769,...<br>intent (len: 1): housing_is_yes<br>new extent (len: 0): emptyset<br>new intent (len: 1): housing_is_yes<br>mean_y_true: 0.09<br>mean_y_pred: 0.05<br>Metrics<br>\\taccuracy: 0.95<br>\\tprecision: 0.9<br>\\trecall: 0.5<br>\\tneg_precision: 0.96<br>\\tneg_recall: 0.99<br><br>\", \"Concept 24<br>extent (len: 2184): 2, 65, 136, 187, 208, 232, 314, 331, 375, 423,...<br>intent (len: 3): duration_lt_968, duration_lt_253, balance_lt_1384<br>new extent (len: 1): 3243<br>new intent (len: 0): emptyset<br>mean_y_true: 0.03<br>mean_y_pred: 0.02<br>Metrics<br>\\taccuracy: 0.98<br>\\tprecision: 0.85<br>\\trecall: 0.41<br>\\tneg_precision: 0.98<br>\\tneg_recall: 1.0<br><br>\", \"Concept 63<br>extent (len: 1960): 4, 7, 8, 11, 26, 43, 66, 67, 73, 74,...<br>intent (len: 4): duration_lt_968, month_not_oct, marital_is_married, balance_lt_1384<br>new extent (len: 15): 156, 4159, 1060, 1048, 3695, 2449, 658, 4160, 70, 2122,...<br>new intent (len: 0): emptyset<br>mean_y_true: 0.07<br>mean_y_pred: 0.04<br>Metrics<br>\\taccuracy: 0.96<br>\\tprecision: 0.89<br>\\trecall: 0.49<br>\\tneg_precision: 0.96<br>\\tneg_recall: 1.0<br><br>\", \"Concept 84<br>extent (len: 2741): 4, 7, 8, 11, 26, 43, 66, 67, 73, 74,...<br>intent (len: 4): poutcome_not_success, month_not_oct, previous_lt_1, balance_lt_1384<br>new extent (len: 20): 1855, 3614, 2375, 259, 3305, 1459, 50, 1504, 1991, 1914,...<br>new intent (len: 0): emptyset<br>mean_y_true: 0.08<br>mean_y_pred: 0.05<br>Metrics<br>\\taccuracy: 0.95<br>\\tprecision: 0.83<br>\\trecall: 0.49<br>\\tneg_precision: 0.96<br>\\tneg_recall: 0.99<br><br>\", \"Concept 49<br>extent (len: 2673): 1, 207, 236, 253, 310, 496, 528, 563, 685, 769,...<br>intent (len: 3): poutcome_not_success, month_not_oct, marital_is_married<br>new extent (len: 0): emptyset<br>new intent (len: 0): emptyset<br>mean_y_true: 0.08<br>mean_y_pred: 0.04<br>Metrics<br>\\taccuracy: 0.95<br>\\tprecision: 0.85<br>\\trecall: 0.43<br>\\tneg_precision: 0.95<br>\\tneg_recall: 0.99<br><br>\", \"Concept 58<br>extent (len: 1649): 1, 207, 236, 253, 310, 496, 528, 563, 685, 769,...<br>intent (len: 4): duration_lt_968, duration_lt_253, month_not_oct, housing_is_yes<br>new extent (len: 5): 2188, 4309, 2380, 3593, 2665<br>new intent (len: 0): emptyset<br>mean_y_true: 0.02<br>mean_y_pred: 0.01<br>Metrics<br>\\taccuracy: 0.99<br>\\tprecision: 0.91<br>\\trecall: 0.3<br>\\tneg_precision: 0.99<br>\\tneg_recall: 1.0<br><br>\", \"Concept 110<br>extent (len: 1980): 3, 37, 55, 89, 96, 111, 116, 122, 176, 185,...<br>intent (len: 5): poutcome_not_success, duration_lt_968, month_not_oct, previous_lt_1, housing_is_yes<br>new extent (len: 54): 1407, 2636, 258, 1041, 1394, 1119, 2752, 1533, 1945, 2786,...<br>new intent (len: 0): emptyset<br>mean_y_true: 0.06<br>mean_y_pred: 0.02<br>Metrics<br>\\taccuracy: 0.96<br>\\tprecision: 0.94<br>\\trecall: 0.3<br>\\tneg_precision: 0.96<br>\\tneg_recall: 1.0<br><br>\", \"Concept 38<br>extent (len: 3162): 2, 65, 136, 187, 208, 232, 314, 331, 375, 423,...<br>intent (len: 3): poutcome_not_success, duration_lt_968, balance_lt_1384<br>new extent (len: 1): 164<br>new intent (len: 0): emptyset<br>mean_y_true: 0.07<br>mean_y_pred: 0.04<br>Metrics<br>\\taccuracy: 0.95<br>\\tprecision: 0.86<br>\\trecall: 0.44<br>\\tneg_precision: 0.96<br>\\tneg_recall: 0.99<br><br>\", \"Concept 78<br>extent (len: 1986): 3, 37, 55, 89, 96, 111, 116, 122, 176, 185,...<br>intent (len: 4): poutcome_not_success, duration_lt_968, previous_lt_1, housing_is_yes<br>new extent (len: 0): emptyset<br>new intent (len: 0): emptyset<br>mean_y_true: 0.06<br>mean_y_pred: 0.02<br>Metrics<br>\\taccuracy: 0.96<br>\\tprecision: 0.92<br>\\trecall: 0.31<br>\\tneg_precision: 0.96<br>\\tneg_recall: 1.0<br><br>\", \"Concept 83<br>extent (len: 1964): 4, 7, 8, 11, 26, 43, 66, 67, 73, 74,...<br>intent (len: 4): poutcome_not_success, month_not_oct, marital_is_married, balance_lt_1384<br>new extent (len: 3): 3463, 1912, 665<br>new intent (len: 0): emptyset<br>mean_y_true: 0.07<br>mean_y_pred: 0.04<br>Metrics<br>\\taccuracy: 0.96<br>\\tprecision: 0.83<br>\\trecall: 0.45<br>\\tneg_precision: 0.96<br>\\tneg_recall: 0.99<br><br>\", \"Concept 48<br>extent (len: 2505): 1, 207, 236, 253, 310, 496, 528, 563, 685, 769,...<br>intent (len: 3): poutcome_not_success, month_not_oct, housing_is_yes<br>new extent (len: 2): 4447, 3943<br>new intent (len: 0): emptyset<br>mean_y_true: 0.08<br>mean_y_pred: 0.04<br>Metrics<br>\\taccuracy: 0.96<br>\\tprecision: 0.92<br>\\trecall: 0.46<br>\\tneg_precision: 0.96<br>\\tneg_recall: 1.0<br><br>\", \"Concept 64<br>extent (len: 1222): 4, 7, 8, 11, 26, 43, 66, 67, 73, 74,...<br>intent (len: 4): month_not_oct, housing_is_yes, marital_is_married, balance_lt_1384<br>new extent (len: 0): emptyset<br>new intent (len: 0): emptyset<br>mean_y_true: 0.06<br>mean_y_pred: 0.03<br>Metrics<br>\\taccuracy: 0.96<br>\\tprecision: 0.88<br>\\trecall: 0.47<br>\\tneg_precision: 0.97<br>\\tneg_recall: 1.0<br><br>\", \"Concept 109<br>extent (len: 2661): 4, 7, 8, 11, 26, 43, 66, 67, 73, 74,...<br>intent (len: 5): poutcome_not_success, duration_lt_968, month_not_oct, previous_lt_1, balance_lt_1384<br>new extent (len: 157): 3163, 4444, 3081, 1297, 612, 3334, 1269, 2423, 3409, 989,...<br>new intent (len: 0): emptyset<br>mean_y_true: 0.06<br>mean_y_pred: 0.03<br>Metrics<br>\\taccuracy: 0.96<br>\\tprecision: 0.84<br>\\trecall: 0.37<br>\\tneg_precision: 0.96<br>\\tneg_recall: 1.0<br><br>\", \"Concept 39<br>extent (len: 2884): 0, 64, 504, 688, 732, 922, 1196, 2451, 2568, 2687,...<br>intent (len: 3): poutcome_not_success, duration_lt_968, duration_lt_253<br>new extent (len: 2): 3023, 3775<br>new intent (len: 0): emptyset<br>mean_y_true: 0.03<br>mean_y_pred: 0.01<br>Metrics<br>\\taccuracy: 0.98<br>\\tprecision: 0.93<br>\\trecall: 0.28<br>\\tneg_precision: 0.98<br>\\tneg_recall: 1.0<br><br>\", \"Concept 62<br>extent (len: 1573): 1, 207, 236, 253, 310, 496, 528, 563, 685, 769,...<br>intent (len: 4): duration_lt_968, month_not_oct, housing_is_yes, marital_is_married<br>new extent (len: 1): 3331<br>new intent (len: 0): emptyset<br>mean_y_true: 0.06<br>mean_y_pred: 0.03<br>Metrics<br>\\taccuracy: 0.96<br>\\tprecision: 0.93<br>\\trecall: 0.41<br>\\tneg_precision: 0.96<br>\\tneg_recall: 1.0<br><br>\", \"Concept 114<br>extent (len: 1650): 4, 7, 8, 11, 26, 43, 66, 67, 73, 74,...<br>intent (len: 5): poutcome_not_success, duration_lt_968, previous_lt_1, marital_is_married, balance_lt_1384<br>new extent (len: 4): 1266, 1872, 3789, 2477<br>new intent (len: 0): emptyset<br>mean_y_true: 0.05<br>mean_y_pred: 0.02<br>Metrics<br>\\taccuracy: 0.96<br>\\tprecision: 0.84<br>\\trecall: 0.35<br>\\tneg_precision: 0.96<br>\\tneg_recall: 1.0<br><br>\", \"Concept 5<br>extent (len: 4441): 1, 207, 236, 253, 310, 496, 528, 563, 685, 769,...<br>intent (len: 1): month_not_oct<br>new extent (len: 1): 3644<br>new intent (len: 1): month_not_oct<br>mean_y_true: 0.11<br>mean_y_pred: 0.07<br>Metrics<br>\\taccuracy: 0.94<br>\\tprecision: 0.87<br>\\trecall: 0.57<br>\\tneg_precision: 0.95<br>\\tneg_recall: 0.99<br><br>\", \"Concept 41<br>extent (len: 2649): 0, 64, 504, 688, 732, 922, 1196, 2451, 2568, 2687,...<br>intent (len: 3): poutcome_not_success, duration_lt_968, marital_is_married<br>new extent (len: 0): emptyset<br>new intent (len: 0): emptyset<br>mean_y_true: 0.07<br>mean_y_pred: 0.03<br>Metrics<br>\\taccuracy: 0.95<br>\\tprecision: 0.87<br>\\trecall: 0.38<br>\\tneg_precision: 0.95<br>\\tneg_recall: 1.0<br><br>\", \"Concept 139<br>extent (len: 852): 3, 37, 55, 89, 96, 111, 116, 122, 176, 185,...<br>intent (len: 7): poutcome_not_success, duration_lt_968, duration_lt_253, month_not_oct, previous_lt_1, housing_is_yes, marital_is_married<br>new extent (len: 199): 55, 2813, 1364, 686, 4014, 4394, 2163, 2435, 2339, 4011,...<br>new intent (len: 0): emptyset<br>mean_y_true: 0.01<br>mean_y_pred: 0.0<br>Metrics<br>\\taccuracy: 0.99<br>\\tprecision: 1.0<br>\\trecall: 0.1<br>\\tneg_precision: 0.99<br>\\tneg_recall: 1.0<br><br>\", \"Concept 55<br>extent (len: 1070): 1, 207, 236, 253, 310, 496, 528, 563, 685, 769,...<br>intent (len: 4): duration_lt_968, duration_lt_253, housing_is_yes, marital_is_married<br>new extent (len: 0): emptyset<br>new intent (len: 0): emptyset<br>mean_y_true: 0.02<br>mean_y_pred: 0.01<br>Metrics<br>\\taccuracy: 0.98<br>\\tprecision: 0.86<br>\\trecall: 0.27<br>\\tneg_precision: 0.98<br>\\tneg_recall: 1.0<br><br>\", \"Concept 87<br>extent (len: 1552): 4, 7, 8, 11, 26, 43, 66, 67, 73, 74,...<br>intent (len: 4): poutcome_not_success, previous_lt_1, housing_is_yes, balance_lt_1384<br>new extent (len: 0): emptyset<br>new intent (len: 0): emptyset<br>mean_y_true: 0.07<br>mean_y_pred: 0.03<br>Metrics<br>\\taccuracy: 0.96<br>\\tprecision: 0.87<br>\\trecall: 0.4<br>\\tneg_precision: 0.96<br>\\tneg_recall: 1.0<br><br>\", \"Concept 21<br>extent (len: 2715): 0, 64, 504, 688, 732, 922, 1196, 2451, 2568, 2687,...<br>intent (len: 2): poutcome_not_success, marital_is_married<br>new extent (len: 0): emptyset<br>new intent (len: 0): emptyset<br>mean_y_true: 0.08<br>mean_y_pred: 0.04<br>Metrics<br>\\taccuracy: 0.95<br>\\tprecision: 0.84<br>\\trecall: 0.45<br>\\tneg_precision: 0.95<br>\\tneg_recall: 0.99<br><br>\", \"Concept 142<br>extent (len: 965): 4, 7, 8, 11, 26, 43, 66, 67, 73, 74,...<br>intent (len: 7): poutcome_not_success, duration_lt_968, month_not_oct, previous_lt_1, housing_is_yes, marital_is_married, balance_lt_1384<br>new extent (len: 312): 2156, 3507, 3787, 845, 1000, 4129, 1017, 1278, 2822, 3086,...<br>new intent (len: 0): emptyset<br>mean_y_true: 0.04<br>mean_y_pred: 0.01<br>Metrics<br>\\taccuracy: 0.97<br>\\tprecision: 0.89<br>\\trecall: 0.23<br>\\tneg_precision: 0.97<br>\\tneg_recall: 1.0<br><br>\", \"Concept 80<br>extent (len: 1215): 4, 7, 8, 11, 26, 43, 66, 67, 73, 74,...<br>intent (len: 4): poutcome_not_success, housing_is_yes, marital_is_married, balance_lt_1384<br>new extent (len: 0): emptyset<br>new intent (len: 0): emptyset<br>mean_y_true: 0.06<br>mean_y_pred: 0.03<br>Metrics<br>\\taccuracy: 0.96<br>\\tprecision: 0.84<br>\\trecall: 0.39<br>\\tneg_precision: 0.97<br>\\tneg_recall: 1.0<br><br>\", \"Concept 85<br>extent (len: 2037): 3, 37, 55, 89, 96, 111, 116, 122, 176, 185,...<br>intent (len: 4): poutcome_not_success, month_not_oct, previous_lt_1, housing_is_yes<br>new extent (len: 4): 1534, 3453, 1592, 1454<br>new intent (len: 0): emptyset<br>mean_y_true: 0.07<br>mean_y_pred: 0.03<br>Metrics<br>\\taccuracy: 0.96<br>\\tprecision: 0.92<br>\\trecall: 0.4<br>\\tneg_precision: 0.96<br>\\tneg_recall: 1.0<br><br>\", \"Concept 32<br>extent (len: 2469): 1, 207, 236, 253, 310, 496, 528, 563, 685, 769,...<br>intent (len: 3): duration_lt_968, month_not_oct, housing_is_yes<br>new extent (len: 5): 1173, 2372, 2917, 1952, 1779<br>new intent (len: 0): emptyset<br>mean_y_true: 0.07<br>mean_y_pred: 0.03<br>Metrics<br>\\taccuracy: 0.96<br>\\tprecision: 0.94<br>\\trecall: 0.44<br>\\tneg_precision: 0.96<br>\\tneg_recall: 1.0<br><br>\", \"Concept 74<br>extent (len: 2431): 1, 207, 236, 253, 310, 496, 528, 563, 685, 769,...<br>intent (len: 4): poutcome_not_success, duration_lt_968, month_not_oct, housing_is_yes<br>new extent (len: 15): 412, 40, 3755, 4435, 3064, 3665, 202, 4372, 1729, 4363,...<br>new intent (len: 0): emptyset<br>mean_y_true: 0.06<br>mean_y_pred: 0.03<br>Metrics<br>\\taccuracy: 0.96<br>\\tprecision: 0.95<br>\\trecall: 0.38<br>\\tneg_precision: 0.96<br>\\tneg_recall: 1.0<br><br>\"], \"marker\": {\"color\": [0.0030303030303030303, 0.012558869701726845, 0.00354924578527063, 0.002276176024279211, 0.05274725274725275, 0.014647137150466045, 0.024834437086092714, 0.0024096385542168677, 0.0785224507852245, 0.056476365868631064, 0.017758726270667484, 0.0036855036855036856, 0.002976190476190476, 0.045990566037735846, 0.028442146089204912, 0.02108433734939759, 0.002843601895734597, 0.023682200152788387, 0.0024479804161566705, 0.05751729159082636, 0.002466091245376079, 0.013605442176870748, 0.010319917440660475, 0.032238805970149255, 0.020161290322580645, 0.044720206040739875, 0.06512477175897748, 0.002336448598130841, 0.07252022774947557, 0.0026437541308658294, 0.0033333333333333335, 0.001524390243902439, 0.004869141813755326, 0.003658536585365854, 0.040492258832870186, 0.02176696542893726, 0.004796163069544364, 0.018338727076591153, 0.022556390977443608, 0.005239520958083832, 0.039603960396039604, 0.0008968609865470852, 0.03268183274591477, 0.015925680159256803, 0.020068027210884354, 0.047036688617121354, 0.00199203187250996, 0.012518409425625921, 0.019961365099806824, 0.04550540842969041, 0.03195488721804511, 0.02511415525114155, 0.04123076923076923, 0.047020229633679606, 0.007825370675453048, 0.003674219228413962, 0.03830597192481561, 0.007158590308370044, 0.003766478342749529, 0.042443064182194616, 0.02774813233724653, 0.03644251626898048, 0.014370245139475908, 0.059197651663405085, 0.04618473895582329, 0.030635188308038224, 0.006047278724573941, 0.04168759417378202, 0.0015313935681470138, 0.01160631383472609, 0.021848739495798318, 0.060109289617486336, 0.05209176788124156, 0.03132648066568772, 0.003779289493575208, 0.03364485981308411, 0.024, 0.019011406844106463, 0.03336045565500407, 0.03371970495258166, 0.004479283314669653, 0.06435466571326422, 0.05412907702984039, 0.02576489533011272, 0.004701457451810061, 0.05171556439582297, 0.014827018121911038, 0.03662138216184288, 0.02970922882427307, 0.005851755526657998, 0.006690140845070422, 0.009701492537313432, 0.0555812876331635, 0.05099502487562189, 0.03236607142857143, 0.02246603970741902, 0.03511530398322851, 0.020529443544030253, 0.005644402634054563, 0.008433734939759036, 0.028350515463917526, 0.004592901878914405, 0.04060385216033316, 0.05128205128205128, 0.0031923383878691143, 0.05495523309663476, 0.015911449325492908, 0.0074314909428704135, 0.032541776605101144, 0.06367978166932, 0.03607103218645949, 0.006349206349206349, 0.01981981981981982, 0.03462157809983897, 0.026993865030674847, 0.026840490797546013, 0.014073494917904612, 0.04806565064478312, 0.015567765567765568, 0.03826530612244898, 0.04706311565122218, 0.03928170594837262, 0.0066707095209217705, 0.017676767676767676, 0.038583175205566096, 0.019133937562940583, 0.03615071283095723, 0.038722554890219564, 0.03273322422258593, 0.027809094325441562, 0.009708737864077669, 0.027972027972027972, 0.022424242424242423, 0.07092997072731366, 0.03208758021895055, 0.0011737089201877935, 0.0065420560747663555, 0.029639175257731958, 0.04419889502762431, 0.00932642487046632, 0.02551440329218107, 0.029945999018163968, 0.03240178209801539, 0.02509255450431921], \"colorbar\": {\"thickness\": 15, \"title\": {\"side\": \"right\", \"text\": \"Mean Prediction\"}, \"xanchor\": \"left\"}, \"colorscale\": [[0.0, \"rgb(103,0,31)\"], [0.1, \"rgb(178,24,43)\"], [0.2, \"rgb(214,96,77)\"], [0.3, \"rgb(244,165,130)\"], [0.4, \"rgb(253,219,199)\"], [0.5, \"rgb(247,247,247)\"], [0.6, \"rgb(209,229,240)\"], [0.7, \"rgb(146,197,222)\"], [0.8, \"rgb(67,147,195)\"], [0.9, \"rgb(33,102,172)\"], [1.0, \"rgb(5,48,97)\"]], \"line\": {\"width\": 2}, \"reversescale\": true, \"showscale\": true, \"size\": 10}, \"mode\": \"markers+text\", \"text\": [\"<br>n: 47\", \"<br>n: 110\", \"<br>n: 9\", \"<br>n: 115\", \"<br>3931\", \"<br>n: 186\", \"<br>n: 5\", \"<br>n: 83\", \"<br>\", \"<br>\", \"<br>n: 206\", \"<br>1421,1167,464\", \"<br>2773\", \"<br>\", \"<br>n: 18\", \"<br>\", \"<br>n: 45\", \"<br>n: 8\", \"<br>3315,903,3346\", \"<br>\", \"<br>n: 158\", \"<br>n: 53\", \"<br>61\", \"<br>n: 15\", \"<br>n: 27\", \"<br>1750,1928\", \"<br>\", \"<br>1021\", \"balance_lt_1384<br>\", \"<br>n: 199\", \"<br>n: 334\", \"<br>2911,3826,4092\", \"<br>3527\", \"<br>\", \"<br>\", \"<br>3701\", \"<br>1736,2176,3281\", \"<br>1303\", \"<br>\", \"<br>1106\", \"<br>\", \"<br>n: 462\", \"<br>n: 12\", \"<br>\", \"duration_lt_253<br>\", \"<br>n: 10\", \"<br>n: 351\", \"<br>1124,338\", \"<br>n: 23\", \"<br>n: 11\", \"<br>1719,823,2968\", \"<br>\", \"<br>\", \"<br>2980,1300,2140,3813\", \"<br>2022\", \"<br>n: 29\", \"<br>n: 13\", \"<br>822\", \"<br>\", \"<br>\", \"<br>\", \"<br>\", \"<br>\", \"<br>\", \"<br>1186,1437,4216,3250\", \"<br>n: 59\", \"<br>n: 6\", \"<br>\", \"<br>n: 653\", \"<br>3835,3370,3874,2539\", \"<br>n: 11\", \"poutcome_not_success<br>\", \"previous_lt_1<br>\", \"<br>\", \"<br>\", \"<br>\", \"<br>\", \"<br>n: 45\", \"<br>\", \"<br>n: 7\", \"<br>n: 23\", \"marital_is_married<br>\", \"<br>\", \"<br>n: 5\", \"<br>n: 39\", \"<br>328\", \"<br>n: 10\", \"<br>1903\", \"<br>\", \"<br>n: 12\", \"<br>n: 21\", \"<br>n: 17\", \"<br>n: 6\", \"<br>\", \"<br>803,2685,2821\", \"<br>n: 23\", \"<br>\", \"<br>3743\", \"<br>n: 5\", \"<br>\", \"<br>n: 5\", \"<br>n: 82\", \"<br>4232\", \"<br>\", \"<br>858\", \"<br>4009\", \"<br>540,397,1216,3088\", \"<br>2213,97\", \"<br>3873,3968,3673,2217\", \"duration_lt_968<br>\", \"<br>n: 5\", \"<br>4229\", \"<br>n: 79\", \"<br>\", \"<br>4423\", \"<br>n: 16\", \"<br>\", \"housing_is_yes<br>\", \"<br>3243\", \"<br>n: 15\", \"<br>n: 20\", \"<br>\", \"<br>n: 5\", \"<br>n: 54\", \"<br>164\", \"<br>\", \"<br>3463,1912,665\", \"<br>4447,3943\", \"<br>\", \"<br>n: 157\", \"<br>3023,3775\", \"<br>3331\", \"<br>1266,1872,3789,2477\", \"month_not_oct<br>3644\", \"<br>\", \"<br>n: 199\", \"<br>\", \"<br>\", \"<br>\", \"<br>n: 312\", \"<br>\", \"<br>1534,3453,1592,1454\", \"<br>n: 5\", \"<br>n: 15\"], \"textposition\": \"middle right\", \"type\": \"scatter\", \"x\": [-1.0, 4.0, 1.0, -8.0, 1.0, 6.0, 11.5, -6.0, 0.0, 5.0, 7.0, 2.0, -2.0, -1.0, 13.5, 6.5, -3.0, 10.5, -5.0, 6.0, 1.5, 5.0, 3.0, 14.5, 8.0, -2.0, 8.0, -7.0, 2.5, -4.0, 0.0, -0.5, -17.5, -13.5, -6.0, -4.5, -6.5, -10.5, -3.5, -5.5, 5.5, -2.5, 11.5, 1.5, -8.0, 11.5, 0.5, -8.5, 5.5, 8.5, 8.5, -0.5, -5.0, 10.5, -10.5, -12.5, 1.5, -12.5, -11.5, -4.0, -8.5, 0.5, 0.5, 7.0, 9.5, 7.5, -2.5, 7.5, 0.0, -9.5, 7.5, -1.5, 0.0, -6.5, -10.5, -2.5, -2.5, 3.5, -3.5, 13.5, -9.5, 0.5, 2.0, 1.5, -7.5, 14.5, -7.5, 15.5, -7.5, -3.5, -13.5, -1.5, 4.0, 12.5, 9.5, 9.5, -1.5, -5.5, -4.5, -14.5, 4.5, -8.5, 6.5, 13.5, -14.5, 3.0, -11.5, -11.5, 10.5, -0.5, -0.5, -16.5, 4.5, -7.0, -9.5, 2.5, -0.5, -2.5, -12.5, 16.5, 17.5, 4.5, -14.5, 2.5, 2.5, -6.5, 14.5, 3.5, 12.5, 12.5, -13.5, 3.5, 8.5, 1.5, -5.5, -1.5, -15.5, 5.5, -3.0, 2.5, 0.5, 6.5, -4.5, -1.5], \"y\": [3, 3, 3, 3, 7, 3, 4, 3, 9, 7, 3, 3, 3, 7, 4, 4, 3, 4, 3, 7, 2, 3, 3, 4, 3, 7, 7, 3, 8, 3, 3, 2, 5, 4, 7, 5, 4, 6, 5, 4, 6, 2, 5, 4, 7, 6, 2, 5, 4, 6, 5, 5, 7, 6, 5, 4, 6, 5, 4, 7, 6, 6, 4, 7, 6, 5, 4, 6, 1, 5, 4, 8, 7, 6, 4, 6, 5, 4, 6, 5, 4, 8, 7, 5, 4, 6, 5, 5, 6, 4, 5, 4, 7, 6, 5, 4, 6, 5, 4, 6, 5, 4, 6, 6, 4, 7, 6, 5, 5, 8, 6, 5, 4, 7, 6, 5, 4, 8, 6, 5, 5, 6, 5, 4, 6, 5, 5, 6, 5, 4, 6, 5, 4, 8, 6, 2, 5, 5, 7, 2, 5, 5, 6, 5]}],\n",
       "                        {\"height\": 500, \"hovermode\": \"closest\", \"margin\": {\"b\": 20, \"l\": 5, \"r\": 5, \"t\": 40}, \"showlegend\": false, \"template\": {\"data\": {\"bar\": [{\"error_x\": {\"color\": \"#2a3f5f\"}, \"error_y\": {\"color\": \"#2a3f5f\"}, \"marker\": {\"line\": {\"color\": \"#E5ECF6\", \"width\": 0.5}}, \"type\": \"bar\"}], \"barpolar\": [{\"marker\": {\"line\": {\"color\": \"#E5ECF6\", \"width\": 0.5}}, \"type\": \"barpolar\"}], \"carpet\": [{\"aaxis\": {\"endlinecolor\": \"#2a3f5f\", \"gridcolor\": \"white\", \"linecolor\": \"white\", \"minorgridcolor\": \"white\", \"startlinecolor\": \"#2a3f5f\"}, \"baxis\": {\"endlinecolor\": \"#2a3f5f\", \"gridcolor\": \"white\", \"linecolor\": \"white\", \"minorgridcolor\": \"white\", \"startlinecolor\": \"#2a3f5f\"}, \"type\": \"carpet\"}], \"choropleth\": [{\"colorbar\": {\"outlinewidth\": 0, \"ticks\": \"\"}, \"type\": \"choropleth\"}], \"contour\": [{\"colorbar\": {\"outlinewidth\": 0, \"ticks\": \"\"}, \"colorscale\": [[0.0, \"#0d0887\"], [0.1111111111111111, \"#46039f\"], [0.2222222222222222, \"#7201a8\"], [0.3333333333333333, \"#9c179e\"], [0.4444444444444444, \"#bd3786\"], [0.5555555555555556, \"#d8576b\"], [0.6666666666666666, \"#ed7953\"], [0.7777777777777778, \"#fb9f3a\"], [0.8888888888888888, \"#fdca26\"], [1.0, \"#f0f921\"]], \"type\": \"contour\"}], \"contourcarpet\": [{\"colorbar\": {\"outlinewidth\": 0, \"ticks\": \"\"}, \"type\": \"contourcarpet\"}], \"heatmap\": [{\"colorbar\": {\"outlinewidth\": 0, \"ticks\": \"\"}, \"colorscale\": [[0.0, \"#0d0887\"], [0.1111111111111111, \"#46039f\"], [0.2222222222222222, \"#7201a8\"], [0.3333333333333333, \"#9c179e\"], [0.4444444444444444, \"#bd3786\"], [0.5555555555555556, \"#d8576b\"], [0.6666666666666666, \"#ed7953\"], [0.7777777777777778, \"#fb9f3a\"], [0.8888888888888888, \"#fdca26\"], [1.0, \"#f0f921\"]], \"type\": \"heatmap\"}], \"heatmapgl\": [{\"colorbar\": {\"outlinewidth\": 0, \"ticks\": \"\"}, \"colorscale\": [[0.0, \"#0d0887\"], [0.1111111111111111, \"#46039f\"], [0.2222222222222222, \"#7201a8\"], [0.3333333333333333, \"#9c179e\"], [0.4444444444444444, \"#bd3786\"], [0.5555555555555556, \"#d8576b\"], [0.6666666666666666, \"#ed7953\"], [0.7777777777777778, \"#fb9f3a\"], [0.8888888888888888, \"#fdca26\"], [1.0, \"#f0f921\"]], \"type\": \"heatmapgl\"}], \"histogram\": [{\"marker\": {\"colorbar\": {\"outlinewidth\": 0, \"ticks\": \"\"}}, \"type\": \"histogram\"}], \"histogram2d\": [{\"colorbar\": {\"outlinewidth\": 0, \"ticks\": \"\"}, \"colorscale\": [[0.0, \"#0d0887\"], [0.1111111111111111, \"#46039f\"], [0.2222222222222222, \"#7201a8\"], [0.3333333333333333, \"#9c179e\"], [0.4444444444444444, \"#bd3786\"], [0.5555555555555556, \"#d8576b\"], [0.6666666666666666, \"#ed7953\"], [0.7777777777777778, \"#fb9f3a\"], [0.8888888888888888, \"#fdca26\"], [1.0, \"#f0f921\"]], \"type\": \"histogram2d\"}], \"histogram2dcontour\": [{\"colorbar\": {\"outlinewidth\": 0, \"ticks\": \"\"}, \"colorscale\": [[0.0, \"#0d0887\"], [0.1111111111111111, \"#46039f\"], [0.2222222222222222, \"#7201a8\"], [0.3333333333333333, \"#9c179e\"], [0.4444444444444444, \"#bd3786\"], [0.5555555555555556, \"#d8576b\"], [0.6666666666666666, \"#ed7953\"], [0.7777777777777778, \"#fb9f3a\"], [0.8888888888888888, \"#fdca26\"], [1.0, \"#f0f921\"]], \"type\": \"histogram2dcontour\"}], \"mesh3d\": [{\"colorbar\": {\"outlinewidth\": 0, \"ticks\": \"\"}, \"type\": \"mesh3d\"}], \"parcoords\": [{\"line\": {\"colorbar\": {\"outlinewidth\": 0, \"ticks\": \"\"}}, \"type\": \"parcoords\"}], \"pie\": [{\"automargin\": true, \"type\": \"pie\"}], \"scatter\": [{\"marker\": {\"colorbar\": {\"outlinewidth\": 0, \"ticks\": \"\"}}, \"type\": \"scatter\"}], \"scatter3d\": [{\"line\": {\"colorbar\": {\"outlinewidth\": 0, \"ticks\": \"\"}}, \"marker\": {\"colorbar\": {\"outlinewidth\": 0, \"ticks\": \"\"}}, \"type\": \"scatter3d\"}], \"scattercarpet\": [{\"marker\": {\"colorbar\": {\"outlinewidth\": 0, \"ticks\": \"\"}}, \"type\": \"scattercarpet\"}], \"scattergeo\": [{\"marker\": {\"colorbar\": {\"outlinewidth\": 0, \"ticks\": \"\"}}, \"type\": \"scattergeo\"}], \"scattergl\": [{\"marker\": {\"colorbar\": {\"outlinewidth\": 0, \"ticks\": \"\"}}, \"type\": \"scattergl\"}], \"scattermapbox\": [{\"marker\": {\"colorbar\": {\"outlinewidth\": 0, \"ticks\": \"\"}}, \"type\": \"scattermapbox\"}], \"scatterpolar\": [{\"marker\": {\"colorbar\": {\"outlinewidth\": 0, \"ticks\": \"\"}}, \"type\": \"scatterpolar\"}], \"scatterpolargl\": [{\"marker\": {\"colorbar\": {\"outlinewidth\": 0, \"ticks\": \"\"}}, \"type\": \"scatterpolargl\"}], \"scatterternary\": [{\"marker\": {\"colorbar\": {\"outlinewidth\": 0, \"ticks\": \"\"}}, \"type\": \"scatterternary\"}], \"surface\": [{\"colorbar\": {\"outlinewidth\": 0, \"ticks\": \"\"}, \"colorscale\": [[0.0, \"#0d0887\"], [0.1111111111111111, \"#46039f\"], [0.2222222222222222, \"#7201a8\"], [0.3333333333333333, \"#9c179e\"], [0.4444444444444444, \"#bd3786\"], [0.5555555555555556, \"#d8576b\"], [0.6666666666666666, \"#ed7953\"], [0.7777777777777778, \"#fb9f3a\"], [0.8888888888888888, \"#fdca26\"], [1.0, \"#f0f921\"]], \"type\": \"surface\"}], \"table\": [{\"cells\": {\"fill\": {\"color\": \"#EBF0F8\"}, \"line\": {\"color\": \"white\"}}, \"header\": {\"fill\": {\"color\": \"#C8D4E3\"}, \"line\": {\"color\": \"white\"}}, \"type\": \"table\"}]}, \"layout\": {\"annotationdefaults\": {\"arrowcolor\": \"#2a3f5f\", \"arrowhead\": 0, \"arrowwidth\": 1}, \"coloraxis\": {\"colorbar\": {\"outlinewidth\": 0, \"ticks\": \"\"}}, \"colorscale\": {\"diverging\": [[0, \"#8e0152\"], [0.1, \"#c51b7d\"], [0.2, \"#de77ae\"], [0.3, \"#f1b6da\"], [0.4, \"#fde0ef\"], [0.5, \"#f7f7f7\"], [0.6, \"#e6f5d0\"], [0.7, \"#b8e186\"], [0.8, \"#7fbc41\"], [0.9, \"#4d9221\"], [1, \"#276419\"]], \"sequential\": [[0.0, \"#0d0887\"], [0.1111111111111111, \"#46039f\"], [0.2222222222222222, \"#7201a8\"], [0.3333333333333333, \"#9c179e\"], [0.4444444444444444, \"#bd3786\"], [0.5555555555555556, \"#d8576b\"], [0.6666666666666666, \"#ed7953\"], [0.7777777777777778, \"#fb9f3a\"], [0.8888888888888888, \"#fdca26\"], [1.0, \"#f0f921\"]], \"sequentialminus\": [[0.0, \"#0d0887\"], [0.1111111111111111, \"#46039f\"], [0.2222222222222222, \"#7201a8\"], [0.3333333333333333, \"#9c179e\"], [0.4444444444444444, \"#bd3786\"], [0.5555555555555556, \"#d8576b\"], [0.6666666666666666, \"#ed7953\"], [0.7777777777777778, \"#fb9f3a\"], [0.8888888888888888, \"#fdca26\"], [1.0, \"#f0f921\"]]}, \"colorway\": [\"#636efa\", \"#EF553B\", \"#00cc96\", \"#ab63fa\", \"#FFA15A\", \"#19d3f3\", \"#FF6692\", \"#B6E880\", \"#FF97FF\", \"#FECB52\"], \"font\": {\"color\": \"#2a3f5f\"}, \"geo\": {\"bgcolor\": \"white\", \"lakecolor\": \"white\", \"landcolor\": \"#E5ECF6\", \"showlakes\": true, \"showland\": true, \"subunitcolor\": \"white\"}, \"hoverlabel\": {\"align\": \"left\"}, \"hovermode\": \"closest\", \"mapbox\": {\"style\": \"light\"}, \"paper_bgcolor\": \"white\", \"plot_bgcolor\": \"#E5ECF6\", \"polar\": {\"angularaxis\": {\"gridcolor\": \"white\", \"linecolor\": \"white\", \"ticks\": \"\"}, \"bgcolor\": \"#E5ECF6\", \"radialaxis\": {\"gridcolor\": \"white\", \"linecolor\": \"white\", \"ticks\": \"\"}}, \"scene\": {\"xaxis\": {\"backgroundcolor\": \"#E5ECF6\", \"gridcolor\": \"white\", \"gridwidth\": 2, \"linecolor\": \"white\", \"showbackground\": true, \"ticks\": \"\", \"zerolinecolor\": \"white\"}, \"yaxis\": {\"backgroundcolor\": \"#E5ECF6\", \"gridcolor\": \"white\", \"gridwidth\": 2, \"linecolor\": \"white\", \"showbackground\": true, \"ticks\": \"\", \"zerolinecolor\": \"white\"}, \"zaxis\": {\"backgroundcolor\": \"#E5ECF6\", \"gridcolor\": \"white\", \"gridwidth\": 2, \"linecolor\": \"white\", \"showbackground\": true, \"ticks\": \"\", \"zerolinecolor\": \"white\"}}, \"shapedefaults\": {\"line\": {\"color\": \"#2a3f5f\"}}, \"ternary\": {\"aaxis\": {\"gridcolor\": \"white\", \"linecolor\": \"white\", \"ticks\": \"\"}, \"baxis\": {\"gridcolor\": \"white\", \"linecolor\": \"white\", \"ticks\": \"\"}, \"bgcolor\": \"#E5ECF6\", \"caxis\": {\"gridcolor\": \"white\", \"linecolor\": \"white\", \"ticks\": \"\"}}, \"title\": {\"x\": 0.05}, \"xaxis\": {\"automargin\": true, \"gridcolor\": \"white\", \"linecolor\": \"white\", \"ticks\": \"\", \"title\": {\"standoff\": 15}, \"zerolinecolor\": \"white\", \"zerolinewidth\": 2}, \"yaxis\": {\"automargin\": true, \"gridcolor\": \"white\", \"linecolor\": \"white\", \"ticks\": \"\", \"title\": {\"standoff\": 15}, \"zerolinecolor\": \"white\", \"zerolinewidth\": 2}}}, \"title\": {\"font\": {\"size\": 16}, \"text\": \"Bank Dataset Concept Lattice\"}, \"width\": 1000, \"xaxis\": {\"showgrid\": false, \"showticklabels\": false, \"zeroline\": false}, \"yaxis\": {\"showgrid\": false, \"showticklabels\": false, \"zeroline\": false}},\n",
       "                        {\"responsive\": true}\n",
       "                    ).then(function(){\n",
       "                            \n",
       "var gd = document.getElementById('14cff30d-e792-4b13-b053-054252370d05');\n",
       "var x = new MutationObserver(function (mutations, observer) {{\n",
       "        var display = window.getComputedStyle(gd).display;\n",
       "        if (!display || display === 'none') {{\n",
       "            console.log([gd, 'removed!']);\n",
       "            Plotly.purge(gd);\n",
       "            observer.disconnect();\n",
       "        }}\n",
       "}});\n",
       "\n",
       "// Listen for the removal of the full notebook cells\n",
       "var notebookContainer = gd.closest('#notebook-container');\n",
       "if (notebookContainer) {{\n",
       "    x.observe(notebookContainer, {childList: true});\n",
       "}}\n",
       "\n",
       "// Listen for the clearing of the current output cell\n",
       "var outputEl = gd.closest('.output');\n",
       "if (outputEl) {{\n",
       "    x.observe(outputEl, {childList: true});\n",
       "}}\n",
       "\n",
       "                        })\n",
       "                };\n",
       "                });\n",
       "            </script>\n",
       "        </div>"
      ]
     },
     "metadata": {},
     "output_type": "display_data"
    }
   ],
   "source": [
    "fig.show()"
   ]
  },
  {
   "cell_type": "code",
   "execution_count": 129,
   "metadata": {},
   "outputs": [],
   "source": [
    "new_obj_by_levels = {i:[] for i in range(fm_bank.get_concept_by_id(len(fm_bank._concepts)-1)._level+1)}\n",
    "for c in fm_bank._concepts:\n",
    "    new_obj_by_levels[c._level] += list(c._new_objs)"
   ]
  },
  {
   "cell_type": "code",
   "execution_count": 130,
   "metadata": {},
   "outputs": [
    {
     "data": {
      "image/png": "[encoded data removed]",
      "text/plain": [
       "<Figure size 432x288 with 1 Axes>"
      ]
     },
     "metadata": {
      "needs_background": "light"
     },
     "output_type": "display_data"
    }
   ],
   "source": [
    "s = pd.Series({k:len(v) for k,v in new_obj_by_levels.items()})\n",
    "sns.barplot(x=s.index, y=s.values)\n",
    "plt.show()"
   ]
  },
  {
   "cell_type": "raw",
   "metadata": {},
   "source": [
    "def get_prediction_for_objects(fm):\n",
    "    self = fm\n",
    "    return  pd.Series({int(g):c._y_pred_mean for c in self._concepts for g in c._new_objs}).sort_index()"
   ]
  },
  {
   "cell_type": "code",
   "execution_count": 131,
   "metadata": {},
   "outputs": [],
   "source": [
    "from itertools import chain, combinations\n",
    "\n",
    "def powerset(iterable):\n",
    "    \"\"\"\n",
    "    powerset([1,2,3]) --> () (1,) (2,) (3,) (1,2) (1,3) (2,3) (1,2,3)\n",
    "    \"\"\"\n",
    "    xs = list(iterable)\n",
    "    # note we return an iterator rather than a list\n",
    "    return chain.from_iterable(combinations(xs,n) for n in range(len(xs)+1))"
   ]
  },
  {
   "cell_type": "code",
   "execution_count": 132,
   "metadata": {},
   "outputs": [],
   "source": [
    "def get_stability(cidx, fm):\n",
    "    stab = 0\n",
    "    ext_ = fm.get_concept_by_id(cidx).get_extent()\n",
    "    int_ = fm.get_concept_by_id(cidx).get_intent()\n",
    "    cntx = fm.get_context()\n",
    "    \n",
    "    for s in powerset(ext_):\n",
    "        stab += int(set(cntx.get_intent([str(g) for g in s if g in cntx._objs]))==set(int_))\n",
    "    stab /= 2**(len(ext_))\n",
    "    return stab"
   ]
  },
  {
   "cell_type": "raw",
   "metadata": {},
   "source": [
    "%timeit get_stability(139, fm_bank)"
   ]
  },
  {
   "cell_type": "raw",
   "metadata": {},
   "source": [
    "i = 0\n",
    "for s in tqdm(powerset(fm_bank.get_concept_by_id(100).get_extent()), total=2**len(fm_bank.get_concept_by_id(100).get_extent())):\n",
    "    i+=1"
   ]
  },
  {
   "cell_type": "code",
   "execution_count": null,
   "metadata": {},
   "outputs": [],
   "source": []
  },
  {
   "cell_type": "code",
   "execution_count": 134,
   "metadata": {},
   "outputs": [],
   "source": [
    "def get_stab_bounds(cidx, fm):\n",
    "    c = fm.get_concept_by_id(cidx)\n",
    "    lns = c._low_neighbs\n",
    "    difs = np.array(sorted([len(set(c.get_extent())-set(fm.get_concept_by_id(didx).get_extent())) for didx in lns])).astype(float)\n",
    "    minb = 1-sum(1/(2**difs))\n",
    "    maxb = 1-1/(2**difs[0])\n",
    "    return minb, maxb, difs[0]"
   ]
  },
  {
   "cell_type": "code",
   "execution_count": 135,
   "metadata": {},
   "outputs": [
    {
     "name": "stdout",
     "output_type": "stream",
     "text": [
      "2.71 ms ± 126 µs per loop (mean ± std. dev. of 7 runs, 100 loops each)\n"
     ]
    }
   ],
   "source": [
    "%timeit get_stab_bounds(100, fm_bank)"
   ]
  },
  {
   "cell_type": "code",
   "execution_count": 143,
   "metadata": {},
   "outputs": [
    {
     "data": {
      "application/vnd.jupyter.widget-view+json": {
       "model_id": "ea38b5bff76d49269338a88263219479",
       "version_major": 2,
       "version_minor": 0
      },
      "text/plain": [
       "HBox(children=(IntProgress(value=0, max=144), HTML(value='')))"
      ]
     },
     "metadata": {},
     "output_type": "display_data"
    },
    {
     "name": "stderr",
     "output_type": "stream",
     "text": [
      "/home/egor/anaconda3/lib/python3.7/site-packages/ipykernel_launcher.py:15: RuntimeWarning:\n",
      "\n",
      "divide by zero encountered in log2\n",
      "\n",
      "/home/egor/anaconda3/lib/python3.7/site-packages/ipykernel_launcher.py:16: RuntimeWarning:\n",
      "\n",
      "divide by zero encountered in log2\n",
      "\n",
      "/home/egor/anaconda3/lib/python3.7/site-packages/ipykernel_launcher.py:5: RuntimeWarning:\n",
      "\n",
      "overflow encountered in power\n",
      "\n"
     ]
    },
    {
     "name": "stdout",
     "output_type": "stream",
     "text": [
      "Too big extent to calc pure stability (143 concept)\n",
      "\n"
     ]
    }
   ],
   "source": [
    "for c in tqdm(fm_bank._concepts):\n",
    "    if len(c._low_neighbs)>0:\n",
    "        minb, maxb, mindif = get_stab_bounds(c._idx, fm_bank)\n",
    "    elif len(c.get_extent())<10:\n",
    "        print('calc real stability for idx', c._idx)\n",
    "        minb = get_stability(c._idx, fm_bank)\n",
    "        maxb = minb\n",
    "        mindif = None\n",
    "    else:\n",
    "        #raise ValueError(f'Too big extent to calc pure stability ({c._idx} concept)')\n",
    "        print((f'Too big extent to calc pure stability ({c._idx} concept)'))\n",
    "        minb, maxb, mindif = [None]*3\n",
    "    c._metrics['stab_min_bound'] = minb\n",
    "    c._metrics['stab_max_bound'] = maxb\n",
    "    c._metrics['log_stab_min_bound'] = -np.log2(1-minb) if minb is not None else None\n",
    "    c._metrics['log_stab_max_bound'] = -np.log2(1-maxb) if maxb is not None else None\n",
    "    c._metrics['lstab_min_bound'] = mindif-len(fm_bank.get_context()._attrs_full) if mindif is not None else None"
   ]
  },
  {
   "cell_type": "code",
   "execution_count": 144,
   "metadata": {},
   "outputs": [
    {
     "data": {
      "text/plain": [
       "(37, 0.2569444444444444)"
      ]
     },
     "execution_count": 144,
     "metadata": {},
     "output_type": "execute_result"
    }
   ],
   "source": [
    "n_nonstab_concepts = len([c for c in fm_bank._concepts if  not(c._metrics['lstab_min_bound'] is not None and c._metrics['lstab_min_bound']>=5)])\n",
    "n_nonstab_concepts, n_nonstab_concepts/len(fm_bank._concepts)"
   ]
  },
  {
   "cell_type": "code",
   "execution_count": 145,
   "metadata": {},
   "outputs": [
    {
     "data": {
      "text/plain": [
       "107"
      ]
     },
     "execution_count": 145,
     "metadata": {},
     "output_type": "execute_result"
    }
   ],
   "source": [
    "stable_concepts = [c for c in fm_bank._concepts if  c._metrics['lstab_min_bound'] is not None and c._metrics['lstab_min_bound']>=5]\n",
    "len(stable_concepts)"
   ]
  },
  {
   "cell_type": "code",
   "execution_count": 146,
   "metadata": {},
   "outputs": [],
   "source": [
    "from copy import copy"
   ]
  },
  {
   "cell_type": "code",
   "execution_count": 147,
   "metadata": {},
   "outputs": [],
   "source": [
    "fm_bank_stab = fcai.FormalManager(cntx_bank, ds_obj=None, task_type='binary classification')\n",
    "fm_bank_stab._concepts = stable_concepts\n",
    "for idx, c in enumerate(sorted(fm_bank_stab._concepts, key=lambda c: (len(c.get_intent()), ','.join(c.get_intent())))):\n",
    "    c._idx = idx\n",
    "fm_bank_stab.construct_lattice()"
   ]
  },
  {
   "cell_type": "code",
   "execution_count": null,
   "metadata": {},
   "outputs": [],
   "source": []
  },
  {
   "cell_type": "code",
   "execution_count": null,
   "metadata": {},
   "outputs": [],
   "source": []
  },
  {
   "cell_type": "code",
   "execution_count": 148,
   "metadata": {},
   "outputs": [],
   "source": [
    "fig_stab = fm_bank_stab.get_plotly_fig(level_sort='all', sort_by='y_pred',\n",
    "                        y_precision=2, title='Bank Dataset Concept Lattice', cbar_title='Mean Prediction',\n",
    "                        color_by='lstab_min_bound',)"
   ]
  },
  {
   "cell_type": "code",
   "execution_count": 149,
   "metadata": {},
   "outputs": [
    {
     "data": {
      "application/vnd.plotly.v1+json": {
       "config": {
        "plotlyServerURL": "https://plot.ly"
       },
       "data": [
        {
         "hoverinfo": "none",
         "line": {
          "color": "#888",
          "width": 0.5
         },
         "mode": "lines",
         "type": "scatter",
         "x": [
          -1,
          -2,
          null,
          -1,
          1,
          null,
          -1,
          -5.5,
          null,
          -1,
          -8.5,
          null,
          -1,
          -6.5,
          null,
          -1,
          -2.5,
          null,
          -1,
          4.5,
          null,
          1,
          -1,
          null,
          1,
          2,
          null,
          1,
          5.5,
          null,
          1,
          1.5,
          null,
          1,
          0.5,
          null,
          1,
          -1.5,
          null,
          -5,
          -1,
          null,
          -5,
          0,
          null,
          -5,
          -9.5,
          null,
          -5,
          -7.5,
          null,
          -5,
          -1.5,
          null,
          0,
          6,
          null,
          0,
          -6,
          null,
          0,
          5,
          null,
          0,
          -8,
          null,
          0,
          0.5,
          null,
          0,
          -0.5,
          null,
          3,
          2,
          null,
          3,
          0,
          null,
          3,
          8.5,
          null,
          3,
          -0.5,
          null,
          3,
          -1.5,
          null,
          3,
          7.5,
          null,
          6.5,
          2,
          null,
          6.5,
          5,
          null,
          6.5,
          3.5,
          null,
          6.5,
          8.5,
          null,
          6.5,
          9.5,
          null,
          6.5,
          7.5,
          null,
          -4,
          1,
          null,
          -4,
          0,
          null,
          -4,
          -9.5,
          null,
          -4,
          -0.5,
          null,
          -4,
          -6.5,
          null,
          0,
          2.5,
          null,
          0,
          -0.5,
          null,
          0,
          -2.5,
          null,
          0,
          0.5,
          null,
          0,
          1.5,
          null,
          0,
          -1.5,
          null,
          4,
          -1,
          null,
          4,
          10,
          null,
          4,
          4,
          null,
          4,
          9,
          null,
          4,
          2.5,
          null,
          4,
          -1.5,
          null,
          4,
          -2,
          null,
          4,
          2,
          null,
          4,
          9.5,
          null,
          4,
          4.5,
          null,
          4,
          0.5,
          null,
          4,
          7.5,
          null,
          4,
          3.5,
          null,
          -2,
          0,
          null,
          -2,
          -5,
          null,
          -2,
          3,
          null,
          -2,
          2,
          null,
          -2,
          -2.5,
          null,
          -2,
          1.5,
          null,
          8.5,
          5,
          null,
          8.5,
          8.5,
          null,
          8.5,
          12.5,
          null,
          8.5,
          1.5,
          null,
          -2,
          -1,
          null,
          -2,
          1,
          null,
          -2,
          1.5,
          null,
          -2,
          -9.5,
          null,
          -2,
          -8.5,
          null,
          5.5,
          5,
          null,
          5.5,
          3.5,
          null,
          5.5,
          5.5,
          null,
          5.5,
          1.5,
          null,
          5,
          1,
          null,
          5,
          5,
          null,
          5,
          2,
          null,
          5,
          11,
          null,
          5,
          0.5,
          null,
          5,
          1.5,
          null,
          1,
          2,
          null,
          2,
          2,
          null,
          2,
          1.5,
          null,
          2,
          2.5,
          null,
          2,
          -0.5,
          null,
          2,
          4.5,
          null,
          9.5,
          5,
          null,
          9.5,
          10.5,
          null,
          9.5,
          5.5,
          null,
          9.5,
          12.5,
          null,
          9.5,
          9.5,
          null,
          5,
          2,
          null,
          -3,
          -1,
          null,
          -3,
          -11,
          null,
          -3,
          -7,
          null,
          -3,
          -6,
          null,
          -3,
          -2,
          null,
          -3,
          -4,
          null,
          -3,
          -1.5,
          null,
          -3,
          -0.5,
          null,
          7,
          8,
          null,
          7,
          9,
          null,
          7,
          3,
          null,
          7,
          11,
          null,
          7,
          2.5,
          null,
          7,
          1.5,
          null,
          2.5,
          6,
          null,
          2.5,
          2,
          null,
          -3,
          -1,
          null,
          -3,
          -2,
          null,
          -3,
          -8.5,
          null,
          -3,
          -4.5,
          null,
          -3,
          -7.5,
          null,
          -3,
          0.5,
          null,
          0,
          -2,
          null,
          0,
          0,
          null,
          0,
          -3.5,
          null,
          0,
          -6.5,
          null,
          0,
          -7.5,
          null,
          0,
          7.5,
          null,
          -5,
          0,
          null,
          -5,
          -7,
          null,
          -5,
          -1.5,
          null,
          -5,
          -2.5,
          null,
          -8,
          -5.5,
          null,
          -8,
          -6.5,
          null,
          -8,
          -10.5,
          null,
          -8,
          -7,
          null,
          -5.5,
          -6.5,
          null,
          -5.5,
          -10.5,
          null,
          -5.5,
          0.5,
          null,
          -5.5,
          -9.5,
          null,
          2,
          3.5,
          null,
          2,
          -0.5,
          null,
          2,
          7.5,
          null,
          6.5,
          -0.5,
          null,
          6.5,
          -6.5,
          null,
          6.5,
          7.5,
          null,
          6.5,
          4.5,
          null,
          6.5,
          8,
          null,
          6.5,
          -2,
          null,
          6.5,
          9,
          null,
          6.5,
          -1,
          null,
          -7,
          -9,
          null,
          -7,
          -11,
          null,
          -7,
          -10,
          null,
          -7,
          -0.5,
          null,
          8,
          -2.5,
          null,
          8,
          11.5,
          null,
          8,
          -7.5,
          null,
          8,
          3,
          null,
          8,
          2,
          null,
          -6.5,
          -2.5,
          null,
          -6.5,
          6,
          null,
          -6.5,
          -10,
          null,
          1.5,
          3.5,
          null,
          1.5,
          -1.5,
          null,
          1.5,
          -0.5,
          null,
          1.5,
          -3.5,
          null,
          5,
          -5.5,
          null,
          5,
          -0.5,
          null,
          5,
          11.5,
          null,
          5,
          -1.5,
          null,
          5,
          3,
          null,
          3.5,
          1,
          null,
          3.5,
          0,
          null,
          7,
          5.5,
          null,
          7,
          12.5,
          null,
          7,
          1.5,
          null,
          7,
          2.5,
          null,
          7,
          -1,
          null,
          7,
          1,
          null,
          -8.5,
          -7.5,
          null,
          -8.5,
          -3.5,
          null,
          -8.5,
          -4.5,
          null,
          -8.5,
          -4,
          null,
          -8.5,
          -11,
          null,
          -9.5,
          -11.5,
          null,
          -9.5,
          -12.5,
          null,
          -9.5,
          -3.5,
          null,
          -2,
          -11.5,
          null,
          -2,
          -3.5,
          null,
          -2,
          -1.5,
          null,
          -2,
          2.5,
          null,
          -2,
          1,
          null,
          -2,
          3,
          null,
          -10.5,
          -8.5,
          null,
          -10.5,
          -4.5,
          null,
          -10.5,
          -11,
          null,
          -10.5,
          -6,
          null,
          -3,
          5.5,
          null,
          -3,
          10.5,
          null,
          -3,
          -4.5,
          null,
          -3,
          -1,
          null,
          -3,
          -4,
          null,
          6,
          6,
          null,
          6,
          4,
          null,
          6,
          11,
          null,
          6,
          0.5,
          null,
          6,
          0.5,
          null,
          6,
          11.5,
          null,
          6,
          2,
          null,
          2.5,
          0.5,
          null,
          2.5,
          7.5,
          null,
          2.5,
          -1.5,
          null,
          2.5,
          -7.5,
          null,
          2.5,
          -4,
          null,
          -3.5,
          4.5,
          null,
          -3.5,
          -9.5,
          null,
          4,
          0.5,
          null,
          4,
          9.5,
          null,
          4,
          10.5,
          null,
          4,
          -4,
          null,
          -7.5,
          -6.5,
          null,
          -7.5,
          -2.5,
          null,
          -7.5,
          -9,
          null,
          -7.5,
          -10,
          null,
          2.5,
          -2.5,
          null,
          2.5,
          11.5,
          null,
          2.5,
          7.5,
          null,
          2.5,
          -0.5,
          null,
          -1.5,
          -4,
          null,
          -1.5,
          1,
          null,
          -1.5,
          -1,
          null,
          -1,
          10,
          null,
          -1,
          -4,
          null,
          -4.5,
          0.5,
          null,
          -4.5,
          3.5,
          null,
          -4.5,
          -4.5,
          null,
          -4.5,
          -4,
          null,
          -4.5,
          -6,
          null,
          -0.5,
          8.5,
          null,
          -0.5,
          -2.5,
          null,
          -0.5,
          -3.5,
          null,
          8.5,
          9,
          null,
          8.5,
          3,
          null,
          8.5,
          0,
          null,
          -8.5,
          -5.5,
          null,
          -8.5,
          -11.5,
          null,
          -8.5,
          -1.5,
          null,
          0.5,
          -4,
          null,
          1,
          9,
          null,
          1,
          0,
          null,
          1,
          1,
          null,
          1,
          1.5,
          null,
          -2.5,
          3,
          null,
          -2.5,
          -5,
          null,
          -6.5,
          -11.5,
          null,
          -6.5,
          -9.5,
          null,
          11,
          9.5,
          null,
          11,
          11.5,
          null,
          11,
          7.5,
          null,
          -5.5,
          -2.5,
          null,
          -5.5,
          -9,
          null,
          10.5,
          3.5,
          null,
          10.5,
          10,
          null,
          -11.5,
          -7.5,
          null,
          -11.5,
          -9,
          null,
          -11.5,
          -11,
          null,
          -2.5,
          11.5,
          null,
          3,
          -9,
          null,
          3,
          -5,
          null,
          3,
          -0.5,
          null,
          3,
          1.5,
          null,
          9,
          12.5,
          null,
          9,
          9.5,
          null,
          4.5,
          3.5,
          null,
          4.5,
          7.5,
          null,
          4.5,
          10,
          null,
          4.5,
          -4,
          null,
          4.5,
          -1,
          null,
          4.5,
          0.5,
          null,
          4.5,
          -1.5,
          null,
          4.5,
          11.5,
          null,
          4.5,
          9.5,
          null,
          0.5,
          3.5,
          null,
          0.5,
          -1,
          null,
          0.5,
          -6,
          null,
          3,
          7.5,
          null,
          10,
          12.5,
          null,
          2,
          -1,
          null,
          2,
          -10,
          null,
          2,
          -0.5,
          null,
          -9,
          -12.5,
          null,
          -9.5,
          -10,
          null,
          -9.5,
          -1,
          null,
          -9.5,
          -11,
          null,
          5.5,
          0.5,
          null,
          5.5,
          1,
          null,
          -0.5,
          -6,
          null,
          0.5,
          -1.5,
          null,
          -6,
          -7,
          null,
          -6,
          -5,
          null,
          -6,
          -2.5,
          null,
          -7,
          -3.5,
          null,
          -1.5,
          1,
          null,
          -1.5,
          -6,
          null,
          12.5,
          7.5,
          null,
          1,
          9.5,
          null,
          1,
          -4,
          null,
          -12.5,
          -5,
          null,
          -1.5,
          1.5,
          null,
          -1.5,
          -3.5,
          null,
          0,
          -3.5,
          null,
          0,
          1.5,
          null,
          -0.5,
          -5,
          null,
          -6,
          -4,
          null,
          -5,
          -3.5,
          null
         ],
         "y": [
          2,
          1,
          null,
          2,
          1,
          null,
          2,
          3,
          null,
          2,
          3,
          null,
          2,
          3,
          null,
          2,
          3,
          null,
          2,
          3,
          null,
          2,
          1,
          null,
          2,
          1,
          null,
          2,
          3,
          null,
          2,
          3,
          null,
          2,
          3,
          null,
          2,
          3,
          null,
          2,
          1,
          null,
          2,
          1,
          null,
          2,
          3,
          null,
          2,
          3,
          null,
          2,
          3,
          null,
          6,
          5,
          null,
          6,
          5,
          null,
          6,
          5,
          null,
          6,
          5,
          null,
          6,
          7,
          null,
          6,
          7,
          null,
          2,
          1,
          null,
          2,
          1,
          null,
          2,
          3,
          null,
          2,
          3,
          null,
          2,
          3,
          null,
          2,
          3,
          null,
          3,
          2,
          null,
          3,
          2,
          null,
          3,
          4,
          null,
          3,
          4,
          null,
          3,
          4,
          null,
          3,
          4,
          null,
          2,
          1,
          null,
          2,
          1,
          null,
          2,
          3,
          null,
          2,
          3,
          null,
          2,
          3,
          null,
          8,
          7,
          null,
          8,
          7,
          null,
          8,
          7,
          null,
          8,
          7,
          null,
          8,
          7,
          null,
          8,
          7,
          null,
          6,
          5,
          null,
          6,
          5,
          null,
          6,
          5,
          null,
          6,
          5,
          null,
          6,
          7,
          null,
          6,
          7,
          null,
          2,
          1,
          null,
          2,
          1,
          null,
          2,
          3,
          null,
          2,
          3,
          null,
          2,
          3,
          null,
          2,
          3,
          null,
          2,
          3,
          null,
          6,
          5,
          null,
          6,
          5,
          null,
          6,
          5,
          null,
          6,
          5,
          null,
          6,
          7,
          null,
          6,
          7,
          null,
          3,
          2,
          null,
          3,
          4,
          null,
          3,
          4,
          null,
          3,
          4,
          null,
          2,
          1,
          null,
          2,
          1,
          null,
          2,
          3,
          null,
          2,
          3,
          null,
          2,
          3,
          null,
          3,
          2,
          null,
          3,
          4,
          null,
          3,
          4,
          null,
          3,
          4,
          null,
          6,
          5,
          null,
          6,
          5,
          null,
          6,
          5,
          null,
          6,
          5,
          null,
          6,
          7,
          null,
          6,
          7,
          null,
          1,
          2,
          null,
          2,
          1,
          null,
          2,
          3,
          null,
          2,
          3,
          null,
          2,
          3,
          null,
          2,
          3,
          null,
          3,
          2,
          null,
          3,
          4,
          null,
          3,
          4,
          null,
          3,
          4,
          null,
          3,
          4,
          null,
          2,
          1,
          null,
          6,
          5,
          null,
          6,
          5,
          null,
          6,
          5,
          null,
          6,
          5,
          null,
          6,
          5,
          null,
          6,
          5,
          null,
          6,
          7,
          null,
          6,
          7,
          null,
          6,
          5,
          null,
          6,
          5,
          null,
          6,
          5,
          null,
          6,
          5,
          null,
          6,
          7,
          null,
          6,
          7,
          null,
          7,
          6,
          null,
          7,
          6,
          null,
          2,
          1,
          null,
          2,
          1,
          null,
          2,
          3,
          null,
          2,
          3,
          null,
          2,
          3,
          null,
          2,
          3,
          null,
          2,
          1,
          null,
          2,
          1,
          null,
          2,
          3,
          null,
          2,
          3,
          null,
          2,
          3,
          null,
          2,
          3,
          null,
          6,
          5,
          null,
          6,
          5,
          null,
          6,
          7,
          null,
          6,
          7,
          null,
          5,
          4,
          null,
          5,
          4,
          null,
          5,
          4,
          null,
          5,
          6,
          null,
          3,
          4,
          null,
          3,
          4,
          null,
          3,
          4,
          null,
          3,
          4,
          null,
          5,
          4,
          null,
          5,
          4,
          null,
          5,
          4,
          null,
          4,
          3,
          null,
          4,
          3,
          null,
          4,
          3,
          null,
          4,
          3,
          null,
          4,
          5,
          null,
          4,
          5,
          null,
          4,
          5,
          null,
          4,
          5,
          null,
          6,
          5,
          null,
          6,
          5,
          null,
          6,
          5,
          null,
          6,
          7,
          null,
          5,
          4,
          null,
          5,
          4,
          null,
          5,
          4,
          null,
          5,
          6,
          null,
          5,
          6,
          null,
          4,
          3,
          null,
          4,
          5,
          null,
          4,
          5,
          null,
          3,
          4,
          null,
          3,
          4,
          null,
          3,
          4,
          null,
          3,
          4,
          null,
          5,
          4,
          null,
          5,
          4,
          null,
          5,
          4,
          null,
          5,
          4,
          null,
          5,
          6,
          null,
          4,
          5,
          null,
          4,
          5,
          null,
          5,
          4,
          null,
          5,
          4,
          null,
          5,
          4,
          null,
          5,
          4,
          null,
          5,
          6,
          null,
          5,
          6,
          null,
          4,
          3,
          null,
          4,
          3,
          null,
          4,
          3,
          null,
          4,
          5,
          null,
          4,
          5,
          null,
          3,
          4,
          null,
          3,
          4,
          null,
          3,
          4,
          null,
          5,
          4,
          null,
          5,
          4,
          null,
          5,
          4,
          null,
          5,
          4,
          null,
          5,
          6,
          null,
          5,
          6,
          null,
          4,
          3,
          null,
          4,
          3,
          null,
          4,
          5,
          null,
          4,
          5,
          null,
          5,
          4,
          null,
          5,
          4,
          null,
          5,
          4,
          null,
          5,
          6,
          null,
          5,
          6,
          null,
          6,
          5,
          null,
          6,
          5,
          null,
          6,
          5,
          null,
          6,
          7,
          null,
          5,
          4,
          null,
          5,
          4,
          null,
          5,
          6,
          null,
          4,
          3,
          null,
          4,
          3,
          null,
          4,
          3,
          null,
          4,
          3,
          null,
          4,
          5,
          null,
          3,
          4,
          null,
          3,
          4,
          null,
          5,
          4,
          null,
          5,
          4,
          null,
          5,
          4,
          null,
          5,
          6,
          null,
          4,
          3,
          null,
          4,
          3,
          null,
          4,
          5,
          null,
          4,
          5,
          null,
          3,
          4,
          null,
          3,
          4,
          null,
          3,
          4,
          null,
          3,
          4,
          null,
          7,
          6,
          null,
          7,
          6,
          null,
          7,
          6,
          null,
          6,
          5,
          null,
          6,
          5,
          null,
          4,
          3,
          null,
          4,
          3,
          null,
          4,
          3,
          null,
          4,
          5,
          null,
          4,
          5,
          null,
          3,
          4,
          null,
          3,
          4,
          null,
          3,
          4,
          null,
          4,
          5,
          null,
          4,
          5,
          null,
          4,
          5,
          null,
          3,
          4,
          null,
          3,
          4,
          null,
          3,
          4,
          null,
          7,
          6,
          null,
          6,
          5,
          null,
          6,
          5,
          null,
          6,
          5,
          null,
          6,
          7,
          null,
          4,
          5,
          null,
          4,
          5,
          null,
          3,
          4,
          null,
          3,
          4,
          null,
          5,
          4,
          null,
          5,
          4,
          null,
          5,
          4,
          null,
          4,
          3,
          null,
          4,
          5,
          null,
          4,
          3,
          null,
          4,
          5,
          null,
          4,
          3,
          null,
          4,
          5,
          null,
          4,
          5,
          null,
          3,
          4,
          null,
          6,
          5,
          null,
          6,
          5,
          null,
          6,
          7,
          null,
          6,
          7,
          null,
          5,
          4,
          null,
          5,
          4,
          null,
          4,
          3,
          null,
          4,
          3,
          null,
          4,
          5,
          null,
          4,
          5,
          null,
          4,
          5,
          null,
          3,
          4,
          null,
          3,
          4,
          null,
          3,
          4,
          null,
          3,
          4,
          null,
          4,
          3,
          null,
          4,
          5,
          null,
          4,
          5,
          null,
          5,
          4,
          null,
          5,
          4,
          null,
          6,
          5,
          null,
          6,
          5,
          null,
          6,
          7,
          null,
          5,
          4,
          null,
          4,
          5,
          null,
          4,
          5,
          null,
          4,
          5,
          null,
          4,
          3,
          null,
          4,
          5,
          null,
          7,
          6,
          null,
          3,
          4,
          null,
          6,
          5,
          null,
          6,
          5,
          null,
          6,
          7,
          null,
          5,
          4,
          null,
          4,
          5,
          null,
          4,
          5,
          null,
          4,
          3,
          null,
          5,
          4,
          null,
          5,
          6,
          null,
          4,
          5,
          null,
          3,
          4,
          null,
          3,
          4,
          null,
          5,
          4,
          null,
          5,
          4,
          null,
          4,
          5,
          null,
          5,
          6,
          null,
          5,
          4,
          null
         ]
        },
        {
         "hoverinfo": "text",
         "hovertext": [
          "Concept 93<br>extent (len: 1320): 4, 7, 8, 11, 26, 43, 66, 67, 73, 74,...<br>intent (len: 6): poutcome_not_success, duration_lt_968, duration_lt_253, month_not_oct, marital_is_married, balance_lt_1384<br>new extent (len: 47): 913, 4519, 2447, 731, 3883, 1195, 3710, 1707, 2075, 3548,...<br>new intent (len: 0): emptyset<br>mean_y_true: 0.02<br>mean_y_pred: 0.0<br>Metrics<br>\taccuracy: 0.99<br>\tprecision: 1.0<br>\trecall: 0.18<br>\tneg_precision: 0.99<br>\tneg_recall: 1.0<br>\tstab_min_bound: 1.0<br>\tstab_max_bound: 1.0<br>\tlog_stab_min_bound: inf<br>\tlog_stab_max_bound: inf<br>\tlstab_min_bound: 197.0<br><br>",
          "Concept 99<br>extent (len: 1274): 3, 37, 55, 89, 96, 111, 116, 122, 176, 185,...<br>intent (len: 6): poutcome_not_success, duration_lt_968, month_not_oct, previous_lt_1, housing_is_yes, marital_is_married<br>new extent (len: 110): 3182, 350, 4442, 85, 2682, 2655, 1553, 2285, 3702, 1585,...<br>new intent (len: 0): emptyset<br>mean_y_true: 0.05<br>mean_y_pred: 0.01<br>Metrics<br>\taccuracy: 0.96<br>\tprecision: 0.94<br>\trecall: 0.24<br>\tneg_precision: 0.96<br>\tneg_recall: 1.0<br>\tstab_min_bound: 1.0<br>\tstab_max_bound: 1.0<br>\tlog_stab_min_bound: inf<br>\tlog_stab_max_bound: inf<br>\tlstab_min_bound: 301.0<br><br>",
          "Concept 95<br>extent (len: 1318): 3, 37, 55, 89, 96, 111, 116, 122, 176, 185,...<br>intent (len: 6): poutcome_not_success, duration_lt_968, duration_lt_253, month_not_oct, previous_lt_1, housing_is_yes<br>new extent (len: 115): 1878, 3983, 1646, 463, 2038, 3657, 4421, 846, 3485, 3680,...<br>new intent (len: 0): emptyset<br>mean_y_true: 0.01<br>mean_y_pred: 0.0<br>Metrics<br>\taccuracy: 0.99<br>\tprecision: 1.0<br>\trecall: 0.18<br>\tneg_precision: 0.99<br>\tneg_recall: 1.0<br>\tstab_min_bound: 1.0<br>\tstab_max_bound: 1.0<br>\tlog_stab_min_bound: inf<br>\tlog_stab_max_bound: inf<br>\tlstab_min_bound: 306.0<br><br>",
          "Concept 10<br>extent (len: 2730): 0, 64, 504, 688, 732, 922, 1196, 2451, 2568, 2687,...<br>intent (len: 2): duration_lt_968, marital_is_married<br>new extent (len: 1): 3931<br>new intent (len: 0): emptyset<br>mean_y_true: 0.09<br>mean_y_pred: 0.05<br>Metrics<br>\taccuracy: 0.95<br>\tprecision: 0.86<br>\trecall: 0.5<br>\tneg_precision: 0.95<br>\tneg_recall: 0.99<br>\tstab_min_bound: 0.9999999999999982<br>\tstab_max_bound: 0.9999999999999982<br>\tlog_stab_min_bound: 49.0<br>\tlog_stab_max_bound: 49.0<br>\tlstab_min_bound: 41.0<br><br>",
          "Concept 98<br>extent (len: 1502): 4, 7, 8, 11, 26, 43, 66, 67, 73, 74,...<br>intent (len: 6): poutcome_not_success, duration_lt_968, month_not_oct, previous_lt_1, housing_is_yes, balance_lt_1384<br>new extent (len: 186): 3320, 279, 4210, 3646, 806, 4192, 486, 2428, 1934, 927,...<br>new intent (len: 0): emptyset<br>mean_y_true: 0.05<br>mean_y_pred: 0.01<br>Metrics<br>\taccuracy: 0.96<br>\tprecision: 0.91<br>\trecall: 0.27<br>\tneg_precision: 0.96<br>\tneg_recall: 1.0<br>\tstab_min_bound: 1.0<br>\tstab_max_bound: 1.0<br>\tlog_stab_min_bound: inf<br>\tlog_stab_max_bound: inf<br>\tlstab_min_bound: 490.0<br><br>",
          "Concept 87<br>extent (len: 1208): 4, 7, 8, 11, 26, 43, 66, 67, 73, 74,...<br>intent (len: 5): poutcome_not_success, month_not_oct, housing_is_yes, marital_is_married, balance_lt_1384<br>new extent (len: 5): 369, 2837, 354, 2068, 804<br>new intent (len: 0): emptyset<br>mean_y_true: 0.05<br>mean_y_pred: 0.02<br>Metrics<br>\taccuracy: 0.96<br>\tprecision: 0.87<br>\trecall: 0.4<br>\tneg_precision: 0.97<br>\tneg_recall: 1.0<br>\tstab_min_bound: 0.9999999997671694<br>\tstab_max_bound: 0.9999999997671694<br>\tlog_stab_min_bound: 32.0<br>\tlog_stab_max_bound: 32.0<br>\tlstab_min_bound: 24.0<br><br>",
          "Concept 91<br>extent (len: 1245): 2, 65, 136, 187, 208, 232, 314, 331, 375, 423,...<br>intent (len: 6): poutcome_not_success, duration_lt_968, duration_lt_253, month_not_oct, housing_is_yes, balance_lt_1384<br>new extent (len: 83): 2067, 3380, 4463, 2345, 893, 4191, 4434, 3048, 1073, 3493,...<br>new intent (len: 0): emptyset<br>mean_y_true: 0.02<br>mean_y_pred: 0.0<br>Metrics<br>\taccuracy: 0.99<br>\tprecision: 1.0<br>\trecall: 0.16<br>\tneg_precision: 0.99<br>\tneg_recall: 1.0<br>\tstab_min_bound: 1.0<br>\tstab_max_bound: 1.0<br>\tlog_stab_min_bound: inf<br>\tlog_stab_max_bound: inf<br>\tlstab_min_bound: 233.0<br><br>",
          "Concept 0<br>extent (len: 4521): 0, 64, 504, 688, 732, 922, 1196, 2451, 2568, 2687,...<br>intent (len: 0): emptyset<br>new extent (len: 0): emptyset<br>new intent (len: 0): emptyset<br>mean_y_true: 0.12<br>mean_y_pred: 0.08<br>Metrics<br>\taccuracy: 0.94<br>\tprecision: 0.86<br>\trecall: 0.59<br>\tneg_precision: 0.95<br>\tneg_recall: 0.99<br>\tstab_min_bound: 1.0<br>\tstab_max_bound: 1.0<br>\tlog_stab_min_bound: inf<br>\tlog_stab_max_bound: inf<br>\tlstab_min_bound: 72.0<br><br>",
          "Concept 16<br>extent (len: 3258): 2, 65, 136, 187, 208, 232, 314, 331, 375, 423,...<br>intent (len: 2): poutcome_not_success, balance_lt_1384<br>new extent (len: 0): emptyset<br>new intent (len: 0): emptyset<br>mean_y_true: 0.09<br>mean_y_pred: 0.06<br>Metrics<br>\taccuracy: 0.95<br>\tprecision: 0.84<br>\trecall: 0.53<br>\tneg_precision: 0.96<br>\tneg_recall: 0.99<br>\tstab_min_bound: 0.9999999999997726<br>\tstab_max_bound: 0.9999999999997726<br>\tlog_stab_min_bound: 42.0<br>\tlog_stab_max_bound: 42.0<br>\tlstab_min_bound: 34.0<br><br>",
          "Concept 100<br>extent (len: 1633): 4, 7, 8, 11, 26, 43, 66, 67, 73, 74,...<br>intent (len: 6): poutcome_not_success, duration_lt_968, month_not_oct, previous_lt_1, marital_is_married, balance_lt_1384<br>new extent (len: 206): 1814, 3178, 1880, 3540, 2412, 1745, 2763, 3080, 4513, 589,...<br>new intent (len: 0): emptyset<br>mean_y_true: 0.05<br>mean_y_pred: 0.02<br>Metrics<br>\taccuracy: 0.96<br>\tprecision: 0.86<br>\trecall: 0.31<br>\tneg_precision: 0.97<br>\tneg_recall: 1.0<br>\tstab_min_bound: 1.0<br>\tstab_max_bound: 1.0<br>\tlog_stab_min_bound: inf<br>\tlog_stab_max_bound: inf<br>\tlstab_min_bound: 510.0<br><br>",
          "Concept 14<br>extent (len: 2544): 1, 207, 236, 253, 310, 496, 528, 563, 685, 769,...<br>intent (len: 2): month_not_oct, housing_is_yes<br>new extent (len: 0): emptyset<br>new intent (len: 0): emptyset<br>mean_y_true: 0.08<br>mean_y_pred: 0.05<br>Metrics<br>\taccuracy: 0.95<br>\tprecision: 0.91<br>\trecall: 0.5<br>\tneg_precision: 0.96<br>\tneg_recall: 1.0<br>\tstab_min_bound: 0.999999999998181<br>\tstab_max_bound: 0.999999999998181<br>\tlog_stab_min_bound: 39.0<br>\tlog_stab_max_bound: 39.0<br>\tlstab_min_bound: 31.0<br><br>",
          "Concept 88<br>extent (len: 1547): 4, 7, 8, 11, 26, 43, 66, 67, 73, 74,...<br>intent (len: 5): poutcome_not_success, month_not_oct, previous_lt_1, housing_is_yes, balance_lt_1384<br>new extent (len: 18): 2274, 4265, 4505, 1333, 3653, 494, 980, 295, 1431, 794,...<br>new intent (len: 0): emptyset<br>mean_y_true: 0.06<br>mean_y_pred: 0.03<br>Metrics<br>\taccuracy: 0.96<br>\tprecision: 0.89<br>\trecall: 0.39<br>\tneg_precision: 0.96<br>\tneg_recall: 1.0<br>\tstab_min_bound: 0.9999999999999716<br>\tstab_max_bound: 0.9999999999999716<br>\tlog_stab_min_bound: 45.0<br>\tlog_stab_max_bound: 45.0<br>\tlstab_min_bound: 37.0<br><br>",
          "Concept 92<br>extent (len: 1055): 1, 207, 236, 253, 310, 496, 528, 563, 685, 769,...<br>intent (len: 6): poutcome_not_success, duration_lt_968, duration_lt_253, month_not_oct, housing_is_yes, marital_is_married<br>new extent (len: 45): 685, 926, 1521, 496, 3576, 3972, 1535, 3040, 2691, 2764,...<br>new intent (len: 0): emptyset<br>mean_y_true: 0.02<br>mean_y_pred: 0.0<br>Metrics<br>\taccuracy: 0.99<br>\tprecision: 1.0<br>\trecall: 0.18<br>\tneg_precision: 0.99<br>\tneg_recall: 1.0<br>\tstab_min_bound: 1.0<br>\tstab_max_bound: 1.0<br>\tlog_stab_min_bound: inf<br>\tlog_stab_max_bound: inf<br>\tlstab_min_bound: 195.0<br><br>",
          "Concept 89<br>extent (len: 1309): 3, 37, 55, 89, 96, 111, 116, 122, 176, 185,...<br>intent (len: 5): poutcome_not_success, month_not_oct, previous_lt_1, housing_is_yes, marital_is_married<br>new extent (len: 8): 3730, 3229, 1959, 2591, 1319, 4342, 3810, 2406<br>new intent (len: 0): emptyset<br>mean_y_true: 0.06<br>mean_y_pred: 0.02<br>Metrics<br>\taccuracy: 0.96<br>\tprecision: 0.9<br>\trecall: 0.36<br>\tneg_precision: 0.96<br>\tneg_recall: 1.0<br>\tstab_min_bound: 0.9999999999708962<br>\tstab_max_bound: 0.9999999999708962<br>\tlog_stab_min_bound: 35.0<br>\tlog_stab_max_bound: 35.0<br>\tlstab_min_bound: 27.0<br><br>",
          "Concept 15<br>extent (len: 2747): 1, 207, 236, 253, 310, 496, 528, 563, 685, 769,...<br>intent (len: 2): month_not_oct, marital_is_married<br>new extent (len: 0): emptyset<br>new intent (len: 0): emptyset<br>mean_y_true: 0.09<br>mean_y_pred: 0.06<br>Metrics<br>\taccuracy: 0.95<br>\tprecision: 0.85<br>\trecall: 0.53<br>\tneg_precision: 0.95<br>\tneg_recall: 0.99<br>\tstab_min_bound: 1.0<br>\tstab_max_bound: 1.0<br>\tlog_stab_min_bound: inf<br>\tlog_stab_max_bound: inf<br>\tlstab_min_bound: 58.0<br><br>",
          "Concept 102<br>extent (len: 811): 4, 7, 8, 11, 26, 43, 66, 67, 73, 74,...<br>intent (len: 7): poutcome_not_success, duration_lt_968, duration_lt_253, month_not_oct, housing_is_yes, marital_is_married, balance_lt_1384<br>new extent (len: 811): 2008, 2528, 482, 184, 1020, 1311, 2488, 1627, 847, 4485,...<br>new intent (len: 0): emptyset<br>mean_y_true: 0.01<br>mean_y_pred: 0.0<br>Metrics<br>\taccuracy: 0.99<br>\tprecision: 1.0<br>\trecall: 0.2<br>\tneg_precision: 0.99<br>\tneg_recall: 1.0<br>\tstab_min_bound: 1.0<br>\tstab_max_bound: 1.0<br>\tlog_stab_min_bound: inf<br>\tlog_stab_max_bound: inf<br>\tlstab_min_bound: 150.0<br><br>",
          "Concept 97<br>extent (len: 1176): 4, 7, 8, 11, 26, 43, 66, 67, 73, 74,...<br>intent (len: 6): poutcome_not_success, duration_lt_968, month_not_oct, housing_is_yes, marital_is_married, balance_lt_1384<br>new extent (len: 53): 2971, 663, 2849, 3066, 3922, 3584, 2332, 1386, 3412, 1970,...<br>new intent (len: 0): emptyset<br>mean_y_true: 0.04<br>mean_y_pred: 0.01<br>Metrics<br>\taccuracy: 0.97<br>\tprecision: 0.94<br>\trecall: 0.29<br>\tneg_precision: 0.97<br>\tneg_recall: 1.0<br>\tstab_min_bound: 1.0<br>\tstab_max_bound: 1.0<br>\tlog_stab_min_bound: inf<br>\tlog_stab_max_bound: inf<br>\tlstab_min_bound: 203.0<br><br>",
          "Concept 90<br>extent (len: 1675): 4, 7, 8, 11, 26, 43, 66, 67, 73, 74,...<br>intent (len: 5): poutcome_not_success, month_not_oct, previous_lt_1, marital_is_married, balance_lt_1384<br>new extent (len: 15): 2760, 568, 2827, 1175, 4209, 3123, 2972, 704, 3914, 3152,...<br>new intent (len: 0): emptyset<br>mean_y_true: 0.06<br>mean_y_pred: 0.03<br>Metrics<br>\taccuracy: 0.96<br>\tprecision: 0.8<br>\trecall: 0.43<br>\tneg_precision: 0.96<br>\tneg_recall: 0.99<br>\tstab_min_bound: 0.9999999999997726<br>\tstab_max_bound: 0.9999999999997726<br>\tlog_stab_min_bound: 42.0<br>\tlog_stab_max_bound: 42.0<br>\tlstab_min_bound: 34.0<br><br>",
          "Concept 101<br>extent (len: 992): 4, 7, 8, 11, 26, 43, 66, 67, 73, 74,...<br>intent (len: 6): poutcome_not_success, month_not_oct, previous_lt_1, housing_is_yes, marital_is_married, balance_lt_1384<br>new extent (len: 27): 2202, 4511, 4101, 2748, 1085, 4495, 3074, 4316, 1156, 1047,...<br>new intent (len: 0): emptyset<br>mean_y_true: 0.05<br>mean_y_pred: 0.02<br>Metrics<br>\taccuracy: 0.97<br>\tprecision: 0.85<br>\trecall: 0.36<br>\tneg_precision: 0.97<br>\tneg_recall: 1.0<br>\tstab_min_bound: 0.9999999925494194<br>\tstab_max_bound: 0.9999999925494194<br>\tlog_stab_min_bound: 27.0<br>\tlog_stab_max_bound: 27.0<br>\tlstab_min_bound: 19.0<br><br>",
          "Concept 17<br>extent (len: 4271): 0, 64, 504, 688, 732, 922, 1196, 2451, 2568, 2687,...<br>intent (len: 2): poutcome_not_success, duration_lt_968<br>new extent (len: 2): 1750, 1928<br>new intent (len: 0): emptyset<br>mean_y_true: 0.09<br>mean_y_pred: 0.04<br>Metrics<br>\taccuracy: 0.95<br>\tprecision: 0.87<br>\trecall: 0.45<br>\tneg_precision: 0.95<br>\tneg_recall: 0.99<br>\tstab_min_bound: 1.0<br>\tstab_max_bound: 1.0<br>\tlog_stab_min_bound: inf<br>\tlog_stab_max_bound: inf<br>\tlstab_min_bound: 60.0<br><br>",
          "Concept 13<br>extent (len: 3286): 2, 65, 136, 187, 208, 232, 314, 331, 375, 423,...<br>intent (len: 2): month_not_oct, balance_lt_1384<br>new extent (len: 0): emptyset<br>new intent (len: 0): emptyset<br>mean_y_true: 0.1<br>mean_y_pred: 0.07<br>Metrics<br>\taccuracy: 0.95<br>\tprecision: 0.86<br>\trecall: 0.57<br>\tneg_precision: 0.96<br>\tneg_recall: 0.99<br>\tstab_min_bound: 1.0<br>\tstab_max_bound: 1.0<br>\tlog_stab_min_bound: inf<br>\tlog_stab_max_bound: inf<br>\tlstab_min_bound: 62.0<br><br>",
          "Concept 1<br>extent (len: 3337): 2, 65, 136, 187, 208, 232, 314, 331, 375, 423,...<br>intent (len: 1): balance_lt_1384<br>new extent (len: 0): emptyset<br>new intent (len: 1): balance_lt_1384<br>mean_y_true: 0.1<br>mean_y_pred: 0.07<br>Metrics<br>\taccuracy: 0.95<br>\tprecision: 0.85<br>\trecall: 0.59<br>\tneg_precision: 0.95<br>\tneg_recall: 0.99<br>\tstab_min_bound: 0.9999999999999996<br>\tstab_max_bound: 0.9999999999999996<br>\tlog_stab_min_bound: 51.0<br>\tlog_stab_max_bound: 51.0<br>\tlstab_min_bound: 43.0<br><br>",
          "Concept 96<br>extent (len: 1513): 3, 37, 55, 89, 96, 111, 116, 122, 176, 185,...<br>intent (len: 6): poutcome_not_success, duration_lt_968, duration_lt_253, month_not_oct, previous_lt_1, marital_is_married<br>new extent (len: 199): 3495, 94, 740, 1462, 3289, 3801, 2216, 4023, 3186, 1879,...<br>new intent (len: 0): emptyset<br>mean_y_true: 0.02<br>mean_y_pred: 0.0<br>Metrics<br>\taccuracy: 0.98<br>\tprecision: 1.0<br>\trecall: 0.13<br>\tneg_precision: 0.98<br>\tneg_recall: 1.0<br>\tstab_min_bound: 1.0<br>\tstab_max_bound: 1.0<br>\tlog_stab_min_bound: inf<br>\tlog_stab_max_bound: inf<br>\tlstab_min_bound: 390.0<br><br>",
          "Concept 94<br>extent (len: 1800): 4, 7, 8, 11, 26, 43, 66, 67, 73, 74,...<br>intent (len: 6): poutcome_not_success, duration_lt_968, duration_lt_253, month_not_oct, previous_lt_1, balance_lt_1384<br>new extent (len: 334): 1977, 3772, 2576, 1352, 668, 817, 1692, 2664, 4354, 4341,...<br>new intent (len: 0): emptyset<br>mean_y_true: 0.02<br>mean_y_pred: 0.0<br>Metrics<br>\taccuracy: 0.98<br>\tprecision: 1.0<br>\trecall: 0.18<br>\tneg_precision: 0.98<br>\tneg_recall: 1.0<br>\tstab_min_bound: 1.0<br>\tstab_max_bound: 1.0<br>\tlog_stab_min_bound: inf<br>\tlog_stab_max_bound: inf<br>\tlstab_min_bound: 677.0<br><br>",
          "Concept 18<br>extent (len: 2519): 1, 207, 236, 253, 310, 496, 528, 563, 685, 769,...<br>intent (len: 2): poutcome_not_success, housing_is_yes<br>new extent (len: 0): emptyset<br>new intent (len: 0): emptyset<br>mean_y_true: 0.08<br>mean_y_pred: 0.04<br>Metrics<br>\taccuracy: 0.95<br>\tprecision: 0.9<br>\trecall: 0.46<br>\tneg_precision: 0.96<br>\tneg_recall: 1.0<br>\tstab_min_bound: 0.99993896484375<br>\tstab_max_bound: 0.99993896484375<br>\tlog_stab_min_bound: 14.0<br>\tlog_stab_max_bound: 14.0<br>\tlstab_min_bound: 6.0<br><br>",
          "Concept 23<br>extent (len: 1854): 0, 64, 504, 688, 732, 922, 1196, 2451, 2568, 2687,...<br>intent (len: 3): duration_lt_968, duration_lt_253, marital_is_married<br>new extent (len: 1): 1303<br>new intent (len: 0): emptyset<br>mean_y_true: 0.04<br>mean_y_pred: 0.02<br>Metrics<br>\taccuracy: 0.98<br>\tprecision: 0.85<br>\trecall: 0.41<br>\tneg_precision: 0.98<br>\tneg_recall: 1.0<br>\tstab_min_bound: 0.9999999998799467<br>\tstab_max_bound: 0.9999999998835847<br>\tlog_stab_min_bound: 32.95560588064155<br>\tlog_stab_max_bound: 33.0<br>\tlstab_min_bound: 25.0<br><br>",
          "Concept 73<br>extent (len: 1336): 4, 7, 8, 11, 26, 43, 66, 67, 73, 74,...<br>intent (len: 5): poutcome_not_success, duration_lt_968, duration_lt_253, marital_is_married, balance_lt_1384<br>new extent (len: 16): 2911, 737, 3346, 160, 2417, 3826, 4090, 3315, 3311, 2454,...<br>new intent (len: 0): emptyset<br>mean_y_true: 0.02<br>mean_y_pred: 0.01<br>Metrics<br>\taccuracy: 0.98<br>\tprecision: 0.86<br>\trecall: 0.22<br>\tneg_precision: 0.98<br>\tneg_recall: 1.0<br>\tstab_min_bound: 0.9999847412109375<br>\tstab_max_bound: 0.9999847412109375<br>\tlog_stab_min_bound: 16.0<br>\tlog_stab_max_bound: 16.0<br>\tlstab_min_bound: 8.0<br><br>",
          "Concept 30<br>extent (len: 1616): 1, 207, 236, 253, 310, 496, 528, 563, 685, 769,...<br>intent (len: 3): month_not_oct, housing_is_yes, marital_is_married<br>new extent (len: 0): emptyset<br>new intent (len: 0): emptyset<br>mean_y_true: 0.07<br>mean_y_pred: 0.04<br>Metrics<br>\taccuracy: 0.96<br>\tprecision: 0.91<br>\trecall: 0.49<br>\tneg_precision: 0.96<br>\tneg_recall: 1.0<br>\tstab_min_bound: 0.9999990463255699<br>\tstab_max_bound: 0.9999990463256836<br>\tlog_stab_min_bound: 19.99999982801736<br>\tlog_stab_max_bound: 20.0<br>\tlstab_min_bound: 12.0<br><br>",
          "Concept 105<br>extent (len: 1115): 4, 7, 8, 11, 26, 43, 66, 67, 73, 74,...<br>intent (len: 7): poutcome_not_success, duration_lt_968, duration_lt_253, month_not_oct, previous_lt_1, marital_is_married, balance_lt_1384<br>new extent (len: 1115): 1389, 745, 1404, 2677, 1184, 3138, 3201, 2488, 1627, 847,...<br>new intent (len: 0): emptyset<br>mean_y_true: 0.01<br>mean_y_pred: 0.0<br>Metrics<br>\taccuracy: 0.99<br>\tprecision: 1.0<br>\trecall: 0.07<br>\tneg_precision: 0.99<br>\tneg_recall: 1.0<br>\tstab_min_bound: 1.0<br>\tstab_max_bound: 1.0<br>\tlog_stab_min_bound: inf<br>\tlog_stab_max_bound: inf<br>\tlstab_min_bound: 454.0<br><br>",
          "Concept 58<br>extent (len: 3121): 2, 65, 136, 187, 208, 232, 314, 331, 375, 423,...<br>intent (len: 4): poutcome_not_success, duration_lt_968, month_not_oct, balance_lt_1384<br>new extent (len: 12): 3588, 4465, 798, 3297, 1904, 1391, 849, 765, 4053, 3317,...<br>new intent (len: 0): emptyset<br>mean_y_true: 0.07<br>mean_y_pred: 0.03<br>Metrics<br>\taccuracy: 0.95<br>\tprecision: 0.86<br>\trecall: 0.41<br>\tneg_precision: 0.96<br>\tneg_recall: 1.0<br>\tstab_min_bound: 1.0<br>\tstab_max_bound: 1.0<br>\tlog_stab_min_bound: inf<br>\tlog_stab_max_bound: inf<br>\tlstab_min_bound: 452.0<br><br>",
          "Concept 8<br>extent (len: 2940): 0, 64, 504, 688, 732, 922, 1196, 2451, 2568, 2687,...<br>intent (len: 2): duration_lt_968, duration_lt_253<br>new extent (len: 0): emptyset<br>new intent (len: 1): duration_lt_253<br>mean_y_true: 0.04<br>mean_y_pred: 0.02<br>Metrics<br>\taccuracy: 0.97<br>\tprecision: 0.86<br>\trecall: 0.42<br>\tneg_precision: 0.98<br>\tneg_recall: 1.0<br>\tstab_min_bound: 0.9999999999999982<br>\tstab_max_bound: 0.9999999999999982<br>\tlog_stab_min_bound: 49.0<br>\tlog_stab_max_bound: 49.0<br>\tlstab_min_bound: 41.0<br><br>",
          "Concept 26<br>extent (len: 3189): 2, 65, 136, 187, 208, 232, 314, 331, 375, 423,...<br>intent (len: 3): duration_lt_968, month_not_oct, balance_lt_1384<br>new extent (len: 10): 880, 4458, 3684, 684, 3498, 855, 4323, 1485, 2675, 3385<br>new intent (len: 0): emptyset<br>mean_y_true: 0.08<br>mean_y_pred: 0.05<br>Metrics<br>\taccuracy: 0.95<br>\tprecision: 0.87<br>\trecall: 0.5<br>\tneg_precision: 0.96<br>\tneg_recall: 0.99<br>\tstab_min_bound: 1.0<br>\tstab_max_bound: 1.0<br>\tlog_stab_min_bound: inf<br>\tlog_stab_max_bound: inf<br>\tlstab_min_bound: 60.0<br><br>",
          "Concept 103<br>extent (len: 1004): 4, 7, 8, 11, 26, 43, 66, 67, 73, 74,...<br>intent (len: 7): poutcome_not_success, duration_lt_968, duration_lt_253, month_not_oct, previous_lt_1, housing_is_yes, balance_lt_1384<br>new extent (len: 1004): 225, 2008, 2528, 184, 268, 1420, 2841, 3016, 2488, 1627,...<br>new intent (len: 0): emptyset<br>mean_y_true: 0.01<br>mean_y_pred: 0.0<br>Metrics<br>\taccuracy: 0.99<br>\tprecision: 1.0<br>\trecall: 0.18<br>\tneg_precision: 0.99<br>\tneg_recall: 1.0<br>\tstab_min_bound: 1.0<br>\tstab_max_bound: 1.0<br>\tlog_stab_min_bound: inf<br>\tlog_stab_max_bound: inf<br>\tlstab_min_bound: 343.0<br><br>",
          "Concept 45<br>extent (len: 1358): 4, 7, 8, 11, 26, 43, 66, 67, 73, 74,...<br>intent (len: 4): duration_lt_968, duration_lt_253, marital_is_married, balance_lt_1384<br>new extent (len: 2): 1124, 338<br>new intent (len: 0): emptyset<br>mean_y_true: 0.03<br>mean_y_pred: 0.01<br>Metrics<br>\taccuracy: 0.98<br>\tprecision: 0.82<br>\trecall: 0.38<br>\tneg_precision: 0.98<br>\tneg_recall: 1.0<br>\tstab_min_bound: 0.9999959468841553<br>\tstab_max_bound: 0.9999961853027344<br>\tlog_stab_min_bound: 17.91253715874966<br>\tlog_stab_max_bound: 18.0<br>\tlstab_min_bound: 10.0<br><br>",
          "Concept 81<br>extent (len: 1553): 1, 207, 236, 253, 310, 496, 528, 563, 685, 769,...<br>intent (len: 5): poutcome_not_success, duration_lt_968, month_not_oct, housing_is_yes, marital_is_married<br>new extent (len: 23): 1112, 3239, 2540, 1510, 1600, 2037, 4107, 1989, 2745, 3236,...<br>new intent (len: 0): emptyset<br>mean_y_true: 0.06<br>mean_y_pred: 0.02<br>Metrics<br>\taccuracy: 0.96<br>\tprecision: 0.97<br>\trecall: 0.34<br>\tneg_precision: 0.96<br>\tneg_recall: 1.0<br>\tstab_min_bound: 1.0<br>\tstab_max_bound: 1.0<br>\tlog_stab_min_bound: inf<br>\tlog_stab_max_bound: inf<br>\tlstab_min_bound: 271.0<br><br>",
          "Concept 28<br>extent (len: 2681): 1, 207, 236, 253, 310, 496, 528, 563, 685, 769,...<br>intent (len: 3): duration_lt_968, month_not_oct, marital_is_married<br>new extent (len: 11): 3202, 477, 2049, 4215, 492, 2070, 347, 1980, 3589, 3586,...<br>new intent (len: 0): emptyset<br>mean_y_true: 0.08<br>mean_y_pred: 0.05<br>Metrics<br>\taccuracy: 0.95<br>\tprecision: 0.88<br>\trecall: 0.48<br>\tneg_precision: 0.95<br>\tneg_recall: 0.99<br>\tstab_min_bound: 1.0<br>\tstab_max_bound: 1.0<br>\tlog_stab_min_bound: inf<br>\tlog_stab_max_bound: inf<br>\tlstab_min_bound: 65.0<br><br>",
          "Concept 65<br>extent (len: 1596): 1, 207, 236, 253, 310, 496, 528, 563, 685, 769,...<br>intent (len: 4): poutcome_not_success, month_not_oct, housing_is_yes, marital_is_married<br>new extent (len: 3): 1719, 823, 2968<br>new intent (len: 0): emptyset<br>mean_y_true: 0.07<br>mean_y_pred: 0.03<br>Metrics<br>\taccuracy: 0.96<br>\tprecision: 0.92<br>\trecall: 0.44<br>\tneg_precision: 0.96<br>\tneg_recall: 1.0<br>\tstab_min_bound: 0.9999999999998863<br>\tstab_max_bound: 0.9999999999998863<br>\tlog_stab_min_bound: 43.0<br>\tlog_stab_max_bound: 43.0<br>\tlstab_min_bound: 35.0<br><br>",
          "Concept 42<br>extent (len: 3658): 3, 37, 55, 89, 96, 111, 116, 122, 176, 185,...<br>intent (len: 3): poutcome_not_success, month_not_oct, previous_lt_1<br>new extent (len: 4): 2980, 1300, 2140, 3813<br>new intent (len: 0): emptyset<br>mean_y_true: 0.09<br>mean_y_pred: 0.05<br>Metrics<br>\taccuracy: 0.95<br>\tprecision: 0.85<br>\trecall: 0.46<br>\tneg_precision: 0.95<br>\tneg_recall: 0.99<br>\tstab_min_bound: 1.0<br>\tstab_max_bound: 1.0<br>\tlog_stab_min_bound: inf<br>\tlog_stab_max_bound: inf<br>\tlstab_min_bound: 92.0<br><br>",
          "Concept 56<br>extent (len: 2428): 0, 64, 504, 688, 732, 922, 1196, 2451, 2568, 2687,...<br>intent (len: 4): poutcome_not_success, duration_lt_968, duration_lt_253, previous_lt_1<br>new extent (len: 1): 2022<br>new intent (len: 0): emptyset<br>mean_y_true: 0.03<br>mean_y_pred: 0.01<br>Metrics<br>\taccuracy: 0.98<br>\tprecision: 0.89<br>\trecall: 0.25<br>\tneg_precision: 0.98<br>\tneg_recall: 1.0<br>\tstab_min_bound: 0.9999999998835847<br>\tstab_max_bound: 0.9999999998835847<br>\tlog_stab_min_bound: 33.0<br>\tlog_stab_max_bound: 33.0<br>\tlstab_min_bound: 25.0<br><br>",
          "Concept 75<br>extent (len: 1633): 1, 207, 236, 253, 310, 496, 528, 563, 685, 769,...<br>intent (len: 5): poutcome_not_success, duration_lt_968, duration_lt_253, month_not_oct, housing_is_yes<br>new extent (len: 29): 647, 1951, 2002, 650, 1478, 3272, 2255, 1136, 2215, 367,...<br>new intent (len: 0): emptyset<br>mean_y_true: 0.02<br>mean_y_pred: 0.0<br>Metrics<br>\taccuracy: 0.99<br>\tprecision: 1.0<br>\trecall: 0.21<br>\tneg_precision: 0.99<br>\tneg_recall: 1.0<br>\tstab_min_bound: 1.0<br>\tstab_max_bound: 1.0<br>\tlog_stab_min_bound: inf<br>\tlog_stab_max_bound: inf<br>\tlstab_min_bound: 307.0<br><br>",
          "Concept 36<br>extent (len: 4203): 1, 207, 236, 253, 310, 496, 528, 563, 685, 769,...<br>intent (len: 3): poutcome_not_success, duration_lt_968, month_not_oct<br>new extent (len: 13): 2963, 2471, 4054, 4332, 1698, 2104, 3889, 623, 2851, 301,...<br>new intent (len: 0): emptyset<br>mean_y_true: 0.08<br>mean_y_pred: 0.04<br>Metrics<br>\taccuracy: 0.95<br>\tprecision: 0.88<br>\trecall: 0.42<br>\tneg_precision: 0.95<br>\tneg_recall: 1.0<br>\tstab_min_bound: 1.0<br>\tstab_max_bound: 1.0<br>\tlog_stab_min_bound: inf<br>\tlog_stab_max_bound: inf<br>\tlstab_min_bound: 637.0<br><br>",
          "Concept 54<br>extent (len: 1816): 0, 64, 504, 688, 732, 922, 1196, 2451, 2568, 2687,...<br>intent (len: 4): poutcome_not_success, duration_lt_968, duration_lt_253, marital_is_married<br>new extent (len: 1): 822<br>new intent (len: 0): emptyset<br>mean_y_true: 0.03<br>mean_y_pred: 0.01<br>Metrics<br>\taccuracy: 0.98<br>\tprecision: 0.92<br>\trecall: 0.24<br>\tneg_precision: 0.98<br>\tneg_recall: 1.0<br>\tstab_min_bound: 0.9999999990686774<br>\tstab_max_bound: 0.9999999990686774<br>\tlog_stab_min_bound: 30.0<br>\tlog_stab_max_bound: 30.0<br>\tlstab_min_bound: 22.0<br><br>",
          "Concept 44<br>extent (len: 2305): 0, 64, 504, 688, 732, 922, 1196, 2451, 2568, 2687,...<br>intent (len: 3): poutcome_not_success, previous_lt_1, marital_is_married<br>new extent (len: 0): emptyset<br>new intent (len: 0): emptyset<br>mean_y_true: 0.07<br>mean_y_pred: 0.04<br>Metrics<br>\taccuracy: 0.95<br>\tprecision: 0.82<br>\trecall: 0.41<br>\tneg_precision: 0.95<br>\tneg_recall: 0.99<br>\tstab_min_bound: 0.9999999995343387<br>\tstab_max_bound: 0.9999999995343387<br>\tlog_stab_min_bound: 31.0<br>\tlog_stab_max_bound: 31.0<br>\tlstab_min_bound: 23.0<br><br>",
          "Concept 12<br>extent (len: 2044): 4, 7, 8, 11, 26, 43, 66, 67, 73, 74,...<br>intent (len: 2): marital_is_married, balance_lt_1384<br>new extent (len: 0): emptyset<br>new intent (len: 0): emptyset<br>mean_y_true: 0.09<br>mean_y_pred: 0.06<br>Metrics<br>\taccuracy: 0.95<br>\tprecision: 0.83<br>\trecall: 0.57<br>\tneg_precision: 0.96<br>\tneg_recall: 0.99<br>\tstab_min_bound: 0.9999999998835843<br>\tstab_max_bound: 0.9999999998835847<br>\tlog_stab_min_bound: 32.99999587242228<br>\tlog_stab_max_bound: 33.0<br>\tlstab_min_bound: 25.0<br><br>",
          "Concept 25<br>extent (len: 1992): 4, 7, 8, 11, 26, 43, 66, 67, 73, 74,...<br>intent (len: 3): duration_lt_968, marital_is_married, balance_lt_1384<br>new extent (len: 4): 1186, 1437, 4216, 3250<br>new intent (len: 0): emptyset<br>mean_y_true: 0.08<br>mean_y_pred: 0.05<br>Metrics<br>\taccuracy: 0.96<br>\tprecision: 0.87<br>\trecall: 0.52<br>\tneg_precision: 0.96<br>\tneg_recall: 0.99<br>\tstab_min_bound: 0.9999999997671691<br>\tstab_max_bound: 0.9999999997671694<br>\tlog_stab_min_bound: 31.999998624139447<br>\tlog_stab_max_bound: 32.0<br>\tlstab_min_bound: 24.0<br><br>",
          "Concept 61<br>extent (len: 3558): 3, 37, 55, 89, 96, 111, 116, 122, 176, 185,...<br>intent (len: 4): poutcome_not_success, duration_lt_968, month_not_oct, previous_lt_1<br>new extent (len: 59): 4211, 1211, 877, 2562, 2010, 2480, 4364, 3820, 3364, 1738,...<br>new intent (len: 0): emptyset<br>mean_y_true: 0.07<br>mean_y_pred: 0.03<br>Metrics<br>\taccuracy: 0.95<br>\tprecision: 0.86<br>\trecall: 0.37<br>\tneg_precision: 0.95<br>\tneg_recall: 1.0<br>\tstab_min_bound: 1.0<br>\tstab_max_bound: 1.0<br>\tlog_stab_min_bound: inf<br>\tlog_stab_max_bound: inf<br>\tlstab_min_bound: 889.0<br><br>",
          "Concept 78<br>extent (len: 1819): 4, 7, 8, 11, 26, 43, 66, 67, 73, 74,...<br>intent (len: 5): poutcome_not_success, duration_lt_968, duration_lt_253, previous_lt_1, balance_lt_1384<br>new extent (len: 19): 3425, 4090, 4092, 3311, 2340, 160, 2417, 3826, 1088, 2750,...<br>new intent (len: 0): emptyset<br>mean_y_true: 0.02<br>mean_y_pred: 0.01<br>Metrics<br>\taccuracy: 0.98<br>\tprecision: 0.91<br>\trecall: 0.26<br>\tneg_precision: 0.98<br>\tneg_recall: 1.0<br>\tstab_min_bound: 0.9999980926513672<br>\tstab_max_bound: 0.9999980926513672<br>\tlog_stab_min_bound: 19.0<br>\tlog_stab_max_bound: 19.0<br>\tlstab_min_bound: 11.0<br><br>",
          "Concept 38<br>extent (len: 1991): 4, 7, 8, 11, 26, 43, 66, 67, 73, 74,...<br>intent (len: 3): poutcome_not_success, marital_is_married, balance_lt_1384<br>new extent (len: 0): emptyset<br>new intent (len: 0): emptyset<br>mean_y_true: 0.07<br>mean_y_pred: 0.04<br>Metrics<br>\taccuracy: 0.96<br>\tprecision: 0.83<br>\trecall: 0.48<br>\tneg_precision: 0.96<br>\tneg_recall: 0.99<br>\tstab_min_bound: 0.999999992549419<br>\tstab_max_bound: 0.9999999925494194<br>\tlog_stab_min_bound: 26.999999914008676<br>\tlog_stab_max_bound: 27.0<br>\tlstab_min_bound: 19.0<br><br>",
          "Concept 46<br>extent (len: 2154): 2, 65, 136, 187, 208, 232, 314, 331, 375, 423,...<br>intent (len: 4): duration_lt_968, duration_lt_253, month_not_oct, balance_lt_1384<br>new extent (len: 7): 3874, 3281, 3835, 1736, 2176, 3370, 2539<br>new intent (len: 0): emptyset<br>mean_y_true: 0.03<br>mean_y_pred: 0.01<br>Metrics<br>\taccuracy: 0.98<br>\tprecision: 0.88<br>\trecall: 0.36<br>\tneg_precision: 0.98<br>\tneg_recall: 1.0<br>\tstab_min_bound: 0.9999999925494194<br>\tstab_max_bound: 0.9999999925494194<br>\tlog_stab_min_bound: 27.0<br>\tlog_stab_max_bound: 27.0<br>\tlstab_min_bound: 19.0<br><br>",
          "Concept 72<br>extent (len: 1190): 4, 7, 8, 11, 26, 43, 66, 67, 73, 74,...<br>intent (len: 5): duration_lt_968, month_not_oct, housing_is_yes, marital_is_married, balance_lt_1384<br>new extent (len: 14): 1167, 941, 2699, 186, 3843, 1905, 2055, 4433, 1421, 464,...<br>new intent (len: 0): emptyset<br>mean_y_true: 0.05<br>mean_y_pred: 0.02<br>Metrics<br>\taccuracy: 0.97<br>\tprecision: 0.92<br>\trecall: 0.4<br>\tneg_precision: 0.97<br>\tneg_recall: 1.0<br>\tstab_min_bound: 0.99993896484375<br>\tstab_max_bound: 0.99993896484375<br>\tlog_stab_min_bound: 14.0<br>\tlog_stab_max_bound: 14.0<br>\tlstab_min_bound: 6.0<br><br>",
          "Concept 6<br>extent (len: 4392): 0, 64, 504, 688, 732, 922, 1196, 2451, 2568, 2687,...<br>intent (len: 1): poutcome_not_success<br>new extent (len: 0): emptyset<br>new intent (len: 1): poutcome_not_success<br>mean_y_true: 0.1<br>mean_y_pred: 0.06<br>Metrics<br>\taccuracy: 0.94<br>\tprecision: 0.86<br>\trecall: 0.52<br>\tneg_precision: 0.95<br>\tneg_recall: 0.99<br>\tstab_min_bound: 1.0<br>\tstab_max_bound: 1.0<br>\tlog_stab_min_bound: inf<br>\tlog_stab_max_bound: inf<br>\tlstab_min_bound: 61.0<br><br>",
          "Concept 21<br>extent (len: 3705): 0, 64, 504, 688, 732, 922, 1196, 2451, 2568, 2687,...<br>intent (len: 2): poutcome_not_success, previous_lt_1<br>new extent (len: 0): emptyset<br>new intent (len: 1): previous_lt_1<br>mean_y_true: 0.09<br>mean_y_pred: 0.05<br>Metrics<br>\taccuracy: 0.94<br>\tprecision: 0.84<br>\trecall: 0.48<br>\tneg_precision: 0.95<br>\tneg_recall: 0.99<br>\tstab_min_bound: 0.9999999999999929<br>\tstab_max_bound: 0.9999999999999929<br>\tlog_stab_min_bound: 47.0<br>\tlog_stab_max_bound: 47.0<br>\tlstab_min_bound: 39.0<br><br>",
          "Concept 63<br>extent (len: 2250): 0, 64, 504, 688, 732, 922, 1196, 2451, 2568, 2687,...<br>intent (len: 4): poutcome_not_success, duration_lt_968, previous_lt_1, marital_is_married<br>new extent (len: 0): emptyset<br>new intent (len: 0): emptyset<br>mean_y_true: 0.06<br>mean_y_pred: 0.02<br>Metrics<br>\taccuracy: 0.95<br>\tprecision: 0.85<br>\trecall: 0.32<br>\tneg_precision: 0.96<br>\tneg_recall: 1.0<br>\tstab_min_bound: 0.9999999990686774<br>\tstab_max_bound: 0.9999999990686774<br>\tlog_stab_min_bound: 30.0<br>\tlog_stab_max_bound: 30.0<br>\tlstab_min_bound: 22.0<br><br>",
          "Concept 80<br>extent (len: 1841): 2, 65, 136, 187, 208, 232, 314, 331, 375, 423,...<br>intent (len: 5): poutcome_not_success, duration_lt_968, month_not_oct, housing_is_yes, balance_lt_1384<br>new extent (len: 45): 3951, 881, 4042, 4312, 1863, 3674, 390, 1193, 124, 1345,...<br>new intent (len: 0): emptyset<br>mean_y_true: 0.06<br>mean_y_pred: 0.02<br>Metrics<br>\taccuracy: 0.96<br>\tprecision: 0.91<br>\trecall: 0.31<br>\tneg_precision: 0.96<br>\tneg_recall: 1.0<br>\tstab_min_bound: 1.0<br>\tstab_max_bound: 1.0<br>\tlog_stab_min_bound: inf<br>\tlog_stab_max_bound: inf<br>\tlstab_min_bound: 331.0<br><br>",
          "Concept 64<br>extent (len: 1898): 2, 65, 136, 187, 208, 232, 314, 331, 375, 423,...<br>intent (len: 4): poutcome_not_success, month_not_oct, housing_is_yes, balance_lt_1384<br>new extent (len: 7): 2653, 203, 2013, 1411, 3379, 3141, 2714<br>new intent (len: 0): emptyset<br>mean_y_true: 0.07<br>mean_y_pred: 0.03<br>Metrics<br>\taccuracy: 0.96<br>\tprecision: 0.88<br>\trecall: 0.42<br>\tneg_precision: 0.96<br>\tneg_recall: 1.0<br>\tstab_min_bound: 1.0<br>\tstab_max_bound: 1.0<br>\tlog_stab_min_bound: inf<br>\tlog_stab_max_bound: inf<br>\tlstab_min_bound: 49.0<br><br>",
          "Concept 76<br>extent (len: 1786): 1, 207, 236, 253, 310, 496, 528, 563, 685, 769,...<br>intent (len: 5): poutcome_not_success, duration_lt_968, duration_lt_253, month_not_oct, marital_is_married<br>new extent (len: 23): 629, 2776, 3377, 1805, 2832, 1547, 1122, 1591, 1077, 631,...<br>new intent (len: 0): emptyset<br>mean_y_true: 0.02<br>mean_y_pred: 0.0<br>Metrics<br>\taccuracy: 0.98<br>\tprecision: 1.0<br>\trecall: 0.19<br>\tneg_precision: 0.98<br>\tneg_recall: 1.0<br>\tstab_min_bound: 1.0<br>\tstab_max_bound: 1.0<br>\tlog_stab_min_bound: inf<br>\tlog_stab_max_bound: inf<br>\tlstab_min_bound: 265.0<br><br>",
          "Concept 4<br>extent (len: 2797): 0, 64, 504, 688, 732, 922, 1196, 2451, 2568, 2687,...<br>intent (len: 1): marital_is_married<br>new extent (len: 0): emptyset<br>new intent (len: 1): marital_is_married<br>mean_y_true: 0.1<br>mean_y_pred: 0.06<br>Metrics<br>\taccuracy: 0.95<br>\tprecision: 0.84<br>\trecall: 0.55<br>\tneg_precision: 0.95<br>\tneg_recall: 0.99<br>\tstab_min_bound: 0.9999999999999991<br>\tstab_max_bound: 0.9999999999999991<br>\tlog_stab_min_bound: 50.0<br>\tlog_stab_max_bound: 50.0<br>\tlstab_min_bound: 42.0<br><br>",
          "Concept 20<br>extent (len: 4323): 1, 207, 236, 253, 310, 496, 528, 563, 685, 769,...<br>intent (len: 2): poutcome_not_success, month_not_oct<br>new extent (len: 0): emptyset<br>new intent (len: 0): emptyset<br>mean_y_true: 0.09<br>mean_y_pred: 0.05<br>Metrics<br>\taccuracy: 0.95<br>\tprecision: 0.87<br>\trecall: 0.5<br>\tneg_precision: 0.95<br>\tneg_recall: 0.99<br>\tstab_min_bound: 1.0<br>\tstab_max_bound: 1.0<br>\tlog_stab_min_bound: inf<br>\tlog_stab_max_bound: inf<br>\tlstab_min_bound: 112.0<br><br>",
          "Concept 49<br>extent (len: 1863): 2, 65, 136, 187, 208, 232, 314, 331, 375, 423,...<br>intent (len: 4): duration_lt_968, month_not_oct, housing_is_yes, balance_lt_1384<br>new extent (len: 8): 3714, 3281, 3890, 200, 4459, 1736, 2176, 233<br>new intent (len: 0): emptyset<br>mean_y_true: 0.06<br>mean_y_pred: 0.03<br>Metrics<br>\taccuracy: 0.96<br>\tprecision: 0.92<br>\trecall: 0.39<br>\tneg_precision: 0.96<br>\tneg_recall: 1.0<br>\tstab_min_bound: 0.9999997615814209<br>\tstab_max_bound: 0.9999997615814209<br>\tlog_stab_min_bound: 22.0<br>\tlog_stab_max_bound: 22.0<br>\tlstab_min_bound: 14.0<br><br>",
          "Concept 74<br>extent (len: 2127): 2, 65, 136, 187, 208, 232, 314, 331, 375, 423,...<br>intent (len: 5): poutcome_not_success, duration_lt_968, duration_lt_253, month_not_oct, balance_lt_1384<br>new extent (len: 39): 3682, 1875, 3869, 5, 1915, 2915, 2900, 2242, 651, 891,...<br>new intent (len: 0): emptyset<br>mean_y_true: 0.02<br>mean_y_pred: 0.0<br>Metrics<br>\taccuracy: 0.98<br>\tprecision: 1.0<br>\trecall: 0.21<br>\tneg_precision: 0.98<br>\tneg_recall: 1.0<br>\tstab_min_bound: 1.0<br>\tstab_max_bound: 1.0<br>\tlog_stab_min_bound: inf<br>\tlog_stab_max_bound: inf<br>\tlstab_min_bound: 319.0<br><br>",
          "Concept 31<br>extent (len: 2011): 4, 7, 8, 11, 26, 43, 66, 67, 73, 74,...<br>intent (len: 3): month_not_oct, marital_is_married, balance_lt_1384<br>new extent (len: 1): 328<br>new intent (len: 0): emptyset<br>mean_y_true: 0.08<br>mean_y_pred: 0.05<br>Metrics<br>\taccuracy: 0.96<br>\tprecision: 0.85<br>\trecall: 0.54<br>\tneg_precision: 0.96<br>\tneg_recall: 0.99<br>\tstab_min_bound: 0.9999999999999925<br>\tstab_max_bound: 0.9999999999999929<br>\tlog_stab_min_bound: 46.91253715874966<br>\tlog_stab_max_bound: 47.0<br>\tlstab_min_bound: 39.0<br><br>",
          "Concept 48<br>extent (len: 1821): 1, 207, 236, 253, 310, 496, 528, 563, 685, 769,...<br>intent (len: 4): duration_lt_968, duration_lt_253, month_not_oct, marital_is_married<br>new extent (len: 15): 49, 3005, 199, 619, 3799, 2583, 2992, 2969, 602, 3978,...<br>new intent (len: 0): emptyset<br>mean_y_true: 0.03<br>mean_y_pred: 0.01<br>Metrics<br>\taccuracy: 0.98<br>\tprecision: 0.85<br>\trecall: 0.38<br>\tneg_precision: 0.98<br>\tneg_recall: 1.0<br>\tstab_min_bound: 0.9999999999708962<br>\tstab_max_bound: 0.9999999999708962<br>\tlog_stab_min_bound: 35.0<br>\tlog_stab_max_bound: 35.0<br>\tlstab_min_bound: 27.0<br><br>",
          "Concept 70<br>extent (len: 1693): 4, 7, 8, 11, 26, 43, 66, 67, 73, 74,...<br>intent (len: 4): poutcome_not_success, previous_lt_1, marital_is_married, balance_lt_1384<br>new extent (len: 1): 1903<br>new intent (len: 0): emptyset<br>mean_y_true: 0.06<br>mean_y_pred: 0.04<br>Metrics<br>\taccuracy: 0.96<br>\tprecision: 0.79<br>\trecall: 0.45<br>\tneg_precision: 0.96<br>\tneg_recall: 0.99<br>\tstab_min_bound: 0.9999961853026207<br>\tstab_max_bound: 0.9999961853027344<br>\tlog_stab_min_bound: 17.999999957004338<br>\tlog_stab_max_bound: 18.0<br>\tlstab_min_bound: 10.0<br><br>",
          "Concept 79<br>extent (len: 1538): 0, 64, 504, 688, 732, 922, 1196, 2451, 2568, 2687,...<br>intent (len: 5): poutcome_not_success, duration_lt_968, duration_lt_253, previous_lt_1, marital_is_married<br>new extent (len: 25): 4090, 3311, 2340, 688, 3700, 2451, 0, 732, 922, 2568,...<br>new intent (len: 0): emptyset<br>mean_y_true: 0.02<br>mean_y_pred: 0.01<br>Metrics<br>\taccuracy: 0.98<br>\tprecision: 0.89<br>\trecall: 0.22<br>\tneg_precision: 0.98<br>\tneg_recall: 1.0<br>\tstab_min_bound: 0.9999999701976776<br>\tstab_max_bound: 0.9999999701976776<br>\tlog_stab_min_bound: 25.0<br>\tlog_stab_max_bound: 25.0<br>\tlstab_min_bound: 17.0<br><br>",
          "Concept 55<br>extent (len: 2840): 1, 207, 236, 253, 310, 496, 528, 563, 685, 769,...<br>intent (len: 4): poutcome_not_success, duration_lt_968, duration_lt_253, month_not_oct<br>new extent (len: 21): 3765, 1764, 2529, 4055, 3656, 1870, 4152, 1355, 713, 1276,...<br>new intent (len: 0): emptyset<br>mean_y_true: 0.03<br>mean_y_pred: 0.01<br>Metrics<br>\taccuracy: 0.98<br>\tprecision: 1.0<br>\trecall: 0.23<br>\tneg_precision: 0.98<br>\tneg_recall: 1.0<br>\tstab_min_bound: 1.0<br>\tstab_max_bound: 1.0<br>\tlog_stab_min_bound: inf<br>\tlog_stab_max_bound: inf<br>\tlstab_min_bound: 437.0<br><br>",
          "Concept 71<br>extent (len: 1340): 4, 7, 8, 11, 26, 43, 66, 67, 73, 74,...<br>intent (len: 5): duration_lt_968, duration_lt_253, month_not_oct, marital_is_married, balance_lt_1384<br>new extent (len: 20): 4186, 2266, 3751, 4224, 1421, 289, 323, 1083, 1561, 1181,...<br>new intent (len: 0): emptyset<br>mean_y_true: 0.02<br>mean_y_pred: 0.01<br>Metrics<br>\taccuracy: 0.98<br>\tprecision: 0.85<br>\trecall: 0.35<br>\tneg_precision: 0.98<br>\tneg_recall: 1.0<br>\tstab_min_bound: 0.9999990463256836<br>\tstab_max_bound: 0.9999990463256836<br>\tlog_stab_min_bound: 20.0<br>\tlog_stab_max_bound: 20.0<br>\tlstab_min_bound: 12.0<br><br>",
          "Concept 11<br>extent (len: 4318): 1, 207, 236, 253, 310, 496, 528, 563, 685, 769,...<br>intent (len: 2): duration_lt_968, month_not_oct<br>new extent (len: 6): 1166, 110, 98, 1754, 3176, 4093<br>new intent (len: 0): emptyset<br>mean_y_true: 0.1<br>mean_y_pred: 0.06<br>Metrics<br>\taccuracy: 0.95<br>\tprecision: 0.88<br>\trecall: 0.51<br>\tneg_precision: 0.95<br>\tneg_recall: 0.99<br>\tstab_min_bound: 1.0<br>\tstab_max_bound: 1.0<br>\tlog_stab_min_bound: inf<br>\tlog_stab_max_bound: inf<br>\tlstab_min_bound: 107.0<br><br>",
          "Concept 39<br>extent (len: 3216): 2, 65, 136, 187, 208, 232, 314, 331, 375, 423,...<br>intent (len: 3): poutcome_not_success, month_not_oct, balance_lt_1384<br>new extent (len: 0): emptyset<br>new intent (len: 0): emptyset<br>mean_y_true: 0.08<br>mean_y_pred: 0.05<br>Metrics<br>\taccuracy: 0.95<br>\tprecision: 0.84<br>\trecall: 0.51<br>\tneg_precision: 0.96<br>\tneg_recall: 0.99<br>\tstab_min_bound: 1.0<br>\tstab_max_bound: 1.0<br>\tlog_stab_min_bound: inf<br>\tlog_stab_max_bound: inf<br>\tlstab_min_bound: 87.0<br><br>",
          "Concept 62<br>extent (len: 2688): 4, 7, 8, 11, 26, 43, 66, 67, 73, 74,...<br>intent (len: 4): poutcome_not_success, duration_lt_968, previous_lt_1, balance_lt_1384<br>new extent (len: 3): 803, 2685, 2821<br>new intent (len: 0): emptyset<br>mean_y_true: 0.07<br>mean_y_pred: 0.03<br>Metrics<br>\taccuracy: 0.95<br>\tprecision: 0.83<br>\trecall: 0.4<br>\tneg_precision: 0.96<br>\tneg_recall: 0.99<br>\tstab_min_bound: 0.9999999925494194<br>\tstab_max_bound: 0.9999999925494194<br>\tlog_stab_min_bound: 27.0<br>\tlog_stab_max_bound: 27.0<br>\tlstab_min_bound: 19.0<br><br>",
          "Concept 82<br>extent (len: 1914): 4, 7, 8, 11, 26, 43, 66, 67, 73, 74,...<br>intent (len: 5): poutcome_not_success, duration_lt_968, month_not_oct, marital_is_married, balance_lt_1384<br>new extent (len: 23): 1349, 1956, 2486, 1379, 83, 2692, 3205, 4290, 1320, 3314,...<br>new intent (len: 0): emptyset<br>mean_y_true: 0.06<br>mean_y_pred: 0.02<br>Metrics<br>\taccuracy: 0.96<br>\tprecision: 0.91<br>\trecall: 0.36<br>\tneg_precision: 0.96<br>\tneg_recall: 1.0<br>\tstab_min_bound: 1.0<br>\tstab_max_bound: 1.0<br>\tlog_stab_min_bound: inf<br>\tlog_stab_max_bound: inf<br>\tlstab_min_bound: 273.0<br><br>",
          "Concept 57<br>extent (len: 1940): 4, 7, 8, 11, 26, 43, 66, 67, 73, 74,...<br>intent (len: 4): poutcome_not_success, duration_lt_968, marital_is_married, balance_lt_1384<br>new extent (len: 5): 1111, 2433, 4337, 4413, 4281<br>new intent (len: 0): emptyset<br>mean_y_true: 0.06<br>mean_y_pred: 0.03<br>Metrics<br>\taccuracy: 0.96<br>\tprecision: 0.89<br>\trecall: 0.4<br>\tneg_precision: 0.96<br>\tneg_recall: 1.0<br>\tstab_min_bound: 0.9999999850988388<br>\tstab_max_bound: 0.9999999850988388<br>\tlog_stab_min_bound: 26.0<br>\tlog_stab_max_bound: 26.0<br>\tlstab_min_bound: 18.0<br><br>",
          "Concept 77<br>extent (len: 2395): 3, 37, 55, 89, 96, 111, 116, 122, 176, 185,...<br>intent (len: 5): poutcome_not_success, duration_lt_968, duration_lt_253, month_not_oct, previous_lt_1<br>new extent (len: 82): 2998, 3288, 1574, 1854, 1277, 3461, 2522, 1164, 4464, 4183,...<br>new intent (len: 0): emptyset<br>mean_y_true: 0.02<br>mean_y_pred: 0.0<br>Metrics<br>\taccuracy: 0.98<br>\tprecision: 1.0<br>\trecall: 0.19<br>\tneg_precision: 0.98<br>\tneg_recall: 1.0<br>\tstab_min_bound: 1.0<br>\tstab_max_bound: 1.0<br>\tlog_stab_min_bound: inf<br>\tlog_stab_max_bound: inf<br>\tlstab_min_bound: 587.0<br><br>",
          "Concept 29<br>extent (len: 1921): 2, 65, 136, 187, 208, 232, 314, 331, 375, 423,...<br>intent (len: 3): month_not_oct, housing_is_yes, balance_lt_1384<br>new extent (len: 1): 4232<br>new intent (len: 0): emptyset<br>mean_y_true: 0.08<br>mean_y_pred: 0.04<br>Metrics<br>\taccuracy: 0.96<br>\tprecision: 0.88<br>\trecall: 0.48<br>\tneg_precision: 0.96<br>\tneg_recall: 0.99<br>\tstab_min_bound: 0.9999998807907104<br>\tstab_max_bound: 0.9999998807907104<br>\tlog_stab_min_bound: 23.0<br>\tlog_stab_max_bound: 23.0<br>\tlstab_min_bound: 15.0<br><br>",
          "Concept 43<br>extent (len: 2769): 4, 7, 8, 11, 26, 43, 66, 67, 73, 74,...<br>intent (len: 3): poutcome_not_success, previous_lt_1, balance_lt_1384<br>new extent (len: 0): emptyset<br>new intent (len: 0): emptyset<br>mean_y_true: 0.08<br>mean_y_pred: 0.05<br>Metrics<br>\taccuracy: 0.95<br>\tprecision: 0.82<br>\trecall: 0.51<br>\tneg_precision: 0.96<br>\tneg_recall: 0.99<br>\tstab_min_bound: 0.9999999962747097<br>\tstab_max_bound: 0.9999999962747097<br>\tlog_stab_min_bound: 28.0<br>\tlog_stab_max_bound: 28.0<br>\tlstab_min_bound: 20.0<br><br>",
          "Concept 7<br>extent (len: 3239): 2, 65, 136, 187, 208, 232, 314, 331, 375, 423,...<br>intent (len: 2): duration_lt_968, balance_lt_1384<br>new extent (len: 1): 4009<br>new intent (len: 0): emptyset<br>mean_y_true: 0.09<br>mean_y_pred: 0.05<br>Metrics<br>\taccuracy: 0.95<br>\tprecision: 0.86<br>\trecall: 0.53<br>\tneg_precision: 0.96<br>\tneg_recall: 0.99<br>\tstab_min_bound: 0.9999999999999991<br>\tstab_max_bound: 0.9999999999999991<br>\tlog_stab_min_bound: 50.0<br>\tlog_stab_max_bound: 50.0<br>\tlstab_min_bound: 42.0<br><br>",
          "Concept 24<br>extent (len: 2891): 1, 207, 236, 253, 310, 496, 528, 563, 685, 769,...<br>intent (len: 3): duration_lt_968, duration_lt_253, month_not_oct<br>new extent (len: 4): 540, 397, 1216, 3088<br>new intent (len: 0): emptyset<br>mean_y_true: 0.04<br>mean_y_pred: 0.02<br>Metrics<br>\taccuracy: 0.98<br>\tprecision: 0.89<br>\trecall: 0.38<br>\tneg_precision: 0.98<br>\tneg_recall: 1.0<br>\tstab_min_bound: 0.9999999999999996<br>\tstab_max_bound: 0.9999999999999996<br>\tlog_stab_min_bound: 51.0<br>\tlog_stab_max_bound: 51.0<br>\tlstab_min_bound: 43.0<br><br>",
          "Concept 53<br>extent (len: 2153): 2, 65, 136, 187, 208, 232, 314, 331, 375, 423,...<br>intent (len: 4): poutcome_not_success, duration_lt_968, duration_lt_253, balance_lt_1384<br>new extent (len: 3): 858, 2213, 97<br>new intent (len: 0): emptyset<br>mean_y_true: 0.03<br>mean_y_pred: 0.01<br>Metrics<br>\taccuracy: 0.98<br>\tprecision: 0.94<br>\trecall: 0.27<br>\tneg_precision: 0.98<br>\tneg_recall: 1.0<br>\tstab_min_bound: 0.9999999850988388<br>\tstab_max_bound: 0.9999999850988388<br>\tlog_stab_min_bound: 26.0<br>\tlog_stab_max_bound: 26.0<br>\tlstab_min_bound: 18.0<br><br>",
          "Concept 69<br>extent (len: 2274): 3, 37, 55, 89, 96, 111, 116, 122, 176, 185,...<br>intent (len: 4): poutcome_not_success, month_not_oct, previous_lt_1, marital_is_married<br>new extent (len: 4): 3873, 3968, 3673, 2217<br>new intent (len: 0): emptyset<br>mean_y_true: 0.07<br>mean_y_pred: 0.03<br>Metrics<br>\taccuracy: 0.95<br>\tprecision: 0.82<br>\trecall: 0.38<br>\tneg_precision: 0.96<br>\tneg_recall: 0.99<br>\tstab_min_bound: 1.0<br>\tstab_max_bound: 1.0<br>\tlog_stab_min_bound: inf<br>\tlog_stab_max_bound: inf<br>\tlstab_min_bound: 46.0<br><br>",
          "Concept 2<br>extent (len: 4397): 0, 64, 504, 688, 732, 922, 1196, 2451, 2568, 2687,...<br>intent (len: 1): duration_lt_968<br>new extent (len: 0): emptyset<br>new intent (len: 1): duration_lt_968<br>mean_y_true: 0.1<br>mean_y_pred: 0.06<br>Metrics<br>\taccuracy: 0.94<br>\tprecision: 0.87<br>\trecall: 0.54<br>\tneg_precision: 0.95<br>\tneg_recall: 0.99<br>\tstab_min_bound: 1.0<br>\tstab_max_bound: 1.0<br>\tlog_stab_min_bound: inf<br>\tlog_stab_max_bound: inf<br>\tlstab_min_bound: 71.0<br><br>",
          "Concept 37<br>extent (len: 3604): 0, 64, 504, 688, 732, 922, 1196, 2451, 2568, 2687,...<br>intent (len: 3): poutcome_not_success, duration_lt_968, previous_lt_1<br>new extent (len: 5): 3881, 1672, 2014, 2421, 1113<br>new intent (len: 0): emptyset<br>mean_y_true: 0.08<br>mean_y_pred: 0.04<br>Metrics<br>\taccuracy: 0.95<br>\tprecision: 0.85<br>\trecall: 0.4<br>\tneg_precision: 0.95<br>\tneg_recall: 0.99<br>\tstab_min_bound: 0.9999999999999858<br>\tstab_max_bound: 0.9999999999999858<br>\tlog_stab_min_bound: 46.0<br>\tlog_stab_max_bound: 46.0<br>\tlstab_min_bound: 38.0<br><br>",
          "Concept 85<br>extent (len: 2220): 3, 37, 55, 89, 96, 111, 116, 122, 176, 185,...<br>intent (len: 5): poutcome_not_success, duration_lt_968, month_not_oct, previous_lt_1, marital_is_married<br>new extent (len: 79): 4165, 4256, 3006, 3993, 1942, 2420, 3942, 1315, 1773, 3686,...<br>new intent (len: 0): emptyset<br>mean_y_true: 0.06<br>mean_y_pred: 0.02<br>Metrics<br>\taccuracy: 0.95<br>\tprecision: 0.86<br>\trecall: 0.29<br>\tneg_precision: 0.96<br>\tneg_recall: 1.0<br>\tstab_min_bound: 1.0<br>\tstab_max_bound: 1.0<br>\tlog_stab_min_bound: inf<br>\tlog_stab_max_bound: inf<br>\tlstab_min_bound: 579.0<br><br>",
          "Concept 9<br>extent (len: 2484): 1, 207, 236, 253, 310, 496, 528, 563, 685, 769,...<br>intent (len: 2): duration_lt_968, housing_is_yes<br>new extent (len: 1): 4229<br>new intent (len: 0): emptyset<br>mean_y_true: 0.07<br>mean_y_pred: 0.03<br>Metrics<br>\taccuracy: 0.96<br>\tprecision: 0.92<br>\trecall: 0.44<br>\tneg_precision: 0.96<br>\tneg_recall: 1.0<br>\tstab_min_bound: 0.999969482420056<br>\tstab_max_bound: 0.999969482421875<br>\tlog_stab_min_bound: 14.999999914008677<br>\tlog_stab_max_bound: 15.0<br>\tlstab_min_bound: 7.0<br><br>",
          "Concept 34<br>extent (len: 2445): 1, 207, 236, 253, 310, 496, 528, 563, 685, 769,...<br>intent (len: 3): poutcome_not_success, duration_lt_968, housing_is_yes<br>new extent (len: 14): 2911, 3743, 3346, 1021, 3527, 3826, 61, 4423, 3315, 2773,...<br>new intent (len: 0): emptyset<br>mean_y_true: 0.07<br>mean_y_pred: 0.03<br>Metrics<br>\taccuracy: 0.96<br>\tprecision: 0.92<br>\trecall: 0.38<br>\tneg_precision: 0.96<br>\tneg_recall: 1.0<br>\tstab_min_bound: 0.99993896484375<br>\tstab_max_bound: 0.99993896484375<br>\tlog_stab_min_bound: 14.0<br>\tlog_stab_max_bound: 14.0<br>\tlstab_min_bound: 6.0<br><br>",
          "Concept 60<br>extent (len: 2608): 1, 207, 236, 253, 310, 496, 528, 563, 685, 769,...<br>intent (len: 4): poutcome_not_success, duration_lt_968, month_not_oct, marital_is_married<br>new extent (len: 16): 318, 2032, 276, 3157, 4262, 3446, 1312, 3419, 4261, 3483,...<br>new intent (len: 0): emptyset<br>mean_y_true: 0.07<br>mean_y_pred: 0.03<br>Metrics<br>\taccuracy: 0.95<br>\tprecision: 0.89<br>\trecall: 0.35<br>\tneg_precision: 0.95<br>\tneg_recall: 1.0<br>\tstab_min_bound: 1.0<br>\tstab_max_bound: 1.0<br>\tlog_stab_min_bound: inf<br>\tlog_stab_max_bound: inf<br>\tlstab_min_bound: 380.0<br><br>",
          "Concept 3<br>extent (len: 2559): 1, 207, 236, 253, 310, 496, 528, 563, 685, 769,...<br>intent (len: 1): housing_is_yes<br>new extent (len: 0): emptyset<br>new intent (len: 1): housing_is_yes<br>mean_y_true: 0.09<br>mean_y_pred: 0.05<br>Metrics<br>\taccuracy: 0.95<br>\tprecision: 0.9<br>\trecall: 0.5<br>\tneg_precision: 0.96<br>\tneg_recall: 0.99<br>\tstab_min_bound: 0.9999694824209655<br>\tstab_max_bound: 0.999969482421875<br>\tlog_stab_min_bound: 14.999999957004338<br>\tlog_stab_max_bound: 15.0<br>\tlstab_min_bound: 7.0<br><br>",
          "Concept 22<br>extent (len: 2184): 2, 65, 136, 187, 208, 232, 314, 331, 375, 423,...<br>intent (len: 3): duration_lt_968, duration_lt_253, balance_lt_1384<br>new extent (len: 2): 4229, 3243<br>new intent (len: 0): emptyset<br>mean_y_true: 0.03<br>mean_y_pred: 0.02<br>Metrics<br>\taccuracy: 0.98<br>\tprecision: 0.85<br>\trecall: 0.41<br>\tneg_precision: 0.98<br>\tneg_recall: 1.0<br>\tstab_min_bound: 0.9999999986030161<br>\tstab_max_bound: 0.9999999990686774<br>\tlog_stab_min_bound: 29.415037499278842<br>\tlog_stab_max_bound: 30.0<br>\tlstab_min_bound: 22.0<br><br>",
          "Concept 51<br>extent (len: 1960): 4, 7, 8, 11, 26, 43, 66, 67, 73, 74,...<br>intent (len: 4): duration_lt_968, month_not_oct, marital_is_married, balance_lt_1384<br>new extent (len: 15): 156, 4159, 1060, 1048, 3695, 2449, 658, 4160, 70, 2122,...<br>new intent (len: 0): emptyset<br>mean_y_true: 0.07<br>mean_y_pred: 0.04<br>Metrics<br>\taccuracy: 0.96<br>\tprecision: 0.89<br>\trecall: 0.49<br>\tneg_precision: 0.96<br>\tneg_recall: 1.0<br>\tstab_min_bound: 0.9999999999999858<br>\tstab_max_bound: 0.9999999999999858<br>\tlog_stab_min_bound: 46.0<br>\tlog_stab_max_bound: 46.0<br>\tlstab_min_bound: 38.0<br><br>",
          "Concept 67<br>extent (len: 2741): 4, 7, 8, 11, 26, 43, 66, 67, 73, 74,...<br>intent (len: 4): poutcome_not_success, month_not_oct, previous_lt_1, balance_lt_1384<br>new extent (len: 20): 1855, 3614, 2375, 259, 3305, 1459, 50, 1504, 1991, 1914,...<br>new intent (len: 0): emptyset<br>mean_y_true: 0.08<br>mean_y_pred: 0.05<br>Metrics<br>\taccuracy: 0.95<br>\tprecision: 0.83<br>\trecall: 0.49<br>\tneg_precision: 0.96<br>\tneg_recall: 0.99<br>\tstab_min_bound: 1.0<br>\tstab_max_bound: 1.0<br>\tlog_stab_min_bound: inf<br>\tlog_stab_max_bound: inf<br>\tlstab_min_bound: 72.0<br><br>",
          "Concept 41<br>extent (len: 2673): 1, 207, 236, 253, 310, 496, 528, 563, 685, 769,...<br>intent (len: 3): poutcome_not_success, month_not_oct, marital_is_married<br>new extent (len: 0): emptyset<br>new intent (len: 0): emptyset<br>mean_y_true: 0.08<br>mean_y_pred: 0.04<br>Metrics<br>\taccuracy: 0.95<br>\tprecision: 0.85<br>\trecall: 0.43<br>\tneg_precision: 0.95<br>\tneg_recall: 0.99<br>\tstab_min_bound: 1.0<br>\tstab_max_bound: 1.0<br>\tlog_stab_min_bound: inf<br>\tlog_stab_max_bound: inf<br>\tlstab_min_bound: 57.0<br><br>",
          "Concept 47<br>extent (len: 1649): 1, 207, 236, 253, 310, 496, 528, 563, 685, 769,...<br>intent (len: 4): duration_lt_968, duration_lt_253, month_not_oct, housing_is_yes<br>new extent (len: 16): 49, 1167, 2188, 3281, 4309, 2380, 3799, 602, 3593, 2992,...<br>new intent (len: 0): emptyset<br>mean_y_true: 0.02<br>mean_y_pred: 0.01<br>Metrics<br>\taccuracy: 0.99<br>\tprecision: 0.91<br>\trecall: 0.3<br>\tneg_precision: 0.99<br>\tneg_recall: 1.0<br>\tstab_min_bound: 0.9999847412109375<br>\tstab_max_bound: 0.9999847412109375<br>\tlog_stab_min_bound: 16.0<br>\tlog_stab_max_bound: 16.0<br>\tlstab_min_bound: 8.0<br><br>",
          "Concept 84<br>extent (len: 1980): 3, 37, 55, 89, 96, 111, 116, 122, 176, 185,...<br>intent (len: 5): poutcome_not_success, duration_lt_968, month_not_oct, previous_lt_1, housing_is_yes<br>new extent (len: 54): 1407, 2636, 258, 1041, 1394, 1119, 2752, 1533, 1945, 2786,...<br>new intent (len: 0): emptyset<br>mean_y_true: 0.06<br>mean_y_pred: 0.02<br>Metrics<br>\taccuracy: 0.96<br>\tprecision: 0.94<br>\trecall: 0.3<br>\tneg_precision: 0.96<br>\tneg_recall: 1.0<br>\tstab_min_bound: 1.0<br>\tstab_max_bound: 1.0<br>\tlog_stab_min_bound: inf<br>\tlog_stab_max_bound: inf<br>\tlstab_min_bound: 470.0<br><br>",
          "Concept 32<br>extent (len: 3162): 2, 65, 136, 187, 208, 232, 314, 331, 375, 423,...<br>intent (len: 3): poutcome_not_success, duration_lt_968, balance_lt_1384<br>new extent (len: 2): 164, 3743<br>new intent (len: 0): emptyset<br>mean_y_true: 0.07<br>mean_y_pred: 0.04<br>Metrics<br>\taccuracy: 0.95<br>\tprecision: 0.86<br>\trecall: 0.44<br>\tneg_precision: 0.96<br>\tneg_recall: 0.99<br>\tstab_min_bound: 0.9999999999995453<br>\tstab_max_bound: 0.9999999999995453<br>\tlog_stab_min_bound: 41.0<br>\tlog_stab_max_bound: 41.0<br>\tlstab_min_bound: 33.0<br><br>",
          "Concept 66<br>extent (len: 1964): 4, 7, 8, 11, 26, 43, 66, 67, 73, 74,...<br>intent (len: 4): poutcome_not_success, month_not_oct, marital_is_married, balance_lt_1384<br>new extent (len: 3): 3463, 1912, 665<br>new intent (len: 0): emptyset<br>mean_y_true: 0.07<br>mean_y_pred: 0.04<br>Metrics<br>\taccuracy: 0.96<br>\tprecision: 0.83<br>\trecall: 0.45<br>\tneg_precision: 0.96<br>\tneg_recall: 0.99<br>\tstab_min_bound: 0.9999999999999991<br>\tstab_max_bound: 0.9999999999999991<br>\tlog_stab_min_bound: 50.0<br>\tlog_stab_max_bound: 50.0<br>\tlstab_min_bound: 42.0<br><br>",
          "Concept 40<br>extent (len: 2505): 1, 207, 236, 253, 310, 496, 528, 563, 685, 769,...<br>intent (len: 3): poutcome_not_success, month_not_oct, housing_is_yes<br>new extent (len: 2): 4447, 3943<br>new intent (len: 0): emptyset<br>mean_y_true: 0.08<br>mean_y_pred: 0.04<br>Metrics<br>\taccuracy: 0.96<br>\tprecision: 0.92<br>\trecall: 0.46<br>\tneg_precision: 0.96<br>\tneg_recall: 1.0<br>\tstab_min_bound: 1.0<br>\tstab_max_bound: 1.0<br>\tlog_stab_min_bound: inf<br>\tlog_stab_max_bound: inf<br>\tlstab_min_bound: 66.0<br><br>",
          "Concept 52<br>extent (len: 1222): 4, 7, 8, 11, 26, 43, 66, 67, 73, 74,...<br>intent (len: 4): month_not_oct, housing_is_yes, marital_is_married, balance_lt_1384<br>new extent (len: 0): emptyset<br>new intent (len: 0): emptyset<br>mean_y_true: 0.06<br>mean_y_pred: 0.03<br>Metrics<br>\taccuracy: 0.96<br>\tprecision: 0.88<br>\trecall: 0.47<br>\tneg_precision: 0.97<br>\tneg_recall: 1.0<br>\tstab_min_bound: 0.9999389646109194<br>\tstab_max_bound: 0.99993896484375<br>\tlog_stab_min_bound: 13.99999449656567<br>\tlog_stab_max_bound: 14.0<br>\tlstab_min_bound: 6.0<br><br>",
          "Concept 83<br>extent (len: 2661): 4, 7, 8, 11, 26, 43, 66, 67, 73, 74,...<br>intent (len: 5): poutcome_not_success, duration_lt_968, month_not_oct, previous_lt_1, balance_lt_1384<br>new extent (len: 157): 3163, 4444, 3081, 1297, 612, 3334, 1269, 2423, 3409, 989,...<br>new intent (len: 0): emptyset<br>mean_y_true: 0.06<br>mean_y_pred: 0.03<br>Metrics<br>\taccuracy: 0.96<br>\tprecision: 0.84<br>\trecall: 0.37<br>\tneg_precision: 0.96<br>\tneg_recall: 1.0<br>\tstab_min_bound: 1.0<br>\tstab_max_bound: 1.0<br>\tlog_stab_min_bound: inf<br>\tlog_stab_max_bound: inf<br>\tlstab_min_bound: 853.0<br><br>",
          "Concept 33<br>extent (len: 2884): 0, 64, 504, 688, 732, 922, 1196, 2451, 2568, 2687,...<br>intent (len: 3): poutcome_not_success, duration_lt_968, duration_lt_253<br>new extent (len: 3): 3023, 3527, 3775<br>new intent (len: 0): emptyset<br>mean_y_true: 0.03<br>mean_y_pred: 0.01<br>Metrics<br>\taccuracy: 0.98<br>\tprecision: 0.93<br>\trecall: 0.28<br>\tneg_precision: 0.98<br>\tneg_recall: 1.0<br>\tstab_min_bound: 0.9999999999999432<br>\tstab_max_bound: 0.9999999999999432<br>\tlog_stab_min_bound: 44.0<br>\tlog_stab_max_bound: 44.0<br>\tlstab_min_bound: 36.0<br><br>",
          "Concept 50<br>extent (len: 1573): 1, 207, 236, 253, 310, 496, 528, 563, 685, 769,...<br>intent (len: 4): duration_lt_968, month_not_oct, housing_is_yes, marital_is_married<br>new extent (len: 6): 49, 3799, 602, 2992, 2103, 3331<br>new intent (len: 0): emptyset<br>mean_y_true: 0.06<br>mean_y_pred: 0.03<br>Metrics<br>\taccuracy: 0.96<br>\tprecision: 0.93<br>\trecall: 0.41<br>\tneg_precision: 0.96<br>\tneg_recall: 1.0<br>\tstab_min_bound: 0.9999990463256836<br>\tstab_max_bound: 0.9999990463256836<br>\tlog_stab_min_bound: 20.0<br>\tlog_stab_max_bound: 20.0<br>\tlstab_min_bound: 12.0<br><br>",
          "Concept 86<br>extent (len: 1650): 4, 7, 8, 11, 26, 43, 66, 67, 73, 74,...<br>intent (len: 5): poutcome_not_success, duration_lt_968, previous_lt_1, marital_is_married, balance_lt_1384<br>new extent (len: 17): 2911, 737, 2477, 160, 2417, 3826, 61, 1872, 4092, 4090,...<br>new intent (len: 0): emptyset<br>mean_y_true: 0.05<br>mean_y_pred: 0.02<br>Metrics<br>\taccuracy: 0.96<br>\tprecision: 0.84<br>\trecall: 0.35<br>\tneg_precision: 0.96<br>\tneg_recall: 1.0<br>\tstab_min_bound: 0.9999923706054688<br>\tstab_max_bound: 0.9999923706054688<br>\tlog_stab_min_bound: 17.0<br>\tlog_stab_max_bound: 17.0<br>\tlstab_min_bound: 9.0<br><br>",
          "Concept 5<br>extent (len: 4441): 1, 207, 236, 253, 310, 496, 528, 563, 685, 769,...<br>intent (len: 1): month_not_oct<br>new extent (len: 1): 3644<br>new intent (len: 1): month_not_oct<br>mean_y_true: 0.11<br>mean_y_pred: 0.07<br>Metrics<br>\taccuracy: 0.94<br>\tprecision: 0.87<br>\trecall: 0.57<br>\tneg_precision: 0.95<br>\tneg_recall: 0.99<br>\tstab_min_bound: 1.0<br>\tstab_max_bound: 1.0<br>\tlog_stab_min_bound: inf<br>\tlog_stab_max_bound: inf<br>\tlstab_min_bound: 110.0<br><br>",
          "Concept 35<br>extent (len: 2649): 0, 64, 504, 688, 732, 922, 1196, 2451, 2568, 2687,...<br>intent (len: 3): poutcome_not_success, duration_lt_968, marital_is_married<br>new extent (len: 1): 3701<br>new intent (len: 0): emptyset<br>mean_y_true: 0.07<br>mean_y_pred: 0.03<br>Metrics<br>\taccuracy: 0.95<br>\tprecision: 0.87<br>\trecall: 0.38<br>\tneg_precision: 0.95<br>\tneg_recall: 1.0<br>\tstab_min_bound: 0.9999999999995453<br>\tstab_max_bound: 0.9999999999995453<br>\tlog_stab_min_bound: 41.0<br>\tlog_stab_max_bound: 41.0<br>\tlstab_min_bound: 33.0<br><br>",
          "Concept 104<br>extent (len: 852): 3, 37, 55, 89, 96, 111, 116, 122, 176, 185,...<br>intent (len: 7): poutcome_not_success, duration_lt_968, duration_lt_253, month_not_oct, previous_lt_1, housing_is_yes, marital_is_married<br>new extent (len: 852): 2008, 2528, 686, 184, 4014, 2488, 1627, 847, 1589, 2339,...<br>new intent (len: 0): emptyset<br>mean_y_true: 0.01<br>mean_y_pred: 0.0<br>Metrics<br>\taccuracy: 0.99<br>\tprecision: 1.0<br>\trecall: 0.1<br>\tneg_precision: 0.99<br>\tneg_recall: 1.0<br>\tstab_min_bound: 1.0<br>\tstab_max_bound: 1.0<br>\tlog_stab_min_bound: inf<br>\tlog_stab_max_bound: inf<br>\tlstab_min_bound: 191.0<br><br>",
          "Concept 19<br>extent (len: 2715): 0, 64, 504, 688, 732, 922, 1196, 2451, 2568, 2687,...<br>intent (len: 2): poutcome_not_success, marital_is_married<br>new extent (len: 0): emptyset<br>new intent (len: 0): emptyset<br>mean_y_true: 0.08<br>mean_y_pred: 0.04<br>Metrics<br>\taccuracy: 0.95<br>\tprecision: 0.84<br>\trecall: 0.45<br>\tneg_precision: 0.95<br>\tneg_recall: 0.99<br>\tstab_min_bound: 0.9999999999997726<br>\tstab_max_bound: 0.9999999999997726<br>\tlog_stab_min_bound: 42.0<br>\tlog_stab_max_bound: 42.0<br>\tlstab_min_bound: 34.0<br><br>",
          "Concept 106<br>extent (len: 965): 4, 7, 8, 11, 26, 43, 66, 67, 73, 74,...<br>intent (len: 7): poutcome_not_success, duration_lt_968, month_not_oct, previous_lt_1, housing_is_yes, marital_is_married, balance_lt_1384<br>new extent (len: 965): 2008, 2528, 184, 2156, 3507, 2488, 1627, 847, 845, 1589,...<br>new intent (len: 0): emptyset<br>mean_y_true: 0.04<br>mean_y_pred: 0.01<br>Metrics<br>\taccuracy: 0.97<br>\tprecision: 0.89<br>\trecall: 0.23<br>\tneg_precision: 0.97<br>\tneg_recall: 1.0<br>\tstab_min_bound: 1.0<br>\tstab_max_bound: 1.0<br>\tlog_stab_min_bound: inf<br>\tlog_stab_max_bound: inf<br>\tlstab_min_bound: 304.0<br><br>",
          "Concept 68<br>extent (len: 2037): 3, 37, 55, 89, 96, 111, 116, 122, 176, 185,...<br>intent (len: 4): poutcome_not_success, month_not_oct, previous_lt_1, housing_is_yes<br>new extent (len: 4): 1534, 3453, 1592, 1454<br>new intent (len: 0): emptyset<br>mean_y_true: 0.07<br>mean_y_pred: 0.03<br>Metrics<br>\taccuracy: 0.96<br>\tprecision: 0.92<br>\trecall: 0.4<br>\tneg_precision: 0.96<br>\tneg_recall: 1.0<br>\tstab_min_bound: 1.0<br>\tstab_max_bound: 1.0<br>\tlog_stab_min_bound: inf<br>\tlog_stab_max_bound: inf<br>\tlstab_min_bound: 49.0<br><br>",
          "Concept 27<br>extent (len: 2469): 1, 207, 236, 253, 310, 496, 528, 563, 685, 769,...<br>intent (len: 3): duration_lt_968, month_not_oct, housing_is_yes<br>new extent (len: 5): 1173, 2372, 2917, 1952, 1779<br>new intent (len: 0): emptyset<br>mean_y_true: 0.07<br>mean_y_pred: 0.03<br>Metrics<br>\taccuracy: 0.96<br>\tprecision: 0.94<br>\trecall: 0.44<br>\tneg_precision: 0.96<br>\tneg_recall: 1.0<br>\tstab_min_bound: 0.999999999996362<br>\tstab_max_bound: 0.999999999996362<br>\tlog_stab_min_bound: 38.0<br>\tlog_stab_max_bound: 38.0<br>\tlstab_min_bound: 30.0<br><br>",
          "Concept 59<br>extent (len: 2431): 1, 207, 236, 253, 310, 496, 528, 563, 685, 769,...<br>intent (len: 4): poutcome_not_success, duration_lt_968, month_not_oct, housing_is_yes<br>new extent (len: 15): 412, 40, 3755, 4435, 3064, 3665, 202, 4372, 1729, 4363,...<br>new intent (len: 0): emptyset<br>mean_y_true: 0.06<br>mean_y_pred: 0.03<br>Metrics<br>\taccuracy: 0.96<br>\tprecision: 0.95<br>\trecall: 0.38<br>\tneg_precision: 0.96<br>\tneg_recall: 1.0<br>\tstab_min_bound: 1.0<br>\tstab_max_bound: 1.0<br>\tlog_stab_min_bound: inf<br>\tlog_stab_max_bound: inf<br>\tlstab_min_bound: 443.0<br><br>"
         ],
         "marker": {
          "color": [
           197,
           301,
           306,
           41,
           490,
           24,
           233,
           72,
           34,
           510,
           31,
           37,
           195,
           27,
           58,
           150,
           203,
           34,
           19,
           60,
           62,
           43,
           390,
           677,
           6,
           25,
           8,
           12,
           454,
           452,
           41,
           60,
           343,
           10,
           271,
           65,
           35,
           92,
           25,
           307,
           637,
           22,
           23,
           25,
           24,
           889,
           11,
           19,
           19,
           6,
           61,
           39,
           22,
           331,
           49,
           265,
           42,
           112,
           14,
           319,
           39,
           27,
           10,
           17,
           437,
           12,
           107,
           87,
           19,
           273,
           18,
           587,
           15,
           20,
           42,
           43,
           18,
           46,
           71,
           38,
           579,
           7,
           6,
           380,
           7,
           22,
           38,
           72,
           57,
           8,
           470,
           33,
           42,
           66,
           6,
           853,
           36,
           12,
           9,
           110,
           33,
           191,
           34,
           304,
           49,
           30,
           443
          ],
          "colorbar": {
           "thickness": 15,
           "title": {
            "side": "right",
            "text": "Mean Prediction"
           },
           "xanchor": "left"
          },
          "colorscale": [
           [
            0,
            "rgb(103,0,31)"
           ],
           [
            0.1,
            "rgb(178,24,43)"
           ],
           [
            0.2,
            "rgb(214,96,77)"
           ],
           [
            0.3,
            "rgb(244,165,130)"
           ],
           [
            0.4,
            "rgb(253,219,199)"
           ],
           [
            0.5,
            "rgb(247,247,247)"
           ],
           [
            0.6,
            "rgb(209,229,240)"
           ],
           [
            0.7,
            "rgb(146,197,222)"
           ],
           [
            0.8,
            "rgb(67,147,195)"
           ],
           [
            0.9,
            "rgb(33,102,172)"
           ],
           [
            1,
            "rgb(5,48,97)"
           ]
          ],
          "line": {
           "width": 2
          },
          "reversescale": true,
          "showscale": true,
          "size": 10
         },
         "mode": "markers+text",
         "text": [
          "<br>n: 47",
          "<br>n: 110",
          "<br>n: 115",
          "<br>3931",
          "<br>n: 186",
          "<br>n: 5",
          "<br>n: 83",
          "<br>",
          "<br>",
          "<br>n: 206",
          "<br>",
          "<br>n: 18",
          "<br>n: 45",
          "<br>n: 8",
          "<br>",
          "<br>n: 811",
          "<br>n: 53",
          "<br>n: 15",
          "<br>n: 27",
          "<br>1750,1928",
          "<br>",
          "balance_lt_1384<br>",
          "<br>n: 199",
          "<br>n: 334",
          "<br>",
          "<br>1303",
          "<br>n: 16",
          "<br>",
          "<br>n: 1115",
          "<br>n: 12",
          "duration_lt_253<br>",
          "<br>n: 10",
          "<br>n: 1004",
          "<br>1124,338",
          "<br>n: 23",
          "<br>n: 11",
          "<br>1719,823,2968",
          "<br>2980,1300,2140,3813",
          "<br>2022",
          "<br>n: 29",
          "<br>n: 13",
          "<br>822",
          "<br>",
          "<br>",
          "<br>1186,1437,4216,3250",
          "<br>n: 59",
          "<br>n: 19",
          "<br>",
          "<br>n: 7",
          "<br>n: 14",
          "poutcome_not_success<br>",
          "previous_lt_1<br>",
          "<br>",
          "<br>n: 45",
          "<br>n: 7",
          "<br>n: 23",
          "marital_is_married<br>",
          "<br>",
          "<br>n: 8",
          "<br>n: 39",
          "<br>328",
          "<br>n: 15",
          "<br>1903",
          "<br>n: 25",
          "<br>n: 21",
          "<br>n: 20",
          "<br>n: 6",
          "<br>",
          "<br>803,2685,2821",
          "<br>n: 23",
          "<br>n: 5",
          "<br>n: 82",
          "<br>4232",
          "<br>",
          "<br>4009",
          "<br>540,397,1216,3088",
          "<br>858,2213,97",
          "<br>3873,3968,3673,2217",
          "duration_lt_968<br>",
          "<br>n: 5",
          "<br>n: 79",
          "<br>4229",
          "<br>n: 14",
          "<br>n: 16",
          "housing_is_yes<br>",
          "<br>4229,3243",
          "<br>n: 15",
          "<br>n: 20",
          "<br>",
          "<br>n: 16",
          "<br>n: 54",
          "<br>164,3743",
          "<br>3463,1912,665",
          "<br>4447,3943",
          "<br>",
          "<br>n: 157",
          "<br>3023,3527,3775",
          "<br>n: 6",
          "<br>n: 17",
          "month_not_oct<br>3644",
          "<br>3701",
          "<br>n: 852",
          "<br>",
          "<br>n: 965",
          "<br>1534,3453,1592,1454",
          "<br>n: 5",
          "<br>n: 15"
         ],
         "textposition": "middle right",
         "type": "scatter",
         "x": [
          -1,
          1,
          -5,
          0,
          3,
          6.5,
          -4,
          0,
          4,
          4,
          -2,
          8.5,
          -2,
          5.5,
          5,
          1,
          2,
          9.5,
          5,
          -3,
          7,
          2.5,
          -3,
          0,
          -5,
          -8,
          -5.5,
          2,
          -2,
          6.5,
          -7,
          8,
          0,
          -6.5,
          1.5,
          5,
          3.5,
          7,
          -8.5,
          -9.5,
          -2,
          -10.5,
          -3,
          6,
          6,
          2.5,
          -3.5,
          4,
          -7.5,
          2.5,
          -1.5,
          -1,
          -4.5,
          -0.5,
          8.5,
          -8.5,
          0.5,
          1,
          -2.5,
          -6.5,
          11,
          -5.5,
          10.5,
          -4.5,
          -11.5,
          -2.5,
          3,
          9,
          4.5,
          4.5,
          0.5,
          -7.5,
          3,
          10,
          2,
          -9,
          -9.5,
          5.5,
          -0.5,
          -4,
          0.5,
          -6,
          -7,
          -1.5,
          -2.5,
          -10,
          11.5,
          12.5,
          1,
          -12.5,
          -1.5,
          -1,
          9.5,
          0,
          7.5,
          7.5,
          -11,
          -0.5,
          3.5,
          1.5,
          -6,
          -1,
          -4,
          2,
          1.5,
          -5,
          -3.5
         ],
         "y": [
          2,
          2,
          2,
          6,
          2,
          3,
          2,
          8,
          6,
          2,
          6,
          3,
          2,
          3,
          6,
          1,
          2,
          3,
          2,
          6,
          6,
          7,
          2,
          2,
          6,
          5,
          3,
          5,
          1,
          4,
          6,
          5,
          1,
          4,
          3,
          5,
          4,
          5,
          4,
          3,
          5,
          4,
          5,
          6,
          5,
          4,
          3,
          5,
          4,
          3,
          7,
          6,
          4,
          3,
          4,
          3,
          7,
          6,
          4,
          3,
          5,
          4,
          4,
          3,
          4,
          3,
          6,
          5,
          4,
          3,
          4,
          3,
          5,
          5,
          6,
          5,
          4,
          4,
          7,
          5,
          3,
          6,
          5,
          4,
          7,
          5,
          4,
          4,
          5,
          4,
          3,
          5,
          4,
          5,
          4,
          3,
          5,
          4,
          3,
          7,
          5,
          1,
          6,
          1,
          4,
          5,
          4
         ]
        }
       ],
       "layout": {
        "height": 500,
        "hovermode": "closest",
        "margin": {
         "b": 20,
         "l": 5,
         "r": 5,
         "t": 40
        },
        "showlegend": false,
        "template": {
         "data": {
          "bar": [
           {
            "error_x": {
             "color": "#2a3f5f"
            },
            "error_y": {
             "color": "#2a3f5f"
            },
            "marker": {
             "line": {
              "color": "#E5ECF6",
              "width": 0.5
             }
            },
            "type": "bar"
           }
          ],
          "barpolar": [
           {
            "marker": {
             "line": {
              "color": "#E5ECF6",
              "width": 0.5
             }
            },
            "type": "barpolar"
           }
          ],
          "carpet": [
           {
            "aaxis": {
             "endlinecolor": "#2a3f5f",
             "gridcolor": "white",
             "linecolor": "white",
             "minorgridcolor": "white",
             "startlinecolor": "#2a3f5f"
            },
            "baxis": {
             "endlinecolor": "#2a3f5f",
             "gridcolor": "white",
             "linecolor": "white",
             "minorgridcolor": "white",
             "startlinecolor": "#2a3f5f"
            },
            "type": "carpet"
           }
          ],
          "choropleth": [
           {
            "colorbar": {
             "outlinewidth": 0,
             "ticks": ""
            },
            "type": "choropleth"
           }
          ],
          "contour": [
           {
            "colorbar": {
             "outlinewidth": 0,
             "ticks": ""
            },
            "colorscale": [
             [
              0,
              "#0d0887"
             ],
             [
              0.1111111111111111,
              "#46039f"
             ],
             [
              0.2222222222222222,
              "#7201a8"
             ],
             [
              0.3333333333333333,
              "#9c179e"
             ],
             [
              0.4444444444444444,
              "#bd3786"
             ],
             [
              0.5555555555555556,
              "#d8576b"
             ],
             [
              0.6666666666666666,
              "#ed7953"
             ],
             [
              0.7777777777777778,
              "#fb9f3a"
             ],
             [
              0.8888888888888888,
              "#fdca26"
             ],
             [
              1,
              "#f0f921"
             ]
            ],
            "type": "contour"
           }
          ],
          "contourcarpet": [
           {
            "colorbar": {
             "outlinewidth": 0,
             "ticks": ""
            },
            "type": "contourcarpet"
           }
          ],
          "heatmap": [
           {
            "colorbar": {
             "outlinewidth": 0,
             "ticks": ""
            },
            "colorscale": [
             [
              0,
              "#0d0887"
             ],
             [
              0.1111111111111111,
              "#46039f"
             ],
             [
              0.2222222222222222,
              "#7201a8"
             ],
             [
              0.3333333333333333,
              "#9c179e"
             ],
             [
              0.4444444444444444,
              "#bd3786"
             ],
             [
              0.5555555555555556,
              "#d8576b"
             ],
             [
              0.6666666666666666,
              "#ed7953"
             ],
             [
              0.7777777777777778,
              "#fb9f3a"
             ],
             [
              0.8888888888888888,
              "#fdca26"
             ],
             [
              1,
              "#f0f921"
             ]
            ],
            "type": "heatmap"
           }
          ],
          "heatmapgl": [
           {
            "colorbar": {
             "outlinewidth": 0,
             "ticks": ""
            },
            "colorscale": [
             [
              0,
              "#0d0887"
             ],
             [
              0.1111111111111111,
              "#46039f"
             ],
             [
              0.2222222222222222,
              "#7201a8"
             ],
             [
              0.3333333333333333,
              "#9c179e"
             ],
             [
              0.4444444444444444,
              "#bd3786"
             ],
             [
              0.5555555555555556,
              "#d8576b"
             ],
             [
              0.6666666666666666,
              "#ed7953"
             ],
             [
              0.7777777777777778,
              "#fb9f3a"
             ],
             [
              0.8888888888888888,
              "#fdca26"
             ],
             [
              1,
              "#f0f921"
             ]
            ],
            "type": "heatmapgl"
           }
          ],
          "histogram": [
           {
            "marker": {
             "colorbar": {
              "outlinewidth": 0,
              "ticks": ""
             }
            },
            "type": "histogram"
           }
          ],
          "histogram2d": [
           {
            "colorbar": {
             "outlinewidth": 0,
             "ticks": ""
            },
            "colorscale": [
             [
              0,
              "#0d0887"
             ],
             [
              0.1111111111111111,
              "#46039f"
             ],
             [
              0.2222222222222222,
              "#7201a8"
             ],
             [
              0.3333333333333333,
              "#9c179e"
             ],
             [
              0.4444444444444444,
              "#bd3786"
             ],
             [
              0.5555555555555556,
              "#d8576b"
             ],
             [
              0.6666666666666666,
              "#ed7953"
             ],
             [
              0.7777777777777778,
              "#fb9f3a"
             ],
             [
              0.8888888888888888,
              "#fdca26"
             ],
             [
              1,
              "#f0f921"
             ]
            ],
            "type": "histogram2d"
           }
          ],
          "histogram2dcontour": [
           {
            "colorbar": {
             "outlinewidth": 0,
             "ticks": ""
            },
            "colorscale": [
             [
              0,
              "#0d0887"
             ],
             [
              0.1111111111111111,
              "#46039f"
             ],
             [
              0.2222222222222222,
              "#7201a8"
             ],
             [
              0.3333333333333333,
              "#9c179e"
             ],
             [
              0.4444444444444444,
              "#bd3786"
             ],
             [
              0.5555555555555556,
              "#d8576b"
             ],
             [
              0.6666666666666666,
              "#ed7953"
             ],
             [
              0.7777777777777778,
              "#fb9f3a"
             ],
             [
              0.8888888888888888,
              "#fdca26"
             ],
             [
              1,
              "#f0f921"
             ]
            ],
            "type": "histogram2dcontour"
           }
          ],
          "mesh3d": [
           {
            "colorbar": {
             "outlinewidth": 0,
             "ticks": ""
            },
            "type": "mesh3d"
           }
          ],
          "parcoords": [
           {
            "line": {
             "colorbar": {
              "outlinewidth": 0,
              "ticks": ""
             }
            },
            "type": "parcoords"
           }
          ],
          "pie": [
           {
            "automargin": true,
            "type": "pie"
           }
          ],
          "scatter": [
           {
            "marker": {
             "colorbar": {
              "outlinewidth": 0,
              "ticks": ""
             }
            },
            "type": "scatter"
           }
          ],
          "scatter3d": [
           {
            "line": {
             "colorbar": {
              "outlinewidth": 0,
              "ticks": ""
             }
            },
            "marker": {
             "colorbar": {
              "outlinewidth": 0,
              "ticks": ""
             }
            },
            "type": "scatter3d"
           }
          ],
          "scattercarpet": [
           {
            "marker": {
             "colorbar": {
              "outlinewidth": 0,
              "ticks": ""
             }
            },
            "type": "scattercarpet"
           }
          ],
          "scattergeo": [
           {
            "marker": {
             "colorbar": {
              "outlinewidth": 0,
              "ticks": ""
             }
            },
            "type": "scattergeo"
           }
          ],
          "scattergl": [
           {
            "marker": {
             "colorbar": {
              "outlinewidth": 0,
              "ticks": ""
             }
            },
            "type": "scattergl"
           }
          ],
          "scattermapbox": [
           {
            "marker": {
             "colorbar": {
              "outlinewidth": 0,
              "ticks": ""
             }
            },
            "type": "scattermapbox"
           }
          ],
          "scatterpolar": [
           {
            "marker": {
             "colorbar": {
              "outlinewidth": 0,
              "ticks": ""
             }
            },
            "type": "scatterpolar"
           }
          ],
          "scatterpolargl": [
           {
            "marker": {
             "colorbar": {
              "outlinewidth": 0,
              "ticks": ""
             }
            },
            "type": "scatterpolargl"
           }
          ],
          "scatterternary": [
           {
            "marker": {
             "colorbar": {
              "outlinewidth": 0,
              "ticks": ""
             }
            },
            "type": "scatterternary"
           }
          ],
          "surface": [
           {
            "colorbar": {
             "outlinewidth": 0,
             "ticks": ""
            },
            "colorscale": [
             [
              0,
              "#0d0887"
             ],
             [
              0.1111111111111111,
              "#46039f"
             ],
             [
              0.2222222222222222,
              "#7201a8"
             ],
             [
              0.3333333333333333,
              "#9c179e"
             ],
             [
              0.4444444444444444,
              "#bd3786"
             ],
             [
              0.5555555555555556,
              "#d8576b"
             ],
             [
              0.6666666666666666,
              "#ed7953"
             ],
             [
              0.7777777777777778,
              "#fb9f3a"
             ],
             [
              0.8888888888888888,
              "#fdca26"
             ],
             [
              1,
              "#f0f921"
             ]
            ],
            "type": "surface"
           }
          ],
          "table": [
           {
            "cells": {
             "fill": {
              "color": "#EBF0F8"
             },
             "line": {
              "color": "white"
             }
            },
            "header": {
             "fill": {
              "color": "#C8D4E3"
             },
             "line": {
              "color": "white"
             }
            },
            "type": "table"
           }
          ]
         },
         "layout": {
          "annotationdefaults": {
           "arrowcolor": "#2a3f5f",
           "arrowhead": 0,
           "arrowwidth": 1
          },
          "coloraxis": {
           "colorbar": {
            "outlinewidth": 0,
            "ticks": ""
           }
          },
          "colorscale": {
           "diverging": [
            [
             0,
             "#8e0152"
            ],
            [
             0.1,
             "#c51b7d"
            ],
            [
             0.2,
             "#de77ae"
            ],
            [
             0.3,
             "#f1b6da"
            ],
            [
             0.4,
             "#fde0ef"
            ],
            [
             0.5,
             "#f7f7f7"
            ],
            [
             0.6,
             "#e6f5d0"
            ],
            [
             0.7,
             "#b8e186"
            ],
            [
             0.8,
             "#7fbc41"
            ],
            [
             0.9,
             "#4d9221"
            ],
            [
             1,
             "#276419"
            ]
           ],
           "sequential": [
            [
             0,
             "#0d0887"
            ],
            [
             0.1111111111111111,
             "#46039f"
            ],
            [
             0.2222222222222222,
             "#7201a8"
            ],
            [
             0.3333333333333333,
             "#9c179e"
            ],
            [
             0.4444444444444444,
             "#bd3786"
            ],
            [
             0.5555555555555556,
             "#d8576b"
            ],
            [
             0.6666666666666666,
             "#ed7953"
            ],
            [
             0.7777777777777778,
             "#fb9f3a"
            ],
            [
             0.8888888888888888,
             "#fdca26"
            ],
            [
             1,
             "#f0f921"
            ]
           ],
           "sequentialminus": [
            [
             0,
             "#0d0887"
            ],
            [
             0.1111111111111111,
             "#46039f"
            ],
            [
             0.2222222222222222,
             "#7201a8"
            ],
            [
             0.3333333333333333,
             "#9c179e"
            ],
            [
             0.4444444444444444,
             "#bd3786"
            ],
            [
             0.5555555555555556,
             "#d8576b"
            ],
            [
             0.6666666666666666,
             "#ed7953"
            ],
            [
             0.7777777777777778,
             "#fb9f3a"
            ],
            [
             0.8888888888888888,
             "#fdca26"
            ],
            [
             1,
             "#f0f921"
            ]
           ]
          },
          "colorway": [
           "#636efa",
           "#EF553B",
           "#00cc96",
           "#ab63fa",
           "#FFA15A",
           "#19d3f3",
           "#FF6692",
           "#B6E880",
           "#FF97FF",
           "#FECB52"
          ],
          "font": {
           "color": "#2a3f5f"
          },
          "geo": {
           "bgcolor": "white",
           "lakecolor": "white",
           "landcolor": "#E5ECF6",
           "showlakes": true,
           "showland": true,
           "subunitcolor": "white"
          },
          "hoverlabel": {
           "align": "left"
          },
          "hovermode": "closest",
          "mapbox": {
           "style": "light"
          },
          "paper_bgcolor": "white",
          "plot_bgcolor": "#E5ECF6",
          "polar": {
           "angularaxis": {
            "gridcolor": "white",
            "linecolor": "white",
            "ticks": ""
           },
           "bgcolor": "#E5ECF6",
           "radialaxis": {
            "gridcolor": "white",
            "linecolor": "white",
            "ticks": ""
           }
          },
          "scene": {
           "xaxis": {
            "backgroundcolor": "#E5ECF6",
            "gridcolor": "white",
            "gridwidth": 2,
            "linecolor": "white",
            "showbackground": true,
            "ticks": "",
            "zerolinecolor": "white"
           },
           "yaxis": {
            "backgroundcolor": "#E5ECF6",
            "gridcolor": "white",
            "gridwidth": 2,
            "linecolor": "white",
            "showbackground": true,
            "ticks": "",
            "zerolinecolor": "white"
           },
           "zaxis": {
            "backgroundcolor": "#E5ECF6",
            "gridcolor": "white",
            "gridwidth": 2,
            "linecolor": "white",
            "showbackground": true,
            "ticks": "",
            "zerolinecolor": "white"
           }
          },
          "shapedefaults": {
           "line": {
            "color": "#2a3f5f"
           }
          },
          "ternary": {
           "aaxis": {
            "gridcolor": "white",
            "linecolor": "white",
            "ticks": ""
           },
           "baxis": {
            "gridcolor": "white",
            "linecolor": "white",
            "ticks": ""
           },
           "bgcolor": "#E5ECF6",
           "caxis": {
            "gridcolor": "white",
            "linecolor": "white",
            "ticks": ""
           }
          },
          "title": {
           "x": 0.05
          },
          "xaxis": {
           "automargin": true,
           "gridcolor": "white",
           "linecolor": "white",
           "ticks": "",
           "title": {
            "standoff": 15
           },
           "zerolinecolor": "white",
           "zerolinewidth": 2
          },
          "yaxis": {
           "automargin": true,
           "gridcolor": "white",
           "linecolor": "white",
           "ticks": "",
           "title": {
            "standoff": 15
           },
           "zerolinecolor": "white",
           "zerolinewidth": 2
          }
         }
        },
        "title": {
         "font": {
          "size": 16
         },
         "text": "Bank Dataset Concept Lattice"
        },
        "width": 1000,
        "xaxis": {
         "showgrid": false,
         "showticklabels": false,
         "zeroline": false
        },
        "yaxis": {
         "showgrid": false,
         "showticklabels": false,
         "zeroline": false
        }
       }
      },
      "text/html": [
       "<div>\n",
       "        \n",
       "        \n",
       "            <div id=\"032296bc-e3a1-447a-80e0-30154346016b\" class=\"plotly-graph-div\" style=\"height:500px; width:1000px;\"></div>\n",
       "            <script type=\"text/javascript\">\n",
       "                require([\"plotly\"], function(Plotly) {\n",
       "                    window.PLOTLYENV=window.PLOTLYENV || {};\n",
       "                    \n",
       "                if (document.getElementById(\"032296bc-e3a1-447a-80e0-30154346016b\")) {\n",
       "                    Plotly.newPlot(\n",
       "                        '032296bc-e3a1-447a-80e0-30154346016b',\n",
       "                        [{\"hoverinfo\": \"none\", \"line\": {\"color\": \"#888\", \"width\": 0.5}, \"mode\": \"lines\", \"type\": \"scatter\", \"x\": [-1.0, -2.0, null, -1.0, 1.0, null, -1.0, -5.5, null, -1.0, -8.5, null, -1.0, -6.5, null, -1.0, -2.5, null, -1.0, 4.5, null, 1.0, -1.0, null, 1.0, 2.0, null, 1.0, 5.5, null, 1.0, 1.5, null, 1.0, 0.5, null, 1.0, -1.5, null, -5.0, -1.0, null, -5.0, 0.0, null, -5.0, -9.5, null, -5.0, -7.5, null, -5.0, -1.5, null, 0.0, 6.0, null, 0.0, -6.0, null, 0.0, 5.0, null, 0.0, -8.0, null, 0.0, 0.5, null, 0.0, -0.5, null, 3.0, 2.0, null, 3.0, 0.0, null, 3.0, 8.5, null, 3.0, -0.5, null, 3.0, -1.5, null, 3.0, 7.5, null, 6.5, 2.0, null, 6.5, 5.0, null, 6.5, 3.5, null, 6.5, 8.5, null, 6.5, 9.5, null, 6.5, 7.5, null, -4.0, 1.0, null, -4.0, 0.0, null, -4.0, -9.5, null, -4.0, -0.5, null, -4.0, -6.5, null, 0.0, 2.5, null, 0.0, -0.5, null, 0.0, -2.5, null, 0.0, 0.5, null, 0.0, 1.5, null, 0.0, -1.5, null, 4.0, -1.0, null, 4.0, 10.0, null, 4.0, 4.0, null, 4.0, 9.0, null, 4.0, 2.5, null, 4.0, -1.5, null, 4.0, -2.0, null, 4.0, 2.0, null, 4.0, 9.5, null, 4.0, 4.5, null, 4.0, 0.5, null, 4.0, 7.5, null, 4.0, 3.5, null, -2.0, 0.0, null, -2.0, -5.0, null, -2.0, 3.0, null, -2.0, 2.0, null, -2.0, -2.5, null, -2.0, 1.5, null, 8.5, 5.0, null, 8.5, 8.5, null, 8.5, 12.5, null, 8.5, 1.5, null, -2.0, -1.0, null, -2.0, 1.0, null, -2.0, 1.5, null, -2.0, -9.5, null, -2.0, -8.5, null, 5.5, 5.0, null, 5.5, 3.5, null, 5.5, 5.5, null, 5.5, 1.5, null, 5.0, 1.0, null, 5.0, 5.0, null, 5.0, 2.0, null, 5.0, 11.0, null, 5.0, 0.5, null, 5.0, 1.5, null, 1.0, 2.0, null, 2.0, 2.0, null, 2.0, 1.5, null, 2.0, 2.5, null, 2.0, -0.5, null, 2.0, 4.5, null, 9.5, 5.0, null, 9.5, 10.5, null, 9.5, 5.5, null, 9.5, 12.5, null, 9.5, 9.5, null, 5.0, 2.0, null, -3.0, -1.0, null, -3.0, -11.0, null, -3.0, -7.0, null, -3.0, -6.0, null, -3.0, -2.0, null, -3.0, -4.0, null, -3.0, -1.5, null, -3.0, -0.5, null, 7.0, 8.0, null, 7.0, 9.0, null, 7.0, 3.0, null, 7.0, 11.0, null, 7.0, 2.5, null, 7.0, 1.5, null, 2.5, 6.0, null, 2.5, 2.0, null, -3.0, -1.0, null, -3.0, -2.0, null, -3.0, -8.5, null, -3.0, -4.5, null, -3.0, -7.5, null, -3.0, 0.5, null, 0.0, -2.0, null, 0.0, 0.0, null, 0.0, -3.5, null, 0.0, -6.5, null, 0.0, -7.5, null, 0.0, 7.5, null, -5.0, 0.0, null, -5.0, -7.0, null, -5.0, -1.5, null, -5.0, -2.5, null, -8.0, -5.5, null, -8.0, -6.5, null, -8.0, -10.5, null, -8.0, -7.0, null, -5.5, -6.5, null, -5.5, -10.5, null, -5.5, 0.5, null, -5.5, -9.5, null, 2.0, 3.5, null, 2.0, -0.5, null, 2.0, 7.5, null, 6.5, -0.5, null, 6.5, -6.5, null, 6.5, 7.5, null, 6.5, 4.5, null, 6.5, 8.0, null, 6.5, -2.0, null, 6.5, 9.0, null, 6.5, -1.0, null, -7.0, -9.0, null, -7.0, -11.0, null, -7.0, -10.0, null, -7.0, -0.5, null, 8.0, -2.5, null, 8.0, 11.5, null, 8.0, -7.5, null, 8.0, 3.0, null, 8.0, 2.0, null, -6.5, -2.5, null, -6.5, 6.0, null, -6.5, -10.0, null, 1.5, 3.5, null, 1.5, -1.5, null, 1.5, -0.5, null, 1.5, -3.5, null, 5.0, -5.5, null, 5.0, -0.5, null, 5.0, 11.5, null, 5.0, -1.5, null, 5.0, 3.0, null, 3.5, 1.0, null, 3.5, 0.0, null, 7.0, 5.5, null, 7.0, 12.5, null, 7.0, 1.5, null, 7.0, 2.5, null, 7.0, -1.0, null, 7.0, 1.0, null, -8.5, -7.5, null, -8.5, -3.5, null, -8.5, -4.5, null, -8.5, -4.0, null, -8.5, -11.0, null, -9.5, -11.5, null, -9.5, -12.5, null, -9.5, -3.5, null, -2.0, -11.5, null, -2.0, -3.5, null, -2.0, -1.5, null, -2.0, 2.5, null, -2.0, 1.0, null, -2.0, 3.0, null, -10.5, -8.5, null, -10.5, -4.5, null, -10.5, -11.0, null, -10.5, -6.0, null, -3.0, 5.5, null, -3.0, 10.5, null, -3.0, -4.5, null, -3.0, -1.0, null, -3.0, -4.0, null, 6.0, 6.0, null, 6.0, 4.0, null, 6.0, 11.0, null, 6.0, 0.5, null, 6.0, 0.5, null, 6.0, 11.5, null, 6.0, 2.0, null, 2.5, 0.5, null, 2.5, 7.5, null, 2.5, -1.5, null, 2.5, -7.5, null, 2.5, -4.0, null, -3.5, 4.5, null, -3.5, -9.5, null, 4.0, 0.5, null, 4.0, 9.5, null, 4.0, 10.5, null, 4.0, -4.0, null, -7.5, -6.5, null, -7.5, -2.5, null, -7.5, -9.0, null, -7.5, -10.0, null, 2.5, -2.5, null, 2.5, 11.5, null, 2.5, 7.5, null, 2.5, -0.5, null, -1.5, -4.0, null, -1.5, 1.0, null, -1.5, -1.0, null, -1.0, 10.0, null, -1.0, -4.0, null, -4.5, 0.5, null, -4.5, 3.5, null, -4.5, -4.5, null, -4.5, -4.0, null, -4.5, -6.0, null, -0.5, 8.5, null, -0.5, -2.5, null, -0.5, -3.5, null, 8.5, 9.0, null, 8.5, 3.0, null, 8.5, 0.0, null, -8.5, -5.5, null, -8.5, -11.5, null, -8.5, -1.5, null, 0.5, -4.0, null, 1.0, 9.0, null, 1.0, 0.0, null, 1.0, 1.0, null, 1.0, 1.5, null, -2.5, 3.0, null, -2.5, -5.0, null, -6.5, -11.5, null, -6.5, -9.5, null, 11.0, 9.5, null, 11.0, 11.5, null, 11.0, 7.5, null, -5.5, -2.5, null, -5.5, -9.0, null, 10.5, 3.5, null, 10.5, 10.0, null, -11.5, -7.5, null, -11.5, -9.0, null, -11.5, -11.0, null, -2.5, 11.5, null, 3.0, -9.0, null, 3.0, -5.0, null, 3.0, -0.5, null, 3.0, 1.5, null, 9.0, 12.5, null, 9.0, 9.5, null, 4.5, 3.5, null, 4.5, 7.5, null, 4.5, 10.0, null, 4.5, -4.0, null, 4.5, -1.0, null, 4.5, 0.5, null, 4.5, -1.5, null, 4.5, 11.5, null, 4.5, 9.5, null, 0.5, 3.5, null, 0.5, -1.0, null, 0.5, -6.0, null, 3.0, 7.5, null, 10.0, 12.5, null, 2.0, -1.0, null, 2.0, -10.0, null, 2.0, -0.5, null, -9.0, -12.5, null, -9.5, -10.0, null, -9.5, -1.0, null, -9.5, -11.0, null, 5.5, 0.5, null, 5.5, 1.0, null, -0.5, -6.0, null, 0.5, -1.5, null, -6.0, -7.0, null, -6.0, -5.0, null, -6.0, -2.5, null, -7.0, -3.5, null, -1.5, 1.0, null, -1.5, -6.0, null, 12.5, 7.5, null, 1.0, 9.5, null, 1.0, -4.0, null, -12.5, -5.0, null, -1.5, 1.5, null, -1.5, -3.5, null, 0.0, -3.5, null, 0.0, 1.5, null, -0.5, -5.0, null, -6.0, -4.0, null, -5.0, -3.5, null], \"y\": [2, 1, null, 2, 1, null, 2, 3, null, 2, 3, null, 2, 3, null, 2, 3, null, 2, 3, null, 2, 1, null, 2, 1, null, 2, 3, null, 2, 3, null, 2, 3, null, 2, 3, null, 2, 1, null, 2, 1, null, 2, 3, null, 2, 3, null, 2, 3, null, 6, 5, null, 6, 5, null, 6, 5, null, 6, 5, null, 6, 7, null, 6, 7, null, 2, 1, null, 2, 1, null, 2, 3, null, 2, 3, null, 2, 3, null, 2, 3, null, 3, 2, null, 3, 2, null, 3, 4, null, 3, 4, null, 3, 4, null, 3, 4, null, 2, 1, null, 2, 1, null, 2, 3, null, 2, 3, null, 2, 3, null, 8, 7, null, 8, 7, null, 8, 7, null, 8, 7, null, 8, 7, null, 8, 7, null, 6, 5, null, 6, 5, null, 6, 5, null, 6, 5, null, 6, 7, null, 6, 7, null, 2, 1, null, 2, 1, null, 2, 3, null, 2, 3, null, 2, 3, null, 2, 3, null, 2, 3, null, 6, 5, null, 6, 5, null, 6, 5, null, 6, 5, null, 6, 7, null, 6, 7, null, 3, 2, null, 3, 4, null, 3, 4, null, 3, 4, null, 2, 1, null, 2, 1, null, 2, 3, null, 2, 3, null, 2, 3, null, 3, 2, null, 3, 4, null, 3, 4, null, 3, 4, null, 6, 5, null, 6, 5, null, 6, 5, null, 6, 5, null, 6, 7, null, 6, 7, null, 1, 2, null, 2, 1, null, 2, 3, null, 2, 3, null, 2, 3, null, 2, 3, null, 3, 2, null, 3, 4, null, 3, 4, null, 3, 4, null, 3, 4, null, 2, 1, null, 6, 5, null, 6, 5, null, 6, 5, null, 6, 5, null, 6, 5, null, 6, 5, null, 6, 7, null, 6, 7, null, 6, 5, null, 6, 5, null, 6, 5, null, 6, 5, null, 6, 7, null, 6, 7, null, 7, 6, null, 7, 6, null, 2, 1, null, 2, 1, null, 2, 3, null, 2, 3, null, 2, 3, null, 2, 3, null, 2, 1, null, 2, 1, null, 2, 3, null, 2, 3, null, 2, 3, null, 2, 3, null, 6, 5, null, 6, 5, null, 6, 7, null, 6, 7, null, 5, 4, null, 5, 4, null, 5, 4, null, 5, 6, null, 3, 4, null, 3, 4, null, 3, 4, null, 3, 4, null, 5, 4, null, 5, 4, null, 5, 4, null, 4, 3, null, 4, 3, null, 4, 3, null, 4, 3, null, 4, 5, null, 4, 5, null, 4, 5, null, 4, 5, null, 6, 5, null, 6, 5, null, 6, 5, null, 6, 7, null, 5, 4, null, 5, 4, null, 5, 4, null, 5, 6, null, 5, 6, null, 4, 3, null, 4, 5, null, 4, 5, null, 3, 4, null, 3, 4, null, 3, 4, null, 3, 4, null, 5, 4, null, 5, 4, null, 5, 4, null, 5, 4, null, 5, 6, null, 4, 5, null, 4, 5, null, 5, 4, null, 5, 4, null, 5, 4, null, 5, 4, null, 5, 6, null, 5, 6, null, 4, 3, null, 4, 3, null, 4, 3, null, 4, 5, null, 4, 5, null, 3, 4, null, 3, 4, null, 3, 4, null, 5, 4, null, 5, 4, null, 5, 4, null, 5, 4, null, 5, 6, null, 5, 6, null, 4, 3, null, 4, 3, null, 4, 5, null, 4, 5, null, 5, 4, null, 5, 4, null, 5, 4, null, 5, 6, null, 5, 6, null, 6, 5, null, 6, 5, null, 6, 5, null, 6, 7, null, 5, 4, null, 5, 4, null, 5, 6, null, 4, 3, null, 4, 3, null, 4, 3, null, 4, 3, null, 4, 5, null, 3, 4, null, 3, 4, null, 5, 4, null, 5, 4, null, 5, 4, null, 5, 6, null, 4, 3, null, 4, 3, null, 4, 5, null, 4, 5, null, 3, 4, null, 3, 4, null, 3, 4, null, 3, 4, null, 7, 6, null, 7, 6, null, 7, 6, null, 6, 5, null, 6, 5, null, 4, 3, null, 4, 3, null, 4, 3, null, 4, 5, null, 4, 5, null, 3, 4, null, 3, 4, null, 3, 4, null, 4, 5, null, 4, 5, null, 4, 5, null, 3, 4, null, 3, 4, null, 3, 4, null, 7, 6, null, 6, 5, null, 6, 5, null, 6, 5, null, 6, 7, null, 4, 5, null, 4, 5, null, 3, 4, null, 3, 4, null, 5, 4, null, 5, 4, null, 5, 4, null, 4, 3, null, 4, 5, null, 4, 3, null, 4, 5, null, 4, 3, null, 4, 5, null, 4, 5, null, 3, 4, null, 6, 5, null, 6, 5, null, 6, 7, null, 6, 7, null, 5, 4, null, 5, 4, null, 4, 3, null, 4, 3, null, 4, 5, null, 4, 5, null, 4, 5, null, 3, 4, null, 3, 4, null, 3, 4, null, 3, 4, null, 4, 3, null, 4, 5, null, 4, 5, null, 5, 4, null, 5, 4, null, 6, 5, null, 6, 5, null, 6, 7, null, 5, 4, null, 4, 5, null, 4, 5, null, 4, 5, null, 4, 3, null, 4, 5, null, 7, 6, null, 3, 4, null, 6, 5, null, 6, 5, null, 6, 7, null, 5, 4, null, 4, 5, null, 4, 5, null, 4, 3, null, 5, 4, null, 5, 6, null, 4, 5, null, 3, 4, null, 3, 4, null, 5, 4, null, 5, 4, null, 4, 5, null, 5, 6, null, 5, 4, null]}, {\"hoverinfo\": \"text\", \"hovertext\": [\"Concept 93<br>extent (len: 1320): 4, 7, 8, 11, 26, 43, 66, 67, 73, 74,...<br>intent (len: 6): poutcome_not_success, duration_lt_968, duration_lt_253, month_not_oct, marital_is_married, balance_lt_1384<br>new extent (len: 47): 913, 4519, 2447, 731, 3883, 1195, 3710, 1707, 2075, 3548,...<br>new intent (len: 0): emptyset<br>mean_y_true: 0.02<br>mean_y_pred: 0.0<br>Metrics<br>\\taccuracy: 0.99<br>\\tprecision: 1.0<br>\\trecall: 0.18<br>\\tneg_precision: 0.99<br>\\tneg_recall: 1.0<br>\\tstab_min_bound: 1.0<br>\\tstab_max_bound: 1.0<br>\\tlog_stab_min_bound: inf<br>\\tlog_stab_max_bound: inf<br>\\tlstab_min_bound: 197.0<br><br>\", \"Concept 99<br>extent (len: 1274): 3, 37, 55, 89, 96, 111, 116, 122, 176, 185,...<br>intent (len: 6): poutcome_not_success, duration_lt_968, month_not_oct, previous_lt_1, housing_is_yes, marital_is_married<br>new extent (len: 110): 3182, 350, 4442, 85, 2682, 2655, 1553, 2285, 3702, 1585,...<br>new intent (len: 0): emptyset<br>mean_y_true: 0.05<br>mean_y_pred: 0.01<br>Metrics<br>\\taccuracy: 0.96<br>\\tprecision: 0.94<br>\\trecall: 0.24<br>\\tneg_precision: 0.96<br>\\tneg_recall: 1.0<br>\\tstab_min_bound: 1.0<br>\\tstab_max_bound: 1.0<br>\\tlog_stab_min_bound: inf<br>\\tlog_stab_max_bound: inf<br>\\tlstab_min_bound: 301.0<br><br>\", \"Concept 95<br>extent (len: 1318): 3, 37, 55, 89, 96, 111, 116, 122, 176, 185,...<br>intent (len: 6): poutcome_not_success, duration_lt_968, duration_lt_253, month_not_oct, previous_lt_1, housing_is_yes<br>new extent (len: 115): 1878, 3983, 1646, 463, 2038, 3657, 4421, 846, 3485, 3680,...<br>new intent (len: 0): emptyset<br>mean_y_true: 0.01<br>mean_y_pred: 0.0<br>Metrics<br>\\taccuracy: 0.99<br>\\tprecision: 1.0<br>\\trecall: 0.18<br>\\tneg_precision: 0.99<br>\\tneg_recall: 1.0<br>\\tstab_min_bound: 1.0<br>\\tstab_max_bound: 1.0<br>\\tlog_stab_min_bound: inf<br>\\tlog_stab_max_bound: inf<br>\\tlstab_min_bound: 306.0<br><br>\", \"Concept 10<br>extent (len: 2730): 0, 64, 504, 688, 732, 922, 1196, 2451, 2568, 2687,...<br>intent (len: 2): duration_lt_968, marital_is_married<br>new extent (len: 1): 3931<br>new intent (len: 0): emptyset<br>mean_y_true: 0.09<br>mean_y_pred: 0.05<br>Metrics<br>\\taccuracy: 0.95<br>\\tprecision: 0.86<br>\\trecall: 0.5<br>\\tneg_precision: 0.95<br>\\tneg_recall: 0.99<br>\\tstab_min_bound: 0.9999999999999982<br>\\tstab_max_bound: 0.9999999999999982<br>\\tlog_stab_min_bound: 49.0<br>\\tlog_stab_max_bound: 49.0<br>\\tlstab_min_bound: 41.0<br><br>\", \"Concept 98<br>extent (len: 1502): 4, 7, 8, 11, 26, 43, 66, 67, 73, 74,...<br>intent (len: 6): poutcome_not_success, duration_lt_968, month_not_oct, previous_lt_1, housing_is_yes, balance_lt_1384<br>new extent (len: 186): 3320, 279, 4210, 3646, 806, 4192, 486, 2428, 1934, 927,...<br>new intent (len: 0): emptyset<br>mean_y_true: 0.05<br>mean_y_pred: 0.01<br>Metrics<br>\\taccuracy: 0.96<br>\\tprecision: 0.91<br>\\trecall: 0.27<br>\\tneg_precision: 0.96<br>\\tneg_recall: 1.0<br>\\tstab_min_bound: 1.0<br>\\tstab_max_bound: 1.0<br>\\tlog_stab_min_bound: inf<br>\\tlog_stab_max_bound: inf<br>\\tlstab_min_bound: 490.0<br><br>\", \"Concept 87<br>extent (len: 1208): 4, 7, 8, 11, 26, 43, 66, 67, 73, 74,...<br>intent (len: 5): poutcome_not_success, month_not_oct, housing_is_yes, marital_is_married, balance_lt_1384<br>new extent (len: 5): 369, 2837, 354, 2068, 804<br>new intent (len: 0): emptyset<br>mean_y_true: 0.05<br>mean_y_pred: 0.02<br>Metrics<br>\\taccuracy: 0.96<br>\\tprecision: 0.87<br>\\trecall: 0.4<br>\\tneg_precision: 0.97<br>\\tneg_recall: 1.0<br>\\tstab_min_bound: 0.9999999997671694<br>\\tstab_max_bound: 0.9999999997671694<br>\\tlog_stab_min_bound: 32.0<br>\\tlog_stab_max_bound: 32.0<br>\\tlstab_min_bound: 24.0<br><br>\", \"Concept 91<br>extent (len: 1245): 2, 65, 136, 187, 208, 232, 314, 331, 375, 423,...<br>intent (len: 6): poutcome_not_success, duration_lt_968, duration_lt_253, month_not_oct, housing_is_yes, balance_lt_1384<br>new extent (len: 83): 2067, 3380, 4463, 2345, 893, 4191, 4434, 3048, 1073, 3493,...<br>new intent (len: 0): emptyset<br>mean_y_true: 0.02<br>mean_y_pred: 0.0<br>Metrics<br>\\taccuracy: 0.99<br>\\tprecision: 1.0<br>\\trecall: 0.16<br>\\tneg_precision: 0.99<br>\\tneg_recall: 1.0<br>\\tstab_min_bound: 1.0<br>\\tstab_max_bound: 1.0<br>\\tlog_stab_min_bound: inf<br>\\tlog_stab_max_bound: inf<br>\\tlstab_min_bound: 233.0<br><br>\", \"Concept 0<br>extent (len: 4521): 0, 64, 504, 688, 732, 922, 1196, 2451, 2568, 2687,...<br>intent (len: 0): emptyset<br>new extent (len: 0): emptyset<br>new intent (len: 0): emptyset<br>mean_y_true: 0.12<br>mean_y_pred: 0.08<br>Metrics<br>\\taccuracy: 0.94<br>\\tprecision: 0.86<br>\\trecall: 0.59<br>\\tneg_precision: 0.95<br>\\tneg_recall: 0.99<br>\\tstab_min_bound: 1.0<br>\\tstab_max_bound: 1.0<br>\\tlog_stab_min_bound: inf<br>\\tlog_stab_max_bound: inf<br>\\tlstab_min_bound: 72.0<br><br>\", \"Concept 16<br>extent (len: 3258): 2, 65, 136, 187, 208, 232, 314, 331, 375, 423,...<br>intent (len: 2): poutcome_not_success, balance_lt_1384<br>new extent (len: 0): emptyset<br>new intent (len: 0): emptyset<br>mean_y_true: 0.09<br>mean_y_pred: 0.06<br>Metrics<br>\\taccuracy: 0.95<br>\\tprecision: 0.84<br>\\trecall: 0.53<br>\\tneg_precision: 0.96<br>\\tneg_recall: 0.99<br>\\tstab_min_bound: 0.9999999999997726<br>\\tstab_max_bound: 0.9999999999997726<br>\\tlog_stab_min_bound: 42.0<br>\\tlog_stab_max_bound: 42.0<br>\\tlstab_min_bound: 34.0<br><br>\", \"Concept 100<br>extent (len: 1633): 4, 7, 8, 11, 26, 43, 66, 67, 73, 74,...<br>intent (len: 6): poutcome_not_success, duration_lt_968, month_not_oct, previous_lt_1, marital_is_married, balance_lt_1384<br>new extent (len: 206): 1814, 3178, 1880, 3540, 2412, 1745, 2763, 3080, 4513, 589,...<br>new intent (len: 0): emptyset<br>mean_y_true: 0.05<br>mean_y_pred: 0.02<br>Metrics<br>\\taccuracy: 0.96<br>\\tprecision: 0.86<br>\\trecall: 0.31<br>\\tneg_precision: 0.97<br>\\tneg_recall: 1.0<br>\\tstab_min_bound: 1.0<br>\\tstab_max_bound: 1.0<br>\\tlog_stab_min_bound: inf<br>\\tlog_stab_max_bound: inf<br>\\tlstab_min_bound: 510.0<br><br>\", \"Concept 14<br>extent (len: 2544): 1, 207, 236, 253, 310, 496, 528, 563, 685, 769,...<br>intent (len: 2): month_not_oct, housing_is_yes<br>new extent (len: 0): emptyset<br>new intent (len: 0): emptyset<br>mean_y_true: 0.08<br>mean_y_pred: 0.05<br>Metrics<br>\\taccuracy: 0.95<br>\\tprecision: 0.91<br>\\trecall: 0.5<br>\\tneg_precision: 0.96<br>\\tneg_recall: 1.0<br>\\tstab_min_bound: 0.999999999998181<br>\\tstab_max_bound: 0.999999999998181<br>\\tlog_stab_min_bound: 39.0<br>\\tlog_stab_max_bound: 39.0<br>\\tlstab_min_bound: 31.0<br><br>\", \"Concept 88<br>extent (len: 1547): 4, 7, 8, 11, 26, 43, 66, 67, 73, 74,...<br>intent (len: 5): poutcome_not_success, month_not_oct, previous_lt_1, housing_is_yes, balance_lt_1384<br>new extent (len: 18): 2274, 4265, 4505, 1333, 3653, 494, 980, 295, 1431, 794,...<br>new intent (len: 0): emptyset<br>mean_y_true: 0.06<br>mean_y_pred: 0.03<br>Metrics<br>\\taccuracy: 0.96<br>\\tprecision: 0.89<br>\\trecall: 0.39<br>\\tneg_precision: 0.96<br>\\tneg_recall: 1.0<br>\\tstab_min_bound: 0.9999999999999716<br>\\tstab_max_bound: 0.9999999999999716<br>\\tlog_stab_min_bound: 45.0<br>\\tlog_stab_max_bound: 45.0<br>\\tlstab_min_bound: 37.0<br><br>\", \"Concept 92<br>extent (len: 1055): 1, 207, 236, 253, 310, 496, 528, 563, 685, 769,...<br>intent (len: 6): poutcome_not_success, duration_lt_968, duration_lt_253, month_not_oct, housing_is_yes, marital_is_married<br>new extent (len: 45): 685, 926, 1521, 496, 3576, 3972, 1535, 3040, 2691, 2764,...<br>new intent (len: 0): emptyset<br>mean_y_true: 0.02<br>mean_y_pred: 0.0<br>Metrics<br>\\taccuracy: 0.99<br>\\tprecision: 1.0<br>\\trecall: 0.18<br>\\tneg_precision: 0.99<br>\\tneg_recall: 1.0<br>\\tstab_min_bound: 1.0<br>\\tstab_max_bound: 1.0<br>\\tlog_stab_min_bound: inf<br>\\tlog_stab_max_bound: inf<br>\\tlstab_min_bound: 195.0<br><br>\", \"Concept 89<br>extent (len: 1309): 3, 37, 55, 89, 96, 111, 116, 122, 176, 185,...<br>intent (len: 5): poutcome_not_success, month_not_oct, previous_lt_1, housing_is_yes, marital_is_married<br>new extent (len: 8): 3730, 3229, 1959, 2591, 1319, 4342, 3810, 2406<br>new intent (len: 0): emptyset<br>mean_y_true: 0.06<br>mean_y_pred: 0.02<br>Metrics<br>\\taccuracy: 0.96<br>\\tprecision: 0.9<br>\\trecall: 0.36<br>\\tneg_precision: 0.96<br>\\tneg_recall: 1.0<br>\\tstab_min_bound: 0.9999999999708962<br>\\tstab_max_bound: 0.9999999999708962<br>\\tlog_stab_min_bound: 35.0<br>\\tlog_stab_max_bound: 35.0<br>\\tlstab_min_bound: 27.0<br><br>\", \"Concept 15<br>extent (len: 2747): 1, 207, 236, 253, 310, 496, 528, 563, 685, 769,...<br>intent (len: 2): month_not_oct, marital_is_married<br>new extent (len: 0): emptyset<br>new intent (len: 0): emptyset<br>mean_y_true: 0.09<br>mean_y_pred: 0.06<br>Metrics<br>\\taccuracy: 0.95<br>\\tprecision: 0.85<br>\\trecall: 0.53<br>\\tneg_precision: 0.95<br>\\tneg_recall: 0.99<br>\\tstab_min_bound: 1.0<br>\\tstab_max_bound: 1.0<br>\\tlog_stab_min_bound: inf<br>\\tlog_stab_max_bound: inf<br>\\tlstab_min_bound: 58.0<br><br>\", \"Concept 102<br>extent (len: 811): 4, 7, 8, 11, 26, 43, 66, 67, 73, 74,...<br>intent (len: 7): poutcome_not_success, duration_lt_968, duration_lt_253, month_not_oct, housing_is_yes, marital_is_married, balance_lt_1384<br>new extent (len: 811): 2008, 2528, 482, 184, 1020, 1311, 2488, 1627, 847, 4485,...<br>new intent (len: 0): emptyset<br>mean_y_true: 0.01<br>mean_y_pred: 0.0<br>Metrics<br>\\taccuracy: 0.99<br>\\tprecision: 1.0<br>\\trecall: 0.2<br>\\tneg_precision: 0.99<br>\\tneg_recall: 1.0<br>\\tstab_min_bound: 1.0<br>\\tstab_max_bound: 1.0<br>\\tlog_stab_min_bound: inf<br>\\tlog_stab_max_bound: inf<br>\\tlstab_min_bound: 150.0<br><br>\", \"Concept 97<br>extent (len: 1176): 4, 7, 8, 11, 26, 43, 66, 67, 73, 74,...<br>intent (len: 6): poutcome_not_success, duration_lt_968, month_not_oct, housing_is_yes, marital_is_married, balance_lt_1384<br>new extent (len: 53): 2971, 663, 2849, 3066, 3922, 3584, 2332, 1386, 3412, 1970,...<br>new intent (len: 0): emptyset<br>mean_y_true: 0.04<br>mean_y_pred: 0.01<br>Metrics<br>\\taccuracy: 0.97<br>\\tprecision: 0.94<br>\\trecall: 0.29<br>\\tneg_precision: 0.97<br>\\tneg_recall: 1.0<br>\\tstab_min_bound: 1.0<br>\\tstab_max_bound: 1.0<br>\\tlog_stab_min_bound: inf<br>\\tlog_stab_max_bound: inf<br>\\tlstab_min_bound: 203.0<br><br>\", \"Concept 90<br>extent (len: 1675): 4, 7, 8, 11, 26, 43, 66, 67, 73, 74,...<br>intent (len: 5): poutcome_not_success, month_not_oct, previous_lt_1, marital_is_married, balance_lt_1384<br>new extent (len: 15): 2760, 568, 2827, 1175, 4209, 3123, 2972, 704, 3914, 3152,...<br>new intent (len: 0): emptyset<br>mean_y_true: 0.06<br>mean_y_pred: 0.03<br>Metrics<br>\\taccuracy: 0.96<br>\\tprecision: 0.8<br>\\trecall: 0.43<br>\\tneg_precision: 0.96<br>\\tneg_recall: 0.99<br>\\tstab_min_bound: 0.9999999999997726<br>\\tstab_max_bound: 0.9999999999997726<br>\\tlog_stab_min_bound: 42.0<br>\\tlog_stab_max_bound: 42.0<br>\\tlstab_min_bound: 34.0<br><br>\", \"Concept 101<br>extent (len: 992): 4, 7, 8, 11, 26, 43, 66, 67, 73, 74,...<br>intent (len: 6): poutcome_not_success, month_not_oct, previous_lt_1, housing_is_yes, marital_is_married, balance_lt_1384<br>new extent (len: 27): 2202, 4511, 4101, 2748, 1085, 4495, 3074, 4316, 1156, 1047,...<br>new intent (len: 0): emptyset<br>mean_y_true: 0.05<br>mean_y_pred: 0.02<br>Metrics<br>\\taccuracy: 0.97<br>\\tprecision: 0.85<br>\\trecall: 0.36<br>\\tneg_precision: 0.97<br>\\tneg_recall: 1.0<br>\\tstab_min_bound: 0.9999999925494194<br>\\tstab_max_bound: 0.9999999925494194<br>\\tlog_stab_min_bound: 27.0<br>\\tlog_stab_max_bound: 27.0<br>\\tlstab_min_bound: 19.0<br><br>\", \"Concept 17<br>extent (len: 4271): 0, 64, 504, 688, 732, 922, 1196, 2451, 2568, 2687,...<br>intent (len: 2): poutcome_not_success, duration_lt_968<br>new extent (len: 2): 1750, 1928<br>new intent (len: 0): emptyset<br>mean_y_true: 0.09<br>mean_y_pred: 0.04<br>Metrics<br>\\taccuracy: 0.95<br>\\tprecision: 0.87<br>\\trecall: 0.45<br>\\tneg_precision: 0.95<br>\\tneg_recall: 0.99<br>\\tstab_min_bound: 1.0<br>\\tstab_max_bound: 1.0<br>\\tlog_stab_min_bound: inf<br>\\tlog_stab_max_bound: inf<br>\\tlstab_min_bound: 60.0<br><br>\", \"Concept 13<br>extent (len: 3286): 2, 65, 136, 187, 208, 232, 314, 331, 375, 423,...<br>intent (len: 2): month_not_oct, balance_lt_1384<br>new extent (len: 0): emptyset<br>new intent (len: 0): emptyset<br>mean_y_true: 0.1<br>mean_y_pred: 0.07<br>Metrics<br>\\taccuracy: 0.95<br>\\tprecision: 0.86<br>\\trecall: 0.57<br>\\tneg_precision: 0.96<br>\\tneg_recall: 0.99<br>\\tstab_min_bound: 1.0<br>\\tstab_max_bound: 1.0<br>\\tlog_stab_min_bound: inf<br>\\tlog_stab_max_bound: inf<br>\\tlstab_min_bound: 62.0<br><br>\", \"Concept 1<br>extent (len: 3337): 2, 65, 136, 187, 208, 232, 314, 331, 375, 423,...<br>intent (len: 1): balance_lt_1384<br>new extent (len: 0): emptyset<br>new intent (len: 1): balance_lt_1384<br>mean_y_true: 0.1<br>mean_y_pred: 0.07<br>Metrics<br>\\taccuracy: 0.95<br>\\tprecision: 0.85<br>\\trecall: 0.59<br>\\tneg_precision: 0.95<br>\\tneg_recall: 0.99<br>\\tstab_min_bound: 0.9999999999999996<br>\\tstab_max_bound: 0.9999999999999996<br>\\tlog_stab_min_bound: 51.0<br>\\tlog_stab_max_bound: 51.0<br>\\tlstab_min_bound: 43.0<br><br>\", \"Concept 96<br>extent (len: 1513): 3, 37, 55, 89, 96, 111, 116, 122, 176, 185,...<br>intent (len: 6): poutcome_not_success, duration_lt_968, duration_lt_253, month_not_oct, previous_lt_1, marital_is_married<br>new extent (len: 199): 3495, 94, 740, 1462, 3289, 3801, 2216, 4023, 3186, 1879,...<br>new intent (len: 0): emptyset<br>mean_y_true: 0.02<br>mean_y_pred: 0.0<br>Metrics<br>\\taccuracy: 0.98<br>\\tprecision: 1.0<br>\\trecall: 0.13<br>\\tneg_precision: 0.98<br>\\tneg_recall: 1.0<br>\\tstab_min_bound: 1.0<br>\\tstab_max_bound: 1.0<br>\\tlog_stab_min_bound: inf<br>\\tlog_stab_max_bound: inf<br>\\tlstab_min_bound: 390.0<br><br>\", \"Concept 94<br>extent (len: 1800): 4, 7, 8, 11, 26, 43, 66, 67, 73, 74,...<br>intent (len: 6): poutcome_not_success, duration_lt_968, duration_lt_253, month_not_oct, previous_lt_1, balance_lt_1384<br>new extent (len: 334): 1977, 3772, 2576, 1352, 668, 817, 1692, 2664, 4354, 4341,...<br>new intent (len: 0): emptyset<br>mean_y_true: 0.02<br>mean_y_pred: 0.0<br>Metrics<br>\\taccuracy: 0.98<br>\\tprecision: 1.0<br>\\trecall: 0.18<br>\\tneg_precision: 0.98<br>\\tneg_recall: 1.0<br>\\tstab_min_bound: 1.0<br>\\tstab_max_bound: 1.0<br>\\tlog_stab_min_bound: inf<br>\\tlog_stab_max_bound: inf<br>\\tlstab_min_bound: 677.0<br><br>\", \"Concept 18<br>extent (len: 2519): 1, 207, 236, 253, 310, 496, 528, 563, 685, 769,...<br>intent (len: 2): poutcome_not_success, housing_is_yes<br>new extent (len: 0): emptyset<br>new intent (len: 0): emptyset<br>mean_y_true: 0.08<br>mean_y_pred: 0.04<br>Metrics<br>\\taccuracy: 0.95<br>\\tprecision: 0.9<br>\\trecall: 0.46<br>\\tneg_precision: 0.96<br>\\tneg_recall: 1.0<br>\\tstab_min_bound: 0.99993896484375<br>\\tstab_max_bound: 0.99993896484375<br>\\tlog_stab_min_bound: 14.0<br>\\tlog_stab_max_bound: 14.0<br>\\tlstab_min_bound: 6.0<br><br>\", \"Concept 23<br>extent (len: 1854): 0, 64, 504, 688, 732, 922, 1196, 2451, 2568, 2687,...<br>intent (len: 3): duration_lt_968, duration_lt_253, marital_is_married<br>new extent (len: 1): 1303<br>new intent (len: 0): emptyset<br>mean_y_true: 0.04<br>mean_y_pred: 0.02<br>Metrics<br>\\taccuracy: 0.98<br>\\tprecision: 0.85<br>\\trecall: 0.41<br>\\tneg_precision: 0.98<br>\\tneg_recall: 1.0<br>\\tstab_min_bound: 0.9999999998799467<br>\\tstab_max_bound: 0.9999999998835847<br>\\tlog_stab_min_bound: 32.95560588064155<br>\\tlog_stab_max_bound: 33.0<br>\\tlstab_min_bound: 25.0<br><br>\", \"Concept 73<br>extent (len: 1336): 4, 7, 8, 11, 26, 43, 66, 67, 73, 74,...<br>intent (len: 5): poutcome_not_success, duration_lt_968, duration_lt_253, marital_is_married, balance_lt_1384<br>new extent (len: 16): 2911, 737, 3346, 160, 2417, 3826, 4090, 3315, 3311, 2454,...<br>new intent (len: 0): emptyset<br>mean_y_true: 0.02<br>mean_y_pred: 0.01<br>Metrics<br>\\taccuracy: 0.98<br>\\tprecision: 0.86<br>\\trecall: 0.22<br>\\tneg_precision: 0.98<br>\\tneg_recall: 1.0<br>\\tstab_min_bound: 0.9999847412109375<br>\\tstab_max_bound: 0.9999847412109375<br>\\tlog_stab_min_bound: 16.0<br>\\tlog_stab_max_bound: 16.0<br>\\tlstab_min_bound: 8.0<br><br>\", \"Concept 30<br>extent (len: 1616): 1, 207, 236, 253, 310, 496, 528, 563, 685, 769,...<br>intent (len: 3): month_not_oct, housing_is_yes, marital_is_married<br>new extent (len: 0): emptyset<br>new intent (len: 0): emptyset<br>mean_y_true: 0.07<br>mean_y_pred: 0.04<br>Metrics<br>\\taccuracy: 0.96<br>\\tprecision: 0.91<br>\\trecall: 0.49<br>\\tneg_precision: 0.96<br>\\tneg_recall: 1.0<br>\\tstab_min_bound: 0.9999990463255699<br>\\tstab_max_bound: 0.9999990463256836<br>\\tlog_stab_min_bound: 19.99999982801736<br>\\tlog_stab_max_bound: 20.0<br>\\tlstab_min_bound: 12.0<br><br>\", \"Concept 105<br>extent (len: 1115): 4, 7, 8, 11, 26, 43, 66, 67, 73, 74,...<br>intent (len: 7): poutcome_not_success, duration_lt_968, duration_lt_253, month_not_oct, previous_lt_1, marital_is_married, balance_lt_1384<br>new extent (len: 1115): 1389, 745, 1404, 2677, 1184, 3138, 3201, 2488, 1627, 847,...<br>new intent (len: 0): emptyset<br>mean_y_true: 0.01<br>mean_y_pred: 0.0<br>Metrics<br>\\taccuracy: 0.99<br>\\tprecision: 1.0<br>\\trecall: 0.07<br>\\tneg_precision: 0.99<br>\\tneg_recall: 1.0<br>\\tstab_min_bound: 1.0<br>\\tstab_max_bound: 1.0<br>\\tlog_stab_min_bound: inf<br>\\tlog_stab_max_bound: inf<br>\\tlstab_min_bound: 454.0<br><br>\", \"Concept 58<br>extent (len: 3121): 2, 65, 136, 187, 208, 232, 314, 331, 375, 423,...<br>intent (len: 4): poutcome_not_success, duration_lt_968, month_not_oct, balance_lt_1384<br>new extent (len: 12): 3588, 4465, 798, 3297, 1904, 1391, 849, 765, 4053, 3317,...<br>new intent (len: 0): emptyset<br>mean_y_true: 0.07<br>mean_y_pred: 0.03<br>Metrics<br>\\taccuracy: 0.95<br>\\tprecision: 0.86<br>\\trecall: 0.41<br>\\tneg_precision: 0.96<br>\\tneg_recall: 1.0<br>\\tstab_min_bound: 1.0<br>\\tstab_max_bound: 1.0<br>\\tlog_stab_min_bound: inf<br>\\tlog_stab_max_bound: inf<br>\\tlstab_min_bound: 452.0<br><br>\", \"Concept 8<br>extent (len: 2940): 0, 64, 504, 688, 732, 922, 1196, 2451, 2568, 2687,...<br>intent (len: 2): duration_lt_968, duration_lt_253<br>new extent (len: 0): emptyset<br>new intent (len: 1): duration_lt_253<br>mean_y_true: 0.04<br>mean_y_pred: 0.02<br>Metrics<br>\\taccuracy: 0.97<br>\\tprecision: 0.86<br>\\trecall: 0.42<br>\\tneg_precision: 0.98<br>\\tneg_recall: 1.0<br>\\tstab_min_bound: 0.9999999999999982<br>\\tstab_max_bound: 0.9999999999999982<br>\\tlog_stab_min_bound: 49.0<br>\\tlog_stab_max_bound: 49.0<br>\\tlstab_min_bound: 41.0<br><br>\", \"Concept 26<br>extent (len: 3189): 2, 65, 136, 187, 208, 232, 314, 331, 375, 423,...<br>intent (len: 3): duration_lt_968, month_not_oct, balance_lt_1384<br>new extent (len: 10): 880, 4458, 3684, 684, 3498, 855, 4323, 1485, 2675, 3385<br>new intent (len: 0): emptyset<br>mean_y_true: 0.08<br>mean_y_pred: 0.05<br>Metrics<br>\\taccuracy: 0.95<br>\\tprecision: 0.87<br>\\trecall: 0.5<br>\\tneg_precision: 0.96<br>\\tneg_recall: 0.99<br>\\tstab_min_bound: 1.0<br>\\tstab_max_bound: 1.0<br>\\tlog_stab_min_bound: inf<br>\\tlog_stab_max_bound: inf<br>\\tlstab_min_bound: 60.0<br><br>\", \"Concept 103<br>extent (len: 1004): 4, 7, 8, 11, 26, 43, 66, 67, 73, 74,...<br>intent (len: 7): poutcome_not_success, duration_lt_968, duration_lt_253, month_not_oct, previous_lt_1, housing_is_yes, balance_lt_1384<br>new extent (len: 1004): 225, 2008, 2528, 184, 268, 1420, 2841, 3016, 2488, 1627,...<br>new intent (len: 0): emptyset<br>mean_y_true: 0.01<br>mean_y_pred: 0.0<br>Metrics<br>\\taccuracy: 0.99<br>\\tprecision: 1.0<br>\\trecall: 0.18<br>\\tneg_precision: 0.99<br>\\tneg_recall: 1.0<br>\\tstab_min_bound: 1.0<br>\\tstab_max_bound: 1.0<br>\\tlog_stab_min_bound: inf<br>\\tlog_stab_max_bound: inf<br>\\tlstab_min_bound: 343.0<br><br>\", \"Concept 45<br>extent (len: 1358): 4, 7, 8, 11, 26, 43, 66, 67, 73, 74,...<br>intent (len: 4): duration_lt_968, duration_lt_253, marital_is_married, balance_lt_1384<br>new extent (len: 2): 1124, 338<br>new intent (len: 0): emptyset<br>mean_y_true: 0.03<br>mean_y_pred: 0.01<br>Metrics<br>\\taccuracy: 0.98<br>\\tprecision: 0.82<br>\\trecall: 0.38<br>\\tneg_precision: 0.98<br>\\tneg_recall: 1.0<br>\\tstab_min_bound: 0.9999959468841553<br>\\tstab_max_bound: 0.9999961853027344<br>\\tlog_stab_min_bound: 17.91253715874966<br>\\tlog_stab_max_bound: 18.0<br>\\tlstab_min_bound: 10.0<br><br>\", \"Concept 81<br>extent (len: 1553): 1, 207, 236, 253, 310, 496, 528, 563, 685, 769,...<br>intent (len: 5): poutcome_not_success, duration_lt_968, month_not_oct, housing_is_yes, marital_is_married<br>new extent (len: 23): 1112, 3239, 2540, 1510, 1600, 2037, 4107, 1989, 2745, 3236,...<br>new intent (len: 0): emptyset<br>mean_y_true: 0.06<br>mean_y_pred: 0.02<br>Metrics<br>\\taccuracy: 0.96<br>\\tprecision: 0.97<br>\\trecall: 0.34<br>\\tneg_precision: 0.96<br>\\tneg_recall: 1.0<br>\\tstab_min_bound: 1.0<br>\\tstab_max_bound: 1.0<br>\\tlog_stab_min_bound: inf<br>\\tlog_stab_max_bound: inf<br>\\tlstab_min_bound: 271.0<br><br>\", \"Concept 28<br>extent (len: 2681): 1, 207, 236, 253, 310, 496, 528, 563, 685, 769,...<br>intent (len: 3): duration_lt_968, month_not_oct, marital_is_married<br>new extent (len: 11): 3202, 477, 2049, 4215, 492, 2070, 347, 1980, 3589, 3586,...<br>new intent (len: 0): emptyset<br>mean_y_true: 0.08<br>mean_y_pred: 0.05<br>Metrics<br>\\taccuracy: 0.95<br>\\tprecision: 0.88<br>\\trecall: 0.48<br>\\tneg_precision: 0.95<br>\\tneg_recall: 0.99<br>\\tstab_min_bound: 1.0<br>\\tstab_max_bound: 1.0<br>\\tlog_stab_min_bound: inf<br>\\tlog_stab_max_bound: inf<br>\\tlstab_min_bound: 65.0<br><br>\", \"Concept 65<br>extent (len: 1596): 1, 207, 236, 253, 310, 496, 528, 563, 685, 769,...<br>intent (len: 4): poutcome_not_success, month_not_oct, housing_is_yes, marital_is_married<br>new extent (len: 3): 1719, 823, 2968<br>new intent (len: 0): emptyset<br>mean_y_true: 0.07<br>mean_y_pred: 0.03<br>Metrics<br>\\taccuracy: 0.96<br>\\tprecision: 0.92<br>\\trecall: 0.44<br>\\tneg_precision: 0.96<br>\\tneg_recall: 1.0<br>\\tstab_min_bound: 0.9999999999998863<br>\\tstab_max_bound: 0.9999999999998863<br>\\tlog_stab_min_bound: 43.0<br>\\tlog_stab_max_bound: 43.0<br>\\tlstab_min_bound: 35.0<br><br>\", \"Concept 42<br>extent (len: 3658): 3, 37, 55, 89, 96, 111, 116, 122, 176, 185,...<br>intent (len: 3): poutcome_not_success, month_not_oct, previous_lt_1<br>new extent (len: 4): 2980, 1300, 2140, 3813<br>new intent (len: 0): emptyset<br>mean_y_true: 0.09<br>mean_y_pred: 0.05<br>Metrics<br>\\taccuracy: 0.95<br>\\tprecision: 0.85<br>\\trecall: 0.46<br>\\tneg_precision: 0.95<br>\\tneg_recall: 0.99<br>\\tstab_min_bound: 1.0<br>\\tstab_max_bound: 1.0<br>\\tlog_stab_min_bound: inf<br>\\tlog_stab_max_bound: inf<br>\\tlstab_min_bound: 92.0<br><br>\", \"Concept 56<br>extent (len: 2428): 0, 64, 504, 688, 732, 922, 1196, 2451, 2568, 2687,...<br>intent (len: 4): poutcome_not_success, duration_lt_968, duration_lt_253, previous_lt_1<br>new extent (len: 1): 2022<br>new intent (len: 0): emptyset<br>mean_y_true: 0.03<br>mean_y_pred: 0.01<br>Metrics<br>\\taccuracy: 0.98<br>\\tprecision: 0.89<br>\\trecall: 0.25<br>\\tneg_precision: 0.98<br>\\tneg_recall: 1.0<br>\\tstab_min_bound: 0.9999999998835847<br>\\tstab_max_bound: 0.9999999998835847<br>\\tlog_stab_min_bound: 33.0<br>\\tlog_stab_max_bound: 33.0<br>\\tlstab_min_bound: 25.0<br><br>\", \"Concept 75<br>extent (len: 1633): 1, 207, 236, 253, 310, 496, 528, 563, 685, 769,...<br>intent (len: 5): poutcome_not_success, duration_lt_968, duration_lt_253, month_not_oct, housing_is_yes<br>new extent (len: 29): 647, 1951, 2002, 650, 1478, 3272, 2255, 1136, 2215, 367,...<br>new intent (len: 0): emptyset<br>mean_y_true: 0.02<br>mean_y_pred: 0.0<br>Metrics<br>\\taccuracy: 0.99<br>\\tprecision: 1.0<br>\\trecall: 0.21<br>\\tneg_precision: 0.99<br>\\tneg_recall: 1.0<br>\\tstab_min_bound: 1.0<br>\\tstab_max_bound: 1.0<br>\\tlog_stab_min_bound: inf<br>\\tlog_stab_max_bound: inf<br>\\tlstab_min_bound: 307.0<br><br>\", \"Concept 36<br>extent (len: 4203): 1, 207, 236, 253, 310, 496, 528, 563, 685, 769,...<br>intent (len: 3): poutcome_not_success, duration_lt_968, month_not_oct<br>new extent (len: 13): 2963, 2471, 4054, 4332, 1698, 2104, 3889, 623, 2851, 301,...<br>new intent (len: 0): emptyset<br>mean_y_true: 0.08<br>mean_y_pred: 0.04<br>Metrics<br>\\taccuracy: 0.95<br>\\tprecision: 0.88<br>\\trecall: 0.42<br>\\tneg_precision: 0.95<br>\\tneg_recall: 1.0<br>\\tstab_min_bound: 1.0<br>\\tstab_max_bound: 1.0<br>\\tlog_stab_min_bound: inf<br>\\tlog_stab_max_bound: inf<br>\\tlstab_min_bound: 637.0<br><br>\", \"Concept 54<br>extent (len: 1816): 0, 64, 504, 688, 732, 922, 1196, 2451, 2568, 2687,...<br>intent (len: 4): poutcome_not_success, duration_lt_968, duration_lt_253, marital_is_married<br>new extent (len: 1): 822<br>new intent (len: 0): emptyset<br>mean_y_true: 0.03<br>mean_y_pred: 0.01<br>Metrics<br>\\taccuracy: 0.98<br>\\tprecision: 0.92<br>\\trecall: 0.24<br>\\tneg_precision: 0.98<br>\\tneg_recall: 1.0<br>\\tstab_min_bound: 0.9999999990686774<br>\\tstab_max_bound: 0.9999999990686774<br>\\tlog_stab_min_bound: 30.0<br>\\tlog_stab_max_bound: 30.0<br>\\tlstab_min_bound: 22.0<br><br>\", \"Concept 44<br>extent (len: 2305): 0, 64, 504, 688, 732, 922, 1196, 2451, 2568, 2687,...<br>intent (len: 3): poutcome_not_success, previous_lt_1, marital_is_married<br>new extent (len: 0): emptyset<br>new intent (len: 0): emptyset<br>mean_y_true: 0.07<br>mean_y_pred: 0.04<br>Metrics<br>\\taccuracy: 0.95<br>\\tprecision: 0.82<br>\\trecall: 0.41<br>\\tneg_precision: 0.95<br>\\tneg_recall: 0.99<br>\\tstab_min_bound: 0.9999999995343387<br>\\tstab_max_bound: 0.9999999995343387<br>\\tlog_stab_min_bound: 31.0<br>\\tlog_stab_max_bound: 31.0<br>\\tlstab_min_bound: 23.0<br><br>\", \"Concept 12<br>extent (len: 2044): 4, 7, 8, 11, 26, 43, 66, 67, 73, 74,...<br>intent (len: 2): marital_is_married, balance_lt_1384<br>new extent (len: 0): emptyset<br>new intent (len: 0): emptyset<br>mean_y_true: 0.09<br>mean_y_pred: 0.06<br>Metrics<br>\\taccuracy: 0.95<br>\\tprecision: 0.83<br>\\trecall: 0.57<br>\\tneg_precision: 0.96<br>\\tneg_recall: 0.99<br>\\tstab_min_bound: 0.9999999998835843<br>\\tstab_max_bound: 0.9999999998835847<br>\\tlog_stab_min_bound: 32.99999587242228<br>\\tlog_stab_max_bound: 33.0<br>\\tlstab_min_bound: 25.0<br><br>\", \"Concept 25<br>extent (len: 1992): 4, 7, 8, 11, 26, 43, 66, 67, 73, 74,...<br>intent (len: 3): duration_lt_968, marital_is_married, balance_lt_1384<br>new extent (len: 4): 1186, 1437, 4216, 3250<br>new intent (len: 0): emptyset<br>mean_y_true: 0.08<br>mean_y_pred: 0.05<br>Metrics<br>\\taccuracy: 0.96<br>\\tprecision: 0.87<br>\\trecall: 0.52<br>\\tneg_precision: 0.96<br>\\tneg_recall: 0.99<br>\\tstab_min_bound: 0.9999999997671691<br>\\tstab_max_bound: 0.9999999997671694<br>\\tlog_stab_min_bound: 31.999998624139447<br>\\tlog_stab_max_bound: 32.0<br>\\tlstab_min_bound: 24.0<br><br>\", \"Concept 61<br>extent (len: 3558): 3, 37, 55, 89, 96, 111, 116, 122, 176, 185,...<br>intent (len: 4): poutcome_not_success, duration_lt_968, month_not_oct, previous_lt_1<br>new extent (len: 59): 4211, 1211, 877, 2562, 2010, 2480, 4364, 3820, 3364, 1738,...<br>new intent (len: 0): emptyset<br>mean_y_true: 0.07<br>mean_y_pred: 0.03<br>Metrics<br>\\taccuracy: 0.95<br>\\tprecision: 0.86<br>\\trecall: 0.37<br>\\tneg_precision: 0.95<br>\\tneg_recall: 1.0<br>\\tstab_min_bound: 1.0<br>\\tstab_max_bound: 1.0<br>\\tlog_stab_min_bound: inf<br>\\tlog_stab_max_bound: inf<br>\\tlstab_min_bound: 889.0<br><br>\", \"Concept 78<br>extent (len: 1819): 4, 7, 8, 11, 26, 43, 66, 67, 73, 74,...<br>intent (len: 5): poutcome_not_success, duration_lt_968, duration_lt_253, previous_lt_1, balance_lt_1384<br>new extent (len: 19): 3425, 4090, 4092, 3311, 2340, 160, 2417, 3826, 1088, 2750,...<br>new intent (len: 0): emptyset<br>mean_y_true: 0.02<br>mean_y_pred: 0.01<br>Metrics<br>\\taccuracy: 0.98<br>\\tprecision: 0.91<br>\\trecall: 0.26<br>\\tneg_precision: 0.98<br>\\tneg_recall: 1.0<br>\\tstab_min_bound: 0.9999980926513672<br>\\tstab_max_bound: 0.9999980926513672<br>\\tlog_stab_min_bound: 19.0<br>\\tlog_stab_max_bound: 19.0<br>\\tlstab_min_bound: 11.0<br><br>\", \"Concept 38<br>extent (len: 1991): 4, 7, 8, 11, 26, 43, 66, 67, 73, 74,...<br>intent (len: 3): poutcome_not_success, marital_is_married, balance_lt_1384<br>new extent (len: 0): emptyset<br>new intent (len: 0): emptyset<br>mean_y_true: 0.07<br>mean_y_pred: 0.04<br>Metrics<br>\\taccuracy: 0.96<br>\\tprecision: 0.83<br>\\trecall: 0.48<br>\\tneg_precision: 0.96<br>\\tneg_recall: 0.99<br>\\tstab_min_bound: 0.999999992549419<br>\\tstab_max_bound: 0.9999999925494194<br>\\tlog_stab_min_bound: 26.999999914008676<br>\\tlog_stab_max_bound: 27.0<br>\\tlstab_min_bound: 19.0<br><br>\", \"Concept 46<br>extent (len: 2154): 2, 65, 136, 187, 208, 232, 314, 331, 375, 423,...<br>intent (len: 4): duration_lt_968, duration_lt_253, month_not_oct, balance_lt_1384<br>new extent (len: 7): 3874, 3281, 3835, 1736, 2176, 3370, 2539<br>new intent (len: 0): emptyset<br>mean_y_true: 0.03<br>mean_y_pred: 0.01<br>Metrics<br>\\taccuracy: 0.98<br>\\tprecision: 0.88<br>\\trecall: 0.36<br>\\tneg_precision: 0.98<br>\\tneg_recall: 1.0<br>\\tstab_min_bound: 0.9999999925494194<br>\\tstab_max_bound: 0.9999999925494194<br>\\tlog_stab_min_bound: 27.0<br>\\tlog_stab_max_bound: 27.0<br>\\tlstab_min_bound: 19.0<br><br>\", \"Concept 72<br>extent (len: 1190): 4, 7, 8, 11, 26, 43, 66, 67, 73, 74,...<br>intent (len: 5): duration_lt_968, month_not_oct, housing_is_yes, marital_is_married, balance_lt_1384<br>new extent (len: 14): 1167, 941, 2699, 186, 3843, 1905, 2055, 4433, 1421, 464,...<br>new intent (len: 0): emptyset<br>mean_y_true: 0.05<br>mean_y_pred: 0.02<br>Metrics<br>\\taccuracy: 0.97<br>\\tprecision: 0.92<br>\\trecall: 0.4<br>\\tneg_precision: 0.97<br>\\tneg_recall: 1.0<br>\\tstab_min_bound: 0.99993896484375<br>\\tstab_max_bound: 0.99993896484375<br>\\tlog_stab_min_bound: 14.0<br>\\tlog_stab_max_bound: 14.0<br>\\tlstab_min_bound: 6.0<br><br>\", \"Concept 6<br>extent (len: 4392): 0, 64, 504, 688, 732, 922, 1196, 2451, 2568, 2687,...<br>intent (len: 1): poutcome_not_success<br>new extent (len: 0): emptyset<br>new intent (len: 1): poutcome_not_success<br>mean_y_true: 0.1<br>mean_y_pred: 0.06<br>Metrics<br>\\taccuracy: 0.94<br>\\tprecision: 0.86<br>\\trecall: 0.52<br>\\tneg_precision: 0.95<br>\\tneg_recall: 0.99<br>\\tstab_min_bound: 1.0<br>\\tstab_max_bound: 1.0<br>\\tlog_stab_min_bound: inf<br>\\tlog_stab_max_bound: inf<br>\\tlstab_min_bound: 61.0<br><br>\", \"Concept 21<br>extent (len: 3705): 0, 64, 504, 688, 732, 922, 1196, 2451, 2568, 2687,...<br>intent (len: 2): poutcome_not_success, previous_lt_1<br>new extent (len: 0): emptyset<br>new intent (len: 1): previous_lt_1<br>mean_y_true: 0.09<br>mean_y_pred: 0.05<br>Metrics<br>\\taccuracy: 0.94<br>\\tprecision: 0.84<br>\\trecall: 0.48<br>\\tneg_precision: 0.95<br>\\tneg_recall: 0.99<br>\\tstab_min_bound: 0.9999999999999929<br>\\tstab_max_bound: 0.9999999999999929<br>\\tlog_stab_min_bound: 47.0<br>\\tlog_stab_max_bound: 47.0<br>\\tlstab_min_bound: 39.0<br><br>\", \"Concept 63<br>extent (len: 2250): 0, 64, 504, 688, 732, 922, 1196, 2451, 2568, 2687,...<br>intent (len: 4): poutcome_not_success, duration_lt_968, previous_lt_1, marital_is_married<br>new extent (len: 0): emptyset<br>new intent (len: 0): emptyset<br>mean_y_true: 0.06<br>mean_y_pred: 0.02<br>Metrics<br>\\taccuracy: 0.95<br>\\tprecision: 0.85<br>\\trecall: 0.32<br>\\tneg_precision: 0.96<br>\\tneg_recall: 1.0<br>\\tstab_min_bound: 0.9999999990686774<br>\\tstab_max_bound: 0.9999999990686774<br>\\tlog_stab_min_bound: 30.0<br>\\tlog_stab_max_bound: 30.0<br>\\tlstab_min_bound: 22.0<br><br>\", \"Concept 80<br>extent (len: 1841): 2, 65, 136, 187, 208, 232, 314, 331, 375, 423,...<br>intent (len: 5): poutcome_not_success, duration_lt_968, month_not_oct, housing_is_yes, balance_lt_1384<br>new extent (len: 45): 3951, 881, 4042, 4312, 1863, 3674, 390, 1193, 124, 1345,...<br>new intent (len: 0): emptyset<br>mean_y_true: 0.06<br>mean_y_pred: 0.02<br>Metrics<br>\\taccuracy: 0.96<br>\\tprecision: 0.91<br>\\trecall: 0.31<br>\\tneg_precision: 0.96<br>\\tneg_recall: 1.0<br>\\tstab_min_bound: 1.0<br>\\tstab_max_bound: 1.0<br>\\tlog_stab_min_bound: inf<br>\\tlog_stab_max_bound: inf<br>\\tlstab_min_bound: 331.0<br><br>\", \"Concept 64<br>extent (len: 1898): 2, 65, 136, 187, 208, 232, 314, 331, 375, 423,...<br>intent (len: 4): poutcome_not_success, month_not_oct, housing_is_yes, balance_lt_1384<br>new extent (len: 7): 2653, 203, 2013, 1411, 3379, 3141, 2714<br>new intent (len: 0): emptyset<br>mean_y_true: 0.07<br>mean_y_pred: 0.03<br>Metrics<br>\\taccuracy: 0.96<br>\\tprecision: 0.88<br>\\trecall: 0.42<br>\\tneg_precision: 0.96<br>\\tneg_recall: 1.0<br>\\tstab_min_bound: 1.0<br>\\tstab_max_bound: 1.0<br>\\tlog_stab_min_bound: inf<br>\\tlog_stab_max_bound: inf<br>\\tlstab_min_bound: 49.0<br><br>\", \"Concept 76<br>extent (len: 1786): 1, 207, 236, 253, 310, 496, 528, 563, 685, 769,...<br>intent (len: 5): poutcome_not_success, duration_lt_968, duration_lt_253, month_not_oct, marital_is_married<br>new extent (len: 23): 629, 2776, 3377, 1805, 2832, 1547, 1122, 1591, 1077, 631,...<br>new intent (len: 0): emptyset<br>mean_y_true: 0.02<br>mean_y_pred: 0.0<br>Metrics<br>\\taccuracy: 0.98<br>\\tprecision: 1.0<br>\\trecall: 0.19<br>\\tneg_precision: 0.98<br>\\tneg_recall: 1.0<br>\\tstab_min_bound: 1.0<br>\\tstab_max_bound: 1.0<br>\\tlog_stab_min_bound: inf<br>\\tlog_stab_max_bound: inf<br>\\tlstab_min_bound: 265.0<br><br>\", \"Concept 4<br>extent (len: 2797): 0, 64, 504, 688, 732, 922, 1196, 2451, 2568, 2687,...<br>intent (len: 1): marital_is_married<br>new extent (len: 0): emptyset<br>new intent (len: 1): marital_is_married<br>mean_y_true: 0.1<br>mean_y_pred: 0.06<br>Metrics<br>\\taccuracy: 0.95<br>\\tprecision: 0.84<br>\\trecall: 0.55<br>\\tneg_precision: 0.95<br>\\tneg_recall: 0.99<br>\\tstab_min_bound: 0.9999999999999991<br>\\tstab_max_bound: 0.9999999999999991<br>\\tlog_stab_min_bound: 50.0<br>\\tlog_stab_max_bound: 50.0<br>\\tlstab_min_bound: 42.0<br><br>\", \"Concept 20<br>extent (len: 4323): 1, 207, 236, 253, 310, 496, 528, 563, 685, 769,...<br>intent (len: 2): poutcome_not_success, month_not_oct<br>new extent (len: 0): emptyset<br>new intent (len: 0): emptyset<br>mean_y_true: 0.09<br>mean_y_pred: 0.05<br>Metrics<br>\\taccuracy: 0.95<br>\\tprecision: 0.87<br>\\trecall: 0.5<br>\\tneg_precision: 0.95<br>\\tneg_recall: 0.99<br>\\tstab_min_bound: 1.0<br>\\tstab_max_bound: 1.0<br>\\tlog_stab_min_bound: inf<br>\\tlog_stab_max_bound: inf<br>\\tlstab_min_bound: 112.0<br><br>\", \"Concept 49<br>extent (len: 1863): 2, 65, 136, 187, 208, 232, 314, 331, 375, 423,...<br>intent (len: 4): duration_lt_968, month_not_oct, housing_is_yes, balance_lt_1384<br>new extent (len: 8): 3714, 3281, 3890, 200, 4459, 1736, 2176, 233<br>new intent (len: 0): emptyset<br>mean_y_true: 0.06<br>mean_y_pred: 0.03<br>Metrics<br>\\taccuracy: 0.96<br>\\tprecision: 0.92<br>\\trecall: 0.39<br>\\tneg_precision: 0.96<br>\\tneg_recall: 1.0<br>\\tstab_min_bound: 0.9999997615814209<br>\\tstab_max_bound: 0.9999997615814209<br>\\tlog_stab_min_bound: 22.0<br>\\tlog_stab_max_bound: 22.0<br>\\tlstab_min_bound: 14.0<br><br>\", \"Concept 74<br>extent (len: 2127): 2, 65, 136, 187, 208, 232, 314, 331, 375, 423,...<br>intent (len: 5): poutcome_not_success, duration_lt_968, duration_lt_253, month_not_oct, balance_lt_1384<br>new extent (len: 39): 3682, 1875, 3869, 5, 1915, 2915, 2900, 2242, 651, 891,...<br>new intent (len: 0): emptyset<br>mean_y_true: 0.02<br>mean_y_pred: 0.0<br>Metrics<br>\\taccuracy: 0.98<br>\\tprecision: 1.0<br>\\trecall: 0.21<br>\\tneg_precision: 0.98<br>\\tneg_recall: 1.0<br>\\tstab_min_bound: 1.0<br>\\tstab_max_bound: 1.0<br>\\tlog_stab_min_bound: inf<br>\\tlog_stab_max_bound: inf<br>\\tlstab_min_bound: 319.0<br><br>\", \"Concept 31<br>extent (len: 2011): 4, 7, 8, 11, 26, 43, 66, 67, 73, 74,...<br>intent (len: 3): month_not_oct, marital_is_married, balance_lt_1384<br>new extent (len: 1): 328<br>new intent (len: 0): emptyset<br>mean_y_true: 0.08<br>mean_y_pred: 0.05<br>Metrics<br>\\taccuracy: 0.96<br>\\tprecision: 0.85<br>\\trecall: 0.54<br>\\tneg_precision: 0.96<br>\\tneg_recall: 0.99<br>\\tstab_min_bound: 0.9999999999999925<br>\\tstab_max_bound: 0.9999999999999929<br>\\tlog_stab_min_bound: 46.91253715874966<br>\\tlog_stab_max_bound: 47.0<br>\\tlstab_min_bound: 39.0<br><br>\", \"Concept 48<br>extent (len: 1821): 1, 207, 236, 253, 310, 496, 528, 563, 685, 769,...<br>intent (len: 4): duration_lt_968, duration_lt_253, month_not_oct, marital_is_married<br>new extent (len: 15): 49, 3005, 199, 619, 3799, 2583, 2992, 2969, 602, 3978,...<br>new intent (len: 0): emptyset<br>mean_y_true: 0.03<br>mean_y_pred: 0.01<br>Metrics<br>\\taccuracy: 0.98<br>\\tprecision: 0.85<br>\\trecall: 0.38<br>\\tneg_precision: 0.98<br>\\tneg_recall: 1.0<br>\\tstab_min_bound: 0.9999999999708962<br>\\tstab_max_bound: 0.9999999999708962<br>\\tlog_stab_min_bound: 35.0<br>\\tlog_stab_max_bound: 35.0<br>\\tlstab_min_bound: 27.0<br><br>\", \"Concept 70<br>extent (len: 1693): 4, 7, 8, 11, 26, 43, 66, 67, 73, 74,...<br>intent (len: 4): poutcome_not_success, previous_lt_1, marital_is_married, balance_lt_1384<br>new extent (len: 1): 1903<br>new intent (len: 0): emptyset<br>mean_y_true: 0.06<br>mean_y_pred: 0.04<br>Metrics<br>\\taccuracy: 0.96<br>\\tprecision: 0.79<br>\\trecall: 0.45<br>\\tneg_precision: 0.96<br>\\tneg_recall: 0.99<br>\\tstab_min_bound: 0.9999961853026207<br>\\tstab_max_bound: 0.9999961853027344<br>\\tlog_stab_min_bound: 17.999999957004338<br>\\tlog_stab_max_bound: 18.0<br>\\tlstab_min_bound: 10.0<br><br>\", \"Concept 79<br>extent (len: 1538): 0, 64, 504, 688, 732, 922, 1196, 2451, 2568, 2687,...<br>intent (len: 5): poutcome_not_success, duration_lt_968, duration_lt_253, previous_lt_1, marital_is_married<br>new extent (len: 25): 4090, 3311, 2340, 688, 3700, 2451, 0, 732, 922, 2568,...<br>new intent (len: 0): emptyset<br>mean_y_true: 0.02<br>mean_y_pred: 0.01<br>Metrics<br>\\taccuracy: 0.98<br>\\tprecision: 0.89<br>\\trecall: 0.22<br>\\tneg_precision: 0.98<br>\\tneg_recall: 1.0<br>\\tstab_min_bound: 0.9999999701976776<br>\\tstab_max_bound: 0.9999999701976776<br>\\tlog_stab_min_bound: 25.0<br>\\tlog_stab_max_bound: 25.0<br>\\tlstab_min_bound: 17.0<br><br>\", \"Concept 55<br>extent (len: 2840): 1, 207, 236, 253, 310, 496, 528, 563, 685, 769,...<br>intent (len: 4): poutcome_not_success, duration_lt_968, duration_lt_253, month_not_oct<br>new extent (len: 21): 3765, 1764, 2529, 4055, 3656, 1870, 4152, 1355, 713, 1276,...<br>new intent (len: 0): emptyset<br>mean_y_true: 0.03<br>mean_y_pred: 0.01<br>Metrics<br>\\taccuracy: 0.98<br>\\tprecision: 1.0<br>\\trecall: 0.23<br>\\tneg_precision: 0.98<br>\\tneg_recall: 1.0<br>\\tstab_min_bound: 1.0<br>\\tstab_max_bound: 1.0<br>\\tlog_stab_min_bound: inf<br>\\tlog_stab_max_bound: inf<br>\\tlstab_min_bound: 437.0<br><br>\", \"Concept 71<br>extent (len: 1340): 4, 7, 8, 11, 26, 43, 66, 67, 73, 74,...<br>intent (len: 5): duration_lt_968, duration_lt_253, month_not_oct, marital_is_married, balance_lt_1384<br>new extent (len: 20): 4186, 2266, 3751, 4224, 1421, 289, 323, 1083, 1561, 1181,...<br>new intent (len: 0): emptyset<br>mean_y_true: 0.02<br>mean_y_pred: 0.01<br>Metrics<br>\\taccuracy: 0.98<br>\\tprecision: 0.85<br>\\trecall: 0.35<br>\\tneg_precision: 0.98<br>\\tneg_recall: 1.0<br>\\tstab_min_bound: 0.9999990463256836<br>\\tstab_max_bound: 0.9999990463256836<br>\\tlog_stab_min_bound: 20.0<br>\\tlog_stab_max_bound: 20.0<br>\\tlstab_min_bound: 12.0<br><br>\", \"Concept 11<br>extent (len: 4318): 1, 207, 236, 253, 310, 496, 528, 563, 685, 769,...<br>intent (len: 2): duration_lt_968, month_not_oct<br>new extent (len: 6): 1166, 110, 98, 1754, 3176, 4093<br>new intent (len: 0): emptyset<br>mean_y_true: 0.1<br>mean_y_pred: 0.06<br>Metrics<br>\\taccuracy: 0.95<br>\\tprecision: 0.88<br>\\trecall: 0.51<br>\\tneg_precision: 0.95<br>\\tneg_recall: 0.99<br>\\tstab_min_bound: 1.0<br>\\tstab_max_bound: 1.0<br>\\tlog_stab_min_bound: inf<br>\\tlog_stab_max_bound: inf<br>\\tlstab_min_bound: 107.0<br><br>\", \"Concept 39<br>extent (len: 3216): 2, 65, 136, 187, 208, 232, 314, 331, 375, 423,...<br>intent (len: 3): poutcome_not_success, month_not_oct, balance_lt_1384<br>new extent (len: 0): emptyset<br>new intent (len: 0): emptyset<br>mean_y_true: 0.08<br>mean_y_pred: 0.05<br>Metrics<br>\\taccuracy: 0.95<br>\\tprecision: 0.84<br>\\trecall: 0.51<br>\\tneg_precision: 0.96<br>\\tneg_recall: 0.99<br>\\tstab_min_bound: 1.0<br>\\tstab_max_bound: 1.0<br>\\tlog_stab_min_bound: inf<br>\\tlog_stab_max_bound: inf<br>\\tlstab_min_bound: 87.0<br><br>\", \"Concept 62<br>extent (len: 2688): 4, 7, 8, 11, 26, 43, 66, 67, 73, 74,...<br>intent (len: 4): poutcome_not_success, duration_lt_968, previous_lt_1, balance_lt_1384<br>new extent (len: 3): 803, 2685, 2821<br>new intent (len: 0): emptyset<br>mean_y_true: 0.07<br>mean_y_pred: 0.03<br>Metrics<br>\\taccuracy: 0.95<br>\\tprecision: 0.83<br>\\trecall: 0.4<br>\\tneg_precision: 0.96<br>\\tneg_recall: 0.99<br>\\tstab_min_bound: 0.9999999925494194<br>\\tstab_max_bound: 0.9999999925494194<br>\\tlog_stab_min_bound: 27.0<br>\\tlog_stab_max_bound: 27.0<br>\\tlstab_min_bound: 19.0<br><br>\", \"Concept 82<br>extent (len: 1914): 4, 7, 8, 11, 26, 43, 66, 67, 73, 74,...<br>intent (len: 5): poutcome_not_success, duration_lt_968, month_not_oct, marital_is_married, balance_lt_1384<br>new extent (len: 23): 1349, 1956, 2486, 1379, 83, 2692, 3205, 4290, 1320, 3314,...<br>new intent (len: 0): emptyset<br>mean_y_true: 0.06<br>mean_y_pred: 0.02<br>Metrics<br>\\taccuracy: 0.96<br>\\tprecision: 0.91<br>\\trecall: 0.36<br>\\tneg_precision: 0.96<br>\\tneg_recall: 1.0<br>\\tstab_min_bound: 1.0<br>\\tstab_max_bound: 1.0<br>\\tlog_stab_min_bound: inf<br>\\tlog_stab_max_bound: inf<br>\\tlstab_min_bound: 273.0<br><br>\", \"Concept 57<br>extent (len: 1940): 4, 7, 8, 11, 26, 43, 66, 67, 73, 74,...<br>intent (len: 4): poutcome_not_success, duration_lt_968, marital_is_married, balance_lt_1384<br>new extent (len: 5): 1111, 2433, 4337, 4413, 4281<br>new intent (len: 0): emptyset<br>mean_y_true: 0.06<br>mean_y_pred: 0.03<br>Metrics<br>\\taccuracy: 0.96<br>\\tprecision: 0.89<br>\\trecall: 0.4<br>\\tneg_precision: 0.96<br>\\tneg_recall: 1.0<br>\\tstab_min_bound: 0.9999999850988388<br>\\tstab_max_bound: 0.9999999850988388<br>\\tlog_stab_min_bound: 26.0<br>\\tlog_stab_max_bound: 26.0<br>\\tlstab_min_bound: 18.0<br><br>\", \"Concept 77<br>extent (len: 2395): 3, 37, 55, 89, 96, 111, 116, 122, 176, 185,...<br>intent (len: 5): poutcome_not_success, duration_lt_968, duration_lt_253, month_not_oct, previous_lt_1<br>new extent (len: 82): 2998, 3288, 1574, 1854, 1277, 3461, 2522, 1164, 4464, 4183,...<br>new intent (len: 0): emptyset<br>mean_y_true: 0.02<br>mean_y_pred: 0.0<br>Metrics<br>\\taccuracy: 0.98<br>\\tprecision: 1.0<br>\\trecall: 0.19<br>\\tneg_precision: 0.98<br>\\tneg_recall: 1.0<br>\\tstab_min_bound: 1.0<br>\\tstab_max_bound: 1.0<br>\\tlog_stab_min_bound: inf<br>\\tlog_stab_max_bound: inf<br>\\tlstab_min_bound: 587.0<br><br>\", \"Concept 29<br>extent (len: 1921): 2, 65, 136, 187, 208, 232, 314, 331, 375, 423,...<br>intent (len: 3): month_not_oct, housing_is_yes, balance_lt_1384<br>new extent (len: 1): 4232<br>new intent (len: 0): emptyset<br>mean_y_true: 0.08<br>mean_y_pred: 0.04<br>Metrics<br>\\taccuracy: 0.96<br>\\tprecision: 0.88<br>\\trecall: 0.48<br>\\tneg_precision: 0.96<br>\\tneg_recall: 0.99<br>\\tstab_min_bound: 0.9999998807907104<br>\\tstab_max_bound: 0.9999998807907104<br>\\tlog_stab_min_bound: 23.0<br>\\tlog_stab_max_bound: 23.0<br>\\tlstab_min_bound: 15.0<br><br>\", \"Concept 43<br>extent (len: 2769): 4, 7, 8, 11, 26, 43, 66, 67, 73, 74,...<br>intent (len: 3): poutcome_not_success, previous_lt_1, balance_lt_1384<br>new extent (len: 0): emptyset<br>new intent (len: 0): emptyset<br>mean_y_true: 0.08<br>mean_y_pred: 0.05<br>Metrics<br>\\taccuracy: 0.95<br>\\tprecision: 0.82<br>\\trecall: 0.51<br>\\tneg_precision: 0.96<br>\\tneg_recall: 0.99<br>\\tstab_min_bound: 0.9999999962747097<br>\\tstab_max_bound: 0.9999999962747097<br>\\tlog_stab_min_bound: 28.0<br>\\tlog_stab_max_bound: 28.0<br>\\tlstab_min_bound: 20.0<br><br>\", \"Concept 7<br>extent (len: 3239): 2, 65, 136, 187, 208, 232, 314, 331, 375, 423,...<br>intent (len: 2): duration_lt_968, balance_lt_1384<br>new extent (len: 1): 4009<br>new intent (len: 0): emptyset<br>mean_y_true: 0.09<br>mean_y_pred: 0.05<br>Metrics<br>\\taccuracy: 0.95<br>\\tprecision: 0.86<br>\\trecall: 0.53<br>\\tneg_precision: 0.96<br>\\tneg_recall: 0.99<br>\\tstab_min_bound: 0.9999999999999991<br>\\tstab_max_bound: 0.9999999999999991<br>\\tlog_stab_min_bound: 50.0<br>\\tlog_stab_max_bound: 50.0<br>\\tlstab_min_bound: 42.0<br><br>\", \"Concept 24<br>extent (len: 2891): 1, 207, 236, 253, 310, 496, 528, 563, 685, 769,...<br>intent (len: 3): duration_lt_968, duration_lt_253, month_not_oct<br>new extent (len: 4): 540, 397, 1216, 3088<br>new intent (len: 0): emptyset<br>mean_y_true: 0.04<br>mean_y_pred: 0.02<br>Metrics<br>\\taccuracy: 0.98<br>\\tprecision: 0.89<br>\\trecall: 0.38<br>\\tneg_precision: 0.98<br>\\tneg_recall: 1.0<br>\\tstab_min_bound: 0.9999999999999996<br>\\tstab_max_bound: 0.9999999999999996<br>\\tlog_stab_min_bound: 51.0<br>\\tlog_stab_max_bound: 51.0<br>\\tlstab_min_bound: 43.0<br><br>\", \"Concept 53<br>extent (len: 2153): 2, 65, 136, 187, 208, 232, 314, 331, 375, 423,...<br>intent (len: 4): poutcome_not_success, duration_lt_968, duration_lt_253, balance_lt_1384<br>new extent (len: 3): 858, 2213, 97<br>new intent (len: 0): emptyset<br>mean_y_true: 0.03<br>mean_y_pred: 0.01<br>Metrics<br>\\taccuracy: 0.98<br>\\tprecision: 0.94<br>\\trecall: 0.27<br>\\tneg_precision: 0.98<br>\\tneg_recall: 1.0<br>\\tstab_min_bound: 0.9999999850988388<br>\\tstab_max_bound: 0.9999999850988388<br>\\tlog_stab_min_bound: 26.0<br>\\tlog_stab_max_bound: 26.0<br>\\tlstab_min_bound: 18.0<br><br>\", \"Concept 69<br>extent (len: 2274): 3, 37, 55, 89, 96, 111, 116, 122, 176, 185,...<br>intent (len: 4): poutcome_not_success, month_not_oct, previous_lt_1, marital_is_married<br>new extent (len: 4): 3873, 3968, 3673, 2217<br>new intent (len: 0): emptyset<br>mean_y_true: 0.07<br>mean_y_pred: 0.03<br>Metrics<br>\\taccuracy: 0.95<br>\\tprecision: 0.82<br>\\trecall: 0.38<br>\\tneg_precision: 0.96<br>\\tneg_recall: 0.99<br>\\tstab_min_bound: 1.0<br>\\tstab_max_bound: 1.0<br>\\tlog_stab_min_bound: inf<br>\\tlog_stab_max_bound: inf<br>\\tlstab_min_bound: 46.0<br><br>\", \"Concept 2<br>extent (len: 4397): 0, 64, 504, 688, 732, 922, 1196, 2451, 2568, 2687,...<br>intent (len: 1): duration_lt_968<br>new extent (len: 0): emptyset<br>new intent (len: 1): duration_lt_968<br>mean_y_true: 0.1<br>mean_y_pred: 0.06<br>Metrics<br>\\taccuracy: 0.94<br>\\tprecision: 0.87<br>\\trecall: 0.54<br>\\tneg_precision: 0.95<br>\\tneg_recall: 0.99<br>\\tstab_min_bound: 1.0<br>\\tstab_max_bound: 1.0<br>\\tlog_stab_min_bound: inf<br>\\tlog_stab_max_bound: inf<br>\\tlstab_min_bound: 71.0<br><br>\", \"Concept 37<br>extent (len: 3604): 0, 64, 504, 688, 732, 922, 1196, 2451, 2568, 2687,...<br>intent (len: 3): poutcome_not_success, duration_lt_968, previous_lt_1<br>new extent (len: 5): 3881, 1672, 2014, 2421, 1113<br>new intent (len: 0): emptyset<br>mean_y_true: 0.08<br>mean_y_pred: 0.04<br>Metrics<br>\\taccuracy: 0.95<br>\\tprecision: 0.85<br>\\trecall: 0.4<br>\\tneg_precision: 0.95<br>\\tneg_recall: 0.99<br>\\tstab_min_bound: 0.9999999999999858<br>\\tstab_max_bound: 0.9999999999999858<br>\\tlog_stab_min_bound: 46.0<br>\\tlog_stab_max_bound: 46.0<br>\\tlstab_min_bound: 38.0<br><br>\", \"Concept 85<br>extent (len: 2220): 3, 37, 55, 89, 96, 111, 116, 122, 176, 185,...<br>intent (len: 5): poutcome_not_success, duration_lt_968, month_not_oct, previous_lt_1, marital_is_married<br>new extent (len: 79): 4165, 4256, 3006, 3993, 1942, 2420, 3942, 1315, 1773, 3686,...<br>new intent (len: 0): emptyset<br>mean_y_true: 0.06<br>mean_y_pred: 0.02<br>Metrics<br>\\taccuracy: 0.95<br>\\tprecision: 0.86<br>\\trecall: 0.29<br>\\tneg_precision: 0.96<br>\\tneg_recall: 1.0<br>\\tstab_min_bound: 1.0<br>\\tstab_max_bound: 1.0<br>\\tlog_stab_min_bound: inf<br>\\tlog_stab_max_bound: inf<br>\\tlstab_min_bound: 579.0<br><br>\", \"Concept 9<br>extent (len: 2484): 1, 207, 236, 253, 310, 496, 528, 563, 685, 769,...<br>intent (len: 2): duration_lt_968, housing_is_yes<br>new extent (len: 1): 4229<br>new intent (len: 0): emptyset<br>mean_y_true: 0.07<br>mean_y_pred: 0.03<br>Metrics<br>\\taccuracy: 0.96<br>\\tprecision: 0.92<br>\\trecall: 0.44<br>\\tneg_precision: 0.96<br>\\tneg_recall: 1.0<br>\\tstab_min_bound: 0.999969482420056<br>\\tstab_max_bound: 0.999969482421875<br>\\tlog_stab_min_bound: 14.999999914008677<br>\\tlog_stab_max_bound: 15.0<br>\\tlstab_min_bound: 7.0<br><br>\", \"Concept 34<br>extent (len: 2445): 1, 207, 236, 253, 310, 496, 528, 563, 685, 769,...<br>intent (len: 3): poutcome_not_success, duration_lt_968, housing_is_yes<br>new extent (len: 14): 2911, 3743, 3346, 1021, 3527, 3826, 61, 4423, 3315, 2773,...<br>new intent (len: 0): emptyset<br>mean_y_true: 0.07<br>mean_y_pred: 0.03<br>Metrics<br>\\taccuracy: 0.96<br>\\tprecision: 0.92<br>\\trecall: 0.38<br>\\tneg_precision: 0.96<br>\\tneg_recall: 1.0<br>\\tstab_min_bound: 0.99993896484375<br>\\tstab_max_bound: 0.99993896484375<br>\\tlog_stab_min_bound: 14.0<br>\\tlog_stab_max_bound: 14.0<br>\\tlstab_min_bound: 6.0<br><br>\", \"Concept 60<br>extent (len: 2608): 1, 207, 236, 253, 310, 496, 528, 563, 685, 769,...<br>intent (len: 4): poutcome_not_success, duration_lt_968, month_not_oct, marital_is_married<br>new extent (len: 16): 318, 2032, 276, 3157, 4262, 3446, 1312, 3419, 4261, 3483,...<br>new intent (len: 0): emptyset<br>mean_y_true: 0.07<br>mean_y_pred: 0.03<br>Metrics<br>\\taccuracy: 0.95<br>\\tprecision: 0.89<br>\\trecall: 0.35<br>\\tneg_precision: 0.95<br>\\tneg_recall: 1.0<br>\\tstab_min_bound: 1.0<br>\\tstab_max_bound: 1.0<br>\\tlog_stab_min_bound: inf<br>\\tlog_stab_max_bound: inf<br>\\tlstab_min_bound: 380.0<br><br>\", \"Concept 3<br>extent (len: 2559): 1, 207, 236, 253, 310, 496, 528, 563, 685, 769,...<br>intent (len: 1): housing_is_yes<br>new extent (len: 0): emptyset<br>new intent (len: 1): housing_is_yes<br>mean_y_true: 0.09<br>mean_y_pred: 0.05<br>Metrics<br>\\taccuracy: 0.95<br>\\tprecision: 0.9<br>\\trecall: 0.5<br>\\tneg_precision: 0.96<br>\\tneg_recall: 0.99<br>\\tstab_min_bound: 0.9999694824209655<br>\\tstab_max_bound: 0.999969482421875<br>\\tlog_stab_min_bound: 14.999999957004338<br>\\tlog_stab_max_bound: 15.0<br>\\tlstab_min_bound: 7.0<br><br>\", \"Concept 22<br>extent (len: 2184): 2, 65, 136, 187, 208, 232, 314, 331, 375, 423,...<br>intent (len: 3): duration_lt_968, duration_lt_253, balance_lt_1384<br>new extent (len: 2): 4229, 3243<br>new intent (len: 0): emptyset<br>mean_y_true: 0.03<br>mean_y_pred: 0.02<br>Metrics<br>\\taccuracy: 0.98<br>\\tprecision: 0.85<br>\\trecall: 0.41<br>\\tneg_precision: 0.98<br>\\tneg_recall: 1.0<br>\\tstab_min_bound: 0.9999999986030161<br>\\tstab_max_bound: 0.9999999990686774<br>\\tlog_stab_min_bound: 29.415037499278842<br>\\tlog_stab_max_bound: 30.0<br>\\tlstab_min_bound: 22.0<br><br>\", \"Concept 51<br>extent (len: 1960): 4, 7, 8, 11, 26, 43, 66, 67, 73, 74,...<br>intent (len: 4): duration_lt_968, month_not_oct, marital_is_married, balance_lt_1384<br>new extent (len: 15): 156, 4159, 1060, 1048, 3695, 2449, 658, 4160, 70, 2122,...<br>new intent (len: 0): emptyset<br>mean_y_true: 0.07<br>mean_y_pred: 0.04<br>Metrics<br>\\taccuracy: 0.96<br>\\tprecision: 0.89<br>\\trecall: 0.49<br>\\tneg_precision: 0.96<br>\\tneg_recall: 1.0<br>\\tstab_min_bound: 0.9999999999999858<br>\\tstab_max_bound: 0.9999999999999858<br>\\tlog_stab_min_bound: 46.0<br>\\tlog_stab_max_bound: 46.0<br>\\tlstab_min_bound: 38.0<br><br>\", \"Concept 67<br>extent (len: 2741): 4, 7, 8, 11, 26, 43, 66, 67, 73, 74,...<br>intent (len: 4): poutcome_not_success, month_not_oct, previous_lt_1, balance_lt_1384<br>new extent (len: 20): 1855, 3614, 2375, 259, 3305, 1459, 50, 1504, 1991, 1914,...<br>new intent (len: 0): emptyset<br>mean_y_true: 0.08<br>mean_y_pred: 0.05<br>Metrics<br>\\taccuracy: 0.95<br>\\tprecision: 0.83<br>\\trecall: 0.49<br>\\tneg_precision: 0.96<br>\\tneg_recall: 0.99<br>\\tstab_min_bound: 1.0<br>\\tstab_max_bound: 1.0<br>\\tlog_stab_min_bound: inf<br>\\tlog_stab_max_bound: inf<br>\\tlstab_min_bound: 72.0<br><br>\", \"Concept 41<br>extent (len: 2673): 1, 207, 236, 253, 310, 496, 528, 563, 685, 769,...<br>intent (len: 3): poutcome_not_success, month_not_oct, marital_is_married<br>new extent (len: 0): emptyset<br>new intent (len: 0): emptyset<br>mean_y_true: 0.08<br>mean_y_pred: 0.04<br>Metrics<br>\\taccuracy: 0.95<br>\\tprecision: 0.85<br>\\trecall: 0.43<br>\\tneg_precision: 0.95<br>\\tneg_recall: 0.99<br>\\tstab_min_bound: 1.0<br>\\tstab_max_bound: 1.0<br>\\tlog_stab_min_bound: inf<br>\\tlog_stab_max_bound: inf<br>\\tlstab_min_bound: 57.0<br><br>\", \"Concept 47<br>extent (len: 1649): 1, 207, 236, 253, 310, 496, 528, 563, 685, 769,...<br>intent (len: 4): duration_lt_968, duration_lt_253, month_not_oct, housing_is_yes<br>new extent (len: 16): 49, 1167, 2188, 3281, 4309, 2380, 3799, 602, 3593, 2992,...<br>new intent (len: 0): emptyset<br>mean_y_true: 0.02<br>mean_y_pred: 0.01<br>Metrics<br>\\taccuracy: 0.99<br>\\tprecision: 0.91<br>\\trecall: 0.3<br>\\tneg_precision: 0.99<br>\\tneg_recall: 1.0<br>\\tstab_min_bound: 0.9999847412109375<br>\\tstab_max_bound: 0.9999847412109375<br>\\tlog_stab_min_bound: 16.0<br>\\tlog_stab_max_bound: 16.0<br>\\tlstab_min_bound: 8.0<br><br>\", \"Concept 84<br>extent (len: 1980): 3, 37, 55, 89, 96, 111, 116, 122, 176, 185,...<br>intent (len: 5): poutcome_not_success, duration_lt_968, month_not_oct, previous_lt_1, housing_is_yes<br>new extent (len: 54): 1407, 2636, 258, 1041, 1394, 1119, 2752, 1533, 1945, 2786,...<br>new intent (len: 0): emptyset<br>mean_y_true: 0.06<br>mean_y_pred: 0.02<br>Metrics<br>\\taccuracy: 0.96<br>\\tprecision: 0.94<br>\\trecall: 0.3<br>\\tneg_precision: 0.96<br>\\tneg_recall: 1.0<br>\\tstab_min_bound: 1.0<br>\\tstab_max_bound: 1.0<br>\\tlog_stab_min_bound: inf<br>\\tlog_stab_max_bound: inf<br>\\tlstab_min_bound: 470.0<br><br>\", \"Concept 32<br>extent (len: 3162): 2, 65, 136, 187, 208, 232, 314, 331, 375, 423,...<br>intent (len: 3): poutcome_not_success, duration_lt_968, balance_lt_1384<br>new extent (len: 2): 164, 3743<br>new intent (len: 0): emptyset<br>mean_y_true: 0.07<br>mean_y_pred: 0.04<br>Metrics<br>\\taccuracy: 0.95<br>\\tprecision: 0.86<br>\\trecall: 0.44<br>\\tneg_precision: 0.96<br>\\tneg_recall: 0.99<br>\\tstab_min_bound: 0.9999999999995453<br>\\tstab_max_bound: 0.9999999999995453<br>\\tlog_stab_min_bound: 41.0<br>\\tlog_stab_max_bound: 41.0<br>\\tlstab_min_bound: 33.0<br><br>\", \"Concept 66<br>extent (len: 1964): 4, 7, 8, 11, 26, 43, 66, 67, 73, 74,...<br>intent (len: 4): poutcome_not_success, month_not_oct, marital_is_married, balance_lt_1384<br>new extent (len: 3): 3463, 1912, 665<br>new intent (len: 0): emptyset<br>mean_y_true: 0.07<br>mean_y_pred: 0.04<br>Metrics<br>\\taccuracy: 0.96<br>\\tprecision: 0.83<br>\\trecall: 0.45<br>\\tneg_precision: 0.96<br>\\tneg_recall: 0.99<br>\\tstab_min_bound: 0.9999999999999991<br>\\tstab_max_bound: 0.9999999999999991<br>\\tlog_stab_min_bound: 50.0<br>\\tlog_stab_max_bound: 50.0<br>\\tlstab_min_bound: 42.0<br><br>\", \"Concept 40<br>extent (len: 2505): 1, 207, 236, 253, 310, 496, 528, 563, 685, 769,...<br>intent (len: 3): poutcome_not_success, month_not_oct, housing_is_yes<br>new extent (len: 2): 4447, 3943<br>new intent (len: 0): emptyset<br>mean_y_true: 0.08<br>mean_y_pred: 0.04<br>Metrics<br>\\taccuracy: 0.96<br>\\tprecision: 0.92<br>\\trecall: 0.46<br>\\tneg_precision: 0.96<br>\\tneg_recall: 1.0<br>\\tstab_min_bound: 1.0<br>\\tstab_max_bound: 1.0<br>\\tlog_stab_min_bound: inf<br>\\tlog_stab_max_bound: inf<br>\\tlstab_min_bound: 66.0<br><br>\", \"Concept 52<br>extent (len: 1222): 4, 7, 8, 11, 26, 43, 66, 67, 73, 74,...<br>intent (len: 4): month_not_oct, housing_is_yes, marital_is_married, balance_lt_1384<br>new extent (len: 0): emptyset<br>new intent (len: 0): emptyset<br>mean_y_true: 0.06<br>mean_y_pred: 0.03<br>Metrics<br>\\taccuracy: 0.96<br>\\tprecision: 0.88<br>\\trecall: 0.47<br>\\tneg_precision: 0.97<br>\\tneg_recall: 1.0<br>\\tstab_min_bound: 0.9999389646109194<br>\\tstab_max_bound: 0.99993896484375<br>\\tlog_stab_min_bound: 13.99999449656567<br>\\tlog_stab_max_bound: 14.0<br>\\tlstab_min_bound: 6.0<br><br>\", \"Concept 83<br>extent (len: 2661): 4, 7, 8, 11, 26, 43, 66, 67, 73, 74,...<br>intent (len: 5): poutcome_not_success, duration_lt_968, month_not_oct, previous_lt_1, balance_lt_1384<br>new extent (len: 157): 3163, 4444, 3081, 1297, 612, 3334, 1269, 2423, 3409, 989,...<br>new intent (len: 0): emptyset<br>mean_y_true: 0.06<br>mean_y_pred: 0.03<br>Metrics<br>\\taccuracy: 0.96<br>\\tprecision: 0.84<br>\\trecall: 0.37<br>\\tneg_precision: 0.96<br>\\tneg_recall: 1.0<br>\\tstab_min_bound: 1.0<br>\\tstab_max_bound: 1.0<br>\\tlog_stab_min_bound: inf<br>\\tlog_stab_max_bound: inf<br>\\tlstab_min_bound: 853.0<br><br>\", \"Concept 33<br>extent (len: 2884): 0, 64, 504, 688, 732, 922, 1196, 2451, 2568, 2687,...<br>intent (len: 3): poutcome_not_success, duration_lt_968, duration_lt_253<br>new extent (len: 3): 3023, 3527, 3775<br>new intent (len: 0): emptyset<br>mean_y_true: 0.03<br>mean_y_pred: 0.01<br>Metrics<br>\\taccuracy: 0.98<br>\\tprecision: 0.93<br>\\trecall: 0.28<br>\\tneg_precision: 0.98<br>\\tneg_recall: 1.0<br>\\tstab_min_bound: 0.9999999999999432<br>\\tstab_max_bound: 0.9999999999999432<br>\\tlog_stab_min_bound: 44.0<br>\\tlog_stab_max_bound: 44.0<br>\\tlstab_min_bound: 36.0<br><br>\", \"Concept 50<br>extent (len: 1573): 1, 207, 236, 253, 310, 496, 528, 563, 685, 769,...<br>intent (len: 4): duration_lt_968, month_not_oct, housing_is_yes, marital_is_married<br>new extent (len: 6): 49, 3799, 602, 2992, 2103, 3331<br>new intent (len: 0): emptyset<br>mean_y_true: 0.06<br>mean_y_pred: 0.03<br>Metrics<br>\\taccuracy: 0.96<br>\\tprecision: 0.93<br>\\trecall: 0.41<br>\\tneg_precision: 0.96<br>\\tneg_recall: 1.0<br>\\tstab_min_bound: 0.9999990463256836<br>\\tstab_max_bound: 0.9999990463256836<br>\\tlog_stab_min_bound: 20.0<br>\\tlog_stab_max_bound: 20.0<br>\\tlstab_min_bound: 12.0<br><br>\", \"Concept 86<br>extent (len: 1650): 4, 7, 8, 11, 26, 43, 66, 67, 73, 74,...<br>intent (len: 5): poutcome_not_success, duration_lt_968, previous_lt_1, marital_is_married, balance_lt_1384<br>new extent (len: 17): 2911, 737, 2477, 160, 2417, 3826, 61, 1872, 4092, 4090,...<br>new intent (len: 0): emptyset<br>mean_y_true: 0.05<br>mean_y_pred: 0.02<br>Metrics<br>\\taccuracy: 0.96<br>\\tprecision: 0.84<br>\\trecall: 0.35<br>\\tneg_precision: 0.96<br>\\tneg_recall: 1.0<br>\\tstab_min_bound: 0.9999923706054688<br>\\tstab_max_bound: 0.9999923706054688<br>\\tlog_stab_min_bound: 17.0<br>\\tlog_stab_max_bound: 17.0<br>\\tlstab_min_bound: 9.0<br><br>\", \"Concept 5<br>extent (len: 4441): 1, 207, 236, 253, 310, 496, 528, 563, 685, 769,...<br>intent (len: 1): month_not_oct<br>new extent (len: 1): 3644<br>new intent (len: 1): month_not_oct<br>mean_y_true: 0.11<br>mean_y_pred: 0.07<br>Metrics<br>\\taccuracy: 0.94<br>\\tprecision: 0.87<br>\\trecall: 0.57<br>\\tneg_precision: 0.95<br>\\tneg_recall: 0.99<br>\\tstab_min_bound: 1.0<br>\\tstab_max_bound: 1.0<br>\\tlog_stab_min_bound: inf<br>\\tlog_stab_max_bound: inf<br>\\tlstab_min_bound: 110.0<br><br>\", \"Concept 35<br>extent (len: 2649): 0, 64, 504, 688, 732, 922, 1196, 2451, 2568, 2687,...<br>intent (len: 3): poutcome_not_success, duration_lt_968, marital_is_married<br>new extent (len: 1): 3701<br>new intent (len: 0): emptyset<br>mean_y_true: 0.07<br>mean_y_pred: 0.03<br>Metrics<br>\\taccuracy: 0.95<br>\\tprecision: 0.87<br>\\trecall: 0.38<br>\\tneg_precision: 0.95<br>\\tneg_recall: 1.0<br>\\tstab_min_bound: 0.9999999999995453<br>\\tstab_max_bound: 0.9999999999995453<br>\\tlog_stab_min_bound: 41.0<br>\\tlog_stab_max_bound: 41.0<br>\\tlstab_min_bound: 33.0<br><br>\", \"Concept 104<br>extent (len: 852): 3, 37, 55, 89, 96, 111, 116, 122, 176, 185,...<br>intent (len: 7): poutcome_not_success, duration_lt_968, duration_lt_253, month_not_oct, previous_lt_1, housing_is_yes, marital_is_married<br>new extent (len: 852): 2008, 2528, 686, 184, 4014, 2488, 1627, 847, 1589, 2339,...<br>new intent (len: 0): emptyset<br>mean_y_true: 0.01<br>mean_y_pred: 0.0<br>Metrics<br>\\taccuracy: 0.99<br>\\tprecision: 1.0<br>\\trecall: 0.1<br>\\tneg_precision: 0.99<br>\\tneg_recall: 1.0<br>\\tstab_min_bound: 1.0<br>\\tstab_max_bound: 1.0<br>\\tlog_stab_min_bound: inf<br>\\tlog_stab_max_bound: inf<br>\\tlstab_min_bound: 191.0<br><br>\", \"Concept 19<br>extent (len: 2715): 0, 64, 504, 688, 732, 922, 1196, 2451, 2568, 2687,...<br>intent (len: 2): poutcome_not_success, marital_is_married<br>new extent (len: 0): emptyset<br>new intent (len: 0): emptyset<br>mean_y_true: 0.08<br>mean_y_pred: 0.04<br>Metrics<br>\\taccuracy: 0.95<br>\\tprecision: 0.84<br>\\trecall: 0.45<br>\\tneg_precision: 0.95<br>\\tneg_recall: 0.99<br>\\tstab_min_bound: 0.9999999999997726<br>\\tstab_max_bound: 0.9999999999997726<br>\\tlog_stab_min_bound: 42.0<br>\\tlog_stab_max_bound: 42.0<br>\\tlstab_min_bound: 34.0<br><br>\", \"Concept 106<br>extent (len: 965): 4, 7, 8, 11, 26, 43, 66, 67, 73, 74,...<br>intent (len: 7): poutcome_not_success, duration_lt_968, month_not_oct, previous_lt_1, housing_is_yes, marital_is_married, balance_lt_1384<br>new extent (len: 965): 2008, 2528, 184, 2156, 3507, 2488, 1627, 847, 845, 1589,...<br>new intent (len: 0): emptyset<br>mean_y_true: 0.04<br>mean_y_pred: 0.01<br>Metrics<br>\\taccuracy: 0.97<br>\\tprecision: 0.89<br>\\trecall: 0.23<br>\\tneg_precision: 0.97<br>\\tneg_recall: 1.0<br>\\tstab_min_bound: 1.0<br>\\tstab_max_bound: 1.0<br>\\tlog_stab_min_bound: inf<br>\\tlog_stab_max_bound: inf<br>\\tlstab_min_bound: 304.0<br><br>\", \"Concept 68<br>extent (len: 2037): 3, 37, 55, 89, 96, 111, 116, 122, 176, 185,...<br>intent (len: 4): poutcome_not_success, month_not_oct, previous_lt_1, housing_is_yes<br>new extent (len: 4): 1534, 3453, 1592, 1454<br>new intent (len: 0): emptyset<br>mean_y_true: 0.07<br>mean_y_pred: 0.03<br>Metrics<br>\\taccuracy: 0.96<br>\\tprecision: 0.92<br>\\trecall: 0.4<br>\\tneg_precision: 0.96<br>\\tneg_recall: 1.0<br>\\tstab_min_bound: 1.0<br>\\tstab_max_bound: 1.0<br>\\tlog_stab_min_bound: inf<br>\\tlog_stab_max_bound: inf<br>\\tlstab_min_bound: 49.0<br><br>\", \"Concept 27<br>extent (len: 2469): 1, 207, 236, 253, 310, 496, 528, 563, 685, 769,...<br>intent (len: 3): duration_lt_968, month_not_oct, housing_is_yes<br>new extent (len: 5): 1173, 2372, 2917, 1952, 1779<br>new intent (len: 0): emptyset<br>mean_y_true: 0.07<br>mean_y_pred: 0.03<br>Metrics<br>\\taccuracy: 0.96<br>\\tprecision: 0.94<br>\\trecall: 0.44<br>\\tneg_precision: 0.96<br>\\tneg_recall: 1.0<br>\\tstab_min_bound: 0.999999999996362<br>\\tstab_max_bound: 0.999999999996362<br>\\tlog_stab_min_bound: 38.0<br>\\tlog_stab_max_bound: 38.0<br>\\tlstab_min_bound: 30.0<br><br>\", \"Concept 59<br>extent (len: 2431): 1, 207, 236, 253, 310, 496, 528, 563, 685, 769,...<br>intent (len: 4): poutcome_not_success, duration_lt_968, month_not_oct, housing_is_yes<br>new extent (len: 15): 412, 40, 3755, 4435, 3064, 3665, 202, 4372, 1729, 4363,...<br>new intent (len: 0): emptyset<br>mean_y_true: 0.06<br>mean_y_pred: 0.03<br>Metrics<br>\\taccuracy: 0.96<br>\\tprecision: 0.95<br>\\trecall: 0.38<br>\\tneg_precision: 0.96<br>\\tneg_recall: 1.0<br>\\tstab_min_bound: 1.0<br>\\tstab_max_bound: 1.0<br>\\tlog_stab_min_bound: inf<br>\\tlog_stab_max_bound: inf<br>\\tlstab_min_bound: 443.0<br><br>\"], \"marker\": {\"color\": [197.0, 301.0, 306.0, 41.0, 490.0, 24.0, 233.0, 72.0, 34.0, 510.0, 31.0, 37.0, 195.0, 27.0, 58.0, 150.0, 203.0, 34.0, 19.0, 60.0, 62.0, 43.0, 390.0, 677.0, 6.0, 25.0, 8.0, 12.0, 454.0, 452.0, 41.0, 60.0, 343.0, 10.0, 271.0, 65.0, 35.0, 92.0, 25.0, 307.0, 637.0, 22.0, 23.0, 25.0, 24.0, 889.0, 11.0, 19.0, 19.0, 6.0, 61.0, 39.0, 22.0, 331.0, 49.0, 265.0, 42.0, 112.0, 14.0, 319.0, 39.0, 27.0, 10.0, 17.0, 437.0, 12.0, 107.0, 87.0, 19.0, 273.0, 18.0, 587.0, 15.0, 20.0, 42.0, 43.0, 18.0, 46.0, 71.0, 38.0, 579.0, 7.0, 6.0, 380.0, 7.0, 22.0, 38.0, 72.0, 57.0, 8.0, 470.0, 33.0, 42.0, 66.0, 6.0, 853.0, 36.0, 12.0, 9.0, 110.0, 33.0, 191.0, 34.0, 304.0, 49.0, 30.0, 443.0], \"colorbar\": {\"thickness\": 15, \"title\": {\"side\": \"right\", \"text\": \"Mean Prediction\"}, \"xanchor\": \"left\"}, \"colorscale\": [[0.0, \"rgb(103,0,31)\"], [0.1, \"rgb(178,24,43)\"], [0.2, \"rgb(214,96,77)\"], [0.3, \"rgb(244,165,130)\"], [0.4, \"rgb(253,219,199)\"], [0.5, \"rgb(247,247,247)\"], [0.6, \"rgb(209,229,240)\"], [0.7, \"rgb(146,197,222)\"], [0.8, \"rgb(67,147,195)\"], [0.9, \"rgb(33,102,172)\"], [1.0, \"rgb(5,48,97)\"]], \"line\": {\"width\": 2}, \"reversescale\": true, \"showscale\": true, \"size\": 10}, \"mode\": \"markers+text\", \"text\": [\"<br>n: 47\", \"<br>n: 110\", \"<br>n: 115\", \"<br>3931\", \"<br>n: 186\", \"<br>n: 5\", \"<br>n: 83\", \"<br>\", \"<br>\", \"<br>n: 206\", \"<br>\", \"<br>n: 18\", \"<br>n: 45\", \"<br>n: 8\", \"<br>\", \"<br>n: 811\", \"<br>n: 53\", \"<br>n: 15\", \"<br>n: 27\", \"<br>1750,1928\", \"<br>\", \"balance_lt_1384<br>\", \"<br>n: 199\", \"<br>n: 334\", \"<br>\", \"<br>1303\", \"<br>n: 16\", \"<br>\", \"<br>n: 1115\", \"<br>n: 12\", \"duration_lt_253<br>\", \"<br>n: 10\", \"<br>n: 1004\", \"<br>1124,338\", \"<br>n: 23\", \"<br>n: 11\", \"<br>1719,823,2968\", \"<br>2980,1300,2140,3813\", \"<br>2022\", \"<br>n: 29\", \"<br>n: 13\", \"<br>822\", \"<br>\", \"<br>\", \"<br>1186,1437,4216,3250\", \"<br>n: 59\", \"<br>n: 19\", \"<br>\", \"<br>n: 7\", \"<br>n: 14\", \"poutcome_not_success<br>\", \"previous_lt_1<br>\", \"<br>\", \"<br>n: 45\", \"<br>n: 7\", \"<br>n: 23\", \"marital_is_married<br>\", \"<br>\", \"<br>n: 8\", \"<br>n: 39\", \"<br>328\", \"<br>n: 15\", \"<br>1903\", \"<br>n: 25\", \"<br>n: 21\", \"<br>n: 20\", \"<br>n: 6\", \"<br>\", \"<br>803,2685,2821\", \"<br>n: 23\", \"<br>n: 5\", \"<br>n: 82\", \"<br>4232\", \"<br>\", \"<br>4009\", \"<br>540,397,1216,3088\", \"<br>858,2213,97\", \"<br>3873,3968,3673,2217\", \"duration_lt_968<br>\", \"<br>n: 5\", \"<br>n: 79\", \"<br>4229\", \"<br>n: 14\", \"<br>n: 16\", \"housing_is_yes<br>\", \"<br>4229,3243\", \"<br>n: 15\", \"<br>n: 20\", \"<br>\", \"<br>n: 16\", \"<br>n: 54\", \"<br>164,3743\", \"<br>3463,1912,665\", \"<br>4447,3943\", \"<br>\", \"<br>n: 157\", \"<br>3023,3527,3775\", \"<br>n: 6\", \"<br>n: 17\", \"month_not_oct<br>3644\", \"<br>3701\", \"<br>n: 852\", \"<br>\", \"<br>n: 965\", \"<br>1534,3453,1592,1454\", \"<br>n: 5\", \"<br>n: 15\"], \"textposition\": \"middle right\", \"type\": \"scatter\", \"x\": [-1.0, 1.0, -5.0, 0.0, 3.0, 6.5, -4.0, 0.0, 4.0, 4.0, -2.0, 8.5, -2.0, 5.5, 5.0, 1.0, 2.0, 9.5, 5.0, -3.0, 7.0, 2.5, -3.0, 0.0, -5.0, -8.0, -5.5, 2.0, -2.0, 6.5, -7.0, 8.0, 0.0, -6.5, 1.5, 5.0, 3.5, 7.0, -8.5, -9.5, -2.0, -10.5, -3.0, 6.0, 6.0, 2.5, -3.5, 4.0, -7.5, 2.5, -1.5, -1.0, -4.5, -0.5, 8.5, -8.5, 0.5, 1.0, -2.5, -6.5, 11.0, -5.5, 10.5, -4.5, -11.5, -2.5, 3.0, 9.0, 4.5, 4.5, 0.5, -7.5, 3.0, 10.0, 2.0, -9.0, -9.5, 5.5, -0.5, -4.0, 0.5, -6.0, -7.0, -1.5, -2.5, -10.0, 11.5, 12.5, 1.0, -12.5, -1.5, -1.0, 9.5, 0.0, 7.5, 7.5, -11.0, -0.5, 3.5, 1.5, -6.0, -1.0, -4.0, 2.0, 1.5, -5.0, -3.5], \"y\": [2, 2, 2, 6, 2, 3, 2, 8, 6, 2, 6, 3, 2, 3, 6, 1, 2, 3, 2, 6, 6, 7, 2, 2, 6, 5, 3, 5, 1, 4, 6, 5, 1, 4, 3, 5, 4, 5, 4, 3, 5, 4, 5, 6, 5, 4, 3, 5, 4, 3, 7, 6, 4, 3, 4, 3, 7, 6, 4, 3, 5, 4, 4, 3, 4, 3, 6, 5, 4, 3, 4, 3, 5, 5, 6, 5, 4, 4, 7, 5, 3, 6, 5, 4, 7, 5, 4, 4, 5, 4, 3, 5, 4, 5, 4, 3, 5, 4, 3, 7, 5, 1, 6, 1, 4, 5, 4]}],\n",
       "                        {\"height\": 500, \"hovermode\": \"closest\", \"margin\": {\"b\": 20, \"l\": 5, \"r\": 5, \"t\": 40}, \"showlegend\": false, \"template\": {\"data\": {\"bar\": [{\"error_x\": {\"color\": \"#2a3f5f\"}, \"error_y\": {\"color\": \"#2a3f5f\"}, \"marker\": {\"line\": {\"color\": \"#E5ECF6\", \"width\": 0.5}}, \"type\": \"bar\"}], \"barpolar\": [{\"marker\": {\"line\": {\"color\": \"#E5ECF6\", \"width\": 0.5}}, \"type\": \"barpolar\"}], \"carpet\": [{\"aaxis\": {\"endlinecolor\": \"#2a3f5f\", \"gridcolor\": \"white\", \"linecolor\": \"white\", \"minorgridcolor\": \"white\", \"startlinecolor\": \"#2a3f5f\"}, \"baxis\": {\"endlinecolor\": \"#2a3f5f\", \"gridcolor\": \"white\", \"linecolor\": \"white\", \"minorgridcolor\": \"white\", \"startlinecolor\": \"#2a3f5f\"}, \"type\": \"carpet\"}], \"choropleth\": [{\"colorbar\": {\"outlinewidth\": 0, \"ticks\": \"\"}, \"type\": \"choropleth\"}], \"contour\": [{\"colorbar\": {\"outlinewidth\": 0, \"ticks\": \"\"}, \"colorscale\": [[0.0, \"#0d0887\"], [0.1111111111111111, \"#46039f\"], [0.2222222222222222, \"#7201a8\"], [0.3333333333333333, \"#9c179e\"], [0.4444444444444444, \"#bd3786\"], [0.5555555555555556, \"#d8576b\"], [0.6666666666666666, \"#ed7953\"], [0.7777777777777778, \"#fb9f3a\"], [0.8888888888888888, \"#fdca26\"], [1.0, \"#f0f921\"]], \"type\": \"contour\"}], \"contourcarpet\": [{\"colorbar\": {\"outlinewidth\": 0, \"ticks\": \"\"}, \"type\": \"contourcarpet\"}], \"heatmap\": [{\"colorbar\": {\"outlinewidth\": 0, \"ticks\": \"\"}, \"colorscale\": [[0.0, \"#0d0887\"], [0.1111111111111111, \"#46039f\"], [0.2222222222222222, \"#7201a8\"], [0.3333333333333333, \"#9c179e\"], [0.4444444444444444, \"#bd3786\"], [0.5555555555555556, \"#d8576b\"], [0.6666666666666666, \"#ed7953\"], [0.7777777777777778, \"#fb9f3a\"], [0.8888888888888888, \"#fdca26\"], [1.0, \"#f0f921\"]], \"type\": \"heatmap\"}], \"heatmapgl\": [{\"colorbar\": {\"outlinewidth\": 0, \"ticks\": \"\"}, \"colorscale\": [[0.0, \"#0d0887\"], [0.1111111111111111, \"#46039f\"], [0.2222222222222222, \"#7201a8\"], [0.3333333333333333, \"#9c179e\"], [0.4444444444444444, \"#bd3786\"], [0.5555555555555556, \"#d8576b\"], [0.6666666666666666, \"#ed7953\"], [0.7777777777777778, \"#fb9f3a\"], [0.8888888888888888, \"#fdca26\"], [1.0, \"#f0f921\"]], \"type\": \"heatmapgl\"}], \"histogram\": [{\"marker\": {\"colorbar\": {\"outlinewidth\": 0, \"ticks\": \"\"}}, \"type\": \"histogram\"}], \"histogram2d\": [{\"colorbar\": {\"outlinewidth\": 0, \"ticks\": \"\"}, \"colorscale\": [[0.0, \"#0d0887\"], [0.1111111111111111, \"#46039f\"], [0.2222222222222222, \"#7201a8\"], [0.3333333333333333, \"#9c179e\"], [0.4444444444444444, \"#bd3786\"], [0.5555555555555556, \"#d8576b\"], [0.6666666666666666, \"#ed7953\"], [0.7777777777777778, \"#fb9f3a\"], [0.8888888888888888, \"#fdca26\"], [1.0, \"#f0f921\"]], \"type\": \"histogram2d\"}], \"histogram2dcontour\": [{\"colorbar\": {\"outlinewidth\": 0, \"ticks\": \"\"}, \"colorscale\": [[0.0, \"#0d0887\"], [0.1111111111111111, \"#46039f\"], [0.2222222222222222, \"#7201a8\"], [0.3333333333333333, \"#9c179e\"], [0.4444444444444444, \"#bd3786\"], [0.5555555555555556, \"#d8576b\"], [0.6666666666666666, \"#ed7953\"], [0.7777777777777778, \"#fb9f3a\"], [0.8888888888888888, \"#fdca26\"], [1.0, \"#f0f921\"]], \"type\": \"histogram2dcontour\"}], \"mesh3d\": [{\"colorbar\": {\"outlinewidth\": 0, \"ticks\": \"\"}, \"type\": \"mesh3d\"}], \"parcoords\": [{\"line\": {\"colorbar\": {\"outlinewidth\": 0, \"ticks\": \"\"}}, \"type\": \"parcoords\"}], \"pie\": [{\"automargin\": true, \"type\": \"pie\"}], \"scatter\": [{\"marker\": {\"colorbar\": {\"outlinewidth\": 0, \"ticks\": \"\"}}, \"type\": \"scatter\"}], \"scatter3d\": [{\"line\": {\"colorbar\": {\"outlinewidth\": 0, \"ticks\": \"\"}}, \"marker\": {\"colorbar\": {\"outlinewidth\": 0, \"ticks\": \"\"}}, \"type\": \"scatter3d\"}], \"scattercarpet\": [{\"marker\": {\"colorbar\": {\"outlinewidth\": 0, \"ticks\": \"\"}}, \"type\": \"scattercarpet\"}], \"scattergeo\": [{\"marker\": {\"colorbar\": {\"outlinewidth\": 0, \"ticks\": \"\"}}, \"type\": \"scattergeo\"}], \"scattergl\": [{\"marker\": {\"colorbar\": {\"outlinewidth\": 0, \"ticks\": \"\"}}, \"type\": \"scattergl\"}], \"scattermapbox\": [{\"marker\": {\"colorbar\": {\"outlinewidth\": 0, \"ticks\": \"\"}}, \"type\": \"scattermapbox\"}], \"scatterpolar\": [{\"marker\": {\"colorbar\": {\"outlinewidth\": 0, \"ticks\": \"\"}}, \"type\": \"scatterpolar\"}], \"scatterpolargl\": [{\"marker\": {\"colorbar\": {\"outlinewidth\": 0, \"ticks\": \"\"}}, \"type\": \"scatterpolargl\"}], \"scatterternary\": [{\"marker\": {\"colorbar\": {\"outlinewidth\": 0, \"ticks\": \"\"}}, \"type\": \"scatterternary\"}], \"surface\": [{\"colorbar\": {\"outlinewidth\": 0, \"ticks\": \"\"}, \"colorscale\": [[0.0, \"#0d0887\"], [0.1111111111111111, \"#46039f\"], [0.2222222222222222, \"#7201a8\"], [0.3333333333333333, \"#9c179e\"], [0.4444444444444444, \"#bd3786\"], [0.5555555555555556, \"#d8576b\"], [0.6666666666666666, \"#ed7953\"], [0.7777777777777778, \"#fb9f3a\"], [0.8888888888888888, \"#fdca26\"], [1.0, \"#f0f921\"]], \"type\": \"surface\"}], \"table\": [{\"cells\": {\"fill\": {\"color\": \"#EBF0F8\"}, \"line\": {\"color\": \"white\"}}, \"header\": {\"fill\": {\"color\": \"#C8D4E3\"}, \"line\": {\"color\": \"white\"}}, \"type\": \"table\"}]}, \"layout\": {\"annotationdefaults\": {\"arrowcolor\": \"#2a3f5f\", \"arrowhead\": 0, \"arrowwidth\": 1}, \"coloraxis\": {\"colorbar\": {\"outlinewidth\": 0, \"ticks\": \"\"}}, \"colorscale\": {\"diverging\": [[0, \"#8e0152\"], [0.1, \"#c51b7d\"], [0.2, \"#de77ae\"], [0.3, \"#f1b6da\"], [0.4, \"#fde0ef\"], [0.5, \"#f7f7f7\"], [0.6, \"#e6f5d0\"], [0.7, \"#b8e186\"], [0.8, \"#7fbc41\"], [0.9, \"#4d9221\"], [1, \"#276419\"]], \"sequential\": [[0.0, \"#0d0887\"], [0.1111111111111111, \"#46039f\"], [0.2222222222222222, \"#7201a8\"], [0.3333333333333333, \"#9c179e\"], [0.4444444444444444, \"#bd3786\"], [0.5555555555555556, \"#d8576b\"], [0.6666666666666666, \"#ed7953\"], [0.7777777777777778, \"#fb9f3a\"], [0.8888888888888888, \"#fdca26\"], [1.0, \"#f0f921\"]], \"sequentialminus\": [[0.0, \"#0d0887\"], [0.1111111111111111, \"#46039f\"], [0.2222222222222222, \"#7201a8\"], [0.3333333333333333, \"#9c179e\"], [0.4444444444444444, \"#bd3786\"], [0.5555555555555556, \"#d8576b\"], [0.6666666666666666, \"#ed7953\"], [0.7777777777777778, \"#fb9f3a\"], [0.8888888888888888, \"#fdca26\"], [1.0, \"#f0f921\"]]}, \"colorway\": [\"#636efa\", \"#EF553B\", \"#00cc96\", \"#ab63fa\", \"#FFA15A\", \"#19d3f3\", \"#FF6692\", \"#B6E880\", \"#FF97FF\", \"#FECB52\"], \"font\": {\"color\": \"#2a3f5f\"}, \"geo\": {\"bgcolor\": \"white\", \"lakecolor\": \"white\", \"landcolor\": \"#E5ECF6\", \"showlakes\": true, \"showland\": true, \"subunitcolor\": \"white\"}, \"hoverlabel\": {\"align\": \"left\"}, \"hovermode\": \"closest\", \"mapbox\": {\"style\": \"light\"}, \"paper_bgcolor\": \"white\", \"plot_bgcolor\": \"#E5ECF6\", \"polar\": {\"angularaxis\": {\"gridcolor\": \"white\", \"linecolor\": \"white\", \"ticks\": \"\"}, \"bgcolor\": \"#E5ECF6\", \"radialaxis\": {\"gridcolor\": \"white\", \"linecolor\": \"white\", \"ticks\": \"\"}}, \"scene\": {\"xaxis\": {\"backgroundcolor\": \"#E5ECF6\", \"gridcolor\": \"white\", \"gridwidth\": 2, \"linecolor\": \"white\", \"showbackground\": true, \"ticks\": \"\", \"zerolinecolor\": \"white\"}, \"yaxis\": {\"backgroundcolor\": \"#E5ECF6\", \"gridcolor\": \"white\", \"gridwidth\": 2, \"linecolor\": \"white\", \"showbackground\": true, \"ticks\": \"\", \"zerolinecolor\": \"white\"}, \"zaxis\": {\"backgroundcolor\": \"#E5ECF6\", \"gridcolor\": \"white\", \"gridwidth\": 2, \"linecolor\": \"white\", \"showbackground\": true, \"ticks\": \"\", \"zerolinecolor\": \"white\"}}, \"shapedefaults\": {\"line\": {\"color\": \"#2a3f5f\"}}, \"ternary\": {\"aaxis\": {\"gridcolor\": \"white\", \"linecolor\": \"white\", \"ticks\": \"\"}, \"baxis\": {\"gridcolor\": \"white\", \"linecolor\": \"white\", \"ticks\": \"\"}, \"bgcolor\": \"#E5ECF6\", \"caxis\": {\"gridcolor\": \"white\", \"linecolor\": \"white\", \"ticks\": \"\"}}, \"title\": {\"x\": 0.05}, \"xaxis\": {\"automargin\": true, \"gridcolor\": \"white\", \"linecolor\": \"white\", \"ticks\": \"\", \"title\": {\"standoff\": 15}, \"zerolinecolor\": \"white\", \"zerolinewidth\": 2}, \"yaxis\": {\"automargin\": true, \"gridcolor\": \"white\", \"linecolor\": \"white\", \"ticks\": \"\", \"title\": {\"standoff\": 15}, \"zerolinecolor\": \"white\", \"zerolinewidth\": 2}}}, \"title\": {\"font\": {\"size\": 16}, \"text\": \"Bank Dataset Concept Lattice\"}, \"width\": 1000, \"xaxis\": {\"showgrid\": false, \"showticklabels\": false, \"zeroline\": false}, \"yaxis\": {\"showgrid\": false, \"showticklabels\": false, \"zeroline\": false}},\n",
       "                        {\"responsive\": true}\n",
       "                    ).then(function(){\n",
       "                            \n",
       "var gd = document.getElementById('032296bc-e3a1-447a-80e0-30154346016b');\n",
       "var x = new MutationObserver(function (mutations, observer) {{\n",
       "        var display = window.getComputedStyle(gd).display;\n",
       "        if (!display || display === 'none') {{\n",
       "            console.log([gd, 'removed!']);\n",
       "            Plotly.purge(gd);\n",
       "            observer.disconnect();\n",
       "        }}\n",
       "}});\n",
       "\n",
       "// Listen for the removal of the full notebook cells\n",
       "var notebookContainer = gd.closest('#notebook-container');\n",
       "if (notebookContainer) {{\n",
       "    x.observe(notebookContainer, {childList: true});\n",
       "}}\n",
       "\n",
       "// Listen for the clearing of the current output cell\n",
       "var outputEl = gd.closest('.output');\n",
       "if (outputEl) {{\n",
       "    x.observe(outputEl, {childList: true});\n",
       "}}\n",
       "\n",
       "                        })\n",
       "                };\n",
       "                });\n",
       "            </script>\n",
       "        </div>"
      ]
     },
     "metadata": {},
     "output_type": "display_data"
    }
   ],
   "source": [
    "fig_stab.show()"
   ]
  },
  {
   "cell_type": "code",
   "execution_count": null,
   "metadata": {},
   "outputs": [],
   "source": []
  },
  {
   "cell_type": "code",
   "execution_count": 150,
   "metadata": {},
   "outputs": [],
   "source": [
    "def get_prediction_by_concepts(concepts):\n",
    "    objects_preds = {}\n",
    "    for c in sorted(concepts, key=lambda c: -c._idx):\n",
    "        for g in c.get_extent():\n",
    "            if g not in objects_preds:\n",
    "                objects_preds[g] = c._y_pred_mean    \n",
    "    return pd.Series(objects_preds)"
   ]
  },
  {
   "cell_type": "code",
   "execution_count": 151,
   "metadata": {},
   "outputs": [
    {
     "data": {
      "text/plain": [
       "(144, 107)"
      ]
     },
     "execution_count": 151,
     "metadata": {},
     "output_type": "execute_result"
    }
   ],
   "source": [
    "len(fm_bank._concepts), len(fm_bank_stab._concepts)"
   ]
  },
  {
   "cell_type": "code",
   "execution_count": 152,
   "metadata": {},
   "outputs": [
    {
     "data": {
      "text/plain": [
       "0.8880785432711487"
      ]
     },
     "execution_count": 152,
     "metadata": {},
     "output_type": "execute_result"
    }
   ],
   "source": [
    "s = get_prediction_by_concepts(fm_bank._concepts)\n",
    "s.index = s.index.astype(int)\n",
    "s = s.sort_index()\n",
    "roc_auc_score(total_bb_preds, s.values)"
   ]
  },
  {
   "cell_type": "code",
   "execution_count": 153,
   "metadata": {},
   "outputs": [
    {
     "data": {
      "text/plain": [
       "0.8942881001805358"
      ]
     },
     "execution_count": 153,
     "metadata": {},
     "output_type": "execute_result"
    }
   ],
   "source": [
    "s = get_prediction_by_concepts(fm_bank_stab._concepts)\n",
    "s.index = s.index.astype(int)\n",
    "s = s.sort_index()\n",
    "roc_auc_score(total_bb_preds, s.values)"
   ]
  },
  {
   "cell_type": "code",
   "execution_count": null,
   "metadata": {},
   "outputs": [],
   "source": []
  },
  {
   "cell_type": "code",
   "execution_count": 154,
   "metadata": {},
   "outputs": [],
   "source": [
    "def get_bottom_concepts_ids(concepts):\n",
    "    objects_concepts = {}\n",
    "    for c in sorted(concepts, key=lambda c: -c._idx):\n",
    "        if c._idx==0:\n",
    "            continue\n",
    "        for g in c.get_extent():\n",
    "            if g not in objects_concepts.keys():\n",
    "                objects_concepts[g] = c._idx\n",
    "    return sorted(set(objects_concepts.values()))"
   ]
  },
  {
   "cell_type": "code",
   "execution_count": 155,
   "metadata": {},
   "outputs": [
    {
     "data": {
      "text/plain": [
       "(85, 82)"
      ]
     },
     "execution_count": 155,
     "metadata": {},
     "output_type": "execute_result"
    }
   ],
   "source": [
    "len(get_bottom_concepts_ids(fm_bank._concepts)), len(get_bottom_concepts_ids(fm_bank_stab._concepts))"
   ]
  },
  {
   "cell_type": "code",
   "execution_count": 156,
   "metadata": {},
   "outputs": [
    {
     "data": {
      "text/plain": [
       "0.8880785432711487"
      ]
     },
     "execution_count": 156,
     "metadata": {},
     "output_type": "execute_result"
    }
   ],
   "source": [
    "base_roc = get_prediction_by_concepts(fm_bank._concepts)\n",
    "base_roc.index = base_roc.index.astype(int)\n",
    "base_roc = base_roc.sort_index()\n",
    "base_roc = roc_auc_score(total_bb_preds, base_roc)\n",
    "base_roc"
   ]
  },
  {
   "cell_type": "code",
   "execution_count": 157,
   "metadata": {},
   "outputs": [],
   "source": [
    "def select_best_roc_concepts(concepts, y):\n",
    "    base_roc = get_prediction_by_concepts(concepts)\n",
    "    base_roc.index = base_roc.index.astype(int)\n",
    "    base_roc = base_roc.sort_index()\n",
    "    base_roc = roc_auc_score(y, base_roc)\n",
    "    \n",
    "    cur_base_roc = base_roc\n",
    "    dropped_concepts = set()\n",
    "    roc_hystory = []\n",
    "    for i in tqdm(range(len(concepts))):\n",
    "        new_rocs = {}\n",
    "\n",
    "        bottom_concepts_ids = get_bottom_concepts_ids([c for c in concepts if c._idx not in dropped_concepts])\n",
    "\n",
    "        for cidx in tqdm([cidx for cidx in bottom_concepts_ids], leave=False):\n",
    "            s = get_prediction_by_concepts([c for c in concepts if c._idx!=cidx and c._idx not in dropped_concepts])\n",
    "            s.index = s.index.astype(int)\n",
    "            s = s.sort_index()\n",
    "            new_rocs[cidx] = roc_auc_score(y, s.values)\n",
    "        new_rocs = pd.Series(new_rocs)\n",
    "\n",
    "        if new_rocs.max()<cur_base_roc:\n",
    "            break\n",
    "\n",
    "        cur_base_roc = new_rocs.max()\n",
    "        roc_hystory.append(cur_base_roc)\n",
    "        dropped_concepts.add(new_rocs.idxmax())\n",
    "    return [c for c in concepts if c._idx not in dropped_concepts], [base_roc]+roc_hystory, dropped_concepts"
   ]
  },
  {
   "cell_type": "code",
   "execution_count": 158,
   "metadata": {},
   "outputs": [
    {
     "data": {
      "application/vnd.jupyter.widget-view+json": {
       "model_id": "0ebc3b2645fc412f93ecb97ddf77cba9",
       "version_major": 2,
       "version_minor": 0
      },
      "text/plain": [
       "HBox(children=(IntProgress(value=0, max=144), HTML(value='')))"
      ]
     },
     "metadata": {},
     "output_type": "display_data"
    },
    {
     "data": {
      "application/vnd.jupyter.widget-view+json": {
       "model_id": "",
       "version_major": 2,
       "version_minor": 0
      },
      "text/plain": [
       "HBox(children=(IntProgress(value=0, max=85), HTML(value='')))"
      ]
     },
     "metadata": {},
     "output_type": "display_data"
    },
    {
     "data": {
      "application/vnd.jupyter.widget-view+json": {
       "model_id": "",
       "version_major": 2,
       "version_minor": 0
      },
      "text/plain": [
       "HBox(children=(IntProgress(value=0, max=84), HTML(value='')))"
      ]
     },
     "metadata": {},
     "output_type": "display_data"
    },
    {
     "data": {
      "application/vnd.jupyter.widget-view+json": {
       "model_id": "",
       "version_major": 2,
       "version_minor": 0
      },
      "text/plain": [
       "HBox(children=(IntProgress(value=0, max=83), HTML(value='')))"
      ]
     },
     "metadata": {},
     "output_type": "display_data"
    },
    {
     "data": {
      "application/vnd.jupyter.widget-view+json": {
       "model_id": "",
       "version_major": 2,
       "version_minor": 0
      },
      "text/plain": [
       "HBox(children=(IntProgress(value=0, max=82), HTML(value='')))"
      ]
     },
     "metadata": {},
     "output_type": "display_data"
    },
    {
     "data": {
      "application/vnd.jupyter.widget-view+json": {
       "model_id": "",
       "version_major": 2,
       "version_minor": 0
      },
      "text/plain": [
       "HBox(children=(IntProgress(value=0, max=81), HTML(value='')))"
      ]
     },
     "metadata": {},
     "output_type": "display_data"
    },
    {
     "data": {
      "application/vnd.jupyter.widget-view+json": {
       "model_id": "",
       "version_major": 2,
       "version_minor": 0
      },
      "text/plain": [
       "HBox(children=(IntProgress(value=0, max=80), HTML(value='')))"
      ]
     },
     "metadata": {},
     "output_type": "display_data"
    },
    {
     "data": {
      "application/vnd.jupyter.widget-view+json": {
       "model_id": "",
       "version_major": 2,
       "version_minor": 0
      },
      "text/plain": [
       "HBox(children=(IntProgress(value=0, max=79), HTML(value='')))"
      ]
     },
     "metadata": {},
     "output_type": "display_data"
    },
    {
     "data": {
      "application/vnd.jupyter.widget-view+json": {
       "model_id": "",
       "version_major": 2,
       "version_minor": 0
      },
      "text/plain": [
       "HBox(children=(IntProgress(value=0, max=79), HTML(value='')))"
      ]
     },
     "metadata": {},
     "output_type": "display_data"
    },
    {
     "data": {
      "application/vnd.jupyter.widget-view+json": {
       "model_id": "",
       "version_major": 2,
       "version_minor": 0
      },
      "text/plain": [
       "HBox(children=(IntProgress(value=0, max=78), HTML(value='')))"
      ]
     },
     "metadata": {},
     "output_type": "display_data"
    },
    {
     "data": {
      "application/vnd.jupyter.widget-view+json": {
       "model_id": "",
       "version_major": 2,
       "version_minor": 0
      },
      "text/plain": [
       "HBox(children=(IntProgress(value=0, max=77), HTML(value='')))"
      ]
     },
     "metadata": {},
     "output_type": "display_data"
    },
    {
     "data": {
      "application/vnd.jupyter.widget-view+json": {
       "model_id": "",
       "version_major": 2,
       "version_minor": 0
      },
      "text/plain": [
       "HBox(children=(IntProgress(value=0, max=77), HTML(value='')))"
      ]
     },
     "metadata": {},
     "output_type": "display_data"
    },
    {
     "data": {
      "application/vnd.jupyter.widget-view+json": {
       "model_id": "",
       "version_major": 2,
       "version_minor": 0
      },
      "text/plain": [
       "HBox(children=(IntProgress(value=0, max=76), HTML(value='')))"
      ]
     },
     "metadata": {},
     "output_type": "display_data"
    },
    {
     "data": {
      "application/vnd.jupyter.widget-view+json": {
       "model_id": "",
       "version_major": 2,
       "version_minor": 0
      },
      "text/plain": [
       "HBox(children=(IntProgress(value=0, max=75), HTML(value='')))"
      ]
     },
     "metadata": {},
     "output_type": "display_data"
    },
    {
     "data": {
      "application/vnd.jupyter.widget-view+json": {
       "model_id": "",
       "version_major": 2,
       "version_minor": 0
      },
      "text/plain": [
       "HBox(children=(IntProgress(value=0, max=74), HTML(value='')))"
      ]
     },
     "metadata": {},
     "output_type": "display_data"
    },
    {
     "data": {
      "application/vnd.jupyter.widget-view+json": {
       "model_id": "",
       "version_major": 2,
       "version_minor": 0
      },
      "text/plain": [
       "HBox(children=(IntProgress(value=0, max=74), HTML(value='')))"
      ]
     },
     "metadata": {},
     "output_type": "display_data"
    },
    {
     "data": {
      "application/vnd.jupyter.widget-view+json": {
       "model_id": "",
       "version_major": 2,
       "version_minor": 0
      },
      "text/plain": [
       "HBox(children=(IntProgress(value=0, max=74), HTML(value='')))"
      ]
     },
     "metadata": {},
     "output_type": "display_data"
    },
    {
     "data": {
      "application/vnd.jupyter.widget-view+json": {
       "model_id": "",
       "version_major": 2,
       "version_minor": 0
      },
      "text/plain": [
       "HBox(children=(IntProgress(value=0, max=73), HTML(value='')))"
      ]
     },
     "metadata": {},
     "output_type": "display_data"
    },
    {
     "data": {
      "application/vnd.jupyter.widget-view+json": {
       "model_id": "",
       "version_major": 2,
       "version_minor": 0
      },
      "text/plain": [
       "HBox(children=(IntProgress(value=0, max=72), HTML(value='')))"
      ]
     },
     "metadata": {},
     "output_type": "display_data"
    },
    {
     "data": {
      "application/vnd.jupyter.widget-view+json": {
       "model_id": "",
       "version_major": 2,
       "version_minor": 0
      },
      "text/plain": [
       "HBox(children=(IntProgress(value=0, max=73), HTML(value='')))"
      ]
     },
     "metadata": {},
     "output_type": "display_data"
    },
    {
     "data": {
      "application/vnd.jupyter.widget-view+json": {
       "model_id": "",
       "version_major": 2,
       "version_minor": 0
      },
      "text/plain": [
       "HBox(children=(IntProgress(value=0, max=72), HTML(value='')))"
      ]
     },
     "metadata": {},
     "output_type": "display_data"
    },
    {
     "data": {
      "application/vnd.jupyter.widget-view+json": {
       "model_id": "",
       "version_major": 2,
       "version_minor": 0
      },
      "text/plain": [
       "HBox(children=(IntProgress(value=0, max=71), HTML(value='')))"
      ]
     },
     "metadata": {},
     "output_type": "display_data"
    },
    {
     "data": {
      "application/vnd.jupyter.widget-view+json": {
       "model_id": "",
       "version_major": 2,
       "version_minor": 0
      },
      "text/plain": [
       "HBox(children=(IntProgress(value=0, max=71), HTML(value='')))"
      ]
     },
     "metadata": {},
     "output_type": "display_data"
    },
    {
     "data": {
      "application/vnd.jupyter.widget-view+json": {
       "model_id": "",
       "version_major": 2,
       "version_minor": 0
      },
      "text/plain": [
       "HBox(children=(IntProgress(value=0, max=70), HTML(value='')))"
      ]
     },
     "metadata": {},
     "output_type": "display_data"
    },
    {
     "data": {
      "application/vnd.jupyter.widget-view+json": {
       "model_id": "",
       "version_major": 2,
       "version_minor": 0
      },
      "text/plain": [
       "HBox(children=(IntProgress(value=0, max=69), HTML(value='')))"
      ]
     },
     "metadata": {},
     "output_type": "display_data"
    },
    {
     "data": {
      "application/vnd.jupyter.widget-view+json": {
       "model_id": "",
       "version_major": 2,
       "version_minor": 0
      },
      "text/plain": [
       "HBox(children=(IntProgress(value=0, max=68), HTML(value='')))"
      ]
     },
     "metadata": {},
     "output_type": "display_data"
    },
    {
     "data": {
      "application/vnd.jupyter.widget-view+json": {
       "model_id": "",
       "version_major": 2,
       "version_minor": 0
      },
      "text/plain": [
       "HBox(children=(IntProgress(value=0, max=67), HTML(value='')))"
      ]
     },
     "metadata": {},
     "output_type": "display_data"
    },
    {
     "data": {
      "application/vnd.jupyter.widget-view+json": {
       "model_id": "",
       "version_major": 2,
       "version_minor": 0
      },
      "text/plain": [
       "HBox(children=(IntProgress(value=0, max=66), HTML(value='')))"
      ]
     },
     "metadata": {},
     "output_type": "display_data"
    },
    {
     "data": {
      "application/vnd.jupyter.widget-view+json": {
       "model_id": "",
       "version_major": 2,
       "version_minor": 0
      },
      "text/plain": [
       "HBox(children=(IntProgress(value=0, max=65), HTML(value='')))"
      ]
     },
     "metadata": {},
     "output_type": "display_data"
    },
    {
     "data": {
      "application/vnd.jupyter.widget-view+json": {
       "model_id": "",
       "version_major": 2,
       "version_minor": 0
      },
      "text/plain": [
       "HBox(children=(IntProgress(value=0, max=64), HTML(value='')))"
      ]
     },
     "metadata": {},
     "output_type": "display_data"
    },
    {
     "data": {
      "application/vnd.jupyter.widget-view+json": {
       "model_id": "",
       "version_major": 2,
       "version_minor": 0
      },
      "text/plain": [
       "HBox(children=(IntProgress(value=0, max=63), HTML(value='')))"
      ]
     },
     "metadata": {},
     "output_type": "display_data"
    },
    {
     "data": {
      "application/vnd.jupyter.widget-view+json": {
       "model_id": "",
       "version_major": 2,
       "version_minor": 0
      },
      "text/plain": [
       "HBox(children=(IntProgress(value=0, max=62), HTML(value='')))"
      ]
     },
     "metadata": {},
     "output_type": "display_data"
    },
    {
     "data": {
      "application/vnd.jupyter.widget-view+json": {
       "model_id": "",
       "version_major": 2,
       "version_minor": 0
      },
      "text/plain": [
       "HBox(children=(IntProgress(value=0, max=61), HTML(value='')))"
      ]
     },
     "metadata": {},
     "output_type": "display_data"
    },
    {
     "data": {
      "application/vnd.jupyter.widget-view+json": {
       "model_id": "",
       "version_major": 2,
       "version_minor": 0
      },
      "text/plain": [
       "HBox(children=(IntProgress(value=0, max=61), HTML(value='')))"
      ]
     },
     "metadata": {},
     "output_type": "display_data"
    },
    {
     "data": {
      "application/vnd.jupyter.widget-view+json": {
       "model_id": "",
       "version_major": 2,
       "version_minor": 0
      },
      "text/plain": [
       "HBox(children=(IntProgress(value=0, max=61), HTML(value='')))"
      ]
     },
     "metadata": {},
     "output_type": "display_data"
    },
    {
     "data": {
      "application/vnd.jupyter.widget-view+json": {
       "model_id": "",
       "version_major": 2,
       "version_minor": 0
      },
      "text/plain": [
       "HBox(children=(IntProgress(value=0, max=61), HTML(value='')))"
      ]
     },
     "metadata": {},
     "output_type": "display_data"
    },
    {
     "data": {
      "application/vnd.jupyter.widget-view+json": {
       "model_id": "",
       "version_major": 2,
       "version_minor": 0
      },
      "text/plain": [
       "HBox(children=(IntProgress(value=0, max=60), HTML(value='')))"
      ]
     },
     "metadata": {},
     "output_type": "display_data"
    },
    {
     "data": {
      "application/vnd.jupyter.widget-view+json": {
       "model_id": "",
       "version_major": 2,
       "version_minor": 0
      },
      "text/plain": [
       "HBox(children=(IntProgress(value=0, max=59), HTML(value='')))"
      ]
     },
     "metadata": {},
     "output_type": "display_data"
    },
    {
     "data": {
      "application/vnd.jupyter.widget-view+json": {
       "model_id": "",
       "version_major": 2,
       "version_minor": 0
      },
      "text/plain": [
       "HBox(children=(IntProgress(value=0, max=59), HTML(value='')))"
      ]
     },
     "metadata": {},
     "output_type": "display_data"
    },
    {
     "data": {
      "application/vnd.jupyter.widget-view+json": {
       "model_id": "",
       "version_major": 2,
       "version_minor": 0
      },
      "text/plain": [
       "HBox(children=(IntProgress(value=0, max=58), HTML(value='')))"
      ]
     },
     "metadata": {},
     "output_type": "display_data"
    },
    {
     "data": {
      "application/vnd.jupyter.widget-view+json": {
       "model_id": "",
       "version_major": 2,
       "version_minor": 0
      },
      "text/plain": [
       "HBox(children=(IntProgress(value=0, max=57), HTML(value='')))"
      ]
     },
     "metadata": {},
     "output_type": "display_data"
    },
    {
     "data": {
      "application/vnd.jupyter.widget-view+json": {
       "model_id": "",
       "version_major": 2,
       "version_minor": 0
      },
      "text/plain": [
       "HBox(children=(IntProgress(value=0, max=56), HTML(value='')))"
      ]
     },
     "metadata": {},
     "output_type": "display_data"
    },
    {
     "data": {
      "application/vnd.jupyter.widget-view+json": {
       "model_id": "",
       "version_major": 2,
       "version_minor": 0
      },
      "text/plain": [
       "HBox(children=(IntProgress(value=0, max=55), HTML(value='')))"
      ]
     },
     "metadata": {},
     "output_type": "display_data"
    },
    {
     "data": {
      "application/vnd.jupyter.widget-view+json": {
       "model_id": "",
       "version_major": 2,
       "version_minor": 0
      },
      "text/plain": [
       "HBox(children=(IntProgress(value=0, max=55), HTML(value='')))"
      ]
     },
     "metadata": {},
     "output_type": "display_data"
    },
    {
     "data": {
      "application/vnd.jupyter.widget-view+json": {
       "model_id": "",
       "version_major": 2,
       "version_minor": 0
      },
      "text/plain": [
       "HBox(children=(IntProgress(value=0, max=55), HTML(value='')))"
      ]
     },
     "metadata": {},
     "output_type": "display_data"
    },
    {
     "data": {
      "application/vnd.jupyter.widget-view+json": {
       "model_id": "",
       "version_major": 2,
       "version_minor": 0
      },
      "text/plain": [
       "HBox(children=(IntProgress(value=0, max=55), HTML(value='')))"
      ]
     },
     "metadata": {},
     "output_type": "display_data"
    },
    {
     "data": {
      "application/vnd.jupyter.widget-view+json": {
       "model_id": "",
       "version_major": 2,
       "version_minor": 0
      },
      "text/plain": [
       "HBox(children=(IntProgress(value=0, max=54), HTML(value='')))"
      ]
     },
     "metadata": {},
     "output_type": "display_data"
    },
    {
     "data": {
      "application/vnd.jupyter.widget-view+json": {
       "model_id": "",
       "version_major": 2,
       "version_minor": 0
      },
      "text/plain": [
       "HBox(children=(IntProgress(value=0, max=54), HTML(value='')))"
      ]
     },
     "metadata": {},
     "output_type": "display_data"
    },
    {
     "data": {
      "application/vnd.jupyter.widget-view+json": {
       "model_id": "",
       "version_major": 2,
       "version_minor": 0
      },
      "text/plain": [
       "HBox(children=(IntProgress(value=0, max=53), HTML(value='')))"
      ]
     },
     "metadata": {},
     "output_type": "display_data"
    },
    {
     "data": {
      "application/vnd.jupyter.widget-view+json": {
       "model_id": "",
       "version_major": 2,
       "version_minor": 0
      },
      "text/plain": [
       "HBox(children=(IntProgress(value=0, max=53), HTML(value='')))"
      ]
     },
     "metadata": {},
     "output_type": "display_data"
    },
    {
     "data": {
      "application/vnd.jupyter.widget-view+json": {
       "model_id": "",
       "version_major": 2,
       "version_minor": 0
      },
      "text/plain": [
       "HBox(children=(IntProgress(value=0, max=52), HTML(value='')))"
      ]
     },
     "metadata": {},
     "output_type": "display_data"
    },
    {
     "data": {
      "application/vnd.jupyter.widget-view+json": {
       "model_id": "",
       "version_major": 2,
       "version_minor": 0
      },
      "text/plain": [
       "HBox(children=(IntProgress(value=0, max=51), HTML(value='')))"
      ]
     },
     "metadata": {},
     "output_type": "display_data"
    },
    {
     "data": {
      "application/vnd.jupyter.widget-view+json": {
       "model_id": "",
       "version_major": 2,
       "version_minor": 0
      },
      "text/plain": [
       "HBox(children=(IntProgress(value=0, max=51), HTML(value='')))"
      ]
     },
     "metadata": {},
     "output_type": "display_data"
    },
    {
     "data": {
      "application/vnd.jupyter.widget-view+json": {
       "model_id": "",
       "version_major": 2,
       "version_minor": 0
      },
      "text/plain": [
       "HBox(children=(IntProgress(value=0, max=51), HTML(value='')))"
      ]
     },
     "metadata": {},
     "output_type": "display_data"
    },
    {
     "data": {
      "application/vnd.jupyter.widget-view+json": {
       "model_id": "",
       "version_major": 2,
       "version_minor": 0
      },
      "text/plain": [
       "HBox(children=(IntProgress(value=0, max=51), HTML(value='')))"
      ]
     },
     "metadata": {},
     "output_type": "display_data"
    },
    {
     "data": {
      "application/vnd.jupyter.widget-view+json": {
       "model_id": "",
       "version_major": 2,
       "version_minor": 0
      },
      "text/plain": [
       "HBox(children=(IntProgress(value=0, max=51), HTML(value='')))"
      ]
     },
     "metadata": {},
     "output_type": "display_data"
    },
    {
     "data": {
      "application/vnd.jupyter.widget-view+json": {
       "model_id": "",
       "version_major": 2,
       "version_minor": 0
      },
      "text/plain": [
       "HBox(children=(IntProgress(value=0, max=51), HTML(value='')))"
      ]
     },
     "metadata": {},
     "output_type": "display_data"
    },
    {
     "data": {
      "application/vnd.jupyter.widget-view+json": {
       "model_id": "",
       "version_major": 2,
       "version_minor": 0
      },
      "text/plain": [
       "HBox(children=(IntProgress(value=0, max=50), HTML(value='')))"
      ]
     },
     "metadata": {},
     "output_type": "display_data"
    },
    {
     "data": {
      "application/vnd.jupyter.widget-view+json": {
       "model_id": "",
       "version_major": 2,
       "version_minor": 0
      },
      "text/plain": [
       "HBox(children=(IntProgress(value=0, max=50), HTML(value='')))"
      ]
     },
     "metadata": {},
     "output_type": "display_data"
    }
   ],
   "source": [
    "best_roc_concepts, roc_hystory, dc = select_best_roc_concepts(sorted(fm_bank._concepts, key=lambda c:c._idx), total_bb_preds)"
   ]
  },
  {
   "cell_type": "code",
   "execution_count": 173,
   "metadata": {},
   "outputs": [
    {
     "data": {
      "text/plain": [
       "(0.8880785432711487, 0.9205499922241079)"
      ]
     },
     "execution_count": 173,
     "metadata": {},
     "output_type": "execute_result"
    }
   ],
   "source": [
    "roc_hystory[0], roc_hystory[-1]"
   ]
  },
  {
   "cell_type": "code",
   "execution_count": 159,
   "metadata": {},
   "outputs": [
    {
     "data": {
      "application/vnd.jupyter.widget-view+json": {
       "model_id": "22e27818fd2d42fd853eaf52e1d47e88",
       "version_major": 2,
       "version_minor": 0
      },
      "text/plain": [
       "HBox(children=(IntProgress(value=0, max=107), HTML(value='')))"
      ]
     },
     "metadata": {},
     "output_type": "display_data"
    },
    {
     "data": {
      "application/vnd.jupyter.widget-view+json": {
       "model_id": "",
       "version_major": 2,
       "version_minor": 0
      },
      "text/plain": [
       "HBox(children=(IntProgress(value=0, max=82), HTML(value='')))"
      ]
     },
     "metadata": {},
     "output_type": "display_data"
    },
    {
     "data": {
      "application/vnd.jupyter.widget-view+json": {
       "model_id": "",
       "version_major": 2,
       "version_minor": 0
      },
      "text/plain": [
       "HBox(children=(IntProgress(value=0, max=81), HTML(value='')))"
      ]
     },
     "metadata": {},
     "output_type": "display_data"
    },
    {
     "data": {
      "application/vnd.jupyter.widget-view+json": {
       "model_id": "",
       "version_major": 2,
       "version_minor": 0
      },
      "text/plain": [
       "HBox(children=(IntProgress(value=0, max=80), HTML(value='')))"
      ]
     },
     "metadata": {},
     "output_type": "display_data"
    },
    {
     "data": {
      "application/vnd.jupyter.widget-view+json": {
       "model_id": "",
       "version_major": 2,
       "version_minor": 0
      },
      "text/plain": [
       "HBox(children=(IntProgress(value=0, max=79), HTML(value='')))"
      ]
     },
     "metadata": {},
     "output_type": "display_data"
    },
    {
     "data": {
      "application/vnd.jupyter.widget-view+json": {
       "model_id": "",
       "version_major": 2,
       "version_minor": 0
      },
      "text/plain": [
       "HBox(children=(IntProgress(value=0, max=78), HTML(value='')))"
      ]
     },
     "metadata": {},
     "output_type": "display_data"
    },
    {
     "data": {
      "application/vnd.jupyter.widget-view+json": {
       "model_id": "",
       "version_major": 2,
       "version_minor": 0
      },
      "text/plain": [
       "HBox(children=(IntProgress(value=0, max=78), HTML(value='')))"
      ]
     },
     "metadata": {},
     "output_type": "display_data"
    },
    {
     "data": {
      "application/vnd.jupyter.widget-view+json": {
       "model_id": "",
       "version_major": 2,
       "version_minor": 0
      },
      "text/plain": [
       "HBox(children=(IntProgress(value=0, max=78), HTML(value='')))"
      ]
     },
     "metadata": {},
     "output_type": "display_data"
    },
    {
     "data": {
      "application/vnd.jupyter.widget-view+json": {
       "model_id": "",
       "version_major": 2,
       "version_minor": 0
      },
      "text/plain": [
       "HBox(children=(IntProgress(value=0, max=77), HTML(value='')))"
      ]
     },
     "metadata": {},
     "output_type": "display_data"
    },
    {
     "data": {
      "application/vnd.jupyter.widget-view+json": {
       "model_id": "",
       "version_major": 2,
       "version_minor": 0
      },
      "text/plain": [
       "HBox(children=(IntProgress(value=0, max=76), HTML(value='')))"
      ]
     },
     "metadata": {},
     "output_type": "display_data"
    },
    {
     "data": {
      "application/vnd.jupyter.widget-view+json": {
       "model_id": "",
       "version_major": 2,
       "version_minor": 0
      },
      "text/plain": [
       "HBox(children=(IntProgress(value=0, max=75), HTML(value='')))"
      ]
     },
     "metadata": {},
     "output_type": "display_data"
    },
    {
     "data": {
      "application/vnd.jupyter.widget-view+json": {
       "model_id": "",
       "version_major": 2,
       "version_minor": 0
      },
      "text/plain": [
       "HBox(children=(IntProgress(value=0, max=76), HTML(value='')))"
      ]
     },
     "metadata": {},
     "output_type": "display_data"
    },
    {
     "data": {
      "application/vnd.jupyter.widget-view+json": {
       "model_id": "",
       "version_major": 2,
       "version_minor": 0
      },
      "text/plain": [
       "HBox(children=(IntProgress(value=0, max=75), HTML(value='')))"
      ]
     },
     "metadata": {},
     "output_type": "display_data"
    },
    {
     "data": {
      "application/vnd.jupyter.widget-view+json": {
       "model_id": "",
       "version_major": 2,
       "version_minor": 0
      },
      "text/plain": [
       "HBox(children=(IntProgress(value=0, max=74), HTML(value='')))"
      ]
     },
     "metadata": {},
     "output_type": "display_data"
    },
    {
     "data": {
      "application/vnd.jupyter.widget-view+json": {
       "model_id": "",
       "version_major": 2,
       "version_minor": 0
      },
      "text/plain": [
       "HBox(children=(IntProgress(value=0, max=73), HTML(value='')))"
      ]
     },
     "metadata": {},
     "output_type": "display_data"
    },
    {
     "data": {
      "application/vnd.jupyter.widget-view+json": {
       "model_id": "",
       "version_major": 2,
       "version_minor": 0
      },
      "text/plain": [
       "HBox(children=(IntProgress(value=0, max=72), HTML(value='')))"
      ]
     },
     "metadata": {},
     "output_type": "display_data"
    },
    {
     "data": {
      "application/vnd.jupyter.widget-view+json": {
       "model_id": "",
       "version_major": 2,
       "version_minor": 0
      },
      "text/plain": [
       "HBox(children=(IntProgress(value=0, max=71), HTML(value='')))"
      ]
     },
     "metadata": {},
     "output_type": "display_data"
    },
    {
     "data": {
      "application/vnd.jupyter.widget-view+json": {
       "model_id": "",
       "version_major": 2,
       "version_minor": 0
      },
      "text/plain": [
       "HBox(children=(IntProgress(value=0, max=70), HTML(value='')))"
      ]
     },
     "metadata": {},
     "output_type": "display_data"
    },
    {
     "data": {
      "application/vnd.jupyter.widget-view+json": {
       "model_id": "",
       "version_major": 2,
       "version_minor": 0
      },
      "text/plain": [
       "HBox(children=(IntProgress(value=0, max=69), HTML(value='')))"
      ]
     },
     "metadata": {},
     "output_type": "display_data"
    },
    {
     "data": {
      "application/vnd.jupyter.widget-view+json": {
       "model_id": "",
       "version_major": 2,
       "version_minor": 0
      },
      "text/plain": [
       "HBox(children=(IntProgress(value=0, max=69), HTML(value='')))"
      ]
     },
     "metadata": {},
     "output_type": "display_data"
    },
    {
     "data": {
      "application/vnd.jupyter.widget-view+json": {
       "model_id": "",
       "version_major": 2,
       "version_minor": 0
      },
      "text/plain": [
       "HBox(children=(IntProgress(value=0, max=68), HTML(value='')))"
      ]
     },
     "metadata": {},
     "output_type": "display_data"
    },
    {
     "data": {
      "application/vnd.jupyter.widget-view+json": {
       "model_id": "",
       "version_major": 2,
       "version_minor": 0
      },
      "text/plain": [
       "HBox(children=(IntProgress(value=0, max=68), HTML(value='')))"
      ]
     },
     "metadata": {},
     "output_type": "display_data"
    },
    {
     "data": {
      "application/vnd.jupyter.widget-view+json": {
       "model_id": "",
       "version_major": 2,
       "version_minor": 0
      },
      "text/plain": [
       "HBox(children=(IntProgress(value=0, max=67), HTML(value='')))"
      ]
     },
     "metadata": {},
     "output_type": "display_data"
    },
    {
     "data": {
      "application/vnd.jupyter.widget-view+json": {
       "model_id": "",
       "version_major": 2,
       "version_minor": 0
      },
      "text/plain": [
       "HBox(children=(IntProgress(value=0, max=66), HTML(value='')))"
      ]
     },
     "metadata": {},
     "output_type": "display_data"
    },
    {
     "data": {
      "application/vnd.jupyter.widget-view+json": {
       "model_id": "",
       "version_major": 2,
       "version_minor": 0
      },
      "text/plain": [
       "HBox(children=(IntProgress(value=0, max=65), HTML(value='')))"
      ]
     },
     "metadata": {},
     "output_type": "display_data"
    },
    {
     "data": {
      "application/vnd.jupyter.widget-view+json": {
       "model_id": "",
       "version_major": 2,
       "version_minor": 0
      },
      "text/plain": [
       "HBox(children=(IntProgress(value=0, max=65), HTML(value='')))"
      ]
     },
     "metadata": {},
     "output_type": "display_data"
    },
    {
     "data": {
      "application/vnd.jupyter.widget-view+json": {
       "model_id": "",
       "version_major": 2,
       "version_minor": 0
      },
      "text/plain": [
       "HBox(children=(IntProgress(value=0, max=64), HTML(value='')))"
      ]
     },
     "metadata": {},
     "output_type": "display_data"
    },
    {
     "data": {
      "application/vnd.jupyter.widget-view+json": {
       "model_id": "",
       "version_major": 2,
       "version_minor": 0
      },
      "text/plain": [
       "HBox(children=(IntProgress(value=0, max=64), HTML(value='')))"
      ]
     },
     "metadata": {},
     "output_type": "display_data"
    },
    {
     "data": {
      "application/vnd.jupyter.widget-view+json": {
       "model_id": "",
       "version_major": 2,
       "version_minor": 0
      },
      "text/plain": [
       "HBox(children=(IntProgress(value=0, max=64), HTML(value='')))"
      ]
     },
     "metadata": {},
     "output_type": "display_data"
    },
    {
     "data": {
      "application/vnd.jupyter.widget-view+json": {
       "model_id": "",
       "version_major": 2,
       "version_minor": 0
      },
      "text/plain": [
       "HBox(children=(IntProgress(value=0, max=63), HTML(value='')))"
      ]
     },
     "metadata": {},
     "output_type": "display_data"
    },
    {
     "data": {
      "application/vnd.jupyter.widget-view+json": {
       "model_id": "",
       "version_major": 2,
       "version_minor": 0
      },
      "text/plain": [
       "HBox(children=(IntProgress(value=0, max=62), HTML(value='')))"
      ]
     },
     "metadata": {},
     "output_type": "display_data"
    },
    {
     "data": {
      "application/vnd.jupyter.widget-view+json": {
       "model_id": "",
       "version_major": 2,
       "version_minor": 0
      },
      "text/plain": [
       "HBox(children=(IntProgress(value=0, max=63), HTML(value='')))"
      ]
     },
     "metadata": {},
     "output_type": "display_data"
    },
    {
     "data": {
      "application/vnd.jupyter.widget-view+json": {
       "model_id": "",
       "version_major": 2,
       "version_minor": 0
      },
      "text/plain": [
       "HBox(children=(IntProgress(value=0, max=63), HTML(value='')))"
      ]
     },
     "metadata": {},
     "output_type": "display_data"
    },
    {
     "data": {
      "application/vnd.jupyter.widget-view+json": {
       "model_id": "",
       "version_major": 2,
       "version_minor": 0
      },
      "text/plain": [
       "HBox(children=(IntProgress(value=0, max=63), HTML(value='')))"
      ]
     },
     "metadata": {},
     "output_type": "display_data"
    },
    {
     "data": {
      "application/vnd.jupyter.widget-view+json": {
       "model_id": "",
       "version_major": 2,
       "version_minor": 0
      },
      "text/plain": [
       "HBox(children=(IntProgress(value=0, max=62), HTML(value='')))"
      ]
     },
     "metadata": {},
     "output_type": "display_data"
    },
    {
     "data": {
      "application/vnd.jupyter.widget-view+json": {
       "model_id": "",
       "version_major": 2,
       "version_minor": 0
      },
      "text/plain": [
       "HBox(children=(IntProgress(value=0, max=61), HTML(value='')))"
      ]
     },
     "metadata": {},
     "output_type": "display_data"
    },
    {
     "data": {
      "application/vnd.jupyter.widget-view+json": {
       "model_id": "",
       "version_major": 2,
       "version_minor": 0
      },
      "text/plain": [
       "HBox(children=(IntProgress(value=0, max=61), HTML(value='')))"
      ]
     },
     "metadata": {},
     "output_type": "display_data"
    },
    {
     "data": {
      "application/vnd.jupyter.widget-view+json": {
       "model_id": "",
       "version_major": 2,
       "version_minor": 0
      },
      "text/plain": [
       "HBox(children=(IntProgress(value=0, max=60), HTML(value='')))"
      ]
     },
     "metadata": {},
     "output_type": "display_data"
    },
    {
     "data": {
      "application/vnd.jupyter.widget-view+json": {
       "model_id": "",
       "version_major": 2,
       "version_minor": 0
      },
      "text/plain": [
       "HBox(children=(IntProgress(value=0, max=59), HTML(value='')))"
      ]
     },
     "metadata": {},
     "output_type": "display_data"
    },
    {
     "data": {
      "application/vnd.jupyter.widget-view+json": {
       "model_id": "",
       "version_major": 2,
       "version_minor": 0
      },
      "text/plain": [
       "HBox(children=(IntProgress(value=0, max=58), HTML(value='')))"
      ]
     },
     "metadata": {},
     "output_type": "display_data"
    },
    {
     "data": {
      "application/vnd.jupyter.widget-view+json": {
       "model_id": "",
       "version_major": 2,
       "version_minor": 0
      },
      "text/plain": [
       "HBox(children=(IntProgress(value=0, max=57), HTML(value='')))"
      ]
     },
     "metadata": {},
     "output_type": "display_data"
    },
    {
     "data": {
      "application/vnd.jupyter.widget-view+json": {
       "model_id": "",
       "version_major": 2,
       "version_minor": 0
      },
      "text/plain": [
       "HBox(children=(IntProgress(value=0, max=57), HTML(value='')))"
      ]
     },
     "metadata": {},
     "output_type": "display_data"
    },
    {
     "data": {
      "application/vnd.jupyter.widget-view+json": {
       "model_id": "",
       "version_major": 2,
       "version_minor": 0
      },
      "text/plain": [
       "HBox(children=(IntProgress(value=0, max=56), HTML(value='')))"
      ]
     },
     "metadata": {},
     "output_type": "display_data"
    },
    {
     "data": {
      "application/vnd.jupyter.widget-view+json": {
       "model_id": "",
       "version_major": 2,
       "version_minor": 0
      },
      "text/plain": [
       "HBox(children=(IntProgress(value=0, max=55), HTML(value='')))"
      ]
     },
     "metadata": {},
     "output_type": "display_data"
    },
    {
     "data": {
      "application/vnd.jupyter.widget-view+json": {
       "model_id": "",
       "version_major": 2,
       "version_minor": 0
      },
      "text/plain": [
       "HBox(children=(IntProgress(value=0, max=54), HTML(value='')))"
      ]
     },
     "metadata": {},
     "output_type": "display_data"
    },
    {
     "data": {
      "application/vnd.jupyter.widget-view+json": {
       "model_id": "",
       "version_major": 2,
       "version_minor": 0
      },
      "text/plain": [
       "HBox(children=(IntProgress(value=0, max=53), HTML(value='')))"
      ]
     },
     "metadata": {},
     "output_type": "display_data"
    },
    {
     "data": {
      "application/vnd.jupyter.widget-view+json": {
       "model_id": "",
       "version_major": 2,
       "version_minor": 0
      },
      "text/plain": [
       "HBox(children=(IntProgress(value=0, max=52), HTML(value='')))"
      ]
     },
     "metadata": {},
     "output_type": "display_data"
    },
    {
     "data": {
      "application/vnd.jupyter.widget-view+json": {
       "model_id": "",
       "version_major": 2,
       "version_minor": 0
      },
      "text/plain": [
       "HBox(children=(IntProgress(value=0, max=51), HTML(value='')))"
      ]
     },
     "metadata": {},
     "output_type": "display_data"
    },
    {
     "data": {
      "application/vnd.jupyter.widget-view+json": {
       "model_id": "",
       "version_major": 2,
       "version_minor": 0
      },
      "text/plain": [
       "HBox(children=(IntProgress(value=0, max=50), HTML(value='')))"
      ]
     },
     "metadata": {},
     "output_type": "display_data"
    },
    {
     "data": {
      "application/vnd.jupyter.widget-view+json": {
       "model_id": "",
       "version_major": 2,
       "version_minor": 0
      },
      "text/plain": [
       "HBox(children=(IntProgress(value=0, max=50), HTML(value='')))"
      ]
     },
     "metadata": {},
     "output_type": "display_data"
    }
   ],
   "source": [
    "best_roc_concepts_stab, roc_hystory_stab, dc = select_best_roc_concepts(sorted(fm_bank_stab._concepts, key=lambda c:c._idx), total_bb_preds)"
   ]
  },
  {
   "cell_type": "code",
   "execution_count": 174,
   "metadata": {},
   "outputs": [
    {
     "data": {
      "text/plain": [
       "(0.8942881001805358, 0.9256242688971081)"
      ]
     },
     "execution_count": 174,
     "metadata": {},
     "output_type": "execute_result"
    }
   ],
   "source": [
    "roc_hystory_stab[0], roc_hystory_stab[-1]"
   ]
  },
  {
   "cell_type": "code",
   "execution_count": 160,
   "metadata": {},
   "outputs": [
    {
     "data": {
      "text/plain": [
       "(72, 59)"
      ]
     },
     "execution_count": 160,
     "metadata": {},
     "output_type": "execute_result"
    }
   ],
   "source": [
    "len(best_roc_concepts), len(best_roc_concepts_stab)"
   ]
  },
  {
   "cell_type": "code",
   "execution_count": 161,
   "metadata": {},
   "outputs": [
    {
     "data": {
      "text/plain": [
       "(0.5, 0.5514018691588785)"
      ]
     },
     "execution_count": 161,
     "metadata": {},
     "output_type": "execute_result"
    }
   ],
   "source": [
    "len(best_roc_concepts)/len(fm_bank._concepts), len(best_roc_concepts_stab)/len(fm_bank_stab._concepts)"
   ]
  },
  {
   "cell_type": "code",
   "execution_count": 169,
   "metadata": {},
   "outputs": [
    {
     "data": {
      "text/plain": [
       "0.9340354174977856"
      ]
     },
     "execution_count": 169,
     "metadata": {},
     "output_type": "execute_result"
    }
   ],
   "source": [
    "base_roc_rf = roc_auc_score(total_bb_preds, rf.predict_proba(bin_ds_short)[:,1])\n",
    "base_roc_rf"
   ]
  },
  {
   "cell_type": "code",
   "execution_count": 172,
   "metadata": {},
   "outputs": [
    {
     "data": {
      "image/png": "[encoded data removed]",
      "text/plain": [
       "<Figure size 1080x360 with 1 Axes>"
      ]
     },
     "metadata": {
      "needs_background": "light"
     },
     "output_type": "display_data"
    }
   ],
   "source": [
    "plt.figure(figsize=(15,5))\n",
    "plt.plot(roc_hystory, label='All concepts')\n",
    "plt.plot(roc_hystory_stab, label='Stable concepts')\n",
    "plt.axhline(base_roc_rf, label='Random Forest prediction', linestyle='--', color='green')\n",
    "plt.legend()\n",
    "plt.xlabel('Iteration')\n",
    "plt.ylabel('ROC AUC score')\n",
    "plt.title('Quality of Hypotheses while selecting best ones')\n",
    "plt.show()"
   ]
  }
 ],
 "metadata": {
  "kernelspec": {
   "display_name": "Python 3",
   "language": "python",
   "name": "python3"
  },
  "language_info": {
   "codemirror_mode": {
    "name": "ipython",
    "version": 3
   },
   "file_extension": ".py",
   "mimetype": "text/x-python",
   "name": "python",
   "nbconvert_exporter": "python",
   "pygments_lexer": "ipython3",
   "version": "3.7.4"
  }
 },
 "nbformat": 4,
 "nbformat_minor": 2
}
