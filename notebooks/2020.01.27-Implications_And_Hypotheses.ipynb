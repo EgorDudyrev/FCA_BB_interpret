{
 "cells": [
  {
   "cell_type": "markdown",
   "metadata": {},
   "source": [
    "# Preliminary"
   ]
  },
  {
   "cell_type": "code",
   "execution_count": 17,
   "metadata": {},
   "outputs": [
    {
     "data": {
      "text/html": [
       "<style>.container { width:90% !important; }</style>"
      ],
      "text/plain": [
       "<IPython.core.display.HTML object>"
      ]
     },
     "metadata": {},
     "output_type": "display_data"
    }
   ],
   "source": [
    "import numpy as np\n",
    "import pandas as pd\n",
    "from catboost import CatBoostClassifier, Pool, CatBoostRegressor\n",
    "from sklearn.model_selection import train_test_split\n",
    "from sklearn.metrics import accuracy_score, precision_score, recall_score\n",
    "\n",
    "from IPython.core.display import display, HTML\n",
    "display(HTML(\"<style>.container { width:90% !important; }</style>\"))\n",
    "\n",
    "import os\n",
    "import sys\n",
    "BASE_PATH = os.path.realpath('..')\n",
    "DATASETS_DIR = os.path.join(BASE_PATH, 'datasets')\n",
    "LIB_DIR = os.path.join(BASE_PATH,'lib')\n",
    "if LIB_DIR not in sys.path:\n",
    "    sys.path.append(LIB_DIR)\n",
    "\n",
    "import matplotlib.pyplot as plt\n",
    "import seaborn as sns\n",
    "from tqdm import tqdm_notebook\n",
    "\n",
    "from importlib import reload"
   ]
  },
  {
   "cell_type": "code",
   "execution_count": 11,
   "metadata": {},
   "outputs": [],
   "source": [
    "import fca_interp as fcai"
   ]
  },
  {
   "cell_type": "markdown",
   "metadata": {},
   "source": [
    "# Mango DataSet"
   ]
  },
  {
   "cell_type": "code",
   "execution_count": 13,
   "metadata": {},
   "outputs": [
    {
     "name": "stdout",
     "output_type": "stream",
     "text": [
      "(8, 5)\n"
     ]
    },
    {
     "data": {
      "text/html": [
       "<div>\n",
       "<style scoped>\n",
       "    .dataframe tbody tr th:only-of-type {\n",
       "        vertical-align: middle;\n",
       "    }\n",
       "\n",
       "    .dataframe tbody tr th {\n",
       "        vertical-align: top;\n",
       "    }\n",
       "\n",
       "    .dataframe thead th {\n",
       "        text-align: right;\n",
       "    }\n",
       "</style>\n",
       "<table border=\"1\" class=\"dataframe\">\n",
       "  <thead>\n",
       "    <tr style=\"text-align: right;\">\n",
       "      <th></th>\n",
       "      <th>color</th>\n",
       "      <th>firm</th>\n",
       "      <th>smooth</th>\n",
       "      <th>form</th>\n",
       "      <th>fruit</th>\n",
       "    </tr>\n",
       "    <tr>\n",
       "      <th>title</th>\n",
       "      <th></th>\n",
       "      <th></th>\n",
       "      <th></th>\n",
       "      <th></th>\n",
       "      <th></th>\n",
       "    </tr>\n",
       "  </thead>\n",
       "  <tbody>\n",
       "    <tr>\n",
       "      <th>apple</th>\n",
       "      <td>yellow</td>\n",
       "      <td>False</td>\n",
       "      <td>True</td>\n",
       "      <td>round</td>\n",
       "      <td>True</td>\n",
       "    </tr>\n",
       "    <tr>\n",
       "      <th>grapefruit</th>\n",
       "      <td>yellow</td>\n",
       "      <td>False</td>\n",
       "      <td>False</td>\n",
       "      <td>round</td>\n",
       "      <td>True</td>\n",
       "    </tr>\n",
       "    <tr>\n",
       "      <th>kiwi</th>\n",
       "      <td>green</td>\n",
       "      <td>False</td>\n",
       "      <td>False</td>\n",
       "      <td>oval</td>\n",
       "      <td>True</td>\n",
       "    </tr>\n",
       "    <tr>\n",
       "      <th>plum</th>\n",
       "      <td>blue</td>\n",
       "      <td>False</td>\n",
       "      <td>True</td>\n",
       "      <td>oval</td>\n",
       "      <td>True</td>\n",
       "    </tr>\n",
       "    <tr>\n",
       "      <th>toy cube</th>\n",
       "      <td>green</td>\n",
       "      <td>True</td>\n",
       "      <td>True</td>\n",
       "      <td>cubic</td>\n",
       "      <td>False</td>\n",
       "    </tr>\n",
       "  </tbody>\n",
       "</table>\n",
       "</div>"
      ],
      "text/plain": [
       "             color   firm  smooth   form  fruit\n",
       "title                                          \n",
       "apple       yellow  False    True  round   True\n",
       "grapefruit  yellow  False   False  round   True\n",
       "kiwi         green  False   False   oval   True\n",
       "plum          blue  False    True   oval   True\n",
       "toy cube     green   True    True  cubic  False"
      ]
     },
     "execution_count": 13,
     "metadata": {},
     "output_type": "execute_result"
    }
   ],
   "source": [
    "mango_ds = pd.read_csv(os.path.join(DATASETS_DIR, 'mango.csv'), index_col=0)\n",
    "print(mango_ds.shape)\n",
    "mango_ds.head()"
   ]
  },
  {
   "cell_type": "code",
   "execution_count": 14,
   "metadata": {},
   "outputs": [
    {
     "name": "stdout",
     "output_type": "stream",
     "text": [
      "(8, 10)\n"
     ]
    },
    {
     "data": {
      "text/html": [
       "<div>\n",
       "<style scoped>\n",
       "    .dataframe tbody tr th:only-of-type {\n",
       "        vertical-align: middle;\n",
       "    }\n",
       "\n",
       "    .dataframe tbody tr th {\n",
       "        vertical-align: top;\n",
       "    }\n",
       "\n",
       "    .dataframe thead th {\n",
       "        text-align: right;\n",
       "    }\n",
       "</style>\n",
       "<table border=\"1\" class=\"dataframe\">\n",
       "  <thead>\n",
       "    <tr style=\"text-align: right;\">\n",
       "      <th></th>\n",
       "      <th>firm</th>\n",
       "      <th>smooth</th>\n",
       "      <th>fruit</th>\n",
       "      <th>color__yellow</th>\n",
       "      <th>color__green</th>\n",
       "      <th>color__blue</th>\n",
       "      <th>color__white</th>\n",
       "      <th>form__round</th>\n",
       "      <th>form__oval</th>\n",
       "      <th>form__cubic</th>\n",
       "    </tr>\n",
       "    <tr>\n",
       "      <th>title</th>\n",
       "      <th></th>\n",
       "      <th></th>\n",
       "      <th></th>\n",
       "      <th></th>\n",
       "      <th></th>\n",
       "      <th></th>\n",
       "      <th></th>\n",
       "      <th></th>\n",
       "      <th></th>\n",
       "      <th></th>\n",
       "    </tr>\n",
       "  </thead>\n",
       "  <tbody>\n",
       "    <tr>\n",
       "      <th>apple</th>\n",
       "      <td>False</td>\n",
       "      <td>True</td>\n",
       "      <td>True</td>\n",
       "      <td>True</td>\n",
       "      <td>False</td>\n",
       "      <td>False</td>\n",
       "      <td>False</td>\n",
       "      <td>True</td>\n",
       "      <td>False</td>\n",
       "      <td>False</td>\n",
       "    </tr>\n",
       "    <tr>\n",
       "      <th>grapefruit</th>\n",
       "      <td>False</td>\n",
       "      <td>False</td>\n",
       "      <td>True</td>\n",
       "      <td>True</td>\n",
       "      <td>False</td>\n",
       "      <td>False</td>\n",
       "      <td>False</td>\n",
       "      <td>True</td>\n",
       "      <td>False</td>\n",
       "      <td>False</td>\n",
       "    </tr>\n",
       "    <tr>\n",
       "      <th>kiwi</th>\n",
       "      <td>False</td>\n",
       "      <td>False</td>\n",
       "      <td>True</td>\n",
       "      <td>False</td>\n",
       "      <td>True</td>\n",
       "      <td>False</td>\n",
       "      <td>False</td>\n",
       "      <td>False</td>\n",
       "      <td>True</td>\n",
       "      <td>False</td>\n",
       "    </tr>\n",
       "    <tr>\n",
       "      <th>plum</th>\n",
       "      <td>False</td>\n",
       "      <td>True</td>\n",
       "      <td>True</td>\n",
       "      <td>False</td>\n",
       "      <td>False</td>\n",
       "      <td>True</td>\n",
       "      <td>False</td>\n",
       "      <td>False</td>\n",
       "      <td>True</td>\n",
       "      <td>False</td>\n",
       "    </tr>\n",
       "    <tr>\n",
       "      <th>toy cube</th>\n",
       "      <td>True</td>\n",
       "      <td>True</td>\n",
       "      <td>False</td>\n",
       "      <td>False</td>\n",
       "      <td>True</td>\n",
       "      <td>False</td>\n",
       "      <td>False</td>\n",
       "      <td>False</td>\n",
       "      <td>False</td>\n",
       "      <td>True</td>\n",
       "    </tr>\n",
       "  </tbody>\n",
       "</table>\n",
       "</div>"
      ],
      "text/plain": [
       "             firm  smooth  fruit  color__yellow  color__green  color__blue  \\\n",
       "title                                                                        \n",
       "apple       False    True   True           True         False        False   \n",
       "grapefruit  False   False   True           True         False        False   \n",
       "kiwi        False   False   True          False          True        False   \n",
       "plum        False    True   True          False         False         True   \n",
       "toy cube     True    True  False          False          True        False   \n",
       "\n",
       "            color__white  form__round  form__oval  form__cubic  \n",
       "title                                                           \n",
       "apple              False         True       False        False  \n",
       "grapefruit         False         True       False        False  \n",
       "kiwi               False        False        True        False  \n",
       "plum               False        False        True        False  \n",
       "toy cube           False        False       False         True  "
      ]
     },
     "execution_count": 14,
     "metadata": {},
     "output_type": "execute_result"
    }
   ],
   "source": [
    "mango_bin_ds = mango_ds.copy()\n",
    "for f in mango_bin_ds.columns:\n",
    "    if mango_bin_ds[f].nunique()>2:\n",
    "        for v in mango_bin_ds[f].unique():\n",
    "            mango_bin_ds[f\"{f}__{v}\"] = mango_bin_ds[f]==v\n",
    "        mango_bin_ds = mango_bin_ds.drop(f,1)\n",
    "print(mango_bin_ds.shape)\n",
    "mango_bin_ds.head()"
   ]
  },
  {
   "cell_type": "code",
   "execution_count": 30,
   "metadata": {},
   "outputs": [
    {
     "data": {
      "text/html": [
       "<div>\n",
       "<style scoped>\n",
       "    .dataframe tbody tr th:only-of-type {\n",
       "        vertical-align: middle;\n",
       "    }\n",
       "\n",
       "    .dataframe tbody tr th {\n",
       "        vertical-align: top;\n",
       "    }\n",
       "\n",
       "    .dataframe thead th {\n",
       "        text-align: right;\n",
       "    }\n",
       "</style>\n",
       "<table border=\"1\" class=\"dataframe\">\n",
       "  <thead>\n",
       "    <tr style=\"text-align: right;\">\n",
       "      <th></th>\n",
       "      <th>metrics</th>\n",
       "      <th>train</th>\n",
       "    </tr>\n",
       "  </thead>\n",
       "  <tbody>\n",
       "    <tr>\n",
       "      <th>0</th>\n",
       "      <td>accuracy_score</td>\n",
       "      <td>0.875000</td>\n",
       "    </tr>\n",
       "    <tr>\n",
       "      <th>1</th>\n",
       "      <td>precision_score</td>\n",
       "      <td>0.833333</td>\n",
       "    </tr>\n",
       "    <tr>\n",
       "      <th>2</th>\n",
       "      <td>recall_score</td>\n",
       "      <td>1.000000</td>\n",
       "    </tr>\n",
       "    <tr>\n",
       "      <th>3</th>\n",
       "      <td>y_mean</td>\n",
       "      <td>0.625000</td>\n",
       "    </tr>\n",
       "  </tbody>\n",
       "</table>\n",
       "</div>"
      ],
      "text/plain": [
       "           metrics     train\n",
       "0   accuracy_score  0.875000\n",
       "1  precision_score  0.833333\n",
       "2     recall_score  1.000000\n",
       "3           y_mean  0.625000"
      ]
     },
     "execution_count": 30,
     "metadata": {},
     "output_type": "execute_result"
    }
   ],
   "source": [
    "y_feat = 'fruit'\n",
    "s = mango_ds.drop(y_feat,1).dtypes\n",
    "cat_feats = list(s[s==np.dtype('O')].index)\n",
    "real_feats = list(s.drop(cat_feats).index)\n",
    "y_train = mango_ds[y_feat].astype(int)\n",
    "\n",
    "train_pool = Pool(mango_ds.drop(y_feat,1), y_train, cat_features=cat_feats)\n",
    "bb = CatBoostClassifier(random_seed=42)\n",
    "bb.fit(train_pool, verbose=False, plot=False)\n",
    "\n",
    "train_preds = bb.predict(train_pool)\n",
    "train_preds_proba = bb.predict_proba(train_pool)[:,1]\n",
    "metrics_ds = []\n",
    "for m in [accuracy_score, precision_score, recall_score]:\n",
    "    res = {'train':m(y_train, train_preds), 'metrics':m.__name__}\n",
    "    metrics_ds.append(res)\n",
    "metrics_ds.append({'train':y_train.mean(),  'metrics':'y_mean'})\n",
    "metrics_ds = pd.DataFrame(metrics_ds).reindex(columns=['metrics','train'])\n",
    "metrics_ds"
   ]
  },
  {
   "cell_type": "code",
   "execution_count": 45,
   "metadata": {},
   "outputs": [
    {
     "name": "stdout",
     "output_type": "stream",
     "text": [
      "CPU times: user 62 ms, sys: 432 µs, total: 62.4 ms\n",
      "Wall time: 60.4 ms\n"
     ]
    },
    {
     "name": "stderr",
     "output_type": "stream",
     "text": [
      "/home/egor/anaconda3/lib/python3.7/site-packages/sklearn/metrics/classification.py:1145: UndefinedMetricWarning:\n",
      "\n",
      "Recall is ill-defined and being set to 0.0 due to no true samples.\n",
      "\n",
      "/home/egor/anaconda3/lib/python3.7/site-packages/sklearn/metrics/classification.py:1143: UndefinedMetricWarning:\n",
      "\n",
      "Precision is ill-defined and being set to 0.0 due to no predicted samples.\n",
      "\n",
      "/home/egor/anaconda3/lib/python3.7/site-packages/sklearn/metrics/classification.py:1145: UndefinedMetricWarning:\n",
      "\n",
      "Recall is ill-defined and being set to 0.0 due to no true samples.\n",
      "\n",
      "/home/egor/anaconda3/lib/python3.7/site-packages/sklearn/metrics/classification.py:1143: UndefinedMetricWarning:\n",
      "\n",
      "Precision is ill-defined and being set to 0.0 due to no predicted samples.\n",
      "\n"
     ]
    }
   ],
   "source": [
    "%%time\n",
    "cntx = fcai.Context(mango_bin_ds.drop(y_feat,1),y_true=y_train, y_pred=train_preds)\n",
    "fm = fcai.FormalManager(cntx, ds_obj=None, task_type='binary classification')\n",
    "fm.construct_concepts(use_tqdm=False)\n",
    "fm.construct_lattice(use_tqdm=False)"
   ]
  },
  {
   "cell_type": "code",
   "execution_count": 46,
   "metadata": {},
   "outputs": [],
   "source": [
    "fig = fm.get_plotly_fig(level_sort='mean', sort_by='y_true',\n",
    "                        y_precision=2, title='Mango Dataset Concept Lattice', cbar_title='Mean fruit prediction',\n",
    "                        color_by='y_pred',)"
   ]
  },
  {
   "cell_type": "code",
   "execution_count": 47,
   "metadata": {},
   "outputs": [
    {
     "data": {
      "application/vnd.plotly.v1+json": {
       "config": {
        "plotlyServerURL": "https://plot.ly"
       },
       "data": [
        {
         "hoverinfo": "none",
         "line": {
          "color": "#888",
          "width": 0.5
         },
         "mode": "lines",
         "type": "scatter",
         "x": [
          -2,
          -1,
          null,
          -2,
          -1.5,
          null,
          -2,
          0,
          null,
          -1,
          0,
          null,
          -1,
          0.5,
          null,
          -1,
          -2.5,
          null,
          0,
          -1.5,
          null,
          0,
          -2,
          null,
          0,
          1,
          null,
          0,
          2,
          null,
          0,
          0,
          null,
          2.5,
          2,
          null,
          2.5,
          2,
          null,
          2.5,
          1,
          null,
          -0.5,
          2,
          null,
          -0.5,
          -2,
          null,
          -0.5,
          1,
          null,
          -0.5,
          -1,
          null,
          0.5,
          1,
          null,
          0.5,
          2,
          null,
          0.5,
          2,
          null,
          0.5,
          -1,
          null,
          -1.5,
          0,
          null,
          -2.5,
          -2,
          null,
          -2.5,
          -1,
          null,
          0,
          1.5,
          null,
          0,
          0,
          null,
          2,
          0,
          null,
          0,
          -1,
          null,
          0,
          1,
          null,
          0,
          1.5,
          null,
          0,
          -1,
          null
         ],
         "y": [
          4,
          2,
          null,
          4,
          3,
          null,
          4,
          5,
          null,
          2,
          1,
          null,
          2,
          3,
          null,
          2,
          3,
          null,
          1,
          3,
          null,
          1,
          2,
          null,
          1,
          2,
          null,
          1,
          2,
          null,
          1,
          2,
          null,
          3,
          2,
          null,
          3,
          4,
          null,
          3,
          4,
          null,
          3,
          2,
          null,
          3,
          2,
          null,
          3,
          4,
          null,
          3,
          4,
          null,
          3,
          2,
          null,
          3,
          2,
          null,
          3,
          4,
          null,
          3,
          4,
          null,
          3,
          4,
          null,
          3,
          2,
          null,
          3,
          4,
          null,
          4,
          3,
          null,
          4,
          5,
          null,
          4,
          5,
          null,
          5,
          4,
          null,
          5,
          4,
          null,
          2,
          3,
          null,
          2,
          4,
          null
         ]
        },
        {
         "hoverinfo": "text",
         "hovertext": [
          "Concept 3<br>extent (len: 2): egg, tennis ball<br>intent (len: 1): color__white<br>new extent (len: 0): emptyset<br>new intent (len: 1): color__white<br>mean_y_true: 0.0<br>mean_y_pred: 0.5<br>Metrics<br>\taccuracy: 0.5<br>\tprecision: 0.0<br>\trecall: 0.0<br>\tneg_precision: 1.0<br>\tneg_recall: 0.5<br><br>",
          "Concept 16<br>extent (len: 1): egg<br>intent (len: 4): firm, smooth, color__white, form__oval<br>new extent (len: 1): egg<br>new intent (len: 0): emptyset<br>mean_y_true: 0.0<br>mean_y_pred: 0.0<br>Metrics<br>\taccuracy: 1.0<br>\tprecision: 0.0<br>\trecall: 0.0<br>\tneg_precision: 1.0<br>\tneg_recall: 1.0<br><br>",
          "Concept 17<br>extent (len: 0): emptyset<br>intent (len: 9): firm, smooth, color__yellow, color__green, color__blue, color__white, form__round, form__oval, form__cubic<br>new extent (len: 0): emptyset<br>new intent (len: 0): emptyset<br><br>",
          "Concept 8<br>extent (len: 2): kiwi, mango<br>intent (len: 2): color__green, form__oval<br>new extent (len: 1): kiwi<br>new intent (len: 0): emptyset<br>mean_y_true: 1.0<br>mean_y_pred: 1.0<br>Metrics<br>\taccuracy: 1.0<br>\tprecision: 1.0<br>\trecall: 1.0<br>\tneg_precision: 0.0<br>\tneg_recall: 0.0<br><br>",
          "Concept 10<br>extent (len: 2): toy cube, mango<br>intent (len: 2): smooth, color__green<br>new extent (len: 0): emptyset<br>new intent (len: 0): emptyset<br>mean_y_true: 0.5<br>mean_y_pred: 0.5<br>Metrics<br>\taccuracy: 1.0<br>\tprecision: 1.0<br>\trecall: 1.0<br>\tneg_precision: 1.0<br>\tneg_recall: 1.0<br><br>",
          "Concept 7<br>extent (len: 3): plum, egg, mango<br>intent (len: 2): smooth, form__oval<br>new extent (len: 0): emptyset<br>new intent (len: 0): emptyset<br>mean_y_true: 0.67<br>mean_y_pred: 0.67<br>Metrics<br>\taccuracy: 1.0<br>\tprecision: 1.0<br>\trecall: 1.0<br>\tneg_precision: 1.0<br>\tneg_recall: 1.0<br><br>",
          "Concept 11<br>extent (len: 1): tennis ball<br>intent (len: 2): color__white, form__round<br>new extent (len: 1): tennis ball<br>new intent (len: 0): emptyset<br>mean_y_true: 0.0<br>mean_y_pred: 1.0<br>Metrics<br>\taccuracy: 0.0<br>\tprecision: 0.0<br>\trecall: 0.0<br>\tneg_precision: 0.0<br>\tneg_recall: 0.0<br><br>",
          "Concept 9<br>extent (len: 2): toy cube, egg<br>intent (len: 2): firm, smooth<br>new extent (len: 0): emptyset<br>new intent (len: 1): firm<br>mean_y_true: 0.0<br>mean_y_pred: 0.0<br>Metrics<br>\taccuracy: 1.0<br>\tprecision: 0.0<br>\trecall: 0.0<br>\tneg_precision: 1.0<br>\tneg_recall: 1.0<br><br>",
          "Concept 4<br>extent (len: 3): apple, grapefruit, tennis ball<br>intent (len: 1): form__round<br>new extent (len: 0): emptyset<br>new intent (len: 1): form__round<br>mean_y_true: 0.67<br>mean_y_pred: 1.0<br>Metrics<br>\taccuracy: 0.67<br>\tprecision: 0.67<br>\trecall: 1.0<br>\tneg_precision: 0.0<br>\tneg_recall: 0.0<br><br>",
          "Concept 15<br>extent (len: 1): toy cube<br>intent (len: 4): firm, smooth, color__green, form__cubic<br>new extent (len: 1): toy cube<br>new intent (len: 1): form__cubic<br>mean_y_true: 0.0<br>mean_y_pred: 0.0<br>Metrics<br>\taccuracy: 1.0<br>\tprecision: 0.0<br>\trecall: 0.0<br>\tneg_precision: 1.0<br>\tneg_recall: 1.0<br><br>",
          "Concept 1<br>extent (len: 4): kiwi, plum, egg, mango<br>intent (len: 1): form__oval<br>new extent (len: 0): emptyset<br>new intent (len: 1): form__oval<br>mean_y_true: 0.75<br>mean_y_pred: 0.75<br>Metrics<br>\taccuracy: 1.0<br>\tprecision: 1.0<br>\trecall: 1.0<br>\tneg_precision: 1.0<br>\tneg_recall: 1.0<br><br>",
          "Concept 12<br>extent (len: 1): plum<br>intent (len: 3): smooth, color__blue, form__oval<br>new extent (len: 1): plum<br>new intent (len: 1): color__blue<br>mean_y_true: 1.0<br>mean_y_pred: 1.0<br>Metrics<br>\taccuracy: 1.0<br>\tprecision: 1.0<br>\trecall: 1.0<br>\tneg_precision: 0.0<br>\tneg_recall: 0.0<br><br>",
          "Concept 0<br>extent (len: 8): apple, grapefruit, kiwi, plum, toy cube, egg, tennis ball, mango<br>intent (len: 0): emptyset<br>new extent (len: 0): emptyset<br>new intent (len: 0): emptyset<br>mean_y_true: 0.62<br>mean_y_pred: 0.75<br>Metrics<br>\taccuracy: 0.88<br>\tprecision: 0.83<br>\trecall: 1.0<br>\tneg_precision: 1.0<br>\tneg_recall: 0.67<br><br>",
          "Concept 5<br>extent (len: 3): kiwi, toy cube, mango<br>intent (len: 1): color__green<br>new extent (len: 0): emptyset<br>new intent (len: 1): color__green<br>mean_y_true: 0.67<br>mean_y_pred: 0.67<br>Metrics<br>\taccuracy: 1.0<br>\tprecision: 1.0<br>\trecall: 1.0<br>\tneg_precision: 1.0<br>\tneg_recall: 1.0<br><br>",
          "Concept 13<br>extent (len: 1): mango<br>intent (len: 3): smooth, color__green, form__oval<br>new extent (len: 1): mango<br>new intent (len: 0): emptyset<br>mean_y_true: 1.0<br>mean_y_pred: 1.0<br>Metrics<br>\taccuracy: 1.0<br>\tprecision: 1.0<br>\trecall: 1.0<br>\tneg_precision: 0.0<br>\tneg_recall: 0.0<br><br>",
          "Concept 14<br>extent (len: 1): apple<br>intent (len: 3): smooth, color__yellow, form__round<br>new extent (len: 1): apple<br>new intent (len: 0): emptyset<br>mean_y_true: 1.0<br>mean_y_pred: 1.0<br>Metrics<br>\taccuracy: 1.0<br>\tprecision: 1.0<br>\trecall: 1.0<br>\tneg_precision: 0.0<br>\tneg_recall: 0.0<br><br>",
          "Concept 6<br>extent (len: 2): apple, grapefruit<br>intent (len: 2): color__yellow, form__round<br>new extent (len: 1): grapefruit<br>new intent (len: 1): color__yellow<br>mean_y_true: 1.0<br>mean_y_pred: 1.0<br>Metrics<br>\taccuracy: 1.0<br>\tprecision: 1.0<br>\trecall: 1.0<br>\tneg_precision: 0.0<br>\tneg_recall: 0.0<br><br>",
          "Concept 2<br>extent (len: 5): apple, plum, toy cube, egg, mango<br>intent (len: 1): smooth<br>new extent (len: 0): emptyset<br>new intent (len: 1): smooth<br>mean_y_true: 0.6<br>mean_y_pred: 0.6<br>Metrics<br>\taccuracy: 1.0<br>\tprecision: 1.0<br>\trecall: 1.0<br>\tneg_precision: 1.0<br>\tneg_recall: 1.0<br><br>"
         ],
         "marker": {
          "color": [
           0.5,
           0,
           "grey",
           1,
           0.5,
           0.6666666666666666,
           1,
           0,
           1,
           0,
           0.75,
           1,
           0.75,
           0.6666666666666666,
           1,
           1,
           1,
           0.6
          ],
          "colorbar": {
           "thickness": 15,
           "title": {
            "side": "right",
            "text": "Mean fruit prediction"
           },
           "xanchor": "left"
          },
          "colorscale": [
           [
            0,
            "rgb(103,0,31)"
           ],
           [
            0.1,
            "rgb(178,24,43)"
           ],
           [
            0.2,
            "rgb(214,96,77)"
           ],
           [
            0.3,
            "rgb(244,165,130)"
           ],
           [
            0.4,
            "rgb(253,219,199)"
           ],
           [
            0.5,
            "rgb(247,247,247)"
           ],
           [
            0.6,
            "rgb(209,229,240)"
           ],
           [
            0.7,
            "rgb(146,197,222)"
           ],
           [
            0.8,
            "rgb(67,147,195)"
           ],
           [
            0.9,
            "rgb(33,102,172)"
           ],
           [
            1,
            "rgb(5,48,97)"
           ]
          ],
          "line": {
           "width": 2
          },
          "reversescale": true,
          "showscale": true,
          "size": 10
         },
         "mode": "markers+text",
         "text": [
          "color__white<br>",
          "<br>egg",
          "<br>",
          "<br>kiwi",
          "<br>",
          "<br>",
          "<br>tennis ball",
          "firm<br>",
          "form__round<br>",
          "form__cubic<br>toy cube",
          "form__oval<br>",
          "color__blue<br>plum",
          "<br>",
          "color__green<br>",
          "<br>mango",
          "<br>apple",
          "color__yellow<br>grapefruit",
          "smooth<br>"
         ],
         "textposition": "middle right",
         "type": "scatter",
         "x": [
          -2,
          -1,
          0,
          2.5,
          -0.5,
          0.5,
          -1.5,
          -2.5,
          0,
          -2,
          2,
          1,
          0,
          1,
          2,
          0,
          1.5,
          -1
         ],
         "y": [
          4,
          2,
          1,
          3,
          3,
          3,
          3,
          3,
          4,
          2,
          4,
          2,
          5,
          4,
          2,
          2,
          3,
          4
         ]
        }
       ],
       "layout": {
        "height": 500,
        "hovermode": "closest",
        "margin": {
         "b": 20,
         "l": 5,
         "r": 5,
         "t": 40
        },
        "showlegend": false,
        "template": {
         "data": {
          "bar": [
           {
            "error_x": {
             "color": "#2a3f5f"
            },
            "error_y": {
             "color": "#2a3f5f"
            },
            "marker": {
             "line": {
              "color": "#E5ECF6",
              "width": 0.5
             }
            },
            "type": "bar"
           }
          ],
          "barpolar": [
           {
            "marker": {
             "line": {
              "color": "#E5ECF6",
              "width": 0.5
             }
            },
            "type": "barpolar"
           }
          ],
          "carpet": [
           {
            "aaxis": {
             "endlinecolor": "#2a3f5f",
             "gridcolor": "white",
             "linecolor": "white",
             "minorgridcolor": "white",
             "startlinecolor": "#2a3f5f"
            },
            "baxis": {
             "endlinecolor": "#2a3f5f",
             "gridcolor": "white",
             "linecolor": "white",
             "minorgridcolor": "white",
             "startlinecolor": "#2a3f5f"
            },
            "type": "carpet"
           }
          ],
          "choropleth": [
           {
            "colorbar": {
             "outlinewidth": 0,
             "ticks": ""
            },
            "type": "choropleth"
           }
          ],
          "contour": [
           {
            "colorbar": {
             "outlinewidth": 0,
             "ticks": ""
            },
            "colorscale": [
             [
              0,
              "#0d0887"
             ],
             [
              0.1111111111111111,
              "#46039f"
             ],
             [
              0.2222222222222222,
              "#7201a8"
             ],
             [
              0.3333333333333333,
              "#9c179e"
             ],
             [
              0.4444444444444444,
              "#bd3786"
             ],
             [
              0.5555555555555556,
              "#d8576b"
             ],
             [
              0.6666666666666666,
              "#ed7953"
             ],
             [
              0.7777777777777778,
              "#fb9f3a"
             ],
             [
              0.8888888888888888,
              "#fdca26"
             ],
             [
              1,
              "#f0f921"
             ]
            ],
            "type": "contour"
           }
          ],
          "contourcarpet": [
           {
            "colorbar": {
             "outlinewidth": 0,
             "ticks": ""
            },
            "type": "contourcarpet"
           }
          ],
          "heatmap": [
           {
            "colorbar": {
             "outlinewidth": 0,
             "ticks": ""
            },
            "colorscale": [
             [
              0,
              "#0d0887"
             ],
             [
              0.1111111111111111,
              "#46039f"
             ],
             [
              0.2222222222222222,
              "#7201a8"
             ],
             [
              0.3333333333333333,
              "#9c179e"
             ],
             [
              0.4444444444444444,
              "#bd3786"
             ],
             [
              0.5555555555555556,
              "#d8576b"
             ],
             [
              0.6666666666666666,
              "#ed7953"
             ],
             [
              0.7777777777777778,
              "#fb9f3a"
             ],
             [
              0.8888888888888888,
              "#fdca26"
             ],
             [
              1,
              "#f0f921"
             ]
            ],
            "type": "heatmap"
           }
          ],
          "heatmapgl": [
           {
            "colorbar": {
             "outlinewidth": 0,
             "ticks": ""
            },
            "colorscale": [
             [
              0,
              "#0d0887"
             ],
             [
              0.1111111111111111,
              "#46039f"
             ],
             [
              0.2222222222222222,
              "#7201a8"
             ],
             [
              0.3333333333333333,
              "#9c179e"
             ],
             [
              0.4444444444444444,
              "#bd3786"
             ],
             [
              0.5555555555555556,
              "#d8576b"
             ],
             [
              0.6666666666666666,
              "#ed7953"
             ],
             [
              0.7777777777777778,
              "#fb9f3a"
             ],
             [
              0.8888888888888888,
              "#fdca26"
             ],
             [
              1,
              "#f0f921"
             ]
            ],
            "type": "heatmapgl"
           }
          ],
          "histogram": [
           {
            "marker": {
             "colorbar": {
              "outlinewidth": 0,
              "ticks": ""
             }
            },
            "type": "histogram"
           }
          ],
          "histogram2d": [
           {
            "colorbar": {
             "outlinewidth": 0,
             "ticks": ""
            },
            "colorscale": [
             [
              0,
              "#0d0887"
             ],
             [
              0.1111111111111111,
              "#46039f"
             ],
             [
              0.2222222222222222,
              "#7201a8"
             ],
             [
              0.3333333333333333,
              "#9c179e"
             ],
             [
              0.4444444444444444,
              "#bd3786"
             ],
             [
              0.5555555555555556,
              "#d8576b"
             ],
             [
              0.6666666666666666,
              "#ed7953"
             ],
             [
              0.7777777777777778,
              "#fb9f3a"
             ],
             [
              0.8888888888888888,
              "#fdca26"
             ],
             [
              1,
              "#f0f921"
             ]
            ],
            "type": "histogram2d"
           }
          ],
          "histogram2dcontour": [
           {
            "colorbar": {
             "outlinewidth": 0,
             "ticks": ""
            },
            "colorscale": [
             [
              0,
              "#0d0887"
             ],
             [
              0.1111111111111111,
              "#46039f"
             ],
             [
              0.2222222222222222,
              "#7201a8"
             ],
             [
              0.3333333333333333,
              "#9c179e"
             ],
             [
              0.4444444444444444,
              "#bd3786"
             ],
             [
              0.5555555555555556,
              "#d8576b"
             ],
             [
              0.6666666666666666,
              "#ed7953"
             ],
             [
              0.7777777777777778,
              "#fb9f3a"
             ],
             [
              0.8888888888888888,
              "#fdca26"
             ],
             [
              1,
              "#f0f921"
             ]
            ],
            "type": "histogram2dcontour"
           }
          ],
          "mesh3d": [
           {
            "colorbar": {
             "outlinewidth": 0,
             "ticks": ""
            },
            "type": "mesh3d"
           }
          ],
          "parcoords": [
           {
            "line": {
             "colorbar": {
              "outlinewidth": 0,
              "ticks": ""
             }
            },
            "type": "parcoords"
           }
          ],
          "pie": [
           {
            "automargin": true,
            "type": "pie"
           }
          ],
          "scatter": [
           {
            "marker": {
             "colorbar": {
              "outlinewidth": 0,
              "ticks": ""
             }
            },
            "type": "scatter"
           }
          ],
          "scatter3d": [
           {
            "line": {
             "colorbar": {
              "outlinewidth": 0,
              "ticks": ""
             }
            },
            "marker": {
             "colorbar": {
              "outlinewidth": 0,
              "ticks": ""
             }
            },
            "type": "scatter3d"
           }
          ],
          "scattercarpet": [
           {
            "marker": {
             "colorbar": {
              "outlinewidth": 0,
              "ticks": ""
             }
            },
            "type": "scattercarpet"
           }
          ],
          "scattergeo": [
           {
            "marker": {
             "colorbar": {
              "outlinewidth": 0,
              "ticks": ""
             }
            },
            "type": "scattergeo"
           }
          ],
          "scattergl": [
           {
            "marker": {
             "colorbar": {
              "outlinewidth": 0,
              "ticks": ""
             }
            },
            "type": "scattergl"
           }
          ],
          "scattermapbox": [
           {
            "marker": {
             "colorbar": {
              "outlinewidth": 0,
              "ticks": ""
             }
            },
            "type": "scattermapbox"
           }
          ],
          "scatterpolar": [
           {
            "marker": {
             "colorbar": {
              "outlinewidth": 0,
              "ticks": ""
             }
            },
            "type": "scatterpolar"
           }
          ],
          "scatterpolargl": [
           {
            "marker": {
             "colorbar": {
              "outlinewidth": 0,
              "ticks": ""
             }
            },
            "type": "scatterpolargl"
           }
          ],
          "scatterternary": [
           {
            "marker": {
             "colorbar": {
              "outlinewidth": 0,
              "ticks": ""
             }
            },
            "type": "scatterternary"
           }
          ],
          "surface": [
           {
            "colorbar": {
             "outlinewidth": 0,
             "ticks": ""
            },
            "colorscale": [
             [
              0,
              "#0d0887"
             ],
             [
              0.1111111111111111,
              "#46039f"
             ],
             [
              0.2222222222222222,
              "#7201a8"
             ],
             [
              0.3333333333333333,
              "#9c179e"
             ],
             [
              0.4444444444444444,
              "#bd3786"
             ],
             [
              0.5555555555555556,
              "#d8576b"
             ],
             [
              0.6666666666666666,
              "#ed7953"
             ],
             [
              0.7777777777777778,
              "#fb9f3a"
             ],
             [
              0.8888888888888888,
              "#fdca26"
             ],
             [
              1,
              "#f0f921"
             ]
            ],
            "type": "surface"
           }
          ],
          "table": [
           {
            "cells": {
             "fill": {
              "color": "#EBF0F8"
             },
             "line": {
              "color": "white"
             }
            },
            "header": {
             "fill": {
              "color": "#C8D4E3"
             },
             "line": {
              "color": "white"
             }
            },
            "type": "table"
           }
          ]
         },
         "layout": {
          "annotationdefaults": {
           "arrowcolor": "#2a3f5f",
           "arrowhead": 0,
           "arrowwidth": 1
          },
          "coloraxis": {
           "colorbar": {
            "outlinewidth": 0,
            "ticks": ""
           }
          },
          "colorscale": {
           "diverging": [
            [
             0,
             "#8e0152"
            ],
            [
             0.1,
             "#c51b7d"
            ],
            [
             0.2,
             "#de77ae"
            ],
            [
             0.3,
             "#f1b6da"
            ],
            [
             0.4,
             "#fde0ef"
            ],
            [
             0.5,
             "#f7f7f7"
            ],
            [
             0.6,
             "#e6f5d0"
            ],
            [
             0.7,
             "#b8e186"
            ],
            [
             0.8,
             "#7fbc41"
            ],
            [
             0.9,
             "#4d9221"
            ],
            [
             1,
             "#276419"
            ]
           ],
           "sequential": [
            [
             0,
             "#0d0887"
            ],
            [
             0.1111111111111111,
             "#46039f"
            ],
            [
             0.2222222222222222,
             "#7201a8"
            ],
            [
             0.3333333333333333,
             "#9c179e"
            ],
            [
             0.4444444444444444,
             "#bd3786"
            ],
            [
             0.5555555555555556,
             "#d8576b"
            ],
            [
             0.6666666666666666,
             "#ed7953"
            ],
            [
             0.7777777777777778,
             "#fb9f3a"
            ],
            [
             0.8888888888888888,
             "#fdca26"
            ],
            [
             1,
             "#f0f921"
            ]
           ],
           "sequentialminus": [
            [
             0,
             "#0d0887"
            ],
            [
             0.1111111111111111,
             "#46039f"
            ],
            [
             0.2222222222222222,
             "#7201a8"
            ],
            [
             0.3333333333333333,
             "#9c179e"
            ],
            [
             0.4444444444444444,
             "#bd3786"
            ],
            [
             0.5555555555555556,
             "#d8576b"
            ],
            [
             0.6666666666666666,
             "#ed7953"
            ],
            [
             0.7777777777777778,
             "#fb9f3a"
            ],
            [
             0.8888888888888888,
             "#fdca26"
            ],
            [
             1,
             "#f0f921"
            ]
           ]
          },
          "colorway": [
           "#636efa",
           "#EF553B",
           "#00cc96",
           "#ab63fa",
           "#FFA15A",
           "#19d3f3",
           "#FF6692",
           "#B6E880",
           "#FF97FF",
           "#FECB52"
          ],
          "font": {
           "color": "#2a3f5f"
          },
          "geo": {
           "bgcolor": "white",
           "lakecolor": "white",
           "landcolor": "#E5ECF6",
           "showlakes": true,
           "showland": true,
           "subunitcolor": "white"
          },
          "hoverlabel": {
           "align": "left"
          },
          "hovermode": "closest",
          "mapbox": {
           "style": "light"
          },
          "paper_bgcolor": "white",
          "plot_bgcolor": "#E5ECF6",
          "polar": {
           "angularaxis": {
            "gridcolor": "white",
            "linecolor": "white",
            "ticks": ""
           },
           "bgcolor": "#E5ECF6",
           "radialaxis": {
            "gridcolor": "white",
            "linecolor": "white",
            "ticks": ""
           }
          },
          "scene": {
           "xaxis": {
            "backgroundcolor": "#E5ECF6",
            "gridcolor": "white",
            "gridwidth": 2,
            "linecolor": "white",
            "showbackground": true,
            "ticks": "",
            "zerolinecolor": "white"
           },
           "yaxis": {
            "backgroundcolor": "#E5ECF6",
            "gridcolor": "white",
            "gridwidth": 2,
            "linecolor": "white",
            "showbackground": true,
            "ticks": "",
            "zerolinecolor": "white"
           },
           "zaxis": {
            "backgroundcolor": "#E5ECF6",
            "gridcolor": "white",
            "gridwidth": 2,
            "linecolor": "white",
            "showbackground": true,
            "ticks": "",
            "zerolinecolor": "white"
           }
          },
          "shapedefaults": {
           "line": {
            "color": "#2a3f5f"
           }
          },
          "ternary": {
           "aaxis": {
            "gridcolor": "white",
            "linecolor": "white",
            "ticks": ""
           },
           "baxis": {
            "gridcolor": "white",
            "linecolor": "white",
            "ticks": ""
           },
           "bgcolor": "#E5ECF6",
           "caxis": {
            "gridcolor": "white",
            "linecolor": "white",
            "ticks": ""
           }
          },
          "title": {
           "x": 0.05
          },
          "xaxis": {
           "automargin": true,
           "gridcolor": "white",
           "linecolor": "white",
           "ticks": "",
           "title": {
            "standoff": 15
           },
           "zerolinecolor": "white",
           "zerolinewidth": 2
          },
          "yaxis": {
           "automargin": true,
           "gridcolor": "white",
           "linecolor": "white",
           "ticks": "",
           "title": {
            "standoff": 15
           },
           "zerolinecolor": "white",
           "zerolinewidth": 2
          }
         }
        },
        "title": {
         "font": {
          "size": 16
         },
         "text": "Mango Dataset Concept Lattice"
        },
        "width": 1000,
        "xaxis": {
         "showgrid": false,
         "showticklabels": false,
         "zeroline": false
        },
        "yaxis": {
         "showgrid": false,
         "showticklabels": false,
         "zeroline": false
        }
       }
      },
      "text/html": [
       "<div>\n",
       "        \n",
       "        \n",
       "            <div id=\"4ca55ca8-6b72-46b3-8fdd-a1b8409535ac\" class=\"plotly-graph-div\" style=\"height:500px; width:1000px;\"></div>\n",
       "            <script type=\"text/javascript\">\n",
       "                require([\"plotly\"], function(Plotly) {\n",
       "                    window.PLOTLYENV=window.PLOTLYENV || {};\n",
       "                    \n",
       "                if (document.getElementById(\"4ca55ca8-6b72-46b3-8fdd-a1b8409535ac\")) {\n",
       "                    Plotly.newPlot(\n",
       "                        '4ca55ca8-6b72-46b3-8fdd-a1b8409535ac',\n",
       "                        [{\"hoverinfo\": \"none\", \"line\": {\"color\": \"#888\", \"width\": 0.5}, \"mode\": \"lines\", \"type\": \"scatter\", \"x\": [-2.0, -1.0, null, -2.0, -1.5, null, -2.0, 0.0, null, -1.0, 0.0, null, -1.0, 0.5, null, -1.0, -2.5, null, 0.0, -1.5, null, 0.0, -2.0, null, 0.0, 1.0, null, 0.0, 2.0, null, 0.0, 0.0, null, 2.5, 2.0, null, 2.5, 2.0, null, 2.5, 1.0, null, -0.5, 2.0, null, -0.5, -2.0, null, -0.5, 1.0, null, -0.5, -1.0, null, 0.5, 1.0, null, 0.5, 2.0, null, 0.5, 2.0, null, 0.5, -1.0, null, -1.5, 0.0, null, -2.5, -2.0, null, -2.5, -1.0, null, 0.0, 1.5, null, 0.0, 0.0, null, 2.0, 0.0, null, 0.0, -1.0, null, 0.0, 1.0, null, 0.0, 1.5, null, 0.0, -1.0, null], \"y\": [4, 2, null, 4, 3, null, 4, 5, null, 2, 1, null, 2, 3, null, 2, 3, null, 1, 3, null, 1, 2, null, 1, 2, null, 1, 2, null, 1, 2, null, 3, 2, null, 3, 4, null, 3, 4, null, 3, 2, null, 3, 2, null, 3, 4, null, 3, 4, null, 3, 2, null, 3, 2, null, 3, 4, null, 3, 4, null, 3, 4, null, 3, 2, null, 3, 4, null, 4, 3, null, 4, 5, null, 4, 5, null, 5, 4, null, 5, 4, null, 2, 3, null, 2, 4, null]}, {\"hoverinfo\": \"text\", \"hovertext\": [\"Concept 3<br>extent (len: 2): egg, tennis ball<br>intent (len: 1): color__white<br>new extent (len: 0): emptyset<br>new intent (len: 1): color__white<br>mean_y_true: 0.0<br>mean_y_pred: 0.5<br>Metrics<br>\\taccuracy: 0.5<br>\\tprecision: 0.0<br>\\trecall: 0.0<br>\\tneg_precision: 1.0<br>\\tneg_recall: 0.5<br><br>\", \"Concept 16<br>extent (len: 1): egg<br>intent (len: 4): firm, smooth, color__white, form__oval<br>new extent (len: 1): egg<br>new intent (len: 0): emptyset<br>mean_y_true: 0.0<br>mean_y_pred: 0.0<br>Metrics<br>\\taccuracy: 1.0<br>\\tprecision: 0.0<br>\\trecall: 0.0<br>\\tneg_precision: 1.0<br>\\tneg_recall: 1.0<br><br>\", \"Concept 17<br>extent (len: 0): emptyset<br>intent (len: 9): firm, smooth, color__yellow, color__green, color__blue, color__white, form__round, form__oval, form__cubic<br>new extent (len: 0): emptyset<br>new intent (len: 0): emptyset<br><br>\", \"Concept 8<br>extent (len: 2): kiwi, mango<br>intent (len: 2): color__green, form__oval<br>new extent (len: 1): kiwi<br>new intent (len: 0): emptyset<br>mean_y_true: 1.0<br>mean_y_pred: 1.0<br>Metrics<br>\\taccuracy: 1.0<br>\\tprecision: 1.0<br>\\trecall: 1.0<br>\\tneg_precision: 0.0<br>\\tneg_recall: 0.0<br><br>\", \"Concept 10<br>extent (len: 2): toy cube, mango<br>intent (len: 2): smooth, color__green<br>new extent (len: 0): emptyset<br>new intent (len: 0): emptyset<br>mean_y_true: 0.5<br>mean_y_pred: 0.5<br>Metrics<br>\\taccuracy: 1.0<br>\\tprecision: 1.0<br>\\trecall: 1.0<br>\\tneg_precision: 1.0<br>\\tneg_recall: 1.0<br><br>\", \"Concept 7<br>extent (len: 3): plum, egg, mango<br>intent (len: 2): smooth, form__oval<br>new extent (len: 0): emptyset<br>new intent (len: 0): emptyset<br>mean_y_true: 0.67<br>mean_y_pred: 0.67<br>Metrics<br>\\taccuracy: 1.0<br>\\tprecision: 1.0<br>\\trecall: 1.0<br>\\tneg_precision: 1.0<br>\\tneg_recall: 1.0<br><br>\", \"Concept 11<br>extent (len: 1): tennis ball<br>intent (len: 2): color__white, form__round<br>new extent (len: 1): tennis ball<br>new intent (len: 0): emptyset<br>mean_y_true: 0.0<br>mean_y_pred: 1.0<br>Metrics<br>\\taccuracy: 0.0<br>\\tprecision: 0.0<br>\\trecall: 0.0<br>\\tneg_precision: 0.0<br>\\tneg_recall: 0.0<br><br>\", \"Concept 9<br>extent (len: 2): toy cube, egg<br>intent (len: 2): firm, smooth<br>new extent (len: 0): emptyset<br>new intent (len: 1): firm<br>mean_y_true: 0.0<br>mean_y_pred: 0.0<br>Metrics<br>\\taccuracy: 1.0<br>\\tprecision: 0.0<br>\\trecall: 0.0<br>\\tneg_precision: 1.0<br>\\tneg_recall: 1.0<br><br>\", \"Concept 4<br>extent (len: 3): apple, grapefruit, tennis ball<br>intent (len: 1): form__round<br>new extent (len: 0): emptyset<br>new intent (len: 1): form__round<br>mean_y_true: 0.67<br>mean_y_pred: 1.0<br>Metrics<br>\\taccuracy: 0.67<br>\\tprecision: 0.67<br>\\trecall: 1.0<br>\\tneg_precision: 0.0<br>\\tneg_recall: 0.0<br><br>\", \"Concept 15<br>extent (len: 1): toy cube<br>intent (len: 4): firm, smooth, color__green, form__cubic<br>new extent (len: 1): toy cube<br>new intent (len: 1): form__cubic<br>mean_y_true: 0.0<br>mean_y_pred: 0.0<br>Metrics<br>\\taccuracy: 1.0<br>\\tprecision: 0.0<br>\\trecall: 0.0<br>\\tneg_precision: 1.0<br>\\tneg_recall: 1.0<br><br>\", \"Concept 1<br>extent (len: 4): kiwi, plum, egg, mango<br>intent (len: 1): form__oval<br>new extent (len: 0): emptyset<br>new intent (len: 1): form__oval<br>mean_y_true: 0.75<br>mean_y_pred: 0.75<br>Metrics<br>\\taccuracy: 1.0<br>\\tprecision: 1.0<br>\\trecall: 1.0<br>\\tneg_precision: 1.0<br>\\tneg_recall: 1.0<br><br>\", \"Concept 12<br>extent (len: 1): plum<br>intent (len: 3): smooth, color__blue, form__oval<br>new extent (len: 1): plum<br>new intent (len: 1): color__blue<br>mean_y_true: 1.0<br>mean_y_pred: 1.0<br>Metrics<br>\\taccuracy: 1.0<br>\\tprecision: 1.0<br>\\trecall: 1.0<br>\\tneg_precision: 0.0<br>\\tneg_recall: 0.0<br><br>\", \"Concept 0<br>extent (len: 8): apple, grapefruit, kiwi, plum, toy cube, egg, tennis ball, mango<br>intent (len: 0): emptyset<br>new extent (len: 0): emptyset<br>new intent (len: 0): emptyset<br>mean_y_true: 0.62<br>mean_y_pred: 0.75<br>Metrics<br>\\taccuracy: 0.88<br>\\tprecision: 0.83<br>\\trecall: 1.0<br>\\tneg_precision: 1.0<br>\\tneg_recall: 0.67<br><br>\", \"Concept 5<br>extent (len: 3): kiwi, toy cube, mango<br>intent (len: 1): color__green<br>new extent (len: 0): emptyset<br>new intent (len: 1): color__green<br>mean_y_true: 0.67<br>mean_y_pred: 0.67<br>Metrics<br>\\taccuracy: 1.0<br>\\tprecision: 1.0<br>\\trecall: 1.0<br>\\tneg_precision: 1.0<br>\\tneg_recall: 1.0<br><br>\", \"Concept 13<br>extent (len: 1): mango<br>intent (len: 3): smooth, color__green, form__oval<br>new extent (len: 1): mango<br>new intent (len: 0): emptyset<br>mean_y_true: 1.0<br>mean_y_pred: 1.0<br>Metrics<br>\\taccuracy: 1.0<br>\\tprecision: 1.0<br>\\trecall: 1.0<br>\\tneg_precision: 0.0<br>\\tneg_recall: 0.0<br><br>\", \"Concept 14<br>extent (len: 1): apple<br>intent (len: 3): smooth, color__yellow, form__round<br>new extent (len: 1): apple<br>new intent (len: 0): emptyset<br>mean_y_true: 1.0<br>mean_y_pred: 1.0<br>Metrics<br>\\taccuracy: 1.0<br>\\tprecision: 1.0<br>\\trecall: 1.0<br>\\tneg_precision: 0.0<br>\\tneg_recall: 0.0<br><br>\", \"Concept 6<br>extent (len: 2): apple, grapefruit<br>intent (len: 2): color__yellow, form__round<br>new extent (len: 1): grapefruit<br>new intent (len: 1): color__yellow<br>mean_y_true: 1.0<br>mean_y_pred: 1.0<br>Metrics<br>\\taccuracy: 1.0<br>\\tprecision: 1.0<br>\\trecall: 1.0<br>\\tneg_precision: 0.0<br>\\tneg_recall: 0.0<br><br>\", \"Concept 2<br>extent (len: 5): apple, plum, toy cube, egg, mango<br>intent (len: 1): smooth<br>new extent (len: 0): emptyset<br>new intent (len: 1): smooth<br>mean_y_true: 0.6<br>mean_y_pred: 0.6<br>Metrics<br>\\taccuracy: 1.0<br>\\tprecision: 1.0<br>\\trecall: 1.0<br>\\tneg_precision: 1.0<br>\\tneg_recall: 1.0<br><br>\"], \"marker\": {\"color\": [0.5, 0.0, \"grey\", 1.0, 0.5, 0.6666666666666666, 1.0, 0.0, 1.0, 0.0, 0.75, 1.0, 0.75, 0.6666666666666666, 1.0, 1.0, 1.0, 0.6], \"colorbar\": {\"thickness\": 15, \"title\": {\"side\": \"right\", \"text\": \"Mean fruit prediction\"}, \"xanchor\": \"left\"}, \"colorscale\": [[0.0, \"rgb(103,0,31)\"], [0.1, \"rgb(178,24,43)\"], [0.2, \"rgb(214,96,77)\"], [0.3, \"rgb(244,165,130)\"], [0.4, \"rgb(253,219,199)\"], [0.5, \"rgb(247,247,247)\"], [0.6, \"rgb(209,229,240)\"], [0.7, \"rgb(146,197,222)\"], [0.8, \"rgb(67,147,195)\"], [0.9, \"rgb(33,102,172)\"], [1.0, \"rgb(5,48,97)\"]], \"line\": {\"width\": 2}, \"reversescale\": true, \"showscale\": true, \"size\": 10}, \"mode\": \"markers+text\", \"text\": [\"color__white<br>\", \"<br>egg\", \"<br>\", \"<br>kiwi\", \"<br>\", \"<br>\", \"<br>tennis ball\", \"firm<br>\", \"form__round<br>\", \"form__cubic<br>toy cube\", \"form__oval<br>\", \"color__blue<br>plum\", \"<br>\", \"color__green<br>\", \"<br>mango\", \"<br>apple\", \"color__yellow<br>grapefruit\", \"smooth<br>\"], \"textposition\": \"middle right\", \"type\": \"scatter\", \"x\": [-2.0, -1.0, 0.0, 2.5, -0.5, 0.5, -1.5, -2.5, 0.0, -2.0, 2.0, 1.0, 0.0, 1.0, 2.0, 0.0, 1.5, -1.0], \"y\": [4, 2, 1, 3, 3, 3, 3, 3, 4, 2, 4, 2, 5, 4, 2, 2, 3, 4]}],\n",
       "                        {\"height\": 500, \"hovermode\": \"closest\", \"margin\": {\"b\": 20, \"l\": 5, \"r\": 5, \"t\": 40}, \"showlegend\": false, \"template\": {\"data\": {\"bar\": [{\"error_x\": {\"color\": \"#2a3f5f\"}, \"error_y\": {\"color\": \"#2a3f5f\"}, \"marker\": {\"line\": {\"color\": \"#E5ECF6\", \"width\": 0.5}}, \"type\": \"bar\"}], \"barpolar\": [{\"marker\": {\"line\": {\"color\": \"#E5ECF6\", \"width\": 0.5}}, \"type\": \"barpolar\"}], \"carpet\": [{\"aaxis\": {\"endlinecolor\": \"#2a3f5f\", \"gridcolor\": \"white\", \"linecolor\": \"white\", \"minorgridcolor\": \"white\", \"startlinecolor\": \"#2a3f5f\"}, \"baxis\": {\"endlinecolor\": \"#2a3f5f\", \"gridcolor\": \"white\", \"linecolor\": \"white\", \"minorgridcolor\": \"white\", \"startlinecolor\": \"#2a3f5f\"}, \"type\": \"carpet\"}], \"choropleth\": [{\"colorbar\": {\"outlinewidth\": 0, \"ticks\": \"\"}, \"type\": \"choropleth\"}], \"contour\": [{\"colorbar\": {\"outlinewidth\": 0, \"ticks\": \"\"}, \"colorscale\": [[0.0, \"#0d0887\"], [0.1111111111111111, \"#46039f\"], [0.2222222222222222, \"#7201a8\"], [0.3333333333333333, \"#9c179e\"], [0.4444444444444444, \"#bd3786\"], [0.5555555555555556, \"#d8576b\"], [0.6666666666666666, \"#ed7953\"], [0.7777777777777778, \"#fb9f3a\"], [0.8888888888888888, \"#fdca26\"], [1.0, \"#f0f921\"]], \"type\": \"contour\"}], \"contourcarpet\": [{\"colorbar\": {\"outlinewidth\": 0, \"ticks\": \"\"}, \"type\": \"contourcarpet\"}], \"heatmap\": [{\"colorbar\": {\"outlinewidth\": 0, \"ticks\": \"\"}, \"colorscale\": [[0.0, \"#0d0887\"], [0.1111111111111111, \"#46039f\"], [0.2222222222222222, \"#7201a8\"], [0.3333333333333333, \"#9c179e\"], [0.4444444444444444, \"#bd3786\"], [0.5555555555555556, \"#d8576b\"], [0.6666666666666666, \"#ed7953\"], [0.7777777777777778, \"#fb9f3a\"], [0.8888888888888888, \"#fdca26\"], [1.0, \"#f0f921\"]], \"type\": \"heatmap\"}], \"heatmapgl\": [{\"colorbar\": {\"outlinewidth\": 0, \"ticks\": \"\"}, \"colorscale\": [[0.0, \"#0d0887\"], [0.1111111111111111, \"#46039f\"], [0.2222222222222222, \"#7201a8\"], [0.3333333333333333, \"#9c179e\"], [0.4444444444444444, \"#bd3786\"], [0.5555555555555556, \"#d8576b\"], [0.6666666666666666, \"#ed7953\"], [0.7777777777777778, \"#fb9f3a\"], [0.8888888888888888, \"#fdca26\"], [1.0, \"#f0f921\"]], \"type\": \"heatmapgl\"}], \"histogram\": [{\"marker\": {\"colorbar\": {\"outlinewidth\": 0, \"ticks\": \"\"}}, \"type\": \"histogram\"}], \"histogram2d\": [{\"colorbar\": {\"outlinewidth\": 0, \"ticks\": \"\"}, \"colorscale\": [[0.0, \"#0d0887\"], [0.1111111111111111, \"#46039f\"], [0.2222222222222222, \"#7201a8\"], [0.3333333333333333, \"#9c179e\"], [0.4444444444444444, \"#bd3786\"], [0.5555555555555556, \"#d8576b\"], [0.6666666666666666, \"#ed7953\"], [0.7777777777777778, \"#fb9f3a\"], [0.8888888888888888, \"#fdca26\"], [1.0, \"#f0f921\"]], \"type\": \"histogram2d\"}], \"histogram2dcontour\": [{\"colorbar\": {\"outlinewidth\": 0, \"ticks\": \"\"}, \"colorscale\": [[0.0, \"#0d0887\"], [0.1111111111111111, \"#46039f\"], [0.2222222222222222, \"#7201a8\"], [0.3333333333333333, \"#9c179e\"], [0.4444444444444444, \"#bd3786\"], [0.5555555555555556, \"#d8576b\"], [0.6666666666666666, \"#ed7953\"], [0.7777777777777778, \"#fb9f3a\"], [0.8888888888888888, \"#fdca26\"], [1.0, \"#f0f921\"]], \"type\": \"histogram2dcontour\"}], \"mesh3d\": [{\"colorbar\": {\"outlinewidth\": 0, \"ticks\": \"\"}, \"type\": \"mesh3d\"}], \"parcoords\": [{\"line\": {\"colorbar\": {\"outlinewidth\": 0, \"ticks\": \"\"}}, \"type\": \"parcoords\"}], \"pie\": [{\"automargin\": true, \"type\": \"pie\"}], \"scatter\": [{\"marker\": {\"colorbar\": {\"outlinewidth\": 0, \"ticks\": \"\"}}, \"type\": \"scatter\"}], \"scatter3d\": [{\"line\": {\"colorbar\": {\"outlinewidth\": 0, \"ticks\": \"\"}}, \"marker\": {\"colorbar\": {\"outlinewidth\": 0, \"ticks\": \"\"}}, \"type\": \"scatter3d\"}], \"scattercarpet\": [{\"marker\": {\"colorbar\": {\"outlinewidth\": 0, \"ticks\": \"\"}}, \"type\": \"scattercarpet\"}], \"scattergeo\": [{\"marker\": {\"colorbar\": {\"outlinewidth\": 0, \"ticks\": \"\"}}, \"type\": \"scattergeo\"}], \"scattergl\": [{\"marker\": {\"colorbar\": {\"outlinewidth\": 0, \"ticks\": \"\"}}, \"type\": \"scattergl\"}], \"scattermapbox\": [{\"marker\": {\"colorbar\": {\"outlinewidth\": 0, \"ticks\": \"\"}}, \"type\": \"scattermapbox\"}], \"scatterpolar\": [{\"marker\": {\"colorbar\": {\"outlinewidth\": 0, \"ticks\": \"\"}}, \"type\": \"scatterpolar\"}], \"scatterpolargl\": [{\"marker\": {\"colorbar\": {\"outlinewidth\": 0, \"ticks\": \"\"}}, \"type\": \"scatterpolargl\"}], \"scatterternary\": [{\"marker\": {\"colorbar\": {\"outlinewidth\": 0, \"ticks\": \"\"}}, \"type\": \"scatterternary\"}], \"surface\": [{\"colorbar\": {\"outlinewidth\": 0, \"ticks\": \"\"}, \"colorscale\": [[0.0, \"#0d0887\"], [0.1111111111111111, \"#46039f\"], [0.2222222222222222, \"#7201a8\"], [0.3333333333333333, \"#9c179e\"], [0.4444444444444444, \"#bd3786\"], [0.5555555555555556, \"#d8576b\"], [0.6666666666666666, \"#ed7953\"], [0.7777777777777778, \"#fb9f3a\"], [0.8888888888888888, \"#fdca26\"], [1.0, \"#f0f921\"]], \"type\": \"surface\"}], \"table\": [{\"cells\": {\"fill\": {\"color\": \"#EBF0F8\"}, \"line\": {\"color\": \"white\"}}, \"header\": {\"fill\": {\"color\": \"#C8D4E3\"}, \"line\": {\"color\": \"white\"}}, \"type\": \"table\"}]}, \"layout\": {\"annotationdefaults\": {\"arrowcolor\": \"#2a3f5f\", \"arrowhead\": 0, \"arrowwidth\": 1}, \"coloraxis\": {\"colorbar\": {\"outlinewidth\": 0, \"ticks\": \"\"}}, \"colorscale\": {\"diverging\": [[0, \"#8e0152\"], [0.1, \"#c51b7d\"], [0.2, \"#de77ae\"], [0.3, \"#f1b6da\"], [0.4, \"#fde0ef\"], [0.5, \"#f7f7f7\"], [0.6, \"#e6f5d0\"], [0.7, \"#b8e186\"], [0.8, \"#7fbc41\"], [0.9, \"#4d9221\"], [1, \"#276419\"]], \"sequential\": [[0.0, \"#0d0887\"], [0.1111111111111111, \"#46039f\"], [0.2222222222222222, \"#7201a8\"], [0.3333333333333333, \"#9c179e\"], [0.4444444444444444, \"#bd3786\"], [0.5555555555555556, \"#d8576b\"], [0.6666666666666666, \"#ed7953\"], [0.7777777777777778, \"#fb9f3a\"], [0.8888888888888888, \"#fdca26\"], [1.0, \"#f0f921\"]], \"sequentialminus\": [[0.0, \"#0d0887\"], [0.1111111111111111, \"#46039f\"], [0.2222222222222222, \"#7201a8\"], [0.3333333333333333, \"#9c179e\"], [0.4444444444444444, \"#bd3786\"], [0.5555555555555556, \"#d8576b\"], [0.6666666666666666, \"#ed7953\"], [0.7777777777777778, \"#fb9f3a\"], [0.8888888888888888, \"#fdca26\"], [1.0, \"#f0f921\"]]}, \"colorway\": [\"#636efa\", \"#EF553B\", \"#00cc96\", \"#ab63fa\", \"#FFA15A\", \"#19d3f3\", \"#FF6692\", \"#B6E880\", \"#FF97FF\", \"#FECB52\"], \"font\": {\"color\": \"#2a3f5f\"}, \"geo\": {\"bgcolor\": \"white\", \"lakecolor\": \"white\", \"landcolor\": \"#E5ECF6\", \"showlakes\": true, \"showland\": true, \"subunitcolor\": \"white\"}, \"hoverlabel\": {\"align\": \"left\"}, \"hovermode\": \"closest\", \"mapbox\": {\"style\": \"light\"}, \"paper_bgcolor\": \"white\", \"plot_bgcolor\": \"#E5ECF6\", \"polar\": {\"angularaxis\": {\"gridcolor\": \"white\", \"linecolor\": \"white\", \"ticks\": \"\"}, \"bgcolor\": \"#E5ECF6\", \"radialaxis\": {\"gridcolor\": \"white\", \"linecolor\": \"white\", \"ticks\": \"\"}}, \"scene\": {\"xaxis\": {\"backgroundcolor\": \"#E5ECF6\", \"gridcolor\": \"white\", \"gridwidth\": 2, \"linecolor\": \"white\", \"showbackground\": true, \"ticks\": \"\", \"zerolinecolor\": \"white\"}, \"yaxis\": {\"backgroundcolor\": \"#E5ECF6\", \"gridcolor\": \"white\", \"gridwidth\": 2, \"linecolor\": \"white\", \"showbackground\": true, \"ticks\": \"\", \"zerolinecolor\": \"white\"}, \"zaxis\": {\"backgroundcolor\": \"#E5ECF6\", \"gridcolor\": \"white\", \"gridwidth\": 2, \"linecolor\": \"white\", \"showbackground\": true, \"ticks\": \"\", \"zerolinecolor\": \"white\"}}, \"shapedefaults\": {\"line\": {\"color\": \"#2a3f5f\"}}, \"ternary\": {\"aaxis\": {\"gridcolor\": \"white\", \"linecolor\": \"white\", \"ticks\": \"\"}, \"baxis\": {\"gridcolor\": \"white\", \"linecolor\": \"white\", \"ticks\": \"\"}, \"bgcolor\": \"#E5ECF6\", \"caxis\": {\"gridcolor\": \"white\", \"linecolor\": \"white\", \"ticks\": \"\"}}, \"title\": {\"x\": 0.05}, \"xaxis\": {\"automargin\": true, \"gridcolor\": \"white\", \"linecolor\": \"white\", \"ticks\": \"\", \"title\": {\"standoff\": 15}, \"zerolinecolor\": \"white\", \"zerolinewidth\": 2}, \"yaxis\": {\"automargin\": true, \"gridcolor\": \"white\", \"linecolor\": \"white\", \"ticks\": \"\", \"title\": {\"standoff\": 15}, \"zerolinecolor\": \"white\", \"zerolinewidth\": 2}}}, \"title\": {\"font\": {\"size\": 16}, \"text\": \"Mango Dataset Concept Lattice\"}, \"width\": 1000, \"xaxis\": {\"showgrid\": false, \"showticklabels\": false, \"zeroline\": false}, \"yaxis\": {\"showgrid\": false, \"showticklabels\": false, \"zeroline\": false}},\n",
       "                        {\"responsive\": true}\n",
       "                    ).then(function(){\n",
       "                            \n",
       "var gd = document.getElementById('4ca55ca8-6b72-46b3-8fdd-a1b8409535ac');\n",
       "var x = new MutationObserver(function (mutations, observer) {{\n",
       "        var display = window.getComputedStyle(gd).display;\n",
       "        if (!display || display === 'none') {{\n",
       "            console.log([gd, 'removed!']);\n",
       "            Plotly.purge(gd);\n",
       "            observer.disconnect();\n",
       "        }}\n",
       "}});\n",
       "\n",
       "// Listen for the removal of the full notebook cells\n",
       "var notebookContainer = gd.closest('#notebook-container');\n",
       "if (notebookContainer) {{\n",
       "    x.observe(notebookContainer, {childList: true});\n",
       "}}\n",
       "\n",
       "// Listen for the clearing of the current output cell\n",
       "var outputEl = gd.closest('.output');\n",
       "if (outputEl) {{\n",
       "    x.observe(outputEl, {childList: true});\n",
       "}}\n",
       "\n",
       "                        })\n",
       "                };\n",
       "                });\n",
       "            </script>\n",
       "        </div>"
      ]
     },
     "metadata": {},
     "output_type": "display_data"
    }
   ],
   "source": [
    "fig.show()"
   ]
  },
  {
   "cell_type": "code",
   "execution_count": 48,
   "metadata": {},
   "outputs": [
    {
     "data": {
      "text/plain": [
       "{Concept 0\n",
       " extent (len: 8): apple, grapefruit, kiwi, plum, toy cube, egg, tennis ball, mango\n",
       " intent (len: 0): emptyset\n",
       " lower neighbours (len: 5): 1,2,3,4,5\n",
       " upper neighbours (len: 0): emptyset\n",
       " level: 0\n",
       " mean y_true: 0.625\n",
       " mean y_pred: 0.75\n",
       " metrics: {'accuracy': 0.88, 'precision': 0.83, 'recall': 1.0, 'neg_precision': 1.0, 'neg_recall': 0.67},\n",
       " Concept 10\n",
       " extent (len: 2): toy cube, mango\n",
       " intent (len: 2): smooth, color__green\n",
       " lower neighbours (len: 2): 13,15\n",
       " upper neighbours (len: 2): 2,5\n",
       " level: 2\n",
       " mean y_true: 0.5\n",
       " mean y_pred: 0.5\n",
       " metrics: {'accuracy': 1.0, 'precision': 1.0, 'recall': 1.0, 'neg_precision': 1.0, 'neg_recall': 1.0},\n",
       " Concept 11\n",
       " extent (len: 1): tennis ball\n",
       " intent (len: 2): color__white, form__round\n",
       " new extent (len: 1): tennis ball\n",
       " lower neighbours (len: 1): 17\n",
       " upper neighbours (len: 2): 3,4\n",
       " level: 2\n",
       " mean y_true: 0.0\n",
       " mean y_pred: 1.0\n",
       " metrics: {'accuracy': 0.0, 'precision': 0.0, 'recall': 0.0, 'neg_precision': 0.0, 'neg_recall': 0.0},\n",
       " Concept 12\n",
       " extent (len: 1): plum\n",
       " intent (len: 3): smooth, color__blue, form__oval\n",
       " new extent (len: 1): plum\n",
       " new intent (len: 1): color__blue\n",
       " lower neighbours (len: 1): 17\n",
       " upper neighbours (len: 1): 7\n",
       " level: 3\n",
       " mean y_true: 1.0\n",
       " mean y_pred: 1.0\n",
       " metrics: {'accuracy': 1.0, 'precision': 1.0, 'recall': 1.0, 'neg_precision': 0.0, 'neg_recall': 0.0},\n",
       " Concept 13\n",
       " extent (len: 1): mango\n",
       " intent (len: 3): smooth, color__green, form__oval\n",
       " new extent (len: 1): mango\n",
       " lower neighbours (len: 1): 17\n",
       " upper neighbours (len: 3): 8,10,7\n",
       " level: 3\n",
       " mean y_true: 1.0\n",
       " mean y_pred: 1.0\n",
       " metrics: {'accuracy': 1.0, 'precision': 1.0, 'recall': 1.0, 'neg_precision': 0.0, 'neg_recall': 0.0},\n",
       " Concept 14\n",
       " extent (len: 1): apple\n",
       " intent (len: 3): smooth, color__yellow, form__round\n",
       " new extent (len: 1): apple\n",
       " lower neighbours (len: 1): 17\n",
       " upper neighbours (len: 2): 2,6\n",
       " level: 3\n",
       " mean y_true: 1.0\n",
       " mean y_pred: 1.0\n",
       " metrics: {'accuracy': 1.0, 'precision': 1.0, 'recall': 1.0, 'neg_precision': 0.0, 'neg_recall': 0.0},\n",
       " Concept 15\n",
       " extent (len: 1): toy cube\n",
       " intent (len: 4): firm, smooth, color__green, form__cubic\n",
       " new extent (len: 1): toy cube\n",
       " new intent (len: 1): form__cubic\n",
       " lower neighbours (len: 1): 17\n",
       " upper neighbours (len: 2): 9,10\n",
       " level: 3\n",
       " mean y_true: 0.0\n",
       " mean y_pred: 0.0\n",
       " metrics: {'accuracy': 1.0, 'precision': 0.0, 'recall': 0.0, 'neg_precision': 1.0, 'neg_recall': 1.0},\n",
       " Concept 16\n",
       " extent (len: 1): egg\n",
       " intent (len: 4): firm, smooth, color__white, form__oval\n",
       " new extent (len: 1): egg\n",
       " lower neighbours (len: 1): 17\n",
       " upper neighbours (len: 3): 9,3,7\n",
       " level: 3\n",
       " mean y_true: 0.0\n",
       " mean y_pred: 0.0\n",
       " metrics: {'accuracy': 1.0, 'precision': 0.0, 'recall': 0.0, 'neg_precision': 1.0, 'neg_recall': 1.0},\n",
       " Concept 17\n",
       " extent (len: 0): emptyset\n",
       " intent (len: 9): firm, smooth, color__yellow, color__green, color__blue, color__white, form__round, form__oval, form__cubic\n",
       " lower neighbours (len: 0): emptyset\n",
       " upper neighbours (len: 6): 11,12,13,14,15,16\n",
       " level: 4,\n",
       " Concept 1\n",
       " extent (len: 4): kiwi, plum, egg, mango\n",
       " intent (len: 1): form__oval\n",
       " new intent (len: 1): form__oval\n",
       " lower neighbours (len: 2): 8,7\n",
       " upper neighbours (len: 1): 0\n",
       " level: 1\n",
       " mean y_true: 0.75\n",
       " mean y_pred: 0.75\n",
       " metrics: {'accuracy': 1.0, 'precision': 1.0, 'recall': 1.0, 'neg_precision': 1.0, 'neg_recall': 1.0},\n",
       " Concept 2\n",
       " extent (len: 5): apple, plum, toy cube, egg, mango\n",
       " intent (len: 1): smooth\n",
       " new intent (len: 1): smooth\n",
       " lower neighbours (len: 4): 9,10,14,7\n",
       " upper neighbours (len: 1): 0\n",
       " level: 1\n",
       " mean y_true: 0.6\n",
       " mean y_pred: 0.6\n",
       " metrics: {'accuracy': 1.0, 'precision': 1.0, 'recall': 1.0, 'neg_precision': 1.0, 'neg_recall': 1.0},\n",
       " Concept 3\n",
       " extent (len: 2): egg, tennis ball\n",
       " intent (len: 1): color__white\n",
       " new intent (len: 1): color__white\n",
       " lower neighbours (len: 2): 16,11\n",
       " upper neighbours (len: 1): 0\n",
       " level: 1\n",
       " mean y_true: 0.0\n",
       " mean y_pred: 0.5\n",
       " metrics: {'accuracy': 0.5, 'precision': 0.0, 'recall': 0.0, 'neg_precision': 1.0, 'neg_recall': 0.5},\n",
       " Concept 4\n",
       " extent (len: 3): apple, grapefruit, tennis ball\n",
       " intent (len: 1): form__round\n",
       " new intent (len: 1): form__round\n",
       " lower neighbours (len: 2): 11,6\n",
       " upper neighbours (len: 1): 0\n",
       " level: 1\n",
       " mean y_true: 0.6666666666666666\n",
       " mean y_pred: 1.0\n",
       " metrics: {'accuracy': 0.67, 'precision': 0.67, 'recall': 1.0, 'neg_precision': 0.0, 'neg_recall': 0.0},\n",
       " Concept 5\n",
       " extent (len: 3): kiwi, toy cube, mango\n",
       " intent (len: 1): color__green\n",
       " new intent (len: 1): color__green\n",
       " lower neighbours (len: 2): 8,10\n",
       " upper neighbours (len: 1): 0\n",
       " level: 1\n",
       " mean y_true: 0.6666666666666666\n",
       " mean y_pred: 0.6666666666666666\n",
       " metrics: {'accuracy': 1.0, 'precision': 1.0, 'recall': 1.0, 'neg_precision': 1.0, 'neg_recall': 1.0},\n",
       " Concept 6\n",
       " extent (len: 2): apple, grapefruit\n",
       " intent (len: 2): color__yellow, form__round\n",
       " new extent (len: 1): grapefruit\n",
       " new intent (len: 1): color__yellow\n",
       " lower neighbours (len: 1): 14\n",
       " upper neighbours (len: 1): 4\n",
       " level: 2\n",
       " mean y_true: 1.0\n",
       " mean y_pred: 1.0\n",
       " metrics: {'accuracy': 1.0, 'precision': 1.0, 'recall': 1.0, 'neg_precision': 0.0, 'neg_recall': 0.0},\n",
       " Concept 7\n",
       " extent (len: 3): plum, egg, mango\n",
       " intent (len: 2): smooth, form__oval\n",
       " lower neighbours (len: 3): 16,12,13\n",
       " upper neighbours (len: 2): 1,2\n",
       " level: 2\n",
       " mean y_true: 0.6666666666666666\n",
       " mean y_pred: 0.6666666666666666\n",
       " metrics: {'accuracy': 1.0, 'precision': 1.0, 'recall': 1.0, 'neg_precision': 1.0, 'neg_recall': 1.0},\n",
       " Concept 8\n",
       " extent (len: 2): kiwi, mango\n",
       " intent (len: 2): color__green, form__oval\n",
       " new extent (len: 1): kiwi\n",
       " lower neighbours (len: 1): 13\n",
       " upper neighbours (len: 2): 1,5\n",
       " level: 2\n",
       " mean y_true: 1.0\n",
       " mean y_pred: 1.0\n",
       " metrics: {'accuracy': 1.0, 'precision': 1.0, 'recall': 1.0, 'neg_precision': 0.0, 'neg_recall': 0.0},\n",
       " Concept 9\n",
       " extent (len: 2): toy cube, egg\n",
       " intent (len: 2): firm, smooth\n",
       " new intent (len: 1): firm\n",
       " lower neighbours (len: 2): 16,15\n",
       " upper neighbours (len: 1): 2\n",
       " level: 2\n",
       " mean y_true: 0.0\n",
       " mean y_pred: 0.0\n",
       " metrics: {'accuracy': 1.0, 'precision': 0.0, 'recall': 0.0, 'neg_precision': 1.0, 'neg_recall': 1.0}}"
      ]
     },
     "execution_count": 48,
     "metadata": {},
     "output_type": "execute_result"
    }
   ],
   "source": [
    "fm._concepts"
   ]
  },
  {
   "cell_type": "markdown",
   "metadata": {},
   "source": [
    "# Bank DataSet"
   ]
  },
  {
   "cell_type": "code",
   "execution_count": 2,
   "metadata": {},
   "outputs": [
    {
     "name": "stdout",
     "output_type": "stream",
     "text": [
      "(4521, 17)\n"
     ]
    },
    {
     "data": {
      "text/html": [
       "<div>\n",
       "<style scoped>\n",
       "    .dataframe tbody tr th:only-of-type {\n",
       "        vertical-align: middle;\n",
       "    }\n",
       "\n",
       "    .dataframe tbody tr th {\n",
       "        vertical-align: top;\n",
       "    }\n",
       "\n",
       "    .dataframe thead th {\n",
       "        text-align: right;\n",
       "    }\n",
       "</style>\n",
       "<table border=\"1\" class=\"dataframe\">\n",
       "  <thead>\n",
       "    <tr style=\"text-align: right;\">\n",
       "      <th></th>\n",
       "      <th>age</th>\n",
       "      <th>job</th>\n",
       "      <th>marital</th>\n",
       "      <th>education</th>\n",
       "      <th>default</th>\n",
       "      <th>balance</th>\n",
       "      <th>housing</th>\n",
       "      <th>loan</th>\n",
       "      <th>contact</th>\n",
       "      <th>day</th>\n",
       "      <th>month</th>\n",
       "      <th>duration</th>\n",
       "      <th>campaign</th>\n",
       "      <th>pdays</th>\n",
       "      <th>previous</th>\n",
       "      <th>poutcome</th>\n",
       "      <th>y</th>\n",
       "    </tr>\n",
       "  </thead>\n",
       "  <tbody>\n",
       "    <tr>\n",
       "      <th>0</th>\n",
       "      <td>30</td>\n",
       "      <td>unemployed</td>\n",
       "      <td>married</td>\n",
       "      <td>primary</td>\n",
       "      <td>no</td>\n",
       "      <td>1787</td>\n",
       "      <td>no</td>\n",
       "      <td>no</td>\n",
       "      <td>cellular</td>\n",
       "      <td>19</td>\n",
       "      <td>oct</td>\n",
       "      <td>79</td>\n",
       "      <td>1</td>\n",
       "      <td>-1</td>\n",
       "      <td>0</td>\n",
       "      <td>unknown</td>\n",
       "      <td>no</td>\n",
       "    </tr>\n",
       "    <tr>\n",
       "      <th>1</th>\n",
       "      <td>33</td>\n",
       "      <td>services</td>\n",
       "      <td>married</td>\n",
       "      <td>secondary</td>\n",
       "      <td>no</td>\n",
       "      <td>4789</td>\n",
       "      <td>yes</td>\n",
       "      <td>yes</td>\n",
       "      <td>cellular</td>\n",
       "      <td>11</td>\n",
       "      <td>may</td>\n",
       "      <td>220</td>\n",
       "      <td>1</td>\n",
       "      <td>339</td>\n",
       "      <td>4</td>\n",
       "      <td>failure</td>\n",
       "      <td>no</td>\n",
       "    </tr>\n",
       "    <tr>\n",
       "      <th>2</th>\n",
       "      <td>35</td>\n",
       "      <td>management</td>\n",
       "      <td>single</td>\n",
       "      <td>tertiary</td>\n",
       "      <td>no</td>\n",
       "      <td>1350</td>\n",
       "      <td>yes</td>\n",
       "      <td>no</td>\n",
       "      <td>cellular</td>\n",
       "      <td>16</td>\n",
       "      <td>apr</td>\n",
       "      <td>185</td>\n",
       "      <td>1</td>\n",
       "      <td>330</td>\n",
       "      <td>1</td>\n",
       "      <td>failure</td>\n",
       "      <td>no</td>\n",
       "    </tr>\n",
       "    <tr>\n",
       "      <th>3</th>\n",
       "      <td>30</td>\n",
       "      <td>management</td>\n",
       "      <td>married</td>\n",
       "      <td>tertiary</td>\n",
       "      <td>no</td>\n",
       "      <td>1476</td>\n",
       "      <td>yes</td>\n",
       "      <td>yes</td>\n",
       "      <td>unknown</td>\n",
       "      <td>3</td>\n",
       "      <td>jun</td>\n",
       "      <td>199</td>\n",
       "      <td>4</td>\n",
       "      <td>-1</td>\n",
       "      <td>0</td>\n",
       "      <td>unknown</td>\n",
       "      <td>no</td>\n",
       "    </tr>\n",
       "    <tr>\n",
       "      <th>4</th>\n",
       "      <td>59</td>\n",
       "      <td>blue-collar</td>\n",
       "      <td>married</td>\n",
       "      <td>secondary</td>\n",
       "      <td>no</td>\n",
       "      <td>0</td>\n",
       "      <td>yes</td>\n",
       "      <td>no</td>\n",
       "      <td>unknown</td>\n",
       "      <td>5</td>\n",
       "      <td>may</td>\n",
       "      <td>226</td>\n",
       "      <td>1</td>\n",
       "      <td>-1</td>\n",
       "      <td>0</td>\n",
       "      <td>unknown</td>\n",
       "      <td>no</td>\n",
       "    </tr>\n",
       "  </tbody>\n",
       "</table>\n",
       "</div>"
      ],
      "text/plain": [
       "   age          job  marital  education default  balance housing loan  \\\n",
       "0   30   unemployed  married    primary      no     1787      no   no   \n",
       "1   33     services  married  secondary      no     4789     yes  yes   \n",
       "2   35   management   single   tertiary      no     1350     yes   no   \n",
       "3   30   management  married   tertiary      no     1476     yes  yes   \n",
       "4   59  blue-collar  married  secondary      no        0     yes   no   \n",
       "\n",
       "    contact  day month  duration  campaign  pdays  previous poutcome   y  \n",
       "0  cellular   19   oct        79         1     -1         0  unknown  no  \n",
       "1  cellular   11   may       220         1    339         4  failure  no  \n",
       "2  cellular   16   apr       185         1    330         1  failure  no  \n",
       "3   unknown    3   jun       199         4     -1         0  unknown  no  \n",
       "4   unknown    5   may       226         1     -1         0  unknown  no  "
      ]
     },
     "execution_count": 2,
     "metadata": {},
     "output_type": "execute_result"
    }
   ],
   "source": [
    "bank_ds = pd.read_csv(os.path.join(DATASETS_DIR, 'bank.csv'), sep=';')\n",
    "print(bank_ds.shape)\n",
    "bank_ds.head()"
   ]
  },
  {
   "cell_type": "code",
   "execution_count": 3,
   "metadata": {},
   "outputs": [
    {
     "data": {
      "text/html": [
       "<div>\n",
       "<style scoped>\n",
       "    .dataframe tbody tr th:only-of-type {\n",
       "        vertical-align: middle;\n",
       "    }\n",
       "\n",
       "    .dataframe tbody tr th {\n",
       "        vertical-align: top;\n",
       "    }\n",
       "\n",
       "    .dataframe thead th {\n",
       "        text-align: right;\n",
       "    }\n",
       "</style>\n",
       "<table border=\"1\" class=\"dataframe\">\n",
       "  <thead>\n",
       "    <tr style=\"text-align: right;\">\n",
       "      <th></th>\n",
       "      <th>metrics</th>\n",
       "      <th>train</th>\n",
       "      <th>test</th>\n",
       "    </tr>\n",
       "  </thead>\n",
       "  <tbody>\n",
       "    <tr>\n",
       "      <th>0</th>\n",
       "      <td>accuracy_score</td>\n",
       "      <td>0.937758</td>\n",
       "      <td>0.905393</td>\n",
       "    </tr>\n",
       "    <tr>\n",
       "      <th>1</th>\n",
       "      <td>precision_score</td>\n",
       "      <td>0.838828</td>\n",
       "      <td>0.600000</td>\n",
       "    </tr>\n",
       "    <tr>\n",
       "      <th>2</th>\n",
       "      <td>recall_score</td>\n",
       "      <td>0.578283</td>\n",
       "      <td>0.432000</td>\n",
       "    </tr>\n",
       "    <tr>\n",
       "      <th>3</th>\n",
       "      <td>y_mean</td>\n",
       "      <td>0.116814</td>\n",
       "      <td>0.110522</td>\n",
       "    </tr>\n",
       "  </tbody>\n",
       "</table>\n",
       "</div>"
      ],
      "text/plain": [
       "           metrics     train      test\n",
       "0   accuracy_score  0.937758  0.905393\n",
       "1  precision_score  0.838828  0.600000\n",
       "2     recall_score  0.578283  0.432000\n",
       "3           y_mean  0.116814  0.110522"
      ]
     },
     "execution_count": 3,
     "metadata": {},
     "output_type": "execute_result"
    }
   ],
   "source": [
    "y_feat = 'y'\n",
    "s = bank_ds.drop(y_feat,1).dtypes\n",
    "cat_feats = list(s[s==np.dtype('O')].index)\n",
    "real_feats = list(s.drop(cat_feats).index)\n",
    "\n",
    "X_train, X_test, y_train, y_test = train_test_split(bank_ds[cat_feats+real_feats],\n",
    "                                                    bank_ds[y_feat].apply(lambda x: {'no':0,'yes':1}[x]),\n",
    "                                                   random_state=42)\n",
    "\n",
    "train_pool = cb.Pool(X_train, y_train, cat_features=cat_feats)\n",
    "test_pool = cb.Pool(X_test, y_test, cat_features=cat_feats)\n",
    "bb = cb.CatBoostClassifier(random_seed=42)\n",
    "bb.fit(train_pool, verbose=False, plot=False)\n",
    "\n",
    "train_preds, test_preds = bb.predict(train_pool), bb.predict(test_pool)\n",
    "train_preds_proba, test_preds_proba = bb.predict_proba(train_pool)[:,1], bb.predict_proba(test_pool)[:,1]\n",
    "metrics_ds = []\n",
    "for m in [accuracy_score, precision_score, recall_score]:\n",
    "    res = {'train':m(y_train, train_preds), 'test':m(y_test, test_preds), 'metrics':m.__name__}\n",
    "    metrics_ds.append(res)\n",
    "metrics_ds.append({'train':y_train.mean(), 'test':y_test.mean(), 'metrics':'y_mean'})\n",
    "metrics_ds = pd.DataFrame(metrics_ds).reindex(columns=['metrics','train','test'])\n",
    "metrics_ds"
   ]
  },
  {
   "cell_type": "markdown",
   "metadata": {},
   "source": [
    "# Задача\n",
    "\n",
    "Найти импликации, гипотезы и ассоциативные правила, которые отражают зависимость целевой переменной $Y$ от конкретных значений признаков и исходных данных $X$.\n",
    "\n",
    "Для лучшей интерпретабельности желательно использовать как можно меньше признаков и их значений. Для этого нужно отобрать наиболее важные признаки и их наиболее влиятельные значения. Как это сделать? Через Shap."
   ]
  },
  {
   "cell_type": "code",
   "execution_count": 4,
   "metadata": {},
   "outputs": [
    {
     "data": {
      "text/html": [
       "<div>\n",
       "<style scoped>\n",
       "    .dataframe tbody tr th:only-of-type {\n",
       "        vertical-align: middle;\n",
       "    }\n",
       "\n",
       "    .dataframe tbody tr th {\n",
       "        vertical-align: top;\n",
       "    }\n",
       "\n",
       "    .dataframe thead th {\n",
       "        text-align: right;\n",
       "    }\n",
       "</style>\n",
       "<table border=\"1\" class=\"dataframe\">\n",
       "  <thead>\n",
       "    <tr style=\"text-align: right;\">\n",
       "      <th></th>\n",
       "      <th>job</th>\n",
       "      <th>marital</th>\n",
       "      <th>education</th>\n",
       "      <th>default</th>\n",
       "      <th>housing</th>\n",
       "      <th>loan</th>\n",
       "      <th>contact</th>\n",
       "      <th>month</th>\n",
       "      <th>poutcome</th>\n",
       "      <th>age</th>\n",
       "      <th>balance</th>\n",
       "      <th>day</th>\n",
       "      <th>duration</th>\n",
       "      <th>campaign</th>\n",
       "      <th>pdays</th>\n",
       "      <th>previous</th>\n",
       "    </tr>\n",
       "  </thead>\n",
       "  <tbody>\n",
       "    <tr>\n",
       "      <th>0</th>\n",
       "      <td>-0.031291</td>\n",
       "      <td>-0.028272</td>\n",
       "      <td>0.035948</td>\n",
       "      <td>-0.267942</td>\n",
       "      <td>0.101734</td>\n",
       "      <td>-0.268115</td>\n",
       "      <td>0.287815</td>\n",
       "      <td>-0.323185</td>\n",
       "      <td>-0.132049</td>\n",
       "      <td>-0.030460</td>\n",
       "      <td>-0.318450</td>\n",
       "      <td>-0.020844</td>\n",
       "      <td>-1.178477</td>\n",
       "      <td>-0.127363</td>\n",
       "      <td>0.049373</td>\n",
       "      <td>-0.018233</td>\n",
       "    </tr>\n",
       "    <tr>\n",
       "      <th>1</th>\n",
       "      <td>0.127565</td>\n",
       "      <td>0.018116</td>\n",
       "      <td>0.079303</td>\n",
       "      <td>-0.008569</td>\n",
       "      <td>0.096851</td>\n",
       "      <td>0.031259</td>\n",
       "      <td>0.187173</td>\n",
       "      <td>0.168337</td>\n",
       "      <td>0.890014</td>\n",
       "      <td>-0.044830</td>\n",
       "      <td>0.208614</td>\n",
       "      <td>-0.046283</td>\n",
       "      <td>1.976521</td>\n",
       "      <td>0.021740</td>\n",
       "      <td>0.050712</td>\n",
       "      <td>0.346256</td>\n",
       "    </tr>\n",
       "    <tr>\n",
       "      <th>2</th>\n",
       "      <td>-0.030689</td>\n",
       "      <td>-0.021500</td>\n",
       "      <td>0.028779</td>\n",
       "      <td>0.006304</td>\n",
       "      <td>0.096207</td>\n",
       "      <td>0.052130</td>\n",
       "      <td>0.282196</td>\n",
       "      <td>-0.105999</td>\n",
       "      <td>-0.113547</td>\n",
       "      <td>-0.046154</td>\n",
       "      <td>0.107670</td>\n",
       "      <td>0.009493</td>\n",
       "      <td>-0.678837</td>\n",
       "      <td>0.034704</td>\n",
       "      <td>0.059806</td>\n",
       "      <td>-0.013104</td>\n",
       "    </tr>\n",
       "    <tr>\n",
       "      <th>3</th>\n",
       "      <td>0.031418</td>\n",
       "      <td>-0.033332</td>\n",
       "      <td>0.083075</td>\n",
       "      <td>0.001851</td>\n",
       "      <td>-0.065374</td>\n",
       "      <td>0.046528</td>\n",
       "      <td>-0.630254</td>\n",
       "      <td>-0.083773</td>\n",
       "      <td>-0.128123</td>\n",
       "      <td>-0.081089</td>\n",
       "      <td>-0.146013</td>\n",
       "      <td>0.002586</td>\n",
       "      <td>0.676073</td>\n",
       "      <td>-0.356123</td>\n",
       "      <td>0.025053</td>\n",
       "      <td>-0.038261</td>\n",
       "    </tr>\n",
       "    <tr>\n",
       "      <th>4</th>\n",
       "      <td>0.007788</td>\n",
       "      <td>0.058849</td>\n",
       "      <td>0.010468</td>\n",
       "      <td>-0.001448</td>\n",
       "      <td>0.106346</td>\n",
       "      <td>0.037828</td>\n",
       "      <td>0.319354</td>\n",
       "      <td>0.229482</td>\n",
       "      <td>-0.117150</td>\n",
       "      <td>-0.034576</td>\n",
       "      <td>0.018484</td>\n",
       "      <td>-0.047470</td>\n",
       "      <td>0.977713</td>\n",
       "      <td>0.028636</td>\n",
       "      <td>0.043395</td>\n",
       "      <td>-0.037927</td>\n",
       "    </tr>\n",
       "  </tbody>\n",
       "</table>\n",
       "</div>"
      ],
      "text/plain": [
       "        job   marital  education   default   housing      loan   contact  \\\n",
       "0 -0.031291 -0.028272   0.035948 -0.267942  0.101734 -0.268115  0.287815   \n",
       "1  0.127565  0.018116   0.079303 -0.008569  0.096851  0.031259  0.187173   \n",
       "2 -0.030689 -0.021500   0.028779  0.006304  0.096207  0.052130  0.282196   \n",
       "3  0.031418 -0.033332   0.083075  0.001851 -0.065374  0.046528 -0.630254   \n",
       "4  0.007788  0.058849   0.010468 -0.001448  0.106346  0.037828  0.319354   \n",
       "\n",
       "      month  poutcome       age   balance       day  duration  campaign  \\\n",
       "0 -0.323185 -0.132049 -0.030460 -0.318450 -0.020844 -1.178477 -0.127363   \n",
       "1  0.168337  0.890014 -0.044830  0.208614 -0.046283  1.976521  0.021740   \n",
       "2 -0.105999 -0.113547 -0.046154  0.107670  0.009493 -0.678837  0.034704   \n",
       "3 -0.083773 -0.128123 -0.081089 -0.146013  0.002586  0.676073 -0.356123   \n",
       "4  0.229482 -0.117150 -0.034576  0.018484 -0.047470  0.977713  0.028636   \n",
       "\n",
       "      pdays  previous  \n",
       "0  0.049373 -0.018233  \n",
       "1  0.050712  0.346256  \n",
       "2  0.059806 -0.013104  \n",
       "3  0.025053 -0.038261  \n",
       "4  0.043395 -0.037927  "
      ]
     },
     "execution_count": 4,
     "metadata": {},
     "output_type": "execute_result"
    }
   ],
   "source": [
    "sv = bb.get_feature_importance(test_pool, type='ShapValues')\n",
    "expected_value = sv[0,-1]\n",
    "sv_ds = pd.DataFrame(sv[:,:-1], columns=test_pool.get_feature_names())\n",
    "sv_ds.head()"
   ]
  },
  {
   "cell_type": "code",
   "execution_count": 5,
   "metadata": {},
   "outputs": [
    {
     "data": {
      "image/png": "[encoded data removed]",
      "text/plain": [
       "<Figure size 432x288 with 1 Axes>"
      ]
     },
     "metadata": {
      "needs_background": "light"
     },
     "output_type": "display_data"
    }
   ],
   "source": [
    "s = sv_ds.abs().median(0).sort_values(ascending=False)\n",
    "s = s/s.sum()*100\n",
    "sns.barplot(x=s.values, y=s.index)\n",
    "for idx, t in enumerate(s.iteritems()):\n",
    "    plt.text(t[1], idx+0.25, f\"{t[1]:.0f}%\")\n",
    "plt.title('Важность признаков (%, тестовые данные)')\n",
    "plt.show()"
   ]
  },
  {
   "cell_type": "code",
   "execution_count": 6,
   "metadata": {},
   "outputs": [],
   "source": [
    "bin_funcs = {}"
   ]
  },
  {
   "cell_type": "markdown",
   "metadata": {},
   "source": [
    "Первые 3 признака сильно лидируют по важности (duration, contact, month). Рассмотрим их более детально."
   ]
  },
  {
   "cell_type": "code",
   "execution_count": 7,
   "metadata": {},
   "outputs": [
    {
     "name": "stderr",
     "output_type": "stream",
     "text": [
      "/home/egor/anaconda3/lib/python3.7/site-packages/scipy/stats/stats.py:1713: FutureWarning: Using a non-tuple sequence for multidimensional indexing is deprecated; use `arr[tuple(seq)]` instead of `arr[seq]`. In the future this will be interpreted as an array index, `arr[np.array(seq)]`, which will result either in an error or a different result.\n",
      "  return np.add.reduce(sorted[indexer] * weights, axis=axis) / sumval\n"
     ]
    },
    {
     "data": {
      "image/png": "[encoded data removed]",
      "text/plain": [
       "<Figure size 1080x360 with 3 Axes>"
      ]
     },
     "metadata": {
      "needs_background": "light"
     },
     "output_type": "display_data"
    }
   ],
   "source": [
    "f = 'duration'\n",
    "cds = pd.DataFrame()\n",
    "cds[f] = np.log1p(X_test[f])\n",
    "cds[f+'_shap'] = sv_ds[f].values\n",
    "\n",
    "plt.figure(figsize=(15,5))\n",
    "plt.subplot(131)\n",
    "sns.regplot(x='duration', y=f+'_shap', data=cds, order=2)\n",
    "xticks = np.array([1, 3,10,30,100,300,1000])\n",
    "plt.axhline(0, linestyle='--', color='grey')\n",
    "plt.axvline(np.log1p(60), color='yellow', label='1 minute (shap ~ -2.5')\n",
    "plt.axvline(np.log1p(600), color='orange', label='10 minutes (shap ~ 2)')\n",
    "plt.legend()\n",
    "plt.xticks(np.log1p(xticks), xticks)\n",
    "plt.ylim((-5,6))\n",
    "plt.xlabel('duration (сек.)')\n",
    "plt.ylabel(r'Влияние на предсказание (shap, $\\Delta Y$)')\n",
    "\n",
    "plt.subplot(132)\n",
    "sns.regplot(x='duration', y=f+'_shap', data=cds[cds[f]<np.log1p(100)], order=3)\n",
    "xticks = np.array([1, 3,10,30,60,100])\n",
    "plt.axvline(np.log1p(60), color='orange', label='1 minute (shap ~ -2.5')\n",
    "plt.axhline(-2.5, color='orange')\n",
    "plt.legend()\n",
    "plt.axhline(0, linestyle='--', color='grey')\n",
    "plt.xlabel('duration (сек.)')\n",
    "plt.ylabel(r'Влияние на предсказание (shap, $\\Delta Y$)')\n",
    "plt.title('Duration < 100 сек.')\n",
    "\n",
    "plt.xticks(np.log1p(xticks), xticks)\n",
    "\n",
    "plt.subplot(133)\n",
    "sns.regplot(x='duration', y=f+'_shap', data=cds[cds[f]>=np.log1p(60)], order=3)\n",
    "xticks = np.array([60, 100, 300, 600, 1000])\n",
    "plt.xticks(np.log1p(xticks), xticks)\n",
    "plt.axvline(np.log1p(600), color='orange', label='10 minutes (shap ~ 2)')\n",
    "plt.axhline(2, color='orange')\n",
    "plt.axhline(0, linestyle='--', color='grey')\n",
    "plt.legend()\n",
    "plt.xlabel('duration (сек.)')\n",
    "plt.ylabel(r'Влияние на предсказание (shap, $\\Delta Y$)')\n",
    "plt.title('Duration >= 60 сек.')\n",
    "\n",
    "\n",
    "plt.suptitle('Влияние признака duration в зависимости от его значения')\n",
    "plt.show()"
   ]
  },
  {
   "cell_type": "code",
   "execution_count": 8,
   "metadata": {},
   "outputs": [],
   "source": [
    "def binf_duration(x):\n",
    "    b = pd.Series()\n",
    "    b['<1m'] = x<60\n",
    "    b['>=1m'] = x>=60\n",
    "    b['>=10m'] = x>=600\n",
    "    return b.astype(int)"
   ]
  },
  {
   "cell_type": "code",
   "execution_count": 9,
   "metadata": {},
   "outputs": [],
   "source": [
    "bin_funcs['duration'] = binf_duration"
   ]
  },
  {
   "cell_type": "code",
   "execution_count": 10,
   "metadata": {},
   "outputs": [
    {
     "data": {
      "image/png": "[encoded data removed]",
      "text/plain": [
       "<Figure size 1080x288 with 2 Axes>"
      ]
     },
     "metadata": {
      "needs_background": "light"
     },
     "output_type": "display_data"
    }
   ],
   "source": [
    "f = 'contact'\n",
    "cds = pd.DataFrame()\n",
    "cds[f] = X_test[f]\n",
    "cds[f+'_shap'] = sv_ds[f].values\n",
    "\n",
    "plt.figure(figsize=(15,4))\n",
    "plt.subplot(121)\n",
    "sns.boxplot(x=f, y=f+'_shap', data=cds)\n",
    "plt.axhline(0, linestyle='--', color='grey')\n",
    "plt.ylabel(r'Влияние на предсказание (shap, $\\Delta Y$)')\n",
    "plt.title('Влияние признака на предсказание')\n",
    "yticks = np.arange(-1,1.1, 0.25)\n",
    "plt.yticks(yticks, [f\"{x:.2f}\" for x in yticks])\n",
    "plt.grid(axis='y')\n",
    "\n",
    "plt.subplot(122)\n",
    "s_ = cds[f].value_counts()\n",
    "#s_ = s_/s_.sum()*100\n",
    "sns.barplot(x=s_.index, y=s_.values)\n",
    "plt.title(f'Частота появления значений признака {f}')\n",
    "plt.ylabel('Число наблюдений (шт.)')\n",
    "\n",
    "plt.subplots_adjust(top=0.8)\n",
    "plt.suptitle('Влияние признака contact в зависимости от его значения')\n",
    "plt.show()"
   ]
  },
  {
   "cell_type": "code",
   "execution_count": 11,
   "metadata": {},
   "outputs": [],
   "source": [
    "def binf_contact(x):\n",
    "    b = pd.Series()\n",
    "    for v in ['cellular','unknown']:\n",
    "        b[v] = x==v\n",
    "    return b.astype(int)"
   ]
  },
  {
   "cell_type": "code",
   "execution_count": 12,
   "metadata": {},
   "outputs": [],
   "source": [
    "bin_funcs['contact'] = binf_contact"
   ]
  },
  {
   "cell_type": "code",
   "execution_count": 13,
   "metadata": {},
   "outputs": [
    {
     "data": {
      "image/png": "[encoded data removed]",
      "text/plain": [
       "<Figure size 1080x360 with 2 Axes>"
      ]
     },
     "metadata": {
      "needs_background": "light"
     },
     "output_type": "display_data"
    }
   ],
   "source": [
    "f = 'month'\n",
    "cds = pd.DataFrame()\n",
    "cds[f] = X_test[f]\n",
    "cds[f+'_shap'] = sv_ds[f].values\n",
    "\n",
    "plt.figure(figsize=(15,5))\n",
    "plt.subplot(121)\n",
    "sns.boxplot(x=f, y=f+'_shap', data=cds, order=['jan','feb','mar','apr','may','jun','jul','aug','sep','oct','nov','dec'])\n",
    "plt.axhline(0, linestyle='--', color='grey')\n",
    "plt.ylabel(r'Влияние на предсказание (shap, $\\Delta Y$)')\n",
    "plt.title('Влияние признака на предсказание')\n",
    "yticks = np.arange(-1,4,0.25)\n",
    "plt.yticks(yticks, [f\"{x:.2f}\" for x in yticks])\n",
    "plt.grid(axis='y')\n",
    "\n",
    "plt.subplot(122)\n",
    "s_ = cds[f].value_counts()\n",
    "#s_ = s_/s_.sum()*100\n",
    "s_ = s_.reindex(['jan','feb','mar','apr','may','jun','jul','aug','sep','oct','nov','dec'])\n",
    "sns.barplot(x=s_.index, y=s_.values)\n",
    "plt.title(f'Частота появления значений признака {f}')\n",
    "plt.ylabel('Число наблюдений (шт.)')\n",
    "\n",
    "plt.subplots_adjust(top=0.8)\n",
    "plt.suptitle(f'Влияние признака {f} в зависимости от его значения')\n",
    "plt.show()"
   ]
  },
  {
   "cell_type": "code",
   "execution_count": 14,
   "metadata": {},
   "outputs": [],
   "source": [
    "def binf_month(x):\n",
    "    b = pd.Series()\n",
    "    for v in ['feb', 'mar', 'apr', 'may', 'sep','oct','dec']:\n",
    "        b[v] = x==v\n",
    "    return b.astype(int)"
   ]
  },
  {
   "cell_type": "code",
   "execution_count": 15,
   "metadata": {},
   "outputs": [],
   "source": [
    "bin_funcs['month'] = binf_month"
   ]
  },
  {
   "cell_type": "markdown",
   "metadata": {},
   "source": [
    "Данные ужасны, но продолжим работу"
   ]
  },
  {
   "cell_type": "code",
   "execution_count": 24,
   "metadata": {},
   "outputs": [
    {
     "data": {
      "application/vnd.jupyter.widget-view+json": {
       "model_id": "4be3a06bc8064d209596a9f2bb26a75e",
       "version_major": 2,
       "version_minor": 0
      },
      "text/plain": [
       "HBox(children=(IntProgress(value=0, max=2), HTML(value='')))"
      ]
     },
     "metadata": {},
     "output_type": "display_data"
    },
    {
     "name": "stdout",
     "output_type": "stream",
     "text": [
      "\n",
      "(1131, 5)\n"
     ]
    },
    {
     "data": {
      "text/html": [
       "<div>\n",
       "<style scoped>\n",
       "    .dataframe tbody tr th:only-of-type {\n",
       "        vertical-align: middle;\n",
       "    }\n",
       "\n",
       "    .dataframe tbody tr th {\n",
       "        vertical-align: top;\n",
       "    }\n",
       "\n",
       "    .dataframe thead th {\n",
       "        text-align: right;\n",
       "    }\n",
       "</style>\n",
       "<table border=\"1\" class=\"dataframe\">\n",
       "  <thead>\n",
       "    <tr style=\"text-align: right;\">\n",
       "      <th></th>\n",
       "      <th>duration_&lt;1m</th>\n",
       "      <th>duration_&gt;=1m</th>\n",
       "      <th>duration_&gt;=10m</th>\n",
       "      <th>contact_cellular</th>\n",
       "      <th>contact_unknown</th>\n",
       "    </tr>\n",
       "  </thead>\n",
       "  <tbody>\n",
       "    <tr>\n",
       "      <th>2398</th>\n",
       "      <td>0</td>\n",
       "      <td>1</td>\n",
       "      <td>0</td>\n",
       "      <td>1</td>\n",
       "      <td>0</td>\n",
       "    </tr>\n",
       "    <tr>\n",
       "      <th>800</th>\n",
       "      <td>0</td>\n",
       "      <td>1</td>\n",
       "      <td>0</td>\n",
       "      <td>1</td>\n",
       "      <td>0</td>\n",
       "    </tr>\n",
       "    <tr>\n",
       "      <th>2288</th>\n",
       "      <td>0</td>\n",
       "      <td>1</td>\n",
       "      <td>0</td>\n",
       "      <td>1</td>\n",
       "      <td>0</td>\n",
       "    </tr>\n",
       "    <tr>\n",
       "      <th>2344</th>\n",
       "      <td>0</td>\n",
       "      <td>1</td>\n",
       "      <td>0</td>\n",
       "      <td>0</td>\n",
       "      <td>1</td>\n",
       "    </tr>\n",
       "    <tr>\n",
       "      <th>3615</th>\n",
       "      <td>0</td>\n",
       "      <td>1</td>\n",
       "      <td>0</td>\n",
       "      <td>1</td>\n",
       "      <td>0</td>\n",
       "    </tr>\n",
       "  </tbody>\n",
       "</table>\n",
       "</div>"
      ],
      "text/plain": [
       "      duration_<1m  duration_>=1m  duration_>=10m  contact_cellular  \\\n",
       "2398             0              1               0                 1   \n",
       "800              0              1               0                 1   \n",
       "2288             0              1               0                 1   \n",
       "2344             0              1               0                 0   \n",
       "3615             0              1               0                 1   \n",
       "\n",
       "      contact_unknown  \n",
       "2398                0  \n",
       "800                 0  \n",
       "2288                0  \n",
       "2344                1  \n",
       "3615                0  "
      ]
     },
     "execution_count": 24,
     "metadata": {},
     "output_type": "execute_result"
    }
   ],
   "source": [
    "bin_ds = []\n",
    "for f in tqdm_notebook(s[:2].index):\n",
    "    cds = pd.concat([bin_funcs[f](x) for x in X_test[f]],1).T\n",
    "    cds.columns = [f\"{f}_{x}\" for x in cds.columns]\n",
    "    bin_ds.append(cds)\n",
    "bin_ds = pd.concat(bin_ds,1)\n",
    "bin_ds.index = X_test.index\n",
    "print(bin_ds.shape)\n",
    "bin_ds.head()"
   ]
  },
  {
   "cell_type": "code",
   "execution_count": 25,
   "metadata": {},
   "outputs": [],
   "source": [
    "import fca_interp as fcai"
   ]
  },
  {
   "cell_type": "code",
   "execution_count": 26,
   "metadata": {},
   "outputs": [],
   "source": [
    "fcai = reload(fcai)"
   ]
  },
  {
   "cell_type": "code",
   "execution_count": 27,
   "metadata": {},
   "outputs": [],
   "source": [
    "bin_ds = bin_ds.astype(bool)"
   ]
  },
  {
   "cell_type": "code",
   "execution_count": 28,
   "metadata": {},
   "outputs": [
    {
     "name": "stdout",
     "output_type": "stream",
     "text": [
      "CPU times: user 83.1 ms, sys: 0 ns, total: 83.1 ms\n",
      "Wall time: 83.2 ms\n"
     ]
    },
    {
     "name": "stderr",
     "output_type": "stream",
     "text": [
      "/home/egor/anaconda3/lib/python3.7/site-packages/sklearn/metrics/classification.py:1143: UndefinedMetricWarning:\n",
      "\n",
      "Precision is ill-defined and being set to 0.0 due to no predicted samples.\n",
      "\n",
      "/home/egor/anaconda3/lib/python3.7/site-packages/sklearn/metrics/classification.py:1143: UndefinedMetricWarning:\n",
      "\n",
      "Precision is ill-defined and being set to 0.0 due to no predicted samples.\n",
      "\n"
     ]
    }
   ],
   "source": [
    "%%time\n",
    "cntx = fcai.Context(bin_ds,y_true=y_test, y_pred=test_preds)\n",
    "fm = fcai.FormalManager(cntx, ds_obj=None, task_type='binary classification')\n",
    "fm.construct_concepts(use_tqdm=False)\n",
    "fm.construct_lattice(use_tqdm=False)"
   ]
  },
  {
   "cell_type": "code",
   "execution_count": 29,
   "metadata": {},
   "outputs": [],
   "source": [
    "fig = fm.get_plotly_fig(level_sort='all', sort_by='y_true',\n",
    "                        y_precision=2, title='Bank Dataset Concept Lattice', cbar_title='Y rate',\n",
    "                        color_by='accuracy',)"
   ]
  },
  {
   "cell_type": "code",
   "execution_count": 30,
   "metadata": {},
   "outputs": [
    {
     "data": {
      "application/vnd.plotly.v1+json": {
       "config": {
        "plotlyServerURL": "https://plot.ly"
       },
       "data": [
        {
         "hoverinfo": "none",
         "line": {
          "color": "#888",
          "width": 0.5
         },
         "mode": "lines",
         "type": "scatter",
         "x": [
          0.5,
          0,
          null,
          0.5,
          1,
          null,
          0.5,
          2,
          null,
          0.5,
          0,
          null,
          -1.5,
          -1,
          null,
          -1.5,
          -2,
          null,
          -1.5,
          0,
          null,
          0,
          0.5,
          null,
          0,
          -0.5,
          null,
          0,
          -2,
          null,
          0,
          -1,
          null,
          0.5,
          1,
          null,
          0.5,
          2,
          null,
          1,
          1.5,
          null,
          -0.5,
          0,
          null,
          -0.5,
          -1,
          null,
          -0.5,
          0,
          null,
          -0.5,
          0,
          null,
          -0.5,
          2,
          null,
          -2,
          1.5,
          null,
          0,
          1.5,
          null
         ],
         "y": [
          4,
          3,
          null,
          4,
          3,
          null,
          4,
          3,
          null,
          4,
          5,
          null,
          4,
          3,
          null,
          4,
          3,
          null,
          4,
          5,
          null,
          1,
          2,
          null,
          1,
          2,
          null,
          1,
          3,
          null,
          1,
          3,
          null,
          2,
          3,
          null,
          2,
          3,
          null,
          3,
          4,
          null,
          4,
          3,
          null,
          4,
          3,
          null,
          4,
          5,
          null,
          2,
          3,
          null,
          2,
          3,
          null,
          3,
          4,
          null,
          5,
          4,
          null
         ]
        },
        {
         "hoverinfo": "text",
         "hovertext": [
          "Concept 3<br>extent (len: 1006): 2398, 800, 2288, 3615, 3548, 1115, 4053, 838, 4141, 1189,...<br>intent (len: 1): duration_>=1m<br>new extent (len: 58): 1545, 1505, 2627, 3632, 3631, 2677, 2402, 501, 3258, 2531,...<br>new intent (len: 1): duration_>=1m<br>mean_y_true: 0.12<br>mean_y_pred: 0.09<br>Metrics<br>\taccuracy: 0.89<br>\tprecision: 0.6<br>\trecall: 0.44<br>\tneg_precision: 0.92<br>\tneg_recall: 0.96<br><br>",
          "Concept 1<br>extent (len: 125): 3134, 1583, 3214, 4374, 1075, 8, 3671, 1777, 3892, 2501,...<br>intent (len: 1): duration_<1m<br>new extent (len: 15): 3988, 1569, 408, 3408, 2387, 4468, 2662, 3462, 3166, 3487,...<br>new intent (len: 1): duration_<1m<br>mean_y_true: 0.01<br>mean_y_pred: 0.0<br>Metrics<br>\taccuracy: 0.99<br>\tprecision: 0.0<br>\trecall: 0.0<br>\tneg_precision: 0.99<br>\tneg_recall: 1.0<br><br>",
          "Concept 12<br>extent (len: 0): emptyset<br>intent (len: 5): duration_<1m, duration_>=1m, duration_>=10m, contact_cellular, contact_unknown<br>new extent (len: 0): emptyset<br>new intent (len: 0): emptyset<br><br>",
          "Concept 11<br>extent (len: 66): 3614, 1876, 415, 4077, 2481, 1557, 1192, 3210, 3740, 33,...<br>intent (len: 3): duration_>=1m, duration_>=10m, contact_cellular<br>new extent (len: 66): 3463, 1896, 3740, 1991, 99, 589, 2211, 1557, 33, 450,...<br>new intent (len: 0): emptyset<br>mean_y_true: 0.48<br>mean_y_pred: 0.64<br>Metrics<br>\taccuracy: 0.55<br>\tprecision: 0.52<br>\trecall: 0.69<br>\tneg_precision: 0.58<br>\tneg_recall: 0.41<br><br>",
          "Concept 9<br>extent (len: 653): 2398, 800, 2288, 3615, 3548, 1115, 4053, 838, 4141, 1189,...<br>intent (len: 2): duration_>=1m, contact_cellular<br>new extent (len: 587): 1055, 3036, 2288, 1189, 744, 2118, 4020, 468, 960, 1042,...<br>new intent (len: 0): emptyset<br>mean_y_true: 0.15<br>mean_y_pred: 0.11<br>Metrics<br>\taccuracy: 0.87<br>\tprecision: 0.58<br>\trecall: 0.43<br>\tneg_precision: 0.9<br>\tneg_recall: 0.94<br><br>",
          "Concept 2<br>extent (len: 338): 2344, 4018, 1878, 937, 2754, 2792, 3707, 3964, 2873, 1659,...<br>intent (len: 1): contact_unknown<br>new extent (len: 0): emptyset<br>new intent (len: 1): contact_unknown<br>mean_y_true: 0.04<br>mean_y_pred: 0.01<br>Metrics<br>\taccuracy: 0.96<br>\tprecision: 0.8<br>\trecall: 0.27<br>\tneg_precision: 0.97<br>\tneg_recall: 1.0<br><br>",
          "Concept 10<br>extent (len: 30): 2775, 4511, 297, 1315, 2688, 2347, 1175, 2464, 4498, 1877,...<br>intent (len: 3): duration_>=1m, duration_>=10m, contact_unknown<br>new extent (len: 30): 1315, 1877, 2651, 4505, 2347, 297, 3810, 1175, 3091, 1454,...<br>new intent (len: 0): emptyset<br>mean_y_true: 0.4<br>mean_y_pred: 0.17<br>Metrics<br>\taccuracy: 0.7<br>\tprecision: 0.8<br>\trecall: 0.33<br>\tneg_precision: 0.68<br>\tneg_recall: 0.94<br><br>",
          "Concept 8<br>extent (len: 287): 2344, 4018, 1878, 937, 2754, 2792, 3707, 3964, 2873, 1659,...<br>intent (len: 2): duration_>=1m, contact_unknown<br>new extent (len: 257): 564, 567, 2658, 4475, 2939, 1024, 1270, 1971, 1564, 4311,...<br>new intent (len: 0): emptyset<br>mean_y_true: 0.05<br>mean_y_pred: 0.02<br>Metrics<br>\taccuracy: 0.96<br>\tprecision: 0.8<br>\trecall: 0.29<br>\tneg_precision: 0.96<br>\tneg_recall: 1.0<br><br>",
          "Concept 7<br>extent (len: 59): 3415, 3531, 3231, 596, 4464, 3048, 1965, 3713, 1108, 3042,...<br>intent (len: 2): duration_<1m, contact_cellular<br>new extent (len: 59): 2414, 3042, 3048, 4100, 2218, 2063, 32, 4514, 330, 1598,...<br>new intent (len: 0): emptyset<br>mean_y_true: 0.0<br>mean_y_pred: 0.0<br>Metrics<br>\taccuracy: 1.0<br>\tprecision: 0.0<br>\trecall: 0.0<br>\tneg_precision: 1.0<br>\tneg_recall: 1.0<br><br>",
          "Concept 0<br>extent (len: 1131): 2398, 800, 2288, 3615, 3548, 1115, 4053, 838, 4141, 1189,...<br>intent (len: 0): emptyset<br>new extent (len: 0): emptyset<br>new intent (len: 0): emptyset<br>mean_y_true: 0.11<br>mean_y_pred: 0.08<br>Metrics<br>\taccuracy: 0.91<br>\tprecision: 0.6<br>\trecall: 0.43<br>\tneg_precision: 0.93<br>\tneg_recall: 0.96<br><br>",
          "Concept 6<br>extent (len: 104): 3614, 1876, 415, 4077, 2481, 1557, 1192, 3210, 3740, 33,...<br>intent (len: 2): duration_>=1m, duration_>=10m<br>new extent (len: 8): 1912, 3889, 1534, 3333, 1507, 4495, 465, 30<br>new intent (len: 1): duration_>=10m<br>mean_y_true: 0.46<br>mean_y_pred: 0.51<br>Metrics<br>\taccuracy: 0.61<br>\tprecision: 0.57<br>\trecall: 0.62<br>\tneg_precision: 0.65<br>\tneg_recall: 0.59<br><br>",
          "Concept 5<br>extent (len: 51): 3134, 1583, 3214, 4374, 1075, 8, 3671, 1777, 3892, 2501,...<br>intent (len: 2): duration_<1m, contact_unknown<br>new extent (len: 51): 2844, 139, 3280, 3597, 1583, 2307, 1038, 4143, 1784, 4073,...<br>new intent (len: 0): emptyset<br>mean_y_true: 0.02<br>mean_y_pred: 0.0<br>Metrics<br>\taccuracy: 0.98<br>\tprecision: 0.0<br>\trecall: 0.0<br>\tneg_precision: 0.98<br>\tneg_recall: 1.0<br><br>",
          "Concept 4<br>extent (len: 712): 2398, 800, 2288, 3615, 3548, 1115, 4053, 838, 4141, 1189,...<br>intent (len: 1): contact_cellular<br>new extent (len: 0): emptyset<br>new intent (len: 1): contact_cellular<br>mean_y_true: 0.14<br>mean_y_pred: 0.1<br>Metrics<br>\taccuracy: 0.88<br>\tprecision: 0.58<br>\trecall: 0.43<br>\tneg_precision: 0.91<br>\tneg_recall: 0.95<br><br>"
         ],
         "marker": {
          "color": [
           0.89,
           0.99,
           "grey",
           0.55,
           0.87,
           0.96,
           0.7,
           0.96,
           1,
           0.91,
           0.61,
           0.98,
           0.88
          ],
          "colorbar": {
           "thickness": 15,
           "title": {
            "side": "right",
            "text": "Y rate"
           },
           "xanchor": "left"
          },
          "colorscale": [
           [
            0,
            "rgb(103,0,31)"
           ],
           [
            0.1,
            "rgb(178,24,43)"
           ],
           [
            0.2,
            "rgb(214,96,77)"
           ],
           [
            0.3,
            "rgb(244,165,130)"
           ],
           [
            0.4,
            "rgb(253,219,199)"
           ],
           [
            0.5,
            "rgb(247,247,247)"
           ],
           [
            0.6,
            "rgb(209,229,240)"
           ],
           [
            0.7,
            "rgb(146,197,222)"
           ],
           [
            0.8,
            "rgb(67,147,195)"
           ],
           [
            0.9,
            "rgb(33,102,172)"
           ],
           [
            1,
            "rgb(5,48,97)"
           ]
          ],
          "line": {
           "width": 2
          },
          "reversescale": true,
          "showscale": true,
          "size": 10
         },
         "mode": "markers+text",
         "text": [
          "duration_>=1m<br>n: 58",
          "duration_<1m<br>n: 15",
          "<br>",
          "<br>n: 66",
          "<br>n: 587",
          "contact_unknown<br>",
          "<br>n: 30",
          "<br>n: 257",
          "<br>n: 59",
          "<br>",
          "duration_>=10m<br>n: 8",
          "<br>n: 51",
          "contact_cellular<br>"
         ],
         "textposition": "middle right",
         "type": "scatter",
         "x": [
          0.5,
          -1.5,
          0,
          0.5,
          1,
          -0.5,
          -0.5,
          0,
          -2,
          0,
          2,
          -1,
          1.5
         ],
         "y": [
          4,
          4,
          1,
          2,
          3,
          4,
          2,
          3,
          3,
          5,
          3,
          3,
          4
         ]
        }
       ],
       "layout": {
        "height": 500,
        "hovermode": "closest",
        "margin": {
         "b": 20,
         "l": 5,
         "r": 5,
         "t": 40
        },
        "showlegend": false,
        "template": {
         "data": {
          "bar": [
           {
            "error_x": {
             "color": "#2a3f5f"
            },
            "error_y": {
             "color": "#2a3f5f"
            },
            "marker": {
             "line": {
              "color": "#E5ECF6",
              "width": 0.5
             }
            },
            "type": "bar"
           }
          ],
          "barpolar": [
           {
            "marker": {
             "line": {
              "color": "#E5ECF6",
              "width": 0.5
             }
            },
            "type": "barpolar"
           }
          ],
          "carpet": [
           {
            "aaxis": {
             "endlinecolor": "#2a3f5f",
             "gridcolor": "white",
             "linecolor": "white",
             "minorgridcolor": "white",
             "startlinecolor": "#2a3f5f"
            },
            "baxis": {
             "endlinecolor": "#2a3f5f",
             "gridcolor": "white",
             "linecolor": "white",
             "minorgridcolor": "white",
             "startlinecolor": "#2a3f5f"
            },
            "type": "carpet"
           }
          ],
          "choropleth": [
           {
            "colorbar": {
             "outlinewidth": 0,
             "ticks": ""
            },
            "type": "choropleth"
           }
          ],
          "contour": [
           {
            "colorbar": {
             "outlinewidth": 0,
             "ticks": ""
            },
            "colorscale": [
             [
              0,
              "#0d0887"
             ],
             [
              0.1111111111111111,
              "#46039f"
             ],
             [
              0.2222222222222222,
              "#7201a8"
             ],
             [
              0.3333333333333333,
              "#9c179e"
             ],
             [
              0.4444444444444444,
              "#bd3786"
             ],
             [
              0.5555555555555556,
              "#d8576b"
             ],
             [
              0.6666666666666666,
              "#ed7953"
             ],
             [
              0.7777777777777778,
              "#fb9f3a"
             ],
             [
              0.8888888888888888,
              "#fdca26"
             ],
             [
              1,
              "#f0f921"
             ]
            ],
            "type": "contour"
           }
          ],
          "contourcarpet": [
           {
            "colorbar": {
             "outlinewidth": 0,
             "ticks": ""
            },
            "type": "contourcarpet"
           }
          ],
          "heatmap": [
           {
            "colorbar": {
             "outlinewidth": 0,
             "ticks": ""
            },
            "colorscale": [
             [
              0,
              "#0d0887"
             ],
             [
              0.1111111111111111,
              "#46039f"
             ],
             [
              0.2222222222222222,
              "#7201a8"
             ],
             [
              0.3333333333333333,
              "#9c179e"
             ],
             [
              0.4444444444444444,
              "#bd3786"
             ],
             [
              0.5555555555555556,
              "#d8576b"
             ],
             [
              0.6666666666666666,
              "#ed7953"
             ],
             [
              0.7777777777777778,
              "#fb9f3a"
             ],
             [
              0.8888888888888888,
              "#fdca26"
             ],
             [
              1,
              "#f0f921"
             ]
            ],
            "type": "heatmap"
           }
          ],
          "heatmapgl": [
           {
            "colorbar": {
             "outlinewidth": 0,
             "ticks": ""
            },
            "colorscale": [
             [
              0,
              "#0d0887"
             ],
             [
              0.1111111111111111,
              "#46039f"
             ],
             [
              0.2222222222222222,
              "#7201a8"
             ],
             [
              0.3333333333333333,
              "#9c179e"
             ],
             [
              0.4444444444444444,
              "#bd3786"
             ],
             [
              0.5555555555555556,
              "#d8576b"
             ],
             [
              0.6666666666666666,
              "#ed7953"
             ],
             [
              0.7777777777777778,
              "#fb9f3a"
             ],
             [
              0.8888888888888888,
              "#fdca26"
             ],
             [
              1,
              "#f0f921"
             ]
            ],
            "type": "heatmapgl"
           }
          ],
          "histogram": [
           {
            "marker": {
             "colorbar": {
              "outlinewidth": 0,
              "ticks": ""
             }
            },
            "type": "histogram"
           }
          ],
          "histogram2d": [
           {
            "colorbar": {
             "outlinewidth": 0,
             "ticks": ""
            },
            "colorscale": [
             [
              0,
              "#0d0887"
             ],
             [
              0.1111111111111111,
              "#46039f"
             ],
             [
              0.2222222222222222,
              "#7201a8"
             ],
             [
              0.3333333333333333,
              "#9c179e"
             ],
             [
              0.4444444444444444,
              "#bd3786"
             ],
             [
              0.5555555555555556,
              "#d8576b"
             ],
             [
              0.6666666666666666,
              "#ed7953"
             ],
             [
              0.7777777777777778,
              "#fb9f3a"
             ],
             [
              0.8888888888888888,
              "#fdca26"
             ],
             [
              1,
              "#f0f921"
             ]
            ],
            "type": "histogram2d"
           }
          ],
          "histogram2dcontour": [
           {
            "colorbar": {
             "outlinewidth": 0,
             "ticks": ""
            },
            "colorscale": [
             [
              0,
              "#0d0887"
             ],
             [
              0.1111111111111111,
              "#46039f"
             ],
             [
              0.2222222222222222,
              "#7201a8"
             ],
             [
              0.3333333333333333,
              "#9c179e"
             ],
             [
              0.4444444444444444,
              "#bd3786"
             ],
             [
              0.5555555555555556,
              "#d8576b"
             ],
             [
              0.6666666666666666,
              "#ed7953"
             ],
             [
              0.7777777777777778,
              "#fb9f3a"
             ],
             [
              0.8888888888888888,
              "#fdca26"
             ],
             [
              1,
              "#f0f921"
             ]
            ],
            "type": "histogram2dcontour"
           }
          ],
          "mesh3d": [
           {
            "colorbar": {
             "outlinewidth": 0,
             "ticks": ""
            },
            "type": "mesh3d"
           }
          ],
          "parcoords": [
           {
            "line": {
             "colorbar": {
              "outlinewidth": 0,
              "ticks": ""
             }
            },
            "type": "parcoords"
           }
          ],
          "pie": [
           {
            "automargin": true,
            "type": "pie"
           }
          ],
          "scatter": [
           {
            "marker": {
             "colorbar": {
              "outlinewidth": 0,
              "ticks": ""
             }
            },
            "type": "scatter"
           }
          ],
          "scatter3d": [
           {
            "line": {
             "colorbar": {
              "outlinewidth": 0,
              "ticks": ""
             }
            },
            "marker": {
             "colorbar": {
              "outlinewidth": 0,
              "ticks": ""
             }
            },
            "type": "scatter3d"
           }
          ],
          "scattercarpet": [
           {
            "marker": {
             "colorbar": {
              "outlinewidth": 0,
              "ticks": ""
             }
            },
            "type": "scattercarpet"
           }
          ],
          "scattergeo": [
           {
            "marker": {
             "colorbar": {
              "outlinewidth": 0,
              "ticks": ""
             }
            },
            "type": "scattergeo"
           }
          ],
          "scattergl": [
           {
            "marker": {
             "colorbar": {
              "outlinewidth": 0,
              "ticks": ""
             }
            },
            "type": "scattergl"
           }
          ],
          "scattermapbox": [
           {
            "marker": {
             "colorbar": {
              "outlinewidth": 0,
              "ticks": ""
             }
            },
            "type": "scattermapbox"
           }
          ],
          "scatterpolar": [
           {
            "marker": {
             "colorbar": {
              "outlinewidth": 0,
              "ticks": ""
             }
            },
            "type": "scatterpolar"
           }
          ],
          "scatterpolargl": [
           {
            "marker": {
             "colorbar": {
              "outlinewidth": 0,
              "ticks": ""
             }
            },
            "type": "scatterpolargl"
           }
          ],
          "scatterternary": [
           {
            "marker": {
             "colorbar": {
              "outlinewidth": 0,
              "ticks": ""
             }
            },
            "type": "scatterternary"
           }
          ],
          "surface": [
           {
            "colorbar": {
             "outlinewidth": 0,
             "ticks": ""
            },
            "colorscale": [
             [
              0,
              "#0d0887"
             ],
             [
              0.1111111111111111,
              "#46039f"
             ],
             [
              0.2222222222222222,
              "#7201a8"
             ],
             [
              0.3333333333333333,
              "#9c179e"
             ],
             [
              0.4444444444444444,
              "#bd3786"
             ],
             [
              0.5555555555555556,
              "#d8576b"
             ],
             [
              0.6666666666666666,
              "#ed7953"
             ],
             [
              0.7777777777777778,
              "#fb9f3a"
             ],
             [
              0.8888888888888888,
              "#fdca26"
             ],
             [
              1,
              "#f0f921"
             ]
            ],
            "type": "surface"
           }
          ],
          "table": [
           {
            "cells": {
             "fill": {
              "color": "#EBF0F8"
             },
             "line": {
              "color": "white"
             }
            },
            "header": {
             "fill": {
              "color": "#C8D4E3"
             },
             "line": {
              "color": "white"
             }
            },
            "type": "table"
           }
          ]
         },
         "layout": {
          "annotationdefaults": {
           "arrowcolor": "#2a3f5f",
           "arrowhead": 0,
           "arrowwidth": 1
          },
          "coloraxis": {
           "colorbar": {
            "outlinewidth": 0,
            "ticks": ""
           }
          },
          "colorscale": {
           "diverging": [
            [
             0,
             "#8e0152"
            ],
            [
             0.1,
             "#c51b7d"
            ],
            [
             0.2,
             "#de77ae"
            ],
            [
             0.3,
             "#f1b6da"
            ],
            [
             0.4,
             "#fde0ef"
            ],
            [
             0.5,
             "#f7f7f7"
            ],
            [
             0.6,
             "#e6f5d0"
            ],
            [
             0.7,
             "#b8e186"
            ],
            [
             0.8,
             "#7fbc41"
            ],
            [
             0.9,
             "#4d9221"
            ],
            [
             1,
             "#276419"
            ]
           ],
           "sequential": [
            [
             0,
             "#0d0887"
            ],
            [
             0.1111111111111111,
             "#46039f"
            ],
            [
             0.2222222222222222,
             "#7201a8"
            ],
            [
             0.3333333333333333,
             "#9c179e"
            ],
            [
             0.4444444444444444,
             "#bd3786"
            ],
            [
             0.5555555555555556,
             "#d8576b"
            ],
            [
             0.6666666666666666,
             "#ed7953"
            ],
            [
             0.7777777777777778,
             "#fb9f3a"
            ],
            [
             0.8888888888888888,
             "#fdca26"
            ],
            [
             1,
             "#f0f921"
            ]
           ],
           "sequentialminus": [
            [
             0,
             "#0d0887"
            ],
            [
             0.1111111111111111,
             "#46039f"
            ],
            [
             0.2222222222222222,
             "#7201a8"
            ],
            [
             0.3333333333333333,
             "#9c179e"
            ],
            [
             0.4444444444444444,
             "#bd3786"
            ],
            [
             0.5555555555555556,
             "#d8576b"
            ],
            [
             0.6666666666666666,
             "#ed7953"
            ],
            [
             0.7777777777777778,
             "#fb9f3a"
            ],
            [
             0.8888888888888888,
             "#fdca26"
            ],
            [
             1,
             "#f0f921"
            ]
           ]
          },
          "colorway": [
           "#636efa",
           "#EF553B",
           "#00cc96",
           "#ab63fa",
           "#FFA15A",
           "#19d3f3",
           "#FF6692",
           "#B6E880",
           "#FF97FF",
           "#FECB52"
          ],
          "font": {
           "color": "#2a3f5f"
          },
          "geo": {
           "bgcolor": "white",
           "lakecolor": "white",
           "landcolor": "#E5ECF6",
           "showlakes": true,
           "showland": true,
           "subunitcolor": "white"
          },
          "hoverlabel": {
           "align": "left"
          },
          "hovermode": "closest",
          "mapbox": {
           "style": "light"
          },
          "paper_bgcolor": "white",
          "plot_bgcolor": "#E5ECF6",
          "polar": {
           "angularaxis": {
            "gridcolor": "white",
            "linecolor": "white",
            "ticks": ""
           },
           "bgcolor": "#E5ECF6",
           "radialaxis": {
            "gridcolor": "white",
            "linecolor": "white",
            "ticks": ""
           }
          },
          "scene": {
           "xaxis": {
            "backgroundcolor": "#E5ECF6",
            "gridcolor": "white",
            "gridwidth": 2,
            "linecolor": "white",
            "showbackground": true,
            "ticks": "",
            "zerolinecolor": "white"
           },
           "yaxis": {
            "backgroundcolor": "#E5ECF6",
            "gridcolor": "white",
            "gridwidth": 2,
            "linecolor": "white",
            "showbackground": true,
            "ticks": "",
            "zerolinecolor": "white"
           },
           "zaxis": {
            "backgroundcolor": "#E5ECF6",
            "gridcolor": "white",
            "gridwidth": 2,
            "linecolor": "white",
            "showbackground": true,
            "ticks": "",
            "zerolinecolor": "white"
           }
          },
          "shapedefaults": {
           "line": {
            "color": "#2a3f5f"
           }
          },
          "ternary": {
           "aaxis": {
            "gridcolor": "white",
            "linecolor": "white",
            "ticks": ""
           },
           "baxis": {
            "gridcolor": "white",
            "linecolor": "white",
            "ticks": ""
           },
           "bgcolor": "#E5ECF6",
           "caxis": {
            "gridcolor": "white",
            "linecolor": "white",
            "ticks": ""
           }
          },
          "title": {
           "x": 0.05
          },
          "xaxis": {
           "automargin": true,
           "gridcolor": "white",
           "linecolor": "white",
           "ticks": "",
           "title": {
            "standoff": 15
           },
           "zerolinecolor": "white",
           "zerolinewidth": 2
          },
          "yaxis": {
           "automargin": true,
           "gridcolor": "white",
           "linecolor": "white",
           "ticks": "",
           "title": {
            "standoff": 15
           },
           "zerolinecolor": "white",
           "zerolinewidth": 2
          }
         }
        },
        "title": {
         "font": {
          "size": 16
         },
         "text": "Bank Dataset Concept Lattice"
        },
        "width": 1000,
        "xaxis": {
         "showgrid": false,
         "showticklabels": false,
         "zeroline": false
        },
        "yaxis": {
         "showgrid": false,
         "showticklabels": false,
         "zeroline": false
        }
       }
      },
      "text/html": [
       "<div>\n",
       "        \n",
       "        \n",
       "            <div id=\"f24e62b5-097c-48fe-952c-7a7caae0b48f\" class=\"plotly-graph-div\" style=\"height:500px; width:1000px;\"></div>\n",
       "            <script type=\"text/javascript\">\n",
       "                require([\"plotly\"], function(Plotly) {\n",
       "                    window.PLOTLYENV=window.PLOTLYENV || {};\n",
       "                    \n",
       "                if (document.getElementById(\"f24e62b5-097c-48fe-952c-7a7caae0b48f\")) {\n",
       "                    Plotly.newPlot(\n",
       "                        'f24e62b5-097c-48fe-952c-7a7caae0b48f',\n",
       "                        [{\"hoverinfo\": \"none\", \"line\": {\"color\": \"#888\", \"width\": 0.5}, \"mode\": \"lines\", \"type\": \"scatter\", \"x\": [0.5, 0.0, null, 0.5, 1.0, null, 0.5, 2.0, null, 0.5, 0.0, null, -1.5, -1.0, null, -1.5, -2.0, null, -1.5, 0.0, null, 0.0, 0.5, null, 0.0, -0.5, null, 0.0, -2.0, null, 0.0, -1.0, null, 0.5, 1.0, null, 0.5, 2.0, null, 1.0, 1.5, null, -0.5, 0.0, null, -0.5, -1.0, null, -0.5, 0.0, null, -0.5, 0.0, null, -0.5, 2.0, null, -2.0, 1.5, null, 0.0, 1.5, null], \"y\": [4, 3, null, 4, 3, null, 4, 3, null, 4, 5, null, 4, 3, null, 4, 3, null, 4, 5, null, 1, 2, null, 1, 2, null, 1, 3, null, 1, 3, null, 2, 3, null, 2, 3, null, 3, 4, null, 4, 3, null, 4, 3, null, 4, 5, null, 2, 3, null, 2, 3, null, 3, 4, null, 5, 4, null]}, {\"hoverinfo\": \"text\", \"hovertext\": [\"Concept 3<br>extent (len: 1006): 2398, 800, 2288, 3615, 3548, 1115, 4053, 838, 4141, 1189,...<br>intent (len: 1): duration_>=1m<br>new extent (len: 58): 1545, 1505, 2627, 3632, 3631, 2677, 2402, 501, 3258, 2531,...<br>new intent (len: 1): duration_>=1m<br>mean_y_true: 0.12<br>mean_y_pred: 0.09<br>Metrics<br>\\taccuracy: 0.89<br>\\tprecision: 0.6<br>\\trecall: 0.44<br>\\tneg_precision: 0.92<br>\\tneg_recall: 0.96<br><br>\", \"Concept 1<br>extent (len: 125): 3134, 1583, 3214, 4374, 1075, 8, 3671, 1777, 3892, 2501,...<br>intent (len: 1): duration_<1m<br>new extent (len: 15): 3988, 1569, 408, 3408, 2387, 4468, 2662, 3462, 3166, 3487,...<br>new intent (len: 1): duration_<1m<br>mean_y_true: 0.01<br>mean_y_pred: 0.0<br>Metrics<br>\\taccuracy: 0.99<br>\\tprecision: 0.0<br>\\trecall: 0.0<br>\\tneg_precision: 0.99<br>\\tneg_recall: 1.0<br><br>\", \"Concept 12<br>extent (len: 0): emptyset<br>intent (len: 5): duration_<1m, duration_>=1m, duration_>=10m, contact_cellular, contact_unknown<br>new extent (len: 0): emptyset<br>new intent (len: 0): emptyset<br><br>\", \"Concept 11<br>extent (len: 66): 3614, 1876, 415, 4077, 2481, 1557, 1192, 3210, 3740, 33,...<br>intent (len: 3): duration_>=1m, duration_>=10m, contact_cellular<br>new extent (len: 66): 3463, 1896, 3740, 1991, 99, 589, 2211, 1557, 33, 450,...<br>new intent (len: 0): emptyset<br>mean_y_true: 0.48<br>mean_y_pred: 0.64<br>Metrics<br>\\taccuracy: 0.55<br>\\tprecision: 0.52<br>\\trecall: 0.69<br>\\tneg_precision: 0.58<br>\\tneg_recall: 0.41<br><br>\", \"Concept 9<br>extent (len: 653): 2398, 800, 2288, 3615, 3548, 1115, 4053, 838, 4141, 1189,...<br>intent (len: 2): duration_>=1m, contact_cellular<br>new extent (len: 587): 1055, 3036, 2288, 1189, 744, 2118, 4020, 468, 960, 1042,...<br>new intent (len: 0): emptyset<br>mean_y_true: 0.15<br>mean_y_pred: 0.11<br>Metrics<br>\\taccuracy: 0.87<br>\\tprecision: 0.58<br>\\trecall: 0.43<br>\\tneg_precision: 0.9<br>\\tneg_recall: 0.94<br><br>\", \"Concept 2<br>extent (len: 338): 2344, 4018, 1878, 937, 2754, 2792, 3707, 3964, 2873, 1659,...<br>intent (len: 1): contact_unknown<br>new extent (len: 0): emptyset<br>new intent (len: 1): contact_unknown<br>mean_y_true: 0.04<br>mean_y_pred: 0.01<br>Metrics<br>\\taccuracy: 0.96<br>\\tprecision: 0.8<br>\\trecall: 0.27<br>\\tneg_precision: 0.97<br>\\tneg_recall: 1.0<br><br>\", \"Concept 10<br>extent (len: 30): 2775, 4511, 297, 1315, 2688, 2347, 1175, 2464, 4498, 1877,...<br>intent (len: 3): duration_>=1m, duration_>=10m, contact_unknown<br>new extent (len: 30): 1315, 1877, 2651, 4505, 2347, 297, 3810, 1175, 3091, 1454,...<br>new intent (len: 0): emptyset<br>mean_y_true: 0.4<br>mean_y_pred: 0.17<br>Metrics<br>\\taccuracy: 0.7<br>\\tprecision: 0.8<br>\\trecall: 0.33<br>\\tneg_precision: 0.68<br>\\tneg_recall: 0.94<br><br>\", \"Concept 8<br>extent (len: 287): 2344, 4018, 1878, 937, 2754, 2792, 3707, 3964, 2873, 1659,...<br>intent (len: 2): duration_>=1m, contact_unknown<br>new extent (len: 257): 564, 567, 2658, 4475, 2939, 1024, 1270, 1971, 1564, 4311,...<br>new intent (len: 0): emptyset<br>mean_y_true: 0.05<br>mean_y_pred: 0.02<br>Metrics<br>\\taccuracy: 0.96<br>\\tprecision: 0.8<br>\\trecall: 0.29<br>\\tneg_precision: 0.96<br>\\tneg_recall: 1.0<br><br>\", \"Concept 7<br>extent (len: 59): 3415, 3531, 3231, 596, 4464, 3048, 1965, 3713, 1108, 3042,...<br>intent (len: 2): duration_<1m, contact_cellular<br>new extent (len: 59): 2414, 3042, 3048, 4100, 2218, 2063, 32, 4514, 330, 1598,...<br>new intent (len: 0): emptyset<br>mean_y_true: 0.0<br>mean_y_pred: 0.0<br>Metrics<br>\\taccuracy: 1.0<br>\\tprecision: 0.0<br>\\trecall: 0.0<br>\\tneg_precision: 1.0<br>\\tneg_recall: 1.0<br><br>\", \"Concept 0<br>extent (len: 1131): 2398, 800, 2288, 3615, 3548, 1115, 4053, 838, 4141, 1189,...<br>intent (len: 0): emptyset<br>new extent (len: 0): emptyset<br>new intent (len: 0): emptyset<br>mean_y_true: 0.11<br>mean_y_pred: 0.08<br>Metrics<br>\\taccuracy: 0.91<br>\\tprecision: 0.6<br>\\trecall: 0.43<br>\\tneg_precision: 0.93<br>\\tneg_recall: 0.96<br><br>\", \"Concept 6<br>extent (len: 104): 3614, 1876, 415, 4077, 2481, 1557, 1192, 3210, 3740, 33,...<br>intent (len: 2): duration_>=1m, duration_>=10m<br>new extent (len: 8): 1912, 3889, 1534, 3333, 1507, 4495, 465, 30<br>new intent (len: 1): duration_>=10m<br>mean_y_true: 0.46<br>mean_y_pred: 0.51<br>Metrics<br>\\taccuracy: 0.61<br>\\tprecision: 0.57<br>\\trecall: 0.62<br>\\tneg_precision: 0.65<br>\\tneg_recall: 0.59<br><br>\", \"Concept 5<br>extent (len: 51): 3134, 1583, 3214, 4374, 1075, 8, 3671, 1777, 3892, 2501,...<br>intent (len: 2): duration_<1m, contact_unknown<br>new extent (len: 51): 2844, 139, 3280, 3597, 1583, 2307, 1038, 4143, 1784, 4073,...<br>new intent (len: 0): emptyset<br>mean_y_true: 0.02<br>mean_y_pred: 0.0<br>Metrics<br>\\taccuracy: 0.98<br>\\tprecision: 0.0<br>\\trecall: 0.0<br>\\tneg_precision: 0.98<br>\\tneg_recall: 1.0<br><br>\", \"Concept 4<br>extent (len: 712): 2398, 800, 2288, 3615, 3548, 1115, 4053, 838, 4141, 1189,...<br>intent (len: 1): contact_cellular<br>new extent (len: 0): emptyset<br>new intent (len: 1): contact_cellular<br>mean_y_true: 0.14<br>mean_y_pred: 0.1<br>Metrics<br>\\taccuracy: 0.88<br>\\tprecision: 0.58<br>\\trecall: 0.43<br>\\tneg_precision: 0.91<br>\\tneg_recall: 0.95<br><br>\"], \"marker\": {\"color\": [0.89, 0.99, \"grey\", 0.55, 0.87, 0.96, 0.7, 0.96, 1.0, 0.91, 0.61, 0.98, 0.88], \"colorbar\": {\"thickness\": 15, \"title\": {\"side\": \"right\", \"text\": \"Y rate\"}, \"xanchor\": \"left\"}, \"colorscale\": [[0.0, \"rgb(103,0,31)\"], [0.1, \"rgb(178,24,43)\"], [0.2, \"rgb(214,96,77)\"], [0.3, \"rgb(244,165,130)\"], [0.4, \"rgb(253,219,199)\"], [0.5, \"rgb(247,247,247)\"], [0.6, \"rgb(209,229,240)\"], [0.7, \"rgb(146,197,222)\"], [0.8, \"rgb(67,147,195)\"], [0.9, \"rgb(33,102,172)\"], [1.0, \"rgb(5,48,97)\"]], \"line\": {\"width\": 2}, \"reversescale\": true, \"showscale\": true, \"size\": 10}, \"mode\": \"markers+text\", \"text\": [\"duration_>=1m<br>n: 58\", \"duration_<1m<br>n: 15\", \"<br>\", \"<br>n: 66\", \"<br>n: 587\", \"contact_unknown<br>\", \"<br>n: 30\", \"<br>n: 257\", \"<br>n: 59\", \"<br>\", \"duration_>=10m<br>n: 8\", \"<br>n: 51\", \"contact_cellular<br>\"], \"textposition\": \"middle right\", \"type\": \"scatter\", \"x\": [0.5, -1.5, 0.0, 0.5, 1.0, -0.5, -0.5, 0.0, -2.0, 0.0, 2.0, -1.0, 1.5], \"y\": [4, 4, 1, 2, 3, 4, 2, 3, 3, 5, 3, 3, 4]}],\n",
       "                        {\"height\": 500, \"hovermode\": \"closest\", \"margin\": {\"b\": 20, \"l\": 5, \"r\": 5, \"t\": 40}, \"showlegend\": false, \"template\": {\"data\": {\"bar\": [{\"error_x\": {\"color\": \"#2a3f5f\"}, \"error_y\": {\"color\": \"#2a3f5f\"}, \"marker\": {\"line\": {\"color\": \"#E5ECF6\", \"width\": 0.5}}, \"type\": \"bar\"}], \"barpolar\": [{\"marker\": {\"line\": {\"color\": \"#E5ECF6\", \"width\": 0.5}}, \"type\": \"barpolar\"}], \"carpet\": [{\"aaxis\": {\"endlinecolor\": \"#2a3f5f\", \"gridcolor\": \"white\", \"linecolor\": \"white\", \"minorgridcolor\": \"white\", \"startlinecolor\": \"#2a3f5f\"}, \"baxis\": {\"endlinecolor\": \"#2a3f5f\", \"gridcolor\": \"white\", \"linecolor\": \"white\", \"minorgridcolor\": \"white\", \"startlinecolor\": \"#2a3f5f\"}, \"type\": \"carpet\"}], \"choropleth\": [{\"colorbar\": {\"outlinewidth\": 0, \"ticks\": \"\"}, \"type\": \"choropleth\"}], \"contour\": [{\"colorbar\": {\"outlinewidth\": 0, \"ticks\": \"\"}, \"colorscale\": [[0.0, \"#0d0887\"], [0.1111111111111111, \"#46039f\"], [0.2222222222222222, \"#7201a8\"], [0.3333333333333333, \"#9c179e\"], [0.4444444444444444, \"#bd3786\"], [0.5555555555555556, \"#d8576b\"], [0.6666666666666666, \"#ed7953\"], [0.7777777777777778, \"#fb9f3a\"], [0.8888888888888888, \"#fdca26\"], [1.0, \"#f0f921\"]], \"type\": \"contour\"}], \"contourcarpet\": [{\"colorbar\": {\"outlinewidth\": 0, \"ticks\": \"\"}, \"type\": \"contourcarpet\"}], \"heatmap\": [{\"colorbar\": {\"outlinewidth\": 0, \"ticks\": \"\"}, \"colorscale\": [[0.0, \"#0d0887\"], [0.1111111111111111, \"#46039f\"], [0.2222222222222222, \"#7201a8\"], [0.3333333333333333, \"#9c179e\"], [0.4444444444444444, \"#bd3786\"], [0.5555555555555556, \"#d8576b\"], [0.6666666666666666, \"#ed7953\"], [0.7777777777777778, \"#fb9f3a\"], [0.8888888888888888, \"#fdca26\"], [1.0, \"#f0f921\"]], \"type\": \"heatmap\"}], \"heatmapgl\": [{\"colorbar\": {\"outlinewidth\": 0, \"ticks\": \"\"}, \"colorscale\": [[0.0, \"#0d0887\"], [0.1111111111111111, \"#46039f\"], [0.2222222222222222, \"#7201a8\"], [0.3333333333333333, \"#9c179e\"], [0.4444444444444444, \"#bd3786\"], [0.5555555555555556, \"#d8576b\"], [0.6666666666666666, \"#ed7953\"], [0.7777777777777778, \"#fb9f3a\"], [0.8888888888888888, \"#fdca26\"], [1.0, \"#f0f921\"]], \"type\": \"heatmapgl\"}], \"histogram\": [{\"marker\": {\"colorbar\": {\"outlinewidth\": 0, \"ticks\": \"\"}}, \"type\": \"histogram\"}], \"histogram2d\": [{\"colorbar\": {\"outlinewidth\": 0, \"ticks\": \"\"}, \"colorscale\": [[0.0, \"#0d0887\"], [0.1111111111111111, \"#46039f\"], [0.2222222222222222, \"#7201a8\"], [0.3333333333333333, \"#9c179e\"], [0.4444444444444444, \"#bd3786\"], [0.5555555555555556, \"#d8576b\"], [0.6666666666666666, \"#ed7953\"], [0.7777777777777778, \"#fb9f3a\"], [0.8888888888888888, \"#fdca26\"], [1.0, \"#f0f921\"]], \"type\": \"histogram2d\"}], \"histogram2dcontour\": [{\"colorbar\": {\"outlinewidth\": 0, \"ticks\": \"\"}, \"colorscale\": [[0.0, \"#0d0887\"], [0.1111111111111111, \"#46039f\"], [0.2222222222222222, \"#7201a8\"], [0.3333333333333333, \"#9c179e\"], [0.4444444444444444, \"#bd3786\"], [0.5555555555555556, \"#d8576b\"], [0.6666666666666666, \"#ed7953\"], [0.7777777777777778, \"#fb9f3a\"], [0.8888888888888888, \"#fdca26\"], [1.0, \"#f0f921\"]], \"type\": \"histogram2dcontour\"}], \"mesh3d\": [{\"colorbar\": {\"outlinewidth\": 0, \"ticks\": \"\"}, \"type\": \"mesh3d\"}], \"parcoords\": [{\"line\": {\"colorbar\": {\"outlinewidth\": 0, \"ticks\": \"\"}}, \"type\": \"parcoords\"}], \"pie\": [{\"automargin\": true, \"type\": \"pie\"}], \"scatter\": [{\"marker\": {\"colorbar\": {\"outlinewidth\": 0, \"ticks\": \"\"}}, \"type\": \"scatter\"}], \"scatter3d\": [{\"line\": {\"colorbar\": {\"outlinewidth\": 0, \"ticks\": \"\"}}, \"marker\": {\"colorbar\": {\"outlinewidth\": 0, \"ticks\": \"\"}}, \"type\": \"scatter3d\"}], \"scattercarpet\": [{\"marker\": {\"colorbar\": {\"outlinewidth\": 0, \"ticks\": \"\"}}, \"type\": \"scattercarpet\"}], \"scattergeo\": [{\"marker\": {\"colorbar\": {\"outlinewidth\": 0, \"ticks\": \"\"}}, \"type\": \"scattergeo\"}], \"scattergl\": [{\"marker\": {\"colorbar\": {\"outlinewidth\": 0, \"ticks\": \"\"}}, \"type\": \"scattergl\"}], \"scattermapbox\": [{\"marker\": {\"colorbar\": {\"outlinewidth\": 0, \"ticks\": \"\"}}, \"type\": \"scattermapbox\"}], \"scatterpolar\": [{\"marker\": {\"colorbar\": {\"outlinewidth\": 0, \"ticks\": \"\"}}, \"type\": \"scatterpolar\"}], \"scatterpolargl\": [{\"marker\": {\"colorbar\": {\"outlinewidth\": 0, \"ticks\": \"\"}}, \"type\": \"scatterpolargl\"}], \"scatterternary\": [{\"marker\": {\"colorbar\": {\"outlinewidth\": 0, \"ticks\": \"\"}}, \"type\": \"scatterternary\"}], \"surface\": [{\"colorbar\": {\"outlinewidth\": 0, \"ticks\": \"\"}, \"colorscale\": [[0.0, \"#0d0887\"], [0.1111111111111111, \"#46039f\"], [0.2222222222222222, \"#7201a8\"], [0.3333333333333333, \"#9c179e\"], [0.4444444444444444, \"#bd3786\"], [0.5555555555555556, \"#d8576b\"], [0.6666666666666666, \"#ed7953\"], [0.7777777777777778, \"#fb9f3a\"], [0.8888888888888888, \"#fdca26\"], [1.0, \"#f0f921\"]], \"type\": \"surface\"}], \"table\": [{\"cells\": {\"fill\": {\"color\": \"#EBF0F8\"}, \"line\": {\"color\": \"white\"}}, \"header\": {\"fill\": {\"color\": \"#C8D4E3\"}, \"line\": {\"color\": \"white\"}}, \"type\": \"table\"}]}, \"layout\": {\"annotationdefaults\": {\"arrowcolor\": \"#2a3f5f\", \"arrowhead\": 0, \"arrowwidth\": 1}, \"coloraxis\": {\"colorbar\": {\"outlinewidth\": 0, \"ticks\": \"\"}}, \"colorscale\": {\"diverging\": [[0, \"#8e0152\"], [0.1, \"#c51b7d\"], [0.2, \"#de77ae\"], [0.3, \"#f1b6da\"], [0.4, \"#fde0ef\"], [0.5, \"#f7f7f7\"], [0.6, \"#e6f5d0\"], [0.7, \"#b8e186\"], [0.8, \"#7fbc41\"], [0.9, \"#4d9221\"], [1, \"#276419\"]], \"sequential\": [[0.0, \"#0d0887\"], [0.1111111111111111, \"#46039f\"], [0.2222222222222222, \"#7201a8\"], [0.3333333333333333, \"#9c179e\"], [0.4444444444444444, \"#bd3786\"], [0.5555555555555556, \"#d8576b\"], [0.6666666666666666, \"#ed7953\"], [0.7777777777777778, \"#fb9f3a\"], [0.8888888888888888, \"#fdca26\"], [1.0, \"#f0f921\"]], \"sequentialminus\": [[0.0, \"#0d0887\"], [0.1111111111111111, \"#46039f\"], [0.2222222222222222, \"#7201a8\"], [0.3333333333333333, \"#9c179e\"], [0.4444444444444444, \"#bd3786\"], [0.5555555555555556, \"#d8576b\"], [0.6666666666666666, \"#ed7953\"], [0.7777777777777778, \"#fb9f3a\"], [0.8888888888888888, \"#fdca26\"], [1.0, \"#f0f921\"]]}, \"colorway\": [\"#636efa\", \"#EF553B\", \"#00cc96\", \"#ab63fa\", \"#FFA15A\", \"#19d3f3\", \"#FF6692\", \"#B6E880\", \"#FF97FF\", \"#FECB52\"], \"font\": {\"color\": \"#2a3f5f\"}, \"geo\": {\"bgcolor\": \"white\", \"lakecolor\": \"white\", \"landcolor\": \"#E5ECF6\", \"showlakes\": true, \"showland\": true, \"subunitcolor\": \"white\"}, \"hoverlabel\": {\"align\": \"left\"}, \"hovermode\": \"closest\", \"mapbox\": {\"style\": \"light\"}, \"paper_bgcolor\": \"white\", \"plot_bgcolor\": \"#E5ECF6\", \"polar\": {\"angularaxis\": {\"gridcolor\": \"white\", \"linecolor\": \"white\", \"ticks\": \"\"}, \"bgcolor\": \"#E5ECF6\", \"radialaxis\": {\"gridcolor\": \"white\", \"linecolor\": \"white\", \"ticks\": \"\"}}, \"scene\": {\"xaxis\": {\"backgroundcolor\": \"#E5ECF6\", \"gridcolor\": \"white\", \"gridwidth\": 2, \"linecolor\": \"white\", \"showbackground\": true, \"ticks\": \"\", \"zerolinecolor\": \"white\"}, \"yaxis\": {\"backgroundcolor\": \"#E5ECF6\", \"gridcolor\": \"white\", \"gridwidth\": 2, \"linecolor\": \"white\", \"showbackground\": true, \"ticks\": \"\", \"zerolinecolor\": \"white\"}, \"zaxis\": {\"backgroundcolor\": \"#E5ECF6\", \"gridcolor\": \"white\", \"gridwidth\": 2, \"linecolor\": \"white\", \"showbackground\": true, \"ticks\": \"\", \"zerolinecolor\": \"white\"}}, \"shapedefaults\": {\"line\": {\"color\": \"#2a3f5f\"}}, \"ternary\": {\"aaxis\": {\"gridcolor\": \"white\", \"linecolor\": \"white\", \"ticks\": \"\"}, \"baxis\": {\"gridcolor\": \"white\", \"linecolor\": \"white\", \"ticks\": \"\"}, \"bgcolor\": \"#E5ECF6\", \"caxis\": {\"gridcolor\": \"white\", \"linecolor\": \"white\", \"ticks\": \"\"}}, \"title\": {\"x\": 0.05}, \"xaxis\": {\"automargin\": true, \"gridcolor\": \"white\", \"linecolor\": \"white\", \"ticks\": \"\", \"title\": {\"standoff\": 15}, \"zerolinecolor\": \"white\", \"zerolinewidth\": 2}, \"yaxis\": {\"automargin\": true, \"gridcolor\": \"white\", \"linecolor\": \"white\", \"ticks\": \"\", \"title\": {\"standoff\": 15}, \"zerolinecolor\": \"white\", \"zerolinewidth\": 2}}}, \"title\": {\"font\": {\"size\": 16}, \"text\": \"Bank Dataset Concept Lattice\"}, \"width\": 1000, \"xaxis\": {\"showgrid\": false, \"showticklabels\": false, \"zeroline\": false}, \"yaxis\": {\"showgrid\": false, \"showticklabels\": false, \"zeroline\": false}},\n",
       "                        {\"responsive\": true}\n",
       "                    ).then(function(){\n",
       "                            \n",
       "var gd = document.getElementById('f24e62b5-097c-48fe-952c-7a7caae0b48f');\n",
       "var x = new MutationObserver(function (mutations, observer) {{\n",
       "        var display = window.getComputedStyle(gd).display;\n",
       "        if (!display || display === 'none') {{\n",
       "            console.log([gd, 'removed!']);\n",
       "            Plotly.purge(gd);\n",
       "            observer.disconnect();\n",
       "        }}\n",
       "}});\n",
       "\n",
       "// Listen for the removal of the full notebook cells\n",
       "var notebookContainer = gd.closest('#notebook-container');\n",
       "if (notebookContainer) {{\n",
       "    x.observe(notebookContainer, {childList: true});\n",
       "}}\n",
       "\n",
       "// Listen for the clearing of the current output cell\n",
       "var outputEl = gd.closest('.output');\n",
       "if (outputEl) {{\n",
       "    x.observe(outputEl, {childList: true});\n",
       "}}\n",
       "\n",
       "                        })\n",
       "                };\n",
       "                });\n",
       "            </script>\n",
       "        </div>"
      ]
     },
     "metadata": {},
     "output_type": "display_data"
    }
   ],
   "source": [
    "fig.show()"
   ]
  },
  {
   "cell_type": "markdown",
   "metadata": {},
   "source": [
    "# Очищаем решётку"
   ]
  },
  {
   "cell_type": "raw",
   "metadata": {},
   "source": [
    "%%time\n",
    "cntx_short = fcai.Context(bin_ds,y_true=y_test, y_pred=test_preds)\n",
    "fm_short = fcai.FormalManager(cntx_short, ds_obj=None, task_type='binary classification')\n",
    "fm_short.construct_concepts(use_tqdm=False)\n",
    "fm_short.construct_lattice(use_tqdm=False)"
   ]
  },
  {
   "cell_type": "raw",
   "metadata": {},
   "source": [
    "cleanse_by = 'mean_y_pred'\n",
    "eps = 1e-1\n",
    "n_deleted = 0\n",
    "cncpts_map = {c._idx:c for c in fm_short._concepts}\n",
    "for c_id in tqdm_notebook(cncpts_map):\n",
    "    c = cncpts_map[c_id]\n",
    "    upns_ids = c._up_neighbs\n",
    "    lnbs_ids = c._low_neighbs\n",
    "    if len(upns_ids)==0:\n",
    "        continue\n",
    "    if cleanse_by=='mean_y_pred':\n",
    "        up_vals = [cncpts_map[upn_id]._y_pred_mean for upn_id in upns_ids]\n",
    "        cur_val = c._y_pred_mean\n",
    "    else:\n",
    "        raise ValueError(f'Cleansed value \"{cleanse_by}\" is not supported')\n",
    "        \n",
    "    if cur_val is None:\n",
    "        continue\n",
    "    if any([abs(up_val-cur_val)<eps for up_val in upns_ids]):\n",
    "        #print(c_id)\n",
    "        for upn_id in upns_ids:\n",
    "            cncpts_map[upn_id]._low_neighbs = cncpts_map[upn_id]._low_neighbs|c._low_neighbs\n",
    "            cncpts_map[upn_id]._low_neighbs.remove(c_id)\n",
    "            for ln_id in c._low_neighbs:\n",
    "                cncpts_map[ln_id]._up_neighbs = cncpts_map[ln_id]._up_neighbs|{upn_id}\n",
    "                if c_id in cncpts_map[ln_id]._up_neighbs:\n",
    "                    cncpts_map[ln_id]._up_neighbs.remove(c_id)\n",
    "        n_deleted += 1"
   ]
  },
  {
   "cell_type": "raw",
   "metadata": {},
   "source": [
    "cncpts_to_check = [0]\n",
    "new_concepts = set([])\n",
    "while len(cncpts_to_check)>0:\n",
    "    c_id = cncpts_to_check.pop(0)\n",
    "    c = cncpts_map[c_id]\n",
    "    new_concepts.add(c)\n",
    "    cncpts_to_check += list(c._low_neighbs)\n",
    "print(len(new_concepts))"
   ]
  },
  {
   "cell_type": "raw",
   "metadata": {},
   "source": [
    "fm_short._concepts = new_concepts"
   ]
  },
  {
   "cell_type": "raw",
   "metadata": {},
   "source": [
    "fig_short = fm_short.get_plotly_fig(level_sort=2, sort_by='y_true',\n",
    "                        y_precision=2, title='Bank Dataset Concept Lattice', cbar_title='Y rate',\n",
    "                        color_by='accuracy',)"
   ]
  },
  {
   "cell_type": "raw",
   "metadata": {},
   "source": [
    "fig_short.show()"
   ]
  }
 ],
 "metadata": {
  "kernelspec": {
   "display_name": "Python 3",
   "language": "python",
   "name": "python3"
  },
  "language_info": {
   "codemirror_mode": {
    "name": "ipython",
    "version": 3
   },
   "file_extension": ".py",
   "mimetype": "text/x-python",
   "name": "python",
   "nbconvert_exporter": "python",
   "pygments_lexer": "ipython3",
   "version": "3.7.1"
  }
 },
 "nbformat": 4,
 "nbformat_minor": 2
}
