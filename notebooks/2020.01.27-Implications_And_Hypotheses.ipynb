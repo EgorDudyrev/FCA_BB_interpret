{
 "cells": [
  {
   "cell_type": "markdown",
   "metadata": {},
   "source": [
    "# Preliminary"
   ]
  },
  {
   "cell_type": "code",
   "execution_count": 1,
   "metadata": {},
   "outputs": [
    {
     "data": {
      "text/html": [
       "<style>.container { width:90% !important; }</style>"
      ],
      "text/plain": [
       "<IPython.core.display.HTML object>"
      ]
     },
     "metadata": {},
     "output_type": "display_data"
    }
   ],
   "source": [
    "import numpy as np\n",
    "import pandas as pd\n",
    "\n",
    "from catboost import CatBoostClassifier, Pool, CatBoostRegressor\n",
    "from sklearn.model_selection import train_test_split\n",
    "from sklearn.metrics import accuracy_score, precision_score, recall_score\n",
    "\n",
    "from IPython.core.display import display, HTML\n",
    "display(HTML(\"<style>.container { width:90% !important; }</style>\"))\n",
    "\n",
    "import os\n",
    "import sys\n",
    "BASE_PATH = os.path.realpath('..')\n",
    "DATASETS_DIR = os.path.join(BASE_PATH, 'datasets')\n",
    "LIB_DIR = os.path.join(BASE_PATH,'lib')\n",
    "if LIB_DIR not in sys.path:\n",
    "    sys.path.append(LIB_DIR)\n",
    "\n",
    "import matplotlib.pyplot as plt\n",
    "import seaborn as sns\n",
    "from tqdm import tqdm_notebook\n",
    "\n",
    "from importlib import reload"
   ]
  },
  {
   "cell_type": "code",
   "execution_count": 2,
   "metadata": {},
   "outputs": [],
   "source": [
    "import fca_interp as fcai"
   ]
  },
  {
   "cell_type": "code",
   "execution_count": 443,
   "metadata": {},
   "outputs": [],
   "source": [
    "def delete_nocontrib_concepts(fm, conj_form=True, eps=None):\n",
    "    improv_metric = 'y_pred'\n",
    "    to_see = range(len(fm._concepts)-1,0,-1)\n",
    "    for c_id in to_see:\n",
    "        c = fm.get_concept_by_id(c_id)\n",
    "        if len(c.get_extent())==0:\n",
    "            fm.delete_concept(c_id)\n",
    "            continue\n",
    "\n",
    "        upns = c._up_neighbs\n",
    "        if len(upns)>0:\n",
    "            flg = len(upns)\n",
    "            for upn_id in upns:\n",
    "                upn = fm.get_concept_by_id(upn_id)\n",
    "                upn_val = dict({'y_true':upn._y_true_mean, 'y_pred':upn._y_pred_mean}, **upn._metrics)[improv_metric]\n",
    "                c_val = dict({'y_true':c._y_true_mean, 'y_pred':c._y_pred_mean}, **c._metrics)[improv_metric]\n",
    "                if eps is not None:\n",
    "                    if upn_val is None:\n",
    "                        continue\n",
    "                    if abs(c_val-upn_val)<=eps:\n",
    "                        flg = 0 if conj_form else flg-1\n",
    "                        if flg == 0:\n",
    "                            break\n",
    "                else:\n",
    "                    if not (c_val==upn_val and c_val in [0,1]):# or abs(c_val-upn_val)<=eps:\n",
    "                        #flg = False\n",
    "                        flg = 0 if conj_form else flg-1\n",
    "                        if flg == 0:\n",
    "                            break\n",
    "\n",
    "            if flg==0:\n",
    "                #print(c_id, upn_id)\n",
    "                fm.delete_concept(c_id)"
   ]
  },
  {
   "cell_type": "code",
   "execution_count": 19,
   "metadata": {},
   "outputs": [],
   "source": [
    "def print_contributions(fm):\n",
    "    asr = []\n",
    "    itr = 1\n",
    "    for c in sorted(fm._concepts, key=lambda c: c._idx):\n",
    "        if c._y_pred_mean is None:\n",
    "                continue\n",
    "        for un_idx in c._up_neighbs:\n",
    "            un = fm.get_concept_by_id(un_idx)\n",
    "            new_int = [i for i in c._intent if i not in un._intent]\n",
    "            d = c._y_pred_mean-un._y_pred_mean\n",
    "            asr.append((new_int, un._intent, d))\n",
    "            print(f\"{itr}) {c._idx}->{un_idx}: c({', '.join(new_int)} | {', '.join(un._intent)}) -> {d:.2f}\")\n",
    "            itr += 1\n",
    "        #if len(c._extent)>0:\n",
    "        #    print(f\"{c._idx}: {', '.join(c._intent) if len(c._intent)>0 else '()'} => {c._y_pred_mean:.2f}\")    \n",
    "    return asr"
   ]
  },
  {
   "cell_type": "code",
   "execution_count": 183,
   "metadata": {},
   "outputs": [],
   "source": [
    "def plot_concepts_as_hypotheses(concepts, sort_by_idx=True):\n",
    "    if type(concepts) not in [list, tuple]:\n",
    "        concepts = [concepts]\n",
    "    concepts = [c for c in concepts if c._y_pred_mean is not None]\n",
    "    if sort_by_idx:\n",
    "        concepts = sorted(concepts, key=lambda c: c._idx)\n",
    "    for c in concepts:\n",
    "        print(f\"{c._idx}: {','.join(c._intent if c._intent is not None else [])} -> {c._y_pred_mean:.2f}\")"
   ]
  },
  {
   "cell_type": "code",
   "execution_count": 368,
   "metadata": {},
   "outputs": [],
   "source": [
    "def plot_base_pos_neg_hypotheses(fm, base_pred=None):\n",
    "    base_pred = fm.get_concept_by_id(0)._y_pred_mean if base_pred is None else base_pred\n",
    "    concepts = [c for c in fm._concepts if c._y_pred_mean is not None]\n",
    "    print('-------------------------')\n",
    "    print('-----Base hypothesis-----')\n",
    "    print('-------------------------')\n",
    "    #plot_concepts_as_hypotheses(fm.get_concept_by_id(0))\n",
    "    print(f'0: _ -> {base_pred:.2f}')\n",
    "    print()\n",
    "    print('-------------------------')\n",
    "    print('---Positive hypotheses---')\n",
    "    print('-------------------------')\n",
    "    plot_concepts_as_hypotheses(sorted([c for c in concepts if c._y_pred_mean>base_pred], key=lambda c: c._y_pred_mean))\n",
    "    print()\n",
    "    print('-------------------------')\n",
    "    print('---Negative hypotheses---')\n",
    "    print('-------------------------')\n",
    "    plot_concepts_as_hypotheses(sorted([c for c in concepts if c._y_pred_mean<base_pred], key=lambda c: -c._y_pred_mean))    "
   ]
  },
  {
   "cell_type": "code",
   "execution_count": 152,
   "metadata": {},
   "outputs": [],
   "source": [
    "def delete_lower_neighbs(fm, c):\n",
    "    lns = [fm.get_concept_by_id(ln_id) for ln_id in c._low_neighbs]\n",
    "    for ln in lns:\n",
    "        delete_lower_neighbs(fm, ln)\n",
    "    fm.delete_concept(c._idx)"
   ]
  },
  {
   "cell_type": "code",
   "execution_count": 153,
   "metadata": {},
   "outputs": [],
   "source": [
    "def delete_all_lower_neighbs_downwise(fm, min_y=0, max_y=1):\n",
    "    idx = 0\n",
    "    while len([c for c in fm._concepts if c._y_pred_mean is not None and \n",
    "               round(c._y_pred_mean,2) in [min_y,max_y] and len(c._low_neighbs)>0])>0:\n",
    "        #print(idx)\n",
    "        c = [c for c in fm._concepts if c._y_pred_mean is not None and \n",
    "             round(c._y_pred_mean,2) in [min_y,max_y] and len(c._low_neighbs)>0][0]\n",
    "        delete_lower_neighbs(fm, fm.get_concept_by_id(list(c._low_neighbs)[0]))\n",
    "        idx += 1    "
   ]
  },
  {
   "cell_type": "markdown",
   "metadata": {},
   "source": [
    "# Mango DataSet"
   ]
  },
  {
   "cell_type": "code",
   "execution_count": 155,
   "metadata": {},
   "outputs": [
    {
     "name": "stdout",
     "output_type": "stream",
     "text": [
      "(8, 5)\n"
     ]
    },
    {
     "data": {
      "text/html": [
       "<div>\n",
       "<style scoped>\n",
       "    .dataframe tbody tr th:only-of-type {\n",
       "        vertical-align: middle;\n",
       "    }\n",
       "\n",
       "    .dataframe tbody tr th {\n",
       "        vertical-align: top;\n",
       "    }\n",
       "\n",
       "    .dataframe thead th {\n",
       "        text-align: right;\n",
       "    }\n",
       "</style>\n",
       "<table border=\"1\" class=\"dataframe\">\n",
       "  <thead>\n",
       "    <tr style=\"text-align: right;\">\n",
       "      <th></th>\n",
       "      <th>color</th>\n",
       "      <th>firm</th>\n",
       "      <th>smooth</th>\n",
       "      <th>form</th>\n",
       "      <th>fruit</th>\n",
       "    </tr>\n",
       "    <tr>\n",
       "      <th>title</th>\n",
       "      <th></th>\n",
       "      <th></th>\n",
       "      <th></th>\n",
       "      <th></th>\n",
       "      <th></th>\n",
       "    </tr>\n",
       "  </thead>\n",
       "  <tbody>\n",
       "    <tr>\n",
       "      <th>apple</th>\n",
       "      <td>yellow</td>\n",
       "      <td>False</td>\n",
       "      <td>True</td>\n",
       "      <td>round</td>\n",
       "      <td>True</td>\n",
       "    </tr>\n",
       "    <tr>\n",
       "      <th>grapefruit</th>\n",
       "      <td>yellow</td>\n",
       "      <td>False</td>\n",
       "      <td>False</td>\n",
       "      <td>round</td>\n",
       "      <td>True</td>\n",
       "    </tr>\n",
       "    <tr>\n",
       "      <th>kiwi</th>\n",
       "      <td>green</td>\n",
       "      <td>False</td>\n",
       "      <td>False</td>\n",
       "      <td>oval</td>\n",
       "      <td>True</td>\n",
       "    </tr>\n",
       "    <tr>\n",
       "      <th>plum</th>\n",
       "      <td>blue</td>\n",
       "      <td>False</td>\n",
       "      <td>True</td>\n",
       "      <td>oval</td>\n",
       "      <td>True</td>\n",
       "    </tr>\n",
       "    <tr>\n",
       "      <th>toy cube</th>\n",
       "      <td>green</td>\n",
       "      <td>True</td>\n",
       "      <td>True</td>\n",
       "      <td>cubic</td>\n",
       "      <td>False</td>\n",
       "    </tr>\n",
       "  </tbody>\n",
       "</table>\n",
       "</div>"
      ],
      "text/plain": [
       "             color   firm  smooth   form  fruit\n",
       "title                                          \n",
       "apple       yellow  False    True  round   True\n",
       "grapefruit  yellow  False   False  round   True\n",
       "kiwi         green  False   False   oval   True\n",
       "plum          blue  False    True   oval   True\n",
       "toy cube     green   True    True  cubic  False"
      ]
     },
     "execution_count": 155,
     "metadata": {},
     "output_type": "execute_result"
    }
   ],
   "source": [
    "mango_ds = pd.read_csv(os.path.join(DATASETS_DIR, 'mango.csv'), index_col=0)\n",
    "print(mango_ds.shape)\n",
    "mango_ds.head()"
   ]
  },
  {
   "cell_type": "code",
   "execution_count": 156,
   "metadata": {},
   "outputs": [
    {
     "name": "stdout",
     "output_type": "stream",
     "text": [
      "(8, 10)\n"
     ]
    },
    {
     "data": {
      "text/html": [
       "<div>\n",
       "<style scoped>\n",
       "    .dataframe tbody tr th:only-of-type {\n",
       "        vertical-align: middle;\n",
       "    }\n",
       "\n",
       "    .dataframe tbody tr th {\n",
       "        vertical-align: top;\n",
       "    }\n",
       "\n",
       "    .dataframe thead th {\n",
       "        text-align: right;\n",
       "    }\n",
       "</style>\n",
       "<table border=\"1\" class=\"dataframe\">\n",
       "  <thead>\n",
       "    <tr style=\"text-align: right;\">\n",
       "      <th></th>\n",
       "      <th>firm</th>\n",
       "      <th>smooth</th>\n",
       "      <th>fruit</th>\n",
       "      <th>yellow</th>\n",
       "      <th>green</th>\n",
       "      <th>blue</th>\n",
       "      <th>white</th>\n",
       "      <th>round</th>\n",
       "      <th>oval</th>\n",
       "      <th>cubic</th>\n",
       "    </tr>\n",
       "    <tr>\n",
       "      <th>title</th>\n",
       "      <th></th>\n",
       "      <th></th>\n",
       "      <th></th>\n",
       "      <th></th>\n",
       "      <th></th>\n",
       "      <th></th>\n",
       "      <th></th>\n",
       "      <th></th>\n",
       "      <th></th>\n",
       "      <th></th>\n",
       "    </tr>\n",
       "  </thead>\n",
       "  <tbody>\n",
       "    <tr>\n",
       "      <th>apple</th>\n",
       "      <td>False</td>\n",
       "      <td>True</td>\n",
       "      <td>True</td>\n",
       "      <td>True</td>\n",
       "      <td>False</td>\n",
       "      <td>False</td>\n",
       "      <td>False</td>\n",
       "      <td>True</td>\n",
       "      <td>False</td>\n",
       "      <td>False</td>\n",
       "    </tr>\n",
       "    <tr>\n",
       "      <th>grapefruit</th>\n",
       "      <td>False</td>\n",
       "      <td>False</td>\n",
       "      <td>True</td>\n",
       "      <td>True</td>\n",
       "      <td>False</td>\n",
       "      <td>False</td>\n",
       "      <td>False</td>\n",
       "      <td>True</td>\n",
       "      <td>False</td>\n",
       "      <td>False</td>\n",
       "    </tr>\n",
       "    <tr>\n",
       "      <th>kiwi</th>\n",
       "      <td>False</td>\n",
       "      <td>False</td>\n",
       "      <td>True</td>\n",
       "      <td>False</td>\n",
       "      <td>True</td>\n",
       "      <td>False</td>\n",
       "      <td>False</td>\n",
       "      <td>False</td>\n",
       "      <td>True</td>\n",
       "      <td>False</td>\n",
       "    </tr>\n",
       "    <tr>\n",
       "      <th>plum</th>\n",
       "      <td>False</td>\n",
       "      <td>True</td>\n",
       "      <td>True</td>\n",
       "      <td>False</td>\n",
       "      <td>False</td>\n",
       "      <td>True</td>\n",
       "      <td>False</td>\n",
       "      <td>False</td>\n",
       "      <td>True</td>\n",
       "      <td>False</td>\n",
       "    </tr>\n",
       "    <tr>\n",
       "      <th>toy cube</th>\n",
       "      <td>True</td>\n",
       "      <td>True</td>\n",
       "      <td>False</td>\n",
       "      <td>False</td>\n",
       "      <td>True</td>\n",
       "      <td>False</td>\n",
       "      <td>False</td>\n",
       "      <td>False</td>\n",
       "      <td>False</td>\n",
       "      <td>True</td>\n",
       "    </tr>\n",
       "  </tbody>\n",
       "</table>\n",
       "</div>"
      ],
      "text/plain": [
       "             firm  smooth  fruit  yellow  green   blue  white  round   oval  \\\n",
       "title                                                                         \n",
       "apple       False    True   True    True  False  False  False   True  False   \n",
       "grapefruit  False   False   True    True  False  False  False   True  False   \n",
       "kiwi        False   False   True   False   True  False  False  False   True   \n",
       "plum        False    True   True   False  False   True  False  False   True   \n",
       "toy cube     True    True  False   False   True  False  False  False  False   \n",
       "\n",
       "            cubic  \n",
       "title              \n",
       "apple       False  \n",
       "grapefruit  False  \n",
       "kiwi        False  \n",
       "plum        False  \n",
       "toy cube     True  "
      ]
     },
     "execution_count": 156,
     "metadata": {},
     "output_type": "execute_result"
    }
   ],
   "source": [
    "mango_bin_ds = mango_ds.copy()\n",
    "for f in mango_bin_ds.columns:\n",
    "    if mango_bin_ds[f].nunique()>2:\n",
    "        for v in mango_bin_ds[f].unique():\n",
    "            #mango_bin_ds[f\"{f}__{v}\"] = mango_bin_ds[f]==v\n",
    "            mango_bin_ds[f\"{v}\"] = mango_bin_ds[f]==v\n",
    "        mango_bin_ds = mango_bin_ds.drop(f,1)\n",
    "print(mango_bin_ds.shape)\n",
    "mango_bin_ds.head()"
   ]
  },
  {
   "cell_type": "code",
   "execution_count": 157,
   "metadata": {},
   "outputs": [
    {
     "data": {
      "text/html": [
       "<div>\n",
       "<style scoped>\n",
       "    .dataframe tbody tr th:only-of-type {\n",
       "        vertical-align: middle;\n",
       "    }\n",
       "\n",
       "    .dataframe tbody tr th {\n",
       "        vertical-align: top;\n",
       "    }\n",
       "\n",
       "    .dataframe thead th {\n",
       "        text-align: right;\n",
       "    }\n",
       "</style>\n",
       "<table border=\"1\" class=\"dataframe\">\n",
       "  <thead>\n",
       "    <tr style=\"text-align: right;\">\n",
       "      <th></th>\n",
       "      <th>metrics</th>\n",
       "      <th>train</th>\n",
       "    </tr>\n",
       "  </thead>\n",
       "  <tbody>\n",
       "    <tr>\n",
       "      <th>0</th>\n",
       "      <td>accuracy_score</td>\n",
       "      <td>0.875000</td>\n",
       "    </tr>\n",
       "    <tr>\n",
       "      <th>1</th>\n",
       "      <td>precision_score</td>\n",
       "      <td>0.833333</td>\n",
       "    </tr>\n",
       "    <tr>\n",
       "      <th>2</th>\n",
       "      <td>recall_score</td>\n",
       "      <td>1.000000</td>\n",
       "    </tr>\n",
       "    <tr>\n",
       "      <th>3</th>\n",
       "      <td>y_mean</td>\n",
       "      <td>0.625000</td>\n",
       "    </tr>\n",
       "  </tbody>\n",
       "</table>\n",
       "</div>"
      ],
      "text/plain": [
       "           metrics     train\n",
       "0   accuracy_score  0.875000\n",
       "1  precision_score  0.833333\n",
       "2     recall_score  1.000000\n",
       "3           y_mean  0.625000"
      ]
     },
     "execution_count": 157,
     "metadata": {},
     "output_type": "execute_result"
    }
   ],
   "source": [
    "y_feat = 'fruit'\n",
    "s = mango_ds.drop(y_feat,1).dtypes\n",
    "cat_feats = list(s[s==np.dtype('O')].index)\n",
    "real_feats = list(s.drop(cat_feats).index)\n",
    "y_train = mango_ds[y_feat].astype(int)\n",
    "\n",
    "train_pool = Pool(mango_ds.drop(y_feat,1), y_train, cat_features=cat_feats)\n",
    "bb = CatBoostClassifier(random_seed=42)\n",
    "bb.fit(train_pool, verbose=False, plot=False)\n",
    "\n",
    "train_preds = bb.predict(train_pool)\n",
    "train_preds_proba = bb.predict_proba(train_pool)[:,1]\n",
    "metrics_ds = []\n",
    "for m in [accuracy_score, precision_score, recall_score]:\n",
    "    res = {'train':m(y_train, train_preds), 'metrics':m.__name__}\n",
    "    metrics_ds.append(res)\n",
    "metrics_ds.append({'train':y_train.mean(),  'metrics':'y_mean'})\n",
    "metrics_ds = pd.DataFrame(metrics_ds).reindex(columns=['metrics','train'])\n",
    "metrics_ds"
   ]
  },
  {
   "cell_type": "code",
   "execution_count": 196,
   "metadata": {},
   "outputs": [],
   "source": [
    "fcai = reload(fcai)"
   ]
  },
  {
   "cell_type": "code",
   "execution_count": 197,
   "metadata": {},
   "outputs": [
    {
     "name": "stdout",
     "output_type": "stream",
     "text": [
      "CPU times: user 48.8 ms, sys: 4.17 ms, total: 52.9 ms\n",
      "Wall time: 51.4 ms\n"
     ]
    },
    {
     "name": "stderr",
     "output_type": "stream",
     "text": [
      "/home/egor/anaconda3/lib/python3.7/site-packages/sklearn/metrics/classification.py:1143: UndefinedMetricWarning:\n",
      "\n",
      "Precision is ill-defined and being set to 0.0 due to no predicted samples.\n",
      "\n",
      "/home/egor/anaconda3/lib/python3.7/site-packages/sklearn/metrics/classification.py:1145: UndefinedMetricWarning:\n",
      "\n",
      "Recall is ill-defined and being set to 0.0 due to no true samples.\n",
      "\n",
      "/home/egor/anaconda3/lib/python3.7/site-packages/sklearn/metrics/classification.py:1145: UndefinedMetricWarning:\n",
      "\n",
      "Recall is ill-defined and being set to 0.0 due to no true samples.\n",
      "\n",
      "/home/egor/anaconda3/lib/python3.7/site-packages/sklearn/metrics/classification.py:1143: UndefinedMetricWarning:\n",
      "\n",
      "Precision is ill-defined and being set to 0.0 due to no predicted samples.\n",
      "\n"
     ]
    }
   ],
   "source": [
    "%%time\n",
    "cntx_mango = fcai.Context(mango_bin_ds.drop(y_feat,1),y_true=y_train, y_pred=train_preds)\n",
    "fm_mango = fcai.FormalManager(cntx_mango, ds_obj=None, task_type='binary classification')\n",
    "fm_mango.construct_concepts(use_tqdm=False)\n",
    "fm_mango.construct_lattice(use_tqdm=False)"
   ]
  },
  {
   "cell_type": "code",
   "execution_count": 198,
   "metadata": {},
   "outputs": [],
   "source": [
    "fig = fm_mango.get_plotly_fig(level_sort='mean', sort_by='y_true',\n",
    "                        y_precision=2, title='Mango Dataset Concept Lattice', cbar_title='Mean fruit prediction',\n",
    "                        color_by='y_pred',)"
   ]
  },
  {
   "cell_type": "code",
   "execution_count": 199,
   "metadata": {},
   "outputs": [
    {
     "data": {
      "application/vnd.plotly.v1+json": {
       "config": {
        "plotlyServerURL": "https://plot.ly"
       },
       "data": [
        {
         "hoverinfo": "none",
         "line": {
          "color": "#888",
          "width": 0.5
         },
         "mode": "lines",
         "type": "scatter",
         "x": [
          0,
          0,
          null,
          0,
          0.5,
          null,
          -1.5,
          0,
          null,
          -1.5,
          1,
          null,
          -1.5,
          -2,
          null,
          0,
          -0.5,
          null,
          0,
          1.5,
          null,
          0,
          0,
          null,
          2,
          0.5,
          null,
          2,
          1.5,
          null,
          2,
          0,
          null,
          -2.5,
          -1,
          null,
          -2.5,
          -2,
          null,
          -2.5,
          -1,
          null,
          0.5,
          -1,
          null,
          0.5,
          1,
          null,
          0.5,
          -1,
          null,
          0,
          1,
          null,
          0,
          -1,
          null,
          0,
          -2,
          null,
          2.5,
          2,
          null,
          2.5,
          1,
          null,
          1,
          0,
          null,
          1,
          -0.5,
          null,
          1,
          1.5,
          null,
          -0.5,
          -2,
          null,
          -0.5,
          -1,
          null,
          0,
          -1,
          null,
          0,
          2,
          null,
          0,
          -2,
          null,
          -1,
          2,
          null,
          -1,
          -2,
          null
         ],
         "y": [
          2,
          1,
          null,
          2,
          3,
          null,
          3,
          1,
          null,
          3,
          4,
          null,
          3,
          4,
          null,
          4,
          3,
          null,
          4,
          3,
          null,
          4,
          5,
          null,
          4,
          3,
          null,
          4,
          3,
          null,
          4,
          5,
          null,
          3,
          2,
          null,
          3,
          2,
          null,
          3,
          4,
          null,
          3,
          2,
          null,
          3,
          2,
          null,
          3,
          4,
          null,
          5,
          4,
          null,
          5,
          4,
          null,
          5,
          4,
          null,
          3,
          2,
          null,
          3,
          4,
          null,
          2,
          1,
          null,
          2,
          3,
          null,
          2,
          3,
          null,
          3,
          2,
          null,
          3,
          4,
          null,
          1,
          2,
          null,
          1,
          2,
          null,
          1,
          2,
          null,
          4,
          2,
          null,
          2,
          4,
          null
         ]
        },
        {
         "hoverinfo": "text",
         "hovertext": [
          "Concept 12<br>extent (len: 1): plum<br>intent (len: 3): smooth, blue, oval<br>new extent (len: 1): plum<br>new intent (len: 1): blue<br>mean_y_true: 1.0<br>mean_y_pred: 1.0<br>Metrics<br>\taccuracy: 1.0<br>\tprecision: 1.0<br>\trecall: 1.0<br>\tneg_precision: 0.0<br>\tneg_recall: 0.0<br><br>",
          "Concept 10<br>extent (len: 1): tennis ball<br>intent (len: 2): white, round<br>new extent (len: 1): tennis ball<br>new intent (len: 0): emptyset<br>mean_y_true: 0.0<br>mean_y_pred: 1.0<br>Metrics<br>\taccuracy: 0.0<br>\tprecision: 0.0<br>\trecall: 0.0<br>\tneg_precision: 0.0<br>\tneg_recall: 0.0<br><br>",
          "Concept 1<br>extent (len: 3): kiwi, toy cube, mango<br>intent (len: 1): green<br>new extent (len: 0): emptyset<br>new intent (len: 1): green<br>mean_y_true: 0.67<br>mean_y_pred: 0.67<br>Metrics<br>\taccuracy: 1.0<br>\tprecision: 1.0<br>\trecall: 1.0<br>\tneg_precision: 1.0<br>\tneg_recall: 1.0<br><br>",
          "Concept 2<br>extent (len: 4): kiwi, plum, egg, mango<br>intent (len: 1): oval<br>new extent (len: 0): emptyset<br>new intent (len: 1): oval<br>mean_y_true: 0.75<br>mean_y_pred: 0.75<br>Metrics<br>\taccuracy: 1.0<br>\tprecision: 1.0<br>\trecall: 1.0<br>\tneg_precision: 1.0<br>\tneg_recall: 1.0<br><br>",
          "Concept 6<br>extent (len: 2): toy cube, egg<br>intent (len: 2): firm, smooth<br>new extent (len: 0): emptyset<br>new intent (len: 1): firm<br>mean_y_true: 0.0<br>mean_y_pred: 0.0<br>Metrics<br>\taccuracy: 1.0<br>\tprecision: 0.0<br>\trecall: 0.0<br>\tneg_precision: 1.0<br>\tneg_recall: 1.0<br><br>",
          "Concept 9<br>extent (len: 3): plum, egg, mango<br>intent (len: 2): smooth, oval<br>new extent (len: 0): emptyset<br>new intent (len: 0): emptyset<br>mean_y_true: 0.67<br>mean_y_pred: 0.67<br>Metrics<br>\taccuracy: 1.0<br>\tprecision: 1.0<br>\trecall: 1.0<br>\tneg_precision: 1.0<br>\tneg_recall: 1.0<br><br>",
          "Concept 0<br>extent (len: 8): apple, grapefruit, kiwi, plum, toy cube, egg, tennis ball, mango<br>intent (len: 0): emptyset<br>new extent (len: 0): emptyset<br>new intent (len: 0): emptyset<br>mean_y_true: 0.62<br>mean_y_pred: 0.75<br>Metrics<br>\taccuracy: 0.88<br>\tprecision: 0.83<br>\trecall: 1.0<br>\tneg_precision: 1.0<br>\tneg_recall: 0.67<br><br>",
          "Concept 11<br>extent (len: 2): apple, grapefruit<br>intent (len: 2): yellow, round<br>new extent (len: 1): grapefruit<br>new intent (len: 1): yellow<br>mean_y_true: 1.0<br>mean_y_pred: 1.0<br>Metrics<br>\taccuracy: 1.0<br>\tprecision: 1.0<br>\trecall: 1.0<br>\tneg_precision: 0.0<br>\tneg_recall: 0.0<br><br>",
          "Concept 13<br>extent (len: 1): mango<br>intent (len: 3): smooth, green, oval<br>new extent (len: 1): mango<br>new intent (len: 0): emptyset<br>mean_y_true: 1.0<br>mean_y_pred: 1.0<br>Metrics<br>\taccuracy: 1.0<br>\tprecision: 1.0<br>\trecall: 1.0<br>\tneg_precision: 0.0<br>\tneg_recall: 0.0<br><br>",
          "Concept 8<br>extent (len: 2): toy cube, mango<br>intent (len: 2): smooth, green<br>new extent (len: 0): emptyset<br>new intent (len: 0): emptyset<br>mean_y_true: 0.5<br>mean_y_pred: 0.5<br>Metrics<br>\taccuracy: 1.0<br>\tprecision: 1.0<br>\trecall: 1.0<br>\tneg_precision: 1.0<br>\tneg_recall: 1.0<br><br>",
          "Concept 17<br>extent (len: 0): emptyset<br>intent (len: 9): firm, smooth, yellow, green, blue, white, round, oval, cubic<br>new extent (len: 0): emptyset<br>new intent (len: 0): emptyset<br>Metrics<br><br>",
          "Concept 4<br>extent (len: 5): apple, plum, toy cube, egg, mango<br>intent (len: 1): smooth<br>new extent (len: 0): emptyset<br>new intent (len: 1): smooth<br>mean_y_true: 0.6<br>mean_y_pred: 0.6<br>Metrics<br>\taccuracy: 1.0<br>\tprecision: 1.0<br>\trecall: 1.0<br>\tneg_precision: 1.0<br>\tneg_recall: 1.0<br><br>",
          "Concept 16<br>extent (len: 1): egg<br>intent (len: 4): firm, smooth, white, oval<br>new extent (len: 1): egg<br>new intent (len: 0): emptyset<br>mean_y_true: 0.0<br>mean_y_pred: 0.0<br>Metrics<br>\taccuracy: 1.0<br>\tprecision: 0.0<br>\trecall: 0.0<br>\tneg_precision: 1.0<br>\tneg_recall: 1.0<br><br>",
          "Concept 3<br>extent (len: 3): apple, grapefruit, tennis ball<br>intent (len: 1): round<br>new extent (len: 0): emptyset<br>new intent (len: 1): round<br>mean_y_true: 0.67<br>mean_y_pred: 1.0<br>Metrics<br>\taccuracy: 0.67<br>\tprecision: 0.67<br>\trecall: 1.0<br>\tneg_precision: 0.0<br>\tneg_recall: 0.0<br><br>",
          "Concept 14<br>extent (len: 1): apple<br>intent (len: 3): smooth, yellow, round<br>new extent (len: 1): apple<br>new intent (len: 0): emptyset<br>mean_y_true: 1.0<br>mean_y_pred: 1.0<br>Metrics<br>\taccuracy: 1.0<br>\tprecision: 1.0<br>\trecall: 1.0<br>\tneg_precision: 0.0<br>\tneg_recall: 0.0<br><br>",
          "Concept 5<br>extent (len: 2): egg, tennis ball<br>intent (len: 1): white<br>new extent (len: 0): emptyset<br>new intent (len: 1): white<br>mean_y_true: 0.0<br>mean_y_pred: 0.5<br>Metrics<br>\taccuracy: 0.5<br>\tprecision: 0.0<br>\trecall: 0.0<br>\tneg_precision: 1.0<br>\tneg_recall: 0.5<br><br>",
          "Concept 15<br>extent (len: 1): toy cube<br>intent (len: 4): firm, smooth, green, cubic<br>new extent (len: 1): toy cube<br>new intent (len: 1): cubic<br>mean_y_true: 0.0<br>mean_y_pred: 0.0<br>Metrics<br>\taccuracy: 1.0<br>\tprecision: 0.0<br>\trecall: 0.0<br>\tneg_precision: 1.0<br>\tneg_recall: 1.0<br><br>",
          "Concept 7<br>extent (len: 2): kiwi, mango<br>intent (len: 2): green, oval<br>new extent (len: 1): kiwi<br>new intent (len: 0): emptyset<br>mean_y_true: 1.0<br>mean_y_pred: 1.0<br>Metrics<br>\taccuracy: 1.0<br>\tprecision: 1.0<br>\trecall: 1.0<br>\tneg_precision: 0.0<br>\tneg_recall: 0.0<br><br>"
         ],
         "marker": {
          "color": [
           1,
           1,
           0.6666666666666666,
           0.75,
           0,
           0.6666666666666666,
           0.75,
           1,
           1,
           0.5,
           "grey",
           0.6,
           0,
           1,
           1,
           0.5,
           0,
           1
          ],
          "colorbar": {
           "thickness": 15,
           "title": {
            "side": "right",
            "text": "Mean fruit prediction"
           },
           "xanchor": "left"
          },
          "colorscale": [
           [
            0,
            "rgb(103,0,31)"
           ],
           [
            0.1,
            "rgb(178,24,43)"
           ],
           [
            0.2,
            "rgb(214,96,77)"
           ],
           [
            0.3,
            "rgb(244,165,130)"
           ],
           [
            0.4,
            "rgb(253,219,199)"
           ],
           [
            0.5,
            "rgb(247,247,247)"
           ],
           [
            0.6,
            "rgb(209,229,240)"
           ],
           [
            0.7,
            "rgb(146,197,222)"
           ],
           [
            0.8,
            "rgb(67,147,195)"
           ],
           [
            0.9,
            "rgb(33,102,172)"
           ],
           [
            1,
            "rgb(5,48,97)"
           ]
          ],
          "line": {
           "width": 2
          },
          "reversescale": true,
          "showscale": true,
          "size": 10
         },
         "mode": "markers+text",
         "text": [
          "blue<br>plum",
          "<br>tennis ball",
          "green<br>",
          "oval<br>",
          "firm<br>",
          "<br>",
          "<br>",
          "yellow<br>grapefruit",
          "<br>mango",
          "<br>",
          "<br>",
          "smooth<br>",
          "<br>egg",
          "round<br>",
          "<br>apple",
          "white<br>",
          "cubic<br>toy cube",
          "<br>kiwi"
         ],
         "textposition": "middle right",
         "type": "scatter",
         "x": [
          0,
          -1.5,
          0,
          2,
          -2.5,
          0.5,
          0,
          2.5,
          1,
          -0.5,
          0,
          -1,
          -1,
          1,
          2,
          -2,
          -2,
          1.5
         ],
         "y": [
          2,
          3,
          4,
          4,
          3,
          3,
          5,
          3,
          2,
          3,
          1,
          4,
          2,
          4,
          2,
          4,
          2,
          3
         ]
        }
       ],
       "layout": {
        "height": 500,
        "hovermode": "closest",
        "margin": {
         "b": 20,
         "l": 5,
         "r": 5,
         "t": 40
        },
        "showlegend": false,
        "template": {
         "data": {
          "bar": [
           {
            "error_x": {
             "color": "#2a3f5f"
            },
            "error_y": {
             "color": "#2a3f5f"
            },
            "marker": {
             "line": {
              "color": "#E5ECF6",
              "width": 0.5
             }
            },
            "type": "bar"
           }
          ],
          "barpolar": [
           {
            "marker": {
             "line": {
              "color": "#E5ECF6",
              "width": 0.5
             }
            },
            "type": "barpolar"
           }
          ],
          "carpet": [
           {
            "aaxis": {
             "endlinecolor": "#2a3f5f",
             "gridcolor": "white",
             "linecolor": "white",
             "minorgridcolor": "white",
             "startlinecolor": "#2a3f5f"
            },
            "baxis": {
             "endlinecolor": "#2a3f5f",
             "gridcolor": "white",
             "linecolor": "white",
             "minorgridcolor": "white",
             "startlinecolor": "#2a3f5f"
            },
            "type": "carpet"
           }
          ],
          "choropleth": [
           {
            "colorbar": {
             "outlinewidth": 0,
             "ticks": ""
            },
            "type": "choropleth"
           }
          ],
          "contour": [
           {
            "colorbar": {
             "outlinewidth": 0,
             "ticks": ""
            },
            "colorscale": [
             [
              0,
              "#0d0887"
             ],
             [
              0.1111111111111111,
              "#46039f"
             ],
             [
              0.2222222222222222,
              "#7201a8"
             ],
             [
              0.3333333333333333,
              "#9c179e"
             ],
             [
              0.4444444444444444,
              "#bd3786"
             ],
             [
              0.5555555555555556,
              "#d8576b"
             ],
             [
              0.6666666666666666,
              "#ed7953"
             ],
             [
              0.7777777777777778,
              "#fb9f3a"
             ],
             [
              0.8888888888888888,
              "#fdca26"
             ],
             [
              1,
              "#f0f921"
             ]
            ],
            "type": "contour"
           }
          ],
          "contourcarpet": [
           {
            "colorbar": {
             "outlinewidth": 0,
             "ticks": ""
            },
            "type": "contourcarpet"
           }
          ],
          "heatmap": [
           {
            "colorbar": {
             "outlinewidth": 0,
             "ticks": ""
            },
            "colorscale": [
             [
              0,
              "#0d0887"
             ],
             [
              0.1111111111111111,
              "#46039f"
             ],
             [
              0.2222222222222222,
              "#7201a8"
             ],
             [
              0.3333333333333333,
              "#9c179e"
             ],
             [
              0.4444444444444444,
              "#bd3786"
             ],
             [
              0.5555555555555556,
              "#d8576b"
             ],
             [
              0.6666666666666666,
              "#ed7953"
             ],
             [
              0.7777777777777778,
              "#fb9f3a"
             ],
             [
              0.8888888888888888,
              "#fdca26"
             ],
             [
              1,
              "#f0f921"
             ]
            ],
            "type": "heatmap"
           }
          ],
          "heatmapgl": [
           {
            "colorbar": {
             "outlinewidth": 0,
             "ticks": ""
            },
            "colorscale": [
             [
              0,
              "#0d0887"
             ],
             [
              0.1111111111111111,
              "#46039f"
             ],
             [
              0.2222222222222222,
              "#7201a8"
             ],
             [
              0.3333333333333333,
              "#9c179e"
             ],
             [
              0.4444444444444444,
              "#bd3786"
             ],
             [
              0.5555555555555556,
              "#d8576b"
             ],
             [
              0.6666666666666666,
              "#ed7953"
             ],
             [
              0.7777777777777778,
              "#fb9f3a"
             ],
             [
              0.8888888888888888,
              "#fdca26"
             ],
             [
              1,
              "#f0f921"
             ]
            ],
            "type": "heatmapgl"
           }
          ],
          "histogram": [
           {
            "marker": {
             "colorbar": {
              "outlinewidth": 0,
              "ticks": ""
             }
            },
            "type": "histogram"
           }
          ],
          "histogram2d": [
           {
            "colorbar": {
             "outlinewidth": 0,
             "ticks": ""
            },
            "colorscale": [
             [
              0,
              "#0d0887"
             ],
             [
              0.1111111111111111,
              "#46039f"
             ],
             [
              0.2222222222222222,
              "#7201a8"
             ],
             [
              0.3333333333333333,
              "#9c179e"
             ],
             [
              0.4444444444444444,
              "#bd3786"
             ],
             [
              0.5555555555555556,
              "#d8576b"
             ],
             [
              0.6666666666666666,
              "#ed7953"
             ],
             [
              0.7777777777777778,
              "#fb9f3a"
             ],
             [
              0.8888888888888888,
              "#fdca26"
             ],
             [
              1,
              "#f0f921"
             ]
            ],
            "type": "histogram2d"
           }
          ],
          "histogram2dcontour": [
           {
            "colorbar": {
             "outlinewidth": 0,
             "ticks": ""
            },
            "colorscale": [
             [
              0,
              "#0d0887"
             ],
             [
              0.1111111111111111,
              "#46039f"
             ],
             [
              0.2222222222222222,
              "#7201a8"
             ],
             [
              0.3333333333333333,
              "#9c179e"
             ],
             [
              0.4444444444444444,
              "#bd3786"
             ],
             [
              0.5555555555555556,
              "#d8576b"
             ],
             [
              0.6666666666666666,
              "#ed7953"
             ],
             [
              0.7777777777777778,
              "#fb9f3a"
             ],
             [
              0.8888888888888888,
              "#fdca26"
             ],
             [
              1,
              "#f0f921"
             ]
            ],
            "type": "histogram2dcontour"
           }
          ],
          "mesh3d": [
           {
            "colorbar": {
             "outlinewidth": 0,
             "ticks": ""
            },
            "type": "mesh3d"
           }
          ],
          "parcoords": [
           {
            "line": {
             "colorbar": {
              "outlinewidth": 0,
              "ticks": ""
             }
            },
            "type": "parcoords"
           }
          ],
          "pie": [
           {
            "automargin": true,
            "type": "pie"
           }
          ],
          "scatter": [
           {
            "marker": {
             "colorbar": {
              "outlinewidth": 0,
              "ticks": ""
             }
            },
            "type": "scatter"
           }
          ],
          "scatter3d": [
           {
            "line": {
             "colorbar": {
              "outlinewidth": 0,
              "ticks": ""
             }
            },
            "marker": {
             "colorbar": {
              "outlinewidth": 0,
              "ticks": ""
             }
            },
            "type": "scatter3d"
           }
          ],
          "scattercarpet": [
           {
            "marker": {
             "colorbar": {
              "outlinewidth": 0,
              "ticks": ""
             }
            },
            "type": "scattercarpet"
           }
          ],
          "scattergeo": [
           {
            "marker": {
             "colorbar": {
              "outlinewidth": 0,
              "ticks": ""
             }
            },
            "type": "scattergeo"
           }
          ],
          "scattergl": [
           {
            "marker": {
             "colorbar": {
              "outlinewidth": 0,
              "ticks": ""
             }
            },
            "type": "scattergl"
           }
          ],
          "scattermapbox": [
           {
            "marker": {
             "colorbar": {
              "outlinewidth": 0,
              "ticks": ""
             }
            },
            "type": "scattermapbox"
           }
          ],
          "scatterpolar": [
           {
            "marker": {
             "colorbar": {
              "outlinewidth": 0,
              "ticks": ""
             }
            },
            "type": "scatterpolar"
           }
          ],
          "scatterpolargl": [
           {
            "marker": {
             "colorbar": {
              "outlinewidth": 0,
              "ticks": ""
             }
            },
            "type": "scatterpolargl"
           }
          ],
          "scatterternary": [
           {
            "marker": {
             "colorbar": {
              "outlinewidth": 0,
              "ticks": ""
             }
            },
            "type": "scatterternary"
           }
          ],
          "surface": [
           {
            "colorbar": {
             "outlinewidth": 0,
             "ticks": ""
            },
            "colorscale": [
             [
              0,
              "#0d0887"
             ],
             [
              0.1111111111111111,
              "#46039f"
             ],
             [
              0.2222222222222222,
              "#7201a8"
             ],
             [
              0.3333333333333333,
              "#9c179e"
             ],
             [
              0.4444444444444444,
              "#bd3786"
             ],
             [
              0.5555555555555556,
              "#d8576b"
             ],
             [
              0.6666666666666666,
              "#ed7953"
             ],
             [
              0.7777777777777778,
              "#fb9f3a"
             ],
             [
              0.8888888888888888,
              "#fdca26"
             ],
             [
              1,
              "#f0f921"
             ]
            ],
            "type": "surface"
           }
          ],
          "table": [
           {
            "cells": {
             "fill": {
              "color": "#EBF0F8"
             },
             "line": {
              "color": "white"
             }
            },
            "header": {
             "fill": {
              "color": "#C8D4E3"
             },
             "line": {
              "color": "white"
             }
            },
            "type": "table"
           }
          ]
         },
         "layout": {
          "annotationdefaults": {
           "arrowcolor": "#2a3f5f",
           "arrowhead": 0,
           "arrowwidth": 1
          },
          "coloraxis": {
           "colorbar": {
            "outlinewidth": 0,
            "ticks": ""
           }
          },
          "colorscale": {
           "diverging": [
            [
             0,
             "#8e0152"
            ],
            [
             0.1,
             "#c51b7d"
            ],
            [
             0.2,
             "#de77ae"
            ],
            [
             0.3,
             "#f1b6da"
            ],
            [
             0.4,
             "#fde0ef"
            ],
            [
             0.5,
             "#f7f7f7"
            ],
            [
             0.6,
             "#e6f5d0"
            ],
            [
             0.7,
             "#b8e186"
            ],
            [
             0.8,
             "#7fbc41"
            ],
            [
             0.9,
             "#4d9221"
            ],
            [
             1,
             "#276419"
            ]
           ],
           "sequential": [
            [
             0,
             "#0d0887"
            ],
            [
             0.1111111111111111,
             "#46039f"
            ],
            [
             0.2222222222222222,
             "#7201a8"
            ],
            [
             0.3333333333333333,
             "#9c179e"
            ],
            [
             0.4444444444444444,
             "#bd3786"
            ],
            [
             0.5555555555555556,
             "#d8576b"
            ],
            [
             0.6666666666666666,
             "#ed7953"
            ],
            [
             0.7777777777777778,
             "#fb9f3a"
            ],
            [
             0.8888888888888888,
             "#fdca26"
            ],
            [
             1,
             "#f0f921"
            ]
           ],
           "sequentialminus": [
            [
             0,
             "#0d0887"
            ],
            [
             0.1111111111111111,
             "#46039f"
            ],
            [
             0.2222222222222222,
             "#7201a8"
            ],
            [
             0.3333333333333333,
             "#9c179e"
            ],
            [
             0.4444444444444444,
             "#bd3786"
            ],
            [
             0.5555555555555556,
             "#d8576b"
            ],
            [
             0.6666666666666666,
             "#ed7953"
            ],
            [
             0.7777777777777778,
             "#fb9f3a"
            ],
            [
             0.8888888888888888,
             "#fdca26"
            ],
            [
             1,
             "#f0f921"
            ]
           ]
          },
          "colorway": [
           "#636efa",
           "#EF553B",
           "#00cc96",
           "#ab63fa",
           "#FFA15A",
           "#19d3f3",
           "#FF6692",
           "#B6E880",
           "#FF97FF",
           "#FECB52"
          ],
          "font": {
           "color": "#2a3f5f"
          },
          "geo": {
           "bgcolor": "white",
           "lakecolor": "white",
           "landcolor": "#E5ECF6",
           "showlakes": true,
           "showland": true,
           "subunitcolor": "white"
          },
          "hoverlabel": {
           "align": "left"
          },
          "hovermode": "closest",
          "mapbox": {
           "style": "light"
          },
          "paper_bgcolor": "white",
          "plot_bgcolor": "#E5ECF6",
          "polar": {
           "angularaxis": {
            "gridcolor": "white",
            "linecolor": "white",
            "ticks": ""
           },
           "bgcolor": "#E5ECF6",
           "radialaxis": {
            "gridcolor": "white",
            "linecolor": "white",
            "ticks": ""
           }
          },
          "scene": {
           "xaxis": {
            "backgroundcolor": "#E5ECF6",
            "gridcolor": "white",
            "gridwidth": 2,
            "linecolor": "white",
            "showbackground": true,
            "ticks": "",
            "zerolinecolor": "white"
           },
           "yaxis": {
            "backgroundcolor": "#E5ECF6",
            "gridcolor": "white",
            "gridwidth": 2,
            "linecolor": "white",
            "showbackground": true,
            "ticks": "",
            "zerolinecolor": "white"
           },
           "zaxis": {
            "backgroundcolor": "#E5ECF6",
            "gridcolor": "white",
            "gridwidth": 2,
            "linecolor": "white",
            "showbackground": true,
            "ticks": "",
            "zerolinecolor": "white"
           }
          },
          "shapedefaults": {
           "line": {
            "color": "#2a3f5f"
           }
          },
          "ternary": {
           "aaxis": {
            "gridcolor": "white",
            "linecolor": "white",
            "ticks": ""
           },
           "baxis": {
            "gridcolor": "white",
            "linecolor": "white",
            "ticks": ""
           },
           "bgcolor": "#E5ECF6",
           "caxis": {
            "gridcolor": "white",
            "linecolor": "white",
            "ticks": ""
           }
          },
          "title": {
           "x": 0.05
          },
          "xaxis": {
           "automargin": true,
           "gridcolor": "white",
           "linecolor": "white",
           "ticks": "",
           "title": {
            "standoff": 15
           },
           "zerolinecolor": "white",
           "zerolinewidth": 2
          },
          "yaxis": {
           "automargin": true,
           "gridcolor": "white",
           "linecolor": "white",
           "ticks": "",
           "title": {
            "standoff": 15
           },
           "zerolinecolor": "white",
           "zerolinewidth": 2
          }
         }
        },
        "title": {
         "font": {
          "size": 16
         },
         "text": "Mango Dataset Concept Lattice"
        },
        "width": 1000,
        "xaxis": {
         "showgrid": false,
         "showticklabels": false,
         "zeroline": false
        },
        "yaxis": {
         "showgrid": false,
         "showticklabels": false,
         "zeroline": false
        }
       }
      },
      "text/html": [
       "<div>\n",
       "        \n",
       "        \n",
       "            <div id=\"59fd4cac-8c10-4bc8-ad1b-6d36aa0a2ce1\" class=\"plotly-graph-div\" style=\"height:500px; width:1000px;\"></div>\n",
       "            <script type=\"text/javascript\">\n",
       "                require([\"plotly\"], function(Plotly) {\n",
       "                    window.PLOTLYENV=window.PLOTLYENV || {};\n",
       "                    \n",
       "                if (document.getElementById(\"59fd4cac-8c10-4bc8-ad1b-6d36aa0a2ce1\")) {\n",
       "                    Plotly.newPlot(\n",
       "                        '59fd4cac-8c10-4bc8-ad1b-6d36aa0a2ce1',\n",
       "                        [{\"hoverinfo\": \"none\", \"line\": {\"color\": \"#888\", \"width\": 0.5}, \"mode\": \"lines\", \"type\": \"scatter\", \"x\": [0.0, 0.0, null, 0.0, 0.5, null, -1.5, 0.0, null, -1.5, 1.0, null, -1.5, -2.0, null, 0.0, -0.5, null, 0.0, 1.5, null, 0.0, 0.0, null, 2.0, 0.5, null, 2.0, 1.5, null, 2.0, 0.0, null, -2.5, -1.0, null, -2.5, -2.0, null, -2.5, -1.0, null, 0.5, -1.0, null, 0.5, 1.0, null, 0.5, -1.0, null, 0.0, 1.0, null, 0.0, -1.0, null, 0.0, -2.0, null, 2.5, 2.0, null, 2.5, 1.0, null, 1.0, 0.0, null, 1.0, -0.5, null, 1.0, 1.5, null, -0.5, -2.0, null, -0.5, -1.0, null, 0.0, -1.0, null, 0.0, 2.0, null, 0.0, -2.0, null, -1.0, 2.0, null, -1.0, -2.0, null], \"y\": [2, 1, null, 2, 3, null, 3, 1, null, 3, 4, null, 3, 4, null, 4, 3, null, 4, 3, null, 4, 5, null, 4, 3, null, 4, 3, null, 4, 5, null, 3, 2, null, 3, 2, null, 3, 4, null, 3, 2, null, 3, 2, null, 3, 4, null, 5, 4, null, 5, 4, null, 5, 4, null, 3, 2, null, 3, 4, null, 2, 1, null, 2, 3, null, 2, 3, null, 3, 2, null, 3, 4, null, 1, 2, null, 1, 2, null, 1, 2, null, 4, 2, null, 2, 4, null]}, {\"hoverinfo\": \"text\", \"hovertext\": [\"Concept 12<br>extent (len: 1): plum<br>intent (len: 3): smooth, blue, oval<br>new extent (len: 1): plum<br>new intent (len: 1): blue<br>mean_y_true: 1.0<br>mean_y_pred: 1.0<br>Metrics<br>\\taccuracy: 1.0<br>\\tprecision: 1.0<br>\\trecall: 1.0<br>\\tneg_precision: 0.0<br>\\tneg_recall: 0.0<br><br>\", \"Concept 10<br>extent (len: 1): tennis ball<br>intent (len: 2): white, round<br>new extent (len: 1): tennis ball<br>new intent (len: 0): emptyset<br>mean_y_true: 0.0<br>mean_y_pred: 1.0<br>Metrics<br>\\taccuracy: 0.0<br>\\tprecision: 0.0<br>\\trecall: 0.0<br>\\tneg_precision: 0.0<br>\\tneg_recall: 0.0<br><br>\", \"Concept 1<br>extent (len: 3): kiwi, toy cube, mango<br>intent (len: 1): green<br>new extent (len: 0): emptyset<br>new intent (len: 1): green<br>mean_y_true: 0.67<br>mean_y_pred: 0.67<br>Metrics<br>\\taccuracy: 1.0<br>\\tprecision: 1.0<br>\\trecall: 1.0<br>\\tneg_precision: 1.0<br>\\tneg_recall: 1.0<br><br>\", \"Concept 2<br>extent (len: 4): kiwi, plum, egg, mango<br>intent (len: 1): oval<br>new extent (len: 0): emptyset<br>new intent (len: 1): oval<br>mean_y_true: 0.75<br>mean_y_pred: 0.75<br>Metrics<br>\\taccuracy: 1.0<br>\\tprecision: 1.0<br>\\trecall: 1.0<br>\\tneg_precision: 1.0<br>\\tneg_recall: 1.0<br><br>\", \"Concept 6<br>extent (len: 2): toy cube, egg<br>intent (len: 2): firm, smooth<br>new extent (len: 0): emptyset<br>new intent (len: 1): firm<br>mean_y_true: 0.0<br>mean_y_pred: 0.0<br>Metrics<br>\\taccuracy: 1.0<br>\\tprecision: 0.0<br>\\trecall: 0.0<br>\\tneg_precision: 1.0<br>\\tneg_recall: 1.0<br><br>\", \"Concept 9<br>extent (len: 3): plum, egg, mango<br>intent (len: 2): smooth, oval<br>new extent (len: 0): emptyset<br>new intent (len: 0): emptyset<br>mean_y_true: 0.67<br>mean_y_pred: 0.67<br>Metrics<br>\\taccuracy: 1.0<br>\\tprecision: 1.0<br>\\trecall: 1.0<br>\\tneg_precision: 1.0<br>\\tneg_recall: 1.0<br><br>\", \"Concept 0<br>extent (len: 8): apple, grapefruit, kiwi, plum, toy cube, egg, tennis ball, mango<br>intent (len: 0): emptyset<br>new extent (len: 0): emptyset<br>new intent (len: 0): emptyset<br>mean_y_true: 0.62<br>mean_y_pred: 0.75<br>Metrics<br>\\taccuracy: 0.88<br>\\tprecision: 0.83<br>\\trecall: 1.0<br>\\tneg_precision: 1.0<br>\\tneg_recall: 0.67<br><br>\", \"Concept 11<br>extent (len: 2): apple, grapefruit<br>intent (len: 2): yellow, round<br>new extent (len: 1): grapefruit<br>new intent (len: 1): yellow<br>mean_y_true: 1.0<br>mean_y_pred: 1.0<br>Metrics<br>\\taccuracy: 1.0<br>\\tprecision: 1.0<br>\\trecall: 1.0<br>\\tneg_precision: 0.0<br>\\tneg_recall: 0.0<br><br>\", \"Concept 13<br>extent (len: 1): mango<br>intent (len: 3): smooth, green, oval<br>new extent (len: 1): mango<br>new intent (len: 0): emptyset<br>mean_y_true: 1.0<br>mean_y_pred: 1.0<br>Metrics<br>\\taccuracy: 1.0<br>\\tprecision: 1.0<br>\\trecall: 1.0<br>\\tneg_precision: 0.0<br>\\tneg_recall: 0.0<br><br>\", \"Concept 8<br>extent (len: 2): toy cube, mango<br>intent (len: 2): smooth, green<br>new extent (len: 0): emptyset<br>new intent (len: 0): emptyset<br>mean_y_true: 0.5<br>mean_y_pred: 0.5<br>Metrics<br>\\taccuracy: 1.0<br>\\tprecision: 1.0<br>\\trecall: 1.0<br>\\tneg_precision: 1.0<br>\\tneg_recall: 1.0<br><br>\", \"Concept 17<br>extent (len: 0): emptyset<br>intent (len: 9): firm, smooth, yellow, green, blue, white, round, oval, cubic<br>new extent (len: 0): emptyset<br>new intent (len: 0): emptyset<br>Metrics<br><br>\", \"Concept 4<br>extent (len: 5): apple, plum, toy cube, egg, mango<br>intent (len: 1): smooth<br>new extent (len: 0): emptyset<br>new intent (len: 1): smooth<br>mean_y_true: 0.6<br>mean_y_pred: 0.6<br>Metrics<br>\\taccuracy: 1.0<br>\\tprecision: 1.0<br>\\trecall: 1.0<br>\\tneg_precision: 1.0<br>\\tneg_recall: 1.0<br><br>\", \"Concept 16<br>extent (len: 1): egg<br>intent (len: 4): firm, smooth, white, oval<br>new extent (len: 1): egg<br>new intent (len: 0): emptyset<br>mean_y_true: 0.0<br>mean_y_pred: 0.0<br>Metrics<br>\\taccuracy: 1.0<br>\\tprecision: 0.0<br>\\trecall: 0.0<br>\\tneg_precision: 1.0<br>\\tneg_recall: 1.0<br><br>\", \"Concept 3<br>extent (len: 3): apple, grapefruit, tennis ball<br>intent (len: 1): round<br>new extent (len: 0): emptyset<br>new intent (len: 1): round<br>mean_y_true: 0.67<br>mean_y_pred: 1.0<br>Metrics<br>\\taccuracy: 0.67<br>\\tprecision: 0.67<br>\\trecall: 1.0<br>\\tneg_precision: 0.0<br>\\tneg_recall: 0.0<br><br>\", \"Concept 14<br>extent (len: 1): apple<br>intent (len: 3): smooth, yellow, round<br>new extent (len: 1): apple<br>new intent (len: 0): emptyset<br>mean_y_true: 1.0<br>mean_y_pred: 1.0<br>Metrics<br>\\taccuracy: 1.0<br>\\tprecision: 1.0<br>\\trecall: 1.0<br>\\tneg_precision: 0.0<br>\\tneg_recall: 0.0<br><br>\", \"Concept 5<br>extent (len: 2): egg, tennis ball<br>intent (len: 1): white<br>new extent (len: 0): emptyset<br>new intent (len: 1): white<br>mean_y_true: 0.0<br>mean_y_pred: 0.5<br>Metrics<br>\\taccuracy: 0.5<br>\\tprecision: 0.0<br>\\trecall: 0.0<br>\\tneg_precision: 1.0<br>\\tneg_recall: 0.5<br><br>\", \"Concept 15<br>extent (len: 1): toy cube<br>intent (len: 4): firm, smooth, green, cubic<br>new extent (len: 1): toy cube<br>new intent (len: 1): cubic<br>mean_y_true: 0.0<br>mean_y_pred: 0.0<br>Metrics<br>\\taccuracy: 1.0<br>\\tprecision: 0.0<br>\\trecall: 0.0<br>\\tneg_precision: 1.0<br>\\tneg_recall: 1.0<br><br>\", \"Concept 7<br>extent (len: 2): kiwi, mango<br>intent (len: 2): green, oval<br>new extent (len: 1): kiwi<br>new intent (len: 0): emptyset<br>mean_y_true: 1.0<br>mean_y_pred: 1.0<br>Metrics<br>\\taccuracy: 1.0<br>\\tprecision: 1.0<br>\\trecall: 1.0<br>\\tneg_precision: 0.0<br>\\tneg_recall: 0.0<br><br>\"], \"marker\": {\"color\": [1.0, 1.0, 0.6666666666666666, 0.75, 0.0, 0.6666666666666666, 0.75, 1.0, 1.0, 0.5, \"grey\", 0.6, 0.0, 1.0, 1.0, 0.5, 0.0, 1.0], \"colorbar\": {\"thickness\": 15, \"title\": {\"side\": \"right\", \"text\": \"Mean fruit prediction\"}, \"xanchor\": \"left\"}, \"colorscale\": [[0.0, \"rgb(103,0,31)\"], [0.1, \"rgb(178,24,43)\"], [0.2, \"rgb(214,96,77)\"], [0.3, \"rgb(244,165,130)\"], [0.4, \"rgb(253,219,199)\"], [0.5, \"rgb(247,247,247)\"], [0.6, \"rgb(209,229,240)\"], [0.7, \"rgb(146,197,222)\"], [0.8, \"rgb(67,147,195)\"], [0.9, \"rgb(33,102,172)\"], [1.0, \"rgb(5,48,97)\"]], \"line\": {\"width\": 2}, \"reversescale\": true, \"showscale\": true, \"size\": 10}, \"mode\": \"markers+text\", \"text\": [\"blue<br>plum\", \"<br>tennis ball\", \"green<br>\", \"oval<br>\", \"firm<br>\", \"<br>\", \"<br>\", \"yellow<br>grapefruit\", \"<br>mango\", \"<br>\", \"<br>\", \"smooth<br>\", \"<br>egg\", \"round<br>\", \"<br>apple\", \"white<br>\", \"cubic<br>toy cube\", \"<br>kiwi\"], \"textposition\": \"middle right\", \"type\": \"scatter\", \"x\": [0.0, -1.5, 0.0, 2.0, -2.5, 0.5, 0.0, 2.5, 1.0, -0.5, 0.0, -1.0, -1.0, 1.0, 2.0, -2.0, -2.0, 1.5], \"y\": [2, 3, 4, 4, 3, 3, 5, 3, 2, 3, 1, 4, 2, 4, 2, 4, 2, 3]}],\n",
       "                        {\"height\": 500, \"hovermode\": \"closest\", \"margin\": {\"b\": 20, \"l\": 5, \"r\": 5, \"t\": 40}, \"showlegend\": false, \"template\": {\"data\": {\"bar\": [{\"error_x\": {\"color\": \"#2a3f5f\"}, \"error_y\": {\"color\": \"#2a3f5f\"}, \"marker\": {\"line\": {\"color\": \"#E5ECF6\", \"width\": 0.5}}, \"type\": \"bar\"}], \"barpolar\": [{\"marker\": {\"line\": {\"color\": \"#E5ECF6\", \"width\": 0.5}}, \"type\": \"barpolar\"}], \"carpet\": [{\"aaxis\": {\"endlinecolor\": \"#2a3f5f\", \"gridcolor\": \"white\", \"linecolor\": \"white\", \"minorgridcolor\": \"white\", \"startlinecolor\": \"#2a3f5f\"}, \"baxis\": {\"endlinecolor\": \"#2a3f5f\", \"gridcolor\": \"white\", \"linecolor\": \"white\", \"minorgridcolor\": \"white\", \"startlinecolor\": \"#2a3f5f\"}, \"type\": \"carpet\"}], \"choropleth\": [{\"colorbar\": {\"outlinewidth\": 0, \"ticks\": \"\"}, \"type\": \"choropleth\"}], \"contour\": [{\"colorbar\": {\"outlinewidth\": 0, \"ticks\": \"\"}, \"colorscale\": [[0.0, \"#0d0887\"], [0.1111111111111111, \"#46039f\"], [0.2222222222222222, \"#7201a8\"], [0.3333333333333333, \"#9c179e\"], [0.4444444444444444, \"#bd3786\"], [0.5555555555555556, \"#d8576b\"], [0.6666666666666666, \"#ed7953\"], [0.7777777777777778, \"#fb9f3a\"], [0.8888888888888888, \"#fdca26\"], [1.0, \"#f0f921\"]], \"type\": \"contour\"}], \"contourcarpet\": [{\"colorbar\": {\"outlinewidth\": 0, \"ticks\": \"\"}, \"type\": \"contourcarpet\"}], \"heatmap\": [{\"colorbar\": {\"outlinewidth\": 0, \"ticks\": \"\"}, \"colorscale\": [[0.0, \"#0d0887\"], [0.1111111111111111, \"#46039f\"], [0.2222222222222222, \"#7201a8\"], [0.3333333333333333, \"#9c179e\"], [0.4444444444444444, \"#bd3786\"], [0.5555555555555556, \"#d8576b\"], [0.6666666666666666, \"#ed7953\"], [0.7777777777777778, \"#fb9f3a\"], [0.8888888888888888, \"#fdca26\"], [1.0, \"#f0f921\"]], \"type\": \"heatmap\"}], \"heatmapgl\": [{\"colorbar\": {\"outlinewidth\": 0, \"ticks\": \"\"}, \"colorscale\": [[0.0, \"#0d0887\"], [0.1111111111111111, \"#46039f\"], [0.2222222222222222, \"#7201a8\"], [0.3333333333333333, \"#9c179e\"], [0.4444444444444444, \"#bd3786\"], [0.5555555555555556, \"#d8576b\"], [0.6666666666666666, \"#ed7953\"], [0.7777777777777778, \"#fb9f3a\"], [0.8888888888888888, \"#fdca26\"], [1.0, \"#f0f921\"]], \"type\": \"heatmapgl\"}], \"histogram\": [{\"marker\": {\"colorbar\": {\"outlinewidth\": 0, \"ticks\": \"\"}}, \"type\": \"histogram\"}], \"histogram2d\": [{\"colorbar\": {\"outlinewidth\": 0, \"ticks\": \"\"}, \"colorscale\": [[0.0, \"#0d0887\"], [0.1111111111111111, \"#46039f\"], [0.2222222222222222, \"#7201a8\"], [0.3333333333333333, \"#9c179e\"], [0.4444444444444444, \"#bd3786\"], [0.5555555555555556, \"#d8576b\"], [0.6666666666666666, \"#ed7953\"], [0.7777777777777778, \"#fb9f3a\"], [0.8888888888888888, \"#fdca26\"], [1.0, \"#f0f921\"]], \"type\": \"histogram2d\"}], \"histogram2dcontour\": [{\"colorbar\": {\"outlinewidth\": 0, \"ticks\": \"\"}, \"colorscale\": [[0.0, \"#0d0887\"], [0.1111111111111111, \"#46039f\"], [0.2222222222222222, \"#7201a8\"], [0.3333333333333333, \"#9c179e\"], [0.4444444444444444, \"#bd3786\"], [0.5555555555555556, \"#d8576b\"], [0.6666666666666666, \"#ed7953\"], [0.7777777777777778, \"#fb9f3a\"], [0.8888888888888888, \"#fdca26\"], [1.0, \"#f0f921\"]], \"type\": \"histogram2dcontour\"}], \"mesh3d\": [{\"colorbar\": {\"outlinewidth\": 0, \"ticks\": \"\"}, \"type\": \"mesh3d\"}], \"parcoords\": [{\"line\": {\"colorbar\": {\"outlinewidth\": 0, \"ticks\": \"\"}}, \"type\": \"parcoords\"}], \"pie\": [{\"automargin\": true, \"type\": \"pie\"}], \"scatter\": [{\"marker\": {\"colorbar\": {\"outlinewidth\": 0, \"ticks\": \"\"}}, \"type\": \"scatter\"}], \"scatter3d\": [{\"line\": {\"colorbar\": {\"outlinewidth\": 0, \"ticks\": \"\"}}, \"marker\": {\"colorbar\": {\"outlinewidth\": 0, \"ticks\": \"\"}}, \"type\": \"scatter3d\"}], \"scattercarpet\": [{\"marker\": {\"colorbar\": {\"outlinewidth\": 0, \"ticks\": \"\"}}, \"type\": \"scattercarpet\"}], \"scattergeo\": [{\"marker\": {\"colorbar\": {\"outlinewidth\": 0, \"ticks\": \"\"}}, \"type\": \"scattergeo\"}], \"scattergl\": [{\"marker\": {\"colorbar\": {\"outlinewidth\": 0, \"ticks\": \"\"}}, \"type\": \"scattergl\"}], \"scattermapbox\": [{\"marker\": {\"colorbar\": {\"outlinewidth\": 0, \"ticks\": \"\"}}, \"type\": \"scattermapbox\"}], \"scatterpolar\": [{\"marker\": {\"colorbar\": {\"outlinewidth\": 0, \"ticks\": \"\"}}, \"type\": \"scatterpolar\"}], \"scatterpolargl\": [{\"marker\": {\"colorbar\": {\"outlinewidth\": 0, \"ticks\": \"\"}}, \"type\": \"scatterpolargl\"}], \"scatterternary\": [{\"marker\": {\"colorbar\": {\"outlinewidth\": 0, \"ticks\": \"\"}}, \"type\": \"scatterternary\"}], \"surface\": [{\"colorbar\": {\"outlinewidth\": 0, \"ticks\": \"\"}, \"colorscale\": [[0.0, \"#0d0887\"], [0.1111111111111111, \"#46039f\"], [0.2222222222222222, \"#7201a8\"], [0.3333333333333333, \"#9c179e\"], [0.4444444444444444, \"#bd3786\"], [0.5555555555555556, \"#d8576b\"], [0.6666666666666666, \"#ed7953\"], [0.7777777777777778, \"#fb9f3a\"], [0.8888888888888888, \"#fdca26\"], [1.0, \"#f0f921\"]], \"type\": \"surface\"}], \"table\": [{\"cells\": {\"fill\": {\"color\": \"#EBF0F8\"}, \"line\": {\"color\": \"white\"}}, \"header\": {\"fill\": {\"color\": \"#C8D4E3\"}, \"line\": {\"color\": \"white\"}}, \"type\": \"table\"}]}, \"layout\": {\"annotationdefaults\": {\"arrowcolor\": \"#2a3f5f\", \"arrowhead\": 0, \"arrowwidth\": 1}, \"coloraxis\": {\"colorbar\": {\"outlinewidth\": 0, \"ticks\": \"\"}}, \"colorscale\": {\"diverging\": [[0, \"#8e0152\"], [0.1, \"#c51b7d\"], [0.2, \"#de77ae\"], [0.3, \"#f1b6da\"], [0.4, \"#fde0ef\"], [0.5, \"#f7f7f7\"], [0.6, \"#e6f5d0\"], [0.7, \"#b8e186\"], [0.8, \"#7fbc41\"], [0.9, \"#4d9221\"], [1, \"#276419\"]], \"sequential\": [[0.0, \"#0d0887\"], [0.1111111111111111, \"#46039f\"], [0.2222222222222222, \"#7201a8\"], [0.3333333333333333, \"#9c179e\"], [0.4444444444444444, \"#bd3786\"], [0.5555555555555556, \"#d8576b\"], [0.6666666666666666, \"#ed7953\"], [0.7777777777777778, \"#fb9f3a\"], [0.8888888888888888, \"#fdca26\"], [1.0, \"#f0f921\"]], \"sequentialminus\": [[0.0, \"#0d0887\"], [0.1111111111111111, \"#46039f\"], [0.2222222222222222, \"#7201a8\"], [0.3333333333333333, \"#9c179e\"], [0.4444444444444444, \"#bd3786\"], [0.5555555555555556, \"#d8576b\"], [0.6666666666666666, \"#ed7953\"], [0.7777777777777778, \"#fb9f3a\"], [0.8888888888888888, \"#fdca26\"], [1.0, \"#f0f921\"]]}, \"colorway\": [\"#636efa\", \"#EF553B\", \"#00cc96\", \"#ab63fa\", \"#FFA15A\", \"#19d3f3\", \"#FF6692\", \"#B6E880\", \"#FF97FF\", \"#FECB52\"], \"font\": {\"color\": \"#2a3f5f\"}, \"geo\": {\"bgcolor\": \"white\", \"lakecolor\": \"white\", \"landcolor\": \"#E5ECF6\", \"showlakes\": true, \"showland\": true, \"subunitcolor\": \"white\"}, \"hoverlabel\": {\"align\": \"left\"}, \"hovermode\": \"closest\", \"mapbox\": {\"style\": \"light\"}, \"paper_bgcolor\": \"white\", \"plot_bgcolor\": \"#E5ECF6\", \"polar\": {\"angularaxis\": {\"gridcolor\": \"white\", \"linecolor\": \"white\", \"ticks\": \"\"}, \"bgcolor\": \"#E5ECF6\", \"radialaxis\": {\"gridcolor\": \"white\", \"linecolor\": \"white\", \"ticks\": \"\"}}, \"scene\": {\"xaxis\": {\"backgroundcolor\": \"#E5ECF6\", \"gridcolor\": \"white\", \"gridwidth\": 2, \"linecolor\": \"white\", \"showbackground\": true, \"ticks\": \"\", \"zerolinecolor\": \"white\"}, \"yaxis\": {\"backgroundcolor\": \"#E5ECF6\", \"gridcolor\": \"white\", \"gridwidth\": 2, \"linecolor\": \"white\", \"showbackground\": true, \"ticks\": \"\", \"zerolinecolor\": \"white\"}, \"zaxis\": {\"backgroundcolor\": \"#E5ECF6\", \"gridcolor\": \"white\", \"gridwidth\": 2, \"linecolor\": \"white\", \"showbackground\": true, \"ticks\": \"\", \"zerolinecolor\": \"white\"}}, \"shapedefaults\": {\"line\": {\"color\": \"#2a3f5f\"}}, \"ternary\": {\"aaxis\": {\"gridcolor\": \"white\", \"linecolor\": \"white\", \"ticks\": \"\"}, \"baxis\": {\"gridcolor\": \"white\", \"linecolor\": \"white\", \"ticks\": \"\"}, \"bgcolor\": \"#E5ECF6\", \"caxis\": {\"gridcolor\": \"white\", \"linecolor\": \"white\", \"ticks\": \"\"}}, \"title\": {\"x\": 0.05}, \"xaxis\": {\"automargin\": true, \"gridcolor\": \"white\", \"linecolor\": \"white\", \"ticks\": \"\", \"title\": {\"standoff\": 15}, \"zerolinecolor\": \"white\", \"zerolinewidth\": 2}, \"yaxis\": {\"automargin\": true, \"gridcolor\": \"white\", \"linecolor\": \"white\", \"ticks\": \"\", \"title\": {\"standoff\": 15}, \"zerolinecolor\": \"white\", \"zerolinewidth\": 2}}}, \"title\": {\"font\": {\"size\": 16}, \"text\": \"Mango Dataset Concept Lattice\"}, \"width\": 1000, \"xaxis\": {\"showgrid\": false, \"showticklabels\": false, \"zeroline\": false}, \"yaxis\": {\"showgrid\": false, \"showticklabels\": false, \"zeroline\": false}},\n",
       "                        {\"responsive\": true}\n",
       "                    ).then(function(){\n",
       "                            \n",
       "var gd = document.getElementById('59fd4cac-8c10-4bc8-ad1b-6d36aa0a2ce1');\n",
       "var x = new MutationObserver(function (mutations, observer) {{\n",
       "        var display = window.getComputedStyle(gd).display;\n",
       "        if (!display || display === 'none') {{\n",
       "            console.log([gd, 'removed!']);\n",
       "            Plotly.purge(gd);\n",
       "            observer.disconnect();\n",
       "        }}\n",
       "}});\n",
       "\n",
       "// Listen for the removal of the full notebook cells\n",
       "var notebookContainer = gd.closest('#notebook-container');\n",
       "if (notebookContainer) {{\n",
       "    x.observe(notebookContainer, {childList: true});\n",
       "}}\n",
       "\n",
       "// Listen for the clearing of the current output cell\n",
       "var outputEl = gd.closest('.output');\n",
       "if (outputEl) {{\n",
       "    x.observe(outputEl, {childList: true});\n",
       "}}\n",
       "\n",
       "                        })\n",
       "                };\n",
       "                });\n",
       "            </script>\n",
       "        </div>"
      ]
     },
     "metadata": {},
     "output_type": "display_data"
    }
   ],
   "source": [
    "fig.show()"
   ]
  },
  {
   "cell_type": "code",
   "execution_count": 200,
   "metadata": {},
   "outputs": [
    {
     "data": {
      "text/plain": [
       "18"
      ]
     },
     "execution_count": 200,
     "metadata": {},
     "output_type": "execute_result"
    }
   ],
   "source": [
    "len(fm_mango._concepts)"
   ]
  },
  {
   "cell_type": "code",
   "execution_count": 201,
   "metadata": {},
   "outputs": [],
   "source": [
    "delete_all_lower_neighbs_downwise(fm_mango)"
   ]
  },
  {
   "cell_type": "code",
   "execution_count": 202,
   "metadata": {},
   "outputs": [
    {
     "data": {
      "text/plain": [
       "11"
      ]
     },
     "execution_count": 202,
     "metadata": {},
     "output_type": "execute_result"
    }
   ],
   "source": [
    "len(fm_mango._concepts)"
   ]
  },
  {
   "cell_type": "code",
   "execution_count": 203,
   "metadata": {},
   "outputs": [
    {
     "name": "stdout",
     "output_type": "stream",
     "text": [
      "0:  -> 0.75\n",
      "1: green -> 0.67\n",
      "2: oval -> 0.75\n",
      "3: round -> 1.00\n",
      "4: smooth -> 0.60\n",
      "5: white -> 0.50\n",
      "6: firm,smooth -> 0.00\n",
      "7: green,oval -> 1.00\n",
      "8: smooth,green -> 0.50\n",
      "9: smooth,oval -> 0.67\n",
      "10: smooth,blue,oval -> 1.00\n"
     ]
    }
   ],
   "source": [
    "for c in sorted(fm_mango._concepts, key=lambda c: c._idx):\n",
    "    if c._y_pred_mean is None:\n",
    "        continue\n",
    "    print(f\"{c._idx}: {','.join(c._intent)} -> {c._y_pred_mean:.2f}\")"
   ]
  },
  {
   "cell_type": "raw",
   "metadata": {},
   "source": [
    "delete_nocontrib_concepts(fm, conj_form=True)"
   ]
  },
  {
   "cell_type": "code",
   "execution_count": 204,
   "metadata": {},
   "outputs": [],
   "source": [
    "fig1 = fm_mango.get_plotly_fig(level_sort='all', sort_by='y_pred',\n",
    "                        y_precision=2, title='Mango Dataset Concept Lattice', cbar_title='Mean fruit prediction',\n",
    "                        color_by='y_pred',)"
   ]
  },
  {
   "cell_type": "code",
   "execution_count": 205,
   "metadata": {},
   "outputs": [
    {
     "data": {
      "application/vnd.plotly.v1+json": {
       "config": {
        "plotlyServerURL": "https://plot.ly"
       },
       "data": [
        {
         "hoverinfo": "none",
         "line": {
          "color": "#888",
          "width": 0.5
         },
         "mode": "lines",
         "type": "scatter",
         "x": [
          0,
          0.5,
          null,
          0,
          -0.5,
          null,
          0,
          1.5,
          null,
          0,
          0,
          null,
          1,
          0.5,
          null,
          1,
          1.5,
          null,
          1,
          0,
          null,
          -1.5,
          -1,
          null,
          0.5,
          -1,
          null,
          0,
          2,
          null,
          0,
          -1,
          null,
          0,
          -2,
          null,
          -0.5,
          -1,
          null
         ],
         "y": [
          1,
          2,
          null,
          3,
          2,
          null,
          3,
          2,
          null,
          3,
          4,
          null,
          3,
          2,
          null,
          3,
          2,
          null,
          3,
          4,
          null,
          2,
          3,
          null,
          2,
          3,
          null,
          4,
          3,
          null,
          4,
          3,
          null,
          4,
          3,
          null,
          2,
          3,
          null
         ]
        },
        {
         "hoverinfo": "text",
         "hovertext": [
          "Concept 10<br>extent (len: 1): plum<br>intent (len: 3): smooth, blue, oval<br>new extent (len: 1): plum<br>new intent (len: 1): blue<br>mean_y_true: 1.0<br>mean_y_pred: 1.0<br>Metrics<br>\taccuracy: 1.0<br>\tprecision: 1.0<br>\trecall: 1.0<br>\tneg_precision: 0.0<br>\tneg_recall: 0.0<br><br>",
          "Concept 1<br>extent (len: 3): kiwi, toy cube, mango<br>intent (len: 1): green<br>new extent (len: 0): emptyset<br>new intent (len: 1): green<br>mean_y_true: 0.67<br>mean_y_pred: 0.67<br>Metrics<br>\taccuracy: 1.0<br>\tprecision: 1.0<br>\trecall: 1.0<br>\tneg_precision: 1.0<br>\tneg_recall: 1.0<br><br>",
          "Concept 2<br>extent (len: 4): kiwi, plum, egg, mango<br>intent (len: 1): oval<br>new extent (len: 0): emptyset<br>new intent (len: 1): oval<br>mean_y_true: 0.75<br>mean_y_pred: 0.75<br>Metrics<br>\taccuracy: 1.0<br>\tprecision: 1.0<br>\trecall: 1.0<br>\tneg_precision: 1.0<br>\tneg_recall: 1.0<br><br>",
          "Concept 6<br>extent (len: 2): toy cube, egg<br>intent (len: 2): firm, smooth<br>new extent (len: 0): emptyset<br>new intent (len: 1): firm<br>mean_y_true: 0.0<br>mean_y_pred: 0.0<br>Metrics<br>\taccuracy: 1.0<br>\tprecision: 0.0<br>\trecall: 0.0<br>\tneg_precision: 1.0<br>\tneg_recall: 1.0<br><br>",
          "Concept 9<br>extent (len: 3): plum, egg, mango<br>intent (len: 2): smooth, oval<br>new extent (len: 0): emptyset<br>new intent (len: 0): emptyset<br>mean_y_true: 0.67<br>mean_y_pred: 0.67<br>Metrics<br>\taccuracy: 1.0<br>\tprecision: 1.0<br>\trecall: 1.0<br>\tneg_precision: 1.0<br>\tneg_recall: 1.0<br><br>",
          "Concept 0<br>extent (len: 8): apple, grapefruit, kiwi, plum, toy cube, egg, tennis ball, mango<br>intent (len: 0): emptyset<br>new extent (len: 0): emptyset<br>new intent (len: 0): emptyset<br>mean_y_true: 0.62<br>mean_y_pred: 0.75<br>Metrics<br>\taccuracy: 0.88<br>\tprecision: 0.83<br>\trecall: 1.0<br>\tneg_precision: 1.0<br>\tneg_recall: 0.67<br><br>",
          "Concept 8<br>extent (len: 2): toy cube, mango<br>intent (len: 2): smooth, green<br>new extent (len: 0): emptyset<br>new intent (len: 0): emptyset<br>mean_y_true: 0.5<br>mean_y_pred: 0.5<br>Metrics<br>\taccuracy: 1.0<br>\tprecision: 1.0<br>\trecall: 1.0<br>\tneg_precision: 1.0<br>\tneg_recall: 1.0<br><br>",
          "Concept 4<br>extent (len: 5): apple, plum, toy cube, egg, mango<br>intent (len: 1): smooth<br>new extent (len: 0): emptyset<br>new intent (len: 1): smooth<br>mean_y_true: 0.6<br>mean_y_pred: 0.6<br>Metrics<br>\taccuracy: 1.0<br>\tprecision: 1.0<br>\trecall: 1.0<br>\tneg_precision: 1.0<br>\tneg_recall: 1.0<br><br>",
          "Concept 3<br>extent (len: 3): apple, grapefruit, tennis ball<br>intent (len: 1): round<br>new extent (len: 0): emptyset<br>new intent (len: 1): round<br>mean_y_true: 0.67<br>mean_y_pred: 1.0<br>Metrics<br>\taccuracy: 0.67<br>\tprecision: 0.67<br>\trecall: 1.0<br>\tneg_precision: 0.0<br>\tneg_recall: 0.0<br><br>",
          "Concept 5<br>extent (len: 2): egg, tennis ball<br>intent (len: 1): white<br>new extent (len: 0): emptyset<br>new intent (len: 1): white<br>mean_y_true: 0.0<br>mean_y_pred: 0.5<br>Metrics<br>\taccuracy: 0.5<br>\tprecision: 0.0<br>\trecall: 0.0<br>\tneg_precision: 1.0<br>\tneg_recall: 0.5<br><br>",
          "Concept 7<br>extent (len: 2): kiwi, mango<br>intent (len: 2): green, oval<br>new extent (len: 1): kiwi<br>new intent (len: 0): emptyset<br>mean_y_true: 1.0<br>mean_y_pred: 1.0<br>Metrics<br>\taccuracy: 1.0<br>\tprecision: 1.0<br>\trecall: 1.0<br>\tneg_precision: 0.0<br>\tneg_recall: 0.0<br><br>"
         ],
         "marker": {
          "color": [
           1,
           0.6666666666666666,
           0.75,
           0,
           0.6666666666666666,
           0.75,
           0.5,
           0.6,
           1,
           0.5,
           1
          ],
          "colorbar": {
           "thickness": 15,
           "title": {
            "side": "right",
            "text": "Mean fruit prediction"
           },
           "xanchor": "left"
          },
          "colorscale": [
           [
            0,
            "rgb(103,0,31)"
           ],
           [
            0.1,
            "rgb(178,24,43)"
           ],
           [
            0.2,
            "rgb(214,96,77)"
           ],
           [
            0.3,
            "rgb(244,165,130)"
           ],
           [
            0.4,
            "rgb(253,219,199)"
           ],
           [
            0.5,
            "rgb(247,247,247)"
           ],
           [
            0.6,
            "rgb(209,229,240)"
           ],
           [
            0.7,
            "rgb(146,197,222)"
           ],
           [
            0.8,
            "rgb(67,147,195)"
           ],
           [
            0.9,
            "rgb(33,102,172)"
           ],
           [
            1,
            "rgb(5,48,97)"
           ]
          ],
          "line": {
           "width": 2
          },
          "reversescale": true,
          "showscale": true,
          "size": 10
         },
         "mode": "markers+text",
         "text": [
          "blue<br>plum",
          "green<br>",
          "oval<br>",
          "firm<br>",
          "<br>",
          "<br>",
          "<br>",
          "smooth<br>",
          "round<br>",
          "white<br>",
          "<br>kiwi"
         ],
         "textposition": "middle right",
         "type": "scatter",
         "x": [
          0,
          0,
          1,
          -1.5,
          0.5,
          0,
          -0.5,
          -1,
          2,
          -2,
          1.5
         ],
         "y": [
          1,
          3,
          3,
          2,
          2,
          4,
          2,
          3,
          3,
          3,
          2
         ]
        }
       ],
       "layout": {
        "height": 500,
        "hovermode": "closest",
        "margin": {
         "b": 20,
         "l": 5,
         "r": 5,
         "t": 40
        },
        "showlegend": false,
        "template": {
         "data": {
          "bar": [
           {
            "error_x": {
             "color": "#2a3f5f"
            },
            "error_y": {
             "color": "#2a3f5f"
            },
            "marker": {
             "line": {
              "color": "#E5ECF6",
              "width": 0.5
             }
            },
            "type": "bar"
           }
          ],
          "barpolar": [
           {
            "marker": {
             "line": {
              "color": "#E5ECF6",
              "width": 0.5
             }
            },
            "type": "barpolar"
           }
          ],
          "carpet": [
           {
            "aaxis": {
             "endlinecolor": "#2a3f5f",
             "gridcolor": "white",
             "linecolor": "white",
             "minorgridcolor": "white",
             "startlinecolor": "#2a3f5f"
            },
            "baxis": {
             "endlinecolor": "#2a3f5f",
             "gridcolor": "white",
             "linecolor": "white",
             "minorgridcolor": "white",
             "startlinecolor": "#2a3f5f"
            },
            "type": "carpet"
           }
          ],
          "choropleth": [
           {
            "colorbar": {
             "outlinewidth": 0,
             "ticks": ""
            },
            "type": "choropleth"
           }
          ],
          "contour": [
           {
            "colorbar": {
             "outlinewidth": 0,
             "ticks": ""
            },
            "colorscale": [
             [
              0,
              "#0d0887"
             ],
             [
              0.1111111111111111,
              "#46039f"
             ],
             [
              0.2222222222222222,
              "#7201a8"
             ],
             [
              0.3333333333333333,
              "#9c179e"
             ],
             [
              0.4444444444444444,
              "#bd3786"
             ],
             [
              0.5555555555555556,
              "#d8576b"
             ],
             [
              0.6666666666666666,
              "#ed7953"
             ],
             [
              0.7777777777777778,
              "#fb9f3a"
             ],
             [
              0.8888888888888888,
              "#fdca26"
             ],
             [
              1,
              "#f0f921"
             ]
            ],
            "type": "contour"
           }
          ],
          "contourcarpet": [
           {
            "colorbar": {
             "outlinewidth": 0,
             "ticks": ""
            },
            "type": "contourcarpet"
           }
          ],
          "heatmap": [
           {
            "colorbar": {
             "outlinewidth": 0,
             "ticks": ""
            },
            "colorscale": [
             [
              0,
              "#0d0887"
             ],
             [
              0.1111111111111111,
              "#46039f"
             ],
             [
              0.2222222222222222,
              "#7201a8"
             ],
             [
              0.3333333333333333,
              "#9c179e"
             ],
             [
              0.4444444444444444,
              "#bd3786"
             ],
             [
              0.5555555555555556,
              "#d8576b"
             ],
             [
              0.6666666666666666,
              "#ed7953"
             ],
             [
              0.7777777777777778,
              "#fb9f3a"
             ],
             [
              0.8888888888888888,
              "#fdca26"
             ],
             [
              1,
              "#f0f921"
             ]
            ],
            "type": "heatmap"
           }
          ],
          "heatmapgl": [
           {
            "colorbar": {
             "outlinewidth": 0,
             "ticks": ""
            },
            "colorscale": [
             [
              0,
              "#0d0887"
             ],
             [
              0.1111111111111111,
              "#46039f"
             ],
             [
              0.2222222222222222,
              "#7201a8"
             ],
             [
              0.3333333333333333,
              "#9c179e"
             ],
             [
              0.4444444444444444,
              "#bd3786"
             ],
             [
              0.5555555555555556,
              "#d8576b"
             ],
             [
              0.6666666666666666,
              "#ed7953"
             ],
             [
              0.7777777777777778,
              "#fb9f3a"
             ],
             [
              0.8888888888888888,
              "#fdca26"
             ],
             [
              1,
              "#f0f921"
             ]
            ],
            "type": "heatmapgl"
           }
          ],
          "histogram": [
           {
            "marker": {
             "colorbar": {
              "outlinewidth": 0,
              "ticks": ""
             }
            },
            "type": "histogram"
           }
          ],
          "histogram2d": [
           {
            "colorbar": {
             "outlinewidth": 0,
             "ticks": ""
            },
            "colorscale": [
             [
              0,
              "#0d0887"
             ],
             [
              0.1111111111111111,
              "#46039f"
             ],
             [
              0.2222222222222222,
              "#7201a8"
             ],
             [
              0.3333333333333333,
              "#9c179e"
             ],
             [
              0.4444444444444444,
              "#bd3786"
             ],
             [
              0.5555555555555556,
              "#d8576b"
             ],
             [
              0.6666666666666666,
              "#ed7953"
             ],
             [
              0.7777777777777778,
              "#fb9f3a"
             ],
             [
              0.8888888888888888,
              "#fdca26"
             ],
             [
              1,
              "#f0f921"
             ]
            ],
            "type": "histogram2d"
           }
          ],
          "histogram2dcontour": [
           {
            "colorbar": {
             "outlinewidth": 0,
             "ticks": ""
            },
            "colorscale": [
             [
              0,
              "#0d0887"
             ],
             [
              0.1111111111111111,
              "#46039f"
             ],
             [
              0.2222222222222222,
              "#7201a8"
             ],
             [
              0.3333333333333333,
              "#9c179e"
             ],
             [
              0.4444444444444444,
              "#bd3786"
             ],
             [
              0.5555555555555556,
              "#d8576b"
             ],
             [
              0.6666666666666666,
              "#ed7953"
             ],
             [
              0.7777777777777778,
              "#fb9f3a"
             ],
             [
              0.8888888888888888,
              "#fdca26"
             ],
             [
              1,
              "#f0f921"
             ]
            ],
            "type": "histogram2dcontour"
           }
          ],
          "mesh3d": [
           {
            "colorbar": {
             "outlinewidth": 0,
             "ticks": ""
            },
            "type": "mesh3d"
           }
          ],
          "parcoords": [
           {
            "line": {
             "colorbar": {
              "outlinewidth": 0,
              "ticks": ""
             }
            },
            "type": "parcoords"
           }
          ],
          "pie": [
           {
            "automargin": true,
            "type": "pie"
           }
          ],
          "scatter": [
           {
            "marker": {
             "colorbar": {
              "outlinewidth": 0,
              "ticks": ""
             }
            },
            "type": "scatter"
           }
          ],
          "scatter3d": [
           {
            "line": {
             "colorbar": {
              "outlinewidth": 0,
              "ticks": ""
             }
            },
            "marker": {
             "colorbar": {
              "outlinewidth": 0,
              "ticks": ""
             }
            },
            "type": "scatter3d"
           }
          ],
          "scattercarpet": [
           {
            "marker": {
             "colorbar": {
              "outlinewidth": 0,
              "ticks": ""
             }
            },
            "type": "scattercarpet"
           }
          ],
          "scattergeo": [
           {
            "marker": {
             "colorbar": {
              "outlinewidth": 0,
              "ticks": ""
             }
            },
            "type": "scattergeo"
           }
          ],
          "scattergl": [
           {
            "marker": {
             "colorbar": {
              "outlinewidth": 0,
              "ticks": ""
             }
            },
            "type": "scattergl"
           }
          ],
          "scattermapbox": [
           {
            "marker": {
             "colorbar": {
              "outlinewidth": 0,
              "ticks": ""
             }
            },
            "type": "scattermapbox"
           }
          ],
          "scatterpolar": [
           {
            "marker": {
             "colorbar": {
              "outlinewidth": 0,
              "ticks": ""
             }
            },
            "type": "scatterpolar"
           }
          ],
          "scatterpolargl": [
           {
            "marker": {
             "colorbar": {
              "outlinewidth": 0,
              "ticks": ""
             }
            },
            "type": "scatterpolargl"
           }
          ],
          "scatterternary": [
           {
            "marker": {
             "colorbar": {
              "outlinewidth": 0,
              "ticks": ""
             }
            },
            "type": "scatterternary"
           }
          ],
          "surface": [
           {
            "colorbar": {
             "outlinewidth": 0,
             "ticks": ""
            },
            "colorscale": [
             [
              0,
              "#0d0887"
             ],
             [
              0.1111111111111111,
              "#46039f"
             ],
             [
              0.2222222222222222,
              "#7201a8"
             ],
             [
              0.3333333333333333,
              "#9c179e"
             ],
             [
              0.4444444444444444,
              "#bd3786"
             ],
             [
              0.5555555555555556,
              "#d8576b"
             ],
             [
              0.6666666666666666,
              "#ed7953"
             ],
             [
              0.7777777777777778,
              "#fb9f3a"
             ],
             [
              0.8888888888888888,
              "#fdca26"
             ],
             [
              1,
              "#f0f921"
             ]
            ],
            "type": "surface"
           }
          ],
          "table": [
           {
            "cells": {
             "fill": {
              "color": "#EBF0F8"
             },
             "line": {
              "color": "white"
             }
            },
            "header": {
             "fill": {
              "color": "#C8D4E3"
             },
             "line": {
              "color": "white"
             }
            },
            "type": "table"
           }
          ]
         },
         "layout": {
          "annotationdefaults": {
           "arrowcolor": "#2a3f5f",
           "arrowhead": 0,
           "arrowwidth": 1
          },
          "coloraxis": {
           "colorbar": {
            "outlinewidth": 0,
            "ticks": ""
           }
          },
          "colorscale": {
           "diverging": [
            [
             0,
             "#8e0152"
            ],
            [
             0.1,
             "#c51b7d"
            ],
            [
             0.2,
             "#de77ae"
            ],
            [
             0.3,
             "#f1b6da"
            ],
            [
             0.4,
             "#fde0ef"
            ],
            [
             0.5,
             "#f7f7f7"
            ],
            [
             0.6,
             "#e6f5d0"
            ],
            [
             0.7,
             "#b8e186"
            ],
            [
             0.8,
             "#7fbc41"
            ],
            [
             0.9,
             "#4d9221"
            ],
            [
             1,
             "#276419"
            ]
           ],
           "sequential": [
            [
             0,
             "#0d0887"
            ],
            [
             0.1111111111111111,
             "#46039f"
            ],
            [
             0.2222222222222222,
             "#7201a8"
            ],
            [
             0.3333333333333333,
             "#9c179e"
            ],
            [
             0.4444444444444444,
             "#bd3786"
            ],
            [
             0.5555555555555556,
             "#d8576b"
            ],
            [
             0.6666666666666666,
             "#ed7953"
            ],
            [
             0.7777777777777778,
             "#fb9f3a"
            ],
            [
             0.8888888888888888,
             "#fdca26"
            ],
            [
             1,
             "#f0f921"
            ]
           ],
           "sequentialminus": [
            [
             0,
             "#0d0887"
            ],
            [
             0.1111111111111111,
             "#46039f"
            ],
            [
             0.2222222222222222,
             "#7201a8"
            ],
            [
             0.3333333333333333,
             "#9c179e"
            ],
            [
             0.4444444444444444,
             "#bd3786"
            ],
            [
             0.5555555555555556,
             "#d8576b"
            ],
            [
             0.6666666666666666,
             "#ed7953"
            ],
            [
             0.7777777777777778,
             "#fb9f3a"
            ],
            [
             0.8888888888888888,
             "#fdca26"
            ],
            [
             1,
             "#f0f921"
            ]
           ]
          },
          "colorway": [
           "#636efa",
           "#EF553B",
           "#00cc96",
           "#ab63fa",
           "#FFA15A",
           "#19d3f3",
           "#FF6692",
           "#B6E880",
           "#FF97FF",
           "#FECB52"
          ],
          "font": {
           "color": "#2a3f5f"
          },
          "geo": {
           "bgcolor": "white",
           "lakecolor": "white",
           "landcolor": "#E5ECF6",
           "showlakes": true,
           "showland": true,
           "subunitcolor": "white"
          },
          "hoverlabel": {
           "align": "left"
          },
          "hovermode": "closest",
          "mapbox": {
           "style": "light"
          },
          "paper_bgcolor": "white",
          "plot_bgcolor": "#E5ECF6",
          "polar": {
           "angularaxis": {
            "gridcolor": "white",
            "linecolor": "white",
            "ticks": ""
           },
           "bgcolor": "#E5ECF6",
           "radialaxis": {
            "gridcolor": "white",
            "linecolor": "white",
            "ticks": ""
           }
          },
          "scene": {
           "xaxis": {
            "backgroundcolor": "#E5ECF6",
            "gridcolor": "white",
            "gridwidth": 2,
            "linecolor": "white",
            "showbackground": true,
            "ticks": "",
            "zerolinecolor": "white"
           },
           "yaxis": {
            "backgroundcolor": "#E5ECF6",
            "gridcolor": "white",
            "gridwidth": 2,
            "linecolor": "white",
            "showbackground": true,
            "ticks": "",
            "zerolinecolor": "white"
           },
           "zaxis": {
            "backgroundcolor": "#E5ECF6",
            "gridcolor": "white",
            "gridwidth": 2,
            "linecolor": "white",
            "showbackground": true,
            "ticks": "",
            "zerolinecolor": "white"
           }
          },
          "shapedefaults": {
           "line": {
            "color": "#2a3f5f"
           }
          },
          "ternary": {
           "aaxis": {
            "gridcolor": "white",
            "linecolor": "white",
            "ticks": ""
           },
           "baxis": {
            "gridcolor": "white",
            "linecolor": "white",
            "ticks": ""
           },
           "bgcolor": "#E5ECF6",
           "caxis": {
            "gridcolor": "white",
            "linecolor": "white",
            "ticks": ""
           }
          },
          "title": {
           "x": 0.05
          },
          "xaxis": {
           "automargin": true,
           "gridcolor": "white",
           "linecolor": "white",
           "ticks": "",
           "title": {
            "standoff": 15
           },
           "zerolinecolor": "white",
           "zerolinewidth": 2
          },
          "yaxis": {
           "automargin": true,
           "gridcolor": "white",
           "linecolor": "white",
           "ticks": "",
           "title": {
            "standoff": 15
           },
           "zerolinecolor": "white",
           "zerolinewidth": 2
          }
         }
        },
        "title": {
         "font": {
          "size": 16
         },
         "text": "Mango Dataset Concept Lattice"
        },
        "width": 1000,
        "xaxis": {
         "showgrid": false,
         "showticklabels": false,
         "zeroline": false
        },
        "yaxis": {
         "showgrid": false,
         "showticklabels": false,
         "zeroline": false
        }
       }
      },
      "text/html": [
       "<div>\n",
       "        \n",
       "        \n",
       "            <div id=\"f841232f-0c95-48d5-b39e-c9d8492a0077\" class=\"plotly-graph-div\" style=\"height:500px; width:1000px;\"></div>\n",
       "            <script type=\"text/javascript\">\n",
       "                require([\"plotly\"], function(Plotly) {\n",
       "                    window.PLOTLYENV=window.PLOTLYENV || {};\n",
       "                    \n",
       "                if (document.getElementById(\"f841232f-0c95-48d5-b39e-c9d8492a0077\")) {\n",
       "                    Plotly.newPlot(\n",
       "                        'f841232f-0c95-48d5-b39e-c9d8492a0077',\n",
       "                        [{\"hoverinfo\": \"none\", \"line\": {\"color\": \"#888\", \"width\": 0.5}, \"mode\": \"lines\", \"type\": \"scatter\", \"x\": [0.0, 0.5, null, 0.0, -0.5, null, 0.0, 1.5, null, 0.0, 0.0, null, 1.0, 0.5, null, 1.0, 1.5, null, 1.0, 0.0, null, -1.5, -1.0, null, 0.5, -1.0, null, 0.0, 2.0, null, 0.0, -1.0, null, 0.0, -2.0, null, -0.5, -1.0, null], \"y\": [1, 2, null, 3, 2, null, 3, 2, null, 3, 4, null, 3, 2, null, 3, 2, null, 3, 4, null, 2, 3, null, 2, 3, null, 4, 3, null, 4, 3, null, 4, 3, null, 2, 3, null]}, {\"hoverinfo\": \"text\", \"hovertext\": [\"Concept 10<br>extent (len: 1): plum<br>intent (len: 3): smooth, blue, oval<br>new extent (len: 1): plum<br>new intent (len: 1): blue<br>mean_y_true: 1.0<br>mean_y_pred: 1.0<br>Metrics<br>\\taccuracy: 1.0<br>\\tprecision: 1.0<br>\\trecall: 1.0<br>\\tneg_precision: 0.0<br>\\tneg_recall: 0.0<br><br>\", \"Concept 1<br>extent (len: 3): kiwi, toy cube, mango<br>intent (len: 1): green<br>new extent (len: 0): emptyset<br>new intent (len: 1): green<br>mean_y_true: 0.67<br>mean_y_pred: 0.67<br>Metrics<br>\\taccuracy: 1.0<br>\\tprecision: 1.0<br>\\trecall: 1.0<br>\\tneg_precision: 1.0<br>\\tneg_recall: 1.0<br><br>\", \"Concept 2<br>extent (len: 4): kiwi, plum, egg, mango<br>intent (len: 1): oval<br>new extent (len: 0): emptyset<br>new intent (len: 1): oval<br>mean_y_true: 0.75<br>mean_y_pred: 0.75<br>Metrics<br>\\taccuracy: 1.0<br>\\tprecision: 1.0<br>\\trecall: 1.0<br>\\tneg_precision: 1.0<br>\\tneg_recall: 1.0<br><br>\", \"Concept 6<br>extent (len: 2): toy cube, egg<br>intent (len: 2): firm, smooth<br>new extent (len: 0): emptyset<br>new intent (len: 1): firm<br>mean_y_true: 0.0<br>mean_y_pred: 0.0<br>Metrics<br>\\taccuracy: 1.0<br>\\tprecision: 0.0<br>\\trecall: 0.0<br>\\tneg_precision: 1.0<br>\\tneg_recall: 1.0<br><br>\", \"Concept 9<br>extent (len: 3): plum, egg, mango<br>intent (len: 2): smooth, oval<br>new extent (len: 0): emptyset<br>new intent (len: 0): emptyset<br>mean_y_true: 0.67<br>mean_y_pred: 0.67<br>Metrics<br>\\taccuracy: 1.0<br>\\tprecision: 1.0<br>\\trecall: 1.0<br>\\tneg_precision: 1.0<br>\\tneg_recall: 1.0<br><br>\", \"Concept 0<br>extent (len: 8): apple, grapefruit, kiwi, plum, toy cube, egg, tennis ball, mango<br>intent (len: 0): emptyset<br>new extent (len: 0): emptyset<br>new intent (len: 0): emptyset<br>mean_y_true: 0.62<br>mean_y_pred: 0.75<br>Metrics<br>\\taccuracy: 0.88<br>\\tprecision: 0.83<br>\\trecall: 1.0<br>\\tneg_precision: 1.0<br>\\tneg_recall: 0.67<br><br>\", \"Concept 8<br>extent (len: 2): toy cube, mango<br>intent (len: 2): smooth, green<br>new extent (len: 0): emptyset<br>new intent (len: 0): emptyset<br>mean_y_true: 0.5<br>mean_y_pred: 0.5<br>Metrics<br>\\taccuracy: 1.0<br>\\tprecision: 1.0<br>\\trecall: 1.0<br>\\tneg_precision: 1.0<br>\\tneg_recall: 1.0<br><br>\", \"Concept 4<br>extent (len: 5): apple, plum, toy cube, egg, mango<br>intent (len: 1): smooth<br>new extent (len: 0): emptyset<br>new intent (len: 1): smooth<br>mean_y_true: 0.6<br>mean_y_pred: 0.6<br>Metrics<br>\\taccuracy: 1.0<br>\\tprecision: 1.0<br>\\trecall: 1.0<br>\\tneg_precision: 1.0<br>\\tneg_recall: 1.0<br><br>\", \"Concept 3<br>extent (len: 3): apple, grapefruit, tennis ball<br>intent (len: 1): round<br>new extent (len: 0): emptyset<br>new intent (len: 1): round<br>mean_y_true: 0.67<br>mean_y_pred: 1.0<br>Metrics<br>\\taccuracy: 0.67<br>\\tprecision: 0.67<br>\\trecall: 1.0<br>\\tneg_precision: 0.0<br>\\tneg_recall: 0.0<br><br>\", \"Concept 5<br>extent (len: 2): egg, tennis ball<br>intent (len: 1): white<br>new extent (len: 0): emptyset<br>new intent (len: 1): white<br>mean_y_true: 0.0<br>mean_y_pred: 0.5<br>Metrics<br>\\taccuracy: 0.5<br>\\tprecision: 0.0<br>\\trecall: 0.0<br>\\tneg_precision: 1.0<br>\\tneg_recall: 0.5<br><br>\", \"Concept 7<br>extent (len: 2): kiwi, mango<br>intent (len: 2): green, oval<br>new extent (len: 1): kiwi<br>new intent (len: 0): emptyset<br>mean_y_true: 1.0<br>mean_y_pred: 1.0<br>Metrics<br>\\taccuracy: 1.0<br>\\tprecision: 1.0<br>\\trecall: 1.0<br>\\tneg_precision: 0.0<br>\\tneg_recall: 0.0<br><br>\"], \"marker\": {\"color\": [1.0, 0.6666666666666666, 0.75, 0.0, 0.6666666666666666, 0.75, 0.5, 0.6, 1.0, 0.5, 1.0], \"colorbar\": {\"thickness\": 15, \"title\": {\"side\": \"right\", \"text\": \"Mean fruit prediction\"}, \"xanchor\": \"left\"}, \"colorscale\": [[0.0, \"rgb(103,0,31)\"], [0.1, \"rgb(178,24,43)\"], [0.2, \"rgb(214,96,77)\"], [0.3, \"rgb(244,165,130)\"], [0.4, \"rgb(253,219,199)\"], [0.5, \"rgb(247,247,247)\"], [0.6, \"rgb(209,229,240)\"], [0.7, \"rgb(146,197,222)\"], [0.8, \"rgb(67,147,195)\"], [0.9, \"rgb(33,102,172)\"], [1.0, \"rgb(5,48,97)\"]], \"line\": {\"width\": 2}, \"reversescale\": true, \"showscale\": true, \"size\": 10}, \"mode\": \"markers+text\", \"text\": [\"blue<br>plum\", \"green<br>\", \"oval<br>\", \"firm<br>\", \"<br>\", \"<br>\", \"<br>\", \"smooth<br>\", \"round<br>\", \"white<br>\", \"<br>kiwi\"], \"textposition\": \"middle right\", \"type\": \"scatter\", \"x\": [0.0, 0.0, 1.0, -1.5, 0.5, 0.0, -0.5, -1.0, 2.0, -2.0, 1.5], \"y\": [1, 3, 3, 2, 2, 4, 2, 3, 3, 3, 2]}],\n",
       "                        {\"height\": 500, \"hovermode\": \"closest\", \"margin\": {\"b\": 20, \"l\": 5, \"r\": 5, \"t\": 40}, \"showlegend\": false, \"template\": {\"data\": {\"bar\": [{\"error_x\": {\"color\": \"#2a3f5f\"}, \"error_y\": {\"color\": \"#2a3f5f\"}, \"marker\": {\"line\": {\"color\": \"#E5ECF6\", \"width\": 0.5}}, \"type\": \"bar\"}], \"barpolar\": [{\"marker\": {\"line\": {\"color\": \"#E5ECF6\", \"width\": 0.5}}, \"type\": \"barpolar\"}], \"carpet\": [{\"aaxis\": {\"endlinecolor\": \"#2a3f5f\", \"gridcolor\": \"white\", \"linecolor\": \"white\", \"minorgridcolor\": \"white\", \"startlinecolor\": \"#2a3f5f\"}, \"baxis\": {\"endlinecolor\": \"#2a3f5f\", \"gridcolor\": \"white\", \"linecolor\": \"white\", \"minorgridcolor\": \"white\", \"startlinecolor\": \"#2a3f5f\"}, \"type\": \"carpet\"}], \"choropleth\": [{\"colorbar\": {\"outlinewidth\": 0, \"ticks\": \"\"}, \"type\": \"choropleth\"}], \"contour\": [{\"colorbar\": {\"outlinewidth\": 0, \"ticks\": \"\"}, \"colorscale\": [[0.0, \"#0d0887\"], [0.1111111111111111, \"#46039f\"], [0.2222222222222222, \"#7201a8\"], [0.3333333333333333, \"#9c179e\"], [0.4444444444444444, \"#bd3786\"], [0.5555555555555556, \"#d8576b\"], [0.6666666666666666, \"#ed7953\"], [0.7777777777777778, \"#fb9f3a\"], [0.8888888888888888, \"#fdca26\"], [1.0, \"#f0f921\"]], \"type\": \"contour\"}], \"contourcarpet\": [{\"colorbar\": {\"outlinewidth\": 0, \"ticks\": \"\"}, \"type\": \"contourcarpet\"}], \"heatmap\": [{\"colorbar\": {\"outlinewidth\": 0, \"ticks\": \"\"}, \"colorscale\": [[0.0, \"#0d0887\"], [0.1111111111111111, \"#46039f\"], [0.2222222222222222, \"#7201a8\"], [0.3333333333333333, \"#9c179e\"], [0.4444444444444444, \"#bd3786\"], [0.5555555555555556, \"#d8576b\"], [0.6666666666666666, \"#ed7953\"], [0.7777777777777778, \"#fb9f3a\"], [0.8888888888888888, \"#fdca26\"], [1.0, \"#f0f921\"]], \"type\": \"heatmap\"}], \"heatmapgl\": [{\"colorbar\": {\"outlinewidth\": 0, \"ticks\": \"\"}, \"colorscale\": [[0.0, \"#0d0887\"], [0.1111111111111111, \"#46039f\"], [0.2222222222222222, \"#7201a8\"], [0.3333333333333333, \"#9c179e\"], [0.4444444444444444, \"#bd3786\"], [0.5555555555555556, \"#d8576b\"], [0.6666666666666666, \"#ed7953\"], [0.7777777777777778, \"#fb9f3a\"], [0.8888888888888888, \"#fdca26\"], [1.0, \"#f0f921\"]], \"type\": \"heatmapgl\"}], \"histogram\": [{\"marker\": {\"colorbar\": {\"outlinewidth\": 0, \"ticks\": \"\"}}, \"type\": \"histogram\"}], \"histogram2d\": [{\"colorbar\": {\"outlinewidth\": 0, \"ticks\": \"\"}, \"colorscale\": [[0.0, \"#0d0887\"], [0.1111111111111111, \"#46039f\"], [0.2222222222222222, \"#7201a8\"], [0.3333333333333333, \"#9c179e\"], [0.4444444444444444, \"#bd3786\"], [0.5555555555555556, \"#d8576b\"], [0.6666666666666666, \"#ed7953\"], [0.7777777777777778, \"#fb9f3a\"], [0.8888888888888888, \"#fdca26\"], [1.0, \"#f0f921\"]], \"type\": \"histogram2d\"}], \"histogram2dcontour\": [{\"colorbar\": {\"outlinewidth\": 0, \"ticks\": \"\"}, \"colorscale\": [[0.0, \"#0d0887\"], [0.1111111111111111, \"#46039f\"], [0.2222222222222222, \"#7201a8\"], [0.3333333333333333, \"#9c179e\"], [0.4444444444444444, \"#bd3786\"], [0.5555555555555556, \"#d8576b\"], [0.6666666666666666, \"#ed7953\"], [0.7777777777777778, \"#fb9f3a\"], [0.8888888888888888, \"#fdca26\"], [1.0, \"#f0f921\"]], \"type\": \"histogram2dcontour\"}], \"mesh3d\": [{\"colorbar\": {\"outlinewidth\": 0, \"ticks\": \"\"}, \"type\": \"mesh3d\"}], \"parcoords\": [{\"line\": {\"colorbar\": {\"outlinewidth\": 0, \"ticks\": \"\"}}, \"type\": \"parcoords\"}], \"pie\": [{\"automargin\": true, \"type\": \"pie\"}], \"scatter\": [{\"marker\": {\"colorbar\": {\"outlinewidth\": 0, \"ticks\": \"\"}}, \"type\": \"scatter\"}], \"scatter3d\": [{\"line\": {\"colorbar\": {\"outlinewidth\": 0, \"ticks\": \"\"}}, \"marker\": {\"colorbar\": {\"outlinewidth\": 0, \"ticks\": \"\"}}, \"type\": \"scatter3d\"}], \"scattercarpet\": [{\"marker\": {\"colorbar\": {\"outlinewidth\": 0, \"ticks\": \"\"}}, \"type\": \"scattercarpet\"}], \"scattergeo\": [{\"marker\": {\"colorbar\": {\"outlinewidth\": 0, \"ticks\": \"\"}}, \"type\": \"scattergeo\"}], \"scattergl\": [{\"marker\": {\"colorbar\": {\"outlinewidth\": 0, \"ticks\": \"\"}}, \"type\": \"scattergl\"}], \"scattermapbox\": [{\"marker\": {\"colorbar\": {\"outlinewidth\": 0, \"ticks\": \"\"}}, \"type\": \"scattermapbox\"}], \"scatterpolar\": [{\"marker\": {\"colorbar\": {\"outlinewidth\": 0, \"ticks\": \"\"}}, \"type\": \"scatterpolar\"}], \"scatterpolargl\": [{\"marker\": {\"colorbar\": {\"outlinewidth\": 0, \"ticks\": \"\"}}, \"type\": \"scatterpolargl\"}], \"scatterternary\": [{\"marker\": {\"colorbar\": {\"outlinewidth\": 0, \"ticks\": \"\"}}, \"type\": \"scatterternary\"}], \"surface\": [{\"colorbar\": {\"outlinewidth\": 0, \"ticks\": \"\"}, \"colorscale\": [[0.0, \"#0d0887\"], [0.1111111111111111, \"#46039f\"], [0.2222222222222222, \"#7201a8\"], [0.3333333333333333, \"#9c179e\"], [0.4444444444444444, \"#bd3786\"], [0.5555555555555556, \"#d8576b\"], [0.6666666666666666, \"#ed7953\"], [0.7777777777777778, \"#fb9f3a\"], [0.8888888888888888, \"#fdca26\"], [1.0, \"#f0f921\"]], \"type\": \"surface\"}], \"table\": [{\"cells\": {\"fill\": {\"color\": \"#EBF0F8\"}, \"line\": {\"color\": \"white\"}}, \"header\": {\"fill\": {\"color\": \"#C8D4E3\"}, \"line\": {\"color\": \"white\"}}, \"type\": \"table\"}]}, \"layout\": {\"annotationdefaults\": {\"arrowcolor\": \"#2a3f5f\", \"arrowhead\": 0, \"arrowwidth\": 1}, \"coloraxis\": {\"colorbar\": {\"outlinewidth\": 0, \"ticks\": \"\"}}, \"colorscale\": {\"diverging\": [[0, \"#8e0152\"], [0.1, \"#c51b7d\"], [0.2, \"#de77ae\"], [0.3, \"#f1b6da\"], [0.4, \"#fde0ef\"], [0.5, \"#f7f7f7\"], [0.6, \"#e6f5d0\"], [0.7, \"#b8e186\"], [0.8, \"#7fbc41\"], [0.9, \"#4d9221\"], [1, \"#276419\"]], \"sequential\": [[0.0, \"#0d0887\"], [0.1111111111111111, \"#46039f\"], [0.2222222222222222, \"#7201a8\"], [0.3333333333333333, \"#9c179e\"], [0.4444444444444444, \"#bd3786\"], [0.5555555555555556, \"#d8576b\"], [0.6666666666666666, \"#ed7953\"], [0.7777777777777778, \"#fb9f3a\"], [0.8888888888888888, \"#fdca26\"], [1.0, \"#f0f921\"]], \"sequentialminus\": [[0.0, \"#0d0887\"], [0.1111111111111111, \"#46039f\"], [0.2222222222222222, \"#7201a8\"], [0.3333333333333333, \"#9c179e\"], [0.4444444444444444, \"#bd3786\"], [0.5555555555555556, \"#d8576b\"], [0.6666666666666666, \"#ed7953\"], [0.7777777777777778, \"#fb9f3a\"], [0.8888888888888888, \"#fdca26\"], [1.0, \"#f0f921\"]]}, \"colorway\": [\"#636efa\", \"#EF553B\", \"#00cc96\", \"#ab63fa\", \"#FFA15A\", \"#19d3f3\", \"#FF6692\", \"#B6E880\", \"#FF97FF\", \"#FECB52\"], \"font\": {\"color\": \"#2a3f5f\"}, \"geo\": {\"bgcolor\": \"white\", \"lakecolor\": \"white\", \"landcolor\": \"#E5ECF6\", \"showlakes\": true, \"showland\": true, \"subunitcolor\": \"white\"}, \"hoverlabel\": {\"align\": \"left\"}, \"hovermode\": \"closest\", \"mapbox\": {\"style\": \"light\"}, \"paper_bgcolor\": \"white\", \"plot_bgcolor\": \"#E5ECF6\", \"polar\": {\"angularaxis\": {\"gridcolor\": \"white\", \"linecolor\": \"white\", \"ticks\": \"\"}, \"bgcolor\": \"#E5ECF6\", \"radialaxis\": {\"gridcolor\": \"white\", \"linecolor\": \"white\", \"ticks\": \"\"}}, \"scene\": {\"xaxis\": {\"backgroundcolor\": \"#E5ECF6\", \"gridcolor\": \"white\", \"gridwidth\": 2, \"linecolor\": \"white\", \"showbackground\": true, \"ticks\": \"\", \"zerolinecolor\": \"white\"}, \"yaxis\": {\"backgroundcolor\": \"#E5ECF6\", \"gridcolor\": \"white\", \"gridwidth\": 2, \"linecolor\": \"white\", \"showbackground\": true, \"ticks\": \"\", \"zerolinecolor\": \"white\"}, \"zaxis\": {\"backgroundcolor\": \"#E5ECF6\", \"gridcolor\": \"white\", \"gridwidth\": 2, \"linecolor\": \"white\", \"showbackground\": true, \"ticks\": \"\", \"zerolinecolor\": \"white\"}}, \"shapedefaults\": {\"line\": {\"color\": \"#2a3f5f\"}}, \"ternary\": {\"aaxis\": {\"gridcolor\": \"white\", \"linecolor\": \"white\", \"ticks\": \"\"}, \"baxis\": {\"gridcolor\": \"white\", \"linecolor\": \"white\", \"ticks\": \"\"}, \"bgcolor\": \"#E5ECF6\", \"caxis\": {\"gridcolor\": \"white\", \"linecolor\": \"white\", \"ticks\": \"\"}}, \"title\": {\"x\": 0.05}, \"xaxis\": {\"automargin\": true, \"gridcolor\": \"white\", \"linecolor\": \"white\", \"ticks\": \"\", \"title\": {\"standoff\": 15}, \"zerolinecolor\": \"white\", \"zerolinewidth\": 2}, \"yaxis\": {\"automargin\": true, \"gridcolor\": \"white\", \"linecolor\": \"white\", \"ticks\": \"\", \"title\": {\"standoff\": 15}, \"zerolinecolor\": \"white\", \"zerolinewidth\": 2}}}, \"title\": {\"font\": {\"size\": 16}, \"text\": \"Mango Dataset Concept Lattice\"}, \"width\": 1000, \"xaxis\": {\"showgrid\": false, \"showticklabels\": false, \"zeroline\": false}, \"yaxis\": {\"showgrid\": false, \"showticklabels\": false, \"zeroline\": false}},\n",
       "                        {\"responsive\": true}\n",
       "                    ).then(function(){\n",
       "                            \n",
       "var gd = document.getElementById('f841232f-0c95-48d5-b39e-c9d8492a0077');\n",
       "var x = new MutationObserver(function (mutations, observer) {{\n",
       "        var display = window.getComputedStyle(gd).display;\n",
       "        if (!display || display === 'none') {{\n",
       "            console.log([gd, 'removed!']);\n",
       "            Plotly.purge(gd);\n",
       "            observer.disconnect();\n",
       "        }}\n",
       "}});\n",
       "\n",
       "// Listen for the removal of the full notebook cells\n",
       "var notebookContainer = gd.closest('#notebook-container');\n",
       "if (notebookContainer) {{\n",
       "    x.observe(notebookContainer, {childList: true});\n",
       "}}\n",
       "\n",
       "// Listen for the clearing of the current output cell\n",
       "var outputEl = gd.closest('.output');\n",
       "if (outputEl) {{\n",
       "    x.observe(outputEl, {childList: true});\n",
       "}}\n",
       "\n",
       "                        })\n",
       "                };\n",
       "                });\n",
       "            </script>\n",
       "        </div>"
      ]
     },
     "metadata": {},
     "output_type": "display_data"
    }
   ],
   "source": [
    "fig1.show()"
   ]
  },
  {
   "cell_type": "code",
   "execution_count": 206,
   "metadata": {},
   "outputs": [
    {
     "name": "stdout",
     "output_type": "stream",
     "text": [
      "0:  -> 0.75\n",
      "1: green -> 0.67\n",
      "2: oval -> 0.75\n",
      "3: round -> 1.00\n",
      "4: smooth -> 0.60\n",
      "5: white -> 0.50\n",
      "6: firm,smooth -> 0.00\n",
      "7: green,oval -> 1.00\n",
      "8: smooth,green -> 0.50\n",
      "9: smooth,oval -> 0.67\n",
      "10: smooth,blue,oval -> 1.00\n"
     ]
    }
   ],
   "source": [
    "for c in sorted(fm_mango._concepts, key=lambda c: c._idx):\n",
    "    print(f\"{c._idx}: {','.join(c._intent)} -> {c._y_pred_mean:.2f}\")"
   ]
  },
  {
   "cell_type": "code",
   "execution_count": 207,
   "metadata": {},
   "outputs": [],
   "source": [
    "improv_metric = 'y_pred'\n",
    "to_see = range(len(fm_mango._concepts)-1,0,-1)\n",
    "for c_id in to_see:\n",
    "    c = fm_mango.get_concept_by_id(c_id)\n",
    "    if len(c.get_extent())==0:\n",
    "        fm_mango.delete_concept(c_id)\n",
    "        continue\n",
    "\n",
    "    lns = c._low_neighbs\n",
    "    c_val = dict({'y_true':c._y_true_mean, 'y_pred':c._y_pred_mean}, **c._metrics)[improv_metric]\n",
    "    if len(lns)==0 and c_val not in [0,1]:\n",
    "        fm_mango.delete_concept(c_id)\n",
    "\n",
    "fm_mango.construct_lattice()"
   ]
  },
  {
   "cell_type": "code",
   "execution_count": 208,
   "metadata": {},
   "outputs": [],
   "source": [
    "fig2 = fm_mango.get_plotly_fig(level_sort='all', sort_by='y_pred',\n",
    "                        y_precision=2, title='Mango Dataset Concept Lattice', cbar_title='Mean fruit prediction',\n",
    "                        color_by='y_pred',)"
   ]
  },
  {
   "cell_type": "code",
   "execution_count": 209,
   "metadata": {},
   "outputs": [
    {
     "data": {
      "application/vnd.plotly.v1+json": {
       "config": {
        "plotlyServerURL": "https://plot.ly"
       },
       "data": [
        {
         "hoverinfo": "none",
         "line": {
          "color": "#888",
          "width": 0.5
         },
         "mode": "lines",
         "type": "scatter",
         "x": [
          0,
          0,
          null,
          -0.5,
          1,
          null,
          -0.5,
          0,
          null,
          0.5,
          1,
          null,
          0.5,
          0,
          null,
          0.5,
          0,
          null,
          -1,
          -1.5,
          null,
          0,
          -1.5,
          null,
          0,
          1.5,
          null,
          0,
          -1.5,
          null
         ],
         "y": [
          1,
          2,
          null,
          3,
          2,
          null,
          3,
          4,
          null,
          3,
          2,
          null,
          3,
          2,
          null,
          3,
          4,
          null,
          2,
          3,
          null,
          2,
          3,
          null,
          4,
          3,
          null,
          4,
          3,
          null
         ]
        },
        {
         "hoverinfo": "text",
         "hovertext": [
          "Concept 8<br>extent (len: 1): plum<br>intent (len: 3): smooth, blue, oval<br>new extent (len: 1): plum<br>new intent (len: 1): blue<br>mean_y_true: 1.0<br>mean_y_pred: 1.0<br>Metrics<br>\taccuracy: 1.0<br>\tprecision: 1.0<br>\trecall: 1.0<br>\tneg_precision: 0.0<br>\tneg_recall: 0.0<br><br>",
          "Concept 1<br>extent (len: 3): kiwi, toy cube, mango<br>intent (len: 1): green<br>new extent (len: 1): toy cube<br>new intent (len: 1): green<br>mean_y_true: 0.67<br>mean_y_pred: 0.67<br>Metrics<br>\taccuracy: 1.0<br>\tprecision: 1.0<br>\trecall: 1.0<br>\tneg_precision: 1.0<br>\tneg_recall: 1.0<br><br>",
          "Concept 2<br>extent (len: 4): kiwi, plum, egg, mango<br>intent (len: 1): oval<br>new extent (len: 0): emptyset<br>new intent (len: 1): oval<br>mean_y_true: 0.75<br>mean_y_pred: 0.75<br>Metrics<br>\taccuracy: 1.0<br>\tprecision: 1.0<br>\trecall: 1.0<br>\tneg_precision: 1.0<br>\tneg_recall: 1.0<br><br>",
          "Concept 5<br>extent (len: 2): toy cube, egg<br>intent (len: 2): firm, smooth<br>new extent (len: 2): egg, toy cube<br>new intent (len: 1): firm<br>mean_y_true: 0.0<br>mean_y_pred: 0.0<br>Metrics<br>\taccuracy: 1.0<br>\tprecision: 0.0<br>\trecall: 0.0<br>\tneg_precision: 1.0<br>\tneg_recall: 1.0<br><br>",
          "Concept 7<br>extent (len: 3): plum, egg, mango<br>intent (len: 2): smooth, oval<br>new extent (len: 2): egg, mango<br>new intent (len: 0): emptyset<br>mean_y_true: 0.67<br>mean_y_pred: 0.67<br>Metrics<br>\taccuracy: 1.0<br>\tprecision: 1.0<br>\trecall: 1.0<br>\tneg_precision: 1.0<br>\tneg_recall: 1.0<br><br>",
          "Concept 0<br>extent (len: 8): apple, grapefruit, kiwi, plum, toy cube, egg, tennis ball, mango<br>intent (len: 0): emptyset<br>new extent (len: 0): emptyset<br>new intent (len: 0): emptyset<br>mean_y_true: 0.62<br>mean_y_pred: 0.75<br>Metrics<br>\taccuracy: 0.88<br>\tprecision: 0.83<br>\trecall: 1.0<br>\tneg_precision: 1.0<br>\tneg_recall: 0.67<br><br>",
          "Concept 4<br>extent (len: 5): apple, plum, toy cube, egg, mango<br>intent (len: 1): smooth<br>new extent (len: 1): apple<br>new intent (len: 1): smooth<br>mean_y_true: 0.6<br>mean_y_pred: 0.6<br>Metrics<br>\taccuracy: 1.0<br>\tprecision: 1.0<br>\trecall: 1.0<br>\tneg_precision: 1.0<br>\tneg_recall: 1.0<br><br>",
          "Concept 3<br>extent (len: 3): apple, grapefruit, tennis ball<br>intent (len: 1): round<br>new extent (len: 3): grapefruit, tennis ball, apple<br>new intent (len: 1): round<br>mean_y_true: 0.67<br>mean_y_pred: 1.0<br>Metrics<br>\taccuracy: 0.67<br>\tprecision: 0.67<br>\trecall: 1.0<br>\tneg_precision: 0.0<br>\tneg_recall: 0.0<br><br>",
          "Concept 6<br>extent (len: 2): kiwi, mango<br>intent (len: 2): green, oval<br>new extent (len: 2): kiwi, mango<br>new intent (len: 0): emptyset<br>mean_y_true: 1.0<br>mean_y_pred: 1.0<br>Metrics<br>\taccuracy: 1.0<br>\tprecision: 1.0<br>\trecall: 1.0<br>\tneg_precision: 0.0<br>\tneg_recall: 0.0<br><br>"
         ],
         "marker": {
          "color": [
           1,
           0.6666666666666666,
           0.75,
           0,
           0.6666666666666666,
           0.75,
           0.6,
           1,
           1
          ],
          "colorbar": {
           "thickness": 15,
           "title": {
            "side": "right",
            "text": "Mean fruit prediction"
           },
           "xanchor": "left"
          },
          "colorscale": [
           [
            0,
            "rgb(103,0,31)"
           ],
           [
            0.1,
            "rgb(178,24,43)"
           ],
           [
            0.2,
            "rgb(214,96,77)"
           ],
           [
            0.3,
            "rgb(244,165,130)"
           ],
           [
            0.4,
            "rgb(253,219,199)"
           ],
           [
            0.5,
            "rgb(247,247,247)"
           ],
           [
            0.6,
            "rgb(209,229,240)"
           ],
           [
            0.7,
            "rgb(146,197,222)"
           ],
           [
            0.8,
            "rgb(67,147,195)"
           ],
           [
            0.9,
            "rgb(33,102,172)"
           ],
           [
            1,
            "rgb(5,48,97)"
           ]
          ],
          "line": {
           "width": 2
          },
          "reversescale": true,
          "showscale": true,
          "size": 10
         },
         "mode": "markers+text",
         "text": [
          "blue<br>plum",
          "green<br>toy cube",
          "oval<br>",
          "firm<br>egg,toy cube",
          "<br>egg,mango",
          "<br>",
          "smooth<br>apple",
          "round<br>grapefruit,tennis ball,apple",
          "<br>kiwi,mango"
         ],
         "textposition": "middle right",
         "type": "scatter",
         "x": [
          0,
          -0.5,
          0.5,
          -1,
          0,
          0,
          -1.5,
          1.5,
          1
         ],
         "y": [
          1,
          3,
          3,
          2,
          2,
          4,
          3,
          3,
          2
         ]
        }
       ],
       "layout": {
        "height": 500,
        "hovermode": "closest",
        "margin": {
         "b": 20,
         "l": 5,
         "r": 5,
         "t": 40
        },
        "showlegend": false,
        "template": {
         "data": {
          "bar": [
           {
            "error_x": {
             "color": "#2a3f5f"
            },
            "error_y": {
             "color": "#2a3f5f"
            },
            "marker": {
             "line": {
              "color": "#E5ECF6",
              "width": 0.5
             }
            },
            "type": "bar"
           }
          ],
          "barpolar": [
           {
            "marker": {
             "line": {
              "color": "#E5ECF6",
              "width": 0.5
             }
            },
            "type": "barpolar"
           }
          ],
          "carpet": [
           {
            "aaxis": {
             "endlinecolor": "#2a3f5f",
             "gridcolor": "white",
             "linecolor": "white",
             "minorgridcolor": "white",
             "startlinecolor": "#2a3f5f"
            },
            "baxis": {
             "endlinecolor": "#2a3f5f",
             "gridcolor": "white",
             "linecolor": "white",
             "minorgridcolor": "white",
             "startlinecolor": "#2a3f5f"
            },
            "type": "carpet"
           }
          ],
          "choropleth": [
           {
            "colorbar": {
             "outlinewidth": 0,
             "ticks": ""
            },
            "type": "choropleth"
           }
          ],
          "contour": [
           {
            "colorbar": {
             "outlinewidth": 0,
             "ticks": ""
            },
            "colorscale": [
             [
              0,
              "#0d0887"
             ],
             [
              0.1111111111111111,
              "#46039f"
             ],
             [
              0.2222222222222222,
              "#7201a8"
             ],
             [
              0.3333333333333333,
              "#9c179e"
             ],
             [
              0.4444444444444444,
              "#bd3786"
             ],
             [
              0.5555555555555556,
              "#d8576b"
             ],
             [
              0.6666666666666666,
              "#ed7953"
             ],
             [
              0.7777777777777778,
              "#fb9f3a"
             ],
             [
              0.8888888888888888,
              "#fdca26"
             ],
             [
              1,
              "#f0f921"
             ]
            ],
            "type": "contour"
           }
          ],
          "contourcarpet": [
           {
            "colorbar": {
             "outlinewidth": 0,
             "ticks": ""
            },
            "type": "contourcarpet"
           }
          ],
          "heatmap": [
           {
            "colorbar": {
             "outlinewidth": 0,
             "ticks": ""
            },
            "colorscale": [
             [
              0,
              "#0d0887"
             ],
             [
              0.1111111111111111,
              "#46039f"
             ],
             [
              0.2222222222222222,
              "#7201a8"
             ],
             [
              0.3333333333333333,
              "#9c179e"
             ],
             [
              0.4444444444444444,
              "#bd3786"
             ],
             [
              0.5555555555555556,
              "#d8576b"
             ],
             [
              0.6666666666666666,
              "#ed7953"
             ],
             [
              0.7777777777777778,
              "#fb9f3a"
             ],
             [
              0.8888888888888888,
              "#fdca26"
             ],
             [
              1,
              "#f0f921"
             ]
            ],
            "type": "heatmap"
           }
          ],
          "heatmapgl": [
           {
            "colorbar": {
             "outlinewidth": 0,
             "ticks": ""
            },
            "colorscale": [
             [
              0,
              "#0d0887"
             ],
             [
              0.1111111111111111,
              "#46039f"
             ],
             [
              0.2222222222222222,
              "#7201a8"
             ],
             [
              0.3333333333333333,
              "#9c179e"
             ],
             [
              0.4444444444444444,
              "#bd3786"
             ],
             [
              0.5555555555555556,
              "#d8576b"
             ],
             [
              0.6666666666666666,
              "#ed7953"
             ],
             [
              0.7777777777777778,
              "#fb9f3a"
             ],
             [
              0.8888888888888888,
              "#fdca26"
             ],
             [
              1,
              "#f0f921"
             ]
            ],
            "type": "heatmapgl"
           }
          ],
          "histogram": [
           {
            "marker": {
             "colorbar": {
              "outlinewidth": 0,
              "ticks": ""
             }
            },
            "type": "histogram"
           }
          ],
          "histogram2d": [
           {
            "colorbar": {
             "outlinewidth": 0,
             "ticks": ""
            },
            "colorscale": [
             [
              0,
              "#0d0887"
             ],
             [
              0.1111111111111111,
              "#46039f"
             ],
             [
              0.2222222222222222,
              "#7201a8"
             ],
             [
              0.3333333333333333,
              "#9c179e"
             ],
             [
              0.4444444444444444,
              "#bd3786"
             ],
             [
              0.5555555555555556,
              "#d8576b"
             ],
             [
              0.6666666666666666,
              "#ed7953"
             ],
             [
              0.7777777777777778,
              "#fb9f3a"
             ],
             [
              0.8888888888888888,
              "#fdca26"
             ],
             [
              1,
              "#f0f921"
             ]
            ],
            "type": "histogram2d"
           }
          ],
          "histogram2dcontour": [
           {
            "colorbar": {
             "outlinewidth": 0,
             "ticks": ""
            },
            "colorscale": [
             [
              0,
              "#0d0887"
             ],
             [
              0.1111111111111111,
              "#46039f"
             ],
             [
              0.2222222222222222,
              "#7201a8"
             ],
             [
              0.3333333333333333,
              "#9c179e"
             ],
             [
              0.4444444444444444,
              "#bd3786"
             ],
             [
              0.5555555555555556,
              "#d8576b"
             ],
             [
              0.6666666666666666,
              "#ed7953"
             ],
             [
              0.7777777777777778,
              "#fb9f3a"
             ],
             [
              0.8888888888888888,
              "#fdca26"
             ],
             [
              1,
              "#f0f921"
             ]
            ],
            "type": "histogram2dcontour"
           }
          ],
          "mesh3d": [
           {
            "colorbar": {
             "outlinewidth": 0,
             "ticks": ""
            },
            "type": "mesh3d"
           }
          ],
          "parcoords": [
           {
            "line": {
             "colorbar": {
              "outlinewidth": 0,
              "ticks": ""
             }
            },
            "type": "parcoords"
           }
          ],
          "pie": [
           {
            "automargin": true,
            "type": "pie"
           }
          ],
          "scatter": [
           {
            "marker": {
             "colorbar": {
              "outlinewidth": 0,
              "ticks": ""
             }
            },
            "type": "scatter"
           }
          ],
          "scatter3d": [
           {
            "line": {
             "colorbar": {
              "outlinewidth": 0,
              "ticks": ""
             }
            },
            "marker": {
             "colorbar": {
              "outlinewidth": 0,
              "ticks": ""
             }
            },
            "type": "scatter3d"
           }
          ],
          "scattercarpet": [
           {
            "marker": {
             "colorbar": {
              "outlinewidth": 0,
              "ticks": ""
             }
            },
            "type": "scattercarpet"
           }
          ],
          "scattergeo": [
           {
            "marker": {
             "colorbar": {
              "outlinewidth": 0,
              "ticks": ""
             }
            },
            "type": "scattergeo"
           }
          ],
          "scattergl": [
           {
            "marker": {
             "colorbar": {
              "outlinewidth": 0,
              "ticks": ""
             }
            },
            "type": "scattergl"
           }
          ],
          "scattermapbox": [
           {
            "marker": {
             "colorbar": {
              "outlinewidth": 0,
              "ticks": ""
             }
            },
            "type": "scattermapbox"
           }
          ],
          "scatterpolar": [
           {
            "marker": {
             "colorbar": {
              "outlinewidth": 0,
              "ticks": ""
             }
            },
            "type": "scatterpolar"
           }
          ],
          "scatterpolargl": [
           {
            "marker": {
             "colorbar": {
              "outlinewidth": 0,
              "ticks": ""
             }
            },
            "type": "scatterpolargl"
           }
          ],
          "scatterternary": [
           {
            "marker": {
             "colorbar": {
              "outlinewidth": 0,
              "ticks": ""
             }
            },
            "type": "scatterternary"
           }
          ],
          "surface": [
           {
            "colorbar": {
             "outlinewidth": 0,
             "ticks": ""
            },
            "colorscale": [
             [
              0,
              "#0d0887"
             ],
             [
              0.1111111111111111,
              "#46039f"
             ],
             [
              0.2222222222222222,
              "#7201a8"
             ],
             [
              0.3333333333333333,
              "#9c179e"
             ],
             [
              0.4444444444444444,
              "#bd3786"
             ],
             [
              0.5555555555555556,
              "#d8576b"
             ],
             [
              0.6666666666666666,
              "#ed7953"
             ],
             [
              0.7777777777777778,
              "#fb9f3a"
             ],
             [
              0.8888888888888888,
              "#fdca26"
             ],
             [
              1,
              "#f0f921"
             ]
            ],
            "type": "surface"
           }
          ],
          "table": [
           {
            "cells": {
             "fill": {
              "color": "#EBF0F8"
             },
             "line": {
              "color": "white"
             }
            },
            "header": {
             "fill": {
              "color": "#C8D4E3"
             },
             "line": {
              "color": "white"
             }
            },
            "type": "table"
           }
          ]
         },
         "layout": {
          "annotationdefaults": {
           "arrowcolor": "#2a3f5f",
           "arrowhead": 0,
           "arrowwidth": 1
          },
          "coloraxis": {
           "colorbar": {
            "outlinewidth": 0,
            "ticks": ""
           }
          },
          "colorscale": {
           "diverging": [
            [
             0,
             "#8e0152"
            ],
            [
             0.1,
             "#c51b7d"
            ],
            [
             0.2,
             "#de77ae"
            ],
            [
             0.3,
             "#f1b6da"
            ],
            [
             0.4,
             "#fde0ef"
            ],
            [
             0.5,
             "#f7f7f7"
            ],
            [
             0.6,
             "#e6f5d0"
            ],
            [
             0.7,
             "#b8e186"
            ],
            [
             0.8,
             "#7fbc41"
            ],
            [
             0.9,
             "#4d9221"
            ],
            [
             1,
             "#276419"
            ]
           ],
           "sequential": [
            [
             0,
             "#0d0887"
            ],
            [
             0.1111111111111111,
             "#46039f"
            ],
            [
             0.2222222222222222,
             "#7201a8"
            ],
            [
             0.3333333333333333,
             "#9c179e"
            ],
            [
             0.4444444444444444,
             "#bd3786"
            ],
            [
             0.5555555555555556,
             "#d8576b"
            ],
            [
             0.6666666666666666,
             "#ed7953"
            ],
            [
             0.7777777777777778,
             "#fb9f3a"
            ],
            [
             0.8888888888888888,
             "#fdca26"
            ],
            [
             1,
             "#f0f921"
            ]
           ],
           "sequentialminus": [
            [
             0,
             "#0d0887"
            ],
            [
             0.1111111111111111,
             "#46039f"
            ],
            [
             0.2222222222222222,
             "#7201a8"
            ],
            [
             0.3333333333333333,
             "#9c179e"
            ],
            [
             0.4444444444444444,
             "#bd3786"
            ],
            [
             0.5555555555555556,
             "#d8576b"
            ],
            [
             0.6666666666666666,
             "#ed7953"
            ],
            [
             0.7777777777777778,
             "#fb9f3a"
            ],
            [
             0.8888888888888888,
             "#fdca26"
            ],
            [
             1,
             "#f0f921"
            ]
           ]
          },
          "colorway": [
           "#636efa",
           "#EF553B",
           "#00cc96",
           "#ab63fa",
           "#FFA15A",
           "#19d3f3",
           "#FF6692",
           "#B6E880",
           "#FF97FF",
           "#FECB52"
          ],
          "font": {
           "color": "#2a3f5f"
          },
          "geo": {
           "bgcolor": "white",
           "lakecolor": "white",
           "landcolor": "#E5ECF6",
           "showlakes": true,
           "showland": true,
           "subunitcolor": "white"
          },
          "hoverlabel": {
           "align": "left"
          },
          "hovermode": "closest",
          "mapbox": {
           "style": "light"
          },
          "paper_bgcolor": "white",
          "plot_bgcolor": "#E5ECF6",
          "polar": {
           "angularaxis": {
            "gridcolor": "white",
            "linecolor": "white",
            "ticks": ""
           },
           "bgcolor": "#E5ECF6",
           "radialaxis": {
            "gridcolor": "white",
            "linecolor": "white",
            "ticks": ""
           }
          },
          "scene": {
           "xaxis": {
            "backgroundcolor": "#E5ECF6",
            "gridcolor": "white",
            "gridwidth": 2,
            "linecolor": "white",
            "showbackground": true,
            "ticks": "",
            "zerolinecolor": "white"
           },
           "yaxis": {
            "backgroundcolor": "#E5ECF6",
            "gridcolor": "white",
            "gridwidth": 2,
            "linecolor": "white",
            "showbackground": true,
            "ticks": "",
            "zerolinecolor": "white"
           },
           "zaxis": {
            "backgroundcolor": "#E5ECF6",
            "gridcolor": "white",
            "gridwidth": 2,
            "linecolor": "white",
            "showbackground": true,
            "ticks": "",
            "zerolinecolor": "white"
           }
          },
          "shapedefaults": {
           "line": {
            "color": "#2a3f5f"
           }
          },
          "ternary": {
           "aaxis": {
            "gridcolor": "white",
            "linecolor": "white",
            "ticks": ""
           },
           "baxis": {
            "gridcolor": "white",
            "linecolor": "white",
            "ticks": ""
           },
           "bgcolor": "#E5ECF6",
           "caxis": {
            "gridcolor": "white",
            "linecolor": "white",
            "ticks": ""
           }
          },
          "title": {
           "x": 0.05
          },
          "xaxis": {
           "automargin": true,
           "gridcolor": "white",
           "linecolor": "white",
           "ticks": "",
           "title": {
            "standoff": 15
           },
           "zerolinecolor": "white",
           "zerolinewidth": 2
          },
          "yaxis": {
           "automargin": true,
           "gridcolor": "white",
           "linecolor": "white",
           "ticks": "",
           "title": {
            "standoff": 15
           },
           "zerolinecolor": "white",
           "zerolinewidth": 2
          }
         }
        },
        "title": {
         "font": {
          "size": 16
         },
         "text": "Mango Dataset Concept Lattice"
        },
        "width": 1000,
        "xaxis": {
         "showgrid": false,
         "showticklabels": false,
         "zeroline": false
        },
        "yaxis": {
         "showgrid": false,
         "showticklabels": false,
         "zeroline": false
        }
       }
      },
      "text/html": [
       "<div>\n",
       "        \n",
       "        \n",
       "            <div id=\"1ecae2d0-9daa-4ef3-a428-c3c234c7347f\" class=\"plotly-graph-div\" style=\"height:500px; width:1000px;\"></div>\n",
       "            <script type=\"text/javascript\">\n",
       "                require([\"plotly\"], function(Plotly) {\n",
       "                    window.PLOTLYENV=window.PLOTLYENV || {};\n",
       "                    \n",
       "                if (document.getElementById(\"1ecae2d0-9daa-4ef3-a428-c3c234c7347f\")) {\n",
       "                    Plotly.newPlot(\n",
       "                        '1ecae2d0-9daa-4ef3-a428-c3c234c7347f',\n",
       "                        [{\"hoverinfo\": \"none\", \"line\": {\"color\": \"#888\", \"width\": 0.5}, \"mode\": \"lines\", \"type\": \"scatter\", \"x\": [0.0, 0.0, null, -0.5, 1.0, null, -0.5, 0.0, null, 0.5, 1.0, null, 0.5, 0.0, null, 0.5, 0.0, null, -1.0, -1.5, null, 0.0, -1.5, null, 0.0, 1.5, null, 0.0, -1.5, null], \"y\": [1, 2, null, 3, 2, null, 3, 4, null, 3, 2, null, 3, 2, null, 3, 4, null, 2, 3, null, 2, 3, null, 4, 3, null, 4, 3, null]}, {\"hoverinfo\": \"text\", \"hovertext\": [\"Concept 8<br>extent (len: 1): plum<br>intent (len: 3): smooth, blue, oval<br>new extent (len: 1): plum<br>new intent (len: 1): blue<br>mean_y_true: 1.0<br>mean_y_pred: 1.0<br>Metrics<br>\\taccuracy: 1.0<br>\\tprecision: 1.0<br>\\trecall: 1.0<br>\\tneg_precision: 0.0<br>\\tneg_recall: 0.0<br><br>\", \"Concept 1<br>extent (len: 3): kiwi, toy cube, mango<br>intent (len: 1): green<br>new extent (len: 1): toy cube<br>new intent (len: 1): green<br>mean_y_true: 0.67<br>mean_y_pred: 0.67<br>Metrics<br>\\taccuracy: 1.0<br>\\tprecision: 1.0<br>\\trecall: 1.0<br>\\tneg_precision: 1.0<br>\\tneg_recall: 1.0<br><br>\", \"Concept 2<br>extent (len: 4): kiwi, plum, egg, mango<br>intent (len: 1): oval<br>new extent (len: 0): emptyset<br>new intent (len: 1): oval<br>mean_y_true: 0.75<br>mean_y_pred: 0.75<br>Metrics<br>\\taccuracy: 1.0<br>\\tprecision: 1.0<br>\\trecall: 1.0<br>\\tneg_precision: 1.0<br>\\tneg_recall: 1.0<br><br>\", \"Concept 5<br>extent (len: 2): toy cube, egg<br>intent (len: 2): firm, smooth<br>new extent (len: 2): egg, toy cube<br>new intent (len: 1): firm<br>mean_y_true: 0.0<br>mean_y_pred: 0.0<br>Metrics<br>\\taccuracy: 1.0<br>\\tprecision: 0.0<br>\\trecall: 0.0<br>\\tneg_precision: 1.0<br>\\tneg_recall: 1.0<br><br>\", \"Concept 7<br>extent (len: 3): plum, egg, mango<br>intent (len: 2): smooth, oval<br>new extent (len: 2): egg, mango<br>new intent (len: 0): emptyset<br>mean_y_true: 0.67<br>mean_y_pred: 0.67<br>Metrics<br>\\taccuracy: 1.0<br>\\tprecision: 1.0<br>\\trecall: 1.0<br>\\tneg_precision: 1.0<br>\\tneg_recall: 1.0<br><br>\", \"Concept 0<br>extent (len: 8): apple, grapefruit, kiwi, plum, toy cube, egg, tennis ball, mango<br>intent (len: 0): emptyset<br>new extent (len: 0): emptyset<br>new intent (len: 0): emptyset<br>mean_y_true: 0.62<br>mean_y_pred: 0.75<br>Metrics<br>\\taccuracy: 0.88<br>\\tprecision: 0.83<br>\\trecall: 1.0<br>\\tneg_precision: 1.0<br>\\tneg_recall: 0.67<br><br>\", \"Concept 4<br>extent (len: 5): apple, plum, toy cube, egg, mango<br>intent (len: 1): smooth<br>new extent (len: 1): apple<br>new intent (len: 1): smooth<br>mean_y_true: 0.6<br>mean_y_pred: 0.6<br>Metrics<br>\\taccuracy: 1.0<br>\\tprecision: 1.0<br>\\trecall: 1.0<br>\\tneg_precision: 1.0<br>\\tneg_recall: 1.0<br><br>\", \"Concept 3<br>extent (len: 3): apple, grapefruit, tennis ball<br>intent (len: 1): round<br>new extent (len: 3): grapefruit, tennis ball, apple<br>new intent (len: 1): round<br>mean_y_true: 0.67<br>mean_y_pred: 1.0<br>Metrics<br>\\taccuracy: 0.67<br>\\tprecision: 0.67<br>\\trecall: 1.0<br>\\tneg_precision: 0.0<br>\\tneg_recall: 0.0<br><br>\", \"Concept 6<br>extent (len: 2): kiwi, mango<br>intent (len: 2): green, oval<br>new extent (len: 2): kiwi, mango<br>new intent (len: 0): emptyset<br>mean_y_true: 1.0<br>mean_y_pred: 1.0<br>Metrics<br>\\taccuracy: 1.0<br>\\tprecision: 1.0<br>\\trecall: 1.0<br>\\tneg_precision: 0.0<br>\\tneg_recall: 0.0<br><br>\"], \"marker\": {\"color\": [1.0, 0.6666666666666666, 0.75, 0.0, 0.6666666666666666, 0.75, 0.6, 1.0, 1.0], \"colorbar\": {\"thickness\": 15, \"title\": {\"side\": \"right\", \"text\": \"Mean fruit prediction\"}, \"xanchor\": \"left\"}, \"colorscale\": [[0.0, \"rgb(103,0,31)\"], [0.1, \"rgb(178,24,43)\"], [0.2, \"rgb(214,96,77)\"], [0.3, \"rgb(244,165,130)\"], [0.4, \"rgb(253,219,199)\"], [0.5, \"rgb(247,247,247)\"], [0.6, \"rgb(209,229,240)\"], [0.7, \"rgb(146,197,222)\"], [0.8, \"rgb(67,147,195)\"], [0.9, \"rgb(33,102,172)\"], [1.0, \"rgb(5,48,97)\"]], \"line\": {\"width\": 2}, \"reversescale\": true, \"showscale\": true, \"size\": 10}, \"mode\": \"markers+text\", \"text\": [\"blue<br>plum\", \"green<br>toy cube\", \"oval<br>\", \"firm<br>egg,toy cube\", \"<br>egg,mango\", \"<br>\", \"smooth<br>apple\", \"round<br>grapefruit,tennis ball,apple\", \"<br>kiwi,mango\"], \"textposition\": \"middle right\", \"type\": \"scatter\", \"x\": [0.0, -0.5, 0.5, -1.0, 0.0, 0.0, -1.5, 1.5, 1.0], \"y\": [1, 3, 3, 2, 2, 4, 3, 3, 2]}],\n",
       "                        {\"height\": 500, \"hovermode\": \"closest\", \"margin\": {\"b\": 20, \"l\": 5, \"r\": 5, \"t\": 40}, \"showlegend\": false, \"template\": {\"data\": {\"bar\": [{\"error_x\": {\"color\": \"#2a3f5f\"}, \"error_y\": {\"color\": \"#2a3f5f\"}, \"marker\": {\"line\": {\"color\": \"#E5ECF6\", \"width\": 0.5}}, \"type\": \"bar\"}], \"barpolar\": [{\"marker\": {\"line\": {\"color\": \"#E5ECF6\", \"width\": 0.5}}, \"type\": \"barpolar\"}], \"carpet\": [{\"aaxis\": {\"endlinecolor\": \"#2a3f5f\", \"gridcolor\": \"white\", \"linecolor\": \"white\", \"minorgridcolor\": \"white\", \"startlinecolor\": \"#2a3f5f\"}, \"baxis\": {\"endlinecolor\": \"#2a3f5f\", \"gridcolor\": \"white\", \"linecolor\": \"white\", \"minorgridcolor\": \"white\", \"startlinecolor\": \"#2a3f5f\"}, \"type\": \"carpet\"}], \"choropleth\": [{\"colorbar\": {\"outlinewidth\": 0, \"ticks\": \"\"}, \"type\": \"choropleth\"}], \"contour\": [{\"colorbar\": {\"outlinewidth\": 0, \"ticks\": \"\"}, \"colorscale\": [[0.0, \"#0d0887\"], [0.1111111111111111, \"#46039f\"], [0.2222222222222222, \"#7201a8\"], [0.3333333333333333, \"#9c179e\"], [0.4444444444444444, \"#bd3786\"], [0.5555555555555556, \"#d8576b\"], [0.6666666666666666, \"#ed7953\"], [0.7777777777777778, \"#fb9f3a\"], [0.8888888888888888, \"#fdca26\"], [1.0, \"#f0f921\"]], \"type\": \"contour\"}], \"contourcarpet\": [{\"colorbar\": {\"outlinewidth\": 0, \"ticks\": \"\"}, \"type\": \"contourcarpet\"}], \"heatmap\": [{\"colorbar\": {\"outlinewidth\": 0, \"ticks\": \"\"}, \"colorscale\": [[0.0, \"#0d0887\"], [0.1111111111111111, \"#46039f\"], [0.2222222222222222, \"#7201a8\"], [0.3333333333333333, \"#9c179e\"], [0.4444444444444444, \"#bd3786\"], [0.5555555555555556, \"#d8576b\"], [0.6666666666666666, \"#ed7953\"], [0.7777777777777778, \"#fb9f3a\"], [0.8888888888888888, \"#fdca26\"], [1.0, \"#f0f921\"]], \"type\": \"heatmap\"}], \"heatmapgl\": [{\"colorbar\": {\"outlinewidth\": 0, \"ticks\": \"\"}, \"colorscale\": [[0.0, \"#0d0887\"], [0.1111111111111111, \"#46039f\"], [0.2222222222222222, \"#7201a8\"], [0.3333333333333333, \"#9c179e\"], [0.4444444444444444, \"#bd3786\"], [0.5555555555555556, \"#d8576b\"], [0.6666666666666666, \"#ed7953\"], [0.7777777777777778, \"#fb9f3a\"], [0.8888888888888888, \"#fdca26\"], [1.0, \"#f0f921\"]], \"type\": \"heatmapgl\"}], \"histogram\": [{\"marker\": {\"colorbar\": {\"outlinewidth\": 0, \"ticks\": \"\"}}, \"type\": \"histogram\"}], \"histogram2d\": [{\"colorbar\": {\"outlinewidth\": 0, \"ticks\": \"\"}, \"colorscale\": [[0.0, \"#0d0887\"], [0.1111111111111111, \"#46039f\"], [0.2222222222222222, \"#7201a8\"], [0.3333333333333333, \"#9c179e\"], [0.4444444444444444, \"#bd3786\"], [0.5555555555555556, \"#d8576b\"], [0.6666666666666666, \"#ed7953\"], [0.7777777777777778, \"#fb9f3a\"], [0.8888888888888888, \"#fdca26\"], [1.0, \"#f0f921\"]], \"type\": \"histogram2d\"}], \"histogram2dcontour\": [{\"colorbar\": {\"outlinewidth\": 0, \"ticks\": \"\"}, \"colorscale\": [[0.0, \"#0d0887\"], [0.1111111111111111, \"#46039f\"], [0.2222222222222222, \"#7201a8\"], [0.3333333333333333, \"#9c179e\"], [0.4444444444444444, \"#bd3786\"], [0.5555555555555556, \"#d8576b\"], [0.6666666666666666, \"#ed7953\"], [0.7777777777777778, \"#fb9f3a\"], [0.8888888888888888, \"#fdca26\"], [1.0, \"#f0f921\"]], \"type\": \"histogram2dcontour\"}], \"mesh3d\": [{\"colorbar\": {\"outlinewidth\": 0, \"ticks\": \"\"}, \"type\": \"mesh3d\"}], \"parcoords\": [{\"line\": {\"colorbar\": {\"outlinewidth\": 0, \"ticks\": \"\"}}, \"type\": \"parcoords\"}], \"pie\": [{\"automargin\": true, \"type\": \"pie\"}], \"scatter\": [{\"marker\": {\"colorbar\": {\"outlinewidth\": 0, \"ticks\": \"\"}}, \"type\": \"scatter\"}], \"scatter3d\": [{\"line\": {\"colorbar\": {\"outlinewidth\": 0, \"ticks\": \"\"}}, \"marker\": {\"colorbar\": {\"outlinewidth\": 0, \"ticks\": \"\"}}, \"type\": \"scatter3d\"}], \"scattercarpet\": [{\"marker\": {\"colorbar\": {\"outlinewidth\": 0, \"ticks\": \"\"}}, \"type\": \"scattercarpet\"}], \"scattergeo\": [{\"marker\": {\"colorbar\": {\"outlinewidth\": 0, \"ticks\": \"\"}}, \"type\": \"scattergeo\"}], \"scattergl\": [{\"marker\": {\"colorbar\": {\"outlinewidth\": 0, \"ticks\": \"\"}}, \"type\": \"scattergl\"}], \"scattermapbox\": [{\"marker\": {\"colorbar\": {\"outlinewidth\": 0, \"ticks\": \"\"}}, \"type\": \"scattermapbox\"}], \"scatterpolar\": [{\"marker\": {\"colorbar\": {\"outlinewidth\": 0, \"ticks\": \"\"}}, \"type\": \"scatterpolar\"}], \"scatterpolargl\": [{\"marker\": {\"colorbar\": {\"outlinewidth\": 0, \"ticks\": \"\"}}, \"type\": \"scatterpolargl\"}], \"scatterternary\": [{\"marker\": {\"colorbar\": {\"outlinewidth\": 0, \"ticks\": \"\"}}, \"type\": \"scatterternary\"}], \"surface\": [{\"colorbar\": {\"outlinewidth\": 0, \"ticks\": \"\"}, \"colorscale\": [[0.0, \"#0d0887\"], [0.1111111111111111, \"#46039f\"], [0.2222222222222222, \"#7201a8\"], [0.3333333333333333, \"#9c179e\"], [0.4444444444444444, \"#bd3786\"], [0.5555555555555556, \"#d8576b\"], [0.6666666666666666, \"#ed7953\"], [0.7777777777777778, \"#fb9f3a\"], [0.8888888888888888, \"#fdca26\"], [1.0, \"#f0f921\"]], \"type\": \"surface\"}], \"table\": [{\"cells\": {\"fill\": {\"color\": \"#EBF0F8\"}, \"line\": {\"color\": \"white\"}}, \"header\": {\"fill\": {\"color\": \"#C8D4E3\"}, \"line\": {\"color\": \"white\"}}, \"type\": \"table\"}]}, \"layout\": {\"annotationdefaults\": {\"arrowcolor\": \"#2a3f5f\", \"arrowhead\": 0, \"arrowwidth\": 1}, \"coloraxis\": {\"colorbar\": {\"outlinewidth\": 0, \"ticks\": \"\"}}, \"colorscale\": {\"diverging\": [[0, \"#8e0152\"], [0.1, \"#c51b7d\"], [0.2, \"#de77ae\"], [0.3, \"#f1b6da\"], [0.4, \"#fde0ef\"], [0.5, \"#f7f7f7\"], [0.6, \"#e6f5d0\"], [0.7, \"#b8e186\"], [0.8, \"#7fbc41\"], [0.9, \"#4d9221\"], [1, \"#276419\"]], \"sequential\": [[0.0, \"#0d0887\"], [0.1111111111111111, \"#46039f\"], [0.2222222222222222, \"#7201a8\"], [0.3333333333333333, \"#9c179e\"], [0.4444444444444444, \"#bd3786\"], [0.5555555555555556, \"#d8576b\"], [0.6666666666666666, \"#ed7953\"], [0.7777777777777778, \"#fb9f3a\"], [0.8888888888888888, \"#fdca26\"], [1.0, \"#f0f921\"]], \"sequentialminus\": [[0.0, \"#0d0887\"], [0.1111111111111111, \"#46039f\"], [0.2222222222222222, \"#7201a8\"], [0.3333333333333333, \"#9c179e\"], [0.4444444444444444, \"#bd3786\"], [0.5555555555555556, \"#d8576b\"], [0.6666666666666666, \"#ed7953\"], [0.7777777777777778, \"#fb9f3a\"], [0.8888888888888888, \"#fdca26\"], [1.0, \"#f0f921\"]]}, \"colorway\": [\"#636efa\", \"#EF553B\", \"#00cc96\", \"#ab63fa\", \"#FFA15A\", \"#19d3f3\", \"#FF6692\", \"#B6E880\", \"#FF97FF\", \"#FECB52\"], \"font\": {\"color\": \"#2a3f5f\"}, \"geo\": {\"bgcolor\": \"white\", \"lakecolor\": \"white\", \"landcolor\": \"#E5ECF6\", \"showlakes\": true, \"showland\": true, \"subunitcolor\": \"white\"}, \"hoverlabel\": {\"align\": \"left\"}, \"hovermode\": \"closest\", \"mapbox\": {\"style\": \"light\"}, \"paper_bgcolor\": \"white\", \"plot_bgcolor\": \"#E5ECF6\", \"polar\": {\"angularaxis\": {\"gridcolor\": \"white\", \"linecolor\": \"white\", \"ticks\": \"\"}, \"bgcolor\": \"#E5ECF6\", \"radialaxis\": {\"gridcolor\": \"white\", \"linecolor\": \"white\", \"ticks\": \"\"}}, \"scene\": {\"xaxis\": {\"backgroundcolor\": \"#E5ECF6\", \"gridcolor\": \"white\", \"gridwidth\": 2, \"linecolor\": \"white\", \"showbackground\": true, \"ticks\": \"\", \"zerolinecolor\": \"white\"}, \"yaxis\": {\"backgroundcolor\": \"#E5ECF6\", \"gridcolor\": \"white\", \"gridwidth\": 2, \"linecolor\": \"white\", \"showbackground\": true, \"ticks\": \"\", \"zerolinecolor\": \"white\"}, \"zaxis\": {\"backgroundcolor\": \"#E5ECF6\", \"gridcolor\": \"white\", \"gridwidth\": 2, \"linecolor\": \"white\", \"showbackground\": true, \"ticks\": \"\", \"zerolinecolor\": \"white\"}}, \"shapedefaults\": {\"line\": {\"color\": \"#2a3f5f\"}}, \"ternary\": {\"aaxis\": {\"gridcolor\": \"white\", \"linecolor\": \"white\", \"ticks\": \"\"}, \"baxis\": {\"gridcolor\": \"white\", \"linecolor\": \"white\", \"ticks\": \"\"}, \"bgcolor\": \"#E5ECF6\", \"caxis\": {\"gridcolor\": \"white\", \"linecolor\": \"white\", \"ticks\": \"\"}}, \"title\": {\"x\": 0.05}, \"xaxis\": {\"automargin\": true, \"gridcolor\": \"white\", \"linecolor\": \"white\", \"ticks\": \"\", \"title\": {\"standoff\": 15}, \"zerolinecolor\": \"white\", \"zerolinewidth\": 2}, \"yaxis\": {\"automargin\": true, \"gridcolor\": \"white\", \"linecolor\": \"white\", \"ticks\": \"\", \"title\": {\"standoff\": 15}, \"zerolinecolor\": \"white\", \"zerolinewidth\": 2}}}, \"title\": {\"font\": {\"size\": 16}, \"text\": \"Mango Dataset Concept Lattice\"}, \"width\": 1000, \"xaxis\": {\"showgrid\": false, \"showticklabels\": false, \"zeroline\": false}, \"yaxis\": {\"showgrid\": false, \"showticklabels\": false, \"zeroline\": false}},\n",
       "                        {\"responsive\": true}\n",
       "                    ).then(function(){\n",
       "                            \n",
       "var gd = document.getElementById('1ecae2d0-9daa-4ef3-a428-c3c234c7347f');\n",
       "var x = new MutationObserver(function (mutations, observer) {{\n",
       "        var display = window.getComputedStyle(gd).display;\n",
       "        if (!display || display === 'none') {{\n",
       "            console.log([gd, 'removed!']);\n",
       "            Plotly.purge(gd);\n",
       "            observer.disconnect();\n",
       "        }}\n",
       "}});\n",
       "\n",
       "// Listen for the removal of the full notebook cells\n",
       "var notebookContainer = gd.closest('#notebook-container');\n",
       "if (notebookContainer) {{\n",
       "    x.observe(notebookContainer, {childList: true});\n",
       "}}\n",
       "\n",
       "// Listen for the clearing of the current output cell\n",
       "var outputEl = gd.closest('.output');\n",
       "if (outputEl) {{\n",
       "    x.observe(outputEl, {childList: true});\n",
       "}}\n",
       "\n",
       "                        })\n",
       "                };\n",
       "                });\n",
       "            </script>\n",
       "        </div>"
      ]
     },
     "metadata": {},
     "output_type": "display_data"
    }
   ],
   "source": [
    "fig2.show()"
   ]
  },
  {
   "cell_type": "code",
   "execution_count": 210,
   "metadata": {},
   "outputs": [
    {
     "name": "stdout",
     "output_type": "stream",
     "text": [
      "1) 1->0: c(green | ) -> -0.08\n",
      "2) 2->0: c(oval | ) -> 0.00\n",
      "3) 3->0: c(round | ) -> 0.25\n",
      "4) 4->0: c(smooth | ) -> -0.15\n",
      "5) 5->4: c(firm | smooth) -> -0.60\n",
      "6) 6->1: c(oval | green) -> 0.33\n",
      "7) 6->2: c(green | oval) -> 0.25\n",
      "8) 7->2: c(smooth | oval) -> -0.08\n",
      "9) 7->4: c(oval | smooth) -> 0.07\n",
      "10) 8->7: c(blue | smooth, oval) -> 0.33\n"
     ]
    },
    {
     "name": "stderr",
     "output_type": "stream",
     "text": [
      "/home/egor/anaconda3/lib/python3.7/site-packages/ipykernel_launcher.py:9: FutureWarning:\n",
      "\n",
      "elementwise comparison failed; returning scalar instead, but in the future will perform elementwise comparison\n",
      "\n"
     ]
    }
   ],
   "source": [
    "asr = print_contributions(fm_mango);"
   ]
  },
  {
   "cell_type": "code",
   "execution_count": 211,
   "metadata": {},
   "outputs": [
    {
     "name": "stdout",
     "output_type": "stream",
     "text": [
      "0:  -> 0.75\n",
      "1: green -> 0.67\n",
      "2: oval -> 0.75\n",
      "3: round -> 1.00\n",
      "4: smooth -> 0.60\n",
      "5: firm,smooth -> 0.00\n",
      "6: green,oval -> 1.00\n",
      "7: smooth,oval -> 0.67\n",
      "8: smooth,blue,oval -> 1.00\n"
     ]
    }
   ],
   "source": [
    "plot_concepts_as_hypotheses(fm_mango._concepts)"
   ]
  },
  {
   "cell_type": "markdown",
   "metadata": {},
   "source": [
    "# Monotone lattice"
   ]
  },
  {
   "cell_type": "markdown",
   "metadata": {},
   "source": [
    "* 0:  -> 0.75\n",
    "* 1: green -> 0.67\n",
    "* 2: oval -> 0.75\n",
    "* 3: round -> 1.00\n",
    "* 4: smooth -> 0.60\n",
    "* 5: firm,smooth -> 0.00\n",
    "* 6: green,oval -> 1.00\n",
    "* 7: smooth,oval -> 0.67\n",
    "* 8: smooth,blue,oval -> 1.00"
   ]
  },
  {
   "cell_type": "code",
   "execution_count": 212,
   "metadata": {},
   "outputs": [],
   "source": [
    "def get_context_by_concepts(fm, base_ds):\n",
    "    agg_ds = pd.DataFrame()\n",
    "    for f in [c._intent[0] for c in fm._concepts if len(c._intent)==1]:\n",
    "        agg_ds[f] = base_ds[f]\n",
    "    for fs in [c._intent for c in fm._concepts if len(c._intent)>1]:\n",
    "        agg_ds['&'.join(fs)] = base_ds[fs].sum(1)==len(fs)\n",
    "    return agg_ds"
   ]
  },
  {
   "cell_type": "code",
   "execution_count": 213,
   "metadata": {},
   "outputs": [
    {
     "data": {
      "text/html": [
       "<div>\n",
       "<style scoped>\n",
       "    .dataframe tbody tr th:only-of-type {\n",
       "        vertical-align: middle;\n",
       "    }\n",
       "\n",
       "    .dataframe tbody tr th {\n",
       "        vertical-align: top;\n",
       "    }\n",
       "\n",
       "    .dataframe thead th {\n",
       "        text-align: right;\n",
       "    }\n",
       "</style>\n",
       "<table border=\"1\" class=\"dataframe\">\n",
       "  <thead>\n",
       "    <tr style=\"text-align: right;\">\n",
       "      <th></th>\n",
       "      <th>green</th>\n",
       "      <th>oval</th>\n",
       "      <th>smooth</th>\n",
       "      <th>round</th>\n",
       "      <th>smooth&amp;blue&amp;oval</th>\n",
       "      <th>firm&amp;smooth</th>\n",
       "      <th>smooth&amp;oval</th>\n",
       "      <th>green&amp;oval</th>\n",
       "    </tr>\n",
       "    <tr>\n",
       "      <th>title</th>\n",
       "      <th></th>\n",
       "      <th></th>\n",
       "      <th></th>\n",
       "      <th></th>\n",
       "      <th></th>\n",
       "      <th></th>\n",
       "      <th></th>\n",
       "      <th></th>\n",
       "    </tr>\n",
       "  </thead>\n",
       "  <tbody>\n",
       "    <tr>\n",
       "      <th>apple</th>\n",
       "      <td>False</td>\n",
       "      <td>False</td>\n",
       "      <td>True</td>\n",
       "      <td>True</td>\n",
       "      <td>False</td>\n",
       "      <td>False</td>\n",
       "      <td>False</td>\n",
       "      <td>False</td>\n",
       "    </tr>\n",
       "    <tr>\n",
       "      <th>grapefruit</th>\n",
       "      <td>False</td>\n",
       "      <td>False</td>\n",
       "      <td>False</td>\n",
       "      <td>True</td>\n",
       "      <td>False</td>\n",
       "      <td>False</td>\n",
       "      <td>False</td>\n",
       "      <td>False</td>\n",
       "    </tr>\n",
       "    <tr>\n",
       "      <th>kiwi</th>\n",
       "      <td>True</td>\n",
       "      <td>True</td>\n",
       "      <td>False</td>\n",
       "      <td>False</td>\n",
       "      <td>False</td>\n",
       "      <td>False</td>\n",
       "      <td>False</td>\n",
       "      <td>True</td>\n",
       "    </tr>\n",
       "    <tr>\n",
       "      <th>plum</th>\n",
       "      <td>False</td>\n",
       "      <td>True</td>\n",
       "      <td>True</td>\n",
       "      <td>False</td>\n",
       "      <td>True</td>\n",
       "      <td>False</td>\n",
       "      <td>True</td>\n",
       "      <td>False</td>\n",
       "    </tr>\n",
       "    <tr>\n",
       "      <th>toy cube</th>\n",
       "      <td>True</td>\n",
       "      <td>False</td>\n",
       "      <td>True</td>\n",
       "      <td>False</td>\n",
       "      <td>False</td>\n",
       "      <td>True</td>\n",
       "      <td>False</td>\n",
       "      <td>False</td>\n",
       "    </tr>\n",
       "  </tbody>\n",
       "</table>\n",
       "</div>"
      ],
      "text/plain": [
       "            green   oval  smooth  round  smooth&blue&oval  firm&smooth  \\\n",
       "title                                                                    \n",
       "apple       False  False    True   True             False        False   \n",
       "grapefruit  False  False   False   True             False        False   \n",
       "kiwi         True   True   False  False             False        False   \n",
       "plum        False   True    True  False              True        False   \n",
       "toy cube     True  False    True  False             False         True   \n",
       "\n",
       "            smooth&oval  green&oval  \n",
       "title                                \n",
       "apple             False       False  \n",
       "grapefruit        False       False  \n",
       "kiwi              False        True  \n",
       "plum               True       False  \n",
       "toy cube          False       False  "
      ]
     },
     "execution_count": 213,
     "metadata": {},
     "output_type": "execute_result"
    }
   ],
   "source": [
    "mango_agg_bin_ds = get_context_by_concepts(fm_mango, mango_bin_ds)\n",
    "mango_agg_bin_ds.head()"
   ]
  },
  {
   "cell_type": "code",
   "execution_count": 214,
   "metadata": {},
   "outputs": [],
   "source": [
    "mango_agg_bin_ds_alt = ~mango_agg_bin_ds"
   ]
  },
  {
   "cell_type": "code",
   "execution_count": 223,
   "metadata": {},
   "outputs": [],
   "source": [
    "fcai = reload(fcai)"
   ]
  },
  {
   "cell_type": "code",
   "execution_count": 224,
   "metadata": {},
   "outputs": [
    {
     "name": "stdout",
     "output_type": "stream",
     "text": [
      "CPU times: user 92.9 ms, sys: 162 µs, total: 93 ms\n",
      "Wall time: 90.5 ms\n"
     ]
    },
    {
     "name": "stderr",
     "output_type": "stream",
     "text": [
      "/home/egor/Yandex.Disk/Evolving/uni2/uni/course_work/FCA_BB_interpret/lib/fca_interp.py:404: FutureWarning:\n",
      "\n",
      "elementwise comparison failed; returning scalar instead, but in the future will perform elementwise comparison\n",
      "\n",
      "/home/egor/anaconda3/lib/python3.7/site-packages/sklearn/metrics/classification.py:1143: UndefinedMetricWarning:\n",
      "\n",
      "Precision is ill-defined and being set to 0.0 due to no predicted samples.\n",
      "\n",
      "/home/egor/anaconda3/lib/python3.7/site-packages/sklearn/metrics/classification.py:1143: UndefinedMetricWarning:\n",
      "\n",
      "Precision is ill-defined and being set to 0.0 due to no predicted samples.\n",
      "\n",
      "/home/egor/anaconda3/lib/python3.7/site-packages/sklearn/metrics/classification.py:1143: UndefinedMetricWarning:\n",
      "\n",
      "Precision is ill-defined and being set to 0.0 due to no predicted samples.\n",
      "\n",
      "/home/egor/anaconda3/lib/python3.7/site-packages/sklearn/metrics/classification.py:1143: UndefinedMetricWarning:\n",
      "\n",
      "Precision is ill-defined and being set to 0.0 due to no predicted samples.\n",
      "\n"
     ]
    }
   ],
   "source": [
    "%%time\n",
    "cntx_mango_mon = fcai.Context(mango_agg_bin_ds_alt,y_true=y_train, y_pred=train_preds)\n",
    "fm_mango_mon = fcai.FormalManager(cntx_mango_mon, ds_obj=None, task_type='binary classification')\n",
    "fm_mango_mon.construct_concepts(use_tqdm=False, is_monotonic=True)\n",
    "fm_mango_mon.construct_lattice(use_tqdm=False)"
   ]
  },
  {
   "cell_type": "raw",
   "metadata": {},
   "source": [
    "delete_nocontrib_concepts(fm_mango_mon, conj_form=True)"
   ]
  },
  {
   "cell_type": "raw",
   "metadata": {},
   "source": [
    "improv_metric = 'y_pred'\n",
    "to_see = range(len(fm._concepts)-1,0,-1)\n",
    "for c_id in to_see:\n",
    "    c = fm.get_concept_by_id(c_id)\n",
    "    if len(c.get_extent())==0:\n",
    "        fm.delete_concept(c_id)\n",
    "        continue\n",
    "\n",
    "    lns = c._low_neighbs\n",
    "    c_val = dict({'y_true':c._y_true_mean, 'y_pred':c._y_pred_mean}, **c._metrics)[improv_metric]\n",
    "    if len(lns)==0 and c_val not in [0,1]:\n",
    "        fm.delete_concept(c_id)\n",
    "\n",
    "fm.construct_lattice()"
   ]
  },
  {
   "cell_type": "code",
   "execution_count": 225,
   "metadata": {},
   "outputs": [],
   "source": [
    "fig = fm_mango_mon.get_plotly_fig(level_sort='mean', sort_by='y_true',\n",
    "                        y_precision=2, title='Mango Dataset Concept Lattice', cbar_title='Mean fruit prediction',\n",
    "                        color_by='y_pred',)"
   ]
  },
  {
   "cell_type": "code",
   "execution_count": 226,
   "metadata": {},
   "outputs": [
    {
     "data": {
      "application/vnd.plotly.v1+json": {
       "config": {
        "plotlyServerURL": "https://plot.ly"
       },
       "data": [
        {
         "hoverinfo": "none",
         "line": {
          "color": "#888",
          "width": 0.5
         },
         "mode": "lines",
         "type": "scatter",
         "x": [
          0,
          0.5,
          null,
          0,
          -0.5,
          null,
          0,
          2,
          null,
          0,
          1,
          null,
          0,
          -2,
          null,
          0.5,
          0,
          null,
          0.5,
          -1,
          null,
          0,
          2.5,
          null,
          0,
          -1.5,
          null,
          0,
          1.5,
          null,
          0,
          -3.5,
          null,
          -0.5,
          -1,
          null,
          -0.5,
          0.5,
          null,
          -0.5,
          -2.5,
          null,
          2,
          2.5,
          null,
          2,
          0.5,
          null,
          2,
          3.5,
          null,
          -1,
          -1.5,
          null,
          2.5,
          3,
          null,
          2.5,
          1,
          null,
          1,
          3.5,
          null,
          1,
          1.5,
          null,
          1,
          -0.5,
          null,
          -2,
          -3.5,
          null,
          -2,
          -0.5,
          null,
          -2,
          -3,
          null,
          0.5,
          1,
          null,
          0.5,
          0,
          null,
          -1.5,
          1,
          null,
          -1.5,
          -2,
          null,
          3.5,
          3,
          null,
          3.5,
          2,
          null,
          3.5,
          0,
          null,
          -2.5,
          -2,
          null,
          -2.5,
          0,
          null,
          -2.5,
          -3,
          null,
          1.5,
          3,
          null,
          1.5,
          -1,
          null,
          3,
          0.5,
          null,
          3,
          1.5,
          null,
          1,
          0.5,
          null,
          -3.5,
          -1,
          null,
          -3.5,
          -1.5,
          null,
          -2,
          0.5,
          null,
          -2,
          -1.5,
          null,
          2,
          -0.5,
          null,
          2,
          -0.5,
          null,
          2,
          1.5,
          null,
          -0.5,
          -1,
          null,
          0.5,
          0,
          null,
          0.5,
          0,
          null,
          0,
          -0.5,
          null,
          0,
          -1.5,
          null,
          0,
          1.5,
          null,
          0,
          -0.5,
          null,
          -0.5,
          -3,
          null,
          -1,
          1.5,
          null,
          -1.5,
          -3,
          null
         ],
         "y": [
          1,
          2,
          null,
          1,
          2,
          null,
          1,
          3,
          null,
          1,
          3,
          null,
          1,
          3,
          null,
          2,
          3,
          null,
          2,
          3,
          null,
          3,
          4,
          null,
          3,
          4,
          null,
          3,
          4,
          null,
          3,
          4,
          null,
          2,
          3,
          null,
          2,
          4,
          null,
          2,
          4,
          null,
          3,
          4,
          null,
          3,
          4,
          null,
          3,
          4,
          null,
          3,
          4,
          null,
          4,
          5,
          null,
          4,
          5,
          null,
          3,
          4,
          null,
          3,
          4,
          null,
          3,
          4,
          null,
          3,
          4,
          null,
          3,
          4,
          null,
          3,
          5,
          null,
          4,
          5,
          null,
          4,
          5,
          null,
          4,
          5,
          null,
          4,
          5,
          null,
          4,
          5,
          null,
          4,
          5,
          null,
          4,
          5,
          null,
          4,
          5,
          null,
          4,
          5,
          null,
          4,
          5,
          null,
          4,
          5,
          null,
          4,
          5,
          null,
          5,
          6,
          null,
          5,
          6,
          null,
          5,
          6,
          null,
          4,
          5,
          null,
          4,
          6,
          null,
          5,
          6,
          null,
          5,
          6,
          null,
          5,
          4,
          null,
          5,
          6,
          null,
          5,
          6,
          null,
          4,
          5,
          null,
          6,
          5,
          null,
          6,
          7,
          null,
          5,
          6,
          null,
          7,
          6,
          null,
          7,
          6,
          null,
          7,
          6,
          null,
          6,
          5,
          null,
          5,
          6,
          null,
          6,
          5,
          null
         ]
        },
        {
         "hoverinfo": "text",
         "hovertext": [
          "Concept 27<br>extent (len: 8): apple, grapefruit, tennis ball, kiwi, plum, toy cube, egg, mango<br>intent (len: 8): green, oval, smooth, round, smooth&blue&oval, firm&smooth, smooth&oval, green&oval<br>new extent (len: 8): egg, tennis ball, kiwi, plum, toy cube, apple, mango, grapefruit<br>new intent (len: 0): emptyset<br>mean_y_true: 0.62<br>mean_y_pred: 0.75<br>Metrics<br>\taccuracy: 0.88<br>\tprecision: 0.83<br>\trecall: 1.0<br>\tneg_precision: 1.0<br>\tneg_recall: 0.67<br><br>",
          "Concept 26<br>extent (len: 6): apple, kiwi, plum, toy cube, egg, mango<br>intent (len: 7): green, oval, smooth, smooth&blue&oval, firm&smooth, smooth&oval, green&oval<br>new extent (len: 0): emptyset<br>new intent (len: 0): emptyset<br>mean_y_true: 0.67<br>mean_y_pred: 0.67<br>Metrics<br>\taccuracy: 1.0<br>\tprecision: 1.0<br>\trecall: 1.0<br>\tneg_precision: 1.0<br>\tneg_recall: 1.0<br><br>",
          "Concept 25<br>extent (len: 5): kiwi, plum, toy cube, egg, mango<br>intent (len: 6): green, oval, smooth&blue&oval, firm&smooth, smooth&oval, green&oval<br>new extent (len: 0): emptyset<br>new intent (len: 0): emptyset<br>mean_y_true: 0.6<br>mean_y_pred: 0.6<br>Metrics<br>\taccuracy: 1.0<br>\tprecision: 1.0<br>\trecall: 1.0<br>\tneg_precision: 1.0<br>\tneg_recall: 1.0<br><br>",
          "Concept 24<br>extent (len: 7): apple, grapefruit, tennis ball, plum, toy cube, egg, mango<br>intent (len: 5): smooth, round, smooth&blue&oval, firm&smooth, smooth&oval<br>new extent (len: 0): emptyset<br>new intent (len: 0): emptyset<br>mean_y_true: 0.57<br>mean_y_pred: 0.71<br>Metrics<br>\taccuracy: 0.86<br>\tprecision: 0.8<br>\trecall: 1.0<br>\tneg_precision: 1.0<br>\tneg_recall: 0.67<br><br>",
          "Concept 23<br>extent (len: 7): apple, grapefruit, tennis ball, kiwi, plum, egg, mango<br>intent (len: 5): oval, round, smooth&blue&oval, smooth&oval, green&oval<br>new extent (len: 0): emptyset<br>new intent (len: 0): emptyset<br>mean_y_true: 0.71<br>mean_y_pred: 0.86<br>Metrics<br>\taccuracy: 0.86<br>\tprecision: 0.83<br>\trecall: 1.0<br>\tneg_precision: 1.0<br>\tneg_recall: 0.5<br><br>",
          "Concept 22<br>extent (len: 5): apple, plum, toy cube, egg, mango<br>intent (len: 4): smooth, smooth&blue&oval, firm&smooth, smooth&oval<br>new extent (len: 0): emptyset<br>new intent (len: 1): smooth<br>mean_y_true: 0.6<br>mean_y_pred: 0.6<br>Metrics<br>\taccuracy: 1.0<br>\tprecision: 1.0<br>\trecall: 1.0<br>\tneg_precision: 1.0<br>\tneg_recall: 1.0<br><br>",
          "Concept 21<br>extent (len: 4): kiwi, plum, egg, mango<br>intent (len: 4): oval, smooth&blue&oval, smooth&oval, green&oval<br>new extent (len: 0): emptyset<br>new intent (len: 1): oval<br>mean_y_true: 0.75<br>mean_y_pred: 0.75<br>Metrics<br>\taccuracy: 1.0<br>\tprecision: 1.0<br>\trecall: 1.0<br>\tneg_precision: 1.0<br>\tneg_recall: 1.0<br><br>",
          "Concept 20<br>extent (len: 7): apple, grapefruit, tennis ball, kiwi, plum, toy cube, mango<br>intent (len: 4): green, round, smooth&blue&oval, green&oval<br>new extent (len: 0): emptyset<br>new intent (len: 0): emptyset<br>mean_y_true: 0.71<br>mean_y_pred: 0.86<br>Metrics<br>\taccuracy: 0.86<br>\tprecision: 0.83<br>\trecall: 1.0<br>\tneg_precision: 1.0<br>\tneg_recall: 0.5<br><br>",
          "Concept 19<br>extent (len: 7): apple, grapefruit, tennis ball, kiwi, toy cube, egg, mango<br>intent (len: 4): green, round, firm&smooth, green&oval<br>new extent (len: 0): emptyset<br>new intent (len: 0): emptyset<br>mean_y_true: 0.57<br>mean_y_pred: 0.71<br>Metrics<br>\taccuracy: 0.86<br>\tprecision: 0.8<br>\trecall: 1.0<br>\tneg_precision: 1.0<br>\tneg_recall: 0.67<br><br>",
          "Concept 17<br>extent (len: 6): apple, grapefruit, tennis ball, plum, egg, mango<br>intent (len: 3): round, smooth&blue&oval, smooth&oval<br>new extent (len: 0): emptyset<br>new intent (len: 0): emptyset<br>mean_y_true: 0.67<br>mean_y_pred: 0.83<br>Metrics<br>\taccuracy: 0.83<br>\tprecision: 0.8<br>\trecall: 1.0<br>\tneg_precision: 1.0<br>\tneg_recall: 0.5<br><br>",
          "Concept 18<br>extent (len: 4): plum, toy cube, egg, mango<br>intent (len: 3): smooth&blue&oval, firm&smooth, smooth&oval<br>new extent (len: 0): emptyset<br>new intent (len: 0): emptyset<br>mean_y_true: 0.5<br>mean_y_pred: 0.5<br>Metrics<br>\taccuracy: 1.0<br>\tprecision: 1.0<br>\trecall: 1.0<br>\tneg_precision: 1.0<br>\tneg_recall: 1.0<br><br>",
          "Concept 16<br>extent (len: 6): apple, grapefruit, tennis ball, kiwi, plum, mango<br>intent (len: 3): round, smooth&blue&oval, green&oval<br>new extent (len: 0): emptyset<br>new intent (len: 0): emptyset<br>mean_y_true: 0.83<br>mean_y_pred: 1.0<br>Metrics<br>\taccuracy: 0.83<br>\tprecision: 0.83<br>\trecall: 1.0<br>\tneg_precision: 0.0<br>\tneg_recall: 0.0<br><br>",
          "Concept 15<br>extent (len: 6): apple, grapefruit, tennis ball, plum, toy cube, egg<br>intent (len: 3): round, smooth&blue&oval, firm&smooth<br>new extent (len: 0): emptyset<br>new intent (len: 0): emptyset<br>mean_y_true: 0.5<br>mean_y_pred: 0.67<br>Metrics<br>\taccuracy: 0.83<br>\tprecision: 0.75<br>\trecall: 1.0<br>\tneg_precision: 1.0<br>\tneg_recall: 0.67<br><br>",
          "Concept 14<br>extent (len: 4): kiwi, plum, toy cube, mango<br>intent (len: 3): green, smooth&blue&oval, green&oval<br>new extent (len: 0): emptyset<br>new intent (len: 0): emptyset<br>mean_y_true: 0.75<br>mean_y_pred: 0.75<br>Metrics<br>\taccuracy: 1.0<br>\tprecision: 1.0<br>\trecall: 1.0<br>\tneg_precision: 1.0<br>\tneg_recall: 1.0<br><br>",
          "Concept 10<br>extent (len: 3): kiwi, plum, mango<br>intent (len: 2): smooth&blue&oval, green&oval<br>new extent (len: 0): emptyset<br>new intent (len: 0): emptyset<br>mean_y_true: 1.0<br>mean_y_pred: 1.0<br>Metrics<br>\taccuracy: 1.0<br>\tprecision: 1.0<br>\trecall: 1.0<br>\tneg_precision: 0.0<br>\tneg_recall: 0.0<br><br>",
          "Concept 11<br>extent (len: 3): plum, egg, mango<br>intent (len: 2): smooth&blue&oval, smooth&oval<br>new extent (len: 0): emptyset<br>new intent (len: 1): smooth&oval<br>mean_y_true: 0.67<br>mean_y_pred: 0.67<br>Metrics<br>\taccuracy: 1.0<br>\tprecision: 1.0<br>\trecall: 1.0<br>\tneg_precision: 1.0<br>\tneg_recall: 1.0<br><br>",
          "Concept 12<br>extent (len: 4): kiwi, toy cube, egg, mango<br>intent (len: 3): green, firm&smooth, green&oval<br>new extent (len: 0): emptyset<br>new intent (len: 0): emptyset<br>mean_y_true: 0.5<br>mean_y_pred: 0.5<br>Metrics<br>\taccuracy: 1.0<br>\tprecision: 1.0<br>\trecall: 1.0<br>\tneg_precision: 1.0<br>\tneg_recall: 1.0<br><br>",
          "Concept 9<br>extent (len: 3): plum, toy cube, egg<br>intent (len: 2): smooth&blue&oval, firm&smooth<br>new extent (len: 0): emptyset<br>new intent (len: 0): emptyset<br>mean_y_true: 0.33<br>mean_y_pred: 0.33<br>Metrics<br>\taccuracy: 1.0<br>\tprecision: 1.0<br>\trecall: 1.0<br>\tneg_precision: 1.0<br>\tneg_recall: 1.0<br><br>",
          "Concept 7<br>extent (len: 5): apple, grapefruit, tennis ball, kiwi, mango<br>intent (len: 2): round, green&oval<br>new extent (len: 0): emptyset<br>new intent (len: 0): emptyset<br>mean_y_true: 0.8<br>mean_y_pred: 1.0<br>Metrics<br>\taccuracy: 0.8<br>\tprecision: 0.8<br>\trecall: 1.0<br>\tneg_precision: 0.0<br>\tneg_recall: 0.0<br><br>",
          "Concept 13<br>extent (len: 6): apple, grapefruit, tennis ball, kiwi, toy cube, mango<br>intent (len: 3): green, round, green&oval<br>new extent (len: 0): emptyset<br>new intent (len: 0): emptyset<br>mean_y_true: 0.67<br>mean_y_pred: 0.83<br>Metrics<br>\taccuracy: 0.83<br>\tprecision: 0.8<br>\trecall: 1.0<br>\tneg_precision: 1.0<br>\tneg_recall: 0.5<br><br>",
          "Concept 4<br>extent (len: 1): plum<br>intent (len: 1): smooth&blue&oval<br>new extent (len: 0): emptyset<br>new intent (len: 1): smooth&blue&oval<br>mean_y_true: 1.0<br>mean_y_pred: 1.0<br>Metrics<br>\taccuracy: 1.0<br>\tprecision: 1.0<br>\trecall: 1.0<br>\tneg_precision: 0.0<br>\tneg_recall: 0.0<br><br>",
          "Concept 8<br>extent (len: 4): apple, grapefruit, tennis ball, plum<br>intent (len: 2): round, smooth&blue&oval<br>new extent (len: 0): emptyset<br>new intent (len: 0): emptyset<br>mean_y_true: 0.75<br>mean_y_pred: 1.0<br>Metrics<br>\taccuracy: 0.75<br>\tprecision: 0.75<br>\trecall: 1.0<br>\tneg_precision: 0.0<br>\tneg_recall: 0.0<br><br>",
          "Concept 0<br>extent (len: 0): emptyset<br>intent (len: 0): emptyset<br>new extent (len: 0): emptyset<br>new intent (len: 0): emptyset<br>Metrics<br><br>",
          "Concept 3<br>extent (len: 3): apple, grapefruit, tennis ball<br>intent (len: 1): round<br>new extent (len: 0): emptyset<br>new intent (len: 1): round<br>mean_y_true: 0.67<br>mean_y_pred: 1.0<br>Metrics<br>\taccuracy: 0.67<br>\tprecision: 0.67<br>\trecall: 1.0<br>\tneg_precision: 0.0<br>\tneg_recall: 0.0<br><br>",
          "Concept 5<br>extent (len: 3): kiwi, toy cube, mango<br>intent (len: 2): green, green&oval<br>new extent (len: 0): emptyset<br>new intent (len: 1): green<br>mean_y_true: 0.67<br>mean_y_pred: 0.67<br>Metrics<br>\taccuracy: 1.0<br>\tprecision: 1.0<br>\trecall: 1.0<br>\tneg_precision: 1.0<br>\tneg_recall: 1.0<br><br>",
          "Concept 1<br>extent (len: 2): toy cube, egg<br>intent (len: 1): firm&smooth<br>new extent (len: 0): emptyset<br>new intent (len: 1): firm&smooth<br>mean_y_true: 0.0<br>mean_y_pred: 0.0<br>Metrics<br>\taccuracy: 1.0<br>\tprecision: 0.0<br>\trecall: 0.0<br>\tneg_precision: 1.0<br>\tneg_recall: 1.0<br><br>",
          "Concept 2<br>extent (len: 2): kiwi, mango<br>intent (len: 1): green&oval<br>new extent (len: 0): emptyset<br>new intent (len: 1): green&oval<br>mean_y_true: 1.0<br>mean_y_pred: 1.0<br>Metrics<br>\taccuracy: 1.0<br>\tprecision: 1.0<br>\trecall: 1.0<br>\tneg_precision: 0.0<br>\tneg_recall: 0.0<br><br>",
          "Concept 6<br>extent (len: 5): apple, grapefruit, tennis ball, toy cube, egg<br>intent (len: 2): round, firm&smooth<br>new extent (len: 0): emptyset<br>new intent (len: 0): emptyset<br>mean_y_true: 0.4<br>mean_y_pred: 0.6<br>Metrics<br>\taccuracy: 0.8<br>\tprecision: 0.67<br>\trecall: 1.0<br>\tneg_precision: 1.0<br>\tneg_recall: 0.67<br><br>"
         ],
         "marker": {
          "color": [
           0.75,
           0.6666666666666666,
           0.6,
           0.7142857142857143,
           0.8571428571428571,
           0.6,
           0.75,
           0.8571428571428571,
           0.7142857142857143,
           0.8333333333333334,
           0.5,
           1,
           0.6666666666666666,
           0.75,
           1,
           0.6666666666666666,
           0.5,
           0.3333333333333333,
           1,
           0.8333333333333334,
           1,
           1,
           "grey",
           1,
           0.6666666666666666,
           0,
           1,
           0.6
          ],
          "colorbar": {
           "thickness": 15,
           "title": {
            "side": "right",
            "text": "Mean fruit prediction"
           },
           "xanchor": "left"
          },
          "colorscale": [
           [
            0,
            "rgb(103,0,31)"
           ],
           [
            0.1,
            "rgb(178,24,43)"
           ],
           [
            0.2,
            "rgb(214,96,77)"
           ],
           [
            0.3,
            "rgb(244,165,130)"
           ],
           [
            0.4,
            "rgb(253,219,199)"
           ],
           [
            0.5,
            "rgb(247,247,247)"
           ],
           [
            0.6,
            "rgb(209,229,240)"
           ],
           [
            0.7,
            "rgb(146,197,222)"
           ],
           [
            0.8,
            "rgb(67,147,195)"
           ],
           [
            0.9,
            "rgb(33,102,172)"
           ],
           [
            1,
            "rgb(5,48,97)"
           ]
          ],
          "line": {
           "width": 2
          },
          "reversescale": true,
          "showscale": true,
          "size": 10
         },
         "mode": "markers+text",
         "text": [
          "<br>n: 8",
          "<br>",
          "<br>",
          "<br>",
          "<br>",
          "smooth<br>",
          "oval<br>",
          "<br>",
          "<br>",
          "<br>",
          "<br>",
          "<br>",
          "<br>",
          "<br>",
          "<br>",
          "smooth&oval<br>",
          "<br>",
          "<br>",
          "<br>",
          "<br>",
          "smooth&blue&oval<br>",
          "<br>",
          "<br>",
          "round<br>",
          "green<br>",
          "firm&smooth<br>",
          "green&oval<br>",
          "<br>"
         ],
         "textposition": "middle right",
         "type": "scatter",
         "x": [
          0,
          0.5,
          0,
          -0.5,
          2,
          -1,
          2.5,
          1,
          -2,
          0.5,
          -1.5,
          3.5,
          -2.5,
          1.5,
          3,
          1,
          -3.5,
          -2,
          2,
          -0.5,
          0.5,
          0,
          0,
          -0.5,
          -1,
          -1.5,
          1.5,
          -3
         ],
         "y": [
          1,
          2,
          3,
          2,
          3,
          3,
          4,
          3,
          3,
          4,
          4,
          4,
          4,
          4,
          5,
          5,
          4,
          5,
          5,
          4,
          6,
          5,
          7,
          6,
          5,
          6,
          6,
          5
         ]
        }
       ],
       "layout": {
        "height": 500,
        "hovermode": "closest",
        "margin": {
         "b": 20,
         "l": 5,
         "r": 5,
         "t": 40
        },
        "showlegend": false,
        "template": {
         "data": {
          "bar": [
           {
            "error_x": {
             "color": "#2a3f5f"
            },
            "error_y": {
             "color": "#2a3f5f"
            },
            "marker": {
             "line": {
              "color": "#E5ECF6",
              "width": 0.5
             }
            },
            "type": "bar"
           }
          ],
          "barpolar": [
           {
            "marker": {
             "line": {
              "color": "#E5ECF6",
              "width": 0.5
             }
            },
            "type": "barpolar"
           }
          ],
          "carpet": [
           {
            "aaxis": {
             "endlinecolor": "#2a3f5f",
             "gridcolor": "white",
             "linecolor": "white",
             "minorgridcolor": "white",
             "startlinecolor": "#2a3f5f"
            },
            "baxis": {
             "endlinecolor": "#2a3f5f",
             "gridcolor": "white",
             "linecolor": "white",
             "minorgridcolor": "white",
             "startlinecolor": "#2a3f5f"
            },
            "type": "carpet"
           }
          ],
          "choropleth": [
           {
            "colorbar": {
             "outlinewidth": 0,
             "ticks": ""
            },
            "type": "choropleth"
           }
          ],
          "contour": [
           {
            "colorbar": {
             "outlinewidth": 0,
             "ticks": ""
            },
            "colorscale": [
             [
              0,
              "#0d0887"
             ],
             [
              0.1111111111111111,
              "#46039f"
             ],
             [
              0.2222222222222222,
              "#7201a8"
             ],
             [
              0.3333333333333333,
              "#9c179e"
             ],
             [
              0.4444444444444444,
              "#bd3786"
             ],
             [
              0.5555555555555556,
              "#d8576b"
             ],
             [
              0.6666666666666666,
              "#ed7953"
             ],
             [
              0.7777777777777778,
              "#fb9f3a"
             ],
             [
              0.8888888888888888,
              "#fdca26"
             ],
             [
              1,
              "#f0f921"
             ]
            ],
            "type": "contour"
           }
          ],
          "contourcarpet": [
           {
            "colorbar": {
             "outlinewidth": 0,
             "ticks": ""
            },
            "type": "contourcarpet"
           }
          ],
          "heatmap": [
           {
            "colorbar": {
             "outlinewidth": 0,
             "ticks": ""
            },
            "colorscale": [
             [
              0,
              "#0d0887"
             ],
             [
              0.1111111111111111,
              "#46039f"
             ],
             [
              0.2222222222222222,
              "#7201a8"
             ],
             [
              0.3333333333333333,
              "#9c179e"
             ],
             [
              0.4444444444444444,
              "#bd3786"
             ],
             [
              0.5555555555555556,
              "#d8576b"
             ],
             [
              0.6666666666666666,
              "#ed7953"
             ],
             [
              0.7777777777777778,
              "#fb9f3a"
             ],
             [
              0.8888888888888888,
              "#fdca26"
             ],
             [
              1,
              "#f0f921"
             ]
            ],
            "type": "heatmap"
           }
          ],
          "heatmapgl": [
           {
            "colorbar": {
             "outlinewidth": 0,
             "ticks": ""
            },
            "colorscale": [
             [
              0,
              "#0d0887"
             ],
             [
              0.1111111111111111,
              "#46039f"
             ],
             [
              0.2222222222222222,
              "#7201a8"
             ],
             [
              0.3333333333333333,
              "#9c179e"
             ],
             [
              0.4444444444444444,
              "#bd3786"
             ],
             [
              0.5555555555555556,
              "#d8576b"
             ],
             [
              0.6666666666666666,
              "#ed7953"
             ],
             [
              0.7777777777777778,
              "#fb9f3a"
             ],
             [
              0.8888888888888888,
              "#fdca26"
             ],
             [
              1,
              "#f0f921"
             ]
            ],
            "type": "heatmapgl"
           }
          ],
          "histogram": [
           {
            "marker": {
             "colorbar": {
              "outlinewidth": 0,
              "ticks": ""
             }
            },
            "type": "histogram"
           }
          ],
          "histogram2d": [
           {
            "colorbar": {
             "outlinewidth": 0,
             "ticks": ""
            },
            "colorscale": [
             [
              0,
              "#0d0887"
             ],
             [
              0.1111111111111111,
              "#46039f"
             ],
             [
              0.2222222222222222,
              "#7201a8"
             ],
             [
              0.3333333333333333,
              "#9c179e"
             ],
             [
              0.4444444444444444,
              "#bd3786"
             ],
             [
              0.5555555555555556,
              "#d8576b"
             ],
             [
              0.6666666666666666,
              "#ed7953"
             ],
             [
              0.7777777777777778,
              "#fb9f3a"
             ],
             [
              0.8888888888888888,
              "#fdca26"
             ],
             [
              1,
              "#f0f921"
             ]
            ],
            "type": "histogram2d"
           }
          ],
          "histogram2dcontour": [
           {
            "colorbar": {
             "outlinewidth": 0,
             "ticks": ""
            },
            "colorscale": [
             [
              0,
              "#0d0887"
             ],
             [
              0.1111111111111111,
              "#46039f"
             ],
             [
              0.2222222222222222,
              "#7201a8"
             ],
             [
              0.3333333333333333,
              "#9c179e"
             ],
             [
              0.4444444444444444,
              "#bd3786"
             ],
             [
              0.5555555555555556,
              "#d8576b"
             ],
             [
              0.6666666666666666,
              "#ed7953"
             ],
             [
              0.7777777777777778,
              "#fb9f3a"
             ],
             [
              0.8888888888888888,
              "#fdca26"
             ],
             [
              1,
              "#f0f921"
             ]
            ],
            "type": "histogram2dcontour"
           }
          ],
          "mesh3d": [
           {
            "colorbar": {
             "outlinewidth": 0,
             "ticks": ""
            },
            "type": "mesh3d"
           }
          ],
          "parcoords": [
           {
            "line": {
             "colorbar": {
              "outlinewidth": 0,
              "ticks": ""
             }
            },
            "type": "parcoords"
           }
          ],
          "pie": [
           {
            "automargin": true,
            "type": "pie"
           }
          ],
          "scatter": [
           {
            "marker": {
             "colorbar": {
              "outlinewidth": 0,
              "ticks": ""
             }
            },
            "type": "scatter"
           }
          ],
          "scatter3d": [
           {
            "line": {
             "colorbar": {
              "outlinewidth": 0,
              "ticks": ""
             }
            },
            "marker": {
             "colorbar": {
              "outlinewidth": 0,
              "ticks": ""
             }
            },
            "type": "scatter3d"
           }
          ],
          "scattercarpet": [
           {
            "marker": {
             "colorbar": {
              "outlinewidth": 0,
              "ticks": ""
             }
            },
            "type": "scattercarpet"
           }
          ],
          "scattergeo": [
           {
            "marker": {
             "colorbar": {
              "outlinewidth": 0,
              "ticks": ""
             }
            },
            "type": "scattergeo"
           }
          ],
          "scattergl": [
           {
            "marker": {
             "colorbar": {
              "outlinewidth": 0,
              "ticks": ""
             }
            },
            "type": "scattergl"
           }
          ],
          "scattermapbox": [
           {
            "marker": {
             "colorbar": {
              "outlinewidth": 0,
              "ticks": ""
             }
            },
            "type": "scattermapbox"
           }
          ],
          "scatterpolar": [
           {
            "marker": {
             "colorbar": {
              "outlinewidth": 0,
              "ticks": ""
             }
            },
            "type": "scatterpolar"
           }
          ],
          "scatterpolargl": [
           {
            "marker": {
             "colorbar": {
              "outlinewidth": 0,
              "ticks": ""
             }
            },
            "type": "scatterpolargl"
           }
          ],
          "scatterternary": [
           {
            "marker": {
             "colorbar": {
              "outlinewidth": 0,
              "ticks": ""
             }
            },
            "type": "scatterternary"
           }
          ],
          "surface": [
           {
            "colorbar": {
             "outlinewidth": 0,
             "ticks": ""
            },
            "colorscale": [
             [
              0,
              "#0d0887"
             ],
             [
              0.1111111111111111,
              "#46039f"
             ],
             [
              0.2222222222222222,
              "#7201a8"
             ],
             [
              0.3333333333333333,
              "#9c179e"
             ],
             [
              0.4444444444444444,
              "#bd3786"
             ],
             [
              0.5555555555555556,
              "#d8576b"
             ],
             [
              0.6666666666666666,
              "#ed7953"
             ],
             [
              0.7777777777777778,
              "#fb9f3a"
             ],
             [
              0.8888888888888888,
              "#fdca26"
             ],
             [
              1,
              "#f0f921"
             ]
            ],
            "type": "surface"
           }
          ],
          "table": [
           {
            "cells": {
             "fill": {
              "color": "#EBF0F8"
             },
             "line": {
              "color": "white"
             }
            },
            "header": {
             "fill": {
              "color": "#C8D4E3"
             },
             "line": {
              "color": "white"
             }
            },
            "type": "table"
           }
          ]
         },
         "layout": {
          "annotationdefaults": {
           "arrowcolor": "#2a3f5f",
           "arrowhead": 0,
           "arrowwidth": 1
          },
          "coloraxis": {
           "colorbar": {
            "outlinewidth": 0,
            "ticks": ""
           }
          },
          "colorscale": {
           "diverging": [
            [
             0,
             "#8e0152"
            ],
            [
             0.1,
             "#c51b7d"
            ],
            [
             0.2,
             "#de77ae"
            ],
            [
             0.3,
             "#f1b6da"
            ],
            [
             0.4,
             "#fde0ef"
            ],
            [
             0.5,
             "#f7f7f7"
            ],
            [
             0.6,
             "#e6f5d0"
            ],
            [
             0.7,
             "#b8e186"
            ],
            [
             0.8,
             "#7fbc41"
            ],
            [
             0.9,
             "#4d9221"
            ],
            [
             1,
             "#276419"
            ]
           ],
           "sequential": [
            [
             0,
             "#0d0887"
            ],
            [
             0.1111111111111111,
             "#46039f"
            ],
            [
             0.2222222222222222,
             "#7201a8"
            ],
            [
             0.3333333333333333,
             "#9c179e"
            ],
            [
             0.4444444444444444,
             "#bd3786"
            ],
            [
             0.5555555555555556,
             "#d8576b"
            ],
            [
             0.6666666666666666,
             "#ed7953"
            ],
            [
             0.7777777777777778,
             "#fb9f3a"
            ],
            [
             0.8888888888888888,
             "#fdca26"
            ],
            [
             1,
             "#f0f921"
            ]
           ],
           "sequentialminus": [
            [
             0,
             "#0d0887"
            ],
            [
             0.1111111111111111,
             "#46039f"
            ],
            [
             0.2222222222222222,
             "#7201a8"
            ],
            [
             0.3333333333333333,
             "#9c179e"
            ],
            [
             0.4444444444444444,
             "#bd3786"
            ],
            [
             0.5555555555555556,
             "#d8576b"
            ],
            [
             0.6666666666666666,
             "#ed7953"
            ],
            [
             0.7777777777777778,
             "#fb9f3a"
            ],
            [
             0.8888888888888888,
             "#fdca26"
            ],
            [
             1,
             "#f0f921"
            ]
           ]
          },
          "colorway": [
           "#636efa",
           "#EF553B",
           "#00cc96",
           "#ab63fa",
           "#FFA15A",
           "#19d3f3",
           "#FF6692",
           "#B6E880",
           "#FF97FF",
           "#FECB52"
          ],
          "font": {
           "color": "#2a3f5f"
          },
          "geo": {
           "bgcolor": "white",
           "lakecolor": "white",
           "landcolor": "#E5ECF6",
           "showlakes": true,
           "showland": true,
           "subunitcolor": "white"
          },
          "hoverlabel": {
           "align": "left"
          },
          "hovermode": "closest",
          "mapbox": {
           "style": "light"
          },
          "paper_bgcolor": "white",
          "plot_bgcolor": "#E5ECF6",
          "polar": {
           "angularaxis": {
            "gridcolor": "white",
            "linecolor": "white",
            "ticks": ""
           },
           "bgcolor": "#E5ECF6",
           "radialaxis": {
            "gridcolor": "white",
            "linecolor": "white",
            "ticks": ""
           }
          },
          "scene": {
           "xaxis": {
            "backgroundcolor": "#E5ECF6",
            "gridcolor": "white",
            "gridwidth": 2,
            "linecolor": "white",
            "showbackground": true,
            "ticks": "",
            "zerolinecolor": "white"
           },
           "yaxis": {
            "backgroundcolor": "#E5ECF6",
            "gridcolor": "white",
            "gridwidth": 2,
            "linecolor": "white",
            "showbackground": true,
            "ticks": "",
            "zerolinecolor": "white"
           },
           "zaxis": {
            "backgroundcolor": "#E5ECF6",
            "gridcolor": "white",
            "gridwidth": 2,
            "linecolor": "white",
            "showbackground": true,
            "ticks": "",
            "zerolinecolor": "white"
           }
          },
          "shapedefaults": {
           "line": {
            "color": "#2a3f5f"
           }
          },
          "ternary": {
           "aaxis": {
            "gridcolor": "white",
            "linecolor": "white",
            "ticks": ""
           },
           "baxis": {
            "gridcolor": "white",
            "linecolor": "white",
            "ticks": ""
           },
           "bgcolor": "#E5ECF6",
           "caxis": {
            "gridcolor": "white",
            "linecolor": "white",
            "ticks": ""
           }
          },
          "title": {
           "x": 0.05
          },
          "xaxis": {
           "automargin": true,
           "gridcolor": "white",
           "linecolor": "white",
           "ticks": "",
           "title": {
            "standoff": 15
           },
           "zerolinecolor": "white",
           "zerolinewidth": 2
          },
          "yaxis": {
           "automargin": true,
           "gridcolor": "white",
           "linecolor": "white",
           "ticks": "",
           "title": {
            "standoff": 15
           },
           "zerolinecolor": "white",
           "zerolinewidth": 2
          }
         }
        },
        "title": {
         "font": {
          "size": 16
         },
         "text": "Mango Dataset Concept Lattice"
        },
        "width": 1000,
        "xaxis": {
         "showgrid": false,
         "showticklabels": false,
         "zeroline": false
        },
        "yaxis": {
         "showgrid": false,
         "showticklabels": false,
         "zeroline": false
        }
       }
      },
      "text/html": [
       "<div>\n",
       "        \n",
       "        \n",
       "            <div id=\"4e48480a-66b1-416f-8572-4c86a5c9188a\" class=\"plotly-graph-div\" style=\"height:500px; width:1000px;\"></div>\n",
       "            <script type=\"text/javascript\">\n",
       "                require([\"plotly\"], function(Plotly) {\n",
       "                    window.PLOTLYENV=window.PLOTLYENV || {};\n",
       "                    \n",
       "                if (document.getElementById(\"4e48480a-66b1-416f-8572-4c86a5c9188a\")) {\n",
       "                    Plotly.newPlot(\n",
       "                        '4e48480a-66b1-416f-8572-4c86a5c9188a',\n",
       "                        [{\"hoverinfo\": \"none\", \"line\": {\"color\": \"#888\", \"width\": 0.5}, \"mode\": \"lines\", \"type\": \"scatter\", \"x\": [0.0, 0.5, null, 0.0, -0.5, null, 0.0, 2.0, null, 0.0, 1.0, null, 0.0, -2.0, null, 0.5, 0.0, null, 0.5, -1.0, null, 0.0, 2.5, null, 0.0, -1.5, null, 0.0, 1.5, null, 0.0, -3.5, null, -0.5, -1.0, null, -0.5, 0.5, null, -0.5, -2.5, null, 2.0, 2.5, null, 2.0, 0.5, null, 2.0, 3.5, null, -1.0, -1.5, null, 2.5, 3.0, null, 2.5, 1.0, null, 1.0, 3.5, null, 1.0, 1.5, null, 1.0, -0.5, null, -2.0, -3.5, null, -2.0, -0.5, null, -2.0, -3.0, null, 0.5, 1.0, null, 0.5, 0.0, null, -1.5, 1.0, null, -1.5, -2.0, null, 3.5, 3.0, null, 3.5, 2.0, null, 3.5, 0.0, null, -2.5, -2.0, null, -2.5, 0.0, null, -2.5, -3.0, null, 1.5, 3.0, null, 1.5, -1.0, null, 3.0, 0.5, null, 3.0, 1.5, null, 1.0, 0.5, null, -3.5, -1.0, null, -3.5, -1.5, null, -2.0, 0.5, null, -2.0, -1.5, null, 2.0, -0.5, null, 2.0, -0.5, null, 2.0, 1.5, null, -0.5, -1.0, null, 0.5, 0.0, null, 0.5, 0.0, null, 0.0, -0.5, null, 0.0, -1.5, null, 0.0, 1.5, null, 0.0, -0.5, null, -0.5, -3.0, null, -1.0, 1.5, null, -1.5, -3.0, null], \"y\": [1, 2, null, 1, 2, null, 1, 3, null, 1, 3, null, 1, 3, null, 2, 3, null, 2, 3, null, 3, 4, null, 3, 4, null, 3, 4, null, 3, 4, null, 2, 3, null, 2, 4, null, 2, 4, null, 3, 4, null, 3, 4, null, 3, 4, null, 3, 4, null, 4, 5, null, 4, 5, null, 3, 4, null, 3, 4, null, 3, 4, null, 3, 4, null, 3, 4, null, 3, 5, null, 4, 5, null, 4, 5, null, 4, 5, null, 4, 5, null, 4, 5, null, 4, 5, null, 4, 5, null, 4, 5, null, 4, 5, null, 4, 5, null, 4, 5, null, 4, 5, null, 5, 6, null, 5, 6, null, 5, 6, null, 4, 5, null, 4, 6, null, 5, 6, null, 5, 6, null, 5, 4, null, 5, 6, null, 5, 6, null, 4, 5, null, 6, 5, null, 6, 7, null, 5, 6, null, 7, 6, null, 7, 6, null, 7, 6, null, 6, 5, null, 5, 6, null, 6, 5, null]}, {\"hoverinfo\": \"text\", \"hovertext\": [\"Concept 27<br>extent (len: 8): apple, grapefruit, tennis ball, kiwi, plum, toy cube, egg, mango<br>intent (len: 8): green, oval, smooth, round, smooth&blue&oval, firm&smooth, smooth&oval, green&oval<br>new extent (len: 8): egg, tennis ball, kiwi, plum, toy cube, apple, mango, grapefruit<br>new intent (len: 0): emptyset<br>mean_y_true: 0.62<br>mean_y_pred: 0.75<br>Metrics<br>\\taccuracy: 0.88<br>\\tprecision: 0.83<br>\\trecall: 1.0<br>\\tneg_precision: 1.0<br>\\tneg_recall: 0.67<br><br>\", \"Concept 26<br>extent (len: 6): apple, kiwi, plum, toy cube, egg, mango<br>intent (len: 7): green, oval, smooth, smooth&blue&oval, firm&smooth, smooth&oval, green&oval<br>new extent (len: 0): emptyset<br>new intent (len: 0): emptyset<br>mean_y_true: 0.67<br>mean_y_pred: 0.67<br>Metrics<br>\\taccuracy: 1.0<br>\\tprecision: 1.0<br>\\trecall: 1.0<br>\\tneg_precision: 1.0<br>\\tneg_recall: 1.0<br><br>\", \"Concept 25<br>extent (len: 5): kiwi, plum, toy cube, egg, mango<br>intent (len: 6): green, oval, smooth&blue&oval, firm&smooth, smooth&oval, green&oval<br>new extent (len: 0): emptyset<br>new intent (len: 0): emptyset<br>mean_y_true: 0.6<br>mean_y_pred: 0.6<br>Metrics<br>\\taccuracy: 1.0<br>\\tprecision: 1.0<br>\\trecall: 1.0<br>\\tneg_precision: 1.0<br>\\tneg_recall: 1.0<br><br>\", \"Concept 24<br>extent (len: 7): apple, grapefruit, tennis ball, plum, toy cube, egg, mango<br>intent (len: 5): smooth, round, smooth&blue&oval, firm&smooth, smooth&oval<br>new extent (len: 0): emptyset<br>new intent (len: 0): emptyset<br>mean_y_true: 0.57<br>mean_y_pred: 0.71<br>Metrics<br>\\taccuracy: 0.86<br>\\tprecision: 0.8<br>\\trecall: 1.0<br>\\tneg_precision: 1.0<br>\\tneg_recall: 0.67<br><br>\", \"Concept 23<br>extent (len: 7): apple, grapefruit, tennis ball, kiwi, plum, egg, mango<br>intent (len: 5): oval, round, smooth&blue&oval, smooth&oval, green&oval<br>new extent (len: 0): emptyset<br>new intent (len: 0): emptyset<br>mean_y_true: 0.71<br>mean_y_pred: 0.86<br>Metrics<br>\\taccuracy: 0.86<br>\\tprecision: 0.83<br>\\trecall: 1.0<br>\\tneg_precision: 1.0<br>\\tneg_recall: 0.5<br><br>\", \"Concept 22<br>extent (len: 5): apple, plum, toy cube, egg, mango<br>intent (len: 4): smooth, smooth&blue&oval, firm&smooth, smooth&oval<br>new extent (len: 0): emptyset<br>new intent (len: 1): smooth<br>mean_y_true: 0.6<br>mean_y_pred: 0.6<br>Metrics<br>\\taccuracy: 1.0<br>\\tprecision: 1.0<br>\\trecall: 1.0<br>\\tneg_precision: 1.0<br>\\tneg_recall: 1.0<br><br>\", \"Concept 21<br>extent (len: 4): kiwi, plum, egg, mango<br>intent (len: 4): oval, smooth&blue&oval, smooth&oval, green&oval<br>new extent (len: 0): emptyset<br>new intent (len: 1): oval<br>mean_y_true: 0.75<br>mean_y_pred: 0.75<br>Metrics<br>\\taccuracy: 1.0<br>\\tprecision: 1.0<br>\\trecall: 1.0<br>\\tneg_precision: 1.0<br>\\tneg_recall: 1.0<br><br>\", \"Concept 20<br>extent (len: 7): apple, grapefruit, tennis ball, kiwi, plum, toy cube, mango<br>intent (len: 4): green, round, smooth&blue&oval, green&oval<br>new extent (len: 0): emptyset<br>new intent (len: 0): emptyset<br>mean_y_true: 0.71<br>mean_y_pred: 0.86<br>Metrics<br>\\taccuracy: 0.86<br>\\tprecision: 0.83<br>\\trecall: 1.0<br>\\tneg_precision: 1.0<br>\\tneg_recall: 0.5<br><br>\", \"Concept 19<br>extent (len: 7): apple, grapefruit, tennis ball, kiwi, toy cube, egg, mango<br>intent (len: 4): green, round, firm&smooth, green&oval<br>new extent (len: 0): emptyset<br>new intent (len: 0): emptyset<br>mean_y_true: 0.57<br>mean_y_pred: 0.71<br>Metrics<br>\\taccuracy: 0.86<br>\\tprecision: 0.8<br>\\trecall: 1.0<br>\\tneg_precision: 1.0<br>\\tneg_recall: 0.67<br><br>\", \"Concept 17<br>extent (len: 6): apple, grapefruit, tennis ball, plum, egg, mango<br>intent (len: 3): round, smooth&blue&oval, smooth&oval<br>new extent (len: 0): emptyset<br>new intent (len: 0): emptyset<br>mean_y_true: 0.67<br>mean_y_pred: 0.83<br>Metrics<br>\\taccuracy: 0.83<br>\\tprecision: 0.8<br>\\trecall: 1.0<br>\\tneg_precision: 1.0<br>\\tneg_recall: 0.5<br><br>\", \"Concept 18<br>extent (len: 4): plum, toy cube, egg, mango<br>intent (len: 3): smooth&blue&oval, firm&smooth, smooth&oval<br>new extent (len: 0): emptyset<br>new intent (len: 0): emptyset<br>mean_y_true: 0.5<br>mean_y_pred: 0.5<br>Metrics<br>\\taccuracy: 1.0<br>\\tprecision: 1.0<br>\\trecall: 1.0<br>\\tneg_precision: 1.0<br>\\tneg_recall: 1.0<br><br>\", \"Concept 16<br>extent (len: 6): apple, grapefruit, tennis ball, kiwi, plum, mango<br>intent (len: 3): round, smooth&blue&oval, green&oval<br>new extent (len: 0): emptyset<br>new intent (len: 0): emptyset<br>mean_y_true: 0.83<br>mean_y_pred: 1.0<br>Metrics<br>\\taccuracy: 0.83<br>\\tprecision: 0.83<br>\\trecall: 1.0<br>\\tneg_precision: 0.0<br>\\tneg_recall: 0.0<br><br>\", \"Concept 15<br>extent (len: 6): apple, grapefruit, tennis ball, plum, toy cube, egg<br>intent (len: 3): round, smooth&blue&oval, firm&smooth<br>new extent (len: 0): emptyset<br>new intent (len: 0): emptyset<br>mean_y_true: 0.5<br>mean_y_pred: 0.67<br>Metrics<br>\\taccuracy: 0.83<br>\\tprecision: 0.75<br>\\trecall: 1.0<br>\\tneg_precision: 1.0<br>\\tneg_recall: 0.67<br><br>\", \"Concept 14<br>extent (len: 4): kiwi, plum, toy cube, mango<br>intent (len: 3): green, smooth&blue&oval, green&oval<br>new extent (len: 0): emptyset<br>new intent (len: 0): emptyset<br>mean_y_true: 0.75<br>mean_y_pred: 0.75<br>Metrics<br>\\taccuracy: 1.0<br>\\tprecision: 1.0<br>\\trecall: 1.0<br>\\tneg_precision: 1.0<br>\\tneg_recall: 1.0<br><br>\", \"Concept 10<br>extent (len: 3): kiwi, plum, mango<br>intent (len: 2): smooth&blue&oval, green&oval<br>new extent (len: 0): emptyset<br>new intent (len: 0): emptyset<br>mean_y_true: 1.0<br>mean_y_pred: 1.0<br>Metrics<br>\\taccuracy: 1.0<br>\\tprecision: 1.0<br>\\trecall: 1.0<br>\\tneg_precision: 0.0<br>\\tneg_recall: 0.0<br><br>\", \"Concept 11<br>extent (len: 3): plum, egg, mango<br>intent (len: 2): smooth&blue&oval, smooth&oval<br>new extent (len: 0): emptyset<br>new intent (len: 1): smooth&oval<br>mean_y_true: 0.67<br>mean_y_pred: 0.67<br>Metrics<br>\\taccuracy: 1.0<br>\\tprecision: 1.0<br>\\trecall: 1.0<br>\\tneg_precision: 1.0<br>\\tneg_recall: 1.0<br><br>\", \"Concept 12<br>extent (len: 4): kiwi, toy cube, egg, mango<br>intent (len: 3): green, firm&smooth, green&oval<br>new extent (len: 0): emptyset<br>new intent (len: 0): emptyset<br>mean_y_true: 0.5<br>mean_y_pred: 0.5<br>Metrics<br>\\taccuracy: 1.0<br>\\tprecision: 1.0<br>\\trecall: 1.0<br>\\tneg_precision: 1.0<br>\\tneg_recall: 1.0<br><br>\", \"Concept 9<br>extent (len: 3): plum, toy cube, egg<br>intent (len: 2): smooth&blue&oval, firm&smooth<br>new extent (len: 0): emptyset<br>new intent (len: 0): emptyset<br>mean_y_true: 0.33<br>mean_y_pred: 0.33<br>Metrics<br>\\taccuracy: 1.0<br>\\tprecision: 1.0<br>\\trecall: 1.0<br>\\tneg_precision: 1.0<br>\\tneg_recall: 1.0<br><br>\", \"Concept 7<br>extent (len: 5): apple, grapefruit, tennis ball, kiwi, mango<br>intent (len: 2): round, green&oval<br>new extent (len: 0): emptyset<br>new intent (len: 0): emptyset<br>mean_y_true: 0.8<br>mean_y_pred: 1.0<br>Metrics<br>\\taccuracy: 0.8<br>\\tprecision: 0.8<br>\\trecall: 1.0<br>\\tneg_precision: 0.0<br>\\tneg_recall: 0.0<br><br>\", \"Concept 13<br>extent (len: 6): apple, grapefruit, tennis ball, kiwi, toy cube, mango<br>intent (len: 3): green, round, green&oval<br>new extent (len: 0): emptyset<br>new intent (len: 0): emptyset<br>mean_y_true: 0.67<br>mean_y_pred: 0.83<br>Metrics<br>\\taccuracy: 0.83<br>\\tprecision: 0.8<br>\\trecall: 1.0<br>\\tneg_precision: 1.0<br>\\tneg_recall: 0.5<br><br>\", \"Concept 4<br>extent (len: 1): plum<br>intent (len: 1): smooth&blue&oval<br>new extent (len: 0): emptyset<br>new intent (len: 1): smooth&blue&oval<br>mean_y_true: 1.0<br>mean_y_pred: 1.0<br>Metrics<br>\\taccuracy: 1.0<br>\\tprecision: 1.0<br>\\trecall: 1.0<br>\\tneg_precision: 0.0<br>\\tneg_recall: 0.0<br><br>\", \"Concept 8<br>extent (len: 4): apple, grapefruit, tennis ball, plum<br>intent (len: 2): round, smooth&blue&oval<br>new extent (len: 0): emptyset<br>new intent (len: 0): emptyset<br>mean_y_true: 0.75<br>mean_y_pred: 1.0<br>Metrics<br>\\taccuracy: 0.75<br>\\tprecision: 0.75<br>\\trecall: 1.0<br>\\tneg_precision: 0.0<br>\\tneg_recall: 0.0<br><br>\", \"Concept 0<br>extent (len: 0): emptyset<br>intent (len: 0): emptyset<br>new extent (len: 0): emptyset<br>new intent (len: 0): emptyset<br>Metrics<br><br>\", \"Concept 3<br>extent (len: 3): apple, grapefruit, tennis ball<br>intent (len: 1): round<br>new extent (len: 0): emptyset<br>new intent (len: 1): round<br>mean_y_true: 0.67<br>mean_y_pred: 1.0<br>Metrics<br>\\taccuracy: 0.67<br>\\tprecision: 0.67<br>\\trecall: 1.0<br>\\tneg_precision: 0.0<br>\\tneg_recall: 0.0<br><br>\", \"Concept 5<br>extent (len: 3): kiwi, toy cube, mango<br>intent (len: 2): green, green&oval<br>new extent (len: 0): emptyset<br>new intent (len: 1): green<br>mean_y_true: 0.67<br>mean_y_pred: 0.67<br>Metrics<br>\\taccuracy: 1.0<br>\\tprecision: 1.0<br>\\trecall: 1.0<br>\\tneg_precision: 1.0<br>\\tneg_recall: 1.0<br><br>\", \"Concept 1<br>extent (len: 2): toy cube, egg<br>intent (len: 1): firm&smooth<br>new extent (len: 0): emptyset<br>new intent (len: 1): firm&smooth<br>mean_y_true: 0.0<br>mean_y_pred: 0.0<br>Metrics<br>\\taccuracy: 1.0<br>\\tprecision: 0.0<br>\\trecall: 0.0<br>\\tneg_precision: 1.0<br>\\tneg_recall: 1.0<br><br>\", \"Concept 2<br>extent (len: 2): kiwi, mango<br>intent (len: 1): green&oval<br>new extent (len: 0): emptyset<br>new intent (len: 1): green&oval<br>mean_y_true: 1.0<br>mean_y_pred: 1.0<br>Metrics<br>\\taccuracy: 1.0<br>\\tprecision: 1.0<br>\\trecall: 1.0<br>\\tneg_precision: 0.0<br>\\tneg_recall: 0.0<br><br>\", \"Concept 6<br>extent (len: 5): apple, grapefruit, tennis ball, toy cube, egg<br>intent (len: 2): round, firm&smooth<br>new extent (len: 0): emptyset<br>new intent (len: 0): emptyset<br>mean_y_true: 0.4<br>mean_y_pred: 0.6<br>Metrics<br>\\taccuracy: 0.8<br>\\tprecision: 0.67<br>\\trecall: 1.0<br>\\tneg_precision: 1.0<br>\\tneg_recall: 0.67<br><br>\"], \"marker\": {\"color\": [0.75, 0.6666666666666666, 0.6, 0.7142857142857143, 0.8571428571428571, 0.6, 0.75, 0.8571428571428571, 0.7142857142857143, 0.8333333333333334, 0.5, 1.0, 0.6666666666666666, 0.75, 1.0, 0.6666666666666666, 0.5, 0.3333333333333333, 1.0, 0.8333333333333334, 1.0, 1.0, \"grey\", 1.0, 0.6666666666666666, 0.0, 1.0, 0.6], \"colorbar\": {\"thickness\": 15, \"title\": {\"side\": \"right\", \"text\": \"Mean fruit prediction\"}, \"xanchor\": \"left\"}, \"colorscale\": [[0.0, \"rgb(103,0,31)\"], [0.1, \"rgb(178,24,43)\"], [0.2, \"rgb(214,96,77)\"], [0.3, \"rgb(244,165,130)\"], [0.4, \"rgb(253,219,199)\"], [0.5, \"rgb(247,247,247)\"], [0.6, \"rgb(209,229,240)\"], [0.7, \"rgb(146,197,222)\"], [0.8, \"rgb(67,147,195)\"], [0.9, \"rgb(33,102,172)\"], [1.0, \"rgb(5,48,97)\"]], \"line\": {\"width\": 2}, \"reversescale\": true, \"showscale\": true, \"size\": 10}, \"mode\": \"markers+text\", \"text\": [\"<br>n: 8\", \"<br>\", \"<br>\", \"<br>\", \"<br>\", \"smooth<br>\", \"oval<br>\", \"<br>\", \"<br>\", \"<br>\", \"<br>\", \"<br>\", \"<br>\", \"<br>\", \"<br>\", \"smooth&oval<br>\", \"<br>\", \"<br>\", \"<br>\", \"<br>\", \"smooth&blue&oval<br>\", \"<br>\", \"<br>\", \"round<br>\", \"green<br>\", \"firm&smooth<br>\", \"green&oval<br>\", \"<br>\"], \"textposition\": \"middle right\", \"type\": \"scatter\", \"x\": [0.0, 0.5, 0.0, -0.5, 2.0, -1.0, 2.5, 1.0, -2.0, 0.5, -1.5, 3.5, -2.5, 1.5, 3.0, 1.0, -3.5, -2.0, 2.0, -0.5, 0.5, 0.0, 0.0, -0.5, -1.0, -1.5, 1.5, -3.0], \"y\": [1, 2, 3, 2, 3, 3, 4, 3, 3, 4, 4, 4, 4, 4, 5, 5, 4, 5, 5, 4, 6, 5, 7, 6, 5, 6, 6, 5]}],\n",
       "                        {\"height\": 500, \"hovermode\": \"closest\", \"margin\": {\"b\": 20, \"l\": 5, \"r\": 5, \"t\": 40}, \"showlegend\": false, \"template\": {\"data\": {\"bar\": [{\"error_x\": {\"color\": \"#2a3f5f\"}, \"error_y\": {\"color\": \"#2a3f5f\"}, \"marker\": {\"line\": {\"color\": \"#E5ECF6\", \"width\": 0.5}}, \"type\": \"bar\"}], \"barpolar\": [{\"marker\": {\"line\": {\"color\": \"#E5ECF6\", \"width\": 0.5}}, \"type\": \"barpolar\"}], \"carpet\": [{\"aaxis\": {\"endlinecolor\": \"#2a3f5f\", \"gridcolor\": \"white\", \"linecolor\": \"white\", \"minorgridcolor\": \"white\", \"startlinecolor\": \"#2a3f5f\"}, \"baxis\": {\"endlinecolor\": \"#2a3f5f\", \"gridcolor\": \"white\", \"linecolor\": \"white\", \"minorgridcolor\": \"white\", \"startlinecolor\": \"#2a3f5f\"}, \"type\": \"carpet\"}], \"choropleth\": [{\"colorbar\": {\"outlinewidth\": 0, \"ticks\": \"\"}, \"type\": \"choropleth\"}], \"contour\": [{\"colorbar\": {\"outlinewidth\": 0, \"ticks\": \"\"}, \"colorscale\": [[0.0, \"#0d0887\"], [0.1111111111111111, \"#46039f\"], [0.2222222222222222, \"#7201a8\"], [0.3333333333333333, \"#9c179e\"], [0.4444444444444444, \"#bd3786\"], [0.5555555555555556, \"#d8576b\"], [0.6666666666666666, \"#ed7953\"], [0.7777777777777778, \"#fb9f3a\"], [0.8888888888888888, \"#fdca26\"], [1.0, \"#f0f921\"]], \"type\": \"contour\"}], \"contourcarpet\": [{\"colorbar\": {\"outlinewidth\": 0, \"ticks\": \"\"}, \"type\": \"contourcarpet\"}], \"heatmap\": [{\"colorbar\": {\"outlinewidth\": 0, \"ticks\": \"\"}, \"colorscale\": [[0.0, \"#0d0887\"], [0.1111111111111111, \"#46039f\"], [0.2222222222222222, \"#7201a8\"], [0.3333333333333333, \"#9c179e\"], [0.4444444444444444, \"#bd3786\"], [0.5555555555555556, \"#d8576b\"], [0.6666666666666666, \"#ed7953\"], [0.7777777777777778, \"#fb9f3a\"], [0.8888888888888888, \"#fdca26\"], [1.0, \"#f0f921\"]], \"type\": \"heatmap\"}], \"heatmapgl\": [{\"colorbar\": {\"outlinewidth\": 0, \"ticks\": \"\"}, \"colorscale\": [[0.0, \"#0d0887\"], [0.1111111111111111, \"#46039f\"], [0.2222222222222222, \"#7201a8\"], [0.3333333333333333, \"#9c179e\"], [0.4444444444444444, \"#bd3786\"], [0.5555555555555556, \"#d8576b\"], [0.6666666666666666, \"#ed7953\"], [0.7777777777777778, \"#fb9f3a\"], [0.8888888888888888, \"#fdca26\"], [1.0, \"#f0f921\"]], \"type\": \"heatmapgl\"}], \"histogram\": [{\"marker\": {\"colorbar\": {\"outlinewidth\": 0, \"ticks\": \"\"}}, \"type\": \"histogram\"}], \"histogram2d\": [{\"colorbar\": {\"outlinewidth\": 0, \"ticks\": \"\"}, \"colorscale\": [[0.0, \"#0d0887\"], [0.1111111111111111, \"#46039f\"], [0.2222222222222222, \"#7201a8\"], [0.3333333333333333, \"#9c179e\"], [0.4444444444444444, \"#bd3786\"], [0.5555555555555556, \"#d8576b\"], [0.6666666666666666, \"#ed7953\"], [0.7777777777777778, \"#fb9f3a\"], [0.8888888888888888, \"#fdca26\"], [1.0, \"#f0f921\"]], \"type\": \"histogram2d\"}], \"histogram2dcontour\": [{\"colorbar\": {\"outlinewidth\": 0, \"ticks\": \"\"}, \"colorscale\": [[0.0, \"#0d0887\"], [0.1111111111111111, \"#46039f\"], [0.2222222222222222, \"#7201a8\"], [0.3333333333333333, \"#9c179e\"], [0.4444444444444444, \"#bd3786\"], [0.5555555555555556, \"#d8576b\"], [0.6666666666666666, \"#ed7953\"], [0.7777777777777778, \"#fb9f3a\"], [0.8888888888888888, \"#fdca26\"], [1.0, \"#f0f921\"]], \"type\": \"histogram2dcontour\"}], \"mesh3d\": [{\"colorbar\": {\"outlinewidth\": 0, \"ticks\": \"\"}, \"type\": \"mesh3d\"}], \"parcoords\": [{\"line\": {\"colorbar\": {\"outlinewidth\": 0, \"ticks\": \"\"}}, \"type\": \"parcoords\"}], \"pie\": [{\"automargin\": true, \"type\": \"pie\"}], \"scatter\": [{\"marker\": {\"colorbar\": {\"outlinewidth\": 0, \"ticks\": \"\"}}, \"type\": \"scatter\"}], \"scatter3d\": [{\"line\": {\"colorbar\": {\"outlinewidth\": 0, \"ticks\": \"\"}}, \"marker\": {\"colorbar\": {\"outlinewidth\": 0, \"ticks\": \"\"}}, \"type\": \"scatter3d\"}], \"scattercarpet\": [{\"marker\": {\"colorbar\": {\"outlinewidth\": 0, \"ticks\": \"\"}}, \"type\": \"scattercarpet\"}], \"scattergeo\": [{\"marker\": {\"colorbar\": {\"outlinewidth\": 0, \"ticks\": \"\"}}, \"type\": \"scattergeo\"}], \"scattergl\": [{\"marker\": {\"colorbar\": {\"outlinewidth\": 0, \"ticks\": \"\"}}, \"type\": \"scattergl\"}], \"scattermapbox\": [{\"marker\": {\"colorbar\": {\"outlinewidth\": 0, \"ticks\": \"\"}}, \"type\": \"scattermapbox\"}], \"scatterpolar\": [{\"marker\": {\"colorbar\": {\"outlinewidth\": 0, \"ticks\": \"\"}}, \"type\": \"scatterpolar\"}], \"scatterpolargl\": [{\"marker\": {\"colorbar\": {\"outlinewidth\": 0, \"ticks\": \"\"}}, \"type\": \"scatterpolargl\"}], \"scatterternary\": [{\"marker\": {\"colorbar\": {\"outlinewidth\": 0, \"ticks\": \"\"}}, \"type\": \"scatterternary\"}], \"surface\": [{\"colorbar\": {\"outlinewidth\": 0, \"ticks\": \"\"}, \"colorscale\": [[0.0, \"#0d0887\"], [0.1111111111111111, \"#46039f\"], [0.2222222222222222, \"#7201a8\"], [0.3333333333333333, \"#9c179e\"], [0.4444444444444444, \"#bd3786\"], [0.5555555555555556, \"#d8576b\"], [0.6666666666666666, \"#ed7953\"], [0.7777777777777778, \"#fb9f3a\"], [0.8888888888888888, \"#fdca26\"], [1.0, \"#f0f921\"]], \"type\": \"surface\"}], \"table\": [{\"cells\": {\"fill\": {\"color\": \"#EBF0F8\"}, \"line\": {\"color\": \"white\"}}, \"header\": {\"fill\": {\"color\": \"#C8D4E3\"}, \"line\": {\"color\": \"white\"}}, \"type\": \"table\"}]}, \"layout\": {\"annotationdefaults\": {\"arrowcolor\": \"#2a3f5f\", \"arrowhead\": 0, \"arrowwidth\": 1}, \"coloraxis\": {\"colorbar\": {\"outlinewidth\": 0, \"ticks\": \"\"}}, \"colorscale\": {\"diverging\": [[0, \"#8e0152\"], [0.1, \"#c51b7d\"], [0.2, \"#de77ae\"], [0.3, \"#f1b6da\"], [0.4, \"#fde0ef\"], [0.5, \"#f7f7f7\"], [0.6, \"#e6f5d0\"], [0.7, \"#b8e186\"], [0.8, \"#7fbc41\"], [0.9, \"#4d9221\"], [1, \"#276419\"]], \"sequential\": [[0.0, \"#0d0887\"], [0.1111111111111111, \"#46039f\"], [0.2222222222222222, \"#7201a8\"], [0.3333333333333333, \"#9c179e\"], [0.4444444444444444, \"#bd3786\"], [0.5555555555555556, \"#d8576b\"], [0.6666666666666666, \"#ed7953\"], [0.7777777777777778, \"#fb9f3a\"], [0.8888888888888888, \"#fdca26\"], [1.0, \"#f0f921\"]], \"sequentialminus\": [[0.0, \"#0d0887\"], [0.1111111111111111, \"#46039f\"], [0.2222222222222222, \"#7201a8\"], [0.3333333333333333, \"#9c179e\"], [0.4444444444444444, \"#bd3786\"], [0.5555555555555556, \"#d8576b\"], [0.6666666666666666, \"#ed7953\"], [0.7777777777777778, \"#fb9f3a\"], [0.8888888888888888, \"#fdca26\"], [1.0, \"#f0f921\"]]}, \"colorway\": [\"#636efa\", \"#EF553B\", \"#00cc96\", \"#ab63fa\", \"#FFA15A\", \"#19d3f3\", \"#FF6692\", \"#B6E880\", \"#FF97FF\", \"#FECB52\"], \"font\": {\"color\": \"#2a3f5f\"}, \"geo\": {\"bgcolor\": \"white\", \"lakecolor\": \"white\", \"landcolor\": \"#E5ECF6\", \"showlakes\": true, \"showland\": true, \"subunitcolor\": \"white\"}, \"hoverlabel\": {\"align\": \"left\"}, \"hovermode\": \"closest\", \"mapbox\": {\"style\": \"light\"}, \"paper_bgcolor\": \"white\", \"plot_bgcolor\": \"#E5ECF6\", \"polar\": {\"angularaxis\": {\"gridcolor\": \"white\", \"linecolor\": \"white\", \"ticks\": \"\"}, \"bgcolor\": \"#E5ECF6\", \"radialaxis\": {\"gridcolor\": \"white\", \"linecolor\": \"white\", \"ticks\": \"\"}}, \"scene\": {\"xaxis\": {\"backgroundcolor\": \"#E5ECF6\", \"gridcolor\": \"white\", \"gridwidth\": 2, \"linecolor\": \"white\", \"showbackground\": true, \"ticks\": \"\", \"zerolinecolor\": \"white\"}, \"yaxis\": {\"backgroundcolor\": \"#E5ECF6\", \"gridcolor\": \"white\", \"gridwidth\": 2, \"linecolor\": \"white\", \"showbackground\": true, \"ticks\": \"\", \"zerolinecolor\": \"white\"}, \"zaxis\": {\"backgroundcolor\": \"#E5ECF6\", \"gridcolor\": \"white\", \"gridwidth\": 2, \"linecolor\": \"white\", \"showbackground\": true, \"ticks\": \"\", \"zerolinecolor\": \"white\"}}, \"shapedefaults\": {\"line\": {\"color\": \"#2a3f5f\"}}, \"ternary\": {\"aaxis\": {\"gridcolor\": \"white\", \"linecolor\": \"white\", \"ticks\": \"\"}, \"baxis\": {\"gridcolor\": \"white\", \"linecolor\": \"white\", \"ticks\": \"\"}, \"bgcolor\": \"#E5ECF6\", \"caxis\": {\"gridcolor\": \"white\", \"linecolor\": \"white\", \"ticks\": \"\"}}, \"title\": {\"x\": 0.05}, \"xaxis\": {\"automargin\": true, \"gridcolor\": \"white\", \"linecolor\": \"white\", \"ticks\": \"\", \"title\": {\"standoff\": 15}, \"zerolinecolor\": \"white\", \"zerolinewidth\": 2}, \"yaxis\": {\"automargin\": true, \"gridcolor\": \"white\", \"linecolor\": \"white\", \"ticks\": \"\", \"title\": {\"standoff\": 15}, \"zerolinecolor\": \"white\", \"zerolinewidth\": 2}}}, \"title\": {\"font\": {\"size\": 16}, \"text\": \"Mango Dataset Concept Lattice\"}, \"width\": 1000, \"xaxis\": {\"showgrid\": false, \"showticklabels\": false, \"zeroline\": false}, \"yaxis\": {\"showgrid\": false, \"showticklabels\": false, \"zeroline\": false}},\n",
       "                        {\"responsive\": true}\n",
       "                    ).then(function(){\n",
       "                            \n",
       "var gd = document.getElementById('4e48480a-66b1-416f-8572-4c86a5c9188a');\n",
       "var x = new MutationObserver(function (mutations, observer) {{\n",
       "        var display = window.getComputedStyle(gd).display;\n",
       "        if (!display || display === 'none') {{\n",
       "            console.log([gd, 'removed!']);\n",
       "            Plotly.purge(gd);\n",
       "            observer.disconnect();\n",
       "        }}\n",
       "}});\n",
       "\n",
       "// Listen for the removal of the full notebook cells\n",
       "var notebookContainer = gd.closest('#notebook-container');\n",
       "if (notebookContainer) {{\n",
       "    x.observe(notebookContainer, {childList: true});\n",
       "}}\n",
       "\n",
       "// Listen for the clearing of the current output cell\n",
       "var outputEl = gd.closest('.output');\n",
       "if (outputEl) {{\n",
       "    x.observe(outputEl, {childList: true});\n",
       "}}\n",
       "\n",
       "                        })\n",
       "                };\n",
       "                });\n",
       "            </script>\n",
       "        </div>"
      ]
     },
     "metadata": {},
     "output_type": "display_data"
    }
   ],
   "source": [
    "fig.show()"
   ]
  },
  {
   "cell_type": "code",
   "execution_count": 228,
   "metadata": {},
   "outputs": [],
   "source": [
    "delete_all_lower_neighbs_downwise(fm_mango_mon)"
   ]
  },
  {
   "cell_type": "code",
   "execution_count": 229,
   "metadata": {},
   "outputs": [],
   "source": [
    "fig = fm_mango_mon.get_plotly_fig(level_sort='mean', sort_by='y_true',\n",
    "                        y_precision=2, title='Mango Dataset Concept Lattice', cbar_title='Mean fruit prediction',\n",
    "                        color_by='y_pred',)"
   ]
  },
  {
   "cell_type": "code",
   "execution_count": 230,
   "metadata": {},
   "outputs": [
    {
     "data": {
      "application/vnd.plotly.v1+json": {
       "config": {
        "plotlyServerURL": "https://plot.ly"
       },
       "data": [
        {
         "hoverinfo": "none",
         "line": {
          "color": "#888",
          "width": 0.5
         },
         "mode": "lines",
         "type": "scatter",
         "x": [
          1.5,
          0,
          null,
          0,
          -1.5,
          null,
          0,
          0.5,
          null,
          0,
          -0.5,
          null
         ],
         "y": [
          1,
          2,
          null,
          2,
          1,
          null,
          2,
          1,
          null,
          2,
          1,
          null
         ]
        },
        {
         "hoverinfo": "text",
         "hovertext": [
          "Concept 4<br>extent (len: 1): plum<br>intent (len: 1): smooth&blue&oval<br>new extent (len: 0): emptyset<br>new intent (len: 1): smooth&blue&oval<br>mean_y_true: 1.0<br>mean_y_pred: 1.0<br>Metrics<br>\taccuracy: 1.0<br>\tprecision: 1.0<br>\trecall: 1.0<br>\tneg_precision: 0.0<br>\tneg_recall: 0.0<br><br>",
          "Concept 0<br>extent (len: 0): emptyset<br>intent (len: 0): emptyset<br>new extent (len: 0): emptyset<br>new intent (len: 0): emptyset<br>Metrics<br><br>",
          "Concept 3<br>extent (len: 3): apple, grapefruit, tennis ball<br>intent (len: 1): round<br>new extent (len: 0): emptyset<br>new intent (len: 1): round<br>mean_y_true: 0.67<br>mean_y_pred: 1.0<br>Metrics<br>\taccuracy: 0.67<br>\tprecision: 0.67<br>\trecall: 1.0<br>\tneg_precision: 0.0<br>\tneg_recall: 0.0<br><br>",
          "Concept 1<br>extent (len: 2): toy cube, egg<br>intent (len: 1): firm&smooth<br>new extent (len: 0): emptyset<br>new intent (len: 1): firm&smooth<br>mean_y_true: 0.0<br>mean_y_pred: 0.0<br>Metrics<br>\taccuracy: 1.0<br>\tprecision: 0.0<br>\trecall: 0.0<br>\tneg_precision: 1.0<br>\tneg_recall: 1.0<br><br>",
          "Concept 2<br>extent (len: 2): kiwi, mango<br>intent (len: 1): green&oval<br>new extent (len: 0): emptyset<br>new intent (len: 1): green&oval<br>mean_y_true: 1.0<br>mean_y_pred: 1.0<br>Metrics<br>\taccuracy: 1.0<br>\tprecision: 1.0<br>\trecall: 1.0<br>\tneg_precision: 0.0<br>\tneg_recall: 0.0<br><br>"
         ],
         "marker": {
          "color": [
           1,
           "grey",
           1,
           0,
           1
          ],
          "colorbar": {
           "thickness": 15,
           "title": {
            "side": "right",
            "text": "Mean fruit prediction"
           },
           "xanchor": "left"
          },
          "colorscale": [
           [
            0,
            "rgb(103,0,31)"
           ],
           [
            0.1,
            "rgb(178,24,43)"
           ],
           [
            0.2,
            "rgb(214,96,77)"
           ],
           [
            0.3,
            "rgb(244,165,130)"
           ],
           [
            0.4,
            "rgb(253,219,199)"
           ],
           [
            0.5,
            "rgb(247,247,247)"
           ],
           [
            0.6,
            "rgb(209,229,240)"
           ],
           [
            0.7,
            "rgb(146,197,222)"
           ],
           [
            0.8,
            "rgb(67,147,195)"
           ],
           [
            0.9,
            "rgb(33,102,172)"
           ],
           [
            1,
            "rgb(5,48,97)"
           ]
          ],
          "line": {
           "width": 2
          },
          "reversescale": true,
          "showscale": true,
          "size": 10
         },
         "mode": "markers+text",
         "text": [
          "smooth&blue&oval<br>",
          "<br>",
          "round<br>",
          "firm&smooth<br>",
          "green&oval<br>"
         ],
         "textposition": "middle right",
         "type": "scatter",
         "x": [
          1.5,
          0,
          -0.5,
          -1.5,
          0.5
         ],
         "y": [
          1,
          2,
          1,
          1,
          1
         ]
        }
       ],
       "layout": {
        "height": 500,
        "hovermode": "closest",
        "margin": {
         "b": 20,
         "l": 5,
         "r": 5,
         "t": 40
        },
        "showlegend": false,
        "template": {
         "data": {
          "bar": [
           {
            "error_x": {
             "color": "#2a3f5f"
            },
            "error_y": {
             "color": "#2a3f5f"
            },
            "marker": {
             "line": {
              "color": "#E5ECF6",
              "width": 0.5
             }
            },
            "type": "bar"
           }
          ],
          "barpolar": [
           {
            "marker": {
             "line": {
              "color": "#E5ECF6",
              "width": 0.5
             }
            },
            "type": "barpolar"
           }
          ],
          "carpet": [
           {
            "aaxis": {
             "endlinecolor": "#2a3f5f",
             "gridcolor": "white",
             "linecolor": "white",
             "minorgridcolor": "white",
             "startlinecolor": "#2a3f5f"
            },
            "baxis": {
             "endlinecolor": "#2a3f5f",
             "gridcolor": "white",
             "linecolor": "white",
             "minorgridcolor": "white",
             "startlinecolor": "#2a3f5f"
            },
            "type": "carpet"
           }
          ],
          "choropleth": [
           {
            "colorbar": {
             "outlinewidth": 0,
             "ticks": ""
            },
            "type": "choropleth"
           }
          ],
          "contour": [
           {
            "colorbar": {
             "outlinewidth": 0,
             "ticks": ""
            },
            "colorscale": [
             [
              0,
              "#0d0887"
             ],
             [
              0.1111111111111111,
              "#46039f"
             ],
             [
              0.2222222222222222,
              "#7201a8"
             ],
             [
              0.3333333333333333,
              "#9c179e"
             ],
             [
              0.4444444444444444,
              "#bd3786"
             ],
             [
              0.5555555555555556,
              "#d8576b"
             ],
             [
              0.6666666666666666,
              "#ed7953"
             ],
             [
              0.7777777777777778,
              "#fb9f3a"
             ],
             [
              0.8888888888888888,
              "#fdca26"
             ],
             [
              1,
              "#f0f921"
             ]
            ],
            "type": "contour"
           }
          ],
          "contourcarpet": [
           {
            "colorbar": {
             "outlinewidth": 0,
             "ticks": ""
            },
            "type": "contourcarpet"
           }
          ],
          "heatmap": [
           {
            "colorbar": {
             "outlinewidth": 0,
             "ticks": ""
            },
            "colorscale": [
             [
              0,
              "#0d0887"
             ],
             [
              0.1111111111111111,
              "#46039f"
             ],
             [
              0.2222222222222222,
              "#7201a8"
             ],
             [
              0.3333333333333333,
              "#9c179e"
             ],
             [
              0.4444444444444444,
              "#bd3786"
             ],
             [
              0.5555555555555556,
              "#d8576b"
             ],
             [
              0.6666666666666666,
              "#ed7953"
             ],
             [
              0.7777777777777778,
              "#fb9f3a"
             ],
             [
              0.8888888888888888,
              "#fdca26"
             ],
             [
              1,
              "#f0f921"
             ]
            ],
            "type": "heatmap"
           }
          ],
          "heatmapgl": [
           {
            "colorbar": {
             "outlinewidth": 0,
             "ticks": ""
            },
            "colorscale": [
             [
              0,
              "#0d0887"
             ],
             [
              0.1111111111111111,
              "#46039f"
             ],
             [
              0.2222222222222222,
              "#7201a8"
             ],
             [
              0.3333333333333333,
              "#9c179e"
             ],
             [
              0.4444444444444444,
              "#bd3786"
             ],
             [
              0.5555555555555556,
              "#d8576b"
             ],
             [
              0.6666666666666666,
              "#ed7953"
             ],
             [
              0.7777777777777778,
              "#fb9f3a"
             ],
             [
              0.8888888888888888,
              "#fdca26"
             ],
             [
              1,
              "#f0f921"
             ]
            ],
            "type": "heatmapgl"
           }
          ],
          "histogram": [
           {
            "marker": {
             "colorbar": {
              "outlinewidth": 0,
              "ticks": ""
             }
            },
            "type": "histogram"
           }
          ],
          "histogram2d": [
           {
            "colorbar": {
             "outlinewidth": 0,
             "ticks": ""
            },
            "colorscale": [
             [
              0,
              "#0d0887"
             ],
             [
              0.1111111111111111,
              "#46039f"
             ],
             [
              0.2222222222222222,
              "#7201a8"
             ],
             [
              0.3333333333333333,
              "#9c179e"
             ],
             [
              0.4444444444444444,
              "#bd3786"
             ],
             [
              0.5555555555555556,
              "#d8576b"
             ],
             [
              0.6666666666666666,
              "#ed7953"
             ],
             [
              0.7777777777777778,
              "#fb9f3a"
             ],
             [
              0.8888888888888888,
              "#fdca26"
             ],
             [
              1,
              "#f0f921"
             ]
            ],
            "type": "histogram2d"
           }
          ],
          "histogram2dcontour": [
           {
            "colorbar": {
             "outlinewidth": 0,
             "ticks": ""
            },
            "colorscale": [
             [
              0,
              "#0d0887"
             ],
             [
              0.1111111111111111,
              "#46039f"
             ],
             [
              0.2222222222222222,
              "#7201a8"
             ],
             [
              0.3333333333333333,
              "#9c179e"
             ],
             [
              0.4444444444444444,
              "#bd3786"
             ],
             [
              0.5555555555555556,
              "#d8576b"
             ],
             [
              0.6666666666666666,
              "#ed7953"
             ],
             [
              0.7777777777777778,
              "#fb9f3a"
             ],
             [
              0.8888888888888888,
              "#fdca26"
             ],
             [
              1,
              "#f0f921"
             ]
            ],
            "type": "histogram2dcontour"
           }
          ],
          "mesh3d": [
           {
            "colorbar": {
             "outlinewidth": 0,
             "ticks": ""
            },
            "type": "mesh3d"
           }
          ],
          "parcoords": [
           {
            "line": {
             "colorbar": {
              "outlinewidth": 0,
              "ticks": ""
             }
            },
            "type": "parcoords"
           }
          ],
          "pie": [
           {
            "automargin": true,
            "type": "pie"
           }
          ],
          "scatter": [
           {
            "marker": {
             "colorbar": {
              "outlinewidth": 0,
              "ticks": ""
             }
            },
            "type": "scatter"
           }
          ],
          "scatter3d": [
           {
            "line": {
             "colorbar": {
              "outlinewidth": 0,
              "ticks": ""
             }
            },
            "marker": {
             "colorbar": {
              "outlinewidth": 0,
              "ticks": ""
             }
            },
            "type": "scatter3d"
           }
          ],
          "scattercarpet": [
           {
            "marker": {
             "colorbar": {
              "outlinewidth": 0,
              "ticks": ""
             }
            },
            "type": "scattercarpet"
           }
          ],
          "scattergeo": [
           {
            "marker": {
             "colorbar": {
              "outlinewidth": 0,
              "ticks": ""
             }
            },
            "type": "scattergeo"
           }
          ],
          "scattergl": [
           {
            "marker": {
             "colorbar": {
              "outlinewidth": 0,
              "ticks": ""
             }
            },
            "type": "scattergl"
           }
          ],
          "scattermapbox": [
           {
            "marker": {
             "colorbar": {
              "outlinewidth": 0,
              "ticks": ""
             }
            },
            "type": "scattermapbox"
           }
          ],
          "scatterpolar": [
           {
            "marker": {
             "colorbar": {
              "outlinewidth": 0,
              "ticks": ""
             }
            },
            "type": "scatterpolar"
           }
          ],
          "scatterpolargl": [
           {
            "marker": {
             "colorbar": {
              "outlinewidth": 0,
              "ticks": ""
             }
            },
            "type": "scatterpolargl"
           }
          ],
          "scatterternary": [
           {
            "marker": {
             "colorbar": {
              "outlinewidth": 0,
              "ticks": ""
             }
            },
            "type": "scatterternary"
           }
          ],
          "surface": [
           {
            "colorbar": {
             "outlinewidth": 0,
             "ticks": ""
            },
            "colorscale": [
             [
              0,
              "#0d0887"
             ],
             [
              0.1111111111111111,
              "#46039f"
             ],
             [
              0.2222222222222222,
              "#7201a8"
             ],
             [
              0.3333333333333333,
              "#9c179e"
             ],
             [
              0.4444444444444444,
              "#bd3786"
             ],
             [
              0.5555555555555556,
              "#d8576b"
             ],
             [
              0.6666666666666666,
              "#ed7953"
             ],
             [
              0.7777777777777778,
              "#fb9f3a"
             ],
             [
              0.8888888888888888,
              "#fdca26"
             ],
             [
              1,
              "#f0f921"
             ]
            ],
            "type": "surface"
           }
          ],
          "table": [
           {
            "cells": {
             "fill": {
              "color": "#EBF0F8"
             },
             "line": {
              "color": "white"
             }
            },
            "header": {
             "fill": {
              "color": "#C8D4E3"
             },
             "line": {
              "color": "white"
             }
            },
            "type": "table"
           }
          ]
         },
         "layout": {
          "annotationdefaults": {
           "arrowcolor": "#2a3f5f",
           "arrowhead": 0,
           "arrowwidth": 1
          },
          "coloraxis": {
           "colorbar": {
            "outlinewidth": 0,
            "ticks": ""
           }
          },
          "colorscale": {
           "diverging": [
            [
             0,
             "#8e0152"
            ],
            [
             0.1,
             "#c51b7d"
            ],
            [
             0.2,
             "#de77ae"
            ],
            [
             0.3,
             "#f1b6da"
            ],
            [
             0.4,
             "#fde0ef"
            ],
            [
             0.5,
             "#f7f7f7"
            ],
            [
             0.6,
             "#e6f5d0"
            ],
            [
             0.7,
             "#b8e186"
            ],
            [
             0.8,
             "#7fbc41"
            ],
            [
             0.9,
             "#4d9221"
            ],
            [
             1,
             "#276419"
            ]
           ],
           "sequential": [
            [
             0,
             "#0d0887"
            ],
            [
             0.1111111111111111,
             "#46039f"
            ],
            [
             0.2222222222222222,
             "#7201a8"
            ],
            [
             0.3333333333333333,
             "#9c179e"
            ],
            [
             0.4444444444444444,
             "#bd3786"
            ],
            [
             0.5555555555555556,
             "#d8576b"
            ],
            [
             0.6666666666666666,
             "#ed7953"
            ],
            [
             0.7777777777777778,
             "#fb9f3a"
            ],
            [
             0.8888888888888888,
             "#fdca26"
            ],
            [
             1,
             "#f0f921"
            ]
           ],
           "sequentialminus": [
            [
             0,
             "#0d0887"
            ],
            [
             0.1111111111111111,
             "#46039f"
            ],
            [
             0.2222222222222222,
             "#7201a8"
            ],
            [
             0.3333333333333333,
             "#9c179e"
            ],
            [
             0.4444444444444444,
             "#bd3786"
            ],
            [
             0.5555555555555556,
             "#d8576b"
            ],
            [
             0.6666666666666666,
             "#ed7953"
            ],
            [
             0.7777777777777778,
             "#fb9f3a"
            ],
            [
             0.8888888888888888,
             "#fdca26"
            ],
            [
             1,
             "#f0f921"
            ]
           ]
          },
          "colorway": [
           "#636efa",
           "#EF553B",
           "#00cc96",
           "#ab63fa",
           "#FFA15A",
           "#19d3f3",
           "#FF6692",
           "#B6E880",
           "#FF97FF",
           "#FECB52"
          ],
          "font": {
           "color": "#2a3f5f"
          },
          "geo": {
           "bgcolor": "white",
           "lakecolor": "white",
           "landcolor": "#E5ECF6",
           "showlakes": true,
           "showland": true,
           "subunitcolor": "white"
          },
          "hoverlabel": {
           "align": "left"
          },
          "hovermode": "closest",
          "mapbox": {
           "style": "light"
          },
          "paper_bgcolor": "white",
          "plot_bgcolor": "#E5ECF6",
          "polar": {
           "angularaxis": {
            "gridcolor": "white",
            "linecolor": "white",
            "ticks": ""
           },
           "bgcolor": "#E5ECF6",
           "radialaxis": {
            "gridcolor": "white",
            "linecolor": "white",
            "ticks": ""
           }
          },
          "scene": {
           "xaxis": {
            "backgroundcolor": "#E5ECF6",
            "gridcolor": "white",
            "gridwidth": 2,
            "linecolor": "white",
            "showbackground": true,
            "ticks": "",
            "zerolinecolor": "white"
           },
           "yaxis": {
            "backgroundcolor": "#E5ECF6",
            "gridcolor": "white",
            "gridwidth": 2,
            "linecolor": "white",
            "showbackground": true,
            "ticks": "",
            "zerolinecolor": "white"
           },
           "zaxis": {
            "backgroundcolor": "#E5ECF6",
            "gridcolor": "white",
            "gridwidth": 2,
            "linecolor": "white",
            "showbackground": true,
            "ticks": "",
            "zerolinecolor": "white"
           }
          },
          "shapedefaults": {
           "line": {
            "color": "#2a3f5f"
           }
          },
          "ternary": {
           "aaxis": {
            "gridcolor": "white",
            "linecolor": "white",
            "ticks": ""
           },
           "baxis": {
            "gridcolor": "white",
            "linecolor": "white",
            "ticks": ""
           },
           "bgcolor": "#E5ECF6",
           "caxis": {
            "gridcolor": "white",
            "linecolor": "white",
            "ticks": ""
           }
          },
          "title": {
           "x": 0.05
          },
          "xaxis": {
           "automargin": true,
           "gridcolor": "white",
           "linecolor": "white",
           "ticks": "",
           "title": {
            "standoff": 15
           },
           "zerolinecolor": "white",
           "zerolinewidth": 2
          },
          "yaxis": {
           "automargin": true,
           "gridcolor": "white",
           "linecolor": "white",
           "ticks": "",
           "title": {
            "standoff": 15
           },
           "zerolinecolor": "white",
           "zerolinewidth": 2
          }
         }
        },
        "title": {
         "font": {
          "size": 16
         },
         "text": "Mango Dataset Concept Lattice"
        },
        "width": 1000,
        "xaxis": {
         "showgrid": false,
         "showticklabels": false,
         "zeroline": false
        },
        "yaxis": {
         "showgrid": false,
         "showticklabels": false,
         "zeroline": false
        }
       }
      },
      "text/html": [
       "<div>\n",
       "        \n",
       "        \n",
       "            <div id=\"63716ff3-799d-4485-aadf-d6fa22d132f0\" class=\"plotly-graph-div\" style=\"height:500px; width:1000px;\"></div>\n",
       "            <script type=\"text/javascript\">\n",
       "                require([\"plotly\"], function(Plotly) {\n",
       "                    window.PLOTLYENV=window.PLOTLYENV || {};\n",
       "                    \n",
       "                if (document.getElementById(\"63716ff3-799d-4485-aadf-d6fa22d132f0\")) {\n",
       "                    Plotly.newPlot(\n",
       "                        '63716ff3-799d-4485-aadf-d6fa22d132f0',\n",
       "                        [{\"hoverinfo\": \"none\", \"line\": {\"color\": \"#888\", \"width\": 0.5}, \"mode\": \"lines\", \"type\": \"scatter\", \"x\": [1.5, 0.0, null, 0.0, -1.5, null, 0.0, 0.5, null, 0.0, -0.5, null], \"y\": [1, 2, null, 2, 1, null, 2, 1, null, 2, 1, null]}, {\"hoverinfo\": \"text\", \"hovertext\": [\"Concept 4<br>extent (len: 1): plum<br>intent (len: 1): smooth&blue&oval<br>new extent (len: 0): emptyset<br>new intent (len: 1): smooth&blue&oval<br>mean_y_true: 1.0<br>mean_y_pred: 1.0<br>Metrics<br>\\taccuracy: 1.0<br>\\tprecision: 1.0<br>\\trecall: 1.0<br>\\tneg_precision: 0.0<br>\\tneg_recall: 0.0<br><br>\", \"Concept 0<br>extent (len: 0): emptyset<br>intent (len: 0): emptyset<br>new extent (len: 0): emptyset<br>new intent (len: 0): emptyset<br>Metrics<br><br>\", \"Concept 3<br>extent (len: 3): apple, grapefruit, tennis ball<br>intent (len: 1): round<br>new extent (len: 0): emptyset<br>new intent (len: 1): round<br>mean_y_true: 0.67<br>mean_y_pred: 1.0<br>Metrics<br>\\taccuracy: 0.67<br>\\tprecision: 0.67<br>\\trecall: 1.0<br>\\tneg_precision: 0.0<br>\\tneg_recall: 0.0<br><br>\", \"Concept 1<br>extent (len: 2): toy cube, egg<br>intent (len: 1): firm&smooth<br>new extent (len: 0): emptyset<br>new intent (len: 1): firm&smooth<br>mean_y_true: 0.0<br>mean_y_pred: 0.0<br>Metrics<br>\\taccuracy: 1.0<br>\\tprecision: 0.0<br>\\trecall: 0.0<br>\\tneg_precision: 1.0<br>\\tneg_recall: 1.0<br><br>\", \"Concept 2<br>extent (len: 2): kiwi, mango<br>intent (len: 1): green&oval<br>new extent (len: 0): emptyset<br>new intent (len: 1): green&oval<br>mean_y_true: 1.0<br>mean_y_pred: 1.0<br>Metrics<br>\\taccuracy: 1.0<br>\\tprecision: 1.0<br>\\trecall: 1.0<br>\\tneg_precision: 0.0<br>\\tneg_recall: 0.0<br><br>\"], \"marker\": {\"color\": [1.0, \"grey\", 1.0, 0.0, 1.0], \"colorbar\": {\"thickness\": 15, \"title\": {\"side\": \"right\", \"text\": \"Mean fruit prediction\"}, \"xanchor\": \"left\"}, \"colorscale\": [[0.0, \"rgb(103,0,31)\"], [0.1, \"rgb(178,24,43)\"], [0.2, \"rgb(214,96,77)\"], [0.3, \"rgb(244,165,130)\"], [0.4, \"rgb(253,219,199)\"], [0.5, \"rgb(247,247,247)\"], [0.6, \"rgb(209,229,240)\"], [0.7, \"rgb(146,197,222)\"], [0.8, \"rgb(67,147,195)\"], [0.9, \"rgb(33,102,172)\"], [1.0, \"rgb(5,48,97)\"]], \"line\": {\"width\": 2}, \"reversescale\": true, \"showscale\": true, \"size\": 10}, \"mode\": \"markers+text\", \"text\": [\"smooth&blue&oval<br>\", \"<br>\", \"round<br>\", \"firm&smooth<br>\", \"green&oval<br>\"], \"textposition\": \"middle right\", \"type\": \"scatter\", \"x\": [1.5, 0.0, -0.5, -1.5, 0.5], \"y\": [1, 2, 1, 1, 1]}],\n",
       "                        {\"height\": 500, \"hovermode\": \"closest\", \"margin\": {\"b\": 20, \"l\": 5, \"r\": 5, \"t\": 40}, \"showlegend\": false, \"template\": {\"data\": {\"bar\": [{\"error_x\": {\"color\": \"#2a3f5f\"}, \"error_y\": {\"color\": \"#2a3f5f\"}, \"marker\": {\"line\": {\"color\": \"#E5ECF6\", \"width\": 0.5}}, \"type\": \"bar\"}], \"barpolar\": [{\"marker\": {\"line\": {\"color\": \"#E5ECF6\", \"width\": 0.5}}, \"type\": \"barpolar\"}], \"carpet\": [{\"aaxis\": {\"endlinecolor\": \"#2a3f5f\", \"gridcolor\": \"white\", \"linecolor\": \"white\", \"minorgridcolor\": \"white\", \"startlinecolor\": \"#2a3f5f\"}, \"baxis\": {\"endlinecolor\": \"#2a3f5f\", \"gridcolor\": \"white\", \"linecolor\": \"white\", \"minorgridcolor\": \"white\", \"startlinecolor\": \"#2a3f5f\"}, \"type\": \"carpet\"}], \"choropleth\": [{\"colorbar\": {\"outlinewidth\": 0, \"ticks\": \"\"}, \"type\": \"choropleth\"}], \"contour\": [{\"colorbar\": {\"outlinewidth\": 0, \"ticks\": \"\"}, \"colorscale\": [[0.0, \"#0d0887\"], [0.1111111111111111, \"#46039f\"], [0.2222222222222222, \"#7201a8\"], [0.3333333333333333, \"#9c179e\"], [0.4444444444444444, \"#bd3786\"], [0.5555555555555556, \"#d8576b\"], [0.6666666666666666, \"#ed7953\"], [0.7777777777777778, \"#fb9f3a\"], [0.8888888888888888, \"#fdca26\"], [1.0, \"#f0f921\"]], \"type\": \"contour\"}], \"contourcarpet\": [{\"colorbar\": {\"outlinewidth\": 0, \"ticks\": \"\"}, \"type\": \"contourcarpet\"}], \"heatmap\": [{\"colorbar\": {\"outlinewidth\": 0, \"ticks\": \"\"}, \"colorscale\": [[0.0, \"#0d0887\"], [0.1111111111111111, \"#46039f\"], [0.2222222222222222, \"#7201a8\"], [0.3333333333333333, \"#9c179e\"], [0.4444444444444444, \"#bd3786\"], [0.5555555555555556, \"#d8576b\"], [0.6666666666666666, \"#ed7953\"], [0.7777777777777778, \"#fb9f3a\"], [0.8888888888888888, \"#fdca26\"], [1.0, \"#f0f921\"]], \"type\": \"heatmap\"}], \"heatmapgl\": [{\"colorbar\": {\"outlinewidth\": 0, \"ticks\": \"\"}, \"colorscale\": [[0.0, \"#0d0887\"], [0.1111111111111111, \"#46039f\"], [0.2222222222222222, \"#7201a8\"], [0.3333333333333333, \"#9c179e\"], [0.4444444444444444, \"#bd3786\"], [0.5555555555555556, \"#d8576b\"], [0.6666666666666666, \"#ed7953\"], [0.7777777777777778, \"#fb9f3a\"], [0.8888888888888888, \"#fdca26\"], [1.0, \"#f0f921\"]], \"type\": \"heatmapgl\"}], \"histogram\": [{\"marker\": {\"colorbar\": {\"outlinewidth\": 0, \"ticks\": \"\"}}, \"type\": \"histogram\"}], \"histogram2d\": [{\"colorbar\": {\"outlinewidth\": 0, \"ticks\": \"\"}, \"colorscale\": [[0.0, \"#0d0887\"], [0.1111111111111111, \"#46039f\"], [0.2222222222222222, \"#7201a8\"], [0.3333333333333333, \"#9c179e\"], [0.4444444444444444, \"#bd3786\"], [0.5555555555555556, \"#d8576b\"], [0.6666666666666666, \"#ed7953\"], [0.7777777777777778, \"#fb9f3a\"], [0.8888888888888888, \"#fdca26\"], [1.0, \"#f0f921\"]], \"type\": \"histogram2d\"}], \"histogram2dcontour\": [{\"colorbar\": {\"outlinewidth\": 0, \"ticks\": \"\"}, \"colorscale\": [[0.0, \"#0d0887\"], [0.1111111111111111, \"#46039f\"], [0.2222222222222222, \"#7201a8\"], [0.3333333333333333, \"#9c179e\"], [0.4444444444444444, \"#bd3786\"], [0.5555555555555556, \"#d8576b\"], [0.6666666666666666, \"#ed7953\"], [0.7777777777777778, \"#fb9f3a\"], [0.8888888888888888, \"#fdca26\"], [1.0, \"#f0f921\"]], \"type\": \"histogram2dcontour\"}], \"mesh3d\": [{\"colorbar\": {\"outlinewidth\": 0, \"ticks\": \"\"}, \"type\": \"mesh3d\"}], \"parcoords\": [{\"line\": {\"colorbar\": {\"outlinewidth\": 0, \"ticks\": \"\"}}, \"type\": \"parcoords\"}], \"pie\": [{\"automargin\": true, \"type\": \"pie\"}], \"scatter\": [{\"marker\": {\"colorbar\": {\"outlinewidth\": 0, \"ticks\": \"\"}}, \"type\": \"scatter\"}], \"scatter3d\": [{\"line\": {\"colorbar\": {\"outlinewidth\": 0, \"ticks\": \"\"}}, \"marker\": {\"colorbar\": {\"outlinewidth\": 0, \"ticks\": \"\"}}, \"type\": \"scatter3d\"}], \"scattercarpet\": [{\"marker\": {\"colorbar\": {\"outlinewidth\": 0, \"ticks\": \"\"}}, \"type\": \"scattercarpet\"}], \"scattergeo\": [{\"marker\": {\"colorbar\": {\"outlinewidth\": 0, \"ticks\": \"\"}}, \"type\": \"scattergeo\"}], \"scattergl\": [{\"marker\": {\"colorbar\": {\"outlinewidth\": 0, \"ticks\": \"\"}}, \"type\": \"scattergl\"}], \"scattermapbox\": [{\"marker\": {\"colorbar\": {\"outlinewidth\": 0, \"ticks\": \"\"}}, \"type\": \"scattermapbox\"}], \"scatterpolar\": [{\"marker\": {\"colorbar\": {\"outlinewidth\": 0, \"ticks\": \"\"}}, \"type\": \"scatterpolar\"}], \"scatterpolargl\": [{\"marker\": {\"colorbar\": {\"outlinewidth\": 0, \"ticks\": \"\"}}, \"type\": \"scatterpolargl\"}], \"scatterternary\": [{\"marker\": {\"colorbar\": {\"outlinewidth\": 0, \"ticks\": \"\"}}, \"type\": \"scatterternary\"}], \"surface\": [{\"colorbar\": {\"outlinewidth\": 0, \"ticks\": \"\"}, \"colorscale\": [[0.0, \"#0d0887\"], [0.1111111111111111, \"#46039f\"], [0.2222222222222222, \"#7201a8\"], [0.3333333333333333, \"#9c179e\"], [0.4444444444444444, \"#bd3786\"], [0.5555555555555556, \"#d8576b\"], [0.6666666666666666, \"#ed7953\"], [0.7777777777777778, \"#fb9f3a\"], [0.8888888888888888, \"#fdca26\"], [1.0, \"#f0f921\"]], \"type\": \"surface\"}], \"table\": [{\"cells\": {\"fill\": {\"color\": \"#EBF0F8\"}, \"line\": {\"color\": \"white\"}}, \"header\": {\"fill\": {\"color\": \"#C8D4E3\"}, \"line\": {\"color\": \"white\"}}, \"type\": \"table\"}]}, \"layout\": {\"annotationdefaults\": {\"arrowcolor\": \"#2a3f5f\", \"arrowhead\": 0, \"arrowwidth\": 1}, \"coloraxis\": {\"colorbar\": {\"outlinewidth\": 0, \"ticks\": \"\"}}, \"colorscale\": {\"diverging\": [[0, \"#8e0152\"], [0.1, \"#c51b7d\"], [0.2, \"#de77ae\"], [0.3, \"#f1b6da\"], [0.4, \"#fde0ef\"], [0.5, \"#f7f7f7\"], [0.6, \"#e6f5d0\"], [0.7, \"#b8e186\"], [0.8, \"#7fbc41\"], [0.9, \"#4d9221\"], [1, \"#276419\"]], \"sequential\": [[0.0, \"#0d0887\"], [0.1111111111111111, \"#46039f\"], [0.2222222222222222, \"#7201a8\"], [0.3333333333333333, \"#9c179e\"], [0.4444444444444444, \"#bd3786\"], [0.5555555555555556, \"#d8576b\"], [0.6666666666666666, \"#ed7953\"], [0.7777777777777778, \"#fb9f3a\"], [0.8888888888888888, \"#fdca26\"], [1.0, \"#f0f921\"]], \"sequentialminus\": [[0.0, \"#0d0887\"], [0.1111111111111111, \"#46039f\"], [0.2222222222222222, \"#7201a8\"], [0.3333333333333333, \"#9c179e\"], [0.4444444444444444, \"#bd3786\"], [0.5555555555555556, \"#d8576b\"], [0.6666666666666666, \"#ed7953\"], [0.7777777777777778, \"#fb9f3a\"], [0.8888888888888888, \"#fdca26\"], [1.0, \"#f0f921\"]]}, \"colorway\": [\"#636efa\", \"#EF553B\", \"#00cc96\", \"#ab63fa\", \"#FFA15A\", \"#19d3f3\", \"#FF6692\", \"#B6E880\", \"#FF97FF\", \"#FECB52\"], \"font\": {\"color\": \"#2a3f5f\"}, \"geo\": {\"bgcolor\": \"white\", \"lakecolor\": \"white\", \"landcolor\": \"#E5ECF6\", \"showlakes\": true, \"showland\": true, \"subunitcolor\": \"white\"}, \"hoverlabel\": {\"align\": \"left\"}, \"hovermode\": \"closest\", \"mapbox\": {\"style\": \"light\"}, \"paper_bgcolor\": \"white\", \"plot_bgcolor\": \"#E5ECF6\", \"polar\": {\"angularaxis\": {\"gridcolor\": \"white\", \"linecolor\": \"white\", \"ticks\": \"\"}, \"bgcolor\": \"#E5ECF6\", \"radialaxis\": {\"gridcolor\": \"white\", \"linecolor\": \"white\", \"ticks\": \"\"}}, \"scene\": {\"xaxis\": {\"backgroundcolor\": \"#E5ECF6\", \"gridcolor\": \"white\", \"gridwidth\": 2, \"linecolor\": \"white\", \"showbackground\": true, \"ticks\": \"\", \"zerolinecolor\": \"white\"}, \"yaxis\": {\"backgroundcolor\": \"#E5ECF6\", \"gridcolor\": \"white\", \"gridwidth\": 2, \"linecolor\": \"white\", \"showbackground\": true, \"ticks\": \"\", \"zerolinecolor\": \"white\"}, \"zaxis\": {\"backgroundcolor\": \"#E5ECF6\", \"gridcolor\": \"white\", \"gridwidth\": 2, \"linecolor\": \"white\", \"showbackground\": true, \"ticks\": \"\", \"zerolinecolor\": \"white\"}}, \"shapedefaults\": {\"line\": {\"color\": \"#2a3f5f\"}}, \"ternary\": {\"aaxis\": {\"gridcolor\": \"white\", \"linecolor\": \"white\", \"ticks\": \"\"}, \"baxis\": {\"gridcolor\": \"white\", \"linecolor\": \"white\", \"ticks\": \"\"}, \"bgcolor\": \"#E5ECF6\", \"caxis\": {\"gridcolor\": \"white\", \"linecolor\": \"white\", \"ticks\": \"\"}}, \"title\": {\"x\": 0.05}, \"xaxis\": {\"automargin\": true, \"gridcolor\": \"white\", \"linecolor\": \"white\", \"ticks\": \"\", \"title\": {\"standoff\": 15}, \"zerolinecolor\": \"white\", \"zerolinewidth\": 2}, \"yaxis\": {\"automargin\": true, \"gridcolor\": \"white\", \"linecolor\": \"white\", \"ticks\": \"\", \"title\": {\"standoff\": 15}, \"zerolinecolor\": \"white\", \"zerolinewidth\": 2}}}, \"title\": {\"font\": {\"size\": 16}, \"text\": \"Mango Dataset Concept Lattice\"}, \"width\": 1000, \"xaxis\": {\"showgrid\": false, \"showticklabels\": false, \"zeroline\": false}, \"yaxis\": {\"showgrid\": false, \"showticklabels\": false, \"zeroline\": false}},\n",
       "                        {\"responsive\": true}\n",
       "                    ).then(function(){\n",
       "                            \n",
       "var gd = document.getElementById('63716ff3-799d-4485-aadf-d6fa22d132f0');\n",
       "var x = new MutationObserver(function (mutations, observer) {{\n",
       "        var display = window.getComputedStyle(gd).display;\n",
       "        if (!display || display === 'none') {{\n",
       "            console.log([gd, 'removed!']);\n",
       "            Plotly.purge(gd);\n",
       "            observer.disconnect();\n",
       "        }}\n",
       "}});\n",
       "\n",
       "// Listen for the removal of the full notebook cells\n",
       "var notebookContainer = gd.closest('#notebook-container');\n",
       "if (notebookContainer) {{\n",
       "    x.observe(notebookContainer, {childList: true});\n",
       "}}\n",
       "\n",
       "// Listen for the clearing of the current output cell\n",
       "var outputEl = gd.closest('.output');\n",
       "if (outputEl) {{\n",
       "    x.observe(outputEl, {childList: true});\n",
       "}}\n",
       "\n",
       "                        })\n",
       "                };\n",
       "                });\n",
       "            </script>\n",
       "        </div>"
      ]
     },
     "metadata": {},
     "output_type": "display_data"
    }
   ],
   "source": [
    "fig.show()"
   ]
  },
  {
   "cell_type": "code",
   "execution_count": 232,
   "metadata": {},
   "outputs": [
    {
     "name": "stdout",
     "output_type": "stream",
     "text": [
      "1: firm&smooth -> 0.00\n",
      "2: green&oval -> 1.00\n",
      "3: round -> 1.00\n",
      "4: smooth&blue&oval -> 1.00\n"
     ]
    }
   ],
   "source": [
    "plot_concepts_as_hypotheses(fm_mango_mon._concepts)"
   ]
  },
  {
   "cell_type": "code",
   "execution_count": 240,
   "metadata": {},
   "outputs": [
    {
     "name": "stdout",
     "output_type": "stream",
     "text": [
      "-------------------------\n",
      "-----Base hypothesis-----\n",
      "-------------------------\n",
      "0: _ -> 0.75\n",
      "\n",
      "-------------------------\n",
      "---Positive hypotheses---\n",
      "-------------------------\n",
      "2: green&oval -> 1.00\n",
      "3: round -> 1.00\n",
      "4: smooth&blue&oval -> 1.00\n",
      "\n",
      "-------------------------\n",
      "---Negative hypotheses---\n",
      "-------------------------\n",
      "1: firm&smooth -> 0.00\n"
     ]
    }
   ],
   "source": [
    "plot_base_pos_neg_hypotheses(fm_mango_mon, base_pred=train_preds.mean())"
   ]
  },
  {
   "cell_type": "markdown",
   "metadata": {},
   "source": [
    "# Bank DataSet"
   ]
  },
  {
   "cell_type": "code",
   "execution_count": 241,
   "metadata": {},
   "outputs": [
    {
     "name": "stdout",
     "output_type": "stream",
     "text": [
      "(4521, 17)\n"
     ]
    },
    {
     "data": {
      "text/html": [
       "<div>\n",
       "<style scoped>\n",
       "    .dataframe tbody tr th:only-of-type {\n",
       "        vertical-align: middle;\n",
       "    }\n",
       "\n",
       "    .dataframe tbody tr th {\n",
       "        vertical-align: top;\n",
       "    }\n",
       "\n",
       "    .dataframe thead th {\n",
       "        text-align: right;\n",
       "    }\n",
       "</style>\n",
       "<table border=\"1\" class=\"dataframe\">\n",
       "  <thead>\n",
       "    <tr style=\"text-align: right;\">\n",
       "      <th></th>\n",
       "      <th>age</th>\n",
       "      <th>job</th>\n",
       "      <th>marital</th>\n",
       "      <th>education</th>\n",
       "      <th>default</th>\n",
       "      <th>balance</th>\n",
       "      <th>housing</th>\n",
       "      <th>loan</th>\n",
       "      <th>contact</th>\n",
       "      <th>day</th>\n",
       "      <th>month</th>\n",
       "      <th>duration</th>\n",
       "      <th>campaign</th>\n",
       "      <th>pdays</th>\n",
       "      <th>previous</th>\n",
       "      <th>poutcome</th>\n",
       "      <th>y</th>\n",
       "    </tr>\n",
       "  </thead>\n",
       "  <tbody>\n",
       "    <tr>\n",
       "      <th>0</th>\n",
       "      <td>30</td>\n",
       "      <td>unemployed</td>\n",
       "      <td>married</td>\n",
       "      <td>primary</td>\n",
       "      <td>no</td>\n",
       "      <td>1787</td>\n",
       "      <td>no</td>\n",
       "      <td>no</td>\n",
       "      <td>cellular</td>\n",
       "      <td>19</td>\n",
       "      <td>oct</td>\n",
       "      <td>79</td>\n",
       "      <td>1</td>\n",
       "      <td>-1</td>\n",
       "      <td>0</td>\n",
       "      <td>unknown</td>\n",
       "      <td>no</td>\n",
       "    </tr>\n",
       "    <tr>\n",
       "      <th>1</th>\n",
       "      <td>33</td>\n",
       "      <td>services</td>\n",
       "      <td>married</td>\n",
       "      <td>secondary</td>\n",
       "      <td>no</td>\n",
       "      <td>4789</td>\n",
       "      <td>yes</td>\n",
       "      <td>yes</td>\n",
       "      <td>cellular</td>\n",
       "      <td>11</td>\n",
       "      <td>may</td>\n",
       "      <td>220</td>\n",
       "      <td>1</td>\n",
       "      <td>339</td>\n",
       "      <td>4</td>\n",
       "      <td>failure</td>\n",
       "      <td>no</td>\n",
       "    </tr>\n",
       "    <tr>\n",
       "      <th>2</th>\n",
       "      <td>35</td>\n",
       "      <td>management</td>\n",
       "      <td>single</td>\n",
       "      <td>tertiary</td>\n",
       "      <td>no</td>\n",
       "      <td>1350</td>\n",
       "      <td>yes</td>\n",
       "      <td>no</td>\n",
       "      <td>cellular</td>\n",
       "      <td>16</td>\n",
       "      <td>apr</td>\n",
       "      <td>185</td>\n",
       "      <td>1</td>\n",
       "      <td>330</td>\n",
       "      <td>1</td>\n",
       "      <td>failure</td>\n",
       "      <td>no</td>\n",
       "    </tr>\n",
       "    <tr>\n",
       "      <th>3</th>\n",
       "      <td>30</td>\n",
       "      <td>management</td>\n",
       "      <td>married</td>\n",
       "      <td>tertiary</td>\n",
       "      <td>no</td>\n",
       "      <td>1476</td>\n",
       "      <td>yes</td>\n",
       "      <td>yes</td>\n",
       "      <td>unknown</td>\n",
       "      <td>3</td>\n",
       "      <td>jun</td>\n",
       "      <td>199</td>\n",
       "      <td>4</td>\n",
       "      <td>-1</td>\n",
       "      <td>0</td>\n",
       "      <td>unknown</td>\n",
       "      <td>no</td>\n",
       "    </tr>\n",
       "    <tr>\n",
       "      <th>4</th>\n",
       "      <td>59</td>\n",
       "      <td>blue-collar</td>\n",
       "      <td>married</td>\n",
       "      <td>secondary</td>\n",
       "      <td>no</td>\n",
       "      <td>0</td>\n",
       "      <td>yes</td>\n",
       "      <td>no</td>\n",
       "      <td>unknown</td>\n",
       "      <td>5</td>\n",
       "      <td>may</td>\n",
       "      <td>226</td>\n",
       "      <td>1</td>\n",
       "      <td>-1</td>\n",
       "      <td>0</td>\n",
       "      <td>unknown</td>\n",
       "      <td>no</td>\n",
       "    </tr>\n",
       "  </tbody>\n",
       "</table>\n",
       "</div>"
      ],
      "text/plain": [
       "   age          job  marital  education default  balance housing loan  \\\n",
       "0   30   unemployed  married    primary      no     1787      no   no   \n",
       "1   33     services  married  secondary      no     4789     yes  yes   \n",
       "2   35   management   single   tertiary      no     1350     yes   no   \n",
       "3   30   management  married   tertiary      no     1476     yes  yes   \n",
       "4   59  blue-collar  married  secondary      no        0     yes   no   \n",
       "\n",
       "    contact  day month  duration  campaign  pdays  previous poutcome   y  \n",
       "0  cellular   19   oct        79         1     -1         0  unknown  no  \n",
       "1  cellular   11   may       220         1    339         4  failure  no  \n",
       "2  cellular   16   apr       185         1    330         1  failure  no  \n",
       "3   unknown    3   jun       199         4     -1         0  unknown  no  \n",
       "4   unknown    5   may       226         1     -1         0  unknown  no  "
      ]
     },
     "execution_count": 241,
     "metadata": {},
     "output_type": "execute_result"
    }
   ],
   "source": [
    "bank_ds = pd.read_csv(os.path.join(DATASETS_DIR, 'bank.csv'), sep=';')\n",
    "print(bank_ds.shape)\n",
    "bank_ds.head()"
   ]
  },
  {
   "cell_type": "code",
   "execution_count": 242,
   "metadata": {},
   "outputs": [
    {
     "data": {
      "text/html": [
       "<div>\n",
       "<style scoped>\n",
       "    .dataframe tbody tr th:only-of-type {\n",
       "        vertical-align: middle;\n",
       "    }\n",
       "\n",
       "    .dataframe tbody tr th {\n",
       "        vertical-align: top;\n",
       "    }\n",
       "\n",
       "    .dataframe thead th {\n",
       "        text-align: right;\n",
       "    }\n",
       "</style>\n",
       "<table border=\"1\" class=\"dataframe\">\n",
       "  <thead>\n",
       "    <tr style=\"text-align: right;\">\n",
       "      <th></th>\n",
       "      <th>metrics</th>\n",
       "      <th>train</th>\n",
       "      <th>test</th>\n",
       "    </tr>\n",
       "  </thead>\n",
       "  <tbody>\n",
       "    <tr>\n",
       "      <th>0</th>\n",
       "      <td>accuracy_score</td>\n",
       "      <td>0.937758</td>\n",
       "      <td>0.905393</td>\n",
       "    </tr>\n",
       "    <tr>\n",
       "      <th>1</th>\n",
       "      <td>precision_score</td>\n",
       "      <td>0.838828</td>\n",
       "      <td>0.600000</td>\n",
       "    </tr>\n",
       "    <tr>\n",
       "      <th>2</th>\n",
       "      <td>recall_score</td>\n",
       "      <td>0.578283</td>\n",
       "      <td>0.432000</td>\n",
       "    </tr>\n",
       "    <tr>\n",
       "      <th>3</th>\n",
       "      <td>y_mean</td>\n",
       "      <td>0.116814</td>\n",
       "      <td>0.110522</td>\n",
       "    </tr>\n",
       "  </tbody>\n",
       "</table>\n",
       "</div>"
      ],
      "text/plain": [
       "           metrics     train      test\n",
       "0   accuracy_score  0.937758  0.905393\n",
       "1  precision_score  0.838828  0.600000\n",
       "2     recall_score  0.578283  0.432000\n",
       "3           y_mean  0.116814  0.110522"
      ]
     },
     "execution_count": 242,
     "metadata": {},
     "output_type": "execute_result"
    }
   ],
   "source": [
    "y_feat = 'y'\n",
    "s = bank_ds.drop(y_feat,1).dtypes\n",
    "cat_feats = list(s[s==np.dtype('O')].index)\n",
    "real_feats = list(s.drop(cat_feats).index)\n",
    "\n",
    "X_train, X_test, y_train, y_test = train_test_split(bank_ds[cat_feats+real_feats],\n",
    "                                                    bank_ds[y_feat].apply(lambda x: {'no':0,'yes':1}[x]),\n",
    "                                                   random_state=42)\n",
    "\n",
    "train_pool = Pool(X_train, y_train, cat_features=cat_feats)\n",
    "test_pool = Pool(X_test, y_test, cat_features=cat_feats)\n",
    "bb = CatBoostClassifier(random_seed=42)\n",
    "bb.fit(train_pool, verbose=False, plot=False)\n",
    "\n",
    "train_preds, test_preds = bb.predict(train_pool), bb.predict(test_pool)\n",
    "train_preds_proba, test_preds_proba = bb.predict_proba(train_pool)[:,1], bb.predict_proba(test_pool)[:,1]\n",
    "metrics_ds = []\n",
    "for m in [accuracy_score, precision_score, recall_score]:\n",
    "    res = {'train':m(y_train, train_preds), 'test':m(y_test, test_preds), 'metrics':m.__name__}\n",
    "    metrics_ds.append(res)\n",
    "metrics_ds.append({'train':y_train.mean(), 'test':y_test.mean(), 'metrics':'y_mean'})\n",
    "metrics_ds = pd.DataFrame(metrics_ds).reindex(columns=['metrics','train','test'])\n",
    "metrics_ds"
   ]
  },
  {
   "cell_type": "markdown",
   "metadata": {},
   "source": [
    "# Задача\n",
    "\n",
    "Найти импликации, гипотезы и ассоциативные правила, которые отражают зависимость целевой переменной $Y$ от конкретных значений признаков и исходных данных $X$.\n",
    "\n",
    "Для лучшей интерпретабельности желательно использовать как можно меньше признаков и их значений. Для этого нужно отобрать наиболее важные признаки и их наиболее влиятельные значения. Как это сделать? Через Shap."
   ]
  },
  {
   "cell_type": "code",
   "execution_count": 243,
   "metadata": {},
   "outputs": [
    {
     "data": {
      "text/html": [
       "<div>\n",
       "<style scoped>\n",
       "    .dataframe tbody tr th:only-of-type {\n",
       "        vertical-align: middle;\n",
       "    }\n",
       "\n",
       "    .dataframe tbody tr th {\n",
       "        vertical-align: top;\n",
       "    }\n",
       "\n",
       "    .dataframe thead th {\n",
       "        text-align: right;\n",
       "    }\n",
       "</style>\n",
       "<table border=\"1\" class=\"dataframe\">\n",
       "  <thead>\n",
       "    <tr style=\"text-align: right;\">\n",
       "      <th></th>\n",
       "      <th>job</th>\n",
       "      <th>marital</th>\n",
       "      <th>education</th>\n",
       "      <th>default</th>\n",
       "      <th>housing</th>\n",
       "      <th>loan</th>\n",
       "      <th>contact</th>\n",
       "      <th>month</th>\n",
       "      <th>poutcome</th>\n",
       "      <th>age</th>\n",
       "      <th>balance</th>\n",
       "      <th>day</th>\n",
       "      <th>duration</th>\n",
       "      <th>campaign</th>\n",
       "      <th>pdays</th>\n",
       "      <th>previous</th>\n",
       "    </tr>\n",
       "  </thead>\n",
       "  <tbody>\n",
       "    <tr>\n",
       "      <th>0</th>\n",
       "      <td>-0.031291</td>\n",
       "      <td>-0.028272</td>\n",
       "      <td>0.035948</td>\n",
       "      <td>-0.267942</td>\n",
       "      <td>0.101734</td>\n",
       "      <td>-0.268115</td>\n",
       "      <td>0.287815</td>\n",
       "      <td>-0.323185</td>\n",
       "      <td>-0.132049</td>\n",
       "      <td>-0.030460</td>\n",
       "      <td>-0.318450</td>\n",
       "      <td>-0.020844</td>\n",
       "      <td>-1.178477</td>\n",
       "      <td>-0.127363</td>\n",
       "      <td>0.049373</td>\n",
       "      <td>-0.018233</td>\n",
       "    </tr>\n",
       "    <tr>\n",
       "      <th>1</th>\n",
       "      <td>0.127565</td>\n",
       "      <td>0.018116</td>\n",
       "      <td>0.079303</td>\n",
       "      <td>-0.008569</td>\n",
       "      <td>0.096851</td>\n",
       "      <td>0.031259</td>\n",
       "      <td>0.187173</td>\n",
       "      <td>0.168337</td>\n",
       "      <td>0.890014</td>\n",
       "      <td>-0.044830</td>\n",
       "      <td>0.208614</td>\n",
       "      <td>-0.046283</td>\n",
       "      <td>1.976521</td>\n",
       "      <td>0.021740</td>\n",
       "      <td>0.050712</td>\n",
       "      <td>0.346256</td>\n",
       "    </tr>\n",
       "    <tr>\n",
       "      <th>2</th>\n",
       "      <td>-0.030689</td>\n",
       "      <td>-0.021500</td>\n",
       "      <td>0.028779</td>\n",
       "      <td>0.006304</td>\n",
       "      <td>0.096207</td>\n",
       "      <td>0.052130</td>\n",
       "      <td>0.282196</td>\n",
       "      <td>-0.105999</td>\n",
       "      <td>-0.113547</td>\n",
       "      <td>-0.046154</td>\n",
       "      <td>0.107670</td>\n",
       "      <td>0.009493</td>\n",
       "      <td>-0.678837</td>\n",
       "      <td>0.034704</td>\n",
       "      <td>0.059806</td>\n",
       "      <td>-0.013104</td>\n",
       "    </tr>\n",
       "    <tr>\n",
       "      <th>3</th>\n",
       "      <td>0.031418</td>\n",
       "      <td>-0.033332</td>\n",
       "      <td>0.083075</td>\n",
       "      <td>0.001851</td>\n",
       "      <td>-0.065374</td>\n",
       "      <td>0.046528</td>\n",
       "      <td>-0.630254</td>\n",
       "      <td>-0.083773</td>\n",
       "      <td>-0.128123</td>\n",
       "      <td>-0.081089</td>\n",
       "      <td>-0.146013</td>\n",
       "      <td>0.002586</td>\n",
       "      <td>0.676073</td>\n",
       "      <td>-0.356123</td>\n",
       "      <td>0.025053</td>\n",
       "      <td>-0.038261</td>\n",
       "    </tr>\n",
       "    <tr>\n",
       "      <th>4</th>\n",
       "      <td>0.007788</td>\n",
       "      <td>0.058849</td>\n",
       "      <td>0.010468</td>\n",
       "      <td>-0.001448</td>\n",
       "      <td>0.106346</td>\n",
       "      <td>0.037828</td>\n",
       "      <td>0.319354</td>\n",
       "      <td>0.229482</td>\n",
       "      <td>-0.117150</td>\n",
       "      <td>-0.034576</td>\n",
       "      <td>0.018484</td>\n",
       "      <td>-0.047470</td>\n",
       "      <td>0.977713</td>\n",
       "      <td>0.028636</td>\n",
       "      <td>0.043395</td>\n",
       "      <td>-0.037927</td>\n",
       "    </tr>\n",
       "  </tbody>\n",
       "</table>\n",
       "</div>"
      ],
      "text/plain": [
       "        job   marital  education   default   housing      loan   contact  \\\n",
       "0 -0.031291 -0.028272   0.035948 -0.267942  0.101734 -0.268115  0.287815   \n",
       "1  0.127565  0.018116   0.079303 -0.008569  0.096851  0.031259  0.187173   \n",
       "2 -0.030689 -0.021500   0.028779  0.006304  0.096207  0.052130  0.282196   \n",
       "3  0.031418 -0.033332   0.083075  0.001851 -0.065374  0.046528 -0.630254   \n",
       "4  0.007788  0.058849   0.010468 -0.001448  0.106346  0.037828  0.319354   \n",
       "\n",
       "      month  poutcome       age   balance       day  duration  campaign  \\\n",
       "0 -0.323185 -0.132049 -0.030460 -0.318450 -0.020844 -1.178477 -0.127363   \n",
       "1  0.168337  0.890014 -0.044830  0.208614 -0.046283  1.976521  0.021740   \n",
       "2 -0.105999 -0.113547 -0.046154  0.107670  0.009493 -0.678837  0.034704   \n",
       "3 -0.083773 -0.128123 -0.081089 -0.146013  0.002586  0.676073 -0.356123   \n",
       "4  0.229482 -0.117150 -0.034576  0.018484 -0.047470  0.977713  0.028636   \n",
       "\n",
       "      pdays  previous  \n",
       "0  0.049373 -0.018233  \n",
       "1  0.050712  0.346256  \n",
       "2  0.059806 -0.013104  \n",
       "3  0.025053 -0.038261  \n",
       "4  0.043395 -0.037927  "
      ]
     },
     "execution_count": 243,
     "metadata": {},
     "output_type": "execute_result"
    }
   ],
   "source": [
    "sv = bb.get_feature_importance(test_pool, type='ShapValues')\n",
    "expected_value = sv[0,-1]\n",
    "sv_ds = pd.DataFrame(sv[:,:-1], columns=test_pool.get_feature_names())\n",
    "sv_ds.head()"
   ]
  },
  {
   "cell_type": "code",
   "execution_count": 244,
   "metadata": {},
   "outputs": [
    {
     "data": {
      "image/png": "[encoded data removed]",
      "text/plain": [
       "<Figure size 432x288 with 1 Axes>"
      ]
     },
     "metadata": {
      "needs_background": "light"
     },
     "output_type": "display_data"
    }
   ],
   "source": [
    "s = sv_ds.abs().median(0).sort_values(ascending=False)\n",
    "s = s/s.sum()*100\n",
    "sns.barplot(x=s.values, y=s.index)\n",
    "for idx, t in enumerate(s.iteritems()):\n",
    "    plt.text(t[1], idx+0.25, f\"{t[1]:.0f}%\")\n",
    "plt.title('Важность признаков (%, тестовые данные)')\n",
    "plt.show()"
   ]
  },
  {
   "cell_type": "code",
   "execution_count": 245,
   "metadata": {},
   "outputs": [],
   "source": [
    "bin_funcs = {}"
   ]
  },
  {
   "cell_type": "markdown",
   "metadata": {},
   "source": [
    "Первые 3 признака сильно лидируют по важности (duration, contact, month). Рассмотрим их более детально."
   ]
  },
  {
   "cell_type": "code",
   "execution_count": 39,
   "metadata": {},
   "outputs": [
    {
     "name": "stderr",
     "output_type": "stream",
     "text": [
      "/home/egor/anaconda3/lib/python3.7/site-packages/scipy/stats/stats.py:1713: FutureWarning:\n",
      "\n",
      "Using a non-tuple sequence for multidimensional indexing is deprecated; use `arr[tuple(seq)]` instead of `arr[seq]`. In the future this will be interpreted as an array index, `arr[np.array(seq)]`, which will result either in an error or a different result.\n",
      "\n"
     ]
    },
    {
     "data": {
      "image/png": "[encoded data removed]",
      "text/plain": [
       "<Figure size 1080x360 with 3 Axes>"
      ]
     },
     "metadata": {
      "needs_background": "light"
     },
     "output_type": "display_data"
    }
   ],
   "source": [
    "f = 'duration'\n",
    "cds = pd.DataFrame()\n",
    "cds[f] = np.log1p(X_test[f])\n",
    "cds[f+'_shap'] = sv_ds[f].values\n",
    "\n",
    "plt.figure(figsize=(15,5))\n",
    "plt.subplot(131)\n",
    "sns.regplot(x='duration', y=f+'_shap', data=cds, order=2)\n",
    "xticks = np.array([1, 3,10,30,100,300,1000])\n",
    "plt.axhline(0, linestyle='--', color='grey')\n",
    "plt.axvline(np.log1p(60), color='yellow', label='1 minute (shap ~ -2.5')\n",
    "plt.axvline(np.log1p(600), color='orange', label='10 minutes (shap ~ 2)')\n",
    "plt.legend()\n",
    "plt.xticks(np.log1p(xticks), xticks)\n",
    "plt.ylim((-5,6))\n",
    "plt.xlabel('duration (сек.)')\n",
    "plt.ylabel(r'Влияние на предсказание (shap, $\\Delta Y$)')\n",
    "\n",
    "plt.subplot(132)\n",
    "sns.regplot(x='duration', y=f+'_shap', data=cds[cds[f]<np.log1p(100)], order=3)\n",
    "xticks = np.array([1, 3,10,30,60,100])\n",
    "plt.axvline(np.log1p(60), color='orange', label='1 minute (shap ~ -2.5')\n",
    "plt.axhline(-2.5, color='orange')\n",
    "plt.legend()\n",
    "plt.axhline(0, linestyle='--', color='grey')\n",
    "plt.xlabel('duration (сек.)')\n",
    "plt.ylabel(r'Влияние на предсказание (shap, $\\Delta Y$)')\n",
    "plt.title('Duration < 100 сек.')\n",
    "\n",
    "plt.xticks(np.log1p(xticks), xticks)\n",
    "\n",
    "plt.subplot(133)\n",
    "sns.regplot(x='duration', y=f+'_shap', data=cds[cds[f]>=np.log1p(60)], order=3)\n",
    "xticks = np.array([60, 100, 300, 600, 1000])\n",
    "plt.xticks(np.log1p(xticks), xticks)\n",
    "plt.axvline(np.log1p(600), color='orange', label='10 minutes (shap ~ 2)')\n",
    "plt.axhline(2, color='orange')\n",
    "plt.axhline(0, linestyle='--', color='grey')\n",
    "plt.legend()\n",
    "plt.xlabel('duration (сек.)')\n",
    "plt.ylabel(r'Влияние на предсказание (shap, $\\Delta Y$)')\n",
    "plt.title('Duration >= 60 сек.')\n",
    "\n",
    "\n",
    "plt.suptitle('Влияние признака duration в зависимости от его значения')\n",
    "plt.show()"
   ]
  },
  {
   "cell_type": "code",
   "execution_count": 273,
   "metadata": {},
   "outputs": [],
   "source": [
    "def binf_duration(x):\n",
    "    b = pd.Series()\n",
    "    b['<1m'] = x<60\n",
    "    b['>=1m'] = x>=60\n",
    "    b['>=1.5m'] = x>=100\n",
    "    b['>=3m'] = x>=180\n",
    "    b['>=5.5m'] = x>=325\n",
    "    b['>=16.5m'] = x>=600\n",
    "    return b.astype(int)"
   ]
  },
  {
   "cell_type": "code",
   "execution_count": 279,
   "metadata": {},
   "outputs": [],
   "source": [
    "bin_funcs['duration'] = binf_duration"
   ]
  },
  {
   "cell_type": "code",
   "execution_count": 280,
   "metadata": {},
   "outputs": [
    {
     "data": {
      "image/png": "[encoded data removed]",
      "text/plain": [
       "<Figure size 1080x288 with 2 Axes>"
      ]
     },
     "metadata": {
      "needs_background": "light"
     },
     "output_type": "display_data"
    }
   ],
   "source": [
    "f = 'contact'\n",
    "cds = pd.DataFrame()\n",
    "cds[f] = X_test[f]\n",
    "cds[f+'_shap'] = sv_ds[f].values\n",
    "\n",
    "plt.figure(figsize=(15,4))\n",
    "plt.subplot(121)\n",
    "sns.boxplot(x=f, y=f+'_shap', data=cds)\n",
    "plt.axhline(0, linestyle='--', color='grey')\n",
    "plt.ylabel(r'Влияние на предсказание (shap, $\\Delta Y$)')\n",
    "plt.title('Влияние признака на предсказание')\n",
    "yticks = np.arange(-1,1.1, 0.25)\n",
    "plt.yticks(yticks, [f\"{x:.2f}\" for x in yticks])\n",
    "plt.grid(axis='y')\n",
    "\n",
    "plt.subplot(122)\n",
    "s_ = cds[f].value_counts()\n",
    "#s_ = s_/s_.sum()*100\n",
    "sns.barplot(x=s_.index, y=s_.values)\n",
    "plt.title(f'Частота появления значений признака {f}')\n",
    "plt.ylabel('Число наблюдений (шт.)')\n",
    "\n",
    "plt.subplots_adjust(top=0.8)\n",
    "plt.suptitle('Влияние признака contact в зависимости от его значения')\n",
    "plt.show()"
   ]
  },
  {
   "cell_type": "code",
   "execution_count": 281,
   "metadata": {},
   "outputs": [],
   "source": [
    "def binf_contact(x):\n",
    "    b = pd.Series()\n",
    "    for v in ['cellular','unknown']:\n",
    "        b[v] = x==v\n",
    "    return b.astype(int)"
   ]
  },
  {
   "cell_type": "code",
   "execution_count": 282,
   "metadata": {},
   "outputs": [],
   "source": [
    "bin_funcs['contact'] = binf_contact"
   ]
  },
  {
   "cell_type": "code",
   "execution_count": 283,
   "metadata": {},
   "outputs": [
    {
     "data": {
      "image/png": "[encoded data removed]",
      "text/plain": [
       "<Figure size 1080x360 with 2 Axes>"
      ]
     },
     "metadata": {
      "needs_background": "light"
     },
     "output_type": "display_data"
    }
   ],
   "source": [
    "f = 'month'\n",
    "cds = pd.DataFrame()\n",
    "cds[f] = X_test[f]\n",
    "cds[f+'_shap'] = sv_ds[f].values\n",
    "\n",
    "plt.figure(figsize=(15,5))\n",
    "plt.subplot(121)\n",
    "sns.boxplot(x=f, y=f+'_shap', data=cds, order=['jan','feb','mar','apr','may','jun','jul','aug','sep','oct','nov','dec'])\n",
    "plt.axhline(0, linestyle='--', color='grey')\n",
    "plt.ylabel(r'Влияние на предсказание (shap, $\\Delta Y$)')\n",
    "plt.title('Влияние признака на предсказание')\n",
    "yticks = np.arange(-1,4,0.25)\n",
    "plt.yticks(yticks, [f\"{x:.2f}\" for x in yticks])\n",
    "plt.grid(axis='y')\n",
    "\n",
    "plt.subplot(122)\n",
    "s_ = cds[f].value_counts()\n",
    "#s_ = s_/s_.sum()*100\n",
    "s_ = s_.reindex(['jan','feb','mar','apr','may','jun','jul','aug','sep','oct','nov','dec'])\n",
    "sns.barplot(x=s_.index, y=s_.values)\n",
    "plt.title(f'Частота появления значений признака {f}')\n",
    "plt.ylabel('Число наблюдений (шт.)')\n",
    "\n",
    "plt.subplots_adjust(top=0.8)\n",
    "plt.suptitle(f'Влияние признака {f} в зависимости от его значения')\n",
    "plt.show()"
   ]
  },
  {
   "cell_type": "code",
   "execution_count": 288,
   "metadata": {},
   "outputs": [],
   "source": [
    "def binf_month(x):\n",
    "    b = pd.Series()\n",
    "    for v in ['feb', 'mar', 'apr', 'may', 'sep','oct','dec']:\n",
    "        b[v] = x==v\n",
    "    return b.astype(int)"
   ]
  },
  {
   "cell_type": "code",
   "execution_count": 289,
   "metadata": {},
   "outputs": [],
   "source": [
    "bin_funcs['month'] = binf_month"
   ]
  },
  {
   "cell_type": "markdown",
   "metadata": {},
   "source": [
    "Данные ужасны, но продолжим работу"
   ]
  },
  {
   "cell_type": "code",
   "execution_count": 326,
   "metadata": {},
   "outputs": [],
   "source": [
    "implications = [('duration__>=1m','duration__>=1.5m'),\n",
    "                   ('duration__>=1.5m','duration__>=3m'),\n",
    "                   ('duration__>=3m','duration__>=5.5m'),\n",
    "                   ('duration__>=5.5m', 'duration__>=16.5m')]"
   ]
  },
  {
   "cell_type": "code",
   "execution_count": 476,
   "metadata": {},
   "outputs": [
    {
     "data": {
      "application/vnd.jupyter.widget-view+json": {
       "model_id": "1e358c50162d459fa04edee454cb1ed1",
       "version_major": 2,
       "version_minor": 0
      },
      "text/plain": [
       "HBox(children=(IntProgress(value=0, max=3), HTML(value='')))"
      ]
     },
     "metadata": {},
     "output_type": "display_data"
    },
    {
     "name": "stdout",
     "output_type": "stream",
     "text": [
      "\n",
      "(1131, 15)\n"
     ]
    },
    {
     "data": {
      "text/html": [
       "<div>\n",
       "<style scoped>\n",
       "    .dataframe tbody tr th:only-of-type {\n",
       "        vertical-align: middle;\n",
       "    }\n",
       "\n",
       "    .dataframe tbody tr th {\n",
       "        vertical-align: top;\n",
       "    }\n",
       "\n",
       "    .dataframe thead th {\n",
       "        text-align: right;\n",
       "    }\n",
       "</style>\n",
       "<table border=\"1\" class=\"dataframe\">\n",
       "  <thead>\n",
       "    <tr style=\"text-align: right;\">\n",
       "      <th></th>\n",
       "      <th>duration__&lt;1m</th>\n",
       "      <th>duration__&gt;=1m</th>\n",
       "      <th>duration__&gt;=1.5m</th>\n",
       "      <th>duration__&gt;=3m</th>\n",
       "      <th>duration__&gt;=5.5m</th>\n",
       "      <th>duration__&gt;=16.5m</th>\n",
       "      <th>contact__cellular</th>\n",
       "      <th>contact__unknown</th>\n",
       "      <th>month__feb</th>\n",
       "      <th>month__mar</th>\n",
       "      <th>month__apr</th>\n",
       "      <th>month__may</th>\n",
       "      <th>month__sep</th>\n",
       "      <th>month__oct</th>\n",
       "      <th>month__dec</th>\n",
       "    </tr>\n",
       "  </thead>\n",
       "  <tbody>\n",
       "    <tr>\n",
       "      <th>2398</th>\n",
       "      <td>0</td>\n",
       "      <td>1</td>\n",
       "      <td>1</td>\n",
       "      <td>0</td>\n",
       "      <td>0</td>\n",
       "      <td>0</td>\n",
       "      <td>1</td>\n",
       "      <td>0</td>\n",
       "      <td>0</td>\n",
       "      <td>0</td>\n",
       "      <td>0</td>\n",
       "      <td>0</td>\n",
       "      <td>0</td>\n",
       "      <td>0</td>\n",
       "      <td>0</td>\n",
       "    </tr>\n",
       "    <tr>\n",
       "      <th>800</th>\n",
       "      <td>0</td>\n",
       "      <td>1</td>\n",
       "      <td>1</td>\n",
       "      <td>1</td>\n",
       "      <td>1</td>\n",
       "      <td>0</td>\n",
       "      <td>1</td>\n",
       "      <td>0</td>\n",
       "      <td>0</td>\n",
       "      <td>0</td>\n",
       "      <td>0</td>\n",
       "      <td>0</td>\n",
       "      <td>0</td>\n",
       "      <td>0</td>\n",
       "      <td>0</td>\n",
       "    </tr>\n",
       "    <tr>\n",
       "      <th>2288</th>\n",
       "      <td>0</td>\n",
       "      <td>1</td>\n",
       "      <td>1</td>\n",
       "      <td>0</td>\n",
       "      <td>0</td>\n",
       "      <td>0</td>\n",
       "      <td>1</td>\n",
       "      <td>0</td>\n",
       "      <td>0</td>\n",
       "      <td>0</td>\n",
       "      <td>0</td>\n",
       "      <td>0</td>\n",
       "      <td>0</td>\n",
       "      <td>0</td>\n",
       "      <td>0</td>\n",
       "    </tr>\n",
       "    <tr>\n",
       "      <th>2344</th>\n",
       "      <td>0</td>\n",
       "      <td>1</td>\n",
       "      <td>1</td>\n",
       "      <td>1</td>\n",
       "      <td>0</td>\n",
       "      <td>0</td>\n",
       "      <td>0</td>\n",
       "      <td>1</td>\n",
       "      <td>0</td>\n",
       "      <td>0</td>\n",
       "      <td>0</td>\n",
       "      <td>0</td>\n",
       "      <td>0</td>\n",
       "      <td>0</td>\n",
       "      <td>0</td>\n",
       "    </tr>\n",
       "    <tr>\n",
       "      <th>3615</th>\n",
       "      <td>0</td>\n",
       "      <td>1</td>\n",
       "      <td>1</td>\n",
       "      <td>1</td>\n",
       "      <td>1</td>\n",
       "      <td>0</td>\n",
       "      <td>1</td>\n",
       "      <td>0</td>\n",
       "      <td>1</td>\n",
       "      <td>0</td>\n",
       "      <td>0</td>\n",
       "      <td>0</td>\n",
       "      <td>0</td>\n",
       "      <td>0</td>\n",
       "      <td>0</td>\n",
       "    </tr>\n",
       "  </tbody>\n",
       "</table>\n",
       "</div>"
      ],
      "text/plain": [
       "      duration__<1m  duration__>=1m  duration__>=1.5m  duration__>=3m  \\\n",
       "2398              0               1                 1               0   \n",
       "800               0               1                 1               1   \n",
       "2288              0               1                 1               0   \n",
       "2344              0               1                 1               1   \n",
       "3615              0               1                 1               1   \n",
       "\n",
       "      duration__>=5.5m  duration__>=16.5m  contact__cellular  \\\n",
       "2398                 0                  0                  1   \n",
       "800                  1                  0                  1   \n",
       "2288                 0                  0                  1   \n",
       "2344                 0                  0                  0   \n",
       "3615                 1                  0                  1   \n",
       "\n",
       "      contact__unknown  month__feb  month__mar  month__apr  month__may  \\\n",
       "2398                 0           0           0           0           0   \n",
       "800                  0           0           0           0           0   \n",
       "2288                 0           0           0           0           0   \n",
       "2344                 1           0           0           0           0   \n",
       "3615                 0           1           0           0           0   \n",
       "\n",
       "      month__sep  month__oct  month__dec  \n",
       "2398           0           0           0  \n",
       "800            0           0           0  \n",
       "2288           0           0           0  \n",
       "2344           0           0           0  \n",
       "3615           0           0           0  "
      ]
     },
     "execution_count": 476,
     "metadata": {},
     "output_type": "execute_result"
    }
   ],
   "source": [
    "bin_ds = []\n",
    "for f in tqdm_notebook(s[:3].index):\n",
    "    cds = pd.concat([bin_funcs[f](x) for x in X_test[f]],1).T\n",
    "    cds.columns = [f\"{f}__{x}\" for x in cds.columns]\n",
    "    bin_ds.append(cds)\n",
    "bin_ds = pd.concat(bin_ds,1)\n",
    "bin_ds.index = X_test.index\n",
    "print(bin_ds.shape)\n",
    "bin_ds.head()"
   ]
  },
  {
   "cell_type": "code",
   "execution_count": 477,
   "metadata": {},
   "outputs": [],
   "source": [
    "import fca_interp as fcai"
   ]
  },
  {
   "cell_type": "code",
   "execution_count": 485,
   "metadata": {},
   "outputs": [],
   "source": [
    "fcai = reload(fcai)"
   ]
  },
  {
   "cell_type": "code",
   "execution_count": 561,
   "metadata": {},
   "outputs": [],
   "source": [
    "bin_ds = bin_ds.astype(bool)"
   ]
  },
  {
   "cell_type": "code",
   "execution_count": 562,
   "metadata": {},
   "outputs": [
    {
     "name": "stderr",
     "output_type": "stream",
     "text": [
      "/home/egor/anaconda3/lib/python3.7/site-packages/sklearn/metrics/classification.py:1143: UndefinedMetricWarning:\n",
      "\n",
      "Precision is ill-defined and being set to 0.0 due to no predicted samples.\n",
      "\n",
      "/home/egor/anaconda3/lib/python3.7/site-packages/sklearn/metrics/classification.py:1143: UndefinedMetricWarning:\n",
      "\n",
      "Precision is ill-defined and being set to 0.0 due to no predicted samples.\n",
      "\n",
      "/home/egor/anaconda3/lib/python3.7/site-packages/sklearn/metrics/classification.py:1143: UndefinedMetricWarning:\n",
      "\n",
      "Precision is ill-defined and being set to 0.0 due to no predicted samples.\n",
      "\n",
      "/home/egor/anaconda3/lib/python3.7/site-packages/sklearn/metrics/classification.py:1143: UndefinedMetricWarning:\n",
      "\n",
      "Precision is ill-defined and being set to 0.0 due to no predicted samples.\n",
      "\n",
      "/home/egor/anaconda3/lib/python3.7/site-packages/sklearn/metrics/classification.py:1143: UndefinedMetricWarning:\n",
      "\n",
      "Precision is ill-defined and being set to 0.0 due to no predicted samples.\n",
      "\n"
     ]
    },
    {
     "name": "stdout",
     "output_type": "stream",
     "text": [
      "CPU times: user 1.06 s, sys: 12.1 ms, total: 1.07 s\n",
      "Wall time: 1.07 s\n"
     ]
    },
    {
     "name": "stderr",
     "output_type": "stream",
     "text": [
      "/home/egor/anaconda3/lib/python3.7/site-packages/sklearn/metrics/classification.py:1143: UndefinedMetricWarning:\n",
      "\n",
      "Precision is ill-defined and being set to 0.0 due to no predicted samples.\n",
      "\n",
      "/home/egor/anaconda3/lib/python3.7/site-packages/sklearn/metrics/classification.py:1145: UndefinedMetricWarning:\n",
      "\n",
      "Recall is ill-defined and being set to 0.0 due to no true samples.\n",
      "\n",
      "/home/egor/anaconda3/lib/python3.7/site-packages/sklearn/metrics/classification.py:1145: UndefinedMetricWarning:\n",
      "\n",
      "Recall is ill-defined and being set to 0.0 due to no true samples.\n",
      "\n",
      "/home/egor/anaconda3/lib/python3.7/site-packages/sklearn/metrics/classification.py:1143: UndefinedMetricWarning:\n",
      "\n",
      "Precision is ill-defined and being set to 0.0 due to no predicted samples.\n",
      "\n",
      "/home/egor/anaconda3/lib/python3.7/site-packages/sklearn/metrics/classification.py:1143: UndefinedMetricWarning:\n",
      "\n",
      "Precision is ill-defined and being set to 0.0 due to no predicted samples.\n",
      "\n"
     ]
    }
   ],
   "source": [
    "%%time\n",
    "cntx_bank = fcai.Context(bin_ds,y_true=y_test, y_pred=test_preds)\n",
    "fm_bank = fcai.FormalManager(cntx_bank, ds_obj=None, task_type='binary classification')\n",
    "fm_bank.construct_concepts(use_tqdm=False, is_monotonic=False)\n",
    "fm_bank.construct_lattice(use_tqdm=False)"
   ]
  },
  {
   "cell_type": "code",
   "execution_count": 563,
   "metadata": {},
   "outputs": [
    {
     "name": "stderr",
     "output_type": "stream",
     "text": [
      "/home/egor/anaconda3/lib/python3.7/site-packages/ipykernel_launcher.py:5: FutureWarning:\n",
      "\n",
      "elementwise comparison failed; returning scalar instead, but in the future will perform elementwise comparison\n",
      "\n"
     ]
    }
   ],
   "source": [
    "#new_concepts = []\n",
    "for c in fm_bank._concepts:\n",
    "    intent = c._intent\n",
    "    for f1, f2 in implications:\n",
    "        if f1 in intent and f2 in intent:\n",
    "            intent = [f for f in intent if f!=f1]\n",
    "    c._intent = intent\n",
    "#    new_concepts.append(c)\n",
    "#fm_bank._concepts = new_concepts"
   ]
  },
  {
   "cell_type": "code",
   "execution_count": 564,
   "metadata": {},
   "outputs": [],
   "source": [
    "fig = fm_bank.get_plotly_fig(level_sort='all', sort_by='y_pred',\n",
    "                        y_precision=2, title='Bank Dataset Concept Lattice', cbar_title='Mean Prediction',\n",
    "                        color_by='y_pred',)"
   ]
  },
  {
   "cell_type": "code",
   "execution_count": 565,
   "metadata": {},
   "outputs": [
    {
     "data": {
      "application/vnd.plotly.v1+json": {
       "config": {
        "plotlyServerURL": "https://plot.ly"
       },
       "data": [
        {
         "hoverinfo": "none",
         "line": {
          "color": "#888",
          "width": 0.5
         },
         "mode": "lines",
         "type": "scatter",
         "x": [
          -4,
          -7,
          null,
          -4,
          -8,
          null,
          -4,
          -6,
          null,
          -4,
          -3,
          null,
          -4,
          3,
          null,
          3,
          2.5,
          null,
          3,
          7,
          null,
          3,
          3,
          null,
          7,
          6.5,
          null,
          7,
          10,
          null,
          7,
          3,
          null,
          7,
          6,
          null,
          7,
          5,
          null,
          7,
          3,
          null,
          4,
          -1,
          null,
          4,
          -5,
          null,
          4,
          8,
          null,
          4,
          1,
          null,
          4,
          -6,
          null,
          4,
          2,
          null,
          4,
          0,
          null,
          4,
          5,
          null,
          4,
          3,
          null,
          8,
          4,
          null,
          8,
          -8,
          null,
          8,
          7,
          null,
          8,
          3,
          null,
          2,
          -3,
          null,
          2,
          0,
          null,
          2,
          4,
          null,
          2,
          3,
          null,
          1,
          -2.5,
          null,
          1,
          2.5,
          null,
          1,
          -1.5,
          null,
          1,
          6.5,
          null,
          1,
          -4.5,
          null,
          1,
          5.5,
          null,
          1,
          4.5,
          null,
          1,
          1.5,
          null,
          1,
          3,
          null,
          4,
          4.5,
          null,
          4,
          3,
          null,
          4,
          5,
          null,
          -4.5,
          -3.5,
          null,
          -4.5,
          -5,
          null,
          -4.5,
          -4,
          null,
          10,
          3,
          null,
          10,
          6,
          null,
          -8,
          0,
          null,
          8,
          5.5,
          null,
          8,
          11,
          null,
          -3,
          -2.5,
          null,
          -3,
          3,
          null,
          -3,
          -1,
          null,
          1,
          -1,
          null,
          1,
          -2,
          null,
          1,
          1,
          null,
          1,
          3,
          null,
          -2,
          -1.5,
          null,
          -2,
          3,
          null,
          -2,
          0,
          null,
          -0.5,
          -2.5,
          null,
          -0.5,
          1.5,
          null,
          -0.5,
          -1,
          null,
          -0.5,
          2,
          null,
          6,
          5.5,
          null,
          6,
          3,
          null,
          6,
          11,
          null,
          6,
          9,
          null,
          2.5,
          1,
          null,
          2.5,
          5,
          null,
          5,
          5.5,
          null,
          -2.5,
          -1.5,
          null,
          -2.5,
          0,
          null,
          -7,
          -6.5,
          null,
          -7,
          -3,
          null,
          -7,
          -5,
          null,
          -3,
          -5,
          null,
          -3,
          -4,
          null,
          -3,
          -2,
          null,
          -3,
          3,
          null,
          -5,
          -3.5,
          null,
          -5,
          -6.5,
          null,
          4.5,
          0.5,
          null,
          -5,
          -3,
          null,
          -5,
          -2,
          null,
          -5,
          -4,
          null,
          -6.5,
          -5.5,
          null,
          -6.5,
          -6,
          null,
          5.5,
          4.5,
          null,
          3,
          -4,
          null,
          3,
          5,
          null,
          3,
          3,
          null,
          11,
          3,
          null,
          11,
          8,
          null,
          -1,
          -1.5,
          null,
          0,
          0.5,
          null,
          -4,
          -2,
          null,
          6.5,
          2,
          null,
          -1.5,
          -2.5,
          null,
          -6,
          -5.5,
          null,
          4,
          -1,
          null,
          4,
          1,
          null,
          4,
          0,
          null,
          5,
          5,
          null,
          5,
          7,
          null,
          -3,
          -3,
          null,
          -3,
          0,
          null,
          -10,
          0,
          null,
          -10,
          -8,
          null,
          -10,
          2,
          null,
          -6,
          0,
          null,
          -6,
          -7,
          null,
          -6,
          4,
          null,
          -11,
          0,
          null,
          -11,
          -6,
          null,
          -11,
          -8,
          null,
          -11,
          0,
          null,
          1,
          0,
          null,
          1,
          -1,
          null,
          1,
          0,
          null,
          5,
          -1,
          null,
          5,
          0,
          null,
          5,
          6,
          null,
          5,
          -2,
          null,
          5,
          9,
          null,
          5,
          2,
          null,
          5,
          0,
          null,
          -8,
          0,
          null,
          -8,
          -7,
          null,
          -8,
          3,
          null,
          7,
          0,
          null,
          -9,
          0,
          null,
          -9,
          -5,
          null,
          -9,
          -1,
          null,
          -9,
          -8,
          null,
          -2,
          -2,
          null,
          -2,
          -2,
          null,
          -2,
          0,
          null,
          -2,
          -1,
          null,
          -6,
          -4,
          null,
          -6,
          1,
          null,
          9,
          8,
          null,
          3,
          0,
          null,
          -7,
          -7,
          null,
          -7,
          -3,
          null,
          -7,
          -4,
          null,
          0,
          2,
          null,
          -5,
          -7,
          null,
          -5,
          -4,
          null,
          -5,
          -2,
          null,
          8,
          4,
          null,
          8,
          0,
          null,
          2,
          1.5,
          null,
          2,
          -5.5,
          null,
          2,
          3.5,
          null,
          2,
          0.5,
          null,
          2,
          -3.5,
          null,
          -1,
          2,
          null,
          -1,
          -2,
          null,
          -4,
          -7,
          null,
          -4,
          -3,
          null,
          -4,
          -2,
          null,
          -8,
          -4,
          null,
          -8,
          2,
          null,
          -7,
          0,
          null,
          6,
          6,
          null,
          -1,
          0,
          null,
          -3.5,
          -3.5,
          null,
          -3.5,
          -0.5,
          null,
          -3.5,
          -5.5,
          null,
          6,
          3,
          null,
          6,
          0,
          null,
          3.5,
          2.5,
          null,
          3.5,
          -4.5,
          null,
          3.5,
          3.5,
          null,
          3.5,
          5.5,
          null,
          3.5,
          1.5,
          null,
          3.5,
          -0.5,
          null,
          -5.5,
          -4.5,
          null,
          -5.5,
          -5.5,
          null,
          -1.5,
          -1,
          null,
          -1.5,
          1.5,
          null,
          -1.5,
          0.5,
          null,
          1.5,
          -2.5,
          null,
          1.5,
          -3.5,
          null,
          1.5,
          4.5,
          null,
          1.5,
          0.5,
          null,
          1.5,
          2.5,
          null,
          0.5,
          3.5,
          null,
          -3,
          0,
          null,
          -4,
          0,
          null,
          4,
          0,
          null,
          3,
          0,
          null,
          -1,
          2,
          null,
          -1,
          0,
          null,
          2,
          0,
          null,
          2,
          2,
          null,
          2,
          0,
          null,
          -4.5,
          -3,
          null,
          0,
          1,
          null,
          0,
          -3,
          null,
          0,
          2,
          null,
          0,
          0,
          null,
          0,
          3,
          null,
          0,
          1,
          null,
          0,
          -2,
          null,
          0,
          0.5,
          null,
          0,
          -1,
          null,
          -3,
          -0.5,
          null,
          -3,
          -5.5,
          null,
          1,
          0,
          null,
          2.5,
          2,
          null,
          2.5,
          -2,
          null,
          2.5,
          3,
          null,
          2.5,
          -1,
          null,
          2.5,
          1,
          null,
          2.5,
          0,
          null,
          3.5,
          -1,
          null,
          0,
          -2.5,
          null,
          0,
          1.5,
          null,
          3,
          4.5,
          null,
          1,
          5.5,
          null,
          -0.5,
          -2,
          null,
          -2,
          -3.5,
          null,
          -2,
          0,
          null,
          0,
          0,
          null
         ],
         "y": [
          6,
          5,
          null,
          6,
          5,
          null,
          6,
          5,
          null,
          6,
          7,
          null,
          6,
          7,
          null,
          5,
          4,
          null,
          5,
          6,
          null,
          5,
          6,
          null,
          5,
          4,
          null,
          5,
          6,
          null,
          5,
          6,
          null,
          5,
          6,
          null,
          6,
          5,
          null,
          6,
          7,
          null,
          6,
          5,
          null,
          6,
          5,
          null,
          6,
          5,
          null,
          6,
          5,
          null,
          6,
          5,
          null,
          6,
          5,
          null,
          6,
          5,
          null,
          6,
          5,
          null,
          6,
          7,
          null,
          6,
          5,
          null,
          6,
          5,
          null,
          6,
          7,
          null,
          6,
          7,
          null,
          6,
          5,
          null,
          6,
          5,
          null,
          6,
          7,
          null,
          6,
          7,
          null,
          5,
          4,
          null,
          5,
          4,
          null,
          5,
          4,
          null,
          5,
          4,
          null,
          5,
          4,
          null,
          5,
          4,
          null,
          5,
          4,
          null,
          5,
          4,
          null,
          5,
          6,
          null,
          5,
          4,
          null,
          5,
          6,
          null,
          5,
          6,
          null,
          4,
          3,
          null,
          4,
          5,
          null,
          4,
          5,
          null,
          6,
          7,
          null,
          6,
          7,
          null,
          5,
          1,
          null,
          5,
          4,
          null,
          5,
          6,
          null,
          5,
          4,
          null,
          5,
          6,
          null,
          5,
          6,
          null,
          6,
          5,
          null,
          6,
          5,
          null,
          6,
          7,
          null,
          6,
          7,
          null,
          5,
          4,
          null,
          5,
          6,
          null,
          5,
          6,
          null,
          4,
          3,
          null,
          4,
          3,
          null,
          4,
          5,
          null,
          4,
          5,
          null,
          5,
          4,
          null,
          5,
          6,
          null,
          5,
          6,
          null,
          5,
          6,
          null,
          4,
          2,
          null,
          4,
          5,
          null,
          5,
          3,
          null,
          4,
          3,
          null,
          4,
          5,
          null,
          5,
          4,
          null,
          5,
          6,
          null,
          5,
          6,
          null,
          6,
          5,
          null,
          6,
          5,
          null,
          6,
          7,
          null,
          6,
          7,
          null,
          5,
          4,
          null,
          5,
          4,
          null,
          4,
          3,
          null,
          6,
          7,
          null,
          6,
          7,
          null,
          6,
          7,
          null,
          4,
          3,
          null,
          4,
          5,
          null,
          4,
          3,
          null,
          6,
          5,
          null,
          6,
          7,
          null,
          6,
          7,
          null,
          6,
          7,
          null,
          6,
          7,
          null,
          5,
          4,
          null,
          5,
          4,
          null,
          5,
          6,
          null,
          4,
          2,
          null,
          4,
          3,
          null,
          5,
          4,
          null,
          7,
          6,
          null,
          7,
          8,
          null,
          7,
          8,
          null,
          6,
          7,
          null,
          6,
          7,
          null,
          7,
          8,
          null,
          7,
          8,
          null,
          6,
          1,
          null,
          6,
          7,
          null,
          6,
          7,
          null,
          6,
          1,
          null,
          6,
          7,
          null,
          6,
          8,
          null,
          6,
          1,
          null,
          6,
          7,
          null,
          6,
          7,
          null,
          6,
          7,
          null,
          7,
          6,
          null,
          7,
          8,
          null,
          7,
          8,
          null,
          7,
          6,
          null,
          7,
          6,
          null,
          7,
          6,
          null,
          7,
          6,
          null,
          7,
          6,
          null,
          7,
          8,
          null,
          7,
          8,
          null,
          6,
          1,
          null,
          6,
          7,
          null,
          6,
          8,
          null,
          7,
          8,
          null,
          6,
          1,
          null,
          6,
          7,
          null,
          6,
          7,
          null,
          6,
          7,
          null,
          7,
          6,
          null,
          7,
          8,
          null,
          7,
          8,
          null,
          6,
          7,
          null,
          7,
          8,
          null,
          7,
          8,
          null,
          6,
          7,
          null,
          7,
          8,
          null,
          7,
          6,
          null,
          7,
          8,
          null,
          7,
          8,
          null,
          6,
          7,
          null,
          7,
          6,
          null,
          7,
          8,
          null,
          7,
          8,
          null,
          7,
          8,
          null,
          7,
          8,
          null,
          5,
          4,
          null,
          5,
          4,
          null,
          5,
          4,
          null,
          5,
          4,
          null,
          5,
          4,
          null,
          7,
          8,
          null,
          7,
          8,
          null,
          7,
          6,
          null,
          7,
          8,
          null,
          7,
          8,
          null,
          7,
          8,
          null,
          7,
          8,
          null,
          6,
          1,
          null,
          6,
          7,
          null,
          6,
          7,
          null,
          4,
          3,
          null,
          4,
          3,
          null,
          4,
          3,
          null,
          7,
          8,
          null,
          7,
          8,
          null,
          4,
          3,
          null,
          4,
          3,
          null,
          4,
          3,
          null,
          4,
          3,
          null,
          4,
          3,
          null,
          4,
          3,
          null,
          4,
          3,
          null,
          4,
          3,
          null,
          3,
          2,
          null,
          3,
          4,
          null,
          3,
          4,
          null,
          4,
          3,
          null,
          4,
          3,
          null,
          4,
          3,
          null,
          4,
          3,
          null,
          4,
          3,
          null,
          4,
          3,
          null,
          8,
          9,
          null,
          8,
          9,
          null,
          8,
          9,
          null,
          8,
          9,
          null,
          8,
          7,
          null,
          8,
          9,
          null,
          8,
          7,
          null,
          8,
          7,
          null,
          8,
          9,
          null,
          3,
          2,
          null,
          7,
          8,
          null,
          1,
          2,
          null,
          1,
          2,
          null,
          1,
          2,
          null,
          1,
          2,
          null,
          1,
          2,
          null,
          1,
          2,
          null,
          1,
          3,
          null,
          1,
          2,
          null,
          2,
          3,
          null,
          2,
          3,
          null,
          8,
          9,
          null,
          3,
          2,
          null,
          3,
          2,
          null,
          3,
          2,
          null,
          3,
          2,
          null,
          3,
          2,
          null,
          3,
          2,
          null,
          3,
          2,
          null,
          2,
          3,
          null,
          2,
          3,
          null,
          2,
          3,
          null,
          2,
          3,
          null,
          3,
          2,
          null,
          2,
          3,
          null,
          8,
          9,
          null,
          9,
          8,
          null
         ]
        },
        {
         "hoverinfo": "text",
         "hovertext": [
          "Concept 41<br>extent (len: 243): 2344, 2792, 1829, 3116, 1747, 3402, 4248, 1652, 1429, 3364,...<br>intent (len: 2): duration__>=1.5m, contact__unknown<br>new extent (len: 29): 1375, 184, 73, 817, 907, 3189, 4377, 2303, 4104, 3296,...<br>new intent (len: 0): emptyset<br>mean_y_true: 0.06<br>mean_y_pred: 0.02<br>Metrics<br>\taccuracy: 0.95<br>\tprecision: 0.8<br>\trecall: 0.29<br>\tneg_precision: 0.96<br>\tneg_recall: 1.0<br><br>",
          "Concept 51<br>extent (len: 3): 2932, 328, 2848<br>intent (len: 3): duration__>=1.5m, contact__cellular, month__dec<br>new extent (len: 1): 2848<br>new intent (len: 0): emptyset<br>mean_y_true: 0.33<br>mean_y_pred: 0.33<br>Metrics<br>\taccuracy: 1.0<br>\tprecision: 1.0<br>\trecall: 1.0<br>\tneg_precision: 1.0<br>\tneg_recall: 1.0<br><br>",
          "Concept 53<br>extent (len: 6): 4141, 3013, 657, 2258, 3256, 2018<br>intent (len: 3): duration__>=1.5m, contact__cellular, month__mar<br>new extent (len: 3): 4141, 3013, 657<br>new intent (len: 0): emptyset<br>mean_y_true: 0.33<br>mean_y_pred: 0.67<br>Metrics<br>\taccuracy: 0.33<br>\tprecision: 0.25<br>\trecall: 0.5<br>\tneg_precision: 0.5<br>\tneg_recall: 0.25<br><br>",
          "Concept 44<br>extent (len: 5): 3889, 2932, 328, 2908, 2848<br>intent (len: 2): duration__>=1.5m, month__dec<br>new extent (len: 0): emptyset<br>new intent (len: 1): month__dec<br>mean_y_true: 0.4<br>mean_y_pred: 0.4<br>Metrics<br>\taccuracy: 1.0<br>\tprecision: 1.0<br>\trecall: 1.0<br>\tneg_precision: 1.0<br>\tneg_recall: 1.0<br><br>",
          "Concept 42<br>extent (len: 585): 800, 3819, 1918, 3855, 2078, 468, 1552, 3036, 296, 109,...<br>intent (len: 1): duration__>=3m<br>new extent (len: 17): 1056, 443, 2763, 2402, 3128, 3491, 1041, 3218, 3631, 751,...<br>new intent (len: 1): duration__>=3m<br>mean_y_true: 0.19<br>mean_y_pred: 0.15<br>Metrics<br>\taccuracy: 0.84<br>\tprecision: 0.6<br>\trecall: 0.47<br>\tneg_precision: 0.88<br>\tneg_recall: 0.93<br><br>",
          "Concept 49<br>extent (len: 7): 2266, 680, 1904, 4215, 2963, 2042, 229<br>intent (len: 2): duration__>=1.5m, month__sep<br>new extent (len: 0): emptyset<br>new intent (len: 0): emptyset<br>mean_y_true: 0.43<br>mean_y_pred: 0.43<br>Metrics<br>\taccuracy: 0.71<br>\tprecision: 0.67<br>\trecall: 0.67<br>\tneg_precision: 0.75<br>\tneg_recall: 0.75<br><br>",
          "Concept 43<br>extent (len: 60): 1115, 1610, 4211, 4076, 366, 367, 551, 2584, 1650, 227,...<br>intent (len: 2): duration__>=1.5m, month__apr<br>new extent (len: 0): emptyset<br>new intent (len: 0): emptyset<br>mean_y_true: 0.15<br>mean_y_pred: 0.12<br>Metrics<br>\taccuracy: 0.87<br>\tprecision: 0.57<br>\trecall: 0.44<br>\tneg_precision: 0.91<br>\tneg_recall: 0.94<br><br>",
          "Concept 59<br>extent (len: 381): 800, 3819, 1918, 3855, 2078, 468, 1552, 3036, 296, 109,...<br>intent (len: 2): duration__>=3m, contact__cellular<br>new extent (len: 121): 2377, 3569, 1632, 897, 3235, 4452, 1497, 1936, 677, 156,...<br>new intent (len: 0): emptyset<br>mean_y_true: 0.23<br>mean_y_pred: 0.19<br>Metrics<br>\taccuracy: 0.8<br>\tprecision: 0.58<br>\trecall: 0.48<br>\tneg_precision: 0.85<br>\tneg_recall: 0.9<br><br>",
          "Concept 56<br>extent (len: 6): 2266, 680, 1904, 4215, 2963, 229<br>intent (len: 3): duration__>=1.5m, contact__cellular, month__sep<br>new extent (len: 1): 229<br>new intent (len: 0): emptyset<br>mean_y_true: 0.5<br>mean_y_pred: 0.5<br>Metrics<br>\taccuracy: 0.67<br>\tprecision: 0.67<br>\trecall: 0.67<br>\tneg_precision: 0.67<br>\tneg_recall: 0.67<br><br>",
          "Concept 71<br>extent (len: 74): 4053, 1345, 3298, 4406, 3920, 721, 3312, 3674, 626, 318,...<br>intent (len: 3): duration__>=3m, contact__cellular, month__may<br>new extent (len: 39): 3063, 2759, 314, 3724, 4500, 43, 2778, 2665, 1532, 1964,...<br>new intent (len: 0): emptyset<br>mean_y_true: 0.26<br>mean_y_pred: 0.08<br>Metrics<br>\taccuracy: 0.77<br>\tprecision: 0.67<br>\trecall: 0.21<br>\tneg_precision: 0.78<br>\tneg_recall: 0.96<br><br>",
          "Concept 46<br>extent (len: 7): 4141, 3013, 657, 2258, 3256, 2018, 3877<br>intent (len: 2): duration__>=1.5m, month__mar<br>new extent (len: 1): 3877<br>new intent (len: 0): emptyset<br>mean_y_true: 0.29<br>mean_y_pred: 0.57<br>Metrics<br>\taccuracy: 0.43<br>\tprecision: 0.25<br>\trecall: 0.5<br>\tneg_precision: 0.67<br>\tneg_recall: 0.4<br><br>",
          "Concept 58<br>extent (len: 1): 2042<br>intent (len: 3): duration__>=1.5m, contact__unknown, month__sep<br>new extent (len: 1): 2042<br>new intent (len: 0): emptyset<br>mean_y_true: 0.0<br>mean_y_pred: 0.0<br>Metrics<br>\taccuracy: 1.0<br>\tprecision: 0.0<br>\trecall: 0.0<br>\tneg_precision: 1.0<br>\tneg_recall: 1.0<br><br>",
          "Concept 66<br>extent (len: 15): 3700, 4423, 61, 3315, 3701, 1113, 2685, 2213, 2750, 2821,...<br>intent (len: 2): duration__>=3m, month__oct<br>new extent (len: 2): 2750, 2821<br>new intent (len: 0): emptyset<br>mean_y_true: 0.47<br>mean_y_pred: 0.8<br>Metrics<br>\taccuracy: 0.4<br>\tprecision: 0.42<br>\trecall: 0.71<br>\tneg_precision: 0.33<br>\tneg_recall: 0.12<br><br>",
          "Concept 50<br>extent (len: 56): 1115, 1610, 4211, 4076, 366, 367, 551, 2584, 1650, 227,...<br>intent (len: 3): duration__>=1.5m, contact__cellular, month__apr<br>new extent (len: 16): 2566, 3168, 1057, 602, 4184, 4193, 4241, 2107, 990, 3879,...<br>new intent (len: 0): emptyset<br>mean_y_true: 0.14<br>mean_y_pred: 0.09<br>Metrics<br>\taccuracy: 0.88<br>\tprecision: 0.6<br>\trecall: 0.38<br>\tneg_precision: 0.9<br>\tneg_recall: 0.96<br><br>",
          "Concept 45<br>extent (len: 41): 3615, 4237, 1485, 1161, 759, 3796, 2357, 2697, 896, 2649,...<br>intent (len: 2): duration__>=1.5m, month__feb<br>new extent (len: 2): 3850, 56<br>new intent (len: 0): emptyset<br>mean_y_true: 0.29<br>mean_y_pred: 0.1<br>Metrics<br>\taccuracy: 0.76<br>\tprecision: 0.75<br>\trecall: 0.25<br>\tneg_precision: 0.76<br>\tneg_recall: 0.97<br><br>",
          "Concept 52<br>extent (len: 36): 3615, 4237, 1485, 1161, 759, 3796, 2357, 2697, 896, 2649,...<br>intent (len: 3): duration__>=1.5m, contact__cellular, month__feb<br>new extent (len: 12): 4023, 1697, 945, 3765, 960, 321, 2290, 3071, 4020, 3390,...<br>new intent (len: 0): emptyset<br>mean_y_true: 0.31<br>mean_y_pred: 0.11<br>Metrics<br>\taccuracy: 0.75<br>\tprecision: 0.75<br>\trecall: 0.27<br>\tneg_precision: 0.75<br>\tneg_recall: 0.96<br><br>",
          "Concept 79<br>extent (len: 16): 3615, 4237, 1485, 1161, 759, 3796, 2357, 2697, 896, 2649,...<br>intent (len: 2): duration__>=5.5m, month__feb<br>new extent (len: 1): 2499<br>new intent (len: 0): emptyset<br>mean_y_true: 0.5<br>mean_y_pred: 0.19<br>Metrics<br>\taccuracy: 0.56<br>\tprecision: 0.67<br>\trecall: 0.25<br>\tneg_precision: 0.54<br>\tneg_recall: 0.88<br><br>",
          "Concept 55<br>extent (len: 16): 3700, 4423, 61, 3315, 3701, 1113, 2685, 2213, 3527, 1158,...<br>intent (len: 3): duration__>=1.5m, contact__cellular, month__oct<br>new extent (len: 3): 1158, 3527, 3425<br>new intent (len: 0): emptyset<br>mean_y_true: 0.44<br>mean_y_pred: 0.62<br>Metrics<br>\taccuracy: 0.44<br>\tprecision: 0.4<br>\trecall: 0.57<br>\tneg_precision: 0.5<br>\tneg_recall: 0.33<br><br>",
          "Concept 68<br>extent (len: 2): 2932, 328<br>intent (len: 3): duration__>=3m, contact__cellular, month__dec<br>new extent (len: 1): 2932<br>new intent (len: 0): emptyset<br>mean_y_true: 0.5<br>mean_y_pred: 0.5<br>Metrics<br>\taccuracy: 1.0<br>\tprecision: 1.0<br>\trecall: 1.0<br>\tneg_precision: 1.0<br>\tneg_recall: 1.0<br><br>",
          "Concept 63<br>extent (len: 4): 3889, 2932, 328, 2908<br>intent (len: 2): duration__>=3m, month__dec<br>new extent (len: 1): 2908<br>new intent (len: 0): emptyset<br>mean_y_true: 0.5<br>mean_y_pred: 0.5<br>Metrics<br>\taccuracy: 1.0<br>\tprecision: 1.0<br>\trecall: 1.0<br>\tneg_precision: 1.0<br>\tneg_recall: 1.0<br><br>",
          "Concept 67<br>extent (len: 40): 1115, 1610, 4211, 4076, 366, 367, 551, 2584, 1650, 227,...<br>intent (len: 3): duration__>=3m, contact__cellular, month__apr<br>new extent (len: 17): 4076, 3797, 2584, 366, 650, 4315, 801, 1115, 1610, 4385,...<br>new intent (len: 0): emptyset<br>mean_y_true: 0.2<br>mean_y_pred: 0.12<br>Metrics<br>\taccuracy: 0.82<br>\tprecision: 0.6<br>\trecall: 0.38<br>\tneg_precision: 0.86<br>\tneg_recall: 0.94<br><br>",
          "Concept 57<br>extent (len: 159): 4018, 937, 3964, 315, 4475, 1392, 1612, 2195, 2222, 4449,...<br>intent (len: 3): duration__>=1.5m, contact__unknown, month__may<br>new extent (len: 50): 96, 2528, 3259, 1270, 655, 287, 3858, 3401, 2223, 3405,...<br>new intent (len: 0): emptyset<br>mean_y_true: 0.06<br>mean_y_pred: 0.01<br>Metrics<br>\taccuracy: 0.95<br>\tprecision: 1.0<br>\trecall: 0.2<br>\tneg_precision: 0.95<br>\tneg_recall: 1.0<br><br>",
          "Concept 47<br>extent (len: 279): 3548, 3471, 3303, 1181, 1730, 1666, 869, 4208, 4169, 177,...<br>intent (len: 2): duration__>=1.5m, month__may<br>new extent (len: 2): 676, 999<br>new intent (len: 0): emptyset<br>mean_y_true: 0.11<br>mean_y_pred: 0.03<br>Metrics<br>\taccuracy: 0.91<br>\tprecision: 0.75<br>\trecall: 0.2<br>\tneg_precision: 0.91<br>\tneg_recall: 0.99<br><br>",
          "Concept 65<br>extent (len: 186): 4053, 1345, 3298, 4406, 3920, 721, 3312, 3674, 626, 318,...<br>intent (len: 2): duration__>=3m, month__may<br>new extent (len: 0): emptyset<br>new intent (len: 0): emptyset<br>mean_y_true: 0.16<br>mean_y_pred: 0.04<br>Metrics<br>\taccuracy: 0.87<br>\tprecision: 0.75<br>\trecall: 0.21<br>\tneg_precision: 0.87<br>\tneg_recall: 0.99<br><br>",
          "Concept 73<br>extent (len: 5): 2266, 680, 1904, 4215, 2963<br>intent (len: 3): duration__>=3m, contact__cellular, month__sep<br>new extent (len: 3): 2266, 680, 1904<br>new intent (len: 0): emptyset<br>mean_y_true: 0.6<br>mean_y_pred: 0.6<br>Metrics<br>\taccuracy: 0.6<br>\tprecision: 0.67<br>\trecall: 0.67<br>\tneg_precision: 0.5<br>\tneg_recall: 0.5<br><br>",
          "Concept 39<br>extent (len: 176): 4018, 937, 3964, 315, 4475, 1392, 1612, 2195, 2222, 4449,...<br>intent (len: 3): duration__>=1m, contact__unknown, month__may<br>new extent (len: 17): 4205, 3903, 1090, 3253, 1207, 1770, 842, 3169, 879, 4062,...<br>new intent (len: 0): emptyset<br>mean_y_true: 0.06<br>mean_y_pred: 0.01<br>Metrics<br>\taccuracy: 0.95<br>\tprecision: 1.0<br>\trecall: 0.2<br>\tneg_precision: 0.95<br>\tneg_recall: 1.0<br><br>",
          "Concept 74<br>extent (len: 109): 4018, 937, 3964, 315, 4475, 1392, 1612, 2195, 2222, 4449,...<br>intent (len: 3): duration__>=3m, contact__unknown, month__may<br>new extent (len: 53): 3188, 2093, 26, 144, 2441, 2495, 4134, 1670, 471, 2298,...<br>new intent (len: 0): emptyset<br>mean_y_true: 0.09<br>mean_y_pred: 0.02<br>Metrics<br>\taccuracy: 0.93<br>\tprecision: 1.0<br>\trecall: 0.2<br>\tneg_precision: 0.93<br>\tneg_recall: 1.0<br><br>",
          "Concept 72<br>extent (len: 13): 3700, 4423, 61, 3315, 3701, 1113, 2685, 2213, 1672, 1186,...<br>intent (len: 3): duration__>=3m, contact__cellular, month__oct<br>new extent (len: 8): 3315, 1113, 2213, 2685, 3701, 3700, 61, 4423<br>new intent (len: 0): emptyset<br>mean_y_true: 0.46<br>mean_y_pred: 0.77<br>Metrics<br>\taccuracy: 0.38<br>\tprecision: 0.4<br>\trecall: 0.67<br>\tneg_precision: 0.33<br>\tneg_recall: 0.14<br><br>",
          "Concept 40<br>extent (len: 571): 2398, 2288, 4011, 3963, 1222, 2916, 1020, 497, 3825, 151,...<br>intent (len: 2): duration__>=1.5m, contact__cellular<br>new extent (len: 113): 4242, 544, 2118, 3414, 2493, 2339, 594, 1222, 2583, 393,...<br>new intent (len: 0): emptyset<br>mean_y_true: 0.17<br>mean_y_pred: 0.13<br>Metrics<br>\taccuracy: 0.85<br>\tprecision: 0.58<br>\trecall: 0.44<br>\tneg_precision: 0.89<br>\tneg_recall: 0.93<br><br>",
          "Concept 48<br>extent (len: 19): 3700, 4423, 61, 3315, 3701, 1113, 2685, 2213, 1196, 2750,...<br>intent (len: 2): duration__>=1.5m, month__oct<br>new extent (len: 1): 1196<br>new intent (len: 0): emptyset<br>mean_y_true: 0.42<br>mean_y_pred: 0.63<br>Metrics<br>\taccuracy: 0.47<br>\tprecision: 0.42<br>\trecall: 0.62<br>\tneg_precision: 0.57<br>\tneg_recall: 0.36<br><br>",
          "Concept 64<br>extent (len: 27): 3615, 4237, 1485, 1161, 759, 3796, 2357, 2697, 896, 2649,...<br>intent (len: 2): duration__>=3m, month__feb<br>new extent (len: 1): 4439<br>new intent (len: 0): emptyset<br>mean_y_true: 0.37<br>mean_y_pred: 0.15<br>Metrics<br>\taccuracy: 0.7<br>\tprecision: 0.75<br>\trecall: 0.3<br>\tneg_precision: 0.7<br>\tneg_recall: 0.94<br><br>",
          "Concept 62<br>extent (len: 44): 1115, 1610, 4211, 4076, 366, 367, 551, 2584, 1650, 227,...<br>intent (len: 2): duration__>=3m, month__apr<br>new extent (len: 2): 969, 199<br>new intent (len: 0): emptyset<br>mean_y_true: 0.2<br>mean_y_pred: 0.16<br>Metrics<br>\taccuracy: 0.82<br>\tprecision: 0.57<br>\trecall: 0.44<br>\tneg_precision: 0.86<br>\tneg_recall: 0.91<br><br>",
          "Concept 54<br>extent (len: 115): 3548, 3471, 3303, 1181, 1730, 1666, 869, 4208, 4169, 177,...<br>intent (len: 3): duration__>=1.5m, contact__cellular, month__may<br>new extent (len: 41): 3605, 2380, 3543, 2784, 3559, 4414, 869, 1786, 1052, 2245,...<br>new intent (len: 0): emptyset<br>mean_y_true: 0.17<br>mean_y_pred: 0.05<br>Metrics<br>\taccuracy: 0.84<br>\tprecision: 0.67<br>\trecall: 0.2<br>\tneg_precision: 0.85<br>\tneg_recall: 0.98<br><br>",
          "Concept 70<br>extent (len: 3): 2258, 3256, 2018<br>intent (len: 3): duration__>=3m, contact__cellular, month__mar<br>new extent (len: 2): 3256, 2018<br>new intent (len: 0): emptyset<br>mean_y_true: 0.33<br>mean_y_pred: 1.0<br>Metrics<br>\taccuracy: 0.33<br>\tprecision: 0.33<br>\trecall: 1.0<br>\tneg_precision: 0.0<br>\tneg_recall: 0.0<br><br>",
          "Concept 69<br>extent (len: 24): 3615, 4237, 1485, 1161, 759, 3796, 2357, 2697, 896, 2649,...<br>intent (len: 3): duration__>=3m, contact__cellular, month__feb<br>new extent (len: 10): 3787, 2917, 3135, 3407, 1102, 2749, 4190, 1264, 4428, 180<br>new intent (len: 0): emptyset<br>mean_y_true: 0.38<br>mean_y_pred: 0.17<br>Metrics<br>\taccuracy: 0.71<br>\tprecision: 0.75<br>\trecall: 0.33<br>\tneg_precision: 0.7<br>\tneg_recall: 0.93<br><br>",
          "Concept 60<br>extent (len: 163): 2344, 2792, 1829, 3116, 1747, 3402, 4248, 1652, 1429, 3364,...<br>intent (len: 2): duration__>=3m, contact__unknown<br>new extent (len: 30): 3306, 2465, 3779, 2792, 1024, 3364, 3402, 2344, 1018, 1954,...<br>new intent (len: 0): emptyset<br>mean_y_true: 0.09<br>mean_y_pred: 0.03<br>Metrics<br>\taccuracy: 0.93<br>\tprecision: 0.8<br>\trecall: 0.29<br>\tneg_precision: 0.94<br>\tneg_recall: 0.99<br><br>",
          "Concept 21<br>extent (len: 65): 1115, 1610, 4211, 4076, 366, 367, 551, 2584, 1650, 227,...<br>intent (len: 2): duration__>=1m, month__apr<br>new extent (len: 0): emptyset<br>new intent (len: 0): emptyset<br>mean_y_true: 0.14<br>mean_y_pred: 0.11<br>Metrics<br>\taccuracy: 0.88<br>\tprecision: 0.57<br>\trecall: 0.44<br>\tneg_precision: 0.91<br>\tneg_recall: 0.95<br><br>",
          "Concept 38<br>extent (len: 8): 3541, 2918, 2266, 680, 1904, 4215, 2963, 229<br>intent (len: 3): duration__>=1m, contact__cellular, month__sep<br>new extent (len: 2): 2918, 3541<br>new intent (len: 0): emptyset<br>mean_y_true: 0.38<br>mean_y_pred: 0.38<br>Metrics<br>\taccuracy: 0.75<br>\tprecision: 0.67<br>\trecall: 0.67<br>\tneg_precision: 0.8<br>\tneg_recall: 0.8<br><br>",
          "Concept 19<br>extent (len: 287): 2344, 2792, 1829, 3116, 1747, 3402, 4248, 1652, 1429, 3364,...<br>intent (len: 2): duration__>=1m, contact__unknown<br>new extent (len: 27): 2994, 3707, 4222, 856, 690, 3575, 4058, 2550, 1554, 3355,...<br>new intent (len: 0): emptyset<br>mean_y_true: 0.05<br>mean_y_pred: 0.02<br>Metrics<br>\taccuracy: 0.96<br>\tprecision: 0.8<br>\trecall: 0.29<br>\tneg_precision: 0.96<br>\tneg_recall: 1.0<br><br>",
          "Concept 28<br>extent (len: 3): 4464, 3464, 4273<br>intent (len: 3): duration__<1m, contact__cellular, month__feb<br>new extent (len: 3): 3464, 4273, 4464<br>new intent (len: 0): emptyset<br>mean_y_true: 0.0<br>mean_y_pred: 0.0<br>Metrics<br>\taccuracy: 1.0<br>\tprecision: 0.0<br>\trecall: 0.0<br>\tneg_precision: 1.0<br>\tneg_recall: 1.0<br><br>",
          "Concept 32<br>extent (len: 1): 1106<br>intent (len: 3): duration__<1m, contact__unknown, month__oct<br>new extent (len: 1): 1106<br>new intent (len: 0): emptyset<br>mean_y_true: 0.0<br>mean_y_pred: 0.0<br>Metrics<br>\taccuracy: 1.0<br>\tprecision: 0.0<br>\trecall: 0.0<br>\tneg_precision: 1.0<br>\tneg_recall: 1.0<br><br>",
          "Concept 27<br>extent (len: 8): 3048, 4100, 2561, 4514, 2673, 733, 1073, 1378<br>intent (len: 3): duration__<1m, contact__cellular, month__apr<br>new extent (len: 8): 3048, 4100, 2561, 733, 2673, 1378, 4514, 1073<br>new intent (len: 0): emptyset<br>mean_y_true: 0.0<br>mean_y_pred: 0.0<br>Metrics<br>\taccuracy: 1.0<br>\tprecision: 0.0<br>\trecall: 0.0<br>\tneg_precision: 1.0<br>\tneg_recall: 1.0<br><br>",
          "Concept 22<br>extent (len: 47): 3615, 4237, 1485, 1161, 759, 3796, 2357, 2697, 896, 2649,...<br>intent (len: 2): duration__>=1m, month__feb<br>new extent (len: 0): emptyset<br>new intent (len: 0): emptyset<br>mean_y_true: 0.26<br>mean_y_pred: 0.09<br>Metrics<br>\taccuracy: 0.79<br>\tprecision: 0.75<br>\trecall: 0.25<br>\tneg_precision: 0.79<br>\tneg_recall: 0.97<br><br>",
          "Concept 18<br>extent (len: 653): 2398, 2288, 4011, 3963, 1222, 2916, 1020, 497, 3825, 151,...<br>intent (len: 2): duration__>=1m, contact__cellular<br>new extent (len: 48): 2478, 755, 157, 3111, 1393, 977, 4501, 179, 410, 1815,...<br>new intent (len: 0): emptyset<br>mean_y_true: 0.15<br>mean_y_pred: 0.11<br>Metrics<br>\taccuracy: 0.87<br>\tprecision: 0.58<br>\trecall: 0.43<br>\tneg_precision: 0.9<br>\tneg_recall: 0.94<br><br>",
          "Concept 30<br>extent (len: 1): 1675<br>intent (len: 3): duration__<1m, contact__unknown, month__mar<br>new extent (len: 1): 1675<br>new intent (len: 0): emptyset<br>mean_y_true: 0.0<br>mean_y_pred: 0.0<br>Metrics<br>\taccuracy: 1.0<br>\tprecision: 0.0<br>\trecall: 0.0<br>\tneg_precision: 1.0<br>\tneg_recall: 1.0<br><br>",
          "Concept 26<br>extent (len: 9): 3541, 2918, 2266, 680, 1904, 4215, 2963, 2042, 229<br>intent (len: 2): duration__>=1m, month__sep<br>new extent (len: 0): emptyset<br>new intent (len: 1): month__sep<br>mean_y_true: 0.33<br>mean_y_pred: 0.33<br>Metrics<br>\taccuracy: 0.78<br>\tprecision: 0.67<br>\trecall: 0.67<br>\tneg_precision: 0.83<br>\tneg_recall: 0.83<br><br>",
          "Concept 29<br>extent (len: 18): 3415, 3231, 3713, 2019, 1598, 718, 2727, 1426, 2978, 1163,...<br>intent (len: 3): duration__<1m, contact__cellular, month__may<br>new extent (len: 18): 3231, 3713, 2978, 4266, 1071, 436, 3299, 1426, 3640, 1598,...<br>new intent (len: 0): emptyset<br>mean_y_true: 0.0<br>mean_y_pred: 0.0<br>Metrics<br>\taccuracy: 1.0<br>\tprecision: 0.0<br>\trecall: 0.0<br>\tneg_precision: 1.0<br>\tneg_recall: 1.0<br><br>",
          "Concept 24<br>extent (len: 312): 3548, 3471, 3303, 1181, 1730, 1666, 869, 4208, 4169, 177,...<br>intent (len: 2): duration__>=1m, month__may<br>new extent (len: 2): 2531, 2401<br>new intent (len: 0): emptyset<br>mean_y_true: 0.1<br>mean_y_pred: 0.03<br>Metrics<br>\taccuracy: 0.92<br>\tprecision: 0.75<br>\trecall: 0.2<br>\tneg_precision: 0.92<br>\tneg_recall: 0.99<br><br>",
          "Concept 36<br>extent (len: 129): 3548, 3471, 3303, 1181, 1730, 1666, 869, 4208, 4169, 177,...<br>intent (len: 3): duration__>=1m, contact__cellular, month__may<br>new extent (len: 14): 1859, 4394, 2877, 3384, 4278, 3981, 3815, 1588, 3697, 1117,...<br>new intent (len: 0): emptyset<br>mean_y_true: 0.16<br>mean_y_pred: 0.05<br>Metrics<br>\taccuracy: 0.86<br>\tprecision: 0.67<br>\trecall: 0.2<br>\tneg_precision: 0.87<br>\tneg_recall: 0.98<br><br>",
          "Concept 16<br>extent (len: 10): 3166, 3408, 3048, 4100, 2561, 4514, 2673, 733, 1073, 1378<br>intent (len: 2): duration__<1m, month__apr<br>new extent (len: 2): 3166, 3408<br>new intent (len: 0): emptyset<br>mean_y_true: 0.0<br>mean_y_pred: 0.0<br>Metrics<br>\taccuracy: 1.0<br>\tprecision: 0.0<br>\trecall: 0.0<br>\tneg_precision: 1.0<br>\tneg_recall: 1.0<br><br>",
          "Concept 37<br>extent (len: 19): 3700, 4423, 61, 3315, 3701, 1113, 2685, 2213, 3527, 1158,...<br>intent (len: 3): duration__>=1m, contact__cellular, month__oct<br>new extent (len: 3): 903, 2451, 2417<br>new intent (len: 0): emptyset<br>mean_y_true: 0.37<br>mean_y_pred: 0.53<br>Metrics<br>\taccuracy: 0.53<br>\tprecision: 0.4<br>\trecall: 0.57<br>\tneg_precision: 0.67<br>\tneg_recall: 0.5<br><br>",
          "Concept 20<br>extent (len: 872): 2398, 2288, 4011, 3963, 1222, 2916, 1020, 497, 3825, 151,...<br>intent (len: 1): duration__>=1.5m<br>new extent (len: 11): 3095, 3206, 3632, 3258, 1545, 4320, 2677, 2174, 2704, 1505,...<br>new intent (len: 1): duration__>=1.5m<br>mean_y_true: 0.14<br>mean_y_pred: 0.1<br>Metrics<br>\taccuracy: 0.88<br>\tprecision: 0.6<br>\trecall: 0.44<br>\tneg_precision: 0.91<br>\tneg_recall: 0.95<br><br>",
          "Concept 15<br>extent (len: 51): 3134, 3214, 4374, 3671, 3326, 833, 4440, 3597, 2103, 4308,...<br>intent (len: 2): duration__<1m, contact__unknown<br>new extent (len: 28): 4374, 139, 3214, 1074, 4143, 4308, 1293, 4024, 2840, 833,...<br>new intent (len: 0): emptyset<br>mean_y_true: 0.02<br>mean_y_pred: 0.0<br>Metrics<br>\taccuracy: 0.98<br>\tprecision: 0.0<br>\trecall: 0.0<br>\tneg_precision: 0.98<br>\tneg_recall: 1.0<br><br>",
          "Concept 34<br>extent (len: 42): 3615, 4237, 1485, 1161, 759, 3796, 2357, 2697, 896, 2649,...<br>intent (len: 3): duration__>=1m, contact__cellular, month__feb<br>new extent (len: 6): 1231, 683, 838, 3669, 2250, 4249<br>new intent (len: 0): emptyset<br>mean_y_true: 0.26<br>mean_y_pred: 0.1<br>Metrics<br>\taccuracy: 0.79<br>\tprecision: 0.75<br>\trecall: 0.27<br>\tneg_precision: 0.79<br>\tneg_recall: 0.97<br><br>",
          "Concept 17<br>extent (len: 46): 1583, 1075, 8, 1777, 3892, 2501, 122, 1784, 1068, 3725,...<br>intent (len: 2): duration__<1m, month__may<br>new extent (len: 7): 408, 3487, 3988, 4446, 2121, 776, 789<br>new intent (len: 0): emptyset<br>mean_y_true: 0.02<br>mean_y_pred: 0.0<br>Metrics<br>\taccuracy: 0.98<br>\tprecision: 0.0<br>\trecall: 0.0<br>\tneg_precision: 0.98<br>\tneg_recall: 1.0<br><br>",
          "Concept 25<br>extent (len: 22): 3700, 4423, 61, 3315, 3701, 1113, 2685, 2213, 1196, 2750,...<br>intent (len: 2): duration__>=1m, month__oct<br>new extent (len: 0): emptyset<br>new intent (len: 0): emptyset<br>mean_y_true: 0.36<br>mean_y_pred: 0.55<br>Metrics<br>\taccuracy: 0.55<br>\tprecision: 0.42<br>\trecall: 0.62<br>\tneg_precision: 0.7<br>\tneg_recall: 0.5<br><br>",
          "Concept 61<br>extent (len: 278): 800, 3819, 1918, 3855, 2078, 468, 1552, 3036, 296, 109,...<br>intent (len: 1): duration__>=5.5m<br>new extent (len: 5): 1025, 1978, 2910, 1391, 2652<br>new intent (len: 1): duration__>=5.5m<br>mean_y_true: 0.3<br>mean_y_pred: 0.25<br>Metrics<br>\taccuracy: 0.74<br>\tprecision: 0.58<br>\trecall: 0.48<br>\tneg_precision: 0.79<br>\tneg_recall: 0.85<br><br>",
          "Concept 12<br>extent (len: 147): 3548, 3471, 3303, 1181, 1730, 1666, 869, 4208, 4169, 177,...<br>intent (len: 2): contact__cellular, month__may<br>new extent (len: 0): emptyset<br>new intent (len: 0): emptyset<br>mean_y_true: 0.14<br>mean_y_pred: 0.04<br>Metrics<br>\taccuracy: 0.88<br>\tprecision: 0.67<br>\trecall: 0.2<br>\tneg_precision: 0.89<br>\tneg_recall: 0.98<br><br>",
          "Concept 13<br>extent (len: 197): 4018, 937, 3964, 315, 4475, 1392, 1612, 2195, 2222, 4449,...<br>intent (len: 2): contact__unknown, month__may<br>new extent (len: 0): emptyset<br>new intent (len: 0): emptyset<br>mean_y_true: 0.06<br>mean_y_pred: 0.01<br>Metrics<br>\taccuracy: 0.95<br>\tprecision: 1.0<br>\trecall: 0.18<br>\tneg_precision: 0.95<br>\tneg_recall: 1.0<br><br>",
          "Concept 14<br>extent (len: 59): 3415, 3231, 3713, 2019, 1598, 718, 2727, 1426, 2978, 1163,...<br>intent (len: 2): duration__<1m, contact__cellular<br>new extent (len: 30): 3085, 438, 596, 1995, 2530, 3531, 538, 3042, 32, 1108,...<br>new intent (len: 0): emptyset<br>mean_y_true: 0.0<br>mean_y_pred: 0.0<br>Metrics<br>\taccuracy: 1.0<br>\tprecision: 0.0<br>\trecall: 0.0<br>\tneg_precision: 1.0<br>\tneg_recall: 1.0<br><br>",
          "Concept 31<br>extent (len: 21): 1583, 1075, 8, 1777, 3892, 2501, 122, 1784, 1068, 3725,...<br>intent (len: 3): duration__<1m, contact__unknown, month__may<br>new extent (len: 21): 1784, 783, 1068, 8, 3892, 1200, 1116, 1583, 4371, 1777,...<br>new intent (len: 0): emptyset<br>mean_y_true: 0.05<br>mean_y_pred: 0.0<br>Metrics<br>\taccuracy: 0.95<br>\tprecision: 0.0<br>\trecall: 0.0<br>\tneg_precision: 0.95<br>\tneg_recall: 1.0<br><br>",
          "Concept 35<br>extent (len: 10): 4141, 3013, 657, 3292, 4293, 1344, 1479, 2258, 3256, 2018<br>intent (len: 3): duration__>=1m, contact__cellular, month__mar<br>new extent (len: 4): 3292, 1344, 4293, 1479<br>new intent (len: 0): emptyset<br>mean_y_true: 0.3<br>mean_y_pred: 0.4<br>Metrics<br>\taccuracy: 0.5<br>\tprecision: 0.25<br>\trecall: 0.33<br>\tneg_precision: 0.67<br>\tneg_recall: 0.57<br><br>",
          "Concept 33<br>extent (len: 61): 1115, 1610, 4211, 4076, 366, 367, 551, 2584, 1650, 227,...<br>intent (len: 3): duration__>=1m, contact__cellular, month__apr<br>new extent (len: 5): 1374, 802, 3929, 2526, 1717<br>new intent (len: 0): emptyset<br>mean_y_true: 0.13<br>mean_y_pred: 0.08<br>Metrics<br>\taccuracy: 0.89<br>\tprecision: 0.6<br>\trecall: 0.38<br>\tneg_precision: 0.91<br>\tneg_recall: 0.96<br><br>",
          "Concept 80<br>extent (len: 94): 4053, 1345, 3298, 4406, 3920, 721, 3312, 3674, 626, 318,...<br>intent (len: 2): duration__>=5.5m, month__may<br>new extent (len: 3): 1119, 3483, 2066<br>new intent (len: 0): emptyset<br>mean_y_true: 0.27<br>mean_y_pred: 0.09<br>Metrics<br>\taccuracy: 0.78<br>\tprecision: 0.75<br>\trecall: 0.24<br>\tneg_precision: 0.78<br>\tneg_recall: 0.97<br><br>",
          "Concept 23<br>extent (len: 12): 4141, 3013, 657, 3292, 4293, 1344, 1479, 166, 2258, 3256,...<br>intent (len: 2): duration__>=1m, month__mar<br>new extent (len: 1): 166<br>new intent (len: 0): emptyset<br>mean_y_true: 0.25<br>mean_y_pred: 0.33<br>Metrics<br>\taccuracy: 0.58<br>\tprecision: 0.25<br>\trecall: 0.33<br>\tneg_precision: 0.75<br>\tneg_recall: 0.67<br><br>",
          "Concept 77<br>extent (len: 104): 3614, 415, 4077, 2481, 1192, 33, 1896, 51, 1553, 429,...<br>intent (len: 1): duration__>=16.5m<br>new extent (len: 5): 30, 3333, 1534, 4495, 1507<br>new intent (len: 1): duration__>=16.5m<br>mean_y_true: 0.46<br>mean_y_pred: 0.51<br>Metrics<br>\taccuracy: 0.61<br>\tprecision: 0.57<br>\trecall: 0.62<br>\tneg_precision: 0.65<br>\tneg_recall: 0.59<br><br>",
          "Concept 76<br>extent (len: 80): 4018, 937, 3964, 315, 4475, 1392, 1612, 2195, 2222, 4449,...<br>intent (len: 2): duration__>=5.5m, contact__unknown<br>new extent (len: 14): 720, 2954, 567, 3372, 2710, 643, 2468, 2658, 620, 2767,...<br>new intent (len: 0): emptyset<br>mean_y_true: 0.18<br>mean_y_pred: 0.06<br>Metrics<br>\taccuracy: 0.86<br>\tprecision: 0.8<br>\trecall: 0.29<br>\tneg_precision: 0.87<br>\tneg_recall: 0.98<br><br>",
          "Concept 81<br>extent (len: 23): 350, 3066, 2971, 4520, 4284, 4492, 3341, 1309, 2694, 445,...<br>intent (len: 3): duration__>=5.5m, contact__cellular, month__apr<br>new extent (len: 15): 350, 445, 4284, 4455, 3238, 4520, 1309, 4492, 3341, 809,...<br>new intent (len: 0): emptyset<br>mean_y_true: 0.3<br>mean_y_pred: 0.22<br>Metrics<br>\taccuracy: 0.74<br>\tprecision: 0.6<br>\trecall: 0.43<br>\tneg_precision: 0.78<br>\tneg_recall: 0.88<br><br>",
          "Concept 75<br>extent (len: 180): 800, 3819, 1918, 3855, 2078, 468, 1552, 3036, 296, 109,...<br>intent (len: 2): duration__>=5.5m, contact__cellular<br>new extent (len: 61): 3017, 120, 2639, 4300, 4404, 811, 2666, 486, 1436, 3589,...<br>new intent (len: 0): emptyset<br>mean_y_true: 0.35<br>mean_y_pred: 0.32<br>Metrics<br>\taccuracy: 0.69<br>\tprecision: 0.56<br>\trecall: 0.51<br>\tneg_precision: 0.75<br>\tneg_recall: 0.79<br><br>",
          "Concept 78<br>extent (len: 25): 350, 3066, 2971, 4520, 4284, 4492, 3341, 1309, 2694, 445,...<br>intent (len: 2): duration__>=5.5m, month__apr<br>new extent (len: 1): 881<br>new intent (len: 0): emptyset<br>mean_y_true: 0.28<br>mean_y_pred: 0.24<br>Metrics<br>\taccuracy: 0.72<br>\tprecision: 0.5<br>\trecall: 0.43<br>\tneg_precision: 0.79<br>\tneg_recall: 0.83<br><br>",
          "Concept 2<br>extent (len: 338): 2344, 2792, 1829, 3116, 1747, 3402, 4248, 1652, 1429, 3364,...<br>intent (len: 1): contact__unknown<br>new extent (len: 0): emptyset<br>new intent (len: 1): contact__unknown<br>mean_y_true: 0.04<br>mean_y_pred: 0.01<br>Metrics<br>\taccuracy: 0.96<br>\tprecision: 0.8<br>\trecall: 0.27<br>\tneg_precision: 0.97<br>\tneg_recall: 1.0<br><br>",
          "Concept 3<br>extent (len: 125): 3134, 3214, 4374, 3671, 3326, 833, 4440, 3597, 2103, 4308,...<br>intent (len: 1): duration__<1m<br>new extent (len: 6): 2662, 3462, 1569, 1292, 4468, 2387<br>new intent (len: 1): duration__<1m<br>mean_y_true: 0.01<br>mean_y_pred: 0.0<br>Metrics<br>\taccuracy: 0.99<br>\tprecision: 0.0<br>\trecall: 0.0<br>\tneg_precision: 0.99<br>\tneg_recall: 1.0<br><br>",
          "Concept 9<br>extent (len: 23): 3700, 4423, 61, 3315, 3701, 1113, 2685, 2213, 1196, 2750,...<br>intent (len: 1): month__oct<br>new extent (len: 0): emptyset<br>new intent (len: 1): month__oct<br>mean_y_true: 0.35<br>mean_y_pred: 0.52<br>Metrics<br>\taccuracy: 0.57<br>\tprecision: 0.42<br>\trecall: 0.62<br>\tneg_precision: 0.73<br>\tneg_recall: 0.53<br><br>",
          "Concept 7<br>extent (len: 13): 4141, 3013, 657, 3292, 4293, 1344, 1479, 1675, 166, 2258,...<br>intent (len: 1): month__mar<br>new extent (len: 0): emptyset<br>new intent (len: 1): month__mar<br>mean_y_true: 0.23<br>mean_y_pred: 0.31<br>Metrics<br>\taccuracy: 0.62<br>\tprecision: 0.25<br>\trecall: 0.33<br>\tneg_precision: 0.78<br>\tneg_recall: 0.7<br><br>",
          "Concept 6<br>extent (len: 50): 3615, 4237, 1485, 1161, 759, 3796, 2357, 2697, 896, 2649,...<br>intent (len: 1): month__feb<br>new extent (len: 0): emptyset<br>new intent (len: 1): month__feb<br>mean_y_true: 0.24<br>mean_y_pred: 0.08<br>Metrics<br>\taccuracy: 0.8<br>\tprecision: 0.75<br>\trecall: 0.25<br>\tneg_precision: 0.8<br>\tneg_recall: 0.97<br><br>",
          "Concept 1<br>extent (len: 712): 2398, 2288, 4011, 3963, 1222, 2916, 1020, 497, 3825, 151,...<br>intent (len: 1): contact__cellular<br>new extent (len: 0): emptyset<br>new intent (len: 1): contact__cellular<br>mean_y_true: 0.14<br>mean_y_pred: 0.1<br>Metrics<br>\taccuracy: 0.88<br>\tprecision: 0.58<br>\trecall: 0.43<br>\tneg_precision: 0.91<br>\tneg_recall: 0.95<br><br>",
          "Concept 88<br>extent (len: 30): 2775, 1315, 2688, 1175, 4291, 3873, 794, 831, 1407, 1454,...<br>intent (len: 2): duration__>=16.5m, contact__unknown<br>new extent (len: 10): 1454, 3873, 4291, 1315, 2775, 1175, 1407, 831, 2688, 794<br>new intent (len: 0): emptyset<br>mean_y_true: 0.4<br>mean_y_pred: 0.17<br>Metrics<br>\taccuracy: 0.7<br>\tprecision: 0.8<br>\trecall: 0.33<br>\tneg_precision: 0.68<br>\tneg_recall: 0.94<br><br>",
          "Concept 10<br>extent (len: 69): 1115, 1610, 4211, 4076, 366, 367, 551, 2584, 1650, 227,...<br>intent (len: 2): contact__cellular, month__apr<br>new extent (len: 0): emptyset<br>new intent (len: 0): emptyset<br>mean_y_true: 0.12<br>mean_y_pred: 0.07<br>Metrics<br>\taccuracy: 0.9<br>\tprecision: 0.6<br>\trecall: 0.38<br>\tneg_precision: 0.92<br>\tneg_recall: 0.97<br><br>",
          "Concept 100<br>extent (len: 0): emptyset<br>intent (len: 11): duration__<1m, duration__>=16.5m, contact__cellular, contact__unknown, month__feb, month__mar, month__apr, month__may, month__sep, month__oct,...<br>new extent (len: 0): emptyset<br>new intent (len: 0): emptyset<br>Metrics<br><br>",
          "Concept 99<br>extent (len: 20): 4511, 297, 2347, 2464, 4498, 1877, 1723, 1302, 1501, 2254,...<br>intent (len: 3): duration__>=16.5m, contact__unknown, month__may<br>new extent (len: 20): 2347, 2202, 2464, 3091, 1533, 705, 3810, 1302, 1723, 4511,...<br>new intent (len: 0): emptyset<br>mean_y_true: 0.45<br>mean_y_pred: 0.1<br>Metrics<br>\taccuracy: 0.65<br>\tprecision: 1.0<br>\trecall: 0.22<br>\tneg_precision: 0.61<br>\tneg_recall: 1.0<br><br>",
          "Concept 5<br>extent (len: 75): 1115, 1610, 4211, 4076, 366, 367, 551, 2584, 1650, 227,...<br>intent (len: 1): month__apr<br>new extent (len: 0): emptyset<br>new intent (len: 1): month__apr<br>mean_y_true: 0.12<br>mean_y_pred: 0.09<br>Metrics<br>\taccuracy: 0.89<br>\tprecision: 0.57<br>\trecall: 0.44<br>\tneg_precision: 0.93<br>\tneg_recall: 0.95<br><br>",
          "Concept 87<br>extent (len: 66): 3614, 415, 4077, 2481, 1192, 33, 1896, 51, 1553, 429,...<br>intent (len: 2): duration__>=16.5m, contact__cellular<br>new extent (len: 38): 80, 1738, 3463, 203, 511, 2211, 589, 1869, 415, 1991,...<br>new intent (len: 0): emptyset<br>mean_y_true: 0.48<br>mean_y_pred: 0.64<br>Metrics<br>\taccuracy: 0.55<br>\tprecision: 0.52<br>\trecall: 0.69<br>\tneg_precision: 0.58<br>\tneg_recall: 0.41<br><br>",
          "Concept 96<br>extent (len: 1): 2258<br>intent (len: 3): duration__>=16.5m, contact__cellular, month__mar<br>new extent (len: 1): 2258<br>new intent (len: 0): emptyset<br>mean_y_true: 0.0<br>mean_y_pred: 1.0<br>Metrics<br>\taccuracy: 0.0<br>\tprecision: 0.0<br>\trecall: 0.0<br>\tneg_precision: 0.0<br>\tneg_recall: 0.0<br><br>",
          "Concept 89<br>extent (len: 9): 3210, 4089, 1047, 1173, 871, 4217, 2653, 2437, 1912<br>intent (len: 2): duration__>=16.5m, month__apr<br>new extent (len: 1): 1912<br>new intent (len: 0): emptyset<br>mean_y_true: 0.44<br>mean_y_pred: 0.67<br>Metrics<br>\taccuracy: 0.56<br>\tprecision: 0.5<br>\trecall: 0.75<br>\tneg_precision: 0.67<br>\tneg_recall: 0.4<br><br>",
          "Concept 95<br>extent (len: 3): 1557, 2629, 99<br>intent (len: 3): duration__>=16.5m, contact__cellular, month__feb<br>new extent (len: 3): 1557, 99, 2629<br>new intent (len: 0): emptyset<br>mean_y_true: 0.67<br>mean_y_pred: 0.67<br>Metrics<br>\taccuracy: 0.33<br>\tprecision: 0.5<br>\trecall: 0.5<br>\tneg_precision: 0.0<br>\tneg_recall: 0.0<br><br>",
          "Concept 98<br>extent (len: 3): 1437, 803, 4413<br>intent (len: 3): duration__>=16.5m, contact__cellular, month__oct<br>new extent (len: 3): 4413, 1437, 803<br>new intent (len: 0): emptyset<br>mean_y_true: 0.33<br>mean_y_pred: 1.0<br>Metrics<br>\taccuracy: 0.33<br>\tprecision: 0.33<br>\trecall: 1.0<br>\tneg_precision: 0.0<br>\tneg_recall: 0.0<br><br>",
          "Concept 94<br>extent (len: 1): 328<br>intent (len: 3): duration__>=16.5m, contact__cellular, month__dec<br>new extent (len: 1): 328<br>new intent (len: 0): emptyset<br>mean_y_true: 1.0<br>mean_y_pred: 1.0<br>Metrics<br>\taccuracy: 1.0<br>\tprecision: 1.0<br>\trecall: 1.0<br>\tneg_precision: 0.0<br>\tneg_recall: 0.0<br><br>",
          "Concept 82<br>extent (len: 14): 3615, 4237, 1485, 1161, 759, 3796, 2357, 2697, 896, 2649,...<br>intent (len: 3): duration__>=5.5m, contact__cellular, month__feb<br>new extent (len: 11): 3615, 2697, 1161, 2357, 1485, 3796, 759, 2649, 3538, 896,...<br>new intent (len: 0): emptyset<br>mean_y_true: 0.5<br>mean_y_pred: 0.21<br>Metrics<br>\taccuracy: 0.57<br>\tprecision: 0.67<br>\trecall: 0.29<br>\tneg_precision: 0.55<br>\tneg_recall: 0.86<br><br>",
          "Concept 91<br>extent (len: 4): 1557, 2629, 99, 465<br>intent (len: 2): duration__>=16.5m, month__feb<br>new extent (len: 1): 465<br>new intent (len: 0): emptyset<br>mean_y_true: 0.5<br>mean_y_pred: 0.5<br>Metrics<br>\taccuracy: 0.5<br>\tprecision: 0.5<br>\trecall: 0.5<br>\tneg_precision: 0.5<br>\tneg_recall: 0.5<br><br>",
          "Concept 92<br>extent (len: 32): 1876, 3740, 4196, 555, 3033, 3818, 4133, 2168, 3666, 2233,...<br>intent (len: 2): duration__>=16.5m, month__may<br>new extent (len: 0): emptyset<br>new intent (len: 0): emptyset<br>mean_y_true: 0.56<br>mean_y_pred: 0.25<br>Metrics<br>\taccuracy: 0.56<br>\tprecision: 0.75<br>\trecall: 0.33<br>\tneg_precision: 0.5<br>\tneg_recall: 0.86<br><br>",
          "Concept 90<br>extent (len: 2): 3889, 328<br>intent (len: 2): duration__>=16.5m, month__dec<br>new extent (len: 1): 3889<br>new intent (len: 0): emptyset<br>mean_y_true: 1.0<br>mean_y_pred: 1.0<br>Metrics<br>\taccuracy: 1.0<br>\tprecision: 1.0<br>\trecall: 1.0<br>\tneg_precision: 0.0<br>\tneg_recall: 0.0<br><br>",
          "Concept 97<br>extent (len: 12): 1876, 3740, 4196, 555, 3033, 3818, 4133, 2168, 3666, 2233,...<br>intent (len: 3): duration__>=16.5m, contact__cellular, month__may<br>new extent (len: 12): 3740, 1876, 354, 2233, 4232, 4133, 3818, 555, 2168, 3033,...<br>new intent (len: 0): emptyset<br>mean_y_true: 0.75<br>mean_y_pred: 0.5<br>Metrics<br>\taccuracy: 0.42<br>\tprecision: 0.67<br>\trecall: 0.44<br>\tneg_precision: 0.17<br>\tneg_recall: 0.33<br><br>",
          "Concept 11<br>extent (len: 45): 3615, 4237, 1485, 1161, 759, 3796, 2357, 2697, 896, 2649,...<br>intent (len: 2): contact__cellular, month__feb<br>new extent (len: 0): emptyset<br>new intent (len: 0): emptyset<br>mean_y_true: 0.24<br>mean_y_pred: 0.09<br>Metrics<br>\taccuracy: 0.8<br>\tprecision: 0.75<br>\trecall: 0.27<br>\tneg_precision: 0.8<br>\tneg_recall: 0.97<br><br>",
          "Concept 8<br>extent (len: 358): 3548, 3471, 3303, 1181, 1730, 1666, 869, 4208, 4169, 177,...<br>intent (len: 1): month__may<br>new extent (len: 0): emptyset<br>new intent (len: 1): month__may<br>mean_y_true: 0.09<br>mean_y_pred: 0.02<br>Metrics<br>\taccuracy: 0.92<br>\tprecision: 0.75<br>\trecall: 0.19<br>\tneg_precision: 0.93<br>\tneg_recall: 0.99<br><br>",
          "Concept 86<br>extent (len: 56): 4018, 937, 3964, 315, 4475, 1392, 1612, 2195, 2222, 4449,...<br>intent (len: 3): duration__>=5.5m, contact__unknown, month__may<br>new extent (len: 36): 4449, 308, 937, 2423, 1392, 4450, 1370, 196, 4419, 315,...<br>new intent (len: 0): emptyset<br>mean_y_true: 0.18<br>mean_y_pred: 0.04<br>Metrics<br>\taccuracy: 0.86<br>\tprecision: 1.0<br>\trecall: 0.2<br>\tneg_precision: 0.85<br>\tneg_recall: 1.0<br><br>",
          "Concept 85<br>extent (len: 2): 4215, 2963<br>intent (len: 3): duration__>=5.5m, contact__cellular, month__sep<br>new extent (len: 2): 4215, 2963<br>new intent (len: 0): emptyset<br>mean_y_true: 1.0<br>mean_y_pred: 0.5<br>Metrics<br>\taccuracy: 0.5<br>\tprecision: 1.0<br>\trecall: 0.5<br>\tneg_precision: 0.0<br>\tneg_recall: 0.0<br><br>",
          "Concept 84<br>extent (len: 5): 1672, 1186, 1437, 803, 4413<br>intent (len: 3): duration__>=5.5m, contact__cellular, month__oct<br>new extent (len: 2): 1672, 1186<br>new intent (len: 0): emptyset<br>mean_y_true: 0.4<br>mean_y_pred: 1.0<br>Metrics<br>\taccuracy: 0.4<br>\tprecision: 0.4<br>\trecall: 1.0<br>\tneg_precision: 0.0<br>\tneg_recall: 0.0<br><br>",
          "Concept 83<br>extent (len: 35): 4053, 1345, 3298, 4406, 3920, 721, 3312, 3674, 626, 318,...<br>intent (len: 3): duration__>=5.5m, contact__cellular, month__may<br>new extent (len: 23): 3312, 3298, 3674, 2005, 2765, 1767, 2924, 1330, 764, 3887,...<br>new intent (len: 0): emptyset<br>mean_y_true: 0.43<br>mean_y_pred: 0.17<br>Metrics<br>\taccuracy: 0.63<br>\tprecision: 0.67<br>\trecall: 0.27<br>\tneg_precision: 0.62<br>\tneg_recall: 0.9<br><br>",
          "Concept 93<br>extent (len: 8): 3210, 4089, 1047, 1173, 871, 4217, 2653, 2437<br>intent (len: 3): duration__>=16.5m, contact__cellular, month__apr<br>new extent (len: 8): 1047, 4089, 2437, 1173, 3210, 871, 2653, 4217<br>new intent (len: 0): emptyset<br>mean_y_true: 0.5<br>mean_y_pred: 0.62<br>Metrics<br>\taccuracy: 0.62<br>\tprecision: 0.6<br>\trecall: 0.75<br>\tneg_precision: 0.67<br>\tneg_recall: 0.5<br><br>",
          "Concept 0<br>extent (len: 1131): 2398, 2288, 4011, 3963, 1222, 2916, 1020, 497, 3825, 151,...<br>intent (len: 0): emptyset<br>new extent (len: 0): emptyset<br>new intent (len: 0): emptyset<br>mean_y_true: 0.11<br>mean_y_pred: 0.08<br>Metrics<br>\taccuracy: 0.91<br>\tprecision: 0.6<br>\trecall: 0.43<br>\tneg_precision: 0.93<br>\tneg_recall: 0.96<br><br>",
          "Concept 4<br>extent (len: 1006): 2398, 2288, 4011, 3963, 1222, 2916, 1020, 497, 3825, 151,...<br>intent (len: 1): duration__>=1m<br>new extent (len: 5): 1103, 2378, 1261, 3657, 599<br>new intent (len: 1): duration__>=1m<br>mean_y_true: 0.12<br>mean_y_pred: 0.09<br>Metrics<br>\taccuracy: 0.89<br>\tprecision: 0.6<br>\trecall: 0.44<br>\tneg_precision: 0.92<br>\tneg_recall: 0.96<br><br>"
         ],
         "marker": {
          "color": [
           0.0205761316872428,
           0.3333333333333333,
           0.6666666666666666,
           0.4,
           0.15042735042735042,
           0.42857142857142855,
           0.11666666666666667,
           0.1889763779527559,
           0.5,
           0.08108108108108109,
           0.5714285714285714,
           0,
           0.8,
           0.08928571428571429,
           0.0975609756097561,
           0.1111111111111111,
           0.1875,
           0.625,
           0.5,
           0.5,
           0.125,
           0.012578616352201259,
           0.02867383512544803,
           0.043010752688172046,
           0.6,
           0.011363636363636364,
           0.01834862385321101,
           0.7692307692307693,
           0.1295971978984238,
           0.631578947368421,
           0.14814814814814814,
           0.1590909090909091,
           0.05217391304347826,
           1,
           0.16666666666666666,
           0.03067484662576687,
           0.1076923076923077,
           0.375,
           0.017421602787456445,
           0,
           0,
           0,
           0.0851063829787234,
           0.11332312404287902,
           0,
           0.3333333333333333,
           0,
           0.02564102564102564,
           0.046511627906976744,
           0,
           0.5263157894736842,
           0.10321100917431193,
           0,
           0.09523809523809523,
           0,
           0.5454545454545454,
           0.24820143884892087,
           0.04081632653061224,
           0.01015228426395939,
           0,
           0,
           0.4,
           0.08196721311475409,
           0.0851063829787234,
           0.3333333333333333,
           0.5096153846153846,
           0.0625,
           0.21739130434782608,
           0.31666666666666665,
           0.24,
           0.014792899408284023,
           0,
           0.5217391304347826,
           0.3076923076923077,
           0.08,
           0.10393258426966293,
           0.16666666666666666,
           0.07246376811594203,
           "grey",
           0.1,
           0.09333333333333334,
           0.6363636363636364,
           1,
           0.6666666666666666,
           0.6666666666666666,
           1,
           1,
           0.21428571428571427,
           0.5,
           0.25,
           1,
           0.5,
           0.08888888888888889,
           0.0223463687150838,
           0.03571428571428571,
           0.5,
           1,
           0.17142857142857143,
           0.625,
           0.07957559681697612,
           0.08946322067594434
          ],
          "colorbar": {
           "thickness": 15,
           "title": {
            "side": "right",
            "text": "Mean Prediction"
           },
           "xanchor": "left"
          },
          "colorscale": [
           [
            0,
            "rgb(103,0,31)"
           ],
           [
            0.1,
            "rgb(178,24,43)"
           ],
           [
            0.2,
            "rgb(214,96,77)"
           ],
           [
            0.3,
            "rgb(244,165,130)"
           ],
           [
            0.4,
            "rgb(253,219,199)"
           ],
           [
            0.5,
            "rgb(247,247,247)"
           ],
           [
            0.6,
            "rgb(209,229,240)"
           ],
           [
            0.7,
            "rgb(146,197,222)"
           ],
           [
            0.8,
            "rgb(67,147,195)"
           ],
           [
            0.9,
            "rgb(33,102,172)"
           ],
           [
            1,
            "rgb(5,48,97)"
           ]
          ],
          "line": {
           "width": 2
          },
          "reversescale": true,
          "showscale": true,
          "size": 10
         },
         "mode": "markers+text",
         "text": [
          "<br>n: 29",
          "<br>2848",
          "<br>4141,3013,657",
          "month__dec<br>",
          "duration__>=3m<br>n: 17",
          "<br>",
          "<br>",
          "<br>n: 121",
          "<br>229",
          "<br>n: 39",
          "<br>3877",
          "<br>2042",
          "<br>2750,2821",
          "<br>n: 16",
          "<br>3850,56",
          "<br>n: 12",
          "<br>2499",
          "<br>1158,3527,3425",
          "<br>2932",
          "<br>2908",
          "<br>n: 17",
          "<br>n: 50",
          "<br>676,999",
          "<br>",
          "<br>2266,680,1904",
          "<br>n: 17",
          "<br>n: 53",
          "<br>n: 8",
          "<br>n: 113",
          "<br>1196",
          "<br>4439",
          "<br>969,199",
          "<br>n: 41",
          "<br>3256,2018",
          "<br>n: 10",
          "<br>n: 30",
          "<br>",
          "<br>2918,3541",
          "<br>n: 27",
          "<br>3464,4273,4464",
          "<br>1106",
          "<br>n: 8",
          "<br>",
          "<br>n: 48",
          "<br>1675",
          "month__sep<br>",
          "<br>n: 18",
          "<br>2531,2401",
          "<br>n: 14",
          "<br>3166,3408",
          "<br>903,2451,2417",
          "duration__>=1.5m<br>n: 11",
          "<br>n: 28",
          "<br>n: 6",
          "<br>n: 7",
          "<br>",
          "duration__>=5.5m<br>n: 5",
          "<br>",
          "<br>",
          "<br>n: 30",
          "<br>n: 21",
          "<br>3292,1344,4293,1479",
          "<br>n: 5",
          "<br>1119,3483,2066",
          "<br>166",
          "duration__>=16.5m<br>n: 5",
          "<br>n: 14",
          "<br>n: 15",
          "<br>n: 61",
          "<br>881",
          "contact__unknown<br>",
          "duration__<1m<br>n: 6",
          "month__oct<br>",
          "month__mar<br>",
          "month__feb<br>",
          "contact__cellular<br>",
          "<br>n: 10",
          "<br>",
          "<br>",
          "<br>n: 20",
          "month__apr<br>",
          "<br>n: 38",
          "<br>2258",
          "<br>1912",
          "<br>1557,99,2629",
          "<br>4413,1437,803",
          "<br>328",
          "<br>n: 11",
          "<br>465",
          "<br>",
          "<br>3889",
          "<br>n: 12",
          "<br>",
          "month__may<br>",
          "<br>n: 36",
          "<br>4215,2963",
          "<br>1672,1186",
          "<br>n: 23",
          "<br>n: 8",
          "<br>",
          "duration__>=1m<br>n: 5"
         ],
         "textposition": "middle right",
         "type": "scatter",
         "x": [
          -4,
          3,
          7,
          7,
          4,
          8,
          2,
          1,
          4,
          -4.5,
          10,
          -8,
          8,
          -3,
          1,
          -2,
          -0.5,
          6,
          2.5,
          5,
          -2.5,
          -7,
          -3,
          -5,
          4.5,
          -5,
          -6.5,
          5.5,
          3,
          11,
          -1,
          0,
          -4,
          6.5,
          -1.5,
          -6,
          4,
          5,
          -3,
          -10,
          -6,
          -11,
          1,
          5,
          -8,
          7,
          -9,
          -2,
          -2,
          -6,
          9,
          3,
          -7,
          0,
          -5,
          8,
          2,
          -1,
          -4,
          -8,
          -7,
          6,
          -1,
          -3.5,
          6,
          3.5,
          -5.5,
          -1.5,
          1.5,
          0.5,
          -3,
          -4,
          4,
          3,
          -1,
          2,
          -4.5,
          0,
          0,
          -3,
          1,
          2.5,
          2,
          3.5,
          0,
          3,
          1,
          -2.5,
          1.5,
          -0.5,
          5.5,
          -2,
          2,
          -2,
          -5.5,
          0.5,
          4.5,
          -3.5,
          -1,
          0,
          0
         ],
         "y": [
          6,
          5,
          5,
          6,
          6,
          6,
          6,
          5,
          5,
          4,
          6,
          5,
          5,
          5,
          6,
          5,
          4,
          5,
          4,
          5,
          4,
          5,
          6,
          5,
          4,
          6,
          4,
          4,
          6,
          6,
          5,
          5,
          5,
          4,
          4,
          5,
          7,
          6,
          7,
          6,
          6,
          6,
          7,
          7,
          6,
          7,
          6,
          7,
          6,
          7,
          6,
          7,
          7,
          6,
          7,
          7,
          5,
          7,
          7,
          7,
          6,
          6,
          6,
          4,
          7,
          4,
          4,
          3,
          4,
          4,
          8,
          8,
          8,
          8,
          8,
          8,
          3,
          7,
          1,
          2,
          8,
          3,
          2,
          3,
          2,
          2,
          2,
          3,
          3,
          3,
          3,
          2,
          7,
          8,
          3,
          3,
          3,
          3,
          2,
          9,
          8
         ]
        }
       ],
       "layout": {
        "height": 500,
        "hovermode": "closest",
        "margin": {
         "b": 20,
         "l": 5,
         "r": 5,
         "t": 40
        },
        "showlegend": false,
        "template": {
         "data": {
          "bar": [
           {
            "error_x": {
             "color": "#2a3f5f"
            },
            "error_y": {
             "color": "#2a3f5f"
            },
            "marker": {
             "line": {
              "color": "#E5ECF6",
              "width": 0.5
             }
            },
            "type": "bar"
           }
          ],
          "barpolar": [
           {
            "marker": {
             "line": {
              "color": "#E5ECF6",
              "width": 0.5
             }
            },
            "type": "barpolar"
           }
          ],
          "carpet": [
           {
            "aaxis": {
             "endlinecolor": "#2a3f5f",
             "gridcolor": "white",
             "linecolor": "white",
             "minorgridcolor": "white",
             "startlinecolor": "#2a3f5f"
            },
            "baxis": {
             "endlinecolor": "#2a3f5f",
             "gridcolor": "white",
             "linecolor": "white",
             "minorgridcolor": "white",
             "startlinecolor": "#2a3f5f"
            },
            "type": "carpet"
           }
          ],
          "choropleth": [
           {
            "colorbar": {
             "outlinewidth": 0,
             "ticks": ""
            },
            "type": "choropleth"
           }
          ],
          "contour": [
           {
            "colorbar": {
             "outlinewidth": 0,
             "ticks": ""
            },
            "colorscale": [
             [
              0,
              "#0d0887"
             ],
             [
              0.1111111111111111,
              "#46039f"
             ],
             [
              0.2222222222222222,
              "#7201a8"
             ],
             [
              0.3333333333333333,
              "#9c179e"
             ],
             [
              0.4444444444444444,
              "#bd3786"
             ],
             [
              0.5555555555555556,
              "#d8576b"
             ],
             [
              0.6666666666666666,
              "#ed7953"
             ],
             [
              0.7777777777777778,
              "#fb9f3a"
             ],
             [
              0.8888888888888888,
              "#fdca26"
             ],
             [
              1,
              "#f0f921"
             ]
            ],
            "type": "contour"
           }
          ],
          "contourcarpet": [
           {
            "colorbar": {
             "outlinewidth": 0,
             "ticks": ""
            },
            "type": "contourcarpet"
           }
          ],
          "heatmap": [
           {
            "colorbar": {
             "outlinewidth": 0,
             "ticks": ""
            },
            "colorscale": [
             [
              0,
              "#0d0887"
             ],
             [
              0.1111111111111111,
              "#46039f"
             ],
             [
              0.2222222222222222,
              "#7201a8"
             ],
             [
              0.3333333333333333,
              "#9c179e"
             ],
             [
              0.4444444444444444,
              "#bd3786"
             ],
             [
              0.5555555555555556,
              "#d8576b"
             ],
             [
              0.6666666666666666,
              "#ed7953"
             ],
             [
              0.7777777777777778,
              "#fb9f3a"
             ],
             [
              0.8888888888888888,
              "#fdca26"
             ],
             [
              1,
              "#f0f921"
             ]
            ],
            "type": "heatmap"
           }
          ],
          "heatmapgl": [
           {
            "colorbar": {
             "outlinewidth": 0,
             "ticks": ""
            },
            "colorscale": [
             [
              0,
              "#0d0887"
             ],
             [
              0.1111111111111111,
              "#46039f"
             ],
             [
              0.2222222222222222,
              "#7201a8"
             ],
             [
              0.3333333333333333,
              "#9c179e"
             ],
             [
              0.4444444444444444,
              "#bd3786"
             ],
             [
              0.5555555555555556,
              "#d8576b"
             ],
             [
              0.6666666666666666,
              "#ed7953"
             ],
             [
              0.7777777777777778,
              "#fb9f3a"
             ],
             [
              0.8888888888888888,
              "#fdca26"
             ],
             [
              1,
              "#f0f921"
             ]
            ],
            "type": "heatmapgl"
           }
          ],
          "histogram": [
           {
            "marker": {
             "colorbar": {
              "outlinewidth": 0,
              "ticks": ""
             }
            },
            "type": "histogram"
           }
          ],
          "histogram2d": [
           {
            "colorbar": {
             "outlinewidth": 0,
             "ticks": ""
            },
            "colorscale": [
             [
              0,
              "#0d0887"
             ],
             [
              0.1111111111111111,
              "#46039f"
             ],
             [
              0.2222222222222222,
              "#7201a8"
             ],
             [
              0.3333333333333333,
              "#9c179e"
             ],
             [
              0.4444444444444444,
              "#bd3786"
             ],
             [
              0.5555555555555556,
              "#d8576b"
             ],
             [
              0.6666666666666666,
              "#ed7953"
             ],
             [
              0.7777777777777778,
              "#fb9f3a"
             ],
             [
              0.8888888888888888,
              "#fdca26"
             ],
             [
              1,
              "#f0f921"
             ]
            ],
            "type": "histogram2d"
           }
          ],
          "histogram2dcontour": [
           {
            "colorbar": {
             "outlinewidth": 0,
             "ticks": ""
            },
            "colorscale": [
             [
              0,
              "#0d0887"
             ],
             [
              0.1111111111111111,
              "#46039f"
             ],
             [
              0.2222222222222222,
              "#7201a8"
             ],
             [
              0.3333333333333333,
              "#9c179e"
             ],
             [
              0.4444444444444444,
              "#bd3786"
             ],
             [
              0.5555555555555556,
              "#d8576b"
             ],
             [
              0.6666666666666666,
              "#ed7953"
             ],
             [
              0.7777777777777778,
              "#fb9f3a"
             ],
             [
              0.8888888888888888,
              "#fdca26"
             ],
             [
              1,
              "#f0f921"
             ]
            ],
            "type": "histogram2dcontour"
           }
          ],
          "mesh3d": [
           {
            "colorbar": {
             "outlinewidth": 0,
             "ticks": ""
            },
            "type": "mesh3d"
           }
          ],
          "parcoords": [
           {
            "line": {
             "colorbar": {
              "outlinewidth": 0,
              "ticks": ""
             }
            },
            "type": "parcoords"
           }
          ],
          "pie": [
           {
            "automargin": true,
            "type": "pie"
           }
          ],
          "scatter": [
           {
            "marker": {
             "colorbar": {
              "outlinewidth": 0,
              "ticks": ""
             }
            },
            "type": "scatter"
           }
          ],
          "scatter3d": [
           {
            "line": {
             "colorbar": {
              "outlinewidth": 0,
              "ticks": ""
             }
            },
            "marker": {
             "colorbar": {
              "outlinewidth": 0,
              "ticks": ""
             }
            },
            "type": "scatter3d"
           }
          ],
          "scattercarpet": [
           {
            "marker": {
             "colorbar": {
              "outlinewidth": 0,
              "ticks": ""
             }
            },
            "type": "scattercarpet"
           }
          ],
          "scattergeo": [
           {
            "marker": {
             "colorbar": {
              "outlinewidth": 0,
              "ticks": ""
             }
            },
            "type": "scattergeo"
           }
          ],
          "scattergl": [
           {
            "marker": {
             "colorbar": {
              "outlinewidth": 0,
              "ticks": ""
             }
            },
            "type": "scattergl"
           }
          ],
          "scattermapbox": [
           {
            "marker": {
             "colorbar": {
              "outlinewidth": 0,
              "ticks": ""
             }
            },
            "type": "scattermapbox"
           }
          ],
          "scatterpolar": [
           {
            "marker": {
             "colorbar": {
              "outlinewidth": 0,
              "ticks": ""
             }
            },
            "type": "scatterpolar"
           }
          ],
          "scatterpolargl": [
           {
            "marker": {
             "colorbar": {
              "outlinewidth": 0,
              "ticks": ""
             }
            },
            "type": "scatterpolargl"
           }
          ],
          "scatterternary": [
           {
            "marker": {
             "colorbar": {
              "outlinewidth": 0,
              "ticks": ""
             }
            },
            "type": "scatterternary"
           }
          ],
          "surface": [
           {
            "colorbar": {
             "outlinewidth": 0,
             "ticks": ""
            },
            "colorscale": [
             [
              0,
              "#0d0887"
             ],
             [
              0.1111111111111111,
              "#46039f"
             ],
             [
              0.2222222222222222,
              "#7201a8"
             ],
             [
              0.3333333333333333,
              "#9c179e"
             ],
             [
              0.4444444444444444,
              "#bd3786"
             ],
             [
              0.5555555555555556,
              "#d8576b"
             ],
             [
              0.6666666666666666,
              "#ed7953"
             ],
             [
              0.7777777777777778,
              "#fb9f3a"
             ],
             [
              0.8888888888888888,
              "#fdca26"
             ],
             [
              1,
              "#f0f921"
             ]
            ],
            "type": "surface"
           }
          ],
          "table": [
           {
            "cells": {
             "fill": {
              "color": "#EBF0F8"
             },
             "line": {
              "color": "white"
             }
            },
            "header": {
             "fill": {
              "color": "#C8D4E3"
             },
             "line": {
              "color": "white"
             }
            },
            "type": "table"
           }
          ]
         },
         "layout": {
          "annotationdefaults": {
           "arrowcolor": "#2a3f5f",
           "arrowhead": 0,
           "arrowwidth": 1
          },
          "coloraxis": {
           "colorbar": {
            "outlinewidth": 0,
            "ticks": ""
           }
          },
          "colorscale": {
           "diverging": [
            [
             0,
             "#8e0152"
            ],
            [
             0.1,
             "#c51b7d"
            ],
            [
             0.2,
             "#de77ae"
            ],
            [
             0.3,
             "#f1b6da"
            ],
            [
             0.4,
             "#fde0ef"
            ],
            [
             0.5,
             "#f7f7f7"
            ],
            [
             0.6,
             "#e6f5d0"
            ],
            [
             0.7,
             "#b8e186"
            ],
            [
             0.8,
             "#7fbc41"
            ],
            [
             0.9,
             "#4d9221"
            ],
            [
             1,
             "#276419"
            ]
           ],
           "sequential": [
            [
             0,
             "#0d0887"
            ],
            [
             0.1111111111111111,
             "#46039f"
            ],
            [
             0.2222222222222222,
             "#7201a8"
            ],
            [
             0.3333333333333333,
             "#9c179e"
            ],
            [
             0.4444444444444444,
             "#bd3786"
            ],
            [
             0.5555555555555556,
             "#d8576b"
            ],
            [
             0.6666666666666666,
             "#ed7953"
            ],
            [
             0.7777777777777778,
             "#fb9f3a"
            ],
            [
             0.8888888888888888,
             "#fdca26"
            ],
            [
             1,
             "#f0f921"
            ]
           ],
           "sequentialminus": [
            [
             0,
             "#0d0887"
            ],
            [
             0.1111111111111111,
             "#46039f"
            ],
            [
             0.2222222222222222,
             "#7201a8"
            ],
            [
             0.3333333333333333,
             "#9c179e"
            ],
            [
             0.4444444444444444,
             "#bd3786"
            ],
            [
             0.5555555555555556,
             "#d8576b"
            ],
            [
             0.6666666666666666,
             "#ed7953"
            ],
            [
             0.7777777777777778,
             "#fb9f3a"
            ],
            [
             0.8888888888888888,
             "#fdca26"
            ],
            [
             1,
             "#f0f921"
            ]
           ]
          },
          "colorway": [
           "#636efa",
           "#EF553B",
           "#00cc96",
           "#ab63fa",
           "#FFA15A",
           "#19d3f3",
           "#FF6692",
           "#B6E880",
           "#FF97FF",
           "#FECB52"
          ],
          "font": {
           "color": "#2a3f5f"
          },
          "geo": {
           "bgcolor": "white",
           "lakecolor": "white",
           "landcolor": "#E5ECF6",
           "showlakes": true,
           "showland": true,
           "subunitcolor": "white"
          },
          "hoverlabel": {
           "align": "left"
          },
          "hovermode": "closest",
          "mapbox": {
           "style": "light"
          },
          "paper_bgcolor": "white",
          "plot_bgcolor": "#E5ECF6",
          "polar": {
           "angularaxis": {
            "gridcolor": "white",
            "linecolor": "white",
            "ticks": ""
           },
           "bgcolor": "#E5ECF6",
           "radialaxis": {
            "gridcolor": "white",
            "linecolor": "white",
            "ticks": ""
           }
          },
          "scene": {
           "xaxis": {
            "backgroundcolor": "#E5ECF6",
            "gridcolor": "white",
            "gridwidth": 2,
            "linecolor": "white",
            "showbackground": true,
            "ticks": "",
            "zerolinecolor": "white"
           },
           "yaxis": {
            "backgroundcolor": "#E5ECF6",
            "gridcolor": "white",
            "gridwidth": 2,
            "linecolor": "white",
            "showbackground": true,
            "ticks": "",
            "zerolinecolor": "white"
           },
           "zaxis": {
            "backgroundcolor": "#E5ECF6",
            "gridcolor": "white",
            "gridwidth": 2,
            "linecolor": "white",
            "showbackground": true,
            "ticks": "",
            "zerolinecolor": "white"
           }
          },
          "shapedefaults": {
           "line": {
            "color": "#2a3f5f"
           }
          },
          "ternary": {
           "aaxis": {
            "gridcolor": "white",
            "linecolor": "white",
            "ticks": ""
           },
           "baxis": {
            "gridcolor": "white",
            "linecolor": "white",
            "ticks": ""
           },
           "bgcolor": "#E5ECF6",
           "caxis": {
            "gridcolor": "white",
            "linecolor": "white",
            "ticks": ""
           }
          },
          "title": {
           "x": 0.05
          },
          "xaxis": {
           "automargin": true,
           "gridcolor": "white",
           "linecolor": "white",
           "ticks": "",
           "title": {
            "standoff": 15
           },
           "zerolinecolor": "white",
           "zerolinewidth": 2
          },
          "yaxis": {
           "automargin": true,
           "gridcolor": "white",
           "linecolor": "white",
           "ticks": "",
           "title": {
            "standoff": 15
           },
           "zerolinecolor": "white",
           "zerolinewidth": 2
          }
         }
        },
        "title": {
         "font": {
          "size": 16
         },
         "text": "Bank Dataset Concept Lattice"
        },
        "width": 1000,
        "xaxis": {
         "showgrid": false,
         "showticklabels": false,
         "zeroline": false
        },
        "yaxis": {
         "showgrid": false,
         "showticklabels": false,
         "zeroline": false
        }
       }
      },
      "text/html": [
       "<div>\n",
       "        \n",
       "        \n",
       "            <div id=\"40a8c48b-1ea9-4385-9d5f-1b0af47654ae\" class=\"plotly-graph-div\" style=\"height:500px; width:1000px;\"></div>\n",
       "            <script type=\"text/javascript\">\n",
       "                require([\"plotly\"], function(Plotly) {\n",
       "                    window.PLOTLYENV=window.PLOTLYENV || {};\n",
       "                    \n",
       "                if (document.getElementById(\"40a8c48b-1ea9-4385-9d5f-1b0af47654ae\")) {\n",
       "                    Plotly.newPlot(\n",
       "                        '40a8c48b-1ea9-4385-9d5f-1b0af47654ae',\n",
       "                        [{\"hoverinfo\": \"none\", \"line\": {\"color\": \"#888\", \"width\": 0.5}, \"mode\": \"lines\", \"type\": \"scatter\", \"x\": [-4.0, -7.0, null, -4.0, -8.0, null, -4.0, -6.0, null, -4.0, -3.0, null, -4.0, 3.0, null, 3.0, 2.5, null, 3.0, 7.0, null, 3.0, 3.0, null, 7.0, 6.5, null, 7.0, 10.0, null, 7.0, 3.0, null, 7.0, 6.0, null, 7.0, 5.0, null, 7.0, 3.0, null, 4.0, -1.0, null, 4.0, -5.0, null, 4.0, 8.0, null, 4.0, 1.0, null, 4.0, -6.0, null, 4.0, 2.0, null, 4.0, 0.0, null, 4.0, 5.0, null, 4.0, 3.0, null, 8.0, 4.0, null, 8.0, -8.0, null, 8.0, 7.0, null, 8.0, 3.0, null, 2.0, -3.0, null, 2.0, 0.0, null, 2.0, 4.0, null, 2.0, 3.0, null, 1.0, -2.5, null, 1.0, 2.5, null, 1.0, -1.5, null, 1.0, 6.5, null, 1.0, -4.5, null, 1.0, 5.5, null, 1.0, 4.5, null, 1.0, 1.5, null, 1.0, 3.0, null, 4.0, 4.5, null, 4.0, 3.0, null, 4.0, 5.0, null, -4.5, -3.5, null, -4.5, -5.0, null, -4.5, -4.0, null, 10.0, 3.0, null, 10.0, 6.0, null, -8.0, 0.0, null, 8.0, 5.5, null, 8.0, 11.0, null, -3.0, -2.5, null, -3.0, 3.0, null, -3.0, -1.0, null, 1.0, -1.0, null, 1.0, -2.0, null, 1.0, 1.0, null, 1.0, 3.0, null, -2.0, -1.5, null, -2.0, 3.0, null, -2.0, 0.0, null, -0.5, -2.5, null, -0.5, 1.5, null, -0.5, -1.0, null, -0.5, 2.0, null, 6.0, 5.5, null, 6.0, 3.0, null, 6.0, 11.0, null, 6.0, 9.0, null, 2.5, 1.0, null, 2.5, 5.0, null, 5.0, 5.5, null, -2.5, -1.5, null, -2.5, 0.0, null, -7.0, -6.5, null, -7.0, -3.0, null, -7.0, -5.0, null, -3.0, -5.0, null, -3.0, -4.0, null, -3.0, -2.0, null, -3.0, 3.0, null, -5.0, -3.5, null, -5.0, -6.5, null, 4.5, 0.5, null, -5.0, -3.0, null, -5.0, -2.0, null, -5.0, -4.0, null, -6.5, -5.5, null, -6.5, -6.0, null, 5.5, 4.5, null, 3.0, -4.0, null, 3.0, 5.0, null, 3.0, 3.0, null, 11.0, 3.0, null, 11.0, 8.0, null, -1.0, -1.5, null, 0.0, 0.5, null, -4.0, -2.0, null, 6.5, 2.0, null, -1.5, -2.5, null, -6.0, -5.5, null, 4.0, -1.0, null, 4.0, 1.0, null, 4.0, 0.0, null, 5.0, 5.0, null, 5.0, 7.0, null, -3.0, -3.0, null, -3.0, 0.0, null, -10.0, 0.0, null, -10.0, -8.0, null, -10.0, 2.0, null, -6.0, 0.0, null, -6.0, -7.0, null, -6.0, 4.0, null, -11.0, 0.0, null, -11.0, -6.0, null, -11.0, -8.0, null, -11.0, 0.0, null, 1.0, 0.0, null, 1.0, -1.0, null, 1.0, 0.0, null, 5.0, -1.0, null, 5.0, 0.0, null, 5.0, 6.0, null, 5.0, -2.0, null, 5.0, 9.0, null, 5.0, 2.0, null, 5.0, 0.0, null, -8.0, 0.0, null, -8.0, -7.0, null, -8.0, 3.0, null, 7.0, 0.0, null, -9.0, 0.0, null, -9.0, -5.0, null, -9.0, -1.0, null, -9.0, -8.0, null, -2.0, -2.0, null, -2.0, -2.0, null, -2.0, 0.0, null, -2.0, -1.0, null, -6.0, -4.0, null, -6.0, 1.0, null, 9.0, 8.0, null, 3.0, 0.0, null, -7.0, -7.0, null, -7.0, -3.0, null, -7.0, -4.0, null, 0.0, 2.0, null, -5.0, -7.0, null, -5.0, -4.0, null, -5.0, -2.0, null, 8.0, 4.0, null, 8.0, 0.0, null, 2.0, 1.5, null, 2.0, -5.5, null, 2.0, 3.5, null, 2.0, 0.5, null, 2.0, -3.5, null, -1.0, 2.0, null, -1.0, -2.0, null, -4.0, -7.0, null, -4.0, -3.0, null, -4.0, -2.0, null, -8.0, -4.0, null, -8.0, 2.0, null, -7.0, 0.0, null, 6.0, 6.0, null, -1.0, 0.0, null, -3.5, -3.5, null, -3.5, -0.5, null, -3.5, -5.5, null, 6.0, 3.0, null, 6.0, 0.0, null, 3.5, 2.5, null, 3.5, -4.5, null, 3.5, 3.5, null, 3.5, 5.5, null, 3.5, 1.5, null, 3.5, -0.5, null, -5.5, -4.5, null, -5.5, -5.5, null, -1.5, -1.0, null, -1.5, 1.5, null, -1.5, 0.5, null, 1.5, -2.5, null, 1.5, -3.5, null, 1.5, 4.5, null, 1.5, 0.5, null, 1.5, 2.5, null, 0.5, 3.5, null, -3.0, 0.0, null, -4.0, 0.0, null, 4.0, 0.0, null, 3.0, 0.0, null, -1.0, 2.0, null, -1.0, 0.0, null, 2.0, 0.0, null, 2.0, 2.0, null, 2.0, 0.0, null, -4.5, -3.0, null, 0.0, 1.0, null, 0.0, -3.0, null, 0.0, 2.0, null, 0.0, 0.0, null, 0.0, 3.0, null, 0.0, 1.0, null, 0.0, -2.0, null, 0.0, 0.5, null, 0.0, -1.0, null, -3.0, -0.5, null, -3.0, -5.5, null, 1.0, 0.0, null, 2.5, 2.0, null, 2.5, -2.0, null, 2.5, 3.0, null, 2.5, -1.0, null, 2.5, 1.0, null, 2.5, 0.0, null, 3.5, -1.0, null, 0.0, -2.5, null, 0.0, 1.5, null, 3.0, 4.5, null, 1.0, 5.5, null, -0.5, -2.0, null, -2.0, -3.5, null, -2.0, 0.0, null, 0.0, 0.0, null], \"y\": [6, 5, null, 6, 5, null, 6, 5, null, 6, 7, null, 6, 7, null, 5, 4, null, 5, 6, null, 5, 6, null, 5, 4, null, 5, 6, null, 5, 6, null, 5, 6, null, 6, 5, null, 6, 7, null, 6, 5, null, 6, 5, null, 6, 5, null, 6, 5, null, 6, 5, null, 6, 5, null, 6, 5, null, 6, 5, null, 6, 7, null, 6, 5, null, 6, 5, null, 6, 7, null, 6, 7, null, 6, 5, null, 6, 5, null, 6, 7, null, 6, 7, null, 5, 4, null, 5, 4, null, 5, 4, null, 5, 4, null, 5, 4, null, 5, 4, null, 5, 4, null, 5, 4, null, 5, 6, null, 5, 4, null, 5, 6, null, 5, 6, null, 4, 3, null, 4, 5, null, 4, 5, null, 6, 7, null, 6, 7, null, 5, 1, null, 5, 4, null, 5, 6, null, 5, 4, null, 5, 6, null, 5, 6, null, 6, 5, null, 6, 5, null, 6, 7, null, 6, 7, null, 5, 4, null, 5, 6, null, 5, 6, null, 4, 3, null, 4, 3, null, 4, 5, null, 4, 5, null, 5, 4, null, 5, 6, null, 5, 6, null, 5, 6, null, 4, 2, null, 4, 5, null, 5, 3, null, 4, 3, null, 4, 5, null, 5, 4, null, 5, 6, null, 5, 6, null, 6, 5, null, 6, 5, null, 6, 7, null, 6, 7, null, 5, 4, null, 5, 4, null, 4, 3, null, 6, 7, null, 6, 7, null, 6, 7, null, 4, 3, null, 4, 5, null, 4, 3, null, 6, 5, null, 6, 7, null, 6, 7, null, 6, 7, null, 6, 7, null, 5, 4, null, 5, 4, null, 5, 6, null, 4, 2, null, 4, 3, null, 5, 4, null, 7, 6, null, 7, 8, null, 7, 8, null, 6, 7, null, 6, 7, null, 7, 8, null, 7, 8, null, 6, 1, null, 6, 7, null, 6, 7, null, 6, 1, null, 6, 7, null, 6, 8, null, 6, 1, null, 6, 7, null, 6, 7, null, 6, 7, null, 7, 6, null, 7, 8, null, 7, 8, null, 7, 6, null, 7, 6, null, 7, 6, null, 7, 6, null, 7, 6, null, 7, 8, null, 7, 8, null, 6, 1, null, 6, 7, null, 6, 8, null, 7, 8, null, 6, 1, null, 6, 7, null, 6, 7, null, 6, 7, null, 7, 6, null, 7, 8, null, 7, 8, null, 6, 7, null, 7, 8, null, 7, 8, null, 6, 7, null, 7, 8, null, 7, 6, null, 7, 8, null, 7, 8, null, 6, 7, null, 7, 6, null, 7, 8, null, 7, 8, null, 7, 8, null, 7, 8, null, 5, 4, null, 5, 4, null, 5, 4, null, 5, 4, null, 5, 4, null, 7, 8, null, 7, 8, null, 7, 6, null, 7, 8, null, 7, 8, null, 7, 8, null, 7, 8, null, 6, 1, null, 6, 7, null, 6, 7, null, 4, 3, null, 4, 3, null, 4, 3, null, 7, 8, null, 7, 8, null, 4, 3, null, 4, 3, null, 4, 3, null, 4, 3, null, 4, 3, null, 4, 3, null, 4, 3, null, 4, 3, null, 3, 2, null, 3, 4, null, 3, 4, null, 4, 3, null, 4, 3, null, 4, 3, null, 4, 3, null, 4, 3, null, 4, 3, null, 8, 9, null, 8, 9, null, 8, 9, null, 8, 9, null, 8, 7, null, 8, 9, null, 8, 7, null, 8, 7, null, 8, 9, null, 3, 2, null, 7, 8, null, 1, 2, null, 1, 2, null, 1, 2, null, 1, 2, null, 1, 2, null, 1, 2, null, 1, 3, null, 1, 2, null, 2, 3, null, 2, 3, null, 8, 9, null, 3, 2, null, 3, 2, null, 3, 2, null, 3, 2, null, 3, 2, null, 3, 2, null, 3, 2, null, 2, 3, null, 2, 3, null, 2, 3, null, 2, 3, null, 3, 2, null, 2, 3, null, 8, 9, null, 9, 8, null]}, {\"hoverinfo\": \"text\", \"hovertext\": [\"Concept 41<br>extent (len: 243): 2344, 2792, 1829, 3116, 1747, 3402, 4248, 1652, 1429, 3364,...<br>intent (len: 2): duration__>=1.5m, contact__unknown<br>new extent (len: 29): 1375, 184, 73, 817, 907, 3189, 4377, 2303, 4104, 3296,...<br>new intent (len: 0): emptyset<br>mean_y_true: 0.06<br>mean_y_pred: 0.02<br>Metrics<br>\\taccuracy: 0.95<br>\\tprecision: 0.8<br>\\trecall: 0.29<br>\\tneg_precision: 0.96<br>\\tneg_recall: 1.0<br><br>\", \"Concept 51<br>extent (len: 3): 2932, 328, 2848<br>intent (len: 3): duration__>=1.5m, contact__cellular, month__dec<br>new extent (len: 1): 2848<br>new intent (len: 0): emptyset<br>mean_y_true: 0.33<br>mean_y_pred: 0.33<br>Metrics<br>\\taccuracy: 1.0<br>\\tprecision: 1.0<br>\\trecall: 1.0<br>\\tneg_precision: 1.0<br>\\tneg_recall: 1.0<br><br>\", \"Concept 53<br>extent (len: 6): 4141, 3013, 657, 2258, 3256, 2018<br>intent (len: 3): duration__>=1.5m, contact__cellular, month__mar<br>new extent (len: 3): 4141, 3013, 657<br>new intent (len: 0): emptyset<br>mean_y_true: 0.33<br>mean_y_pred: 0.67<br>Metrics<br>\\taccuracy: 0.33<br>\\tprecision: 0.25<br>\\trecall: 0.5<br>\\tneg_precision: 0.5<br>\\tneg_recall: 0.25<br><br>\", \"Concept 44<br>extent (len: 5): 3889, 2932, 328, 2908, 2848<br>intent (len: 2): duration__>=1.5m, month__dec<br>new extent (len: 0): emptyset<br>new intent (len: 1): month__dec<br>mean_y_true: 0.4<br>mean_y_pred: 0.4<br>Metrics<br>\\taccuracy: 1.0<br>\\tprecision: 1.0<br>\\trecall: 1.0<br>\\tneg_precision: 1.0<br>\\tneg_recall: 1.0<br><br>\", \"Concept 42<br>extent (len: 585): 800, 3819, 1918, 3855, 2078, 468, 1552, 3036, 296, 109,...<br>intent (len: 1): duration__>=3m<br>new extent (len: 17): 1056, 443, 2763, 2402, 3128, 3491, 1041, 3218, 3631, 751,...<br>new intent (len: 1): duration__>=3m<br>mean_y_true: 0.19<br>mean_y_pred: 0.15<br>Metrics<br>\\taccuracy: 0.84<br>\\tprecision: 0.6<br>\\trecall: 0.47<br>\\tneg_precision: 0.88<br>\\tneg_recall: 0.93<br><br>\", \"Concept 49<br>extent (len: 7): 2266, 680, 1904, 4215, 2963, 2042, 229<br>intent (len: 2): duration__>=1.5m, month__sep<br>new extent (len: 0): emptyset<br>new intent (len: 0): emptyset<br>mean_y_true: 0.43<br>mean_y_pred: 0.43<br>Metrics<br>\\taccuracy: 0.71<br>\\tprecision: 0.67<br>\\trecall: 0.67<br>\\tneg_precision: 0.75<br>\\tneg_recall: 0.75<br><br>\", \"Concept 43<br>extent (len: 60): 1115, 1610, 4211, 4076, 366, 367, 551, 2584, 1650, 227,...<br>intent (len: 2): duration__>=1.5m, month__apr<br>new extent (len: 0): emptyset<br>new intent (len: 0): emptyset<br>mean_y_true: 0.15<br>mean_y_pred: 0.12<br>Metrics<br>\\taccuracy: 0.87<br>\\tprecision: 0.57<br>\\trecall: 0.44<br>\\tneg_precision: 0.91<br>\\tneg_recall: 0.94<br><br>\", \"Concept 59<br>extent (len: 381): 800, 3819, 1918, 3855, 2078, 468, 1552, 3036, 296, 109,...<br>intent (len: 2): duration__>=3m, contact__cellular<br>new extent (len: 121): 2377, 3569, 1632, 897, 3235, 4452, 1497, 1936, 677, 156,...<br>new intent (len: 0): emptyset<br>mean_y_true: 0.23<br>mean_y_pred: 0.19<br>Metrics<br>\\taccuracy: 0.8<br>\\tprecision: 0.58<br>\\trecall: 0.48<br>\\tneg_precision: 0.85<br>\\tneg_recall: 0.9<br><br>\", \"Concept 56<br>extent (len: 6): 2266, 680, 1904, 4215, 2963, 229<br>intent (len: 3): duration__>=1.5m, contact__cellular, month__sep<br>new extent (len: 1): 229<br>new intent (len: 0): emptyset<br>mean_y_true: 0.5<br>mean_y_pred: 0.5<br>Metrics<br>\\taccuracy: 0.67<br>\\tprecision: 0.67<br>\\trecall: 0.67<br>\\tneg_precision: 0.67<br>\\tneg_recall: 0.67<br><br>\", \"Concept 71<br>extent (len: 74): 4053, 1345, 3298, 4406, 3920, 721, 3312, 3674, 626, 318,...<br>intent (len: 3): duration__>=3m, contact__cellular, month__may<br>new extent (len: 39): 3063, 2759, 314, 3724, 4500, 43, 2778, 2665, 1532, 1964,...<br>new intent (len: 0): emptyset<br>mean_y_true: 0.26<br>mean_y_pred: 0.08<br>Metrics<br>\\taccuracy: 0.77<br>\\tprecision: 0.67<br>\\trecall: 0.21<br>\\tneg_precision: 0.78<br>\\tneg_recall: 0.96<br><br>\", \"Concept 46<br>extent (len: 7): 4141, 3013, 657, 2258, 3256, 2018, 3877<br>intent (len: 2): duration__>=1.5m, month__mar<br>new extent (len: 1): 3877<br>new intent (len: 0): emptyset<br>mean_y_true: 0.29<br>mean_y_pred: 0.57<br>Metrics<br>\\taccuracy: 0.43<br>\\tprecision: 0.25<br>\\trecall: 0.5<br>\\tneg_precision: 0.67<br>\\tneg_recall: 0.4<br><br>\", \"Concept 58<br>extent (len: 1): 2042<br>intent (len: 3): duration__>=1.5m, contact__unknown, month__sep<br>new extent (len: 1): 2042<br>new intent (len: 0): emptyset<br>mean_y_true: 0.0<br>mean_y_pred: 0.0<br>Metrics<br>\\taccuracy: 1.0<br>\\tprecision: 0.0<br>\\trecall: 0.0<br>\\tneg_precision: 1.0<br>\\tneg_recall: 1.0<br><br>\", \"Concept 66<br>extent (len: 15): 3700, 4423, 61, 3315, 3701, 1113, 2685, 2213, 2750, 2821,...<br>intent (len: 2): duration__>=3m, month__oct<br>new extent (len: 2): 2750, 2821<br>new intent (len: 0): emptyset<br>mean_y_true: 0.47<br>mean_y_pred: 0.8<br>Metrics<br>\\taccuracy: 0.4<br>\\tprecision: 0.42<br>\\trecall: 0.71<br>\\tneg_precision: 0.33<br>\\tneg_recall: 0.12<br><br>\", \"Concept 50<br>extent (len: 56): 1115, 1610, 4211, 4076, 366, 367, 551, 2584, 1650, 227,...<br>intent (len: 3): duration__>=1.5m, contact__cellular, month__apr<br>new extent (len: 16): 2566, 3168, 1057, 602, 4184, 4193, 4241, 2107, 990, 3879,...<br>new intent (len: 0): emptyset<br>mean_y_true: 0.14<br>mean_y_pred: 0.09<br>Metrics<br>\\taccuracy: 0.88<br>\\tprecision: 0.6<br>\\trecall: 0.38<br>\\tneg_precision: 0.9<br>\\tneg_recall: 0.96<br><br>\", \"Concept 45<br>extent (len: 41): 3615, 4237, 1485, 1161, 759, 3796, 2357, 2697, 896, 2649,...<br>intent (len: 2): duration__>=1.5m, month__feb<br>new extent (len: 2): 3850, 56<br>new intent (len: 0): emptyset<br>mean_y_true: 0.29<br>mean_y_pred: 0.1<br>Metrics<br>\\taccuracy: 0.76<br>\\tprecision: 0.75<br>\\trecall: 0.25<br>\\tneg_precision: 0.76<br>\\tneg_recall: 0.97<br><br>\", \"Concept 52<br>extent (len: 36): 3615, 4237, 1485, 1161, 759, 3796, 2357, 2697, 896, 2649,...<br>intent (len: 3): duration__>=1.5m, contact__cellular, month__feb<br>new extent (len: 12): 4023, 1697, 945, 3765, 960, 321, 2290, 3071, 4020, 3390,...<br>new intent (len: 0): emptyset<br>mean_y_true: 0.31<br>mean_y_pred: 0.11<br>Metrics<br>\\taccuracy: 0.75<br>\\tprecision: 0.75<br>\\trecall: 0.27<br>\\tneg_precision: 0.75<br>\\tneg_recall: 0.96<br><br>\", \"Concept 79<br>extent (len: 16): 3615, 4237, 1485, 1161, 759, 3796, 2357, 2697, 896, 2649,...<br>intent (len: 2): duration__>=5.5m, month__feb<br>new extent (len: 1): 2499<br>new intent (len: 0): emptyset<br>mean_y_true: 0.5<br>mean_y_pred: 0.19<br>Metrics<br>\\taccuracy: 0.56<br>\\tprecision: 0.67<br>\\trecall: 0.25<br>\\tneg_precision: 0.54<br>\\tneg_recall: 0.88<br><br>\", \"Concept 55<br>extent (len: 16): 3700, 4423, 61, 3315, 3701, 1113, 2685, 2213, 3527, 1158,...<br>intent (len: 3): duration__>=1.5m, contact__cellular, month__oct<br>new extent (len: 3): 1158, 3527, 3425<br>new intent (len: 0): emptyset<br>mean_y_true: 0.44<br>mean_y_pred: 0.62<br>Metrics<br>\\taccuracy: 0.44<br>\\tprecision: 0.4<br>\\trecall: 0.57<br>\\tneg_precision: 0.5<br>\\tneg_recall: 0.33<br><br>\", \"Concept 68<br>extent (len: 2): 2932, 328<br>intent (len: 3): duration__>=3m, contact__cellular, month__dec<br>new extent (len: 1): 2932<br>new intent (len: 0): emptyset<br>mean_y_true: 0.5<br>mean_y_pred: 0.5<br>Metrics<br>\\taccuracy: 1.0<br>\\tprecision: 1.0<br>\\trecall: 1.0<br>\\tneg_precision: 1.0<br>\\tneg_recall: 1.0<br><br>\", \"Concept 63<br>extent (len: 4): 3889, 2932, 328, 2908<br>intent (len: 2): duration__>=3m, month__dec<br>new extent (len: 1): 2908<br>new intent (len: 0): emptyset<br>mean_y_true: 0.5<br>mean_y_pred: 0.5<br>Metrics<br>\\taccuracy: 1.0<br>\\tprecision: 1.0<br>\\trecall: 1.0<br>\\tneg_precision: 1.0<br>\\tneg_recall: 1.0<br><br>\", \"Concept 67<br>extent (len: 40): 1115, 1610, 4211, 4076, 366, 367, 551, 2584, 1650, 227,...<br>intent (len: 3): duration__>=3m, contact__cellular, month__apr<br>new extent (len: 17): 4076, 3797, 2584, 366, 650, 4315, 801, 1115, 1610, 4385,...<br>new intent (len: 0): emptyset<br>mean_y_true: 0.2<br>mean_y_pred: 0.12<br>Metrics<br>\\taccuracy: 0.82<br>\\tprecision: 0.6<br>\\trecall: 0.38<br>\\tneg_precision: 0.86<br>\\tneg_recall: 0.94<br><br>\", \"Concept 57<br>extent (len: 159): 4018, 937, 3964, 315, 4475, 1392, 1612, 2195, 2222, 4449,...<br>intent (len: 3): duration__>=1.5m, contact__unknown, month__may<br>new extent (len: 50): 96, 2528, 3259, 1270, 655, 287, 3858, 3401, 2223, 3405,...<br>new intent (len: 0): emptyset<br>mean_y_true: 0.06<br>mean_y_pred: 0.01<br>Metrics<br>\\taccuracy: 0.95<br>\\tprecision: 1.0<br>\\trecall: 0.2<br>\\tneg_precision: 0.95<br>\\tneg_recall: 1.0<br><br>\", \"Concept 47<br>extent (len: 279): 3548, 3471, 3303, 1181, 1730, 1666, 869, 4208, 4169, 177,...<br>intent (len: 2): duration__>=1.5m, month__may<br>new extent (len: 2): 676, 999<br>new intent (len: 0): emptyset<br>mean_y_true: 0.11<br>mean_y_pred: 0.03<br>Metrics<br>\\taccuracy: 0.91<br>\\tprecision: 0.75<br>\\trecall: 0.2<br>\\tneg_precision: 0.91<br>\\tneg_recall: 0.99<br><br>\", \"Concept 65<br>extent (len: 186): 4053, 1345, 3298, 4406, 3920, 721, 3312, 3674, 626, 318,...<br>intent (len: 2): duration__>=3m, month__may<br>new extent (len: 0): emptyset<br>new intent (len: 0): emptyset<br>mean_y_true: 0.16<br>mean_y_pred: 0.04<br>Metrics<br>\\taccuracy: 0.87<br>\\tprecision: 0.75<br>\\trecall: 0.21<br>\\tneg_precision: 0.87<br>\\tneg_recall: 0.99<br><br>\", \"Concept 73<br>extent (len: 5): 2266, 680, 1904, 4215, 2963<br>intent (len: 3): duration__>=3m, contact__cellular, month__sep<br>new extent (len: 3): 2266, 680, 1904<br>new intent (len: 0): emptyset<br>mean_y_true: 0.6<br>mean_y_pred: 0.6<br>Metrics<br>\\taccuracy: 0.6<br>\\tprecision: 0.67<br>\\trecall: 0.67<br>\\tneg_precision: 0.5<br>\\tneg_recall: 0.5<br><br>\", \"Concept 39<br>extent (len: 176): 4018, 937, 3964, 315, 4475, 1392, 1612, 2195, 2222, 4449,...<br>intent (len: 3): duration__>=1m, contact__unknown, month__may<br>new extent (len: 17): 4205, 3903, 1090, 3253, 1207, 1770, 842, 3169, 879, 4062,...<br>new intent (len: 0): emptyset<br>mean_y_true: 0.06<br>mean_y_pred: 0.01<br>Metrics<br>\\taccuracy: 0.95<br>\\tprecision: 1.0<br>\\trecall: 0.2<br>\\tneg_precision: 0.95<br>\\tneg_recall: 1.0<br><br>\", \"Concept 74<br>extent (len: 109): 4018, 937, 3964, 315, 4475, 1392, 1612, 2195, 2222, 4449,...<br>intent (len: 3): duration__>=3m, contact__unknown, month__may<br>new extent (len: 53): 3188, 2093, 26, 144, 2441, 2495, 4134, 1670, 471, 2298,...<br>new intent (len: 0): emptyset<br>mean_y_true: 0.09<br>mean_y_pred: 0.02<br>Metrics<br>\\taccuracy: 0.93<br>\\tprecision: 1.0<br>\\trecall: 0.2<br>\\tneg_precision: 0.93<br>\\tneg_recall: 1.0<br><br>\", \"Concept 72<br>extent (len: 13): 3700, 4423, 61, 3315, 3701, 1113, 2685, 2213, 1672, 1186,...<br>intent (len: 3): duration__>=3m, contact__cellular, month__oct<br>new extent (len: 8): 3315, 1113, 2213, 2685, 3701, 3700, 61, 4423<br>new intent (len: 0): emptyset<br>mean_y_true: 0.46<br>mean_y_pred: 0.77<br>Metrics<br>\\taccuracy: 0.38<br>\\tprecision: 0.4<br>\\trecall: 0.67<br>\\tneg_precision: 0.33<br>\\tneg_recall: 0.14<br><br>\", \"Concept 40<br>extent (len: 571): 2398, 2288, 4011, 3963, 1222, 2916, 1020, 497, 3825, 151,...<br>intent (len: 2): duration__>=1.5m, contact__cellular<br>new extent (len: 113): 4242, 544, 2118, 3414, 2493, 2339, 594, 1222, 2583, 393,...<br>new intent (len: 0): emptyset<br>mean_y_true: 0.17<br>mean_y_pred: 0.13<br>Metrics<br>\\taccuracy: 0.85<br>\\tprecision: 0.58<br>\\trecall: 0.44<br>\\tneg_precision: 0.89<br>\\tneg_recall: 0.93<br><br>\", \"Concept 48<br>extent (len: 19): 3700, 4423, 61, 3315, 3701, 1113, 2685, 2213, 1196, 2750,...<br>intent (len: 2): duration__>=1.5m, month__oct<br>new extent (len: 1): 1196<br>new intent (len: 0): emptyset<br>mean_y_true: 0.42<br>mean_y_pred: 0.63<br>Metrics<br>\\taccuracy: 0.47<br>\\tprecision: 0.42<br>\\trecall: 0.62<br>\\tneg_precision: 0.57<br>\\tneg_recall: 0.36<br><br>\", \"Concept 64<br>extent (len: 27): 3615, 4237, 1485, 1161, 759, 3796, 2357, 2697, 896, 2649,...<br>intent (len: 2): duration__>=3m, month__feb<br>new extent (len: 1): 4439<br>new intent (len: 0): emptyset<br>mean_y_true: 0.37<br>mean_y_pred: 0.15<br>Metrics<br>\\taccuracy: 0.7<br>\\tprecision: 0.75<br>\\trecall: 0.3<br>\\tneg_precision: 0.7<br>\\tneg_recall: 0.94<br><br>\", \"Concept 62<br>extent (len: 44): 1115, 1610, 4211, 4076, 366, 367, 551, 2584, 1650, 227,...<br>intent (len: 2): duration__>=3m, month__apr<br>new extent (len: 2): 969, 199<br>new intent (len: 0): emptyset<br>mean_y_true: 0.2<br>mean_y_pred: 0.16<br>Metrics<br>\\taccuracy: 0.82<br>\\tprecision: 0.57<br>\\trecall: 0.44<br>\\tneg_precision: 0.86<br>\\tneg_recall: 0.91<br><br>\", \"Concept 54<br>extent (len: 115): 3548, 3471, 3303, 1181, 1730, 1666, 869, 4208, 4169, 177,...<br>intent (len: 3): duration__>=1.5m, contact__cellular, month__may<br>new extent (len: 41): 3605, 2380, 3543, 2784, 3559, 4414, 869, 1786, 1052, 2245,...<br>new intent (len: 0): emptyset<br>mean_y_true: 0.17<br>mean_y_pred: 0.05<br>Metrics<br>\\taccuracy: 0.84<br>\\tprecision: 0.67<br>\\trecall: 0.2<br>\\tneg_precision: 0.85<br>\\tneg_recall: 0.98<br><br>\", \"Concept 70<br>extent (len: 3): 2258, 3256, 2018<br>intent (len: 3): duration__>=3m, contact__cellular, month__mar<br>new extent (len: 2): 3256, 2018<br>new intent (len: 0): emptyset<br>mean_y_true: 0.33<br>mean_y_pred: 1.0<br>Metrics<br>\\taccuracy: 0.33<br>\\tprecision: 0.33<br>\\trecall: 1.0<br>\\tneg_precision: 0.0<br>\\tneg_recall: 0.0<br><br>\", \"Concept 69<br>extent (len: 24): 3615, 4237, 1485, 1161, 759, 3796, 2357, 2697, 896, 2649,...<br>intent (len: 3): duration__>=3m, contact__cellular, month__feb<br>new extent (len: 10): 3787, 2917, 3135, 3407, 1102, 2749, 4190, 1264, 4428, 180<br>new intent (len: 0): emptyset<br>mean_y_true: 0.38<br>mean_y_pred: 0.17<br>Metrics<br>\\taccuracy: 0.71<br>\\tprecision: 0.75<br>\\trecall: 0.33<br>\\tneg_precision: 0.7<br>\\tneg_recall: 0.93<br><br>\", \"Concept 60<br>extent (len: 163): 2344, 2792, 1829, 3116, 1747, 3402, 4248, 1652, 1429, 3364,...<br>intent (len: 2): duration__>=3m, contact__unknown<br>new extent (len: 30): 3306, 2465, 3779, 2792, 1024, 3364, 3402, 2344, 1018, 1954,...<br>new intent (len: 0): emptyset<br>mean_y_true: 0.09<br>mean_y_pred: 0.03<br>Metrics<br>\\taccuracy: 0.93<br>\\tprecision: 0.8<br>\\trecall: 0.29<br>\\tneg_precision: 0.94<br>\\tneg_recall: 0.99<br><br>\", \"Concept 21<br>extent (len: 65): 1115, 1610, 4211, 4076, 366, 367, 551, 2584, 1650, 227,...<br>intent (len: 2): duration__>=1m, month__apr<br>new extent (len: 0): emptyset<br>new intent (len: 0): emptyset<br>mean_y_true: 0.14<br>mean_y_pred: 0.11<br>Metrics<br>\\taccuracy: 0.88<br>\\tprecision: 0.57<br>\\trecall: 0.44<br>\\tneg_precision: 0.91<br>\\tneg_recall: 0.95<br><br>\", \"Concept 38<br>extent (len: 8): 3541, 2918, 2266, 680, 1904, 4215, 2963, 229<br>intent (len: 3): duration__>=1m, contact__cellular, month__sep<br>new extent (len: 2): 2918, 3541<br>new intent (len: 0): emptyset<br>mean_y_true: 0.38<br>mean_y_pred: 0.38<br>Metrics<br>\\taccuracy: 0.75<br>\\tprecision: 0.67<br>\\trecall: 0.67<br>\\tneg_precision: 0.8<br>\\tneg_recall: 0.8<br><br>\", \"Concept 19<br>extent (len: 287): 2344, 2792, 1829, 3116, 1747, 3402, 4248, 1652, 1429, 3364,...<br>intent (len: 2): duration__>=1m, contact__unknown<br>new extent (len: 27): 2994, 3707, 4222, 856, 690, 3575, 4058, 2550, 1554, 3355,...<br>new intent (len: 0): emptyset<br>mean_y_true: 0.05<br>mean_y_pred: 0.02<br>Metrics<br>\\taccuracy: 0.96<br>\\tprecision: 0.8<br>\\trecall: 0.29<br>\\tneg_precision: 0.96<br>\\tneg_recall: 1.0<br><br>\", \"Concept 28<br>extent (len: 3): 4464, 3464, 4273<br>intent (len: 3): duration__<1m, contact__cellular, month__feb<br>new extent (len: 3): 3464, 4273, 4464<br>new intent (len: 0): emptyset<br>mean_y_true: 0.0<br>mean_y_pred: 0.0<br>Metrics<br>\\taccuracy: 1.0<br>\\tprecision: 0.0<br>\\trecall: 0.0<br>\\tneg_precision: 1.0<br>\\tneg_recall: 1.0<br><br>\", \"Concept 32<br>extent (len: 1): 1106<br>intent (len: 3): duration__<1m, contact__unknown, month__oct<br>new extent (len: 1): 1106<br>new intent (len: 0): emptyset<br>mean_y_true: 0.0<br>mean_y_pred: 0.0<br>Metrics<br>\\taccuracy: 1.0<br>\\tprecision: 0.0<br>\\trecall: 0.0<br>\\tneg_precision: 1.0<br>\\tneg_recall: 1.0<br><br>\", \"Concept 27<br>extent (len: 8): 3048, 4100, 2561, 4514, 2673, 733, 1073, 1378<br>intent (len: 3): duration__<1m, contact__cellular, month__apr<br>new extent (len: 8): 3048, 4100, 2561, 733, 2673, 1378, 4514, 1073<br>new intent (len: 0): emptyset<br>mean_y_true: 0.0<br>mean_y_pred: 0.0<br>Metrics<br>\\taccuracy: 1.0<br>\\tprecision: 0.0<br>\\trecall: 0.0<br>\\tneg_precision: 1.0<br>\\tneg_recall: 1.0<br><br>\", \"Concept 22<br>extent (len: 47): 3615, 4237, 1485, 1161, 759, 3796, 2357, 2697, 896, 2649,...<br>intent (len: 2): duration__>=1m, month__feb<br>new extent (len: 0): emptyset<br>new intent (len: 0): emptyset<br>mean_y_true: 0.26<br>mean_y_pred: 0.09<br>Metrics<br>\\taccuracy: 0.79<br>\\tprecision: 0.75<br>\\trecall: 0.25<br>\\tneg_precision: 0.79<br>\\tneg_recall: 0.97<br><br>\", \"Concept 18<br>extent (len: 653): 2398, 2288, 4011, 3963, 1222, 2916, 1020, 497, 3825, 151,...<br>intent (len: 2): duration__>=1m, contact__cellular<br>new extent (len: 48): 2478, 755, 157, 3111, 1393, 977, 4501, 179, 410, 1815,...<br>new intent (len: 0): emptyset<br>mean_y_true: 0.15<br>mean_y_pred: 0.11<br>Metrics<br>\\taccuracy: 0.87<br>\\tprecision: 0.58<br>\\trecall: 0.43<br>\\tneg_precision: 0.9<br>\\tneg_recall: 0.94<br><br>\", \"Concept 30<br>extent (len: 1): 1675<br>intent (len: 3): duration__<1m, contact__unknown, month__mar<br>new extent (len: 1): 1675<br>new intent (len: 0): emptyset<br>mean_y_true: 0.0<br>mean_y_pred: 0.0<br>Metrics<br>\\taccuracy: 1.0<br>\\tprecision: 0.0<br>\\trecall: 0.0<br>\\tneg_precision: 1.0<br>\\tneg_recall: 1.0<br><br>\", \"Concept 26<br>extent (len: 9): 3541, 2918, 2266, 680, 1904, 4215, 2963, 2042, 229<br>intent (len: 2): duration__>=1m, month__sep<br>new extent (len: 0): emptyset<br>new intent (len: 1): month__sep<br>mean_y_true: 0.33<br>mean_y_pred: 0.33<br>Metrics<br>\\taccuracy: 0.78<br>\\tprecision: 0.67<br>\\trecall: 0.67<br>\\tneg_precision: 0.83<br>\\tneg_recall: 0.83<br><br>\", \"Concept 29<br>extent (len: 18): 3415, 3231, 3713, 2019, 1598, 718, 2727, 1426, 2978, 1163,...<br>intent (len: 3): duration__<1m, contact__cellular, month__may<br>new extent (len: 18): 3231, 3713, 2978, 4266, 1071, 436, 3299, 1426, 3640, 1598,...<br>new intent (len: 0): emptyset<br>mean_y_true: 0.0<br>mean_y_pred: 0.0<br>Metrics<br>\\taccuracy: 1.0<br>\\tprecision: 0.0<br>\\trecall: 0.0<br>\\tneg_precision: 1.0<br>\\tneg_recall: 1.0<br><br>\", \"Concept 24<br>extent (len: 312): 3548, 3471, 3303, 1181, 1730, 1666, 869, 4208, 4169, 177,...<br>intent (len: 2): duration__>=1m, month__may<br>new extent (len: 2): 2531, 2401<br>new intent (len: 0): emptyset<br>mean_y_true: 0.1<br>mean_y_pred: 0.03<br>Metrics<br>\\taccuracy: 0.92<br>\\tprecision: 0.75<br>\\trecall: 0.2<br>\\tneg_precision: 0.92<br>\\tneg_recall: 0.99<br><br>\", \"Concept 36<br>extent (len: 129): 3548, 3471, 3303, 1181, 1730, 1666, 869, 4208, 4169, 177,...<br>intent (len: 3): duration__>=1m, contact__cellular, month__may<br>new extent (len: 14): 1859, 4394, 2877, 3384, 4278, 3981, 3815, 1588, 3697, 1117,...<br>new intent (len: 0): emptyset<br>mean_y_true: 0.16<br>mean_y_pred: 0.05<br>Metrics<br>\\taccuracy: 0.86<br>\\tprecision: 0.67<br>\\trecall: 0.2<br>\\tneg_precision: 0.87<br>\\tneg_recall: 0.98<br><br>\", \"Concept 16<br>extent (len: 10): 3166, 3408, 3048, 4100, 2561, 4514, 2673, 733, 1073, 1378<br>intent (len: 2): duration__<1m, month__apr<br>new extent (len: 2): 3166, 3408<br>new intent (len: 0): emptyset<br>mean_y_true: 0.0<br>mean_y_pred: 0.0<br>Metrics<br>\\taccuracy: 1.0<br>\\tprecision: 0.0<br>\\trecall: 0.0<br>\\tneg_precision: 1.0<br>\\tneg_recall: 1.0<br><br>\", \"Concept 37<br>extent (len: 19): 3700, 4423, 61, 3315, 3701, 1113, 2685, 2213, 3527, 1158,...<br>intent (len: 3): duration__>=1m, contact__cellular, month__oct<br>new extent (len: 3): 903, 2451, 2417<br>new intent (len: 0): emptyset<br>mean_y_true: 0.37<br>mean_y_pred: 0.53<br>Metrics<br>\\taccuracy: 0.53<br>\\tprecision: 0.4<br>\\trecall: 0.57<br>\\tneg_precision: 0.67<br>\\tneg_recall: 0.5<br><br>\", \"Concept 20<br>extent (len: 872): 2398, 2288, 4011, 3963, 1222, 2916, 1020, 497, 3825, 151,...<br>intent (len: 1): duration__>=1.5m<br>new extent (len: 11): 3095, 3206, 3632, 3258, 1545, 4320, 2677, 2174, 2704, 1505,...<br>new intent (len: 1): duration__>=1.5m<br>mean_y_true: 0.14<br>mean_y_pred: 0.1<br>Metrics<br>\\taccuracy: 0.88<br>\\tprecision: 0.6<br>\\trecall: 0.44<br>\\tneg_precision: 0.91<br>\\tneg_recall: 0.95<br><br>\", \"Concept 15<br>extent (len: 51): 3134, 3214, 4374, 3671, 3326, 833, 4440, 3597, 2103, 4308,...<br>intent (len: 2): duration__<1m, contact__unknown<br>new extent (len: 28): 4374, 139, 3214, 1074, 4143, 4308, 1293, 4024, 2840, 833,...<br>new intent (len: 0): emptyset<br>mean_y_true: 0.02<br>mean_y_pred: 0.0<br>Metrics<br>\\taccuracy: 0.98<br>\\tprecision: 0.0<br>\\trecall: 0.0<br>\\tneg_precision: 0.98<br>\\tneg_recall: 1.0<br><br>\", \"Concept 34<br>extent (len: 42): 3615, 4237, 1485, 1161, 759, 3796, 2357, 2697, 896, 2649,...<br>intent (len: 3): duration__>=1m, contact__cellular, month__feb<br>new extent (len: 6): 1231, 683, 838, 3669, 2250, 4249<br>new intent (len: 0): emptyset<br>mean_y_true: 0.26<br>mean_y_pred: 0.1<br>Metrics<br>\\taccuracy: 0.79<br>\\tprecision: 0.75<br>\\trecall: 0.27<br>\\tneg_precision: 0.79<br>\\tneg_recall: 0.97<br><br>\", \"Concept 17<br>extent (len: 46): 1583, 1075, 8, 1777, 3892, 2501, 122, 1784, 1068, 3725,...<br>intent (len: 2): duration__<1m, month__may<br>new extent (len: 7): 408, 3487, 3988, 4446, 2121, 776, 789<br>new intent (len: 0): emptyset<br>mean_y_true: 0.02<br>mean_y_pred: 0.0<br>Metrics<br>\\taccuracy: 0.98<br>\\tprecision: 0.0<br>\\trecall: 0.0<br>\\tneg_precision: 0.98<br>\\tneg_recall: 1.0<br><br>\", \"Concept 25<br>extent (len: 22): 3700, 4423, 61, 3315, 3701, 1113, 2685, 2213, 1196, 2750,...<br>intent (len: 2): duration__>=1m, month__oct<br>new extent (len: 0): emptyset<br>new intent (len: 0): emptyset<br>mean_y_true: 0.36<br>mean_y_pred: 0.55<br>Metrics<br>\\taccuracy: 0.55<br>\\tprecision: 0.42<br>\\trecall: 0.62<br>\\tneg_precision: 0.7<br>\\tneg_recall: 0.5<br><br>\", \"Concept 61<br>extent (len: 278): 800, 3819, 1918, 3855, 2078, 468, 1552, 3036, 296, 109,...<br>intent (len: 1): duration__>=5.5m<br>new extent (len: 5): 1025, 1978, 2910, 1391, 2652<br>new intent (len: 1): duration__>=5.5m<br>mean_y_true: 0.3<br>mean_y_pred: 0.25<br>Metrics<br>\\taccuracy: 0.74<br>\\tprecision: 0.58<br>\\trecall: 0.48<br>\\tneg_precision: 0.79<br>\\tneg_recall: 0.85<br><br>\", \"Concept 12<br>extent (len: 147): 3548, 3471, 3303, 1181, 1730, 1666, 869, 4208, 4169, 177,...<br>intent (len: 2): contact__cellular, month__may<br>new extent (len: 0): emptyset<br>new intent (len: 0): emptyset<br>mean_y_true: 0.14<br>mean_y_pred: 0.04<br>Metrics<br>\\taccuracy: 0.88<br>\\tprecision: 0.67<br>\\trecall: 0.2<br>\\tneg_precision: 0.89<br>\\tneg_recall: 0.98<br><br>\", \"Concept 13<br>extent (len: 197): 4018, 937, 3964, 315, 4475, 1392, 1612, 2195, 2222, 4449,...<br>intent (len: 2): contact__unknown, month__may<br>new extent (len: 0): emptyset<br>new intent (len: 0): emptyset<br>mean_y_true: 0.06<br>mean_y_pred: 0.01<br>Metrics<br>\\taccuracy: 0.95<br>\\tprecision: 1.0<br>\\trecall: 0.18<br>\\tneg_precision: 0.95<br>\\tneg_recall: 1.0<br><br>\", \"Concept 14<br>extent (len: 59): 3415, 3231, 3713, 2019, 1598, 718, 2727, 1426, 2978, 1163,...<br>intent (len: 2): duration__<1m, contact__cellular<br>new extent (len: 30): 3085, 438, 596, 1995, 2530, 3531, 538, 3042, 32, 1108,...<br>new intent (len: 0): emptyset<br>mean_y_true: 0.0<br>mean_y_pred: 0.0<br>Metrics<br>\\taccuracy: 1.0<br>\\tprecision: 0.0<br>\\trecall: 0.0<br>\\tneg_precision: 1.0<br>\\tneg_recall: 1.0<br><br>\", \"Concept 31<br>extent (len: 21): 1583, 1075, 8, 1777, 3892, 2501, 122, 1784, 1068, 3725,...<br>intent (len: 3): duration__<1m, contact__unknown, month__may<br>new extent (len: 21): 1784, 783, 1068, 8, 3892, 1200, 1116, 1583, 4371, 1777,...<br>new intent (len: 0): emptyset<br>mean_y_true: 0.05<br>mean_y_pred: 0.0<br>Metrics<br>\\taccuracy: 0.95<br>\\tprecision: 0.0<br>\\trecall: 0.0<br>\\tneg_precision: 0.95<br>\\tneg_recall: 1.0<br><br>\", \"Concept 35<br>extent (len: 10): 4141, 3013, 657, 3292, 4293, 1344, 1479, 2258, 3256, 2018<br>intent (len: 3): duration__>=1m, contact__cellular, month__mar<br>new extent (len: 4): 3292, 1344, 4293, 1479<br>new intent (len: 0): emptyset<br>mean_y_true: 0.3<br>mean_y_pred: 0.4<br>Metrics<br>\\taccuracy: 0.5<br>\\tprecision: 0.25<br>\\trecall: 0.33<br>\\tneg_precision: 0.67<br>\\tneg_recall: 0.57<br><br>\", \"Concept 33<br>extent (len: 61): 1115, 1610, 4211, 4076, 366, 367, 551, 2584, 1650, 227,...<br>intent (len: 3): duration__>=1m, contact__cellular, month__apr<br>new extent (len: 5): 1374, 802, 3929, 2526, 1717<br>new intent (len: 0): emptyset<br>mean_y_true: 0.13<br>mean_y_pred: 0.08<br>Metrics<br>\\taccuracy: 0.89<br>\\tprecision: 0.6<br>\\trecall: 0.38<br>\\tneg_precision: 0.91<br>\\tneg_recall: 0.96<br><br>\", \"Concept 80<br>extent (len: 94): 4053, 1345, 3298, 4406, 3920, 721, 3312, 3674, 626, 318,...<br>intent (len: 2): duration__>=5.5m, month__may<br>new extent (len: 3): 1119, 3483, 2066<br>new intent (len: 0): emptyset<br>mean_y_true: 0.27<br>mean_y_pred: 0.09<br>Metrics<br>\\taccuracy: 0.78<br>\\tprecision: 0.75<br>\\trecall: 0.24<br>\\tneg_precision: 0.78<br>\\tneg_recall: 0.97<br><br>\", \"Concept 23<br>extent (len: 12): 4141, 3013, 657, 3292, 4293, 1344, 1479, 166, 2258, 3256,...<br>intent (len: 2): duration__>=1m, month__mar<br>new extent (len: 1): 166<br>new intent (len: 0): emptyset<br>mean_y_true: 0.25<br>mean_y_pred: 0.33<br>Metrics<br>\\taccuracy: 0.58<br>\\tprecision: 0.25<br>\\trecall: 0.33<br>\\tneg_precision: 0.75<br>\\tneg_recall: 0.67<br><br>\", \"Concept 77<br>extent (len: 104): 3614, 415, 4077, 2481, 1192, 33, 1896, 51, 1553, 429,...<br>intent (len: 1): duration__>=16.5m<br>new extent (len: 5): 30, 3333, 1534, 4495, 1507<br>new intent (len: 1): duration__>=16.5m<br>mean_y_true: 0.46<br>mean_y_pred: 0.51<br>Metrics<br>\\taccuracy: 0.61<br>\\tprecision: 0.57<br>\\trecall: 0.62<br>\\tneg_precision: 0.65<br>\\tneg_recall: 0.59<br><br>\", \"Concept 76<br>extent (len: 80): 4018, 937, 3964, 315, 4475, 1392, 1612, 2195, 2222, 4449,...<br>intent (len: 2): duration__>=5.5m, contact__unknown<br>new extent (len: 14): 720, 2954, 567, 3372, 2710, 643, 2468, 2658, 620, 2767,...<br>new intent (len: 0): emptyset<br>mean_y_true: 0.18<br>mean_y_pred: 0.06<br>Metrics<br>\\taccuracy: 0.86<br>\\tprecision: 0.8<br>\\trecall: 0.29<br>\\tneg_precision: 0.87<br>\\tneg_recall: 0.98<br><br>\", \"Concept 81<br>extent (len: 23): 350, 3066, 2971, 4520, 4284, 4492, 3341, 1309, 2694, 445,...<br>intent (len: 3): duration__>=5.5m, contact__cellular, month__apr<br>new extent (len: 15): 350, 445, 4284, 4455, 3238, 4520, 1309, 4492, 3341, 809,...<br>new intent (len: 0): emptyset<br>mean_y_true: 0.3<br>mean_y_pred: 0.22<br>Metrics<br>\\taccuracy: 0.74<br>\\tprecision: 0.6<br>\\trecall: 0.43<br>\\tneg_precision: 0.78<br>\\tneg_recall: 0.88<br><br>\", \"Concept 75<br>extent (len: 180): 800, 3819, 1918, 3855, 2078, 468, 1552, 3036, 296, 109,...<br>intent (len: 2): duration__>=5.5m, contact__cellular<br>new extent (len: 61): 3017, 120, 2639, 4300, 4404, 811, 2666, 486, 1436, 3589,...<br>new intent (len: 0): emptyset<br>mean_y_true: 0.35<br>mean_y_pred: 0.32<br>Metrics<br>\\taccuracy: 0.69<br>\\tprecision: 0.56<br>\\trecall: 0.51<br>\\tneg_precision: 0.75<br>\\tneg_recall: 0.79<br><br>\", \"Concept 78<br>extent (len: 25): 350, 3066, 2971, 4520, 4284, 4492, 3341, 1309, 2694, 445,...<br>intent (len: 2): duration__>=5.5m, month__apr<br>new extent (len: 1): 881<br>new intent (len: 0): emptyset<br>mean_y_true: 0.28<br>mean_y_pred: 0.24<br>Metrics<br>\\taccuracy: 0.72<br>\\tprecision: 0.5<br>\\trecall: 0.43<br>\\tneg_precision: 0.79<br>\\tneg_recall: 0.83<br><br>\", \"Concept 2<br>extent (len: 338): 2344, 2792, 1829, 3116, 1747, 3402, 4248, 1652, 1429, 3364,...<br>intent (len: 1): contact__unknown<br>new extent (len: 0): emptyset<br>new intent (len: 1): contact__unknown<br>mean_y_true: 0.04<br>mean_y_pred: 0.01<br>Metrics<br>\\taccuracy: 0.96<br>\\tprecision: 0.8<br>\\trecall: 0.27<br>\\tneg_precision: 0.97<br>\\tneg_recall: 1.0<br><br>\", \"Concept 3<br>extent (len: 125): 3134, 3214, 4374, 3671, 3326, 833, 4440, 3597, 2103, 4308,...<br>intent (len: 1): duration__<1m<br>new extent (len: 6): 2662, 3462, 1569, 1292, 4468, 2387<br>new intent (len: 1): duration__<1m<br>mean_y_true: 0.01<br>mean_y_pred: 0.0<br>Metrics<br>\\taccuracy: 0.99<br>\\tprecision: 0.0<br>\\trecall: 0.0<br>\\tneg_precision: 0.99<br>\\tneg_recall: 1.0<br><br>\", \"Concept 9<br>extent (len: 23): 3700, 4423, 61, 3315, 3701, 1113, 2685, 2213, 1196, 2750,...<br>intent (len: 1): month__oct<br>new extent (len: 0): emptyset<br>new intent (len: 1): month__oct<br>mean_y_true: 0.35<br>mean_y_pred: 0.52<br>Metrics<br>\\taccuracy: 0.57<br>\\tprecision: 0.42<br>\\trecall: 0.62<br>\\tneg_precision: 0.73<br>\\tneg_recall: 0.53<br><br>\", \"Concept 7<br>extent (len: 13): 4141, 3013, 657, 3292, 4293, 1344, 1479, 1675, 166, 2258,...<br>intent (len: 1): month__mar<br>new extent (len: 0): emptyset<br>new intent (len: 1): month__mar<br>mean_y_true: 0.23<br>mean_y_pred: 0.31<br>Metrics<br>\\taccuracy: 0.62<br>\\tprecision: 0.25<br>\\trecall: 0.33<br>\\tneg_precision: 0.78<br>\\tneg_recall: 0.7<br><br>\", \"Concept 6<br>extent (len: 50): 3615, 4237, 1485, 1161, 759, 3796, 2357, 2697, 896, 2649,...<br>intent (len: 1): month__feb<br>new extent (len: 0): emptyset<br>new intent (len: 1): month__feb<br>mean_y_true: 0.24<br>mean_y_pred: 0.08<br>Metrics<br>\\taccuracy: 0.8<br>\\tprecision: 0.75<br>\\trecall: 0.25<br>\\tneg_precision: 0.8<br>\\tneg_recall: 0.97<br><br>\", \"Concept 1<br>extent (len: 712): 2398, 2288, 4011, 3963, 1222, 2916, 1020, 497, 3825, 151,...<br>intent (len: 1): contact__cellular<br>new extent (len: 0): emptyset<br>new intent (len: 1): contact__cellular<br>mean_y_true: 0.14<br>mean_y_pred: 0.1<br>Metrics<br>\\taccuracy: 0.88<br>\\tprecision: 0.58<br>\\trecall: 0.43<br>\\tneg_precision: 0.91<br>\\tneg_recall: 0.95<br><br>\", \"Concept 88<br>extent (len: 30): 2775, 1315, 2688, 1175, 4291, 3873, 794, 831, 1407, 1454,...<br>intent (len: 2): duration__>=16.5m, contact__unknown<br>new extent (len: 10): 1454, 3873, 4291, 1315, 2775, 1175, 1407, 831, 2688, 794<br>new intent (len: 0): emptyset<br>mean_y_true: 0.4<br>mean_y_pred: 0.17<br>Metrics<br>\\taccuracy: 0.7<br>\\tprecision: 0.8<br>\\trecall: 0.33<br>\\tneg_precision: 0.68<br>\\tneg_recall: 0.94<br><br>\", \"Concept 10<br>extent (len: 69): 1115, 1610, 4211, 4076, 366, 367, 551, 2584, 1650, 227,...<br>intent (len: 2): contact__cellular, month__apr<br>new extent (len: 0): emptyset<br>new intent (len: 0): emptyset<br>mean_y_true: 0.12<br>mean_y_pred: 0.07<br>Metrics<br>\\taccuracy: 0.9<br>\\tprecision: 0.6<br>\\trecall: 0.38<br>\\tneg_precision: 0.92<br>\\tneg_recall: 0.97<br><br>\", \"Concept 100<br>extent (len: 0): emptyset<br>intent (len: 11): duration__<1m, duration__>=16.5m, contact__cellular, contact__unknown, month__feb, month__mar, month__apr, month__may, month__sep, month__oct,...<br>new extent (len: 0): emptyset<br>new intent (len: 0): emptyset<br>Metrics<br><br>\", \"Concept 99<br>extent (len: 20): 4511, 297, 2347, 2464, 4498, 1877, 1723, 1302, 1501, 2254,...<br>intent (len: 3): duration__>=16.5m, contact__unknown, month__may<br>new extent (len: 20): 2347, 2202, 2464, 3091, 1533, 705, 3810, 1302, 1723, 4511,...<br>new intent (len: 0): emptyset<br>mean_y_true: 0.45<br>mean_y_pred: 0.1<br>Metrics<br>\\taccuracy: 0.65<br>\\tprecision: 1.0<br>\\trecall: 0.22<br>\\tneg_precision: 0.61<br>\\tneg_recall: 1.0<br><br>\", \"Concept 5<br>extent (len: 75): 1115, 1610, 4211, 4076, 366, 367, 551, 2584, 1650, 227,...<br>intent (len: 1): month__apr<br>new extent (len: 0): emptyset<br>new intent (len: 1): month__apr<br>mean_y_true: 0.12<br>mean_y_pred: 0.09<br>Metrics<br>\\taccuracy: 0.89<br>\\tprecision: 0.57<br>\\trecall: 0.44<br>\\tneg_precision: 0.93<br>\\tneg_recall: 0.95<br><br>\", \"Concept 87<br>extent (len: 66): 3614, 415, 4077, 2481, 1192, 33, 1896, 51, 1553, 429,...<br>intent (len: 2): duration__>=16.5m, contact__cellular<br>new extent (len: 38): 80, 1738, 3463, 203, 511, 2211, 589, 1869, 415, 1991,...<br>new intent (len: 0): emptyset<br>mean_y_true: 0.48<br>mean_y_pred: 0.64<br>Metrics<br>\\taccuracy: 0.55<br>\\tprecision: 0.52<br>\\trecall: 0.69<br>\\tneg_precision: 0.58<br>\\tneg_recall: 0.41<br><br>\", \"Concept 96<br>extent (len: 1): 2258<br>intent (len: 3): duration__>=16.5m, contact__cellular, month__mar<br>new extent (len: 1): 2258<br>new intent (len: 0): emptyset<br>mean_y_true: 0.0<br>mean_y_pred: 1.0<br>Metrics<br>\\taccuracy: 0.0<br>\\tprecision: 0.0<br>\\trecall: 0.0<br>\\tneg_precision: 0.0<br>\\tneg_recall: 0.0<br><br>\", \"Concept 89<br>extent (len: 9): 3210, 4089, 1047, 1173, 871, 4217, 2653, 2437, 1912<br>intent (len: 2): duration__>=16.5m, month__apr<br>new extent (len: 1): 1912<br>new intent (len: 0): emptyset<br>mean_y_true: 0.44<br>mean_y_pred: 0.67<br>Metrics<br>\\taccuracy: 0.56<br>\\tprecision: 0.5<br>\\trecall: 0.75<br>\\tneg_precision: 0.67<br>\\tneg_recall: 0.4<br><br>\", \"Concept 95<br>extent (len: 3): 1557, 2629, 99<br>intent (len: 3): duration__>=16.5m, contact__cellular, month__feb<br>new extent (len: 3): 1557, 99, 2629<br>new intent (len: 0): emptyset<br>mean_y_true: 0.67<br>mean_y_pred: 0.67<br>Metrics<br>\\taccuracy: 0.33<br>\\tprecision: 0.5<br>\\trecall: 0.5<br>\\tneg_precision: 0.0<br>\\tneg_recall: 0.0<br><br>\", \"Concept 98<br>extent (len: 3): 1437, 803, 4413<br>intent (len: 3): duration__>=16.5m, contact__cellular, month__oct<br>new extent (len: 3): 4413, 1437, 803<br>new intent (len: 0): emptyset<br>mean_y_true: 0.33<br>mean_y_pred: 1.0<br>Metrics<br>\\taccuracy: 0.33<br>\\tprecision: 0.33<br>\\trecall: 1.0<br>\\tneg_precision: 0.0<br>\\tneg_recall: 0.0<br><br>\", \"Concept 94<br>extent (len: 1): 328<br>intent (len: 3): duration__>=16.5m, contact__cellular, month__dec<br>new extent (len: 1): 328<br>new intent (len: 0): emptyset<br>mean_y_true: 1.0<br>mean_y_pred: 1.0<br>Metrics<br>\\taccuracy: 1.0<br>\\tprecision: 1.0<br>\\trecall: 1.0<br>\\tneg_precision: 0.0<br>\\tneg_recall: 0.0<br><br>\", \"Concept 82<br>extent (len: 14): 3615, 4237, 1485, 1161, 759, 3796, 2357, 2697, 896, 2649,...<br>intent (len: 3): duration__>=5.5m, contact__cellular, month__feb<br>new extent (len: 11): 3615, 2697, 1161, 2357, 1485, 3796, 759, 2649, 3538, 896,...<br>new intent (len: 0): emptyset<br>mean_y_true: 0.5<br>mean_y_pred: 0.21<br>Metrics<br>\\taccuracy: 0.57<br>\\tprecision: 0.67<br>\\trecall: 0.29<br>\\tneg_precision: 0.55<br>\\tneg_recall: 0.86<br><br>\", \"Concept 91<br>extent (len: 4): 1557, 2629, 99, 465<br>intent (len: 2): duration__>=16.5m, month__feb<br>new extent (len: 1): 465<br>new intent (len: 0): emptyset<br>mean_y_true: 0.5<br>mean_y_pred: 0.5<br>Metrics<br>\\taccuracy: 0.5<br>\\tprecision: 0.5<br>\\trecall: 0.5<br>\\tneg_precision: 0.5<br>\\tneg_recall: 0.5<br><br>\", \"Concept 92<br>extent (len: 32): 1876, 3740, 4196, 555, 3033, 3818, 4133, 2168, 3666, 2233,...<br>intent (len: 2): duration__>=16.5m, month__may<br>new extent (len: 0): emptyset<br>new intent (len: 0): emptyset<br>mean_y_true: 0.56<br>mean_y_pred: 0.25<br>Metrics<br>\\taccuracy: 0.56<br>\\tprecision: 0.75<br>\\trecall: 0.33<br>\\tneg_precision: 0.5<br>\\tneg_recall: 0.86<br><br>\", \"Concept 90<br>extent (len: 2): 3889, 328<br>intent (len: 2): duration__>=16.5m, month__dec<br>new extent (len: 1): 3889<br>new intent (len: 0): emptyset<br>mean_y_true: 1.0<br>mean_y_pred: 1.0<br>Metrics<br>\\taccuracy: 1.0<br>\\tprecision: 1.0<br>\\trecall: 1.0<br>\\tneg_precision: 0.0<br>\\tneg_recall: 0.0<br><br>\", \"Concept 97<br>extent (len: 12): 1876, 3740, 4196, 555, 3033, 3818, 4133, 2168, 3666, 2233,...<br>intent (len: 3): duration__>=16.5m, contact__cellular, month__may<br>new extent (len: 12): 3740, 1876, 354, 2233, 4232, 4133, 3818, 555, 2168, 3033,...<br>new intent (len: 0): emptyset<br>mean_y_true: 0.75<br>mean_y_pred: 0.5<br>Metrics<br>\\taccuracy: 0.42<br>\\tprecision: 0.67<br>\\trecall: 0.44<br>\\tneg_precision: 0.17<br>\\tneg_recall: 0.33<br><br>\", \"Concept 11<br>extent (len: 45): 3615, 4237, 1485, 1161, 759, 3796, 2357, 2697, 896, 2649,...<br>intent (len: 2): contact__cellular, month__feb<br>new extent (len: 0): emptyset<br>new intent (len: 0): emptyset<br>mean_y_true: 0.24<br>mean_y_pred: 0.09<br>Metrics<br>\\taccuracy: 0.8<br>\\tprecision: 0.75<br>\\trecall: 0.27<br>\\tneg_precision: 0.8<br>\\tneg_recall: 0.97<br><br>\", \"Concept 8<br>extent (len: 358): 3548, 3471, 3303, 1181, 1730, 1666, 869, 4208, 4169, 177,...<br>intent (len: 1): month__may<br>new extent (len: 0): emptyset<br>new intent (len: 1): month__may<br>mean_y_true: 0.09<br>mean_y_pred: 0.02<br>Metrics<br>\\taccuracy: 0.92<br>\\tprecision: 0.75<br>\\trecall: 0.19<br>\\tneg_precision: 0.93<br>\\tneg_recall: 0.99<br><br>\", \"Concept 86<br>extent (len: 56): 4018, 937, 3964, 315, 4475, 1392, 1612, 2195, 2222, 4449,...<br>intent (len: 3): duration__>=5.5m, contact__unknown, month__may<br>new extent (len: 36): 4449, 308, 937, 2423, 1392, 4450, 1370, 196, 4419, 315,...<br>new intent (len: 0): emptyset<br>mean_y_true: 0.18<br>mean_y_pred: 0.04<br>Metrics<br>\\taccuracy: 0.86<br>\\tprecision: 1.0<br>\\trecall: 0.2<br>\\tneg_precision: 0.85<br>\\tneg_recall: 1.0<br><br>\", \"Concept 85<br>extent (len: 2): 4215, 2963<br>intent (len: 3): duration__>=5.5m, contact__cellular, month__sep<br>new extent (len: 2): 4215, 2963<br>new intent (len: 0): emptyset<br>mean_y_true: 1.0<br>mean_y_pred: 0.5<br>Metrics<br>\\taccuracy: 0.5<br>\\tprecision: 1.0<br>\\trecall: 0.5<br>\\tneg_precision: 0.0<br>\\tneg_recall: 0.0<br><br>\", \"Concept 84<br>extent (len: 5): 1672, 1186, 1437, 803, 4413<br>intent (len: 3): duration__>=5.5m, contact__cellular, month__oct<br>new extent (len: 2): 1672, 1186<br>new intent (len: 0): emptyset<br>mean_y_true: 0.4<br>mean_y_pred: 1.0<br>Metrics<br>\\taccuracy: 0.4<br>\\tprecision: 0.4<br>\\trecall: 1.0<br>\\tneg_precision: 0.0<br>\\tneg_recall: 0.0<br><br>\", \"Concept 83<br>extent (len: 35): 4053, 1345, 3298, 4406, 3920, 721, 3312, 3674, 626, 318,...<br>intent (len: 3): duration__>=5.5m, contact__cellular, month__may<br>new extent (len: 23): 3312, 3298, 3674, 2005, 2765, 1767, 2924, 1330, 764, 3887,...<br>new intent (len: 0): emptyset<br>mean_y_true: 0.43<br>mean_y_pred: 0.17<br>Metrics<br>\\taccuracy: 0.63<br>\\tprecision: 0.67<br>\\trecall: 0.27<br>\\tneg_precision: 0.62<br>\\tneg_recall: 0.9<br><br>\", \"Concept 93<br>extent (len: 8): 3210, 4089, 1047, 1173, 871, 4217, 2653, 2437<br>intent (len: 3): duration__>=16.5m, contact__cellular, month__apr<br>new extent (len: 8): 1047, 4089, 2437, 1173, 3210, 871, 2653, 4217<br>new intent (len: 0): emptyset<br>mean_y_true: 0.5<br>mean_y_pred: 0.62<br>Metrics<br>\\taccuracy: 0.62<br>\\tprecision: 0.6<br>\\trecall: 0.75<br>\\tneg_precision: 0.67<br>\\tneg_recall: 0.5<br><br>\", \"Concept 0<br>extent (len: 1131): 2398, 2288, 4011, 3963, 1222, 2916, 1020, 497, 3825, 151,...<br>intent (len: 0): emptyset<br>new extent (len: 0): emptyset<br>new intent (len: 0): emptyset<br>mean_y_true: 0.11<br>mean_y_pred: 0.08<br>Metrics<br>\\taccuracy: 0.91<br>\\tprecision: 0.6<br>\\trecall: 0.43<br>\\tneg_precision: 0.93<br>\\tneg_recall: 0.96<br><br>\", \"Concept 4<br>extent (len: 1006): 2398, 2288, 4011, 3963, 1222, 2916, 1020, 497, 3825, 151,...<br>intent (len: 1): duration__>=1m<br>new extent (len: 5): 1103, 2378, 1261, 3657, 599<br>new intent (len: 1): duration__>=1m<br>mean_y_true: 0.12<br>mean_y_pred: 0.09<br>Metrics<br>\\taccuracy: 0.89<br>\\tprecision: 0.6<br>\\trecall: 0.44<br>\\tneg_precision: 0.92<br>\\tneg_recall: 0.96<br><br>\"], \"marker\": {\"color\": [0.0205761316872428, 0.3333333333333333, 0.6666666666666666, 0.4, 0.15042735042735042, 0.42857142857142855, 0.11666666666666667, 0.1889763779527559, 0.5, 0.08108108108108109, 0.5714285714285714, 0.0, 0.8, 0.08928571428571429, 0.0975609756097561, 0.1111111111111111, 0.1875, 0.625, 0.5, 0.5, 0.125, 0.012578616352201259, 0.02867383512544803, 0.043010752688172046, 0.6, 0.011363636363636364, 0.01834862385321101, 0.7692307692307693, 0.1295971978984238, 0.631578947368421, 0.14814814814814814, 0.1590909090909091, 0.05217391304347826, 1.0, 0.16666666666666666, 0.03067484662576687, 0.1076923076923077, 0.375, 0.017421602787456445, 0.0, 0.0, 0.0, 0.0851063829787234, 0.11332312404287902, 0.0, 0.3333333333333333, 0.0, 0.02564102564102564, 0.046511627906976744, 0.0, 0.5263157894736842, 0.10321100917431193, 0.0, 0.09523809523809523, 0.0, 0.5454545454545454, 0.24820143884892087, 0.04081632653061224, 0.01015228426395939, 0.0, 0.0, 0.4, 0.08196721311475409, 0.0851063829787234, 0.3333333333333333, 0.5096153846153846, 0.0625, 0.21739130434782608, 0.31666666666666665, 0.24, 0.014792899408284023, 0.0, 0.5217391304347826, 0.3076923076923077, 0.08, 0.10393258426966293, 0.16666666666666666, 0.07246376811594203, \"grey\", 0.1, 0.09333333333333334, 0.6363636363636364, 1.0, 0.6666666666666666, 0.6666666666666666, 1.0, 1.0, 0.21428571428571427, 0.5, 0.25, 1.0, 0.5, 0.08888888888888889, 0.0223463687150838, 0.03571428571428571, 0.5, 1.0, 0.17142857142857143, 0.625, 0.07957559681697612, 0.08946322067594434], \"colorbar\": {\"thickness\": 15, \"title\": {\"side\": \"right\", \"text\": \"Mean Prediction\"}, \"xanchor\": \"left\"}, \"colorscale\": [[0.0, \"rgb(103,0,31)\"], [0.1, \"rgb(178,24,43)\"], [0.2, \"rgb(214,96,77)\"], [0.3, \"rgb(244,165,130)\"], [0.4, \"rgb(253,219,199)\"], [0.5, \"rgb(247,247,247)\"], [0.6, \"rgb(209,229,240)\"], [0.7, \"rgb(146,197,222)\"], [0.8, \"rgb(67,147,195)\"], [0.9, \"rgb(33,102,172)\"], [1.0, \"rgb(5,48,97)\"]], \"line\": {\"width\": 2}, \"reversescale\": true, \"showscale\": true, \"size\": 10}, \"mode\": \"markers+text\", \"text\": [\"<br>n: 29\", \"<br>2848\", \"<br>4141,3013,657\", \"month__dec<br>\", \"duration__>=3m<br>n: 17\", \"<br>\", \"<br>\", \"<br>n: 121\", \"<br>229\", \"<br>n: 39\", \"<br>3877\", \"<br>2042\", \"<br>2750,2821\", \"<br>n: 16\", \"<br>3850,56\", \"<br>n: 12\", \"<br>2499\", \"<br>1158,3527,3425\", \"<br>2932\", \"<br>2908\", \"<br>n: 17\", \"<br>n: 50\", \"<br>676,999\", \"<br>\", \"<br>2266,680,1904\", \"<br>n: 17\", \"<br>n: 53\", \"<br>n: 8\", \"<br>n: 113\", \"<br>1196\", \"<br>4439\", \"<br>969,199\", \"<br>n: 41\", \"<br>3256,2018\", \"<br>n: 10\", \"<br>n: 30\", \"<br>\", \"<br>2918,3541\", \"<br>n: 27\", \"<br>3464,4273,4464\", \"<br>1106\", \"<br>n: 8\", \"<br>\", \"<br>n: 48\", \"<br>1675\", \"month__sep<br>\", \"<br>n: 18\", \"<br>2531,2401\", \"<br>n: 14\", \"<br>3166,3408\", \"<br>903,2451,2417\", \"duration__>=1.5m<br>n: 11\", \"<br>n: 28\", \"<br>n: 6\", \"<br>n: 7\", \"<br>\", \"duration__>=5.5m<br>n: 5\", \"<br>\", \"<br>\", \"<br>n: 30\", \"<br>n: 21\", \"<br>3292,1344,4293,1479\", \"<br>n: 5\", \"<br>1119,3483,2066\", \"<br>166\", \"duration__>=16.5m<br>n: 5\", \"<br>n: 14\", \"<br>n: 15\", \"<br>n: 61\", \"<br>881\", \"contact__unknown<br>\", \"duration__<1m<br>n: 6\", \"month__oct<br>\", \"month__mar<br>\", \"month__feb<br>\", \"contact__cellular<br>\", \"<br>n: 10\", \"<br>\", \"<br>\", \"<br>n: 20\", \"month__apr<br>\", \"<br>n: 38\", \"<br>2258\", \"<br>1912\", \"<br>1557,99,2629\", \"<br>4413,1437,803\", \"<br>328\", \"<br>n: 11\", \"<br>465\", \"<br>\", \"<br>3889\", \"<br>n: 12\", \"<br>\", \"month__may<br>\", \"<br>n: 36\", \"<br>4215,2963\", \"<br>1672,1186\", \"<br>n: 23\", \"<br>n: 8\", \"<br>\", \"duration__>=1m<br>n: 5\"], \"textposition\": \"middle right\", \"type\": \"scatter\", \"x\": [-4.0, 3.0, 7.0, 7.0, 4.0, 8.0, 2.0, 1.0, 4.0, -4.5, 10.0, -8.0, 8.0, -3.0, 1.0, -2.0, -0.5, 6.0, 2.5, 5.0, -2.5, -7.0, -3.0, -5.0, 4.5, -5.0, -6.5, 5.5, 3.0, 11.0, -1.0, 0.0, -4.0, 6.5, -1.5, -6.0, 4.0, 5.0, -3.0, -10.0, -6.0, -11.0, 1.0, 5.0, -8.0, 7.0, -9.0, -2.0, -2.0, -6.0, 9.0, 3.0, -7.0, 0.0, -5.0, 8.0, 2.0, -1.0, -4.0, -8.0, -7.0, 6.0, -1.0, -3.5, 6.0, 3.5, -5.5, -1.5, 1.5, 0.5, -3.0, -4.0, 4.0, 3.0, -1.0, 2.0, -4.5, 0.0, 0.0, -3.0, 1.0, 2.5, 2.0, 3.5, 0.0, 3.0, 1.0, -2.5, 1.5, -0.5, 5.5, -2.0, 2.0, -2.0, -5.5, 0.5, 4.5, -3.5, -1.0, 0.0, 0.0], \"y\": [6, 5, 5, 6, 6, 6, 6, 5, 5, 4, 6, 5, 5, 5, 6, 5, 4, 5, 4, 5, 4, 5, 6, 5, 4, 6, 4, 4, 6, 6, 5, 5, 5, 4, 4, 5, 7, 6, 7, 6, 6, 6, 7, 7, 6, 7, 6, 7, 6, 7, 6, 7, 7, 6, 7, 7, 5, 7, 7, 7, 6, 6, 6, 4, 7, 4, 4, 3, 4, 4, 8, 8, 8, 8, 8, 8, 3, 7, 1, 2, 8, 3, 2, 3, 2, 2, 2, 3, 3, 3, 3, 2, 7, 8, 3, 3, 3, 3, 2, 9, 8]}],\n",
       "                        {\"height\": 500, \"hovermode\": \"closest\", \"margin\": {\"b\": 20, \"l\": 5, \"r\": 5, \"t\": 40}, \"showlegend\": false, \"template\": {\"data\": {\"bar\": [{\"error_x\": {\"color\": \"#2a3f5f\"}, \"error_y\": {\"color\": \"#2a3f5f\"}, \"marker\": {\"line\": {\"color\": \"#E5ECF6\", \"width\": 0.5}}, \"type\": \"bar\"}], \"barpolar\": [{\"marker\": {\"line\": {\"color\": \"#E5ECF6\", \"width\": 0.5}}, \"type\": \"barpolar\"}], \"carpet\": [{\"aaxis\": {\"endlinecolor\": \"#2a3f5f\", \"gridcolor\": \"white\", \"linecolor\": \"white\", \"minorgridcolor\": \"white\", \"startlinecolor\": \"#2a3f5f\"}, \"baxis\": {\"endlinecolor\": \"#2a3f5f\", \"gridcolor\": \"white\", \"linecolor\": \"white\", \"minorgridcolor\": \"white\", \"startlinecolor\": \"#2a3f5f\"}, \"type\": \"carpet\"}], \"choropleth\": [{\"colorbar\": {\"outlinewidth\": 0, \"ticks\": \"\"}, \"type\": \"choropleth\"}], \"contour\": [{\"colorbar\": {\"outlinewidth\": 0, \"ticks\": \"\"}, \"colorscale\": [[0.0, \"#0d0887\"], [0.1111111111111111, \"#46039f\"], [0.2222222222222222, \"#7201a8\"], [0.3333333333333333, \"#9c179e\"], [0.4444444444444444, \"#bd3786\"], [0.5555555555555556, \"#d8576b\"], [0.6666666666666666, \"#ed7953\"], [0.7777777777777778, \"#fb9f3a\"], [0.8888888888888888, \"#fdca26\"], [1.0, \"#f0f921\"]], \"type\": \"contour\"}], \"contourcarpet\": [{\"colorbar\": {\"outlinewidth\": 0, \"ticks\": \"\"}, \"type\": \"contourcarpet\"}], \"heatmap\": [{\"colorbar\": {\"outlinewidth\": 0, \"ticks\": \"\"}, \"colorscale\": [[0.0, \"#0d0887\"], [0.1111111111111111, \"#46039f\"], [0.2222222222222222, \"#7201a8\"], [0.3333333333333333, \"#9c179e\"], [0.4444444444444444, \"#bd3786\"], [0.5555555555555556, \"#d8576b\"], [0.6666666666666666, \"#ed7953\"], [0.7777777777777778, \"#fb9f3a\"], [0.8888888888888888, \"#fdca26\"], [1.0, \"#f0f921\"]], \"type\": \"heatmap\"}], \"heatmapgl\": [{\"colorbar\": {\"outlinewidth\": 0, \"ticks\": \"\"}, \"colorscale\": [[0.0, \"#0d0887\"], [0.1111111111111111, \"#46039f\"], [0.2222222222222222, \"#7201a8\"], [0.3333333333333333, \"#9c179e\"], [0.4444444444444444, \"#bd3786\"], [0.5555555555555556, \"#d8576b\"], [0.6666666666666666, \"#ed7953\"], [0.7777777777777778, \"#fb9f3a\"], [0.8888888888888888, \"#fdca26\"], [1.0, \"#f0f921\"]], \"type\": \"heatmapgl\"}], \"histogram\": [{\"marker\": {\"colorbar\": {\"outlinewidth\": 0, \"ticks\": \"\"}}, \"type\": \"histogram\"}], \"histogram2d\": [{\"colorbar\": {\"outlinewidth\": 0, \"ticks\": \"\"}, \"colorscale\": [[0.0, \"#0d0887\"], [0.1111111111111111, \"#46039f\"], [0.2222222222222222, \"#7201a8\"], [0.3333333333333333, \"#9c179e\"], [0.4444444444444444, \"#bd3786\"], [0.5555555555555556, \"#d8576b\"], [0.6666666666666666, \"#ed7953\"], [0.7777777777777778, \"#fb9f3a\"], [0.8888888888888888, \"#fdca26\"], [1.0, \"#f0f921\"]], \"type\": \"histogram2d\"}], \"histogram2dcontour\": [{\"colorbar\": {\"outlinewidth\": 0, \"ticks\": \"\"}, \"colorscale\": [[0.0, \"#0d0887\"], [0.1111111111111111, \"#46039f\"], [0.2222222222222222, \"#7201a8\"], [0.3333333333333333, \"#9c179e\"], [0.4444444444444444, \"#bd3786\"], [0.5555555555555556, \"#d8576b\"], [0.6666666666666666, \"#ed7953\"], [0.7777777777777778, \"#fb9f3a\"], [0.8888888888888888, \"#fdca26\"], [1.0, \"#f0f921\"]], \"type\": \"histogram2dcontour\"}], \"mesh3d\": [{\"colorbar\": {\"outlinewidth\": 0, \"ticks\": \"\"}, \"type\": \"mesh3d\"}], \"parcoords\": [{\"line\": {\"colorbar\": {\"outlinewidth\": 0, \"ticks\": \"\"}}, \"type\": \"parcoords\"}], \"pie\": [{\"automargin\": true, \"type\": \"pie\"}], \"scatter\": [{\"marker\": {\"colorbar\": {\"outlinewidth\": 0, \"ticks\": \"\"}}, \"type\": \"scatter\"}], \"scatter3d\": [{\"line\": {\"colorbar\": {\"outlinewidth\": 0, \"ticks\": \"\"}}, \"marker\": {\"colorbar\": {\"outlinewidth\": 0, \"ticks\": \"\"}}, \"type\": \"scatter3d\"}], \"scattercarpet\": [{\"marker\": {\"colorbar\": {\"outlinewidth\": 0, \"ticks\": \"\"}}, \"type\": \"scattercarpet\"}], \"scattergeo\": [{\"marker\": {\"colorbar\": {\"outlinewidth\": 0, \"ticks\": \"\"}}, \"type\": \"scattergeo\"}], \"scattergl\": [{\"marker\": {\"colorbar\": {\"outlinewidth\": 0, \"ticks\": \"\"}}, \"type\": \"scattergl\"}], \"scattermapbox\": [{\"marker\": {\"colorbar\": {\"outlinewidth\": 0, \"ticks\": \"\"}}, \"type\": \"scattermapbox\"}], \"scatterpolar\": [{\"marker\": {\"colorbar\": {\"outlinewidth\": 0, \"ticks\": \"\"}}, \"type\": \"scatterpolar\"}], \"scatterpolargl\": [{\"marker\": {\"colorbar\": {\"outlinewidth\": 0, \"ticks\": \"\"}}, \"type\": \"scatterpolargl\"}], \"scatterternary\": [{\"marker\": {\"colorbar\": {\"outlinewidth\": 0, \"ticks\": \"\"}}, \"type\": \"scatterternary\"}], \"surface\": [{\"colorbar\": {\"outlinewidth\": 0, \"ticks\": \"\"}, \"colorscale\": [[0.0, \"#0d0887\"], [0.1111111111111111, \"#46039f\"], [0.2222222222222222, \"#7201a8\"], [0.3333333333333333, \"#9c179e\"], [0.4444444444444444, \"#bd3786\"], [0.5555555555555556, \"#d8576b\"], [0.6666666666666666, \"#ed7953\"], [0.7777777777777778, \"#fb9f3a\"], [0.8888888888888888, \"#fdca26\"], [1.0, \"#f0f921\"]], \"type\": \"surface\"}], \"table\": [{\"cells\": {\"fill\": {\"color\": \"#EBF0F8\"}, \"line\": {\"color\": \"white\"}}, \"header\": {\"fill\": {\"color\": \"#C8D4E3\"}, \"line\": {\"color\": \"white\"}}, \"type\": \"table\"}]}, \"layout\": {\"annotationdefaults\": {\"arrowcolor\": \"#2a3f5f\", \"arrowhead\": 0, \"arrowwidth\": 1}, \"coloraxis\": {\"colorbar\": {\"outlinewidth\": 0, \"ticks\": \"\"}}, \"colorscale\": {\"diverging\": [[0, \"#8e0152\"], [0.1, \"#c51b7d\"], [0.2, \"#de77ae\"], [0.3, \"#f1b6da\"], [0.4, \"#fde0ef\"], [0.5, \"#f7f7f7\"], [0.6, \"#e6f5d0\"], [0.7, \"#b8e186\"], [0.8, \"#7fbc41\"], [0.9, \"#4d9221\"], [1, \"#276419\"]], \"sequential\": [[0.0, \"#0d0887\"], [0.1111111111111111, \"#46039f\"], [0.2222222222222222, \"#7201a8\"], [0.3333333333333333, \"#9c179e\"], [0.4444444444444444, \"#bd3786\"], [0.5555555555555556, \"#d8576b\"], [0.6666666666666666, \"#ed7953\"], [0.7777777777777778, \"#fb9f3a\"], [0.8888888888888888, \"#fdca26\"], [1.0, \"#f0f921\"]], \"sequentialminus\": [[0.0, \"#0d0887\"], [0.1111111111111111, \"#46039f\"], [0.2222222222222222, \"#7201a8\"], [0.3333333333333333, \"#9c179e\"], [0.4444444444444444, \"#bd3786\"], [0.5555555555555556, \"#d8576b\"], [0.6666666666666666, \"#ed7953\"], [0.7777777777777778, \"#fb9f3a\"], [0.8888888888888888, \"#fdca26\"], [1.0, \"#f0f921\"]]}, \"colorway\": [\"#636efa\", \"#EF553B\", \"#00cc96\", \"#ab63fa\", \"#FFA15A\", \"#19d3f3\", \"#FF6692\", \"#B6E880\", \"#FF97FF\", \"#FECB52\"], \"font\": {\"color\": \"#2a3f5f\"}, \"geo\": {\"bgcolor\": \"white\", \"lakecolor\": \"white\", \"landcolor\": \"#E5ECF6\", \"showlakes\": true, \"showland\": true, \"subunitcolor\": \"white\"}, \"hoverlabel\": {\"align\": \"left\"}, \"hovermode\": \"closest\", \"mapbox\": {\"style\": \"light\"}, \"paper_bgcolor\": \"white\", \"plot_bgcolor\": \"#E5ECF6\", \"polar\": {\"angularaxis\": {\"gridcolor\": \"white\", \"linecolor\": \"white\", \"ticks\": \"\"}, \"bgcolor\": \"#E5ECF6\", \"radialaxis\": {\"gridcolor\": \"white\", \"linecolor\": \"white\", \"ticks\": \"\"}}, \"scene\": {\"xaxis\": {\"backgroundcolor\": \"#E5ECF6\", \"gridcolor\": \"white\", \"gridwidth\": 2, \"linecolor\": \"white\", \"showbackground\": true, \"ticks\": \"\", \"zerolinecolor\": \"white\"}, \"yaxis\": {\"backgroundcolor\": \"#E5ECF6\", \"gridcolor\": \"white\", \"gridwidth\": 2, \"linecolor\": \"white\", \"showbackground\": true, \"ticks\": \"\", \"zerolinecolor\": \"white\"}, \"zaxis\": {\"backgroundcolor\": \"#E5ECF6\", \"gridcolor\": \"white\", \"gridwidth\": 2, \"linecolor\": \"white\", \"showbackground\": true, \"ticks\": \"\", \"zerolinecolor\": \"white\"}}, \"shapedefaults\": {\"line\": {\"color\": \"#2a3f5f\"}}, \"ternary\": {\"aaxis\": {\"gridcolor\": \"white\", \"linecolor\": \"white\", \"ticks\": \"\"}, \"baxis\": {\"gridcolor\": \"white\", \"linecolor\": \"white\", \"ticks\": \"\"}, \"bgcolor\": \"#E5ECF6\", \"caxis\": {\"gridcolor\": \"white\", \"linecolor\": \"white\", \"ticks\": \"\"}}, \"title\": {\"x\": 0.05}, \"xaxis\": {\"automargin\": true, \"gridcolor\": \"white\", \"linecolor\": \"white\", \"ticks\": \"\", \"title\": {\"standoff\": 15}, \"zerolinecolor\": \"white\", \"zerolinewidth\": 2}, \"yaxis\": {\"automargin\": true, \"gridcolor\": \"white\", \"linecolor\": \"white\", \"ticks\": \"\", \"title\": {\"standoff\": 15}, \"zerolinecolor\": \"white\", \"zerolinewidth\": 2}}}, \"title\": {\"font\": {\"size\": 16}, \"text\": \"Bank Dataset Concept Lattice\"}, \"width\": 1000, \"xaxis\": {\"showgrid\": false, \"showticklabels\": false, \"zeroline\": false}, \"yaxis\": {\"showgrid\": false, \"showticklabels\": false, \"zeroline\": false}},\n",
       "                        {\"responsive\": true}\n",
       "                    ).then(function(){\n",
       "                            \n",
       "var gd = document.getElementById('40a8c48b-1ea9-4385-9d5f-1b0af47654ae');\n",
       "var x = new MutationObserver(function (mutations, observer) {{\n",
       "        var display = window.getComputedStyle(gd).display;\n",
       "        if (!display || display === 'none') {{\n",
       "            console.log([gd, 'removed!']);\n",
       "            Plotly.purge(gd);\n",
       "            observer.disconnect();\n",
       "        }}\n",
       "}});\n",
       "\n",
       "// Listen for the removal of the full notebook cells\n",
       "var notebookContainer = gd.closest('#notebook-container');\n",
       "if (notebookContainer) {{\n",
       "    x.observe(notebookContainer, {childList: true});\n",
       "}}\n",
       "\n",
       "// Listen for the clearing of the current output cell\n",
       "var outputEl = gd.closest('.output');\n",
       "if (outputEl) {{\n",
       "    x.observe(outputEl, {childList: true});\n",
       "}}\n",
       "\n",
       "                        })\n",
       "                };\n",
       "                });\n",
       "            </script>\n",
       "        </div>"
      ]
     },
     "metadata": {},
     "output_type": "display_data"
    }
   ],
   "source": [
    "fig.show()"
   ]
  },
  {
   "cell_type": "code",
   "execution_count": 566,
   "metadata": {},
   "outputs": [],
   "source": [
    "delete_all_lower_neighbs_downwise(fm_bank)"
   ]
  },
  {
   "cell_type": "code",
   "execution_count": 567,
   "metadata": {},
   "outputs": [],
   "source": [
    "delete_nocontrib_concepts(fm_bank, conj_form=True, eps=0.05)"
   ]
  },
  {
   "cell_type": "code",
   "execution_count": 570,
   "metadata": {},
   "outputs": [],
   "source": [
    "improv_metric = 'y_pred'\n",
    "to_see = range(len(fm_bank._concepts)-1,0,-1)\n",
    "for c_id in to_see:\n",
    "    c = fm_bank.get_concept_by_id(c_id)\n",
    "    if len(c.get_extent())==0:\n",
    "        fm_bank.delete_concept(c_id)\n",
    "        continue\n",
    "\n",
    "    lns = c._low_neighbs\n",
    "    c_val = dict({'y_true':c._y_true_mean, 'y_pred':c._y_pred_mean}, **c._metrics)[improv_metric]\n",
    "    if len(lns)==0 and c_val not in [0,1]:\n",
    "        fm_bank.delete_concept(c_id)\n",
    "fm_bank.construct_lattice()"
   ]
  },
  {
   "cell_type": "code",
   "execution_count": 573,
   "metadata": {},
   "outputs": [],
   "source": [
    "fig = fm_bank.get_plotly_fig(level_sort='all', sort_by='y_pred',\n",
    "                        y_precision=2, title='Bank Dataset Concept Lattice', cbar_title='Mean Prediction',\n",
    "                        color_by='y_pred',)"
   ]
  },
  {
   "cell_type": "code",
   "execution_count": 574,
   "metadata": {},
   "outputs": [
    {
     "data": {
      "application/vnd.plotly.v1+json": {
       "config": {
        "plotlyServerURL": "https://plot.ly"
       },
       "data": [
        {
         "hoverinfo": "none",
         "line": {
          "color": "#888",
          "width": 0.5
         },
         "mode": "lines",
         "type": "scatter",
         "x": [
          0,
          -0.5,
          null,
          0,
          0.5,
          null,
          1.5,
          2.5,
          null,
          1.5,
          -0.5,
          null,
          1.5,
          0,
          null,
          0.5,
          -0.5,
          null,
          1,
          0.5,
          null,
          1,
          1.5,
          null,
          1.5,
          3.5,
          null,
          -0.5,
          -1.5,
          null,
          0.5,
          0,
          null,
          -1.5,
          2.5,
          null,
          -1.5,
          -2.5,
          null,
          -1.5,
          0,
          null,
          -1.5,
          -0.5,
          null,
          2.5,
          2.5,
          null,
          2.5,
          0,
          null,
          -2.5,
          -1,
          null,
          -2.5,
          0.5,
          null,
          -3.5,
          0,
          null,
          3.5,
          0,
          null,
          -0.5,
          0,
          null,
          -2.5,
          -1,
          null,
          -2.5,
          0,
          null
         ],
         "y": [
          2,
          1,
          null,
          2,
          3,
          null,
          4,
          3,
          null,
          4,
          3,
          null,
          4,
          5,
          null,
          3,
          4,
          null,
          2,
          1,
          null,
          2,
          3,
          null,
          3,
          4,
          null,
          1,
          3,
          null,
          4,
          5,
          null,
          4,
          3,
          null,
          4,
          3,
          null,
          4,
          5,
          null,
          3,
          4,
          null,
          4,
          3,
          null,
          4,
          5,
          null,
          3,
          2,
          null,
          3,
          1,
          null,
          4,
          5,
          null,
          4,
          5,
          null,
          4,
          5,
          null,
          4,
          2,
          null,
          4,
          5,
          null
         ]
        },
        {
         "hoverinfo": "text",
         "hovertext": [
          "Concept 15<br>extent (len: 6): 4141, 3013, 657, 2258, 3256, 2018<br>intent (len: 3): duration__>=1.5m, contact__cellular, month__mar<br>new extent (len: 3): 4141, 3013, 657<br>new intent (len: 1): contact__cellular<br>mean_y_true: 0.33<br>mean_y_pred: 0.67<br>Metrics<br>\taccuracy: 0.33<br>\tprecision: 0.25<br>\trecall: 0.5<br>\tneg_precision: 0.5<br>\tneg_recall: 0.25<br><br>",
          "Concept 7<br>extent (len: 5): 3889, 2932, 328, 2908, 2848<br>intent (len: 2): duration__>=1.5m, month__dec<br>new extent (len: 1): 2848<br>new intent (len: 2): duration__>=1.5m, month__dec<br>mean_y_true: 0.4<br>mean_y_pred: 0.4<br>Metrics<br>\taccuracy: 1.0<br>\tprecision: 1.0<br>\trecall: 1.0<br>\tneg_precision: 1.0<br>\tneg_recall: 1.0<br><br>",
          "Concept 8<br>extent (len: 7): 4141, 3013, 657, 2258, 3256, 2018, 3877<br>intent (len: 2): duration__>=1.5m, month__mar<br>new extent (len: 1): 3877<br>new intent (len: 1): duration__>=1.5m<br>mean_y_true: 0.29<br>mean_y_pred: 0.57<br>Metrics<br>\taccuracy: 0.43<br>\tprecision: 0.25<br>\trecall: 0.5<br>\tneg_precision: 0.67<br>\tneg_recall: 0.4<br><br>",
          "Concept 13<br>extent (len: 15): 3700, 4423, 61, 3315, 3701, 1113, 2685, 2213, 2750, 2821,...<br>intent (len: 2): duration__>=3m, month__oct<br>new extent (len: 10): 3315, 1113, 2821, 2213, 2685, 3701, 3700, 61, 2750, 4423<br>new intent (len: 1): duration__>=3m<br>mean_y_true: 0.47<br>mean_y_pred: 0.8<br>Metrics<br>\taccuracy: 0.4<br>\tprecision: 0.42<br>\trecall: 0.71<br>\tneg_precision: 0.33<br>\tneg_recall: 0.12<br><br>",
          "Concept 12<br>extent (len: 4): 3889, 2932, 328, 2908<br>intent (len: 2): duration__>=3m, month__dec<br>new extent (len: 4): 328, 2932, 3889, 2908<br>new intent (len: 1): duration__>=3m<br>mean_y_true: 0.5<br>mean_y_pred: 0.5<br>Metrics<br>\taccuracy: 1.0<br>\tprecision: 1.0<br>\trecall: 1.0<br>\tneg_precision: 1.0<br>\tneg_recall: 1.0<br><br>",
          "Concept 9<br>extent (len: 19): 3700, 4423, 61, 3315, 3701, 1113, 2685, 2213, 1196, 2750,...<br>intent (len: 2): duration__>=1.5m, month__oct<br>new extent (len: 4): 1196, 1158, 3527, 3425<br>new intent (len: 1): duration__>=1.5m<br>mean_y_true: 0.42<br>mean_y_pred: 0.63<br>Metrics<br>\taccuracy: 0.47<br>\tprecision: 0.42<br>\trecall: 0.62<br>\tneg_precision: 0.57<br>\tneg_recall: 0.36<br><br>",
          "Concept 17<br>extent (len: 3): 2258, 3256, 2018<br>intent (len: 3): duration__>=3m, contact__cellular, month__mar<br>new extent (len: 3): 2258, 3256, 2018<br>new intent (len: 1): duration__>=3m<br>mean_y_true: 0.33<br>mean_y_pred: 1.0<br>Metrics<br>\taccuracy: 0.33<br>\tprecision: 0.33<br>\trecall: 1.0<br>\tneg_precision: 0.0<br>\tneg_recall: 0.0<br><br>",
          "Concept 11<br>extent (len: 9): 3541, 2918, 2266, 680, 1904, 4215, 2963, 2042, 229<br>intent (len: 2): duration__>=1m, month__sep<br>new extent (len: 9): 2918, 680, 2963, 3541, 4215, 2266, 2042, 1904, 229<br>new intent (len: 2): duration__>=1m, month__sep<br>mean_y_true: 0.33<br>mean_y_pred: 0.33<br>Metrics<br>\taccuracy: 0.78<br>\tprecision: 0.67<br>\trecall: 0.67<br>\tneg_precision: 0.83<br>\tneg_recall: 0.83<br><br>",
          "Concept 3<br>extent (len: 278): 800, 3819, 1918, 3855, 2078, 468, 1552, 3036, 296, 109,...<br>intent (len: 1): duration__>=5.5m<br>new extent (len: 97): 4449, 3372, 1370, 3091, 1407, 465, 4072, 1723, 4511, 2688,...<br>new intent (len: 1): duration__>=5.5m<br>mean_y_true: 0.3<br>mean_y_pred: 0.25<br>Metrics<br>\taccuracy: 0.74<br>\tprecision: 0.58<br>\trecall: 0.48<br>\tneg_precision: 0.79<br>\tneg_recall: 0.85<br><br>",
          "Concept 16<br>extent (len: 10): 4141, 3013, 657, 3292, 4293, 1344, 1479, 2258, 3256, 2018<br>intent (len: 3): duration__>=1m, contact__cellular, month__mar<br>new extent (len: 7): 1344, 4141, 3013, 3292, 4293, 1479, 657<br>new intent (len: 2): contact__cellular, duration__>=1m<br>mean_y_true: 0.3<br>mean_y_pred: 0.4<br>Metrics<br>\taccuracy: 0.5<br>\tprecision: 0.25<br>\trecall: 0.33<br>\tneg_precision: 0.67<br>\tneg_recall: 0.57<br><br>",
          "Concept 2<br>extent (len: 104): 3614, 415, 4077, 2481, 1192, 33, 1896, 51, 1553, 429,...<br>intent (len: 1): duration__>=16.5m<br>new extent (len: 102): 80, 1738, 3463, 4089, 203, 3873, 2211, 3091, 2775, 1407,...<br>new intent (len: 1): duration__>=16.5m<br>mean_y_true: 0.46<br>mean_y_pred: 0.51<br>Metrics<br>\taccuracy: 0.61<br>\tprecision: 0.57<br>\trecall: 0.62<br>\tneg_precision: 0.65<br>\tneg_recall: 0.59<br><br>",
          "Concept 14<br>extent (len: 180): 800, 3819, 1918, 3855, 2078, 468, 1552, 3036, 296, 109,...<br>intent (len: 2): duration__>=5.5m, contact__cellular<br>new extent (len: 140): 80, 2639, 1738, 3463, 203, 4089, 2211, 1436, 486, 3589,...<br>new intent (len: 1): contact__cellular<br>mean_y_true: 0.35<br>mean_y_pred: 0.32<br>Metrics<br>\taccuracy: 0.69<br>\tprecision: 0.56<br>\trecall: 0.51<br>\tneg_precision: 0.75<br>\tneg_recall: 0.79<br><br>",
          "Concept 1<br>extent (len: 125): 3134, 3214, 4374, 3671, 3326, 833, 4440, 3597, 2103, 4308,...<br>intent (len: 1): duration__<1m<br>new extent (len: 125): 3713, 2978, 1995, 596, 3988, 3462, 8, 2673, 538, 4464,...<br>new intent (len: 1): duration__<1m<br>mean_y_true: 0.01<br>mean_y_pred: 0.0<br>Metrics<br>\taccuracy: 0.99<br>\tprecision: 0.0<br>\trecall: 0.0<br>\tneg_precision: 0.99<br>\tneg_recall: 1.0<br><br>",
          "Concept 6<br>extent (len: 23): 3700, 4423, 61, 3315, 3701, 1113, 2685, 2213, 1196, 2750,...<br>intent (len: 1): month__oct<br>new extent (len: 4): 903, 1106, 2451, 2417<br>new intent (len: 1): month__oct<br>mean_y_true: 0.35<br>mean_y_pred: 0.52<br>Metrics<br>\taccuracy: 0.57<br>\tprecision: 0.42<br>\trecall: 0.62<br>\tneg_precision: 0.73<br>\tneg_recall: 0.53<br><br>",
          "Concept 4<br>extent (len: 13): 4141, 3013, 657, 3292, 4293, 1344, 1479, 1675, 166, 2258,...<br>intent (len: 1): month__mar<br>new extent (len: 2): 1675, 166<br>new intent (len: 1): month__mar<br>mean_y_true: 0.23<br>mean_y_pred: 0.31<br>Metrics<br>\taccuracy: 0.62<br>\tprecision: 0.25<br>\trecall: 0.33<br>\tneg_precision: 0.78<br>\tneg_recall: 0.7<br><br>",
          "Concept 10<br>extent (len: 2): 3889, 328<br>intent (len: 2): duration__>=16.5m, month__dec<br>new extent (len: 2): 328, 3889<br>new intent (len: 0): emptyset<br>mean_y_true: 1.0<br>mean_y_pred: 1.0<br>Metrics<br>\taccuracy: 1.0<br>\tprecision: 1.0<br>\trecall: 1.0<br>\tneg_precision: 0.0<br>\tneg_recall: 0.0<br><br>",
          "Concept 5<br>extent (len: 358): 3548, 3471, 3303, 1181, 1730, 1666, 869, 4208, 4169, 177,...<br>intent (len: 1): month__may<br>new extent (len: 323): 2528, 3259, 26, 2495, 2978, 471, 3091, 2784, 3401, 3858,...<br>new intent (len: 1): month__may<br>mean_y_true: 0.09<br>mean_y_pred: 0.02<br>Metrics<br>\taccuracy: 0.92<br>\tprecision: 0.75<br>\trecall: 0.19<br>\tneg_precision: 0.93<br>\tneg_recall: 0.99<br><br>",
          "Concept 19<br>extent (len: 5): 1672, 1186, 1437, 803, 4413<br>intent (len: 3): duration__>=5.5m, contact__cellular, month__oct<br>new extent (len: 5): 4413, 1437, 1672, 1186, 803<br>new intent (len: 0): emptyset<br>mean_y_true: 0.4<br>mean_y_pred: 1.0<br>Metrics<br>\taccuracy: 0.4<br>\tprecision: 0.4<br>\trecall: 1.0<br>\tneg_precision: 0.0<br>\tneg_recall: 0.0<br><br>",
          "Concept 18<br>extent (len: 35): 4053, 1345, 3298, 4406, 3920, 721, 3312, 3674, 626, 318,...<br>intent (len: 3): duration__>=5.5m, contact__cellular, month__may<br>new extent (len: 35): 3312, 3298, 3674, 2005, 4232, 2233, 2765, 555, 3033, 1767,...<br>new intent (len: 0): emptyset<br>mean_y_true: 0.43<br>mean_y_pred: 0.17<br>Metrics<br>\taccuracy: 0.63<br>\tprecision: 0.67<br>\trecall: 0.27<br>\tneg_precision: 0.62<br>\tneg_recall: 0.9<br><br>",
          "Concept 0<br>extent (len: 1131): 2398, 2288, 4011, 3963, 1222, 2916, 1020, 497, 3825, 151,...<br>intent (len: 0): emptyset<br>new extent (len: 472): 3111, 1393, 3235, 1815, 2589, 4452, 2339, 393, 263, 527,...<br>new intent (len: 0): emptyset<br>mean_y_true: 0.11<br>mean_y_pred: 0.08<br>Metrics<br>\taccuracy: 0.91<br>\tprecision: 0.6<br>\trecall: 0.43<br>\tneg_precision: 0.93<br>\tneg_recall: 0.96<br><br>"
         ],
         "marker": {
          "color": [
           0.6666666666666666,
           0.4,
           0.5714285714285714,
           0.8,
           0.5,
           0.631578947368421,
           1,
           0.3333333333333333,
           0.24820143884892087,
           0.4,
           0.5096153846153846,
           0.31666666666666665,
           0,
           0.5217391304347826,
           0.3076923076923077,
           1,
           0.0223463687150838,
           1,
           0.17142857142857143,
           0.07957559681697612
          ],
          "colorbar": {
           "thickness": 15,
           "title": {
            "side": "right",
            "text": "Mean Prediction"
           },
           "xanchor": "left"
          },
          "colorscale": [
           [
            0,
            "rgb(103,0,31)"
           ],
           [
            0.1,
            "rgb(178,24,43)"
           ],
           [
            0.2,
            "rgb(214,96,77)"
           ],
           [
            0.3,
            "rgb(244,165,130)"
           ],
           [
            0.4,
            "rgb(253,219,199)"
           ],
           [
            0.5,
            "rgb(247,247,247)"
           ],
           [
            0.6,
            "rgb(209,229,240)"
           ],
           [
            0.7,
            "rgb(146,197,222)"
           ],
           [
            0.8,
            "rgb(67,147,195)"
           ],
           [
            0.9,
            "rgb(33,102,172)"
           ],
           [
            1,
            "rgb(5,48,97)"
           ]
          ],
          "line": {
           "width": 2
          },
          "reversescale": true,
          "showscale": true,
          "size": 10
         },
         "mode": "markers+text",
         "text": [
          "contact__cellular<br>4141,3013,657",
          "duration__>=1.5m,month__dec<br>2848",
          "duration__>=1.5m<br>3877",
          "duration__>=3m<br>n: 10",
          "duration__>=3m<br>328,2932,3889,2908",
          "duration__>=1.5m<br>1196,1158,3527,3425",
          "duration__>=3m<br>2258,3256,2018",
          "duration__>=1m,month__sep<br>n: 9",
          "duration__>=5.5m<br>n: 97",
          "contact__cellular,duration__>=1m<br>n: 7",
          "duration__>=16.5m<br>n: 102",
          "contact__cellular<br>n: 140",
          "duration__<1m<br>n: 125",
          "month__oct<br>903,1106,2451,2417",
          "month__mar<br>1675,166",
          "<br>328,3889",
          "month__may<br>n: 323",
          "<br>n: 5",
          "<br>n: 35",
          "<br>n: 472"
         ],
         "textposition": "middle right",
         "type": "scatter",
         "x": [
          0,
          1.5,
          0.5,
          1,
          -0.5,
          1.5,
          -0.5,
          0.5,
          -1.5,
          -1.5,
          2.5,
          -2.5,
          -3.5,
          3.5,
          -0.5,
          2.5,
          -2.5,
          0.5,
          -1,
          0
         ],
         "y": [
          2,
          4,
          3,
          2,
          3,
          3,
          1,
          4,
          4,
          3,
          4,
          3,
          4,
          4,
          4,
          3,
          4,
          1,
          2,
          5
         ]
        }
       ],
       "layout": {
        "height": 500,
        "hovermode": "closest",
        "margin": {
         "b": 20,
         "l": 5,
         "r": 5,
         "t": 40
        },
        "showlegend": false,
        "template": {
         "data": {
          "bar": [
           {
            "error_x": {
             "color": "#2a3f5f"
            },
            "error_y": {
             "color": "#2a3f5f"
            },
            "marker": {
             "line": {
              "color": "#E5ECF6",
              "width": 0.5
             }
            },
            "type": "bar"
           }
          ],
          "barpolar": [
           {
            "marker": {
             "line": {
              "color": "#E5ECF6",
              "width": 0.5
             }
            },
            "type": "barpolar"
           }
          ],
          "carpet": [
           {
            "aaxis": {
             "endlinecolor": "#2a3f5f",
             "gridcolor": "white",
             "linecolor": "white",
             "minorgridcolor": "white",
             "startlinecolor": "#2a3f5f"
            },
            "baxis": {
             "endlinecolor": "#2a3f5f",
             "gridcolor": "white",
             "linecolor": "white",
             "minorgridcolor": "white",
             "startlinecolor": "#2a3f5f"
            },
            "type": "carpet"
           }
          ],
          "choropleth": [
           {
            "colorbar": {
             "outlinewidth": 0,
             "ticks": ""
            },
            "type": "choropleth"
           }
          ],
          "contour": [
           {
            "colorbar": {
             "outlinewidth": 0,
             "ticks": ""
            },
            "colorscale": [
             [
              0,
              "#0d0887"
             ],
             [
              0.1111111111111111,
              "#46039f"
             ],
             [
              0.2222222222222222,
              "#7201a8"
             ],
             [
              0.3333333333333333,
              "#9c179e"
             ],
             [
              0.4444444444444444,
              "#bd3786"
             ],
             [
              0.5555555555555556,
              "#d8576b"
             ],
             [
              0.6666666666666666,
              "#ed7953"
             ],
             [
              0.7777777777777778,
              "#fb9f3a"
             ],
             [
              0.8888888888888888,
              "#fdca26"
             ],
             [
              1,
              "#f0f921"
             ]
            ],
            "type": "contour"
           }
          ],
          "contourcarpet": [
           {
            "colorbar": {
             "outlinewidth": 0,
             "ticks": ""
            },
            "type": "contourcarpet"
           }
          ],
          "heatmap": [
           {
            "colorbar": {
             "outlinewidth": 0,
             "ticks": ""
            },
            "colorscale": [
             [
              0,
              "#0d0887"
             ],
             [
              0.1111111111111111,
              "#46039f"
             ],
             [
              0.2222222222222222,
              "#7201a8"
             ],
             [
              0.3333333333333333,
              "#9c179e"
             ],
             [
              0.4444444444444444,
              "#bd3786"
             ],
             [
              0.5555555555555556,
              "#d8576b"
             ],
             [
              0.6666666666666666,
              "#ed7953"
             ],
             [
              0.7777777777777778,
              "#fb9f3a"
             ],
             [
              0.8888888888888888,
              "#fdca26"
             ],
             [
              1,
              "#f0f921"
             ]
            ],
            "type": "heatmap"
           }
          ],
          "heatmapgl": [
           {
            "colorbar": {
             "outlinewidth": 0,
             "ticks": ""
            },
            "colorscale": [
             [
              0,
              "#0d0887"
             ],
             [
              0.1111111111111111,
              "#46039f"
             ],
             [
              0.2222222222222222,
              "#7201a8"
             ],
             [
              0.3333333333333333,
              "#9c179e"
             ],
             [
              0.4444444444444444,
              "#bd3786"
             ],
             [
              0.5555555555555556,
              "#d8576b"
             ],
             [
              0.6666666666666666,
              "#ed7953"
             ],
             [
              0.7777777777777778,
              "#fb9f3a"
             ],
             [
              0.8888888888888888,
              "#fdca26"
             ],
             [
              1,
              "#f0f921"
             ]
            ],
            "type": "heatmapgl"
           }
          ],
          "histogram": [
           {
            "marker": {
             "colorbar": {
              "outlinewidth": 0,
              "ticks": ""
             }
            },
            "type": "histogram"
           }
          ],
          "histogram2d": [
           {
            "colorbar": {
             "outlinewidth": 0,
             "ticks": ""
            },
            "colorscale": [
             [
              0,
              "#0d0887"
             ],
             [
              0.1111111111111111,
              "#46039f"
             ],
             [
              0.2222222222222222,
              "#7201a8"
             ],
             [
              0.3333333333333333,
              "#9c179e"
             ],
             [
              0.4444444444444444,
              "#bd3786"
             ],
             [
              0.5555555555555556,
              "#d8576b"
             ],
             [
              0.6666666666666666,
              "#ed7953"
             ],
             [
              0.7777777777777778,
              "#fb9f3a"
             ],
             [
              0.8888888888888888,
              "#fdca26"
             ],
             [
              1,
              "#f0f921"
             ]
            ],
            "type": "histogram2d"
           }
          ],
          "histogram2dcontour": [
           {
            "colorbar": {
             "outlinewidth": 0,
             "ticks": ""
            },
            "colorscale": [
             [
              0,
              "#0d0887"
             ],
             [
              0.1111111111111111,
              "#46039f"
             ],
             [
              0.2222222222222222,
              "#7201a8"
             ],
             [
              0.3333333333333333,
              "#9c179e"
             ],
             [
              0.4444444444444444,
              "#bd3786"
             ],
             [
              0.5555555555555556,
              "#d8576b"
             ],
             [
              0.6666666666666666,
              "#ed7953"
             ],
             [
              0.7777777777777778,
              "#fb9f3a"
             ],
             [
              0.8888888888888888,
              "#fdca26"
             ],
             [
              1,
              "#f0f921"
             ]
            ],
            "type": "histogram2dcontour"
           }
          ],
          "mesh3d": [
           {
            "colorbar": {
             "outlinewidth": 0,
             "ticks": ""
            },
            "type": "mesh3d"
           }
          ],
          "parcoords": [
           {
            "line": {
             "colorbar": {
              "outlinewidth": 0,
              "ticks": ""
             }
            },
            "type": "parcoords"
           }
          ],
          "pie": [
           {
            "automargin": true,
            "type": "pie"
           }
          ],
          "scatter": [
           {
            "marker": {
             "colorbar": {
              "outlinewidth": 0,
              "ticks": ""
             }
            },
            "type": "scatter"
           }
          ],
          "scatter3d": [
           {
            "line": {
             "colorbar": {
              "outlinewidth": 0,
              "ticks": ""
             }
            },
            "marker": {
             "colorbar": {
              "outlinewidth": 0,
              "ticks": ""
             }
            },
            "type": "scatter3d"
           }
          ],
          "scattercarpet": [
           {
            "marker": {
             "colorbar": {
              "outlinewidth": 0,
              "ticks": ""
             }
            },
            "type": "scattercarpet"
           }
          ],
          "scattergeo": [
           {
            "marker": {
             "colorbar": {
              "outlinewidth": 0,
              "ticks": ""
             }
            },
            "type": "scattergeo"
           }
          ],
          "scattergl": [
           {
            "marker": {
             "colorbar": {
              "outlinewidth": 0,
              "ticks": ""
             }
            },
            "type": "scattergl"
           }
          ],
          "scattermapbox": [
           {
            "marker": {
             "colorbar": {
              "outlinewidth": 0,
              "ticks": ""
             }
            },
            "type": "scattermapbox"
           }
          ],
          "scatterpolar": [
           {
            "marker": {
             "colorbar": {
              "outlinewidth": 0,
              "ticks": ""
             }
            },
            "type": "scatterpolar"
           }
          ],
          "scatterpolargl": [
           {
            "marker": {
             "colorbar": {
              "outlinewidth": 0,
              "ticks": ""
             }
            },
            "type": "scatterpolargl"
           }
          ],
          "scatterternary": [
           {
            "marker": {
             "colorbar": {
              "outlinewidth": 0,
              "ticks": ""
             }
            },
            "type": "scatterternary"
           }
          ],
          "surface": [
           {
            "colorbar": {
             "outlinewidth": 0,
             "ticks": ""
            },
            "colorscale": [
             [
              0,
              "#0d0887"
             ],
             [
              0.1111111111111111,
              "#46039f"
             ],
             [
              0.2222222222222222,
              "#7201a8"
             ],
             [
              0.3333333333333333,
              "#9c179e"
             ],
             [
              0.4444444444444444,
              "#bd3786"
             ],
             [
              0.5555555555555556,
              "#d8576b"
             ],
             [
              0.6666666666666666,
              "#ed7953"
             ],
             [
              0.7777777777777778,
              "#fb9f3a"
             ],
             [
              0.8888888888888888,
              "#fdca26"
             ],
             [
              1,
              "#f0f921"
             ]
            ],
            "type": "surface"
           }
          ],
          "table": [
           {
            "cells": {
             "fill": {
              "color": "#EBF0F8"
             },
             "line": {
              "color": "white"
             }
            },
            "header": {
             "fill": {
              "color": "#C8D4E3"
             },
             "line": {
              "color": "white"
             }
            },
            "type": "table"
           }
          ]
         },
         "layout": {
          "annotationdefaults": {
           "arrowcolor": "#2a3f5f",
           "arrowhead": 0,
           "arrowwidth": 1
          },
          "coloraxis": {
           "colorbar": {
            "outlinewidth": 0,
            "ticks": ""
           }
          },
          "colorscale": {
           "diverging": [
            [
             0,
             "#8e0152"
            ],
            [
             0.1,
             "#c51b7d"
            ],
            [
             0.2,
             "#de77ae"
            ],
            [
             0.3,
             "#f1b6da"
            ],
            [
             0.4,
             "#fde0ef"
            ],
            [
             0.5,
             "#f7f7f7"
            ],
            [
             0.6,
             "#e6f5d0"
            ],
            [
             0.7,
             "#b8e186"
            ],
            [
             0.8,
             "#7fbc41"
            ],
            [
             0.9,
             "#4d9221"
            ],
            [
             1,
             "#276419"
            ]
           ],
           "sequential": [
            [
             0,
             "#0d0887"
            ],
            [
             0.1111111111111111,
             "#46039f"
            ],
            [
             0.2222222222222222,
             "#7201a8"
            ],
            [
             0.3333333333333333,
             "#9c179e"
            ],
            [
             0.4444444444444444,
             "#bd3786"
            ],
            [
             0.5555555555555556,
             "#d8576b"
            ],
            [
             0.6666666666666666,
             "#ed7953"
            ],
            [
             0.7777777777777778,
             "#fb9f3a"
            ],
            [
             0.8888888888888888,
             "#fdca26"
            ],
            [
             1,
             "#f0f921"
            ]
           ],
           "sequentialminus": [
            [
             0,
             "#0d0887"
            ],
            [
             0.1111111111111111,
             "#46039f"
            ],
            [
             0.2222222222222222,
             "#7201a8"
            ],
            [
             0.3333333333333333,
             "#9c179e"
            ],
            [
             0.4444444444444444,
             "#bd3786"
            ],
            [
             0.5555555555555556,
             "#d8576b"
            ],
            [
             0.6666666666666666,
             "#ed7953"
            ],
            [
             0.7777777777777778,
             "#fb9f3a"
            ],
            [
             0.8888888888888888,
             "#fdca26"
            ],
            [
             1,
             "#f0f921"
            ]
           ]
          },
          "colorway": [
           "#636efa",
           "#EF553B",
           "#00cc96",
           "#ab63fa",
           "#FFA15A",
           "#19d3f3",
           "#FF6692",
           "#B6E880",
           "#FF97FF",
           "#FECB52"
          ],
          "font": {
           "color": "#2a3f5f"
          },
          "geo": {
           "bgcolor": "white",
           "lakecolor": "white",
           "landcolor": "#E5ECF6",
           "showlakes": true,
           "showland": true,
           "subunitcolor": "white"
          },
          "hoverlabel": {
           "align": "left"
          },
          "hovermode": "closest",
          "mapbox": {
           "style": "light"
          },
          "paper_bgcolor": "white",
          "plot_bgcolor": "#E5ECF6",
          "polar": {
           "angularaxis": {
            "gridcolor": "white",
            "linecolor": "white",
            "ticks": ""
           },
           "bgcolor": "#E5ECF6",
           "radialaxis": {
            "gridcolor": "white",
            "linecolor": "white",
            "ticks": ""
           }
          },
          "scene": {
           "xaxis": {
            "backgroundcolor": "#E5ECF6",
            "gridcolor": "white",
            "gridwidth": 2,
            "linecolor": "white",
            "showbackground": true,
            "ticks": "",
            "zerolinecolor": "white"
           },
           "yaxis": {
            "backgroundcolor": "#E5ECF6",
            "gridcolor": "white",
            "gridwidth": 2,
            "linecolor": "white",
            "showbackground": true,
            "ticks": "",
            "zerolinecolor": "white"
           },
           "zaxis": {
            "backgroundcolor": "#E5ECF6",
            "gridcolor": "white",
            "gridwidth": 2,
            "linecolor": "white",
            "showbackground": true,
            "ticks": "",
            "zerolinecolor": "white"
           }
          },
          "shapedefaults": {
           "line": {
            "color": "#2a3f5f"
           }
          },
          "ternary": {
           "aaxis": {
            "gridcolor": "white",
            "linecolor": "white",
            "ticks": ""
           },
           "baxis": {
            "gridcolor": "white",
            "linecolor": "white",
            "ticks": ""
           },
           "bgcolor": "#E5ECF6",
           "caxis": {
            "gridcolor": "white",
            "linecolor": "white",
            "ticks": ""
           }
          },
          "title": {
           "x": 0.05
          },
          "xaxis": {
           "automargin": true,
           "gridcolor": "white",
           "linecolor": "white",
           "ticks": "",
           "title": {
            "standoff": 15
           },
           "zerolinecolor": "white",
           "zerolinewidth": 2
          },
          "yaxis": {
           "automargin": true,
           "gridcolor": "white",
           "linecolor": "white",
           "ticks": "",
           "title": {
            "standoff": 15
           },
           "zerolinecolor": "white",
           "zerolinewidth": 2
          }
         }
        },
        "title": {
         "font": {
          "size": 16
         },
         "text": "Bank Dataset Concept Lattice"
        },
        "width": 1000,
        "xaxis": {
         "showgrid": false,
         "showticklabels": false,
         "zeroline": false
        },
        "yaxis": {
         "showgrid": false,
         "showticklabels": false,
         "zeroline": false
        }
       }
      },
      "text/html": [
       "<div>\n",
       "        \n",
       "        \n",
       "            <div id=\"7579234e-5f94-433a-b8b8-7111ce614013\" class=\"plotly-graph-div\" style=\"height:500px; width:1000px;\"></div>\n",
       "            <script type=\"text/javascript\">\n",
       "                require([\"plotly\"], function(Plotly) {\n",
       "                    window.PLOTLYENV=window.PLOTLYENV || {};\n",
       "                    \n",
       "                if (document.getElementById(\"7579234e-5f94-433a-b8b8-7111ce614013\")) {\n",
       "                    Plotly.newPlot(\n",
       "                        '7579234e-5f94-433a-b8b8-7111ce614013',\n",
       "                        [{\"hoverinfo\": \"none\", \"line\": {\"color\": \"#888\", \"width\": 0.5}, \"mode\": \"lines\", \"type\": \"scatter\", \"x\": [0.0, -0.5, null, 0.0, 0.5, null, 1.5, 2.5, null, 1.5, -0.5, null, 1.5, 0.0, null, 0.5, -0.5, null, 1.0, 0.5, null, 1.0, 1.5, null, 1.5, 3.5, null, -0.5, -1.5, null, 0.5, 0.0, null, -1.5, 2.5, null, -1.5, -2.5, null, -1.5, 0.0, null, -1.5, -0.5, null, 2.5, 2.5, null, 2.5, 0.0, null, -2.5, -1.0, null, -2.5, 0.5, null, -3.5, 0.0, null, 3.5, 0.0, null, -0.5, 0.0, null, -2.5, -1.0, null, -2.5, 0.0, null], \"y\": [2, 1, null, 2, 3, null, 4, 3, null, 4, 3, null, 4, 5, null, 3, 4, null, 2, 1, null, 2, 3, null, 3, 4, null, 1, 3, null, 4, 5, null, 4, 3, null, 4, 3, null, 4, 5, null, 3, 4, null, 4, 3, null, 4, 5, null, 3, 2, null, 3, 1, null, 4, 5, null, 4, 5, null, 4, 5, null, 4, 2, null, 4, 5, null]}, {\"hoverinfo\": \"text\", \"hovertext\": [\"Concept 15<br>extent (len: 6): 4141, 3013, 657, 2258, 3256, 2018<br>intent (len: 3): duration__>=1.5m, contact__cellular, month__mar<br>new extent (len: 3): 4141, 3013, 657<br>new intent (len: 1): contact__cellular<br>mean_y_true: 0.33<br>mean_y_pred: 0.67<br>Metrics<br>\\taccuracy: 0.33<br>\\tprecision: 0.25<br>\\trecall: 0.5<br>\\tneg_precision: 0.5<br>\\tneg_recall: 0.25<br><br>\", \"Concept 7<br>extent (len: 5): 3889, 2932, 328, 2908, 2848<br>intent (len: 2): duration__>=1.5m, month__dec<br>new extent (len: 1): 2848<br>new intent (len: 2): duration__>=1.5m, month__dec<br>mean_y_true: 0.4<br>mean_y_pred: 0.4<br>Metrics<br>\\taccuracy: 1.0<br>\\tprecision: 1.0<br>\\trecall: 1.0<br>\\tneg_precision: 1.0<br>\\tneg_recall: 1.0<br><br>\", \"Concept 8<br>extent (len: 7): 4141, 3013, 657, 2258, 3256, 2018, 3877<br>intent (len: 2): duration__>=1.5m, month__mar<br>new extent (len: 1): 3877<br>new intent (len: 1): duration__>=1.5m<br>mean_y_true: 0.29<br>mean_y_pred: 0.57<br>Metrics<br>\\taccuracy: 0.43<br>\\tprecision: 0.25<br>\\trecall: 0.5<br>\\tneg_precision: 0.67<br>\\tneg_recall: 0.4<br><br>\", \"Concept 13<br>extent (len: 15): 3700, 4423, 61, 3315, 3701, 1113, 2685, 2213, 2750, 2821,...<br>intent (len: 2): duration__>=3m, month__oct<br>new extent (len: 10): 3315, 1113, 2821, 2213, 2685, 3701, 3700, 61, 2750, 4423<br>new intent (len: 1): duration__>=3m<br>mean_y_true: 0.47<br>mean_y_pred: 0.8<br>Metrics<br>\\taccuracy: 0.4<br>\\tprecision: 0.42<br>\\trecall: 0.71<br>\\tneg_precision: 0.33<br>\\tneg_recall: 0.12<br><br>\", \"Concept 12<br>extent (len: 4): 3889, 2932, 328, 2908<br>intent (len: 2): duration__>=3m, month__dec<br>new extent (len: 4): 328, 2932, 3889, 2908<br>new intent (len: 1): duration__>=3m<br>mean_y_true: 0.5<br>mean_y_pred: 0.5<br>Metrics<br>\\taccuracy: 1.0<br>\\tprecision: 1.0<br>\\trecall: 1.0<br>\\tneg_precision: 1.0<br>\\tneg_recall: 1.0<br><br>\", \"Concept 9<br>extent (len: 19): 3700, 4423, 61, 3315, 3701, 1113, 2685, 2213, 1196, 2750,...<br>intent (len: 2): duration__>=1.5m, month__oct<br>new extent (len: 4): 1196, 1158, 3527, 3425<br>new intent (len: 1): duration__>=1.5m<br>mean_y_true: 0.42<br>mean_y_pred: 0.63<br>Metrics<br>\\taccuracy: 0.47<br>\\tprecision: 0.42<br>\\trecall: 0.62<br>\\tneg_precision: 0.57<br>\\tneg_recall: 0.36<br><br>\", \"Concept 17<br>extent (len: 3): 2258, 3256, 2018<br>intent (len: 3): duration__>=3m, contact__cellular, month__mar<br>new extent (len: 3): 2258, 3256, 2018<br>new intent (len: 1): duration__>=3m<br>mean_y_true: 0.33<br>mean_y_pred: 1.0<br>Metrics<br>\\taccuracy: 0.33<br>\\tprecision: 0.33<br>\\trecall: 1.0<br>\\tneg_precision: 0.0<br>\\tneg_recall: 0.0<br><br>\", \"Concept 11<br>extent (len: 9): 3541, 2918, 2266, 680, 1904, 4215, 2963, 2042, 229<br>intent (len: 2): duration__>=1m, month__sep<br>new extent (len: 9): 2918, 680, 2963, 3541, 4215, 2266, 2042, 1904, 229<br>new intent (len: 2): duration__>=1m, month__sep<br>mean_y_true: 0.33<br>mean_y_pred: 0.33<br>Metrics<br>\\taccuracy: 0.78<br>\\tprecision: 0.67<br>\\trecall: 0.67<br>\\tneg_precision: 0.83<br>\\tneg_recall: 0.83<br><br>\", \"Concept 3<br>extent (len: 278): 800, 3819, 1918, 3855, 2078, 468, 1552, 3036, 296, 109,...<br>intent (len: 1): duration__>=5.5m<br>new extent (len: 97): 4449, 3372, 1370, 3091, 1407, 465, 4072, 1723, 4511, 2688,...<br>new intent (len: 1): duration__>=5.5m<br>mean_y_true: 0.3<br>mean_y_pred: 0.25<br>Metrics<br>\\taccuracy: 0.74<br>\\tprecision: 0.58<br>\\trecall: 0.48<br>\\tneg_precision: 0.79<br>\\tneg_recall: 0.85<br><br>\", \"Concept 16<br>extent (len: 10): 4141, 3013, 657, 3292, 4293, 1344, 1479, 2258, 3256, 2018<br>intent (len: 3): duration__>=1m, contact__cellular, month__mar<br>new extent (len: 7): 1344, 4141, 3013, 3292, 4293, 1479, 657<br>new intent (len: 2): contact__cellular, duration__>=1m<br>mean_y_true: 0.3<br>mean_y_pred: 0.4<br>Metrics<br>\\taccuracy: 0.5<br>\\tprecision: 0.25<br>\\trecall: 0.33<br>\\tneg_precision: 0.67<br>\\tneg_recall: 0.57<br><br>\", \"Concept 2<br>extent (len: 104): 3614, 415, 4077, 2481, 1192, 33, 1896, 51, 1553, 429,...<br>intent (len: 1): duration__>=16.5m<br>new extent (len: 102): 80, 1738, 3463, 4089, 203, 3873, 2211, 3091, 2775, 1407,...<br>new intent (len: 1): duration__>=16.5m<br>mean_y_true: 0.46<br>mean_y_pred: 0.51<br>Metrics<br>\\taccuracy: 0.61<br>\\tprecision: 0.57<br>\\trecall: 0.62<br>\\tneg_precision: 0.65<br>\\tneg_recall: 0.59<br><br>\", \"Concept 14<br>extent (len: 180): 800, 3819, 1918, 3855, 2078, 468, 1552, 3036, 296, 109,...<br>intent (len: 2): duration__>=5.5m, contact__cellular<br>new extent (len: 140): 80, 2639, 1738, 3463, 203, 4089, 2211, 1436, 486, 3589,...<br>new intent (len: 1): contact__cellular<br>mean_y_true: 0.35<br>mean_y_pred: 0.32<br>Metrics<br>\\taccuracy: 0.69<br>\\tprecision: 0.56<br>\\trecall: 0.51<br>\\tneg_precision: 0.75<br>\\tneg_recall: 0.79<br><br>\", \"Concept 1<br>extent (len: 125): 3134, 3214, 4374, 3671, 3326, 833, 4440, 3597, 2103, 4308,...<br>intent (len: 1): duration__<1m<br>new extent (len: 125): 3713, 2978, 1995, 596, 3988, 3462, 8, 2673, 538, 4464,...<br>new intent (len: 1): duration__<1m<br>mean_y_true: 0.01<br>mean_y_pred: 0.0<br>Metrics<br>\\taccuracy: 0.99<br>\\tprecision: 0.0<br>\\trecall: 0.0<br>\\tneg_precision: 0.99<br>\\tneg_recall: 1.0<br><br>\", \"Concept 6<br>extent (len: 23): 3700, 4423, 61, 3315, 3701, 1113, 2685, 2213, 1196, 2750,...<br>intent (len: 1): month__oct<br>new extent (len: 4): 903, 1106, 2451, 2417<br>new intent (len: 1): month__oct<br>mean_y_true: 0.35<br>mean_y_pred: 0.52<br>Metrics<br>\\taccuracy: 0.57<br>\\tprecision: 0.42<br>\\trecall: 0.62<br>\\tneg_precision: 0.73<br>\\tneg_recall: 0.53<br><br>\", \"Concept 4<br>extent (len: 13): 4141, 3013, 657, 3292, 4293, 1344, 1479, 1675, 166, 2258,...<br>intent (len: 1): month__mar<br>new extent (len: 2): 1675, 166<br>new intent (len: 1): month__mar<br>mean_y_true: 0.23<br>mean_y_pred: 0.31<br>Metrics<br>\\taccuracy: 0.62<br>\\tprecision: 0.25<br>\\trecall: 0.33<br>\\tneg_precision: 0.78<br>\\tneg_recall: 0.7<br><br>\", \"Concept 10<br>extent (len: 2): 3889, 328<br>intent (len: 2): duration__>=16.5m, month__dec<br>new extent (len: 2): 328, 3889<br>new intent (len: 0): emptyset<br>mean_y_true: 1.0<br>mean_y_pred: 1.0<br>Metrics<br>\\taccuracy: 1.0<br>\\tprecision: 1.0<br>\\trecall: 1.0<br>\\tneg_precision: 0.0<br>\\tneg_recall: 0.0<br><br>\", \"Concept 5<br>extent (len: 358): 3548, 3471, 3303, 1181, 1730, 1666, 869, 4208, 4169, 177,...<br>intent (len: 1): month__may<br>new extent (len: 323): 2528, 3259, 26, 2495, 2978, 471, 3091, 2784, 3401, 3858,...<br>new intent (len: 1): month__may<br>mean_y_true: 0.09<br>mean_y_pred: 0.02<br>Metrics<br>\\taccuracy: 0.92<br>\\tprecision: 0.75<br>\\trecall: 0.19<br>\\tneg_precision: 0.93<br>\\tneg_recall: 0.99<br><br>\", \"Concept 19<br>extent (len: 5): 1672, 1186, 1437, 803, 4413<br>intent (len: 3): duration__>=5.5m, contact__cellular, month__oct<br>new extent (len: 5): 4413, 1437, 1672, 1186, 803<br>new intent (len: 0): emptyset<br>mean_y_true: 0.4<br>mean_y_pred: 1.0<br>Metrics<br>\\taccuracy: 0.4<br>\\tprecision: 0.4<br>\\trecall: 1.0<br>\\tneg_precision: 0.0<br>\\tneg_recall: 0.0<br><br>\", \"Concept 18<br>extent (len: 35): 4053, 1345, 3298, 4406, 3920, 721, 3312, 3674, 626, 318,...<br>intent (len: 3): duration__>=5.5m, contact__cellular, month__may<br>new extent (len: 35): 3312, 3298, 3674, 2005, 4232, 2233, 2765, 555, 3033, 1767,...<br>new intent (len: 0): emptyset<br>mean_y_true: 0.43<br>mean_y_pred: 0.17<br>Metrics<br>\\taccuracy: 0.63<br>\\tprecision: 0.67<br>\\trecall: 0.27<br>\\tneg_precision: 0.62<br>\\tneg_recall: 0.9<br><br>\", \"Concept 0<br>extent (len: 1131): 2398, 2288, 4011, 3963, 1222, 2916, 1020, 497, 3825, 151,...<br>intent (len: 0): emptyset<br>new extent (len: 472): 3111, 1393, 3235, 1815, 2589, 4452, 2339, 393, 263, 527,...<br>new intent (len: 0): emptyset<br>mean_y_true: 0.11<br>mean_y_pred: 0.08<br>Metrics<br>\\taccuracy: 0.91<br>\\tprecision: 0.6<br>\\trecall: 0.43<br>\\tneg_precision: 0.93<br>\\tneg_recall: 0.96<br><br>\"], \"marker\": {\"color\": [0.6666666666666666, 0.4, 0.5714285714285714, 0.8, 0.5, 0.631578947368421, 1.0, 0.3333333333333333, 0.24820143884892087, 0.4, 0.5096153846153846, 0.31666666666666665, 0.0, 0.5217391304347826, 0.3076923076923077, 1.0, 0.0223463687150838, 1.0, 0.17142857142857143, 0.07957559681697612], \"colorbar\": {\"thickness\": 15, \"title\": {\"side\": \"right\", \"text\": \"Mean Prediction\"}, \"xanchor\": \"left\"}, \"colorscale\": [[0.0, \"rgb(103,0,31)\"], [0.1, \"rgb(178,24,43)\"], [0.2, \"rgb(214,96,77)\"], [0.3, \"rgb(244,165,130)\"], [0.4, \"rgb(253,219,199)\"], [0.5, \"rgb(247,247,247)\"], [0.6, \"rgb(209,229,240)\"], [0.7, \"rgb(146,197,222)\"], [0.8, \"rgb(67,147,195)\"], [0.9, \"rgb(33,102,172)\"], [1.0, \"rgb(5,48,97)\"]], \"line\": {\"width\": 2}, \"reversescale\": true, \"showscale\": true, \"size\": 10}, \"mode\": \"markers+text\", \"text\": [\"contact__cellular<br>4141,3013,657\", \"duration__>=1.5m,month__dec<br>2848\", \"duration__>=1.5m<br>3877\", \"duration__>=3m<br>n: 10\", \"duration__>=3m<br>328,2932,3889,2908\", \"duration__>=1.5m<br>1196,1158,3527,3425\", \"duration__>=3m<br>2258,3256,2018\", \"duration__>=1m,month__sep<br>n: 9\", \"duration__>=5.5m<br>n: 97\", \"contact__cellular,duration__>=1m<br>n: 7\", \"duration__>=16.5m<br>n: 102\", \"contact__cellular<br>n: 140\", \"duration__<1m<br>n: 125\", \"month__oct<br>903,1106,2451,2417\", \"month__mar<br>1675,166\", \"<br>328,3889\", \"month__may<br>n: 323\", \"<br>n: 5\", \"<br>n: 35\", \"<br>n: 472\"], \"textposition\": \"middle right\", \"type\": \"scatter\", \"x\": [0.0, 1.5, 0.5, 1.0, -0.5, 1.5, -0.5, 0.5, -1.5, -1.5, 2.5, -2.5, -3.5, 3.5, -0.5, 2.5, -2.5, 0.5, -1.0, 0.0], \"y\": [2, 4, 3, 2, 3, 3, 1, 4, 4, 3, 4, 3, 4, 4, 4, 3, 4, 1, 2, 5]}],\n",
       "                        {\"height\": 500, \"hovermode\": \"closest\", \"margin\": {\"b\": 20, \"l\": 5, \"r\": 5, \"t\": 40}, \"showlegend\": false, \"template\": {\"data\": {\"bar\": [{\"error_x\": {\"color\": \"#2a3f5f\"}, \"error_y\": {\"color\": \"#2a3f5f\"}, \"marker\": {\"line\": {\"color\": \"#E5ECF6\", \"width\": 0.5}}, \"type\": \"bar\"}], \"barpolar\": [{\"marker\": {\"line\": {\"color\": \"#E5ECF6\", \"width\": 0.5}}, \"type\": \"barpolar\"}], \"carpet\": [{\"aaxis\": {\"endlinecolor\": \"#2a3f5f\", \"gridcolor\": \"white\", \"linecolor\": \"white\", \"minorgridcolor\": \"white\", \"startlinecolor\": \"#2a3f5f\"}, \"baxis\": {\"endlinecolor\": \"#2a3f5f\", \"gridcolor\": \"white\", \"linecolor\": \"white\", \"minorgridcolor\": \"white\", \"startlinecolor\": \"#2a3f5f\"}, \"type\": \"carpet\"}], \"choropleth\": [{\"colorbar\": {\"outlinewidth\": 0, \"ticks\": \"\"}, \"type\": \"choropleth\"}], \"contour\": [{\"colorbar\": {\"outlinewidth\": 0, \"ticks\": \"\"}, \"colorscale\": [[0.0, \"#0d0887\"], [0.1111111111111111, \"#46039f\"], [0.2222222222222222, \"#7201a8\"], [0.3333333333333333, \"#9c179e\"], [0.4444444444444444, \"#bd3786\"], [0.5555555555555556, \"#d8576b\"], [0.6666666666666666, \"#ed7953\"], [0.7777777777777778, \"#fb9f3a\"], [0.8888888888888888, \"#fdca26\"], [1.0, \"#f0f921\"]], \"type\": \"contour\"}], \"contourcarpet\": [{\"colorbar\": {\"outlinewidth\": 0, \"ticks\": \"\"}, \"type\": \"contourcarpet\"}], \"heatmap\": [{\"colorbar\": {\"outlinewidth\": 0, \"ticks\": \"\"}, \"colorscale\": [[0.0, \"#0d0887\"], [0.1111111111111111, \"#46039f\"], [0.2222222222222222, \"#7201a8\"], [0.3333333333333333, \"#9c179e\"], [0.4444444444444444, \"#bd3786\"], [0.5555555555555556, \"#d8576b\"], [0.6666666666666666, \"#ed7953\"], [0.7777777777777778, \"#fb9f3a\"], [0.8888888888888888, \"#fdca26\"], [1.0, \"#f0f921\"]], \"type\": \"heatmap\"}], \"heatmapgl\": [{\"colorbar\": {\"outlinewidth\": 0, \"ticks\": \"\"}, \"colorscale\": [[0.0, \"#0d0887\"], [0.1111111111111111, \"#46039f\"], [0.2222222222222222, \"#7201a8\"], [0.3333333333333333, \"#9c179e\"], [0.4444444444444444, \"#bd3786\"], [0.5555555555555556, \"#d8576b\"], [0.6666666666666666, \"#ed7953\"], [0.7777777777777778, \"#fb9f3a\"], [0.8888888888888888, \"#fdca26\"], [1.0, \"#f0f921\"]], \"type\": \"heatmapgl\"}], \"histogram\": [{\"marker\": {\"colorbar\": {\"outlinewidth\": 0, \"ticks\": \"\"}}, \"type\": \"histogram\"}], \"histogram2d\": [{\"colorbar\": {\"outlinewidth\": 0, \"ticks\": \"\"}, \"colorscale\": [[0.0, \"#0d0887\"], [0.1111111111111111, \"#46039f\"], [0.2222222222222222, \"#7201a8\"], [0.3333333333333333, \"#9c179e\"], [0.4444444444444444, \"#bd3786\"], [0.5555555555555556, \"#d8576b\"], [0.6666666666666666, \"#ed7953\"], [0.7777777777777778, \"#fb9f3a\"], [0.8888888888888888, \"#fdca26\"], [1.0, \"#f0f921\"]], \"type\": \"histogram2d\"}], \"histogram2dcontour\": [{\"colorbar\": {\"outlinewidth\": 0, \"ticks\": \"\"}, \"colorscale\": [[0.0, \"#0d0887\"], [0.1111111111111111, \"#46039f\"], [0.2222222222222222, \"#7201a8\"], [0.3333333333333333, \"#9c179e\"], [0.4444444444444444, \"#bd3786\"], [0.5555555555555556, \"#d8576b\"], [0.6666666666666666, \"#ed7953\"], [0.7777777777777778, \"#fb9f3a\"], [0.8888888888888888, \"#fdca26\"], [1.0, \"#f0f921\"]], \"type\": \"histogram2dcontour\"}], \"mesh3d\": [{\"colorbar\": {\"outlinewidth\": 0, \"ticks\": \"\"}, \"type\": \"mesh3d\"}], \"parcoords\": [{\"line\": {\"colorbar\": {\"outlinewidth\": 0, \"ticks\": \"\"}}, \"type\": \"parcoords\"}], \"pie\": [{\"automargin\": true, \"type\": \"pie\"}], \"scatter\": [{\"marker\": {\"colorbar\": {\"outlinewidth\": 0, \"ticks\": \"\"}}, \"type\": \"scatter\"}], \"scatter3d\": [{\"line\": {\"colorbar\": {\"outlinewidth\": 0, \"ticks\": \"\"}}, \"marker\": {\"colorbar\": {\"outlinewidth\": 0, \"ticks\": \"\"}}, \"type\": \"scatter3d\"}], \"scattercarpet\": [{\"marker\": {\"colorbar\": {\"outlinewidth\": 0, \"ticks\": \"\"}}, \"type\": \"scattercarpet\"}], \"scattergeo\": [{\"marker\": {\"colorbar\": {\"outlinewidth\": 0, \"ticks\": \"\"}}, \"type\": \"scattergeo\"}], \"scattergl\": [{\"marker\": {\"colorbar\": {\"outlinewidth\": 0, \"ticks\": \"\"}}, \"type\": \"scattergl\"}], \"scattermapbox\": [{\"marker\": {\"colorbar\": {\"outlinewidth\": 0, \"ticks\": \"\"}}, \"type\": \"scattermapbox\"}], \"scatterpolar\": [{\"marker\": {\"colorbar\": {\"outlinewidth\": 0, \"ticks\": \"\"}}, \"type\": \"scatterpolar\"}], \"scatterpolargl\": [{\"marker\": {\"colorbar\": {\"outlinewidth\": 0, \"ticks\": \"\"}}, \"type\": \"scatterpolargl\"}], \"scatterternary\": [{\"marker\": {\"colorbar\": {\"outlinewidth\": 0, \"ticks\": \"\"}}, \"type\": \"scatterternary\"}], \"surface\": [{\"colorbar\": {\"outlinewidth\": 0, \"ticks\": \"\"}, \"colorscale\": [[0.0, \"#0d0887\"], [0.1111111111111111, \"#46039f\"], [0.2222222222222222, \"#7201a8\"], [0.3333333333333333, \"#9c179e\"], [0.4444444444444444, \"#bd3786\"], [0.5555555555555556, \"#d8576b\"], [0.6666666666666666, \"#ed7953\"], [0.7777777777777778, \"#fb9f3a\"], [0.8888888888888888, \"#fdca26\"], [1.0, \"#f0f921\"]], \"type\": \"surface\"}], \"table\": [{\"cells\": {\"fill\": {\"color\": \"#EBF0F8\"}, \"line\": {\"color\": \"white\"}}, \"header\": {\"fill\": {\"color\": \"#C8D4E3\"}, \"line\": {\"color\": \"white\"}}, \"type\": \"table\"}]}, \"layout\": {\"annotationdefaults\": {\"arrowcolor\": \"#2a3f5f\", \"arrowhead\": 0, \"arrowwidth\": 1}, \"coloraxis\": {\"colorbar\": {\"outlinewidth\": 0, \"ticks\": \"\"}}, \"colorscale\": {\"diverging\": [[0, \"#8e0152\"], [0.1, \"#c51b7d\"], [0.2, \"#de77ae\"], [0.3, \"#f1b6da\"], [0.4, \"#fde0ef\"], [0.5, \"#f7f7f7\"], [0.6, \"#e6f5d0\"], [0.7, \"#b8e186\"], [0.8, \"#7fbc41\"], [0.9, \"#4d9221\"], [1, \"#276419\"]], \"sequential\": [[0.0, \"#0d0887\"], [0.1111111111111111, \"#46039f\"], [0.2222222222222222, \"#7201a8\"], [0.3333333333333333, \"#9c179e\"], [0.4444444444444444, \"#bd3786\"], [0.5555555555555556, \"#d8576b\"], [0.6666666666666666, \"#ed7953\"], [0.7777777777777778, \"#fb9f3a\"], [0.8888888888888888, \"#fdca26\"], [1.0, \"#f0f921\"]], \"sequentialminus\": [[0.0, \"#0d0887\"], [0.1111111111111111, \"#46039f\"], [0.2222222222222222, \"#7201a8\"], [0.3333333333333333, \"#9c179e\"], [0.4444444444444444, \"#bd3786\"], [0.5555555555555556, \"#d8576b\"], [0.6666666666666666, \"#ed7953\"], [0.7777777777777778, \"#fb9f3a\"], [0.8888888888888888, \"#fdca26\"], [1.0, \"#f0f921\"]]}, \"colorway\": [\"#636efa\", \"#EF553B\", \"#00cc96\", \"#ab63fa\", \"#FFA15A\", \"#19d3f3\", \"#FF6692\", \"#B6E880\", \"#FF97FF\", \"#FECB52\"], \"font\": {\"color\": \"#2a3f5f\"}, \"geo\": {\"bgcolor\": \"white\", \"lakecolor\": \"white\", \"landcolor\": \"#E5ECF6\", \"showlakes\": true, \"showland\": true, \"subunitcolor\": \"white\"}, \"hoverlabel\": {\"align\": \"left\"}, \"hovermode\": \"closest\", \"mapbox\": {\"style\": \"light\"}, \"paper_bgcolor\": \"white\", \"plot_bgcolor\": \"#E5ECF6\", \"polar\": {\"angularaxis\": {\"gridcolor\": \"white\", \"linecolor\": \"white\", \"ticks\": \"\"}, \"bgcolor\": \"#E5ECF6\", \"radialaxis\": {\"gridcolor\": \"white\", \"linecolor\": \"white\", \"ticks\": \"\"}}, \"scene\": {\"xaxis\": {\"backgroundcolor\": \"#E5ECF6\", \"gridcolor\": \"white\", \"gridwidth\": 2, \"linecolor\": \"white\", \"showbackground\": true, \"ticks\": \"\", \"zerolinecolor\": \"white\"}, \"yaxis\": {\"backgroundcolor\": \"#E5ECF6\", \"gridcolor\": \"white\", \"gridwidth\": 2, \"linecolor\": \"white\", \"showbackground\": true, \"ticks\": \"\", \"zerolinecolor\": \"white\"}, \"zaxis\": {\"backgroundcolor\": \"#E5ECF6\", \"gridcolor\": \"white\", \"gridwidth\": 2, \"linecolor\": \"white\", \"showbackground\": true, \"ticks\": \"\", \"zerolinecolor\": \"white\"}}, \"shapedefaults\": {\"line\": {\"color\": \"#2a3f5f\"}}, \"ternary\": {\"aaxis\": {\"gridcolor\": \"white\", \"linecolor\": \"white\", \"ticks\": \"\"}, \"baxis\": {\"gridcolor\": \"white\", \"linecolor\": \"white\", \"ticks\": \"\"}, \"bgcolor\": \"#E5ECF6\", \"caxis\": {\"gridcolor\": \"white\", \"linecolor\": \"white\", \"ticks\": \"\"}}, \"title\": {\"x\": 0.05}, \"xaxis\": {\"automargin\": true, \"gridcolor\": \"white\", \"linecolor\": \"white\", \"ticks\": \"\", \"title\": {\"standoff\": 15}, \"zerolinecolor\": \"white\", \"zerolinewidth\": 2}, \"yaxis\": {\"automargin\": true, \"gridcolor\": \"white\", \"linecolor\": \"white\", \"ticks\": \"\", \"title\": {\"standoff\": 15}, \"zerolinecolor\": \"white\", \"zerolinewidth\": 2}}}, \"title\": {\"font\": {\"size\": 16}, \"text\": \"Bank Dataset Concept Lattice\"}, \"width\": 1000, \"xaxis\": {\"showgrid\": false, \"showticklabels\": false, \"zeroline\": false}, \"yaxis\": {\"showgrid\": false, \"showticklabels\": false, \"zeroline\": false}},\n",
       "                        {\"responsive\": true}\n",
       "                    ).then(function(){\n",
       "                            \n",
       "var gd = document.getElementById('7579234e-5f94-433a-b8b8-7111ce614013');\n",
       "var x = new MutationObserver(function (mutations, observer) {{\n",
       "        var display = window.getComputedStyle(gd).display;\n",
       "        if (!display || display === 'none') {{\n",
       "            console.log([gd, 'removed!']);\n",
       "            Plotly.purge(gd);\n",
       "            observer.disconnect();\n",
       "        }}\n",
       "}});\n",
       "\n",
       "// Listen for the removal of the full notebook cells\n",
       "var notebookContainer = gd.closest('#notebook-container');\n",
       "if (notebookContainer) {{\n",
       "    x.observe(notebookContainer, {childList: true});\n",
       "}}\n",
       "\n",
       "// Listen for the clearing of the current output cell\n",
       "var outputEl = gd.closest('.output');\n",
       "if (outputEl) {{\n",
       "    x.observe(outputEl, {childList: true});\n",
       "}}\n",
       "\n",
       "                        })\n",
       "                };\n",
       "                });\n",
       "            </script>\n",
       "        </div>"
      ]
     },
     "metadata": {},
     "output_type": "display_data"
    }
   ],
   "source": [
    "fig.show()"
   ]
  },
  {
   "cell_type": "code",
   "execution_count": 576,
   "metadata": {},
   "outputs": [
    {
     "data": {
      "text/plain": [
       "20"
      ]
     },
     "execution_count": 576,
     "metadata": {},
     "output_type": "execute_result"
    }
   ],
   "source": [
    "len(fm_bank._concepts)"
   ]
  },
  {
   "cell_type": "code",
   "execution_count": 577,
   "metadata": {},
   "outputs": [
    {
     "name": "stdout",
     "output_type": "stream",
     "text": [
      "-------------------------\n",
      "-----Base hypothesis-----\n",
      "-------------------------\n",
      "0: _ -> 0.08\n",
      "\n",
      "-------------------------\n",
      "---Positive hypotheses---\n",
      "-------------------------\n",
      "2: duration__>=16.5m -> 0.51\n",
      "3: duration__>=5.5m -> 0.25\n",
      "4: month__mar -> 0.31\n",
      "6: month__oct -> 0.52\n",
      "7: duration__>=1.5m,month__dec -> 0.40\n",
      "8: duration__>=1.5m,month__mar -> 0.57\n",
      "9: duration__>=1.5m,month__oct -> 0.63\n",
      "10: duration__>=16.5m,month__dec -> 1.00\n",
      "11: duration__>=1m,month__sep -> 0.33\n",
      "12: duration__>=3m,month__dec -> 0.50\n",
      "13: duration__>=3m,month__oct -> 0.80\n",
      "14: duration__>=5.5m,contact__cellular -> 0.32\n",
      "15: duration__>=1.5m,contact__cellular,month__mar -> 0.67\n",
      "16: duration__>=1m,contact__cellular,month__mar -> 0.40\n",
      "17: duration__>=3m,contact__cellular,month__mar -> 1.00\n",
      "18: duration__>=5.5m,contact__cellular,month__may -> 0.17\n",
      "19: duration__>=5.5m,contact__cellular,month__oct -> 1.00\n",
      "\n",
      "-------------------------\n",
      "---Negative hypotheses---\n",
      "-------------------------\n",
      "1: duration__<1m -> 0.00\n",
      "5: month__may -> 0.02\n"
     ]
    }
   ],
   "source": [
    "plot_base_pos_neg_hypotheses(fm_bank)"
   ]
  },
  {
   "cell_type": "code",
   "execution_count": 578,
   "metadata": {},
   "outputs": [
    {
     "name": "stdout",
     "output_type": "stream",
     "text": [
      "(1131, 19)\n"
     ]
    },
    {
     "data": {
      "text/html": [
       "<div>\n",
       "<style scoped>\n",
       "    .dataframe tbody tr th:only-of-type {\n",
       "        vertical-align: middle;\n",
       "    }\n",
       "\n",
       "    .dataframe tbody tr th {\n",
       "        vertical-align: top;\n",
       "    }\n",
       "\n",
       "    .dataframe thead th {\n",
       "        text-align: right;\n",
       "    }\n",
       "</style>\n",
       "<table border=\"1\" class=\"dataframe\">\n",
       "  <thead>\n",
       "    <tr style=\"text-align: right;\">\n",
       "      <th></th>\n",
       "      <th>duration__&gt;=5.5m</th>\n",
       "      <th>duration__&gt;=16.5m</th>\n",
       "      <th>duration__&lt;1m</th>\n",
       "      <th>month__oct</th>\n",
       "      <th>month__mar</th>\n",
       "      <th>month__may</th>\n",
       "      <th>duration__&gt;=1.5m&amp;contact__cellular&amp;month__mar</th>\n",
       "      <th>duration__&gt;=1.5m&amp;month__dec</th>\n",
       "      <th>duration__&gt;=1.5m&amp;month__mar</th>\n",
       "      <th>duration__&gt;=3m&amp;month__oct</th>\n",
       "      <th>duration__&gt;=3m&amp;month__dec</th>\n",
       "      <th>duration__&gt;=1.5m&amp;month__oct</th>\n",
       "      <th>duration__&gt;=3m&amp;contact__cellular&amp;month__mar</th>\n",
       "      <th>duration__&gt;=1m&amp;month__sep</th>\n",
       "      <th>duration__&gt;=1m&amp;contact__cellular&amp;month__mar</th>\n",
       "      <th>duration__&gt;=5.5m&amp;contact__cellular</th>\n",
       "      <th>duration__&gt;=16.5m&amp;month__dec</th>\n",
       "      <th>duration__&gt;=5.5m&amp;contact__cellular&amp;month__oct</th>\n",
       "      <th>duration__&gt;=5.5m&amp;contact__cellular&amp;month__may</th>\n",
       "    </tr>\n",
       "  </thead>\n",
       "  <tbody>\n",
       "    <tr>\n",
       "      <th>2398</th>\n",
       "      <td>False</td>\n",
       "      <td>False</td>\n",
       "      <td>False</td>\n",
       "      <td>False</td>\n",
       "      <td>False</td>\n",
       "      <td>False</td>\n",
       "      <td>False</td>\n",
       "      <td>False</td>\n",
       "      <td>False</td>\n",
       "      <td>False</td>\n",
       "      <td>False</td>\n",
       "      <td>False</td>\n",
       "      <td>False</td>\n",
       "      <td>False</td>\n",
       "      <td>False</td>\n",
       "      <td>False</td>\n",
       "      <td>False</td>\n",
       "      <td>False</td>\n",
       "      <td>False</td>\n",
       "    </tr>\n",
       "    <tr>\n",
       "      <th>800</th>\n",
       "      <td>True</td>\n",
       "      <td>False</td>\n",
       "      <td>False</td>\n",
       "      <td>False</td>\n",
       "      <td>False</td>\n",
       "      <td>False</td>\n",
       "      <td>False</td>\n",
       "      <td>False</td>\n",
       "      <td>False</td>\n",
       "      <td>False</td>\n",
       "      <td>False</td>\n",
       "      <td>False</td>\n",
       "      <td>False</td>\n",
       "      <td>False</td>\n",
       "      <td>False</td>\n",
       "      <td>True</td>\n",
       "      <td>False</td>\n",
       "      <td>False</td>\n",
       "      <td>False</td>\n",
       "    </tr>\n",
       "    <tr>\n",
       "      <th>2288</th>\n",
       "      <td>False</td>\n",
       "      <td>False</td>\n",
       "      <td>False</td>\n",
       "      <td>False</td>\n",
       "      <td>False</td>\n",
       "      <td>False</td>\n",
       "      <td>False</td>\n",
       "      <td>False</td>\n",
       "      <td>False</td>\n",
       "      <td>False</td>\n",
       "      <td>False</td>\n",
       "      <td>False</td>\n",
       "      <td>False</td>\n",
       "      <td>False</td>\n",
       "      <td>False</td>\n",
       "      <td>False</td>\n",
       "      <td>False</td>\n",
       "      <td>False</td>\n",
       "      <td>False</td>\n",
       "    </tr>\n",
       "    <tr>\n",
       "      <th>2344</th>\n",
       "      <td>False</td>\n",
       "      <td>False</td>\n",
       "      <td>False</td>\n",
       "      <td>False</td>\n",
       "      <td>False</td>\n",
       "      <td>False</td>\n",
       "      <td>False</td>\n",
       "      <td>False</td>\n",
       "      <td>False</td>\n",
       "      <td>False</td>\n",
       "      <td>False</td>\n",
       "      <td>False</td>\n",
       "      <td>False</td>\n",
       "      <td>False</td>\n",
       "      <td>False</td>\n",
       "      <td>False</td>\n",
       "      <td>False</td>\n",
       "      <td>False</td>\n",
       "      <td>False</td>\n",
       "    </tr>\n",
       "    <tr>\n",
       "      <th>3615</th>\n",
       "      <td>True</td>\n",
       "      <td>False</td>\n",
       "      <td>False</td>\n",
       "      <td>False</td>\n",
       "      <td>False</td>\n",
       "      <td>False</td>\n",
       "      <td>False</td>\n",
       "      <td>False</td>\n",
       "      <td>False</td>\n",
       "      <td>False</td>\n",
       "      <td>False</td>\n",
       "      <td>False</td>\n",
       "      <td>False</td>\n",
       "      <td>False</td>\n",
       "      <td>False</td>\n",
       "      <td>True</td>\n",
       "      <td>False</td>\n",
       "      <td>False</td>\n",
       "      <td>False</td>\n",
       "    </tr>\n",
       "  </tbody>\n",
       "</table>\n",
       "</div>"
      ],
      "text/plain": [
       "      duration__>=5.5m  duration__>=16.5m  duration__<1m  month__oct  \\\n",
       "2398             False              False          False       False   \n",
       "800               True              False          False       False   \n",
       "2288             False              False          False       False   \n",
       "2344             False              False          False       False   \n",
       "3615              True              False          False       False   \n",
       "\n",
       "      month__mar  month__may  duration__>=1.5m&contact__cellular&month__mar  \\\n",
       "2398       False       False                                          False   \n",
       "800        False       False                                          False   \n",
       "2288       False       False                                          False   \n",
       "2344       False       False                                          False   \n",
       "3615       False       False                                          False   \n",
       "\n",
       "      duration__>=1.5m&month__dec  duration__>=1.5m&month__mar  \\\n",
       "2398                        False                        False   \n",
       "800                         False                        False   \n",
       "2288                        False                        False   \n",
       "2344                        False                        False   \n",
       "3615                        False                        False   \n",
       "\n",
       "      duration__>=3m&month__oct  duration__>=3m&month__dec  \\\n",
       "2398                      False                      False   \n",
       "800                       False                      False   \n",
       "2288                      False                      False   \n",
       "2344                      False                      False   \n",
       "3615                      False                      False   \n",
       "\n",
       "      duration__>=1.5m&month__oct  \\\n",
       "2398                        False   \n",
       "800                         False   \n",
       "2288                        False   \n",
       "2344                        False   \n",
       "3615                        False   \n",
       "\n",
       "      duration__>=3m&contact__cellular&month__mar  duration__>=1m&month__sep  \\\n",
       "2398                                        False                      False   \n",
       "800                                         False                      False   \n",
       "2288                                        False                      False   \n",
       "2344                                        False                      False   \n",
       "3615                                        False                      False   \n",
       "\n",
       "      duration__>=1m&contact__cellular&month__mar  \\\n",
       "2398                                        False   \n",
       "800                                         False   \n",
       "2288                                        False   \n",
       "2344                                        False   \n",
       "3615                                        False   \n",
       "\n",
       "      duration__>=5.5m&contact__cellular  duration__>=16.5m&month__dec  \\\n",
       "2398                               False                         False   \n",
       "800                                 True                         False   \n",
       "2288                               False                         False   \n",
       "2344                               False                         False   \n",
       "3615                                True                         False   \n",
       "\n",
       "      duration__>=5.5m&contact__cellular&month__oct  \\\n",
       "2398                                          False   \n",
       "800                                           False   \n",
       "2288                                          False   \n",
       "2344                                          False   \n",
       "3615                                          False   \n",
       "\n",
       "      duration__>=5.5m&contact__cellular&month__may  \n",
       "2398                                          False  \n",
       "800                                           False  \n",
       "2288                                          False  \n",
       "2344                                          False  \n",
       "3615                                          False  "
      ]
     },
     "execution_count": 578,
     "metadata": {},
     "output_type": "execute_result"
    }
   ],
   "source": [
    "bin_ds_agg = get_context_by_concepts(fm_bank, bin_ds)\n",
    "print(bin_ds_agg.shape)\n",
    "bin_ds_agg.head()"
   ]
  },
  {
   "cell_type": "code",
   "execution_count": 579,
   "metadata": {},
   "outputs": [],
   "source": [
    "bin_ds_agg_alt = ~bin_ds_agg"
   ]
  },
  {
   "cell_type": "code",
   "execution_count": 665,
   "metadata": {},
   "outputs": [
    {
     "name": "stderr",
     "output_type": "stream",
     "text": [
      "/home/egor/anaconda3/lib/python3.7/site-packages/sklearn/metrics/classification.py:1143: UndefinedMetricWarning:\n",
      "\n",
      "Precision is ill-defined and being set to 0.0 due to no predicted samples.\n",
      "\n",
      "/home/egor/anaconda3/lib/python3.7/site-packages/sklearn/metrics/classification.py:1143: UndefinedMetricWarning:\n",
      "\n",
      "Precision is ill-defined and being set to 0.0 due to no predicted samples.\n",
      "\n",
      "/home/egor/anaconda3/lib/python3.7/site-packages/sklearn/metrics/classification.py:1143: UndefinedMetricWarning:\n",
      "\n",
      "Precision is ill-defined and being set to 0.0 due to no predicted samples.\n",
      "\n",
      "/home/egor/anaconda3/lib/python3.7/site-packages/sklearn/metrics/classification.py:1143: UndefinedMetricWarning:\n",
      "\n",
      "Precision is ill-defined and being set to 0.0 due to no predicted samples.\n",
      "\n",
      "/home/egor/anaconda3/lib/python3.7/site-packages/sklearn/metrics/classification.py:1143: UndefinedMetricWarning:\n",
      "\n",
      "Precision is ill-defined and being set to 0.0 due to no predicted samples.\n",
      "\n",
      "/home/egor/anaconda3/lib/python3.7/site-packages/sklearn/metrics/classification.py:1143: UndefinedMetricWarning:\n",
      "\n",
      "Precision is ill-defined and being set to 0.0 due to no predicted samples.\n",
      "\n",
      "/home/egor/anaconda3/lib/python3.7/site-packages/sklearn/metrics/classification.py:1143: UndefinedMetricWarning:\n",
      "\n",
      "Precision is ill-defined and being set to 0.0 due to no predicted samples.\n",
      "\n"
     ]
    },
    {
     "name": "stdout",
     "output_type": "stream",
     "text": [
      "CPU times: user 19.2 s, sys: 0 ns, total: 19.2 s\n",
      "Wall time: 19.2 s\n"
     ]
    }
   ],
   "source": [
    "%%time\n",
    "cntx_bank_mon = fcai.Context(bin_ds_agg_alt,y_true=y_test, y_pred=test_preds)\n",
    "fm_bank_mon = fcai.FormalManager(cntx_bank_mon, ds_obj=None, task_type='binary classification')\n",
    "fm_bank_mon.construct_concepts(use_tqdm=False, is_monotonic=True )\n",
    "#fm_bank_mon.construct_lattice(use_tqdm=False)"
   ]
  },
  {
   "cell_type": "code",
   "execution_count": 666,
   "metadata": {},
   "outputs": [],
   "source": [
    "border_hyps = [c for c in fm_bank_mon._concepts if c._y_pred_mean in [0,1]]\n",
    "border_hyps = sorted(border_hyps, key=lambda c: '|'.join(c._intent))"
   ]
  },
  {
   "cell_type": "code",
   "execution_count": 667,
   "metadata": {},
   "outputs": [
    {
     "data": {
      "application/vnd.jupyter.widget-view+json": {
       "model_id": "19a4dc2b2c3446ccb78e1c72b3b4c80b",
       "version_major": 2,
       "version_minor": 0
      },
      "text/plain": [
       "HBox(children=(IntProgress(value=0, max=8), HTML(value='')))"
      ]
     },
     "metadata": {},
     "output_type": "display_data"
    },
    {
     "name": "stderr",
     "output_type": "stream",
     "text": [
      "/home/egor/anaconda3/lib/python3.7/site-packages/ipykernel_launcher.py:2: FutureWarning:\n",
      "\n",
      "elementwise comparison failed; returning scalar instead, but in the future will perform elementwise comparison\n",
      "\n"
     ]
    },
    {
     "name": "stdout",
     "output_type": "stream",
     "text": [
      "\n"
     ]
    }
   ],
   "source": [
    "for bh in tqdm_notebook(border_hyps):\n",
    "    to_del_hyps = [c for c in fm_bank_mon._concepts if all([m in c._intent for m in bh._intent]) and c!=bh]\n",
    "    fm_bank_mon._concepts = [c for c in fm_bank_mon._concepts if c not in to_del_hyps]"
   ]
  },
  {
   "cell_type": "code",
   "execution_count": 668,
   "metadata": {},
   "outputs": [],
   "source": [
    "idx_map = {c_._idx: i for i, c_ in\n",
    "           enumerate(sorted(fm_bank_mon._concepts, key=lambda c_: (len(c_.get_intent()), ','.join(c_.get_intent()))))\n",
    "          }"
   ]
  },
  {
   "cell_type": "code",
   "execution_count": 669,
   "metadata": {},
   "outputs": [],
   "source": [
    "for c in fm_bank_mon._concepts:\n",
    "    c._idx = idx_map[c._idx]"
   ]
  },
  {
   "cell_type": "code",
   "execution_count": 670,
   "metadata": {},
   "outputs": [],
   "source": [
    "fm_bank_mon._top_concept = fm_bank_mon.get_concept_by_id(0)"
   ]
  },
  {
   "cell_type": "code",
   "execution_count": 671,
   "metadata": {},
   "outputs": [],
   "source": [
    "fm_bank_mon.construct_lattice(use_tqdm=False)"
   ]
  },
  {
   "cell_type": "raw",
   "metadata": {},
   "source": [
    "delete_all_lower_neighbs_downwise(fm_bank_mon, \n",
    "                                  min_y=round(min([c._y_pred_mean for c in fm_bank._concepts]),2),\n",
    "                                  max_y=round(max([c._y_pred_mean for c in fm_bank._concepts]),2))"
   ]
  },
  {
   "cell_type": "raw",
   "metadata": {},
   "source": [
    "delete_nocontrib_concepts(fm_bank_mon, conj_form=True, eps=0.02)\n",
    "fm_mango_mon.construct_lattice()"
   ]
  },
  {
   "cell_type": "code",
   "execution_count": 676,
   "metadata": {},
   "outputs": [
    {
     "name": "stderr",
     "output_type": "stream",
     "text": [
      "/home/egor/.local/lib/python3.7/site-packages/numpy/core/fromnumeric.py:3257: RuntimeWarning:\n",
      "\n",
      "Mean of empty slice.\n",
      "\n",
      "/home/egor/.local/lib/python3.7/site-packages/numpy/core/_methods.py:161: RuntimeWarning:\n",
      "\n",
      "invalid value encountered in double_scalars\n",
      "\n"
     ]
    }
   ],
   "source": [
    "fig = fm_bank_mon.get_plotly_fig(level_sort=2, sort_by='y_pred',\n",
    "                        y_precision=2, title='Bank Dataset Concept Lattice', cbar_title='Mean Prediction',\n",
    "                        color_by='y_pred',)"
   ]
  },
  {
   "cell_type": "code",
   "execution_count": 677,
   "metadata": {},
   "outputs": [
    {
     "data": {
      "application/vnd.plotly.v1+json": {
       "config": {
        "plotlyServerURL": "https://plot.ly"
       },
       "data": [
        {
         "hoverinfo": "none",
         "line": {
          "color": "#888",
          "width": 0.5
         },
         "mode": "lines",
         "type": "scatter",
         "x": [
          0,
          -0.5,
          null,
          0,
          0.5,
          null,
          -0.5,
          1.5,
          null,
          0.5,
          1.5,
          null,
          0.5,
          -0.5,
          null,
          2.5,
          0,
          null,
          -1.5,
          0,
          null,
          1.5,
          0,
          null,
          -0.5,
          0,
          null,
          0,
          -2.5,
          null,
          0,
          0.5,
          null
         ],
         "y": [
          1,
          2,
          null,
          1,
          2,
          null,
          2,
          3,
          null,
          2,
          3,
          null,
          2,
          3,
          null,
          3,
          4,
          null,
          3,
          4,
          null,
          3,
          4,
          null,
          3,
          4,
          null,
          4,
          3,
          null,
          4,
          3,
          null
         ]
        },
        {
         "hoverinfo": "text",
         "hovertext": [
          "Concept 9<br>extent (len: 367): 3548, 1878, 2401, 1476, 3471, 2754, 3303, 1181, 1659, 3418,...<br>intent (len: 3): month__may, duration__>=1m&month__sep, duration__>=5.5m&contact__cellular&month__may<br>new extent (len: 367): 3298, 2528, 3259, 26, 2495, 2978, 471, 3091, 2784, 3401,...<br>new intent (len: 0): emptyset<br>mean_y_true: 0.09<br>mean_y_pred: 0.03<br>Metrics<br>\taccuracy: 0.92<br>\tprecision: 0.73<br>\trecall: 0.24<br>\tneg_precision: 0.93<br>\tneg_recall: 0.99<br><br>",
          "Concept 8<br>extent (len: 358): 3548, 1878, 2401, 1476, 3471, 2754, 3303, 1181, 1659, 3418,...<br>intent (len: 2): month__may, duration__>=5.5m&contact__cellular&month__may<br>new extent (len: 0): emptyset<br>new intent (len: 1): month__may<br>mean_y_true: 0.09<br>mean_y_pred: 0.02<br>Metrics<br>\taccuracy: 0.92<br>\tprecision: 0.75<br>\trecall: 0.19<br>\tneg_precision: 0.93<br>\tneg_recall: 0.99<br><br>",
          "Concept 7<br>extent (len: 44): 4053, 1345, 3298, 4406, 3920, 721, 3312, 3674, 626, 318,...<br>intent (len: 2): duration__>=1m&month__sep, duration__>=5.5m&contact__cellular&month__may<br>new extent (len: 0): emptyset<br>new intent (len: 0): emptyset<br>mean_y_true: 0.41<br>mean_y_pred: 0.2<br>Metrics<br>\taccuracy: 0.66<br>\tprecision: 0.67<br>\trecall: 0.33<br>\tneg_precision: 0.66<br>\tneg_recall: 0.88<br><br>",
          "Concept 6<br>extent (len: 5): 1672, 1186, 1437, 803, 4413<br>intent (len: 1): duration__>=5.5m&contact__cellular&month__oct<br>new extent (len: 5): 4413, 1437, 1672, 1186, 803<br>new intent (len: 1): duration__>=5.5m&contact__cellular&month__oct<br>mean_y_true: 0.4<br>mean_y_pred: 1.0<br>Metrics<br>\taccuracy: 0.4<br>\tprecision: 0.4<br>\trecall: 1.0<br>\tneg_precision: 0.0<br>\tneg_recall: 0.0<br><br>",
          "Concept 2<br>extent (len: 2): 3889, 328<br>intent (len: 1): duration__>=16.5m&month__dec<br>new extent (len: 2): 328, 3889<br>new intent (len: 1): duration__>=16.5m&month__dec<br>mean_y_true: 1.0<br>mean_y_pred: 1.0<br>Metrics<br>\taccuracy: 1.0<br>\tprecision: 1.0<br>\trecall: 1.0<br>\tneg_precision: 0.0<br>\tneg_recall: 0.0<br><br>",
          "Concept 5<br>extent (len: 35): 4053, 1345, 3298, 4406, 3920, 721, 3312, 3674, 626, 318,...<br>intent (len: 1): duration__>=5.5m&contact__cellular&month__may<br>new extent (len: 0): emptyset<br>new intent (len: 1): duration__>=5.5m&contact__cellular&month__may<br>mean_y_true: 0.43<br>mean_y_pred: 0.17<br>Metrics<br>\taccuracy: 0.63<br>\tprecision: 0.67<br>\trecall: 0.27<br>\tneg_precision: 0.62<br>\tneg_recall: 0.9<br><br>",
          "Concept 3<br>extent (len: 9): 3541, 2266, 2918, 680, 1904, 2042, 229, 4215, 2963<br>intent (len: 1): duration__>=1m&month__sep<br>new extent (len: 0): emptyset<br>new intent (len: 1): duration__>=1m&month__sep<br>mean_y_true: 0.33<br>mean_y_pred: 0.33<br>Metrics<br>\taccuracy: 0.78<br>\tprecision: 0.67<br>\trecall: 0.67<br>\tneg_precision: 0.83<br>\tneg_recall: 0.83<br><br>",
          "Concept 0<br>extent (len: 0): emptyset<br>intent (len: 0): emptyset<br>new extent (len: 0): emptyset<br>new intent (len: 0): emptyset<br>Metrics<br><br>",
          "Concept 1<br>extent (len: 125): 3134, 3462, 3214, 4374, 1569, 3166, 3531, 596, 3671, 4464,...<br>intent (len: 1): duration__<1m<br>new extent (len: 125): 3713, 2978, 1995, 596, 3988, 3462, 8, 2673, 538, 4464,...<br>new intent (len: 1): duration__<1m<br>mean_y_true: 0.01<br>mean_y_pred: 0.0<br>Metrics<br>\taccuracy: 0.99<br>\tprecision: 0.0<br>\trecall: 0.0<br>\tneg_precision: 0.99<br>\tneg_recall: 1.0<br><br>",
          "Concept 4<br>extent (len: 3): 2258, 3256, 2018<br>intent (len: 1): duration__>=3m&contact__cellular&month__mar<br>new extent (len: 3): 2258, 3256, 2018<br>new intent (len: 1): duration__>=3m&contact__cellular&month__mar<br>mean_y_true: 0.33<br>mean_y_pred: 1.0<br>Metrics<br>\taccuracy: 0.33<br>\tprecision: 0.33<br>\trecall: 1.0<br>\tneg_precision: 0.0<br>\tneg_recall: 0.0<br><br>"
         ],
         "marker": {
          "color": [
           0.02997275204359673,
           0.0223463687150838,
           0.20454545454545456,
           1,
           1,
           0.17142857142857143,
           0.3333333333333333,
           "grey",
           0,
           1
          ],
          "colorbar": {
           "thickness": 15,
           "title": {
            "side": "right",
            "text": "Mean Prediction"
           },
           "xanchor": "left"
          },
          "colorscale": [
           [
            0,
            "rgb(103,0,31)"
           ],
           [
            0.1,
            "rgb(178,24,43)"
           ],
           [
            0.2,
            "rgb(214,96,77)"
           ],
           [
            0.3,
            "rgb(244,165,130)"
           ],
           [
            0.4,
            "rgb(253,219,199)"
           ],
           [
            0.5,
            "rgb(247,247,247)"
           ],
           [
            0.6,
            "rgb(209,229,240)"
           ],
           [
            0.7,
            "rgb(146,197,222)"
           ],
           [
            0.8,
            "rgb(67,147,195)"
           ],
           [
            0.9,
            "rgb(33,102,172)"
           ],
           [
            1,
            "rgb(5,48,97)"
           ]
          ],
          "line": {
           "width": 2
          },
          "reversescale": true,
          "showscale": true,
          "size": 10
         },
         "mode": "markers+text",
         "text": [
          "<br>n: 367",
          "month__may<br>",
          "<br>",
          "duration__>=5.5m&contact__cellular&month__oct<br>n: 5",
          "duration__>=16.5m&month__dec<br>328,3889",
          "duration__>=5.5m&contact__cellular&month__may<br>",
          "duration__>=1m&month__sep<br>",
          "<br>",
          "duration__<1m<br>n: 125",
          "duration__>=3m&contact__cellular&month__mar<br>2258,3256,2018"
         ],
         "textposition": "middle right",
         "type": "scatter",
         "x": [
          0,
          -0.5,
          0.5,
          2.5,
          -1.5,
          1.5,
          -0.5,
          0,
          -2.5,
          0.5
         ],
         "y": [
          1,
          2,
          2,
          3,
          3,
          3,
          3,
          4,
          3,
          3
         ]
        }
       ],
       "layout": {
        "height": 500,
        "hovermode": "closest",
        "margin": {
         "b": 20,
         "l": 5,
         "r": 5,
         "t": 40
        },
        "showlegend": false,
        "template": {
         "data": {
          "bar": [
           {
            "error_x": {
             "color": "#2a3f5f"
            },
            "error_y": {
             "color": "#2a3f5f"
            },
            "marker": {
             "line": {
              "color": "#E5ECF6",
              "width": 0.5
             }
            },
            "type": "bar"
           }
          ],
          "barpolar": [
           {
            "marker": {
             "line": {
              "color": "#E5ECF6",
              "width": 0.5
             }
            },
            "type": "barpolar"
           }
          ],
          "carpet": [
           {
            "aaxis": {
             "endlinecolor": "#2a3f5f",
             "gridcolor": "white",
             "linecolor": "white",
             "minorgridcolor": "white",
             "startlinecolor": "#2a3f5f"
            },
            "baxis": {
             "endlinecolor": "#2a3f5f",
             "gridcolor": "white",
             "linecolor": "white",
             "minorgridcolor": "white",
             "startlinecolor": "#2a3f5f"
            },
            "type": "carpet"
           }
          ],
          "choropleth": [
           {
            "colorbar": {
             "outlinewidth": 0,
             "ticks": ""
            },
            "type": "choropleth"
           }
          ],
          "contour": [
           {
            "colorbar": {
             "outlinewidth": 0,
             "ticks": ""
            },
            "colorscale": [
             [
              0,
              "#0d0887"
             ],
             [
              0.1111111111111111,
              "#46039f"
             ],
             [
              0.2222222222222222,
              "#7201a8"
             ],
             [
              0.3333333333333333,
              "#9c179e"
             ],
             [
              0.4444444444444444,
              "#bd3786"
             ],
             [
              0.5555555555555556,
              "#d8576b"
             ],
             [
              0.6666666666666666,
              "#ed7953"
             ],
             [
              0.7777777777777778,
              "#fb9f3a"
             ],
             [
              0.8888888888888888,
              "#fdca26"
             ],
             [
              1,
              "#f0f921"
             ]
            ],
            "type": "contour"
           }
          ],
          "contourcarpet": [
           {
            "colorbar": {
             "outlinewidth": 0,
             "ticks": ""
            },
            "type": "contourcarpet"
           }
          ],
          "heatmap": [
           {
            "colorbar": {
             "outlinewidth": 0,
             "ticks": ""
            },
            "colorscale": [
             [
              0,
              "#0d0887"
             ],
             [
              0.1111111111111111,
              "#46039f"
             ],
             [
              0.2222222222222222,
              "#7201a8"
             ],
             [
              0.3333333333333333,
              "#9c179e"
             ],
             [
              0.4444444444444444,
              "#bd3786"
             ],
             [
              0.5555555555555556,
              "#d8576b"
             ],
             [
              0.6666666666666666,
              "#ed7953"
             ],
             [
              0.7777777777777778,
              "#fb9f3a"
             ],
             [
              0.8888888888888888,
              "#fdca26"
             ],
             [
              1,
              "#f0f921"
             ]
            ],
            "type": "heatmap"
           }
          ],
          "heatmapgl": [
           {
            "colorbar": {
             "outlinewidth": 0,
             "ticks": ""
            },
            "colorscale": [
             [
              0,
              "#0d0887"
             ],
             [
              0.1111111111111111,
              "#46039f"
             ],
             [
              0.2222222222222222,
              "#7201a8"
             ],
             [
              0.3333333333333333,
              "#9c179e"
             ],
             [
              0.4444444444444444,
              "#bd3786"
             ],
             [
              0.5555555555555556,
              "#d8576b"
             ],
             [
              0.6666666666666666,
              "#ed7953"
             ],
             [
              0.7777777777777778,
              "#fb9f3a"
             ],
             [
              0.8888888888888888,
              "#fdca26"
             ],
             [
              1,
              "#f0f921"
             ]
            ],
            "type": "heatmapgl"
           }
          ],
          "histogram": [
           {
            "marker": {
             "colorbar": {
              "outlinewidth": 0,
              "ticks": ""
             }
            },
            "type": "histogram"
           }
          ],
          "histogram2d": [
           {
            "colorbar": {
             "outlinewidth": 0,
             "ticks": ""
            },
            "colorscale": [
             [
              0,
              "#0d0887"
             ],
             [
              0.1111111111111111,
              "#46039f"
             ],
             [
              0.2222222222222222,
              "#7201a8"
             ],
             [
              0.3333333333333333,
              "#9c179e"
             ],
             [
              0.4444444444444444,
              "#bd3786"
             ],
             [
              0.5555555555555556,
              "#d8576b"
             ],
             [
              0.6666666666666666,
              "#ed7953"
             ],
             [
              0.7777777777777778,
              "#fb9f3a"
             ],
             [
              0.8888888888888888,
              "#fdca26"
             ],
             [
              1,
              "#f0f921"
             ]
            ],
            "type": "histogram2d"
           }
          ],
          "histogram2dcontour": [
           {
            "colorbar": {
             "outlinewidth": 0,
             "ticks": ""
            },
            "colorscale": [
             [
              0,
              "#0d0887"
             ],
             [
              0.1111111111111111,
              "#46039f"
             ],
             [
              0.2222222222222222,
              "#7201a8"
             ],
             [
              0.3333333333333333,
              "#9c179e"
             ],
             [
              0.4444444444444444,
              "#bd3786"
             ],
             [
              0.5555555555555556,
              "#d8576b"
             ],
             [
              0.6666666666666666,
              "#ed7953"
             ],
             [
              0.7777777777777778,
              "#fb9f3a"
             ],
             [
              0.8888888888888888,
              "#fdca26"
             ],
             [
              1,
              "#f0f921"
             ]
            ],
            "type": "histogram2dcontour"
           }
          ],
          "mesh3d": [
           {
            "colorbar": {
             "outlinewidth": 0,
             "ticks": ""
            },
            "type": "mesh3d"
           }
          ],
          "parcoords": [
           {
            "line": {
             "colorbar": {
              "outlinewidth": 0,
              "ticks": ""
             }
            },
            "type": "parcoords"
           }
          ],
          "pie": [
           {
            "automargin": true,
            "type": "pie"
           }
          ],
          "scatter": [
           {
            "marker": {
             "colorbar": {
              "outlinewidth": 0,
              "ticks": ""
             }
            },
            "type": "scatter"
           }
          ],
          "scatter3d": [
           {
            "line": {
             "colorbar": {
              "outlinewidth": 0,
              "ticks": ""
             }
            },
            "marker": {
             "colorbar": {
              "outlinewidth": 0,
              "ticks": ""
             }
            },
            "type": "scatter3d"
           }
          ],
          "scattercarpet": [
           {
            "marker": {
             "colorbar": {
              "outlinewidth": 0,
              "ticks": ""
             }
            },
            "type": "scattercarpet"
           }
          ],
          "scattergeo": [
           {
            "marker": {
             "colorbar": {
              "outlinewidth": 0,
              "ticks": ""
             }
            },
            "type": "scattergeo"
           }
          ],
          "scattergl": [
           {
            "marker": {
             "colorbar": {
              "outlinewidth": 0,
              "ticks": ""
             }
            },
            "type": "scattergl"
           }
          ],
          "scattermapbox": [
           {
            "marker": {
             "colorbar": {
              "outlinewidth": 0,
              "ticks": ""
             }
            },
            "type": "scattermapbox"
           }
          ],
          "scatterpolar": [
           {
            "marker": {
             "colorbar": {
              "outlinewidth": 0,
              "ticks": ""
             }
            },
            "type": "scatterpolar"
           }
          ],
          "scatterpolargl": [
           {
            "marker": {
             "colorbar": {
              "outlinewidth": 0,
              "ticks": ""
             }
            },
            "type": "scatterpolargl"
           }
          ],
          "scatterternary": [
           {
            "marker": {
             "colorbar": {
              "outlinewidth": 0,
              "ticks": ""
             }
            },
            "type": "scatterternary"
           }
          ],
          "surface": [
           {
            "colorbar": {
             "outlinewidth": 0,
             "ticks": ""
            },
            "colorscale": [
             [
              0,
              "#0d0887"
             ],
             [
              0.1111111111111111,
              "#46039f"
             ],
             [
              0.2222222222222222,
              "#7201a8"
             ],
             [
              0.3333333333333333,
              "#9c179e"
             ],
             [
              0.4444444444444444,
              "#bd3786"
             ],
             [
              0.5555555555555556,
              "#d8576b"
             ],
             [
              0.6666666666666666,
              "#ed7953"
             ],
             [
              0.7777777777777778,
              "#fb9f3a"
             ],
             [
              0.8888888888888888,
              "#fdca26"
             ],
             [
              1,
              "#f0f921"
             ]
            ],
            "type": "surface"
           }
          ],
          "table": [
           {
            "cells": {
             "fill": {
              "color": "#EBF0F8"
             },
             "line": {
              "color": "white"
             }
            },
            "header": {
             "fill": {
              "color": "#C8D4E3"
             },
             "line": {
              "color": "white"
             }
            },
            "type": "table"
           }
          ]
         },
         "layout": {
          "annotationdefaults": {
           "arrowcolor": "#2a3f5f",
           "arrowhead": 0,
           "arrowwidth": 1
          },
          "coloraxis": {
           "colorbar": {
            "outlinewidth": 0,
            "ticks": ""
           }
          },
          "colorscale": {
           "diverging": [
            [
             0,
             "#8e0152"
            ],
            [
             0.1,
             "#c51b7d"
            ],
            [
             0.2,
             "#de77ae"
            ],
            [
             0.3,
             "#f1b6da"
            ],
            [
             0.4,
             "#fde0ef"
            ],
            [
             0.5,
             "#f7f7f7"
            ],
            [
             0.6,
             "#e6f5d0"
            ],
            [
             0.7,
             "#b8e186"
            ],
            [
             0.8,
             "#7fbc41"
            ],
            [
             0.9,
             "#4d9221"
            ],
            [
             1,
             "#276419"
            ]
           ],
           "sequential": [
            [
             0,
             "#0d0887"
            ],
            [
             0.1111111111111111,
             "#46039f"
            ],
            [
             0.2222222222222222,
             "#7201a8"
            ],
            [
             0.3333333333333333,
             "#9c179e"
            ],
            [
             0.4444444444444444,
             "#bd3786"
            ],
            [
             0.5555555555555556,
             "#d8576b"
            ],
            [
             0.6666666666666666,
             "#ed7953"
            ],
            [
             0.7777777777777778,
             "#fb9f3a"
            ],
            [
             0.8888888888888888,
             "#fdca26"
            ],
            [
             1,
             "#f0f921"
            ]
           ],
           "sequentialminus": [
            [
             0,
             "#0d0887"
            ],
            [
             0.1111111111111111,
             "#46039f"
            ],
            [
             0.2222222222222222,
             "#7201a8"
            ],
            [
             0.3333333333333333,
             "#9c179e"
            ],
            [
             0.4444444444444444,
             "#bd3786"
            ],
            [
             0.5555555555555556,
             "#d8576b"
            ],
            [
             0.6666666666666666,
             "#ed7953"
            ],
            [
             0.7777777777777778,
             "#fb9f3a"
            ],
            [
             0.8888888888888888,
             "#fdca26"
            ],
            [
             1,
             "#f0f921"
            ]
           ]
          },
          "colorway": [
           "#636efa",
           "#EF553B",
           "#00cc96",
           "#ab63fa",
           "#FFA15A",
           "#19d3f3",
           "#FF6692",
           "#B6E880",
           "#FF97FF",
           "#FECB52"
          ],
          "font": {
           "color": "#2a3f5f"
          },
          "geo": {
           "bgcolor": "white",
           "lakecolor": "white",
           "landcolor": "#E5ECF6",
           "showlakes": true,
           "showland": true,
           "subunitcolor": "white"
          },
          "hoverlabel": {
           "align": "left"
          },
          "hovermode": "closest",
          "mapbox": {
           "style": "light"
          },
          "paper_bgcolor": "white",
          "plot_bgcolor": "#E5ECF6",
          "polar": {
           "angularaxis": {
            "gridcolor": "white",
            "linecolor": "white",
            "ticks": ""
           },
           "bgcolor": "#E5ECF6",
           "radialaxis": {
            "gridcolor": "white",
            "linecolor": "white",
            "ticks": ""
           }
          },
          "scene": {
           "xaxis": {
            "backgroundcolor": "#E5ECF6",
            "gridcolor": "white",
            "gridwidth": 2,
            "linecolor": "white",
            "showbackground": true,
            "ticks": "",
            "zerolinecolor": "white"
           },
           "yaxis": {
            "backgroundcolor": "#E5ECF6",
            "gridcolor": "white",
            "gridwidth": 2,
            "linecolor": "white",
            "showbackground": true,
            "ticks": "",
            "zerolinecolor": "white"
           },
           "zaxis": {
            "backgroundcolor": "#E5ECF6",
            "gridcolor": "white",
            "gridwidth": 2,
            "linecolor": "white",
            "showbackground": true,
            "ticks": "",
            "zerolinecolor": "white"
           }
          },
          "shapedefaults": {
           "line": {
            "color": "#2a3f5f"
           }
          },
          "ternary": {
           "aaxis": {
            "gridcolor": "white",
            "linecolor": "white",
            "ticks": ""
           },
           "baxis": {
            "gridcolor": "white",
            "linecolor": "white",
            "ticks": ""
           },
           "bgcolor": "#E5ECF6",
           "caxis": {
            "gridcolor": "white",
            "linecolor": "white",
            "ticks": ""
           }
          },
          "title": {
           "x": 0.05
          },
          "xaxis": {
           "automargin": true,
           "gridcolor": "white",
           "linecolor": "white",
           "ticks": "",
           "title": {
            "standoff": 15
           },
           "zerolinecolor": "white",
           "zerolinewidth": 2
          },
          "yaxis": {
           "automargin": true,
           "gridcolor": "white",
           "linecolor": "white",
           "ticks": "",
           "title": {
            "standoff": 15
           },
           "zerolinecolor": "white",
           "zerolinewidth": 2
          }
         }
        },
        "title": {
         "font": {
          "size": 16
         },
         "text": "Bank Dataset Concept Lattice"
        },
        "width": 1000,
        "xaxis": {
         "showgrid": false,
         "showticklabels": false,
         "zeroline": false
        },
        "yaxis": {
         "showgrid": false,
         "showticklabels": false,
         "zeroline": false
        }
       }
      },
      "text/html": [
       "<div>\n",
       "        \n",
       "        \n",
       "            <div id=\"21a1d478-7a9e-49c2-8060-c9d03032f9dd\" class=\"plotly-graph-div\" style=\"height:500px; width:1000px;\"></div>\n",
       "            <script type=\"text/javascript\">\n",
       "                require([\"plotly\"], function(Plotly) {\n",
       "                    window.PLOTLYENV=window.PLOTLYENV || {};\n",
       "                    \n",
       "                if (document.getElementById(\"21a1d478-7a9e-49c2-8060-c9d03032f9dd\")) {\n",
       "                    Plotly.newPlot(\n",
       "                        '21a1d478-7a9e-49c2-8060-c9d03032f9dd',\n",
       "                        [{\"hoverinfo\": \"none\", \"line\": {\"color\": \"#888\", \"width\": 0.5}, \"mode\": \"lines\", \"type\": \"scatter\", \"x\": [0.0, -0.5, null, 0.0, 0.5, null, -0.5, 1.5, null, 0.5, 1.5, null, 0.5, -0.5, null, 2.5, 0.0, null, -1.5, 0.0, null, 1.5, 0.0, null, -0.5, 0.0, null, 0.0, -2.5, null, 0.0, 0.5, null], \"y\": [1, 2, null, 1, 2, null, 2, 3, null, 2, 3, null, 2, 3, null, 3, 4, null, 3, 4, null, 3, 4, null, 3, 4, null, 4, 3, null, 4, 3, null]}, {\"hoverinfo\": \"text\", \"hovertext\": [\"Concept 9<br>extent (len: 367): 3548, 1878, 2401, 1476, 3471, 2754, 3303, 1181, 1659, 3418,...<br>intent (len: 3): month__may, duration__>=1m&month__sep, duration__>=5.5m&contact__cellular&month__may<br>new extent (len: 367): 3298, 2528, 3259, 26, 2495, 2978, 471, 3091, 2784, 3401,...<br>new intent (len: 0): emptyset<br>mean_y_true: 0.09<br>mean_y_pred: 0.03<br>Metrics<br>\\taccuracy: 0.92<br>\\tprecision: 0.73<br>\\trecall: 0.24<br>\\tneg_precision: 0.93<br>\\tneg_recall: 0.99<br><br>\", \"Concept 8<br>extent (len: 358): 3548, 1878, 2401, 1476, 3471, 2754, 3303, 1181, 1659, 3418,...<br>intent (len: 2): month__may, duration__>=5.5m&contact__cellular&month__may<br>new extent (len: 0): emptyset<br>new intent (len: 1): month__may<br>mean_y_true: 0.09<br>mean_y_pred: 0.02<br>Metrics<br>\\taccuracy: 0.92<br>\\tprecision: 0.75<br>\\trecall: 0.19<br>\\tneg_precision: 0.93<br>\\tneg_recall: 0.99<br><br>\", \"Concept 7<br>extent (len: 44): 4053, 1345, 3298, 4406, 3920, 721, 3312, 3674, 626, 318,...<br>intent (len: 2): duration__>=1m&month__sep, duration__>=5.5m&contact__cellular&month__may<br>new extent (len: 0): emptyset<br>new intent (len: 0): emptyset<br>mean_y_true: 0.41<br>mean_y_pred: 0.2<br>Metrics<br>\\taccuracy: 0.66<br>\\tprecision: 0.67<br>\\trecall: 0.33<br>\\tneg_precision: 0.66<br>\\tneg_recall: 0.88<br><br>\", \"Concept 6<br>extent (len: 5): 1672, 1186, 1437, 803, 4413<br>intent (len: 1): duration__>=5.5m&contact__cellular&month__oct<br>new extent (len: 5): 4413, 1437, 1672, 1186, 803<br>new intent (len: 1): duration__>=5.5m&contact__cellular&month__oct<br>mean_y_true: 0.4<br>mean_y_pred: 1.0<br>Metrics<br>\\taccuracy: 0.4<br>\\tprecision: 0.4<br>\\trecall: 1.0<br>\\tneg_precision: 0.0<br>\\tneg_recall: 0.0<br><br>\", \"Concept 2<br>extent (len: 2): 3889, 328<br>intent (len: 1): duration__>=16.5m&month__dec<br>new extent (len: 2): 328, 3889<br>new intent (len: 1): duration__>=16.5m&month__dec<br>mean_y_true: 1.0<br>mean_y_pred: 1.0<br>Metrics<br>\\taccuracy: 1.0<br>\\tprecision: 1.0<br>\\trecall: 1.0<br>\\tneg_precision: 0.0<br>\\tneg_recall: 0.0<br><br>\", \"Concept 5<br>extent (len: 35): 4053, 1345, 3298, 4406, 3920, 721, 3312, 3674, 626, 318,...<br>intent (len: 1): duration__>=5.5m&contact__cellular&month__may<br>new extent (len: 0): emptyset<br>new intent (len: 1): duration__>=5.5m&contact__cellular&month__may<br>mean_y_true: 0.43<br>mean_y_pred: 0.17<br>Metrics<br>\\taccuracy: 0.63<br>\\tprecision: 0.67<br>\\trecall: 0.27<br>\\tneg_precision: 0.62<br>\\tneg_recall: 0.9<br><br>\", \"Concept 3<br>extent (len: 9): 3541, 2266, 2918, 680, 1904, 2042, 229, 4215, 2963<br>intent (len: 1): duration__>=1m&month__sep<br>new extent (len: 0): emptyset<br>new intent (len: 1): duration__>=1m&month__sep<br>mean_y_true: 0.33<br>mean_y_pred: 0.33<br>Metrics<br>\\taccuracy: 0.78<br>\\tprecision: 0.67<br>\\trecall: 0.67<br>\\tneg_precision: 0.83<br>\\tneg_recall: 0.83<br><br>\", \"Concept 0<br>extent (len: 0): emptyset<br>intent (len: 0): emptyset<br>new extent (len: 0): emptyset<br>new intent (len: 0): emptyset<br>Metrics<br><br>\", \"Concept 1<br>extent (len: 125): 3134, 3462, 3214, 4374, 1569, 3166, 3531, 596, 3671, 4464,...<br>intent (len: 1): duration__<1m<br>new extent (len: 125): 3713, 2978, 1995, 596, 3988, 3462, 8, 2673, 538, 4464,...<br>new intent (len: 1): duration__<1m<br>mean_y_true: 0.01<br>mean_y_pred: 0.0<br>Metrics<br>\\taccuracy: 0.99<br>\\tprecision: 0.0<br>\\trecall: 0.0<br>\\tneg_precision: 0.99<br>\\tneg_recall: 1.0<br><br>\", \"Concept 4<br>extent (len: 3): 2258, 3256, 2018<br>intent (len: 1): duration__>=3m&contact__cellular&month__mar<br>new extent (len: 3): 2258, 3256, 2018<br>new intent (len: 1): duration__>=3m&contact__cellular&month__mar<br>mean_y_true: 0.33<br>mean_y_pred: 1.0<br>Metrics<br>\\taccuracy: 0.33<br>\\tprecision: 0.33<br>\\trecall: 1.0<br>\\tneg_precision: 0.0<br>\\tneg_recall: 0.0<br><br>\"], \"marker\": {\"color\": [0.02997275204359673, 0.0223463687150838, 0.20454545454545456, 1.0, 1.0, 0.17142857142857143, 0.3333333333333333, \"grey\", 0.0, 1.0], \"colorbar\": {\"thickness\": 15, \"title\": {\"side\": \"right\", \"text\": \"Mean Prediction\"}, \"xanchor\": \"left\"}, \"colorscale\": [[0.0, \"rgb(103,0,31)\"], [0.1, \"rgb(178,24,43)\"], [0.2, \"rgb(214,96,77)\"], [0.3, \"rgb(244,165,130)\"], [0.4, \"rgb(253,219,199)\"], [0.5, \"rgb(247,247,247)\"], [0.6, \"rgb(209,229,240)\"], [0.7, \"rgb(146,197,222)\"], [0.8, \"rgb(67,147,195)\"], [0.9, \"rgb(33,102,172)\"], [1.0, \"rgb(5,48,97)\"]], \"line\": {\"width\": 2}, \"reversescale\": true, \"showscale\": true, \"size\": 10}, \"mode\": \"markers+text\", \"text\": [\"<br>n: 367\", \"month__may<br>\", \"<br>\", \"duration__>=5.5m&contact__cellular&month__oct<br>n: 5\", \"duration__>=16.5m&month__dec<br>328,3889\", \"duration__>=5.5m&contact__cellular&month__may<br>\", \"duration__>=1m&month__sep<br>\", \"<br>\", \"duration__<1m<br>n: 125\", \"duration__>=3m&contact__cellular&month__mar<br>2258,3256,2018\"], \"textposition\": \"middle right\", \"type\": \"scatter\", \"x\": [0.0, -0.5, 0.5, 2.5, -1.5, 1.5, -0.5, 0.0, -2.5, 0.5], \"y\": [1, 2, 2, 3, 3, 3, 3, 4, 3, 3]}],\n",
       "                        {\"height\": 500, \"hovermode\": \"closest\", \"margin\": {\"b\": 20, \"l\": 5, \"r\": 5, \"t\": 40}, \"showlegend\": false, \"template\": {\"data\": {\"bar\": [{\"error_x\": {\"color\": \"#2a3f5f\"}, \"error_y\": {\"color\": \"#2a3f5f\"}, \"marker\": {\"line\": {\"color\": \"#E5ECF6\", \"width\": 0.5}}, \"type\": \"bar\"}], \"barpolar\": [{\"marker\": {\"line\": {\"color\": \"#E5ECF6\", \"width\": 0.5}}, \"type\": \"barpolar\"}], \"carpet\": [{\"aaxis\": {\"endlinecolor\": \"#2a3f5f\", \"gridcolor\": \"white\", \"linecolor\": \"white\", \"minorgridcolor\": \"white\", \"startlinecolor\": \"#2a3f5f\"}, \"baxis\": {\"endlinecolor\": \"#2a3f5f\", \"gridcolor\": \"white\", \"linecolor\": \"white\", \"minorgridcolor\": \"white\", \"startlinecolor\": \"#2a3f5f\"}, \"type\": \"carpet\"}], \"choropleth\": [{\"colorbar\": {\"outlinewidth\": 0, \"ticks\": \"\"}, \"type\": \"choropleth\"}], \"contour\": [{\"colorbar\": {\"outlinewidth\": 0, \"ticks\": \"\"}, \"colorscale\": [[0.0, \"#0d0887\"], [0.1111111111111111, \"#46039f\"], [0.2222222222222222, \"#7201a8\"], [0.3333333333333333, \"#9c179e\"], [0.4444444444444444, \"#bd3786\"], [0.5555555555555556, \"#d8576b\"], [0.6666666666666666, \"#ed7953\"], [0.7777777777777778, \"#fb9f3a\"], [0.8888888888888888, \"#fdca26\"], [1.0, \"#f0f921\"]], \"type\": \"contour\"}], \"contourcarpet\": [{\"colorbar\": {\"outlinewidth\": 0, \"ticks\": \"\"}, \"type\": \"contourcarpet\"}], \"heatmap\": [{\"colorbar\": {\"outlinewidth\": 0, \"ticks\": \"\"}, \"colorscale\": [[0.0, \"#0d0887\"], [0.1111111111111111, \"#46039f\"], [0.2222222222222222, \"#7201a8\"], [0.3333333333333333, \"#9c179e\"], [0.4444444444444444, \"#bd3786\"], [0.5555555555555556, \"#d8576b\"], [0.6666666666666666, \"#ed7953\"], [0.7777777777777778, \"#fb9f3a\"], [0.8888888888888888, \"#fdca26\"], [1.0, \"#f0f921\"]], \"type\": \"heatmap\"}], \"heatmapgl\": [{\"colorbar\": {\"outlinewidth\": 0, \"ticks\": \"\"}, \"colorscale\": [[0.0, \"#0d0887\"], [0.1111111111111111, \"#46039f\"], [0.2222222222222222, \"#7201a8\"], [0.3333333333333333, \"#9c179e\"], [0.4444444444444444, \"#bd3786\"], [0.5555555555555556, \"#d8576b\"], [0.6666666666666666, \"#ed7953\"], [0.7777777777777778, \"#fb9f3a\"], [0.8888888888888888, \"#fdca26\"], [1.0, \"#f0f921\"]], \"type\": \"heatmapgl\"}], \"histogram\": [{\"marker\": {\"colorbar\": {\"outlinewidth\": 0, \"ticks\": \"\"}}, \"type\": \"histogram\"}], \"histogram2d\": [{\"colorbar\": {\"outlinewidth\": 0, \"ticks\": \"\"}, \"colorscale\": [[0.0, \"#0d0887\"], [0.1111111111111111, \"#46039f\"], [0.2222222222222222, \"#7201a8\"], [0.3333333333333333, \"#9c179e\"], [0.4444444444444444, \"#bd3786\"], [0.5555555555555556, \"#d8576b\"], [0.6666666666666666, \"#ed7953\"], [0.7777777777777778, \"#fb9f3a\"], [0.8888888888888888, \"#fdca26\"], [1.0, \"#f0f921\"]], \"type\": \"histogram2d\"}], \"histogram2dcontour\": [{\"colorbar\": {\"outlinewidth\": 0, \"ticks\": \"\"}, \"colorscale\": [[0.0, \"#0d0887\"], [0.1111111111111111, \"#46039f\"], [0.2222222222222222, \"#7201a8\"], [0.3333333333333333, \"#9c179e\"], [0.4444444444444444, \"#bd3786\"], [0.5555555555555556, \"#d8576b\"], [0.6666666666666666, \"#ed7953\"], [0.7777777777777778, \"#fb9f3a\"], [0.8888888888888888, \"#fdca26\"], [1.0, \"#f0f921\"]], \"type\": \"histogram2dcontour\"}], \"mesh3d\": [{\"colorbar\": {\"outlinewidth\": 0, \"ticks\": \"\"}, \"type\": \"mesh3d\"}], \"parcoords\": [{\"line\": {\"colorbar\": {\"outlinewidth\": 0, \"ticks\": \"\"}}, \"type\": \"parcoords\"}], \"pie\": [{\"automargin\": true, \"type\": \"pie\"}], \"scatter\": [{\"marker\": {\"colorbar\": {\"outlinewidth\": 0, \"ticks\": \"\"}}, \"type\": \"scatter\"}], \"scatter3d\": [{\"line\": {\"colorbar\": {\"outlinewidth\": 0, \"ticks\": \"\"}}, \"marker\": {\"colorbar\": {\"outlinewidth\": 0, \"ticks\": \"\"}}, \"type\": \"scatter3d\"}], \"scattercarpet\": [{\"marker\": {\"colorbar\": {\"outlinewidth\": 0, \"ticks\": \"\"}}, \"type\": \"scattercarpet\"}], \"scattergeo\": [{\"marker\": {\"colorbar\": {\"outlinewidth\": 0, \"ticks\": \"\"}}, \"type\": \"scattergeo\"}], \"scattergl\": [{\"marker\": {\"colorbar\": {\"outlinewidth\": 0, \"ticks\": \"\"}}, \"type\": \"scattergl\"}], \"scattermapbox\": [{\"marker\": {\"colorbar\": {\"outlinewidth\": 0, \"ticks\": \"\"}}, \"type\": \"scattermapbox\"}], \"scatterpolar\": [{\"marker\": {\"colorbar\": {\"outlinewidth\": 0, \"ticks\": \"\"}}, \"type\": \"scatterpolar\"}], \"scatterpolargl\": [{\"marker\": {\"colorbar\": {\"outlinewidth\": 0, \"ticks\": \"\"}}, \"type\": \"scatterpolargl\"}], \"scatterternary\": [{\"marker\": {\"colorbar\": {\"outlinewidth\": 0, \"ticks\": \"\"}}, \"type\": \"scatterternary\"}], \"surface\": [{\"colorbar\": {\"outlinewidth\": 0, \"ticks\": \"\"}, \"colorscale\": [[0.0, \"#0d0887\"], [0.1111111111111111, \"#46039f\"], [0.2222222222222222, \"#7201a8\"], [0.3333333333333333, \"#9c179e\"], [0.4444444444444444, \"#bd3786\"], [0.5555555555555556, \"#d8576b\"], [0.6666666666666666, \"#ed7953\"], [0.7777777777777778, \"#fb9f3a\"], [0.8888888888888888, \"#fdca26\"], [1.0, \"#f0f921\"]], \"type\": \"surface\"}], \"table\": [{\"cells\": {\"fill\": {\"color\": \"#EBF0F8\"}, \"line\": {\"color\": \"white\"}}, \"header\": {\"fill\": {\"color\": \"#C8D4E3\"}, \"line\": {\"color\": \"white\"}}, \"type\": \"table\"}]}, \"layout\": {\"annotationdefaults\": {\"arrowcolor\": \"#2a3f5f\", \"arrowhead\": 0, \"arrowwidth\": 1}, \"coloraxis\": {\"colorbar\": {\"outlinewidth\": 0, \"ticks\": \"\"}}, \"colorscale\": {\"diverging\": [[0, \"#8e0152\"], [0.1, \"#c51b7d\"], [0.2, \"#de77ae\"], [0.3, \"#f1b6da\"], [0.4, \"#fde0ef\"], [0.5, \"#f7f7f7\"], [0.6, \"#e6f5d0\"], [0.7, \"#b8e186\"], [0.8, \"#7fbc41\"], [0.9, \"#4d9221\"], [1, \"#276419\"]], \"sequential\": [[0.0, \"#0d0887\"], [0.1111111111111111, \"#46039f\"], [0.2222222222222222, \"#7201a8\"], [0.3333333333333333, \"#9c179e\"], [0.4444444444444444, \"#bd3786\"], [0.5555555555555556, \"#d8576b\"], [0.6666666666666666, \"#ed7953\"], [0.7777777777777778, \"#fb9f3a\"], [0.8888888888888888, \"#fdca26\"], [1.0, \"#f0f921\"]], \"sequentialminus\": [[0.0, \"#0d0887\"], [0.1111111111111111, \"#46039f\"], [0.2222222222222222, \"#7201a8\"], [0.3333333333333333, \"#9c179e\"], [0.4444444444444444, \"#bd3786\"], [0.5555555555555556, \"#d8576b\"], [0.6666666666666666, \"#ed7953\"], [0.7777777777777778, \"#fb9f3a\"], [0.8888888888888888, \"#fdca26\"], [1.0, \"#f0f921\"]]}, \"colorway\": [\"#636efa\", \"#EF553B\", \"#00cc96\", \"#ab63fa\", \"#FFA15A\", \"#19d3f3\", \"#FF6692\", \"#B6E880\", \"#FF97FF\", \"#FECB52\"], \"font\": {\"color\": \"#2a3f5f\"}, \"geo\": {\"bgcolor\": \"white\", \"lakecolor\": \"white\", \"landcolor\": \"#E5ECF6\", \"showlakes\": true, \"showland\": true, \"subunitcolor\": \"white\"}, \"hoverlabel\": {\"align\": \"left\"}, \"hovermode\": \"closest\", \"mapbox\": {\"style\": \"light\"}, \"paper_bgcolor\": \"white\", \"plot_bgcolor\": \"#E5ECF6\", \"polar\": {\"angularaxis\": {\"gridcolor\": \"white\", \"linecolor\": \"white\", \"ticks\": \"\"}, \"bgcolor\": \"#E5ECF6\", \"radialaxis\": {\"gridcolor\": \"white\", \"linecolor\": \"white\", \"ticks\": \"\"}}, \"scene\": {\"xaxis\": {\"backgroundcolor\": \"#E5ECF6\", \"gridcolor\": \"white\", \"gridwidth\": 2, \"linecolor\": \"white\", \"showbackground\": true, \"ticks\": \"\", \"zerolinecolor\": \"white\"}, \"yaxis\": {\"backgroundcolor\": \"#E5ECF6\", \"gridcolor\": \"white\", \"gridwidth\": 2, \"linecolor\": \"white\", \"showbackground\": true, \"ticks\": \"\", \"zerolinecolor\": \"white\"}, \"zaxis\": {\"backgroundcolor\": \"#E5ECF6\", \"gridcolor\": \"white\", \"gridwidth\": 2, \"linecolor\": \"white\", \"showbackground\": true, \"ticks\": \"\", \"zerolinecolor\": \"white\"}}, \"shapedefaults\": {\"line\": {\"color\": \"#2a3f5f\"}}, \"ternary\": {\"aaxis\": {\"gridcolor\": \"white\", \"linecolor\": \"white\", \"ticks\": \"\"}, \"baxis\": {\"gridcolor\": \"white\", \"linecolor\": \"white\", \"ticks\": \"\"}, \"bgcolor\": \"#E5ECF6\", \"caxis\": {\"gridcolor\": \"white\", \"linecolor\": \"white\", \"ticks\": \"\"}}, \"title\": {\"x\": 0.05}, \"xaxis\": {\"automargin\": true, \"gridcolor\": \"white\", \"linecolor\": \"white\", \"ticks\": \"\", \"title\": {\"standoff\": 15}, \"zerolinecolor\": \"white\", \"zerolinewidth\": 2}, \"yaxis\": {\"automargin\": true, \"gridcolor\": \"white\", \"linecolor\": \"white\", \"ticks\": \"\", \"title\": {\"standoff\": 15}, \"zerolinecolor\": \"white\", \"zerolinewidth\": 2}}}, \"title\": {\"font\": {\"size\": 16}, \"text\": \"Bank Dataset Concept Lattice\"}, \"width\": 1000, \"xaxis\": {\"showgrid\": false, \"showticklabels\": false, \"zeroline\": false}, \"yaxis\": {\"showgrid\": false, \"showticklabels\": false, \"zeroline\": false}},\n",
       "                        {\"responsive\": true}\n",
       "                    ).then(function(){\n",
       "                            \n",
       "var gd = document.getElementById('21a1d478-7a9e-49c2-8060-c9d03032f9dd');\n",
       "var x = new MutationObserver(function (mutations, observer) {{\n",
       "        var display = window.getComputedStyle(gd).display;\n",
       "        if (!display || display === 'none') {{\n",
       "            console.log([gd, 'removed!']);\n",
       "            Plotly.purge(gd);\n",
       "            observer.disconnect();\n",
       "        }}\n",
       "}});\n",
       "\n",
       "// Listen for the removal of the full notebook cells\n",
       "var notebookContainer = gd.closest('#notebook-container');\n",
       "if (notebookContainer) {{\n",
       "    x.observe(notebookContainer, {childList: true});\n",
       "}}\n",
       "\n",
       "// Listen for the clearing of the current output cell\n",
       "var outputEl = gd.closest('.output');\n",
       "if (outputEl) {{\n",
       "    x.observe(outputEl, {childList: true});\n",
       "}}\n",
       "\n",
       "                        })\n",
       "                };\n",
       "                });\n",
       "            </script>\n",
       "        </div>"
      ]
     },
     "metadata": {},
     "output_type": "display_data"
    }
   ],
   "source": [
    "fig.show()"
   ]
  },
  {
   "cell_type": "code",
   "execution_count": 678,
   "metadata": {},
   "outputs": [
    {
     "name": "stdout",
     "output_type": "stream",
     "text": [
      "-------------------------\n",
      "-----Base hypothesis-----\n",
      "-------------------------\n",
      "0: _ -> 0.08\n",
      "\n",
      "-------------------------\n",
      "---Positive hypotheses---\n",
      "-------------------------\n",
      "2: duration__>=16.5m&month__dec -> 1.00\n",
      "3: duration__>=1m&month__sep -> 0.33\n",
      "4: duration__>=3m&contact__cellular&month__mar -> 1.00\n",
      "5: duration__>=5.5m&contact__cellular&month__may -> 0.17\n",
      "6: duration__>=5.5m&contact__cellular&month__oct -> 1.00\n",
      "7: duration__>=1m&month__sep,duration__>=5.5m&contact__cellular&month__may -> 0.20\n",
      "\n",
      "-------------------------\n",
      "---Negative hypotheses---\n",
      "-------------------------\n",
      "1: duration__<1m -> 0.00\n",
      "8: month__may,duration__>=5.5m&contact__cellular&month__may -> 0.02\n",
      "9: month__may,duration__>=1m&month__sep,duration__>=5.5m&contact__cellular&month__may -> 0.03\n"
     ]
    }
   ],
   "source": [
    "plot_base_pos_neg_hypotheses(fm_bank_mon, base_pred=test_preds.mean())"
   ]
  },
  {
   "cell_type": "markdown",
   "metadata": {},
   "source": [
    "-----Base hypothesis-----\n",
    "-------------------------\n",
    "0. : _ -> 0.08\n",
    "\n",
    "\n",
    "---Positive hypotheses---\n",
    "-------------------------\n",
    "2. : duration__>=16.5m & month__dec -> 1.00\n",
    "3. : duration__>=1m & month__sep -> 0.33\n",
    "4. : duration__>=3m & contact__cellular & month__mar -> 1.00\n",
    "5. : duration__>=5.5m & contact__cellular & month__may -> 0.17\n",
    "6. : duration__>=5.5m & contact__cellular & month__oct -> 1.00\n",
    "7. : duration__>=1m & month__sep OR duration__>=5.5m & contact__cellular & month__may -> 0.20\n",
    "\n",
    "\n",
    "---Negative hypotheses---\n",
    "-------------------------\n",
    "1. : duration__<1m -> 0.00\n",
    "8. : month__may -> 0.02\n",
    "9. : month__may OR (duration__>=1m & month__sep) -> 0.03"
   ]
  }
 ],
 "metadata": {
  "kernelspec": {
   "display_name": "Python 3",
   "language": "python",
   "name": "python3"
  },
  "language_info": {
   "codemirror_mode": {
    "name": "ipython",
    "version": 3
   },
   "file_extension": ".py",
   "mimetype": "text/x-python",
   "name": "python",
   "nbconvert_exporter": "python",
   "pygments_lexer": "ipython3",
   "version": "3.7.1"
  }
 },
 "nbformat": 4,
 "nbformat_minor": 2
}
