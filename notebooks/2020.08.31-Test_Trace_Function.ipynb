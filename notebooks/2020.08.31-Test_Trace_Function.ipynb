{
 "cells": [
  {
   "cell_type": "code",
   "execution_count": 1,
   "metadata": {},
   "outputs": [
    {
     "data": {
      "text/html": [
       "<style>.container { width:90% !important; }</style>"
      ],
      "text/plain": [
       "<IPython.core.display.HTML object>"
      ]
     },
     "metadata": {},
     "output_type": "display_data"
    }
   ],
   "source": [
    "import numpy as np\n",
    "import pandas as pd\n",
    "\n",
    "from sklearn.model_selection import train_test_split\n",
    "from sklearn.metrics import accuracy_score, precision_score, recall_score\n",
    "\n",
    "from IPython.core.display import display, HTML\n",
    "display(HTML(\"<style>.container { width:90% !important; }</style>\"))\n",
    "\n",
    "import os\n",
    "import sys\n",
    "BASE_PATH = os.path.realpath('..')\n",
    "DATASETS_DIR = os.path.join(BASE_PATH, 'datasets')\n",
    "LIB_DIR = os.path.join(BASE_PATH,'lib')\n",
    "if LIB_DIR[:-3] not in sys.path:\n",
    "    sys.path.append(LIB_DIR[:-3])\n",
    "\n",
    "import matplotlib.pyplot as plt\n",
    "import seaborn as sns\n",
    "from tqdm.notebook import tqdm\n",
    "\n",
    "from importlib import reload"
   ]
  },
  {
   "cell_type": "code",
   "execution_count": 2,
   "metadata": {},
   "outputs": [],
   "source": [
    "from lib import fca_interp as fcai\n",
    "from lib.utils_ import powerset\n",
    "from importlib import reload"
   ]
  },
  {
   "cell_type": "code",
   "execution_count": 3,
   "metadata": {},
   "outputs": [],
   "source": [
    "from sklearn.datasets import load_iris"
   ]
  },
  {
   "cell_type": "code",
   "execution_count": 4,
   "metadata": {},
   "outputs": [],
   "source": [
    "iris_data = load_iris()"
   ]
  },
  {
   "cell_type": "code",
   "execution_count": 5,
   "metadata": {},
   "outputs": [],
   "source": [
    "iris_ds = pd.DataFrame(iris_data['data'], columns=iris_data['feature_names'])\n",
    "iris_ds['class_id'] = iris_data['target']\n",
    "iris_ds['class'] = [iris_data['target_names'][x] for x in iris_ds['class_id']]"
   ]
  },
  {
   "cell_type": "code",
   "execution_count": 6,
   "metadata": {},
   "outputs": [],
   "source": [
    "from sklearn.ensemble import RandomForestClassifier\n",
    "from sklearn.tree import DecisionTreeClassifier"
   ]
  },
  {
   "cell_type": "code",
   "execution_count": 7,
   "metadata": {},
   "outputs": [
    {
     "data": {
      "text/plain": [
       "array([0.01333333, 0.01333333, 0.05072262, 0.92261071])"
      ]
     },
     "execution_count": 7,
     "metadata": {},
     "output_type": "execute_result"
    }
   ],
   "source": [
    "rf = DecisionTreeClassifier() #RandomForestClassifier()\n",
    "rf.fit(iris_ds.drop(['class_id','class'],1), iris_ds['class_id'])\n",
    "rf.feature_importances_"
   ]
  },
  {
   "cell_type": "code",
   "execution_count": 8,
   "metadata": {},
   "outputs": [],
   "source": [
    "fs = ['petal width (cm)','petal length (cm)', ]"
   ]
  },
  {
   "cell_type": "code",
   "execution_count": 9,
   "metadata": {},
   "outputs": [
    {
     "data": {
      "text/plain": [
       "array([0.01333333, 0.01333333, 0.05072262, 0.92261071])"
      ]
     },
     "execution_count": 9,
     "metadata": {},
     "output_type": "execute_result"
    }
   ],
   "source": [
    "rf.feature_importances_"
   ]
  },
  {
   "cell_type": "code",
   "execution_count": 15,
   "metadata": {},
   "outputs": [],
   "source": [
    "iris_ds.index = iris_ds.index.astype(str)"
   ]
  },
  {
   "cell_type": "code",
   "execution_count": 16,
   "metadata": {},
   "outputs": [],
   "source": [
    "mvcntx = fcai.MultiValuedContext(iris_ds[fs], y_true=iris_ds['class_id'], cat_attrs=[])"
   ]
  },
  {
   "cell_type": "code",
   "execution_count": 17,
   "metadata": {},
   "outputs": [
    {
     "data": {
      "application/vnd.jupyter.widget-view+json": {
       "model_id": "bb109160505a4e0e88511d92e6e8c08a",
       "version_major": 2,
       "version_minor": 0
      },
      "text/plain": [
       "HBox(children=(FloatProgress(value=0.0, description='Postprocessing', max=101.0, style=ProgressStyle(descripti…"
      ]
     },
     "metadata": {},
     "output_type": "display_data"
    },
    {
     "name": "stdout",
     "output_type": "stream",
     "text": [
      "\n"
     ]
    }
   ],
   "source": [
    "fm = fcai.FormalManager(mvcntx, task_type='')\n",
    "fm.construct_concepts(algo='RandomForest', rf_params={'min_samples_leaf':10})"
   ]
  },
  {
   "cell_type": "code",
   "execution_count": 23,
   "metadata": {},
   "outputs": [],
   "source": [
    "fm.construct_lattice(only_spanning_tree=True)"
   ]
  },
  {
   "cell_type": "code",
   "execution_count": 27,
   "metadata": {},
   "outputs": [],
   "source": [
    "c = fm.get_concept_by_id(10)"
   ]
  },
  {
   "cell_type": "code",
   "execution_count": 32,
   "metadata": {},
   "outputs": [
    {
     "data": {
      "text/plain": [
       "{5}"
      ]
     },
     "execution_count": 32,
     "metadata": {},
     "output_type": "execute_result"
    }
   ],
   "source": [
    "set([c._up_neighb_st])"
   ]
  },
  {
   "cell_type": "code",
   "execution_count": 159,
   "metadata": {},
   "outputs": [],
   "source": [
    "for c in fm.get_concepts():\n",
    "    for cl_id in range(3):\n",
    "        c._metrics[f'prob_{cl_id}'] = (iris_ds.loc[[str(g) for g in c.get_extent()], 'class_id'] ==cl_id).mean()\n",
    "    c._metrics['class_id'] = np.argmax([c._metrics[f\"prob_{cl_id}\"] for cl_id in range(3)])\n",
    "    c._metrics['class_prob'] = max([c._metrics[f\"prob_{cl_id}\"] for cl_id in range(3)])\n",
    "    c._metrics['class_name'] = iris_data['target_names'][c._metrics['class_id']]"
   ]
  },
  {
   "cell_type": "code",
   "execution_count": 33,
   "metadata": {},
   "outputs": [],
   "source": [
    "for c in fm.get_concepts():\n",
    "    c._low_neighbs = c._low_neighbs_st\n",
    "    c._up_neighbs = set([c._up_neighb_st])"
   ]
  },
  {
   "cell_type": "code",
   "execution_count": 34,
   "metadata": {},
   "outputs": [],
   "source": [
    "fig = fm.get_plotly_fig()"
   ]
  },
  {
   "cell_type": "code",
   "execution_count": 35,
   "metadata": {},
   "outputs": [
    {
     "data": {
      "application/vnd.plotly.v1+json": {
       "config": {
        "plotlyServerURL": "https://plot.ly"
       },
       "data": [
        {
         "hoverinfo": "none",
         "line": {
          "color": "#888",
          "width": 0.5
         },
         "mode": "lines",
         "type": "scatter",
         "x": [
          -7,
          1.5,
          null,
          -7,
          3.5,
          null,
          -7,
          -1,
          null,
          -11.5,
          4,
          null,
          -3,
          -2,
          null,
          -3,
          8.5,
          null,
          -3,
          0,
          null,
          -1,
          0,
          null,
          -2,
          6,
          null,
          -2,
          4,
          null,
          -2,
          -1,
          null,
          -2,
          -1,
          null,
          -5,
          4.5,
          null,
          -5,
          2,
          null,
          -5,
          -1.5,
          null,
          -4,
          -5,
          null,
          -4,
          -1.5,
          null,
          -1,
          3,
          null,
          -1,
          0,
          null,
          -1,
          -0.5,
          null,
          -2,
          2,
          null,
          -2,
          -3,
          null,
          -1,
          0,
          null,
          -1,
          -3,
          null,
          -2.5,
          1,
          null,
          0,
          2,
          null,
          0,
          1,
          null,
          0,
          1.5,
          null,
          -1.5,
          10.5,
          null,
          -1.5,
          5,
          null,
          -1.5,
          1,
          null,
          -4,
          4,
          null,
          -0.5,
          0,
          null,
          -0.5,
          2,
          null,
          -0.5,
          3,
          null,
          -0.5,
          0,
          null,
          0.5,
          1,
          null,
          0.5,
          -4,
          null,
          0.5,
          0,
          null,
          -3,
          4,
          null,
          -3,
          2.5,
          null,
          1.5,
          -1,
          null,
          1.5,
          4,
          null,
          1.5,
          0,
          null,
          2.5,
          -2,
          null,
          2.5,
          5,
          null,
          2.5,
          0,
          null,
          -1,
          0,
          null,
          0,
          0,
          null,
          1,
          0,
          null,
          -1,
          -6,
          null,
          -1,
          1,
          null,
          -6,
          -0.5,
          null,
          -3,
          -2,
          null,
          -6,
          -10.5,
          null,
          -10.5,
          6,
          null,
          -9.5,
          -5,
          null,
          -9.5,
          -3,
          null,
          0,
          2,
          null,
          1,
          3,
          null,
          -5,
          -6.5,
          null,
          -4,
          2.5,
          null,
          -1,
          5.5,
          null,
          -8.5,
          5,
          null,
          -8.5,
          -2,
          null,
          -3,
          5,
          null,
          -7.5,
          6,
          null,
          0,
          1,
          null,
          0,
          0,
          null,
          -6.5,
          -4,
          null,
          -5,
          2,
          null,
          -4,
          1,
          null,
          -2,
          0,
          null,
          1,
          11.5,
          null,
          -5.5,
          0,
          null,
          -5.5,
          1,
          null,
          -5.5,
          2,
          null,
          -4.5,
          -2,
          null,
          -4.5,
          5,
          null,
          -3.5,
          7,
          null,
          -2.5,
          -1,
          null,
          -2.5,
          1,
          null,
          0,
          -1.5,
          null,
          -1,
          6,
          null,
          -3,
          2.5,
          null,
          0.5,
          3,
          null,
          1.5,
          3,
          null,
          1.5,
          2,
          null,
          1,
          2,
          null,
          0,
          9.5,
          null,
          0,
          1,
          null,
          1,
          0,
          null,
          2,
          7.5,
          null,
          0,
          6,
          null,
          6.5,
          4,
          null,
          3,
          4,
          null,
          2,
          7,
          null,
          2,
          3,
          null,
          5,
          3,
          null,
          6,
          10.5,
          null
         ],
         "y": [
          4,
          3,
          null,
          4,
          3,
          null,
          4,
          9,
          null,
          3,
          4,
          null,
          5,
          4,
          null,
          5,
          3,
          null,
          5,
          6,
          null,
          0,
          1,
          null,
          5,
          4,
          null,
          5,
          4,
          null,
          5,
          4,
          null,
          5,
          6,
          null,
          10,
          3,
          null,
          10,
          9,
          null,
          10,
          11,
          null,
          10,
          4,
          null,
          10,
          11,
          null,
          6,
          5,
          null,
          6,
          5,
          null,
          6,
          11,
          null,
          9,
          4,
          null,
          9,
          10,
          null,
          9,
          8,
          null,
          9,
          10,
          null,
          11,
          12,
          null,
          6,
          5,
          null,
          6,
          5,
          null,
          6,
          11,
          null,
          11,
          3,
          null,
          11,
          10,
          null,
          11,
          12,
          null,
          1,
          2,
          null,
          11,
          10,
          null,
          11,
          10,
          null,
          11,
          10,
          null,
          11,
          12,
          null,
          11,
          10,
          null,
          11,
          4,
          null,
          11,
          12,
          null,
          10,
          2,
          null,
          10,
          11,
          null,
          11,
          10,
          null,
          11,
          10,
          null,
          11,
          12,
          null,
          11,
          10,
          null,
          11,
          4,
          null,
          11,
          12,
          null,
          12,
          13,
          null,
          12,
          13,
          null,
          12,
          13,
          null,
          5,
          4,
          null,
          5,
          6,
          null,
          4,
          3,
          null,
          1,
          2,
          null,
          2,
          3,
          null,
          3,
          4,
          null,
          3,
          2,
          null,
          3,
          4,
          null,
          0,
          1,
          null,
          0,
          1,
          null,
          4,
          3,
          null,
          4,
          3,
          null,
          10,
          3,
          null,
          3,
          2,
          null,
          3,
          4,
          null,
          4,
          10,
          null,
          3,
          4,
          null,
          10,
          6,
          null,
          10,
          9,
          null,
          3,
          2,
          null,
          2,
          1,
          null,
          2,
          1,
          null,
          1,
          2,
          null,
          10,
          3,
          null,
          3,
          2,
          null,
          3,
          2,
          null,
          3,
          10,
          null,
          3,
          2,
          null,
          3,
          4,
          null,
          3,
          4,
          null,
          3,
          2,
          null,
          3,
          5,
          null,
          5,
          3,
          null,
          1,
          2,
          null,
          2,
          3,
          null,
          3,
          5,
          null,
          3,
          2,
          null,
          3,
          2,
          null,
          9,
          10,
          null,
          4,
          3,
          null,
          4,
          5,
          null,
          4,
          8,
          null,
          4,
          3,
          null,
          1,
          2,
          null,
          3,
          10,
          null,
          2,
          1,
          null,
          5,
          4,
          null,
          5,
          4,
          null,
          2,
          1,
          null,
          2,
          3,
          null
         ]
        },
        {
         "hoverinfo": "text",
         "hovertext": [
          "PatternStructure 17<br><br>extent (len: 45): 69, 58, 54, 59, 93,...<br>intent (len: 2): petal length (cm) in [3.0, 4.7], ...<br>new extent (len: 45): 69, 58, 54, 59, 93,...<br>new_intent (len: 2): petal length (cm), petal widt...<br>metric mean_y_true = 1.0222222222222221<br>",
          "PatternStructure 99<br><br>extent (len: 12): 126, 127, 149, 116, 137,...<br>intent (len: 2): petal width (cm) = 1.8, petal len...<br>new extent (len: 12): 126, 127, 149, 116, 137,...<br>new_intent (len: 1): petal width (cm)<br>metric mean_y_true = 1.9166666666666667<br>",
          "PatternStructure 15<br><br>extent (len: 46): 100, 147, 118, 110, 101,...<br>intent (len: 2): petal length (cm) in [5.0, 6.9], ...<br>new extent (len: 0): ∅<br>new_intent (len: 1): petal length (cm)<br>metric mean_y_true = 1.9565217391304348<br>",
          "PatternStructure 95<br><br>extent (len: 13): 52, 83, 73, 133, 86,...<br>intent (len: 2): petal length (cm) in [4.7, 5.8], ...<br>new extent (len: 13): 52, 83, 73, 133, 50,...<br>new_intent (len: 1): petal length (cm)<br>metric mean_y_true = 1.3076923076923077<br>",
          "PatternStructure 16<br><br>extent (len: 46): 121, 100, 147, 118, 110,...<br>intent (len: 2): petal width (cm) in [1.8, 2.5], p...<br>new extent (len: 46): 121, 100, 147, 110, 118,...<br>new_intent (len: 2): petal length (cm), petal widt...<br>metric mean_y_true = 1.9782608695652173<br>",
          "PatternStructure 48<br><br>extent (len: 24): 54, 59, 65, 85, 86,...<br>intent (len: 2): petal width (cm) in [1.4, 1.6], p...<br>new extent (len: 24): 54, 59, 65, 85, 86,...<br>new_intent (len: 2): petal length (cm), petal widt...<br>metric mean_y_true = 1.1666666666666667<br>",
          "PatternStructure 13<br><br>extent (len: 48): 69, 58, 54, 59, 93,...<br>intent (len: 2): petal width (cm) in [1.0, 1.5], p...<br>new extent (len: 48): 69, 58, 54, 59, 93,...<br>new_intent (len: 2): petal length (cm), petal widt...<br>metric mean_y_true = 1.0625<br>",
          "PatternStructure 14<br><br>extent (len: 48): 121, 100, 147, 118, 110,...<br>intent (len: 2): petal width (cm) in [1.7, 2.5], p...<br>new extent (len: 48): 121, 100, 147, 110, 118,...<br>new_intent (len: 1): petal width (cm)<br>metric mean_y_true = 1.9583333333333333<br>",
          "PatternStructure 42<br><br>extent (len: 26): 121, 54, 59, 123, 65,...<br>intent (len: 2): petal width (cm) in [1.4, 2.0], p...<br>new extent (len: 26): 121, 54, 59, 65, 123,...<br>new_intent (len: 2): petal length (cm), petal widt...<br>metric mean_y_true = 1.2307692307692308<br>",
          "PatternStructure 12<br><br>extent (len: 49): 69, 58, 54, 59, 93,...<br>intent (len: 2): petal width (cm) in [1.0, 1.8], p...<br>new extent (len: 49): 69, 58, 54, 59, 93,...<br>new_intent (len: 2): petal length (cm), petal widt...<br>metric mean_y_true = 1.0612244897959184<br>",
          "PatternStructure 11<br><br>extent (len: 50): 29, 41, 16, 19, 8,...<br>intent (len: 2): petal length (cm) in [1.0, 1.9], ...<br>new extent (len: 50): 34, 29, 41, 16, 19,...<br>new_intent (len: 2): petal length (cm), petal widt...<br>metric mean_y_true = 0.0<br>",
          "PatternStructure 10<br><br>extent (len: 51): 121, 100, 147, 118, 110,...<br>intent (len: 2): petal length (cm) in [4.9, 6.9], ...<br>new extent (len: 51): 121, 100, 147, 110, 118,...<br>new_intent (len: 1): petal length (cm)<br>metric mean_y_true = 1.9215686274509804<br>",
          "PatternStructure 8<br><br>extent (len: 52): 69, 58, 54, 59, 93,...<br>intent (len: 2): petal width (cm) in [1.0, 1.6], p...<br>new extent (len: 52): 69, 58, 54, 59, 93,...<br>new_intent (len: 2): petal length (cm), petal widt...<br>metric mean_y_true = 1.0769230769230769<br>",
          "PatternStructure 98<br><br>extent (len: 12): 126, 73, 58, 86, 76,...<br>intent (len: 2): petal width (cm) in [1.2, 1.8], p...<br>new extent (len: 12): 126, 73, 58, 50, 76,...<br>new_intent (len: 2): petal length (cm), petal widt...<br>metric mean_y_true = 1.1666666666666667<br>",
          "PatternStructure 9<br><br>extent (len: 52): 121, 100, 147, 118, 110,...<br>intent (len: 2): petal width (cm) in [1.6, 2.5], p...<br>new extent (len: 52): 121, 100, 147, 110, 118,...<br>new_intent (len: 2): petal length (cm), petal widt...<br>metric mean_y_true = 1.9038461538461537<br>",
          "PatternStructure 6<br><br>extent (len: 54): 69, 58, 54, 59, 93,...<br>intent (len: 2): petal width (cm) in [1.0, 1.7], p...<br>new extent (len: 54): 69, 58, 54, 59, 93,...<br>new_intent (len: 2): petal length (cm), petal widt...<br>metric mean_y_true = 1.0925925925925926<br>",
          "PatternStructure 7<br><br>extent (len: 54): 121, 69, 58, 54, 59,...<br>intent (len: 2): petal width (cm) in [1.0, 2.0], p...<br>new extent (len: 0): ∅<br>new_intent (len: 1): petal length (cm)<br>metric mean_y_true = 1.1111111111111112<br>",
          "PatternStructure 5<br><br>extent (len: 55): 121, 100, 147, 118, 110,...<br>intent (len: 2): petal width (cm) in [1.4, 2.5], p...<br>new extent (len: 55): 121, 100, 147, 110, 118,...<br>new_intent (len: 2): petal length (cm), petal widt...<br>metric mean_y_true = 1.8909090909090909<br>",
          "PatternStructure 4<br><br>extent (len: 58): 121, 69, 58, 54, 59,...<br>intent (len: 2): petal width (cm) in [1.0, 2.0], p...<br>new extent (len: 58): 121, 69, 58, 54, 59,...<br>new_intent (len: 2): petal length (cm), petal widt...<br>metric mean_y_true = 1.1551724137931034<br>",
          "PatternStructure 3<br><br>extent (len: 95): 58, 93, 55, 82, 89,...<br>intent (len: 2): petal length (cm) in [1.0, 4.7], ...<br>new extent (len: 95): 58, 93, 55, 82, 89,...<br>new_intent (len: 2): petal length (cm), petal widt...<br>metric mean_y_true = 0.4842105263157895<br>",
          "PatternStructure 2<br><br>extent (len: 100): 121, 118, 58, 145, 93,...<br>intent (len: 2): petal length (cm) in [3.0, 6.9], ...<br>new extent (len: 48): 121, 100, 147, 110, 118,...<br>new_intent (len: 2): petal length (cm), petal widt...<br>metric mean_y_true = 1.5<br>",
          "PatternStructure 1<br><br>extent (len: 102): 58, 93, 55, 82, 89,...<br>intent (len: 2): petal width (cm) in [0.1, 1.6], p...<br>new extent (len: 102): 58, 93, 55, 82, 89,...<br>new_intent (len: 2): petal length (cm), petal widt...<br>metric mean_y_true = 0.5490196078431373<br>",
          "PatternStructure 0<br><br>extent (len: 150): 121, 118, 58, 145, 93,...<br>intent (len: 2): petal width (cm) in [0.1, 2.5], p...<br>new extent (len: 150): 121, 118, 58, 145, 93,...<br>new_intent (len: 2): petal length (cm), petal widt...<br>metric mean_y_true = 1.0<br>",
          "PatternStructure 33<br><br>extent (len: 30): 100, 118, 140, 115, 104,...<br>intent (len: 2): petal length (cm) in [5.3, 6.9], ...<br>new extent (len: 30): 100, 118, 140, 115, 104,...<br>new_intent (len: 1): petal width (cm)<br>metric mean_y_true = 2.0<br>",
          "PatternStructure 37<br><br>extent (len: 28): 100, 118, 140, 104, 139,...<br>intent (len: 2): petal width (cm) in [1.8, 2.5], p...<br>new extent (len: 28): 100, 118, 140, 104, 139,...<br>new_intent (len: 1): petal length (cm)<br>metric mean_y_true = 2.0<br>",
          "PatternStructure 100<br><br>extent (len: 11): 85, 86, 54, 56, 78,...<br>intent (len: 2): petal length (cm) in [4.2, 4.7], ...<br>new extent (len: 11): 85, 86, 54, 56, 68,...<br>new_intent (len: 2): petal length (cm), petal widt...<br>metric mean_y_true = 1.0909090909090908<br>",
          "PatternStructure 38<br><br>extent (len: 28): 100, 147, 118, 110, 145,...<br>intent (len: 2): petal width (cm) in [2.0, 2.5], p...<br>new extent (len: 28): 100, 147, 110, 118, 145,...<br>new_intent (len: 1): petal length (cm)<br>metric mean_y_true = 2.0<br>",
          "PatternStructure 34<br><br>extent (len: 29): 121, 100, 147, 118, 110,...<br>intent (len: 2): petal width (cm) in [2.0, 2.5], p...<br>new extent (len: 29): 121, 100, 147, 110, 118,...<br>new_intent (len: 1): petal width (cm)<br>metric mean_y_true = 2.0<br>",
          "PatternStructure 96<br><br>extent (len: 13): 121, 77, 52, 126, 127,...<br>intent (len: 2): petal width (cm) in [1.4, 2.0], p...<br>new extent (len: 13): 52, 77, 121, 126, 127,...<br>new_intent (len: 2): petal length (cm), petal widt...<br>metric mean_y_true = 1.6153846153846154<br>",
          "PatternStructure 35<br><br>extent (len: 29): 69, 59, 93, 99, 71,...<br>intent (len: 2): petal width (cm) in [1.0, 1.5], p...<br>new extent (len: 29): 69, 59, 93, 65, 88,...<br>new_intent (len: 2): petal length (cm), petal widt...<br>metric mean_y_true = 1.0<br>",
          "PatternStructure 71<br><br>extent (len: 19): 69, 59, 93, 99, 71,...<br>intent (len: 2): petal width (cm) in [1.0, 1.4], p...<br>new extent (len: 19): 69, 59, 93, 82, 88,...<br>new_intent (len: 2): petal length (cm), petal widt...<br>metric mean_y_true = 1.0<br>",
          "PatternStructure 46<br><br>extent (len: 25): 100, 118, 140, 104, 135,...<br>intent (len: 2): petal width (cm) in [1.4, 2.5], p...<br>new extent (len: 25): 100, 118, 140, 104, 135,...<br>new_intent (len: 1): petal length (cm)<br>metric mean_y_true = 2.0<br>",
          "PatternStructure 22<br><br>extent (len: 36): 69, 58, 59, 93, 55,...<br>intent (len: 2): petal width (cm) in [1.0, 1.4], p...<br>new extent (len: 36): 69, 58, 59, 93, 55,...<br>new_intent (len: 1): petal width (cm)<br>metric mean_y_true = 1.0277777777777777<br>",
          "PatternStructure 45<br><br>extent (len: 25): 58, 54, 55, 85, 86,...<br>intent (len: 2): petal length (cm) in [4.5, 5.8], ...<br>new extent (len: 25): 58, 54, 55, 85, 86,...<br>new_intent (len: 2): petal length (cm), petal widt...<br>metric mean_y_true = 1.2<br>",
          "PatternStructure 44<br><br>extent (len: 26): 101, 123, 116, 76, 72,...<br>intent (len: 2): petal width (cm) in [1.4, 1.9], p...<br>new extent (len: 26): 101, 123, 116, 76, 72,...<br>new_intent (len: 2): petal length (cm), petal widt...<br>metric mean_y_true = 1.7692307692307692<br>",
          "PatternStructure 25<br><br>extent (len: 34): 100, 147, 118, 145, 140,...<br>intent (len: 2): petal width (cm) in [1.4, 2.5], p...<br>new extent (len: 34): 100, 147, 118, 145, 140,...<br>new_intent (len: 1): petal length (cm)<br>metric mean_y_true = 2.0<br>",
          "PatternStructure 23<br><br>extent (len: 36): 69, 59, 93, 55, 99,...<br>intent (len: 2): petal length (cm) in [3.0, 4.5], ...<br>new extent (len: 36): 69, 59, 93, 55, 65,...<br>new_intent (len: 1): petal length (cm)<br>metric mean_y_true = 1.0<br>",
          "PatternStructure 29<br><br>extent (len: 33): 100, 147, 118, 110, 101,...<br>intent (len: 2): petal length (cm) in [5.0, 6.9], ...<br>new extent (len: 33): 100, 147, 110, 118, 101,...<br>new_intent (len: 1): petal length (cm)<br>metric mean_y_true = 2.0<br>",
          "PatternStructure 28<br><br>extent (len: 33): 100, 147, 118, 145, 140,...<br>intent (len: 2): petal width (cm) in [1.6, 2.5], p...<br>new extent (len: 33): 100, 147, 118, 145, 140,...<br>new_intent (len: 1): petal length (cm)<br>metric mean_y_true = 2.0<br>",
          "PatternStructure 18<br><br>extent (len: 42): 100, 147, 118, 110, 101,...<br>intent (len: 2): petal width (cm) in [1.4, 2.5], p...<br>new extent (len: 42): 100, 147, 110, 118, 101,...<br>new_intent (len: 1): petal length (cm)<br>metric mean_y_true = 1.9761904761904763<br>",
          "PatternStructure 24<br><br>extent (len: 35): 69, 58, 59, 93, 55,...<br>intent (len: 2): petal length (cm) in [3.0, 4.8], ...<br>new extent (len: 35): 69, 58, 59, 93, 55,...<br>new_intent (len: 1): petal length (cm)<br>metric mean_y_true = 1.0<br>",
          "PatternStructure 47<br><br>extent (len: 25): 69, 59, 93, 99, 71,...<br>intent (len: 2): petal width (cm) in [1.0, 1.5], p...<br>new extent (len: 25): 69, 59, 93, 82, 88,...<br>new_intent (len: 1): petal length (cm)<br>metric mean_y_true = 1.0<br>",
          "PatternStructure 31<br><br>extent (len: 32): 100, 147, 118, 145, 140,...<br>intent (len: 2): petal width (cm) in [1.8, 2.5], p...<br>new extent (len: 32): 100, 147, 118, 145, 140,...<br>new_intent (len: 1): petal width (cm)<br>metric mean_y_true = 2.0<br>",
          "PatternStructure 27<br><br>extent (len: 34): 69, 58, 59, 93, 55,...<br>intent (len: 2): petal length (cm) in [3.0, 4.7], ...<br>new extent (len: 34): 69, 58, 59, 93, 55,...<br>new_intent (len: 1): petal length (cm)<br>metric mean_y_true = 1.0<br>",
          "PatternStructure 93<br><br>extent (len: 14): 121, 142, 126, 114, 110,...<br>intent (len: 2): petal width (cm) in [1.8, 2.4], p...<br>new extent (len: 14): 121, 142, 126, 114, 110,...<br>new_intent (len: 2): petal length (cm), petal widt...<br>metric mean_y_true = 1.9285714285714286<br>",
          "PatternStructure 41<br><br>extent (len: 26): 54, 59, 65, 85, 86,...<br>intent (len: 2): petal width (cm) in [1.4, 1.7], p...<br>new extent (len: 26): 54, 59, 65, 85, 86,...<br>new_intent (len: 2): petal length (cm), petal widt...<br>metric mean_y_true = 1.1923076923076923<br>",
          "PatternStructure 32<br><br>extent (len: 31): 100, 118, 140, 115, 104,...<br>intent (len: 2): petal length (cm) in [5.3, 6.9], ...<br>new extent (len: 31): 100, 118, 140, 115, 104,...<br>new_intent (len: 1): petal length (cm)<br>metric mean_y_true = 2.0<br>",
          "PatternStructure 75<br><br>extent (len: 18): 121, 77, 142, 147, 126,...<br>intent (len: 2): petal width (cm) in [1.7, 2.4], p...<br>new extent (len: 18): 121, 77, 142, 147, 114,...<br>new_intent (len: 1): petal width (cm)<br>metric mean_y_true = 1.8888888888888888<br>",
          "PatternStructure 76<br><br>extent (len: 18): 121, 142, 147, 126, 114,...<br>intent (len: 2): petal width (cm) in [1.8, 2.4], p...<br>new extent (len: 18): 121, 142, 147, 114, 126,...<br>new_intent (len: 2): petal length (cm), petal widt...<br>metric mean_y_true = 1.9444444444444444<br>",
          "PatternStructure 67<br><br>extent (len: 19): 121, 54, 123, 85, 86,...<br>intent (len: 2): petal width (cm) in [1.5, 2.0], p...<br>new extent (len: 19): 121, 54, 123, 85, 86,...<br>new_intent (len: 1): petal length (cm)<br>metric mean_y_true = 1.3157894736842106<br>",
          "PatternStructure 97<br><br>extent (len: 13): 77, 83, 133, 149, 116,...<br>intent (len: 2): petal width (cm) in [1.4, 1.8], p...<br>new extent (len: 13): 77, 83, 133, 149, 116,...<br>new_intent (len: 1): petal width (cm)<br>metric mean_y_true = 1.8461538461538463<br>",
          "PatternStructure 77<br><br>extent (len: 18): 77, 83, 142, 147, 114,...<br>intent (len: 2): petal width (cm) in [1.5, 2.4], p...<br>new extent (len: 18): 77, 83, 142, 147, 114,...<br>new_intent (len: 1): petal length (cm)<br>metric mean_y_true = 1.8888888888888888<br>",
          "PatternStructure 68<br><br>extent (len: 19): 101, 123, 116, 106, 138,...<br>intent (len: 2): petal length (cm) in [4.5, 6.3], ...<br>new extent (len: 19): 101, 123, 116, 106, 138,...<br>new_intent (len: 2): petal length (cm), petal widt...<br>metric mean_y_true = 1.894736842105263<br>",
          "PatternStructure 66<br><br>extent (len: 19): 58, 54, 55, 86, 76,...<br>intent (len: 2): petal length (cm) in [4.5, 5.6], ...<br>new extent (len: 19): 58, 54, 55, 86, 76,...<br>new_intent (len: 2): petal length (cm), petal widt...<br>metric mean_y_true = 1.1578947368421053<br>",
          "PatternStructure 92<br><br>extent (len: 14): 77, 126, 127, 149, 116,...<br>intent (len: 2): petal length (cm) in [4.5, 6.3], ...<br>new extent (len: 14): 77, 126, 127, 149, 116,...<br>new_intent (len: 1): petal width (cm)<br>metric mean_y_true = 1.8571428571428572<br>",
          "PatternStructure 90<br><br>extent (len: 14): 52, 77, 83, 73, 133,...<br>intent (len: 2): petal length (cm) in [4.7, 5.8], ...<br>new extent (len: 14): 52, 77, 83, 73, 133,...<br>new_intent (len: 1): petal length (cm)<br>metric mean_y_true = 1.2857142857142858<br>",
          "PatternStructure 91<br><br>extent (len: 14): 126, 51, 85, 86, 54,...<br>intent (len: 2): petal width (cm) in [1.5, 1.8], p...<br>new extent (len: 14): 126, 85, 86, 54, 56,...<br>new_intent (len: 2): petal length (cm), petal widt...<br>metric mean_y_true = 1.2142857142857142<br>",
          "PatternStructure 43<br><br>extent (len: 26): 100, 118, 140, 104, 135,...<br>intent (len: 2): petal length (cm) in [5.5, 6.9], ...<br>new extent (len: 26): 100, 118, 140, 104, 135,...<br>new_intent (len: 1): petal length (cm)<br>metric mean_y_true = 2.0<br>",
          "PatternStructure 65<br><br>extent (len: 20): 121, 147, 110, 101, 145,...<br>intent (len: 2): petal width (cm) in [1.7, 2.4], p...<br>new extent (len: 20): 121, 147, 110, 101, 145,...<br>new_intent (len: 1): petal length (cm)<br>metric mean_y_true = 1.9<br>",
          "PatternStructure 19<br><br>extent (len: 40): 69, 58, 54, 59, 93,...<br>intent (len: 2): petal width (cm) in [1.0, 1.7], p...<br>new extent (len: 37): 69, 59, 93, 55, 65,...<br>new_intent (len: 1): petal length (cm)<br>metric mean_y_true = 1.025<br>",
          "PatternStructure 80<br><br>extent (len: 17): 52, 77, 83, 73, 133,...<br>intent (len: 2): petal length (cm) in [4.6, 5.8], ...<br>new extent (len: 17): 52, 77, 83, 73, 133,...<br>new_intent (len: 1): petal length (cm)<br>metric mean_y_true = 1.2352941176470589<br>",
          "PatternStructure 69<br><br>extent (len: 19): 121, 110, 101, 123, 85,...<br>intent (len: 2): petal length (cm) in [4.5, 5.1], ...<br>new extent (len: 19): 121, 110, 101, 123, 85,...<br>new_intent (len: 1): petal length (cm)<br>metric mean_y_true = 1.736842105263158<br>",
          "PatternStructure 94<br><br>extent (len: 14): 83, 142, 147, 114, 133,...<br>intent (len: 2): petal width (cm) in [1.5, 2.4], p...<br>new extent (len: 14): 83, 142, 147, 114, 133,...<br>new_intent (len: 1): petal length (cm)<br>metric mean_y_true = 1.9285714285714286<br>",
          "PatternStructure 70<br><br>extent (len: 19): 121, 147, 110, 101, 145,...<br>intent (len: 2): petal width (cm) in [1.5, 2.4], p...<br>new extent (len: 19): 121, 147, 110, 101, 145,...<br>new_intent (len: 1): petal length (cm)<br>metric mean_y_true = 1.7894736842105263<br>",
          "PatternStructure 63<br><br>extent (len: 20): 54, 59, 65, 86, 76,...<br>intent (len: 2): petal length (cm) in [3.9, 5.6], ...<br>new extent (len: 20): 54, 59, 65, 86, 76,...<br>new_intent (len: 2): petal length (cm), petal widt...<br>metric mean_y_true = 1.15<br>",
          "PatternStructure 85<br><br>extent (len: 16): 73, 58, 51, 85, 86,...<br>intent (len: 2): petal length (cm) in [4.5, 4.7], ...<br>new extent (len: 16): 73, 58, 63, 85, 86,...<br>new_intent (len: 2): petal length (cm), petal widt...<br>metric mean_y_true = 1.0625<br>",
          "PatternStructure 64<br><br>extent (len: 20): 58, 54, 55, 85, 86,...<br>intent (len: 2): petal width (cm) in [1.2, 1.8], p...<br>new extent (len: 20): 58, 54, 55, 85, 86,...<br>new_intent (len: 1): petal length (cm)<br>metric mean_y_true = 1.15<br>",
          "PatternStructure 86<br><br>extent (len: 16): 52, 83, 133, 85, 86,...<br>intent (len: 2): petal length (cm) in [4.2, 5.8], ...<br>new extent (len: 16): 52, 83, 133, 85, 86,...<br>new_intent (len: 2): petal length (cm), petal widt...<br>metric mean_y_true = 1.1875<br>",
          "PatternStructure 58<br><br>extent (len: 21): 54, 59, 65, 85, 86,...<br>intent (len: 2): petal width (cm) in [1.4, 1.8], p...<br>new extent (len: 21): 54, 59, 65, 85, 86,...<br>new_intent (len: 2): petal length (cm), petal widt...<br>metric mean_y_true = 1.1428571428571428<br>",
          "PatternStructure 49<br><br>extent (len: 24): 58, 54, 55, 65, 85,...<br>intent (len: 2): petal width (cm) in [1.2, 1.8], p...<br>new extent (len: 24): 58, 54, 55, 65, 85,...<br>new_intent (len: 2): petal length (cm), petal widt...<br>metric mean_y_true = 1.125<br>",
          "PatternStructure 87<br><br>extent (len: 16): 52, 83, 73, 133, 58,...<br>intent (len: 2): petal length (cm) in [4.6, 5.8], ...<br>new extent (len: 16): 52, 83, 73, 133, 58,...<br>new_intent (len: 1): petal length (cm)<br>metric mean_y_true = 1.25<br>",
          "PatternStructure 59<br><br>extent (len: 21): 123, 116, 76, 72, 134,...<br>intent (len: 2): petal width (cm) in [1.4, 1.8], p...<br>new extent (len: 21): 123, 116, 76, 72, 134,...<br>new_intent (len: 1): petal width (cm)<br>metric mean_y_true = 1.7142857142857142<br>",
          "PatternStructure 88<br><br>extent (len: 16): 121, 77, 142, 126, 114,...<br>intent (len: 2): petal length (cm) in [4.5, 5.1], ...<br>new extent (len: 16): 121, 77, 142, 126, 114,...<br>new_intent (len: 1): petal length (cm)<br>metric mean_y_true = 1.875<br>",
          "PatternStructure 89<br><br>extent (len: 16): 121, 142, 147, 126, 114,...<br>intent (len: 2): petal width (cm) in [1.8, 2.4], p...<br>new extent (len: 16): 121, 142, 147, 114, 126,...<br>new_intent (len: 2): petal length (cm), petal widt...<br>metric mean_y_true = 1.9375<br>",
          "PatternStructure 60<br><br>extent (len: 21): 121, 110, 101, 123, 76,...<br>intent (len: 2): petal width (cm) in [1.4, 2.4], p...<br>new extent (len: 21): 121, 110, 101, 123, 76,...<br>new_intent (len: 1): petal length (cm)<br>metric mean_y_true = 1.7142857142857142<br>",
          "PatternStructure 78<br><br>extent (len: 17): 63, 75, 51, 85, 86,...<br>intent (len: 2): petal width (cm) in [1.4, 1.7], p...<br>new extent (len: 17): 51, 75, 63, 85, 86,...<br>new_intent (len: 2): petal length (cm), petal widt...<br>metric mean_y_true = 1.0588235294117647<br>",
          "PatternStructure 61<br><br>extent (len: 21): 121, 147, 110, 101, 145,...<br>intent (len: 2): petal width (cm) in [1.6, 2.4], p...<br>new extent (len: 21): 121, 147, 110, 101, 145,...<br>new_intent (len: 2): petal length (cm), petal widt...<br>metric mean_y_true = 1.7619047619047619<br>",
          "PatternStructure 54<br><br>extent (len: 23): 121, 147, 110, 101, 145,...<br>intent (len: 2): petal width (cm) in [1.5, 2.4], p...<br>new extent (len: 0): ∅<br>new_intent (len: 2): petal length (cm), petal widt...<br>metric mean_y_true = 1.826086956521739<br>",
          "PatternStructure 79<br><br>extent (len: 17): 97, 74, 90, 75, 58,...<br>intent (len: 2): petal length (cm) in [4.3, 4.6], ...<br>new extent (len: 17): 97, 74, 90, 75, 51,...<br>new_intent (len: 2): petal length (cm), petal widt...<br>metric mean_y_true = 1.0588235294117647<br>",
          "PatternStructure 62<br><br>extent (len: 21): 147, 110, 101, 145, 115,...<br>intent (len: 2): petal length (cm) in [5.0, 5.5], ...<br>new extent (len: 21): 147, 110, 101, 145, 115,...<br>new_intent (len: 2): petal length (cm), petal widt...<br>metric mean_y_true = 1.9047619047619047<br>",
          "PatternStructure 21<br><br>extent (len: 37): 69, 59, 93, 55, 99,...<br>intent (len: 2): petal length (cm) in [3.0, 4.5], ...<br>new extent (len: 37): 69, 59, 93, 55, 65,...<br>new_intent (len: 1): petal length (cm)<br>metric mean_y_true = 1.027027027027027<br>",
          "PatternStructure 56<br><br>extent (len: 22): 101, 123, 116, 72, 134,...<br>intent (len: 2): petal length (cm) in [4.9, 6.3], ...<br>new extent (len: 0): ∅<br>new_intent (len: 2): petal length (cm), petal widt...<br>metric mean_y_true = 1.8181818181818181<br>",
          "PatternStructure 81<br><br>extent (len: 17): 121, 52, 126, 73, 127,...<br>intent (len: 2): petal length (cm) in [4.6, 4.9], ...<br>new extent (len: 17): 52, 121, 126, 73, 58,...<br>new_intent (len: 2): petal length (cm), petal widt...<br>metric mean_y_true = 1.2941176470588236<br>",
          "PatternStructure 57<br><br>extent (len: 22): 121, 147, 110, 101, 145,...<br>intent (len: 2): petal width (cm) in [1.7, 2.4], p...<br>new extent (len: 22): 121, 147, 110, 101, 145,...<br>new_intent (len: 2): petal length (cm), petal widt...<br>metric mean_y_true = 1.9090909090909092<br>",
          "PatternStructure 39<br><br>extent (len: 28): 69, 58, 93, 55, 99,...<br>intent (len: 2): petal length (cm) in [3.0, 4.7], ...<br>new extent (len: 28): 69, 58, 93, 55, 82,...<br>new_intent (len: 1): petal width (cm)<br>metric mean_y_true = 1.0<br>",
          "PatternStructure 82<br><br>extent (len: 17): 52, 77, 83, 133, 127,...<br>intent (len: 2): petal length (cm) in [4.9, 6.3], ...<br>new extent (len: 17): 52, 77, 83, 133, 127,...<br>new_intent (len: 1): petal width (cm)<br>metric mean_y_true = 1.7647058823529411<br>",
          "PatternStructure 55<br><br>extent (len: 23): 69, 59, 93, 99, 71,...<br>intent (len: 2): petal width (cm) in [1.0, 1.5], p...<br>new extent (len: 23): 69, 59, 93, 82, 88,...<br>new_intent (len: 1): petal length (cm)<br>metric mean_y_true = 1.0<br>",
          "PatternStructure 30<br><br>extent (len: 32): 100, 118, 140, 115, 104,...<br>intent (len: 2): petal length (cm) in [5.3, 6.9], ...<br>new extent (len: 32): 100, 118, 140, 115, 104,...<br>new_intent (len: 1): petal length (cm)<br>metric mean_y_true = 2.0<br>",
          "PatternStructure 83<br><br>extent (len: 17): 107, 142, 126, 127, 149,...<br>intent (len: 2): petal width (cm) in [1.8, 1.9], p...<br>new extent (len: 17): 142, 126, 127, 149, 101,...<br>new_intent (len: 2): petal length (cm), petal widt...<br>metric mean_y_true = 1.9411764705882353<br>",
          "PatternStructure 50<br><br>extent (len: 23): 58, 54, 55, 85, 86,...<br>intent (len: 2): petal width (cm) in [1.2, 1.6], p...<br>new extent (len: 23): 58, 54, 55, 85, 86,...<br>new_intent (len: 1): petal length (cm)<br>metric mean_y_true = 1.173913043478261<br>",
          "PatternStructure 84<br><br>extent (len: 17): 121, 77, 83, 52, 142,...<br>intent (len: 2): petal width (cm) in [1.5, 2.4], p...<br>new extent (len: 17): 52, 77, 83, 121, 142,...<br>new_intent (len: 1): petal length (cm)<br>metric mean_y_true = 1.7647058823529411<br>",
          "PatternStructure 51<br><br>extent (len: 23): 121, 54, 123, 85, 86,...<br>intent (len: 2): petal width (cm) in [1.5, 2.0], p...<br>new extent (len: 0): ∅<br>new_intent (len: 2): petal length (cm), petal widt...<br>metric mean_y_true = 1.391304347826087<br>",
          "PatternStructure 36<br><br>extent (len: 28): 100, 118, 140, 104, 135,...<br>intent (len: 2): petal length (cm) in [5.5, 6.9], ...<br>new extent (len: 28): 100, 118, 140, 104, 135,...<br>new_intent (len: 1): petal length (cm)<br>metric mean_y_true = 2.0<br>",
          "PatternStructure 72<br><br>extent (len: 18): 96, 94, 97, 74, 66,...<br>intent (len: 2): petal length (cm) in [4.2, 4.5], ...<br>new extent (len: 18): 96, 94, 74, 97, 90,...<br>new_intent (len: 2): petal length (cm), petal widt...<br>metric mean_y_true = 1.0555555555555556<br>",
          "PatternStructure 52<br><br>extent (len: 23): 101, 123, 85, 116, 106,...<br>intent (len: 2): petal width (cm) in [1.6, 1.9], p...<br>new extent (len: 23): 101, 123, 85, 116, 106,...<br>new_intent (len: 2): petal length (cm), petal widt...<br>metric mean_y_true = 1.7826086956521738<br>",
          "PatternStructure 40<br><br>extent (len: 27): 58, 54, 55, 65, 85,...<br>intent (len: 2): petal width (cm) in [1.2, 1.6], p...<br>new extent (len: 27): 58, 54, 55, 65, 85,...<br>new_intent (len: 2): petal length (cm), petal widt...<br>metric mean_y_true = 1.1481481481481481<br>",
          "PatternStructure 73<br><br>extent (len: 18): 52, 77, 83, 133, 51,...<br>intent (len: 2): petal length (cm) in [4.2, 5.8], ...<br>new extent (len: 18): 52, 77, 83, 133, 51,...<br>new_intent (len: 2): petal length (cm), petal widt...<br>metric mean_y_true = 1.2222222222222223<br>",
          "PatternStructure 26<br><br>extent (len: 34): 121, 100, 147, 118, 110,...<br>intent (len: 2): petal length (cm) in [4.9, 6.9], ...<br>new extent (len: 34): 121, 100, 147, 110, 118,...<br>new_intent (len: 2): petal length (cm), petal widt...<br>metric mean_y_true = 2.0<br>",
          "PatternStructure 53<br><br>extent (len: 23): 121, 147, 110, 101, 145,...<br>intent (len: 2): petal width (cm) in [1.4, 2.4], p...<br>new extent (len: 23): 121, 147, 110, 101, 145,...<br>new_intent (len: 2): petal length (cm), petal widt...<br>metric mean_y_true = 1.7391304347826086<br>",
          "PatternStructure 20<br><br>extent (len: 39): 69, 58, 54, 59, 93,...<br>intent (len: 2): petal width (cm) in [1.0, 1.6], p...<br>new extent (len: 39): 69, 58, 54, 59, 93,...<br>new_intent (len: 1): petal length (cm)<br>metric mean_y_true = 1.0<br>",
          "PatternStructure 74<br><br>extent (len: 18): 77, 83, 142, 133, 149,...<br>intent (len: 2): petal length (cm) in [5.0, 6.3], ...<br>new extent (len: 18): 77, 83, 142, 133, 149,...<br>new_intent (len: 1): petal length (cm)<br>metric mean_y_true = 1.8888888888888888<br>"
         ],
         "marker": {
          "color": [
           "grey",
           "grey",
           "grey",
           "grey",
           "grey",
           "grey",
           "grey",
           "grey",
           "grey",
           "grey",
           "grey",
           "grey",
           "grey",
           "grey",
           "grey",
           "grey",
           "grey",
           "grey",
           "grey",
           "grey",
           "grey",
           "grey",
           "grey",
           "grey",
           "grey",
           "grey",
           "grey",
           "grey",
           "grey",
           "grey",
           "grey",
           "grey",
           "grey",
           "grey",
           "grey",
           "grey",
           "grey",
           "grey",
           "grey",
           "grey",
           "grey",
           "grey",
           "grey",
           "grey",
           "grey",
           "grey",
           "grey",
           "grey",
           "grey",
           "grey",
           "grey",
           "grey",
           "grey",
           "grey",
           "grey",
           "grey",
           "grey",
           "grey",
           "grey",
           "grey",
           "grey",
           "grey",
           "grey",
           "grey",
           "grey",
           "grey",
           "grey",
           "grey",
           "grey",
           "grey",
           "grey",
           "grey",
           "grey",
           "grey",
           "grey",
           "grey",
           "grey",
           "grey",
           "grey",
           "grey",
           "grey",
           "grey",
           "grey",
           "grey",
           "grey",
           "grey",
           "grey",
           "grey",
           "grey",
           "grey",
           "grey",
           "grey",
           "grey",
           "grey",
           "grey",
           "grey",
           "grey",
           "grey",
           "grey",
           "grey",
           "grey"
          ],
          "colorbar": {
           "thickness": 15,
           "title": {
            "side": "right",
            "text": "y_mean"
           },
           "xanchor": "left"
          },
          "colorscale": [
           [
            0,
            "rgb(103,0,31)"
           ],
           [
            0.1,
            "rgb(178,24,43)"
           ],
           [
            0.2,
            "rgb(214,96,77)"
           ],
           [
            0.3,
            "rgb(244,165,130)"
           ],
           [
            0.4,
            "rgb(253,219,199)"
           ],
           [
            0.5,
            "rgb(247,247,247)"
           ],
           [
            0.6,
            "rgb(209,229,240)"
           ],
           [
            0.7,
            "rgb(146,197,222)"
           ],
           [
            0.8,
            "rgb(67,147,195)"
           ],
           [
            0.9,
            "rgb(33,102,172)"
           ],
           [
            1,
            "rgb(5,48,97)"
           ]
          ],
          "line": {
           "width": 2
          },
          "reversescale": true,
          "showscale": true,
          "size": 10
         },
         "mode": "markers+text",
         "text": [
          "petal length (cm),petal width (cm)<br>n: 45",
          "petal width (cm)<br>n: 12",
          "petal length (cm)<br>",
          "petal length (cm)<br>n: 13",
          "petal length (cm),petal width (cm)<br>n: 46",
          "petal length (cm),petal width (cm)<br>n: 24",
          "petal length (cm),petal width (cm)<br>n: 48",
          "petal width (cm)<br>n: 48",
          "petal length (cm),petal width (cm)<br>n: 26",
          "petal length (cm),petal width (cm)<br>n: 49",
          "petal length (cm),petal width (cm)<br>n: 50",
          "petal length (cm)<br>n: 51",
          "petal length (cm),petal width (cm)<br>n: 52",
          "petal length (cm),petal width (cm)<br>n: 12",
          "petal length (cm),petal width (cm)<br>n: 52",
          "petal length (cm),petal width (cm)<br>n: 54",
          "petal length (cm)<br>",
          "petal length (cm),petal width (cm)<br>n: 55",
          "petal length (cm),petal width (cm)<br>n: 58",
          "petal length (cm),petal width (cm)<br>n: 95",
          "petal length (cm),petal width (cm)<br>n: 48",
          "petal length (cm),petal width (cm)<br>n: 102",
          "petal width (cm),petal length (cm)<br>n: 150",
          "petal width (cm)<br>n: 30",
          "petal length (cm)<br>n: 28",
          "petal length (cm),petal width (cm)<br>n: 11",
          "petal length (cm)<br>n: 28",
          "petal width (cm)<br>n: 29",
          "petal length (cm),petal width (cm)<br>n: 13",
          "petal length (cm),petal width (cm)<br>n: 29",
          "petal length (cm),petal width (cm)<br>n: 19",
          "petal length (cm)<br>n: 25",
          "petal width (cm)<br>n: 36",
          "petal length (cm),petal width (cm)<br>n: 25",
          "petal length (cm),petal width (cm)<br>n: 26",
          "petal length (cm)<br>n: 34",
          "petal length (cm)<br>n: 36",
          "petal length (cm)<br>n: 33",
          "petal length (cm)<br>n: 33",
          "petal length (cm)<br>n: 42",
          "petal length (cm)<br>n: 35",
          "petal length (cm)<br>n: 25",
          "petal width (cm)<br>n: 32",
          "petal length (cm)<br>n: 34",
          "petal length (cm),petal width (cm)<br>n: 14",
          "petal length (cm),petal width (cm)<br>n: 26",
          "petal length (cm)<br>n: 31",
          "petal width (cm)<br>n: 18",
          "petal length (cm),petal width (cm)<br>n: 18",
          "petal length (cm)<br>n: 19",
          "petal width (cm)<br>n: 13",
          "petal length (cm)<br>n: 18",
          "petal length (cm),petal width (cm)<br>n: 19",
          "petal length (cm),petal width (cm)<br>n: 19",
          "petal width (cm)<br>n: 14",
          "petal length (cm)<br>n: 14",
          "petal length (cm),petal width (cm)<br>n: 14",
          "petal length (cm)<br>n: 26",
          "petal length (cm)<br>n: 20",
          "petal length (cm)<br>n: 37",
          "petal length (cm)<br>n: 17",
          "petal length (cm)<br>n: 19",
          "petal length (cm)<br>n: 14",
          "petal length (cm)<br>n: 19",
          "petal length (cm),petal width (cm)<br>n: 20",
          "petal length (cm),petal width (cm)<br>n: 16",
          "petal length (cm)<br>n: 20",
          "petal length (cm),petal width (cm)<br>n: 16",
          "petal length (cm),petal width (cm)<br>n: 21",
          "petal length (cm),petal width (cm)<br>n: 24",
          "petal length (cm)<br>n: 16",
          "petal width (cm)<br>n: 21",
          "petal length (cm)<br>n: 16",
          "petal length (cm),petal width (cm)<br>n: 16",
          "petal length (cm)<br>n: 21",
          "petal length (cm),petal width (cm)<br>n: 17",
          "petal length (cm),petal width (cm)<br>n: 21",
          "petal length (cm),petal width (cm)<br>",
          "petal length (cm),petal width (cm)<br>n: 17",
          "petal length (cm),petal width (cm)<br>n: 21",
          "petal length (cm)<br>n: 37",
          "petal length (cm),petal width (cm)<br>",
          "petal length (cm),petal width (cm)<br>n: 17",
          "petal length (cm),petal width (cm)<br>n: 22",
          "petal width (cm)<br>n: 28",
          "petal width (cm)<br>n: 17",
          "petal length (cm)<br>n: 23",
          "petal length (cm)<br>n: 32",
          "petal length (cm),petal width (cm)<br>n: 17",
          "petal length (cm)<br>n: 23",
          "petal length (cm)<br>n: 17",
          "petal length (cm),petal width (cm)<br>",
          "petal length (cm)<br>n: 28",
          "petal length (cm),petal width (cm)<br>n: 18",
          "petal length (cm),petal width (cm)<br>n: 23",
          "petal length (cm),petal width (cm)<br>n: 27",
          "petal length (cm),petal width (cm)<br>n: 18",
          "petal length (cm),petal width (cm)<br>n: 34",
          "petal length (cm),petal width (cm)<br>n: 23",
          "petal length (cm)<br>n: 39",
          "petal length (cm)<br>n: 18"
         ],
         "textposition": "middle right",
         "type": "scatter",
         "x": [
          -7,
          -11.5,
          -3,
          -1,
          -2,
          -5,
          -4,
          -1,
          -2,
          -1,
          -2.5,
          0,
          -1.5,
          -4,
          -0.5,
          0.5,
          -3,
          1.5,
          2.5,
          -1,
          0,
          1,
          0,
          -1,
          -6,
          -3,
          -6,
          -10.5,
          -2,
          -9.5,
          0,
          1,
          -5,
          -4,
          -1,
          -8.5,
          -3,
          -7.5,
          0,
          -2,
          -6.5,
          -5,
          0,
          -4,
          -2,
          1,
          1,
          -5.5,
          -1,
          -4.5,
          -3.5,
          -2.5,
          0,
          -1,
          -1.5,
          -3,
          -2,
          -0.5,
          0.5,
          1.5,
          2.5,
          1,
          -1,
          0,
          2,
          3.5,
          1,
          4.5,
          2,
          0,
          0,
          5.5,
          0,
          1,
          6.5,
          7.5,
          2,
          1,
          2,
          8.5,
          3,
          2,
          4,
          3,
          1,
          3,
          2,
          5,
          4,
          6,
          9.5,
          5,
          3,
          4,
          3,
          10.5,
          11.5,
          6,
          4,
          5,
          7
         ],
         "y": [
          4,
          3,
          5,
          0,
          5,
          10,
          10,
          6,
          9,
          9,
          11,
          6,
          11,
          1,
          11,
          11,
          10,
          11,
          11,
          12,
          12,
          12,
          13,
          5,
          4,
          1,
          2,
          3,
          10,
          3,
          0,
          0,
          4,
          4,
          10,
          3,
          4,
          3,
          10,
          4,
          3,
          2,
          9,
          2,
          1,
          10,
          6,
          3,
          4,
          3,
          3,
          3,
          5,
          1,
          3,
          2,
          2,
          3,
          3,
          3,
          3,
          9,
          2,
          4,
          9,
          3,
          4,
          3,
          4,
          8,
          1,
          3,
          2,
          2,
          3,
          3,
          10,
          5,
          2,
          3,
          2,
          5,
          2,
          5,
          1,
          4,
          1,
          2,
          4,
          2,
          3,
          4,
          1,
          1,
          10,
          3,
          3,
          4,
          10,
          10,
          4
         ]
        }
       ],
       "layout": {
        "height": 500,
        "hovermode": "closest",
        "margin": {
         "b": 20,
         "l": 5,
         "r": 5,
         "t": 40
        },
        "showlegend": false,
        "template": {
         "data": {
          "bar": [
           {
            "error_x": {
             "color": "#2a3f5f"
            },
            "error_y": {
             "color": "#2a3f5f"
            },
            "marker": {
             "line": {
              "color": "#E5ECF6",
              "width": 0.5
             }
            },
            "type": "bar"
           }
          ],
          "barpolar": [
           {
            "marker": {
             "line": {
              "color": "#E5ECF6",
              "width": 0.5
             }
            },
            "type": "barpolar"
           }
          ],
          "carpet": [
           {
            "aaxis": {
             "endlinecolor": "#2a3f5f",
             "gridcolor": "white",
             "linecolor": "white",
             "minorgridcolor": "white",
             "startlinecolor": "#2a3f5f"
            },
            "baxis": {
             "endlinecolor": "#2a3f5f",
             "gridcolor": "white",
             "linecolor": "white",
             "minorgridcolor": "white",
             "startlinecolor": "#2a3f5f"
            },
            "type": "carpet"
           }
          ],
          "choropleth": [
           {
            "colorbar": {
             "outlinewidth": 0,
             "ticks": ""
            },
            "type": "choropleth"
           }
          ],
          "contour": [
           {
            "colorbar": {
             "outlinewidth": 0,
             "ticks": ""
            },
            "colorscale": [
             [
              0,
              "#0d0887"
             ],
             [
              0.1111111111111111,
              "#46039f"
             ],
             [
              0.2222222222222222,
              "#7201a8"
             ],
             [
              0.3333333333333333,
              "#9c179e"
             ],
             [
              0.4444444444444444,
              "#bd3786"
             ],
             [
              0.5555555555555556,
              "#d8576b"
             ],
             [
              0.6666666666666666,
              "#ed7953"
             ],
             [
              0.7777777777777778,
              "#fb9f3a"
             ],
             [
              0.8888888888888888,
              "#fdca26"
             ],
             [
              1,
              "#f0f921"
             ]
            ],
            "type": "contour"
           }
          ],
          "contourcarpet": [
           {
            "colorbar": {
             "outlinewidth": 0,
             "ticks": ""
            },
            "type": "contourcarpet"
           }
          ],
          "heatmap": [
           {
            "colorbar": {
             "outlinewidth": 0,
             "ticks": ""
            },
            "colorscale": [
             [
              0,
              "#0d0887"
             ],
             [
              0.1111111111111111,
              "#46039f"
             ],
             [
              0.2222222222222222,
              "#7201a8"
             ],
             [
              0.3333333333333333,
              "#9c179e"
             ],
             [
              0.4444444444444444,
              "#bd3786"
             ],
             [
              0.5555555555555556,
              "#d8576b"
             ],
             [
              0.6666666666666666,
              "#ed7953"
             ],
             [
              0.7777777777777778,
              "#fb9f3a"
             ],
             [
              0.8888888888888888,
              "#fdca26"
             ],
             [
              1,
              "#f0f921"
             ]
            ],
            "type": "heatmap"
           }
          ],
          "heatmapgl": [
           {
            "colorbar": {
             "outlinewidth": 0,
             "ticks": ""
            },
            "colorscale": [
             [
              0,
              "#0d0887"
             ],
             [
              0.1111111111111111,
              "#46039f"
             ],
             [
              0.2222222222222222,
              "#7201a8"
             ],
             [
              0.3333333333333333,
              "#9c179e"
             ],
             [
              0.4444444444444444,
              "#bd3786"
             ],
             [
              0.5555555555555556,
              "#d8576b"
             ],
             [
              0.6666666666666666,
              "#ed7953"
             ],
             [
              0.7777777777777778,
              "#fb9f3a"
             ],
             [
              0.8888888888888888,
              "#fdca26"
             ],
             [
              1,
              "#f0f921"
             ]
            ],
            "type": "heatmapgl"
           }
          ],
          "histogram": [
           {
            "marker": {
             "colorbar": {
              "outlinewidth": 0,
              "ticks": ""
             }
            },
            "type": "histogram"
           }
          ],
          "histogram2d": [
           {
            "colorbar": {
             "outlinewidth": 0,
             "ticks": ""
            },
            "colorscale": [
             [
              0,
              "#0d0887"
             ],
             [
              0.1111111111111111,
              "#46039f"
             ],
             [
              0.2222222222222222,
              "#7201a8"
             ],
             [
              0.3333333333333333,
              "#9c179e"
             ],
             [
              0.4444444444444444,
              "#bd3786"
             ],
             [
              0.5555555555555556,
              "#d8576b"
             ],
             [
              0.6666666666666666,
              "#ed7953"
             ],
             [
              0.7777777777777778,
              "#fb9f3a"
             ],
             [
              0.8888888888888888,
              "#fdca26"
             ],
             [
              1,
              "#f0f921"
             ]
            ],
            "type": "histogram2d"
           }
          ],
          "histogram2dcontour": [
           {
            "colorbar": {
             "outlinewidth": 0,
             "ticks": ""
            },
            "colorscale": [
             [
              0,
              "#0d0887"
             ],
             [
              0.1111111111111111,
              "#46039f"
             ],
             [
              0.2222222222222222,
              "#7201a8"
             ],
             [
              0.3333333333333333,
              "#9c179e"
             ],
             [
              0.4444444444444444,
              "#bd3786"
             ],
             [
              0.5555555555555556,
              "#d8576b"
             ],
             [
              0.6666666666666666,
              "#ed7953"
             ],
             [
              0.7777777777777778,
              "#fb9f3a"
             ],
             [
              0.8888888888888888,
              "#fdca26"
             ],
             [
              1,
              "#f0f921"
             ]
            ],
            "type": "histogram2dcontour"
           }
          ],
          "mesh3d": [
           {
            "colorbar": {
             "outlinewidth": 0,
             "ticks": ""
            },
            "type": "mesh3d"
           }
          ],
          "parcoords": [
           {
            "line": {
             "colorbar": {
              "outlinewidth": 0,
              "ticks": ""
             }
            },
            "type": "parcoords"
           }
          ],
          "pie": [
           {
            "automargin": true,
            "type": "pie"
           }
          ],
          "scatter": [
           {
            "marker": {
             "colorbar": {
              "outlinewidth": 0,
              "ticks": ""
             }
            },
            "type": "scatter"
           }
          ],
          "scatter3d": [
           {
            "line": {
             "colorbar": {
              "outlinewidth": 0,
              "ticks": ""
             }
            },
            "marker": {
             "colorbar": {
              "outlinewidth": 0,
              "ticks": ""
             }
            },
            "type": "scatter3d"
           }
          ],
          "scattercarpet": [
           {
            "marker": {
             "colorbar": {
              "outlinewidth": 0,
              "ticks": ""
             }
            },
            "type": "scattercarpet"
           }
          ],
          "scattergeo": [
           {
            "marker": {
             "colorbar": {
              "outlinewidth": 0,
              "ticks": ""
             }
            },
            "type": "scattergeo"
           }
          ],
          "scattergl": [
           {
            "marker": {
             "colorbar": {
              "outlinewidth": 0,
              "ticks": ""
             }
            },
            "type": "scattergl"
           }
          ],
          "scattermapbox": [
           {
            "marker": {
             "colorbar": {
              "outlinewidth": 0,
              "ticks": ""
             }
            },
            "type": "scattermapbox"
           }
          ],
          "scatterpolar": [
           {
            "marker": {
             "colorbar": {
              "outlinewidth": 0,
              "ticks": ""
             }
            },
            "type": "scatterpolar"
           }
          ],
          "scatterpolargl": [
           {
            "marker": {
             "colorbar": {
              "outlinewidth": 0,
              "ticks": ""
             }
            },
            "type": "scatterpolargl"
           }
          ],
          "scatterternary": [
           {
            "marker": {
             "colorbar": {
              "outlinewidth": 0,
              "ticks": ""
             }
            },
            "type": "scatterternary"
           }
          ],
          "surface": [
           {
            "colorbar": {
             "outlinewidth": 0,
             "ticks": ""
            },
            "colorscale": [
             [
              0,
              "#0d0887"
             ],
             [
              0.1111111111111111,
              "#46039f"
             ],
             [
              0.2222222222222222,
              "#7201a8"
             ],
             [
              0.3333333333333333,
              "#9c179e"
             ],
             [
              0.4444444444444444,
              "#bd3786"
             ],
             [
              0.5555555555555556,
              "#d8576b"
             ],
             [
              0.6666666666666666,
              "#ed7953"
             ],
             [
              0.7777777777777778,
              "#fb9f3a"
             ],
             [
              0.8888888888888888,
              "#fdca26"
             ],
             [
              1,
              "#f0f921"
             ]
            ],
            "type": "surface"
           }
          ],
          "table": [
           {
            "cells": {
             "fill": {
              "color": "#EBF0F8"
             },
             "line": {
              "color": "white"
             }
            },
            "header": {
             "fill": {
              "color": "#C8D4E3"
             },
             "line": {
              "color": "white"
             }
            },
            "type": "table"
           }
          ]
         },
         "layout": {
          "annotationdefaults": {
           "arrowcolor": "#2a3f5f",
           "arrowhead": 0,
           "arrowwidth": 1
          },
          "coloraxis": {
           "colorbar": {
            "outlinewidth": 0,
            "ticks": ""
           }
          },
          "colorscale": {
           "diverging": [
            [
             0,
             "#8e0152"
            ],
            [
             0.1,
             "#c51b7d"
            ],
            [
             0.2,
             "#de77ae"
            ],
            [
             0.3,
             "#f1b6da"
            ],
            [
             0.4,
             "#fde0ef"
            ],
            [
             0.5,
             "#f7f7f7"
            ],
            [
             0.6,
             "#e6f5d0"
            ],
            [
             0.7,
             "#b8e186"
            ],
            [
             0.8,
             "#7fbc41"
            ],
            [
             0.9,
             "#4d9221"
            ],
            [
             1,
             "#276419"
            ]
           ],
           "sequential": [
            [
             0,
             "#0d0887"
            ],
            [
             0.1111111111111111,
             "#46039f"
            ],
            [
             0.2222222222222222,
             "#7201a8"
            ],
            [
             0.3333333333333333,
             "#9c179e"
            ],
            [
             0.4444444444444444,
             "#bd3786"
            ],
            [
             0.5555555555555556,
             "#d8576b"
            ],
            [
             0.6666666666666666,
             "#ed7953"
            ],
            [
             0.7777777777777778,
             "#fb9f3a"
            ],
            [
             0.8888888888888888,
             "#fdca26"
            ],
            [
             1,
             "#f0f921"
            ]
           ],
           "sequentialminus": [
            [
             0,
             "#0d0887"
            ],
            [
             0.1111111111111111,
             "#46039f"
            ],
            [
             0.2222222222222222,
             "#7201a8"
            ],
            [
             0.3333333333333333,
             "#9c179e"
            ],
            [
             0.4444444444444444,
             "#bd3786"
            ],
            [
             0.5555555555555556,
             "#d8576b"
            ],
            [
             0.6666666666666666,
             "#ed7953"
            ],
            [
             0.7777777777777778,
             "#fb9f3a"
            ],
            [
             0.8888888888888888,
             "#fdca26"
            ],
            [
             1,
             "#f0f921"
            ]
           ]
          },
          "colorway": [
           "#636efa",
           "#EF553B",
           "#00cc96",
           "#ab63fa",
           "#FFA15A",
           "#19d3f3",
           "#FF6692",
           "#B6E880",
           "#FF97FF",
           "#FECB52"
          ],
          "font": {
           "color": "#2a3f5f"
          },
          "geo": {
           "bgcolor": "white",
           "lakecolor": "white",
           "landcolor": "#E5ECF6",
           "showlakes": true,
           "showland": true,
           "subunitcolor": "white"
          },
          "hoverlabel": {
           "align": "left"
          },
          "hovermode": "closest",
          "mapbox": {
           "style": "light"
          },
          "paper_bgcolor": "white",
          "plot_bgcolor": "#E5ECF6",
          "polar": {
           "angularaxis": {
            "gridcolor": "white",
            "linecolor": "white",
            "ticks": ""
           },
           "bgcolor": "#E5ECF6",
           "radialaxis": {
            "gridcolor": "white",
            "linecolor": "white",
            "ticks": ""
           }
          },
          "scene": {
           "xaxis": {
            "backgroundcolor": "#E5ECF6",
            "gridcolor": "white",
            "gridwidth": 2,
            "linecolor": "white",
            "showbackground": true,
            "ticks": "",
            "zerolinecolor": "white"
           },
           "yaxis": {
            "backgroundcolor": "#E5ECF6",
            "gridcolor": "white",
            "gridwidth": 2,
            "linecolor": "white",
            "showbackground": true,
            "ticks": "",
            "zerolinecolor": "white"
           },
           "zaxis": {
            "backgroundcolor": "#E5ECF6",
            "gridcolor": "white",
            "gridwidth": 2,
            "linecolor": "white",
            "showbackground": true,
            "ticks": "",
            "zerolinecolor": "white"
           }
          },
          "shapedefaults": {
           "line": {
            "color": "#2a3f5f"
           }
          },
          "ternary": {
           "aaxis": {
            "gridcolor": "white",
            "linecolor": "white",
            "ticks": ""
           },
           "baxis": {
            "gridcolor": "white",
            "linecolor": "white",
            "ticks": ""
           },
           "bgcolor": "#E5ECF6",
           "caxis": {
            "gridcolor": "white",
            "linecolor": "white",
            "ticks": ""
           }
          },
          "title": {
           "x": 0.05
          },
          "xaxis": {
           "automargin": true,
           "gridcolor": "white",
           "linecolor": "white",
           "ticks": "",
           "title": {
            "standoff": 15
           },
           "zerolinecolor": "white",
           "zerolinewidth": 2
          },
          "yaxis": {
           "automargin": true,
           "gridcolor": "white",
           "linecolor": "white",
           "ticks": "",
           "title": {
            "standoff": 15
           },
           "zerolinecolor": "white",
           "zerolinewidth": 2
          }
         }
        },
        "title": {
         "font": {
          "size": 16
         },
         "text": "Concept Lattice"
        },
        "width": 1000,
        "xaxis": {
         "showgrid": false,
         "showticklabels": false,
         "zeroline": false
        },
        "yaxis": {
         "showgrid": false,
         "showticklabels": false,
         "zeroline": false
        }
       }
      },
      "text/html": [
       "<div>\n",
       "        \n",
       "        \n",
       "            <div id=\"5f103971-6e52-4d13-8693-aa6a1e2b121f\" class=\"plotly-graph-div\" style=\"height:500px; width:1000px;\"></div>\n",
       "            <script type=\"text/javascript\">\n",
       "                require([\"plotly\"], function(Plotly) {\n",
       "                    window.PLOTLYENV=window.PLOTLYENV || {};\n",
       "                    \n",
       "                if (document.getElementById(\"5f103971-6e52-4d13-8693-aa6a1e2b121f\")) {\n",
       "                    Plotly.newPlot(\n",
       "                        '5f103971-6e52-4d13-8693-aa6a1e2b121f',\n",
       "                        [{\"hoverinfo\": \"none\", \"line\": {\"color\": \"#888\", \"width\": 0.5}, \"mode\": \"lines\", \"type\": \"scatter\", \"x\": [-7.0, 1.5, null, -7.0, 3.5, null, -7.0, -1.0, null, -11.5, 4.0, null, -3.0, -2.0, null, -3.0, 8.5, null, -3.0, 0.0, null, -1.0, 0.0, null, -2.0, 6.0, null, -2.0, 4.0, null, -2.0, -1.0, null, -2.0, -1.0, null, -5.0, 4.5, null, -5.0, 2.0, null, -5.0, -1.5, null, -4.0, -5.0, null, -4.0, -1.5, null, -1.0, 3.0, null, -1.0, 0.0, null, -1.0, -0.5, null, -2.0, 2.0, null, -2.0, -3.0, null, -1.0, 0.0, null, -1.0, -3.0, null, -2.5, 1.0, null, 0.0, 2.0, null, 0.0, 1.0, null, 0.0, 1.5, null, -1.5, 10.5, null, -1.5, 5.0, null, -1.5, 1.0, null, -4.0, 4.0, null, -0.5, 0.0, null, -0.5, 2.0, null, -0.5, 3.0, null, -0.5, 0.0, null, 0.5, 1.0, null, 0.5, -4.0, null, 0.5, 0.0, null, -3.0, 4.0, null, -3.0, 2.5, null, 1.5, -1.0, null, 1.5, 4.0, null, 1.5, 0.0, null, 2.5, -2.0, null, 2.5, 5.0, null, 2.5, 0.0, null, -1.0, 0.0, null, 0.0, 0.0, null, 1.0, 0.0, null, -1.0, -6.0, null, -1.0, 1.0, null, -6.0, -0.5, null, -3.0, -2.0, null, -6.0, -10.5, null, -10.5, 6.0, null, -9.5, -5.0, null, -9.5, -3.0, null, 0.0, 2.0, null, 1.0, 3.0, null, -5.0, -6.5, null, -4.0, 2.5, null, -1.0, 5.5, null, -8.5, 5.0, null, -8.5, -2.0, null, -3.0, 5.0, null, -7.5, 6.0, null, 0.0, 1.0, null, 0.0, 0.0, null, -6.5, -4.0, null, -5.0, 2.0, null, -4.0, 1.0, null, -2.0, 0.0, null, 1.0, 11.5, null, -5.5, 0.0, null, -5.5, 1.0, null, -5.5, 2.0, null, -4.5, -2.0, null, -4.5, 5.0, null, -3.5, 7.0, null, -2.5, -1.0, null, -2.5, 1.0, null, 0.0, -1.5, null, -1.0, 6.0, null, -3.0, 2.5, null, 0.5, 3.0, null, 1.5, 3.0, null, 1.5, 2.0, null, 1.0, 2.0, null, 0.0, 9.5, null, 0.0, 1.0, null, 1.0, 0.0, null, 2.0, 7.5, null, 0.0, 6.0, null, 6.5, 4.0, null, 3.0, 4.0, null, 2.0, 7.0, null, 2.0, 3.0, null, 5.0, 3.0, null, 6.0, 10.5, null], \"y\": [4, 3, null, 4, 3, null, 4, 9, null, 3, 4, null, 5, 4, null, 5, 3, null, 5, 6, null, 0, 1, null, 5, 4, null, 5, 4, null, 5, 4, null, 5, 6, null, 10, 3, null, 10, 9, null, 10, 11, null, 10, 4, null, 10, 11, null, 6, 5, null, 6, 5, null, 6, 11, null, 9, 4, null, 9, 10, null, 9, 8, null, 9, 10, null, 11, 12, null, 6, 5, null, 6, 5, null, 6, 11, null, 11, 3, null, 11, 10, null, 11, 12, null, 1, 2, null, 11, 10, null, 11, 10, null, 11, 10, null, 11, 12, null, 11, 10, null, 11, 4, null, 11, 12, null, 10, 2, null, 10, 11, null, 11, 10, null, 11, 10, null, 11, 12, null, 11, 10, null, 11, 4, null, 11, 12, null, 12, 13, null, 12, 13, null, 12, 13, null, 5, 4, null, 5, 6, null, 4, 3, null, 1, 2, null, 2, 3, null, 3, 4, null, 3, 2, null, 3, 4, null, 0, 1, null, 0, 1, null, 4, 3, null, 4, 3, null, 10, 3, null, 3, 2, null, 3, 4, null, 4, 10, null, 3, 4, null, 10, 6, null, 10, 9, null, 3, 2, null, 2, 1, null, 2, 1, null, 1, 2, null, 10, 3, null, 3, 2, null, 3, 2, null, 3, 10, null, 3, 2, null, 3, 4, null, 3, 4, null, 3, 2, null, 3, 5, null, 5, 3, null, 1, 2, null, 2, 3, null, 3, 5, null, 3, 2, null, 3, 2, null, 9, 10, null, 4, 3, null, 4, 5, null, 4, 8, null, 4, 3, null, 1, 2, null, 3, 10, null, 2, 1, null, 5, 4, null, 5, 4, null, 2, 1, null, 2, 3, null]}, {\"hoverinfo\": \"text\", \"hovertext\": [\"PatternStructure 17<br><br>extent (len: 45): 69, 58, 54, 59, 93,...<br>intent (len: 2): petal length (cm) in [3.0, 4.7], ...<br>new extent (len: 45): 69, 58, 54, 59, 93,...<br>new_intent (len: 2): petal length (cm), petal widt...<br>metric mean_y_true = 1.0222222222222221<br>\", \"PatternStructure 99<br><br>extent (len: 12): 126, 127, 149, 116, 137,...<br>intent (len: 2): petal width (cm) = 1.8, petal len...<br>new extent (len: 12): 126, 127, 149, 116, 137,...<br>new_intent (len: 1): petal width (cm)<br>metric mean_y_true = 1.9166666666666667<br>\", \"PatternStructure 15<br><br>extent (len: 46): 100, 147, 118, 110, 101,...<br>intent (len: 2): petal length (cm) in [5.0, 6.9], ...<br>new extent (len: 0): \\u2205<br>new_intent (len: 1): petal length (cm)<br>metric mean_y_true = 1.9565217391304348<br>\", \"PatternStructure 95<br><br>extent (len: 13): 52, 83, 73, 133, 86,...<br>intent (len: 2): petal length (cm) in [4.7, 5.8], ...<br>new extent (len: 13): 52, 83, 73, 133, 50,...<br>new_intent (len: 1): petal length (cm)<br>metric mean_y_true = 1.3076923076923077<br>\", \"PatternStructure 16<br><br>extent (len: 46): 121, 100, 147, 118, 110,...<br>intent (len: 2): petal width (cm) in [1.8, 2.5], p...<br>new extent (len: 46): 121, 100, 147, 110, 118,...<br>new_intent (len: 2): petal length (cm), petal widt...<br>metric mean_y_true = 1.9782608695652173<br>\", \"PatternStructure 48<br><br>extent (len: 24): 54, 59, 65, 85, 86,...<br>intent (len: 2): petal width (cm) in [1.4, 1.6], p...<br>new extent (len: 24): 54, 59, 65, 85, 86,...<br>new_intent (len: 2): petal length (cm), petal widt...<br>metric mean_y_true = 1.1666666666666667<br>\", \"PatternStructure 13<br><br>extent (len: 48): 69, 58, 54, 59, 93,...<br>intent (len: 2): petal width (cm) in [1.0, 1.5], p...<br>new extent (len: 48): 69, 58, 54, 59, 93,...<br>new_intent (len: 2): petal length (cm), petal widt...<br>metric mean_y_true = 1.0625<br>\", \"PatternStructure 14<br><br>extent (len: 48): 121, 100, 147, 118, 110,...<br>intent (len: 2): petal width (cm) in [1.7, 2.5], p...<br>new extent (len: 48): 121, 100, 147, 110, 118,...<br>new_intent (len: 1): petal width (cm)<br>metric mean_y_true = 1.9583333333333333<br>\", \"PatternStructure 42<br><br>extent (len: 26): 121, 54, 59, 123, 65,...<br>intent (len: 2): petal width (cm) in [1.4, 2.0], p...<br>new extent (len: 26): 121, 54, 59, 65, 123,...<br>new_intent (len: 2): petal length (cm), petal widt...<br>metric mean_y_true = 1.2307692307692308<br>\", \"PatternStructure 12<br><br>extent (len: 49): 69, 58, 54, 59, 93,...<br>intent (len: 2): petal width (cm) in [1.0, 1.8], p...<br>new extent (len: 49): 69, 58, 54, 59, 93,...<br>new_intent (len: 2): petal length (cm), petal widt...<br>metric mean_y_true = 1.0612244897959184<br>\", \"PatternStructure 11<br><br>extent (len: 50): 29, 41, 16, 19, 8,...<br>intent (len: 2): petal length (cm) in [1.0, 1.9], ...<br>new extent (len: 50): 34, 29, 41, 16, 19,...<br>new_intent (len: 2): petal length (cm), petal widt...<br>metric mean_y_true = 0.0<br>\", \"PatternStructure 10<br><br>extent (len: 51): 121, 100, 147, 118, 110,...<br>intent (len: 2): petal length (cm) in [4.9, 6.9], ...<br>new extent (len: 51): 121, 100, 147, 110, 118,...<br>new_intent (len: 1): petal length (cm)<br>metric mean_y_true = 1.9215686274509804<br>\", \"PatternStructure 8<br><br>extent (len: 52): 69, 58, 54, 59, 93,...<br>intent (len: 2): petal width (cm) in [1.0, 1.6], p...<br>new extent (len: 52): 69, 58, 54, 59, 93,...<br>new_intent (len: 2): petal length (cm), petal widt...<br>metric mean_y_true = 1.0769230769230769<br>\", \"PatternStructure 98<br><br>extent (len: 12): 126, 73, 58, 86, 76,...<br>intent (len: 2): petal width (cm) in [1.2, 1.8], p...<br>new extent (len: 12): 126, 73, 58, 50, 76,...<br>new_intent (len: 2): petal length (cm), petal widt...<br>metric mean_y_true = 1.1666666666666667<br>\", \"PatternStructure 9<br><br>extent (len: 52): 121, 100, 147, 118, 110,...<br>intent (len: 2): petal width (cm) in [1.6, 2.5], p...<br>new extent (len: 52): 121, 100, 147, 110, 118,...<br>new_intent (len: 2): petal length (cm), petal widt...<br>metric mean_y_true = 1.9038461538461537<br>\", \"PatternStructure 6<br><br>extent (len: 54): 69, 58, 54, 59, 93,...<br>intent (len: 2): petal width (cm) in [1.0, 1.7], p...<br>new extent (len: 54): 69, 58, 54, 59, 93,...<br>new_intent (len: 2): petal length (cm), petal widt...<br>metric mean_y_true = 1.0925925925925926<br>\", \"PatternStructure 7<br><br>extent (len: 54): 121, 69, 58, 54, 59,...<br>intent (len: 2): petal width (cm) in [1.0, 2.0], p...<br>new extent (len: 0): \\u2205<br>new_intent (len: 1): petal length (cm)<br>metric mean_y_true = 1.1111111111111112<br>\", \"PatternStructure 5<br><br>extent (len: 55): 121, 100, 147, 118, 110,...<br>intent (len: 2): petal width (cm) in [1.4, 2.5], p...<br>new extent (len: 55): 121, 100, 147, 110, 118,...<br>new_intent (len: 2): petal length (cm), petal widt...<br>metric mean_y_true = 1.8909090909090909<br>\", \"PatternStructure 4<br><br>extent (len: 58): 121, 69, 58, 54, 59,...<br>intent (len: 2): petal width (cm) in [1.0, 2.0], p...<br>new extent (len: 58): 121, 69, 58, 54, 59,...<br>new_intent (len: 2): petal length (cm), petal widt...<br>metric mean_y_true = 1.1551724137931034<br>\", \"PatternStructure 3<br><br>extent (len: 95): 58, 93, 55, 82, 89,...<br>intent (len: 2): petal length (cm) in [1.0, 4.7], ...<br>new extent (len: 95): 58, 93, 55, 82, 89,...<br>new_intent (len: 2): petal length (cm), petal widt...<br>metric mean_y_true = 0.4842105263157895<br>\", \"PatternStructure 2<br><br>extent (len: 100): 121, 118, 58, 145, 93,...<br>intent (len: 2): petal length (cm) in [3.0, 6.9], ...<br>new extent (len: 48): 121, 100, 147, 110, 118,...<br>new_intent (len: 2): petal length (cm), petal widt...<br>metric mean_y_true = 1.5<br>\", \"PatternStructure 1<br><br>extent (len: 102): 58, 93, 55, 82, 89,...<br>intent (len: 2): petal width (cm) in [0.1, 1.6], p...<br>new extent (len: 102): 58, 93, 55, 82, 89,...<br>new_intent (len: 2): petal length (cm), petal widt...<br>metric mean_y_true = 0.5490196078431373<br>\", \"PatternStructure 0<br><br>extent (len: 150): 121, 118, 58, 145, 93,...<br>intent (len: 2): petal width (cm) in [0.1, 2.5], p...<br>new extent (len: 150): 121, 118, 58, 145, 93,...<br>new_intent (len: 2): petal length (cm), petal widt...<br>metric mean_y_true = 1.0<br>\", \"PatternStructure 33<br><br>extent (len: 30): 100, 118, 140, 115, 104,...<br>intent (len: 2): petal length (cm) in [5.3, 6.9], ...<br>new extent (len: 30): 100, 118, 140, 115, 104,...<br>new_intent (len: 1): petal width (cm)<br>metric mean_y_true = 2.0<br>\", \"PatternStructure 37<br><br>extent (len: 28): 100, 118, 140, 104, 139,...<br>intent (len: 2): petal width (cm) in [1.8, 2.5], p...<br>new extent (len: 28): 100, 118, 140, 104, 139,...<br>new_intent (len: 1): petal length (cm)<br>metric mean_y_true = 2.0<br>\", \"PatternStructure 100<br><br>extent (len: 11): 85, 86, 54, 56, 78,...<br>intent (len: 2): petal length (cm) in [4.2, 4.7], ...<br>new extent (len: 11): 85, 86, 54, 56, 68,...<br>new_intent (len: 2): petal length (cm), petal widt...<br>metric mean_y_true = 1.0909090909090908<br>\", \"PatternStructure 38<br><br>extent (len: 28): 100, 147, 118, 110, 145,...<br>intent (len: 2): petal width (cm) in [2.0, 2.5], p...<br>new extent (len: 28): 100, 147, 110, 118, 145,...<br>new_intent (len: 1): petal length (cm)<br>metric mean_y_true = 2.0<br>\", \"PatternStructure 34<br><br>extent (len: 29): 121, 100, 147, 118, 110,...<br>intent (len: 2): petal width (cm) in [2.0, 2.5], p...<br>new extent (len: 29): 121, 100, 147, 110, 118,...<br>new_intent (len: 1): petal width (cm)<br>metric mean_y_true = 2.0<br>\", \"PatternStructure 96<br><br>extent (len: 13): 121, 77, 52, 126, 127,...<br>intent (len: 2): petal width (cm) in [1.4, 2.0], p...<br>new extent (len: 13): 52, 77, 121, 126, 127,...<br>new_intent (len: 2): petal length (cm), petal widt...<br>metric mean_y_true = 1.6153846153846154<br>\", \"PatternStructure 35<br><br>extent (len: 29): 69, 59, 93, 99, 71,...<br>intent (len: 2): petal width (cm) in [1.0, 1.5], p...<br>new extent (len: 29): 69, 59, 93, 65, 88,...<br>new_intent (len: 2): petal length (cm), petal widt...<br>metric mean_y_true = 1.0<br>\", \"PatternStructure 71<br><br>extent (len: 19): 69, 59, 93, 99, 71,...<br>intent (len: 2): petal width (cm) in [1.0, 1.4], p...<br>new extent (len: 19): 69, 59, 93, 82, 88,...<br>new_intent (len: 2): petal length (cm), petal widt...<br>metric mean_y_true = 1.0<br>\", \"PatternStructure 46<br><br>extent (len: 25): 100, 118, 140, 104, 135,...<br>intent (len: 2): petal width (cm) in [1.4, 2.5], p...<br>new extent (len: 25): 100, 118, 140, 104, 135,...<br>new_intent (len: 1): petal length (cm)<br>metric mean_y_true = 2.0<br>\", \"PatternStructure 22<br><br>extent (len: 36): 69, 58, 59, 93, 55,...<br>intent (len: 2): petal width (cm) in [1.0, 1.4], p...<br>new extent (len: 36): 69, 58, 59, 93, 55,...<br>new_intent (len: 1): petal width (cm)<br>metric mean_y_true = 1.0277777777777777<br>\", \"PatternStructure 45<br><br>extent (len: 25): 58, 54, 55, 85, 86,...<br>intent (len: 2): petal length (cm) in [4.5, 5.8], ...<br>new extent (len: 25): 58, 54, 55, 85, 86,...<br>new_intent (len: 2): petal length (cm), petal widt...<br>metric mean_y_true = 1.2<br>\", \"PatternStructure 44<br><br>extent (len: 26): 101, 123, 116, 76, 72,...<br>intent (len: 2): petal width (cm) in [1.4, 1.9], p...<br>new extent (len: 26): 101, 123, 116, 76, 72,...<br>new_intent (len: 2): petal length (cm), petal widt...<br>metric mean_y_true = 1.7692307692307692<br>\", \"PatternStructure 25<br><br>extent (len: 34): 100, 147, 118, 145, 140,...<br>intent (len: 2): petal width (cm) in [1.4, 2.5], p...<br>new extent (len: 34): 100, 147, 118, 145, 140,...<br>new_intent (len: 1): petal length (cm)<br>metric mean_y_true = 2.0<br>\", \"PatternStructure 23<br><br>extent (len: 36): 69, 59, 93, 55, 99,...<br>intent (len: 2): petal length (cm) in [3.0, 4.5], ...<br>new extent (len: 36): 69, 59, 93, 55, 65,...<br>new_intent (len: 1): petal length (cm)<br>metric mean_y_true = 1.0<br>\", \"PatternStructure 29<br><br>extent (len: 33): 100, 147, 118, 110, 101,...<br>intent (len: 2): petal length (cm) in [5.0, 6.9], ...<br>new extent (len: 33): 100, 147, 110, 118, 101,...<br>new_intent (len: 1): petal length (cm)<br>metric mean_y_true = 2.0<br>\", \"PatternStructure 28<br><br>extent (len: 33): 100, 147, 118, 145, 140,...<br>intent (len: 2): petal width (cm) in [1.6, 2.5], p...<br>new extent (len: 33): 100, 147, 118, 145, 140,...<br>new_intent (len: 1): petal length (cm)<br>metric mean_y_true = 2.0<br>\", \"PatternStructure 18<br><br>extent (len: 42): 100, 147, 118, 110, 101,...<br>intent (len: 2): petal width (cm) in [1.4, 2.5], p...<br>new extent (len: 42): 100, 147, 110, 118, 101,...<br>new_intent (len: 1): petal length (cm)<br>metric mean_y_true = 1.9761904761904763<br>\", \"PatternStructure 24<br><br>extent (len: 35): 69, 58, 59, 93, 55,...<br>intent (len: 2): petal length (cm) in [3.0, 4.8], ...<br>new extent (len: 35): 69, 58, 59, 93, 55,...<br>new_intent (len: 1): petal length (cm)<br>metric mean_y_true = 1.0<br>\", \"PatternStructure 47<br><br>extent (len: 25): 69, 59, 93, 99, 71,...<br>intent (len: 2): petal width (cm) in [1.0, 1.5], p...<br>new extent (len: 25): 69, 59, 93, 82, 88,...<br>new_intent (len: 1): petal length (cm)<br>metric mean_y_true = 1.0<br>\", \"PatternStructure 31<br><br>extent (len: 32): 100, 147, 118, 145, 140,...<br>intent (len: 2): petal width (cm) in [1.8, 2.5], p...<br>new extent (len: 32): 100, 147, 118, 145, 140,...<br>new_intent (len: 1): petal width (cm)<br>metric mean_y_true = 2.0<br>\", \"PatternStructure 27<br><br>extent (len: 34): 69, 58, 59, 93, 55,...<br>intent (len: 2): petal length (cm) in [3.0, 4.7], ...<br>new extent (len: 34): 69, 58, 59, 93, 55,...<br>new_intent (len: 1): petal length (cm)<br>metric mean_y_true = 1.0<br>\", \"PatternStructure 93<br><br>extent (len: 14): 121, 142, 126, 114, 110,...<br>intent (len: 2): petal width (cm) in [1.8, 2.4], p...<br>new extent (len: 14): 121, 142, 126, 114, 110,...<br>new_intent (len: 2): petal length (cm), petal widt...<br>metric mean_y_true = 1.9285714285714286<br>\", \"PatternStructure 41<br><br>extent (len: 26): 54, 59, 65, 85, 86,...<br>intent (len: 2): petal width (cm) in [1.4, 1.7], p...<br>new extent (len: 26): 54, 59, 65, 85, 86,...<br>new_intent (len: 2): petal length (cm), petal widt...<br>metric mean_y_true = 1.1923076923076923<br>\", \"PatternStructure 32<br><br>extent (len: 31): 100, 118, 140, 115, 104,...<br>intent (len: 2): petal length (cm) in [5.3, 6.9], ...<br>new extent (len: 31): 100, 118, 140, 115, 104,...<br>new_intent (len: 1): petal length (cm)<br>metric mean_y_true = 2.0<br>\", \"PatternStructure 75<br><br>extent (len: 18): 121, 77, 142, 147, 126,...<br>intent (len: 2): petal width (cm) in [1.7, 2.4], p...<br>new extent (len: 18): 121, 77, 142, 147, 114,...<br>new_intent (len: 1): petal width (cm)<br>metric mean_y_true = 1.8888888888888888<br>\", \"PatternStructure 76<br><br>extent (len: 18): 121, 142, 147, 126, 114,...<br>intent (len: 2): petal width (cm) in [1.8, 2.4], p...<br>new extent (len: 18): 121, 142, 147, 114, 126,...<br>new_intent (len: 2): petal length (cm), petal widt...<br>metric mean_y_true = 1.9444444444444444<br>\", \"PatternStructure 67<br><br>extent (len: 19): 121, 54, 123, 85, 86,...<br>intent (len: 2): petal width (cm) in [1.5, 2.0], p...<br>new extent (len: 19): 121, 54, 123, 85, 86,...<br>new_intent (len: 1): petal length (cm)<br>metric mean_y_true = 1.3157894736842106<br>\", \"PatternStructure 97<br><br>extent (len: 13): 77, 83, 133, 149, 116,...<br>intent (len: 2): petal width (cm) in [1.4, 1.8], p...<br>new extent (len: 13): 77, 83, 133, 149, 116,...<br>new_intent (len: 1): petal width (cm)<br>metric mean_y_true = 1.8461538461538463<br>\", \"PatternStructure 77<br><br>extent (len: 18): 77, 83, 142, 147, 114,...<br>intent (len: 2): petal width (cm) in [1.5, 2.4], p...<br>new extent (len: 18): 77, 83, 142, 147, 114,...<br>new_intent (len: 1): petal length (cm)<br>metric mean_y_true = 1.8888888888888888<br>\", \"PatternStructure 68<br><br>extent (len: 19): 101, 123, 116, 106, 138,...<br>intent (len: 2): petal length (cm) in [4.5, 6.3], ...<br>new extent (len: 19): 101, 123, 116, 106, 138,...<br>new_intent (len: 2): petal length (cm), petal widt...<br>metric mean_y_true = 1.894736842105263<br>\", \"PatternStructure 66<br><br>extent (len: 19): 58, 54, 55, 86, 76,...<br>intent (len: 2): petal length (cm) in [4.5, 5.6], ...<br>new extent (len: 19): 58, 54, 55, 86, 76,...<br>new_intent (len: 2): petal length (cm), petal widt...<br>metric mean_y_true = 1.1578947368421053<br>\", \"PatternStructure 92<br><br>extent (len: 14): 77, 126, 127, 149, 116,...<br>intent (len: 2): petal length (cm) in [4.5, 6.3], ...<br>new extent (len: 14): 77, 126, 127, 149, 116,...<br>new_intent (len: 1): petal width (cm)<br>metric mean_y_true = 1.8571428571428572<br>\", \"PatternStructure 90<br><br>extent (len: 14): 52, 77, 83, 73, 133,...<br>intent (len: 2): petal length (cm) in [4.7, 5.8], ...<br>new extent (len: 14): 52, 77, 83, 73, 133,...<br>new_intent (len: 1): petal length (cm)<br>metric mean_y_true = 1.2857142857142858<br>\", \"PatternStructure 91<br><br>extent (len: 14): 126, 51, 85, 86, 54,...<br>intent (len: 2): petal width (cm) in [1.5, 1.8], p...<br>new extent (len: 14): 126, 85, 86, 54, 56,...<br>new_intent (len: 2): petal length (cm), petal widt...<br>metric mean_y_true = 1.2142857142857142<br>\", \"PatternStructure 43<br><br>extent (len: 26): 100, 118, 140, 104, 135,...<br>intent (len: 2): petal length (cm) in [5.5, 6.9], ...<br>new extent (len: 26): 100, 118, 140, 104, 135,...<br>new_intent (len: 1): petal length (cm)<br>metric mean_y_true = 2.0<br>\", \"PatternStructure 65<br><br>extent (len: 20): 121, 147, 110, 101, 145,...<br>intent (len: 2): petal width (cm) in [1.7, 2.4], p...<br>new extent (len: 20): 121, 147, 110, 101, 145,...<br>new_intent (len: 1): petal length (cm)<br>metric mean_y_true = 1.9<br>\", \"PatternStructure 19<br><br>extent (len: 40): 69, 58, 54, 59, 93,...<br>intent (len: 2): petal width (cm) in [1.0, 1.7], p...<br>new extent (len: 37): 69, 59, 93, 55, 65,...<br>new_intent (len: 1): petal length (cm)<br>metric mean_y_true = 1.025<br>\", \"PatternStructure 80<br><br>extent (len: 17): 52, 77, 83, 73, 133,...<br>intent (len: 2): petal length (cm) in [4.6, 5.8], ...<br>new extent (len: 17): 52, 77, 83, 73, 133,...<br>new_intent (len: 1): petal length (cm)<br>metric mean_y_true = 1.2352941176470589<br>\", \"PatternStructure 69<br><br>extent (len: 19): 121, 110, 101, 123, 85,...<br>intent (len: 2): petal length (cm) in [4.5, 5.1], ...<br>new extent (len: 19): 121, 110, 101, 123, 85,...<br>new_intent (len: 1): petal length (cm)<br>metric mean_y_true = 1.736842105263158<br>\", \"PatternStructure 94<br><br>extent (len: 14): 83, 142, 147, 114, 133,...<br>intent (len: 2): petal width (cm) in [1.5, 2.4], p...<br>new extent (len: 14): 83, 142, 147, 114, 133,...<br>new_intent (len: 1): petal length (cm)<br>metric mean_y_true = 1.9285714285714286<br>\", \"PatternStructure 70<br><br>extent (len: 19): 121, 147, 110, 101, 145,...<br>intent (len: 2): petal width (cm) in [1.5, 2.4], p...<br>new extent (len: 19): 121, 147, 110, 101, 145,...<br>new_intent (len: 1): petal length (cm)<br>metric mean_y_true = 1.7894736842105263<br>\", \"PatternStructure 63<br><br>extent (len: 20): 54, 59, 65, 86, 76,...<br>intent (len: 2): petal length (cm) in [3.9, 5.6], ...<br>new extent (len: 20): 54, 59, 65, 86, 76,...<br>new_intent (len: 2): petal length (cm), petal widt...<br>metric mean_y_true = 1.15<br>\", \"PatternStructure 85<br><br>extent (len: 16): 73, 58, 51, 85, 86,...<br>intent (len: 2): petal length (cm) in [4.5, 4.7], ...<br>new extent (len: 16): 73, 58, 63, 85, 86,...<br>new_intent (len: 2): petal length (cm), petal widt...<br>metric mean_y_true = 1.0625<br>\", \"PatternStructure 64<br><br>extent (len: 20): 58, 54, 55, 85, 86,...<br>intent (len: 2): petal width (cm) in [1.2, 1.8], p...<br>new extent (len: 20): 58, 54, 55, 85, 86,...<br>new_intent (len: 1): petal length (cm)<br>metric mean_y_true = 1.15<br>\", \"PatternStructure 86<br><br>extent (len: 16): 52, 83, 133, 85, 86,...<br>intent (len: 2): petal length (cm) in [4.2, 5.8], ...<br>new extent (len: 16): 52, 83, 133, 85, 86,...<br>new_intent (len: 2): petal length (cm), petal widt...<br>metric mean_y_true = 1.1875<br>\", \"PatternStructure 58<br><br>extent (len: 21): 54, 59, 65, 85, 86,...<br>intent (len: 2): petal width (cm) in [1.4, 1.8], p...<br>new extent (len: 21): 54, 59, 65, 85, 86,...<br>new_intent (len: 2): petal length (cm), petal widt...<br>metric mean_y_true = 1.1428571428571428<br>\", \"PatternStructure 49<br><br>extent (len: 24): 58, 54, 55, 65, 85,...<br>intent (len: 2): petal width (cm) in [1.2, 1.8], p...<br>new extent (len: 24): 58, 54, 55, 65, 85,...<br>new_intent (len: 2): petal length (cm), petal widt...<br>metric mean_y_true = 1.125<br>\", \"PatternStructure 87<br><br>extent (len: 16): 52, 83, 73, 133, 58,...<br>intent (len: 2): petal length (cm) in [4.6, 5.8], ...<br>new extent (len: 16): 52, 83, 73, 133, 58,...<br>new_intent (len: 1): petal length (cm)<br>metric mean_y_true = 1.25<br>\", \"PatternStructure 59<br><br>extent (len: 21): 123, 116, 76, 72, 134,...<br>intent (len: 2): petal width (cm) in [1.4, 1.8], p...<br>new extent (len: 21): 123, 116, 76, 72, 134,...<br>new_intent (len: 1): petal width (cm)<br>metric mean_y_true = 1.7142857142857142<br>\", \"PatternStructure 88<br><br>extent (len: 16): 121, 77, 142, 126, 114,...<br>intent (len: 2): petal length (cm) in [4.5, 5.1], ...<br>new extent (len: 16): 121, 77, 142, 126, 114,...<br>new_intent (len: 1): petal length (cm)<br>metric mean_y_true = 1.875<br>\", \"PatternStructure 89<br><br>extent (len: 16): 121, 142, 147, 126, 114,...<br>intent (len: 2): petal width (cm) in [1.8, 2.4], p...<br>new extent (len: 16): 121, 142, 147, 114, 126,...<br>new_intent (len: 2): petal length (cm), petal widt...<br>metric mean_y_true = 1.9375<br>\", \"PatternStructure 60<br><br>extent (len: 21): 121, 110, 101, 123, 76,...<br>intent (len: 2): petal width (cm) in [1.4, 2.4], p...<br>new extent (len: 21): 121, 110, 101, 123, 76,...<br>new_intent (len: 1): petal length (cm)<br>metric mean_y_true = 1.7142857142857142<br>\", \"PatternStructure 78<br><br>extent (len: 17): 63, 75, 51, 85, 86,...<br>intent (len: 2): petal width (cm) in [1.4, 1.7], p...<br>new extent (len: 17): 51, 75, 63, 85, 86,...<br>new_intent (len: 2): petal length (cm), petal widt...<br>metric mean_y_true = 1.0588235294117647<br>\", \"PatternStructure 61<br><br>extent (len: 21): 121, 147, 110, 101, 145,...<br>intent (len: 2): petal width (cm) in [1.6, 2.4], p...<br>new extent (len: 21): 121, 147, 110, 101, 145,...<br>new_intent (len: 2): petal length (cm), petal widt...<br>metric mean_y_true = 1.7619047619047619<br>\", \"PatternStructure 54<br><br>extent (len: 23): 121, 147, 110, 101, 145,...<br>intent (len: 2): petal width (cm) in [1.5, 2.4], p...<br>new extent (len: 0): \\u2205<br>new_intent (len: 2): petal length (cm), petal widt...<br>metric mean_y_true = 1.826086956521739<br>\", \"PatternStructure 79<br><br>extent (len: 17): 97, 74, 90, 75, 58,...<br>intent (len: 2): petal length (cm) in [4.3, 4.6], ...<br>new extent (len: 17): 97, 74, 90, 75, 51,...<br>new_intent (len: 2): petal length (cm), petal widt...<br>metric mean_y_true = 1.0588235294117647<br>\", \"PatternStructure 62<br><br>extent (len: 21): 147, 110, 101, 145, 115,...<br>intent (len: 2): petal length (cm) in [5.0, 5.5], ...<br>new extent (len: 21): 147, 110, 101, 145, 115,...<br>new_intent (len: 2): petal length (cm), petal widt...<br>metric mean_y_true = 1.9047619047619047<br>\", \"PatternStructure 21<br><br>extent (len: 37): 69, 59, 93, 55, 99,...<br>intent (len: 2): petal length (cm) in [3.0, 4.5], ...<br>new extent (len: 37): 69, 59, 93, 55, 65,...<br>new_intent (len: 1): petal length (cm)<br>metric mean_y_true = 1.027027027027027<br>\", \"PatternStructure 56<br><br>extent (len: 22): 101, 123, 116, 72, 134,...<br>intent (len: 2): petal length (cm) in [4.9, 6.3], ...<br>new extent (len: 0): \\u2205<br>new_intent (len: 2): petal length (cm), petal widt...<br>metric mean_y_true = 1.8181818181818181<br>\", \"PatternStructure 81<br><br>extent (len: 17): 121, 52, 126, 73, 127,...<br>intent (len: 2): petal length (cm) in [4.6, 4.9], ...<br>new extent (len: 17): 52, 121, 126, 73, 58,...<br>new_intent (len: 2): petal length (cm), petal widt...<br>metric mean_y_true = 1.2941176470588236<br>\", \"PatternStructure 57<br><br>extent (len: 22): 121, 147, 110, 101, 145,...<br>intent (len: 2): petal width (cm) in [1.7, 2.4], p...<br>new extent (len: 22): 121, 147, 110, 101, 145,...<br>new_intent (len: 2): petal length (cm), petal widt...<br>metric mean_y_true = 1.9090909090909092<br>\", \"PatternStructure 39<br><br>extent (len: 28): 69, 58, 93, 55, 99,...<br>intent (len: 2): petal length (cm) in [3.0, 4.7], ...<br>new extent (len: 28): 69, 58, 93, 55, 82,...<br>new_intent (len: 1): petal width (cm)<br>metric mean_y_true = 1.0<br>\", \"PatternStructure 82<br><br>extent (len: 17): 52, 77, 83, 133, 127,...<br>intent (len: 2): petal length (cm) in [4.9, 6.3], ...<br>new extent (len: 17): 52, 77, 83, 133, 127,...<br>new_intent (len: 1): petal width (cm)<br>metric mean_y_true = 1.7647058823529411<br>\", \"PatternStructure 55<br><br>extent (len: 23): 69, 59, 93, 99, 71,...<br>intent (len: 2): petal width (cm) in [1.0, 1.5], p...<br>new extent (len: 23): 69, 59, 93, 82, 88,...<br>new_intent (len: 1): petal length (cm)<br>metric mean_y_true = 1.0<br>\", \"PatternStructure 30<br><br>extent (len: 32): 100, 118, 140, 115, 104,...<br>intent (len: 2): petal length (cm) in [5.3, 6.9], ...<br>new extent (len: 32): 100, 118, 140, 115, 104,...<br>new_intent (len: 1): petal length (cm)<br>metric mean_y_true = 2.0<br>\", \"PatternStructure 83<br><br>extent (len: 17): 107, 142, 126, 127, 149,...<br>intent (len: 2): petal width (cm) in [1.8, 1.9], p...<br>new extent (len: 17): 142, 126, 127, 149, 101,...<br>new_intent (len: 2): petal length (cm), petal widt...<br>metric mean_y_true = 1.9411764705882353<br>\", \"PatternStructure 50<br><br>extent (len: 23): 58, 54, 55, 85, 86,...<br>intent (len: 2): petal width (cm) in [1.2, 1.6], p...<br>new extent (len: 23): 58, 54, 55, 85, 86,...<br>new_intent (len: 1): petal length (cm)<br>metric mean_y_true = 1.173913043478261<br>\", \"PatternStructure 84<br><br>extent (len: 17): 121, 77, 83, 52, 142,...<br>intent (len: 2): petal width (cm) in [1.5, 2.4], p...<br>new extent (len: 17): 52, 77, 83, 121, 142,...<br>new_intent (len: 1): petal length (cm)<br>metric mean_y_true = 1.7647058823529411<br>\", \"PatternStructure 51<br><br>extent (len: 23): 121, 54, 123, 85, 86,...<br>intent (len: 2): petal width (cm) in [1.5, 2.0], p...<br>new extent (len: 0): \\u2205<br>new_intent (len: 2): petal length (cm), petal widt...<br>metric mean_y_true = 1.391304347826087<br>\", \"PatternStructure 36<br><br>extent (len: 28): 100, 118, 140, 104, 135,...<br>intent (len: 2): petal length (cm) in [5.5, 6.9], ...<br>new extent (len: 28): 100, 118, 140, 104, 135,...<br>new_intent (len: 1): petal length (cm)<br>metric mean_y_true = 2.0<br>\", \"PatternStructure 72<br><br>extent (len: 18): 96, 94, 97, 74, 66,...<br>intent (len: 2): petal length (cm) in [4.2, 4.5], ...<br>new extent (len: 18): 96, 94, 74, 97, 90,...<br>new_intent (len: 2): petal length (cm), petal widt...<br>metric mean_y_true = 1.0555555555555556<br>\", \"PatternStructure 52<br><br>extent (len: 23): 101, 123, 85, 116, 106,...<br>intent (len: 2): petal width (cm) in [1.6, 1.9], p...<br>new extent (len: 23): 101, 123, 85, 116, 106,...<br>new_intent (len: 2): petal length (cm), petal widt...<br>metric mean_y_true = 1.7826086956521738<br>\", \"PatternStructure 40<br><br>extent (len: 27): 58, 54, 55, 65, 85,...<br>intent (len: 2): petal width (cm) in [1.2, 1.6], p...<br>new extent (len: 27): 58, 54, 55, 65, 85,...<br>new_intent (len: 2): petal length (cm), petal widt...<br>metric mean_y_true = 1.1481481481481481<br>\", \"PatternStructure 73<br><br>extent (len: 18): 52, 77, 83, 133, 51,...<br>intent (len: 2): petal length (cm) in [4.2, 5.8], ...<br>new extent (len: 18): 52, 77, 83, 133, 51,...<br>new_intent (len: 2): petal length (cm), petal widt...<br>metric mean_y_true = 1.2222222222222223<br>\", \"PatternStructure 26<br><br>extent (len: 34): 121, 100, 147, 118, 110,...<br>intent (len: 2): petal length (cm) in [4.9, 6.9], ...<br>new extent (len: 34): 121, 100, 147, 110, 118,...<br>new_intent (len: 2): petal length (cm), petal widt...<br>metric mean_y_true = 2.0<br>\", \"PatternStructure 53<br><br>extent (len: 23): 121, 147, 110, 101, 145,...<br>intent (len: 2): petal width (cm) in [1.4, 2.4], p...<br>new extent (len: 23): 121, 147, 110, 101, 145,...<br>new_intent (len: 2): petal length (cm), petal widt...<br>metric mean_y_true = 1.7391304347826086<br>\", \"PatternStructure 20<br><br>extent (len: 39): 69, 58, 54, 59, 93,...<br>intent (len: 2): petal width (cm) in [1.0, 1.6], p...<br>new extent (len: 39): 69, 58, 54, 59, 93,...<br>new_intent (len: 1): petal length (cm)<br>metric mean_y_true = 1.0<br>\", \"PatternStructure 74<br><br>extent (len: 18): 77, 83, 142, 133, 149,...<br>intent (len: 2): petal length (cm) in [5.0, 6.3], ...<br>new extent (len: 18): 77, 83, 142, 133, 149,...<br>new_intent (len: 1): petal length (cm)<br>metric mean_y_true = 1.8888888888888888<br>\"], \"marker\": {\"color\": [\"grey\", \"grey\", \"grey\", \"grey\", \"grey\", \"grey\", \"grey\", \"grey\", \"grey\", \"grey\", \"grey\", \"grey\", \"grey\", \"grey\", \"grey\", \"grey\", \"grey\", \"grey\", \"grey\", \"grey\", \"grey\", \"grey\", \"grey\", \"grey\", \"grey\", \"grey\", \"grey\", \"grey\", \"grey\", \"grey\", \"grey\", \"grey\", \"grey\", \"grey\", \"grey\", \"grey\", \"grey\", \"grey\", \"grey\", \"grey\", \"grey\", \"grey\", \"grey\", \"grey\", \"grey\", \"grey\", \"grey\", \"grey\", \"grey\", \"grey\", \"grey\", \"grey\", \"grey\", \"grey\", \"grey\", \"grey\", \"grey\", \"grey\", \"grey\", \"grey\", \"grey\", \"grey\", \"grey\", \"grey\", \"grey\", \"grey\", \"grey\", \"grey\", \"grey\", \"grey\", \"grey\", \"grey\", \"grey\", \"grey\", \"grey\", \"grey\", \"grey\", \"grey\", \"grey\", \"grey\", \"grey\", \"grey\", \"grey\", \"grey\", \"grey\", \"grey\", \"grey\", \"grey\", \"grey\", \"grey\", \"grey\", \"grey\", \"grey\", \"grey\", \"grey\", \"grey\", \"grey\", \"grey\", \"grey\", \"grey\", \"grey\"], \"colorbar\": {\"thickness\": 15, \"title\": {\"side\": \"right\", \"text\": \"y_mean\"}, \"xanchor\": \"left\"}, \"colorscale\": [[0.0, \"rgb(103,0,31)\"], [0.1, \"rgb(178,24,43)\"], [0.2, \"rgb(214,96,77)\"], [0.3, \"rgb(244,165,130)\"], [0.4, \"rgb(253,219,199)\"], [0.5, \"rgb(247,247,247)\"], [0.6, \"rgb(209,229,240)\"], [0.7, \"rgb(146,197,222)\"], [0.8, \"rgb(67,147,195)\"], [0.9, \"rgb(33,102,172)\"], [1.0, \"rgb(5,48,97)\"]], \"line\": {\"width\": 2}, \"reversescale\": true, \"showscale\": true, \"size\": 10}, \"mode\": \"markers+text\", \"text\": [\"petal length (cm),petal width (cm)<br>n: 45\", \"petal width (cm)<br>n: 12\", \"petal length (cm)<br>\", \"petal length (cm)<br>n: 13\", \"petal length (cm),petal width (cm)<br>n: 46\", \"petal length (cm),petal width (cm)<br>n: 24\", \"petal length (cm),petal width (cm)<br>n: 48\", \"petal width (cm)<br>n: 48\", \"petal length (cm),petal width (cm)<br>n: 26\", \"petal length (cm),petal width (cm)<br>n: 49\", \"petal length (cm),petal width (cm)<br>n: 50\", \"petal length (cm)<br>n: 51\", \"petal length (cm),petal width (cm)<br>n: 52\", \"petal length (cm),petal width (cm)<br>n: 12\", \"petal length (cm),petal width (cm)<br>n: 52\", \"petal length (cm),petal width (cm)<br>n: 54\", \"petal length (cm)<br>\", \"petal length (cm),petal width (cm)<br>n: 55\", \"petal length (cm),petal width (cm)<br>n: 58\", \"petal length (cm),petal width (cm)<br>n: 95\", \"petal length (cm),petal width (cm)<br>n: 48\", \"petal length (cm),petal width (cm)<br>n: 102\", \"petal width (cm),petal length (cm)<br>n: 150\", \"petal width (cm)<br>n: 30\", \"petal length (cm)<br>n: 28\", \"petal length (cm),petal width (cm)<br>n: 11\", \"petal length (cm)<br>n: 28\", \"petal width (cm)<br>n: 29\", \"petal length (cm),petal width (cm)<br>n: 13\", \"petal length (cm),petal width (cm)<br>n: 29\", \"petal length (cm),petal width (cm)<br>n: 19\", \"petal length (cm)<br>n: 25\", \"petal width (cm)<br>n: 36\", \"petal length (cm),petal width (cm)<br>n: 25\", \"petal length (cm),petal width (cm)<br>n: 26\", \"petal length (cm)<br>n: 34\", \"petal length (cm)<br>n: 36\", \"petal length (cm)<br>n: 33\", \"petal length (cm)<br>n: 33\", \"petal length (cm)<br>n: 42\", \"petal length (cm)<br>n: 35\", \"petal length (cm)<br>n: 25\", \"petal width (cm)<br>n: 32\", \"petal length (cm)<br>n: 34\", \"petal length (cm),petal width (cm)<br>n: 14\", \"petal length (cm),petal width (cm)<br>n: 26\", \"petal length (cm)<br>n: 31\", \"petal width (cm)<br>n: 18\", \"petal length (cm),petal width (cm)<br>n: 18\", \"petal length (cm)<br>n: 19\", \"petal width (cm)<br>n: 13\", \"petal length (cm)<br>n: 18\", \"petal length (cm),petal width (cm)<br>n: 19\", \"petal length (cm),petal width (cm)<br>n: 19\", \"petal width (cm)<br>n: 14\", \"petal length (cm)<br>n: 14\", \"petal length (cm),petal width (cm)<br>n: 14\", \"petal length (cm)<br>n: 26\", \"petal length (cm)<br>n: 20\", \"petal length (cm)<br>n: 37\", \"petal length (cm)<br>n: 17\", \"petal length (cm)<br>n: 19\", \"petal length (cm)<br>n: 14\", \"petal length (cm)<br>n: 19\", \"petal length (cm),petal width (cm)<br>n: 20\", \"petal length (cm),petal width (cm)<br>n: 16\", \"petal length (cm)<br>n: 20\", \"petal length (cm),petal width (cm)<br>n: 16\", \"petal length (cm),petal width (cm)<br>n: 21\", \"petal length (cm),petal width (cm)<br>n: 24\", \"petal length (cm)<br>n: 16\", \"petal width (cm)<br>n: 21\", \"petal length (cm)<br>n: 16\", \"petal length (cm),petal width (cm)<br>n: 16\", \"petal length (cm)<br>n: 21\", \"petal length (cm),petal width (cm)<br>n: 17\", \"petal length (cm),petal width (cm)<br>n: 21\", \"petal length (cm),petal width (cm)<br>\", \"petal length (cm),petal width (cm)<br>n: 17\", \"petal length (cm),petal width (cm)<br>n: 21\", \"petal length (cm)<br>n: 37\", \"petal length (cm),petal width (cm)<br>\", \"petal length (cm),petal width (cm)<br>n: 17\", \"petal length (cm),petal width (cm)<br>n: 22\", \"petal width (cm)<br>n: 28\", \"petal width (cm)<br>n: 17\", \"petal length (cm)<br>n: 23\", \"petal length (cm)<br>n: 32\", \"petal length (cm),petal width (cm)<br>n: 17\", \"petal length (cm)<br>n: 23\", \"petal length (cm)<br>n: 17\", \"petal length (cm),petal width (cm)<br>\", \"petal length (cm)<br>n: 28\", \"petal length (cm),petal width (cm)<br>n: 18\", \"petal length (cm),petal width (cm)<br>n: 23\", \"petal length (cm),petal width (cm)<br>n: 27\", \"petal length (cm),petal width (cm)<br>n: 18\", \"petal length (cm),petal width (cm)<br>n: 34\", \"petal length (cm),petal width (cm)<br>n: 23\", \"petal length (cm)<br>n: 39\", \"petal length (cm)<br>n: 18\"], \"textposition\": \"middle right\", \"type\": \"scatter\", \"x\": [-7.0, -11.5, -3.0, -1.0, -2.0, -5.0, -4.0, -1.0, -2.0, -1.0, -2.5, 0.0, -1.5, -4.0, -0.5, 0.5, -3.0, 1.5, 2.5, -1.0, 0.0, 1.0, 0.0, -1.0, -6.0, -3.0, -6.0, -10.5, -2.0, -9.5, 0.0, 1.0, -5.0, -4.0, -1.0, -8.5, -3.0, -7.5, 0.0, -2.0, -6.5, -5.0, 0.0, -4.0, -2.0, 1.0, 1.0, -5.5, -1.0, -4.5, -3.5, -2.5, 0.0, -1.0, -1.5, -3.0, -2.0, -0.5, 0.5, 1.5, 2.5, 1.0, -1.0, 0.0, 2.0, 3.5, 1.0, 4.5, 2.0, 0.0, 0.0, 5.5, 0.0, 1.0, 6.5, 7.5, 2.0, 1.0, 2.0, 8.5, 3.0, 2.0, 4.0, 3.0, 1.0, 3.0, 2.0, 5.0, 4.0, 6.0, 9.5, 5.0, 3.0, 4.0, 3.0, 10.5, 11.5, 6.0, 4.0, 5.0, 7.0], \"y\": [4, 3, 5, 0, 5, 10, 10, 6, 9, 9, 11, 6, 11, 1, 11, 11, 10, 11, 11, 12, 12, 12, 13, 5, 4, 1, 2, 3, 10, 3, 0, 0, 4, 4, 10, 3, 4, 3, 10, 4, 3, 2, 9, 2, 1, 10, 6, 3, 4, 3, 3, 3, 5, 1, 3, 2, 2, 3, 3, 3, 3, 9, 2, 4, 9, 3, 4, 3, 4, 8, 1, 3, 2, 2, 3, 3, 10, 5, 2, 3, 2, 5, 2, 5, 1, 4, 1, 2, 4, 2, 3, 4, 1, 1, 10, 3, 3, 4, 10, 10, 4]}],\n",
       "                        {\"height\": 500, \"hovermode\": \"closest\", \"margin\": {\"b\": 20, \"l\": 5, \"r\": 5, \"t\": 40}, \"showlegend\": false, \"template\": {\"data\": {\"bar\": [{\"error_x\": {\"color\": \"#2a3f5f\"}, \"error_y\": {\"color\": \"#2a3f5f\"}, \"marker\": {\"line\": {\"color\": \"#E5ECF6\", \"width\": 0.5}}, \"type\": \"bar\"}], \"barpolar\": [{\"marker\": {\"line\": {\"color\": \"#E5ECF6\", \"width\": 0.5}}, \"type\": \"barpolar\"}], \"carpet\": [{\"aaxis\": {\"endlinecolor\": \"#2a3f5f\", \"gridcolor\": \"white\", \"linecolor\": \"white\", \"minorgridcolor\": \"white\", \"startlinecolor\": \"#2a3f5f\"}, \"baxis\": {\"endlinecolor\": \"#2a3f5f\", \"gridcolor\": \"white\", \"linecolor\": \"white\", \"minorgridcolor\": \"white\", \"startlinecolor\": \"#2a3f5f\"}, \"type\": \"carpet\"}], \"choropleth\": [{\"colorbar\": {\"outlinewidth\": 0, \"ticks\": \"\"}, \"type\": \"choropleth\"}], \"contour\": [{\"colorbar\": {\"outlinewidth\": 0, \"ticks\": \"\"}, \"colorscale\": [[0.0, \"#0d0887\"], [0.1111111111111111, \"#46039f\"], [0.2222222222222222, \"#7201a8\"], [0.3333333333333333, \"#9c179e\"], [0.4444444444444444, \"#bd3786\"], [0.5555555555555556, \"#d8576b\"], [0.6666666666666666, \"#ed7953\"], [0.7777777777777778, \"#fb9f3a\"], [0.8888888888888888, \"#fdca26\"], [1.0, \"#f0f921\"]], \"type\": \"contour\"}], \"contourcarpet\": [{\"colorbar\": {\"outlinewidth\": 0, \"ticks\": \"\"}, \"type\": \"contourcarpet\"}], \"heatmap\": [{\"colorbar\": {\"outlinewidth\": 0, \"ticks\": \"\"}, \"colorscale\": [[0.0, \"#0d0887\"], [0.1111111111111111, \"#46039f\"], [0.2222222222222222, \"#7201a8\"], [0.3333333333333333, \"#9c179e\"], [0.4444444444444444, \"#bd3786\"], [0.5555555555555556, \"#d8576b\"], [0.6666666666666666, \"#ed7953\"], [0.7777777777777778, \"#fb9f3a\"], [0.8888888888888888, \"#fdca26\"], [1.0, \"#f0f921\"]], \"type\": \"heatmap\"}], \"heatmapgl\": [{\"colorbar\": {\"outlinewidth\": 0, \"ticks\": \"\"}, \"colorscale\": [[0.0, \"#0d0887\"], [0.1111111111111111, \"#46039f\"], [0.2222222222222222, \"#7201a8\"], [0.3333333333333333, \"#9c179e\"], [0.4444444444444444, \"#bd3786\"], [0.5555555555555556, \"#d8576b\"], [0.6666666666666666, \"#ed7953\"], [0.7777777777777778, \"#fb9f3a\"], [0.8888888888888888, \"#fdca26\"], [1.0, \"#f0f921\"]], \"type\": \"heatmapgl\"}], \"histogram\": [{\"marker\": {\"colorbar\": {\"outlinewidth\": 0, \"ticks\": \"\"}}, \"type\": \"histogram\"}], \"histogram2d\": [{\"colorbar\": {\"outlinewidth\": 0, \"ticks\": \"\"}, \"colorscale\": [[0.0, \"#0d0887\"], [0.1111111111111111, \"#46039f\"], [0.2222222222222222, \"#7201a8\"], [0.3333333333333333, \"#9c179e\"], [0.4444444444444444, \"#bd3786\"], [0.5555555555555556, \"#d8576b\"], [0.6666666666666666, \"#ed7953\"], [0.7777777777777778, \"#fb9f3a\"], [0.8888888888888888, \"#fdca26\"], [1.0, \"#f0f921\"]], \"type\": \"histogram2d\"}], \"histogram2dcontour\": [{\"colorbar\": {\"outlinewidth\": 0, \"ticks\": \"\"}, \"colorscale\": [[0.0, \"#0d0887\"], [0.1111111111111111, \"#46039f\"], [0.2222222222222222, \"#7201a8\"], [0.3333333333333333, \"#9c179e\"], [0.4444444444444444, \"#bd3786\"], [0.5555555555555556, \"#d8576b\"], [0.6666666666666666, \"#ed7953\"], [0.7777777777777778, \"#fb9f3a\"], [0.8888888888888888, \"#fdca26\"], [1.0, \"#f0f921\"]], \"type\": \"histogram2dcontour\"}], \"mesh3d\": [{\"colorbar\": {\"outlinewidth\": 0, \"ticks\": \"\"}, \"type\": \"mesh3d\"}], \"parcoords\": [{\"line\": {\"colorbar\": {\"outlinewidth\": 0, \"ticks\": \"\"}}, \"type\": \"parcoords\"}], \"pie\": [{\"automargin\": true, \"type\": \"pie\"}], \"scatter\": [{\"marker\": {\"colorbar\": {\"outlinewidth\": 0, \"ticks\": \"\"}}, \"type\": \"scatter\"}], \"scatter3d\": [{\"line\": {\"colorbar\": {\"outlinewidth\": 0, \"ticks\": \"\"}}, \"marker\": {\"colorbar\": {\"outlinewidth\": 0, \"ticks\": \"\"}}, \"type\": \"scatter3d\"}], \"scattercarpet\": [{\"marker\": {\"colorbar\": {\"outlinewidth\": 0, \"ticks\": \"\"}}, \"type\": \"scattercarpet\"}], \"scattergeo\": [{\"marker\": {\"colorbar\": {\"outlinewidth\": 0, \"ticks\": \"\"}}, \"type\": \"scattergeo\"}], \"scattergl\": [{\"marker\": {\"colorbar\": {\"outlinewidth\": 0, \"ticks\": \"\"}}, \"type\": \"scattergl\"}], \"scattermapbox\": [{\"marker\": {\"colorbar\": {\"outlinewidth\": 0, \"ticks\": \"\"}}, \"type\": \"scattermapbox\"}], \"scatterpolar\": [{\"marker\": {\"colorbar\": {\"outlinewidth\": 0, \"ticks\": \"\"}}, \"type\": \"scatterpolar\"}], \"scatterpolargl\": [{\"marker\": {\"colorbar\": {\"outlinewidth\": 0, \"ticks\": \"\"}}, \"type\": \"scatterpolargl\"}], \"scatterternary\": [{\"marker\": {\"colorbar\": {\"outlinewidth\": 0, \"ticks\": \"\"}}, \"type\": \"scatterternary\"}], \"surface\": [{\"colorbar\": {\"outlinewidth\": 0, \"ticks\": \"\"}, \"colorscale\": [[0.0, \"#0d0887\"], [0.1111111111111111, \"#46039f\"], [0.2222222222222222, \"#7201a8\"], [0.3333333333333333, \"#9c179e\"], [0.4444444444444444, \"#bd3786\"], [0.5555555555555556, \"#d8576b\"], [0.6666666666666666, \"#ed7953\"], [0.7777777777777778, \"#fb9f3a\"], [0.8888888888888888, \"#fdca26\"], [1.0, \"#f0f921\"]], \"type\": \"surface\"}], \"table\": [{\"cells\": {\"fill\": {\"color\": \"#EBF0F8\"}, \"line\": {\"color\": \"white\"}}, \"header\": {\"fill\": {\"color\": \"#C8D4E3\"}, \"line\": {\"color\": \"white\"}}, \"type\": \"table\"}]}, \"layout\": {\"annotationdefaults\": {\"arrowcolor\": \"#2a3f5f\", \"arrowhead\": 0, \"arrowwidth\": 1}, \"coloraxis\": {\"colorbar\": {\"outlinewidth\": 0, \"ticks\": \"\"}}, \"colorscale\": {\"diverging\": [[0, \"#8e0152\"], [0.1, \"#c51b7d\"], [0.2, \"#de77ae\"], [0.3, \"#f1b6da\"], [0.4, \"#fde0ef\"], [0.5, \"#f7f7f7\"], [0.6, \"#e6f5d0\"], [0.7, \"#b8e186\"], [0.8, \"#7fbc41\"], [0.9, \"#4d9221\"], [1, \"#276419\"]], \"sequential\": [[0.0, \"#0d0887\"], [0.1111111111111111, \"#46039f\"], [0.2222222222222222, \"#7201a8\"], [0.3333333333333333, \"#9c179e\"], [0.4444444444444444, \"#bd3786\"], [0.5555555555555556, \"#d8576b\"], [0.6666666666666666, \"#ed7953\"], [0.7777777777777778, \"#fb9f3a\"], [0.8888888888888888, \"#fdca26\"], [1.0, \"#f0f921\"]], \"sequentialminus\": [[0.0, \"#0d0887\"], [0.1111111111111111, \"#46039f\"], [0.2222222222222222, \"#7201a8\"], [0.3333333333333333, \"#9c179e\"], [0.4444444444444444, \"#bd3786\"], [0.5555555555555556, \"#d8576b\"], [0.6666666666666666, \"#ed7953\"], [0.7777777777777778, \"#fb9f3a\"], [0.8888888888888888, \"#fdca26\"], [1.0, \"#f0f921\"]]}, \"colorway\": [\"#636efa\", \"#EF553B\", \"#00cc96\", \"#ab63fa\", \"#FFA15A\", \"#19d3f3\", \"#FF6692\", \"#B6E880\", \"#FF97FF\", \"#FECB52\"], \"font\": {\"color\": \"#2a3f5f\"}, \"geo\": {\"bgcolor\": \"white\", \"lakecolor\": \"white\", \"landcolor\": \"#E5ECF6\", \"showlakes\": true, \"showland\": true, \"subunitcolor\": \"white\"}, \"hoverlabel\": {\"align\": \"left\"}, \"hovermode\": \"closest\", \"mapbox\": {\"style\": \"light\"}, \"paper_bgcolor\": \"white\", \"plot_bgcolor\": \"#E5ECF6\", \"polar\": {\"angularaxis\": {\"gridcolor\": \"white\", \"linecolor\": \"white\", \"ticks\": \"\"}, \"bgcolor\": \"#E5ECF6\", \"radialaxis\": {\"gridcolor\": \"white\", \"linecolor\": \"white\", \"ticks\": \"\"}}, \"scene\": {\"xaxis\": {\"backgroundcolor\": \"#E5ECF6\", \"gridcolor\": \"white\", \"gridwidth\": 2, \"linecolor\": \"white\", \"showbackground\": true, \"ticks\": \"\", \"zerolinecolor\": \"white\"}, \"yaxis\": {\"backgroundcolor\": \"#E5ECF6\", \"gridcolor\": \"white\", \"gridwidth\": 2, \"linecolor\": \"white\", \"showbackground\": true, \"ticks\": \"\", \"zerolinecolor\": \"white\"}, \"zaxis\": {\"backgroundcolor\": \"#E5ECF6\", \"gridcolor\": \"white\", \"gridwidth\": 2, \"linecolor\": \"white\", \"showbackground\": true, \"ticks\": \"\", \"zerolinecolor\": \"white\"}}, \"shapedefaults\": {\"line\": {\"color\": \"#2a3f5f\"}}, \"ternary\": {\"aaxis\": {\"gridcolor\": \"white\", \"linecolor\": \"white\", \"ticks\": \"\"}, \"baxis\": {\"gridcolor\": \"white\", \"linecolor\": \"white\", \"ticks\": \"\"}, \"bgcolor\": \"#E5ECF6\", \"caxis\": {\"gridcolor\": \"white\", \"linecolor\": \"white\", \"ticks\": \"\"}}, \"title\": {\"x\": 0.05}, \"xaxis\": {\"automargin\": true, \"gridcolor\": \"white\", \"linecolor\": \"white\", \"ticks\": \"\", \"title\": {\"standoff\": 15}, \"zerolinecolor\": \"white\", \"zerolinewidth\": 2}, \"yaxis\": {\"automargin\": true, \"gridcolor\": \"white\", \"linecolor\": \"white\", \"ticks\": \"\", \"title\": {\"standoff\": 15}, \"zerolinecolor\": \"white\", \"zerolinewidth\": 2}}}, \"title\": {\"font\": {\"size\": 16}, \"text\": \"Concept Lattice\"}, \"width\": 1000, \"xaxis\": {\"showgrid\": false, \"showticklabels\": false, \"zeroline\": false}, \"yaxis\": {\"showgrid\": false, \"showticklabels\": false, \"zeroline\": false}},\n",
       "                        {\"responsive\": true}\n",
       "                    ).then(function(){\n",
       "                            \n",
       "var gd = document.getElementById('5f103971-6e52-4d13-8693-aa6a1e2b121f');\n",
       "var x = new MutationObserver(function (mutations, observer) {{\n",
       "        var display = window.getComputedStyle(gd).display;\n",
       "        if (!display || display === 'none') {{\n",
       "            console.log([gd, 'removed!']);\n",
       "            Plotly.purge(gd);\n",
       "            observer.disconnect();\n",
       "        }}\n",
       "}});\n",
       "\n",
       "// Listen for the removal of the full notebook cells\n",
       "var notebookContainer = gd.closest('#notebook-container');\n",
       "if (notebookContainer) {{\n",
       "    x.observe(notebookContainer, {childList: true});\n",
       "}}\n",
       "\n",
       "// Listen for the clearing of the current output cell\n",
       "var outputEl = gd.closest('.output');\n",
       "if (outputEl) {{\n",
       "    x.observe(outputEl, {childList: true});\n",
       "}}\n",
       "\n",
       "                        })\n",
       "                };\n",
       "                });\n",
       "            </script>\n",
       "        </div>"
      ]
     },
     "metadata": {},
     "output_type": "display_data"
    }
   ],
   "source": [
    "fig"
   ]
  },
  {
   "cell_type": "code",
   "execution_count": null,
   "metadata": {},
   "outputs": [],
   "source": []
  },
  {
   "cell_type": "code",
   "execution_count": 51,
   "metadata": {},
   "outputs": [],
   "source": [
    "test_ds = pd.DataFrame([(2,3)], columns=fs)\n",
    "test_cntx = fcai.MultiValuedContext(test_ds, cat_attrs=[])"
   ]
  },
  {
   "cell_type": "code",
   "execution_count": null,
   "metadata": {},
   "outputs": [],
   "source": []
  },
  {
   "cell_type": "code",
   "execution_count": 52,
   "metadata": {},
   "outputs": [],
   "source": [
    "def trace_context(self, cntx):\n",
    "    cncpts_exts = {}\n",
    "    def get_extent(c):\n",
    "        if c.get_id() not in cncpts_exts:\n",
    "            cncpts_exts[c.get_id()] = set(cntx.get_extent(c.get_intent(), verb=False))\n",
    "        return cncpts_exts[c.get_id()]\n",
    "\n",
    "    \n",
    "    cncpts_to_check = set([0])\n",
    "    cncpts_dict = {c.get_id(): c for c in self.get_concepts()}\n",
    "    objs_dict = {g: idx for idx, g in enumerate(cntx.get_objs())}\n",
    "    obj_preds_cncpts = {idx:[] for idx in range(len(cntx.get_objs()))}\n",
    "    obj_all_cncpts = {idx:[] for idx in range(len(cntx.get_objs()))}\n",
    "    \n",
    "    \n",
    "    for i in range(len(self.get_concepts())):\n",
    "        if len(cncpts_to_check) == 0:\n",
    "            break\n",
    "\n",
    "        c_id = min(cncpts_to_check)\n",
    "        cncpts_to_check.remove(c_id)\n",
    "\n",
    "        c = cncpts_dict[c_id]\n",
    "        ext = get_extent(c)\n",
    "\n",
    "        ext_ln = set()\n",
    "        for ln_id in c._low_neighbs_st:\n",
    "            ln = cncpts_dict[ln_id]\n",
    "            ext_ln |= get_extent(ln)\n",
    "        ext_to_stop = ext-ext_ln\n",
    "        \n",
    "        for g in ext_to_stop:\n",
    "            obj_preds_cncpts[g].append(c_id)\n",
    "        \n",
    "        for g in ext:\n",
    "            obj_all_cncpts[g].append(c_id)\n",
    "        \n",
    "        cncpts_to_check |= set([ln_id for ln_id in c._low_neighbs_st #c.get_lower_neighbs()\n",
    "                                if len(get_extent(cncpts_dict[ln_id]))>0 ] )\n",
    "\n",
    "    return obj_preds_cncpts, obj_all_cncpts"
   ]
  },
  {
   "cell_type": "code",
   "execution_count": 53,
   "metadata": {},
   "outputs": [
    {
     "data": {
      "text/plain": [
       "({0: [7]}, {0: [0, 2, 4, 7]})"
      ]
     },
     "execution_count": 53,
     "metadata": {},
     "output_type": "execute_result"
    }
   ],
   "source": [
    "trace_context(fm, test_cntx)"
   ]
  },
  {
   "cell_type": "code",
   "execution_count": 250,
   "metadata": {},
   "outputs": [],
   "source": [
    "metric = ['prob_0','prob_1','prob_2']"
   ]
  },
  {
   "cell_type": "code",
   "execution_count": 265,
   "metadata": {},
   "outputs": [],
   "source": [
    "def predict_context(self, cntx, metric='mean_y_true'):\n",
    "    from scipy.sparse import csr_matrix\n",
    "    \n",
    "    obj_preds_cncpts = trace_context(self, cntx)[0]\n",
    "    \n",
    "    metric = metric if type(metric) == list else [metric]\n",
    "    mvals = np.array([[c._metrics[m] for m in metric] for c in sorted(self.get_concepts(), key=lambda c: c.get_id())])\n",
    "    \n",
    "    preds = []\n",
    "    for m_id, m in enumerate(metric):\n",
    "        X_ = np.array([(mvals[c_id][m_id], g, c_id) for g, c_ids in obj_preds_cncpts.items() for c_id in c_ids])\n",
    "        X = csr_matrix((X_[:,0], (X_[:,1].astype(int), X_[:,2].astype(int))), \n",
    "                   shape=(len(obj_preds_cncpts), len(fm.get_concepts())))\n",
    "\n",
    "        W_ = np.array([(1/len(c_ids), g, c_id) for g, c_ids in obj_preds_cncpts.items() for c_id in c_ids] )\n",
    "        W = csr_matrix((W_[:,0], (W_[:,1].astype(int), W_[:,2].astype(int))),\n",
    "            shape=(len(obj_preds_cncpts), len(fm.get_concepts())))\n",
    "\n",
    "        preds_ = X.multiply(W).sum(1)\n",
    "        preds.append(preds_)\n",
    "    preds = np.concatenate(preds,1)\n",
    "    \n",
    "    return preds"
   ]
  },
  {
   "cell_type": "code",
   "execution_count": 268,
   "metadata": {},
   "outputs": [
    {
     "data": {
      "text/plain": [
       "matrix([[0.76315789, 0.23157895, 0.00526316],\n",
       "        [0.76315789, 0.23157895, 0.00526316],\n",
       "        [0.76315789, 0.23157895, 0.00526316],\n",
       "        [0.76315789, 0.23157895, 0.00526316],\n",
       "        [0.76315789, 0.23157895, 0.00526316],\n",
       "        [0.76315789, 0.23157895, 0.00526316],\n",
       "        [0.76315789, 0.23157895, 0.00526316],\n",
       "        [0.76315789, 0.23157895, 0.00526316],\n",
       "        [0.76315789, 0.23157895, 0.00526316],\n",
       "        [0.76315789, 0.23157895, 0.00526316],\n",
       "        [0.76315789, 0.23157895, 0.00526316],\n",
       "        [0.76315789, 0.23157895, 0.00526316],\n",
       "        [0.76315789, 0.23157895, 0.00526316],\n",
       "        [0.76315789, 0.23157895, 0.00526316],\n",
       "        [0.76315789, 0.23157895, 0.00526316],\n",
       "        [0.76315789, 0.23157895, 0.00526316],\n",
       "        [0.76315789, 0.23157895, 0.00526316],\n",
       "        [0.76315789, 0.23157895, 0.00526316],\n",
       "        [0.76315789, 0.23157895, 0.00526316],\n",
       "        [0.76315789, 0.23157895, 0.00526316],\n",
       "        [0.76315789, 0.23157895, 0.00526316],\n",
       "        [0.76315789, 0.23157895, 0.00526316],\n",
       "        [0.76315789, 0.23157895, 0.00526316],\n",
       "        [0.76315789, 0.23157895, 0.00526316],\n",
       "        [0.76315789, 0.23157895, 0.00526316],\n",
       "        [0.76315789, 0.23157895, 0.00526316],\n",
       "        [0.76315789, 0.23157895, 0.00526316],\n",
       "        [0.76315789, 0.23157895, 0.00526316],\n",
       "        [0.76315789, 0.23157895, 0.00526316],\n",
       "        [0.76315789, 0.23157895, 0.00526316],\n",
       "        [0.76315789, 0.23157895, 0.00526316],\n",
       "        [0.76315789, 0.23157895, 0.00526316],\n",
       "        [0.76315789, 0.23157895, 0.00526316],\n",
       "        [0.76315789, 0.23157895, 0.00526316],\n",
       "        [0.76315789, 0.23157895, 0.00526316],\n",
       "        [0.76315789, 0.23157895, 0.00526316],\n",
       "        [0.76315789, 0.23157895, 0.00526316],\n",
       "        [0.76315789, 0.23157895, 0.00526316],\n",
       "        [0.76315789, 0.23157895, 0.00526316],\n",
       "        [0.76315789, 0.23157895, 0.00526316],\n",
       "        [0.76315789, 0.23157895, 0.00526316],\n",
       "        [0.76315789, 0.23157895, 0.00526316],\n",
       "        [0.76315789, 0.23157895, 0.00526316],\n",
       "        [0.76315789, 0.23157895, 0.00526316],\n",
       "        [0.76315789, 0.23157895, 0.00526316],\n",
       "        [0.76315789, 0.23157895, 0.00526316],\n",
       "        [0.76315789, 0.23157895, 0.00526316],\n",
       "        [0.76315789, 0.23157895, 0.00526316],\n",
       "        [0.76315789, 0.23157895, 0.00526316],\n",
       "        [0.76315789, 0.23157895, 0.00526316],\n",
       "        [0.04784689, 0.81195988, 0.14019323],\n",
       "        [0.03759398, 0.85760209, 0.10480393],\n",
       "        [0.        , 0.61416215, 0.38583785],\n",
       "        [0.10526316, 0.86870766, 0.02602919],\n",
       "        [0.03508772, 0.84066827, 0.12424401],\n",
       "        [0.05847953, 0.8642649 , 0.07725557],\n",
       "        [0.04385965, 0.70097325, 0.2551671 ],\n",
       "        [0.10526316, 0.86870766, 0.02602919],\n",
       "        [0.05263158, 0.83819788, 0.10917054],\n",
       "        [0.07518797, 0.86214281, 0.06266922],\n",
       "        [0.10526316, 0.86870766, 0.02602919],\n",
       "        [0.05847953, 0.84840528, 0.09311519],\n",
       "        [0.10526316, 0.86870766, 0.02602919],\n",
       "        [0.04784689, 0.81195988, 0.14019323],\n",
       "        [0.10526316, 0.86870766, 0.02602919],\n",
       "        [0.05263158, 0.86744994, 0.07991848],\n",
       "        [0.03759398, 0.85760209, 0.10480393],\n",
       "        [0.10526316, 0.86870766, 0.02602919],\n",
       "        [0.03759398, 0.85760209, 0.10480393],\n",
       "        [0.10526316, 0.86870766, 0.02602919],\n",
       "        [0.        , 0.35189722, 0.64810278],\n",
       "        [0.10526316, 0.86870766, 0.02602919],\n",
       "        [0.        , 0.61416215, 0.38583785],\n",
       "        [0.06578947, 0.79158624, 0.14262429],\n",
       "        [0.0877193 , 0.87603104, 0.03624967],\n",
       "        [0.05263158, 0.86744994, 0.07991848],\n",
       "        [0.        , 0.70024259, 0.29975741],\n",
       "        [0.        , 0.29599956, 0.70400044],\n",
       "        [0.03759398, 0.85760209, 0.10480393],\n",
       "        [0.10526316, 0.86870766, 0.02602919],\n",
       "        [0.10526316, 0.86870766, 0.02602919],\n",
       "        [0.10526316, 0.86870766, 0.02602919],\n",
       "        [0.10526316, 0.86870766, 0.02602919],\n",
       "        [0.        , 0.3474114 , 0.6525886 ],\n",
       "        [0.03759398, 0.85760209, 0.10480393],\n",
       "        [0.03759398, 0.76310429, 0.19930172],\n",
       "        [0.04048583, 0.81236424, 0.14714994],\n",
       "        [0.06578947, 0.87287976, 0.06133077],\n",
       "        [0.10526316, 0.86870766, 0.02602919],\n",
       "        [0.10526316, 0.86870766, 0.02602919],\n",
       "        [0.06578947, 0.87287976, 0.06133077],\n",
       "        [0.04048583, 0.84468059, 0.11483358],\n",
       "        [0.10526316, 0.86870766, 0.02602919],\n",
       "        [0.10526316, 0.86870766, 0.02602919],\n",
       "        [0.10526316, 0.86300195, 0.03173489],\n",
       "        [0.10526316, 0.86300195, 0.03173489],\n",
       "        [0.10526316, 0.86300195, 0.03173489],\n",
       "        [0.0877193 , 0.87603104, 0.03624967],\n",
       "        [0.10526316, 0.86870766, 0.02602919],\n",
       "        [0.10526316, 0.86870766, 0.02602919],\n",
       "        [0.        , 0.        , 1.        ],\n",
       "        [0.        , 0.12421781, 0.87578219],\n",
       "        [0.        , 0.        , 1.        ],\n",
       "        [0.        , 0.1242707 , 0.8757293 ],\n",
       "        [0.        , 0.        , 1.        ],\n",
       "        [0.        , 0.        , 1.        ],\n",
       "        [0.03759398, 0.60090931, 0.36149671],\n",
       "        [0.        , 0.1242707 , 0.8757293 ],\n",
       "        [0.        , 0.1242707 , 0.8757293 ],\n",
       "        [0.        , 0.        , 1.        ],\n",
       "        [0.        , 0.10534388, 0.89465612],\n",
       "        [0.        , 0.08042927, 0.91957073],\n",
       "        [0.        , 0.01587302, 0.98412698],\n",
       "        [0.        , 0.17487005, 0.82512995],\n",
       "        [0.        , 0.10534388, 0.89465612],\n",
       "        [0.        , 0.03580247, 0.96419753],\n",
       "        [0.        , 0.12136744, 0.87863256],\n",
       "        [0.        , 0.        , 1.        ],\n",
       "        [0.        , 0.        , 1.        ],\n",
       "        [0.        , 0.50137498, 0.49862502],\n",
       "        [0.        , 0.        , 1.        ],\n",
       "        [0.        , 0.30146579, 0.69853421],\n",
       "        [0.        , 0.        , 1.        ],\n",
       "        [0.        , 0.28638623, 0.71361377],\n",
       "        [0.        , 0.        , 1.        ],\n",
       "        [0.        , 0.1242707 , 0.8757293 ],\n",
       "        [0.        , 0.35189722, 0.64810278],\n",
       "        [0.        , 0.28638623, 0.71361377],\n",
       "        [0.        , 0.        , 1.        ],\n",
       "        [0.        , 0.3889117 , 0.6110883 ],\n",
       "        [0.        , 0.08037315, 0.91962685],\n",
       "        [0.        , 0.        , 1.        ],\n",
       "        [0.        , 0.        , 1.        ],\n",
       "        [0.        , 0.46752104, 0.53247896],\n",
       "        [0.        , 0.55534678, 0.44465322],\n",
       "        [0.        , 0.        , 1.        ],\n",
       "        [0.        , 0.        , 1.        ],\n",
       "        [0.        , 0.12136744, 0.87863256],\n",
       "        [0.        , 0.35189722, 0.64810278],\n",
       "        [0.        , 0.03219697, 0.96780303],\n",
       "        [0.        , 0.        , 1.        ],\n",
       "        [0.        , 0.10534388, 0.89465612],\n",
       "        [0.        , 0.12421781, 0.87578219],\n",
       "        [0.        , 0.        , 1.        ],\n",
       "        [0.        , 0.        , 1.        ],\n",
       "        [0.        , 0.07782892, 0.92217108],\n",
       "        [0.        , 0.17627465, 0.82372535],\n",
       "        [0.        , 0.07782892, 0.92217108],\n",
       "        [0.        , 0.03219697, 0.96780303],\n",
       "        [0.        , 0.14891018, 0.85108982]])"
      ]
     },
     "execution_count": 268,
     "metadata": {},
     "output_type": "execute_result"
    }
   ],
   "source": [
    "predict_context(fm, mvcntx, metric)"
   ]
  },
  {
   "cell_type": "markdown",
   "metadata": {},
   "source": [
    "# Production way"
   ]
  },
  {
   "cell_type": "code",
   "execution_count": 275,
   "metadata": {},
   "outputs": [],
   "source": [
    "fcai = reload(fcai)"
   ]
  },
  {
   "cell_type": "code",
   "execution_count": 276,
   "metadata": {},
   "outputs": [],
   "source": [
    "mvcntx = fcai.MultiValuedContext(iris_ds.drop(['class_id','class'],1), cat_attrs=[], y_true=iris_ds['class_id'])\n",
    "fm = fcai.FormalManager(mvcntx)"
   ]
  },
  {
   "cell_type": "code",
   "execution_count": 280,
   "metadata": {},
   "outputs": [
    {
     "data": {
      "application/vnd.jupyter.widget-view+json": {
       "model_id": "6bf37f1578a1474b9ebdf74941aa3e46",
       "version_major": 2,
       "version_minor": 0
      },
      "text/plain": [
       "HBox(children=(FloatProgress(value=0.0, description='Postprocessing', max=190.0, style=ProgressStyle(descripti…"
      ]
     },
     "metadata": {},
     "output_type": "display_data"
    },
    {
     "name": "stdout",
     "output_type": "stream",
     "text": [
      "\n"
     ]
    },
    {
     "data": {
      "application/vnd.jupyter.widget-view+json": {
       "model_id": "00a080cd3ab345ab9774ed9bb4bb46a0",
       "version_major": 2,
       "version_minor": 0
      },
      "text/plain": [
       "HBox(children=(FloatProgress(value=0.0, description='construct spanning tree', max=190.0, style=ProgressStyle(…"
      ]
     },
     "metadata": {},
     "output_type": "display_data"
    },
    {
     "name": "stdout",
     "output_type": "stream",
     "text": [
      "\n"
     ]
    }
   ],
   "source": [
    "fm.construct_concepts(algo='RandomForest', rf_params={'random_state':42})\n",
    "fm.construct_lattice(only_spanning_tree=True, use_tqdm=True,)"
   ]
  },
  {
   "cell_type": "code",
   "execution_count": 282,
   "metadata": {},
   "outputs": [
    {
     "data": {
      "text/plain": [
       "{0: [19],\n",
       " 1: [19],\n",
       " 2: [19],\n",
       " 3: [19],\n",
       " 4: [19],\n",
       " 5: [19],\n",
       " 6: [19],\n",
       " 7: [19],\n",
       " 8: [19],\n",
       " 9: [19],\n",
       " 10: [19],\n",
       " 11: [19],\n",
       " 12: [19],\n",
       " 13: [19],\n",
       " 14: [19],\n",
       " 15: [19],\n",
       " 16: [19],\n",
       " 17: [19],\n",
       " 18: [19],\n",
       " 19: [19],\n",
       " 20: [19],\n",
       " 21: [19],\n",
       " 22: [19],\n",
       " 23: [19],\n",
       " 24: [19],\n",
       " 25: [19],\n",
       " 26: [19],\n",
       " 27: [19],\n",
       " 28: [19],\n",
       " 29: [19],\n",
       " 30: [19],\n",
       " 31: [19],\n",
       " 32: [19],\n",
       " 33: [19],\n",
       " 34: [19],\n",
       " 35: [19],\n",
       " 36: [19],\n",
       " 37: [19],\n",
       " 38: [19],\n",
       " 39: [19],\n",
       " 40: [19],\n",
       " 41: [19],\n",
       " 42: [19],\n",
       " 43: [19],\n",
       " 44: [19],\n",
       " 45: [19],\n",
       " 46: [19],\n",
       " 47: [19],\n",
       " 48: [19],\n",
       " 49: [19],\n",
       " 50: [3, 11, 12, 16, 17, 18, 20, 26, 28, 31, 36, 37, 40, 41, 49],\n",
       " 51: [3, 11, 12, 16, 17, 18, 20, 26, 28, 31, 36, 37, 40, 41, 49],\n",
       " 52: [7,\n",
       "  11,\n",
       "  12,\n",
       "  16,\n",
       "  17,\n",
       "  18,\n",
       "  20,\n",
       "  23,\n",
       "  26,\n",
       "  31,\n",
       "  37,\n",
       "  41,\n",
       "  42,\n",
       "  47,\n",
       "  70,\n",
       "  71,\n",
       "  78,\n",
       "  89,\n",
       "  90,\n",
       "  92,\n",
       "  94,\n",
       "  95,\n",
       "  96,\n",
       "  109,\n",
       "  112,\n",
       "  115,\n",
       "  116,\n",
       "  117,\n",
       "  130,\n",
       "  132,\n",
       "  135,\n",
       "  152,\n",
       "  175,\n",
       "  177,\n",
       "  184],\n",
       " 53: [3, 11, 12, 16, 17, 18, 20, 26, 28, 31, 36, 37, 40, 41, 49],\n",
       " 54: [3, 11, 12, 16, 17, 18, 20, 26, 28, 31, 36, 37, 40, 41, 49],\n",
       " 55: [3, 11, 12, 16, 17, 18, 20, 26, 28, 31, 36, 37, 40, 41, 49],\n",
       " 56: [3, 11, 12, 16, 17, 18, 20, 28, 31, 36, 40, 41, 49, 128],\n",
       " 57: [3, 11, 16, 18, 20, 21, 26, 40, 103, 153, 185],\n",
       " 58: [3, 11, 12, 16, 17, 18, 20, 26, 28, 31, 36, 37, 40, 41, 49],\n",
       " 59: [3, 11, 12, 16, 17, 18, 20, 26, 28, 31, 36, 37, 40, 41, 49],\n",
       " 60: [3, 11, 12, 16, 17, 25, 26, 28, 37, 40, 44, 103, 151],\n",
       " 61: [3, 11, 12, 16, 17, 18, 20, 26, 28, 31, 36, 37, 40, 41, 49],\n",
       " 62: [3, 11, 12, 16, 17, 25, 26, 28, 36, 37, 40, 49, 151],\n",
       " 63: [3, 11, 12, 16, 17, 18, 20, 26, 28, 31, 36, 37, 40, 41, 49],\n",
       " 64: [3, 11, 12, 16, 17, 18, 20, 26, 28, 31, 36, 37, 40, 41, 49],\n",
       " 65: [3, 11, 12, 16, 17, 18, 20, 26, 28, 31, 36, 37, 40, 41, 49],\n",
       " 66: [3, 11, 12, 16, 17, 18, 20, 26, 28, 31, 36, 37, 40, 41, 49],\n",
       " 67: [3, 11, 12, 16, 17, 18, 20, 26, 28, 31, 36, 37, 40, 41, 49],\n",
       " 68: [3, 11, 12, 16, 17, 25, 26, 28, 36, 37, 40, 49, 151],\n",
       " 69: [3, 11, 12, 16, 17, 18, 20, 26, 28, 31, 36, 37, 40, 41, 49],\n",
       " 70: [2, 22, 28, 34, 55, 65, 122, 124, 146, 154, 159, 175, 186],\n",
       " 71: [3, 11, 12, 16, 17, 18, 20, 26, 28, 31, 36, 37, 40, 41, 49],\n",
       " 72: [7,\n",
       "  11,\n",
       "  12,\n",
       "  16,\n",
       "  17,\n",
       "  18,\n",
       "  20,\n",
       "  23,\n",
       "  26,\n",
       "  31,\n",
       "  37,\n",
       "  41,\n",
       "  42,\n",
       "  47,\n",
       "  64,\n",
       "  71,\n",
       "  73,\n",
       "  78,\n",
       "  79,\n",
       "  92,\n",
       "  94,\n",
       "  105,\n",
       "  108,\n",
       "  109,\n",
       "  110,\n",
       "  115,\n",
       "  127,\n",
       "  130,\n",
       "  137,\n",
       "  142,\n",
       "  152,\n",
       "  156,\n",
       "  187],\n",
       " 73: [3, 11, 12, 16, 17, 18, 20, 26, 28, 31, 36, 37, 40, 41, 49],\n",
       " 74: [3, 11, 12, 16, 17, 18, 20, 26, 28, 31, 36, 37, 40, 41, 49],\n",
       " 75: [3, 11, 12, 16, 17, 18, 20, 26, 28, 31, 36, 37, 40, 41, 49],\n",
       " 76: [2,\n",
       "  11,\n",
       "  12,\n",
       "  16,\n",
       "  17,\n",
       "  18,\n",
       "  20,\n",
       "  23,\n",
       "  26,\n",
       "  28,\n",
       "  31,\n",
       "  37,\n",
       "  38,\n",
       "  41,\n",
       "  64,\n",
       "  88,\n",
       "  90,\n",
       "  92,\n",
       "  95,\n",
       "  112,\n",
       "  115,\n",
       "  116,\n",
       "  122,\n",
       "  145,\n",
       "  152,\n",
       "  169],\n",
       " 77: [12,\n",
       "  17,\n",
       "  18,\n",
       "  20,\n",
       "  31,\n",
       "  32,\n",
       "  33,\n",
       "  41,\n",
       "  42,\n",
       "  47,\n",
       "  48,\n",
       "  50,\n",
       "  71,\n",
       "  79,\n",
       "  85,\n",
       "  92,\n",
       "  94,\n",
       "  95,\n",
       "  98,\n",
       "  101,\n",
       "  111,\n",
       "  117,\n",
       "  126,\n",
       "  132,\n",
       "  136,\n",
       "  147,\n",
       "  148,\n",
       "  155,\n",
       "  157,\n",
       "  161,\n",
       "  177,\n",
       "  188],\n",
       " 78: [3, 11, 12, 16, 17, 18, 20, 26, 28, 31, 36, 37, 40, 41, 49],\n",
       " 79: [3, 11, 12, 16, 17, 18, 20, 26, 28, 31, 36, 37, 40, 41, 49],\n",
       " 80: [3, 11, 12, 16, 17, 18, 20, 26, 28, 31, 36, 37, 40, 41, 49],\n",
       " 81: [3, 11, 12, 16, 17, 18, 20, 26, 28, 31, 36, 37, 40, 41, 49],\n",
       " 82: [3, 11, 12, 16, 17, 18, 20, 26, 28, 31, 36, 37, 40, 41, 49],\n",
       " 83: [11,\n",
       "  12,\n",
       "  16,\n",
       "  17,\n",
       "  18,\n",
       "  20,\n",
       "  32,\n",
       "  57,\n",
       "  71,\n",
       "  78,\n",
       "  87,\n",
       "  90,\n",
       "  94,\n",
       "  95,\n",
       "  98,\n",
       "  111,\n",
       "  116,\n",
       "  117,\n",
       "  120,\n",
       "  125,\n",
       "  136,\n",
       "  141,\n",
       "  142,\n",
       "  150,\n",
       "  158,\n",
       "  162,\n",
       "  165,\n",
       "  170,\n",
       "  189],\n",
       " 84: [3, 11, 12, 16, 17, 18, 20, 26, 28, 31, 36, 37, 40, 41, 49],\n",
       " 85: [3, 11, 12, 16, 17, 18, 20, 28, 31, 36, 40, 41, 49, 128],\n",
       " 86: [3, 11, 12, 16, 17, 18, 20, 26, 28, 31, 36, 37, 40, 41, 49],\n",
       " 87: [3, 11, 12, 16, 17, 18, 20, 26, 28, 31, 36, 37, 40, 41, 49],\n",
       " 88: [3, 11, 12, 16, 17, 18, 20, 26, 28, 31, 36, 37, 40, 41, 49],\n",
       " 89: [3, 11, 12, 16, 17, 18, 20, 26, 28, 31, 36, 37, 40, 41, 49],\n",
       " 90: [3, 11, 12, 16, 17, 18, 20, 26, 28, 31, 36, 37, 40, 41, 49],\n",
       " 91: [3, 11, 12, 16, 17, 18, 20, 26, 28, 31, 36, 37, 40, 41, 49],\n",
       " 92: [3, 11, 12, 16, 17, 18, 20, 26, 28, 31, 36, 37, 40, 41, 49],\n",
       " 93: [3, 11, 12, 16, 17, 18, 20, 26, 28, 31, 37, 40, 41, 44, 103],\n",
       " 94: [3, 11, 12, 16, 17, 18, 20, 26, 28, 31, 36, 37, 40, 41, 49],\n",
       " 95: [3, 11, 12, 16, 17, 18, 20, 26, 28, 31, 36, 37, 40, 41, 49],\n",
       " 96: [3, 11, 12, 16, 17, 18, 20, 26, 28, 31, 36, 37, 40, 41, 49],\n",
       " 97: [3, 11, 12, 16, 17, 18, 20, 26, 28, 31, 36, 37, 40, 41, 49],\n",
       " 98: [3, 11, 12, 16, 17, 18, 20, 26, 28, 31, 36, 37, 40, 41, 49],\n",
       " 99: [3, 11, 12, 16, 17, 18, 20, 26, 28, 31, 36, 37, 40, 41, 49],\n",
       " 100: [32, 42, 47, 48, 50, 52, 53],\n",
       " 101: [32, 48, 52, 57, 66, 67, 102, 125],\n",
       " 102: [32, 42, 47, 48, 50, 52, 53],\n",
       " 103: [32, 42, 47, 48, 50, 52, 53],\n",
       " 104: [32, 42, 47, 48, 50, 52, 53],\n",
       " 105: [32, 42, 47, 48, 50, 52, 53],\n",
       " 106: [3, 10, 18, 20, 21, 74, 84, 103, 106, 143, 153, 154, 155, 179],\n",
       " 107: [32, 42, 47, 48, 50, 52, 53],\n",
       " 108: [32, 42, 47, 48, 50, 52, 53],\n",
       " 109: [32, 42, 47, 48, 50, 52, 53],\n",
       " 110: [32, 42, 47, 48, 50, 52, 53],\n",
       " 111: [32, 42, 47, 48, 50, 52, 53],\n",
       " 112: [32, 42, 47, 48, 50, 52, 53],\n",
       " 113: [32, 33, 48, 51, 57, 66, 67, 84, 102, 107, 126, 148, 149],\n",
       " 114: [32, 48, 52, 57, 66, 67, 86, 102, 174],\n",
       " 115: [32, 42, 47, 48, 50, 52, 53],\n",
       " 116: [32, 42, 47, 48, 50, 52, 53],\n",
       " 117: [32, 42, 47, 48, 50, 52, 53],\n",
       " 118: [32, 42, 47, 48, 50, 52, 53],\n",
       " 119: [11,\n",
       "  12,\n",
       "  16,\n",
       "  17,\n",
       "  26,\n",
       "  33,\n",
       "  57,\n",
       "  76,\n",
       "  78,\n",
       "  98,\n",
       "  99,\n",
       "  107,\n",
       "  109,\n",
       "  111,\n",
       "  119,\n",
       "  126,\n",
       "  138,\n",
       "  139,\n",
       "  149,\n",
       "  150,\n",
       "  156,\n",
       "  157,\n",
       "  158,\n",
       "  163,\n",
       "  166,\n",
       "  180],\n",
       " 120: [32, 42, 47, 48, 50, 52, 53],\n",
       " 121: [7, 32, 39, 43, 57, 64, 66, 67, 73, 84, 102, 106, 107, 108, 159, 160],\n",
       " 122: [32, 42, 47, 48, 50, 52, 53],\n",
       " 123: [7,\n",
       "  32,\n",
       "  39,\n",
       "  42,\n",
       "  43,\n",
       "  47,\n",
       "  50,\n",
       "  64,\n",
       "  73,\n",
       "  83,\n",
       "  84,\n",
       "  106,\n",
       "  108,\n",
       "  123,\n",
       "  127,\n",
       "  130,\n",
       "  131],\n",
       " 124: [32, 42, 47, 48, 50, 52, 53],\n",
       " 125: [32, 42, 47, 48, 50, 52, 53],\n",
       " 126: [2, 22, 28, 34, 45, 50, 64, 83, 84, 106, 122, 123, 143, 145, 181],\n",
       " 127: [7,\n",
       "  32,\n",
       "  39,\n",
       "  42,\n",
       "  43,\n",
       "  50,\n",
       "  57,\n",
       "  58,\n",
       "  61,\n",
       "  67,\n",
       "  73,\n",
       "  101,\n",
       "  107,\n",
       "  108,\n",
       "  127,\n",
       "  146,\n",
       "  147,\n",
       "  160,\n",
       "  172],\n",
       " 128: [32, 42, 47, 48, 50, 52, 53],\n",
       " 129: [11,\n",
       "  12,\n",
       "  18,\n",
       "  32,\n",
       "  42,\n",
       "  47,\n",
       "  53,\n",
       "  71,\n",
       "  78,\n",
       "  81,\n",
       "  90,\n",
       "  112,\n",
       "  114,\n",
       "  132,\n",
       "  162,\n",
       "  164,\n",
       "  167,\n",
       "  182],\n",
       " 130: [32, 42, 47, 48, 50, 52, 53],\n",
       " 131: [32, 42, 47, 48, 50, 52, 53],\n",
       " 132: [32, 42, 47, 48, 50, 52, 53],\n",
       " 133: [11,\n",
       "  12,\n",
       "  16,\n",
       "  17,\n",
       "  18,\n",
       "  20,\n",
       "  26,\n",
       "  42,\n",
       "  47,\n",
       "  53,\n",
       "  71,\n",
       "  78,\n",
       "  90,\n",
       "  92,\n",
       "  94,\n",
       "  95,\n",
       "  98,\n",
       "  109,\n",
       "  111,\n",
       "  112,\n",
       "  115,\n",
       "  116,\n",
       "  117,\n",
       "  136,\n",
       "  140,\n",
       "  141,\n",
       "  163,\n",
       "  165,\n",
       "  168,\n",
       "  183],\n",
       " 134: [11,\n",
       "  12,\n",
       "  18,\n",
       "  20,\n",
       "  26,\n",
       "  42,\n",
       "  53,\n",
       "  57,\n",
       "  71,\n",
       "  98,\n",
       "  125,\n",
       "  141,\n",
       "  142,\n",
       "  166,\n",
       "  167,\n",
       "  168,\n",
       "  169,\n",
       "  170],\n",
       " 135: [32, 42, 47, 48, 50, 52, 53],\n",
       " 136: [32, 42, 47, 48, 50, 52, 53],\n",
       " 137: [32, 42, 47, 48, 50, 52, 53],\n",
       " 138: [2, 22, 28, 50, 58, 61, 67, 101, 122, 143, 145, 146, 147, 171, 172, 173],\n",
       " 139: [32, 42, 47, 48, 50, 52, 53],\n",
       " 140: [32, 42, 47, 48, 50, 52, 53],\n",
       " 141: [32, 42, 47, 48, 50, 52, 53],\n",
       " 142: [32, 48, 52, 57, 66, 67, 102, 125],\n",
       " 143: [32, 42, 47, 48, 50, 52, 53],\n",
       " 144: [32, 42, 47, 48, 50, 52, 53],\n",
       " 145: [32, 42, 47, 48, 50, 52, 53],\n",
       " 146: [32, 33, 42, 47, 48, 50, 51, 84, 126, 127, 148, 149],\n",
       " 147: [32, 42, 47, 48, 50, 52, 53],\n",
       " 148: [32, 42, 47, 48, 50, 52, 53],\n",
       " 149: [32, 48, 52, 57, 67, 86, 150, 174]}"
      ]
     },
     "execution_count": 282,
     "metadata": {},
     "output_type": "execute_result"
    }
   ],
   "source": [
    "fm.trace_context(mvcntx)[0]"
   ]
  },
  {
   "cell_type": "code",
   "execution_count": 283,
   "metadata": {},
   "outputs": [],
   "source": [
    "metric = ['prob_0','prob_1','prob_2']"
   ]
  },
  {
   "cell_type": "code",
   "execution_count": 288,
   "metadata": {},
   "outputs": [],
   "source": [
    "for c in fm.get_concepts():\n",
    "    for cl_id in range(3):\n",
    "        c._metrics[f'prob_{cl_id}'] = (iris_ds.loc[[str(g) for g in c.get_extent()], 'class_id'] ==cl_id).mean()\n",
    "    c._metrics['class_id'] = np.argmax([c._metrics[f\"prob_{cl_id}\"] for cl_id in range(3)])\n",
    "    c._metrics['class_prob'] = max([c._metrics[f\"prob_{cl_id}\"] for cl_id in range(3)])\n",
    "    c._metrics['class_name'] = iris_data['target_names'][c._metrics['class_id']]"
   ]
  },
  {
   "cell_type": "code",
   "execution_count": 289,
   "metadata": {},
   "outputs": [
    {
     "data": {
      "text/plain": [
       "matrix([[1.        , 0.        , 0.        ],\n",
       "        [1.        , 0.        , 0.        ],\n",
       "        [1.        , 0.        , 0.        ],\n",
       "        [1.        , 0.        , 0.        ],\n",
       "        [1.        , 0.        , 0.        ],\n",
       "        [1.        , 0.        , 0.        ],\n",
       "        [1.        , 0.        , 0.        ],\n",
       "        [1.        , 0.        , 0.        ],\n",
       "        [1.        , 0.        , 0.        ],\n",
       "        [1.        , 0.        , 0.        ],\n",
       "        [1.        , 0.        , 0.        ],\n",
       "        [1.        , 0.        , 0.        ],\n",
       "        [1.        , 0.        , 0.        ],\n",
       "        [1.        , 0.        , 0.        ],\n",
       "        [1.        , 0.        , 0.        ],\n",
       "        [1.        , 0.        , 0.        ],\n",
       "        [1.        , 0.        , 0.        ],\n",
       "        [1.        , 0.        , 0.        ],\n",
       "        [1.        , 0.        , 0.        ],\n",
       "        [1.        , 0.        , 0.        ],\n",
       "        [1.        , 0.        , 0.        ],\n",
       "        [1.        , 0.        , 0.        ],\n",
       "        [1.        , 0.        , 0.        ],\n",
       "        [1.        , 0.        , 0.        ],\n",
       "        [1.        , 0.        , 0.        ],\n",
       "        [1.        , 0.        , 0.        ],\n",
       "        [1.        , 0.        , 0.        ],\n",
       "        [1.        , 0.        , 0.        ],\n",
       "        [1.        , 0.        , 0.        ],\n",
       "        [1.        , 0.        , 0.        ],\n",
       "        [1.        , 0.        , 0.        ],\n",
       "        [1.        , 0.        , 0.        ],\n",
       "        [1.        , 0.        , 0.        ],\n",
       "        [1.        , 0.        , 0.        ],\n",
       "        [1.        , 0.        , 0.        ],\n",
       "        [1.        , 0.        , 0.        ],\n",
       "        [1.        , 0.        , 0.        ],\n",
       "        [1.        , 0.        , 0.        ],\n",
       "        [1.        , 0.        , 0.        ],\n",
       "        [1.        , 0.        , 0.        ],\n",
       "        [1.        , 0.        , 0.        ],\n",
       "        [1.        , 0.        , 0.        ],\n",
       "        [1.        , 0.        , 0.        ],\n",
       "        [1.        , 0.        , 0.        ],\n",
       "        [1.        , 0.        , 0.        ],\n",
       "        [1.        , 0.        , 0.        ],\n",
       "        [1.        , 0.        , 0.        ],\n",
       "        [1.        , 0.        , 0.        ],\n",
       "        [1.        , 0.        , 0.        ],\n",
       "        [1.        , 0.        , 0.        ],\n",
       "        [0.03508772, 0.92927151, 0.03564077],\n",
       "        [0.03508772, 0.92927151, 0.03564077],\n",
       "        [0.        , 0.7457624 , 0.2542376 ],\n",
       "        [0.03508772, 0.92927151, 0.03564077],\n",
       "        [0.03508772, 0.92927151, 0.03564077],\n",
       "        [0.03508772, 0.92927151, 0.03564077],\n",
       "        [0.03759398, 0.90487424, 0.05753177],\n",
       "        [0.04784689, 0.84829871, 0.1038544 ],\n",
       "        [0.03508772, 0.92927151, 0.03564077],\n",
       "        [0.03508772, 0.92927151, 0.03564077],\n",
       "        [0.04048583, 0.91180194, 0.04771223],\n",
       "        [0.03508772, 0.92927151, 0.03564077],\n",
       "        [0.04048583, 0.92932331, 0.03019086],\n",
       "        [0.03508772, 0.92927151, 0.03564077],\n",
       "        [0.03508772, 0.92927151, 0.03564077],\n",
       "        [0.03508772, 0.92927151, 0.03564077],\n",
       "        [0.03508772, 0.92927151, 0.03564077],\n",
       "        [0.03508772, 0.92927151, 0.03564077],\n",
       "        [0.04048583, 0.92932331, 0.03019086],\n",
       "        [0.03508772, 0.92927151, 0.03564077],\n",
       "        [0.03885004, 0.47270834, 0.48844162],\n",
       "        [0.03508772, 0.92927151, 0.03564077],\n",
       "        [0.        , 0.68461091, 0.31538909],\n",
       "        [0.03508772, 0.92927151, 0.03564077],\n",
       "        [0.03508772, 0.92927151, 0.03564077],\n",
       "        [0.03508772, 0.92927151, 0.03564077],\n",
       "        [0.01942502, 0.78943398, 0.191141  ],\n",
       "        [0.        , 0.56679667, 0.43320333],\n",
       "        [0.03508772, 0.92927151, 0.03564077],\n",
       "        [0.03508772, 0.92927151, 0.03564077],\n",
       "        [0.03508772, 0.92927151, 0.03564077],\n",
       "        [0.03508772, 0.92927151, 0.03564077],\n",
       "        [0.03508772, 0.92927151, 0.03564077],\n",
       "        [0.        , 0.61171849, 0.38828151],\n",
       "        [0.03508772, 0.92927151, 0.03564077],\n",
       "        [0.03759398, 0.90487424, 0.05753177],\n",
       "        [0.03508772, 0.92927151, 0.03564077],\n",
       "        [0.03508772, 0.92927151, 0.03564077],\n",
       "        [0.03508772, 0.92927151, 0.03564077],\n",
       "        [0.03508772, 0.92927151, 0.03564077],\n",
       "        [0.03508772, 0.92927151, 0.03564077],\n",
       "        [0.03508772, 0.92927151, 0.03564077],\n",
       "        [0.03508772, 0.92927151, 0.03564077],\n",
       "        [0.03508772, 0.91408633, 0.05082595],\n",
       "        [0.03508772, 0.92927151, 0.03564077],\n",
       "        [0.03508772, 0.92927151, 0.03564077],\n",
       "        [0.03508772, 0.92927151, 0.03564077],\n",
       "        [0.03508772, 0.92927151, 0.03564077],\n",
       "        [0.03508772, 0.92927151, 0.03564077],\n",
       "        [0.03508772, 0.92927151, 0.03564077],\n",
       "        [0.        , 0.03368667, 0.96631333],\n",
       "        [0.        , 0.06785856, 0.93214144],\n",
       "        [0.        , 0.03368667, 0.96631333],\n",
       "        [0.        , 0.03368667, 0.96631333],\n",
       "        [0.        , 0.03368667, 0.96631333],\n",
       "        [0.        , 0.03368667, 0.96631333],\n",
       "        [0.03759398, 0.46092976, 0.50147626],\n",
       "        [0.        , 0.03368667, 0.96631333],\n",
       "        [0.        , 0.03368667, 0.96631333],\n",
       "        [0.        , 0.03368667, 0.96631333],\n",
       "        [0.        , 0.03368667, 0.96631333],\n",
       "        [0.        , 0.03368667, 0.96631333],\n",
       "        [0.        , 0.03368667, 0.96631333],\n",
       "        [0.        , 0.07074462, 0.92925538],\n",
       "        [0.        , 0.05105946, 0.94894054],\n",
       "        [0.        , 0.03368667, 0.96631333],\n",
       "        [0.        , 0.03368667, 0.96631333],\n",
       "        [0.        , 0.03368667, 0.96631333],\n",
       "        [0.        , 0.03368667, 0.96631333],\n",
       "        [0.        , 0.39540252, 0.60459748],\n",
       "        [0.        , 0.03368667, 0.96631333],\n",
       "        [0.        , 0.15411304, 0.84588696],\n",
       "        [0.        , 0.03368667, 0.96631333],\n",
       "        [0.        , 0.17600472, 0.82399528],\n",
       "        [0.        , 0.03368667, 0.96631333],\n",
       "        [0.        , 0.03368667, 0.96631333],\n",
       "        [0.03367003, 0.19009903, 0.77623094],\n",
       "        [0.        , 0.17965021, 0.82034979],\n",
       "        [0.        , 0.03368667, 0.96631333],\n",
       "        [0.        , 0.39577771, 0.60422229],\n",
       "        [0.        , 0.03368667, 0.96631333],\n",
       "        [0.        , 0.03368667, 0.96631333],\n",
       "        [0.        , 0.03368667, 0.96631333],\n",
       "        [0.        , 0.54755987, 0.45244013],\n",
       "        [0.        , 0.44631252, 0.55368748],\n",
       "        [0.        , 0.03368667, 0.96631333],\n",
       "        [0.        , 0.03368667, 0.96631333],\n",
       "        [0.        , 0.03368667, 0.96631333],\n",
       "        [0.03156566, 0.2699643 , 0.69847004],\n",
       "        [0.        , 0.03368667, 0.96631333],\n",
       "        [0.        , 0.03368667, 0.96631333],\n",
       "        [0.        , 0.03368667, 0.96631333],\n",
       "        [0.        , 0.06785856, 0.93214144],\n",
       "        [0.        , 0.03368667, 0.96631333],\n",
       "        [0.        , 0.03368667, 0.96631333],\n",
       "        [0.        , 0.03368667, 0.96631333],\n",
       "        [0.        , 0.09271819, 0.90728181],\n",
       "        [0.        , 0.03368667, 0.96631333],\n",
       "        [0.        , 0.03368667, 0.96631333],\n",
       "        [0.        , 0.08348356, 0.91651644]])"
      ]
     },
     "execution_count": 289,
     "metadata": {},
     "output_type": "execute_result"
    }
   ],
   "source": [
    "fm.predict_context(mvcntx, metric)"
   ]
  }
 ],
 "metadata": {
  "kernelspec": {
   "display_name": "Python 3",
   "language": "python",
   "name": "python3"
  },
  "language_info": {
   "codemirror_mode": {
    "name": "ipython",
    "version": 3
   },
   "file_extension": ".py",
   "mimetype": "text/x-python",
   "name": "python",
   "nbconvert_exporter": "python",
   "pygments_lexer": "ipython3",
   "version": "3.7.6"
  }
 },
 "nbformat": 4,
 "nbformat_minor": 4
}
